{
 "cells": [
  {
   "cell_type": "code",
   "execution_count": 1,
   "id": "aa503af1-8bb5-427a-8241-06e28faa45f3",
   "metadata": {
    "tags": []
   },
   "outputs": [],
   "source": [
    "import numpy as np\n",
    "import pandas as pd\n",
    "import matplotlib.pyplot as plt\n",
    "import seaborn as sns\n",
    "import anndata as ad\n",
    "import scanpy as sc\n",
    "from scipy import stats\n",
    "import os\n",
    "\n",
    "from scipy import spatial\n",
    "from scipy import sparse\n",
    "from scipy.interpolate import CubicSpline\n",
    "from sklearn.decomposition import PCA\n",
    "from sklearn.cluster import KMeans\n",
    "from sklearn.neighbors import NearestNeighbors\n",
    "import networkx as nx\n",
    "from umap import UMAP\n",
    "\n",
    "import json"
   ]
  },
  {
   "cell_type": "code",
   "execution_count": 2,
   "id": "0f45245f-11c8-4e6e-b181-d2bf21e8c459",
   "metadata": {},
   "outputs": [],
   "source": [
    "import importlib\n",
    "\n",
    "from scroutines import powerplots\n",
    "from scroutines.miscu import is_in_polygon\n",
    "\n",
    "import sys\n",
    "sys.path.insert(0, '../analysis_merfish')\n",
    "import utils_merfish\n",
    "importlib.reload(utils_merfish)\n",
    "from utils_merfish import rot2d, st_scatter, st_scatter_ax, plot_cluster, binning\n",
    "from utils_merfish import RefLineSegs\n",
    "\n",
    "import merfish_datasets\n",
    "import merfish_genesets\n",
    "importlib.reload(merfish_datasets)\n",
    "from merfish_datasets import merfish_datasets\n",
    "from merfish_datasets import merfish_datasets_params\n",
    "\n",
    "from scroutines import basicu"
   ]
  },
  {
   "cell_type": "code",
   "execution_count": 3,
   "id": "5ee31c0c-9fc3-4bf8-a36e-1cdb4fe398dc",
   "metadata": {
    "tags": []
   },
   "outputs": [],
   "source": [
    "def get_qc_metrics(df):\n",
    "    \"\"\"\n",
    "    return metrics\n",
    "     - key\n",
    "      - (name, val, medval, bins)\n",
    "    \"\"\"\n",
    "    metrics = {}\n",
    "    cols  = ['volume', 'gncov', 'gnnum']\n",
    "    names = ['cell volume', 'num transcripts', 'num genes']\n",
    "    \n",
    "    for col, name in zip(cols, names):\n",
    "        val = df[col].values\n",
    "        medval = np.median(val)\n",
    "        bins = np.linspace(0, 10*medval, 50)\n",
    "        \n",
    "        metrics[col] = (name, val, medval, bins)\n",
    "    return metrics\n",
    "\n",
    "def get_norm_counts(adata, scaling=500):\n",
    "    \"\"\"norm - equalize the volume to be 500 for all cells\n",
    "    \"\"\"\n",
    "    cnts = adata.X\n",
    "    vol = adata.obs['volume'].values\n",
    "    normcnts = cnts/vol.reshape(-1,1)*scaling\n",
    "    adata.layers['norm'] = normcnts\n",
    "    \n",
    "    return normcnts"
   ]
  },
  {
   "cell_type": "code",
   "execution_count": 4,
   "id": "f966b334-541e-4e6a-a02b-99b26455e254",
   "metadata": {
    "tags": []
   },
   "outputs": [],
   "source": [
    "def get_largest_spatial_components(adata, k=100, dist_th=80):\n",
    "    \"\"\"\n",
    "    k - number of neighbors\n",
    "    dist_th - distance to call connected components\n",
    "    \n",
    "    returns\n",
    "        - indices of the largest components\n",
    "    \"\"\"\n",
    "    XY = adata.obs[['x', 'y']].values\n",
    "    nc = len(XY)\n",
    "\n",
    "    # kNN\n",
    "    nbrs = NearestNeighbors(n_neighbors=k, algorithm='auto').fit(XY)\n",
    "    distances, indices = nbrs.kneighbors(XY)\n",
    "\n",
    "    # filtered by distance th\n",
    "    val = distances[:,1:].reshape(-1,)\n",
    "    i = np.repeat(indices[:,0],k-1)\n",
    "    j = indices[:,1:].reshape(-1,)\n",
    "\n",
    "    indices_filtered = np.vstack([i[val < dist_th], j[val < dist_th]]).T\n",
    "\n",
    "    G = nx.Graph()\n",
    "    G.add_nodes_from(np.arange(nc))\n",
    "    G.add_edges_from(indices_filtered)\n",
    "    components = nx.connected_components(G)\n",
    "    largest_component = max(components, key=len)\n",
    "    indices_selected = np.array(list(largest_component))\n",
    "\n",
    "    print(f\"fraction of cells included: {len(largest_component)/nc: .2f}\" )\n",
    "    \n",
    "    return indices_selected, XY"
   ]
  },
  {
   "cell_type": "code",
   "execution_count": 5,
   "id": "8dcb3a41-6fed-4c27-a03a-3ac6508f4622",
   "metadata": {
    "tags": []
   },
   "outputs": [],
   "source": [
    "def preprocessing(adata):\n",
    "    # filter genes\n",
    "    cond = np.ravel((adata.X>0).sum(axis=0)) > 10 # expressed in more than 10 cells\n",
    "    adata_sub = adata[:,cond]\n",
    "\n",
    "    # counts\n",
    "    x = adata_sub.X\n",
    "    cov = adata_sub.obs['n_counts'].values\n",
    "\n",
    "    # CP10k\n",
    "    xn = (sparse.diags(1/cov).dot(x))*1e4\n",
    "\n",
    "    # log10(CP10k+1)\n",
    "    xln = xn.copy()\n",
    "    xln.data = np.log10(xln.data+1)\n",
    "\n",
    "    adata_sub.layers['norm'] = xn\n",
    "    adata_sub.layers['lognorm'] = xln\n",
    "    \n",
    "    return adata_sub"
   ]
  },
  {
   "cell_type": "code",
   "execution_count": 6,
   "id": "20587803-cca5-420c-bff7-f406cd91a6c6",
   "metadata": {
    "tags": []
   },
   "outputs": [],
   "source": [
    "def get_hvgs(adata, layer, nbin=20, qth=0.3):\n",
    "    \"\"\"\n",
    "    \"\"\"\n",
    "    xn = adata.layers[layer]\n",
    "    \n",
    "    # min\n",
    "    gm = np.ravel(xn.mean(axis=0))\n",
    "\n",
    "    # var\n",
    "    tmp = xn.copy()\n",
    "    tmp.data = np.power(tmp.data, 2)\n",
    "    gv = np.ravel(tmp.mean(axis=0))-gm**2\n",
    "\n",
    "    # cut \n",
    "    lbl = pd.qcut(gm, nbin, labels=np.arange(nbin))\n",
    "    gres = pd.DataFrame()\n",
    "    gres['lbl'] = lbl\n",
    "    gres['mean'] = gm\n",
    "    gres['var'] = gv\n",
    "    gres['ratio']= gv/gm\n",
    "\n",
    "    # select\n",
    "    gres_sel = gres.groupby('lbl')['ratio'].nlargest(int(qth*(len(gm)/nbin))) #.reset_index()\n",
    "    gsel_idx = np.sort(gres_sel.index.get_level_values(1).values)\n",
    "\n",
    "    assert np.all(gsel_idx != -1)\n",
    "    \n",
    "    return adata.var.index.values[gsel_idx]"
   ]
  },
  {
   "cell_type": "code",
   "execution_count": 7,
   "id": "17e57120-ac1f-4c1d-9d12-188855ef70f3",
   "metadata": {
    "tags": []
   },
   "outputs": [],
   "source": [
    "def neighbor_label_transfer(k, ref_emb, qry_emb, ref_lbl, p_cutoff=0.5, dist_cutoff=None):\n",
    "    \"\"\"ref vs qry neighbors\n",
    "    \"\"\"\n",
    "    unq_lbls = np.unique(ref_lbl).astype(str) # array(['L2/3_A', 'L2/3_B', 'L2/3_C'])\n",
    "    n_unq_lbls = len(unq_lbls)\n",
    "    ref_n = len(ref_emb)\n",
    "    qry_n = len(qry_emb)\n",
    "    \n",
    "    neigh = NearestNeighbors(n_neighbors=k) # , radius=0.4)\n",
    "    neigh.fit(ref_emb)\n",
    "    dists, idx = neigh.kneighbors(qry_emb, k, return_distance=True)\n",
    "    \n",
    "    raw_pred = ref_lbl[idx]\n",
    "\n",
    "    # p\n",
    "    pabc = np.empty((qry_n, n_unq_lbls))\n",
    "    for i, lbl in enumerate(unq_lbls):\n",
    "        p = np.sum(raw_pred==lbl, axis=1)/k\n",
    "        pabc[:,i] = p\n",
    "\n",
    "    # max\n",
    "    max_pred = unq_lbls[np.argmax(pabc, axis=1)]\n",
    "\n",
    "    # \n",
    "    gated_pred = max_pred.copy()\n",
    "    cond1 = np.max( pabc, axis=1) > p_cutoff\n",
    "    gated_pred[~cond1] = 'NA' \n",
    "    if dist_cutoff is not None:\n",
    "        cond2 = np.max(dists, axis=1) < dist_cutoff\n",
    "        gated_pred[~cond2] = 'NA' \n",
    "    \n",
    "    return max_pred, gated_pred, np.max(dists, axis=1)\n",
    "\n",
    "\n",
    "def neighbor_self_nonself(k, ref_emb, qry_emb):\n",
    "    \"\"\"ref vs qry neighbors\n",
    "    \"\"\"\n",
    "    unq_lbls = np.unique(ref_lbl).astype(str) # array(['L2/3_A', 'L2/3_B', 'L2/3_C'])\n",
    "    n_unq_lbls = len(unq_lbls)\n",
    "    ref_n = len(ref_emb)\n",
    "    qry_n = len(qry_emb)\n",
    "    lbls = np.array([0]*ref_n+[1]*qry_n)\n",
    "    \n",
    "    neigh = NearestNeighbors(n_neighbors=k) # , radius=0.4)\n",
    "    neigh.fit(np.vstack([ref_emb, qry_emb]))\n",
    "    idx = neigh.kneighbors(qry_emb, k, return_distance=False)\n",
    "    \n",
    "    isself = lbls[idx]\n",
    "\n",
    "    p = np.sum(isself, axis=1)/k\n",
    "\n",
    "    \n",
    "    return p # max_pred, gated_pred, np.max(dists, axis=1)"
   ]
  },
  {
   "cell_type": "code",
   "execution_count": 8,
   "id": "565b381d-c9fc-4728-8973-f57e7368890c",
   "metadata": {
    "tags": []
   },
   "outputs": [],
   "source": [
    "def groupby_pipe(adata, layer, bin_labels):\n",
    "    \"\"\"\n",
    "    \"\"\"\n",
    "    norm_ = pd.DataFrame(adata.layers[layer], columns=adata.var.index.values)\n",
    "    norm_['thebin'] = bin_labels \n",
    "    \n",
    "    norm_mean = norm_.groupby('thebin').mean(numeric_only=True)\n",
    "    norm_sem  = norm_.groupby('thebin').sem(numeric_only=True)\n",
    "    norm_std  = norm_.groupby('thebin').std(numeric_only=True)\n",
    "    norm_n    = norm_['thebin'].value_counts(sort=False)\n",
    "\n",
    "    return norm_mean, norm_sem, norm_std, norm_n\n",
    "\n",
    "def multi_groupby_pipe(adata, layer, bin_labels_matrix):\n",
    "    \"\"\"\n",
    "    \"\"\"\n",
    "    norm_ = pd.DataFrame(adata.layers[layer], columns=adata.var.index.values)\n",
    "    bin_labels_matrix = np.array(bin_labels_matrix)\n",
    "    assert bin_labels_matrix.ndim == 2\n",
    "    \n",
    "    groupby_keys = []\n",
    "    for i, bin_labels in enumerate(bin_labels_matrix):\n",
    "        norm_[f'thebin_{i}'] = bin_labels\n",
    "        groupby_keys.append(f'thebin_{i}')\n",
    "    \n",
    "    norm_mean = norm_.groupby(groupby_keys).mean(numeric_only=True)\n",
    "    norm_sem  = norm_.groupby(groupby_keys).sem(numeric_only=True)\n",
    "    norm_std  = norm_.groupby(groupby_keys).std(numeric_only=True)\n",
    "    norm_n    = norm_[groupby_keys].value_counts(sort=False)\n",
    "\n",
    "    return norm_mean, norm_sem, norm_std, norm_n\n",
    "\n",
    "def binning_pipe3(adata, layer, col_to_bin, bins=None, n=20):\n",
    "    \"\"\"\n",
    "    \"\"\"\n",
    "    if bins is None:\n",
    "        # bin it \n",
    "        bins, binned = utils_merfish.binning(adata.obs[col_to_bin].values, n)\n",
    "    else:\n",
    "        binned = pd.cut(adata.obs[col_to_bin].values, bins=bins)\n",
    "    norm_mean, norm_sem, norm_std, norm_n = groupby_pipe(adata, layer, binned)\n",
    "\n",
    "    return norm_mean, norm_sem, norm_std, norm_n, binned, bins "
   ]
  },
  {
   "cell_type": "markdown",
   "id": "948e0c4c-761e-4757-9027-2c6f309b4245",
   "metadata": {},
   "source": [
    "# load data and construct adata "
   ]
  },
  {
   "cell_type": "code",
   "execution_count": 9,
   "id": "1abfa400-a56a-4bdd-b61a-d962b03ae2b1",
   "metadata": {
    "tags": []
   },
   "outputs": [],
   "source": [
    "outdir     = \"/u/home/f/f7xiesnm/project-zipursky/v1-bb/v1/results_merfish/plots_240718\"\n",
    "outdatadir = \"/u/home/f/f7xiesnm/project-zipursky/v1-bb/v1/data/merfish/organized\"\n",
    "!mkdir -p $outdir\n",
    "!mkdir -p $outdatadir"
   ]
  },
  {
   "cell_type": "code",
   "execution_count": 10,
   "id": "57701882-adb2-4a77-89f8-22dfa598eb85",
   "metadata": {},
   "outputs": [
    {
     "name": "stdout",
     "output_type": "stream",
     "text": [
      "/u/home/f/f7xiesnm/project-zipursky/v1-bb/ms_reanalysis/241209\n"
     ]
    }
   ],
   "source": [
    "outfigdir = \"/u/home/f/f7xiesnm/project-zipursky/v1-bb/ms_reanalysis/241209\"\n",
    "!mkdir -p $outfigdir\n",
    "fig_manager = powerplots.FigManager(outfigdir)"
   ]
  },
  {
   "cell_type": "code",
   "execution_count": 11,
   "id": "39889430-5345-48d5-acb5-32a077eb6b85",
   "metadata": {},
   "outputs": [],
   "source": [
    "np.random.seed(0)"
   ]
  },
  {
   "cell_type": "code",
   "execution_count": 12,
   "id": "ff129958-78e6-411d-98e0-fbd137a8f6dc",
   "metadata": {
    "tags": []
   },
   "outputs": [
    {
     "name": "stdout",
     "output_type": "stream",
     "text": [
      "CPU times: user 1.38 s, sys: 4.47 s, total: 5.85 s\n",
      "Wall time: 28.4 s\n"
     ]
    },
    {
     "data": {
      "text/plain": [
       "View of AnnData object with n_obs × n_vars = 13213 × 53801\n",
       "    obs: 'Class_broad', 'Doublet', 'Doublet Score', 'batch', 'leiden', 'n_counts', 'n_genes', 'percent_mito', 'sample', 'Type', 'Subclass', 'cond'"
      ]
     },
     "execution_count": 12,
     "metadata": {},
     "output_type": "execute_result"
    }
   ],
   "source": [
    "%%time\n",
    "adata_raw = sc.read(\"../../data/cheng21_cell_scrna/reorganized/all_IT.h5ad\")\n",
    "adata_raw = adata_raw[adata_raw.obs['Subclass']=='L2/3']\n",
    "adata_raw = adata_raw[adata_raw.obs['cond'].isin(['P28NR','P28DR','P21NR'])]\n",
    "counts = adata_raw.X\n",
    "allgenes = adata_raw.var.index.values\n",
    "adata_raw"
   ]
  },
  {
   "cell_type": "code",
   "execution_count": 13,
   "id": "db863dc6-5adb-42d9-9222-45aae10c74e1",
   "metadata": {
    "tags": []
   },
   "outputs": [
    {
     "data": {
      "text/plain": [
       "AnnData object with n_obs × n_vars = 41048 × 7720\n",
       "    obs: 'Class_broad', 'Doublet', 'Doublet Score', 'batch', 'leiden', 'n_counts', 'n_genes', 'percent_mito', 'sample', 'Type', 'Subclass', 'cond', 'easitype'\n",
       "    obsm: 'pcs_p28on', 'pcs_p8'\n",
       "    layers: 'lognorm', 'norm', 'zlognorm'"
      ]
     },
     "execution_count": 13,
     "metadata": {},
     "output_type": "execute_result"
    }
   ],
   "source": [
    "adata_supp = sc.read(\"../../data/cheng21_cell_scrna/reorganized/all_L23_pcs_allsamples_250114.h5ad\")\n",
    "adata_supp"
   ]
  },
  {
   "cell_type": "code",
   "execution_count": 14,
   "id": "906bd7e4-7284-4bfc-9062-308a8e0486bb",
   "metadata": {
    "tags": []
   },
   "outputs": [],
   "source": [
    "adata_raw.obsm['pcs_p28on'] = adata_supp[adata_raw.obs.index].obsm['pcs_p28on']"
   ]
  },
  {
   "cell_type": "code",
   "execution_count": 15,
   "id": "b9dc8264-6d71-4206-ae25-bc2f26091f9d",
   "metadata": {
    "tags": []
   },
   "outputs": [
    {
     "data": {
      "text/plain": [
       "AnnData object with n_obs × n_vars = 13213 × 53801\n",
       "    obs: 'Class_broad', 'Doublet', 'Doublet Score', 'batch', 'leiden', 'n_counts', 'n_genes', 'percent_mito', 'sample', 'Type', 'Subclass', 'cond'\n",
       "    obsm: 'pcs_p28on'"
      ]
     },
     "execution_count": 15,
     "metadata": {},
     "output_type": "execute_result"
    }
   ],
   "source": [
    "adata_raw"
   ]
  },
  {
   "cell_type": "code",
   "execution_count": 16,
   "id": "db918f5d-3936-42ab-9a20-bb7c08b8a876",
   "metadata": {
    "tags": []
   },
   "outputs": [],
   "source": [
    "adata_raw.write(\"../../data/cheng21_cell_scrna/reorganized/L23_P21P28NRDR_250624.h5ad\")"
   ]
  },
  {
   "cell_type": "code",
   "execution_count": null,
   "id": "ad83a690-d409-49e0-b430-89ad5ac34905",
   "metadata": {},
   "outputs": [],
   "source": []
  }
 ],
 "metadata": {
  "kernelspec": {
   "display_name": "napari",
   "language": "python",
   "name": "napari"
  },
  "language_info": {
   "codemirror_mode": {
    "name": "ipython",
    "version": 3
   },
   "file_extension": ".py",
   "mimetype": "text/x-python",
   "name": "python",
   "nbconvert_exporter": "python",
   "pygments_lexer": "ipython3",
   "version": "3.9.16"
  }
 },
 "nbformat": 4,
 "nbformat_minor": 5
}
