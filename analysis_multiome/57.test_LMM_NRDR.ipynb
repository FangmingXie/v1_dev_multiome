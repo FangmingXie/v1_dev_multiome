{
 "cells": [
  {
   "cell_type": "code",
   "execution_count": null,
   "id": "30b97a56-8884-4718-a56d-fc8af8e882e7",
   "metadata": {},
   "outputs": [],
   "source": [
    "import pandas as pd\n",
    "import numpy as np\n",
    "import statsmodels.formula.api as smf\n",
    "from statsmodels.stats.multitest import multipletests\n",
    "import matplotlib.pyplot as plt\n",
    "import os\n",
    "\n",
    "import scanpy as sc\n",
    "import seaborn as sns\n",
    "\n",
    "from scroutines import basicu\n",
    "\n",
    "import warnings\n",
    "from statsmodels.tools.sm_exceptions import ConvergenceWarning\n",
    "from statsmodels.tools.sm_exceptions import ValueWarning\n",
    "from tqdm import tqdm\n",
    "\n",
    "\n",
    "import lmm"
   ]
  },
  {
   "cell_type": "code",
   "execution_count": null,
   "id": "73c49a5f-dcec-4483-8d8b-0221ec630727",
   "metadata": {
    "tags": []
   },
   "outputs": [],
   "source": [
    "outfigdir = '/u/home/f/f7xiesnm/project-zipursky/v1-bb/v1/results_nrdr_lmm'\n",
    "!mkdir $outfigdir"
   ]
  },
  {
   "cell_type": "code",
   "execution_count": null,
   "id": "7508e4b9-241a-42ea-9d4a-42d0a9220de0",
   "metadata": {
    "tags": []
   },
   "outputs": [],
   "source": [
    "sex_genes = [\n",
    "    \"Xist\",\n",
    "    \"Uty\",\n",
    "    \"Eif2s3y\",\n",
    "    \"Kdm5d\",\n",
    "    \"Ddx3y\",\n",
    "]\n",
    "\n",
    "f1 = '/u/home/f/f7xiesnm/project-zipursky/v1-bb/v1/data/v1_multiome/superdupermegaRNA_hasraw_multiome_l23.h5ad'\n",
    "# f2 = '/u/home/f/f7xiesnm/v1_multiome/multiome_cell_sex_assignment_saumya.csv'\n",
    "\n",
    "adata  = sc.read(f1)\n",
    "# df_sex = pd.read_csv(f2)\n",
    "# adata.obs = adata.obs.join(df_sex.set_index('cell'))\n",
    "adata.X = adata.raw.X\n",
    "adata = adata[:,~adata.var.index.str.contains(f'^mt')]\n",
    "adata = adata[:,[g for g in adata.var.index if g not in sex_genes]]\n",
    "\n",
    "genes = adata.var.index.values\n",
    "adata"
   ]
  },
  {
   "cell_type": "code",
   "execution_count": null,
   "id": "306da436-c271-45c7-9c27-44cfdae3c65b",
   "metadata": {
    "tags": []
   },
   "outputs": [],
   "source": [
    "%%time\n",
    "\n",
    "time = 'P21'\n",
    "exp_conds = [time, time+'DR']\n",
    "subclass  = 'L2/3'\n",
    "offset = 1e-2\n",
    "scale = 1e4\n",
    "\n",
    "adatasub = adata[(adata.obs['Age'].isin(exp_conds)) & (adata.obs['Subclass']==subclass)]\n",
    "\n",
    "# ### test\n",
    "# adatasub = adatasub[:,:20]\n",
    "# genes = genes[:20]\n",
    "# ### test\n",
    "\n",
    "obs_fixed = 'Age'\n",
    "obs_random = 'Sample'\n",
    "obs = adatasub.obs[[obs_fixed, obs_random]].copy()\n",
    "obs = obs.dropna()\n",
    "\n",
    "adatasub = adatasub[obs.index]\n",
    "\n",
    "output = os.path.join(outfigdir, f'NRDR_DEGs_LMM_{time}.csv')\n",
    "\n",
    "# mat\n",
    "mat = np.array(adatasub.X.todense())/adatasub.obs['total_counts'].values.reshape(-1,1)*scale\n",
    "\n",
    "df_res = lmm.run_lmm(mat, genes, obs, obs_fixed, obs_random, output=output, offset=offset)"
   ]
  },
  {
   "cell_type": "code",
   "execution_count": null,
   "id": "fbe03f28-4a09-45a8-b9a5-cf266c123bb8",
   "metadata": {},
   "outputs": [],
   "source": []
  },
  {
   "cell_type": "code",
   "execution_count": null,
   "id": "c0fdfbb4-4534-48a2-bec4-e08d17fa77c9",
   "metadata": {},
   "outputs": [],
   "source": [
    "df_res"
   ]
  },
  {
   "cell_type": "code",
   "execution_count": null,
   "id": "cde5433b-41fe-4645-8e96-b946298403d3",
   "metadata": {},
   "outputs": [],
   "source": []
  },
  {
   "cell_type": "code",
   "execution_count": null,
   "id": "d26521e5-3ed9-4f4b-ac7d-95cf6d3dc1e4",
   "metadata": {},
   "outputs": [],
   "source": []
  },
  {
   "cell_type": "code",
   "execution_count": null,
   "id": "c88a8fdc-33e3-409e-8154-b8d919a9d609",
   "metadata": {},
   "outputs": [],
   "source": [
    "df_res.set_index('gene').loc['Nptx2']"
   ]
  },
  {
   "cell_type": "code",
   "execution_count": null,
   "id": "cf191f31-ced9-4078-8e9b-4bef0e854dda",
   "metadata": {
    "tags": []
   },
   "outputs": [],
   "source": [
    "df_res.set_index('gene').loc['Igsf9b']"
   ]
  }
 ],
 "metadata": {
  "kernelspec": {
   "display_name": "Python 3 (ipykernel)",
   "language": "python",
   "name": "python3"
  },
  "language_info": {
   "codemirror_mode": {
    "name": "ipython",
    "version": 3
   },
   "file_extension": ".py",
   "mimetype": "text/x-python",
   "name": "python",
   "nbconvert_exporter": "python",
   "pygments_lexer": "ipython3",
   "version": "3.9.16"
  }
 },
 "nbformat": 4,
 "nbformat_minor": 5
}
