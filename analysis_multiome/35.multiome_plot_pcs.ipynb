{
 "cells": [
  {
   "cell_type": "code",
   "execution_count": null,
   "id": "bb214b6d-836a-49b8-93dd-a19f021215b7",
   "metadata": {
    "tags": []
   },
   "outputs": [],
   "source": [
    "import numpy as np\n",
    "import pandas as pd\n",
    "from scipy.stats import zscore\n",
    "from scipy import sparse \n",
    "from scipy.spatial import ConvexHull\n",
    "from sklearn.decomposition import PCA\n",
    "import matplotlib.pyplot as plt\n",
    "import seaborn as sns\n",
    "\n",
    "import scanpy as sc\n",
    "from py_pcha import PCHA"
   ]
  },
  {
   "cell_type": "code",
   "execution_count": null,
   "id": "f4954425-7161-4804-8f90-f12ea6b1979c",
   "metadata": {
    "tags": []
   },
   "outputs": [],
   "source": [
    "import os\n",
    "import numpy as np\n",
    "import pandas as pd\n",
    "import scanpy as sc\n",
    "import anndata \n",
    "import seaborn as sns\n",
    "from scipy.stats import zscore\n",
    "import matplotlib.pyplot as plt\n",
    "import collections\n",
    "from natsort import natsorted\n",
    "import re\n",
    "\n",
    "from scipy import stats\n",
    "from scipy import sparse\n",
    "from sklearn.decomposition import PCA\n",
    "from umap import UMAP\n",
    "\n",
    "from matplotlib.colors import LinearSegmentedColormap\n",
    "\n",
    "from scroutines.config_plots import *\n",
    "from scroutines import powerplots # .config_plots import *\n",
    "from scroutines import pnmf\n",
    "from scroutines import basicu\n",
    "from scroutines.gene_modules import GeneModules  \n"
   ]
  },
  {
   "cell_type": "code",
   "execution_count": null,
   "id": "2049f5e8-35f0-4169-836f-262a1b9cb447",
   "metadata": {
    "tags": []
   },
   "outputs": [],
   "source": [
    "from scipy import stats\n",
    "from matplotlib.ticker import MaxNLocator\n",
    "\n",
    "def plot(x, y, aspect_equal=False, density=False, hue='type'):\n",
    "    n = len(cases)\n",
    "    fig, axs = plt.subplots(1,n,figsize=(4*n,4*1), sharex=True, sharey=True)\n",
    "    for i, (ax, cond) in enumerate(zip(axs.flat, cases)):\n",
    "        ax.set_title(cond)\n",
    "        sns.scatterplot(data=res, \n",
    "                        x=x, y=y, \n",
    "                        c='lightgray',\n",
    "                        s=1, edgecolor='none', \n",
    "                        legend=False,\n",
    "                        ax=ax,\n",
    "                        rasterized=True,\n",
    "                       )\n",
    "        if hue == 'type':\n",
    "            sns.scatterplot(data=res[res['cond']==cond].sample(frac=1, replace=False),\n",
    "                            x=x, y=y, \n",
    "                            hue='type',\n",
    "                            hue_order=list(palette_types.keys()),\n",
    "                            palette=palette_types,\n",
    "                            s=3, edgecolor='none', \n",
    "                            legend=False,\n",
    "                            ax=ax,\n",
    "                            rasterized=True,\n",
    "                           )\n",
    "        else:\n",
    "            sns.scatterplot(data=res[res['cond']==cond].sample(frac=1, replace=False),\n",
    "                            x=x, y=y, \n",
    "                            hue='rep',\n",
    "                            # hue_order=list(palette_types.keys()),\n",
    "                            # palette=palette_types,\n",
    "                            s=3, edgecolor='none', \n",
    "                            legend=False,\n",
    "                            ax=ax,\n",
    "                            rasterized=True,\n",
    "                           )\n",
    "            \n",
    "        if density:\n",
    "            sns.histplot(data=res[res['cond']==cond],\n",
    "                            x=x, y=y, \n",
    "                            legend=False,\n",
    "                            ax=ax,\n",
    "                            rasterized=True,\n",
    "                           )\n",
    "        sns.despine(ax=ax)\n",
    "        ax.xaxis.set_major_locator(MaxNLocator(nbins=3))\n",
    "        ax.yaxis.set_major_locator(MaxNLocator(nbins=3))\n",
    "        if aspect_equal:\n",
    "            ax.set_aspect('equal')\n",
    "        if i > 0:\n",
    "            ax.set_xlabel('')\n",
    "            ax.set_ylabel('')\n",
    "    return fig\n",
    "    # plt.show()\n",
    "    \n",
    "def plot2(x, y, hue=None, aspect_equal=False, s=10, vmin=-2.5, vmax=2.5, vminp=None, vmaxp=None, cmap='coolwarm'):\n",
    "    n = len(cases)\n",
    "    fig, axs = plt.subplots(1,n,figsize=(4*n,4*1), sharex=True, sharey=True)\n",
    "    fig.suptitle(hue, x=0, ha='left')\n",
    "    for i, (ax, cond) in enumerate(zip(axs.flat, cases)):\n",
    "        ax.set_title(cond)\n",
    "        show = res[res['cond']==cond]\n",
    "        \n",
    "        if vminp is not None:\n",
    "            vmin = np.percentile(show[hue], vminp)\n",
    "        if vmaxp is not None:\n",
    "            vmax = np.percentile(show[hue], vmaxp)\n",
    "            \n",
    "        if hue:\n",
    "            # order = np.argsort(show[hue].values)\n",
    "            ax.scatter(\n",
    "                       # show[x].iloc[order], show[y].iloc[order], c=show[hue].iloc[order], \n",
    "                       show[x], show[y], c=show[hue], \n",
    "                       cmap=cmap,\n",
    "                       vmin=vmin, vmax=vmax,\n",
    "                       s=s, \n",
    "                       edgecolor='none', \n",
    "                       rasterized=True,\n",
    "                      )\n",
    "        else:\n",
    "            r, p = stats.spearmanr(show[x], show[y])\n",
    "            ax.scatter(show[x], show[y],  \n",
    "                       s=s, \n",
    "                       edgecolor='none', \n",
    "                       rasterized=True,\n",
    "                      )\n",
    "            ax.set_title(f'{cond}\\n r={r:.2f}')\n",
    "        sns.despine(ax=ax)\n",
    "        ax.xaxis.set_major_locator(MaxNLocator(nbins=3))\n",
    "        ax.yaxis.set_major_locator(MaxNLocator(nbins=3))\n",
    "        if aspect_equal:\n",
    "            ax.set_aspect('equal')\n",
    "        if i == 0: \n",
    "            ax.set_xlabel(x)\n",
    "            ax.set_ylabel(y)\n",
    "        else:\n",
    "            ax.set_xlabel('')\n",
    "            ax.set_ylabel('')\n",
    "        ax.grid(False)\n",
    "        ax.set_xticks([])\n",
    "        ax.set_yticks([])\n",
    "    fig.tight_layout()\n",
    "    \n",
    "    return fig\n",
    "    # plt.show()"
   ]
  },
  {
   "cell_type": "code",
   "execution_count": null,
   "id": "8f228de5",
   "metadata": {
    "tags": []
   },
   "outputs": [],
   "source": [
    "import numpy as np\n",
    "import pandas as pd\n",
    "from scipy.stats import zscore\n",
    "from scipy import sparse \n",
    "from scipy.spatial import ConvexHull\n",
    "from sklearn.decomposition import PCA\n",
    "import matplotlib.pyplot as plt\n",
    "import seaborn as sns\n",
    "\n",
    "import scanpy as sc\n",
    "from py_pcha import PCHA\n",
    "\n",
    "from scipy.stats import gaussian_kde"
   ]
  },
  {
   "cell_type": "code",
   "execution_count": null,
   "id": "a769b1fc-3263-4b6d-9ee4-669ddf46a427",
   "metadata": {
    "tags": []
   },
   "outputs": [],
   "source": [
    "def norm(x, depths):\n",
    "    \"\"\"\n",
    "    Arguments: \n",
    "        x - cell by gene count matrix\n",
    "        depths - sequencing depth per cell\n",
    "        \n",
    "    Output:\n",
    "        xn - normalized count matrix\n",
    "\n",
    "    This function takes raw counts as the input, and does the following steps sequencially.\n",
    "         1. size normalization (CP10k) \n",
    "         2. log1p normalization (base 2 - log2(1+CP10k))\n",
    "         3. zscore per gene  \n",
    "    \"\"\"\n",
    "\n",
    "    xn = x/depths.reshape(-1,1)*1e4\n",
    "    xn = np.log2(1+xn)\n",
    "    xn = zscore(xn, axis=0)\n",
    "\n",
    "    if np.any(np.isnan(xn)):\n",
    "        print('Warning: the normalized matrix contains nan values. Check input.')\n",
    "        xn = np.nan_to_num(xn, 0)\n",
    "\n",
    "    return xn"
   ]
  },
  {
   "cell_type": "code",
   "execution_count": null,
   "id": "cd651632-9630-47f9-8fd6-0109d9a1a41d",
   "metadata": {
    "tags": []
   },
   "outputs": [],
   "source": [
    "def proj(x_norm, ndim, method='PCA'):\n",
    "    \"\"\"\n",
    "    Arguments: \n",
    "        x_norm - normalized cell by gene feature matrix\n",
    "        ndim   - number of dimensions\n",
    "\n",
    "    Output:\n",
    "        x_proj - a low-dimensional representation of `x_norm` \n",
    "\n",
    "    Here we only implemented PCA - a common projection method widely used, including by\n",
    "    Adler et al. 2019 and Xie et al. 2024 for the Achetypal Analysis of scRNA-seq data.\n",
    "\n",
    "    In principle, one can also choose to use other projection methods as needed.\n",
    "    \"\"\"\n",
    "\n",
    "    if method == 'PCA':\n",
    "        x_proj = PCA(n_components=ndim).fit_transform(x_norm)\n",
    "    else:\n",
    "        raise ValueError('methods other than PCA are not implemented...')\n",
    "\n",
    "    return x_proj\n"
   ]
  },
  {
   "cell_type": "code",
   "execution_count": null,
   "id": "517be85e-34d2-4bf1-8dc0-0432c091621e",
   "metadata": {
    "tags": []
   },
   "outputs": [],
   "source": [
    "def pcha(X, noc=3, delta=0, **kwargs):\n",
    "    \"\"\"\n",
    "    \"\"\"\n",
    "    XC, S, C, SSE, varexpl = PCHA(X, noc=noc, delta=delta, **kwargs)\n",
    "    XC = np.array(XC)\n",
    "    XC = XC[:,np.argsort(XC[0])] # assign an order according to x-axis \n",
    "    return XC "
   ]
  },
  {
   "cell_type": "code",
   "execution_count": null,
   "id": "ffcd1a0b-f922-41c1-afe6-bbe4d4bbc165",
   "metadata": {
    "tags": []
   },
   "outputs": [],
   "source": [
    "def downsamp(x, which='cell', p=0.8, seed=None):\n",
    "    \"\"\"\n",
    "    Arguments:\n",
    "        x - cell by gene matrix\n",
    "        which - downsample cells (rows) or genes (columns)\n",
    "        p - fraction of cells/genes to keep - should be a value between ~ [0,1]\n",
    "    \"\"\"\n",
    "    n0, n1 = x.shape\n",
    "    \n",
    "    rng = np.random.default_rng(seed=seed)\n",
    "    \n",
    "    if which in [0, 'cell', 'row']:\n",
    "        return x[rng.random(n0)<p, :]\n",
    "    elif which in [1, 'gene', 'col', 'column']:\n",
    "        return x[:, rng.random(n1)<p]\n",
    "    else:\n",
    "        raise ValueError('choose from cell or gene')"
   ]
  },
  {
   "cell_type": "code",
   "execution_count": null,
   "id": "dfcbdf89-a23b-4cdf-9916-f3fbf5f8f265",
   "metadata": {
    "tags": []
   },
   "outputs": [],
   "source": [
    "def shuffle_rows_per_col(x, seed=None):\n",
    "    \"\"\"\n",
    "    Arguments:\n",
    "       x - cell by gene matrix\n",
    "       seed - a random seed for reproducibility\n",
    "    \n",
    "    shuffles entries across rows (cells) independently for each col (gene)\n",
    "    \"\"\"\n",
    "    rng = np.random.default_rng(seed=seed)\n",
    "    x_shuff = rng.permuted(x, axis=0)\n",
    "    return x_shuff"
   ]
  },
  {
   "cell_type": "code",
   "execution_count": null,
   "id": "bd93c7c7-4d19-4da5-bc1a-a4b4419bc63b",
   "metadata": {},
   "outputs": [],
   "source": [
    "def plot_archetype(ax, aa, fmt='--o', color='k', **kwargs):\n",
    "    \"\"\"\n",
    "    \"\"\"\n",
    "    ax.plot(aa[0].tolist()+[aa[0,0]], aa[1].tolist()+[aa[1,0]], fmt, color=color, **kwargs)"
   ]
  },
  {
   "cell_type": "code",
   "execution_count": null,
   "id": "093e1be5-6411-4908-a79a-29c7cfc337d7",
   "metadata": {
    "tags": []
   },
   "outputs": [],
   "source": [
    "def get_t_ratio(xp, aa):\n",
    "    \"\"\"\n",
    "    Arguments:\n",
    "     xp -- projected matrix (cell by 2)\n",
    "     aa -- inferred archetypes (2 by noc)\n",
    "     note that this function only works for 2-dimensional space only\n",
    "     \n",
    "    Return: \n",
    "     t-ratio - ratio of areas (convex hull vs PCH)\n",
    "     \n",
    "    \"\"\"\n",
    "    assert xp.shape[1] == aa.shape[0] == 2\n",
    "    \n",
    "    ch_area  = ConvexHull(xp).volume\n",
    "   \n",
    "    x = aa[0]\n",
    "    y = aa[1]\n",
    "    pch_area = 0.5*np.abs(np.dot(x,np.roll(y,1))-np.dot(y,np.roll(x,1)))\n",
    "\n",
    "    return ch_area/pch_area "
   ]
  },
  {
   "cell_type": "code",
   "execution_count": null,
   "id": "1984734f-c891-4feb-a210-0073ae0897e7",
   "metadata": {
    "tags": []
   },
   "outputs": [],
   "source": [
    "class SingleCellArchetype():\n",
    "    \"\"\"\n",
    "    \"\"\"\n",
    "    def __init__(self, x, depths, types):\n",
    "        \"\"\"\n",
    "        Arguments: \n",
    "            x - cell by gene count matrix\n",
    "            depths - sequencing depth per cell\n",
    "            types  - cell type labels per cell\n",
    "        \n",
    "        Initiate the SingleCellArchetype object\n",
    "\n",
    "        \"\"\"\n",
    "        \n",
    "        # input\n",
    "        self.x = x\n",
    "        self.depths = depths\n",
    "        self.types = types\n",
    "        \n",
    "        # cell type label\n",
    "        types_idx, types_lbl = pd.factorize(types, sort=True)\n",
    "        \n",
    "        self.types_idx = types_idx\n",
    "        self.types_lbl = types_lbl \n",
    "        \n",
    "        # normalize\n",
    "        self.xn = norm(self.x, self.depths)\n",
    "        \n",
    "        # feature matrix \n",
    "        self.xf = None \n",
    "        return \n",
    "        \n",
    "    def setup_feature_matrix(self, method='data'):\n",
    "        \"\"\"\n",
    "        \"\"\"\n",
    "        if method == 'data': \n",
    "            self.xf = self.xn\n",
    "            print('use data')\n",
    "            return  \n",
    "        \n",
    "        elif method == 'gshuff':\n",
    "            # shuffle gene expression globally across all cells\n",
    "            self.xf = shuffle_rows_per_col(self.xn)\n",
    "            print('use shuffled data')\n",
    "            return\n",
    "            \n",
    "        elif method == 'tshuff':\n",
    "            # shuff each gene across cells independently - internally for each type A,B,C\n",
    "            xn = self.xn\n",
    "            xn_tshuff = xn.copy()\n",
    "            \n",
    "            types_lbl = self.types_lbl\n",
    "            types_idx = self.types_idx\n",
    "            for i in range(len(types_lbl)):\n",
    "                xn_tshuff[types_idx==i] = shuffle_rows_per_col(xn[types_idx==i])\n",
    "            self.xf = xn_tshuff\n",
    "            print('use per-type shuffled data')\n",
    "            return\n",
    "        else:\n",
    "            raise ValueError('choose from (data, gshuff, tshuff)')\n",
    "    \n",
    "    def proj_and_pcha(self, ndim, noc, **kwargs):\n",
    "        \"\"\"\n",
    "        \"\"\"\n",
    "        xp = proj(self.xf, ndim)\n",
    "        aa = pcha(xp.T, noc=noc, **kwargs)\n",
    "        \n",
    "        self.xp = xp\n",
    "        self.aa = aa\n",
    "        return (xp, aa)\n",
    "        \n",
    "    def downsamp_proj_pcha(self, ndim, noc, nrepeats=10, which='cell', p=0.8, **kwargs): \n",
    "        \"\"\"\n",
    "        \"\"\"\n",
    "        aa_dsamps = []\n",
    "        for i in range(nrepeats):\n",
    "            xn_dsamp = downsamp(self.xf, which=which, p=p)\n",
    "            xp_dsamp = proj(xn_dsamp, ndim)\n",
    "            aa_dsamp = pcha(xp_dsamp.T, noc=noc, **kwargs)\n",
    "            aa_dsamps.append(aa_dsamp)\n",
    "            \n",
    "        return aa_dsamps\n",
    "    \n",
    "    def t_ratio_test(self, ndim, noc, nrepeats=10, **kwargs): \n",
    "        \"\"\"\n",
    "        this only work for 2-dimensional space for now\n",
    "        \"\"\"\n",
    "        assert ndim == 2\n",
    "        \n",
    "        self.setup_feature_matrix(method='data')\n",
    "        xp, aa = self.proj_and_pcha(ndim, noc)\n",
    "        t_ratio = get_t_ratio(xp, aa)\n",
    "        \n",
    "        t_ratios_shuff = []\n",
    "        for i in range(nrepeats):\n",
    "            self.setup_feature_matrix(method='gshuff')\n",
    "            xp_shuff, aa_shuff = self.proj_and_pcha(ndim, noc)\n",
    "            t_ratio_shuff = get_t_ratio(xp_shuff, aa_shuff)\n",
    "            t_ratios_shuff.append(t_ratio_shuff)\n",
    "            \n",
    "        pvalue = (np.sum(t_ratio > t_ratios_shuff)+1)/nrepeats\n",
    "        \n",
    "        return t_ratio, t_ratios_shuff, pvalue"
   ]
  },
  {
   "cell_type": "code",
   "execution_count": null,
   "id": "f45abc88-0cbc-4575-8035-9cb157c42bc2",
   "metadata": {},
   "outputs": [],
   "source": [
    "outdirfig = \"/u/home/f/f7xiesnm/project-zipursky/v1-bb/v1/figures/250407\"\n",
    "!mkdir -p $outdirfig"
   ]
  },
  {
   "cell_type": "markdown",
   "id": "ba1f61ee-ba83-4707-816d-37eb33a54b83",
   "metadata": {},
   "source": [
    "# load gene annotation"
   ]
  },
  {
   "cell_type": "code",
   "execution_count": null,
   "id": "516a31fc-2fa7-4aac-a175-0b1620a671c6",
   "metadata": {
    "tags": []
   },
   "outputs": [],
   "source": [
    "gene_modules = GeneModules()\n",
    "anno, color, gene_styled = gene_modules.check_genes('Cdh13')\n",
    "print(\"\\t\".join(anno))\n",
    "print(\"\\t\".join(color))\n",
    "print(\"\\t\".join(gene_styled))"
   ]
  },
  {
   "cell_type": "code",
   "execution_count": null,
   "id": "fb72ade4-5ddd-4d8d-9d66-847375e16845",
   "metadata": {},
   "outputs": [],
   "source": [
    "# use those 286 genes\n",
    "df = pd.read_csv(\"../../data/cheng21_cell_scrna/res/L23-ABC-genes-n288-n286unq-annot.csv\")\n",
    "genes_l23 = df['gene'].astype(str).values\n",
    "genes_l23a = df[df['P17on']=='A']['gene'].astype(str).values\n",
    "genes_l23b = df[df['P17on']=='B']['gene'].astype(str).values\n",
    "genes_l23c = df[df['P17on']=='C']['gene'].astype(str).values\n",
    "\n",
    "print(genes_l23a.shape, genes_l23b.shape, genes_l23c.shape)\n",
    "genes_grp = df['P17on'].astype(str).values\n",
    "assert len(genes_l23) == len(np.unique(genes_l23))\n",
    "\n",
    "genes_l23.shape"
   ]
  },
  {
   "cell_type": "code",
   "execution_count": null,
   "id": "86150786-4c20-40a5-8e56-fa1b7e5e688c",
   "metadata": {
    "tags": []
   },
   "outputs": [],
   "source": [
    "scores_abc = pd.read_csv(\"/u/home/f/f7xiesnm/project-zipursky/v1-bb/v1/data/v1_multiome/scores_l23abc.csv\", index_col=0)\n",
    "scores_abc"
   ]
  },
  {
   "cell_type": "markdown",
   "id": "3b3e075a-5d66-4efb-8b6c-dd37a3ac26eb",
   "metadata": {},
   "source": [
    "# load data "
   ]
  },
  {
   "cell_type": "code",
   "execution_count": null,
   "id": "8542eec8-b8e1-4a35-9237-0d3c0043349b",
   "metadata": {},
   "outputs": [],
   "source": [
    "# f_anndata_in  = \"../../data/v1_multiome/superdupermegaRNA_hasraw_multiome_l23.h5ad\"# _multiome_l23.h5ad\"#  L23_allmultiome_raw.h5ad\"\n",
    "f_anndata_in  = \"../../data/v1_multiome/L23_allmultiome_raw.h5ad\"\n",
    "adata = anndata.read(f_anndata_in)\n",
    "adata"
   ]
  },
  {
   "cell_type": "code",
   "execution_count": null,
   "id": "c715643c-0748-414c-b477-4294cb85b5cc",
   "metadata": {
    "tags": []
   },
   "outputs": [],
   "source": [
    "sample_labels = [\"-\".join(cell.split(' ')[0].split('-')[2:]).replace('-2023', '') for cell in adata.obs.index]\n",
    "time_labels = [s[:-1].replace('DR', '') for s in sample_labels]\n",
    "\n",
    "adata.obs['n_counts'] = adata.obs['nCount_RNA']\n",
    "adata.obs['sample'] = sample_labels\n",
    "adata.obs['time']   = time_labels\n",
    "\n",
    "uniq_samples = natsorted(np.unique(sample_labels))\n",
    "uniq_times = natsorted(np.unique(time_labels))\n",
    "\n",
    "nr_samples = [s for s in uniq_samples if \"DR\" not in s]\n",
    "dr_samples = [s for s in uniq_samples if \"DR\" in s]\n",
    "print(uniq_times)\n",
    "print(nr_samples)\n",
    "print(dr_samples)\n",
    "\n",
    "# adata.obs['sample'] = sample_labels"
   ]
  },
  {
   "cell_type": "code",
   "execution_count": null,
   "id": "4d9ae16c-9107-4acd-8405-fbcd84bd8e0d",
   "metadata": {
    "tags": []
   },
   "outputs": [],
   "source": [
    "# select samples\n",
    "adata.obs['cond'] = adata.obs['sample'].apply(lambda x: x[:-1]) # .unique()\n",
    "\n",
    "# # remove mitocondria genes\n",
    "# adata = adata[:,~adata.var['features'].str.contains(r'^mt-')]\n",
    "# adata = adata[:,~adata.var['features'].str.contains(r'Xist')]\n",
    "\n",
    "# # select\n",
    "# adata.obs['sample'].unique(), adata.obs['cond'].unique()"
   ]
  },
  {
   "cell_type": "code",
   "execution_count": null,
   "id": "0cd5bbfb-dba0-4c6d-8f8d-1223044a44be",
   "metadata": {
    "tags": []
   },
   "outputs": [],
   "source": [
    "f_in1 = \"../../data/v1_multiome/L23_allmultiome_raw_pca_early.npy\"\n",
    "f_in2 = \"../../data/v1_multiome/L23_allmultiome_raw_pca_later.npy\"\n",
    "f_in3 = \"../../data/v1_multiome/L23_allmultiome_raw_pca_all.npy\"\n",
    "\n",
    "pcs_early = np.load(f_in1)\n",
    "pcs_later = np.load(f_in2)\n",
    "pcs_all   = np.load(f_in3)"
   ]
  },
  {
   "cell_type": "code",
   "execution_count": null,
   "id": "4a964b32-7a9b-405a-b647-214e4876f138",
   "metadata": {
    "tags": []
   },
   "outputs": [],
   "source": []
  },
  {
   "cell_type": "code",
   "execution_count": null,
   "id": "f7cc01cc-4e30-4d1d-a2fa-5ab21b690bf6",
   "metadata": {},
   "outputs": [],
   "source": []
  },
  {
   "cell_type": "code",
   "execution_count": null,
   "id": "1b906097-47c0-48f0-858e-52c2a6548a79",
   "metadata": {},
   "outputs": [],
   "source": []
  },
  {
   "cell_type": "markdown",
   "id": "1c80dd9e-8d0b-4822-8943-5f938ab39c1e",
   "metadata": {},
   "source": [
    "# set up for plotting"
   ]
  },
  {
   "cell_type": "code",
   "execution_count": null,
   "id": "2710199e-e053-41b4-9838-dc1f261e1b22",
   "metadata": {
    "tags": []
   },
   "outputs": [],
   "source": [
    "# res0 = pd.DataFrame(adata.layers['zlognorm'][...], columns=genes)\n",
    "res0 = pd.DataFrame() \n",
    "res0['cond'] = adata.obs['cond'].values\n",
    "res0['type'] = np.char.add('c', adata.obs['Type'].values.astype(str))\n",
    "res0['samp'] = adata.obs['sample'].values\n",
    "res0['rep']  = res0['samp'].apply(lambda x: x[-1])\n",
    "\n",
    "res1 = pd.DataFrame(pcs_early, columns=np.char.add(\"pcs_early\", ((1+np.arange(pcs_early.shape[1])).astype(str))))\n",
    "res2 = pd.DataFrame(pcs_later, columns=np.char.add(\"pcs_later\", ((1+np.arange(pcs_later.shape[1])).astype(str))))\n",
    "res3 = pd.DataFrame(pcs_all  , columns=np.char.add(\"pcs_all\",   ((1+np.arange(pcs_all.shape[1])).astype(str))))\n",
    "\n",
    "res5 = scores_abc.reindex(adata.obs.index.values).reset_index().drop('cond', axis=1)\n",
    "res = pd.concat([res0, res1, res2, res3, res5], axis=1)"
   ]
  },
  {
   "cell_type": "code",
   "execution_count": null,
   "id": "7d39cdaa-ad88-4aa2-8313-5ee56c0f37e8",
   "metadata": {
    "tags": []
   },
   "outputs": [],
   "source": [
    "allcolors = sns.color_palette('tab20b', 20)\n",
    "allcolors"
   ]
  },
  {
   "cell_type": "code",
   "execution_count": null,
   "id": "b9738b71-19bb-4e6d-ba3d-e38215a3347b",
   "metadata": {
    "tags": []
   },
   "outputs": [],
   "source": [
    "allcolors2 = sns.color_palette('tab10', 20)\n",
    "allcolors2"
   ]
  },
  {
   "cell_type": "code",
   "execution_count": null,
   "id": "3e8e4d75-2d87-4c0a-a809-43053850bc71",
   "metadata": {
    "tags": []
   },
   "outputs": [],
   "source": [
    "palette = collections.OrderedDict({\n",
    "     \"P6\": allcolors[1],\n",
    "     \"P8\": allcolors[0],\n",
    "    \"P10\": allcolors[4+2],\n",
    "    \"P12\": allcolors[4+1],\n",
    "    \"P14\": allcolors[4+0],\n",
    "    \n",
    "    \"P17\": allcolors[8+2],\n",
    "    \"P21\": allcolors[8+0],\n",
    "    \n",
    "    \"P12DR\": allcolors[8+2],\n",
    "    \"P14DR\": allcolors[8+0],\n",
    "    \"P17DR\": allcolors[8+0],\n",
    "    \"P21DR\": allcolors[8+0],\n",
    "    \n",
    "})\n",
    "cases = np.array(list(palette.keys()))\n",
    "\n",
    "cond_order_dict = {\n",
    "    'P6':  0,\n",
    "    'P8':  1,\n",
    "    'P10': 2,\n",
    "    'P12': 3,\n",
    "    'P14': 4,\n",
    "    'P17': 5,\n",
    "    'P21': 6,\n",
    "    \n",
    "    'P12DR': 7,\n",
    "    'P14DR': 8,\n",
    "    'P17DR': 9,\n",
    "    'P21DR': 10,\n",
    "}\n",
    "unq_conds = np.array(list(cond_order_dict.keys()))\n",
    "adata.obs['cond_order'] = adata.obs['cond'].apply(lambda x: cond_order_dict[x])\n",
    "\n",
    "palette_types = collections.OrderedDict({\n",
    "    'L2/3_A': allcolors2[0],\n",
    "    'L2/3_B': allcolors2[1],\n",
    "    'L2/3_C': allcolors2[2],\n",
    "})             \n",
    "\n",
    "palette_types = {\n",
    "    'c14': 'C0', \n",
    "    'c18': 'C1',\n",
    "    'c16': 'C2', \n",
    "    \n",
    "    'c13': 'C0', \n",
    "    'c15': 'C1', \n",
    "    'c17': 'C2',\n",
    "}\n",
    "type_order = [key for key, val in palette_types.items()]\n",
    "type_order"
   ]
  },
  {
   "cell_type": "code",
   "execution_count": null,
   "id": "e4eb5acc-32e3-426e-adcc-6e4c108f0fca",
   "metadata": {
    "tags": []
   },
   "outputs": [],
   "source": [
    "palette_time = sns.cubehelix_palette(n_colors=7, start=.5, rot=-.5)\n",
    "palette_time"
   ]
  },
  {
   "cell_type": "markdown",
   "id": "e654279d-3fed-40a4-9eef-c15eb575f214",
   "metadata": {
    "tags": []
   },
   "source": [
    "# Plot A vs C genes aligning cells along early vs late PCs"
   ]
  },
  {
   "cell_type": "code",
   "execution_count": null,
   "id": "8a0a75ad-2fc9-4d95-88cd-13ead0982fbe",
   "metadata": {},
   "outputs": [],
   "source": [
    "# plot('pcs_all1', 'pcs_all2', aspect_equal=True)\n",
    "# plt.show()\n",
    "# plot('pcs_early1', 'pcs_early2', aspect_equal=True)\n",
    "# plt.show()\n",
    "# plot('pcs_later1', 'pcs_later2', aspect_equal=True)\n",
    "# plt.show()"
   ]
  },
  {
   "cell_type": "markdown",
   "id": "4a19491c-edc1-46ea-821b-d6c5b8db178c",
   "metadata": {
    "tags": []
   },
   "source": [
    "# Archetypes"
   ]
  },
  {
   "cell_type": "code",
   "execution_count": null,
   "id": "b3c5e25d-28ae-49d1-8b1e-c51840bafc8e",
   "metadata": {
    "tags": []
   },
   "outputs": [],
   "source": [
    "todo_conds = [\n",
    "    'P12DR', 'P14DR', 'P17DR', 'P21DR',\n",
    "    'P6', 'P8', 'P10', 'P12', 'P14', 'P17', 'P21', \n",
    "]\n",
    "todo_samps = [\n",
    "    'P12DRa', 'P12DRb',\n",
    "    'P14DRa', 'P14DRb',\n",
    "    'P17DRa', 'P17DRb',\n",
    "    'P21DRa', 'P21DRb',\n",
    "    'P6a', 'P6b', 'P6c', \n",
    "    'P8a', 'P8b', 'P8c', \n",
    "    'P10a', 'P10b', \n",
    "    'P12a', 'P12b', 'P12c', \n",
    "    'P14a', 'P14b',\n",
    "    'P17a', 'P17b', \n",
    "    'P21a', 'P21b', \n",
    "]"
   ]
  },
  {
   "cell_type": "code",
   "execution_count": null,
   "id": "01b3b34a-966d-4ab7-aca9-8cf725b1bbd3",
   "metadata": {},
   "outputs": [],
   "source": [
    "res['scores_c-a'] = res['scores_c'] - res['scores_a']"
   ]
  },
  {
   "cell_type": "code",
   "execution_count": null,
   "id": "7dc5c417-c2f7-40bd-9760-2b56fcd49a7e",
   "metadata": {
    "tags": []
   },
   "outputs": [],
   "source": [
    "ndim = 2\n",
    "noc = 3\n",
    "delta = 0.2 # 0\n",
    "\n",
    "aas = []\n",
    "\n",
    "for cond in todo_conds:\n",
    "    print(cond)\n",
    "    xp = res[res['cond']==cond][['pcs_later1', 'pcs_later2']].values # pcs_later[:,:2]\n",
    "    aa = pcha(xp.T, noc=noc, delta=delta)\n",
    "    aas.append(aa)\n",
    "    "
   ]
  },
  {
   "cell_type": "code",
   "execution_count": null,
   "id": "233fe1a9-21f5-4347-9544-43ad3a4f84a4",
   "metadata": {
    "tags": []
   },
   "outputs": [],
   "source": [
    "# plot\n",
    "n = len(todo_conds)\n",
    "fig, axs = plt.subplots(1,n,figsize=(8*n,6), sharex=True, sharey=True)\n",
    "for i, cond in enumerate(todo_conds):\n",
    "    ax = axs[i]\n",
    "    aa = aas[-1]\n",
    "    xp = res[res['cond']==cond][['pcs_later1', 'pcs_later2']].values # pcs_later[:,:2]\n",
    "    \n",
    "    ax.scatter(xp[:,0], xp[:,1], s=2) #  c=types_colorvec, s=2)\n",
    "    plot_archetype(ax, aa, fmt='-o', color='k', zorder=0)\n",
    "    ax.set_title(cond)\n",
    "\n",
    "    ax.set_xlabel('PC1')\n",
    "    ax.set_ylabel('PC2')\n",
    "    ax.set_aspect('equal')\n",
    "    sns.despine(ax=ax)\n",
    "    ax.grid(False)\n",
    "    \n",
    "plt.show()"
   ]
  },
  {
   "cell_type": "code",
   "execution_count": null,
   "id": "094d225a-209d-4653-85d5-392c06fa5115",
   "metadata": {
    "tags": []
   },
   "outputs": [],
   "source": [
    "xbins = np.linspace(-6,6,2*12+1)\n",
    "ybins = np.linspace(-5,5,2*10+1)\n",
    "\n",
    "xbins, ybins"
   ]
  },
  {
   "cell_type": "code",
   "execution_count": null,
   "id": "4c807b30-b5f1-40d1-9908-f25df068ad45",
   "metadata": {
    "tags": []
   },
   "outputs": [],
   "source": [
    "from matplotlib.colors import LinearSegmentedColormap\n",
    "\n",
    "colors_a = [(0.0, 'white'), (1.0, 'C0')]      \n",
    "colors_b = [(0.0, 'white'), (1.0, 'C1')]      \n",
    "colors_c = [(0.0, 'white'), (1.0, 'C2')]      \n",
    "colors_n = [(0.0, 'white'), (1.0, 'lightgray')]      \n",
    "cmap_a = LinearSegmentedColormap.from_list('cmap_a', colors_a)\n",
    "cmap_b = LinearSegmentedColormap.from_list('cmap_b', colors_b)\n",
    "cmap_c = LinearSegmentedColormap.from_list('cmap_c', colors_c)\n",
    "cmap_n = LinearSegmentedColormap.from_list('cmap_n', colors_n)\n",
    "\n",
    "colors_ac = [\n",
    "    np.array(cmap_a(1.0)),\n",
    "    0.5*np.array(cmap_a(1.0))+0.5*np.array(cmap_n(1.0)),\n",
    "    np.array(cmap_n(1.0)),\n",
    "    0.5*np.array(cmap_c(1.0))+0.5*np.array(cmap_n(1.0)),\n",
    "    np.array(cmap_c(1.0)),\n",
    "]\n",
    "cmap_ac = LinearSegmentedColormap.from_list('cmap_ac', colors_ac)\n",
    "\n",
    "colors_b2 = [\n",
    "    'lightgray',\n",
    "    cmap_b(0.2),\n",
    "    cmap_b(1.0),\n",
    "]\n",
    "cmap_b2 = LinearSegmentedColormap.from_list('cmap_b2', colors_b2)\n",
    "\n",
    "colors_nrdr = [\n",
    "    'black',\n",
    "    'white',\n",
    "    'C1',\n",
    "]\n",
    "cmap_nrdr = LinearSegmentedColormap.from_list('cmap_nrdr', colors_nrdr)"
   ]
  },
  {
   "cell_type": "code",
   "execution_count": null,
   "id": "8be18f51-e381-4208-b2bf-dedd9e35072f",
   "metadata": {
    "tags": []
   },
   "outputs": [],
   "source": [
    "genes_viz = ['scores_b','scores_c-a']\n",
    "cmaps = [\n",
    "    cmap_b2,\n",
    "    cmap_ac,\n",
    "]\n",
    "for gn, cmap in zip(genes_viz, cmaps):\n",
    "    \n",
    "    vmin = np.percentile(res[gn],  5)\n",
    "    vmax = np.percentile(res[gn], 95)\n",
    "    \n",
    "    fig = plot2('pcs_later1', 'pcs_later2', hue=gn, aspect_equal=True, s=20, vmin=vmin, vmax=vmax,cmap=cmap) #vminp=0, vmaxp=98)\n",
    "    axs = fig.get_axes()\n",
    "    for ax in axs:\n",
    "        plot_archetype(ax, aa, fmt='--', color='gray', zorder=2)\n",
    "        # ax.scatter(aa[0,0], aa[1,0], color='C0', zorder=2)\n",
    "        # ax.scatter(aa[0,1], aa[1,1], color='C1', zorder=2)\n",
    "        # ax.scatter(aa[0,2], aa[1,2], color='C2', zorder=2)\n",
    "    \n",
    "    output = os.path.join(outdirfig, f'pc12_{gn}.pdf')\n",
    "    powerplots.savefig_autodate(fig, output)\n",
    "    plt.show()\n",
    "    \n",
    "    # break\n",
    "    "
   ]
  },
  {
   "cell_type": "code",
   "execution_count": null,
   "id": "2e09c0ed-a8e3-4e22-a047-9bd324f0c8a5",
   "metadata": {
    "tags": []
   },
   "outputs": [],
   "source": [
    "# genes_viz = ['scores_a', 'scores_b', 'scores_c', 'scores_c-a']\n",
    "# for gn in genes_viz:\n",
    "fig = plot2('scores_c-a', 'scores_b', aspect_equal=True, s=20) # , vmin=None, vmax=None, vminp=0, vmaxp=98)\n",
    "plt.show()\n",
    "    \n",
    "    # break"
   ]
  },
  {
   "cell_type": "markdown",
   "id": "e632aab9-f579-407d-83ae-fdb6e58ab0ca",
   "metadata": {},
   "source": [
    "# variance along A-C axis vs B-axis"
   ]
  },
  {
   "cell_type": "code",
   "execution_count": null,
   "id": "ab940c8d-89d4-4783-bbd5-6468184ea534",
   "metadata": {
    "tags": []
   },
   "outputs": [],
   "source": [
    "# define A-C (t1) and B (t2) axis\n",
    "\n",
    "t1 = aa[:,2]-aa[:,0]\n",
    "t1 = t1/np.sqrt(t1.dot(t1))\n",
    "t2 = np.array([t1[1], -t1[0]])\n",
    "\n",
    "print(np.sum(t1**2), t1.dot(t2))"
   ]
  },
  {
   "cell_type": "code",
   "execution_count": null,
   "id": "451e4a0c-ab1e-40cd-ae82-90db1d2773b3",
   "metadata": {
    "tags": []
   },
   "outputs": [],
   "source": [
    "fjg, ax = plt.subplots(figsize=(2,2))\n",
    "plot_archetype(ax, aa, fmt='--', color='gray', zorder=2)\n",
    "ax.plot([aa[0,0],aa[0,0]+t1[0]], [aa[1,0], aa[1,0]+t1[1]])\n",
    "ax.plot([aa[0,0],aa[0,0]+t2[0]], [aa[1,0], aa[1,0]+t2[1]])\n",
    "ax.set_aspect('equal')"
   ]
  },
  {
   "cell_type": "code",
   "execution_count": null,
   "id": "7bb4c624-d647-44e3-ba44-b58d0a9ef4f7",
   "metadata": {
    "tags": []
   },
   "outputs": [],
   "source": [
    "res['pcs_later_t1'] = res[['pcs_later1', 'pcs_later2']].values.dot(t1)\n",
    "res['pcs_later_t2'] = res[['pcs_later1', 'pcs_later2']].values.dot(t2)\n"
   ]
  },
  {
   "cell_type": "code",
   "execution_count": null,
   "id": "d8f93f29-2325-44af-b77e-fb27acf37a27",
   "metadata": {
    "tags": []
   },
   "outputs": [],
   "source": [
    "var_mtx = res[['pcs_later_t1', 'pcs_later_t2', \n",
    "               'pcs_early1',\n",
    "               'cond', 'samp']].groupby(['cond']).std(numeric_only=True) \n",
    "var_mtx = np.power(var_mtx, 2).reindex(todo_conds)\n",
    "var_mtx"
   ]
  },
  {
   "cell_type": "code",
   "execution_count": null,
   "id": "d2b10d24-a0cc-422d-8236-0af892d6570c",
   "metadata": {
    "tags": []
   },
   "outputs": [],
   "source": [
    "var_mtx_rep = res[['pcs_later_t1', 'pcs_later_t2', \n",
    "                   'pcs_early1',\n",
    "                   'cond', 'samp']].groupby(['samp']).std(numeric_only=True)\n",
    "var_mtx_rep = np.power(var_mtx_rep, 2).reindex(todo_samps)\n",
    "var_mtx_rep"
   ]
  },
  {
   "cell_type": "code",
   "execution_count": null,
   "id": "54519384-26ed-4302-b8dc-2f99bdd036f4",
   "metadata": {
    "tags": []
   },
   "outputs": [],
   "source": [
    "times = np.array([6,8,10,12,14,17,21])\n",
    "todo_conds_t = np.array([int(re.sub(r'[a-zA-Z]', '', a)) for a in todo_conds])\n",
    "todo_samps_t = np.array([int(re.sub(r'[a-zA-Z]', '', a)) for a in todo_samps])\n",
    "print(times)\n",
    "print(todo_conds_t)\n",
    "print(todo_samps_t)"
   ]
  },
  {
   "cell_type": "code",
   "execution_count": null,
   "id": "6d5f759a-f8d2-4080-ac6a-7d19c66d6793",
   "metadata": {
    "tags": []
   },
   "outputs": [],
   "source": [
    "\n",
    "scale1 = var_mtx['pcs_later_t1'].max()\n",
    "scale2 = var_mtx['pcs_later_t2'].max()\n",
    "\n",
    "\n",
    "fig, axs = plt.subplots(1,2,figsize=(3*2,1*3), sharex=True, sharey=True)\n",
    "ax = axs[0]\n",
    "ax.plot(todo_conds_t[4:], var_mtx['pcs_later_t1'].values[4:]/scale1,       color='C1')\n",
    "ax.plot(todo_conds_t[:4], var_mtx['pcs_later_t1'].values[:4]/scale1,       color='k')\n",
    "\n",
    "ax.plot(todo_samps_t[8:], var_mtx_rep['pcs_later_t1'].values[8:]/scale1,       'o', markersize=5, fillstyle='none', color='C1')\n",
    "ax.plot(todo_samps_t[:8], var_mtx_rep['pcs_later_t1'].values[:8]/scale1,       's', markersize=5, fillstyle='none', color='k')\n",
    "\n",
    "sns.despine(ax=ax)\n",
    "ax.grid(False)\n",
    "ax.set_xlabel('Postnatal day (P)')\n",
    "ax.set_ylabel('norm. variance')\n",
    "ax.set_title('A-C axis')\n",
    "\n",
    "ax = axs[1]\n",
    "ax.plot(todo_conds_t[4:], var_mtx['pcs_later_t2'].values[4:]/scale1,       color='C1', label='NR')\n",
    "ax.plot(todo_conds_t[:4], var_mtx['pcs_later_t2'].values[:4]/scale1,       color='k',  label='DR')\n",
    "\n",
    "ax.plot(todo_samps_t[8:], var_mtx_rep['pcs_later_t2'].values[8:]/scale1,       'o', markersize=5, fillstyle='none', color='C1')\n",
    "ax.plot(todo_samps_t[:8], var_mtx_rep['pcs_later_t2'].values[:8]/scale1,       's', markersize=5, fillstyle='none', color='k')\n",
    "\n",
    "sns.despine(ax=ax)\n",
    "ax.grid(False)\n",
    "ax.set_ylim(bottom=0)\n",
    "ax.set_xticks(times)\n",
    "ax.legend(bbox_to_anchor=(1,1))\n",
    "ax.set_title('B axis')\n",
    "\n",
    "output = os.path.join(outdirfig, \"ACvsB_var_vs_time.pdf\")\n",
    "powerplots.savefig_autodate(fig, output)\n",
    "plt.show()"
   ]
  },
  {
   "cell_type": "code",
   "execution_count": null,
   "id": "534afd30-136e-427d-8703-6348c97e159c",
   "metadata": {
    "tags": []
   },
   "outputs": [],
   "source": [
    "# fit KDE\n",
    "\n",
    "kdes = []\n",
    "kde_values = []\n",
    "n = len(todo_conds)\n",
    "for i, cond in enumerate(todo_conds):\n",
    "    xp = res[res['cond']==cond][['pcs_later1', 'pcs_later2']].values # pcs_later[:,:2]\n",
    "    \n",
    "    # Fit KDE\n",
    "    kde = gaussian_kde(xp.T)\n",
    "    kdes.append(kde)\n",
    "    kde_values.append(kde(xp.T))\n",
    "    "
   ]
  },
  {
   "cell_type": "code",
   "execution_count": null,
   "id": "56f9e290-ca19-4790-9e8f-2f2fde01fee5",
   "metadata": {
    "tags": []
   },
   "outputs": [],
   "source": [
    "xbins = np.arange(-20, 20, 1)\n",
    "ybins = np.arange(-20, 20, 1)\n",
    "xbins, ybins"
   ]
  },
  {
   "cell_type": "code",
   "execution_count": null,
   "id": "64b40f0e-3ad6-4871-a394-3f86f05e6c88",
   "metadata": {
    "tags": []
   },
   "outputs": [],
   "source": [
    "# fit KDE\n",
    "\n",
    "hist_values = []\n",
    "n = len(todo_conds)\n",
    "for i, cond in enumerate(todo_conds):\n",
    "    xp = res[res['cond']==cond][['pcs_later1', 'pcs_later2']].values # pcs_later[:,:2]\n",
    "    \n",
    "    # Fit KDE\n",
    "    hist, _, _ = np.histogram2d(xp[:,0], xp[:,1], bins=(xbins, ybins))\n",
    "    hist = hist/np.sum(hist)\n",
    "    hist_values.append(hist)\n",
    "    \n",
    "    # kde = gaussian_kde(xp.T)\n",
    "    # kdes.append(kde)\n",
    "    # kde_values.append(kde(xp.T))\n",
    "    "
   ]
  },
  {
   "cell_type": "code",
   "execution_count": null,
   "id": "b40ad845-72b8-49f2-8e02-eddc7519d215",
   "metadata": {
    "tags": []
   },
   "outputs": [],
   "source": [
    "# plot\n",
    "n = len(todo_conds)\n",
    "fig, axs = plt.subplots(1,n,figsize=(4*n,3), sharex=True, sharey=True)\n",
    "for i, cond in enumerate(todo_conds):\n",
    "    ax = axs[i]\n",
    "    # kde = kdes[i]\n",
    "    kde_val = kde_values[i]\n",
    "    aa = aas[-1]\n",
    "    \n",
    "    xp = res[res['cond']==cond][['pcs_later1', 'pcs_later2']].values # pcs_later[:,:2]\n",
    "    \n",
    "    # calc KDE\n",
    "    c = kde_val\n",
    "    \n",
    "    ax.scatter(xp[:,0], xp[:,1], c=c, s=10, cmap='rocket_r', rasterized=True) #  c=types_colorvec, s=2)\n",
    "    \n",
    "    plot_archetype(ax, aa, fmt='--', color='gray', zorder=2)\n",
    "    ax.scatter(aa[0,0], aa[1,0], color='C0', zorder=2)\n",
    "    ax.scatter(aa[0,1], aa[1,1], color='C1', zorder=2)\n",
    "    ax.scatter(aa[0,2], aa[1,2], color='C2', zorder=2)\n",
    "    \n",
    "    ax.set_title(cond)\n",
    "\n",
    "    ax.set_xlabel('PC1')\n",
    "    ax.set_ylabel('PC2')\n",
    "    ax.set_aspect('equal')\n",
    "    sns.despine(ax=ax)\n",
    "    ax.grid(False)\n",
    "    # break\n",
    "    \n",
    "output = os.path.join(outdirfig, f'pc12_density.pdf')\n",
    "powerplots.savefig_autodate(fig, output)\n",
    "plt.show()"
   ]
  },
  {
   "cell_type": "code",
   "execution_count": null,
   "id": "85fc4991-d09a-40d4-af33-6fa88b31026e",
   "metadata": {
    "tags": []
   },
   "outputs": [],
   "source": [
    "# Define grid range and resolution\n",
    "x = np.arange(-20, 20, 1)  # 5 points from 0 to 1\n",
    "y = np.arange(-20, 20, 1)\n",
    "\n",
    "# Create a 2D mesh grid\n",
    "X, Y = np.meshgrid(x, y)\n",
    "X = X.reshape(-1,)\n",
    "Y = Y.reshape(-1,)\n",
    "XY = np.vstack([X,Y])\n",
    "kde_base = kdes[-1](XY)\n",
    "\n",
    "# plot\n",
    "n = len(todo_conds[4:-1])\n",
    "fig, axs = plt.subplots(1,n,figsize=(4*n,3), sharex=True, sharey=True)\n",
    "for i, cond in enumerate(todo_conds[4:-1]):\n",
    "    ax = axs[i]\n",
    "    aa = aas[-1]\n",
    "    \n",
    "    \n",
    "    kde_val = kdes[4+i](XY) - kde_base\n",
    "    \n",
    "    # calc KDE\n",
    "    c = kde_val\n",
    "    \n",
    "    vmax = np.percentile(c,99)\n",
    "    vmin = np.percentile(c, 1)\n",
    "    vmax = np.max([np.abs(vmax), np.abs(vmin)])\n",
    "    vmin = -vmax\n",
    "    \n",
    "    g = ax.scatter(XY[0], XY[1], c=c, s=16, \n",
    "                   marker='s', edgecolor='none',\n",
    "                   cmap='coolwarm', \n",
    "                   vmax=vmax, vmin=vmin, rasterized=True)#  c=types_colorvec, s=2)\n",
    "    # fig.colorbar(g)\n",
    "    \n",
    "    plot_archetype(ax, aa, fmt='--', color='gray', zorder=2)\n",
    "    ax.scatter(aa[0,0], aa[1,0], color='C0', zorder=2)\n",
    "    ax.scatter(aa[0,1], aa[1,1], color='C1', zorder=2)\n",
    "    ax.scatter(aa[0,2], aa[1,2], color='C2', zorder=2)\n",
    "    \n",
    "    ax.set_title(f'{cond}-P21')\n",
    "\n",
    "    ax.set_aspect('equal')\n",
    "    sns.despine(ax=ax)\n",
    "    ax.grid(False)\n",
    "    # break\n",
    "    \n",
    "axs[0].set_xlabel('PC1')\n",
    "axs[0].set_ylabel('PC2')\n",
    "    \n",
    "# output = os.path.join(outdirfig, f'pc12_density.pdf')\n",
    "# powerplots.savefig_autodate(fig, output)\n",
    "plt.show()"
   ]
  },
  {
   "cell_type": "code",
   "execution_count": null,
   "id": "84315d5a-af82-41eb-bf35-838093298891",
   "metadata": {
    "tags": []
   },
   "outputs": [],
   "source": [
    "# Define grid range and resolution\n",
    "x = np.arange(-20, 20, 1)  # 5 points from 0 to 1\n",
    "y = np.arange(-20, 20, 1)\n",
    "\n",
    "# Create a 2D mesh grid\n",
    "X, Y = np.meshgrid(x, y)\n",
    "X = X.reshape(-1,)\n",
    "Y = Y.reshape(-1,)\n",
    "XY = np.vstack([X,Y])\n",
    "toplot_conds = ['P6', 'P10', 'P14', 'P17', 'P21']\n",
    "toplot_indices = [4,6,8,9,10] \n",
    "\n",
    "# plot\n",
    "fig, axs = plt.subplots(1,4,figsize=(4*4,3), sharex=True, sharey=True)\n",
    "for i in range(4):\n",
    "    ax = axs[i]\n",
    "    aa = aas[-1]\n",
    "    \n",
    "    ind_i, ind_j = toplot_indices[i], toplot_indices[i+1]\n",
    "    cond_i, cond_j = toplot_conds[i], toplot_conds[i+1]\n",
    "    \n",
    "    kde_val = kdes[ind_j](XY) - kdes[ind_i](XY)\n",
    "    \n",
    "    # calc KDE\n",
    "    c = kde_val\n",
    "    \n",
    "    vmax = np.percentile(c,99)\n",
    "    vmin = np.percentile(c, 1)\n",
    "    vmax = np.max([np.abs(vmax), np.abs(vmin)])\n",
    "    vmin = -vmax\n",
    "    \n",
    "    g = ax.scatter(XY[0], XY[1], c=c, s=16, \n",
    "                   marker='s', edgecolor='none',\n",
    "                   cmap='coolwarm', \n",
    "                   vmax=vmax, vmin=vmin, rasterized=True)#  c=types_colorvec, s=2)\n",
    "    \n",
    "    plot_archetype(ax, aa, fmt='--', color='gray', zorder=2)\n",
    "    ax.scatter(aa[0,0], aa[1,0], color='C0', zorder=2)\n",
    "    ax.scatter(aa[0,1], aa[1,1], color='C1', zorder=2)\n",
    "    ax.scatter(aa[0,2], aa[1,2], color='C2', zorder=2)\n",
    "    \n",
    "    ax.set_title(f'{cond_i}->{cond_j}')\n",
    "\n",
    "    ax.set_aspect('equal')\n",
    "    sns.despine(ax=ax)\n",
    "    ax.grid(False)\n",
    "    # break\n",
    "    \n",
    "axs[0].set_xlabel('PC1')\n",
    "axs[0].set_ylabel('PC2')\n",
    "    \n",
    "# output = os.path.join(outdirfig, f'pc12_density.pdf')\n",
    "# powerplots.savefig_autodate(fig, output)\n",
    "plt.show()"
   ]
  },
  {
   "cell_type": "code",
   "execution_count": null,
   "id": "2c9504df-18b4-4dc4-a8b1-9a0268495f1f",
   "metadata": {},
   "outputs": [],
   "source": [
    "# Define grid range and resolution\n",
    "x = np.arange(-20, 20, 1)  # 5 points from 0 to 1\n",
    "y = np.arange(-20, 20, 1)\n",
    "\n",
    "# Create a 2D mesh grid\n",
    "X, Y = np.meshgrid(x, y)\n",
    "X = X.reshape(-1,)\n",
    "Y = Y.reshape(-1,)\n",
    "XY = np.vstack([X,Y])\n",
    "\n",
    "# plot\n",
    "fig, ax = plt.subplots(1,1,figsize=(4*1,3), sharex=True, sharey=True)\n",
    "aa = aas[-1]\n",
    "\n",
    "ind_i, ind_j = 10, 3 \n",
    "cond_i, cond_j = 'P21NR', 'P21DR'\n",
    "\n",
    "kde_val = kdes[ind_j](XY) - kdes[ind_i](XY)\n",
    "\n",
    "# calc KDE\n",
    "c = kde_val\n",
    "\n",
    "vmax = np.percentile(c,98)\n",
    "vmin = np.percentile(c, 2)\n",
    "vmax = np.max([np.abs(vmax), np.abs(vmin)])\n",
    "vmin = -vmax\n",
    "\n",
    "g = ax.scatter(XY[0], XY[1], c=c, s=16, \n",
    "               marker='s', edgecolor='none',\n",
    "               cmap='coolwarm', \n",
    "               vmax=vmax, vmin=vmin, rasterized=True)#  c=types_colorvec, s=2)\n",
    "\n",
    "plot_archetype(ax, aa, fmt='--', color='gray', zorder=2)\n",
    "ax.scatter(aa[0,0], aa[1,0], color='gray', zorder=2)\n",
    "ax.scatter(aa[0,1], aa[1,1], color='gray', zorder=2)\n",
    "ax.scatter(aa[0,2], aa[1,2], color='gray', zorder=2)\n",
    "\n",
    "ax.set_title(f'{cond_i}->{cond_j}')\n",
    "\n",
    "ax.set_aspect('equal')\n",
    "sns.despine(ax=ax)\n",
    "ax.grid(False)\n",
    "# break\n",
    "\n",
    "ax.set_xlabel('PC1')\n",
    "ax.set_ylabel('PC2')\n",
    "\n",
    "# output = os.path.join(outdirfig, f'pc12_density.pdf')\n",
    "# powerplots.savefig_autodate(fig, output)\n",
    "plt.show()"
   ]
  },
  {
   "cell_type": "code",
   "execution_count": null,
   "id": "504a6370-f974-458a-931a-2aaab4d92053",
   "metadata": {
    "tags": []
   },
   "outputs": [],
   "source": [
    "# Define grid range and resolution\n",
    "x = np.arange(-20, 20, 1)  # 5 points from 0 to 1\n",
    "y = np.arange(-20, 20, 1)\n",
    "\n",
    "# Create a 2D mesh grid\n",
    "X, Y = np.meshgrid(x, y)\n",
    "X = X.reshape(-1,)\n",
    "Y = Y.reshape(-1,)\n",
    "XY = np.vstack([X,Y])\n",
    "\n",
    "# plot\n",
    "fig, ax = plt.subplots(1,1,figsize=(4*1,3), sharex=True, sharey=True)\n",
    "aa = aas[-1]\n",
    "\n",
    "ind_i, ind_j = 10, 3 \n",
    "cond_i, cond_j = 'P21NR', 'P21DR'\n",
    "# in_i, ind_j = 3, 9 \n",
    "# cond_i, cond_j = 'P21DR', 'P17NR'\n",
    "\n",
    "# kde_val = kdes[ind_j](XY) - kdes[ind_i](XY)\n",
    "\n",
    "kde_val = hist_values[ind_j] - hist_values[ind_i] \n",
    "\n",
    "# calc KDE\n",
    "c = kde_val\n",
    "\n",
    "vmax = np.percentile(c,99)\n",
    "vmin = np.percentile(c, 1)\n",
    "vmax = np.max([np.abs(vmax), np.abs(vmin)])\n",
    "vmin = -vmax\n",
    "\n",
    "sns.heatmap(kde_val.T, \n",
    "            cmap='coolwarm', \n",
    "               vmax=vmax, vmin=vmin, rasterized=True\n",
    "           )\n",
    "ax.invert_yaxis()\n",
    "\n",
    "# g = ax.scatter(XY[0], XY[1], c=c, s=16, \n",
    "#                marker='s', edgecolor='none',\n",
    "#                cmap='coolwarm', \n",
    "#                vmax=vmax, vmin=vmin, rasterized=True)#  c=types_colorvec, s=2)\n",
    "\n",
    "# plot_archetype(ax, aa, fmt='--', color='gray', zorder=2)\n",
    "# ax.scatter(aa[0,0], aa[1,0], color='C0', zorder=2)\n",
    "# ax.scatter(aa[0,1], aa[1,1], color='C1', zorder=2)\n",
    "# ax.scatter(aa[0,2], aa[1,2], color='C2', zorder=2)\n",
    "\n",
    "ax.set_title(f'{cond_i}->{cond_j}')\n",
    "\n",
    "ax.set_aspect('equal')\n",
    "sns.despine(ax=ax)\n",
    "ax.grid(False)\n",
    "# break\n",
    "\n",
    "ax.set_xlabel('PC1')\n",
    "ax.set_ylabel('PC2')\n",
    "\n",
    "# output = os.path.join(outdirfig, f'pc12_density.pdf')\n",
    "# powerplots.savefig_autodate(fig, output)\n",
    "plt.show()"
   ]
  },
  {
   "cell_type": "code",
   "execution_count": null,
   "id": "a303dad4-2c9e-4796-b774-9629f1148106",
   "metadata": {
    "tags": []
   },
   "outputs": [],
   "source": []
  },
  {
   "cell_type": "code",
   "execution_count": null,
   "id": "f5b06af7-02e7-4345-8de5-062dc4d32adc",
   "metadata": {},
   "outputs": [],
   "source": []
  }
 ],
 "metadata": {
  "kernelspec": {
   "display_name": "napari",
   "language": "python",
   "name": "napari"
  },
  "language_info": {
   "codemirror_mode": {
    "name": "ipython",
    "version": 3
   },
   "file_extension": ".py",
   "mimetype": "text/x-python",
   "name": "python",
   "nbconvert_exporter": "python",
   "pygments_lexer": "ipython3",
   "version": "3.9.16"
  }
 },
 "nbformat": 4,
 "nbformat_minor": 5
}
