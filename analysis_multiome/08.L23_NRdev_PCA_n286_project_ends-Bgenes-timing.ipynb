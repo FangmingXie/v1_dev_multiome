{
 "cells": [
  {
   "cell_type": "code",
   "execution_count": null,
   "id": "bb214b6d-836a-49b8-93dd-a19f021215b7",
   "metadata": {
    "tags": []
   },
   "outputs": [],
   "source": [
    "import os\n",
    "import numpy as np\n",
    "import pandas as pd\n",
    "import scanpy as sc\n",
    "import anndata \n",
    "import seaborn as sns\n",
    "from scipy.stats import zscore\n",
    "import matplotlib.pyplot as plt\n",
    "import collections\n",
    "\n",
    "from scipy import stats\n",
    "from scipy import sparse\n",
    "from sklearn.decomposition import PCA\n",
    "from umap import UMAP\n",
    "\n",
    "from matplotlib.colors import LinearSegmentedColormap\n",
    "\n",
    "from scroutines.config_plots import *\n",
    "from scroutines import powerplots # .config_plots import *\n",
    "from scroutines import pnmf\n",
    "from scroutines import basicu\n"
   ]
  },
  {
   "cell_type": "code",
   "execution_count": null,
   "id": "f45abc88-0cbc-4575-8035-9cb157c42bc2",
   "metadata": {},
   "outputs": [],
   "source": [
    "outdir_fig = \"/u/home/f/f7xiesnm/project-zipursky/v1-bb/v1/figures\""
   ]
  },
  {
   "cell_type": "code",
   "execution_count": null,
   "id": "fb72ade4-5ddd-4d8d-9d66-847375e16845",
   "metadata": {},
   "outputs": [],
   "source": [
    "# use those 286 genes\n",
    "# df = pd.read_csv(\"../../data/cheng21_cell_scrna/res/candidate_genes_vincent_0503_v2.csv\")\n",
    "df = pd.read_csv(\"../../data/cheng21_cell_scrna/res/L23-ABC-genes-n288-n286unq-annot.csv\")\n",
    "genes_l23 = df['gene'].astype(str).values\n",
    "genes_l23a = df[df['P17on']=='A']['gene'].astype(str).values\n",
    "genes_l23b = df[df['P17on']=='B']['gene'].astype(str).values\n",
    "genes_l23c = df[df['P17on']=='C']['gene'].astype(str).values\n",
    "\n",
    "print(genes_l23a.shape, genes_l23b.shape, genes_l23c.shape)\n",
    "genes_grp = df['P17on'].astype(str).values\n",
    "assert len(genes_l23) == len(np.unique(genes_l23))\n",
    "\n",
    "genes_l23.shape"
   ]
  },
  {
   "cell_type": "code",
   "execution_count": null,
   "id": "e94fa980-ecc1-45aa-9132-c211b1377c94",
   "metadata": {
    "tags": []
   },
   "outputs": [],
   "source": [
    "for g in ['Epha6', 'Pcdh9', 'Pcdh7']:\n",
    "    print(f'{g} in {g in genes_l23}')"
   ]
  },
  {
   "cell_type": "code",
   "execution_count": null,
   "id": "97439176-3856-4fed-823b-25685bd58240",
   "metadata": {
    "tags": []
   },
   "outputs": [],
   "source": [
    "[g for g in genes_l23 if g.startswith('Pcdh')]"
   ]
  },
  {
   "cell_type": "code",
   "execution_count": null,
   "id": "c099d10a-03c9-4cb7-aca8-f65085f7febf",
   "metadata": {
    "tags": []
   },
   "outputs": [],
   "source": [
    "[g for g in genes_l23 if g.startswith('Cdh')]"
   ]
  },
  {
   "cell_type": "code",
   "execution_count": null,
   "id": "4ec23695-e6b3-43fd-ab91-641da163a1f4",
   "metadata": {},
   "outputs": [],
   "source": [
    "gaba = [\n",
    "    \"Cadm1\",\n",
    "    \"Sema3a\",\n",
    "    \"Ephb2\",\n",
    "#     \"Gabra1\",\n",
    "#     \"Gabra2\",\n",
    "#     \"Gabra3\",\n",
    "#     \"Gabra4\",\n",
    "#     \"Gabra5\",\n",
    "#     \"Gabra6\",\n",
    "    \n",
    "#     \"Gabrb1\",\n",
    "#     \"Gabrb2\",\n",
    "#     \"Gabrb3\",\n",
    "    \n",
    "#     \"Gabrg1\",\n",
    "#     \"Gabrg2\",\n",
    "#     \"Gabrg3\",\n",
    "    \n",
    "#     \"Gabrd\",\n",
    "#     \"Gabre\",\n",
    "#     \"Gabrp\",\n",
    "#     \"Gabrq\",\n",
    "    \n",
    "#     \"Gabrr1\",\n",
    "#     \"Gabrr2\",\n",
    "#     \"Gabrr3\", \n",
    "]"
   ]
  },
  {
   "cell_type": "code",
   "execution_count": null,
   "id": "8542eec8-b8e1-4a35-9237-0d3c0043349b",
   "metadata": {},
   "outputs": [],
   "source": [
    "# load\n",
    "adata = anndata.read(\"../../data/cheng21_cell_scrna/reorganized/all_L23.h5ad\")\n",
    "adata"
   ]
  },
  {
   "cell_type": "code",
   "execution_count": null,
   "id": "4909ea27-eafc-4571-aee4-afb718a5a171",
   "metadata": {
    "tags": []
   },
   "outputs": [],
   "source": [
    "# select\n",
    "adata = adata[adata.obs['cond'].str.contains(r\"NR$\")]\n",
    "adata.obs['cond'].unique()\n",
    "\n",
    "# define\n",
    "genes = adata.var.index.values\n",
    "conds = adata.obs['cond'].values\n",
    "types = adata.obs['Type'].values\n",
    "samps = adata.obs['sample'].values\n",
    "\n",
    "# organize\n",
    "rename = {\n",
    "    \"L2/3_A\": \"L2/3_A\",\n",
    "    \"L2/3_B\": \"L2/3_B\",\n",
    "    \"L2/3_C\": \"L2/3_C\",\n",
    "    \n",
    "    \"L2/3_1\": \"L2/3_A\",\n",
    "    \"L2/3_2\": \"L2/3_B\",\n",
    "    \"L2/3_3\": \"L2/3_C\",\n",
    "    \n",
    "    \"L2/3_AB\": \"L2/3_A\",\n",
    "    \"L2/3_BC\": \"L2/3_C\",\n",
    "}\n",
    "adata.obs['easitype'] = adata.obs['Type'].apply(lambda x: rename[x])\n",
    "adata"
   ]
  },
  {
   "cell_type": "code",
   "execution_count": null,
   "id": "1fadd441-11aa-49ab-abcc-d8d5e9cf47ea",
   "metadata": {},
   "outputs": [],
   "source": [
    "# filter genes\n",
    "cond = np.ravel((adata.X>0).sum(axis=0)) > 10 # expressed in more than 10 cells\n",
    "adata_sub = adata[:,cond].copy()\n",
    "\n",
    "# counts\n",
    "x = adata_sub.X\n",
    "cov = adata_sub.obs['n_counts'].values\n",
    "genes = adata_sub.var.index.values\n",
    "\n",
    "# CP10k\n",
    "# xn = x/cov.reshape(x.shape[0], -1)*1e4\n",
    "xn = (sparse.diags(1/cov).dot(x))*1e4\n",
    "\n",
    "# log10(CP10k+1)\n",
    "xln = xn.copy()\n",
    "xln.data = np.log10(xln.data+1)\n",
    "\n",
    "adata_sub.layers['norm'] = np.array(xn.todense())\n",
    "adata_sub.layers['lognorm'] = np.array(xln.todense())\n",
    "adata_sub.layers['zlognorm'] = zscore(np.array(xln.todense()), axis=0)"
   ]
  },
  {
   "cell_type": "code",
   "execution_count": null,
   "id": "21f4e971-7adf-4952-b39c-035dbed23df7",
   "metadata": {
    "tags": []
   },
   "outputs": [],
   "source": [
    "gaba_idx = basicu.get_index_from_array(genes, gaba)\n",
    "gaba_idx = gaba_idx[gaba_idx!=-1]\n",
    "gaba_sel = genes[gaba_idx]\n",
    "\n",
    "gaba_idx, gaba_sel"
   ]
  },
  {
   "cell_type": "code",
   "execution_count": null,
   "id": "ee38a818-ddf9-4cac-9cd5-995cc8c92699",
   "metadata": {},
   "outputs": [],
   "source": [
    "# select HVGs with mean and var\n",
    "nbin = 20\n",
    "qth = 0.3\n",
    "\n",
    "# min\n",
    "gm = np.ravel(xn.mean(axis=0))\n",
    "\n",
    "# var\n",
    "tmp = xn.copy()\n",
    "tmp.data = np.power(tmp.data, 2)\n",
    "gv = np.ravel(tmp.mean(axis=0))-gm**2\n",
    "\n",
    "# cut \n",
    "lbl = pd.qcut(gm, nbin, labels=np.arange(nbin))\n",
    "gres = pd.DataFrame()\n",
    "gres['name'] = genes\n",
    "gres['lbl'] = lbl\n",
    "gres['mean'] = gm\n",
    "gres['var'] = gv\n",
    "gres['ratio']= gv/gm\n",
    "\n",
    "# select\n",
    "gres_sel = gres.groupby('lbl')['ratio'].nlargest(int(qth*(len(gm)/nbin))) #.reset_index()\n",
    "gsel_idx = np.sort(gres_sel.index.get_level_values(1).values)\n",
    "assert np.all(gsel_idx != -1)\n",
    "\n",
    "gsel_idx = np.union1d(gsel_idx, gaba_idx)\n",
    "\n",
    "# # \n",
    "l23_gidx = basicu.get_index_from_array(genes, genes_l23)\n",
    "assert np.all(l23_gidx != -1)"
   ]
  },
  {
   "cell_type": "code",
   "execution_count": null,
   "id": "ea683c02-56eb-48f3-9904-29f72e678735",
   "metadata": {},
   "outputs": [],
   "source": [
    "fig, axs = plt.subplots(1,2, figsize=(6*2,4), sharex=True, sharey=True)\n",
    "ax = axs[0]\n",
    "ax.scatter(gm, gv/gm, s=5, edgecolor='none', color='gray')\n",
    "ax.set_xscale('log')\n",
    "ax.set_yscale('log')\n",
    "ax.set_xlabel('mean expr (CP10k)')\n",
    "ax.set_ylabel('var/mean')\n",
    "ax.set_title(f'{len(gm):,} genes')\n",
    "\n",
    "ax = axs[1]\n",
    "ax.scatter(gm, gv/gm, s=5, edgecolor='none', color='gray')\n",
    "ax.scatter(gm[gsel_idx], (gv/gm)[gsel_idx], c=lbl[gsel_idx], s=5, edgecolor='none', cmap='viridis_r', label=f'{len(gsel_idx):,} HVGs')\n",
    "# ax.scatter(gm[l23_gidx], (gv/gm)[l23_gidx], s=5, facecolors='none', edgecolor='C0', label='L2/3 type genes')\n",
    "# ax.scatter(gm[it_gidx], (gv/gm)[it_gidx], s=5, facecolors='none', edgecolor='C1', label='IT genes')\n",
    "ax.set_xscale('log')\n",
    "ax.set_yscale('log')\n",
    "ax.set_xlabel('mean expr (CP10k)')\n",
    "ax.set_ylabel('var/mean')\n",
    "ax.legend(bbox_to_anchor=(1,1))\n",
    "\n",
    "plt.show()"
   ]
  },
  {
   "cell_type": "code",
   "execution_count": null,
   "id": "5966475c-d746-4ac0-8318-0a067e99a02f",
   "metadata": {},
   "outputs": [],
   "source": [
    "# adata = adata_sub[:,gsel_idx]\n",
    "adata = adata_sub[:,l23_gidx]\n",
    "genes_sel = adata.var.index.values\n",
    "lognorm = np.array(adata.layers['lognorm'])\n",
    "zlognorm = np.array(adata.layers['zlognorm'])\n",
    "zlognorm.shape"
   ]
  },
  {
   "cell_type": "code",
   "execution_count": null,
   "id": "b8db6d89-2c84-4360-85c3-d3f400af66b6",
   "metadata": {
    "tags": []
   },
   "outputs": [],
   "source": [
    "adata_p8 = adata[adata.obs['cond'].isin(['P8NR'])]\n",
    "lognorm_p8 = np.array(adata_p8.layers['lognorm'])\n",
    "zlognorm_p8 = np.array(adata_p8.layers['zlognorm'])\n",
    "\n",
    "pca = PCA(n_components=10)\n",
    "pca.fit(zlognorm_p8)\n",
    "pcs_p8 = pca.transform(zlognorm)\n",
    "\n",
    "pcs_p8[:,0] = -pcs_p8[:,0] # flip PC1\n",
    "\n",
    "adata_p17on = adata[adata.obs['cond'].isin(['P17NR', 'P21NR', 'P28NR'])]\n",
    "lognorm_p17on = np.array(adata_p17on.layers['lognorm'])\n",
    "zlognorm_p17on = np.array(adata_p17on.layers['zlognorm'])\n",
    "\n",
    "pca2 = PCA(n_components=10)\n",
    "pca2.fit(zlognorm_p17on)\n",
    "pcs_p17on = pca2.transform(zlognorm)\n",
    "\n",
    "pcs_p17on[:,1] = -pcs_p17on[:,1] # flip PC2\n",
    "\n",
    "# ucs = UMAP(n_components=2, n_neighbors=50).fit_transform(pcs)"
   ]
  },
  {
   "cell_type": "code",
   "execution_count": null,
   "id": "0a051129-b302-42ed-9d4a-445fa39d1bf7",
   "metadata": {
    "tags": []
   },
   "outputs": [],
   "source": [
    "vt = pca.components_\n",
    "topgenes_p8_pc1 = genes_sel[np.argsort(np.abs(vt[0]))[::-1]]\n",
    "print(topgenes_p8_pc1[:10])\n",
    "\n",
    "topgenes_p8_pc2 = genes_sel[np.argsort(np.abs(vt[1]))[::-1]]\n",
    "print(topgenes_p8_pc2[:10])\n",
    "\n",
    "\n",
    "\n",
    "# np.sort(np.abs(vt[3]))[::-1]"
   ]
  },
  {
   "cell_type": "code",
   "execution_count": null,
   "id": "f625f1f0-467a-4d73-80eb-d2b84af0c737",
   "metadata": {
    "tags": []
   },
   "outputs": [],
   "source": [
    "topgenes_p8_pc2[:50]"
   ]
  },
  {
   "cell_type": "code",
   "execution_count": null,
   "id": "d37e6002-8dc8-4885-a073-8026985f1e9a",
   "metadata": {
    "tags": []
   },
   "outputs": [],
   "source": [
    "# # fix pc1 to make sure a < c:\n",
    "# pc1 = pcs[:,0]\n",
    "# pc_types, unq_types = basicu.group_mean(pc1.reshape(-1,1), types)\n",
    "# a = pc_types[0,0]\n",
    "# c = pc_types[-1,0]\n",
    "# if a > c:\n",
    "#     pcs[:,0] = -pcs[:,0]"
   ]
  },
  {
   "cell_type": "code",
   "execution_count": null,
   "id": "2710199e-e053-41b4-9838-dc1f261e1b22",
   "metadata": {
    "tags": []
   },
   "outputs": [],
   "source": [
    "res1 = pd.DataFrame(pcs_p8, columns=np.char.add(\"p8PC\", ((1+np.arange(pcs_p8.shape[1])).astype(str))))\n",
    "res1['cond'] = conds\n",
    "res1['type'] = types\n",
    "res1['samp'] = samps\n",
    "res1['rep']  = [samp.split('_')[1][0] for samp in samps]\n",
    "\n",
    "\n",
    "res0 = pd.DataFrame(zlognorm, columns=genes_sel)\n",
    "res2 = pd.DataFrame(pcs_p17on, columns=np.char.add(\"p17onPC\", ((1+np.arange(pcs_p17on.shape[1])).astype(str))))\n",
    "res = pd.concat([res0, res1, res2], axis=1)"
   ]
  },
  {
   "cell_type": "code",
   "execution_count": null,
   "id": "b65a87b1-5280-4cd4-a930-8089cc06e15a",
   "metadata": {
    "tags": []
   },
   "outputs": [],
   "source": [
    "fig, ax = plt.subplots(figsize=(6,4))\n",
    "ax.plot(np.arange(len(pca.explained_variance_ratio_))+1, pca.explained_variance_ratio_, '-o', markersize=5)\n",
    "ax.plot(np.arange(len(pca2.explained_variance_ratio_))+1, pca2.explained_variance_ratio_, '-o', markersize=5)\n",
    "ax.axhline(1/lognorm.shape[1], linestyle='--', color='gray')\n",
    "ax.set_xlabel('PC')\n",
    "ax.set_ylabel('explained var')"
   ]
  },
  {
   "cell_type": "code",
   "execution_count": null,
   "id": "7d39cdaa-ad88-4aa2-8313-5ee56c0f37e8",
   "metadata": {
    "tags": []
   },
   "outputs": [],
   "source": [
    "allcolors = sns.color_palette('tab20c', 20)\n",
    "allcolors"
   ]
  },
  {
   "cell_type": "code",
   "execution_count": null,
   "id": "b9738b71-19bb-4e6d-ba3d-e38215a3347b",
   "metadata": {
    "tags": []
   },
   "outputs": [],
   "source": [
    "allcolors2 = sns.color_palette('tab10', 20)\n",
    "allcolors2"
   ]
  },
  {
   "cell_type": "code",
   "execution_count": null,
   "id": "3e8e4d75-2d87-4c0a-a809-43053850bc71",
   "metadata": {
    "tags": []
   },
   "outputs": [],
   "source": [
    "palette = collections.OrderedDict({\n",
    "     \"P8NR\": allcolors[2],\n",
    "    \"P14NR\": allcolors[0],\n",
    "    \n",
    "    \"P17NR\": allcolors[7],\n",
    "    \"P21NR\": allcolors[6],\n",
    "    \"P28NR\": allcolors[5],\n",
    "    \"P38NR\": allcolors[4],\n",
    "    \n",
    "})\n",
    "\n",
    "palette_types = collections.OrderedDict({\n",
    "    'L2/3_A': allcolors2[0],\n",
    "    'L2/3_B': allcolors2[1],\n",
    "    'L2/3_C': allcolors2[2],\n",
    "    \n",
    "    'L2/3_1': allcolors2[0],\n",
    "    'L2/3_2': allcolors2[1],\n",
    "    'L2/3_3': allcolors2[2],\n",
    "    \n",
    "    'L2/3_AB': allcolors2[0],\n",
    "    'L2/3_BC': allcolors2[2],\n",
    "})             \n",
    "\n",
    "cases = np.array(list(palette.keys()))"
   ]
  },
  {
   "cell_type": "code",
   "execution_count": null,
   "id": "01b3dc85-3f78-41d5-9296-07c2f55fe6d7",
   "metadata": {
    "tags": []
   },
   "outputs": [],
   "source": [
    "fig, ax = plt.subplots(figsize=(1,4))\n",
    "for i, (key, item) in enumerate(palette.items()):\n",
    "    ax.plot(0,     len(palette)-i, 'o', c=item, )\n",
    "    ax.text(0.02,  len(palette)-i, key, va='center', fontsize=15)\n",
    "    ax.axis('off')\n",
    "plt.show()"
   ]
  },
  {
   "cell_type": "code",
   "execution_count": null,
   "id": "db79fa11-01bf-4d0f-9616-3d3b7b8d0d62",
   "metadata": {
    "tags": []
   },
   "outputs": [],
   "source": [
    "from scipy import stats\n",
    "from matplotlib.ticker import MaxNLocator\n",
    "\n",
    "\n",
    "def plot(x, y, aspect_equal=False, density=False, hue='type'):\n",
    "    fig, axs = plt.subplots(1,6,figsize=(4*6,4*1), sharex=True, sharey=True)\n",
    "    for i, (ax, cond) in enumerate(zip(axs.flat, cases)):\n",
    "        ax.set_title(cond)\n",
    "        sns.scatterplot(data=res, \n",
    "                        x=x, y=y, \n",
    "                        c='lightgray',\n",
    "                        s=1, edgecolor='none', \n",
    "                        legend=False,\n",
    "                        ax=ax,\n",
    "                       )\n",
    "        if hue == 'type':\n",
    "            sns.scatterplot(data=res[res['cond']==cond].sample(frac=1, replace=False),\n",
    "                            x=x, y=y, \n",
    "                            hue='type',\n",
    "                            hue_order=list(palette_types.keys()),\n",
    "                            palette=palette_types,\n",
    "                            s=3, edgecolor='none', \n",
    "                            legend=False,\n",
    "                            ax=ax,\n",
    "                           )\n",
    "        else:\n",
    "            sns.scatterplot(data=res[res['cond']==cond].sample(frac=1, replace=False),\n",
    "                            x=x, y=y, \n",
    "                            hue='rep',\n",
    "                            # hue_order=list(palette_types.keys()),\n",
    "                            # palette=palette_types,\n",
    "                            s=3, edgecolor='none', \n",
    "                            legend=False,\n",
    "                            ax=ax,\n",
    "                           )\n",
    "            \n",
    "        if density:\n",
    "            sns.histplot(data=res[res['cond']==cond],\n",
    "                            x=x, y=y, \n",
    "                            legend=False,\n",
    "                            ax=ax,\n",
    "                           )\n",
    "        sns.despine(ax=ax)\n",
    "        ax.xaxis.set_major_locator(MaxNLocator(nbins=3))\n",
    "        ax.yaxis.set_major_locator(MaxNLocator(nbins=3))\n",
    "        if aspect_equal:\n",
    "            ax.set_aspect('equal')\n",
    "        if i > 0:\n",
    "            ax.set_xlabel('')\n",
    "            ax.set_ylabel('')\n",
    "    plt.show()\n",
    "    \n",
    "def plot2(x, y, hue=None, aspect_equal=False):\n",
    "    fig, axs = plt.subplots(1,6,figsize=(4*6,4*1), sharex=True, sharey=True)\n",
    "    fig.suptitle(hue, x=0.1, ha='left')\n",
    "    for i, (ax, cond) in enumerate(zip(axs.flat, cases)):\n",
    "        ax.set_title(cond)\n",
    "        sns.scatterplot(data=res, \n",
    "                        x=x, y=y, \n",
    "                        c='lightgray',\n",
    "                        alpha=0.3,\n",
    "                        s=1, edgecolor='none', \n",
    "                        legend=False,\n",
    "                        ax=ax,\n",
    "                       )\n",
    "        show = res[res['cond']==cond]\n",
    "        if hue:\n",
    "            ax.scatter(show[x], show[y], c=show[hue], \n",
    "                       cmap='coolwarm',\n",
    "                       vmin=-3, vmax=3,\n",
    "                       s=5, \n",
    "                       edgecolor='none', \n",
    "                      )\n",
    "        else:\n",
    "            r, p = stats.spearmanr(show[x], show[y])\n",
    "            ax.scatter(show[x], show[y],  \n",
    "                       s=5, \n",
    "                       edgecolor='none', \n",
    "                      )\n",
    "            ax.set_title(f'{cond}\\n r={r:.2f}')\n",
    "        sns.despine(ax=ax)\n",
    "        ax.xaxis.set_major_locator(MaxNLocator(nbins=3))\n",
    "        ax.yaxis.set_major_locator(MaxNLocator(nbins=3))\n",
    "        if aspect_equal:\n",
    "            ax.set_aspect('equal')\n",
    "        if i > 0:\n",
    "            ax.set_xlabel('')\n",
    "            ax.set_ylabel('')\n",
    "    plt.show()"
   ]
  },
  {
   "cell_type": "code",
   "execution_count": null,
   "id": "8c1a8ec8-537b-4985-b7cb-d4deecfbdcdb",
   "metadata": {
    "tags": []
   },
   "outputs": [],
   "source": [
    "plot('p8PC1', 'p8PC2', aspect_equal=True, hue='rep')"
   ]
  },
  {
   "cell_type": "code",
   "execution_count": null,
   "id": "ab0f0776-79cd-487e-9144-d87003c03f60",
   "metadata": {
    "tags": []
   },
   "outputs": [],
   "source": [
    "plot('p17onPC1', 'p17onPC2', aspect_equal=True, hue='rep')"
   ]
  },
  {
   "cell_type": "markdown",
   "id": "2671c2fb-8d5f-455e-a5ba-c2c020fd6a82",
   "metadata": {},
   "source": [
    "# query a gene - mean over top 30% over time"
   ]
  },
  {
   "cell_type": "code",
   "execution_count": null,
   "id": "129615d7-c359-42be-b29c-269b90c6dad5",
   "metadata": {
    "tags": []
   },
   "outputs": [],
   "source": [
    "adata"
   ]
  },
  {
   "cell_type": "code",
   "execution_count": null,
   "id": "c2b2d25e-aa1d-4004-b459-77b59b86f6dd",
   "metadata": {
    "tags": []
   },
   "outputs": [],
   "source": [
    "query_genes = np.array([\n",
    "    'Zbtb20',\n",
    "    'Nfia',\n",
    "    'Nfib',\n",
    "    'Nr3c2',\n",
    "    'Gtf2ird1',\n",
    "    'Ikzf2',\n",
    "    'Glis3',\n",
    "    'Rfx3',\n",
    "    'Tox3',\n",
    "    'Zfp608',\n",
    "    'Npas3',\n",
    "    'Meis2',\n",
    "    \n",
    "    'Sox5',\n",
    "    'Npas4',\n",
    "    \n",
    "    'Tox', \n",
    "    # 'Lcorl',\n",
    "    'Zbtb7c',\n",
    "    'Foxp1',\n",
    "    'Rorb',\n",
    "    'Maf',\n",
    "    'Zfp618',\n",
    "    'Tshz1',\n",
    "    # 'Tbr1',\n",
    "    'Mkx',\n",
    "    'Jdp2'\n",
    "])"
   ]
  },
  {
   "cell_type": "code",
   "execution_count": null,
   "id": "d4d806b5-02d6-41c9-a4d3-967cb2b21459",
   "metadata": {
    "tags": []
   },
   "outputs": [],
   "source": [
    "# query_genes = genes_l23b \n",
    "query_adata = adata[:,query_genes]\n",
    "query_adata"
   ]
  },
  {
   "cell_type": "code",
   "execution_count": null,
   "id": "d75320fd-fde6-41e3-8c56-fedda5b43f3e",
   "metadata": {
    "tags": []
   },
   "outputs": [],
   "source": [
    "topmeans = []\n",
    "botmeans = []\n",
    "midmeans = []\n",
    "for case in cases:\n",
    "    query_adata_case = query_adata[query_adata.obs['cond']==case]\n",
    "\n",
    "    mat = np.array(query_adata_case.layers['lognorm'])\n",
    "    ncut = int(len(mat)/3)\n",
    "    topmean = np.mean(np.sort(mat, axis=0)[-ncut:,:], axis=0)\n",
    "    botmean = np.mean(np.sort(mat, axis=0)[:ncut ,:], axis=0)\n",
    "    midmean = np.mean(np.sort(mat, axis=0)[ncut:2*ncut,:], axis=0)\n",
    "    topmeans.append(topmean)\n",
    "    botmeans.append(botmean)\n",
    "    midmeans.append(midmean)\n",
    "    \n",
    "topmeans = np.vstack(topmeans)\n",
    "botmeans = np.vstack(botmeans)\n",
    "midmeans = np.vstack(midmeans)\n",
    "topmeans.shape"
   ]
  },
  {
   "cell_type": "code",
   "execution_count": null,
   "id": "111a7126-db66-476e-be47-09d7a53f04a2",
   "metadata": {
    "tags": []
   },
   "outputs": [],
   "source": [
    "# order genes according to when they peak\n",
    "whenpeak = np.argmax(topmeans, axis=0)\n",
    "gene_order_idx = np.argsort(whenpeak)\n",
    "query_genes_ordered = query_genes[gene_order_idx]\n",
    "print(whenpeak)\n",
    "print(gene_order_idx)\n",
    "print(query_genes_ordered)"
   ]
  },
  {
   "cell_type": "code",
   "execution_count": null,
   "id": "ec6ebe36-6d0d-4a9b-9ede-1874143369f1",
   "metadata": {
    "tags": []
   },
   "outputs": [],
   "source": [
    "df_topmeans = pd.DataFrame(topmeans, columns=query_genes, index=cases)[query_genes_ordered]\n",
    "df_botmeans = pd.DataFrame(botmeans, columns=query_genes, index=cases)[query_genes_ordered]\n",
    "df_midmeans = pd.DataFrame(midmeans, columns=query_genes, index=cases)[query_genes_ordered]\n",
    "df_topmeans"
   ]
  },
  {
   "cell_type": "code",
   "execution_count": null,
   "id": "6ed3707b-ba6c-4b66-9dad-a1c270456a45",
   "metadata": {
    "tags": []
   },
   "outputs": [],
   "source": [
    "fig, ax = plt.subplots(figsize=(5,8))\n",
    "sns.heatmap((df_topmeans-df_topmeans.mean()).T, cmap='coolwarm', ax=ax, yticklabels=True, \n",
    "            center=0, vmax=np.log10(2), vmin=-np.log10(2))\n",
    "\n",
    "# fig, ax = plt.subplots(figsize=(5,8))\n",
    "# sns.heatmap((df_botmeans-df_botmeans.mean()).T, cmap='coolwarm', ax=ax, yticklabels=True, \n",
    "#             center=0, \n",
    "#             # vmax=np.log10(2), vmin=-np.log10(2),\n",
    "#            )\n",
    "\n",
    "# fig, ax = plt.subplots(figsize=(5,8))\n",
    "# sns.heatmap((df_midmeans-df_midmeans.mean()).T, cmap='coolwarm', ax=ax, yticklabels=True, \n",
    "#             center=0, \n",
    "#             # vmax=np.log10(2), vmin=-np.log10(2),\n",
    "#            )"
   ]
  },
  {
   "cell_type": "code",
   "execution_count": null,
   "id": "c52f8c45-b371-4588-8196-7f43f215dc8a",
   "metadata": {
    "tags": []
   },
   "outputs": [],
   "source": [
    "times = np.array([8, 14, 17, 21, 28, 38])"
   ]
  },
  {
   "cell_type": "code",
   "execution_count": null,
   "id": "de700249-b300-402c-a232-f1a066bd8e53",
   "metadata": {
    "tags": []
   },
   "outputs": [],
   "source": [
    "n = len(query_genes)\n",
    "nx = 7\n",
    "ny = int((n+nx-1)/nx)\n",
    "fig, axs = plt.subplots(ny,nx,figsize=(nx*3,ny*3))\n",
    "for i in range(n):\n",
    "    ax = axs.flat[i]\n",
    "    vals_top = df_topmeans.iloc[:,i]\n",
    "    ax.plot(times, vals_top.values, '-o') # , label=query_genes[0])\n",
    "    ax.set_xticks(times)\n",
    "    ax.set_title(vals_top.name)\n",
    "    sns.despine(ax=ax)\n",
    "ax = axs.flat[0]\n",
    "ax.set_xlabel('time')\n",
    "ax.set_ylabel('log10(CP10k+1)\\n mean over top 1/2 L2/3 cells')\n",
    "fig.tight_layout()"
   ]
  },
  {
   "cell_type": "code",
   "execution_count": null,
   "id": "bd38e016-7d37-408b-a790-0cd43c93716d",
   "metadata": {
    "tags": []
   },
   "outputs": [],
   "source": [
    "n = len(query_genes)\n",
    "nx = 7\n",
    "ny = int((n+nx-1)/nx)\n",
    "fig, axs = plt.subplots(ny,nx,figsize=(nx*3,ny*3))\n",
    "for i in range(n):\n",
    "    ax = axs.flat[i]\n",
    "    vals_top = df_topmeans.iloc[:,i]\n",
    "    vals_bot = df_botmeans.iloc[:,i]\n",
    "    vals_mid = df_midmeans.iloc[:,i]\n",
    "    ax.plot(times, vals_top.values, '-o') # , label=query_genes[0])\n",
    "    ax.plot(times, vals_bot.values, '-o') # , label=query_genes[0])\n",
    "    ax.plot(times, vals_mid.values, '-o') # , label=query_genes[0])\n",
    "    ax.set_xticks(times)\n",
    "    ax.set_title(vals_top.name)\n",
    "    sns.despine(ax=ax)\n",
    "ax = axs.flat[0]\n",
    "ax.set_xlabel('time')\n",
    "ax.set_ylabel('log10(CP10k+1)\\n mean over top 1/2 L2/3 cells')\n",
    "fig.tight_layout()"
   ]
  },
  {
   "cell_type": "code",
   "execution_count": null,
   "id": "4e2860e9-4349-4843-a8be-5b68c409bab2",
   "metadata": {},
   "outputs": [],
   "source": []
  },
  {
   "cell_type": "code",
   "execution_count": null,
   "id": "a5c7ce38-c2d4-4340-bdd8-fab64275b7b9",
   "metadata": {},
   "outputs": [],
   "source": []
  },
  {
   "cell_type": "code",
   "execution_count": null,
   "id": "ff4ee398-e868-4950-8fb0-0c7951ebd903",
   "metadata": {},
   "outputs": [],
   "source": []
  },
  {
   "cell_type": "code",
   "execution_count": null,
   "id": "1025b628-b79e-4879-8172-d8e03c23c3df",
   "metadata": {},
   "outputs": [],
   "source": []
  },
  {
   "cell_type": "code",
   "execution_count": null,
   "id": "2ce13c67-793f-4eeb-bed1-d0270aab7cf0",
   "metadata": {},
   "outputs": [],
   "source": []
  },
  {
   "cell_type": "code",
   "execution_count": null,
   "id": "7a20501f-acc1-4a3d-a398-cb9cef5faa83",
   "metadata": {},
   "outputs": [],
   "source": []
  },
  {
   "cell_type": "code",
   "execution_count": null,
   "id": "612ed290-2bba-445c-8828-781404acd08b",
   "metadata": {},
   "outputs": [],
   "source": []
  },
  {
   "cell_type": "code",
   "execution_count": null,
   "id": "092f2cfa-1238-4fb1-b42d-13921e417816",
   "metadata": {
    "tags": []
   },
   "outputs": [],
   "source": [
    "plot('p8PC1', 'p8PC2', aspect_equal=True)\n",
    "plot('p8PC1', 'p8PC3', aspect_equal=True)\n",
    "plot('p17onPC1', 'p17onPC2', aspect_equal=True)"
   ]
  },
  {
   "cell_type": "markdown",
   "id": "cf3a23e6-c07f-453a-9fb4-8608e65850a4",
   "metadata": {},
   "source": [
    "# explore"
   ]
  },
  {
   "cell_type": "code",
   "execution_count": null,
   "id": "8d128a50-5498-4b53-bfdf-9784f3232f13",
   "metadata": {
    "tags": []
   },
   "outputs": [],
   "source": [
    "# for g in gaba_sel:\n",
    "genes_viz = df_topmeans.columns#query_genes[query_genes_idx] # ['Sox5', 'Rgs8', 'Trpc6', 'Sorcs3']\n",
    "for g in genes_viz:\n",
    "    plot2('p17onPC1', 'p17onPC2', hue=g, aspect_equal=True)\n",
    "    \n",
    "# for g in genes_viz:\n",
    "#     plot2('p8PC1', 'p8PC2', hue=g, aspect_equal=True)\n"
   ]
  },
  {
   "cell_type": "code",
   "execution_count": null,
   "id": "5e106b36-0d06-425e-88b5-1ff256ce0c89",
   "metadata": {
    "tags": []
   },
   "outputs": [],
   "source": [
    "# for g in gaba_sel:\n",
    "genes_viz = ['Npas3', 'Npas4']#df_topmeans.columns#query_genes[query_genes_idx] # ['Sox5', 'Rgs8', 'Trpc6', 'Sorcs3']\n",
    "for g in genes_viz:\n",
    "    plot2('p17onPC1', 'p17onPC2', hue=g, aspect_equal=True)"
   ]
  },
  {
   "cell_type": "code",
   "execution_count": null,
   "id": "95732a80-ef32-439f-9aff-9de16d5f7d0d",
   "metadata": {
    "tags": []
   },
   "outputs": [],
   "source": [
    "genes_viz = ['Meis2', 'Sox5', 'Tox',]#df_topmeans.columns#query_genes[query_genes_idx] # ['Sox5', 'Rgs8', 'Trpc6', 'Sorcs3']\n",
    "for g in genes_viz:\n",
    "    plot2('p17onPC1', 'p17onPC2', hue=g, aspect_equal=True)"
   ]
  },
  {
   "cell_type": "code",
   "execution_count": null,
   "id": "b179870c-e370-4c82-9821-783af5b45516",
   "metadata": {
    "tags": []
   },
   "outputs": [],
   "source": [
    "genes_viz = ['Meis2', 'Sox5', 'Tox',]#df_topmeans.columns#query_genes[query_genes_idx] # ['Sox5', 'Rgs8', 'Trpc6', 'Sorcs3']\n",
    "for g in genes_viz:\n",
    "    plot2('p8PC1', 'p8PC3', hue=g, aspect_equal=True)"
   ]
  },
  {
   "cell_type": "code",
   "execution_count": null,
   "id": "762189f7-bc77-4672-9d48-6dc957303cc7",
   "metadata": {
    "tags": []
   },
   "outputs": [],
   "source": [
    "genes_viz = ['Meis2', 'Sox5', 'Tox',]#df_topmeans.columns#query_genes[query_genes_idx] # ['Sox5', 'Rgs8', 'Trpc6', 'Sorcs3']\n",
    "for g in genes_viz:\n",
    "    plot2('p8PC1', 'p8PC2', hue=g, aspect_equal=True)"
   ]
  },
  {
   "cell_type": "code",
   "execution_count": null,
   "id": "31804965-a8f2-420f-8fc8-f3efdb6ad462",
   "metadata": {},
   "outputs": [],
   "source": []
  }
 ],
 "metadata": {
  "kernelspec": {
   "display_name": "Python 3 (ipykernel)",
   "language": "python",
   "name": "python3"
  },
  "language_info": {
   "codemirror_mode": {
    "name": "ipython",
    "version": 3
   },
   "file_extension": ".py",
   "mimetype": "text/x-python",
   "name": "python",
   "nbconvert_exporter": "python",
   "pygments_lexer": "ipython3",
   "version": "3.9.16"
  }
 },
 "nbformat": 4,
 "nbformat_minor": 5
}
