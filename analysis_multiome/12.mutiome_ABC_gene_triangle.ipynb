{
 "cells": [
  {
   "cell_type": "code",
   "execution_count": null,
   "id": "bb214b6d-836a-49b8-93dd-a19f021215b7",
   "metadata": {
    "tags": []
   },
   "outputs": [],
   "source": [
    "import os\n",
    "import numpy as np\n",
    "import pandas as pd\n",
    "import scanpy as sc\n",
    "import anndata \n",
    "import seaborn as sns\n",
    "from scipy.stats import zscore\n",
    "import matplotlib.pyplot as plt\n",
    "import collections\n",
    "from natsort import natsorted\n",
    "\n",
    "from scipy import stats\n",
    "from scipy import sparse\n",
    "from sklearn.decomposition import PCA\n",
    "from umap import UMAP\n",
    "\n",
    "from matplotlib.colors import LinearSegmentedColormap\n",
    "\n",
    "from scroutines.config_plots import *\n",
    "from scroutines import powerplots # .config_plots import *\n",
    "from scroutines import pnmf\n",
    "from scroutines import basicu\n",
    "from scroutines.gene_modules import GeneModules  \n"
   ]
  },
  {
   "cell_type": "code",
   "execution_count": null,
   "id": "f45abc88-0cbc-4575-8035-9cb157c42bc2",
   "metadata": {},
   "outputs": [],
   "source": [
    "outdir_fig = \"/u/home/f/f7xiesnm/project-zipursky/v1-bb/v1/figures\""
   ]
  },
  {
   "cell_type": "markdown",
   "id": "ba1f61ee-ba83-4707-816d-37eb33a54b83",
   "metadata": {},
   "source": [
    "# load gene annotation and data"
   ]
  },
  {
   "cell_type": "code",
   "execution_count": null,
   "id": "516a31fc-2fa7-4aac-a175-0b1620a671c6",
   "metadata": {
    "tags": []
   },
   "outputs": [],
   "source": [
    "gene_modules = GeneModules()\n",
    "g, gs, ms = gene_modules.check_genes('Cdh13')\n",
    "print(\"\\t\".join(g))\n",
    "print(\"\\t\".join(gs))\n",
    "print(\"\\t\".join(ms))"
   ]
  },
  {
   "cell_type": "code",
   "execution_count": null,
   "id": "012e0c55-888e-43b8-bb75-846ef63d3f26",
   "metadata": {
    "tags": []
   },
   "outputs": [],
   "source": [
    "# AC genes\n",
    "f = '/u/home/f/f7xiesnm/project-zipursky/v1-bb/v1/data/v1_multiome/Saumya_P6-21_AC_genes.csv'\n",
    "df = pd.read_csv(f)\n",
    "\n",
    "df_a = df.iloc[:25]\n",
    "df_c = df.iloc[25:]\n",
    "\n",
    "alltime_a = np.unique(df_a.values)\n",
    "alltime_c = np.unique(df_c.values)\n",
    "alltime_ac = np.hstack([alltime_a, alltime_c])\n",
    "\n",
    "ac_overlap = np.intersect1d(alltime_a, alltime_c)\n",
    "\n",
    "print(df_a.shape, df_c.shape, alltime_a.shape, alltime_c.shape, alltime_ac.shape, ac_overlap.shape)\n",
    "df.head()"
   ]
  },
  {
   "cell_type": "code",
   "execution_count": null,
   "id": "fb72ade4-5ddd-4d8d-9d66-847375e16845",
   "metadata": {},
   "outputs": [],
   "source": [
    "# use those 286 genes\n",
    "# df = pd.read_csv(\"../../data/cheng21_cell_scrna/res/candidate_genes_vincent_0503_v2.csv\")\n",
    "df = pd.read_csv(\"../../data/cheng21_cell_scrna/res/L23-ABC-genes-n288-n286unq-annot.csv\")\n",
    "genes_l23 = df['gene'].astype(str).values\n",
    "genes_l23a = df[df['P17on']=='A']['gene'].astype(str).values\n",
    "genes_l23b = df[df['P17on']=='B']['gene'].astype(str).values\n",
    "genes_l23c = df[df['P17on']=='C']['gene'].astype(str).values\n",
    "\n",
    "print(genes_l23a.shape, genes_l23b.shape, genes_l23c.shape)\n",
    "genes_grp = df['P17on'].astype(str).values\n",
    "assert len(genes_l23) == len(np.unique(genes_l23))\n",
    "\n",
    "genes_l23.shape"
   ]
  },
  {
   "cell_type": "code",
   "execution_count": null,
   "id": "8542eec8-b8e1-4a35-9237-0d3c0043349b",
   "metadata": {},
   "outputs": [],
   "source": [
    "f_anndata_in  = \"../../data/v1_multiome/L23_allmultiome_raw.h5ad\"\n",
    "f_anndata_out = \"../../data/v1_multiome/L23_allmultiome_proc_P6toP21.h5ad\" \n",
    "adata = anndata.read(f_anndata_in)\n"
   ]
  },
  {
   "cell_type": "code",
   "execution_count": null,
   "id": "c715643c-0748-414c-b477-4294cb85b5cc",
   "metadata": {
    "tags": []
   },
   "outputs": [],
   "source": [
    "sample_labels = [\"-\".join(cell.split(' ')[0].split('-')[2:]).replace('-2023', '') for cell in adata.obs.index]\n",
    "time_labels = [s[:-1].replace('DR', '') for s in sample_labels]\n",
    "\n",
    "adata.obs['n_counts'] = adata.obs['nCount_RNA']\n",
    "adata.obs['sample'] = sample_labels\n",
    "adata.obs['time']   = time_labels\n",
    "\n",
    "uniq_samples = natsorted(np.unique(sample_labels))\n",
    "uniq_times = natsorted(np.unique(time_labels))\n",
    "\n",
    "nr_samples = [s for s in uniq_samples if \"DR\" not in s]\n",
    "dr_samples = [s for s in uniq_samples if \"DR\" in s]\n",
    "print(uniq_times)\n",
    "print(nr_samples)\n",
    "print(dr_samples)\n",
    "\n",
    "# adata.obs['sample'] = sample_labels"
   ]
  },
  {
   "cell_type": "code",
   "execution_count": null,
   "id": "4d9ae16c-9107-4acd-8405-fbcd84bd8e0d",
   "metadata": {
    "tags": []
   },
   "outputs": [],
   "source": [
    "# select samples\n",
    "adata = adata[adata.obs['sample'].isin(nr_samples)]\n",
    "adata = adata[adata.obs['time'].isin(['P6', 'P8', 'P10', 'P12', 'P14', 'P17', 'P21'])]\n",
    "adata.obs['cond'] = adata.obs['time']\n",
    "\n",
    "# remove mitocondria genes\n",
    "adata = adata[:,~adata.var['features'].str.contains(r'^mt-')]\n",
    "\n",
    "# select\n",
    "# adata = adata[adata.obs['cond'].str.contains(r\"NR$\")]\n",
    "adata.obs['sample'].unique(), adata.obs['cond'].unique()"
   ]
  },
  {
   "cell_type": "code",
   "execution_count": null,
   "id": "4909ea27-eafc-4571-aee4-afb718a5a171",
   "metadata": {
    "tags": []
   },
   "outputs": [],
   "source": [
    "# define\n",
    "# genes = adata.var.index.values\n",
    "conds = adata.obs['cond'].values\n",
    "types = adata.obs['Type'].values\n",
    "samps = adata.obs['sample'].values\n",
    "\n",
    "# organize\n",
    "rename = {\n",
    "    \"L2/3_A\": \"L2/3_A\",\n",
    "    \"L2/3_B\": \"L2/3_B\",\n",
    "    \"L2/3_C\": \"L2/3_C\",\n",
    "    \n",
    "    \"L2/3_1\": \"L2/3_A\",\n",
    "    \"L2/3_2\": \"L2/3_B\",\n",
    "    \"L2/3_3\": \"L2/3_C\",\n",
    "    \n",
    "    \"L2/3_AB\": \"L2/3_A\",\n",
    "    \"L2/3_BC\": \"L2/3_C\",\n",
    "}\n",
    "adata.obs['easitype'] = adata.obs['Type'] #.apply(lambda x: rename[x])\n",
    "adata"
   ]
  },
  {
   "cell_type": "code",
   "execution_count": null,
   "id": "5a7d34aa-74e8-41ce-8443-42f08af5c5d4",
   "metadata": {
    "tags": []
   },
   "outputs": [],
   "source": [
    "adata.obs['Type'].unique()"
   ]
  },
  {
   "cell_type": "code",
   "execution_count": null,
   "id": "1fadd441-11aa-49ab-abcc-d8d5e9cf47ea",
   "metadata": {},
   "outputs": [],
   "source": [
    "# filter genes\n",
    "cond = np.ravel((adata.X>0).sum(axis=0)) > 10 # expressed in more than 10 cells\n",
    "adata = adata[:,cond].copy()\n",
    "genes = adata.var.index.values\n",
    "\n",
    "# counts\n",
    "x = adata.X\n",
    "cov = adata.obs['n_counts'].values\n",
    "genes = adata.var.index.values\n",
    "\n",
    "# CP10k\n",
    "# xn = x/cov.reshape(x.shape[0], -1)*1e4\n",
    "xn = (sparse.diags(1/cov).dot(x))*1e4\n",
    "\n",
    "# log10(CP10k+1)\n",
    "xln = xn.copy()\n",
    "xln.data = np.log10(xln.data+1)\n",
    "\n",
    "adata.layers[    'norm'] = np.array(xn.todense())\n",
    "adata.layers[ 'lognorm'] = np.array(xln.todense())\n",
    "adata.layers['zlognorm'] = zscore(np.array(xln.todense()), axis=0)"
   ]
  },
  {
   "cell_type": "code",
   "execution_count": null,
   "id": "ee38a818-ddf9-4cac-9cd5-995cc8c92699",
   "metadata": {},
   "outputs": [],
   "source": [
    "# select HVGs with mean and var\n",
    "nbin = 20\n",
    "qth = 0.3\n",
    "\n",
    "# min\n",
    "gm = np.ravel(xn.mean(axis=0))\n",
    "\n",
    "# var\n",
    "tmp = xn.copy()\n",
    "tmp.data = np.power(tmp.data, 2)\n",
    "gv = np.ravel(tmp.mean(axis=0))-gm**2\n",
    "\n",
    "# cut \n",
    "lbl = pd.qcut(gm, nbin, labels=np.arange(nbin))\n",
    "gres = pd.DataFrame()\n",
    "gres['name'] = genes\n",
    "gres['lbl'] = lbl\n",
    "gres['mean'] = gm\n",
    "gres['var'] = gv\n",
    "gres['ratio']= gv/gm\n",
    "\n",
    "# select\n",
    "gres_sel = gres.groupby('lbl')['ratio'].nlargest(int(qth*(len(gm)/nbin))) #.reset_index()\n",
    "gsel_idx = np.sort(gres_sel.index.get_level_values(1).values)\n",
    "assert np.all(gsel_idx != -1)\n"
   ]
  },
  {
   "cell_type": "code",
   "execution_count": null,
   "id": "4ac784ef-dea4-45da-8de5-91ea3d0d8f4a",
   "metadata": {
    "tags": []
   },
   "outputs": [],
   "source": [
    "# gsel_idx = np.union1d(gsel_idx, gaba_idx)\n",
    "\n",
    "# # \n",
    "l23_gidx = basicu.get_index_from_array(genes, genes_l23)\n",
    "l23_gidx = l23_gidx[l23_gidx!=-1]\n",
    "assert np.all(l23_gidx != -1)"
   ]
  },
  {
   "cell_type": "code",
   "execution_count": null,
   "id": "ea683c02-56eb-48f3-9904-29f72e678735",
   "metadata": {},
   "outputs": [],
   "source": [
    "fig, axs = plt.subplots(1,2, figsize=(6*2,4), sharex=True, sharey=True)\n",
    "ax = axs[0]\n",
    "ax.scatter(gm, gv/gm, s=5, edgecolor='none', color='gray')\n",
    "ax.set_xscale('log')\n",
    "ax.set_yscale('log')\n",
    "ax.set_xlabel('mean expr (CP10k)')\n",
    "ax.set_ylabel('var/mean')\n",
    "ax.set_title(f'{len(gm):,} genes')\n",
    "\n",
    "ax = axs[1]\n",
    "ax.scatter(gm, gv/gm, s=5, edgecolor='none', color='gray')\n",
    "ax.scatter(gm[gsel_idx], (gv/gm)[gsel_idx], c=lbl[gsel_idx], s=5, edgecolor='none', cmap='viridis_r', label=f'{len(gsel_idx):,} HVGs')\n",
    "ax.set_xscale('log')\n",
    "ax.set_yscale('log')\n",
    "ax.set_xlabel('mean expr (CP10k)')\n",
    "ax.set_ylabel('var/mean')\n",
    "ax.legend(bbox_to_anchor=(1,1))\n",
    "\n",
    "plt.show()"
   ]
  },
  {
   "cell_type": "code",
   "execution_count": null,
   "id": "b8db6d89-2c84-4360-85c3-d3f400af66b6",
   "metadata": {
    "tags": []
   },
   "outputs": [],
   "source": [
    "adata_sub = adata[:,l23_gidx]\n",
    "adata_subp8 = adata_sub[adata_sub.obs['cond'].isin(['P8'])]\n",
    "adata_subp17on = adata_sub[adata_sub.obs['cond'].isin(['P17', 'P21', 'P28'])]\n",
    "genes_sel = adata_sub.var.index.values\n",
    "\n",
    "\n",
    "pca = PCA(n_components=5)\n",
    "pca.fit(adata_subp8.layers['lognorm'][...])\n",
    "pcs_p8 = pca.transform(adata_sub.layers['lognorm'][...])\n",
    "pcs_p8[:,0] = -pcs_p8[:,0] # flip PC1\n",
    "pcs_p8[:,2] = -pcs_p8[:,2] # flip PC3\n",
    "\n",
    "\n",
    "pca2 = PCA(n_components=5)\n",
    "pca2.fit(adata_subp17on.layers['zlognorm'][...])\n",
    "pcs_p17on = pca2.transform(adata_sub.layers['zlognorm'][...])\n",
    "pcs_p17on[:,1] = -pcs_p17on[:,1] # flip PC2"
   ]
  },
  {
   "cell_type": "code",
   "execution_count": null,
   "id": "0a051129-b302-42ed-9d4a-445fa39d1bf7",
   "metadata": {
    "tags": []
   },
   "outputs": [],
   "source": [
    "vt = pca.components_\n",
    "topgenes_p8_pc1 = genes_sel[np.argsort(np.abs(vt[0]))[::-1]]\n",
    "print(topgenes_p8_pc1[:10])\n",
    "topgenes_p8_pc2 = genes_sel[np.argsort(np.abs(vt[1]))[::-1]]\n",
    "print(topgenes_p8_pc2[:10])\n",
    "topgenes_p8_pc3 = genes_sel[np.argsort(np.abs(vt[2]))[::-1]]\n",
    "print(topgenes_p8_pc3[:10])"
   ]
  },
  {
   "cell_type": "code",
   "execution_count": null,
   "id": "ad6af698-718a-4ecc-804f-244998875592",
   "metadata": {},
   "outputs": [],
   "source": [
    "adata.obsm['pca_p17on'] = pcs_p17on\n",
    "adata.obsm['pca_p8'] = pcs_p8"
   ]
  },
  {
   "cell_type": "code",
   "execution_count": null,
   "id": "2710199e-e053-41b4-9838-dc1f261e1b22",
   "metadata": {
    "tags": []
   },
   "outputs": [],
   "source": [
    "res0 = pd.DataFrame(adata.layers['zlognorm'][...], columns=genes)\n",
    "res0['cond'] = conds\n",
    "res0['type'] = types\n",
    "res0['samp'] = samps\n",
    "res0['rep']  = [samp[-1] for samp in samps]\n",
    "res0['type'] = np.char.add('c', res0['type'].values.astype(str))\n",
    "\n",
    "res1 = pd.DataFrame(pcs_p8, columns=np.char.add(\"p8PC\", ((1+np.arange(pcs_p8.shape[1])).astype(str))))\n",
    "res2 = pd.DataFrame(pcs_p17on, columns=np.char.add(\"p17onPC\", ((1+np.arange(pcs_p17on.shape[1])).astype(str))))\n",
    "res = pd.concat([res0, res1, res2], axis=1)"
   ]
  },
  {
   "cell_type": "code",
   "execution_count": null,
   "id": "7d39cdaa-ad88-4aa2-8313-5ee56c0f37e8",
   "metadata": {
    "tags": []
   },
   "outputs": [],
   "source": [
    "allcolors = sns.color_palette('tab20c', 20)\n",
    "allcolors"
   ]
  },
  {
   "cell_type": "code",
   "execution_count": null,
   "id": "b9738b71-19bb-4e6d-ba3d-e38215a3347b",
   "metadata": {
    "tags": []
   },
   "outputs": [],
   "source": [
    "allcolors2 = sns.color_palette('tab10', 20)\n",
    "allcolors2"
   ]
  },
  {
   "cell_type": "code",
   "execution_count": null,
   "id": "3e8e4d75-2d87-4c0a-a809-43053850bc71",
   "metadata": {
    "tags": []
   },
   "outputs": [],
   "source": [
    "palette = collections.OrderedDict({\n",
    "     \"P6\": allcolors[2],\n",
    "     \"P8\": allcolors[1],\n",
    "    \"P10\": allcolors[0],\n",
    "    \"P12\": allcolors[4+2],\n",
    "    \"P14\": allcolors[4+0],\n",
    "    \n",
    "    \"P17\": allcolors[8+2],\n",
    "    \"P21\": allcolors[8+0],\n",
    "    \n",
    "})\n",
    "cases = np.array(list(palette.keys()))\n",
    "\n",
    "cond_order_dict = {\n",
    "    'P6':  0,\n",
    "    'P8':  1,\n",
    "    'P10': 2,\n",
    "    'P12': 3,\n",
    "    'P14': 4,\n",
    "    'P17': 5,\n",
    "    'P21': 6,\n",
    "}\n",
    "unq_conds = np.array(list(cond_order_dict.keys()))\n",
    "adata.obs['cond_order'] = adata.obs['cond'].apply(lambda x: cond_order_dict[x])\n",
    "\n",
    "palette_types = collections.OrderedDict({\n",
    "    'L2/3_A': allcolors2[0],\n",
    "    'L2/3_B': allcolors2[1],\n",
    "    'L2/3_C': allcolors2[2],\n",
    "})             \n",
    "\n",
    "palette_types = {\n",
    "    'c14': 'C0', \n",
    "    'c18': 'C1',\n",
    "    'c16': 'C2', \n",
    "    \n",
    "    'c13': 'C0', \n",
    "    'c15': 'C1', \n",
    "    'c17': 'C2',\n",
    "}\n",
    "type_order = [key for key, val in palette_types.items()]\n",
    "type_order"
   ]
  },
  {
   "cell_type": "code",
   "execution_count": null,
   "id": "2049f5e8-35f0-4169-836f-262a1b9cb447",
   "metadata": {
    "tags": []
   },
   "outputs": [],
   "source": [
    "from scipy import stats\n",
    "from matplotlib.ticker import MaxNLocator\n",
    "\n",
    "def plot(x, y, aspect_equal=False, density=False, hue='type'):\n",
    "    n = 7\n",
    "    fig, axs = plt.subplots(1,n,figsize=(4*n,4*1), sharex=True, sharey=True)\n",
    "    for i, (ax, cond) in enumerate(zip(axs.flat, cases)):\n",
    "        ax.set_title(cond)\n",
    "        sns.scatterplot(data=res, \n",
    "                        x=x, y=y, \n",
    "                        c='lightgray',\n",
    "                        s=1, edgecolor='none', \n",
    "                        legend=False,\n",
    "                        ax=ax,\n",
    "                       )\n",
    "        if hue == 'type':\n",
    "            sns.scatterplot(data=res[res['cond']==cond].sample(frac=1, replace=False),\n",
    "                            x=x, y=y, \n",
    "                            hue='type',\n",
    "                            hue_order=list(palette_types.keys()),\n",
    "                            palette=palette_types,\n",
    "                            s=3, edgecolor='none', \n",
    "                            legend=False,\n",
    "                            ax=ax,\n",
    "                           )\n",
    "        else:\n",
    "            sns.scatterplot(data=res[res['cond']==cond].sample(frac=1, replace=False),\n",
    "                            x=x, y=y, \n",
    "                            hue='rep',\n",
    "                            # hue_order=list(palette_types.keys()),\n",
    "                            # palette=palette_types,\n",
    "                            s=3, edgecolor='none', \n",
    "                            legend=False,\n",
    "                            ax=ax,\n",
    "                           )\n",
    "            \n",
    "        if density:\n",
    "            sns.histplot(data=res[res['cond']==cond],\n",
    "                            x=x, y=y, \n",
    "                            legend=False,\n",
    "                            ax=ax,\n",
    "                           )\n",
    "        sns.despine(ax=ax)\n",
    "        ax.xaxis.set_major_locator(MaxNLocator(nbins=3))\n",
    "        ax.yaxis.set_major_locator(MaxNLocator(nbins=3))\n",
    "        if aspect_equal:\n",
    "            ax.set_aspect('equal')\n",
    "        if i > 0:\n",
    "            ax.set_xlabel('')\n",
    "            ax.set_ylabel('')\n",
    "    plt.show()\n",
    "    \n",
    "def plot2(x, y, hue=None, aspect_equal=False):\n",
    "    n = 7\n",
    "    fig, axs = plt.subplots(1,n,figsize=(4*n,4*1), sharex=True, sharey=True)\n",
    "    fig.suptitle(hue, x=0, ha='left')\n",
    "    for i, (ax, cond) in enumerate(zip(axs.flat, cases)):\n",
    "        ax.set_title(cond)\n",
    "        sns.scatterplot(data=res, \n",
    "                        x=x, y=y, \n",
    "                        c='lightgray',\n",
    "                        alpha=0.3,\n",
    "                        s=1, edgecolor='none', \n",
    "                        legend=False,\n",
    "                        ax=ax,\n",
    "                       )\n",
    "        show = res[res['cond']==cond]\n",
    "        if hue:\n",
    "            ax.scatter(show[x], show[y], c=show[hue], \n",
    "                       cmap='coolwarm',\n",
    "                       vmin=-3, vmax=3,\n",
    "                       s=5, \n",
    "                       edgecolor='none', \n",
    "                      )\n",
    "        else:\n",
    "            r, p = stats.spearmanr(show[x], show[y])\n",
    "            ax.scatter(show[x], show[y],  \n",
    "                       s=5, \n",
    "                       edgecolor='none', \n",
    "                      )\n",
    "            ax.set_title(f'{cond}\\n r={r:.2f}')\n",
    "        sns.despine(ax=ax)\n",
    "        ax.xaxis.set_major_locator(MaxNLocator(nbins=3))\n",
    "        ax.yaxis.set_major_locator(MaxNLocator(nbins=3))\n",
    "        if aspect_equal:\n",
    "            ax.set_aspect('equal')\n",
    "        if i > 0:\n",
    "            ax.set_xlabel('')\n",
    "            ax.set_ylabel('')\n",
    "        ax.grid(False)\n",
    "    fig.tight_layout()\n",
    "    plt.show()"
   ]
  },
  {
   "cell_type": "markdown",
   "id": "2304ef39-9adb-4062-bbba-62f66e27ee30",
   "metadata": {},
   "source": [
    "# save this AnnData"
   ]
  },
  {
   "cell_type": "code",
   "execution_count": null,
   "id": "1f9a95df-1cff-434c-9f48-06cc086f1eda",
   "metadata": {
    "tags": []
   },
   "outputs": [],
   "source": [
    "del adata.raw  # = None\n",
    "del adata.layers[\"lognorm\"]\n",
    "del adata.layers[\"zlognorm\"]"
   ]
  },
  {
   "cell_type": "code",
   "execution_count": null,
   "id": "c5e963d4-8cd0-4b28-8efa-7aac6906b434",
   "metadata": {
    "tags": []
   },
   "outputs": [],
   "source": [
    "# save float32 instead?\n",
    "for key in adata.layers:\n",
    "    adata.layers[key] = adata.layers[key].astype(np.float32)\n",
    "    \n",
    "for key in adata.obsm:\n",
    "    adata.obsm[key] = adata.obsm[key].astype(np.float32)\n",
    "    \n",
    "adata, adata.obsm['pca_p17on'].dtype"
   ]
  },
  {
   "cell_type": "code",
   "execution_count": null,
   "id": "5afccf54-984b-4be2-a7fa-d1165c5e3c92",
   "metadata": {
    "tags": []
   },
   "outputs": [],
   "source": [
    "adata.write(f_anndata_out)"
   ]
  },
  {
   "cell_type": "code",
   "execution_count": null,
   "id": "d17fed7a-ed4f-41aa-b92a-2df4f07fdf68",
   "metadata": {},
   "outputs": [],
   "source": []
  },
  {
   "cell_type": "code",
   "execution_count": null,
   "id": "eeecf45e-52ca-4d47-8a99-ed9094bf641f",
   "metadata": {},
   "outputs": [],
   "source": []
  },
  {
   "cell_type": "code",
   "execution_count": null,
   "id": "80db6fe7-383e-44ff-83d5-720442860a7d",
   "metadata": {},
   "outputs": [],
   "source": []
  },
  {
   "cell_type": "code",
   "execution_count": null,
   "id": "f17dc3ff-e9a9-4a64-9caf-dbfcf584f414",
   "metadata": {},
   "outputs": [],
   "source": []
  },
  {
   "cell_type": "markdown",
   "id": "6b85be99-851d-4901-babe-451778af4770",
   "metadata": {},
   "source": [
    "# Plot A vs C genes aligning cells along early vs late PCs"
   ]
  },
  {
   "cell_type": "code",
   "execution_count": null,
   "id": "092f2cfa-1238-4fb1-b42d-13921e417816",
   "metadata": {
    "tags": []
   },
   "outputs": [],
   "source": [
    "plot('p17onPC1', 'p17onPC2', aspect_equal=True)\n",
    "plot('p8PC1', 'p8PC2', aspect_equal=True)"
   ]
  },
  {
   "cell_type": "code",
   "execution_count": null,
   "id": "ffe59a74-9b80-4e37-88b3-c41208afd213",
   "metadata": {},
   "outputs": [],
   "source": []
  },
  {
   "cell_type": "markdown",
   "id": "f2273d28-a649-4b3e-b17c-75eaea4476f2",
   "metadata": {},
   "source": [
    "# big tensor"
   ]
  },
  {
   "cell_type": "code",
   "execution_count": null,
   "id": "09d57655-c050-4842-a623-8fd8cac63496",
   "metadata": {
    "tags": []
   },
   "outputs": [],
   "source": [
    "# by condition\n",
    "nt, nc, nr, ng = len(unq_conds), 5, 2, len(adata.var)  # time/condition, cluster, rep, gene \n",
    "tensor = np.zeros((nt, nc, nr, ng))\n",
    "\n",
    "for i, (cond_order, obssub) in enumerate(adata.obs.groupby('cond_order')):\n",
    "    adatasub = adata[obssub.index]\n",
    "    \n",
    "    # by type -- cut into nc=5 equal bins\n",
    "    x = adatasub.obsm['pca_p17on'][...,0]\n",
    "    type_lbls = pd.qcut(x, nc, labels=np.arange(nc)).astype(int)\n",
    "    unq_types = np.unique(type_lbls)\n",
    "    \n",
    "    # by replicates -- first two\n",
    "    sample_lbls = adatasub.obs['sample'].values\n",
    "    unq_samples = np.unique(sample_lbls)[:nr] # first nr samples if n > nr2\n",
    "    \n",
    "    for j, qtype in enumerate(unq_types):\n",
    "        for k, samp in enumerate(unq_samples):\n",
    "            selector = ((sample_lbls==samp) & (type_lbls==qtype))\n",
    "            tensor[i,j,k] = np.mean(adatasub[selector].layers['lognorm'][...], axis=0)"
   ]
  },
  {
   "cell_type": "code",
   "execution_count": null,
   "id": "c5a2386a-2c4f-4f8c-b61f-2892a6416224",
   "metadata": {},
   "outputs": [],
   "source": [
    "tensor.shape"
   ]
  },
  {
   "cell_type": "code",
   "execution_count": null,
   "id": "61fbe0a1-f856-44d2-b48f-4fc7ffac913c",
   "metadata": {},
   "outputs": [],
   "source": [
    "tensor[0,0,0]"
   ]
  },
  {
   "cell_type": "markdown",
   "id": "9014ad9d-e38f-486a-9675-ea0c17632e6b",
   "metadata": {},
   "source": [
    "# gene triangle analysis "
   ]
  },
  {
   "cell_type": "code",
   "execution_count": null,
   "id": "b58fdbe6-7bd6-402e-8cbb-c6ad99e88b1b",
   "metadata": {
    "tags": []
   },
   "outputs": [],
   "source": [
    "def get_2way_eta2_allgenes(nums):\n",
    "    \"\"\"\n",
    "    nums: c0, c1, r, g matrix - (cond0, cond1, reps, genes)\n",
    "    \n",
    "    return (eta2, stdv) - vectors one entry for each gene\n",
    "    \"\"\"\n",
    "    nc0, nc1, nr, ng = nums.shape # (num cond0, cond1, num rep, num genes)\n",
    "\n",
    "    rm   = np.mean(nums, axis=(0,1,2)) # global mean; reduced form\n",
    "    rm0  = np.mean(nums, axis=(1,2))   # mean per c0 across reps and ignoring c1  \n",
    "    rm1  = np.mean(nums, axis=(0,2))   # mean per c1 across reps and ignoring c0 \n",
    "    rm01 = np.mean(nums, axis=(2)) # mean per (c0, c1) across reps  \n",
    "    \n",
    "    em   = np.expand_dims(rm  , axis=(0,1,2)) # expanded form\n",
    "    em0  = np.expand_dims(rm0 , axis=(1,2))   # expanded form\n",
    "    em1  = np.expand_dims(rm1 , axis=(0,2))   # expanded form\n",
    "    em01 = np.expand_dims(rm01, axis=(2))     #  \n",
    "\n",
    "    # # SSt \n",
    "    SSt  = np.sum(np.power(nums-em, 2),   axis=(0,1,2))  \n",
    "    \n",
    "    # # SSwr (noise)\n",
    "    SSwr = np.sum(np.power(nums-em01, 2), axis=(0,1,2))  # within (c0,c1) across reps \n",
    "    \n",
    "    # # SSw\n",
    "    SSw0 = nr*np.sum(np.power(em01-em0, 2),  axis=(0,1,2))  # within c0 across reps and ignoring c1\n",
    "    SSw1 = nr*np.sum(np.power(em01-em1, 2),  axis=(0,1,2))  # within c1 across reps and ignoring c0 \n",
    "    \n",
    "    # SSt = SSwr + SSexp\n",
    "    # where SSexp = SSw0 + SSexp0 = SSw1 + SSexp1\n",
    "    SSexp  = SSt   - SSwr\n",
    "    SSexp0 = SSexp - SSw0\n",
    "    SSexp1 = SSexp - SSw1\n",
    "    \n",
    "    # return SSt, SSwr, SSw0, SSw1\n",
    "    \n",
    "    o = 1e-10\n",
    "    eta2_01 = (SSexp +o)/(SSt+o)\n",
    "    eta2_0  = (SSexp0+o)/(SSt+o)\n",
    "    eta2_1  = (SSexp1+o)/(SSt+o)\n",
    "    \n",
    "    return eta2_01, eta2_0, eta2_1\n"
   ]
  },
  {
   "cell_type": "code",
   "execution_count": null,
   "id": "403f6998-cd5c-45c3-895c-c8574907adff",
   "metadata": {
    "tags": []
   },
   "outputs": [],
   "source": [
    "eta2_tc, eta2_t, eta2_c = get_2way_eta2_allgenes(tensor)\n",
    "eta2_r = 1-eta2_tc\n",
    "eta2_tic = eta2_tc-(eta2_t+eta2_c)"
   ]
  },
  {
   "cell_type": "code",
   "execution_count": null,
   "id": "3635cc2d-981c-4d3e-a151-5f4d134973cf",
   "metadata": {
    "tags": []
   },
   "outputs": [],
   "source": [
    "fig, ax = plt.subplots(figsize=(5,6))\n",
    "sns.boxplot([eta2_t, eta2_c, \n",
    "             # eta2_r, \n",
    "             # eta2_t+eta2_r, \n",
    "             # eta2_t+eta2_c+eta2_r,\n",
    "             eta2_t+eta2_c, \n",
    "             eta2_tic,  \n",
    "             eta2_tc,  \n",
    "            ])\n",
    "ax.set_xticklabels(['time', 'type', \n",
    "                    # 'rep', \n",
    "                    # 'time+\\nrep', \n",
    "                    # 'time+\\ntype+\\nrep',\n",
    "                    'time+\\ntype', \n",
    "                    'time int\\ntype', \n",
    "                    'time&\\ntype', \n",
    "                   ], rotation=0, fontsize=12)\n",
    "ax.set_ylabel('variance explained by')\n",
    "plt.show()"
   ]
  },
  {
   "cell_type": "code",
   "execution_count": null,
   "id": "8783fa7e-18a7-445f-b010-9a31b277e632",
   "metadata": {
    "tags": []
   },
   "outputs": [],
   "source": [
    "fig, ax = plt.subplots(figsize=(8,6))\n",
    "g = ax.scatter(eta2_t, eta2_c, c=1-eta2_tc, s=1, cmap='viridis', vmin=0, vmax=1)\n",
    "fig.colorbar(g, shrink=0.5, ticks=[0, 0.5, 1], label='var exp replicates')\n",
    "ax.set_aspect('equal')\n",
    "ax.set_xlabel('var exp time')\n",
    "ax.set_ylabel('var exp type')\n",
    "plt.show()"
   ]
  },
  {
   "cell_type": "code",
   "execution_count": null,
   "id": "369a51b7-5358-4804-ab35-690ab5a38ea6",
   "metadata": {
    "tags": []
   },
   "outputs": [],
   "source": [
    "import plotly.graph_objects as go\n",
    "\n",
    "# Generate some random data\n",
    "x = eta2_t\n",
    "y = eta2_c\n",
    "z = 1-eta2_tc\n",
    "\n",
    "# Create a 3D scatter plot\n",
    "fig = go.Figure(data=[go.Scatter3d(x=x, y=y, z=z, mode='markers', marker=dict(size=1))])\n",
    "\n",
    "# Update layout\n",
    "fig.update_layout(scene=dict(\n",
    "                    xaxis_title='time',\n",
    "                    yaxis_title='type',\n",
    "                    zaxis_title='rep'),\n",
    "                  title='time type rep', \n",
    "                  height=800,\n",
    "                  width=1000,\n",
    "                 )\n",
    "\n",
    "# Display the plot in the Jupyter notebook\n",
    "fig.show()"
   ]
  },
  {
   "cell_type": "markdown",
   "id": "50d6cd40-0ba3-42f7-b62a-cf302b287355",
   "metadata": {
    "tags": []
   },
   "source": [
    "# check a few genes"
   ]
  },
  {
   "cell_type": "code",
   "execution_count": null,
   "id": "ef4b7ee8-4a20-4ada-b326-192a73f047d2",
   "metadata": {
    "tags": []
   },
   "outputs": [],
   "source": [
    "def plot_query_gene_landscape(key, val):\n",
    "    val_idx = basicu.get_index_from_array(genes_comm, val)\n",
    "    x = eta2_t[val_idx]\n",
    "    y = eta2_c[val_idx]\n",
    "\n",
    "    fig, ax = plt.subplots(1, 1, figsize=(5*1,6*1))\n",
    "    ax.set_title(key)\n",
    "    # ax.set_title(f'{key}\\nn={len(val)}/{len(genes_annots[key])}')\n",
    "    ax.set_xticks([0, 0.5, 1])\n",
    "    ax.set_yticks([0, 0.5, 1])\n",
    "\n",
    "    g = ax.scatter(eta2_t, eta2_c, s=1, c='lightgray')\n",
    "    g2 = ax.scatter(x, y, s=1, c='C1', zorder=2)\n",
    "    for xi, yi, vali in zip(x, y, val):\n",
    "        ax.text(xi, yi, vali, fontsize=10)\n",
    "    sns.despine(ax=ax)\n",
    "    ax.set_xlim([0,1])\n",
    "    ax.set_ylim([0,1])\n",
    "    ax.set_xlabel('time')\n",
    "    ax.set_ylabel('type')\n",
    "\n",
    "    ax.set_aspect('equal')\n",
    "    plt.show()"
   ]
  },
  {
   "cell_type": "code",
   "execution_count": null,
   "id": "c43e66e0-fa33-419c-9cc7-a97d6f5aee22",
   "metadata": {
    "tags": []
   },
   "outputs": [],
   "source": [
    "def plot_query_genes(query_genes):\n",
    "    types = xclsts_sel \n",
    "    colors = sns.color_palette('tab10', len(types))\n",
    "    \n",
    "    query_gis   = basicu.get_index_from_array(genes_comm, query_genes)\n",
    "    pbulks_sub = X[:,:,:,query_gis]\n",
    "    pbulks_sub = np.swapaxes(pbulks_sub, 0, 3) # nt, nc, nr, ng -> ng, nc, nr, nt\n",
    "    gnames = genes_comm[query_gis]\n",
    "    \n",
    "    n = len(query_gis)\n",
    "    nx = min(n, 5)\n",
    "    ny = int((n+nx-1)/nx)\n",
    "\n",
    "    fig, axs = plt.subplots(ny,nx,figsize=(nx*3,ny*4), sharex=True)\n",
    "    for j, (pbulks_g, gname, ax) in enumerate(zip(pbulks_sub, gnames, axs.flat)):\n",
    "        ax.set_title(gname)\n",
    "        for i in range(nc):\n",
    "            color = colors[i]\n",
    "            lbl = types[i]\n",
    "            ax.plot(ts, np.mean(pbulks_g[i], axis=0), color=color, label=lbl)\n",
    "            ax.scatter(ts, pbulks_g[i][0], s=5, color=color)\n",
    "            ax.scatter(ts, pbulks_g[i][1], s=5, color=color)\n",
    "\n",
    "        sns.despine(ax=ax)\n",
    "        ax.grid(False) # , axis='x')\n",
    "\n",
    "        ax.set_xticks(ts)\n",
    "        ax.tick_params(axis='both', which='major', labelsize=10)\n",
    "\n",
    "        # if j == 0:\n",
    "        #     ax.legend()\n",
    "        if j % 5 == 0:\n",
    "            ax.set_ylabel('log10(CPM+1)')\n",
    "        # if j >= 5:\n",
    "        #     ax.set_xlabel('P')\n",
    "\n",
    "    # axs[-1].legend(bbox_to_anchor=(1,1))\n",
    "    fig.tight_layout()\n",
    "    plt.show()"
   ]
  },
  {
   "cell_type": "code",
   "execution_count": null,
   "id": "c99f9f5d-ddc1-40c7-ab54-7fbd7710c698",
   "metadata": {
    "tags": []
   },
   "outputs": [],
   "source": [
    "# set up\n",
    "genes_comm = adata.var.index.values\n",
    "xclsts_sel = ['A', 'AB', 'B', 'BC', 'C']\n",
    "ts = [6, 8, 10, 12, 14, 17, 21,]\n",
    "X = tensor"
   ]
  },
  {
   "cell_type": "code",
   "execution_count": null,
   "id": "4747c626-2f64-482a-87b4-28334901c1ad",
   "metadata": {
    "tags": []
   },
   "outputs": [],
   "source": [
    "\n",
    "key = 'A vs C TFs'\n",
    "val = ['Rfx3', 'Meis2', 'Nfib', 'Sox5',\n",
    "       'Foxp1', 'Tox', 'Rorb', 'Rora',] #$ genes_annots_overlap[key]\n",
    "print(val)\n",
    "plot_query_gene_landscape(key, val)\n",
    "plot_query_genes(val)"
   ]
  },
  {
   "cell_type": "markdown",
   "id": "18df428e-8ff0-4ca2-b912-3df97eaeb14b",
   "metadata": {},
   "source": [
    "# check gene groups"
   ]
  },
  {
   "cell_type": "code",
   "execution_count": null,
   "id": "52dc94e9-4fc4-49a2-b9dc-e99c05a1ec9a",
   "metadata": {
    "tags": []
   },
   "outputs": [],
   "source": [
    "genes_annots_overlap = {}\n",
    "for key, val in gene_modules.annots.items():\n",
    "    overlap = np.sort(np.intersect1d(val, genes_comm))\n",
    "    genes_annots_overlap[key] = overlap\n",
    "    print(key, len(val), len(overlap))\n",
    "    print(val[:5], overlap[:5])"
   ]
  },
  {
   "cell_type": "code",
   "execution_count": null,
   "id": "13ae0612-9ef4-4915-837e-28fcc53dd503",
   "metadata": {
    "tags": []
   },
   "outputs": [],
   "source": [
    "n = len(genes_annots_overlap)\n",
    "fig, axs = plt.subplots(2, 5, figsize=(5*5,6*2))\n",
    "for i, (key, val) in enumerate(genes_annots_overlap.items()):\n",
    "    ax = axs.flat[i]\n",
    "    ax.set_xticks([0, 0.5, 1])\n",
    "    ax.set_yticks([0, 0.5, 1])\n",
    "    g = ax.scatter(eta2_t, eta2_c, s=1, c='lightgray')\n",
    "    \n",
    "    ax.set_title(f'{key}\\nn={len(val)}')\n",
    "    val_idx = basicu.get_index_from_array(genes_comm, val)\n",
    "    g2 = ax.scatter(eta2_t[val_idx], eta2_c[val_idx], s=5, c='C1', zorder=2)\n",
    "    sns.despine(ax=ax)\n",
    "    ax.set_xlim([0,1])\n",
    "    ax.set_ylim([0,1])\n",
    "    \n",
    "    # fig.colorbar(g)\n",
    "    ax.set_aspect('equal')\n",
    "plt.show()"
   ]
  },
  {
   "cell_type": "markdown",
   "id": "1c7da556-ca5e-4183-9421-39e033b2e693",
   "metadata": {},
   "source": [
    "# check top genes"
   ]
  },
  {
   "cell_type": "code",
   "execution_count": null,
   "id": "99887986-3389-4fbf-9fab-792803fc526e",
   "metadata": {
    "tags": []
   },
   "outputs": [],
   "source": [
    "key = 'top time genes'\n",
    "val = genes_comm[np.argsort(eta2_t)[::-1][:10]]\n",
    "\n",
    "print(val)\n",
    "plot_query_gene_landscape(key, val)\n",
    "plot_query_genes(val)"
   ]
  },
  {
   "cell_type": "code",
   "execution_count": null,
   "id": "5a01d766-a557-4d14-889b-27ebaa4d0f70",
   "metadata": {
    "tags": []
   },
   "outputs": [],
   "source": [
    "key = 'top type genes'\n",
    "val = genes_comm[np.argsort(eta2_c)[::-1][:20]]\n",
    "\n",
    "print(val)\n",
    "plot_query_gene_landscape(key, val)\n",
    "plot_query_genes(val)"
   ]
  },
  {
   "cell_type": "code",
   "execution_count": null,
   "id": "15a513a0-b092-4aae-8723-b387f9a3172f",
   "metadata": {
    "tags": []
   },
   "outputs": [],
   "source": [
    "key = 'top int genes'\n",
    "val = genes_comm[np.argsort(eta2_tic/eta2_r)[::-1][:10]]\n",
    "\n",
    "print(val)\n",
    "plot_query_gene_landscape(key, val)\n",
    "plot_query_genes(val)"
   ]
  },
  {
   "cell_type": "code",
   "execution_count": null,
   "id": "24ac3492-7639-433a-9b8e-b953cc460abc",
   "metadata": {
    "tags": []
   },
   "outputs": [],
   "source": [
    "val"
   ]
  },
  {
   "cell_type": "code",
   "execution_count": null,
   "id": "6aa56a92-ed76-4b01-9323-7178a5b08279",
   "metadata": {
    "tags": []
   },
   "outputs": [],
   "source": [
    "val_anno, val_style, val_anno_style = gene_modules.check_genes(val)\n",
    "# print(\"\\t\".join(val))\n",
    "# print(\"\\t\".join(val_anno))\n",
    "print(\"\\t\".join(val_style))\n",
    "# print(\"\\t\".join(val_anno_style))"
   ]
  },
  {
   "cell_type": "markdown",
   "id": "e2333b2d-c910-4e2b-9ee2-28472da49fce",
   "metadata": {},
   "source": [
    "# check A vs C genes\n",
    "- import it somewhere else"
   ]
  },
  {
   "cell_type": "code",
   "execution_count": null,
   "id": "e1319b28-19ce-4b3e-ba68-2b141d45adae",
   "metadata": {},
   "outputs": [],
   "source": []
  },
  {
   "cell_type": "code",
   "execution_count": null,
   "id": "2502205d-d3df-42a7-866d-af90701f1a99",
   "metadata": {},
   "outputs": [],
   "source": []
  },
  {
   "cell_type": "code",
   "execution_count": null,
   "id": "cb69ba56-1b67-4542-b067-0332f443faa4",
   "metadata": {},
   "outputs": [],
   "source": []
  },
  {
   "cell_type": "markdown",
   "id": "2e05732d-1e55-4066-8250-401f687c60a4",
   "metadata": {
    "tags": []
   },
   "source": [
    "# top type; top time; top interaction (tic/rep)\n",
    "# transform this triangle"
   ]
  },
  {
   "cell_type": "code",
   "execution_count": null,
   "id": "85983123-ef02-4130-95a9-7d568042b555",
   "metadata": {},
   "outputs": [],
   "source": []
  },
  {
   "cell_type": "code",
   "execution_count": null,
   "id": "abe64750-1aee-4abc-af33-943693e880ab",
   "metadata": {},
   "outputs": [],
   "source": []
  },
  {
   "cell_type": "code",
   "execution_count": null,
   "id": "38559628-8593-4a77-893a-7f15d2057bcb",
   "metadata": {},
   "outputs": [],
   "source": []
  },
  {
   "cell_type": "code",
   "execution_count": null,
   "id": "633d656e-1395-46ab-bb04-d3ce108bfa40",
   "metadata": {},
   "outputs": [],
   "source": []
  },
  {
   "cell_type": "code",
   "execution_count": null,
   "id": "f9c590af-9240-4128-814e-819aa9f50434",
   "metadata": {},
   "outputs": [],
   "source": []
  },
  {
   "cell_type": "code",
   "execution_count": null,
   "id": "bc7a3aa9-82b2-4b56-8cda-18eb243d16f4",
   "metadata": {},
   "outputs": [],
   "source": []
  },
  {
   "cell_type": "markdown",
   "id": "33ba6f69-a4bc-414c-97f6-80b399ac9d08",
   "metadata": {},
   "source": [
    "# for any genes with signficant type component - separate them further by time (early mid late) and run GO - emulate Saumya"
   ]
  },
  {
   "cell_type": "code",
   "execution_count": null,
   "id": "247ed35c-c2b5-469a-8d4e-d2bd69ad8528",
   "metadata": {},
   "outputs": [],
   "source": []
  },
  {
   "cell_type": "code",
   "execution_count": null,
   "id": "f90bbee1-2aba-43a3-8197-febd1520b15e",
   "metadata": {},
   "outputs": [],
   "source": []
  }
 ],
 "metadata": {
  "kernelspec": {
   "display_name": "Python 3 (ipykernel)",
   "language": "python",
   "name": "python3"
  },
  "language_info": {
   "codemirror_mode": {
    "name": "ipython",
    "version": 3
   },
   "file_extension": ".py",
   "mimetype": "text/x-python",
   "name": "python",
   "nbconvert_exporter": "python",
   "pygments_lexer": "ipython3",
   "version": "3.9.16"
  }
 },
 "nbformat": 4,
 "nbformat_minor": 5
}
