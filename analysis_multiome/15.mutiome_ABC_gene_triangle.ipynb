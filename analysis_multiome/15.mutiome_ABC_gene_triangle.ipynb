{
 "cells": [
  {
   "cell_type": "code",
   "execution_count": null,
   "id": "bb214b6d-836a-49b8-93dd-a19f021215b7",
   "metadata": {
    "tags": []
   },
   "outputs": [],
   "source": [
    "import os\n",
    "import numpy as np\n",
    "import pandas as pd\n",
    "import scanpy as sc\n",
    "import anndata \n",
    "import seaborn as sns\n",
    "from scipy.stats import zscore\n",
    "import matplotlib.pyplot as plt\n",
    "import collections\n",
    "from natsort import natsorted\n",
    "\n",
    "from scipy import stats\n",
    "from scipy import sparse\n",
    "from sklearn.decomposition import PCA\n",
    "from umap import UMAP\n",
    "\n",
    "from matplotlib.colors import LinearSegmentedColormap\n",
    "\n",
    "from scroutines.config_plots import *\n",
    "from scroutines import powerplots # .config_plots import *\n",
    "from scroutines import pnmf\n",
    "from scroutines import basicu\n",
    "from scroutines.gene_modules import GeneModules  \n"
   ]
  },
  {
   "cell_type": "code",
   "execution_count": null,
   "id": "f45abc88-0cbc-4575-8035-9cb157c42bc2",
   "metadata": {},
   "outputs": [],
   "source": [
    "outdir_fig = \"/u/home/f/f7xiesnm/project-zipursky/v1-bb/v1/figures\""
   ]
  },
  {
   "cell_type": "markdown",
   "id": "ba1f61ee-ba83-4707-816d-37eb33a54b83",
   "metadata": {},
   "source": [
    "# load gene annotation and data"
   ]
  },
  {
   "cell_type": "code",
   "execution_count": null,
   "id": "516a31fc-2fa7-4aac-a175-0b1620a671c6",
   "metadata": {
    "tags": []
   },
   "outputs": [],
   "source": [
    "gene_modules = GeneModules()\n",
    "g, gs, ms = gene_modules.check_genes('Cdh13')\n",
    "print(\"\\t\".join(g))\n",
    "print(\"\\t\".join(gs))\n",
    "print(\"\\t\".join(ms))"
   ]
  },
  {
   "cell_type": "code",
   "execution_count": null,
   "id": "012e0c55-888e-43b8-bb75-846ef63d3f26",
   "metadata": {
    "tags": []
   },
   "outputs": [],
   "source": [
    "# AC genes\n",
    "f = '/u/home/f/f7xiesnm/project-zipursky/v1-bb/v1/data/v1_multiome/Saumya_P6-21_AC_genes.csv'\n",
    "df = pd.read_csv(f)\n",
    "\n",
    "df_a = df.iloc[:25]\n",
    "df_c = df.iloc[25:]\n",
    "\n",
    "alltime_a = np.unique(df_a.values)\n",
    "alltime_c = np.unique(df_c.values)\n",
    "alltime_ac = np.hstack([alltime_a, alltime_c])\n",
    "\n",
    "ac_overlap = np.intersect1d(alltime_a, alltime_c)\n",
    "\n",
    "print(df_a.shape, df_c.shape, alltime_a.shape, alltime_c.shape, alltime_ac.shape, ac_overlap.shape)\n",
    "df.head()"
   ]
  },
  {
   "cell_type": "code",
   "execution_count": null,
   "id": "1bf8a720-2d31-463f-91f1-5645207518f2",
   "metadata": {},
   "outputs": [],
   "source": [
    "%%time\n",
    "adata = anndata.read(\"../../data/v1_multiome/L23_allmultiome_proc_P6toP21.h5ad\")\n",
    "adata"
   ]
  },
  {
   "cell_type": "code",
   "execution_count": null,
   "id": "2f2398bf-da2e-4be8-aed7-6905ae46460c",
   "metadata": {
    "tags": []
   },
   "outputs": [],
   "source": [
    "f_rna1 = '/u/home/f/f7xiesnm/project-zipursky/v1-bb/v1/data/v1_multiome/rna_qs_avc_p6to21.txt'\n",
    "f_rna2 = '/u/home/f/f7xiesnm/project-zipursky/v1-bb/v1/data/v1_multiome/rna_l2fc_avc_p6to21.txt'\n",
    "\n",
    "rna_qs_avc = np.loadtxt(f_rna1)\n",
    "rna_l2fc_avc = np.loadtxt(f_rna2)\n",
    "\n",
    "rna_qs_avc.shape, rna_l2fc_avc.shape"
   ]
  },
  {
   "cell_type": "code",
   "execution_count": null,
   "id": "8962f999-df37-4044-b037-0606f84f9216",
   "metadata": {
    "tags": []
   },
   "outputs": [],
   "source": [
    "# # define\n",
    "genes = adata.var.index.values\n",
    "conds = adata.obs['cond'].values\n",
    "types = adata.obs['Type'].values\n",
    "samps = adata.obs['sample'].values\n",
    "\n",
    "# switch back to float64\n",
    "adata.layers[    'norm'] = adata.layers['norm'][...].astype(np.float64)\n",
    "adata.layers[ 'lognorm'] = np.log10(1+adata.layers['norm'][...]) # np.array(xln.todense())\n",
    "adata.layers['zlognorm'] = zscore(adata.layers['lognorm'][...], axis=0)"
   ]
  },
  {
   "cell_type": "code",
   "execution_count": null,
   "id": "511bd54c-33d2-4840-9b2d-6657ae40e0c5",
   "metadata": {
    "tags": []
   },
   "outputs": [],
   "source": [
    "pcs_p8 = adata.obsm['pca_p8']\n",
    "pcs_p17on = adata.obsm['pca_p17on']\n",
    "\n",
    "res0 = pd.DataFrame(adata.layers['zlognorm'][...], columns=genes)\n",
    "res0['cond'] = conds\n",
    "res0['type'] = types\n",
    "res0['samp'] = samps\n",
    "res0['rep']  = [samp[-1] for samp in samps]\n",
    "res0['type'] = np.char.add('c', res0['type'].values.astype(str))\n",
    "\n",
    "res1 = pd.DataFrame(pcs_p8, columns=np.char.add(\"p8PC\", ((1+np.arange(pcs_p8.shape[1])).astype(str))))\n",
    "res2 = pd.DataFrame(pcs_p17on, columns=np.char.add(\"p17onPC\", ((1+np.arange(pcs_p17on.shape[1])).astype(str))))\n",
    "res = pd.concat([res0, res1, res2], axis=1)"
   ]
  },
  {
   "cell_type": "code",
   "execution_count": null,
   "id": "26fa3ea8-59fc-4a44-b097-c36bfe2350a8",
   "metadata": {
    "tags": []
   },
   "outputs": [],
   "source": [
    "allcolors = sns.color_palette('tab20c', 20)\n",
    "allcolors"
   ]
  },
  {
   "cell_type": "code",
   "execution_count": null,
   "id": "98783372-bd8f-4145-9264-e06098d3a374",
   "metadata": {
    "tags": []
   },
   "outputs": [],
   "source": [
    "allcolors2 = sns.color_palette('tab10', 20)\n",
    "allcolors2"
   ]
  },
  {
   "cell_type": "code",
   "execution_count": null,
   "id": "35234ff4-a695-4115-8284-298002043eaa",
   "metadata": {
    "tags": []
   },
   "outputs": [],
   "source": [
    "palette = collections.OrderedDict({\n",
    "     \"P6\": allcolors[2],\n",
    "     \"P8\": allcolors[1],\n",
    "    \"P10\": allcolors[0],\n",
    "    \"P12\": allcolors[4+2],\n",
    "    \"P14\": allcolors[4+0],\n",
    "    \n",
    "    \"P17\": allcolors[8+2],\n",
    "    \"P21\": allcolors[8+0],\n",
    "    \n",
    "})\n",
    "cases = np.array(list(palette.keys()))\n",
    "\n",
    "cond_order_dict = {\n",
    "    'P6':  0,\n",
    "    'P8':  1,\n",
    "    'P10': 2,\n",
    "    'P12': 3,\n",
    "    'P14': 4,\n",
    "    'P17': 5,\n",
    "    'P21': 6,\n",
    "}\n",
    "unq_conds = np.array(list(cond_order_dict.keys()))\n",
    "adata.obs['cond_order'] = adata.obs['cond'].apply(lambda x: cond_order_dict[x])\n",
    "\n",
    "palette_types = collections.OrderedDict({\n",
    "    'L2/3_A': allcolors2[0],\n",
    "    'L2/3_B': allcolors2[1],\n",
    "    'L2/3_C': allcolors2[2],\n",
    "})             \n",
    "\n",
    "palette_types = {\n",
    "    'c14': 'C0', \n",
    "    'c18': 'C1',\n",
    "    'c16': 'C2', \n",
    "    \n",
    "    'c13': 'C0', \n",
    "    'c15': 'C1', \n",
    "    'c17': 'C2',\n",
    "}\n",
    "type_order = [key for key, val in palette_types.items()]\n",
    "type_order"
   ]
  },
  {
   "cell_type": "code",
   "execution_count": null,
   "id": "cca38304-8861-4fe5-945d-5c3c81671f9b",
   "metadata": {
    "tags": []
   },
   "outputs": [],
   "source": [
    "from scipy import stats\n",
    "from matplotlib.ticker import MaxNLocator\n",
    "\n",
    "def plot(x, y, aspect_equal=False, density=False, hue='type'):\n",
    "    n = 7\n",
    "    fig, axs = plt.subplots(1,n,figsize=(4*n,4*1), sharex=True, sharey=True)\n",
    "    for i, (ax, cond) in enumerate(zip(axs.flat, cases)):\n",
    "        ax.set_title(cond)\n",
    "        sns.scatterplot(data=res, \n",
    "                        x=x, y=y, \n",
    "                        c='lightgray',\n",
    "                        s=1, edgecolor='none', \n",
    "                        legend=False,\n",
    "                        ax=ax,\n",
    "                       )\n",
    "        if hue == 'type':\n",
    "            sns.scatterplot(data=res[res['cond']==cond].sample(frac=1, replace=False),\n",
    "                            x=x, y=y, \n",
    "                            hue='type',\n",
    "                            hue_order=list(palette_types.keys()),\n",
    "                            palette=palette_types,\n",
    "                            s=3, edgecolor='none', \n",
    "                            legend=False,\n",
    "                            ax=ax,\n",
    "                           )\n",
    "        else:\n",
    "            sns.scatterplot(data=res[res['cond']==cond].sample(frac=1, replace=False),\n",
    "                            x=x, y=y, \n",
    "                            hue='rep',\n",
    "                            # hue_order=list(palette_types.keys()),\n",
    "                            # palette=palette_types,\n",
    "                            s=3, edgecolor='none', \n",
    "                            legend=False,\n",
    "                            ax=ax,\n",
    "                           )\n",
    "            \n",
    "        if density:\n",
    "            sns.histplot(data=res[res['cond']==cond],\n",
    "                            x=x, y=y, \n",
    "                            legend=False,\n",
    "                            ax=ax,\n",
    "                           )\n",
    "        sns.despine(ax=ax)\n",
    "        ax.xaxis.set_major_locator(MaxNLocator(nbins=3))\n",
    "        ax.yaxis.set_major_locator(MaxNLocator(nbins=3))\n",
    "        if aspect_equal:\n",
    "            ax.set_aspect('equal')\n",
    "        if i > 0:\n",
    "            ax.set_xlabel('')\n",
    "            ax.set_ylabel('')\n",
    "    plt.show()\n",
    "    \n",
    "def plot2(x, y, hue=None, aspect_equal=False):\n",
    "    n = 7\n",
    "    fig, axs = plt.subplots(1,n,figsize=(4*n,4*1), sharex=True, sharey=True)\n",
    "    fig.suptitle(hue, x=0, ha='left')\n",
    "    for i, (ax, cond) in enumerate(zip(axs.flat, cases)):\n",
    "        ax.set_title(cond)\n",
    "        sns.scatterplot(data=res, \n",
    "                        x=x, y=y, \n",
    "                        c='lightgray',\n",
    "                        alpha=0.3,\n",
    "                        s=1, edgecolor='none', \n",
    "                        legend=False,\n",
    "                        ax=ax,\n",
    "                       )\n",
    "        show = res[res['cond']==cond]\n",
    "        if hue:\n",
    "            ax.scatter(show[x], show[y], c=show[hue], \n",
    "                       cmap='coolwarm',\n",
    "                       vmin=-3, vmax=3,\n",
    "                       s=5, \n",
    "                       edgecolor='none', \n",
    "                      )\n",
    "        else:\n",
    "            r, p = stats.spearmanr(show[x], show[y])\n",
    "            ax.scatter(show[x], show[y],  \n",
    "                       s=5, \n",
    "                       edgecolor='none', \n",
    "                      )\n",
    "            ax.set_title(f'{cond}\\n r={r:.2f}')\n",
    "        sns.despine(ax=ax)\n",
    "        ax.xaxis.set_major_locator(MaxNLocator(nbins=3))\n",
    "        ax.yaxis.set_major_locator(MaxNLocator(nbins=3))\n",
    "        if aspect_equal:\n",
    "            ax.set_aspect('equal')\n",
    "        if i > 0:\n",
    "            ax.set_xlabel('')\n",
    "            ax.set_ylabel('')\n",
    "        ax.grid(False)\n",
    "    fig.tight_layout()\n",
    "    plt.show()"
   ]
  },
  {
   "cell_type": "markdown",
   "id": "2aede225-6c81-4551-9f92-ccdeb0050c55",
   "metadata": {},
   "source": [
    "# Plot A vs C genes aligning cells along early vs late PCs"
   ]
  },
  {
   "cell_type": "code",
   "execution_count": null,
   "id": "c67256b5-7a4b-4c49-ab0e-4dcaaf3920e2",
   "metadata": {
    "tags": []
   },
   "outputs": [],
   "source": [
    "plot('p17onPC1', 'p17onPC2', aspect_equal=True)\n",
    "plot('p8PC1', 'p8PC2', aspect_equal=True)"
   ]
  },
  {
   "cell_type": "code",
   "execution_count": null,
   "id": "087d2042-95aa-4e60-a45a-12cbb940f82a",
   "metadata": {
    "tags": []
   },
   "outputs": [],
   "source": [
    "# get avsc genes\n",
    "\n",
    "# genes = adata_rna.var.index.values\n",
    "degs_a = []\n",
    "degs_c = []\n",
    "for i, t in enumerate(unq_conds):\n",
    "    cond_a = np.logical_and(rna_qs_avc[i]<0.05, rna_l2fc_avc[i] < -1)\n",
    "    cond_c = np.logical_and(rna_qs_avc[i]<0.05, rna_l2fc_avc[i] >  1)\n",
    "    deg_a = np.sort(genes[cond_a])\n",
    "    deg_c = np.sort(genes[cond_c])\n",
    "    degs_a.append(deg_a)\n",
    "    degs_c.append(deg_c)\n",
    "    \n",
    "    print(f\"{t}\")\n",
    "    _, _, gs = gene_modules.check_genes(deg_a)\n",
    "    print(\"\\t\".join(gs))\n",
    "    print(\"\\033[0;m ---\")\n",
    "    _, _, gs = gene_modules.check_genes(deg_c)\n",
    "    print(\"\\t\".join(gs))\n",
    "    print(\"\\033[0;m ---\")\n",
    "    "
   ]
  },
  {
   "cell_type": "code",
   "execution_count": null,
   "id": "50687740-25df-431e-a87f-46d573bb9a39",
   "metadata": {},
   "outputs": [],
   "source": []
  },
  {
   "cell_type": "markdown",
   "id": "f2273d28-a649-4b3e-b17c-75eaea4476f2",
   "metadata": {},
   "source": [
    "# big tensor"
   ]
  },
  {
   "cell_type": "code",
   "execution_count": null,
   "id": "09d57655-c050-4842-a623-8fd8cac63496",
   "metadata": {
    "tags": []
   },
   "outputs": [],
   "source": [
    "# by condition\n",
    "nt, nc, nr, ng = len(unq_conds), 5, 2, len(adata.var)  # time/condition, cluster, rep, gene \n",
    "tensor = np.zeros((nt, nc, nr, ng))\n",
    "\n",
    "for i, (cond_order, obssub) in enumerate(adata.obs.groupby('cond_order')):\n",
    "    adatasub = adata[obssub.index]\n",
    "    \n",
    "    # by type -- cut into nc=5 equal bins\n",
    "    x = adatasub.obsm['pca_p17on'][...,0]\n",
    "    type_lbls = pd.qcut(x, nc, labels=np.arange(nc)).astype(int)\n",
    "    unq_types = np.unique(type_lbls)\n",
    "    \n",
    "    # by replicates -- first two\n",
    "    sample_lbls = adatasub.obs['sample'].values\n",
    "    unq_samples = np.unique(sample_lbls)[:nr] # first nr samples if n > nr2\n",
    "    \n",
    "    for j, qtype in enumerate(unq_types):\n",
    "        for k, samp in enumerate(unq_samples):\n",
    "            selector = ((sample_lbls==samp) & (type_lbls==qtype))\n",
    "            tensor[i,j,k] = np.mean(adatasub[selector].layers['lognorm'][...], axis=0)"
   ]
  },
  {
   "cell_type": "code",
   "execution_count": null,
   "id": "c5a2386a-2c4f-4f8c-b61f-2892a6416224",
   "metadata": {},
   "outputs": [],
   "source": [
    "tensor.shape"
   ]
  },
  {
   "cell_type": "code",
   "execution_count": null,
   "id": "61fbe0a1-f856-44d2-b48f-4fc7ffac913c",
   "metadata": {},
   "outputs": [],
   "source": [
    "tensor[0,0,0]"
   ]
  },
  {
   "cell_type": "markdown",
   "id": "9014ad9d-e38f-486a-9675-ea0c17632e6b",
   "metadata": {},
   "source": [
    "# gene triangle analysis "
   ]
  },
  {
   "cell_type": "code",
   "execution_count": null,
   "id": "b58fdbe6-7bd6-402e-8cbb-c6ad99e88b1b",
   "metadata": {
    "tags": []
   },
   "outputs": [],
   "source": [
    "def get_2way_eta2_allgenes(nums):\n",
    "    \"\"\"\n",
    "    nums: c0, c1, r, g matrix - (cond0, cond1, reps, genes)\n",
    "    \n",
    "    return (eta2, stdv) - vectors one entry for each gene\n",
    "    \"\"\"\n",
    "    nc0, nc1, nr, ng = nums.shape # (num cond0, cond1, num rep, num genes)\n",
    "\n",
    "    rm   = np.mean(nums, axis=(0,1,2)) # global mean; reduced form\n",
    "    rm0  = np.mean(nums, axis=(1,2))   # mean per c0 across reps and ignoring c1  \n",
    "    rm1  = np.mean(nums, axis=(0,2))   # mean per c1 across reps and ignoring c0 \n",
    "    rm01 = np.mean(nums, axis=(2)) # mean per (c0, c1) across reps  \n",
    "    \n",
    "    em   = np.expand_dims(rm  , axis=(0,1,2)) # expanded form\n",
    "    em0  = np.expand_dims(rm0 , axis=(1,2))   # expanded form\n",
    "    em1  = np.expand_dims(rm1 , axis=(0,2))   # expanded form\n",
    "    em01 = np.expand_dims(rm01, axis=(2))     #  \n",
    "\n",
    "    # # SSt \n",
    "    SSt  = np.sum(np.power(nums-em, 2),   axis=(0,1,2))  \n",
    "    \n",
    "    # # SSwr (noise)\n",
    "    SSwr = np.sum(np.power(nums-em01, 2), axis=(0,1,2))  # within (c0,c1) across reps \n",
    "    \n",
    "    # # SSw\n",
    "    SSw0 = nr*np.sum(np.power(em01-em0, 2),  axis=(0,1,2))  # within c0 across reps and ignoring c1\n",
    "    SSw1 = nr*np.sum(np.power(em01-em1, 2),  axis=(0,1,2))  # within c1 across reps and ignoring c0 \n",
    "    \n",
    "    # SSt = SSwr + SSexp\n",
    "    # where SSexp = SSw0 + SSexp0 = SSw1 + SSexp1\n",
    "    SSexp  = SSt   - SSwr\n",
    "    SSexp0 = SSexp - SSw0\n",
    "    SSexp1 = SSexp - SSw1\n",
    "    \n",
    "    # return SSt, SSwr, SSw0, SSw1\n",
    "    \n",
    "    o = 1e-10\n",
    "    eta2_01 = (SSexp +o)/(SSt+o)\n",
    "    eta2_0  = (SSexp0+o)/(SSt+o)\n",
    "    eta2_1  = (SSexp1+o)/(SSt+o)\n",
    "    \n",
    "    return eta2_01, eta2_0, eta2_1\n"
   ]
  },
  {
   "cell_type": "code",
   "execution_count": null,
   "id": "403f6998-cd5c-45c3-895c-c8574907adff",
   "metadata": {
    "tags": []
   },
   "outputs": [],
   "source": [
    "eta2_tc, eta2_t, eta2_c = get_2way_eta2_allgenes(tensor)\n",
    "eta2_r = 1-eta2_tc\n",
    "eta2_tic = eta2_tc-(eta2_t+eta2_c)"
   ]
  },
  {
   "cell_type": "code",
   "execution_count": null,
   "id": "3635cc2d-981c-4d3e-a151-5f4d134973cf",
   "metadata": {
    "tags": []
   },
   "outputs": [],
   "source": [
    "fig, ax = plt.subplots(figsize=(5,6))\n",
    "sns.boxplot([eta2_t, eta2_c, \n",
    "             eta2_r, \n",
    "             # eta2_t+eta2_r, \n",
    "             # eta2_t+eta2_c+eta2_r,\n",
    "             eta2_t+eta2_c, \n",
    "             eta2_tic,  \n",
    "             eta2_tc,  \n",
    "            ])\n",
    "ax.set_xticklabels(['time', 'type', \n",
    "                    'rep', \n",
    "                    # 'time+\\nrep', \n",
    "                    # 'time+\\ntype+\\nrep',\n",
    "                    'time+\\ntype', \n",
    "                    'time int\\ntype', \n",
    "                    'time&\\ntype', \n",
    "                   ], rotation=0, fontsize=12)\n",
    "ax.set_ylabel('variance explained by')\n",
    "plt.show()"
   ]
  },
  {
   "cell_type": "code",
   "execution_count": null,
   "id": "59417091-cfd7-4373-aedb-a85a4e2145b4",
   "metadata": {},
   "outputs": [],
   "source": []
  },
  {
   "cell_type": "code",
   "execution_count": null,
   "id": "a896c375-99a5-441e-9fae-296d8df4c77c",
   "metadata": {},
   "outputs": [],
   "source": []
  },
  {
   "cell_type": "code",
   "execution_count": null,
   "id": "8783fa7e-18a7-445f-b010-9a31b277e632",
   "metadata": {
    "tags": []
   },
   "outputs": [],
   "source": [
    "fig, ax = plt.subplots(figsize=(8,6))\n",
    "g = ax.scatter(eta2_t, eta2_c, c=1-eta2_tc, s=1, cmap='viridis', vmin=0, vmax=1)\n",
    "fig.colorbar(g, shrink=0.5, ticks=[0, 0.5, 1], label='var exp replicates')\n",
    "ax.set_aspect('equal')\n",
    "ax.set_xlabel('var exp time')\n",
    "ax.set_ylabel('var exp type')\n",
    "plt.show()"
   ]
  },
  {
   "cell_type": "code",
   "execution_count": null,
   "id": "369a51b7-5358-4804-ab35-690ab5a38ea6",
   "metadata": {
    "tags": []
   },
   "outputs": [],
   "source": [
    "import plotly.graph_objects as go\n",
    "\n",
    "# Generate some random data\n",
    "x = eta2_t\n",
    "y = eta2_c\n",
    "z = 1-eta2_tc\n",
    "\n",
    "# Create a 3D scatter plot\n",
    "fig = go.Figure(data=[go.Scatter3d(x=x, y=y, z=z, mode='markers', marker=dict(size=1))])\n",
    "\n",
    "# Update layout\n",
    "fig.update_layout(scene=dict(\n",
    "                    xaxis_title='time',\n",
    "                    yaxis_title='type',\n",
    "                    zaxis_title='rep'),\n",
    "                  title='time type rep', \n",
    "                  height=800,\n",
    "                  width=1000,\n",
    "                 )\n",
    "\n",
    "# Display the plot in the Jupyter notebook\n",
    "fig.show()"
   ]
  },
  {
   "cell_type": "markdown",
   "id": "50d6cd40-0ba3-42f7-b62a-cf302b287355",
   "metadata": {
    "tags": []
   },
   "source": [
    "# check a few genes"
   ]
  },
  {
   "cell_type": "code",
   "execution_count": null,
   "id": "ef4b7ee8-4a20-4ada-b326-192a73f047d2",
   "metadata": {
    "tags": []
   },
   "outputs": [],
   "source": [
    "def plot_query_gene_landscape(key, val):\n",
    "    val_idx = basicu.get_index_from_array(genes_comm, val)\n",
    "    x = eta2_t[val_idx]\n",
    "    y = eta2_c[val_idx]\n",
    "\n",
    "    fig, ax = plt.subplots(1, 1, figsize=(5*1,6*1))\n",
    "    ax.set_title(key)\n",
    "    # ax.set_title(f'{key}\\nn={len(val)}/{len(genes_annots[key])}')\n",
    "    ax.set_xticks([0, 0.5, 1])\n",
    "    ax.set_yticks([0, 0.5, 1])\n",
    "\n",
    "    g = ax.scatter(eta2_t, eta2_c, s=1, c='lightgray')\n",
    "    g2 = ax.scatter(x, y, s=1, c='C1', zorder=2)\n",
    "    for xi, yi, vali in zip(x, y, val):\n",
    "        ax.text(xi, yi, vali, fontsize=10)\n",
    "    sns.despine(ax=ax)\n",
    "    ax.set_xlim([0,1])\n",
    "    ax.set_ylim([0,1])\n",
    "    ax.set_xlabel('time')\n",
    "    ax.set_ylabel('type')\n",
    "\n",
    "    ax.set_aspect('equal')\n",
    "    plt.show()"
   ]
  },
  {
   "cell_type": "code",
   "execution_count": null,
   "id": "c43e66e0-fa33-419c-9cc7-a97d6f5aee22",
   "metadata": {
    "tags": []
   },
   "outputs": [],
   "source": [
    "def plot_query_genes(query_genes, colors=None, nxset=5):\n",
    "    types = xclsts_sel \n",
    "    if colors is None:\n",
    "        colors = sns.color_palette('coolwarm', len(types))\n",
    "    \n",
    "    query_gis   = basicu.get_index_from_array(genes_comm, query_genes)\n",
    "    pbulks_sub = X[:,:,:,query_gis]\n",
    "    pbulks_sub = np.swapaxes(pbulks_sub, 0, 3) # nt, nc, nr, ng -> ng, nc, nr, nt\n",
    "    gnames = genes_comm[query_gis]\n",
    "    \n",
    "    n = len(query_gis)\n",
    "    nx = min(n, nxset)\n",
    "    ny = int((n+nx-1)/nx)\n",
    "\n",
    "    fig, axs = plt.subplots(ny,nx,figsize=(nx*3,ny*4), sharex=True)\n",
    "    for j, (pbulks_g, gname, ax) in enumerate(zip(pbulks_sub, gnames, axs.flat)):\n",
    "        ax.set_title(gname)\n",
    "        for i in range(nc):\n",
    "            color = colors[i]\n",
    "            lbl = types[i]\n",
    "            ax.plot(ts, np.mean(pbulks_g[i], axis=0), color=color, label=lbl)\n",
    "            ax.scatter(ts, pbulks_g[i][0], s=5, color=color)\n",
    "            ax.scatter(ts, pbulks_g[i][1], s=5, color=color)\n",
    "\n",
    "        sns.despine(ax=ax)\n",
    "        ax.grid(False) # , axis='x')\n",
    "\n",
    "        ax.set_xticks(ts)\n",
    "        ax.tick_params(axis='both', which='major', labelsize=10)\n",
    "\n",
    "        # if j == 0:\n",
    "        #     ax.legend()\n",
    "        if j % 5 == 0:\n",
    "            ax.set_ylabel('log10(CP10k+1)')\n",
    "        # if j >= 5:\n",
    "        #     ax.set_xlabel('P')\n",
    "\n",
    "    # axs[-1].legend(bbox_to_anchor=(1,1))\n",
    "    fig.tight_layout()\n",
    "    plt.show()"
   ]
  },
  {
   "cell_type": "code",
   "execution_count": null,
   "id": "c99f9f5d-ddc1-40c7-ab54-7fbd7710c698",
   "metadata": {
    "tags": []
   },
   "outputs": [],
   "source": [
    "# set up\n",
    "genes_comm = adata.var.index.values\n",
    "xclsts_sel = ['A', 'AB', 'B', 'BC', 'C']\n",
    "ts = [6, 8, 10, 12, 14, 17, 21,]\n",
    "X = tensor"
   ]
  },
  {
   "cell_type": "code",
   "execution_count": null,
   "id": "f3aa3ad3-7af0-4cc9-b228-e12fdd725c53",
   "metadata": {},
   "outputs": [],
   "source": [
    "from matplotlib.colors import LinearSegmentedColormap\n",
    "\n",
    "colors_a = [(0.0, 'black'), (1.0, 'C0')]      \n",
    "colors_b = [(0.0, 'black'), (1.0, 'C1')]      \n",
    "colors_c = [(0.0, 'black'), (1.0, 'C2')]      \n",
    "\n",
    "# Create a custom colormap using LinearSegmentedColormap\n",
    "cmap_a = LinearSegmentedColormap.from_list('cmap_a', colors_a)\n",
    "cmap_b = LinearSegmentedColormap.from_list('cmap_b', colors_b)\n",
    "cmap_c = LinearSegmentedColormap.from_list('cmap_c', colors_c)\n",
    "\n",
    "colors = [\n",
    "    np.array(cmap_a(1.0)),\n",
    "    0.5*np.array(cmap_a(1.0))+0.5*np.array(cmap_b(1.0)),\n",
    "    np.array(cmap_b(1.0)),\n",
    "    0.5*np.array(cmap_b(1.0))+0.5*np.array(cmap_c(1.0)),\n",
    "    np.array(cmap_c(1.0)),\n",
    "]"
   ]
  },
  {
   "cell_type": "code",
   "execution_count": null,
   "id": "4747c626-2f64-482a-87b4-28334901c1ad",
   "metadata": {
    "tags": []
   },
   "outputs": [],
   "source": [
    "\n",
    "key = 'A TFs'\n",
    "val = [\n",
    "    'Trps1', 'Sox5', \n",
    "    'Rfx3', 'Meis2', 'Nfib', \n",
    "      ] #$ genes_annots_overlap[key]\n",
    "print(val)\n",
    "plot_query_gene_landscape(key, val)\n",
    "plot_query_genes(val) #, colors=colors)"
   ]
  },
  {
   "cell_type": "code",
   "execution_count": null,
   "id": "dd869b1c-9ce7-44d6-b2cf-7651e7e6d8b1",
   "metadata": {},
   "outputs": [],
   "source": [
    "key = 'C TFs'\n",
    "val = [\n",
    "    'Cux1', 'Satb1', 'Thrb', 'Tshz3', 'Rora', 'Lcorl', 'Mkx', 'Tox', 'Rorb', 'Foxp1',\n",
    "      ] #$ genes_annots_overlap[key]\n",
    "print(val)\n",
    "plot_query_gene_landscape(key, val)\n",
    "plot_query_genes(val) #, colors=colors)"
   ]
  },
  {
   "cell_type": "code",
   "execution_count": null,
   "id": "75e88b0f-94f4-4502-8368-07faf0dccdc8",
   "metadata": {
    "tags": []
   },
   "outputs": [],
   "source": [
    "key = 'BMP / TGFbeta'\n",
    "val = [\n",
    "    'Vwc2l', 'Fst', \n",
    "    'Igfbp5', 'Brinp1', 'Brinp3',  'Lrp1b',\n",
    "] #$ genes_annots_overlap[key]\n",
    "print(val)\n",
    "plot_query_gene_landscape(key, val)\n",
    "plot_query_genes(val, nxset=6) #, colors=colors)"
   ]
  },
  {
   "cell_type": "code",
   "execution_count": null,
   "id": "b271e530-09b9-4862-9f80-d56e16796d5f",
   "metadata": {},
   "outputs": [],
   "source": []
  },
  {
   "cell_type": "code",
   "execution_count": null,
   "id": "2570329f-a782-4128-9f87-eca64fadc93c",
   "metadata": {},
   "outputs": [],
   "source": []
  },
  {
   "cell_type": "markdown",
   "id": "18df428e-8ff0-4ca2-b912-3df97eaeb14b",
   "metadata": {},
   "source": [
    "# check gene groups"
   ]
  },
  {
   "cell_type": "code",
   "execution_count": null,
   "id": "52dc94e9-4fc4-49a2-b9dc-e99c05a1ec9a",
   "metadata": {
    "tags": []
   },
   "outputs": [],
   "source": [
    "genes_annots_overlap = {}\n",
    "for key, val in gene_modules.annots.items():\n",
    "    overlap = np.sort(np.intersect1d(val, genes_comm))\n",
    "    genes_annots_overlap[key] = overlap\n",
    "    print(key, len(val), len(overlap))\n",
    "    print(val[:5], overlap[:5])"
   ]
  },
  {
   "cell_type": "code",
   "execution_count": null,
   "id": "13ae0612-9ef4-4915-837e-28fcc53dd503",
   "metadata": {
    "tags": []
   },
   "outputs": [],
   "source": [
    "n = len(genes_annots_overlap)\n",
    "print(n)\n",
    "fig, axs = plt.subplots(3, 5, figsize=(5*5,6*3))\n",
    "for i, (key, val) in enumerate(genes_annots_overlap.items()):\n",
    "    ax = axs.flat[i]\n",
    "    ax.set_xticks([0, 0.5, 1])\n",
    "    ax.set_yticks([0, 0.5, 1])\n",
    "    g = ax.scatter(eta2_t, eta2_c, s=1, c='lightgray')\n",
    "    \n",
    "    ax.set_title(f'{key}\\nn={len(val)}')\n",
    "    val_idx = basicu.get_index_from_array(genes_comm, val)\n",
    "    g2 = ax.scatter(eta2_t[val_idx], eta2_c[val_idx], s=5, c='C1', zorder=2)\n",
    "    sns.despine(ax=ax)\n",
    "    ax.set_xlim([0,1])\n",
    "    ax.set_ylim([0,1])\n",
    "    \n",
    "    # fig.colorbar(g)\n",
    "    ax.set_aspect('equal')\n",
    "plt.show()"
   ]
  },
  {
   "cell_type": "markdown",
   "id": "1c7da556-ca5e-4183-9421-39e033b2e693",
   "metadata": {},
   "source": [
    "# check top genes"
   ]
  },
  {
   "cell_type": "code",
   "execution_count": null,
   "id": "99887986-3389-4fbf-9fab-792803fc526e",
   "metadata": {
    "tags": []
   },
   "outputs": [],
   "source": [
    "key = 'top time genes'\n",
    "val = genes_comm[np.argsort(eta2_t)[::-1][:10]]\n",
    "\n",
    "print(val)\n",
    "plot_query_gene_landscape(key, val)\n",
    "plot_query_genes(val)"
   ]
  },
  {
   "cell_type": "code",
   "execution_count": null,
   "id": "5a01d766-a557-4d14-889b-27ebaa4d0f70",
   "metadata": {
    "tags": []
   },
   "outputs": [],
   "source": [
    "key = 'top type genes'\n",
    "val = genes_comm[np.argsort(eta2_c)[::-1][:20]]\n",
    "\n",
    "print(val)\n",
    "plot_query_gene_landscape(key, val)\n",
    "plot_query_genes(val)"
   ]
  },
  {
   "cell_type": "code",
   "execution_count": null,
   "id": "c1c336cb-8b80-46b0-92b1-cc44cf728f3b",
   "metadata": {
    "tags": []
   },
   "outputs": [],
   "source": [
    "key = 'top rep genes'\n",
    "val = genes_comm[np.argsort(eta2_r)[::-1][:10]]\n",
    "\n",
    "print(val)\n",
    "plot_query_gene_landscape(key, val)\n",
    "plot_query_genes(val)"
   ]
  },
  {
   "cell_type": "code",
   "execution_count": null,
   "id": "15a513a0-b092-4aae-8723-b387f9a3172f",
   "metadata": {
    "tags": []
   },
   "outputs": [],
   "source": [
    "key = 'top int genes'\n",
    "val = genes_comm[np.argsort(eta2_tic/eta2_r)[::-1][:10]]\n",
    "\n",
    "print(val)\n",
    "plot_query_gene_landscape(key, val)\n",
    "plot_query_genes(val)"
   ]
  },
  {
   "cell_type": "code",
   "execution_count": null,
   "id": "6aa56a92-ed76-4b01-9323-7178a5b08279",
   "metadata": {
    "tags": []
   },
   "outputs": [],
   "source": [
    "val_anno, val_style, val_anno_style = gene_modules.check_genes(val)\n",
    "# print(\"\\t\".join(val))\n",
    "# print(\"\\t\".join(val_anno))\n",
    "# print(\"\\t\".join(val_style))\n",
    "print(\"\\t\".join(val_anno_style))"
   ]
  },
  {
   "cell_type": "markdown",
   "id": "e2333b2d-c910-4e2b-9ee2-28472da49fce",
   "metadata": {},
   "source": [
    "# check A vs C genes\n",
    "- import it somewhere else"
   ]
  },
  {
   "cell_type": "code",
   "execution_count": null,
   "id": "e1319b28-19ce-4b3e-ba68-2b141d45adae",
   "metadata": {},
   "outputs": [],
   "source": []
  },
  {
   "cell_type": "code",
   "execution_count": null,
   "id": "2502205d-d3df-42a7-866d-af90701f1a99",
   "metadata": {},
   "outputs": [],
   "source": []
  },
  {
   "cell_type": "code",
   "execution_count": null,
   "id": "cb69ba56-1b67-4542-b067-0332f443faa4",
   "metadata": {},
   "outputs": [],
   "source": []
  },
  {
   "cell_type": "markdown",
   "id": "2e05732d-1e55-4066-8250-401f687c60a4",
   "metadata": {
    "tags": []
   },
   "source": [
    "# top type; top time; top interaction (tic/rep)\n",
    "# transform this triangle"
   ]
  },
  {
   "cell_type": "code",
   "execution_count": null,
   "id": "85983123-ef02-4130-95a9-7d568042b555",
   "metadata": {},
   "outputs": [],
   "source": []
  },
  {
   "cell_type": "code",
   "execution_count": null,
   "id": "abe64750-1aee-4abc-af33-943693e880ab",
   "metadata": {},
   "outputs": [],
   "source": []
  },
  {
   "cell_type": "code",
   "execution_count": null,
   "id": "38559628-8593-4a77-893a-7f15d2057bcb",
   "metadata": {},
   "outputs": [],
   "source": []
  },
  {
   "cell_type": "code",
   "execution_count": null,
   "id": "633d656e-1395-46ab-bb04-d3ce108bfa40",
   "metadata": {},
   "outputs": [],
   "source": []
  },
  {
   "cell_type": "code",
   "execution_count": null,
   "id": "f9c590af-9240-4128-814e-819aa9f50434",
   "metadata": {},
   "outputs": [],
   "source": []
  },
  {
   "cell_type": "code",
   "execution_count": null,
   "id": "bc7a3aa9-82b2-4b56-8cda-18eb243d16f4",
   "metadata": {},
   "outputs": [],
   "source": []
  },
  {
   "cell_type": "markdown",
   "id": "33ba6f69-a4bc-414c-97f6-80b399ac9d08",
   "metadata": {},
   "source": [
    "# for any genes with signficant type component - separate them further by time (early mid late) and run GO - emulate Saumya"
   ]
  },
  {
   "cell_type": "code",
   "execution_count": null,
   "id": "247ed35c-c2b5-469a-8d4e-d2bd69ad8528",
   "metadata": {},
   "outputs": [],
   "source": []
  },
  {
   "cell_type": "code",
   "execution_count": null,
   "id": "f90bbee1-2aba-43a3-8197-febd1520b15e",
   "metadata": {},
   "outputs": [],
   "source": []
  }
 ],
 "metadata": {
  "kernelspec": {
   "display_name": "Python 3 (ipykernel)",
   "language": "python",
   "name": "python3"
  },
  "language_info": {
   "codemirror_mode": {
    "name": "ipython",
    "version": 3
   },
   "file_extension": ".py",
   "mimetype": "text/x-python",
   "name": "python",
   "nbconvert_exporter": "python",
   "pygments_lexer": "ipython3",
   "version": "3.9.16"
  }
 },
 "nbformat": 4,
 "nbformat_minor": 5
}
