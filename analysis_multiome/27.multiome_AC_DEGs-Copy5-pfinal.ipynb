{
 "cells": [
  {
   "cell_type": "code",
   "execution_count": null,
   "id": "bb214b6d-836a-49b8-93dd-a19f021215b7",
   "metadata": {
    "tags": []
   },
   "outputs": [],
   "source": [
    "import os\n",
    "import numpy as np\n",
    "import pandas as pd\n",
    "import scanpy as sc\n",
    "import anndata \n",
    "import seaborn as sns\n",
    "from scipy.stats import zscore\n",
    "import matplotlib.pyplot as plt\n",
    "import collections\n",
    "from natsort import natsorted\n",
    "\n",
    "from scipy import stats\n",
    "from scipy import sparse\n",
    "from sklearn.decomposition import PCA\n",
    "from umap import UMAP\n",
    "from statsmodels.stats.multitest import multipletests\n",
    "\n",
    "from matplotlib.colors import LinearSegmentedColormap\n",
    "\n",
    "from scroutines.config_plots import *\n",
    "from scroutines import powerplots # .config_plots import *\n",
    "from scroutines import pnmf\n",
    "from scroutines import basicu\n",
    "from scroutines.gene_modules import GeneModules  \n"
   ]
  },
  {
   "cell_type": "code",
   "execution_count": null,
   "id": "f45abc88-0cbc-4575-8035-9cb157c42bc2",
   "metadata": {},
   "outputs": [],
   "source": [
    "outdir_fig = \"/u/home/f/f7xiesnm/project-zipursky/v1-bb/v1/figures\""
   ]
  },
  {
   "cell_type": "markdown",
   "id": "ba1f61ee-ba83-4707-816d-37eb33a54b83",
   "metadata": {},
   "source": [
    "# load gene annotation and data"
   ]
  },
  {
   "cell_type": "code",
   "execution_count": null,
   "id": "e2945163-289c-48bf-9147-d5070e4deb8a",
   "metadata": {
    "tags": []
   },
   "outputs": [],
   "source": [
    "gene_modules = GeneModules()\n",
    "g, gs, ms = gene_modules.check_genes('Cdh13')\n",
    "print(\"\\t\".join(g))\n",
    "print(\"\\t\".join(gs))\n",
    "print(\"\\t\".join(ms))"
   ]
  },
  {
   "cell_type": "code",
   "execution_count": null,
   "id": "fb72ade4-5ddd-4d8d-9d66-847375e16845",
   "metadata": {},
   "outputs": [],
   "source": [
    "# use those 286 genes\n",
    "df = pd.read_csv(\"/u/home/f/f7xiesnm/project-zipursky/v1-bb/v1/data/cheng21_cell_scrna/res/L23-ABC-genes-n288-n286unq-annot_v3_july8_2024.csv\")\n",
    "genes_l23 = df['gene'].astype(str).values\n",
    "genes_l23a = df[df['P17on']=='A']['gene'].astype(str).values\n",
    "genes_l23b = df[df['P17on']=='B']['gene'].astype(str).values\n",
    "genes_l23c = df[df['P17on']=='C']['gene'].astype(str).values\n",
    "\n",
    "print(genes_l23a.shape, genes_l23b.shape, genes_l23c.shape)\n",
    "genes_grp = df['P17on'].astype(str).values\n",
    "assert len(genes_l23) == len(np.unique(genes_l23))\n",
    "\n",
    "genes_l23.shape"
   ]
  },
  {
   "cell_type": "code",
   "execution_count": null,
   "id": "bc4ba53f-b74e-4eca-82dd-52f9cbbdb104",
   "metadata": {
    "tags": []
   },
   "outputs": [],
   "source": [
    "scores_abc = pd.read_csv(\"/u/home/f/f7xiesnm/project-zipursky/v1-bb/v1/data/v1_multiome/scores_l23abc.csv\", \n",
    "                         index_col=0,\n",
    "                        )\n",
    "scores_abc['scores_c-a'] = scores_abc['scores_c'] - scores_abc['scores_a']\n",
    "scores_abc"
   ]
  },
  {
   "cell_type": "code",
   "execution_count": null,
   "id": "8542eec8-b8e1-4a35-9237-0d3c0043349b",
   "metadata": {},
   "outputs": [],
   "source": [
    "adata = anndata.read(\"/u/home/f/f7xiesnm/project-zipursky/v1-bb/v1/data/v1_multiome/superdupermegaRNA_hasraw_multiome_l23.h5ad\")\n",
    "adata"
   ]
  },
  {
   "cell_type": "code",
   "execution_count": null,
   "id": "345d47ef-df93-4066-b2dd-382bac604a7c",
   "metadata": {
    "tags": []
   },
   "outputs": [],
   "source": [
    "adata.X = adata.raw.X"
   ]
  },
  {
   "cell_type": "code",
   "execution_count": null,
   "id": "47c07c89-4d36-4d6d-b4e5-305180e5bd7b",
   "metadata": {
    "tags": []
   },
   "outputs": [],
   "source": [
    "adata.obs['scores_a'] = scores_abc.loc[adata.obs.index,'scores_a'].copy()\n",
    "adata.obs['scores_b'] = scores_abc.loc[adata.obs.index,'scores_b'].copy()\n",
    "adata.obs['scores_c'] = scores_abc.loc[adata.obs.index,'scores_c'].copy()\n",
    "adata.obs['scores_c-a'] = scores_abc.loc[adata.obs.index,'scores_c-a'].copy()"
   ]
  },
  {
   "cell_type": "code",
   "execution_count": null,
   "id": "c715643c-0748-414c-b477-4294cb85b5cc",
   "metadata": {
    "tags": []
   },
   "outputs": [],
   "source": [
    "sample_labels = adata.obs['Sample'].values\n",
    "time_labels = [s[:-1].replace('DR', '') for s in sample_labels]\n",
    "\n",
    "adata.obs['sample'] = sample_labels #\n",
    "adata.obs['time']   = time_labels\n",
    "\n",
    "uniq_samples = natsorted(np.unique(sample_labels))\n",
    "nr_samples = [s for s in uniq_samples if \"DR\" not in s]\n",
    "dr_samples = [s for s in uniq_samples if \"DR\" in s]\n",
    "\n",
    "uniq_conds = np.array(natsorted(np.unique(adata.obs['cond'].values)))\n",
    "print(uniq_conds)"
   ]
  },
  {
   "cell_type": "code",
   "execution_count": null,
   "id": "4d9ae16c-9107-4acd-8405-fbcd84bd8e0d",
   "metadata": {
    "tags": []
   },
   "outputs": [],
   "source": [
    "# remove mitocondria genes\n",
    "adata = adata[:,~adata.var.index.str.contains(r'^mt-')]\n",
    "\n",
    "# filter genes\n",
    "cond = np.ravel((adata.X>0).sum(axis=0)) > 10 # expressed in more than 10 cells\n",
    "adata = adata[:,cond].copy()"
   ]
  },
  {
   "cell_type": "code",
   "execution_count": null,
   "id": "1fadd441-11aa-49ab-abcc-d8d5e9cf47ea",
   "metadata": {},
   "outputs": [],
   "source": [
    "# counts\n",
    "x = adata.X\n",
    "cov = np.ravel(np.sum(x, axis=1))\n",
    "genes = adata.var.index.values\n",
    "\n",
    "# CP10k\n",
    "xn = (sparse.diags(1/cov).dot(x))*1e4\n",
    "\n",
    "# log2(CP10k+1)\n",
    "xln = xn.copy()\n",
    "xln.data = np.log2(xln.data+1)\n",
    "\n",
    "adata.layers[    'norm'] = np.array(xn.todense())\n",
    "adata.layers[ 'lognorm'] = np.array(xln.todense())"
   ]
  },
  {
   "cell_type": "code",
   "execution_count": null,
   "id": "09d57655-c050-4842-a623-8fd8cac63496",
   "metadata": {
    "tags": []
   },
   "outputs": [],
   "source": [
    "# offset = 1\n",
    "num_archetypal_cells = 100\n",
    "SHUFFLE = False\n",
    "\n",
    "n_cond = len(uniq_conds)\n",
    "n_gene = adata.shape[1] \n",
    "qs_tensor   = np.zeros((n_cond,3,n_gene))  # 3 represents 3 pairwise comparisons (ca, ba, bc)\n",
    "l2fc_tensor = np.zeros((n_cond,3,n_gene))\n",
    "\n",
    "for cond_code, cond in enumerate(uniq_conds):\n",
    "    # get sub\n",
    "    adatasub = adata[adata.obs['cond']==cond]\n",
    "    \n",
    "    # get A vs C \n",
    "    ranks_ac = adatasub.obs['scores_c-a'].rank()\n",
    "    ranks_b  = adatasub.obs['scores_b'].rank()\n",
    "    \n",
    "    precond_a = ranks_ac <= num_archetypal_cells\n",
    "    precond_c = ranks_ac > adatasub.shape[0] - num_archetypal_cells\n",
    "    precond_b = ranks_b  > adatasub.shape[0] - num_archetypal_cells\n",
    "    \n",
    "    cond_a = np.all([ precond_a, ~precond_b, ~precond_c], axis=0)\n",
    "    cond_b = np.all([~precond_a,  precond_b, ~precond_c], axis=0)\n",
    "    cond_c = np.all([~precond_a, ~precond_b,  precond_c], axis=0)\n",
    "    \n",
    "    print(precond_a.sum(), \n",
    "          precond_b.sum(), \n",
    "          precond_c.sum(),)\n",
    "    print(cond_a.sum(), cond_b.sum(), cond_c.sum())\n",
    "    \n",
    "    adatasub_a = adatasub[cond_a]\n",
    "    adatasub_b = adatasub[cond_b]\n",
    "    adatasub_c = adatasub[cond_c]\n",
    "    \n",
    "    # DEGs\n",
    "    mat_a = adatasub_a.layers['lognorm'][...]\n",
    "    mat_b = adatasub_b.layers['lognorm'][...]\n",
    "    mat_c = adatasub_c.layers['lognorm'][...]\n",
    "    \n",
    "    ts_ca, ps_ca = stats.ttest_ind(mat_c, mat_a)\n",
    "    ts_ba, ps_ba = stats.ttest_ind(mat_b, mat_a)\n",
    "    ts_bc, ps_bc = stats.ttest_ind(mat_b, mat_c)\n",
    "    \n",
    "    _, qs_ca, _, _ = multipletests(np.nan_to_num(ps_ca, nan=1).reshape(-1,), method='fdr_bh') # why nan in ps -- not expressed\n",
    "    _, qs_ba, _, _ = multipletests(np.nan_to_num(ps_ba, nan=1).reshape(-1,), method='fdr_bh') # why nan in ps -- not expressed\n",
    "    _, qs_bc, _, _ = multipletests(np.nan_to_num(ps_bc, nan=1).reshape(-1,), method='fdr_bh') # why nan in ps -- not expressed\n",
    "    \n",
    "    lfc_ca = np.mean(mat_c, axis=0) - np.mean(mat_a, axis=0) # log2FC (log2CP10k as raw counts)\n",
    "    lfc_ba = np.mean(mat_b, axis=0) - np.mean(mat_a, axis=0) # log2FC (log2CP10k as raw counts)\n",
    "    lfc_bc = np.mean(mat_b, axis=0) - np.mean(mat_c, axis=0) # log2FC (log2CP10k as raw counts)\n",
    "    \n",
    "    num_sig_ca = np.sum(np.logical_and(qs_ca < 0.05, np.abs(lfc_ca) > 1))\n",
    "    num_sig_b  = np.sum(np.all([\n",
    "        qs_ba < 0.05, np.abs(lfc_ba) > 1, \n",
    "        qs_bc < 0.05, np.abs(lfc_bc) > 1, \n",
    "        ]))\n",
    "    print(cond, num_sig_ca, num_sig_b)\n",
    "    \n",
    "    # save this\n",
    "    l2fc_tensor[cond_code, 0] = lfc_ca\n",
    "    l2fc_tensor[cond_code, 1] = lfc_ba\n",
    "    l2fc_tensor[cond_code, 2] = lfc_bc\n",
    "    \n",
    "    qs_tensor[cond_code, 0] = qs_ca\n",
    "    qs_tensor[cond_code, 1] = qs_ba\n",
    "    qs_tensor[cond_code, 2] = qs_bc\n",
    "    \n"
   ]
  },
  {
   "cell_type": "code",
   "execution_count": null,
   "id": "e6dd2dc4-71c5-43ad-8ae9-e45f5988b537",
   "metadata": {},
   "outputs": [],
   "source": [
    "%%time\n",
    "fout1 = '/u/home/f/f7xiesnm/project-zipursky/v1-bb/v1/data/v1_multiome/DEG_l23abc_qs_250408.npy'\n",
    "fout2 = '/u/home/f/f7xiesnm/project-zipursky/v1-bb/v1/data/v1_multiome/DEG_l23abc_l2fc_250408.npy'\n",
    "fout3 = '/u/home/f/f7xiesnm/project-zipursky/v1-bb/v1/data/v1_multiome/DEG_l23abc_gene_list_250408.csv'\n",
    "\n",
    "np.save(fout1, qs_tensor)\n",
    "np.save(fout2, l2fc_tensor)"
   ]
  },
  {
   "cell_type": "markdown",
   "id": "5744d361-25eb-4459-a043-3eb3dc2b1fdb",
   "metadata": {},
   "source": [
    "# check results and stats"
   ]
  },
  {
   "cell_type": "code",
   "execution_count": null,
   "id": "68521b0d-a21a-4cd2-a830-d1f5a4173743",
   "metadata": {
    "tags": []
   },
   "outputs": [],
   "source": [
    "qs_tensor = np.load(fout1)\n",
    "l2fc_tensor = np.load(fout2)\n",
    "\n",
    "l2fc_th = np.log2(2)\n",
    "alpha_th = 0.05"
   ]
  },
  {
   "cell_type": "code",
   "execution_count": null,
   "id": "6708f12c-ee53-454a-a83a-b4813fa51708",
   "metadata": {
    "tags": []
   },
   "outputs": [],
   "source": [
    "qs   = qs_tensor[:,0,:]\n",
    "l2fc = l2fc_tensor[:,0,:]\n",
    "\n",
    "cond_sig_a = np.all([qs < alpha_th, l2fc < -l2fc_th], axis=0)\n",
    "cond_sig_c = np.all([qs < alpha_th, l2fc >  l2fc_th], axis=0)\n",
    "\n",
    "instances, counts_a = np.unique(cond_sig_a.sum(axis=0), return_counts=True)\n",
    "instances, counts_c = np.unique(cond_sig_c.sum(axis=0), return_counts=True)\n",
    "\n",
    "print('num A > C genes for each cond:\\t', cond_sig_a.sum(axis=1), np.any(cond_sig_a, axis=0).sum())\n",
    "print('num C > A genes for each cond:\\t', cond_sig_c.sum(axis=1), np.any(cond_sig_c, axis=0).sum())\n",
    "print('num A > C genes in num conds:\\t',  counts_a[1:])\n",
    "print('num C > A genes in num conds:\\t',  counts_c[1:])"
   ]
  },
  {
   "cell_type": "code",
   "execution_count": null,
   "id": "81c8bc22-1f49-4145-8e97-689396759a4d",
   "metadata": {
    "tags": []
   },
   "outputs": [],
   "source": [
    "qs_ba   = qs_tensor[:,1,:]\n",
    "qs_bc   = qs_tensor[:,2,:]\n",
    "\n",
    "l2fc_ba = l2fc_tensor[:,1,:]\n",
    "l2fc_bc = l2fc_tensor[:,2,:]\n",
    "\n",
    "qs_b   = np.minimum(qs_ba, qs_bc) # the better of the two\n",
    "l2fc_b = np.mean([l2fc_ba, l2fc_bc], axis=0) # mean fold change\n",
    "\n",
    "cond_sig_b = np.all([l2fc_ba > 0, l2fc_bc > 0, l2fc_b > l2fc_th, qs_b < alpha_th], axis=0)\n",
    "instances, counts_b = np.unique(cond_sig_b.sum(axis=0), return_counts=True)\n",
    "\n",
    "print('num B > A,C per cond:\\t',    cond_sig_b.sum(axis=1))\n",
    "print('num B > A,C DARs in num conds:\\t',  counts_b[1:])"
   ]
  },
  {
   "cell_type": "code",
   "execution_count": null,
   "id": "e849ad65-3232-4ae4-a6eb-0b6a608df459",
   "metadata": {
    "tags": []
   },
   "outputs": [],
   "source": [
    "a_any = np.sort(adata.var[np.any(cond_sig_a, axis=0)].index.values)\n",
    "c_any = np.sort(adata.var[np.any(cond_sig_c, axis=0)].index.values)\n",
    "a_all = np.sort(adata.var[np.all(cond_sig_a, axis=0)].index.values)\n",
    "c_all = np.sort(adata.var[np.all(cond_sig_c, axis=0)].index.values)\n",
    "ac_overlap = np.sort(adata.var[np.logical_and(np.any(cond_sig_a, axis=0), np.any(cond_sig_c, axis=0))].index.values)\n",
    "\n",
    "print('a any', a_any)\n",
    "print('c any', c_any)\n",
    "print('a all', a_all)\n",
    "print('c all', c_all)\n",
    "print('ac overlap', ac_overlap)"
   ]
  },
  {
   "cell_type": "code",
   "execution_count": null,
   "id": "ac1f411d-7463-4b75-bf4a-dd4ae4185490",
   "metadata": {
    "tags": []
   },
   "outputs": [],
   "source": [
    "a_all_annots, a_all_styled, a_all_annots_styled = gene_modules.check_genes(a_all)\n",
    "c_all_annots, c_all_styled, c_all_annots_styled = gene_modules.check_genes(c_all)\n",
    "\n",
    "print(\"\\t\".join(a_all_annots_styled)) # _styled))\n",
    "print(\"---\"*10) # _styled))\n",
    "print(\"\\t\".join(c_all_annots_styled)) # _styled))"
   ]
  },
  {
   "cell_type": "code",
   "execution_count": null,
   "id": "82f40f49-6f8a-43ea-96f5-ad57938c50ae",
   "metadata": {},
   "outputs": [],
   "source": [
    "fig, ax = plt.subplots(figsize=(4,4))\n",
    "ax.plot(np.arange(1,1+11)[::-1], np.cumsum(counts_a[1:][::-1]), '-o', label='A', color='C0')\n",
    "ax.plot(np.arange(1,1+11)[::-1], np.cumsum(counts_c[1:][::-1]), '-o', label='C', color='C2')\n",
    "ax.set_ylim(ymin=0)\n",
    "ax.legend()\n",
    "ax.set_ylabel('number of TFs')\n",
    "ax.set_xlabel('number of time points')\n",
    "sns.despine(ax=ax)\n",
    "plt.show()"
   ]
  },
  {
   "cell_type": "code",
   "execution_count": null,
   "id": "2214c360-0c38-4bc9-8631-6bd8c9dbd91c",
   "metadata": {
    "tags": []
   },
   "outputs": [],
   "source": [
    "df_res_all = []\n",
    "\n",
    "for label, cond_sig in zip(['A', 'C', 'B'], \n",
    "                           [cond_sig_a, cond_sig_c, cond_sig_b]):\n",
    "    \n",
    "    cond_idx, gene_idx = np.nonzero(cond_sig.astype(int))\n",
    "    \n",
    "    df_res = pd.DataFrame()\n",
    "    df_res['cond'] = uniq_conds[cond_idx]\n",
    "    df_res['gene'] = genes[gene_idx]\n",
    "    df_res['archetype'] = label\n",
    "    df_res_all.append(df_res)\n",
    "    \n",
    "df_res_all = pd.concat(df_res_all)\n",
    "df_res_all\n",
    "    "
   ]
  },
  {
   "cell_type": "code",
   "execution_count": null,
   "id": "ce04254c-9137-409b-bff7-e2b5912123b5",
   "metadata": {},
   "outputs": [],
   "source": [
    "df_res_all.to_csv(fout3, header=True, index=False)"
   ]
  },
  {
   "cell_type": "code",
   "execution_count": null,
   "id": "fca05014-961d-41c6-bb45-d1b0c271a56b",
   "metadata": {
    "tags": []
   },
   "outputs": [],
   "source": [
    "df_res_all.groupby('gene').sum()"
   ]
  },
  {
   "cell_type": "markdown",
   "id": "b3848f6e-1365-4f5a-9d7e-cbc6ddcbd4b6",
   "metadata": {},
   "source": [
    "# Volcano"
   ]
  },
  {
   "cell_type": "code",
   "execution_count": null,
   "id": "dca633d6-8bbf-43ac-87c2-fcd773d33ccf",
   "metadata": {
    "tags": []
   },
   "outputs": [],
   "source": [
    "def show_volcano_v2(thetypeidx, thetype, lfc, qs,\n",
    "                    cond1, cond2up, cond2dn, \n",
    "                    querygenes_idx=None, \n",
    "                    gene_annots=None,\n",
    "                    ax=None, bbox_to_anchor=(1,1), loc=None,\n",
    "                   ): \n",
    "    \"\"\"\n",
    "    \"\"\"\n",
    "    eff = lfc[:,thetypeidx]\n",
    "    pvl = -np.log10(np.clip(qs[:,thetypeidx], 1e-50, None)) # +1e-10)\n",
    "    cnd_up = np.all([cond1[:,thetypeidx], \n",
    "                     cond2up[:,thetypeidx]], axis=0) \n",
    "    cnd_dn = np.all([cond1[:,thetypeidx], \n",
    "                     cond2dn[:,thetypeidx]], axis=0) \n",
    "\n",
    "    if ax is None: \n",
    "        fig, ax = plt.subplots()\n",
    "    \n",
    "    # all genes\n",
    "    ax.scatter(eff, pvl, s=1, color='lightgray', rasterized=True)\n",
    "\n",
    "    # up genes\n",
    "    ax.scatter(eff[cnd_up], pvl[cnd_up], s=3, facecolors='C0', rasterized=True)\n",
    "    # dn genes\n",
    "    ax.scatter(eff[cnd_dn], pvl[cnd_dn], s=3, facecolors='C1', rasterized=True)\n",
    "    \n",
    "    # # query genes\n",
    "    # add text\n",
    "    if querygenes_idx is not None:\n",
    "        ax.scatter(eff[querygenes_idx], pvl[querygenes_idx], s=15, \n",
    "                   # label=f'type-specific (n={len(querygenes_idx):,})',\n",
    "                   facecolors='none', edgecolors='k', linewidth=1, rasterized=True)\n",
    "        for idx in querygenes_idx:\n",
    "            ax.text(eff[idx], pvl[idx], gene_annots[idx], fontsize=10)\n",
    "\n",
    "            \n",
    "    # ax.grid(axis='y')\n",
    "    sns.despine(ax=ax)\n",
    "    ax.set_xlabel('log2(FC) (C/A in CP10k)')\n",
    "    ax.set_ylabel('-log10(adj. p)')\n",
    "    ax.set_title(f'{thetype}')\n",
    "    ax.text(1,0.1,\n",
    "            f'up (n={cnd_up.sum():,})\\ndown (n={cnd_dn.sum():,})', \n",
    "            ha='right',\n",
    "            fontsize=10, transform=ax.transAxes)\n",
    "    return "
   ]
  },
  {
   "cell_type": "code",
   "execution_count": null,
   "id": "171443b5-fe89-4513-94ed-d64a0134e85d",
   "metadata": {
    "tags": []
   },
   "outputs": [],
   "source": [
    "genes_comm = adata.var.index.values\n",
    "lfc = l2fc_tensor[:,0,:].T\n",
    "qs  = qs_tensor[:,0,:].T\n",
    "lfc_th, qs_th = 1, 0.05"
   ]
  },
  {
   "cell_type": "code",
   "execution_count": null,
   "id": "ed91043c-0d42-4da6-8073-580098d269a3",
   "metadata": {
    "tags": []
   },
   "outputs": [],
   "source": [
    "cond1   = qs  <  qs_th\n",
    "cond2up = lfc >  lfc_th\n",
    "cond2dn = lfc < -lfc_th"
   ]
  },
  {
   "cell_type": "code",
   "execution_count": null,
   "id": "e4bac217-6209-4e00-ac6e-3579d9e48ac7",
   "metadata": {
    "tags": []
   },
   "outputs": [],
   "source": [
    "unq_conds = natsorted(np.unique(adata.obs['cond']))\n",
    "unq_conds"
   ]
  },
  {
   "cell_type": "code",
   "execution_count": null,
   "id": "709118f2-e5cd-4ee6-a2ce-a81e5fba0ced",
   "metadata": {
    "tags": []
   },
   "outputs": [],
   "source": [
    "n = len(unq_conds)\n",
    "fig, axs = plt.subplots(1,n,figsize=(4*n,4*1), sharex=True, sharey=True)\n",
    "for cond_idx, thecond in enumerate(unq_conds):\n",
    "    ax = axs.flat[cond_idx]\n",
    "    show_volcano_v2(cond_idx, thecond, lfc, qs, cond1, cond2up, cond2dn, \n",
    "                    # typegenes_idx, \n",
    "                    ax=ax, bbox_to_anchor=(0.5, -0.3), loc='upper center')\n",
    "    sns.despine(ax=ax)\n",
    "fig.tight_layout()\n",
    "\n",
    "# output = os.path.join(outfigdir, \"volcano.pdf\")\n",
    "# powerplots.savefig_autodate(fig, output)\n",
    "plt.show()"
   ]
  },
  {
   "cell_type": "code",
   "execution_count": null,
   "id": "2c358a9b-874e-4f39-91f0-d1284b16e104",
   "metadata": {},
   "outputs": [],
   "source": [
    "querygenes = ['Meis2','Foxp1','Cdh13','Cdh12']\n",
    "querygenes_idx = basicu.get_index_from_array(genes_comm, querygenes) \n",
    "gene_annots = genes_comm\n",
    "\n",
    "n = len(unq_conds)\n",
    "fig, axs = plt.subplots(3,4,figsize=(4*4,4*3), sharex=True, sharey=True)\n",
    "for cond_idx, thecond in enumerate(unq_conds):\n",
    "    ax = axs.flat[cond_idx]\n",
    "    show_volcano_v2(cond_idx, thecond, lfc, qs, cond1, cond2up, cond2dn, \n",
    "                    querygenes_idx=querygenes_idx, \n",
    "                    gene_annots=genes_comm,\n",
    "                    ax=ax, bbox_to_anchor=(0.5, -0.3), loc='upper center')\n",
    "    sns.despine(ax=ax)\n",
    "fig.tight_layout()\n",
    "plt.show()"
   ]
  },
  {
   "cell_type": "code",
   "execution_count": null,
   "id": "6a992779-3e23-497a-9841-d507a20548b3",
   "metadata": {
    "tags": []
   },
   "outputs": [],
   "source": [
    "genes_sig = genes_comm[np.any(np.abs(lfc) > 1, axis=1)]\n",
    "querygenes = np.intersect1d(gene_modules.annots['tf'], genes_sig) #['Meis2','Foxp1','Cdh13','Cdh12']\n",
    "querygenes_idx = basicu.get_index_from_array(genes_comm, querygenes) \n",
    "gene_annots = genes_comm\n",
    "\n",
    "n = len(unq_conds)\n",
    "fig, axs = plt.subplots(3,4,figsize=(4*4,4*3), sharex=True, sharey=True)\n",
    "for cond_idx, thecond in enumerate(unq_conds):\n",
    "    ax = axs.flat[cond_idx]\n",
    "    show_volcano_v2(cond_idx, thecond, lfc, qs, cond1, cond2up, cond2dn, \n",
    "                    querygenes_idx=querygenes_idx, \n",
    "                    gene_annots=genes_comm,\n",
    "                    ax=ax, bbox_to_anchor=(0.5, -0.3), loc='upper center')\n",
    "    sns.despine(ax=ax)\n",
    "fig.tight_layout()\n",
    "plt.show()"
   ]
  },
  {
   "cell_type": "code",
   "execution_count": null,
   "id": "93cea381-7661-4aec-b99e-5558909a0c92",
   "metadata": {},
   "outputs": [],
   "source": []
  }
 ],
 "metadata": {
  "kernelspec": {
   "display_name": "Python 3 (ipykernel)",
   "language": "python",
   "name": "python3"
  },
  "language_info": {
   "codemirror_mode": {
    "name": "ipython",
    "version": 3
   },
   "file_extension": ".py",
   "mimetype": "text/x-python",
   "name": "python",
   "nbconvert_exporter": "python",
   "pygments_lexer": "ipython3",
   "version": "3.9.16"
  }
 },
 "nbformat": 4,
 "nbformat_minor": 5
}
