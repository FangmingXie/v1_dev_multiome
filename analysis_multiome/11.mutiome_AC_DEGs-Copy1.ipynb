{
 "cells": [
  {
   "cell_type": "code",
   "execution_count": null,
   "id": "bb214b6d-836a-49b8-93dd-a19f021215b7",
   "metadata": {
    "tags": []
   },
   "outputs": [],
   "source": [
    "import os\n",
    "import numpy as np\n",
    "import pandas as pd\n",
    "import scanpy as sc\n",
    "import anndata \n",
    "import seaborn as sns\n",
    "from scipy.stats import zscore\n",
    "import matplotlib.pyplot as plt\n",
    "import collections\n",
    "from natsort import natsorted\n",
    "\n",
    "from scipy import stats\n",
    "from scipy import sparse\n",
    "from sklearn.decomposition import PCA\n",
    "from umap import UMAP\n",
    "\n",
    "from matplotlib.colors import LinearSegmentedColormap\n",
    "\n",
    "from scroutines.config_plots import *\n",
    "from scroutines import powerplots # .config_plots import *\n",
    "from scroutines import pnmf\n",
    "from scroutines import basicu\n",
    "from scroutines.gene_modules import GeneModules  \n"
   ]
  },
  {
   "cell_type": "code",
   "execution_count": null,
   "id": "f45abc88-0cbc-4575-8035-9cb157c42bc2",
   "metadata": {},
   "outputs": [],
   "source": [
    "outdir_fig = \"/u/home/f/f7xiesnm/project-zipursky/v1-bb/v1/figures\""
   ]
  },
  {
   "cell_type": "markdown",
   "id": "ba1f61ee-ba83-4707-816d-37eb33a54b83",
   "metadata": {},
   "source": [
    "# load gene annotation and data"
   ]
  },
  {
   "cell_type": "code",
   "execution_count": null,
   "id": "e2945163-289c-48bf-9147-d5070e4deb8a",
   "metadata": {
    "tags": []
   },
   "outputs": [],
   "source": [
    "gene_modules = GeneModules()\n",
    "g, gs, ms = gene_modules.check_genes('Cdh13')\n",
    "print(\"\\t\".join(g))\n",
    "print(\"\\t\".join(gs))\n",
    "print(\"\\t\".join(ms))"
   ]
  },
  {
   "cell_type": "code",
   "execution_count": null,
   "id": "012e0c55-888e-43b8-bb75-846ef63d3f26",
   "metadata": {
    "tags": []
   },
   "outputs": [],
   "source": [
    "# AC genes\n",
    "f = '/u/home/f/f7xiesnm/project-zipursky/v1-bb/v1/data/v1_multiome/Saumya_P6-21_AC_genes.csv'\n",
    "df = pd.read_csv(f)\n",
    "\n",
    "df_a = df.iloc[:25]\n",
    "df_c = df.iloc[25:]\n",
    "\n",
    "alltime_a = np.unique(df_a.values)\n",
    "alltime_c = np.unique(df_c.values)\n",
    "alltime_ac = np.hstack([alltime_a, alltime_c])\n",
    "\n",
    "ac_overlap = np.intersect1d(alltime_a, alltime_c)\n",
    "\n",
    "print(df_a.shape, df_c.shape, alltime_a.shape, alltime_c.shape, alltime_ac.shape, ac_overlap.shape)\n",
    "df.head()"
   ]
  },
  {
   "cell_type": "code",
   "execution_count": null,
   "id": "fb72ade4-5ddd-4d8d-9d66-847375e16845",
   "metadata": {},
   "outputs": [],
   "source": [
    "# use those 286 genes\n",
    "# df = pd.read_csv(\"../../data/cheng21_cell_scrna/res/candidate_genes_vincent_0503_v2.csv\")\n",
    "df = pd.read_csv(\"../../data/cheng21_cell_scrna/res/L23-ABC-genes-n288-n286unq-annot.csv\")\n",
    "genes_l23 = df['gene'].astype(str).values\n",
    "genes_l23a = df[df['P17on']=='A']['gene'].astype(str).values\n",
    "genes_l23b = df[df['P17on']=='B']['gene'].astype(str).values\n",
    "genes_l23c = df[df['P17on']=='C']['gene'].astype(str).values\n",
    "\n",
    "print(genes_l23a.shape, genes_l23b.shape, genes_l23c.shape)\n",
    "genes_grp = df['P17on'].astype(str).values\n",
    "assert len(genes_l23) == len(np.unique(genes_l23))\n",
    "\n",
    "genes_l23.shape"
   ]
  },
  {
   "cell_type": "code",
   "execution_count": null,
   "id": "8542eec8-b8e1-4a35-9237-0d3c0043349b",
   "metadata": {},
   "outputs": [],
   "source": [
    "adata = anndata.read(\"../../data/v1_multiome/L23_allmultiome_raw.h5ad\")\n",
    "adata"
   ]
  },
  {
   "cell_type": "code",
   "execution_count": null,
   "id": "c715643c-0748-414c-b477-4294cb85b5cc",
   "metadata": {
    "tags": []
   },
   "outputs": [],
   "source": [
    "sample_labels = [\"-\".join(cell.split(' ')[0].split('-')[2:]).replace('-2023', '') for cell in adata.obs.index]\n",
    "time_labels = [s[:-1].replace('DR', '') for s in sample_labels]\n",
    "\n",
    "adata.obs['n_counts'] = adata.obs['nCount_RNA']\n",
    "adata.obs['sample'] = sample_labels\n",
    "adata.obs['time']   = time_labels\n",
    "\n",
    "uniq_samples = natsorted(np.unique(sample_labels))\n",
    "uniq_times = natsorted(np.unique(time_labels))\n",
    "\n",
    "nr_samples = [s for s in uniq_samples if \"DR\" not in s]\n",
    "dr_samples = [s for s in uniq_samples if \"DR\" in s]\n",
    "print(uniq_times)\n",
    "print(nr_samples)\n",
    "print(dr_samples)\n",
    "\n",
    "# adata.obs['sample'] = sample_labels"
   ]
  },
  {
   "cell_type": "code",
   "execution_count": null,
   "id": "4d9ae16c-9107-4acd-8405-fbcd84bd8e0d",
   "metadata": {
    "tags": []
   },
   "outputs": [],
   "source": [
    "# select samples\n",
    "adata = adata[adata.obs['sample'].isin(nr_samples)]\n",
    "adata = adata[adata.obs['time'].isin(['P6', 'P8', 'P10', 'P12', 'P14', 'P17', 'P21'])]\n",
    "adata.obs['cond'] = adata.obs['time']\n",
    "\n",
    "# remove mitocondria genes\n",
    "adata = adata[:,~adata.var['features'].str.contains(r'^mt-')]\n",
    "\n",
    "# select\n",
    "# adata = adata[adata.obs['cond'].str.contains(r\"NR$\")]\n",
    "adata.obs['sample'].unique(), adata.obs['cond'].unique()"
   ]
  },
  {
   "cell_type": "code",
   "execution_count": null,
   "id": "4909ea27-eafc-4571-aee4-afb718a5a171",
   "metadata": {
    "tags": []
   },
   "outputs": [],
   "source": [
    "# define\n",
    "# genes = adata.var.index.values\n",
    "conds = adata.obs['cond'].values\n",
    "types = adata.obs['Type'].values\n",
    "samps = adata.obs['sample'].values\n",
    "\n",
    "# organize\n",
    "rename = {\n",
    "    \"L2/3_A\": \"L2/3_A\",\n",
    "    \"L2/3_B\": \"L2/3_B\",\n",
    "    \"L2/3_C\": \"L2/3_C\",\n",
    "    \n",
    "    \"L2/3_1\": \"L2/3_A\",\n",
    "    \"L2/3_2\": \"L2/3_B\",\n",
    "    \"L2/3_3\": \"L2/3_C\",\n",
    "    \n",
    "    \"L2/3_AB\": \"L2/3_A\",\n",
    "    \"L2/3_BC\": \"L2/3_C\",\n",
    "}\n",
    "adata.obs['easitype'] = adata.obs['Type'] #.apply(lambda x: rename[x])\n",
    "adata"
   ]
  },
  {
   "cell_type": "code",
   "execution_count": null,
   "id": "5a7d34aa-74e8-41ce-8443-42f08af5c5d4",
   "metadata": {
    "tags": []
   },
   "outputs": [],
   "source": [
    "adata.obs['Type'].unique()"
   ]
  },
  {
   "cell_type": "code",
   "execution_count": null,
   "id": "1fadd441-11aa-49ab-abcc-d8d5e9cf47ea",
   "metadata": {},
   "outputs": [],
   "source": [
    "# filter genes\n",
    "cond = np.ravel((adata.X>0).sum(axis=0)) > 10 # expressed in more than 10 cells\n",
    "adata = adata[:,cond].copy()\n",
    "genes = adata.var.index.values\n",
    "\n",
    "# counts\n",
    "x = adata.X\n",
    "cov = adata.obs['n_counts'].values\n",
    "genes = adata.var.index.values\n",
    "\n",
    "# CP10k\n",
    "# xn = x/cov.reshape(x.shape[0], -1)*1e4\n",
    "xn = (sparse.diags(1/cov).dot(x))*1e4\n",
    "\n",
    "# log10(CP10k+1)\n",
    "xln = xn.copy()\n",
    "xln.data = np.log10(xln.data+1)\n",
    "\n",
    "adata.layers[    'norm'] = np.array(xn.todense())\n",
    "adata.layers[ 'lognorm'] = np.array(xln.todense())\n",
    "adata.layers['zlognorm'] = zscore(np.array(xln.todense()), axis=0)"
   ]
  },
  {
   "cell_type": "code",
   "execution_count": null,
   "id": "ee38a818-ddf9-4cac-9cd5-995cc8c92699",
   "metadata": {},
   "outputs": [],
   "source": [
    "# select HVGs with mean and var\n",
    "nbin = 20\n",
    "qth = 0.3\n",
    "\n",
    "# min\n",
    "gm = np.ravel(xn.mean(axis=0))\n",
    "\n",
    "# var\n",
    "tmp = xn.copy()\n",
    "tmp.data = np.power(tmp.data, 2)\n",
    "gv = np.ravel(tmp.mean(axis=0))-gm**2\n",
    "\n",
    "# cut \n",
    "lbl = pd.qcut(gm, nbin, labels=np.arange(nbin))\n",
    "gres = pd.DataFrame()\n",
    "gres['name'] = genes\n",
    "gres['lbl'] = lbl\n",
    "gres['mean'] = gm\n",
    "gres['var'] = gv\n",
    "gres['ratio']= gv/gm\n",
    "\n",
    "# select\n",
    "gres_sel = gres.groupby('lbl')['ratio'].nlargest(int(qth*(len(gm)/nbin))) #.reset_index()\n",
    "gsel_idx = np.sort(gres_sel.index.get_level_values(1).values)\n",
    "assert np.all(gsel_idx != -1)\n"
   ]
  },
  {
   "cell_type": "code",
   "execution_count": null,
   "id": "4ac784ef-dea4-45da-8de5-91ea3d0d8f4a",
   "metadata": {
    "tags": []
   },
   "outputs": [],
   "source": [
    "# gsel_idx = np.union1d(gsel_idx, gaba_idx)\n",
    "\n",
    "# # \n",
    "l23_gidx = basicu.get_index_from_array(genes, genes_l23)\n",
    "l23_gidx = l23_gidx[l23_gidx!=-1]\n",
    "assert np.all(l23_gidx != -1)"
   ]
  },
  {
   "cell_type": "code",
   "execution_count": null,
   "id": "ea683c02-56eb-48f3-9904-29f72e678735",
   "metadata": {},
   "outputs": [],
   "source": [
    "fig, axs = plt.subplots(1,2, figsize=(6*2,4), sharex=True, sharey=True)\n",
    "ax = axs[0]\n",
    "ax.scatter(gm, gv/gm, s=5, edgecolor='none', color='gray')\n",
    "ax.set_xscale('log')\n",
    "ax.set_yscale('log')\n",
    "ax.set_xlabel('mean expr (CP10k)')\n",
    "ax.set_ylabel('var/mean')\n",
    "ax.set_title(f'{len(gm):,} genes')\n",
    "\n",
    "ax = axs[1]\n",
    "ax.scatter(gm, gv/gm, s=5, edgecolor='none', color='gray')\n",
    "ax.scatter(gm[gsel_idx], (gv/gm)[gsel_idx], c=lbl[gsel_idx], s=5, edgecolor='none', cmap='viridis_r', label=f'{len(gsel_idx):,} HVGs')\n",
    "ax.set_xscale('log')\n",
    "ax.set_yscale('log')\n",
    "ax.set_xlabel('mean expr (CP10k)')\n",
    "ax.set_ylabel('var/mean')\n",
    "ax.legend(bbox_to_anchor=(1,1))\n",
    "\n",
    "plt.show()"
   ]
  },
  {
   "cell_type": "code",
   "execution_count": null,
   "id": "b8db6d89-2c84-4360-85c3-d3f400af66b6",
   "metadata": {
    "tags": []
   },
   "outputs": [],
   "source": [
    "adata_sub = adata[:,l23_gidx]\n",
    "adata_subp8 = adata_sub[adata_sub.obs['cond'].isin(['P8'])]\n",
    "adata_subp17on = adata_sub[adata_sub.obs['cond'].isin(['P17', 'P21', 'P28'])]\n",
    "genes_sel = adata_sub.var.index.values\n",
    "\n",
    "\n",
    "pca = PCA(n_components=5)\n",
    "pca.fit(adata_subp8.layers['lognorm'][...])\n",
    "pcs_p8 = pca.transform(adata_sub.layers['lognorm'][...])\n",
    "pcs_p8[:,0] = -pcs_p8[:,0] # flip PC1\n",
    "pcs_p8[:,2] = -pcs_p8[:,2] # flip PC3\n",
    "\n",
    "\n",
    "pca2 = PCA(n_components=5)\n",
    "pca2.fit(adata_subp17on.layers['zlognorm'][...])\n",
    "pcs_p17on = pca2.transform(adata_sub.layers['zlognorm'][...])\n",
    "pcs_p17on[:,1] = -pcs_p17on[:,1] # flip PC2"
   ]
  },
  {
   "cell_type": "code",
   "execution_count": null,
   "id": "0a051129-b302-42ed-9d4a-445fa39d1bf7",
   "metadata": {
    "tags": []
   },
   "outputs": [],
   "source": [
    "vt = pca.components_\n",
    "topgenes_p8_pc1 = genes_sel[np.argsort(np.abs(vt[0]))[::-1]]\n",
    "print(topgenes_p8_pc1[:10])\n",
    "topgenes_p8_pc2 = genes_sel[np.argsort(np.abs(vt[1]))[::-1]]\n",
    "print(topgenes_p8_pc2[:10])\n",
    "topgenes_p8_pc3 = genes_sel[np.argsort(np.abs(vt[2]))[::-1]]\n",
    "print(topgenes_p8_pc3[:10])"
   ]
  },
  {
   "cell_type": "code",
   "execution_count": null,
   "id": "ad6af698-718a-4ecc-804f-244998875592",
   "metadata": {},
   "outputs": [],
   "source": [
    "adata.obsm['pca_p17on'] = pcs_p17on\n",
    "adata.obsm['pca_p8'] = pcs_p8"
   ]
  },
  {
   "cell_type": "code",
   "execution_count": null,
   "id": "2710199e-e053-41b4-9838-dc1f261e1b22",
   "metadata": {
    "tags": []
   },
   "outputs": [],
   "source": [
    "res0 = pd.DataFrame(adata.layers['zlognorm'][...], columns=genes)\n",
    "res0['cond'] = conds\n",
    "res0['type'] = types\n",
    "res0['samp'] = samps\n",
    "res0['rep']  = [samp[-1] for samp in samps]\n",
    "res0['type'] = np.char.add('c', res0['type'].values.astype(str))\n",
    "\n",
    "res1 = pd.DataFrame(pcs_p8, columns=np.char.add(\"p8PC\", ((1+np.arange(pcs_p8.shape[1])).astype(str))))\n",
    "res2 = pd.DataFrame(pcs_p17on, columns=np.char.add(\"p17onPC\", ((1+np.arange(pcs_p17on.shape[1])).astype(str))))\n",
    "res = pd.concat([res0, res1, res2], axis=1)"
   ]
  },
  {
   "cell_type": "code",
   "execution_count": null,
   "id": "7d39cdaa-ad88-4aa2-8313-5ee56c0f37e8",
   "metadata": {
    "tags": []
   },
   "outputs": [],
   "source": [
    "allcolors = sns.color_palette('tab20c', 20)\n",
    "allcolors"
   ]
  },
  {
   "cell_type": "code",
   "execution_count": null,
   "id": "b9738b71-19bb-4e6d-ba3d-e38215a3347b",
   "metadata": {
    "tags": []
   },
   "outputs": [],
   "source": [
    "allcolors2 = sns.color_palette('tab10', 20)\n",
    "allcolors2"
   ]
  },
  {
   "cell_type": "code",
   "execution_count": null,
   "id": "3e8e4d75-2d87-4c0a-a809-43053850bc71",
   "metadata": {
    "tags": []
   },
   "outputs": [],
   "source": [
    "palette = collections.OrderedDict({\n",
    "     \"P6\": allcolors[2],\n",
    "     \"P8\": allcolors[1],\n",
    "    \"P10\": allcolors[0],\n",
    "    \"P12\": allcolors[4+2],\n",
    "    \"P14\": allcolors[4+0],\n",
    "    \n",
    "    \"P17\": allcolors[8+2],\n",
    "    \"P21\": allcolors[8+0],\n",
    "    \n",
    "})\n",
    "cases = np.array(list(palette.keys()))\n",
    "\n",
    "cond_order_dict = {\n",
    "    'P6':  0,\n",
    "    'P8':  1,\n",
    "    'P10': 2,\n",
    "    'P12': 3,\n",
    "    'P14': 4,\n",
    "    'P17': 5,\n",
    "    'P21': 6,\n",
    "}\n",
    "unq_conds = np.array(list(cond_order_dict.keys()))\n",
    "adata.obs['cond_order'] = adata.obs['cond'].apply(lambda x: cond_order_dict[x])\n",
    "\n",
    "palette_types = collections.OrderedDict({\n",
    "    'L2/3_A': allcolors2[0],\n",
    "    'L2/3_B': allcolors2[1],\n",
    "    'L2/3_C': allcolors2[2],\n",
    "})             \n",
    "\n",
    "palette_types = {\n",
    "    'c14': 'C0', \n",
    "    'c18': 'C1',\n",
    "    'c16': 'C2', \n",
    "    \n",
    "    'c13': 'C0', \n",
    "    'c15': 'C1', \n",
    "    'c17': 'C2',\n",
    "}\n",
    "type_order = [key for key, val in palette_types.items()]\n",
    "type_order"
   ]
  },
  {
   "cell_type": "code",
   "execution_count": null,
   "id": "2049f5e8-35f0-4169-836f-262a1b9cb447",
   "metadata": {
    "tags": []
   },
   "outputs": [],
   "source": [
    "from scipy import stats\n",
    "from matplotlib.ticker import MaxNLocator\n",
    "\n",
    "def plot(x, y, aspect_equal=False, density=False, hue='type'):\n",
    "    n = 7\n",
    "    fig, axs = plt.subplots(1,n,figsize=(4*n,4*1), sharex=True, sharey=True)\n",
    "    for i, (ax, cond) in enumerate(zip(axs.flat, cases)):\n",
    "        ax.set_title(cond)\n",
    "        sns.scatterplot(data=res, \n",
    "                        x=x, y=y, \n",
    "                        c='lightgray',\n",
    "                        s=1, edgecolor='none', \n",
    "                        legend=False,\n",
    "                        ax=ax,\n",
    "                       )\n",
    "        if hue == 'type':\n",
    "            sns.scatterplot(data=res[res['cond']==cond].sample(frac=1, replace=False),\n",
    "                            x=x, y=y, \n",
    "                            hue='type',\n",
    "                            hue_order=list(palette_types.keys()),\n",
    "                            palette=palette_types,\n",
    "                            s=3, edgecolor='none', \n",
    "                            legend=False,\n",
    "                            ax=ax,\n",
    "                           )\n",
    "        else:\n",
    "            sns.scatterplot(data=res[res['cond']==cond].sample(frac=1, replace=False),\n",
    "                            x=x, y=y, \n",
    "                            hue='rep',\n",
    "                            # hue_order=list(palette_types.keys()),\n",
    "                            # palette=palette_types,\n",
    "                            s=3, edgecolor='none', \n",
    "                            legend=False,\n",
    "                            ax=ax,\n",
    "                           )\n",
    "            \n",
    "        if density:\n",
    "            sns.histplot(data=res[res['cond']==cond],\n",
    "                            x=x, y=y, \n",
    "                            legend=False,\n",
    "                            ax=ax,\n",
    "                           )\n",
    "        sns.despine(ax=ax)\n",
    "        ax.xaxis.set_major_locator(MaxNLocator(nbins=3))\n",
    "        ax.yaxis.set_major_locator(MaxNLocator(nbins=3))\n",
    "        if aspect_equal:\n",
    "            ax.set_aspect('equal')\n",
    "        if i > 0:\n",
    "            ax.set_xlabel('')\n",
    "            ax.set_ylabel('')\n",
    "    plt.show()\n",
    "    \n",
    "def plot2(x, y, hue=None, aspect_equal=False):\n",
    "    n = 7\n",
    "    fig, axs = plt.subplots(1,n,figsize=(4*n,4*1), sharex=True, sharey=True)\n",
    "    fig.suptitle(hue, x=0, ha='left')\n",
    "    for i, (ax, cond) in enumerate(zip(axs.flat, cases)):\n",
    "        ax.set_title(cond)\n",
    "        sns.scatterplot(data=res, \n",
    "                        x=x, y=y, \n",
    "                        c='lightgray',\n",
    "                        alpha=0.3,\n",
    "                        s=1, edgecolor='none', \n",
    "                        legend=False,\n",
    "                        ax=ax,\n",
    "                       )\n",
    "        show = res[res['cond']==cond]\n",
    "        if hue:\n",
    "            ax.scatter(show[x], show[y], c=show[hue], \n",
    "                       cmap='coolwarm',\n",
    "                       vmin=-3, vmax=3,\n",
    "                       s=5, \n",
    "                       edgecolor='none', \n",
    "                      )\n",
    "        else:\n",
    "            r, p = stats.spearmanr(show[x], show[y])\n",
    "            ax.scatter(show[x], show[y],  \n",
    "                       s=5, \n",
    "                       edgecolor='none', \n",
    "                      )\n",
    "            ax.set_title(f'{cond}\\n r={r:.2f}')\n",
    "        sns.despine(ax=ax)\n",
    "        ax.xaxis.set_major_locator(MaxNLocator(nbins=3))\n",
    "        ax.yaxis.set_major_locator(MaxNLocator(nbins=3))\n",
    "        if aspect_equal:\n",
    "            ax.set_aspect('equal')\n",
    "        if i > 0:\n",
    "            ax.set_xlabel('')\n",
    "            ax.set_ylabel('')\n",
    "        ax.grid(False)\n",
    "    fig.tight_layout()\n",
    "    plt.show()"
   ]
  },
  {
   "cell_type": "markdown",
   "id": "6b85be99-851d-4901-babe-451778af4770",
   "metadata": {},
   "source": [
    "# Plot A vs C genes aligning cells along early vs late PCs"
   ]
  },
  {
   "cell_type": "code",
   "execution_count": null,
   "id": "092f2cfa-1238-4fb1-b42d-13921e417816",
   "metadata": {
    "tags": []
   },
   "outputs": [],
   "source": [
    "plot('p17onPC1', 'p17onPC2', aspect_equal=True)\n",
    "plot('p8PC1', 'p8PC2', aspect_equal=True)"
   ]
  },
  {
   "cell_type": "markdown",
   "id": "f2273d28-a649-4b3e-b17c-75eaea4476f2",
   "metadata": {},
   "source": [
    "# get top 20% A vs C in each case"
   ]
  },
  {
   "cell_type": "code",
   "execution_count": null,
   "id": "e6efe821-a677-4357-b509-75bb28cdaf94",
   "metadata": {
    "tags": []
   },
   "outputs": [],
   "source": [
    "from statsmodels.stats.multitest import multipletests"
   ]
  },
  {
   "cell_type": "code",
   "execution_count": null,
   "id": "09d57655-c050-4842-a623-8fd8cac63496",
   "metadata": {
    "tags": []
   },
   "outputs": [],
   "source": [
    "qs_avc = []\n",
    "l2fc_avc = []\n",
    "\n",
    "for cond_order, obssub in adata.obs.groupby('cond_order'):\n",
    "    # get sub\n",
    "    adatasub = adata[obssub.index]\n",
    "    \n",
    "    # get A vs C \n",
    "    x = adatasub.obsm['pca_p17on'][...,0]\n",
    "    cond_a = x < np.percentile(x,20)\n",
    "    cond_c = x > np.percentile(x,80)\n",
    "    adatasub_a = adatasub[cond_a]\n",
    "    adatasub_c = adatasub[cond_c]\n",
    "    \n",
    "    # DEGs\n",
    "    mat_a = adatasub_a.layers['lognorm'][...]\n",
    "    mat_c = adatasub_c.layers['lognorm'][...]\n",
    "    ts, ps = stats.ttest_ind(mat_a, mat_c)\n",
    "    rs, qs, _, _ = multipletests(np.nan_to_num(ps, nan=1).reshape(-1,), method='fdr_bh') # why nan in ps -- not expressed\n",
    "    lfc = np.log2(10)*(np.mean(mat_c, axis=0) - np.mean(mat_a, axis=0)) # log2FC (log10CPM as raw counts)\n",
    "    \n",
    "    num_sig = np.sum(np.logical_and(qs < 0.05, np.abs(lfc) > 1))\n",
    "    print(cond_order, adatasub_a.shape, num_sig)\n",
    "    \n",
    "    # save this\n",
    "    qs_avc.append(qs)\n",
    "    l2fc_avc.append(lfc)\n",
    "    \n",
    "qs_avc = np.array(qs_avc)\n",
    "l2fc_avc = np.array(l2fc_avc)"
   ]
  },
  {
   "cell_type": "code",
   "execution_count": null,
   "id": "f1a5dcb5-ea18-4d0f-a201-aee9ee158b5f",
   "metadata": {
    "tags": []
   },
   "outputs": [],
   "source": [
    "adata.uns['qs_avc'] = qs_avc\n",
    "adata.uns['l2fc_avc'] = l2fc_avc\n",
    "adata"
   ]
  },
  {
   "cell_type": "code",
   "execution_count": null,
   "id": "dd2e7261-6a41-42fb-aa63-df5aa04bade4",
   "metadata": {
    "tags": []
   },
   "outputs": [],
   "source": [
    "l2fc_th = 1\n",
    "alpha_th = 0.05\n",
    "cond_sig   = np.logical_and(qs_avc < alpha_th, np.abs(l2fc_avc) > l2fc_th)\n",
    "cond_sig_c = np.logical_and(qs_avc < alpha_th, l2fc_avc >  l2fc_th)\n",
    "cond_sig_a = np.logical_and(qs_avc < alpha_th, l2fc_avc < -l2fc_th)\n",
    "\n",
    "print('num AvsC-DEGs per cond:\\t', cond_sig.sum(axis=1))\n",
    "print('num A-DEGs per cond:\\t',    cond_sig_a.sum(axis=1))\n",
    "print('num C-DEGs per cond:\\t',    cond_sig_c.sum(axis=1))"
   ]
  },
  {
   "cell_type": "code",
   "execution_count": null,
   "id": "08acf031-42f7-4a23-bbdc-3dcb81eb43b8",
   "metadata": {
    "tags": []
   },
   "outputs": [],
   "source": [
    "gene_sig_instances   = cond_sig.sum(axis=0)\n",
    "gene_sig_instances_a = cond_sig_a.sum(axis=0)\n",
    "gene_sig_instances_c = cond_sig_c.sum(axis=0)\n",
    "\n",
    "instances, counts = np.unique(gene_sig_instances, return_counts=True)\n",
    "instances_a, counts_a = np.unique(gene_sig_instances_a, return_counts=True)\n",
    "instances_c, counts_c = np.unique(gene_sig_instances_c, return_counts=True)\n",
    "\n",
    "print('num AvsC-DEGs in num conds:\\t',  counts  , np.any(cond_sig, axis=0).sum())\n",
    "print('num A-DEGs in num conds:\\t',     counts_a, np.any(cond_sig_a, axis=0).sum())\n",
    "print('num C-DEGs in num conds:\\t',     counts_c, np.any(cond_sig_c, axis=0).sum())"
   ]
  },
  {
   "cell_type": "code",
   "execution_count": null,
   "id": "e849ad65-3232-4ae4-a6eb-0b6a608df459",
   "metadata": {
    "tags": []
   },
   "outputs": [],
   "source": [
    "a_any = np.sort(adata.var[np.any(cond_sig_a, axis=0)].index.values)\n",
    "c_any = np.sort(adata.var[np.any(cond_sig_c, axis=0)].index.values)\n",
    "a_all = np.sort(adata.var[np.all(cond_sig_a, axis=0)].index.values)\n",
    "c_all = np.sort(adata.var[np.all(cond_sig_c, axis=0)].index.values)\n",
    "ac_overlap = np.sort(adata.var[np.logical_and(np.any(cond_sig_a, axis=0), np.any(cond_sig_c, axis=0))].index.values)\n",
    "\n",
    "print('a any', a_any)\n",
    "print('c any', c_any)\n",
    "print('a all', a_all)\n",
    "print('c all', c_all)\n",
    "print('ac overlap', ac_overlap)"
   ]
  },
  {
   "cell_type": "code",
   "execution_count": null,
   "id": "ac1f411d-7463-4b75-bf4a-dd4ae4185490",
   "metadata": {
    "tags": []
   },
   "outputs": [],
   "source": [
    "a_all_annots, a_all_styled, a_all_annots_styled = gene_modules.check_genes(a_all)\n",
    "c_all_annots, c_all_styled, c_all_annots_styled = gene_modules.check_genes(c_all)\n",
    "\n",
    "print(\"\\t\".join(a_all))\n",
    "print(\"\\t\".join(a_all_annots_styled)) # _styled))"
   ]
  },
  {
   "cell_type": "code",
   "execution_count": null,
   "id": "4c198647-1f2a-490b-b467-9fdbe494dc9b",
   "metadata": {
    "tags": []
   },
   "outputs": [],
   "source": [
    "print(\"\\t\".join(c_all))\n",
    "print(\"\\t\".join(c_all_annots_styled)) # _styled))"
   ]
  },
  {
   "cell_type": "code",
   "execution_count": null,
   "id": "0261f5b2-ac48-4c80-bda1-e6c2147c84c1",
   "metadata": {
    "tags": []
   },
   "outputs": [],
   "source": [
    "print(\"\\033[0;m alltime A:\", \"\\t\".join(a_all_styled))\n",
    "print(\"\\033[0;m alltime C:\", \"\\t\".join(c_all_styled))"
   ]
  },
  {
   "cell_type": "code",
   "execution_count": null,
   "id": "fee63618-a8e3-41c9-8876-3e02e887bbbe",
   "metadata": {},
   "outputs": [],
   "source": []
  },
  {
   "cell_type": "code",
   "execution_count": null,
   "id": "82f40f49-6f8a-43ea-96f5-ad57938c50ae",
   "metadata": {},
   "outputs": [],
   "source": [
    "fig, ax = plt.subplots(figsize=(4,4))\n",
    "ax.plot(np.arange(1,1+7)[::-1], np.cumsum(counts_a[1:][::-1]), '-o', label='A', color='C0')\n",
    "ax.plot(np.arange(1,1+7)[::-1], np.cumsum(counts_c[1:][::-1]), '-o', label='C', color='C2')\n",
    "ax.set_ylim(ymin=0)\n",
    "ax.legend()\n",
    "ax.set_ylabel('number of TFs')\n",
    "ax.set_xlabel('number of time points')\n",
    "sns.despine(ax=ax)\n",
    "plt.show()"
   ]
  },
  {
   "cell_type": "code",
   "execution_count": null,
   "id": "83c3811a-dcf3-4985-93e7-031100d4e684",
   "metadata": {},
   "outputs": [],
   "source": []
  },
  {
   "cell_type": "code",
   "execution_count": null,
   "id": "5dd0aa13-2522-4de3-9241-268cb793238e",
   "metadata": {},
   "outputs": [],
   "source": []
  },
  {
   "cell_type": "markdown",
   "id": "b3848f6e-1365-4f5a-9d7e-cbc6ddcbd4b6",
   "metadata": {},
   "source": [
    "# Volcano"
   ]
  },
  {
   "cell_type": "code",
   "execution_count": null,
   "id": "dca633d6-8bbf-43ac-87c2-fcd773d33ccf",
   "metadata": {
    "tags": []
   },
   "outputs": [],
   "source": [
    "def show_volcano_v2(thetypeidx, thetype, lfc, qs,\n",
    "                    cond1, cond2up, cond2dn, \n",
    "                    querygenes_idx=None, \n",
    "                    gene_annots=None,\n",
    "                    ax=None, bbox_to_anchor=(1,1), loc=None,\n",
    "                   ): \n",
    "    \"\"\"\n",
    "    \"\"\"\n",
    "    eff = lfc[:,thetypeidx]\n",
    "    pvl = -np.log10(qs[:,thetypeidx]) # +1e-10)\n",
    "    cnd_up = np.all([cond1[:,thetypeidx], \n",
    "                     cond2up[:,thetypeidx]], axis=0) \n",
    "    cnd_dn = np.all([cond1[:,thetypeidx], \n",
    "                     cond2dn[:,thetypeidx]], axis=0) \n",
    "\n",
    "    if ax is None: \n",
    "        fig, ax = plt.subplots()\n",
    "    \n",
    "    # all genes\n",
    "    ax.scatter(eff, pvl, s=1, color='lightgray', rasterized=True)\n",
    "\n",
    "    # up genes\n",
    "    ax.scatter(eff[cnd_up], pvl[cnd_up], s=3, facecolors='C0', rasterized=True)\n",
    "    # dn genes\n",
    "    ax.scatter(eff[cnd_dn], pvl[cnd_dn], s=3, facecolors='C1', rasterized=True)\n",
    "    \n",
    "    # # query genes\n",
    "    # add text\n",
    "    if querygenes_idx is not None:\n",
    "        ax.scatter(eff[querygenes_idx], pvl[querygenes_idx], s=15, \n",
    "                   # label=f'type-specific (n={len(querygenes_idx):,})',\n",
    "                   facecolors='none', edgecolors='k', linewidth=1, rasterized=True)\n",
    "        for idx in querygenes_idx:\n",
    "            ax.text(eff[idx], pvl[idx], gene_annots[idx], fontsize=10)\n",
    "\n",
    "            \n",
    "    # ax.grid(axis='y')\n",
    "    sns.despine(ax=ax)\n",
    "    ax.set_xlabel('log2(FC) (C/A in CP10k)')\n",
    "    ax.set_ylabel('-log10(adj. p)')\n",
    "    ax.set_title(f'{thetype}')\n",
    "    ax.text(1,0.1,\n",
    "            f'up (n={cnd_up.sum():,})\\ndown (n={cnd_dn.sum():,})', \n",
    "            ha='right',\n",
    "            fontsize=10, transform=ax.transAxes)\n",
    "    return "
   ]
  },
  {
   "cell_type": "code",
   "execution_count": null,
   "id": "2fff3f5a-846b-4798-bc47-8d09b4e292cc",
   "metadata": {
    "tags": []
   },
   "outputs": [],
   "source": [
    "unq_condidx = adata.obs['cond_order'].unique()\n",
    "unq_condidx, unq_conds"
   ]
  },
  {
   "cell_type": "code",
   "execution_count": null,
   "id": "171443b5-fe89-4513-94ed-d64a0134e85d",
   "metadata": {
    "tags": []
   },
   "outputs": [],
   "source": [
    "genes_comm = adata.var.index.values\n",
    "lfc = adata.uns['l2fc_avc'].T\n",
    "qs  = adata.uns['qs_avc'].T\n",
    "lfc_th, qs_th = 1, 0.05"
   ]
  },
  {
   "cell_type": "code",
   "execution_count": null,
   "id": "ed91043c-0d42-4da6-8073-580098d269a3",
   "metadata": {
    "tags": []
   },
   "outputs": [],
   "source": [
    "cond1   = qs  <  qs_th\n",
    "cond2up = lfc >  lfc_th\n",
    "cond2dn = lfc < -lfc_th"
   ]
  },
  {
   "cell_type": "code",
   "execution_count": null,
   "id": "4b78580a-1c90-4c59-8bf4-c1d86e786317",
   "metadata": {
    "tags": []
   },
   "outputs": [],
   "source": [
    "# typegenes_idx = basicu.get_index_from_array(genes_comm, df2.gene)"
   ]
  },
  {
   "cell_type": "code",
   "execution_count": null,
   "id": "89206dd8-915d-4c01-a3d9-1ac2f70af7ef",
   "metadata": {
    "tags": []
   },
   "outputs": [],
   "source": [
    "thetypeidx = 0 # type A \n",
    "thetype = 'L2/3_A'\n",
    "show_volcano_v2(thetypeidx, thetype, lfc, qs, cond1, cond2up, cond2dn) #  typegenes_idx)"
   ]
  },
  {
   "cell_type": "code",
   "execution_count": null,
   "id": "709118f2-e5cd-4ee6-a2ce-a81e5fba0ced",
   "metadata": {
    "tags": []
   },
   "outputs": [],
   "source": [
    "n = len(unq_conds)\n",
    "fig, axs = plt.subplots(1,n,figsize=(4*n,4*1), sharex=True, sharey=True)\n",
    "for cond_idx in unq_condidx:\n",
    "    ax = axs.flat[cond_idx]\n",
    "    thecond = unq_conds[cond_idx]\n",
    "    show_volcano_v2(cond_idx, thecond, lfc, qs, cond1, cond2up, cond2dn, \n",
    "                    # typegenes_idx, \n",
    "                    ax=ax, bbox_to_anchor=(0.5, -0.3), loc='upper center')\n",
    "    sns.despine(ax=ax)\n",
    "fig.tight_layout()\n",
    "\n",
    "# output = os.path.join(outfigdir, \"volcano.pdf\")\n",
    "# powerplots.savefig_autodate(fig, output)\n",
    "plt.show()"
   ]
  },
  {
   "cell_type": "code",
   "execution_count": null,
   "id": "2c358a9b-874e-4f39-91f0-d1284b16e104",
   "metadata": {},
   "outputs": [],
   "source": [
    "querygenes = ['Meis2','Foxp1','Cdh13','Cdh12']\n",
    "querygenes_idx = basicu.get_index_from_array(genes_comm, querygenes) \n",
    "gene_annots = genes_comm\n",
    "\n",
    "n = len(unq_conds)\n",
    "fig, axs = plt.subplots(2,4,figsize=(4*4,4*2), sharex=True, sharey=True)\n",
    "for cond_idx in unq_condidx:\n",
    "    ax = axs.flat[cond_idx]\n",
    "    thecond = unq_conds[cond_idx]\n",
    "    show_volcano_v2(cond_idx, thecond, lfc, qs, cond1, cond2up, cond2dn, \n",
    "                    querygenes_idx=querygenes_idx, \n",
    "                    gene_annots=genes_comm,\n",
    "                    ax=ax, bbox_to_anchor=(0.5, -0.3), loc='upper center')\n",
    "    sns.despine(ax=ax)\n",
    "fig.tight_layout()\n",
    "plt.show()"
   ]
  },
  {
   "cell_type": "code",
   "execution_count": null,
   "id": "7cee6ef7-f982-4182-94cf-63137717d395",
   "metadata": {},
   "outputs": [],
   "source": [
    "# all tfs \n",
    "# not a meaningful test"
   ]
  },
  {
   "cell_type": "code",
   "execution_count": null,
   "id": "6a992779-3e23-497a-9841-d507a20548b3",
   "metadata": {
    "tags": []
   },
   "outputs": [],
   "source": [
    "genes_sig = genes_comm[np.any(np.abs(lfc) > 1, axis=1)]\n",
    "querygenes = np.intersect1d(annots['tf'], genes_sig) #['Meis2','Foxp1','Cdh13','Cdh12']\n",
    "querygenes_idx = basicu.get_index_from_array(genes_comm, querygenes) \n",
    "gene_annots = genes_comm\n",
    "\n",
    "n = len(unq_conds)\n",
    "fig, axs = plt.subplots(2,4,figsize=(4*4,4*2), sharex=True, sharey=True)\n",
    "for cond_idx in unq_condidx:\n",
    "    ax = axs.flat[cond_idx]\n",
    "    thecond = unq_conds[cond_idx]\n",
    "    show_volcano_v2(cond_idx, thecond, lfc, qs, cond1, cond2up, cond2dn, \n",
    "                    querygenes_idx=querygenes_idx, \n",
    "                    gene_annots=genes_comm,\n",
    "                    ax=ax, bbox_to_anchor=(0.5, -0.3), loc='upper center')\n",
    "    sns.despine(ax=ax)\n",
    "fig.tight_layout()\n",
    "plt.show()"
   ]
  },
  {
   "cell_type": "code",
   "execution_count": null,
   "id": "48356c65-3b94-4e65-b02b-cbc6000508d2",
   "metadata": {},
   "outputs": [],
   "source": []
  },
  {
   "cell_type": "code",
   "execution_count": null,
   "id": "aa047db8-c084-4679-9687-1df9426acd4d",
   "metadata": {},
   "outputs": [],
   "source": []
  },
  {
   "cell_type": "code",
   "execution_count": null,
   "id": "5f158606-a234-4fdc-a4d8-c28e4593d168",
   "metadata": {},
   "outputs": [],
   "source": []
  },
  {
   "cell_type": "code",
   "execution_count": null,
   "id": "dbc99bfa-97e8-46df-8afb-69f68085c810",
   "metadata": {},
   "outputs": [],
   "source": []
  },
  {
   "cell_type": "code",
   "execution_count": null,
   "id": "431ed523-7106-42bc-b857-213ada7d7a1f",
   "metadata": {},
   "outputs": [],
   "source": []
  },
  {
   "cell_type": "code",
   "execution_count": null,
   "id": "18985ea8-747f-446e-b6d9-82c668a25048",
   "metadata": {},
   "outputs": [],
   "source": []
  },
  {
   "cell_type": "code",
   "execution_count": null,
   "id": "93d63a1b-12c5-4c81-8493-bd7683340fd9",
   "metadata": {},
   "outputs": [],
   "source": []
  },
  {
   "cell_type": "code",
   "execution_count": null,
   "id": "fcb40317-8e97-43f4-8e96-d31729166074",
   "metadata": {},
   "outputs": [],
   "source": []
  },
  {
   "cell_type": "code",
   "execution_count": null,
   "id": "b0ff2737-5a78-4a2a-b3fa-95a9dffc70f2",
   "metadata": {},
   "outputs": [],
   "source": []
  },
  {
   "cell_type": "code",
   "execution_count": null,
   "id": "5211c26e-6011-4c84-bab9-26dfebab7d8a",
   "metadata": {},
   "outputs": [],
   "source": []
  },
  {
   "cell_type": "markdown",
   "id": "cb761bb2-bce3-4b70-8a5a-a23899f8c1dd",
   "metadata": {},
   "source": [
    "# show results old"
   ]
  },
  {
   "cell_type": "code",
   "execution_count": null,
   "id": "152c6530-754d-4b6d-9f8b-a2c953d0287f",
   "metadata": {
    "tags": []
   },
   "outputs": [],
   "source": [
    "def show_onetype(idx, columns=[\"NR_1\", \"NR_2\", \"NR_3\", \"NR_4\", \n",
    "                               \"DR_1\", \"DR_2\", \"DR_3\", \"DR_4\",\n",
    "                              ]):\n",
    "    \"\"\"idx - cell type idx\n",
    "    \"\"\"\n",
    "    gidx = np.logical_or(sde_up[:,idx], sde_dn[:,idx])\n",
    "    _genes = genes_comm[gidx]\n",
    "\n",
    "    p_nr = tensor_nr[gidx,:,:][:,idx,:]\n",
    "    p_dr = tensor_dr[gidx,:,:][:,idx,:]\n",
    "    \n",
    "    \n",
    "    ab = np.hstack([p_nr, p_dr])\n",
    "    nr_mean = np.mean(p_nr, axis=1)\n",
    "    ab = (ab - nr_mean.reshape(-1,1))*np.log2(10) # log2 FC w.r.t. the mean in NR\n",
    "    ab = pd.DataFrame(ab, index=_genes, columns=columns)\n",
    "    \n",
    "    this_mlfc = (np.mean(p_nr, axis=1) - np.mean(p_dr, axis=1))*np.log2(10)\n",
    "    this_ordr = np.argsort(this_mlfc)\n",
    "    ab = ab.iloc[this_ordr]\n",
    "    \n",
    "    fig, ax = plt.subplots(figsize=(4, min(10, 0.3*len(ab))))\n",
    "    sns.heatmap(ab, center=0, cmap='coolwarm', yticklabels=True, cbar_kws=dict(shrink=0.5, label='log2 FC (w.r.t. NR mean)'))\n",
    "    ax.set_yticklabels(ax.get_yticklabels(), rotation=0)\n",
    "    ax.set_title(unq_types[idx])\n",
    "    plt.show()"
   ]
  },
  {
   "cell_type": "code",
   "execution_count": null,
   "id": "360cc50b-d511-4037-9b5c-41317dae10ba",
   "metadata": {
    "tags": []
   },
   "outputs": [],
   "source": [
    "def show_volcano(thetypeidx, thetype, lfc, qs, cond1, cond2up, cond2dn, ax=None, bbox_to_anchor=(1,1), loc=None):\n",
    "    \"\"\"\n",
    "    Gene by type matrices: \n",
    "        lfc matrix: log fold change\n",
    "        qs matirx:\n",
    "    \n",
    "        cond1 : significant or not? \n",
    "        cond2up: FC above the cutoff?\n",
    "        cond2dn: FC below the cutoff?\n",
    "    \n",
    "    thetypeidx: pick a type - one column index from the above matrices\n",
    "    \"\"\"\n",
    "    eff = lfc[:,thetypeidx]\n",
    "    pvl =  qs[:,thetypeidx]\n",
    "\n",
    "    cnd_up = np.all([cond1[:,thetypeidx], \n",
    "                     cond2up[:,thetypeidx]], axis=0) \n",
    "    cnd_dn = np.all([cond1[:,thetypeidx], \n",
    "                     cond2dn[:,thetypeidx]], axis=0) \n",
    "\n",
    "    if ax is None:\n",
    "        fig, ax = plt.subplots()\n",
    "    else:\n",
    "        pass\n",
    "    ax.scatter(eff, -np.log10(pvl), s=1, color='gray')\n",
    "\n",
    "    ax.scatter(eff[cnd_up], -np.log10(pvl)[cnd_up], s=5, #s=5, \n",
    "               label=f'DR up (n={cnd_up.sum():,})')\n",
    "    ax.scatter(eff[cnd_dn], -np.log10(pvl)[cnd_dn], s=5, #s=5, \n",
    "               label=f'DR dn (n={cnd_dn.sum():,})')\n",
    "\n",
    "    ax.set_xlabel('log2(FC) (DR/NR in CPM)')\n",
    "    ax.set_ylabel('-log10(FDR)')\n",
    "    ax.set_title(f'{thetype}')\n",
    "    ax.legend(bbox_to_anchor=bbox_to_anchor, loc=loc)\n",
    "    return ax"
   ]
  },
  {
   "cell_type": "code",
   "execution_count": null,
   "id": "8154d04c-4e05-44b9-ae71-f83df1b870f4",
   "metadata": {
    "tags": []
   },
   "outputs": [],
   "source": [
    "columns = [\n",
    "    'NR_P28_1', '2', 'NR_P38_1', '2',\n",
    "    'DR_P28_1', '2', 'DR_P38_1', '2',\n",
    "]\n",
    "with sns.plotting_context('paper'):\n",
    "    for i, (_type, row) in enumerate(sigsum.iterrows()):\n",
    "        if row['DE'] > 0:\n",
    "            show_onetype(i, columns=columns)"
   ]
  },
  {
   "cell_type": "markdown",
   "id": "212008a0-8dc7-4bc7-aa5e-c11b799e4a17",
   "metadata": {},
   "source": [
    "# Check a few genes and see"
   ]
  },
  {
   "cell_type": "code",
   "execution_count": null,
   "id": "7baac246-167b-48f5-af72-0effe35baa17",
   "metadata": {
    "tags": []
   },
   "outputs": [],
   "source": [
    "for gene_name in ['Cdh13', 'Trpc6', 'Chrm2']: #['Col19a1', 'Nr4a2', 'Fosb']:\n",
    "    fig, axs = plt.subplots(1,3,figsize=(2*3,5), sharey=True)\n",
    "    fig.suptitle(gene_name, y=1.1)\n",
    "    for type_name, ax in zip(['L2/3_A', 'L2/3_B', 'L2/3_C'], axs):\n",
    "        gidx = basicu.get_index_from_array(genes, [gene_name])[0]\n",
    "        gidx2 = basicu.get_index_from_array(genes_comm, [gene_name])[0]\n",
    "        cidx = basicu.get_index_from_array(unq_types, [type_name])[0]\n",
    "        p_nr, p_dr = pbulks[:,:,:,gidx][:,:,cidx]\n",
    "        assert gidx != -1\n",
    "        assert cidx != -1\n",
    "\n",
    "        sns.boxplot  ([p_nr, p_dr], color='white', ax=ax)\n",
    "        sns.swarmplot([p_nr, p_dr], s=5, ax=ax)\n",
    "\n",
    "        # check\n",
    "        # l2fc2 = np.log2(10)*(np.mean(p_dr) - np.mean(p_nr))\n",
    "        eff = lfc[gidx2, cidx]\n",
    "        q   = qs[gidx2, cidx]\n",
    "        sns.despine(ax=ax)\n",
    "\n",
    "        ax.set_xticklabels(['NR', 'DR'])\n",
    "        ax.set_ylabel('log10CPM')\n",
    "        ax.set_title(f'{type_name}\\n q={q:.1g}')\n",
    "    plt.show()"
   ]
  },
  {
   "cell_type": "markdown",
   "id": "5e13ad7e-20b3-4d79-9b07-c043d7464331",
   "metadata": {},
   "source": [
    "# a plot of those unique genes across all cell types"
   ]
  },
  {
   "cell_type": "code",
   "execution_count": null,
   "id": "860d97cc-35cb-425f-b4ad-cc6a3d42e1d0",
   "metadata": {
    "tags": []
   },
   "outputs": [],
   "source": [
    "from scipy.stats import zscore"
   ]
  },
  {
   "cell_type": "code",
   "execution_count": null,
   "id": "65fdb7c4-4aae-4351-91ba-4809249fc306",
   "metadata": {
    "tags": []
   },
   "outputs": [],
   "source": [
    "degs = np.unique(res['gene'])\n",
    "degs_idx = basicu.get_index_from_array(genes, degs)\n",
    "\n",
    "row = degs\n",
    "col = unq_types"
   ]
  },
  {
   "cell_type": "code",
   "execution_count": null,
   "id": "5d4680a2-2b6d-496f-88d5-86e8b8b31236",
   "metadata": {
    "tags": []
   },
   "outputs": [],
   "source": [
    "a = pbulks[:,:,:,degs_idx].T\n",
    "a = np.swapaxes(a,2,3)\n",
    "a0,a1,a2,a3 = a.shape # gene, type, cond, rep\n",
    "am = zscore(np.mean(a, axis=(2,3)), axis=1)\n",
    "af = zscore(a.reshape(a0, a1*a2*a3), axis=1)\n",
    "\n",
    "\n",
    "rowidx = np.array(basicu.order_by_hc(af))\n",
    "colidx = np.array(basicu.order_by_hc(am.T))\n",
    "# colidx = basicu.get_index_from_array(xclsts_sel, types_order)\n",
    "colidx_expanded = np.ravel(a2*a3*colidx.reshape(-1,1) + np.repeat(np.arange(a2*a3).reshape(1,-1), len(colidx), axis=0))"
   ]
  },
  {
   "cell_type": "code",
   "execution_count": null,
   "id": "51b4532f-3c0d-49c4-9d90-8efd234dd2d3",
   "metadata": {
    "tags": []
   },
   "outputs": [],
   "source": [
    "nr_mean = np.mean(a, axis=3)[:,:,0]\n",
    "a_lfc = np.log2(10)*(a-nr_mean.reshape(a0,a1,1,1))\n",
    "af_lfc = a_lfc.reshape(a0, a1*a2*a3)"
   ]
  },
  {
   "cell_type": "code",
   "execution_count": null,
   "id": "ba81b208-5aa0-4bf1-a69f-61325e152b3c",
   "metadata": {
    "tags": []
   },
   "outputs": [],
   "source": [
    "fig, axs = plt.subplots(1,2,figsize=(8*2,8))\n",
    "ax = axs[0]\n",
    "sns.heatmap(af[rowidx][:,colidx_expanded], \n",
    "            yticklabels=True,\n",
    "            xticklabels=a2*a3,\n",
    "            cbar_kws=dict(shrink=0.3, label='zscore log10CPM per gene'),\n",
    "            cmap='coolwarm', \n",
    "            center=0, vmin=-3, vmax=3,\n",
    "            ax=ax) \n",
    "ax.vlines(np.arange(0, a1*a2*a3, a2*a3), 0, a0, color='gray', linewidth=1)\n",
    "ax.set_xticklabels(col[colidx], rotation=90, fontsize=10)\n",
    "ax.set_yticklabels(row[rowidx], rotation=0, fontsize=5)\n",
    "ax.set_ylabel('Genes')\n",
    "ax.set_xlabel('Cell types')\n",
    "ax.set_title('NR vs DR DEGs')\n",
    "\n",
    "ax = axs[1]\n",
    "sns.heatmap(af_lfc[rowidx][:,colidx_expanded], \n",
    "            yticklabels=True, # 20, #degs[rowidx],\n",
    "            xticklabels=a2*a3,\n",
    "            cbar_kws=dict(shrink=0.3, label='log2(FC) DR vs NR per gene and type'),\n",
    "            cmap='coolwarm', \n",
    "            center=0, vmin=-2, vmax=2,\n",
    "            ax=ax) \n",
    "ax.vlines(np.arange(0, a1*a2*a3, a2*a3), 0, a0, color='gray', linewidth=1)\n",
    "ax.set_xticklabels(col[colidx], rotation=90, fontsize=10)\n",
    "ax.set_yticklabels(row[rowidx], rotation=0, fontsize=5)\n",
    "ax.set_ylabel('Genes')\n",
    "ax.set_xlabel('Cell types')\n",
    "ax.set_title('NR vs DR DEGs')\n",
    "plt.show()"
   ]
  },
  {
   "cell_type": "markdown",
   "id": "89b18323-095b-4f70-86b8-8348b568a978",
   "metadata": {},
   "source": [
    "# visualize those that goes up or down"
   ]
  },
  {
   "cell_type": "code",
   "execution_count": null,
   "id": "c1ba71aa-3c4e-4b51-82a5-14d83af4b2ea",
   "metadata": {
    "tags": []
   },
   "outputs": [],
   "source": [
    "from scipy.cluster import hierarchy as sch"
   ]
  },
  {
   "cell_type": "code",
   "execution_count": null,
   "id": "ef1c2a16-28ff-4387-9317-c11c5a459591",
   "metadata": {
    "tags": []
   },
   "outputs": [],
   "source": [
    "plotgenes = df2.loc[df2['DR_DE'], 'gene'].values\n",
    "plotgenes_annot = df2.loc[df2['DR_DE'], 'P17on'].values\n",
    "plotgenes_idx = basicu.get_index_from_array(genes, plotgenes)\n",
    "\n",
    "row = plotgenes\n",
    "col = unq_types"
   ]
  },
  {
   "cell_type": "code",
   "execution_count": null,
   "id": "6b07e1b8-d9df-4abd-91e9-88c3afc6bb87",
   "metadata": {
    "tags": []
   },
   "outputs": [],
   "source": [
    "a = pbulks[:,:,:,plotgenes_idx].T\n",
    "a = np.swapaxes(a,2,3)\n",
    "a0,a1,a2,a3 = a.shape # gene, type, cond, rep\n",
    "am = zscore(np.mean(a, axis=(2,3)), axis=1)\n",
    "af = zscore(a.reshape(a0, a1*a2*a3), axis=1)\n",
    "\n",
    "gene_idx, gene_Z = basicu.order_by_hc(af, return_Z=True)\n",
    "rowidx = np.array(gene_idx)\n",
    "colidx = np.array([0,1,2])\n",
    "\n",
    "colidx_expanded = np.ravel(a2*a3*colidx.reshape(-1,1) + np.repeat(np.arange(a2*a3).reshape(1,-1), len(colidx), axis=0))\n",
    "col_expanded = np.ravel(np.repeat(np.arange(a2*a3).reshape(1,-1), len(col), axis=0))"
   ]
  },
  {
   "cell_type": "code",
   "execution_count": null,
   "id": "259789f3-7224-4056-bd72-e3e395369362",
   "metadata": {
    "tags": []
   },
   "outputs": [],
   "source": [
    "nr_mean = np.mean(a, axis=3)[:,:,0]\n",
    "a_lfc = np.log2(10)*(a-nr_mean.reshape(a0,a1,1,1))\n",
    "af_lfc = a_lfc.reshape(a0, a1*a2*a3)"
   ]
  },
  {
   "cell_type": "code",
   "execution_count": null,
   "id": "e75c45a6-1e92-454f-bd40-7605306eaa6c",
   "metadata": {
    "tags": []
   },
   "outputs": [],
   "source": [
    "fig, axs = plt.subplots(1,3,figsize=(8*3,8))\n",
    "ax = axs[0]\n",
    "sch.dendrogram(gene_Z, \n",
    "               color_threshold=0, above_threshold_color='k', \n",
    "               orientation='left', no_plot=False, ax=ax)\n",
    "ax.invert_yaxis()\n",
    "ax.set_yticks([])\n",
    "ax.set_xticks([])\n",
    "sns.despine(ax=ax, left=True, bottom=True)\n",
    "ax.grid(False)\n",
    "\n",
    "ax = axs[1]\n",
    "sns.heatmap(af[rowidx][:,colidx_expanded], \n",
    "            yticklabels=True,\n",
    "            xticklabels=a2*a3,\n",
    "            cbar_kws=dict(shrink=0.3, label='zscore log10CPM per gene'),\n",
    "            cmap='coolwarm', \n",
    "            center=0, vmin=-2, vmax=2,\n",
    "            rasterized=True,\n",
    "            ax=ax) \n",
    "ax.vlines(np.arange(0, a1*a2*a3, a2*a3), 0, a0, color='gray', linewidth=1)\n",
    "ax.set_xticklabels(col[colidx], rotation=90, fontsize=10)\n",
    "ax.set_yticklabels(row[rowidx], rotation=0, fontsize=5)\n",
    "ax.set_ylabel('Genes')\n",
    "ax.set_xlabel('Cell types')\n",
    "ax.set_title('NR vs DR DEGs')\n",
    "\n",
    "ax = axs[2]\n",
    "sns.heatmap(af_lfc[rowidx][:,colidx_expanded], \n",
    "            yticklabels=True, # 20, #degs[rowidx],\n",
    "            xticklabels=a2*a3,\n",
    "            cbar_kws=dict(shrink=0.3, label='log2(FC) DR vs NR per gene and type'),\n",
    "            cmap='coolwarm', \n",
    "            center=0, vmin=-2, vmax=2,\n",
    "            rasterized=True,\n",
    "            ax=ax) \n",
    "ax.vlines(np.arange(0, a1*a2*a3, a2*a3), 0, a0, color='gray', linewidth=1)\n",
    "ax.set_xticklabels(col[colidx], rotation=90, fontsize=10)\n",
    "ax.set_yticklabels(row[rowidx], rotation=0, fontsize=5)\n",
    "ax.set_ylabel('Genes')\n",
    "ax.set_xlabel('Cell types')\n",
    "ax.set_title('NR vs DR DEGs')\n",
    "\n",
    "\n",
    "output = os.path.join(outfigdir, \"deg_3panels.pdf\")\n",
    "powerplots.savefig_autodate(fig, output)\n",
    "plt.show()"
   ]
  },
  {
   "cell_type": "code",
   "execution_count": null,
   "id": "7e626bce-1dac-4e64-be24-67920dafb66d",
   "metadata": {
    "tags": []
   },
   "outputs": [],
   "source": [
    "fig, axs = plt.subplots(1,2,figsize=(6*2,10))\n",
    "ax = axs[0]\n",
    "sns.heatmap(af[rowidx][:,colidx_expanded], \n",
    "            yticklabels=True,\n",
    "            xticklabels=a2*a3,\n",
    "            cbar_kws=dict(shrink=0.3, orientation='horizontal', label='zscore log10CPM per gene'),\n",
    "            cmap='coolwarm', \n",
    "            center=0, vmin=-2, vmax=2,\n",
    "            rasterized=True,\n",
    "            ax=ax) \n",
    "ax.vlines(np.arange(0, a1*a2*a3, a2*a3), 0, a0, color='gray', linewidth=1)\n",
    "ax.set_xticklabels(col[colidx], rotation=90, fontsize=10)\n",
    "ax.set_yticklabels(row[rowidx], rotation=0, fontsize=5)\n",
    "ax.set_ylabel('Genes')\n",
    "ax.set_xlabel('Cell types')\n",
    "ax.set_title('NR vs DR DEGs')\n",
    "\n",
    "ax = axs[1]\n",
    "sns.heatmap(af_lfc[rowidx][:,colidx_expanded], \n",
    "            yticklabels=True, # 20, #degs[rowidx],\n",
    "            xticklabels=a2*a3,\n",
    "            cbar_kws=dict(shrink=0.3, orientation='horizontal', label='log2(FC) DR vs NR per gene and type'),\n",
    "            cmap='coolwarm', \n",
    "            center=0, vmin=-2, vmax=2,\n",
    "            rasterized=True,\n",
    "            ax=ax) \n",
    "ax.vlines(np.arange(0, a1*a2*a3, a2*a3), 0, a0, color='gray', linewidth=1)\n",
    "ax.set_xticklabels(col[colidx], rotation=90, fontsize=10)\n",
    "ax.set_yticklabels(row[rowidx], rotation=0, fontsize=5)\n",
    "ax.set_xlabel('Cell types')\n",
    "ax.set_title('NR vs DR DEGs')\n",
    "\n",
    "output = os.path.join(outfigdir, \"deg_2panels.pdf\")\n",
    "powerplots.savefig_autodate(fig, output)\n",
    "plt.show()"
   ]
  }
 ],
 "metadata": {
  "kernelspec": {
   "display_name": "Python 3 (ipykernel)",
   "language": "python",
   "name": "python3"
  },
  "language_info": {
   "codemirror_mode": {
    "name": "ipython",
    "version": 3
   },
   "file_extension": ".py",
   "mimetype": "text/x-python",
   "name": "python",
   "nbconvert_exporter": "python",
   "pygments_lexer": "ipython3",
   "version": "3.9.16"
  }
 },
 "nbformat": 4,
 "nbformat_minor": 5
}
