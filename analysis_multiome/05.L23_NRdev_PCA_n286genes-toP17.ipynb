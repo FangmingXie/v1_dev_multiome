{
 "cells": [
  {
   "cell_type": "code",
   "execution_count": null,
   "id": "bb214b6d-836a-49b8-93dd-a19f021215b7",
   "metadata": {
    "tags": []
   },
   "outputs": [],
   "source": [
    "import os\n",
    "import numpy as np\n",
    "import pandas as pd\n",
    "import scanpy as sc\n",
    "import anndata \n",
    "import seaborn as sns\n",
    "from scipy.stats import zscore\n",
    "import matplotlib.pyplot as plt\n",
    "import collections\n",
    "\n",
    "from sklearn.decomposition import PCA\n",
    "from umap import UMAP\n",
    "\n",
    "from matplotlib.colors import LinearSegmentedColormap\n",
    "\n",
    "from scroutines.config_plots import *\n",
    "from scroutines import powerplots # .config_plots import *\n",
    "from scroutines import pnmf\n",
    "from scroutines import basicu\n"
   ]
  },
  {
   "cell_type": "code",
   "execution_count": null,
   "id": "f45abc88-0cbc-4575-8035-9cb157c42bc2",
   "metadata": {},
   "outputs": [],
   "source": [
    "outdir_fig = \"/u/home/f/f7xiesnm/project-zipursky/v1-bb/v1/figures\""
   ]
  },
  {
   "cell_type": "code",
   "execution_count": null,
   "id": "8542eec8-b8e1-4a35-9237-0d3c0043349b",
   "metadata": {},
   "outputs": [],
   "source": [
    "# load\n",
    "adata = anndata.read(\"../../data/cheng21_cell_scrna/reorganized/all_L23.h5ad\")\n",
    "adata"
   ]
  },
  {
   "cell_type": "code",
   "execution_count": null,
   "id": "4909ea27-eafc-4571-aee4-afb718a5a171",
   "metadata": {
    "tags": []
   },
   "outputs": [],
   "source": [
    "# select\n",
    "# adata = adata[adata.obs['cond'].str.contains(r\"NR$\")]\n",
    "# adata = adata[adata.obs['cond'].isin(['P17NR', 'P21NR', 'P28NR', 'P38NR'])]\n",
    "adata = adata[adata.obs['cond'].isin(['P17NR', 'P14NR', 'P8NR', ])]\n",
    "print(adata.obs['cond'].unique())\n",
    "\n",
    "# define\n",
    "genes = adata.var.index.values\n",
    "conds = adata.obs['cond'].values\n",
    "types = adata.obs['Type'].values\n",
    "samps = adata.obs['sample'].values\n",
    "\n",
    "# organize\n",
    "rename = {\n",
    "    \"L2/3_A\": \"L2/3_A\",\n",
    "    \"L2/3_B\": \"L2/3_B\",\n",
    "    \"L2/3_C\": \"L2/3_C\",\n",
    "    \n",
    "    \"L2/3_1\": \"L2/3_A\",\n",
    "    \"L2/3_2\": \"L2/3_B\",\n",
    "    \"L2/3_3\": \"L2/3_C\",\n",
    "    \n",
    "    \"L2/3_AB\": \"L2/3_A\",\n",
    "    \"L2/3_BC\": \"L2/3_C\",\n",
    "}\n",
    "adata.obs['easitype'] = adata.obs['Type'].apply(lambda x: rename[x])\n",
    "adata"
   ]
  },
  {
   "cell_type": "code",
   "execution_count": null,
   "id": "28810cab-8100-4ee3-870a-9c652c637d9d",
   "metadata": {
    "tags": []
   },
   "outputs": [],
   "source": [
    "# use those 286 genes\n",
    "# df = pd.read_csv(\"../../data/cheng21_cell_scrna/res/candidate_genes_vincent_0503_v2.csv\")\n",
    "df = pd.read_csv(\"../../data/cheng21_cell_scrna/res/L23-ABC-genes-n288-n286unq-annot.csv\")\n",
    "genes_sel = df['gene'].astype(str).values\n",
    "genes_grp = df['P17on'].astype(str).values\n",
    "assert len(genes_sel) == len(np.unique(genes_sel))\n",
    "\n",
    "gi = basicu.get_index_from_array(genes, genes_sel)\n",
    "assert np.all(genes_sel != -1)\n",
    "\n",
    "# CP10k for single cells\n",
    "cov = np.array(adata.X.sum(axis=1))\n",
    "counts = np.array(adata.X[:,gi].todense())\n",
    "norm = counts/cov*1e4\n",
    "lognorm = np.log10(norm+1)\n",
    "zlognorm = zscore(lognorm, axis=0) \n",
    "print(zlognorm.shape)"
   ]
  },
  {
   "cell_type": "code",
   "execution_count": null,
   "id": "fbdc951b-3427-4d84-bd83-2002c9bc25a2",
   "metadata": {},
   "outputs": [],
   "source": [
    "# zlognorm = np.nan_to_num(zlognorm, 0)"
   ]
  },
  {
   "cell_type": "code",
   "execution_count": null,
   "id": "b0c01311-b735-4b22-9a04-f48ed402cf4e",
   "metadata": {
    "tags": []
   },
   "outputs": [],
   "source": [
    "gene_types, gene_type_counts = np.unique(genes_grp, return_counts=True)\n",
    "gene_types, gene_type_counts"
   ]
  },
  {
   "cell_type": "code",
   "execution_count": null,
   "id": "b8db6d89-2c84-4360-85c3-d3f400af66b6",
   "metadata": {
    "tags": []
   },
   "outputs": [],
   "source": [
    "pca = PCA(n_components=10)\n",
    "pcs = pca.fit_transform(zlognorm)\n",
    "\n",
    "# ucs = UMAP(n_components=2, n_neighbors=50).fit_transform(pcs)"
   ]
  },
  {
   "cell_type": "code",
   "execution_count": null,
   "id": "d37e6002-8dc8-4885-a073-8026985f1e9a",
   "metadata": {
    "tags": []
   },
   "outputs": [],
   "source": [
    "# # fix pc1 to make sure a < c:\n",
    "# pc1 = pcs[:,0]\n",
    "# pc_types, unq_types = basicu.group_mean(pc1.reshape(-1,1), types)\n",
    "# a = pc_types[0,0]\n",
    "# c = pc_types[-1,0]\n",
    "# if a > c:\n",
    "#     pcs[:,0] = -pcs[:,0]"
   ]
  },
  {
   "cell_type": "code",
   "execution_count": null,
   "id": "2710199e-e053-41b4-9838-dc1f261e1b22",
   "metadata": {
    "tags": []
   },
   "outputs": [],
   "source": [
    "res = pd.DataFrame(pcs, columns=np.char.add(\"PC\", ((1+np.arange(pcs.shape[1])).astype(str))))\n",
    "res['cond'] = conds\n",
    "res['type'] = types\n",
    "res['samp'] = samps\n",
    "# res['umap1'] = ucs[:,0]\n",
    "# res['umap2'] = ucs[:,1]\n",
    "# res['type'] = types"
   ]
  },
  {
   "cell_type": "code",
   "execution_count": null,
   "id": "b65a87b1-5280-4cd4-a930-8089cc06e15a",
   "metadata": {
    "tags": []
   },
   "outputs": [],
   "source": [
    "# plt.plot(np.cumsum(pca.explained_variance_ratio_), '-o')\n",
    "fig, ax = plt.subplots(figsize=(6,4))\n",
    "ax.plot(np.arange(len(pca.explained_variance_ratio_))+1, pca.explained_variance_ratio_, '-o', markersize=5)\n",
    "ax.axhline(1/lognorm.shape[1], linestyle='--', color='gray')\n",
    "ax.set_xlabel('PC')\n",
    "ax.set_ylabel('explained var')"
   ]
  },
  {
   "cell_type": "code",
   "execution_count": null,
   "id": "7d39cdaa-ad88-4aa2-8313-5ee56c0f37e8",
   "metadata": {
    "tags": []
   },
   "outputs": [],
   "source": [
    "allcolors = sns.color_palette('tab20c', 20)\n",
    "allcolors"
   ]
  },
  {
   "cell_type": "code",
   "execution_count": null,
   "id": "b9738b71-19bb-4e6d-ba3d-e38215a3347b",
   "metadata": {
    "tags": []
   },
   "outputs": [],
   "source": [
    "allcolors2 = sns.color_palette('tab10', 20)\n",
    "allcolors2"
   ]
  },
  {
   "cell_type": "code",
   "execution_count": null,
   "id": "3e8e4d75-2d87-4c0a-a809-43053850bc71",
   "metadata": {
    "tags": []
   },
   "outputs": [],
   "source": [
    "palette = collections.OrderedDict({\n",
    "     \"P8NR\": allcolors[2],\n",
    "    \"P14NR\": allcolors[0],\n",
    "    \n",
    "    \"P17NR\": allcolors[7],\n",
    "    # \"P21NR\": allcolors[6],\n",
    "    # \"P28NR\": allcolors[5],\n",
    "    # \"P38NR\": allcolors[4],\n",
    "    \n",
    "#     \"P28DR\": allcolors[14],\n",
    "#     \"P38DR\": allcolors[12],\n",
    "    \n",
    "#     \"P28DL\": allcolors[8],\n",
    "})\n",
    "\n",
    "cases = np.array(list(palette.keys()))\n",
    "cases"
   ]
  },
  {
   "cell_type": "code",
   "execution_count": null,
   "id": "d943a8e5-9bfe-4271-a5d3-9f6933a40048",
   "metadata": {
    "tags": []
   },
   "outputs": [],
   "source": [
    "palette_types = collections.OrderedDict({\n",
    "    'L2/3_A': allcolors2[0],\n",
    "    'L2/3_B': allcolors2[1],\n",
    "    'L2/3_C': allcolors2[2],\n",
    "    \n",
    "    'L2/3_1': allcolors2[0],\n",
    "    'L2/3_2': allcolors2[1],\n",
    "    'L2/3_3': allcolors2[2],\n",
    "    \n",
    "    'L2/3_AB': allcolors2[0],\n",
    "    'L2/3_BC': allcolors2[2],\n",
    "})             "
   ]
  },
  {
   "cell_type": "code",
   "execution_count": null,
   "id": "01b3dc85-3f78-41d5-9296-07c2f55fe6d7",
   "metadata": {
    "tags": []
   },
   "outputs": [],
   "source": [
    "fig, ax = plt.subplots(figsize=(1,4))\n",
    "for i, (key, item) in enumerate(palette.items()):\n",
    "    ax.plot(0,     len(palette)-i, 'o', c=item, )\n",
    "    ax.text(0.02,  len(palette)-i, key, va='center', fontsize=15)\n",
    "    ax.axis('off')\n",
    "plt.show()"
   ]
  },
  {
   "cell_type": "code",
   "execution_count": null,
   "id": "acc2d2f3-93c3-4540-bb16-507a09a2394e",
   "metadata": {
    "tags": []
   },
   "outputs": [],
   "source": [
    "fig, ax = plt.subplots(1,1,figsize=(8*1,6))\n",
    "sns.scatterplot(data=res.sample(frac=1, replace=False), \n",
    "                x='PC1', y='PC2', \n",
    "                hue='cond',\n",
    "                hue_order=list(palette.keys()),\n",
    "                palette=palette,\n",
    "                s=5, edgecolor='none', \n",
    "                # legend=False,\n",
    "                ax=ax,\n",
    "               )\n",
    "ax.legend(bbox_to_anchor=(1,1))\n",
    "plt.show()"
   ]
  },
  {
   "cell_type": "code",
   "execution_count": null,
   "id": "aa9bb814-dc6b-461b-bc00-b69e96f16810",
   "metadata": {
    "tags": []
   },
   "outputs": [],
   "source": [
    "fig, ax = plt.subplots(1,1,figsize=(8*1,6))\n",
    "sns.scatterplot(data=res.sample(frac=1, replace=False), \n",
    "                x='PC2', y='PC3', \n",
    "                hue='cond',\n",
    "                hue_order=list(palette.keys()),\n",
    "                palette=palette,\n",
    "                s=5, edgecolor='none', \n",
    "                # legend=False,\n",
    "                ax=ax,\n",
    "               )\n",
    "ax.legend(bbox_to_anchor=(1,1))\n",
    "plt.show()"
   ]
  },
  {
   "cell_type": "code",
   "execution_count": null,
   "id": "bd9eee02-b392-415a-8ba7-0928278ddc9d",
   "metadata": {
    "tags": []
   },
   "outputs": [],
   "source": [
    "fig, ax = plt.subplots(1,1,figsize=(8*1,6))\n",
    "sns.scatterplot(data=res.sample(frac=1, replace=False), \n",
    "                x='PC3', y='PC4', \n",
    "                hue='cond',\n",
    "                hue_order=list(palette.keys()),\n",
    "                palette=palette,\n",
    "                s=5, edgecolor='none', \n",
    "                # legend=False,\n",
    "                ax=ax,\n",
    "               )\n",
    "ax.legend(bbox_to_anchor=(1,1))\n",
    "plt.show()"
   ]
  },
  {
   "cell_type": "code",
   "execution_count": null,
   "id": "ed1d119b-3d76-404f-9a4f-186c80e12fd3",
   "metadata": {
    "tags": []
   },
   "outputs": [],
   "source": [
    "\n",
    "def plot(x, y):\n",
    "    fig, axs = plt.subplots(1,3,figsize=(4*3,4*1), sharex=True, sharey=True)\n",
    "    for ax, cond in zip(axs.flat, cases):\n",
    "        ax.set_title(cond)\n",
    "        sns.scatterplot(data=res, \n",
    "                        x=x, y=y, \n",
    "                        c='lightgray',\n",
    "                        s=1, edgecolor='none', \n",
    "                        legend=False,\n",
    "                        ax=ax,\n",
    "                       )\n",
    "        sns.scatterplot(data=res[res['cond']==cond].sample(frac=1, replace=False),\n",
    "                        x=x, y=y, \n",
    "                        hue='type',\n",
    "                        hue_order=list(palette_types.keys()),\n",
    "                        palette=palette_types,\n",
    "                        s=3, edgecolor='none', \n",
    "                        legend=False,\n",
    "                        ax=ax,\n",
    "                       )\n",
    "        sns.despine(ax=ax)\n",
    "        # ax.set_aspect('equal')\n",
    "    plt.show()"
   ]
  },
  {
   "cell_type": "code",
   "execution_count": null,
   "id": "092f2cfa-1238-4fb1-b42d-13921e417816",
   "metadata": {
    "tags": []
   },
   "outputs": [],
   "source": [
    "plot('PC1', 'PC2')\n",
    "plot('PC2', 'PC3')\n",
    "plot('PC3', 'PC4')\n",
    "plot('PC4', 'PC5')"
   ]
  },
  {
   "cell_type": "code",
   "execution_count": null,
   "id": "4d731b7f-6b68-49dc-ba5e-c9bc918214f4",
   "metadata": {
    "tags": []
   },
   "outputs": [],
   "source": [
    "plot('PC1', 'PC5')"
   ]
  },
  {
   "cell_type": "markdown",
   "id": "7edca66a-2fcd-4c3a-8670-623fc3283b03",
   "metadata": {},
   "source": [
    "# Try\n",
    "- ICA\n",
    "- HVGs\n",
    "- Project to adult\n",
    "- 3D visuals\n",
    "- Understand this"
   ]
  },
  {
   "cell_type": "code",
   "execution_count": null,
   "id": "2fa53394-68c4-4a1f-803a-7691225a5f6f",
   "metadata": {
    "tags": []
   },
   "outputs": [],
   "source": [
    "import numpy as np\n",
    "import matplotlib.pyplot as plt\n",
    "\n"
   ]
  },
  {
   "cell_type": "code",
   "execution_count": null,
   "id": "c17c10b1-1912-43bb-9bb8-410b52dc981a",
   "metadata": {
    "tags": []
   },
   "outputs": [],
   "source": [
    "# Apply ICA\n",
    "from sklearn.decomposition import FastICA\n",
    "ica = FastICA(n_components=5, whiten='unit-variance', max_iter=5000, tol=1e-3)\n",
    "ics = ica.fit_transform(pcs[:,:5])"
   ]
  },
  {
   "cell_type": "code",
   "execution_count": null,
   "id": "2d1da054-d935-4a9d-897b-cce19764b864",
   "metadata": {
    "tags": []
   },
   "outputs": [],
   "source": [
    "res2 = pd.DataFrame(ics, columns=np.char.add(\"IC\", ((1+np.arange(ics.shape[1])).astype(str))))\n",
    "res[res2.columns] = res2"
   ]
  },
  {
   "cell_type": "code",
   "execution_count": null,
   "id": "fbe7684d-4441-4aeb-aa51-b99827e9289f",
   "metadata": {
    "tags": []
   },
   "outputs": [],
   "source": [
    "plot('PC1', 'IC1')\n",
    "plot('PC1', 'IC2')\n",
    "plot('PC1', 'IC3')\n",
    "plot('PC1', 'IC4')\n",
    "plot('PC1', 'IC5')"
   ]
  },
  {
   "cell_type": "code",
   "execution_count": null,
   "id": "97def896-0492-4b92-a08a-839efa0fc67b",
   "metadata": {},
   "outputs": [],
   "source": [
    "plot('IC1', 'IC5')"
   ]
  },
  {
   "cell_type": "code",
   "execution_count": null,
   "id": "a8c8b2ae-54a7-4d0e-911c-f93382d9765f",
   "metadata": {
    "tags": []
   },
   "outputs": [],
   "source": [
    "plot('IC5', 'IC4')"
   ]
  },
  {
   "cell_type": "code",
   "execution_count": null,
   "id": "bf89e6e4-b7c1-400e-99b1-86222ec78812",
   "metadata": {},
   "outputs": [],
   "source": []
  }
 ],
 "metadata": {
  "kernelspec": {
   "display_name": "Python 3 (ipykernel)",
   "language": "python",
   "name": "python3"
  },
  "language_info": {
   "codemirror_mode": {
    "name": "ipython",
    "version": 3
   },
   "file_extension": ".py",
   "mimetype": "text/x-python",
   "name": "python",
   "nbconvert_exporter": "python",
   "pygments_lexer": "ipython3",
   "version": "3.9.16"
  }
 },
 "nbformat": 4,
 "nbformat_minor": 5
}
