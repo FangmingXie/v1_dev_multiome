{
 "cells": [
  {
   "cell_type": "code",
   "execution_count": null,
   "id": "bb214b6d-836a-49b8-93dd-a19f021215b7",
   "metadata": {
    "tags": []
   },
   "outputs": [],
   "source": [
    "import os\n",
    "import numpy as np\n",
    "import pandas as pd\n",
    "import scanpy as sc\n",
    "import anndata \n",
    "import seaborn as sns\n",
    "from scipy.stats import zscore\n",
    "import matplotlib.pyplot as plt\n",
    "import collections\n",
    "\n",
    "from scipy import stats\n",
    "from scipy import sparse\n",
    "from sklearn.decomposition import PCA\n",
    "from umap import UMAP\n",
    "\n",
    "from matplotlib.colors import LinearSegmentedColormap\n",
    "\n",
    "from scroutines.config_plots import *\n",
    "from scroutines import powerplots # .config_plots import *\n",
    "from scroutines import pnmf\n",
    "from scroutines import basicu\n"
   ]
  },
  {
   "cell_type": "code",
   "execution_count": null,
   "id": "f45abc88-0cbc-4575-8035-9cb157c42bc2",
   "metadata": {},
   "outputs": [],
   "source": [
    "outdir_fig = \"/u/home/f/f7xiesnm/project-zipursky/v1-bb/v1/figures\""
   ]
  },
  {
   "cell_type": "code",
   "execution_count": null,
   "id": "fb72ade4-5ddd-4d8d-9d66-847375e16845",
   "metadata": {},
   "outputs": [],
   "source": [
    "# use those 286 genes\n",
    "# df = pd.read_csv(\"../../data/cheng21_cell_scrna/res/candidate_genes_vincent_0503_v2.csv\")\n",
    "df = pd.read_csv(\"../../data/cheng21_cell_scrna/res/L23-ABC-genes-n288-n286unq-annot.csv\")\n",
    "genes_l23 = df['gene'].astype(str).values\n",
    "genes_grp = df['P17on'].astype(str).values\n",
    "assert len(genes_l23) == len(np.unique(genes_l23))\n",
    "\n"
   ]
  },
  {
   "cell_type": "code",
   "execution_count": null,
   "id": "8542eec8-b8e1-4a35-9237-0d3c0043349b",
   "metadata": {},
   "outputs": [],
   "source": [
    "# load\n",
    "adata = anndata.read(\"../../data/cheng21_cell_scrna/reorganized/all_L23.h5ad\")\n",
    "adata"
   ]
  },
  {
   "cell_type": "code",
   "execution_count": null,
   "id": "4909ea27-eafc-4571-aee4-afb718a5a171",
   "metadata": {
    "tags": []
   },
   "outputs": [],
   "source": [
    "# select\n",
    "adata = adata[adata.obs['cond'].str.contains(r\"NR$\")]\n",
    "adata.obs['cond'].unique()\n",
    "\n",
    "# define\n",
    "genes = adata.var.index.values\n",
    "conds = adata.obs['cond'].values\n",
    "types = adata.obs['Type'].values\n",
    "samps = adata.obs['sample'].values\n",
    "\n",
    "# organize\n",
    "rename = {\n",
    "    \"L2/3_A\": \"L2/3_A\",\n",
    "    \"L2/3_B\": \"L2/3_B\",\n",
    "    \"L2/3_C\": \"L2/3_C\",\n",
    "    \n",
    "    \"L2/3_1\": \"L2/3_A\",\n",
    "    \"L2/3_2\": \"L2/3_B\",\n",
    "    \"L2/3_3\": \"L2/3_C\",\n",
    "    \n",
    "    \"L2/3_AB\": \"L2/3_A\",\n",
    "    \"L2/3_BC\": \"L2/3_C\",\n",
    "}\n",
    "adata.obs['easitype'] = adata.obs['Type'].apply(lambda x: rename[x])\n",
    "adata"
   ]
  },
  {
   "cell_type": "code",
   "execution_count": null,
   "id": "1fadd441-11aa-49ab-abcc-d8d5e9cf47ea",
   "metadata": {},
   "outputs": [],
   "source": [
    "# filter genes\n",
    "cond = np.ravel((adata.X>0).sum(axis=0)) > 10 # expressed in more than 10 cells\n",
    "adata_sub = adata[:,cond].copy()\n",
    "\n",
    "# counts\n",
    "x = adata_sub.X\n",
    "cov = adata_sub.obs['n_counts'].values\n",
    "genes = adata_sub.var.index.values\n",
    "\n",
    "# CP10k\n",
    "# xn = x/cov.reshape(x.shape[0], -1)*1e4\n",
    "xn = (sparse.diags(1/cov).dot(x))*1e4\n",
    "\n",
    "# log10(CP10k+1)\n",
    "xln = xn.copy()\n",
    "xln.data = np.log10(xln.data+1)\n",
    "\n",
    "adata_sub.layers['norm'] = np.array(xn.todense())\n",
    "adata_sub.layers['lognorm'] = np.array(xln.todense())\n",
    "adata_sub.layers['zlognorm'] = zscore(np.array(xln.todense()), axis=0)"
   ]
  },
  {
   "cell_type": "code",
   "execution_count": null,
   "id": "ee38a818-ddf9-4cac-9cd5-995cc8c92699",
   "metadata": {},
   "outputs": [],
   "source": [
    "# select HVGs with mean and var\n",
    "nbin = 20\n",
    "qth = 0.3\n",
    "\n",
    "# min\n",
    "gm = np.ravel(xn.mean(axis=0))\n",
    "\n",
    "# var\n",
    "tmp = xn.copy()\n",
    "tmp.data = np.power(tmp.data, 2)\n",
    "gv = np.ravel(tmp.mean(axis=0))-gm**2\n",
    "\n",
    "# cut \n",
    "lbl = pd.qcut(gm, nbin, labels=np.arange(nbin))\n",
    "gres = pd.DataFrame()\n",
    "gres['name'] = genes\n",
    "gres['lbl'] = lbl\n",
    "gres['mean'] = gm\n",
    "gres['var'] = gv\n",
    "gres['ratio']= gv/gm\n",
    "\n",
    "# select\n",
    "gres_sel = gres.groupby('lbl')['ratio'].nlargest(int(qth*(len(gm)/nbin))) #.reset_index()\n",
    "gsel_idx = np.sort(gres_sel.index.get_level_values(1).values)\n",
    "assert np.all(gsel_idx != -1)\n",
    "\n",
    "# # \n",
    "# l23_gidx = basicu.get_index_from_array(genes, genes_l23)\n",
    "# assert np.all(l23_gidx != -1)"
   ]
  },
  {
   "cell_type": "code",
   "execution_count": null,
   "id": "ea683c02-56eb-48f3-9904-29f72e678735",
   "metadata": {},
   "outputs": [],
   "source": [
    "fig, axs = plt.subplots(1,2, figsize=(6*2,4), sharex=True, sharey=True)\n",
    "ax = axs[0]\n",
    "ax.scatter(gm, gv/gm, s=5, edgecolor='none', color='gray')\n",
    "ax.set_xscale('log')\n",
    "ax.set_yscale('log')\n",
    "ax.set_xlabel('mean expr (CP10k)')\n",
    "ax.set_ylabel('var/mean')\n",
    "ax.set_title(f'{len(gm):,} genes')\n",
    "\n",
    "ax = axs[1]\n",
    "ax.scatter(gm, gv/gm, s=5, edgecolor='none', color='gray')\n",
    "ax.scatter(gm[gsel_idx], (gv/gm)[gsel_idx], c=lbl[gsel_idx], s=5, edgecolor='none', cmap='viridis_r', label=f'{len(gsel_idx):,} HVGs')\n",
    "# ax.scatter(gm[l23_gidx], (gv/gm)[l23_gidx], s=5, facecolors='none', edgecolor='C0', label='L2/3 type genes')\n",
    "# ax.scatter(gm[it_gidx], (gv/gm)[it_gidx], s=5, facecolors='none', edgecolor='C1', label='IT genes')\n",
    "ax.set_xscale('log')\n",
    "ax.set_yscale('log')\n",
    "ax.set_xlabel('mean expr (CP10k)')\n",
    "ax.set_ylabel('var/mean')\n",
    "ax.legend(bbox_to_anchor=(1,1))\n",
    "\n",
    "plt.show()"
   ]
  },
  {
   "cell_type": "code",
   "execution_count": null,
   "id": "5966475c-d746-4ac0-8318-0a067e99a02f",
   "metadata": {},
   "outputs": [],
   "source": [
    "adata = adata_sub[:,gsel_idx]\n",
    "# adata = adata_sub[:,l23_gidx]\n",
    "genes_sel = adata.var.index.values\n",
    "lognorm = np.array(adata.layers['lognorm'])\n",
    "zlognorm = np.array(adata.layers['zlognorm'])\n",
    "zlognorm.shape"
   ]
  },
  {
   "cell_type": "code",
   "execution_count": null,
   "id": "b8db6d89-2c84-4360-85c3-d3f400af66b6",
   "metadata": {
    "tags": []
   },
   "outputs": [],
   "source": [
    "pca = PCA(n_components=10)\n",
    "pcs = pca.fit_transform(zlognorm)\n",
    "\n",
    "# ucs = UMAP(n_components=2, n_neighbors=50).fit_transform(pcs)"
   ]
  },
  {
   "cell_type": "code",
   "execution_count": null,
   "id": "0a051129-b302-42ed-9d4a-445fa39d1bf7",
   "metadata": {
    "tags": []
   },
   "outputs": [],
   "source": [
    "vt = pca.components_\n",
    "\n",
    "# topgenes = genes_sel[np.argsort(np.abs(vt[3]))[::-1]]\n",
    "# np.sort(np.abs(vt[3]))[::-1]"
   ]
  },
  {
   "cell_type": "code",
   "execution_count": null,
   "id": "d37e6002-8dc8-4885-a073-8026985f1e9a",
   "metadata": {
    "tags": []
   },
   "outputs": [],
   "source": [
    "# # fix pc1 to make sure a < c:\n",
    "# pc1 = pcs[:,0]\n",
    "# pc_types, unq_types = basicu.group_mean(pc1.reshape(-1,1), types)\n",
    "# a = pc_types[0,0]\n",
    "# c = pc_types[-1,0]\n",
    "# if a > c:\n",
    "#     pcs[:,0] = -pcs[:,0]"
   ]
  },
  {
   "cell_type": "code",
   "execution_count": null,
   "id": "2710199e-e053-41b4-9838-dc1f261e1b22",
   "metadata": {
    "tags": []
   },
   "outputs": [],
   "source": [
    "res = pd.DataFrame(pcs, columns=np.char.add(\"PC\", ((1+np.arange(pcs.shape[1])).astype(str))))\n",
    "res['cond'] = conds\n",
    "res['type'] = types\n",
    "res['samp'] = samps\n",
    "\n",
    "\n",
    "# res2 = pd.DataFrame(zlognorm, columns=genes_sel)\n",
    "# res = pd.concat([res, res2], axis=1)"
   ]
  },
  {
   "cell_type": "code",
   "execution_count": null,
   "id": "b65a87b1-5280-4cd4-a930-8089cc06e15a",
   "metadata": {
    "tags": []
   },
   "outputs": [],
   "source": [
    "fig, ax = plt.subplots(figsize=(6,4))\n",
    "ax.plot(np.arange(len(pca.explained_variance_ratio_))+1, pca.explained_variance_ratio_, '-o', markersize=5)\n",
    "ax.axhline(1/lognorm.shape[1], linestyle='--', color='gray')\n",
    "ax.set_xlabel('PC')\n",
    "ax.set_ylabel('explained var')"
   ]
  },
  {
   "cell_type": "code",
   "execution_count": null,
   "id": "7d39cdaa-ad88-4aa2-8313-5ee56c0f37e8",
   "metadata": {
    "tags": []
   },
   "outputs": [],
   "source": [
    "allcolors = sns.color_palette('tab20c', 20)\n",
    "allcolors"
   ]
  },
  {
   "cell_type": "code",
   "execution_count": null,
   "id": "b9738b71-19bb-4e6d-ba3d-e38215a3347b",
   "metadata": {
    "tags": []
   },
   "outputs": [],
   "source": [
    "allcolors2 = sns.color_palette('tab10', 20)\n",
    "allcolors2"
   ]
  },
  {
   "cell_type": "code",
   "execution_count": null,
   "id": "3e8e4d75-2d87-4c0a-a809-43053850bc71",
   "metadata": {
    "tags": []
   },
   "outputs": [],
   "source": [
    "palette = collections.OrderedDict({\n",
    "     \"P8NR\": allcolors[2],\n",
    "    \"P14NR\": allcolors[0],\n",
    "    \n",
    "    \"P17NR\": allcolors[7],\n",
    "    \"P21NR\": allcolors[6],\n",
    "    \"P28NR\": allcolors[5],\n",
    "    \"P38NR\": allcolors[4],\n",
    "    \n",
    "})\n",
    "\n",
    "palette_types = collections.OrderedDict({\n",
    "    'L2/3_A': allcolors2[0],\n",
    "    'L2/3_B': allcolors2[1],\n",
    "    'L2/3_C': allcolors2[2],\n",
    "    \n",
    "    'L2/3_1': allcolors2[0],\n",
    "    'L2/3_2': allcolors2[1],\n",
    "    'L2/3_3': allcolors2[2],\n",
    "    \n",
    "    'L2/3_AB': allcolors2[0],\n",
    "    'L2/3_BC': allcolors2[2],\n",
    "})             \n",
    "\n",
    "cases = np.array(list(palette.keys()))"
   ]
  },
  {
   "cell_type": "code",
   "execution_count": null,
   "id": "01b3dc85-3f78-41d5-9296-07c2f55fe6d7",
   "metadata": {
    "tags": []
   },
   "outputs": [],
   "source": [
    "fig, ax = plt.subplots(figsize=(1,4))\n",
    "for i, (key, item) in enumerate(palette.items()):\n",
    "    ax.plot(0,     len(palette)-i, 'o', c=item, )\n",
    "    ax.text(0.02,  len(palette)-i, key, va='center', fontsize=15)\n",
    "    ax.axis('off')\n",
    "plt.show()"
   ]
  },
  {
   "cell_type": "code",
   "execution_count": null,
   "id": "db79fa11-01bf-4d0f-9616-3d3b7b8d0d62",
   "metadata": {
    "tags": []
   },
   "outputs": [],
   "source": [
    "from scipy import stats\n",
    "\n",
    "def plot(x, y):\n",
    "    fig, axs = plt.subplots(1,6,figsize=(4*6,4*1), sharex=True, sharey=True)\n",
    "    for ax, cond in zip(axs.flat, cases):\n",
    "        ax.set_title(cond)\n",
    "        sns.scatterplot(data=res, \n",
    "                        x=x, y=y, \n",
    "                        c='lightgray',\n",
    "                        s=1, edgecolor='none', \n",
    "                        legend=False,\n",
    "                        ax=ax,\n",
    "                       )\n",
    "        sns.scatterplot(data=res[res['cond']==cond],\n",
    "                        x=x, y=y, \n",
    "                        hue='type',\n",
    "                        hue_order=list(palette_types.keys()),\n",
    "                        palette=palette_types,\n",
    "                        s=3, edgecolor='none', \n",
    "                        legend=False,\n",
    "                        ax=ax,\n",
    "                       )\n",
    "        sns.despine(ax=ax)\n",
    "        # ax.set_aspect('equal')\n",
    "    plt.show()\n",
    "    \n",
    "def plot2(x, y, hue=None):\n",
    "    fig, axs = plt.subplots(1,6,figsize=(4*6,4*1), sharex=True, sharey=True)\n",
    "    for ax, cond in zip(axs.flat, cases):\n",
    "        ax.set_title(cond)\n",
    "        sns.scatterplot(data=res, \n",
    "                        x=x, y=y, \n",
    "                        c='lightgray',\n",
    "                        s=1, edgecolor='none', \n",
    "                        legend=False,\n",
    "                        ax=ax,\n",
    "                       )\n",
    "        show = res[res['cond']==cond]\n",
    "        if hue:\n",
    "            ax.scatter(show[x], show[y], c=show[hue], \n",
    "                       cmap='coolwarm',\n",
    "                       vmin=-3, vmax=3,\n",
    "                       s=3, \n",
    "                       edgecolor='none', \n",
    "                      )\n",
    "        else:\n",
    "            r, p = stats.spearmanr(show[x], show[y])\n",
    "            ax.scatter(show[x], show[y],  \n",
    "                       s=3, \n",
    "                       edgecolor='none', \n",
    "                      )\n",
    "            ax.set_title(f'{cond}\\n r={r:.2f}')\n",
    "        sns.despine(ax=ax)\n",
    "        # ax.set_aspect('equal')\n",
    "    plt.show()"
   ]
  },
  {
   "cell_type": "code",
   "execution_count": null,
   "id": "092f2cfa-1238-4fb1-b42d-13921e417816",
   "metadata": {
    "tags": []
   },
   "outputs": [],
   "source": [
    "plot('PC1', 'PC2')\n",
    "plot('PC2', 'PC3')\n",
    "plot('PC3', 'PC4')\n",
    "plot('PC4', 'PC5')"
   ]
  },
  {
   "cell_type": "code",
   "execution_count": null,
   "id": "684d92ee-4403-465e-9868-86bed4a6d104",
   "metadata": {},
   "outputs": [],
   "source": []
  },
  {
   "cell_type": "code",
   "execution_count": null,
   "id": "2c27de5e-163d-4fdd-a677-08938a49c630",
   "metadata": {},
   "outputs": [],
   "source": []
  },
  {
   "cell_type": "markdown",
   "id": "7edca66a-2fcd-4c3a-8670-623fc3283b03",
   "metadata": {},
   "source": [
    "# Try\n",
    "- ICA\n",
    "- HVGs\n",
    "- Project to adult\n",
    "- 3D visuals\n",
    "- Understand this"
   ]
  },
  {
   "cell_type": "code",
   "execution_count": null,
   "id": "c17c10b1-1912-43bb-9bb8-410b52dc981a",
   "metadata": {
    "tags": []
   },
   "outputs": [],
   "source": [
    "# Apply ICA\n",
    "from sklearn.decomposition import FastICA\n",
    "ica = FastICA(n_components=5, whiten='unit-variance', max_iter=5000, tol=1e-3)\n",
    "ics = ica.fit_transform(pcs[:,:5])"
   ]
  },
  {
   "cell_type": "code",
   "execution_count": null,
   "id": "2d1da054-d935-4a9d-897b-cce19764b864",
   "metadata": {
    "tags": []
   },
   "outputs": [],
   "source": [
    "res2 = pd.DataFrame(ics, columns=np.char.add(\"IC\", ((1+np.arange(ics.shape[1])).astype(str))))\n",
    "res = pd.concat([res, res2], axis=1)"
   ]
  },
  {
   "cell_type": "code",
   "execution_count": null,
   "id": "fbe7684d-4441-4aeb-aa51-b99827e9289f",
   "metadata": {
    "tags": []
   },
   "outputs": [],
   "source": [
    "plot('PC1', 'IC1')\n",
    "plot('PC1', 'IC2')\n",
    "plot('PC1', 'IC3')\n",
    "plot('PC1', 'IC4')\n",
    "plot('PC1', 'IC5')"
   ]
  },
  {
   "cell_type": "code",
   "execution_count": null,
   "id": "97def896-0492-4b92-a08a-839efa0fc67b",
   "metadata": {},
   "outputs": [],
   "source": [
    "plot('IC1', 'IC2')"
   ]
  },
  {
   "cell_type": "code",
   "execution_count": null,
   "id": "3871c3cf-b96c-4db9-92b9-885040d71759",
   "metadata": {
    "tags": []
   },
   "outputs": [],
   "source": [
    "plot('IC3', 'IC4')"
   ]
  },
  {
   "cell_type": "code",
   "execution_count": null,
   "id": "afe72e18-4a49-4951-9383-a3b88d810c60",
   "metadata": {
    "tags": []
   },
   "outputs": [],
   "source": [
    "plot('IC4', 'IC5')"
   ]
  },
  {
   "cell_type": "code",
   "execution_count": null,
   "id": "ded754d5-fbce-4027-bcbe-7105617f6259",
   "metadata": {},
   "outputs": [],
   "source": [
    "plot('IC1', 'IC4')"
   ]
  },
  {
   "cell_type": "code",
   "execution_count": null,
   "id": "e7f7f0d1-f7bd-4630-bcfe-cbd63465c63a",
   "metadata": {},
   "outputs": [],
   "source": []
  }
 ],
 "metadata": {
  "kernelspec": {
   "display_name": "Python 3 (ipykernel)",
   "language": "python",
   "name": "python3"
  },
  "language_info": {
   "codemirror_mode": {
    "name": "ipython",
    "version": 3
   },
   "file_extension": ".py",
   "mimetype": "text/x-python",
   "name": "python",
   "nbconvert_exporter": "python",
   "pygments_lexer": "ipython3",
   "version": "3.9.16"
  }
 },
 "nbformat": 4,
 "nbformat_minor": 5
}
