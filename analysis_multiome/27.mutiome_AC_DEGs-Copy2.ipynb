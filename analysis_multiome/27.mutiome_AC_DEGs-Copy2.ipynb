{
 "cells": [
  {
   "cell_type": "code",
   "execution_count": null,
   "id": "bb214b6d-836a-49b8-93dd-a19f021215b7",
   "metadata": {
    "tags": []
   },
   "outputs": [],
   "source": [
    "import os\n",
    "import numpy as np\n",
    "import pandas as pd\n",
    "import scanpy as sc\n",
    "import anndata \n",
    "import seaborn as sns\n",
    "from scipy.stats import zscore\n",
    "import matplotlib.pyplot as plt\n",
    "import collections\n",
    "from natsort import natsorted\n",
    "\n",
    "from scipy import stats\n",
    "from scipy import sparse\n",
    "from sklearn.decomposition import PCA\n",
    "from umap import UMAP\n",
    "from statsmodels.stats.multitest import multipletests\n",
    "\n",
    "from matplotlib.colors import LinearSegmentedColormap\n",
    "\n",
    "from scroutines.config_plots import *\n",
    "from scroutines import powerplots # .config_plots import *\n",
    "from scroutines import pnmf\n",
    "from scroutines import basicu\n",
    "from scroutines.gene_modules import GeneModules  \n"
   ]
  },
  {
   "cell_type": "code",
   "execution_count": null,
   "id": "f45abc88-0cbc-4575-8035-9cb157c42bc2",
   "metadata": {},
   "outputs": [],
   "source": [
    "outdir_fig = \"/u/home/f/f7xiesnm/project-zipursky/v1-bb/v1/figures\""
   ]
  },
  {
   "cell_type": "markdown",
   "id": "ba1f61ee-ba83-4707-816d-37eb33a54b83",
   "metadata": {},
   "source": [
    "# load gene annotation and data"
   ]
  },
  {
   "cell_type": "code",
   "execution_count": null,
   "id": "e2945163-289c-48bf-9147-d5070e4deb8a",
   "metadata": {
    "tags": []
   },
   "outputs": [],
   "source": [
    "gene_modules = GeneModules()\n",
    "g, gs, ms = gene_modules.check_genes('Cdh13')\n",
    "print(\"\\t\".join(g))\n",
    "print(\"\\t\".join(gs))\n",
    "print(\"\\t\".join(ms))"
   ]
  },
  {
   "cell_type": "code",
   "execution_count": null,
   "id": "fb72ade4-5ddd-4d8d-9d66-847375e16845",
   "metadata": {},
   "outputs": [],
   "source": [
    "# use those 286 genes\n",
    "df = pd.read_csv(\"/u/home/f/f7xiesnm/project-zipursky/v1-bb/v1/data/cheng21_cell_scrna/res/L23-ABC-genes-n288-n286unq-annot_v3_july8_2024.csv\")\n",
    "genes_l23 = df['gene'].astype(str).values\n",
    "genes_l23a = df[df['P17on']=='A']['gene'].astype(str).values\n",
    "genes_l23b = df[df['P17on']=='B']['gene'].astype(str).values\n",
    "genes_l23c = df[df['P17on']=='C']['gene'].astype(str).values\n",
    "\n",
    "print(genes_l23a.shape, genes_l23b.shape, genes_l23c.shape)\n",
    "genes_grp = df['P17on'].astype(str).values\n",
    "assert len(genes_l23) == len(np.unique(genes_l23))\n",
    "\n",
    "genes_l23.shape"
   ]
  },
  {
   "cell_type": "code",
   "execution_count": null,
   "id": "bc4ba53f-b74e-4eca-82dd-52f9cbbdb104",
   "metadata": {
    "tags": []
   },
   "outputs": [],
   "source": [
    "scores_abc = pd.read_csv(\"/u/home/f/f7xiesnm/project-zipursky/v1-bb/v1/data/v1_multiome/scores_l23abc.csv\", \n",
    "                         index_col=0,\n",
    "                        )\n",
    "scores_abc"
   ]
  },
  {
   "cell_type": "code",
   "execution_count": null,
   "id": "8542eec8-b8e1-4a35-9237-0d3c0043349b",
   "metadata": {},
   "outputs": [],
   "source": [
    "adata = anndata.read(\"/u/home/f/f7xiesnm/project-zipursky/v1-bb/v1/data/v1_multiome/superdupermegaRNA_hasraw_multiome_l23.h5ad\")\n",
    "adata"
   ]
  },
  {
   "cell_type": "code",
   "execution_count": null,
   "id": "345d47ef-df93-4066-b2dd-382bac604a7c",
   "metadata": {
    "tags": []
   },
   "outputs": [],
   "source": [
    "adata.X = adata.raw.X"
   ]
  },
  {
   "cell_type": "code",
   "execution_count": null,
   "id": "47c07c89-4d36-4d6d-b4e5-305180e5bd7b",
   "metadata": {
    "tags": []
   },
   "outputs": [],
   "source": [
    "adata.obs['scores_a'] = scores_abc.loc[adata.obs.index,'scores_a'].copy()\n",
    "adata.obs['scores_b'] = scores_abc.loc[adata.obs.index,'scores_b'].copy()\n",
    "adata.obs['scores_c'] = scores_abc.loc[adata.obs.index,'scores_c'].copy()"
   ]
  },
  {
   "cell_type": "code",
   "execution_count": null,
   "id": "c715643c-0748-414c-b477-4294cb85b5cc",
   "metadata": {
    "tags": []
   },
   "outputs": [],
   "source": [
    "sample_labels = adata.obs['Sample'].values\n",
    "time_labels = [s[:-1].replace('DR', '') for s in sample_labels]\n",
    "\n",
    "adata.obs['sample'] = sample_labels #\n",
    "adata.obs['time']   = time_labels\n",
    "\n",
    "uniq_samples = natsorted(np.unique(sample_labels))\n",
    "uniq_times = natsorted(np.unique(time_labels))\n",
    "\n",
    "nr_samples = [s for s in uniq_samples if \"DR\" not in s]\n",
    "dr_samples = [s for s in uniq_samples if \"DR\" in s]\n",
    "print(uniq_times)\n",
    "print(nr_samples)\n",
    "print(dr_samples)\n",
    "\n",
    "adata.obs['sample'].unique(), adata.obs['cond'].unique()"
   ]
  },
  {
   "cell_type": "code",
   "execution_count": null,
   "id": "4d9ae16c-9107-4acd-8405-fbcd84bd8e0d",
   "metadata": {
    "tags": []
   },
   "outputs": [],
   "source": [
    "# remove mitocondria genes\n",
    "adata = adata[:,~adata.var.index.str.contains(r'^mt-')]\n",
    "\n",
    "# filter genes\n",
    "cond = np.ravel((adata.X>0).sum(axis=0)) > 10 # expressed in more than 10 cells\n",
    "adata = adata[:,cond].copy()\n"
   ]
  },
  {
   "cell_type": "code",
   "execution_count": null,
   "id": "1fadd441-11aa-49ab-abcc-d8d5e9cf47ea",
   "metadata": {},
   "outputs": [],
   "source": [
    "\n",
    "# counts\n",
    "x = adata.X\n",
    "cov = np.ravel(np.sum(x, axis=1))\n",
    "genes = adata.var.index.values\n",
    "\n",
    "# CP10k\n",
    "xn = (sparse.diags(1/cov).dot(x))*1e4\n",
    "\n",
    "# log2(CP10k+1)\n",
    "xln = xn.copy()\n",
    "xln.data = np.log2(xln.data+1)\n",
    "\n",
    "adata.layers[    'norm'] = np.array(xn.todense())\n",
    "adata.layers[ 'lognorm'] = np.array(xln.todense())"
   ]
  },
  {
   "cell_type": "code",
   "execution_count": null,
   "id": "09d57655-c050-4842-a623-8fd8cac63496",
   "metadata": {
    "tags": []
   },
   "outputs": [],
   "source": [
    "qs_avc = []\n",
    "l2fc_avc = []\n",
    "\n",
    "for cond, obssub in adata.obs.groupby('cond'):\n",
    "    # get sub\n",
    "    adatasub = adata[obssub.index]\n",
    "    \n",
    "    # get A vs C \n",
    "    precond_a = adatasub.obs['scores_a'].rank(ascending=False)<=200\n",
    "    precond_b = adatasub.obs['scores_b'].rank(ascending=False)<=200\n",
    "    precond_c = adatasub.obs['scores_c'].rank(ascending=False)<=200\n",
    "    \n",
    "    cond_a = np.all([ precond_a, ~precond_b, ~precond_c], axis=0)\n",
    "    cond_b = np.all([~precond_a,  precond_b, ~precond_c], axis=0)\n",
    "    cond_c = np.all([~precond_a, ~precond_b,  precond_c], axis=0)\n",
    "    \n",
    "    print(precond_a.sum(), \n",
    "          precond_b.sum(), \n",
    "          precond_c.sum(),)\n",
    "    print(cond_a.sum(), cond_b.sum(), cond_c.sum())\n",
    "    \n",
    "    adatasub_a = adatasub[cond_a]\n",
    "    adatasub_c = adatasub[cond_c]\n",
    "    \n",
    "    # DEGs\n",
    "    mat_a = adatasub_a.layers['lognorm'][...]\n",
    "    mat_c = adatasub_c.layers['lognorm'][...]\n",
    "    ts, ps = stats.ttest_ind(mat_a, mat_c)\n",
    "    rs, qs, _, _ = multipletests(np.nan_to_num(ps, nan=1).reshape(-1,), method='fdr_bh') # why nan in ps -- not expressed\n",
    "    lfc = np.mean(mat_c, axis=0) - np.mean(mat_a, axis=0) # log2FC (log2CP10k as raw counts)\n",
    "    \n",
    "    num_sig = np.sum(np.logical_and(qs < 0.05, np.abs(lfc) > 1))\n",
    "    print(cond, adatasub_a.shape, num_sig)\n",
    "    \n",
    "    # save this\n",
    "    qs_avc.append(qs)\n",
    "    l2fc_avc.append(lfc)\n",
    "    \n",
    "    \n",
    "qs_avc = np.array(qs_avc)\n",
    "l2fc_avc = np.array(l2fc_avc)"
   ]
  },
  {
   "cell_type": "code",
   "execution_count": null,
   "id": "f1a5dcb5-ea18-4d0f-a201-aee9ee158b5f",
   "metadata": {
    "tags": []
   },
   "outputs": [],
   "source": [
    "adata.uns['qs_avc'] = qs_avc\n",
    "adata.uns['l2fc_avc'] = l2fc_avc"
   ]
  },
  {
   "cell_type": "code",
   "execution_count": null,
   "id": "dd2e7261-6a41-42fb-aa63-df5aa04bade4",
   "metadata": {
    "tags": []
   },
   "outputs": [],
   "source": [
    "l2fc_th = 1\n",
    "alpha_th = 0.05\n",
    "cond_sig   = np.logical_and(qs_avc < alpha_th, np.abs(l2fc_avc) > l2fc_th)\n",
    "cond_sig_c = np.logical_and(qs_avc < alpha_th, l2fc_avc >  l2fc_th)\n",
    "cond_sig_a = np.logical_and(qs_avc < alpha_th, l2fc_avc < -l2fc_th)\n",
    "\n",
    "print('num AvsC-DEGs per cond:\\t', cond_sig.sum(axis=1))\n",
    "print('num A-DEGs per cond:\\t',    cond_sig_a.sum(axis=1))\n",
    "print('num C-DEGs per cond:\\t',    cond_sig_c.sum(axis=1))"
   ]
  },
  {
   "cell_type": "code",
   "execution_count": null,
   "id": "08acf031-42f7-4a23-bbdc-3dcb81eb43b8",
   "metadata": {
    "tags": []
   },
   "outputs": [],
   "source": [
    "gene_sig_instances   = cond_sig.sum(axis=0)\n",
    "gene_sig_instances_a = cond_sig_a.sum(axis=0)\n",
    "gene_sig_instances_c = cond_sig_c.sum(axis=0)\n",
    "\n",
    "instances, counts = np.unique(gene_sig_instances, return_counts=True)\n",
    "instances_a, counts_a = np.unique(gene_sig_instances_a, return_counts=True)\n",
    "instances_c, counts_c = np.unique(gene_sig_instances_c, return_counts=True)\n",
    "\n",
    "print('num AvsC-DEGs in num conds:\\t',  counts  , np.any(cond_sig, axis=0).sum())\n",
    "print('num A-DEGs in num conds:\\t',     counts_a, np.any(cond_sig_a, axis=0).sum())\n",
    "print('num C-DEGs in num conds:\\t',     counts_c, np.any(cond_sig_c, axis=0).sum())"
   ]
  },
  {
   "cell_type": "code",
   "execution_count": null,
   "id": "e849ad65-3232-4ae4-a6eb-0b6a608df459",
   "metadata": {
    "tags": []
   },
   "outputs": [],
   "source": [
    "a_any = np.sort(adata.var[np.any(cond_sig_a, axis=0)].index.values)\n",
    "c_any = np.sort(adata.var[np.any(cond_sig_c, axis=0)].index.values)\n",
    "a_all = np.sort(adata.var[np.all(cond_sig_a, axis=0)].index.values)\n",
    "c_all = np.sort(adata.var[np.all(cond_sig_c, axis=0)].index.values)\n",
    "ac_overlap = np.sort(adata.var[np.logical_and(np.any(cond_sig_a, axis=0), np.any(cond_sig_c, axis=0))].index.values)\n",
    "\n",
    "print('a any', a_any)\n",
    "print('c any', c_any)\n",
    "print('a all', a_all)\n",
    "print('c all', c_all)\n",
    "print('ac overlap', ac_overlap)"
   ]
  },
  {
   "cell_type": "code",
   "execution_count": null,
   "id": "ac1f411d-7463-4b75-bf4a-dd4ae4185490",
   "metadata": {
    "tags": []
   },
   "outputs": [],
   "source": [
    "a_all_annots, a_all_styled, a_all_annots_styled = gene_modules.check_genes(a_all)\n",
    "c_all_annots, c_all_styled, c_all_annots_styled = gene_modules.check_genes(c_all)\n",
    "\n",
    "print(\"\\t\".join(a_all_annots_styled)) # _styled))\n",
    "print(\"---\"*10) # _styled))\n",
    "print(\"\\t\".join(c_all_annots_styled)) # _styled))"
   ]
  },
  {
   "cell_type": "code",
   "execution_count": null,
   "id": "82f40f49-6f8a-43ea-96f5-ad57938c50ae",
   "metadata": {},
   "outputs": [],
   "source": [
    "fig, ax = plt.subplots(figsize=(4,4))\n",
    "ax.plot(np.arange(1,1+11)[::-1], np.cumsum(counts_a[1:][::-1]), '-o', label='A', color='C0')\n",
    "ax.plot(np.arange(1,1+11)[::-1], np.cumsum(counts_c[1:][::-1]), '-o', label='C', color='C2')\n",
    "ax.set_ylim(ymin=0)\n",
    "ax.legend()\n",
    "ax.set_ylabel('number of TFs')\n",
    "ax.set_xlabel('number of time points')\n",
    "sns.despine(ax=ax)\n",
    "plt.show()"
   ]
  },
  {
   "cell_type": "code",
   "execution_count": null,
   "id": "83c3811a-dcf3-4985-93e7-031100d4e684",
   "metadata": {},
   "outputs": [],
   "source": []
  },
  {
   "cell_type": "code",
   "execution_count": null,
   "id": "5dd0aa13-2522-4de3-9241-268cb793238e",
   "metadata": {},
   "outputs": [],
   "source": []
  },
  {
   "cell_type": "markdown",
   "id": "b3848f6e-1365-4f5a-9d7e-cbc6ddcbd4b6",
   "metadata": {},
   "source": [
    "# Volcano"
   ]
  },
  {
   "cell_type": "code",
   "execution_count": null,
   "id": "dca633d6-8bbf-43ac-87c2-fcd773d33ccf",
   "metadata": {
    "tags": []
   },
   "outputs": [],
   "source": [
    "def show_volcano_v2(thetypeidx, thetype, lfc, qs,\n",
    "                    cond1, cond2up, cond2dn, \n",
    "                    querygenes_idx=None, \n",
    "                    gene_annots=None,\n",
    "                    ax=None, bbox_to_anchor=(1,1), loc=None,\n",
    "                   ): \n",
    "    \"\"\"\n",
    "    \"\"\"\n",
    "    eff = lfc[:,thetypeidx]\n",
    "    pvl = -np.log10(np.clip(qs[:,thetypeidx], 1e-50, None)) # +1e-10)\n",
    "    cnd_up = np.all([cond1[:,thetypeidx], \n",
    "                     cond2up[:,thetypeidx]], axis=0) \n",
    "    cnd_dn = np.all([cond1[:,thetypeidx], \n",
    "                     cond2dn[:,thetypeidx]], axis=0) \n",
    "\n",
    "    if ax is None: \n",
    "        fig, ax = plt.subplots()\n",
    "    \n",
    "    # all genes\n",
    "    ax.scatter(eff, pvl, s=1, color='lightgray', rasterized=True)\n",
    "\n",
    "    # up genes\n",
    "    ax.scatter(eff[cnd_up], pvl[cnd_up], s=3, facecolors='C0', rasterized=True)\n",
    "    # dn genes\n",
    "    ax.scatter(eff[cnd_dn], pvl[cnd_dn], s=3, facecolors='C1', rasterized=True)\n",
    "    \n",
    "    # # query genes\n",
    "    # add text\n",
    "    if querygenes_idx is not None:\n",
    "        ax.scatter(eff[querygenes_idx], pvl[querygenes_idx], s=15, \n",
    "                   # label=f'type-specific (n={len(querygenes_idx):,})',\n",
    "                   facecolors='none', edgecolors='k', linewidth=1, rasterized=True)\n",
    "        for idx in querygenes_idx:\n",
    "            ax.text(eff[idx], pvl[idx], gene_annots[idx], fontsize=10)\n",
    "\n",
    "            \n",
    "    # ax.grid(axis='y')\n",
    "    sns.despine(ax=ax)\n",
    "    ax.set_xlabel('log2(FC) (C/A in CP10k)')\n",
    "    ax.set_ylabel('-log10(adj. p)')\n",
    "    ax.set_title(f'{thetype}')\n",
    "    ax.text(1,0.1,\n",
    "            f'up (n={cnd_up.sum():,})\\ndown (n={cnd_dn.sum():,})', \n",
    "            ha='right',\n",
    "            fontsize=10, transform=ax.transAxes)\n",
    "    return "
   ]
  },
  {
   "cell_type": "code",
   "execution_count": null,
   "id": "171443b5-fe89-4513-94ed-d64a0134e85d",
   "metadata": {
    "tags": []
   },
   "outputs": [],
   "source": [
    "genes_comm = adata.var.index.values\n",
    "lfc = adata.uns['l2fc_avc'].T\n",
    "qs  = adata.uns['qs_avc'].T\n",
    "lfc_th, qs_th = 1, 0.05"
   ]
  },
  {
   "cell_type": "code",
   "execution_count": null,
   "id": "ed91043c-0d42-4da6-8073-580098d269a3",
   "metadata": {
    "tags": []
   },
   "outputs": [],
   "source": [
    "cond1   = qs  <  qs_th\n",
    "cond2up = lfc >  lfc_th\n",
    "cond2dn = lfc < -lfc_th"
   ]
  },
  {
   "cell_type": "code",
   "execution_count": null,
   "id": "e4bac217-6209-4e00-ac6e-3579d9e48ac7",
   "metadata": {
    "tags": []
   },
   "outputs": [],
   "source": [
    "unq_conds = natsorted(np.unique(adata.obs['cond']))\n",
    "unq_conds"
   ]
  },
  {
   "cell_type": "code",
   "execution_count": null,
   "id": "709118f2-e5cd-4ee6-a2ce-a81e5fba0ced",
   "metadata": {
    "tags": []
   },
   "outputs": [],
   "source": [
    "n = len(unq_conds)\n",
    "fig, axs = plt.subplots(1,n,figsize=(4*n,4*1), sharex=True, sharey=True)\n",
    "for cond_idx, thecond in enumerate(unq_conds):\n",
    "    ax = axs.flat[cond_idx]\n",
    "    show_volcano_v2(cond_idx, thecond, lfc, qs, cond1, cond2up, cond2dn, \n",
    "                    # typegenes_idx, \n",
    "                    ax=ax, bbox_to_anchor=(0.5, -0.3), loc='upper center')\n",
    "    sns.despine(ax=ax)\n",
    "fig.tight_layout()\n",
    "\n",
    "# output = os.path.join(outfigdir, \"volcano.pdf\")\n",
    "# powerplots.savefig_autodate(fig, output)\n",
    "plt.show()"
   ]
  },
  {
   "cell_type": "code",
   "execution_count": null,
   "id": "2c358a9b-874e-4f39-91f0-d1284b16e104",
   "metadata": {},
   "outputs": [],
   "source": [
    "querygenes = ['Meis2','Foxp1','Cdh13','Cdh12']\n",
    "querygenes_idx = basicu.get_index_from_array(genes_comm, querygenes) \n",
    "gene_annots = genes_comm\n",
    "\n",
    "n = len(unq_conds)\n",
    "fig, axs = plt.subplots(3,4,figsize=(4*4,4*3), sharex=True, sharey=True)\n",
    "for cond_idx, thecond in enumerate(unq_conds):\n",
    "    ax = axs.flat[cond_idx]\n",
    "    show_volcano_v2(cond_idx, thecond, lfc, qs, cond1, cond2up, cond2dn, \n",
    "                    querygenes_idx=querygenes_idx, \n",
    "                    gene_annots=genes_comm,\n",
    "                    ax=ax, bbox_to_anchor=(0.5, -0.3), loc='upper center')\n",
    "    sns.despine(ax=ax)\n",
    "fig.tight_layout()\n",
    "plt.show()"
   ]
  },
  {
   "cell_type": "code",
   "execution_count": null,
   "id": "6a992779-3e23-497a-9841-d507a20548b3",
   "metadata": {
    "tags": []
   },
   "outputs": [],
   "source": [
    "genes_sig = genes_comm[np.any(np.abs(lfc) > 1, axis=1)]\n",
    "querygenes = np.intersect1d(gene_modules.annots['tf'], genes_sig) #['Meis2','Foxp1','Cdh13','Cdh12']\n",
    "querygenes_idx = basicu.get_index_from_array(genes_comm, querygenes) \n",
    "gene_annots = genes_comm\n",
    "\n",
    "n = len(unq_conds)\n",
    "fig, axs = plt.subplots(3,4,figsize=(4*4,4*3), sharex=True, sharey=True)\n",
    "for cond_idx, thecond in enumerate(unq_conds):\n",
    "    ax = axs.flat[cond_idx]\n",
    "    show_volcano_v2(cond_idx, thecond, lfc, qs, cond1, cond2up, cond2dn, \n",
    "                    querygenes_idx=querygenes_idx, \n",
    "                    gene_annots=genes_comm,\n",
    "                    ax=ax, bbox_to_anchor=(0.5, -0.3), loc='upper center')\n",
    "    sns.despine(ax=ax)\n",
    "fig.tight_layout()\n",
    "plt.show()"
   ]
  }
 ],
 "metadata": {
  "kernelspec": {
   "display_name": "Python 3 (ipykernel)",
   "language": "python",
   "name": "python3"
  },
  "language_info": {
   "codemirror_mode": {
    "name": "ipython",
    "version": 3
   },
   "file_extension": ".py",
   "mimetype": "text/x-python",
   "name": "python",
   "nbconvert_exporter": "python",
   "pygments_lexer": "ipython3",
   "version": "3.9.16"
  }
 },
 "nbformat": 4,
 "nbformat_minor": 5
}
