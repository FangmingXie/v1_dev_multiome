{
 "cells": [
  {
   "cell_type": "code",
   "execution_count": null,
   "id": "30b97a56-8884-4718-a56d-fc8af8e882e7",
   "metadata": {},
   "outputs": [],
   "source": [
    "import pandas as pd\n",
    "import numpy as np\n",
    "import statsmodels.formula.api as smf\n",
    "from statsmodels.stats.multitest import multipletests\n",
    "from scipy import stats\n",
    "import matplotlib.pyplot as plt\n",
    "\n",
    "\n",
    "import scanpy as sc\n",
    "import seaborn as sns\n",
    "\n",
    "from scroutines import basicu\n"
   ]
  },
  {
   "cell_type": "code",
   "execution_count": null,
   "id": "7508e4b9-241a-42ea-9d4a-42d0a9220de0",
   "metadata": {
    "tags": []
   },
   "outputs": [],
   "source": [
    "f1 = '/u/home/f/f7xiesnm/project-zipursky/v1-bb/v1/data/v1_multiome/superdupermegaRNA_hasraw_multiome_l23.h5ad'\n",
    "f2 = '/u/home/f/f7xiesnm/v1_multiome/multiome_cell_sex_assignment_saumya.csv'\n",
    "adata  = sc.read(f1)\n",
    "df_sex = pd.read_csv(f2)\n",
    "adata.obs = adata.obs.join(df_sex.set_index('cell'))\n",
    "adata.X = adata.raw.X\n",
    "adata = adata[:,~adata.var.index.str.contains(f'^mt')]\n",
    "genes = adata.var.index.values\n",
    "adata"
   ]
  },
  {
   "cell_type": "code",
   "execution_count": null,
   "id": "214f9c2b-6941-4a94-8549-a3b90ba9eb78",
   "metadata": {},
   "outputs": [],
   "source": [
    "%%time\n",
    "\n",
    "time = 'P21'\n",
    "exp_conds = [time, time+'DR']\n",
    "subclass  = 'L2/3'\n",
    "offset = 1e-2\n",
    "\n",
    "adatasub = adata[(adata.obs['Age'].isin(exp_conds)) & (adata.obs['Subclass']==subclass)]\n",
    "mat = np.array(adatasub.X.todense())/adatasub.obs['total_counts'].values.reshape(-1,1)*1e4\n",
    "zmat = stats.zscore(np.log2(mat+1), axis=0)\n",
    "\n",
    "zdf = pd.DataFrame(zmat, columns=np.char.add('g', np.arange(len(genes)).astype(str)), index=adatasub.obs.index)\n",
    "zdf = zdf.join(adatasub.obs[['Sample', 'Age']])\n",
    "print(zdf.shape)\n",
    "\n",
    "df = pd.DataFrame(mat, columns=np.char.add('g', np.arange(len(genes)).astype(str)), index=adatasub.obs.index)\n",
    "df = df.join(adatasub.obs[['Sample', 'Age']])\n",
    "print(df.shape)\n",
    "\n",
    "# FC (fast)\n",
    "df_mean = df.groupby(['Age']).mean(numeric_only=True)\n",
    "log2fc  = ( np.log2(df_mean.loc[exp_conds[1]]+offset)\n",
    "           -np.log2(df_mean.loc[exp_conds[0]]+offset)).values\n",
    "cond_fc = (np.abs(log2fc) > np.log2(2))\n",
    "print(exp_conds, subclass, cond_fc.sum()) # , genes[cond_fc])\n",
    "\n",
    "# # formal test (slow)\n",
    "# pvals = []\n",
    "# for i in tqdm(range(len(genes))):\n",
    "#     model = smf.mixedlm(f\"g{i} ~ Age\", df, groups=\"Sample\")\n",
    "#     with warnings.catch_warnings():\n",
    "#         warnings.simplefilter(\"ignore\") \n",
    "#         # warnings.simplefilter(\"ignore\", ConvergenceWarning)\n",
    "#         # warnings.simplefilter(\"ignore\", RuntimeWarning)\n",
    "#         result = model.fit()\n",
    "\n",
    "#     pval = result.pvalues[f'Age[T.{exp_conds[1]}]']\n",
    "#     pvals.append(pval)\n",
    "\n",
    "# pvals = np.nan_to_num(np.array(pvals), 1)\n",
    "# rej, qvals, _, _ =  multipletests(pvals, alpha=0.05, method='fdr_bh')\n",
    "# cond_both = np.logical_and(rej, cond_fc)\n",
    "\n",
    "# print(time, subclass, genes[cond_both])\n",
    "# # save results: exp_cond, subclass, genes, log2fc, qvals\n",
    "\n",
    "# df_res = pd.DataFrame()\n",
    "# df_res['gene'] = genes\n",
    "# df_res['log2fc'] = log2fc\n",
    "# df_res['qval'] = qvals\n",
    "# output = os.path.join(outfigdir, f'NRDR_DEGs_LMM_{time}.csv')\n",
    "# print(output)\n",
    "# df_res.to_csv(output)\n"
   ]
  },
  {
   "cell_type": "code",
   "execution_count": null,
   "id": "7d6ee5c8-c5db-48fd-aa27-5b5e53fbe5e6",
   "metadata": {
    "tags": []
   },
   "outputs": [],
   "source": [
    "\n",
    "i = basicu.get_index_from_array(genes, \n",
    "                                ['Nptx2'] # convergence issue\n",
    "                                # ['Matn2']\n",
    "                                \n",
    "                                # ['Sema6a']\n",
    "                                # ['Rgs12']\n",
    "                                # ['Ebi3'] \n",
    "                                # ['Txnl4b']\n",
    "                                # ['Anxa4']\n",
    "                                # ['Coa5']\n",
    "                                # ['Gm29650']\n",
    "                                # ['Inpp5d'],\n",
    "                                # ['Tiparp'],\n",
    "                                \n",
    "                                # ['Trib1'], \n",
    "                                # ['Tanc1'], \n",
    "                                # ['Nr4a3'], \n",
    "                                # ['Gm35021'], \n",
    "                                # ['Gm17949'], \n",
    "                                # ['Gatd1'], \n",
    "                                # ['Enpp3'], \n",
    "                                # ['Ehd2'], \n",
    "                                # ['Gm26801'],\n",
    "                                \n",
    "                               )[0]\n",
    "sns.boxplot(data=zdf, x='Age', hue='Sample', y=f'g{i}')\n",
    "\n",
    "model = smf.mixedlm(f\"g{i} ~ Age\", zdf, groups=\"Sample\")\n",
    "result = model.fit()\n",
    "# result = model.fit(method='bfgs')\n",
    "# result = model.fit(method=['lbfgs', 'bfgs', 'cg', 'powell'])\n",
    "# result = model.fit(method='lbfgs', maxiter=2000, tol=1e-6)\n",
    "\n",
    "\n",
    "print(df_mean[f'g{i}'])\n",
    "result.summary()"
   ]
  },
  {
   "cell_type": "code",
   "execution_count": null,
   "id": "42e3d4c8-b38a-418c-9605-eabb286a34df",
   "metadata": {
    "tags": []
   },
   "outputs": [],
   "source": [
    "result.converged"
   ]
  },
  {
   "cell_type": "code",
   "execution_count": null,
   "id": "6e1d6e83-573c-4b8d-a078-cdda33ed698c",
   "metadata": {},
   "outputs": [],
   "source": [
    "result.pvalues"
   ]
  }
 ],
 "metadata": {
  "kernelspec": {
   "display_name": "Python 3 (ipykernel)",
   "language": "python",
   "name": "python3"
  },
  "language_info": {
   "codemirror_mode": {
    "name": "ipython",
    "version": 3
   },
   "file_extension": ".py",
   "mimetype": "text/x-python",
   "name": "python",
   "nbconvert_exporter": "python",
   "pygments_lexer": "ipython3",
   "version": "3.9.16"
  }
 },
 "nbformat": 4,
 "nbformat_minor": 5
}
