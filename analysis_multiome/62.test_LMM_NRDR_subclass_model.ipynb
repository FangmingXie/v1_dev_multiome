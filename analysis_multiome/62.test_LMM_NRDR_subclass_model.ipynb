{
 "cells": [
  {
   "cell_type": "code",
   "execution_count": null,
   "id": "30b97a56-8884-4718-a56d-fc8af8e882e7",
   "metadata": {},
   "outputs": [],
   "source": [
    "import pandas as pd\n",
    "import numpy as np\n",
    "import statsmodels.formula.api as smf\n",
    "from statsmodels.stats.multitest import multipletests\n",
    "import matplotlib.pyplot as plt\n",
    "import os\n",
    "from natsort import natsorted\n",
    "\n",
    "import scanpy as sc\n",
    "import seaborn as sns\n",
    "\n",
    "from scroutines import basicu\n",
    "\n",
    "import warnings\n",
    "from statsmodels.tools.sm_exceptions import ConvergenceWarning\n",
    "from statsmodels.tools.sm_exceptions import ValueWarning\n",
    "from tqdm import tqdm\n",
    "\n",
    "import lmm\n",
    "import importlib\n",
    "importlib.reload(lmm)"
   ]
  },
  {
   "cell_type": "code",
   "execution_count": null,
   "id": "73c49a5f-dcec-4483-8d8b-0221ec630727",
   "metadata": {
    "tags": []
   },
   "outputs": [],
   "source": [
    "outfigdir = '/u/home/f/f7xiesnm/project-zipursky/v1-bb/v1/results_nrdr_lmm'\n",
    "!mkdir $outfigdir"
   ]
  },
  {
   "cell_type": "code",
   "execution_count": null,
   "id": "97f1a545-c321-40ac-b7de-16e8fb5ec0e5",
   "metadata": {},
   "outputs": [],
   "source": [
    "adata = sc.read(\"/u/home/f/f7xiesnm/project-zipursky/v1-bb/v1/data/v1_multiome/superdupermegaRNA_hasraw_multiome_P21NRDR.h5ad\")\n",
    "adata.X = adata.raw.X\n",
    "adata"
   ]
  },
  {
   "cell_type": "code",
   "execution_count": null,
   "id": "5c9ec47a-97f1-4b34-83a6-08c96886131f",
   "metadata": {
    "tags": []
   },
   "outputs": [],
   "source": [
    "# remove mitocondria genes\n",
    "adata = adata[:,~adata.var.index.str.contains(r'^mt-')]\n",
    "\n",
    "# remove sex genes\n",
    "sex_genes = [\"Xist\", \"Uty\", \"Eif2s3y\", \"Kdm5d\", \"Ddx3y\"]\n",
    "adata = adata[:,[g for g in adata.var.index if g not in sex_genes]]\n",
    "\n",
    "# filter genes\n",
    "cond = np.ravel((adata.X>0).sum(axis=0)) > 10 # expressed in more than 10 cells\n",
    "adata = adata[:,cond].copy()\n",
    "# genes = adata.var.index.values\n",
    "\n",
    "adata"
   ]
  },
  {
   "cell_type": "code",
   "execution_count": null,
   "id": "55fdc01b-d3b4-41b8-8f3e-18135ead652e",
   "metadata": {
    "tags": []
   },
   "outputs": [],
   "source": [
    "np.array(natsorted(np.unique(adata.obs['Age'].values)))"
   ]
  },
  {
   "cell_type": "code",
   "execution_count": null,
   "id": "37387219-bb0e-42d7-9021-16648173611d",
   "metadata": {
    "tags": []
   },
   "outputs": [],
   "source": [
    "cell_abundances = adata.obs.groupby(['Subclass', 'Age']).size().unstack()\n",
    "cell_abundances\n",
    "# value_counts()"
   ]
  },
  {
   "cell_type": "code",
   "execution_count": null,
   "id": "c0610886-a3c7-4bca-8d7b-fbe09e08caac",
   "metadata": {
    "tags": []
   },
   "outputs": [],
   "source": [
    "num_cells_th = 100\n",
    "uniq_subclasses = cell_abundances[cell_abundances.min(axis=1) > num_cells_th].index.values.astype(str)\n",
    "uniq_subclasses"
   ]
  },
  {
   "cell_type": "code",
   "execution_count": null,
   "id": "47e7c4b3-23a6-4856-824c-4177d0442113",
   "metadata": {},
   "outputs": [],
   "source": [
    "adata = adata[adata.obs['Subclass'].isin(uniq_subclasses)]\n",
    "adata"
   ]
  },
  {
   "cell_type": "markdown",
   "id": "465cb21d-583d-4390-bac8-347c0bb127bf",
   "metadata": {
    "jp-MarkdownHeadingCollapsed": true,
    "tags": []
   },
   "source": [
    "`g ~ 1 + DR + Subclass + DR * Subclass + [Sample]` "
   ]
  },
  {
   "cell_type": "code",
   "execution_count": null,
   "id": "79c3f75a-3a99-442b-adda-8a5a7fb8aaa5",
   "metadata": {
    "tags": []
   },
   "outputs": [],
   "source": [
    "np.unique(adata.obs['Subclass']), np.unique(adata.obs['Age'])"
   ]
  },
  {
   "cell_type": "code",
   "execution_count": null,
   "id": "306da436-c271-45c7-9c27-44cfdae3c65b",
   "metadata": {
    "tags": []
   },
   "outputs": [],
   "source": [
    "%%time\n",
    "\n",
    "offset = 1e-2\n",
    "scale = 1e4\n",
    "tag = 'v1'\n",
    "\n",
    "### test\n",
    "adatasub = adata[:,:5]\n",
    "### test\n",
    "\n",
    "genes = adatasub.var.index.values \n",
    "\n",
    "obs_fixed1 = 'Age'\n",
    "obs_fixed2 = 'Subclass'\n",
    "obs_random = 'Sample'\n",
    "obs = adatasub.obs[[obs_fixed1, obs_fixed2, obs_random]].copy()\n",
    "\n",
    "# obs = obs.dropna()\n",
    "# adatasub = adatasub[obs.index]\n",
    "\n",
    "output = os.path.join(outfigdir, f'NRDR_DEGs_LMM_P21_bigmodel.h5ad')\n",
    "\n",
    "# # mat\n",
    "mat = np.array(adatasub.X.todense())/adatasub.obs['total_counts'].values.reshape(-1,1)*scale\n",
    "\n",
    "res  = lmm.run_lmm_two_fixed(\n",
    "    mat, genes, obs, obs_fixed1, obs_fixed2, obs_random, output=output, offset=offset)"
   ]
  },
  {
   "cell_type": "code",
   "execution_count": null,
   "id": "f787a061-6aa5-451d-83bc-379a98c86fd5",
   "metadata": {
    "tags": []
   },
   "outputs": [],
   "source": [
    "res = sc.read(output)"
   ]
  },
  {
   "cell_type": "code",
   "execution_count": null,
   "id": "2a0ab5a2-5dea-4b07-9751-dc9b9952cdc9",
   "metadata": {
    "tags": []
   },
   "outputs": [],
   "source": [
    "res.obs\n"
   ]
  },
  {
   "cell_type": "code",
   "execution_count": null,
   "id": "4b4e00ac-4388-4fd9-aff0-f37c60269305",
   "metadata": {
    "tags": []
   },
   "outputs": [],
   "source": [
    "res"
   ]
  },
  {
   "cell_type": "code",
   "execution_count": null,
   "id": "5d2b13e6-27f6-4116-ae49-d30fd8d49b11",
   "metadata": {
    "tags": []
   },
   "outputs": [],
   "source": [
    "res.var"
   ]
  },
  {
   "cell_type": "code",
   "execution_count": null,
   "id": "4280c918-f94f-40eb-9833-5247e0fe7ca0",
   "metadata": {
    "tags": []
   },
   "outputs": [],
   "source": [
    "sig = np.logical_and(res.layers['qval'] < 0.05, np.abs(res.layers['effsize']) > 1)"
   ]
  },
  {
   "cell_type": "code",
   "execution_count": null,
   "id": "1ab25098-6cdf-4e51-a7c7-2cd0f53cec2b",
   "metadata": {
    "tags": []
   },
   "outputs": [],
   "source": [
    "res.obs # res.var"
   ]
  },
  {
   "cell_type": "code",
   "execution_count": null,
   "id": "de26c84f-1ddb-4a65-b69f-9da2ea92a169",
   "metadata": {
    "tags": []
   },
   "outputs": [],
   "source": [
    "meta = res.var\n",
    "meta['sig'] = sig[0]\n",
    "meta"
   ]
  },
  {
   "cell_type": "code",
   "execution_count": null,
   "id": "501816c8-ad1a-4fe7-8139-89c3fa78fcff",
   "metadata": {},
   "outputs": [],
   "source": []
  }
 ],
 "metadata": {
  "kernelspec": {
   "display_name": "Python 3 (ipykernel)",
   "language": "python",
   "name": "python3"
  },
  "language_info": {
   "codemirror_mode": {
    "name": "ipython",
    "version": 3
   },
   "file_extension": ".py",
   "mimetype": "text/x-python",
   "name": "python",
   "nbconvert_exporter": "python",
   "pygments_lexer": "ipython3",
   "version": "3.9.16"
  }
 },
 "nbformat": 4,
 "nbformat_minor": 5
}
