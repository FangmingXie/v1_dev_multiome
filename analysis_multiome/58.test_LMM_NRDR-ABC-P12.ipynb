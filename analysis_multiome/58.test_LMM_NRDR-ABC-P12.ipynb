{
 "cells": [
  {
   "cell_type": "code",
   "execution_count": null,
   "id": "30b97a56-8884-4718-a56d-fc8af8e882e7",
   "metadata": {},
   "outputs": [],
   "source": [
    "import pandas as pd\n",
    "import numpy as np\n",
    "import statsmodels.formula.api as smf\n",
    "from statsmodels.stats.multitest import multipletests\n",
    "import matplotlib.pyplot as plt\n",
    "import os\n",
    "from natsort import natsorted\n",
    "\n",
    "import scanpy as sc\n",
    "import seaborn as sns\n",
    "\n",
    "from scroutines import basicu\n",
    "\n",
    "import warnings\n",
    "from statsmodels.tools.sm_exceptions import ConvergenceWarning\n",
    "from statsmodels.tools.sm_exceptions import ValueWarning\n",
    "from tqdm import tqdm\n",
    "\n",
    "\n",
    "import lmm"
   ]
  },
  {
   "cell_type": "code",
   "execution_count": null,
   "id": "73c49a5f-dcec-4483-8d8b-0221ec630727",
   "metadata": {
    "tags": []
   },
   "outputs": [],
   "source": [
    "outfigdir = '/u/home/f/f7xiesnm/project-zipursky/v1-bb/v1/results_nrdr_lmm'\n",
    "!mkdir $outfigdir"
   ]
  },
  {
   "cell_type": "code",
   "execution_count": null,
   "id": "707f847e-d4e2-4ce2-8687-ebaf1caf5f45",
   "metadata": {},
   "outputs": [],
   "source": [
    "# use those 286 genes\n",
    "df = pd.read_csv(\"/u/home/f/f7xiesnm/project-zipursky/v1-bb/v1/data/cheng21_cell_scrna/res/L23-ABC-genes-n288-n286unq-annot_v3_july8_2024.csv\")\n",
    "genes_l23 = df['gene'].astype(str).values\n",
    "genes_l23a = df[df['P17on']=='A']['gene'].astype(str).values\n",
    "genes_l23b = df[df['P17on']=='B']['gene'].astype(str).values\n",
    "genes_l23c = df[df['P17on']=='C']['gene'].astype(str).values\n",
    "\n",
    "print(genes_l23a.shape, genes_l23b.shape, genes_l23c.shape)\n",
    "genes_grp = df['P17on'].astype(str).values\n",
    "assert len(genes_l23) == len(np.unique(genes_l23))\n",
    "\n",
    "genes_l23.shape"
   ]
  },
  {
   "cell_type": "code",
   "execution_count": null,
   "id": "0c764e4d-85cb-4ee5-88fe-ade60d9ac981",
   "metadata": {
    "tags": []
   },
   "outputs": [],
   "source": [
    "scores_abc = pd.read_csv(\"/u/home/f/f7xiesnm/project-zipursky/v1-bb/v1/data/v1_multiome/scores_l23abc.csv\", \n",
    "                         index_col=0,\n",
    "                        )\n",
    "scores_abc['scores_c-a'] = scores_abc['scores_c'] - scores_abc['scores_a']\n",
    "scores_abc"
   ]
  },
  {
   "cell_type": "code",
   "execution_count": null,
   "id": "97f1a545-c321-40ac-b7de-16e8fb5ec0e5",
   "metadata": {},
   "outputs": [],
   "source": [
    "adata = sc.read(\"/u/home/f/f7xiesnm/project-zipursky/v1-bb/v1/data/v1_multiome/superdupermegaRNA_hasraw_multiome_l23.h5ad\")\n",
    "adata.X = adata.raw.X\n",
    "adata"
   ]
  },
  {
   "cell_type": "code",
   "execution_count": null,
   "id": "5c9ec47a-97f1-4b34-83a6-08c96886131f",
   "metadata": {
    "tags": []
   },
   "outputs": [],
   "source": [
    "# remove mitocondria genes\n",
    "adata = adata[:,~adata.var.index.str.contains(r'^mt-')]\n",
    "\n",
    "# remove sex genes\n",
    "sex_genes = [\"Xist\", \"Uty\", \"Eif2s3y\", \"Kdm5d\", \"Ddx3y\"]\n",
    "adata = adata[:,[g for g in adata.var.index if g not in sex_genes]]\n",
    "\n",
    "# filter genes\n",
    "cond = np.ravel((adata.X>0).sum(axis=0)) > 10 # expressed in more than 10 cells\n",
    "adata = adata[:,cond].copy()\n",
    "# genes = adata.var.index.values\n",
    "\n",
    "adata"
   ]
  },
  {
   "cell_type": "code",
   "execution_count": null,
   "id": "55fdc01b-d3b4-41b8-8f3e-18135ead652e",
   "metadata": {
    "tags": []
   },
   "outputs": [],
   "source": [
    "np.array(natsorted(np.unique(adata.obs['Age'].values)))"
   ]
  },
  {
   "cell_type": "code",
   "execution_count": null,
   "id": "888aa598-7961-4c02-b4a7-a83aba0f3a28",
   "metadata": {
    "tags": []
   },
   "outputs": [],
   "source": [
    "adata.obs['scores_a'] = scores_abc.loc[adata.obs.index,'scores_a'].copy()\n",
    "adata.obs['scores_b'] = scores_abc.loc[adata.obs.index,'scores_b'].copy()\n",
    "adata.obs['scores_c'] = scores_abc.loc[adata.obs.index,'scores_c'].copy()\n",
    "adata.obs['scores_c-a'] = scores_abc.loc[adata.obs.index,'scores_c-a'].copy()\n",
    "adata.obs['cond'] = adata.obs['cond'].apply(lambda x: x.replace('NR', \"\"))\n",
    "\n",
    "sample_labels = adata.obs['Sample'].values\n",
    "time_labels = [s[:-1].replace('DR', '') for s in sample_labels]\n",
    "\n",
    "adata.obs['sample'] = sample_labels #\n",
    "adata.obs['time']   = time_labels\n",
    "\n",
    "uniq_samples = natsorted(np.unique(sample_labels))\n",
    "nr_samples = [s for s in uniq_samples if \"DR\" not in s]\n",
    "dr_samples = [s for s in uniq_samples if \"DR\" in s]\n",
    "\n",
    "uniq_conds = np.array(natsorted(np.unique(adata.obs['cond'].values)))\n",
    "\n",
    "nr_idx = np.array([0,1,2,4,6,8,10])\n",
    "dr_idx = np.array([3,5,7,9])\n",
    "\n",
    "nr_times = np.array([6,8,10,12,14,17,21])\n",
    "dr_times = np.array(       [12,14,17,21])\n",
    "print(uniq_conds)"
   ]
  },
  {
   "cell_type": "code",
   "execution_count": null,
   "id": "786b9b22-1afd-4455-99c0-617822d385dc",
   "metadata": {
    "tags": []
   },
   "outputs": [],
   "source": [
    "time = 'P17'\n",
    "exp_conds = [time, time+'DR']\n",
    "subclass  = 'L2/3'\n",
    "subclass_cure = subclass.replace('/', '')\n",
    "offset = 1e-2\n",
    "scale = 1e4\n",
    "num_archetypal_cells = 100\n",
    "\n",
    "adatasub_a = []\n",
    "adatasub_b = []\n",
    "adatasub_c = []\n",
    "adatasub_all = []\n",
    "\n",
    "for exp_cond in exp_conds: \n",
    "    adatasub = adata[(adata.obs['Age']==exp_cond) & (adata.obs['Subclass']==subclass)]\n",
    "    n_cells = adatasub.shape[0]\n",
    "    \n",
    "    # get A vs C \n",
    "    ranks_ac = adatasub.obs['scores_c-a'].rank()\n",
    "    ranks_b  = adatasub.obs['scores_b'].rank()\n",
    "    \n",
    "    precond_a = ranks_ac <= num_archetypal_cells\n",
    "    precond_c = ranks_ac > adatasub.shape[0] - num_archetypal_cells\n",
    "    precond_b = ranks_b  > adatasub.shape[0] - num_archetypal_cells\n",
    "    \n",
    "    cond_a = np.all([ precond_a, ~precond_b, ~precond_c], axis=0)\n",
    "    cond_b = np.all([~precond_a,  precond_b, ~precond_c], axis=0)\n",
    "    cond_c = np.all([~precond_a, ~precond_b,  precond_c], axis=0)\n",
    "    \n",
    "    adatasub_a.append(adatasub[cond_a])\n",
    "    adatasub_b.append(adatasub[cond_b])\n",
    "    adatasub_c.append(adatasub[cond_c])\n",
    "    adatasub_all.append(adatasub)\n",
    "\n",
    "adatasub_a = sc.concat(adatasub_a)\n",
    "adatasub_b = sc.concat(adatasub_b)\n",
    "adatasub_c = sc.concat(adatasub_c)\n",
    "adatasub_all = sc.concat(adatasub_all)"
   ]
  },
  {
   "cell_type": "code",
   "execution_count": null,
   "id": "306da436-c271-45c7-9c27-44cfdae3c65b",
   "metadata": {
    "tags": []
   },
   "outputs": [],
   "source": [
    "%%time\n",
    "for adatasub, tag in zip([adatasub_a, adatasub_b, adatasub_c, adatasub_all], \n",
    "                         ['A', 'B', 'C', 'ALL'],\n",
    "                        ) :\n",
    "    \n",
    "    # ### test\n",
    "    # adatasub = adatasub[:,:20]\n",
    "    # ### test\n",
    "    \n",
    "    genes = adatasub.var.index.values \n",
    "\n",
    "    obs_fixed = 'Age'\n",
    "    obs_random = 'Sample'\n",
    "    obs = adatasub.obs[[obs_fixed, obs_random]].copy()\n",
    "    obs = obs.dropna()\n",
    "\n",
    "    adatasub = adatasub[obs.index]\n",
    "\n",
    "    output = os.path.join(outfigdir, f'NRDR_DEGs_LMM_{time}_{subclass_cure}_{tag}_v2.csv')\n",
    "\n",
    "    # mat\n",
    "    mat = np.array(adatasub.X.todense())/adatasub.obs['total_counts'].values.reshape(-1,1)*scale\n",
    "\n",
    "    df_res = lmm.run_lmm(mat, genes, obs, obs_fixed, obs_random, output=output, offset=offset)"
   ]
  },
  {
   "cell_type": "code",
   "execution_count": null,
   "id": "c0fdfbb4-4534-48a2-bec4-e08d17fa77c9",
   "metadata": {},
   "outputs": [],
   "source": [
    "df_res"
   ]
  },
  {
   "cell_type": "code",
   "execution_count": null,
   "id": "c88a8fdc-33e3-409e-8154-b8d919a9d609",
   "metadata": {},
   "outputs": [],
   "source": [
    "# df_res.set_index('gene').loc['Nptx2']"
   ]
  },
  {
   "cell_type": "code",
   "execution_count": null,
   "id": "cf191f31-ced9-4078-8e9b-4bef0e854dda",
   "metadata": {
    "tags": []
   },
   "outputs": [],
   "source": [
    "df_res.set_index('gene').loc['Igsf9b']"
   ]
  },
  {
   "cell_type": "code",
   "execution_count": null,
   "id": "871a53c4-5773-4eb6-910f-51de6b1f6e4d",
   "metadata": {},
   "outputs": [],
   "source": []
  }
 ],
 "metadata": {
  "kernelspec": {
   "display_name": "Python 3 (ipykernel)",
   "language": "python",
   "name": "python3"
  },
  "language_info": {
   "codemirror_mode": {
    "name": "ipython",
    "version": 3
   },
   "file_extension": ".py",
   "mimetype": "text/x-python",
   "name": "python",
   "nbconvert_exporter": "python",
   "pygments_lexer": "ipython3",
   "version": "3.9.16"
  }
 },
 "nbformat": 4,
 "nbformat_minor": 5
}
