{
 "cells": [
  {
   "cell_type": "code",
   "execution_count": null,
   "id": "34b8554c-be80-41aa-9812-2a077cf607a2",
   "metadata": {
    "tags": []
   },
   "outputs": [],
   "source": [
    "import numpy as np\n",
    "from scipy import stats\n",
    "import pandas as pd\n",
    "import matplotlib.pyplot as plt\n",
    "import seaborn as sns\n",
    "import os\n",
    "\n",
    "\n",
    "from scroutines import powerplots"
   ]
  },
  {
   "cell_type": "code",
   "execution_count": null,
   "id": "facd968f-bf41-4c88-a2e1-275967560bab",
   "metadata": {
    "tags": []
   },
   "outputs": [],
   "source": [
    "!ls /u/home/f/f7xiesnm/project-zipursky/v1-bb/v1/data/Arlotta/*\n",
    "\n",
    "outdirfig = \"/u/home/f/f7xiesnm/project-zipursky/v1-bb/v1/figures/250521\"\n",
    "!mkdir -p $outdirfig"
   ]
  },
  {
   "cell_type": "code",
   "execution_count": null,
   "id": "50c60bea-b341-43d6-af70-08efb2e87df7",
   "metadata": {
    "tags": []
   },
   "outputs": [],
   "source": [
    "f1 = '/u/home/f/f7xiesnm/project-zipursky/v1-bb/v1/data/Arlotta/Arlotta_E17_expression-1.csv'\n",
    "f2 = '/u/home/f/f7xiesnm/project-zipursky/v1-bb/v1/data/Arlotta/Arlotta_E17_PCA.csv'\n",
    "\n",
    "df1 = pd.read_csv(f1, index_col=0)\n",
    "df2 = pd.read_csv(f2, index_col=0)\n",
    "\n",
    "df = df1.join(df2)\n",
    "df"
   ]
  },
  {
   "cell_type": "code",
   "execution_count": null,
   "id": "e534950b-b7d2-4969-a19f-58b917150f2d",
   "metadata": {
    "tags": []
   },
   "outputs": [],
   "source": [
    "dfplot = df.sample(frac=1, replace=False)\n",
    "\n",
    "cols = ['Zbtb20', 'Meis2', 'Nfib', 'Foxp1']\n",
    "n = len(cols)\n",
    "\n",
    "fig, axs = plt.subplots(1, n, figsize=(n*3, 1*3), sharex=True, sharey=True)\n",
    "for ax, col in zip(axs, cols):\n",
    "    # vals = stats.zscore(dfplot[col].values)\n",
    "    vals = dfplot[col].values\n",
    "    vmin = np.percentile(vals,  5) \n",
    "    vmax = np.percentile(vals, 95) \n",
    "    print(col, vmin, vmax)\n",
    "    ax.scatter(-dfplot['PC_1'].values, dfplot['PC_3'].values, c=vals, vmin=vmin, vmax=vmax, cmap='coolwarm', s=5, edgecolor='none', rasterized=True)\n",
    "    ax.set_aspect('equal')\n",
    "    ax.set_xticks([])\n",
    "    ax.set_yticks([])\n",
    "    ax.set_title(col)\n",
    "    sns.despine(ax=ax)\n",
    "    \n",
    "output = os.path.join(outdirfig, 'arlotta.pdf')\n",
    "powerplots.savefig_autodate(fig, output)\n",
    "plt.show()"
   ]
  },
  {
   "cell_type": "code",
   "execution_count": null,
   "id": "35ad227e-3514-4ed5-854a-916c9db44252",
   "metadata": {
    "tags": []
   },
   "outputs": [],
   "source": [
    "dfplot = df.sample(frac=1, replace=False)\n",
    "\n",
    "cols = ['Zbtb20', 'Meis2', 'Nfib', 'Foxp1']\n",
    "n = len(cols)\n",
    "\n",
    "fig, axs = plt.subplots(1, n, figsize=(n*3, 1*3), sharex=True, sharey=True)\n",
    "for ax, col in zip(axs, cols):\n",
    "    # vals = stats.zscore(dfplot[col].values)\n",
    "    vals = dfplot[col].values\n",
    "    vmin = np.percentile(vals,  5) \n",
    "    vmax = np.percentile(vals, 95) \n",
    "    print(col, vmin, vmax)\n",
    "    ax.scatter(-dfplot['PC_1'].values, vals,s=5) #dfplot['PC_3'].values, \n",
    "               #c=vals, vmin=vmin, vmax=vmax, cmap='coolwarm', s=5, edgecolor='none', rasterized=True)\n",
    "    # ax.set_aspect('equal')\n",
    "    ax.set_xticks([])\n",
    "    ax.set_yticks([])\n",
    "    ax.set_title(col)\n",
    "    sns.despine(ax=ax)\n",
    "    \n",
    "# output = os.path.join(outdirfig, 'arlotta.pdf')\n",
    "# powerplots.savefig_autodate(fig, output)\n",
    "plt.show()"
   ]
  },
  {
   "cell_type": "code",
   "execution_count": null,
   "id": "df8821a9-2f19-4c69-8d52-30f3272b7d16",
   "metadata": {
    "tags": []
   },
   "outputs": [],
   "source": [
    "sns.histplot(dfplot['Nfib'])"
   ]
  }
 ],
 "metadata": {
  "kernelspec": {
   "display_name": "Python 3 (ipykernel)",
   "language": "python",
   "name": "python3"
  },
  "language_info": {
   "codemirror_mode": {
    "name": "ipython",
    "version": 3
   },
   "file_extension": ".py",
   "mimetype": "text/x-python",
   "name": "python",
   "nbconvert_exporter": "python",
   "pygments_lexer": "ipython3",
   "version": "3.9.16"
  }
 },
 "nbformat": 4,
 "nbformat_minor": 5
}
