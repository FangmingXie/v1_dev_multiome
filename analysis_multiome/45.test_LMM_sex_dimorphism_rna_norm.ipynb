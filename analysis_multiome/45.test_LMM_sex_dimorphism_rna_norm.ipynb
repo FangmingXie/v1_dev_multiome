{
 "cells": [
  {
   "cell_type": "code",
   "execution_count": null,
   "id": "30b97a56-8884-4718-a56d-fc8af8e882e7",
   "metadata": {},
   "outputs": [],
   "source": [
    "import pandas as pd\n",
    "import numpy as np\n",
    "import statsmodels.formula.api as smf\n",
    "from statsmodels.stats.multitest import multipletests\n",
    "\n",
    "\n",
    "import scanpy as sc"
   ]
  },
  {
   "cell_type": "code",
   "execution_count": null,
   "id": "ca873fdf-d016-4497-b82a-b7a6695859cf",
   "metadata": {},
   "outputs": [],
   "source": [
    "f = '/u/home/f/f7xiesnm/v1_multiome/multiome_cell_sex_assignment_saumya.csv'\n",
    "df_sex = pd.read_csv(f)\n",
    "df_sex"
   ]
  },
  {
   "cell_type": "code",
   "execution_count": null,
   "id": "7508e4b9-241a-42ea-9d4a-42d0a9220de0",
   "metadata": {
    "tags": []
   },
   "outputs": [],
   "source": [
    "f = '/u/home/f/f7xiesnm/project-zipursky/v1-bb/v1/data/v1_multiome/superdupermegaRNA_hasraw_multiome_l23.h5ad'\n",
    "adata = sc.read(f)\n",
    "adata"
   ]
  },
  {
   "cell_type": "code",
   "execution_count": null,
   "id": "312da936-78f1-41ba-8d6a-be5b4429cba2",
   "metadata": {
    "tags": []
   },
   "outputs": [],
   "source": [
    "adata.obs = adata.obs.join(df_sex.set_index('cell'))"
   ]
  },
  {
   "cell_type": "code",
   "execution_count": null,
   "id": "306da436-c271-45c7-9c27-44cfdae3c65b",
   "metadata": {
    "tags": []
   },
   "outputs": [],
   "source": [
    "adatasub = adata[(adata.obs['Age']=='P17') & (adata.obs['Subclass']=='L2/3')]\n",
    "adatasub"
   ]
  },
  {
   "cell_type": "code",
   "execution_count": null,
   "id": "39b93ad0-91f4-43ae-a76d-c64bcbd70abd",
   "metadata": {
    "tags": []
   },
   "outputs": [],
   "source": [
    "# normalize\n",
    "mat = np.log2(np.array(adatasub.raw.X.todense())/adatasub.obs['total_counts'].values.reshape(-1,1)*1e4+1)\n",
    "mat\n"
   ]
  },
  {
   "cell_type": "code",
   "execution_count": null,
   "id": "03e51e55-13ca-48b8-8311-8f9e1933c1f0",
   "metadata": {
    "tags": []
   },
   "outputs": [],
   "source": [
    "df = pd.DataFrame(mat, columns=adatasub.var.index.values, index=adatasub.obs.index)\n",
    "df = df.join(adatasub.obs[['sex', 'Sample']])\n",
    "df = df.dropna()\n",
    "df"
   ]
  },
  {
   "cell_type": "code",
   "execution_count": null,
   "id": "81ce6cf0-9f88-455a-88c4-d1942e9ecb67",
   "metadata": {
    "tags": []
   },
   "outputs": [],
   "source": [
    "gene = 'Xist'\n",
    "\n",
    "# Fit LMM: random intercept model\n",
    "model = smf.mixedlm(f\"{gene} ~ sex\", df, groups=\"Sample\")\n",
    "result = model.fit()\n",
    "print(result.summary())"
   ]
  },
  {
   "cell_type": "code",
   "execution_count": null,
   "id": "f100bab3-4097-41e0-9a67-a6bc95fdd85a",
   "metadata": {
    "tags": []
   },
   "outputs": [],
   "source": [
    "pval = result.pvalues['sex[T.male]']\n",
    "pval"
   ]
  },
  {
   "cell_type": "code",
   "execution_count": null,
   "id": "8c698964-9b2c-4d25-8425-8a4ed461d099",
   "metadata": {
    "tags": []
   },
   "outputs": [],
   "source": [
    "# rejs, qvals = multipletests(pvals, alpha=0.05, method='fdr_bh')"
   ]
  },
  {
   "cell_type": "code",
   "execution_count": null,
   "id": "821c6fc8-ea55-442d-9df8-7441ae6f7ad2",
   "metadata": {},
   "outputs": [],
   "source": []
  }
 ],
 "metadata": {
  "kernelspec": {
   "display_name": "Python 3 (ipykernel)",
   "language": "python",
   "name": "python3"
  },
  "language_info": {
   "codemirror_mode": {
    "name": "ipython",
    "version": 3
   },
   "file_extension": ".py",
   "mimetype": "text/x-python",
   "name": "python",
   "nbconvert_exporter": "python",
   "pygments_lexer": "ipython3",
   "version": "3.9.16"
  }
 },
 "nbformat": 4,
 "nbformat_minor": 5
}
