{
 "cells": [
  {
   "cell_type": "code",
   "execution_count": null,
   "id": "bb214b6d-836a-49b8-93dd-a19f021215b7",
   "metadata": {
    "tags": []
   },
   "outputs": [],
   "source": [
    "import os\n",
    "import numpy as np\n",
    "import pandas as pd\n",
    "import scanpy as sc\n",
    "import anndata \n",
    "import seaborn as sns\n",
    "from scipy.stats import zscore\n",
    "import matplotlib.pyplot as plt\n",
    "import collections\n",
    "from natsort import natsorted\n",
    "\n",
    "from scipy import stats\n",
    "from scipy import sparse\n",
    "from sklearn.decomposition import PCA\n",
    "from umap import UMAP\n",
    "\n",
    "from matplotlib.colors import LinearSegmentedColormap\n",
    "\n",
    "from scroutines.config_plots import *\n",
    "from scroutines import powerplots # .config_plots import *\n",
    "from scroutines import pnmf\n",
    "from scroutines import basicu\n"
   ]
  },
  {
   "cell_type": "code",
   "execution_count": null,
   "id": "f45abc88-0cbc-4575-8035-9cb157c42bc2",
   "metadata": {},
   "outputs": [],
   "source": [
    "outdir_fig = \"/u/home/f/f7xiesnm/project-zipursky/v1-bb/v1/figures\""
   ]
  },
  {
   "cell_type": "markdown",
   "id": "ba1f61ee-ba83-4707-816d-37eb33a54b83",
   "metadata": {},
   "source": [
    "# load gene annotation and data"
   ]
  },
  {
   "cell_type": "code",
   "execution_count": null,
   "id": "e2945163-289c-48bf-9147-d5070e4deb8a",
   "metadata": {
    "tags": []
   },
   "outputs": [],
   "source": [
    "import importlib\n",
    "import scroutines\n",
    "import scroutines.gene_modules\n",
    "importlib.reload(scroutines)\n",
    "importlib.reload(scroutines.gene_modules)\n",
    "\n",
    "from scroutines.gene_modules import GeneModules  \n",
    "gene_modules = GeneModules()\n",
    "g_anno, g_color, g_styled = gene_modules.check_genes('Cdh13')\n",
    "print(\"\\t\".join(g_anno))\n",
    "print(\"\\t\".join(g_color))\n",
    "print(\"\\t\".join(g_styled))"
   ]
  },
  {
   "cell_type": "code",
   "execution_count": null,
   "id": "012e0c55-888e-43b8-bb75-846ef63d3f26",
   "metadata": {
    "tags": []
   },
   "outputs": [],
   "source": [
    "# AC genes\n",
    "f = '/u/home/f/f7xiesnm/project-zipursky/v1-bb/v1/data/v1_multiome/Saumya_P6-21_AC_genes.csv'\n",
    "df = pd.read_csv(f)\n",
    "\n",
    "df_a = df.iloc[:25]\n",
    "df_c = df.iloc[25:]\n",
    "\n",
    "alltime_a = np.unique(df_a.values)\n",
    "alltime_c = np.unique(df_c.values)\n",
    "alltime_ac = np.hstack([alltime_a, alltime_c])\n",
    "\n",
    "ac_overlap = np.intersect1d(alltime_a, alltime_c)\n",
    "\n",
    "print(df_a.shape, df_c.shape, alltime_a.shape, alltime_c.shape, alltime_ac.shape, ac_overlap.shape)\n",
    "df.head()"
   ]
  },
  {
   "cell_type": "code",
   "execution_count": null,
   "id": "fb72ade4-5ddd-4d8d-9d66-847375e16845",
   "metadata": {},
   "outputs": [],
   "source": [
    "# use those 286 genes\n",
    "# df = pd.read_csv(\"../../data/cheng21_cell_scrna/res/candidate_genes_vincent_0503_v2.csv\")\n",
    "df = pd.read_csv(\"../../data/cheng21_cell_scrna/res/L23-ABC-genes-n288-n286unq-annot.csv\")\n",
    "genes_l23 = df['gene'].astype(str).values\n",
    "genes_l23a = df[df['P17on']=='A']['gene'].astype(str).values\n",
    "genes_l23b = df[df['P17on']=='B']['gene'].astype(str).values\n",
    "genes_l23c = df[df['P17on']=='C']['gene'].astype(str).values\n",
    "\n",
    "print(genes_l23a.shape, genes_l23b.shape, genes_l23c.shape)\n",
    "genes_grp = df['P17on'].astype(str).values\n",
    "assert len(genes_l23) == len(np.unique(genes_l23))\n",
    "\n",
    "genes_l23.shape"
   ]
  },
  {
   "cell_type": "code",
   "execution_count": null,
   "id": "8542eec8-b8e1-4a35-9237-0d3c0043349b",
   "metadata": {},
   "outputs": [],
   "source": [
    "%%time\n",
    "adata = anndata.read(\"../../data/v1_multiome/L23_allmultiome_proc_P6toP21.h5ad\")\n",
    "adata"
   ]
  },
  {
   "cell_type": "code",
   "execution_count": null,
   "id": "4909ea27-eafc-4571-aee4-afb718a5a171",
   "metadata": {
    "tags": []
   },
   "outputs": [],
   "source": [
    "# # define\n",
    "genes = adata.var.index.values\n",
    "conds = adata.obs['cond'].values\n",
    "types = adata.obs['Type'].values\n",
    "samps = adata.obs['sample'].values\n",
    "\n",
    "# switch back to float64\n",
    "adata.layers[    'norm'] = adata.layers['norm'][...].astype(np.float64)\n",
    "adata.layers[ 'lognorm'] = np.log10(1+adata.layers['norm'][...]) # np.array(xln.todense())\n",
    "adata.layers['zlognorm'] = zscore(adata.layers['lognorm'][...], axis=0)"
   ]
  },
  {
   "cell_type": "code",
   "execution_count": null,
   "id": "2710199e-e053-41b4-9838-dc1f261e1b22",
   "metadata": {
    "tags": []
   },
   "outputs": [],
   "source": [
    "pcs_p8 = adata.obsm['pca_p8']\n",
    "pcs_p17on = adata.obsm['pca_p17on']\n",
    "\n",
    "res0 = pd.DataFrame(adata.layers['zlognorm'][...], columns=genes)\n",
    "res0['cond'] = conds\n",
    "res0['type'] = types\n",
    "res0['samp'] = samps\n",
    "res0['rep']  = [samp[-1] for samp in samps]\n",
    "res0['type'] = np.char.add('c', res0['type'].values.astype(str))\n",
    "\n",
    "res1 = pd.DataFrame(pcs_p8, columns=np.char.add(\"p8PC\", ((1+np.arange(pcs_p8.shape[1])).astype(str))))\n",
    "res2 = pd.DataFrame(pcs_p17on, columns=np.char.add(\"p17onPC\", ((1+np.arange(pcs_p17on.shape[1])).astype(str))))\n",
    "res = pd.concat([res0, res1, res2], axis=1)"
   ]
  },
  {
   "cell_type": "code",
   "execution_count": null,
   "id": "7d39cdaa-ad88-4aa2-8313-5ee56c0f37e8",
   "metadata": {
    "tags": []
   },
   "outputs": [],
   "source": [
    "allcolors = sns.color_palette('tab20c', 20)\n",
    "allcolors"
   ]
  },
  {
   "cell_type": "code",
   "execution_count": null,
   "id": "b9738b71-19bb-4e6d-ba3d-e38215a3347b",
   "metadata": {
    "tags": []
   },
   "outputs": [],
   "source": [
    "allcolors2 = sns.color_palette('tab10', 20)\n",
    "allcolors2"
   ]
  },
  {
   "cell_type": "code",
   "execution_count": null,
   "id": "3e8e4d75-2d87-4c0a-a809-43053850bc71",
   "metadata": {
    "tags": []
   },
   "outputs": [],
   "source": [
    "palette = collections.OrderedDict({\n",
    "     \"P6\": allcolors[2],\n",
    "     \"P8\": allcolors[1],\n",
    "    \"P10\": allcolors[0],\n",
    "    \"P12\": allcolors[4+2],\n",
    "    \"P14\": allcolors[4+0],\n",
    "    \n",
    "    \"P17\": allcolors[8+2],\n",
    "    \"P21\": allcolors[8+0],\n",
    "    \n",
    "})\n",
    "cases = np.array(list(palette.keys()))\n",
    "\n",
    "cond_order_dict = {\n",
    "    'P6':  0,\n",
    "    'P8':  1,\n",
    "    'P10': 2,\n",
    "    'P12': 3,\n",
    "    'P14': 4,\n",
    "    'P17': 5,\n",
    "    'P21': 6,\n",
    "}\n",
    "unq_conds = np.array(list(cond_order_dict.keys()))\n",
    "adata.obs['cond_order'] = adata.obs['cond'].apply(lambda x: cond_order_dict[x])\n",
    "\n",
    "palette_types = collections.OrderedDict({\n",
    "    'L2/3_A': allcolors2[0],\n",
    "    'L2/3_B': allcolors2[1],\n",
    "    'L2/3_C': allcolors2[2],\n",
    "})             \n",
    "\n",
    "palette_types = {\n",
    "    'c14': 'C0', \n",
    "    'c18': 'C1',\n",
    "    'c16': 'C2', \n",
    "    \n",
    "    'c13': 'C0', \n",
    "    'c15': 'C1', \n",
    "    'c17': 'C2',\n",
    "}\n",
    "type_order = [key for key, val in palette_types.items()]\n",
    "type_order"
   ]
  },
  {
   "cell_type": "code",
   "execution_count": null,
   "id": "2049f5e8-35f0-4169-836f-262a1b9cb447",
   "metadata": {
    "tags": []
   },
   "outputs": [],
   "source": [
    "from scipy import stats\n",
    "from matplotlib.ticker import MaxNLocator\n",
    "\n",
    "def plot(x, y, aspect_equal=False, density=False, hue='type'):\n",
    "    n = 7\n",
    "    fig, axs = plt.subplots(1,n,figsize=(4*n,4*1), sharex=True, sharey=True)\n",
    "    for i, (ax, cond) in enumerate(zip(axs.flat, cases)):\n",
    "        ax.set_title(cond)\n",
    "        sns.scatterplot(data=res, \n",
    "                        x=x, y=y, \n",
    "                        c='lightgray',\n",
    "                        s=1, edgecolor='none', \n",
    "                        legend=False,\n",
    "                        ax=ax,\n",
    "                       )\n",
    "        if hue == 'type':\n",
    "            sns.scatterplot(data=res[res['cond']==cond].sample(frac=1, replace=False),\n",
    "                            x=x, y=y, \n",
    "                            hue='type',\n",
    "                            hue_order=list(palette_types.keys()),\n",
    "                            palette=palette_types,\n",
    "                            s=3, edgecolor='none', \n",
    "                            legend=False,\n",
    "                            ax=ax,\n",
    "                           )\n",
    "        else:\n",
    "            sns.scatterplot(data=res[res['cond']==cond].sample(frac=1, replace=False),\n",
    "                            x=x, y=y, \n",
    "                            hue='rep',\n",
    "                            # hue_order=list(palette_types.keys()),\n",
    "                            # palette=palette_types,\n",
    "                            s=3, edgecolor='none', \n",
    "                            legend=False,\n",
    "                            ax=ax,\n",
    "                           )\n",
    "            \n",
    "        if density:\n",
    "            sns.histplot(data=res[res['cond']==cond],\n",
    "                            x=x, y=y, \n",
    "                            legend=False,\n",
    "                            ax=ax,\n",
    "                           )\n",
    "        sns.despine(ax=ax)\n",
    "        ax.xaxis.set_major_locator(MaxNLocator(nbins=3))\n",
    "        ax.yaxis.set_major_locator(MaxNLocator(nbins=3))\n",
    "        if aspect_equal:\n",
    "            ax.set_aspect('equal')\n",
    "        if i > 0:\n",
    "            ax.set_xlabel('')\n",
    "            ax.set_ylabel('')\n",
    "    plt.show()\n",
    "    \n",
    "def plot2(x, y, hue=None, aspect_equal=False):\n",
    "    n = 7\n",
    "    fig, axs = plt.subplots(1,n,figsize=(4*n,4*1), sharex=True, sharey=True)\n",
    "    fig.suptitle(hue, x=0, ha='left')\n",
    "    for i, (ax, cond) in enumerate(zip(axs.flat, cases)):\n",
    "        ax.set_title(cond)\n",
    "        sns.scatterplot(data=res, \n",
    "                        x=x, y=y, \n",
    "                        c='lightgray',\n",
    "                        alpha=0.3,\n",
    "                        s=1, edgecolor='none', \n",
    "                        legend=False,\n",
    "                        ax=ax,\n",
    "                       )\n",
    "        show = res[res['cond']==cond]\n",
    "        if hue:\n",
    "            ax.scatter(show[x], show[y], c=show[hue], \n",
    "                       cmap='coolwarm',\n",
    "                       vmin=-3, vmax=3,\n",
    "                       s=5, \n",
    "                       edgecolor='none', \n",
    "                      )\n",
    "        else:\n",
    "            r, p = stats.spearmanr(show[x], show[y])\n",
    "            ax.scatter(show[x], show[y],  \n",
    "                       s=5, \n",
    "                       edgecolor='none', \n",
    "                      )\n",
    "            ax.set_title(f'{cond}\\n r={r:.2f}')\n",
    "        sns.despine(ax=ax)\n",
    "        ax.xaxis.set_major_locator(MaxNLocator(nbins=3))\n",
    "        ax.yaxis.set_major_locator(MaxNLocator(nbins=3))\n",
    "        if aspect_equal:\n",
    "            ax.set_aspect('equal')\n",
    "        if i > 0:\n",
    "            ax.set_xlabel('')\n",
    "            ax.set_ylabel('')\n",
    "        ax.grid(False)\n",
    "    fig.tight_layout()\n",
    "    plt.show()"
   ]
  },
  {
   "cell_type": "markdown",
   "id": "6b85be99-851d-4901-babe-451778af4770",
   "metadata": {},
   "source": [
    "# Plot A vs C genes aligning cells along early vs late PCs"
   ]
  },
  {
   "cell_type": "code",
   "execution_count": null,
   "id": "092f2cfa-1238-4fb1-b42d-13921e417816",
   "metadata": {
    "tags": []
   },
   "outputs": [],
   "source": [
    "plot('p17onPC1', 'p17onPC2', aspect_equal=True)\n",
    "plot('p8PC1', 'p8PC2', aspect_equal=True)"
   ]
  },
  {
   "cell_type": "markdown",
   "id": "f2273d28-a649-4b3e-b17c-75eaea4476f2",
   "metadata": {},
   "source": [
    "# get top 20% A vs C in each case"
   ]
  },
  {
   "cell_type": "code",
   "execution_count": null,
   "id": "e6efe821-a677-4357-b509-75bb28cdaf94",
   "metadata": {
    "tags": []
   },
   "outputs": [],
   "source": [
    "from statsmodels.stats.multitest import multipletests"
   ]
  },
  {
   "cell_type": "code",
   "execution_count": null,
   "id": "09d57655-c050-4842-a623-8fd8cac63496",
   "metadata": {
    "tags": []
   },
   "outputs": [],
   "source": [
    "qs_avc = []\n",
    "l2fc_avc = []\n",
    "\n",
    "for cond_order, obssub in adata.obs.groupby('cond_order'):\n",
    "    # get sub\n",
    "    adatasub = adata[obssub.index]\n",
    "    \n",
    "    # get A vs C \n",
    "    x = adatasub.obsm['pca_p17on'][...,0]\n",
    "    cond_a = x < np.percentile(x,20)\n",
    "    cond_c = x > np.percentile(x,80)\n",
    "    adatasub_a = adatasub[cond_a]\n",
    "    adatasub_c = adatasub[cond_c]\n",
    "    \n",
    "    # DEGs\n",
    "    mat_a = adatasub_a.layers['lognorm'][...]\n",
    "    mat_c = adatasub_c.layers['lognorm'][...]\n",
    "    ts, ps = stats.ttest_ind(mat_a, mat_c)\n",
    "    rs, qs, _, _ = multipletests(np.nan_to_num(ps, nan=1).reshape(-1,), method='fdr_bh') # why nan in ps -- not expressed\n",
    "    lfc = np.log2(10)*(np.mean(mat_c, axis=0) - np.mean(mat_a, axis=0)) # log2FC (log10CPM as raw counts)\n",
    "    \n",
    "    num_sig = np.sum(np.logical_and(qs < 0.05, np.abs(lfc) > 1))\n",
    "    print(cond_order, adatasub_a.shape, num_sig)\n",
    "    \n",
    "    # save this\n",
    "    qs_avc.append(qs)\n",
    "    l2fc_avc.append(lfc)\n",
    "    \n",
    "qs_avc = np.array(qs_avc)\n",
    "l2fc_avc = np.array(l2fc_avc)"
   ]
  },
  {
   "cell_type": "code",
   "execution_count": null,
   "id": "f1a5dcb5-ea18-4d0f-a201-aee9ee158b5f",
   "metadata": {
    "tags": []
   },
   "outputs": [],
   "source": [
    "adata.uns['qs_avc'] = qs_avc\n",
    "adata.uns['l2fc_avc'] = l2fc_avc\n",
    "adata"
   ]
  },
  {
   "cell_type": "code",
   "execution_count": null,
   "id": "dd2e7261-6a41-42fb-aa63-df5aa04bade4",
   "metadata": {
    "tags": []
   },
   "outputs": [],
   "source": [
    "l2fc_th = 1\n",
    "alpha_th = 0.05\n",
    "cond_sig   = np.logical_and(qs_avc < alpha_th, np.abs(l2fc_avc) > l2fc_th)\n",
    "cond_sig_c = np.logical_and(qs_avc < alpha_th, l2fc_avc >  l2fc_th)\n",
    "cond_sig_a = np.logical_and(qs_avc < alpha_th, l2fc_avc < -l2fc_th)\n",
    "\n",
    "print('num AvsC-DEGs per cond:\\t', cond_sig.sum(axis=1))\n",
    "print('num A-DEGs per cond:\\t',    cond_sig_a.sum(axis=1))\n",
    "print('num C-DEGs per cond:\\t',    cond_sig_c.sum(axis=1))"
   ]
  },
  {
   "cell_type": "code",
   "execution_count": null,
   "id": "08acf031-42f7-4a23-bbdc-3dcb81eb43b8",
   "metadata": {
    "tags": []
   },
   "outputs": [],
   "source": [
    "gene_sig_instances   = cond_sig.sum(axis=0)\n",
    "gene_sig_instances_a = cond_sig_a.sum(axis=0)\n",
    "gene_sig_instances_c = cond_sig_c.sum(axis=0)\n",
    "\n",
    "instances, counts = np.unique(gene_sig_instances, return_counts=True)\n",
    "instances_a, counts_a = np.unique(gene_sig_instances_a, return_counts=True)\n",
    "instances_c, counts_c = np.unique(gene_sig_instances_c, return_counts=True)\n",
    "\n",
    "print('num AvsC-DEGs in num conds:\\t',  counts  , np.any(cond_sig, axis=0).sum())\n",
    "print('num A-DEGs in num conds:\\t',     counts_a, np.any(cond_sig_a, axis=0).sum())\n",
    "print('num C-DEGs in num conds:\\t',     counts_c, np.any(cond_sig_c, axis=0).sum())"
   ]
  },
  {
   "cell_type": "code",
   "execution_count": null,
   "id": "e849ad65-3232-4ae4-a6eb-0b6a608df459",
   "metadata": {
    "tags": []
   },
   "outputs": [],
   "source": [
    "a_any = np.sort(adata.var[np.any(cond_sig_a, axis=0)].index.values)\n",
    "c_any = np.sort(adata.var[np.any(cond_sig_c, axis=0)].index.values)\n",
    "a_all = np.sort(adata.var[np.all(cond_sig_a, axis=0)].index.values)\n",
    "c_all = np.sort(adata.var[np.all(cond_sig_c, axis=0)].index.values)\n",
    "ac_overlap = np.sort(adata.var[np.logical_and(np.any(cond_sig_a, axis=0), np.any(cond_sig_c, axis=0))].index.values)\n",
    "\n",
    "print('a any', a_any)\n",
    "print('c any', c_any)\n",
    "print('a all', a_all)\n",
    "print('c all', c_all)\n",
    "print('ac overlap', ac_overlap)"
   ]
  },
  {
   "cell_type": "code",
   "execution_count": null,
   "id": "ac1f411d-7463-4b75-bf4a-dd4ae4185490",
   "metadata": {
    "tags": []
   },
   "outputs": [],
   "source": [
    "a_all_annots, a_all_styled, a_all_annots_styled = gene_modules.check_genes(a_all)\n",
    "c_all_annots, c_all_styled, c_all_annots_styled = gene_modules.check_genes(c_all)\n",
    "\n",
    "print(\"\\t\".join(a_all))\n",
    "print(\"\\t\".join(a_all_annots_styled)) # _styled))"
   ]
  },
  {
   "cell_type": "code",
   "execution_count": null,
   "id": "4c198647-1f2a-490b-b467-9fdbe494dc9b",
   "metadata": {
    "tags": []
   },
   "outputs": [],
   "source": [
    "print(\"\\t\".join(c_all))\n",
    "print(\"\\t\".join(c_all_annots_styled)) # _styled))"
   ]
  },
  {
   "cell_type": "code",
   "execution_count": null,
   "id": "0261f5b2-ac48-4c80-bda1-e6c2147c84c1",
   "metadata": {
    "tags": []
   },
   "outputs": [],
   "source": [
    "print(\"\\033[0;m alltime A:\", \"\\t\".join(a_all_styled))\n",
    "print(\"\\033[0;m alltime C:\", \"\\t\".join(c_all_styled))"
   ]
  },
  {
   "cell_type": "code",
   "execution_count": null,
   "id": "2ad1260e-d8ad-474b-820f-1480ac92c889",
   "metadata": {
    "tags": []
   },
   "outputs": [],
   "source": [
    "fig, ax = plt.subplots(1,1,figsize=(4,4))\n",
    "ax.bar(np.arange(1,1+7)-0.2, cond_sig_a.sum(axis=1), label='A', color='C0', width=0.4, edgecolor='none')\n",
    "ax.bar(np.arange(1,1+7)+0.2, cond_sig_c.sum(axis=1), label='C', color='C2', width=0.4, edgecolor='none')\n",
    "ax.set_xticklabels(['6', '8', '10', '12', '14', '17', '21'])\n",
    "ax.set_xticks(np.arange(1,1+7))\n",
    "ax.grid(False, axis='x')\n",
    "\n",
    "ax.set_ylim(ymin=0)\n",
    "ax.legend()\n",
    "ax.set_ylabel('number of gene instances')\n",
    "ax.set_xlabel('time (P)')\n",
    "sns.despine(ax=ax)\n",
    "plt.show()"
   ]
  },
  {
   "cell_type": "code",
   "execution_count": null,
   "id": "c2867aef-e468-4f8d-863c-309d880bb892",
   "metadata": {
    "tags": []
   },
   "outputs": [],
   "source": [
    "cond_sig_a.sum(axis=1).sum()"
   ]
  },
  {
   "cell_type": "code",
   "execution_count": null,
   "id": "a686ee72-f827-4071-bf2f-03bccfb7585f",
   "metadata": {
    "tags": []
   },
   "outputs": [],
   "source": [
    "cond_sig_c.sum(axis=1).sum()"
   ]
  },
  {
   "cell_type": "code",
   "execution_count": null,
   "id": "c3cf1368-d878-4651-9067-a57b5f49d4e4",
   "metadata": {
    "tags": []
   },
   "outputs": [],
   "source": [
    "fig, ax = plt.subplots(1,1,figsize=(4,4))\n",
    "ax.bar(np.arange(1,1+7)-0.2, counts_a[1:], label='A', color='C0', width=0.4, edgecolor='none')\n",
    "ax.bar(np.arange(1,1+7)+0.2, counts_c[1:], label='C', color='C2', width=0.4, edgecolor='none')\n",
    "ax.set_xticks(np.arange(1,1+7))\n",
    "ax.grid(False, axis='x')\n",
    "\n",
    "ax.set_ylim(ymin=0)\n",
    "ax.legend()\n",
    "ax.set_ylabel('number of genes')\n",
    "ax.set_xlabel('number of time points')\n",
    "sns.despine(ax=ax)\n",
    "plt.show()"
   ]
  },
  {
   "cell_type": "code",
   "execution_count": null,
   "id": "14e39d59-d492-4996-be86-5adf810d6d5e",
   "metadata": {
    "tags": []
   },
   "outputs": [],
   "source": [
    "fig, ax = plt.subplots(1,1,figsize=(4,4))\n",
    "ax.bar(np.arange(3)-0.2, [np.sum(counts_a[1:4]), np.sum(counts_a[4:7]), counts_a[7]], label='A', color='C0', width=0.4, edgecolor='none')\n",
    "ax.bar(np.arange(3)+0.2, [np.sum(counts_c[1:4]), np.sum(counts_c[4:7]), counts_c[7]], label='C', color='C2', width=0.4, edgecolor='none')\n",
    "ax.set_xticks(np.arange(3))\n",
    "ax.set_xticklabels(['1~3', '4~6', '7 (all)'])\n",
    "ax.grid(False, axis='x')\n",
    "\n",
    "ax.set_ylim(ymin=0)\n",
    "ax.legend()\n",
    "ax.set_ylabel('number of genes')\n",
    "ax.set_xlabel('number of time points')\n",
    "sns.despine(ax=ax)\n",
    "plt.show()"
   ]
  },
  {
   "cell_type": "code",
   "execution_count": null,
   "id": "10499d81-b4ac-465c-bae3-9992727ba879",
   "metadata": {
    "tags": []
   },
   "outputs": [],
   "source": [
    "fig, ax = plt.subplots(1,1,figsize=(4,4))\n",
    "ax.bar(np.arange(1)-0.2, [np.sum(counts_a[1:])], label='A', color='C0', width=0.4, edgecolor='none')\n",
    "ax.bar(np.arange(1)+0.2, [np.sum(counts_c[1:])], label='C', color='C2', width=0.4, edgecolor='none')\n",
    "ax.set_xticks(np.arange(3))\n",
    "ax.grid(False, axis='x')\n",
    "\n",
    "ax.set_ylim(ymin=0)\n",
    "ax.legend()\n",
    "ax.set_ylabel('number of genes')\n",
    "sns.despine(ax=ax)\n",
    "plt.show()"
   ]
  },
  {
   "cell_type": "code",
   "execution_count": null,
   "id": "749b6644-fceb-4f07-a7fb-039e39a77fc6",
   "metadata": {},
   "outputs": [],
   "source": []
  },
  {
   "cell_type": "code",
   "execution_count": null,
   "id": "83c3811a-dcf3-4985-93e7-031100d4e684",
   "metadata": {},
   "outputs": [],
   "source": [
    "# %%time\n",
    "# fout1 = '/u/home/f/f7xiesnm/project-zipursky/v1-bb/v1/data/v1_multiome/rna_qs_avc_p6to21.txt'\n",
    "# fout2 = '/u/home/f/f7xiesnm/project-zipursky/v1-bb/v1/data/v1_multiome/rna_l2fc_avc_p6to21.txt'\n",
    "\n",
    "# np.savetxt(fout1, qs_avc)\n",
    "# np.savetxt(fout2, l2fc_avc)"
   ]
  },
  {
   "cell_type": "markdown",
   "id": "b3848f6e-1365-4f5a-9d7e-cbc6ddcbd4b6",
   "metadata": {},
   "source": [
    "# Volcano"
   ]
  },
  {
   "cell_type": "code",
   "execution_count": null,
   "id": "dca633d6-8bbf-43ac-87c2-fcd773d33ccf",
   "metadata": {
    "tags": []
   },
   "outputs": [],
   "source": [
    "def show_volcano_v2(thetypeidx, thetype, lfc, qs,\n",
    "                    cond1, cond2up, cond2dn, \n",
    "                    querygenes_idx=None, \n",
    "                    gene_annots=None,\n",
    "                    ax=None, bbox_to_anchor=(1,1), loc=None,\n",
    "                    clip_p=None,\n",
    "                   ): \n",
    "    \"\"\"\n",
    "    \"\"\"\n",
    "    eff = lfc[:,thetypeidx]\n",
    "    pvl = -np.log10(qs[:,thetypeidx])\n",
    "    if clip_p is not None:\n",
    "        pvl = np.clip(pvl, None, clip_p)\n",
    "    cnd_up = np.all([cond1[:,thetypeidx], \n",
    "                     cond2up[:,thetypeidx]], axis=0) \n",
    "    cnd_dn = np.all([cond1[:,thetypeidx], \n",
    "                     cond2dn[:,thetypeidx]], axis=0) \n",
    "\n",
    "    if ax is None: \n",
    "        fig, ax = plt.subplots()\n",
    "    \n",
    "    # all genes\n",
    "    ax.scatter(eff, pvl, s=1, color='lightgray', rasterized=True)\n",
    "    print(cnd_up.sum())\n",
    "\n",
    "    # up genes\n",
    "    ax.scatter(eff[cnd_up], pvl[cnd_up], s=3, color='C0', rasterized=True)\n",
    "    # dn genes\n",
    "    ax.scatter(eff[cnd_dn], pvl[cnd_dn], s=3, color='C1', rasterized=True)\n",
    "    \n",
    "    # # query genes\n",
    "    # add text\n",
    "    if querygenes_idx is not None:\n",
    "        ax.scatter(eff[querygenes_idx], pvl[querygenes_idx], s=15, \n",
    "                   # label=f'type-specific (n={len(querygenes_idx):,})',\n",
    "                   facecolors='none', edgecolors='k', linewidth=1, rasterized=True)\n",
    "        for idx in querygenes_idx:\n",
    "            ax.text(eff[idx], pvl[idx], gene_annots[idx], fontsize=10)\n",
    "\n",
    "            \n",
    "    # ax.grid(axis='y')\n",
    "    sns.despine(ax=ax)\n",
    "    ax.set_xlabel('log2(FC) (C/A in CP10k)')\n",
    "    ax.set_ylabel('-log10(adj. p)')\n",
    "    ax.set_title(f'{thetype}')\n",
    "    ax.text(1,0.1,\n",
    "            f'up (n={cnd_up.sum():,})\\ndown (n={cnd_dn.sum():,})', \n",
    "            ha='right',\n",
    "            fontsize=10, transform=ax.transAxes)\n",
    "    return "
   ]
  },
  {
   "cell_type": "code",
   "execution_count": null,
   "id": "2fff3f5a-846b-4798-bc47-8d09b4e292cc",
   "metadata": {
    "tags": []
   },
   "outputs": [],
   "source": [
    "unq_condidx = adata.obs['cond_order'].unique()\n",
    "unq_condidx, unq_conds"
   ]
  },
  {
   "cell_type": "code",
   "execution_count": null,
   "id": "171443b5-fe89-4513-94ed-d64a0134e85d",
   "metadata": {
    "tags": []
   },
   "outputs": [],
   "source": [
    "genes_comm = adata.var.index.values\n",
    "lfc = l2fc_avc.T #adata.uns['l2fc_avc'].T\n",
    "qs  = qs_avc.T # adata.uns['qs_avc'].T\n",
    "lfc_th, qs_th = 1, 0.05"
   ]
  },
  {
   "cell_type": "code",
   "execution_count": null,
   "id": "ed91043c-0d42-4da6-8073-580098d269a3",
   "metadata": {
    "tags": []
   },
   "outputs": [],
   "source": [
    "cond1   = qs  <  qs_th\n",
    "cond2up = lfc >  lfc_th\n",
    "cond2dn = lfc < -lfc_th"
   ]
  },
  {
   "cell_type": "code",
   "execution_count": null,
   "id": "89206dd8-915d-4c01-a3d9-1ac2f70af7ef",
   "metadata": {
    "tags": []
   },
   "outputs": [],
   "source": [
    "thetypeidx = 0 # type A \n",
    "thetype = 'L2/3_A'\n",
    "show_volcano_v2(thetypeidx, thetype, lfc, qs, cond1, cond2up, cond2dn, clip_p=300) #  typegenes_idx)\n",
    "plt.show()"
   ]
  },
  {
   "cell_type": "code",
   "execution_count": null,
   "id": "709118f2-e5cd-4ee6-a2ce-a81e5fba0ced",
   "metadata": {
    "tags": []
   },
   "outputs": [],
   "source": [
    "n = len(unq_conds)\n",
    "fig, axs = plt.subplots(1,n,figsize=(4*n,4*1), sharex=True, sharey=True)\n",
    "for cond_idx in unq_condidx:\n",
    "    ax = axs.flat[cond_idx]\n",
    "    thecond = unq_conds[cond_idx]\n",
    "    show_volcano_v2(cond_idx, thecond, lfc, qs, cond1, cond2up, cond2dn, \n",
    "                    # typegenes_idx, \n",
    "                    clip_p=300,\n",
    "                    ax=ax, bbox_to_anchor=(0.5, -0.3), loc='upper center')\n",
    "    sns.despine(ax=ax)\n",
    "fig.tight_layout()\n",
    "\n",
    "# output = os.path.join(outfigdir, \"volcano.pdf\")\n",
    "# powerplots.savefig_autodate(fig, output)\n",
    "plt.show()"
   ]
  },
  {
   "cell_type": "code",
   "execution_count": null,
   "id": "2c358a9b-874e-4f39-91f0-d1284b16e104",
   "metadata": {},
   "outputs": [],
   "source": [
    "querygenes = ['Meis2','Foxp1','Cdh13','Cdh12']\n",
    "querygenes_idx = basicu.get_index_from_array(genes_comm, querygenes) \n",
    "gene_annots = genes_comm\n",
    "\n",
    "n = len(unq_conds)\n",
    "fig, axs = plt.subplots(2,4,figsize=(4*4,4*2), sharex=True, sharey=True)\n",
    "for cond_idx in unq_condidx:\n",
    "    ax = axs.flat[cond_idx]\n",
    "    thecond = unq_conds[cond_idx]\n",
    "    show_volcano_v2(cond_idx, thecond, lfc, qs, cond1, cond2up, cond2dn, \n",
    "                    clip_p=300,\n",
    "                    querygenes_idx=querygenes_idx, \n",
    "                    gene_annots=genes_comm,\n",
    "                    ax=ax, bbox_to_anchor=(0.5, -0.3), loc='upper center')\n",
    "    sns.despine(ax=ax)\n",
    "fig.tight_layout()\n",
    "plt.show()"
   ]
  },
  {
   "cell_type": "code",
   "execution_count": null,
   "id": "6a992779-3e23-497a-9841-d507a20548b3",
   "metadata": {
    "tags": []
   },
   "outputs": [],
   "source": [
    "genes_sig = genes_comm[np.any(np.abs(lfc) > 1, axis=1)]\n",
    "querygenes = np.intersect1d(gene_modules.annots['tf'], genes_sig) #['Meis2','Foxp1','Cdh13','Cdh12']\n",
    "querygenes_idx = basicu.get_index_from_array(genes_comm, querygenes) \n",
    "gene_annots = genes_comm\n",
    "\n",
    "n = len(unq_conds)\n",
    "fig, axs = plt.subplots(2,4,figsize=(4*4,4*2), sharex=True, sharey=True)\n",
    "for cond_idx in unq_condidx:\n",
    "    ax = axs.flat[cond_idx]\n",
    "    thecond = unq_conds[cond_idx]\n",
    "    show_volcano_v2(cond_idx, thecond, lfc, qs, cond1, cond2up, cond2dn, \n",
    "                    clip_p=300,\n",
    "                    querygenes_idx=querygenes_idx, \n",
    "                    gene_annots=genes_comm,\n",
    "                    ax=ax, bbox_to_anchor=(0.5, -0.3), loc='upper center')\n",
    "    sns.despine(ax=ax)\n",
    "fig.tight_layout()\n",
    "plt.show()"
   ]
  },
  {
   "cell_type": "markdown",
   "id": "fed900d1-4042-4bd3-89d6-7a8955aeaf5f",
   "metadata": {},
   "source": [
    "# A vs C genes"
   ]
  },
  {
   "cell_type": "code",
   "execution_count": null,
   "id": "ef200306-93b6-495a-9d72-b2ab20b65d40",
   "metadata": {
    "tags": []
   },
   "outputs": [],
   "source": [
    "unq_conds"
   ]
  },
  {
   "cell_type": "code",
   "execution_count": null,
   "id": "3540a9ff-0003-4465-8335-25552182c7ad",
   "metadata": {
    "tags": []
   },
   "outputs": [],
   "source": [
    "# genes = adata_rna.var.index.values\n",
    "degs_a = []\n",
    "degs_c = []\n",
    "for i, t in enumerate(unq_conds):\n",
    "    cond_a = np.logical_and(qs_avc[i]<0.05, l2fc_avc[i] < -1)\n",
    "    cond_c = np.logical_and(qs_avc[i]<0.05, l2fc_avc[i] >  1)\n",
    "    deg_a = np.sort(genes[cond_a])\n",
    "    deg_c = np.sort(genes[cond_c])\n",
    "    degs_a.append(deg_a)\n",
    "    degs_c.append(deg_c)\n",
    "    \n",
    "    print(f\"{t}\")\n",
    "    _, _, gs = gene_modules.check_genes(deg_a)\n",
    "    print(\"\\t\".join(gs))\n",
    "    print(\"\\033[0;m ---\")\n",
    "    _, _, gs = gene_modules.check_genes(deg_c)\n",
    "    print(\"\\t\".join(gs))\n",
    "    print(\"\\033[0;m ---\")\n",
    "    "
   ]
  },
  {
   "cell_type": "code",
   "execution_count": null,
   "id": "466e0c0b-f19a-4d6f-a399-95a195bb48e0",
   "metadata": {},
   "outputs": [],
   "source": [
    "# organize it into a heatmap\n",
    "degs_a_union = np.unique(np.hstack(degs_a))\n",
    "degs_c_union = np.unique(np.hstack(degs_c))\n",
    "a_annos, a_colors, a_styled = gene_modules.check_genes(degs_a_union)\n",
    "c_annos, c_colors, c_styled = gene_modules.check_genes(degs_c_union)\n",
    "colordict_a = {g:c for g, c in zip(degs_a_union, a_colors)}\n",
    "colordict_c = {g:c for g, c in zip(degs_c_union, c_colors)}\n",
    "\n",
    "degs_a_union.shape, degs_c_union.shape, np.intersect1d(degs_a_union, degs_c_union)"
   ]
  },
  {
   "cell_type": "code",
   "execution_count": null,
   "id": "265540f5-db8c-487e-a75b-4c8bf015d5bd",
   "metadata": {},
   "outputs": [],
   "source": [
    "degs_a_union_tf  = degs_a_union[np.array(a_colors)=='blue']\n",
    "degs_c_union_tf  = degs_c_union[np.array(c_colors)=='blue']\n",
    "\n",
    "degs_a_union_cam = degs_a_union[np.array(a_colors)=='red']\n",
    "degs_c_union_cam = degs_c_union[np.array(c_colors)=='red']"
   ]
  },
  {
   "cell_type": "code",
   "execution_count": null,
   "id": "0ac60e05-71f1-4dba-b73b-5b0350cda36c",
   "metadata": {
    "tags": []
   },
   "outputs": [],
   "source": [
    "degs_a_union_tf, degs_c_union_tf"
   ]
  },
  {
   "cell_type": "code",
   "execution_count": null,
   "id": "638711f5-c536-46b6-9a99-027fb5a4cf8d",
   "metadata": {},
   "outputs": [],
   "source": [
    "mat_a = np.zeros((len(degs_a_union),7)).astype(int)\n",
    "for i, deg_a in enumerate(degs_a):\n",
    "    indices = basicu.get_index_from_array(degs_a_union, deg_a) \n",
    "    mat_a[indices,i] = 1\n",
    "mat_a = pd.DataFrame(mat_a, index=degs_a_union)\n",
    "    \n",
    "mat_c = np.zeros((len(degs_c_union),7)).astype(int)\n",
    "for i, deg_c in enumerate(degs_c):\n",
    "    indices = basicu.get_index_from_array(degs_c_union, deg_c) \n",
    "    mat_c[indices,i] = 1\n",
    "mat_c = pd.DataFrame(mat_c, index=degs_c_union)\n",
    "    "
   ]
  },
  {
   "cell_type": "code",
   "execution_count": null,
   "id": "b0bfde23-86ca-4fa3-9168-1504caa2dcfc",
   "metadata": {
    "tags": []
   },
   "outputs": [],
   "source": [
    "num_times = mat_a.values.sum(axis=1)\n",
    "fst_times = np.array([np.min(np.nonzero(row)) for row in mat_a.values])\n",
    "avg_times = np.array([np.mean(np.nonzero(row)) for row in mat_a.values])\n",
    "\n",
    "df_a = pd.DataFrame() # index=degs_a_union)\n",
    "df_a['gene'] = degs_a_union\n",
    "df_a['num_times'] = pd.cut(num_times, bins=[0,3.5,6.5,7.5], labels=[0,1,2])\n",
    "df_a['fst_times'] = fst_times\n",
    "df_a['avg_times'] = avg_times\n",
    "df_a = df_a.sort_values(['num_times', 'fst_times', 'avg_times'])\n",
    "df_a"
   ]
  },
  {
   "cell_type": "code",
   "execution_count": null,
   "id": "a6832132-55cc-4dd4-9cb7-6dffb24c228d",
   "metadata": {
    "tags": []
   },
   "outputs": [],
   "source": [
    "num_times = mat_c.values.sum(axis=1)\n",
    "fst_times = np.array([np.min(np.nonzero(row)) for row in mat_c.values])\n",
    "avg_times = np.array([np.mean(np.nonzero(row)) for row in mat_c.values])\n",
    "\n",
    "df_c = pd.DataFrame() # index=degs_c_union)\n",
    "df_c['gene'] = degs_c_union\n",
    "df_c['num_times'] = pd.cut(num_times, bins=[0,3.5,6.5,7.5], labels=[0,1,2])\n",
    "df_c['fst_times'] = fst_times\n",
    "df_c['avg_times'] = avg_times\n",
    "df_c = df_c.sort_values(['num_times', 'fst_times', 'avg_times'])\n",
    "df_c"
   ]
  },
  {
   "cell_type": "code",
   "execution_count": null,
   "id": "1d81677a-e293-44ac-8de2-82fb9c159939",
   "metadata": {
    "tags": []
   },
   "outputs": [],
   "source": [
    "def recolor_yticks(ax, colordict, fontsize=None):\n",
    "    \"\"\"\n",
    "    \"\"\"\n",
    "    # Get the current tick labels\n",
    "    yticks = ax.get_yticklabels()\n",
    "\n",
    "    # Apply colors to the y-tick labels\n",
    "    for tick in yticks:\n",
    "        tick.set_fontsize(fontsize)\n",
    "        \n",
    "        text = tick.get_text()\n",
    "        if text in colordict.keys():\n",
    "            color = colordict[text]\n",
    "            tick.set_color(color)\n",
    "            \n",
    "    return ax"
   ]
  },
  {
   "cell_type": "code",
   "execution_count": null,
   "id": "e1391ee0-a0b4-4ff8-86b2-1005d08df549",
   "metadata": {},
   "outputs": [],
   "source": [
    "# subset to TFs\n",
    "# subset to CAMs"
   ]
  },
  {
   "cell_type": "code",
   "execution_count": null,
   "id": "f3eaa95d-69bd-4892-b525-536b1d29d852",
   "metadata": {
    "tags": []
   },
   "outputs": [],
   "source": [
    "with sns.axes_style('whitegrid'): # , {'ticks': 'off'}):\n",
    "    mosaic = np.vstack([['A']*len(mat_a)+['N']*(len(mat_c)-len(mat_a)), ['B']*len(mat_c)]).T\n",
    "    fig, axdict = plt.subplot_mosaic(mosaic, figsize=(4,10))\n",
    "    ax = axdict['N']\n",
    "    ax.axis('off')\n",
    "\n",
    "    # tweak length such that the same genes hav ethe same width\n",
    "    ax = axdict['A']\n",
    "    ax.set_title('A genes', fontsize=10)\n",
    "    sns.heatmap(mat_a.loc[df_a['gene'].values], \n",
    "                cbar=False, #dict(shrink=0.5), \n",
    "                xticklabels=False,\n",
    "                yticklabels=True, \n",
    "                cmap='gray_r', ax=ax,)\n",
    "\n",
    "    # recolor\n",
    "    recolor_yticks(ax, colordict_a, fontsize=6)\n",
    "    # grid\n",
    "    m, n = mat_a.shape\n",
    "    ax.hlines(np.arange(m), 0, n, linewidth=0.5, color='gray') \n",
    "    ax.vlines(np.arange(n), 0, m, linewidth=0.5, color='gray') \n",
    "\n",
    "\n",
    "    ax = axdict['B']\n",
    "    ax.set_title('C genes', fontsize=10)\n",
    "    sns.heatmap(mat_c.loc[df_c['gene'].values], \n",
    "                cbar=False, #dict(shrink=0.5), \n",
    "                xticklabels=False,\n",
    "                yticklabels=True, \n",
    "                cmap='gray_r', ax=ax,)\n",
    "\n",
    "    # recolor\n",
    "    recolor_yticks(ax, colordict_c, fontsize=6)\n",
    "    # grid\n",
    "    m, n = mat_c.shape\n",
    "    ax.hlines(np.arange(m), 0, n, linewidth=0.5, color='gray') \n",
    "    ax.vlines(np.arange(n), 0, m, linewidth=0.5, color='gray') \n",
    "\n",
    "    fig.subplots_adjust(wspace=1)\n",
    "    plt.show()"
   ]
  },
  {
   "cell_type": "code",
   "execution_count": null,
   "id": "da979c11-e43f-4e60-883d-3adf83b93c74",
   "metadata": {},
   "outputs": [],
   "source": [
    "mat_a_tf = mat_a.loc[[g for g in df_a['gene'].values if g in degs_a_union_tf]]\n",
    "mat_c_tf = mat_c.loc[[g for g in df_c['gene'].values if g in degs_c_union_tf]]\n",
    "\n",
    "mat_a_cam = mat_a.loc[[g for g in df_a['gene'].values if g in degs_a_union_cam]]\n",
    "mat_c_cam = mat_c.loc[[g for g in df_c['gene'].values if g in degs_c_union_cam]]"
   ]
  },
  {
   "cell_type": "code",
   "execution_count": null,
   "id": "7a8e7e20-426d-4008-b184-adc793c6d3ed",
   "metadata": {},
   "outputs": [],
   "source": [
    "with sns.axes_style('whitegrid'): # , {'ticks': 'off'}):\n",
    "    # tweak length such that the same genes hav ethe same width\n",
    "    mosaic = np.vstack([['A']*len(mat_a_tf)+['N']*(len(mat_c_tf)-len(mat_a_tf)), ['B']*len(mat_c_tf)]).T\n",
    "    fig, axdict = plt.subplot_mosaic(mosaic, figsize=(4,3))\n",
    "    ax = axdict['N']\n",
    "    ax.axis('off')\n",
    "    \n",
    "    ax = axdict['A']\n",
    "    mat = mat_a_tf\n",
    "    colordict = colordict_a\n",
    "    ax.set_title('A TFs', fontsize=10)\n",
    "    sns.heatmap(mat, \n",
    "                cbar=False, #dict(shrink=0.5), \n",
    "                xticklabels=False,\n",
    "                yticklabels=True, \n",
    "                cmap='gray_r', ax=ax,)\n",
    "\n",
    "    # recolor\n",
    "    recolor_yticks(ax, colordict, fontsize=6)\n",
    "    # grid\n",
    "    m, n = mat.shape\n",
    "    ax.hlines(np.arange(m), 0, n, linewidth=0.5, color='gray') \n",
    "    ax.vlines(np.arange(n), 0, m, linewidth=0.5, color='gray') \n",
    "\n",
    "\n",
    "    ax = axdict['B']\n",
    "    mat = mat_c_tf\n",
    "    colordict = colordict_c\n",
    "    ax.set_title('C TFs', fontsize=10)\n",
    "    sns.heatmap(mat, \n",
    "                cbar=False, #dict(shrink=0.5), \n",
    "                xticklabels=False,\n",
    "                yticklabels=True, \n",
    "                cmap='gray_r', ax=ax,)\n",
    "\n",
    "\n",
    "    # recolor\n",
    "    recolor_yticks(ax, colordict, fontsize=6)\n",
    "    # grid\n",
    "    m, n = mat.shape\n",
    "    ax.hlines(np.arange(m), 0, n, linewidth=0.5, color='gray') \n",
    "    ax.vlines(np.arange(n), 0, m, linewidth=0.5, color='gray') \n",
    "\n",
    "    fig.subplots_adjust(wspace=1)\n",
    "    plt.show()"
   ]
  },
  {
   "cell_type": "code",
   "execution_count": null,
   "id": "a164760f-f25f-4e3a-8398-c8616c7eb78a",
   "metadata": {},
   "outputs": [],
   "source": [
    "with sns.axes_style('whitegrid'): # , {'ticks': 'off'}):\n",
    "    # tweak length such that the same genes hav ethe same width\n",
    "    mosaic = np.vstack([['A']*len(mat_a_cam)+['N']*(len(mat_c_cam)-len(mat_a_cam)), ['B']*len(mat_c_cam)]).T\n",
    "    fig, axdict = plt.subplot_mosaic(mosaic, figsize=(4,5))\n",
    "    ax = axdict['N']\n",
    "    ax.axis('off')\n",
    "    \n",
    "    ax = axdict['A']\n",
    "    mat = mat_a_cam\n",
    "    colordict = colordict_a\n",
    "    ax.set_title('A CAMs', fontsize=10)\n",
    "    sns.heatmap(mat, \n",
    "                cbar=False, #dict(shrink=0.5), \n",
    "                xticklabels=False,\n",
    "                yticklabels=True, \n",
    "                cmap='gray_r', ax=ax,)\n",
    "\n",
    "    # recolor\n",
    "    recolor_yticks(ax, colordict, fontsize=6)\n",
    "    # grid\n",
    "    m, n = mat.shape\n",
    "    ax.hlines(np.arange(m), 0, n, linewidth=0.5, color='gray') \n",
    "    ax.vlines(np.arange(n), 0, m, linewidth=0.5, color='gray') \n",
    "\n",
    "\n",
    "    ax = axdict['B']\n",
    "    mat = mat_c_cam\n",
    "    colordict = colordict_c\n",
    "    ax.set_title('C CAMs', fontsize=10)\n",
    "    sns.heatmap(mat, \n",
    "                cbar=False, #dict(shrink=0.5), \n",
    "                xticklabels=False,\n",
    "                yticklabels=True, \n",
    "                cmap='gray_r', ax=ax,)\n",
    "\n",
    "\n",
    "    # recolor\n",
    "    recolor_yticks(ax, colordict, fontsize=6)\n",
    "    # grid\n",
    "    m, n = mat.shape\n",
    "    ax.hlines(np.arange(m), 0, n, linewidth=0.5, color='gray') \n",
    "    ax.vlines(np.arange(n), 0, m, linewidth=0.5, color='gray') \n",
    "\n",
    "    fig.subplots_adjust(wspace=1)\n",
    "    plt.show()"
   ]
  },
  {
   "cell_type": "code",
   "execution_count": null,
   "id": "a63eeb88-fac3-4a54-a5a5-3cc695edc6a1",
   "metadata": {},
   "outputs": [],
   "source": []
  },
  {
   "cell_type": "code",
   "execution_count": null,
   "id": "26d3b030-0563-46fd-a792-1141fe49dbd7",
   "metadata": {},
   "outputs": [],
   "source": []
  },
  {
   "cell_type": "code",
   "execution_count": null,
   "id": "1728af7d-78ac-453d-aad7-3bf86c59dfa8",
   "metadata": {},
   "outputs": [],
   "source": []
  }
 ],
 "metadata": {
  "kernelspec": {
   "display_name": "Python 3 (ipykernel)",
   "language": "python",
   "name": "python3"
  },
  "language_info": {
   "codemirror_mode": {
    "name": "ipython",
    "version": 3
   },
   "file_extension": ".py",
   "mimetype": "text/x-python",
   "name": "python",
   "nbconvert_exporter": "python",
   "pygments_lexer": "ipython3",
   "version": "3.9.16"
  }
 },
 "nbformat": 4,
 "nbformat_minor": 5
}
