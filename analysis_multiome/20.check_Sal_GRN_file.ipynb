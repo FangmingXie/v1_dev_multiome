{
 "cells": [
  {
   "cell_type": "code",
   "execution_count": null,
   "id": "0ecc59b6-02cd-4817-b403-3695907c6271",
   "metadata": {
    "tags": []
   },
   "outputs": [],
   "source": [
    "# import pandas as pd\n",
    "import numpy as np\n",
    "from collections import OrderedDict\n",
    "\n",
    "import scenicplus\n",
    "import pickle"
   ]
  },
  {
   "cell_type": "code",
   "execution_count": null,
   "id": "f8fe7b1e-785f-46db-9976-f1e0cb56da14",
   "metadata": {
    "tags": []
   },
   "outputs": [],
   "source": [
    "f = '/u/home/f/f7xiesnm/project-zipursky/v1-bb/v1/data/v1_multiome/scplus_obj_inter_v2.pkl'"
   ]
  },
  {
   "cell_type": "code",
   "execution_count": null,
   "id": "401c8cf3-4b02-4bcc-adb2-72bbe5f66b4b",
   "metadata": {
    "tags": []
   },
   "outputs": [],
   "source": [
    "%%time\n",
    "# Load DARs\n",
    "infile = open(f, 'rb')\n",
    "a = pickle.load(infile)\n",
    "infile.close()\n",
    "a"
   ]
  },
  {
   "cell_type": "code",
   "execution_count": null,
   "id": "6bbf800f-4159-47d9-9fc1-c83ef3dbe9db",
   "metadata": {
    "tags": []
   },
   "outputs": [],
   "source": [
    "a.metadata_regions"
   ]
  },
  {
   "cell_type": "code",
   "execution_count": null,
   "id": "522a8f76-5640-4f4c-8a77-e52b140b887e",
   "metadata": {
    "tags": []
   },
   "outputs": [],
   "source": [
    "a.metadata_cell"
   ]
  },
  {
   "cell_type": "code",
   "execution_count": null,
   "id": "91d77f7f-ae43-4bf0-aeaf-8b2002ed8e09",
   "metadata": {
    "tags": []
   },
   "outputs": [],
   "source": [
    "a.metadata_genes"
   ]
  },
  {
   "cell_type": "code",
   "execution_count": null,
   "id": "0987507f-ecc9-4ec4-b192-54adda6db03c",
   "metadata": {
    "tags": []
   },
   "outputs": [],
   "source": [
    "a.X_EXP.shape"
   ]
  },
  {
   "cell_type": "code",
   "execution_count": null,
   "id": "65c4ac0c-16ed-42d0-9487-71a05cc8db11",
   "metadata": {
    "tags": []
   },
   "outputs": [],
   "source": [
    "a.X_ACC.shape"
   ]
  },
  {
   "cell_type": "code",
   "execution_count": null,
   "id": "fc9e8621-cd31-4003-975c-02066eacdcf3",
   "metadata": {
    "tags": []
   },
   "outputs": [],
   "source": [
    "dir(a)"
   ]
  },
  {
   "cell_type": "code",
   "execution_count": null,
   "id": "99dd6442-91b6-4835-8228-8b53df291487",
   "metadata": {
    "tags": []
   },
   "outputs": [],
   "source": [
    "a.uns.keys()"
   ]
  },
  {
   "cell_type": "code",
   "execution_count": null,
   "id": "79c6deba-c8a1-4e49-90fc-518d50b35be7",
   "metadata": {
    "tags": []
   },
   "outputs": [],
   "source": [
    "len(a.uns['eRegulons'])"
   ]
  },
  {
   "cell_type": "code",
   "execution_count": null,
   "id": "ac2f64d7-dad6-40e2-afc5-3865e1b5bb24",
   "metadata": {
    "tags": []
   },
   "outputs": [],
   "source": [
    "grn0 = a.uns['eRegulons'][0]"
   ]
  },
  {
   "cell_type": "code",
   "execution_count": null,
   "id": "eb519d90-2b69-49a7-8529-57dc8a2055b1",
   "metadata": {
    "tags": []
   },
   "outputs": [],
   "source": [
    "dir(grn0)"
   ]
  },
  {
   "cell_type": "code",
   "execution_count": null,
   "id": "839b2024-4a3d-4202-b6ca-1263d98d5395",
   "metadata": {
    "tags": []
   },
   "outputs": [],
   "source": [
    "len(grn0.target_genes), grn0.transcription_factor"
   ]
  },
  {
   "cell_type": "code",
   "execution_count": null,
   "id": "74812dc6-417b-423a-94ac-27b92ef01bf2",
   "metadata": {
    "tags": []
   },
   "outputs": [],
   "source": [
    "simple_grns = OrderedDict()\n",
    "for grn in a.uns['eRegulons']:\n",
    "    tf  = grn.transcription_factor\n",
    "    gns = grn.target_genes\n",
    "    simple_grns[tf] = np.array(gns)\n",
    "    # print(tf, len(gns))\n",
    "    "
   ]
  },
  {
   "cell_type": "code",
   "execution_count": null,
   "id": "a0ad7b87-4ecf-4846-9f7e-84ae03b055a9",
   "metadata": {
    "tags": []
   },
   "outputs": [],
   "source": [
    "tfs_ordered = np.sort(list(simple_grns.keys()))\n",
    "tfs_ordered"
   ]
  },
  {
   "cell_type": "code",
   "execution_count": null,
   "id": "ca63bd2c-83a0-4a1b-9cdd-5c394c5d5dc0",
   "metadata": {
    "tags": []
   },
   "outputs": [],
   "source": [
    "tfs = ['Rfx3', 'Meis2', 'Sox5', 'Foxp1', 'Fos', 'Npas4']\n",
    "for tf in tfs:\n",
    "    print(tf, simple_grns[tf])\n"
   ]
  },
  {
   "cell_type": "code",
   "execution_count": null,
   "id": "f87ef233-aa19-4e52-baa0-1dc6b0f661e3",
   "metadata": {
    "tags": []
   },
   "outputs": [],
   "source": [
    "genes = ['Npas4', 'Bdnf', 'Baz1a', # 'Myh9', 'Nptx2', 'Scg3', \n",
    "         'Grm8', \n",
    "         'Sorcs3',  'Trpc6', 'Pcdh15', 'Kcnip3'\n",
    "        ] # , and the other that regulate Sorcs3 and Trpc6\n",
    "res = {}\n",
    "for tf in tfs_ordered:\n",
    "    targets = simple_grns[tf]\n",
    "    flag = 0\n",
    "    for t in targets:\n",
    "        if t in genes:\n",
    "            if flag == 0:\n",
    "                res[tf] = [t]\n",
    "                flag = 1\n",
    "            else:\n",
    "                res[tf].append(t) # [t]\n",
    "    # if flag == 1:\n",
    "    #     res[tf] = np.array(res[tf])\n",
    "            \n",
    "for key, item in res.items():\n",
    "    print(key, item)\n",
    "    "
   ]
  },
  {
   "cell_type": "code",
   "execution_count": null,
   "id": "ff097ee1-c963-41fd-9b90-e81c27aa750f",
   "metadata": {
    "tags": []
   },
   "outputs": [],
   "source": [
    " # alltime A: 6530403H02Rik\tCntn5\tEpha3\tEpha6\tGabrg3\tKirrel3\tMeis2\tPtprg\tPtprk\tRfx3\tRobo1\tTenm1\n",
    " # alltime C: Astn2\tCadps2\tCdh12\tChsy3\tFoxp1\tKcnh5\tKcnq5\tLrp1b\tPcdh9\tSema6d\n",
    "\n",
    "genes = [\n",
    "    '6530403H02Rik', 'Cntn5', 'Epha3', 'Epha6', 'Gabrg3', 'Kirrel3', 'Meis2', 'Ptprg', 'Ptprk', 'Rfx3', 'Robo1', 'Tenm1'\n",
    "        ]\n",
    "res = {}\n",
    "for tf in tfs_ordered:\n",
    "    targets = simple_grns[tf]\n",
    "    flag = 0\n",
    "    for t in targets:\n",
    "        if t in genes:\n",
    "            if flag == 0:\n",
    "                res[tf] = [t]\n",
    "                flag = 1\n",
    "            else:\n",
    "                res[tf].append(t) # [t]\n",
    "    # if flag == 1:\n",
    "    #     res[tf] = np.array(res[tf])\n",
    "            \n",
    "for key, item in res.items():\n",
    "    print(key, item)\n",
    "    "
   ]
  },
  {
   "cell_type": "code",
   "execution_count": null,
   "id": "1c2a64bc-e572-4a04-a6d2-061f757beabb",
   "metadata": {
    "tags": []
   },
   "outputs": [],
   "source": [
    "genes = [\n",
    "    'Astn2', 'Cadps2', 'Cdh12', 'Chsy3', 'Foxp1', 'Kcnh5', 'Kcnq5', 'Lrp1b', 'Pcdh9', 'Sema6d',\n",
    "        ]\n",
    "res = {}\n",
    "for tf in tfs_ordered:\n",
    "    targets = simple_grns[tf]\n",
    "    flag = 0\n",
    "    for t in targets:\n",
    "        if t in genes:\n",
    "            if flag == 0:\n",
    "                res[tf] = [t]\n",
    "                flag = 1\n",
    "            else:\n",
    "                res[tf].append(t) # [t]\n",
    "    # if flag == 1:\n",
    "    #     res[tf] = np.array(res[tf])\n",
    "            \n",
    "for key, item in res.items():\n",
    "    print(key, item)\n",
    "    "
   ]
  },
  {
   "cell_type": "code",
   "execution_count": null,
   "id": "3be00bc9-1668-4608-a960-b85c0bb0b186",
   "metadata": {},
   "outputs": [],
   "source": []
  }
 ],
 "metadata": {
  "kernelspec": {
   "display_name": "scenicplus",
   "language": "python",
   "name": "scenicplus"
  },
  "language_info": {
   "codemirror_mode": {
    "name": "ipython",
    "version": 3
   },
   "file_extension": ".py",
   "mimetype": "text/x-python",
   "name": "python",
   "nbconvert_exporter": "python",
   "pygments_lexer": "ipython3",
   "version": "3.11.9"
  }
 },
 "nbformat": 4,
 "nbformat_minor": 5
}
