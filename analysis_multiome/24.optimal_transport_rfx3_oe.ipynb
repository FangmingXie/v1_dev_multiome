{
 "cells": [
  {
   "cell_type": "code",
   "execution_count": null,
   "id": "bb214b6d-836a-49b8-93dd-a19f021215b7",
   "metadata": {
    "tags": []
   },
   "outputs": [],
   "source": [
    "import os\n",
    "import numpy as np\n",
    "import pandas as pd\n",
    "import scanpy as sc\n",
    "import anndata \n",
    "import seaborn as sns\n",
    "from scipy.stats import zscore\n",
    "from scipy import sparse \n",
    "import itertools\n",
    "\n",
    "import matplotlib.pyplot as plt\n",
    "import collections\n",
    "from sklearn.cluster import KMeans\n",
    "from sklearn import metrics\n",
    "\n",
    "from sklearn.decomposition import PCA\n",
    "from umap import UMAP\n",
    "\n",
    "from py_pcha import PCHA\n",
    "\n",
    "from matplotlib.colors import LinearSegmentedColormap\n",
    "\n",
    "from scroutines.config_plots import *\n",
    "from scroutines import powerplots # .config_plots import *\n",
    "from scroutines import pnmf\n",
    "from scroutines import basicu"
   ]
  },
  {
   "cell_type": "code",
   "execution_count": null,
   "id": "f45abc88-0cbc-4575-8035-9cb157c42bc2",
   "metadata": {},
   "outputs": [],
   "source": [
    "outdir    = \"/u/home/f/f7xiesnm/project-zipursky/v1-bb/v1/results\""
   ]
  },
  {
   "cell_type": "code",
   "execution_count": null,
   "id": "f3780ff4-5d13-4699-9802-9ef9d77c32ed",
   "metadata": {},
   "outputs": [],
   "source": [
    "# outfigdir = \"/u/home/f/f7xiesnm/project-zipursky/v1-bb/results/241021\"\n",
    "# !mkdir -p $outfigdir\n",
    "# fig_manager = powerplots.FigManager(outfigdir)"
   ]
  },
  {
   "cell_type": "code",
   "execution_count": null,
   "id": "f4c14ffc-28ce-44c5-bc55-0fe7a2ede3ad",
   "metadata": {
    "tags": []
   },
   "outputs": [],
   "source": [
    "import glob\n",
    "\n",
    "wkdir = '/u/home/f/f7xiesnm/project-zipursky/v1-bb/v1/data/v1_rfx3_oe/P21_PCA_cellembeddings' \n",
    "files = glob.glob(wkdir + '/*.csv')\n",
    "\n",
    "data_dict = {}\n",
    "adata_dict = {}\n",
    "for f in files:\n",
    "    sample = os.path.basename(f)\n",
    "    sample = sample[:-len('.csv')]\n",
    "    df = pd.read_csv(f)\n",
    "    df['P21_2'] = -df['P21_2']\n",
    "    \n",
    "    data_dict[sample] = df.values\n",
    "    adata_dict[sample] = pd.DataFrame(df.values, columns=['PC1', 'PC2'])\n",
    "    print(sample, len(df))"
   ]
  },
  {
   "cell_type": "code",
   "execution_count": null,
   "id": "1720c613-b0d5-4ab5-a285-923e73a2f708",
   "metadata": {
    "tags": []
   },
   "outputs": [],
   "source": [
    "data_dict['ctrl'] = np.vstack([data_dict['controlA'], data_dict['controlB']])\n",
    "data_dict['oe'] = np.vstack([data_dict['Rfx3OE_rep1'], \n",
    "                             data_dict['Rfx3OE_rep2_lane1'],\n",
    "                             data_dict['Rfx3OE_rep2_lane2'],\n",
    "                            ])\n",
    "\n",
    "adata_dict['ctrl'] = pd.DataFrame(data_dict['ctrl'], columns=['PC1', 'PC2'])\n",
    "adata_dict['oe'] = pd.DataFrame(data_dict['oe'], columns=['PC1', 'PC2'])"
   ]
  },
  {
   "cell_type": "code",
   "execution_count": null,
   "id": "c0fdfc7b-2ecd-4d6c-a4bd-ffd8751a18d3",
   "metadata": {},
   "outputs": [],
   "source": []
  },
  {
   "cell_type": "code",
   "execution_count": null,
   "id": "77714ae5-5abf-4882-b1ac-6f04fe853ab8",
   "metadata": {},
   "outputs": [],
   "source": []
  },
  {
   "cell_type": "markdown",
   "id": "5b9787e0-ed84-4b50-b8c4-dfc8434e291d",
   "metadata": {},
   "source": [
    "# PCA - AA"
   ]
  },
  {
   "cell_type": "code",
   "execution_count": null,
   "id": "331dacc8-c7e5-4f13-997d-c209e727146e",
   "metadata": {
    "tags": []
   },
   "outputs": [],
   "source": [
    "from py_pcha import PCHA"
   ]
  },
  {
   "cell_type": "code",
   "execution_count": null,
   "id": "62b1cba8-76f4-426a-bdef-d859e1b604b0",
   "metadata": {},
   "outputs": [],
   "source": [
    "def pca_pipe(adata):\n",
    "    \n",
    "    np.random.seed(0)\n",
    "    pca = PCA(n_components=4)\n",
    "    \n",
    "    zlognorm = zscore(np.array(adata.layers['lognorm'].todense()), axis=0)\n",
    "    # zlognorm = np.nan_to_num(zlognorm, 0)\n",
    "    \n",
    "    pcs = pca.fit_transform(zlognorm) # auto centering\n",
    "    \n",
    "    return zlognorm-np.mean(zlognorm, axis=0), pca, pcs # manual centering"
   ]
  },
  {
   "cell_type": "code",
   "execution_count": null,
   "id": "34f3a8d3-7a71-43a5-a20c-61417e68da83",
   "metadata": {
    "tags": []
   },
   "outputs": [],
   "source": [
    "def get_dists_to_specialists(prj, XC):\n",
    "    \"\"\"\n",
    "    \"\"\"\n",
    "    diffs = np.array([prj-XC[:,0], prj-XC[:,1], prj-XC[:,2]]) # specialist by cell by dim\n",
    "    dists = np.sqrt(np.sum(np.power(diffs, 2), axis=2)) # specialist by cell\n",
    "    # print(diffs.shape, dists.shape)\n",
    "    return dists"
   ]
  },
  {
   "cell_type": "code",
   "execution_count": null,
   "id": "b60db8d2-aac4-4c15-8a10-af8baa3d026d",
   "metadata": {
    "tags": []
   },
   "outputs": [],
   "source": [
    "def aa_inference(X):\n",
    "    \"\"\"\n",
    "    \"\"\"\n",
    "    XC, _, _, _, _ = PCHA(X, noc=3, delta=0)\n",
    "    XC = np.array(XC)\n",
    "    XC = XC[:,np.argsort(XC[0])] # assign an order according to x-axis \n",
    "    return XC"
   ]
  },
  {
   "cell_type": "code",
   "execution_count": null,
   "id": "6ebe4c02-b520-43ed-9f06-750473cb924b",
   "metadata": {
    "tags": []
   },
   "outputs": [],
   "source": [
    "def add_triangle(XC, ax, zorder=0, vertices=False, label='', linecolor='gray', linewidth=1, alpha=1, **kwargs):\n",
    "    # add the triangle\n",
    "    ax.plot(XC[0].tolist()+[XC[0,0]], XC[1].tolist()+[XC[1,0]], '--', \n",
    "            color=linecolor, label=label, zorder=zorder, linewidth=linewidth, markersize=3, alpha=alpha)\n",
    "    \n",
    "    # add vertices\n",
    "    if vertices:\n",
    "        ax.scatter(XC[0,0], XC[1,0], color='C0', zorder=zorder, alpha=alpha, **kwargs)\n",
    "        ax.scatter(XC[0,1], XC[1,1], color='C1', zorder=zorder, alpha=alpha, **kwargs)\n",
    "        ax.scatter(XC[0,2], XC[1,2], color='C2', zorder=zorder, alpha=alpha, **kwargs)"
   ]
  },
  {
   "cell_type": "code",
   "execution_count": null,
   "id": "17e57120-ac1f-4c1d-9d12-188855ef70f3",
   "metadata": {
    "tags": []
   },
   "outputs": [],
   "source": [
    "def neighbor_label_transfer(k, ref_emb, qry_emb, ref_lbl, p_cutoff=0.5, dist_cutoff=None):\n",
    "    \"\"\"ref vs qry neighbors\n",
    "    \"\"\"\n",
    "    unq_lbls = np.unique(ref_lbl).astype(str) # array(['L2/3_A', 'L2/3_B', 'L2/3_C'])\n",
    "    n_unq_lbls = len(unq_lbls)\n",
    "    ref_n = len(ref_emb)\n",
    "    qry_n = len(qry_emb)\n",
    "    \n",
    "    neigh = NearestNeighbors(n_neighbors=k) # , radius=0.4)\n",
    "    neigh.fit(ref_emb)\n",
    "    dists, idx = neigh.kneighbors(qry_emb, k, return_distance=True)\n",
    "    \n",
    "    raw_pred = ref_lbl[idx]\n",
    "\n",
    "    # p\n",
    "    pabc = np.empty((qry_n, n_unq_lbls))\n",
    "    for i, lbl in enumerate(unq_lbls):\n",
    "        p = np.sum(raw_pred==lbl, axis=1)/k\n",
    "        pabc[:,i] = p\n",
    "\n",
    "    # max\n",
    "    max_pred = unq_lbls[np.argmax(pabc, axis=1)]\n",
    "\n",
    "    # \n",
    "    gated_pred = max_pred.copy()\n",
    "    cond1 = np.max( pabc, axis=1) > p_cutoff\n",
    "    gated_pred[~cond1] = 'NA' \n",
    "    if dist_cutoff is not None:\n",
    "        cond2 = np.max(dists, axis=1) < dist_cutoff\n",
    "        gated_pred[~cond2] = 'NA' \n",
    "    \n",
    "    return max_pred, gated_pred, np.max(dists, axis=1)\n",
    "\n",
    "\n",
    "def neighbor_self_nonself(k, ref_emb, qry_emb):\n",
    "    \"\"\"ref vs qry neighbors\n",
    "    \"\"\"\n",
    "    unq_lbls = np.unique(ref_lbl).astype(str) # array(['L2/3_A', 'L2/3_B', 'L2/3_C'])\n",
    "    n_unq_lbls = len(unq_lbls)\n",
    "    ref_n = len(ref_emb)\n",
    "    qry_n = len(qry_emb)\n",
    "    lbls = np.array([0]*ref_n+[1]*qry_n)\n",
    "    \n",
    "    neigh = NearestNeighbors(n_neighbors=k) # , radius=0.4)\n",
    "    neigh.fit(np.vstack([ref_emb, qry_emb]))\n",
    "    idx = neigh.kneighbors(qry_emb, k, return_distance=False)\n",
    "    \n",
    "    isself = lbls[idx]\n",
    "\n",
    "    p = np.sum(isself, axis=1)/k\n",
    "\n",
    "    \n",
    "    return p # max_pred, gated_pred, np.max(dists, axis=1)"
   ]
  },
  {
   "cell_type": "markdown",
   "id": "a336e6d1-5d17-4675-8f7d-e85010970c09",
   "metadata": {},
   "source": [
    "# Archetype location"
   ]
  },
  {
   "cell_type": "code",
   "execution_count": null,
   "id": "a1c71ec2-e62e-4783-a971-0d8f764e58d9",
   "metadata": {
    "tags": []
   },
   "outputs": [],
   "source": [
    "np.random.seed(0)\n",
    "labels = list(data_dict.keys())[:5]\n",
    "print(labels)\n",
    "\n",
    "XC_dict = {}\n",
    "for lbl in data_dict.keys(): \n",
    "    X = data_dict[lbl].T\n",
    "    XC = aa_inference(X)\n",
    "    XC_dict[lbl] = XC\n",
    "    "
   ]
  },
  {
   "cell_type": "code",
   "execution_count": null,
   "id": "a7fdbd53-6c7e-4a06-a33b-c38446a3d14a",
   "metadata": {
    "tags": []
   },
   "outputs": [],
   "source": [
    "XC_dict"
   ]
  },
  {
   "cell_type": "code",
   "execution_count": null,
   "id": "6be448bd-9c90-4a13-8b34-9490ffb98b5f",
   "metadata": {
    "tags": []
   },
   "outputs": [],
   "source": [
    "sns.color_palette('tab20c')"
   ]
  },
  {
   "cell_type": "code",
   "execution_count": null,
   "id": "c0c42825-7b9c-4ab2-9a6b-ecb958fd7bf7",
   "metadata": {
    "tags": []
   },
   "outputs": [],
   "source": [
    "color_dict = {\n",
    "    'controlA': 'C1', # sns.color_palette('tab20c')[4],\n",
    "    'controlB': 'C1', # sns.color_palette('tab20c')[6],\n",
    "    \n",
    "    'Rfx3OE_rep1': 'k',\n",
    "    'Rfx3OE_rep2_lane1': 'k',\n",
    "    'Rfx3OE_rep2_lane2': 'k',\n",
    "}"
   ]
  },
  {
   "cell_type": "code",
   "execution_count": null,
   "id": "13cb8801-a1e2-4094-9e8d-65b4b3bb8326",
   "metadata": {
    "tags": []
   },
   "outputs": [],
   "source": [
    "fig, ax = plt.subplots(1, 1, figsize=(5*1,1*4)) # , sharex=True, sharey=True)\n",
    "for lbl in labels:\n",
    "    XC = XC_dict[lbl]\n",
    "    color = color_dict[lbl]\n",
    "    \n",
    "    ax.plot(XC[0].tolist()+[XC[0,0]], XC[1].tolist()+[XC[1,0]], '--o', fillstyle='none', label=lbl, color=color, linewidth=1)\n",
    "    ax.legend(bbox_to_anchor=(0,-0.25), loc='upper left')\n",
    "    ax.set_aspect('equal')\n",
    "    ax.grid(False)\n",
    "    sns.despine(ax=ax)\n",
    "    # ax.set_xlim([-18,18])\n",
    "    # ax.set_ylim([-15,12])\n",
    "\n",
    "plt.show()"
   ]
  },
  {
   "cell_type": "code",
   "execution_count": null,
   "id": "2c9f0f82-a537-4b9a-b2fc-b0821b27f3c3",
   "metadata": {
    "tags": []
   },
   "outputs": [],
   "source": [
    "fig, axs = plt.subplots(1, 5, figsize=(5*5,1*4), sharex=True, sharey=True)\n",
    "for ax, lbl in zip(axs, labels):\n",
    "    XC = XC_dict[lbl]\n",
    "    df = adata_dict[lbl]\n",
    "    sns.scatterplot(data=df, x='PC1', y='PC2', s=3, edgecolor='none',#, palette=palette_type, hue_order=list(palette_type), \n",
    "                    rasterized=True,\n",
    "                    ax=ax)\n",
    "    add_triangle(XC, ax, vertices=True, linewidth=1, linecolor='k', zorder=2)\n",
    "    ax.set_title(lbl)\n",
    "    ax.set_aspect('equal')\n",
    "    ax.grid(False)\n",
    "    sns.despine(ax=ax)\n",
    "\n",
    "plt.show()"
   ]
  },
  {
   "cell_type": "code",
   "execution_count": null,
   "id": "7d367a37-588f-4b33-a82b-522127d13223",
   "metadata": {
    "tags": []
   },
   "outputs": [],
   "source": [
    "fig, axs = plt.subplots(1, 5, figsize=(5*5,1*4), sharex=True, sharey=True)\n",
    "for ax, lbl in zip(axs, labels):\n",
    "    XC = XC_dict[lbl]\n",
    "    df = adata_dict[lbl]\n",
    "    g = sns.histplot(ax=ax, data=df, x='PC1', y='PC2', \n",
    "                 stat='percent', binwidth=1, vmin=0, #vmax=1.2,\n",
    "                 cmap='gray_r', cbar=True, cbar_kws=dict(shrink=0.5))\n",
    "    \n",
    "    add_triangle(XC, ax, vertices=True, linewidth=1, linecolor='k', zorder=2)\n",
    "    ax.grid(False)\n",
    "    sns.despine(ax=ax)\n",
    "    \n",
    "    ax.set_title(lbl)\n",
    "    ax.set_aspect('equal')\n",
    "plt.show()"
   ]
  },
  {
   "cell_type": "code",
   "execution_count": null,
   "id": "45bacddb-3f7a-4bcf-a3ca-0978c953ac24",
   "metadata": {
    "tags": []
   },
   "outputs": [],
   "source": [
    "\n",
    "XC = XC_dict['ctrl']\n",
    "fig, axs = plt.subplots(1, 2, figsize=(5*2,1*4), sharex=True, sharey=True)\n",
    "for ax, lbl in zip(axs, ['ctrl', 'oe']):\n",
    "    df = adata_dict[lbl]\n",
    "    g = sns.histplot(ax=ax, data=df, x='PC1', y='PC2', \n",
    "                 stat='percent', binwidth=1, vmin=0, #vmax=1.2,\n",
    "                 cmap='gray_r', cbar=True, cbar_kws=dict(shrink=0.5))\n",
    "    \n",
    "    add_triangle(XC, ax, vertices=True, linewidth=1, linecolor='k', zorder=2)\n",
    "    ax.grid(False)\n",
    "    sns.despine(ax=ax)\n",
    "    \n",
    "    ax.set_title(lbl)\n",
    "    ax.set_aspect('equal')\n",
    "plt.show()"
   ]
  },
  {
   "cell_type": "code",
   "execution_count": null,
   "id": "d49f9d12-0695-44de-a9fb-c02f03e18080",
   "metadata": {
    "tags": []
   },
   "outputs": [],
   "source": [
    "XC = XC_dict['ctrl']\n",
    "fig, ax = plt.subplots(1, 1, figsize=(5*1,1*4)) \n",
    "    \n",
    "add_triangle(XC, ax, vertices=False, linewidth=1, linecolor='k', zorder=2)\n",
    "ax.grid(False)\n",
    "sns.despine(ax=ax)\n",
    "ax.set_title('OE - ctrl')\n",
    "ax.set_aspect('equal')\n",
    "\n",
    "xbins = np.arange(-20, 20, 1)\n",
    "ybins = np.arange(-15, 10, 1)\n",
    "xmin = np.min(xbins)\n",
    "xmax = np.max(xbins)\n",
    "ymin = np.min(ybins)\n",
    "ymax = np.max(ybins)\n",
    "\n",
    "X = data_dict['ctrl']\n",
    "hist1, _, _ = np.histogram2d(X[:,0], X[:,1], bins=[xbins, ybins], normed=True)\n",
    "Y = data_dict['oe']\n",
    "hist2, _, _ = np.histogram2d(Y[:,0], Y[:,1], bins=[xbins, ybins], normed=True)\n",
    "\n",
    "vlim = 0.5*np.percentile(hist1, 95)\n",
    "\n",
    "g = ax.imshow((hist2-hist1).T, cmap='coolwarm', vmin=-vlim, vmax=vlim, origin='lower', extent=(xmin, xmax, ymin, ymax))\n",
    "fig.colorbar(g, shrink=0.4)\n",
    "\n",
    "plt.show()"
   ]
  },
  {
   "cell_type": "code",
   "execution_count": null,
   "id": "fcdaaa04-10cc-4bd1-b157-e90f05ea443b",
   "metadata": {},
   "outputs": [],
   "source": []
  },
  {
   "cell_type": "code",
   "execution_count": null,
   "id": "5b5dccc8-ead2-46a9-a934-ada1dac3c4ee",
   "metadata": {},
   "outputs": [],
   "source": []
  },
  {
   "cell_type": "code",
   "execution_count": null,
   "id": "78b78ede-204c-4aea-85d9-b491e330f34d",
   "metadata": {},
   "outputs": [],
   "source": []
  },
  {
   "cell_type": "code",
   "execution_count": null,
   "id": "30d2eef6-78ad-49ba-b26f-09476967b6f4",
   "metadata": {},
   "outputs": [],
   "source": []
  },
  {
   "cell_type": "code",
   "execution_count": null,
   "id": "ad597794-e1ff-461e-8006-30c1fb26177c",
   "metadata": {},
   "outputs": [],
   "source": []
  },
  {
   "cell_type": "markdown",
   "id": "bf4fa41d-9e7c-4bc2-a11e-e5a979789b2f",
   "metadata": {},
   "source": [
    "# Optimal Transport"
   ]
  },
  {
   "cell_type": "code",
   "execution_count": null,
   "id": "391281d5-2942-4779-b1e1-ba3c16680c58",
   "metadata": {},
   "outputs": [],
   "source": [
    "import ot\n",
    "import ot.plot\n",
    "from matplotlib import collections as mc"
   ]
  },
  {
   "cell_type": "code",
   "execution_count": null,
   "id": "b9936a09-5226-4145-9cc1-58e9ef56cfc0",
   "metadata": {
    "tags": []
   },
   "outputs": [],
   "source": [
    "def OT_pipe(xs, xt, numbins=12):\n",
    "    \"\"\"\n",
    "    xs = X_nr28.dot(V)[:,:2]\n",
    "    xt = X_dr28.dot(V)[:,:2]\n",
    "    \"\"\"\n",
    "    ns = len(xs)\n",
    "    nt = len(xt)\n",
    "    a = np.ones((ns,))/ns\n",
    "    b = np.ones((nt,))/nt\n",
    "    print(xs.shape, xt.shape)\n",
    "    \n",
    "    # ~5 sec for 4k cells vs 4k cells\n",
    "    M = ot.dist(xs, xt)\n",
    "    G0 = ot.emd(a, b, M)\n",
    "    G0n = G0/np.array(G0.sum(axis=1)+1e-10).reshape(-1,1) #.shape\n",
    "    \n",
    "    # organize results (ns, nt)\n",
    "    G0ns = sparse.coo_matrix(G0n)\n",
    "    \n",
    "    # per source cell vector\n",
    "    alli, allj, allw = G0ns.row, G0ns.col, G0ns.data\n",
    "    tmp = pd.DataFrame((xt[allj] - xs[alli])*allw.reshape(-1,1))\n",
    "    tmp[2] = alli\n",
    "    arrows = tmp.groupby(2).sum().reindex(np.arange(ns)).values\n",
    "    \n",
    "    # organize per cell vector \n",
    "    arrows = pd.DataFrame(arrows, columns=['dx', 'dy'])\n",
    "    arrows['x'] = xs[:,0]\n",
    "    arrows['y'] = xs[:,1]\n",
    "    arrows['xbin'] = pd.cut(xs[:,0], numbins, labels=False)\n",
    "    arrows['ybin'] = pd.cut(xs[:,1], numbins, labels=False)\n",
    "    \n",
    "    # local mean field\n",
    "    n_arrows = arrows.groupby(['xbin', 'ybin']).size()\n",
    "    n_arrows = n_arrows[n_arrows!=0]\n",
    "    mean_arrows = arrows.groupby(['xbin', 'ybin']).mean().reindex(n_arrows.index).fillna(0) #.dropna()\n",
    "    \n",
    "    mags = np.sqrt(arrows['dx']**2+arrows['dy']**2)  # n_arrows # [[2,3]] #*n_arrows\n",
    "    mean_mags = np.mean(mags)\n",
    "    \n",
    "    return G0ns, arrows, n_arrows, mean_arrows, mean_mags\n",
    "    "
   ]
  },
  {
   "cell_type": "code",
   "execution_count": null,
   "id": "cfcf872c-4ba8-4427-b7c0-a05c0547b61d",
   "metadata": {
    "tags": []
   },
   "outputs": [],
   "source": [
    "def OT_plot(n_arrows, mean_arrows, XC, output=None):\n",
    "    \"\"\"\n",
    "    \"\"\"\n",
    "    maxsize = np.max(n_arrows)\n",
    "    minsize = np.min(n_arrows)\n",
    "    print(minsize, maxsize)\n",
    "\n",
    "    fig, ax = plt.subplots(figsize=(7,5))\n",
    "    for size, arrow in zip(n_arrows.values, mean_arrows[['x', 'y', 'dx', 'dy']].values):\n",
    "        ax.arrow(*arrow, linewidth=1, width=0.2, alpha=size/maxsize, edgecolor='none', facecolor='k')\n",
    "\n",
    "    add_triangle(XC, ax, vertices=True, linewidth=1, linecolor='k', zorder=2)\n",
    "    ax.grid(False)\n",
    "    ax.set_aspect('equal')\n",
    "    if output:\n",
    "        powerplots.savefig_autodate(fig, output)\n",
    "    plt.show()\n",
    "    \n",
    "def OT_plot_ax(ax, n_arrows, mean_arrows):\n",
    "    \"\"\"\n",
    "    \"\"\"\n",
    "    maxsize = np.max(n_arrows)\n",
    "    minsize = np.min(n_arrows)\n",
    "    print(minsize, maxsize)\n",
    "    for size, arrow in zip(n_arrows.values, mean_arrows[['x', 'y', 'dx', 'dy']].values):\n",
    "        ax.arrow(*arrow, linewidth=1, width=0.2, alpha=size/maxsize, edgecolor='none', facecolor='k')"
   ]
  },
  {
   "cell_type": "code",
   "execution_count": null,
   "id": "ff34ff3c-8731-43ac-8f41-915f77758d04",
   "metadata": {
    "tags": []
   },
   "outputs": [],
   "source": [
    "ot_res = dict()\n",
    "\n",
    "XC = XC_dict['ctrl']\n",
    "xs = data_dict['ctrl']\n",
    "xt = data_dict['oe']\n",
    "_, _, n_arrows, mean_arrows, mean_mags = OT_pipe(xs, xt, numbins=15)\n",
    "ot_res['ctrl vs oe'] = (n_arrows, mean_arrows, mean_mags)"
   ]
  },
  {
   "cell_type": "code",
   "execution_count": null,
   "id": "c4598dfe-46bb-44d8-8600-289091454df6",
   "metadata": {
    "tags": []
   },
   "outputs": [],
   "source": [
    "fig, axs = plt.subplots(1, 3, figsize=(6*3,5*1), sharex=True, sharey=True)\n",
    "for ax, lbl in zip(axs.flat, ['ctrl', 'oe']):\n",
    "    df = adata_dict[lbl]\n",
    "    n = len(df)\n",
    "    g = sns.histplot(ax=ax, data=df, x='PC1', y='PC2', \n",
    "                 stat='percent', binwidth=1.2, vmin=0, vmax=3,\n",
    "                 cmap='gray_r', cbar=False, cbar_kws=dict(shrink=0.5))\n",
    "    \n",
    "    add_triangle(XC, ax, vertices=True, linewidth=1, linecolor='k', zorder=2)\n",
    "    ax.grid(False)\n",
    "    sns.despine(ax=ax)\n",
    "    \n",
    "    ax.set_title(lbl) # +f'\\n{n} cells')\n",
    "    # ax.set_title(lbl+f'\\n{n} cells')\n",
    "    ax.set_aspect('equal')\n",
    "    ax.set_xlim([-18,18])\n",
    "    ax.set_ylim([-15,12])\n",
    "    \n",
    "ax = axs[2]\n",
    "OT_plot_ax(ax, n_arrows, mean_arrows)\n",
    "add_triangle(XC, ax, vertices=True, linewidth=1, linecolor='k', zorder=2)\n",
    "ax.grid(False)\n",
    "ax.set_aspect('equal')\n",
    "ax.set_title('ctrl -> oe')\n",
    "sns.despine(ax=ax)\n",
    "    \n",
    "plt.show()"
   ]
  },
  {
   "cell_type": "code",
   "execution_count": null,
   "id": "1cdf5e94-4b29-478b-b94a-21f374c4c113",
   "metadata": {},
   "outputs": [],
   "source": []
  },
  {
   "cell_type": "code",
   "execution_count": null,
   "id": "db2462b5-70a9-4c68-96e9-c53878b686aa",
   "metadata": {
    "tags": []
   },
   "outputs": [],
   "source": [
    "ot_res = dict()\n",
    "\n",
    "XC = XC_dict['ctrl']\n",
    "xs = data_dict['controlA']\n",
    "xt = data_dict['controlB']\n",
    "_, _, n_arrows, mean_arrows, mean_mags = OT_pipe(xs, xt, numbins=15)\n",
    "ot_res['ctrl A vs B'] = (n_arrows, mean_arrows, mean_mags)"
   ]
  },
  {
   "cell_type": "code",
   "execution_count": null,
   "id": "a9f6c2f7-2716-4ce5-abce-0773b9f1290e",
   "metadata": {
    "tags": []
   },
   "outputs": [],
   "source": [
    "fig, axs = plt.subplots(1, 3, figsize=(6*3,5*1), sharex=True, sharey=True)\n",
    "for ax, lbl in zip(axs.flat, ['controlA', 'controlB']):\n",
    "    df = adata_dict[lbl]\n",
    "    n = len(df)\n",
    "    g = sns.histplot(ax=ax, data=df, x='PC1', y='PC2', \n",
    "                 stat='percent', binwidth=1.2, vmin=0, vmax=3,\n",
    "                 cmap='gray_r', cbar=False, cbar_kws=dict(shrink=0.5))\n",
    "    \n",
    "    add_triangle(XC, ax, vertices=True, linewidth=1, linecolor='k', zorder=2)\n",
    "    ax.grid(False)\n",
    "    sns.despine(ax=ax)\n",
    "    \n",
    "    ax.set_title(lbl) # +f'\\n{n} cells')\n",
    "    # ax.set_title(lbl+f'\\n{n} cells')\n",
    "    ax.set_aspect('equal')\n",
    "    ax.set_xlim([-18,18])\n",
    "    ax.set_ylim([-15,12])\n",
    "    \n",
    "ax = axs[2]\n",
    "OT_plot_ax(ax, n_arrows, mean_arrows)\n",
    "add_triangle(XC, ax, vertices=True, linewidth=1, linecolor='k', zorder=2)\n",
    "ax.grid(False)\n",
    "ax.set_aspect('equal')\n",
    "sns.despine(ax=ax)\n",
    "    \n",
    "plt.show()"
   ]
  },
  {
   "cell_type": "code",
   "execution_count": null,
   "id": "f1245ae7-e8e0-46cd-8568-eb700ef96b7e",
   "metadata": {},
   "outputs": [],
   "source": []
  },
  {
   "cell_type": "code",
   "execution_count": null,
   "id": "bbf36967-eb0a-4c69-a2d0-22c315709cfd",
   "metadata": {},
   "outputs": [],
   "source": []
  },
  {
   "cell_type": "markdown",
   "id": "87d59aa8-f829-47e2-942d-ccf7f82322b0",
   "metadata": {},
   "source": [
    "# DR-NR use the same as MERFISH"
   ]
  },
  {
   "cell_type": "code",
   "execution_count": null,
   "id": "82403da4-6f5e-46ca-b233-6b762d29b7e5",
   "metadata": {},
   "outputs": [],
   "source": [
    "from matplotlib.colors import LinearSegmentedColormap\n",
    "\n",
    "colors_a = [(0.0, 'black'), (1.0, 'C0')]      \n",
    "colors_b = [(0.0, 'black'), (1.0, 'C1')]      \n",
    "colors_c = [(0.0, 'black'), (1.0, 'C2')]      \n",
    "\n",
    "colors_nrdr = [(0.0, 'C1'), (0.5, 'white'), (1.0, 'black')]\n",
    "colors_nr = [(0.0, 'white'), (1.0, 'C1'),]\n",
    "colors_dr = [(0.0, 'white'), (1.0, 'black'),]\n",
    "\n",
    "# Create a custom colormap using LinearSegmentedColormap\n",
    "cmap_a = LinearSegmentedColormap.from_list('cmap_a', colors_a)\n",
    "cmap_b = LinearSegmentedColormap.from_list('cmap_b', colors_b)\n",
    "cmap_c = LinearSegmentedColormap.from_list('cmap_c', colors_c)\n",
    "cmap_nrdr = LinearSegmentedColormap.from_list('cmap_nrdr', colors_nrdr)\n",
    "cmap_nr = LinearSegmentedColormap.from_list('cmap_nr', colors_nr)\n",
    "cmap_dr = LinearSegmentedColormap.from_list('cmap_dr', colors_dr)"
   ]
  },
  {
   "cell_type": "code",
   "execution_count": null,
   "id": "645677ad-7a90-4d7e-89df-9a88ca457d46",
   "metadata": {
    "tags": []
   },
   "outputs": [],
   "source": [
    "xmin, xmax = -18, 18\n",
    "ymin, ymax = -15, 12\n",
    "\n",
    "bins_x = np.linspace(xmin, xmax, int((xmax-xmin)/1.2+1))\n",
    "bins_y = np.linspace(ymin, ymax, int((ymax-ymin)/1.2+1))\n",
    "print(bins_x)\n",
    "print(bins_y)\n",
    "\n",
    "hists = []\n",
    "fig, axs = plt.subplots(1,3,figsize=(3*6,1*5), sharex=True, sharey=True)\n",
    "for ax, lbl in zip(axs.flat, ['ctrl', 'oe']):\n",
    "    df = adata_dict[lbl]\n",
    "    x =  df['PC1']\n",
    "    y =  df['PC2']\n",
    "    sns.histplot(x=x, y=y, ax=ax, bins=(bins_x, bins_y), \n",
    "                 cmap='gray_r', \n",
    "                 stat='percent', vmin=0, vmax=3, \n",
    "                 cbar=True, cbar_kws=dict(shrink=0.4, ))\n",
    "    \n",
    "    hist, _, _= np.histogram2d(x, y, bins=(bins_x, bins_y))\n",
    "    hist = hist/len(x)*100\n",
    "    hists.append(hist)\n",
    "    print(hist.shape)\n",
    "    ax.set_aspect('equal')\n",
    "    sns.despine(ax=ax)\n",
    "    ax.grid(False)\n",
    "    \n",
    "    # add the triangle\n",
    "    add_triangle(XC, ax, zorder=2)\n",
    "    \n",
    "ax = axs[2] \n",
    "ax.set_title('DR-NR')\n",
    "g = ax.imshow(\n",
    "    pd.DataFrame(hists[1]-hists[0],  \n",
    "                index  =bins_x[1:]-1.2/2, \n",
    "                columns=bins_y[1:]-1.2/2).T, \n",
    "            origin='lower',\n",
    "            extent=(xmin, xmax, ymin, ymax),\n",
    "            # cmap='coolwarm', \n",
    "            cmap=cmap_nrdr, \n",
    "            vmax=0.5, vmin=-0.5)\n",
    "# ax.invert_yaxis()\n",
    "ax.set_aspect('equal')\n",
    "ax.grid(False)\n",
    "fig.colorbar(g, shrink=0.4)# ticks=[-1,0,1])\n",
    "sns.despine(ax=ax)\n",
    "\n",
    "# add the triangle\n",
    "add_triangle(XC, ax, zorder=2)\n",
    "# add_triangle(XC, ax, vertices=True, linewidth=1, linecolor='k', zorder=2)\n",
    "\n",
    "plt.show()"
   ]
  },
  {
   "cell_type": "code",
   "execution_count": null,
   "id": "4f330af4-efee-4454-8275-a9b780c44577",
   "metadata": {},
   "outputs": [],
   "source": []
  }
 ],
 "metadata": {
  "kernelspec": {
   "display_name": "napari",
   "language": "python",
   "name": "napari"
  },
  "language_info": {
   "codemirror_mode": {
    "name": "ipython",
    "version": 3
   },
   "file_extension": ".py",
   "mimetype": "text/x-python",
   "name": "python",
   "nbconvert_exporter": "python",
   "pygments_lexer": "ipython3",
   "version": "3.9.16"
  }
 },
 "nbformat": 4,
 "nbformat_minor": 5
}
