{
 "cells": [
  {
   "cell_type": "code",
   "execution_count": null,
   "id": "bb214b6d-836a-49b8-93dd-a19f021215b7",
   "metadata": {
    "tags": []
   },
   "outputs": [],
   "source": [
    "import os\n",
    "import numpy as np\n",
    "import pandas as pd\n",
    "import scanpy as sc\n",
    "import anndata \n",
    "import seaborn as sns\n",
    "from scipy.stats import zscore\n",
    "import matplotlib.pyplot as plt\n",
    "import collections\n",
    "from natsort import natsorted\n",
    "\n",
    "from scipy import stats\n",
    "from scipy import sparse\n",
    "from sklearn.decomposition import PCA\n",
    "from umap import UMAP\n",
    "from statsmodels.stats.multitest import multipletests\n",
    "\n",
    "from matplotlib.colors import LinearSegmentedColormap\n",
    "\n",
    "from scroutines.config_plots import *\n",
    "from scroutines import powerplots # .config_plots import *\n",
    "from scroutines import pnmf\n",
    "from scroutines import basicu\n",
    "\n",
    "from scroutines.gene_modules import GeneModules  \n",
    "\n",
    "# import importlib\n",
    "# import scroutines\n",
    "# importlib.reload(scroutines)\n",
    "# from scroutines.gene_modules import GeneModules  \n"
   ]
  },
  {
   "cell_type": "code",
   "execution_count": null,
   "id": "f45abc88-0cbc-4575-8035-9cb157c42bc2",
   "metadata": {},
   "outputs": [],
   "source": [
    "outfigdir = \"/u/home/f/f7xiesnm/project-zipursky/v1-bb/v1/figures/250409\"\n",
    "!mkdir -p $outfigdir"
   ]
  },
  {
   "cell_type": "markdown",
   "id": "ba1f61ee-ba83-4707-816d-37eb33a54b83",
   "metadata": {},
   "source": [
    "# load gene annotation and data"
   ]
  },
  {
   "cell_type": "code",
   "execution_count": null,
   "id": "e2945163-289c-48bf-9147-d5070e4deb8a",
   "metadata": {
    "tags": []
   },
   "outputs": [],
   "source": [
    "gene_modules = GeneModules()\n",
    "g, gs, ms = gene_modules.check_genes('Cdh13')\n",
    "print(\"\\t\".join(g))\n",
    "print(\"\\t\".join(gs))\n",
    "print(\"\\t\".join(ms))"
   ]
  },
  {
   "cell_type": "code",
   "execution_count": null,
   "id": "bc4ba53f-b74e-4eca-82dd-52f9cbbdb104",
   "metadata": {
    "tags": []
   },
   "outputs": [],
   "source": [
    "scores_abc = pd.read_csv(\"/u/home/f/f7xiesnm/project-zipursky/v1-bb/v1/data/v1_multiome/scores_l23abc.csv\", \n",
    "                         index_col=0,\n",
    "                        )\n",
    "scores_abc['scores_c-a'] = scores_abc['scores_c'] - scores_abc['scores_a']\n",
    "scores_abc"
   ]
  },
  {
   "cell_type": "code",
   "execution_count": null,
   "id": "8542eec8-b8e1-4a35-9237-0d3c0043349b",
   "metadata": {},
   "outputs": [],
   "source": [
    "adata = anndata.read(\"/u/home/f/f7xiesnm/project-zipursky/v1-bb/v1/data/v1_multiome/superdupermegaRNA_hasraw_multiome_l23.h5ad\")\n",
    "adata"
   ]
  },
  {
   "cell_type": "code",
   "execution_count": null,
   "id": "345d47ef-df93-4066-b2dd-382bac604a7c",
   "metadata": {
    "tags": []
   },
   "outputs": [],
   "source": [
    "adata.X = adata.raw.X"
   ]
  },
  {
   "cell_type": "code",
   "execution_count": null,
   "id": "47c07c89-4d36-4d6d-b4e5-305180e5bd7b",
   "metadata": {
    "tags": []
   },
   "outputs": [],
   "source": [
    "adata.obs['scores_a'] = scores_abc.loc[adata.obs.index,'scores_a'].copy()\n",
    "adata.obs['scores_b'] = scores_abc.loc[adata.obs.index,'scores_b'].copy()\n",
    "adata.obs['scores_c'] = scores_abc.loc[adata.obs.index,'scores_c'].copy()\n",
    "adata.obs['scores_c-a'] = scores_abc.loc[adata.obs.index,'scores_c-a'].copy()"
   ]
  },
  {
   "cell_type": "code",
   "execution_count": null,
   "id": "c715643c-0748-414c-b477-4294cb85b5cc",
   "metadata": {
    "tags": []
   },
   "outputs": [],
   "source": [
    "sample_labels = adata.obs['Sample'].values\n",
    "time_labels = [s[:-1].replace('DR', '') for s in sample_labels]\n",
    "\n",
    "adata.obs['sample'] = sample_labels #\n",
    "adata.obs['time']   = time_labels\n",
    "\n",
    "uniq_samples = natsorted(np.unique(sample_labels))\n",
    "nr_samples = [s for s in uniq_samples if \"DR\" not in s]\n",
    "dr_samples = [s for s in uniq_samples if \"DR\" in s]\n",
    "\n",
    "uniq_conds = np.array(natsorted(np.unique(adata.obs['cond'].values)))\n",
    "print(uniq_conds)"
   ]
  },
  {
   "cell_type": "code",
   "execution_count": null,
   "id": "f4677f2d-a037-4ab6-8ed3-12a1daa1acad",
   "metadata": {
    "tags": []
   },
   "outputs": [],
   "source": [
    "nr_idx = np.array([0,1,2,4,6,8,10])\n",
    "dr_idx = np.array([3,5,7,9])\n",
    "\n",
    "nr_times = np.array([6,8,10,12,14,17,21])\n",
    "dr_times = np.array(       [12,14,17,21])"
   ]
  },
  {
   "cell_type": "code",
   "execution_count": null,
   "id": "4d9ae16c-9107-4acd-8405-fbcd84bd8e0d",
   "metadata": {
    "tags": []
   },
   "outputs": [],
   "source": [
    "# remove mitocondria genes\n",
    "adata = adata[:,~adata.var.index.str.contains(r'^mt-')]\n",
    "# remove sex genes\n",
    "adata = adata[:,~adata.var.index.str.contains(r'^Xist$')]\n",
    "\n",
    "# filter genes\n",
    "cond = np.ravel((adata.X>0).sum(axis=0)) > 10 # expressed in more than 10 cells\n",
    "adata = adata[:,cond].copy()"
   ]
  },
  {
   "cell_type": "code",
   "execution_count": null,
   "id": "d7f44744-2143-4267-a3e1-6b1125fdd368",
   "metadata": {
    "tags": []
   },
   "outputs": [],
   "source": [
    "adata"
   ]
  },
  {
   "cell_type": "code",
   "execution_count": null,
   "id": "1fadd441-11aa-49ab-abcc-d8d5e9cf47ea",
   "metadata": {
    "tags": []
   },
   "outputs": [],
   "source": [
    "# counts\n",
    "x = adata.X\n",
    "cov = np.ravel(np.sum(x, axis=1))\n",
    "genes = adata.var.index.values\n",
    "\n",
    "# CP10k\n",
    "xn = (sparse.diags(1/cov).dot(x))*1e4\n",
    "\n",
    "# log2(CP10k+1)\n",
    "xln = xn.copy()\n",
    "xln.data = np.log2(xln.data+1)\n",
    "\n",
    "adata.layers[    'norm'] = np.array(xn.todense())\n",
    "adata.layers[ 'lognorm'] = np.array(xln.todense())"
   ]
  },
  {
   "cell_type": "code",
   "execution_count": null,
   "id": "68521b0d-a21a-4cd2-a830-d1f5a4173743",
   "metadata": {
    "tags": []
   },
   "outputs": [],
   "source": [
    "fin1 = '/u/home/f/f7xiesnm/project-zipursky/v1-bb/v1/data/v1_multiome/DEG_l23abc_qs_250409.npy'\n",
    "fin2 = '/u/home/f/f7xiesnm/project-zipursky/v1-bb/v1/data/v1_multiome/DEG_l23abc_l2fc_250409.npy'\n",
    "# fin3 = '/u/home/f/f7xiesnm/project-zipursky/v1-bb/v1/data/v1_multiome/DEG_l23abc_gene_list_250409.csv'\n",
    "\n",
    "qs_tensor = np.load(fin1)\n",
    "l2fc_tensor = np.load(fin2)\n",
    "\n",
    "l2fc_th = np.log2(2)\n",
    "l2fc_th_s = np.log2(1.2)\n",
    "alpha_th = 0.05"
   ]
  },
  {
   "cell_type": "code",
   "execution_count": null,
   "id": "fc1eeebe-7bce-4362-bbf7-a586bc4066e8",
   "metadata": {
    "tags": []
   },
   "outputs": [],
   "source": [
    "qs_ca   = qs_tensor[:,0,:]\n",
    "qs_ba   = qs_tensor[:,1,:]\n",
    "qs_bc   = qs_tensor[:,2,:]\n",
    "\n",
    "l2fc_ca = l2fc_tensor[:,0,:]\n",
    "l2fc_ba = l2fc_tensor[:,1,:]\n",
    "l2fc_bc = l2fc_tensor[:,2,:]"
   ]
  },
  {
   "cell_type": "code",
   "execution_count": null,
   "id": "81c8bc22-1f49-4145-8e97-689396759a4d",
   "metadata": {
    "tags": []
   },
   "outputs": [],
   "source": [
    "qs_a   = np.minimum(qs_ca, qs_ba) # the better of the two\n",
    "qs_c   = np.minimum(qs_ca, qs_bc) # the better of the two\n",
    "qs_b   = np.minimum(qs_ba, qs_bc) # the better of the two\n",
    "\n",
    "l2fc_a = np.max([-l2fc_ca, -l2fc_ba], axis=0) # mean fold change\n",
    "l2fc_c = np.max([ l2fc_ca, -l2fc_bc], axis=0) # mean fold change\n",
    "l2fc_b = np.max([ l2fc_ba,  l2fc_bc], axis=0) # mean fold change\n",
    "\n",
    "\n",
    "l2fc_as = np.min([-l2fc_ca, -l2fc_ba], axis=0) # mean fold change\n",
    "l2fc_cs = np.min([ l2fc_ca, -l2fc_bc], axis=0) # mean fold change\n",
    "l2fc_bs = np.min([ l2fc_ba,  l2fc_bc], axis=0) # mean fold change\n",
    "\n",
    "\n",
    "cond_sig_a = np.all([-l2fc_ca > 0, -l2fc_ba > 0, l2fc_a > l2fc_th, qs_a < alpha_th], axis=0)\n",
    "cond_sig_c = np.all([ l2fc_ca > 0, -l2fc_bc > 0, l2fc_c > l2fc_th, qs_c < alpha_th], axis=0)\n",
    "cond_sig_b = np.all([ l2fc_ba > 0,  l2fc_bc > 0, l2fc_b > l2fc_th, qs_b < alpha_th, l2fc_bs > l2fc_th_s], axis=0)\n",
    "\n",
    "\n",
    "instances, counts_a = np.unique(cond_sig_a.sum(axis=0), return_counts=True)\n",
    "instances, counts_c = np.unique(cond_sig_c.sum(axis=0), return_counts=True)\n",
    "instances, counts_b = np.unique(cond_sig_b.sum(axis=0), return_counts=True)\n",
    "\n",
    "print('num A genes for each cond:\\t', cond_sig_a.sum(axis=1), np.any(cond_sig_a, axis=0).sum())\n",
    "print('num C genes for each cond:\\t', cond_sig_c.sum(axis=1), np.any(cond_sig_c, axis=0).sum())\n",
    "print('num B genes for each cond:\\t', cond_sig_b.sum(axis=1), np.any(cond_sig_b, axis=0).sum())\n",
    "\n",
    "print('num A genes in num conds:\\t',  counts_a[1:])\n",
    "print('num C genes in num conds:\\t',  counts_c[1:])\n",
    "print('num B genes in num conds:\\t',  counts_b[1:])"
   ]
  },
  {
   "cell_type": "code",
   "execution_count": null,
   "id": "2214c360-0c38-4bc9-8631-6bd8c9dbd91c",
   "metadata": {
    "tags": []
   },
   "outputs": [],
   "source": [
    "df_res_all = []\n",
    "\n",
    "for label, cond_sig in zip(['A', 'C', 'B'], \n",
    "                           [cond_sig_a, cond_sig_c, cond_sig_b]):\n",
    "    \n",
    "    cond_idx, gene_idx = np.nonzero(cond_sig.astype(int))\n",
    "    \n",
    "    df_res = pd.DataFrame()\n",
    "    df_res['cond'] = uniq_conds[cond_idx]\n",
    "    df_res['gene'] = genes[gene_idx]\n",
    "    df_res['archetype'] = label\n",
    "    df_res_all.append(df_res)\n",
    "    \n",
    "df_res_all = pd.concat(df_res_all)\n",
    "df_res_all\n",
    "    "
   ]
  },
  {
   "cell_type": "markdown",
   "id": "b50d16c6-c867-4c24-95f2-a96005c04dcb",
   "metadata": {
    "tags": []
   },
   "source": [
    "# further check"
   ]
  },
  {
   "cell_type": "code",
   "execution_count": null,
   "id": "2b282aab-030c-4369-b719-dc84716a0cc5",
   "metadata": {
    "tags": []
   },
   "outputs": [],
   "source": [
    "cond_sig_a_any = np.any(cond_sig_a, axis=0)\n",
    "cond_sig_b_any = np.any(cond_sig_b, axis=0)\n",
    "cond_sig_c_any = np.any(cond_sig_c, axis=0)\n",
    "cond_sig_abc_any = np.any(cond_sig_a+cond_sig_b+cond_sig_c, axis=0)\n",
    "cond_sig_a_any.sum(), cond_sig_b_any.sum(), cond_sig_c_any.sum(), cond_sig_abc_any.sum()"
   ]
  },
  {
   "cell_type": "code",
   "execution_count": null,
   "id": "09a073e4-0140-414a-b28f-e99d6fd1424f",
   "metadata": {
    "tags": []
   },
   "outputs": [],
   "source": [
    "# adata.obs['sample'].unique()\n",
    "import re\n",
    "\n",
    "todo_conds = [\n",
    "    'P12DR', 'P14DR', 'P17DR', 'P21DR',\n",
    "    'P6', 'P8', 'P10', 'P12', 'P14', 'P17', 'P21', \n",
    "]\n",
    "todo_samps = [\n",
    "    'P12DRa', 'P12DRb',\n",
    "    'P14DRa', 'P14DRb',\n",
    "    'P17DRa', 'P17DRb',\n",
    "    'P21DRa', 'P21DRb',\n",
    "    'P6a', 'P6b', 'P6c', \n",
    "    'P8a', 'P8b', 'P8c', \n",
    "    'P10a', 'P10b', \n",
    "    'P12a', 'P12b', 'P12c', \n",
    "    'P14a', 'P14b',\n",
    "    'P17a', 'P17b', \n",
    "    'P21a', 'P21b', \n",
    "]\n",
    "todo_conds_t = np.array([int(re.sub(r'[a-zA-Z]', '', a)) for a in todo_conds])\n",
    "todo_samps_t = np.array([int(re.sub(r'[a-zA-Z]', '', a)) for a in todo_samps])\n",
    "print(todo_conds_t)\n",
    "print(todo_samps_t)\n",
    "\n",
    "def mean_over_samples(mmat_res_samp):\n",
    "    \"\"\"25 samples to 11 conditions\n",
    "    \"\"\"\n",
    "    assert mmat_res_samp.shape[0] == 25\n",
    "    \n",
    "    mmat_res_samp_mean = np.zeros(mmat_res_samp.shape)[:11]\n",
    "    mmat_res_samp_mean[0] = np.mean(mmat_res_samp[ :2], axis=0)\n",
    "    mmat_res_samp_mean[1] = np.mean(mmat_res_samp[2:4], axis=0)\n",
    "    mmat_res_samp_mean[2] = np.mean(mmat_res_samp[4:6], axis=0)\n",
    "    mmat_res_samp_mean[3] = np.mean(mmat_res_samp[6:8], axis=0)\n",
    "\n",
    "    mmat_res_samp_mean[4] = np.mean(mmat_res_samp[8:11], axis=0)\n",
    "    mmat_res_samp_mean[5] = np.mean(mmat_res_samp[11:14], axis=0)\n",
    "    mmat_res_samp_mean[6] = np.mean(mmat_res_samp[14:16], axis=0)\n",
    "    mmat_res_samp_mean[7] = np.mean(mmat_res_samp[16:19], axis=0)\n",
    "    mmat_res_samp_mean[8] = np.mean(mmat_res_samp[19:21], axis=0)\n",
    "    mmat_res_samp_mean[9] = np.mean(mmat_res_samp[21:23], axis=0)\n",
    "    mmat_res_samp_mean[10] = np.mean(mmat_res_samp[23:  ], axis=0)\n",
    "    \n",
    "    return mmat_res_samp_mean\n",
    "\n",
    "def transform_bigredmat(bigmat, n_type):\n",
    "    \"\"\"bigmat or redmat\n",
    "    to fmat and zmat\n",
    "    \"\"\"\n",
    "    fmat = bigmat.reshape(-1, bigmat.shape[-1]).T\n",
    "    fmat = np.hstack([fmat[:,4*n_type:], fmat[:,:4*n_type]]) # CHANGED COLUMN ORDER!!\n",
    "    zmat = zscore(fmat, axis=1)\n",
    "    \n",
    "    return fmat, zmat"
   ]
  },
  {
   "cell_type": "code",
   "execution_count": null,
   "id": "d4059c8d-5dba-4970-8360-e9bfa32dad62",
   "metadata": {
    "tags": []
   },
   "outputs": [],
   "source": [
    "%%time\n",
    "\n",
    "offset = 1\n",
    "mat = adata.layers['norm'][...]\n",
    "gexp_l23baseline = np.log2(np.mean(mat, axis=0)*1e2+offset) # CP10k -> CPM\n",
    "\n",
    "n_type = 10\n",
    "frac_archetypal_cells_viz = 0.2\n",
    "bigmat_nfd = np.zeros((len(todo_samps), n_type, mat.shape[1]))\n",
    "bigmat_abc = np.zeros((len(todo_samps),      3, mat.shape[1]))\n",
    "\n",
    "for i, samp in enumerate(todo_samps):\n",
    "    print(samp)\n",
    "    \n",
    "    # get sub\n",
    "    adatasub = adata[adata.obs['sample']==samp]\n",
    "    n_cells = adatasub.shape[0]\n",
    "    \n",
    "    # get A vs C \n",
    "    ranks_ac = adatasub.obs['scores_c-a'].rank()\n",
    "    ranks_b  = adatasub.obs['scores_b'].rank()\n",
    "    \n",
    "    # per type\n",
    "    cells_type_nfd = pd.qcut(ranks_ac, n_type, labels=False)\n",
    "    for j in range(n_type):\n",
    "        mat_j = adatasub[cells_type_nfd==j].layers['norm'][...]\n",
    "        mmat_j = np.log2(np.mean(mat_j, axis=0)*1e2+offset)-gexp_l23baseline # CP10k -> CPM\n",
    "        bigmat_nfd[i,j] = mmat_j\n",
    "    \n",
    "    # A, B, C\n",
    "    num_archetypal_cells_viz = int(n_cells*frac_archetypal_cells_viz)\n",
    "    \n",
    "    precond_a = ranks_ac <= num_archetypal_cells_viz\n",
    "    precond_c = ranks_ac > adatasub.shape[0] - num_archetypal_cells_viz\n",
    "    precond_b = ranks_b  > adatasub.shape[0] - num_archetypal_cells_viz\n",
    "    \n",
    "    cond_a = np.all([ precond_a, ~precond_b, ~precond_c], axis=0)\n",
    "    cond_b = np.all([~precond_a,  precond_b, ~precond_c], axis=0)\n",
    "    cond_c = np.all([~precond_a, ~precond_b,  precond_c], axis=0)\n",
    "    \n",
    "    for j, cond in enumerate([cond_a, cond_b, cond_c]):\n",
    "        mat_j = adatasub[cond].layers['norm'][...]\n",
    "        mmat_j = np.log2(np.mean(mat_j, axis=0)*1e2+offset)-gexp_l23baseline # CP10k -> CPM\n",
    "        bigmat_abc[i,j] = mmat_j\n"
   ]
  },
  {
   "cell_type": "code",
   "execution_count": null,
   "id": "be03b254-6d74-4aae-8850-c40e6de411b1",
   "metadata": {
    "tags": []
   },
   "outputs": [],
   "source": [
    "redmat_nfd = mean_over_samples(bigmat_nfd)\n",
    "fmat_nfd, zmat_nfd = transform_bigredmat(redmat_nfd, n_type)\n",
    "print(fmat_nfd.shape)   # gene, cond*type\n",
    "print(zmat_nfd.shape)   # gene, cond*type\n",
    "\n",
    "fmat_nfd_abcg = fmat_nfd[cond_sig_abc_any]\n",
    "zmat_nfd_abcg = zmat_nfd[cond_sig_abc_any]"
   ]
  },
  {
   "cell_type": "code",
   "execution_count": null,
   "id": "5b2b09b4",
   "metadata": {
    "tags": []
   },
   "outputs": [],
   "source": [
    "# res_a = organize_zmat(zmat_nfd_ag, fmat_nfd_ag, redmat_nfd_ag, title='A genes', genes=genes[cond_sig_a_any])\n",
    "# res_b = organize_zmat(zmat_nfd_bg, fmat_nfd_bg, redmat_nfd_bg, title='B genes', genes=genes[cond_sig_b_any])\n",
    "# res_c = organize_zmat(zmat_nfd_cg, fmat_nfd_cg, redmat_nfd_cg, title='C genes', genes=genes[cond_sig_c_any])\n",
    "# res_abc = organize_zmat(zmat_nfd_abcg, fmat_nfd_abcg, redmat_nfd_abcg, title='ABC genes', genes=genes[cond_sig_abc_any])"
   ]
  },
  {
   "cell_type": "markdown",
   "id": "ed42ba3a-794e-492d-a73d-b586c8c2e1df",
   "metadata": {},
   "source": [
    "# Profile these modules"
   ]
  },
  {
   "cell_type": "code",
   "execution_count": null,
   "id": "0dd26d7e-d8e4-4b81-a412-a04a45a005e8",
   "metadata": {
    "tags": []
   },
   "outputs": [],
   "source": [
    "genes_a = genes[cond_sig_a_any]\n",
    "genes_b = genes[cond_sig_b_any]\n",
    "genes_c = genes[cond_sig_c_any]\n",
    "\n",
    "cond_sig_abc_any = np.any([\n",
    "    cond_sig_a_any, \n",
    "    cond_sig_b_any, \n",
    "    cond_sig_c_any, \n",
    "], axis=0)\n",
    "print(cond_sig_abc_any.sum())\n",
    "genes_abc = genes[cond_sig_abc_any]"
   ]
  },
  {
   "cell_type": "code",
   "execution_count": null,
   "id": "407be53b-4807-43e3-a471-32c730d190bd",
   "metadata": {
    "tags": []
   },
   "outputs": [],
   "source": [
    "csm_annots = [\n",
    "    'igsf',    \n",
    "    'cad',     \n",
    "    'fbrn',    \n",
    "    'eph',     \n",
    "    'sema',    \n",
    "    'tene',    \n",
    "    'astn',    \n",
    "    'cntnap',  \n",
    "    'nrxn',    \n",
    "    'axon',    \n",
    "    'wiring',\n",
    "]"
   ]
  },
  {
   "cell_type": "code",
   "execution_count": null,
   "id": "abc9da1e-31ca-45c0-bd94-c9b5cdcaa552",
   "metadata": {
    "tags": []
   },
   "outputs": [],
   "source": [
    "gene_annots_abc = gene_modules.check_genes(genes_abc)[0]\n",
    "cond_csm_abc = np.array([_g in csm_annots for _g in gene_annots_abc])\n",
    "print(genes_abc[cond_csm_abc], np.sum(cond_csm_abc))\n",
    "\n",
    "gene_annots_a = gene_modules.check_genes(genes_a)[0]\n",
    "cond_csm_a = np.array([_g in csm_annots for _g in gene_annots_a])\n",
    "print(genes_a[cond_csm_a], np.sum(cond_csm_a))\n",
    "\n",
    "gene_annots_b = gene_modules.check_genes(genes_b)[0]\n",
    "cond_csm_b = np.array([_g in csm_annots for _g in gene_annots_b])\n",
    "print(genes_b[cond_csm_b], np.sum(cond_csm_b))\n",
    "\n",
    "gene_annots_c = gene_modules.check_genes(genes_c)[0]\n",
    "cond_csm_c = np.array([_g in csm_annots for _g in gene_annots_c])\n",
    "print(genes_c[cond_csm_c], np.sum(cond_csm_c))"
   ]
  },
  {
   "cell_type": "markdown",
   "id": "1e11a9c2-b6c5-405f-9293-500f5b4d1e57",
   "metadata": {},
   "source": [
    "# Import Vision ABC genes"
   ]
  },
  {
   "cell_type": "code",
   "execution_count": null,
   "id": "84b72ea9-7105-4273-990a-9a5ab7dcbb45",
   "metadata": {},
   "outputs": [],
   "source": [
    "df_nrdr = pd.read_csv('/u/home/f/f7xiesnm/project-zipursky/v1-bb/v1/results_sexual_dimorphism/summary_l23_p21nrdr.csv')\n",
    "df_nrdr"
   ]
  },
  {
   "cell_type": "code",
   "execution_count": null,
   "id": "1bd38387-1288-4d4d-91b8-4e85840134d6",
   "metadata": {
    "tags": []
   },
   "outputs": [],
   "source": [
    "df_nrdr['is_csm'] = np.array([_g in csm_annots for _g in gene_modules.check_genes(df_nrdr['gene'].values)[0]])\n",
    "df_nrdr[df_nrdr['is_csm']]"
   ]
  },
  {
   "cell_type": "code",
   "execution_count": null,
   "id": "15c883f5-33d2-40cf-896e-7287e68d4098",
   "metadata": {
    "tags": []
   },
   "outputs": [],
   "source": [
    "abc_csm = genes_abc[cond_csm_abc]\n",
    "len(abc_csm), abc_csm"
   ]
  },
  {
   "cell_type": "code",
   "execution_count": null,
   "id": "94a83124-24ec-4364-a928-cfb7d07be2a1",
   "metadata": {
    "tags": []
   },
   "outputs": [],
   "source": [
    "vision_abc_all = df_nrdr['gene'].values\n",
    "vision_abc_csm = df_nrdr[df_nrdr['is_csm']]['gene'].values\n",
    "vision_abc_csm"
   ]
  },
  {
   "cell_type": "code",
   "execution_count": null,
   "id": "10f17cfb-cf27-4115-8859-9905bc7c03eb",
   "metadata": {
    "tags": []
   },
   "outputs": [],
   "source": [
    "vision_abc_synaptic_b = ['Bdnf', 'Nptx2', 'Homer1', 'Plcl1', 'Ppm1h']  \n",
    "vision_abc_synaptic = ['Bdnf', 'Nptx2', 'Homer1', 'Plcl1', 'Ppm1h', 'C1ql3', 'Syt10', 'Rph3a']  "
   ]
  },
  {
   "cell_type": "markdown",
   "id": "d2ecf96e-5267-49e4-a166-ff6c4a17984c",
   "metadata": {},
   "source": [
    "# streamline 2 heatmaps"
   ]
  },
  {
   "cell_type": "code",
   "execution_count": null,
   "id": "8ebb1b41-f887-493c-9095-9e9eb4d35692",
   "metadata": {
    "tags": []
   },
   "outputs": [],
   "source": [
    "def order_zmat(zmat, metric0=None):\n",
    "    \"\"\"order rows\n",
    "    \"\"\"\n",
    "    zmat_nr = zmat[:,:10]\n",
    "    zmat_dr = zmat[:,10:]\n",
    "    \n",
    "    # metric0: categorical (provided)\n",
    "    if metric0 is None:\n",
    "        # metric0 = [0]*len(zmat)\n",
    "        metric0 = (np.mean(zmat_dr, axis=1) - np.mean(zmat_nr, axis=1)) > 0\n",
    "    \n",
    "    # metric2: continuous (where in NR)\n",
    "    # metric2 = np.argmax(zmat_nr, axis=1) # peak location\n",
    "    pmat_nr = np.exp(zmat_nr)\n",
    "    pmat_nr = pmat_nr/np.sum(pmat_nr, axis=1).reshape(-1,1)\n",
    "    metric2 = pmat_nr.dot(np.arange(10))                     # centroid location\n",
    "    \n",
    "    \n",
    "    # first by metric 0 then by metric 2\n",
    "    dforder = pd.DataFrame()\n",
    "    dforder['m0'] = metric0\n",
    "    dforder['m2'] = metric2\n",
    "    \n",
    "    gene_order = dforder.sort_values(['m0', 'm2']).index.values\n",
    "    return dforder, gene_order\n",
    "\n",
    "\n",
    "def mark_ticklabels(highlights, color='red'):\n",
    "    \"\"\"\n",
    "    \"\"\"\n",
    "    # Get the tick labels\n",
    "    tick_labels = plt.gca().get_yticklabels()\n",
    "\n",
    "    # Mark labels at x = 2 and x = 8 in red\n",
    "    for label in tick_labels:\n",
    "        tick_val = label.get_text()\n",
    "        if tick_val in highlights:\n",
    "            label.set_color(color)\n",
    "    return "
   ]
  },
  {
   "cell_type": "code",
   "execution_count": null,
   "id": "7f26c4bd-a1d9-4a86-adf5-b395001ab9f9",
   "metadata": {},
   "outputs": [],
   "source": [
    "selected_conditions = [6,10]\n",
    "columns = np.hstack([\n",
    "    6*n_type+np.arange(n_type), \n",
    "   10*n_type+np.arange(n_type),\n",
    "])"
   ]
  },
  {
   "cell_type": "code",
   "execution_count": null,
   "id": "5f23d00f-5f0e-4968-8ac4-4dd8efbbe328",
   "metadata": {},
   "outputs": [],
   "source": [
    "zmat_nfd_abcg.shape, vision_abc_csm"
   ]
  },
  {
   "cell_type": "code",
   "execution_count": null,
   "id": "d9ed2ce1-315d-45ac-a2b7-ba500565b940",
   "metadata": {},
   "outputs": [],
   "source": [
    "genes_this = vision_abc_csm\n",
    "genes_this = [\n",
    "    # A down\n",
    "    'Cdh4', 'Ptprg', \n",
    "    # A up\n",
    "    'Epha6', 'Slit3',\n",
    "    # B down\n",
    "    'Nrp1', 'Ctnna3', 'Megf11', \n",
    "    # B up\n",
    "    'Cdh18',\n",
    "    # C down\n",
    "    'Igsf9b', 'Epha10', 'Ntng1', \n",
    "    # C up\n",
    "    'Cdh20', 'Cntnap4',  'Pcdh10', 'Cdh7', \n",
    "    ] \n",
    "genes_idx = basicu.get_index_from_array(genes_abc, genes_this)\n",
    "\n",
    "fig, ax = plt.subplots(1,1,figsize=(8,5))\n",
    "zmat = zmat_nfd_abcg[genes_idx, :][:, columns]\n",
    "zmat = stats.zscore(zmat, axis=1)\n",
    "sns.heatmap(zmat,#[:,:7*10], \n",
    "            cmap='coolwarm', cbar_kws=dict(shrink=0.5), \n",
    "            xticklabels=False,\n",
    "            # vmax=2.5, vmin=-2.5,\n",
    "            vmax=2, vmin=-2,\n",
    "            rasterized=True,\n",
    "            ax=ax)\n",
    "ax.set_yticks(0.5+np.arange(len(zmat)))\n",
    "ax.set_yticklabels(genes_this, fontsize=12, rotation=0)\n",
    "\n",
    "ax.vlines(10, 0, len(zmat), color='white', linewidth=1)\n",
    "ax.hlines([4,8], 0, 20, color='white', linewidth=1)\n",
    "# ax.hlines([2,4,7,8,11], 0, 20, color='white', linewidth=1)\n",
    "for i, cond in enumerate(['P21NR', 'P21DR']):\n",
    "    ax.text(i*10, -0.5, f'{cond}', fontsize=12, va='bottom')\n",
    "plt.show()\n"
   ]
  },
  {
   "cell_type": "code",
   "execution_count": null,
   "id": "a8048b80-da50-4c3c-a8c3-268210e3b81a",
   "metadata": {
    "tags": []
   },
   "outputs": [],
   "source": [
    "genes_this = vision_abc_all\n",
    "genes_idx = basicu.get_index_from_array(genes_abc, genes_this)\n",
    "genes_highlights1 = vision_abc_csm\n",
    "genes_highlights2 = vision_abc_synaptic\n",
    "\n",
    "fig, ax = plt.subplots(1,1,figsize=(7,14))\n",
    "zmat = zmat_nfd_abcg[genes_idx, :][:, columns]\n",
    "zmat = stats.zscore(zmat, axis=1)\n",
    "dforder, gene_order = order_zmat(zmat)\n",
    "zmat = zmat[gene_order]\n",
    "genes_this = genes_this[gene_order]\n",
    "sns.heatmap(zmat, \n",
    "            cmap='coolwarm', cbar_kws=dict(shrink=0.3), \n",
    "            xticklabels=False,\n",
    "            # vmax=2.5, vmin=-2.5,\n",
    "            vmax=2, vmin=-2,\n",
    "            rasterized=True,\n",
    "            ax=ax)\n",
    "ax.set_yticks(0.5+np.arange(len(zmat)))\n",
    "ax.set_yticklabels(genes_this, fontsize=12, rotation=0)\n",
    "mark_ticklabels(genes_highlights1, color='magenta')\n",
    "mark_ticklabels(genes_highlights2, color='green')\n",
    "\n",
    "ax.vlines(10, 0, len(zmat), color='white', linewidth=1)\n",
    "# ax.hlines([4,8], 0, 20, color='white', linewidth=1)\n",
    "# ax.hlines([2,4,7,8,11], 0, 20, color='white', linewidth=1)\n",
    "for i, cond in enumerate(['P21NR', 'P21DR']):\n",
    "    ax.text(i*10, -0.5, f'{cond}', fontsize=12, va='bottom')\n",
    "    \n",
    "output = os.path.join(outfigdir, 'vision_abc_heatmap.pdf')\n",
    "powerplots.savefig_autodate(fig, output)\n",
    "\n",
    "plt.show()"
   ]
  },
  {
   "cell_type": "code",
   "execution_count": null,
   "id": "b09f5a48-a91f-4a2b-b06a-80fcacba5966",
   "metadata": {
    "tags": []
   },
   "outputs": [],
   "source": [
    "genes_this = abc_csm\n",
    "genes_idx = basicu.get_index_from_array(genes_abc, genes_this)\n",
    "genes_highlights1 = vision_abc_csm\n",
    "\n",
    "fig, ax = plt.subplots(1,1,figsize=(7,14))\n",
    "zmat = zmat_nfd_abcg[genes_idx, :][:, columns]\n",
    "zmat = stats.zscore(zmat, axis=1)\n",
    "\n",
    "genes_this_metric_a = np.array([g in vision_abc_csm for g in genes_this]).astype(int)\n",
    "genes_this_metric_b = (np.mean(zmat[:,10:]-zmat[:,:10], axis=1) > 0).astype(int)+1\n",
    "genes_this_metric0 = genes_this_metric_a * genes_this_metric_b\n",
    "\n",
    "dforder, gene_order = order_zmat(zmat, genes_this_metric0)\n",
    "zmat = zmat[gene_order]\n",
    "genes_this = genes_this[gene_order]\n",
    "\n",
    "sns.heatmap(zmat, \n",
    "            cmap='coolwarm', cbar_kws=dict(shrink=0.3), \n",
    "            xticklabels=False,\n",
    "            # vmax=2.5, vmin=-2.5,\n",
    "            vmax=2, vmin=-2,\n",
    "            rasterized=True,\n",
    "            ax=ax)\n",
    "ax.set_yticks(0.5+np.arange(len(zmat)))\n",
    "ax.set_yticklabels(genes_this, fontsize=12, rotation=0)\n",
    "mark_ticklabels(genes_highlights1, color='magenta')\n",
    "\n",
    "ax.vlines(10, 0, len(zmat), color='white', linewidth=1)\n",
    "# ax.hlines([4,8], 0, 20, color='white', linewidth=1)\n",
    "# ax.hlines([2,4,7,8,11], 0, 20, color='white', linewidth=1)\n",
    "for i, cond in enumerate(['P21NR', 'P21DR']):\n",
    "    ax.text(i*10, -0.5, f'{cond}', fontsize=12, va='bottom')\n",
    "    \n",
    "output = os.path.join(outfigdir, 'csm_abc_heatmap.pdf')\n",
    "powerplots.savefig_autodate(fig, output)\n",
    "\n",
    "plt.show()"
   ]
  },
  {
   "cell_type": "markdown",
   "id": "467460e4-5750-4900-ab65-a569c087e9b8",
   "metadata": {},
   "source": [
    "# Line plots"
   ]
  },
  {
   "cell_type": "code",
   "execution_count": null,
   "id": "12409d44-99f1-4936-aadd-c46cf6457974",
   "metadata": {},
   "outputs": [],
   "source": [
    "adatasub_nr = adata[adata.obs['cond']=='P21NR']\n",
    "adatasub_dr = adata[adata.obs['cond']=='P21DR']\n",
    "\n",
    "x1 = adatasub_nr.obs['scores_c-a'].values\n",
    "x2 = adatasub_dr.obs['scores_c-a'].values\n",
    "x1min, x1max = np.min(x1), np.max(x1)\n",
    "x2min, x2max = np.min(x2), np.max(x2)\n",
    "\n",
    "x1 = (x1-x1min)/(x1max-x1min)\n",
    "x2 = (x2-x2min)/(x2max-x2min)\n",
    "\n",
    "nbins = 10 \n",
    "xmids = np.arange(1/(2*nbins),1,1/nbins)"
   ]
  },
  {
   "cell_type": "code",
   "execution_count": null,
   "id": "699b5dc9-b65a-4e8e-95fa-c9df88dc7371",
   "metadata": {
    "tags": []
   },
   "outputs": [],
   "source": [
    "# genes_plot = vision_abc_csms[:10] # genes_abc_csm[cond_sig]\n",
    "\n",
    "genes_plot = [\n",
    "#     ### synaptic B\n",
    "#     'Homer1', 'Plcl1',\n",
    "#     'Bdnf', 'Nptx2', \n",
    "#     'Ppm1h', \n",
    "    \n",
    "#     ### CSMs\n",
    "#     'Pcdh19', 'Pcdh15', 'Pcdh10', \n",
    "#     'Cdh4',   'Cdh18',  'Cdh20',\n",
    "#     'Ptprg',  'Megf11', 'Igsf9b',\n",
    "#     'Epha6',  'Nrp1',   'Epha10',\n",
    "#     'Slit3',  'Ctnna3', 'Cntnap4',\n",
    "    \n",
    "    # 'Cdh7', 'Cdh20'\n",
    "    'Slit3',\n",
    "    # 'Rph3a', 'Syt10', 'C1ql3'\n",
    "    \n",
    "    ### others\n",
    "    # 'Mapk4',                      # B synaptic vision-dependent - but less well known than ERK1/2 MAPKs - synapic strength\n",
    "    # 'C1ql3',                      # B synaptic vision-dependent - but looks like A-enriched\n",
    "    # 'Amph', 'Dtna',               # B synaptic less vision-dependent\n",
    "    # 'Rph3a',                      # synaptic C\n",
    "    # 'Syt10', 'Sparcl1', 'Fnbp1l', # synaptic A\n",
    "]\n",
    "\n",
    "\n",
    "n = len(genes_plot)\n",
    "nx = 3\n",
    "ny = int((n+nx-1)/nx)\n",
    "\n",
    "fig, axs = plt.subplots(ny, nx, figsize=(3*nx,4*ny), sharey=True)\n",
    "for i, gene in enumerate(genes_plot):\n",
    "    ax = axs.flat[i]\n",
    "    \n",
    "    y1 = np.array(adatasub_nr[:,gene].layers['norm']).reshape(-1,)\n",
    "    y2 = np.array(adatasub_dr[:,gene].layers['norm']).reshape(-1,)\n",
    "\n",
    "    df1 = pd.DataFrame(np.vstack([x1,y1]).T)\n",
    "    df1['bin_idx'] = pd.qcut(df1[0], nbins, labels=False)\n",
    "    df1_mean = df1.groupby('bin_idx').mean()\n",
    "    scale = df1_mean[1].max()\n",
    "    df1_mean = df1_mean/scale\n",
    "    \n",
    "    df2 = pd.DataFrame(np.vstack([x2,y2]).T)\n",
    "    df2['bin_idx'] = pd.qcut(df2[0], nbins, labels=False)\n",
    "    df2_mean = df2.groupby('bin_idx').mean()\n",
    "    df2_mean = df2_mean/scale\n",
    "\n",
    "    # ax.scatter(x1, y1, s=10, edgecolors='none', color='C1', alpha=0.1)\n",
    "    # ax.scatter(x2, y2, s=10, edgecolors='none', color='k',  alpha=0.1)\n",
    "    ax.plot(df1_mean[1], xmids, '-o', markersize=5, color='k')\n",
    "    ax.plot(df2_mean[1], xmids, '-o', markersize=5, color='gray')\n",
    "    ax.set_ylim([1,0])\n",
    "    # ax.set_yticks(np.arange(0.1,1,1/5)[::-1])\n",
    "    ax.set_yticklabels([])\n",
    "    ax.set_xlabel('norm expr')\n",
    "    \n",
    "    ax.grid(axis='x')\n",
    "    \n",
    "    # ax.plot(xmids, np.log2(df2_mean[1]/df1_mean[1]), '-')\n",
    "    \n",
    "    ax.set_title(gene)\n",
    "    sns.despine(ax=ax)\n",
    "    # break\n",
    "    \n",
    "fig.tight_layout()\n",
    "plt.show()"
   ]
  },
  {
   "cell_type": "code",
   "execution_count": null,
   "id": "00bc62c4-d023-4ea1-82ac-aeff42e8bcd8",
   "metadata": {
    "tags": []
   },
   "outputs": [],
   "source": [
    "# genes_plot = vision_abc_csms[:10] # genes_abc_csm[cond_sig]\n",
    "\n",
    "genes_plot = [\n",
    "    \n",
    "    ### CSMs A\n",
    "    'Pcdh19', \n",
    "    'Cdh4',   \n",
    "    'Ptprg',  \n",
    "    'Epha6',  \n",
    "    'Slit3',  \n",
    "    \n",
    "    ### CSMs C\n",
    "    'Pcdh10', \n",
    "    'Cdh20',\n",
    "    'Igsf9b',\n",
    "    'Epha10',\n",
    "    'Cntnap4',\n",
    "    \n",
    "    ### CSMs B\n",
    "    'Pcdh15', \n",
    "    'Cdh18',  \n",
    "    'Megf11', \n",
    "    'Nrp1',   \n",
    "    'Ctnna3', \n",
    "    \n",
    "    ### synaptic B\n",
    "    'Homer1', 'Plcl1', 'Bdnf', 'Nptx2', 'Ppm1h', \n",
    "]\n",
    "\n",
    "\n",
    "n = len(genes_plot)\n",
    "nx = 5\n",
    "ny = int((n+nx-1)/nx)\n",
    "\n",
    "fig, axs = plt.subplots(ny, nx, figsize=(4*nx,4*ny), sharey=True)\n",
    "for i, gene in enumerate(genes_plot):\n",
    "    ax = axs.flat[i]\n",
    "    \n",
    "    y1 = np.array(adatasub_nr[:,gene].layers['norm']).reshape(-1,)\n",
    "    y2 = np.array(adatasub_dr[:,gene].layers['norm']).reshape(-1,)\n",
    "\n",
    "    df1 = pd.DataFrame(np.vstack([x1,y1]).T)\n",
    "    df1['bin_idx'] = pd.qcut(df1[0], nbins, labels=False)\n",
    "    df1_mean = df1.groupby('bin_idx').mean()\n",
    "    scale = df1_mean[1].max()\n",
    "    df1_mean = df1_mean/scale\n",
    "    \n",
    "    df2 = pd.DataFrame(np.vstack([x2,y2]).T)\n",
    "    df2['bin_idx'] = pd.qcut(df2[0], nbins, labels=False)\n",
    "    df2_mean = df2.groupby('bin_idx').mean()\n",
    "    df2_mean = df2_mean/scale\n",
    "\n",
    "    # ax.scatter(x1, y1, s=10, edgecolors='none', color='C1', alpha=0.1)\n",
    "    # ax.scatter(x2, y2, s=10, edgecolors='none', color='k',  alpha=0.1)\n",
    "    ax.plot(df1_mean[1], xmids, '-o', markersize=5, color='k')\n",
    "    ax.plot(df2_mean[1], xmids, '-o', markersize=5, color='gray')\n",
    "    ax.set_ylim([1,0])\n",
    "    # ax.set_yticks(np.arange(0.1,1,1/5)[::-1])\n",
    "    ax.set_yticklabels([])\n",
    "    ax.set_xlabel('normalized expression')\n",
    "    \n",
    "    ax.grid(axis='x')\n",
    "    \n",
    "    # ax.plot(xmids, np.log2(df2_mean[1]/df1_mean[1]), '-')\n",
    "    \n",
    "    ax.set_title(gene)\n",
    "    sns.despine(ax=ax)\n",
    "    # break\n",
    "    \n",
    "fig.tight_layout()\n",
    "output = os.path.join(outfigdir, 'vision_abc_lineplots.pdf')\n",
    "powerplots.savefig_autodate(fig, output)\n",
    "plt.show()"
   ]
  },
  {
   "cell_type": "markdown",
   "id": "7b52d1a4-3273-4767-b904-1e9d536d7a7c",
   "metadata": {},
   "source": [
    "# quantification"
   ]
  },
  {
   "cell_type": "code",
   "execution_count": null,
   "id": "6fa40ebe-e416-4994-8245-d0d8c0dd7b7f",
   "metadata": {
    "tags": []
   },
   "outputs": [],
   "source": [
    "l23_5fold_colors = np.array(['#2775B3', '#5D737C', '#F47C20', '#BD842B', '#2B9A47'])"
   ]
  },
  {
   "cell_type": "code",
   "execution_count": null,
   "id": "fc0eb964-e7ea-4532-b14e-a91b55d3448e",
   "metadata": {
    "tags": []
   },
   "outputs": [],
   "source": [
    "def get_mean_patterns(y1, y2, nbins_this):\n",
    "\n",
    "    df1 = pd.DataFrame(y1)\n",
    "    df1['bin_idx'] = pd.qcut(x1, nbins_this, labels=False)\n",
    "    df1_mean = df1.groupby('bin_idx').mean() # average over cells of the same bin\n",
    "\n",
    "    df2 = pd.DataFrame(y2)\n",
    "    df2['bin_idx'] = pd.qcut(x2, nbins_this, labels=False)\n",
    "    df2_mean = df2.groupby('bin_idx').mean() # average over cells of the same bin\n",
    "    logfc = np.log2(df2_mean/df1_mean)\n",
    "    \n",
    "    xmids = np.arange(1/(2*nbins_this),1,1/nbins_this)\n",
    "    \n",
    "    return xmids, logfc\n",
    "\n"
   ]
  },
  {
   "cell_type": "code",
   "execution_count": null,
   "id": "eb3cb9ae-8e02-427f-ac39-861f312abadb",
   "metadata": {
    "tags": []
   },
   "outputs": [],
   "source": [
    "# CP10k \n",
    "genes_plot = abc_csm\n",
    "nbins_this = 5\n",
    "y1 = np.array(adatasub_nr[:,genes_plot].layers['norm'])#.reshape(-1,)\n",
    "y2 = np.array(adatasub_dr[:,genes_plot].layers['norm'])#.reshape(-1,)\n",
    "xmids, logfc = get_mean_patterns(y1, y2, nbins_this)\n",
    "\n",
    "meanfc = np.mean(np.abs(logfc), axis=1)\n",
    "stdfc = np.std(np.abs(logfc), axis=1)\n",
    "\n",
    "fig, ax = plt.subplots(figsize=(4,4))\n",
    "ax.plot(meanfc, xmids,'-o', color='magenta') # , colors=np.repeat(l23_5fold_colors, 2))\n",
    "ax.fill_betweenx(xmids, \n",
    "                 meanfc-stdfc/np.sqrt(logfc.shape[1])*1.96, \n",
    "                 meanfc+stdfc/np.sqrt(logfc.shape[1])*1.96,\n",
    "                 color='magenta',\n",
    "                 edgecolors='none',\n",
    "                 alpha=0.2,\n",
    "               ) \n",
    "ax.invert_yaxis()\n",
    "sns.despine(ax=ax)\n",
    "ax.set_yticks(xmids)\n",
    "ax.set_ylabel('L2/3 cells')\n",
    "ax.set_xlabel('|log2(fold change)|')\n",
    "ax.set_title('P21 NR vs DR \\n (All archetype-enriched CSMs)')\n",
    "output = os.path.join(outfigdir, 'ac_line_csm.pdf')\n",
    "powerplots.savefig_autodate(fig, output)\n",
    "plt.show()\n",
    "\n",
    "# ax.grid(axis='x')\n",
    "# sns.boxplot(np.abs(logfc).T, \n",
    "#                color='white', \n",
    "#                ax=ax)\n",
    "# sns.violinplot(np.abs(logfc).T, \n",
    "#                color='white', \n",
    "#                cut=0, ax=ax)\n",
    "# sns.stripplot(np.abs(logfc).T, s=3, palette={i:j for i, j in enumerate(l23_5fold_colors)}, \n",
    "#               edgecolors='none', alpha=1, ax=ax)"
   ]
  },
  {
   "cell_type": "code",
   "execution_count": null,
   "id": "72f1c2cb-f399-4fdb-96a7-4acd3a03bb6b",
   "metadata": {
    "tags": []
   },
   "outputs": [],
   "source": [
    "genes_plot = vision_abc_synaptic\n",
    "nbins_this = 5\n",
    "y1 = np.array(adatasub_nr[:,genes_plot].layers['norm'])#.reshape(-1,)\n",
    "y2 = np.array(adatasub_dr[:,genes_plot].layers['norm'])#.reshape(-1,)\n",
    "xmids, logfc = get_mean_patterns(y1, y2, nbins_this)\n",
    "\n",
    "meanfc = np.mean(np.abs(logfc), axis=1)\n",
    "stdfc = np.std(np.abs(logfc), axis=1)\n",
    "\n",
    "fig, ax = plt.subplots(figsize=(4,4))\n",
    "ax.plot(meanfc, xmids,'-o', color='green') # , colors=np.repeat(l23_5fold_colors, 2))\n",
    "ax.fill_betweenx(xmids, \n",
    "                 meanfc-stdfc/np.sqrt(logfc.shape[1])*1.96, \n",
    "                 meanfc+stdfc/np.sqrt(logfc.shape[1])*1.96,\n",
    "                 color='green',\n",
    "                 edgecolors='none',\n",
    "                 alpha=0.2,\n",
    "               ) \n",
    "ax.invert_yaxis()\n",
    "sns.despine(ax=ax)\n",
    "ax.set_yticks(xmids)\n",
    "ax.set_ylabel('L2/3 cells')\n",
    "ax.set_xlabel('|log2(fold change)|')\n",
    "ax.set_title('P21 NR vs DR \\n (All archetype-enriched vision-dependent synaptic)')\n",
    "output = os.path.join(outfigdir, 'ac_line_synapse.pdf')\n",
    "powerplots.savefig_autodate(fig, output)\n",
    "plt.show()\n",
    "\n",
    "# ax.grid(axis='x')\n",
    "# sns.boxplot(np.abs(logfc).T, \n",
    "#                color='white', \n",
    "#                ax=ax)\n",
    "# sns.violinplot(np.abs(logfc).T, \n",
    "#                color='white', \n",
    "#                cut=0, ax=ax)\n",
    "# sns.stripplot(np.abs(logfc).T, s=3, palette={i:j for i, j in enumerate(l23_5fold_colors)}, \n",
    "#               edgecolors='none', alpha=1, ax=ax)"
   ]
  },
  {
   "cell_type": "code",
   "execution_count": null,
   "id": "6ded8437-46cb-4094-bdfe-5293e04b2dac",
   "metadata": {
    "tags": []
   },
   "outputs": [],
   "source": [
    "# CP10k \n",
    "genes_plot = vision_abc_all\n",
    "nbins_this = 5\n",
    "y1 = np.array(adatasub_nr[:,genes_plot].layers['norm'])#.reshape(-1,)\n",
    "y2 = np.array(adatasub_dr[:,genes_plot].layers['norm'])#.reshape(-1,)\n",
    "xmids, logfc = get_mean_patterns(y1, y2, nbins_this)\n",
    "\n",
    "meanfc = np.mean(np.abs(logfc), axis=1)\n",
    "stdfc = np.std(np.abs(logfc), axis=1)\n",
    "\n",
    "fig, ax = plt.subplots(figsize=(4,4))\n",
    "ax.plot(meanfc, xmids,'-o', color='k') # , colors=np.repeat(l23_5fold_colors, 2))\n",
    "ax.fill_betweenx(xmids, \n",
    "                 meanfc-stdfc/np.sqrt(logfc.shape[1])*1.96, \n",
    "                 meanfc+stdfc/np.sqrt(logfc.shape[1])*1.96,\n",
    "                 color='k',\n",
    "                 edgecolors='none',\n",
    "                 alpha=0.2,\n",
    "               ) \n",
    "ax.invert_yaxis()\n",
    "\n",
    "sns.despine(ax=ax)\n",
    "ax.set_yticks(xmids)\n",
    "ax.set_ylabel('L2/3 cells')\n",
    "ax.set_xlabel('|log2(fold change)|')\n",
    "ax.set_title('P21 NR vs DR \\n (all vision-dependent archetype-enriched genes)')\n",
    "output = os.path.join(outfigdir, 'ac_line_vision_abc.pdf')\n",
    "powerplots.savefig_autodate(fig, output)\n",
    "plt.show()"
   ]
  },
  {
   "cell_type": "code",
   "execution_count": null,
   "id": "65284ef6-bdb7-4da2-aa39-755c006745a3",
   "metadata": {
    "tags": []
   },
   "outputs": [],
   "source": [
    "# CP10k \n",
    "colors = ['k', 'green', 'magenta', 'magenta', ]\n",
    "titles = ['vision-dep.', 'vision-dep. synaptic', 'vision-dep. CSMs', 'vision-indep. CSMs']\n",
    "nonvision_abc_csm = np.array([g for g in abc_csm if g not in vision_abc_csm])\n",
    "\n",
    "fig, axs = plt.subplots(1,4, figsize=(4*4,4), sharey=True)\n",
    "for i, genes_plot in enumerate([vision_abc_all,  vision_abc_synaptic, vision_abc_csm, nonvision_abc_csm,]):\n",
    "    ax = axs[i]\n",
    "    nbins_this = 5\n",
    "    y1 = np.array(adatasub_nr[:,genes_plot].layers['norm'])#.reshape(-1,)\n",
    "    y2 = np.array(adatasub_dr[:,genes_plot].layers['norm'])#.reshape(-1,)\n",
    "    xmids, logfc = get_mean_patterns(y1, y2, nbins_this)\n",
    "\n",
    "    meanfc = np.mean(np.abs(logfc), axis=1)\n",
    "    stdfc = np.std(np.abs(logfc), axis=1)\n",
    "    ax.plot(meanfc, xmids,'-o', color=colors[i]) # , colors=np.repeat(l23_5fold_colors, 2))\n",
    "    ax.fill_betweenx(xmids, \n",
    "                     meanfc-stdfc/np.sqrt(logfc.shape[1])*1.96, \n",
    "                     meanfc+stdfc/np.sqrt(logfc.shape[1])*1.96,\n",
    "                     color=colors[i],\n",
    "                     edgecolors='none',\n",
    "                     alpha=0.2,\n",
    "                   ) \n",
    "    sns.despine(ax=ax)\n",
    "    ax.set_title(titles[i])\n",
    "    ax.set_yticks(xmids)\n",
    "    ax.set_ylabel('L2/3 cells')\n",
    "    ax.set_xlabel('|log2(fold change)|')\n",
    "    # ax.set_title('P21 NR vs DR \\n (all vision-dependent archetype-enriched genes)')\n",
    "axs[0].invert_yaxis()\n",
    "\n",
    "output = os.path.join(outfigdir, 'vision_on_archetype_gene_groups.pdf')\n",
    "powerplots.savefig_autodate(fig, output)\n",
    "plt.show()"
   ]
  },
  {
   "cell_type": "code",
   "execution_count": null,
   "id": "fd7e2b53-f04a-43af-afc9-25e6348ed90f",
   "metadata": {
    "tags": []
   },
   "outputs": [],
   "source": [
    "df_nrdr_anno = df_nrdr.copy().set_index('gene')\n",
    "df_nrdr_anno['anno'] = 'other' \n",
    "df_nrdr_anno.loc[vision_abc_csm, 'anno'] = 'csm'  #[df_nrdr_anno['is_csm']] = df_nrdr['is_csm']\n",
    "df_nrdr_anno.loc[vision_abc_synaptic, 'anno'] = 'synapse'  #[df_nrdr_anno['is_csm']] = df_nrdr['is_csm']\n",
    "df_nrdr_anno['sig_format'] = df_nrdr_anno['test_sig'].apply(lambda x: x.replace(' ALL', ''))\n",
    "df_nrdr_anno"
   ]
  },
  {
   "cell_type": "code",
   "execution_count": null,
   "id": "668064bc-34ef-4fb6-af6d-ba0ba55cdc47",
   "metadata": {
    "tags": []
   },
   "outputs": [],
   "source": [
    "fig, ax = plt.subplots(figsize=(5,4))\n",
    "df_plot1 = (df_nrdr_anno.groupby(['archetype', 'anno'])\n",
    "                   .size().unstack().fillna(0) # .to_frame().reset_index()\n",
    "                   .reindex(['A', 'B', 'C', 'AB', 'BC'])\n",
    "                   [['csm', 'synapse', 'other']]\n",
    "           )\n",
    "df_plot1.plot.barh(edgecolor='none', ax=ax, width=0.8, stacked=True, color=['magenta', 'green', 'lightgray'])\n",
    "ax.legend(bbox_to_anchor=(1,1))\n",
    "\n",
    "ax.set_xlabel('number of vision-dependent genes')\n",
    "ax.set_ylabel('L2/3 archetypes')\n",
    "ax.invert_yaxis()\n",
    "sns.despine(ax=ax)\n",
    "ax.grid(axis='y')\n",
    "\n",
    "output = os.path.join(outfigdir, 'ac_bar_archetype_origin.pdf')\n",
    "powerplots.savefig_autodate(fig, output)\n",
    "plt.show()"
   ]
  },
  {
   "cell_type": "code",
   "execution_count": null,
   "id": "16009c96-f966-47b8-af30-307c901ba988",
   "metadata": {
    "tags": []
   },
   "outputs": [],
   "source": [
    "fig, ax = plt.subplots(figsize=(5,4))\n",
    "df_plot1 = (df_nrdr_anno.groupby(['sig_format', 'anno'])\n",
    "                   .size().unstack().fillna(0) # .to_frame().reset_index()\n",
    "                   .reindex(['A', 'B', 'C', 'ALL', 'A C', 'B C',])\n",
    "                   [['csm', 'synapse', 'other']]\n",
    "           )\n",
    "df_plot1.plot.barh(edgecolor='none', ax=ax, width=0.8, stacked=True, color=['magenta', 'green', 'lightgray'])\n",
    "ax.legend(bbox_to_anchor=(1,1))\n",
    "\n",
    "ax.set_xlabel('number of vision-dependent genes')\n",
    "ax.set_ylabel('L2/3 archetypes')\n",
    "ax.invert_yaxis()\n",
    "sns.despine(ax=ax)\n",
    "ax.grid(axis='y')\n",
    "\n",
    "output = os.path.join(outfigdir, 'ac_bar_archetype_affected.pdf')\n",
    "powerplots.savefig_autodate(fig, output)\n",
    "plt.show()"
   ]
  },
  {
   "cell_type": "markdown",
   "id": "4d566c28-98f5-4922-99d1-c30b2331379e",
   "metadata": {},
   "source": [
    "# P6 gradient"
   ]
  },
  {
   "cell_type": "code",
   "execution_count": null,
   "id": "95a5db1f-5c62-499d-b3ef-94c160bc7c37",
   "metadata": {
    "tags": []
   },
   "outputs": [],
   "source": [
    "adatasub_p6 = adata[adata.obs['cond']=='P6NR']\n",
    "\n",
    "x3 = adatasub_p6.obs['scores_c-a'].values\n",
    "x3min, x3max = np.min(x3), np.max(x3)\n",
    "x3 = (x3-x3min)/(x3max-x3min)\n",
    "\n",
    "nbins = 10 \n",
    "xmids = np.arange(1/(2*nbins),1,1/nbins)"
   ]
  },
  {
   "cell_type": "code",
   "execution_count": null,
   "id": "25b8110a-e97c-4952-a719-5546e69c91ef",
   "metadata": {
    "tags": []
   },
   "outputs": [],
   "source": [
    "[g for g in adatasub_p6.var.index.values if g.startswith('Robo')]\n",
    "[g for g in adatasub_p6.var.index.values if g.startswith('Slit')]"
   ]
  },
  {
   "cell_type": "code",
   "execution_count": null,
   "id": "51a7b71c-e82e-4e42-af72-1338b110a5f3",
   "metadata": {
    "tags": []
   },
   "outputs": [],
   "source": [
    "# genes_plot = vision_abc_csms[:10] # genes_abc_csm[cond_sig]\n",
    "\n",
    "genes_plot = [\n",
    "    'Robo1', 'Robo3', \n",
    "    # 'Slit1', 'Slit2', 'Slit3',\n",
    "]\n",
    "\n",
    "\n",
    "n = len(genes_plot)\n",
    "nx = 3\n",
    "ny = int((n+nx-1)/nx)\n",
    "\n",
    "fig, axs = plt.subplots(ny, nx, figsize=(3*nx,4*ny), sharey=True) #, sharex=True)\n",
    "for i, gene in enumerate(genes_plot):\n",
    "    ax = axs.flat[i]\n",
    "    \n",
    "    y3 = np.array(adatasub_p6[:,gene].layers['norm']).reshape(-1,)\n",
    "\n",
    "    df3 = pd.DataFrame(np.vstack([x3,y3]).T)\n",
    "    df3['bin_idx'] = pd.qcut(df3[0], nbins, labels=False)\n",
    "    df3_mean = df3.groupby('bin_idx').mean()\n",
    "    df3_std = df3.groupby('bin_idx').std()\n",
    "    df3_n = df3.groupby('bin_idx').size()\n",
    "    scale = df3_mean[1].max()\n",
    "    df3_mean = df3_mean/scale\n",
    "    df3_std  = df3_std/scale\n",
    "    \n",
    "    ax.plot(df3_mean[1], xmids, '-o', markersize=5, color='k')\n",
    "    ax.fill_betweenx(xmids, \n",
    "                     df3_mean[1]-df3_std[1]/np.sqrt(df3_n)*1.96, \n",
    "                     df3_mean[1]+df3_std[1]/np.sqrt(df3_n)*1.96, \n",
    "                     color='k', \n",
    "                     edgecolors='none',\n",
    "                     alpha=0.2)\n",
    "    ax.set_ylim([1,0])\n",
    "    # ax.set_yticks(np.arange(0.1,1,1/5)[::-1])\n",
    "    ax.set_yticklabels([])\n",
    "    ax.set_xlabel('norm expr')\n",
    "    ax.set_xticks([0, 0.5, 1])\n",
    "    \n",
    "    ax.grid(axis='x')\n",
    "    \n",
    "    \n",
    "    ax.set_title(gene)\n",
    "    sns.despine(ax=ax)\n",
    "    # break\n",
    "    \n",
    "fig.tight_layout()\n",
    "output = os.path.join(outfigdir, 'Robo1-3.pdf')\n",
    "powerplots.savefig_autodate(fig, output)\n",
    "plt.show()"
   ]
  },
  {
   "cell_type": "code",
   "execution_count": null,
   "id": "6c82de1a-7dd8-4f9b-b0a3-31e8d76afddd",
   "metadata": {},
   "outputs": [],
   "source": []
  }
 ],
 "metadata": {
  "kernelspec": {
   "display_name": "Python 3 (ipykernel)",
   "language": "python",
   "name": "python3"
  },
  "language_info": {
   "codemirror_mode": {
    "name": "ipython",
    "version": 3
   },
   "file_extension": ".py",
   "mimetype": "text/x-python",
   "name": "python",
   "nbconvert_exporter": "python",
   "pygments_lexer": "ipython3",
   "version": "3.9.16"
  }
 },
 "nbformat": 4,
 "nbformat_minor": 5
}
