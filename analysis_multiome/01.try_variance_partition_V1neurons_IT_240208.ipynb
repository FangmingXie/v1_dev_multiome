{
 "cells": [
  {
   "cell_type": "code",
   "execution_count": null,
   "id": "3a50635c-f5a0-46df-860c-c89e0a9528c4",
   "metadata": {
    "tags": []
   },
   "outputs": [],
   "source": [
    "import anndata\n",
    "import numpy as np\n",
    "import pandas as pd\n",
    "import seaborn as sns\n",
    "import os\n",
    "\n",
    "from scroutines.config_plots import *\n",
    "from scroutines import basicu\n",
    "import importlib\n",
    "importlib.reload(basicu)"
   ]
  },
  {
   "cell_type": "markdown",
   "id": "0acc48ae-67ed-49d1-976d-ac9eae74b9e2",
   "metadata": {
    "tags": []
   },
   "source": [
    "# check features"
   ]
  },
  {
   "cell_type": "code",
   "execution_count": null,
   "id": "e8e002c1-b2ef-4ce0-a0d9-452fbb8ea598",
   "metadata": {
    "tags": []
   },
   "outputs": [],
   "source": [
    "# %%time\n",
    "# f = \"../data/cheng21_cell_scrna/organized/P14NR.h5ad\" # 240208 - for some reason all_IT.h5ad takes too long to load for 10G\n",
    "# adata = anndata.read(f)\n",
    "# adata"
   ]
  },
  {
   "cell_type": "code",
   "execution_count": null,
   "id": "e43f80ec-a2ee-4d27-9566-541ec29d9ae7",
   "metadata": {},
   "outputs": [],
   "source": [
    "ddir = '../../data/cheng21_cell_scrna/organized/'\n",
    "files = [\n",
    "     'P8NR.h5ad',\n",
    "    'P14NR.h5ad',\n",
    "    'P17NR.h5ad',\n",
    "    \n",
    "    'P21NR.h5ad',\n",
    "    'P28NR.h5ad',\n",
    "    'P38NR.h5ad',\n",
    "] "
   ]
  },
  {
   "cell_type": "code",
   "execution_count": null,
   "id": "0d04b281-406a-45ea-9a2b-61366a21a30d",
   "metadata": {
    "tags": []
   },
   "outputs": [],
   "source": [
    "pbulks = []\n",
    "xclsts = []\n",
    "xcnsts = []\n",
    "\n",
    "ncond, nrep, nclst, ngene = len(files), 2, 4, -1, \n",
    "\n",
    "for f in files:\n",
    "    print(f)\n",
    "    \n",
    "    path = os.path.join(ddir, f)\n",
    "    adata = anndata.read(path)\n",
    "    genes = adata.var.index.values\n",
    "    \n",
    "    adata = adata[adata.obs['Subclass'].isin(['L2/3', 'L4', 'L5IT', 'L6IT'])]\n",
    "    mat = adata.X\n",
    "    # type \n",
    "    types = adata.obs['Subclass'].astype(str).values\n",
    "    \n",
    "    # 1 or 2\n",
    "    sample_codes = adata.obs['sample'].apply(lambda x: x.split('_')[-1][:-1].replace('3', '2')).astype(str).values\n",
    "    sample_and_type = sample_codes + \"_\" + types\n",
    "    unqs, cnts = np.unique(sample_and_type, return_counts=True)\n",
    "    _xclsts, Xk, Xk_n, Xk_ln = basicu.counts_to_bulk_profiles(mat, sample_and_type) \n",
    "    \n",
    "    # check all types + reps are the same\n",
    "    if len(xclsts) > 0:\n",
    "        if not np.all(_xclsts == xclsts):\n",
    "            raise ValueError(_xclsts.shape, xclsts.shape, _xclsts, xclsts,)\n",
    "        if not np.all(_xclsts == unqs):\n",
    "            raise ValueError(_xclsts.shape, unqs.shape, _xclsts, unqs,)\n",
    "    else:\n",
    "        xclsts = _xclsts\n",
    "        print(xclsts)\n",
    "        \n",
    "    print(Xk_ln.shape)\n",
    "    pbulks.append(Xk_ln)\n",
    "    xcnsts.append(cnts)\n",
    "    \n",
    "pbulks = np.array(pbulks)\n",
    "xcnsts = np.array(xcnsts)\n",
    "print(pbulks.shape)\n",
    "pbulks = pbulks.reshape(ncond,nrep,nclst,-1)\n",
    "xcnsts = xcnsts.reshape(ncond,nrep,nclst)\n",
    "xclsts = xclsts.reshape(      nrep,nclst)\n",
    "print(pbulks.shape)"
   ]
  },
  {
   "cell_type": "code",
   "execution_count": null,
   "id": "85e146ef-c970-4b51-bdf4-c6cb36627ddd",
   "metadata": {
    "tags": []
   },
   "outputs": [],
   "source": [
    "# check the pbulks are good -- log10(CPM+1) for each sample\n",
    "checkpbulks = np.sum(np.power(10, pbulks)-1, axis=-1)\n",
    "checkpbulks.shape, np.all(np.abs(checkpbulks-1e6) < 1e-6)"
   ]
  },
  {
   "cell_type": "code",
   "execution_count": null,
   "id": "b1fe5648-3bd5-493d-84e8-a9574f9df196",
   "metadata": {
    "tags": []
   },
   "outputs": [],
   "source": [
    "# xclsts_short = np.array([clst[len(\"1a_\"):] for clst in xclsts[0]]) #, '_'\n",
    "xclsts_short = np.array([clst[len(\"1_\"):] for clst in xclsts[0]]) #, '_'\n",
    "xclsts_short, xclsts_short.shape"
   ]
  },
  {
   "cell_type": "markdown",
   "id": "6202f94a-f840-450a-abfb-f9da99ff2b85",
   "metadata": {},
   "source": [
    "# filter out small bulk profiles"
   ]
  },
  {
   "cell_type": "code",
   "execution_count": null,
   "id": "5aa26e9d-2f00-441f-be3a-ddde72868f5a",
   "metadata": {
    "tags": []
   },
   "outputs": [],
   "source": [
    "numcells = pd.DataFrame(xcnsts.T.reshape(-1,nrep*ncond), index=xclsts_short)\n",
    "numcells.min(axis=1).sort_values()"
   ]
  },
  {
   "cell_type": "code",
   "execution_count": null,
   "id": "8a0cd0d3-aa43-4093-b542-db005c3b3f71",
   "metadata": {
    "tags": []
   },
   "outputs": [],
   "source": [
    "xclsts_sel = xclsts_short[numcells.min(axis=1)>20]\n",
    "unq_types = xclsts_sel\n",
    "xclsts_selidx = basicu.get_index_from_array(xclsts_short, xclsts_sel)\n",
    "pbulks = pbulks[:,:,xclsts_selidx,:]\n",
    "xclsts_sel, xclsts_selidx, xclsts_sel.shape"
   ]
  },
  {
   "cell_type": "code",
   "execution_count": null,
   "id": "d0c5e58e-1b81-4f2a-a0e6-955db9d9f2cc",
   "metadata": {
    "tags": []
   },
   "outputs": [],
   "source": [
    "# mean (across 2 rep) expr of CPM=10 in any subclass at any time\n",
    "expressed_any = np.any(np.mean(pbulks, axis=2) > np.log10(10+1), axis=(0,1)) \n",
    "print(expressed_any.sum())\n",
    "\n",
    "genes_comm = genes[expressed_any]\n",
    "genes_cidx = np.arange(len(genes))[expressed_any] \n",
    "pbulks = pbulks[:,:,:,expressed_any]\n",
    "print(pbulks.shape)\n"
   ]
  },
  {
   "cell_type": "code",
   "execution_count": null,
   "id": "55e20e0e-4a75-4510-a21d-df8334b77f7d",
   "metadata": {
    "tags": []
   },
   "outputs": [],
   "source": [
    "nt, nr, nc, ng = pbulks.shape # ncond, nclst, nrep\n",
    "nt, nr, nc, ng"
   ]
  },
  {
   "cell_type": "code",
   "execution_count": null,
   "id": "b58fdbe6-7bd6-402e-8cbb-c6ad99e88b1b",
   "metadata": {
    "tags": []
   },
   "outputs": [],
   "source": [
    "def get_eta2_allgenes(nums):\n",
    "    \"\"\"\n",
    "    nums: c1,c2,...,n matrix - ... conditions by n genes\n",
    "    \n",
    "    return (eta2, stdv) - vectors one entry for each gene\n",
    "    \"\"\"\n",
    "    nc0, nc1, nc2, ng = nums.shape # (num time points, num rep, num genes)\n",
    "\n",
    "    nums_m  = np.mean(nums, axis=(0,1,2)) #\n",
    "    nums_m0 = np.mean(nums, axis=(1,2))   # 0\n",
    "    nums_m1 = np.mean(nums, axis=(0,2))   # 0\n",
    "    nums_m2 = np.mean(nums, axis=(0,1))   # 0\n",
    "    \n",
    "\n",
    "    # # SSt \n",
    "    diff = nums - np.expand_dims(nums_m , axis=(0,1,2))\n",
    "    SSt  = np.sum(np.power(diff, 2), axis=(0,1,2))  # one for each gene\n",
    "\n",
    "    # # SSw\n",
    "    diff = nums - np.expand_dims(nums_m0, axis=(1,2))\n",
    "    SSw0 = np.sum(np.power(diff, 2), axis=(0,1,2))  # one for each gene\n",
    "    \n",
    "    diff = nums - np.expand_dims(nums_m1, axis=(0,2))\n",
    "    SSw1 = np.sum(np.power(diff, 2), axis=(0,1,2))  # one for each gene\n",
    "    \n",
    "    diff = nums - np.expand_dims(nums_m2, axis=(0,1))\n",
    "    SSw2 = np.sum(np.power(diff, 2), axis=(0,1,2))  # one for each gene\n",
    "\n",
    "    eta2_0 = (1-(SSw0+1e-6)/(SSt+1e-6))\n",
    "    eta2_1 = (1-(SSw1+1e-6)/(SSt+1e-6))\n",
    "    eta2_2 = (1-(SSw2+1e-6)/(SSt+1e-6))\n",
    "    \n",
    "    # stdb = np.sqrt((SSt-SSw)/(nt*nr))\n",
    "    return eta2_0, eta2_1, eta2_2\n",
    "\n"
   ]
  },
  {
   "cell_type": "code",
   "execution_count": null,
   "id": "fcd9e351-5153-4afe-b5f0-7d6b1b143aa8",
   "metadata": {
    "tags": []
   },
   "outputs": [],
   "source": [
    "eta2_t, eta2_r, eta2_c = get_eta2_allgenes(pbulks)"
   ]
  },
  {
   "cell_type": "code",
   "execution_count": null,
   "id": "7e3f4266-ec8f-4914-b187-fc00451948c3",
   "metadata": {
    "tags": []
   },
   "outputs": [],
   "source": [
    "eta2_t.shape"
   ]
  },
  {
   "cell_type": "code",
   "execution_count": null,
   "id": "52019cd8-6a9b-48d2-b71b-0a8e12768e24",
   "metadata": {
    "tags": []
   },
   "outputs": [],
   "source": [
    "fig, ax = plt.subplots(figsize=(8,6))\n",
    "ax.scatter(eta2_t, eta2_c, s=1, color='gray')\n",
    "ax.set_aspect('equal')\n",
    "ax.set_xlabel('var by time')\n",
    "ax.set_ylabel('var by type')\n",
    "ax.plot([0,1], [1,0], color='k', linestyle='--')\n",
    "plt.show()\n"
   ]
  },
  {
   "cell_type": "code",
   "execution_count": null,
   "id": "3635cc2d-981c-4d3e-a151-5f4d134973cf",
   "metadata": {
    "tags": []
   },
   "outputs": [],
   "source": [
    "fig, ax = plt.subplots(figsize=(5,6))\n",
    "sns.boxplot([eta2_t, eta2_c, eta2_r])\n",
    "ax.set_xticklabels(['by time', 'by type', 'by rep'])\n",
    "ax.set_ylabel('variance explained')\n",
    "plt.show()"
   ]
  },
  {
   "cell_type": "code",
   "execution_count": null,
   "id": "a21dc74e-078f-42e3-80d9-f62c9b711fe0",
   "metadata": {
    "tags": []
   },
   "outputs": [],
   "source": [
    "genes = adata.var.index.values[expressed_any]\n",
    "genes.shape"
   ]
  },
  {
   "cell_type": "code",
   "execution_count": null,
   "id": "cd7ea4ec-eb07-42be-8a57-7f89bb529f3e",
   "metadata": {
    "tags": []
   },
   "outputs": [],
   "source": [
    "types = xclsts_sel \n",
    "colors = sns.color_palette('tab10', len(types))\n",
    "ts = [8, 14, 17, 21, 28, 38]\n",
    "types, colors"
   ]
  },
  {
   "cell_type": "code",
   "execution_count": null,
   "id": "8f3faa0e-832e-4548-b981-2c9a85855513",
   "metadata": {
    "tags": []
   },
   "outputs": [],
   "source": [
    "gi = np.argmax(eta2_t)\n",
    "gi, genes[gi], eta2_t[gi], eta2_c[gi], eta2_r[gi], eta2_t[gi] + eta2_c[gi] + eta2_r[gi]"
   ]
  },
  {
   "cell_type": "code",
   "execution_count": null,
   "id": "e41ccb93-e58d-4772-b634-96ef0fb34dbf",
   "metadata": {
    "tags": []
   },
   "outputs": [],
   "source": [
    "gi = np.argmax(eta2_c)\n",
    "gi, genes[gi], eta2_t[gi], eta2_c[gi], eta2_r[gi], eta2_t[gi] + eta2_c[gi] + eta2_r[gi]"
   ]
  },
  {
   "cell_type": "code",
   "execution_count": null,
   "id": "d78ce8b0-77e4-4fc7-9612-3059bed12d9e",
   "metadata": {
    "tags": []
   },
   "outputs": [],
   "source": [
    "gi_c = np.argsort(eta2_c)[::-1]\n",
    "genes[gi_c]"
   ]
  },
  {
   "cell_type": "code",
   "execution_count": null,
   "id": "52c99daf-367a-4e30-8031-0c2320b27812",
   "metadata": {
    "tags": []
   },
   "outputs": [],
   "source": [
    "gi = gi_c[2]\n",
    "pbulks_g = pbulks[:,:,:,gi]\n",
    "pbulks_g = np.swapaxes(pbulks_g, 0, -1) # nt, nr, nc -> nc, nr, nt\n",
    "gname = genes[gi]\n",
    "print(pbulks_g.shape)"
   ]
  },
  {
   "cell_type": "code",
   "execution_count": null,
   "id": "dccac2a4-4fb3-464d-a777-84cd2881deea",
   "metadata": {
    "tags": []
   },
   "outputs": [],
   "source": [
    "fig, ax = plt.subplots()\n",
    "ax.set_title(gname)\n",
    "for i in range(nc):\n",
    "    color = colors[i]\n",
    "    lbl = types[i]\n",
    "    ax.plot(ts, np.mean(pbulks_g[i], axis=0), color=color, label=lbl)\n",
    "    ax.scatter(ts, pbulks_g[i][0], s=5, color=color)\n",
    "    ax.scatter(ts, pbulks_g[i][1], s=5, color=color)\n",
    "ax.set_xticks(ts)\n",
    "ax.legend()\n",
    "ax.set_ylabel('log10(CPM+1)')\n",
    "ax.set_xlabel('hour')\n",
    "plt.show()"
   ]
  },
  {
   "cell_type": "code",
   "execution_count": null,
   "id": "b41a01d6-98c3-48eb-8ef1-3a9bca6e81ff",
   "metadata": {},
   "outputs": [],
   "source": []
  },
  {
   "cell_type": "code",
   "execution_count": null,
   "id": "83a22feb-cf01-4c73-abe7-c7b623cac9ae",
   "metadata": {},
   "outputs": [],
   "source": []
  },
  {
   "cell_type": "code",
   "execution_count": null,
   "id": "15782388-7e57-489d-8468-226507fa8d5d",
   "metadata": {},
   "outputs": [],
   "source": []
  },
  {
   "cell_type": "code",
   "execution_count": null,
   "id": "f9e61b2f-47c6-4bd2-b11a-54a39e3eb241",
   "metadata": {},
   "outputs": [],
   "source": []
  },
  {
   "cell_type": "code",
   "execution_count": null,
   "id": "ffdb128d-b1cb-420d-a516-d38db99ff226",
   "metadata": {},
   "outputs": [],
   "source": []
  },
  {
   "cell_type": "code",
   "execution_count": null,
   "id": "89ed9bd6-a68e-4d86-bba5-2a78981587d9",
   "metadata": {},
   "outputs": [],
   "source": []
  },
  {
   "cell_type": "code",
   "execution_count": null,
   "id": "ff7ea101-8190-4dc9-92b8-4cb4a7518364",
   "metadata": {},
   "outputs": [],
   "source": []
  },
  {
   "cell_type": "markdown",
   "id": "1d98ed54-93d4-4bc3-a3b6-59d43817d8ee",
   "metadata": {
    "tags": []
   },
   "source": [
    "# top 10 type specific genes"
   ]
  },
  {
   "cell_type": "code",
   "execution_count": null,
   "id": "23ece773-d12d-4f5b-834a-be448cac21b3",
   "metadata": {
    "tags": []
   },
   "outputs": [],
   "source": [
    "gi_c = np.argsort(eta2_c)[::-1][:15]\n",
    "gi_c"
   ]
  },
  {
   "cell_type": "code",
   "execution_count": null,
   "id": "da250192-9d46-44dc-9a5f-a80d95f789cd",
   "metadata": {
    "tags": []
   },
   "outputs": [],
   "source": [
    "pbulks.shape"
   ]
  },
  {
   "cell_type": "code",
   "execution_count": null,
   "id": "d5be5a27-6733-41a7-8942-4225a78466a6",
   "metadata": {
    "tags": []
   },
   "outputs": [],
   "source": [
    "pbulks_sub = pbulks[:,:,:,gi_c]\n",
    "print(pbulks_sub.shape)\n",
    "pbulks_sub = np.swapaxes(pbulks_sub, 0, 3) # nt, nr, nc, ng -> ng, nc, nr, nt\n",
    "print(pbulks_sub.shape)\n",
    "pbulks_sub = np.swapaxes(pbulks_sub, 1, 2) # nt, nr, nc, ng -> ng, nc, nr, nt\n",
    "gnames = genes[gi_c]\n",
    "print(pbulks_sub.shape)"
   ]
  },
  {
   "cell_type": "code",
   "execution_count": null,
   "id": "5e69cfb5-18a3-407f-87ed-afb9ce3e6fe5",
   "metadata": {
    "tags": []
   },
   "outputs": [],
   "source": [
    "fig, axs = plt.subplots(3,5,figsize=(5*3,3*4), sharex=True)\n",
    "for j, (pbulks_g, gname, ax) in enumerate(zip(pbulks_sub, gnames, axs.flat)):\n",
    "    ax.set_title(gname)\n",
    "    for i in range(nc):\n",
    "        color = colors[i]\n",
    "        lbl = types[i]\n",
    "        ax.plot(ts, np.mean(pbulks_g[i], axis=0), color=color, label=lbl)\n",
    "        ax.scatter(ts, pbulks_g[i][0], s=5, color=color)\n",
    "        ax.scatter(ts, pbulks_g[i][1], s=5, color=color)\n",
    "    ax.set_xticks(ts)\n",
    "    sns.despine(ax=ax)\n",
    "    if j == 0:\n",
    "        ax.legend()\n",
    "    if j % 5 == 0:\n",
    "        ax.set_ylabel('log10(CPM+1)')\n",
    "    if j >= 5:\n",
    "        ax.set_xlabel('P')\n",
    "    \n",
    "fig.tight_layout()\n",
    "plt.show()"
   ]
  },
  {
   "cell_type": "markdown",
   "id": "379bdddb-527d-4bdc-b528-8b2b5449b61c",
   "metadata": {
    "tags": []
   },
   "source": [
    "# top 10 time specific genes"
   ]
  },
  {
   "cell_type": "code",
   "execution_count": null,
   "id": "575b9736-ef6f-4ed7-86a7-379ce6c397da",
   "metadata": {
    "tags": []
   },
   "outputs": [],
   "source": [
    "gi_t = np.argsort(eta2_t)[::-1][:15]\n",
    "gi_t"
   ]
  },
  {
   "cell_type": "code",
   "execution_count": null,
   "id": "7820d946-ad04-42d3-9af0-7dc43db88255",
   "metadata": {
    "tags": []
   },
   "outputs": [],
   "source": [
    "pbulks_sub = pbulks[:,:,:,gi_t]\n",
    "pbulks_sub = np.swapaxes(pbulks_sub, 0, 3) # nt, nr, nc, ng -> ng, nc, nr, nt\n",
    "pbulks_sub = np.swapaxes(pbulks_sub, 1, 2) # nt, nr, nc, ng -> ng, nc, nr, nt\n",
    "gnames = genes[gi_t]\n",
    "print(pbulks_sub.shape)"
   ]
  },
  {
   "cell_type": "code",
   "execution_count": null,
   "id": "19be26f8-b6d7-4347-95b2-46344e59896d",
   "metadata": {
    "tags": []
   },
   "outputs": [],
   "source": [
    "fig, axs = plt.subplots(3,5,figsize=(5*3,3*4), sharex=True)\n",
    "for j, (pbulks_g, gname, ax) in enumerate(zip(pbulks_sub, gnames, axs.flat)):\n",
    "    ax.set_title(gname)\n",
    "    for i in range(nc):\n",
    "        color = colors[i]\n",
    "        lbl = types[i]\n",
    "        ax.plot(ts, np.mean(pbulks_g[i], axis=0), color=color, label=lbl)\n",
    "        ax.scatter(ts, pbulks_g[i][0], s=5, color=color)\n",
    "        ax.scatter(ts, pbulks_g[i][1], s=5, color=color)\n",
    "    ax.set_xticks(ts)\n",
    "    sns.despine(ax=ax)\n",
    "    if j == 0:\n",
    "        ax.legend()\n",
    "    if j % 5 == 0:\n",
    "        ax.set_ylabel('log10(CPM+1)')\n",
    "    if j >= 5:\n",
    "        ax.set_xlabel('P')\n",
    "    \n",
    "fig.tight_layout()\n",
    "plt.show()"
   ]
  },
  {
   "cell_type": "code",
   "execution_count": null,
   "id": "32297815-a5e0-4ee0-9f17-f031404e28fd",
   "metadata": {
    "tags": []
   },
   "outputs": [],
   "source": [
    "cond = np.logical_and(eta2_t+eta2_c>0.8, np.abs(eta2_t-0.5)<0.2)\n",
    "cond = np.logical_and(cond, np.abs(eta2_c-0.5)<0.2)\n",
    "gi_ct = np.arange(len(genes))[cond]\n",
    "# gi_ct = np.array([g for g in gi_ct if (g not in gi_c and g not in gi_t)])\n",
    "gi_ct.shape"
   ]
  },
  {
   "cell_type": "code",
   "execution_count": null,
   "id": "3e4e8113-334c-41af-bd06-9800da780aed",
   "metadata": {
    "tags": []
   },
   "outputs": [],
   "source": [
    "fig, ax = plt.subplots(figsize=(8,6))\n",
    "ax.scatter(eta2_t, eta2_c, s=1, color='gray')\n",
    "ax.scatter(eta2_t[gi_t], eta2_c[gi_t], s=5, color='C0', label='time spec')\n",
    "ax.scatter(eta2_t[gi_c], eta2_c[gi_c], s=5, color='C1', label='type spec')\n",
    "ax.scatter(eta2_t[gi_ct], eta2_c[gi_ct], s=5, color='C2', label='type+time spec')\n",
    "ax.set_aspect('equal')\n",
    "ax.set_xlabel('var by time')\n",
    "ax.set_ylabel('var by type')\n",
    "ax.legend()\n",
    "ax.plot([0,1], [1,0], color='k', linestyle='--')\n",
    "plt.show()"
   ]
  },
  {
   "cell_type": "code",
   "execution_count": null,
   "id": "2e7d861f-8bb5-463a-94f7-c40545384e14",
   "metadata": {
    "tags": []
   },
   "outputs": [],
   "source": [
    "pbulks_sub = pbulks[:,:,:,gi_ct]\n",
    "pbulks_sub = np.swapaxes(pbulks_sub, 0, 3) # nt, nr, nc, ng -> ng, nc, nr, nt\n",
    "pbulks_sub = np.swapaxes(pbulks_sub, 1, 2) # nt, nr, nc, ng -> ng, nc, nr, nt\n",
    "gnames = genes[gi_ct]\n",
    "print(pbulks_g.shape)"
   ]
  },
  {
   "cell_type": "code",
   "execution_count": null,
   "id": "d22e9d55-bfaa-4e1b-9223-439e1af3030c",
   "metadata": {
    "tags": []
   },
   "outputs": [],
   "source": [
    "fig, axs = plt.subplots(4,5,figsize=(5*3,4*4), sharex=True)\n",
    "for j, (pbulks_g, gname, ax) in enumerate(zip(pbulks_sub, gnames, axs.flat)):\n",
    "    ax.set_title(gname)\n",
    "    for i in range(nc):\n",
    "        color = colors[i]\n",
    "        lbl = types[i]\n",
    "        ax.plot(ts, np.mean(pbulks_g[i], axis=0), color=color, label=lbl)\n",
    "        ax.scatter(ts, pbulks_g[i][0], s=5, color=color)\n",
    "        ax.scatter(ts, pbulks_g[i][1], s=5, color=color)\n",
    "    ax.set_xticks(ts)\n",
    "    sns.despine(ax=ax)\n",
    "    if j == 0:\n",
    "        ax.legend()\n",
    "    if j % 5 == 0:\n",
    "        ax.set_ylabel('log10(CPM+1)')\n",
    "    if j >= 5:\n",
    "        ax.set_xlabel('hour')\n",
    "    \n",
    "fig.tight_layout()\n",
    "plt.show()"
   ]
  },
  {
   "cell_type": "code",
   "execution_count": null,
   "id": "9f80cbe0-632d-4847-97e7-269c76b134ea",
   "metadata": {
    "tags": []
   },
   "outputs": [],
   "source": [
    "gi1 = basicu.get_index_from_array(genes, ['Slc17a7'])\n",
    "gi2 = basicu.get_index_from_array(genes, ['Cux2'])\n",
    "gi3 = basicu.get_index_from_array(genes, ['Cdh13'])\n",
    "\n",
    "gi1, gi2, gi3"
   ]
  },
  {
   "cell_type": "code",
   "execution_count": null,
   "id": "521fca9e-ac5b-4081-85e2-9f1177d71533",
   "metadata": {
    "tags": []
   },
   "outputs": [],
   "source": [
    "fig, ax = plt.subplots(figsize=(8,6))\n",
    "ax.scatter(eta2_t, eta2_c, s=1, color='lightgray')\n",
    "ax.scatter(eta2_t[gi_t], eta2_c[gi_t], s=5, color='C0', label='time spec')\n",
    "ax.scatter(eta2_t[gi_c], eta2_c[gi_c], s=5, color='C1', label='type spec')\n",
    "ax.scatter(eta2_t[gi_ct], eta2_c[gi_ct], s=5, color='C2', label='type+time spec')\n",
    "ax.scatter(eta2_t[gi1], eta2_c[gi1], s=20, color='C3', label='Slc17a7')\n",
    "ax.scatter(eta2_t[gi2], eta2_c[gi2], s=20, color='C4', label='Cux2')\n",
    "ax.scatter(eta2_t[gi3], eta2_c[gi3], s=20, color='C5', label='Cdh13')\n",
    "ax.set_aspect('equal')\n",
    "ax.set_xlabel('var by time')\n",
    "ax.set_ylabel('var by type')\n",
    "ax.legend()\n",
    "ax.plot([0,1], [1,0], color='k', linestyle='--')\n",
    "plt.show()"
   ]
  },
  {
   "cell_type": "code",
   "execution_count": null,
   "id": "45891c1c-ca19-4705-b9bd-d81a6f2c28db",
   "metadata": {
    "tags": []
   },
   "outputs": [],
   "source": [
    "for gi in [gi1, gi2, gi3]:\n",
    "    pbulks_sub = pbulks[:,:,:,gi] #, axis=3)\n",
    "    pbulks_sub = np.swapaxes(pbulks_sub, 0, 3) # nt, nr, nc, ng -> ng, nc, nr, nt\n",
    "    pbulks_sub = np.swapaxes(pbulks_sub, 1, 2) # nt, nr, nc, ng -> ng, nc, nr, nt\n",
    "    gnames = genes[gi]\n",
    "    print(pbulks_sub.shape)\n",
    "\n",
    "    fig, axs = plt.subplots(1,1,figsize=(1*5,1*4), sharex=True)\n",
    "    for j, (pbulks_g, gname, ax) in enumerate(zip(pbulks_sub, gnames, [axs])):\n",
    "        ax.set_title(gname)\n",
    "        for i in range(nc):\n",
    "            color = colors[i]\n",
    "            lbl = types[i]\n",
    "            ax.plot(ts, np.mean(pbulks_g[i], axis=0), color=color, label=lbl)\n",
    "            ax.scatter(ts, pbulks_g[i][0], s=5, color=color)\n",
    "            ax.scatter(ts, pbulks_g[i][1], s=5, color=color)\n",
    "        ax.set_xticks(ts)\n",
    "        sns.despine(ax=ax)\n",
    "        if j == 0:\n",
    "            ax.legend(bbox_to_anchor=(1,1))\n",
    "        if j % 5 == 0:\n",
    "            ax.set_ylabel('log10(CPM+1)')\n",
    "        if j >= 5:\n",
    "            ax.set_xlabel('hour')\n",
    "\n",
    "    fig.tight_layout()\n",
    "    plt.show()"
   ]
  },
  {
   "cell_type": "code",
   "execution_count": null,
   "id": "54ab2b51-02b8-4171-8bcd-e40e03daf86a",
   "metadata": {
    "tags": []
   },
   "outputs": [],
   "source": [
    "cond = np.logical_and(eta2_t+eta2_c<0.2, eta2_r<0.01)\n",
    "gi_nct = np.arange(len(genes))[cond]\n",
    "gi_nct.shape"
   ]
  },
  {
   "cell_type": "code",
   "execution_count": null,
   "id": "4e0f887f-17c4-4f6b-bda6-57987e9679a1",
   "metadata": {
    "tags": []
   },
   "outputs": [],
   "source": [
    "eta2_r[gi_nct]"
   ]
  },
  {
   "cell_type": "code",
   "execution_count": null,
   "id": "9acc8e47-5220-4b28-9fd7-7a4a5eeb5f0f",
   "metadata": {
    "tags": []
   },
   "outputs": [],
   "source": [
    "fig, ax = plt.subplots(figsize=(8,6))\n",
    "ax.scatter(eta2_t, eta2_c, s=1, color='gray')\n",
    "ax.scatter(eta2_t[gi_nct], eta2_c[gi_nct], s=5, color='C2', label='non type+time spec')\n",
    "ax.set_aspect('equal')\n",
    "ax.set_xlabel('var by time')\n",
    "ax.set_ylabel('var by type')\n",
    "ax.legend()\n",
    "ax.plot([0,1], [1,0], color='k', linestyle='--')\n",
    "plt.show()"
   ]
  },
  {
   "cell_type": "code",
   "execution_count": null,
   "id": "b3ea7941-1a6f-4fbe-92a5-1d6d01de249d",
   "metadata": {
    "tags": []
   },
   "outputs": [],
   "source": [
    "pbulks_sub = pbulks[:,:,:,gi_nct]\n",
    "pbulks_sub = np.swapaxes(pbulks_sub, 0, 3) # nt, nr, nc, ng -> ng, nc, nr, nt\n",
    "pbulks_sub = np.swapaxes(pbulks_sub, 1, 2) # nt, nr, nc, ng -> ng, nc, nr, nt\n",
    "gnames = genes[gi_nct]\n",
    "print(pbulks_sub.shape)"
   ]
  },
  {
   "cell_type": "code",
   "execution_count": null,
   "id": "aaa7d892-a0c9-4035-b5b7-42cb29851b99",
   "metadata": {
    "tags": []
   },
   "outputs": [],
   "source": [
    "fig, axs = plt.subplots(4,5,figsize=(5*3,4*4), sharex=True)\n",
    "for j, (pbulks_g, gname, ax) in enumerate(zip(pbulks_sub, gnames, axs.flat)):\n",
    "    ax.set_title(gname)\n",
    "    for i in range(nc):\n",
    "        color = colors[i]\n",
    "        lbl = types[i]\n",
    "        ax.plot(ts, np.mean(pbulks_g[i], axis=0), color=color, label=lbl)\n",
    "        ax.scatter(ts, pbulks_g[i][0], s=5, color=color)\n",
    "        ax.scatter(ts, pbulks_g[i][1], s=5, color=color)\n",
    "    ax.set_xticks(ts)\n",
    "    sns.despine(ax=ax)\n",
    "    if j == 0:\n",
    "        ax.legend()\n",
    "    if j % 5 == 0:\n",
    "        ax.set_ylabel('log10(CPM+1)')\n",
    "    if j >= 5:\n",
    "        ax.set_xlabel('hour')\n",
    "    \n",
    "fig.tight_layout()\n",
    "plt.show()"
   ]
  },
  {
   "cell_type": "code",
   "execution_count": null,
   "id": "94e218f6-dbef-42d3-83c1-36814530563a",
   "metadata": {},
   "outputs": [],
   "source": []
  },
  {
   "cell_type": "code",
   "execution_count": null,
   "id": "70d35c95-18f3-4558-9519-3411229c9833",
   "metadata": {},
   "outputs": [],
   "source": []
  },
  {
   "cell_type": "code",
   "execution_count": null,
   "id": "4374a8f0-ca7c-4aa9-b46c-48b5966fd5ef",
   "metadata": {},
   "outputs": [],
   "source": []
  },
  {
   "cell_type": "code",
   "execution_count": null,
   "id": "f39e0549-c356-4416-bd52-496c412f9fb6",
   "metadata": {},
   "outputs": [],
   "source": []
  },
  {
   "cell_type": "code",
   "execution_count": null,
   "id": "a32475af-fd0f-474d-969c-84cfe7435099",
   "metadata": {},
   "outputs": [],
   "source": []
  },
  {
   "cell_type": "code",
   "execution_count": null,
   "id": "7baa07a8-86be-421e-b605-39f85de845d2",
   "metadata": {},
   "outputs": [],
   "source": []
  },
  {
   "cell_type": "code",
   "execution_count": null,
   "id": "677097aa-3197-40a0-b257-a3ce2e9358ff",
   "metadata": {},
   "outputs": [],
   "source": []
  },
  {
   "cell_type": "code",
   "execution_count": null,
   "id": "fb1df43f-b4d6-49d5-8a12-e31b9b1e459f",
   "metadata": {},
   "outputs": [],
   "source": []
  },
  {
   "cell_type": "code",
   "execution_count": null,
   "id": "811c8745-7dce-49ad-a8f1-c3175748c192",
   "metadata": {},
   "outputs": [],
   "source": []
  },
  {
   "cell_type": "code",
   "execution_count": null,
   "id": "0bbb3ea8-7d9d-40b7-9e9e-acd83fcf589a",
   "metadata": {},
   "outputs": [],
   "source": []
  },
  {
   "cell_type": "code",
   "execution_count": null,
   "id": "746acb31-dc12-4933-a6ca-4e9b2c27942d",
   "metadata": {},
   "outputs": [],
   "source": []
  },
  {
   "cell_type": "code",
   "execution_count": null,
   "id": "44ded308-04fe-49f5-aaad-9fba49a1ca43",
   "metadata": {},
   "outputs": [],
   "source": []
  }
 ],
 "metadata": {
  "kernelspec": {
   "display_name": "napari",
   "language": "python",
   "name": "napari"
  },
  "language_info": {
   "codemirror_mode": {
    "name": "ipython",
    "version": 3
   },
   "file_extension": ".py",
   "mimetype": "text/x-python",
   "name": "python",
   "nbconvert_exporter": "python",
   "pygments_lexer": "ipython3",
   "version": "3.9.16"
  }
 },
 "nbformat": 4,
 "nbformat_minor": 5
}
