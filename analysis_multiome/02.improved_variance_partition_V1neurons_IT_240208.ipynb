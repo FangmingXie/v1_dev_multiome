{
 "cells": [
  {
   "cell_type": "code",
   "execution_count": null,
   "id": "3a50635c-f5a0-46df-860c-c89e0a9528c4",
   "metadata": {
    "tags": []
   },
   "outputs": [],
   "source": [
    "import anndata\n",
    "import numpy as np\n",
    "import pandas as pd\n",
    "import seaborn as sns\n",
    "import os\n",
    "\n",
    "from scroutines.config_plots import *\n",
    "from scroutines import basicu\n",
    "import importlib\n",
    "importlib.reload(basicu)"
   ]
  },
  {
   "cell_type": "markdown",
   "id": "0acc48ae-67ed-49d1-976d-ac9eae74b9e2",
   "metadata": {
    "tags": []
   },
   "source": [
    "# check features"
   ]
  },
  {
   "cell_type": "code",
   "execution_count": null,
   "id": "0c5111df-85a3-4265-9226-863ce07b875f",
   "metadata": {
    "tags": []
   },
   "outputs": [],
   "source": [
    "# !ls -alhtr ../../data/annot/*"
   ]
  },
  {
   "cell_type": "code",
   "execution_count": null,
   "id": "c7b654a9-5d27-4fb4-bd94-474e454b0edf",
   "metadata": {
    "tags": []
   },
   "outputs": [],
   "source": [
    "annot_files = [\n",
    "    '../../data/annot/Lrr_superfamily.txt',\n",
    "    '../../data/annot/Igsf_uniprot.txt',\n",
    "    '../../data/annot/GPCR.txt',\n",
    "    '../../data/annot/diffgenes_2022RNA-2023Multiome.txt',\n",
    "    '../../data/annot/CdhSF_interpro.txt',\n",
    "    '../../data/annot/All_TFs.txt',\n",
    "]\n",
    "\n",
    "\n",
    "genes_annots = {os.path.basename(f).split('.')[0]: np.loadtxt(f, dtype=str) for f in annot_files}\n",
    "for key, val in genes_annots.items():\n",
    "    print(key, len(val), val[:5])"
   ]
  },
  {
   "cell_type": "code",
   "execution_count": null,
   "id": "e43f80ec-a2ee-4d27-9566-541ec29d9ae7",
   "metadata": {},
   "outputs": [],
   "source": [
    "ddir = '../../data/cheng21_cell_scrna/organized/'\n",
    "files = [\n",
    "     'P8NR.h5ad',\n",
    "    'P14NR.h5ad',\n",
    "    'P17NR.h5ad',\n",
    "    \n",
    "    'P21NR.h5ad',\n",
    "    'P28NR.h5ad',\n",
    "    'P38NR.h5ad',\n",
    "] "
   ]
  },
  {
   "cell_type": "code",
   "execution_count": null,
   "id": "0d04b281-406a-45ea-9a2b-61366a21a30d",
   "metadata": {
    "tags": []
   },
   "outputs": [],
   "source": [
    "pbulks = []\n",
    "xclsts = []\n",
    "xcnsts = []\n",
    "\n",
    "ncond, nrep, nclst, ngene = len(files), 2, 4, -1, \n",
    "\n",
    "for f in files:\n",
    "    print(f)\n",
    "    \n",
    "    path = os.path.join(ddir, f)\n",
    "    adata = anndata.read(path)\n",
    "    genes = adata.var.index.values\n",
    "    \n",
    "    adata = adata[adata.obs['Subclass'].isin(['L2/3', 'L4', 'L5IT', 'L6IT'])]\n",
    "    mat = adata.X\n",
    "    # type \n",
    "    types = adata.obs['Subclass'].astype(str).values\n",
    "    \n",
    "    # 1 or 2\n",
    "    sample_codes = adata.obs['sample'].apply(lambda x: x.split('_')[-1][:-1].replace('3', '2')).astype(str).values\n",
    "    sample_and_type = sample_codes + \"_\" + types\n",
    "    unqs, cnts = np.unique(sample_and_type, return_counts=True)\n",
    "    _xclsts, Xk, Xk_n, Xk_ln = basicu.counts_to_bulk_profiles(mat, sample_and_type) \n",
    "    \n",
    "    # check all types + reps are the same\n",
    "    if len(xclsts) > 0:\n",
    "        if not np.all(_xclsts == xclsts):\n",
    "            raise ValueError(_xclsts.shape, xclsts.shape, _xclsts, xclsts,)\n",
    "        if not np.all(_xclsts == unqs):\n",
    "            raise ValueError(_xclsts.shape, unqs.shape, _xclsts, unqs,)\n",
    "    else:\n",
    "        xclsts = _xclsts\n",
    "        print(xclsts)\n",
    "        \n",
    "    print(Xk_ln.shape)\n",
    "    pbulks.append(Xk_ln)\n",
    "    xcnsts.append(cnts)\n",
    "    \n",
    "pbulks = np.array(pbulks)\n",
    "xcnsts = np.array(xcnsts)\n",
    "print(pbulks.shape)\n",
    "pbulks = pbulks.reshape(ncond,nrep,nclst,-1)\n",
    "xcnsts = xcnsts.reshape(ncond,nrep,nclst)\n",
    "xclsts = xclsts.reshape(      nrep,nclst)\n",
    "print(pbulks.shape)"
   ]
  },
  {
   "cell_type": "code",
   "execution_count": null,
   "id": "85e146ef-c970-4b51-bdf4-c6cb36627ddd",
   "metadata": {
    "tags": []
   },
   "outputs": [],
   "source": [
    "# check the pbulks are good -- log10(CPM+1) for each sample\n",
    "checkpbulks = np.sum(np.power(10, pbulks)-1, axis=-1)\n",
    "checkpbulks.shape, np.all(np.abs(checkpbulks-1e6) < 1e-6)"
   ]
  },
  {
   "cell_type": "code",
   "execution_count": null,
   "id": "b1fe5648-3bd5-493d-84e8-a9574f9df196",
   "metadata": {
    "tags": []
   },
   "outputs": [],
   "source": [
    "# cell types\n",
    "xclsts_short = np.array([clst[len(\"1_\"):] for clst in xclsts[0]]) #, '_'\n",
    "numcells = pd.DataFrame(xcnsts.T.reshape(-1,nrep*ncond), index=xclsts_short)\n",
    "numcells.min(axis=1).sort_values()"
   ]
  },
  {
   "cell_type": "code",
   "execution_count": null,
   "id": "8a0cd0d3-aa43-4093-b542-db005c3b3f71",
   "metadata": {
    "tags": []
   },
   "outputs": [],
   "source": [
    "# select cell types\n",
    "xclsts_sel = xclsts_short[numcells.min(axis=1)>20]\n",
    "xclsts_selidx = basicu.get_index_from_array(xclsts_short, xclsts_sel)\n",
    "X = pbulks[:,:,xclsts_selidx,:]\n",
    "print(xclsts_sel)\n",
    "\n",
    "# select genes - mean (across 2 rep) expr of CPM=10 in any subclass at any time\n",
    "expressed_any = np.any(np.mean(pbulks, axis=2) > np.log10(10+1), axis=(0,1)) \n",
    "genes_comm = genes[expressed_any]\n",
    "genes_cidx = np.arange(len(genes))[expressed_any] \n",
    "X = X[:,:,:,expressed_any]\n",
    "print(X.shape)\n",
    "\n",
    "# reorder\n",
    "X = np.swapaxes(X,1,2) \n",
    "print(X.shape)\n",
    "nt, nc, nr, ng = X.shape # ntime, nclst, nrep, ngene\n"
   ]
  },
  {
   "cell_type": "code",
   "execution_count": null,
   "id": "4e35854b-eae4-4123-9f89-c02dc3cfccc1",
   "metadata": {
    "tags": []
   },
   "outputs": [],
   "source": [
    "genes_annots_overlap = {}\n",
    "for key, val in genes_annots.items():\n",
    "    overlap = np.intersect1d(val, genes_comm)\n",
    "    genes_annots_overlap[key] = overlap\n",
    "    print(key, len(val), len(overlap))\n",
    "    print(val[:5], overlap[:5])"
   ]
  },
  {
   "cell_type": "code",
   "execution_count": null,
   "id": "f02dd2f0-fae6-4d13-b700-e109d6c72b69",
   "metadata": {},
   "outputs": [],
   "source": []
  },
  {
   "cell_type": "code",
   "execution_count": null,
   "id": "b58fdbe6-7bd6-402e-8cbb-c6ad99e88b1b",
   "metadata": {
    "tags": []
   },
   "outputs": [],
   "source": [
    "def get_2way_eta2_allgenes(nums):\n",
    "    \"\"\"\n",
    "    nums: c0, c1, r, g matrix - (cond0, cond1, cond x, ..., reps, genes)\n",
    "    \n",
    "    return (eta2, stdv) - vectors one entry for each gene\n",
    "    \"\"\"\n",
    "    nc0, nc1, nr, ng = nums.shape # (num cond0, cond1, num rep, num genes)\n",
    "\n",
    "    rm   = np.mean(nums, axis=(0,1,2)) # global mean; reduced form\n",
    "    rm0  = np.mean(nums, axis=(1,2))   # mean per c0 across reps and ignoring c1  \n",
    "    rm1  = np.mean(nums, axis=(0,2))   # mean per c1 across reps and ignoring c0 \n",
    "    rm01 = np.mean(nums, axis=(2)) # mean per (c0, c1) across reps  \n",
    "    \n",
    "    em   = np.expand_dims(rm  , axis=(0,1,2)) # expanded form\n",
    "    em0  = np.expand_dims(rm0 , axis=(1,2))   # expanded form\n",
    "    em1  = np.expand_dims(rm1 , axis=(0,2))   # expanded form\n",
    "    em01 = np.expand_dims(rm01, axis=(2))     #  \n",
    "\n",
    "    # # SSt \n",
    "    SSt  = np.sum(np.power(nums-em, 2),   axis=(0,1,2))  \n",
    "    \n",
    "    # # SSwr (noise)\n",
    "    SSwr = np.sum(np.power(nums-em01, 2), axis=(0,1,2))  # within (c0,c1) across reps \n",
    "    \n",
    "    # # SSw\n",
    "    SSw0 = nr*np.sum(np.power(em01-em0, 2),  axis=(0,1,2))  # within c0 across reps and ignoring c1\n",
    "    SSw1 = nr*np.sum(np.power(em01-em1, 2),  axis=(0,1,2))  # within c1 across reps and ignoring c0 \n",
    "    \n",
    "    # SSt = SSwr + SSexp\n",
    "    # where SSexp = SSw0 + SSexp0 = SSw1 + SSexp1\n",
    "    SSexp  = SSt   - SSwr\n",
    "    SSexp0 = SSexp - SSw0\n",
    "    SSexp1 = SSexp - SSw1\n",
    "    \n",
    "    # return SSt, SSwr, SSw0, SSw1\n",
    "    \n",
    "    o = 1e-10\n",
    "    eta2_01 = (SSexp +o)/(SSt+o)\n",
    "    eta2_0  = (SSexp0+o)/(SSt+o)\n",
    "    eta2_1  = (SSexp1+o)/(SSt+o)\n",
    "    \n",
    "    return eta2_01, eta2_0, eta2_1\n",
    "\n",
    "# sst, sswr, sswt, sswc = get_2way_eta2_allgenes(X)\n",
    "# ssexp = sst - sswr\n",
    "# fig, ax = plt.subplots(figsize=(8,6))\n",
    "# ax.scatter(sst, sswr, s=1, color='gray')\n",
    "# ax.plot([0,10], [0,10])\n",
    "# ax.set_aspect('equal')\n",
    "# plt.show()\n",
    "\n",
    "# fig, ax = plt.subplots(figsize=(8,6))\n",
    "# ax.scatter(ssexp, sswt, s=1, color='gray')\n",
    "# ax.plot([0,10], [0,10])\n",
    "# ax.set_aspect('equal')\n",
    "# plt.show()\n",
    "\n",
    "# fig, ax = plt.subplots(figsize=(8,6))\n",
    "# ax.scatter(ssexp, sswc, s=1, color='gray')\n",
    "# ax.plot([0,10], [0,10])\n",
    "# ax.set_aspect('equal')\n",
    "# plt.show()\n",
    "\n",
    "# fig, ax = plt.subplots(figsize=(8,6))\n",
    "# ax.scatter(ssexp, sswc+sswt, s=1, color='gray')\n",
    "# ax.set_aspect('equal')\n",
    "# ax.plot([0,10], [0,10])\n",
    "# plt.show()\n",
    "\n",
    "# fig, ax = plt.subplots(figsize=(8,6))\n",
    "# g = ax.scatter(1-sswc/ssexp, 1-sswt/ssexp, c=1-sswr/sst, s=1,)\n",
    "# fig.colorbar(g)\n",
    "# ax.set_aspect('equal')\n",
    "# plt.show()"
   ]
  },
  {
   "cell_type": "code",
   "execution_count": null,
   "id": "403f6998-cd5c-45c3-895c-c8574907adff",
   "metadata": {
    "tags": []
   },
   "outputs": [],
   "source": [
    "eta2_tc, eta2_t, eta2_c = get_2way_eta2_allgenes(X)\n",
    "eta2_r = 1-eta2_tc"
   ]
  },
  {
   "cell_type": "code",
   "execution_count": null,
   "id": "645084ea-35f8-4191-9061-82c97c61e828",
   "metadata": {
    "tags": []
   },
   "outputs": [],
   "source": [
    "genes_comm.shape, eta2_t.shape, eta2_c.shape, eta2_r.shape\n",
    "table = pd.DataFrame(np.vstack([genes_comm, eta2_t, eta2_c, eta2_r]), index=['gene', 'time', 'type', 'rep']).T\n",
    "output = '/u/home/f/f7xiesnm/project-zipursky/v1-bb/v1/results/gene_scores_itsubclasses_240308.csv' \n",
    "table.to_csv(output)\n",
    "!head $output"
   ]
  },
  {
   "cell_type": "code",
   "execution_count": null,
   "id": "c1ef753d-5c1c-4aee-9dbd-90e7a54e1b76",
   "metadata": {
    "tags": []
   },
   "outputs": [],
   "source": []
  },
  {
   "cell_type": "code",
   "execution_count": null,
   "id": "3635cc2d-981c-4d3e-a151-5f4d134973cf",
   "metadata": {
    "tags": []
   },
   "outputs": [],
   "source": [
    "fig, ax = plt.subplots(figsize=(5,6))\n",
    "sns.boxplot([eta2_t, eta2_c, eta2_r, \n",
    "             eta2_t+eta2_c, eta2_tc, eta2_t+eta2_c+eta2_r,  \n",
    "            ])\n",
    "ax.set_xticklabels(['time', 'type', 'rep', \n",
    "                    'time+\\ntype', \n",
    "                    'time&\\ntype', \n",
    "                    'time+\\ntype+\\nrep'], rotation=0, fontsize=12)\n",
    "ax.set_ylabel('variance explained by')\n",
    "plt.show()"
   ]
  },
  {
   "cell_type": "code",
   "execution_count": null,
   "id": "5240afb9-bbc2-47e2-950a-9b84657b82e6",
   "metadata": {},
   "outputs": [],
   "source": []
  },
  {
   "cell_type": "code",
   "execution_count": null,
   "id": "8783fa7e-18a7-445f-b010-9a31b277e632",
   "metadata": {
    "tags": []
   },
   "outputs": [],
   "source": [
    "fig, ax = plt.subplots(figsize=(8,6))\n",
    "g = ax.scatter(eta2_t, eta2_c, c=1-eta2_tc, s=1, cmap='viridis', vmin=0, vmax=1)\n",
    "fig.colorbar(g, shrink=0.5, ticks=[0, 0.5, 1], label='var exp replicates')\n",
    "ax.set_aspect('equal')\n",
    "ax.set_xlabel('var exp time')\n",
    "ax.set_ylabel('var exp type')\n",
    "plt.show()"
   ]
  },
  {
   "cell_type": "code",
   "execution_count": null,
   "id": "f1cf96e0-981c-4513-bd55-ce485599cd1f",
   "metadata": {},
   "outputs": [],
   "source": []
  },
  {
   "cell_type": "code",
   "execution_count": null,
   "id": "caeb3868-19e7-4268-9e2c-51a4e2993ebc",
   "metadata": {
    "tags": []
   },
   "outputs": [],
   "source": [
    "from mpl_toolkits.mplot3d import Axes3D\n",
    "\n",
    "# fig, ax = plt.subplots(figsize=(8,6))\n",
    "fig = plt.figure()\n",
    "ax = fig.add_subplot(111, projection='3d')\n",
    "g = ax.scatter(eta2_t, eta2_c, 1-eta2_tc, s=1) #  cmap='viridis', vmin=0, vmax=1)\n",
    "ax.set_xlim([0,1])\n",
    "ax.set_ylim([0,1])\n",
    "ax.set_zlim([0,1])\n",
    "\n",
    "# fig.colorbar(g, shrink=0.5, ticks=[0, 0.5, 1], label='var exp rep')\n",
    "ax.set_aspect('equal')\n",
    "ax.set_xlabel('var exp time')\n",
    "ax.set_ylabel('var exp type')\n",
    "plt.show()"
   ]
  },
  {
   "cell_type": "code",
   "execution_count": null,
   "id": "369a51b7-5358-4804-ab35-690ab5a38ea6",
   "metadata": {
    "tags": []
   },
   "outputs": [],
   "source": [
    "import plotly.graph_objects as go\n",
    "\n",
    "# Generate some random data\n",
    "x = eta2_t\n",
    "y = eta2_c\n",
    "z = 1-eta2_tc\n",
    "\n",
    "# Create a 3D scatter plot\n",
    "fig = go.Figure(data=[go.Scatter3d(x=x, y=y, z=z, mode='markers', marker=dict(size=1))])\n",
    "\n",
    "# Update layout\n",
    "fig.update_layout(scene=dict(\n",
    "                    xaxis_title='time',\n",
    "                    yaxis_title='type',\n",
    "                    zaxis_title='rep'),\n",
    "                  title='time type rep', \n",
    "                  height=800,\n",
    "                  width=1000,\n",
    "                 )\n",
    "\n",
    "# Display the plot in the Jupyter notebook\n",
    "fig.show()\n"
   ]
  },
  {
   "cell_type": "code",
   "execution_count": null,
   "id": "5594b182-5742-46af-9d29-58a429f3c188",
   "metadata": {
    "tags": []
   },
   "outputs": [],
   "source": [
    "n = len(genes_annots_overlap)\n",
    "fig, axs = plt.subplots(2, 3, figsize=(5*3,6*2))\n",
    "for i, (key, val) in enumerate(genes_annots_overlap.items()):\n",
    "    ax = axs.flat[i]\n",
    "    ax.set_xticks([0, 0.5, 1])\n",
    "    ax.set_yticks([0, 0.5, 1])\n",
    "    g = ax.scatter(eta2_t, eta2_c, s=1, c='lightgray')\n",
    "    \n",
    "    ax.set_title(f'{key}\\nn={len(val)}/{len(genes_annots[key])}')\n",
    "    val_idx = basicu.get_index_from_array(genes_comm, val)\n",
    "    g2 = ax.scatter(eta2_t[val_idx], eta2_c[val_idx], s=1, c='C1', zorder=2)\n",
    "    sns.despine(ax=ax)\n",
    "    ax.set_xlim([0,1])\n",
    "    ax.set_ylim([0,1])\n",
    "    \n",
    "    # fig.colorbar(g)\n",
    "    ax.set_aspect('equal')\n",
    "plt.show()"
   ]
  },
  {
   "cell_type": "code",
   "execution_count": null,
   "id": "11e482eb-fd14-426b-8396-47732cb53b55",
   "metadata": {
    "tags": []
   },
   "outputs": [],
   "source": [
    "fig, ax = plt.subplots(figsize=(8,6))\n",
    "# g = ax.scatter(eta2_tc, (eta2_t+eta2_c)/eta2_tc, s=1,)\n",
    "g = ax.scatter((eta2_t+eta2_c), 1-eta2_tc, s=1,)\n",
    "ax.set_aspect('equal')\n",
    "ax.set_xlim([0,1])\n",
    "ax.set_ylim([0,1])\n",
    "plt.show()"
   ]
  },
  {
   "cell_type": "code",
   "execution_count": null,
   "id": "64368162-3a6e-4a0c-8732-1e1a9cebf0c5",
   "metadata": {
    "tags": []
   },
   "outputs": [],
   "source": [
    "\n",
    "n = len(genes_annots_overlap)\n",
    "fig, axs = plt.subplots(2, 3, figsize=(5*3,6*2))\n",
    "for i, (key, val) in enumerate(genes_annots_overlap.items()):\n",
    "    ax = axs.flat[i]\n",
    "    ax.set_xticks([0, 0.5, 1])\n",
    "    ax.set_yticks([0, 0.5, 1])\n",
    "    x = (eta2_t+eta2_c)\n",
    "    y = 1-eta2_tc \n",
    "    val_idx = basicu.get_index_from_array(genes_comm, val)\n",
    "    \n",
    "    g = ax.scatter(x, y, s=1, c='lightgray')\n",
    "    g2 = ax.scatter(x[val_idx], y[val_idx], s=1, c='C1')\n",
    "    \n",
    "    ax.set_title(f'{key}\\nn={len(val)}/{len(genes_annots[key])}')\n",
    "    ax.set_xlim([0,1])\n",
    "    ax.set_ylim([0,1])\n",
    "    sns.despine(ax=ax)\n",
    "    \n",
    "    # fig.colorbar(g)\n",
    "    ax.set_aspect('equal')\n",
    "plt.show()"
   ]
  },
  {
   "cell_type": "code",
   "execution_count": null,
   "id": "61a6525c-a276-44bd-bf1c-9efd95b0f1cc",
   "metadata": {},
   "outputs": [],
   "source": []
  },
  {
   "cell_type": "code",
   "execution_count": null,
   "id": "32f6eb36-db60-4e66-88cb-df2106d7a39b",
   "metadata": {},
   "outputs": [],
   "source": []
  },
  {
   "cell_type": "code",
   "execution_count": null,
   "id": "d63a4ae3-0ff3-4117-8a63-2542d9a0c3fa",
   "metadata": {},
   "outputs": [],
   "source": []
  },
  {
   "cell_type": "markdown",
   "id": "b9e3698f-0210-4d9b-b801-f0934dc712c0",
   "metadata": {},
   "source": [
    "# strong time component - separate by early mid late."
   ]
  },
  {
   "cell_type": "code",
   "execution_count": null,
   "id": "94413c89-230f-4a83-a177-4987f720b601",
   "metadata": {},
   "outputs": [],
   "source": []
  },
  {
   "cell_type": "code",
   "execution_count": null,
   "id": "4a507333-9204-4c2e-8897-395a2bed770b",
   "metadata": {},
   "outputs": [],
   "source": []
  },
  {
   "cell_type": "code",
   "execution_count": null,
   "id": "ffc9de03-5bac-4750-8450-178f56a15101",
   "metadata": {},
   "outputs": [],
   "source": []
  },
  {
   "cell_type": "code",
   "execution_count": null,
   "id": "041d4f4a-d6e2-4099-a077-2ab352885e74",
   "metadata": {},
   "outputs": [],
   "source": []
  },
  {
   "cell_type": "code",
   "execution_count": null,
   "id": "4785e1d3-63d3-4c5e-83b4-91a6d741482b",
   "metadata": {},
   "outputs": [],
   "source": []
  },
  {
   "cell_type": "markdown",
   "id": "1d98ed54-93d4-4bc3-a3b6-59d43817d8ee",
   "metadata": {
    "tags": []
   },
   "source": [
    "# top 10 type specific genes"
   ]
  },
  {
   "cell_type": "code",
   "execution_count": null,
   "id": "cd7ea4ec-eb07-42be-8a57-7f89bb529f3e",
   "metadata": {
    "tags": []
   },
   "outputs": [],
   "source": [
    "types = xclsts_sel \n",
    "colors = sns.color_palette('tab10', len(types))\n",
    "ts = [8, 14, 17, 21, 28, 38]\n",
    "types, colors"
   ]
  },
  {
   "cell_type": "code",
   "execution_count": null,
   "id": "1037afea-e170-486d-97e6-083aee58979e",
   "metadata": {
    "tags": []
   },
   "outputs": [],
   "source": [
    "eta2_nl = eta2_tc-(eta2_t+eta2_c)"
   ]
  },
  {
   "cell_type": "code",
   "execution_count": null,
   "id": "23ece773-d12d-4f5b-834a-be448cac21b3",
   "metadata": {
    "tags": []
   },
   "outputs": [],
   "source": [
    "gi_c = np.argsort(eta2_nl)[::-1][:15]\n",
    "gi_c"
   ]
  },
  {
   "cell_type": "code",
   "execution_count": null,
   "id": "d5be5a27-6733-41a7-8942-4225a78466a6",
   "metadata": {
    "tags": []
   },
   "outputs": [],
   "source": [
    "pbulks_sub = X[:,:,:,gi_c]\n",
    "print(pbulks_sub.shape)\n",
    "pbulks_sub = np.swapaxes(pbulks_sub, 0, 3) # nt, nc, nr, ng -> ng, nc, nr, nt\n",
    "print(pbulks_sub.shape)\n",
    "gnames = genes_comm[gi_c]"
   ]
  },
  {
   "cell_type": "code",
   "execution_count": null,
   "id": "5e69cfb5-18a3-407f-87ed-afb9ce3e6fe5",
   "metadata": {
    "tags": []
   },
   "outputs": [],
   "source": [
    "fig, axs = plt.subplots(3,5,figsize=(5*3,3*4), sharex=True)\n",
    "for j, (pbulks_g, gname, ax) in enumerate(zip(pbulks_sub, gnames, axs.flat)):\n",
    "    ax.set_title(gname)\n",
    "    for i in range(nc):\n",
    "        color = colors[i]\n",
    "        lbl = types[i]\n",
    "        ax.plot(ts, np.mean(pbulks_g[i], axis=0), color=color, label=lbl)\n",
    "        ax.scatter(ts, pbulks_g[i][0], s=5, color=color)\n",
    "        ax.scatter(ts, pbulks_g[i][1], s=5, color=color)\n",
    "    ax.set_xticks(ts)\n",
    "    sns.despine(ax=ax)\n",
    "    if j == 0:\n",
    "        ax.legend()\n",
    "    if j % 5 == 0:\n",
    "        ax.set_ylabel('log10(CPM+1)')\n",
    "    if j >= 5:\n",
    "        ax.set_xlabel('P')\n",
    "    \n",
    "fig.tight_layout()\n",
    "plt.show()"
   ]
  },
  {
   "cell_type": "code",
   "execution_count": null,
   "id": "d87b0e44-8cf2-4673-aff6-f883ba59e3f4",
   "metadata": {},
   "outputs": [],
   "source": []
  },
  {
   "cell_type": "markdown",
   "id": "379bdddb-527d-4bdc-b528-8b2b5449b61c",
   "metadata": {
    "tags": []
   },
   "source": [
    "# top 10 time specific genes"
   ]
  },
  {
   "cell_type": "code",
   "execution_count": null,
   "id": "575b9736-ef6f-4ed7-86a7-379ce6c397da",
   "metadata": {
    "tags": []
   },
   "outputs": [],
   "source": [
    "gi_t = np.argsort(eta2_t)[::-1][:15]\n",
    "gi_t"
   ]
  },
  {
   "cell_type": "code",
   "execution_count": null,
   "id": "7820d946-ad04-42d3-9af0-7dc43db88255",
   "metadata": {
    "tags": []
   },
   "outputs": [],
   "source": [
    "pbulks_sub = pbulks[:,:,:,gi_t]\n",
    "pbulks_sub = np.swapaxes(pbulks_sub, 0, 3) # nt, nr, nc, ng -> ng, nc, nr, nt\n",
    "pbulks_sub = np.swapaxes(pbulks_sub, 1, 2) # nt, nr, nc, ng -> ng, nc, nr, nt\n",
    "gnames = genes[gi_t]\n",
    "print(pbulks_sub.shape)"
   ]
  },
  {
   "cell_type": "code",
   "execution_count": null,
   "id": "19be26f8-b6d7-4347-95b2-46344e59896d",
   "metadata": {
    "tags": []
   },
   "outputs": [],
   "source": [
    "fig, axs = plt.subplots(3,5,figsize=(5*3,3*4), sharex=True)\n",
    "for j, (pbulks_g, gname, ax) in enumerate(zip(pbulks_sub, gnames, axs.flat)):\n",
    "    ax.set_title(gname)\n",
    "    for i in range(nc):\n",
    "        color = colors[i]\n",
    "        lbl = types[i]\n",
    "        ax.plot(ts, np.mean(pbulks_g[i], axis=0), color=color, label=lbl)\n",
    "        ax.scatter(ts, pbulks_g[i][0], s=5, color=color)\n",
    "        ax.scatter(ts, pbulks_g[i][1], s=5, color=color)\n",
    "    ax.set_xticks(ts)\n",
    "    sns.despine(ax=ax)\n",
    "    if j == 0:\n",
    "        ax.legend()\n",
    "    if j % 5 == 0:\n",
    "        ax.set_ylabel('log10(CPM+1)')\n",
    "    if j >= 5:\n",
    "        ax.set_xlabel('P')\n",
    "    \n",
    "fig.tight_layout()\n",
    "plt.show()"
   ]
  },
  {
   "cell_type": "code",
   "execution_count": null,
   "id": "32297815-a5e0-4ee0-9f17-f031404e28fd",
   "metadata": {
    "tags": []
   },
   "outputs": [],
   "source": [
    "cond = np.logical_and(eta2_t+eta2_c>0.8, np.abs(eta2_t-0.5)<0.2)\n",
    "cond = np.logical_and(cond, np.abs(eta2_c-0.5)<0.2)\n",
    "gi_ct = np.arange(len(genes))[cond]\n",
    "# gi_ct = np.array([g for g in gi_ct if (g not in gi_c and g not in gi_t)])\n",
    "gi_ct.shape"
   ]
  },
  {
   "cell_type": "code",
   "execution_count": null,
   "id": "3e4e8113-334c-41af-bd06-9800da780aed",
   "metadata": {
    "tags": []
   },
   "outputs": [],
   "source": [
    "fig, ax = plt.subplots(figsize=(8,6))\n",
    "ax.scatter(eta2_t, eta2_c, s=1, color='gray')\n",
    "ax.scatter(eta2_t[gi_t], eta2_c[gi_t], s=5, color='C0', label='time spec')\n",
    "ax.scatter(eta2_t[gi_c], eta2_c[gi_c], s=5, color='C1', label='type spec')\n",
    "ax.scatter(eta2_t[gi_ct], eta2_c[gi_ct], s=5, color='C2', label='type+time spec')\n",
    "ax.set_aspect('equal')\n",
    "ax.set_xlabel('var by time')\n",
    "ax.set_ylabel('var by type')\n",
    "ax.legend()\n",
    "ax.plot([0,1], [1,0], color='k', linestyle='--')\n",
    "plt.show()"
   ]
  },
  {
   "cell_type": "code",
   "execution_count": null,
   "id": "2e7d861f-8bb5-463a-94f7-c40545384e14",
   "metadata": {
    "tags": []
   },
   "outputs": [],
   "source": [
    "pbulks_sub = pbulks[:,:,:,gi_ct]\n",
    "pbulks_sub = np.swapaxes(pbulks_sub, 0, 3) # nt, nr, nc, ng -> ng, nc, nr, nt\n",
    "pbulks_sub = np.swapaxes(pbulks_sub, 1, 2) # nt, nr, nc, ng -> ng, nc, nr, nt\n",
    "gnames = genes[gi_ct]\n",
    "print(pbulks_g.shape)"
   ]
  },
  {
   "cell_type": "code",
   "execution_count": null,
   "id": "d22e9d55-bfaa-4e1b-9223-439e1af3030c",
   "metadata": {
    "tags": []
   },
   "outputs": [],
   "source": [
    "fig, axs = plt.subplots(4,5,figsize=(5*3,4*4), sharex=True)\n",
    "for j, (pbulks_g, gname, ax) in enumerate(zip(pbulks_sub, gnames, axs.flat)):\n",
    "    ax.set_title(gname)\n",
    "    for i in range(nc):\n",
    "        color = colors[i]\n",
    "        lbl = types[i]\n",
    "        ax.plot(ts, np.mean(pbulks_g[i], axis=0), color=color, label=lbl)\n",
    "        ax.scatter(ts, pbulks_g[i][0], s=5, color=color)\n",
    "        ax.scatter(ts, pbulks_g[i][1], s=5, color=color)\n",
    "    ax.set_xticks(ts)\n",
    "    sns.despine(ax=ax)\n",
    "    if j == 0:\n",
    "        ax.legend()\n",
    "    if j % 5 == 0:\n",
    "        ax.set_ylabel('log10(CPM+1)')\n",
    "    if j >= 5:\n",
    "        ax.set_xlabel('hour')\n",
    "    \n",
    "fig.tight_layout()\n",
    "plt.show()"
   ]
  },
  {
   "cell_type": "code",
   "execution_count": null,
   "id": "9f80cbe0-632d-4847-97e7-269c76b134ea",
   "metadata": {
    "tags": []
   },
   "outputs": [],
   "source": [
    "gi1 = basicu.get_index_from_array(genes, ['Slc17a7'])\n",
    "gi2 = basicu.get_index_from_array(genes, ['Cux2'])\n",
    "gi3 = basicu.get_index_from_array(genes, ['Cdh13'])\n",
    "\n",
    "gi1, gi2, gi3"
   ]
  },
  {
   "cell_type": "code",
   "execution_count": null,
   "id": "521fca9e-ac5b-4081-85e2-9f1177d71533",
   "metadata": {
    "tags": []
   },
   "outputs": [],
   "source": [
    "fig, ax = plt.subplots(figsize=(8,6))\n",
    "ax.scatter(eta2_t, eta2_c, s=1, color='lightgray')\n",
    "ax.scatter(eta2_t[gi_t], eta2_c[gi_t], s=5, color='C0', label='time spec')\n",
    "ax.scatter(eta2_t[gi_c], eta2_c[gi_c], s=5, color='C1', label='type spec')\n",
    "ax.scatter(eta2_t[gi_ct], eta2_c[gi_ct], s=5, color='C2', label='type+time spec')\n",
    "ax.scatter(eta2_t[gi1], eta2_c[gi1], s=20, color='C3', label='Slc17a7')\n",
    "ax.scatter(eta2_t[gi2], eta2_c[gi2], s=20, color='C4', label='Cux2')\n",
    "ax.scatter(eta2_t[gi3], eta2_c[gi3], s=20, color='C5', label='Cdh13')\n",
    "ax.set_aspect('equal')\n",
    "ax.set_xlabel('var by time')\n",
    "ax.set_ylabel('var by type')\n",
    "ax.legend()\n",
    "ax.plot([0,1], [1,0], color='k', linestyle='--')\n",
    "plt.show()"
   ]
  },
  {
   "cell_type": "code",
   "execution_count": null,
   "id": "45891c1c-ca19-4705-b9bd-d81a6f2c28db",
   "metadata": {
    "tags": []
   },
   "outputs": [],
   "source": [
    "for gi in [gi1, gi2, gi3]:\n",
    "    pbulks_sub = pbulks[:,:,:,gi] #, axis=3)\n",
    "    pbulks_sub = np.swapaxes(pbulks_sub, 0, 3) # nt, nr, nc, ng -> ng, nc, nr, nt\n",
    "    pbulks_sub = np.swapaxes(pbulks_sub, 1, 2) # nt, nr, nc, ng -> ng, nc, nr, nt\n",
    "    gnames = genes[gi]\n",
    "    print(pbulks_sub.shape)\n",
    "\n",
    "    fig, axs = plt.subplots(1,1,figsize=(1*5,1*4), sharex=True)\n",
    "    for j, (pbulks_g, gname, ax) in enumerate(zip(pbulks_sub, gnames, [axs])):\n",
    "        ax.set_title(gname)\n",
    "        for i in range(nc):\n",
    "            color = colors[i]\n",
    "            lbl = types[i]\n",
    "            ax.plot(ts, np.mean(pbulks_g[i], axis=0), color=color, label=lbl)\n",
    "            ax.scatter(ts, pbulks_g[i][0], s=5, color=color)\n",
    "            ax.scatter(ts, pbulks_g[i][1], s=5, color=color)\n",
    "        ax.set_xticks(ts)\n",
    "        sns.despine(ax=ax)\n",
    "        if j == 0:\n",
    "            ax.legend(bbox_to_anchor=(1,1))\n",
    "        if j % 5 == 0:\n",
    "            ax.set_ylabel('log10(CPM+1)')\n",
    "        if j >= 5:\n",
    "            ax.set_xlabel('hour')\n",
    "\n",
    "    fig.tight_layout()\n",
    "    plt.show()"
   ]
  },
  {
   "cell_type": "code",
   "execution_count": null,
   "id": "54ab2b51-02b8-4171-8bcd-e40e03daf86a",
   "metadata": {
    "tags": []
   },
   "outputs": [],
   "source": [
    "cond = np.logical_and(eta2_t+eta2_c<0.2, eta2_r<0.01)\n",
    "gi_nct = np.arange(len(genes))[cond]\n",
    "gi_nct.shape"
   ]
  },
  {
   "cell_type": "code",
   "execution_count": null,
   "id": "4e0f887f-17c4-4f6b-bda6-57987e9679a1",
   "metadata": {
    "tags": []
   },
   "outputs": [],
   "source": [
    "eta2_r[gi_nct]"
   ]
  },
  {
   "cell_type": "code",
   "execution_count": null,
   "id": "9acc8e47-5220-4b28-9fd7-7a4a5eeb5f0f",
   "metadata": {
    "tags": []
   },
   "outputs": [],
   "source": [
    "fig, ax = plt.subplots(figsize=(8,6))\n",
    "ax.scatter(eta2_t, eta2_c, s=1, color='gray')\n",
    "ax.scatter(eta2_t[gi_nct], eta2_c[gi_nct], s=5, color='C2', label='non type+time spec')\n",
    "ax.set_aspect('equal')\n",
    "ax.set_xlabel('var by time')\n",
    "ax.set_ylabel('var by type')\n",
    "ax.legend()\n",
    "ax.plot([0,1], [1,0], color='k', linestyle='--')\n",
    "plt.show()"
   ]
  },
  {
   "cell_type": "code",
   "execution_count": null,
   "id": "b3ea7941-1a6f-4fbe-92a5-1d6d01de249d",
   "metadata": {
    "tags": []
   },
   "outputs": [],
   "source": [
    "pbulks_sub = pbulks[:,:,:,gi_nct]\n",
    "pbulks_sub = np.swapaxes(pbulks_sub, 0, 3) # nt, nr, nc, ng -> ng, nc, nr, nt\n",
    "pbulks_sub = np.swapaxes(pbulks_sub, 1, 2) # nt, nr, nc, ng -> ng, nc, nr, nt\n",
    "gnames = genes[gi_nct]\n",
    "print(pbulks_sub.shape)"
   ]
  },
  {
   "cell_type": "code",
   "execution_count": null,
   "id": "aaa7d892-a0c9-4035-b5b7-42cb29851b99",
   "metadata": {
    "tags": []
   },
   "outputs": [],
   "source": [
    "fig, axs = plt.subplots(4,5,figsize=(5*3,4*4), sharex=True)\n",
    "for j, (pbulks_g, gname, ax) in enumerate(zip(pbulks_sub, gnames, axs.flat)):\n",
    "    ax.set_title(gname)\n",
    "    for i in range(nc):\n",
    "        color = colors[i]\n",
    "        lbl = types[i]\n",
    "        ax.plot(ts, np.mean(pbulks_g[i], axis=0), color=color, label=lbl)\n",
    "        ax.scatter(ts, pbulks_g[i][0], s=5, color=color)\n",
    "        ax.scatter(ts, pbulks_g[i][1], s=5, color=color)\n",
    "    ax.set_xticks(ts)\n",
    "    sns.despine(ax=ax)\n",
    "    if j == 0:\n",
    "        ax.legend()\n",
    "    if j % 5 == 0:\n",
    "        ax.set_ylabel('log10(CPM+1)')\n",
    "    if j >= 5:\n",
    "        ax.set_xlabel('hour')\n",
    "    \n",
    "fig.tight_layout()\n",
    "plt.show()"
   ]
  },
  {
   "cell_type": "code",
   "execution_count": null,
   "id": "94e218f6-dbef-42d3-83c1-36814530563a",
   "metadata": {},
   "outputs": [],
   "source": []
  },
  {
   "cell_type": "code",
   "execution_count": null,
   "id": "70d35c95-18f3-4558-9519-3411229c9833",
   "metadata": {},
   "outputs": [],
   "source": []
  },
  {
   "cell_type": "code",
   "execution_count": null,
   "id": "4374a8f0-ca7c-4aa9-b46c-48b5966fd5ef",
   "metadata": {},
   "outputs": [],
   "source": []
  },
  {
   "cell_type": "code",
   "execution_count": null,
   "id": "f39e0549-c356-4416-bd52-496c412f9fb6",
   "metadata": {},
   "outputs": [],
   "source": []
  },
  {
   "cell_type": "markdown",
   "id": "2c10d4a2-0fe6-41e0-8e1f-0bd49d4d67ac",
   "metadata": {},
   "source": [
    "# Compare with Saumya's results"
   ]
  },
  {
   "cell_type": "code",
   "execution_count": null,
   "id": "394b1fd9-866d-48a7-a313-147a82b2de8a",
   "metadata": {
    "tags": []
   },
   "outputs": [],
   "source": [
    "f = '../../data/annot/specificity-dynamicity_scores.txt'\n",
    "\n",
    "saumya = pd.read_csv(f, sep='\\t', index_col='gene')\n",
    "saumya"
   ]
  },
  {
   "cell_type": "code",
   "execution_count": null,
   "id": "b54f24fd-fbee-4022-bb00-0e126cee4428",
   "metadata": {},
   "outputs": [],
   "source": [
    "genes_smy_overlap = np.intersect1d(saumya.index.values, genes_comm)\n",
    "genes_smy_overlap_idx = basicu.get_index_from_array(genes_comm, genes_smy_overlap)\n",
    "saumya_overlap = saumya.loc[genes_smy_overlap]\n",
    "print(len(genes_comm), len(saumya), len(genes_smy_overlap))"
   ]
  },
  {
   "cell_type": "code",
   "execution_count": null,
   "id": "5d6f2711-89d4-4313-9336-1a8e3bba6f63",
   "metadata": {
    "tags": []
   },
   "outputs": [],
   "source": [
    "genes_smy_overlap_idx"
   ]
  },
  {
   "cell_type": "code",
   "execution_count": null,
   "id": "af7dc520-92ba-445c-a989-87c018106d6f",
   "metadata": {
    "tags": []
   },
   "outputs": [],
   "source": [
    "fig, ax = plt.subplots()\n",
    "ax.scatter(saumya_overlap['temporal-dynamicity'], \n",
    "           saumya_overlap['subclass-specificity'],\n",
    "           s=1,\n",
    "          )\n",
    "ax.set_aspect('equal')\n",
    "plt.show()\n",
    "\n",
    "fig, ax = plt.subplots()\n",
    "ax.scatter(saumya_overlap['temporal-dynamicity'], \n",
    "           eta2_t[genes_smy_overlap_idx],\n",
    "           s=1,\n",
    "          )\n",
    "# ax.set_aspect('equal')\n",
    "plt.show()\n",
    "\n",
    "fig, ax = plt.subplots()\n",
    "ax.scatter(saumya_overlap['subclass-specificity'], \n",
    "           eta2_c[genes_smy_overlap_idx],\n",
    "           s=1,\n",
    "          )\n",
    "# ax.set_aspect('equal')\n",
    "plt.show()"
   ]
  }
 ],
 "metadata": {
  "kernelspec": {
   "display_name": "napari",
   "language": "python",
   "name": "napari"
  },
  "language_info": {
   "codemirror_mode": {
    "name": "ipython",
    "version": 3
   },
   "file_extension": ".py",
   "mimetype": "text/x-python",
   "name": "python",
   "nbconvert_exporter": "python",
   "pygments_lexer": "ipython3",
   "version": "3.9.16"
  }
 },
 "nbformat": 4,
 "nbformat_minor": 5
}
