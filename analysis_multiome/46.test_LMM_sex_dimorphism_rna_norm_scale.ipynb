{
 "cells": [
  {
   "cell_type": "code",
   "execution_count": null,
   "id": "30b97a56-8884-4718-a56d-fc8af8e882e7",
   "metadata": {},
   "outputs": [],
   "source": [
    "import pandas as pd\n",
    "import numpy as np\n",
    "import statsmodels.formula.api as smf\n",
    "from statsmodels.stats.multitest import multipletests\n",
    "import matplotlib.pyplot as plt\n",
    "\n",
    "\n",
    "import scanpy as sc\n",
    "import seaborn as sns\n",
    "\n",
    "from scroutines import basicu\n"
   ]
  },
  {
   "cell_type": "code",
   "execution_count": null,
   "id": "7508e4b9-241a-42ea-9d4a-42d0a9220de0",
   "metadata": {
    "tags": []
   },
   "outputs": [],
   "source": [
    "f1 = '/u/home/f/f7xiesnm/project-zipursky/v1-bb/v1/data/v1_multiome/superdupermegaRNA_hasraw_multiome_l23.h5ad'\n",
    "f2 = '/u/home/f/f7xiesnm/v1_multiome/multiome_cell_sex_assignment_saumya.csv'\n",
    "adata  = sc.read(f1)\n",
    "df_sex = pd.read_csv(f2)\n",
    "adata.obs = adata.obs.join(df_sex.set_index('cell'))\n",
    "adata.X = adata.raw.X\n",
    "adata = adata[:,~adata.var.index.str.contains(f'^mt')]\n",
    "adata"
   ]
  },
  {
   "cell_type": "code",
   "execution_count": null,
   "id": "306da436-c271-45c7-9c27-44cfdae3c65b",
   "metadata": {
    "tags": []
   },
   "outputs": [],
   "source": [
    "adatasub = adata[(adata.obs['Age']=='P6') & (adata.obs['Subclass']=='L2/3')]\n",
    "# normalize\n",
    "mat = np.log2(np.array(adatasub.X.todense())/adatasub.obs['total_counts'].values.reshape(-1,1)*1e4+1)\n",
    "\n",
    "adatasub.shape, mat.shape"
   ]
  },
  {
   "cell_type": "code",
   "execution_count": null,
   "id": "03e51e55-13ca-48b8-8311-8f9e1933c1f0",
   "metadata": {
    "tags": []
   },
   "outputs": [],
   "source": [
    "genes = adatasub.var.index.values\n",
    "df = pd.DataFrame(mat, columns=np.char.add('g', np.arange(len(genes)).astype(str)), index=adatasub.obs.index)\n",
    "df = df.join(adatasub.obs[['sex', 'Sample']])\n",
    "df = df.dropna()\n",
    "df['sex'] = df['sex'].apply(lambda x: x[0].upper())\n",
    "df['subject'] = np.char.add(df['Sample'].values.astype(str), df['sex'].values.astype(str))\n",
    "df.shape"
   ]
  },
  {
   "cell_type": "code",
   "execution_count": null,
   "id": "7d6ee5c8-c5db-48fd-aa27-5b5e53fbe5e6",
   "metadata": {
    "tags": []
   },
   "outputs": [],
   "source": [
    "i = basicu.get_index_from_array(genes, ['Kdm5d'])[0]\n",
    "sns.boxplot(data=df, x='sex', hue='Sample', y=f'g{i}')\n",
    "\n",
    "model = smf.mixedlm(f\"g{i} ~ sex\", df, groups=\"subject\")\n",
    "result = model.fit()\n",
    "result.summary()"
   ]
  },
  {
   "cell_type": "code",
   "execution_count": null,
   "id": "c09100bc-22ad-4ff4-94ef-f139b7d86528",
   "metadata": {},
   "outputs": [],
   "source": []
  },
  {
   "cell_type": "code",
   "execution_count": null,
   "id": "7ded9d6d-2cdb-42b2-b0bd-6fe2d06aa9aa",
   "metadata": {
    "tags": []
   },
   "outputs": [],
   "source": [
    "gene_list = ['Dpp10', 'Snhg11', 'Xist', 'Nlgn1', '6530403H02Rik', 'Lingo2', 'Stmn1', 'Actb',\n",
    " 'Ptn', 'Cntnap2', 'Lrrtm4', 'Gabrg3', 'Dlgap2', 'Cdh13', 'Gpc6', 'Cntn5', 'Hspa8',\n",
    " 'Eef1a1', 'Slit3', 'Tubb2b', 'Pde4d', 'Nrxn3', 'Robo1', 'Tubb5', 'Eif2s3y', 'Uty',\n",
    " 'AC149090.1']\n",
    "\n",
    "for gene in gene_list:\n",
    "    i = basicu.get_index_from_array(genes, [gene])[0]\n",
    "    # sns.boxplot(data=df, x='sex', hue='Sample', y=f'g{i}')\n",
    "\n",
    "    model = smf.mixedlm(f\"g{i} ~ sex\", df, groups=\"subject\")\n",
    "    result = model.fit()\n",
    "    result.summary()\n",
    "    print(gene, result.pvalues['sex[T.M]'])"
   ]
  },
  {
   "cell_type": "code",
   "execution_count": null,
   "id": "a3acfb3d-0feb-419f-9bad-0521a3e0db9d",
   "metadata": {
    "tags": []
   },
   "outputs": [],
   "source": [
    "df_mean = df.groupby(['sex']).mean(numeric_only=True)\n",
    "log2fc  = df_mean.loc['M']-df_mean.loc['F']\n",
    "cond_fc = (np.abs(log2fc) > np.log2(1.5))"
   ]
  },
  {
   "cell_type": "code",
   "execution_count": null,
   "id": "0e25bbca-b17c-4b22-9bbd-59c90ff9d139",
   "metadata": {
    "tags": []
   },
   "outputs": [],
   "source": [
    "log2fc.loc[f'g{i}']"
   ]
  },
  {
   "cell_type": "code",
   "execution_count": null,
   "id": "c522ec33-0f6d-4bcc-9480-81d8a126ad8c",
   "metadata": {
    "tags": []
   },
   "outputs": [],
   "source": [
    "2**0.44"
   ]
  },
  {
   "cell_type": "code",
   "execution_count": null,
   "id": "81ce6cf0-9f88-455a-88c4-d1942e9ecb67",
   "metadata": {
    "tags": []
   },
   "outputs": [],
   "source": [
    "%%time\n",
    "import warnings\n",
    "from statsmodels.tools.sm_exceptions import ConvergenceWarning\n",
    "from statsmodels.tools.sm_exceptions import ValueWarning\n",
    "from tqdm import tqdm\n",
    "\n",
    "pvals = []\n",
    "for i in tqdm(range(len(genes))):\n",
    "    # gene = 'Meis2'\n",
    "    # Fit LMM: random intercept model\n",
    "    \n",
    "    model = smf.mixedlm(f\"g{i} ~ sex\", df, groups=\"subject\")\n",
    "    with warnings.catch_warnings():\n",
    "        warnings.simplefilter(\"ignore\") \n",
    "        # warnings.simplefilter(\"ignore\", ConvergenceWarning)\n",
    "        # warnings.simplefilter(\"ignore\", RuntimeWarning)\n",
    "        result = model.fit()\n",
    "        \n",
    "    pval = result.pvalues['sex[T.M]']\n",
    "    pvals.append(pval)\n",
    "    \n",
    "pvals = np.nan_to_num(np.array(pvals), 1)\n",
    "rej, qvals, _, _ =  multipletests(pvals, alpha=0.05, method='fdr_bh')\n",
    "cond_both = np.logical_and(rej, cond_fc)"
   ]
  },
  {
   "cell_type": "code",
   "execution_count": null,
   "id": "3235278c-2492-4bd5-b335-571b06258217",
   "metadata": {},
   "outputs": [],
   "source": []
  },
  {
   "cell_type": "code",
   "execution_count": null,
   "id": "4fa59b2e-b733-41a7-8220-daabbc69314f",
   "metadata": {},
   "outputs": [],
   "source": []
  },
  {
   "cell_type": "code",
   "execution_count": null,
   "id": "952ddbaf-acf9-417d-a0f7-be6ea2d747d2",
   "metadata": {},
   "outputs": [],
   "source": []
  },
  {
   "cell_type": "code",
   "execution_count": null,
   "id": "0a11ad3c-d71b-4169-9e20-781002c9ddc6",
   "metadata": {
    "tags": []
   },
   "outputs": [],
   "source": [
    "plt.scatter(log2fc, -np.log10(qvals), s=5)\n",
    "# plt.ylim([-0.2,10])"
   ]
  }
 ],
 "metadata": {
  "kernelspec": {
   "display_name": "Python 3 (ipykernel)",
   "language": "python",
   "name": "python3"
  },
  "language_info": {
   "codemirror_mode": {
    "name": "ipython",
    "version": 3
   },
   "file_extension": ".py",
   "mimetype": "text/x-python",
   "name": "python",
   "nbconvert_exporter": "python",
   "pygments_lexer": "ipython3",
   "version": "3.9.16"
  }
 },
 "nbformat": 4,
 "nbformat_minor": 5
}
