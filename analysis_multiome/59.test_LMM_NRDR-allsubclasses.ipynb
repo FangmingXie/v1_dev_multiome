{
 "cells": [
  {
   "cell_type": "code",
   "execution_count": null,
   "id": "30b97a56-8884-4718-a56d-fc8af8e882e7",
   "metadata": {},
   "outputs": [],
   "source": [
    "import pandas as pd\n",
    "import numpy as np\n",
    "import statsmodels.formula.api as smf\n",
    "from statsmodels.stats.multitest import multipletests\n",
    "import matplotlib.pyplot as plt\n",
    "import os\n",
    "from natsort import natsorted\n",
    "\n",
    "import scanpy as sc\n",
    "import seaborn as sns\n",
    "\n",
    "from scroutines import basicu\n",
    "\n",
    "import warnings\n",
    "from statsmodels.tools.sm_exceptions import ConvergenceWarning\n",
    "from statsmodels.tools.sm_exceptions import ValueWarning\n",
    "from tqdm import tqdm\n",
    "\n",
    "\n",
    "import lmm"
   ]
  },
  {
   "cell_type": "code",
   "execution_count": null,
   "id": "73c49a5f-dcec-4483-8d8b-0221ec630727",
   "metadata": {
    "tags": []
   },
   "outputs": [],
   "source": [
    "outfigdir = '/u/home/f/f7xiesnm/project-zipursky/v1-bb/v1/results_nrdr_lmm'\n",
    "!mkdir $outfigdir"
   ]
  },
  {
   "cell_type": "code",
   "execution_count": null,
   "id": "97f1a545-c321-40ac-b7de-16e8fb5ec0e5",
   "metadata": {},
   "outputs": [],
   "source": [
    "adata = sc.read(\"/u/home/f/f7xiesnm/project-zipursky/v1-bb/v1/data/v1_multiome/superdupermegaRNA_hasraw_multiome_P21NRDR.h5ad\")\n",
    "adata.X = adata.raw.X\n",
    "adata"
   ]
  },
  {
   "cell_type": "code",
   "execution_count": null,
   "id": "5c9ec47a-97f1-4b34-83a6-08c96886131f",
   "metadata": {
    "tags": []
   },
   "outputs": [],
   "source": [
    "# remove mitocondria genes\n",
    "adata = adata[:,~adata.var.index.str.contains(r'^mt-')]\n",
    "\n",
    "# remove sex genes\n",
    "sex_genes = [\"Xist\", \"Uty\", \"Eif2s3y\", \"Kdm5d\", \"Ddx3y\"]\n",
    "adata = adata[:,[g for g in adata.var.index if g not in sex_genes]]\n",
    "\n",
    "# filter genes\n",
    "cond = np.ravel((adata.X>0).sum(axis=0)) > 10 # expressed in more than 10 cells\n",
    "adata = adata[:,cond].copy()\n",
    "# genes = adata.var.index.values\n",
    "\n",
    "adata"
   ]
  },
  {
   "cell_type": "code",
   "execution_count": null,
   "id": "55fdc01b-d3b4-41b8-8f3e-18135ead652e",
   "metadata": {
    "tags": []
   },
   "outputs": [],
   "source": [
    "np.array(natsorted(np.unique(adata.obs['Age'].values)))"
   ]
  },
  {
   "cell_type": "code",
   "execution_count": null,
   "id": "37387219-bb0e-42d7-9021-16648173611d",
   "metadata": {
    "tags": []
   },
   "outputs": [],
   "source": [
    "cell_abundances = adata.obs.groupby(['Subclass', 'Age']).size().unstack()\n",
    "cell_abundances\n",
    "# value_counts()"
   ]
  },
  {
   "cell_type": "code",
   "execution_count": null,
   "id": "c0610886-a3c7-4bca-8d7b-fbe09e08caac",
   "metadata": {
    "tags": []
   },
   "outputs": [],
   "source": [
    "num_cells_th = 100\n",
    "uniq_subclasses = cell_abundances[cell_abundances.min(axis=1) > num_cells_th].index.values.astype(str)\n",
    "uniq_subclasses"
   ]
  },
  {
   "cell_type": "code",
   "execution_count": null,
   "id": "888aa598-7961-4c02-b4a7-a83aba0f3a28",
   "metadata": {
    "tags": []
   },
   "outputs": [],
   "source": [
    "# adata.obs['cond'] = adata.obs['cond'].apply(lambda x: x.replace('NR', \"\"))\n",
    "\n",
    "# sample_labels = adata.obs['Sample'].values\n",
    "# time_labels = [s[:-1].replace('DR', '') for s in sample_labels]\n",
    "\n",
    "# adata.obs['sample'] = sample_labels #\n",
    "# adata.obs['time']   = time_labels\n",
    "\n",
    "# uniq_samples = natsorted(np.unique(sample_labels))\n",
    "# nr_samples = [s for s in uniq_samples if \"DR\" not in s]\n",
    "# dr_samples = [s for s in uniq_samples if \"DR\" in s]\n",
    "\n",
    "# uniq_conds = np.array(natsorted(np.unique(adata.obs['cond'].values)))\n",
    "\n",
    "# print(uniq_conds)"
   ]
  },
  {
   "cell_type": "code",
   "execution_count": null,
   "id": "306da436-c271-45c7-9c27-44cfdae3c65b",
   "metadata": {
    "tags": []
   },
   "outputs": [],
   "source": [
    "%%time\n",
    "\n",
    "for subclass in uniq_subclasses:\n",
    "    time = 'P21'\n",
    "    exp_conds = [time, time+'DR']\n",
    "    # subclass  = 'L2/3'\n",
    "    subclass_cure = subclass.replace('/', '')\n",
    "    offset = 1e-2\n",
    "    scale = 1e4\n",
    "    tag = 'v1'\n",
    "\n",
    "    adatasub = adata[(adata.obs['Age'].isin(exp_conds)) & (adata.obs['Subclass']==subclass)]\n",
    "\n",
    "    ### test\n",
    "    adatasub = adatasub[:,:20]\n",
    "    ### test\n",
    "\n",
    "    genes = adatasub.var.index.values \n",
    "\n",
    "    obs_fixed = 'Age'\n",
    "    obs_random = 'Sample'\n",
    "    obs = adatasub.obs[[obs_fixed, obs_random]].copy()\n",
    "    obs = obs.dropna()\n",
    "\n",
    "    adatasub = adatasub[obs.index]\n",
    "\n",
    "    output = os.path.join(outfigdir, f'NRDR_DEGs_LMM_{time}_{subclass_cure}_{tag}.csv')\n",
    "\n",
    "    # mat\n",
    "    mat = np.array(adatasub.X.todense())/adatasub.obs['total_counts'].values.reshape(-1,1)*scale\n",
    "\n",
    "    df_res = lmm.run_lmm(mat, genes, obs, obs_fixed, obs_random, output=output, offset=offset)"
   ]
  }
 ],
 "metadata": {
  "kernelspec": {
   "display_name": "Python 3 (ipykernel)",
   "language": "python",
   "name": "python3"
  },
  "language_info": {
   "codemirror_mode": {
    "name": "ipython",
    "version": 3
   },
   "file_extension": ".py",
   "mimetype": "text/x-python",
   "name": "python",
   "nbconvert_exporter": "python",
   "pygments_lexer": "ipython3",
   "version": "3.9.16"
  }
 },
 "nbformat": 4,
 "nbformat_minor": 5
}
