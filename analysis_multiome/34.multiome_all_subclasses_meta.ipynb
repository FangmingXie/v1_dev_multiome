{
 "cells": [
  {
   "cell_type": "code",
   "execution_count": null,
   "id": "bb214b6d-836a-49b8-93dd-a19f021215b7",
   "metadata": {
    "tags": []
   },
   "outputs": [],
   "source": [
    "import os\n",
    "import numpy as np\n",
    "import pandas as pd\n",
    "import scanpy as sc\n",
    "import anndata \n",
    "import seaborn as sns\n",
    "from scipy.stats import zscore\n",
    "import matplotlib.pyplot as plt\n",
    "import collections\n",
    "from natsort import natsorted\n",
    "\n",
    "from scipy import stats\n",
    "from scipy import sparse\n",
    "from sklearn.decomposition import PCA\n",
    "from umap import UMAP\n",
    "from statsmodels.stats.multitest import multipletests\n",
    "\n",
    "from matplotlib.colors import LinearSegmentedColormap\n",
    "\n",
    "from scroutines.config_plots import *\n",
    "from scroutines import powerplots # .config_plots import *\n",
    "from scroutines import pnmf\n",
    "from scroutines import basicu\n",
    "from scroutines.gene_modules import GeneModules  \n"
   ]
  },
  {
   "cell_type": "code",
   "execution_count": null,
   "id": "f45abc88-0cbc-4575-8035-9cb157c42bc2",
   "metadata": {},
   "outputs": [],
   "source": [
    "outfigdir = \"/u/home/f/f7xiesnm/project-zipursky/v1-bb/v1/figures/250409\"\n",
    "!mkdir -p $outfigdir"
   ]
  },
  {
   "cell_type": "markdown",
   "id": "ba1f61ee-ba83-4707-816d-37eb33a54b83",
   "metadata": {},
   "source": [
    "# load gene annotation and data"
   ]
  },
  {
   "cell_type": "code",
   "execution_count": null,
   "id": "e2945163-289c-48bf-9147-d5070e4deb8a",
   "metadata": {
    "tags": []
   },
   "outputs": [],
   "source": [
    "gene_modules = GeneModules()\n",
    "g, gs, ms = gene_modules.check_genes('Cdh13')\n",
    "print(\"\\t\".join(g))\n",
    "print(\"\\t\".join(gs))\n",
    "print(\"\\t\".join(ms))"
   ]
  },
  {
   "cell_type": "code",
   "execution_count": null,
   "id": "405a7ffc-7b93-49b8-a63a-9d7eda66b6d7",
   "metadata": {
    "tags": []
   },
   "outputs": [],
   "source": [
    "genes_alltime_hvgs = np.loadtxt('/u/home/f/f7xiesnm/v1_multiome/l23_alltime_hvgs_n4940.txt', dtype='str')\n",
    "genes_alltime_hvgs"
   ]
  },
  {
   "cell_type": "code",
   "execution_count": null,
   "id": "8542eec8-b8e1-4a35-9237-0d3c0043349b",
   "metadata": {},
   "outputs": [],
   "source": [
    "adata = anndata.read(\"/u/home/f/f7xiesnm/project-zipursky/v1-bb/v1/data/v1_multiome/superdupermegaRNA_hasraw.h5ad\", backed='r')\n",
    "adata"
   ]
  },
  {
   "cell_type": "code",
   "execution_count": null,
   "id": "53cf1b88-c5e8-4bb6-bd4e-6699453b37fa",
   "metadata": {
    "tags": []
   },
   "outputs": [],
   "source": [
    "meta = adata.obs.copy()\n",
    "meta = meta[meta['Study']=='2023 Multiome']\n",
    "meta"
   ]
  },
  {
   "cell_type": "code",
   "execution_count": null,
   "id": "c715643c-0748-414c-b477-4294cb85b5cc",
   "metadata": {
    "tags": []
   },
   "outputs": [],
   "source": [
    "sample_labels = meta['Sample'].values\n",
    "time_labels = [s[:-1].replace('DR', '') for s in sample_labels]\n",
    "\n",
    "meta['sample'] = sample_labels #\n",
    "meta['time']   = time_labels\n",
    "\n",
    "uniq_samples = natsorted(np.unique(sample_labels))\n",
    "nr_samples = [s for s in uniq_samples if \"DR\" not in s]\n",
    "dr_samples = [s for s in uniq_samples if \"DR\" in s]\n",
    "\n",
    "nr_conds = ['P6', 'P8', 'P10', 'P12', 'P14', 'P17', 'P21']\n",
    "dr_conds = ['P12DR', 'P14DR', 'P17DR', 'P21DR']\n",
    "\n",
    "# uniq_conds = np.array(natsorted(np.unique(meta['cond'].values)))\n",
    "# print(uniq_conds)"
   ]
  },
  {
   "cell_type": "code",
   "execution_count": null,
   "id": "974b713d-6fb4-4c45-a5d9-d1c66c843d7b",
   "metadata": {
    "tags": []
   },
   "outputs": [],
   "source": [
    "cell_counts = meta.groupby(['Age', 'Subclass']).size().unstack().drop(['P28', 'P28_dl', 'P28_dr', 'P38', 'P38_dr'])\n",
    "n_cells = cell_counts.sum(axis=1)\n",
    "cell_freq = cell_counts.divide(n_cells, axis=0)"
   ]
  },
  {
   "cell_type": "code",
   "execution_count": null,
   "id": "e522408f-1e6e-44bb-815a-aeb67c1a4e13",
   "metadata": {
    "tags": []
   },
   "outputs": [],
   "source": [
    "meta_exc = meta[meta['Class']=='Excitatory'].copy()\n",
    "cell_counts_exc = meta_exc.groupby(['Age', 'Subclass']).size().unstack().loc[nr_conds+dr_conds] # .drop(['P28', 'P28_dl', 'P28_dr', 'P38', 'P38_dr'])\n",
    "n_exc = cell_counts_exc.sum(axis=1)\n",
    "cell_freq_exc = cell_counts_exc.divide(n_exc, axis=0)\n",
    "cell_freq_exc['L2-4'] = cell_freq_exc[['L2/3', 'L4', 'L2/3/4']].sum(axis=1)\n",
    "cell_freq_exc"
   ]
  },
  {
   "cell_type": "code",
   "execution_count": null,
   "id": "e2a0deb8-e0cf-4511-96f7-9195b1beb1c6",
   "metadata": {
    "tags": []
   },
   "outputs": [],
   "source": [
    "cell_counts_exc_samp = meta_exc.groupby(['sample', 'Subclass']).size().unstack().loc[nr_samples+dr_samples]\n",
    "n_exc_samp = cell_counts_exc_samp.sum(axis=1)\n",
    "cell_freq_exc_samp = cell_counts_exc_samp.divide(n_exc_samp, axis=0)\n",
    "cell_freq_exc_samp['cond'] = [samp[:-1] for samp in cell_freq_exc_samp.index]\n",
    "cell_freq_exc_samp['L2-4'] = cell_freq_exc_samp[['L2/3', 'L4', 'L2/3/4']].sum(axis=1)\n",
    "cell_freq_exc_samp"
   ]
  },
  {
   "cell_type": "code",
   "execution_count": null,
   "id": "e4b129ed-fdb5-4023-87e1-c186c1f931bc",
   "metadata": {
    "tags": []
   },
   "outputs": [],
   "source": [
    "fig, ax  = plt.subplots(figsize=(6,4))\n",
    "sns.barplot(data=cell_freq_exc_samp, x='cond', y='L2/3', edgecolor='none', ax=ax, facecolor='gray', width=0.7)\n",
    "# sns.stripplot(data=cell_freq_exc_samp, x='cond', y='L2/3', color='k', ax=ax, s=7)\n",
    "sns.despine(ax=ax)\n",
    "ax.set_title(\"Abundance of L2/3 neurons\")\n",
    "ax.set_ylabel(\"Proportion of \\n excitatory neurons\")\n",
    "ax.set_xticklabels(ax.get_xticklabels(), rotation=90)\n",
    "plt.show()"
   ]
  },
  {
   "cell_type": "code",
   "execution_count": null,
   "id": "52a18fbd-0933-4b26-8e49-9946372ee555",
   "metadata": {
    "tags": []
   },
   "outputs": [],
   "source": [
    "fig, ax  = plt.subplots(figsize=(6,4))\n",
    "# for col in ['L2-4', 'L2/3', 'L2/3/4', 'L4', 'L5IT', 'L6IT', 'L5PT', 'L6CT', 'L5NP', 'L6b']:\n",
    "for col in ['L2/3', 'L4', 'L5IT', 'L6IT', 'L5PT', 'L6CT', 'L5NP', 'L6b']:\n",
    "    sns.stripplot(data=cell_freq_exc_samp, x='cond', y=col, s=7, ax=ax)\n",
    "    ax.plot(np.arange(11), cell_freq_exc[col], '-', label=col)\n",
    "\n",
    "sns.despine(ax=ax)\n",
    "ax.set_ylim(ymin=0)\n",
    "ax.legend(bbox_to_anchor=(1,1))\n",
    "ax.set_title(\"Abundance of subclass\")\n",
    "ax.set_ylabel(\"Proportion of exc neurons\")\n",
    "ax.set_xticklabels(ax.get_xticklabels(), rotation=90)\n",
    "output = os.path.join(outfigdir, 'cell_subclass_abundance.pdf')\n",
    "powerplots.savefig_autodate(fig, output)\n",
    "plt.show()"
   ]
  },
  {
   "cell_type": "code",
   "execution_count": null,
   "id": "d1a293ef-afa2-4db9-98ab-34fa4103cf76",
   "metadata": {
    "tags": []
   },
   "outputs": [],
   "source": [
    "cell_counts_class = meta.groupby(['Age', 'Class']).size().unstack().loc[nr_conds+dr_conds]\n",
    "n_class = cell_counts_class.sum(axis=1)\n",
    "cell_freq_class = cell_counts_class.divide(n_class, axis=0)\n",
    "cell_freq_class['cond'] = [samp for samp in cell_freq_class.index]\n",
    "\n",
    "cell_counts_class_samp = meta.groupby(['sample', 'Class']).size().unstack().loc[nr_samples+dr_samples]\n",
    "n_class_samp = cell_counts_class_samp.sum(axis=1)\n",
    "cell_freq_class_samp = cell_counts_class_samp.divide(n_class_samp, axis=0)\n",
    "cell_freq_class_samp['cond'] = [samp[:-1] for samp in cell_freq_class_samp.index]"
   ]
  },
  {
   "cell_type": "code",
   "execution_count": null,
   "id": "ee1e9e71-599b-47b3-ae36-e1f37b4e0d11",
   "metadata": {
    "tags": []
   },
   "outputs": [],
   "source": [
    "colors = ['k', 'C1', 'C2']\n",
    "fig, ax  = plt.subplots(figsize=(6,4))\n",
    "for i, col in enumerate(['Excitatory', 'Inhibitory', 'Non-neurons']):\n",
    "    color = colors[i]\n",
    "    sns.stripplot(data=cell_freq_class_samp, x='cond', y=col, color=color, s=7, ax=ax)\n",
    "    ax.plot(np.arange(11), cell_freq_class[col], '-', color=color, label=col)\n",
    "\n",
    "sns.despine(ax=ax)\n",
    "ax.legend(bbox_to_anchor=(1,1))\n",
    "ax.set_ylim(ymin=0)\n",
    "ax.set_title(\"Abundance of cell class\")\n",
    "ax.set_ylabel(\"Proportion of cells\")\n",
    "ax.set_xticklabels(ax.get_xticklabels(), rotation=90)\n",
    "output = os.path.join(outfigdir, 'cell_class_abundance.pdf')\n",
    "powerplots.savefig_autodate(fig, output)\n",
    "plt.show()"
   ]
  },
  {
   "cell_type": "code",
   "execution_count": null,
   "id": "9f7972f1-240e-4f1e-ae1b-632e9d94e74b",
   "metadata": {},
   "outputs": [],
   "source": []
  }
 ],
 "metadata": {
  "kernelspec": {
   "display_name": "Python 3 (ipykernel)",
   "language": "python",
   "name": "python3"
  },
  "language_info": {
   "codemirror_mode": {
    "name": "ipython",
    "version": 3
   },
   "file_extension": ".py",
   "mimetype": "text/x-python",
   "name": "python",
   "nbconvert_exporter": "python",
   "pygments_lexer": "ipython3",
   "version": "3.9.16"
  }
 },
 "nbformat": 4,
 "nbformat_minor": 5
}
