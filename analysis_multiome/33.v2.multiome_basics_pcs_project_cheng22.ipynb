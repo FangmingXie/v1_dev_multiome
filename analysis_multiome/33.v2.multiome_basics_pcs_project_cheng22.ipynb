{
 "cells": [
  {
   "cell_type": "code",
   "execution_count": null,
   "id": "bb214b6d-836a-49b8-93dd-a19f021215b7",
   "metadata": {
    "tags": []
   },
   "outputs": [],
   "source": [
    "import numpy as np\n",
    "import pandas as pd\n",
    "from scipy.stats import zscore\n",
    "from scipy import sparse \n",
    "from scipy.spatial import ConvexHull\n",
    "from sklearn.decomposition import PCA\n",
    "import matplotlib.pyplot as plt\n",
    "import seaborn as sns\n",
    "\n",
    "import scanpy as sc\n",
    "from py_pcha import PCHA"
   ]
  },
  {
   "cell_type": "code",
   "execution_count": null,
   "id": "f4954425-7161-4804-8f90-f12ea6b1979c",
   "metadata": {
    "tags": []
   },
   "outputs": [],
   "source": [
    "import os\n",
    "import numpy as np\n",
    "import pandas as pd\n",
    "import scanpy as sc\n",
    "import anndata \n",
    "import seaborn as sns\n",
    "from scipy.stats import zscore\n",
    "import matplotlib.pyplot as plt\n",
    "import collections\n",
    "from natsort import natsorted\n",
    "import re\n",
    "\n",
    "from scipy import stats\n",
    "from scipy import sparse\n",
    "from sklearn.decomposition import PCA\n",
    "from umap import UMAP\n",
    "\n",
    "from matplotlib.colors import LinearSegmentedColormap\n",
    "\n",
    "from scroutines.config_plots import *\n",
    "from scroutines import powerplots # .config_plots import *\n",
    "from scroutines import pnmf\n",
    "from scroutines import basicu\n",
    "from scroutines.gene_modules import GeneModules  \n"
   ]
  },
  {
   "cell_type": "code",
   "execution_count": null,
   "id": "2049f5e8-35f0-4169-836f-262a1b9cb447",
   "metadata": {
    "tags": []
   },
   "outputs": [],
   "source": [
    "from scipy import stats\n",
    "from matplotlib.ticker import MaxNLocator\n",
    "\n",
    "def plot(x, y, aspect_equal=False, density=False, hue='type'):\n",
    "    n = len(cases)\n",
    "    fig, axs = plt.subplots(1,n,figsize=(4*n,4*1), sharex=True, sharey=True)\n",
    "    for i, (ax, cond) in enumerate(zip(axs.flat, cases)):\n",
    "        ax.set_title(cond)\n",
    "        sns.scatterplot(data=res, \n",
    "                        x=x, y=y, \n",
    "                        c='lightgray',\n",
    "                        s=1, edgecolor='none', \n",
    "                        legend=False,\n",
    "                        ax=ax,\n",
    "                        rasterized=True,\n",
    "                       )\n",
    "        if hue == 'type':\n",
    "            sns.scatterplot(data=res[res['cond']==cond].sample(frac=1, replace=False),\n",
    "                            x=x, y=y, \n",
    "                            hue='type',\n",
    "                            hue_order=list(palette_types.keys()),\n",
    "                            palette=palette_types,\n",
    "                            s=3, edgecolor='none', \n",
    "                            legend=False,\n",
    "                            ax=ax,\n",
    "                            rasterized=True,\n",
    "                           )\n",
    "        else:\n",
    "            sns.scatterplot(data=res[res['cond']==cond].sample(frac=1, replace=False),\n",
    "                            x=x, y=y, \n",
    "                            hue='rep',\n",
    "                            # hue_order=list(palette_types.keys()),\n",
    "                            # palette=palette_types,\n",
    "                            s=3, edgecolor='none', \n",
    "                            legend=False,\n",
    "                            ax=ax,\n",
    "                            rasterized=True,\n",
    "                           )\n",
    "            \n",
    "        if density:\n",
    "            sns.histplot(data=res[res['cond']==cond],\n",
    "                            x=x, y=y, \n",
    "                            legend=False,\n",
    "                            ax=ax,\n",
    "                            rasterized=True,\n",
    "                           )\n",
    "        sns.despine(ax=ax)\n",
    "        ax.xaxis.set_major_locator(MaxNLocator(nbins=3))\n",
    "        ax.yaxis.set_major_locator(MaxNLocator(nbins=3))\n",
    "        if aspect_equal:\n",
    "            ax.set_aspect('equal')\n",
    "        if i > 0:\n",
    "            ax.set_xlabel('')\n",
    "            ax.set_ylabel('')\n",
    "    return fig\n",
    "    # plt.show()\n",
    "    \n",
    "def plot2(x, y, hue=None, aspect_equal=False, s=10, vmin=-2.5, vmax=2.5, vminp=None, vmaxp=None, cmap='coolwarm'):\n",
    "    n = len(cases)\n",
    "    fig, axs = plt.subplots(1,n,figsize=(4*n,4*1), sharex=True, sharey=True)\n",
    "    fig.suptitle(hue, x=0, ha='left')\n",
    "    for i, (ax, cond) in enumerate(zip(axs.flat, cases)):\n",
    "        ax.set_title(cond)\n",
    "        show = res[res['cond']==cond]\n",
    "        \n",
    "        if vminp is not None:\n",
    "            vmin = np.percentile(show[hue], vminp)\n",
    "        if vmaxp is not None:\n",
    "            vmax = np.percentile(show[hue], vmaxp)\n",
    "            \n",
    "        if hue:\n",
    "            # order = np.argsort(show[hue].values)\n",
    "            ax.scatter(\n",
    "                       # show[x].iloc[order], show[y].iloc[order], c=show[hue].iloc[order], \n",
    "                       show[x], show[y], c=show[hue], \n",
    "                       cmap=cmap,\n",
    "                       vmin=vmin, vmax=vmax,\n",
    "                       s=s, \n",
    "                       edgecolor='none', \n",
    "                       rasterized=True,\n",
    "                      )\n",
    "        else:\n",
    "            r, p = stats.spearmanr(show[x], show[y])\n",
    "            ax.scatter(show[x], show[y],  \n",
    "                       s=s, \n",
    "                       edgecolor='none', \n",
    "                       rasterized=True,\n",
    "                      )\n",
    "            ax.set_title(f'{cond}\\n r={r:.2f}')\n",
    "        sns.despine(ax=ax)\n",
    "        ax.xaxis.set_major_locator(MaxNLocator(nbins=3))\n",
    "        ax.yaxis.set_major_locator(MaxNLocator(nbins=3))\n",
    "        if aspect_equal:\n",
    "            ax.set_aspect('equal')\n",
    "        if i == 0: \n",
    "            ax.set_xlabel(x)\n",
    "            ax.set_ylabel(y)\n",
    "        else:\n",
    "            ax.set_xlabel('')\n",
    "            ax.set_ylabel('')\n",
    "        ax.grid(False)\n",
    "        ax.set_xticks([])\n",
    "        ax.set_yticks([])\n",
    "    fig.tight_layout()\n",
    "    \n",
    "    return fig\n",
    "    # plt.show()\n",
    "    \n",
    "def plot3(x, y, hue, aspect_equal=False, s=10, vmin=-2.5, vmax=2.5, vminp=None, vmaxp=None, cmap='coolwarm'):\n",
    "    n = len(cases_nr_short)\n",
    "    fig, axs = plt.subplots(1,n,figsize=(4*n,4*1), sharex=True, sharey=True)\n",
    "    fig.suptitle(hue, x=0, ha='left')\n",
    "    \n",
    "    showall = res[res['cond'].isin(cases_nr_short)]\n",
    "    if vminp is not None:\n",
    "        vmin = np.percentile(showall[hue], vminp)\n",
    "    if vmaxp is not None:\n",
    "        vmax = np.percentile(showall[hue], vmaxp)\n",
    "            \n",
    "    for i, (ax, cond) in enumerate(zip(axs.flat, cases_nr_short)):\n",
    "        ax.set_title(cond)\n",
    "        show = res[res['cond']==cond]\n",
    "        \n",
    "        ax.scatter(\n",
    "                   show[x], show[y], c=show[hue], \n",
    "                   cmap=cmap,\n",
    "                   vmin=vmin, vmax=vmax,\n",
    "                   s=s, \n",
    "                   edgecolor='none', \n",
    "                   rasterized=True,\n",
    "                  )\n",
    "            \n",
    "        sns.despine(ax=ax)\n",
    "        ax.xaxis.set_major_locator(MaxNLocator(nbins=3))\n",
    "        ax.yaxis.set_major_locator(MaxNLocator(nbins=3))\n",
    "        if aspect_equal:\n",
    "            ax.set_aspect('equal')\n",
    "        if i == 0: \n",
    "            ax.set_xlabel(x)\n",
    "            ax.set_ylabel(y)\n",
    "        else:\n",
    "            ax.set_xlabel('')\n",
    "            ax.set_ylabel('')\n",
    "        ax.grid(False)\n",
    "        ax.set_xticks([])\n",
    "        ax.set_yticks([])\n",
    "    fig.tight_layout()\n",
    "    \n",
    "    return fig\n",
    "    # plt.show()"
   ]
  },
  {
   "cell_type": "code",
   "execution_count": null,
   "id": "8f228de5",
   "metadata": {
    "tags": []
   },
   "outputs": [],
   "source": [
    "import numpy as np\n",
    "import pandas as pd\n",
    "from scipy.stats import zscore\n",
    "from scipy import sparse \n",
    "from scipy.spatial import ConvexHull\n",
    "from sklearn.decomposition import PCA\n",
    "import matplotlib.pyplot as plt\n",
    "import seaborn as sns\n",
    "\n",
    "import scanpy as sc\n",
    "from py_pcha import PCHA\n",
    "\n",
    "from scipy.stats import gaussian_kde"
   ]
  },
  {
   "cell_type": "code",
   "execution_count": null,
   "id": "a769b1fc-3263-4b6d-9ee4-669ddf46a427",
   "metadata": {
    "tags": []
   },
   "outputs": [],
   "source": [
    "def norm(x, depths):\n",
    "    \"\"\"\n",
    "    Arguments: \n",
    "        x - cell by gene count matrix\n",
    "        depths - sequencing depth per cell\n",
    "        \n",
    "    Output:\n",
    "        xn - normalized count matrix\n",
    "\n",
    "    This function takes raw counts as the input, and does the following steps sequencially.\n",
    "         1. size normalization (CP10k) \n",
    "         2. log1p normalization (base 2 - log2(1+CP10k))\n",
    "         3. zscore per gene  \n",
    "    \"\"\"\n",
    "\n",
    "    xn = x/depths.reshape(-1,1)*1e4\n",
    "    xn = np.log2(1+xn)\n",
    "    xn = zscore(xn, axis=0)\n",
    "\n",
    "    if np.any(np.isnan(xn)):\n",
    "        print('Warning: the normalized matrix contains nan values. Check input.')\n",
    "        xn = np.nan_to_num(xn, 0)\n",
    "\n",
    "    return xn"
   ]
  },
  {
   "cell_type": "code",
   "execution_count": null,
   "id": "cd651632-9630-47f9-8fd6-0109d9a1a41d",
   "metadata": {
    "tags": []
   },
   "outputs": [],
   "source": [
    "def proj(x_norm, ndim, method='PCA'):\n",
    "    \"\"\"\n",
    "    Arguments: \n",
    "        x_norm - normalized cell by gene feature matrix\n",
    "        ndim   - number of dimensions\n",
    "\n",
    "    Output:\n",
    "        x_proj - a low-dimensional representation of `x_norm` \n",
    "\n",
    "    Here we only implemented PCA - a common projection method widely used, including by\n",
    "    Adler et al. 2019 and Xie et al. 2024 for the Achetypal Analysis of scRNA-seq data.\n",
    "\n",
    "    In principle, one can also choose to use other projection methods as needed.\n",
    "    \"\"\"\n",
    "\n",
    "    if method == 'PCA':\n",
    "        x_proj = PCA(n_components=ndim).fit_transform(x_norm)\n",
    "    else:\n",
    "        raise ValueError('methods other than PCA are not implemented...')\n",
    "\n",
    "    return x_proj\n"
   ]
  },
  {
   "cell_type": "code",
   "execution_count": null,
   "id": "517be85e-34d2-4bf1-8dc0-0432c091621e",
   "metadata": {
    "tags": []
   },
   "outputs": [],
   "source": [
    "def pcha(X, noc=3, delta=0, **kwargs):\n",
    "    \"\"\"\n",
    "    \"\"\"\n",
    "    XC, S, C, SSE, varexpl = PCHA(X, noc=noc, delta=delta, **kwargs)\n",
    "    XC = np.array(XC)\n",
    "    XC = XC[:,np.argsort(XC[0])] # assign an order according to x-axis \n",
    "    return XC "
   ]
  },
  {
   "cell_type": "code",
   "execution_count": null,
   "id": "ffcd1a0b-f922-41c1-afe6-bbe4d4bbc165",
   "metadata": {
    "tags": []
   },
   "outputs": [],
   "source": [
    "def downsamp(x, which='cell', p=0.8, seed=None):\n",
    "    \"\"\"\n",
    "    Arguments:\n",
    "        x - cell by gene matrix\n",
    "        which - downsample cells (rows) or genes (columns)\n",
    "        p - fraction of cells/genes to keep - should be a value between ~ [0,1]\n",
    "    \"\"\"\n",
    "    n0, n1 = x.shape\n",
    "    \n",
    "    rng = np.random.default_rng(seed=seed)\n",
    "    \n",
    "    if which in [0, 'cell', 'row']:\n",
    "        return x[rng.random(n0)<p, :]\n",
    "    elif which in [1, 'gene', 'col', 'column']:\n",
    "        return x[:, rng.random(n1)<p]\n",
    "    else:\n",
    "        raise ValueError('choose from cell or gene')"
   ]
  },
  {
   "cell_type": "code",
   "execution_count": null,
   "id": "dfcbdf89-a23b-4cdf-9916-f3fbf5f8f265",
   "metadata": {
    "tags": []
   },
   "outputs": [],
   "source": [
    "def shuffle_rows_per_col(x, seed=None):\n",
    "    \"\"\"\n",
    "    Arguments:\n",
    "       x - cell by gene matrix\n",
    "       seed - a random seed for reproducibility\n",
    "    \n",
    "    shuffles entries across rows (cells) independently for each col (gene)\n",
    "    \"\"\"\n",
    "    rng = np.random.default_rng(seed=seed)\n",
    "    x_shuff = rng.permuted(x, axis=0)\n",
    "    return x_shuff"
   ]
  },
  {
   "cell_type": "code",
   "execution_count": null,
   "id": "bd93c7c7-4d19-4da5-bc1a-a4b4419bc63b",
   "metadata": {},
   "outputs": [],
   "source": [
    "def plot_archetype(ax, aa, fmt='--o', color='k', **kwargs):\n",
    "    \"\"\"\n",
    "    \"\"\"\n",
    "    ax.plot(aa[0].tolist()+[aa[0,0]], aa[1].tolist()+[aa[1,0]], fmt, color=color, **kwargs)"
   ]
  },
  {
   "cell_type": "code",
   "execution_count": null,
   "id": "093e1be5-6411-4908-a79a-29c7cfc337d7",
   "metadata": {
    "tags": []
   },
   "outputs": [],
   "source": [
    "def get_t_ratio(xp, aa):\n",
    "    \"\"\"\n",
    "    Arguments:\n",
    "     xp -- projected matrix (cell by 2)\n",
    "     aa -- inferred archetypes (2 by noc)\n",
    "     note that this function only works for 2-dimensional space only\n",
    "     \n",
    "    Return: \n",
    "     t-ratio - ratio of areas (convex hull vs PCH)\n",
    "     \n",
    "    \"\"\"\n",
    "    assert xp.shape[1] == aa.shape[0] == 2\n",
    "    \n",
    "    ch_area  = ConvexHull(xp).volume\n",
    "   \n",
    "    x = aa[0]\n",
    "    y = aa[1]\n",
    "    pch_area = 0.5*np.abs(np.dot(x,np.roll(y,1))-np.dot(y,np.roll(x,1)))\n",
    "\n",
    "    return ch_area/pch_area "
   ]
  },
  {
   "cell_type": "code",
   "execution_count": null,
   "id": "1984734f-c891-4feb-a210-0073ae0897e7",
   "metadata": {
    "tags": []
   },
   "outputs": [],
   "source": [
    "class SingleCellArchetype():\n",
    "    \"\"\"\n",
    "    \"\"\"\n",
    "    def __init__(self, x, depths, types):\n",
    "        \"\"\"\n",
    "        Arguments: \n",
    "            x - cell by gene count matrix\n",
    "            depths - sequencing depth per cell\n",
    "            types  - cell type labels per cell\n",
    "        \n",
    "        Initiate the SingleCellArchetype object\n",
    "\n",
    "        \"\"\"\n",
    "        \n",
    "        # input\n",
    "        self.x = x\n",
    "        self.depths = depths\n",
    "        self.types = types\n",
    "        \n",
    "        # cell type label\n",
    "        types_idx, types_lbl = pd.factorize(types, sort=True)\n",
    "        \n",
    "        self.types_idx = types_idx\n",
    "        self.types_lbl = types_lbl \n",
    "        \n",
    "        # normalize\n",
    "        self.xn = norm(self.x, self.depths)\n",
    "        \n",
    "        # feature matrix \n",
    "        self.xf = None \n",
    "        return \n",
    "        \n",
    "    def setup_feature_matrix(self, method='data'):\n",
    "        \"\"\"\n",
    "        \"\"\"\n",
    "        if method == 'data': \n",
    "            self.xf = self.xn\n",
    "            print('use data')\n",
    "            return  \n",
    "        \n",
    "        elif method == 'gshuff':\n",
    "            # shuffle gene expression globally across all cells\n",
    "            self.xf = shuffle_rows_per_col(self.xn)\n",
    "            print('use shuffled data')\n",
    "            return\n",
    "            \n",
    "        elif method == 'tshuff':\n",
    "            # shuff each gene across cells independently - internally for each type A,B,C\n",
    "            xn = self.xn\n",
    "            xn_tshuff = xn.copy()\n",
    "            \n",
    "            types_lbl = self.types_lbl\n",
    "            types_idx = self.types_idx\n",
    "            for i in range(len(types_lbl)):\n",
    "                xn_tshuff[types_idx==i] = shuffle_rows_per_col(xn[types_idx==i])\n",
    "            self.xf = xn_tshuff\n",
    "            print('use per-type shuffled data')\n",
    "            return\n",
    "        else:\n",
    "            raise ValueError('choose from (data, gshuff, tshuff)')\n",
    "    \n",
    "    def proj_and_pcha(self, ndim, noc, **kwargs):\n",
    "        \"\"\"\n",
    "        \"\"\"\n",
    "        xp = proj(self.xf, ndim)\n",
    "        aa = pcha(xp.T, noc=noc, **kwargs)\n",
    "        \n",
    "        self.xp = xp\n",
    "        self.aa = aa\n",
    "        return (xp, aa)\n",
    "        \n",
    "    def downsamp_proj_pcha(self, ndim, noc, nrepeats=10, which='cell', p=0.8, **kwargs): \n",
    "        \"\"\"\n",
    "        \"\"\"\n",
    "        aa_dsamps = []\n",
    "        for i in range(nrepeats):\n",
    "            xn_dsamp = downsamp(self.xf, which=which, p=p)\n",
    "            xp_dsamp = proj(xn_dsamp, ndim)\n",
    "            aa_dsamp = pcha(xp_dsamp.T, noc=noc, **kwargs)\n",
    "            aa_dsamps.append(aa_dsamp)\n",
    "            \n",
    "        return aa_dsamps\n",
    "    \n",
    "    def t_ratio_test(self, ndim, noc, nrepeats=10, **kwargs): \n",
    "        \"\"\"\n",
    "        this only work for 2-dimensional space for now\n",
    "        \"\"\"\n",
    "        assert ndim == 2\n",
    "        \n",
    "        self.setup_feature_matrix(method='data')\n",
    "        xp, aa = self.proj_and_pcha(ndim, noc)\n",
    "        t_ratio = get_t_ratio(xp, aa)\n",
    "        \n",
    "        t_ratios_shuff = []\n",
    "        for i in range(nrepeats):\n",
    "            self.setup_feature_matrix(method='gshuff')\n",
    "            xp_shuff, aa_shuff = self.proj_and_pcha(ndim, noc)\n",
    "            t_ratio_shuff = get_t_ratio(xp_shuff, aa_shuff)\n",
    "            t_ratios_shuff.append(t_ratio_shuff)\n",
    "            \n",
    "        pvalue = (np.sum(t_ratio > t_ratios_shuff)+1)/nrepeats\n",
    "        \n",
    "        return t_ratio, t_ratios_shuff, pvalue"
   ]
  },
  {
   "cell_type": "code",
   "execution_count": null,
   "id": "f45abc88-0cbc-4575-8035-9cb157c42bc2",
   "metadata": {},
   "outputs": [],
   "source": [
    "outdirfig = \"/u/home/f/f7xiesnm/project-zipursky/v1-bb/v1/figures/250407\"\n",
    "!mkdir -p $outdirfig"
   ]
  },
  {
   "cell_type": "markdown",
   "id": "ba1f61ee-ba83-4707-816d-37eb33a54b83",
   "metadata": {},
   "source": [
    "# load gene annotation"
   ]
  },
  {
   "cell_type": "code",
   "execution_count": null,
   "id": "516a31fc-2fa7-4aac-a175-0b1620a671c6",
   "metadata": {
    "tags": []
   },
   "outputs": [],
   "source": [
    "gene_modules = GeneModules()\n",
    "anno, color, gene_styled = gene_modules.check_genes('Cdh13')\n",
    "print(\"\\t\".join(anno))\n",
    "print(\"\\t\".join(color))\n",
    "print(\"\\t\".join(gene_styled))"
   ]
  },
  {
   "cell_type": "code",
   "execution_count": null,
   "id": "fb72ade4-5ddd-4d8d-9d66-847375e16845",
   "metadata": {},
   "outputs": [],
   "source": [
    "# use those 286 genes\n",
    "df = pd.read_csv(\"../../data/cheng21_cell_scrna/res/L23-ABC-genes-n288-n286unq-annot.csv\")\n",
    "genes_l23 = df['gene'].astype(str).values\n",
    "genes_l23a = df[df['P17on']=='A']['gene'].astype(str).values\n",
    "genes_l23b = df[df['P17on']=='B']['gene'].astype(str).values\n",
    "genes_l23c = df[df['P17on']=='C']['gene'].astype(str).values\n",
    "\n",
    "print(genes_l23a.shape, genes_l23b.shape, genes_l23c.shape)\n",
    "genes_grp = df['P17on'].astype(str).values\n",
    "assert len(genes_l23) == len(np.unique(genes_l23))\n",
    "\n",
    "genes_l23.shape"
   ]
  },
  {
   "cell_type": "code",
   "execution_count": null,
   "id": "86150786-4c20-40a5-8e56-fa1b7e5e688c",
   "metadata": {
    "tags": []
   },
   "outputs": [],
   "source": [
    "scores_abc = pd.read_csv(\"/u/home/f/f7xiesnm/project-zipursky/v1-bb/v1/data/v1_multiome/scores_l23abc.csv\", index_col=0)\n",
    "scores_abc"
   ]
  },
  {
   "cell_type": "markdown",
   "id": "3b3e075a-5d66-4efb-8b6c-dd37a3ac26eb",
   "metadata": {},
   "source": [
    "# load data "
   ]
  },
  {
   "cell_type": "code",
   "execution_count": null,
   "id": "8542eec8-b8e1-4a35-9237-0d3c0043349b",
   "metadata": {},
   "outputs": [],
   "source": [
    "# f_anndata_in  = \"../../data/v1_multiome/superdupermegaRNA_hasraw_multiome_l23.h5ad\"# _multiome_l23.h5ad\"#  L23_allmultiome_raw.h5ad\"\n",
    "f_anndata_in  = \"../../data/v1_multiome/L23_allmultiome_raw.h5ad\"\n",
    "adata = anndata.read(f_anndata_in)\n",
    "adata"
   ]
  },
  {
   "cell_type": "code",
   "execution_count": null,
   "id": "61cad3fd-ae14-4575-b00e-1b170ce5d795",
   "metadata": {},
   "outputs": [],
   "source": [
    "f_anndata_in2  = \"../../data/v1_multiome/superdupermegaRNA_hasraw_cheng22_l23.h5ad\"\n",
    "adata2 = sc.read(f_anndata_in2) # , backed='r')\n",
    "adata2.X = adata2.raw.X\n",
    "adata2"
   ]
  },
  {
   "cell_type": "code",
   "execution_count": null,
   "id": "c715643c-0748-414c-b477-4294cb85b5cc",
   "metadata": {
    "tags": []
   },
   "outputs": [],
   "source": [
    "sample_labels = [\"-\".join(cell.split(' ')[0].split('-')[2:]).replace('-2023', '') for cell in adata.obs.index]\n",
    "time_labels = [s[:-1].replace('DR', '') for s in sample_labels]\n",
    "\n",
    "adata.obs['n_counts'] = adata.obs['nCount_RNA']\n",
    "adata.obs['sample'] = sample_labels\n",
    "adata.obs['time']   = time_labels\n",
    "\n",
    "uniq_samples = natsorted(np.unique(sample_labels))\n",
    "uniq_times = natsorted(np.unique(time_labels))\n",
    "\n",
    "nr_samples = [s for s in uniq_samples if \"DR\" not in s]\n",
    "dr_samples = [s for s in uniq_samples if \"DR\" in s]\n",
    "print(uniq_times)\n",
    "print(nr_samples)\n",
    "print(dr_samples)\n",
    "\n",
    "# adata.obs['sample'] = sample_labels"
   ]
  },
  {
   "cell_type": "code",
   "execution_count": null,
   "id": "4d9ae16c-9107-4acd-8405-fbcd84bd8e0d",
   "metadata": {
    "tags": []
   },
   "outputs": [],
   "source": [
    "# select samples\n",
    "adata.obs['cond'] = adata.obs['sample'].apply(lambda x: x[:-1]) # .unique()\n",
    "\n",
    "# remove mitocondria genes\n",
    "adata = adata[:,~adata.var['features'].str.contains(r'^mt-')]\n",
    "adata = adata[:,~adata.var['features'].str.contains(r'Xist')]\n",
    "\n",
    "# select\n",
    "adata.obs['sample'].unique(), adata.obs['cond'].unique()"
   ]
  },
  {
   "cell_type": "code",
   "execution_count": null,
   "id": "4909ea27-eafc-4571-aee4-afb718a5a171",
   "metadata": {
    "tags": []
   },
   "outputs": [],
   "source": [
    "adata.obs['Type'].unique()"
   ]
  },
  {
   "cell_type": "code",
   "execution_count": null,
   "id": "42fe468f-c480-49fc-b5c0-300e2620723e",
   "metadata": {
    "tags": []
   },
   "outputs": [],
   "source": [
    "adata"
   ]
  },
  {
   "cell_type": "code",
   "execution_count": null,
   "id": "1fadd441-11aa-49ab-abcc-d8d5e9cf47ea",
   "metadata": {
    "tags": []
   },
   "outputs": [],
   "source": [
    "# filter genes\n",
    "cond = np.ravel((adata.X>0).sum(axis=0)) > 10 # expressed in more than 10 cells\n",
    "adata = adata[:,cond]\n",
    "genes = adata.var.index.values\n",
    "\n",
    "# counts\n",
    "x = adata.X\n",
    "cov = adata.obs['n_counts'].values\n",
    "\n",
    "# CP10k\n",
    "# xn = x/cov.reshape(x.shape[0], -1)*1e4\n",
    "xn = (sparse.diags(1/cov).dot(x))*1e4\n",
    "\n",
    "# log2(CP10k+1)\n",
    "# xln = xn.copy()\n",
    "# xln.data = np.log2(xln.data+1)"
   ]
  },
  {
   "cell_type": "code",
   "execution_count": null,
   "id": "f9b5d1e3-35cb-43e3-aa37-b6f82c89f71c",
   "metadata": {
    "tags": []
   },
   "outputs": [],
   "source": [
    "# adata.layers[    'norm'] = np.array(xn.todense())\n",
    "\n",
    "log_xn = np.log2(1+np.array(xn.todense()))\n",
    "adata.layers[ 'lognorm'] = log_xn \n",
    "adata.layers['zlognorm'] = zscore(log_xn, axis=0)"
   ]
  },
  {
   "cell_type": "code",
   "execution_count": null,
   "id": "ee38a818-ddf9-4cac-9cd5-995cc8c92699",
   "metadata": {},
   "outputs": [],
   "source": [
    "# select HVGs with mean and var\n",
    "nbin = 20\n",
    "qth = 0.3\n",
    "\n",
    "# min\n",
    "gm = np.ravel(xn.mean(axis=0))\n",
    "\n",
    "# var\n",
    "tmp = xn.copy()\n",
    "tmp.data = np.power(tmp.data, 2)\n",
    "gv = np.ravel(tmp.mean(axis=0))-gm**2\n",
    "\n",
    "# cut \n",
    "lbl = pd.qcut(gm, nbin, labels=np.arange(nbin))\n",
    "gres = pd.DataFrame()\n",
    "gres['name'] = genes\n",
    "gres['lbl'] = lbl\n",
    "gres['mean'] = gm\n",
    "gres['var'] = gv\n",
    "gres['ratio']= gv/gm\n",
    "\n",
    "# select\n",
    "gres_sel = gres.groupby('lbl')['ratio'].nlargest(int(qth*(len(gm)/nbin))) #.reset_index()\n",
    "gsel_idx = np.sort(gres_sel.index.get_level_values(1).values)\n",
    "assert np.all(gsel_idx != -1)"
   ]
  },
  {
   "cell_type": "code",
   "execution_count": null,
   "id": "b8db6d89-2c84-4360-85c3-d3f400af66b6",
   "metadata": {
    "tags": []
   },
   "outputs": [],
   "source": [
    "adata_hvg = adata[:,gsel_idx]\n",
    "print(adata_hvg.shape)\n",
    "genes_hvg = adata_hvg.var.index.values\n",
    "\n",
    "adata_hvg_p6 = adata_hvg[adata_hvg.obs['cond'].isin(['P6'])]\n",
    "adata_hvg_early = adata_hvg[adata_hvg.obs['cond'].isin(['P8'])]\n",
    "adata_hvg_later = adata_hvg[adata_hvg.obs['cond'].isin(['P21'])]"
   ]
  },
  {
   "cell_type": "code",
   "execution_count": null,
   "id": "d1a96bfa-64ac-4fba-a0a8-47731a444e22",
   "metadata": {
    "tags": []
   },
   "outputs": [],
   "source": [
    "genes_hvg # to File\n",
    "# np.savetxt('/u/home/f/f7xiesnm/v1_multiome/l23_alltime_hvgs_n4940.txt', genes_hvg, fmt='%s')"
   ]
  },
  {
   "cell_type": "code",
   "execution_count": null,
   "id": "82a4e37c-bd1b-4d1f-b436-e3c0f171f84d",
   "metadata": {
    "tags": []
   },
   "outputs": [],
   "source": [
    "x.data"
   ]
  },
  {
   "cell_type": "code",
   "execution_count": null,
   "id": "3323c881-c414-40f5-bc2f-bace97416311",
   "metadata": {
    "tags": []
   },
   "outputs": [],
   "source": [
    "adata2_hvg = adata2[:,adata.var.index][:,gsel_idx] #, adata\n",
    "\n",
    "# counts\n",
    "x = adata2_hvg.X\n",
    "cov = adata2_hvg.obs['n_counts'].values\n",
    "\n",
    "# CP10k\n",
    "xn = (sparse.diags(1/cov).dot(x))*1e4\n",
    "\n",
    "log_xn = np.log2(1+np.array(xn.todense()))\n",
    "adata2_hvg.layers[ 'lognorm'] = log_xn "
   ]
  },
  {
   "cell_type": "code",
   "execution_count": null,
   "id": "920dfd49-317c-4e73-ad8c-fd0bfdb0dfc2",
   "metadata": {},
   "outputs": [],
   "source": []
  },
  {
   "cell_type": "code",
   "execution_count": null,
   "id": "80827fe6-5dbf-4012-a5c9-a542912b8e55",
   "metadata": {},
   "outputs": [],
   "source": []
  },
  {
   "cell_type": "code",
   "execution_count": null,
   "id": "99543537-87f4-4446-bb4e-fcb2a58022ad",
   "metadata": {},
   "outputs": [],
   "source": []
  },
  {
   "cell_type": "code",
   "execution_count": null,
   "id": "3c00436a-3ab3-4a9d-aac9-3bc1e1525f65",
   "metadata": {
    "tags": []
   },
   "outputs": [],
   "source": [
    "# learn on parts, project for everything\n",
    "pca_p6 = PCA(n_components=5)\n",
    "pca_p6.fit(adata_hvg_p6.layers['lognorm'][...]) #\n",
    "pcs_p6 = pca_p6.transform(adata_hvg.layers['lognorm'][...])\n",
    "\n",
    "pca_early = PCA(n_components=5)\n",
    "pca_early.fit(adata_hvg_early.layers['lognorm'][...]) #\n",
    "pcs_early = pca_early.transform(adata_hvg.layers['lognorm'][...])\n",
    "\n",
    "pcs_early[:,0] = -pcs_early[:,0] # flip PC1\n",
    "# pcs_early[:,2] = -pcs_early[:,2] # flip PC3\n",
    "\n",
    "pca_later = PCA(n_components=5)\n",
    "pca_later.fit(adata_hvg_later.layers['lognorm'][...]) #\n",
    "pcs_later = pca_later.transform(adata_hvg.layers['lognorm'][...])\n",
    "\n",
    "pcs_later[:,0] = -pcs_later[:,0] # flip PC1\n",
    "pcs_later[:,1] = -pcs_later[:,1] # flip PC2"
   ]
  },
  {
   "cell_type": "code",
   "execution_count": null,
   "id": "bd2d2663-d896-4ce9-8fce-27214aba6f43",
   "metadata": {
    "tags": []
   },
   "outputs": [],
   "source": [
    "pcs_later2 = pca_later.transform(adata2_hvg.layers['lognorm'][...])\n",
    "\n",
    "pcs_later2[:,0] = -pcs_later2[:,0] # flip PC1\n",
    "pcs_later2[:,1] = -pcs_later2[:,1] # flip PC2"
   ]
  },
  {
   "cell_type": "code",
   "execution_count": null,
   "id": "0a051129-b302-42ed-9d4a-445fa39d1bf7",
   "metadata": {
    "tags": []
   },
   "outputs": [],
   "source": [
    "vt = pca_early.components_\n",
    "topgenes_early = genes_hvg[np.flip(np.argsort(np.abs(vt), axis=1), axis=1)]\n",
    "print(topgenes_early[:,:8])\n",
    "\n",
    "vt = pca_later.components_\n",
    "topgenes_later = genes_hvg[np.flip(np.argsort(np.abs(vt), axis=1), axis=1)]\n",
    "print(topgenes_later[:,:8])"
   ]
  },
  {
   "cell_type": "code",
   "execution_count": null,
   "id": "ad6af698-718a-4ecc-804f-244998875592",
   "metadata": {},
   "outputs": [],
   "source": [
    "adata.obsm['pca_p6']    = pcs_p6\n",
    "adata.obsm['pca_early'] = pcs_early\n",
    "adata.obsm['pca_later'] = pcs_later"
   ]
  },
  {
   "cell_type": "markdown",
   "id": "1c80dd9e-8d0b-4822-8943-5f938ab39c1e",
   "metadata": {},
   "source": [
    "# set up for plotting"
   ]
  },
  {
   "cell_type": "code",
   "execution_count": null,
   "id": "2710199e-e053-41b4-9838-dc1f261e1b22",
   "metadata": {
    "tags": []
   },
   "outputs": [],
   "source": [
    "res0 = pd.DataFrame(adata.layers['zlognorm'][...], columns=genes)\n",
    "res0['cond'] = adata.obs['cond'].values\n",
    "res0['samp'] = adata.obs['sample'].values\n",
    "# res0['rep']  = res0['samp'].apply(lambda x: x[-1])\n",
    "\n",
    "res6 = pd.DataFrame(pcs_p6, columns=np.char.add(\"pcs_p6\", ((1+np.arange(pcs_p6.shape[1])).astype(str))))\n",
    "\n",
    "res1 = pd.DataFrame(pcs_early, columns=np.char.add(\"pcs_early\", ((1+np.arange(pcs_early.shape[1])).astype(str))))\n",
    "res2 = pd.DataFrame(pcs_later, columns=np.char.add(\"pcs_later\", ((1+np.arange(pcs_later.shape[1])).astype(str))))\n",
    "res5 = scores_abc.reindex(adata.obs.index.values).reset_index().drop('cond', axis=1)\n",
    "res = pd.concat([res0, res1, res2, res5, res6], axis=1)\n",
    "\n",
    "# res4 = pd.DataFrame(ucs_all, columns=np.char.add(\"ucs_all\", ((1+np.arange(ucs_all.shape[1])).astype(str))))\n",
    "# res = pd.concat([res0, res1, res2, res3, res4], axis=1)\n",
    "\n",
    "res['scores_c-a'] = res['scores_c'] - res['scores_a']"
   ]
  },
  {
   "cell_type": "code",
   "execution_count": null,
   "id": "c246c61b-ff64-4dba-a33d-3be22f58556c",
   "metadata": {
    "tags": []
   },
   "outputs": [],
   "source": [
    "resb0 = pd.DataFrame() # adata2.layers['zlognorm'][...], columns=genes)\n",
    "resb0['cond'] = adata2.obs['Age'].values\n",
    "# resb0['samp'] = adata2.obs['sample'].values\n",
    "\n",
    "resb2 = pd.DataFrame(pcs_later2, columns=np.char.add(\"pcs_later\", ((1+np.arange(pcs_later2.shape[1])).astype(str))))\n",
    "\n",
    "resb = pd.concat([resb0, resb2,], axis=1)\n",
    "resb.shape\n",
    "\n"
   ]
  },
  {
   "cell_type": "code",
   "execution_count": null,
   "id": "f2012956-7843-4a77-bbb1-9854304fe1e0",
   "metadata": {
    "tags": []
   },
   "outputs": [],
   "source": [
    "resb"
   ]
  },
  {
   "cell_type": "code",
   "execution_count": null,
   "id": "2e587c3a-b677-4c01-b57a-ec82e50db086",
   "metadata": {},
   "outputs": [],
   "source": [
    "sns.scatterplot(data=resb[resb['cond']=='P21'], x='pcs_later1', y='pcs_later2', s=3)\n",
    "sns.scatterplot(data=resb[resb['cond']=='P28'], x='pcs_later1', y='pcs_later2', s=3)\n",
    "sns.scatterplot(data=resb[resb['cond']=='P38'], x='pcs_later1', y='pcs_later2', s=3)"
   ]
  },
  {
   "cell_type": "code",
   "execution_count": null,
   "id": "64abc47b-bb79-4436-afc2-5e4201d5e41c",
   "metadata": {},
   "outputs": [],
   "source": [
    "sns.scatterplot(data=resb, x='pcs_later1', y='pcs_later2', hue='cond', s=3)"
   ]
  },
  {
   "cell_type": "code",
   "execution_count": null,
   "id": "ecf4ba1f-1c99-4ebd-8c61-b219ce9e6ab1",
   "metadata": {},
   "outputs": [],
   "source": [
    "uniq_conds_cheng22 = ['P8', 'P14', 'P17', 'P21', 'P28', 'P38', 'P28_dr', 'P38_dr', 'P28_dl'] #natsorted(resb['cond'].unique())\n",
    "n = len(uniq_conds_cheng22)\n",
    "fig, axs = plt.subplots(1, n, figsize=(n*3, 3), sharex=True, sharey=True)\n",
    "for ax, cond in zip(axs, uniq_conds_cheng22):\n",
    "    sns.scatterplot(data=resb[resb['cond']==cond], x='pcs_later1', y='pcs_later2', s=3, ax=ax)\n",
    "    ax.set_title(cond)"
   ]
  },
  {
   "cell_type": "code",
   "execution_count": null,
   "id": "7d39cdaa-ad88-4aa2-8313-5ee56c0f37e8",
   "metadata": {
    "tags": []
   },
   "outputs": [],
   "source": [
    "allcolors = sns.color_palette('tab20b', 20)\n",
    "allcolors"
   ]
  },
  {
   "cell_type": "code",
   "execution_count": null,
   "id": "b9738b71-19bb-4e6d-ba3d-e38215a3347b",
   "metadata": {
    "tags": []
   },
   "outputs": [],
   "source": [
    "allcolors2 = sns.color_palette('tab10', 20)\n",
    "allcolors2"
   ]
  },
  {
   "cell_type": "code",
   "execution_count": null,
   "id": "3e8e4d75-2d87-4c0a-a809-43053850bc71",
   "metadata": {
    "tags": []
   },
   "outputs": [],
   "source": [
    "palette = collections.OrderedDict({\n",
    "     \"P6\": allcolors[1],\n",
    "     \"P8\": allcolors[0],\n",
    "    \"P10\": allcolors[4+2],\n",
    "    \"P12\": allcolors[4+1],\n",
    "    \"P14\": allcolors[4+0],\n",
    "    \n",
    "    \"P17\": allcolors[8+2],\n",
    "    \"P21\": allcolors[8+0],\n",
    "    \n",
    "    \"P12DR\": allcolors[8+2],\n",
    "    \"P14DR\": allcolors[8+0],\n",
    "    \"P17DR\": allcolors[8+0],\n",
    "    \"P21DR\": allcolors[8+0],\n",
    "    \n",
    "})\n",
    "cases = np.array(list(palette.keys()))\n",
    "cases_nr = np.array(list(palette.keys()))[:-4]\n",
    "cases_nr_short = np.array(list(palette.keys()))[[0,2,4,5,6]]\n",
    "\n",
    "cond_order_dict = {\n",
    "    'P6':  0,\n",
    "    'P8':  1,\n",
    "    'P10': 2,\n",
    "    'P12': 3,\n",
    "    'P14': 4,\n",
    "    'P17': 5,\n",
    "    'P21': 6,\n",
    "    \n",
    "    'P12DR': 7,\n",
    "    'P14DR': 8,\n",
    "    'P17DR': 9,\n",
    "    'P21DR': 10,\n",
    "}\n",
    "unq_conds = np.array(list(cond_order_dict.keys()))\n",
    "adata.obs['cond_order'] = adata.obs['cond'].apply(lambda x: cond_order_dict[x])\n",
    "\n",
    "palette_types = collections.OrderedDict({\n",
    "    'L2/3_A': allcolors2[0],\n",
    "    'L2/3_B': allcolors2[1],\n",
    "    'L2/3_C': allcolors2[2],\n",
    "})             \n",
    "\n",
    "palette_types = {\n",
    "    'c14': 'C0', \n",
    "    'c18': 'C1',\n",
    "    'c16': 'C2', \n",
    "    \n",
    "    'c13': 'C0', \n",
    "    'c15': 'C1', \n",
    "    'c17': 'C2',\n",
    "}\n",
    "type_order = [key for key, val in palette_types.items()]\n",
    "type_order"
   ]
  },
  {
   "cell_type": "code",
   "execution_count": null,
   "id": "e4eb5acc-32e3-426e-adcc-6e4c108f0fca",
   "metadata": {
    "tags": []
   },
   "outputs": [],
   "source": [
    "palette_time = sns.cubehelix_palette(n_colors=7, start=.5, rot=-.5)\n",
    "palette_time"
   ]
  },
  {
   "cell_type": "markdown",
   "id": "e654279d-3fed-40a4-9eef-c15eb575f214",
   "metadata": {
    "tags": []
   },
   "source": [
    "# Plot A vs C genes aligning cells along early vs late PCs"
   ]
  },
  {
   "cell_type": "code",
   "execution_count": null,
   "id": "8a0a75ad-2fc9-4d95-88cd-13ead0982fbe",
   "metadata": {},
   "outputs": [],
   "source": [
    "# plot('pcs_all1', 'pcs_all2', aspect_equal=True)\n",
    "# plt.show()\n",
    "# plot('pcs_early1', 'pcs_early2', aspect_equal=True)\n",
    "# plt.show()\n",
    "# plot('pcs_later1', 'pcs_later2', aspect_equal=True)\n",
    "# plt.show()"
   ]
  },
  {
   "cell_type": "code",
   "execution_count": null,
   "id": "5e872682-7a8f-4fd4-88c0-12e1630aecf7",
   "metadata": {},
   "outputs": [],
   "source": []
  },
  {
   "cell_type": "markdown",
   "id": "4a19491c-edc1-46ea-821b-d6c5b8db178c",
   "metadata": {
    "tags": []
   },
   "source": [
    "# Archetypes"
   ]
  },
  {
   "cell_type": "code",
   "execution_count": null,
   "id": "b3c5e25d-28ae-49d1-8b1e-c51840bafc8e",
   "metadata": {
    "tags": []
   },
   "outputs": [],
   "source": [
    "todo_conds = [\n",
    "    'P12DR', 'P14DR', 'P17DR', 'P21DR',\n",
    "    'P6', 'P8', 'P10', 'P12', 'P14', 'P17', 'P21', \n",
    "]\n",
    "todo_samps = [\n",
    "    'P12DRa', 'P12DRb',\n",
    "    'P14DRa', 'P14DRb',\n",
    "    'P17DRa', 'P17DRb',\n",
    "    'P21DRa', 'P21DRb',\n",
    "    'P6a', 'P6b', 'P6c', \n",
    "    'P8a', 'P8b', 'P8c', \n",
    "    'P10a', 'P10b', \n",
    "    'P12a', 'P12b', 'P12c', \n",
    "    'P14a', 'P14b',\n",
    "    'P17a', 'P17b', \n",
    "    'P21a', 'P21b', \n",
    "]"
   ]
  },
  {
   "cell_type": "code",
   "execution_count": null,
   "id": "01b3b34a-966d-4ab7-aca9-8cf725b1bbd3",
   "metadata": {},
   "outputs": [],
   "source": []
  },
  {
   "cell_type": "code",
   "execution_count": null,
   "id": "7dc5c417-c2f7-40bd-9760-2b56fcd49a7e",
   "metadata": {
    "tags": []
   },
   "outputs": [],
   "source": [
    "ndim = 2\n",
    "noc = 3\n",
    "delta = 0.2 # 0\n",
    "\n",
    "aas = []\n",
    "\n",
    "for cond in todo_conds:\n",
    "    print(cond)\n",
    "    xp = res[res['cond']==cond][['pcs_later1', 'pcs_later2']].values # pcs_later[:,:2]\n",
    "    aa = pcha(xp.T, noc=noc, delta=delta)\n",
    "    aas.append(aa)\n",
    "    "
   ]
  },
  {
   "cell_type": "code",
   "execution_count": null,
   "id": "960925e4-b225-4996-a659-0293818f8c87",
   "metadata": {
    "tags": []
   },
   "outputs": [],
   "source": [
    "ndim = 2\n",
    "noc = 3\n",
    "delta = 0.2 # 0\n",
    "\n",
    "aas2 = []\n",
    "\n",
    "for i, cond in enumerate(uniq_conds_cheng22):\n",
    "    print(i, cond)\n",
    "    xp = resb[resb['cond']==cond][['pcs_later1', 'pcs_later2']].values # pcs_later[:,:2]\n",
    "    aa = pcha(xp.T, noc=noc, delta=delta)\n",
    "    aas2.append(aa)\n",
    "    "
   ]
  },
  {
   "cell_type": "code",
   "execution_count": null,
   "id": "233fe1a9-21f5-4347-9544-43ad3a4f84a4",
   "metadata": {
    "tags": []
   },
   "outputs": [],
   "source": [
    "# plot\n",
    "n = len(todo_conds)\n",
    "fig, axs = plt.subplots(1,n,figsize=(8*n,6), sharex=True, sharey=True)\n",
    "for i, cond in enumerate(todo_conds):\n",
    "    ax = axs[i]\n",
    "    aa = aas[-1]\n",
    "    xp = res[res['cond']==cond][['pcs_later1', 'pcs_later2']].values # pcs_later[:,:2]\n",
    "    \n",
    "    ax.scatter(xp[:,0], xp[:,1], s=2) #  c=types_colorvec, s=2)\n",
    "    plot_archetype(ax, aa, fmt='-o', color='k', zorder=0)\n",
    "    ax.set_title(cond)\n",
    "\n",
    "    ax.set_xlabel('PC1')\n",
    "    ax.set_ylabel('PC2')\n",
    "    ax.set_aspect('equal')\n",
    "    sns.despine(ax=ax)\n",
    "    ax.grid(False)\n",
    "    \n",
    "plt.show()"
   ]
  },
  {
   "cell_type": "code",
   "execution_count": null,
   "id": "094d225a-209d-4653-85d5-392c06fa5115",
   "metadata": {
    "tags": []
   },
   "outputs": [],
   "source": [
    "xbins = np.linspace(-6,6,2*12+1)\n",
    "ybins = np.linspace(-5,5,2*10+1)\n",
    "\n",
    "xbins, ybins"
   ]
  },
  {
   "cell_type": "code",
   "execution_count": null,
   "id": "4c807b30-b5f1-40d1-9908-f25df068ad45",
   "metadata": {
    "tags": []
   },
   "outputs": [],
   "source": [
    "from matplotlib.colors import LinearSegmentedColormap\n",
    "\n",
    "colors_a = [(0.0, 'white'), (1.0, 'C0')]      \n",
    "colors_b = [(0.0, 'white'), (1.0, 'C1')]      \n",
    "colors_c = [(0.0, 'white'), (1.0, 'C2')]      \n",
    "colors_n = [(0.0, 'white'), (1.0, 'lightgray')]      \n",
    "cmap_a = LinearSegmentedColormap.from_list('cmap_a', colors_a)\n",
    "cmap_b = LinearSegmentedColormap.from_list('cmap_b', colors_b)\n",
    "cmap_c = LinearSegmentedColormap.from_list('cmap_c', colors_c)\n",
    "cmap_n = LinearSegmentedColormap.from_list('cmap_n', colors_n)\n",
    "\n",
    "colors_ac = [\n",
    "    np.array(cmap_a(1.0)),\n",
    "    0.5*np.array(cmap_a(1.0))+0.5*np.array(cmap_n(1.0)),\n",
    "    np.array(cmap_n(1.0)),\n",
    "    0.5*np.array(cmap_c(1.0))+0.5*np.array(cmap_n(1.0)),\n",
    "    np.array(cmap_c(1.0)),\n",
    "]\n",
    "cmap_ac = LinearSegmentedColormap.from_list('cmap_ac', colors_ac)\n",
    "\n",
    "colors_b2 = [\n",
    "    'lightgray',\n",
    "    cmap_b(0.2),\n",
    "    cmap_b(1.0),\n",
    "]\n",
    "cmap_b2 = LinearSegmentedColormap.from_list('cmap_b2', colors_b2)"
   ]
  },
  {
   "cell_type": "code",
   "execution_count": null,
   "id": "c126a844-cf35-4991-bdbb-9eeed98c13ba",
   "metadata": {
    "tags": []
   },
   "outputs": [],
   "source": [
    "f = '/u/home/f/f7xiesnm/v1_multiome/juyoun/regulons_l23alltime_trimmed_cleaned_bigtable.csv'\n",
    "# scenic metadata\n",
    "df_scenic = pd.read_csv(f, index_col=0)\n",
    "df_scenic = df_scenic[df_scenic['signs'].isin([\"+_+\", \"-_+\"])]"
   ]
  },
  {
   "cell_type": "code",
   "execution_count": null,
   "id": "3b877e0e-e8a0-4bee-b00c-cab0780b6b95",
   "metadata": {
    "tags": []
   },
   "outputs": [],
   "source": [
    "reg_name_list = [\n",
    "    # 'Meis2_+_+',\n",
    "    # 'Tcf12_+_+',\n",
    "    # 'Fosl2_+_+',\n",
    "    # 'Npas4_+_+',\n",
    "    # 'Egr1_+_+',\n",
    "    'Ar_+_+',\n",
    "    'Thra_+_+',\n",
    "    'Nfatc2_+_+',\n",
    "    'Mef2c_+_+',\n",
    "    'Satb2_+_+',\n",
    "]\n",
    "for reg_name in reg_name_list:\n",
    "    df_this_reg = df_scenic[df_scenic['Consensus_name']==reg_name]\n",
    "    reg_genes = df_this_reg['Gene'].unique()\n",
    "    res[reg_name[:-4]+'_regp'] = np.mean(res[reg_genes], axis=1)"
   ]
  },
  {
   "cell_type": "code",
   "execution_count": null,
   "id": "a9066960-aab7-4b24-87df-52c735a61790",
   "metadata": {},
   "outputs": [],
   "source": [
    "\n",
    "# genes_viz = ['Nkain2', 'Nkain3', 'Meis2', 'Foxp1', 'Nfib', 'Rfx3', 'Sox5', 'Zbtb20', 'Tox', 'Tshz3']\n",
    "# genes_viz = ['Meis2', 'Satb1', #'Tcf12', \n",
    "#              'Sox5', 'Npas4', 'Fos', 'Fosl2', 'Egr1']# 'Sox5', 'Zbtb20', 'Tox', 'Tshz3']\n",
    "genes_viz = [\n",
    "    # 'Meis2_regp',\n",
    "    # 'Tcf12_regp',\n",
    "    # 'Fosl2_regp',\n",
    "    # 'Npas4_regp',\n",
    "    # 'Egr1_regp',\n",
    "    'Ar_regp',\n",
    "    'Thra_regp',\n",
    "    'Nfatc2_regp',\n",
    "    'Mef2c_regp',\n",
    "    'Satb2_regp',\n",
    "]\n",
    "for gn in genes_viz:\n",
    "    fig = plot3('pcs_later1', 'pcs_later2', gn, aspect_equal=True, s=20, vmaxp=98, vminp=2)\n",
    "    axs = fig.get_axes()\n",
    "    for ax in axs:\n",
    "        # plot_archetype(ax, aa, fmt='--o', color='gray', zorder=2)\n",
    "        plot_archetype(ax, aa, fmt='--', color='gray', zorder=2)\n",
    "        \n",
    "        # ax.scatter(aa[0,0], aa[1,0], color='C0', zorder=2)\n",
    "        # ax.scatter(aa[0,1], aa[1,1], color='C1', zorder=2)\n",
    "        # ax.scatter(aa[0,2], aa[1,2], color='C2', zorder=2)\n",
    "    \n",
    "    output = os.path.join(outdirfig, f'pc12_{gn}.pdf')\n",
    "    powerplots.savefig_autodate(fig, output)\n",
    "    plt.show()\n",
    "    \n",
    "    break"
   ]
  },
  {
   "cell_type": "code",
   "execution_count": null,
   "id": "8be18f51-e381-4208-b2bf-dedd9e35072f",
   "metadata": {
    "tags": []
   },
   "outputs": [],
   "source": [
    "genes_viz = ['scores_b','scores_c-a']\n",
    "cmaps = [\n",
    "    cmap_b2,\n",
    "    cmap_ac,\n",
    "]\n",
    "for gn, cmap in zip(genes_viz, cmaps):\n",
    "    \n",
    "    vmin = np.percentile(res[gn],  5)\n",
    "    vmax = np.percentile(res[gn], 95)\n",
    "    \n",
    "    fig = plot2('pcs_later1', 'pcs_later2', hue=gn, aspect_equal=True, s=20, vmin=vmin, vmax=vmax,cmap=cmap) #vminp=0, vmaxp=98)\n",
    "    axs = fig.get_axes()\n",
    "    for ax in axs:\n",
    "        plot_archetype(ax, aa, fmt='--', color='gray', zorder=2)\n",
    "        # ax.scatter(aa[0,0], aa[1,0], color='C0', zorder=2)\n",
    "        # ax.scatter(aa[0,1], aa[1,1], color='C1', zorder=2)\n",
    "        # ax.scatter(aa[0,2], aa[1,2], color='C2', zorder=2)\n",
    "    \n",
    "    output = os.path.join(outdirfig, f'pc12_{gn}.pdf')\n",
    "    powerplots.savefig_autodate(fig, output)\n",
    "    plt.show()\n",
    "    \n",
    "    # break\n",
    "    "
   ]
  },
  {
   "cell_type": "code",
   "execution_count": null,
   "id": "778ec49f-bad2-4306-baca-5a440e44c8b9",
   "metadata": {},
   "outputs": [],
   "source": [
    "genes_viz = ['scores_b','scores_c-a']\n",
    "cmaps = [\n",
    "    cmap_b2,\n",
    "    cmap_ac,\n",
    "]\n",
    "for gn, cmap in zip(genes_viz, cmaps):\n",
    "    \n",
    "    vmin = np.percentile(res[gn],  5)\n",
    "    vmax = np.percentile(res[gn], 95)\n",
    "    \n",
    "    fig = plot2('pcs_early1', 'pcs_early2', hue=gn, aspect_equal=True, s=10, vmin=vmin, vmax=vmax,cmap=cmap) #vminp=0, vmaxp=98)\n",
    "    # axs = fig.get_axes()\n",
    "    # for ax in axs:\n",
    "    #     plot_archetype(ax, aa, fmt='--', color='gray', zorder=2)\n",
    "        # ax.scatter(aa[0,0], aa[1,0], color='C0', zorder=2)\n",
    "        # ax.scatter(aa[0,1], aa[1,1], color='C1', zorder=2)\n",
    "        # ax.scatter(aa[0,2], aa[1,2], color='C2', zorder=2)\n",
    "    \n",
    "    output = os.path.join(outdirfig, f'pc12_{gn}.pdf')\n",
    "    powerplots.savefig_autodate(fig, output)\n",
    "    plt.show()\n",
    "    \n",
    "    # break\n",
    "    "
   ]
  },
  {
   "cell_type": "code",
   "execution_count": null,
   "id": "39633d5a-e74a-42f3-b759-e57cfcd1dcb5",
   "metadata": {
    "tags": []
   },
   "outputs": [],
   "source": [
    "genes_viz = ['Epha7', 'Epha6', \n",
    "             'Pcdh7', 'Pcdh9',]#['scores_b','scores_c-a', '']#'Robo1', 'Lrp1b', 'Pcdh9', 'Pcdh7', 'Pcdh10', 'Pcdh19'] # 'Epha3', 'Epha6', 'Epha10']\n",
    "\n",
    "# cmaps = [\n",
    "#     cmap_b2,\n",
    "#     cmap_ac,\n",
    "# ]\n",
    "for gn in genes_viz: #, cmap in zip(genes_viz, cmaps):\n",
    "    \n",
    "    vmin = np.percentile(res[gn],  5)\n",
    "    vmax = np.percentile(res[gn], 95)\n",
    "    \n",
    "    fig = plot2('pcs_p63', 'pcs_p64', hue=gn, aspect_equal=True, s=10, vmin=vmin, vmax=vmax,cmap='coolwarm') #vminp=0, vmaxp=98)\n",
    "    # axs = fig.get_axes()\n",
    "    # for ax in axs:\n",
    "    #     plot_archetype(ax, aa, fmt='--', color='gray', zorder=2)\n",
    "        # ax.scatter(aa[0,0], aa[1,0], color='C0', zorder=2)\n",
    "        # ax.scatter(aa[0,1], aa[1,1], color='C1', zorder=2)\n",
    "        # ax.scatter(aa[0,2], aa[1,2], color='C2', zorder=2)\n",
    "    \n",
    "    # output = os.path.join(outdirfig, f'pc12_{gn}.pdf')\n",
    "    # powerplots.savefig_autodate(fig, output)\n",
    "    plt.show()\n",
    "    \n",
    "    break\n",
    "    "
   ]
  },
  {
   "cell_type": "markdown",
   "id": "343c0a3c-bf36-4889-9ba5-2314284dff89",
   "metadata": {},
   "source": [
    "# add back gaussian plot"
   ]
  },
  {
   "cell_type": "code",
   "execution_count": null,
   "id": "534afd30-136e-427d-8703-6348c97e159c",
   "metadata": {
    "tags": []
   },
   "outputs": [],
   "source": [
    "# fit KDE\n",
    "\n",
    "kdes = []\n",
    "kde_values = []\n",
    "n = len(todo_conds)\n",
    "for i, cond in enumerate(todo_conds):\n",
    "    xp = res[res['cond']==cond][['pcs_later1', 'pcs_later2']].values # pcs_later[:,:2]\n",
    "    \n",
    "    # Fit KDE\n",
    "    kde = gaussian_kde(xp.T)\n",
    "    kdes.append(kde)\n",
    "    kde_values.append(kde(xp.T))\n",
    "    "
   ]
  },
  {
   "cell_type": "code",
   "execution_count": null,
   "id": "b40ad845-72b8-49f2-8e02-eddc7519d215",
   "metadata": {
    "tags": []
   },
   "outputs": [],
   "source": [
    "# plot\n",
    "n = len(todo_conds)\n",
    "fig, axs = plt.subplots(1,n,figsize=(4*n,3), sharex=True, sharey=True)\n",
    "for i, cond in enumerate(todo_conds):\n",
    "    ax = axs[i]\n",
    "    # kde = kdes[i]\n",
    "    kde_val = kde_values[i]\n",
    "    aa = aas[-1]\n",
    "    \n",
    "    xp = res[res['cond']==cond][['pcs_later1', 'pcs_later2']].values # pcs_later[:,:2]\n",
    "    \n",
    "    # calc KDE\n",
    "    c = kde_val\n",
    "    \n",
    "    ax.scatter(xp[:,0], xp[:,1], c=c, s=10, cmap='rocket_r', rasterized=True) #  c=types_colorvec, s=2)\n",
    "    \n",
    "    plot_archetype(ax, aa, fmt='--', color='gray', zorder=2)\n",
    "    ax.scatter(aa[0,0], aa[1,0], color='C0', zorder=2)\n",
    "    ax.scatter(aa[0,1], aa[1,1], color='C1', zorder=2)\n",
    "    ax.scatter(aa[0,2], aa[1,2], color='C2', zorder=2)\n",
    "    \n",
    "    ax.set_title(f'{cond}\\n{xp.shape[0]:,} cells')\n",
    "\n",
    "    ax.set_xlabel('PC1')\n",
    "    ax.set_ylabel('PC2')\n",
    "    ax.set_aspect('equal')\n",
    "    sns.despine(ax=ax)\n",
    "    ax.grid(False)\n",
    "    ax.set_xticks([])\n",
    "    ax.set_yticks([])\n",
    "    # break\n",
    "    \n",
    "output = os.path.join(outdirfig, f'pc12_density_multiome.pdf')\n",
    "powerplots.savefig_autodate(fig, output)\n",
    "plt.show()"
   ]
  },
  {
   "cell_type": "code",
   "execution_count": null,
   "id": "c98aa261-8d7d-429d-b0da-6529a25494ac",
   "metadata": {
    "tags": []
   },
   "outputs": [],
   "source": [
    "# fit KDE\n",
    "\n",
    "kdes2 = []\n",
    "kde_values2 = []\n",
    "n = len(uniq_conds_cheng22)\n",
    "for i, cond in enumerate(uniq_conds_cheng22):\n",
    "    xp = resb[resb['cond']==cond][['pcs_later1', 'pcs_later2']].values # pcs_later[:,:2]\n",
    "    \n",
    "    # Fit KDE\n",
    "    kde = gaussian_kde(xp.T)\n",
    "    kdes2.append(kde)\n",
    "    kde_values2.append(kde(xp.T))\n",
    "    "
   ]
  },
  {
   "cell_type": "code",
   "execution_count": null,
   "id": "c7d75b31-7471-4fdd-a479-d5aaeb87a515",
   "metadata": {
    "tags": []
   },
   "outputs": [],
   "source": [
    "# plot\n",
    "n = len(uniq_conds_cheng22)\n",
    "fig, axs = plt.subplots(1,n,figsize=(4*n,3), sharex=True, sharey=True)\n",
    "for i, cond in enumerate(uniq_conds_cheng22):\n",
    "    ax = axs[i]\n",
    "    # kde = kdes[i]\n",
    "    kde_val = kde_values2[i]\n",
    "    aa = aas2[3]\n",
    "    # aa = aas[-1]\n",
    "    \n",
    "    xp = resb[resb['cond']==cond][['pcs_later1', 'pcs_later2']].values # pcs_later[:,:2]\n",
    "    \n",
    "    # calc KDE\n",
    "    c = kde_val\n",
    "    \n",
    "    ax.scatter(xp[:,0], xp[:,1], c=c, s=10, cmap='rocket_r', rasterized=True) #  c=types_colorvec, s=2)\n",
    "    \n",
    "    plot_archetype(ax, aa, fmt='--', color='gray', zorder=2)\n",
    "    ax.scatter(aa[0,0], aa[1,0], color='C0', zorder=2)\n",
    "    ax.scatter(aa[0,1], aa[1,1], color='C1', zorder=2)\n",
    "    ax.scatter(aa[0,2], aa[1,2], color='C2', zorder=2)\n",
    "    \n",
    "    ax.set_title(f'{cond}\\n{xp.shape[0]:,} cells')\n",
    "\n",
    "    ax.set_xlabel('PC1')\n",
    "    ax.set_ylabel('PC2')\n",
    "    ax.set_aspect('equal')\n",
    "    sns.despine(ax=ax)\n",
    "    ax.grid(False)\n",
    "    ax.set_xticks([])\n",
    "    ax.set_yticks([])\n",
    "    # break\n",
    "    \n",
    "output = os.path.join(outdirfig, f'pc12_density_cheng22.pdf')\n",
    "powerplots.savefig_autodate(fig, output)\n",
    "plt.show()"
   ]
  },
  {
   "cell_type": "code",
   "execution_count": null,
   "id": "65c3f389-3260-4d48-afeb-8d2765eb7647",
   "metadata": {},
   "outputs": [],
   "source": []
  },
  {
   "cell_type": "code",
   "execution_count": null,
   "id": "89c9e269-f366-4ae1-aea9-05c0892dc9e2",
   "metadata": {},
   "outputs": [],
   "source": []
  },
  {
   "cell_type": "code",
   "execution_count": null,
   "id": "7b03a4c5-e2cb-489c-b9e0-b3ace8ea91e9",
   "metadata": {},
   "outputs": [],
   "source": []
  },
  {
   "cell_type": "code",
   "execution_count": null,
   "id": "66800c38-a8a3-4b25-8f1d-124c8bdf412d",
   "metadata": {},
   "outputs": [],
   "source": []
  },
  {
   "cell_type": "code",
   "execution_count": null,
   "id": "2af940c6-8d33-415e-ab01-bd6d56f7a337",
   "metadata": {},
   "outputs": [],
   "source": []
  },
  {
   "cell_type": "markdown",
   "id": "3ba40f12-03fd-4d39-8ef7-b31dcc21efe3",
   "metadata": {},
   "source": [
    "# individual PCAs"
   ]
  },
  {
   "cell_type": "code",
   "execution_count": null,
   "id": "5def43a5-6e36-4f37-8216-af8a83add9d9",
   "metadata": {
    "tags": []
   },
   "outputs": [],
   "source": [
    "fig, axs = plt.subplots(1, 4, figsize=(4*3,1*3))\n",
    "for cond, sign_x, sign_y, ax in zip(['P6', 'P8', 'P14', 'P21'], \n",
    "                                      [1,-1, 1,-1],\n",
    "                                      [1, 1,-1,-1],\n",
    "                                      axs):\n",
    "    adata_hvg_px = adata_hvg[adata_hvg.obs['cond']==cond]\n",
    "    pca_px = PCA(n_components=2)\n",
    "    pcs_px = pca_px.fit_transform(adata_hvg_px.layers['lognorm'][...]) #\n",
    "    scores_ac = res.set_index('index')['scores_c-a'].loc[adata_hvg_px.obs.index]\n",
    "    # samples = adata_hvg_p6.obs['sample'].values #.unique()\n",
    "    # ncounts = adata_hvg_p6.obs['nCount_RNA'].values\n",
    "\n",
    "    ax.scatter(sign_x*pcs_px[:,0], sign_y*pcs_px[:,1], c=scores_ac.values, cmap=cmap_ac, s=3, rasterized=True)\n",
    "    ax.set_title(cond)\n",
    "    ax.grid(False)\n",
    "    ax.set_xticks([])\n",
    "    ax.set_yticks([])\n",
    "    sns.despine(ax=ax)\n",
    "    \n",
    "output = os.path.join(outdirfig, f'pc12_ac_each_time.pdf')\n",
    "powerplots.savefig_autodate(fig, output)\n",
    "    \n",
    "plt.show()\n",
    "         "
   ]
  },
  {
   "cell_type": "markdown",
   "id": "e632aab9-f579-407d-83ae-fdb6e58ab0ca",
   "metadata": {},
   "source": [
    "# variance along A-C axis vs B-axis"
   ]
  },
  {
   "cell_type": "code",
   "execution_count": null,
   "id": "ab940c8d-89d4-4783-bbd5-6468184ea534",
   "metadata": {
    "tags": []
   },
   "outputs": [],
   "source": [
    "# define A-C (t1) and B (t2) axis\n",
    "\n",
    "aa = aas[-1]\n",
    "t1 = aa[:,2]-aa[:,0]\n",
    "t1 = t1/np.sqrt(t1.dot(t1))\n",
    "t2 = np.array([t1[1], -t1[0]])\n",
    "\n",
    "print(np.sum(t1**2), t1.dot(t2))"
   ]
  },
  {
   "cell_type": "code",
   "execution_count": null,
   "id": "451e4a0c-ab1e-40cd-ae82-90db1d2773b3",
   "metadata": {
    "tags": []
   },
   "outputs": [],
   "source": [
    "fjg, ax = plt.subplots(figsize=(2,2))\n",
    "plot_archetype(ax, aa, fmt='--', color='gray', zorder=2)\n",
    "ax.plot([aa[0,0],aa[0,0]+t1[0]], [aa[1,0], aa[1,0]+t1[1]])\n",
    "ax.plot([aa[0,0],aa[0,0]+t2[0]], [aa[1,0], aa[1,0]+t2[1]])\n",
    "ax.set_aspect('equal')"
   ]
  },
  {
   "cell_type": "code",
   "execution_count": null,
   "id": "7bb4c624-d647-44e3-ba44-b58d0a9ef4f7",
   "metadata": {
    "tags": []
   },
   "outputs": [],
   "source": [
    "res['pcs_later_t1'] = res[['pcs_later1', 'pcs_later2']].values.dot(t1)\n",
    "res['pcs_later_t2'] = res[['pcs_later1', 'pcs_later2']].values.dot(t2)\n"
   ]
  },
  {
   "cell_type": "code",
   "execution_count": null,
   "id": "d8f93f29-2325-44af-b77e-fb27acf37a27",
   "metadata": {
    "tags": []
   },
   "outputs": [],
   "source": [
    "var_mtx = res[['pcs_later_t1', 'pcs_later_t2', \n",
    "               # 'pcs_later_shuff_t1', 'pcs_later_shuff_t2', \n",
    "               'pcs_early1',\n",
    "               'pcs_later1',\n",
    "               'cond', ]].groupby(['cond']).std(numeric_only=True) \n",
    "var_mtx = np.power(var_mtx, 2).reindex(todo_conds)\n",
    "var_mtx"
   ]
  },
  {
   "cell_type": "code",
   "execution_count": null,
   "id": "d2b10d24-a0cc-422d-8236-0af892d6570c",
   "metadata": {
    "tags": []
   },
   "outputs": [],
   "source": [
    "var_mtx_rep = res[['pcs_later_t1', 'pcs_later_t2', \n",
    "                   # 'pcs_later_shuff_t1', 'pcs_later_shuff_t2', \n",
    "                   'pcs_early1',\n",
    "                   'pcs_later1',\n",
    "                   'cond', 'samp']].groupby(['samp']).std(numeric_only=True)\n",
    "var_mtx_rep = np.power(var_mtx_rep, 2).reindex(todo_samps)\n",
    "var_mtx_rep"
   ]
  },
  {
   "cell_type": "code",
   "execution_count": null,
   "id": "54519384-26ed-4302-b8dc-2f99bdd036f4",
   "metadata": {
    "tags": []
   },
   "outputs": [],
   "source": [
    "times = np.array([6,8,10,12,14,17,21])\n",
    "todo_conds_t = np.array([int(re.sub(r'[a-zA-Z]', '', a)) for a in todo_conds])\n",
    "todo_samps_t = np.array([int(re.sub(r'[a-zA-Z]', '', a)) for a in todo_samps])\n",
    "print(times)\n",
    "print(todo_conds_t)\n",
    "print(todo_samps_t)"
   ]
  },
  {
   "cell_type": "code",
   "execution_count": null,
   "id": "e1039b79-6536-4bd6-8db5-92f93a485f26",
   "metadata": {
    "tags": []
   },
   "outputs": [],
   "source": [
    "\n",
    "scale1 = var_mtx['pcs_later1'].values[4:].max()\n",
    "\n",
    "\n",
    "fig, ax = plt.subplots(1,1,figsize=(3*1,1*3), sharex=True, sharey=True)\n",
    "ax.plot(todo_conds_t[4:], var_mtx['pcs_later1'].values[4:]/scale1,     color='magenta', label='PC1(P21)')\n",
    "ax.plot(todo_conds_t[4:], var_mtx['pcs_early1'].values[4:]/scale1,       color='green', label='PC1(P8)')\n",
    "\n",
    "ax.plot(todo_samps_t[8:], var_mtx_rep['pcs_later1'].values[8:]/scale1,     'o', markersize=5, fillstyle='none', color='magenta')\n",
    "ax.plot(todo_samps_t[8:], var_mtx_rep['pcs_early1'].values[8:]/scale1,       'o', markersize=5, fillstyle='none', color='green')\n",
    "\n",
    "\n",
    "\n",
    "\n",
    "sns.despine(ax=ax)\n",
    "ax.grid(False)\n",
    "ax.set_xlabel('Postnatal day (P)')\n",
    "ax.set_ylabel('norm. variance')\n",
    "\n",
    "sns.despine(ax=ax)\n",
    "ax.grid(False)\n",
    "ax.set_ylim(bottom=0)\n",
    "ax.set_xticks(times)\n",
    "ax.legend(bbox_to_anchor=(1,1))\n",
    "# ax.set_title('A-C axis')\n",
    "ax.set_xticks([6,10,14,17,21])\n",
    "\n",
    "output = os.path.join(outdirfig, \"early_vs_late_PC1_overtime.pdf\")\n",
    "powerplots.savefig_autodate(fig, output)\n",
    "plt.show()"
   ]
  },
  {
   "cell_type": "code",
   "execution_count": null,
   "id": "6d5f759a-f8d2-4080-ac6a-7d19c66d6793",
   "metadata": {
    "tags": []
   },
   "outputs": [],
   "source": [
    "scale1 = var_mtx['pcs_later_t1'].max()\n",
    "scale2 = var_mtx['pcs_later_t2'].max()\n",
    "\n",
    "\n",
    "fig, axs = plt.subplots(1,2,figsize=(3*2,1*3), sharex=True, sharey=True)\n",
    "ax = axs[0]\n",
    "ax.plot(todo_conds_t[4:], var_mtx['pcs_later_t1'].values[4:]/scale1,       color='C1')\n",
    "ax.plot(todo_conds_t[:4], var_mtx['pcs_later_t1'].values[:4]/scale1,       color='k')\n",
    "\n",
    "ax.plot(todo_samps_t[8:], var_mtx_rep['pcs_later_t1'].values[8:]/scale1,       'o', markersize=5, fillstyle='none', color='C1')\n",
    "ax.plot(todo_samps_t[:8], var_mtx_rep['pcs_later_t1'].values[:8]/scale1,       's', markersize=5, fillstyle='none', color='k')\n",
    "\n",
    "sns.despine(ax=ax)\n",
    "ax.grid(False)\n",
    "ax.set_xlabel('Postnatal day (P)')\n",
    "ax.set_ylabel('norm. variance')\n",
    "ax.set_title('A-C axis')\n",
    "\n",
    "ax = axs[1]\n",
    "ax.plot(todo_conds_t[4:], var_mtx['pcs_later_t2'].values[4:]/scale2,       color='C1', label='NR')\n",
    "ax.plot(todo_conds_t[:4], var_mtx['pcs_later_t2'].values[:4]/scale2,       color='k',  label='DR')\n",
    "\n",
    "ax.plot(todo_samps_t[8:], var_mtx_rep['pcs_later_t2'].values[8:]/scale2,       'o', markersize=5, fillstyle='none', color='C1')\n",
    "ax.plot(todo_samps_t[:8], var_mtx_rep['pcs_later_t2'].values[:8]/scale2,       's', markersize=5, fillstyle='none', color='k')\n",
    "\n",
    "sns.despine(ax=ax)\n",
    "ax.grid(False)\n",
    "ax.set_ylim(bottom=0)\n",
    "ax.set_xticks(times)\n",
    "ax.legend(bbox_to_anchor=(1,1))\n",
    "ax.set_title('B axis')\n",
    "\n",
    "output = os.path.join(outdirfig, \"ACvsB_var_vs_time.pdf\")\n",
    "powerplots.savefig_autodate(fig, output)\n",
    "plt.show()"
   ]
  },
  {
   "cell_type": "code",
   "execution_count": null,
   "id": "d827f41a-a1d1-4467-8837-a8f88cd717f9",
   "metadata": {
    "tags": []
   },
   "outputs": [],
   "source": [
    "# var_mtx.to_csv(    '/u/home/f/f7xiesnm/project-zipursky/v1-bb/v1/results/plot_var_mtx_l23_250625.csv')\n",
    "# var_mtx_rep.to_csv('/u/home/f/f7xiesnm/project-zipursky/v1-bb/v1/results/plot_var_mtx_rep_l23_250625.csv')"
   ]
  },
  {
   "cell_type": "code",
   "execution_count": null,
   "id": "e03847aa-3089-4ee7-bacb-06a6f852187a",
   "metadata": {},
   "outputs": [],
   "source": []
  },
  {
   "cell_type": "code",
   "execution_count": null,
   "id": "a5099a26-a753-40c5-9cff-01ca22d12701",
   "metadata": {},
   "outputs": [],
   "source": []
  },
  {
   "cell_type": "markdown",
   "id": "921f600c-9366-4348-b465-8602e407202f",
   "metadata": {},
   "source": [
    "# variance along A-C axis vs B-axis (Cheng et al)"
   ]
  },
  {
   "cell_type": "code",
   "execution_count": null,
   "id": "125fa67e-7f31-4073-aea4-a13fcf3b3aba",
   "metadata": {
    "tags": []
   },
   "outputs": [],
   "source": [
    "# define A-C (t1) and B (t2) axis\n",
    "\n",
    "aa = aas2[3]\n",
    "t1 = aa[:,2]-aa[:,0]\n",
    "t1 = t1/np.sqrt(t1.dot(t1))\n",
    "t2 = np.array([t1[1], -t1[0]])\n",
    "\n",
    "print(np.sum(t1**2), t1.dot(t2))"
   ]
  },
  {
   "cell_type": "code",
   "execution_count": null,
   "id": "3dcc9009-e592-42b6-853e-549963162b40",
   "metadata": {
    "tags": []
   },
   "outputs": [],
   "source": [
    "fjg, ax = plt.subplots(figsize=(2,2))\n",
    "plot_archetype(ax, aa, fmt='--', color='gray', zorder=2)\n",
    "ax.plot([aa[0,0],aa[0,0]+t1[0]], [aa[1,0], aa[1,0]+t1[1]])\n",
    "ax.plot([aa[0,0],aa[0,0]+t2[0]], [aa[1,0], aa[1,0]+t2[1]])\n",
    "ax.set_aspect('equal')"
   ]
  },
  {
   "cell_type": "code",
   "execution_count": null,
   "id": "a02fd959-d8d4-4e4d-9034-33c1a4ec4746",
   "metadata": {
    "tags": []
   },
   "outputs": [],
   "source": [
    "resb['pcs_later_t1'] = resb[['pcs_later1', 'pcs_later2']].values.dot(t1)\n",
    "resb['pcs_later_t2'] = resb[['pcs_later1', 'pcs_later2']].values.dot(t2)\n"
   ]
  },
  {
   "cell_type": "code",
   "execution_count": null,
   "id": "2858e508-fba5-4f29-8084-4196b10fc8b0",
   "metadata": {
    "tags": []
   },
   "outputs": [],
   "source": [
    "var_mtx = resb[['pcs_later_t1', 'pcs_later_t2', \n",
    "               # 'pcs_later_shuff_t1', 'pcs_later_shuff_t2', \n",
    "               # 'pcs_early1',\n",
    "               'pcs_later1',\n",
    "               'cond', ]].groupby(['cond']).std(numeric_only=True) \n",
    "var_mtx = np.power(var_mtx, 2).reindex(uniq_conds_cheng22).iloc[:6]\n",
    "var_mtx"
   ]
  },
  {
   "cell_type": "code",
   "execution_count": null,
   "id": "b7ac3bab-497c-420d-a3db-9edcff4b54d6",
   "metadata": {
    "tags": []
   },
   "outputs": [],
   "source": [
    "# var_mtx_rep = resb[['pcs_later_t1', 'pcs_later_t2', \n",
    "#                    # 'pcs_later_shuff_t1', 'pcs_later_shuff_t2', \n",
    "#                    # 'pcs_early1',\n",
    "#                    'pcs_later1',\n",
    "#                    'cond', 'samp']].groupby(['samp']).std(numeric_only=True)\n",
    "# var_mtx_rep = np.power(var_mtx_rep, 2)#.reindex(todo_samps)\n",
    "# var_mtx_rep"
   ]
  },
  {
   "cell_type": "code",
   "execution_count": null,
   "id": "0f8f9f8e-a015-4adb-bdbc-c9a874d344c6",
   "metadata": {
    "tags": []
   },
   "outputs": [],
   "source": [
    "# times = np.array([6,8,10,12,14,17,21])\n",
    "times = np.array([8,14,17,21,28,38])\n",
    "todo_conds_t2 = times # np.array([8,14,17,21,28,38]) # np.array([int(re.sub(r'[a-zA-Z]', '', a)) for a in todo_conds])\n",
    "# todo_samps_t = np.array([int(re.sub(r'[a-zA-Z]', '', a)) for a in todo_samps])\n",
    "# print(times)\n",
    "# print(todo_conds_t)\n",
    "# print(todo_samps_t)"
   ]
  },
  {
   "cell_type": "code",
   "execution_count": null,
   "id": "02f608a6-6484-464d-a702-3dc56786447f",
   "metadata": {
    "tags": []
   },
   "outputs": [],
   "source": [
    "scale1 = var_mtx['pcs_later_t1'].max()\n",
    "scale2 = var_mtx['pcs_later_t2'].max()\n",
    "\n",
    "\n",
    "fig, axs = plt.subplots(1,2,figsize=(3*2,1*3), sharex=True, sharey=True)\n",
    "ax = axs[0]\n",
    "ax.plot(todo_conds_t2, var_mtx['pcs_later_t1'].values/scale1,    '-o',   color='C1')\n",
    "# ax.plot(todo_conds_t[:4], var_mtx['pcs_later_t1'].values[:4]/scale1,       color='k')\n",
    "\n",
    "# ax.plot(todo_samps_t[8:], var_mtx_rep['pcs_later_t1'].values[8:]/scale1,       'o', markersize=5, fillstyle='none', color='C1')\n",
    "# ax.plot(todo_samps_t[:8], var_mtx_rep['pcs_later_t1'].values[:8]/scale1,       's', markersize=5, fillstyle='none', color='k')\n",
    "\n",
    "sns.despine(ax=ax)\n",
    "ax.grid(False)\n",
    "ax.set_xlabel('Postnatal day (P)')\n",
    "ax.set_ylabel('norm. variance')\n",
    "ax.set_title('A-C axis')\n",
    "\n",
    "ax = axs[1]\n",
    "ax.plot(todo_conds_t2, var_mtx['pcs_later_t2']/scale2,       '-o', color='C1', label='NR')\n",
    "# ax.plot(todo_conds_t[:4], var_mtx['pcs_later_t2'].values[:4]/scale2,       color='k',  label='DR')\n",
    "\n",
    "# ax.plot(todo_samps_t[8:], var_mtx_rep['pcs_later_t2'].values[8:]/scale2,       'o', markersize=5, fillstyle='none', color='C1')\n",
    "# ax.plot(todo_samps_t[:8], var_mtx_rep['pcs_later_t2'].values[:8]/scale2,       's', markersize=5, fillstyle='none', color='k')\n",
    "\n",
    "sns.despine(ax=ax)\n",
    "ax.grid(False)\n",
    "ax.set_ylim(bottom=0)\n",
    "ax.set_xticks(times)\n",
    "ax.legend(bbox_to_anchor=(1,1))\n",
    "ax.set_title('B axis')\n",
    "\n",
    "# output = os.path.join(outdirfig, \"ACvsB_var_vs_time.pdf\")\n",
    "# powerplots.savefig_autodate(fig, output)\n",
    "plt.show()"
   ]
  },
  {
   "cell_type": "code",
   "execution_count": null,
   "id": "3ad99ddc-8070-435b-ae89-d32386473e6f",
   "metadata": {
    "tags": []
   },
   "outputs": [],
   "source": [
    "# var_mtx.to_csv(    '/u/home/f/f7xiesnm/project-zipursky/v1-bb/v1/results/plot_var_mtx_l23_250625.csv')\n",
    "# var_mtx_rep.to_csv('/u/home/f/f7xiesnm/project-zipursky/v1-bb/v1/results/plot_var_mtx_rep_l23_250625.csv')"
   ]
  },
  {
   "cell_type": "code",
   "execution_count": null,
   "id": "4c148ce4-bd53-4fe1-9592-0d9bacdf601d",
   "metadata": {},
   "outputs": [],
   "source": []
  }
 ],
 "metadata": {
  "kernelspec": {
   "display_name": "napari",
   "language": "python",
   "name": "napari"
  },
  "language_info": {
   "codemirror_mode": {
    "name": "ipython",
    "version": 3
   },
   "file_extension": ".py",
   "mimetype": "text/x-python",
   "name": "python",
   "nbconvert_exporter": "python",
   "pygments_lexer": "ipython3",
   "version": "3.9.16"
  }
 },
 "nbformat": 4,
 "nbformat_minor": 5
}
