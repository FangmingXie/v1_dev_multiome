{
 "cells": [
  {
   "cell_type": "code",
   "execution_count": null,
   "id": "30b97a56-8884-4718-a56d-fc8af8e882e7",
   "metadata": {},
   "outputs": [],
   "source": [
    "import pandas as pd\n",
    "import numpy as np\n",
    "import statsmodels.formula.api as smf\n",
    "from statsmodels.stats.multitest import multipletests\n",
    "import matplotlib.pyplot as plt\n",
    "from scipy import stats\n",
    "\n",
    "import scanpy as sc\n",
    "import seaborn as sns\n",
    "\n",
    "from scroutines import basicu\n"
   ]
  },
  {
   "cell_type": "code",
   "execution_count": null,
   "id": "7508e4b9-241a-42ea-9d4a-42d0a9220de0",
   "metadata": {
    "tags": []
   },
   "outputs": [],
   "source": [
    "f1 = '/u/home/f/f7xiesnm/project-zipursky/v1-bb/v1/data/v1_multiome/superdupermegaRNA_hasraw_multiome_l23.h5ad'\n",
    "f2 = '/u/home/f/f7xiesnm/v1_multiome/multiome_cell_sex_assignment_saumya.csv'\n",
    "adata  = sc.read(f1)\n",
    "df_sex = pd.read_csv(f2)\n",
    "adata.obs = adata.obs.join(df_sex.set_index('cell'))\n",
    "adata.X = adata.raw.X\n",
    "adata = adata[:,~adata.var.index.str.contains(f'^mt')]\n",
    "genes = adata.var.index.values\n",
    "adata"
   ]
  },
  {
   "cell_type": "code",
   "execution_count": null,
   "id": "306da436-c271-45c7-9c27-44cfdae3c65b",
   "metadata": {
    "tags": []
   },
   "outputs": [],
   "source": [
    "exp_cond = 'P14DR'\n",
    "subclass = 'L2/3'\n",
    "adatasub = adata[(adata.obs['Age']==exp_cond) & (adata.obs['Subclass']==subclass)]\n",
    "adatasub"
   ]
  },
  {
   "cell_type": "code",
   "execution_count": null,
   "id": "0f8844a3-28c2-4dd8-806a-30e9d724a47e",
   "metadata": {
    "tags": []
   },
   "outputs": [],
   "source": [
    "offset = 1e-2"
   ]
  },
  {
   "cell_type": "code",
   "execution_count": null,
   "id": "c9d1d9c3-bf55-4ec5-8f17-c82460c28ae0",
   "metadata": {
    "tags": []
   },
   "outputs": [],
   "source": [
    "mat = np.array(adatasub.X.todense())/adatasub.obs['total_counts'].values.reshape(-1,1)*1e4\n",
    "zmat = stats.zscore(np.log2(mat+1), axis=0)\n",
    "cond_nan = np.any(np.isnan(zmat), axis=0)\n",
    "print(zmat.shape)\n",
    "\n",
    "mat = mat[:,~cond_nan]\n",
    "zmat = zmat[:,~cond_nan]\n",
    "genes = adatasub.var.index.values[~cond_nan]\n",
    "\n",
    "print(zmat.shape)\n",
    "\n",
    "# CP10k scale, ctrds and log2FC (fast)\n",
    "df = pd.DataFrame(mat, columns=np.char.add('g', np.arange(len(genes)).astype(str)), index=adatasub.obs.index)\n",
    "df = df.join(adatasub.obs[['sex', 'Sample']])\n",
    "df = df.dropna()\n",
    "df['sex'] = df['sex'].apply(lambda x: x[0].upper())\n",
    "df['subject'] = np.char.add(df['Sample'].values.astype(str), df['sex'].values.astype(str))\n",
    "print(df.shape)\n",
    "\n",
    "df_mean = df.groupby(['sex']).mean(numeric_only=True)\n",
    "log2fc  = ( np.log2(df_mean.loc['M']+offset)\n",
    "           -np.log2(df_mean.loc['F']+offset)).values\n",
    "cond_fc = (np.abs(log2fc) > np.log2(2))\n",
    "\n",
    "df_mean_subject = df.groupby(['subject']).mean(numeric_only=True)\n",
    "df_mean_subject.columns = np.array([col[1:] for col in df_mean_subject.columns]).astype(int)\n",
    "cond_expr = (df_mean_subject.max() > 0.1).values\n",
    "\n",
    "cond_all = np.logical_and(cond_expr, cond_fc)\n",
    "print(exp_cond, subclass, cond_all.sum(), genes[cond_all])\n",
    "\n",
    "# zscore(log2(CP10k)) scale [zscore is needed for the mixedLM model to converge], test (slow)\n",
    "zdf = pd.DataFrame(zmat, columns=np.char.add('g', np.arange(len(genes)).astype(str)), index=adatasub.obs.index)\n",
    "zdf = zdf.join(adatasub.obs[['sex', 'Sample']])\n",
    "zdf = zdf.dropna()\n",
    "zdf['sex'] = zdf['sex'].apply(lambda x: x[0].upper())\n",
    "zdf['subject'] = np.char.add(zdf['Sample'].values.astype(str), zdf['sex'].values.astype(str))\n",
    "print(zdf.shape)\n"
   ]
  },
  {
   "cell_type": "code",
   "execution_count": null,
   "id": "7d6ee5c8-c5db-48fd-aa27-5b5e53fbe5e6",
   "metadata": {
    "tags": []
   },
   "outputs": [],
   "source": [
    "\n",
    "\n",
    "i = basicu.get_index_from_array(genes, \n",
    "                                \n",
    "                                ['Nr4a3']\n",
    "                                # ['Vcpip1']\n",
    "                                # ['Rgs12']\n",
    "                                # ['Ebi3'] \n",
    "                                # ['Txnl4b']\n",
    "                                # ['Anxa4']\n",
    "                                # ['Coa5']\n",
    "                                # ['Gm29650']\n",
    "                                # ['Inpp5d'],\n",
    "                                # ['Tiparp'],\n",
    "                                \n",
    "                                # ['Trib1'], \n",
    "                                # ['Tanc1'], \n",
    "                                # ['Nr4a3'], \n",
    "                                # ['Gm35021'], \n",
    "                                # ['Gm17949'], \n",
    "                                # ['Gatd1'], \n",
    "                                # ['Enpp3'], \n",
    "                                # ['Ehd2'], \n",
    "                                # ['Gm26801'],\n",
    "                                \n",
    "                               )[0]\n",
    "sns.boxplot(data=zdf, x='sex', hue='Sample', y=f'g{i}')\n",
    "\n",
    "model = smf.mixedlm(f\"g{i} ~ sex\", zdf, groups=\"subject\")\n",
    "result = model.fit()\n",
    "print(df_mean[f'g{i}'])\n",
    "result.summary()"
   ]
  },
  {
   "cell_type": "code",
   "execution_count": null,
   "id": "6e1d6e83-573c-4b8d-a078-cdda33ed698c",
   "metadata": {},
   "outputs": [],
   "source": []
  },
  {
   "cell_type": "code",
   "execution_count": null,
   "id": "a267c4ca-57a2-4a68-a49a-bb13e27de5d5",
   "metadata": {},
   "outputs": [],
   "source": []
  },
  {
   "cell_type": "code",
   "execution_count": null,
   "id": "56579203-b70a-4dde-8b96-1f27532bdb44",
   "metadata": {},
   "outputs": [],
   "source": []
  },
  {
   "cell_type": "code",
   "execution_count": null,
   "id": "08baf7c1-0e9f-4722-9980-777413ae237b",
   "metadata": {},
   "outputs": [],
   "source": []
  }
 ],
 "metadata": {
  "kernelspec": {
   "display_name": "Python 3 (ipykernel)",
   "language": "python",
   "name": "python3"
  },
  "language_info": {
   "codemirror_mode": {
    "name": "ipython",
    "version": 3
   },
   "file_extension": ".py",
   "mimetype": "text/x-python",
   "name": "python",
   "nbconvert_exporter": "python",
   "pygments_lexer": "ipython3",
   "version": "3.9.16"
  }
 },
 "nbformat": 4,
 "nbformat_minor": 5
}
