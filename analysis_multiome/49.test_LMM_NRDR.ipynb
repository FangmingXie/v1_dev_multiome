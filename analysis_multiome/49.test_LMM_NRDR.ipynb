{
 "cells": [
  {
   "cell_type": "code",
   "execution_count": null,
   "id": "30b97a56-8884-4718-a56d-fc8af8e882e7",
   "metadata": {},
   "outputs": [],
   "source": [
    "import pandas as pd\n",
    "import numpy as np\n",
    "import statsmodels.formula.api as smf\n",
    "from statsmodels.stats.multitest import multipletests\n",
    "import matplotlib.pyplot as plt\n",
    "import os\n",
    "\n",
    "import scanpy as sc\n",
    "import seaborn as sns\n",
    "\n",
    "from scroutines import basicu\n",
    "\n",
    "import warnings\n",
    "from statsmodels.tools.sm_exceptions import ConvergenceWarning\n",
    "from statsmodels.tools.sm_exceptions import ValueWarning\n",
    "from tqdm import tqdm"
   ]
  },
  {
   "cell_type": "code",
   "execution_count": null,
   "id": "73c49a5f-dcec-4483-8d8b-0221ec630727",
   "metadata": {
    "tags": []
   },
   "outputs": [],
   "source": [
    "outfigdir = '/u/home/f/f7xiesnm/project-zipursky/v1-bb/v1/results_nrdr_lmm'\n",
    "!mkdir $outfigdir"
   ]
  },
  {
   "cell_type": "code",
   "execution_count": null,
   "id": "7508e4b9-241a-42ea-9d4a-42d0a9220de0",
   "metadata": {
    "tags": []
   },
   "outputs": [],
   "source": [
    "sex_genes = [\n",
    "    \"Xist\",\n",
    "    \"Uty\",\n",
    "    \"Eif2s3y\",\n",
    "    \"Kdm5d\",\n",
    "    \"Ddx3y\",\n",
    "]\n",
    "\n",
    "f1 = '/u/home/f/f7xiesnm/project-zipursky/v1-bb/v1/data/v1_multiome/superdupermegaRNA_hasraw_multiome_l23.h5ad'\n",
    "# f2 = '/u/home/f/f7xiesnm/v1_multiome/multiome_cell_sex_assignment_saumya.csv'\n",
    "\n",
    "adata  = sc.read(f1)\n",
    "# df_sex = pd.read_csv(f2)\n",
    "# adata.obs = adata.obs.join(df_sex.set_index('cell'))\n",
    "adata.X = adata.raw.X\n",
    "adata = adata[:,~adata.var.index.str.contains(f'^mt')]\n",
    "adata = adata[:,[g for g in adata.var.index if g not in sex_genes]]\n",
    "\n",
    "genes = adata.var.index.values\n",
    "adata"
   ]
  },
  {
   "cell_type": "code",
   "execution_count": null,
   "id": "306da436-c271-45c7-9c27-44cfdae3c65b",
   "metadata": {
    "tags": []
   },
   "outputs": [],
   "source": [
    "%%time\n",
    "\n",
    "time = 'P21'\n",
    "exp_conds = [time, time+'DR']\n",
    "subclass  = 'L2/3'\n",
    "offset = 1e-2\n",
    "\n",
    "adatasub = adata[(adata.obs['Age'].isin(exp_conds)) & (adata.obs['Subclass']==subclass)]\n",
    "mat = np.array(adatasub.X.todense())/adatasub.obs['total_counts'].values.reshape(-1,1)*1e4\n",
    "logmat = np.log2(mat+1)\n",
    "\n",
    "logdf = pd.DataFrame(logmat, columns=np.char.add('g', np.arange(len(genes)).astype(str)), index=adatasub.obs.index)\n",
    "logdf = logdf.join(adatasub.obs[['Sample', 'Age']])\n",
    "print(logdf.shape)\n",
    "\n",
    "df = pd.DataFrame(mat, columns=np.char.add('g', np.arange(len(genes)).astype(str)), index=adatasub.obs.index)\n",
    "df = df.join(adatasub.obs[['Sample', 'Age']])\n",
    "print(df.shape)\n",
    "\n",
    "# FC (fast)\n",
    "df_mean = df.groupby(['Age']).mean(numeric_only=True)\n",
    "log2fc  = ( np.log2(df_mean.loc[exp_conds[1]]+offset)\n",
    "           -np.log2(df_mean.loc[exp_conds[0]]+offset)).values\n",
    "cond_fc = (np.abs(log2fc) > np.log2(2))\n",
    "print(exp_conds, subclass, cond_fc.sum()) # , genes[cond_fc])\n",
    "\n",
    "# formal test (slow)\n",
    "pvals = []\n",
    "for i in tqdm(range(len(genes))):\n",
    "    model = smf.mixedlm(f\"g{i} ~ Age\", df, groups=\"Sample\")\n",
    "    with warnings.catch_warnings():\n",
    "        warnings.simplefilter(\"ignore\") \n",
    "        # warnings.simplefilter(\"ignore\", ConvergenceWarning)\n",
    "        # warnings.simplefilter(\"ignore\", RuntimeWarning)\n",
    "        result = model.fit()\n",
    "\n",
    "    pval = result.pvalues[f'Age[T.{exp_conds[1]}]']\n",
    "    pvals.append(pval)\n",
    "\n",
    "pvals = np.nan_to_num(np.array(pvals), 1)\n",
    "rej, qvals, _, _ =  multipletests(pvals, alpha=0.05, method='fdr_bh')\n",
    "cond_both = np.logical_and(rej, cond_fc)\n",
    "\n",
    "print(time, subclass, genes[cond_both])\n",
    "# save results: exp_cond, subclass, genes, log2fc, qvals\n",
    "\n",
    "df_res = pd.DataFrame()\n",
    "df_res['gene'] = genes\n",
    "df_res['log2fc'] = log2fc\n",
    "df_res['qval'] = qvals\n",
    "output = os.path.join(outfigdir, f'NRDR_DEGs_LMM_{time}.csv')\n",
    "print(output)\n",
    "df_res.to_csv(output)\n"
   ]
  },
  {
   "cell_type": "code",
   "execution_count": null,
   "id": "66b3a6d6-f6f2-4fed-8c8d-2ded0e888fb8",
   "metadata": {},
   "outputs": [],
   "source": [
    "cond_both.sum()"
   ]
  },
  {
   "cell_type": "code",
   "execution_count": null,
   "id": "cf191f31-ced9-4078-8e9b-4bef0e854dda",
   "metadata": {
    "tags": []
   },
   "outputs": [],
   "source": [
    "df_res.set_index('gene').loc['Igsf9b']"
   ]
  }
 ],
 "metadata": {
  "kernelspec": {
   "display_name": "Python 3 (ipykernel)",
   "language": "python",
   "name": "python3"
  },
  "language_info": {
   "codemirror_mode": {
    "name": "ipython",
    "version": 3
   },
   "file_extension": ".py",
   "mimetype": "text/x-python",
   "name": "python",
   "nbconvert_exporter": "python",
   "pygments_lexer": "ipython3",
   "version": "3.9.16"
  }
 },
 "nbformat": 4,
 "nbformat_minor": 5
}
