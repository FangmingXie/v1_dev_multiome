{
 "cells": [
  {
   "cell_type": "code",
   "execution_count": null,
   "id": "bb214b6d-836a-49b8-93dd-a19f021215b7",
   "metadata": {
    "tags": []
   },
   "outputs": [],
   "source": [
    "import os\n",
    "import numpy as np\n",
    "import pandas as pd\n",
    "import scanpy as sc\n",
    "import anndata \n",
    "import seaborn as sns\n",
    "from scipy.stats import zscore\n",
    "import matplotlib.pyplot as plt\n",
    "import collections\n",
    "from natsort import natsorted\n",
    "\n",
    "from scipy import stats\n",
    "from scipy import sparse\n",
    "from sklearn.decomposition import PCA\n",
    "from umap import UMAP\n",
    "\n",
    "from matplotlib.colors import LinearSegmentedColormap\n",
    "\n",
    "from scroutines.config_plots import *\n",
    "from scroutines import powerplots # .config_plots import *\n",
    "from scroutines import pnmf\n",
    "from scroutines import basicu\n"
   ]
  },
  {
   "cell_type": "code",
   "execution_count": null,
   "id": "f45abc88-0cbc-4575-8035-9cb157c42bc2",
   "metadata": {},
   "outputs": [],
   "source": [
    "outdir_fig = \"/u/home/f/f7xiesnm/project-zipursky/v1-bb/v1/figures\""
   ]
  },
  {
   "cell_type": "markdown",
   "id": "b9abfb22-fb53-48f2-9f77-f9280453cdd8",
   "metadata": {},
   "source": [
    "# load gene annotation and data"
   ]
  },
  {
   "cell_type": "code",
   "execution_count": null,
   "id": "012e0c55-888e-43b8-bb75-846ef63d3f26",
   "metadata": {
    "tags": []
   },
   "outputs": [],
   "source": [
    "# AC genes\n",
    "f = '/u/home/f/f7xiesnm/project-zipursky/v1-bb/v1/data/v1_multiome/Saumya_P6-21_AC_genes.csv'\n",
    "df = pd.read_csv(f)\n",
    "\n",
    "df_a = df.iloc[:25]\n",
    "df_c = df.iloc[25:]\n",
    "\n",
    "alltime_a = np.unique(df_a.values)\n",
    "alltime_c = np.unique(df_c.values)\n",
    "alltime_ac = np.hstack([alltime_a, alltime_c])\n",
    "\n",
    "ac_overlap = np.intersect1d(alltime_a, alltime_c)\n",
    "\n",
    "print(df_a.shape, df_c.shape, alltime_a.shape, alltime_c.shape, alltime_ac.shape, ac_overlap.shape)\n",
    "df.head()"
   ]
  },
  {
   "cell_type": "code",
   "execution_count": null,
   "id": "fb72ade4-5ddd-4d8d-9d66-847375e16845",
   "metadata": {},
   "outputs": [],
   "source": [
    "# use those 286 genes\n",
    "# df = pd.read_csv(\"../../data/cheng21_cell_scrna/res/candidate_genes_vincent_0503_v2.csv\")\n",
    "df = pd.read_csv(\"../../data/cheng21_cell_scrna/res/L23-ABC-genes-n288-n286unq-annot.csv\")\n",
    "genes_l23 = df['gene'].astype(str).values\n",
    "genes_l23a = df[df['P17on']=='A']['gene'].astype(str).values\n",
    "genes_l23b = df[df['P17on']=='B']['gene'].astype(str).values\n",
    "genes_l23c = df[df['P17on']=='C']['gene'].astype(str).values\n",
    "\n",
    "print(genes_l23a.shape, genes_l23b.shape, genes_l23c.shape)\n",
    "genes_grp = df['P17on'].astype(str).values\n",
    "assert len(genes_l23) == len(np.unique(genes_l23))\n",
    "\n",
    "genes_l23.shape"
   ]
  },
  {
   "cell_type": "code",
   "execution_count": null,
   "id": "8542eec8-b8e1-4a35-9237-0d3c0043349b",
   "metadata": {},
   "outputs": [],
   "source": [
    "adata = anndata.read(\"../../data/v1_multiome/L23_allmultiome_raw.h5ad\")\n",
    "adata"
   ]
  },
  {
   "cell_type": "code",
   "execution_count": null,
   "id": "c715643c-0748-414c-b477-4294cb85b5cc",
   "metadata": {
    "tags": []
   },
   "outputs": [],
   "source": [
    "sample_labels = [\"-\".join(cell.split(' ')[0].split('-')[2:]).replace('-2023', '') for cell in adata.obs.index]\n",
    "time_labels = [s[:-1].replace('DR', '') for s in sample_labels]\n",
    "\n",
    "adata.obs['n_counts'] = adata.obs['nCount_RNA']\n",
    "adata.obs['sample'] = sample_labels\n",
    "adata.obs['time']   = time_labels\n",
    "\n",
    "uniq_samples = natsorted(np.unique(sample_labels))\n",
    "uniq_times = natsorted(np.unique(time_labels))\n",
    "\n",
    "nr_samples = [s for s in uniq_samples if \"DR\" not in s]\n",
    "dr_samples = [s for s in uniq_samples if \"DR\" in s]\n",
    "print(uniq_times)\n",
    "print(nr_samples)\n",
    "print(dr_samples)\n",
    "\n",
    "# adata.obs['sample'] = sample_labels"
   ]
  },
  {
   "cell_type": "code",
   "execution_count": null,
   "id": "4d9ae16c-9107-4acd-8405-fbcd84bd8e0d",
   "metadata": {
    "tags": []
   },
   "outputs": [],
   "source": [
    "# select samples\n",
    "adata = adata[adata.obs['sample'].isin(nr_samples)]\n",
    "adata = adata[adata.obs['time'].isin(['P6', 'P8', 'P10', 'P12', 'P14', 'P17', 'P21'])]\n",
    "adata.obs['cond'] = adata.obs['time']\n",
    "\n",
    "# remove mitocondria genes\n",
    "adata = adata[:,~adata.var['features'].str.contains(r'^mt-')]\n",
    "\n",
    "# select\n",
    "# adata = adata[adata.obs['cond'].str.contains(r\"NR$\")]\n",
    "adata.obs['sample'].unique(), adata.obs['cond'].unique()"
   ]
  },
  {
   "cell_type": "code",
   "execution_count": null,
   "id": "4909ea27-eafc-4571-aee4-afb718a5a171",
   "metadata": {
    "tags": []
   },
   "outputs": [],
   "source": [
    "# define\n",
    "# genes = adata.var.index.values\n",
    "conds = adata.obs['cond'].values\n",
    "types = adata.obs['Type'].values\n",
    "samps = adata.obs['sample'].values\n",
    "\n",
    "# organize\n",
    "rename = {\n",
    "    \"L2/3_A\": \"L2/3_A\",\n",
    "    \"L2/3_B\": \"L2/3_B\",\n",
    "    \"L2/3_C\": \"L2/3_C\",\n",
    "    \n",
    "    \"L2/3_1\": \"L2/3_A\",\n",
    "    \"L2/3_2\": \"L2/3_B\",\n",
    "    \"L2/3_3\": \"L2/3_C\",\n",
    "    \n",
    "    \"L2/3_AB\": \"L2/3_A\",\n",
    "    \"L2/3_BC\": \"L2/3_C\",\n",
    "}\n",
    "adata.obs['easitype'] = adata.obs['Type'] #.apply(lambda x: rename[x])\n",
    "adata"
   ]
  },
  {
   "cell_type": "code",
   "execution_count": null,
   "id": "5a7d34aa-74e8-41ce-8443-42f08af5c5d4",
   "metadata": {
    "tags": []
   },
   "outputs": [],
   "source": [
    "adata.obs['Type'].unique()"
   ]
  },
  {
   "cell_type": "code",
   "execution_count": null,
   "id": "1fadd441-11aa-49ab-abcc-d8d5e9cf47ea",
   "metadata": {},
   "outputs": [],
   "source": [
    "# filter genes\n",
    "cond = np.ravel((adata.X>0).sum(axis=0)) > 10 # expressed in more than 10 cells\n",
    "adata = adata[:,cond].copy()\n",
    "genes = adata.var.index.values\n",
    "\n",
    "# counts\n",
    "x = adata.X\n",
    "cov = adata.obs['n_counts'].values\n",
    "genes = adata.var.index.values\n",
    "\n",
    "# CP10k\n",
    "# xn = x/cov.reshape(x.shape[0], -1)*1e4\n",
    "xn = (sparse.diags(1/cov).dot(x))*1e4\n",
    "\n",
    "# log10(CP10k+1)\n",
    "xln = xn.copy()\n",
    "xln.data = np.log10(xln.data+1)\n",
    "\n",
    "adata.layers[    'norm'] = np.array(xn.todense())\n",
    "adata.layers[ 'lognorm'] = np.array(xln.todense())\n",
    "adata.layers['zlognorm'] = zscore(np.array(xln.todense()), axis=0)"
   ]
  },
  {
   "cell_type": "code",
   "execution_count": null,
   "id": "ee38a818-ddf9-4cac-9cd5-995cc8c92699",
   "metadata": {},
   "outputs": [],
   "source": [
    "# select HVGs with mean and var\n",
    "nbin = 20\n",
    "qth = 0.3\n",
    "\n",
    "# min\n",
    "gm = np.ravel(xn.mean(axis=0))\n",
    "\n",
    "# var\n",
    "tmp = xn.copy()\n",
    "tmp.data = np.power(tmp.data, 2)\n",
    "gv = np.ravel(tmp.mean(axis=0))-gm**2\n",
    "\n",
    "# cut \n",
    "lbl = pd.qcut(gm, nbin, labels=np.arange(nbin))\n",
    "gres = pd.DataFrame()\n",
    "gres['name'] = genes\n",
    "gres['lbl'] = lbl\n",
    "gres['mean'] = gm\n",
    "gres['var'] = gv\n",
    "gres['ratio']= gv/gm\n",
    "\n",
    "# select\n",
    "gres_sel = gres.groupby('lbl')['ratio'].nlargest(int(qth*(len(gm)/nbin))) #.reset_index()\n",
    "gsel_idx = np.sort(gres_sel.index.get_level_values(1).values)\n",
    "assert np.all(gsel_idx != -1)\n"
   ]
  },
  {
   "cell_type": "code",
   "execution_count": null,
   "id": "4ac784ef-dea4-45da-8de5-91ea3d0d8f4a",
   "metadata": {
    "tags": []
   },
   "outputs": [],
   "source": [
    "# gsel_idx = np.union1d(gsel_idx, gaba_idx)\n",
    "\n",
    "# # \n",
    "l23_gidx = basicu.get_index_from_array(genes, genes_l23)\n",
    "l23_gidx = l23_gidx[l23_gidx!=-1]\n",
    "assert np.all(l23_gidx != -1)"
   ]
  },
  {
   "cell_type": "code",
   "execution_count": null,
   "id": "ea683c02-56eb-48f3-9904-29f72e678735",
   "metadata": {},
   "outputs": [],
   "source": [
    "fig, axs = plt.subplots(1,2, figsize=(6*2,4), sharex=True, sharey=True)\n",
    "ax = axs[0]\n",
    "ax.scatter(gm, gv/gm, s=5, edgecolor='none', color='gray')\n",
    "ax.set_xscale('log')\n",
    "ax.set_yscale('log')\n",
    "ax.set_xlabel('mean expr (CP10k)')\n",
    "ax.set_ylabel('var/mean')\n",
    "ax.set_title(f'{len(gm):,} genes')\n",
    "\n",
    "ax = axs[1]\n",
    "ax.scatter(gm, gv/gm, s=5, edgecolor='none', color='gray')\n",
    "ax.scatter(gm[gsel_idx], (gv/gm)[gsel_idx], c=lbl[gsel_idx], s=5, edgecolor='none', cmap='viridis_r', label=f'{len(gsel_idx):,} HVGs')\n",
    "# ax.scatter(gm[l23_gidx], (gv/gm)[l23_gidx], s=5, facecolors='none', edgecolor='C0', label='L2/3 type genes')\n",
    "# ax.scatter(gm[it_gidx], (gv/gm)[it_gidx], s=5, facecolors='none', edgecolor='C1', label='IT genes')\n",
    "ax.set_xscale('log')\n",
    "ax.set_yscale('log')\n",
    "ax.set_xlabel('mean expr (CP10k)')\n",
    "ax.set_ylabel('var/mean')\n",
    "ax.legend(bbox_to_anchor=(1,1))\n",
    "\n",
    "plt.show()"
   ]
  },
  {
   "cell_type": "code",
   "execution_count": null,
   "id": "7458e414-71f8-499b-884a-c51fc4d863ea",
   "metadata": {
    "tags": []
   },
   "outputs": [],
   "source": [
    "lognorm_full = np.array(adata.layers['lognorm'])\n",
    "zlognorm_full = np.array(adata.layers['zlognorm'])\n",
    "zlognorm_full.shape"
   ]
  },
  {
   "cell_type": "code",
   "execution_count": null,
   "id": "5966475c-d746-4ac0-8318-0a067e99a02f",
   "metadata": {},
   "outputs": [],
   "source": [
    "adata_sub = adata[:,l23_gidx]\n",
    "genes_sel = adata_sub.var.index.values\n",
    "\n",
    "lognorm = np.array(adata_sub.layers['lognorm'])\n",
    "zlognorm = np.array(adata_sub.layers['zlognorm'])\n",
    "zlognorm.shape"
   ]
  },
  {
   "cell_type": "code",
   "execution_count": null,
   "id": "b8db6d89-2c84-4360-85c3-d3f400af66b6",
   "metadata": {
    "tags": []
   },
   "outputs": [],
   "source": [
    "adata_p8 = adata_sub[adata_sub.obs['cond'].isin(['P8'])]\n",
    "lognorm_p8 = np.array(adata_p8.layers['lognorm'])\n",
    "zlognorm_p8 = np.array(adata_p8.layers['zlognorm'])\n",
    "\n",
    "pca = PCA(n_components=10)\n",
    "pca.fit(zlognorm_p8)\n",
    "pcs_p8 = pca.transform(zlognorm)\n",
    "\n",
    "pcs_p8[:,0] = -pcs_p8[:,0] # flip PC1\n",
    "pcs_p8[:,2] = -pcs_p8[:,2] # flip PC3\n",
    "\n",
    "adata_p17on = adata_sub[adata_sub.obs['cond'].isin(['P17', 'P21', 'P28'])]\n",
    "lognorm_p17on = np.array(adata_p17on.layers['lognorm'])\n",
    "zlognorm_p17on = np.array(adata_p17on.layers['zlognorm'])\n",
    "\n",
    "pca2 = PCA(n_components=10)\n",
    "pca2.fit(zlognorm_p17on)\n",
    "pcs_p17on = pca2.transform(zlognorm)\n",
    "\n",
    "pcs_p17on[:,1] = -pcs_p17on[:,1] # flip PC2\n",
    "\n",
    "# ucs = UMAP(n_components=2, n_neighbors=50).fit_transform(pcs)"
   ]
  },
  {
   "cell_type": "code",
   "execution_count": null,
   "id": "0a051129-b302-42ed-9d4a-445fa39d1bf7",
   "metadata": {
    "tags": []
   },
   "outputs": [],
   "source": [
    "vt = pca.components_\n",
    "topgenes_p8_pc1 = genes_sel[np.argsort(np.abs(vt[0]))[::-1]]\n",
    "print(topgenes_p8_pc1[:10])\n",
    "\n",
    "topgenes_p8_pc2 = genes_sel[np.argsort(np.abs(vt[1]))[::-1]]\n",
    "print(topgenes_p8_pc2[:10])\n",
    "\n",
    "topgenes_p8_pc3 = genes_sel[np.argsort(np.abs(vt[2]))[::-1]]\n",
    "print(topgenes_p8_pc3[:10])\n",
    "\n",
    "# np.sort(np.abs(vt[3]))[::-1]"
   ]
  },
  {
   "cell_type": "code",
   "execution_count": null,
   "id": "27c43506-227d-4d53-a3b8-e4e0acdcd49a",
   "metadata": {
    "tags": []
   },
   "outputs": [],
   "source": [
    "genes_sel[np.argsort(np.abs(vt[1]))[::-1]]\n",
    "np.unique(genes_sel).shape"
   ]
  },
  {
   "cell_type": "code",
   "execution_count": null,
   "id": "d37e6002-8dc8-4885-a073-8026985f1e9a",
   "metadata": {
    "tags": []
   },
   "outputs": [],
   "source": [
    "# # fix pc1 to make sure a < c:\n",
    "# pc1 = pcs[:,0]\n",
    "# pc_types, unq_types = basicu.group_mean(pc1.reshape(-1,1), types)\n",
    "# a = pc_types[0,0]\n",
    "# c = pc_types[-1,0]\n",
    "# if a > c:\n",
    "#     pcs[:,0] = -pcs[:,0]"
   ]
  },
  {
   "cell_type": "code",
   "execution_count": null,
   "id": "2710199e-e053-41b4-9838-dc1f261e1b22",
   "metadata": {
    "tags": []
   },
   "outputs": [],
   "source": [
    "res1 = pd.DataFrame(pcs_p8, columns=np.char.add(\"p8PC\", ((1+np.arange(pcs_p8.shape[1])).astype(str))))\n",
    "res1['cond'] = conds\n",
    "res1['type'] = types\n",
    "res1['samp'] = samps\n",
    "res1['rep']  = [samp[-1] for samp in samps]\n",
    "\n",
    "\n",
    "# res00 = pd.DataFrame(zlognorm_full, columns=np.char.add(adata.var.index.values.astype(str), '_full'))\n",
    "res0 = pd.DataFrame(zlognorm_full, columns=genes)#  genes_sel)\n",
    "res2 = pd.DataFrame(pcs_p17on, columns=np.char.add(\"p17onPC\", ((1+np.arange(pcs_p17on.shape[1])).astype(str))))\n",
    "res = pd.concat([res0, res1, res2], axis=1)\n",
    "res['type'] = np.char.add('c', res['type'].values.astype(str))"
   ]
  },
  {
   "cell_type": "code",
   "execution_count": null,
   "id": "b65a87b1-5280-4cd4-a930-8089cc06e15a",
   "metadata": {
    "tags": []
   },
   "outputs": [],
   "source": [
    "fig, ax = plt.subplots(figsize=(6,4))\n",
    "ax.plot(np.arange(len(pca.explained_variance_ratio_))+1, pca.explained_variance_ratio_, '-o', markersize=5)\n",
    "ax.plot(np.arange(len(pca2.explained_variance_ratio_))+1, pca2.explained_variance_ratio_, '-o', markersize=5)\n",
    "ax.axhline(1/lognorm.shape[1], linestyle='--', color='gray')\n",
    "ax.set_xlabel('PC')\n",
    "ax.set_ylabel('explained var')"
   ]
  },
  {
   "cell_type": "code",
   "execution_count": null,
   "id": "7d39cdaa-ad88-4aa2-8313-5ee56c0f37e8",
   "metadata": {
    "tags": []
   },
   "outputs": [],
   "source": [
    "allcolors = sns.color_palette('tab20c', 20)\n",
    "allcolors"
   ]
  },
  {
   "cell_type": "code",
   "execution_count": null,
   "id": "b9738b71-19bb-4e6d-ba3d-e38215a3347b",
   "metadata": {
    "tags": []
   },
   "outputs": [],
   "source": [
    "allcolors2 = sns.color_palette('tab10', 20)\n",
    "allcolors2"
   ]
  },
  {
   "cell_type": "code",
   "execution_count": null,
   "id": "3e8e4d75-2d87-4c0a-a809-43053850bc71",
   "metadata": {
    "tags": []
   },
   "outputs": [],
   "source": [
    "palette = collections.OrderedDict({\n",
    "     \"P6\": allcolors[2],\n",
    "     \"P8\": allcolors[1],\n",
    "    \"P10\": allcolors[0],\n",
    "    \"P12\": allcolors[4+2],\n",
    "    \"P14\": allcolors[4+0],\n",
    "    \n",
    "    \"P17\": allcolors[8+2],\n",
    "    \"P21\": allcolors[8+0],\n",
    "    # \"P28NR\": allcolors[5],\n",
    "    # \"P38NR\": allcolors[4],\n",
    "    \n",
    "})\n",
    "\n",
    "palette_types = collections.OrderedDict({\n",
    "    'L2/3_A': allcolors2[0],\n",
    "    'L2/3_B': allcolors2[1],\n",
    "    'L2/3_C': allcolors2[2],\n",
    "    \n",
    "    'L2/3_1': allcolors2[0],\n",
    "    'L2/3_2': allcolors2[1],\n",
    "    'L2/3_3': allcolors2[2],\n",
    "    \n",
    "    'L2/3_AB': allcolors2[0],\n",
    "    'L2/3_BC': allcolors2[2],\n",
    "})             \n",
    "\n",
    "palette_types = {\n",
    "    'c14': 'C0', \n",
    "    'c18': 'C1',\n",
    "    'c16': 'C2', \n",
    "    \n",
    "    'c13': 'C0', \n",
    "    'c15': 'C1', \n",
    "    'c17': 'C2',\n",
    "}\n",
    "type_order = [key for key, val in palette_types.items()]\n",
    "type_order\n",
    "\n",
    "cases = np.array(list(palette.keys()))"
   ]
  },
  {
   "cell_type": "code",
   "execution_count": null,
   "id": "01b3dc85-3f78-41d5-9296-07c2f55fe6d7",
   "metadata": {
    "tags": []
   },
   "outputs": [],
   "source": [
    "fig, ax = plt.subplots(figsize=(1,4))\n",
    "for i, (key, item) in enumerate(palette.items()):\n",
    "    ax.plot(0,     len(palette)-i, 'o', c=item, )\n",
    "    ax.text(0.02,  len(palette)-i, key, va='center', fontsize=15)\n",
    "    ax.axis('off')\n",
    "plt.show()"
   ]
  },
  {
   "cell_type": "code",
   "execution_count": null,
   "id": "2049f5e8-35f0-4169-836f-262a1b9cb447",
   "metadata": {
    "tags": []
   },
   "outputs": [],
   "source": [
    "from scipy import stats\n",
    "from matplotlib.ticker import MaxNLocator\n",
    "\n",
    "\n",
    "def plot(x, y, aspect_equal=False, density=False, hue='type'):\n",
    "    n = 7\n",
    "    fig, axs = plt.subplots(1,n,figsize=(4*n,4*1), sharex=True, sharey=True)\n",
    "    for i, (ax, cond) in enumerate(zip(axs.flat, cases)):\n",
    "        ax.set_title(cond)\n",
    "        sns.scatterplot(data=res, \n",
    "                        x=x, y=y, \n",
    "                        c='lightgray',\n",
    "                        s=1, edgecolor='none', \n",
    "                        legend=False,\n",
    "                        ax=ax,\n",
    "                       )\n",
    "        if hue == 'type':\n",
    "            sns.scatterplot(data=res[res['cond']==cond].sample(frac=1, replace=False),\n",
    "                            x=x, y=y, \n",
    "                            hue='type',\n",
    "                            hue_order=list(palette_types.keys()),\n",
    "                            palette=palette_types,\n",
    "                            s=3, edgecolor='none', \n",
    "                            legend=False,\n",
    "                            ax=ax,\n",
    "                           )\n",
    "        else:\n",
    "            sns.scatterplot(data=res[res['cond']==cond].sample(frac=1, replace=False),\n",
    "                            x=x, y=y, \n",
    "                            hue='rep',\n",
    "                            # hue_order=list(palette_types.keys()),\n",
    "                            # palette=palette_types,\n",
    "                            s=3, edgecolor='none', \n",
    "                            legend=False,\n",
    "                            ax=ax,\n",
    "                           )\n",
    "            \n",
    "        if density:\n",
    "            sns.histplot(data=res[res['cond']==cond],\n",
    "                            x=x, y=y, \n",
    "                            legend=False,\n",
    "                            ax=ax,\n",
    "                           )\n",
    "        sns.despine(ax=ax)\n",
    "        ax.xaxis.set_major_locator(MaxNLocator(nbins=3))\n",
    "        ax.yaxis.set_major_locator(MaxNLocator(nbins=3))\n",
    "        if aspect_equal:\n",
    "            ax.set_aspect('equal')\n",
    "        if i > 0:\n",
    "            ax.set_xlabel('')\n",
    "            ax.set_ylabel('')\n",
    "    plt.show()\n",
    "    \n",
    "def plot2(x, y, hue=None, aspect_equal=False):\n",
    "    n = 7\n",
    "    fig, axs = plt.subplots(1,n,figsize=(4*n,4*1), sharex=True, sharey=True)\n",
    "    fig.suptitle(hue, x=0, ha='left')\n",
    "    for i, (ax, cond) in enumerate(zip(axs.flat, cases)):\n",
    "        ax.set_title(cond)\n",
    "        sns.scatterplot(data=res, \n",
    "                        x=x, y=y, \n",
    "                        c='lightgray',\n",
    "                        alpha=0.3,\n",
    "                        s=1, edgecolor='none', \n",
    "                        legend=False,\n",
    "                        ax=ax,\n",
    "                       )\n",
    "        show = res[res['cond']==cond]\n",
    "        if hue:\n",
    "            ax.scatter(show[x], show[y], c=show[hue], \n",
    "                       cmap='coolwarm',\n",
    "                       vmin=-3, vmax=3,\n",
    "                       s=5, \n",
    "                       edgecolor='none', \n",
    "                      )\n",
    "        else:\n",
    "            r, p = stats.spearmanr(show[x], show[y])\n",
    "            ax.scatter(show[x], show[y],  \n",
    "                       s=5, \n",
    "                       edgecolor='none', \n",
    "                      )\n",
    "            ax.set_title(f'{cond}\\n r={r:.2f}')\n",
    "        sns.despine(ax=ax)\n",
    "        ax.xaxis.set_major_locator(MaxNLocator(nbins=3))\n",
    "        ax.yaxis.set_major_locator(MaxNLocator(nbins=3))\n",
    "        if aspect_equal:\n",
    "            ax.set_aspect('equal')\n",
    "        if i > 0:\n",
    "            ax.set_xlabel('')\n",
    "            ax.set_ylabel('')\n",
    "        ax.grid(False)\n",
    "    fig.tight_layout()\n",
    "    plt.show()"
   ]
  },
  {
   "cell_type": "markdown",
   "id": "f16c382c-db9d-46f5-a0ad-c3eae7ca6b8a",
   "metadata": {},
   "source": [
    "# Plot A vs C genes aligning cells along early vs late PCs"
   ]
  },
  {
   "cell_type": "code",
   "execution_count": null,
   "id": "092f2cfa-1238-4fb1-b42d-13921e417816",
   "metadata": {
    "tags": []
   },
   "outputs": [],
   "source": [
    "plot('p17onPC1', 'p17onPC2', aspect_equal=True)\n",
    "plot('p8PC1', 'p8PC2', aspect_equal=True)\n",
    "plot('p8PC1', 'p8PC3', aspect_equal=True)"
   ]
  },
  {
   "cell_type": "code",
   "execution_count": null,
   "id": "e2c99d85-9c6c-431d-a506-e73725290d7a",
   "metadata": {
    "tags": []
   },
   "outputs": [],
   "source": [
    "# genes_viz = ['Pcdh19', 'Pcdh9', 'Pcdh15']\n",
    "\n",
    "genes_viz = ['Rfx3', 'Cux1', \n",
    "             'Meis2', 'Nfib', \n",
    "             'Foxp1', 'Tox', \n",
    "             'Rora',]\n",
    "for g in genes_viz:\n",
    "    plot2('p17onPC1', 'p17onPC2', hue=g, aspect_equal=True)\n",
    "    \n",
    "# for g in genes_viz:\n",
    "#     plot2('p8PC1', 'p8PC2', hue=g, aspect_equal=True)"
   ]
  },
  {
   "cell_type": "code",
   "execution_count": null,
   "id": "a89334ae-c257-497c-9f0e-2b1cb971159d",
   "metadata": {
    "tags": []
   },
   "outputs": [],
   "source": [
    "for g in genes_viz:\n",
    "    plot2('p8PC1', 'p8PC2', hue=g, aspect_equal=True)"
   ]
  },
  {
   "cell_type": "code",
   "execution_count": null,
   "id": "c1609720-68e2-4c97-a1f2-a766d732b327",
   "metadata": {},
   "outputs": [],
   "source": []
  },
  {
   "cell_type": "code",
   "execution_count": null,
   "id": "0a4e6ea0-0d1e-4549-af3c-797459bec30e",
   "metadata": {},
   "outputs": [],
   "source": []
  },
  {
   "cell_type": "code",
   "execution_count": null,
   "id": "3b434ab5-23c8-4d8a-9f45-604c5a5b29ee",
   "metadata": {},
   "outputs": [],
   "source": []
  },
  {
   "cell_type": "markdown",
   "id": "be23799d-267a-4c93-b10d-54ac90e73050",
   "metadata": {},
   "source": [
    "# Plot A vs C genes for all cells (heatmap) ordered along PC17on"
   ]
  },
  {
   "cell_type": "code",
   "execution_count": null,
   "id": "b2798d65-c41f-4e74-88f0-0ea4479c68fc",
   "metadata": {
    "tags": []
   },
   "outputs": [],
   "source": [
    "sample_order_dict = {\n",
    "     'P6': 1,\n",
    "     'P8': 2,\n",
    "    'P10': 3,\n",
    "    'P12': 4,\n",
    "    'P14': 5,\n",
    "    'P17': 6,\n",
    "    'P21': 7,\n",
    "} \n",
    "\n",
    "res['sample_order'] = res['cond'].apply(lambda x: sample_order_dict[x])\n",
    "cols = np.hstack(['cond', 'sample_order', 'p17onPC1', alltime_a, alltime_c])\n",
    "ressub = res[cols].sort_values(['sample_order', 'p17onPC1'])\n",
    "ressub"
   ]
  },
  {
   "cell_type": "code",
   "execution_count": null,
   "id": "a1575602-0299-428b-b55a-9a8ed9d91a83",
   "metadata": {
    "tags": []
   },
   "outputs": [],
   "source": [
    "num_cells_cumsum = np.cumsum(ressub['cond'].value_counts(sort=False))\n",
    "num_cells_cumsum_shift = pd.Series(np.hstack([0, num_cells_cumsum.values[:-1]]), index=num_cells_cumsum.index)\n",
    "num_cells_cumsum_shift"
   ]
  },
  {
   "cell_type": "markdown",
   "id": "b20640d6-f418-412d-bf7a-7075860d990f",
   "metadata": {},
   "source": [
    "# rank genes by peak expression"
   ]
  },
  {
   "cell_type": "code",
   "execution_count": null,
   "id": "33101add-f20f-4e85-9fc8-865efac3193f",
   "metadata": {
    "tags": []
   },
   "outputs": [],
   "source": [
    "from sklearn.cluster import KMeans\n",
    "def assign_ordered_gene_cluster(mat, k, direction=1):\n",
    "    # assign gene clusters, and get centroids\n",
    "    np.random.seed(0)\n",
    "    kmeans = KMeans(n_clusters=k, n_init=10)\n",
    "    labels = kmeans.fit_predict(mat)\n",
    "    cntrds = kmeans.cluster_centers_\n",
    "\n",
    "    # give centroids a meaningful order / name (PCA)\n",
    "    cntrds_order_pca = np.argsort(direction*PCA(n_components=1, random_state=0).fit_transform(cntrds)[:,0])\n",
    "    old2new_labels = np.zeros(k).astype(int)\n",
    "    old2new_labels[cntrds_order_pca] = np.arange(k)\n",
    "    \n",
    "    newlabels = old2new_labels[labels]\n",
    "    newcntrds = cntrds[cntrds_order_pca]\n",
    "    \n",
    "    return newlabels, newcntrds\n",
    "\n",
    "def get_shifted_cumsum(labels):\n",
    "    return np.hstack([0, np.cumsum(np.unique(labels, return_counts=True)[1])[:-1]])"
   ]
  },
  {
   "cell_type": "code",
   "execution_count": null,
   "id": "f5f269ea-6c6d-44cf-baee-0f3923f98e3e",
   "metadata": {
    "tags": []
   },
   "outputs": [],
   "source": [
    "mat_a = ressub[np.hstack([alltime_a, []])].T\n",
    "labels_a, cntrds_a = assign_ordered_gene_cluster(mat_a, 3, direction=-1)\n",
    "cumsum_a = get_shifted_cumsum(labels_a)\n",
    "\n",
    "mat_c = ressub[np.hstack([alltime_c, []])].T\n",
    "labels_c, cntrds_c = assign_ordered_gene_cluster(mat_c, 3, direction=1)\n",
    "cumsum_c = get_shifted_cumsum(labels_c)\n",
    "\n",
    "# check this\n",
    "sns.heatmap(cntrds_a, \n",
    "            cmap='coolwarm', vmax=1, vmin=-1)\n",
    "plt.show()\n",
    "\n",
    "sns.heatmap(cntrds_c, \n",
    "            cmap='coolwarm', vmax=1, vmin=-1)\n",
    "plt.show()"
   ]
  },
  {
   "cell_type": "code",
   "execution_count": null,
   "id": "37117ced-c27c-4221-8ed8-ab2dee955ea0",
   "metadata": {
    "tags": []
   },
   "outputs": [],
   "source": [
    "fig, axs = plt.subplots(2,1,figsize=(25,12))\n",
    "ax = axs[0]\n",
    "matshow = mat_a.iloc[np.argsort(labels_a)]\n",
    "gene_cumsum = cumsum_a\n",
    "sns.heatmap(matshow, \n",
    "            vmax=3, vmin=-3, cmap='coolwarm', \n",
    "            xticklabels=False, \n",
    "            yticklabels=True, \n",
    "            cbar_kws=dict(shrink=0.5),\n",
    "            ax=ax,\n",
    "           )\n",
    "ax.set_yticklabels(ax.get_yticklabels(), fontsize=5)\n",
    "for cond, num_cell in num_cells_cumsum_shift.items():\n",
    "    ax.text(num_cell, 0, cond) \n",
    "    ax.axvline(num_cell, color='k', linewidth=1, linestyle='--')\n",
    "for num in gene_cumsum:\n",
    "    ax.axhline(num, color='k', linewidth=1, linestyle='--')\n",
    "ax.set_ylabel('A genes')\n",
    "    \n",
    "ax = axs[1]\n",
    "matshow = mat_c.iloc[np.argsort(labels_c)]\n",
    "gene_cumsum = cumsum_c\n",
    "sns.heatmap(matshow, \n",
    "            vmax=3, vmin=-3, cmap='coolwarm', \n",
    "            xticklabels=False, \n",
    "            yticklabels=True, \n",
    "            cbar_kws=dict(shrink=0.5),\n",
    "            ax=ax,\n",
    "           )\n",
    "ax.set_yticklabels(ax.get_yticklabels(), fontsize=5)\n",
    "for cond, num_cell in num_cells_cumsum_shift.items():\n",
    "    ax.axvline(num_cell, color='k', linewidth=1, linestyle='--')\n",
    "for num in gene_cumsum:\n",
    "    ax.axhline(num, color='k', linewidth=1, linestyle='--')\n",
    "ax.set_ylabel('C genes')\n",
    "\n",
    "fig.subplots_adjust(hspace=0.01)\n",
    "plt.show()"
   ]
  },
  {
   "cell_type": "markdown",
   "id": "0a049ca8-e80c-4a30-a641-8957afc93ec2",
   "metadata": {},
   "source": [
    "# Annot the matrix\n"
   ]
  },
  {
   "cell_type": "code",
   "execution_count": null,
   "id": "516a31fc-2fa7-4aac-a175-0b1620a671c6",
   "metadata": {
    "tags": []
   },
   "outputs": [],
   "source": [
    "annots = {}\n",
    "\n",
    "f = '/u/home/f/f7xiesnm/project-zipursky/v1-bb/v1/data/annot/Mus_musculus_TF.txt'\n",
    "annot = pd.read_csv(f, sep='\\t')\n",
    "annots['tf'] = annot['Symbol'].values\n",
    "\n",
    "f = '/u/home/f/f7xiesnm/project-zipursky/v1-bb/v1/data/annot/genes_cadherins.txt'\n",
    "annot = pd.read_csv(f, sep='\\t')\n",
    "annots['cad'] = annot['Approved symbol'].apply(lambda x: x[0]+x[1:].lower()).values\n",
    "\n",
    "f = '/u/home/f/f7xiesnm/project-zipursky/v1-bb/v1/data/annot/genes_igsf.txt'\n",
    "annot = pd.read_csv(f, sep='\\t')\n",
    "annots['igsf'] = annot['Approved symbol'].apply(lambda x: x[0]+x[1:].lower()).values\n",
    "\n",
    "f = '/u/home/f/f7xiesnm/project-zipursky/v1-bb/v1/data/annot/genes_ephephrins.txt'\n",
    "annot = pd.read_csv(f, sep='\\t')\n",
    "annots['eph'] = annot['Approved symbol'].apply(lambda x: x[0]+x[1:].lower()).values\n",
    "\n",
    "f = '/u/home/f/f7xiesnm/project-zipursky/v1-bb/v1/data/annot/genes_gpcr.txt'\n",
    "annot = pd.read_csv(f, sep='\\t')\n",
    "annots['gpcr'] = annot['Approved symbol'].apply(lambda x: x[0]+x[1:].lower()).values\n",
    "\n",
    "f = '/u/home/f/f7xiesnm/project-zipursky/v1-bb/v1/data/annot/genes_ion_channels.txt'\n",
    "annot = pd.read_csv(f, sep='\\t')\n",
    "annots['channel'] = annot['Approved symbol'].apply(lambda x: x[0]+x[1:].lower()).values\n",
    "annots\n"
   ]
  },
  {
   "cell_type": "code",
   "execution_count": null,
   "id": "f4c0c518-79ca-439a-9c51-0eccd3ab40e8",
   "metadata": {
    "tags": []
   },
   "outputs": [],
   "source": [
    "# # add annot\n",
    "# for i, g in enumerate(matshow.index):\n",
    "#     if g in annots['tf']:\n",
    "#         ycolors[i] = 'blue'\n",
    "#         # ax.text(0,i,g, ha='right', color='blue')\n",
    "\n",
    "\n",
    "def recolor_yticks(ax, candidates, color, fontsize=None):\n",
    "    \"\"\"\n",
    "    \"\"\"\n",
    "    # Get the current tick labels\n",
    "    yticks = ax.get_yticklabels()\n",
    "\n",
    "    # Apply colors to the y-tick labels\n",
    "    for tick in yticks:\n",
    "        text = tick.get_text()\n",
    "        if text in candidates:\n",
    "            tick.set_color(color)\n",
    "            tick.set_fontsize(fontsize)\n",
    "            \n",
    "    return ax\n"
   ]
  },
  {
   "cell_type": "code",
   "execution_count": null,
   "id": "5fa806b0-12d4-4e85-9cd4-8d0300159170",
   "metadata": {
    "tags": []
   },
   "outputs": [],
   "source": [
    "fig, axs = plt.subplots(2,1,figsize=(25,12))\n",
    "ax = axs[0]\n",
    "matshow = mat_a.iloc[np.argsort(labels_a)]\n",
    "gene_cumsum = cumsum_a\n",
    "sns.heatmap(matshow, \n",
    "            vmax=3, vmin=-3, cmap='coolwarm', \n",
    "            xticklabels=False, \n",
    "            yticklabels=True, \n",
    "            cbar_kws=dict(shrink=0.5),\n",
    "            ax=ax,\n",
    "           )\n",
    "for cond, num_cell in num_cells_cumsum_shift.items():\n",
    "    ax.text(num_cell, 0, cond) \n",
    "    ax.axvline(num_cell, color='k', linewidth=1, linestyle='--')\n",
    "for num in gene_cumsum:\n",
    "    ax.axhline(num, color='k', linewidth=1, linestyle='--')\n",
    "ax.set_ylabel('A genes')\n",
    "ax.tick_params(axis='y', which='both', labelsize=5, rotation=0)\n",
    "\n",
    "# Apply colors to the y-tick labels\n",
    "recolor_yticks(ax, annots['tf'], 'blue', fontsize=5)\n",
    "recolor_yticks(ax, annots['cad'], 'red', fontsize=5)\n",
    "recolor_yticks(ax, annots['igsf'], 'red', fontsize=5)\n",
    "recolor_yticks(ax, annots['eph'], 'red', fontsize=5)\n",
    "recolor_yticks(ax, annots['gpcr'], 'orange', fontsize=5)\n",
    "recolor_yticks(ax, annots['channel'], 'orange', fontsize=5)\n",
    "\n",
    "ax = axs[1]\n",
    "matshow = mat_c.iloc[np.argsort(labels_c)]\n",
    "gene_cumsum = cumsum_c\n",
    "sns.heatmap(matshow, \n",
    "            vmax=3, vmin=-3, cmap='coolwarm', \n",
    "            xticklabels=False, \n",
    "            yticklabels=True, \n",
    "            cbar_kws=dict(shrink=0.5),\n",
    "            ax=ax,\n",
    "           )\n",
    "for cond, num_cell in num_cells_cumsum_shift.items():\n",
    "    ax.axvline(num_cell, color='k', linewidth=1, linestyle='--')\n",
    "for num in gene_cumsum:\n",
    "    ax.axhline(num, color='k', linewidth=1, linestyle='--')\n",
    "ax.set_ylabel('C genes')\n",
    "ax.tick_params(axis='y', which='both', labelsize=5, rotation=0)\n",
    "# Apply colors to the y-tick labels\n",
    "recolor_yticks(ax, annots['tf'], 'blue', fontsize=5)\n",
    "recolor_yticks(ax, annots['cad'], 'red', fontsize=5)\n",
    "recolor_yticks(ax, annots['igsf'], 'red', fontsize=5)\n",
    "recolor_yticks(ax, annots['eph'], 'red', fontsize=5)\n",
    "recolor_yticks(ax, annots['gpcr'], 'orange', fontsize=5)\n",
    "recolor_yticks(ax, annots['channel'], 'orange', fontsize=5)\n",
    "\n",
    "fig.subplots_adjust(hspace=0.01)\n",
    "plt.show()"
   ]
  },
  {
   "cell_type": "code",
   "execution_count": null,
   "id": "bb3f5ecf-d869-4f37-8e5d-fdb646df15c4",
   "metadata": {},
   "outputs": [],
   "source": []
  },
  {
   "cell_type": "markdown",
   "id": "b53e9f87-8268-4c85-a6c9-e2645b36e123",
   "metadata": {},
   "source": [
    "# Subset of genes "
   ]
  },
  {
   "cell_type": "code",
   "execution_count": null,
   "id": "94002f4c-333e-4b43-acec-ecc13074db70",
   "metadata": {
    "tags": []
   },
   "outputs": [],
   "source": [
    "matshow.loc[[g for g in matshow.index if g in annots['tf']]]"
   ]
  },
  {
   "cell_type": "code",
   "execution_count": null,
   "id": "e67db970-5a8c-4d89-ba51-590e034ef027",
   "metadata": {
    "tags": []
   },
   "outputs": [],
   "source": [
    "fig, axs = plt.subplots(2,1,figsize=(25,5))\n",
    "ax = axs[0]\n",
    "matshow = mat_a.iloc[np.argsort(labels_a)]\n",
    "matshow = matshow.loc[[g for g in matshow.index if g in annots['tf']]]\n",
    "# gene_cumsum = cumsum_a\n",
    "sns.heatmap(matshow, \n",
    "            vmax=3, vmin=-3, cmap='coolwarm', \n",
    "            xticklabels=False, \n",
    "            yticklabels=True, \n",
    "            cbar_kws=dict(shrink=0.5),\n",
    "            ax=ax,\n",
    "           )\n",
    "for cond, num_cell in num_cells_cumsum_shift.items():\n",
    "    ax.text(num_cell, 0, cond) \n",
    "    ax.axvline(num_cell, color='k', linewidth=1, linestyle='--')\n",
    "# for num in gene_cumsum:\n",
    "#     ax.axhline(num, color='k', linewidth=1, linestyle='--')\n",
    "ax.set_ylabel('A genes')\n",
    "ax.tick_params(axis='y', which='both', labelsize=10, rotation=0)\n",
    "\n",
    "\n",
    "ax = axs[1]\n",
    "matshow = mat_c.iloc[np.argsort(labels_c)]\n",
    "matshow = matshow.loc[[g for g in matshow.index if g in annots['tf']]]\n",
    "# gene_cumsum = cumsum_c\n",
    "sns.heatmap(matshow, \n",
    "            vmax=3, vmin=-3, cmap='coolwarm', \n",
    "            xticklabels=False, \n",
    "            yticklabels=True, \n",
    "            cbar_kws=dict(shrink=0.5),\n",
    "            ax=ax,\n",
    "           )\n",
    "for cond, num_cell in num_cells_cumsum_shift.items():\n",
    "    ax.axvline(num_cell, color='k', linewidth=1, linestyle='--')\n",
    "# for num in gene_cumsum:\n",
    "#     ax.axhline(num, color='k', linewidth=1, linestyle='--')\n",
    "ax.set_ylabel('C genes')\n",
    "ax.tick_params(axis='y', which='both', labelsize=10, rotation=0)\n",
    "\n",
    "fig.subplots_adjust(hspace=0.01)\n",
    "plt.show()"
   ]
  },
  {
   "cell_type": "code",
   "execution_count": null,
   "id": "977bff42-24b7-4f2d-913a-f0769c222fcf",
   "metadata": {},
   "outputs": [],
   "source": []
  },
  {
   "cell_type": "code",
   "execution_count": null,
   "id": "72a94fcb-0383-4d65-a663-5ad71eefdb72",
   "metadata": {},
   "outputs": [],
   "source": []
  },
  {
   "cell_type": "code",
   "execution_count": null,
   "id": "f0268ee8-6c09-4844-b983-75d8b9625739",
   "metadata": {},
   "outputs": [],
   "source": []
  },
  {
   "cell_type": "code",
   "execution_count": null,
   "id": "e99f8f54-09f4-4fae-a9cc-ae4413a37e19",
   "metadata": {},
   "outputs": [],
   "source": []
  },
  {
   "cell_type": "markdown",
   "id": "ddf7e3a1-fff0-4e57-9302-9035af313aad",
   "metadata": {
    "tags": []
   },
   "source": [
    "# GO analysis"
   ]
  },
  {
   "cell_type": "code",
   "execution_count": null,
   "id": "e8e659c6-5d69-4f62-99a2-7ded18fc78bb",
   "metadata": {
    "tags": []
   },
   "outputs": [],
   "source": [
    "# labels_a\n",
    "# ressub\n",
    "mat_a"
   ]
  },
  {
   "cell_type": "code",
   "execution_count": null,
   "id": "deb5f653-850c-46f9-bdec-c91223626637",
   "metadata": {
    "tags": []
   },
   "outputs": [],
   "source": [
    "# import gseapy as gp"
   ]
  },
  {
   "cell_type": "code",
   "execution_count": null,
   "id": "825a9b67-ae52-4f94-928a-b59b1a3fa42c",
   "metadata": {
    "tags": []
   },
   "outputs": [],
   "source": [
    "# gp.get_library_name()"
   ]
  },
  {
   "cell_type": "code",
   "execution_count": null,
   "id": "e650f359-0d3b-471d-bcf8-eba45df58f43",
   "metadata": {
    "tags": []
   },
   "outputs": [],
   "source": [
    "for i in range(3):\n",
    "    print('--')\n",
    "    genesout = np.hstack([mat_a[labels_a==i].index.values,\n",
    "                          mat_c[labels_c==i].index.values,\n",
    "                         ])\n",
    "    np.savetxt(f'/u/home/f/f7xiesnm/project-zipursky/v1-bb/v1/results/ac_overtime_{i}.txt', genesout, fmt='%s')\n"
   ]
  },
  {
   "cell_type": "code",
   "execution_count": null,
   "id": "7227a73a-42d4-4e5d-96e2-e8821c4cbe39",
   "metadata": {},
   "outputs": [],
   "source": []
  }
 ],
 "metadata": {
  "kernelspec": {
   "display_name": "Python 3 (ipykernel)",
   "language": "python",
   "name": "python3"
  },
  "language_info": {
   "codemirror_mode": {
    "name": "ipython",
    "version": 3
   },
   "file_extension": ".py",
   "mimetype": "text/x-python",
   "name": "python",
   "nbconvert_exporter": "python",
   "pygments_lexer": "ipython3",
   "version": "3.9.16"
  }
 },
 "nbformat": 4,
 "nbformat_minor": 5
}
