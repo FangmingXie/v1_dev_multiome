{
 "cells": [
  {
   "cell_type": "code",
   "execution_count": null,
   "id": "bb214b6d-836a-49b8-93dd-a19f021215b7",
   "metadata": {
    "tags": []
   },
   "outputs": [],
   "source": [
    "import os\n",
    "import numpy as np\n",
    "import pandas as pd\n",
    "import scanpy as sc\n",
    "import anndata \n",
    "import seaborn as sns\n",
    "from scipy.stats import zscore\n",
    "import matplotlib.pyplot as plt\n",
    "import collections\n",
    "from natsort import natsorted\n",
    "\n",
    "from scipy import stats\n",
    "from scipy import sparse\n",
    "from sklearn.decomposition import PCA\n",
    "from umap import UMAP\n",
    "from statsmodels.stats.multitest import multipletests\n",
    "\n",
    "from matplotlib.colors import LinearSegmentedColormap\n",
    "\n",
    "from scroutines.config_plots import *\n",
    "from scroutines import powerplots # .config_plots import *\n",
    "from scroutines import pnmf\n",
    "from scroutines import basicu\n",
    "from scroutines.gene_modules import GeneModules  \n"
   ]
  },
  {
   "cell_type": "code",
   "execution_count": null,
   "id": "f45abc88-0cbc-4575-8035-9cb157c42bc2",
   "metadata": {},
   "outputs": [],
   "source": [
    "outfigdir = \"/u/home/f/f7xiesnm/project-zipursky/v1-bb/v1/figures/250409\"\n",
    "!mkdir $outfigdir"
   ]
  },
  {
   "cell_type": "markdown",
   "id": "ba1f61ee-ba83-4707-816d-37eb33a54b83",
   "metadata": {},
   "source": [
    "# load gene annotation and data"
   ]
  },
  {
   "cell_type": "code",
   "execution_count": null,
   "id": "e2945163-289c-48bf-9147-d5070e4deb8a",
   "metadata": {
    "tags": []
   },
   "outputs": [],
   "source": [
    "gene_modules = GeneModules()\n",
    "g, gs, ms = gene_modules.check_genes('Cdh13')\n",
    "print(\"\\t\".join(g))\n",
    "print(\"\\t\".join(gs))\n",
    "print(\"\\t\".join(ms))"
   ]
  },
  {
   "cell_type": "code",
   "execution_count": null,
   "id": "405a7ffc-7b93-49b8-a63a-9d7eda66b6d7",
   "metadata": {
    "tags": []
   },
   "outputs": [],
   "source": [
    "genes_alltime_hvgs = np.loadtxt('/u/home/f/f7xiesnm/v1_multiome/l23_alltime_hvgs_n4940.txt', dtype='str')\n",
    "genes_alltime_hvgs"
   ]
  },
  {
   "cell_type": "code",
   "execution_count": null,
   "id": "fb72ade4-5ddd-4d8d-9d66-847375e16845",
   "metadata": {},
   "outputs": [],
   "source": [
    "# use those 286 genes\n",
    "df = pd.read_csv(\"/u/home/f/f7xiesnm/project-zipursky/v1-bb/v1/data/cheng21_cell_scrna/res/L23-ABC-genes-n288-n286unq-annot_v3_july8_2024.csv\")\n",
    "genes_l23 = df['gene'].astype(str).values\n",
    "genes_l23a = df[df['P17on']=='A']['gene'].astype(str).values\n",
    "genes_l23b = df[df['P17on']=='B']['gene'].astype(str).values\n",
    "genes_l23c = df[df['P17on']=='C']['gene'].astype(str).values\n",
    "\n",
    "print(genes_l23a.shape, genes_l23b.shape, genes_l23c.shape)\n",
    "genes_grp = df['P17on'].astype(str).values\n",
    "assert len(genes_l23) == len(np.unique(genes_l23))\n",
    "\n",
    "genes_l23.shape"
   ]
  },
  {
   "cell_type": "code",
   "execution_count": null,
   "id": "d83cc9ac-93b8-4814-9c3f-90c9d2b5862d",
   "metadata": {
    "tags": []
   },
   "outputs": [],
   "source": [
    "genes_alltime_hvgs_rm_l23 = genes_alltime_hvgs[~np.isin(genes_alltime_hvgs, genes_l23)]\n",
    "genes_alltime_hvgs_rm_l23.shape"
   ]
  },
  {
   "cell_type": "code",
   "execution_count": null,
   "id": "bc4ba53f-b74e-4eca-82dd-52f9cbbdb104",
   "metadata": {
    "tags": []
   },
   "outputs": [],
   "source": [
    "scores_abc = pd.read_csv(\"/u/home/f/f7xiesnm/project-zipursky/v1-bb/v1/data/v1_multiome/scores_l23abc.csv\", \n",
    "                         index_col=0,\n",
    "                        )\n",
    "scores_abc['scores_c-a'] = scores_abc['scores_c'] - scores_abc['scores_a']\n",
    "scores_abc"
   ]
  },
  {
   "cell_type": "code",
   "execution_count": null,
   "id": "8542eec8-b8e1-4a35-9237-0d3c0043349b",
   "metadata": {},
   "outputs": [],
   "source": [
    "adata = anndata.read(\"/u/home/f/f7xiesnm/project-zipursky/v1-bb/v1/data/v1_multiome/superdupermegaRNA_hasraw_multiome_l23.h5ad\")\n",
    "adata"
   ]
  },
  {
   "cell_type": "code",
   "execution_count": null,
   "id": "345d47ef-df93-4066-b2dd-382bac604a7c",
   "metadata": {
    "tags": []
   },
   "outputs": [],
   "source": [
    "adata.X = adata.raw.X"
   ]
  },
  {
   "cell_type": "code",
   "execution_count": null,
   "id": "47c07c89-4d36-4d6d-b4e5-305180e5bd7b",
   "metadata": {
    "tags": []
   },
   "outputs": [],
   "source": [
    "adata.obs['scores_a'] = scores_abc.loc[adata.obs.index,'scores_a'].copy()\n",
    "adata.obs['scores_b'] = scores_abc.loc[adata.obs.index,'scores_b'].copy()\n",
    "adata.obs['scores_c'] = scores_abc.loc[adata.obs.index,'scores_c'].copy()\n",
    "adata.obs['scores_c-a'] = scores_abc.loc[adata.obs.index,'scores_c-a'].copy()"
   ]
  },
  {
   "cell_type": "code",
   "execution_count": null,
   "id": "c715643c-0748-414c-b477-4294cb85b5cc",
   "metadata": {
    "tags": []
   },
   "outputs": [],
   "source": [
    "sample_labels = adata.obs['Sample'].values\n",
    "time_labels = [s[:-1].replace('DR', '') for s in sample_labels]\n",
    "\n",
    "adata.obs['sample'] = sample_labels #\n",
    "adata.obs['time']   = time_labels\n",
    "\n",
    "uniq_samples = natsorted(np.unique(sample_labels))\n",
    "nr_samples = [s for s in uniq_samples if \"DR\" not in s]\n",
    "dr_samples = [s for s in uniq_samples if \"DR\" in s]\n",
    "\n",
    "uniq_conds = np.array(natsorted(np.unique(adata.obs['cond'].values)))\n",
    "print(uniq_conds)"
   ]
  },
  {
   "cell_type": "code",
   "execution_count": null,
   "id": "f4677f2d-a037-4ab6-8ed3-12a1daa1acad",
   "metadata": {
    "tags": []
   },
   "outputs": [],
   "source": [
    "nr_idx = np.array([0,1,2,4,6,8,10])\n",
    "dr_idx = np.array([3,5,7,9])\n",
    "\n",
    "nr_times = np.array([6,8,10,12,14,17,21])\n",
    "dr_times = np.array(       [12,14,17,21])"
   ]
  },
  {
   "cell_type": "code",
   "execution_count": null,
   "id": "4d9ae16c-9107-4acd-8405-fbcd84bd8e0d",
   "metadata": {
    "tags": []
   },
   "outputs": [],
   "source": [
    "# remove mitocondria genes\n",
    "adata = adata[:,~adata.var.index.str.contains(r'^mt-')]\n",
    "# remove sex genes\n",
    "adata = adata[:,~adata.var.index.str.contains(r'^Xist$')]\n",
    "\n",
    "# filter genes\n",
    "cond = np.ravel((adata.X>0).sum(axis=0)) > 10 # expressed in more than 10 cells\n",
    "adata = adata[:,cond].copy()"
   ]
  },
  {
   "cell_type": "code",
   "execution_count": null,
   "id": "1fadd441-11aa-49ab-abcc-d8d5e9cf47ea",
   "metadata": {},
   "outputs": [],
   "source": [
    "# counts\n",
    "x = adata.X\n",
    "cov = np.ravel(np.sum(x, axis=1))\n",
    "genes = adata.var.index.values\n",
    "\n",
    "# CP10k\n",
    "xn = (sparse.diags(1/cov).dot(x))*1e4\n",
    "\n",
    "# log2(CP10k+1)\n",
    "xln = xn.copy()\n",
    "xln.data = np.log2(xln.data+1)\n",
    "\n",
    "adata.layers[    'norm'] = np.array(xn.todense())\n",
    "adata.layers[ 'lognorm'] = np.array(xln.todense())"
   ]
  },
  {
   "cell_type": "code",
   "execution_count": null,
   "id": "ca1a2495-1866-4ff5-9ade-6d6dd08fa64e",
   "metadata": {
    "tags": []
   },
   "outputs": [],
   "source": [
    "genes_idx_alltime_hvgs_rm_l23 = basicu.get_index_from_array(adata.var.index.values, genes_alltime_hvgs_rm_l23)\n",
    "genes_idx_alltime_hvgs_rm_l23"
   ]
  },
  {
   "cell_type": "code",
   "execution_count": null,
   "id": "09d57655-c050-4842-a623-8fd8cac63496",
   "metadata": {
    "tags": []
   },
   "outputs": [],
   "source": [
    "np.random.rand(0)\n",
    "\n",
    "num_archetypal_cells = 100\n",
    "offset = 1 # CP10k + offset (CPM + 100*offset)\n",
    "SHUFFLE = False #False\n",
    "\n",
    "n_pseudo_genes = 35\n",
    "n_repeat = 50\n",
    "\n",
    "n_cond = len(uniq_conds)\n",
    "n_gene = adata.shape[1] \n",
    "\n",
    "qs_tensor   = np.zeros((n_cond,3,n_gene))  # 3 represents 3 pairwise comparisons (ca, ba, bc)\n",
    "l2fc_tensor = np.zeros((n_cond,3,n_gene))\n",
    "\n",
    "cond_sig_bp_tensor   = np.zeros((n_cond,n_repeat,n_gene))  # 3 represents 3 pairwise comparisons (ca, ba, bc)\n",
    "\n",
    "for cond_code, cond in enumerate(uniq_conds):\n",
    "    # get sub\n",
    "    adatasub = adata[adata.obs['cond']==cond]\n",
    "    n_cells = adatasub.shape[0]\n",
    "    \n",
    "    # get A vs C \n",
    "    ranks_ac = adatasub.obs['scores_c-a'].rank()\n",
    "    ranks_b  = adatasub.obs['scores_b'].rank()\n",
    "    \n",
    "    precond_a = ranks_ac <= num_archetypal_cells\n",
    "    precond_c = ranks_ac > adatasub.shape[0] - num_archetypal_cells\n",
    "    precond_b = ranks_b  > adatasub.shape[0] - num_archetypal_cells\n",
    "    \n",
    "    cond_a = np.all([ precond_a, ~precond_b, ~precond_c], axis=0)\n",
    "    cond_b = np.all([~precond_a,  precond_b, ~precond_c], axis=0)\n",
    "    cond_c = np.all([~precond_a, ~precond_b,  precond_c], axis=0)\n",
    "    \n",
    "    # SHUFFLE\n",
    "    if SHUFFLE:\n",
    "        adatasub = adatasub[np.random.choice(n_cells, size=n_cells, replace=False)]\n",
    "    \n",
    "    # print(precond_a.sum(), \n",
    "    #       precond_b.sum(), \n",
    "    #       precond_c.sum(),)\n",
    "    print(cond, cond_a.sum(), cond_b.sum(), cond_c.sum())\n",
    "    \n",
    "    adatasub_a = adatasub[cond_a]\n",
    "    adatasub_b = adatasub[cond_b]\n",
    "    adatasub_c = adatasub[cond_c]\n",
    "    \n",
    "    # DEGs\n",
    "    mat_a = adatasub_a.layers['norm'][...]\n",
    "    mat_b = adatasub_b.layers['norm'][...]\n",
    "    mat_c = adatasub_c.layers['norm'][...]\n",
    "    \n",
    "    logmat_a = adatasub_a.layers['lognorm'][...]\n",
    "    logmat_b = adatasub_b.layers['lognorm'][...]\n",
    "    logmat_c = adatasub_c.layers['lognorm'][...]\n",
    "    \n",
    "    ts_ca, ps_ca = stats.ttest_ind(logmat_c, logmat_a)\n",
    "    ts_ba, ps_ba = stats.ttest_ind(logmat_b, logmat_a)\n",
    "    ts_bc, ps_bc = stats.ttest_ind(logmat_b, logmat_c)\n",
    "    \n",
    "    _, qs_ca, _, _ = multipletests(np.nan_to_num(ps_ca, nan=1).reshape(-1,), method='fdr_bh') # why nan in ps -- not expressed\n",
    "    _, qs_ba, _, _ = multipletests(np.nan_to_num(ps_ba, nan=1).reshape(-1,), method='fdr_bh') # why nan in ps -- not expressed\n",
    "    _, qs_bc, _, _ = multipletests(np.nan_to_num(ps_bc, nan=1).reshape(-1,), method='fdr_bh') # why nan in ps -- not expressed\n",
    "    \n",
    "    l2fc_ca = np.log2(np.mean(mat_c, axis=0)+offset) - np.log2(np.mean(mat_a, axis=0)+offset) # log2FC (CP10k as raw counts)\n",
    "    l2fc_ba = np.log2(np.mean(mat_b, axis=0)+offset) - np.log2(np.mean(mat_a, axis=0)+offset) # log2FC (CP10k as raw counts)\n",
    "    l2fc_bc = np.log2(np.mean(mat_b, axis=0)+offset) - np.log2(np.mean(mat_c, axis=0)+offset) # log2FC (CP10k as raw counts)\n",
    "    \n",
    "    qs_a   = np.minimum(qs_ca, qs_ba) # the better of the two\n",
    "    qs_c   = np.minimum(qs_ca, qs_bc) # the better of the two\n",
    "    qs_b   = np.minimum(qs_ba, qs_bc) # the better of the two\n",
    "\n",
    "    l2fc_a = np.max([-l2fc_ca, -l2fc_ba], axis=0) # mean fold change\n",
    "    l2fc_c = np.max([ l2fc_ca, -l2fc_bc], axis=0) # mean fold change\n",
    "    l2fc_b = np.max([ l2fc_ba,  l2fc_bc], axis=0) # mean fold change\n",
    "\n",
    "    cond_sig_a = np.all([-l2fc_ca > 0, -l2fc_ba > 0, l2fc_a > 1, qs_a < 0.05], axis=0)\n",
    "    cond_sig_c = np.all([ l2fc_ca > 0, -l2fc_bc > 0, l2fc_c > 1, qs_c < 0.05], axis=0)\n",
    "    cond_sig_b = np.all([ l2fc_ba > 0,  l2fc_bc > 0, l2fc_b > 1, qs_b < 0.05], axis=0)\n",
    "    \n",
    "    # save this\n",
    "    l2fc_tensor[cond_code, 0] = l2fc_ca\n",
    "    l2fc_tensor[cond_code, 1] = l2fc_ba\n",
    "    l2fc_tensor[cond_code, 2] = l2fc_bc\n",
    "    \n",
    "    qs_tensor[cond_code, 0] = qs_ca\n",
    "    qs_tensor[cond_code, 1] = qs_ba\n",
    "    qs_tensor[cond_code, 2] = qs_bc\n",
    "    \n",
    "    # [0,1] scaled scores\n",
    "    mat = adatasub.layers['lognorm'][...]\n",
    "    mins = np.min(mat, axis=0)\n",
    "    maxs = np.max(mat, axis=0)\n",
    "    nmat = (mat - mins)/(maxs-mins+1e-10)\n",
    "    \n",
    "    # print(cond, cond_sig_a.sum(), cond_sig_c.sum(), cond_sig_b.sum()) \n",
    "    \n",
    "    # select cells by pseudo scores (B)\n",
    "    for i in range(n_repeat):\n",
    "        bpseudo_idx = genes_idx_alltime_hvgs_rm_l23[np.random.choice(len(genes_idx_alltime_hvgs_rm_l23), size=n_pseudo_genes, replace=False)]\n",
    "        scores_bpseudo = np.mean(nmat[:,bpseudo_idx], axis=1)\n",
    "        ranks_bp = pd.Series(scores_bpseudo).rank()\n",
    "        precond_bp = ranks_bp  > adatasub.shape[0] - num_archetypal_cells\n",
    "        cond_bp = precond_bp\n",
    "\n",
    "        adatasub_bp = adatasub[cond_bp]\n",
    "        mat_bp = adatasub_bp.layers['norm'][...]\n",
    "        logmat_bp = adatasub_bp.layers['lognorm'][...]\n",
    "        ts_bpa, ps_bpa = stats.ttest_ind(logmat_bp, logmat_a)\n",
    "        ts_bpc, ps_bpc = stats.ttest_ind(logmat_bp, logmat_c)\n",
    "        _, qs_bpa, _, _ = multipletests(np.nan_to_num(ps_bpa, nan=1).reshape(-1,), method='fdr_bh') # why nan in ps -- not expressed\n",
    "        _, qs_bpc, _, _ = multipletests(np.nan_to_num(ps_bpc, nan=1).reshape(-1,), method='fdr_bh') # why nan in ps -- not expressed\n",
    "        l2fc_bpa = np.log2(np.mean(mat_bp, axis=0)+offset) - np.log2(np.mean(mat_a, axis=0)+offset) # log2FC (CP10k as raw counts)\n",
    "        l2fc_bpc = np.log2(np.mean(mat_bp, axis=0)+offset) - np.log2(np.mean(mat_c, axis=0)+offset) # log2FC (CP10k as raw counts)\n",
    "\n",
    "        qs_bp   = np.minimum(qs_bpa, qs_bpc) # the better of the two\n",
    "        l2fc_bp = np.max([ l2fc_bpa,  l2fc_bpc], axis=0) # mean fold change\n",
    "        l2fc_bps = np.min([ l2fc_bpa,  l2fc_bpc], axis=0) # mean fold change\n",
    "        cond_sig_bp = np.all([ l2fc_bpa > 0,  l2fc_bpc > 0, l2fc_bp > 1, qs_bp < 0.05, l2fc_bps > np.log2(1.1)], axis=0)\n",
    "\n",
    "        cond_sig_bp_tensor[cond_code, i] = cond_sig_bp\n",
    "        \n",
    "        # print(cond_sig_bp.sum(), end=',') \n",
    "        \n",
    "    # print(\"\")\n",
    "    \n",
    "    \n"
   ]
  },
  {
   "cell_type": "code",
   "execution_count": null,
   "id": "e6dd2dc4-71c5-43ad-8ae9-e45f5988b537",
   "metadata": {},
   "outputs": [],
   "source": [
    "# %%time\n",
    "# fout1 = '/u/home/f/f7xiesnm/project-zipursky/v1-bb/v1/data/v1_multiome/DEG_l23abc_qs_250409.npy'\n",
    "# fout2 = '/u/home/f/f7xiesnm/project-zipursky/v1-bb/v1/data/v1_multiome/DEG_l23abc_l2fc_250409.npy'\n",
    "# fout3 = '/u/home/f/f7xiesnm/project-zipursky/v1-bb/v1/data/v1_multiome/DEG_l23abc_gene_list_250409.csv'\n",
    "\n",
    "# np.save(fout1, qs_tensor)\n",
    "# np.save(fout2, l2fc_tensor)"
   ]
  },
  {
   "cell_type": "markdown",
   "id": "5744d361-25eb-4459-a043-3eb3dc2b1fdb",
   "metadata": {},
   "source": [
    "# check results and stats"
   ]
  },
  {
   "cell_type": "code",
   "execution_count": null,
   "id": "68521b0d-a21a-4cd2-a830-d1f5a4173743",
   "metadata": {
    "tags": []
   },
   "outputs": [],
   "source": [
    "# qs_tensor = np.load(fout1)\n",
    "# l2fc_tensor = np.load(fout2)\n",
    "\n",
    "l2fc_th = np.log2(2)\n",
    "l2fc_th_s = np.log2(1.2)\n",
    "alpha_th = 0.05"
   ]
  },
  {
   "cell_type": "code",
   "execution_count": null,
   "id": "fc1eeebe-7bce-4362-bbf7-a586bc4066e8",
   "metadata": {
    "tags": []
   },
   "outputs": [],
   "source": [
    "qs_ca   = qs_tensor[:,0,:]\n",
    "qs_ba   = qs_tensor[:,1,:]\n",
    "qs_bc   = qs_tensor[:,2,:]\n",
    "\n",
    "l2fc_ca = l2fc_tensor[:,0,:]\n",
    "l2fc_ba = l2fc_tensor[:,1,:]\n",
    "l2fc_bc = l2fc_tensor[:,2,:]"
   ]
  },
  {
   "cell_type": "code",
   "execution_count": null,
   "id": "81c8bc22-1f49-4145-8e97-689396759a4d",
   "metadata": {
    "tags": []
   },
   "outputs": [],
   "source": [
    "qs_a   = np.minimum(qs_ca, qs_ba) # the better of the two\n",
    "qs_c   = np.minimum(qs_ca, qs_bc) # the better of the two\n",
    "qs_b   = np.minimum(qs_ba, qs_bc) # the better of the two\n",
    "\n",
    "l2fc_a = np.max([-l2fc_ca, -l2fc_ba], axis=0) # mean fold change\n",
    "l2fc_c = np.max([ l2fc_ca, -l2fc_bc], axis=0) # mean fold change\n",
    "l2fc_b = np.max([ l2fc_ba,  l2fc_bc], axis=0) # mean fold change\n",
    "\n",
    "\n",
    "l2fc_as = np.min([-l2fc_ca, -l2fc_ba], axis=0) # mean fold change\n",
    "l2fc_cs = np.min([ l2fc_ca, -l2fc_bc], axis=0) # mean fold change\n",
    "l2fc_bs = np.min([ l2fc_ba,  l2fc_bc], axis=0) # mean fold change\n",
    "\n",
    "\n",
    "cond_sig_a = np.all([-l2fc_ca > 0, -l2fc_ba > 0, l2fc_a > l2fc_th, qs_a < alpha_th], axis=0)\n",
    "cond_sig_c = np.all([ l2fc_ca > 0, -l2fc_bc > 0, l2fc_c > l2fc_th, qs_c < alpha_th], axis=0)\n",
    "# cond_sig_a = np.all([-l2fc_ca > 0, -l2fc_ba > 0, l2fc_a > l2fc_th, qs_a < alpha_th, l2fc_as > l2fc_th_s], axis=0)\n",
    "# cond_sig_c = np.all([ l2fc_ca > 0, -l2fc_bc > 0, l2fc_c > l2fc_th, qs_c < alpha_th, l2fc_cs > l2fc_th_s], axis=0)\n",
    "cond_sig_b = np.all([ l2fc_ba > 0,  l2fc_bc > 0, l2fc_b > l2fc_th, qs_b < alpha_th, l2fc_bs > l2fc_th_s], axis=0)\n",
    "\n",
    "\n",
    "instances, counts_a = np.unique(cond_sig_a.sum(axis=0), return_counts=True)\n",
    "instances, counts_c = np.unique(cond_sig_c.sum(axis=0), return_counts=True)\n",
    "instances, counts_b = np.unique(cond_sig_b.sum(axis=0), return_counts=True)\n",
    "\n",
    "print('num A genes for each cond:\\t', cond_sig_a.sum(axis=1), np.any(cond_sig_a, axis=0).sum())\n",
    "print('num C genes for each cond:\\t', cond_sig_c.sum(axis=1), np.any(cond_sig_c, axis=0).sum())\n",
    "print('num B genes for each cond:\\t', cond_sig_b.sum(axis=1), np.any(cond_sig_b, axis=0).sum())\n",
    "\n",
    "print('num A genes in num conds:\\t',  counts_a[1:])\n",
    "print('num C genes in num conds:\\t',  counts_c[1:])\n",
    "print('num B genes in num conds:\\t',  counts_b[1:])"
   ]
  },
  {
   "cell_type": "code",
   "execution_count": null,
   "id": "e849ad65-3232-4ae4-a6eb-0b6a608df459",
   "metadata": {
    "tags": []
   },
   "outputs": [],
   "source": [
    "a_any = np.sort(adata.var[np.any(cond_sig_a, axis=0)].index.values)\n",
    "a_all = np.sort(adata.var[np.all(cond_sig_a, axis=0)].index.values)\n",
    "\n",
    "c_any = np.sort(adata.var[np.any(cond_sig_c, axis=0)].index.values)\n",
    "c_all = np.sort(adata.var[np.all(cond_sig_c, axis=0)].index.values)\n",
    "ac_overlap = np.sort(adata.var[np.logical_and(np.any(cond_sig_a, axis=0), np.any(cond_sig_c, axis=0))].index.values)\n",
    "\n",
    "b_any = np.sort(adata.var[np.any(cond_sig_b, axis=0)].index.values)\n",
    "b_all = np.sort(adata.var[np.all(cond_sig_b, axis=0)].index.values)\n",
    "\n",
    "print('a any', a_any.shape)\n",
    "print('a all', a_all.shape)\n",
    "\n",
    "print('c any', c_any.shape)\n",
    "print('c all', c_all.shape)\n",
    "print('ac overlap', ac_overlap.shape)\n",
    "\n",
    "print('b any', b_any.shape)\n",
    "print('b all', b_all.shape)"
   ]
  },
  {
   "cell_type": "code",
   "execution_count": null,
   "id": "ac1f411d-7463-4b75-bf4a-dd4ae4185490",
   "metadata": {
    "tags": []
   },
   "outputs": [],
   "source": [
    "a_all_annots, a_all_styled, a_all_annots_styled = gene_modules.check_genes(a_all)\n",
    "c_all_annots, c_all_styled, c_all_annots_styled = gene_modules.check_genes(c_all)\n",
    "b_all_annots, b_all_styled, b_all_annots_styled = gene_modules.check_genes(b_all)\n",
    "\n",
    "ac_overlap_annots, ac_overlap_styled, ac_overlap_annots_styled = gene_modules.check_genes(ac_overlap)\n",
    "\n",
    "print(\"\\t\".join(a_all_annots_styled)) # _styled))\n",
    "print(\"---\"*10) # _styled))\n",
    "print(\"\\t\".join(c_all_annots_styled)) # _styled))\n",
    "print(\"---\"*10) # _styled))\n",
    "print(\"\\t\".join(b_all_annots_styled)) # _styled))\n",
    "print(\"---\"*10) # _styled))\n",
    "print(\"\\t\".join(ac_overlap_annots_styled)) # _styled))"
   ]
  },
  {
   "cell_type": "code",
   "execution_count": null,
   "id": "82f40f49-6f8a-43ea-96f5-ad57938c50ae",
   "metadata": {},
   "outputs": [],
   "source": [
    "fig, ax = plt.subplots(figsize=(4,4))\n",
    "ax.plot(np.arange(1,1+11)[::-1], np.cumsum(counts_a[1:][::-1]), '-o', label='A', color='C0')\n",
    "ax.plot(np.arange(1,1+11)[::-1], np.cumsum(counts_c[1:][::-1]), '-o', label='C', color='C2')\n",
    "ax.set_ylim(ymin=0)\n",
    "ax.legend()\n",
    "ax.set_ylabel('number of TFs')\n",
    "ax.set_xlabel('number of time points')\n",
    "sns.despine(ax=ax)\n",
    "plt.show()"
   ]
  },
  {
   "cell_type": "code",
   "execution_count": null,
   "id": "b9ba3313-adb1-4c5d-a7d9-566100b89699",
   "metadata": {
    "tags": []
   },
   "outputs": [],
   "source": [
    "nums_a = cond_sig_a.sum(axis=1)\n",
    "nums_c = cond_sig_c.sum(axis=1)\n",
    "nums_b = cond_sig_b.sum(axis=1)\n",
    "\n",
    "fig, axs = plt.subplots(1,2,figsize=(4*2,4))\n",
    "ax = axs[0]\n",
    "ax.plot(nr_times, nums_a[nr_idx], '-o' , fillstyle='none', label='A NR', color='C0')\n",
    "ax.plot(dr_times, nums_a[dr_idx], '--s', fillstyle='none', label='A DR', color='C0')\n",
    "ax.plot(nr_times, nums_c[nr_idx], '-o' , fillstyle='none', label='C NR', color='C2')\n",
    "ax.plot(dr_times, nums_c[dr_idx], '--s', fillstyle='none', label='C DR', color='C2')\n",
    "ax.set_xticks(nr_times)\n",
    "ax.grid(False, axis='x')\n",
    "ax.set_ylim(ymin=0) # , ymax=120)\n",
    "ax.legend()\n",
    "ax.set_ylabel('num. of gene')\n",
    "ax.set_xlabel('time (P)')\n",
    "sns.despine(ax=ax)\n",
    "\n",
    "ax = axs[1]\n",
    "ax.plot(nr_times, nums_b[nr_idx], '-o' , fillstyle='none', label='B NR', color='C1')\n",
    "ax.plot(dr_times, nums_b[dr_idx], '--s', fillstyle='none', label='B DR', color='C1')\n",
    "ax.set_xticks(nr_times)\n",
    "ax.grid(False, axis='x')\n",
    "ax.set_ylim(ymin=0) #, ymax=80)\n",
    "ax.legend()\n",
    "sns.despine(ax=ax)\n",
    "\n",
    "\n",
    "output = os.path.join(outfigdir, 'num_degs_abc_1.pdf')\n",
    "powerplots.savefig_autodate(fig, output)\n",
    "plt.show()"
   ]
  },
  {
   "cell_type": "code",
   "execution_count": null,
   "id": "06f54239-1da1-49f7-9843-708136e3d702",
   "metadata": {
    "tags": []
   },
   "outputs": [],
   "source": [
    "nums_a = cond_sig_a.sum(axis=1)\n",
    "nums_c = cond_sig_c.sum(axis=1)\n",
    "nums_b = cond_sig_b.sum(axis=1)\n",
    "\n",
    "fig, axs = plt.subplots(1,2,figsize=(3*2,4))\n",
    "ax = axs[0]\n",
    "ax.plot(nr_times, nums_a[nr_idx], '-o' , fillstyle='none', label='A', color='C0')\n",
    "ax.plot(nr_times, nums_c[nr_idx], '-o' , fillstyle='none', label='C', color='C2')\n",
    "ax.set_xticks([6,10,14,17,21])\n",
    "ax.grid(False, axis='x')\n",
    "ax.set_ylim(ymin=0, ymax=110)\n",
    "# ax.legend()\n",
    "ax.set_ylabel('num. of gene')\n",
    "ax.set_xlabel('time (P)')\n",
    "sns.despine(ax=ax)\n",
    "\n",
    "ax = axs[1]\n",
    "ax.plot(nr_times, nums_b[nr_idx], '-o' , fillstyle='none', label='B', color='C1')\n",
    "ax.set_xticks([6,10,14,17,21])\n",
    "ax.grid(False, axis='x')\n",
    "ax.set_ylim(ymin=0, ymax=70)\n",
    "# ax.legend()\n",
    "sns.despine(ax=ax)\n",
    "fig.tight_layout()\n",
    "output = os.path.join(outfigdir, 'num_degs_abc_2.pdf')\n",
    "powerplots.savefig_autodate(fig, output)\n",
    "plt.show()"
   ]
  },
  {
   "cell_type": "code",
   "execution_count": null,
   "id": "990c8e32-8089-4e27-833e-b9b8d649d5c2",
   "metadata": {
    "tags": []
   },
   "outputs": [],
   "source": [
    "nums_a = cond_sig_a.sum(axis=1)\n",
    "nums_b = cond_sig_b.sum(axis=1)\n",
    "nums_c = cond_sig_c.sum(axis=1)\n",
    "\n",
    "fig, axs = plt.subplots(1,3,figsize=(3*3,4))\n",
    "ax = axs[0]\n",
    "ax.plot(nr_times, nums_a[nr_idx], '-o' , fillstyle='none', label='A', color='C0')\n",
    "ax.set_xticks([6,10,14,17,21])\n",
    "ax.grid(False, axis='x')\n",
    "ax.set_ylim(ymin=0, ymax=110)\n",
    "# ax.legend()\n",
    "ax.set_ylabel('num. of gene')\n",
    "ax.set_xlabel('time (P)')\n",
    "ax.set_title('A genes')\n",
    "sns.despine(ax=ax)\n",
    "\n",
    "ax = axs[1]\n",
    "ax.plot(nr_times, nums_c[nr_idx], '-o' , fillstyle='none', label='C', color='C2')\n",
    "ax.set_xticks([6,10,14,17,21])\n",
    "ax.grid(False, axis='x')\n",
    "ax.set_ylim(ymin=0, ymax=110)\n",
    "ax.set_title('C genes')\n",
    "# ax.legend()\n",
    "sns.despine(ax=ax)\n",
    "\n",
    "ax = axs[2]\n",
    "ax.plot(nr_times, nums_b[nr_idx], '-o' , fillstyle='none', label='B', color='C1')\n",
    "ax.set_xticks([6,10,14,17,21])\n",
    "ax.grid(False, axis='x')\n",
    "ax.set_ylim(ymin=0, ymax=70)\n",
    "# ax.legend()\n",
    "sns.despine(ax=ax)\n",
    "ax.set_title('B genes')\n",
    "fig.tight_layout()\n",
    "output = os.path.join(outfigdir, 'num_degs_abc_2.pdf')\n",
    "powerplots.savefig_autodate(fig, output)\n",
    "plt.show()"
   ]
  },
  {
   "cell_type": "code",
   "execution_count": null,
   "id": "bea8bd85-6251-438d-814b-bfe7a14615c7",
   "metadata": {
    "tags": []
   },
   "outputs": [],
   "source": [
    "cond_sig_a.shape, cond_sig_bp_tensor.shape"
   ]
  },
  {
   "cell_type": "code",
   "execution_count": null,
   "id": "fd5ab29f-bb67-4141-9d76-500e7e9f565f",
   "metadata": {
    "tags": []
   },
   "outputs": [],
   "source": [
    "nums_bp_trials = np.sum(cond_sig_bp_tensor, axis=2)\n",
    "nums_bp_mean = np.mean(nums_bp_trials, axis=1)\n",
    "nums_bp_sem  = np.std(nums_bp_trials, axis=1)/np.sqrt(n_repeat)*1.96"
   ]
  },
  {
   "cell_type": "code",
   "execution_count": null,
   "id": "c591692c-42bc-4d04-aa2f-a7dcfd095f21",
   "metadata": {},
   "outputs": [],
   "source": [
    "num_uniq_a = np.sum(np.any(cond_sig_a, axis=0))\n",
    "num_uniq_b = np.sum(np.any(cond_sig_b, axis=0))\n",
    "num_uniq_c = np.sum(np.any(cond_sig_c, axis=0))"
   ]
  },
  {
   "cell_type": "code",
   "execution_count": null,
   "id": "c0d6b057-179e-4de4-be1c-de8ad93952c8",
   "metadata": {},
   "outputs": [],
   "source": [
    "nums_a = cond_sig_a.sum(axis=1)\n",
    "nums_c = cond_sig_c.sum(axis=1)\n",
    "nums_b = cond_sig_b.sum(axis=1)\n",
    "\n",
    "fig, axs = plt.subplots(1,2,figsize=(3*2,4))\n",
    "ax = axs[0]\n",
    "ax.plot(nr_times, nums_a[nr_idx], '-o' , fillstyle='none', label='A', color='C0')\n",
    "ax.plot(nr_times, nums_c[nr_idx], '-o' , fillstyle='none', label='C', color='C2')\n",
    "ax.set_xticks([6,10,14,17,21])\n",
    "ax.grid(False, axis='x')\n",
    "ax.set_ylim(ymin=0, ymax=110)\n",
    "ax.legend(fontsize='x-small')\n",
    "ax.set_ylabel('num. of gene')\n",
    "ax.set_xlabel('time (P)')\n",
    "sns.despine(ax=ax)\n",
    "\n",
    "ax = axs[1]\n",
    "ax.plot(nr_times, nums_b[nr_idx], '-o' , fillstyle='none', label='B', color='C1')\n",
    "ax.plot(nr_times, nums_bp_mean[nr_idx], '-o' , fillstyle='none', label='rnd hvg', color='gray')\n",
    "ax.fill_between(nr_times, \n",
    "                nums_bp_mean[nr_idx]-nums_bp_sem[nr_idx], \n",
    "                nums_bp_mean[nr_idx]+nums_bp_sem[nr_idx], \n",
    "                alpha=0.3,\n",
    "                facecolor='gray',\n",
    "                edgecolor='none',\n",
    "                )\n",
    "ax.set_xticks([6,10,14,17,21])\n",
    "ax.grid(False, axis='x')\n",
    "ax.set_ylim(ymin=0, ymax=70)\n",
    "ax.legend(loc='upper left', fontsize='x-small')\n",
    "sns.despine(ax=ax)\n",
    "fig.tight_layout()\n",
    "output = os.path.join(outfigdir, 'num_degs_abc_3.pdf')\n",
    "powerplots.savefig_autodate(fig, output)\n",
    "plt.show()"
   ]
  },
  {
   "cell_type": "markdown",
   "id": "265e2f71-85ae-4e94-a92a-57feddcf4af4",
   "metadata": {},
   "source": [
    "# check effect size "
   ]
  },
  {
   "cell_type": "code",
   "execution_count": null,
   "id": "2b282aab-030c-4369-b719-dc84716a0cc5",
   "metadata": {
    "tags": []
   },
   "outputs": [],
   "source": [
    "cond_sig_a_any = np.any(cond_sig_a, axis=0)\n",
    "cond_sig_b_any = np.any(cond_sig_b, axis=0)\n",
    "cond_sig_c_any = np.any(cond_sig_c, axis=0)"
   ]
  },
  {
   "cell_type": "code",
   "execution_count": null,
   "id": "09a073e4-0140-414a-b28f-e99d6fd1424f",
   "metadata": {
    "tags": []
   },
   "outputs": [],
   "source": [
    "# adata.obs['sample'].unique()\n",
    "import re\n",
    "\n",
    "todo_conds = [\n",
    "    'P12DR', 'P14DR', 'P17DR', 'P21DR',\n",
    "    'P6', 'P8', 'P10', 'P12', 'P14', 'P17', 'P21', \n",
    "]\n",
    "todo_samps = [\n",
    "    'P12DRa', 'P12DRb',\n",
    "    'P14DRa', 'P14DRb',\n",
    "    'P17DRa', 'P17DRb',\n",
    "    'P21DRa', 'P21DRb',\n",
    "    'P6a', 'P6b', 'P6c', \n",
    "    'P8a', 'P8b', 'P8c', \n",
    "    'P10a', 'P10b', \n",
    "    'P12a', 'P12b', 'P12c', \n",
    "    'P14a', 'P14b',\n",
    "    'P17a', 'P17b', \n",
    "    'P21a', 'P21b', \n",
    "]\n",
    "todo_conds_t = np.array([int(re.sub(r'[a-zA-Z]', '', a)) for a in todo_conds])\n",
    "todo_samps_t = np.array([int(re.sub(r'[a-zA-Z]', '', a)) for a in todo_samps])\n",
    "print(todo_conds_t)\n",
    "print(todo_samps_t)"
   ]
  },
  {
   "cell_type": "code",
   "execution_count": null,
   "id": "f5c02fa4-5770-45ae-b664-9a69309e341b",
   "metadata": {
    "tags": []
   },
   "outputs": [],
   "source": [
    "adata.obs['sample'].unique()"
   ]
  },
  {
   "cell_type": "code",
   "execution_count": null,
   "id": "d4059c8d-5dba-4970-8360-e9bfa32dad62",
   "metadata": {
    "tags": []
   },
   "outputs": [],
   "source": [
    "%%time\n",
    "\n",
    "mat = adata.layers['norm'][...]\n",
    "gexp_l23baseline = np.log2(np.mean(mat, axis=0)*1e2+offset) # CP10k -> CPM\n",
    "\n",
    "\n",
    "mmat_res_samp = np.zeros((len(todo_samps),3,3))\n",
    "for i, samp in enumerate(todo_samps):\n",
    "    print(samp)\n",
    "    \n",
    "    # get sub\n",
    "    adatasub = adata[adata.obs['sample']==samp]\n",
    "    n_cells = adatasub.shape[0]\n",
    "    \n",
    "    # get A vs C \n",
    "    ranks_ac = adatasub.obs['scores_c-a'].rank()\n",
    "    ranks_b  = adatasub.obs['scores_b'].rank()\n",
    "    \n",
    "    num_archetypal_cells_viz = int(n_cells*0.1)\n",
    "    \n",
    "    precond_a = ranks_ac <= num_archetypal_cells_viz\n",
    "    precond_c = ranks_ac > adatasub.shape[0] - num_archetypal_cells_viz\n",
    "    precond_b = ranks_b  > adatasub.shape[0] - num_archetypal_cells_viz\n",
    "    \n",
    "    cond_a = np.all([ precond_a, ~precond_b, ~precond_c], axis=0)\n",
    "    cond_b = np.all([~precond_a,  precond_b, ~precond_c], axis=0)\n",
    "    cond_c = np.all([~precond_a, ~precond_b,  precond_c], axis=0)\n",
    "    \n",
    "    if SHUFFLE:\n",
    "        adatasub = adatasub[np.random.choice(n_cells, size=n_cells, replace=False)]\n",
    "        \n",
    "    adatasub_a = adatasub[cond_a]\n",
    "    adatasub_b = adatasub[cond_b]\n",
    "    adatasub_c = adatasub[cond_c]\n",
    "    \n",
    "    # DEGs\n",
    "    mat_a = adatasub_a.layers['norm'][...]\n",
    "    mat_b = adatasub_b.layers['norm'][...]\n",
    "    mat_c = adatasub_c.layers['norm'][...]\n",
    "    \n",
    "    mmat_a = np.log2(np.mean(mat_a, axis=0)*1e2+offset)-gexp_l23baseline # CP10k -> CPM\n",
    "    mmat_b = np.log2(np.mean(mat_b, axis=0)*1e2+offset)-gexp_l23baseline\n",
    "    mmat_c = np.log2(np.mean(mat_c, axis=0)*1e2+offset)-gexp_l23baseline\n",
    "    \n",
    "    # broad \n",
    "    aa = np.mean(mmat_a[cond_sig_a_any])\n",
    "    ab = np.mean(mmat_a[cond_sig_b_any])\n",
    "    ac = np.mean(mmat_a[cond_sig_c_any])\n",
    "    \n",
    "    ba = np.mean(mmat_b[cond_sig_a_any])\n",
    "    bb = np.mean(mmat_b[cond_sig_b_any])\n",
    "    bc = np.mean(mmat_b[cond_sig_c_any])\n",
    "    \n",
    "    ca = np.mean(mmat_c[cond_sig_a_any])\n",
    "    cb = np.mean(mmat_c[cond_sig_b_any])\n",
    "    cc = np.mean(mmat_c[cond_sig_c_any])\n",
    "    \n",
    "    mmat_res_samp[i] = np.array([\n",
    "        [aa, ab, ac],\n",
    "        [ba, bb, bc],\n",
    "        [ca, cb, cc],\n",
    "    ])"
   ]
  },
  {
   "cell_type": "code",
   "execution_count": null,
   "id": "e72d28fe-5da1-42ef-b0e7-1a45530e8c4b",
   "metadata": {
    "tags": []
   },
   "outputs": [],
   "source": [
    "todo_samps = [\n",
    "    'P12DRa', 'P12DRb',\n",
    "    'P14DRa', 'P14DRb',\n",
    "    'P17DRa', 'P17DRb',\n",
    "    'P21DRa', 'P21DRb',\n",
    "    'P6a', 'P6b', 'P6c', \n",
    "    'P8a', 'P8b', 'P8c', \n",
    "    'P10a', 'P10b', \n",
    "    'P12a', 'P12b', 'P12c', \n",
    "    'P14a', 'P14b',\n",
    "    'P17a', 'P17b', \n",
    "    'P21a', 'P21b', \n",
    "]\n",
    "mmat_res_samp_mean = np.zeros((11,3,3))\n",
    "mmat_res_samp_mean[0] = np.mean(mmat_res_samp[ :2], axis=0)\n",
    "mmat_res_samp_mean[1] = np.mean(mmat_res_samp[2:4], axis=0)\n",
    "mmat_res_samp_mean[2] = np.mean(mmat_res_samp[4:6], axis=0)\n",
    "mmat_res_samp_mean[3] = np.mean(mmat_res_samp[6:8], axis=0)\n",
    "\n",
    "mmat_res_samp_mean[4] = np.mean(mmat_res_samp[8:11], axis=0)\n",
    "mmat_res_samp_mean[5] = np.mean(mmat_res_samp[11:14], axis=0)\n",
    "mmat_res_samp_mean[6] = np.mean(mmat_res_samp[14:16], axis=0)\n",
    "mmat_res_samp_mean[7] = np.mean(mmat_res_samp[16:19], axis=0)\n",
    "mmat_res_samp_mean[8] = np.mean(mmat_res_samp[19:21], axis=0)\n",
    "mmat_res_samp_mean[9] = np.mean(mmat_res_samp[21:23], axis=0)\n",
    "mmat_res_samp_mean[10] = np.mean(mmat_res_samp[23:  ], axis=0)"
   ]
  },
  {
   "cell_type": "code",
   "execution_count": null,
   "id": "7885b09d-ebd7-4d35-a3ec-2f7faf3bd278",
   "metadata": {
    "tags": []
   },
   "outputs": [],
   "source": [
    "fig, axs = plt.subplots(1, 3, figsize=(3*3,1*3), sharex=True, sharey=True)\n",
    "for i in range(3):\n",
    "    ax = axs[i]\n",
    "\n",
    "    ax.plot(todo_samps_t[8:], mmat_res_samp[8:,0,i], 'o', markersize=5, fillstyle='none', color='C0')\n",
    "    ax.plot(todo_samps_t[8:], mmat_res_samp[8:,1,i], 'o', markersize=5, fillstyle='none', color='C1')\n",
    "    ax.plot(todo_samps_t[8:], mmat_res_samp[8:,2,i], 'o', markersize=5, fillstyle='none', color='C2')\n",
    "    \n",
    "    ax.plot(todo_conds_t[4:], mmat_res_samp_mean[4:,0,i], '-', color='C0')\n",
    "    ax.plot(todo_conds_t[4:], mmat_res_samp_mean[4:,1,i], '-', color='C1')\n",
    "    ax.plot(todo_conds_t[4:], mmat_res_samp_mean[4:,2,i], '-', color='C2')\n",
    "    \n",
    "    ax.grid(False)\n",
    "    ax.set_xticks([6,10,14,17,21])\n",
    "    sns.despine(ax=ax)\n",
    "\n",
    "axs[0].set_xlabel('Postnatal day (P)')\n",
    "axs[0].set_ylabel('Gene expr.\\nlog2(archetype / baseline)')\n",
    "axs[0].set_title(f'A genes\\nn={num_uniq_a:,}')\n",
    "axs[1].set_title(f'B genes\\nn={num_uniq_b:,}')\n",
    "axs[2].set_title(f'C genes\\nn={num_uniq_c:,}')\n",
    "output = os.path.join(outfigdir, 'abc_degs_signals_over_time.pdf') \n",
    "powerplots.savefig_autodate(fig, output)\n",
    "\n",
    "plt.show()"
   ]
  },
  {
   "cell_type": "code",
   "execution_count": null,
   "id": "3b408860-202a-4931-8a5d-2ca2fe29fd39",
   "metadata": {
    "tags": []
   },
   "outputs": [],
   "source": [
    "fig, axs = plt.subplots(1, 3, figsize=(3*3,1*3), sharex=True, sharey=True)\n",
    "for i in range(3):\n",
    "    ax = axs[i]\n",
    "\n",
    "    ax.plot(todo_samps_t[8:], mmat_res_samp[8:,0,i], 'o', markersize=5, fillstyle='none', color='C0')\n",
    "    ax.plot(todo_samps_t[8:], mmat_res_samp[8:,1,i], 'o', markersize=5, fillstyle='none', color='C1')\n",
    "    ax.plot(todo_samps_t[8:], mmat_res_samp[8:,2,i], 'o', markersize=5, fillstyle='none', color='C2')\n",
    "    \n",
    "    ax.plot(todo_samps_t[:8], mmat_res_samp[:8,0,i], 's', markersize=5, fillstyle='none', color='C0', alpha=0.5)\n",
    "    ax.plot(todo_samps_t[:8], mmat_res_samp[:8,1,i], 's', markersize=5, fillstyle='none', color='C1', alpha=0.5)\n",
    "    ax.plot(todo_samps_t[:8], mmat_res_samp[:8,2,i], 's', markersize=5, fillstyle='none', color='C2', alpha=0.5)\n",
    "    \n",
    "    ax.plot(todo_conds_t[4:], mmat_res_samp_mean[4:,0,i], '-', color='C0')\n",
    "    ax.plot(todo_conds_t[4:], mmat_res_samp_mean[4:,1,i], '-', color='C1')\n",
    "    ax.plot(todo_conds_t[4:], mmat_res_samp_mean[4:,2,i], '-', color='C2')\n",
    "    \n",
    "    ax.plot(todo_conds_t[:4], mmat_res_samp_mean[:4,0,i], '-', color='C0', alpha=0.5)\n",
    "    ax.plot(todo_conds_t[:4], mmat_res_samp_mean[:4,1,i], '-', color='C1', alpha=0.5)\n",
    "    ax.plot(todo_conds_t[:4], mmat_res_samp_mean[:4,2,i], '-', color='C2', alpha=0.5)\n",
    "    \n",
    "    ax.grid(False)\n",
    "    ax.set_xticks([6,10,14,17,21])\n",
    "    sns.despine(ax=ax)\n",
    "\n",
    "axs[0].set_xlabel('Postnatal day (P)')\n",
    "axs[0].set_ylabel('Gene expr.\\nlog2(archetype / baseline)')\n",
    "axs[0].set_title(f'A genes\\nn={num_uniq_a:,}')\n",
    "axs[1].set_title(f'B genes\\nn={num_uniq_b:,}')\n",
    "axs[2].set_title(f'C genes\\nn={num_uniq_c:,}')\n",
    "output = os.path.join(outfigdir, 'abc_degs_signals_over_time_withDR.pdf') \n",
    "powerplots.savefig_autodate(fig, output)\n",
    "plt.show()"
   ]
  },
  {
   "cell_type": "code",
   "execution_count": null,
   "id": "389cd876-b746-4274-a004-b0cf29f70076",
   "metadata": {},
   "outputs": [],
   "source": []
  },
  {
   "cell_type": "code",
   "execution_count": null,
   "id": "b1b45b6f-4e2f-4b50-9228-f41ceb11e366",
   "metadata": {},
   "outputs": [],
   "source": []
  },
  {
   "cell_type": "code",
   "execution_count": null,
   "id": "e04e8483-3e66-4d5f-8f67-4075960d12ef",
   "metadata": {},
   "outputs": [],
   "source": []
  },
  {
   "cell_type": "code",
   "execution_count": null,
   "id": "6c15e5df-918f-416c-88be-0f1fe95a834c",
   "metadata": {},
   "outputs": [],
   "source": []
  },
  {
   "cell_type": "code",
   "execution_count": null,
   "id": "8fa573b6-71c3-4057-9407-91fab7a36191",
   "metadata": {},
   "outputs": [],
   "source": []
  },
  {
   "cell_type": "code",
   "execution_count": null,
   "id": "c2877a5b-2dcb-478a-b2af-74d7f62848fb",
   "metadata": {},
   "outputs": [],
   "source": []
  },
  {
   "cell_type": "code",
   "execution_count": null,
   "id": "2214c360-0c38-4bc9-8631-6bd8c9dbd91c",
   "metadata": {
    "tags": []
   },
   "outputs": [],
   "source": [
    "df_res_all = []\n",
    "\n",
    "for label, cond_sig in zip(['A', 'C', 'B'], \n",
    "                           [cond_sig_a, cond_sig_c, cond_sig_b]):\n",
    "    \n",
    "    cond_idx, gene_idx = np.nonzero(cond_sig.astype(int))\n",
    "    \n",
    "    df_res = pd.DataFrame()\n",
    "    df_res['cond'] = uniq_conds[cond_idx]\n",
    "    df_res['gene'] = genes[gene_idx]\n",
    "    df_res['archetype'] = label\n",
    "    df_res_all.append(df_res)\n",
    "    \n",
    "df_res_all = pd.concat(df_res_all)\n",
    "df_res_all\n",
    "    "
   ]
  },
  {
   "cell_type": "code",
   "execution_count": null,
   "id": "ce04254c-9137-409b-bff7-e2b5912123b5",
   "metadata": {},
   "outputs": [],
   "source": [
    "# df_res_all.to_csv(fout3, header=True, index=False)"
   ]
  },
  {
   "cell_type": "code",
   "execution_count": null,
   "id": "fca05014-961d-41c6-bb45-d1b0c271a56b",
   "metadata": {
    "tags": []
   },
   "outputs": [],
   "source": [
    "df_res_all.groupby('gene').sum()"
   ]
  },
  {
   "cell_type": "code",
   "execution_count": null,
   "id": "b97b55cd-5c2c-4a27-b721-6d1ed863f9ce",
   "metadata": {},
   "outputs": [],
   "source": []
  },
  {
   "cell_type": "markdown",
   "id": "b3848f6e-1365-4f5a-9d7e-cbc6ddcbd4b6",
   "metadata": {},
   "source": [
    "# Volcano"
   ]
  },
  {
   "cell_type": "code",
   "execution_count": null,
   "id": "dca633d6-8bbf-43ac-87c2-fcd773d33ccf",
   "metadata": {
    "tags": []
   },
   "outputs": [],
   "source": [
    "def show_volcano_v2(thetypeidx, thetype, lfc, qs,\n",
    "                    cond1, cond2up, cond2dn, \n",
    "                    querygenes_idx=None, \n",
    "                    gene_annots=None,\n",
    "                    ax=None, bbox_to_anchor=(1,1), loc=None,\n",
    "                   ): \n",
    "    \"\"\"\n",
    "    \"\"\"\n",
    "    eff = lfc[:,thetypeidx]\n",
    "    pvl = -np.log10(np.clip(qs[:,thetypeidx], 1e-50, None)) # +1e-10)\n",
    "    cnd_up = np.all([cond1[:,thetypeidx], \n",
    "                     cond2up[:,thetypeidx]], axis=0) \n",
    "    cnd_dn = np.all([cond1[:,thetypeidx], \n",
    "                     cond2dn[:,thetypeidx]], axis=0) \n",
    "\n",
    "    if ax is None: \n",
    "        fig, ax = plt.subplots()\n",
    "    \n",
    "    # all genes\n",
    "    ax.scatter(eff, pvl, s=1, color='lightgray', rasterized=True)\n",
    "\n",
    "    # up genes\n",
    "    ax.scatter(eff[cnd_up], pvl[cnd_up], s=3, facecolors='C0', rasterized=True)\n",
    "    # dn genes\n",
    "    ax.scatter(eff[cnd_dn], pvl[cnd_dn], s=3, facecolors='C1', rasterized=True)\n",
    "    \n",
    "    # # query genes\n",
    "    # add text\n",
    "    if querygenes_idx is not None:\n",
    "        ax.scatter(eff[querygenes_idx], pvl[querygenes_idx], s=15, \n",
    "                   # label=f'type-specific (n={len(querygenes_idx):,})',\n",
    "                   facecolors='none', edgecolors='k', linewidth=1, rasterized=True)\n",
    "        for idx in querygenes_idx:\n",
    "            ax.text(eff[idx], pvl[idx], gene_annots[idx], fontsize=10)\n",
    "\n",
    "            \n",
    "    # ax.grid(axis='y')\n",
    "    sns.despine(ax=ax)\n",
    "    ax.set_xlabel('log2(FC) (C/A in CP10k)')\n",
    "    ax.set_ylabel('-log10(adj. p)')\n",
    "    ax.set_title(f'{thetype}')\n",
    "    ax.text(1,0.1,\n",
    "            f'up (n={cnd_up.sum():,})\\ndown (n={cnd_dn.sum():,})', \n",
    "            ha='right',\n",
    "            fontsize=10, transform=ax.transAxes)\n",
    "    return "
   ]
  },
  {
   "cell_type": "code",
   "execution_count": null,
   "id": "171443b5-fe89-4513-94ed-d64a0134e85d",
   "metadata": {
    "tags": []
   },
   "outputs": [],
   "source": [
    "genes_comm = adata.var.index.values\n",
    "lfc = l2fc_tensor[:,0,:].T\n",
    "qs  = qs_tensor[:,0,:].T\n",
    "lfc_th, qs_th = 1, 0.05"
   ]
  },
  {
   "cell_type": "code",
   "execution_count": null,
   "id": "ed91043c-0d42-4da6-8073-580098d269a3",
   "metadata": {
    "tags": []
   },
   "outputs": [],
   "source": [
    "cond1   = qs  <  qs_th\n",
    "cond2up = lfc >  lfc_th\n",
    "cond2dn = lfc < -lfc_th"
   ]
  },
  {
   "cell_type": "code",
   "execution_count": null,
   "id": "e4bac217-6209-4e00-ac6e-3579d9e48ac7",
   "metadata": {
    "tags": []
   },
   "outputs": [],
   "source": [
    "unq_conds = natsorted(np.unique(adata.obs['cond']))\n",
    "unq_conds"
   ]
  },
  {
   "cell_type": "code",
   "execution_count": null,
   "id": "709118f2-e5cd-4ee6-a2ce-a81e5fba0ced",
   "metadata": {
    "tags": []
   },
   "outputs": [],
   "source": [
    "n = len(unq_conds)\n",
    "fig, axs = plt.subplots(1,n,figsize=(4*n,4*1), sharex=True, sharey=True)\n",
    "for cond_idx, thecond in enumerate(unq_conds):\n",
    "    ax = axs.flat[cond_idx]\n",
    "    show_volcano_v2(cond_idx, thecond, lfc, qs, cond1, cond2up, cond2dn, \n",
    "                    # typegenes_idx, \n",
    "                    ax=ax, bbox_to_anchor=(0.5, -0.3), loc='upper center')\n",
    "    sns.despine(ax=ax)\n",
    "fig.tight_layout()\n",
    "\n",
    "# output = os.path.join(outfigdir, \"volcano.pdf\")\n",
    "# powerplots.savefig_autodate(fig, output)\n",
    "plt.show()"
   ]
  },
  {
   "cell_type": "code",
   "execution_count": null,
   "id": "2c358a9b-874e-4f39-91f0-d1284b16e104",
   "metadata": {},
   "outputs": [],
   "source": [
    "querygenes = ['Meis2','Foxp1','Cdh13','Cdh12']\n",
    "querygenes_idx = basicu.get_index_from_array(genes_comm, querygenes) \n",
    "gene_annots = genes_comm\n",
    "\n",
    "n = len(unq_conds)\n",
    "fig, axs = plt.subplots(3,4,figsize=(4*4,4*3), sharex=True, sharey=True)\n",
    "for cond_idx, thecond in enumerate(unq_conds):\n",
    "    ax = axs.flat[cond_idx]\n",
    "    show_volcano_v2(cond_idx, thecond, lfc, qs, cond1, cond2up, cond2dn, \n",
    "                    querygenes_idx=querygenes_idx, \n",
    "                    gene_annots=genes_comm,\n",
    "                    ax=ax, bbox_to_anchor=(0.5, -0.3), loc='upper center')\n",
    "    sns.despine(ax=ax)\n",
    "fig.tight_layout()\n",
    "plt.show()"
   ]
  },
  {
   "cell_type": "code",
   "execution_count": null,
   "id": "6a992779-3e23-497a-9841-d507a20548b3",
   "metadata": {
    "tags": []
   },
   "outputs": [],
   "source": [
    "genes_sig = genes_comm[np.any(np.abs(lfc) > 1, axis=1)]\n",
    "querygenes = np.intersect1d(gene_modules.annots['tf'], genes_sig) #['Meis2','Foxp1','Cdh13','Cdh12']\n",
    "querygenes_idx = basicu.get_index_from_array(genes_comm, querygenes) \n",
    "gene_annots = genes_comm\n",
    "\n",
    "n = len(unq_conds)\n",
    "fig, axs = plt.subplots(3,4,figsize=(4*4,4*3), sharex=True, sharey=True)\n",
    "for cond_idx, thecond in enumerate(unq_conds):\n",
    "    ax = axs.flat[cond_idx]\n",
    "    show_volcano_v2(cond_idx, thecond, lfc, qs, cond1, cond2up, cond2dn, \n",
    "                    querygenes_idx=querygenes_idx, \n",
    "                    gene_annots=genes_comm,\n",
    "                    ax=ax, bbox_to_anchor=(0.5, -0.3), loc='upper center')\n",
    "    sns.despine(ax=ax)\n",
    "fig.tight_layout()\n",
    "plt.show()"
   ]
  },
  {
   "cell_type": "code",
   "execution_count": null,
   "id": "93cea381-7661-4aec-b99e-5558909a0c92",
   "metadata": {},
   "outputs": [],
   "source": []
  }
 ],
 "metadata": {
  "kernelspec": {
   "display_name": "Python 3 (ipykernel)",
   "language": "python",
   "name": "python3"
  },
  "language_info": {
   "codemirror_mode": {
    "name": "ipython",
    "version": 3
   },
   "file_extension": ".py",
   "mimetype": "text/x-python",
   "name": "python",
   "nbconvert_exporter": "python",
   "pygments_lexer": "ipython3",
   "version": "3.9.16"
  }
 },
 "nbformat": 4,
 "nbformat_minor": 5
}
