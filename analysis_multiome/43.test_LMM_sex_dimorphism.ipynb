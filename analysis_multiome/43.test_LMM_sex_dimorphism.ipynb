{
 "cells": [
  {
   "cell_type": "code",
   "execution_count": null,
   "id": "30b97a56-8884-4718-a56d-fc8af8e882e7",
   "metadata": {},
   "outputs": [],
   "source": [
    "import statsmodels.formula.api as smf\n",
    "import pandas as pd\n",
    "import numpy as np"
   ]
  },
  {
   "cell_type": "code",
   "execution_count": null,
   "id": "e93d4cdc-ff70-45be-8af6-eb53bb681077",
   "metadata": {
    "tags": []
   },
   "outputs": [],
   "source": [
    "# Simulate data similar to sleepstudy\n",
    "np.random.seed(42)\n",
    "n_subjects = 20\n",
    "n_days = 10\n",
    "subjects = np.repeat(np.arange(n_subjects), n_days)\n",
    "days = np.tile(np.arange(n_days), n_subjects)\n",
    "reaction = 250 + 10 * days + np.random.normal(scale=10, size=n_subjects * n_days)\n",
    "subject_effect = np.repeat(np.random.normal(scale=20, size=n_subjects), n_days)\n",
    "reaction += subject_effect\n",
    "\n",
    "df = pd.DataFrame({\n",
    "    'Subject': subjects,\n",
    "    'Days': days,\n",
    "    'Reaction': reaction\n",
    "})\n",
    "\n",
    "df"
   ]
  },
  {
   "cell_type": "code",
   "execution_count": null,
   "id": "81ce6cf0-9f88-455a-88c4-d1942e9ecb67",
   "metadata": {
    "tags": []
   },
   "outputs": [],
   "source": [
    "# Fit LMM: random intercept model\n",
    "model = smf.mixedlm(\"Reaction ~ Days\", df, groups=\"Subject\")\n",
    "result = model.fit()\n",
    "print(result.summary())"
   ]
  },
  {
   "cell_type": "code",
   "execution_count": null,
   "id": "f6b1b004-4f52-4221-b2bf-708bf965e68e",
   "metadata": {
    "tags": []
   },
   "outputs": [],
   "source": [
    "result.predict(df)"
   ]
  },
  {
   "cell_type": "code",
   "execution_count": null,
   "id": "430a306d-508f-4227-bd44-88f424ade345",
   "metadata": {},
   "outputs": [],
   "source": []
  }
 ],
 "metadata": {
  "kernelspec": {
   "display_name": "Python 3 (ipykernel)",
   "language": "python",
   "name": "python3"
  },
  "language_info": {
   "codemirror_mode": {
    "name": "ipython",
    "version": 3
   },
   "file_extension": ".py",
   "mimetype": "text/x-python",
   "name": "python",
   "nbconvert_exporter": "python",
   "pygments_lexer": "ipython3",
   "version": "3.9.16"
  }
 },
 "nbformat": 4,
 "nbformat_minor": 5
}
