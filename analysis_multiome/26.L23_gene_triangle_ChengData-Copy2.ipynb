{
 "cells": [
  {
   "cell_type": "code",
   "execution_count": null,
   "id": "bb214b6d-836a-49b8-93dd-a19f021215b7",
   "metadata": {
    "tags": []
   },
   "outputs": [],
   "source": [
    "import os\n",
    "import numpy as np\n",
    "import pandas as pd\n",
    "import scanpy as sc\n",
    "import anndata \n",
    "import seaborn as sns\n",
    "from scipy.stats import zscore\n",
    "import matplotlib.pyplot as plt\n",
    "import collections\n",
    "from natsort import natsorted\n",
    "\n",
    "from scipy import stats\n",
    "from scipy import sparse\n",
    "from sklearn.decomposition import PCA\n",
    "from umap import UMAP\n",
    "\n",
    "from matplotlib.colors import LinearSegmentedColormap\n",
    "\n",
    "from scroutines.config_plots import *\n",
    "from scroutines import powerplots # .config_plots import *\n",
    "from scroutines import pnmf\n",
    "from scroutines import basicu\n",
    "from scroutines.gene_modules import GeneModules  \n"
   ]
  },
  {
   "cell_type": "code",
   "execution_count": null,
   "id": "0338db7e-fa95-40a9-9ae8-82a5159a8b26",
   "metadata": {},
   "outputs": [],
   "source": [
    "outfigdir = \"/u/home/f/f7xiesnm/project-zipursky/v1-bb/ms_reanalysis/241209\"\n",
    "!mkdir -p $outfigdir\n",
    "fig_manager = powerplots.FigManager(outfigdir)"
   ]
  },
  {
   "cell_type": "code",
   "execution_count": null,
   "id": "1bf8a720-2d31-463f-91f1-5645207518f2",
   "metadata": {},
   "outputs": [],
   "source": [
    "%%time\n",
    "adata = anndata.read(\"../../data/cheng21_cell_scrna/reorganized/all_L23_pcs_allsamples_250114.h5ad\") #, backed='r')\n",
    "adata"
   ]
  },
  {
   "cell_type": "code",
   "execution_count": null,
   "id": "8962f999-df37-4044-b037-0606f84f9216",
   "metadata": {
    "tags": []
   },
   "outputs": [],
   "source": [
    "unq_conds = adata.obs['cond'].unique().astype(str) # values\n",
    "unq_conds = [cond for cond in unq_conds if cond.endswith('NR')]\n",
    "adata = adata[adata.obs['cond'].isin(unq_conds)]\n",
    "unq_conds, adata"
   ]
  },
  {
   "cell_type": "code",
   "execution_count": null,
   "id": "b434401b-1bc1-47cf-9994-84eb3f4d3d4f",
   "metadata": {
    "tags": []
   },
   "outputs": [],
   "source": [
    "genes = adata.var.index.values"
   ]
  },
  {
   "cell_type": "code",
   "execution_count": null,
   "id": "c025e90b-d154-481f-8413-6bbb22a60f3f",
   "metadata": {
    "tags": []
   },
   "outputs": [],
   "source": [
    "!ls ../../data/cheng21_cell_scrna/reorganized/*"
   ]
  },
  {
   "cell_type": "code",
   "execution_count": null,
   "id": "3494e047-6e7b-4fdc-b553-b9f79d67a30b",
   "metadata": {
    "tags": []
   },
   "outputs": [],
   "source": [
    "adata"
   ]
  },
  {
   "cell_type": "code",
   "execution_count": null,
   "id": "adc0173e-fc25-49dc-aa1c-055eb169bb45",
   "metadata": {},
   "outputs": [],
   "source": []
  },
  {
   "cell_type": "code",
   "execution_count": null,
   "id": "0fa80c37-3a19-4394-8936-4c99795265ce",
   "metadata": {},
   "outputs": [],
   "source": []
  },
  {
   "cell_type": "code",
   "execution_count": null,
   "id": "1b8bb986-1163-4fe2-b7bf-deac89263c40",
   "metadata": {},
   "outputs": [],
   "source": []
  },
  {
   "cell_type": "code",
   "execution_count": null,
   "id": "d0fef0db-86a9-4838-980e-78cc9e98f43e",
   "metadata": {},
   "outputs": [],
   "source": []
  },
  {
   "cell_type": "markdown",
   "id": "f2273d28-a649-4b3e-b17c-75eaea4476f2",
   "metadata": {},
   "source": [
    "# big tensor"
   ]
  },
  {
   "cell_type": "code",
   "execution_count": null,
   "id": "09d57655-c050-4842-a623-8fd8cac63496",
   "metadata": {
    "tags": []
   },
   "outputs": [],
   "source": [
    "# by condition\n",
    "nt, nc, nr, ng = len(unq_conds), 5, 2, len(adata.var)  # time/condition, cluster, rep, gene \n",
    "tensor = np.zeros((nt, nc, nr, ng))\n",
    "\n",
    "for i, cond in enumerate(unq_conds):\n",
    "    adatasub = adata[adata.obs['cond']==cond]\n",
    "    \n",
    "    # by type -- cut into nc=5 equal bins\n",
    "    x = adatasub.obsm['pcs_p28on'][...,0]\n",
    "    type_lbls = pd.qcut(x, nc, labels=np.arange(nc)).astype(int)\n",
    "    unq_types = np.unique(type_lbls)\n",
    "    \n",
    "    # by replicates -- first two\n",
    "    sample_lbls = adatasub.obs['sample'].values\n",
    "    unq_samples = np.unique(sample_lbls)[:nr] # first nr samples if n > nr2\n",
    "    \n",
    "    for j, qtype in enumerate(unq_types):\n",
    "        for k, samp in enumerate(unq_samples):\n",
    "            selector = ((sample_lbls==samp) & (type_lbls==qtype))\n",
    "            tensor[i,j,k] = np.sum(np.array(adatasub[selector].X.todense()), axis=0) # sum over all cells\n",
    "            \n",
    "# normalize it as CPM; log2(CPM+1)\n",
    "tensor = (tensor/np.sum(tensor, axis=-1, keepdims=True))*1e6\n",
    "tensor = np.log2(1+tensor) \n",
    "tensor.shape"
   ]
  },
  {
   "cell_type": "code",
   "execution_count": null,
   "id": "8e3214a9-3c61-473d-9d01-fcb0038ef6f3",
   "metadata": {
    "tags": []
   },
   "outputs": [],
   "source": [
    "cond_nonzeroexp = (tensor.max(axis=(0,1,2)) > 1e-10)\n",
    "tensor = tensor[:,:,:,cond_nonzeroexp]\n",
    "genes_comm = adata.var.index.values\n",
    "genes_comm = genes_comm[cond_nonzeroexp]\n",
    "tensor.shape, genes_comm.shape"
   ]
  },
  {
   "cell_type": "markdown",
   "id": "45e4b323-ffa1-4b5b-bf54-5620ef4b15a0",
   "metadata": {},
   "source": [
    "# gene triangle analysis "
   ]
  },
  {
   "cell_type": "code",
   "execution_count": null,
   "id": "b58fdbe6-7bd6-402e-8cbb-c6ad99e88b1b",
   "metadata": {
    "tags": []
   },
   "outputs": [],
   "source": [
    "def get_2way_eta2_allgenes(nums):\n",
    "    \"\"\"\n",
    "    nums: c0, c1, r, g matrix - (cond0, cond1, reps, genes)\n",
    "    \n",
    "    return (eta2, stdv) - vectors one entry for each gene\n",
    "    \"\"\"\n",
    "    nc0, nc1, nr, ng = nums.shape # (num cond0, cond1, num rep, num genes)\n",
    "\n",
    "    rm   = np.mean(nums, axis=(0,1,2)) # global mean; reduced form\n",
    "    rm0  = np.mean(nums, axis=(1,2))   # mean per c0 across reps and ignoring c1  \n",
    "    rm1  = np.mean(nums, axis=(0,2))   # mean per c1 across reps and ignoring c0 \n",
    "    rm01 = np.mean(nums, axis=(2)) # mean per (c0, c1) across reps  \n",
    "    \n",
    "    em   = np.expand_dims(rm  , axis=(0,1,2)) # expanded form\n",
    "    em0  = np.expand_dims(rm0 , axis=(1,2))   # expanded form\n",
    "    em1  = np.expand_dims(rm1 , axis=(0,2))   # expanded form\n",
    "    em01 = np.expand_dims(rm01, axis=(2))     #  \n",
    "\n",
    "    # # SSt \n",
    "    SSt  = np.sum(np.power(nums-em, 2),   axis=(0,1,2))  \n",
    "    \n",
    "    # # SSwr (noise)\n",
    "    SSwr = np.sum(np.power(nums-em01, 2), axis=(0,1,2))  # within (c0,c1) across reps \n",
    "    \n",
    "    # # SSw\n",
    "    SSw0 = nr*np.sum(np.power(em01-em0, 2),  axis=(0,1,2))  # within c0 across reps and ignoring c1\n",
    "    SSw1 = nr*np.sum(np.power(em01-em1, 2),  axis=(0,1,2))  # within c1 across reps and ignoring c0 \n",
    "    \n",
    "    # SSt = SSwr + SSexp\n",
    "    # where SSexp = SSw0 + SSexp0 = SSw1 + SSexp1\n",
    "    SSexp  = SSt   - SSwr\n",
    "    SSexp0 = SSexp - SSw0\n",
    "    SSexp1 = SSexp - SSw1\n",
    "    \n",
    "    # return SSt, SSwr, SSw0, SSw1\n",
    "    \n",
    "    o = 1e-10\n",
    "    eta2_01 = (SSexp +o)/(SSt+o)\n",
    "    eta2_0  = (SSexp0+o)/(SSt+o)\n",
    "    eta2_1  = (SSexp1+o)/(SSt+o)\n",
    "    \n",
    "    return eta2_01, eta2_0, eta2_1\n"
   ]
  },
  {
   "cell_type": "code",
   "execution_count": null,
   "id": "403f6998-cd5c-45c3-895c-c8574907adff",
   "metadata": {
    "tags": []
   },
   "outputs": [],
   "source": [
    "eta2_tc, eta2_t, eta2_c = get_2way_eta2_allgenes(tensor)\n",
    "eta2_r = 1-eta2_tc\n",
    "eta2_tic = eta2_tc-(eta2_t+eta2_c)"
   ]
  },
  {
   "cell_type": "code",
   "execution_count": null,
   "id": "3635cc2d-981c-4d3e-a151-5f4d134973cf",
   "metadata": {
    "tags": []
   },
   "outputs": [],
   "source": [
    "fig, ax = plt.subplots(figsize=(5,6))\n",
    "sns.boxplot([eta2_t, eta2_c, \n",
    "             eta2_r, \n",
    "             # eta2_t+eta2_r, \n",
    "             # eta2_t+eta2_c+eta2_r,\n",
    "             eta2_t+eta2_c, \n",
    "             eta2_tic,  \n",
    "             eta2_tc,  \n",
    "            ])\n",
    "ax.set_xticklabels(['time', 'type', \n",
    "                    'rep', \n",
    "                    # 'time+\\nrep', \n",
    "                    # 'time+\\ntype+\\nrep',\n",
    "                    'time+\\ntype', \n",
    "                    'time int\\ntype', \n",
    "                    'time&\\ntype', \n",
    "                   ], rotation=0, fontsize=12)\n",
    "ax.set_ylabel('variance explained by')\n",
    "plt.show()"
   ]
  },
  {
   "cell_type": "code",
   "execution_count": null,
   "id": "8783fa7e-18a7-445f-b010-9a31b277e632",
   "metadata": {
    "tags": []
   },
   "outputs": [],
   "source": [
    "fig, ax = plt.subplots(figsize=(8,6))\n",
    "g = ax.scatter(eta2_t, eta2_c, c=1-eta2_tc, s=1, cmap='viridis', vmin=0, vmax=1)\n",
    "fig.colorbar(g, shrink=0.5, ticks=[0, 0.5, 1], label='var exp replicates')\n",
    "ax.set_aspect('equal')\n",
    "ax.set_xlabel('var exp time')\n",
    "ax.set_ylabel('var exp type')\n",
    "plt.show()"
   ]
  },
  {
   "cell_type": "markdown",
   "id": "5e45b715-ed4e-4116-a082-f33db87d3704",
   "metadata": {
    "tags": []
   },
   "source": [
    "# check a few genes"
   ]
  },
  {
   "cell_type": "code",
   "execution_count": null,
   "id": "ef4b7ee8-4a20-4ada-b326-192a73f047d2",
   "metadata": {
    "tags": []
   },
   "outputs": [],
   "source": [
    "def plot_query_gene_landscape(key, val):\n",
    "    val_idx = basicu.get_index_from_array(genes_comm, val)\n",
    "    x = eta2_t[val_idx]\n",
    "    y = eta2_c[val_idx]\n",
    "\n",
    "    fig, ax = plt.subplots(1, 1, figsize=(5*1,6*1))\n",
    "    ax.set_title(key)\n",
    "    # ax.set_title(f'{key}\\nn={len(val)}/{len(genes_annots[key])}')\n",
    "    ax.set_xticks([0, 0.5, 1])\n",
    "    ax.set_yticks([0, 0.5, 1])\n",
    "\n",
    "    g = ax.scatter(eta2_t, eta2_c, s=1, c='lightgray')\n",
    "    g2 = ax.scatter(x, y, s=1, c='C1', zorder=2)\n",
    "    for xi, yi, vali in zip(x, y, val):\n",
    "        ax.text(xi, yi, vali, fontsize=10)\n",
    "    sns.despine(ax=ax)\n",
    "    ax.set_xlim([0,1])\n",
    "    ax.set_ylim([0,1])\n",
    "    ax.set_xlabel('time')\n",
    "    ax.set_ylabel('type')\n",
    "\n",
    "    ax.set_aspect('equal')\n",
    "    plt.show()"
   ]
  },
  {
   "cell_type": "code",
   "execution_count": null,
   "id": "c43e66e0-fa33-419c-9cc7-a97d6f5aee22",
   "metadata": {
    "tags": []
   },
   "outputs": [],
   "source": [
    "def plot_query_genes(query_genes, X, ts, colors=None, nxset=5, X2=None, ts2=None):\n",
    "    if colors is None:\n",
    "        colors = sns.color_palette('coolwarm', len(types))\n",
    "    \n",
    "    query_gis   = basicu.get_index_from_array(genes_comm, query_genes)\n",
    "    gnames = genes_comm[query_gis]\n",
    "    \n",
    "    pbulks_sub = X[:,:,:,query_gis]\n",
    "    pbulks_sub = np.swapaxes(pbulks_sub, 0, 3) # nt, nc, nr, ng -> ng, nc, nr, nt\n",
    "    \n",
    "    if X2 is not None:\n",
    "        pbulks_sub2 = X2[:,:,:,query_gis]\n",
    "        pbulks_sub2 = np.swapaxes(pbulks_sub2, 0, 3) # nt, nc, nr, ng -> ng, nc, nr, nt\n",
    "    \n",
    "    n = len(query_gis)\n",
    "    nx = min(n, nxset)\n",
    "    ny = int((n+nx-1)/nx)\n",
    "    \n",
    "    s=3\n",
    "\n",
    "    fig, axs = plt.subplots(ny,nx,figsize=(nx*3,ny*4), sharex=True)\n",
    "    for j, (pbulks_g, gname, ax) in enumerate(zip(pbulks_sub, gnames, axs.flat)):\n",
    "        ax.set_title(gname)\n",
    "        for i in range(nc):\n",
    "            color = colors[i]\n",
    "            lbl = types[i]\n",
    "            ax.plot(ts, np.mean(pbulks_g[i], axis=0), color=color, label=lbl, linewidth=3)\n",
    "            ax.scatter(ts, pbulks_g[i][0], s=s, color=color)\n",
    "            ax.scatter(ts, pbulks_g[i][1], s=s, color=color)\n",
    "\n",
    "        sns.despine(ax=ax)\n",
    "        ax.grid(False) # , axis='x')\n",
    "\n",
    "        ax.set_xticks(ts)\n",
    "        ax.tick_params(axis='both', which='major', labelsize=10)\n",
    "\n",
    "        if j % 5 == 0:\n",
    "            ax.set_ylabel('log2(CPM+1)')\n",
    "            \n",
    "    if X2 is not None:\n",
    "        for j, (pbulks_g, gname, ax) in enumerate(zip(pbulks_sub2, gnames, axs.flat)):\n",
    "            ax.set_title(gname)\n",
    "            for i in range(nc):\n",
    "                color = colors[i]\n",
    "                lbl = types[i]\n",
    "                ax.plot(ts2, np.mean(pbulks_g[i], axis=0), color=color  , label=lbl, linewidth=3)\n",
    "                ax.plot(ts2, np.mean(pbulks_g[i], axis=0), color='k', label=lbl, linewidth=2, linestyle='--')\n",
    "                ax.scatter(ts2, pbulks_g[i][0], s=s, color=color, marker='s',)\n",
    "                ax.scatter(ts2, pbulks_g[i][1], s=s, color=color, marker='s',)\n",
    "\n",
    "\n",
    "    fig.tight_layout()\n",
    "    plt.show()"
   ]
  },
  {
   "cell_type": "code",
   "execution_count": null,
   "id": "2d3ba4f2-3a51-4cde-bcb9-43acafc10ad2",
   "metadata": {},
   "outputs": [],
   "source": [
    "def plot_query_genes_2ends(query_genes, X, ts, colors=None, nxset=5, X2=None, ts2=None):\n",
    "    if colors is None:\n",
    "        colors = sns.color_palette('coolwarm', len(types))\n",
    "    \n",
    "    query_gis   = basicu.get_index_from_array(genes_comm, query_genes)\n",
    "    gnames = genes_comm[query_gis]\n",
    "    \n",
    "    pbulks_sub = X[:,:,:,query_gis]\n",
    "    pbulks_sub = np.swapaxes(pbulks_sub, 0, 3) # nt, nc, nr, ng -> ng, nc, nr, nt\n",
    "    \n",
    "    if X2 is not None:\n",
    "        pbulks_sub2 = X2[:,:,:,query_gis]\n",
    "        pbulks_sub2 = np.swapaxes(pbulks_sub2, 0, 3) # nt, nc, nr, ng -> ng, nc, nr, nt\n",
    "    \n",
    "    n = len(query_gis)\n",
    "    nx = min(n, nxset)\n",
    "    ny = int((n+nx-1)/nx)\n",
    "    \n",
    "    s=3\n",
    "\n",
    "    fig, axs = plt.subplots(ny,nx,figsize=(nx*3,ny*4), sharex=True)\n",
    "    for j, (pbulks_g, gname, ax) in enumerate(zip(pbulks_sub, gnames, axs.flat)):\n",
    "        ax.set_title(gname)\n",
    "        for i in [0, int(nc/2), nc-1]:\n",
    "            color = colors[i]\n",
    "            lbl = types[i]\n",
    "            ax.plot(ts, np.mean(pbulks_g[i], axis=0), color=color, label=lbl, linewidth=3)\n",
    "            ax.scatter(ts, pbulks_g[i][0], s=s, color=color)\n",
    "            ax.scatter(ts, pbulks_g[i][1], s=s, color=color)\n",
    "\n",
    "        sns.despine(ax=ax)\n",
    "        ax.grid(False) # , axis='x')\n",
    "\n",
    "        ax.set_xticks(ts)\n",
    "        ax.tick_params(axis='both', which='major', labelsize=10)\n",
    "\n",
    "        if j % 5 == 0:\n",
    "            ax.set_ylabel('log2(CPM+1)')\n",
    "            \n",
    "    if X2 is not None:\n",
    "        for j, (pbulks_g, gname, ax) in enumerate(zip(pbulks_sub2, gnames, axs.flat)):\n",
    "            ax.set_title(gname)\n",
    "            # for i in [0, nc-1]:\n",
    "            for i in [0, int(nc/2), nc-1]:\n",
    "                color = colors[i]\n",
    "                lbl = types[i]\n",
    "                ax.plot(ts2, np.mean(pbulks_g[i], axis=0), color=color, label=lbl, linewidth=3, alpha=0.5)\n",
    "                ax.scatter(ts2, pbulks_g[i][0], s=s, color=color, marker='s', linewidth=1,)\n",
    "                ax.scatter(ts2, pbulks_g[i][1], s=s, color=color, marker='s', linewidth=1,)\n",
    "\n",
    "\n",
    "    fig.tight_layout()\n",
    "    return fig\n",
    "    # plt.show()"
   ]
  },
  {
   "cell_type": "code",
   "execution_count": null,
   "id": "980e7030-c0be-4e1a-a644-003b663c9eb3",
   "metadata": {
    "tags": []
   },
   "outputs": [],
   "source": [
    "tensor.shape"
   ]
  },
  {
   "cell_type": "code",
   "execution_count": null,
   "id": "c99f9f5d-ddc1-40c7-ab54-7fbd7710c698",
   "metadata": {
    "tags": []
   },
   "outputs": [],
   "source": [
    "# set up\n",
    "# genes_comm = adata.var.index.values\n",
    "types = ['A', 'AB', 'B', 'BC', 'C']\n",
    "\n",
    "X = tensor[:7]\n",
    "ts = [8, 14, 17, 21, 28, 38]"
   ]
  },
  {
   "cell_type": "code",
   "execution_count": null,
   "id": "e8d22352-cfaa-4237-bf95-709ddc6394d0",
   "metadata": {
    "tags": []
   },
   "outputs": [],
   "source": [
    "X.shape, len(ts)"
   ]
  },
  {
   "cell_type": "code",
   "execution_count": null,
   "id": "f3aa3ad3-7af0-4cc9-b228-e12fdd725c53",
   "metadata": {},
   "outputs": [],
   "source": [
    "from matplotlib.colors import LinearSegmentedColormap\n",
    "\n",
    "colors_a = [(0.0, 'black'), (1.0, 'C0')]      \n",
    "colors_b = [(0.0, 'black'), (1.0, 'C1')]      \n",
    "colors_c = [(0.0, 'black'), (1.0, 'C2')]      \n",
    "\n",
    "# Create a custom colormap using LinearSegmentedColormap\n",
    "cmap_a = LinearSegmentedColormap.from_list('cmap_a', colors_a)\n",
    "cmap_b = LinearSegmentedColormap.from_list('cmap_b', colors_b)\n",
    "cmap_c = LinearSegmentedColormap.from_list('cmap_c', colors_c)\n",
    "\n",
    "colors = [\n",
    "    np.array(cmap_a(1.0)),\n",
    "    0.5*np.array(cmap_a(1.0))+0.5*np.array(cmap_b(1.0)),\n",
    "    np.array(cmap_b(1.0)),\n",
    "    0.5*np.array(cmap_b(1.0))+0.5*np.array(cmap_c(1.0)),\n",
    "    np.array(cmap_c(1.0)),\n",
    "]"
   ]
  },
  {
   "cell_type": "code",
   "execution_count": null,
   "id": "4747c626-2f64-482a-87b4-28334901c1ad",
   "metadata": {
    "tags": []
   },
   "outputs": [],
   "source": [
    "\n",
    "val = [\n",
    "    'Meis2', 'Nfib', 'Rfx3', 'Foxp1', 'Rorb', 'Maf', 'Sox5', \n",
    "    # 'Npas4', 'Nr3c2',\n",
    "]\n",
    "print(val)\n",
    "fig = plot_query_genes_2ends(val, X, ts, colors=colors, nxset=7)\n",
    "output = os.path.join(outfigdir, 'line_tfs.pdf')\n",
    "powerplots.savefig(fig, output)"
   ]
  },
  {
   "cell_type": "code",
   "execution_count": null,
   "id": "1068c12d-3a31-4c83-b717-625fdf0ee8e1",
   "metadata": {},
   "outputs": [],
   "source": [
    "\n",
    "val = [\n",
    "    'Cdh13', 'Cdh12', 'Igsf9b', 'Pcdh15', 'Epha10', 'Epha3', 'Epha6'\n",
    "    # 'Npas4', 'Nr3c2',\n",
    "]\n",
    "print(val)\n",
    "fig = plot_query_genes_2ends(val, X, ts, colors=colors, nxset=7)\n",
    "output = os.path.join(outfigdir, 'line_tfs.pdf')\n",
    "powerplots.savefig(fig, output)"
   ]
  },
  {
   "cell_type": "code",
   "execution_count": null,
   "id": "439b5fb5-ca59-4887-942d-0532f9588225",
   "metadata": {},
   "outputs": [],
   "source": []
  },
  {
   "cell_type": "code",
   "execution_count": null,
   "id": "255d8005-7fd1-4f12-b2c9-614227712048",
   "metadata": {},
   "outputs": [],
   "source": []
  },
  {
   "cell_type": "code",
   "execution_count": null,
   "id": "9ecb7d47-b15c-479d-9620-e70ab40f6c89",
   "metadata": {
    "tags": []
   },
   "outputs": [],
   "source": [
    "def plot_query_gene_landscape(key, val):\n",
    "    \"\"\"\n",
    "    \"\"\"\n",
    "    val_idx = basicu.get_index_from_array(genes_comm, val)\n",
    "    x = eta2_t[val_idx]\n",
    "    y = eta2_c[val_idx]\n",
    "\n",
    "    fig, ax = plt.subplots(1, 1, figsize=(5*1,6*1))\n",
    "    ax.set_title(key)\n",
    "    # ax.set_title(f'{key}\\nn={len(val)}/{len(genes_annots[key])}')\n",
    "    ax.set_xticks([0, 0.5, 1])\n",
    "    ax.set_yticks([0, 0.5, 1])\n",
    "\n",
    "    g = ax.scatter(eta2_t, eta2_c, s=1, c='lightgray', rasterized=True)\n",
    "    g2 = ax.scatter(x, y, s=10, c='C1', zorder=2, )\n",
    "    for xi, yi, vali in zip(x, y, val):\n",
    "        ax.text(xi, yi, vali, fontsize=10)\n",
    "    ax.set_xlim([-.05, 1.05])\n",
    "    ax.set_ylim([-.05, 1.05])\n",
    "    \n",
    "    ax.plot([0,1,0,0], [0, 0, 1, 0], '--', color='black', linewidth=1.5, zorder=1)\n",
    "    ax.set_xlabel('time')\n",
    "    ax.set_ylabel('type')\n",
    "\n",
    "    ax.set_aspect('equal')\n",
    "    ax.grid(False)\n",
    "    sns.despine(ax=ax, left=True, bottom=True)\n",
    "    return fig"
   ]
  },
  {
   "cell_type": "code",
   "execution_count": null,
   "id": "b0f038de-b549-48ab-bd64-e88733f34371",
   "metadata": {},
   "outputs": [],
   "source": [
    "key = 'k99'\n",
    "\n",
    "val = [\n",
    "    'Meis2', 'Foxp1', 'Cdh13', 'Igsf9b', 'Fos', 'Nr4a2'\n",
    "]\n",
    "\n",
    "fig = plot_query_gene_landscape(key, val)\n",
    "output = os.path.join(outfigdir, 'k99_1.pdf')\n",
    "powerplots.savefig(fig, output)\n",
    "\n",
    "fig = plot_query_genes_2ends(val, X, ts, colors=colors, nxset=7)\n",
    "output = os.path.join(outfigdir, 'k99_2.pdf')\n",
    "powerplots.savefig(fig, output)"
   ]
  },
  {
   "cell_type": "code",
   "execution_count": null,
   "id": "46729b42-9f76-4aa6-9575-9cf29674b7ef",
   "metadata": {},
   "outputs": [],
   "source": [
    "outfigdir"
   ]
  },
  {
   "cell_type": "code",
   "execution_count": null,
   "id": "b2e761ad-e2b1-4504-832f-39a327295b8d",
   "metadata": {},
   "outputs": [],
   "source": []
  },
  {
   "cell_type": "code",
   "execution_count": null,
   "id": "5598918d-7526-486e-a590-715dff20476b",
   "metadata": {},
   "outputs": [],
   "source": []
  },
  {
   "cell_type": "code",
   "execution_count": null,
   "id": "8afedd37-aabb-4ac6-b6a8-0ebf7ece55f7",
   "metadata": {},
   "outputs": [],
   "source": []
  },
  {
   "cell_type": "code",
   "execution_count": null,
   "id": "d4d89722-f85a-49e4-8fdd-89af8d77025d",
   "metadata": {},
   "outputs": [],
   "source": []
  },
  {
   "cell_type": "code",
   "execution_count": null,
   "id": "577b4720-4ef4-4368-b5f0-97db294fe3f9",
   "metadata": {},
   "outputs": [],
   "source": []
  },
  {
   "cell_type": "code",
   "execution_count": null,
   "id": "04f94003-7db9-4935-bc71-4d57b0a80484",
   "metadata": {},
   "outputs": [],
   "source": []
  }
 ],
 "metadata": {
  "kernelspec": {
   "display_name": "Python 3 (ipykernel)",
   "language": "python",
   "name": "python3"
  },
  "language_info": {
   "codemirror_mode": {
    "name": "ipython",
    "version": 3
   },
   "file_extension": ".py",
   "mimetype": "text/x-python",
   "name": "python",
   "nbconvert_exporter": "python",
   "pygments_lexer": "ipython3",
   "version": "3.9.16"
  }
 },
 "nbformat": 4,
 "nbformat_minor": 5
}
