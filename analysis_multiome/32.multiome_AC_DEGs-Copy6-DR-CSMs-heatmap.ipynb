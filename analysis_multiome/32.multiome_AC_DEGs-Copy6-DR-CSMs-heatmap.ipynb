{
 "cells": [
  {
   "cell_type": "code",
   "execution_count": null,
   "id": "bb214b6d-836a-49b8-93dd-a19f021215b7",
   "metadata": {
    "tags": []
   },
   "outputs": [],
   "source": [
    "import os\n",
    "import numpy as np\n",
    "import pandas as pd\n",
    "import scanpy as sc\n",
    "import anndata \n",
    "import seaborn as sns\n",
    "from scipy.stats import zscore\n",
    "import matplotlib.pyplot as plt\n",
    "import collections\n",
    "from natsort import natsorted\n",
    "\n",
    "from scipy import stats\n",
    "from scipy import sparse\n",
    "from sklearn.decomposition import PCA\n",
    "from umap import UMAP\n",
    "from statsmodels.stats.multitest import multipletests\n",
    "\n",
    "from matplotlib.colors import LinearSegmentedColormap\n",
    "\n",
    "from scroutines.config_plots import *\n",
    "from scroutines import powerplots # .config_plots import *\n",
    "from scroutines import pnmf\n",
    "from scroutines import basicu\n",
    "from scroutines.gene_modules import GeneModules  \n"
   ]
  },
  {
   "cell_type": "code",
   "execution_count": null,
   "id": "f45abc88-0cbc-4575-8035-9cb157c42bc2",
   "metadata": {},
   "outputs": [],
   "source": [
    "outfigdir = \"/u/home/f/f7xiesnm/project-zipursky/v1-bb/v1/figures/250409\"\n",
    "!mkdir -p $outfigdir"
   ]
  },
  {
   "cell_type": "markdown",
   "id": "ba1f61ee-ba83-4707-816d-37eb33a54b83",
   "metadata": {},
   "source": [
    "# load gene annotation and data"
   ]
  },
  {
   "cell_type": "code",
   "execution_count": null,
   "id": "e2945163-289c-48bf-9147-d5070e4deb8a",
   "metadata": {
    "tags": []
   },
   "outputs": [],
   "source": [
    "gene_modules = GeneModules()\n",
    "g, gs, ms = gene_modules.check_genes('Cdh13')\n",
    "print(\"\\t\".join(g))\n",
    "print(\"\\t\".join(gs))\n",
    "print(\"\\t\".join(ms))"
   ]
  },
  {
   "cell_type": "code",
   "execution_count": null,
   "id": "405a7ffc-7b93-49b8-a63a-9d7eda66b6d7",
   "metadata": {
    "tags": []
   },
   "outputs": [],
   "source": [
    "genes_alltime_hvgs = np.loadtxt('/u/home/f/f7xiesnm/v1_multiome/l23_alltime_hvgs_n4940.txt', dtype='str')\n",
    "genes_alltime_hvgs"
   ]
  },
  {
   "cell_type": "code",
   "execution_count": null,
   "id": "fb72ade4-5ddd-4d8d-9d66-847375e16845",
   "metadata": {},
   "outputs": [],
   "source": [
    "# use those 286 genes\n",
    "df = pd.read_csv(\"/u/home/f/f7xiesnm/project-zipursky/v1-bb/v1/data/cheng21_cell_scrna/res/L23-ABC-genes-n288-n286unq-annot_v3_july8_2024.csv\")\n",
    "genes_l23 = df['gene'].astype(str).values\n",
    "genes_l23a = df[df['P17on']=='A']['gene'].astype(str).values\n",
    "genes_l23b = df[df['P17on']=='B']['gene'].astype(str).values\n",
    "genes_l23c = df[df['P17on']=='C']['gene'].astype(str).values\n",
    "\n",
    "print(genes_l23a.shape, genes_l23b.shape, genes_l23c.shape)\n",
    "genes_grp = df['P17on'].astype(str).values\n",
    "assert len(genes_l23) == len(np.unique(genes_l23))\n",
    "\n",
    "genes_l23.shape"
   ]
  },
  {
   "cell_type": "code",
   "execution_count": null,
   "id": "d83cc9ac-93b8-4814-9c3f-90c9d2b5862d",
   "metadata": {
    "tags": []
   },
   "outputs": [],
   "source": [
    "genes_alltime_hvgs_rm_l23 = genes_alltime_hvgs[~np.isin(genes_alltime_hvgs, genes_l23)]\n",
    "genes_alltime_hvgs_rm_l23.shape"
   ]
  },
  {
   "cell_type": "code",
   "execution_count": null,
   "id": "bc4ba53f-b74e-4eca-82dd-52f9cbbdb104",
   "metadata": {
    "tags": []
   },
   "outputs": [],
   "source": [
    "scores_abc = pd.read_csv(\"/u/home/f/f7xiesnm/project-zipursky/v1-bb/v1/data/v1_multiome/scores_l23abc.csv\", \n",
    "                         index_col=0,\n",
    "                        )\n",
    "scores_abc['scores_c-a'] = scores_abc['scores_c'] - scores_abc['scores_a']\n",
    "scores_abc"
   ]
  },
  {
   "cell_type": "code",
   "execution_count": null,
   "id": "8542eec8-b8e1-4a35-9237-0d3c0043349b",
   "metadata": {},
   "outputs": [],
   "source": [
    "adata = anndata.read(\"/u/home/f/f7xiesnm/project-zipursky/v1-bb/v1/data/v1_multiome/superdupermegaRNA_hasraw_multiome_l23.h5ad\")\n",
    "adata"
   ]
  },
  {
   "cell_type": "code",
   "execution_count": null,
   "id": "345d47ef-df93-4066-b2dd-382bac604a7c",
   "metadata": {
    "tags": []
   },
   "outputs": [],
   "source": [
    "adata.X = adata.raw.X"
   ]
  },
  {
   "cell_type": "code",
   "execution_count": null,
   "id": "47c07c89-4d36-4d6d-b4e5-305180e5bd7b",
   "metadata": {
    "tags": []
   },
   "outputs": [],
   "source": [
    "adata.obs['scores_a'] = scores_abc.loc[adata.obs.index,'scores_a'].copy()\n",
    "adata.obs['scores_b'] = scores_abc.loc[adata.obs.index,'scores_b'].copy()\n",
    "adata.obs['scores_c'] = scores_abc.loc[adata.obs.index,'scores_c'].copy()\n",
    "adata.obs['scores_c-a'] = scores_abc.loc[adata.obs.index,'scores_c-a'].copy()"
   ]
  },
  {
   "cell_type": "code",
   "execution_count": null,
   "id": "c715643c-0748-414c-b477-4294cb85b5cc",
   "metadata": {
    "tags": []
   },
   "outputs": [],
   "source": [
    "sample_labels = adata.obs['Sample'].values\n",
    "time_labels = [s[:-1].replace('DR', '') for s in sample_labels]\n",
    "\n",
    "adata.obs['sample'] = sample_labels #\n",
    "adata.obs['time']   = time_labels\n",
    "\n",
    "uniq_samples = natsorted(np.unique(sample_labels))\n",
    "nr_samples = [s for s in uniq_samples if \"DR\" not in s]\n",
    "dr_samples = [s for s in uniq_samples if \"DR\" in s]\n",
    "\n",
    "uniq_conds = np.array(natsorted(np.unique(adata.obs['cond'].values)))\n",
    "print(uniq_conds)"
   ]
  },
  {
   "cell_type": "code",
   "execution_count": null,
   "id": "f4677f2d-a037-4ab6-8ed3-12a1daa1acad",
   "metadata": {
    "tags": []
   },
   "outputs": [],
   "source": [
    "nr_idx = np.array([0,1,2,4,6,8,10])\n",
    "dr_idx = np.array([3,5,7,9])\n",
    "\n",
    "nr_times = np.array([6,8,10,12,14,17,21])\n",
    "dr_times = np.array(       [12,14,17,21])"
   ]
  },
  {
   "cell_type": "code",
   "execution_count": null,
   "id": "4d9ae16c-9107-4acd-8405-fbcd84bd8e0d",
   "metadata": {
    "tags": []
   },
   "outputs": [],
   "source": [
    "# remove mitocondria genes\n",
    "adata = adata[:,~adata.var.index.str.contains(r'^mt-')]\n",
    "# remove sex genes\n",
    "adata = adata[:,~adata.var.index.str.contains(r'^Xist$')]\n",
    "\n",
    "# filter genes\n",
    "cond = np.ravel((adata.X>0).sum(axis=0)) > 10 # expressed in more than 10 cells\n",
    "adata = adata[:,cond].copy()"
   ]
  },
  {
   "cell_type": "code",
   "execution_count": null,
   "id": "d7f44744-2143-4267-a3e1-6b1125fdd368",
   "metadata": {
    "tags": []
   },
   "outputs": [],
   "source": [
    "adata"
   ]
  },
  {
   "cell_type": "code",
   "execution_count": null,
   "id": "319c7868-ac3b-4bd7-869d-89bbfc1ef11e",
   "metadata": {
    "tags": []
   },
   "outputs": [],
   "source": [
    "# output = '/u/home/f/f7xiesnm/v1_multiome/multiome_l23_allgenes.txt'\n",
    "\n",
    "# all_genes = adata.var.index.values\n",
    "# print(all_genes.shape)\n",
    "# np.savetxt(output, all_genes, fmt='%s')"
   ]
  },
  {
   "cell_type": "code",
   "execution_count": null,
   "id": "1fadd441-11aa-49ab-abcc-d8d5e9cf47ea",
   "metadata": {
    "tags": []
   },
   "outputs": [],
   "source": [
    "# counts\n",
    "x = adata.X\n",
    "cov = np.ravel(np.sum(x, axis=1))\n",
    "genes = adata.var.index.values\n",
    "\n",
    "# CP10k\n",
    "xn = (sparse.diags(1/cov).dot(x))*1e4\n",
    "\n",
    "# log2(CP10k+1)\n",
    "xln = xn.copy()\n",
    "xln.data = np.log2(xln.data+1)\n",
    "\n",
    "adata.layers[    'norm'] = np.array(xn.todense())\n",
    "adata.layers[ 'lognorm'] = np.array(xln.todense())"
   ]
  },
  {
   "cell_type": "code",
   "execution_count": null,
   "id": "ca1a2495-1866-4ff5-9ade-6d6dd08fa64e",
   "metadata": {
    "tags": []
   },
   "outputs": [],
   "source": [
    "genes_idx_alltime_hvgs_rm_l23 = basicu.get_index_from_array(adata.var.index.values, genes_alltime_hvgs_rm_l23)\n",
    "genes_idx_alltime_hvgs_rm_l23"
   ]
  },
  {
   "cell_type": "code",
   "execution_count": null,
   "id": "09d57655-c050-4842-a623-8fd8cac63496",
   "metadata": {
    "tags": []
   },
   "outputs": [],
   "source": [
    "np.random.rand(0)\n",
    "\n",
    "num_archetypal_cells = 100\n",
    "offset = 1 # CP10k + offset (CPM + 100*offset)\n",
    "SHUFFLE = False #False\n",
    "\n",
    "n_pseudo_genes = 35\n",
    "\n",
    "n_cond = len(uniq_conds)\n",
    "n_gene = adata.shape[1] \n",
    "\n",
    "qs_tensor   = np.zeros((n_cond,3,n_gene))  # 3 represents 3 pairwise comparisons (ca, ba, bc)\n",
    "l2fc_tensor = np.zeros((n_cond,3,n_gene))\n",
    "\n",
    "\n",
    "for cond_code, cond in enumerate(uniq_conds):\n",
    "    # get sub\n",
    "    adatasub = adata[adata.obs['cond']==cond]\n",
    "    n_cells = adatasub.shape[0]\n",
    "    \n",
    "    # get A vs C \n",
    "    ranks_ac = adatasub.obs['scores_c-a'].rank()\n",
    "    ranks_b  = adatasub.obs['scores_b'].rank()\n",
    "    \n",
    "    precond_a = ranks_ac <= num_archetypal_cells\n",
    "    precond_c = ranks_ac > adatasub.shape[0] - num_archetypal_cells\n",
    "    precond_b = ranks_b  > adatasub.shape[0] - num_archetypal_cells\n",
    "    \n",
    "    cond_a = np.all([ precond_a, ~precond_b, ~precond_c], axis=0)\n",
    "    cond_b = np.all([~precond_a,  precond_b, ~precond_c], axis=0)\n",
    "    cond_c = np.all([~precond_a, ~precond_b,  precond_c], axis=0)\n",
    "    \n",
    "    # SHUFFLE\n",
    "    if SHUFFLE:\n",
    "        adatasub = adatasub[np.random.choice(n_cells, size=n_cells, replace=False)]\n",
    "    \n",
    "    # print(precond_a.sum(), \n",
    "    #       precond_b.sum(), \n",
    "    #       precond_c.sum(),)\n",
    "    print(cond, cond_a.sum(), cond_b.sum(), cond_c.sum())\n",
    "    \n",
    "    adatasub_a = adatasub[cond_a]\n",
    "    adatasub_b = adatasub[cond_b]\n",
    "    adatasub_c = adatasub[cond_c]\n",
    "    \n",
    "    # DEGs\n",
    "    mat_a = adatasub_a.layers['norm'][...]\n",
    "    mat_b = adatasub_b.layers['norm'][...]\n",
    "    mat_c = adatasub_c.layers['norm'][...]\n",
    "    \n",
    "    logmat_a = adatasub_a.layers['lognorm'][...]\n",
    "    logmat_b = adatasub_b.layers['lognorm'][...]\n",
    "    logmat_c = adatasub_c.layers['lognorm'][...]\n",
    "    \n",
    "    ts_ca, ps_ca = stats.ttest_ind(logmat_c, logmat_a)\n",
    "    ts_ba, ps_ba = stats.ttest_ind(logmat_b, logmat_a)\n",
    "    ts_bc, ps_bc = stats.ttest_ind(logmat_b, logmat_c)\n",
    "    \n",
    "    _, qs_ca, _, _ = multipletests(np.nan_to_num(ps_ca, nan=1).reshape(-1,), method='fdr_bh') # why nan in ps -- not expressed\n",
    "    _, qs_ba, _, _ = multipletests(np.nan_to_num(ps_ba, nan=1).reshape(-1,), method='fdr_bh') # why nan in ps -- not expressed\n",
    "    _, qs_bc, _, _ = multipletests(np.nan_to_num(ps_bc, nan=1).reshape(-1,), method='fdr_bh') # why nan in ps -- not expressed\n",
    "    \n",
    "    l2fc_ca = np.log2(np.mean(mat_c, axis=0)+offset) - np.log2(np.mean(mat_a, axis=0)+offset) # log2FC (CP10k as raw counts)\n",
    "    l2fc_ba = np.log2(np.mean(mat_b, axis=0)+offset) - np.log2(np.mean(mat_a, axis=0)+offset) # log2FC (CP10k as raw counts)\n",
    "    l2fc_bc = np.log2(np.mean(mat_b, axis=0)+offset) - np.log2(np.mean(mat_c, axis=0)+offset) # log2FC (CP10k as raw counts)\n",
    "    \n",
    "    qs_a   = np.minimum(qs_ca, qs_ba) # the better of the two\n",
    "    qs_c   = np.minimum(qs_ca, qs_bc) # the better of the two\n",
    "    qs_b   = np.minimum(qs_ba, qs_bc) # the better of the two\n",
    "\n",
    "    l2fc_a = np.max([-l2fc_ca, -l2fc_ba], axis=0) # mean fold change\n",
    "    l2fc_c = np.max([ l2fc_ca, -l2fc_bc], axis=0) # mean fold change\n",
    "    l2fc_b = np.max([ l2fc_ba,  l2fc_bc], axis=0) # mean fold change\n",
    "\n",
    "    cond_sig_a = np.all([-l2fc_ca > 0, -l2fc_ba > 0, l2fc_a > 1, qs_a < 0.05], axis=0)\n",
    "    cond_sig_c = np.all([ l2fc_ca > 0, -l2fc_bc > 0, l2fc_c > 1, qs_c < 0.05], axis=0)\n",
    "    cond_sig_b = np.all([ l2fc_ba > 0,  l2fc_bc > 0, l2fc_b > 1, qs_b < 0.05], axis=0)\n",
    "    \n",
    "    # save this\n",
    "    l2fc_tensor[cond_code, 0] = l2fc_ca\n",
    "    l2fc_tensor[cond_code, 1] = l2fc_ba\n",
    "    l2fc_tensor[cond_code, 2] = l2fc_bc\n",
    "    \n",
    "    qs_tensor[cond_code, 0] = qs_ca\n",
    "    qs_tensor[cond_code, 1] = qs_ba\n",
    "    qs_tensor[cond_code, 2] = qs_bc\n",
    "    \n",
    "    # [0,1] scaled scores\n",
    "    mat = adatasub.layers['lognorm'][...]\n",
    "    mins = np.min(mat, axis=0)\n",
    "    maxs = np.max(mat, axis=0)\n",
    "    nmat = (mat - mins)/(maxs-mins+1e-10)\n",
    "    \n",
    "    # print(cond, cond_sig_a.sum(), cond_sig_c.sum(), cond_sig_b.sum()) "
   ]
  },
  {
   "cell_type": "markdown",
   "id": "e72bfc99-ef62-40a6-91f2-72959a316701",
   "metadata": {
    "tags": []
   },
   "source": [
    "# output, check results and stats"
   ]
  },
  {
   "cell_type": "code",
   "execution_count": null,
   "id": "e6dd2dc4-71c5-43ad-8ae9-e45f5988b537",
   "metadata": {},
   "outputs": [],
   "source": [
    "# %%time\n",
    "# fout1 = '/u/home/f/f7xiesnm/project-zipursky/v1-bb/v1/data/v1_multiome/DEG_l23abc_qs_250409.npy'\n",
    "# fout2 = '/u/home/f/f7xiesnm/project-zipursky/v1-bb/v1/data/v1_multiome/DEG_l23abc_l2fc_250409.npy'\n",
    "# fout3 = '/u/home/f/f7xiesnm/project-zipursky/v1-bb/v1/data/v1_multiome/DEG_l23abc_gene_list_250409.csv'\n",
    "\n",
    "# np.save(fout1, qs_tensor)\n",
    "# np.save(fout2, l2fc_tensor)"
   ]
  },
  {
   "cell_type": "code",
   "execution_count": null,
   "id": "68521b0d-a21a-4cd2-a830-d1f5a4173743",
   "metadata": {
    "tags": []
   },
   "outputs": [],
   "source": [
    "# qs_tensor = np.load(fout1)\n",
    "# l2fc_tensor = np.load(fout2)\n",
    "\n",
    "l2fc_th = np.log2(2)\n",
    "l2fc_th_s = np.log2(1.2)\n",
    "alpha_th = 0.05"
   ]
  },
  {
   "cell_type": "code",
   "execution_count": null,
   "id": "fc1eeebe-7bce-4362-bbf7-a586bc4066e8",
   "metadata": {
    "tags": []
   },
   "outputs": [],
   "source": [
    "qs_ca   = qs_tensor[:,0,:]\n",
    "qs_ba   = qs_tensor[:,1,:]\n",
    "qs_bc   = qs_tensor[:,2,:]\n",
    "\n",
    "l2fc_ca = l2fc_tensor[:,0,:]\n",
    "l2fc_ba = l2fc_tensor[:,1,:]\n",
    "l2fc_bc = l2fc_tensor[:,2,:]"
   ]
  },
  {
   "cell_type": "code",
   "execution_count": null,
   "id": "81c8bc22-1f49-4145-8e97-689396759a4d",
   "metadata": {
    "tags": []
   },
   "outputs": [],
   "source": [
    "qs_a   = np.minimum(qs_ca, qs_ba) # the better of the two\n",
    "qs_c   = np.minimum(qs_ca, qs_bc) # the better of the two\n",
    "qs_b   = np.minimum(qs_ba, qs_bc) # the better of the two\n",
    "\n",
    "l2fc_a = np.max([-l2fc_ca, -l2fc_ba], axis=0) # mean fold change\n",
    "l2fc_c = np.max([ l2fc_ca, -l2fc_bc], axis=0) # mean fold change\n",
    "l2fc_b = np.max([ l2fc_ba,  l2fc_bc], axis=0) # mean fold change\n",
    "\n",
    "\n",
    "l2fc_as = np.min([-l2fc_ca, -l2fc_ba], axis=0) # mean fold change\n",
    "l2fc_cs = np.min([ l2fc_ca, -l2fc_bc], axis=0) # mean fold change\n",
    "l2fc_bs = np.min([ l2fc_ba,  l2fc_bc], axis=0) # mean fold change\n",
    "\n",
    "\n",
    "cond_sig_a = np.all([-l2fc_ca > 0, -l2fc_ba > 0, l2fc_a > l2fc_th, qs_a < alpha_th], axis=0)\n",
    "cond_sig_c = np.all([ l2fc_ca > 0, -l2fc_bc > 0, l2fc_c > l2fc_th, qs_c < alpha_th], axis=0)\n",
    "# cond_sig_a = np.all([-l2fc_ca > 0, -l2fc_ba > 0, l2fc_a > l2fc_th, qs_a < alpha_th, l2fc_as > l2fc_th_s], axis=0)\n",
    "# cond_sig_c = np.all([ l2fc_ca > 0, -l2fc_bc > 0, l2fc_c > l2fc_th, qs_c < alpha_th, l2fc_cs > l2fc_th_s], axis=0)\n",
    "cond_sig_b = np.all([ l2fc_ba > 0,  l2fc_bc > 0, l2fc_b > l2fc_th, qs_b < alpha_th, l2fc_bs > l2fc_th_s], axis=0)\n",
    "\n",
    "\n",
    "instances, counts_a = np.unique(cond_sig_a.sum(axis=0), return_counts=True)\n",
    "instances, counts_c = np.unique(cond_sig_c.sum(axis=0), return_counts=True)\n",
    "instances, counts_b = np.unique(cond_sig_b.sum(axis=0), return_counts=True)\n",
    "\n",
    "print('num A genes for each cond:\\t', cond_sig_a.sum(axis=1), np.any(cond_sig_a, axis=0).sum())\n",
    "print('num C genes for each cond:\\t', cond_sig_c.sum(axis=1), np.any(cond_sig_c, axis=0).sum())\n",
    "print('num B genes for each cond:\\t', cond_sig_b.sum(axis=1), np.any(cond_sig_b, axis=0).sum())\n",
    "\n",
    "print('num A genes in num conds:\\t',  counts_a[1:])\n",
    "print('num C genes in num conds:\\t',  counts_c[1:])\n",
    "print('num B genes in num conds:\\t',  counts_b[1:])"
   ]
  },
  {
   "cell_type": "code",
   "execution_count": null,
   "id": "2214c360-0c38-4bc9-8631-6bd8c9dbd91c",
   "metadata": {
    "tags": []
   },
   "outputs": [],
   "source": [
    "df_res_all = []\n",
    "\n",
    "for label, cond_sig in zip(['A', 'C', 'B'], \n",
    "                           [cond_sig_a, cond_sig_c, cond_sig_b]):\n",
    "    \n",
    "    cond_idx, gene_idx = np.nonzero(cond_sig.astype(int))\n",
    "    \n",
    "    df_res = pd.DataFrame()\n",
    "    df_res['cond'] = uniq_conds[cond_idx]\n",
    "    df_res['gene'] = genes[gene_idx]\n",
    "    df_res['archetype'] = label\n",
    "    df_res_all.append(df_res)\n",
    "    \n",
    "df_res_all = pd.concat(df_res_all)\n",
    "df_res_all\n",
    "    "
   ]
  },
  {
   "cell_type": "code",
   "execution_count": null,
   "id": "f3fb1856-ec08-4845-810c-99a996baad0c",
   "metadata": {},
   "outputs": [],
   "source": [
    "df_res_all.groupby('gene').sum()"
   ]
  },
  {
   "cell_type": "code",
   "execution_count": null,
   "id": "ce04254c-9137-409b-bff7-e2b5912123b5",
   "metadata": {},
   "outputs": [],
   "source": [
    "# df_res_all.to_csv(fout3, header=True, index=False)"
   ]
  },
  {
   "cell_type": "markdown",
   "id": "b50d16c6-c867-4c24-95f2-a96005c04dcb",
   "metadata": {},
   "source": [
    "# further check"
   ]
  },
  {
   "cell_type": "code",
   "execution_count": null,
   "id": "e849ad65-3232-4ae4-a6eb-0b6a608df459",
   "metadata": {
    "tags": []
   },
   "outputs": [],
   "source": [
    "a_any = np.sort(adata.var[np.any(cond_sig_a, axis=0)].index.values)\n",
    "a_all = np.sort(adata.var[np.all(cond_sig_a, axis=0)].index.values)\n",
    "\n",
    "c_any = np.sort(adata.var[np.any(cond_sig_c, axis=0)].index.values)\n",
    "c_all = np.sort(adata.var[np.all(cond_sig_c, axis=0)].index.values)\n",
    "ac_overlap = np.sort(adata.var[np.logical_and(np.any(cond_sig_a, axis=0), np.any(cond_sig_c, axis=0))].index.values)\n",
    "\n",
    "b_any = np.sort(adata.var[np.any(cond_sig_b, axis=0)].index.values)\n",
    "b_all = np.sort(adata.var[np.all(cond_sig_b, axis=0)].index.values)\n",
    "\n",
    "print('a any', a_any.shape)\n",
    "print('a all', a_all.shape)\n",
    "\n",
    "print('c any', c_any.shape)\n",
    "print('c all', c_all.shape)\n",
    "print('ac overlap', ac_overlap.shape)\n",
    "\n",
    "print('b any', b_any.shape)\n",
    "print('b all', b_all.shape)"
   ]
  },
  {
   "cell_type": "code",
   "execution_count": null,
   "id": "ac1f411d-7463-4b75-bf4a-dd4ae4185490",
   "metadata": {
    "tags": []
   },
   "outputs": [],
   "source": [
    "a_all_annots, a_all_styled, a_all_annots_styled = gene_modules.check_genes(a_all)\n",
    "c_all_annots, c_all_styled, c_all_annots_styled = gene_modules.check_genes(c_all)\n",
    "b_all_annots, b_all_styled, b_all_annots_styled = gene_modules.check_genes(b_all)\n",
    "\n",
    "ac_overlap_annots, ac_overlap_styled, ac_overlap_annots_styled = gene_modules.check_genes(ac_overlap)\n",
    "\n",
    "print(\"\\t\".join(a_all_annots_styled)) # _styled))\n",
    "print(\"---\"*10) # _styled))\n",
    "print(\"\\t\".join(c_all_annots_styled)) # _styled))\n",
    "print(\"---\"*10) # _styled))\n",
    "print(\"\\t\".join(b_all_annots_styled)) # _styled))\n",
    "print(\"---\"*10) # _styled))\n",
    "print(\"\\t\".join(ac_overlap_annots_styled)) # _styled))"
   ]
  },
  {
   "cell_type": "code",
   "execution_count": null,
   "id": "990c8e32-8089-4e27-833e-b9b8d649d5c2",
   "metadata": {
    "tags": []
   },
   "outputs": [],
   "source": [
    "nums_a = cond_sig_a.sum(axis=1)\n",
    "nums_b = cond_sig_b.sum(axis=1)\n",
    "nums_c = cond_sig_c.sum(axis=1)\n",
    "\n",
    "fig, axs = plt.subplots(1,3,figsize=(3*3,4))\n",
    "ax = axs[0]\n",
    "ax.plot(nr_times, nums_a[nr_idx], '-o' , fillstyle='none', label='A', color='C0')\n",
    "ax.set_xticks([6,10,14,17,21])\n",
    "ax.grid(False, axis='x')\n",
    "ax.set_ylim(ymin=0, ymax=110)\n",
    "# ax.legend()\n",
    "ax.set_ylabel('num. of gene')\n",
    "ax.set_xlabel('time (P)')\n",
    "ax.set_title('A genes')\n",
    "sns.despine(ax=ax)\n",
    "\n",
    "ax = axs[1]\n",
    "ax.plot(nr_times, nums_c[nr_idx], '-o' , fillstyle='none', label='C', color='C2')\n",
    "ax.set_xticks([6,10,14,17,21])\n",
    "ax.grid(False, axis='x')\n",
    "ax.set_ylim(ymin=0, ymax=110)\n",
    "ax.set_title('C genes')\n",
    "# ax.legend()\n",
    "sns.despine(ax=ax)\n",
    "\n",
    "ax = axs[2]\n",
    "ax.plot(nr_times, nums_b[nr_idx], '-o' , fillstyle='none', label='B', color='C1')\n",
    "ax.set_xticks([6,10,14,17,21])\n",
    "ax.grid(False, axis='x')\n",
    "ax.set_ylim(ymin=0, ymax=70)\n",
    "# ax.legend()\n",
    "sns.despine(ax=ax)\n",
    "ax.set_title('B genes')\n",
    "fig.tight_layout()\n",
    "output = os.path.join(outfigdir, 'num_degs_abc_2.pdf')\n",
    "powerplots.savefig_autodate(fig, output)\n",
    "plt.show()"
   ]
  },
  {
   "cell_type": "code",
   "execution_count": null,
   "id": "c591692c-42bc-4d04-aa2f-a7dcfd095f21",
   "metadata": {},
   "outputs": [],
   "source": [
    "num_uniq_a = np.sum(np.any(cond_sig_a, axis=0))\n",
    "num_uniq_b = np.sum(np.any(cond_sig_b, axis=0))\n",
    "num_uniq_c = np.sum(np.any(cond_sig_c, axis=0))"
   ]
  },
  {
   "cell_type": "code",
   "execution_count": null,
   "id": "40920e9e-084e-497e-9383-4b96552bc06e",
   "metadata": {},
   "outputs": [],
   "source": []
  },
  {
   "cell_type": "code",
   "execution_count": null,
   "id": "1cc2237b-f57a-41ed-a66f-a63a4452542d",
   "metadata": {},
   "outputs": [],
   "source": []
  },
  {
   "cell_type": "code",
   "execution_count": null,
   "id": "2edbb0d5-27b7-4a44-8607-2b0a06e498d2",
   "metadata": {},
   "outputs": [],
   "source": []
  },
  {
   "cell_type": "code",
   "execution_count": null,
   "id": "fbe0dd8b-534c-45d4-a15a-8016bfebd2de",
   "metadata": {},
   "outputs": [],
   "source": []
  },
  {
   "cell_type": "code",
   "execution_count": null,
   "id": "e055bcaf-79d3-42de-9016-fe94ff105d39",
   "metadata": {},
   "outputs": [],
   "source": []
  },
  {
   "cell_type": "code",
   "execution_count": null,
   "id": "bec0c976-0b32-4991-87ad-acabb9976703",
   "metadata": {},
   "outputs": [],
   "source": []
  },
  {
   "cell_type": "markdown",
   "id": "265e2f71-85ae-4e94-a92a-57feddcf4af4",
   "metadata": {
    "tags": []
   },
   "source": [
    "# check effect size "
   ]
  },
  {
   "cell_type": "code",
   "execution_count": null,
   "id": "2b282aab-030c-4369-b719-dc84716a0cc5",
   "metadata": {
    "tags": []
   },
   "outputs": [],
   "source": [
    "cond_sig_a_any = np.any(cond_sig_a, axis=0)\n",
    "cond_sig_b_any = np.any(cond_sig_b, axis=0)\n",
    "cond_sig_c_any = np.any(cond_sig_c, axis=0)\n",
    "cond_sig_abc_any = np.any(cond_sig_a+cond_sig_b+cond_sig_c, axis=0)\n",
    "cond_sig_a_any.sum(), cond_sig_b_any.sum(), cond_sig_c_any.sum(), cond_sig_abc_any.sum()"
   ]
  },
  {
   "cell_type": "code",
   "execution_count": null,
   "id": "09a073e4-0140-414a-b28f-e99d6fd1424f",
   "metadata": {
    "tags": []
   },
   "outputs": [],
   "source": [
    "# adata.obs['sample'].unique()\n",
    "import re\n",
    "\n",
    "todo_conds = [\n",
    "    'P12DR', 'P14DR', 'P17DR', 'P21DR',\n",
    "    'P6', 'P8', 'P10', 'P12', 'P14', 'P17', 'P21', \n",
    "]\n",
    "todo_samps = [\n",
    "    'P12DRa', 'P12DRb',\n",
    "    'P14DRa', 'P14DRb',\n",
    "    'P17DRa', 'P17DRb',\n",
    "    'P21DRa', 'P21DRb',\n",
    "    'P6a', 'P6b', 'P6c', \n",
    "    'P8a', 'P8b', 'P8c', \n",
    "    'P10a', 'P10b', \n",
    "    'P12a', 'P12b', 'P12c', \n",
    "    'P14a', 'P14b',\n",
    "    'P17a', 'P17b', \n",
    "    'P21a', 'P21b', \n",
    "]\n",
    "todo_conds_t = np.array([int(re.sub(r'[a-zA-Z]', '', a)) for a in todo_conds])\n",
    "todo_samps_t = np.array([int(re.sub(r'[a-zA-Z]', '', a)) for a in todo_samps])\n",
    "print(todo_conds_t)\n",
    "print(todo_samps_t)\n",
    "\n",
    "def mean_over_samples(mmat_res_samp):\n",
    "    \"\"\"25 samples to 11 conditions\n",
    "    \"\"\"\n",
    "    assert mmat_res_samp.shape[0] == 25\n",
    "    \n",
    "    mmat_res_samp_mean = np.zeros(mmat_res_samp.shape)[:11]\n",
    "    mmat_res_samp_mean[0] = np.mean(mmat_res_samp[ :2], axis=0)\n",
    "    mmat_res_samp_mean[1] = np.mean(mmat_res_samp[2:4], axis=0)\n",
    "    mmat_res_samp_mean[2] = np.mean(mmat_res_samp[4:6], axis=0)\n",
    "    mmat_res_samp_mean[3] = np.mean(mmat_res_samp[6:8], axis=0)\n",
    "\n",
    "    mmat_res_samp_mean[4] = np.mean(mmat_res_samp[8:11], axis=0)\n",
    "    mmat_res_samp_mean[5] = np.mean(mmat_res_samp[11:14], axis=0)\n",
    "    mmat_res_samp_mean[6] = np.mean(mmat_res_samp[14:16], axis=0)\n",
    "    mmat_res_samp_mean[7] = np.mean(mmat_res_samp[16:19], axis=0)\n",
    "    mmat_res_samp_mean[8] = np.mean(mmat_res_samp[19:21], axis=0)\n",
    "    mmat_res_samp_mean[9] = np.mean(mmat_res_samp[21:23], axis=0)\n",
    "    mmat_res_samp_mean[10] = np.mean(mmat_res_samp[23:  ], axis=0)\n",
    "    \n",
    "    return mmat_res_samp_mean\n",
    "\n",
    "def transform_bigredmat(bigmat, n_type):\n",
    "    \"\"\"bigmat or redmat\n",
    "    to fmat and zmat\n",
    "    \"\"\"\n",
    "    fmat = bigmat.reshape(-1, bigmat.shape[-1]).T\n",
    "    fmat = np.hstack([fmat[:,4*n_type:], fmat[:,:4*n_type]]) # CHANGED COLUMN ORDER!!\n",
    "    zmat = zscore(fmat, axis=1)\n",
    "    \n",
    "    return fmat, zmat"
   ]
  },
  {
   "cell_type": "code",
   "execution_count": null,
   "id": "f99ffc3f-08b9-4a1b-80a2-5354474ff460",
   "metadata": {},
   "outputs": [],
   "source": []
  },
  {
   "cell_type": "code",
   "execution_count": null,
   "id": "9516dd0b-34ad-41f7-9848-65c1b762e039",
   "metadata": {},
   "outputs": [],
   "source": []
  },
  {
   "cell_type": "code",
   "execution_count": null,
   "id": "08debc1d-6233-4ee4-b181-154aa594ddf2",
   "metadata": {},
   "outputs": [],
   "source": []
  },
  {
   "cell_type": "code",
   "execution_count": null,
   "id": "a0e46160-dcee-432b-ae78-bc290cd83c6f",
   "metadata": {},
   "outputs": [],
   "source": []
  },
  {
   "cell_type": "code",
   "execution_count": null,
   "id": "cb125400-3cdf-4ec7-a042-7253b5a020a4",
   "metadata": {},
   "outputs": [],
   "source": []
  },
  {
   "cell_type": "code",
   "execution_count": null,
   "id": "8c046674-8af8-4fbf-a767-4b59e8bdcbba",
   "metadata": {},
   "outputs": [],
   "source": []
  },
  {
   "cell_type": "code",
   "execution_count": null,
   "id": "2362bf30-6a13-4219-9113-05df6cb3836f",
   "metadata": {
    "tags": []
   },
   "outputs": [],
   "source": []
  },
  {
   "cell_type": "code",
   "execution_count": null,
   "id": "d4059c8d-5dba-4970-8360-e9bfa32dad62",
   "metadata": {
    "tags": []
   },
   "outputs": [],
   "source": [
    "%%time\n",
    "\n",
    "mat = adata.layers['norm'][...]\n",
    "gexp_l23baseline = np.log2(np.mean(mat, axis=0)*1e2+offset) # CP10k -> CPM\n",
    "\n",
    "n_type = 10\n",
    "frac_archetypal_cells_viz = 0.2\n",
    "bigmat_nfd = np.zeros((len(todo_samps), n_type, mat.shape[1]))\n",
    "bigmat_abc = np.zeros((len(todo_samps),      3, mat.shape[1]))\n",
    "\n",
    "for i, samp in enumerate(todo_samps):\n",
    "    print(samp)\n",
    "    \n",
    "    # get sub\n",
    "    adatasub = adata[adata.obs['sample']==samp]\n",
    "    n_cells = adatasub.shape[0]\n",
    "    \n",
    "    # get A vs C \n",
    "    ranks_ac = adatasub.obs['scores_c-a'].rank()\n",
    "    ranks_b  = adatasub.obs['scores_b'].rank()\n",
    "    \n",
    "    # per type\n",
    "    cells_type_nfd = pd.qcut(ranks_ac, n_type, labels=False)\n",
    "    for j in range(n_type):\n",
    "        mat_j = adatasub[cells_type_nfd==j].layers['norm'][...]\n",
    "        mmat_j = np.log2(np.mean(mat_j, axis=0)*1e2+offset)-gexp_l23baseline # CP10k -> CPM\n",
    "        bigmat_nfd[i,j] = mmat_j\n",
    "    \n",
    "    # A, B, C\n",
    "    num_archetypal_cells_viz = int(n_cells*frac_archetypal_cells_viz)\n",
    "    \n",
    "    precond_a = ranks_ac <= num_archetypal_cells_viz\n",
    "    precond_c = ranks_ac > adatasub.shape[0] - num_archetypal_cells_viz\n",
    "    precond_b = ranks_b  > adatasub.shape[0] - num_archetypal_cells_viz\n",
    "    \n",
    "    cond_a = np.all([ precond_a, ~precond_b, ~precond_c], axis=0)\n",
    "    cond_b = np.all([~precond_a,  precond_b, ~precond_c], axis=0)\n",
    "    cond_c = np.all([~precond_a, ~precond_b,  precond_c], axis=0)\n",
    "    \n",
    "    for j, cond in enumerate([cond_a, cond_b, cond_c]):\n",
    "        mat_j = adatasub[cond].layers['norm'][...]\n",
    "        mmat_j = np.log2(np.mean(mat_j, axis=0)*1e2+offset)-gexp_l23baseline # CP10k -> CPM\n",
    "        bigmat_abc[i,j] = mmat_j\n"
   ]
  },
  {
   "cell_type": "code",
   "execution_count": null,
   "id": "55877de7-5cdf-482d-9b6d-a8992e92cdab",
   "metadata": {
    "tags": []
   },
   "outputs": [],
   "source": [
    "bigmat_abc_ig_list = [\n",
    "    np.mean(bigmat_abc[:,:,cond_sig_a_any], axis=-1),\n",
    "    np.mean(bigmat_abc[:,:,cond_sig_b_any], axis=-1),\n",
    "    np.mean(bigmat_abc[:,:,cond_sig_c_any], axis=-1),\n",
    "]\n",
    "\n",
    "redmat_abc_ig_list = [mean_over_samples(x) for x in bigmat_abc_ig_list]"
   ]
  },
  {
   "cell_type": "code",
   "execution_count": null,
   "id": "3b408860-202a-4931-8a5d-2ca2fe29fd39",
   "metadata": {
    "tags": []
   },
   "outputs": [],
   "source": [
    "fig, axs = plt.subplots(1, 3, figsize=(3*3,1*3), sharex=True, sharey=True)\n",
    "for i in range(3):\n",
    "    ax = axs[i]\n",
    "    bigmat_mean_ig = bigmat_abc_ig_list[i]\n",
    "    redmat_mean_ig = redmat_abc_ig_list[i]\n",
    "    \n",
    "    ax.plot(todo_samps_t[8:], bigmat_mean_ig[8:,0], 'o', markersize=5, fillstyle='none', color='C0')\n",
    "    ax.plot(todo_samps_t[8:], bigmat_mean_ig[8:,1], 'o', markersize=5, fillstyle='none', color='C1')\n",
    "    ax.plot(todo_samps_t[8:], bigmat_mean_ig[8:,2], 'o', markersize=5, fillstyle='none', color='C2')\n",
    "    \n",
    "    ax.plot(todo_samps_t[:8], bigmat_mean_ig[:8,0], 's', markersize=5, fillstyle='none', color='C0', alpha=0.5)\n",
    "    ax.plot(todo_samps_t[:8], bigmat_mean_ig[:8,1], 's', markersize=5, fillstyle='none', color='C1', alpha=0.5)\n",
    "    ax.plot(todo_samps_t[:8], bigmat_mean_ig[:8,2], 's', markersize=5, fillstyle='none', color='C2', alpha=0.5)\n",
    "    \n",
    "    ax.plot(todo_conds_t[4:], redmat_mean_ig[4:,0], '-', color='C0')\n",
    "    ax.plot(todo_conds_t[4:], redmat_mean_ig[4:,1], '-', color='C1')\n",
    "    ax.plot(todo_conds_t[4:], redmat_mean_ig[4:,2], '-', color='C2')\n",
    "    \n",
    "    ax.plot(todo_conds_t[:4], redmat_mean_ig[:4,0], '-', color='C0', alpha=0.5)\n",
    "    ax.plot(todo_conds_t[:4], redmat_mean_ig[:4,1], '-', color='C1', alpha=0.5)\n",
    "    ax.plot(todo_conds_t[:4], redmat_mean_ig[:4,2], '-', color='C2', alpha=0.5)\n",
    "\n",
    "    ax.grid(False)\n",
    "    ax.set_xticks([6,10,14,17,21])\n",
    "    sns.despine(ax=ax)\n",
    "\n",
    "axs[0].set_xlabel('Postnatal day (P)')\n",
    "axs[0].set_ylabel('Gene expr.\\nlog2(archetype / baseline)')\n",
    "axs[0].set_title(f'A genes\\nn={num_uniq_a:,}')\n",
    "axs[1].set_title(f'B genes\\nn={num_uniq_b:,}')\n",
    "axs[2].set_title(f'C genes\\nn={num_uniq_c:,}')\n",
    "output = os.path.join(outfigdir, 'abc_degs_signals_over_time_withDR.pdf') \n",
    "powerplots.savefig_autodate(fig, output)\n",
    "plt.show()"
   ]
  },
  {
   "cell_type": "code",
   "execution_count": null,
   "id": "be03b254-6d74-4aae-8850-c40e6de411b1",
   "metadata": {
    "tags": []
   },
   "outputs": [],
   "source": [
    "redmat_nfd = mean_over_samples(bigmat_nfd)\n",
    "fmat_nfd, zmat_nfd = transform_bigredmat(redmat_nfd, n_type)\n",
    "print(redmat_nfd.shape) # cond, type, gene\n",
    "print(fmat_nfd.shape)   # gene, cond*type\n",
    "print(zmat_nfd.shape)   # gene, cond*type\n",
    "\n",
    "fmat_nfd_ag = fmat_nfd[cond_sig_a_any]\n",
    "fmat_nfd_bg = fmat_nfd[cond_sig_b_any]\n",
    "fmat_nfd_cg = fmat_nfd[cond_sig_c_any]\n",
    "fmat_nfd_abcg = fmat_nfd[cond_sig_abc_any]\n",
    "\n",
    "zmat_nfd_ag = zmat_nfd[cond_sig_a_any]\n",
    "zmat_nfd_bg = zmat_nfd[cond_sig_b_any]\n",
    "zmat_nfd_cg = zmat_nfd[cond_sig_c_any]\n",
    "zmat_nfd_abcg = zmat_nfd[cond_sig_abc_any]\n",
    "\n",
    "print(fmat_nfd_ag.shape, zmat_nfd_ag.shape, zmat_nfd_abcg.shape)"
   ]
  },
  {
   "cell_type": "code",
   "execution_count": null,
   "id": "e90b90c9-c0cc-40e4-a957-8d63e7d0cc9a",
   "metadata": {
    "tags": []
   },
   "outputs": [],
   "source": [
    "redmat_nfd_ag = redmat_nfd[:,:,cond_sig_a_any] #.shape\n",
    "redmat_nfd_bg = redmat_nfd[:,:,cond_sig_b_any] #.shape\n",
    "redmat_nfd_cg = redmat_nfd[:,:,cond_sig_c_any] #.shape\n",
    "redmat_nfd_abcg = redmat_nfd[:,:,cond_sig_abc_any] #.shape\n",
    "print(redmat_nfd_ag.shape)"
   ]
  },
  {
   "cell_type": "code",
   "execution_count": null,
   "id": "cd3b88ab-9ad3-4d13-8255-00e03369cdd6",
   "metadata": {
    "tags": []
   },
   "outputs": [],
   "source": [
    "from sklearn.cluster import KMeans\n",
    "def mean_shape(vec):\n",
    "    \"\"\"\n",
    "    \"\"\"\n",
    "    loc = np.arange(len(vec))\n",
    "    \n",
    "    # vec_n = (vec-np.min(vec))/(np.max(vec)-np.min(vec))\n",
    "    vec_n = np.clip(vec, 0, None)\n",
    "    vec_n = vec_n/np.sum(vec_n)\n",
    "    \n",
    "    ctrd = loc.dot(vec_n)\n",
    "    return ctrd\n",
    "\n",
    "def organize_zmat(zmat, fmat, redmat, title='', n_geneset_clsts=5, genes=None):\n",
    "    \"\"\"NOTE THAT THE ORDER OF COND is DIFFERRENT BETWEEN (zmat, fmat) - DR first) and (redmat) - NR first)\n",
    "    \"\"\"\n",
    "    method = KMeans(n_clusters=n_geneset_clsts, n_init=10, random_state=0)\n",
    "    geneset_clst = method.fit_predict(zmat)\n",
    "\n",
    "    # average over genes per geneset and cell clusters - leave genesets and conditions there\n",
    "    time_sketches = []\n",
    "    for i in range(n_geneset_clsts):\n",
    "        time_sketch = np.mean(redmat[:,:,geneset_clst==i], axis=2) # mean over genes\n",
    "        time_sketch = np.max(time_sketch, axis=1) # max over cell types\n",
    "        time_sketches.append(time_sketch)\n",
    "    time_sketches = np.vstack(time_sketches)[:,4:] # n_geneset_clsts, n_cond (select NR only)\n",
    "\n",
    "    # clst_order = [2,1,3,4,0]\n",
    "    # clst_order = np.argsort(np.argmax(ctrds, axis=1)) \n",
    "    clst_order = np.argsort([mean_shape(time_sketch) for time_sketch in time_sketches]) \n",
    "    geneset_clst_renamed = pd.Series({clst: i for i, clst in enumerate(clst_order)}).reindex(geneset_clst).values\n",
    "    geneset_order = np.argsort(geneset_clst_renamed)\n",
    "    \n",
    "    # reorder \n",
    "    genes_ordered = genes[geneset_order]\n",
    "    clsts_ordered = geneset_clst_renamed[geneset_order]\n",
    "    zmat_ordered = zmat[geneset_order] \n",
    "    fmat_ordered = fmat[geneset_order] \n",
    "    \n",
    "    # gene list per group\n",
    "    geneset_list = []\n",
    "    for i in range(n_geneset_clsts):\n",
    "        geneset_list.append(genes_ordered[clsts_ordered==i])\n",
    "    \n",
    "    res = {\n",
    "        'title': title,\n",
    "        'order': geneset_order,\n",
    "        'zmat':  zmat_ordered,\n",
    "        'fmat':  fmat_ordered,\n",
    "        'genes': genes_ordered,\n",
    "        'clst':  clsts_ordered,\n",
    "        'time_sketches':  time_sketches[clst_order],\n",
    "        'geneset_list': geneset_list,\n",
    "    }\n",
    "    return res"
   ]
  },
  {
   "cell_type": "code",
   "execution_count": null,
   "id": "b23b5cc4-ac35-40e3-b683-c0f11524b9ca",
   "metadata": {
    "tags": []
   },
   "outputs": [],
   "source": [
    "# ctrds = organize_zmat(zmat_nfd_ag, fmat_nfd_ag, redmat_nfd_ag, title='A genes', genes=genes[cond_sig_a_any])\n",
    "\n",
    "res_a = organize_zmat(zmat_nfd_ag, fmat_nfd_ag, redmat_nfd_ag, title='A genes', genes=genes[cond_sig_a_any])\n",
    "res_b = organize_zmat(zmat_nfd_bg, fmat_nfd_bg, redmat_nfd_bg, title='B genes', genes=genes[cond_sig_b_any])\n",
    "res_c = organize_zmat(zmat_nfd_cg, fmat_nfd_cg, redmat_nfd_cg, title='C genes', genes=genes[cond_sig_c_any])\n",
    "\n",
    "res_abc = organize_zmat(zmat_nfd_abcg, fmat_nfd_abcg, redmat_nfd_abcg, title='ABC genes', genes=genes[cond_sig_abc_any])"
   ]
  },
  {
   "cell_type": "markdown",
   "id": "ed42ba3a-794e-492d-a73d-b586c8c2e1df",
   "metadata": {},
   "source": [
    "# Profile these modules"
   ]
  },
  {
   "cell_type": "markdown",
   "id": "6a8773c6-2890-44d5-bfe9-652d08066f83",
   "metadata": {},
   "source": [
    "# Quantify time vs DR effect\n",
    "- late are DR sensitive\n",
    "- (P21NR-P10NR) vs (P21NR vs DR)\n",
    "- refine this as the average time effect vs average DR effect"
   ]
  },
  {
   "cell_type": "code",
   "execution_count": null,
   "id": "e596f55a-7f4e-4b22-88ca-7b71dc303128",
   "metadata": {},
   "outputs": [],
   "source": [
    "times = np.array([6,8,10,12,14,17,21])\n",
    "dr_times = np.array([12,14,17,21])"
   ]
  },
  {
   "cell_type": "code",
   "execution_count": null,
   "id": "e9842e64-0c58-4518-8dd6-79f65c9fca6b",
   "metadata": {
    "tags": []
   },
   "outputs": [],
   "source": [
    "from matplotlib.colors import LinearSegmentedColormap\n",
    "\n",
    "colors_a = [(0.0, 'black'), (1.0, 'C0')]      \n",
    "colors_b = [(0.0, 'black'), (1.0, 'C1')]      \n",
    "colors_c = [(0.0, 'black'), (1.0, 'C2')]      \n",
    "\n",
    "# Create a custom colormap using LinearSegmentedColormap\n",
    "cmap_a = LinearSegmentedColormap.from_list('cmap_a', colors_a)\n",
    "cmap_b = LinearSegmentedColormap.from_list('cmap_b', colors_b)\n",
    "cmap_c = LinearSegmentedColormap.from_list('cmap_c', colors_c)\n",
    "\n",
    "colors_l23 = [\n",
    "    np.array(cmap_a(1.0)),\n",
    "    0.7*np.array(cmap_a(1.0))+0.3*np.array(cmap_b(1.0)),\n",
    "    np.array(cmap_b(1.0)),\n",
    "    0.7*np.array(cmap_b(1.0))+0.3*np.array(cmap_c(1.0)),\n",
    "    np.array(cmap_c(1.0)),\n",
    "]"
   ]
  },
  {
   "cell_type": "code",
   "execution_count": null,
   "id": "19f39b06-b77c-478c-b522-55568fae5872",
   "metadata": {
    "tags": []
   },
   "outputs": [],
   "source": [
    "from sklearn.metrics import r2_score"
   ]
  },
  {
   "cell_type": "code",
   "execution_count": null,
   "id": "58af3ac9-a69a-42f1-9663-7c7862e14129",
   "metadata": {
    "tags": []
   },
   "outputs": [],
   "source": [
    "def calc_del(red_y):\n",
    "    del_t = np.mean(red_y[7+3]-red_y[3+3], axis=0) # mean over ABC\n",
    "    del_v21 = np.mean(-red_y[7+3]+red_y[3], axis=0) # mean over ABC\n",
    "    del_v17 = np.mean(-red_y[7+2]+red_y[2], axis=0)\n",
    "    del_v14 = np.mean(-red_y[7+1]+red_y[1], axis=0)\n",
    "    del_v12 = np.mean(-red_y[7+0]+red_y[0], axis=0)\n",
    "\n",
    "    del_varr = np.array([del_v21, del_v17, del_v14, del_v12])\n",
    "    del_v = np.mean(del_varr, axis=0) # mean over time\n",
    "    del_v1721 = np.mean(del_varr[:2], axis=0) # mean over time\n",
    "    \n",
    "    return del_t, del_v, del_v21\n",
    "\n",
    "def calc_del_typespec(red_y):\n",
    "    del_t   = red_y[7+3]-red_y[3+3] # (n_type, n_gene)\n",
    "    del_v21 = -red_y[7+3]+red_y[3]  #\n",
    "    del_v17 = -red_y[7+2]+red_y[2]\n",
    "    del_v14 = -red_y[7+1]+red_y[1]\n",
    "    del_v12 = -red_y[7+0]+red_y[0]\n",
    "\n",
    "    del_varr = np.array([del_v21, del_v17, del_v14, del_v12])\n",
    "    del_v = np.mean(del_varr, axis=0) # mean over time\n",
    "    del_v1721 = np.mean(del_varr[:2], axis=0) # mean over time\n",
    "    \n",
    "    return del_t, del_v, del_v21"
   ]
  },
  {
   "cell_type": "code",
   "execution_count": null,
   "id": "ffeedf43-56a1-4628-946b-9905b27d43a1",
   "metadata": {
    "tags": []
   },
   "outputs": [],
   "source": [
    "cond_sig_abc_any = np.any([\n",
    "    cond_sig_a_any, \n",
    "    cond_sig_b_any, \n",
    "    cond_sig_c_any, \n",
    "], axis=0)\n",
    "print(cond_sig_abc_any.sum())\n",
    "\n",
    "genes_abc = genes[cond_sig_abc_any]\n",
    "\n",
    "big_y = bigmat_abc[:,:,cond_sig_abc_any]# .shape\n",
    "red_y = mean_over_samples(big_y)\n",
    "del_t_abc, del_v_abc, del_v21_abc = calc_del(red_y)\n",
    "del_t_abc_typespec, del_v_abc_typespec, del_v21_abc_typespec = calc_del_typespec(red_y)\n"
   ]
  },
  {
   "cell_type": "code",
   "execution_count": null,
   "id": "880ae873-0428-4ad8-8f40-4edee194de7a",
   "metadata": {
    "tags": []
   },
   "outputs": [],
   "source": [
    "big_y = bigmat_nfd[:,:,cond_sig_abc_any]# .shape\n",
    "red_y = mean_over_samples(big_y)\n",
    "del_t_nfd, del_v_nfd, del_v21_nfd = calc_del(red_y)\n",
    "del_t_nfd_typespec, del_v_nfd_typespec, del_v21_nfd_typespec = calc_del_typespec(red_y)\n",
    "del_t_nfd.shape, del_t_nfd_typespec.shape"
   ]
  },
  {
   "cell_type": "code",
   "execution_count": null,
   "id": "0dd26d7e-d8e4-4b81-a412-a04a45a005e8",
   "metadata": {
    "tags": []
   },
   "outputs": [],
   "source": [
    "genes_a = genes[cond_sig_a_any]\n",
    "genes_b = genes[cond_sig_b_any]\n",
    "genes_c = genes[cond_sig_c_any]"
   ]
  },
  {
   "cell_type": "code",
   "execution_count": null,
   "id": "9edd6e6f-131a-4b23-b5d9-d58717a73540",
   "metadata": {},
   "outputs": [],
   "source": []
  },
  {
   "cell_type": "code",
   "execution_count": null,
   "id": "407be53b-4807-43e3-a471-32c730d190bd",
   "metadata": {
    "tags": []
   },
   "outputs": [],
   "source": [
    "csm_annots = [\n",
    "    'igsf',    \n",
    "    'cad',     \n",
    "    'fbrn',    \n",
    "    'eph',     \n",
    "    'sema',    \n",
    "    'tene',    \n",
    "    'astn',    \n",
    "    'cntnap',  \n",
    "    'nrxn',    \n",
    "    'axon',    \n",
    "    'wiring',\n",
    "]"
   ]
  },
  {
   "cell_type": "code",
   "execution_count": null,
   "id": "abc9da1e-31ca-45c0-bd94-c9b5cdcaa552",
   "metadata": {
    "tags": []
   },
   "outputs": [],
   "source": [
    "gene_annots_abc = gene_modules.check_genes(genes_abc)[0]\n",
    "cond_csm_abc = np.array([_g in csm_annots for _g in gene_annots_abc])\n",
    "print(genes_abc[cond_csm_abc], np.sum(cond_csm_abc))\n",
    "\n",
    "gene_annots_a = gene_modules.check_genes(genes_a)[0]\n",
    "cond_csm_a = np.array([_g in csm_annots for _g in gene_annots_a])\n",
    "print(genes_a[cond_csm_a], np.sum(cond_csm_a))\n",
    "\n",
    "gene_annots_b = gene_modules.check_genes(genes_b)[0]\n",
    "cond_csm_b = np.array([_g in csm_annots for _g in gene_annots_b])\n",
    "print(genes_b[cond_csm_b], np.sum(cond_csm_b))\n",
    "\n",
    "gene_annots_c = gene_modules.check_genes(genes_c)[0]\n",
    "cond_csm_c = np.array([_g in csm_annots for _g in gene_annots_c])\n",
    "print(genes_c[cond_csm_c], np.sum(cond_csm_c))"
   ]
  },
  {
   "cell_type": "code",
   "execution_count": null,
   "id": "a2d6c5f1-36a9-4030-b375-f4b5be31f742",
   "metadata": {
    "tags": []
   },
   "outputs": [],
   "source": [
    "selected_conditions = [1,4,6,10]\n",
    "columns = np.hstack([\n",
    "    1*n_type+np.arange(n_type), \n",
    "    4*n_type+np.arange(n_type), \n",
    "    6*n_type+np.arange(n_type), \n",
    "   10*n_type+np.arange(n_type),\n",
    "])\n",
    "\n",
    "fig, axs = plt.subplots(3,1,figsize=(6,4*3))\n",
    "for ax_idx, res_this in enumerate([res_a, res_c, res_b]):\n",
    "    ax = axs[ax_idx]\n",
    "    \n",
    "    order = res_this['order']\n",
    "    title = res_this['title']\n",
    "    zmat  = res_this['zmat']\n",
    "    clsts = res_this['clst']\n",
    "    genes_this = res_this['genes']\n",
    "    \n",
    "    sns.heatmap(zmat[:,columns],#[:,:7*10], \n",
    "                cmap='coolwarm', cbar_kws=dict(shrink=0.5), \n",
    "                xticklabels=False,\n",
    "                vmax=2.5, vmin=-2.5,\n",
    "                rasterized=True,\n",
    "                ax=ax)\n",
    "    ax.set_yticks(0.5+np.arange(len(zmat)))\n",
    "    ax.set_yticklabels(genes_this, fontsize=4, rotation=0)\n",
    "    \n",
    "    ax.vlines(np.arange(0,7*n_type,n_type), 0, len(zmat), color='white', linewidth=1)\n",
    "    ax.vlines(7*n_type, 0, len(zmat), color='black', linewidth=1)\n",
    "\n",
    "    ax.grid(False)\n",
    "    \n",
    "ax = axs[0]\n",
    "# ax.set_xticks(0.5+np.arange(n_type))\n",
    "# ax.set_xticklabels(['A', '<-', '-', '->', 'C'], fontsize=10, rotation=0)\n",
    "for i, cond in enumerate(np.hstack([np.array(todo_conds[4:]+todo_conds[:4])[selected_conditions]])):\n",
    "    # ax.axvline(condcode*5, color='k', linestyle='--', linewidth=1)\n",
    "    ax.text(i*n_type, -0.5, f'{cond}', fontsize=10, va='bottom')\n",
    "\n",
    "# output = os.path.join(outfigdir, f'heatmap_csm_all.pdf')\n",
    "# powerplots.savefig_autodate(fig, output)\n",
    "plt.show()\n",
    "\n",
    "# break"
   ]
  },
  {
   "cell_type": "markdown",
   "id": "d5080e90-c3d5-4cfe-b6c8-c71c0003f929",
   "metadata": {
    "tags": []
   },
   "source": [
    "# regulon stuff"
   ]
  },
  {
   "cell_type": "code",
   "execution_count": null,
   "id": "c126a844-cf35-4991-bdbb-9eeed98c13ba",
   "metadata": {
    "tags": []
   },
   "outputs": [],
   "source": [
    "f = '/u/home/f/f7xiesnm/v1_multiome/juyoun/regulons_l23alltime_trimmed_cleaned_bigtable.csv'\n",
    "# scenic metadata\n",
    "df_scenic = pd.read_csv(f, index_col=0)\n",
    "df_scenic = df_scenic[df_scenic['signs'].isin([\"+_+\", \"-_+\"])]"
   ]
  },
  {
   "cell_type": "code",
   "execution_count": null,
   "id": "3b877e0e-e8a0-4bee-b00c-cab0780b6b95",
   "metadata": {
    "tags": []
   },
   "outputs": [],
   "source": [
    "res = pd.DataFrame()\n",
    "reg_name_list = [\n",
    "    # 'Meis2_+_+',\n",
    "    # 'Tcf12_+_+',\n",
    "    # 'Fosl2_+_+',\n",
    "    'Npas4_+_+',\n",
    "    'Fos_+_+',\n",
    "    'Sox5_+_+',\n",
    "    'Cux2_+_+',\n",
    "    'Egr1_+_+',\n",
    "    'Satb1_+_+',\n",
    "    'Smad3_+_+',\n",
    "    \n",
    "    # 'Ar_+_+',\n",
    "    # 'Thra_+_+',\n",
    "    # 'Nfatc2_+_+',\n",
    "    # 'Mef2c_+_+',\n",
    "]\n",
    "for reg_name in reg_name_list:\n",
    "    df_this_reg = df_scenic[df_scenic['Consensus_name']==reg_name]\n",
    "    reg_genes = df_this_reg['Gene'].unique()\n",
    "    reg_genes_overlap_b = np.intersect1d(reg_genes, res_b['genes'])\n",
    "    print(reg_name, reg_genes_overlap_b)"
   ]
  },
  {
   "cell_type": "code",
   "execution_count": null,
   "id": "0bf5d497-b2ae-4406-bbb4-0c09a85c101b",
   "metadata": {
    "tags": []
   },
   "outputs": [],
   "source": [
    "df_scenic[df_scenic['Gene']=='Megf11']['Consensus_name'].unique()"
   ]
  },
  {
   "cell_type": "code",
   "execution_count": null,
   "id": "7b9fd116-7206-4a19-82de-7bf04a9d848e",
   "metadata": {
    "tags": []
   },
   "outputs": [],
   "source": [
    "selected_conditions = [1, 4,8, 6,10]\n",
    "columns = np.hstack([\n",
    "    1*n_type+np.arange(n_type), \n",
    "    \n",
    "    4*n_type+np.arange(n_type), \n",
    "    8*n_type+np.arange(n_type), \n",
    "    \n",
    "    6*n_type+np.arange(n_type), \n",
    "   10*n_type+np.arange(n_type),\n",
    "])\n",
    "\n",
    "reg_names = [\n",
    "    'Npas4_+_+', \n",
    "    'Fos_+_+',\n",
    "    'Fosb_+_+',\n",
    "    'Fosl2_+_+',\n",
    "    'Junb_+_+',\n",
    "    # 'Egr1_+_+',\n",
    "    # 'Smad3_+_+',\n",
    "    # 'Jdp2_+_+',\n",
    "]\n",
    "\n",
    "fig, ax = plt.subplots(1,1,figsize=(6,3))\n",
    "res_this = res_b\n",
    "    \n",
    "order = res_this['order']\n",
    "title = res_this['title']\n",
    "zmat  = res_this['zmat']\n",
    "clsts = res_this['clst']\n",
    "genes_this = res_this['genes']\n",
    "\n",
    "df_this_reg = df_scenic[df_scenic['Consensus_name'].isin(reg_names)]\n",
    "reg_genes = df_this_reg['Gene'].unique()\n",
    "reg_genes_overlap = np.intersect1d(reg_genes, genes_this)\n",
    "print(reg_name, reg_genes_overlap)\n",
    "\n",
    "cond_this = [_g in reg_genes_overlap for _g in genes_this]\n",
    "zmat = zmat[cond_this]\n",
    "clsts = clsts[cond_this]\n",
    "genes_this = genes_this[cond_this] #res_this['genes']\n",
    "zmat = zmat[:,columns]\n",
    "\n",
    "meandiff = np.mean(zmat[:,-n_type:], axis=1)-np.mean(zmat[:,-2*n_type:-n_type], axis=1) # DR-NR\n",
    "neworder = np.argsort(meandiff)#[::-1]\n",
    "\n",
    "sns.heatmap(zmat[neworder],#[:,:7*10], \n",
    "            cmap='coolwarm', cbar_kws=dict(shrink=0.5), \n",
    "            xticklabels=False,\n",
    "            vmax=2.5, vmin=-2.5,\n",
    "            rasterized=True,\n",
    "            ax=ax)\n",
    "ax.set_yticks(0.5+np.arange(len(zmat)))\n",
    "ax.set_yticklabels(genes_this[neworder], fontsize=6, rotation=0)\n",
    "\n",
    "ax.vlines(np.arange(0,7*n_type,n_type), 0, len(zmat), color='white', linewidth=1)\n",
    "ax.vlines(7*n_type, 0, len(zmat), color='black', linewidth=1)\n",
    "\n",
    "ax.grid(False)\n",
    "\n",
    "for i, cond in enumerate(np.hstack([np.array(todo_conds[4:]+todo_conds[:4])[selected_conditions]])):\n",
    "    ax.text(i*10, -0.5, f'{cond}', fontsize=10, va='bottom')\n",
    "\n",
    "output = os.path.join(outfigdir, f'heatmap_arg_b_programs.pdf')\n",
    "powerplots.savefig_autodate(fig, output)\n",
    "plt.show()\n",
    "\n",
    "# break"
   ]
  },
  {
   "cell_type": "code",
   "execution_count": null,
   "id": "f4c10621-a1b5-4895-a3ae-c9fc68dde0f8",
   "metadata": {},
   "outputs": [],
   "source": []
  },
  {
   "cell_type": "code",
   "execution_count": null,
   "id": "7b025fc0-0ea0-4d58-b4f8-f9e1179ba594",
   "metadata": {},
   "outputs": [],
   "source": []
  },
  {
   "cell_type": "code",
   "execution_count": null,
   "id": "84a7708f-38c5-4b9b-b226-1de69abf6bce",
   "metadata": {
    "tags": []
   },
   "outputs": [],
   "source": []
  },
  {
   "cell_type": "code",
   "execution_count": null,
   "id": "2666f591-df11-457c-baec-8cd614b0e213",
   "metadata": {},
   "outputs": [],
   "source": []
  },
  {
   "cell_type": "code",
   "execution_count": null,
   "id": "8dd07b78-f3d3-4102-8dc6-a5c0375371b0",
   "metadata": {},
   "outputs": [],
   "source": []
  },
  {
   "cell_type": "code",
   "execution_count": null,
   "id": "8a65aeb9-214b-4643-8c0c-d5c425160a2a",
   "metadata": {},
   "outputs": [],
   "source": []
  },
  {
   "cell_type": "markdown",
   "id": "2ab8a3e8-e171-4575-b2ed-d9ee617d5388",
   "metadata": {},
   "source": [
    "# Others"
   ]
  },
  {
   "cell_type": "code",
   "execution_count": null,
   "id": "7f26c4bd-a1d9-4a86-adf5-b395001ab9f9",
   "metadata": {},
   "outputs": [],
   "source": [
    "# selected_conditions = [1,4,6,10]\n",
    "# columns = np.hstack([\n",
    "#     1*n_type+np.arange(n_type), \n",
    "#     4*n_type+np.arange(n_type), \n",
    "#     6*n_type+np.arange(n_type), \n",
    "#    10*n_type+np.arange(n_type),\n",
    "# ])\n",
    "\n",
    "selected_conditions = [6,10]\n",
    "columns = np.hstack([\n",
    "    6*n_type+np.arange(n_type), \n",
    "   10*n_type+np.arange(n_type),\n",
    "])"
   ]
  },
  {
   "cell_type": "code",
   "execution_count": null,
   "id": "9d95a69e-89e7-4a53-8577-f09ad4aa591b",
   "metadata": {
    "tags": []
   },
   "outputs": [],
   "source": [
    "vision_abc_csms = [\n",
    "    # 'Cdh20', 'Cdh7', 'Cdh4', 'Cntnap4', 'Cdh13', 'Igsf9b', 'Megf11', 'Sema6a',\n",
    "    \n",
    "    # 'Cntnap5b', 'Cdh20', 'Cdh7', 'Cdh4', 'Pcdh19', 'Pcdh10', 'Epha10',\n",
    "    #    'Sdk1', 'Cntnap2', 'Cntn6', 'Cntnap4', 'Cdh13', 'Ptprg', 'Igsf9b',\n",
    "    #    'Sorl1', 'Megf11', 'Flrt2', 'Ghr', 'Cdh18', 'Igsf11', 'Alcam',\n",
    "    #    'Ncam2', 'Sema6a'\n",
    "    \n",
    "    # 'Cntnap5b', 'Cdh20', 'Cdh7', 'Cdh4', 'Cntnap2', 'Cntnap4',\n",
    "    #    'Igsf9b', 'Megf11', 'Cdh18', 'Igsf11'\n",
    "    \n",
    "    \n",
    "    'Cdh20', 'Cdh7', 'Cdh4', 'Cntnap4', 'Cdh13', 'Igsf9b', 'Megf11',\n",
    "       'Sema6a'\n",
    "]\n"
   ]
  },
  {
   "cell_type": "code",
   "execution_count": null,
   "id": "340a1a6d-5172-4930-bc5e-6d74579accaa",
   "metadata": {
    "tags": []
   },
   "outputs": [],
   "source": [
    "csms_ordered_record = []\n",
    "\n",
    "fig, axs = plt.subplots(3,1,figsize=(8,2*3))\n",
    "for ax_idx, res_this in enumerate([res_a, res_c, res_b]):\n",
    "    ax = axs[ax_idx]\n",
    "    \n",
    "    order = res_this['order']\n",
    "    title = res_this['title']\n",
    "    zmat  = res_this['zmat']\n",
    "    clsts = res_this['clst']\n",
    "    genes_this = res_this['genes']\n",
    "    \n",
    "    # gene_annots_this = gene_modules.check_genes(genes_this)[0]\n",
    "    cond_csm_this = np.array([_g in vision_abc_csms for _g in genes_this])\n",
    "    zmat = zmat[cond_csm_this]\n",
    "    clsts = clsts[cond_csm_this]\n",
    "    genes_this = genes_this[cond_csm_this] #res_this['genes']\n",
    "\n",
    "    csms_ordered_record.append(genes_this)\n",
    "    \n",
    "    zmat = zmat[:,columns]\n",
    "    zmat = stats.zscore(zmat, axis=1)\n",
    "    \n",
    "    sns.heatmap(zmat,#[:,:7*10], \n",
    "                cmap='coolwarm', cbar_kws=dict(shrink=0.5), \n",
    "                xticklabels=False,\n",
    "                vmax=2.5, vmin=-2.5,\n",
    "                rasterized=True,\n",
    "                ax=ax)\n",
    "    ax.set_yticks(0.5+np.arange(len(zmat)))\n",
    "    ax.set_yticklabels(genes_this, fontsize=12, rotation=0)\n",
    "    \n",
    "    # ax.hlines(np.cumsum(np.unique(clsts, return_counts=True)[1]), 0, 11*10, color='white', linewidth=1)\n",
    "    ax.vlines(np.arange(0,7*10,10), 0, len(zmat), color='white', linewidth=1)\n",
    "    ax.vlines(7*10, 0, len(zmat), color='black', linewidth=1)\n",
    "\n",
    "    ax.grid(False)\n",
    "    \n",
    "ax = axs[0]\n",
    "# ax.set_xticks(0.5+np.arange(n_type))\n",
    "# ax.set_xticklabels(['A', '<-', '-', '->', 'C'], fontsize=10, rotation=0)\n",
    "for i, cond in enumerate(np.hstack([np.array(todo_conds[4:]+todo_conds[:4])[selected_conditions]])):\n",
    "    # ax.axvline(condcode*5, color='k', linestyle='--', linewidth=1)\n",
    "    ax.text(i*10, -0.5, f'{cond}', fontsize=12, va='bottom')\n",
    "\n",
    "# output = os.path.join(outfigdir, f'heatmap_csm_all.pdf')\n",
    "# powerplots.savefig_autodate(fig, output)\n",
    "plt.show()\n",
    "\n",
    "# break"
   ]
  },
  {
   "cell_type": "code",
   "execution_count": null,
   "id": "84b72ea9-7105-4273-990a-9a5ab7dcbb45",
   "metadata": {},
   "outputs": [],
   "source": []
  },
  {
   "cell_type": "code",
   "execution_count": null,
   "id": "12409d44-99f1-4936-aadd-c46cf6457974",
   "metadata": {},
   "outputs": [],
   "source": []
  },
  {
   "cell_type": "code",
   "execution_count": null,
   "id": "64bedc60-f6dd-4a49-b443-2e4a6fe5daf3",
   "metadata": {},
   "outputs": [],
   "source": []
  },
  {
   "cell_type": "code",
   "execution_count": null,
   "id": "555f7053-4215-4141-9544-4c1ebc8edb31",
   "metadata": {},
   "outputs": [],
   "source": [
    "csms_ordered_record"
   ]
  },
  {
   "cell_type": "code",
   "execution_count": null,
   "id": "9276d5c1-e3dc-41b7-b9a8-8ebfc46282cc",
   "metadata": {
    "tags": []
   },
   "outputs": [],
   "source": [
    "for l in csms_ordered_record:\n",
    "    assert len(np.unique(l)) == len(l)"
   ]
  },
  {
   "cell_type": "code",
   "execution_count": null,
   "id": "6dbc06f5-44d2-475e-b9e9-5e5bdcaa8afb",
   "metadata": {
    "tags": []
   },
   "outputs": [],
   "source": [
    "np.intersect1d(\n",
    "    csms_ordered_record[0],\n",
    "    csms_ordered_record[1],\n",
    ")"
   ]
  },
  {
   "cell_type": "code",
   "execution_count": null,
   "id": "77424e8b-d235-4a19-ab27-e971c357daa7",
   "metadata": {
    "tags": []
   },
   "outputs": [],
   "source": [
    "np.intersect1d(\n",
    "    csms_ordered_record[0],\n",
    "    csms_ordered_record[2],\n",
    ")"
   ]
  },
  {
   "cell_type": "code",
   "execution_count": null,
   "id": "b79ceff6-ab21-4fed-841e-5fffdd7504fa",
   "metadata": {
    "tags": []
   },
   "outputs": [],
   "source": [
    "np.intersect1d(\n",
    "    csms_ordered_record[1],\n",
    "    csms_ordered_record[2],\n",
    ")"
   ]
  },
  {
   "cell_type": "code",
   "execution_count": null,
   "id": "509f593b-2ff6-4e9a-a761-4c954de28988",
   "metadata": {},
   "outputs": [],
   "source": []
  },
  {
   "cell_type": "code",
   "execution_count": null,
   "id": "8742e8d2-4e4f-480d-83cf-a860e6a3492a",
   "metadata": {},
   "outputs": [],
   "source": []
  },
  {
   "cell_type": "code",
   "execution_count": null,
   "id": "84cccc33-efbf-4f84-881b-97c2bf36acc7",
   "metadata": {},
   "outputs": [],
   "source": []
  },
  {
   "cell_type": "code",
   "execution_count": null,
   "id": "c24a0de9-2b75-4db8-b5ed-8ba62bdf3c0c",
   "metadata": {},
   "outputs": [],
   "source": []
  },
  {
   "cell_type": "code",
   "execution_count": null,
   "id": "d44f322e-1aec-4c9a-9335-bbe891a56e91",
   "metadata": {},
   "outputs": [],
   "source": [
    "columns = np.hstack([60+np.arange(10), 100+np.arange(10)])\n",
    "columns"
   ]
  },
  {
   "cell_type": "code",
   "execution_count": null,
   "id": "30c97826-ad1d-4c64-a179-0183f4127613",
   "metadata": {
    "tags": []
   },
   "outputs": [],
   "source": [
    "fig, axs = plt.subplots(3,1,figsize=(8,4*3))\n",
    "for ax_idx, res_this in enumerate([res_a, res_c, res_b]):\n",
    "    ax = axs[ax_idx]\n",
    "    \n",
    "    order = res_this['order']\n",
    "    title = res_this['title']\n",
    "    zmat  = res_this['zmat']\n",
    "    clsts = res_this['clst']\n",
    "    genes_this = res_this['genes']\n",
    "    \n",
    "    gene_annots_this = gene_modules.check_genes(genes_this)[0]\n",
    "    cond_csm_this = np.array([_g in csm_annots for _g in gene_annots_this])\n",
    "    zmat = zmat[cond_csm_this]\n",
    "    clsts = clsts[cond_csm_this]\n",
    "    genes_this = genes_this[cond_csm_this] #res_this['genes']\n",
    "\n",
    "    sns.heatmap(zmat[:,columns],#[:,:7*10], \n",
    "                cmap='coolwarm', cbar_kws=dict(shrink=0.5), \n",
    "                xticklabels=False,\n",
    "                vmax=2.5, vmin=-2.5,\n",
    "                rasterized=True,\n",
    "                ax=ax)\n",
    "    ax.set_yticks(0.5+np.arange(len(zmat)))\n",
    "    ax.set_yticklabels(genes_this, fontsize=4, rotation=0)\n",
    "    \n",
    "    # ax.hlines(np.cumsum(np.unique(clsts, return_counts=True)[1]), 0, 11*10, color='white', linewidth=1)\n",
    "    ax.vlines(np.arange(0,7*10,10), 0, len(zmat), color='white', linewidth=1)\n",
    "    ax.vlines(7*10, 0, len(zmat), color='black', linewidth=1)\n",
    "\n",
    "    ax.grid(False)\n",
    "    \n",
    "ax = axs[0]\n",
    "# ax.set_xticks(0.5+np.arange(n_type))\n",
    "# ax.set_xticklabels(['A', '<-', '-', '->', 'C'], fontsize=10, rotation=0)\n",
    "for i, cond in enumerate(np.hstack([np.array(todo_conds[4:]+todo_conds[:4])[[6, 10]]])):\n",
    "    # ax.axvline(condcode*5, color='k', linestyle='--', linewidth=1)\n",
    "    ax.text(i*10, -0.5, f'{cond}', fontsize=10, va='bottom')\n",
    "\n",
    "# output = os.path.join(outfigdir, f'heatmap_csm_all.pdf')\n",
    "# powerplots.savefig_autodate(fig, output)\n",
    "plt.show()\n",
    "\n",
    "# break"
   ]
  },
  {
   "cell_type": "code",
   "execution_count": null,
   "id": "3323d8d0-f54e-4e61-86fe-904a3c0a5347",
   "metadata": {},
   "outputs": [],
   "source": []
  },
  {
   "cell_type": "code",
   "execution_count": null,
   "id": "4d60ec6c-e1db-461f-b44b-3027279be810",
   "metadata": {},
   "outputs": [],
   "source": []
  },
  {
   "cell_type": "code",
   "execution_count": null,
   "id": "e8e86bec-d593-4613-aa48-1baf443b39f1",
   "metadata": {},
   "outputs": [],
   "source": []
  }
 ],
 "metadata": {
  "kernelspec": {
   "display_name": "Python 3 (ipykernel)",
   "language": "python",
   "name": "python3"
  },
  "language_info": {
   "codemirror_mode": {
    "name": "ipython",
    "version": 3
   },
   "file_extension": ".py",
   "mimetype": "text/x-python",
   "name": "python",
   "nbconvert_exporter": "python",
   "pygments_lexer": "ipython3",
   "version": "3.9.16"
  }
 },
 "nbformat": 4,
 "nbformat_minor": 5
}
