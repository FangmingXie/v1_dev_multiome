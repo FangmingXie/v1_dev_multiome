{
 "cells": [
  {
   "cell_type": "code",
   "execution_count": null,
   "id": "30b97a56-8884-4718-a56d-fc8af8e882e7",
   "metadata": {},
   "outputs": [],
   "source": [
    "import glob\n",
    "import pandas as pd\n",
    "import numpy as np\n",
    "import statsmodels.formula.api as smf\n",
    "from statsmodels.stats.multitest import multipletests\n",
    "import matplotlib.pyplot as plt\n",
    "import os\n",
    "\n",
    "import scanpy as sc\n",
    "import seaborn as sns\n",
    "\n",
    "from scroutines import basicu\n",
    "\n",
    "import warnings\n",
    "from statsmodels.tools.sm_exceptions import ConvergenceWarning\n",
    "from statsmodels.tools.sm_exceptions import ValueWarning\n",
    "from tqdm import tqdm"
   ]
  },
  {
   "cell_type": "code",
   "execution_count": null,
   "id": "ddd754bc-9794-422b-94bf-632978549592",
   "metadata": {
    "tags": []
   },
   "outputs": [],
   "source": [
    "f = '/u/home/f/f7xiesnm/project-zipursky/v1-bb/v1/data/annot/gencode.vM25.genebody.bed'\n",
    "df_annot = pd.read_csv(f, sep='\\t', header=None)\n",
    "df_annot"
   ]
  },
  {
   "cell_type": "code",
   "execution_count": null,
   "id": "5fa2b0ad-fced-4937-b7f8-032a4b49aae1",
   "metadata": {
    "tags": []
   },
   "outputs": [],
   "source": [
    "f = '/u/home/f/f7xiesnm/project-zipursky/v1-bb/v1/data/v1_multiome/DEG_l23abc_gene_list_250409.csv'\n",
    "df_annot_abc = pd.read_csv(f)\n",
    "df_annot_abc['cond'] = df_annot_abc['cond'].apply(lambda x: x.replace('NR', ''))\n",
    "df_annot_abc = df_annot_abc.groupby('gene').agg({\n",
    "    'cond': lambda x: ' '.join(x), \n",
    "    'archetype': lambda x: ''.join(np.unique(x)), \n",
    "    })\n",
    "df_annot_abc"
   ]
  },
  {
   "cell_type": "code",
   "execution_count": null,
   "id": "73c49a5f-dcec-4483-8d8b-0221ec630727",
   "metadata": {
    "tags": []
   },
   "outputs": [],
   "source": [
    "ddir = '/u/home/f/f7xiesnm/project-zipursky/v1-bb/v1/results_nrdr_lmm/'\n",
    "!ls $ddir"
   ]
  },
  {
   "cell_type": "code",
   "execution_count": null,
   "id": "7c95a3ff-514f-451d-972d-0fbd22cc6eb3",
   "metadata": {
    "tags": []
   },
   "outputs": [],
   "source": [
    "\n",
    "df_sig_alltime_abc = []\n",
    "df_sig_alltime_b = []\n",
    "for time in ['P12', 'P14', 'P17', 'P21']:\n",
    "    df_sig_all = [] \n",
    "    for tag in ['A', 'B', 'C', 'ALL']:\n",
    "        if time == 'P21':\n",
    "            filename = os.path.join(ddir, f'NRDR_DEGs_LMM_{time}_L23_{tag}.csv')\n",
    "        else:\n",
    "            filename = os.path.join(ddir, f'NRDR_DEGs_LMM_{time}_L23_{tag}_v2.csv')\n",
    "            \n",
    "        df = pd.read_csv(filename, index_col=0)\n",
    "        df['max_cp10k'] = np.max(df.iloc[:,5:], axis=1)\n",
    "        x = df['log2fc']\n",
    "        y = df['qval']\n",
    "        z = df['max_cp10k']\n",
    "        # z2 = df['converged']\n",
    "\n",
    "        x_th = np.log2(1.5)\n",
    "        y_th = 0.05\n",
    "        z_th = 0.1\n",
    "\n",
    "        cond_sig = np.all([np.abs(x) > x_th, y < y_th, z > z_th,], axis=0)\n",
    "\n",
    "        print(np.sum(cond_sig))\n",
    "        df_sig = df[cond_sig].copy().sort_values('qval')\n",
    "        df_sig = df_sig.set_index('gene').join(df_annot_abc)\n",
    "        df_sig['test_sig'] = tag\n",
    "        df_sig = df_sig[['cond', 'archetype', 'test_sig']]\n",
    "        df_sig_all.append(df_sig)\n",
    "\n",
    "    df_sig_all = pd.concat(df_sig_all)\n",
    "    \n",
    "    df_sig_all_summary = df_sig_all.reset_index().groupby(['gene', 'test_sig']).size().unstack()\n",
    "    \n",
    "    df_sig_all_abc = df_sig_all.dropna() #.sort_values('archetype')# .dropna()\n",
    "    df_sig_all_abc = df_sig_all_abc.reset_index().groupby('gene').agg({'cond': 'first', 'archetype': 'first', 'test_sig': lambda x: \" \".join(x)})  #.sort_values('archetype')\n",
    "    # df_sig_all_abc = df_sig_all_abc[df_sig_all_abc['cond'].str.contains(time)]\n",
    "    df_sig_all_b = df_sig_all_abc[df_sig_all_abc['archetype'].str.contains('B')].copy()\n",
    "    print(time, len(df_sig_all_b), len(df_sig_all_abc), len(df_sig_all_summary), len(df_sig_all_abc)/len(df_sig_all_summary))\n",
    "    # df_sig_all_abc.sort_values('archetype') # shape\n",
    "    \n",
    "    df_sig_all_abc['test_sig_time'] = time\n",
    "    df_sig_all_b['test_sig_time'] = time\n",
    "    df_sig_alltime_abc.append(df_sig_all_abc)\n",
    "    df_sig_alltime_b.append(df_sig_all_b)"
   ]
  },
  {
   "cell_type": "code",
   "execution_count": null,
   "id": "de0da3cb-e12b-4baf-8fa8-ff7fd5a941cf",
   "metadata": {
    "tags": []
   },
   "outputs": [],
   "source": [
    "df_x = pd.concat(df_sig_alltime_abc)\n",
    "df_x.reset_index().groupby('gene').first()\n",
    "df_x = df_x.reset_index().groupby('gene').agg({'cond': 'first', 'archetype': 'first', 'test_sig': 'first', 'test_sig_time': lambda x: \" \".join(x)})  #.sort_values('archetype')\n",
    "df_x"
   ]
  },
  {
   "cell_type": "code",
   "execution_count": null,
   "id": "f50bb8a6-37a1-4b05-887e-a46d23bef483",
   "metadata": {
    "tags": []
   },
   "outputs": [],
   "source": [
    "df_x = pd.concat(df_sig_alltime_b)\n",
    "df_x.reset_index().groupby('gene').first()\n",
    "df_x = df_x.reset_index().groupby('gene').agg({'cond': 'first', 'archetype': 'first', 'test_sig': 'first', 'test_sig_time': lambda x: \" \".join(x)})  #.sort_values('archetype')\n",
    "df_x"
   ]
  },
  {
   "cell_type": "code",
   "execution_count": null,
   "id": "9951c871-ef26-4e9f-9f3b-dc152422f3f8",
   "metadata": {},
   "outputs": [],
   "source": []
  },
  {
   "cell_type": "code",
   "execution_count": null,
   "id": "87e79024-8858-4b14-ac86-fb421255cdcb",
   "metadata": {
    "tags": []
   },
   "outputs": [],
   "source": [
    "# df_sig_all_abc.sort_values('archetype').to_csv('check_l23nrdr.csv')\n",
    "# output = f'/u/home/f/f7xiesnm/project-zipursky/v1-bb/v1/results_sexual_dimorphism/summary_l23_{time}nrdr.csv'\n",
    "# df_sig_all_abc.sort_values('archetype').to_csv(output)"
   ]
  },
  {
   "cell_type": "code",
   "execution_count": null,
   "id": "a55369e1-25b4-4ded-9f1d-00116c10073b",
   "metadata": {
    "tags": []
   },
   "outputs": [],
   "source": [
    "df_sig_all_abc.value_counts('archetype').plot.bar()"
   ]
  },
  {
   "cell_type": "code",
   "execution_count": null,
   "id": "cd19eb80-a2fa-4cdb-9ec5-aa975b3ca733",
   "metadata": {
    "tags": []
   },
   "outputs": [],
   "source": [
    "df_sig_all_abc.value_counts('test_sig').plot.bar()"
   ]
  },
  {
   "cell_type": "code",
   "execution_count": null,
   "id": "7c9d109b-1913-4678-b3f2-bb0f6af58076",
   "metadata": {
    "tags": []
   },
   "outputs": [],
   "source": [
    "df_sig_all_abc.sort_values('test_sig')"
   ]
  },
  {
   "cell_type": "code",
   "execution_count": null,
   "id": "3cdbf8c2-0672-4703-a702-ad6d8755ef92",
   "metadata": {
    "tags": []
   },
   "outputs": [],
   "source": [
    "fig, ax = plt.subplots()\n",
    "ax.scatter(x, -np.log10(y), s=5)\n",
    "# for idx, row in df[cond_sig].iterrows():\n",
    "#     ax.text(row['log2fc'], -np.log10(row['qval']), row['gene'])\n",
    "plt.show()"
   ]
  },
  {
   "cell_type": "code",
   "execution_count": null,
   "id": "90a97849-aa8b-40e0-b8b2-f0343eed000c",
   "metadata": {
    "tags": []
   },
   "outputs": [],
   "source": [
    "fig, ax = plt.subplots()\n",
    "ax.scatter(x, -np.log10(y), s=5)\n",
    "ax.set_ylim([-1,10])\n",
    "# for idx, row in df[cond_sig].iterrows():\n",
    "#     ax.text(row['log2fc'], -np.log10(row['qval']), row['gene'])\n",
    "plt.show()"
   ]
  },
  {
   "cell_type": "code",
   "execution_count": null,
   "id": "2746ed58-1f25-4376-93c9-397f309aa614",
   "metadata": {},
   "outputs": [],
   "source": []
  }
 ],
 "metadata": {
  "kernelspec": {
   "display_name": "Python 3 (ipykernel)",
   "language": "python",
   "name": "python3"
  },
  "language_info": {
   "codemirror_mode": {
    "name": "ipython",
    "version": 3
   },
   "file_extension": ".py",
   "mimetype": "text/x-python",
   "name": "python",
   "nbconvert_exporter": "python",
   "pygments_lexer": "ipython3",
   "version": "3.9.16"
  }
 },
 "nbformat": 4,
 "nbformat_minor": 5
}
