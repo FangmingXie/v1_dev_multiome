{
 "cells": [
  {
   "cell_type": "code",
   "execution_count": null,
   "id": "30b97a56-8884-4718-a56d-fc8af8e882e7",
   "metadata": {},
   "outputs": [],
   "source": [
    "import glob\n",
    "import pandas as pd\n",
    "import numpy as np\n",
    "import statsmodels.formula.api as smf\n",
    "from statsmodels.stats.multitest import multipletests\n",
    "import matplotlib.pyplot as plt\n",
    "import os\n",
    "\n",
    "import scanpy as sc\n",
    "import seaborn as sns\n",
    "\n",
    "from scroutines import basicu\n",
    "\n",
    "import warnings\n",
    "from statsmodels.tools.sm_exceptions import ConvergenceWarning\n",
    "from statsmodels.tools.sm_exceptions import ValueWarning\n",
    "from tqdm import tqdm"
   ]
  },
  {
   "cell_type": "code",
   "execution_count": null,
   "id": "ddd754bc-9794-422b-94bf-632978549592",
   "metadata": {
    "tags": []
   },
   "outputs": [],
   "source": [
    "f = '/u/home/f/f7xiesnm/project-zipursky/v1-bb/v1/data/annot/gencode.vM25.genebody.bed'\n",
    "df_annot = pd.read_csv(f, sep='\\t', header=None)\n",
    "df_annot"
   ]
  },
  {
   "cell_type": "code",
   "execution_count": null,
   "id": "73c49a5f-dcec-4483-8d8b-0221ec630727",
   "metadata": {
    "tags": []
   },
   "outputs": [],
   "source": [
    "ddir = '/u/home/f/f7xiesnm/project-zipursky/v1-bb/v1/results_nrdr_lmm/'\n",
    "!ls $ddir"
   ]
  },
  {
   "cell_type": "code",
   "execution_count": null,
   "id": "f937c189-8ef4-4124-b992-c9f9ba2de8f9",
   "metadata": {},
   "outputs": [],
   "source": [
    "filename = os.path.join(ddir, 'NRDR_DEGs_LMM_P21_bigmodel.h5ad')\n",
    "adata = sc.read(filename)\n",
    "adata"
   ]
  },
  {
   "cell_type": "code",
   "execution_count": null,
   "id": "88385ab5-707f-4058-87ca-6cb4306599bb",
   "metadata": {
    "tags": []
   },
   "outputs": [],
   "source": [
    "adata = adata[adata.obs['converge']]\n",
    "adata"
   ]
  },
  {
   "cell_type": "markdown",
   "id": "056d57ea-ab2a-4bcf-9447-13c6556f217b",
   "metadata": {},
   "source": [
    "# Base line is Astrocytes"
   ]
  },
  {
   "cell_type": "code",
   "execution_count": null,
   "id": "b6273760-3b06-4da2-bf64-6665ab5bc30c",
   "metadata": {
    "tags": []
   },
   "outputs": [],
   "source": [
    "adata.var"
   ]
  },
  {
   "cell_type": "code",
   "execution_count": null,
   "id": "bbd458dd-1e2b-4d47-bd9e-7d68e3fabce9",
   "metadata": {
    "tags": []
   },
   "outputs": [],
   "source": [
    "x_th = np.log2(2)\n",
    "y_th = 0.05\n",
    "\n",
    "cond_sig = np.all([\n",
    "                    np.abs(adata.layers['effsize']) > x_th,\n",
    "                    adata.layers['qval']    < y_th,\n",
    "                   ], axis=0)"
   ]
  },
  {
   "cell_type": "code",
   "execution_count": null,
   "id": "ca0dc44a-5f36-4b20-93eb-9e21f9707954",
   "metadata": {
    "tags": []
   },
   "outputs": [],
   "source": [
    "cond_sig.shape"
   ]
  },
  {
   "cell_type": "code",
   "execution_count": null,
   "id": "1d30f290-4e85-4a99-a245-724dc1dd7547",
   "metadata": {
    "tags": []
   },
   "outputs": [],
   "source": [
    "bars = cond_sig.sum(axis=0)\n",
    "terms = adata.var.index.values\n",
    "\n",
    "fig, ax = plt.subplots(figsize=(5,8))\n",
    "base = np.arange(len(bars))\n",
    "ax.barh(base, bars)\n",
    "ax.set_yticks(base)\n",
    "ax.set_yticklabels(terms)\n",
    "ax.invert_yaxis()\n",
    "plt.show()\n",
    "        "
   ]
  },
  {
   "cell_type": "code",
   "execution_count": null,
   "id": "6c6068f8-821a-4b73-94ea-e8f885ee5862",
   "metadata": {
    "tags": []
   },
   "outputs": [],
   "source": [
    "indices = np.hstack([1, np.arange(16, len(adata.var), 1)])\n",
    "\n",
    "bars = cond_sig.sum(axis=0)[indices]\n",
    "terms = adata.var.index.values[indices]\n",
    "\n",
    "fig, ax = plt.subplots(figsize=(5,8))\n",
    "base = np.arange(len(bars))\n",
    "ax.barh(base, bars)\n",
    "ax.set_yticks(base)\n",
    "ax.set_yticklabels(terms)\n",
    "ax.invert_yaxis()\n",
    "plt.show()\n",
    "        "
   ]
  },
  {
   "cell_type": "code",
   "execution_count": null,
   "id": "95b08efb-8ad9-49bf-aeb8-23574d289c91",
   "metadata": {
    "tags": []
   },
   "outputs": [],
   "source": [
    "adata.obs[cond_sig[:,1]]"
   ]
  },
  {
   "cell_type": "code",
   "execution_count": null,
   "id": "6f81aff3-6aee-4985-bbb4-fbf243a9f805",
   "metadata": {
    "tags": []
   },
   "outputs": [],
   "source": [
    "adata.obs[cond_sig[:,16]]"
   ]
  },
  {
   "cell_type": "code",
   "execution_count": null,
   "id": "a5a2f0a3-49ad-44fa-8a3e-f19522d0c0a3",
   "metadata": {
    "tags": []
   },
   "outputs": [],
   "source": [
    "adata.obs[cond_sig[:,17]]"
   ]
  },
  {
   "cell_type": "code",
   "execution_count": null,
   "id": "deff6255-075e-42b4-b58e-f10215f93953",
   "metadata": {
    "tags": []
   },
   "outputs": [],
   "source": [
    "adata.obs[cond_sig[:,18]]"
   ]
  },
  {
   "cell_type": "code",
   "execution_count": null,
   "id": "90f79a83-799c-4261-8e28-1742205f7682",
   "metadata": {
    "tags": []
   },
   "outputs": [],
   "source": [
    "adata.obs[cond_sig[:,-2]]"
   ]
  },
  {
   "cell_type": "code",
   "execution_count": null,
   "id": "8c960180-14fc-4747-b6b1-1b541d134d2b",
   "metadata": {
    "tags": []
   },
   "outputs": [],
   "source": [
    "adata.obs[cond_sig[:,15]]"
   ]
  },
  {
   "cell_type": "code",
   "execution_count": null,
   "id": "4154e1ff-24f9-428e-8357-987ba391c6e8",
   "metadata": {},
   "outputs": [],
   "source": []
  }
 ],
 "metadata": {
  "kernelspec": {
   "display_name": "Python 3 (ipykernel)",
   "language": "python",
   "name": "python3"
  },
  "language_info": {
   "codemirror_mode": {
    "name": "ipython",
    "version": 3
   },
   "file_extension": ".py",
   "mimetype": "text/x-python",
   "name": "python",
   "nbconvert_exporter": "python",
   "pygments_lexer": "ipython3",
   "version": "3.9.16"
  }
 },
 "nbformat": 4,
 "nbformat_minor": 5
}
