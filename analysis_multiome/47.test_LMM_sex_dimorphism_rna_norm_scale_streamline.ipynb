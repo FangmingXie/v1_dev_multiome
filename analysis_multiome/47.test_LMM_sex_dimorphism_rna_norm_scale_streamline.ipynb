{
 "cells": [
  {
   "cell_type": "code",
   "execution_count": null,
   "id": "30b97a56-8884-4718-a56d-fc8af8e882e7",
   "metadata": {},
   "outputs": [],
   "source": [
    "import pandas as pd\n",
    "import numpy as np\n",
    "import statsmodels.formula.api as smf\n",
    "from statsmodels.stats.multitest import multipletests\n",
    "import matplotlib.pyplot as plt\n",
    "import os\n",
    "\n",
    "import scanpy as sc\n",
    "import seaborn as sns\n",
    "\n",
    "from scroutines import basicu\n",
    "\n",
    "import warnings\n",
    "from statsmodels.tools.sm_exceptions import ConvergenceWarning\n",
    "from statsmodels.tools.sm_exceptions import ValueWarning\n",
    "from tqdm import tqdm"
   ]
  },
  {
   "cell_type": "code",
   "execution_count": null,
   "id": "73c49a5f-dcec-4483-8d8b-0221ec630727",
   "metadata": {
    "tags": []
   },
   "outputs": [],
   "source": [
    "outfigdir = '/u/home/f/f7xiesnm/project-zipursky/v1-bb/v1/results_sexual_dimorphism'\n",
    "!mkdir $outfigdir"
   ]
  },
  {
   "cell_type": "code",
   "execution_count": null,
   "id": "7508e4b9-241a-42ea-9d4a-42d0a9220de0",
   "metadata": {
    "tags": []
   },
   "outputs": [],
   "source": [
    "f1 = '/u/home/f/f7xiesnm/project-zipursky/v1-bb/v1/data/v1_multiome/superdupermegaRNA_hasraw_multiome_l23.h5ad'\n",
    "f2 = '/u/home/f/f7xiesnm/v1_multiome/multiome_cell_sex_assignment_saumya.csv'\n",
    "adata  = sc.read(f1)\n",
    "df_sex = pd.read_csv(f2)\n",
    "adata.obs = adata.obs.join(df_sex.set_index('cell'))\n",
    "adata.X = adata.raw.X\n",
    "adata = adata[:,~adata.var.index.str.contains(f'^mt')]\n",
    "genes = adata.var.index.values\n",
    "adata"
   ]
  },
  {
   "cell_type": "code",
   "execution_count": null,
   "id": "306da436-c271-45c7-9c27-44cfdae3c65b",
   "metadata": {
    "tags": []
   },
   "outputs": [],
   "source": [
    "%%time\n",
    "\n",
    "offset = 1e-2\n",
    "for exp_cond in ['P6', 'P8', 'P10', 'P12', 'P14', 'P17', 'P12DR', 'P14DR', 'P17DR', 'P21DR']:\n",
    "    for subclass in ['L2/3']:\n",
    "\n",
    "        adatasub = adata[(adata.obs['Age']==exp_cond) & (adata.obs['Subclass']==subclass)]\n",
    "        \n",
    "        mat = np.array(adatasub.X.todense())/adatasub.obs['total_counts'].values.reshape(-1,1)*1e4\n",
    "        logmat = np.log2(mat+1)\n",
    "\n",
    "        logdf = pd.DataFrame(logmat, columns=np.char.add('g', np.arange(len(genes)).astype(str)), index=adatasub.obs.index)\n",
    "        logdf = logdf.join(adatasub.obs[['sex', 'Sample']])\n",
    "        logdf = logdf.dropna()\n",
    "        logdf['sex'] = logdf['sex'].apply(lambda x: x[0].upper())\n",
    "        logdf['subject'] = np.char.add(logdf['Sample'].values.astype(str), logdf['sex'].values.astype(str))\n",
    "        print(logdf.shape)\n",
    "\n",
    "        df = pd.DataFrame(mat, columns=np.char.add('g', np.arange(len(genes)).astype(str)), index=adatasub.obs.index)\n",
    "        df = df.join(adatasub.obs[['sex', 'Sample']])\n",
    "        df = df.dropna()\n",
    "        df['sex'] = df['sex'].apply(lambda x: x[0].upper())\n",
    "        df['subject'] = np.char.add(df['Sample'].values.astype(str), df['sex'].values.astype(str))\n",
    "        print(df.shape)\n",
    "        \n",
    "        # FC (fast)\n",
    "        df_mean = df.groupby(['sex']).mean(numeric_only=True)\n",
    "        log2fc  = ( np.log2(df_mean.loc['M']+offset)\n",
    "                   -np.log2(df_mean.loc['F']+offset)).values\n",
    "        cond_fc = (np.abs(log2fc) > np.log2(2))\n",
    "        print(exp_cond, subclass, cond_fc.sum(), genes[cond_fc])\n",
    "\n",
    "        # formal test (slow)\n",
    "        pvals = []\n",
    "        for i in tqdm(range(len(genes))):\n",
    "            model = smf.mixedlm(f\"g{i} ~ sex\", df, groups=\"subject\")\n",
    "            with warnings.catch_warnings():\n",
    "                warnings.simplefilter(\"ignore\") \n",
    "                # warnings.simplefilter(\"ignore\", ConvergenceWarning)\n",
    "                # warnings.simplefilter(\"ignore\", RuntimeWarning)\n",
    "                result = model.fit()\n",
    "\n",
    "            pval = result.pvalues['sex[T.M]']\n",
    "            pvals.append(pval)\n",
    "\n",
    "        pvals = np.nan_to_num(np.array(pvals), 1)\n",
    "        rej, qvals, _, _ =  multipletests(pvals, alpha=0.05, method='fdr_bh')\n",
    "        cond_both = np.logical_and(rej, cond_fc)\n",
    "\n",
    "        print(exp_cond, subclass, genes[cond_both])\n",
    "        # save results: exp_cond, subclass, genes, log2fc, qvals\n",
    "\n",
    "        df_res = pd.DataFrame()\n",
    "        df_res['gene'] = genes\n",
    "        df_res['log2fc'] = log2fc\n",
    "        df_res['qval'] = qvals\n",
    "        subclass_cure = subclass.replace('/', '')\n",
    "        output = os.path.join(outfigdir, f'{exp_cond}_{subclass_cure}.csv')\n",
    "        print(output)\n",
    "        df_res.to_csv(output)\n",
    "        \n",
    "    break\n",
    "        "
   ]
  },
  {
   "cell_type": "code",
   "execution_count": null,
   "id": "3668f556-0066-4bc6-81c4-c4867e9be641",
   "metadata": {
    "tags": []
   },
   "outputs": [],
   "source": [
    "!head /u/home/f/f7xiesnm/project-zipursky/v1-bb/v1/results_sexual_dimorphism/P21DR_L23.csv"
   ]
  }
 ],
 "metadata": {
  "kernelspec": {
   "display_name": "Python 3 (ipykernel)",
   "language": "python",
   "name": "python3"
  },
  "language_info": {
   "codemirror_mode": {
    "name": "ipython",
    "version": 3
   },
   "file_extension": ".py",
   "mimetype": "text/x-python",
   "name": "python",
   "nbconvert_exporter": "python",
   "pygments_lexer": "ipython3",
   "version": "3.9.16"
  }
 },
 "nbformat": 4,
 "nbformat_minor": 5
}
