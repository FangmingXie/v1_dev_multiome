{
 "cells": [
  {
   "cell_type": "code",
   "execution_count": null,
   "id": "bb214b6d-836a-49b8-93dd-a19f021215b7",
   "metadata": {
    "tags": []
   },
   "outputs": [],
   "source": [
    "import numpy as np\n",
    "import pandas as pd\n",
    "from scipy.stats import zscore\n",
    "from scipy import sparse \n",
    "from scipy.spatial import ConvexHull\n",
    "from sklearn.decomposition import PCA\n",
    "import matplotlib.pyplot as plt\n",
    "import seaborn as sns\n",
    "\n",
    "import scanpy as sc\n",
    "from py_pcha import PCHA"
   ]
  },
  {
   "cell_type": "code",
   "execution_count": null,
   "id": "f4954425-7161-4804-8f90-f12ea6b1979c",
   "metadata": {
    "tags": []
   },
   "outputs": [],
   "source": [
    "import os\n",
    "import numpy as np\n",
    "import pandas as pd\n",
    "import scanpy as sc\n",
    "import anndata \n",
    "import seaborn as sns\n",
    "from scipy.stats import zscore\n",
    "import matplotlib.pyplot as plt\n",
    "import collections\n",
    "from natsort import natsorted\n",
    "import re\n",
    "\n",
    "from scipy import stats\n",
    "from scipy import sparse\n",
    "from sklearn.decomposition import PCA\n",
    "from umap import UMAP\n",
    "\n",
    "from matplotlib.colors import LinearSegmentedColormap\n",
    "\n",
    "from scroutines.config_plots import *\n",
    "from scroutines import powerplots # .config_plots import *\n",
    "from scroutines import pnmf\n",
    "from scroutines import basicu\n",
    "from scroutines.gene_modules import GeneModules  \n"
   ]
  },
  {
   "cell_type": "code",
   "execution_count": null,
   "id": "2049f5e8-35f0-4169-836f-262a1b9cb447",
   "metadata": {
    "tags": []
   },
   "outputs": [],
   "source": [
    "from scipy import stats\n",
    "from matplotlib.ticker import MaxNLocator\n",
    "\n",
    "def plot(x, y, aspect_equal=False, density=False, hue='type'):\n",
    "    n = len(cases)\n",
    "    fig, axs = plt.subplots(1,n,figsize=(4*n,4*1), sharex=True, sharey=True)\n",
    "    for i, (ax, cond) in enumerate(zip(axs.flat, cases)):\n",
    "        ax.set_title(cond)\n",
    "        sns.scatterplot(data=res, \n",
    "                        x=x, y=y, \n",
    "                        c='lightgray',\n",
    "                        s=1, edgecolor='none', \n",
    "                        legend=False,\n",
    "                        ax=ax,\n",
    "                        rasterized=True,\n",
    "                       )\n",
    "        if hue == 'type':\n",
    "            sns.scatterplot(data=res[res['cond']==cond].sample(frac=1, replace=False),\n",
    "                            x=x, y=y, \n",
    "                            hue='type',\n",
    "                            hue_order=list(palette_types.keys()),\n",
    "                            palette=palette_types,\n",
    "                            s=3, edgecolor='none', \n",
    "                            legend=False,\n",
    "                            ax=ax,\n",
    "                            rasterized=True,\n",
    "                           )\n",
    "        else:\n",
    "            sns.scatterplot(data=res[res['cond']==cond].sample(frac=1, replace=False),\n",
    "                            x=x, y=y, \n",
    "                            hue='rep',\n",
    "                            # hue_order=list(palette_types.keys()),\n",
    "                            # palette=palette_types,\n",
    "                            s=3, edgecolor='none', \n",
    "                            legend=False,\n",
    "                            ax=ax,\n",
    "                            rasterized=True,\n",
    "                           )\n",
    "            \n",
    "        if density:\n",
    "            sns.histplot(data=res[res['cond']==cond],\n",
    "                            x=x, y=y, \n",
    "                            legend=False,\n",
    "                            ax=ax,\n",
    "                            rasterized=True,\n",
    "                           )\n",
    "        sns.despine(ax=ax)\n",
    "        ax.xaxis.set_major_locator(MaxNLocator(nbins=3))\n",
    "        ax.yaxis.set_major_locator(MaxNLocator(nbins=3))\n",
    "        if aspect_equal:\n",
    "            ax.set_aspect('equal')\n",
    "        if i > 0:\n",
    "            ax.set_xlabel('')\n",
    "            ax.set_ylabel('')\n",
    "    return fig\n",
    "    # plt.show()\n",
    "    \n",
    "def plot2(x, y, hue=None, aspect_equal=False, s=10, vmin=-2.5, vmax=2.5, vminp=None, vmaxp=None):\n",
    "    n = len(cases)\n",
    "    fig, axs = plt.subplots(1,n,figsize=(4*n,4*1), sharex=True, sharey=True)\n",
    "    fig.suptitle(hue, x=0, ha='left')\n",
    "    for i, (ax, cond) in enumerate(zip(axs.flat, cases)):\n",
    "        ax.set_title(cond)\n",
    "        show = res[res['cond']==cond]\n",
    "        \n",
    "        if vminp is not None:\n",
    "            vmin = np.percentile(show[hue], vminp)\n",
    "        if vmaxp is not None:\n",
    "            vmax = np.percentile(show[hue], vmaxp)\n",
    "            \n",
    "        if hue:\n",
    "            # order = np.argsort(show[hue].values)\n",
    "            ax.scatter(\n",
    "                       # show[x].iloc[order], show[y].iloc[order], c=show[hue].iloc[order], \n",
    "                       show[x], show[y], c=show[hue], \n",
    "                       cmap='coolwarm',\n",
    "                       vmin=vmin, vmax=vmax,\n",
    "                       s=s, \n",
    "                       edgecolor='none', \n",
    "                       rasterized=True,\n",
    "                      )\n",
    "        else:\n",
    "            r, p = stats.spearmanr(show[x], show[y])\n",
    "            ax.scatter(show[x], show[y],  \n",
    "                       s=s, \n",
    "                       edgecolor='none', \n",
    "                       rasterized=True,\n",
    "                      )\n",
    "            ax.set_title(f'{cond}\\n r={r:.2f}')\n",
    "        sns.despine(ax=ax)\n",
    "        ax.xaxis.set_major_locator(MaxNLocator(nbins=3))\n",
    "        ax.yaxis.set_major_locator(MaxNLocator(nbins=3))\n",
    "        if aspect_equal:\n",
    "            ax.set_aspect('equal')\n",
    "        if i == 0: \n",
    "            ax.set_xlabel(x)\n",
    "            ax.set_ylabel(y)\n",
    "        else:\n",
    "            ax.set_xlabel('')\n",
    "            ax.set_ylabel('')\n",
    "        ax.grid(False)\n",
    "    fig.tight_layout()\n",
    "    \n",
    "    return fig\n",
    "    # plt.show()"
   ]
  },
  {
   "cell_type": "code",
   "execution_count": null,
   "id": "8f228de5",
   "metadata": {
    "tags": []
   },
   "outputs": [],
   "source": [
    "import numpy as np\n",
    "import pandas as pd\n",
    "from scipy.stats import zscore\n",
    "from scipy import sparse \n",
    "from scipy.spatial import ConvexHull\n",
    "from sklearn.decomposition import PCA\n",
    "import matplotlib.pyplot as plt\n",
    "import seaborn as sns\n",
    "\n",
    "import scanpy as sc\n",
    "from py_pcha import PCHA\n",
    "\n",
    "from scipy.stats import gaussian_kde"
   ]
  },
  {
   "cell_type": "code",
   "execution_count": null,
   "id": "a769b1fc-3263-4b6d-9ee4-669ddf46a427",
   "metadata": {
    "tags": []
   },
   "outputs": [],
   "source": [
    "def norm(x, depths):\n",
    "    \"\"\"\n",
    "    Arguments: \n",
    "        x - cell by gene count matrix\n",
    "        depths - sequencing depth per cell\n",
    "        \n",
    "    Output:\n",
    "        xn - normalized count matrix\n",
    "\n",
    "    This function takes raw counts as the input, and does the following steps sequencially.\n",
    "         1. size normalization (CP10k) \n",
    "         2. log1p normalization (base 2 - log2(1+CP10k))\n",
    "         3. zscore per gene  \n",
    "    \"\"\"\n",
    "\n",
    "    xn = x/depths.reshape(-1,1)*1e4\n",
    "    xn = np.log2(1+xn)\n",
    "    xn = zscore(xn, axis=0)\n",
    "\n",
    "    if np.any(np.isnan(xn)):\n",
    "        print('Warning: the normalized matrix contains nan values. Check input.')\n",
    "        xn = np.nan_to_num(xn, 0)\n",
    "\n",
    "    return xn"
   ]
  },
  {
   "cell_type": "code",
   "execution_count": null,
   "id": "cd651632-9630-47f9-8fd6-0109d9a1a41d",
   "metadata": {
    "tags": []
   },
   "outputs": [],
   "source": [
    "def proj(x_norm, ndim, method='PCA'):\n",
    "    \"\"\"\n",
    "    Arguments: \n",
    "        x_norm - normalized cell by gene feature matrix\n",
    "        ndim   - number of dimensions\n",
    "\n",
    "    Output:\n",
    "        x_proj - a low-dimensional representation of `x_norm` \n",
    "\n",
    "    Here we only implemented PCA - a common projection method widely used, including by\n",
    "    Adler et al. 2019 and Xie et al. 2024 for the Achetypal Analysis of scRNA-seq data.\n",
    "\n",
    "    In principle, one can also choose to use other projection methods as needed.\n",
    "    \"\"\"\n",
    "\n",
    "    if method == 'PCA':\n",
    "        x_proj = PCA(n_components=ndim).fit_transform(x_norm)\n",
    "    else:\n",
    "        raise ValueError('methods other than PCA are not implemented...')\n",
    "\n",
    "    return x_proj\n"
   ]
  },
  {
   "cell_type": "code",
   "execution_count": null,
   "id": "517be85e-34d2-4bf1-8dc0-0432c091621e",
   "metadata": {
    "tags": []
   },
   "outputs": [],
   "source": [
    "def pcha(X, noc=3, delta=0, **kwargs):\n",
    "    \"\"\"\n",
    "    \"\"\"\n",
    "    XC, S, C, SSE, varexpl = PCHA(X, noc=noc, delta=delta, **kwargs)\n",
    "    XC = np.array(XC)\n",
    "    XC = XC[:,np.argsort(XC[0])] # assign an order according to x-axis \n",
    "    return XC "
   ]
  },
  {
   "cell_type": "code",
   "execution_count": null,
   "id": "ffcd1a0b-f922-41c1-afe6-bbe4d4bbc165",
   "metadata": {
    "tags": []
   },
   "outputs": [],
   "source": [
    "def downsamp(x, which='cell', p=0.8, seed=None):\n",
    "    \"\"\"\n",
    "    Arguments:\n",
    "        x - cell by gene matrix\n",
    "        which - downsample cells (rows) or genes (columns)\n",
    "        p - fraction of cells/genes to keep - should be a value between ~ [0,1]\n",
    "    \"\"\"\n",
    "    n0, n1 = x.shape\n",
    "    \n",
    "    rng = np.random.default_rng(seed=seed)\n",
    "    \n",
    "    if which in [0, 'cell', 'row']:\n",
    "        return x[rng.random(n0)<p, :]\n",
    "    elif which in [1, 'gene', 'col', 'column']:\n",
    "        return x[:, rng.random(n1)<p]\n",
    "    else:\n",
    "        raise ValueError('choose from cell or gene')"
   ]
  },
  {
   "cell_type": "code",
   "execution_count": null,
   "id": "dfcbdf89-a23b-4cdf-9916-f3fbf5f8f265",
   "metadata": {
    "tags": []
   },
   "outputs": [],
   "source": [
    "def shuffle_rows_per_col(x, seed=None):\n",
    "    \"\"\"\n",
    "    Arguments:\n",
    "       x - cell by gene matrix\n",
    "       seed - a random seed for reproducibility\n",
    "    \n",
    "    shuffles entries across rows (cells) independently for each col (gene)\n",
    "    \"\"\"\n",
    "    rng = np.random.default_rng(seed=seed)\n",
    "    x_shuff = rng.permuted(x, axis=0)\n",
    "    return x_shuff"
   ]
  },
  {
   "cell_type": "code",
   "execution_count": null,
   "id": "bd93c7c7-4d19-4da5-bc1a-a4b4419bc63b",
   "metadata": {},
   "outputs": [],
   "source": [
    "def plot_archetype(ax, aa, fmt='--o', color='k', **kwargs):\n",
    "    \"\"\"\n",
    "    \"\"\"\n",
    "    ax.plot(aa[0].tolist()+[aa[0,0]], aa[1].tolist()+[aa[1,0]], fmt, color=color, **kwargs)"
   ]
  },
  {
   "cell_type": "code",
   "execution_count": null,
   "id": "093e1be5-6411-4908-a79a-29c7cfc337d7",
   "metadata": {
    "tags": []
   },
   "outputs": [],
   "source": [
    "def get_t_ratio(xp, aa):\n",
    "    \"\"\"\n",
    "    Arguments:\n",
    "     xp -- projected matrix (cell by 2)\n",
    "     aa -- inferred archetypes (2 by noc)\n",
    "     note that this function only works for 2-dimensional space only\n",
    "     \n",
    "    Return: \n",
    "     t-ratio - ratio of areas (convex hull vs PCH)\n",
    "     \n",
    "    \"\"\"\n",
    "    assert xp.shape[1] == aa.shape[0] == 2\n",
    "    \n",
    "    ch_area  = ConvexHull(xp).volume\n",
    "   \n",
    "    x = aa[0]\n",
    "    y = aa[1]\n",
    "    pch_area = 0.5*np.abs(np.dot(x,np.roll(y,1))-np.dot(y,np.roll(x,1)))\n",
    "\n",
    "    return ch_area/pch_area "
   ]
  },
  {
   "cell_type": "code",
   "execution_count": null,
   "id": "1984734f-c891-4feb-a210-0073ae0897e7",
   "metadata": {
    "tags": []
   },
   "outputs": [],
   "source": [
    "class SingleCellArchetype():\n",
    "    \"\"\"\n",
    "    \"\"\"\n",
    "    def __init__(self, x, depths, types):\n",
    "        \"\"\"\n",
    "        Arguments: \n",
    "            x - cell by gene count matrix\n",
    "            depths - sequencing depth per cell\n",
    "            types  - cell type labels per cell\n",
    "        \n",
    "        Initiate the SingleCellArchetype object\n",
    "\n",
    "        \"\"\"\n",
    "        \n",
    "        # input\n",
    "        self.x = x\n",
    "        self.depths = depths\n",
    "        self.types = types\n",
    "        \n",
    "        # cell type label\n",
    "        types_idx, types_lbl = pd.factorize(types, sort=True)\n",
    "        \n",
    "        self.types_idx = types_idx\n",
    "        self.types_lbl = types_lbl \n",
    "        \n",
    "        # normalize\n",
    "        self.xn = norm(self.x, self.depths)\n",
    "        \n",
    "        # feature matrix \n",
    "        self.xf = None \n",
    "        return \n",
    "        \n",
    "    def setup_feature_matrix(self, method='data'):\n",
    "        \"\"\"\n",
    "        \"\"\"\n",
    "        if method == 'data': \n",
    "            self.xf = self.xn\n",
    "            print('use data')\n",
    "            return  \n",
    "        \n",
    "        elif method == 'gshuff':\n",
    "            # shuffle gene expression globally across all cells\n",
    "            self.xf = shuffle_rows_per_col(self.xn)\n",
    "            print('use shuffled data')\n",
    "            return\n",
    "            \n",
    "        elif method == 'tshuff':\n",
    "            # shuff each gene across cells independently - internally for each type A,B,C\n",
    "            xn = self.xn\n",
    "            xn_tshuff = xn.copy()\n",
    "            \n",
    "            types_lbl = self.types_lbl\n",
    "            types_idx = self.types_idx\n",
    "            for i in range(len(types_lbl)):\n",
    "                xn_tshuff[types_idx==i] = shuffle_rows_per_col(xn[types_idx==i])\n",
    "            self.xf = xn_tshuff\n",
    "            print('use per-type shuffled data')\n",
    "            return\n",
    "        else:\n",
    "            raise ValueError('choose from (data, gshuff, tshuff)')\n",
    "    \n",
    "    def proj_and_pcha(self, ndim, noc, **kwargs):\n",
    "        \"\"\"\n",
    "        \"\"\"\n",
    "        xp = proj(self.xf, ndim)\n",
    "        aa = pcha(xp.T, noc=noc, **kwargs)\n",
    "        \n",
    "        self.xp = xp\n",
    "        self.aa = aa\n",
    "        return (xp, aa)\n",
    "        \n",
    "    def downsamp_proj_pcha(self, ndim, noc, nrepeats=10, which='cell', p=0.8, **kwargs): \n",
    "        \"\"\"\n",
    "        \"\"\"\n",
    "        aa_dsamps = []\n",
    "        for i in range(nrepeats):\n",
    "            xn_dsamp = downsamp(self.xf, which=which, p=p)\n",
    "            xp_dsamp = proj(xn_dsamp, ndim)\n",
    "            aa_dsamp = pcha(xp_dsamp.T, noc=noc, **kwargs)\n",
    "            aa_dsamps.append(aa_dsamp)\n",
    "            \n",
    "        return aa_dsamps\n",
    "    \n",
    "    def t_ratio_test(self, ndim, noc, nrepeats=10, **kwargs): \n",
    "        \"\"\"\n",
    "        this only work for 2-dimensional space for now\n",
    "        \"\"\"\n",
    "        assert ndim == 2\n",
    "        \n",
    "        self.setup_feature_matrix(method='data')\n",
    "        xp, aa = self.proj_and_pcha(ndim, noc)\n",
    "        t_ratio = get_t_ratio(xp, aa)\n",
    "        \n",
    "        t_ratios_shuff = []\n",
    "        for i in range(nrepeats):\n",
    "            self.setup_feature_matrix(method='gshuff')\n",
    "            xp_shuff, aa_shuff = self.proj_and_pcha(ndim, noc)\n",
    "            t_ratio_shuff = get_t_ratio(xp_shuff, aa_shuff)\n",
    "            t_ratios_shuff.append(t_ratio_shuff)\n",
    "            \n",
    "        pvalue = (np.sum(t_ratio > t_ratios_shuff)+1)/nrepeats\n",
    "        \n",
    "        return t_ratio, t_ratios_shuff, pvalue"
   ]
  },
  {
   "cell_type": "code",
   "execution_count": null,
   "id": "f45abc88-0cbc-4575-8035-9cb157c42bc2",
   "metadata": {},
   "outputs": [],
   "source": [
    "outdirfig = \"/u/home/f/f7xiesnm/project-zipursky/v1-bb/v1/figures/250407\"\n",
    "!mkdir -p $outdirfig\n",
    "\n"
   ]
  },
  {
   "cell_type": "markdown",
   "id": "ba1f61ee-ba83-4707-816d-37eb33a54b83",
   "metadata": {},
   "source": [
    "# load gene annotation"
   ]
  },
  {
   "cell_type": "code",
   "execution_count": null,
   "id": "516a31fc-2fa7-4aac-a175-0b1620a671c6",
   "metadata": {
    "tags": []
   },
   "outputs": [],
   "source": [
    "gene_modules = GeneModules()\n",
    "anno, color, gene_styled = gene_modules.check_genes('Cdh13')\n",
    "print(\"\\t\".join(anno))\n",
    "print(\"\\t\".join(color))\n",
    "print(\"\\t\".join(gene_styled))"
   ]
  },
  {
   "cell_type": "code",
   "execution_count": null,
   "id": "012e0c55-888e-43b8-bb75-846ef63d3f26",
   "metadata": {
    "tags": []
   },
   "outputs": [],
   "source": [
    "# AC genes\n",
    "f = '/u/home/f/f7xiesnm/project-zipursky/v1-bb/v1/data/v1_multiome/Saumya_P6-21_AC_genes.csv'\n",
    "df = pd.read_csv(f)\n",
    "\n",
    "df_a = df.iloc[:25]\n",
    "df_c = df.iloc[25:]\n",
    "\n",
    "alltime_a = np.unique(df_a.values)\n",
    "alltime_c = np.unique(df_c.values)\n",
    "alltime_ac = np.hstack([alltime_a, alltime_c])\n",
    "\n",
    "ac_overlap = np.intersect1d(alltime_a, alltime_c)\n",
    "\n",
    "print(df_a.shape, df_c.shape, alltime_a.shape, alltime_c.shape, alltime_ac.shape, ac_overlap.shape)\n",
    "df.head()"
   ]
  },
  {
   "cell_type": "code",
   "execution_count": null,
   "id": "fb72ade4-5ddd-4d8d-9d66-847375e16845",
   "metadata": {},
   "outputs": [],
   "source": [
    "# use those 286 genes\n",
    "# df = pd.read_csv(\"../../data/cheng21_cell_scrna/res/candidate_genes_vincent_0503_v2.csv\")\n",
    "df = pd.read_csv(\"../../data/cheng21_cell_scrna/res/L23-ABC-genes-n288-n286unq-annot.csv\")\n",
    "genes_l23 = df['gene'].astype(str).values\n",
    "genes_l23a = df[df['P17on']=='A']['gene'].astype(str).values\n",
    "genes_l23b = df[df['P17on']=='B']['gene'].astype(str).values\n",
    "genes_l23c = df[df['P17on']=='C']['gene'].astype(str).values\n",
    "\n",
    "print(genes_l23a.shape, genes_l23b.shape, genes_l23c.shape)\n",
    "genes_grp = df['P17on'].astype(str).values\n",
    "assert len(genes_l23) == len(np.unique(genes_l23))\n",
    "\n",
    "genes_l23.shape"
   ]
  },
  {
   "cell_type": "code",
   "execution_count": null,
   "id": "86150786-4c20-40a5-8e56-fa1b7e5e688c",
   "metadata": {
    "tags": []
   },
   "outputs": [],
   "source": [
    "scores_abc = pd.read_csv(\"/u/home/f/f7xiesnm/project-zipursky/v1-bb/v1/data/v1_multiome/scores_l23abc.csv\", \n",
    "                         index_col=0,\n",
    "                        )\n",
    "scores_abc"
   ]
  },
  {
   "cell_type": "markdown",
   "id": "3b3e075a-5d66-4efb-8b6c-dd37a3ac26eb",
   "metadata": {},
   "source": [
    "# load data "
   ]
  },
  {
   "cell_type": "code",
   "execution_count": null,
   "id": "8542eec8-b8e1-4a35-9237-0d3c0043349b",
   "metadata": {},
   "outputs": [],
   "source": [
    "# f_anndata_in  = \"../../data/v1_multiome/superdupermegaRNA_hasraw_multiome_l23.h5ad\"# _multiome_l23.h5ad\"#  L23_allmultiome_raw.h5ad\"\n",
    "f_anndata_in  = \"../../data/v1_multiome/L23_allmultiome_raw.h5ad\"\n",
    "adata = anndata.read(f_anndata_in)\n",
    "adata"
   ]
  },
  {
   "cell_type": "code",
   "execution_count": null,
   "id": "c715643c-0748-414c-b477-4294cb85b5cc",
   "metadata": {
    "tags": []
   },
   "outputs": [],
   "source": [
    "sample_labels = [\"-\".join(cell.split(' ')[0].split('-')[2:]).replace('-2023', '') for cell in adata.obs.index]\n",
    "time_labels = [s[:-1].replace('DR', '') for s in sample_labels]\n",
    "\n",
    "adata.obs['n_counts'] = adata.obs['nCount_RNA']\n",
    "adata.obs['sample'] = sample_labels\n",
    "adata.obs['time']   = time_labels\n",
    "\n",
    "uniq_samples = natsorted(np.unique(sample_labels))\n",
    "uniq_times = natsorted(np.unique(time_labels))\n",
    "\n",
    "nr_samples = [s for s in uniq_samples if \"DR\" not in s]\n",
    "dr_samples = [s for s in uniq_samples if \"DR\" in s]\n",
    "print(uniq_times)\n",
    "print(nr_samples)\n",
    "print(dr_samples)\n",
    "\n",
    "# adata.obs['sample'] = sample_labels"
   ]
  },
  {
   "cell_type": "code",
   "execution_count": null,
   "id": "4d9ae16c-9107-4acd-8405-fbcd84bd8e0d",
   "metadata": {
    "tags": []
   },
   "outputs": [],
   "source": [
    "# select samples\n",
    "# adata = adata[adata.obs['sample'].isin(nr_samples)]\n",
    "# adata = adata[adata.obs['time'].isin(['P6', 'P8', 'P10', 'P12', 'P14', 'P17', 'P21'])]\n",
    "adata.obs['cond'] = adata.obs['sample'].apply(lambda x: x[:-1]) # .unique()\n",
    "\n",
    "# remove mitocondria genes\n",
    "adata = adata[:,~adata.var['features'].str.contains(r'^mt-')]\n",
    "\n",
    "# select\n",
    "# adata = adata[adata.obs['cond'].str.contains(r\"NR$\")]\n",
    "adata.obs['sample'].unique(), adata.obs['cond'].unique()"
   ]
  },
  {
   "cell_type": "code",
   "execution_count": null,
   "id": "4909ea27-eafc-4571-aee4-afb718a5a171",
   "metadata": {
    "tags": []
   },
   "outputs": [],
   "source": [
    "# define\n",
    "# genes = adata.var.index.values\n",
    "conds = adata.obs['cond'].values\n",
    "types = adata.obs['Type'].values\n",
    "samps = adata.obs['sample'].values\n",
    "\n",
    "# organize\n",
    "rename = {\n",
    "    \"L2/3_A\": \"L2/3_A\",\n",
    "    \"L2/3_B\": \"L2/3_B\",\n",
    "    \"L2/3_C\": \"L2/3_C\",\n",
    "    \n",
    "    \"L2/3_1\": \"L2/3_A\",\n",
    "    \"L2/3_2\": \"L2/3_B\",\n",
    "    \"L2/3_3\": \"L2/3_C\",\n",
    "    \n",
    "    \"L2/3_AB\": \"L2/3_A\",\n",
    "    \"L2/3_BC\": \"L2/3_C\",\n",
    "}\n",
    "adata.obs['easitype'] = adata.obs['Type'] #.apply(lambda x: rename[x])\n",
    "adata"
   ]
  },
  {
   "cell_type": "code",
   "execution_count": null,
   "id": "5a7d34aa-74e8-41ce-8443-42f08af5c5d4",
   "metadata": {
    "tags": []
   },
   "outputs": [],
   "source": [
    "adata.obs['Type'].unique()"
   ]
  },
  {
   "cell_type": "code",
   "execution_count": null,
   "id": "1fadd441-11aa-49ab-abcc-d8d5e9cf47ea",
   "metadata": {},
   "outputs": [],
   "source": [
    "# filter genes\n",
    "cond = np.ravel((adata.X>0).sum(axis=0)) > 10 # expressed in more than 10 cells\n",
    "adata = adata[:,cond]\n",
    "genes = adata.var.index.values\n",
    "\n",
    "# counts\n",
    "x = adata.X\n",
    "cov = adata.obs['n_counts'].values\n",
    "\n",
    "# CP10k\n",
    "# xn = x/cov.reshape(x.shape[0], -1)*1e4\n",
    "xn = (sparse.diags(1/cov).dot(x))*1e4\n",
    "\n",
    "# log10(CP10k+1)\n",
    "xln = xn.copy()\n",
    "xln.data = np.log10(xln.data+1)\n",
    "\n",
    "adata.layers[    'norm'] = np.array(xn.todense())\n",
    "adata.layers[ 'lognorm'] = np.array(xln.todense())\n",
    "adata.layers['zlognorm'] = zscore(np.array(xln.todense()), axis=0)"
   ]
  },
  {
   "cell_type": "code",
   "execution_count": null,
   "id": "ee38a818-ddf9-4cac-9cd5-995cc8c92699",
   "metadata": {},
   "outputs": [],
   "source": [
    "# select HVGs with mean and var\n",
    "nbin = 20\n",
    "qth = 0.3\n",
    "\n",
    "# min\n",
    "gm = np.ravel(xn.mean(axis=0))\n",
    "\n",
    "# var\n",
    "tmp = xn.copy()\n",
    "tmp.data = np.power(tmp.data, 2)\n",
    "gv = np.ravel(tmp.mean(axis=0))-gm**2\n",
    "\n",
    "# cut \n",
    "lbl = pd.qcut(gm, nbin, labels=np.arange(nbin))\n",
    "gres = pd.DataFrame()\n",
    "gres['name'] = genes\n",
    "gres['lbl'] = lbl\n",
    "gres['mean'] = gm\n",
    "gres['var'] = gv\n",
    "gres['ratio']= gv/gm\n",
    "\n",
    "# select\n",
    "gres_sel = gres.groupby('lbl')['ratio'].nlargest(int(qth*(len(gm)/nbin))) #.reset_index()\n",
    "gsel_idx = np.sort(gres_sel.index.get_level_values(1).values)\n",
    "assert np.all(gsel_idx != -1)\n"
   ]
  },
  {
   "cell_type": "code",
   "execution_count": null,
   "id": "ea683c02-56eb-48f3-9904-29f72e678735",
   "metadata": {},
   "outputs": [],
   "source": [
    "fig, axs = plt.subplots(1,2, figsize=(6*2,4), sharex=True, sharey=True)\n",
    "ax = axs[0]\n",
    "ax.scatter(gm, gv/gm, s=5, edgecolor='none', color='gray')\n",
    "ax.set_xscale('log')\n",
    "ax.set_yscale('log')\n",
    "ax.set_xlabel('mean expr (CP10k)')\n",
    "ax.set_ylabel('var/mean')\n",
    "ax.set_title(f'{len(gm):,} genes')\n",
    "\n",
    "ax = axs[1]\n",
    "ax.scatter(gm, gv/gm, s=5, edgecolor='none', color='gray')\n",
    "ax.scatter(gm[gsel_idx], (gv/gm)[gsel_idx], c=lbl[gsel_idx], s=5, edgecolor='none', cmap='viridis_r', label=f'{len(gsel_idx):,} HVGs')\n",
    "ax.set_xscale('log')\n",
    "ax.set_yscale('log')\n",
    "ax.set_xlabel('mean expr (CP10k)')\n",
    "ax.set_ylabel('var/mean')\n",
    "ax.legend(bbox_to_anchor=(1,1))\n",
    "\n",
    "plt.show()"
   ]
  },
  {
   "cell_type": "code",
   "execution_count": null,
   "id": "b8db6d89-2c84-4360-85c3-d3f400af66b6",
   "metadata": {
    "tags": []
   },
   "outputs": [],
   "source": [
    "adata_hvg = adata[:,gsel_idx]\n",
    "print(adata_hvg.shape)\n",
    "genes_hvg = adata_hvg.var.index.values\n",
    "\n",
    "adata_hvg_early = adata_hvg[adata_hvg.obs['cond'].isin(['P6'])]\n",
    "adata_hvg_later = adata_hvg[adata_hvg.obs['cond'].isin(['P21'])]"
   ]
  },
  {
   "cell_type": "code",
   "execution_count": null,
   "id": "d1a96bfa-64ac-4fba-a0a8-47731a444e22",
   "metadata": {
    "tags": []
   },
   "outputs": [],
   "source": [
    "genes_hvg # to File\n",
    "# np.savetxt('/u/home/f/f7xiesnm/v1_multiome/l23_alltime_hvgs_n4940.txt', genes_hvg, fmt='%s')"
   ]
  },
  {
   "cell_type": "code",
   "execution_count": null,
   "id": "b0463513-a53d-4917-8901-f7d4c395578b",
   "metadata": {
    "tags": []
   },
   "outputs": [],
   "source": []
  },
  {
   "cell_type": "code",
   "execution_count": null,
   "id": "591ebcf7-f53f-4727-8ef3-e2d7bc11d366",
   "metadata": {},
   "outputs": [],
   "source": [
    "# adata_hvg_shuff = adata.copy()\n",
    "# adata_hvg_shuff.X"
   ]
  },
  {
   "cell_type": "code",
   "execution_count": null,
   "id": "3c00436a-3ab3-4a9d-aac9-3bc1e1525f65",
   "metadata": {
    "tags": []
   },
   "outputs": [],
   "source": [
    "pca_early = PCA(n_components=5)\n",
    "pca_early.fit(adata_hvg_early.layers['lognorm'][...]) #\n",
    "pcs_early = pca_early.transform(adata_hvg.layers['lognorm'][...])\n",
    "\n",
    "# pcs_early[:,0] = -pcs_earl[:,0] # flip PC1\n",
    "# pcs_early[:,2] = -pcs_early[:,2] # flip PC3\n",
    "\n",
    "# learn on parts, project for everything\n",
    "pca_later = PCA(n_components=5)\n",
    "pca_later.fit(adata_hvg_later.layers['lognorm'][...]) #\n",
    "pcs_later = pca_later.transform(adata_hvg.layers['lognorm'][...])\n",
    "\n",
    "pcs_later[:,0] = -pcs_later[:,0] # flip PC1\n",
    "pcs_later[:,1] = -pcs_later[:,1] # flip PC2"
   ]
  },
  {
   "cell_type": "code",
   "execution_count": null,
   "id": "cc8a2a1b-498c-4277-a9f1-1d2caaff58f3",
   "metadata": {
    "tags": []
   },
   "outputs": [],
   "source": [
    "pca_all = PCA(n_components=20)\n",
    "pca_all.fit(adata_hvg.layers['lognorm'][...]) #\n",
    "pcs_all = pca_all.transform(adata_hvg.layers['lognorm'][...])\n",
    "\n",
    "pcs_all[:,0] = -pcs_all[:,0] # flip PC1\n",
    "pcs_all[:,1] = -pcs_all[:,1] # flip PC1"
   ]
  },
  {
   "cell_type": "code",
   "execution_count": null,
   "id": "c41137ba-35a5-4a28-88ad-d7119d1d4810",
   "metadata": {
    "tags": []
   },
   "outputs": [],
   "source": [
    "pca_later_shuff = PCA(n_components=5)\n",
    "pca_later_shuff.fit(shuffle_rows_per_col(adata_hvg_later.layers['lognorm'][...])) # random direction\n",
    "pcs_later_shuff = pca_later_shuff.transform(adata_hvg.layers['lognorm'][...]) # original data"
   ]
  },
  {
   "cell_type": "code",
   "execution_count": null,
   "id": "a5cc65ab-0dd2-402b-a54d-3ef3e129f14e",
   "metadata": {},
   "outputs": [],
   "source": [
    "# %%time\n",
    "# ucs_all = UMAP(n_components=2, n_neighbors=30).fit_transform(pcs_all) #"
   ]
  },
  {
   "cell_type": "code",
   "execution_count": null,
   "id": "0a051129-b302-42ed-9d4a-445fa39d1bf7",
   "metadata": {
    "tags": []
   },
   "outputs": [],
   "source": [
    "vt = pca_early.components_\n",
    "topgenes_early = genes_hvg[np.flip(np.argsort(np.abs(vt), axis=1), axis=1)]\n",
    "print(topgenes_early[:,:8])\n",
    "\n",
    "vt = pca_later.components_\n",
    "topgenes_later = genes_hvg[np.flip(np.argsort(np.abs(vt), axis=1), axis=1)]\n",
    "print(topgenes_later[:,:8])"
   ]
  },
  {
   "cell_type": "code",
   "execution_count": null,
   "id": "ad6af698-718a-4ecc-804f-244998875592",
   "metadata": {},
   "outputs": [],
   "source": [
    "adata.obsm['pca_early'] = pcs_early\n",
    "adata.obsm['pca_later'] = pcs_later\n",
    "adata.obsm['pca_all']   = pcs_all"
   ]
  },
  {
   "cell_type": "code",
   "execution_count": null,
   "id": "2710199e-e053-41b4-9838-dc1f261e1b22",
   "metadata": {
    "tags": []
   },
   "outputs": [],
   "source": [
    "res0 = pd.DataFrame(adata.layers['zlognorm'][...], columns=genes)\n",
    "res0['cond'] = conds\n",
    "res0['type'] = types\n",
    "res0['samp'] = samps\n",
    "res0['rep']  = [samp[-1] for samp in samps]\n",
    "res0['type'] = np.char.add('c', res0['type'].values.astype(str))\n",
    "\n",
    "res1 = pd.DataFrame(pcs_early, columns=np.char.add(\"pcs_early\", ((1+np.arange(pcs_early.shape[1])).astype(str))))\n",
    "res2 = pd.DataFrame(pcs_later, columns=np.char.add(\"pcs_later\", ((1+np.arange(pcs_later.shape[1])).astype(str))))\n",
    "res3 = pd.DataFrame(pcs_all, columns=np.char.add(\"pcs_all\", ((1+np.arange(pcs_all.shape[1])).astype(str))))\n",
    "\n",
    "res4 = pd.DataFrame(pcs_later_shuff, columns=np.char.add(\"pcs_later_shuff\", ((1+np.arange(pcs_later_shuff.shape[1])).astype(str))))\n",
    "res5 = scores_abc.reindex(adata.obs.index.values).reset_index().drop('cond', axis=1)\n",
    "res = pd.concat([res0, res1, res2, res3, res4, res5], axis=1)\n",
    "\n",
    "# res4 = pd.DataFrame(ucs_all, columns=np.char.add(\"ucs_all\", ((1+np.arange(ucs_all.shape[1])).astype(str))))\n",
    "# res = pd.concat([res0, res1, res2, res3, res4], axis=1)"
   ]
  },
  {
   "cell_type": "code",
   "execution_count": null,
   "id": "7d39cdaa-ad88-4aa2-8313-5ee56c0f37e8",
   "metadata": {
    "tags": []
   },
   "outputs": [],
   "source": [
    "allcolors = sns.color_palette('tab20b', 20)\n",
    "allcolors"
   ]
  },
  {
   "cell_type": "code",
   "execution_count": null,
   "id": "b9738b71-19bb-4e6d-ba3d-e38215a3347b",
   "metadata": {
    "tags": []
   },
   "outputs": [],
   "source": [
    "allcolors2 = sns.color_palette('tab10', 20)\n",
    "allcolors2"
   ]
  },
  {
   "cell_type": "code",
   "execution_count": null,
   "id": "3e8e4d75-2d87-4c0a-a809-43053850bc71",
   "metadata": {
    "tags": []
   },
   "outputs": [],
   "source": [
    "palette = collections.OrderedDict({\n",
    "     \"P6\": allcolors[1],\n",
    "     \"P8\": allcolors[0],\n",
    "    \"P10\": allcolors[4+2],\n",
    "    \"P12\": allcolors[4+1],\n",
    "    \"P14\": allcolors[4+0],\n",
    "    \n",
    "    \"P17\": allcolors[8+2],\n",
    "    \"P21\": allcolors[8+0],\n",
    "    \n",
    "    \"P12DR\": allcolors[8+2],\n",
    "    \"P14DR\": allcolors[8+0],\n",
    "    \"P17DR\": allcolors[8+0],\n",
    "    \"P21DR\": allcolors[8+0],\n",
    "    \n",
    "})\n",
    "cases = np.array(list(palette.keys()))\n",
    "\n",
    "cond_order_dict = {\n",
    "    'P6':  0,\n",
    "    'P8':  1,\n",
    "    'P10': 2,\n",
    "    'P12': 3,\n",
    "    'P14': 4,\n",
    "    'P17': 5,\n",
    "    'P21': 6,\n",
    "    \n",
    "    'P12DR': 7,\n",
    "    'P14DR': 8,\n",
    "    'P17DR': 9,\n",
    "    'P21DR': 10,\n",
    "}\n",
    "unq_conds = np.array(list(cond_order_dict.keys()))\n",
    "adata.obs['cond_order'] = adata.obs['cond'].apply(lambda x: cond_order_dict[x])\n",
    "\n",
    "palette_types = collections.OrderedDict({\n",
    "    'L2/3_A': allcolors2[0],\n",
    "    'L2/3_B': allcolors2[1],\n",
    "    'L2/3_C': allcolors2[2],\n",
    "})             \n",
    "\n",
    "palette_types = {\n",
    "    'c14': 'C0', \n",
    "    'c18': 'C1',\n",
    "    'c16': 'C2', \n",
    "    \n",
    "    'c13': 'C0', \n",
    "    'c15': 'C1', \n",
    "    'c17': 'C2',\n",
    "}\n",
    "type_order = [key for key, val in palette_types.items()]\n",
    "type_order"
   ]
  },
  {
   "cell_type": "markdown",
   "id": "e654279d-3fed-40a4-9eef-c15eb575f214",
   "metadata": {},
   "source": [
    "# Plot A vs C genes aligning cells along early vs late PCs"
   ]
  },
  {
   "cell_type": "code",
   "execution_count": null,
   "id": "e4eb5acc-32e3-426e-adcc-6e4c108f0fca",
   "metadata": {
    "tags": []
   },
   "outputs": [],
   "source": [
    "palette_time = sns.cubehelix_palette(n_colors=7, start=.5, rot=-.5)\n",
    "palette_time"
   ]
  },
  {
   "cell_type": "code",
   "execution_count": null,
   "id": "e430aefd-5852-4470-9592-d36a601dd4c2",
   "metadata": {
    "tags": []
   },
   "outputs": [],
   "source": [
    "dfplot = res[~res['cond'].str.contains('DR')]\n",
    "dfplot = dfplot.sample(frac=1, replace=False)\n",
    "\n",
    "fig, ax = plt.subplots(1,1,figsize=(8,6))\n",
    "sns.scatterplot(data=dfplot, \n",
    "                x='pcs_all1', y='pcs_all2', hue='cond', \n",
    "                hue_order=list(palette.keys())[:7],\n",
    "                palette=palette_time, # sns.cubehelix_palette(start=.5, rot=-.5, 7), # 'rocket', # 'Set2', #palette,\n",
    "                s=10,\n",
    "                edgecolor='none',\n",
    "                rasterized=True,\n",
    "                ax=ax)\n",
    "ax.grid(False)\n",
    "sns.despine(ax=ax)\n",
    "ax.legend(bbox_to_anchor=(1,1))\n",
    "output = os.path.join(outdirfig, f'pcall12.pdf')\n",
    "powerplots.savefig_autodate(fig, output)\n",
    "plt.show()"
   ]
  },
  {
   "cell_type": "code",
   "execution_count": null,
   "id": "e3a50005-0db9-4802-9095-1ce2df1f90b2",
   "metadata": {
    "tags": []
   },
   "outputs": [],
   "source": [
    "genes_viz = ['Meis2', 'Foxp1', 'Zbtb20']\n",
    "for gn in genes_viz:\n",
    "    fig, ax = plt.subplots(1,1,figsize=(4,4))\n",
    "    sns.scatterplot(data=dfplot, \n",
    "                    x='pcs_all1', y='pcs_all2', #hue='Meis2', \n",
    "                    s=10,\n",
    "                    edgecolor='none',\n",
    "                    rasterized=True,\n",
    "                    c=dfplot[gn].values,\n",
    "                    cmap='coolwarm',\n",
    "                    vmin=-2.5, \n",
    "                    vmax=2.5,\n",
    "                    ax=ax)\n",
    "    ax.grid(False)\n",
    "    sns.despine(ax=ax)\n",
    "    ax.legend(bbox_to_anchor=(1,1))\n",
    "    plt.show()\n",
    "    break"
   ]
  },
  {
   "cell_type": "code",
   "execution_count": null,
   "id": "fea35f4b-c174-494b-9909-b12d1ef91b50",
   "metadata": {},
   "outputs": [],
   "source": [
    "genes_viz = ['scores_a', 'scores_b', 'scores_c']\n",
    "for gn in genes_viz:\n",
    "    fig, ax = plt.subplots(1,1,figsize=(4,4))\n",
    "    sns.scatterplot(data=dfplot, \n",
    "                    x='pcs_all1', y='pcs_all2', #hue='Meis2', \n",
    "                    s=10,\n",
    "                    edgecolor='none',\n",
    "                    rasterized=True,\n",
    "                    c=dfplot[gn].values,\n",
    "                    cmap='coolwarm',\n",
    "                    # vmin=-2.5, \n",
    "                    # vmax=2.5,\n",
    "                    ax=ax)\n",
    "    ax.grid(False)\n",
    "    sns.despine(ax=ax)\n",
    "    ax.legend(bbox_to_anchor=(1,1))\n",
    "    plt.show()\n",
    "    break"
   ]
  },
  {
   "cell_type": "code",
   "execution_count": null,
   "id": "8a0a75ad-2fc9-4d95-88cd-13ead0982fbe",
   "metadata": {},
   "outputs": [],
   "source": [
    "plot('pcs_all1', 'pcs_all2', aspect_equal=True)"
   ]
  },
  {
   "cell_type": "code",
   "execution_count": null,
   "id": "092f2cfa-1238-4fb1-b42d-13921e417816",
   "metadata": {
    "tags": []
   },
   "outputs": [],
   "source": [
    "plot('pcs_early1', 'pcs_early2', aspect_equal=True)\n",
    "plot('pcs_later1', 'pcs_later2', aspect_equal=True)"
   ]
  },
  {
   "cell_type": "markdown",
   "id": "4a19491c-edc1-46ea-821b-d6c5b8db178c",
   "metadata": {},
   "source": [
    "# Archetypes"
   ]
  },
  {
   "cell_type": "code",
   "execution_count": null,
   "id": "b3c5e25d-28ae-49d1-8b1e-c51840bafc8e",
   "metadata": {
    "tags": []
   },
   "outputs": [],
   "source": [
    "todo_conds = [\n",
    "    'P12DR', 'P14DR', 'P17DR', 'P21DR',\n",
    "    'P6', 'P8', 'P10', 'P12', 'P14', 'P17', 'P21', \n",
    "]\n",
    "todo_samps = [\n",
    "    'P12DRa', 'P12DRb',\n",
    "    'P14DRa', 'P14DRb',\n",
    "    'P17DRa', 'P17DRb',\n",
    "    'P21DRa', 'P21DRb',\n",
    "    'P6a', 'P6b', 'P6c', \n",
    "    'P8a', 'P8b', 'P8c', \n",
    "    'P10a', 'P10b', \n",
    "    'P12a', 'P12b', 'P12c', \n",
    "    'P14a', 'P14b',\n",
    "    'P17a', 'P17b', \n",
    "    'P21a', 'P21b', \n",
    "]"
   ]
  },
  {
   "cell_type": "code",
   "execution_count": null,
   "id": "7dc5c417-c2f7-40bd-9760-2b56fcd49a7e",
   "metadata": {
    "tags": []
   },
   "outputs": [],
   "source": [
    "ndim = 2\n",
    "noc = 3\n",
    "delta = 0.2 # 0\n",
    "\n",
    "aas = []\n",
    "\n",
    "for cond in todo_conds:\n",
    "    print(cond)\n",
    "    xp = res[res['cond']==cond][['pcs_later1', 'pcs_later2']].values # pcs_later[:,:2]\n",
    "    aa = pcha(xp.T, noc=noc, delta=delta)\n",
    "    aas.append(aa)\n",
    "    "
   ]
  },
  {
   "cell_type": "code",
   "execution_count": null,
   "id": "233fe1a9-21f5-4347-9544-43ad3a4f84a4",
   "metadata": {
    "tags": []
   },
   "outputs": [],
   "source": [
    "# plot\n",
    "n = len(todo_conds)\n",
    "fig, axs = plt.subplots(1,n,figsize=(8*n,6), sharex=True, sharey=True)\n",
    "for i, cond in enumerate(todo_conds):\n",
    "    ax = axs[i]\n",
    "    aa = aas[-1]\n",
    "    xp = res[res['cond']==cond][['pcs_later1', 'pcs_later2']].values # pcs_later[:,:2]\n",
    "    \n",
    "    ax.scatter(xp[:,0], xp[:,1], s=2) #  c=types_colorvec, s=2)\n",
    "    plot_archetype(ax, aa, fmt='-o', color='k', zorder=0)\n",
    "    ax.set_title(cond)\n",
    "\n",
    "    ax.set_xlabel('PC1')\n",
    "    ax.set_ylabel('PC2')\n",
    "    ax.set_aspect('equal')\n",
    "    sns.despine(ax=ax)\n",
    "    ax.grid(False)\n",
    "    \n",
    "plt.show()"
   ]
  },
  {
   "cell_type": "code",
   "execution_count": null,
   "id": "094d225a-209d-4653-85d5-392c06fa5115",
   "metadata": {
    "tags": []
   },
   "outputs": [],
   "source": [
    "xbins = np.linspace(-6,6,2*12+1)\n",
    "ybins = np.linspace(-5,5,2*10+1)\n",
    "\n",
    "xbins, ybins"
   ]
  },
  {
   "cell_type": "code",
   "execution_count": null,
   "id": "f7cf75a5-eb96-46a5-8a28-bec9c960addc",
   "metadata": {
    "tags": []
   },
   "outputs": [],
   "source": [
    "# fit KDE\n",
    "\n",
    "kdes = []\n",
    "kde_values = []\n",
    "n = len(todo_conds)\n",
    "for i, cond in enumerate(todo_conds):\n",
    "    xp = res[res['cond']==cond][['pcs_later1', 'pcs_later2']].values # pcs_later[:,:2]\n",
    "    \n",
    "    # Fit KDE\n",
    "    kde = gaussian_kde(xp.T)\n",
    "    kdes.append(kde)\n",
    "    kde_values.append(kde(xp.T))\n",
    "    \n"
   ]
  },
  {
   "cell_type": "code",
   "execution_count": null,
   "id": "9207c6a9-7e69-4ce3-8101-573925dce53c",
   "metadata": {
    "tags": []
   },
   "outputs": [],
   "source": [
    "# plot\n",
    "n = len(todo_conds)\n",
    "fig, axs = plt.subplots(1,n,figsize=(4*n,3), sharex=True, sharey=True)\n",
    "for i, cond in enumerate(todo_conds):\n",
    "    ax = axs[i]\n",
    "    # kde = kdes[i]\n",
    "    kde_val = kde_values[i]\n",
    "    aa = aas[-1]\n",
    "    \n",
    "    xp = res[res['cond']==cond][['pcs_later1', 'pcs_later2']].values # pcs_later[:,:2]\n",
    "    \n",
    "    # calc KDE\n",
    "    c = kde_val\n",
    "    \n",
    "    ax.scatter(xp[:,0], xp[:,1], c=c, s=10, cmap='rocket_r', rasterized=True) #  c=types_colorvec, s=2)\n",
    "    \n",
    "    plot_archetype(ax, aa, fmt='--', color='gray', zorder=2)\n",
    "    ax.scatter(aa[0,0], aa[1,0], color='C0', zorder=2)\n",
    "    ax.scatter(aa[0,1], aa[1,1], color='C1', zorder=2)\n",
    "    ax.scatter(aa[0,2], aa[1,2], color='C2', zorder=2)\n",
    "    \n",
    "    ax.set_title(cond)\n",
    "\n",
    "    ax.set_xlabel('PC1')\n",
    "    ax.set_ylabel('PC2')\n",
    "    ax.set_aspect('equal')\n",
    "    sns.despine(ax=ax)\n",
    "    ax.grid(False)\n",
    "    # break\n",
    "    \n",
    "output = os.path.join(outdirfig, f'pc12_density.pdf')\n",
    "powerplots.savefig_autodate(fig, output)\n",
    "plt.show()"
   ]
  },
  {
   "cell_type": "code",
   "execution_count": null,
   "id": "a9066960-aab7-4b24-87df-52c735a61790",
   "metadata": {},
   "outputs": [],
   "source": [
    "\n",
    "genes_viz = ['Nkain2', 'Nkain3', 'Meis2', 'Foxp1', 'Nfib', 'Rfx3', 'Sox5', 'Zbtb20', 'Tox', 'Tshz3']\n",
    "for gn in genes_viz:\n",
    "    fig = plot2('pcs_later1', 'pcs_later2', hue=gn, aspect_equal=True, s=20)\n",
    "    axs = fig.get_axes()\n",
    "    for ax in axs:\n",
    "        # plot_archetype(ax, aa, fmt='--o', color='gray', zorder=2)\n",
    "        plot_archetype(ax, aa, fmt='--', color='gray', zorder=2)\n",
    "        # ax.scatter(aa[0,0], aa[1,0], color='C0', zorder=2)\n",
    "        # ax.scatter(aa[0,1], aa[1,1], color='C1', zorder=2)\n",
    "        # ax.scatter(aa[0,2], aa[1,2], color='C2', zorder=2)\n",
    "    \n",
    "    # output = os.path.join(outdirfig, f'pc12_{gn}.pdf')\n",
    "    # powerplots.savefig_autodate(fig, output)\n",
    "    plt.show()\n",
    "    \n",
    "    # break"
   ]
  },
  {
   "cell_type": "code",
   "execution_count": null,
   "id": "436ea647-62f8-4fc0-9bbd-fac4dd89a389",
   "metadata": {},
   "outputs": [],
   "source": []
  },
  {
   "cell_type": "code",
   "execution_count": null,
   "id": "d1dd4ba3-946f-4f26-a52d-81a5e0688904",
   "metadata": {
    "tags": []
   },
   "outputs": [],
   "source": [
    "res['scores_c-a'] = res['scores_c'] - res['scores_a']"
   ]
  },
  {
   "cell_type": "code",
   "execution_count": null,
   "id": "67fadc5f-eb9d-48c0-9fe8-67b1b2e1e33d",
   "metadata": {
    "tags": []
   },
   "outputs": [],
   "source": [
    "genes_viz = ['scores_a', 'scores_b', 'scores_c', 'scores_c-a']\n",
    "for gn in genes_viz:\n",
    "    fig = plot2('pcs_later1', 'pcs_later2', hue=gn, aspect_equal=True, s=20, vmin=None, vmax=None, vminp=0, vmaxp=98)\n",
    "    axs = fig.get_axes()\n",
    "    for ax in axs:\n",
    "        # plot_archetype(ax, aa, fmt='--o', color='gray', zorder=2)\n",
    "        plot_archetype(ax, aa, fmt='--', color='gray', zorder=2)\n",
    "        # ax.scatter(aa[0,0], aa[1,0], color='C0', zorder=2)\n",
    "        # ax.scatter(aa[0,1], aa[1,1], color='C1', zorder=2)\n",
    "        # ax.scatter(aa[0,2], aa[1,2], color='C2', zorder=2)\n",
    "    \n",
    "    output = os.path.join(outdirfig, f'pc12_{gn}.pdf')\n",
    "    powerplots.savefig_autodate(fig, output)\n",
    "    plt.show()\n",
    "    "
   ]
  },
  {
   "cell_type": "code",
   "execution_count": null,
   "id": "2e09c0ed-a8e3-4e22-a047-9bd324f0c8a5",
   "metadata": {
    "tags": []
   },
   "outputs": [],
   "source": [
    "# genes_viz = ['scores_a', 'scores_b', 'scores_c', 'scores_c-a']\n",
    "# for gn in genes_viz:\n",
    "fig = plot2('scores_c-a', 'scores_b', aspect_equal=True, s=20) # , vmin=None, vmax=None, vminp=0, vmaxp=98)\n",
    "plt.show()\n",
    "    \n",
    "    # break"
   ]
  },
  {
   "cell_type": "code",
   "execution_count": null,
   "id": "60bd3cb6-a35c-4a68-a5b3-802afe83fd54",
   "metadata": {},
   "outputs": [],
   "source": []
  },
  {
   "cell_type": "code",
   "execution_count": null,
   "id": "a2a900f4-2e5e-4075-808c-6b2b576cd90c",
   "metadata": {},
   "outputs": [],
   "source": []
  },
  {
   "cell_type": "code",
   "execution_count": null,
   "id": "ed91701e-e019-42c0-bd07-9951ffca9d05",
   "metadata": {},
   "outputs": [],
   "source": []
  },
  {
   "cell_type": "markdown",
   "id": "e632aab9-f579-407d-83ae-fdb6e58ab0ca",
   "metadata": {},
   "source": [
    "# variance along A-C axis vs B-axis"
   ]
  },
  {
   "cell_type": "code",
   "execution_count": null,
   "id": "ab940c8d-89d4-4783-bbd5-6468184ea534",
   "metadata": {
    "tags": []
   },
   "outputs": [],
   "source": [
    "# define A-C (t1) and B (t2) axis\n",
    "\n",
    "t1 = aa[:,2]-aa[:,0]\n",
    "t1 = t1/np.sqrt(t1.dot(t1))\n",
    "t2 = np.array([t1[1], -t1[0]])\n",
    "\n",
    "print(np.sum(t1**2), t1.dot(t2))"
   ]
  },
  {
   "cell_type": "code",
   "execution_count": null,
   "id": "451e4a0c-ab1e-40cd-ae82-90db1d2773b3",
   "metadata": {
    "tags": []
   },
   "outputs": [],
   "source": [
    "fjg, ax = plt.subplots(figsize=(2,2))\n",
    "plot_archetype(ax, aa, fmt='--', color='gray', zorder=2)\n",
    "ax.plot([aa[0,0],aa[0,0]+t1[0]], [aa[1,0], aa[1,0]+t1[1]])\n",
    "ax.plot([aa[0,0],aa[0,0]+t2[0]], [aa[1,0], aa[1,0]+t2[1]])\n",
    "ax.set_aspect('equal')"
   ]
  },
  {
   "cell_type": "code",
   "execution_count": null,
   "id": "7bb4c624-d647-44e3-ba44-b58d0a9ef4f7",
   "metadata": {
    "tags": []
   },
   "outputs": [],
   "source": [
    "res['pcs_later_t1'] = res[['pcs_later1', 'pcs_later2']].values.dot(t1)\n",
    "res['pcs_later_t2'] = res[['pcs_later1', 'pcs_later2']].values.dot(t2)\n",
    "res['pcs_later_shuff_t1'] = res[['pcs_later_shuff1', 'pcs_later_shuff2']].values.dot(t1)\n",
    "res['pcs_later_shuff_t2'] = res[['pcs_later_shuff1', 'pcs_later_shuff2']].values.dot(t2)"
   ]
  },
  {
   "cell_type": "code",
   "execution_count": null,
   "id": "d8f93f29-2325-44af-b77e-fb27acf37a27",
   "metadata": {
    "tags": []
   },
   "outputs": [],
   "source": [
    "var_mtx = res[['pcs_later_t1', 'pcs_later_t2', \n",
    "               'pcs_later_shuff_t1', 'pcs_later_shuff_t2', \n",
    "               'cond', 'samp']].groupby(['cond']).std(numeric_only=True) \n",
    "var_mtx = np.power(var_mtx, 2).reindex(todo_conds)\n",
    "var_mtx"
   ]
  },
  {
   "cell_type": "code",
   "execution_count": null,
   "id": "d2b10d24-a0cc-422d-8236-0af892d6570c",
   "metadata": {
    "tags": []
   },
   "outputs": [],
   "source": [
    "var_mtx_rep = res[['pcs_later_t1', 'pcs_later_t2', \n",
    "                   'pcs_later_shuff_t1', 'pcs_later_shuff_t2', \n",
    "                   'cond', 'samp']].groupby(['samp']).std(numeric_only=True)\n",
    "var_mtx_rep = np.power(var_mtx_rep, 2).reindex(todo_samps)\n",
    "var_mtx_rep"
   ]
  },
  {
   "cell_type": "code",
   "execution_count": null,
   "id": "54519384-26ed-4302-b8dc-2f99bdd036f4",
   "metadata": {
    "tags": []
   },
   "outputs": [],
   "source": [
    "\n",
    "times = np.array([6,8,10,12,14,17,21])\n",
    "todo_conds_t = np.array([int(re.sub(r'[a-zA-Z]', '', a)) for a in todo_conds])\n",
    "todo_samps_t = np.array([int(re.sub(r'[a-zA-Z]', '', a)) for a in todo_samps])\n",
    "print(times)\n",
    "print(todo_conds_t)\n",
    "print(todo_samps_t)"
   ]
  },
  {
   "cell_type": "code",
   "execution_count": null,
   "id": "c842bd7d-45b0-4546-b67d-d31535f25770",
   "metadata": {
    "tags": []
   },
   "outputs": [],
   "source": [
    "scale1 = var_mtx['pcs_later_t1'].max()\n",
    "scale2 = var_mtx['pcs_later_t2'].max()\n",
    "\n",
    "\n",
    "fig, axs = plt.subplots(1,2,figsize=(2*3,1*3), sharex=True, sharey=True)\n",
    "ax = axs[0]\n",
    "ax.plot(todo_conds_t[4:], var_mtx['pcs_later_t1'].values[4:]/scale1,       color='C1')\n",
    "ax.plot(todo_conds_t[:4], var_mtx['pcs_later_t1'].values[:4]/scale1,       color='k')\n",
    "ax.plot(todo_conds_t[4:], var_mtx['pcs_later_shuff_t1'].values[4:]/scale1, color='gray', linestyle='--')\n",
    "ax.plot(todo_conds_t[:4], var_mtx['pcs_later_shuff_t1'].values[:4]/scale1, color='lightgray', linestyle='--')\n",
    "\n",
    "ax.plot(todo_samps_t[8:], var_mtx_rep['pcs_later_t1'].values[8:]/scale1,       'o', markersize=5, fillstyle='none', color='C1')\n",
    "ax.plot(todo_samps_t[:8], var_mtx_rep['pcs_later_t1'].values[:8]/scale1,       's', markersize=5, fillstyle='none', color='k')\n",
    "ax.plot(todo_samps_t[8:], var_mtx_rep['pcs_later_shuff_t1'].values[8:]/scale1, 'o', markersize=5, fillstyle='none', color='gray')\n",
    "ax.plot(todo_samps_t[:8], var_mtx_rep['pcs_later_shuff_t1'].values[:8]/scale1, 's', markersize=5, fillstyle='none', color='lightgray')\n",
    "\n",
    "sns.despine(ax=ax)\n",
    "ax.grid(False)\n",
    "ax.set_xlabel('Postnatal day (P)')\n",
    "ax.set_ylabel('norm. variance')\n",
    "ax.set_title('A-C axis')\n",
    "\n",
    "ax = axs[1]\n",
    "ax.plot(todo_conds_t[4:], var_mtx['pcs_later_t2'].values[4:]/scale2,       color='C1', label='NR')\n",
    "ax.plot(todo_conds_t[:4], var_mtx['pcs_later_t2'].values[:4]/scale2,       color='k',  label='DR')\n",
    "ax.plot(todo_conds_t[4:], var_mtx['pcs_later_shuff_t2'].values[4:]/scale2, color='gray', linestyle='--', label='shuffled NR')\n",
    "ax.plot(todo_conds_t[:4], var_mtx['pcs_later_shuff_t2'].values[:4]/scale2, color='lightgray', linestyle='--', label='shuffled DR')\n",
    "\n",
    "ax.plot(todo_samps_t[8:], var_mtx_rep['pcs_later_t2'].values[8:]/scale2,       'o', markersize=5, fillstyle='none', color='C1')\n",
    "ax.plot(todo_samps_t[:8], var_mtx_rep['pcs_later_t2'].values[:8]/scale2,       's', markersize=5, fillstyle='none', color='k')\n",
    "ax.plot(todo_samps_t[8:], var_mtx_rep['pcs_later_shuff_t2'].values[8:]/scale2, 'o', markersize=5, fillstyle='none', color='gray')\n",
    "ax.plot(todo_samps_t[:8], var_mtx_rep['pcs_later_shuff_t2'].values[:8]/scale2, 's', markersize=5, fillstyle='none', color='lightgray')\n",
    "\n",
    "sns.despine(ax=ax)\n",
    "ax.grid(False)\n",
    "ax.set_ylim(bottom=0)\n",
    "ax.set_xticks(times)\n",
    "ax.legend(bbox_to_anchor=(1,1))\n",
    "ax.set_title('B axis')\n",
    "\n",
    "output = os.path.join(outdirfig, \"ACvsB_var_vs_time.pdf\")\n",
    "powerplots.savefig_autodate(fig, output)\n",
    "plt.show()\n"
   ]
  },
  {
   "cell_type": "code",
   "execution_count": null,
   "id": "ed1f5f5d-f31e-4f7c-b0eb-3ab07f0f0348",
   "metadata": {},
   "outputs": [],
   "source": []
  }
 ],
 "metadata": {
  "kernelspec": {
   "display_name": "napari",
   "language": "python",
   "name": "napari"
  },
  "language_info": {
   "codemirror_mode": {
    "name": "ipython",
    "version": 3
   },
   "file_extension": ".py",
   "mimetype": "text/x-python",
   "name": "python",
   "nbconvert_exporter": "python",
   "pygments_lexer": "ipython3",
   "version": "3.9.16"
  }
 },
 "nbformat": 4,
 "nbformat_minor": 5
}
