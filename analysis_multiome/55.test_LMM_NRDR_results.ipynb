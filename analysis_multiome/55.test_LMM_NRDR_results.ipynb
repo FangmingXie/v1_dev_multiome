{
 "cells": [
  {
   "cell_type": "code",
   "execution_count": null,
   "id": "30b97a56-8884-4718-a56d-fc8af8e882e7",
   "metadata": {},
   "outputs": [],
   "source": [
    "import glob\n",
    "import pandas as pd\n",
    "import numpy as np\n",
    "import statsmodels.formula.api as smf\n",
    "from statsmodels.stats.multitest import multipletests\n",
    "import matplotlib.pyplot as plt\n",
    "import os\n",
    "\n",
    "import scanpy as sc\n",
    "import seaborn as sns\n",
    "\n",
    "from scroutines import basicu\n",
    "\n",
    "import warnings\n",
    "from statsmodels.tools.sm_exceptions import ConvergenceWarning\n",
    "from statsmodels.tools.sm_exceptions import ValueWarning\n",
    "from tqdm import tqdm"
   ]
  },
  {
   "cell_type": "code",
   "execution_count": null,
   "id": "ddd754bc-9794-422b-94bf-632978549592",
   "metadata": {
    "tags": []
   },
   "outputs": [],
   "source": [
    "f = '/u/home/f/f7xiesnm/project-zipursky/v1-bb/v1/data/annot/gencode.vM25.genebody.bed'\n",
    "df_annot = pd.read_csv(f, sep='\\t', header=None)\n",
    "df_annot"
   ]
  },
  {
   "cell_type": "code",
   "execution_count": null,
   "id": "5fa2b0ad-fced-4937-b7f8-032a4b49aae1",
   "metadata": {
    "tags": []
   },
   "outputs": [],
   "source": [
    "f = '/u/home/f/f7xiesnm/project-zipursky/v1-bb/v1/data/v1_multiome/DEG_l23abc_gene_list_250409.csv'\n",
    "df_annot_abc = pd.read_csv(f)\n",
    "df_annot_abc['cond'] = df_annot_abc['cond'].apply(lambda x: x.replace('NR', ''))\n",
    "df_annot_abc = df_annot_abc.groupby('gene').agg({\n",
    "    'cond': lambda x: ' '.join(x), \n",
    "    'archetype': lambda x: ''.join(np.unique(x)), \n",
    "    })\n",
    "df_annot_abc"
   ]
  },
  {
   "cell_type": "code",
   "execution_count": null,
   "id": "73c49a5f-dcec-4483-8d8b-0221ec630727",
   "metadata": {
    "tags": []
   },
   "outputs": [],
   "source": [
    "ddir = '/u/home/f/f7xiesnm/project-zipursky/v1-bb/v1/results_nrdr_lmm/'\n",
    "!ls $ddir"
   ]
  },
  {
   "cell_type": "code",
   "execution_count": null,
   "id": "7c95a3ff-514f-451d-972d-0fbd22cc6eb3",
   "metadata": {
    "tags": []
   },
   "outputs": [],
   "source": [
    "    \n",
    "filename = os.path.join(ddir, 'NRDR_DEGs_LMM_P21.csv')\n",
    "# f = os.path.join(ddir, 'P8_L23.csv')\n",
    "df = pd.read_csv(filename, index_col=0)\n",
    "df['max_cp10k'] = np.max(df.iloc[:,4:], axis=1)\n",
    "x = df['log2fc']\n",
    "y = df['qval']\n",
    "z = df['max_cp10k']\n",
    "\n",
    "x_th = np.log2(2)\n",
    "y_th = 0.05\n",
    "z_th = 0.1\n",
    "\n",
    "cond_sig = np.all([np.abs(x) > x_th, y < y_th, z > z_th], axis=0)\n",
    "\n",
    "\n",
    "print(np.sum(cond_sig))\n",
    "df_sig = df[cond_sig].copy().sort_values('qval')\n",
    "df_sig = df_sig.set_index('gene').join(df_annot_abc)\n",
    "df_sig"
   ]
  },
  {
   "cell_type": "code",
   "execution_count": null,
   "id": "01692732-424c-424a-9d47-6f0e6702e6ca",
   "metadata": {
    "tags": []
   },
   "outputs": [],
   "source": [
    "# df_sig_abc = df_sig.set_index('gene').join(df_annot_abc).dropna().sort_values('archetype')\n",
    "df_sig_abc = df_sig.sort_values('archetype').dropna()\n",
    "print(df_sig_abc.shape)\n",
    "df_sig_abc"
   ]
  },
  {
   "cell_type": "code",
   "execution_count": null,
   "id": "3cdbf8c2-0672-4703-a702-ad6d8755ef92",
   "metadata": {
    "tags": []
   },
   "outputs": [],
   "source": [
    "fig, ax = plt.subplots()\n",
    "ax.scatter(x, -np.log10(y), s=5)\n",
    "for idx, row in df[cond_sig].iterrows():\n",
    "    ax.text(row['log2fc'], -np.log10(row['qval']), row['gene'])\n",
    "plt.show()"
   ]
  },
  {
   "cell_type": "code",
   "execution_count": null,
   "id": "33049258-23db-4c0e-8e8a-773d186beca2",
   "metadata": {
    "tags": []
   },
   "outputs": [],
   "source": [
    "fig, ax = plt.subplots()\n",
    "ax.scatter(x, -np.log10(y), s=1, color='gray')\n",
    "ax.scatter(x[cond_sig], -np.log10(y)[cond_sig], s=5)\n",
    "for idx, row in df[cond_sig].iterrows():\n",
    "    if np.abs(row['log2fc']) < 4 and -np.log10(row['qval']) < 10:\n",
    "        ax.text(row['log2fc'], -np.log10(row['qval']), row['gene'])\n",
    "# ax.set_xlim([-4,4])\n",
    "ax.set_ylim([-0.1,10])\n",
    "# ax.axhline(-np.log10(y_th))\n",
    "# ax.axvline( x_th)\n",
    "# ax.axvline(-x_th)\n",
    "plt.show()"
   ]
  },
  {
   "cell_type": "code",
   "execution_count": null,
   "id": "e00c481e-c943-484f-b117-23498ffd2fd5",
   "metadata": {
    "tags": []
   },
   "outputs": [],
   "source": [
    "df.set_index('gene').loc['Scg2']"
   ]
  },
  {
   "cell_type": "code",
   "execution_count": null,
   "id": "f2795c7d-a939-4b8c-9dd5-442bdd8da4cd",
   "metadata": {
    "tags": []
   },
   "outputs": [],
   "source": [
    "df.set_index('gene').loc['Nptx2']"
   ]
  }
 ],
 "metadata": {
  "kernelspec": {
   "display_name": "Python 3 (ipykernel)",
   "language": "python",
   "name": "python3"
  },
  "language_info": {
   "codemirror_mode": {
    "name": "ipython",
    "version": 3
   },
   "file_extension": ".py",
   "mimetype": "text/x-python",
   "name": "python",
   "nbconvert_exporter": "python",
   "pygments_lexer": "ipython3",
   "version": "3.9.16"
  }
 },
 "nbformat": 4,
 "nbformat_minor": 5
}
