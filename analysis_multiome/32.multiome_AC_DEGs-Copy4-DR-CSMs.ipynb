{
 "cells": [
  {
   "cell_type": "code",
   "execution_count": null,
   "id": "bb214b6d-836a-49b8-93dd-a19f021215b7",
   "metadata": {
    "tags": []
   },
   "outputs": [],
   "source": [
    "import os\n",
    "import numpy as np\n",
    "import pandas as pd\n",
    "import scanpy as sc\n",
    "import anndata \n",
    "import seaborn as sns\n",
    "from scipy.stats import zscore\n",
    "import matplotlib.pyplot as plt\n",
    "import collections\n",
    "from natsort import natsorted\n",
    "\n",
    "from scipy import stats\n",
    "from scipy import sparse\n",
    "from sklearn.decomposition import PCA\n",
    "from umap import UMAP\n",
    "from statsmodels.stats.multitest import multipletests\n",
    "\n",
    "from matplotlib.colors import LinearSegmentedColormap\n",
    "\n",
    "from scroutines.config_plots import *\n",
    "from scroutines import powerplots # .config_plots import *\n",
    "from scroutines import pnmf\n",
    "from scroutines import basicu\n",
    "from scroutines.gene_modules import GeneModules  \n"
   ]
  },
  {
   "cell_type": "code",
   "execution_count": null,
   "id": "f45abc88-0cbc-4575-8035-9cb157c42bc2",
   "metadata": {},
   "outputs": [],
   "source": [
    "outfigdir = \"/u/home/f/f7xiesnm/project-zipursky/v1-bb/v1/figures/250409\"\n",
    "!mkdir -p $outfigdir"
   ]
  },
  {
   "cell_type": "markdown",
   "id": "ba1f61ee-ba83-4707-816d-37eb33a54b83",
   "metadata": {},
   "source": [
    "# load gene annotation and data"
   ]
  },
  {
   "cell_type": "code",
   "execution_count": null,
   "id": "e2945163-289c-48bf-9147-d5070e4deb8a",
   "metadata": {
    "tags": []
   },
   "outputs": [],
   "source": [
    "gene_modules = GeneModules()\n",
    "g, gs, ms = gene_modules.check_genes('Cdh13')\n",
    "print(\"\\t\".join(g))\n",
    "print(\"\\t\".join(gs))\n",
    "print(\"\\t\".join(ms))"
   ]
  },
  {
   "cell_type": "code",
   "execution_count": null,
   "id": "405a7ffc-7b93-49b8-a63a-9d7eda66b6d7",
   "metadata": {
    "tags": []
   },
   "outputs": [],
   "source": [
    "genes_alltime_hvgs = np.loadtxt('/u/home/f/f7xiesnm/v1_multiome/l23_alltime_hvgs_n4940.txt', dtype='str')\n",
    "genes_alltime_hvgs"
   ]
  },
  {
   "cell_type": "code",
   "execution_count": null,
   "id": "fb72ade4-5ddd-4d8d-9d66-847375e16845",
   "metadata": {},
   "outputs": [],
   "source": [
    "# use those 286 genes\n",
    "df = pd.read_csv(\"/u/home/f/f7xiesnm/project-zipursky/v1-bb/v1/data/cheng21_cell_scrna/res/L23-ABC-genes-n288-n286unq-annot_v3_july8_2024.csv\")\n",
    "genes_l23 = df['gene'].astype(str).values\n",
    "genes_l23a = df[df['P17on']=='A']['gene'].astype(str).values\n",
    "genes_l23b = df[df['P17on']=='B']['gene'].astype(str).values\n",
    "genes_l23c = df[df['P17on']=='C']['gene'].astype(str).values\n",
    "\n",
    "print(genes_l23a.shape, genes_l23b.shape, genes_l23c.shape)\n",
    "genes_grp = df['P17on'].astype(str).values\n",
    "assert len(genes_l23) == len(np.unique(genes_l23))\n",
    "\n",
    "genes_l23.shape"
   ]
  },
  {
   "cell_type": "code",
   "execution_count": null,
   "id": "d83cc9ac-93b8-4814-9c3f-90c9d2b5862d",
   "metadata": {
    "tags": []
   },
   "outputs": [],
   "source": [
    "genes_alltime_hvgs_rm_l23 = genes_alltime_hvgs[~np.isin(genes_alltime_hvgs, genes_l23)]\n",
    "genes_alltime_hvgs_rm_l23.shape"
   ]
  },
  {
   "cell_type": "code",
   "execution_count": null,
   "id": "bc4ba53f-b74e-4eca-82dd-52f9cbbdb104",
   "metadata": {
    "tags": []
   },
   "outputs": [],
   "source": [
    "scores_abc = pd.read_csv(\"/u/home/f/f7xiesnm/project-zipursky/v1-bb/v1/data/v1_multiome/scores_l23abc.csv\", \n",
    "                         index_col=0,\n",
    "                        )\n",
    "scores_abc['scores_c-a'] = scores_abc['scores_c'] - scores_abc['scores_a']\n",
    "scores_abc"
   ]
  },
  {
   "cell_type": "code",
   "execution_count": null,
   "id": "8542eec8-b8e1-4a35-9237-0d3c0043349b",
   "metadata": {},
   "outputs": [],
   "source": [
    "adata = anndata.read(\"/u/home/f/f7xiesnm/project-zipursky/v1-bb/v1/data/v1_multiome/superdupermegaRNA_hasraw_multiome_l23.h5ad\")\n",
    "adata"
   ]
  },
  {
   "cell_type": "code",
   "execution_count": null,
   "id": "345d47ef-df93-4066-b2dd-382bac604a7c",
   "metadata": {
    "tags": []
   },
   "outputs": [],
   "source": [
    "adata.X = adata.raw.X"
   ]
  },
  {
   "cell_type": "code",
   "execution_count": null,
   "id": "47c07c89-4d36-4d6d-b4e5-305180e5bd7b",
   "metadata": {
    "tags": []
   },
   "outputs": [],
   "source": [
    "adata.obs['scores_a'] = scores_abc.loc[adata.obs.index,'scores_a'].copy()\n",
    "adata.obs['scores_b'] = scores_abc.loc[adata.obs.index,'scores_b'].copy()\n",
    "adata.obs['scores_c'] = scores_abc.loc[adata.obs.index,'scores_c'].copy()\n",
    "adata.obs['scores_c-a'] = scores_abc.loc[adata.obs.index,'scores_c-a'].copy()"
   ]
  },
  {
   "cell_type": "code",
   "execution_count": null,
   "id": "c715643c-0748-414c-b477-4294cb85b5cc",
   "metadata": {
    "tags": []
   },
   "outputs": [],
   "source": [
    "sample_labels = adata.obs['Sample'].values\n",
    "time_labels = [s[:-1].replace('DR', '') for s in sample_labels]\n",
    "\n",
    "adata.obs['sample'] = sample_labels #\n",
    "adata.obs['time']   = time_labels\n",
    "\n",
    "uniq_samples = natsorted(np.unique(sample_labels))\n",
    "nr_samples = [s for s in uniq_samples if \"DR\" not in s]\n",
    "dr_samples = [s for s in uniq_samples if \"DR\" in s]\n",
    "\n",
    "uniq_conds = np.array(natsorted(np.unique(adata.obs['cond'].values)))\n",
    "print(uniq_conds)"
   ]
  },
  {
   "cell_type": "code",
   "execution_count": null,
   "id": "f4677f2d-a037-4ab6-8ed3-12a1daa1acad",
   "metadata": {
    "tags": []
   },
   "outputs": [],
   "source": [
    "nr_idx = np.array([0,1,2,4,6,8,10])\n",
    "dr_idx = np.array([3,5,7,9])\n",
    "\n",
    "nr_times = np.array([6,8,10,12,14,17,21])\n",
    "dr_times = np.array(       [12,14,17,21])"
   ]
  },
  {
   "cell_type": "code",
   "execution_count": null,
   "id": "4d9ae16c-9107-4acd-8405-fbcd84bd8e0d",
   "metadata": {
    "tags": []
   },
   "outputs": [],
   "source": [
    "# remove mitocondria genes\n",
    "adata = adata[:,~adata.var.index.str.contains(r'^mt-')]\n",
    "# remove sex genes\n",
    "adata = adata[:,~adata.var.index.str.contains(r'^Xist$')]\n",
    "\n",
    "# filter genes\n",
    "cond = np.ravel((adata.X>0).sum(axis=0)) > 10 # expressed in more than 10 cells\n",
    "adata = adata[:,cond].copy()"
   ]
  },
  {
   "cell_type": "code",
   "execution_count": null,
   "id": "d7f44744-2143-4267-a3e1-6b1125fdd368",
   "metadata": {
    "tags": []
   },
   "outputs": [],
   "source": [
    "adata"
   ]
  },
  {
   "cell_type": "code",
   "execution_count": null,
   "id": "319c7868-ac3b-4bd7-869d-89bbfc1ef11e",
   "metadata": {
    "tags": []
   },
   "outputs": [],
   "source": [
    "# output = '/u/home/f/f7xiesnm/v1_multiome/multiome_l23_allgenes.txt'\n",
    "\n",
    "# all_genes = adata.var.index.values\n",
    "# print(all_genes.shape)\n",
    "# np.savetxt(output, all_genes, fmt='%s')"
   ]
  },
  {
   "cell_type": "code",
   "execution_count": null,
   "id": "1fadd441-11aa-49ab-abcc-d8d5e9cf47ea",
   "metadata": {
    "tags": []
   },
   "outputs": [],
   "source": [
    "# counts\n",
    "x = adata.X\n",
    "cov = np.ravel(np.sum(x, axis=1))\n",
    "genes = adata.var.index.values\n",
    "\n",
    "# CP10k\n",
    "xn = (sparse.diags(1/cov).dot(x))*1e4\n",
    "\n",
    "# log2(CP10k+1)\n",
    "xln = xn.copy()\n",
    "xln.data = np.log2(xln.data+1)\n",
    "\n",
    "adata.layers[    'norm'] = np.array(xn.todense())\n",
    "adata.layers[ 'lognorm'] = np.array(xln.todense())"
   ]
  },
  {
   "cell_type": "code",
   "execution_count": null,
   "id": "ca1a2495-1866-4ff5-9ade-6d6dd08fa64e",
   "metadata": {
    "tags": []
   },
   "outputs": [],
   "source": [
    "genes_idx_alltime_hvgs_rm_l23 = basicu.get_index_from_array(adata.var.index.values, genes_alltime_hvgs_rm_l23)\n",
    "genes_idx_alltime_hvgs_rm_l23"
   ]
  },
  {
   "cell_type": "code",
   "execution_count": null,
   "id": "09d57655-c050-4842-a623-8fd8cac63496",
   "metadata": {
    "tags": []
   },
   "outputs": [],
   "source": [
    "np.random.rand(0)\n",
    "\n",
    "num_archetypal_cells = 100\n",
    "offset = 1 # CP10k + offset (CPM + 100*offset)\n",
    "SHUFFLE = False #False\n",
    "\n",
    "n_pseudo_genes = 35\n",
    "\n",
    "n_cond = len(uniq_conds)\n",
    "n_gene = adata.shape[1] \n",
    "\n",
    "qs_tensor   = np.zeros((n_cond,3,n_gene))  # 3 represents 3 pairwise comparisons (ca, ba, bc)\n",
    "l2fc_tensor = np.zeros((n_cond,3,n_gene))\n",
    "\n",
    "\n",
    "for cond_code, cond in enumerate(uniq_conds):\n",
    "    # get sub\n",
    "    adatasub = adata[adata.obs['cond']==cond]\n",
    "    n_cells = adatasub.shape[0]\n",
    "    \n",
    "    # get A vs C \n",
    "    ranks_ac = adatasub.obs['scores_c-a'].rank()\n",
    "    ranks_b  = adatasub.obs['scores_b'].rank()\n",
    "    \n",
    "    precond_a = ranks_ac <= num_archetypal_cells\n",
    "    precond_c = ranks_ac > adatasub.shape[0] - num_archetypal_cells\n",
    "    precond_b = ranks_b  > adatasub.shape[0] - num_archetypal_cells\n",
    "    \n",
    "    cond_a = np.all([ precond_a, ~precond_b, ~precond_c], axis=0)\n",
    "    cond_b = np.all([~precond_a,  precond_b, ~precond_c], axis=0)\n",
    "    cond_c = np.all([~precond_a, ~precond_b,  precond_c], axis=0)\n",
    "    \n",
    "    # SHUFFLE\n",
    "    if SHUFFLE:\n",
    "        adatasub = adatasub[np.random.choice(n_cells, size=n_cells, replace=False)]\n",
    "    \n",
    "    # print(precond_a.sum(), \n",
    "    #       precond_b.sum(), \n",
    "    #       precond_c.sum(),)\n",
    "    print(cond, cond_a.sum(), cond_b.sum(), cond_c.sum())\n",
    "    \n",
    "    adatasub_a = adatasub[cond_a]\n",
    "    adatasub_b = adatasub[cond_b]\n",
    "    adatasub_c = adatasub[cond_c]\n",
    "    \n",
    "    # DEGs\n",
    "    mat_a = adatasub_a.layers['norm'][...]\n",
    "    mat_b = adatasub_b.layers['norm'][...]\n",
    "    mat_c = adatasub_c.layers['norm'][...]\n",
    "    \n",
    "    logmat_a = adatasub_a.layers['lognorm'][...]\n",
    "    logmat_b = adatasub_b.layers['lognorm'][...]\n",
    "    logmat_c = adatasub_c.layers['lognorm'][...]\n",
    "    \n",
    "    ts_ca, ps_ca = stats.ttest_ind(logmat_c, logmat_a)\n",
    "    ts_ba, ps_ba = stats.ttest_ind(logmat_b, logmat_a)\n",
    "    ts_bc, ps_bc = stats.ttest_ind(logmat_b, logmat_c)\n",
    "    \n",
    "    _, qs_ca, _, _ = multipletests(np.nan_to_num(ps_ca, nan=1).reshape(-1,), method='fdr_bh') # why nan in ps -- not expressed\n",
    "    _, qs_ba, _, _ = multipletests(np.nan_to_num(ps_ba, nan=1).reshape(-1,), method='fdr_bh') # why nan in ps -- not expressed\n",
    "    _, qs_bc, _, _ = multipletests(np.nan_to_num(ps_bc, nan=1).reshape(-1,), method='fdr_bh') # why nan in ps -- not expressed\n",
    "    \n",
    "    l2fc_ca = np.log2(np.mean(mat_c, axis=0)+offset) - np.log2(np.mean(mat_a, axis=0)+offset) # log2FC (CP10k as raw counts)\n",
    "    l2fc_ba = np.log2(np.mean(mat_b, axis=0)+offset) - np.log2(np.mean(mat_a, axis=0)+offset) # log2FC (CP10k as raw counts)\n",
    "    l2fc_bc = np.log2(np.mean(mat_b, axis=0)+offset) - np.log2(np.mean(mat_c, axis=0)+offset) # log2FC (CP10k as raw counts)\n",
    "    \n",
    "    qs_a   = np.minimum(qs_ca, qs_ba) # the better of the two\n",
    "    qs_c   = np.minimum(qs_ca, qs_bc) # the better of the two\n",
    "    qs_b   = np.minimum(qs_ba, qs_bc) # the better of the two\n",
    "\n",
    "    l2fc_a = np.max([-l2fc_ca, -l2fc_ba], axis=0) # mean fold change\n",
    "    l2fc_c = np.max([ l2fc_ca, -l2fc_bc], axis=0) # mean fold change\n",
    "    l2fc_b = np.max([ l2fc_ba,  l2fc_bc], axis=0) # mean fold change\n",
    "\n",
    "    cond_sig_a = np.all([-l2fc_ca > 0, -l2fc_ba > 0, l2fc_a > 1, qs_a < 0.05], axis=0)\n",
    "    cond_sig_c = np.all([ l2fc_ca > 0, -l2fc_bc > 0, l2fc_c > 1, qs_c < 0.05], axis=0)\n",
    "    cond_sig_b = np.all([ l2fc_ba > 0,  l2fc_bc > 0, l2fc_b > 1, qs_b < 0.05], axis=0)\n",
    "    \n",
    "    # save this\n",
    "    l2fc_tensor[cond_code, 0] = l2fc_ca\n",
    "    l2fc_tensor[cond_code, 1] = l2fc_ba\n",
    "    l2fc_tensor[cond_code, 2] = l2fc_bc\n",
    "    \n",
    "    qs_tensor[cond_code, 0] = qs_ca\n",
    "    qs_tensor[cond_code, 1] = qs_ba\n",
    "    qs_tensor[cond_code, 2] = qs_bc\n",
    "    \n",
    "    # [0,1] scaled scores\n",
    "    mat = adatasub.layers['lognorm'][...]\n",
    "    mins = np.min(mat, axis=0)\n",
    "    maxs = np.max(mat, axis=0)\n",
    "    nmat = (mat - mins)/(maxs-mins+1e-10)\n",
    "    \n",
    "    # print(cond, cond_sig_a.sum(), cond_sig_c.sum(), cond_sig_b.sum()) "
   ]
  },
  {
   "cell_type": "markdown",
   "id": "e72bfc99-ef62-40a6-91f2-72959a316701",
   "metadata": {
    "tags": []
   },
   "source": [
    "# output, check results and stats"
   ]
  },
  {
   "cell_type": "code",
   "execution_count": null,
   "id": "e6dd2dc4-71c5-43ad-8ae9-e45f5988b537",
   "metadata": {},
   "outputs": [],
   "source": [
    "# %%time\n",
    "# fout1 = '/u/home/f/f7xiesnm/project-zipursky/v1-bb/v1/data/v1_multiome/DEG_l23abc_qs_250409.npy'\n",
    "# fout2 = '/u/home/f/f7xiesnm/project-zipursky/v1-bb/v1/data/v1_multiome/DEG_l23abc_l2fc_250409.npy'\n",
    "# fout3 = '/u/home/f/f7xiesnm/project-zipursky/v1-bb/v1/data/v1_multiome/DEG_l23abc_gene_list_250409.csv'\n",
    "\n",
    "# np.save(fout1, qs_tensor)\n",
    "# np.save(fout2, l2fc_tensor)"
   ]
  },
  {
   "cell_type": "code",
   "execution_count": null,
   "id": "68521b0d-a21a-4cd2-a830-d1f5a4173743",
   "metadata": {
    "tags": []
   },
   "outputs": [],
   "source": [
    "# qs_tensor = np.load(fout1)\n",
    "# l2fc_tensor = np.load(fout2)\n",
    "\n",
    "l2fc_th = np.log2(2)\n",
    "l2fc_th_s = np.log2(1.2)\n",
    "alpha_th = 0.05"
   ]
  },
  {
   "cell_type": "code",
   "execution_count": null,
   "id": "fc1eeebe-7bce-4362-bbf7-a586bc4066e8",
   "metadata": {
    "tags": []
   },
   "outputs": [],
   "source": [
    "qs_ca   = qs_tensor[:,0,:]\n",
    "qs_ba   = qs_tensor[:,1,:]\n",
    "qs_bc   = qs_tensor[:,2,:]\n",
    "\n",
    "l2fc_ca = l2fc_tensor[:,0,:]\n",
    "l2fc_ba = l2fc_tensor[:,1,:]\n",
    "l2fc_bc = l2fc_tensor[:,2,:]"
   ]
  },
  {
   "cell_type": "code",
   "execution_count": null,
   "id": "81c8bc22-1f49-4145-8e97-689396759a4d",
   "metadata": {
    "tags": []
   },
   "outputs": [],
   "source": [
    "qs_a   = np.minimum(qs_ca, qs_ba) # the better of the two\n",
    "qs_c   = np.minimum(qs_ca, qs_bc) # the better of the two\n",
    "qs_b   = np.minimum(qs_ba, qs_bc) # the better of the two\n",
    "\n",
    "l2fc_a = np.max([-l2fc_ca, -l2fc_ba], axis=0) # mean fold change\n",
    "l2fc_c = np.max([ l2fc_ca, -l2fc_bc], axis=0) # mean fold change\n",
    "l2fc_b = np.max([ l2fc_ba,  l2fc_bc], axis=0) # mean fold change\n",
    "\n",
    "\n",
    "l2fc_as = np.min([-l2fc_ca, -l2fc_ba], axis=0) # mean fold change\n",
    "l2fc_cs = np.min([ l2fc_ca, -l2fc_bc], axis=0) # mean fold change\n",
    "l2fc_bs = np.min([ l2fc_ba,  l2fc_bc], axis=0) # mean fold change\n",
    "\n",
    "\n",
    "cond_sig_a = np.all([-l2fc_ca > 0, -l2fc_ba > 0, l2fc_a > l2fc_th, qs_a < alpha_th], axis=0)\n",
    "cond_sig_c = np.all([ l2fc_ca > 0, -l2fc_bc > 0, l2fc_c > l2fc_th, qs_c < alpha_th], axis=0)\n",
    "# cond_sig_a = np.all([-l2fc_ca > 0, -l2fc_ba > 0, l2fc_a > l2fc_th, qs_a < alpha_th, l2fc_as > l2fc_th_s], axis=0)\n",
    "# cond_sig_c = np.all([ l2fc_ca > 0, -l2fc_bc > 0, l2fc_c > l2fc_th, qs_c < alpha_th, l2fc_cs > l2fc_th_s], axis=0)\n",
    "cond_sig_b = np.all([ l2fc_ba > 0,  l2fc_bc > 0, l2fc_b > l2fc_th, qs_b < alpha_th, l2fc_bs > l2fc_th_s], axis=0)\n",
    "\n",
    "\n",
    "instances, counts_a = np.unique(cond_sig_a.sum(axis=0), return_counts=True)\n",
    "instances, counts_c = np.unique(cond_sig_c.sum(axis=0), return_counts=True)\n",
    "instances, counts_b = np.unique(cond_sig_b.sum(axis=0), return_counts=True)\n",
    "\n",
    "print('num A genes for each cond:\\t', cond_sig_a.sum(axis=1), np.any(cond_sig_a, axis=0).sum())\n",
    "print('num C genes for each cond:\\t', cond_sig_c.sum(axis=1), np.any(cond_sig_c, axis=0).sum())\n",
    "print('num B genes for each cond:\\t', cond_sig_b.sum(axis=1), np.any(cond_sig_b, axis=0).sum())\n",
    "\n",
    "print('num A genes in num conds:\\t',  counts_a[1:])\n",
    "print('num C genes in num conds:\\t',  counts_c[1:])\n",
    "print('num B genes in num conds:\\t',  counts_b[1:])"
   ]
  },
  {
   "cell_type": "code",
   "execution_count": null,
   "id": "2214c360-0c38-4bc9-8631-6bd8c9dbd91c",
   "metadata": {
    "tags": []
   },
   "outputs": [],
   "source": [
    "df_res_all = []\n",
    "\n",
    "for label, cond_sig in zip(['A', 'C', 'B'], \n",
    "                           [cond_sig_a, cond_sig_c, cond_sig_b]):\n",
    "    \n",
    "    cond_idx, gene_idx = np.nonzero(cond_sig.astype(int))\n",
    "    \n",
    "    df_res = pd.DataFrame()\n",
    "    df_res['cond'] = uniq_conds[cond_idx]\n",
    "    df_res['gene'] = genes[gene_idx]\n",
    "    df_res['archetype'] = label\n",
    "    df_res_all.append(df_res)\n",
    "    \n",
    "df_res_all = pd.concat(df_res_all)\n",
    "df_res_all\n",
    "    "
   ]
  },
  {
   "cell_type": "code",
   "execution_count": null,
   "id": "03ea3303-291d-4163-8f2f-fe27b2fbe9c5",
   "metadata": {
    "tags": []
   },
   "outputs": [],
   "source": [
    "df_res_all.groupby(['cond', 'archetype']).size().unstack()"
   ]
  },
  {
   "cell_type": "code",
   "execution_count": null,
   "id": "8581e316-dfd1-4940-b8f5-0f4d22faae28",
   "metadata": {},
   "outputs": [],
   "source": []
  },
  {
   "cell_type": "code",
   "execution_count": null,
   "id": "7b7c9c9b-29d8-432b-8e84-eddb2bd3efd6",
   "metadata": {},
   "outputs": [],
   "source": []
  },
  {
   "cell_type": "code",
   "execution_count": null,
   "id": "f6e1619b-9d3f-4a20-b03f-d7f79013fc47",
   "metadata": {},
   "outputs": [],
   "source": []
  },
  {
   "cell_type": "code",
   "execution_count": null,
   "id": "f3fb1856-ec08-4845-810c-99a996baad0c",
   "metadata": {},
   "outputs": [],
   "source": [
    "df_res_all.groupby('gene').sum()"
   ]
  },
  {
   "cell_type": "code",
   "execution_count": null,
   "id": "ce04254c-9137-409b-bff7-e2b5912123b5",
   "metadata": {},
   "outputs": [],
   "source": [
    "# df_res_all.to_csv(fout3, header=True, index=False)"
   ]
  },
  {
   "cell_type": "markdown",
   "id": "b50d16c6-c867-4c24-95f2-a96005c04dcb",
   "metadata": {},
   "source": [
    "# further check"
   ]
  },
  {
   "cell_type": "code",
   "execution_count": null,
   "id": "e849ad65-3232-4ae4-a6eb-0b6a608df459",
   "metadata": {
    "tags": []
   },
   "outputs": [],
   "source": [
    "a_any = np.sort(adata.var[np.any(cond_sig_a, axis=0)].index.values)\n",
    "a_all = np.sort(adata.var[np.all(cond_sig_a, axis=0)].index.values)\n",
    "\n",
    "c_any = np.sort(adata.var[np.any(cond_sig_c, axis=0)].index.values)\n",
    "c_all = np.sort(adata.var[np.all(cond_sig_c, axis=0)].index.values)\n",
    "ac_overlap = np.sort(adata.var[np.logical_and(np.any(cond_sig_a, axis=0), np.any(cond_sig_c, axis=0))].index.values)\n",
    "\n",
    "b_any = np.sort(adata.var[np.any(cond_sig_b, axis=0)].index.values)\n",
    "b_all = np.sort(adata.var[np.all(cond_sig_b, axis=0)].index.values)\n",
    "\n",
    "print('a any', a_any.shape)\n",
    "print('a all', a_all.shape)\n",
    "\n",
    "print('c any', c_any.shape)\n",
    "print('c all', c_all.shape)\n",
    "print('ac overlap', ac_overlap.shape)\n",
    "\n",
    "print('b any', b_any.shape)\n",
    "print('b all', b_all.shape)"
   ]
  },
  {
   "cell_type": "code",
   "execution_count": null,
   "id": "ac1f411d-7463-4b75-bf4a-dd4ae4185490",
   "metadata": {
    "tags": []
   },
   "outputs": [],
   "source": [
    "a_all_annots, a_all_styled, a_all_annots_styled = gene_modules.check_genes(a_all)\n",
    "c_all_annots, c_all_styled, c_all_annots_styled = gene_modules.check_genes(c_all)\n",
    "b_all_annots, b_all_styled, b_all_annots_styled = gene_modules.check_genes(b_all)\n",
    "\n",
    "ac_overlap_annots, ac_overlap_styled, ac_overlap_annots_styled = gene_modules.check_genes(ac_overlap)\n",
    "\n",
    "print(\"\\t\".join(a_all_annots_styled)) # _styled))\n",
    "print(\"---\"*10) # _styled))\n",
    "print(\"\\t\".join(c_all_annots_styled)) # _styled))\n",
    "print(\"---\"*10) # _styled))\n",
    "print(\"\\t\".join(b_all_annots_styled)) # _styled))\n",
    "print(\"---\"*10) # _styled))\n",
    "print(\"\\t\".join(ac_overlap_annots_styled)) # _styled))"
   ]
  },
  {
   "cell_type": "code",
   "execution_count": null,
   "id": "b9ba3313-adb1-4c5d-a7d9-566100b89699",
   "metadata": {
    "tags": []
   },
   "outputs": [],
   "source": [
    "nums_a = cond_sig_a.sum(axis=1)\n",
    "nums_c = cond_sig_c.sum(axis=1)\n",
    "nums_b = cond_sig_b.sum(axis=1)\n",
    "\n",
    "fig, axs = plt.subplots(1,2,figsize=(4*2,4))\n",
    "ax = axs[0]\n",
    "ax.plot(nr_times, nums_a[nr_idx], '-o' , fillstyle='none', label='A NR', color='C0')\n",
    "ax.plot(dr_times, nums_a[dr_idx], '--s', fillstyle='none', label='A DR', color='C0')\n",
    "ax.plot(nr_times, nums_c[nr_idx], '-o' , fillstyle='none', label='C NR', color='C2')\n",
    "ax.plot(dr_times, nums_c[dr_idx], '--s', fillstyle='none', label='C DR', color='C2')\n",
    "ax.set_xticks(nr_times)\n",
    "ax.grid(False, axis='x')\n",
    "ax.set_ylim(ymin=0) # , ymax=120)\n",
    "ax.legend()\n",
    "ax.set_ylabel('num. of gene')\n",
    "ax.set_xlabel('time (P)')\n",
    "sns.despine(ax=ax)\n",
    "\n",
    "ax = axs[1]\n",
    "ax.plot(nr_times, nums_b[nr_idx], '-o' , fillstyle='none', label='B NR', color='C1')\n",
    "ax.plot(dr_times, nums_b[dr_idx], '--s', fillstyle='none', label='B DR', color='C1')\n",
    "ax.set_xticks(nr_times)\n",
    "ax.grid(False, axis='x')\n",
    "ax.set_ylim(ymin=0) #, ymax=80)\n",
    "ax.legend()\n",
    "sns.despine(ax=ax)\n",
    "\n",
    "\n",
    "output = os.path.join(outfigdir, 'num_degs_abc_1.pdf')\n",
    "powerplots.savefig_autodate(fig, output)\n",
    "plt.show()"
   ]
  },
  {
   "cell_type": "code",
   "execution_count": null,
   "id": "990c8e32-8089-4e27-833e-b9b8d649d5c2",
   "metadata": {
    "tags": []
   },
   "outputs": [],
   "source": [
    "nums_a = cond_sig_a.sum(axis=1)\n",
    "nums_b = cond_sig_b.sum(axis=1)\n",
    "nums_c = cond_sig_c.sum(axis=1)\n",
    "\n",
    "fig, axs = plt.subplots(1,3,figsize=(3*3,4))\n",
    "ax = axs[0]\n",
    "ax.plot(nr_times, nums_a[nr_idx], '-o' , fillstyle='none', label='A', color='C0')\n",
    "ax.set_xticks([6,10,14,17,21])\n",
    "ax.grid(False, axis='x')\n",
    "ax.set_ylim(ymin=0, ymax=110)\n",
    "# ax.legend()\n",
    "ax.set_ylabel('num. of gene')\n",
    "ax.set_xlabel('time (P)')\n",
    "ax.set_title('A genes')\n",
    "sns.despine(ax=ax)\n",
    "\n",
    "ax = axs[1]\n",
    "ax.plot(nr_times, nums_c[nr_idx], '-o' , fillstyle='none', label='C', color='C2')\n",
    "ax.set_xticks([6,10,14,17,21])\n",
    "ax.grid(False, axis='x')\n",
    "ax.set_ylim(ymin=0, ymax=110)\n",
    "ax.set_title('C genes')\n",
    "# ax.legend()\n",
    "sns.despine(ax=ax)\n",
    "\n",
    "ax = axs[2]\n",
    "ax.plot(nr_times, nums_b[nr_idx], '-o' , fillstyle='none', label='B', color='C1')\n",
    "ax.set_xticks([6,10,14,17,21])\n",
    "ax.grid(False, axis='x')\n",
    "ax.set_ylim(ymin=0, ymax=70)\n",
    "# ax.legend()\n",
    "sns.despine(ax=ax)\n",
    "ax.set_title('B genes')\n",
    "fig.tight_layout()\n",
    "output = os.path.join(outfigdir, 'num_degs_abc_2.pdf')\n",
    "powerplots.savefig_autodate(fig, output)\n",
    "plt.show()"
   ]
  },
  {
   "cell_type": "code",
   "execution_count": null,
   "id": "c591692c-42bc-4d04-aa2f-a7dcfd095f21",
   "metadata": {},
   "outputs": [],
   "source": [
    "num_uniq_a = np.sum(np.any(cond_sig_a, axis=0))\n",
    "num_uniq_b = np.sum(np.any(cond_sig_b, axis=0))\n",
    "num_uniq_c = np.sum(np.any(cond_sig_c, axis=0))"
   ]
  },
  {
   "cell_type": "markdown",
   "id": "265e2f71-85ae-4e94-a92a-57feddcf4af4",
   "metadata": {
    "tags": []
   },
   "source": [
    "# check effect size "
   ]
  },
  {
   "cell_type": "code",
   "execution_count": null,
   "id": "2b282aab-030c-4369-b719-dc84716a0cc5",
   "metadata": {
    "tags": []
   },
   "outputs": [],
   "source": [
    "cond_sig_a_any = np.any(cond_sig_a, axis=0)\n",
    "cond_sig_b_any = np.any(cond_sig_b, axis=0)\n",
    "cond_sig_c_any = np.any(cond_sig_c, axis=0)"
   ]
  },
  {
   "cell_type": "code",
   "execution_count": null,
   "id": "09a073e4-0140-414a-b28f-e99d6fd1424f",
   "metadata": {
    "tags": []
   },
   "outputs": [],
   "source": [
    "# adata.obs['sample'].unique()\n",
    "import re\n",
    "\n",
    "todo_conds = [\n",
    "    'P12DR', 'P14DR', 'P17DR', 'P21DR',\n",
    "    'P6', 'P8', 'P10', 'P12', 'P14', 'P17', 'P21', \n",
    "]\n",
    "todo_samps = [\n",
    "    'P12DRa', 'P12DRb',\n",
    "    'P14DRa', 'P14DRb',\n",
    "    'P17DRa', 'P17DRb',\n",
    "    'P21DRa', 'P21DRb',\n",
    "    'P6a', 'P6b', 'P6c', \n",
    "    'P8a', 'P8b', 'P8c', \n",
    "    'P10a', 'P10b', \n",
    "    'P12a', 'P12b', 'P12c', \n",
    "    'P14a', 'P14b',\n",
    "    'P17a', 'P17b', \n",
    "    'P21a', 'P21b', \n",
    "]\n",
    "todo_conds_t = np.array([int(re.sub(r'[a-zA-Z]', '', a)) for a in todo_conds])\n",
    "todo_samps_t = np.array([int(re.sub(r'[a-zA-Z]', '', a)) for a in todo_samps])\n",
    "print(todo_conds_t)\n",
    "print(todo_samps_t)\n",
    "\n",
    "def mean_over_samples(mmat_res_samp):\n",
    "    \"\"\"25 samples to 11 conditions\n",
    "    \"\"\"\n",
    "    assert mmat_res_samp.shape[0] == 25\n",
    "    \n",
    "    mmat_res_samp_mean = np.zeros(mmat_res_samp.shape)[:11]\n",
    "    mmat_res_samp_mean[0] = np.mean(mmat_res_samp[ :2], axis=0)\n",
    "    mmat_res_samp_mean[1] = np.mean(mmat_res_samp[2:4], axis=0)\n",
    "    mmat_res_samp_mean[2] = np.mean(mmat_res_samp[4:6], axis=0)\n",
    "    mmat_res_samp_mean[3] = np.mean(mmat_res_samp[6:8], axis=0)\n",
    "\n",
    "    mmat_res_samp_mean[4] = np.mean(mmat_res_samp[8:11], axis=0)\n",
    "    mmat_res_samp_mean[5] = np.mean(mmat_res_samp[11:14], axis=0)\n",
    "    mmat_res_samp_mean[6] = np.mean(mmat_res_samp[14:16], axis=0)\n",
    "    mmat_res_samp_mean[7] = np.mean(mmat_res_samp[16:19], axis=0)\n",
    "    mmat_res_samp_mean[8] = np.mean(mmat_res_samp[19:21], axis=0)\n",
    "    mmat_res_samp_mean[9] = np.mean(mmat_res_samp[21:23], axis=0)\n",
    "    mmat_res_samp_mean[10] = np.mean(mmat_res_samp[23:  ], axis=0)\n",
    "    \n",
    "    return mmat_res_samp_mean\n",
    "\n",
    "def transform_bigredmat(bigmat):\n",
    "    \"\"\"bigmat or redmat\n",
    "    to fmat and zmat\n",
    "    \"\"\"\n",
    "    fmat = bigmat.reshape(-1, bigmat.shape[-1]).T\n",
    "    fmat = np.hstack([fmat[:,4*5:], fmat[:,:4*5]]) # CHANGED COLUMN ORDER!!\n",
    "    zmat = zscore(fmat, axis=1)\n",
    "    \n",
    "    return fmat, zmat"
   ]
  },
  {
   "cell_type": "code",
   "execution_count": null,
   "id": "2362bf30-6a13-4219-9113-05df6cb3836f",
   "metadata": {
    "tags": []
   },
   "outputs": [],
   "source": []
  },
  {
   "cell_type": "code",
   "execution_count": null,
   "id": "d4059c8d-5dba-4970-8360-e9bfa32dad62",
   "metadata": {
    "tags": []
   },
   "outputs": [],
   "source": [
    "%%time\n",
    "\n",
    "mat = adata.layers['norm'][...]\n",
    "gexp_l23baseline = np.log2(np.mean(mat, axis=0)*1e2+offset) # CP10k -> CPM\n",
    "\n",
    "n_type = 5\n",
    "frac_archetypal_cells_viz = 0.2\n",
    "bigmat_nfd = np.zeros((len(todo_samps), n_type, mat.shape[1]))\n",
    "bigmat_abc = np.zeros((len(todo_samps),      3, mat.shape[1]))\n",
    "\n",
    "for i, samp in enumerate(todo_samps):\n",
    "    print(samp)\n",
    "    \n",
    "    # get sub\n",
    "    adatasub = adata[adata.obs['sample']==samp]\n",
    "    n_cells = adatasub.shape[0]\n",
    "    \n",
    "    # get A vs C \n",
    "    ranks_ac = adatasub.obs['scores_c-a'].rank()\n",
    "    ranks_b  = adatasub.obs['scores_b'].rank()\n",
    "    \n",
    "    # per type\n",
    "    cells_type_nfd = pd.qcut(ranks_ac, n_type, labels=False)\n",
    "    for j in range(n_type):\n",
    "        mat_j = adatasub[cells_type_nfd==j].layers['norm'][...]\n",
    "        mmat_j = np.log2(np.mean(mat_j, axis=0)*1e2+offset)-gexp_l23baseline # CP10k -> CPM\n",
    "        bigmat_nfd[i,j] = mmat_j\n",
    "    \n",
    "    # A, B, C\n",
    "    num_archetypal_cells_viz = int(n_cells*frac_archetypal_cells_viz)\n",
    "    \n",
    "    precond_a = ranks_ac <= num_archetypal_cells_viz\n",
    "    precond_c = ranks_ac > adatasub.shape[0] - num_archetypal_cells_viz\n",
    "    precond_b = ranks_b  > adatasub.shape[0] - num_archetypal_cells_viz\n",
    "    \n",
    "    cond_a = np.all([ precond_a, ~precond_b, ~precond_c], axis=0)\n",
    "    cond_b = np.all([~precond_a,  precond_b, ~precond_c], axis=0)\n",
    "    cond_c = np.all([~precond_a, ~precond_b,  precond_c], axis=0)\n",
    "    \n",
    "    for j, cond in enumerate([cond_a, cond_b, cond_c]):\n",
    "        mat_j = adatasub[cond].layers['norm'][...]\n",
    "        mmat_j = np.log2(np.mean(mat_j, axis=0)*1e2+offset)-gexp_l23baseline # CP10k -> CPM\n",
    "        bigmat_abc[i,j] = mmat_j\n"
   ]
  },
  {
   "cell_type": "code",
   "execution_count": null,
   "id": "8fa573b6-71c3-4057-9407-91fab7a36191",
   "metadata": {},
   "outputs": [],
   "source": [
    "print(bigmat_abc.shape) # cond, type, gene"
   ]
  },
  {
   "cell_type": "code",
   "execution_count": null,
   "id": "55877de7-5cdf-482d-9b6d-a8992e92cdab",
   "metadata": {
    "tags": []
   },
   "outputs": [],
   "source": [
    "bigmat_abc_ig_list = [\n",
    "    np.mean(bigmat_abc[:,:,cond_sig_a_any], axis=-1),\n",
    "    np.mean(bigmat_abc[:,:,cond_sig_b_any], axis=-1),\n",
    "    np.mean(bigmat_abc[:,:,cond_sig_c_any], axis=-1),\n",
    "]\n",
    "\n",
    "redmat_abc_ig_list = [mean_over_samples(x) for x in bigmat_abc_ig_list]"
   ]
  },
  {
   "cell_type": "code",
   "execution_count": null,
   "id": "3b408860-202a-4931-8a5d-2ca2fe29fd39",
   "metadata": {
    "tags": []
   },
   "outputs": [],
   "source": [
    "fig, axs = plt.subplots(1, 3, figsize=(3*3,1*3), sharex=True, sharey=True)\n",
    "for i in range(3):\n",
    "    ax = axs[i]\n",
    "    bigmat_mean_ig = bigmat_abc_ig_list[i]\n",
    "    redmat_mean_ig = redmat_abc_ig_list[i]\n",
    "    \n",
    "    ax.plot(todo_samps_t[8:], bigmat_mean_ig[8:,0], 'o', markersize=5, fillstyle='none', color='C0')\n",
    "    ax.plot(todo_samps_t[8:], bigmat_mean_ig[8:,1], 'o', markersize=5, fillstyle='none', color='C1')\n",
    "    ax.plot(todo_samps_t[8:], bigmat_mean_ig[8:,2], 'o', markersize=5, fillstyle='none', color='C2')\n",
    "    \n",
    "    ax.plot(todo_samps_t[:8], bigmat_mean_ig[:8,0], 's', markersize=5, fillstyle='none', color='C0', alpha=0.5)\n",
    "    ax.plot(todo_samps_t[:8], bigmat_mean_ig[:8,1], 's', markersize=5, fillstyle='none', color='C1', alpha=0.5)\n",
    "    ax.plot(todo_samps_t[:8], bigmat_mean_ig[:8,2], 's', markersize=5, fillstyle='none', color='C2', alpha=0.5)\n",
    "    \n",
    "    ax.plot(todo_conds_t[4:], redmat_mean_ig[4:,0], '-', color='C0')\n",
    "    ax.plot(todo_conds_t[4:], redmat_mean_ig[4:,1], '-', color='C1')\n",
    "    ax.plot(todo_conds_t[4:], redmat_mean_ig[4:,2], '-', color='C2')\n",
    "    \n",
    "    ax.plot(todo_conds_t[:4], redmat_mean_ig[:4,0], '-', color='C0', alpha=0.5)\n",
    "    ax.plot(todo_conds_t[:4], redmat_mean_ig[:4,1], '-', color='C1', alpha=0.5)\n",
    "    ax.plot(todo_conds_t[:4], redmat_mean_ig[:4,2], '-', color='C2', alpha=0.5)\n",
    "\n",
    "    ax.grid(False)\n",
    "    ax.set_xticks([6,10,14,17,21])\n",
    "    sns.despine(ax=ax)\n",
    "\n",
    "axs[0].set_xlabel('Postnatal day (P)')\n",
    "axs[0].set_ylabel('Gene expr.\\nlog2(archetype / baseline)')\n",
    "axs[0].set_title(f'A genes\\nn={num_uniq_a:,}')\n",
    "axs[1].set_title(f'B genes\\nn={num_uniq_b:,}')\n",
    "axs[2].set_title(f'C genes\\nn={num_uniq_c:,}')\n",
    "output = os.path.join(outfigdir, 'abc_degs_signals_over_time_withDR.pdf') \n",
    "powerplots.savefig_autodate(fig, output)\n",
    "plt.show()"
   ]
  },
  {
   "cell_type": "code",
   "execution_count": null,
   "id": "be03b254-6d74-4aae-8850-c40e6de411b1",
   "metadata": {
    "tags": []
   },
   "outputs": [],
   "source": [
    "redmat_nfd = mean_over_samples(bigmat_nfd)\n",
    "fmat_nfd, zmat_nfd = transform_bigredmat(redmat_nfd)\n",
    "print(redmat_nfd.shape) # cond, type, gene\n",
    "print(fmat_nfd.shape)   # gene, cond*type\n",
    "print(zmat_nfd.shape)   # gene, cond*type\n",
    "\n",
    "fmat_nfd_ag = fmat_nfd[cond_sig_a_any]\n",
    "fmat_nfd_bg = fmat_nfd[cond_sig_b_any]\n",
    "fmat_nfd_cg = fmat_nfd[cond_sig_c_any]\n",
    "fmat_nfd_abcg = fmat_nfd[cond_sig_abc_any]\n",
    "\n",
    "zmat_nfd_ag = zmat_nfd[cond_sig_a_any]\n",
    "zmat_nfd_bg = zmat_nfd[cond_sig_b_any]\n",
    "zmat_nfd_cg = zmat_nfd[cond_sig_c_any]\n",
    "zmat_nfd_abcg = zmat_nfd[cond_sig_abc_any]\n",
    "\n",
    "print(fmat_nfd_ag.shape, zmat_nfd_ag.shape, zmat_nfd_abcg.shape)"
   ]
  },
  {
   "cell_type": "code",
   "execution_count": null,
   "id": "e90b90c9-c0cc-40e4-a957-8d63e7d0cc9a",
   "metadata": {
    "tags": []
   },
   "outputs": [],
   "source": [
    "redmat_nfd_ag = redmat_nfd[:,:,cond_sig_a_any] #.shape\n",
    "redmat_nfd_bg = redmat_nfd[:,:,cond_sig_b_any] #.shape\n",
    "redmat_nfd_cg = redmat_nfd[:,:,cond_sig_c_any] #.shape\n",
    "redmat_nfd_abcg = redmat_nfd[:,:,cond_sig_abc_any] #.shape\n",
    "print(redmat_nfd_ag.shape)"
   ]
  },
  {
   "cell_type": "code",
   "execution_count": null,
   "id": "cd3b88ab-9ad3-4d13-8255-00e03369cdd6",
   "metadata": {
    "tags": []
   },
   "outputs": [],
   "source": [
    "from sklearn.cluster import KMeans\n",
    "def mean_shape(vec):\n",
    "    \"\"\"\n",
    "    \"\"\"\n",
    "    loc = np.arange(len(vec))\n",
    "    \n",
    "    # vec_n = (vec-np.min(vec))/(np.max(vec)-np.min(vec))\n",
    "    vec_n = np.clip(vec, 0, None)\n",
    "    vec_n = vec_n/np.sum(vec_n)\n",
    "    \n",
    "    ctrd = loc.dot(vec_n)\n",
    "    return ctrd\n",
    "\n",
    "def organize_zmat(zmat, fmat, redmat, title='', n_geneset_clsts=5, genes=None):\n",
    "    \"\"\"NOTE THAT THE ORDER OF COND is DIFFERRENT BETWEEN (zmat, fmat) - DR first) and (redmat) - NR first)\n",
    "    \"\"\"\n",
    "    method = KMeans(n_clusters=n_geneset_clsts, n_init=10, random_state=0)\n",
    "    geneset_clst = method.fit_predict(zmat)\n",
    "\n",
    "    # average over genes per geneset and cell clusters - leave genesets and conditions there\n",
    "    time_sketches = []\n",
    "    for i in range(n_geneset_clsts):\n",
    "        time_sketch = np.mean(redmat[:,:,geneset_clst==i], axis=2) # mean over genes\n",
    "        time_sketch = np.max(time_sketch, axis=1) # max over cell types\n",
    "        time_sketches.append(time_sketch)\n",
    "    time_sketches = np.vstack(time_sketches)[:,4:] # n_geneset_clsts, n_cond (select NR only)\n",
    "\n",
    "    # clst_order = [2,1,3,4,0]\n",
    "    # clst_order = np.argsort(np.argmax(ctrds, axis=1)) \n",
    "    clst_order = np.argsort([mean_shape(time_sketch) for time_sketch in time_sketches]) \n",
    "    geneset_clst_renamed = pd.Series({clst: i for i, clst in enumerate(clst_order)}).reindex(geneset_clst).values\n",
    "    geneset_order = np.argsort(geneset_clst_renamed)\n",
    "    \n",
    "    # reorder \n",
    "    genes_ordered = genes[geneset_order]\n",
    "    clsts_ordered = geneset_clst_renamed[geneset_order]\n",
    "    zmat_ordered = zmat[geneset_order] \n",
    "    fmat_ordered = fmat[geneset_order] \n",
    "    \n",
    "    # gene list per group\n",
    "    geneset_list = []\n",
    "    for i in range(n_geneset_clsts):\n",
    "        geneset_list.append(genes_ordered[clsts_ordered==i])\n",
    "    \n",
    "    res = {\n",
    "        'title': title,\n",
    "        'order': geneset_order,\n",
    "        'zmat':  zmat_ordered,\n",
    "        'fmat':  fmat_ordered,\n",
    "        'genes': genes_ordered,\n",
    "        'clst':  clsts_ordered,\n",
    "        'time_sketches':  time_sketches[clst_order],\n",
    "        'geneset_list': geneset_list,\n",
    "    }\n",
    "    return res"
   ]
  },
  {
   "cell_type": "code",
   "execution_count": null,
   "id": "b23b5cc4-ac35-40e3-b683-c0f11524b9ca",
   "metadata": {
    "tags": []
   },
   "outputs": [],
   "source": [
    "# ctrds = organize_zmat(zmat_nfd_ag, fmat_nfd_ag, redmat_nfd_ag, title='A genes', genes=genes[cond_sig_a_any])\n",
    "\n",
    "res_a = organize_zmat(zmat_nfd_ag, fmat_nfd_ag, redmat_nfd_ag, title='A genes', genes=genes[cond_sig_a_any])\n",
    "res_b = organize_zmat(zmat_nfd_bg, fmat_nfd_bg, redmat_nfd_bg, title='B genes', genes=genes[cond_sig_b_any])\n",
    "res_c = organize_zmat(zmat_nfd_cg, fmat_nfd_cg, redmat_nfd_cg, title='C genes', genes=genes[cond_sig_c_any])\n",
    "\n",
    "res_abc = organize_zmat(zmat_nfd_abcg, fmat_nfd_abcg, redmat_nfd_abcg, title='ABC genes', genes=genes[cond_sig_abc_any])"
   ]
  },
  {
   "cell_type": "markdown",
   "id": "ed42ba3a-794e-492d-a73d-b586c8c2e1df",
   "metadata": {},
   "source": [
    "# Profile these modules"
   ]
  },
  {
   "cell_type": "markdown",
   "id": "6a8773c6-2890-44d5-bfe9-652d08066f83",
   "metadata": {},
   "source": [
    "# Quantify time vs DR effect\n",
    "- late are DR sensitive\n",
    "- (P21NR-P10NR) vs (P21NR vs DR)\n",
    "- refine this as the average time effect vs average DR effect"
   ]
  },
  {
   "cell_type": "code",
   "execution_count": null,
   "id": "e596f55a-7f4e-4b22-88ca-7b71dc303128",
   "metadata": {},
   "outputs": [],
   "source": [
    "times = np.array([6,8,10,12,14,17,21])\n",
    "dr_times = np.array([12,14,17,21])"
   ]
  },
  {
   "cell_type": "code",
   "execution_count": null,
   "id": "e9842e64-0c58-4518-8dd6-79f65c9fca6b",
   "metadata": {
    "tags": []
   },
   "outputs": [],
   "source": [
    "from matplotlib.colors import LinearSegmentedColormap\n",
    "\n",
    "colors_a = [(0.0, 'black'), (1.0, 'C0')]      \n",
    "colors_b = [(0.0, 'black'), (1.0, 'C1')]      \n",
    "colors_c = [(0.0, 'black'), (1.0, 'C2')]      \n",
    "\n",
    "# Create a custom colormap using LinearSegmentedColormap\n",
    "cmap_a = LinearSegmentedColormap.from_list('cmap_a', colors_a)\n",
    "cmap_b = LinearSegmentedColormap.from_list('cmap_b', colors_b)\n",
    "cmap_c = LinearSegmentedColormap.from_list('cmap_c', colors_c)\n",
    "\n",
    "colors_l23 = [\n",
    "    np.array(cmap_a(1.0)),\n",
    "    0.7*np.array(cmap_a(1.0))+0.3*np.array(cmap_b(1.0)),\n",
    "    np.array(cmap_b(1.0)),\n",
    "    0.7*np.array(cmap_b(1.0))+0.3*np.array(cmap_c(1.0)),\n",
    "    np.array(cmap_c(1.0)),\n",
    "]"
   ]
  },
  {
   "cell_type": "code",
   "execution_count": null,
   "id": "19f39b06-b77c-478c-b522-55568fae5872",
   "metadata": {
    "tags": []
   },
   "outputs": [],
   "source": [
    "from sklearn.metrics import r2_score"
   ]
  },
  {
   "cell_type": "code",
   "execution_count": null,
   "id": "58af3ac9-a69a-42f1-9663-7c7862e14129",
   "metadata": {
    "tags": []
   },
   "outputs": [],
   "source": [
    "def calc_del(red_y):\n",
    "    del_t = np.mean(red_y[7+3]-red_y[3+3], axis=0) # mean over ABC\n",
    "    del_v21 = np.mean(-red_y[7+3]+red_y[3], axis=0) # mean over ABC\n",
    "    del_v17 = np.mean(-red_y[7+2]+red_y[2], axis=0)\n",
    "    del_v14 = np.mean(-red_y[7+1]+red_y[1], axis=0)\n",
    "    del_v12 = np.mean(-red_y[7+0]+red_y[0], axis=0)\n",
    "\n",
    "    del_varr = np.array([del_v21, del_v17, del_v14, del_v12])\n",
    "    del_v = np.mean(del_varr, axis=0) # mean over time\n",
    "    del_v1721 = np.mean(del_varr[:2], axis=0) # mean over time\n",
    "    \n",
    "    return del_t, del_v, del_v21\n",
    "\n",
    "def calc_del_typespec(red_y):\n",
    "    del_t   = red_y[7+3]-red_y[3+3] # (n_type, n_gene)\n",
    "    del_v21 = -red_y[7+3]+red_y[3]  #\n",
    "    del_v17 = -red_y[7+2]+red_y[2]\n",
    "    del_v14 = -red_y[7+1]+red_y[1]\n",
    "    del_v12 = -red_y[7+0]+red_y[0]\n",
    "\n",
    "    del_varr = np.array([del_v21, del_v17, del_v14, del_v12])\n",
    "    del_v = np.mean(del_varr, axis=0) # mean over time\n",
    "    del_v1721 = np.mean(del_varr[:2], axis=0) # mean over time\n",
    "    \n",
    "    return del_t, del_v, del_v21"
   ]
  },
  {
   "cell_type": "code",
   "execution_count": null,
   "id": "ffeedf43-56a1-4628-946b-9905b27d43a1",
   "metadata": {
    "tags": []
   },
   "outputs": [],
   "source": [
    "cond_sig_abc_any = np.any([\n",
    "    cond_sig_a_any, \n",
    "    cond_sig_b_any, \n",
    "    cond_sig_c_any, \n",
    "], axis=0)\n",
    "print(cond_sig_abc_any.sum())\n",
    "\n",
    "genes_abc = genes[cond_sig_abc_any]\n",
    "big_y = bigmat_abc[:,:,cond_sig_abc_any]# .shape\n",
    "red_y = mean_over_samples(big_y)\n",
    "del_t_abc, del_v_abc, del_v21_abc = calc_del(red_y)\n",
    "del_t_abc_typespec, del_v_abc_typespec, del_v21_abc_typespec = calc_del_typespec(red_y)\n",
    "\n",
    "big_y_a = bigmat_abc[:,:,cond_sig_a_any]# .shape\n",
    "big_y_b = bigmat_abc[:,:,cond_sig_b_any]# .shape\n",
    "big_y_c = bigmat_abc[:,:,cond_sig_c_any]# .shape\n",
    "\n",
    "red_y_a = mean_over_samples(big_y_a)\n",
    "red_y_b = mean_over_samples(big_y_b)\n",
    "red_y_c = mean_over_samples(big_y_c)\n",
    "\n",
    "del_t_a, del_v_a, del_v21_a = calc_del(red_y_a)\n",
    "del_t_b, del_v_b, del_v21_b = calc_del(red_y_b)\n",
    "del_t_c, del_v_c, del_v21_c = calc_del(red_y_c)\n",
    "\n",
    "# del_t_a_typespec, del_v_a_typespec = calc_del_typespec(red_y_a)\n",
    "# del_t_b_typespec, del_v_b_typespec = calc_del_typespec(red_y_b)\n",
    "# del_t_c_typespec, del_v_c_typespec = calc_del_typespec(red_y_c)"
   ]
  },
  {
   "cell_type": "code",
   "execution_count": null,
   "id": "0dd26d7e-d8e4-4b81-a412-a04a45a005e8",
   "metadata": {
    "tags": []
   },
   "outputs": [],
   "source": [
    "genes_a = genes[cond_sig_a_any]\n",
    "genes_b = genes[cond_sig_b_any]\n",
    "genes_c = genes[cond_sig_c_any]"
   ]
  },
  {
   "cell_type": "code",
   "execution_count": null,
   "id": "898111aa-fb3d-4ad8-bb75-548694168e32",
   "metadata": {
    "tags": []
   },
   "outputs": [],
   "source": [
    "_x = del_t_abc\n",
    "_y = del_v_abc\n",
    "\n",
    "_xa = del_t_a\n",
    "_xb = del_t_b\n",
    "_xc = del_t_c\n",
    "\n",
    "_ya = del_v_a\n",
    "_yb = del_v_b\n",
    "_yc = del_v_c\n",
    "\n",
    "n = len(_x)\n",
    "\n",
    "r, _ = stats.pearsonr(_x, _y)\n",
    "slope, intercept = np.polyfit(_x, _y, 1)\n",
    "xbase = np.linspace(-4,4,5) \n",
    "ybase = slope*xbase + intercept\n",
    "r2 = r2_score(_y, _x*slope+intercept)\n",
    "assert r**2 - r2 < 1e-3\n",
    "\n",
    "fig, ax = plt.subplots(figsize=(5,4))\n",
    "ax.scatter(_x, _y, s=5, color='k')#s=10, facecolors='none', edgecolors='C0', linewidths=1)\n",
    "    \n",
    "ax.plot(xbase, ybase, '--r', linewidth=1) #, zorder=0)\n",
    "ax.axvline(0, color='gray',  linewidth=1, zorder=0)\n",
    "ax.axhline(0, color='gray',  linewidth=1, zorder=0)\n",
    "ax.grid(False)\n",
    "sns.despine(ax=ax)\n",
    "ax.set_ylabel('log2(DR/NR)')\n",
    "ax.set_xlabel('log2(P21/P10)')\n",
    "ax.set_title(f'y={slope:.2f}x{intercept:.2f}; r={r:.2f}; n={n}', fontsize=15)\n",
    "\n",
    "# output = os.path.join(outfigdir, f'time_vs_dr_linear.pdf') \n",
    "# powerplots.savefig_autodate(fig, output)\n",
    "plt.show()\n",
    "\n",
    "fig, axs = plt.subplots(1,3,figsize=(5*3,4), sharex=True, sharey=True)\n",
    "for j in range(3):\n",
    "    _xj = [_xa, _xb, _xc][j]\n",
    "    _yj = [_ya, _yb, _yc][j]\n",
    "    _gj = [genes_a, genes_b, genes_c][j]\n",
    "    ax = axs[j]\n",
    "    ax.scatter(_x, _y, s=5, color='lightgray')\n",
    "    ax.scatter(_xj, _yj, s=5, color=f'C{j}')\n",
    "    \n",
    "    idx = np.argsort(np.abs(_yj))[::-1][:5]\n",
    "    for idx_i in idx: \n",
    "        xt = _xj[idx_i]\n",
    "        yt = _yj[idx_i]\n",
    "        tt = _gj[idx_i]\n",
    "        ax.text(xt, yt+0.01, tt, fontsize=8, va='bottom', ha='center',)\n",
    "\n",
    "    ax.plot(xbase, ybase, '--k', linewidth=1) #, zorder=1)\n",
    "    ax.axvline(0, color='gray',  linewidth=1, zorder=0)\n",
    "    ax.axhline(0, color='gray',  linewidth=1, zorder=0)\n",
    "    ax.grid(False)\n",
    "    sns.despine(ax=ax)\n",
    "    ax.set_ylabel('log2(DR/NR)')\n",
    "    ax.set_xlabel('log2(P21/P10)')\n",
    "    ax.set_title(f'n = {len(_gj)}', fontsize=15)\n",
    "\n",
    "# output = os.path.join(outfigdir, f'time_vs_dr_linear.pdf') \n",
    "# powerplots.savefig_autodate(fig, output)\n",
    "plt.show()"
   ]
  },
  {
   "cell_type": "code",
   "execution_count": null,
   "id": "407be53b-4807-43e3-a471-32c730d190bd",
   "metadata": {
    "tags": []
   },
   "outputs": [],
   "source": [
    "csm_annots = [\n",
    "    'igsf',    \n",
    "    'cad',     \n",
    "    'fbrn',    \n",
    "    'eph',     \n",
    "    'sema',    \n",
    "    'tene',    \n",
    "    'astn',    \n",
    "    'cntnap',  \n",
    "    'nrxn',    \n",
    "    'axon',    \n",
    "    'wiring',\n",
    "]"
   ]
  },
  {
   "cell_type": "code",
   "execution_count": null,
   "id": "abc9da1e-31ca-45c0-bd94-c9b5cdcaa552",
   "metadata": {
    "tags": []
   },
   "outputs": [],
   "source": [
    "gene_annots_abc = gene_modules.check_genes(genes_abc)[0]\n",
    "cond_csm_abc = np.array([_g in csm_annots for _g in gene_annots_abc])\n",
    "print(genes_abc[cond_csm_abc], np.sum(cond_csm_abc))\n",
    "\n",
    "gene_annots_a = gene_modules.check_genes(genes_a)[0]\n",
    "cond_csm_a = np.array([_g in csm_annots for _g in gene_annots_a])\n",
    "print(genes_a[cond_csm_a], np.sum(cond_csm_a))\n",
    "\n",
    "gene_annots_b = gene_modules.check_genes(genes_b)[0]\n",
    "cond_csm_b = np.array([_g in csm_annots for _g in gene_annots_b])\n",
    "print(genes_b[cond_csm_b], np.sum(cond_csm_b))\n",
    "\n",
    "gene_annots_c = gene_modules.check_genes(genes_c)[0]\n",
    "cond_csm_c = np.array([_g in csm_annots for _g in gene_annots_c])\n",
    "print(genes_c[cond_csm_c], np.sum(cond_csm_c))"
   ]
  },
  {
   "cell_type": "code",
   "execution_count": null,
   "id": "4efb7f5d-29f2-4f77-9619-0a173d16d009",
   "metadata": {
    "tags": []
   },
   "outputs": [],
   "source": [
    "# combine all of them and show the changes are more in B an C\n",
    "n_abc_csm = np.sum(cond_csm_abc)\n",
    "genes_abc_csm = genes_abc[cond_csm_abc]\n",
    "del_v21_abc_csm = del_v21_abc[cond_csm_abc]\n",
    "del_v21_abc_typespec_csm = del_v21_abc_typespec[:,cond_csm_abc]\n",
    "\n",
    "support = np.arange(n_abc_csm)\n",
    "fig, ax = plt.subplots(1,1,figsize=(1*4,1*15), sharey=True)\n",
    "idx = np.argsort(del_v21_abc_csm)[::-1]\n",
    "\n",
    "for i, isort in enumerate(idx):\n",
    "    vals = del_v21_abc_typespec_csm[:,isort]\n",
    "    # val_max = vals[np.argmax(np.abs(vals))]\n",
    "    # ax.plot([0,val_max], [i,i], '-k')\n",
    "    val_min = vals[np.argmin(vals)]\n",
    "    val_max = vals[np.argmax(vals)]\n",
    "    ax.plot([val_min,val_max], [i,i], '-k', zorder=1)\n",
    "\n",
    "ax.scatter(del_v21_abc_typespec_csm[0,idx], support, color='C0', s=20)#facecolor='none') \n",
    "ax.scatter(del_v21_abc_typespec_csm[1,idx], support, color='C1', s=20) #facecolor='none') \n",
    "ax.scatter(del_v21_abc_typespec_csm[2,idx], support, color='C2', s=20) #facecolor='none') \n",
    "    \n",
    "ax.set_yticks(support)\n",
    "ax.set_yticklabels(genes_abc_csm[idx], rotation=0, fontsize=10)\n",
    "ax.set_ylim([-1, n_abc_csm])\n",
    "# ax.set_xlim([-1,1])\n",
    "ax.axvline(0, color='k', linestyle='-', zorder=1, linewidth=1)\n",
    "sns.despine(ax=ax)\n",
    "ax.set_ylabel(f'Archetype-enriched CSMs (n={n_abc_csm})')\n",
    "plt.show()"
   ]
  },
  {
   "cell_type": "code",
   "execution_count": null,
   "id": "f91de297-59bd-4022-a923-3c992a7f9d18",
   "metadata": {
    "tags": []
   },
   "outputs": [],
   "source": [
    "mat = np.abs(del_v21_abc_typespec_csm).T\n",
    "print(mat.shape)\n",
    "_, p_ab = stats.wilcoxon(mat[:,0], mat[:,1])\n",
    "_, p_ac = stats.wilcoxon(mat[:,0], mat[:,2])\n",
    "_, p_bc = stats.wilcoxon(mat[:,1], mat[:,2])\n",
    "print(p_ab, p_ac, p_bc)\n",
    "\n",
    "fig, ax = plt.subplots(figsize=(3,4))\n",
    "sns.violinplot(mat, color='white', cut=0, ax=ax)\n",
    "sns.stripplot(mat, ax=ax)\n",
    "sns.despine(ax=ax)\n",
    "ax.set_xticklabels(['A cells', 'B cells', 'C cells'])\n",
    "ax.set_ylabel('|log2(DR/NR)|')\n",
    "ax.set_title('archetypal cell surface molecules')\n",
    "plt.show()\n"
   ]
  },
  {
   "cell_type": "markdown",
   "id": "491690ee-aecc-457f-a542-c95d865003b0",
   "metadata": {},
   "source": [
    "# vision-dependent CSMs - examples"
   ]
  },
  {
   "cell_type": "code",
   "execution_count": null,
   "id": "1f004cee-d8a2-42f8-9dd0-28ccce2570f2",
   "metadata": {
    "tags": []
   },
   "outputs": [],
   "source": [
    "def plot_genes(query, query_idx):\n",
    "    n = len(query)\n",
    "    fig, axs = plt.subplots(1, n, figsize=(n*3,1*4), sharex=True) # , sharey=True)\n",
    "    for i in range(n):\n",
    "        ax = axs[i]\n",
    "        gn = query[i]\n",
    "        gidx = query_idx[i]\n",
    "\n",
    "        big_y = bigmat_abc[:,:,gidx]\n",
    "        red_y = mean_over_samples(big_y) \n",
    "\n",
    "        ax.plot(todo_samps_t[8:], big_y[8:,0], 'o', markersize=5, fillstyle='none', color='C0')\n",
    "        ax.plot(todo_samps_t[8:], big_y[8:,1], 'o', markersize=5, fillstyle='none', color='C1')\n",
    "        ax.plot(todo_samps_t[8:], big_y[8:,2], 'o', markersize=5, fillstyle='none', color='C2')\n",
    "\n",
    "        ax.plot(todo_conds_t[4:], red_y[4:,0], '-', color='C0')\n",
    "        ax.plot(todo_conds_t[4:], red_y[4:,1], '-', color='C1')\n",
    "        ax.plot(todo_conds_t[4:], red_y[4:,2], '-', color='C2')\n",
    "\n",
    "        # DR\n",
    "        plot_offset = 12\n",
    "        ax.axvspan(12-2+1            , 21+1            , color='orange', alpha=0.1, linewidth=0, zorder=0)\n",
    "        ax.axvspan(12-2+1+plot_offset, 21+1+plot_offset, color='lightgray', alpha=0.3, linewidth=0, zorder=0)\n",
    "\n",
    "        ax.plot(todo_samps_t[:8]+plot_offset, big_y[:8,0], 's', markersize=5, fillstyle='none', color='C0')\n",
    "        ax.plot(todo_samps_t[:8]+plot_offset, big_y[:8,1], 's', markersize=5, fillstyle='none', color='C1')\n",
    "        ax.plot(todo_samps_t[:8]+plot_offset, big_y[:8,2], 's', markersize=5, fillstyle='none', color='C2')\n",
    "\n",
    "        ax.plot(todo_conds_t[:4]+plot_offset, red_y[:4,0], '--', color='C0', alpha=1)\n",
    "        ax.plot(todo_conds_t[:4]+plot_offset, red_y[:4,1], '--', color='C1', alpha=1)\n",
    "        ax.plot(todo_conds_t[:4]+plot_offset, red_y[:4,2], '--', color='C2', alpha=1)\n",
    "\n",
    "        ax.grid(False, axis='x')\n",
    "        ax.set_xticks([6, 12, 21, \n",
    "                          12+plot_offset, 21+plot_offset])\n",
    "        ax.set_xticklabels([6, 12, 21, \n",
    "                               12, 21])\n",
    "        sns.despine(ax=ax)\n",
    "        ax.set_title(gn)\n",
    "\n",
    "    axs[0].set_xlabel('Postnatal day (P)')\n",
    "    axs[0].set_ylabel('Gene expr.\\nlog2(archetype / baseline)')\n",
    "    fig.tight_layout()\n",
    "\n",
    "    # output = os.path.join(outfigdir, f'gene_groups_abc_v4_{suptitle}_DR2.pdf') \n",
    "    # powerplots.savefig_autodate(fig, output)\n",
    "    plt.show()\n",
    "    \n",
    "def plot_genes_nr(query, query_idx, output=None):\n",
    "    n = len(query)\n",
    "    fig, axs = plt.subplots(1, n, figsize=(n*3,1*4), sharex=True) # , sharey=True)\n",
    "    for i in range(n):\n",
    "        ax = axs[i]\n",
    "        gn = query[i]\n",
    "        gidx = query_idx[i]\n",
    "\n",
    "        big_y = bigmat_abc[:,:,gidx]\n",
    "        red_y = mean_over_samples(big_y) \n",
    "\n",
    "        ax.plot(todo_samps_t[8:], big_y[8:,0], 'o', markersize=5, fillstyle='none', color='C0')\n",
    "        ax.plot(todo_samps_t[8:], big_y[8:,1], 'o', markersize=5, fillstyle='none', color='C1')\n",
    "        ax.plot(todo_samps_t[8:], big_y[8:,2], 'o', markersize=5, fillstyle='none', color='C2')\n",
    "\n",
    "        ax.plot(todo_conds_t[4:], red_y[4:,0], '-', color='C0')\n",
    "        ax.plot(todo_conds_t[4:], red_y[4:,1], '-', color='C1')\n",
    "        ax.plot(todo_conds_t[4:], red_y[4:,2], '-', color='C2')\n",
    "\n",
    "\n",
    "        ax.grid(False, axis='x')\n",
    "        ax.set_xticks([6, 10, 14, 21])\n",
    "        sns.despine(ax=ax)\n",
    "        ax.set_title(gn)\n",
    "\n",
    "    axs[0].set_xlabel('Postnatal day (P)')\n",
    "    axs[0].set_ylabel('Gene expr.\\nlog2(archetype / baseline)')\n",
    "    fig.tight_layout()\n",
    "\n",
    "    if output is not None:\n",
    "        powerplots.savefig_autodate(fig, output)\n",
    "    plt.show()"
   ]
  },
  {
   "cell_type": "code",
   "execution_count": null,
   "id": "87087207-7d5f-4aa5-aa75-2f1bc12d7177",
   "metadata": {
    "tags": []
   },
   "outputs": [],
   "source": [
    "roboslit_genes = [g for g in genes_abc if g.startswith('Robo')]+[g for g in genes_abc if g.startswith('Slit')]\n",
    "query = roboslit_genes\n",
    "query_idx = basicu.get_index_from_array(genes, query)\n",
    "plot_genes_nr(query, query_idx)\n"
   ]
  },
  {
   "cell_type": "code",
   "execution_count": null,
   "id": "5836fcf9-9b1a-4594-8feb-faf796a3b21b",
   "metadata": {
    "tags": []
   },
   "outputs": [],
   "source": [
    "query = ['Cdh13', 'Sema6a', 'Igsf9b', 'Megf11', 'Cdh4', 'Cdh7', 'Cntnap4', 'Cdh20', ]\n",
    "query_idx = basicu.get_index_from_array(genes, query)\n",
    "plot_genes(query, query_idx)"
   ]
  },
  {
   "cell_type": "code",
   "execution_count": null,
   "id": "f60abfd6-dd45-4b5f-9565-e34de31942de",
   "metadata": {
    "tags": []
   },
   "outputs": [],
   "source": [
    "query = ['Amph', 'Dtna', 'Plcl1', 'Bdnf', 'Nptx2', 'Scg2', ]\n",
    "query_idx = basicu.get_index_from_array(genes, query)\n",
    "plot_genes(query, query_idx)"
   ]
  },
  {
   "cell_type": "code",
   "execution_count": null,
   "id": "e19a024a-f968-4d24-9b20-46514a261a78",
   "metadata": {
    "tags": []
   },
   "outputs": [],
   "source": [
    "_x = del_t_abc\n",
    "_y = del_v_abc\n",
    "_g = genes[cond_sig_abc_any]\n",
    "query_idx = basicu.get_index_from_array(genes[cond_sig_abc_any], query)\n",
    "\n",
    "n = len(_x)\n",
    "\n",
    "r, _ = stats.pearsonr(_x, _y)\n",
    "\n",
    "fig, ax = plt.subplots(figsize=(4,4))\n",
    "ax.scatter(_x, _y, s=5, color='lightgray')#s=10, facecolors='none', edgecolors='C0', linewidths=1)\n",
    "    \n",
    "ax.plot(xbase, ybase, '--k', linewidth=1) #, zorder=0)\n",
    "ax.axvline(0, color='gray',  linewidth=1, zorder=0)\n",
    "ax.axhline(0, color='gray',  linewidth=1, zorder=0)\n",
    "ax.grid(False)\n",
    "sns.despine(ax=ax)\n",
    "ax.set_ylabel('log2(DR/NR)')\n",
    "ax.set_xlabel('log2(P21/P10)')\n",
    "ax.set_title(f'r={r:.2f}; n={n}', fontsize=15)\n",
    "\n",
    "# idx = np.argsort(np.abs(_yj))[::-1][:10]\n",
    "ax.scatter(_x[query_idx], \n",
    "           _y[query_idx], s=5, color='C1')#s=10, facecolors='none', edgecolors='C0', linewidths=1)\n",
    "for idx_i in query_idx: \n",
    "    xt = _x[idx_i]\n",
    "    yt = _y[idx_i]\n",
    "    tt = _g[idx_i]\n",
    "    ax.text(xt+0.1, yt, tt, fontsize=12, va='bottom',) # ha='center',)\n",
    "        \n",
    "# output = os.path.join(outfigdir, f'time_vs_dr_linear.pdf') \n",
    "# powerplots.savefig_autodate(fig, output)\n",
    "plt.show()\n",
    "\n",
    "    \n",
    "\n"
   ]
  },
  {
   "cell_type": "code",
   "execution_count": null,
   "id": "9edd6e6f-131a-4b23-b5d9-d58717a73540",
   "metadata": {},
   "outputs": [],
   "source": []
  },
  {
   "cell_type": "code",
   "execution_count": null,
   "id": "76fbdbe1-10f9-4c3f-a4dd-ee4c7f8ac510",
   "metadata": {},
   "outputs": [],
   "source": []
  },
  {
   "cell_type": "code",
   "execution_count": null,
   "id": "460b7f37-8df9-4401-97d0-d84e973ed0be",
   "metadata": {},
   "outputs": [],
   "source": []
  },
  {
   "cell_type": "code",
   "execution_count": null,
   "id": "0ce1df0f-8488-490f-a9c5-17fc47137f9e",
   "metadata": {},
   "outputs": [],
   "source": []
  },
  {
   "cell_type": "code",
   "execution_count": null,
   "id": "a2d6c5f1-36a9-4030-b375-f4b5be31f742",
   "metadata": {
    "tags": []
   },
   "outputs": [],
   "source": [
    "fig, axs = plt.subplots(3,1,figsize=(6,4*3))\n",
    "for ax_idx, res_this in enumerate([res_a, res_c, res_b]):\n",
    "    ax = axs[ax_idx]\n",
    "    \n",
    "    order = res_this['order']\n",
    "    title = res_this['title']\n",
    "    zmat  = res_this['zmat']\n",
    "    clsts = res_this['clst']\n",
    "    genes_this = res_this['genes']\n",
    "    \n",
    "    gene_annots_this = gene_modules.check_genes(genes_this)[0]\n",
    "    cond_csm_this = np.array([_g in csm_annots for _g in gene_annots_this])\n",
    "    zmat = zmat[cond_csm_this]\n",
    "    clsts = clsts[cond_csm_this]\n",
    "    genes_this = genes_this[cond_csm_this] #res_this['genes']\n",
    "\n",
    "    sns.heatmap(zmat[:,:7*5], cmap='coolwarm', cbar_kws=dict(shrink=0.5), \n",
    "                xticklabels=False,\n",
    "                vmax=3, vmin=-3,\n",
    "                rasterized=True,\n",
    "                ax=ax)\n",
    "    ax.set_yticks(0.5+np.arange(len(zmat)))\n",
    "    ax.set_yticklabels(genes_this, fontsize=4, rotation=0)\n",
    "    \n",
    "    ax.hlines(np.cumsum(np.unique(clsts, return_counts=True)[1]), 0, 55, color='white', linewidth=1)\n",
    "    ax.vlines(np.arange(0,35,5), 0, len(zmat), color='white', linewidth=1)\n",
    "    ax.vlines(7*5, 0, len(zmat), color='black', linewidth=1)\n",
    "\n",
    "    ax.grid(False)\n",
    "    \n",
    "ax = axs[0]\n",
    "ax.set_xticks(0.5+np.arange(n_type))\n",
    "ax.set_xticklabels(['A', '<-', '-', '->', 'C'], fontsize=10, rotation=0)\n",
    "for i, cond in enumerate(np.hstack([todo_conds[4:]])):\n",
    "    # ax.axvline(condcode*5, color='k', linestyle='--', linewidth=1)\n",
    "    ax.text(i*5, -0.5, f'{cond}', fontsize=10, va='bottom')\n",
    "\n",
    "# output = os.path.join(outfigdir, f'heatmap_csm_all.pdf')\n",
    "# powerplots.savefig_autodate(fig, output)\n",
    "plt.show()\n",
    "\n",
    "# break"
   ]
  },
  {
   "cell_type": "code",
   "execution_count": null,
   "id": "dca2d01d-2961-4d66-9c85-d41f3de0e986",
   "metadata": {
    "tags": []
   },
   "outputs": [],
   "source": [
    "fig, ax = plt.subplots(1,1,figsize=(6,10))\n",
    "    \n",
    "res_this = res_abc\n",
    "\n",
    "order = res_this['order']\n",
    "title = res_this['title']\n",
    "zmat  = res_this['zmat']\n",
    "clsts = res_this['clst']\n",
    "genes_this = res_this['genes']\n",
    "\n",
    "gene_annots_this = gene_modules.check_genes(genes_this)[0]\n",
    "cond_csm_this = np.array([_g in csm_annots for _g in gene_annots_this])\n",
    "zmat = zmat[cond_csm_this]\n",
    "clsts = clsts[cond_csm_this]\n",
    "genes_this = genes_this[cond_csm_this] #res_this['genes']\n",
    "\n",
    "sns.heatmap(zmat[:,:7*5], cmap='coolwarm', cbar_kws=dict(shrink=0.5), \n",
    "            xticklabels=False,\n",
    "            vmax=3, vmin=-3,\n",
    "            rasterized=True,\n",
    "            ax=ax)\n",
    "ax.set_yticks(0.5+np.arange(len(zmat)))\n",
    "ax.set_yticklabels(genes_this, fontsize=4, rotation=0)\n",
    "\n",
    "ax.hlines(np.cumsum(np.unique(clsts, return_counts=True)[1]), 0, 55, color='white', linewidth=1)\n",
    "ax.vlines(np.arange(0,35,5), 0, len(zmat), color='white', linewidth=1)\n",
    "ax.vlines(7*5, 0, len(zmat), color='black', linewidth=1)\n",
    "\n",
    "ax.grid(False)\n",
    "    \n",
    "ax.set_xticks(0.5+np.arange(n_type))\n",
    "ax.set_xticklabels(['A', '<-', '-', '->', 'C'], fontsize=10, rotation=0)\n",
    "for i, cond in enumerate(np.hstack([todo_conds[4:]])):\n",
    "    # ax.axvline(condcode*5, color='k', linestyle='--', linewidth=1)\n",
    "    ax.text(i*5, -0.5, f'{cond}', fontsize=10, va='bottom')\n",
    "\n",
    "# output = os.path.join(outfigdir, f'heatmap_csm_all.pdf')\n",
    "# powerplots.savefig_autodate(fig, output)\n",
    "plt.show()\n",
    "\n",
    "# break"
   ]
  },
  {
   "cell_type": "code",
   "execution_count": null,
   "id": "ddfbe371-eef1-4f9a-bb52-bea24aa06f15",
   "metadata": {},
   "outputs": [],
   "source": []
  }
 ],
 "metadata": {
  "kernelspec": {
   "display_name": "Python 3 (ipykernel)",
   "language": "python",
   "name": "python3"
  },
  "language_info": {
   "codemirror_mode": {
    "name": "ipython",
    "version": 3
   },
   "file_extension": ".py",
   "mimetype": "text/x-python",
   "name": "python",
   "nbconvert_exporter": "python",
   "pygments_lexer": "ipython3",
   "version": "3.9.16"
  }
 },
 "nbformat": 4,
 "nbformat_minor": 5
}
