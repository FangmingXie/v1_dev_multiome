{
 "cells": [
  {
   "cell_type": "code",
   "execution_count": null,
   "id": "bb214b6d-836a-49b8-93dd-a19f021215b7",
   "metadata": {
    "tags": []
   },
   "outputs": [],
   "source": [
    "import os\n",
    "import numpy as np\n",
    "import pandas as pd\n",
    "import scanpy as sc\n",
    "import anndata \n",
    "import seaborn as sns\n",
    "from scipy.stats import zscore\n",
    "import matplotlib.pyplot as plt\n",
    "import collections\n",
    "\n",
    "from sklearn.decomposition import PCA\n",
    "from umap import UMAP\n",
    "\n",
    "from matplotlib.colors import LinearSegmentedColormap\n",
    "\n",
    "from scroutines.config_plots import *\n",
    "from scroutines import powerplots # .config_plots import *\n",
    "from scroutines import pnmf\n",
    "from scroutines import basicu\n"
   ]
  },
  {
   "cell_type": "code",
   "execution_count": null,
   "id": "f45abc88-0cbc-4575-8035-9cb157c42bc2",
   "metadata": {},
   "outputs": [],
   "source": [
    "outdir_fig = \"/u/home/f/f7xiesnm/project-zipursky/v1-bb/v1/figures\""
   ]
  },
  {
   "cell_type": "code",
   "execution_count": null,
   "id": "4909ea27-eafc-4571-aee4-afb718a5a171",
   "metadata": {
    "tags": []
   },
   "outputs": [],
   "source": [
    "adata = anndata.read(\"../../data/cheng21_cell_scrna/reorganized/all_L23.h5ad\")\n",
    "genes = adata.var.index.values\n",
    "conds = adata.obs['cond'].values\n",
    "types = adata.obs['Type'].values\n",
    "samps = adata.obs['sample'].values\n",
    "adata"
   ]
  },
  {
   "cell_type": "code",
   "execution_count": null,
   "id": "e1bb5d40-5759-40ea-9307-78ea8a9b8094",
   "metadata": {
    "tags": []
   },
   "outputs": [],
   "source": [
    "rename = {\n",
    "    \"L2/3_A\": \"L2/3_A\",\n",
    "    \"L2/3_B\": \"L2/3_B\",\n",
    "    \"L2/3_C\": \"L2/3_C\",\n",
    "    \n",
    "    \"L2/3_1\": \"L2/3_A\",\n",
    "    \"L2/3_2\": \"L2/3_B\",\n",
    "    \"L2/3_3\": \"L2/3_C\",\n",
    "    \n",
    "    \"L2/3_AB\": \"L2/3_A\",\n",
    "    \"L2/3_BC\": \"L2/3_C\",\n",
    "}\n",
    "adata.obs['easitype'] = adata.obs['Type'].apply(lambda x: rename[x])"
   ]
  },
  {
   "cell_type": "code",
   "execution_count": null,
   "id": "28810cab-8100-4ee3-870a-9c652c637d9d",
   "metadata": {
    "tags": []
   },
   "outputs": [],
   "source": [
    "# use those 286 genes\n",
    "# df = pd.read_csv(\"../../data/cheng21_cell_scrna/res/candidate_genes_vincent_0503_v2.csv\")\n",
    "df = pd.read_csv(\"../../data/cheng21_cell_scrna/res/L23-ABC-genes-n288-n286unq-annot.csv\")\n",
    "genes_sel = df['gene'].astype(str).values\n",
    "genes_grp = df['P17on'].astype(str).values\n",
    "assert len(genes_sel) == len(np.unique(genes_sel))\n",
    "\n",
    "gi = basicu.get_index_from_array(genes, genes_sel)\n",
    "assert np.all(genes_sel != -1)\n",
    "\n",
    "# CP10k for single cells\n",
    "cov = np.array(adata.X.sum(axis=1))\n",
    "counts = np.array(adata.X[:,gi].todense())\n",
    "norm = counts/cov*1e4\n",
    "lognorm = np.log10(norm+1)\n",
    "zlognorm = zscore(lognorm, axis=0) "
   ]
  },
  {
   "cell_type": "code",
   "execution_count": null,
   "id": "fbdc951b-3427-4d84-bd83-2002c9bc25a2",
   "metadata": {},
   "outputs": [],
   "source": [
    "# zlognorm = np.nan_to_num(zlognorm, 0)"
   ]
  },
  {
   "cell_type": "code",
   "execution_count": null,
   "id": "b0c01311-b735-4b22-9a04-f48ed402cf4e",
   "metadata": {
    "tags": []
   },
   "outputs": [],
   "source": [
    "gene_types, gene_type_counts = np.unique(genes_grp, return_counts=True)\n",
    "gene_types, gene_type_counts"
   ]
  },
  {
   "cell_type": "code",
   "execution_count": null,
   "id": "b8db6d89-2c84-4360-85c3-d3f400af66b6",
   "metadata": {
    "tags": []
   },
   "outputs": [],
   "source": [
    "pca = PCA(n_components=50)\n",
    "pcs = pca.fit_transform(zlognorm)\n",
    "\n",
    "ucs = UMAP(n_components=2, n_neighbors=50).fit_transform(pcs)"
   ]
  },
  {
   "cell_type": "code",
   "execution_count": null,
   "id": "d37e6002-8dc8-4885-a073-8026985f1e9a",
   "metadata": {
    "tags": []
   },
   "outputs": [],
   "source": [
    "# # fix pc1 to make sure a < c:\n",
    "# pc1 = pcs[:,0]\n",
    "# pc_types, unq_types = basicu.group_mean(pc1.reshape(-1,1), types)\n",
    "# a = pc_types[0,0]\n",
    "# c = pc_types[-1,0]\n",
    "# if a > c:\n",
    "#     pcs[:,0] = -pcs[:,0]"
   ]
  },
  {
   "cell_type": "code",
   "execution_count": null,
   "id": "2710199e-e053-41b4-9838-dc1f261e1b22",
   "metadata": {
    "tags": []
   },
   "outputs": [],
   "source": [
    "res = pd.DataFrame(pcs, columns=np.char.add(\"PC\", ((1+np.arange(pcs.shape[1])).astype(str))))\n",
    "res['cond'] = conds\n",
    "res['type'] = types\n",
    "res['samp'] = samps\n",
    "res['umap1'] = ucs[:,0]\n",
    "res['umap2'] = ucs[:,1]\n",
    "# res['type'] = types"
   ]
  },
  {
   "cell_type": "code",
   "execution_count": null,
   "id": "b65a87b1-5280-4cd4-a930-8089cc06e15a",
   "metadata": {
    "tags": []
   },
   "outputs": [],
   "source": [
    "# plt.plot(np.cumsum(pca.explained_variance_ratio_), '-o')\n",
    "fig, ax = plt.subplots(figsize=(6,4))\n",
    "ax.plot(np.arange(len(pca.explained_variance_ratio_))+1, pca.explained_variance_ratio_, '-o', markersize=5)\n",
    "ax.axhline(1/lognorm.shape[1], linestyle='--', color='gray')\n",
    "ax.set_xlabel('PC')\n",
    "ax.set_ylabel('explained var')"
   ]
  },
  {
   "cell_type": "code",
   "execution_count": null,
   "id": "7d39cdaa-ad88-4aa2-8313-5ee56c0f37e8",
   "metadata": {
    "tags": []
   },
   "outputs": [],
   "source": [
    "allcolors = sns.color_palette('tab20c', 20)\n",
    "allcolors"
   ]
  },
  {
   "cell_type": "code",
   "execution_count": null,
   "id": "b9738b71-19bb-4e6d-ba3d-e38215a3347b",
   "metadata": {
    "tags": []
   },
   "outputs": [],
   "source": [
    "allcolors2 = sns.color_palette('tab10', 20)\n",
    "allcolors2"
   ]
  },
  {
   "cell_type": "code",
   "execution_count": null,
   "id": "3e8e4d75-2d87-4c0a-a809-43053850bc71",
   "metadata": {
    "tags": []
   },
   "outputs": [],
   "source": [
    "palette = collections.OrderedDict({\n",
    "     \"P8NR\": allcolors[2],\n",
    "    \"P14NR\": allcolors[0],\n",
    "    \n",
    "    \"P17NR\": allcolors[7],\n",
    "    \"P21NR\": allcolors[6],\n",
    "    \"P28NR\": allcolors[5],\n",
    "    \"P38NR\": allcolors[4],\n",
    "    \n",
    "    \"P28DL\": allcolors[8],\n",
    "    \n",
    "    \"P28DR\": allcolors[14],\n",
    "    \"P38DR\": allcolors[12],\n",
    "})\n",
    "\n",
    "cases = np.array(list(palette.keys()))\n",
    "cases"
   ]
  },
  {
   "cell_type": "code",
   "execution_count": null,
   "id": "d943a8e5-9bfe-4271-a5d3-9f6933a40048",
   "metadata": {
    "tags": []
   },
   "outputs": [],
   "source": [
    "palette_types = collections.OrderedDict({\n",
    "    'L2/3_A': allcolors2[0],\n",
    "    'L2/3_B': allcolors2[1],\n",
    "    'L2/3_C': allcolors2[2],\n",
    "    \n",
    "    'L2/3_1': allcolors2[0],\n",
    "    'L2/3_2': allcolors2[1],\n",
    "    'L2/3_3': allcolors2[2],\n",
    "    \n",
    "    'L2/3_AB': allcolors2[0],\n",
    "    'L2/3_BC': allcolors2[2],\n",
    "})             "
   ]
  },
  {
   "cell_type": "code",
   "execution_count": null,
   "id": "01b3dc85-3f78-41d5-9296-07c2f55fe6d7",
   "metadata": {
    "tags": []
   },
   "outputs": [],
   "source": [
    "fig, ax = plt.subplots(figsize=(1,4))\n",
    "for i, (key, item) in enumerate(palette.items()):\n",
    "    ax.plot(0,     len(palette)-i, 'o', c=item, )\n",
    "    ax.text(0.02,  len(palette)-i, key, va='center', fontsize=15)\n",
    "    ax.axis('off')\n",
    "plt.show()"
   ]
  },
  {
   "cell_type": "code",
   "execution_count": null,
   "id": "acc2d2f3-93c3-4540-bb16-507a09a2394e",
   "metadata": {
    "tags": []
   },
   "outputs": [],
   "source": [
    "fig, ax = plt.subplots(1,1,figsize=(8*1,6))\n",
    "sns.scatterplot(data=res.sample(frac=1, replace=False), \n",
    "                x='PC1', y='PC2', \n",
    "                hue='cond',\n",
    "                hue_order=list(palette.keys()),\n",
    "                palette=palette,\n",
    "                s=5, edgecolor='none', \n",
    "                # legend=False,\n",
    "                ax=ax,\n",
    "               )\n",
    "ax.legend(bbox_to_anchor=(1,1))\n",
    "plt.show()"
   ]
  },
  {
   "cell_type": "code",
   "execution_count": null,
   "id": "aa9bb814-dc6b-461b-bc00-b69e96f16810",
   "metadata": {
    "tags": []
   },
   "outputs": [],
   "source": [
    "fig, ax = plt.subplots(1,1,figsize=(8*1,6))\n",
    "sns.scatterplot(data=res.sample(frac=1, replace=False), \n",
    "                x='PC2', y='PC3', \n",
    "                hue='cond',\n",
    "                hue_order=list(palette.keys()),\n",
    "                palette=palette,\n",
    "                s=5, edgecolor='none', \n",
    "                # legend=False,\n",
    "                ax=ax,\n",
    "               )\n",
    "ax.legend(bbox_to_anchor=(1,1))\n",
    "plt.show()"
   ]
  },
  {
   "cell_type": "code",
   "execution_count": null,
   "id": "bd9eee02-b392-415a-8ba7-0928278ddc9d",
   "metadata": {
    "tags": []
   },
   "outputs": [],
   "source": [
    "fig, ax = plt.subplots(1,1,figsize=(8*1,6))\n",
    "sns.scatterplot(data=res.sample(frac=1, replace=False), \n",
    "                x='PC3', y='PC4', \n",
    "                hue='cond',\n",
    "                hue_order=list(palette.keys()),\n",
    "                palette=palette,\n",
    "                s=5, edgecolor='none', \n",
    "                # legend=False,\n",
    "                ax=ax,\n",
    "               )\n",
    "ax.legend(bbox_to_anchor=(1,1))\n",
    "plt.show()"
   ]
  },
  {
   "cell_type": "code",
   "execution_count": null,
   "id": "9aab9d61-5c7e-4be6-ac36-55933b9672a4",
   "metadata": {
    "tags": []
   },
   "outputs": [],
   "source": [
    "fig, axs = plt.subplots(3,3,figsize=(4*3,4*3), sharex=True, sharey=True)\n",
    "for ax, cond in zip(axs.flat, cases):\n",
    "    ax.set_title(cond)\n",
    "    sns.scatterplot(data=res, \n",
    "                    x='PC1', y='PC2', \n",
    "                    c='lightgray',\n",
    "                    s=1, edgecolor='none', \n",
    "                    legend=False,\n",
    "                    ax=ax,\n",
    "                   )\n",
    "    sns.scatterplot(data=res[res['cond']==cond],\n",
    "                    x='PC1', y='PC2', \n",
    "                    hue='cond',\n",
    "                    hue_order=list(palette.keys()),\n",
    "                    palette=palette,\n",
    "                    s=3, edgecolor='none', \n",
    "                    legend=False,\n",
    "                    ax=ax,\n",
    "                   )\n",
    "    sns.despine(ax=ax)\n",
    "plt.show()"
   ]
  },
  {
   "cell_type": "code",
   "execution_count": null,
   "id": "2064eaea-ccba-4b8a-b107-c49a8151d407",
   "metadata": {
    "tags": []
   },
   "outputs": [],
   "source": [
    "fig, axs = plt.subplots(3,3,figsize=(4*3,4*3), sharex=True, sharey=True)\n",
    "for ax, cond in zip(axs.flat, cases):\n",
    "    ax.set_title(cond)\n",
    "    sns.scatterplot(data=res, \n",
    "                    x='PC2', y='PC3', \n",
    "                    c='lightgray',\n",
    "                    s=1, edgecolor='none', \n",
    "                    legend=False,\n",
    "                    ax=ax,\n",
    "                   )\n",
    "    sns.scatterplot(data=res[res['cond']==cond],\n",
    "                    x='PC2', y='PC3', \n",
    "                    hue='cond',\n",
    "                    hue_order=list(palette.keys()),\n",
    "                    palette=palette,\n",
    "                    s=3, edgecolor='none', \n",
    "                    legend=False,\n",
    "                    ax=ax,\n",
    "                   )\n",
    "    sns.despine(ax=ax)\n",
    "plt.show()"
   ]
  },
  {
   "cell_type": "code",
   "execution_count": null,
   "id": "c47e970f-1c1f-4856-bb80-e4daf7b13ee3",
   "metadata": {
    "tags": []
   },
   "outputs": [],
   "source": [
    "fig, ax = plt.subplots(1,1,figsize=(8*1,6))\n",
    "sns.scatterplot(data=res.sample(frac=1, replace=False), \n",
    "                x='umap1', y='umap2', \n",
    "                hue='cond',\n",
    "                hue_order=list(palette.keys()),\n",
    "                palette=palette,\n",
    "                s=5, edgecolor='none', \n",
    "                # legend=False,\n",
    "                ax=ax,\n",
    "               )\n",
    "ax.legend(bbox_to_anchor=(1,1))\n",
    "plt.show()"
   ]
  },
  {
   "cell_type": "code",
   "execution_count": null,
   "id": "2fd19e6b-f643-46b0-9d77-1bbd086d9bfa",
   "metadata": {
    "tags": []
   },
   "outputs": [],
   "source": [
    "fig, axs = plt.subplots(3,3,figsize=(4*3,4*3), sharex=True, sharey=True)\n",
    "for ax, cond in zip(axs.flat, cases):\n",
    "    ax.set_title(cond)\n",
    "    sns.scatterplot(data=res, \n",
    "                    x='umap1', y='umap2', \n",
    "                    c='lightgray',\n",
    "                    s=1, edgecolor='none', \n",
    "                    legend=False,\n",
    "                    ax=ax,\n",
    "                   )\n",
    "    sns.scatterplot(data=res[res['cond']==cond],\n",
    "                    x='umap1', y='umap2', \n",
    "                    hue='cond',\n",
    "                    hue_order=list(palette.keys()),\n",
    "                    palette=palette,\n",
    "                    s=3, edgecolor='none', \n",
    "                    legend=False,\n",
    "                    ax=ax,\n",
    "                   )\n",
    "    sns.despine(ax=ax)\n",
    "plt.show()"
   ]
  },
  {
   "cell_type": "code",
   "execution_count": null,
   "id": "f3f2e0cd-1020-4602-9bd8-a38f499c4ddf",
   "metadata": {},
   "outputs": [],
   "source": [
    "fig, ax = plt.subplots(1,1,figsize=(8*1,6))\n",
    "sns.scatterplot(data=res.sample(frac=1, replace=False), \n",
    "                x='umap1', y='umap2', \n",
    "                hue='type',\n",
    "                # hue='cond',\n",
    "                # hue_order=list(palette.keys()),\n",
    "                palette=palette_types,\n",
    "                s=5, edgecolor='none', \n",
    "                # legend=False,\n",
    "                ax=ax,\n",
    "               )\n",
    "ax.legend(bbox_to_anchor=(1,1))\n",
    "plt.show()"
   ]
  },
  {
   "cell_type": "code",
   "execution_count": null,
   "id": "c5ec00f8-d1c0-453d-83fc-710df1e6d2ce",
   "metadata": {
    "tags": []
   },
   "outputs": [],
   "source": [
    "fig, axs = plt.subplots(1,2,figsize=(6*2,6), sharex=True, sharey=True)\n",
    "categories = ['NR|DL', 'DR']\n",
    "for cat, ax in zip(categories, axs.flat):\n",
    "    ax.set_title(cat)\n",
    "    sns.scatterplot(data=res, #[res['cond'].str.contains('DR')].sample(frac=1, replace=False), \n",
    "                    x='umap1', y='umap2', \n",
    "                    color='lightgray',\n",
    "                    s=1, edgecolor='none', \n",
    "                    legend=False,\n",
    "                    ax=ax,\n",
    "                   )\n",
    "    sns.scatterplot(data=res[res['cond'].str.contains(cat)].sample(frac=1, replace=False), \n",
    "                    x='umap1', y='umap2', \n",
    "                    hue='type',\n",
    "                    palette=palette_types,\n",
    "                    s=5, edgecolor='none', \n",
    "                    legend=False,\n",
    "                    ax=ax,\n",
    "                   )\n",
    "# ax.legend(bbox_to_anchor=(1,1))\n",
    "fig.tight_layout()\n",
    "plt.show()"
   ]
  },
  {
   "cell_type": "code",
   "execution_count": null,
   "id": "a8bff01c-12dd-430c-bbbc-e6dfc36e24cb",
   "metadata": {},
   "outputs": [],
   "source": [
    "fig, axs = plt.subplots(3,3,figsize=(4*3,4*3), sharex=True, sharey=True)\n",
    "for ax, cond in zip(axs.flat, cases):\n",
    "    ax.set_title(cond)\n",
    "    sns.scatterplot(data=res, \n",
    "                    x='umap1', y='umap2', \n",
    "                    c='lightgray',\n",
    "                    s=1, edgecolor='none', \n",
    "                    legend=False,\n",
    "                    ax=ax,\n",
    "                   )\n",
    "    sns.scatterplot(data=res[res['cond']==cond],\n",
    "                    x='umap1', y='umap2', \n",
    "                    hue='type',\n",
    "                    # hue_order=list(palette.keys()),\n",
    "                    palette=palette_types,\n",
    "                    s=3, edgecolor='none', \n",
    "                    legend=False,\n",
    "                    ax=ax,\n",
    "                   )\n",
    "    sns.despine(ax=ax)\n",
    "plt.show()"
   ]
  },
  {
   "cell_type": "markdown",
   "id": "ad938b73-32e5-47bc-8af5-a78e8cbabe78",
   "metadata": {},
   "source": [
    "# heatmap"
   ]
  },
  {
   "cell_type": "markdown",
   "id": "b4c42208-0f8e-49b4-a8fc-c69e106a426d",
   "metadata": {
    "tags": []
   },
   "source": [
    "# give each cell a pseudo-time index"
   ]
  },
  {
   "cell_type": "code",
   "execution_count": null,
   "id": "b8fb649a-3369-44c5-915b-0f0f09cb3a14",
   "metadata": {
    "tags": []
   },
   "outputs": [],
   "source": [
    "ncell, ngene = zlognorm.shape\n",
    "\n",
    "my_colors = ('C0', 'C1', 'C2')\n",
    "cmap_d1 = LinearSegmentedColormap.from_list('', my_colors, len(my_colors))\n",
    "\n",
    "my_colors = ('C0', 'C1', 'C2', 'C3')\n",
    "cmap_d2 = LinearSegmentedColormap.from_list('', my_colors, len(my_colors))"
   ]
  },
  {
   "cell_type": "code",
   "execution_count": null,
   "id": "d4ba0c65-ae7a-4d97-834a-44d0858445a3",
   "metadata": {
    "tags": []
   },
   "outputs": [],
   "source": [
    "# Use P28 ordering\n",
    "f = '../../results/gene_ptime_P28_L23_Mar27.tsv'\n",
    "gpt = pd.read_csv(f)\n",
    "gpt = gpt['gene_ptime'].values\n",
    "geneidx = np.argsort(gpt)"
   ]
  },
  {
   "cell_type": "code",
   "execution_count": null,
   "id": "3022ddba-7442-4b11-931e-93094925e45b",
   "metadata": {
    "tags": []
   },
   "outputs": [],
   "source": [
    "# Use ptime from each sample analysis\n",
    "dfall = []\n",
    "for case in cases:\n",
    "    f = f'../../results/cell_ptime_{case}_L23_Mar28.tsv'\n",
    "    df = pd.read_csv(f, index_col=0)\n",
    "    df['case'] = case\n",
    "    dfall.append(df)\n",
    "dfall = pd.concat(dfall)\n",
    "assert np.all(dfall.index.values == adata.obs.index.values)\n",
    "dfall"
   ]
  },
  {
   "cell_type": "code",
   "execution_count": null,
   "id": "9978999d-12ed-4876-8694-67ca4c7333ea",
   "metadata": {
    "tags": []
   },
   "outputs": [],
   "source": [
    "def plot(zlognorm, cellidx, geneidx, types, genes_grp, case, figsize=(12,6), xticklabels=1000, hratio=20, vratio=10):\n",
    "    \"\"\"\n",
    "    \"\"\"\n",
    "    mosaic = (\"B\"+\"A\"*hratio+\"\\n\")*vratio + \".\"+\"C\"*hratio\n",
    "    # print(mosaic)\n",
    "    fig, axdict = plt.subplot_mosaic(mosaic, figsize=figsize)\n",
    "    fig.suptitle(case)\n",
    "    ax = axdict['A']\n",
    "    sns.heatmap(zlognorm[cellidx][:,geneidx].T,\n",
    "                xticklabels=False,\n",
    "                yticklabels=False,\n",
    "                cbar_kws=dict(shrink=0.3, label='zscore log10CP10k', aspect=10),\n",
    "                center=0,\n",
    "                vmax=3,\n",
    "                vmin=-3,\n",
    "                cmap='coolwarm',\n",
    "                rasterized=True,\n",
    "                ax=ax,\n",
    "               )\n",
    "\n",
    "    ax = axdict['C']\n",
    "    sns.heatmap(pd.factorize(types[cellidx], sort=True)[0].reshape(-1,1).T, \n",
    "                xticklabels=xticklabels,\n",
    "                yticklabels=False,\n",
    "                cmap=cmap_d1,\n",
    "                cbar_kws=dict(ticks=[0,1,2], shrink=2, aspect=5),\n",
    "                rasterized=True,\n",
    "                ax=ax, \n",
    "               )\n",
    "    ax.set_xlabel('Cells')\n",
    "    fig.axes[-1].set_yticklabels(['A','B','C'])\n",
    "    ax.set_yticklabels(ax.get_yticklabels(), rotation=0, fontsize=10)\n",
    "    ax.set_xticklabels(ax.get_xticklabels(), rotation=0, fontsize=10)\n",
    "\n",
    "    ax = axdict['B']\n",
    "    sns.heatmap(pd.factorize(genes_grp[geneidx], sort=True)[0].reshape(-1,1), \n",
    "                xticklabels=False,\n",
    "                yticklabels=100,\n",
    "                cmap=cmap_d1,\n",
    "                cbar=False,\n",
    "                rasterized=True,\n",
    "                ax=ax, \n",
    "               )\n",
    "    ax.set_ylabel('Genes')\n",
    "    ax.set_yticklabels(ax.get_yticklabels(), rotation=0, fontsize=10)\n",
    "    ax.set_xticklabels(ax.get_xticklabels(), rotation=0, fontsize=10)\n",
    "\n",
    "    fig.subplots_adjust(hspace=0.4)\n",
    "    return fig, axdict\n",
    "    # fig.suptitle(sample)\n",
    "    # powerplots.savefig_autodate(fig, os.path.join(outdir_fig, f'heatmap_{sample}_v3.pdf'))\n",
    "    # plt.show()"
   ]
  },
  {
   "cell_type": "code",
   "execution_count": null,
   "id": "b4739715-5a47-4564-89d6-1a114c6dd6c7",
   "metadata": {
    "tags": []
   },
   "outputs": [],
   "source": [
    "plt.plot(zlognorm.mean(axis=0))\n",
    "plt.plot(zlognorm.std(axis=0))"
   ]
  },
  {
   "cell_type": "code",
   "execution_count": null,
   "id": "ac5011ed-5702-4839-9c76-b9da20b1bba4",
   "metadata": {
    "tags": []
   },
   "outputs": [],
   "source": [
    "allcells = adata.obs.index.values\n",
    "mean_exps = []\n",
    "rnge_exps = []\n",
    "for case in cases:\n",
    "    \n",
    "    # select cells\n",
    "    adata_sub = adata[adata.obs['cond']==case]\n",
    "    cells_sub = adata_sub.obs.index.values\n",
    "    cellsidx_sub = basicu.get_index_from_array(allcells, cells_sub)\n",
    "    \n",
    "    dfall_sub = dfall.loc[cells_sub]\n",
    "    zlognorm_sub = zlognorm[cellsidx_sub]\n",
    "    \n",
    "    # order cells\n",
    "    cellidx = np.argsort(dfall_sub['ptime'].values)\n",
    "    types   = adata_sub.obs['Type'].values\n",
    "    \n",
    "    mean_exp = zlognorm_sub.mean(axis=0)\n",
    "    rnge_exp = np.percentile(zlognorm_sub, 95, axis=0) - np.percentile(zlognorm_sub, 5, axis=0)\n",
    "    mean_exps.append(mean_exp)\n",
    "    rnge_exps.append(rnge_exp)\n",
    "    plot(zlognorm_sub, cellidx, geneidx, types, genes_grp, case)\n",
    "    \n",
    "    # break"
   ]
  },
  {
   "cell_type": "code",
   "execution_count": null,
   "id": "7b5f978d-5b47-4666-b580-abbb52b2c9ba",
   "metadata": {
    "tags": []
   },
   "outputs": [],
   "source": [
    "# a big table of everything\n",
    "allcells = adata.obs.index.values\n",
    "bigmat = []\n",
    "bigtypes = []\n",
    "\n",
    "ncases = []\n",
    "for case in cases:\n",
    "    # select cells\n",
    "    adata_sub = adata[adata.obs['cond']==case]\n",
    "    cells_sub = adata_sub.obs.index.values\n",
    "    cellsidx_sub = basicu.get_index_from_array(allcells, cells_sub)\n",
    "    \n",
    "    dfall_sub = dfall.loc[cells_sub]\n",
    "    zlognorm_sub = zlognorm[cellsidx_sub]\n",
    "    \n",
    "    # order cells\n",
    "    cellidx = np.argsort(dfall_sub['ptime'].values)\n",
    "    types   = adata_sub.obs['easitype'].values\n",
    "    \n",
    "    bigmat.append(zlognorm_sub[cellidx])\n",
    "    bigtypes.append(types[cellidx])\n",
    "    ncases.append(len(cellidx))\n",
    "    \n",
    "bigmat = np.vstack(bigmat)\n",
    "bigtypes = np.hstack(bigtypes)\n",
    "bigmat.shape"
   ]
  },
  {
   "cell_type": "code",
   "execution_count": null,
   "id": "0cb6e0ec-411a-4ec9-a91c-855fb2ff5075",
   "metadata": {
    "tags": []
   },
   "outputs": [],
   "source": [
    "fig, axdict = plot(bigmat, np.arange(len(bigmat)), geneidx, bigtypes, genes_grp, \"\", \n",
    "                   figsize=(20,6), xticklabels=5000, hratio=50)\n",
    "axdict['A'].vlines(np.cumsum(ncases), 0, bigmat.shape[1], color='k', linestyle='--', linewidth=1)\n",
    "axdict['C'].vlines(np.cumsum(ncases), 0, 1, color='k', linestyle='--', linewidth=1)\n",
    "for x, case in zip(np.hstack([[0], np.cumsum(ncases)]), cases):\n",
    "    axdict['A'].text(x, 0, case, fontsize=15)\n",
    "plt.show()"
   ]
  },
  {
   "cell_type": "markdown",
   "id": "635b12ca-d6d9-427a-bdeb-7c04d57b85c8",
   "metadata": {},
   "source": [
    "# Collapse into types"
   ]
  },
  {
   "cell_type": "markdown",
   "id": "6353b540-c4b4-4043-98bb-fc10a13614e5",
   "metadata": {},
   "source": [
    "# Specific genes"
   ]
  },
  {
   "cell_type": "markdown",
   "id": "5e836eb3-ad1d-48cd-9197-a38c6bdd653f",
   "metadata": {},
   "source": [
    "# Quantify this"
   ]
  },
  {
   "cell_type": "code",
   "execution_count": null,
   "id": "bc3805b0-bdb7-4699-be9d-f915bb4801a0",
   "metadata": {},
   "outputs": [],
   "source": []
  },
  {
   "cell_type": "code",
   "execution_count": null,
   "id": "f6883272-915d-4401-bc44-9085e118cc91",
   "metadata": {},
   "outputs": [],
   "source": []
  },
  {
   "cell_type": "code",
   "execution_count": null,
   "id": "0e623320-4d17-4376-ab2b-b35f801c49ef",
   "metadata": {},
   "outputs": [],
   "source": []
  },
  {
   "cell_type": "code",
   "execution_count": null,
   "id": "06e38680-1f11-4567-b6a9-9d77026adce9",
   "metadata": {},
   "outputs": [],
   "source": []
  },
  {
   "cell_type": "code",
   "execution_count": null,
   "id": "0ca8e9c0-34b0-40cb-9632-ffe25bc1866e",
   "metadata": {},
   "outputs": [],
   "source": []
  },
  {
   "cell_type": "code",
   "execution_count": null,
   "id": "a441784f-5653-49c0-9ecb-9c8bb67bca0b",
   "metadata": {},
   "outputs": [],
   "source": []
  }
 ],
 "metadata": {
  "kernelspec": {
   "display_name": "Python 3 (ipykernel)",
   "language": "python",
   "name": "python3"
  },
  "language_info": {
   "codemirror_mode": {
    "name": "ipython",
    "version": 3
   },
   "file_extension": ".py",
   "mimetype": "text/x-python",
   "name": "python",
   "nbconvert_exporter": "python",
   "pygments_lexer": "ipython3",
   "version": "3.9.16"
  }
 },
 "nbformat": 4,
 "nbformat_minor": 5
}
