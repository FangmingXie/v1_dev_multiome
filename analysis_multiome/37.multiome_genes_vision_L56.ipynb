{
 "cells": [
  {
   "cell_type": "code",
   "execution_count": null,
   "id": "bb214b6d-836a-49b8-93dd-a19f021215b7",
   "metadata": {
    "tags": []
   },
   "outputs": [],
   "source": [
    "import os\n",
    "import numpy as np\n",
    "import pandas as pd\n",
    "import scanpy as sc\n",
    "import anndata \n",
    "import seaborn as sns\n",
    "from scipy.stats import zscore\n",
    "import matplotlib.pyplot as plt\n",
    "import collections\n",
    "from natsort import natsorted\n",
    "\n",
    "from scipy import stats\n",
    "from scipy import sparse\n",
    "from sklearn.decomposition import PCA\n",
    "from umap import UMAP\n",
    "from statsmodels.stats.multitest import multipletests\n",
    "\n",
    "from matplotlib.colors import LinearSegmentedColormap\n",
    "\n",
    "from scroutines.config_plots import *\n",
    "from scroutines import powerplots # .config_plots import *\n",
    "from scroutines import pnmf\n",
    "from scroutines import basicu\n",
    "from scroutines.gene_modules import GeneModules  \n"
   ]
  },
  {
   "cell_type": "code",
   "execution_count": null,
   "id": "f45abc88-0cbc-4575-8035-9cb157c42bc2",
   "metadata": {},
   "outputs": [],
   "source": [
    "outfigdir = \"/u/home/f/f7xiesnm/project-zipursky/v1-bb/v1/figures/250409\"\n",
    "!mkdir -p $outfigdir"
   ]
  },
  {
   "cell_type": "markdown",
   "id": "ba1f61ee-ba83-4707-816d-37eb33a54b83",
   "metadata": {},
   "source": [
    "# load gene annotation and data"
   ]
  },
  {
   "cell_type": "code",
   "execution_count": null,
   "id": "405a7ffc-7b93-49b8-a63a-9d7eda66b6d7",
   "metadata": {
    "tags": []
   },
   "outputs": [],
   "source": [
    "genes_alltime_hvgs = np.loadtxt('/u/home/f/f7xiesnm/v1_multiome/l23_alltime_hvgs_n4940.txt', dtype='str')\n",
    "genes_alltime_hvgs.shape"
   ]
  },
  {
   "cell_type": "code",
   "execution_count": null,
   "id": "e2945163-289c-48bf-9147-d5070e4deb8a",
   "metadata": {
    "tags": []
   },
   "outputs": [],
   "source": [
    "gene_modules = GeneModules()\n",
    "g, gs, ms = gene_modules.check_genes('Cdh13')\n",
    "print(\"\\t\".join(g))\n",
    "print(\"\\t\".join(gs))\n",
    "print(\"\\t\".join(ms))"
   ]
  },
  {
   "cell_type": "code",
   "execution_count": null,
   "id": "8542eec8-b8e1-4a35-9237-0d3c0043349b",
   "metadata": {},
   "outputs": [],
   "source": [
    "adata = anndata.read(\"/u/home/f/f7xiesnm/project-zipursky/v1-bb/v1/data/v1_multiome/superdupermegaRNA_hasraw_multiome_L56IT.h5ad\")\n",
    "adata"
   ]
  },
  {
   "cell_type": "code",
   "execution_count": null,
   "id": "c715643c-0748-414c-b477-4294cb85b5cc",
   "metadata": {
    "tags": []
   },
   "outputs": [],
   "source": [
    "sample_labels = adata.obs['Sample'].values\n",
    "time_labels = [s[:-1].replace('DR', '') for s in sample_labels]\n",
    "\n",
    "adata.obs['sample'] = sample_labels #\n",
    "adata.obs['time']   = time_labels\n",
    "adata.obs['cond']   = [sample[:-1] for sample in sample_labels]\n",
    "print(sample_labels)\n",
    "\n",
    "uniq_samples = natsorted(np.unique(sample_labels))\n",
    "nr_samples = [s for s in uniq_samples if \"DR\" not in s]\n",
    "dr_samples = [s for s in uniq_samples if \"DR\" in s]\n",
    "\n",
    "uniq_conds = np.array(natsorted(np.unique(adata.obs['cond'].values)))\n",
    "print(uniq_conds)"
   ]
  },
  {
   "cell_type": "code",
   "execution_count": null,
   "id": "4d9ae16c-9107-4acd-8405-fbcd84bd8e0d",
   "metadata": {
    "tags": []
   },
   "outputs": [],
   "source": [
    "# remove mitocondria genes\n",
    "adata = adata[:,~adata.var.index.str.contains(r'^mt-')]\n",
    "# remove sex genes\n",
    "adata = adata[:,~adata.var.index.str.contains(r'^Xist$')]"
   ]
  },
  {
   "cell_type": "code",
   "execution_count": null,
   "id": "d7f44744-2143-4267-a3e1-6b1125fdd368",
   "metadata": {
    "tags": []
   },
   "outputs": [],
   "source": [
    "adata"
   ]
  },
  {
   "cell_type": "markdown",
   "id": "265e2f71-85ae-4e94-a92a-57feddcf4af4",
   "metadata": {
    "tags": []
   },
   "source": [
    "# check effect size "
   ]
  },
  {
   "cell_type": "code",
   "execution_count": null,
   "id": "09a073e4-0140-414a-b28f-e99d6fd1424f",
   "metadata": {
    "tags": []
   },
   "outputs": [],
   "source": [
    "# adata.obs['sample'].unique()\n",
    "import re\n",
    "\n",
    "todo_conds = [\n",
    "    'P12DR', 'P14DR', 'P17DR', 'P21DR',\n",
    "    'P6', 'P8', 'P10', 'P12', 'P14', 'P17', 'P21', \n",
    "]\n",
    "todo_samps = [\n",
    "    'P12DRa', 'P12DRb',\n",
    "    'P14DRa', 'P14DRb',\n",
    "    'P17DRa', 'P17DRb',\n",
    "    'P21DRa', 'P21DRb',\n",
    "    'P6a', 'P6b', 'P6c', \n",
    "    'P8a', 'P8b', 'P8c', \n",
    "    'P10a', 'P10b', \n",
    "    'P12a', 'P12b', 'P12c', \n",
    "    'P14a', 'P14b',\n",
    "    'P17a', 'P17b', \n",
    "    'P21a', 'P21b', \n",
    "]\n",
    "todo_conds_t = np.array([int(re.sub(r'[a-zA-Z]', '', a)) for a in todo_conds])\n",
    "todo_samps_t = np.array([int(re.sub(r'[a-zA-Z]', '', a)) for a in todo_samps])\n",
    "print(todo_conds_t)\n",
    "print(todo_samps_t)\n",
    "\n",
    "def mean_over_samples(mmat_res_samp):\n",
    "    \"\"\"25 samples to 11 conditions\n",
    "    \"\"\"\n",
    "    assert mmat_res_samp.shape[0] == 25\n",
    "    \n",
    "    mmat_res_samp_mean = np.zeros(mmat_res_samp.shape)[:11]\n",
    "    mmat_res_samp_mean[0] = np.mean(mmat_res_samp[ :2], axis=0)\n",
    "    mmat_res_samp_mean[1] = np.mean(mmat_res_samp[2:4], axis=0)\n",
    "    mmat_res_samp_mean[2] = np.mean(mmat_res_samp[4:6], axis=0)\n",
    "    mmat_res_samp_mean[3] = np.mean(mmat_res_samp[6:8], axis=0)\n",
    "\n",
    "    mmat_res_samp_mean[4] = np.mean(mmat_res_samp[8:11], axis=0)\n",
    "    mmat_res_samp_mean[5] = np.mean(mmat_res_samp[11:14], axis=0)\n",
    "    mmat_res_samp_mean[6] = np.mean(mmat_res_samp[14:16], axis=0)\n",
    "    mmat_res_samp_mean[7] = np.mean(mmat_res_samp[16:19], axis=0)\n",
    "    mmat_res_samp_mean[8] = np.mean(mmat_res_samp[19:21], axis=0)\n",
    "    mmat_res_samp_mean[9] = np.mean(mmat_res_samp[21:23], axis=0)\n",
    "    mmat_res_samp_mean[10] = np.mean(mmat_res_samp[23:  ], axis=0)\n",
    "    \n",
    "    return mmat_res_samp_mean\n",
    "\n",
    "def transform_bigredmat(bigmat):\n",
    "    \"\"\"bigmat or redmat\n",
    "    to fmat and zmat\n",
    "    \"\"\"\n",
    "    fmat = bigmat.reshape(-1, bigmat.shape[-1]).T\n",
    "    fmat = np.hstack([fmat[:,4*5:], fmat[:,:4*5]]) # CHANGED COLUMN ORDER!!\n",
    "    zmat = zscore(fmat, axis=1)\n",
    "    \n",
    "    return fmat, zmat"
   ]
  },
  {
   "cell_type": "code",
   "execution_count": null,
   "id": "d4059c8d-5dba-4970-8360-e9bfa32dad62",
   "metadata": {
    "tags": []
   },
   "outputs": [],
   "source": [
    "%%time\n",
    "\n",
    "offset = 1\n",
    "\n",
    "mat = adata.layers['norm'][...]\n",
    "gexp_l23baseline = np.log2(np.mean(mat, axis=0)*1e2+offset) # CP10k -> CPM\n",
    "\n",
    "n_type = 1\n",
    "frac_archetypal_cells_viz = 0.2\n",
    "bigmat_nfd = np.zeros((len(todo_samps), n_type, mat.shape[1]))\n",
    "\n",
    "for i, samp in enumerate(todo_samps):\n",
    "    print(samp)\n",
    "    \n",
    "    # get sub\n",
    "    adatasub = adata[adata.obs['sample']==samp]\n",
    "    n_cells = adatasub.shape[0]\n",
    "    \n",
    "    mat_j = adatasub.layers['norm'][...]\n",
    "    mmat_j = np.log2(np.mean(mat_j, axis=0)*1e2+offset)-gexp_l23baseline # CP10k -> CPM\n",
    "    bigmat_nfd[i,0] = mmat_j\n",
    "    "
   ]
  },
  {
   "cell_type": "code",
   "execution_count": null,
   "id": "8fa573b6-71c3-4057-9407-91fab7a36191",
   "metadata": {},
   "outputs": [],
   "source": [
    "print(bigmat_nfd.shape) # cond, type, gene"
   ]
  },
  {
   "cell_type": "code",
   "execution_count": null,
   "id": "be03b254-6d74-4aae-8850-c40e6de411b1",
   "metadata": {
    "tags": []
   },
   "outputs": [],
   "source": [
    "redmat_nfd = mean_over_samples(bigmat_nfd)\n",
    "fmat_nfd, zmat_nfd = transform_bigredmat(redmat_nfd)\n",
    "print(redmat_nfd.shape) # cond, type, gene\n",
    "print(fmat_nfd.shape)   # gene, cond*type\n",
    "print(zmat_nfd.shape)   # gene, cond*type"
   ]
  },
  {
   "cell_type": "code",
   "execution_count": null,
   "id": "cd3b88ab-9ad3-4d13-8255-00e03369cdd6",
   "metadata": {
    "tags": []
   },
   "outputs": [],
   "source": [
    "from sklearn.cluster import KMeans\n",
    "def mean_shape(vec):\n",
    "    \"\"\"\n",
    "    \"\"\"\n",
    "    loc = np.arange(len(vec))\n",
    "    \n",
    "    # vec_n = (vec-np.min(vec))/(np.max(vec)-np.min(vec))\n",
    "    vec_n = np.clip(vec, 0, None)\n",
    "    vec_n = vec_n/np.sum(vec_n)\n",
    "    \n",
    "    ctrd = loc.dot(vec_n)\n",
    "    return ctrd\n",
    "\n",
    "def organize_zmat(zmat, fmat, redmat, title='', n_geneset_clsts=5, genes=None):\n",
    "    \"\"\"NOTE THAT THE ORDER OF COND is DIFFERRENT BETWEEN (zmat, fmat) - DR first) and (redmat) - NR first)\n",
    "    \"\"\"\n",
    "    method = KMeans(n_clusters=n_geneset_clsts, n_init=10, random_state=0)\n",
    "    geneset_clst = method.fit_predict(zmat)\n",
    "\n",
    "    # average over genes per geneset and cell clusters - leave genesets and conditions there\n",
    "    time_sketches = []\n",
    "    for i in range(n_geneset_clsts):\n",
    "        time_sketch = np.mean(redmat[:,:,geneset_clst==i], axis=2) # mean over genes\n",
    "        time_sketch = np.max(time_sketch, axis=1) # max over cell types\n",
    "        time_sketches.append(time_sketch)\n",
    "    time_sketches = np.vstack(time_sketches)[:,4:] # n_geneset_clsts, n_cond (select NR only)\n",
    "\n",
    "    # clst_order = [2,1,3,4,0]\n",
    "    # clst_order = np.argsort(np.argmax(ctrds, axis=1)) \n",
    "    clst_order = np.argsort([mean_shape(time_sketch) for time_sketch in time_sketches]) \n",
    "    geneset_clst_renamed = pd.Series({clst: i for i, clst in enumerate(clst_order)}).reindex(geneset_clst).values\n",
    "    geneset_order = np.argsort(geneset_clst_renamed)\n",
    "    \n",
    "    # reorder \n",
    "    genes_ordered = genes[geneset_order]\n",
    "    clsts_ordered = geneset_clst_renamed[geneset_order]\n",
    "    zmat_ordered = zmat[geneset_order] \n",
    "    fmat_ordered = fmat[geneset_order] \n",
    "    \n",
    "    # gene list per group\n",
    "    geneset_list = []\n",
    "    for i in range(n_geneset_clsts):\n",
    "        geneset_list.append(genes_ordered[clsts_ordered==i])\n",
    "    \n",
    "    res = {\n",
    "        'title': title,\n",
    "        'order': geneset_order,\n",
    "        'zmat':  zmat_ordered,\n",
    "        'fmat':  fmat_ordered,\n",
    "        'genes': genes_ordered,\n",
    "        'clst':  clsts_ordered,\n",
    "        'time_sketches':  time_sketches[clst_order],\n",
    "        'geneset_list': geneset_list,\n",
    "    }\n",
    "    return res"
   ]
  },
  {
   "cell_type": "code",
   "execution_count": null,
   "id": "58af3ac9-a69a-42f1-9663-7c7862e14129",
   "metadata": {
    "tags": []
   },
   "outputs": [],
   "source": [
    "def calc_del(red_y):\n",
    "    del_t = np.mean(red_y[7+3]-red_y[3+3], axis=0) # mean over ABC\n",
    "    del_v21 = np.mean(-red_y[7+3]+red_y[3], axis=0) # mean over ABC\n",
    "    del_v17 = np.mean(-red_y[7+2]+red_y[2], axis=0)\n",
    "    del_v14 = np.mean(-red_y[7+1]+red_y[1], axis=0)\n",
    "    del_v12 = np.mean(-red_y[7+0]+red_y[0], axis=0)\n",
    "\n",
    "    del_varr = np.array([del_v21, del_v17, del_v14, del_v12])\n",
    "    del_v = np.mean(del_varr, axis=0) # mean over time\n",
    "    del_v1721 = np.mean(del_varr[:2], axis=0) # mean over time\n",
    "    \n",
    "    return del_t, del_v, del_v21\n",
    "\n",
    "def calc_del_typespec(red_y):\n",
    "    del_t   = red_y[7+3]-red_y[3+3] # (n_type, n_gene)\n",
    "    del_v21 = -red_y[7+3]+red_y[3]  #\n",
    "    del_v17 = -red_y[7+2]+red_y[2]\n",
    "    del_v14 = -red_y[7+1]+red_y[1]\n",
    "    del_v12 = -red_y[7+0]+red_y[0]\n",
    "\n",
    "    del_varr = np.array([del_v21, del_v17, del_v14, del_v12])\n",
    "    del_v = np.mean(del_varr, axis=0) # mean over time\n",
    "    del_v1721 = np.mean(del_varr[:2], axis=0) # mean over time\n",
    "    \n",
    "    return del_t, del_v, del_v21"
   ]
  },
  {
   "cell_type": "markdown",
   "id": "6a8773c6-2890-44d5-bfe9-652d08066f83",
   "metadata": {},
   "source": [
    "# Quantify time vs DR effect\n",
    "- late are DR sensitive\n",
    "- (P21NR-P10NR) vs (P21NR vs DR)\n",
    "- refine this as the average time effect vs average DR effect"
   ]
  },
  {
   "cell_type": "code",
   "execution_count": null,
   "id": "e596f55a-7f4e-4b22-88ca-7b71dc303128",
   "metadata": {},
   "outputs": [],
   "source": [
    "times = np.array([6,8,10,12,14,17,21])\n",
    "dr_times = np.array([12,14,17,21])"
   ]
  },
  {
   "cell_type": "code",
   "execution_count": null,
   "id": "e9842e64-0c58-4518-8dd6-79f65c9fca6b",
   "metadata": {
    "tags": []
   },
   "outputs": [],
   "source": [
    "from matplotlib.colors import LinearSegmentedColormap\n",
    "\n",
    "colors_a = [(0.0, 'black'), (1.0, 'C0')]      \n",
    "colors_b = [(0.0, 'black'), (1.0, 'C1')]      \n",
    "colors_c = [(0.0, 'black'), (1.0, 'C2')]      \n",
    "\n",
    "# Create a custom colormap using LinearSegmentedColormap\n",
    "cmap_a = LinearSegmentedColormap.from_list('cmap_a', colors_a)\n",
    "cmap_b = LinearSegmentedColormap.from_list('cmap_b', colors_b)\n",
    "cmap_c = LinearSegmentedColormap.from_list('cmap_c', colors_c)\n",
    "\n",
    "colors_l23 = [\n",
    "    np.array(cmap_a(1.0)),\n",
    "    0.7*np.array(cmap_a(1.0))+0.3*np.array(cmap_b(1.0)),\n",
    "    np.array(cmap_b(1.0)),\n",
    "    0.7*np.array(cmap_b(1.0))+0.3*np.array(cmap_c(1.0)),\n",
    "    np.array(cmap_c(1.0)),\n",
    "]"
   ]
  },
  {
   "cell_type": "code",
   "execution_count": null,
   "id": "19f39b06-b77c-478c-b522-55568fae5872",
   "metadata": {
    "tags": []
   },
   "outputs": [],
   "source": [
    "from sklearn.metrics import r2_score"
   ]
  },
  {
   "cell_type": "code",
   "execution_count": null,
   "id": "bcba75fc-bc5a-40c6-b4af-64ac6b05b659",
   "metadata": {
    "tags": []
   },
   "outputs": [],
   "source": [
    "genes = adata.var.index.values\n",
    "genes"
   ]
  },
  {
   "cell_type": "code",
   "execution_count": null,
   "id": "4a155db0-4896-429f-98cc-79bab1a79498",
   "metadata": {
    "tags": []
   },
   "outputs": [],
   "source": [
    "cond_sig_hvg = np.array([g in genes_alltime_hvgs for g in genes])\n",
    "cond_sig_hvg"
   ]
  },
  {
   "cell_type": "code",
   "execution_count": null,
   "id": "240e9751-c178-468f-85d6-6b41bd0f4287",
   "metadata": {
    "tags": []
   },
   "outputs": [],
   "source": [
    "cond_sig_hvg.sum()"
   ]
  },
  {
   "cell_type": "code",
   "execution_count": null,
   "id": "ffeedf43-56a1-4628-946b-9905b27d43a1",
   "metadata": {
    "tags": []
   },
   "outputs": [],
   "source": [
    "big_y = bigmat_nfd[:,:,cond_sig_hvg]\n",
    "red_y = mean_over_samples(big_y)\n",
    "del_t, del_v, del_v21 = calc_del(red_y)"
   ]
  },
  {
   "cell_type": "code",
   "execution_count": null,
   "id": "698d8883-e68a-4caf-9617-9d7a12730d5c",
   "metadata": {
    "tags": []
   },
   "outputs": [],
   "source": [
    "big_y.shape, del_t.shape, del_v.shape"
   ]
  },
  {
   "cell_type": "code",
   "execution_count": null,
   "id": "898111aa-fb3d-4ad8-bb75-548694168e32",
   "metadata": {
    "tags": []
   },
   "outputs": [],
   "source": [
    "_x = del_t\n",
    "_y = del_v\n",
    "genes_plot = genes[cond_sig_hvg]\n",
    "\n",
    "highlights = genes_plot[np.argsort(np.abs(_y))[::-1][:50]]\n",
    "print(highlights)\n",
    "\n",
    "cond_high = basicu.get_index_from_array(genes_plot, highlights)\n",
    "\n",
    "\n",
    "n = len(_x)\n",
    "\n",
    "r, _ = stats.pearsonr(_x, _y)\n",
    "slope, intercept = np.polyfit(_x, _y, 1)\n",
    "xbase = np.linspace(-4,5,5) \n",
    "ybase = slope*xbase + intercept\n",
    "r2 = r2_score(_y, _x*slope+intercept)\n",
    "assert r**2 - r2 < 1e-3\n",
    "\n",
    "fig, ax = plt.subplots(figsize=(8,6))\n",
    "ax.scatter(_x, _y, s=5, color='lightgray')#s=10, facecolors='none', edgecolors='C0', linewidths=1)\n",
    "ax.scatter(_x[cond_high], _y[cond_high], s=5, color='C1')#s=10, facecolors='none', edgecolors='C0', linewidths=1)\n",
    "for xc, yc, name in zip(_x[cond_high], _y[cond_high], highlights):\n",
    "    ax.text(xc, yc, name, fontsize=10)\n",
    "    \n",
    "ax.plot(xbase, ybase, '--r', linewidth=1) #, zorder=0)\n",
    "ax.axvline(0, color='gray',  linewidth=1, zorder=0)\n",
    "ax.axhline(0, color='gray',  linewidth=1, zorder=0)\n",
    "ax.grid(False)\n",
    "sns.despine(ax=ax)\n",
    "ax.set_ylabel('log2(DR/NR)')\n",
    "ax.set_xlabel('log2(P21/P10)')\n",
    "ax.set_title(f'y={slope:.2f}x{intercept:.2f}; r={r:.2f}; n={n}', fontsize=15)\n",
    "\n",
    "# output = os.path.join(outfigdir, f'time_vs_dr_linear.pdf') \n",
    "# powerplots.savefig_autodate(fig, output)\n",
    "plt.show()"
   ]
  },
  {
   "cell_type": "code",
   "execution_count": null,
   "id": "ac95cac9-c87d-4020-bce4-f6bf01ade84f",
   "metadata": {
    "tags": []
   },
   "outputs": [],
   "source": [
    "genes_plot = genes[cond_sig_hvg]\n",
    "highlights = np.array([\n",
    "    'Fos', 'Npas4', 'Baz1a',\n",
    "    'Nptx2', 'Egr1',\n",
    "    'Megf11', 'Pcdh15',\n",
    "    'Fosl2', 'Meis2',\n",
    "    'Sorcs3', 'Trpc6',\n",
    "])\n",
    "highlights = np.intersect1d(genes_plot, highlights)\n",
    "print(highlights)\n",
    "\n",
    "cond_high = basicu.get_index_from_array(genes_plot, highlights)\n",
    "\n",
    "_x = del_t\n",
    "_y = del_v\n",
    "\n",
    "n = len(_x)\n",
    "\n",
    "r, _ = stats.pearsonr(_x, _y)\n",
    "slope, intercept = np.polyfit(_x, _y, 1)\n",
    "xbase = np.linspace(-4,5,5) \n",
    "ybase = slope*xbase + intercept\n",
    "r2 = r2_score(_y, _x*slope+intercept)\n",
    "assert r**2 - r2 < 1e-3\n",
    "\n",
    "fig, ax = plt.subplots(figsize=(8,6))\n",
    "ax.scatter(_x, _y, s=5, color='lightgray')#s=10, facecolors='none', edgecolors='C0', linewidths=1)\n",
    "ax.scatter(_x[cond_high], _y[cond_high], s=5, color='C1')#s=10, facecolors='none', edgecolors='C0', linewidths=1)\n",
    "for xc, yc, name in zip(_x[cond_high], _y[cond_high], highlights):\n",
    "    ax.text(xc, yc, name, fontsize=10)\n",
    "    \n",
    "ax.plot(xbase, ybase, '--r', linewidth=1) #, zorder=0)\n",
    "ax.axvline(0, color='gray',  linewidth=1, zorder=0)\n",
    "ax.axhline(0, color='gray',  linewidth=1, zorder=0)\n",
    "ax.grid(False)\n",
    "sns.despine(ax=ax)\n",
    "ax.set_ylabel('log2(DR/NR)')\n",
    "ax.set_xlabel('log2(P21/P10)')\n",
    "ax.set_title(f'y={slope:.2f}x{intercept:.2f}; r={r:.2f}; n={n}', fontsize=15)\n",
    "\n",
    "# output = os.path.join(outfigdir, f'time_vs_dr_linear.pdf') \n",
    "# powerplots.savefig_autodate(fig, output)\n",
    "plt.show()"
   ]
  },
  {
   "cell_type": "code",
   "execution_count": null,
   "id": "face5a4f-8d3b-4129-8c45-78358dbc5e0e",
   "metadata": {},
   "outputs": [],
   "source": []
  },
  {
   "cell_type": "code",
   "execution_count": null,
   "id": "207de58b-1df4-4543-b594-51f1ad89af13",
   "metadata": {},
   "outputs": [],
   "source": []
  },
  {
   "cell_type": "code",
   "execution_count": null,
   "id": "a67d0280-ba87-4343-afd8-c5f030d3fbd3",
   "metadata": {},
   "outputs": [],
   "source": []
  },
  {
   "cell_type": "markdown",
   "id": "9f619836-c78d-45e4-8b9a-5c542f6f3c72",
   "metadata": {},
   "source": [
    "# different types (visualize their gradient)\n",
    "# read paper on where to include other cells"
   ]
  },
  {
   "cell_type": "code",
   "execution_count": null,
   "id": "5a7a0d85-dad3-4360-9db7-0c9e8ee42434",
   "metadata": {},
   "outputs": [],
   "source": []
  },
  {
   "cell_type": "code",
   "execution_count": null,
   "id": "82511258-59a1-4223-953b-2b0cbaf68431",
   "metadata": {},
   "outputs": [],
   "source": []
  },
  {
   "cell_type": "code",
   "execution_count": null,
   "id": "82a89eb5-2c2c-4c1b-94eb-cbe97a6b4df8",
   "metadata": {},
   "outputs": [],
   "source": []
  },
  {
   "cell_type": "code",
   "execution_count": null,
   "id": "fcec4c06-ab66-4f5f-92fb-8d5455ff0153",
   "metadata": {},
   "outputs": [],
   "source": []
  },
  {
   "cell_type": "code",
   "execution_count": null,
   "id": "b9ce2a98-f89a-4026-acd8-71dc7b38c6b8",
   "metadata": {},
   "outputs": [],
   "source": []
  },
  {
   "cell_type": "code",
   "execution_count": null,
   "id": "48159552-c073-418d-ba90-b84b6be3dbd8",
   "metadata": {},
   "outputs": [],
   "source": []
  }
 ],
 "metadata": {
  "kernelspec": {
   "display_name": "Python 3 (ipykernel)",
   "language": "python",
   "name": "python3"
  },
  "language_info": {
   "codemirror_mode": {
    "name": "ipython",
    "version": 3
   },
   "file_extension": ".py",
   "mimetype": "text/x-python",
   "name": "python",
   "nbconvert_exporter": "python",
   "pygments_lexer": "ipython3",
   "version": "3.9.16"
  }
 },
 "nbformat": 4,
 "nbformat_minor": 5
}
