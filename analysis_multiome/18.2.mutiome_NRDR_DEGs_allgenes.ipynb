{
 "cells": [
  {
   "cell_type": "code",
   "execution_count": null,
   "id": "bb214b6d-836a-49b8-93dd-a19f021215b7",
   "metadata": {
    "tags": []
   },
   "outputs": [],
   "source": [
    "import os\n",
    "import numpy as np\n",
    "import pandas as pd\n",
    "import scanpy as sc\n",
    "import anndata \n",
    "import seaborn as sns\n",
    "from scipy.stats import zscore\n",
    "import matplotlib.pyplot as plt\n",
    "import collections\n",
    "from natsort import natsorted\n",
    "\n",
    "from scipy import stats\n",
    "from scipy import sparse\n",
    "from sklearn.decomposition import PCA\n",
    "from umap import UMAP\n",
    "\n",
    "from matplotlib.colors import LinearSegmentedColormap\n",
    "\n",
    "from scroutines.config_plots import *\n",
    "from scroutines import powerplots # .config_plots import *\n",
    "from scroutines import pnmf\n",
    "from scroutines import basicu\n"
   ]
  },
  {
   "cell_type": "code",
   "execution_count": null,
   "id": "f45abc88-0cbc-4575-8035-9cb157c42bc2",
   "metadata": {},
   "outputs": [],
   "source": [
    "outdir_fig = \"/u/home/f/f7xiesnm/project-zipursky/v1-bb/v1/figures\""
   ]
  },
  {
   "cell_type": "markdown",
   "id": "ba1f61ee-ba83-4707-816d-37eb33a54b83",
   "metadata": {},
   "source": [
    "# load gene annotation and data"
   ]
  },
  {
   "cell_type": "code",
   "execution_count": null,
   "id": "e2945163-289c-48bf-9147-d5070e4deb8a",
   "metadata": {
    "tags": []
   },
   "outputs": [],
   "source": [
    "import importlib\n",
    "import scroutines\n",
    "import scroutines.gene_modules\n",
    "importlib.reload(scroutines)\n",
    "importlib.reload(scroutines.gene_modules)\n",
    "\n",
    "from scroutines.gene_modules import GeneModules  \n",
    "gene_modules = GeneModules()\n",
    "g_anno, g_color, g_styled = gene_modules.check_genes('Cdh13')\n",
    "print(\"\\t\".join(g_anno))\n",
    "print(\"\\t\".join(g_color))\n",
    "print(\"\\t\".join(g_styled))"
   ]
  },
  {
   "cell_type": "code",
   "execution_count": null,
   "id": "012e0c55-888e-43b8-bb75-846ef63d3f26",
   "metadata": {
    "tags": []
   },
   "outputs": [],
   "source": [
    "# AC genes\n",
    "f = '/u/home/f/f7xiesnm/project-zipursky/v1-bb/v1/data/v1_multiome/Saumya_P6-21_AC_genes.csv'\n",
    "df = pd.read_csv(f)\n",
    "\n",
    "df_a = df.iloc[:25]\n",
    "df_c = df.iloc[25:]\n",
    "\n",
    "alltime_a = np.unique(df_a.values)\n",
    "alltime_c = np.unique(df_c.values)\n",
    "alltime_ac = np.hstack([alltime_a, alltime_c])\n",
    "\n",
    "ac_overlap = np.intersect1d(alltime_a, alltime_c)\n",
    "\n",
    "print(df_a.shape, df_c.shape, alltime_a.shape, alltime_c.shape, alltime_ac.shape, ac_overlap.shape)\n",
    "df.head()"
   ]
  },
  {
   "cell_type": "code",
   "execution_count": null,
   "id": "fb72ade4-5ddd-4d8d-9d66-847375e16845",
   "metadata": {},
   "outputs": [],
   "source": [
    "# use those 286 genes\n",
    "# df = pd.read_csv(\"../../data/cheng21_cell_scrna/res/candidate_genes_vincent_0503_v2.csv\")\n",
    "df = pd.read_csv(\"../../data/cheng21_cell_scrna/res/L23-ABC-genes-n288-n286unq-annot.csv\")\n",
    "genes_l23 = df['gene'].astype(str).values\n",
    "genes_l23a = df[df['P17on']=='A']['gene'].astype(str).values\n",
    "genes_l23b = df[df['P17on']=='B']['gene'].astype(str).values\n",
    "genes_l23c = df[df['P17on']=='C']['gene'].astype(str).values\n",
    "\n",
    "print(genes_l23a.shape, genes_l23b.shape, genes_l23c.shape)\n",
    "genes_grp = df['P17on'].astype(str).values\n",
    "assert len(genes_l23) == len(np.unique(genes_l23))\n",
    "\n",
    "genes_l23.shape"
   ]
  },
  {
   "cell_type": "code",
   "execution_count": null,
   "id": "8542eec8-b8e1-4a35-9237-0d3c0043349b",
   "metadata": {},
   "outputs": [],
   "source": [
    "%%time\n",
    "adata0 = anndata.read(\"../../data/v1_multiome/L23_allmultiome_proc_P6toP21.h5ad\", backed='r')\n",
    "adata = anndata.read(\"../../data/v1_multiome/L23_allmultiome_proc_P6toP21_NRDR.h5ad\")\n",
    "adata"
   ]
  },
  {
   "cell_type": "code",
   "execution_count": null,
   "id": "4909ea27-eafc-4571-aee4-afb718a5a171",
   "metadata": {
    "tags": []
   },
   "outputs": [],
   "source": [
    "# # define\n",
    "genes0 = adata0.var.index.values\n",
    "genes = adata.var.index.values\n",
    "conds = adata.obs['cond'].values\n",
    "types = adata.obs['Type'].values\n",
    "samps = adata.obs['sample'].values\n",
    "\n",
    "# switch back to float64\n",
    "adata.layers[    'norm'] = adata.layers['norm'][...].astype(np.float64)\n",
    "adata.layers[ 'lognorm'] = np.log10(1+adata.layers['norm'][...]) # np.array(xln.todense())\n",
    "adata.layers['zlognorm'] = zscore(adata.layers['lognorm'][...], axis=0)"
   ]
  },
  {
   "cell_type": "code",
   "execution_count": null,
   "id": "b20c197e-c873-46d5-800a-791e75583446",
   "metadata": {
    "tags": []
   },
   "outputs": [],
   "source": [
    "f_rna1 = '/u/home/f/f7xiesnm/project-zipursky/v1-bb/v1/data/v1_multiome/rna_qs_avc_p6to21.txt'\n",
    "f_rna2 = '/u/home/f/f7xiesnm/project-zipursky/v1-bb/v1/data/v1_multiome/rna_l2fc_avc_p6to21.txt'\n",
    "\n",
    "rna_qs_avc = np.loadtxt(f_rna1)\n",
    "rna_l2fc_avc = np.loadtxt(f_rna2)\n",
    "\n",
    "rna_qs_avc.shape, rna_l2fc_avc.shape"
   ]
  },
  {
   "cell_type": "code",
   "execution_count": null,
   "id": "bce82d7f-7e58-419c-95ff-55dc7f434877",
   "metadata": {
    "tags": []
   },
   "outputs": [],
   "source": [
    "time_series = [6,8,10,12,14,17,21]"
   ]
  },
  {
   "cell_type": "code",
   "execution_count": null,
   "id": "e46d5a94-35f6-4d9c-ab71-a0260eb80c52",
   "metadata": {
    "tags": []
   },
   "outputs": [],
   "source": [
    "# get avsc genes\n",
    "\n",
    "# genes = adata_rna.var.index.values\n",
    "degs_a = []\n",
    "degs_c = []\n",
    "for i, t in enumerate(time_series):\n",
    "    cond_a = np.logical_and(rna_qs_avc[i]<0.05, rna_l2fc_avc[i] < -1)\n",
    "    cond_c = np.logical_and(rna_qs_avc[i]<0.05, rna_l2fc_avc[i] >  1)\n",
    "    deg_a = np.sort(genes0[cond_a])\n",
    "    deg_c = np.sort(genes0[cond_c])\n",
    "    degs_a.append(deg_a)\n",
    "    degs_c.append(deg_c)\n",
    "    \n",
    "    print(f\"{t}\")\n",
    "    _, _, gs = gene_modules.check_genes(deg_a)\n",
    "    print(\"\\t\".join(gs))\n",
    "    print(\"\\033[0;m ---\")\n",
    "    _, _, gs = gene_modules.check_genes(deg_c)\n",
    "    print(\"\\t\".join(gs))\n",
    "    print(\"\\033[0;m ---\")\n",
    "\n"
   ]
  },
  {
   "cell_type": "code",
   "execution_count": null,
   "id": "abfb9e7a-ff4f-4da4-a777-7084a1baa91d",
   "metadata": {
    "tags": []
   },
   "outputs": [],
   "source": [
    "degs_ac = np.unique(np.hstack([np.hstack(degs_a), np.hstack(degs_c)]))\n",
    "degs_ac, degs_ac.shape"
   ]
  },
  {
   "cell_type": "code",
   "execution_count": null,
   "id": "ce3423ba-9e66-4139-ae6c-532c34b377f5",
   "metadata": {},
   "outputs": [],
   "source": []
  },
  {
   "cell_type": "code",
   "execution_count": null,
   "id": "62c81d3a-5aa0-4afe-94a7-5884260ac29b",
   "metadata": {},
   "outputs": [],
   "source": []
  },
  {
   "cell_type": "code",
   "execution_count": null,
   "id": "0718241d-6f7c-4753-8c42-ad3ab5aab780",
   "metadata": {},
   "outputs": [],
   "source": []
  },
  {
   "cell_type": "code",
   "execution_count": null,
   "id": "43b88094-8bac-4370-af30-109170ecd46d",
   "metadata": {},
   "outputs": [],
   "source": []
  },
  {
   "cell_type": "code",
   "execution_count": null,
   "id": "2710199e-e053-41b4-9838-dc1f261e1b22",
   "metadata": {
    "tags": []
   },
   "outputs": [],
   "source": [
    "pcs_p8 = adata.obsm['pca_p8']\n",
    "pcs_p17on = adata.obsm['pca_p17on']\n",
    "\n",
    "# res0 = pd.DataFrame(adata.layers['zlognorm'][...], columns=genes)\n",
    "# res0['cond'] = conds\n",
    "# res0['type'] = types\n",
    "# res0['samp'] = samps\n",
    "# res0['rep']  = [samp[-1] for samp in samps]\n",
    "# res0['type'] = np.char.add('c', res0['type'].values.astype(str))\n",
    "\n",
    "# res1 = pd.DataFrame(pcs_p8, columns=np.char.add(\"p8PC\", ((1+np.arange(pcs_p8.shape[1])).astype(str))))\n",
    "# res2 = pd.DataFrame(pcs_p17on, columns=np.char.add(\"p17onPC\", ((1+np.arange(pcs_p17on.shape[1])).astype(str))))\n",
    "# res = pd.concat([res0, res1, res2], axis=1)"
   ]
  },
  {
   "cell_type": "code",
   "execution_count": null,
   "id": "7d39cdaa-ad88-4aa2-8313-5ee56c0f37e8",
   "metadata": {
    "tags": []
   },
   "outputs": [],
   "source": [
    "allcolors = sns.color_palette('tab20c', 20)\n",
    "allcolors"
   ]
  },
  {
   "cell_type": "code",
   "execution_count": null,
   "id": "b9738b71-19bb-4e6d-ba3d-e38215a3347b",
   "metadata": {
    "tags": []
   },
   "outputs": [],
   "source": [
    "allcolors2 = sns.color_palette('tab10', 20)\n",
    "allcolors2"
   ]
  },
  {
   "cell_type": "code",
   "execution_count": null,
   "id": "db9d486b-0114-4788-99cb-4e9372318ccc",
   "metadata": {
    "tags": []
   },
   "outputs": [],
   "source": [
    "palette = collections.OrderedDict({\n",
    "     \"P6\": allcolors[2],\n",
    "     \"P8\": allcolors[1],\n",
    "    \"P10\": allcolors[0],\n",
    "    \"P12\": allcolors[4+2],\n",
    "    \"P14\": allcolors[4+0],\n",
    "    \n",
    "    \"P17\": allcolors[8+2],\n",
    "    \"P21\": allcolors[8+0],\n",
    "    \n",
    "    \"P12DR\": allcolors[8+2],\n",
    "    \"P14DR\": allcolors[8+0],\n",
    "    \"P17DR\": allcolors[8+0],\n",
    "    \"P21DR\": allcolors[8+0],\n",
    "    \n",
    "})\n",
    "cases = np.array(list(palette.keys()))\n",
    "\n",
    "cond_order_dict = {\n",
    "    'P6':  0,\n",
    "    'P8':  1,\n",
    "    'P10': 2,\n",
    "    'P12': 3,\n",
    "    'P14': 4,\n",
    "    'P17': 5,\n",
    "    'P21': 6,\n",
    "    \n",
    "    'P12DR': 7,\n",
    "    'P14DR': 8,\n",
    "    'P17DR': 9,\n",
    "    'P21DR': 10,\n",
    "}\n",
    "unq_conds = np.array(list(cond_order_dict.keys()))\n",
    "\n",
    "adata.obs['cond_order'] = adata.obs['cond'].apply(lambda x: cond_order_dict[x]).astype(int)\n",
    "\n",
    "palette_types = collections.OrderedDict({\n",
    "    'L2/3_A': allcolors2[0],\n",
    "    'L2/3_B': allcolors2[1],\n",
    "    'L2/3_C': allcolors2[2],\n",
    "})             \n",
    "\n",
    "palette_types = {\n",
    "    'c14': 'C0', \n",
    "    'c18': 'C1',\n",
    "    'c16': 'C2', \n",
    "    \n",
    "    'c13': 'C0', \n",
    "    'c15': 'C1', \n",
    "    'c17': 'C2',\n",
    "}\n",
    "type_order = [key for key, val in palette_types.items()]\n",
    "type_order"
   ]
  },
  {
   "cell_type": "code",
   "execution_count": null,
   "id": "092f2cfa-1238-4fb1-b42d-13921e417816",
   "metadata": {
    "tags": []
   },
   "outputs": [],
   "source": [
    "# plot('p17onPC1', 'p17onPC2', aspect_equal=True)\n",
    "# plot('p8PC1', 'p8PC2', aspect_equal=True)"
   ]
  },
  {
   "cell_type": "code",
   "execution_count": null,
   "id": "040d3643-2a42-4d32-a964-2253afb15745",
   "metadata": {
    "tags": []
   },
   "outputs": [],
   "source": [
    "np.unique(adata.obs['cond_order']) #.unique())"
   ]
  },
  {
   "cell_type": "code",
   "execution_count": null,
   "id": "2ebdceac-67b8-45f5-b8c3-8975277bc95f",
   "metadata": {},
   "outputs": [],
   "source": []
  },
  {
   "cell_type": "markdown",
   "id": "f2273d28-a649-4b3e-b17c-75eaea4476f2",
   "metadata": {},
   "source": [
    "# get top 20% A vs C in each case"
   ]
  },
  {
   "cell_type": "code",
   "execution_count": null,
   "id": "e6efe821-a677-4357-b509-75bb28cdaf94",
   "metadata": {
    "tags": []
   },
   "outputs": [],
   "source": [
    "from statsmodels.stats.multitest import multipletests"
   ]
  },
  {
   "cell_type": "code",
   "execution_count": null,
   "id": "ab23927f-e7d4-4bac-a5c5-62698940f064",
   "metadata": {
    "tags": []
   },
   "outputs": [],
   "source": [
    "\n",
    "### select C genes - no\n",
    "# adata = adata[:,degs_ac]\n",
    "# genes = adata.var.index.values\n",
    "# adata"
   ]
  },
  {
   "cell_type": "code",
   "execution_count": null,
   "id": "9c2062b7-b9af-4a26-8d31-bfe9316e6888",
   "metadata": {
    "tags": []
   },
   "outputs": [],
   "source": [
    "genes_comm = adata.var.index.values\n",
    "# lfc_th, qs_th = np.log2(1.3), 0.05\n",
    "lfc_th, qs_th = np.log2(2), 0.05\n",
    "alpha_th = qs_th\n",
    "l2fc_th = lfc_th\n",
    "times = ['P12', 'P14', 'P17', 'P21']\n",
    "conds = ['P12', 'P14', 'P17', 'P21']\n",
    "\n",
    "qs_nrdr_a = []\n",
    "qs_nrdr_c = []\n",
    "l2fc_nrdr_a = []\n",
    "l2fc_nrdr_c = []\n",
    "\n",
    "for t in times: \n",
    "    \n",
    "    adatasub1 = adata[adata.obs['cond']==t]\n",
    "    adatasub2 = adata[adata.obs['cond']==t+'DR']\n",
    "\n",
    "    # get A vs C \n",
    "    x1 = adatasub1.obsm['pca_p17on'][...,0]\n",
    "    cond_1a = x1 < np.percentile(x1,20)\n",
    "    cond_1c = x1 > np.percentile(x1,80)\n",
    "    adatasub_1a = adatasub1[cond_1a]\n",
    "    adatasub_1c = adatasub1[cond_1c]\n",
    "    \n",
    "    # get A vs C \n",
    "    x2 = adatasub2.obsm['pca_p17on'][...,0]\n",
    "    cond_2a = x2 < np.percentile(x2,20)\n",
    "    cond_2c = x2 > np.percentile(x2,80)\n",
    "    adatasub_2a = adatasub2[cond_2a]\n",
    "    adatasub_2c = adatasub2[cond_2c]\n",
    "    \n",
    "    # DEGs\n",
    "    mat_1a = adatasub_1a.layers['lognorm'][...]\n",
    "    mat_1c = adatasub_1c.layers['lognorm'][...]\n",
    "    mat_2a = adatasub_2a.layers['lognorm'][...]\n",
    "    mat_2c = adatasub_2c.layers['lognorm'][...]\n",
    "    \n",
    "    ts_a, ps_a = stats.ttest_ind(mat_1a, mat_2a)\n",
    "    ts_c, ps_c = stats.ttest_ind(mat_1c, mat_2c)\n",
    "    \n",
    "    rs_a, qs_a, _, _ = multipletests(np.nan_to_num(ps_a, nan=1).reshape(-1,), method='fdr_bh') # why nan in ps -- not expressed\n",
    "    rs_c, qs_c, _, _ = multipletests(np.nan_to_num(ps_c, nan=1).reshape(-1,), method='fdr_bh') # why nan in ps -- not expressed\n",
    "    \n",
    "    lfc_a = np.log2(10)*(np.mean(mat_2a, axis=0) - np.mean(mat_1a, axis=0)) # log2FC (log10CPM as raw counts)\n",
    "    lfc_c = np.log2(10)*(np.mean(mat_2c, axis=0) - np.mean(mat_1c, axis=0)) # log2FC (log10CPM as raw counts)\n",
    "    \n",
    "    num_sig_a = np.sum(np.logical_and(qs_a < alpha_th, np.abs(lfc_a) > l2fc_th))\n",
    "    num_sig_c = np.sum(np.logical_and(qs_c < alpha_th, np.abs(lfc_c) > l2fc_th))\n",
    "    print(t, adatasub_1a.shape, adatasub_1c.shape, num_sig_a, num_sig_c)\n",
    "    \n",
    "    # save this\n",
    "    qs_nrdr_a.append(qs_a)\n",
    "    qs_nrdr_c.append(qs_c)\n",
    "    l2fc_nrdr_a.append(lfc_a)\n",
    "    l2fc_nrdr_c.append(lfc_c)\n",
    "    \n",
    "qs_nrdr_a = np.array(qs_nrdr_a)\n",
    "qs_nrdr_c = np.array(qs_nrdr_c)\n",
    "\n",
    "l2fc_nrdr_a = np.array(l2fc_nrdr_a)\n",
    "l2fc_nrdr_c = np.array(l2fc_nrdr_c)"
   ]
  },
  {
   "cell_type": "code",
   "execution_count": null,
   "id": "f1a5dcb5-ea18-4d0f-a201-aee9ee158b5f",
   "metadata": {
    "tags": []
   },
   "outputs": [],
   "source": [
    "adata.uns['qs_nrdr_a'] = qs_nrdr_a\n",
    "adata.uns['qs_nrdr_c'] = qs_nrdr_c\n",
    "\n",
    "adata.uns['l2fc_nrdr_a'] = l2fc_nrdr_a\n",
    "adata.uns['l2fc_nrdr_c'] = l2fc_nrdr_c\n",
    "adata"
   ]
  },
  {
   "cell_type": "code",
   "execution_count": null,
   "id": "a2c54f2a-e0e3-4eb2-bc43-a33702c39be4",
   "metadata": {},
   "outputs": [],
   "source": []
  },
  {
   "cell_type": "code",
   "execution_count": null,
   "id": "ae100ef8-76e9-4c00-953c-b6e78c7a79a3",
   "metadata": {},
   "outputs": [],
   "source": []
  },
  {
   "cell_type": "code",
   "execution_count": null,
   "id": "ffe24cca-dcbd-4e66-957f-b5dae1de3dd6",
   "metadata": {},
   "outputs": [],
   "source": []
  },
  {
   "cell_type": "code",
   "execution_count": null,
   "id": "00e93648-ae3c-41a8-a30d-11dc427c217b",
   "metadata": {},
   "outputs": [],
   "source": []
  },
  {
   "cell_type": "code",
   "execution_count": null,
   "id": "dd2e7261-6a41-42fb-aa63-df5aa04bade4",
   "metadata": {
    "tags": []
   },
   "outputs": [],
   "source": [
    "cond_sig_a = np.logical_and(qs_nrdr_a < alpha_th, np.abs(l2fc_nrdr_a) > l2fc_th)\n",
    "cond_sig_c = np.logical_and(qs_nrdr_c < alpha_th, np.abs(l2fc_nrdr_c) > l2fc_th)\n",
    "\n",
    "# print('num AvsC-DEGs per cond:\\t', cond_sig.sum(axis=1))\n",
    "print('num A-DEGs per cond:\\t',    cond_sig_a.sum(axis=1))\n",
    "print('num C-DEGs per cond:\\t',    cond_sig_c.sum(axis=1))"
   ]
  },
  {
   "cell_type": "code",
   "execution_count": null,
   "id": "08acf031-42f7-4a23-bbdc-3dcb81eb43b8",
   "metadata": {
    "tags": []
   },
   "outputs": [],
   "source": [
    "# gene_sig_instances   = cond_sig.sum(axis=0)\n",
    "gene_sig_instances_a = cond_sig_a.sum(axis=0)\n",
    "gene_sig_instances_c = cond_sig_c.sum(axis=0)\n",
    "\n",
    "# instances, counts = np.unique(gene_sig_instances, return_counts=True)\n",
    "instances_a, counts_a = np.unique(gene_sig_instances_a, return_counts=True)\n",
    "instances_c, counts_c = np.unique(gene_sig_instances_c, return_counts=True)\n",
    "\n",
    "# print('num AvsC-DEGs in num conds:\\t',  counts  , np.any(cond_sig, axis=0).sum())\n",
    "print('num A-DEGs in num conds:\\t', instances_a, counts_a, np.any(cond_sig_a, axis=0).sum())\n",
    "print('num C-DEGs in num conds:\\t', instances_c, counts_c, np.any(cond_sig_c, axis=0).sum())"
   ]
  },
  {
   "cell_type": "code",
   "execution_count": null,
   "id": "e849ad65-3232-4ae4-a6eb-0b6a608df459",
   "metadata": {
    "tags": []
   },
   "outputs": [],
   "source": [
    "a_any = np.sort(adata.var[np.any(cond_sig_a, axis=0)].index.values)\n",
    "c_any = np.sort(adata.var[np.any(cond_sig_c, axis=0)].index.values)\n",
    "a_all = np.sort(adata.var[np.all(cond_sig_a, axis=0)].index.values)\n",
    "c_all = np.sort(adata.var[np.all(cond_sig_c, axis=0)].index.values)\n",
    "ac_overlap = np.sort(adata.var[np.logical_and(np.any(cond_sig_a, axis=0), np.any(cond_sig_c, axis=0))].index.values)\n",
    "\n",
    "print('a any', a_any)\n",
    "print('c any', c_any)\n",
    "print('a all', a_all)\n",
    "print('c all', c_all)\n",
    "print('ac overlap', ac_overlap)"
   ]
  },
  {
   "cell_type": "code",
   "execution_count": null,
   "id": "ac1f411d-7463-4b75-bf4a-dd4ae4185490",
   "metadata": {
    "tags": []
   },
   "outputs": [],
   "source": [
    "_, _, a_any_styled = gene_modules.check_genes(a_any)\n",
    "_, _, c_any_styled = gene_modules.check_genes(c_any)\n",
    "\n",
    "print(\"\\033[0;m anytime A:\", \"\\t\".join(a_any_styled))\n",
    "print(\"\\033[0;m anytime C:\", \"\\t\".join(c_any_styled))"
   ]
  },
  {
   "cell_type": "code",
   "execution_count": null,
   "id": "83c3811a-dcf3-4985-93e7-031100d4e684",
   "metadata": {},
   "outputs": [],
   "source": [
    "# %%time\n",
    "# fout1 = '/u/home/f/f7xiesnm/project-zipursky/v1-bb/v1/data/v1_multiome/rna_qs_avc_p6to21.txt'\n",
    "# fout2 = '/u/home/f/f7xiesnm/project-zipursky/v1-bb/v1/data/v1_multiome/rna_l2fc_avc_p6to21.txt'\n",
    "\n",
    "# np.savetxt(fout1, qs_avc)\n",
    "# np.savetxt(fout2, l2fc_avc)"
   ]
  },
  {
   "cell_type": "markdown",
   "id": "b3848f6e-1365-4f5a-9d7e-cbc6ddcbd4b6",
   "metadata": {},
   "source": [
    "# Volcano"
   ]
  },
  {
   "cell_type": "code",
   "execution_count": null,
   "id": "dca633d6-8bbf-43ac-87c2-fcd773d33ccf",
   "metadata": {
    "tags": []
   },
   "outputs": [],
   "source": [
    "def show_volcano_v2(thetypeidx, thetype, lfc, qs,\n",
    "                    cond1, cond2up, cond2dn, \n",
    "                    querygenes_idx=None, \n",
    "                    gene_annots=None,\n",
    "                    ax=None, bbox_to_anchor=(1,1), loc=None,\n",
    "                    clip_p=None,\n",
    "                   ): \n",
    "    \"\"\"\n",
    "    \"\"\"\n",
    "    eff = lfc[:,thetypeidx]\n",
    "    pvl = -np.log10(qs[:,thetypeidx])\n",
    "    if clip_p is not None:\n",
    "        pvl = np.clip(pvl, None, clip_p)\n",
    "    cnd_up = np.all([cond1[:,thetypeidx], \n",
    "                     cond2up[:,thetypeidx]], axis=0) \n",
    "    cnd_dn = np.all([cond1[:,thetypeidx], \n",
    "                     cond2dn[:,thetypeidx]], axis=0) \n",
    "\n",
    "    if ax is None: \n",
    "        fig, ax = plt.subplots()\n",
    "    \n",
    "    # all genes\n",
    "    ax.scatter(eff, pvl, s=1, color='lightgray', rasterized=True)\n",
    "    print(cnd_up.sum())\n",
    "\n",
    "    # up genes\n",
    "    ax.scatter(eff[cnd_up], pvl[cnd_up], s=3, color='C0', rasterized=True)\n",
    "    # dn genes\n",
    "    ax.scatter(eff[cnd_dn], pvl[cnd_dn], s=3, color='C1', rasterized=True)\n",
    "    \n",
    "    # # query genes\n",
    "    # add text\n",
    "    if querygenes_idx is not None:\n",
    "        ax.scatter(eff[querygenes_idx], pvl[querygenes_idx], s=15, \n",
    "                   # label=f'type-specific (n={len(querygenes_idx):,})',\n",
    "                   facecolors='none', edgecolors='k', linewidth=1, rasterized=True)\n",
    "        for idx in querygenes_idx:\n",
    "            ax.text(eff[idx], pvl[idx], gene_annots[idx], fontsize=10)\n",
    "\n",
    "            \n",
    "    # ax.grid(axis='y')\n",
    "    sns.despine(ax=ax)\n",
    "    ax.set_xlabel('log2(FC) (C/A in CP10k)')\n",
    "    ax.set_ylabel('-log10(adj. p)')\n",
    "    ax.set_title(f'{thetype}')\n",
    "    ax.text(1,0.1,\n",
    "            f'up (n={cnd_up.sum():,})\\ndown (n={cnd_dn.sum():,})', \n",
    "            ha='right',\n",
    "            fontsize=10, transform=ax.transAxes)\n",
    "    return "
   ]
  },
  {
   "cell_type": "code",
   "execution_count": null,
   "id": "2fff3f5a-846b-4798-bc47-8d09b4e292cc",
   "metadata": {
    "tags": []
   },
   "outputs": [],
   "source": [
    "unq_condidx = np.unique(adata.obs['cond_order']) #.unique()\n",
    "unq_condidx # , unq_conds"
   ]
  },
  {
   "cell_type": "code",
   "execution_count": null,
   "id": "171443b5-fe89-4513-94ed-d64a0134e85d",
   "metadata": {
    "tags": []
   },
   "outputs": [],
   "source": []
  },
  {
   "cell_type": "code",
   "execution_count": null,
   "id": "ed91043c-0d42-4da6-8073-580098d269a3",
   "metadata": {
    "tags": []
   },
   "outputs": [],
   "source": [
    "lfc = l2fc_nrdr_a.T #adata.uns['l2fc_avc'].T\n",
    "qs  = qs_nrdr_a.T # adata.uns['qs_avc'].T\n",
    "cond1   = qs  <  qs_th\n",
    "cond2up = lfc >  lfc_th\n",
    "cond2dn = lfc < -lfc_th\n",
    "\n",
    "querygenes = ['Fos', 'Arc', 'Nr4a2', 'Nr4a3']\n",
    "querygenes_idx = basicu.get_index_from_array(genes_comm, querygenes) \n",
    "gene_annots = genes_comm\n",
    "\n",
    "n = len(unq_conds)\n",
    "fig, axs = plt.subplots(1,4,figsize=(4*4,4*1)) # sharex=True, sharey=True)\n",
    "for cond_idx in range(4): #[3,4,5,6]: # unq_condidx:\n",
    "    ax = axs[cond_idx]\n",
    "    thecond = conds[cond_idx]\n",
    "    show_volcano_v2(cond_idx, thecond, lfc, qs, cond1, cond2up, cond2dn, \n",
    "                    clip_p=None,\n",
    "                    querygenes_idx=querygenes_idx, \n",
    "                    gene_annots=genes_comm,\n",
    "                    ax=ax, bbox_to_anchor=(0.5, -0.3), loc='upper center')\n",
    "    sns.despine(ax=ax)\n",
    "fig.tight_layout()\n",
    "plt.show()"
   ]
  },
  {
   "cell_type": "code",
   "execution_count": null,
   "id": "4c773acf-b538-4092-a6fc-2e5c5d3489ff",
   "metadata": {
    "tags": []
   },
   "outputs": [],
   "source": [
    "# genes = adata_rna.var.index.values\n",
    "\n",
    "degs_a_dn = []\n",
    "degs_a_up = []\n",
    "for i, t in enumerate(conds):\n",
    "    cond_a_dn = np.logical_and(qs_nrdr_a[i]<0.05, l2fc_nrdr_a[i] < -lfc_th)\n",
    "    cond_a_up = np.logical_and(qs_nrdr_a[i]<0.05, l2fc_nrdr_a[i] >  lfc_th)\n",
    "    \n",
    "    deg_a_dn = np.sort(genes[cond_a_dn])\n",
    "    deg_a_up = np.sort(genes[cond_a_up])\n",
    "    degs_a_dn.append(deg_a_dn)\n",
    "    degs_a_up.append(deg_a_up)\n",
    "    \n",
    "    print(f\"{t}\")\n",
    "    if len(deg_a_dn) > 0:\n",
    "        _, _, gs = gene_modules.check_genes(deg_a_dn)\n",
    "        print(\"\\t\".join(gs))\n",
    "    print(\"\\033[0;m ---\")\n",
    "    if len(deg_a_up) > 0:\n",
    "        _, _, gs = gene_modules.check_genes(deg_a_up)\n",
    "        print(\"\\t\".join(gs))\n",
    "    print(\"\\033[0;m ---\")\n",
    "    "
   ]
  },
  {
   "cell_type": "code",
   "execution_count": null,
   "id": "3540a9ff-0003-4465-8335-25552182c7ad",
   "metadata": {
    "tags": []
   },
   "outputs": [],
   "source": [
    "# genes = adata_rna.var.index.values\n",
    "\n",
    "degs_c_dn = []\n",
    "degs_c_up = []\n",
    "for i, t in enumerate(conds):\n",
    "    cond_c_dn = np.logical_and(qs_nrdr_c[i]<0.05, l2fc_nrdr_c[i] < -lfc_th)\n",
    "    cond_c_up = np.logical_and(qs_nrdr_c[i]<0.05, l2fc_nrdr_c[i] >  lfc_th)\n",
    "    \n",
    "    deg_c_dn = np.sort(genes[cond_c_dn])\n",
    "    deg_c_up = np.sort(genes[cond_c_up])\n",
    "    degs_c_dn.append(deg_c_dn)\n",
    "    degs_c_up.append(deg_c_up)\n",
    "    \n",
    "    print(f\"{t}\")\n",
    "    if len(deg_c_dn) > 0:\n",
    "        _, _, gs = gene_modules.check_genes(deg_c_dn)\n",
    "        print(\"\\t\".join(gs))\n",
    "    print(\"\\033[0;m ---\")\n",
    "    if len(deg_c_up) > 0:\n",
    "        _, _, gs = gene_modules.check_genes(deg_c_up)\n",
    "        print(\"\\t\".join(gs))\n",
    "    print(\"\\033[0;m ---\")\n",
    "    "
   ]
  },
  {
   "cell_type": "code",
   "execution_count": null,
   "id": "afb73a2f-4f6b-4081-ab83-d99a087f9213",
   "metadata": {
    "tags": []
   },
   "outputs": [],
   "source": [
    "lfc = l2fc_nrdr_c.T #adata.uns['l2fc_avc'].T\n",
    "qs  = qs_nrdr_c.T # adata.uns['qs_avc'].T\n",
    "cond1   = qs  <  qs_th\n",
    "cond2up = lfc >  lfc_th\n",
    "cond2dn = lfc < -lfc_th\n",
    "\n",
    "# querygenes = ['Ptprg', 'Sorcs3', 'Cdh20', 'Egfem1', 'Kcnh5', 'Rorb', 'Epha10', 'Pcdh15']\n",
    "querygenes = ['Fos', 'Arc', 'Nr4a2', 'Nr4a3', 'Xist']\n",
    "querygenes_idx = basicu.get_index_from_array(genes_comm, querygenes) \n",
    "gene_annots = genes_comm\n",
    "\n",
    "n = len(unq_conds)\n",
    "fig, axs = plt.subplots(1,4,figsize=(4*4,4*1)) # , sharex=True, sharey=True)\n",
    "for cond_idx in range(4): #[3,4,5,6]: # unq_condidx:\n",
    "    ax = axs[cond_idx]\n",
    "    thecond = conds[cond_idx]\n",
    "    show_volcano_v2(cond_idx, thecond, lfc, qs, cond1, cond2up, cond2dn, \n",
    "                    clip_p=None,\n",
    "                    querygenes_idx=querygenes_idx, \n",
    "                    gene_annots=genes_comm,\n",
    "                    ax=ax, bbox_to_anchor=(0.5, -0.3), loc='upper center')\n",
    "    ax.set_xticks([-1,0,1])\n",
    "    sns.despine(ax=ax)\n",
    "fig.tight_layout()\n",
    "plt.show()"
   ]
  },
  {
   "cell_type": "code",
   "execution_count": null,
   "id": "16116a8e-4100-4ac2-9b6d-42da01185c05",
   "metadata": {},
   "outputs": [],
   "source": []
  },
  {
   "cell_type": "code",
   "execution_count": null,
   "id": "c2e3f6cf-fefa-4b38-9d99-61bac7d10107",
   "metadata": {},
   "outputs": [],
   "source": []
  },
  {
   "cell_type": "code",
   "execution_count": null,
   "id": "58e3e113-0733-44dd-ae2d-320675f3065d",
   "metadata": {},
   "outputs": [],
   "source": []
  },
  {
   "cell_type": "code",
   "execution_count": null,
   "id": "8f466d27-bef8-484e-ada2-20bafacab1f9",
   "metadata": {},
   "outputs": [],
   "source": []
  }
 ],
 "metadata": {
  "kernelspec": {
   "display_name": "Python 3 (ipykernel)",
   "language": "python",
   "name": "python3"
  },
  "language_info": {
   "codemirror_mode": {
    "name": "ipython",
    "version": 3
   },
   "file_extension": ".py",
   "mimetype": "text/x-python",
   "name": "python",
   "nbconvert_exporter": "python",
   "pygments_lexer": "ipython3",
   "version": "3.9.16"
  }
 },
 "nbformat": 4,
 "nbformat_minor": 5
}
