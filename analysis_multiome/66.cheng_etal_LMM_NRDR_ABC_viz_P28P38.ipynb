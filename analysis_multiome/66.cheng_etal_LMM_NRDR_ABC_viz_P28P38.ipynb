{
 "cells": [
  {
   "cell_type": "code",
   "execution_count": null,
   "id": "bb214b6d-836a-49b8-93dd-a19f021215b7",
   "metadata": {
    "tags": []
   },
   "outputs": [],
   "source": [
    "import os\n",
    "import numpy as np\n",
    "import pandas as pd\n",
    "import scanpy as sc\n",
    "import anndata \n",
    "import seaborn as sns\n",
    "from scipy.stats import zscore\n",
    "import matplotlib.pyplot as plt\n",
    "import collections\n",
    "from natsort import natsorted\n",
    "\n",
    "from scipy import stats\n",
    "from scipy import sparse\n",
    "from sklearn.decomposition import PCA\n",
    "from umap import UMAP\n",
    "from statsmodels.stats.multitest import multipletests\n",
    "\n",
    "from matplotlib.colors import LinearSegmentedColormap\n",
    "\n",
    "from scroutines.config_plots import *\n",
    "from scroutines import powerplots # .config_plots import *\n",
    "from scroutines import pnmf\n",
    "from scroutines import basicu\n",
    "\n",
    "from scroutines.gene_modules import GeneModules  \n",
    "\n",
    "# import importlib\n",
    "# import scroutines\n",
    "# importlib.reload(scroutines)\n",
    "# from scroutines.gene_modules import GeneModules  \n"
   ]
  },
  {
   "cell_type": "code",
   "execution_count": null,
   "id": "f45abc88-0cbc-4575-8035-9cb157c42bc2",
   "metadata": {
    "tags": []
   },
   "outputs": [],
   "source": [
    "outfigdir = \"/u/home/f/f7xiesnm/project-zipursky/v1-bb/v1/figures/250409\"\n",
    "!mkdir -p $outfigdir"
   ]
  },
  {
   "cell_type": "markdown",
   "id": "ba1f61ee-ba83-4707-816d-37eb33a54b83",
   "metadata": {},
   "source": [
    "# load gene annotation and data"
   ]
  },
  {
   "cell_type": "code",
   "execution_count": null,
   "id": "e2945163-289c-48bf-9147-d5070e4deb8a",
   "metadata": {
    "tags": []
   },
   "outputs": [],
   "source": [
    "gene_modules = GeneModules()\n",
    "g, gs, ms = gene_modules.check_genes('Cdh13')\n",
    "print(\"\\t\".join(g))\n",
    "print(\"\\t\".join(gs))\n",
    "print(\"\\t\".join(ms))"
   ]
  },
  {
   "cell_type": "code",
   "execution_count": null,
   "id": "bc4ba53f-b74e-4eca-82dd-52f9cbbdb104",
   "metadata": {
    "tags": []
   },
   "outputs": [],
   "source": [
    "scores_abc = pd.read_csv(\"/u/home/f/f7xiesnm/project-zipursky/v1-bb/v1/data/v1_multiome/scores_l23abc_cheng22_250904.csv\", \n",
    "                         index_col=0,\n",
    "                        )\n",
    "scores_abc['scores_c-a'] = scores_abc['scores_c'] - scores_abc['scores_a']\n",
    "scores_abc"
   ]
  },
  {
   "cell_type": "code",
   "execution_count": null,
   "id": "8542eec8-b8e1-4a35-9237-0d3c0043349b",
   "metadata": {
    "tags": []
   },
   "outputs": [],
   "source": [
    "f = \"/u/home/f/f7xiesnm/project-zipursky/v1-bb/v1/data/v1_multiome/superdupermegaRNA_hasraw_cheng22_l23.h5ad\"\n",
    "adata = anndata.read(f) # , backed='r')\n",
    "adata = adata[adata.obs['Age'].isin(['P28', 'P28_dr', 'P38', 'P38_dr'])]\n",
    "adata"
   ]
  },
  {
   "cell_type": "code",
   "execution_count": null,
   "id": "345d47ef-df93-4066-b2dd-382bac604a7c",
   "metadata": {
    "tags": []
   },
   "outputs": [],
   "source": [
    "adata.X = adata.raw.X"
   ]
  },
  {
   "cell_type": "code",
   "execution_count": null,
   "id": "47c07c89-4d36-4d6d-b4e5-305180e5bd7b",
   "metadata": {
    "tags": []
   },
   "outputs": [],
   "source": [
    "adata.obs['scores_a'] = scores_abc.loc[adata.obs.index,'scores_a'].copy()\n",
    "adata.obs['scores_b'] = scores_abc.loc[adata.obs.index,'scores_b'].copy()\n",
    "adata.obs['scores_c'] = scores_abc.loc[adata.obs.index,'scores_c'].copy()\n",
    "adata.obs['scores_c-a'] = scores_abc.loc[adata.obs.index,'scores_c-a'].copy()"
   ]
  },
  {
   "cell_type": "code",
   "execution_count": null,
   "id": "c715643c-0748-414c-b477-4294cb85b5cc",
   "metadata": {
    "tags": []
   },
   "outputs": [],
   "source": [
    "uniq_samples = natsorted(np.unique(adata.obs['Sample'].values))\n",
    "uniq_conds = np.array(natsorted(np.unique(adata.obs['Age'].values)))\n",
    "print(uniq_conds)\n",
    "print(uniq_samples)"
   ]
  },
  {
   "cell_type": "code",
   "execution_count": null,
   "id": "4d9ae16c-9107-4acd-8405-fbcd84bd8e0d",
   "metadata": {
    "tags": []
   },
   "outputs": [],
   "source": [
    "# remove mitocondria genes\n",
    "adata = adata[:,~adata.var.index.str.contains(r'^mt-')]\n",
    "# remove sex genes\n",
    "adata = adata[:,~adata.var.index.str.contains(r'^Xist$')]\n",
    "\n",
    "# filter genes\n",
    "cond = np.ravel((adata.X>0).sum(axis=0)) > 10 # expressed in more than 10 cells\n",
    "adata = adata[:,cond].copy()"
   ]
  },
  {
   "cell_type": "code",
   "execution_count": null,
   "id": "d7f44744-2143-4267-a3e1-6b1125fdd368",
   "metadata": {
    "tags": []
   },
   "outputs": [],
   "source": [
    "adata"
   ]
  },
  {
   "cell_type": "code",
   "execution_count": null,
   "id": "1fadd441-11aa-49ab-abcc-d8d5e9cf47ea",
   "metadata": {
    "tags": []
   },
   "outputs": [],
   "source": [
    "# counts\n",
    "x = adata.X\n",
    "cov = np.ravel(np.sum(x, axis=1))\n",
    "genes = adata.var.index.values\n",
    "\n",
    "# CP10k\n",
    "xn = (sparse.diags(1/cov).dot(x))*1e4\n",
    "\n",
    "# log2(CP10k+1)\n",
    "xln = xn.copy()\n",
    "xln.data = np.log2(xln.data+1)\n",
    "\n",
    "adata.layers[    'norm'] = np.array(xn.todense())\n",
    "adata.layers[ 'lognorm'] = np.array(xln.todense())"
   ]
  },
  {
   "cell_type": "markdown",
   "id": "b50d16c6-c867-4c24-95f2-a96005c04dcb",
   "metadata": {
    "tags": []
   },
   "source": [
    "# annotate samples"
   ]
  },
  {
   "cell_type": "code",
   "execution_count": null,
   "id": "09a073e4-0140-414a-b28f-e99d6fd1424f",
   "metadata": {
    "tags": []
   },
   "outputs": [],
   "source": [
    "# adata.obs['sample'].unique()\n",
    "import re\n",
    "\n",
    "todo_conds = ['P28', 'P28_dr', 'P38', 'P38_dr']\n",
    "todo_samps = [\n",
    "    'P28_1a', 'P28_1b', \n",
    "    'P28_2a', 'P28_2b', \n",
    "    \n",
    "    'P28_dr_1a', 'P28_dr_1b', \n",
    "    'P28_dr_3a', 'P28_dr_3b', \n",
    "    \n",
    "    'P38_1a', \n",
    "    'P38_2a', 'P38_2b', \n",
    "    \n",
    "    'P38_dr_1a', 'P38_dr_1b', \n",
    "    'P38_dr_2a', 'P38_dr_2b',\n",
    "]\n",
    "\n",
    "\n",
    "todo_conds_t = np.array([int(re.sub(r'[a-zA-Z]', '', a.split('_')[0])) for a in todo_conds])\n",
    "todo_samps_t = np.array([int(re.sub(r'[a-zA-Z]', '', a.split('_')[0])) for a in todo_samps])\n",
    "print(todo_conds_t)\n",
    "print(todo_samps_t)\n",
    "\n",
    "def mean_over_samples(mmat_res_samp):\n",
    "    \"\"\"15 samples to 4 conditions\n",
    "    \"\"\"\n",
    "    assert mmat_res_samp.shape[0] == 15\n",
    "    \n",
    "    mmat_res_samp_mean = np.zeros(mmat_res_samp.shape)[:4]\n",
    "    mmat_res_samp_mean[0] = np.mean(mmat_res_samp[ :4] , axis=0)\n",
    "    mmat_res_samp_mean[1] = np.mean(mmat_res_samp[4:8] , axis=0)\n",
    "    mmat_res_samp_mean[2] = np.mean(mmat_res_samp[8:11], axis=0)\n",
    "    mmat_res_samp_mean[3] = np.mean(mmat_res_samp[11:] , axis=0)\n",
    "\n",
    "    return mmat_res_samp_mean\n",
    "\n",
    "def transform_bigredmat(bigmat, n_type):\n",
    "    \"\"\"bigmat or redmat\n",
    "    to fmat and zmat\n",
    "    \"\"\"\n",
    "    fmat = bigmat.reshape(-1, bigmat.shape[-1]).T # merge first two dimensions - move it to last dim\n",
    "    zmat = zscore(fmat, axis=1)\n",
    "    \n",
    "    return fmat, zmat"
   ]
  },
  {
   "cell_type": "code",
   "execution_count": null,
   "id": "d4059c8d-5dba-4970-8360-e9bfa32dad62",
   "metadata": {
    "tags": []
   },
   "outputs": [],
   "source": [
    "%%time\n",
    "\n",
    "offset = 1\n",
    "mat = adata.layers['norm'][...]\n",
    "gexp_l23baseline = np.log2(np.mean(mat, axis=0)*1e2+offset) # CP10k -> CPM\n",
    "\n",
    "n_type = 10\n",
    "frac_archetypal_cells_viz = 0.2\n",
    "bigmat_nfd = np.zeros((len(todo_samps), n_type, mat.shape[1]))\n",
    "bigmat_abc = np.zeros((len(todo_samps),      3, mat.shape[1]))\n",
    "\n",
    "for i, samp in enumerate(todo_samps):\n",
    "    # get sub\n",
    "    adatasub = adata[adata.obs['sample']==samp]\n",
    "    n_cells = adatasub.shape[0]\n",
    "    \n",
    "    print(samp, n_cells)\n",
    "    \n",
    "    # get A vs C \n",
    "    ranks_ac = adatasub.obs['scores_c-a'].rank()\n",
    "    ranks_b  = adatasub.obs['scores_b'].rank()\n",
    "    \n",
    "    # per type\n",
    "    cells_type_nfd = pd.qcut(ranks_ac, n_type, labels=False)\n",
    "    for j in range(n_type):\n",
    "        mat_j = adatasub[cells_type_nfd==j].layers['norm'][...]\n",
    "        mmat_j = np.log2(np.mean(mat_j, axis=0)*1e2+offset)-gexp_l23baseline # CP10k -> CPM\n",
    "        bigmat_nfd[i,j] = mmat_j\n",
    "    \n",
    "    # A, B, C\n",
    "    num_archetypal_cells_viz = int(n_cells*frac_archetypal_cells_viz)\n",
    "    \n",
    "    precond_a = ranks_ac <= num_archetypal_cells_viz\n",
    "    precond_c = ranks_ac > adatasub.shape[0] - num_archetypal_cells_viz\n",
    "    precond_b = ranks_b  > adatasub.shape[0] - num_archetypal_cells_viz\n",
    "    \n",
    "    cond_a = np.all([ precond_a, ~precond_b, ~precond_c], axis=0)\n",
    "    cond_b = np.all([~precond_a,  precond_b, ~precond_c], axis=0)\n",
    "    cond_c = np.all([~precond_a, ~precond_b,  precond_c], axis=0)\n",
    "    \n",
    "    for j, cond in enumerate([cond_a, cond_b, cond_c]):\n",
    "        mat_j = adatasub[cond].layers['norm'][...]\n",
    "        mmat_j = np.log2(np.mean(mat_j, axis=0)*1e2+offset)-gexp_l23baseline # CP10k -> CPM\n",
    "        bigmat_abc[i,j] = mmat_j\n"
   ]
  },
  {
   "cell_type": "code",
   "execution_count": null,
   "id": "be03b254-6d74-4aae-8850-c40e6de411b1",
   "metadata": {
    "tags": []
   },
   "outputs": [],
   "source": [
    "redmat_nfd = mean_over_samples(bigmat_nfd)\n",
    "fmat_nfd, zmat_nfd = transform_bigredmat(redmat_nfd, n_type)\n",
    "print(bigmat_nfd.shape, redmat_nfd.shape)\n",
    "print(fmat_nfd.shape)   # gene, cond*type\n",
    "print(zmat_nfd.shape)   # gene, cond*type\n"
   ]
  },
  {
   "cell_type": "markdown",
   "id": "ed42ba3a-794e-492d-a73d-b586c8c2e1df",
   "metadata": {},
   "source": [
    "# Profile vision-dependent ABC genes (identified from multiome)"
   ]
  },
  {
   "cell_type": "code",
   "execution_count": null,
   "id": "8ebb1b41-f887-493c-9095-9e9eb4d35692",
   "metadata": {
    "tags": []
   },
   "outputs": [],
   "source": [
    "# streamline 2 heatmaps\n",
    "def order_zmat(zmat, metric0=None):\n",
    "    \"\"\"order rows - assuming first 10 cols are NR, and second 10 cols are DR\n",
    "    \"\"\"\n",
    "    zmat_nr = zmat[:,  :10]\n",
    "    zmat_dr = zmat[:,10:20]\n",
    "    # zmat_dl = zmat[:,10:20]\n",
    "    \n",
    "    # metric0: categorical (provided)\n",
    "    if metric0 is None:\n",
    "        # metric0 = [0]*len(zmat)\n",
    "        metric0 = (np.mean(zmat_dr, axis=1) - np.mean(zmat_nr, axis=1)) > 0\n",
    "    \n",
    "    # metric2: continuous (where in NR)\n",
    "    # metric2 = np.argmax(zmat_nr, axis=1) # peak location\n",
    "    pmat_nr = np.exp(zmat_nr)\n",
    "    pmat_nr = pmat_nr/np.sum(pmat_nr, axis=1).reshape(-1,1)\n",
    "    metric2 = pmat_nr.dot(np.arange(10))                     # centroid location\n",
    "    \n",
    "    \n",
    "    # first by metric 0 then by metric 2\n",
    "    dforder = pd.DataFrame()\n",
    "    dforder['m0'] = metric0\n",
    "    dforder['m2'] = metric2\n",
    "    \n",
    "    gene_order = dforder.sort_values(['m0', 'm2']).index.values\n",
    "    return dforder, gene_order\n",
    "\n",
    "\n",
    "def mark_ticklabels(highlights, color='red'):\n",
    "    \"\"\"\n",
    "    \"\"\"\n",
    "    # Get the tick labels\n",
    "    tick_labels = plt.gca().get_yticklabels()\n",
    "\n",
    "    # Mark labels at x = 2 and x = 8 in red\n",
    "    for label in tick_labels:\n",
    "        tick_val = label.get_text()\n",
    "        if tick_val in highlights:\n",
    "            label.set_color(color)\n",
    "    return "
   ]
  },
  {
   "cell_type": "code",
   "execution_count": null,
   "id": "223a984d-0498-4904-9e48-8a0e437d1538",
   "metadata": {},
   "outputs": [],
   "source": [
    "# import gene list\n",
    "\n",
    "\n",
    "genes_vision_abc = [\n",
    "    'Xylt1','March4','C1ql3','Ptprg','Shc3',\n",
    "    'Cdh4','Fnbp1l','Slit3','Btg2','Npas4',\n",
    "    'Nrp1','Ifrd1','Tnfaip6','1700016P03Rik','Nptx2',\n",
    "    'Ctnna3','Mapk4','Ppm1h','Bdnf','Mir670hg',\n",
    "    'Baz1a','Homer1','Phf21b','Plcl1','Dusp14',\n",
    "    'Megf11','Maml3','Gm15398','Mthfd1l','Inhba',\n",
    "    'Zbtb16','Ell2','Ppme1','Epha10','Rph3a',\n",
    "    'Igsf9b','Sntb2','Tmtc2','Cpne8','Sgcd',\n",
    "    'Eda','Thsd7a','Syt10','Col23a1','Epha6',\n",
    "    'Glis3','Igfbp5','Hdac9','Cdh7','Zfp536',\n",
    "    'Sparcl1','Gm15155','Kctd8','L3mbtl4','Cdh18',\n",
    "    'Pcdh10','Pth2r','Cdh20','Gm28175','Parm1',\n",
    "    'Lcorl','Elavl2','Kcnh5','Ntng1','Cntnap4',\n",
    "    'Rorb','Rora','Mgll']\n",
    "\n",
    "genes_csm_abc = [\n",
    "    'Tenm1','Epha5','Cd200','Ptpru','Ptpro',\n",
    "    'Vcan','Cdh13','Cntn5','Pcdh19','Cntnap5a',\n",
    "    'Neo1','Chl1','Robo1','Lsamp','Sema6a',\n",
    "    'Ptprk','Dscaml1','Tnr','Igsf11','Cadm1',\n",
    "    'Fstl5','Kirrel3','Sorl1','Nell2','Epha3',\n",
    "    'Lrfn5','Pcdh17','Efna5','Ntrk3','Tenm2',\n",
    "    'Clstn2','Slit2','Nrg1','Cd47','Ghr',\n",
    "    'Lingo2','Cntn3','Nrxn3','Sdk1','Pcdh15',\n",
    "    'Fat3','Dscam','Pcdh11x','Sema3a','Unc5c',\n",
    "    'Cntn4','Cdh8','Cdh12','Cdh6','Abi3bp',\n",
    "    'Il1rap','Cntn6','Tenm4','Dcc','Pcdh9',\n",
    "    'Alcam','Astn2','Flrt2','Sema7a','Robo3',\n",
    "    'Ptprt','Lrrc4c','Cntnap2','Unc5d','Cntnap5b',\n",
    "    'Ncam2','Epha7','Sema6d','Fstl4','Ptprg',\n",
    "    'Cdh4','Slit3','Nrp1','Ctnna3','Megf11',\n",
    "    'Epha10','Igsf9b','Epha6','Cdh7','Cdh18',\n",
    "    'Pcdh10','Cdh20','Ntng1','Cntnap4',\n",
    "]"
   ]
  },
  {
   "cell_type": "code",
   "execution_count": null,
   "id": "7f26c4bd-a1d9-4a86-adf5-b395001ab9f9",
   "metadata": {},
   "outputs": [],
   "source": [
    "selected_conditions = [0,1,2,3]\n",
    "titles = todo_conds # ['P28NR', 'P28DL', 'P28DR']\n",
    "columns = np.hstack([\n",
    "    0*n_type+np.arange(n_type), \n",
    "    1*n_type+np.arange(n_type),\n",
    "    2*n_type+np.arange(n_type),\n",
    "    3*n_type+np.arange(n_type),\n",
    "])"
   ]
  },
  {
   "cell_type": "code",
   "execution_count": null,
   "id": "a8048b80-da50-4c3c-a8c3-268210e3b81a",
   "metadata": {
    "tags": []
   },
   "outputs": [],
   "source": [
    "genes_this = genes_vision_abc\n",
    "genes_idx = basicu.get_index_from_array(genes, genes_this)\n",
    "# genes_highlights1 = vision_abc_csm\n",
    "# genes_highlights2 = vision_abc_synaptic\n",
    "\n",
    "fig, ax = plt.subplots(1,1,figsize=(7,14))\n",
    "zmat = zmat_nfd[genes_idx, :][:, columns]\n",
    "zmat = stats.zscore(zmat, axis=1)\n",
    "\n",
    "# dforder, gene_order = order_zmat(zmat)\n",
    "# zmat = zmat[gene_order]\n",
    "# genes_this = genes_this[gene_order]\n",
    "\n",
    "sns.heatmap(zmat, \n",
    "            cmap='coolwarm', cbar_kws=dict(shrink=0.3), \n",
    "            xticklabels=False,\n",
    "            # vmax=2.5, vmin=-2.5,\n",
    "            vmax=2, vmin=-2,\n",
    "            rasterized=True,\n",
    "            ax=ax)\n",
    "ax.set_yticks(0.5+np.arange(len(zmat)))\n",
    "ax.set_yticklabels(genes_this, fontsize=12, rotation=0)\n",
    "# mark_ticklabels(genes_highlights1, color='magenta')\n",
    "# mark_ticklabels(genes_highlights2, color='green')\n",
    "\n",
    "ax.vlines(10, 0, len(zmat), color='white', linewidth=1)\n",
    "ax.vlines(20, 0, len(zmat), color='white', linewidth=1)\n",
    "ax.vlines(30, 0, len(zmat), color='white', linewidth=1)\n",
    "for i, cond in enumerate(titles):\n",
    "    ax.text(i*10, -0.5, f'{cond}', fontsize=12, va='bottom')\n",
    "    \n",
    "output = os.path.join(outfigdir, 'vision_abc_heatmap.pdf')\n",
    "powerplots.savefig_autodate(fig, output)\n",
    "\n",
    "plt.show()"
   ]
  },
  {
   "cell_type": "code",
   "execution_count": null,
   "id": "15c594a8-a8a2-4dc6-b28d-f536a685b75c",
   "metadata": {
    "tags": []
   },
   "outputs": [],
   "source": [
    "genes_this = genes_csm_abc\n",
    "genes_idx = basicu.get_index_from_array(genes, genes_this)\n",
    "# genes_highlights1 = vision_abc_csm\n",
    "# genes_highlights2 = vision_abc_synaptic\n",
    "\n",
    "fig, ax = plt.subplots(1,1,figsize=(7,14))\n",
    "zmat = zmat_nfd[genes_idx, :][:, columns]\n",
    "zmat = stats.zscore(zmat, axis=1)\n",
    "\n",
    "# dforder, gene_order = order_zmat(zmat)\n",
    "# zmat = zmat[gene_order]\n",
    "# genes_this = genes_this[gene_order]\n",
    "\n",
    "sns.heatmap(zmat, \n",
    "            cmap='coolwarm', cbar_kws=dict(shrink=0.3), \n",
    "            xticklabels=False,\n",
    "            # vmax=2.5, vmin=-2.5,\n",
    "            vmax=2, vmin=-2,\n",
    "            rasterized=True,\n",
    "            ax=ax)\n",
    "ax.set_yticks(0.5+np.arange(len(zmat)))\n",
    "ax.set_yticklabels(genes_this, fontsize=12, rotation=0)\n",
    "# mark_ticklabels(genes_highlights1, color='magenta')\n",
    "# mark_ticklabels(genes_highlights2, color='green')\n",
    "\n",
    "ax.vlines(10, 0, len(zmat), color='white', linewidth=1)\n",
    "ax.vlines(20, 0, len(zmat), color='white', linewidth=1)\n",
    "ax.vlines(30, 0, len(zmat), color='white', linewidth=1)\n",
    "for i, cond in enumerate(titles):\n",
    "    ax.text(i*10, -0.5, f'{cond}', fontsize=12, va='bottom')\n",
    "    \n",
    "output = os.path.join(outfigdir, 'vision_abc_heatmap.pdf')\n",
    "powerplots.savefig_autodate(fig, output)\n",
    "\n",
    "plt.show()"
   ]
  },
  {
   "cell_type": "markdown",
   "id": "13de0905-b87d-4489-9a92-45663279ed12",
   "metadata": {},
   "source": [
    "# check ARG regulons"
   ]
  },
  {
   "cell_type": "code",
   "execution_count": null,
   "id": "aa61b207-e546-413d-b7b1-682ef09a3da2",
   "metadata": {
    "tags": []
   },
   "outputs": [],
   "source": [
    "fin = '/u/home/f/f7xiesnm/project-zipursky/v1-bb/v1/data/v1_multiome/DEG_l23abc_gene_list_250409.csv'\n",
    "df_genes_abc = pd.read_csv(fin)\n",
    "df_genes_abc_p21 = df_genes_abc[df_genes_abc['cond']=='P21NR']\n",
    "\n",
    "genes_abc = df_genes_abc_p21['gene'].unique()\n",
    "genes_a = df_genes_abc_p21[df_genes_abc_p21['archetype']=='A']['gene'].unique()\n",
    "genes_b = df_genes_abc_p21[df_genes_abc_p21['archetype']=='B']['gene'].unique()\n",
    "genes_c = df_genes_abc_p21[df_genes_abc_p21['archetype']=='C']['gene'].unique()\n",
    "\n",
    "print(len(genes_a), len(genes_b), len(genes_c))"
   ]
  },
  {
   "cell_type": "code",
   "execution_count": null,
   "id": "349c9906-c121-4652-980a-94dce6f0431f",
   "metadata": {
    "tags": []
   },
   "outputs": [],
   "source": [
    "f = '/u/home/f/f7xiesnm/v1_multiome/juyoun/regulons_l23alltime_trimmed_cleaned_bigtable.csv'\n",
    "# scenic metadata\n",
    "df_scenic = pd.read_csv(f, index_col=0)\n",
    "df_scenic = df_scenic[df_scenic['signs'].isin([\"+_+\", \"-_+\"])]"
   ]
  },
  {
   "cell_type": "code",
   "execution_count": null,
   "id": "e6568d90-e309-47e5-8dfc-8b39201e1a74",
   "metadata": {
    "tags": []
   },
   "outputs": [],
   "source": [
    "all_regulons = df_scenic['Consensus_name'].unique()"
   ]
  },
  {
   "cell_type": "code",
   "execution_count": null,
   "id": "3dd6dad8-a1cc-4196-997f-16cce062e7f6",
   "metadata": {
    "tags": []
   },
   "outputs": [],
   "source": [
    "query_genes = [\n",
    "    'Nrp1', 'Ctnna3', 'Plcl1', 'Megf11', 'Maml3',\n",
    "]\n",
    "for g in query_genes:\n",
    "    print(g, df_scenic[df_scenic['Gene']==g]['Consensus_name'].unique())\n",
    "\n",
    "print('---')\n",
    "    \n",
    "query_genes = [\n",
    "    'Btg2', 'Npas4', 'Ifrd1', 'Nptx2', 'Tnfaip6', 'Baz1a',\n",
    "]\n",
    "for g in query_genes:\n",
    "    print(g, df_scenic[df_scenic['Gene']==g]['Consensus_name'].unique())"
   ]
  },
  {
   "cell_type": "code",
   "execution_count": null,
   "id": "dad199c8-0a65-4660-9234-00336333842c",
   "metadata": {
    "tags": []
   },
   "outputs": [],
   "source": [
    "# reg_name_list = [\n",
    "#     'Fosl2_+_+',\n",
    "#     'Fos_+_+',\n",
    "#     'Npas4_+_+',\n",
    "#     # 'Egr1_+_+',\n",
    "# ]\n",
    "reg_name_list = all_regulons\n",
    "\n",
    "for reg_name in reg_name_list:\n",
    "    df_this_reg = df_scenic[df_scenic['Consensus_name']==reg_name]\n",
    "    reg_genes = df_this_reg['Gene'].unique()\n",
    "    reg_genes_abc = np.intersect1d(reg_genes, genes_abc)\n",
    "    reg_genes_b = np.intersect1d(reg_genes, genes_b)\n",
    "    \n",
    "    if len(reg_genes_b) >= 4: # 0:\n",
    "        # print(len(reg_genes), len(reg_genes_abc), len(reg_genes_b))\n",
    "        print(reg_name, len(reg_genes_b))\n",
    "    \n",
    "    # res[reg_name[:-4]+'_regp'] = np.mean(res[reg_genes], axis=1)"
   ]
  },
  {
   "cell_type": "code",
   "execution_count": null,
   "id": "063d0089-b4e5-4d5f-97c6-f4a1ebc973e5",
   "metadata": {},
   "outputs": [],
   "source": [
    "# reg_name_list = all_regulons\n",
    "# for reg_name in reg_name_list:\n",
    "#     df_this_reg = df_scenic[df_scenic['Consensus_name']==reg_name]\n",
    "#     reg_genes = df_this_reg['Gene'].unique()\n",
    "#     reg_genes_abc = np.intersect1d(reg_genes, genes_abc)\n",
    "#     reg_genes_b = np.intersect1d(reg_genes, genes_b)\n",
    "    \n",
    "#     if len(reg_genes_b) >= 4: # 0:\n",
    "#         print(reg_name, len(reg_genes_b))\n",
    "    \n",
    "#         genes_this = reg_genes_b\n",
    "#         genes_idx = basicu.get_index_from_array(genes, genes_this)\n",
    "\n",
    "#         fig, ax = plt.subplots(1,1,figsize=(7,0.2*len(genes_this)))\n",
    "#         zmat = zmat_nfd[genes_idx, :][:, columns]\n",
    "#         zmat = stats.zscore(zmat, axis=1)\n",
    "\n",
    "#         dforder, gene_order = order_zmat(zmat)\n",
    "#         zmat = zmat[gene_order]\n",
    "#         genes_this = genes_this[gene_order]\n",
    "\n",
    "#         sns.heatmap(zmat, \n",
    "#                     cmap='coolwarm', cbar_kws=dict(shrink=0.3), \n",
    "#                     xticklabels=False,\n",
    "#                     # vmax=2.5, vmin=-2.5,\n",
    "#                     vmax=2, vmin=-2,\n",
    "#                     rasterized=True,\n",
    "#                     ax=ax)\n",
    "#         ax.set_yticks(0.5+np.arange(len(zmat)))\n",
    "#         ax.set_yticklabels(genes_this, fontsize=12, rotation=0)\n",
    "\n",
    "#         ax.vlines(10, 0, len(zmat), color='white', linewidth=1)\n",
    "#         ax.vlines(20, 0, len(zmat), color='white', linewidth=1)\n",
    "#         ax.vlines(30, 0, len(zmat), color='white', linewidth=1)\n",
    "#         for i, cond in enumerate(titles):\n",
    "#             ax.text(i*10, -0.5, f'{cond}', fontsize=12, va='bottom')\n",
    "\n",
    "#         # output = os.path.join(outfigdir, 'vision_abc_heatmap.pdf')\n",
    "#         # powerplots.savefig_autodate(fig, output)\n",
    "        \n",
    "\n",
    "#         ax.set_title(reg_name, fontsize=12, pad=30)\n",
    "#         plt.show()\n",
    "        \n",
    "#         # break"
   ]
  },
  {
   "cell_type": "markdown",
   "id": "4b08fb42-d901-4443-9ec7-f4d38a033722",
   "metadata": {},
   "source": [
    "## B genes controlled or not controlled by ARGs"
   ]
  },
  {
   "cell_type": "code",
   "execution_count": null,
   "id": "886e4c48-d949-4ce5-9ea1-95ad75d911da",
   "metadata": {
    "tags": []
   },
   "outputs": [],
   "source": [
    "df_scenic_sub = df_scenic[df_scenic['Gene'].isin(genes_b)].groupby(['Consensus_name', 'Gene']).first()\n",
    "df_scenic_sub['ARG'] = df_scenic_sub['TF'].apply(lambda x: x in ['Fos', 'Fosb', 'Fosl2', 'Junb', 'Npas4'])\n",
    "df_scenic_sub = df_scenic_sub.reset_index()\n",
    "df_scenic_sub_p = df_scenic_sub[df_scenic_sub['signs']=='+_+']\n",
    "df_scenic_sub_n = df_scenic_sub[df_scenic_sub['signs']=='-_+']\n",
    "df_scenic_sub"
   ]
  },
  {
   "cell_type": "code",
   "execution_count": null,
   "id": "48240b5c-4b68-4ceb-b214-5471c8201495",
   "metadata": {
    "tags": []
   },
   "outputs": [],
   "source": [
    "arg_ratio = df_scenic_sub.groupby('Gene').agg({'ARG': sum})['ARG'] / df_scenic_sub['Gene'].value_counts()\n",
    "genes_b_arg_ratio_sorted = arg_ratio.sort_values().index.values\n",
    "\n",
    "genes_this = arg_ratio.index.values #genes_b_arg_ratio_sorted\n",
    "genes_idx = basicu.get_index_from_array(genes, genes_this)\n",
    "\n",
    "# fig, ax = plt.subplots(1,1,figsize=(7,0.2*len(genes_this)))\n",
    "zmat = zmat_nfd[genes_idx, :][:, columns]\n",
    "zmat = stats.zscore(zmat, axis=1)\n",
    "nrdr_ratio = np.mean(zmat[:,10:20], axis=1) - np.mean(zmat[:,:10], axis=1)\n",
    "plt.scatter(arg_ratio.values, nrdr_ratio, s=5)"
   ]
  },
  {
   "cell_type": "code",
   "execution_count": null,
   "id": "8f753503-a7cf-45c8-8027-1c1edd6fd71e",
   "metadata": {
    "tags": []
   },
   "outputs": [],
   "source": [
    "arg_ratio_p = df_scenic_sub_p.groupby('Gene').agg({'ARG': sum})['ARG'] / df_scenic_sub_p['Gene'].value_counts()\n",
    "genes_b_arg_ratio_sorted_p = arg_ratio_p.sort_values().index.values\n",
    "\n",
    "genes_this = arg_ratio_p.index.values #genes_b_arg_ratio_sorted\n",
    "genes_idx = basicu.get_index_from_array(genes, genes_this)\n",
    "\n",
    "# fig, ax = plt.subplots(1,1,figsize=(7,0.2*len(genes_this)))\n",
    "zmat = zmat_nfd[genes_idx, :][:, columns]\n",
    "zmat = stats.zscore(zmat, axis=1)\n",
    "nrdr_ratio = np.mean(zmat[:,10:20], axis=1) - np.mean(zmat[:,:10], axis=1)\n",
    "plt.scatter(arg_ratio_p.values, nrdr_ratio, s=5)"
   ]
  },
  {
   "cell_type": "code",
   "execution_count": null,
   "id": "d6df2c46-85a3-4830-979c-c8ded32674a5",
   "metadata": {
    "tags": []
   },
   "outputs": [],
   "source": [
    "arg_ratio_n = df_scenic_sub_n.groupby('Gene').agg({'ARG': sum})['ARG'] / df_scenic_sub_n['Gene'].value_counts()\n",
    "genes_b_arg_ratio_sorted_n = arg_ratio_n.sort_values().index.values\n",
    "\n",
    "genes_this = arg_ratio_n.index.values #genes_b_arg_ratio_sorted\n",
    "genes_idx = basicu.get_index_from_array(genes, genes_this)\n",
    "\n",
    "# fig, ax = plt.subplots(1,1,figsize=(7,0.2*len(genes_this)))\n",
    "zmat = zmat_nfd[genes_idx, :][:, columns]\n",
    "zmat = stats.zscore(zmat, axis=1)\n",
    "nrdr_ratio = np.mean(zmat[:,10:20], axis=1) - np.mean(zmat[:,:10], axis=1)\n",
    "plt.scatter(arg_ratio_n.values, nrdr_ratio, s=5)"
   ]
  },
  {
   "cell_type": "code",
   "execution_count": null,
   "id": "5d610375-6442-4a17-9c14-b1c679f4e541",
   "metadata": {
    "tags": []
   },
   "outputs": [],
   "source": [
    "\n",
    "genes_this = genes_b #genes_b_arg_ratio_sorted\n",
    "genes_idx = basicu.get_index_from_array(genes, genes_this)\n",
    "\n",
    "fig, ax = plt.subplots(1,1,figsize=(7,0.2*len(genes_this)))\n",
    "zmat = zmat_nfd[genes_idx, :][:, columns]\n",
    "zmat = stats.zscore(zmat, axis=1)\n",
    "\n",
    "dforder, gene_order = order_zmat(zmat)\n",
    "zmat = zmat[gene_order]\n",
    "genes_this = genes_this[gene_order]\n",
    "\n",
    "sns.heatmap(zmat, \n",
    "            cmap='coolwarm', cbar_kws=dict(shrink=0.3), \n",
    "            xticklabels=False,\n",
    "            # vmax=2.5, vmin=-2.5,\n",
    "            vmax=2, vmin=-2,\n",
    "            rasterized=True,\n",
    "            ax=ax)\n",
    "ax.set_yticks(0.5+np.arange(len(zmat)))\n",
    "ax.set_yticklabels(genes_this, fontsize=12, rotation=0)\n",
    "\n",
    "ax.vlines(10, 0, len(zmat), color='white', linewidth=1)\n",
    "ax.vlines(20, 0, len(zmat), color='white', linewidth=1)\n",
    "ax.vlines(30, 0, len(zmat), color='white', linewidth=1)\n",
    "for i, cond in enumerate(titles):\n",
    "    ax.text(i*10, -0.5, f'{cond}', fontsize=12, va='bottom')\n",
    "\n",
    "# output = os.path.join(outfigdir, 'vision_abc_heatmap.pdf')\n",
    "# powerplots.savefig_autodate(fig, output)\n",
    "\n",
    "\n",
    "# ax.set_title(reg_name, fontsize=12, pad=30)\n",
    "plt.show()\n",
    "\n",
    "# break"
   ]
  },
  {
   "cell_type": "code",
   "execution_count": null,
   "id": "8911cec3-0c5b-4e08-bc4b-869c6c75e0e9",
   "metadata": {
    "tags": []
   },
   "outputs": [],
   "source": [
    "plt.plot(arg_ratio.reindex(genes_this), 'o')\n",
    "plt.grid('False')\n",
    "plt.xticklabels(rotation=90)"
   ]
  },
  {
   "cell_type": "code",
   "execution_count": null,
   "id": "5bf9c381-ef80-42ea-bab3-dad2e5cb3ab0",
   "metadata": {},
   "outputs": [],
   "source": []
  }
 ],
 "metadata": {
  "kernelspec": {
   "display_name": "Python 3 (ipykernel)",
   "language": "python",
   "name": "python3"
  },
  "language_info": {
   "codemirror_mode": {
    "name": "ipython",
    "version": 3
   },
   "file_extension": ".py",
   "mimetype": "text/x-python",
   "name": "python",
   "nbconvert_exporter": "python",
   "pygments_lexer": "ipython3",
   "version": "3.9.16"
  }
 },
 "nbformat": 4,
 "nbformat_minor": 5
}
