{
 "cells": [
  {
   "cell_type": "code",
   "execution_count": null,
   "id": "bb214b6d-836a-49b8-93dd-a19f021215b7",
   "metadata": {
    "tags": []
   },
   "outputs": [],
   "source": [
    "import os\n",
    "import numpy as np\n",
    "import pandas as pd\n",
    "import scanpy as sc\n",
    "import anndata \n",
    "import seaborn as sns\n",
    "from scipy.stats import zscore\n",
    "import matplotlib.pyplot as plt\n",
    "import collections\n",
    "from natsort import natsorted\n",
    "\n",
    "from scipy import stats\n",
    "from scipy import sparse\n",
    "from sklearn.decomposition import PCA\n",
    "from umap import UMAP\n",
    "\n",
    "from matplotlib.colors import LinearSegmentedColormap\n",
    "\n",
    "from scroutines.config_plots import *\n",
    "from scroutines import powerplots # .config_plots import *\n",
    "from scroutines import pnmf\n",
    "from scroutines import basicu\n",
    "from scroutines.gene_modules import GeneModules  \n"
   ]
  },
  {
   "cell_type": "code",
   "execution_count": null,
   "id": "f45abc88-0cbc-4575-8035-9cb157c42bc2",
   "metadata": {},
   "outputs": [],
   "source": [
    "outdir_fig = \"/u/home/f/f7xiesnm/project-zipursky/v1-bb/v1/figures\""
   ]
  },
  {
   "cell_type": "markdown",
   "id": "ba1f61ee-ba83-4707-816d-37eb33a54b83",
   "metadata": {},
   "source": [
    "# load gene annotation and data"
   ]
  },
  {
   "cell_type": "code",
   "execution_count": null,
   "id": "1bf8a720-2d31-463f-91f1-5645207518f2",
   "metadata": {},
   "outputs": [],
   "source": [
    "%%time\n",
    "adata = anndata.read(\"../../data/v1_multiome/L23_allmultiome_proc_P6toP21.h5ad\")\n",
    "adata"
   ]
  },
  {
   "cell_type": "code",
   "execution_count": null,
   "id": "2f2398bf-da2e-4be8-aed7-6905ae46460c",
   "metadata": {
    "tags": []
   },
   "outputs": [],
   "source": [
    "f_rna1 = '/u/home/f/f7xiesnm/project-zipursky/v1-bb/v1/data/v1_multiome/rna_qs_avc_p6to21.txt'\n",
    "f_rna2 = '/u/home/f/f7xiesnm/project-zipursky/v1-bb/v1/data/v1_multiome/rna_l2fc_avc_p6to21.txt'\n",
    "\n",
    "rna_qs_avc = np.loadtxt(f_rna1)\n",
    "rna_l2fc_avc = np.loadtxt(f_rna2)\n",
    "\n",
    "rna_qs_avc.shape, rna_l2fc_avc.shape"
   ]
  },
  {
   "cell_type": "code",
   "execution_count": null,
   "id": "8962f999-df37-4044-b037-0606f84f9216",
   "metadata": {
    "tags": []
   },
   "outputs": [],
   "source": [
    "# # define\n",
    "genes = adata.var.index.values\n",
    "# conds = adata.obs['cond'].values\n",
    "# types = adata.obs['Type'].values\n",
    "# samps = adata.obs['sample'].values\n",
    "\n",
    "# switch back to float64\n",
    "adata.layers[    'norm'] = adata.layers['norm'][...].astype(np.float64)\n",
    "adata.layers[ 'lognorm'] = np.log10(1+adata.layers['norm'][...]) # np.array(xln.todense())\n",
    "# adata.layers[ 'lognorm'] = np.log2(1+adata.layers['norm'][...]) # np.array(xln.todense())\n",
    "adata.layers['zlognorm'] = zscore(adata.layers['lognorm'][...], axis=0)"
   ]
  },
  {
   "cell_type": "code",
   "execution_count": null,
   "id": "511bd54c-33d2-4840-9b2d-6657ae40e0c5",
   "metadata": {
    "tags": []
   },
   "outputs": [],
   "source": [
    "pcs_p8 = adata.obsm['pca_p8']\n",
    "pcs_p17on = adata.obsm['pca_p17on']"
   ]
  },
  {
   "cell_type": "code",
   "execution_count": null,
   "id": "26fa3ea8-59fc-4a44-b097-c36bfe2350a8",
   "metadata": {
    "tags": []
   },
   "outputs": [],
   "source": [
    "allcolors = sns.color_palette('tab20c', 20)\n",
    "allcolors"
   ]
  },
  {
   "cell_type": "code",
   "execution_count": null,
   "id": "98783372-bd8f-4145-9264-e06098d3a374",
   "metadata": {
    "tags": []
   },
   "outputs": [],
   "source": [
    "allcolors2 = sns.color_palette('tab10', 20)\n",
    "allcolors2"
   ]
  },
  {
   "cell_type": "code",
   "execution_count": null,
   "id": "35234ff4-a695-4115-8284-298002043eaa",
   "metadata": {
    "tags": []
   },
   "outputs": [],
   "source": [
    "palette = collections.OrderedDict({\n",
    "     \"P6\": allcolors[2],\n",
    "     \"P8\": allcolors[1],\n",
    "    \"P10\": allcolors[0],\n",
    "    \"P12\": allcolors[4+2],\n",
    "    \"P14\": allcolors[4+0],\n",
    "    \n",
    "    \"P17\": allcolors[8+2],\n",
    "    \"P21\": allcolors[8+0],\n",
    "    \n",
    "})\n",
    "cases = np.array(list(palette.keys()))\n",
    "\n",
    "cond_order_dict = {\n",
    "    'P6':  0,\n",
    "    'P8':  1,\n",
    "    'P10': 2,\n",
    "    'P12': 3,\n",
    "    'P14': 4,\n",
    "    'P17': 5,\n",
    "    'P21': 6,\n",
    "    \n",
    "    # 'P12DR': 7,\n",
    "    # 'P14DR': 8,\n",
    "    # 'P17DR': 9,\n",
    "    # 'P21DR': 10,\n",
    "}\n",
    "unq_conds = np.array(list(cond_order_dict.keys()))\n",
    "adata.obs['cond_order'] = adata.obs['cond'].apply(lambda x: cond_order_dict[x]).astype(int)\n",
    "\n",
    "palette_types = collections.OrderedDict({\n",
    "    'L2/3_A': allcolors2[0],\n",
    "    'L2/3_B': allcolors2[1],\n",
    "    'L2/3_C': allcolors2[2],\n",
    "})             \n",
    "\n",
    "palette_types = {\n",
    "    'c14': 'C0', \n",
    "    'c18': 'C1',\n",
    "    'c16': 'C2', \n",
    "    \n",
    "    'c13': 'C0', \n",
    "    'c15': 'C1', \n",
    "    'c17': 'C2',\n",
    "}\n",
    "type_order = [key for key, val in palette_types.items()]\n",
    "type_order"
   ]
  },
  {
   "cell_type": "code",
   "execution_count": null,
   "id": "d8668368-7499-42e2-859b-91d42bcaa286",
   "metadata": {
    "tags": []
   },
   "outputs": [],
   "source": [
    "adata.obs['cond'].unique()"
   ]
  },
  {
   "cell_type": "markdown",
   "id": "f2273d28-a649-4b3e-b17c-75eaea4476f2",
   "metadata": {},
   "source": [
    "# big tensor"
   ]
  },
  {
   "cell_type": "code",
   "execution_count": null,
   "id": "09d57655-c050-4842-a623-8fd8cac63496",
   "metadata": {
    "tags": []
   },
   "outputs": [],
   "source": [
    "# by condition\n",
    "nt, nc, nr, ng = len(unq_conds), 5, 2, len(adata.var)  # time/condition, cluster, rep, gene \n",
    "tensor = np.zeros((nt, nc, nr, ng))\n",
    "\n",
    "for i, (cond_order, obssub) in enumerate(adata.obs.groupby('cond_order')):\n",
    "    print(cond_order)\n",
    "    adatasub = adata[obssub.index]\n",
    "    \n",
    "    # by type -- cut into nc=5 equal bins\n",
    "    x = adatasub.obsm['pca_p17on'][...,0]\n",
    "    type_lbls = pd.qcut(x, nc, labels=np.arange(nc)).astype(int)\n",
    "    unq_types = np.unique(type_lbls)\n",
    "    \n",
    "    # by replicates -- first two\n",
    "    sample_lbls = adatasub.obs['sample'].values\n",
    "    unq_samples = np.unique(sample_lbls)[:nr] # first nr samples if n > nr2\n",
    "    \n",
    "    for j, qtype in enumerate(unq_types):\n",
    "        for k, samp in enumerate(unq_samples):\n",
    "            selector = ((sample_lbls==samp) & (type_lbls==qtype))\n",
    "            # tensor[i,j,k] = np.mean(adatasub[selector].layers['lognorm'][...], axis=0)\n",
    "            # tensor[i,j,k] = np.sum(np.array(adatasub[selector].layers['norm']), axis=0) # CP10k - sum over all cells (or simply raw reads?)\n",
    "            tensor[i,j,k] = np.sum(np.array(adatasub[selector].X.todense()), axis=0) # CP10k - sum over all cells (or simply raw reads?)"
   ]
  },
  {
   "cell_type": "code",
   "execution_count": null,
   "id": "c2ce2263-6398-4a62-a62e-546bee67d145",
   "metadata": {
    "tags": []
   },
   "outputs": [],
   "source": [
    "# normalize it as CPM; log2(CPM+1)\n",
    "tensor = (tensor/np.sum(tensor, axis=-1, keepdims=True))*1e6\n",
    "tensor = np.log2(1+tensor) "
   ]
  },
  {
   "cell_type": "code",
   "execution_count": null,
   "id": "637e70fa-3b23-4990-aeb0-ba9df9b7e7ab",
   "metadata": {
    "tags": []
   },
   "outputs": [],
   "source": [
    "def rename_gene(g):\n",
    "    if g == 'March1': \n",
    "        return 'Marchf1'\n",
    "    else:\n",
    "        return g\n",
    "    \n",
    "genes = np.array([rename_gene(g) for g in genes])\n",
    "tensor.shape, genes.shape"
   ]
  },
  {
   "cell_type": "code",
   "execution_count": null,
   "id": "e545956a-3d1b-4bf6-b909-be819c0c3ae5",
   "metadata": {
    "tags": []
   },
   "outputs": [],
   "source": [
    "# use this new order\n",
    "f = '/u/home/f/f7xiesnm/project-zipursky/v1-bb/v1/results_atac/all_ac_genes_unique.bed'\n",
    "df_ac_genes = pd.read_csv(f, sep='\\t', header=None)\n",
    "df_ac_genes"
   ]
  },
  {
   "cell_type": "code",
   "execution_count": null,
   "id": "bb0a1ef4-bea7-432a-a632-26e495bae5dd",
   "metadata": {
    "tags": []
   },
   "outputs": [],
   "source": [
    "ac_genes_idx = basicu.get_index_from_array(genes, df_ac_genes[3])\n",
    "assert np.all(ac_genes_idx != -1)"
   ]
  },
  {
   "cell_type": "code",
   "execution_count": null,
   "id": "9090c759-d0d8-4953-ad81-26f9e16e588f",
   "metadata": {
    "tags": []
   },
   "outputs": [],
   "source": [
    "tensor_sub = tensor[:,:,:,ac_genes_idx]\n",
    "tensor_sub.shape"
   ]
  },
  {
   "cell_type": "code",
   "execution_count": null,
   "id": "3eda80cb-0a52-418e-979f-f0bfc3d4be47",
   "metadata": {
    "tags": []
   },
   "outputs": [],
   "source": [
    "f_out = \"/u/home/f/f7xiesnm/project-zipursky/v1-bb/v1/results_atac/all_ac_genes_tensor.npy\"\n",
    "np.save(f_out, tensor_sub)"
   ]
  },
  {
   "cell_type": "code",
   "execution_count": null,
   "id": "69977798-ac20-4394-932d-a8ed942c836e",
   "metadata": {},
   "outputs": [],
   "source": []
  }
 ],
 "metadata": {
  "kernelspec": {
   "display_name": "Python 3 (ipykernel)",
   "language": "python",
   "name": "python3"
  },
  "language_info": {
   "codemirror_mode": {
    "name": "ipython",
    "version": 3
   },
   "file_extension": ".py",
   "mimetype": "text/x-python",
   "name": "python",
   "nbconvert_exporter": "python",
   "pygments_lexer": "ipython3",
   "version": "3.9.16"
  }
 },
 "nbformat": 4,
 "nbformat_minor": 5
}
