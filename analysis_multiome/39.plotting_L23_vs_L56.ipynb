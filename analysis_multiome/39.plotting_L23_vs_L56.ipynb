{
 "cells": [
  {
   "cell_type": "code",
   "execution_count": null,
   "id": "bb214b6d-836a-49b8-93dd-a19f021215b7",
   "metadata": {
    "tags": []
   },
   "outputs": [],
   "source": [
    "import numpy as np\n",
    "import pandas as pd\n",
    "from scipy.stats import zscore\n",
    "from scipy import sparse \n",
    "from scipy.spatial import ConvexHull\n",
    "from sklearn.decomposition import PCA\n",
    "import matplotlib.pyplot as plt\n",
    "import seaborn as sns\n",
    "\n",
    "import scanpy as sc\n",
    "from py_pcha import PCHA"
   ]
  },
  {
   "cell_type": "code",
   "execution_count": null,
   "id": "f4954425-7161-4804-8f90-f12ea6b1979c",
   "metadata": {
    "tags": []
   },
   "outputs": [],
   "source": [
    "import os\n",
    "import numpy as np\n",
    "import pandas as pd\n",
    "import scanpy as sc\n",
    "import anndata \n",
    "import seaborn as sns\n",
    "from scipy.stats import zscore\n",
    "import matplotlib.pyplot as plt\n",
    "import collections\n",
    "from natsort import natsorted\n",
    "import re\n",
    "\n",
    "from scipy import stats\n",
    "from scipy import sparse\n",
    "from sklearn.decomposition import PCA\n",
    "from umap import UMAP\n",
    "\n",
    "from matplotlib.colors import LinearSegmentedColormap\n",
    "\n",
    "from scroutines.config_plots import *\n",
    "from scroutines import powerplots # .config_plots import *\n",
    "from scroutines import pnmf\n",
    "from scroutines import basicu\n",
    "from scroutines.gene_modules import GeneModules  \n"
   ]
  },
  {
   "cell_type": "code",
   "execution_count": null,
   "id": "2049f5e8-35f0-4169-836f-262a1b9cb447",
   "metadata": {
    "tags": []
   },
   "outputs": [],
   "source": [
    "from scipy import stats\n",
    "from matplotlib.ticker import MaxNLocator\n"
   ]
  },
  {
   "cell_type": "code",
   "execution_count": null,
   "id": "8f228de5",
   "metadata": {
    "tags": []
   },
   "outputs": [],
   "source": [
    "import numpy as np\n",
    "import pandas as pd\n",
    "from scipy.stats import zscore\n",
    "from scipy import sparse \n",
    "from scipy.spatial import ConvexHull\n",
    "from sklearn.decomposition import PCA\n",
    "import matplotlib.pyplot as plt\n",
    "import seaborn as sns\n",
    "\n",
    "import scanpy as sc\n",
    "from py_pcha import PCHA\n",
    "\n",
    "from scipy.stats import gaussian_kde"
   ]
  },
  {
   "cell_type": "code",
   "execution_count": null,
   "id": "f45abc88-0cbc-4575-8035-9cb157c42bc2",
   "metadata": {},
   "outputs": [],
   "source": [
    "outdirfig = \"/u/home/f/f7xiesnm/project-zipursky/v1-bb/v1/figures/250407\"\n",
    "!mkdir -p $outdirfig"
   ]
  },
  {
   "cell_type": "markdown",
   "id": "4a19491c-edc1-46ea-821b-d6c5b8db178c",
   "metadata": {
    "tags": []
   },
   "source": [
    "# Archetypes"
   ]
  },
  {
   "cell_type": "code",
   "execution_count": null,
   "id": "b3c5e25d-28ae-49d1-8b1e-c51840bafc8e",
   "metadata": {
    "tags": []
   },
   "outputs": [],
   "source": [
    "todo_conds = [\n",
    "    'P12DR', 'P14DR', 'P17DR', 'P21DR',\n",
    "    'P6', 'P8', 'P10', 'P12', 'P14', 'P17', 'P21', \n",
    "]\n",
    "todo_samps = [\n",
    "    'P12DRa', 'P12DRb',\n",
    "    'P14DRa', 'P14DRb',\n",
    "    'P17DRa', 'P17DRb',\n",
    "    'P21DRa', 'P21DRb',\n",
    "    'P6a', 'P6b', 'P6c', \n",
    "    'P8a', 'P8b', 'P8c', \n",
    "    'P10a', 'P10b', \n",
    "    'P12a', 'P12b', 'P12c', \n",
    "    'P14a', 'P14b',\n",
    "    'P17a', 'P17b', \n",
    "    'P21a', 'P21b', \n",
    "]"
   ]
  },
  {
   "cell_type": "code",
   "execution_count": null,
   "id": "d5f2cd33-5e55-4ae6-ae87-f1faffc8e034",
   "metadata": {
    "tags": []
   },
   "outputs": [],
   "source": [
    "var_mtx_l23 = pd.read_csv('/u/home/f/f7xiesnm/project-zipursky/v1-bb/v1/results/plot_var_mtx_l23_250625.csv')\n",
    "var_mtx_rep_l23 = pd.read_csv('/u/home/f/f7xiesnm/project-zipursky/v1-bb/v1/results/plot_var_mtx_rep_l23_250625.csv')\n",
    "\n",
    "var_mtx_l56 = pd.read_csv('/u/home/f/f7xiesnm/project-zipursky/v1-bb/v1/results/plot_var_mtx_l56_250625.csv')\n",
    "var_mtx_rep_l56 = pd.read_csv('/u/home/f/f7xiesnm/project-zipursky/v1-bb/v1/results/plot_var_mtx_rep_l56_250625.csv')\n",
    "\n",
    "var_mtx_l23"
   ]
  },
  {
   "cell_type": "code",
   "execution_count": null,
   "id": "54519384-26ed-4302-b8dc-2f99bdd036f4",
   "metadata": {
    "tags": []
   },
   "outputs": [],
   "source": [
    "times = np.array([6,8,10,12,14,17,21])\n",
    "todo_conds_t = np.array([int(re.sub(r'[a-zA-Z]', '', a)) for a in todo_conds])\n",
    "todo_samps_t = np.array([int(re.sub(r'[a-zA-Z]', '', a)) for a in todo_samps])\n",
    "print(times)\n",
    "print(todo_conds_t)\n",
    "print(todo_samps_t)"
   ]
  },
  {
   "cell_type": "code",
   "execution_count": null,
   "id": "1edc8a7c-e644-4662-b8d9-440dca2b6d2f",
   "metadata": {
    "tags": []
   },
   "outputs": [],
   "source": [
    "def plot_oneset(var_mtx, var_mtx_rep, axs):\n",
    "    \"\"\"\n",
    "    \"\"\"\n",
    "    scale1 = var_mtx['pcs_later_t1'].max()\n",
    "    scale2 = var_mtx['pcs_later_t2'].max()\n",
    "    \n",
    "    ax = axs[0]\n",
    "    ax.plot(todo_conds_t[4:], var_mtx['pcs_later_t1'].values[4:]/scale1,       color='C1')\n",
    "    ax.plot(todo_conds_t[:4], var_mtx['pcs_later_t1'].values[:4]/scale1,       color='k')\n",
    "    ax.plot(todo_conds_t[4:], var_mtx['pcs_later_shuff_t1'].values[4:]/scale1, color='gray', linestyle='--')\n",
    "    ax.plot(todo_conds_t[:4], var_mtx['pcs_later_shuff_t1'].values[:4]/scale1, color='lightgray', linestyle='--')\n",
    "\n",
    "    ax.plot(todo_samps_t[8:], var_mtx_rep['pcs_later_t1'].values[8:]/scale1,       'o', markersize=5, fillstyle='none', color='C1')\n",
    "    ax.plot(todo_samps_t[:8], var_mtx_rep['pcs_later_t1'].values[:8]/scale1,       's', markersize=5, fillstyle='none', color='k')\n",
    "    ax.plot(todo_samps_t[8:], var_mtx_rep['pcs_later_shuff_t1'].values[8:]/scale1, 'o', markersize=5, fillstyle='none', color='gray')\n",
    "    ax.plot(todo_samps_t[:8], var_mtx_rep['pcs_later_shuff_t1'].values[:8]/scale1, 's', markersize=5, fillstyle='none', color='lightgray')\n",
    "\n",
    "\n",
    "    ax = axs[1]\n",
    "    ax.plot(todo_conds_t[4:], var_mtx['pcs_later_t2'].values[4:]/scale2,       color='C1', label='NR')\n",
    "    ax.plot(todo_conds_t[:4], var_mtx['pcs_later_t2'].values[:4]/scale2,       color='k',  label='DR')\n",
    "    ax.plot(todo_conds_t[4:], var_mtx['pcs_later_shuff_t2'].values[4:]/scale2, color='gray', linestyle='--', label='shuffled NR')\n",
    "    ax.plot(todo_conds_t[:4], var_mtx['pcs_later_shuff_t2'].values[:4]/scale2, color='lightgray', linestyle='--', label='shuffled DR')\n",
    "\n",
    "    ax.plot(todo_samps_t[8:], var_mtx_rep['pcs_later_t2'].values[8:]/scale2,       'o', markersize=5, fillstyle='none', color='C1')\n",
    "    ax.plot(todo_samps_t[:8], var_mtx_rep['pcs_later_t2'].values[:8]/scale2,       's', markersize=5, fillstyle='none', color='k')\n",
    "    ax.plot(todo_samps_t[8:], var_mtx_rep['pcs_later_shuff_t2'].values[8:]/scale2, 'o', markersize=5, fillstyle='none', color='gray')\n",
    "    ax.plot(todo_samps_t[:8], var_mtx_rep['pcs_later_shuff_t2'].values[:8]/scale2, 's', markersize=5, fillstyle='none', color='lightgray')\n",
    "    \n",
    "    return \n",
    "\n",
    "def plot_oneset_nr(var_mtx, var_mtx_rep, axs, \n",
    "                   color1='C1', color2='gray', label='NR'):\n",
    "    \"\"\"\n",
    "    \"\"\"\n",
    "    scale1 = var_mtx['pcs_later_t1'].max()\n",
    "    scale2 = var_mtx['pcs_later_t2'].max()\n",
    "    \n",
    "    ax = axs[0]\n",
    "    ax.plot(todo_conds_t[4:], var_mtx['pcs_later_t1'].values[4:]/scale1,       color=color1)\n",
    "    ax.plot(todo_conds_t[4:], var_mtx['pcs_later_shuff_t1'].values[4:]/scale1, color=color2, linestyle='--')\n",
    "\n",
    "    ax.plot(todo_samps_t[8:], var_mtx_rep['pcs_later_t1'].values[8:]/scale1,       'o', markersize=5, fillstyle='none', color=color1)\n",
    "    ax.plot(todo_samps_t[8:], var_mtx_rep['pcs_later_shuff_t1'].values[8:]/scale1, 'o', markersize=5, fillstyle='none', color=color2)\n",
    "\n",
    "\n",
    "    ax = axs[1]\n",
    "    ax.plot(todo_conds_t[4:], var_mtx['pcs_later_t2'].values[4:]/scale2,       color=color1, label=label)\n",
    "    ax.plot(todo_conds_t[4:], var_mtx['pcs_later_shuff_t2'].values[4:]/scale2, color=color2, linestyle='--', label=f'shuffled {label}')\n",
    "\n",
    "    ax.plot(todo_samps_t[8:], var_mtx_rep['pcs_later_t2'].values[8:]/scale2,       'o', markersize=5, fillstyle='none', color=color1)\n",
    "    ax.plot(todo_samps_t[8:], var_mtx_rep['pcs_later_shuff_t2'].values[8:]/scale2, 'o', markersize=5, fillstyle='none', color=color2)\n",
    "    \n",
    "    return "
   ]
  },
  {
   "cell_type": "code",
   "execution_count": null,
   "id": "eb4b330f-f3e9-4cc7-abf2-324c9c3fc7f0",
   "metadata": {},
   "outputs": [],
   "source": []
  },
  {
   "cell_type": "code",
   "execution_count": null,
   "id": "2943e454-531a-4fef-ac08-3ff8c14389c4",
   "metadata": {},
   "outputs": [],
   "source": []
  },
  {
   "cell_type": "code",
   "execution_count": null,
   "id": "d963a288-2451-475d-bf32-61f1b0ec6978",
   "metadata": {
    "tags": []
   },
   "outputs": [],
   "source": [
    "fig, axs = plt.subplots(1,2,figsize=(3*2,1*3), sharex=True, sharey=True)\n",
    "\n",
    "plot_oneset(var_mtx_l23, var_mtx_rep_l23, axs) #color1='magenta', color2='gray', label='L23_IT')\n",
    "plot_oneset(var_mtx_l56, var_mtx_rep_l56, axs) #@color1='green', color2='lightgray', label='L56_IT')\n",
    "\n",
    "ax = axs[0]\n",
    "sns.despine(ax=ax)\n",
    "ax.grid(False)\n",
    "ax.set_xlabel('Postnatal day (P)')\n",
    "ax.set_ylabel('norm. variance')\n",
    "ax.set_title('A-C axis')\n",
    "\n",
    "ax = axs[1]\n",
    "sns.despine(ax=ax)\n",
    "ax.grid(False)\n",
    "ax.set_ylim(bottom=0)\n",
    "ax.set_xticks(times)\n",
    "ax.legend(bbox_to_anchor=(1,1))\n",
    "ax.set_title('B axis')\n",
    "\n",
    "output = os.path.join(outdirfig, \"ACvsB_var_vs_time.pdf\")\n",
    "powerplots.savefig_autodate(fig, output)\n",
    "plt.show()"
   ]
  },
  {
   "cell_type": "code",
   "execution_count": null,
   "id": "6d5f759a-f8d2-4080-ac6a-7d19c66d6793",
   "metadata": {
    "tags": []
   },
   "outputs": [],
   "source": [
    "fig, axs = plt.subplots(1,2,figsize=(3*2,1*3), sharex=True, sharey=True)\n",
    "\n",
    "plot_oneset_nr(var_mtx_l23, var_mtx_rep_l23, axs, color1='magenta', color2='gray', label='L23_IT')\n",
    "plot_oneset_nr(var_mtx_l56, var_mtx_rep_l56, axs, color1='green', color2='lightgray', label='L56_IT')\n",
    "\n",
    "ax = axs[0]\n",
    "sns.despine(ax=ax)\n",
    "ax.grid(False)\n",
    "ax.set_xlabel('Postnatal day (P)')\n",
    "ax.set_ylabel('norm. variance')\n",
    "ax.set_title('A-C axis')\n",
    "\n",
    "ax = axs[1]\n",
    "sns.despine(ax=ax)\n",
    "ax.grid(False)\n",
    "ax.set_ylim(bottom=0)\n",
    "ax.set_xticks(times)\n",
    "ax.legend(bbox_to_anchor=(1,1))\n",
    "ax.set_title('B axis')\n",
    "ax.set_xticks([6,10,14,17,21])\n",
    "\n",
    "output = os.path.join(outdirfig, \"ACvsB_var_vs_time.pdf\")\n",
    "powerplots.savefig_autodate(fig, output)\n",
    "plt.show()"
   ]
  },
  {
   "cell_type": "code",
   "execution_count": null,
   "id": "6a0e718a-6fdb-4eac-ad17-ae7eef8a0d47",
   "metadata": {},
   "outputs": [],
   "source": []
  },
  {
   "cell_type": "code",
   "execution_count": null,
   "id": "3dd14a46-cac9-4b88-9ebc-f9d47415636b",
   "metadata": {},
   "outputs": [],
   "source": []
  },
  {
   "cell_type": "code",
   "execution_count": null,
   "id": "5b1cd2ca-9d3a-4ece-a003-7117e0a1f645",
   "metadata": {},
   "outputs": [],
   "source": []
  },
  {
   "cell_type": "code",
   "execution_count": null,
   "id": "e03847aa-3089-4ee7-bacb-06a6f852187a",
   "metadata": {},
   "outputs": [],
   "source": []
  }
 ],
 "metadata": {
  "kernelspec": {
   "display_name": "napari",
   "language": "python",
   "name": "napari"
  },
  "language_info": {
   "codemirror_mode": {
    "name": "ipython",
    "version": 3
   },
   "file_extension": ".py",
   "mimetype": "text/x-python",
   "name": "python",
   "nbconvert_exporter": "python",
   "pygments_lexer": "ipython3",
   "version": "3.9.16"
  }
 },
 "nbformat": 4,
 "nbformat_minor": 5
}
