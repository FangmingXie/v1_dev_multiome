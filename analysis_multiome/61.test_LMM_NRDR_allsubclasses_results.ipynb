{
 "cells": [
  {
   "cell_type": "code",
   "execution_count": null,
   "id": "30b97a56-8884-4718-a56d-fc8af8e882e7",
   "metadata": {},
   "outputs": [],
   "source": [
    "import glob\n",
    "import pandas as pd\n",
    "import numpy as np\n",
    "import statsmodels.formula.api as smf\n",
    "from statsmodels.stats.multitest import multipletests\n",
    "import matplotlib.pyplot as plt\n",
    "import os\n",
    "\n",
    "import scanpy as sc\n",
    "import seaborn as sns\n",
    "\n",
    "from scroutines import basicu\n",
    "\n",
    "import warnings\n",
    "from statsmodels.tools.sm_exceptions import ConvergenceWarning\n",
    "from statsmodels.tools.sm_exceptions import ValueWarning\n",
    "from tqdm import tqdm"
   ]
  },
  {
   "cell_type": "code",
   "execution_count": null,
   "id": "ddd754bc-9794-422b-94bf-632978549592",
   "metadata": {
    "tags": []
   },
   "outputs": [],
   "source": [
    "f = '/u/home/f/f7xiesnm/project-zipursky/v1-bb/v1/data/annot/gencode.vM25.genebody.bed'\n",
    "df_annot = pd.read_csv(f, sep='\\t', header=None)\n",
    "df_annot"
   ]
  },
  {
   "cell_type": "code",
   "execution_count": null,
   "id": "73c49a5f-dcec-4483-8d8b-0221ec630727",
   "metadata": {
    "tags": []
   },
   "outputs": [],
   "source": [
    "ddir = '/u/home/f/f7xiesnm/project-zipursky/v1-bb/v1/results_nrdr_lmm/'\n",
    "!ls $ddir"
   ]
  },
  {
   "cell_type": "code",
   "execution_count": null,
   "id": "7c95a3ff-514f-451d-972d-0fbd22cc6eb3",
   "metadata": {
    "tags": []
   },
   "outputs": [],
   "source": [
    "res_df_sig = {}\n",
    "\n",
    "for filename in glob.glob(os.path.join(ddir, 'NRDR_DEGs_LMM_P21_*_v1.csv')):\n",
    "    subclass = filename.split('_')[-2]\n",
    "    df = pd.read_csv(filename, index_col=0)\n",
    "    df['max_cp10k'] = np.max(df.iloc[:,5:], axis=1)\n",
    "    x = df['log2fc']\n",
    "    y = df['qval']\n",
    "    z = df['max_cp10k']\n",
    "    converged = df['converged']\n",
    "\n",
    "    x_th = np.log2(2)\n",
    "    y_th = 0.05\n",
    "    z_th = 0.1\n",
    "\n",
    "    cond_sig = np.all([np.abs(x) > x_th, y < y_th, z > z_th, converged], axis=0)\n",
    "\n",
    "    print(subclass, np.sum(cond_sig))\n",
    "    df_sig = df[cond_sig].copy().sort_values('qval')\n",
    "    res_df_sig[subclass] = df_sig\n",
    "    "
   ]
  },
  {
   "cell_type": "code",
   "execution_count": null,
   "id": "5ea33bbf-73c3-4673-9f39-80ef866b48ba",
   "metadata": {
    "tags": []
   },
   "outputs": [],
   "source": [
    "labels = []\n",
    "nums = []\n",
    "for subclass, df_sig in res_df_sig.items():\n",
    "    labels.append(subclass)\n",
    "    nums.append(len(df_sig))\n",
    "    \n",
    "fig, ax = plt.subplots()\n",
    "ax.barh(np.arange(len(nums)), nums)\n",
    "ax.set_yticks(np.arange(len(nums)))\n",
    "ax.set_yticklabels(labels)\n",
    "plt.show()"
   ]
  },
  {
   "cell_type": "code",
   "execution_count": null,
   "id": "778a812d-9a60-42f6-bf4b-6ad53a331511",
   "metadata": {
    "tags": []
   },
   "outputs": [],
   "source": [
    "filename = os.path.join(ddir, 'NRDR_DEGs_LMM_P21_L23_v1.csv')\n",
    "df = pd.read_csv(filename, index_col=0)"
   ]
  },
  {
   "cell_type": "code",
   "execution_count": null,
   "id": "e00c481e-c943-484f-b117-23498ffd2fd5",
   "metadata": {
    "tags": []
   },
   "outputs": [],
   "source": [
    "df.set_index('gene').loc['Fos']"
   ]
  },
  {
   "cell_type": "code",
   "execution_count": null,
   "id": "f2795c7d-a939-4b8c-9dd5-442bdd8da4cd",
   "metadata": {
    "tags": []
   },
   "outputs": [],
   "source": [
    "df.set_index('gene').loc['Nptx2']"
   ]
  },
  {
   "cell_type": "code",
   "execution_count": null,
   "id": "2cb9e5c3-d41b-4308-9eec-52ec72673363",
   "metadata": {},
   "outputs": [],
   "source": []
  },
  {
   "cell_type": "code",
   "execution_count": null,
   "id": "2c352e2d-d252-4dad-a001-fb62357f28f4",
   "metadata": {},
   "outputs": [],
   "source": []
  }
 ],
 "metadata": {
  "kernelspec": {
   "display_name": "Python 3 (ipykernel)",
   "language": "python",
   "name": "python3"
  },
  "language_info": {
   "codemirror_mode": {
    "name": "ipython",
    "version": 3
   },
   "file_extension": ".py",
   "mimetype": "text/x-python",
   "name": "python",
   "nbconvert_exporter": "python",
   "pygments_lexer": "ipython3",
   "version": "3.9.16"
  }
 },
 "nbformat": 4,
 "nbformat_minor": 5
}
