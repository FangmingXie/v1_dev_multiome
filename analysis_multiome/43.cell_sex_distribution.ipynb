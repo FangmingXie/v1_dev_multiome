{
 "cells": [
  {
   "cell_type": "code",
   "execution_count": null,
   "id": "0d4f050b-d2de-45e7-8f7f-0dfba714408f",
   "metadata": {
    "tags": []
   },
   "outputs": [],
   "source": [
    "import numpy as np\n",
    "import pandas as pd\n",
    "import os\n",
    "\n",
    "import matplotlib.pyplot as plt\n",
    "import seaborn as sns\n",
    "from scipy import sparse\n",
    "from sklearn.decomposition import PCA\n",
    "\n",
    "import scanpy as sc\n",
    "from umap import UMAP\n",
    "from scroutines import powerplots\n",
    "from scroutines import basicu"
   ]
  },
  {
   "cell_type": "code",
   "execution_count": null,
   "id": "893d3807-381b-44ca-82d1-a2198f90089b",
   "metadata": {
    "tags": []
   },
   "outputs": [],
   "source": [
    "f = '/u/home/f/f7xiesnm/project-zipursky/v1-bb/v1/data/v1_multiome/superdupermegaRNA_hasraw.h5ad'\n",
    "meta = sc.read(f, backed='r').obs\n",
    "meta = meta[meta['Study']=='2023 Multiome']\n",
    "meta"
   ]
  },
  {
   "cell_type": "code",
   "execution_count": null,
   "id": "ca873fdf-d016-4497-b82a-b7a6695859cf",
   "metadata": {},
   "outputs": [],
   "source": [
    "f = '/u/home/f/f7xiesnm/v1_multiome/multiome_cell_sex_assignment_saumya.csv'\n",
    "df = pd.read_csv(f)\n",
    "df"
   ]
  },
  {
   "cell_type": "code",
   "execution_count": null,
   "id": "312da936-78f1-41ba-8d6a-be5b4429cba2",
   "metadata": {
    "tags": []
   },
   "outputs": [],
   "source": [
    "meta_aug = meta.join(df.set_index('cell'))\n",
    "meta_aug"
   ]
  },
  {
   "cell_type": "code",
   "execution_count": null,
   "id": "ec7f6c50-4403-4551-a89a-11762f302757",
   "metadata": {
    "tags": []
   },
   "outputs": [],
   "source": [
    "meta_aug['Age'] = meta_aug['Age'].astype('str')\n",
    "meta_aug['Subclass'] = meta_aug['Subclass'].astype('str')\n",
    "meta_aug['Sample'] = meta_aug['Sample'].astype('str')"
   ]
  },
  {
   "cell_type": "code",
   "execution_count": null,
   "id": "5ecb83e6-d63b-4c9f-a00f-b1d0730eb12a",
   "metadata": {
    "tags": []
   },
   "outputs": [],
   "source": [
    "nums = meta_aug.groupby(['Age', 'sex', 'Sample']).size()"
   ]
  },
  {
   "cell_type": "code",
   "execution_count": null,
   "id": "21cb7aa3-d776-4b82-8abb-65a10178cb05",
   "metadata": {},
   "outputs": [],
   "source": [
    "nums = meta_aug.groupby(['sex', 'Sample']).size()\n",
    "nums2 = nums.unstack().T\n",
    "nums2['ratio'] = nums['female']/nums['male']\n",
    "nums2"
   ]
  },
  {
   "cell_type": "code",
   "execution_count": null,
   "id": "1ac9630b-d6a6-4c76-88bc-beef5b4c08f2",
   "metadata": {
    "tags": []
   },
   "outputs": [],
   "source": []
  },
  {
   "cell_type": "code",
   "execution_count": null,
   "id": "1c03d5a7-68dd-4c02-b3f2-805bb5a2bcbb",
   "metadata": {},
   "outputs": [],
   "source": []
  },
  {
   "cell_type": "code",
   "execution_count": null,
   "id": "639ac15e-2278-43e3-8e2d-2567f1293b08",
   "metadata": {},
   "outputs": [],
   "source": [
    "# P6, P8, P10, P12, P14, P17, P12DR, P14DR, P17DR, P21DR (NO P21 FEMALE)"
   ]
  },
  {
   "cell_type": "code",
   "execution_count": null,
   "id": "5868df34-2281-410a-99df-ef5397c184c0",
   "metadata": {},
   "outputs": [],
   "source": []
  },
  {
   "cell_type": "code",
   "execution_count": null,
   "id": "aa9b50c3-ec88-4203-add5-366e698f8d9b",
   "metadata": {},
   "outputs": [],
   "source": []
  },
  {
   "cell_type": "code",
   "execution_count": null,
   "id": "9fd1391b-1905-48ab-959c-94e494e89424",
   "metadata": {},
   "outputs": [],
   "source": []
  },
  {
   "cell_type": "code",
   "execution_count": null,
   "id": "0c2d71b7-e9fd-4434-843b-bb3f159deeaf",
   "metadata": {},
   "outputs": [],
   "source": []
  },
  {
   "cell_type": "code",
   "execution_count": null,
   "id": "fc8ba75a-3b93-44b0-ad3a-eb471d7a3366",
   "metadata": {
    "tags": []
   },
   "outputs": [],
   "source": [
    "nums = meta_aug.groupby(['Age', 'Subclass', 'sex']).size()\n",
    "nums"
   ]
  },
  {
   "cell_type": "code",
   "execution_count": null,
   "id": "09e7b9bf-09a8-4ac3-8d2b-b5855dbf87ab",
   "metadata": {
    "tags": []
   },
   "outputs": [],
   "source": [
    "nums.unstack()"
   ]
  },
  {
   "cell_type": "code",
   "execution_count": null,
   "id": "1bb95f2d-4f99-41b1-866e-988f0f8fff35",
   "metadata": {},
   "outputs": [],
   "source": [
    "## to test sexual dimorphisms\n",
    "\n",
    "## OPTION 1\n",
    "# 1. for each Age and Subclass, compare gene expression difference between M and F; \n",
    "# 2. do the same comparisons shuffling M and F labels many times\n",
    "# 3. p-value: fraction of random trials in which the gene of interest has effect size (log2(M/F)) more extreme than in real data. \n",
    "# 4. FDR - for each gene. \n",
    "# 5. report (num of) significant genes. \n",
    "\n",
    "\n",
    "## OPTION 2  - LMM; for each condition, subclass and gene \n",
    "# g ~ 1 + sex + [sample] + ?[sample_sex] + epsilon\n",
    "# sex as a fixed effect\n",
    "# sample as a random batch effect\n",
    "\n",
    "\n",
    "\n",
    "## For ATAC\n",
    "# 1. call peaks using each stage and data. \n",
    "# 2. compare within that peak set. "
   ]
  }
 ],
 "metadata": {
  "kernelspec": {
   "display_name": "napari",
   "language": "python",
   "name": "napari"
  },
  "language_info": {
   "codemirror_mode": {
    "name": "ipython",
    "version": 3
   },
   "file_extension": ".py",
   "mimetype": "text/x-python",
   "name": "python",
   "nbconvert_exporter": "python",
   "pygments_lexer": "ipython3",
   "version": "3.9.16"
  }
 },
 "nbformat": 4,
 "nbformat_minor": 5
}
