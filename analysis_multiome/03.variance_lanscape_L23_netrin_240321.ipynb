{
 "cells": [
  {
   "cell_type": "code",
   "execution_count": null,
   "id": "3a50635c-f5a0-46df-860c-c89e0a9528c4",
   "metadata": {
    "tags": []
   },
   "outputs": [],
   "source": [
    "import anndata\n",
    "import numpy as np\n",
    "import pandas as pd\n",
    "import seaborn as sns\n",
    "import os\n",
    "\n",
    "from scroutines.config_plots import *\n",
    "from scroutines import basicu\n",
    "import importlib\n",
    "importlib.reload(basicu)"
   ]
  },
  {
   "cell_type": "markdown",
   "id": "0acc48ae-67ed-49d1-976d-ac9eae74b9e2",
   "metadata": {
    "tags": []
   },
   "source": [
    "# check features"
   ]
  },
  {
   "cell_type": "code",
   "execution_count": null,
   "id": "e43f80ec-a2ee-4d27-9566-541ec29d9ae7",
   "metadata": {},
   "outputs": [],
   "source": [
    "ddir = '../../data/cheng21_cell_scrna/organized/'\n",
    "files = [\n",
    "    #  'P8NR.h5ad',\n",
    "    # 'P14NR.h5ad',\n",
    "    'P17NR.h5ad',\n",
    "    \n",
    "    'P21NR.h5ad',\n",
    "    'P28NR.h5ad',\n",
    "    'P38NR.h5ad',\n",
    "] "
   ]
  },
  {
   "cell_type": "code",
   "execution_count": null,
   "id": "0d04b281-406a-45ea-9a2b-61366a21a30d",
   "metadata": {
    "tags": []
   },
   "outputs": [],
   "source": [
    "pbulks = []\n",
    "xclsts = []\n",
    "xcnsts = []\n",
    "\n",
    "ncond, nrep, nclst, ngene = len(files), 2, 3, -1, \n",
    "\n",
    "for f in files:\n",
    "    print(f)\n",
    "    \n",
    "    path = os.path.join(ddir, f)\n",
    "    adata = anndata.read(path)\n",
    "    genes = adata.var.index.values\n",
    "    \n",
    "    adata = adata[adata.obs['Type'].isin(['L2/3_A', 'L2/3_B', 'L2/3_C',])]\n",
    "    mat = adata.X\n",
    "    # type \n",
    "    types = adata.obs['Type'].astype(str).values\n",
    "    \n",
    "    # 1 or 2\n",
    "    sample_codes = adata.obs['sample'].apply(lambda x: x.split('_')[-1][:-1].replace('3', '2')).astype(str).values\n",
    "    sample_and_type = sample_codes + \"_\" + types\n",
    "    unqs, cnts = np.unique(sample_and_type, return_counts=True)\n",
    "    _xclsts, Xk, Xk_n, Xk_ln = basicu.counts_to_bulk_profiles(mat, sample_and_type) \n",
    "    \n",
    "    # check all types + reps are the same\n",
    "    if len(xclsts) > 0:\n",
    "        if not np.all(_xclsts == xclsts):\n",
    "            raise ValueError(_xclsts.shape, xclsts.shape, _xclsts, xclsts,)\n",
    "        if not np.all(_xclsts == unqs):\n",
    "            raise ValueError(_xclsts.shape, unqs.shape, _xclsts, unqs,)\n",
    "    else:\n",
    "        xclsts = _xclsts\n",
    "        print(xclsts)\n",
    "        \n",
    "    print(Xk_ln.shape)\n",
    "    pbulks.append(Xk_ln)\n",
    "    xcnsts.append(cnts)\n",
    "    \n",
    "pbulks = np.array(pbulks)\n",
    "xcnsts = np.array(xcnsts)\n",
    "print(pbulks.shape)\n",
    "pbulks = pbulks.reshape(ncond,nrep,nclst,-1)\n",
    "xcnsts = xcnsts.reshape(ncond,nrep,nclst)\n",
    "xclsts = xclsts.reshape(      nrep,nclst)\n",
    "print(pbulks.shape)"
   ]
  },
  {
   "cell_type": "code",
   "execution_count": null,
   "id": "43c62a92-5d18-423e-9166-7ec41d1b4348",
   "metadata": {},
   "outputs": [],
   "source": []
  },
  {
   "cell_type": "code",
   "execution_count": null,
   "id": "85e146ef-c970-4b51-bdf4-c6cb36627ddd",
   "metadata": {
    "tags": []
   },
   "outputs": [],
   "source": [
    "# check the pbulks are good -- log10(CPM+1) for each sample\n",
    "checkpbulks = np.sum(np.power(10, pbulks)-1, axis=-1)\n",
    "checkpbulks.shape, np.all(np.abs(checkpbulks-1e6) < 1e-6)"
   ]
  },
  {
   "cell_type": "code",
   "execution_count": null,
   "id": "b1fe5648-3bd5-493d-84e8-a9574f9df196",
   "metadata": {
    "tags": []
   },
   "outputs": [],
   "source": [
    "# cell types\n",
    "xclsts_short = np.array([clst[len(\"1_\"):] for clst in xclsts[0]]) #, '_'\n",
    "numcells = pd.DataFrame(xcnsts.T.reshape(-1,nrep*ncond), index=xclsts_short)\n",
    "numcells.min(axis=1).sort_values()"
   ]
  },
  {
   "cell_type": "code",
   "execution_count": null,
   "id": "8a0cd0d3-aa43-4093-b542-db005c3b3f71",
   "metadata": {
    "tags": []
   },
   "outputs": [],
   "source": [
    "# select cell types\n",
    "xclsts_sel = xclsts_short[numcells.min(axis=1)>20]\n",
    "xclsts_selidx = basicu.get_index_from_array(xclsts_short, xclsts_sel)\n",
    "X = pbulks[:,:,xclsts_selidx,:]\n",
    "print(xclsts_sel)\n",
    "\n",
    "# select genes - mean (across 2 rep) expr of CPM=10 in any subclass at any time\n",
    "expressed_any = np.any(np.mean(pbulks, axis=2) > np.log10(10+1), axis=(0,1)) \n",
    "genes_comm = genes[expressed_any]\n",
    "genes_cidx = np.arange(len(genes))[expressed_any] \n",
    "X = X[:,:,:,expressed_any]\n",
    "print(X.shape)\n",
    "\n",
    "# reorder\n",
    "X = np.swapaxes(X,1,2) \n",
    "print(X.shape)\n",
    "nt, nc, nr, ng = X.shape # ntime, nclst, nrep, ngene\n"
   ]
  },
  {
   "cell_type": "markdown",
   "id": "383eab03-f70c-439f-acc2-586dce5a4763",
   "metadata": {},
   "source": [
    "# Load annotations"
   ]
  },
  {
   "cell_type": "code",
   "execution_count": null,
   "id": "0c5111df-85a3-4265-9226-863ce07b875f",
   "metadata": {
    "tags": []
   },
   "outputs": [],
   "source": [
    "# !ls -alhtr ../../data/annot/*"
   ]
  },
  {
   "cell_type": "code",
   "execution_count": null,
   "id": "c7b654a9-5d27-4fb4-bd94-474e454b0edf",
   "metadata": {
    "tags": []
   },
   "outputs": [],
   "source": [
    "annot_files = [\n",
    "    '../../data/annot/Lrr_superfamily.txt',\n",
    "    '../../data/annot/Igsf_uniprot.txt',\n",
    "    '../../data/annot/GPCR.txt',\n",
    "    '../../data/annot/diffgenes_2022RNA-2023Multiome.txt',\n",
    "    '../../data/annot/CdhSF_interpro.txt',\n",
    "    '../../data/annot/All_TFs.txt',\n",
    "]\n",
    "\n",
    "genes_annots = {os.path.basename(f).split('.')[0]: np.loadtxt(f, dtype=str) for f in annot_files}\n",
    "for key, val in genes_annots.items():\n",
    "    print(key, len(val), val[:5])"
   ]
  },
  {
   "cell_type": "code",
   "execution_count": null,
   "id": "9b9f9dea-6a87-4974-b519-30f3f295e7a7",
   "metadata": {},
   "outputs": [],
   "source": [
    "mdl = np.sort([g for g in genes if g.startswith('Ntn')]) # ntn and ntng\n",
    "print(mdl)\n",
    "genes_annots['Netrin'] = mdl\n",
    "\n",
    "mdl = np.sort([g for g in genes if g.startswith('Unc5')]) # ntn and ntng\n",
    "print(mdl)\n",
    "genes_annots['Unc5'] = mdl\n",
    "\n",
    "mdl = np.sort([g for g in genes if g.startswith('Sema')]) # ntn and ntng\n",
    "print(mdl)\n",
    "genes_annots['Semaphorin'] = mdl\n",
    "\n",
    "mdl = np.sort([g for g in genes if g.startswith('Slit')]) # ntn and ntng\n",
    "print(mdl)\n",
    "genes_annots['Slit'] = mdl\n",
    "\n",
    "mdl = np.sort([g for g in genes if g.startswith('Epha') or g.startswith('Ephb') or g.startswith('Efn')]) # ntn and ntng\n",
    "print(mdl)\n",
    "genes_annots['EphEphrin'] = mdl\n",
    "\n",
    "mdl = np.sort([g for g in genes if g.startswith('Fgf')]) # or g.startswith('Ephb') or g.startswith('Efn')]) # ntn and ntng\n",
    "print(mdl)\n",
    "genes_annots['Fgf'] = mdl\n",
    "\n",
    "mdl = np.sort([g for g in genes if g.startswith('Grm')]) \n",
    "print(mdl)\n",
    "genes_annots['Grm'] = mdl\n",
    "\n",
    "genes_annots_overlap = {}\n",
    "for key, val in genes_annots.items():\n",
    "    overlap = np.sort(np.intersect1d(val, genes_comm))\n",
    "    genes_annots_overlap[key] = overlap\n",
    "    print(key, len(val), len(overlap))\n",
    "    print(val[:5], overlap[:5])"
   ]
  },
  {
   "cell_type": "code",
   "execution_count": null,
   "id": "0bcd58db-a550-407e-acb4-e8eae26d9805",
   "metadata": {},
   "outputs": [],
   "source": []
  },
  {
   "cell_type": "markdown",
   "id": "182763f6-a9e0-45b9-b8ee-e904fbed55ae",
   "metadata": {},
   "source": [
    "# calc stats "
   ]
  },
  {
   "cell_type": "code",
   "execution_count": null,
   "id": "b58fdbe6-7bd6-402e-8cbb-c6ad99e88b1b",
   "metadata": {
    "tags": []
   },
   "outputs": [],
   "source": [
    "def get_2way_eta2_allgenes(nums):\n",
    "    \"\"\"\n",
    "    nums: c0, c1, r, g matrix - (cond0, cond1, cond x, ..., reps, genes)\n",
    "    \n",
    "    return (eta2, stdv) - vectors one entry for each gene\n",
    "    \"\"\"\n",
    "    nc0, nc1, nr, ng = nums.shape # (num cond0, cond1, num rep, num genes)\n",
    "\n",
    "    rm   = np.mean(nums, axis=(0,1,2)) # global mean; reduced form\n",
    "    rm0  = np.mean(nums, axis=(1,2))   # mean per c0 across reps and ignoring c1  \n",
    "    rm1  = np.mean(nums, axis=(0,2))   # mean per c1 across reps and ignoring c0 \n",
    "    rm01 = np.mean(nums, axis=(2)) # mean per (c0, c1) across reps  \n",
    "    \n",
    "    em   = np.expand_dims(rm  , axis=(0,1,2)) # expanded form\n",
    "    em0  = np.expand_dims(rm0 , axis=(1,2))   # expanded form\n",
    "    em1  = np.expand_dims(rm1 , axis=(0,2))   # expanded form\n",
    "    em01 = np.expand_dims(rm01, axis=(2))     #  \n",
    "\n",
    "    # # SSt \n",
    "    SSt  = np.sum(np.power(nums-em, 2),   axis=(0,1,2))  \n",
    "    \n",
    "    # # SSwr (noise)\n",
    "    SSwr = np.sum(np.power(nums-em01, 2), axis=(0,1,2))  # within (c0,c1) across reps \n",
    "    \n",
    "    # # SSw\n",
    "    SSw0 = nr*np.sum(np.power(em01-em0, 2),  axis=(0,1,2))  # within c0 across reps and ignoring c1\n",
    "    SSw1 = nr*np.sum(np.power(em01-em1, 2),  axis=(0,1,2))  # within c1 across reps and ignoring c0 \n",
    "    \n",
    "    # SSt = SSwr + SSexp\n",
    "    # where SSexp = SSw0 + SSexp0 = SSw1 + SSexp1\n",
    "    SSexp  = SSt   - SSwr\n",
    "    SSexp0 = SSexp - SSw0\n",
    "    SSexp1 = SSexp - SSw1\n",
    "    \n",
    "    # return SSt, SSwr, SSw0, SSw1\n",
    "    \n",
    "    o = 1e-10\n",
    "    eta2_01 = (SSexp +o)/(SSt+o)\n",
    "    eta2_0  = (SSexp0+o)/(SSt+o)\n",
    "    eta2_1  = (SSexp1+o)/(SSt+o)\n",
    "    \n",
    "    return eta2_01, eta2_0, eta2_1\n"
   ]
  },
  {
   "cell_type": "code",
   "execution_count": null,
   "id": "403f6998-cd5c-45c3-895c-c8574907adff",
   "metadata": {
    "tags": []
   },
   "outputs": [],
   "source": [
    "eta2_tc, eta2_t, eta2_c = get_2way_eta2_allgenes(X)\n",
    "eta2_r = 1-eta2_tc"
   ]
  },
  {
   "cell_type": "code",
   "execution_count": null,
   "id": "3635cc2d-981c-4d3e-a151-5f4d134973cf",
   "metadata": {
    "tags": []
   },
   "outputs": [],
   "source": [
    "fig, ax = plt.subplots(figsize=(5,6))\n",
    "sns.boxplot([eta2_t, eta2_c, eta2_r, \n",
    "             eta2_t+eta2_c, eta2_tc, eta2_t+eta2_c+eta2_r,  \n",
    "            ])\n",
    "ax.set_xticklabels(['time', 'type', 'rep', \n",
    "                    'time+\\ntype', \n",
    "                    'time&\\ntype', \n",
    "                    'time+\\ntype+\\nrep'], rotation=0, fontsize=12)\n",
    "ax.set_ylabel('variance explained by')\n",
    "plt.show()"
   ]
  },
  {
   "cell_type": "code",
   "execution_count": null,
   "id": "8783fa7e-18a7-445f-b010-9a31b277e632",
   "metadata": {
    "tags": []
   },
   "outputs": [],
   "source": [
    "fig, ax = plt.subplots(figsize=(8,6))\n",
    "g = ax.scatter(eta2_t, eta2_c, c=1-eta2_tc, s=1, cmap='viridis', vmin=0, vmax=1)\n",
    "fig.colorbar(g, shrink=0.5, ticks=[0, 0.5, 1], label='var exp replicates')\n",
    "ax.set_aspect('equal')\n",
    "ax.set_xlabel('var exp time')\n",
    "ax.set_ylabel('var exp type')\n",
    "plt.show()"
   ]
  },
  {
   "cell_type": "code",
   "execution_count": null,
   "id": "369a51b7-5358-4804-ab35-690ab5a38ea6",
   "metadata": {
    "tags": []
   },
   "outputs": [],
   "source": [
    "import plotly.graph_objects as go\n",
    "\n",
    "# Generate some random data\n",
    "x = eta2_t\n",
    "y = eta2_c\n",
    "z = 1-eta2_tc\n",
    "\n",
    "# Create a 3D scatter plot\n",
    "fig = go.Figure(data=[go.Scatter3d(x=x, y=y, z=z, mode='markers', marker=dict(size=1))])\n",
    "\n",
    "# Update layout\n",
    "fig.update_layout(scene=dict(\n",
    "                    xaxis_title='time',\n",
    "                    yaxis_title='type',\n",
    "                    zaxis_title='rep'),\n",
    "                  title='time type rep', \n",
    "                  height=800,\n",
    "                  width=1000,\n",
    "                 )\n",
    "\n",
    "# Display the plot in the Jupyter notebook\n",
    "fig.show()\n"
   ]
  },
  {
   "cell_type": "code",
   "execution_count": null,
   "id": "5594b182-5742-46af-9d29-58a429f3c188",
   "metadata": {
    "tags": []
   },
   "outputs": [],
   "source": [
    "n = len(genes_annots_overlap)\n",
    "fig, axs = plt.subplots(5, 3, figsize=(5*3,6*5))\n",
    "for i, (key, val) in enumerate(genes_annots_overlap.items()):\n",
    "    ax = axs.flat[i]\n",
    "    ax.set_xticks([0, 0.5, 1])\n",
    "    ax.set_yticks([0, 0.5, 1])\n",
    "    g = ax.scatter(eta2_t, eta2_c, s=1, c='lightgray')\n",
    "    \n",
    "    ax.set_title(f'{key}\\nn={len(val)}/{len(genes_annots[key])}')\n",
    "    val_idx = basicu.get_index_from_array(genes_comm, val)\n",
    "    g2 = ax.scatter(eta2_t[val_idx], eta2_c[val_idx], s=1, c='C1', zorder=2)\n",
    "    sns.despine(ax=ax)\n",
    "    ax.set_xlim([0,1])\n",
    "    ax.set_ylim([0,1])\n",
    "    \n",
    "    # fig.colorbar(g)\n",
    "    ax.set_aspect('equal')\n",
    "plt.show()"
   ]
  },
  {
   "cell_type": "markdown",
   "id": "28127f6d-9477-478e-b62e-a4274067f3fc",
   "metadata": {
    "tags": []
   },
   "source": [
    "# check a few genes"
   ]
  },
  {
   "cell_type": "code",
   "execution_count": null,
   "id": "ef4b7ee8-4a20-4ada-b326-192a73f047d2",
   "metadata": {
    "tags": []
   },
   "outputs": [],
   "source": [
    "def plot_query_gene_landscape(key, val):\n",
    "    val_idx = basicu.get_index_from_array(genes_comm, val)\n",
    "    x = eta2_t[val_idx]\n",
    "    y = eta2_c[val_idx]\n",
    "\n",
    "    fig, ax = plt.subplots(1, 1, figsize=(5*1,6*1))\n",
    "    ax.set_title(key)\n",
    "    # ax.set_title(f'{key}\\nn={len(val)}/{len(genes_annots[key])}')\n",
    "    ax.set_xticks([0, 0.5, 1])\n",
    "    ax.set_yticks([0, 0.5, 1])\n",
    "\n",
    "    g = ax.scatter(eta2_t, eta2_c, s=1, c='lightgray')\n",
    "    g2 = ax.scatter(x, y, s=1, c='C1', zorder=2)\n",
    "    for xi, yi, vali in zip(x, y, val):\n",
    "        ax.text(xi, yi, vali, fontsize=10)\n",
    "    sns.despine(ax=ax)\n",
    "    ax.set_xlim([0,1])\n",
    "    ax.set_ylim([0,1])\n",
    "    ax.set_xlabel('time')\n",
    "    ax.set_ylabel('type')\n",
    "\n",
    "    ax.set_aspect('equal')\n",
    "    plt.show()"
   ]
  },
  {
   "cell_type": "code",
   "execution_count": null,
   "id": "c43e66e0-fa33-419c-9cc7-a97d6f5aee22",
   "metadata": {
    "tags": []
   },
   "outputs": [],
   "source": [
    "def plot_query_genes(query_genes):\n",
    "    types = xclsts_sel \n",
    "    colors = sns.color_palette('tab10', len(types))\n",
    "    # ts = [8, 14, 17, 21, 28, 38]\n",
    "    ts = [17, 21, 28, 38]\n",
    "    \n",
    "    query_gis   = basicu.get_index_from_array(genes_comm, query_genes)\n",
    "    pbulks_sub = X[:,:,:,query_gis]\n",
    "    pbulks_sub = np.swapaxes(pbulks_sub, 0, 3) # nt, nc, nr, ng -> ng, nc, nr, nt\n",
    "    gnames = genes_comm[query_gis]\n",
    "    \n",
    "    n = len(query_gis)\n",
    "    nx = min(n, 5)\n",
    "    ny = int((n+nx-1)/nx)\n",
    "\n",
    "    fig, axs = plt.subplots(ny,nx,figsize=(nx*3,ny*4), sharex=True)\n",
    "    for j, (pbulks_g, gname, ax) in enumerate(zip(pbulks_sub, gnames, axs.flat)):\n",
    "        ax.set_title(gname)\n",
    "        for i in range(nc):\n",
    "            color = colors[i]\n",
    "            lbl = types[i]\n",
    "            ax.plot(ts, np.mean(pbulks_g[i], axis=0), color=color, label=lbl)\n",
    "            ax.scatter(ts, pbulks_g[i][0], s=5, color=color)\n",
    "            ax.scatter(ts, pbulks_g[i][1], s=5, color=color)\n",
    "\n",
    "        sns.despine(ax=ax)\n",
    "        ax.grid(False) # , axis='x')\n",
    "\n",
    "        ax.set_xticks(ts)\n",
    "        ax.tick_params(axis='both', which='major', labelsize=10)\n",
    "\n",
    "        # if j == 0:\n",
    "        #     ax.legend()\n",
    "        if j % 5 == 0:\n",
    "            ax.set_ylabel('log10(CPM+1)')\n",
    "        # if j >= 5:\n",
    "        #     ax.set_xlabel('P')\n",
    "\n",
    "    # axs.flat[0].legend(bbox_to_anchor=(1,1))\n",
    "    axs.flat[0].legend()\n",
    "    fig.tight_layout()\n",
    "    plt.show()"
   ]
  },
  {
   "cell_type": "code",
   "execution_count": null,
   "id": "dadb07b7-ca6e-47e8-b387-a5f8661a8158",
   "metadata": {
    "tags": []
   },
   "outputs": [],
   "source": [
    "key = 'Rfx3'\n",
    "val = ['Rfx3', 'Npas4'] #$ genes_annots_overlap[key]\n",
    "print(val)\n",
    "\n",
    "plot_query_gene_landscape(key, val)\n",
    "plot_query_genes(val)"
   ]
  },
  {
   "cell_type": "code",
   "execution_count": null,
   "id": "9d4b66a8-c6f1-4936-a740-4bec18695221",
   "metadata": {
    "tags": []
   },
   "outputs": [],
   "source": [
    "key = 'Netrin'\n",
    "val = genes_annots_overlap[key]\n",
    "print(val)\n",
    "\n",
    "plot_query_gene_landscape(key, val)\n",
    "plot_query_genes(val)"
   ]
  },
  {
   "cell_type": "code",
   "execution_count": null,
   "id": "53b6880e-6f53-4fe9-a151-d9f3aa17754f",
   "metadata": {
    "tags": []
   },
   "outputs": [],
   "source": [
    "key = 'Grm'\n",
    "val = genes_annots_overlap[key]\n",
    "print(val)\n",
    "\n",
    "plot_query_gene_landscape(key, val)\n",
    "plot_query_genes(val)"
   ]
  },
  {
   "cell_type": "code",
   "execution_count": null,
   "id": "7825b68b-3755-403d-bf85-a90cfac5f041",
   "metadata": {
    "tags": []
   },
   "outputs": [],
   "source": [
    "key = 'Unc5'\n",
    "val = genes_annots_overlap[key]\n",
    "print(val)\n",
    "\n",
    "plot_query_gene_landscape(key, val)\n",
    "plot_query_genes(val)"
   ]
  },
  {
   "cell_type": "code",
   "execution_count": null,
   "id": "1472a578-c6a3-4df5-80cc-097d583d7144",
   "metadata": {
    "tags": []
   },
   "outputs": [],
   "source": [
    "key = 'Semaphorin'\n",
    "val = genes_annots_overlap[key]\n",
    "print(val)\n",
    "\n",
    "plot_query_gene_landscape(key, val)\n",
    "plot_query_genes(val)"
   ]
  },
  {
   "cell_type": "code",
   "execution_count": null,
   "id": "c5551fd6-8011-43d6-bf1a-7e2c4fa6996b",
   "metadata": {
    "tags": []
   },
   "outputs": [],
   "source": [
    "key = 'Slit'\n",
    "val = genes_annots_overlap[key]\n",
    "print(val)\n",
    "\n",
    "plot_query_gene_landscape(key, val)\n",
    "plot_query_genes(val)"
   ]
  },
  {
   "cell_type": "code",
   "execution_count": null,
   "id": "42cc69e9-880a-406c-918f-358dcce7b028",
   "metadata": {
    "tags": []
   },
   "outputs": [],
   "source": [
    "key = 'EphEphrin'\n",
    "val = genes_annots_overlap[key]\n",
    "print(val)\n",
    "\n",
    "plot_query_gene_landscape(key, val)\n",
    "plot_query_genes(val)"
   ]
  },
  {
   "cell_type": "code",
   "execution_count": null,
   "id": "332c3c9d-537e-445d-8546-eab62c16b405",
   "metadata": {
    "tags": []
   },
   "outputs": [],
   "source": [
    "key = 'Fgf'\n",
    "val = genes_annots_overlap[key]\n",
    "print(val)\n",
    "\n",
    "plot_query_gene_landscape(key, val)\n",
    "plot_query_genes(val)"
   ]
  },
  {
   "cell_type": "code",
   "execution_count": null,
   "id": "55f5651c-3f6b-4a11-b8dd-44873d8b5592",
   "metadata": {},
   "outputs": [],
   "source": []
  },
  {
   "cell_type": "code",
   "execution_count": null,
   "id": "636d18cd-13c8-4520-9f1d-e7d219425b94",
   "metadata": {},
   "outputs": [],
   "source": []
  },
  {
   "cell_type": "code",
   "execution_count": null,
   "id": "971f8a15-2467-4cdc-b77c-efd96630be7b",
   "metadata": {},
   "outputs": [],
   "source": []
  }
 ],
 "metadata": {
  "kernelspec": {
   "display_name": "napari",
   "language": "python",
   "name": "napari"
  },
  "language_info": {
   "codemirror_mode": {
    "name": "ipython",
    "version": 3
   },
   "file_extension": ".py",
   "mimetype": "text/x-python",
   "name": "python",
   "nbconvert_exporter": "python",
   "pygments_lexer": "ipython3",
   "version": "3.9.16"
  }
 },
 "nbformat": 4,
 "nbformat_minor": 5
}
