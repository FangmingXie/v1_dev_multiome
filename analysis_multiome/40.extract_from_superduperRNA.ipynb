{
 "cells": [
  {
   "cell_type": "code",
   "execution_count": null,
   "id": "bb214b6d-836a-49b8-93dd-a19f021215b7",
   "metadata": {
    "tags": []
   },
   "outputs": [],
   "source": [
    "import numpy as np\n",
    "import pandas as pd\n",
    "from scipy.stats import zscore\n",
    "from scipy import sparse \n",
    "from scipy.spatial import ConvexHull\n",
    "from sklearn.decomposition import PCA\n",
    "import matplotlib.pyplot as plt\n",
    "import seaborn as sns\n",
    "\n",
    "import scanpy as sc\n",
    "from py_pcha import PCHA"
   ]
  },
  {
   "cell_type": "code",
   "execution_count": null,
   "id": "f4954425-7161-4804-8f90-f12ea6b1979c",
   "metadata": {
    "tags": []
   },
   "outputs": [],
   "source": [
    "import os\n",
    "import numpy as np\n",
    "import pandas as pd\n",
    "import scanpy as sc\n",
    "import anndata \n",
    "import seaborn as sns\n",
    "from scipy.stats import zscore\n",
    "import matplotlib.pyplot as plt\n",
    "import collections\n",
    "from natsort import natsorted\n",
    "import re\n",
    "\n",
    "from scipy import stats\n",
    "from scipy import sparse\n",
    "from sklearn.decomposition import PCA\n",
    "from umap import UMAP\n",
    "\n",
    "from matplotlib.colors import LinearSegmentedColormap\n",
    "\n",
    "from scroutines.config_plots import *\n",
    "from scroutines import powerplots # .config_plots import *\n",
    "from scroutines import pnmf\n",
    "from scroutines import basicu\n",
    "from scroutines.gene_modules import GeneModules  \n"
   ]
  },
  {
   "cell_type": "markdown",
   "id": "3b3e075a-5d66-4efb-8b6c-dd37a3ac26eb",
   "metadata": {},
   "source": [
    "# load data explore"
   ]
  },
  {
   "cell_type": "code",
   "execution_count": null,
   "id": "1aa6f028-6e89-4146-b586-6a0cbcbc8a6f",
   "metadata": {
    "tags": []
   },
   "outputs": [],
   "source": [
    "f_anndata_in  = \"../../data/v1_multiome/superdupermegaRNA_hasraw.h5ad\"\n",
    "adata = anndata.read(f_anndata_in, backed='r')\n",
    "adata"
   ]
  },
  {
   "cell_type": "code",
   "execution_count": null,
   "id": "56154a58-4d83-4565-ad16-e3852f1f3f8d",
   "metadata": {},
   "outputs": [],
   "source": [
    "meta = adata.obs\n",
    "meta = meta[meta['Subclass']=='L2/3']\n",
    "meta = meta[meta['Study']!='2023 Multiome']\n",
    "meta['Age'].unique()"
   ]
  },
  {
   "cell_type": "code",
   "execution_count": null,
   "id": "d4ece632-c9a4-4b63-a66d-d432f05b073a",
   "metadata": {
    "tags": []
   },
   "outputs": [],
   "source": [
    "meta[meta['Age']=='P28'].shape"
   ]
  },
  {
   "cell_type": "markdown",
   "id": "b0fff612-4e99-428d-ad64-e6a3d4bd1349",
   "metadata": {
    "tags": []
   },
   "source": [
    "# load data execute"
   ]
  },
  {
   "cell_type": "code",
   "execution_count": null,
   "id": "5d79d124-b23f-4515-8a52-8e32b4d7d4cc",
   "metadata": {
    "tags": []
   },
   "outputs": [],
   "source": [
    "f_anndata_in   = \"../../data/v1_multiome/superdupermegaRNA_hasraw.h5ad\"\n",
    "f_anndata_out  = \"../../data/v1_multiome/superdupermegaRNA_hasraw_cheng22_l23.h5ad\"\n",
    "adata = anndata.read(f_anndata_in, backed='r')\n",
    "adata"
   ]
  },
  {
   "cell_type": "code",
   "execution_count": null,
   "id": "254388a8-de16-44dd-8b28-8677f7cc500d",
   "metadata": {},
   "outputs": [],
   "source": [
    "meta = adata.obs\n",
    "meta = meta[meta['Subclass']=='L2/3']\n",
    "meta = meta[meta['Study']!='2023 Multiome']\n",
    "\n",
    "adata_out = adata[meta.index]\n",
    "adata_out"
   ]
  },
  {
   "cell_type": "code",
   "execution_count": null,
   "id": "e7df467b-60d0-4c2d-b3e4-9c5c7b5c0f20",
   "metadata": {
    "tags": []
   },
   "outputs": [],
   "source": [
    "adata_out.obs['Age']"
   ]
  },
  {
   "cell_type": "code",
   "execution_count": null,
   "id": "27a045e6-eb9d-43ba-bfd0-bebea23424b1",
   "metadata": {
    "tags": []
   },
   "outputs": [],
   "source": [
    "%%time\n",
    "adata_out.write(f_anndata_out)"
   ]
  },
  {
   "cell_type": "code",
   "execution_count": null,
   "id": "ffcd74f1-1709-4a9f-a5e7-f69c1190c6ed",
   "metadata": {
    "tags": []
   },
   "outputs": [],
   "source": [
    "adata_out_check = sc.read(f_anndata_out)\n",
    "adata_out_check.obs['Age']"
   ]
  },
  {
   "cell_type": "code",
   "execution_count": null,
   "id": "1f86ea87-7d0c-437c-8a19-e206396b3411",
   "metadata": {},
   "outputs": [],
   "source": []
  }
 ],
 "metadata": {
  "kernelspec": {
   "display_name": "napari",
   "language": "python",
   "name": "napari"
  },
  "language_info": {
   "codemirror_mode": {
    "name": "ipython",
    "version": 3
   },
   "file_extension": ".py",
   "mimetype": "text/x-python",
   "name": "python",
   "nbconvert_exporter": "python",
   "pygments_lexer": "ipython3",
   "version": "3.9.16"
  }
 },
 "nbformat": 4,
 "nbformat_minor": 5
}
