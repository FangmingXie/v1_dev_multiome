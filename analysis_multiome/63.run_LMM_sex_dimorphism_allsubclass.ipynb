{
 "cells": [
  {
   "cell_type": "code",
   "execution_count": null,
   "id": "30b97a56-8884-4718-a56d-fc8af8e882e7",
   "metadata": {},
   "outputs": [],
   "source": [
    "import pandas as pd\n",
    "import numpy as np\n",
    "import statsmodels.formula.api as smf\n",
    "from statsmodels.stats.multitest import multipletests\n",
    "import matplotlib.pyplot as plt\n",
    "import os\n",
    "from scipy import stats\n",
    "\n",
    "import scanpy as sc\n",
    "import seaborn as sns\n",
    "\n",
    "from scroutines import basicu\n",
    "\n",
    "import warnings\n",
    "from statsmodels.tools.sm_exceptions import ConvergenceWarning\n",
    "from statsmodels.tools.sm_exceptions import ValueWarning\n",
    "from tqdm import tqdm"
   ]
  },
  {
   "cell_type": "code",
   "execution_count": null,
   "id": "2e3d2942-d775-4c43-88e6-a8a49a9a8d43",
   "metadata": {
    "tags": []
   },
   "outputs": [],
   "source": [
    "import lmm\n",
    "import importlib\n",
    "importlib.reload(lmm)"
   ]
  },
  {
   "cell_type": "code",
   "execution_count": null,
   "id": "73c49a5f-dcec-4483-8d8b-0221ec630727",
   "metadata": {
    "tags": []
   },
   "outputs": [],
   "source": [
    "outfigdir = '/u/home/f/f7xiesnm/project-zipursky/v1-bb/v1/results_sexual_dimorphism'\n",
    "!mkdir $outfigdir"
   ]
  },
  {
   "cell_type": "markdown",
   "id": "f212b48d-631b-4498-9b93-c996db54e22c",
   "metadata": {},
   "source": [
    "# 3 criteria\n",
    "- FDR < 0.05 LMM (g ~ 1 + sex + subject)  # (does sex have an effect beyond subject noise?)\n",
    "- sufficient expression (max subject) > 0.1 (CP10k)\n",
    "- effect size (log2(FC) > 1)"
   ]
  },
  {
   "cell_type": "code",
   "execution_count": null,
   "id": "7508e4b9-241a-42ea-9d4a-42d0a9220de0",
   "metadata": {
    "tags": []
   },
   "outputs": [],
   "source": [
    "f1 = '/u/home/f/f7xiesnm/project-zipursky/v1-bb/v1/data/v1_multiome/superdupermegaRNA_hasraw_multiome.h5ad'\n",
    "f2 = '/u/home/f/f7xiesnm/v1_multiome/multiome_cell_sex_assignment_saumya.csv'\n",
    "adata  = sc.read(f1)\n",
    "              \n",
    "df_sex = pd.read_csv(f2)\n",
    "adata.obs = adata.obs.join(df_sex.set_index('cell'))\n",
    "adata.X = adata.raw.X\n",
    "adata = adata[:,~adata.var.index.str.contains(f'^mt')]\n",
    "adata"
   ]
  },
  {
   "cell_type": "code",
   "execution_count": null,
   "id": "b3aacc89-1800-4444-b6a1-31885d24dacd",
   "metadata": {
    "tags": []
   },
   "outputs": [],
   "source": [
    "meta = adata.obs.copy() #.join(df_sex.set_index('cell'))#.set_index('cell')\n",
    "meta['Age'] = meta['Age'].astype(str)\n",
    "meta['Sample'] = meta['Sample'].astype(str)\n",
    "meta['Subclass'] = meta['Subclass'].astype(str)\n",
    "print(meta.shape)\n",
    "\n",
    "# filter sex assignment (remove undetermined)\n",
    "meta = meta[meta['sex']!='nan']\n",
    "print(meta.shape)\n",
    "\n",
    "# filter condition - at least 2 samples having both sex\n",
    "meta = meta[~meta['Age'].isin(['P14', 'P21'])]\n",
    "print(meta.shape)\n",
    "\n",
    "# filter subclass - at least 10 cells in any sample\n",
    "subclass_abundance = meta.groupby(['Subclass', 'Sample']).size().unstack().fillna(0)\n",
    "subclass_abundance_pass = subclass_abundance[subclass_abundance.min(axis=1) > 10]\n",
    "subclasses = subclass_abundance_pass.index.values\n",
    "meta = meta[meta['Subclass'].isin(subclasses)]\n",
    "print(meta.shape)"
   ]
  },
  {
   "cell_type": "code",
   "execution_count": null,
   "id": "dec28ce2-8d53-4f6a-bbcf-cb7bda259f3d",
   "metadata": {
    "tags": []
   },
   "outputs": [],
   "source": [
    "uniq_subclasses = np.unique(meta['Subclass'])\n",
    "uniq_conditions = np.unique(meta['Age'])\n",
    "print(uniq_subclasses)\n",
    "print(uniq_conditions)"
   ]
  },
  {
   "cell_type": "code",
   "execution_count": null,
   "id": "f15902cc-fd99-42bf-b93d-692ab0e837fb",
   "metadata": {
    "tags": []
   },
   "outputs": [],
   "source": [
    "meta_counts = meta.groupby(['Sample', 'sex', 'Subclass']).size().unstack().fillna(0)\n",
    "meta_counts"
   ]
  },
  {
   "cell_type": "code",
   "execution_count": null,
   "id": "de922dd2-1b22-4ac6-8121-d4b592e86333",
   "metadata": {
    "tags": []
   },
   "outputs": [],
   "source": [
    "meta_counts[['L6b', 'Lamp5']]"
   ]
  },
  {
   "cell_type": "code",
   "execution_count": null,
   "id": "9e4c2ae6-e596-482d-ab79-e27bee325053",
   "metadata": {},
   "outputs": [],
   "source": [
    "adata = adata[meta.index]\n",
    "adata"
   ]
  },
  {
   "cell_type": "code",
   "execution_count": null,
   "id": "306da436-c271-45c7-9c27-44cfdae3c65b",
   "metadata": {
    "tags": []
   },
   "outputs": [],
   "source": [
    "%%time\n",
    "\n",
    "for subclass in ['L6b', 'Lamp5']: #uniq_subclasses:\n",
    "    for exp_cond in uniq_conditions: \n",
    "        try:\n",
    "            subclass_cure = subclass.replace('/', '')\n",
    "            output = os.path.join(outfigdir, f'{subclass_cure}_{exp_cond}.csv')\n",
    "\n",
    "            adatasub = adata[(adata.obs['Age']==exp_cond) & (adata.obs['Subclass']==subclass)]\n",
    "\n",
    "            ### test\n",
    "            adatasub = adatasub[:,:10]\n",
    "            ### test\n",
    "            genes = adatasub.var.index.values\n",
    "\n",
    "            obs = adatasub.obs[['sex', 'Sample']].copy()\n",
    "            obs = obs.dropna()\n",
    "\n",
    "            obs['sex'] = obs['sex'].apply(lambda x: x[0].upper())\n",
    "            obs['subject'] = np.char.add(obs['Sample'].values.astype(str), obs['sex'].values.astype(str))\n",
    "            adatasub = adatasub[obs.index]\n",
    "\n",
    "            obs_fixed = 'sex'\n",
    "            obs_random = 'subject'\n",
    "\n",
    "            # mat\n",
    "            mat = np.array(adatasub.X.todense())/adatasub.obs['total_counts'].values.reshape(-1,1)*1e4\n",
    "\n",
    "            df_res = lmm.run_lmm(mat, genes, obs, obs_fixed, obs_random, output=output)\n",
    "            \n",
    "        except:\n",
    "            print(f\"!!!{subclass}, {exp_cond}\")\n",
    "        \n",
    "    #     break\n",
    "    # break"
   ]
  },
  {
   "cell_type": "code",
   "execution_count": null,
   "id": "3668f556-0066-4bc6-81c4-c4867e9be641",
   "metadata": {
    "tags": []
   },
   "outputs": [],
   "source": [
    "#!head /u/home/f/f7xiesnm/project-zipursky/v1-bb/v1/results_sexual_dimorphism/P21DR_L23.csv"
   ]
  },
  {
   "cell_type": "code",
   "execution_count": null,
   "id": "592ee1db-6552-41b0-afc3-b041fa003662",
   "metadata": {
    "tags": []
   },
   "outputs": [],
   "source": [
    "subclass = 'L6b'\n",
    "exp_cond = 'P12DR'\n",
    "\n",
    "subclass_cure = subclass.replace('/', '')\n",
    "output = os.path.join(outfigdir, f'{subclass_cure}_{exp_cond}.csv')\n",
    "\n",
    "adatasub = adata[(adata.obs['Age']==exp_cond) & (adata.obs['Subclass']==subclass)]\n",
    "\n",
    "### test\n",
    "adatasub = adatasub[:,:10]\n",
    "### test\n",
    "genes = adatasub.var.index.values\n",
    "\n",
    "obs = adatasub.obs[['sex', 'Sample']].copy()\n",
    "obs = obs.dropna()\n",
    "\n",
    "obs['sex'] = obs['sex'].apply(lambda x: x[0].upper())\n",
    "obs['subject'] = np.char.add(obs['Sample'].values.astype(str), obs['sex'].values.astype(str))\n",
    "adatasub = adatasub[obs.index]\n",
    "\n",
    "obs_fixed = 'sex'\n",
    "obs_random = 'subject'\n",
    "\n",
    "# mat\n",
    "mat = np.array(adatasub.X.todense())/adatasub.obs['total_counts'].values.reshape(-1,1)*1e4\n",
    "\n",
    "df_res = lmm.run_lmm(mat, genes, obs, obs_fixed, obs_random, output=output)\n"
   ]
  },
  {
   "cell_type": "code",
   "execution_count": null,
   "id": "875e3ecc-ec6b-48f6-964e-af692908298d",
   "metadata": {
    "tags": []
   },
   "outputs": [],
   "source": [
    "check = obs.join(pd.DataFrame(mat, index=obs.index))\n",
    "check[0]"
   ]
  },
  {
   "cell_type": "code",
   "execution_count": null,
   "id": "a633d321-e8a4-4610-9edb-2a887082353b",
   "metadata": {
    "tags": []
   },
   "outputs": [],
   "source": [
    "check.groupby('subject').mean()"
   ]
  },
  {
   "cell_type": "code",
   "execution_count": null,
   "id": "db3425b2-83c2-41f6-96d0-c5f4ae911cd4",
   "metadata": {},
   "outputs": [],
   "source": []
  }
 ],
 "metadata": {
  "kernelspec": {
   "display_name": "Python 3 (ipykernel)",
   "language": "python",
   "name": "python3"
  },
  "language_info": {
   "codemirror_mode": {
    "name": "ipython",
    "version": 3
   },
   "file_extension": ".py",
   "mimetype": "text/x-python",
   "name": "python",
   "nbconvert_exporter": "python",
   "pygments_lexer": "ipython3",
   "version": "3.9.16"
  }
 },
 "nbformat": 4,
 "nbformat_minor": 5
}
