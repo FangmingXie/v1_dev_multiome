{
 "cells": [
  {
   "cell_type": "code",
   "execution_count": null,
   "id": "bb214b6d-836a-49b8-93dd-a19f021215b7",
   "metadata": {
    "tags": []
   },
   "outputs": [],
   "source": [
    "import os\n",
    "import numpy as np\n",
    "import pandas as pd\n",
    "import scanpy as sc\n",
    "import anndata \n",
    "import seaborn as sns\n",
    "from scipy.stats import zscore\n",
    "import matplotlib.pyplot as plt\n",
    "import collections\n",
    "from natsort import natsorted\n",
    "\n",
    "from scipy import stats\n",
    "from scipy import sparse\n",
    "from sklearn.decomposition import PCA\n",
    "from umap import UMAP\n",
    "from statsmodels.stats.multitest import multipletests\n",
    "\n",
    "from matplotlib.colors import LinearSegmentedColormap\n",
    "\n",
    "from scroutines.config_plots import *\n",
    "from scroutines import powerplots # .config_plots import *\n",
    "from scroutines import pnmf\n",
    "from scroutines import basicu\n",
    "from scroutines.gene_modules import GeneModules  \n"
   ]
  },
  {
   "cell_type": "code",
   "execution_count": null,
   "id": "f45abc88-0cbc-4575-8035-9cb157c42bc2",
   "metadata": {},
   "outputs": [],
   "source": [
    "outfigdir = \"/u/home/f/f7xiesnm/project-zipursky/v1-bb/v1/figures/250409\"\n",
    "!mkdir -p $outfigdir"
   ]
  },
  {
   "cell_type": "code",
   "execution_count": null,
   "id": "8542eec8-b8e1-4a35-9237-0d3c0043349b",
   "metadata": {},
   "outputs": [],
   "source": [
    "fin  = \"/u/home/f/f7xiesnm/project-zipursky/v1-bb/v1/data/v1_multiome/superdupermegaRNA_hasraw.h5ad\"\n",
    "fout = \"/u/home/f/f7xiesnm/project-zipursky/v1-bb/v1/data/v1_multiome/superdupermegaRNA_hasraw_multiome_L4.h5ad\"\n",
    "\n",
    "adata = anndata.read(fin) # , backed='r')\n",
    "adata"
   ]
  },
  {
   "cell_type": "code",
   "execution_count": null,
   "id": "69e2795c-0634-4b46-b0e4-05fcb47581c4",
   "metadata": {},
   "outputs": [],
   "source": [
    "adata.X = adata.raw.X "
   ]
  },
  {
   "cell_type": "code",
   "execution_count": null,
   "id": "53cf1b88-c5e8-4bb6-bd4e-6699453b37fa",
   "metadata": {
    "tags": []
   },
   "outputs": [],
   "source": [
    "meta = adata.obs.copy()\n",
    "meta = meta[meta['Study']=='2023 Multiome']\n",
    "meta = meta[meta['Subclass'].isin(['L4'])]"
   ]
  },
  {
   "cell_type": "code",
   "execution_count": null,
   "id": "085c973e-3058-4620-a1ec-4b8515e57756",
   "metadata": {
    "tags": []
   },
   "outputs": [],
   "source": [
    "adata = adata[meta.index]\n",
    "adata"
   ]
  },
  {
   "cell_type": "code",
   "execution_count": null,
   "id": "c715643c-0748-414c-b477-4294cb85b5cc",
   "metadata": {
    "tags": []
   },
   "outputs": [],
   "source": [
    "sample_labels = [\"-\".join(cell.split(' ')[0].split('-')[2:]).replace('-2023', '') for cell in adata.obs.index]\n",
    "time_labels = [s[:-1].replace('DR', '') for s in sample_labels]\n",
    "\n",
    "adata.obs['n_counts'] = adata.obs['total_counts'] # adata.obs['nCount_RNA']\n",
    "adata.obs['sample'] = sample_labels\n",
    "adata.obs['time']   = time_labels\n",
    "\n",
    "uniq_samples = natsorted(np.unique(sample_labels))\n",
    "uniq_times = natsorted(np.unique(time_labels))\n",
    "\n",
    "nr_samples = [s for s in uniq_samples if \"DR\" not in s]\n",
    "dr_samples = [s for s in uniq_samples if \"DR\" in s]\n",
    "print(uniq_times)\n",
    "print(nr_samples)\n",
    "print(dr_samples)\n",
    "\n",
    "# adata.obs['sample'] = sample_labels"
   ]
  },
  {
   "cell_type": "code",
   "execution_count": null,
   "id": "7546c845-1ed6-4c65-b267-870f16f91dbc",
   "metadata": {},
   "outputs": [],
   "source": [
    "# filter genes\n",
    "cond = np.ravel((adata.X>0).sum(axis=0)) > 10 # expressed in more than 10 cells\n",
    "adata = adata[:,cond]\n",
    "genes = adata.var.index.values\n",
    "\n",
    "# counts\n",
    "x = adata.X\n",
    "cov = adata.obs['n_counts'].values\n",
    "\n",
    "# CP10k\n",
    "# xn = x/cov.reshape(x.shape[0], -1)*1e4\n",
    "xn = (sparse.diags(1/cov).dot(x))*1e4\n",
    "\n",
    "# log2(CP10k+1)\n",
    "# xln = xn.copy()\n",
    "# xln.data = np.log2(xln.data+1)"
   ]
  },
  {
   "cell_type": "code",
   "execution_count": null,
   "id": "377fe364-dd27-4142-8a0f-0ad004e42624",
   "metadata": {
    "tags": []
   },
   "outputs": [],
   "source": [
    "adata.layers[    'norm'] = np.array(xn.todense())\n",
    "\n",
    "# log_xn = np.log2(1+np.array(xn.todense()))\n",
    "# adata.layers[ 'lognorm'] = log_xn \n",
    "# adata.layers['zlognorm'] = zscore(log_xn, axis=0)"
   ]
  },
  {
   "cell_type": "code",
   "execution_count": null,
   "id": "3ffe8188-6bb8-4d45-bf41-899dac222d67",
   "metadata": {
    "tags": []
   },
   "outputs": [],
   "source": [
    "adata.write(fout)"
   ]
  },
  {
   "cell_type": "code",
   "execution_count": null,
   "id": "4303c153-d30e-4a0b-b4cb-53b1d64cdf21",
   "metadata": {},
   "outputs": [],
   "source": []
  }
 ],
 "metadata": {
  "kernelspec": {
   "display_name": "Python 3 (ipykernel)",
   "language": "python",
   "name": "python3"
  },
  "language_info": {
   "codemirror_mode": {
    "name": "ipython",
    "version": 3
   },
   "file_extension": ".py",
   "mimetype": "text/x-python",
   "name": "python",
   "nbconvert_exporter": "python",
   "pygments_lexer": "ipython3",
   "version": "3.9.16"
  }
 },
 "nbformat": 4,
 "nbformat_minor": 5
}
