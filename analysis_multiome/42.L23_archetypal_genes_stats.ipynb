{
 "cells": [
  {
   "cell_type": "code",
   "execution_count": null,
   "id": "85676220-613a-4e5f-9b0e-7d677eabed25",
   "metadata": {
    "tags": []
   },
   "outputs": [],
   "source": [
    "import pandas as pd\n",
    "import numpy as np"
   ]
  },
  {
   "cell_type": "code",
   "execution_count": null,
   "id": "21e1c275-e410-4c84-99dc-d3aa71f0c618",
   "metadata": {
    "tags": []
   },
   "outputs": [],
   "source": [
    " \n",
    "fin = '/u/home/f/f7xiesnm/project-zipursky/v1-bb/v1/data/v1_multiome/DEG_l23abc_gene_list_250409.csv'\n",
    "df = pd.read_csv(fin)\n",
    "df"
   ]
  },
  {
   "cell_type": "code",
   "execution_count": null,
   "id": "c5c09965-200b-4a0a-9b4a-d72c46ce2220",
   "metadata": {
    "tags": []
   },
   "outputs": [],
   "source": [
    "stats = df.groupby(['cond', 'archetype']).size().unstack()# .loc[conds_nr]\n",
    "stats"
   ]
  },
  {
   "cell_type": "code",
   "execution_count": null,
   "id": "796abd11-2480-4579-9cf9-c9668eeaa8ac",
   "metadata": {
    "tags": []
   },
   "outputs": [],
   "source": [
    "stats_nr = stats[stats.index.str.contains('NR')]\n",
    "stats_nr"
   ]
  },
  {
   "cell_type": "code",
   "execution_count": null,
   "id": "ab4d62c9-6a20-439d-b9af-209b0354edbd",
   "metadata": {},
   "outputs": [],
   "source": [
    "stats_nr.min(), stats_nr.max()"
   ]
  },
  {
   "cell_type": "code",
   "execution_count": null,
   "id": "b01b9c8a-c310-48d5-97a3-6d78324c8802",
   "metadata": {},
   "outputs": [],
   "source": [
    "df[df['archetype']=='A']['gene'].unique().shape # .groupby('archetype').size()"
   ]
  },
  {
   "cell_type": "code",
   "execution_count": null,
   "id": "116bcde6-e2aa-4ff6-b228-397ad57ee68a",
   "metadata": {
    "tags": []
   },
   "outputs": [],
   "source": [
    "df[df['archetype']=='B']['gene'].unique().shape # .groupby('archetype').size()"
   ]
  },
  {
   "cell_type": "code",
   "execution_count": null,
   "id": "a30906b8-374d-41e9-9433-e5ad0f984668",
   "metadata": {
    "tags": []
   },
   "outputs": [],
   "source": [
    "df[df['archetype']=='C']['gene'].unique().shape # .groupby('archetype').size()"
   ]
  },
  {
   "cell_type": "code",
   "execution_count": null,
   "id": "ad39bd72-650f-417f-b1ef-0b89531918cf",
   "metadata": {},
   "outputs": [],
   "source": [
    "df.groupby('gene').sum()"
   ]
  },
  {
   "cell_type": "code",
   "execution_count": null,
   "id": "3557e6ea-bed3-421c-938c-25f51a05958d",
   "metadata": {
    "tags": []
   },
   "outputs": [],
   "source": [
    "modes = df.groupby('gene').sum()['archetype'].apply(lambda x: \"\".join(list(np.unique(list(x))))).value_counts()#.sum()\n",
    "modes"
   ]
  },
  {
   "cell_type": "code",
   "execution_count": null,
   "id": "a4708f2c-0d22-4439-ba9e-a7fb76a668af",
   "metadata": {
    "tags": []
   },
   "outputs": [],
   "source": [
    "modes.sum()"
   ]
  },
  {
   "cell_type": "code",
   "execution_count": null,
   "id": "6a678144-6a6f-4c7a-a3e4-98d8d3452832",
   "metadata": {
    "tags": []
   },
   "outputs": [],
   "source": [
    "modes.iloc[3:]"
   ]
  },
  {
   "cell_type": "code",
   "execution_count": null,
   "id": "4d7e2780-2c30-4aff-bb7b-ab0084048c28",
   "metadata": {
    "tags": []
   },
   "outputs": [],
   "source": [
    "modes.iloc[3:].sum()"
   ]
  },
  {
   "cell_type": "code",
   "execution_count": null,
   "id": "37b5c5f3-cd8c-4fad-82d3-bd1f815ed0bd",
   "metadata": {
    "tags": []
   },
   "outputs": [],
   "source": [
    "modes_freq = modes/modes.sum()\n",
    "modes_freq"
   ]
  },
  {
   "cell_type": "code",
   "execution_count": null,
   "id": "700e2aa0-f545-4e7b-b3c2-1beebd3cd497",
   "metadata": {
    "tags": []
   },
   "outputs": [],
   "source": [
    "modes_freq*100"
   ]
  },
  {
   "cell_type": "code",
   "execution_count": null,
   "id": "386d83ab-e4f9-403d-b78e-7c40f62c1a58",
   "metadata": {
    "tags": []
   },
   "outputs": [],
   "source": [
    "(modes_freq*100).iloc[3:]"
   ]
  },
  {
   "cell_type": "code",
   "execution_count": null,
   "id": "fe3dcfbd-2564-4d34-b0c6-75ebc5475853",
   "metadata": {
    "tags": []
   },
   "outputs": [],
   "source": [
    "(modes_freq*100).iloc[3:].sum()"
   ]
  },
  {
   "cell_type": "code",
   "execution_count": null,
   "id": "cb644d71-edc7-4806-b444-086288fe78fa",
   "metadata": {
    "tags": []
   },
   "outputs": [],
   "source": [
    "df_nr = df[~df['cond'].str.contains(r'DR$')]\n",
    "df_nr"
   ]
  },
  {
   "cell_type": "code",
   "execution_count": null,
   "id": "f7707eba-f5df-4437-8404-31ec02948815",
   "metadata": {
    "tags": []
   },
   "outputs": [],
   "source": [
    "df_nr_sum = df_nr.groupby('gene').sum()\n",
    "df_nr_sum"
   ]
  },
  {
   "cell_type": "code",
   "execution_count": null,
   "id": "14361692-7715-46d2-a35c-5f0175a07146",
   "metadata": {
    "tags": []
   },
   "outputs": [],
   "source": [
    "alltime_a = df_nr_sum[df_nr_sum['archetype']=='A'*7]\n",
    "alltime_b = df_nr_sum[df_nr_sum['archetype']=='B'*7]\n",
    "alltime_c = df_nr_sum[df_nr_sum['archetype']=='C'*7]"
   ]
  },
  {
   "cell_type": "code",
   "execution_count": null,
   "id": "6db91548-354f-4da1-837d-99fa9825b0f0",
   "metadata": {
    "tags": []
   },
   "outputs": [],
   "source": [
    "alltime_a.index.values, alltime_b.index.values, alltime_c.index.values"
   ]
  },
  {
   "cell_type": "code",
   "execution_count": null,
   "id": "8d9d5f90-84ae-45c8-8ddc-1e10598b09bb",
   "metadata": {
    "tags": []
   },
   "outputs": [],
   "source": [
    "alltime_a.index.values, alltime_b.index.values, alltime_c.index.values"
   ]
  },
  {
   "cell_type": "code",
   "execution_count": null,
   "id": "14753233-6be5-4695-bc1e-50e9059bfe6c",
   "metadata": {
    "tags": []
   },
   "outputs": [],
   "source": [
    "\n",
    "len(alltime_a.index.values), len(alltime_b.index.values), len(alltime_c.index.values)"
   ]
  },
  {
   "cell_type": "code",
   "execution_count": null,
   "id": "e5d316fe-6a5c-4ab1-a703-2f78fe163dce",
   "metadata": {
    "tags": []
   },
   "outputs": [],
   "source": [
    "df_nr_b_p10on = df_nr[(df_nr['archetype']=='B') & (~df_nr['cond'].isin(['P6NR', 'P8NR']))]\n",
    "df_nr_b_p10on"
   ]
  },
  {
   "cell_type": "code",
   "execution_count": null,
   "id": "f1fd80c3-e9d3-4de3-b84d-80c5616c7955",
   "metadata": {
    "tags": []
   },
   "outputs": [],
   "source": [
    "df_nr_b_p10on_sum = df_nr_b_p10on.groupby('gene').sum()\n",
    "df_nr_b_p10on_sum"
   ]
  },
  {
   "cell_type": "code",
   "execution_count": null,
   "id": "68289e46-016d-4552-8485-928b17774950",
   "metadata": {
    "tags": []
   },
   "outputs": [],
   "source": [
    "df_nr_b_p10on_sum['archetype'].value_counts()"
   ]
  },
  {
   "cell_type": "code",
   "execution_count": null,
   "id": "c4b3c4a9-4159-43d6-8fc1-08be6a2f2fac",
   "metadata": {
    "tags": []
   },
   "outputs": [],
   "source": [
    "\n",
    "df_nr_b_p10on_sum[df_nr_b_p10on_sum['archetype']=='B'*5]"
   ]
  },
  {
   "cell_type": "code",
   "execution_count": null,
   "id": "b5aba6ee-a23b-4555-a519-9c579a75515a",
   "metadata": {},
   "outputs": [],
   "source": []
  }
 ],
 "metadata": {
  "kernelspec": {
   "display_name": "Python 3 (ipykernel)",
   "language": "python",
   "name": "python3"
  },
  "language_info": {
   "codemirror_mode": {
    "name": "ipython",
    "version": 3
   },
   "file_extension": ".py",
   "mimetype": "text/x-python",
   "name": "python",
   "nbconvert_exporter": "python",
   "pygments_lexer": "ipython3",
   "version": "3.9.16"
  }
 },
 "nbformat": 4,
 "nbformat_minor": 5
}
