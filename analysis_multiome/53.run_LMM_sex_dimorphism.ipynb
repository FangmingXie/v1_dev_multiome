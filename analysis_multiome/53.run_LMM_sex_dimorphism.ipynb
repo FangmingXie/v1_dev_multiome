{
 "cells": [
  {
   "cell_type": "code",
   "execution_count": null,
   "id": "30b97a56-8884-4718-a56d-fc8af8e882e7",
   "metadata": {},
   "outputs": [],
   "source": [
    "import pandas as pd\n",
    "import numpy as np\n",
    "import statsmodels.formula.api as smf\n",
    "from statsmodels.stats.multitest import multipletests\n",
    "import matplotlib.pyplot as plt\n",
    "import os\n",
    "from scipy import stats\n",
    "\n",
    "import scanpy as sc\n",
    "import seaborn as sns\n",
    "\n",
    "from scroutines import basicu\n",
    "\n",
    "import warnings\n",
    "from statsmodels.tools.sm_exceptions import ConvergenceWarning\n",
    "from statsmodels.tools.sm_exceptions import ValueWarning\n",
    "from tqdm import tqdm"
   ]
  },
  {
   "cell_type": "code",
   "execution_count": null,
   "id": "73c49a5f-dcec-4483-8d8b-0221ec630727",
   "metadata": {
    "tags": []
   },
   "outputs": [],
   "source": [
    "outfigdir = '/u/home/f/f7xiesnm/project-zipursky/v1-bb/v1/results_sexual_dimorphism'\n",
    "!mkdir $outfigdir"
   ]
  },
  {
   "cell_type": "markdown",
   "id": "f212b48d-631b-4498-9b93-c996db54e22c",
   "metadata": {},
   "source": [
    "# 3 criteria\n",
    "- FDR < 0.05 LMM (g ~ 1 + sex + subject)  # (does sex have an effect beyond subject noise?)\n",
    "- sufficient expression (max subject) > 0.1 (CP10k)\n",
    "- effect size (log2(FC) > 1)"
   ]
  },
  {
   "cell_type": "code",
   "execution_count": null,
   "id": "7508e4b9-241a-42ea-9d4a-42d0a9220de0",
   "metadata": {
    "tags": []
   },
   "outputs": [],
   "source": [
    "f1 = '/u/home/f/f7xiesnm/project-zipursky/v1-bb/v1/data/v1_multiome/superdupermegaRNA_hasraw_multiome_l23.h5ad'\n",
    "f2 = '/u/home/f/f7xiesnm/v1_multiome/multiome_cell_sex_assignment_saumya.csv'\n",
    "adata  = sc.read(f1)\n",
    "df_sex = pd.read_csv(f2)\n",
    "adata.obs = adata.obs.join(df_sex.set_index('cell'))\n",
    "adata.X = adata.raw.X\n",
    "adata = adata[:,~adata.var.index.str.contains(f'^mt')]\n",
    "genes = adata.var.index.values\n",
    "adata"
   ]
  },
  {
   "cell_type": "code",
   "execution_count": null,
   "id": "5f753cec-8287-4763-84fa-e38263e646d9",
   "metadata": {
    "tags": []
   },
   "outputs": [],
   "source": [
    "def run_lmm(mat, genes, obs, obs_fixed, obs_random, output=None):\n",
    "    \"\"\"\n",
    "     mat - cell by gene - cp10k norm\n",
    "     genes - gene names in mat\n",
    "     obs - cell names and other metadata in mat\n",
    "     \n",
    "    \"\"\"\n",
    "    c0, c1 = np.unique(obs[obs_fixed])\n",
    "    obs = obs[[obs_fixed, obs_random]]\n",
    "    zmat = stats.zscore(np.log2(mat+1), axis=0)\n",
    "    print(zmat.shape, obs.shape)\n",
    "    \n",
    "    # remove genes that are NaN in Zmat (no variation at all; or all zero)\n",
    "    cond_nan = np.any(np.isnan(zmat), axis=0)\n",
    "    mat = mat[:,~cond_nan]\n",
    "    zmat = zmat[:,~cond_nan]\n",
    "    genes = genes[~cond_nan]\n",
    "    genes_idx = np.arange(len(genes)) # local index\n",
    "    print(zmat.shape, obs.shape)\n",
    "\n",
    "    # cp10k scale, ctrds and log2fc (fast)\n",
    "    df = pd.DataFrame(mat, columns=np.char.add('g', genes_idx.astype(str)), index=obs.index)\n",
    "    df = df.join(obs).dropna()\n",
    "    print(df.shape)\n",
    "\n",
    "    df_mean = df.groupby([obs_fixed]).mean(numeric_only=True)\n",
    "    log2fc  = ( np.log2(df_mean.loc[c1]+offset)\n",
    "               -np.log2(df_mean.loc[c0]+offset)).values\n",
    "    cond_fc = (np.abs(log2fc) > np.log2(2))\n",
    "\n",
    "    df_mean_sample = df.groupby([obs_random]).mean(numeric_only=True)\n",
    "    df_mean_sample.columns = genes_idx\n",
    "    cond_expr = (df_mean_sample.max() > 0.1).values\n",
    "\n",
    "    cond_all = np.logical_and(cond_expr, cond_fc)\n",
    "    print(cond_all.sum(), genes[cond_all])\n",
    "\n",
    "    # zscore(log2(cp10k)) scale [zscore is needed for the mixedlm model to converge], test (slow)\n",
    "    zdf = pd.DataFrame(zmat, columns=np.char.add('g', genes_idx.astype(str)), index=obs.index)\n",
    "    zdf = zdf.join(obs).dropna()\n",
    "\n",
    "    # formal test (slow)\n",
    "    pvals = []\n",
    "    converges = []\n",
    "    for i in tqdm(genes_idx):\n",
    "        model = smf.mixedlm(f\"g{i} ~ {obs_fixed}\", zdf, groups=obs_random)\n",
    "        with warnings.catch_warnings():\n",
    "            warnings.simplefilter(\"ignore\") \n",
    "            # warnings.simplefilter(\"ignore\", convergencewarning)\n",
    "            # warnings.simplefilter(\"ignore\", runtimewarning)\n",
    "            result = model.fit()\n",
    "\n",
    "        pval = result.pvalues[f'{obs_fixed}[T.{c1}]']\n",
    "        converged = result.converged\n",
    "        pvals.append(pval)\n",
    "        converges.append(converged)\n",
    "\n",
    "    converges = np.array(converges)\n",
    "    pvals = np.nan_to_num(np.array(pvals), 1)\n",
    "    rej, qvals, _, _ =  multipletests(pvals, alpha=0.05, method='fdr_bh')\n",
    "    cond_all = np.logical_and(cond_all, rej)\n",
    "\n",
    "    print(cond_all.sum(), genes[cond_all])\n",
    "    # save results: exp_cond, subclass, genes, log2fc, qvals\n",
    "\n",
    "    df_res = pd.DataFrame(index=genes_idx)\n",
    "    df_res['gene'] = genes\n",
    "    df_res['log2fc'] = log2fc\n",
    "    df_res['qval'] = qvals\n",
    "    df_res['coverged'] = converges\n",
    "    df_res = df_res.join(df_mean_sample.T)\n",
    "    subclass_cure = subclass.replace('/', '')\n",
    "    if output is not None:\n",
    "        print(output)\n",
    "        df_res.to_csv(output)\n",
    "        \n",
    "    return df_res"
   ]
  },
  {
   "cell_type": "code",
   "execution_count": null,
   "id": "2e3d2942-d775-4c43-88e6-a8a49a9a8d43",
   "metadata": {
    "tags": []
   },
   "outputs": [],
   "source": [
    "import lmm\n",
    "import importlib\n",
    "importlib.reload(lmm)"
   ]
  },
  {
   "cell_type": "code",
   "execution_count": null,
   "id": "306da436-c271-45c7-9c27-44cfdae3c65b",
   "metadata": {
    "tags": []
   },
   "outputs": [],
   "source": [
    "%%time\n",
    "\n",
    "for exp_cond in ['P6', 'P8', 'P10', 'P12', 'P14', 'P17', 'P12DR', 'P14DR', 'P17DR', 'P21DR']:\n",
    "    for subclass in ['L2/3']:\n",
    "        subclass_cure = subclass.replace('/', '')\n",
    "        output = os.path.join(outfigdir, f'{exp_cond}_{subclass_cure}.csv')\n",
    "\n",
    "        adatasub = adata[(adata.obs['Age']==exp_cond) & (adata.obs['Subclass']==subclass)]\n",
    "        \n",
    "        ### test\n",
    "        adatasub = adatasub[:,:20]\n",
    "        genes = genes[:20]\n",
    "        ### test\n",
    "        \n",
    "        obs = adatasub.obs[['sex', 'Sample']].copy()\n",
    "        obs = obs.dropna()\n",
    "    \n",
    "        obs['sex'] = obs['sex'].apply(lambda x: x[0].upper())\n",
    "        obs['subject'] = np.char.add(obs['Sample'].values.astype(str), obs['sex'].values.astype(str))\n",
    "        adatasub = adatasub[obs.index]\n",
    "        \n",
    "        obs_fixed = 'sex'\n",
    "        obs_random = 'subject'\n",
    "        \n",
    "        # mat\n",
    "        mat = np.array(adatasub.X.todense())/adatasub.obs['total_counts'].values.reshape(-1,1)*1e4\n",
    "        \n",
    "        df_res = lmm.run_lmm(mat, genes, obs, obs_fixed, obs_random, output=output)\n",
    "        \n",
    "        \n",
    "    break"
   ]
  },
  {
   "cell_type": "code",
   "execution_count": null,
   "id": "0a929f4a-4d24-476c-8818-91c73c6ea53d",
   "metadata": {
    "tags": []
   },
   "outputs": [],
   "source": [
    "df_res"
   ]
  },
  {
   "cell_type": "code",
   "execution_count": null,
   "id": "3668f556-0066-4bc6-81c4-c4867e9be641",
   "metadata": {
    "tags": []
   },
   "outputs": [],
   "source": [
    "#!head /u/home/f/f7xiesnm/project-zipursky/v1-bb/v1/results_sexual_dimorphism/P21DR_L23.csv"
   ]
  }
 ],
 "metadata": {
  "kernelspec": {
   "display_name": "Python 3 (ipykernel)",
   "language": "python",
   "name": "python3"
  },
  "language_info": {
   "codemirror_mode": {
    "name": "ipython",
    "version": 3
   },
   "file_extension": ".py",
   "mimetype": "text/x-python",
   "name": "python",
   "nbconvert_exporter": "python",
   "pygments_lexer": "ipython3",
   "version": "3.9.16"
  }
 },
 "nbformat": 4,
 "nbformat_minor": 5
}
