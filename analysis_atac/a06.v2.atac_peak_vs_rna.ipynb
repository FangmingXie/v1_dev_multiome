{
 "cells": [
  {
   "cell_type": "code",
   "execution_count": null,
   "id": "40d3cf98-2f37-46b9-a606-af61ebef2881",
   "metadata": {
    "tags": []
   },
   "outputs": [],
   "source": [
    "import scipy.io\n",
    "import numpy as np\n",
    "import pandas as pd\n",
    "import scanpy as sc\n",
    "import h5py\n",
    "\n",
    "import os\n",
    "import numpy as np\n",
    "import pandas as pd\n",
    "import scanpy as sc\n",
    "import anndata \n",
    "import seaborn as sns\n",
    "from scipy.stats import zscore\n",
    "import matplotlib.pyplot as plt\n",
    "import collections\n",
    "from natsort import natsorted\n",
    "\n",
    "from scipy import stats\n",
    "from scipy import sparse\n",
    "from sklearn.decomposition import PCA\n",
    "from umap import UMAP\n",
    "\n",
    "from matplotlib.colors import LinearSegmentedColormap\n",
    "from statsmodels.stats.multitest import multipletests\n",
    "\n",
    "from scroutines.config_plots import *\n",
    "from scroutines import powerplots # .config_plots import *\n",
    "from scroutines import pnmf\n",
    "from scroutines import basicu\n",
    "from scroutines.gene_modules import GeneModules  "
   ]
  },
  {
   "cell_type": "code",
   "execution_count": null,
   "id": "c97c2596-5b85-4018-8d00-3f5d9460a43f",
   "metadata": {},
   "outputs": [],
   "source": [
    "%%time\n",
    "f_rna = '/u/home/f/f7xiesnm/project-zipursky/v1-bb/v1/data/v1_multiome/L23_allmultiome_proc_P6toP21.h5ad'\n",
    "adata = sc.read(f_rna)\n",
    "adata"
   ]
  },
  {
   "cell_type": "code",
   "execution_count": null,
   "id": "226fa1e4-8666-4629-b81c-1964c9053583",
   "metadata": {
    "tags": []
   },
   "outputs": [],
   "source": [
    "times = np.array([6,8,10,12,14,17,21]).astype(int)"
   ]
  },
  {
   "cell_type": "code",
   "execution_count": null,
   "id": "e40623c6-384a-49e4-935d-185e06cfb547",
   "metadata": {
    "tags": []
   },
   "outputs": [],
   "source": [
    "%%time\n",
    "adatas_pk = []\n",
    "for ti in times:\n",
    "# for ti in [6]:\n",
    "    print(ti)\n",
    "    f = f'/u/home/f/f7xiesnm/project-zipursky/v1-bb/v1/data/v1_multiome/P{ti}_ATAC_L23_peakbycell_filtered.h5ad'\n",
    "    adata_pk = sc.read(f)\n",
    "    adata_pk.obs = adata_pk.obs.set_index('cell')\n",
    "    print(adata_pk.var['peak'][:3].values)\n",
    "    \n",
    "    adatas_pk.append(adata_pk)\n",
    "    print(adata_pk)\n",
    "    # break"
   ]
  },
  {
   "cell_type": "code",
   "execution_count": null,
   "id": "59afd225-f2b8-483b-a933-e512771b5270",
   "metadata": {
    "tags": []
   },
   "outputs": [],
   "source": [
    "adata.obs['cond_order'].unique()"
   ]
  },
  {
   "cell_type": "code",
   "execution_count": null,
   "id": "38798144-dd47-47f1-8f4c-11390036de85",
   "metadata": {
    "tags": []
   },
   "outputs": [],
   "source": [
    "# get cells based on RNA\n",
    "# get matrix based on ATAC - CPM or CP10k\n",
    "\n",
    "qs_avc = []\n",
    "l2fc_avc = []\n",
    "# for cond_order, obssub in adata.obs.groupby('cond_order'):\n",
    "for cond_order in range(7):\n",
    "    obssub = adata[adata.obs['cond_order']==cond_order].obs\n",
    "    \n",
    "    # get sub\n",
    "    adatasub = adata[obssub.index]\n",
    "    adata_pk = adatas_pk[cond_order]\n",
    "    \n",
    "    # get A vs C \n",
    "    x = adatasub.obsm['pca_p17on'][...,0]\n",
    "    cond_a = x < np.percentile(x,20)\n",
    "    cond_c = x > np.percentile(x,80)\n",
    "    cells_a = np.array([c.split(' ')[0][:-len('-2023')] for c in adatasub[cond_a].obs.index.values])\n",
    "    cells_c = np.array([c.split(' ')[0][:-len('-2023')] for c in adatasub[cond_c].obs.index.values])\n",
    "    \n",
    "    cells_rna = np.array([c.split(' ')[0][:-len('-2023')] for c in adatasub.obs.index.values])\n",
    "    adatasub.obs.index = cells_rna\n",
    "    \n",
    "    cells_atac = adata_pk.obs.index.values\n",
    "    cells_mult = np.intersect1d(cells_rna, cells_atac) \n",
    "    \n",
    "    adata_pk_a = adata_pk[np.intersect1d(cells_a, cells_atac)]\n",
    "    adata_pk_c = adata_pk[np.intersect1d(cells_c, cells_atac)]\n",
    "    \n",
    "    mat_a = np.log10(1+adata_pk_a.X[...]) # layers['lognorm'][...]\n",
    "    mat_c = np.log10(1+adata_pk_c.X[...]) # adatasub_c.layers['lognorm'][...]\n",
    "    \n",
    "    # DEGs\n",
    "    lfc = np.log2(10)*(np.mean(mat_c, axis=0) - np.mean(mat_a, axis=0)) # log2FC (log10CPM as raw counts)\n",
    "    ts, ps = stats.ttest_ind(mat_a, mat_c)\n",
    "    rs, qs, _, _ = multipletests(np.nan_to_num(ps, nan=1).reshape(-1,), method='fdr_bh') # why nan in ps -- not expressed\n",
    "    \n",
    "    num_sig = np.sum(np.logical_and(qs < 0.05, np.abs(lfc) > 1))\n",
    "    print(cond_order, mat_a.shape, mat_c.shape, num_sig)\n",
    "    \n",
    "    # save this\n",
    "    qs_avc.append(qs)\n",
    "    l2fc_avc.append(lfc)\n",
    "    \n",
    "    # break\n",
    "    \n",
    "qs_avc = np.array(qs_avc)\n",
    "l2fc_avc = np.array(l2fc_avc)"
   ]
  },
  {
   "cell_type": "code",
   "execution_count": null,
   "id": "bb017a26-7f4f-449c-979d-82cb8572c608",
   "metadata": {
    "tags": []
   },
   "outputs": [],
   "source": [
    "l2fc_th = 1\n",
    "alpha_th = 0.05\n",
    "cond_sig   = np.logical_and(qs_avc < alpha_th, np.abs(l2fc_avc) > l2fc_th)\n",
    "cond_sig_c = np.logical_and(qs_avc < alpha_th, l2fc_avc >  l2fc_th)\n",
    "cond_sig_a = np.logical_and(qs_avc < alpha_th, l2fc_avc < -l2fc_th)\n",
    "\n",
    "print('num AvsC-DEGs per cond:\\t', cond_sig.sum(axis=1))\n",
    "print('num A-DEGs per cond:\\t',    cond_sig_a.sum(axis=1))\n",
    "print('num C-DEGs per cond:\\t',    cond_sig_c.sum(axis=1))"
   ]
  },
  {
   "cell_type": "code",
   "execution_count": null,
   "id": "3bfdde5a-4bfc-45c3-95a5-e308532ed1af",
   "metadata": {
    "tags": []
   },
   "outputs": [],
   "source": [
    "cond_sig_c.shape"
   ]
  },
  {
   "cell_type": "code",
   "execution_count": null,
   "id": "e9299c26-cdae-4a5f-84c1-c4ae8e5313fa",
   "metadata": {
    "tags": []
   },
   "outputs": [],
   "source": [
    "\n",
    "fig, axs = plt.subplots(1,7, figsize=(4*7,4), sharex=True, sharey=True)\n",
    "for cond_order in range(7):\n",
    "    ax = axs[cond_order]\n",
    "    time = times[cond_order]\n",
    "    obssub = adata[adata.obs['cond_order']==cond_order].obs\n",
    "    \n",
    "    # get sub\n",
    "    adatasub = adata[obssub.index]\n",
    "    adata_pk = adatas_pk[cond_order]\n",
    "    \n",
    "    cells_rna = np.array([c.split(' ')[0][:-len('-2023')] for c in adatasub.obs.index.values])\n",
    "    adatasub.obs.index = cells_rna\n",
    "    cells_atac = adata_pk.obs.index.values\n",
    "    cells_mult = np.intersect1d(cells_rna, cells_atac) \n",
    "    \n",
    "    x = adatasub[cells_mult].obsm['pca_p17on'][...,0]\n",
    "    adata_pk_a = adata_pk[:,cond_sig_a[cond_order]][cells_mult]\n",
    "    adata_pk_c = adata_pk[:,cond_sig_c[cond_order]][cells_mult]\n",
    "    mat_pk_a = np.log10(1+adata_pk_a.X[...])\n",
    "    mat_pk_c = np.log10(1+adata_pk_c.X[...])\n",
    "    y_a = np.mean(mat_pk_a, axis=1)\n",
    "    y_c = np.mean(mat_pk_c, axis=1)\n",
    "    \n",
    "    \n",
    "    ax.scatter(x, y_a, s=1, color='C0', label='A peaks', alpha=0.5)# , facecolor='none')\n",
    "    ax.scatter(x, y_c, s=1, color='C2', label='C peaks', alpha=0.5)# , facecolor='none')\n",
    "    r_a, p  = stats.spearmanr(x, y_a)\n",
    "    r_c, p  = stats.spearmanr(x, y_c)\n",
    "\n",
    "    ax.set_title(f'P{time}\\nr_a={r_a:.4f}\\nr_c={r_c:.4f}')\n",
    "    # ax.legend(bbox_to_anchor=(1,1))\n",
    "\n",
    "    sns.despine(ax=ax)\n",
    "    ax.grid(False)\n",
    "\n",
    "axs[0].set_xlabel('RNA PC1 (A-C axis; P17on)')\n",
    "axs[0].set_ylabel('ATAC')\n",
    "plt.show()"
   ]
  },
  {
   "cell_type": "code",
   "execution_count": null,
   "id": "cd8c44fe-b6b1-4ad7-95c5-1f07ee470854",
   "metadata": {},
   "outputs": [],
   "source": [
    "fig, axs = plt.subplots(1,7, figsize=(4*7,4)) # , sharex=True, sharey=True)\n",
    "for cond_order in range(7):\n",
    "    ax = axs[cond_order]\n",
    "    time = times[cond_order]\n",
    "    obssub = adata[adata.obs['cond_order']==cond_order].obs\n",
    "    \n",
    "    # get sub\n",
    "    adatasub = adata[obssub.index]\n",
    "    adata_pk = adatas_pk[cond_order]\n",
    "    \n",
    "    cells_rna = np.array([c.split(' ')[0][:-len('-2023')] for c in adatasub.obs.index.values])\n",
    "    adatasub.obs.index = cells_rna\n",
    "    cells_atac = adata_pk.obs.index.values\n",
    "    cells_mult = np.intersect1d(cells_rna, cells_atac) \n",
    "    \n",
    "    x = adatasub[cells_mult].obsm['pca_p17on'][...,0]\n",
    "    adata_pk_a = adata_pk[:,cond_sig_a[cond_order]][cells_mult]\n",
    "    adata_pk_c = adata_pk[:,cond_sig_c[cond_order]][cells_mult]\n",
    "    mat_pk_a = np.log10(1+adata_pk_a.X[...])\n",
    "    mat_pk_c = np.log10(1+adata_pk_c.X[...])\n",
    "    y_a = np.mean(mat_pk_a, axis=1)\n",
    "    y_c = np.mean(mat_pk_c, axis=1)\n",
    "    \n",
    "    \n",
    "    ax.scatter(x, y_a, s=1, color='C0', label='A peaks', alpha=0.5)# , facecolor='none')\n",
    "    ax.scatter(x, y_c, s=1, color='C2', label='C peaks', alpha=0.5)# , facecolor='none')\n",
    "    r_a, p  = stats.spearmanr(x, y_a)\n",
    "    r_c, p  = stats.spearmanr(x, y_c)\n",
    "\n",
    "    ax.set_title(f'P{time}\\nr_a={r_a:.4f}\\nr_c={r_c:.4f}')\n",
    "    # ax.legend(bbox_to_anchor=(1,1))\n",
    "\n",
    "    sns.despine(ax=ax)\n",
    "    ax.grid(False)\n",
    "\n",
    "axs[0].set_xlabel('RNA PC1 (A-C axis; P17on)')\n",
    "axs[0].set_ylabel('ATAC')\n",
    "plt.show()"
   ]
  },
  {
   "cell_type": "code",
   "execution_count": null,
   "id": "4e59765f-3bab-4ff9-8afc-c59ec68c5b8c",
   "metadata": {},
   "outputs": [],
   "source": []
  }
 ],
 "metadata": {
  "kernelspec": {
   "display_name": "Python 3 (ipykernel)",
   "language": "python",
   "name": "python3"
  },
  "language_info": {
   "codemirror_mode": {
    "name": "ipython",
    "version": 3
   },
   "file_extension": ".py",
   "mimetype": "text/x-python",
   "name": "python",
   "nbconvert_exporter": "python",
   "pygments_lexer": "ipython3",
   "version": "3.9.16"
  }
 },
 "nbformat": 4,
 "nbformat_minor": 5
}
