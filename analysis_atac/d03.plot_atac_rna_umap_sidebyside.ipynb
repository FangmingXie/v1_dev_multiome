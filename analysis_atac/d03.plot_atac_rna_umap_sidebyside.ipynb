{
 "cells": [
  {
   "cell_type": "code",
   "execution_count": null,
   "id": "0d4f050b-d2de-45e7-8f7f-0dfba714408f",
   "metadata": {
    "tags": []
   },
   "outputs": [],
   "source": [
    "import numpy as np\n",
    "import pandas as pd\n",
    "import os\n",
    "\n",
    "import matplotlib.pyplot as plt\n",
    "import seaborn as sns\n",
    "from scipy import sparse\n",
    "from sklearn.decomposition import PCA\n",
    "\n",
    "import scanpy as sc\n",
    "from umap import UMAP\n",
    "from scroutines import powerplots\n",
    "from scroutines import basicu"
   ]
  },
  {
   "cell_type": "code",
   "execution_count": null,
   "id": "840ee02e-fb67-4a7c-a0dc-eae10613cd61",
   "metadata": {
    "tags": []
   },
   "outputs": [],
   "source": [
    "def get_index_from_array(a, b):\n",
    "    \"\"\"get the indices of b elements in a array\n",
    "    \"\"\"\n",
    "    return pd.Series(a).reset_index().set_index(0).loc[b]['index'].values\n",
    "    "
   ]
  },
  {
   "cell_type": "code",
   "execution_count": null,
   "id": "d8ca086a-bd78-44d6-ada8-de1d1ce19c5a",
   "metadata": {
    "tags": []
   },
   "outputs": [],
   "source": [
    "outdirfig = \"/u/home/f/f7xiesnm/project-zipursky/v1-bb/v1/figures/250409\""
   ]
  },
  {
   "cell_type": "code",
   "execution_count": null,
   "id": "bd149067-4383-4122-adcc-aa36a154196a",
   "metadata": {
    "tags": []
   },
   "outputs": [],
   "source": [
    "# Barplot"
   ]
  },
  {
   "cell_type": "code",
   "execution_count": null,
   "id": "e75c0c60-3d3e-4137-a9e2-0849e50df7dd",
   "metadata": {
    "tags": []
   },
   "outputs": [],
   "source": [
    "nums = [8486, 11249, 11430, 0, 0, 0]\n",
    "fig, ax = plt.subplots(figsize=(3,3))\n",
    "ax.bar(np.arange(6), nums, color=['C0', 'C1', 'C2'], edgecolor='none')\n",
    "ax.set_xticks(np.arange(6))\n",
    "sns.despine(ax=ax)\n",
    "ax.grid(axis='x')\n",
    "\n",
    "output = os.path.join(outdirfig, f'FigS1_ATAC_DAR_data_vs_shuff.pdf')\n",
    "powerplots.savefig_autodate(fig, output)\n",
    "plt.show()"
   ]
  },
  {
   "cell_type": "code",
   "execution_count": null,
   "id": "4e95a0d6-3757-41e8-bd5f-1c9b92acf2d1",
   "metadata": {},
   "outputs": [],
   "source": []
  },
  {
   "cell_type": "markdown",
   "id": "0d07af75-c58f-423b-b696-9016b046be10",
   "metadata": {},
   "source": [
    "# UMAP"
   ]
  },
  {
   "cell_type": "code",
   "execution_count": null,
   "id": "bd4e5cd5-c51a-4190-a83e-f487d1b00787",
   "metadata": {
    "tags": []
   },
   "outputs": [],
   "source": [
    "dfplot = pd.read_csv('/u/home/f/f7xiesnm/v1_multiome/rna_atac_umap_p21_l23.csv')\n",
    "dfplot"
   ]
  },
  {
   "cell_type": "code",
   "execution_count": null,
   "id": "7d298507-5195-4ef3-9182-3ede9d6edd34",
   "metadata": {
    "tags": []
   },
   "outputs": [],
   "source": [
    "ctrds = dfplot.groupby('label').mean()"
   ]
  },
  {
   "cell_type": "code",
   "execution_count": null,
   "id": "8fe5bea5-203c-4750-b6c6-9aaa8e8d53be",
   "metadata": {
    "tags": []
   },
   "outputs": [],
   "source": [
    "unq_types = np.sort(dfplot['label'].unique())\n",
    "unq_types"
   ]
  },
  {
   "cell_type": "code",
   "execution_count": null,
   "id": "c71013e6-c518-4f8f-bd92-9d35dc559f60",
   "metadata": {
    "tags": []
   },
   "outputs": [],
   "source": [
    "fig, axs = plt.subplots(1,2,figsize=(2*5,1*5))\n",
    "\n",
    "for ax, x, y, title in zip(axs, ['r1', 'a1'], ['r2', 'a2'], ['RNA', 'ATAC']):\n",
    "    sns.scatterplot(\n",
    "        data=dfplot, x=x, y=y, hue='label', \n",
    "        # hue_order=unq_types,\n",
    "        # palette=palette,\n",
    "        s=2,\n",
    "        edgecolor='none',\n",
    "        rasterized=True,\n",
    "        legend=False,\n",
    "        ax=ax)\n",
    "    # ax.legend(bbox_to_anchor=(0,0))\n",
    "    ax.set_title(title)\n",
    "    ax.set_xticks([])\n",
    "    ax.set_yticks([])\n",
    "    ax.set_xlabel('')\n",
    "    ax.set_ylabel('')\n",
    "    \n",
    "    # plot centroid - text\n",
    "for t in unq_types:\n",
    "    r1, r2, a1, a2 = ctrds.loc[t][['r1', 'r2', 'a1', 'a2']]\n",
    "    axs[0].text(r1, r2, t)\n",
    "    axs[1].text(a1, a2, t)\n",
    "\n",
    "# axs[1].invert_yaxis()\n",
    "axs[1].invert_xaxis()\n",
    "fig.tight_layout()\n",
    "\n",
    "output = os.path.join(outdirfig, f'Fig1_RNA_ATAC.pdf')\n",
    "powerplots.savefig_autodate(fig, output)\n",
    "plt.show()"
   ]
  },
  {
   "cell_type": "markdown",
   "id": "2a36410e-f6bb-44bc-8c7c-b3abe561775a",
   "metadata": {},
   "source": [
    "# confmat"
   ]
  },
  {
   "cell_type": "code",
   "execution_count": null,
   "id": "f508b881-47df-4da4-9d6b-0aef2fc2e8c6",
   "metadata": {
    "tags": []
   },
   "outputs": [],
   "source": [
    "confmat = pd.read_csv('/u/home/f/f7xiesnm/v1_multiome/rna_atac_confmat_p21_l23.csv', index_col=0)\n",
    "confmat_norm = confmat.divide(confmat.sum(axis=1), axis=0)\n",
    "\n",
    "unq_types_ordered = [\n",
    "    'L2/3', 'L4', 'L5IT', 'L6IT',\n",
    "    'L5PT', 'L6CT', 'L5NP', 'L6b',\n",
    "    'Pvalb', 'Sst', 'Vip', 'Lamp5', 'Frem1', 'Stac',\n",
    "    'Astro', 'OPC', 'OD', 'Micro',\n",
    "    'Endo', 'VLMC'\n",
    "]\n",
    "len(unq_types_ordered), len(confmat_norm.columns)"
   ]
  },
  {
   "cell_type": "code",
   "execution_count": null,
   "id": "c0491f1c-e360-4e1e-a313-0ca07195bb60",
   "metadata": {
    "tags": []
   },
   "outputs": [],
   "source": [
    "confmat_norm_reordered = confmat_norm[unq_types_ordered]"
   ]
  },
  {
   "cell_type": "code",
   "execution_count": null,
   "id": "19bbd477-342f-419e-9a8c-26d5106ea2f5",
   "metadata": {
    "tags": []
   },
   "outputs": [],
   "source": [
    "rows = confmat_norm_reordered.index.values\n",
    "cols = confmat_norm_reordered.columns.values\n",
    "mat, ridx, cidx = basicu.diag_matrix_rows(confmat_norm_reordered)\n",
    "\n",
    "fig, ax = plt.subplots()\n",
    "sns.heatmap(mat.T, \n",
    "            xticklabels=rows[ridx],\n",
    "            yticklabels=cols[cidx],\n",
    "            cmap='rocket_r', \n",
    "            rasterized=True,\n",
    "            cbar_kws={'shrink':0.5, 'label':'% overlap'},\n",
    "            vmax=1, vmin=0,\n",
    "            ax=ax)\n",
    "ax.set_aspect('equal')\n",
    "output = os.path.join(outdirfig, f'FigS1_RNA_ATAC_confmat.pdf')\n",
    "powerplots.savefig_autodate(fig, output)"
   ]
  },
  {
   "cell_type": "code",
   "execution_count": null,
   "id": "9c1149d2-63c7-441f-81d2-6bf2abca8a0c",
   "metadata": {},
   "outputs": [],
   "source": []
  },
  {
   "cell_type": "code",
   "execution_count": null,
   "id": "4e25cf46-e1be-454b-a711-9d33ee10e6e2",
   "metadata": {},
   "outputs": [],
   "source": []
  }
 ],
 "metadata": {
  "kernelspec": {
   "display_name": "napari",
   "language": "python",
   "name": "napari"
  },
  "language_info": {
   "codemirror_mode": {
    "name": "ipython",
    "version": 3
   },
   "file_extension": ".py",
   "mimetype": "text/x-python",
   "name": "python",
   "nbconvert_exporter": "python",
   "pygments_lexer": "ipython3",
   "version": "3.9.16"
  }
 },
 "nbformat": 4,
 "nbformat_minor": 5
}
