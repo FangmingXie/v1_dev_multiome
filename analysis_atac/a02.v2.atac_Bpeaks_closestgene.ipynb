{
 "cells": [
  {
   "cell_type": "code",
   "execution_count": null,
   "id": "40d3cf98-2f37-46b9-a606-af61ebef2881",
   "metadata": {
    "tags": []
   },
   "outputs": [],
   "source": [
    "import scipy.io\n",
    "import numpy as np\n",
    "import pandas as pd\n",
    "import scanpy as sc\n",
    "import h5py\n",
    "\n",
    "import os\n",
    "import numpy as np\n",
    "import pandas as pd\n",
    "import scanpy as sc\n",
    "import anndata \n",
    "import seaborn as sns\n",
    "from scipy.stats import zscore\n",
    "import matplotlib.pyplot as plt\n",
    "import collections\n",
    "from natsort import natsorted\n",
    "\n",
    "from scipy import stats\n",
    "from scipy import sparse\n",
    "from sklearn.decomposition import PCA\n",
    "from umap import UMAP\n",
    "\n",
    "from matplotlib.colors import LinearSegmentedColormap\n",
    "from statsmodels.stats.multitest import multipletests\n",
    "\n",
    "from scroutines.config_plots import *\n",
    "from scroutines import powerplots # .config_plots import *\n",
    "from scroutines import pnmf\n",
    "from scroutines import basicu\n",
    "from scroutines.gene_modules import GeneModules  "
   ]
  },
  {
   "cell_type": "code",
   "execution_count": null,
   "id": "e40623c6-384a-49e4-935d-185e06cfb547",
   "metadata": {
    "tags": []
   },
   "outputs": [],
   "source": [
    "%%time\n",
    "adatas_pk = []\n",
    "ts = [6,8,10,12,14,17,21]\n",
    "for ti in ts:\n",
    "    print(ti)\n",
    "    f = f'/u/home/f/f7xiesnm/project-zipursky/v1-bb/v1/data/v1_multiome/P{ti}_ATAC_L23_peakbycell_filtered.h5ad'\n",
    "    adata_pk = sc.read(f)\n",
    "    adata_pk.obs = adata_pk.obs.set_index('cell')\n",
    "    print(adata_pk.var['peak'][:3].values)\n",
    "    \n",
    "    adatas_pk.append(adata_pk)\n",
    "    print(adata_pk)\n",
    "    break\n",
    "\n",
    "allpeaks = adata_pk.var['peak'].values\n",
    "adata_pk.var, allpeaks"
   ]
  },
  {
   "cell_type": "code",
   "execution_count": null,
   "id": "026e49f0-825b-42c0-9f5c-9e5e8609f442",
   "metadata": {
    "tags": []
   },
   "outputs": [],
   "source": [
    "%%time\n",
    "fout0 = '/u/home/f/f7xiesnm/project-zipursky/v1-bb/v1/data/v1_multiome/samesign_b_vs_ac_p6to21.txt'\n",
    "fout1 = '/u/home/f/f7xiesnm/project-zipursky/v1-bb/v1/data/v1_multiome/qs_b_vs_ac_p6to21.txt'\n",
    "fout2 = '/u/home/f/f7xiesnm/project-zipursky/v1-bb/v1/data/v1_multiome/l2fc_b_vs_ac_p6to21.txt'\n",
    "\n",
    "same_sign_alltime = np.loadtxt(fout0)\n",
    "qs_alltime   = np.loadtxt(fout1)\n",
    "l2fc_alltime = np.loadtxt(fout2)"
   ]
  },
  {
   "cell_type": "code",
   "execution_count": null,
   "id": "f813c0ce-4d13-43e0-bff8-f7b75a649384",
   "metadata": {
    "tags": []
   },
   "outputs": [],
   "source": [
    "same_sign_alltime = np.array(same_sign_alltime)\n",
    "qs_alltime = np.array(qs_alltime)\n",
    "l2fc_alltime = np.array(l2fc_alltime)"
   ]
  },
  {
   "cell_type": "code",
   "execution_count": null,
   "id": "21139e35-5408-4017-83c6-7f0a75331798",
   "metadata": {
    "tags": []
   },
   "outputs": [],
   "source": [
    "l2fc_th = np.log2(1.5)\n",
    "alpha_th = 0.05\n",
    "cond_sig    = np.all([same_sign_alltime > 0, qs_alltime < alpha_th, np.abs(l2fc_alltime) > l2fc_th], axis=0)\n",
    "cond_sig_bp = np.all([same_sign_alltime > 0, qs_alltime < alpha_th, l2fc_alltime >  l2fc_th], axis=0)\n",
    "cond_sig_bn = np.all([same_sign_alltime > 0, qs_alltime < alpha_th, l2fc_alltime < -l2fc_th], axis=0)\n",
    "\n",
    "print('num B vs (A/C) DARs per cond:\\t', cond_sig.sum(axis=1))\n",
    "print('num B   per cond:\\t',    cond_sig_bp.sum(axis=1))\n",
    "print('num A/C per cond:\\t',    cond_sig_bn.sum(axis=1))"
   ]
  },
  {
   "cell_type": "code",
   "execution_count": null,
   "id": "ce2ecfa2-fd74-451a-9212-ea5386d43fc5",
   "metadata": {
    "tags": []
   },
   "outputs": [],
   "source": [
    "gene_sig_instances    = cond_sig.sum(axis=0)\n",
    "gene_sig_instances_bp = cond_sig_bp.sum(axis=0)\n",
    "gene_sig_instances_bn = cond_sig_bn.sum(axis=0)\n",
    "\n",
    "instances, counts     = np.unique(gene_sig_instances, return_counts=True)\n",
    "instances_bp, counts_bp = np.unique(gene_sig_instances_bp, return_counts=True)\n",
    "instances_bn, counts_bn = np.unique(gene_sig_instances_bn, return_counts=True)\n",
    "\n",
    "print('num B vs (A/C) DARs in num conds:\\t',  counts   , np.any(cond_sig, axis=0).sum())\n",
    "print('num B   DARs in num conds:\\t',         counts_bp, np.any(cond_sig_bp, axis=0).sum())\n",
    "print('num A/C DARs in num conds:\\t',         counts_bn, np.any(cond_sig_bn, axis=0).sum())"
   ]
  },
  {
   "cell_type": "code",
   "execution_count": null,
   "id": "3e92ec9a-2f4c-4dd6-b67b-fdd476f054de",
   "metadata": {
    "tags": []
   },
   "outputs": [],
   "source": [
    "def split_peakstring(peak):\n",
    "    \"\"\"\n",
    "    \"\"\"\n",
    "    a, bc = peak.split(':')\n",
    "    b, c = bc.split('-')\n",
    "    b, c = int(b), int(c)\n",
    "    return a,b,c\n",
    "\n",
    "def peaksstrings_to_bed(peaks, name=None, fout=None, **kwargs):\n",
    "    \"\"\"\n",
    "    \"\"\"\n",
    "    \n",
    "    bedarray = np.char.replace(np.char.replace(peaks, ':', '\\t'), '-', '\\t')\n",
    "    if name is not None:\n",
    "        lastcol = np.arange(len(peaks)).astype(str)\n",
    "        linker = f\"\\t{name}_\"\n",
    "        bedarray = np.char.add(np.char.add(bedarray, linker), lastcol) \n",
    "        \n",
    "    if fout is not None:\n",
    "        print(f\"saving to {fout}\")\n",
    "        np.savetxt(fout, bedarray, **kwargs)\n",
    "        \n",
    "    return bedarray\n",
    "\n",
    "# [(a,b,c) for a,b,c in map(split_peakstring, a_peaks[:10])]\n",
    "# peaksstrings_to_bed(a_peaks, name='P6_A')\n"
   ]
  },
  {
   "cell_type": "code",
   "execution_count": null,
   "id": "a74ac730-038e-42aa-a961-c165bd5e71d1",
   "metadata": {
    "tags": []
   },
   "outputs": [],
   "source": [
    "import subprocess\n",
    "def get_closest_genes(peaks, dout, name):\n",
    "    \"\"\"run bedtools using subprocess\n",
    "    \"\"\"\n",
    "    fout_peaks = dout + f'/{name}_peaks.bed'\n",
    "    fout_cgene = dout + f'/{name}_peaks_ngene.bed'\n",
    "    \n",
    "    # save to bed\n",
    "    peaksstrings_to_bed(peaks, name=name, fout=fout_peaks, fmt='%s')\n",
    "\n",
    "    # run bedtools and save\n",
    "    # !bedtools closest -g mm10.sorted.chrom.sizes -a test.bed -b genebody.bed > out.bed\n",
    "    with open(fout_cgene, 'w') as f:\n",
    "        print(f\"Saving to {fout_cgene}\")\n",
    "        result = subprocess.run([\"bedtools\", \"closest\", \n",
    "                                    \"-g\", \"mm10.sorted.chrom.sizes\", \n",
    "                                    \"-t\", \"first\",\n",
    "                                    \"-a\", fout_peaks,\n",
    "                                    \"-b\", \"gencode.vM25.genebody_pconly.bed\", #\"gencode.vM25.genebody_pconly.bed\",\n",
    "                                   ], cwd=dout, stdout=f, stderr=subprocess.PIPE, text=True)\n",
    "    print(f\"Return code: {result.returncode}\")\n",
    "\n",
    "    # read the results back\n",
    "    df = pd.read_csv(fout_cgene, sep='\\t', header=None)\n",
    "    num_uniq_genes = len(df[7].unique())\n",
    "    print(f\"(pks; clst 1st g, uniq g): ({len(peaks)}, {len(df)}, {num_uniq_genes})\")\n",
    "    \n",
    "    return df"
   ]
  },
  {
   "cell_type": "code",
   "execution_count": null,
   "id": "39f26b2f-a254-4fd2-b029-4fa0ab4fef9c",
   "metadata": {
    "tags": []
   },
   "outputs": [],
   "source": [
    "dout = '/u/home/f/f7xiesnm/project-zipursky/v1-bb/v1/results_atac'\n",
    "!mkdir -p $dout"
   ]
  },
  {
   "cell_type": "code",
   "execution_count": null,
   "id": "36af2391-c9b4-4e52-a3b4-3dfe9b1b6066",
   "metadata": {
    "tags": []
   },
   "outputs": [],
   "source": [
    "%%time\n",
    "for i in range(7):\n",
    "    t = ts[i]\n",
    "    print(i, t)\n",
    "    peaks_bp = np.array(natsorted(allpeaks[cond_sig_bp[i]]))\n",
    "    peaks_bn = np.array(natsorted(allpeaks[cond_sig_bn[i]]))\n",
    "    \n",
    "    if len(peaks_bp) > 0:\n",
    "        res_bp = get_closest_genes(peaks_bp, dout, f'P{t}_Bp') \n",
    "    if len(peaks_bn) > 0:\n",
    "        res_bn = get_closest_genes(peaks_bn, dout, f'P{t}_Bn') "
   ]
  }
 ],
 "metadata": {
  "kernelspec": {
   "display_name": "Python 3 (ipykernel)",
   "language": "python",
   "name": "python3"
  },
  "language_info": {
   "codemirror_mode": {
    "name": "ipython",
    "version": 3
   },
   "file_extension": ".py",
   "mimetype": "text/x-python",
   "name": "python",
   "nbconvert_exporter": "python",
   "pygments_lexer": "ipython3",
   "version": "3.9.16"
  }
 },
 "nbformat": 4,
 "nbformat_minor": 5
}
