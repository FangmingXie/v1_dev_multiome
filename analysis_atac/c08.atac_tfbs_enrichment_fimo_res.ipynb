{
 "cells": [
  {
   "cell_type": "code",
   "execution_count": null,
   "id": "40d3cf98-2f37-46b9-a606-af61ebef2881",
   "metadata": {
    "tags": []
   },
   "outputs": [],
   "source": [
    "import scipy.io\n",
    "import numpy as np\n",
    "import pandas as pd\n",
    "import scanpy as sc\n",
    "import h5py\n",
    "\n",
    "import os\n",
    "import numpy as np\n",
    "import pandas as pd\n",
    "import scanpy as sc\n",
    "import anndata \n",
    "import seaborn as sns\n",
    "from scipy.stats import zscore\n",
    "import matplotlib.pyplot as plt\n",
    "import collections\n",
    "from natsort import natsorted\n",
    "\n",
    "from scipy import stats\n",
    "from scipy import sparse\n",
    "from sklearn.decomposition import PCA\n",
    "from umap import UMAP\n",
    "\n",
    "from matplotlib.colors import LinearSegmentedColormap\n",
    "from statsmodels.stats.multitest import multipletests\n",
    "\n",
    "from scroutines.config_plots import *\n",
    "from scroutines import powerplots # .config_plots import *\n",
    "from scroutines import pnmf\n",
    "from scroutines import basicu\n",
    "from scroutines.gene_modules import GeneModules  "
   ]
  },
  {
   "cell_type": "code",
   "execution_count": null,
   "id": "e40623c6-384a-49e4-935d-185e06cfb547",
   "metadata": {
    "tags": []
   },
   "outputs": [],
   "source": [
    "# run bed to fasta - prepare for motif enrichment analysis\n",
    "        \n",
    "wkdir = \"/u/home/f/f7xiesnm/project-zipursky/v1-bb/v1/results_atac\"\n",
    "f_genome = \"mm10.fna\"\n",
    "\n",
    "f = wkdir + '/fimo_L23A_M1/fimo.tsv'\n",
    "df = pd.read_csv(f, sep='\\t').dropna()\n",
    "df\n",
    "\n",
    "f2 = wkdir + '/fimo_L23B_M3/fimo.tsv'\n",
    "df2 = pd.read_csv(f2, sep='\\t').dropna()\n",
    "df2"
   ]
  },
  {
   "cell_type": "code",
   "execution_count": null,
   "id": "345a4225-3770-4882-9806-431c2116263d",
   "metadata": {},
   "outputs": [],
   "source": [
    "df['motif_alt_id'].unique().shape"
   ]
  },
  {
   "cell_type": "code",
   "execution_count": null,
   "id": "81519e90-c75c-46cf-98ce-8316c0cfcf54",
   "metadata": {
    "tags": []
   },
   "outputs": [],
   "source": [
    "hist = df['motif_alt_id'].value_counts(ascending=False)\n",
    "hist2 = df2['motif_alt_id'].value_counts(ascending=False)"
   ]
  },
  {
   "cell_type": "code",
   "execution_count": null,
   "id": "d6adff0d-3f6b-46b0-8c09-6348bec8d998",
   "metadata": {
    "tags": []
   },
   "outputs": [],
   "source": [
    "plt.plot(hist.values)\n",
    "plt.yscale('log')"
   ]
  },
  {
   "cell_type": "code",
   "execution_count": null,
   "id": "704b604c-ce2b-4ec3-ad67-2d9ebf7c9784",
   "metadata": {
    "tags": []
   },
   "outputs": [],
   "source": [
    "hist.head(20)"
   ]
  },
  {
   "cell_type": "code",
   "execution_count": null,
   "id": "99578c3f-531d-429b-9dc3-fb543fb7f18a",
   "metadata": {
    "tags": []
   },
   "outputs": [],
   "source": [
    "hist2.head(20)"
   ]
  },
  {
   "cell_type": "code",
   "execution_count": null,
   "id": "e8f72549-1e52-4a66-8348-5e3d63cdef89",
   "metadata": {
    "tags": []
   },
   "outputs": [],
   "source": [
    "hist_all = hist.to_frame('n_A1').join(hist2.to_frame('n_B3'))\n",
    "hist_all"
   ]
  },
  {
   "cell_type": "code",
   "execution_count": null,
   "id": "f1178953-85bb-46d8-a64c-9715e81a5f15",
   "metadata": {
    "tags": []
   },
   "outputs": [],
   "source": [
    "plt.scatter(hist_all['n_A1'], hist_all['n_B3'], s=5)\n",
    "\n",
    "rankings = ((hist_all['n_B3']+100) / (hist_all['n_A1']+100)).sort_values(ascending=False) \n",
    "rankings_top = rankings.head(5)\n",
    "rankings_btm = rankings.tail(5)\n",
    "\n",
    "plt.scatter(hist_all.loc[rankings_top.index]['n_A1'], \n",
    "            hist_all.loc[rankings_top.index]['n_B3'], s=5)\n",
    "\n",
    "plt.scatter(hist_all.loc[rankings_btm.index]['n_A1'], \n",
    "            hist_all.loc[rankings_btm.index]['n_B3'], s=5)\n",
    "\n",
    "plt.title(f'{rankings_top.index.values}\\n{rankings_btm.index.values}', fontsize=10)\n",
    "# for motif_name, row in hist_all.loc[rankings_top.index].iterrows():\n",
    "#     plt.text(row['n_A1'], row['n_B3'], motif_name, fontsize=10)\n",
    "    \n",
    "for motif_name, row in hist_all.loc[rankings_btm.index].iterrows():\n",
    "    plt.text(row['n_A1'], row['n_B3'], motif_name, fontsize=10)\n",
    "plt.xscale('log')\n",
    "plt.yscale('log')"
   ]
  },
  {
   "cell_type": "code",
   "execution_count": null,
   "id": "10767ce5-72ec-4797-8b75-fd5555904fd3",
   "metadata": {},
   "outputs": [],
   "source": []
  },
  {
   "cell_type": "code",
   "execution_count": null,
   "id": "6416fb08-266d-475f-97b3-a929541ec211",
   "metadata": {},
   "outputs": [],
   "source": []
  }
 ],
 "metadata": {
  "kernelspec": {
   "display_name": "Python 3 (ipykernel)",
   "language": "python",
   "name": "python3"
  },
  "language_info": {
   "codemirror_mode": {
    "name": "ipython",
    "version": 3
   },
   "file_extension": ".py",
   "mimetype": "text/x-python",
   "name": "python",
   "nbconvert_exporter": "python",
   "pygments_lexer": "ipython3",
   "version": "3.9.16"
  }
 },
 "nbformat": 4,
 "nbformat_minor": 5
}
