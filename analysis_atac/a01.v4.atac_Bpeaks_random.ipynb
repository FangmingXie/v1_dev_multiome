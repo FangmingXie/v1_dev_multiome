{
 "cells": [
  {
   "cell_type": "code",
   "execution_count": null,
   "id": "40d3cf98-2f37-46b9-a606-af61ebef2881",
   "metadata": {
    "tags": []
   },
   "outputs": [],
   "source": [
    "import scipy.io\n",
    "import numpy as np\n",
    "import pandas as pd\n",
    "import scanpy as sc\n",
    "import h5py\n",
    "\n",
    "import os\n",
    "import numpy as np\n",
    "import pandas as pd\n",
    "import scanpy as sc\n",
    "import anndata \n",
    "import seaborn as sns\n",
    "from scipy.stats import zscore\n",
    "import matplotlib.pyplot as plt\n",
    "import collections\n",
    "from natsort import natsorted\n",
    "\n",
    "from scipy import stats\n",
    "from scipy import sparse\n",
    "from sklearn.decomposition import PCA\n",
    "from umap import UMAP\n",
    "\n",
    "from matplotlib.colors import LinearSegmentedColormap\n",
    "from statsmodels.stats.multitest import multipletests\n",
    "\n",
    "from scroutines.config_plots import *\n",
    "from scroutines import powerplots # .config_plots import *\n",
    "from scroutines import pnmf\n",
    "from scroutines import basicu\n",
    "from scroutines.gene_modules import GeneModules  "
   ]
  },
  {
   "cell_type": "code",
   "execution_count": null,
   "id": "c97c2596-5b85-4018-8d00-3f5d9460a43f",
   "metadata": {},
   "outputs": [],
   "source": [
    "%%time\n",
    "f_rna = '/u/home/f/f7xiesnm/project-zipursky/v1-bb/v1/data/v1_multiome/L23_allmultiome_proc_P6toP21.h5ad'\n",
    "adata = sc.read(f_rna)\n",
    "adata"
   ]
  },
  {
   "cell_type": "code",
   "execution_count": null,
   "id": "e40623c6-384a-49e4-935d-185e06cfb547",
   "metadata": {
    "tags": []
   },
   "outputs": [],
   "source": [
    "%%time\n",
    "adatas_pk = []\n",
    "for ti in [6,8,10,12,14,17,21]:\n",
    "    print(ti)\n",
    "    f = f'/u/home/f/f7xiesnm/project-zipursky/v1-bb/v1/data/v1_multiome/P{ti}_ATAC_L23_peakbycell_filtered.h5ad'\n",
    "    adata_pk = sc.read(f)\n",
    "    adata_pk.obs = adata_pk.obs.set_index('cell')\n",
    "    print(adata_pk.var['peak'][:3].values)\n",
    "    \n",
    "    adatas_pk.append(adata_pk)\n",
    "    print(adata_pk)\n",
    "    # break"
   ]
  },
  {
   "cell_type": "code",
   "execution_count": null,
   "id": "38798144-dd47-47f1-8f4c-11390036de85",
   "metadata": {
    "tags": []
   },
   "outputs": [],
   "source": [
    "# get cells based on RNA\n",
    "# get matrix based on ATAC - CPM or CP10k\n",
    "\n",
    "same_sign_alltime = []\n",
    "qs_alltime = []\n",
    "l2fc_alltime = []\n",
    "for cond_order, obssub in adata.obs.groupby('cond_order'):\n",
    "    # get sub\n",
    "    adatasub = adata[obssub.index]\n",
    "    adata_pk = adatas_pk[cond_order]\n",
    "    \n",
    "    # get A vs C \n",
    "    x0 = adatasub.obsm['pca_p17on'][...,0]\n",
    "    # x_shuff\n",
    "    x = x0[np.random.choice(len(x0), size=len(x0), replace=False)]\n",
    "    cond_a = x < np.percentile(x,20)\n",
    "    cond_b = np.logical_and(\n",
    "                    x > np.percentile(x,40),\n",
    "                    x < np.percentile(x,60),)\n",
    "    cond_c = x > np.percentile(x,80)\n",
    "    cells_a = np.array([c.split(' ')[0][:-len('-2023')] for c in adatasub[cond_a].obs.index.values])\n",
    "    cells_b = np.array([c.split(' ')[0][:-len('-2023')] for c in adatasub[cond_b].obs.index.values])\n",
    "    cells_c = np.array([c.split(' ')[0][:-len('-2023')] for c in adatasub[cond_c].obs.index.values])\n",
    "    \n",
    "    cells_atac = adata_pk.obs.index.values\n",
    "    adata_pk_a = adata_pk[np.intersect1d(cells_a, cells_atac)]\n",
    "    adata_pk_b = adata_pk[np.intersect1d(cells_b, cells_atac)]\n",
    "    adata_pk_c = adata_pk[np.intersect1d(cells_c, cells_atac)]\n",
    "    \n",
    "    mat_a = np.log10(1+adata_pk_a.X[...]) # layers['lognorm'][...]\n",
    "    mat_b = np.log10(1+adata_pk_b.X[...]) # layers['lognorm'][...]\n",
    "    mat_c = np.log10(1+adata_pk_c.X[...]) # adatasub_c.layers['lognorm'][...]\n",
    "    \n",
    "    # DEGs\n",
    "    lfc_ba = np.log2(10)*(np.mean(mat_b, axis=0) - np.mean(mat_a, axis=0))\n",
    "    lfc_bc = np.log2(10)*(np.mean(mat_b, axis=0) - np.mean(mat_c, axis=0)) \n",
    "    ts, ps_ba = stats.ttest_ind(mat_b, mat_a)\n",
    "    ts, ps_bc = stats.ttest_ind(mat_b, mat_c)\n",
    "    rs, qs_ba, _, _ = multipletests(np.nan_to_num(ps_ba, nan=1).reshape(-1,), method='fdr_bh')\n",
    "    rs, qs_bc, _, _ = multipletests(np.nan_to_num(ps_bc, nan=1).reshape(-1,), method='fdr_bh')\n",
    "    \n",
    "    # sig_cond\n",
    "    same_sign = lfc_ba*lfc_bc > 0 # peak or valley; # same sign\n",
    "    lfc = np.mean([lfc_ba, lfc_bc], axis=0) # only relevant if they have the same sign\n",
    "    qs = np.minimum(qs_ba, qs_bc)\n",
    "    \n",
    "    cond_sig = np.all([\n",
    "        same_sign,\n",
    "        qs < 0.05, \n",
    "        np.abs(lfc) > np.log2(1.5),\n",
    "    ], axis=0)\n",
    "    num_sig = np.sum(cond_sig)\n",
    "    print(cond_order, mat_a.shape, mat_b.shape, mat_c.shape, num_sig)\n",
    "    \n",
    "    # save this\n",
    "    same_sign_alltime.append(same_sign)\n",
    "    qs_alltime.append(qs)\n",
    "    l2fc_alltime.append(lfc)\n",
    "    \n",
    "    # break"
   ]
  },
  {
   "cell_type": "code",
   "execution_count": null,
   "id": "6b4f8207-01c5-4768-9620-8dd3c832c4a7",
   "metadata": {
    "tags": []
   },
   "outputs": [],
   "source": [
    "same_sign_alltime = np.array(same_sign_alltime)\n",
    "qs_alltime = np.array(qs_alltime)\n",
    "l2fc_alltime = np.array(l2fc_alltime)"
   ]
  },
  {
   "cell_type": "code",
   "execution_count": null,
   "id": "49eb3bb4-4bad-48cf-963f-726b6d787e48",
   "metadata": {
    "tags": []
   },
   "outputs": [],
   "source": [
    "# adata.uns['qs_avc'] = qs_avc\n",
    "# adata.uns['l2fc_avc'] = l2fc_avc\n",
    "# adata"
   ]
  },
  {
   "cell_type": "code",
   "execution_count": null,
   "id": "bb017a26-7f4f-449c-979d-82cb8572c608",
   "metadata": {
    "tags": []
   },
   "outputs": [],
   "source": [
    "l2fc_th = np.log2(1.5)\n",
    "alpha_th = 0.05\n",
    "cond_sig    = np.all([same_sign_alltime > 0, qs_alltime < alpha_th, np.abs(l2fc_alltime) > l2fc_th], axis=0)\n",
    "cond_sig_bp = np.all([same_sign_alltime > 0, qs_alltime < alpha_th, l2fc_alltime >  l2fc_th], axis=0)\n",
    "cond_sig_bn = np.all([same_sign_alltime > 0, qs_alltime < alpha_th, l2fc_alltime < -l2fc_th], axis=0)\n",
    "\n",
    "print('num B vs (A/C) DARs per cond:\\t', cond_sig.sum(axis=1))\n",
    "print('num B   per cond:\\t',    cond_sig_bp.sum(axis=1))\n",
    "print('num A/C per cond:\\t',    cond_sig_bn.sum(axis=1))"
   ]
  },
  {
   "cell_type": "code",
   "execution_count": null,
   "id": "d0a1bfaa-436b-40da-82d5-aee4892d3528",
   "metadata": {
    "tags": []
   },
   "outputs": [],
   "source": [
    "gene_sig_instances    = cond_sig.sum(axis=0)\n",
    "gene_sig_instances_bp = cond_sig_bp.sum(axis=0)\n",
    "gene_sig_instances_bn = cond_sig_bn.sum(axis=0)\n",
    "\n",
    "instances, counts     = np.unique(gene_sig_instances, return_counts=True)\n",
    "instances_bp, counts_bp = np.unique(gene_sig_instances_bp, return_counts=True)\n",
    "instances_bn, counts_bn = np.unique(gene_sig_instances_bn, return_counts=True)\n",
    "\n",
    "print('num B vs (A/C) DARs in num conds:\\t',  counts   , np.any(cond_sig, axis=0).sum())\n",
    "print('num B   DARs in num conds:\\t',         counts_bp, np.any(cond_sig_bp, axis=0).sum())\n",
    "print('num A/C DARs in num conds:\\t',         counts_bn, np.any(cond_sig_bn, axis=0).sum())"
   ]
  },
  {
   "cell_type": "code",
   "execution_count": null,
   "id": "026e49f0-825b-42c0-9f5c-9e5e8609f442",
   "metadata": {
    "tags": []
   },
   "outputs": [],
   "source": [
    "# %%time\n",
    "# fout0 = '/u/home/f/f7xiesnm/project-zipursky/v1-bb/v1/data/v1_multiome/samesign_b_vs_ac_p6to21.txt'\n",
    "# fout1 = '/u/home/f/f7xiesnm/project-zipursky/v1-bb/v1/data/v1_multiome/qs_b_vs_ac_p6to21.txt'\n",
    "# fout2 = '/u/home/f/f7xiesnm/project-zipursky/v1-bb/v1/data/v1_multiome/l2fc_b_vs_ac_p6to21.txt'\n",
    "\n",
    "# np.savetxt(fout0, same_sign_alltime)\n",
    "# np.savetxt(fout1, qs_alltime)\n",
    "# np.savetxt(fout2, l2fc_alltime)"
   ]
  },
  {
   "cell_type": "code",
   "execution_count": null,
   "id": "b889bf19-56c5-4cd8-ab69-81aeb69de3f6",
   "metadata": {
    "tags": []
   },
   "outputs": [],
   "source": [
    "same_sign_alltime"
   ]
  },
  {
   "cell_type": "code",
   "execution_count": null,
   "id": "8e2e57f2-4dbd-4c6d-982c-b065ce42814c",
   "metadata": {
    "tags": []
   },
   "outputs": [],
   "source": [
    "l2fc_alltime"
   ]
  }
 ],
 "metadata": {
  "kernelspec": {
   "display_name": "Python 3 (ipykernel)",
   "language": "python",
   "name": "python3"
  },
  "language_info": {
   "codemirror_mode": {
    "name": "ipython",
    "version": 3
   },
   "file_extension": ".py",
   "mimetype": "text/x-python",
   "name": "python",
   "nbconvert_exporter": "python",
   "pygments_lexer": "ipython3",
   "version": "3.9.16"
  }
 },
 "nbformat": 4,
 "nbformat_minor": 5
}
