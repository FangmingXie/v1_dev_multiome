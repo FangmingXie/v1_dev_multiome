{
 "cells": [
  {
   "cell_type": "code",
   "execution_count": null,
   "id": "3301ac60-82e5-47d3-9d3d-112375381c3c",
   "metadata": {
    "tags": []
   },
   "outputs": [],
   "source": [
    "import pyBigWig\n",
    "import numpy as np"
   ]
  },
  {
   "cell_type": "code",
   "execution_count": null,
   "id": "1185f767-d5ef-47db-bcf8-86ffa6260d71",
   "metadata": {},
   "outputs": [],
   "source": []
  },
  {
   "cell_type": "code",
   "execution_count": null,
   "id": "b15b94b6-c657-47d2-ba2c-ad16ecea56bb",
   "metadata": {
    "tags": []
   },
   "outputs": [],
   "source": [
    "f = '/u/home/f/f7xiesnm/project-zipursky/v1-bb/v1/data/v1_multiome/atac_fragments/covr_snap/covr_P6a_RT0.bw'\n",
    "bw1 = pyBigWig.open(f)\n",
    "\n",
    "f = '/u/home/f/f7xiesnm/project-zipursky/v1-bb/v1/data/v1_multiome/atac_fragments/covr_snap/covr_P6b_RT0.bw'\n",
    "bw2 = pyBigWig.open(f)\n",
    "\n",
    "f = '/u/home/f/f7xiesnm/project-zipursky/v1-bb/v1/data/v1_multiome/atac_fragments/covr_snap/covr_P6c_RT0.bw'\n",
    "bw3 = pyBigWig.open(f)\n",
    "\n",
    "f = '/u/home/f/f7xiesnm/project-zipursky/v1-bb/v1/data/v1_multiome/atac_fragments/covr_snap/test_sum.bw'\n",
    "bw0 = pyBigWig.open(f)"
   ]
  },
  {
   "cell_type": "code",
   "execution_count": null,
   "id": "12a14e57-fc63-40aa-9df1-a0208b9f2192",
   "metadata": {
    "tags": []
   },
   "outputs": [],
   "source": [
    "print(bw0.intervals('chr1')[:3])\n",
    "\n",
    "print(bw1.intervals('chr1')[:3])\n",
    "print(bw2.intervals('chr1')[:3])\n",
    "print(bw3.intervals('chr1')[:3])"
   ]
  },
  {
   "cell_type": "code",
   "execution_count": null,
   "id": "5eb4702c-48ec-407c-9764-9b44c2679d49",
   "metadata": {
    "tags": []
   },
   "outputs": [],
   "source": [
    "print(bw0.intervals('chr1', 3003750, 3003760))\n",
    "\n",
    "print(bw1.intervals('chr1', 3003750, 3003760))\n",
    "print(bw2.intervals('chr1', 3003750, 3003760))\n",
    "print(bw3.intervals('chr1', 3003750, 3003760))"
   ]
  },
  {
   "cell_type": "code",
   "execution_count": null,
   "id": "7b28ef9d-752d-40cb-91c6-1509d7eefd66",
   "metadata": {
    "tags": []
   },
   "outputs": [],
   "source": [
    "def allsum_lame(bw):\n",
    "    \"\"\"\n",
    "    \"\"\"\n",
    "    num = 0\n",
    "    for chrom in bw.chroms().keys():\n",
    "        num += np.sum([i[2] for i in bw.intervals(chrom)])\n",
    "        \n",
    "    return num\n",
    "\n",
    "def allsum(bw):\n",
    "    \"\"\"\n",
    "    \"\"\"\n",
    "    num = 0\n",
    "    for chrom in bw.chroms().keys():\n",
    "        num += np.sum([i[2]*(i[1]-i[0])/10 for i in bw.intervals(chrom)])\n",
    "        \n",
    "    return num"
   ]
  },
  {
   "cell_type": "code",
   "execution_count": null,
   "id": "38561e5d-6523-476e-968e-d6a32f466ed4",
   "metadata": {
    "tags": []
   },
   "outputs": [],
   "source": [
    "allsum_lame(bw0), allsum_lame(bw1)+allsum_lame(bw2)+allsum_lame(bw3)"
   ]
  },
  {
   "cell_type": "code",
   "execution_count": null,
   "id": "d4b42b96-70b4-4fa4-8637-4fde2c968550",
   "metadata": {},
   "outputs": [],
   "source": [
    "allsum(bw0), allsum(bw1)+allsum(bw2)+allsum(bw3)"
   ]
  },
  {
   "cell_type": "code",
   "execution_count": null,
   "id": "fca18da5-3b76-441c-b5c8-fe6c9bf9cf4d",
   "metadata": {},
   "outputs": [],
   "source": []
  }
 ],
 "metadata": {
  "kernelspec": {
   "display_name": "snapatac2",
   "language": "python",
   "name": "snapatac2"
  },
  "language_info": {
   "codemirror_mode": {
    "name": "ipython",
    "version": 3
   },
   "file_extension": ".py",
   "mimetype": "text/x-python",
   "name": "python",
   "nbconvert_exporter": "python",
   "pygments_lexer": "ipython3",
   "version": "3.12.0"
  }
 },
 "nbformat": 4,
 "nbformat_minor": 5
}
