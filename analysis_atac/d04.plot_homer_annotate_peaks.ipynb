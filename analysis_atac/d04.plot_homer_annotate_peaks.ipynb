{
 "cells": [
  {
   "cell_type": "code",
   "execution_count": null,
   "id": "0d4f050b-d2de-45e7-8f7f-0dfba714408f",
   "metadata": {
    "tags": []
   },
   "outputs": [],
   "source": [
    "import numpy as np\n",
    "import pandas as pd\n",
    "import os\n",
    "\n",
    "import matplotlib.pyplot as plt\n",
    "import seaborn as sns\n",
    "from scipy import sparse\n",
    "from sklearn.decomposition import PCA\n",
    "\n",
    "import scanpy as sc\n",
    "from umap import UMAP\n",
    "from scroutines import powerplots\n",
    "from scroutines import basicu"
   ]
  },
  {
   "cell_type": "markdown",
   "id": "953d6ed0-73ec-4e25-b91f-f0464eef1883",
   "metadata": {},
   "source": [
    "Used homer `annotatePeaks.pl` on `mm10`\n"
   ]
  },
  {
   "cell_type": "code",
   "execution_count": null,
   "id": "840ee02e-fb67-4a7c-a0dc-eae10613cd61",
   "metadata": {
    "tags": []
   },
   "outputs": [],
   "source": [
    "def get_index_from_array(a, b):\n",
    "    \"\"\"get the indices of b elements in a array\n",
    "    \"\"\"\n",
    "    return pd.Series(a).reset_index().set_index(0).loc[b]['index'].values\n",
    "    "
   ]
  },
  {
   "cell_type": "code",
   "execution_count": null,
   "id": "d8ca086a-bd78-44d6-ada8-de1d1ce19c5a",
   "metadata": {
    "tags": []
   },
   "outputs": [],
   "source": [
    "outdirfig = \"/u/home/f/f7xiesnm/project-zipursky/v1-bb/v1/figures/250409\""
   ]
  },
  {
   "cell_type": "code",
   "execution_count": null,
   "id": "e75c0c60-3d3e-4137-a9e2-0849e50df7dd",
   "metadata": {
    "tags": []
   },
   "outputs": [],
   "source": [
    "# nums = [8486, 11249, 11430, 0, 0, 0]\n",
    "# fig, ax = plt.subplots(figsize=(3,3))\n",
    "# ax.bar(np.arange(6), nums, color=['C0', 'C1', 'C2'], edgecolor='none')\n",
    "# ax.set_xticks(np.arange(6))\n",
    "# sns.despine(ax=ax)\n",
    "# ax.grid(axis='x')\n",
    "\n",
    "# output = os.path.join(outdirfig, f'FigS1_ATAC_DAR_data_vs_shuff.pdf')\n",
    "# powerplots.savefig_autodate(fig, output)\n",
    "# plt.show()"
   ]
  },
  {
   "cell_type": "code",
   "execution_count": null,
   "id": "4e95a0d6-3757-41e8-bd5f-1c9b92acf2d1",
   "metadata": {},
   "outputs": [],
   "source": [
    "f = '/u/home/f/f7xiesnm/v1_multiome/atac_fragments/frag_bed/processed_peaks/consensus_peaks_v2_DAR_ABC_sorted_unique_homer_annot.bed'\n",
    "df = pd.read_csv(f, sep='\\t')\n",
    "df"
   ]
  },
  {
   "cell_type": "code",
   "execution_count": null,
   "id": "0e82c4a7-9cbd-4b80-8dce-0682528c1de0",
   "metadata": {
    "tags": []
   },
   "outputs": [],
   "source": [
    "df['Annotation'][df['Annotation'].str.contains(r'^non-coding')]"
   ]
  },
  {
   "cell_type": "code",
   "execution_count": null,
   "id": "861dd62c-9f3f-40dc-9a2a-c8dccc95fa57",
   "metadata": {
    "tags": []
   },
   "outputs": [],
   "source": [
    "df['short_annot'] = df['Annotation'].apply(lambda x: x.split('(')[0])"
   ]
  },
  {
   "cell_type": "code",
   "execution_count": null,
   "id": "d1b13eaf-1657-4fe3-bc11-c6bee4a55f07",
   "metadata": {
    "tags": []
   },
   "outputs": [],
   "source": [
    "\n",
    "n_annots = df['short_annot'].value_counts()\n",
    "n_annots, np.sum(n_annots)"
   ]
  },
  {
   "cell_type": "code",
   "execution_count": null,
   "id": "c5f68e82-00d8-4bee-8ae6-5a239109705e",
   "metadata": {
    "tags": []
   },
   "outputs": [],
   "source": [
    "pctl_annots = n_annots / np.sum(n_annots) * 100\n",
    "pctl_annots"
   ]
  },
  {
   "cell_type": "code",
   "execution_count": null,
   "id": "a1e0125c-fb3f-4747-8a92-884a9af185b2",
   "metadata": {
    "tags": []
   },
   "outputs": [],
   "source": [
    "pctl_annots[3:].sum()\n"
   ]
  },
  {
   "cell_type": "code",
   "execution_count": null,
   "id": "de2040da-6480-4a45-8a9b-0ed360bef2bf",
   "metadata": {
    "tags": []
   },
   "outputs": [],
   "source": [
    "fig, ax = plt.subplots(figsize=(8,3))\n",
    "pctl_annots.to_frame().T.plot.barh(stacked=True, edgecolor='none', ax=ax, colormap='Set2')\n",
    "sns.despine(ax=ax, left=True)\n",
    "ax.set_xlim([0,100])\n",
    "ax.grid(False)\n",
    "ax.set_yticks([])\n",
    "ax.legend(bbox_to_anchor=(1,1))\n",
    "output = os.path.join(outdirfig, f'FigS2_annotated_peaks.pdf')\n",
    "powerplots.savefig_autodate(fig, output)\n",
    "plt.show()\n",
    "\n",
    "# for cont in ax.containers:\n",
    "#     ax.bar_label(cont, fmt='%.1f', fontsize=10)"
   ]
  },
  {
   "cell_type": "code",
   "execution_count": null,
   "id": "ca873fdf-d016-4497-b82a-b7a6695859cf",
   "metadata": {},
   "outputs": [],
   "source": []
  }
 ],
 "metadata": {
  "kernelspec": {
   "display_name": "napari",
   "language": "python",
   "name": "napari"
  },
  "language_info": {
   "codemirror_mode": {
    "name": "ipython",
    "version": 3
   },
   "file_extension": ".py",
   "mimetype": "text/x-python",
   "name": "python",
   "nbconvert_exporter": "python",
   "pygments_lexer": "ipython3",
   "version": "3.9.16"
  }
 },
 "nbformat": 4,
 "nbformat_minor": 5
}
