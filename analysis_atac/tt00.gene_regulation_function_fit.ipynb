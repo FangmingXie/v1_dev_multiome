{
 "cells": [
  {
   "cell_type": "markdown",
   "id": "3df93694-bb4e-49fe-86bb-4eff13578ccc",
   "metadata": {},
   "source": [
    "# Questions\n",
    "- which TFs make into a regulon and which do not? \n",
    "\n",
    "- TFBS database\n",
    "- level of expression \n",
    "- additional criteria? "
   ]
  },
  {
   "cell_type": "code",
   "execution_count": null,
   "id": "437c54b0-ae15-4086-a0e8-35e41e214a20",
   "metadata": {
    "tags": []
   },
   "outputs": [],
   "source": [
    "import os\n",
    "import numpy as np\n",
    "import pandas as pd\n",
    "import scanpy as sc\n",
    "import anndata \n",
    "import seaborn as sns\n",
    "from scipy.stats import zscore\n",
    "import matplotlib.pyplot as plt\n",
    "import collections\n",
    "from natsort import natsorted\n",
    "\n",
    "from scipy import stats\n",
    "from scipy import sparse\n",
    "from sklearn.decomposition import PCA\n",
    "from umap import UMAP\n",
    "from statsmodels.stats.multitest import multipletests\n",
    "\n",
    "from matplotlib.colors import LinearSegmentedColormap\n",
    "\n",
    "from scroutines.config_plots import *\n",
    "from scroutines import powerplots # .config_plots import *\n",
    "from scroutines import pnmf\n",
    "from scroutines import basicu\n",
    "from scroutines.gene_modules import GeneModules  \n",
    "\n",
    "import atac_utils"
   ]
  },
  {
   "cell_type": "code",
   "execution_count": null,
   "id": "13aabb0c-7c33-4245-bb3d-4128cc2b84b2",
   "metadata": {
    "tags": []
   },
   "outputs": [],
   "source": [
    "outdirfig = \"/u/home/f/f7xiesnm/project-zipursky/v1-bb/v1/figures/250521\"\n",
    "!mkdir -p $outdirfig"
   ]
  },
  {
   "cell_type": "code",
   "execution_count": null,
   "id": "9a0d9b01-0bf7-4412-9749-c5e635ed141c",
   "metadata": {
    "tags": []
   },
   "outputs": [],
   "source": [
    "ddir = '/u/home/f/f7xiesnm/v1_multiome/juyoun/' \n",
    "!ls $ddir"
   ]
  },
  {
   "cell_type": "code",
   "execution_count": null,
   "id": "8e2754f5-afdd-4e64-bc2a-28ca5c802f2a",
   "metadata": {
    "tags": []
   },
   "outputs": [],
   "source": [
    "f = ddir+'regulons_l23alltime_trimmed_cleaned_bigtable.csv'\n",
    "# scenic metadata\n",
    "df_scenic = pd.read_csv(f, index_col=0)\n",
    "df_scenic\n"
   ]
  },
  {
   "cell_type": "code",
   "execution_count": null,
   "id": "21cc515d-c720-43d3-857a-d7a50b8484cc",
   "metadata": {
    "tags": []
   },
   "outputs": [],
   "source": [
    "df_reg = df_scenic.groupby(['TF', 'signs', 'Consensus_name']).first()[['Gene_signature_name', 'Region_signature_name', ]].sort_values('TF')\n",
    "\n",
    "scenic_tfs = np.sort(df_scenic['TF'].unique())\n",
    "scenic_genes = np.sort(df_scenic['Gene'].unique()) # .shape\n",
    "scenic_regions = np.sort(df_scenic['Region'].unique()) # .shape\n",
    "\n",
    "num_reg    = len(df_reg)\n",
    "num_tf     = len(scenic_tfs)\n",
    "num_gene = len(scenic_genes)\n",
    "num_region = len(scenic_regions)\n",
    "print(num_reg, num_tf, num_gene, num_region)\n",
    "df_reg"
   ]
  },
  {
   "cell_type": "code",
   "execution_count": null,
   "id": "7bb35aa9-6c1f-4c6b-b5d3-d7e1275c3a32",
   "metadata": {
    "tags": []
   },
   "outputs": [],
   "source": [
    "df_reg.reset_index()['signs'].value_counts()"
   ]
  },
  {
   "cell_type": "markdown",
   "id": "040668b7-3c48-4a4a-9f3e-c8d1f56ae13a",
   "metadata": {
    "tags": []
   },
   "source": [
    "# prep RNA data"
   ]
  },
  {
   "cell_type": "code",
   "execution_count": null,
   "id": "cb2dbae6-8071-4f09-b270-1cd0cfb42c76",
   "metadata": {},
   "outputs": [],
   "source": [
    "# RNA data\n",
    "scores_abc = pd.read_csv(\"/u/home/f/f7xiesnm/project-zipursky/v1-bb/v1/data/v1_multiome/scores_l23abc.csv\", \n",
    "                         index_col=0,\n",
    "                        )\n",
    "scores_abc['scores_c-a'] = scores_abc['scores_c'] - scores_abc['scores_a']\n",
    "\n",
    "adata = anndata.read(\"/u/home/f/f7xiesnm/project-zipursky/v1-bb/v1/data/v1_multiome/superdupermegaRNA_hasraw_multiome_l23.h5ad\")\n",
    "adata.X = adata.raw.X\n",
    "\n",
    "adata.obs['scores_a'] = scores_abc.loc[adata.obs.index,'scores_a'].copy()\n",
    "adata.obs['scores_b'] = scores_abc.loc[adata.obs.index,'scores_b'].copy()\n",
    "adata.obs['scores_c'] = scores_abc.loc[adata.obs.index,'scores_c'].copy()\n",
    "adata.obs['scores_c-a'] = scores_abc.loc[adata.obs.index,'scores_c-a'].copy()\n",
    "\n",
    "adata"
   ]
  },
  {
   "cell_type": "code",
   "execution_count": null,
   "id": "59342aa7-059b-4834-8cb1-9a3cc40d8af4",
   "metadata": {
    "tags": []
   },
   "outputs": [],
   "source": [
    "sample_labels = adata.obs['Sample'].values\n",
    "time_labels = [s[:-1].replace('DR', '') for s in sample_labels]\n",
    "\n",
    "adata.obs['sample'] = sample_labels #\n",
    "adata.obs['time']   = time_labels\n",
    "\n",
    "uniq_samples = natsorted(np.unique(sample_labels))\n",
    "nr_samples = [s for s in uniq_samples if \"DR\" not in s]\n",
    "dr_samples = [s for s in uniq_samples if \"DR\" in s]\n",
    "\n",
    "uniq_conds = np.array(natsorted(np.unique(adata.obs['cond'].values)))\n",
    "print(uniq_conds)"
   ]
  },
  {
   "cell_type": "code",
   "execution_count": null,
   "id": "a40fb3bc-fcd4-4e76-b385-2042cfeaba54",
   "metadata": {
    "tags": []
   },
   "outputs": [],
   "source": [
    "# remove mitocondria genes\n",
    "adata = adata[:,~adata.var.index.str.contains(r'^mt-')]\n",
    "# remove sex genes\n",
    "adata = adata[:,~adata.var.index.str.contains(r'^Xist$')]\n",
    "\n",
    "# filter genes\n",
    "cond = np.ravel((adata.X>0).sum(axis=0)) > 10 # expressed in more than 10 cells\n",
    "adata = adata[:,cond].copy()"
   ]
  },
  {
   "cell_type": "code",
   "execution_count": null,
   "id": "2820d615-e393-47ab-b93e-01b29c4b563d",
   "metadata": {
    "tags": []
   },
   "outputs": [],
   "source": [
    "# counts\n",
    "x = adata.X\n",
    "cov = np.ravel(np.sum(x, axis=1))\n",
    "genes = adata.var.index.values\n",
    "\n",
    "# CP10k\n",
    "xn = (sparse.diags(1/cov).dot(x))*1e4\n",
    "\n",
    "# log2(CP10k+1)\n",
    "xln = xn.copy()\n",
    "xln.data = np.log2(xln.data+1)\n",
    "\n",
    "adata.layers[    'norm'] = np.array(xn.todense())\n",
    "adata.layers[ 'lognorm'] = np.array(xln.todense())"
   ]
  },
  {
   "cell_type": "code",
   "execution_count": null,
   "id": "8be947d6-7a60-40d2-b342-8ddf8d2c3618",
   "metadata": {},
   "outputs": [],
   "source": [
    "# adata.obs['sample'].unique()\n",
    "import re\n",
    "\n",
    "todo_conds = [\n",
    "    'P12DR', 'P14DR', 'P17DR', 'P21DR',\n",
    "    'P6', 'P8', 'P10', 'P12', 'P14', 'P17', 'P21', \n",
    "]\n",
    "todo_samps = [\n",
    "    'P12DRa', 'P12DRb',\n",
    "    'P14DRa', 'P14DRb',\n",
    "    'P17DRa', 'P17DRb',\n",
    "    'P21DRa', 'P21DRb',\n",
    "    'P6a', 'P6b', 'P6c', \n",
    "    'P8a', 'P8b', 'P8c', \n",
    "    'P10a', 'P10b', \n",
    "    'P12a', 'P12b', 'P12c', \n",
    "    'P14a', 'P14b',\n",
    "    'P17a', 'P17b', \n",
    "    'P21a', 'P21b', \n",
    "]\n",
    "\n",
    "cond2condcode = {\n",
    "    'P12DR': 0, \n",
    "    'P14DR': 1,\n",
    "    'P17DR': 2,\n",
    "    'P21DR': 3,\n",
    "    'P6':    4,\n",
    "    'P8':    5,\n",
    "    'P10':   6,\n",
    "    'P12':   7,\n",
    "    'P14':   8,\n",
    "    'P17':   9,\n",
    "    'P21':  10,\n",
    "}\n",
    "todo_conds_t = np.array([int(re.sub(r'[a-zA-Z]', '', a)) for a in todo_conds])\n",
    "todo_samps_t = np.array([int(re.sub(r'[a-zA-Z]', '', a)) for a in todo_samps])\n",
    "print(todo_conds_t)\n",
    "print(todo_samps_t)\n",
    "\n",
    "def mean_over_samples(mmat_res_samp):\n",
    "    \"\"\"25 samples to 11 conditions\n",
    "    \"\"\"\n",
    "    assert mmat_res_samp.shape[0] == 25\n",
    "    \n",
    "    mmat_res_samp_mean = np.zeros(mmat_res_samp.shape)[:11]\n",
    "    mmat_res_samp_mean[0] = np.mean(mmat_res_samp[ :2], axis=0)\n",
    "    mmat_res_samp_mean[1] = np.mean(mmat_res_samp[2:4], axis=0)\n",
    "    mmat_res_samp_mean[2] = np.mean(mmat_res_samp[4:6], axis=0)\n",
    "    mmat_res_samp_mean[3] = np.mean(mmat_res_samp[6:8], axis=0)\n",
    "\n",
    "    mmat_res_samp_mean[4] = np.mean(mmat_res_samp[8:11], axis=0)\n",
    "    mmat_res_samp_mean[5] = np.mean(mmat_res_samp[11:14], axis=0)\n",
    "    mmat_res_samp_mean[6] = np.mean(mmat_res_samp[14:16], axis=0)\n",
    "    mmat_res_samp_mean[7] = np.mean(mmat_res_samp[16:19], axis=0)\n",
    "    mmat_res_samp_mean[8] = np.mean(mmat_res_samp[19:21], axis=0)\n",
    "    mmat_res_samp_mean[9] = np.mean(mmat_res_samp[21:23], axis=0)\n",
    "    mmat_res_samp_mean[10] = np.mean(mmat_res_samp[23:  ], axis=0)\n",
    "    \n",
    "    return mmat_res_samp_mean\n",
    "\n",
    "def transform_bigredmat(bigmat):\n",
    "    \"\"\"bigmat or redmat\n",
    "    to fmat and zmat\n",
    "    \n",
    "    (samp, type, gene) -> (gene, samp*type)\n",
    "    also change column order\n",
    "    \"\"\"\n",
    "    fmat = bigmat.reshape(-1, bigmat.shape[-1]).T\n",
    "    fmat = np.hstack([fmat[:,4*5:], fmat[:,:4*5]]) # CHANGED COLUMN ORDER!!\n",
    "    zmat = zscore(fmat, axis=1)\n",
    "    \n",
    "    return fmat, zmat"
   ]
  },
  {
   "cell_type": "code",
   "execution_count": null,
   "id": "d4059c8d-5dba-4970-8360-e9bfa32dad62",
   "metadata": {
    "tags": []
   },
   "outputs": [],
   "source": [
    "%%time\n",
    "\n",
    "\n",
    "offset = 1\n",
    "n_type = 5\n",
    "frac_archetypal_cells_viz = 0.2\n",
    "\n",
    "mat = adata.layers['norm'][...]\n",
    "gexp_l23baseline = np.log2(np.mean(mat, axis=0)*1e2+offset) # CP10k -> CPM\n",
    "\n",
    "bigmat_nfd = np.zeros((len(todo_samps), n_type, adata.shape[1]))\n",
    "bigmat_abc = np.zeros((len(todo_samps),      3, adata.shape[1]))\n",
    "\n",
    "for i, samp in enumerate(todo_samps):\n",
    "    print(samp)\n",
    "    \n",
    "    # get sub\n",
    "    adatasub = adata[adata.obs['sample']==samp]\n",
    "    n_cells = adatasub.shape[0]\n",
    "    \n",
    "    # get A vs C \n",
    "    ranks_ac = adatasub.obs['scores_c-a'].rank()\n",
    "    ranks_b  = adatasub.obs['scores_b'].rank()\n",
    "    \n",
    "    # per type\n",
    "    cells_type_nfd = pd.qcut(ranks_ac, n_type, labels=False)\n",
    "    for j in range(n_type):\n",
    "        mat_j = adatasub[cells_type_nfd==j].layers['norm'][...]\n",
    "        mmat_j = np.log2(np.mean(mat_j, axis=0)*1e2+offset) - gexp_l23baseline # CP10k -> CPM\n",
    "        bigmat_nfd[i,j] = mmat_j\n",
    "    \n",
    "    # A, B, C\n",
    "    num_archetypal_cells_viz = int(n_cells*frac_archetypal_cells_viz)\n",
    "    \n",
    "    precond_a = ranks_ac <= num_archetypal_cells_viz\n",
    "    precond_c = ranks_ac > adatasub.shape[0] - num_archetypal_cells_viz\n",
    "    precond_b = ranks_b  > adatasub.shape[0] - num_archetypal_cells_viz\n",
    "    \n",
    "    cond_a = np.all([ precond_a, ~precond_b, ~precond_c], axis=0)\n",
    "    cond_b = np.all([~precond_a,  precond_b, ~precond_c], axis=0)\n",
    "    cond_c = np.all([~precond_a, ~precond_b,  precond_c], axis=0)\n",
    "    \n",
    "    for j, cond in enumerate([cond_a, cond_b, cond_c]):\n",
    "        mat_j = adatasub[cond].layers['norm'][...]\n",
    "        mmat_j = np.log2(np.mean(mat_j, axis=0)*1e2+offset) - gexp_l23baseline # CP10k -> CPM\n",
    "        bigmat_abc[i,j] = mmat_j\n"
   ]
  },
  {
   "cell_type": "code",
   "execution_count": null,
   "id": "c22ac395-cd4c-437f-bcec-6fe6be16d2bf",
   "metadata": {
    "tags": []
   },
   "outputs": [],
   "source": [
    "redmat_abc = mean_over_samples(bigmat_abc)"
   ]
  },
  {
   "cell_type": "code",
   "execution_count": null,
   "id": "e0f3439a-9d98-4976-8303-56f80e3cf54e",
   "metadata": {
    "tags": []
   },
   "outputs": [],
   "source": [
    "bigmat_abc.shape, redmat_abc.shape, genes.shape"
   ]
  },
  {
   "cell_type": "markdown",
   "id": "43bd1a51-8aa2-4b23-9590-4fa42dcd744a",
   "metadata": {},
   "source": [
    "# prep region data"
   ]
  },
  {
   "cell_type": "code",
   "execution_count": null,
   "id": "dba99f7f-7f57-460e-9b2e-1d05e478998c",
   "metadata": {
    "tags": []
   },
   "outputs": [],
   "source": [
    "%%time\n",
    "adatas_pk = []\n",
    "# for cond in sample_conditions:\n",
    "for cond in todo_conds:\n",
    "    print(cond)\n",
    "    f = f'/u/home/f/f7xiesnm/project-zipursky/v1-bb/v1/results_atac/pmat_l23scenic_v2_{cond}.h5ad'\n",
    "    adata_pk = sc.read(f)\n",
    "    adatas_pk.append(adata_pk)\n",
    "    print(adata_pk)\n",
    "    # break"
   ]
  },
  {
   "cell_type": "code",
   "execution_count": null,
   "id": "571fe843-4a7a-4dbd-92a2-bd51a59415b1",
   "metadata": {},
   "outputs": [],
   "source": [
    "regionset = adata_pk.var.index.values\n",
    "regionset"
   ]
  },
  {
   "cell_type": "code",
   "execution_count": null,
   "id": "60762b53-c19e-4b0c-b843-52d7b9850554",
   "metadata": {},
   "outputs": [],
   "source": [
    "%%time\n",
    "mat = []\n",
    "for adata_pk in adatas_pk:\n",
    "    mat.append(np.array(adata_pk.X.todense()))\n",
    "mat = np.vstack(mat)\n",
    "mat = mat/np.sum(mat, axis=1).reshape(-1,1)*1e6\n",
    "atac_l23baseline = np.log2(np.mean(mat, axis=0)+offset)"
   ]
  },
  {
   "cell_type": "code",
   "execution_count": null,
   "id": "8a905742-12e5-4176-93cc-8f4f8144cf4f",
   "metadata": {
    "tags": []
   },
   "outputs": [],
   "source": [
    "%%time\n",
    "\n",
    "offset = 1\n",
    "n_type = 5\n",
    "frac_archetypal_cells_viz = 0.2\n",
    "bigmatatac_nfd = np.zeros((len(todo_samps), n_type, len(regionset)))\n",
    "bigmatatac_abc = np.zeros((len(todo_samps),      3, len(regionset)))\n",
    "\n",
    "for i, samp in enumerate(todo_samps):\n",
    "    cond_name = samp[:-1]\n",
    "    cond_code = cond2condcode[cond_name]\n",
    "    print(samp, cond_name, cond_code)\n",
    "    \n",
    "    # get ATAC\n",
    "    adata_pk = adatas_pk[cond_code]\n",
    "    cells_atac = adata_pk.obs.index.values\n",
    "    \n",
    "    # get sub\n",
    "    adatasub = adata[adata.obs['sample']==samp]\n",
    "    cells_rna = adatasub.obs.index.values\n",
    "    n_cells = adatasub.shape[0]\n",
    "    \n",
    "    # get A vs C \n",
    "    ranks_ac = adatasub.obs['scores_c-a'].rank()\n",
    "    ranks_b  = adatasub.obs['scores_b'].rank()\n",
    "    \n",
    "    # per type\n",
    "    cells_type_nfd = pd.qcut(ranks_ac, n_type, labels=False)\n",
    "    for j in range(n_type):\n",
    "        cond_j = cells_type_nfd==j\n",
    "        cells_j = np.intersect1d(cells_rna[cond_j], cells_atac)\n",
    "        mat_j = np.array(adata_pk[cells_j].X.todense()) \n",
    "        mat_j = mat_j/np.sum(mat_j, axis=1).reshape(-1,1)*1e6\n",
    "        mmat_j = np.log2(np.mean(mat_j, axis=0)+offset) - atac_l23baseline\n",
    "        bigmatatac_nfd[i,j] = mmat_j\n",
    "    \n",
    "    # A, B, C\n",
    "    num_archetypal_cells_viz = int(n_cells*frac_archetypal_cells_viz)\n",
    "    \n",
    "    precond_a = ranks_ac <= num_archetypal_cells_viz\n",
    "    precond_c = ranks_ac > adatasub.shape[0] - num_archetypal_cells_viz\n",
    "    precond_b = ranks_b  > adatasub.shape[0] - num_archetypal_cells_viz\n",
    "    \n",
    "    cond_a = np.all([ precond_a, ~precond_b, ~precond_c], axis=0)\n",
    "    cond_b = np.all([~precond_a,  precond_b, ~precond_c], axis=0)\n",
    "    cond_c = np.all([~precond_a, ~precond_b,  precond_c], axis=0)\n",
    "    \n",
    "        \n",
    "    # get A, B, C \n",
    "    cells_a = np.intersect1d(cells_rna[cond_a], cells_atac)\n",
    "    cells_b = np.intersect1d(cells_rna[cond_b], cells_atac)\n",
    "    cells_c = np.intersect1d(cells_rna[cond_c], cells_atac)\n",
    "    \n",
    "    for j, cond_j in enumerate([cond_a, cond_b, cond_c]):\n",
    "        cells_j = np.intersect1d(cells_rna[cond_j], cells_atac)\n",
    "        mat_j = np.array(adata_pk[cells_j].X.todense()) \n",
    "        mat_j = mat_j/np.sum(mat_j, axis=1).reshape(-1,1)*1e6\n",
    "        mmat_j = np.log2(np.mean(mat_j, axis=0)+offset) - atac_l23baseline\n",
    "        bigmatatac_abc[i,j] = mmat_j\n",
    "        "
   ]
  },
  {
   "cell_type": "code",
   "execution_count": null,
   "id": "17dcdefd-69f0-4b6d-9107-7a9766b127d1",
   "metadata": {},
   "outputs": [],
   "source": [
    "print(bigmat_nfd.shape) # cond, type, gene\n",
    "print(bigmat_abc.shape) # cond, type, gene\n",
    "\n",
    "print(bigmatatac_nfd.shape) # cond, type, gene\n",
    "print(bigmatatac_abc.shape) # cond, type, gene"
   ]
  },
  {
   "cell_type": "markdown",
   "id": "c31c904f-b1df-4ee3-9667-4bdd98b631cb",
   "metadata": {
    "tags": []
   },
   "source": [
    "# profile regulons"
   ]
  },
  {
   "cell_type": "code",
   "execution_count": null,
   "id": "8b6aeb71-b0c3-4161-81d5-e80a1c0d7ee8",
   "metadata": {
    "tags": []
   },
   "outputs": [],
   "source": [
    "def prep_regulon(reg_tf, reg_name):\n",
    "    \"\"\"\n",
    "    reg_tf = 'Meis2'\n",
    "    reg_name = 'Meis2_+_+'\n",
    "    \"\"\"\n",
    "\n",
    "    df_this_reg = df_scenic[df_scenic['Consensus_name']==reg_name]\n",
    "    reg_genes = df_this_reg['Gene'].unique()\n",
    "    reg_regions = df_this_reg['Region'].unique()\n",
    "    print(reg_genes.shape, reg_regions.shape)\n",
    "\n",
    "    #\n",
    "    tf_idx   = basicu.get_index_from_array(genes, [reg_tf])[0]\n",
    "    gene_idx  = basicu.get_index_from_array(genes, reg_genes)\n",
    "    region_idx = basicu.get_index_from_array(regionset, reg_regions)\n",
    "    assert np.all(region_idx != -1)\n",
    "    assert np.all(gene_idx != -1)\n",
    "\n",
    "    ftrs_x = bigmat_abc[:,:,tf_idx]\n",
    "    ftrs_y = np.mean(bigmat_abc[:,:,gene_idx], axis=-1)\n",
    "    ftrs_z = np.mean(bigmatatac_abc[:,:,region_idx], axis=-1)\n",
    "    # print(ftrs_x.shape, ftrs_y.shape, ftrs_z.shape)\n",
    "\n",
    "    bigmat_abc_ig_list = [ftrs_x, ftrs_y, ftrs_z]\n",
    "    redmat_abc_ig_list = [mean_over_samples(x) for x in bigmat_abc_ig_list]\n",
    "\n",
    "    return reg_genes, reg_regions, bigmat_abc_ig_list, redmat_abc_ig_list\n",
    "\n",
    "\n",
    "class Regulon:\n",
    "    def __init__(self, reg_tf, reg_name):\n",
    "        reg_genes, reg_regions, bigmat_abc, redmat_abc = prep_regulon(reg_tf, reg_name)\n",
    "        \n",
    "        self.reg_tf      = reg_tf\n",
    "        self.reg_name    = reg_name\n",
    "        self.reg_genes   = reg_genes\n",
    "        self.reg_regions = reg_regions\n",
    "        \n",
    "        self.bigmat_abc = bigmat_abc\n",
    "        self.redmat_abc = redmat_abc\n",
    "        \n",
    "        return\n",
    "    \n",
    "    def plot(self, output=None):\n",
    "        \"\"\"\n",
    "        \"\"\"\n",
    "        \n",
    "        fig, axs = plt.subplots(1, 3, figsize=(3*3,1*4), sharex=True) #, sharey=True)\n",
    "        for i in range(3):\n",
    "            ax = axs[i]\n",
    "            bigmat_mean_ig = self.bigmat_abc[i]\n",
    "            redmat_mean_ig = self.redmat_abc[i]\n",
    "\n",
    "            ax.plot(todo_samps_t[8:], bigmat_mean_ig[8:,0], 'o', markersize=5, fillstyle='none', color='C0')\n",
    "            ax.plot(todo_samps_t[8:], bigmat_mean_ig[8:,1], 'o', markersize=5, fillstyle='none', color='C1')\n",
    "            ax.plot(todo_samps_t[8:], bigmat_mean_ig[8:,2], 'o', markersize=5, fillstyle='none', color='C2')\n",
    "\n",
    "            # ax.plot(todo_samps_t[:8], bigmat_mean_ig[:8,0], 's', markersize=5, fillstyle='none', color='C0', alpha=0.5)\n",
    "            # ax.plot(todo_samps_t[:8], bigmat_mean_ig[:8,1], 's', markersize=5, fillstyle='none', color='C1', alpha=0.5)\n",
    "            # ax.plot(todo_samps_t[:8], bigmat_mean_ig[:8,2], 's', markersize=5, fillstyle='none', color='C2', alpha=0.5)\n",
    "\n",
    "            ax.plot(todo_conds_t[4:], redmat_mean_ig[4:,0], '-', color='C0')\n",
    "            ax.plot(todo_conds_t[4:], redmat_mean_ig[4:,1], '-', color='C1')\n",
    "            ax.plot(todo_conds_t[4:], redmat_mean_ig[4:,2], '-', color='C2')\n",
    "\n",
    "            # ax.plot(todo_conds_t[:4], redmat_mean_ig[:4,0], '-', color='C0', alpha=0.5)\n",
    "            # ax.plot(todo_conds_t[:4], redmat_mean_ig[:4,1], '-', color='C1', alpha=0.5)\n",
    "            # ax.plot(todo_conds_t[:4], redmat_mean_ig[:4,2], '-', color='C2', alpha=0.5)\n",
    "\n",
    "            ax.grid(False)\n",
    "            sns.despine(ax=ax)\n",
    "            ax.set_xticks([6,10,14,17,21])\n",
    "            ax.set_xticklabels([\"P6\",\"10\",\"14\",\"17\",\"21\"])\n",
    "\n",
    "        # axs[0].set_xlabel('Postnatal day (P)')\n",
    "        axs[0].set_ylabel('log2(FC in CPM)')\n",
    "        axs[0].set_title(f'{self.reg_name}')\n",
    "        axs[1].set_title(f'Genes n={len(self.reg_genes)}')\n",
    "        axs[2].set_title(f'Regions n={len(self.reg_regions)}')\n",
    "        if output is not None:\n",
    "            powerplots.savefig_autodate(fig, output)\n",
    "        fig.tight_layout()\n",
    "        plt.show()\n",
    "        \n",
    "        return\n",
    "    "
   ]
  },
  {
   "cell_type": "code",
   "execution_count": null,
   "id": "48c46669-2e3d-4522-96f2-cde256aada34",
   "metadata": {
    "tags": []
   },
   "outputs": [],
   "source": [
    "all_regulons = df_reg.reset_index()['Consensus_name'].values\n",
    "cond_pp = np.array([x[-3:]=='+_+' for x in all_regulons])\n",
    "cond_mp = np.array([x[-3:]=='-_+' for x in all_regulons])\n",
    "cond_pm = np.array([x[-3:]=='+_-' for x in all_regulons])\n",
    "cond_mm = np.array([x[-3:]=='-_-' for x in all_regulons])\n",
    "\n",
    "print(all_regulons.shape)\n",
    "print(cond_pp.sum(), \n",
    "      cond_mp.sum(),\n",
    "      cond_pm.sum(),\n",
    "      cond_mm.sum(),\n",
    "     )"
   ]
  },
  {
   "cell_type": "code",
   "execution_count": null,
   "id": "a0ee15a0-4d8f-4089-b874-aa9a345adf12",
   "metadata": {
    "tags": []
   },
   "outputs": [],
   "source": [
    "for reg_name in all_regulons[:4]:\n",
    "    tf = reg_name.split('_')[0]\n",
    "    reg = Regulon(tf, reg_name)\n",
    "    reg.plot()\n",
    "    break"
   ]
  },
  {
   "cell_type": "markdown",
   "id": "f917ebd9-3830-4638-8bad-fcc8da09e975",
   "metadata": {},
   "source": [
    "# single cell regulons"
   ]
  },
  {
   "cell_type": "code",
   "execution_count": null,
   "id": "023272e9-8c9f-48be-9b2a-27988c85e72d",
   "metadata": {
    "tags": []
   },
   "outputs": [],
   "source": [
    "selected_regulons = all_regulons[cond_pp]\n",
    "n = len(selected_regulons)\n",
    "nx = 12\n",
    "ny = int((n+nx-1)/nx)\n",
    "\n",
    "fig, axs = plt.subplots(ny,nx,figsize=(nx*3.5,ny*3.5))\n",
    "for i, (ax, reg_name) in enumerate(zip(axs.flat, selected_regulons)):\n",
    "    tf = reg_name[:-4]\n",
    "\n",
    "    df_this_reg = df_scenic[df_scenic['Consensus_name']==reg_name]\n",
    "    reg_genes = df_this_reg['Gene'].unique()\n",
    "    reg_regions = df_this_reg['Region'].unique()\n",
    "\n",
    "    tf_idx = basicu.get_index_from_array(genes, [tf])[0]\n",
    "    reg_genes_idx = basicu.get_index_from_array(genes, reg_genes)\n",
    "    \n",
    "    x = bigmat_nfd[:,:,tf_idx].reshape(-1,)\n",
    "    xb = np.linspace(np.min(x), np.max(x), 50)\n",
    "    y = np.mean(bigmat_nfd[:,:,reg_genes_idx], axis=2).reshape(-1,)\n",
    "    \n",
    "    slope = np.polyfit(x, y, deg=1)[0]\n",
    "    f1 = np.poly1d(np.polyfit(x, y, deg=1))\n",
    "    f2 = np.poly1d(np.polyfit(x, y, deg=2))\n",
    "    f3 = np.poly1d(np.polyfit(x, y, deg=3))\n",
    "    \n",
    "    ax.scatter(x,y, color='gray', s=10)\n",
    "    ax.plot(xb,f1(xb), linewidth=1.5, zorder=0)\n",
    "    ax.plot(xb,f2(xb), linewidth=1.5, zorder=0)\n",
    "    ax.plot(xb,f3(xb), linewidth=1.5, zorder=0)\n",
    "    sns.despine(ax=ax)\n",
    "    \n",
    "    ax.set_title(f'{reg_name}\\n slope={slope:.2f}')\n",
    "# axs.flat[0].set_xlabel('TF log2')\n",
    "# axs.flat[0].set_ylabel('Target gene log2')\n",
    "fig.tight_layout()\n",
    "plt.show()"
   ]
  },
  {
   "cell_type": "code",
   "execution_count": null,
   "id": "f7f2922c-0b3c-4438-bfbb-36f813b3725c",
   "metadata": {
    "tags": []
   },
   "outputs": [],
   "source": [
    "selected_regulons = all_regulons[cond_pm]\n",
    "n = len(selected_regulons)\n",
    "nx = 12\n",
    "ny = int((n+nx-1)/nx)\n",
    "\n",
    "fig, axs = plt.subplots(ny,nx,figsize=(nx*3.5,ny*3.5))\n",
    "for i, (ax, reg_name) in enumerate(zip(axs.flat, selected_regulons)):\n",
    "    tf = reg_name[:-4]\n",
    "\n",
    "    df_this_reg = df_scenic[df_scenic['Consensus_name']==reg_name]\n",
    "    reg_genes = df_this_reg['Gene'].unique()\n",
    "    reg_regions = df_this_reg['Region'].unique()\n",
    "\n",
    "    tf_idx = basicu.get_index_from_array(genes, [tf])[0]\n",
    "    reg_genes_idx = basicu.get_index_from_array(genes, reg_genes)\n",
    "    \n",
    "    x = bigmat_nfd[:,:,tf_idx].reshape(-1,)\n",
    "    xb = np.linspace(np.min(x), np.max(x), 50)\n",
    "    y = np.mean(bigmat_nfd[:,:,reg_genes_idx], axis=2).reshape(-1,)\n",
    "    \n",
    "    slope = np.polyfit(x, y, deg=1)[0]\n",
    "    f1 = np.poly1d(np.polyfit(x, y, deg=1))\n",
    "    f2 = np.poly1d(np.polyfit(x, y, deg=2))\n",
    "    f3 = np.poly1d(np.polyfit(x, y, deg=3))\n",
    "    \n",
    "    ax.scatter(x,y, color='gray', s=10)\n",
    "    ax.plot(xb,f1(xb), linewidth=1.5, zorder=0)\n",
    "    ax.plot(xb,f2(xb), linewidth=1.5, zorder=0)\n",
    "    ax.plot(xb,f3(xb), linewidth=1.5, zorder=0)\n",
    "    sns.despine(ax=ax)\n",
    "    \n",
    "    ax.set_title(f'{reg_name}\\n slope={slope:.2f}')\n",
    "# axs.flat[0].set_xlabel('TF log2')\n",
    "# axs.flat[0].set_ylabel('Target gene log2')\n",
    "fig.tight_layout()\n",
    "plt.show()"
   ]
  },
  {
   "cell_type": "code",
   "execution_count": null,
   "id": "c2a18c51-7edc-46ec-aea5-894223d01d43",
   "metadata": {
    "tags": []
   },
   "outputs": [],
   "source": [
    "selected_regulons = all_regulons[cond_mp]\n",
    "n = len(selected_regulons)\n",
    "nx = 12\n",
    "ny = int((n+nx-1)/nx)\n",
    "\n",
    "fig, axs = plt.subplots(ny,nx,figsize=(nx*3.5,ny*3.5))\n",
    "for i, (ax, reg_name) in enumerate(zip(axs.flat, selected_regulons)):\n",
    "    tf = reg_name[:-4]\n",
    "\n",
    "    df_this_reg = df_scenic[df_scenic['Consensus_name']==reg_name]\n",
    "    reg_genes = df_this_reg['Gene'].unique()\n",
    "    reg_regions = df_this_reg['Region'].unique()\n",
    "\n",
    "    tf_idx = basicu.get_index_from_array(genes, [tf])[0]\n",
    "    reg_genes_idx = basicu.get_index_from_array(genes, reg_genes)\n",
    "    \n",
    "    x = bigmat_nfd[:,:,tf_idx].reshape(-1,)\n",
    "    xb = np.linspace(np.min(x), np.max(x), 50)\n",
    "    y = np.mean(bigmat_nfd[:,:,reg_genes_idx], axis=2).reshape(-1,)\n",
    "    \n",
    "    slope = np.polyfit(x, y, deg=1)[0]\n",
    "    f1 = np.poly1d(np.polyfit(x, y, deg=1))\n",
    "    f2 = np.poly1d(np.polyfit(x, y, deg=2))\n",
    "    f3 = np.poly1d(np.polyfit(x, y, deg=3))\n",
    "    \n",
    "    ax.scatter(x,y, color='gray', s=10)\n",
    "    ax.plot(xb,f1(xb), linewidth=1.5, zorder=0)\n",
    "    ax.plot(xb,f2(xb), linewidth=1.5, zorder=0)\n",
    "    ax.plot(xb,f3(xb), linewidth=1.5, zorder=0)\n",
    "    sns.despine(ax=ax)\n",
    "    \n",
    "    ax.set_title(f'{reg_name}\\n slope={slope:.2f}')\n",
    "# axs.flat[0].set_xlabel('TF log2')\n",
    "# axs.flat[0].set_ylabel('Target gene log2')\n",
    "fig.tight_layout()\n",
    "plt.show()"
   ]
  },
  {
   "cell_type": "code",
   "execution_count": null,
   "id": "72b1fb55-7679-4bc6-a097-150a3bfa0344",
   "metadata": {
    "tags": []
   },
   "outputs": [],
   "source": [
    "selected_regulons = all_regulons[cond_mm]\n",
    "n = len(selected_regulons)\n",
    "nx = 12\n",
    "ny = int((n+nx-1)/nx)\n",
    "\n",
    "fig, axs = plt.subplots(ny,nx,figsize=(nx*3.5,ny*3.5))\n",
    "for i, (ax, reg_name) in enumerate(zip(axs.flat, selected_regulons)):\n",
    "    tf = reg_name[:-4]\n",
    "\n",
    "    df_this_reg = df_scenic[df_scenic['Consensus_name']==reg_name]\n",
    "    reg_genes = df_this_reg['Gene'].unique()\n",
    "    reg_regions = df_this_reg['Region'].unique()\n",
    "\n",
    "    tf_idx = basicu.get_index_from_array(genes, [tf])[0]\n",
    "    reg_genes_idx = basicu.get_index_from_array(genes, reg_genes)\n",
    "    \n",
    "    x = bigmat_nfd[:,:,tf_idx].reshape(-1,)\n",
    "    xb = np.linspace(np.min(x), np.max(x), 50)\n",
    "    y = np.mean(bigmat_nfd[:,:,reg_genes_idx], axis=2).reshape(-1,)\n",
    "    \n",
    "    slope = np.polyfit(x, y, deg=1)[0]\n",
    "    f1 = np.poly1d(np.polyfit(x, y, deg=1))\n",
    "    f2 = np.poly1d(np.polyfit(x, y, deg=2))\n",
    "    f3 = np.poly1d(np.polyfit(x, y, deg=3))\n",
    "    \n",
    "    ax.scatter(x,y, color='gray', s=10)\n",
    "    ax.plot(xb,f1(xb), linewidth=1.5, zorder=0)\n",
    "    ax.plot(xb,f2(xb), linewidth=1.5, zorder=0)\n",
    "    ax.plot(xb,f3(xb), linewidth=1.5, zorder=0)\n",
    "    sns.despine(ax=ax)\n",
    "    \n",
    "    ax.set_title(f'{reg_name}\\n slope={slope:.2f}')\n",
    "# axs.flat[0].set_xlabel('TF log2')\n",
    "# axs.flat[0].set_ylabel('Target gene log2')\n",
    "fig.tight_layout()\n",
    "plt.show()"
   ]
  },
  {
   "cell_type": "code",
   "execution_count": null,
   "id": "e74a5e3e-6367-41ce-ab44-28c773a10d76",
   "metadata": {
    "tags": []
   },
   "outputs": [],
   "source": [
    "reg_name = 'Fos_+_+'\n",
    "tf = reg_name[:-4]\n",
    "\n",
    "df_this_reg = df_scenic[df_scenic['Consensus_name']==reg_name]\n",
    "reg_genes = df_this_reg['Gene'].unique()\n",
    "reg_regions = df_this_reg['Region'].unique()\n",
    "\n",
    "tf_idx = basicu.get_index_from_array(genes, [tf])[0]\n",
    "reg_genes_idx = basicu.get_index_from_array(genes, reg_genes)\n",
    "\n",
    "n = len(reg_genes)\n",
    "nx = 12\n",
    "ny = int((n+nx-1)/nx)\n",
    "\n",
    "x = bigmat_nfd[:,:,tf_idx].reshape(-1,)\n",
    "xb = np.linspace(np.min(x), np.max(x), 50)\n",
    "\n",
    "fig, axs = plt.subplots(ny,nx,figsize=(nx*3.5,ny*3.5))\n",
    "for i, (ax, rgi) in enumerate(zip(axs.flat, reg_genes_idx)):\n",
    "    \n",
    "    y = bigmat_nfd[:,:,rgi].reshape(-1,)\n",
    "    \n",
    "    slope = np.polyfit(x, y, deg=1)[0]\n",
    "    f1 = np.poly1d(np.polyfit(x, y, deg=1))\n",
    "    f2 = np.poly1d(np.polyfit(x, y, deg=2))\n",
    "    f3 = np.poly1d(np.polyfit(x, y, deg=3))\n",
    "    \n",
    "    ax.scatter(x,y, color='gray', s=10)\n",
    "    ax.plot(xb,f1(xb), linewidth=1.5, zorder=0)\n",
    "    ax.plot(xb,f2(xb), linewidth=1.5, zorder=0)\n",
    "    ax.plot(xb,f3(xb), linewidth=1.5, zorder=0)\n",
    "    sns.despine(ax=ax)\n",
    "    \n",
    "    ax.set_title(f'{tf}->{genes[rgi]}\\n slope={slope:.2f}')\n",
    "    \n",
    "# axs.flat[0].set_xlabel('TF log2')\n",
    "# axs.flat[0].set_ylabel('Target gene log2')\n",
    "fig.tight_layout()\n",
    "plt.show()"
   ]
  },
  {
   "cell_type": "code",
   "execution_count": null,
   "id": "244d9068-727a-4b69-82c6-9c115af51513",
   "metadata": {},
   "outputs": [],
   "source": []
  }
 ],
 "metadata": {
  "kernelspec": {
   "display_name": "Python 3 (ipykernel)",
   "language": "python",
   "name": "python3"
  },
  "language_info": {
   "codemirror_mode": {
    "name": "ipython",
    "version": 3
   },
   "file_extension": ".py",
   "mimetype": "text/x-python",
   "name": "python",
   "nbconvert_exporter": "python",
   "pygments_lexer": "ipython3",
   "version": "3.9.16"
  }
 },
 "nbformat": 4,
 "nbformat_minor": 5
}
