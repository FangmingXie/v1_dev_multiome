{
 "cells": [
  {
   "cell_type": "code",
   "execution_count": null,
   "id": "bb214b6d-836a-49b8-93dd-a19f021215b7",
   "metadata": {
    "tags": []
   },
   "outputs": [],
   "source": [
    "import os\n",
    "import numpy as np\n",
    "import pandas as pd\n",
    "import scanpy as sc\n",
    "import anndata \n",
    "import seaborn as sns\n",
    "from scipy.stats import zscore\n",
    "import matplotlib.pyplot as plt\n",
    "import collections\n",
    "from natsort import natsorted\n",
    "\n",
    "from scipy import stats\n",
    "from scipy import sparse\n",
    "from sklearn.decomposition import PCA\n",
    "from umap import UMAP\n",
    "\n",
    "from matplotlib.colors import LinearSegmentedColormap\n",
    "\n",
    "from scroutines.config_plots import *\n",
    "from scroutines import powerplots # .config_plots import *\n",
    "from scroutines import pnmf\n",
    "from scroutines import basicu\n",
    "from scroutines.gene_modules import GeneModules  \n",
    "\n",
    "from atac_utils import merge_peaks"
   ]
  },
  {
   "cell_type": "code",
   "execution_count": null,
   "id": "f45abc88-0cbc-4575-8035-9cb157c42bc2",
   "metadata": {},
   "outputs": [],
   "source": [
    "outdir_fig = \"/u/home/f/f7xiesnm/project-zipursky/v1-bb/v1/figures\""
   ]
  },
  {
   "cell_type": "code",
   "execution_count": null,
   "id": "26a5bc26-dbe1-4418-bfa1-4f1a711aa587",
   "metadata": {
    "tags": []
   },
   "outputs": [],
   "source": [
    "cond_order_dict = {\n",
    "    'P6':  0,\n",
    "    'P8':  1,\n",
    "    'P10': 2,\n",
    "    'P12': 3,\n",
    "    'P14': 4,\n",
    "    'P17': 5,\n",
    "    'P21': 6,\n",
    "}\n",
    "unq_conds = np.array(list(cond_order_dict.keys()))\n",
    "unq_conds"
   ]
  },
  {
   "cell_type": "markdown",
   "id": "3d18e32a-6e1b-4976-bb8a-6a886a45e8fa",
   "metadata": {},
   "source": [
    "# gene annotation"
   ]
  },
  {
   "cell_type": "code",
   "execution_count": null,
   "id": "c72f470d-c243-419e-ac78-b75086cbe933",
   "metadata": {
    "tags": []
   },
   "outputs": [],
   "source": [
    "f = '/u/home/f/f7xiesnm/project-zipursky/v1-bb/v1/results_atac/gencode.vM25.TSS.bed'\n",
    "dfg = pd.read_csv(f, sep='\\t', header=None)\n",
    "dfg = dfg.set_index(3)\n",
    "dfg"
   ]
  },
  {
   "cell_type": "markdown",
   "id": "49cdca87-443f-4875-9605-43debef75cd0",
   "metadata": {},
   "source": [
    "# DEGs"
   ]
  },
  {
   "cell_type": "code",
   "execution_count": null,
   "id": "cd79536f-7b0a-4cf4-a7b9-a4cbbf6ec097",
   "metadata": {
    "tags": []
   },
   "outputs": [],
   "source": [
    "# %%time\n",
    "\n",
    "def rename_genes(g):\n",
    "    \"\"\"\n",
    "    \"\"\"\n",
    "    if g == \"March1\":\n",
    "        return \"Marchf1\"\n",
    "    else:\n",
    "        return g\n",
    "\n",
    "adata_rna = anndata.read(\"../../data/v1_multiome/L23_allmultiome_proc_P6toP21.h5ad\", backed='r')\n",
    "genes = adata_rna.var.index.values\n",
    "genes = np.array([rename_genes(g) for g in genes]) \n",
    "adata_rna"
   ]
  },
  {
   "cell_type": "code",
   "execution_count": null,
   "id": "64f3c76d-1535-469c-aa82-5bda9676a2f8",
   "metadata": {
    "tags": []
   },
   "outputs": [],
   "source": [
    "# %%time\n",
    "f1 = '/u/home/f/f7xiesnm/project-zipursky/v1-bb/v1/data/v1_multiome/rna_qs_avc_p6to21.txt'\n",
    "f2 = '/u/home/f/f7xiesnm/project-zipursky/v1-bb/v1/data/v1_multiome/rna_l2fc_avc_p6to21.txt'\n",
    "\n",
    "rna_qs_avc = np.loadtxt(f1)\n",
    "rna_l2fc_avc = np.loadtxt(f2)\n",
    "rna_qs_avc.shape, rna_l2fc_avc.shape"
   ]
  },
  {
   "cell_type": "code",
   "execution_count": null,
   "id": "6c997c68-2ade-4d6c-a8f9-21e9ca0ccd36",
   "metadata": {
    "tags": []
   },
   "outputs": [],
   "source": [
    "# get avsc genes\n",
    "degs_a = []\n",
    "degs_c = []\n",
    "for i, t in enumerate(unq_conds):\n",
    "    cond_a = np.logical_and(rna_qs_avc[i]<0.05, rna_l2fc_avc[i] < -1)\n",
    "    cond_c = np.logical_and(rna_qs_avc[i]<0.05, rna_l2fc_avc[i] >  1)\n",
    "    \n",
    "    deg_a = np.sort(genes[cond_a])\n",
    "    deg_c = np.sort(genes[cond_c])\n",
    "    \n",
    "    df_a = dfg.loc[deg_a].reset_index()\n",
    "    df_a[4] = f\"{t}_A\"\n",
    "    df_a = df_a[[0,1,2,3,4]]\n",
    "    \n",
    "    df_c = dfg.loc[deg_c].reset_index()\n",
    "    df_c[4] = f\"{t}_C\"\n",
    "    df_c = df_c[[0,1,2,3,4]]\n",
    "    \n",
    "    degs_a.append(df_a)\n",
    "    degs_c.append(df_c)\n",
    "    "
   ]
  },
  {
   "cell_type": "code",
   "execution_count": null,
   "id": "2a871ffa-9a1e-4e28-bc4e-bf5525e75e8e",
   "metadata": {
    "tags": []
   },
   "outputs": [],
   "source": [
    "df_agenes = pd.concat(degs_a).groupby(3).agg({4: ', '.join, \n",
    "                                  0: 'first',\n",
    "                                  1: 'first',\n",
    "                                  2: 'first',\n",
    "                                 }).reset_index()\n",
    "df_agenes['chrom_order'] = pd.Categorical(df_agenes[0], categories=natsorted(df_agenes[0].unique()), ordered=True)\n",
    "df_agenes = df_agenes.sort_values(['chrom_order',1,2])[[0,1,2,3,4]]\n",
    "df_agenes"
   ]
  },
  {
   "cell_type": "code",
   "execution_count": null,
   "id": "e40f49f3-0358-4069-afc9-cc4bb89aaa09",
   "metadata": {
    "tags": []
   },
   "outputs": [],
   "source": [
    "df_agenes[0].unique()"
   ]
  },
  {
   "cell_type": "code",
   "execution_count": null,
   "id": "aee4dfab-389f-4af9-a90a-c438bd3f467b",
   "metadata": {
    "tags": []
   },
   "outputs": [],
   "source": [
    "df_cgenes = pd.concat(degs_c).groupby(3).agg({4: ', '.join, \n",
    "                                  0: 'first',\n",
    "                                  1: 'first',\n",
    "                                  2: 'first',\n",
    "                                 }).reset_index()\n",
    "df_cgenes['chrom_order'] = pd.Categorical(df_cgenes[0], categories=natsorted(df_cgenes[0].unique()), ordered=True)\n",
    "df_cgenes = df_cgenes.sort_values(['chrom_order',1,2])[[0,1,2,3,4]]"
   ]
  },
  {
   "cell_type": "code",
   "execution_count": null,
   "id": "f0b8aff5-be50-4b16-b95d-01396e12aa0a",
   "metadata": {
    "tags": []
   },
   "outputs": [],
   "source": [
    "df_cgenes[0].unique()"
   ]
  },
  {
   "cell_type": "code",
   "execution_count": null,
   "id": "f331043d-3152-4d6c-8f17-a841b288be01",
   "metadata": {
    "tags": []
   },
   "outputs": [],
   "source": [
    "df_ac_genes = pd.concat(degs_a+degs_c).groupby(3).agg({4: ', '.join, \n",
    "                                  0: 'first',\n",
    "                                  1: 'first',\n",
    "                                  2: 'first',\n",
    "                                 }).reset_index()\n",
    "df_ac_genes['chrom_order'] = pd.Categorical(df_ac_genes[0], categories=natsorted(df_ac_genes[0].unique()), ordered=True)\n",
    "df_ac_genes = df_ac_genes.sort_values(['chrom_order',1,2])[[0,1,2,3,4]]"
   ]
  },
  {
   "cell_type": "code",
   "execution_count": null,
   "id": "741fec37-49de-493e-98bf-4e3491a6d2c8",
   "metadata": {
    "tags": []
   },
   "outputs": [],
   "source": [
    "df_ac_genes[0].unique()"
   ]
  },
  {
   "cell_type": "code",
   "execution_count": null,
   "id": "55a26f57-804f-443b-9baa-bfe61d358938",
   "metadata": {
    "tags": []
   },
   "outputs": [],
   "source": [
    "len(df_ac_genes), len(df_agenes), len(df_cgenes)"
   ]
  },
  {
   "cell_type": "code",
   "execution_count": null,
   "id": "ebf3991d-47b9-4a5c-8d7b-a2e708ebb0c7",
   "metadata": {
    "tags": []
   },
   "outputs": [],
   "source": [
    "f = \"/u/home/f/f7xiesnm/project-zipursky/v1-bb/v1/results_atac/all_a_genes_unique.bed\"\n",
    "df_agenes.to_csv(f, sep='\\t', header=False, index=False)\n",
    "f = \"/u/home/f/f7xiesnm/project-zipursky/v1-bb/v1/results_atac/all_c_genes_unique.bed\"\n",
    "df_cgenes.to_csv(f, sep='\\t', header=False, index=False)\n",
    "f = \"/u/home/f/f7xiesnm/project-zipursky/v1-bb/v1/results_atac/all_ac_genes_unique.bed\"\n",
    "df_ac_genes.to_csv(f, sep='\\t', header=False, index=False)"
   ]
  },
  {
   "cell_type": "markdown",
   "id": "ae2cd79d-3c29-4834-860e-d0d32e96d702",
   "metadata": {},
   "source": [
    "# associate the two using distance "
   ]
  },
  {
   "cell_type": "code",
   "execution_count": null,
   "id": "a6100574-c2ac-4ee3-8940-013aab9d6a04",
   "metadata": {
    "tags": []
   },
   "outputs": [],
   "source": [
    "import subprocess\n",
    "\n",
    "wkdir = \"/u/home/f/f7xiesnm/project-zipursky/v1-bb/v1/results_atac/\" \n",
    "f_g = \"all_ac_genes_unique.bed\"\n",
    "f_p = \"all_AvsC_peaks_unique.bed\"\n",
    "f_out = wkdir+\"all_ac_peaks_to_ac_genes.bed\"\n",
    "\n",
    "cmd = ['bedtools', 'closest', '-d', '-a', f_p, '-b', f_g]\n",
    "with open(f_out, 'w') as fh:\n",
    "    subprocess.run(cmd, cwd=wkdir, stdout=fh)"
   ]
  },
  {
   "cell_type": "markdown",
   "id": "fb135e09-a59c-41ec-ac4f-b4768f828024",
   "metadata": {},
   "source": [
    "# check resulting distance"
   ]
  },
  {
   "cell_type": "code",
   "execution_count": null,
   "id": "e6a72642-35d4-407d-acc4-605d0a20da34",
   "metadata": {
    "tags": []
   },
   "outputs": [],
   "source": [
    "df_res = pd.read_csv(f_out, sep='\\t', header=None)\n",
    "df_res"
   ]
  },
  {
   "cell_type": "code",
   "execution_count": null,
   "id": "026f8bce-5239-4888-a049-058b7bc7acd6",
   "metadata": {
    "tags": []
   },
   "outputs": [],
   "source": [
    "sns.histplot(np.log10(1+df_res[9]))"
   ]
  },
  {
   "cell_type": "code",
   "execution_count": null,
   "id": "4c3ba0a9-911d-42d8-bdb0-bda42d4b85ed",
   "metadata": {
    "tags": []
   },
   "outputs": [],
   "source": [
    "df_res2 = df_res[df_res[9]<1e6].copy()\n",
    "df_res2"
   ]
  },
  {
   "cell_type": "code",
   "execution_count": null,
   "id": "51d02f0b-f6d4-4c7e-91e1-a66296328f1c",
   "metadata": {
    "tags": []
   },
   "outputs": [],
   "source": [
    "df_res2.groupby(7).size().sort_values(ascending=False).head(20)"
   ]
  },
  {
   "cell_type": "markdown",
   "id": "e64a9a08-3328-4dac-802e-90ba2c54b557",
   "metadata": {},
   "source": [
    "# present it\n",
    "- peaks and genes - over time and type\n",
    "\n",
    "show these matrices side-by-side\n",
    "- gene by (type & time) (zscore)\n",
    "- peak (average over the same gene) by (tye & time) (zscore)"
   ]
  },
  {
   "cell_type": "code",
   "execution_count": null,
   "id": "33ec9952-5459-4b09-a814-cb3b46a58643",
   "metadata": {
    "tags": []
   },
   "outputs": [],
   "source": [
    "f = '/u/home/f/f7xiesnm/project-zipursky/v1-bb/v1/results_atac/all_AvsC_peak_tensor.npy'\n",
    "tensor_peak = np.load(f)\n",
    "tensor_peak.shape"
   ]
  },
  {
   "cell_type": "code",
   "execution_count": null,
   "id": "3a73f978-2208-4dcd-9c07-513d55b6e7d9",
   "metadata": {
    "tags": []
   },
   "outputs": [],
   "source": [
    "cond_peak = (df_res[9]<1e6).values\n",
    "tensor_peak_g = tensor_peak[:,:,:,cond_peak]\n",
    "tensor_peak_g.shape"
   ]
  },
  {
   "cell_type": "code",
   "execution_count": null,
   "id": "ea0e4cc4-efc5-4074-9c74-bb6380898399",
   "metadata": {
    "tags": []
   },
   "outputs": [],
   "source": [
    "f = '/u/home/f/f7xiesnm/project-zipursky/v1-bb/v1/results_atac/all_ac_genes_tensor.npy'\n",
    "tensor_rna = np.load(f)\n",
    "tensor_rna.shape"
   ]
  },
  {
   "cell_type": "code",
   "execution_count": null,
   "id": "555547d3-9124-41ec-977b-835d2520a4d3",
   "metadata": {
    "tags": []
   },
   "outputs": [],
   "source": [
    "f = '/u/home/f/f7xiesnm/project-zipursky/v1-bb/v1/results_atac/all_ac_genes_unique.bed'\n",
    "df_genes_ordered = pd.read_csv(f, sep='\\t', header=None)\n",
    "genes_order = df_genes_ordered[3].values\n",
    "df_genes_ordered"
   ]
  },
  {
   "cell_type": "code",
   "execution_count": null,
   "id": "4e1f8fc3-a004-43f1-a5b1-47070483c702",
   "metadata": {
    "tags": []
   },
   "outputs": [],
   "source": [
    "A = tensor_rna.copy()\n",
    "A = 1.0/2*(A[:,:,0,:]+A[:,:,1,:])\n",
    "A = (A.reshape(-1, A.shape[-1]))\n",
    "A = (A-np.mean(A, axis=0))/np.std(A, axis=0)\n",
    "A = A.T\n",
    "A.shape"
   ]
  },
  {
   "cell_type": "code",
   "execution_count": null,
   "id": "3a7ba909-884c-4476-b55f-171dcfc1556a",
   "metadata": {
    "tags": []
   },
   "outputs": [],
   "source": [
    "sns.clustermap(A, col_cluster=False, cmap='coolwarm')"
   ]
  },
  {
   "cell_type": "code",
   "execution_count": null,
   "id": "a6164e3e-d572-4d46-89d5-9df0caafd8cb",
   "metadata": {
    "tags": []
   },
   "outputs": [],
   "source": [
    "# get a gene by peak association matrix \n",
    "n_peaks = len(df_res2)\n",
    "n_genes = len(genes_order)\n",
    "closest_gene_to_peaks = df_res2[7].values\n",
    "\n",
    "peak_idx = np.arange(n_peaks)\n",
    "gene_idx = basicu.get_index_from_array(genes_order, closest_gene_to_peaks)\n",
    "print(peak_idx, peak_idx.shape)\n",
    "print(gene_idx, gene_idx.shape)\n",
    "I_pg = np.array(sparse.coo_matrix(([1]*n_peaks, (peak_idx, gene_idx)), shape=(n_peaks, n_genes)).todense())\n",
    "I_pg = (I_pg)/(I_pg.sum(axis=0)+1e-10)\n",
    "I_pg.shape"
   ]
  },
  {
   "cell_type": "code",
   "execution_count": null,
   "id": "2bdd6b30-769c-4941-8064-21e135d8c8ee",
   "metadata": {},
   "outputs": [],
   "source": [
    "B = tensor_peak_g.copy()\n",
    "B = 1.0/2*(B[:,:,0,:]+B[:,:,1,:])\n",
    "B = (B.reshape(-1, B.shape[-1]))\n",
    "B = (B-np.mean(B, axis=0))/np.std(B, axis=0)\n",
    "B = (B.dot(I_pg)).T\n",
    "B.shape"
   ]
  },
  {
   "cell_type": "code",
   "execution_count": null,
   "id": "a9a4f1d1-4c1f-4489-a9e7-269a1df88007",
   "metadata": {
    "tags": []
   },
   "outputs": [],
   "source": [
    "sns.clustermap(B, col_cluster=False, cmap='coolwarm', vmin=-2, vmax=2)"
   ]
  },
  {
   "cell_type": "markdown",
   "id": "368450a1-35dd-4b19-acbc-8c42967c1b1d",
   "metadata": {},
   "source": [
    "# same order"
   ]
  },
  {
   "cell_type": "code",
   "execution_count": null,
   "id": "9005746b-4b9c-417b-bde8-896bf1e88027",
   "metadata": {},
   "outputs": [],
   "source": [
    "from scipy.cluster.hierarchy import linkage, dendrogram"
   ]
  },
  {
   "cell_type": "code",
   "execution_count": null,
   "id": "081941e8-8038-4143-b78b-0d3e93513171",
   "metadata": {
    "tags": []
   },
   "outputs": [],
   "source": [
    "fig, axs = plt.subplots(1,2,figsize=(2*8,1*6))\n",
    "ax = axs[0]\n",
    "Z = linkage(A, method='ward')#, metric='correlation')\n",
    "leaves = dendrogram(Z, no_plot=True)['leaves']\n",
    "sns.heatmap(A[leaves], cmap='coolwarm', vmax=3, vmin=-3, ax=ax)\n",
    "\n",
    "ax = axs[1]\n",
    "Z = linkage(B, method='ward')#, metric='correlation')\n",
    "leaves = dendrogram(Z, no_plot=True)['leaves']\n",
    "sns.heatmap(B[leaves], cmap='coolwarm', vmax=2, vmin=-2, ax=ax)\n",
    "plt.show()"
   ]
  },
  {
   "cell_type": "code",
   "execution_count": null,
   "id": "6af9fd87-5c8e-4333-a6c9-f6a23ceed0d2",
   "metadata": {
    "tags": []
   },
   "outputs": [],
   "source": [
    "Z = linkage(A, method='ward')#, metric='correlation')\n",
    "leaves = dendrogram(Z, no_plot=True)['leaves']\n",
    "\n",
    "fig, axs = plt.subplots(1,2,figsize=(2*8,1*6))\n",
    "ax = axs[0]\n",
    "sns.heatmap(A[leaves], cmap='coolwarm', vmax=3, vmin=-3, ax=ax)\n",
    "\n",
    "ax = axs[1]\n",
    "sns.heatmap(B[leaves], cmap='coolwarm', vmax=2, vmin=-2, ax=ax)\n",
    "plt.show()"
   ]
  }
 ],
 "metadata": {
  "kernelspec": {
   "display_name": "Python 3 (ipykernel)",
   "language": "python",
   "name": "python3"
  },
  "language_info": {
   "codemirror_mode": {
    "name": "ipython",
    "version": 3
   },
   "file_extension": ".py",
   "mimetype": "text/x-python",
   "name": "python",
   "nbconvert_exporter": "python",
   "pygments_lexer": "ipython3",
   "version": "3.9.16"
  }
 },
 "nbformat": 4,
 "nbformat_minor": 5
}
