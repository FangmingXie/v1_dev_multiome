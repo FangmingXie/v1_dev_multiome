{
 "cells": [
  {
   "cell_type": "code",
   "execution_count": null,
   "id": "2c1e5769-d023-451b-9fbc-e5ff9ae2b2d2",
   "metadata": {
    "tags": []
   },
   "outputs": [],
   "source": [
    "import snapatac2 as snap\n",
    "import anndata as sc"
   ]
  },
  {
   "cell_type": "code",
   "execution_count": null,
   "id": "cbf5099f-53b3-4655-bbd2-c17776a3fddd",
   "metadata": {
    "tags": []
   },
   "outputs": [],
   "source": [
    "snap.__version__"
   ]
  },
  {
   "cell_type": "code",
   "execution_count": null,
   "id": "9e06702f-ceeb-49aa-aa12-86d137bd4503",
   "metadata": {
    "tags": []
   },
   "outputs": [],
   "source": [
    "ddir = '/u/home/f/f7xiesnm/project-zipursky/v1-bb/v1/data/v1_multiome/atac_fragments'\n",
    "peak_file = '/u/home/f/f7xiesnm/project-zipursky/v1-bb/v1/results_atac/all_l23_peaks_sal.bed'\n",
    "\n",
    "samples = ['P21b', 'P21DRa', 'P21DRb']"
   ]
  },
  {
   "cell_type": "code",
   "execution_count": null,
   "id": "51261a8d-4ff3-4c20-af0a-d8a112de26e5",
   "metadata": {
    "tags": []
   },
   "outputs": [],
   "source": [
    "%%time\n",
    "\n",
    "for sample in samples:\n",
    "    fragment_file        = ddir+f'/{sample}/atac_fragments.tsv.gz'\n",
    "    output_file          = ddir+f'/ATAC_{sample}.h5ad'\n",
    "    output_peak_mat_file = ddir+f'/ATAC_peak_mat_{sample}.h5ad'\n",
    "    \n",
    "    data = snap.pp.import_data(\n",
    "        fragment_file,\n",
    "        chrom_sizes=snap.genome.mm10,\n",
    "        sorted_by_barcode=False,\n",
    "        file=output_file,  # Optional\n",
    "    )\n",
    "    peak_mat = snap.pp.make_peak_matrix(data, peak_file=peak_file, file=output_peak_mat_file)\n",
    "    print(peak_mat)"
   ]
  },
  {
   "cell_type": "code",
   "execution_count": null,
   "id": "c58f1796-c8df-4ae6-81fc-cd57db84828e",
   "metadata": {},
   "outputs": [],
   "source": []
  }
 ],
 "metadata": {
  "kernelspec": {
   "display_name": "snapatac2",
   "language": "python",
   "name": "snapatac2"
  },
  "language_info": {
   "codemirror_mode": {
    "name": "ipython",
    "version": 3
   },
   "file_extension": ".py",
   "mimetype": "text/x-python",
   "name": "python",
   "nbconvert_exporter": "python",
   "pygments_lexer": "ipython3",
   "version": "3.12.0"
  }
 },
 "nbformat": 4,
 "nbformat_minor": 5
}
