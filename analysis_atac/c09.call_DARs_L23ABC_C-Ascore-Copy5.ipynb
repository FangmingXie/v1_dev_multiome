{
 "cells": [
  {
   "cell_type": "code",
   "execution_count": null,
   "id": "40d3cf98-2f37-46b9-a606-af61ebef2881",
   "metadata": {
    "tags": []
   },
   "outputs": [],
   "source": [
    "import scipy.io\n",
    "import numpy as np\n",
    "import pandas as pd\n",
    "import scanpy as sc\n",
    "import h5py\n",
    "\n",
    "import os\n",
    "import numpy as np\n",
    "import pandas as pd\n",
    "import scanpy as sc\n",
    "import anndata \n",
    "import seaborn as sns\n",
    "from scipy.stats import zscore\n",
    "import matplotlib.pyplot as plt\n",
    "import collections\n",
    "from natsort import natsorted\n",
    "\n",
    "from scipy import stats\n",
    "from scipy import sparse\n",
    "from sklearn.decomposition import PCA\n",
    "from umap import UMAP\n",
    "\n",
    "from matplotlib.colors import LinearSegmentedColormap\n",
    "from statsmodels.stats.multitest import multipletests\n",
    "\n",
    "from scroutines.config_plots import *\n",
    "from scroutines import powerplots # .config_plots import *\n",
    "from scroutines import pnmf\n",
    "from scroutines import basicu\n",
    "from scroutines.gene_modules import GeneModules  \n",
    "\n",
    "import atac_utils"
   ]
  },
  {
   "cell_type": "code",
   "execution_count": null,
   "id": "981e50da-c3de-4974-8965-aa9780dee1ea",
   "metadata": {
    "tags": []
   },
   "outputs": [],
   "source": [
    "outfigdir = '/u/home/f/f7xiesnm/project-zipursky/v1-bb/v1/figures/250415'\n",
    "!mkdir -p $outfigdir"
   ]
  },
  {
   "cell_type": "code",
   "execution_count": null,
   "id": "be487f91-3b3b-4c16-a10c-3f8f03e8bacc",
   "metadata": {
    "tags": []
   },
   "outputs": [],
   "source": [
    "scores_abc = pd.read_csv(\"/u/home/f/f7xiesnm/project-zipursky/v1-bb/v1/data/v1_multiome/scores_l23abc.csv\", \n",
    "                         index_col=0,\n",
    "                        )\n",
    "scores_abc['scores_c-a'] = scores_abc['scores_c'] - scores_abc['scores_a']\n",
    "scores_abc"
   ]
  },
  {
   "cell_type": "code",
   "execution_count": null,
   "id": "c97c2596-5b85-4018-8d00-3f5d9460a43f",
   "metadata": {},
   "outputs": [],
   "source": [
    "%%time\n",
    "adata = anndata.read(\"/u/home/f/f7xiesnm/project-zipursky/v1-bb/v1/data/v1_multiome/superdupermegaRNA_hasraw_multiome_l23.h5ad\")\n",
    "adata"
   ]
  },
  {
   "cell_type": "code",
   "execution_count": null,
   "id": "9a325529-2946-4156-ab87-bae8ca91fdb9",
   "metadata": {},
   "outputs": [],
   "source": [
    "adata.X = adata.raw.X"
   ]
  },
  {
   "cell_type": "code",
   "execution_count": null,
   "id": "cada2757-4f87-4c6f-8d05-700766f53d90",
   "metadata": {},
   "outputs": [],
   "source": [
    "adata.obs['scores_a'] = scores_abc.loc[adata.obs.index,'scores_a'].copy()\n",
    "adata.obs['scores_b'] = scores_abc.loc[adata.obs.index,'scores_b'].copy()\n",
    "adata.obs['scores_c'] = scores_abc.loc[adata.obs.index,'scores_c'].copy()\n",
    "adata.obs['scores_c-a'] = scores_abc.loc[adata.obs.index,'scores_c-a'].copy()\n",
    "\n",
    "# fix cond incompatibility # P6NR vs P6\n",
    "adata.obs['cond'] = adata.obs['cond'].apply(lambda x: x.replace('NR', ''))"
   ]
  },
  {
   "cell_type": "code",
   "execution_count": null,
   "id": "151bb80b-b1f4-4cd4-92a3-c38d94ca9c6f",
   "metadata": {},
   "outputs": [],
   "source": [
    "sample_labels = adata.obs['Sample'].values\n",
    "time_labels = [s[:-1].replace('DR', '') for s in sample_labels]\n",
    "\n",
    "adata.obs['sample'] = sample_labels #\n",
    "adata.obs['time']   = time_labels\n",
    "\n",
    "uniq_samples = natsorted(np.unique(sample_labels))\n",
    "nr_samples = [s for s in uniq_samples if \"DR\" not in s]\n",
    "dr_samples = [s for s in uniq_samples if \"DR\" in s]\n",
    "\n",
    "uniq_conds = np.array(natsorted(np.unique(adata.obs['cond'].values)))\n",
    "print(uniq_conds)"
   ]
  },
  {
   "cell_type": "code",
   "execution_count": null,
   "id": "19f8a009-40ae-41f8-81ed-437196183bee",
   "metadata": {
    "tags": []
   },
   "outputs": [],
   "source": [
    "condcode2cond = atac_utils.CONDCODE_TO_COND\n",
    "condcode2cond"
   ]
  },
  {
   "cell_type": "code",
   "execution_count": null,
   "id": "5c12ba4c-725e-44b8-8420-89c62bc52662",
   "metadata": {
    "tags": []
   },
   "outputs": [],
   "source": [
    "cond2condcode = {val: key for key, val in condcode2cond.items()}\n",
    "cond2condcode"
   ]
  },
  {
   "cell_type": "code",
   "execution_count": null,
   "id": "70981978-5d86-45ad-9ab2-3e5af0436df3",
   "metadata": {
    "tags": []
   },
   "outputs": [],
   "source": [
    "sample_conditions = list(condcode2cond.values())\n",
    "n_cond = len(sample_conditions)\n",
    "sample_conditions"
   ]
  },
  {
   "cell_type": "code",
   "execution_count": null,
   "id": "f8f34d26-be4f-4eb9-b6dc-651ed4270c1b",
   "metadata": {
    "tags": []
   },
   "outputs": [],
   "source": [
    "%%time\n",
    "adatas_pk = []\n",
    "for cond_code, cond_name in condcode2cond.items():\n",
    "    f = f'/u/home/f/f7xiesnm/project-zipursky/v1-bb/v1/results_atac/pmat_l23concensus_{cond_name}.h5ad'\n",
    "    adata_pk = sc.read(f)\n",
    "    adatas_pk.append(adata_pk)\n",
    "    print(adata_pk)\n",
    "    # break"
   ]
  },
  {
   "cell_type": "markdown",
   "id": "e085a6bc-f9e9-46c3-a816-ba40787105ea",
   "metadata": {},
   "source": [
    "# SHUFFLE"
   ]
  },
  {
   "cell_type": "code",
   "execution_count": null,
   "id": "bf6338b8-31be-415a-8572-e189214b94e6",
   "metadata": {},
   "outputs": [],
   "source": [
    "%%time\n",
    "\n",
    "num_archetypal_cells = 300\n",
    "\n",
    "offset = 1\n",
    "SHUFFLE = True\n",
    "\n",
    "l2fc_th = np.log2(2)\n",
    "l2fc_th_s = np.log2(1.2)\n",
    "alpha_th = 0.05\n",
    "\n",
    "n_cond = len(sample_conditions)\n",
    "n_peak = adatas_pk[0].shape[1]\n",
    "qs_tensor   = np.zeros((n_cond,3,n_peak))  # 3 represents 3 pairwise comparisons (ca, ba, bc)\n",
    "l2fc_tensor = np.zeros((n_cond,3,n_peak))\n",
    "\n",
    "print(qs_tensor.shape, l2fc_tensor.shape)\n",
    "\n",
    "for cond_code, cond_name in condcode2cond.items():\n",
    "    # get sub\n",
    "    adatasub = adata[adata.obs['cond']==cond_name]\n",
    "    cells_rna = adatasub.obs.index.values\n",
    "    \n",
    "    # get A vs C \n",
    "    ranks_ac = adatasub.obs['scores_c-a'].rank()\n",
    "    ranks_b  = adatasub.obs['scores_b'].rank()\n",
    "    \n",
    "    precond_a = ranks_ac <= num_archetypal_cells\n",
    "    precond_c = ranks_ac > adatasub.shape[0] - num_archetypal_cells\n",
    "    precond_b = ranks_b  > adatasub.shape[0] - num_archetypal_cells\n",
    "    \n",
    "    cond_a = np.all([ precond_a, ~precond_b, ~precond_c], axis=0)\n",
    "    cond_b = np.all([~precond_a,  precond_b, ~precond_c], axis=0)\n",
    "    cond_c = np.all([~precond_a, ~precond_b,  precond_c], axis=0)\n",
    "    \n",
    "    # get ATAC\n",
    "    adata_pk = adatas_pk[cond_code]\n",
    "    cells_atac = adata_pk.obs.index.values\n",
    "        \n",
    "    # SHUFFLE\n",
    "    if SHUFFLE:\n",
    "        cells_rna = cells_rna[np.random.choice(len(cells_rna), size=len(cells_rna), replace=False)]\n",
    "        \n",
    "    # get A, B, C \n",
    "    cells_a = np.intersect1d(cells_rna[cond_a], cells_atac)\n",
    "    cells_b = np.intersect1d(cells_rna[cond_b], cells_atac)\n",
    "    cells_c = np.intersect1d(cells_rna[cond_c], cells_atac)\n",
    "        \n",
    "    # peak size (500bp)\n",
    "    mat_a = np.array(adata_pk[cells_a].X.todense()) \n",
    "    mat_b = np.array(adata_pk[cells_b].X.todense()) \n",
    "    mat_c = np.array(adata_pk[cells_c].X.todense()) \n",
    "    \n",
    "    # size norm (CPM) between cells\n",
    "    mat_a = mat_a/np.sum(mat_a, axis=1).reshape(-1,1)*1e6\n",
    "    mat_b = mat_b/np.sum(mat_b, axis=1).reshape(-1,1)*1e6\n",
    "    mat_c = mat_c/np.sum(mat_c, axis=1).reshape(-1,1)*1e6\n",
    "    \n",
    "    logmat_a = np.log2(mat_a+offset)\n",
    "    logmat_b = np.log2(mat_b+offset)\n",
    "    logmat_c = np.log2(mat_c+offset)\n",
    "    \n",
    "    # DEGs\n",
    "    l2fc_ca = np.log2((np.mean(mat_c, axis=0)+offset)) - np.log2(np.mean(mat_a, axis=0)+offset)\n",
    "    l2fc_ba = np.log2((np.mean(mat_b, axis=0)+offset)) - np.log2(np.mean(mat_a, axis=0)+offset)\n",
    "    l2fc_bc = np.log2((np.mean(mat_b, axis=0)+offset)) - np.log2(np.mean(mat_c, axis=0)+offset)\n",
    "    \n",
    "    ts, ps_ca = stats.ttest_ind(logmat_c, logmat_a)\n",
    "    ts, ps_ba = stats.ttest_ind(logmat_b, logmat_a)\n",
    "    ts, ps_bc = stats.ttest_ind(logmat_b, logmat_c)\n",
    "    \n",
    "    rs, qs_ca, _, _ = multipletests(np.nan_to_num(ps_ca, nan=1).reshape(-1,), method='fdr_bh')\n",
    "    rs, qs_ba, _, _ = multipletests(np.nan_to_num(ps_ba, nan=1).reshape(-1,), method='fdr_bh')\n",
    "    rs, qs_bc, _, _ = multipletests(np.nan_to_num(ps_bc, nan=1).reshape(-1,), method='fdr_bh')\n",
    "    \n",
    "    # sig_cond\n",
    "    qs_a   = np.minimum(qs_ca, qs_ba) # the better of the two\n",
    "    qs_c   = np.minimum(qs_ca, qs_bc) # the better of the two\n",
    "    qs_b   = np.minimum(qs_ba, qs_bc) # the better of the two\n",
    "\n",
    "    l2fc_a = np.max([-l2fc_ca, -l2fc_ba], axis=0) # mean fold change\n",
    "    l2fc_c = np.max([ l2fc_ca, -l2fc_bc], axis=0) # mean fold change\n",
    "    l2fc_b = np.max([ l2fc_ba,  l2fc_bc], axis=0) # mean fold change\n",
    "    \n",
    "    l2fc_as = np.min([-l2fc_ca, -l2fc_ba], axis=0) # mean fold change\n",
    "    l2fc_cs = np.min([ l2fc_ca, -l2fc_bc], axis=0) # mean fold change\n",
    "    l2fc_bs = np.min([ l2fc_ba,  l2fc_bc], axis=0) # mean fold change\n",
    "\n",
    "    cond_sig_a = np.all([-l2fc_ca > 0, -l2fc_ba > 0, l2fc_a > l2fc_th, qs_a < alpha_th], axis=0)\n",
    "    cond_sig_c = np.all([ l2fc_ca > 0, -l2fc_bc > 0, l2fc_c > l2fc_th, qs_c < alpha_th], axis=0)\n",
    "    cond_sig_b = np.all([ l2fc_ba > 0,  l2fc_bc > 0, l2fc_b > l2fc_th, qs_b < alpha_th, l2fc_bs > l2fc_th_s], axis=0)\n",
    "    \n",
    "    print(cond_code, cond_name, len(mat_a), len(mat_b), len(mat_c), \n",
    "          cond_sig_a.sum(), cond_sig_c.sum(), cond_sig_b.sum())\n",
    "    \n",
    "    # save this\n",
    "    l2fc_tensor[cond_code, 0] = l2fc_ca\n",
    "    l2fc_tensor[cond_code, 1] = l2fc_ba\n",
    "    l2fc_tensor[cond_code, 2] = l2fc_bc\n",
    "    \n",
    "    qs_tensor[cond_code, 0] = qs_ca\n",
    "    qs_tensor[cond_code, 1] = qs_ba\n",
    "    qs_tensor[cond_code, 2] = qs_bc\n",
    "    "
   ]
  },
  {
   "cell_type": "code",
   "execution_count": null,
   "id": "982f647b-d24d-466c-a30b-3fb6df7bc32e",
   "metadata": {},
   "outputs": [],
   "source": [
    "l2fc_th = np.log2(2)\n",
    "l2fc_th_s = np.log2(1.2)\n",
    "alpha_th = 0.05"
   ]
  },
  {
   "cell_type": "code",
   "execution_count": null,
   "id": "3626d4c7-7419-44d0-9e33-9c6244a65526",
   "metadata": {},
   "outputs": [],
   "source": [
    "qs_ca   = qs_tensor[:,0,:]\n",
    "qs_ba   = qs_tensor[:,1,:]\n",
    "qs_bc   = qs_tensor[:,2,:]\n",
    "\n",
    "l2fc_ca = l2fc_tensor[:,0,:]\n",
    "l2fc_ba = l2fc_tensor[:,1,:]\n",
    "l2fc_bc = l2fc_tensor[:,2,:]"
   ]
  },
  {
   "cell_type": "code",
   "execution_count": null,
   "id": "8a3230a7-5bd5-4db3-be38-08b1a5ce67dc",
   "metadata": {},
   "outputs": [],
   "source": [
    "qs_a   = np.minimum(qs_ca, qs_ba) # the better of the two\n",
    "qs_c   = np.minimum(qs_ca, qs_bc) # the better of the two\n",
    "qs_b   = np.minimum(qs_ba, qs_bc) # the better of the two\n",
    "\n",
    "l2fc_a = np.max([-l2fc_ca, -l2fc_ba], axis=0) # mean fold change\n",
    "l2fc_c = np.max([ l2fc_ca, -l2fc_bc], axis=0) # mean fold change\n",
    "l2fc_b = np.max([ l2fc_ba,  l2fc_bc], axis=0) # mean fold change\n",
    "\n",
    "\n",
    "l2fc_as = np.min([-l2fc_ca, -l2fc_ba], axis=0) # mean fold change\n",
    "l2fc_cs = np.min([ l2fc_ca, -l2fc_bc], axis=0) # mean fold change\n",
    "l2fc_bs = np.min([ l2fc_ba,  l2fc_bc], axis=0) # mean fold change\n",
    "\n",
    "\n",
    "cond_sig_a = np.all([-l2fc_ca > 0, -l2fc_ba > 0, l2fc_a > l2fc_th, qs_a < alpha_th], axis=0)\n",
    "cond_sig_c = np.all([ l2fc_ca > 0, -l2fc_bc > 0, l2fc_c > l2fc_th, qs_c < alpha_th], axis=0)\n",
    "# cond_sig_a = np.all([-l2fc_ca > 0, -l2fc_ba > 0, l2fc_a > l2fc_th, qs_a < alpha_th, l2fc_as > l2fc_th_s], axis=0)\n",
    "# cond_sig_c = np.all([ l2fc_ca > 0, -l2fc_bc > 0, l2fc_c > l2fc_th, qs_c < alpha_th, l2fc_cs > l2fc_th_s], axis=0)\n",
    "cond_sig_b = np.all([ l2fc_ba > 0,  l2fc_bc > 0, l2fc_b > l2fc_th, qs_b < alpha_th, l2fc_bs > l2fc_th_s], axis=0)\n",
    "\n",
    "\n",
    "instances, counts_a = np.unique(cond_sig_a.sum(axis=0), return_counts=True)\n",
    "instances, counts_c = np.unique(cond_sig_c.sum(axis=0), return_counts=True)\n",
    "instances, counts_b = np.unique(cond_sig_b.sum(axis=0), return_counts=True)\n",
    "\n",
    "print('num A genes for each cond:\\t', cond_sig_a.sum(axis=1), np.any(cond_sig_a, axis=0).sum())\n",
    "print('num C genes for each cond:\\t', cond_sig_c.sum(axis=1), np.any(cond_sig_c, axis=0).sum())\n",
    "print('num B genes for each cond:\\t', cond_sig_b.sum(axis=1), np.any(cond_sig_b, axis=0).sum())\n",
    "\n",
    "print('num A genes in num conds:\\t',  counts_a[1:])\n",
    "print('num C genes in num conds:\\t',  counts_c[1:])\n",
    "print('num B genes in num conds:\\t',  counts_b[1:])"
   ]
  },
  {
   "cell_type": "code",
   "execution_count": null,
   "id": "14269c29-32c3-40e2-958d-108f7c3a7b06",
   "metadata": {},
   "outputs": [],
   "source": []
  },
  {
   "cell_type": "markdown",
   "id": "cdda4810-05b6-4c38-b3e3-b370ee630ca7",
   "metadata": {},
   "source": [
    "# REAL"
   ]
  },
  {
   "cell_type": "code",
   "execution_count": null,
   "id": "38798144-dd47-47f1-8f4c-11390036de85",
   "metadata": {
    "tags": []
   },
   "outputs": [],
   "source": [
    "%%time\n",
    "\n",
    "num_archetypal_cells = 300\n",
    "\n",
    "offset = 1\n",
    "SHUFFLE = False\n",
    "\n",
    "l2fc_th = np.log2(2)\n",
    "l2fc_th_s = np.log2(1.2)\n",
    "alpha_th = 0.05\n",
    "\n",
    "n_cond = len(sample_conditions)\n",
    "n_peak = adatas_pk[0].shape[1]\n",
    "qs_tensor   = np.zeros((n_cond,3,n_peak))  # 3 represents 3 pairwise comparisons (ca, ba, bc)\n",
    "l2fc_tensor = np.zeros((n_cond,3,n_peak))\n",
    "\n",
    "print(qs_tensor.shape, l2fc_tensor.shape)\n",
    "\n",
    "for cond_code, cond_name in condcode2cond.items():\n",
    "    # get sub\n",
    "    adatasub = adata[adata.obs['cond']==cond_name]\n",
    "    cells_rna = adatasub.obs.index.values\n",
    "    \n",
    "    # get A vs C \n",
    "    ranks_ac = adatasub.obs['scores_c-a'].rank()\n",
    "    ranks_b  = adatasub.obs['scores_b'].rank()\n",
    "    \n",
    "    precond_a = ranks_ac <= num_archetypal_cells\n",
    "    precond_c = ranks_ac > adatasub.shape[0] - num_archetypal_cells\n",
    "    precond_b = ranks_b  > adatasub.shape[0] - num_archetypal_cells\n",
    "    \n",
    "    cond_a = np.all([ precond_a, ~precond_b, ~precond_c], axis=0)\n",
    "    cond_b = np.all([~precond_a,  precond_b, ~precond_c], axis=0)\n",
    "    cond_c = np.all([~precond_a, ~precond_b,  precond_c], axis=0)\n",
    "    \n",
    "    # get ATAC\n",
    "    adata_pk = adatas_pk[cond_code]\n",
    "    cells_atac = adata_pk.obs.index.values\n",
    "        \n",
    "    # SHUFFLE\n",
    "    if SHUFFLE:\n",
    "        cells_rna = cells_rna[np.random.choice(len(cells_rna), size=len(cells_rna), replace=False)]\n",
    "        \n",
    "    # get A, B, C \n",
    "    cells_a = np.intersect1d(cells_rna[cond_a], cells_atac)\n",
    "    cells_b = np.intersect1d(cells_rna[cond_b], cells_atac)\n",
    "    cells_c = np.intersect1d(cells_rna[cond_c], cells_atac)\n",
    "        \n",
    "    # peak size (500bp)\n",
    "    mat_a = np.array(adata_pk[cells_a].X.todense()) \n",
    "    mat_b = np.array(adata_pk[cells_b].X.todense()) \n",
    "    mat_c = np.array(adata_pk[cells_c].X.todense()) \n",
    "    \n",
    "    # size norm (CPM) between cells\n",
    "    mat_a = mat_a/np.sum(mat_a, axis=1).reshape(-1,1)*1e6\n",
    "    mat_b = mat_b/np.sum(mat_b, axis=1).reshape(-1,1)*1e6\n",
    "    mat_c = mat_c/np.sum(mat_c, axis=1).reshape(-1,1)*1e6\n",
    "    \n",
    "    logmat_a = np.log2(mat_a+offset)\n",
    "    logmat_b = np.log2(mat_b+offset)\n",
    "    logmat_c = np.log2(mat_c+offset)\n",
    "    \n",
    "    # DEGs\n",
    "    l2fc_ca = np.log2((np.mean(mat_c, axis=0)+offset)) - np.log2(np.mean(mat_a, axis=0)+offset)\n",
    "    l2fc_ba = np.log2((np.mean(mat_b, axis=0)+offset)) - np.log2(np.mean(mat_a, axis=0)+offset)\n",
    "    l2fc_bc = np.log2((np.mean(mat_b, axis=0)+offset)) - np.log2(np.mean(mat_c, axis=0)+offset)\n",
    "    \n",
    "    ts, ps_ca = stats.ttest_ind(logmat_c, logmat_a)\n",
    "    ts, ps_ba = stats.ttest_ind(logmat_b, logmat_a)\n",
    "    ts, ps_bc = stats.ttest_ind(logmat_b, logmat_c)\n",
    "    \n",
    "    rs, qs_ca, _, _ = multipletests(np.nan_to_num(ps_ca, nan=1).reshape(-1,), method='fdr_bh')\n",
    "    rs, qs_ba, _, _ = multipletests(np.nan_to_num(ps_ba, nan=1).reshape(-1,), method='fdr_bh')\n",
    "    rs, qs_bc, _, _ = multipletests(np.nan_to_num(ps_bc, nan=1).reshape(-1,), method='fdr_bh')\n",
    "    \n",
    "    # sig_cond\n",
    "    qs_a   = np.minimum(qs_ca, qs_ba) # the better of the two\n",
    "    qs_c   = np.minimum(qs_ca, qs_bc) # the better of the two\n",
    "    qs_b   = np.minimum(qs_ba, qs_bc) # the better of the two\n",
    "\n",
    "    l2fc_a = np.max([-l2fc_ca, -l2fc_ba], axis=0) # mean fold change\n",
    "    l2fc_c = np.max([ l2fc_ca, -l2fc_bc], axis=0) # mean fold change\n",
    "    l2fc_b = np.max([ l2fc_ba,  l2fc_bc], axis=0) # mean fold change\n",
    "    \n",
    "    l2fc_as = np.min([-l2fc_ca, -l2fc_ba], axis=0) # mean fold change\n",
    "    l2fc_cs = np.min([ l2fc_ca, -l2fc_bc], axis=0) # mean fold change\n",
    "    l2fc_bs = np.min([ l2fc_ba,  l2fc_bc], axis=0) # mean fold change\n",
    "\n",
    "    cond_sig_a = np.all([-l2fc_ca > 0, -l2fc_ba > 0, l2fc_a > l2fc_th, qs_a < alpha_th], axis=0)\n",
    "    cond_sig_c = np.all([ l2fc_ca > 0, -l2fc_bc > 0, l2fc_c > l2fc_th, qs_c < alpha_th], axis=0)\n",
    "    cond_sig_b = np.all([ l2fc_ba > 0,  l2fc_bc > 0, l2fc_b > l2fc_th, qs_b < alpha_th, l2fc_bs > l2fc_th_s], axis=0)\n",
    "    \n",
    "    print(cond_code, cond_name, len(mat_a), len(mat_b), len(mat_c), \n",
    "          cond_sig_a.sum(), cond_sig_c.sum(), cond_sig_b.sum())\n",
    "    \n",
    "    # save this\n",
    "    l2fc_tensor[cond_code, 0] = l2fc_ca\n",
    "    l2fc_tensor[cond_code, 1] = l2fc_ba\n",
    "    l2fc_tensor[cond_code, 2] = l2fc_bc\n",
    "    \n",
    "    qs_tensor[cond_code, 0] = qs_ca\n",
    "    qs_tensor[cond_code, 1] = qs_ba\n",
    "    qs_tensor[cond_code, 2] = qs_bc\n",
    "    "
   ]
  },
  {
   "cell_type": "code",
   "execution_count": null,
   "id": "026e49f0-825b-42c0-9f5c-9e5e8609f442",
   "metadata": {
    "tags": []
   },
   "outputs": [],
   "source": [
    "# %%time\n",
    "# fout1 = '/u/home/f/f7xiesnm/v1_multiome/DAR_l23abc_qs_250411.npy'\n",
    "# fout2 = '/u/home/f/f7xiesnm/v1_multiome/DAR_l23abc_l2fc_250411.npy'\n",
    "# fout3 = '/u/home/f/f7xiesnm/v1_multiome/DAR_l23abc_cpm_tensor_250411.npy'\n",
    "\n",
    "# np.save(fout1, qs_tensor)\n",
    "# np.save(fout2, l2fc_tensor)"
   ]
  },
  {
   "cell_type": "markdown",
   "id": "5166e13c-d5ec-48fa-b8fb-537454c57cfb",
   "metadata": {},
   "source": [
    "# check results and stats"
   ]
  },
  {
   "cell_type": "code",
   "execution_count": null,
   "id": "7ceb043e-c6c1-44c7-be9a-b1c4f81b808a",
   "metadata": {},
   "outputs": [],
   "source": [
    "l2fc_th = np.log2(2)\n",
    "l2fc_th_s = np.log2(1.2)\n",
    "alpha_th = 0.05"
   ]
  },
  {
   "cell_type": "code",
   "execution_count": null,
   "id": "0f276bdf-2346-44a2-9c82-938c7e62ff6a",
   "metadata": {},
   "outputs": [],
   "source": [
    "qs_ca   = qs_tensor[:,0,:]\n",
    "qs_ba   = qs_tensor[:,1,:]\n",
    "qs_bc   = qs_tensor[:,2,:]\n",
    "\n",
    "l2fc_ca = l2fc_tensor[:,0,:]\n",
    "l2fc_ba = l2fc_tensor[:,1,:]\n",
    "l2fc_bc = l2fc_tensor[:,2,:]"
   ]
  },
  {
   "cell_type": "code",
   "execution_count": null,
   "id": "f84c0b75-25c8-492e-9f46-9b99bca77052",
   "metadata": {},
   "outputs": [],
   "source": [
    "qs_a   = np.minimum(qs_ca, qs_ba) # the better of the two\n",
    "qs_c   = np.minimum(qs_ca, qs_bc) # the better of the two\n",
    "qs_b   = np.minimum(qs_ba, qs_bc) # the better of the two\n",
    "\n",
    "l2fc_a = np.max([-l2fc_ca, -l2fc_ba], axis=0) # mean fold change\n",
    "l2fc_c = np.max([ l2fc_ca, -l2fc_bc], axis=0) # mean fold change\n",
    "l2fc_b = np.max([ l2fc_ba,  l2fc_bc], axis=0) # mean fold change\n",
    "\n",
    "\n",
    "l2fc_as = np.min([-l2fc_ca, -l2fc_ba], axis=0) # mean fold change\n",
    "l2fc_cs = np.min([ l2fc_ca, -l2fc_bc], axis=0) # mean fold change\n",
    "l2fc_bs = np.min([ l2fc_ba,  l2fc_bc], axis=0) # mean fold change\n",
    "\n",
    "\n",
    "cond_sig_a = np.all([-l2fc_ca > 0, -l2fc_ba > 0, l2fc_a > l2fc_th, qs_a < alpha_th], axis=0)\n",
    "cond_sig_c = np.all([ l2fc_ca > 0, -l2fc_bc > 0, l2fc_c > l2fc_th, qs_c < alpha_th], axis=0)\n",
    "# cond_sig_a = np.all([-l2fc_ca > 0, -l2fc_ba > 0, l2fc_a > l2fc_th, qs_a < alpha_th, l2fc_as > l2fc_th_s], axis=0)\n",
    "# cond_sig_c = np.all([ l2fc_ca > 0, -l2fc_bc > 0, l2fc_c > l2fc_th, qs_c < alpha_th, l2fc_cs > l2fc_th_s], axis=0)\n",
    "cond_sig_b = np.all([ l2fc_ba > 0,  l2fc_bc > 0, l2fc_b > l2fc_th, qs_b < alpha_th, l2fc_bs > l2fc_th_s], axis=0)\n",
    "\n",
    "\n",
    "instances, counts_a = np.unique(cond_sig_a.sum(axis=0), return_counts=True)\n",
    "instances, counts_c = np.unique(cond_sig_c.sum(axis=0), return_counts=True)\n",
    "instances, counts_b = np.unique(cond_sig_b.sum(axis=0), return_counts=True)\n",
    "\n",
    "print('num A genes for each cond:\\t', cond_sig_a.sum(axis=1), np.any(cond_sig_a, axis=0).sum())\n",
    "print('num C genes for each cond:\\t', cond_sig_c.sum(axis=1), np.any(cond_sig_c, axis=0).sum())\n",
    "print('num B genes for each cond:\\t', cond_sig_b.sum(axis=1), np.any(cond_sig_b, axis=0).sum())\n",
    "\n",
    "print('num A genes in num conds:\\t',  counts_a[1:])\n",
    "print('num C genes in num conds:\\t',  counts_c[1:])\n",
    "print('num B genes in num conds:\\t',  counts_b[1:])"
   ]
  },
  {
   "cell_type": "code",
   "execution_count": null,
   "id": "5a27a3bd-b878-41a6-a8b7-92c8b69687fd",
   "metadata": {
    "tags": []
   },
   "outputs": [],
   "source": [
    "a_any = np.sort(adata_pk.var[np.any(cond_sig_a, axis=0)].index.values)\n",
    "a_all = np.sort(adata_pk.var[np.all(cond_sig_a, axis=0)].index.values)\n",
    "\n",
    "c_any = np.sort(adata_pk.var[np.any(cond_sig_c, axis=0)].index.values)\n",
    "c_all = np.sort(adata_pk.var[np.all(cond_sig_c, axis=0)].index.values)\n",
    "ac_overlap = np.sort(adata_pk.var[np.logical_and(np.any(cond_sig_a, axis=0), np.any(cond_sig_c, axis=0))].index.values)\n",
    "\n",
    "b_any = np.sort(adata_pk.var[np.any(cond_sig_b, axis=0)].index.values)\n",
    "b_all = np.sort(adata_pk.var[np.all(cond_sig_b, axis=0)].index.values)\n",
    "\n",
    "\n",
    "abc_any = np.sort(adata_pk.var[(np.any(cond_sig_a, axis=0)+\n",
    "                                np.any(cond_sig_b, axis=0)+\n",
    "                                np.any(cond_sig_c, axis=0))>0].index.values)\n",
    "\n",
    "print('a any', a_any.shape)\n",
    "print('a all', a_all.shape)\n",
    "\n",
    "print('c any', c_any.shape)\n",
    "print('c all', c_all.shape)\n",
    "print('ac overlap', ac_overlap.shape)\n",
    "\n",
    "print('b any', b_any.shape)\n",
    "print('b all', b_all.shape)\n",
    "\n",
    "print('abc any', abc_any.shape)"
   ]
  },
  {
   "cell_type": "code",
   "execution_count": null,
   "id": "c3c58939-1d79-47e3-8db0-345620a374f2",
   "metadata": {},
   "outputs": [],
   "source": []
  },
  {
   "cell_type": "code",
   "execution_count": null,
   "id": "cd98dfbf-4e06-43ae-bc25-02be119f2138",
   "metadata": {
    "tags": []
   },
   "outputs": [],
   "source": [
    "sample_conditions = np.array(list(condcode2cond.values()))\n",
    "n_cond = len(sample_conditions)\n",
    "\n",
    "nr_condcodes  = np.array([0,1,2,3,5,7,9])\n",
    "dr_condcodes  = np.array([4,6,8,10])\n",
    "\n",
    "nr_conditions = sample_conditions[nr_condcodes]\n",
    "dr_conditions = sample_conditions[dr_condcodes]\n",
    "\n",
    "nr_times = [6,8,10,12,14,17,21]\n",
    "dr_times =        [12,14,17,21]\n",
    "times = nr_times\n",
    "\n",
    "print(sample_conditions)\n",
    "print(nr_condcodes, nr_conditions)\n",
    "print(dr_condcodes, dr_conditions)"
   ]
  },
  {
   "cell_type": "code",
   "execution_count": null,
   "id": "ec1d715e-7645-422f-8da2-b54c3b565aa0",
   "metadata": {},
   "outputs": [],
   "source": [
    "fig, axs = plt.subplots(1,3, figsize=(3*3,1*4), sharex=True, sharey=True)\n",
    "\n",
    "num_uniq_a = np.sum(np.any(cond_sig_a, axis=0))\n",
    "num_uniq_b = np.sum(np.any(cond_sig_b, axis=0))\n",
    "num_uniq_c = np.sum(np.any(cond_sig_c, axis=0))\n",
    "\n",
    "ax = axs[0]\n",
    "ax.plot(times, cond_sig_a.sum(axis=1)[nr_condcodes], \n",
    "        '-o', color='C0', fillstyle='none', label=f'A DARs (unique n = {num_uniq_a:,})') \n",
    "ax.grid(False, axis='x')\n",
    "sns.despine(ax=ax)\n",
    "ax.set_ylabel('number of DARs')\n",
    "ax.set_title('A regions')\n",
    "\n",
    "ax = axs[1]\n",
    "ax.plot(times, cond_sig_b.sum(axis=1)[nr_condcodes],\n",
    "        '-o', color='C1', fillstyle='none', label=f'B DARs (unique n = {num_uniq_b:,})')\n",
    "ax.grid(False, axis='x')\n",
    "sns.despine(ax=ax)\n",
    "ax.set_title('B regions')\n",
    "\n",
    "ax = axs[2]\n",
    "ax.plot(times, cond_sig_c.sum(axis=1)[nr_condcodes], \n",
    "        '-o', color='C2', fillstyle='none', label=f'C DARs (unique n = {num_uniq_c:,})') \n",
    "ax.grid(False, axis='x')\n",
    "ax.set_xticks([6,10,14,17,21])\n",
    "sns.despine(ax=ax)\n",
    "ax.set_title('C regions')\n",
    "\n",
    "fig.tight_layout()\n",
    "output = os.path.join(outfigdir, 'abc_dars_over_time_v0.pdf') \n",
    "powerplots.savefig_autodate(fig, output)\n",
    "plt.show()"
   ]
  },
  {
   "cell_type": "code",
   "execution_count": null,
   "id": "2b283afc-835a-4e69-879b-bf855428c826",
   "metadata": {
    "tags": []
   },
   "outputs": [],
   "source": [
    "fig, ax = plt.subplots(1,1, figsize=(1*4,1*4)) # , sharex=True)\n",
    "\n",
    "num_uniq_a = np.sum(np.any(cond_sig_a, axis=0))\n",
    "num_uniq_b = np.sum(np.any(cond_sig_b, axis=0))\n",
    "num_uniq_c = np.sum(np.any(cond_sig_c, axis=0))\n",
    "\n",
    "ax.plot(times, cond_sig_a.sum(axis=1)[nr_condcodes], \n",
    "        '-o', color='C0', fillstyle='none', label=f'A DARs (unique n = {num_uniq_a:,})') \n",
    "ax.plot(times, [0]*len(times),'--o', color='gray', fillstyle='none', label=f'random DARs (n=0)', zorder=0)\n",
    "\n",
    "ax.plot(times, cond_sig_c.sum(axis=1)[nr_condcodes], \n",
    "        '-o', color='C2', fillstyle='none', label=f'C DARs (unique n = {num_uniq_c:,})') \n",
    "ax.plot(times, [0]*len(times),'--o', color='gray', fillstyle='none', label=f'random DARs (n=0)', zorder=0)\n",
    "\n",
    "ax.plot(times, cond_sig_b.sum(axis=1)[nr_condcodes],\n",
    "        '-o', color='C1', fillstyle='none', label=f'B DARs (unique n = {num_uniq_b:,})')\n",
    "ax.plot(times, [0]*len(times),'--o', color='gray', fillstyle='none', label=f'random DARs (n=0)', zorder=0)\n",
    "\n",
    "ax.set_ylabel('number of DARs')\n",
    "# ax.set_ylim(ymin=-500, ymax=12500)\n",
    "ax.set_xticks(times)\n",
    "ax.set_xticklabels(times)\n",
    "ax.grid(False)\n",
    "sns.despine(ax=ax)\n",
    "ax.legend(bbox_to_anchor=(1,1))\n",
    "\n",
    "\n",
    "fig.tight_layout()\n",
    "output = os.path.join(outfigdir, 'abc_dars_over_time.pdf') \n",
    "powerplots.savefig_autodate(fig, output)\n",
    "\n",
    "plt.show()"
   ]
  },
  {
   "cell_type": "markdown",
   "id": "67a75ad8-b401-44c1-95b5-73baf941668e",
   "metadata": {},
   "source": [
    "# get the full matrix (CPM - 5 fold) "
   ]
  },
  {
   "cell_type": "code",
   "execution_count": null,
   "id": "e868b4db-5ca9-4bff-93d4-12a99a026d7e",
   "metadata": {
    "tags": []
   },
   "outputs": [],
   "source": [
    "# %%time\n",
    "# n_type = 5\n",
    "\n",
    "# atac_tensor = np.zeros((n_cond, n_type, n_peak))\n",
    "# for i, cond in enumerate(sample_conditions):\n",
    "#     # get sub\n",
    "#     adatasub = adata[adata.obs['cond']==cond]\n",
    "#     cells_rna = adatasub.obs.index.values\n",
    "#     # x = adatasub.obsm['pca_p17on'][...,0]\n",
    "#     x = adatasub.obs['scores_c-a'].values\n",
    "#     cells_rna_type = pd.qcut(x, n_type, labels=False)\n",
    "    \n",
    "#     # get ATAC\n",
    "#     adata_pk = adatas_pk[i]\n",
    "#     cells_atac = adata_pk.obs.index.values\n",
    "    \n",
    "#     # per type\n",
    "#     for j in range(n_type):\n",
    "#         cells_j = np.intersect1d(cells_rna[cells_rna_type==j], cells_atac)\n",
    "#         atac_tensor[i,j] = np.array(np.sum(adata_pk[cells_j].X, axis=0))\n",
    "        \n",
    "# # CPM\n",
    "# atac_tensor_cov = np.sum(atac_tensor, axis=2)\n",
    "# atac_tensor = atac_tensor/np.expand_dims(atac_tensor_cov, axis=2)*1e6 # .reshape(n_cond, n_type, -1) # *1e6\n",
    "# print(atac_tensor.shape)\n",
    "# np.sum(atac_tensor, axis=2)"
   ]
  },
  {
   "cell_type": "code",
   "execution_count": null,
   "id": "1581548f-9e15-43d4-9ea7-571244101c71",
   "metadata": {
    "tags": []
   },
   "outputs": [],
   "source": [
    "# np.save(fout3, atac_tensor)"
   ]
  },
  {
   "cell_type": "markdown",
   "id": "7fb1beb1-e872-4551-a1fe-61dfb5ad66d7",
   "metadata": {},
   "source": [
    "# check effect size "
   ]
  },
  {
   "cell_type": "code",
   "execution_count": null,
   "id": "4c38246c-2223-4c33-b433-55ccf126341a",
   "metadata": {
    "tags": []
   },
   "outputs": [],
   "source": [
    "# adata.obs['sample'].unique()\n",
    "import re\n",
    "\n",
    "todo_conds = [\n",
    "    'P12DR', 'P14DR', 'P17DR', 'P21DR',\n",
    "    'P6', 'P8', 'P10', 'P12', 'P14', 'P17', 'P21', \n",
    "]\n",
    "todo_samps = [\n",
    "    'P12DRa', 'P12DRb',\n",
    "    'P14DRa', 'P14DRb',\n",
    "    'P17DRa', 'P17DRb',\n",
    "    'P21DRa', 'P21DRb',\n",
    "    'P6a', 'P6b', 'P6c', \n",
    "    'P8a', 'P8b', 'P8c', \n",
    "    'P10a', 'P10b', \n",
    "    'P12a', 'P12b', 'P12c', \n",
    "    'P14a', 'P14b',\n",
    "    'P17a', 'P17b', \n",
    "    'P21a', 'P21b', \n",
    "]\n",
    "todo_conds_t = np.array([int(re.sub(r'[a-zA-Z]', '', a)) for a in todo_conds])\n",
    "todo_samps_t = np.array([int(re.sub(r'[a-zA-Z]', '', a)) for a in todo_samps])\n",
    "print(todo_conds_t)\n",
    "print(todo_samps_t)\n",
    "\n",
    "def mean_over_samples(mmat_res_samp):\n",
    "    \"\"\"25 samples to 11 conditions\n",
    "    \"\"\"\n",
    "    assert mmat_res_samp.shape[0] == 25\n",
    "    \n",
    "    mmat_res_samp_mean = np.zeros(mmat_res_samp.shape)[:11]\n",
    "    mmat_res_samp_mean[0] = np.mean(mmat_res_samp[ :2], axis=0)\n",
    "    mmat_res_samp_mean[1] = np.mean(mmat_res_samp[2:4], axis=0)\n",
    "    mmat_res_samp_mean[2] = np.mean(mmat_res_samp[4:6], axis=0)\n",
    "    mmat_res_samp_mean[3] = np.mean(mmat_res_samp[6:8], axis=0)\n",
    "\n",
    "    mmat_res_samp_mean[4] = np.mean(mmat_res_samp[8:11], axis=0)\n",
    "    mmat_res_samp_mean[5] = np.mean(mmat_res_samp[11:14], axis=0)\n",
    "    mmat_res_samp_mean[6] = np.mean(mmat_res_samp[14:16], axis=0)\n",
    "    mmat_res_samp_mean[7] = np.mean(mmat_res_samp[16:19], axis=0)\n",
    "    mmat_res_samp_mean[8] = np.mean(mmat_res_samp[19:21], axis=0)\n",
    "    mmat_res_samp_mean[9] = np.mean(mmat_res_samp[21:23], axis=0)\n",
    "    mmat_res_samp_mean[10] = np.mean(mmat_res_samp[23:  ], axis=0)\n",
    "    \n",
    "    return mmat_res_samp_mean\n",
    "\n",
    "def transform_bigredmat(bigmat):\n",
    "    \"\"\"bigmat or redmat\n",
    "    to fmat and zmat\n",
    "    \"\"\"\n",
    "    fmat = bigmat.reshape(-1, bigmat.shape[-1]).T\n",
    "    fmat = np.hstack([fmat[:,4*5:], fmat[:,:4*5]]) # CHANGED COLUMN ORDER!!\n",
    "    zmat = zscore(fmat, axis=1)\n",
    "    \n",
    "    return fmat, zmat"
   ]
  },
  {
   "cell_type": "code",
   "execution_count": null,
   "id": "312c28d3-a9b7-46e2-86f6-c80e98afd9d7",
   "metadata": {
    "tags": []
   },
   "outputs": [],
   "source": [
    "cond_sig_a_any = np.any(cond_sig_a, axis=0)\n",
    "cond_sig_b_any = np.any(cond_sig_b, axis=0)\n",
    "cond_sig_c_any = np.any(cond_sig_c, axis=0)"
   ]
  },
  {
   "cell_type": "code",
   "execution_count": null,
   "id": "e830e762-a579-422b-82af-bfcb9e754586",
   "metadata": {
    "tags": []
   },
   "outputs": [],
   "source": [
    "%%time\n",
    "mat = []\n",
    "for cond_code in condcode2cond.keys():\n",
    "    adata_pk = adatas_pk[cond_code]\n",
    "    mat.append(np.array(adata_pk.X.todense()))\n",
    "mat = np.vstack(mat)\n",
    "mat = mat/np.sum(mat, axis=1).reshape(-1,1)*1e6\n",
    "atac_l23baseline = np.log2(np.mean(mat, axis=0)+offset)"
   ]
  },
  {
   "cell_type": "code",
   "execution_count": null,
   "id": "fcb34818-7eb3-4b5d-8a03-c92652af5a24",
   "metadata": {
    "tags": []
   },
   "outputs": [],
   "source": [
    "offset"
   ]
  },
  {
   "cell_type": "code",
   "execution_count": null,
   "id": "77b79c58-d277-4401-b29b-c8fe1a42b834",
   "metadata": {
    "tags": []
   },
   "outputs": [],
   "source": [
    "%%time\n",
    "\n",
    "n_type = 5\n",
    "frac_archetypal_cells_viz = 0.2\n",
    "bigmat_nfd = np.zeros((len(todo_samps), n_type, mat.shape[1]))\n",
    "bigmat_abc = np.zeros((len(todo_samps),      3, mat.shape[1]))\n",
    "\n",
    "for i, samp in enumerate(todo_samps):\n",
    "    cond_name = samp[:-1]\n",
    "    cond_code = cond2condcode[cond_name]\n",
    "    print(samp, cond_name, cond_code)\n",
    "    \n",
    "    # get ATAC\n",
    "    adata_pk = adatas_pk[cond_code]\n",
    "    cells_atac = adata_pk.obs.index.values\n",
    "    \n",
    "    # get sub\n",
    "    adatasub = adata[adata.obs['sample']==samp]\n",
    "    cells_rna = adatasub.obs.index.values\n",
    "    n_cells = adatasub.shape[0]\n",
    "    \n",
    "    # get A vs C \n",
    "    ranks_ac = adatasub.obs['scores_c-a'].rank()\n",
    "    ranks_b  = adatasub.obs['scores_b'].rank()\n",
    "    \n",
    "    # per type\n",
    "    cells_type_nfd = pd.qcut(ranks_ac, n_type, labels=False)\n",
    "    for j in range(n_type):\n",
    "        cond_j = cells_type_nfd==j\n",
    "        cells_j = np.intersect1d(cells_rna[cond_j], cells_atac)\n",
    "        mat_j = np.array(adata_pk[cells_j].X.todense()) \n",
    "        mat_j = mat_j/np.sum(mat_j, axis=1).reshape(-1,1)*1e6\n",
    "        mmat_j = np.log2(np.mean(mat_j, axis=0)+offset) - atac_l23baseline\n",
    "        bigmat_nfd[i,j] = mmat_j\n",
    "    \n",
    "    # A, B, C\n",
    "    num_archetypal_cells_viz = int(n_cells*frac_archetypal_cells_viz)\n",
    "    \n",
    "    precond_a = ranks_ac <= num_archetypal_cells_viz\n",
    "    precond_c = ranks_ac > adatasub.shape[0] - num_archetypal_cells_viz\n",
    "    precond_b = ranks_b  > adatasub.shape[0] - num_archetypal_cells_viz\n",
    "    \n",
    "    cond_a = np.all([ precond_a, ~precond_b, ~precond_c], axis=0)\n",
    "    cond_b = np.all([~precond_a,  precond_b, ~precond_c], axis=0)\n",
    "    cond_c = np.all([~precond_a, ~precond_b,  precond_c], axis=0)\n",
    "    \n",
    "        \n",
    "    # get A, B, C \n",
    "    cells_a = np.intersect1d(cells_rna[cond_a], cells_atac)\n",
    "    cells_b = np.intersect1d(cells_rna[cond_b], cells_atac)\n",
    "    cells_c = np.intersect1d(cells_rna[cond_c], cells_atac)\n",
    "    \n",
    "    for j, cond_j in enumerate([cond_a, cond_b, cond_c]):\n",
    "        cells_j = np.intersect1d(cells_rna[cond_j], cells_atac)\n",
    "        mat_j = np.array(adata_pk[cells_j].X.todense()) \n",
    "        mat_j = mat_j/np.sum(mat_j, axis=1).reshape(-1,1)*1e6\n",
    "        mmat_j = np.log2(np.mean(mat_j, axis=0)+offset) - atac_l23baseline\n",
    "        bigmat_abc[i,j] = mmat_j"
   ]
  },
  {
   "cell_type": "code",
   "execution_count": null,
   "id": "0452a0d8-9698-4ff7-829b-ca308733ed88",
   "metadata": {},
   "outputs": [],
   "source": [
    "print(bigmat_abc.shape) # cond, type, gene"
   ]
  },
  {
   "cell_type": "code",
   "execution_count": null,
   "id": "f2c70930-890e-4773-b0b0-3cffb523c6bc",
   "metadata": {
    "tags": []
   },
   "outputs": [],
   "source": [
    "bigmat_abc_ig_list = [\n",
    "    np.mean(bigmat_abc[:,:,cond_sig_a_any], axis=-1),\n",
    "    np.mean(bigmat_abc[:,:,cond_sig_b_any], axis=-1),\n",
    "    np.mean(bigmat_abc[:,:,cond_sig_c_any], axis=-1),\n",
    "]\n",
    "\n",
    "redmat_abc_ig_list = [mean_over_samples(x) for x in bigmat_abc_ig_list]"
   ]
  },
  {
   "cell_type": "code",
   "execution_count": null,
   "id": "560c5bf8-7f6c-41e0-9640-645ca336a7dc",
   "metadata": {
    "tags": []
   },
   "outputs": [],
   "source": [
    "fig, axs = plt.subplots(1, 3, figsize=(3*3,1*3), sharex=True, sharey=True)\n",
    "for i in range(3):\n",
    "    ax = axs[i]\n",
    "    bigmat_mean_ig = bigmat_abc_ig_list[i]\n",
    "    redmat_mean_ig = redmat_abc_ig_list[i]\n",
    "\n",
    "    ax.plot(todo_samps_t[8:], bigmat_mean_ig[8:,0], 'o', markersize=5, fillstyle='none', color='C0')\n",
    "    ax.plot(todo_samps_t[8:], bigmat_mean_ig[8:,1], 'o', markersize=5, fillstyle='none', color='C1')\n",
    "    ax.plot(todo_samps_t[8:], bigmat_mean_ig[8:,2], 'o', markersize=5, fillstyle='none', color='C2')\n",
    "    \n",
    "    ax.plot(todo_conds_t[4:], redmat_mean_ig[4:,0], '-', color='C0')\n",
    "    ax.plot(todo_conds_t[4:], redmat_mean_ig[4:,1], '-', color='C1')\n",
    "    ax.plot(todo_conds_t[4:], redmat_mean_ig[4:,2], '-', color='C2')\n",
    "    \n",
    "    ax.grid(False)\n",
    "    ax.set_xticks([6,10,14,17,21])\n",
    "    sns.despine(ax=ax)\n",
    "\n",
    "axs[0].set_xlabel('Postnatal day (P)')\n",
    "axs[0].set_ylabel('Chromatin acc.\\nlog2(archetype / baseline)')\n",
    "axs[0].set_title(f'A regions\\nn={num_uniq_a:,}')\n",
    "axs[1].set_title(f'B regions\\nn={num_uniq_b:,}')\n",
    "axs[2].set_title(f'C regions\\nn={num_uniq_c:,}')\n",
    "output = os.path.join(outfigdir, 'abc_degs_signals_over_time.pdf') \n",
    "powerplots.savefig_autodate(fig, output)\n",
    "\n",
    "plt.show()"
   ]
  },
  {
   "cell_type": "code",
   "execution_count": null,
   "id": "ad905b45-6760-4627-b9e0-dbfe437a77fd",
   "metadata": {
    "tags": []
   },
   "outputs": [],
   "source": [
    "fig, axs = plt.subplots(1, 3, figsize=(3*3,1*3), sharex=True, sharey=True)\n",
    "for i in range(3):\n",
    "    ax = axs[i]\n",
    "    bigmat_mean_ig = bigmat_abc_ig_list[i]\n",
    "    redmat_mean_ig = redmat_abc_ig_list[i]\n",
    "    \n",
    "    ax.plot(todo_samps_t[8:], bigmat_mean_ig[8:,0], 'o', markersize=5, fillstyle='none', color='C0')\n",
    "    ax.plot(todo_samps_t[8:], bigmat_mean_ig[8:,1], 'o', markersize=5, fillstyle='none', color='C1')\n",
    "    ax.plot(todo_samps_t[8:], bigmat_mean_ig[8:,2], 'o', markersize=5, fillstyle='none', color='C2')\n",
    "    \n",
    "    ax.plot(todo_samps_t[:8], bigmat_mean_ig[:8,0], 's', markersize=5, fillstyle='none', color='C0', alpha=0.5)\n",
    "    ax.plot(todo_samps_t[:8], bigmat_mean_ig[:8,1], 's', markersize=5, fillstyle='none', color='C1', alpha=0.5)\n",
    "    ax.plot(todo_samps_t[:8], bigmat_mean_ig[:8,2], 's', markersize=5, fillstyle='none', color='C2', alpha=0.5)\n",
    "    \n",
    "    ax.plot(todo_conds_t[4:], redmat_mean_ig[4:,0], '-', color='C0')\n",
    "    ax.plot(todo_conds_t[4:], redmat_mean_ig[4:,1], '-', color='C1')\n",
    "    ax.plot(todo_conds_t[4:], redmat_mean_ig[4:,2], '-', color='C2')\n",
    "    \n",
    "    ax.plot(todo_conds_t[:4], redmat_mean_ig[:4,0], '-', color='C0', alpha=0.5)\n",
    "    ax.plot(todo_conds_t[:4], redmat_mean_ig[:4,1], '-', color='C1', alpha=0.5)\n",
    "    ax.plot(todo_conds_t[:4], redmat_mean_ig[:4,2], '-', color='C2', alpha=0.5)\n",
    "\n",
    "    ax.grid(False)\n",
    "    ax.set_xticks([6,10,14,17,21])\n",
    "    sns.despine(ax=ax)\n",
    "\n",
    "axs[0].set_xlabel('Postnatal day (P)')\n",
    "axs[0].set_ylabel('Chromatin acc.\\nlog2(archetype / baseline)')\n",
    "axs[0].set_title(f'A regions\\nn={num_uniq_a:,}')\n",
    "axs[1].set_title(f'B regions\\nn={num_uniq_b:,}')\n",
    "axs[2].set_title(f'C regions\\nn={num_uniq_c:,}')\n",
    "output = os.path.join(outfigdir, 'abc_degs_signals_over_time_withDR.pdf') \n",
    "powerplots.savefig_autodate(fig, output)\n",
    "plt.show()"
   ]
  },
  {
   "cell_type": "code",
   "execution_count": null,
   "id": "c2ebf846-db25-4662-933f-eb2ccf87d0ee",
   "metadata": {
    "tags": []
   },
   "outputs": [],
   "source": [
    "redmat_nfd = mean_over_samples(bigmat_nfd)\n",
    "fmat_nfd, zmat_nfd = transform_bigredmat(redmat_nfd)\n",
    "print(redmat_nfd.shape) # cond, type, gene\n",
    "print(fmat_nfd.shape)   # gene, cond*type\n",
    "print(zmat_nfd.shape)   # gene, cond*type\n",
    "\n",
    "fmat_nfd_ag = fmat_nfd[cond_sig_a_any]\n",
    "fmat_nfd_bg = fmat_nfd[cond_sig_b_any]\n",
    "fmat_nfd_cg = fmat_nfd[cond_sig_c_any]\n",
    "\n",
    "zmat_nfd_ag = zmat_nfd[cond_sig_a_any]\n",
    "zmat_nfd_bg = zmat_nfd[cond_sig_b_any]\n",
    "zmat_nfd_cg = zmat_nfd[cond_sig_c_any]\n",
    "\n",
    "print(fmat_nfd_ag.shape, zmat_nfd_ag.shape)"
   ]
  },
  {
   "cell_type": "code",
   "execution_count": null,
   "id": "9206ee3e-5f49-4e34-b3bc-7aad01024ffa",
   "metadata": {
    "tags": []
   },
   "outputs": [],
   "source": [
    "redmat_nfd_ag = redmat_nfd[:,:,cond_sig_a_any] #.shape\n",
    "redmat_nfd_bg = redmat_nfd[:,:,cond_sig_b_any] #.shape\n",
    "redmat_nfd_cg = redmat_nfd[:,:,cond_sig_c_any] #.shape\n",
    "redmat_nfd_ag.shape\n"
   ]
  },
  {
   "cell_type": "code",
   "execution_count": null,
   "id": "b956d5fd-8dbc-4387-8069-6d0f271eecea",
   "metadata": {
    "tags": []
   },
   "outputs": [],
   "source": [
    "from sklearn.cluster import KMeans\n",
    "\n",
    "def mean_shape(vec):\n",
    "    \"\"\"\n",
    "    \"\"\"\n",
    "    loc = np.arange(len(vec))\n",
    "    \n",
    "    # vec_n = (vec-np.min(vec))/(np.max(vec)-np.min(vec))\n",
    "    vec_n = np.clip(vec, 0, None)\n",
    "    vec_n = vec_n/np.sum(vec_n)\n",
    "    \n",
    "    ctrd = loc.dot(vec_n)\n",
    "    return ctrd\n",
    "\n",
    "def organize_zmat(zmat, fmat, redmat, title='', n_geneset_clsts=5, genes=None):\n",
    "    \"\"\"NOTE THAT THE ORDER OF COND is DIFFERRENT BETWEEN (zmat, fmat) - DR first) and (redmat) - NR first)\n",
    "    \"\"\"\n",
    "    method = KMeans(n_clusters=n_geneset_clsts, n_init=10, random_state=0)\n",
    "    geneset_clst = method.fit_predict(zmat)\n",
    "\n",
    "    # average over genes per geneset and cell clusters - leave genesets and conditions there\n",
    "    time_sketches = []\n",
    "    for i in range(n_geneset_clsts):\n",
    "        time_sketch = np.mean(redmat[:,:,geneset_clst==i], axis=2) # mean over genes\n",
    "        time_sketch = np.max(time_sketch, axis=1) # max over cell types\n",
    "        time_sketches.append(time_sketch)\n",
    "    time_sketches = np.vstack(time_sketches)[:,4:] # n_geneset_clsts, n_cond (select NR only)\n",
    "\n",
    "    # clst_order = [2,1,3,4,0]\n",
    "    # clst_order = np.argsort(np.argmax(ctrds, axis=1)) \n",
    "    clst_order = np.argsort([mean_shape(time_sketch) for time_sketch in time_sketches]) \n",
    "    geneset_clst_renamed = pd.Series({clst: i for i, clst in enumerate(clst_order)}).reindex(geneset_clst).values\n",
    "    geneset_order = np.argsort(geneset_clst_renamed)\n",
    "    \n",
    "    # reorder \n",
    "    genes_ordered = genes[geneset_order]\n",
    "    clsts_ordered = geneset_clst_renamed[geneset_order]\n",
    "    zmat_ordered = zmat[geneset_order] \n",
    "    fmat_ordered = fmat[geneset_order] \n",
    "    \n",
    "    # gene list per group\n",
    "    geneset_list = []\n",
    "    for i in range(n_geneset_clsts):\n",
    "        geneset_list.append(genes_ordered[clsts_ordered==i])\n",
    "    \n",
    "    res = {\n",
    "        'title': title,\n",
    "        'order': geneset_order,\n",
    "        'zmat':  zmat_ordered,\n",
    "        'fmat':  fmat_ordered,\n",
    "        'genes': genes_ordered,\n",
    "        'clst':  clsts_ordered,\n",
    "        'time_sketches':  time_sketches[clst_order],\n",
    "        'geneset_list': geneset_list,\n",
    "    }\n",
    "    return res"
   ]
  },
  {
   "cell_type": "code",
   "execution_count": null,
   "id": "52f02a35-16e7-44f1-86e6-28bb12049297",
   "metadata": {
    "tags": []
   },
   "outputs": [],
   "source": [
    "regions = adata_pk.var.index.values\n",
    "regions.shape"
   ]
  },
  {
   "cell_type": "code",
   "execution_count": null,
   "id": "8e16b2c0-d584-47a2-a3ab-61c1cd1e2fd1",
   "metadata": {
    "tags": []
   },
   "outputs": [],
   "source": [
    "res_a = organize_zmat(zmat_nfd_ag, fmat_nfd_ag, redmat_nfd_ag, title='A regions', genes=regions[cond_sig_a_any])\n",
    "res_b = organize_zmat(zmat_nfd_bg, fmat_nfd_bg, redmat_nfd_bg, title='B regions', genes=regions[cond_sig_b_any])\n",
    "res_c = organize_zmat(zmat_nfd_cg, fmat_nfd_cg, redmat_nfd_cg, title='C regions', genes=regions[cond_sig_c_any])"
   ]
  },
  {
   "cell_type": "code",
   "execution_count": null,
   "id": "3742d936-54c7-44ee-83cc-4a224accbbc7",
   "metadata": {
    "tags": []
   },
   "outputs": [],
   "source": [
    "\n",
    "for res in [res_a, res_c, res_b]:\n",
    "    fig, axs = plt.subplots(1,5,figsize=(5*3,1*3))\n",
    "    for i in range(5):\n",
    "        ax = axs[i]\n",
    "        ax.plot(res['time_sketches'][i])\n",
    "        ax.set_title(f\"{mean_shape(res['time_sketches'][i]):.2f}\")\n"
   ]
  },
  {
   "cell_type": "code",
   "execution_count": null,
   "id": "f744889d-fad2-4d60-8d24-1ce09aa04fdb",
   "metadata": {
    "tags": []
   },
   "outputs": [],
   "source": [
    "for res_this in [res_a, res_c, res_b]:\n",
    "    order = res_this['order']\n",
    "    title = res_this['title']\n",
    "    zmat  = res_this['zmat']\n",
    "    clsts = res_this['clst']\n",
    "    genes_this = res_this['genes']\n",
    "\n",
    "    fig, ax = plt.subplots(figsize=(10,12))\n",
    "\n",
    "    sns.heatmap(zmat, cmap='coolwarm', cbar_kws=dict(shrink=0.5), \n",
    "                yticklabels=5000,\n",
    "                vmax=3, vmin=-3,\n",
    "                rasterized=True,\n",
    "                ax=ax)\n",
    "    ax.set_xticks(0.5+np.arange(n_type))\n",
    "    # ax.set_yticks(0.5+np.arange(len(zmat)))\n",
    "    ax.set_xticklabels(['A', '<-', '-', '->', 'C'], fontsize=10, rotation=0)\n",
    "    ax.set_yticklabels(ax.get_yticklabels(), fontsize=10, rotation=0)\n",
    "    ax.set_title(title, pad=30)\n",
    "    \n",
    "    ax.hlines(np.cumsum(np.unique(clsts, return_counts=True)[1]), 0, 55, color='white', linewidth=1)\n",
    "    ax.vlines(np.arange(0,55,5), 0, len(zmat), color='white', linewidth=1)\n",
    "    ax.vlines(7*5, 0, len(zmat), color='black', linewidth=1)\n",
    "\n",
    "    ax.grid(False)\n",
    "    for i, cond in enumerate(np.hstack([todo_conds[4:], todo_conds[:4]])):\n",
    "        # ax.axvline(condcode*5, color='k', linestyle='--', linewidth=1)\n",
    "        ax.text(i*5, -0.5, f'{cond}', fontsize=10, va='bottom')\n",
    "\n",
    "    output = os.path.join(outfigdir, f'heatmap_{title[0]}.pdf')\n",
    "    powerplots.savefig_autodate(fig, output)\n",
    "    plt.show()"
   ]
  },
  {
   "cell_type": "code",
   "execution_count": null,
   "id": "ac835f2c-655d-4510-8858-da3e6800a9b7",
   "metadata": {
    "tags": []
   },
   "outputs": [],
   "source": [
    "res_b.keys()\n"
   ]
  },
  {
   "cell_type": "code",
   "execution_count": null,
   "id": "d3887331-9b5a-4573-bd4f-cd3e871e5418",
   "metadata": {
    "tags": []
   },
   "outputs": [],
   "source": [
    "res_b['order']"
   ]
  },
  {
   "cell_type": "code",
   "execution_count": null,
   "id": "cec15fb9-4806-46ce-91a3-f892d5096cdc",
   "metadata": {
    "tags": []
   },
   "outputs": [],
   "source": [
    "res_b['genes']"
   ]
  },
  {
   "cell_type": "code",
   "execution_count": null,
   "id": "b63a870f-9b6c-4d31-ac09-ce9fea27807c",
   "metadata": {
    "tags": []
   },
   "outputs": [],
   "source": [
    "res_b['clst']"
   ]
  },
  {
   "cell_type": "code",
   "execution_count": null,
   "id": "7c13dbc6-258f-43d5-8794-ece92bc1e6eb",
   "metadata": {
    "tags": []
   },
   "outputs": [],
   "source": [
    "res_b['genes'][res_b['clst']==1]\n",
    "# df_tosave = pd.DataFrame(list(pd.Series(res['geneset_list'][i]).str.split(pat=':|-'))).sort_values([0,1,2])#.shape #[res['clst']==0]"
   ]
  },
  {
   "cell_type": "code",
   "execution_count": null,
   "id": "ccd9aa3c-afa5-4b55-a1fb-e74e5e264385",
   "metadata": {
    "tags": []
   },
   "outputs": [],
   "source": [
    "res_b['geneset_list'][1]"
   ]
  },
  {
   "cell_type": "code",
   "execution_count": null,
   "id": "36da82f0-1ce3-4ef0-b95b-8db010b3536b",
   "metadata": {
    "tags": []
   },
   "outputs": [],
   "source": [
    "res_b['clst'][basicu.get_index_from_array(res_b['genes'], ['chr19:48254253-48254754'])]"
   ]
  },
  {
   "cell_type": "code",
   "execution_count": null,
   "id": "9ae00516-67ba-443d-ab1d-eb1742b74543",
   "metadata": {
    "tags": []
   },
   "outputs": [],
   "source": [
    "res_a['clst'][basicu.get_index_from_array(res_a['genes'], ['chr3:141618480-141618981'])]"
   ]
  },
  {
   "cell_type": "code",
   "execution_count": null,
   "id": "8ad49e50-2110-449b-86f4-395c216318da",
   "metadata": {
    "tags": []
   },
   "outputs": [],
   "source": [
    "res_c['clst'][basicu.get_index_from_array(res_c['genes'], ['chr17:52873088-52873589'])]"
   ]
  },
  {
   "cell_type": "code",
   "execution_count": null,
   "id": "feaf5d8b-a522-438e-b945-7ad23fa32219",
   "metadata": {},
   "outputs": [],
   "source": []
  },
  {
   "cell_type": "code",
   "execution_count": null,
   "id": "d69ea088-562e-4f87-9369-17162e1294f9",
   "metadata": {},
   "outputs": [],
   "source": []
  },
  {
   "cell_type": "code",
   "execution_count": null,
   "id": "7d6ff574-4f20-49e0-b8b8-2c103cc1e06d",
   "metadata": {},
   "outputs": [],
   "source": []
  },
  {
   "cell_type": "code",
   "execution_count": null,
   "id": "3f84ada8-18ed-4225-9911-b2abef2968a8",
   "metadata": {},
   "outputs": [],
   "source": []
  },
  {
   "cell_type": "code",
   "execution_count": null,
   "id": "ae9ffcc4-f421-48af-a568-0c8dbaeb78db",
   "metadata": {},
   "outputs": [],
   "source": [
    "for res_this in [res_a, res_c, res_b]:\n",
    "    order = res_this['order']\n",
    "    title = res_this['title']\n",
    "    zmat  = res_this['zmat']\n",
    "    clsts = res_this['clst']\n",
    "    genes_this = res_this['genes']\n",
    "\n",
    "    fig, ax = plt.subplots(figsize=(10,2))\n",
    "\n",
    "    ctrds = np.array([np.mean(zmat[clsts==i], axis=0) for i in range(5)])\n",
    "    sns.heatmap(ctrds, cmap='coolwarm', cbar_kws=dict(shrink=0.5), \n",
    "                vmax=2, vmin=-2,\n",
    "                rasterized=True,\n",
    "                ax=ax)\n",
    "    ax.set_xticks(0.5+np.arange(n_type))\n",
    "    ax.set_xticklabels(['A', '<-', '-', '->', 'C'], fontsize=10, rotation=0)\n",
    "    ax.set_title(title, pad=30)\n",
    "    \n",
    "    ax.hlines(np.cumsum(np.unique(clsts, return_counts=True)[1]), 0, 55, color='white', linewidth=1)\n",
    "    ax.vlines(np.arange(0,55,5), 0, 5, color='white', linewidth=1)\n",
    "    ax.vlines(7*5, 0, 5, color='black', linewidth=1)\n",
    "\n",
    "    ax.grid(False)\n",
    "    for i, cond in enumerate(np.hstack([todo_conds[4:], todo_conds[:4]])):\n",
    "        # ax.axvline(condcode*5, color='k', linestyle='--', linewidth=1)\n",
    "        ax.text(i*5, -0.5, f'{cond}', fontsize=10, va='bottom')\n",
    "\n",
    "    # output = os.path.join(outfigdir, f'heatmap_centroids_{title[0]}.pdf')\n",
    "    # powerplots.savefig_autodate(fig, output)\n",
    "    plt.show()\n",
    "    "
   ]
  },
  {
   "cell_type": "code",
   "execution_count": null,
   "id": "565ca479-49b5-4557-9f36-6a22f5c7558b",
   "metadata": {},
   "outputs": [],
   "source": [
    "for res_this in [res_a, res_c, res_b]:\n",
    "    title = res_this['title']\n",
    "    zmat  = res_this['zmat']\n",
    "    clsts = res_this['clst']\n",
    "\n",
    "    fig, ax = plt.subplots(figsize=(8,2))\n",
    "\n",
    "    ctrds = np.array([np.mean(zmat[clsts==i], axis=0) for i in range(5)])\n",
    "    ctrds = ctrds[:,:-5*4]\n",
    "    sns.heatmap(ctrds, cmap='coolwarm', cbar_kws=dict(shrink=0.5), \n",
    "                vmax=2, vmin=-2,\n",
    "                rasterized=True,\n",
    "                ax=ax)\n",
    "    ax.set_xticks(0.5+np.arange(n_type))\n",
    "    ax.set_xticklabels(['A', '<-', '-', '->', 'C'], fontsize=10, rotation=0)\n",
    "    ax.set_title(title, pad=30)\n",
    "    \n",
    "    num_clsts = np.unique(clsts, return_counts=True)[1]\n",
    "    ax.set_yticklabels([f'{title[0]}{i+1} ({num_clsts[i]}r)' for i in range(5)], rotation=0)\n",
    "    ax.vlines(np.arange(0,5*7,5), 0, 5, color='white', linewidth=1)\n",
    "\n",
    "    ax.grid(False)\n",
    "    for i, cond in enumerate(np.hstack([todo_conds[4:]])):\n",
    "        ax.text(i*5, -0.5, f'{cond}', fontsize=10, va='bottom')\n",
    "\n",
    "    output = os.path.join(outfigdir, f'heatmap_centroids_{title[0]}.pdf')\n",
    "    powerplots.savefig_autodate(fig, output)\n",
    "    plt.show()\n",
    "    # break\n",
    "    "
   ]
  },
  {
   "cell_type": "markdown",
   "id": "a2cf57a8-d34b-4a77-972d-1d898d16270d",
   "metadata": {},
   "source": [
    "# Profile these modules"
   ]
  },
  {
   "cell_type": "code",
   "execution_count": null,
   "id": "e596f55a-7f4e-4b22-88ca-7b71dc303128",
   "metadata": {},
   "outputs": [],
   "source": [
    "times = np.array([6,8,10,12,14,17,21])\n",
    "dr_times = np.array([12,14,17,21])"
   ]
  },
  {
   "cell_type": "code",
   "execution_count": null,
   "id": "e9842e64-0c58-4518-8dd6-79f65c9fca6b",
   "metadata": {
    "tags": []
   },
   "outputs": [],
   "source": [
    "from matplotlib.colors import LinearSegmentedColormap\n",
    "\n",
    "colors_a = [(0.0, 'black'), (1.0, 'C0')]      \n",
    "colors_b = [(0.0, 'black'), (1.0, 'C1')]      \n",
    "colors_c = [(0.0, 'black'), (1.0, 'C2')]      \n",
    "\n",
    "# Create a custom colormap using LinearSegmentedColormap\n",
    "cmap_a = LinearSegmentedColormap.from_list('cmap_a', colors_a)\n",
    "cmap_b = LinearSegmentedColormap.from_list('cmap_b', colors_b)\n",
    "cmap_c = LinearSegmentedColormap.from_list('cmap_c', colors_c)\n",
    "\n",
    "colors_l23 = [\n",
    "    np.array(cmap_a(1.0)),\n",
    "    0.7*np.array(cmap_a(1.0))+0.3*np.array(cmap_b(1.0)),\n",
    "    np.array(cmap_b(1.0)),\n",
    "    0.7*np.array(cmap_b(1.0))+0.3*np.array(cmap_c(1.0)),\n",
    "    np.array(cmap_c(1.0)),\n",
    "]"
   ]
  },
  {
   "cell_type": "markdown",
   "id": "d4ee5c48-cf74-438d-b527-bc3c517beb73",
   "metadata": {},
   "source": [
    "# Another version with ABC scores\n",
    "- and replicates"
   ]
  },
  {
   "cell_type": "code",
   "execution_count": null,
   "id": "198c7baa-e708-4e46-8832-0255bbc4a891",
   "metadata": {},
   "outputs": [],
   "source": [
    "        \n",
    "for suptitle, res_this, cond_sig_i_any in zip(\n",
    "    ['A_genes', 'C_genes', 'B_genes',],\n",
    "    [res_a, res_c, res_b,],\n",
    "    [cond_sig_a_any, cond_sig_c_any, cond_sig_b_any,],\n",
    "    ):\n",
    "    order = res_this['order']\n",
    "    clsts = res_this['clst']\n",
    "    bigmat_abc_ig_order = bigmat_abc[:,:,cond_sig_i_any][:,:,order] # .shape\n",
    "    \n",
    "    fig, axs = plt.subplots(1, 5, figsize=(3*5,1*4), sharex=True, sharey=True)\n",
    "    for i in range(5):\n",
    "        ax = axs[i]\n",
    "        num = (clsts==i).sum()\n",
    "        # prop = (clsts == i).sum() / len(clsts) \n",
    "\n",
    "        big_y = np.mean(bigmat_abc_ig_order[:,:,clsts==i], axis=2)#.reshape(11,5)[:-4]# [nr_condcodes] # .shape\n",
    "        red_y = mean_over_samples(big_y) # np.mean(bigmat_abc_ag_order[:,:,clsts==i], axis=2)#.reshape(11,5)[:-4]# [nr_condcodes] # .shape\n",
    "\n",
    "        ax.plot(todo_samps_t[8:], big_y[8:,0], 'o', markersize=5, fillstyle='none', color='C0')\n",
    "        ax.plot(todo_samps_t[8:], big_y[8:,1], 'o', markersize=5, fillstyle='none', color='C1')\n",
    "        ax.plot(todo_samps_t[8:], big_y[8:,2], 'o', markersize=5, fillstyle='none', color='C2')\n",
    "\n",
    "        ax.plot(todo_conds_t[4:], red_y[4:,0], '-', color='C0')\n",
    "        ax.plot(todo_conds_t[4:], red_y[4:,1], '-', color='C1')\n",
    "        ax.plot(todo_conds_t[4:], red_y[4:,2], '-', color='C2')\n",
    "\n",
    "        ax.grid(False, axis='x')\n",
    "        ax.set_xticks([6,10,14,17,21])\n",
    "        sns.despine(ax=ax)\n",
    "        ax.set_title(f'{suptitle[0]}{i+1}: {num} regions')\n",
    "\n",
    "    axs[0].set_xlabel('Postnatal day (P)')\n",
    "    axs[0].set_ylabel('Gene expr.\\nlog2(archetype / baseline)')\n",
    "    output = os.path.join(outfigdir, f'gene_groups_abc_v4_{suptitle}.pdf') \n",
    "    powerplots.savefig_autodate(fig, output)\n",
    "    plt.show()"
   ]
  },
  {
   "cell_type": "code",
   "execution_count": null,
   "id": "93d47d84-f8ce-42fe-afd4-cb6ed8b521cc",
   "metadata": {},
   "outputs": [],
   "source": [
    "        \n",
    "for suptitle, res_this, cond_sig_i_any in zip(\n",
    "    ['A_genes', 'C_genes', 'B_genes',],\n",
    "    [res_a, res_c, res_b,],\n",
    "    [cond_sig_a_any, cond_sig_c_any, cond_sig_b_any,],\n",
    "    ):\n",
    "    order = res_this['order']\n",
    "    clsts = res_this['clst']\n",
    "    bigmat_abc_ig_order = bigmat_abc[:,:,cond_sig_i_any][:,:,order] # .shape\n",
    "    \n",
    "    fig, axs = plt.subplots(1, 5, figsize=(3*5,1*4), sharex=True, sharey=True)\n",
    "    for i in range(5):\n",
    "        ax = axs[i]\n",
    "        prop = (clsts == i).sum() / len(clsts) \n",
    "\n",
    "        big_y = np.mean(bigmat_abc_ig_order[:,:,clsts==i], axis=2)#.reshape(11,5)[:-4]# [nr_condcodes] # .shape\n",
    "        red_y = mean_over_samples(big_y) # np.mean(bigmat_abc_ag_order[:,:,clsts==i], axis=2)#.reshape(11,5)[:-4]# [nr_condcodes] # .shape\n",
    "\n",
    "        ax.plot(todo_samps_t[8:], big_y[8:,0], 'o', markersize=5, fillstyle='none', color='C0')\n",
    "        ax.plot(todo_samps_t[8:], big_y[8:,1], 'o', markersize=5, fillstyle='none', color='C1')\n",
    "        ax.plot(todo_samps_t[8:], big_y[8:,2], 'o', markersize=5, fillstyle='none', color='C2')\n",
    "\n",
    "        ax.plot(todo_conds_t[4:], red_y[4:,0], '-', color='C0')\n",
    "        ax.plot(todo_conds_t[4:], red_y[4:,1], '-', color='C1')\n",
    "        ax.plot(todo_conds_t[4:], red_y[4:,2], '-', color='C2')\n",
    "\n",
    "        # DR\n",
    "        ax.plot(todo_samps_t[:8], big_y[:8,0], 's', markersize=5, fillstyle='none', color='C0')\n",
    "        ax.plot(todo_samps_t[:8], big_y[:8,1], 's', markersize=5, fillstyle='none', color='C1')\n",
    "        ax.plot(todo_samps_t[:8], big_y[:8,2], 's', markersize=5, fillstyle='none', color='C2')\n",
    "\n",
    "        ax.plot(todo_conds_t[:4], red_y[:4,0], '-', color='C0', alpha=0.5)\n",
    "        ax.plot(todo_conds_t[:4], red_y[:4,1], '-', color='C1', alpha=0.5)\n",
    "        ax.plot(todo_conds_t[:4], red_y[:4,2], '-', color='C2', alpha=0.5)\n",
    "        \n",
    "        ax.grid(False, axis='x')\n",
    "        ax.set_xticks([6,10,14,17,21])\n",
    "        sns.despine(ax=ax)\n",
    "        ax.set_title(f'{suptitle[0]}{i+1}: {prop*100: .1f}%')\n",
    "\n",
    "    axs[0].set_xlabel('Postnatal day (P)')\n",
    "    axs[0].set_ylabel('Gene expr.\\nlog2(archetype / baseline)')\n",
    "    output = os.path.join(outfigdir, f'gene_groups_abc_v4_{suptitle}_DR.pdf') \n",
    "    powerplots.savefig_autodate(fig, output)\n",
    "    plt.show()"
   ]
  },
  {
   "cell_type": "code",
   "execution_count": null,
   "id": "d922fdc3-e4b3-44ec-80a3-5a8c83849014",
   "metadata": {},
   "outputs": [],
   "source": [
    "for suptitle, res_this, cond_sig_i_any in zip(\n",
    "    ['A_genes', 'C_genes', 'B_genes',],\n",
    "    [res_a, res_c, res_b,],\n",
    "    [cond_sig_a_any, cond_sig_c_any, cond_sig_b_any,],\n",
    "    ):\n",
    "    order = res_this['order']\n",
    "    clsts = res_this['clst']\n",
    "    bigmat_abc_ig_order = bigmat_abc[:,:,cond_sig_i_any][:,:,order] # .shape\n",
    "    \n",
    "    fig, axs = plt.subplots(1, 5, figsize=(5*3,1*4), sharex=True, sharey=True)\n",
    "    for i in range(5):\n",
    "        ax = axs[i]\n",
    "        prop = (clsts == i).sum() / len(clsts) \n",
    "\n",
    "        big_y = np.mean(bigmat_abc_ig_order[:,:,clsts==i], axis=2)#.reshape(11,5)[:-4]# [nr_condcodes] # .shape\n",
    "        red_y = mean_over_samples(big_y) # np.mean(bigmat_abc_ag_order[:,:,clsts==i], axis=2)#.reshape(11,5)[:-4]# [nr_condcodes] # .shape\n",
    "\n",
    "        ax.plot(todo_samps_t[8:], big_y[8:,0], 'o', markersize=5, fillstyle='none', color='C0')\n",
    "        ax.plot(todo_samps_t[8:], big_y[8:,1], 'o', markersize=5, fillstyle='none', color='C1')\n",
    "        ax.plot(todo_samps_t[8:], big_y[8:,2], 'o', markersize=5, fillstyle='none', color='C2')\n",
    "\n",
    "        ax.plot(todo_conds_t[4:], red_y[4:,0], '-', color='C0')\n",
    "        ax.plot(todo_conds_t[4:], red_y[4:,1], '-', color='C1')\n",
    "        ax.plot(todo_conds_t[4:], red_y[4:,2], '-', color='C2')\n",
    "\n",
    "        # DR\n",
    "        plot_offset = 12\n",
    "        ax.axvspan(12-2+1            , 21+1            , color='orange', alpha=0.1, linewidth=0, zorder=0)\n",
    "        ax.axvspan(12-2+1+plot_offset, 21+1+plot_offset, color='lightgray', alpha=0.3, linewidth=0, zorder=0)\n",
    "        \n",
    "        ax.plot(todo_samps_t[:8]+plot_offset, big_y[:8,0], 's', markersize=5, fillstyle='none', color='C0')\n",
    "        ax.plot(todo_samps_t[:8]+plot_offset, big_y[:8,1], 's', markersize=5, fillstyle='none', color='C1')\n",
    "        ax.plot(todo_samps_t[:8]+plot_offset, big_y[:8,2], 's', markersize=5, fillstyle='none', color='C2')\n",
    "\n",
    "        ax.plot(todo_conds_t[:4]+plot_offset, red_y[:4,0], '--', color='C0', alpha=1)\n",
    "        ax.plot(todo_conds_t[:4]+plot_offset, red_y[:4,1], '--', color='C1', alpha=1)\n",
    "        ax.plot(todo_conds_t[:4]+plot_offset, red_y[:4,2], '--', color='C2', alpha=1)\n",
    "        \n",
    "        ax.grid(False, axis='x')\n",
    "        ax.set_xticks([6, 12, 21, \n",
    "                          12+plot_offset, 21+plot_offset])\n",
    "        ax.set_xticklabels([6, 12, 21, \n",
    "                               12, 21])\n",
    "        sns.despine(ax=ax)\n",
    "        ax.set_title(f'{suptitle[0]}{i+1}: {prop*100: .1f}%')\n",
    "\n",
    "    axs[0].set_xlabel('Postnatal day (P)')\n",
    "    axs[0].set_ylabel('Gene expr.\\nlog2(archetype / baseline)')\n",
    "    fig.tight_layout()\n",
    "    \n",
    "    output = os.path.join(outfigdir, f'gene_groups_abc_v4_{suptitle}_DR2.pdf') \n",
    "    powerplots.savefig_autodate(fig, output)\n",
    "    plt.show()\n",
    "    \n",
    "    # break"
   ]
  },
  {
   "cell_type": "markdown",
   "id": "f3c0b261-aa06-424d-ad07-56823ab446f5",
   "metadata": {},
   "source": [
    "# Quantify time vs DR effect\n",
    "- late are DR sensitive\n",
    "- (P21NR-P10NR) vs (P21NR vs DR)\n",
    "- refine this as the average time effect vs average DR effect"
   ]
  },
  {
   "cell_type": "code",
   "execution_count": null,
   "id": "19f39b06-b77c-478c-b522-55568fae5872",
   "metadata": {
    "tags": []
   },
   "outputs": [],
   "source": [
    "from sklearn.metrics import r2_score"
   ]
  },
  {
   "cell_type": "code",
   "execution_count": null,
   "id": "1b5ea3b8-af9e-48e0-919c-12b51d6759df",
   "metadata": {
    "tags": []
   },
   "outputs": [],
   "source": [
    "dels = np.zeros((2,3,5)) # time vs vision; ABC; 5 gene sets \n",
    "\n",
    "for j, (res_this, cond_sig_i_any) in enumerate(zip(\n",
    "    [res_a, res_b, res_c,],\n",
    "    [cond_sig_a_any, cond_sig_b_any, cond_sig_c_any,],\n",
    "    )):\n",
    "    order = res_this['order']\n",
    "    clsts = res_this['clst']\n",
    "    bigmat_abc_ig_order = bigmat_abc[:,:,cond_sig_i_any][:,:,order] # .shape\n",
    "    \n",
    "    for i in range(5):\n",
    "        big_y = np.mean(bigmat_abc_ig_order[:,:,clsts==i], axis=2)\n",
    "        red_y = mean_over_samples(big_y) \n",
    "        \n",
    "        del_t = np.mean(red_y[7+3]-red_y[3+3]) # mean over ABC\n",
    "        \n",
    "        del_v21 = np.mean(-red_y[7+3]+red_y[3]) # mean over ABC\n",
    "        del_v17 = np.mean(-red_y[7+2]+red_y[2])\n",
    "        del_v14 = np.mean(-red_y[7+1]+red_y[1])\n",
    "        del_v12 = np.mean(-red_y[7+0]+red_y[0])\n",
    "        \n",
    "        del_varr = np.array([del_v21, del_v17, del_v14, del_v12])\n",
    "        del_v = np.mean(del_varr) # mean over time\n",
    "        # del_v = del_varr[np.argmax(np.abs(del_varr))] # max over time\n",
    "        \n",
    "        dels[0, j, i] = del_t\n",
    "        dels[1, j, i] = del_v"
   ]
  },
  {
   "cell_type": "code",
   "execution_count": null,
   "id": "7a520bda-1866-4a9e-a473-b686b6bd81d7",
   "metadata": {
    "tags": []
   },
   "outputs": [],
   "source": [
    "_x = dels[0]\n",
    "_y = dels[1]\n",
    "\n",
    "_xflat, _yflat = _x.reshape(-1,), _y.reshape(-1,)\n",
    "r, _ = stats.pearsonr(_xflat, _yflat)\n",
    "slope, intercept = np.polyfit(_xflat, _yflat, 1)\n",
    "xbase = np.linspace(-1.5,1.5,5) \n",
    "ybase = slope*xbase + intercept\n",
    "r2 = r2_score(_yflat, _xflat*slope+intercept)\n",
    "\n",
    "assert r**2 - r2 < 1e-3\n",
    "\n",
    "fig, ax = plt.subplots(figsize=(5,4))\n",
    "ax.scatter(_x[0], _y[0])\n",
    "ax.scatter(_x[1], _y[1])\n",
    "ax.scatter(_x[2], _y[2])\n",
    "for i, (xt, yt) in enumerate(zip(_x[0], _y[0])): \n",
    "    ax.text(xt, yt+0.01, f'A{i+1}', fontsize=8, va='bottom', ha='center',)\n",
    "for i, (xt, yt) in enumerate(zip(_x[1], _y[1])): \n",
    "    ax.text(xt, yt+0.01, f'B{i+1}', fontsize=8, va='bottom', ha='center',)\n",
    "for i, (xt, yt) in enumerate(zip(_x[2], _y[2])): \n",
    "    ax.text(xt, yt+0.01, f'C{i+1}', fontsize=8, va='bottom', ha='center',)\n",
    "    \n",
    "ax.plot(xbase, ybase, '--k', linewidth=1, zorder=0)\n",
    "ax.axvline(0, color='gray',  linewidth=1, zorder=0)\n",
    "ax.axhline(0, color='gray',  linewidth=1, zorder=0)\n",
    "ax.grid(False)\n",
    "sns.despine(ax=ax)\n",
    "ax.set_ylabel('log2(DR/NR)')\n",
    "ax.set_xlabel('log2(P21/P10)')\n",
    "ax.set_title(f'y={slope:.2f}x{intercept:.2f}; r={r:.2f}', fontsize=15)\n",
    "\n",
    "output = os.path.join(outfigdir, f'time_vs_dr_linear.pdf') \n",
    "powerplots.savefig_autodate(fig, output)\n",
    "plt.show()"
   ]
  },
  {
   "cell_type": "markdown",
   "id": "321cb819-0c13-42ae-8bb7-260f3fe3e6da",
   "metadata": {},
   "source": [
    "# Check individual regions"
   ]
  },
  {
   "cell_type": "code",
   "execution_count": null,
   "id": "1f004cee-d8a2-42f8-9dd0-28ccce2570f2",
   "metadata": {
    "tags": []
   },
   "outputs": [],
   "source": [
    "def plot_genes(query):\n",
    "    n = len(query)\n",
    "    fig, axs = plt.subplots(1, n, figsize=(n*3,1*4), sharex=True) # , sharey=True)\n",
    "    for i in range(n):\n",
    "        ax = axs[i]\n",
    "        gn = query[i]\n",
    "        gidx = query_idx[i]\n",
    "\n",
    "        big_y = bigmat_abc[:,:,gidx]\n",
    "        red_y = mean_over_samples(big_y) \n",
    "\n",
    "        ax.plot(todo_samps_t[8:], big_y[8:,0], 'o', markersize=5, fillstyle='none', color='C0')\n",
    "        ax.plot(todo_samps_t[8:], big_y[8:,1], 'o', markersize=5, fillstyle='none', color='C1')\n",
    "        ax.plot(todo_samps_t[8:], big_y[8:,2], 'o', markersize=5, fillstyle='none', color='C2')\n",
    "\n",
    "        ax.plot(todo_conds_t[4:], red_y[4:,0], '-', color='C0')\n",
    "        ax.plot(todo_conds_t[4:], red_y[4:,1], '-', color='C1')\n",
    "        ax.plot(todo_conds_t[4:], red_y[4:,2], '-', color='C2')\n",
    "\n",
    "        # DR\n",
    "        plot_offset = 12\n",
    "        ax.axvspan(12-2+1            , 21+1            , color='orange', alpha=0.1, linewidth=0, zorder=0)\n",
    "        ax.axvspan(12-2+1+plot_offset, 21+1+plot_offset, color='lightgray', alpha=0.3, linewidth=0, zorder=0)\n",
    "\n",
    "        ax.plot(todo_samps_t[:8]+plot_offset, big_y[:8,0], 's', markersize=5, fillstyle='none', color='C0')\n",
    "        ax.plot(todo_samps_t[:8]+plot_offset, big_y[:8,1], 's', markersize=5, fillstyle='none', color='C1')\n",
    "        ax.plot(todo_samps_t[:8]+plot_offset, big_y[:8,2], 's', markersize=5, fillstyle='none', color='C2')\n",
    "\n",
    "        ax.plot(todo_conds_t[:4]+plot_offset, red_y[:4,0], '--', color='C0', alpha=1)\n",
    "        ax.plot(todo_conds_t[:4]+plot_offset, red_y[:4,1], '--', color='C1', alpha=1)\n",
    "        ax.plot(todo_conds_t[:4]+plot_offset, red_y[:4,2], '--', color='C2', alpha=1)\n",
    "\n",
    "        ax.grid(False, axis='x')\n",
    "        ax.set_xticks([6, 12, 21, \n",
    "                          12+plot_offset, 21+plot_offset])\n",
    "        ax.set_xticklabels([6, 12, 21, \n",
    "                               12, 21])\n",
    "        sns.despine(ax=ax)\n",
    "        ax.set_title(gn)\n",
    "\n",
    "    axs[0].set_xlabel('Postnatal day (P)')\n",
    "    axs[0].set_ylabel('Gene expr.\\nlog2(archetype / baseline)')\n",
    "    fig.tight_layout()\n",
    "\n",
    "    # output = os.path.join(outfigdir, f'gene_groups_abc_v4_{suptitle}_DR2.pdf') \n",
    "    # powerplots.savefig_autodate(fig, output)\n",
    "    plt.show()\n",
    "    \n",
    "def plot_genes_nr(query, output=None):\n",
    "    n = len(query)\n",
    "    fig, axs = plt.subplots(1, n, figsize=(n*3,1*4), sharex=True) # , sharey=True)\n",
    "    for i in range(n):\n",
    "        ax = axs[i]\n",
    "        gn = query[i]\n",
    "        gidx = query_idx[i]\n",
    "\n",
    "        big_y = bigmat_abc[:,:,gidx]\n",
    "        red_y = mean_over_samples(big_y) \n",
    "\n",
    "        ax.plot(todo_samps_t[8:], big_y[8:,0], 'o', markersize=5, fillstyle='none', color='C0')\n",
    "        ax.plot(todo_samps_t[8:], big_y[8:,1], 'o', markersize=5, fillstyle='none', color='C1')\n",
    "        ax.plot(todo_samps_t[8:], big_y[8:,2], 'o', markersize=5, fillstyle='none', color='C2')\n",
    "\n",
    "        ax.plot(todo_conds_t[4:], red_y[4:,0], '-', color='C0')\n",
    "        ax.plot(todo_conds_t[4:], red_y[4:,1], '-', color='C1')\n",
    "        ax.plot(todo_conds_t[4:], red_y[4:,2], '-', color='C2')\n",
    "\n",
    "\n",
    "        ax.grid(False, axis='x')\n",
    "        ax.set_xticks([6, 10, 14, 21])\n",
    "        sns.despine(ax=ax)\n",
    "        ax.set_title(gn)\n",
    "\n",
    "    axs[0].set_xlabel('Postnatal day (P)')\n",
    "    axs[0].set_ylabel('Gene expr.\\nlog2(archetype / baseline)')\n",
    "    fig.tight_layout()\n",
    "\n",
    "    if output is not None:\n",
    "        powerplots.savefig_autodate(fig, output)\n",
    "    plt.show()"
   ]
  },
  {
   "cell_type": "code",
   "execution_count": null,
   "id": "57a4fb3a-8475-42c5-81b9-4c751feb21cc",
   "metadata": {
    "tags": []
   },
   "outputs": [],
   "source": [
    "bigmat_abc.shape"
   ]
  },
  {
   "cell_type": "code",
   "execution_count": null,
   "id": "6a1a18c5-99c2-40c0-9388-8d577afe6335",
   "metadata": {},
   "outputs": [],
   "source": [
    "query = c_all[:5]\n",
    "query_idx = basicu.get_index_from_array(regions, query)\n",
    "print(query_idx)\n",
    "plot_genes_nr(query)\n",
    "\n",
    "plot_genes(query)"
   ]
  },
  {
   "cell_type": "markdown",
   "id": "376c005f-6b60-4a92-9391-88207566439e",
   "metadata": {},
   "source": [
    "# export bed files - for TFBS enrichment analysis"
   ]
  },
  {
   "cell_type": "code",
   "execution_count": null,
   "id": "3fcc5544-bdba-4a89-a6cc-c69bd07fd97a",
   "metadata": {
    "tags": []
   },
   "outputs": [],
   "source": [
    "peakset = pd.DataFrame(list(adata_pk.var.index.str.split(pat=':|-'))) # \n",
    "peakset"
   ]
  },
  {
   "cell_type": "code",
   "execution_count": null,
   "id": "4017b4f9-5ddf-40ea-9055-47f5812a3fee",
   "metadata": {
    "tags": []
   },
   "outputs": [],
   "source": [
    "for j in range(3):\n",
    "    res = [res_a, res_b, res_c][j]\n",
    "    tag = ['A', 'B', 'C'][j]\n",
    "    \n",
    "    for i in range(5):\n",
    "        fout = f'~/v1_multiome/L23{tag}_regions_M{i+1}.bed'\n",
    "        print(fout)\n",
    "        df_tosave = pd.DataFrame(list(pd.Series(res['geneset_list'][i]).str.split(pat=':|-'))).sort_values([0,1,2])#.shape #[res['clst']==0]\n",
    "        df_tosave.to_csv(fout, sep='\\t', header=False, index=False)\n"
   ]
  },
  {
   "cell_type": "code",
   "execution_count": null,
   "id": "7f3b1109-6fcb-4b58-867d-e23d06e02b4d",
   "metadata": {},
   "outputs": [],
   "source": [
    "# bedtofasta\n",
    "# for i in *.bed; do j=${i/bed/fasta}; echo $i, $j; bedtools getfasta -fi ~/project-zipursky/v1-bb/v1/results_atac/mm10.fna -bed $i -fo $j; done"
   ]
  },
  {
   "cell_type": "code",
   "execution_count": null,
   "id": "d006e7ea-6ed6-4a35-b152-fd9b9529b591",
   "metadata": {
    "tags": []
   },
   "outputs": [],
   "source": [
    "# run AME"
   ]
  },
  {
   "cell_type": "code",
   "execution_count": null,
   "id": "142609d9-f49d-41a1-ac3f-0cf912a81966",
   "metadata": {},
   "outputs": [],
   "source": [
    "# report ABC as a whole"
   ]
  },
  {
   "cell_type": "code",
   "execution_count": null,
   "id": "f457bc78-f6d7-48d1-b2f1-6466dca7c489",
   "metadata": {
    "tags": []
   },
   "outputs": [],
   "source": [
    "peakset_a = peakset[np.any(cond_sig_a, axis=0)]\n",
    "peakset_b = peakset[np.any(cond_sig_b, axis=0)]\n",
    "peakset_c = peakset[np.any(cond_sig_c, axis=0)]\n",
    "print(peakset_a.shape, peakset_b.shape, peakset_c.shape)\n",
    "peakset_a"
   ]
  },
  {
   "cell_type": "code",
   "execution_count": null,
   "id": "3f88eedb-8438-4649-bbce-8f8aba6e25df",
   "metadata": {
    "tags": []
   },
   "outputs": [],
   "source": [
    "f_a = \"/u/home/f/f7xiesnm/v1_multiome/atac_fragments/frag_bed/processed_peaks/consensus_peaks_v2_DAR_A.bed\" \n",
    "f_b = \"/u/home/f/f7xiesnm/v1_multiome/atac_fragments/frag_bed/processed_peaks/consensus_peaks_v2_DAR_B.bed\" \n",
    "f_c = \"/u/home/f/f7xiesnm/v1_multiome/atac_fragments/frag_bed/processed_peaks/consensus_peaks_v2_DAR_C.bed\" \n",
    "\n",
    "# peakset_a.to_csv(f_a, sep='\\t', header=False, index=False)\n",
    "# peakset_b.to_csv(f_b, sep='\\t', header=False, index=False)\n",
    "# peakset_c.to_csv(f_c, sep='\\t', header=False, index=False)"
   ]
  },
  {
   "cell_type": "code",
   "execution_count": null,
   "id": "530979de-4c88-4411-85e7-1ad1afa0d233",
   "metadata": {},
   "outputs": [],
   "source": []
  },
  {
   "cell_type": "code",
   "execution_count": null,
   "id": "6320013e-5a23-4206-939b-55c9b360d4ae",
   "metadata": {},
   "outputs": [],
   "source": []
  }
 ],
 "metadata": {
  "kernelspec": {
   "display_name": "napari",
   "language": "python",
   "name": "napari"
  },
  "language_info": {
   "codemirror_mode": {
    "name": "ipython",
    "version": 3
   },
   "file_extension": ".py",
   "mimetype": "text/x-python",
   "name": "python",
   "nbconvert_exporter": "python",
   "pygments_lexer": "ipython3",
   "version": "3.9.16"
  }
 },
 "nbformat": 4,
 "nbformat_minor": 5
}
