{
 "cells": [
  {
   "cell_type": "code",
   "execution_count": null,
   "id": "2c1e5769-d023-451b-9fbc-e5ff9ae2b2d2",
   "metadata": {
    "tags": []
   },
   "outputs": [],
   "source": [
    "import snapatac2 as snap\n",
    "import anndata as sc"
   ]
  },
  {
   "cell_type": "code",
   "execution_count": null,
   "id": "cbf5099f-53b3-4655-bbd2-c17776a3fddd",
   "metadata": {
    "tags": []
   },
   "outputs": [],
   "source": [
    "snap.__version__"
   ]
  },
  {
   "cell_type": "code",
   "execution_count": null,
   "id": "ebf7059e-89df-4bbe-961c-05874126851e",
   "metadata": {
    "tags": []
   },
   "outputs": [],
   "source": [
    "dir(snap.genome)"
   ]
  },
  {
   "cell_type": "code",
   "execution_count": null,
   "id": "bcb5c8a0-91cd-41a5-9d61-4f9e984d03c6",
   "metadata": {},
   "outputs": [],
   "source": [
    "# get all 300,000 peaks\n",
    "# get peak file\n",
    "\n",
    "# %%time\n",
    "# f = f'/u/home/f/f7xiesnm/project-zipursky/v1-bb/v1/data/v1_multiome/P6_ATAC_L23_peakbycell_filtered.h5ad'\n",
    "# adata_pk = sc.read(f)\n",
    "\n",
    "# beddf = adata_pk.var.copy() \n",
    "# beddf['chrom'] = beddf['peak'].apply(lambda x: x.split(':')[0])\n",
    "# beddf['start'] = beddf['peak'].apply(lambda x: x.split(':')[1].split('-')[0])\n",
    "# beddf['end']   = beddf['peak'].apply(lambda x: x.split(':')[1].split('-')[1])\n",
    "# beddf = beddf[['chrom', 'start', 'end']]\n",
    "# beddf.to_csv('/u/home/f/f7xiesnm/project-zipursky/v1-bb/v1/results_atac/all_l23_peaks_sal.bed', sep='\\t', header=False, index=False)"
   ]
  },
  {
   "cell_type": "code",
   "execution_count": null,
   "id": "9e06702f-ceeb-49aa-aa12-86d137bd4503",
   "metadata": {
    "tags": []
   },
   "outputs": [],
   "source": [
    "peak_file = '/u/home/f/f7xiesnm/project-zipursky/v1-bb/v1/results_atac/all_l23_peaks_sal.bed'\n",
    "\n",
    "ddir = '/u/home/f/f7xiesnm/project-zipursky/v1-bb/v1/data/v1_multiome/atac_fragments'\n",
    "fragment_file = ddir+'/P21a/atac_fragments.tsv.gz'\n",
    "output_file   = ddir+'/ATAC_P21a_mm38.h5ad'\n",
    "peak_mat_file = ddir+'/ATAC_peak_mat_P21a_mm38.h5ad'"
   ]
  },
  {
   "cell_type": "code",
   "execution_count": null,
   "id": "0b95dd74-58e1-43d1-b40d-b102730161d0",
   "metadata": {},
   "outputs": [],
   "source": [
    "%%time\n",
    "data = snap.pp.import_data(\n",
    "    fragment_file,\n",
    "    chrom_sizes=snap.genome.mm39,\n",
    "    sorted_by_barcode=False,\n",
    "    file=output_file,  # Optional\n",
    ")"
   ]
  },
  {
   "cell_type": "code",
   "execution_count": null,
   "id": "51261a8d-4ff3-4c20-af0a-d8a112de26e5",
   "metadata": {
    "tags": []
   },
   "outputs": [],
   "source": [
    "%%time\n",
    "peak_mat = snap.pp.make_peak_matrix(data, peak_file=peak_file, file=peak_mat_file)\n",
    "print(peak_mat)"
   ]
  },
  {
   "cell_type": "code",
   "execution_count": null,
   "id": "48ccb93e-8a7e-4341-9fde-a2acf1364846",
   "metadata": {
    "tags": []
   },
   "outputs": [],
   "source": [
    "data.obsm['fragment_paired']"
   ]
  },
  {
   "cell_type": "code",
   "execution_count": null,
   "id": "d4fb559d-74a4-4e43-9e20-736f88c0bcec",
   "metadata": {
    "tags": []
   },
   "outputs": [],
   "source": [
    "peak_mat"
   ]
  },
  {
   "cell_type": "code",
   "execution_count": null,
   "id": "410bf45a-3678-48d7-97f4-9e75611d5959",
   "metadata": {
    "tags": []
   },
   "outputs": [],
   "source": [
    "peak_mat.obs"
   ]
  },
  {
   "cell_type": "code",
   "execution_count": null,
   "id": "5cd2c193-9a03-46b8-9184-0915750beb93",
   "metadata": {
    "tags": []
   },
   "outputs": [],
   "source": [
    "peak_mat.var"
   ]
  }
 ],
 "metadata": {
  "kernelspec": {
   "display_name": "snapatac2",
   "language": "python",
   "name": "snapatac2"
  },
  "language_info": {
   "codemirror_mode": {
    "name": "ipython",
    "version": 3
   },
   "file_extension": ".py",
   "mimetype": "text/x-python",
   "name": "python",
   "nbconvert_exporter": "python",
   "pygments_lexer": "ipython3",
   "version": "3.12.0"
  }
 },
 "nbformat": 4,
 "nbformat_minor": 5
}
