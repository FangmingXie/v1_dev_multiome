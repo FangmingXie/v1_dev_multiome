{
 "cells": [
  {
   "cell_type": "code",
   "execution_count": null,
   "id": "40d3cf98-2f37-46b9-a606-af61ebef2881",
   "metadata": {
    "tags": []
   },
   "outputs": [],
   "source": [
    "import scipy.io\n",
    "import numpy as np\n",
    "import pandas as pd\n",
    "import scanpy as sc\n",
    "import h5py\n",
    "\n",
    "import os\n",
    "import numpy as np\n",
    "import pandas as pd\n",
    "import scanpy as sc\n",
    "import anndata \n",
    "import seaborn as sns\n",
    "from scipy.stats import zscore\n",
    "import matplotlib.pyplot as plt\n",
    "import collections\n",
    "from natsort import natsorted\n",
    "\n",
    "from scipy import stats\n",
    "from scipy import sparse\n",
    "from sklearn.decomposition import PCA\n",
    "from umap import UMAP\n",
    "\n",
    "from matplotlib.colors import LinearSegmentedColormap\n",
    "from statsmodels.stats.multitest import multipletests\n",
    "\n",
    "from scroutines.config_plots import *\n",
    "from scroutines import powerplots # .config_plots import *\n",
    "from scroutines import pnmf\n",
    "from scroutines import basicu\n",
    "from scroutines.gene_modules import GeneModules  \n",
    "\n",
    "import atac_utils"
   ]
  },
  {
   "cell_type": "markdown",
   "id": "e2840e31-28e1-487c-a771-7794506b4f55",
   "metadata": {},
   "source": [
    "# load data"
   ]
  },
  {
   "cell_type": "code",
   "execution_count": null,
   "id": "c97c2596-5b85-4018-8d00-3f5d9460a43f",
   "metadata": {},
   "outputs": [],
   "source": [
    "%%time\n",
    "f_rna = '/u/home/f/f7xiesnm/project-zipursky/v1-bb/v1/data/v1_multiome/L23_allmultiome_proc_P6toP21_NRDR.h5ad'\n",
    "adata = sc.read(f_rna)\n",
    "adata"
   ]
  },
  {
   "cell_type": "code",
   "execution_count": null,
   "id": "8656fe08-5d6f-4ecf-b426-b6f843c901a6",
   "metadata": {
    "tags": []
   },
   "outputs": [],
   "source": [
    "condcode2cond = atac_utils.CONDCODE_TO_COND\n",
    "condcode2cond"
   ]
  },
  {
   "cell_type": "code",
   "execution_count": null,
   "id": "45f5acc2-fc98-49c4-8655-1e1a263d7e49",
   "metadata": {
    "tags": []
   },
   "outputs": [],
   "source": [
    "sample_conditions = np.array(list(condcode2cond.values()))\n",
    "n_cond = len(sample_conditions)\n",
    "\n",
    "nr_condcodes  = np.array([0,1,2,3,5,7,9])\n",
    "dr_condcodes  = np.array([4,6,8,10])\n",
    "\n",
    "nr_conditions = sample_conditions[nr_condcodes]\n",
    "dr_conditions = sample_conditions[dr_condcodes]\n",
    "\n",
    "nr_times = [6,8,10,12,14,17,21]\n",
    "dr_times =        [12,14,17,21]\n",
    "times = nr_times\n",
    "\n",
    "print(sample_conditions)\n",
    "print(nr_condcodes, nr_conditions)\n",
    "print(dr_condcodes, dr_conditions)"
   ]
  },
  {
   "cell_type": "code",
   "execution_count": null,
   "id": "e40623c6-384a-49e4-935d-185e06cfb547",
   "metadata": {
    "tags": []
   },
   "outputs": [],
   "source": [
    "%%time\n",
    "adatas_pk = []\n",
    "for cond in sample_conditions:\n",
    "    print(cond)\n",
    "    f = f'/u/home/f/f7xiesnm/project-zipursky/v1-bb/v1/results_atac/pmat_l23concensus_{cond}.h5ad'\n",
    "    adata_pk = sc.read(f)\n",
    "    adatas_pk.append(adata_pk)\n",
    "    print(adata_pk)\n",
    "    # break"
   ]
  },
  {
   "cell_type": "code",
   "execution_count": null,
   "id": "268b6187-6716-4027-8d10-fa189e4fafc4",
   "metadata": {
    "tags": []
   },
   "outputs": [],
   "source": [
    "n_cond = len(sample_conditions)\n",
    "n_peak = adatas_pk[0].shape[1]\n",
    "n_type = 5"
   ]
  },
  {
   "cell_type": "markdown",
   "id": "5166e13c-d5ec-48fa-b8fb-537454c57cfb",
   "metadata": {},
   "source": [
    "# check results and stats"
   ]
  },
  {
   "cell_type": "code",
   "execution_count": null,
   "id": "5afff9ef-63da-43af-90bb-a10221d6be4a",
   "metadata": {
    "tags": []
   },
   "outputs": [],
   "source": [
    "def mean_bin(x, y, bins=None):\n",
    "    df = pd.DataFrame() # \n",
    "    df['x'] = x\n",
    "    df['y'] = y \n",
    "    \n",
    "    if bins is None:\n",
    "        binned, bins = pd.qcut(df['x'], 10, retbins=True)\n",
    "        df['xbin'] = binned\n",
    "    \n",
    "    df_mean = df.groupby('xbin').mean()\n",
    "    mid_bins = np.mean(np.vstack([bins[:-1], bins[1:]]).T, axis=1)\n",
    "    \n",
    "    df_mean['mid'] = mid_bins\n",
    "    return df_mean"
   ]
  },
  {
   "cell_type": "code",
   "execution_count": null,
   "id": "026e49f0-825b-42c0-9f5c-9e5e8609f442",
   "metadata": {
    "tags": []
   },
   "outputs": [],
   "source": [
    "%%time\n",
    "fin1 = '/u/home/f/f7xiesnm/v1_multiome/DAR_l23abc_l2fc.npy'\n",
    "fin2 = '/u/home/f/f7xiesnm/v1_multiome/DAR_l23abc_qs.npy'"
   ]
  },
  {
   "cell_type": "code",
   "execution_count": null,
   "id": "6032672c-cf7a-4046-be3b-2c866e2c721a",
   "metadata": {
    "tags": []
   },
   "outputs": [],
   "source": [
    "l2fc_tensor = np.load(fin1)\n",
    "qs_tensor = np.load(fin2)"
   ]
  },
  {
   "cell_type": "code",
   "execution_count": null,
   "id": "1a89e2e6-aed5-4b50-ac3c-afcea87c41f8",
   "metadata": {},
   "outputs": [],
   "source": [
    "l2fc_th = np.log2(2)\n",
    "alpha_th = 0.05"
   ]
  },
  {
   "cell_type": "code",
   "execution_count": null,
   "id": "eb51df3a-1998-4e67-ac36-9f29c2268182",
   "metadata": {
    "tags": []
   },
   "outputs": [],
   "source": [
    "qs   = qs_tensor[:,0,:]\n",
    "l2fc = l2fc_tensor[:,0,:]\n",
    "\n",
    "cond_sig_a = np.all([qs < alpha_th, l2fc < -l2fc_th], axis=0)\n",
    "cond_sig_c = np.all([qs < alpha_th, l2fc >  l2fc_th], axis=0)\n",
    "\n",
    "print('num A > C DARs per cond:\\t',    cond_sig_a.sum(axis=1), np.any(cond_sig_a, axis=0).sum())\n",
    "print('num C > A DARs per cond:\\t',    cond_sig_c.sum(axis=1), np.any(cond_sig_c, axis=0).sum())\n",
    "\n",
    "instances, counts_a = np.unique(cond_sig_a.sum(axis=0), return_counts=True)\n",
    "instances, counts_c = np.unique(cond_sig_c.sum(axis=0), return_counts=True)\n",
    "\n",
    "print('num A > C DARs in num conds:\\t',  counts_a[1:])\n",
    "print('num C > A DARs in num conds:\\t',  counts_c[1:])"
   ]
  },
  {
   "cell_type": "code",
   "execution_count": null,
   "id": "7bf8ea1f-c2df-4eba-8b95-7230d323bb29",
   "metadata": {
    "tags": []
   },
   "outputs": [],
   "source": [
    "qs_ba   = qs_tensor[:,1,:]\n",
    "qs_bc   = qs_tensor[:,2,:]\n",
    "\n",
    "l2fc_ba = l2fc_tensor[:,1,:]\n",
    "l2fc_bc = l2fc_tensor[:,2,:]\n",
    "\n",
    "qs_b   = np.minimum(qs_ba, qs_bc)\n",
    "l2fc_b = np.mean([l2fc_ba, l2fc_bc], axis=0)\n",
    "\n",
    "cond_sig_bp = np.all([l2fc_ba > 0, l2fc_bc > 0, l2fc_b >  l2fc_th, qs_b < alpha_th], axis=0)\n",
    "cond_sig_bn = np.all([l2fc_ba < 0, l2fc_bc < 0, l2fc_b < -l2fc_th, qs_b < alpha_th], axis=0)\n",
    "\n",
    "print('num B > A,C per cond:\\t',    cond_sig_bp.sum(axis=1))\n",
    "print('num B < A,C per cond:\\t',    cond_sig_bn.sum(axis=1))\n",
    "\n",
    "instances, counts_bp = np.unique(cond_sig_bp.sum(axis=0), return_counts=True)\n",
    "instances, counts_bn = np.unique(cond_sig_bn.sum(axis=0), return_counts=True)\n",
    "\n",
    "print('num B > A,C DARs in num conds:\\t',  counts_bp[1:])\n",
    "print('num B < A,C DARs in num conds:\\t',  counts_bn[1:])"
   ]
  },
  {
   "cell_type": "code",
   "execution_count": null,
   "id": "38798144-dd47-47f1-8f4c-11390036de85",
   "metadata": {
    "tags": []
   },
   "outputs": [],
   "source": [
    "%%time\n",
    "\n",
    "all_x = []\n",
    "all_y_a = []\n",
    "all_y_c = []\n",
    "all_y_b = []\n",
    "all_nums = []\n",
    "\n",
    "offset = 1\n",
    "\n",
    "for cond_order, cond in condcode2cond.items():\n",
    "    # get sub\n",
    "    adatasub = adata[adata.obs['cond']==cond]\n",
    "    cells_rna = adatasub.obs.index.values\n",
    "    \n",
    "    # get ATAC\n",
    "    adata_pk = adatas_pk[cond_order]\n",
    "    cells_atac = adata_pk.obs.index.values\n",
    "    \n",
    "    cells_mult = np.intersect1d(cells_rna, cells_atac)\n",
    "    \n",
    "    # no normalization here\n",
    "    x = adatasub[cells_mult].obsm['pca_p17on'][...,0]\n",
    "    \n",
    "    cellcov = np.array(adata_pk[cells_mult].X.sum(axis=1)) #.reshape(-1,)\n",
    "    \n",
    "    # TODO: peak size (500kb) fix\n",
    "    mat_a = np.array(adata_pk[cells_mult, cond_sig_a[cond_order]].X.todense()) \n",
    "    mat_c = np.array(adata_pk[cells_mult, cond_sig_c[cond_order]].X.todense()) \n",
    "    \n",
    "    # size norm (CPM) between cells\n",
    "    mat_a = np.log2(mat_a/cellcov*1e6 + 1)\n",
    "    mat_c = np.log2(mat_c/cellcov*1e6 + 1)\n",
    "    \n",
    "    y_a = np.mean(mat_a, axis=1)\n",
    "    y_c = np.mean(mat_c, axis=1)\n",
    "    \n",
    "    if cond_sig_bp[cond_order].sum() > 0:\n",
    "        mat_b = np.array(adata_pk[cells_mult, cond_sig_bp[cond_order]].X.todense()) \n",
    "        mat_b = np.log2(mat_b/cellcov*1e6 + 1)\n",
    "        y_b = np.mean(mat_b, axis=1) \n",
    "    else:\n",
    "        y_b = np.array([np.nan]*len(y_a))\n",
    "    \n",
    "    all_x.append(x)\n",
    "    all_y_a.append(y_a)\n",
    "    all_y_c.append(y_c)\n",
    "    all_y_b.append(y_b)\n",
    "    all_nums.append([cond_sig_a[cond_order].sum(),\n",
    "                     cond_sig_bp[cond_order].sum(),\n",
    "                     cond_sig_c[cond_order].sum(),\n",
    "                    ])\n",
    "    "
   ]
  },
  {
   "cell_type": "code",
   "execution_count": null,
   "id": "89c00813-fa9a-4501-bb75-f719f3fb93c7",
   "metadata": {
    "tags": []
   },
   "outputs": [],
   "source": [
    "nx = len(nr_conditions)\n",
    "fig, axs = plt.subplots(3,nx, figsize=(4*nx,4*3)) \n",
    "for i, cond_code in enumerate(nr_condcodes):\n",
    "    cond = atac_utils.decode_cond(cond_code)\n",
    "    x   = all_x[cond_code]\n",
    "    y_a = all_y_a[cond_code]\n",
    "    y_c = all_y_c[cond_code]\n",
    "    y_b = all_y_b[cond_code]\n",
    "    num_a, num_b, num_c = all_nums[cond_code]\n",
    "    \n",
    "    ax = axs[0][i]\n",
    "    ax.scatter(x, y_a, s=1, color='C0', label='A peaks', alpha=0.5)# , facecolor='none')\n",
    "    r_a, p  = stats.spearmanr(x, y_a)\n",
    "    means = mean_bin(x, y_a)\n",
    "    ax.plot(means['x'], means['y'], color='k', )# , facecolor='none')\n",
    "    ax.set_title(f'{cond}\\nNa={num_a:,}, r={r_a:.2f}')\n",
    "    sns.despine(ax=ax)\n",
    "    ax.grid(False)\n",
    "\n",
    "    ax = axs[1][i]\n",
    "    ax.scatter(x, y_c, s=1, color='C2', label='C peaks', alpha=0.5)# , facecolor='none')\n",
    "    r_c, p  = stats.spearmanr(x, y_c)\n",
    "    means = mean_bin(x, y_c)\n",
    "    ax.plot(means['x'], means['y'], color='k', )# , facecolor='none')\n",
    "    ax.set_title(f'Nc={num_c:,}, r={r_c:.2f}')\n",
    "    sns.despine(ax=ax)\n",
    "    ax.grid(False)\n",
    "    \n",
    "    ax = axs[2][i]\n",
    "    ax.scatter(x, y_b, s=1, color='C1', label='B peaks', alpha=0.5)# , facecolor='none')\n",
    "    r_b, p  = stats.spearmanr(x, y_b)\n",
    "    means = mean_bin(x, y_b)\n",
    "    ax.plot(means['x'], means['y'], color='k', )# , facecolor='none')\n",
    "    ax.set_title(f'Nb={num_b:,}, r={r_b:.2f}')\n",
    "    sns.despine(ax=ax)\n",
    "    ax.grid(False)\n",
    "    \n",
    "    \n",
    "    if np.all(np.isnan(y_b)):\n",
    "        ax.set_xticks([])\n",
    "        ax.set_yticks([])\n",
    "    \n",
    "axs[0][0].set_xlabel('RNA PC1 (P17-21)')\n",
    "axs[0][0].set_ylabel('ATAC peak accessibility')\n",
    "fig.tight_layout()\n",
    "plt.show()"
   ]
  },
  {
   "cell_type": "code",
   "execution_count": null,
   "id": "94370c8e-9f0c-4eec-a632-378def05cead",
   "metadata": {
    "tags": []
   },
   "outputs": [],
   "source": [
    "nx = len(nr_conditions)\n",
    "fig, axs = plt.subplots(3,nx, figsize=(4*nx,4*3), sharey=True) \n",
    "for i, cond_code in enumerate(nr_condcodes):\n",
    "    cond = atac_utils.decode_cond(cond_code)\n",
    "    x   = all_x[cond_code]\n",
    "    y_a = all_y_a[cond_code]\n",
    "    y_c = all_y_c[cond_code]\n",
    "    y_b = all_y_b[cond_code]\n",
    "    num_a, num_b, num_c = all_nums[cond_code]\n",
    "    \n",
    "    ax = axs[0][i]\n",
    "    # ax.scatter(x, y_a, s=1, color='C0', label='A peaks', alpha=0.5)# , facecolor='none')\n",
    "    # r_a, p  = stats.spearmanr(x, y_a)\n",
    "    means = mean_bin(x, y_a)\n",
    "    ax.plot(means['x'], means['y'], color='k', )# , facecolor='none')\n",
    "    ax.set_title(f'{cond}\\nNa={num_a:,}, r={r_a:.2f}')\n",
    "    sns.despine(ax=ax)\n",
    "    ax.grid(False)\n",
    "\n",
    "    ax = axs[1][i]\n",
    "    # ax.scatter(x, y_c, s=1, color='C2', label='C peaks', alpha=0.5)# , facecolor='none')\n",
    "    # r_c, p  = stats.spearmanr(x, y_c)\n",
    "    means = mean_bin(x, y_c)\n",
    "    ax.plot(means['x'], means['y'], color='k', )# , facecolor='none')\n",
    "    ax.set_title(f'Nc={num_c:,}, r={r_c:.2f}')\n",
    "    sns.despine(ax=ax)\n",
    "    ax.grid(False)\n",
    "    \n",
    "    ax = axs[2][i]\n",
    "    # ax.scatter(x, y_b, s=1, color='C1', label='B peaks', alpha=0.5)# , facecolor='none')\n",
    "    # r_b, p  = stats.spearmanr(x, y_b)\n",
    "    means = mean_bin(x, y_b)\n",
    "    ax.plot(means['x'], means['y'], color='k', )# , facecolor='none')\n",
    "    ax.set_title(f'Nb={num_b:,}, r={r_b:.2f}')\n",
    "    sns.despine(ax=ax)\n",
    "    ax.grid(False)\n",
    "    \n",
    "    \n",
    "    if np.all(np.isnan(y_b)):\n",
    "        ax.set_xticks([])\n",
    "        ax.set_yticks([])\n",
    "    \n",
    "axs[0][0].set_xlabel('RNA PC1 (P17-21)')\n",
    "axs[0][0].set_ylabel('ATAC peak accessibility')\n",
    "fig.tight_layout()\n",
    "plt.show()"
   ]
  },
  {
   "cell_type": "code",
   "execution_count": null,
   "id": "fb5b92f9-5436-40e6-a0d0-a5a6ca2ae2ae",
   "metadata": {
    "tags": []
   },
   "outputs": [],
   "source": [
    "nx = len(times)\n",
    "fig, axs = plt.subplots(6,nx, figsize=(4*nx,4*6)) \n",
    "for i, cond_code in enumerate(nr_condcodes):\n",
    "    cond = atac_utils.decode_cond(cond_code)\n",
    "    x   = all_x[cond_code]\n",
    "    y_a = all_y_a[cond_code]\n",
    "    y_c = all_y_c[cond_code]\n",
    "    y_b = all_y_b[cond_code]\n",
    "    num_a, num_b, num_c = all_nums[cond_code]\n",
    "    \n",
    "    ax = axs[0*2][i]\n",
    "    ax.scatter(x, y_a, s=1, color='C0', label='A peaks', alpha=0.5)# , facecolor='none')\n",
    "    r_a, p  = stats.spearmanr(x, y_a)\n",
    "    means = mean_bin(x, y_a)\n",
    "    ax.plot(means['x'], means['y'], color='k', )# , facecolor='none')\n",
    "    ax.set_title(f'{cond}\\nNa={num_a:,}, r={r_a:.2f}')\n",
    "    sns.despine(ax=ax)\n",
    "    ax.grid(False)\n",
    "\n",
    "    ax = axs[1*2][i]\n",
    "    ax.scatter(x, y_c, s=1, color='C2', label='C peaks', alpha=0.5)# , facecolor='none')\n",
    "    r_c, p  = stats.spearmanr(x, y_c)\n",
    "    means = mean_bin(x, y_c)\n",
    "    ax.plot(means['x'], means['y'], color='k', )# , facecolor='none')\n",
    "    ax.set_title(f'Nc={num_c:,}, r={r_c:.2f}')\n",
    "    sns.despine(ax=ax)\n",
    "    ax.grid(False)\n",
    "    \n",
    "    ax = axs[2*2][i]\n",
    "    ax.scatter(x, y_b, s=1, color='C1', label='B peaks', alpha=0.5)# , facecolor='none')\n",
    "    r_b, p  = stats.spearmanr(x, y_b)\n",
    "    means = mean_bin(x, y_b)\n",
    "    ax.plot(means['x'], means['y'], color='k', )# , facecolor='none')\n",
    "    ax.set_title(f'Nb={num_b:,}, r={r_b:.2f}')\n",
    "    sns.despine(ax=ax)\n",
    "    ax.grid(False)\n",
    "    \n",
    "    \n",
    "for i, cond_code in enumerate(dr_condcodes):\n",
    "    cond = atac_utils.decode_cond(cond_code)\n",
    "    x   = all_x[cond_code]\n",
    "    y_a = all_y_a[cond_code]\n",
    "    y_c = all_y_c[cond_code]\n",
    "    y_b = all_y_b[cond_code]\n",
    "    num_a, num_b, num_c = all_nums[cond_code]\n",
    "    \n",
    "    ax = axs[0*2+1][i+3]\n",
    "    ax.scatter(x, y_a, s=1, color='C0', label='A peaks', alpha=0.5)# , facecolor='none')\n",
    "    r_a, p  = stats.spearmanr(x, y_a)\n",
    "    means = mean_bin(x, y_a)\n",
    "    ax.plot(means['x'], means['y'], color='k',)# , facecolor='none')\n",
    "    ax.set_title(f'{cond}\\nNa={num_a:,}, r={r_a:.2f}')\n",
    "    sns.despine(ax=ax)\n",
    "    ax.grid(False)\n",
    "\n",
    "    ax = axs[1*2+1][i+3]\n",
    "    ax.scatter(x, y_c, s=1, color='C2', label='C peaks', alpha=0.5)# , facecolor='none')\n",
    "    r_c, p  = stats.spearmanr(x, y_c)\n",
    "    means = mean_bin(x, y_c)\n",
    "    ax.plot(means['x'], means['y'], color='k', )# , facecolor='none')\n",
    "    ax.set_title(f'Nc={num_c:,}, r={r_c:.2f}')\n",
    "    sns.despine(ax=ax)\n",
    "    ax.grid(False)\n",
    "    \n",
    "    ax = axs[2*2+1][i+3]\n",
    "    ax.scatter(x, y_b, s=1, color='C1', label='B peaks', alpha=0.5)# , facecolor='none')\n",
    "    r_b, p  = stats.spearmanr(x, y_b)\n",
    "    means = mean_bin(x, y_b)\n",
    "    ax.plot(means['x'], means['y'], color='k', )# , facecolor='none')\n",
    "    ax.set_title(f'Nb={num_b:,}, r={r_b:.2f}')\n",
    "    sns.despine(ax=ax)\n",
    "    ax.grid(False)\n",
    "\n",
    "for ax in axs[1][:3]:\n",
    "    ax.axis('off')\n",
    "for ax in axs[3][:3]:\n",
    "    ax.axis('off')\n",
    "for ax in axs[5][:3]:\n",
    "    ax.axis('off')\n",
    "    \n",
    "axs[0][0].set_xlabel('RNA PC1 (P17-21)')\n",
    "axs[0][0].set_ylabel('ATAC peak accessibility')\n",
    "fig.tight_layout()\n",
    "plt.show()"
   ]
  },
  {
   "cell_type": "code",
   "execution_count": null,
   "id": "ec1d715e-7645-422f-8da2-b54c3b565aa0",
   "metadata": {},
   "outputs": [],
   "source": [
    "fig, axs = plt.subplots(1,3, figsize=(3*4,1*4), sharex=True)\n",
    "\n",
    "num_uniq_a = np.sum(np.any(cond_sig_a,  axis=0))\n",
    "num_uniq_b = np.sum(np.any(cond_sig_bp, axis=0))\n",
    "num_uniq_c = np.sum(np.any(cond_sig_c,  axis=0))\n",
    "\n",
    "ax = axs[0]\n",
    "ax.plot(times, cond_sig_a.sum(axis=1)[nr_condcodes], \n",
    "        '-o', color='C0', fillstyle='none', label=f'A DARs (unique n = {num_uniq_a:,})') \n",
    "ax.plot(times, [0]*len(times),'--o', color='gray', fillstyle='none', label=f'random DARs (n=0)', zorder=0)\n",
    "ax.set_ylim(ymin=-500, ymax=12500)\n",
    "ax.set_xticks(times)\n",
    "ax.set_xticklabels(times)\n",
    "ax.grid(False)\n",
    "sns.despine(ax=ax)\n",
    "ax.set_ylabel('number of DARs')\n",
    "\n",
    "ax = axs[1]\n",
    "ax.plot(times, cond_sig_c.sum(axis=1)[nr_condcodes], \n",
    "        '-o', color='C2', fillstyle='none', label=f'C DARs (unique n = {num_uniq_c:,})') \n",
    "ax.plot(times, [0]*len(times),'--o', color='gray', fillstyle='none', label=f'random DARs (n=0)', zorder=0)\n",
    "ax.set_ylim(ymin=-500, ymax=12500)\n",
    "ax.set_xticks(times)\n",
    "ax.set_xticklabels(times)\n",
    "ax.grid(False)\n",
    "sns.despine(ax=ax)\n",
    "\n",
    "ax = axs[2]\n",
    "ax.plot(times, cond_sig_bp.sum(axis=1)[nr_condcodes],\n",
    "        '-o', color='C1', fillstyle='none', label=f'B DARs (unique n = {num_uniq_b:,})')\n",
    "ax.plot(times, [0]*len(times),'--o', color='gray', fillstyle='none', label=f'random DARs (n=0)', zorder=0)\n",
    "# ax.set_ylim(ymin=0)\n",
    "ax.set_ylim(ymin=-50, ymax=2000)\n",
    "ax.set_xticks(times)\n",
    "ax.set_xticklabels(times)\n",
    "ax.grid(False)\n",
    "sns.despine(ax=ax)\n",
    "\n",
    "fig.tight_layout()\n",
    "plt.show()"
   ]
  },
  {
   "cell_type": "code",
   "execution_count": null,
   "id": "e67441bf-dd86-4775-911b-eacf560569c8",
   "metadata": {},
   "outputs": [],
   "source": [
    "fig, axs = plt.subplots(1,3, figsize=(3*4,1*4))\n",
    "\n",
    "num_uniq_a = np.sum(np.any(cond_sig_a,  axis=0))\n",
    "num_uniq_b = np.sum(np.any(cond_sig_bp, axis=0))\n",
    "num_uniq_c = np.sum(np.any(cond_sig_c,  axis=0))\n",
    "\n",
    "ax = axs[0]\n",
    "ax.plot(times, cond_sig_a.sum(axis=1)[nr_condcodes], \n",
    "        '-o', color='C0', fillstyle='none', label=f'A DARs (unique n = {num_uniq_a:,})') \n",
    "ax.plot(times, [0]*len(times),'--o', color='gray', fillstyle='none', label=f'random DARs (n=0)', zorder=0)\n",
    "ax.plot(dr_times, cond_sig_a.sum(axis=1)[dr_condcodes], \n",
    "        '-.s', color='C0', fillstyle='none', label=f'A DARs (unique n = {num_uniq_a:,})') \n",
    "ax.plot(dr_times, [0]*len(dr_times),\n",
    "        '-.s', color='gray', fillstyle='none', label=f'random DARs (n=0)', zorder=0)\n",
    "ax.set_xticks(times)\n",
    "ax.set_xticklabels(times)\n",
    "ax.grid(False)\n",
    "sns.despine(ax=ax)\n",
    "ax.set_ylabel('number of DARs')\n",
    "ax.set_ylim(ymin=-500, ymax=12500)\n",
    "\n",
    "ax = axs[1]\n",
    "ax.plot(times, cond_sig_c.sum(axis=1)[nr_condcodes], \n",
    "        '-o', color='C2', fillstyle='none', label=f'C DARs (unique n = {num_uniq_c:,})') \n",
    "ax.plot(times, [0]*len(times),'--o', color='gray', fillstyle='none', label=f'random DARs (n=0)', zorder=0)\n",
    "ax.plot(dr_times, cond_sig_c.sum(axis=1)[dr_condcodes], \n",
    "        '-.s', color='C2', fillstyle='none', label=f'C DARs (unique n = {num_uniq_c:,})') \n",
    "ax.plot(dr_times, [0]*len(dr_times),\n",
    "        '-.s', color='gray', fillstyle='none', label=f'random DARs (n=0)', zorder=0)\n",
    "ax.set_ylim(ymin=-500, ymax=12500)\n",
    "\n",
    "ax.set_xticks(times)\n",
    "ax.set_xticklabels(times)\n",
    "ax.grid(False)\n",
    "sns.despine(ax=ax)\n",
    "\n",
    "ax = axs[2]\n",
    "ax.plot(times, cond_sig_bp.sum(axis=1)[nr_condcodes],\n",
    "        '-o', color='C1', fillstyle='none', label=f'B DARs (unique n = {num_uniq_b:,})')\n",
    "ax.plot(times, [0]*len(times),'--o', color='gray', fillstyle='none', label=f'random DARs (n=0)', zorder=0)\n",
    "ax.plot(dr_times, cond_sig_bp.sum(axis=1)[dr_condcodes], \n",
    "        '-.s', color='C1', fillstyle='none', label=f'B DARs (unique n = {num_uniq_b:,})') \n",
    "ax.plot(dr_times, [0]*len(dr_times),\n",
    "        '-.s', color='gray', fillstyle='none', label=f'random DARs (n=0)', zorder=0)\n",
    "ax.set_ylim(ymin=-50, ymax=2000)\n",
    "\n",
    "ax.set_xticks(times)\n",
    "ax.set_xticklabels(times)\n",
    "ax.grid(False)\n",
    "sns.despine(ax=ax)\n",
    "\n",
    "fig.tight_layout()\n",
    "plt.show()"
   ]
  },
  {
   "cell_type": "markdown",
   "id": "67a75ad8-b401-44c1-95b5-73baf941668e",
   "metadata": {
    "tags": []
   },
   "source": [
    "# get the full matrix"
   ]
  },
  {
   "cell_type": "code",
   "execution_count": null,
   "id": "d38fffff-847e-4086-ac87-c08a9f920228",
   "metadata": {
    "tags": []
   },
   "outputs": [],
   "source": [
    "from sklearn.cluster import KMeans"
   ]
  },
  {
   "cell_type": "code",
   "execution_count": null,
   "id": "99d8c80d-de1c-403d-a518-4eff54f2a5ee",
   "metadata": {},
   "outputs": [],
   "source": [
    "fin3 = '/u/home/f/f7xiesnm/v1_multiome/DAR_l23abc_cpm_tensor.npy'\n",
    "atac_tensor = np.load(fin3)"
   ]
  },
  {
   "cell_type": "code",
   "execution_count": null,
   "id": "ce5ca09e-6eda-4277-8d98-3f524f074bee",
   "metadata": {},
   "outputs": [],
   "source": [
    "cond_sig_selected = np.any(np.vstack([cond_sig_a, cond_sig_c, cond_sig_bp]), axis=0)\n",
    "n_dar = cond_sig_selected.sum()\n",
    "atac_tensor_sel = atac_tensor[:,:,cond_sig_selected]\n",
    "mat = np.log2(1+atac_tensor_sel.reshape(n_cond*n_type, n_dar).T)"
   ]
  },
  {
   "cell_type": "code",
   "execution_count": null,
   "id": "fbef795d-6e90-4f11-a922-a78c3f9ee4e6",
   "metadata": {
    "tags": []
   },
   "outputs": [],
   "source": [
    "mat.shape"
   ]
  },
  {
   "cell_type": "code",
   "execution_count": null,
   "id": "e7b72aad-01b6-4c9a-bf29-39e756b17eee",
   "metadata": {
    "tags": []
   },
   "outputs": [],
   "source": [
    "n_peakset_clsts = 30\n",
    "method = KMeans(n_clusters=n_peakset_clsts)\n",
    "peakset_clst = method.fit_predict(mat)"
   ]
  },
  {
   "cell_type": "code",
   "execution_count": null,
   "id": "5617109b-9adc-4958-9ab9-ecf474607528",
   "metadata": {
    "tags": []
   },
   "outputs": [],
   "source": [
    "mat_mean = np.zeros((n_peakset_clsts, mat.shape[1]))\n",
    "for i in range(n_peakset_clsts):\n",
    "    mean_val = np.mean(mat[peakset_clst==i], axis=0) \n",
    "    z_mean = (mean_val - np.mean(mean_val))/np.std(mean_val)\n",
    "    mat_mean[i] = z_mean "
   ]
  },
  {
   "cell_type": "code",
   "execution_count": null,
   "id": "b0e97854-03ac-448d-b279-45142f29d6f6",
   "metadata": {
    "tags": []
   },
   "outputs": [],
   "source": [
    "mat_mean.shape"
   ]
  },
  {
   "cell_type": "code",
   "execution_count": null,
   "id": "4da8dbbe-9106-4693-968c-73f4b0964df4",
   "metadata": {
    "tags": []
   },
   "outputs": [],
   "source": [
    "# sns.heatmap(mat_mean, cmap='coolwarm')\n",
    "# set of A vs C peaks together \n",
    "g = sns.clustermap(mat_mean, col_cluster=False, cmap='coolwarm', figsize=(8,5), xticklabels=False, yticklabels=False)\n",
    "\n",
    "ax = g.ax_heatmap\n",
    "ax.set_xticks(0.5+np.arange(n_type))\n",
    "ax.set_xticklabels(['A', '<-', '-', '->', 'C'], fontsize=10)\n",
    "\n",
    "for i in range(n_cond):\n",
    "    ax.axvline(i*n_type, color='k', linestyle='--', linewidth=1)\n",
    "    ax.text(i*n_type, 0, f'{sample_conditions[i]}')"
   ]
  },
  {
   "cell_type": "markdown",
   "id": "6b8cd962-6fbf-413f-9169-ac5430beb591",
   "metadata": {},
   "source": [
    "# ABC peaks"
   ]
  },
  {
   "cell_type": "code",
   "execution_count": null,
   "id": "9c8ec327-f1cb-407b-bec7-45c3c45fe0d4",
   "metadata": {},
   "outputs": [],
   "source": [
    "n_peakset_clsts = 10\n",
    "for cond_sig_, title in zip([cond_sig_a, cond_sig_c, cond_sig_bp], \n",
    "                            ['A regions', 'C regions', 'B regions',]):\n",
    "    \n",
    "    cond_sig_selected = np.any(cond_sig_, axis=0)\n",
    "    n_dar = cond_sig_selected.sum()\n",
    "    atac_tensor_sel = atac_tensor[:,:,cond_sig_selected]\n",
    "    mat = np.log2(1+atac_tensor_sel.reshape(n_cond*n_type, n_dar).T)\n",
    "\n",
    "    method = KMeans(n_clusters=n_peakset_clsts, n_init=10, random_state=0)\n",
    "    peakset_clst = method.fit_predict(mat)\n",
    "\n",
    "    mat_mean = np.zeros((n_peakset_clsts, mat.shape[1]))\n",
    "    for i in range(n_peakset_clsts):\n",
    "        mean_val = np.mean(mat[peakset_clst==i], axis=0) \n",
    "        z_mean = (mean_val - np.mean(mean_val))/np.std(mean_val)\n",
    "        mat_mean[i] = z_mean \n",
    "\n",
    "    # sns.heatmap(mat_mean, cmap='coolwarm')\n",
    "    # set of A vs C peaks together \n",
    "    g = sns.clustermap(mat_mean, col_cluster=False, cmap='coolwarm', figsize=(8,3), xticklabels=False, yticklabels=False)\n",
    "\n",
    "    ax = g.ax_heatmap\n",
    "    ax.set_xticks(0.5+np.arange(n_type))\n",
    "    ax.set_xticklabels(['A', '<-', '-', '->', 'C'], fontsize=10)\n",
    "    ax.set_title(title, pad=30)\n",
    "\n",
    "    for i in range(n_cond):\n",
    "        ax.axvline(i*n_type, color='k', linestyle='--', linewidth=1)\n",
    "        ax.text(i*n_type, -0.5, f'{sample_conditions[i]}', fontsize=10, va='bottom')"
   ]
  },
  {
   "cell_type": "markdown",
   "id": "aa130979-e11d-4107-bd1a-c14311fde085",
   "metadata": {},
   "source": [
    "# ABC peaks (NR only)"
   ]
  },
  {
   "cell_type": "code",
   "execution_count": null,
   "id": "9b2d0151-c5c8-4d81-af42-ba6e4eed3b88",
   "metadata": {
    "tags": []
   },
   "outputs": [],
   "source": [
    "n_cond_nr = len(nr_condcodes)\n",
    "nr_condcodes"
   ]
  },
  {
   "cell_type": "code",
   "execution_count": null,
   "id": "74356605-9a81-417c-9597-e1b64dc434f8",
   "metadata": {
    "tags": []
   },
   "outputs": [],
   "source": [
    "n_peakset_clsts = 10\n",
    "for cond_sig_, title in zip([cond_sig_a, cond_sig_c, cond_sig_bp], \n",
    "                            ['A regions', 'C regions', 'B regions',]):\n",
    "    \n",
    "    cond_sig_selected = np.any(cond_sig_, axis=0)\n",
    "    n_dar = cond_sig_selected.sum()\n",
    "    atac_tensor_sel = atac_tensor[:,:,cond_sig_selected][nr_condcodes]\n",
    "    mat = np.log2(1+atac_tensor_sel.reshape(n_cond_nr*n_type, n_dar).T)\n",
    "\n",
    "    method = KMeans(n_clusters=n_peakset_clsts, n_init=10, random_state=0)\n",
    "    peakset_clst = method.fit_predict(mat)\n",
    "\n",
    "    mat_mean = np.zeros((n_peakset_clsts, mat.shape[1]))\n",
    "    for i in range(n_peakset_clsts):\n",
    "        mean_val = np.mean(mat[peakset_clst==i], axis=0) \n",
    "        z_mean = (mean_val - np.mean(mean_val))/np.std(mean_val)\n",
    "        mat_mean[i] = z_mean \n",
    "\n",
    "    # sns.heatmap(mat_mean, cmap='coolwarm')\n",
    "    # set of A vs C peaks together \n",
    "    g = sns.clustermap(mat_mean, col_cluster=False, cmap='coolwarm', figsize=(8,3), xticklabels=False, yticklabels=False)\n",
    "\n",
    "    ax = g.ax_heatmap\n",
    "    ax.set_xticks(0.5+np.arange(n_type))\n",
    "    ax.set_xticklabels(['A', '<-', '-', '->', 'C'], fontsize=10)\n",
    "    ax.set_title(title, pad=30)\n",
    "\n",
    "    for i in range(n_cond_nr):\n",
    "        ax.axvline(i*n_type, color='k', linestyle='--', linewidth=1)\n",
    "        ax.text(i*n_type, -0.5, f'{sample_conditions[nr_condcodes][i]}', fontsize=10, va='bottom')"
   ]
  },
  {
   "cell_type": "markdown",
   "id": "9c1fb4d8-0d27-4589-a283-78a7982b321e",
   "metadata": {},
   "source": [
    "# ABC peaks (all - reordered)"
   ]
  },
  {
   "cell_type": "code",
   "execution_count": null,
   "id": "0fc364c5-6930-4674-bdd9-81097512bd37",
   "metadata": {
    "tags": []
   },
   "outputs": [],
   "source": [
    "n_cond_nr = len(nr_condcodes)\n",
    "nr_condcodes"
   ]
  },
  {
   "cell_type": "code",
   "execution_count": null,
   "id": "5a52472c-e774-4a48-969b-fc29e7d8e7e0",
   "metadata": {
    "tags": []
   },
   "outputs": [],
   "source": [
    "nrdr_condcodes = np.hstack([nr_condcodes, dr_condcodes])\n",
    "nrdr_condcodes"
   ]
  },
  {
   "cell_type": "code",
   "execution_count": null,
   "id": "27b7e3c0-b2aa-4301-b6b6-e246fcad8368",
   "metadata": {
    "tags": []
   },
   "outputs": [],
   "source": [
    "n_peakset_clsts = 10\n",
    "for cond_sig_, title in zip([cond_sig_a, cond_sig_c, cond_sig_bp], \n",
    "                            ['A regions', 'C regions', 'B regions',]):\n",
    "    \n",
    "    cond_sig_selected = np.any(cond_sig_, axis=0)\n",
    "    n_dar = cond_sig_selected.sum()\n",
    "    atac_tensor_sel = atac_tensor[:,:,cond_sig_selected][nrdr_condcodes]\n",
    "    mat = np.log2(1+atac_tensor_sel.reshape(n_cond*n_type, n_dar).T)\n",
    "\n",
    "    method = KMeans(n_clusters=n_peakset_clsts, n_init=10, random_state=0)\n",
    "    peakset_clst = method.fit_predict(mat)\n",
    "\n",
    "    mat_mean = np.zeros((n_peakset_clsts, mat.shape[1]))\n",
    "    for i in range(n_peakset_clsts):\n",
    "        mean_val = np.mean(mat[peakset_clst==i], axis=0) \n",
    "        z_mean = (mean_val - np.mean(mean_val))/np.std(mean_val)\n",
    "        mat_mean[i] = z_mean \n",
    "\n",
    "    # sns.heatmap(mat_mean, cmap='coolwarm')\n",
    "    # set of A vs C peaks together \n",
    "    g = sns.clustermap(mat_mean, col_cluster=False, cmap='coolwarm', figsize=(8,3), xticklabels=False, yticklabels=False)\n",
    "\n",
    "    ax = g.ax_heatmap\n",
    "    ax.set_xticks(0.5+np.arange(n_type))\n",
    "    ax.set_xticklabels(['A', '<-', '-', '->', 'C'], fontsize=10)\n",
    "    ax.set_title(title, pad=30)\n",
    "\n",
    "    for i in range(n_cond):\n",
    "        ax.axvline(i*n_type, color='k', linestyle='--', linewidth=1)\n",
    "        ax.text(i*n_type, -0.5, f'{sample_conditions[nrdr_condcodes][i]}', fontsize=10, va='bottom')\n",
    "        \n",
    "    # NRDR boundary\n",
    "    ax.axvline(3*n_type, ymin=1, ymax=1.05, color='k', linestyle='-', linewidth=1.5, clip_on=False)\n",
    "    ax.axvline(7*n_type, ymin=0, ymax=1.05, color='k', linestyle='-', linewidth=1.5, clip_on=False)"
   ]
  },
  {
   "cell_type": "markdown",
   "id": "c429f740-0a8b-48cb-9d7f-1eb101206037",
   "metadata": {},
   "source": [
    "# Save a peak list\n",
    "- A\n",
    "- Bp\n",
    "- C "
   ]
  },
  {
   "cell_type": "code",
   "execution_count": null,
   "id": "3fcc5544-bdba-4a89-a6cc-c69bd07fd97a",
   "metadata": {
    "tags": []
   },
   "outputs": [],
   "source": [
    "peakset = pd.DataFrame(list(adata_pk.var.index.str.split(pat=':|-'))) # \n",
    "peakset"
   ]
  },
  {
   "cell_type": "code",
   "execution_count": null,
   "id": "8f9527fe-f5e4-404c-9935-6350935c7c1b",
   "metadata": {
    "tags": []
   },
   "outputs": [],
   "source": [
    "peakset_a = peakset[np.any(cond_sig_a, axis=0)]\n",
    "peakset_b = peakset[np.any(cond_sig_bp, axis=0)]\n",
    "peakset_c = peakset[np.any(cond_sig_c, axis=0)]\n",
    "print(peakset_a.shape, peakset_b.shape, peakset_c.shape)\n",
    "peakset_a"
   ]
  },
  {
   "cell_type": "code",
   "execution_count": null,
   "id": "e3d99dae-bc58-4cbc-8bf6-c18bbd58c90a",
   "metadata": {
    "tags": []
   },
   "outputs": [],
   "source": [
    "f_a = \"/u/home/f/f7xiesnm/v1_multiome/atac_fragments/frag_bed/processed_peaks/consensus_peaks_v2_DAR_A.bed\" \n",
    "f_b = \"/u/home/f/f7xiesnm/v1_multiome/atac_fragments/frag_bed/processed_peaks/consensus_peaks_v2_DAR_B.bed\" \n",
    "f_c = \"/u/home/f/f7xiesnm/v1_multiome/atac_fragments/frag_bed/processed_peaks/consensus_peaks_v2_DAR_C.bed\" \n",
    "\n",
    "peakset_a.to_csv(f_a, sep='\\t', header=False, index=False)\n",
    "peakset_b.to_csv(f_b, sep='\\t', header=False, index=False)\n",
    "peakset_c.to_csv(f_c, sep='\\t', header=False, index=False)"
   ]
  },
  {
   "cell_type": "markdown",
   "id": "822dff6f-26f0-4093-b63f-eef4ec0df765",
   "metadata": {},
   "source": [
    "# cluster individual peaks show numbers "
   ]
  },
  {
   "cell_type": "code",
   "execution_count": null,
   "id": "53202e42-348f-4e7d-a34d-35f5af9c348c",
   "metadata": {
    "tags": []
   },
   "outputs": [],
   "source": [
    "condcode2cond"
   ]
  },
  {
   "cell_type": "code",
   "execution_count": null,
   "id": "cc164411-37fd-4f9b-aa9c-f7f5f3529f4c",
   "metadata": {
    "tags": []
   },
   "outputs": [],
   "source": [
    "res = []"
   ]
  },
  {
   "cell_type": "code",
   "execution_count": null,
   "id": "9a7087e5-c2b3-480d-8aaf-4af1ba111daa",
   "metadata": {},
   "outputs": [],
   "source": [
    "# cond_sig_selected = np.any(np.vstack([cond_sig_a, cond_sig_c, cond_sig_bp]), axis=0)\n",
    "\n",
    "cond_sig_selected = np.any(cond_sig_a, axis=0)\n",
    "n_dar = cond_sig_selected.sum()\n",
    "atac_tensor_sel = atac_tensor[:,:,cond_sig_selected]\n",
    "mat = np.log2(1+atac_tensor_sel.reshape(n_cond*n_type, n_dar).T)\n",
    "fmat = (mat-np.mean(mat, axis=1).reshape(-1,1))\n",
    "zmat = (mat-np.mean(mat, axis=1).reshape(-1,1))/np.std(mat, axis=1).reshape(-1,1)\n",
    "\n",
    "n_peakset_clsts = 5\n",
    "method = KMeans(n_clusters=n_peakset_clsts, n_init=10, random_state=0)\n",
    "peakset_clst = method.fit_predict(zmat)\n",
    "\n",
    "zmat_ctrds = []\n",
    "for i in range(n_peakset_clsts):\n",
    "    zmat_ctrds.append(np.mean(zmat[peakset_clst == i], axis=0))\n",
    "zmat_ctrds = np.array(zmat_ctrds).reshape(-1,5,11)[:,:,nr_condcodes]\n",
    "\n",
    "clst_order = [2,1,3,4,0]\n",
    "# clst_order = np.argsort(np.argmax(np.mean(zmat_ctrds, axis=1), axis=1)) # .shape\n",
    "peakset_clst_renamed = pd.Series({clst: i for i, clst in enumerate(clst_order)}).reindex(peakset_clst).values\n",
    "peakset_order = np.argsort(peakset_clst_renamed)\n",
    "\n",
    "res.append({\n",
    "    'title': 'A regions',\n",
    "    'zmat': zmat,\n",
    "    'fmat': fmat,\n",
    "    'nclst': n_peakset_clsts,\n",
    "    'clst': peakset_clst_renamed,\n",
    "    'order': peakset_order,\n",
    "})"
   ]
  },
  {
   "cell_type": "code",
   "execution_count": null,
   "id": "954e556e-7616-4229-a727-abfa2268dfe7",
   "metadata": {
    "tags": []
   },
   "outputs": [],
   "source": [
    "cond_sig_selected = np.any(cond_sig_bp, axis=0)\n",
    "n_dar = cond_sig_selected.sum()\n",
    "atac_tensor_sel = atac_tensor[:,:,cond_sig_selected]\n",
    "mat = np.log2(1+atac_tensor_sel.reshape(n_cond*n_type, n_dar).T)\n",
    "fmat = (mat-np.mean(mat, axis=1).reshape(-1,1))\n",
    "zmat = (mat-np.mean(mat, axis=1).reshape(-1,1))/np.std(mat, axis=1).reshape(-1,1)\n",
    "\n",
    "n_peakset_clsts = 3\n",
    "method = KMeans(n_clusters=n_peakset_clsts, n_init=10, random_state=0)\n",
    "peakset_clst = method.fit_predict(zmat)\n",
    "\n",
    "zmat_ctrds = []\n",
    "for i in range(n_peakset_clsts):\n",
    "    zmat_ctrds.append(np.mean(zmat[peakset_clst == i], axis=0))\n",
    "zmat_ctrds = np.array(zmat_ctrds).reshape(-1,5,11)[:,:,nr_condcodes]\n",
    "\n",
    "clst_order = [0,2,1]\n",
    "# clst_order = np.argsort(np.argmax(np.mean(zmat_ctrds, axis=1), axis=1)) # .shape\n",
    "peakset_clst_renamed = pd.Series({clst: i for i, clst in enumerate(clst_order)}).reindex(peakset_clst).values\n",
    "peakset_order = np.argsort(peakset_clst_renamed)\n",
    "\n",
    "res.append({\n",
    "    'title': 'B regions',\n",
    "    'zmat': zmat,\n",
    "    'fmat': fmat,\n",
    "    'nclst': n_peakset_clsts,\n",
    "    'clst': peakset_clst_renamed,\n",
    "    'order': peakset_order,\n",
    "})"
   ]
  },
  {
   "cell_type": "code",
   "execution_count": null,
   "id": "5fbbcd5f-fb3d-40dc-8130-2bf1f24483e7",
   "metadata": {
    "tags": []
   },
   "outputs": [],
   "source": [
    "cond_sig_selected = np.any(cond_sig_c, axis=0)\n",
    "n_dar = cond_sig_selected.sum()\n",
    "atac_tensor_sel = atac_tensor[:,:,cond_sig_selected]\n",
    "mat = np.log2(1+atac_tensor_sel.reshape(n_cond*n_type, n_dar).T)\n",
    "fmat = (mat-np.mean(mat, axis=1).reshape(-1,1))\n",
    "zmat = (mat-np.mean(mat, axis=1).reshape(-1,1))/np.std(mat, axis=1).reshape(-1,1)\n",
    "\n",
    "n_peakset_clsts = 5\n",
    "method = KMeans(n_clusters=n_peakset_clsts, n_init=10, random_state=0)\n",
    "peakset_clst = method.fit_predict(zmat)\n",
    "\n",
    "zmat_ctrds = []\n",
    "for i in range(n_peakset_clsts):\n",
    "    zmat_ctrds.append(np.mean(zmat[peakset_clst == i], axis=0))\n",
    "zmat_ctrds = np.array(zmat_ctrds).reshape(-1,5,11)[:,:,nr_condcodes]\n",
    "\n",
    "clst_order = [1,2,0,4,3]\n",
    "# clst_order = np.argsort(np.argmax(np.mean(zmat_ctrds, axis=1), axis=1)) # .shape\n",
    "peakset_clst_renamed = pd.Series({clst: i for i, clst in enumerate(clst_order)}).reindex(peakset_clst).values\n",
    "peakset_order = np.argsort(peakset_clst_renamed)\n",
    "\n",
    "res.append({\n",
    "    'title': 'C regions',\n",
    "    'zmat': zmat,\n",
    "    'fmat': fmat,\n",
    "    'nclst': n_peakset_clsts,\n",
    "    'clst': peakset_clst_renamed,\n",
    "    'order': peakset_order,\n",
    "})"
   ]
  },
  {
   "cell_type": "code",
   "execution_count": null,
   "id": "807b4f99-2508-4892-b419-56f7887bd366",
   "metadata": {
    "tags": []
   },
   "outputs": [],
   "source": [
    "for res_this in res:\n",
    "# res_this = res[0]\n",
    "    title = res_this['title']\n",
    "    zmat  = res_this['zmat']\n",
    "    order = res_this['order']\n",
    "\n",
    "    fig, ax = plt.subplots(figsize=(15,8))\n",
    "\n",
    "    sns.heatmap(zmat[order], yticklabels=2000, cmap='coolwarm', cbar_kws=dict(shrink=0.5), \n",
    "                vmax=3, vmin=-3,\n",
    "                ax=ax)\n",
    "    ax.set_xticks(0.5+np.arange(n_type))\n",
    "    ax.set_xticklabels(['A', '<-', '-', '->', 'C'], fontsize=10, rotation=0)\n",
    "    ax.set_title(title, pad=30)\n",
    "\n",
    "    # for i in range(n_cond):\n",
    "    for condcode, cond in condcode2cond.items():\n",
    "        ax.axvline(condcode*n_type, color='k', linestyle='--', linewidth=1)\n",
    "        ax.text(condcode*n_type, -0.5, f'{cond}', fontsize=10, va='bottom')\n",
    "\n",
    "    plt.show()\n"
   ]
  },
  {
   "cell_type": "code",
   "execution_count": null,
   "id": "97ad32df-ca33-40c4-86e9-ad5326d72553",
   "metadata": {
    "tags": []
   },
   "outputs": [],
   "source": [
    "for res_this in res:\n",
    "# res_this = res[0]\n",
    "    title = res_this['title']\n",
    "    zmat  = res_this['zmat']\n",
    "    order = res_this['order']\n",
    "    clsts = res_this['clst']\n",
    "    print(np.unique(clsts, return_counts=True)[1])"
   ]
  },
  {
   "cell_type": "markdown",
   "id": "4dfa3c70-e3f1-4ffa-a286-3cf36c90b222",
   "metadata": {},
   "source": [
    "# Profile these modules"
   ]
  },
  {
   "cell_type": "code",
   "execution_count": null,
   "id": "e9842e64-0c58-4518-8dd6-79f65c9fca6b",
   "metadata": {
    "tags": []
   },
   "outputs": [],
   "source": [
    "from matplotlib.colors import LinearSegmentedColormap\n",
    "\n",
    "colors_a = [(0.0, 'black'), (1.0, 'C0')]      \n",
    "colors_b = [(0.0, 'black'), (1.0, 'C1')]      \n",
    "colors_c = [(0.0, 'black'), (1.0, 'C2')]      \n",
    "\n",
    "# Create a custom colormap using LinearSegmentedColormap\n",
    "cmap_a = LinearSegmentedColormap.from_list('cmap_a', colors_a)\n",
    "cmap_b = LinearSegmentedColormap.from_list('cmap_b', colors_b)\n",
    "cmap_c = LinearSegmentedColormap.from_list('cmap_c', colors_c)\n",
    "\n",
    "colors_l23 = [\n",
    "    np.array(cmap_a(1.0)),\n",
    "    0.7*np.array(cmap_a(1.0))+0.3*np.array(cmap_b(1.0)),\n",
    "    np.array(cmap_b(1.0)),\n",
    "    0.7*np.array(cmap_b(1.0))+0.3*np.array(cmap_c(1.0)),\n",
    "    np.array(cmap_c(1.0)),\n",
    "]"
   ]
  },
  {
   "cell_type": "code",
   "execution_count": null,
   "id": "e596f55a-7f4e-4b22-88ca-7b71dc303128",
   "metadata": {},
   "outputs": [],
   "source": [
    "times = np.array([6,8,10,12,14,17,21])\n",
    "dr_times = np.array([12,14,17,21])"
   ]
  },
  {
   "cell_type": "code",
   "execution_count": null,
   "id": "8be261b5-fdd8-4645-b915-d401c9b5bde7",
   "metadata": {
    "tags": []
   },
   "outputs": [],
   "source": [
    "# res_this = res[0]\n",
    "\n",
    "for res_this in res:\n",
    "    title = res_this['title']\n",
    "    fmat  = res_this['fmat']\n",
    "    order = res_this['order']\n",
    "    clsts = res_this['clst']\n",
    "\n",
    "    fig, axs = plt.subplots(1,5,figsize=(5*3,1*3), sharex=True, sharey=True)\n",
    "    fig.suptitle(f'{title} n={len(fmat):,}', y=1.08, fontsize=18)\n",
    "    axs[0].set_ylabel('fold change')\n",
    "    for i in range(5):\n",
    "        ax = axs[i]\n",
    "        prop = (clsts == i).sum() / len(fmat)\n",
    "        y = np.mean(fmat[clsts==i], axis=0).reshape(11,5)[nr_condcodes] # .shape\n",
    "        for ycol, color in zip(y.T, colors_l23):\n",
    "            ax.plot(times, ycol, '-', color=color)\n",
    "            ax.set_xticks(times)\n",
    "\n",
    "        sns.despine(ax=ax)\n",
    "        ax.grid(False, axis='x')\n",
    "        ax.set_title(f'M{i+1}: {prop*100: .1f}%')"
   ]
  },
  {
   "cell_type": "markdown",
   "id": "c169caae-4b09-4e47-8f4e-954f5f421f59",
   "metadata": {},
   "source": [
    "# add DR visuals"
   ]
  },
  {
   "cell_type": "code",
   "execution_count": null,
   "id": "74ca9025-92a0-499e-873b-31b05bd7f977",
   "metadata": {
    "tags": []
   },
   "outputs": [],
   "source": [
    "for res_this in res:\n",
    "    title = res_this['title']\n",
    "    fmat  = res_this['fmat']\n",
    "    order = res_this['order']\n",
    "    clsts = res_this['clst']\n",
    "\n",
    "    fig, axs = plt.subplots(1,5,figsize=(6*3,1*3), sharex=True, sharey=True)\n",
    "    fig.suptitle(f'{title} n={len(fmat):,}', y=1.08, fontsize=18)\n",
    "    axs[0].set_ylabel('fold change')\n",
    "    for i in range(5):\n",
    "        ax = axs[i]\n",
    "        prop = (clsts == i).sum() / len(fmat)\n",
    "        \n",
    "        y = np.mean(fmat[clsts==i], axis=0).reshape(11,5)[nr_condcodes] # .shape\n",
    "        ax.set_xticks([6,10,14,17,21])\n",
    "        for ycol, color in zip(y.T, colors_l23):\n",
    "            ax.plot(nr_times, ycol, '-', color=color)\n",
    "        \n",
    "        y = np.mean(fmat[clsts==i], axis=0).reshape(11,5)[dr_condcodes] # .shape\n",
    "        for ycol, color in zip(y.T, colors_l23):\n",
    "            ax.plot(dr_times+10, ycol, '-', color=color)\n",
    "\n",
    "        ax.axvline(12, color='k', linestyle='--', linewidth=1.5)\n",
    "        ax.axvline(22, color='k', linestyle='--', linewidth=1.5)\n",
    "        sns.despine(ax=ax)\n",
    "        ax.grid(False, axis='x')\n",
    "        ax.set_title(f'M{i+1}: {prop*100: .1f}%')"
   ]
  },
  {
   "cell_type": "code",
   "execution_count": null,
   "id": "6d51c1c1-c488-49ad-834f-a411d9e0085f",
   "metadata": {},
   "outputs": [],
   "source": []
  },
  {
   "cell_type": "code",
   "execution_count": null,
   "id": "afeab451-a640-4877-83c4-ae73b35a642f",
   "metadata": {},
   "outputs": [],
   "source": []
  },
  {
   "cell_type": "code",
   "execution_count": null,
   "id": "1d86080d-639b-4427-ac4a-d3ede53dca19",
   "metadata": {},
   "outputs": [],
   "source": []
  },
  {
   "cell_type": "code",
   "execution_count": null,
   "id": "1d86d1f9-4b8d-4159-8ba5-7a12dd7937b6",
   "metadata": {},
   "outputs": [],
   "source": []
  },
  {
   "cell_type": "code",
   "execution_count": null,
   "id": "b1f90591-9b52-46f0-a00a-bb1e09b33f2a",
   "metadata": {},
   "outputs": [],
   "source": []
  },
  {
   "cell_type": "code",
   "execution_count": null,
   "id": "ad04aa25-10e7-45f1-b3e9-a1c7a8c26ffd",
   "metadata": {
    "tags": []
   },
   "outputs": [],
   "source": [
    "    \n",
    "# for i in range(5):\n",
    "#     fout = f'~/v1_multiome/L23A_regions_M{i+1}.bed'\n",
    "#     peakset[np.any(cond_sig_a, axis=0)][res[0]['clst']==i].to_csv(fout, sep='\\t', header=False, index=False)\n",
    "    \n",
    "# for i in range(3):\n",
    "#     fout = f'~/v1_multiome/L23B_regions_M{i+1}.bed'\n",
    "#     peakset[np.any(cond_sig_bp, axis=0)][res[1]['clst']==i].to_csv(fout, sep='\\t', header=False, index=False)\n",
    "    \n",
    "# for i in range(5):\n",
    "#     fout = f'~/v1_multiome/L23C_regions_M{i+1}.bed'\n",
    "#     peakset[np.any(cond_sig_c, axis=0)][res[2]['clst']==i].to_csv(fout, sep='\\t', header=False, index=False)"
   ]
  }
 ],
 "metadata": {
  "kernelspec": {
   "display_name": "Python 3 (ipykernel)",
   "language": "python",
   "name": "python3"
  },
  "language_info": {
   "codemirror_mode": {
    "name": "ipython",
    "version": 3
   },
   "file_extension": ".py",
   "mimetype": "text/x-python",
   "name": "python",
   "nbconvert_exporter": "python",
   "pygments_lexer": "ipython3",
   "version": "3.9.16"
  }
 },
 "nbformat": 4,
 "nbformat_minor": 5
}
