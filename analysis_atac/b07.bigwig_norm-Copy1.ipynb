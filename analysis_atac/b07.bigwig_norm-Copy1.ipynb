{
 "cells": [
  {
   "cell_type": "code",
   "execution_count": null,
   "id": "3301ac60-82e5-47d3-9d3d-112375381c3c",
   "metadata": {
    "tags": []
   },
   "outputs": [],
   "source": [
    "import pyBigWig\n",
    "import numpy as np\n",
    "import subprocess"
   ]
  },
  {
   "cell_type": "markdown",
   "id": "3402e71b-f8df-49b5-a44c-c4103f45aed7",
   "metadata": {},
   "source": [
    "# merge, total, scale"
   ]
  },
  {
   "cell_type": "code",
   "execution_count": null,
   "id": "7b28ef9d-752d-40cb-91c6-1509d7eefd66",
   "metadata": {
    "tags": []
   },
   "outputs": [],
   "source": [
    "def allsum(bw, binsize=10):\n",
    "    \"\"\"\n",
    "    \"\"\"\n",
    "    num = 0\n",
    "    for chrom in bw.chroms().keys():\n",
    "        num += np.sum([i[2]*(i[1]-i[0])/binsize for i in bw.intervals(chrom)])\n",
    "        \n",
    "    return num"
   ]
  },
  {
   "cell_type": "code",
   "execution_count": null,
   "id": "b15b94b6-c657-47d2-ba2c-ad16ecea56bb",
   "metadata": {
    "tags": []
   },
   "outputs": [],
   "source": [
    "f = '/u/home/f/f7xiesnm/project-zipursky/v1-bb/v1/data/v1_multiome/atac_fragments/covr_snap_v2/covr_P14a_RT0.bw'\n",
    "bw0 = pyBigWig.open(f)"
   ]
  },
  {
   "cell_type": "code",
   "execution_count": null,
   "id": "d4b42b96-70b4-4fa4-8637-4fde2c968550",
   "metadata": {},
   "outputs": [],
   "source": [
    "allsum(bw0)"
   ]
  },
  {
   "cell_type": "code",
   "execution_count": null,
   "id": "4b82acf5-114a-475a-8cf4-7bcd840dc476",
   "metadata": {},
   "outputs": [],
   "source": []
  }
 ],
 "metadata": {
  "kernelspec": {
   "display_name": "snapatac2",
   "language": "python",
   "name": "snapatac2"
  },
  "language_info": {
   "codemirror_mode": {
    "name": "ipython",
    "version": 3
   },
   "file_extension": ".py",
   "mimetype": "text/x-python",
   "name": "python",
   "nbconvert_exporter": "python",
   "pygments_lexer": "ipython3",
   "version": "3.12.0"
  }
 },
 "nbformat": 4,
 "nbformat_minor": 5
}
