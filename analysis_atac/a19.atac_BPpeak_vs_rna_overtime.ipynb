{
 "cells": [
  {
   "cell_type": "code",
   "execution_count": null,
   "id": "40d3cf98-2f37-46b9-a606-af61ebef2881",
   "metadata": {
    "tags": []
   },
   "outputs": [],
   "source": [
    "import scipy.io\n",
    "import numpy as np\n",
    "import pandas as pd\n",
    "import scanpy as sc\n",
    "import h5py\n",
    "\n",
    "import os\n",
    "import numpy as np\n",
    "import pandas as pd\n",
    "import scanpy as sc\n",
    "import anndata \n",
    "import seaborn as sns\n",
    "from scipy.stats import zscore\n",
    "import matplotlib.pyplot as plt\n",
    "import collections\n",
    "from natsort import natsorted\n",
    "\n",
    "from scipy import stats\n",
    "from scipy import sparse\n",
    "from sklearn.decomposition import PCA\n",
    "from umap import UMAP\n",
    "\n",
    "from matplotlib.colors import LinearSegmentedColormap\n",
    "from statsmodels.stats.multitest import multipletests\n",
    "\n",
    "from scroutines.config_plots import *\n",
    "from scroutines import powerplots # .config_plots import *\n",
    "from scroutines import pnmf\n",
    "from scroutines import basicu\n",
    "from scroutines.gene_modules import GeneModules  "
   ]
  },
  {
   "cell_type": "code",
   "execution_count": null,
   "id": "a5446ad0-1bfd-4c20-80a5-aca7e78e55ac",
   "metadata": {
    "tags": []
   },
   "outputs": [],
   "source": [
    "def merge_peaks(df, chrom, start, end):\n",
    "    \"\"\"\n",
    "    \"\"\"\n",
    "    return df[chrom].astype(str)+\":\"+df[start].astype(str)+\"-\"+df[end].astype(str)"
   ]
  },
  {
   "cell_type": "code",
   "execution_count": null,
   "id": "f6d599e3-8115-4735-b232-c77d3932893d",
   "metadata": {
    "tags": []
   },
   "outputs": [],
   "source": [
    "def get_integer_bins(vec):\n",
    "    \"\"\"excluding 0; \n",
    "    bins = [0, 1, ..., max(vec)] + 0.5\n",
    "    mids = [   1, ..., max(vec)]\n",
    "    \"\"\"\n",
    "    bins = np.arange(0, np.max(vec)+1) + 0.5\n",
    "    mids = np.arange(1, np.max(vec)+1)\n",
    "    frq_sig_a, _ = np.histogram(vec, bins=bins)\n",
    "    \n",
    "    return frq_sig_a, mids "
   ]
  },
  {
   "cell_type": "code",
   "execution_count": null,
   "id": "80964f61-da34-47f7-a857-b50c92e2ea37",
   "metadata": {
    "tags": []
   },
   "outputs": [],
   "source": [
    "f = '/u/home/f/f7xiesnm/project-zipursky/v1-bb/v1/results_atac/all_Bp_peaks_unique.bed'\n",
    "df_allac_peaks = pd.read_csv(f, sep='\\t', header=None)\n",
    "df_allac_peaks['peak'] = merge_peaks(df_allac_peaks, 0,1,2)\n",
    "df_allac_peaks"
   ]
  },
  {
   "cell_type": "code",
   "execution_count": null,
   "id": "c97c2596-5b85-4018-8d00-3f5d9460a43f",
   "metadata": {},
   "outputs": [],
   "source": [
    "%%time\n",
    "# define cell order using RNA\n",
    "f_rna = '/u/home/f/f7xiesnm/project-zipursky/v1-bb/v1/data/v1_multiome/L23_allmultiome_proc_P6toP21.h5ad'\n",
    "adata = sc.read(f_rna) # , backed='r')\n",
    "cells_rna = np.array([c.split(' ')[0][:-len('-2023')] for c in adata.obs.index.values])\n",
    "adata.obs.index = cells_rna\n",
    "adata"
   ]
  },
  {
   "cell_type": "code",
   "execution_count": null,
   "id": "226fa1e4-8666-4629-b81c-1964c9053583",
   "metadata": {
    "tags": []
   },
   "outputs": [],
   "source": [
    "times = np.array([6,8,10,12,14,17,21]).astype(int)"
   ]
  },
  {
   "cell_type": "code",
   "execution_count": null,
   "id": "855dee94-0446-4dc8-8c97-6fae898cf6e2",
   "metadata": {
    "tags": []
   },
   "outputs": [],
   "source": [
    "# same peak set \n",
    "# get ATAC\n",
    "f = f'/u/home/f/f7xiesnm/project-zipursky/v1-bb/v1/data/v1_multiome/P6_ATAC_L23_peakbycell_filtered.h5ad'\n",
    "adata_pk = sc.read(f, backed='r')\n",
    "\n",
    "# select and order by all peak set\n",
    "peakset_idx = basicu.get_index_from_array(adata_pk.var['peak'].values, df_allac_peaks['peak'].values)\n",
    "assert np.all(peakset_idx != -1)\n",
    "peakset_idx.shape"
   ]
  },
  {
   "cell_type": "code",
   "execution_count": null,
   "id": "e40623c6-384a-49e4-935d-185e06cfb547",
   "metadata": {
    "tags": []
   },
   "outputs": [],
   "source": [
    "%%time\n",
    "\n",
    "n_time = len(times)\n",
    "n_type = 5\n",
    "n_peak = len(peakset_idx)\n",
    "tensor = np.zeros((n_time, n_type, n_peak))\n",
    "\n",
    "for i, ti in enumerate(times):\n",
    "    print(ti)\n",
    "    \n",
    "    # select and order by cells (RNA)\n",
    "    n_types = 5  \n",
    "    adatasub = adata[adata.obs['cond']==f'P{ti}']\n",
    "    cells_rna = adatasub.obs.index.values\n",
    "    cells_rna_type = pd.qcut(adatasub.obsm['pca_p17on'][...,0], n_types, labels=False)\n",
    "    \n",
    "    # get ATAC\n",
    "    f = f'/u/home/f/f7xiesnm/project-zipursky/v1-bb/v1/data/v1_multiome/P{ti}_ATAC_L23_peakbycell_filtered.h5ad'\n",
    "    adata_pk = sc.read(f)\n",
    "    adata_pk = adata_pk[:,peakset_idx]\n",
    "    \n",
    "    adata_pk.obs = adata_pk.obs.set_index('cell')\n",
    "    cells_atac = adata_pk.obs.index.values\n",
    "    \n",
    "    # per type\n",
    "    for j in range(n_types):\n",
    "        cells_j = np.intersect1d(cells_rna[cells_rna_type==j], cells_atac)\n",
    "        tensor[i,j] = np.mean(adata_pk[cells_j].X, axis=0)"
   ]
  },
  {
   "cell_type": "code",
   "execution_count": null,
   "id": "a4881318-e861-4dc8-8bbd-2b286424c4bc",
   "metadata": {
    "tags": []
   },
   "outputs": [],
   "source": [
    "from sklearn.cluster import KMeans"
   ]
  },
  {
   "cell_type": "code",
   "execution_count": null,
   "id": "9bbf3196-3e85-4c59-bb47-6a64ea0c8cda",
   "metadata": {
    "tags": []
   },
   "outputs": [],
   "source": [
    "mat = tensor.reshape(n_time*n_type, n_peak).T\n",
    "# mat = tensor[:3].reshape(3*n_type, n_peak).T\n",
    "mat.shape"
   ]
  },
  {
   "cell_type": "code",
   "execution_count": null,
   "id": "9bf1bd17-3a4c-443a-88f8-ca792261d029",
   "metadata": {
    "tags": []
   },
   "outputs": [],
   "source": [
    "n_peakset_clsts = 10\n",
    "method = KMeans(n_clusters=n_peakset_clsts)\n",
    "peakset_clst = method.fit_predict(mat)"
   ]
  },
  {
   "cell_type": "code",
   "execution_count": null,
   "id": "105ed858-159a-4d20-8f0a-c3b6bfc5e501",
   "metadata": {
    "tags": []
   },
   "outputs": [],
   "source": [
    "mat_mean = np.zeros((n_peakset_clsts, mat.shape[1]))\n",
    "for i in range(n_peakset_clsts):\n",
    "    mean_val = np.mean(mat[peakset_clst==i], axis=0) \n",
    "    z_mean = (mean_val - np.mean(mean_val))/np.std(mean_val)\n",
    "    mat_mean[i] = z_mean "
   ]
  },
  {
   "cell_type": "code",
   "execution_count": null,
   "id": "f2db3266-0657-421a-ae71-41da7406b030",
   "metadata": {
    "tags": []
   },
   "outputs": [],
   "source": [
    "# sns.heatmap(mat_mean, cmap='coolwarm')\n",
    "# set of A vs C peaks together \n",
    "g = sns.clustermap(mat_mean, col_cluster=False, cmap='coolwarm', figsize=(8,5), xticklabels=False, yticklabels=False)\n",
    "\n",
    "ax = g.ax_heatmap\n",
    "ax.set_xticks(0.5+np.arange(n_type))\n",
    "ax.set_xticklabels(['A', '~', 'B', '~', 'C'], fontsize=10)\n",
    "\n",
    "for i in range(n_time):\n",
    "    ax.axvline(i*n_type, color='k', linestyle='--', linewidth=1)\n",
    "    ax.text(i*n_type, 0, f'P{times[i]}')"
   ]
  },
  {
   "cell_type": "code",
   "execution_count": null,
   "id": "69e35b50-e719-416d-9c91-e175e434a36a",
   "metadata": {},
   "outputs": [],
   "source": []
  },
  {
   "cell_type": "code",
   "execution_count": null,
   "id": "1de01e58-85d3-41ce-a68b-5eb3701acc21",
   "metadata": {},
   "outputs": [],
   "source": []
  }
 ],
 "metadata": {
  "kernelspec": {
   "display_name": "napari",
   "language": "python",
   "name": "napari"
  },
  "language_info": {
   "codemirror_mode": {
    "name": "ipython",
    "version": 3
   },
   "file_extension": ".py",
   "mimetype": "text/x-python",
   "name": "python",
   "nbconvert_exporter": "python",
   "pygments_lexer": "ipython3",
   "version": "3.9.16"
  }
 },
 "nbformat": 4,
 "nbformat_minor": 5
}
