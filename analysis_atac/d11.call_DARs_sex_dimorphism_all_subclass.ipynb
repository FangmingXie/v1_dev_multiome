{
 "cells": [
  {
   "cell_type": "code",
   "execution_count": null,
   "id": "40d3cf98-2f37-46b9-a606-af61ebef2881",
   "metadata": {
    "tags": []
   },
   "outputs": [],
   "source": [
    "import numpy as np\n",
    "import pandas as pd\n",
    "import os\n",
    "import scanpy as sc\n",
    "import collections\n",
    "from scroutines import basicu\n",
    "\n",
    "import atac_utils\n",
    "import sys\n",
    "sys.path.insert(0, '../analysis_multiome')\n",
    "import lmm"
   ]
  },
  {
   "cell_type": "code",
   "execution_count": null,
   "id": "981e50da-c3de-4974-8965-aa9780dee1ea",
   "metadata": {
    "tags": []
   },
   "outputs": [],
   "source": [
    "outfigdir = '/u/home/f/f7xiesnm/project-zipursky/v1-bb/v1/results_sexual_dimorphism'\n",
    "!mkdir -p $outfigdir"
   ]
  },
  {
   "cell_type": "code",
   "execution_count": null,
   "id": "5b34def7-7392-4970-a572-1af01e1a508a",
   "metadata": {
    "tags": []
   },
   "outputs": [],
   "source": [
    "f1 = '/u/home/f/f7xiesnm/project-zipursky/v1-bb/v1/data/v1_multiome/superdupermegaRNA_hasraw_multiome.h5ad'\n",
    "f2 = '/u/home/f/f7xiesnm/v1_multiome/multiome_cell_sex_assignment_saumya.csv'\n",
    "\n",
    "meta = sc.read(f1, backed='r').obs\n",
    "df_sex = pd.read_csv(f2)\n",
    "meta = meta.join(df_sex.set_index('cell'))\n",
    "meta = meta[~meta['sex'].isnull()]\n",
    "meta"
   ]
  },
  {
   "cell_type": "code",
   "execution_count": null,
   "id": "19f8a009-40ae-41f8-81ed-437196183bee",
   "metadata": {
    "tags": []
   },
   "outputs": [],
   "source": [
    "sample_conditions = ['P6', 'P8', 'P10', 'P12', 'P17', 'P12DR', 'P14DR', 'P17DR', 'P21DR'] # no P14 P21\n",
    "subclasses = ['Astro', \n",
    "              'L2/3', 'L4', 'L5IT', 'L6IT', \n",
    "              'L5PT', 'L5NP', 'L6CT', 'L6b', \n",
    "              'Lamp5', 'Pvalb', 'Sst', 'Vip',\n",
    "              'OD', 'OPC', 'Micro',\n",
    "             ] # no others"
   ]
  },
  {
   "cell_type": "code",
   "execution_count": null,
   "id": "f8f34d26-be4f-4eb9-b6dc-651ed4270c1b",
   "metadata": {
    "tags": []
   },
   "outputs": [],
   "source": [
    "%%time\n",
    "\n",
    "scale   = 1e4 #1e4\n",
    "offset  = 1e-2 # 1e-2\n",
    "expr_th = 0.1 \n",
    "\n",
    "ddir = '/u/home/f/f7xiesnm/v1_multiome/atac_fragments/pmat_snap_v2/organized'\n",
    "\n",
    "for subclass in subclasses:\n",
    "    for exp_cond in sample_conditions:\n",
    "        try:\n",
    "            subclass_cure = subclass.replace('/', '')\n",
    "            output = os.path.join(outfigdir, f'ATAC_{exp_cond}_{subclass_cure}.csv')\n",
    "\n",
    "            # atac cells\n",
    "            f = f'{ddir}/pmat_{subclass_cure}_consensus_{exp_cond}.h5ad'\n",
    "            adata_pk = sc.read(f)\n",
    "            cells_atac = adata_pk.obs.index.values\n",
    "            print(adata_pk.shape)\n",
    "\n",
    "            # rna cells\n",
    "            metasub = meta[((meta['Age']==exp_cond) & (meta['Subclass']==subclass))]\n",
    "            cells_rna = metasub.index.values\n",
    "\n",
    "            # both cells\n",
    "            cells_both = np.intersect1d(cells_atac, cells_rna)\n",
    "\n",
    "            # meta\n",
    "            obs = meta.loc[cells_both, ['sex', 'Sample']].copy()\n",
    "            obs = obs.dropna() # no sex assignment\n",
    "            obs['sex'] = obs['sex'].apply(lambda x: x[0].upper())\n",
    "            obs['subject'] = np.char.add(obs['Sample'].values.astype(str), obs['sex'].values.astype(str))\n",
    "\n",
    "            adata_pk = adata_pk[obs.index]\n",
    "\n",
    "            # total counts across the selected regions\n",
    "            total_counts = np.array(adata_pk.X.sum(axis=1)).reshape(-1,1)\n",
    "\n",
    "            ### test\n",
    "            adata_pk = adata_pk[:,:20]\n",
    "            ### \n",
    "            genes = adata_pk.var.index.values\n",
    "\n",
    "            # peak size (500bp)\n",
    "            mat = np.array(adata_pk.X.todense()) \n",
    "            mat = mat/total_counts*scale\n",
    "\n",
    "            obs_fixed = 'sex'\n",
    "            obs_random = 'subject'\n",
    "\n",
    "            df_res = lmm.run_lmm(mat, genes, obs, obs_fixed, obs_random, min_max_expr_th=expr_th, output=output)\n",
    "            \n",
    "        except: \n",
    "            print(f\"!!!{subclass}_{exp_cond}\")\n",
    "\n"
   ]
  },
  {
   "cell_type": "code",
   "execution_count": null,
   "id": "26bd7576-41ad-4fd3-a19b-697229a7c1c0",
   "metadata": {},
   "outputs": [],
   "source": []
  }
 ],
 "metadata": {
  "kernelspec": {
   "display_name": "napari",
   "language": "python",
   "name": "napari"
  },
  "language_info": {
   "codemirror_mode": {
    "name": "ipython",
    "version": 3
   },
   "file_extension": ".py",
   "mimetype": "text/x-python",
   "name": "python",
   "nbconvert_exporter": "python",
   "pygments_lexer": "ipython3",
   "version": "3.9.16"
  }
 },
 "nbformat": 4,
 "nbformat_minor": 5
}
