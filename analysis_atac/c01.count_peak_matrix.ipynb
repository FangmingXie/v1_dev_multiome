{
 "cells": [
  {
   "cell_type": "code",
   "execution_count": null,
   "id": "af8fc976-78f1-4d72-86b2-713259604d46",
   "metadata": {
    "tags": []
   },
   "outputs": [],
   "source": [
    "import snapatac2 as snap\n",
    "import os"
   ]
  },
  {
   "cell_type": "code",
   "execution_count": null,
   "id": "23e0f065-5bc5-4c8a-b8dd-35ccf82cf518",
   "metadata": {
    "tags": []
   },
   "outputs": [],
   "source": [
    "ddir = '/u/home/f/f7xiesnm/v1_multiome/atac_fragments'\n",
    "# peak_file = '/u/home/f/f7xiesnm/project-zipursky/v1-bb/v1/results_atac/all_l23_peaks_sal.bed'\n",
    "peak_file = '/u/home/f/f7xiesnm/v1_multiome/atac_fragments/frag_bed/processed_peaks/consensus_peaks_v2.bed'\n",
    "\n",
    "samples = [\n",
    "    'P6a', 'P6b', 'P6c',\n",
    "    'P8a', 'P8b', 'P8c',\n",
    "    'P10a', 'P10b', \n",
    "    'P12a', 'P12b', 'P12c', \n",
    "    'P14a', 'P14b', \n",
    "    'P17a', 'P17b', \n",
    "    'P21a', 'P21b', \n",
    "\n",
    "    'P12DRa', 'P12DRb', \n",
    "    'P14DRa', 'P14DRb', \n",
    "    'P17DRa', 'P17DRb', \n",
    "    'P21DRa', 'P21DRb',\n",
    "    ]"
   ]
  },
  {
   "cell_type": "code",
   "execution_count": null,
   "id": "d40ea9e5-116d-460d-8ff5-d29d5e7caa62",
   "metadata": {
    "tags": []
   },
   "outputs": [],
   "source": [
    "for sample in samples:\n",
    "\n",
    "#     print(sample, flush=True)\n",
    "    input_file           = ddir+f'/frag_snap/ATAC_{sample}.h5ad'\n",
    "    output_peak_mat_file = ddir+f'/pmat_snap/pmat_l23concensus_{sample}.h5ad'\n",
    "    \n",
    "    data = snap.read(input_file)\n",
    "\n",
    "    print(f'generating {sample} peak matrix', flush=True)\n",
    "    peak_mat = snap.pp.make_peak_matrix(data, peak_file=peak_file, file=output_peak_mat_file)\n",
    "    \n",
    "    # break"
   ]
  },
  {
   "cell_type": "code",
   "execution_count": null,
   "id": "ad9755a1-e669-4a69-87b0-5feb822dd6e4",
   "metadata": {},
   "outputs": [],
   "source": []
  }
 ],
 "metadata": {
  "kernelspec": {
   "display_name": "snapatac2",
   "language": "python",
   "name": "snapatac2"
  },
  "language_info": {
   "codemirror_mode": {
    "name": "ipython",
    "version": 3
   },
   "file_extension": ".py",
   "mimetype": "text/x-python",
   "name": "python",
   "nbconvert_exporter": "python",
   "pygments_lexer": "ipython3",
   "version": "3.12.0"
  }
 },
 "nbformat": 4,
 "nbformat_minor": 5
}
