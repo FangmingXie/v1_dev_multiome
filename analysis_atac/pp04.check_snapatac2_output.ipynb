{
 "cells": [
  {
   "cell_type": "code",
   "execution_count": null,
   "id": "2c1e5769-d023-451b-9fbc-e5ff9ae2b2d2",
   "metadata": {
    "tags": []
   },
   "outputs": [],
   "source": [
    "import scanpy as sc\n",
    "import numpy as np\n",
    "\n",
    "import matplotlib.pyplot as plt"
   ]
  },
  {
   "cell_type": "code",
   "execution_count": null,
   "id": "64888a50-e0a4-417c-9e2f-b6693a5ac1e9",
   "metadata": {
    "tags": []
   },
   "outputs": [],
   "source": [
    "peak_file0 = '/u/home/f/f7xiesnm/project-zipursky/v1-bb/v1/data/v1_multiome/P21_ATAC_L23_peakbycell_filtered.h5ad'\n",
    "\n",
    "peak_mat0 = sc.read(peak_file0)\n",
    "peak_mat0 = peak_mat0[peak_mat0.obs['cell'].str.contains(r'P21a$')]\n",
    "peak_mat0"
   ]
  },
  {
   "cell_type": "code",
   "execution_count": null,
   "id": "e83fdb09-2f3e-41a3-b504-9414f10da4e3",
   "metadata": {
    "tags": []
   },
   "outputs": [],
   "source": [
    "l23_p21a_cells = np.array([cell[:-len('-P21a')] for cell in peak_mat0.obs['cell'].values])\n",
    "peak_mat0.obs.index = l23_p21a_cells\n",
    "l23_p21a_cells"
   ]
  },
  {
   "cell_type": "code",
   "execution_count": null,
   "id": "51261a8d-4ff3-4c20-af0a-d8a112de26e5",
   "metadata": {
    "tags": []
   },
   "outputs": [],
   "source": [
    "%%time\n",
    "ddir = '/u/home/f/f7xiesnm/project-zipursky/v1-bb/v1/data/v1_multiome/atac_fragments'\n",
    "peak_mat_file = ddir+f'/ATAC_peak_mat_P21a.h5ad'\n",
    "peak_mat = sc.read(peak_mat_file)\n",
    "print(peak_mat)"
   ]
  },
  {
   "cell_type": "markdown",
   "id": "bf01ddb0-6638-4a48-932d-8261cc7106a6",
   "metadata": {},
   "source": [
    "# do cells match? yes"
   ]
  },
  {
   "cell_type": "code",
   "execution_count": null,
   "id": "b34f259c-95ce-41eb-b72b-863ebff3ae42",
   "metadata": {
    "tags": []
   },
   "outputs": [],
   "source": [
    "overlap = np.intersect1d(peak_mat.obs.index.values, l23_p21a_cells)\n",
    "len(overlap)/len(l23_p21a_cells), len(overlap)"
   ]
  },
  {
   "cell_type": "markdown",
   "id": "95247e2f-6810-44cf-ba96-1f8eeb84aa92",
   "metadata": {
    "tags": []
   },
   "source": [
    "# do peaks match?"
   ]
  },
  {
   "cell_type": "code",
   "execution_count": null,
   "id": "45a6c820-7f23-47b6-99d4-e7c7e82a16b3",
   "metadata": {
    "tags": []
   },
   "outputs": [],
   "source": [
    "np.all(peak_mat0.var['peak'].values == peak_mat.var.index.values)"
   ]
  },
  {
   "cell_type": "code",
   "execution_count": null,
   "id": "3c12d27e-a426-492e-8b9a-1a187a266285",
   "metadata": {
    "tags": []
   },
   "outputs": [],
   "source": [
    "peak_mat0.var['peak']"
   ]
  },
  {
   "cell_type": "markdown",
   "id": "48dfac28-5e23-4239-9cb6-3a7ffbdd4833",
   "metadata": {},
   "source": [
    "# do counts match? "
   ]
  },
  {
   "cell_type": "code",
   "execution_count": null,
   "id": "2269f8d5-934e-4e34-9aec-bcc79c246043",
   "metadata": {
    "tags": []
   },
   "outputs": [],
   "source": [
    "peak_mat[overlap]"
   ]
  },
  {
   "cell_type": "code",
   "execution_count": null,
   "id": "369b2901-7ef1-443e-82c6-574d4102f088",
   "metadata": {
    "tags": []
   },
   "outputs": [],
   "source": [
    "peak_mat0[overlap]"
   ]
  },
  {
   "cell_type": "code",
   "execution_count": null,
   "id": "12507af8-c0c0-4e97-b0fa-cca1ef768245",
   "metadata": {
    "tags": []
   },
   "outputs": [],
   "source": [
    "peak_mat[overlap].X.todense().astype(np.float16)"
   ]
  },
  {
   "cell_type": "code",
   "execution_count": null,
   "id": "8b41f035-f28b-4de5-a404-3124b441d3d3",
   "metadata": {
    "tags": []
   },
   "outputs": [],
   "source": [
    "peak_mat0[overlap].X"
   ]
  },
  {
   "cell_type": "code",
   "execution_count": null,
   "id": "90f54efb-7098-4918-af79-845b8d297ba3",
   "metadata": {
    "tags": []
   },
   "outputs": [],
   "source": [
    "cov_peak = np.array(peak_mat[overlap].X.todense().sum(axis=0)).reshape(-1,)\n",
    "cov0_peak = np.array(peak_mat0[overlap].X.sum(axis=0)).reshape(-1,)"
   ]
  },
  {
   "cell_type": "code",
   "execution_count": null,
   "id": "1b6603f7-f59e-4a9e-b3fe-42263ac37c31",
   "metadata": {
    "tags": []
   },
   "outputs": [],
   "source": [
    "cov_cell = np.array(peak_mat[overlap].X.todense().mean(axis=1)).reshape(-1,)\n",
    "cov0_cell = np.array(peak_mat0[overlap].X.mean(axis=1)).reshape(-1,)"
   ]
  },
  {
   "cell_type": "code",
   "execution_count": null,
   "id": "762a0d0a-f196-423d-a58a-efd0fc80b928",
   "metadata": {
    "tags": []
   },
   "outputs": [],
   "source": [
    "plt.scatter(cov_peak, cov0_peak, s=1)"
   ]
  },
  {
   "cell_type": "code",
   "execution_count": null,
   "id": "bdf6d7ea-23db-456a-8f56-6ad99aa17205",
   "metadata": {
    "tags": []
   },
   "outputs": [],
   "source": [
    "plt.scatter(cov_cell, cov0_cell, s=1)"
   ]
  },
  {
   "cell_type": "code",
   "execution_count": null,
   "id": "03c25a51-1839-4923-bdfa-56556964f1a3",
   "metadata": {},
   "outputs": [],
   "source": []
  }
 ],
 "metadata": {
  "kernelspec": {
   "display_name": "napari",
   "language": "python",
   "name": "napari"
  },
  "language_info": {
   "codemirror_mode": {
    "name": "ipython",
    "version": 3
   },
   "file_extension": ".py",
   "mimetype": "text/x-python",
   "name": "python",
   "nbconvert_exporter": "python",
   "pygments_lexer": "ipython3",
   "version": "3.9.16"
  }
 },
 "nbformat": 4,
 "nbformat_minor": 5
}
