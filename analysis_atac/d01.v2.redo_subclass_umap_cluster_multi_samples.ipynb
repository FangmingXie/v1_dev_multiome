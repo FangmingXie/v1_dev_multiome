{
 "cells": [
  {
   "cell_type": "code",
   "execution_count": null,
   "id": "0d4f050b-d2de-45e7-8f7f-0dfba714408f",
   "metadata": {
    "tags": []
   },
   "outputs": [],
   "source": [
    "import snapatac2 as snap\n",
    "# import scanpy as sc\n",
    "import anndata as sc\n",
    "\n",
    "\n",
    "import numpy as np\n",
    "import pandas as pd\n",
    "\n",
    "# import matplotlib.pyplot as plt\n"
   ]
  },
  {
   "cell_type": "code",
   "execution_count": null,
   "id": "e64821c9-1b27-4753-b0ec-512467e88e34",
   "metadata": {
    "tags": []
   },
   "outputs": [],
   "source": [
    "snap.__version__"
   ]
  },
  {
   "cell_type": "code",
   "execution_count": null,
   "id": "840ee02e-fb67-4a7c-a0dc-eae10613cd61",
   "metadata": {
    "tags": []
   },
   "outputs": [],
   "source": [
    "def get_index_from_array(a, b):\n",
    "    \"\"\"get the indices of b elements in a array\n",
    "    \"\"\"\n",
    "    return pd.Series(a).reset_index().set_index(0).loc[b]['index'].values\n",
    "    \n",
    "    "
   ]
  },
  {
   "cell_type": "markdown",
   "id": "935c355e-326f-4364-95a7-842182734c5c",
   "metadata": {},
   "source": [
    "# RNA "
   ]
  },
  {
   "cell_type": "code",
   "execution_count": null,
   "id": "a83ea206-cee5-48cb-939e-ef04caf5978b",
   "metadata": {
    "tags": []
   },
   "outputs": [],
   "source": [
    "%%time\n",
    "f = '/u/home/f/f7xiesnm/project-zipursky/v1-bb/v1/data/v1_multiome/superdupermegaRNA_hasraw_P21.h5ad'\n",
    "adata_rna = sc.read(f, backed='r')\n",
    "adata_rna = adata_rna[adata_rna.obs['Study'] == '2023 Multiome']\n",
    "adata_rna"
   ]
  },
  {
   "cell_type": "code",
   "execution_count": null,
   "id": "2f919593-daec-41a4-ab3c-9cd6734daffb",
   "metadata": {
    "tags": []
   },
   "outputs": [],
   "source": [
    "rna_cells = adata_rna.obs.index.values\n",
    "print(rna_cells.shape)\n",
    "rna_cells"
   ]
  },
  {
   "cell_type": "markdown",
   "id": "ce8f8743-5c32-4a02-a0bb-4e50d87bb18d",
   "metadata": {},
   "source": [
    "# ATAC"
   ]
  },
  {
   "cell_type": "code",
   "execution_count": null,
   "id": "fa930e7d-f29a-41ab-9fb4-188c5461cbad",
   "metadata": {
    "tags": []
   },
   "outputs": [],
   "source": [
    "%%time\n",
    "f_snaps      = [\n",
    "    '/u/home/f/f7xiesnm/project-zipursky/v1-bb/v1/data/v1_multiome/atac_fragments/frag_snap/ATAC_P21a.h5ad',\n",
    "    '/u/home/f/f7xiesnm/project-zipursky/v1-bb/v1/data/v1_multiome/atac_fragments/frag_snap/ATAC_P21b.h5ad',\n",
    "]\n",
    "samples = ['P21a', 'P21b']\n",
    "f_snap_set  = '/u/home/f/f7xiesnm/project-zipursky/v1-bb/v1/data/v1_multiome/atac_fragments/snap_P21ab.h5ad'\n",
    "f_snap_bin  = '/u/home/f/f7xiesnm/project-zipursky/v1-bb/v1/data/v1_multiome/atac_fragments/snap_P21ab_500kbbin.h5ad'\n",
    "f_snap_bin2 = '/u/home/f/f7xiesnm/project-zipursky/v1-bb/v1/data/v1_multiome/atac_fragments/snap_P21ab_500kbbin_org.h5ad'\n",
    "f_snap_bin3 = '/u/home/f/f7xiesnm/project-zipursky/v1-bb/v1/data/v1_multiome/atac_fragments/snap_P21ab_500kbbin_org_v2.h5ad'\n",
    "\n",
    "adatas = []\n",
    "for sample, f_snap in zip(samples, f_snaps):\n",
    "    adata = snap.read(f_snap) # , backed='r')\n",
    "    adatas.append((sample, adata))\n",
    "\n",
    "adatas = snap.AnnDataSet(adatas, filename=f_snap_set)"
   ]
  },
  {
   "cell_type": "code",
   "execution_count": null,
   "id": "6d14b403-3eab-4722-93ad-857a3e959666",
   "metadata": {
    "tags": []
   },
   "outputs": [],
   "source": [
    "# %%time\n",
    "# bindata = snap.pp.add_tile_matrix(adatas, bin_size=500, inplace=False,\n",
    "#                                   file=f_snap_bin,\n",
    "#                                   ) "
   ]
  },
  {
   "cell_type": "code",
   "execution_count": null,
   "id": "a69d7055-7696-4f13-9e0b-c24b153306ae",
   "metadata": {
    "tags": []
   },
   "outputs": [],
   "source": [
    "# datashadow\n",
    "## cellname = f\"{barcode}-1-{sample}-2023 Multiome-{condition_code}-0\"\n",
    "\n",
    "atac_cells = adatas.obs_names\n",
    "sample_labels = np.array(adatas.obs['sample']) ##.values\n",
    "atac_cells = np.array([f'{c}-{s}-2023 Multiome-9-0' for c,s in zip(atac_cells, sample_labels)])\n",
    "\n",
    "both_cells = np.intersect1d(rna_cells, atac_cells)\n",
    "both_cells_idx = get_index_from_array(atac_cells, both_cells)\n",
    "print(rna_cells.shape, \n",
    "      atac_cells.shape, \n",
    "      both_cells.shape, \n",
    "      len(both_cells)/len(rna_cells))"
   ]
  },
  {
   "cell_type": "code",
   "execution_count": null,
   "id": "423d609f-4be9-4a6e-8238-30661ac582fa",
   "metadata": {
    "tags": []
   },
   "outputs": [],
   "source": [
    "# bindatasub = bindata.to_memory()[both_cells_idx]\n",
    "# bindatasub.write(f_snap_bin2)"
   ]
  },
  {
   "cell_type": "markdown",
   "id": "f84ec866-d3dc-4bdb-a176-2f33855d9679",
   "metadata": {},
   "source": [
    "# read bindatasub"
   ]
  },
  {
   "cell_type": "code",
   "execution_count": null,
   "id": "b80c14ce-03d2-4549-8638-2cf7b25bb580",
   "metadata": {
    "tags": []
   },
   "outputs": [],
   "source": [
    "bindatasub = snap.read(f_snap_bin2) # , backed='r')\n",
    "bindatasub"
   ]
  },
  {
   "cell_type": "code",
   "execution_count": null,
   "id": "715d8774-7675-4734-9f58-f504198d449b",
   "metadata": {},
   "outputs": [],
   "source": []
  },
  {
   "cell_type": "code",
   "execution_count": null,
   "id": "8d5b4e06-e899-47fc-b972-0a48cb2a31b6",
   "metadata": {
    "tags": []
   },
   "outputs": [],
   "source": [
    "%%time\n",
    "# snap.tl.spectral(bindatasub, features='selected')\n",
    "snap.tl.spectral(bindatasub, features=None)"
   ]
  },
  {
   "cell_type": "code",
   "execution_count": null,
   "id": "13ba5fed-a341-4519-aa84-cfd10156ca86",
   "metadata": {
    "tags": []
   },
   "outputs": [],
   "source": [
    "%%time\n",
    "snap.tl.umap(bindatasub)"
   ]
  },
  {
   "cell_type": "code",
   "execution_count": null,
   "id": "c12f3424-8e36-4471-93f9-dc8eacea7f21",
   "metadata": {
    "tags": []
   },
   "outputs": [],
   "source": [
    "%%time\n",
    "snap.pp.knn(bindatasub, use_rep=\"X_spectral\")"
   ]
  },
  {
   "cell_type": "code",
   "execution_count": null,
   "id": "c81d2a27-e8ff-4221-852f-ab8d4cd8a5e9",
   "metadata": {
    "tags": []
   },
   "outputs": [],
   "source": [
    "# bindatasub\n",
    "bindatasub.write(f_snap_bin3)"
   ]
  },
  {
   "cell_type": "markdown",
   "id": "046c4ef3-f9d8-4a81-95c6-51732b2e2d45",
   "metadata": {},
   "source": [
    "# Leiden "
   ]
  },
  {
   "cell_type": "code",
   "execution_count": null,
   "id": "b834a1e2-237e-4734-a83d-57045e7c7050",
   "metadata": {
    "tags": []
   },
   "outputs": [],
   "source": [
    "%%time\n",
    "snap.tl.leiden(bindatasub, resolution=2)"
   ]
  },
  {
   "cell_type": "code",
   "execution_count": null,
   "id": "19c0f226-7801-4527-854e-f88f39ebe600",
   "metadata": {
    "tags": []
   },
   "outputs": [],
   "source": [
    "umapXY = bindatasub.obsm['X_umap']\n",
    "cell_labels = adata_rna.obs['Subclass'].loc[both_cells]\n",
    "dfplot = pd.DataFrame(umapXY)\n",
    "dfplot['label'] = cell_labels.values\n",
    "dfplot['leiden'] = bindatasub.obs['leiden']#.values\n",
    "dfplot['cell'] = both_cells\n",
    "# sex_indicators = (np.ravel(adata[both_cells,'Xist'].X.todense())>0) #obs"
   ]
  },
  {
   "cell_type": "code",
   "execution_count": null,
   "id": "f023a63e-5b6e-4919-83f5-428e5e05e2b0",
   "metadata": {},
   "outputs": [],
   "source": [
    "snap.pl.umap(bindatasub, color=cell_labels, interactive=False)"
   ]
  },
  {
   "cell_type": "code",
   "execution_count": null,
   "id": "64b6125d-aa26-4f18-8b37-7972cc04e71e",
   "metadata": {
    "tags": []
   },
   "outputs": [],
   "source": [
    "snap.pl.umap(bindatasub, color=\"leiden\", interactive=False)"
   ]
  },
  {
   "cell_type": "code",
   "execution_count": null,
   "id": "6dac6d34-f76b-4b0e-80bc-de97db3abbfd",
   "metadata": {
    "tags": []
   },
   "outputs": [],
   "source": [
    "# confmat = dfplot.groupby(['leiden', 'label']).size().unstack()\n",
    "# confmat.to_csv('/u/home/f/f7xiesnm/v1_multiome/rna_atac_confmat_p21_l23.csv')\n",
    "# confmat_norm = confmat.divide(confmat.sum(axis=1), axis=0)\n",
    "# confmat_norm"
   ]
  },
  {
   "cell_type": "code",
   "execution_count": null,
   "id": "bd4e5cd5-c51a-4190-a83e-f487d1b00787",
   "metadata": {
    "tags": []
   },
   "outputs": [],
   "source": [
    "# dfplot.to_csv('/u/home/f/f7xiesnm/v1_multiome/P21_atac_umap.csv')"
   ]
  },
  {
   "cell_type": "code",
   "execution_count": null,
   "id": "d4523989-bd6f-43a3-ba2c-a6bc749b186f",
   "metadata": {
    "tags": []
   },
   "outputs": [],
   "source": [
    "# snap.pl.umap(bindatasub, color=sex_indicators, interactive=False, height=500)"
   ]
  }
 ],
 "metadata": {
  "kernelspec": {
   "display_name": "snapatac2",
   "language": "python",
   "name": "snapatac2"
  },
  "language_info": {
   "codemirror_mode": {
    "name": "ipython",
    "version": 3
   },
   "file_extension": ".py",
   "mimetype": "text/x-python",
   "name": "python",
   "nbconvert_exporter": "python",
   "pygments_lexer": "ipython3",
   "version": "3.12.0"
  }
 },
 "nbformat": 4,
 "nbformat_minor": 5
}
