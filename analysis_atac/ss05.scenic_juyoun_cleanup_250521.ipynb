{
 "cells": [
  {
   "cell_type": "markdown",
   "id": "3df93694-bb4e-49fe-86bb-4eff13578ccc",
   "metadata": {},
   "source": [
    "# Questions\n",
    "- which TFs make into a regulon and which do not? \n",
    "\n",
    "- TFBS database\n",
    "- level of expression \n",
    "- additional criteria? "
   ]
  },
  {
   "cell_type": "code",
   "execution_count": null,
   "id": "437c54b0-ae15-4086-a0e8-35e41e214a20",
   "metadata": {
    "tags": []
   },
   "outputs": [],
   "source": [
    "import os\n",
    "import numpy as np\n",
    "import pandas as pd\n",
    "import scanpy as sc\n",
    "import anndata \n",
    "import seaborn as sns\n",
    "from scipy.stats import zscore\n",
    "import matplotlib.pyplot as plt\n",
    "import collections\n",
    "from natsort import natsorted\n",
    "\n",
    "from scipy import stats\n",
    "from scipy import sparse\n",
    "from sklearn.decomposition import PCA\n",
    "from umap import UMAP\n",
    "from statsmodels.stats.multitest import multipletests\n",
    "\n",
    "from matplotlib.colors import LinearSegmentedColormap\n",
    "\n",
    "from scroutines.config_plots import *\n",
    "from scroutines import powerplots # .config_plots import *\n",
    "from scroutines import pnmf\n",
    "from scroutines import basicu\n",
    "from scroutines.gene_modules import GeneModules  \n",
    "\n",
    "import atac_utils"
   ]
  },
  {
   "cell_type": "code",
   "execution_count": null,
   "id": "8e2754f5-afdd-4e64-bc2a-28ca5c802f2a",
   "metadata": {
    "tags": []
   },
   "outputs": [],
   "source": [
    "ddir = '/u/home/f/f7xiesnm/v1_multiome/juyoun/' \n",
    "f = ddir+'L23alltime_eRegulon_metadata_unfiltered.csv'\n",
    "# scenic metadata\n",
    "df_scenic = pd.read_csv(f, index_col=0)\n",
    "assert np.all(df_scenic['Region_signature_name'].apply(lambda x: x.split('(')[0][:-1]).values\n",
    "           == df_scenic['Gene_signature_name'].apply(lambda x: x.split('(')[0][:-1]).values)\n",
    "df_scenic['Consensus_name'] = df_scenic['Gene_signature_name'].apply(lambda x: x.split('(')[0][:-1])\n",
    "df_scenic['signs'] = df_scenic['Consensus_name'].apply(lambda x: x[-3:])\n",
    "df_scenic"
   ]
  },
  {
   "cell_type": "code",
   "execution_count": null,
   "id": "21cc515d-c720-43d3-857a-d7a50b8484cc",
   "metadata": {
    "tags": []
   },
   "outputs": [],
   "source": [
    "df_reg = df_scenic.groupby(['TF', 'signs', 'is_extended',  'Consensus_name',]).first()[['Region_signature_name', 'Gene_signature_name', ]].sort_values('TF')\n",
    "\n",
    "scenic_regions = np.sort(df_scenic['Region'].unique()) # .shape\n",
    "scenic_genes = np.sort(df_scenic['Gene'].unique()) # .shape\n",
    "scenic_tfs = np.sort(df_scenic['TF'].unique())\n",
    "\n",
    "num_reg    = len(df_reg)\n",
    "num_tf     = len(scenic_tfs)\n",
    "num_gene = len(scenic_genes)\n",
    "num_region = len(scenic_regions)\n",
    "print(num_reg, num_tf, num_gene, num_region)\n",
    "df_reg"
   ]
  },
  {
   "cell_type": "code",
   "execution_count": null,
   "id": "0b68fb20-5e5e-4ced-b063-57c5ead710a1",
   "metadata": {
    "tags": []
   },
   "outputs": [],
   "source": [
    "df_reg.reset_index().groupby('TF').size().sort_values()"
   ]
  },
  {
   "cell_type": "code",
   "execution_count": null,
   "id": "610e3552-d2e7-4ce8-b256-dbf2686a49f6",
   "metadata": {
    "tags": []
   },
   "outputs": [],
   "source": [
    "df_reg.loc['Meis2']"
   ]
  },
  {
   "cell_type": "markdown",
   "id": "c5feccee-ec2c-46a9-8971-96458131ff82",
   "metadata": {},
   "source": [
    "# trim\n",
    "- a regulon can be uniquely identified by (TF, signs, is_extended) \n",
    "- if two regulons share the same (TF, signs), only keep the ones that is 'is_extended' "
   ]
  },
  {
   "cell_type": "code",
   "execution_count": null,
   "id": "326c1caa-fb84-4a0e-b560-26924f0385b3",
   "metadata": {
    "tags": []
   },
   "outputs": [],
   "source": [
    "df_reg_out = df_reg.reset_index().sort_values(['TF', 'signs', 'is_extended']).reset_index().drop('index', axis=1)\n",
    "df_reg_out"
   ]
  },
  {
   "cell_type": "code",
   "execution_count": null,
   "id": "894e9fab-6e4f-4d44-8c41-099fb13925b7",
   "metadata": {
    "tags": []
   },
   "outputs": [],
   "source": [
    "df_reg2 = df_reg_out.sort_values(['TF', 'signs', 'is_extended'], ascending=False).reset_index().groupby(['TF', 'signs']).first() #groupby('TF').size()\n",
    "df_reg2"
   ]
  },
  {
   "cell_type": "code",
   "execution_count": null,
   "id": "b85f124f-3da7-4ccc-9065-89a460b35e4b",
   "metadata": {
    "tags": []
   },
   "outputs": [],
   "source": [
    "df_reg2.loc['Meis2'] # .groupby(['TF', 'signs']).size().sort_values()"
   ]
  },
  {
   "cell_type": "code",
   "execution_count": null,
   "id": "62421d4d-8ebb-42d3-9db0-5711b15bc63e",
   "metadata": {
    "tags": []
   },
   "outputs": [],
   "source": [
    "trimmed_regulons = df_reg2['Consensus_name']\n",
    "df_scenic2 = df_scenic[df_scenic['Consensus_name'].isin(trimmed_regulons)]\n",
    "df_scenic2"
   ]
  },
  {
   "cell_type": "code",
   "execution_count": null,
   "id": "9e756eba-d648-4c6a-9dcc-640a34b3a6ca",
   "metadata": {
    "tags": []
   },
   "outputs": [],
   "source": [
    "df_scenic2['Consensus_name'].unique().shape"
   ]
  },
  {
   "cell_type": "code",
   "execution_count": null,
   "id": "a88f526d-5776-42cc-a3de-45d46eac3409",
   "metadata": {
    "tags": []
   },
   "outputs": [],
   "source": [
    "df_reg_out.shape, df_reg2.shape"
   ]
  },
  {
   "cell_type": "code",
   "execution_count": null,
   "id": "b6bf7735-49be-4ec2-8091-8e60004512ad",
   "metadata": {
    "tags": []
   },
   "outputs": [],
   "source": []
  },
  {
   "cell_type": "code",
   "execution_count": null,
   "id": "172e91e2-5a23-4ac5-8ccd-bde2ab299903",
   "metadata": {},
   "outputs": [],
   "source": []
  },
  {
   "cell_type": "markdown",
   "id": "924c9fdd-6c46-4cd7-bf54-3d06a2a6aa11",
   "metadata": {},
   "source": [
    "# df_reg_new\n",
    "- remove the name \"extended\""
   ]
  },
  {
   "cell_type": "code",
   "execution_count": null,
   "id": "c85d8b23-c192-449c-bec7-590cdf7325dc",
   "metadata": {
    "tags": []
   },
   "outputs": [],
   "source": [
    "df_reg_new = df_reg2.copy()\n",
    "df_reg_new['Consensus_name'] = df_reg_new['Consensus_name'].apply(lambda x: \"\".join(x.split('_extended')))\n",
    "df_reg_new['Region_signature_name'] = df_reg_new['Region_signature_name'].apply(lambda x: \"\".join(x.split('_extended')))\n",
    "df_reg_new['Gene_signature_name'] = df_reg_new['Gene_signature_name'].apply(lambda x: \"\".join(x.split('_extended')))\n",
    "df_reg_new"
   ]
  },
  {
   "cell_type": "code",
   "execution_count": null,
   "id": "683c49a2-4b9e-4f37-8855-d41e09cb99a1",
   "metadata": {
    "tags": []
   },
   "outputs": [],
   "source": [
    "df_scenic_new = df_scenic2.copy()\n",
    "df_scenic_new['Consensus_name'] = df_scenic_new['Consensus_name'].apply(lambda x: \"\".join(x.split('_extended')))\n",
    "df_scenic_new['Region_signature_name'] = df_scenic_new['Region_signature_name'].apply(lambda x: \"\".join(x.split('_extended')))\n",
    "df_scenic_new['Gene_signature_name'] = df_scenic_new['Gene_signature_name'].apply(lambda x: \"\".join(x.split('_extended')))\n",
    "df_scenic_new"
   ]
  },
  {
   "cell_type": "code",
   "execution_count": null,
   "id": "c4df55fc-2a8d-42ce-a34a-b568d5053738",
   "metadata": {
    "tags": []
   },
   "outputs": [],
   "source": [
    "df_reg_out.shape, df_reg2.shape, df_scenic2.shape, df_reg_new.shape, df_scenic_new.shape"
   ]
  },
  {
   "cell_type": "code",
   "execution_count": null,
   "id": "7490cb62-9221-4005-83b8-f8e66f585d45",
   "metadata": {
    "tags": []
   },
   "outputs": [],
   "source": [
    "df_reg_out   .to_csv('/u/home/f/f7xiesnm/v1_multiome/juyoun/regulons_l23alltime_all.csv')\n",
    "df_reg2      .to_csv('/u/home/f/f7xiesnm/v1_multiome/juyoun/regulons_l23alltime_trimmed.csv')\n",
    "df_scenic2   .to_csv('/u/home/f/f7xiesnm/v1_multiome/juyoun/regulons_l23alltime_trimmed_bigtable.csv')\n",
    "df_reg_new   .to_csv('/u/home/f/f7xiesnm/v1_multiome/juyoun/regulons_l23alltime_trimmed_cleaned.csv')\n",
    "df_scenic_new.to_csv('/u/home/f/f7xiesnm/v1_multiome/juyoun/regulons_l23alltime_trimmed_cleaned_bigtable.csv')"
   ]
  },
  {
   "cell_type": "markdown",
   "id": "f0d0d98d-7cb7-4be3-8387-1e2d9b865b02",
   "metadata": {},
   "source": [
    "# get region_list"
   ]
  },
  {
   "cell_type": "code",
   "execution_count": null,
   "id": "3788cd58-416e-4f7b-9770-aa162dc281ad",
   "metadata": {
    "tags": []
   },
   "outputs": [],
   "source": [
    "scenic_regions = np.sort(df_scenic_new['Region'].unique()) # .shape\n",
    "scenic_regions.shape"
   ]
  },
  {
   "cell_type": "code",
   "execution_count": null,
   "id": "b2653d33-a128-4400-8e2e-e12e740f2995",
   "metadata": {
    "tags": []
   },
   "outputs": [],
   "source": [
    "outbed = '/u/home/f/f7xiesnm/v1_multiome/juyoun/scenic_regions_v2.bed'\n",
    "df_scenic_regions = pd.DataFrame() \n",
    "df_scenic_regions['chr']   = [i.split(':')[0] for i in scenic_regions]\n",
    "df_scenic_regions['start'] = [i.split(':')[1].split('-')[0] for i in scenic_regions]\n",
    "df_scenic_regions['end']   = [i.split(':')[1].split('-')[1] for i in scenic_regions]\n",
    "df_scenic_regions.to_csv(outbed, sep='\\t', index=False, header=False, )\n",
    "df_scenic_regions"
   ]
  },
  {
   "cell_type": "code",
   "execution_count": null,
   "id": "19d8b494-4ffe-46b4-841c-672f78afd809",
   "metadata": {
    "tags": []
   },
   "outputs": [],
   "source": [
    "!wc -l $outbed\n",
    "!head $outbed"
   ]
  },
  {
   "cell_type": "code",
   "execution_count": null,
   "id": "0c6b310d-5692-4cee-8302-13cab2ef925e",
   "metadata": {},
   "outputs": [],
   "source": []
  }
 ],
 "metadata": {
  "kernelspec": {
   "display_name": "Python 3 (ipykernel)",
   "language": "python",
   "name": "python3"
  },
  "language_info": {
   "codemirror_mode": {
    "name": "ipython",
    "version": 3
   },
   "file_extension": ".py",
   "mimetype": "text/x-python",
   "name": "python",
   "nbconvert_exporter": "python",
   "pygments_lexer": "ipython3",
   "version": "3.9.16"
  }
 },
 "nbformat": 4,
 "nbformat_minor": 5
}
