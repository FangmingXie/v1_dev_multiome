{
 "cells": [
  {
   "cell_type": "markdown",
   "id": "3df93694-bb4e-49fe-86bb-4eff13578ccc",
   "metadata": {},
   "source": [
    "# Questions\n",
    "- which TFs make into a regulon and which do not? \n",
    "\n",
    "- TFBS database\n",
    "- level of expression \n",
    "- additional criteria? "
   ]
  },
  {
   "cell_type": "code",
   "execution_count": null,
   "id": "437c54b0-ae15-4086-a0e8-35e41e214a20",
   "metadata": {
    "tags": []
   },
   "outputs": [],
   "source": [
    "import os\n",
    "import numpy as np\n",
    "import pandas as pd\n",
    "import scanpy as sc\n",
    "import anndata \n",
    "import seaborn as sns\n",
    "from scipy.stats import zscore\n",
    "import matplotlib.pyplot as plt\n",
    "import collections\n",
    "from natsort import natsorted\n",
    "\n",
    "from scipy import stats\n",
    "from scipy import sparse\n",
    "from sklearn.decomposition import PCA\n",
    "from umap import UMAP\n",
    "from statsmodels.stats.multitest import multipletests\n",
    "\n",
    "from matplotlib.colors import LinearSegmentedColormap\n",
    "\n",
    "from scroutines.config_plots import *\n",
    "from scroutines import powerplots # .config_plots import *\n",
    "from scroutines import pnmf\n",
    "from scroutines import basicu\n",
    "from scroutines.gene_modules import GeneModules  \n",
    "\n",
    "import atac_utils"
   ]
  },
  {
   "cell_type": "code",
   "execution_count": null,
   "id": "16b5b639-5f49-4cee-9d44-9a44131b34e7",
   "metadata": {
    "tags": []
   },
   "outputs": [],
   "source": [
    "f = '/u/home/f/f7xiesnm/v1_multiome/res/regulon_clusters_250515.csv'\n",
    "df_reg_clst = pd.read_csv(f, index_col=0)\n",
    "df_reg_clst['tf'] = df_reg_clst['regulon'].apply(lambda x: x.split('_')[0])\n",
    "df_reg_clst = df_reg_clst.set_index('tf')\n",
    "df_reg_clst"
   ]
  },
  {
   "cell_type": "code",
   "execution_count": null,
   "id": "8e2754f5-afdd-4e64-bc2a-28ca5c802f2a",
   "metadata": {
    "tags": []
   },
   "outputs": [],
   "source": [
    "ddir = '/u/home/f/f7xiesnm/v1_multiome/juyoun/' \n",
    "f = ddir+'L23alltime_eReg_metadata_filtered.csv'\n",
    "# scenic metadata\n",
    "df_scenic = pd.read_csv(f, index_col=0)\n",
    "df_scenic\n"
   ]
  },
  {
   "cell_type": "code",
   "execution_count": null,
   "id": "21cc515d-c720-43d3-857a-d7a50b8484cc",
   "metadata": {
    "tags": []
   },
   "outputs": [],
   "source": [
    "df_reg = df_scenic.groupby(['TF', 'is_extended', 'Consensus_name']).first()[['Region_signature_name', 'Gene_signature_name']].sort_values('TF')\n",
    "\n",
    "scenic_regions = np.sort(df_scenic['Region'].unique()) # .shape\n",
    "scenic_genes = np.sort(df_scenic['Gene'].unique()) # .shape\n",
    "scenic_tfs = np.sort(df_scenic['TF'].unique())\n",
    "\n",
    "num_reg    = len(df_reg)\n",
    "num_tf     = len(scenic_tfs)\n",
    "num_gene = len(scenic_genes)\n",
    "num_region = len(scenic_regions)\n",
    "print(num_reg, num_tf, num_gene, num_region)\n",
    "df_reg"
   ]
  },
  {
   "cell_type": "markdown",
   "id": "fa51c8e4-a587-4707-bcfd-92e550d0ce85",
   "metadata": {},
   "source": [
    "# Put all regulons together - network plot"
   ]
  },
  {
   "cell_type": "code",
   "execution_count": null,
   "id": "3058a737-be26-49c6-87ee-fe3de6c84435",
   "metadata": {
    "tags": []
   },
   "outputs": [],
   "source": [
    "df_scenic_tfp = df_scenic[((df_scenic['Gene'].isin(scenic_tfs)) & (df_scenic['TF2G_regulation']==1))]\n",
    "df_tfpi = df_scenic_tfp.groupby(['TF', 'Gene']).first().reset_index()[['TF', 'Gene']] #.unstack()\n",
    "df_tfpi"
   ]
  },
  {
   "cell_type": "code",
   "execution_count": null,
   "id": "a94e4889-ed31-42ee-9947-3dc9ea047f60",
   "metadata": {
    "tags": []
   },
   "outputs": [],
   "source": [
    "import plotly.graph_objects as go\n",
    "import networkx as nx\n",
    "from node2vec import Node2Vec\n",
    "from sklearn.manifold import TSNE\n",
    "\n",
    "connections = df_tfpi.values\n",
    "G = nx.DiGraph()\n",
    "G.add_edges_from(connections)\n",
    "len(G.nodes), len(G.edges)"
   ]
  },
  {
   "cell_type": "code",
   "execution_count": null,
   "id": "197d9ba9-6bbd-40a6-bdc0-cd9a52897f00",
   "metadata": {
    "tags": []
   },
   "outputs": [],
   "source": [
    "pos_v1 = nx.spring_layout(G)\n",
    "\n",
    "node2vec = Node2Vec(G, dimensions=64, walk_length=30, num_walks=200) #, workers=2)\n",
    "model = node2vec.fit(window=10, min_count=1)\n",
    "X = model.wv[G.nodes]  # node IDs must be strings\n",
    "X_2d = TSNE(n_components=2, random_state=0).fit_transform(X)\n",
    "pos_v2 = {node: X_2d[i] for i, node in enumerate(G.nodes)}"
   ]
  },
  {
   "cell_type": "code",
   "execution_count": null,
   "id": "9b4ba3d8-eea7-4ddd-865b-20c498d6060f",
   "metadata": {
    "tags": []
   },
   "outputs": [],
   "source": [
    "def rgb_to_hex(r, g, b):\n",
    "    return \"#{:02X}{:02X}{:02X}\".format(r, g, b)\n",
    "\n",
    "palette = sns.color_palette('tab20', n_colors=9)\n",
    "palette"
   ]
  },
  {
   "cell_type": "code",
   "execution_count": null,
   "id": "6964d50a-2809-4f8e-b33d-9e4bcbfc6102",
   "metadata": {
    "tags": []
   },
   "outputs": [],
   "source": [
    "hex_palette = np.array([rgb_to_hex(*(np.array(color)*255).astype(int)) for color in palette])\n",
    "hex_palette"
   ]
  },
  {
   "cell_type": "code",
   "execution_count": null,
   "id": "291584d3-7611-4c96-9388-58beec4f8977",
   "metadata": {
    "tags": []
   },
   "outputs": [],
   "source": [
    "pos = pos_v2\n",
    "colors = hex_palette[df_reg_clst.reindex(G.nodes)['clst'].fillna(-1).astype(int)]\n",
    "\n",
    "# 3. Create edge traces as arrows using shapes\n",
    "edge_shapes = []\n",
    "for u, v in G.edges():\n",
    "    x0, y0 = pos[u]\n",
    "    x1, y1 = pos[v]\n",
    "    edge_shapes.append(\n",
    "        dict(\n",
    "            type=\"line\",\n",
    "            x0=x0, y0=y0,\n",
    "            x1=x1, y1=y1,\n",
    "            line=dict(width=1, color=\"black\"),\n",
    "            axref='x', ayref='y',\n",
    "            xref='x', yref='y'\n",
    "        )\n",
    "    )\n",
    "    # Add arrowhead using annotation\n",
    "    edge_shapes.append(\n",
    "        dict(\n",
    "            type=\"path\",\n",
    "            path=f\"M {x0},{y0} L{x1},{y1}\",\n",
    "            line=dict(color=\"black\"),\n",
    "        )\n",
    "    )\n",
    "\n",
    "# 4. Create node scatter trace\n",
    "node_trace = go.Scatter(\n",
    "    x=[pos[n][0] for n in G.nodes()],\n",
    "    y=[pos[n][1] for n in G.nodes()],\n",
    "    mode='markers+text',\n",
    "    text=[n for n in G.nodes()],\n",
    "    textposition='top center',\n",
    "    marker=dict(size=10, color=colors),#, line=dict(width=1, color='black')),\n",
    "    hoverinfo='text'\n",
    ")\n",
    "\n",
    "\n",
    "# 5. Add arrows using annotations\n",
    "annotations = []\n",
    "for u, v in G.edges():\n",
    "    x0, y0 = pos[u]\n",
    "    x1, y1 = pos[v]\n",
    "    annotations.append(\n",
    "        dict(\n",
    "            ax=x0,\n",
    "            ay=y0,\n",
    "            x=x1,\n",
    "            y=y1,\n",
    "            xref='x', yref='y',\n",
    "            axref='x', ayref='y',\n",
    "            showarrow=True,\n",
    "            arrowhead=1,\n",
    "            arrowsize=1,\n",
    "            arrowwidth=1,\n",
    "            arrowcolor=\"gray\"\n",
    "        )\n",
    "    )\n",
    "\n",
    "# 6. Create figure\n",
    "fig = go.Figure(\n",
    "    data=[node_trace],\n",
    "    layout=go.Layout(\n",
    "        title=\"TF-TF network\",\n",
    "        showlegend=False,\n",
    "        hovermode='closest',\n",
    "        margin=dict(b=20, l=5, r=5, t=40),\n",
    "        annotations=annotations,\n",
    "        xaxis=dict(showgrid=False, zeroline=False),\n",
    "        yaxis=dict(showgrid=False, zeroline=False),\n",
    "        width=1000,\n",
    "        height=1000,\n",
    "    )\n",
    ")\n",
    "\n",
    "fig.show()"
   ]
  }
 ],
 "metadata": {
  "kernelspec": {
   "display_name": "napari",
   "language": "python",
   "name": "napari"
  },
  "language_info": {
   "codemirror_mode": {
    "name": "ipython",
    "version": 3
   },
   "file_extension": ".py",
   "mimetype": "text/x-python",
   "name": "python",
   "nbconvert_exporter": "python",
   "pygments_lexer": "ipython3",
   "version": "3.9.16"
  }
 },
 "nbformat": 4,
 "nbformat_minor": 5
}
