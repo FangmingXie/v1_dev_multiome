{
 "cells": [
  {
   "cell_type": "code",
   "execution_count": null,
   "id": "30b97a56-8884-4718-a56d-fc8af8e882e7",
   "metadata": {},
   "outputs": [],
   "source": [
    "import glob\n",
    "import pandas as pd\n",
    "import numpy as np\n",
    "import statsmodels.formula.api as smf\n",
    "from statsmodels.stats.multitest import multipletests\n",
    "import matplotlib.pyplot as plt\n",
    "import os\n",
    "\n",
    "import scanpy as sc\n",
    "import seaborn as sns\n",
    "\n",
    "from scroutines import basicu\n",
    "\n",
    "import warnings\n",
    "from statsmodels.tools.sm_exceptions import ConvergenceWarning\n",
    "from statsmodels.tools.sm_exceptions import ValueWarning\n",
    "from tqdm import tqdm"
   ]
  },
  {
   "cell_type": "code",
   "execution_count": null,
   "id": "061417c4-ae5e-4050-99a3-2aa7d62ca12e",
   "metadata": {
    "tags": []
   },
   "outputs": [],
   "source": [
    "f1 = '/u/home/f/f7xiesnm/project-zipursky/v1-bb/v1/data/v1_multiome/superdupermegaRNA_hasraw_multiome.h5ad'\n",
    "f2 = '/u/home/f/f7xiesnm/v1_multiome/multiome_cell_sex_assignment_saumya.csv'\n",
    "meta  = sc.read(f1, backed='r').obs\n",
    "df_sex = pd.read_csv(f2)\n",
    "meta = meta.join(df_sex.set_index('cell'))\n",
    "meta"
   ]
  },
  {
   "cell_type": "code",
   "execution_count": null,
   "id": "7f9f3fa7-df9f-4281-aec0-07b2952488f3",
   "metadata": {
    "tags": []
   },
   "outputs": [],
   "source": [
    "sample_conditions = ['P6', 'P8', 'P10', 'P12', 'P17', 'P12DR', 'P14DR', 'P17DR', 'P21DR'] # no P14 P21\n",
    "subclasses = ['Astro', \n",
    "              'L2/3', 'L4', 'L5IT', 'L6IT', \n",
    "              'L5PT', 'L5NP', 'L6CT', 'L6b', \n",
    "              'Lamp5', 'Pvalb', 'Sst', 'Vip',\n",
    "              'OD', 'OPC', 'Micro',\n",
    "             ] # no others\n",
    "\n",
    "ddir = '/u/home/f/f7xiesnm/v1_multiome/atac_fragments/pmat_snap_v2/organized'\n",
    "\n",
    "cells_both_all = []\n",
    "for subclass in subclasses:\n",
    "    for exp_cond in sample_conditions:\n",
    "        # atac cells\n",
    "        subclass_cure = subclass.replace('/', '')\n",
    "        f = f'{ddir}/pmat_{subclass_cure}_consensus_{exp_cond}.h5ad'\n",
    "        metasub_atac = sc.read(f, backed='r').obs\n",
    "        cells_atac = metasub_atac.index\n",
    "        \n",
    "        # rna cells\n",
    "        metasub = meta[((meta['Age']==exp_cond) & (meta['Subclass']==subclass))]\n",
    "        cells_rna = metasub.index.values\n",
    "        cells_both = np.intersect1d(cells_atac, cells_rna)\n",
    "\n",
    "        print(subclass, exp_cond, len(cells_both)/len(cells_rna))\n",
    "        cells_both_all.append(cells_both)\n",
    "        \n",
    "cells_both_all = np.hstack(cells_both_all)  "
   ]
  },
  {
   "cell_type": "code",
   "execution_count": null,
   "id": "c2bca0eb-986a-41eb-a268-a4d9cb94709a",
   "metadata": {
    "tags": []
   },
   "outputs": [],
   "source": [
    "print(meta.shape)\n",
    "meta = meta.loc[cells_both_all]\n",
    "print(meta.shape)"
   ]
  },
  {
   "cell_type": "code",
   "execution_count": null,
   "id": "d3c2326c-13bf-4d53-a8bb-e2c990aa07e3",
   "metadata": {
    "tags": []
   },
   "outputs": [],
   "source": [
    "meta['Age'] = meta['Age'].astype(str)\n",
    "meta['Sample'] = meta['Sample'].astype(str)\n",
    "meta['Subclass'] = meta['Subclass'].astype(str)\n",
    "print(meta.shape)\n",
    "\n",
    "# filter sex assignment (remove undetermined)\n",
    "meta = meta[meta['sex']!='nan']\n",
    "print(meta.shape)\n",
    "\n",
    "# filter condition - at least 2 samples having both sex\n",
    "meta = meta[~meta['Age'].isin(['P14', 'P21'])]\n",
    "print(meta.shape)\n",
    "\n",
    "# filter subclass - at least 10 cells in any sample\n",
    "subclass_abundance = meta.groupby(['Subclass', 'Sample']).size().unstack().fillna(0)\n",
    "subclass_abundance_pass = subclass_abundance[subclass_abundance.min(axis=1) > 10]\n",
    "subclasses = subclass_abundance_pass.index.values\n",
    "meta = meta[meta['Subclass'].isin(subclasses)]\n",
    "print(meta.shape)"
   ]
  },
  {
   "cell_type": "code",
   "execution_count": null,
   "id": "e6e04674-da93-43fd-a202-ff94d00ea911",
   "metadata": {
    "tags": []
   },
   "outputs": [],
   "source": [
    "uniq_subclasses = np.unique(meta['Subclass'])\n",
    "uniq_conditions = np.unique(meta['Age'])\n",
    "print(uniq_subclasses)\n",
    "print(uniq_conditions)"
   ]
  },
  {
   "cell_type": "code",
   "execution_count": null,
   "id": "f06a4318-41f5-4432-b2ed-0852515ec126",
   "metadata": {
    "tags": []
   },
   "outputs": [],
   "source": [
    "meta_counts = meta.groupby(['Sample', 'sex', 'Subclass']).size().unstack().fillna(0)\n",
    "meta_counts"
   ]
  },
  {
   "cell_type": "code",
   "execution_count": null,
   "id": "a4a417b0-69cb-419b-b3d1-4a917d3ea95e",
   "metadata": {
    "tags": []
   },
   "outputs": [],
   "source": [
    "meta_counts.describe()"
   ]
  },
  {
   "cell_type": "code",
   "execution_count": null,
   "id": "0390bd86-1702-4827-ad9a-fc918fe074b8",
   "metadata": {
    "tags": []
   },
   "outputs": [],
   "source": [
    "meta_counts2 = (meta.groupby(['Subclass', 'Age', 'Sample', 'sex']).size()\n",
    "                    .groupby(['Subclass', 'Age', 'Sample']).min() # smaller among M & F\n",
    "                    .groupby(['Subclass', 'Age']).max() # largest sample\n",
    "                )\n",
    "case_thresholds = meta_counts2 > 100\n",
    "case_thresholds_map = case_thresholds.unstack().T\n",
    "\n",
    "sns.heatmap(case_thresholds_map, cmap='rocket_r')"
   ]
  },
  {
   "cell_type": "code",
   "execution_count": null,
   "id": "574a09b4-d74c-4823-aca0-8d879543a021",
   "metadata": {
    "tags": []
   },
   "outputs": [],
   "source": [
    "meta_counts2.unstack().T"
   ]
  },
  {
   "cell_type": "code",
   "execution_count": null,
   "id": "73c49a5f-dcec-4483-8d8b-0221ec630727",
   "metadata": {
    "tags": []
   },
   "outputs": [],
   "source": [
    "ddir = '/u/home/f/f7xiesnm/project-zipursky/v1-bb/v1/results_sexual_dimorphism/'"
   ]
  },
  {
   "cell_type": "code",
   "execution_count": null,
   "id": "7c95a3ff-514f-451d-972d-0fbd22cc6eb3",
   "metadata": {
    "tags": []
   },
   "outputs": [],
   "source": [
    "df_merge = []\n",
    "for (subclass, condition), isok in case_thresholds.items():\n",
    "    \n",
    "    subclass_cure = subclass.replace('/', '')\n",
    "    \n",
    "    filename = os.path.join(ddir, f'ATAC_{condition}_{subclass_cure}.csv')\n",
    "    \n",
    "    df = pd.read_csv(filename, index_col=0)\n",
    "    df['max_cp10k'] = np.max(df.iloc[:,5:], axis=1)\n",
    "    \n",
    "    x = df['log2fc']\n",
    "    y = df['qval']\n",
    "    z = df['max_cp10k']\n",
    "\n",
    "    x_th = np.log2(2)\n",
    "    y_th = 0.05\n",
    "    z_th = 0.1\n",
    "\n",
    "    cond_sig = np.all([np.abs(x) > x_th, \n",
    "                               y < y_th,\n",
    "                               z > z_th,\n",
    "                       df['converged'].values,\n",
    "                      ], axis=0)\n",
    "\n",
    "    \n",
    "    print(subclass, condition, np.sum(cond_sig))\n",
    "    df_sig = df[cond_sig][['gene', 'log2fc', 'qval', 'converged', 'max_cp10k']].copy()\n",
    "    df_sig['condition'] = condition\n",
    "    df_sig['subclass'] = subclass\n",
    "    df_sig['chr']  = df_sig['gene'].apply(lambda x: x.split(':')[0])\n",
    "    \n",
    "    if not isok: \n",
    "        print('skip:', subclass, condition)\n",
    "    else:\n",
    "        df_merge.append(df_sig)\n",
    "    \n",
    "df_merge = pd.concat(df_merge)\n",
    "df_merge"
   ]
  },
  {
   "cell_type": "code",
   "execution_count": null,
   "id": "aa7e4178-71b8-42d2-9087-035957b76c7f",
   "metadata": {
    "tags": []
   },
   "outputs": [],
   "source": [
    "subclasses = df_merge['subclass'].unique()\n",
    "len(subclasses), subclasses"
   ]
  },
  {
   "cell_type": "code",
   "execution_count": null,
   "id": "716abb37-362a-4ab7-8dde-b68645f6981c",
   "metadata": {
    "tags": []
   },
   "outputs": [],
   "source": [
    "df_merge_add_all = []\n",
    "\n",
    "for subclass in subclasses: \n",
    "    df_merge_add = df_merge[df_merge['subclass']==subclass].groupby('gene')['condition'].agg(lambda x: ' '.join(x)).sort_values()\n",
    "    df_merge_add = df_merge_add.to_frame() \n",
    "    df_merge_add['n_condition'] = df_merge_add['condition'].apply(lambda x: len(x.split(' ')))\n",
    "    # df_merge_add['n_condition_nr'] = df_merge_add['condition'].apply(lambda x: len([_x for _x in x.split(' ') if not _x.endswith('DR')]))\n",
    "    df_merge_add = df_merge_add.sort_values('n_condition', ascending=False)\n",
    "    \n",
    "    df_merge_add = df_merge_add[df_merge_add['n_condition'] > 1]\n",
    "    df_merge_add['subclass'] = subclass\n",
    "    df_merge_add['chr'] = [region.split(':')[0] for region in df_merge_add.index.values]\n",
    "    \n",
    "    df_merge_add_all.append(df_merge_add)\n",
    "\n",
    "df_merge_add_all = pd.concat(df_merge_add_all)\n",
    "df_merge_add_all"
   ]
  },
  {
   "cell_type": "code",
   "execution_count": null,
   "id": "58b86059-2f9a-478a-9830-a45ab9c93e28",
   "metadata": {
    "tags": []
   },
   "outputs": [],
   "source": [
    "n_instances = df_merge_add_all.groupby('chr')['n_condition'].sum()\n",
    "(n_instances/np.sum(n_instances)).sort_values(ascending=False)"
   ]
  },
  {
   "cell_type": "code",
   "execution_count": null,
   "id": "683e13c2-5d16-4ae0-a1f5-265ae17811d3",
   "metadata": {
    "tags": []
   },
   "outputs": [],
   "source": [
    "df_merge_add_all['chr'].value_counts()/len(df_merge_add_all)"
   ]
  },
  {
   "cell_type": "code",
   "execution_count": null,
   "id": "ff482112-4d10-4216-a6c2-9690dae50625",
   "metadata": {
    "tags": []
   },
   "outputs": [],
   "source": [
    "df_merge_add_all['subclass'].value_counts()"
   ]
  },
  {
   "cell_type": "code",
   "execution_count": null,
   "id": "c83bc0b8-1379-41f2-8b51-c92527fbc9ac",
   "metadata": {
    "tags": []
   },
   "outputs": [],
   "source": [
    "df_merge_add_all.to_csv('check_ATAC.csv')"
   ]
  },
  {
   "cell_type": "code",
   "execution_count": null,
   "id": "38df97ca-0fcd-4d09-a2c4-05583825093d",
   "metadata": {},
   "outputs": [],
   "source": []
  }
 ],
 "metadata": {
  "kernelspec": {
   "display_name": "Python 3 (ipykernel)",
   "language": "python",
   "name": "python3"
  },
  "language_info": {
   "codemirror_mode": {
    "name": "ipython",
    "version": 3
   },
   "file_extension": ".py",
   "mimetype": "text/x-python",
   "name": "python",
   "nbconvert_exporter": "python",
   "pygments_lexer": "ipython3",
   "version": "3.9.16"
  }
 },
 "nbformat": 4,
 "nbformat_minor": 5
}
