{
 "cells": [
  {
   "cell_type": "code",
   "execution_count": null,
   "id": "40d3cf98-2f37-46b9-a606-af61ebef2881",
   "metadata": {
    "tags": []
   },
   "outputs": [],
   "source": [
    "import scipy.io\n",
    "import numpy as np\n",
    "import pandas as pd\n",
    "import scanpy as sc\n",
    "import h5py\n",
    "\n",
    "import os\n",
    "import numpy as np\n",
    "import pandas as pd\n",
    "import scanpy as sc\n",
    "import anndata \n",
    "import seaborn as sns\n",
    "from scipy.stats import zscore\n",
    "import matplotlib.pyplot as plt\n",
    "import collections\n",
    "from natsort import natsorted\n",
    "\n",
    "from scipy import stats\n",
    "from scipy import sparse\n",
    "from sklearn.decomposition import PCA\n",
    "from umap import UMAP\n",
    "\n",
    "from matplotlib.colors import LinearSegmentedColormap\n",
    "from statsmodels.stats.multitest import multipletests\n",
    "\n",
    "from scroutines.config_plots import *\n",
    "from scroutines import powerplots # .config_plots import *\n",
    "from scroutines import pnmf\n",
    "from scroutines import basicu"
   ]
  },
  {
   "cell_type": "code",
   "execution_count": null,
   "id": "3e92ec9a-2f4c-4dd6-b67b-fdd476f054de",
   "metadata": {
    "tags": []
   },
   "outputs": [],
   "source": [
    "def split_peakstring(peak):\n",
    "    \"\"\"\n",
    "    \"\"\"\n",
    "    a, bc = peak.split(':')\n",
    "    b, c = bc.split('-')\n",
    "    b, c = int(b), int(c)\n",
    "    return a,b,c\n",
    "\n",
    "def peaksstrings_to_bed(peaks, name=None, fout=None, **kwargs):\n",
    "    \"\"\"\n",
    "    \"\"\"\n",
    "    \n",
    "    bedarray = np.char.replace(np.char.replace(peaks, ':', '\\t'), '-', '\\t')\n",
    "    if name is not None:\n",
    "        lastcol = np.arange(len(peaks)).astype(str)\n",
    "        linker = f\"\\t{name}_\"\n",
    "        bedarray = np.char.add(np.char.add(bedarray, linker), lastcol) \n",
    "        \n",
    "    if fout is not None:\n",
    "        print(f\"saving to {fout}\")\n",
    "        np.savetxt(fout, bedarray, **kwargs)\n",
    "        \n",
    "    return bedarray\n",
    "\n",
    "# [(a,b,c) for a,b,c in map(split_peakstring, a_peaks[:10])]\n",
    "# peaksstrings_to_bed(a_peaks, name='P6_A')\n"
   ]
  },
  {
   "cell_type": "markdown",
   "id": "05b4927c-a5a1-494e-8702-0fb0a5103b1f",
   "metadata": {},
   "source": [
    "# rna results"
   ]
  },
  {
   "cell_type": "code",
   "execution_count": null,
   "id": "c788bb98-1977-4d7b-bafa-5980d42c120d",
   "metadata": {
    "tags": []
   },
   "outputs": [],
   "source": [
    "import importlib\n",
    "import scroutines\n",
    "from scroutines.gene_modules import GeneModules\n",
    "importlib.reload(scroutines)\n",
    "importlib.reload(scroutines.gene_modules)\n",
    "\n",
    "\n",
    "gene_modules = GeneModules()\n",
    "g, gs, ms = gene_modules.check_genes('Cdh13')\n",
    "print(\"\\t\".join(g))\n",
    "print(\"\\t\".join(gs))\n",
    "print(\"\\t\".join(ms))"
   ]
  },
  {
   "cell_type": "code",
   "execution_count": null,
   "id": "68b2843d-466d-4d68-921a-fa75e383eea0",
   "metadata": {
    "tags": []
   },
   "outputs": [],
   "source": [
    "%%time\n",
    "f_rna0 = '/u/home/f/f7xiesnm/project-zipursky/v1-bb/v1/data/v1_multiome/L23_allmultiome_proc_P6toP21.h5ad'\n",
    "f_rna1 = '/u/home/f/f7xiesnm/project-zipursky/v1-bb/v1/data/v1_multiome/rna_qs_avc_p6to21.txt'\n",
    "f_rna2 = '/u/home/f/f7xiesnm/project-zipursky/v1-bb/v1/data/v1_multiome/rna_l2fc_avc_p6to21.txt'\n",
    "\n",
    "adata_rna = sc.read(f_rna0, backed='r')\n",
    "rna_qs_avc = np.loadtxt(f_rna1)\n",
    "rna_l2fc_avc = np.loadtxt(f_rna2)\n",
    "\n",
    "rna_qs_avc.shape, rna_l2fc_avc.shape"
   ]
  },
  {
   "cell_type": "code",
   "execution_count": null,
   "id": "90c55df6-cf6e-4057-8153-1ba420ea530e",
   "metadata": {
    "tags": []
   },
   "outputs": [],
   "source": [
    "ts = [6,8,10,12,14,17,21]"
   ]
  },
  {
   "cell_type": "code",
   "execution_count": null,
   "id": "3540a9ff-0003-4465-8335-25552182c7ad",
   "metadata": {
    "tags": []
   },
   "outputs": [],
   "source": [
    "genes = adata_rna.var.index.values\n",
    "degs_a = []\n",
    "degs_c = []\n",
    "for i, t in enumerate(ts):\n",
    "    cond_a = np.logical_and(rna_qs_avc[i]<0.05, rna_l2fc_avc[i] < -1)\n",
    "    cond_c = np.logical_and(rna_qs_avc[i]<0.05, rna_l2fc_avc[i] >  1)\n",
    "    deg_a = np.sort(genes[cond_a])\n",
    "    deg_c = np.sort(genes[cond_c])\n",
    "    degs_a.append(deg_a)\n",
    "    degs_c.append(deg_c)\n",
    "    \n",
    "    print(i, f\"P{t}\")\n",
    "    g, gs, ms = gene_modules.check_genes(deg_a)\n",
    "    print(\"\\t\".join(gs))\n",
    "    print(\"\\033[0;m ---\")\n",
    "    g, gs, ms = gene_modules.check_genes(deg_c)\n",
    "    print(\"\\t\".join(gs))\n",
    "    print(\"\\033[0;m ---\")\n",
    "    "
   ]
  },
  {
   "cell_type": "code",
   "execution_count": null,
   "id": "6b340609-ca30-420f-8908-9154afa5ba9a",
   "metadata": {},
   "outputs": [],
   "source": []
  },
  {
   "cell_type": "code",
   "execution_count": null,
   "id": "13ad24c3-64ac-47f5-899b-a192d17c7767",
   "metadata": {},
   "outputs": [],
   "source": []
  },
  {
   "cell_type": "code",
   "execution_count": null,
   "id": "e2a05cb6-6d47-4222-8a0e-1c0dcd940366",
   "metadata": {},
   "outputs": [],
   "source": []
  },
  {
   "cell_type": "markdown",
   "id": "d27441d0-2f54-4cba-a638-3e974ed99c3a",
   "metadata": {},
   "source": [
    "# atac results"
   ]
  },
  {
   "cell_type": "code",
   "execution_count": null,
   "id": "39f26b2f-a254-4fd2-b029-4fa0ab4fef9c",
   "metadata": {
    "tags": []
   },
   "outputs": [],
   "source": [
    "din = '/u/home/f/f7xiesnm/project-zipursky/v1-bb/v1/results_atac'\n",
    "!ls $din"
   ]
  },
  {
   "cell_type": "code",
   "execution_count": null,
   "id": "45a21884-660b-4378-a523-45013db547ff",
   "metadata": {},
   "outputs": [],
   "source": [
    "stats = []\n",
    "for i, t in enumerate(ts):\n",
    "    fin = din + f'/P{t}_A_peaks_ngene.bed'\n",
    "    df_a = pd.read_csv(fin, sep='\\t', header=None)\n",
    "    fin = din + f'/P{t}_C_peaks_ngene.bed'\n",
    "    df_c = pd.read_csv(fin, sep='\\t', header=None)\n",
    "    dag_a = df_a[7].unique()\n",
    "    dag_c = df_c[7].unique()\n",
    "    dag_union = np.union1d(dag_a, dag_c)\n",
    "\n",
    "    deg_a = degs_a[i]\n",
    "    deg_c = degs_c[i]\n",
    "    print(i,t)\n",
    "    \n",
    "    num_a  = len(deg_a)\n",
    "    num_aa = len(np.intersect1d(deg_a, dag_a))\n",
    "    num_ac = len(np.intersect1d(deg_a, dag_c))\n",
    "    num_an = len([a for a in deg_a if a not in dag_union])\n",
    "    \n",
    "    num_c  = len(deg_c)\n",
    "    num_cc = len(np.intersect1d(deg_c, dag_c))\n",
    "    num_ca = len(np.intersect1d(deg_c, dag_a))\n",
    "    num_cn = len([c for c in deg_c if c not in dag_union])\n",
    "    \n",
    "    print(\"A: a,aa,ac,an \", num_a, num_aa, num_ac, num_an)\n",
    "    print(\"C: c,cc,ca,cn \", num_c, num_cc, num_ca, num_cn)\n",
    "    \n",
    "    stats.append({'a':  num_a,\n",
    "                  'aa': num_aa,\n",
    "                  'ac': num_ac,\n",
    "                  'an': num_an,\n",
    "                  \n",
    "                  'c':  num_c,\n",
    "                  'cc': num_cc,\n",
    "                  'ca': num_ca,\n",
    "                  'cn': num_cn,\n",
    "                 })\n",
    "    \n",
    "stats = pd.DataFrame(stats)\n",
    "stats\n",
    "    \n",
    "    # break"
   ]
  },
  {
   "cell_type": "code",
   "execution_count": null,
   "id": "d3537461-bcba-4123-a084-637353ce1b3e",
   "metadata": {
    "tags": []
   },
   "outputs": [],
   "source": [
    "sns.color_palette('tab20c')"
   ]
  },
  {
   "cell_type": "code",
   "execution_count": null,
   "id": "ffbb5dda-f80d-4e0c-b7c1-6832d9b0830c",
   "metadata": {
    "tags": []
   },
   "outputs": [],
   "source": [
    "C0v2 = sns.color_palette('tab20c')[2]\n",
    "C1v2 = sns.color_palette('tab20c')[2+8]"
   ]
  },
  {
   "cell_type": "code",
   "execution_count": null,
   "id": "becc3f6e-01b9-4cac-be2b-854dec6c69be",
   "metadata": {
    "tags": []
   },
   "outputs": [],
   "source": [
    "fig, axs = plt.subplots(1,2,figsize=(2*5,1*5), sharey=True, sharex=True)\n",
    "ax = axs[0]\n",
    "ax.set_title('A genes')\n",
    "ax.set_ylim(0,1)\n",
    "ax.plot(ts, stats['aa']/stats['a'],  '-o', label='near A peaks', color='C0')\n",
    "ax.plot(ts, stats['ac']/stats['a'],  '-o', label='near C peaks', color=C0v2)\n",
    "ax.plot(ts, stats['an']/stats['a'],  '-o', label='neither', color='lightgray')\n",
    "ax.set_xticks(ts)\n",
    "ax.grid(axis='x')\n",
    "sns.despine(ax=ax)\n",
    "ax.set_ylabel(\"frac. of genes\")\n",
    "ax.set_xlabel(\"time (P)\")\n",
    "ax.legend(bbox_to_anchor=(0.5,-0.2), loc='upper center')\n",
    "\n",
    "\n",
    "ax = axs[1]\n",
    "ax.set_title('C genes')\n",
    "ax.plot(ts, stats['cc']/stats['c'],  '-o', label='near C peaks', color='C2')\n",
    "ax.plot(ts, stats['ca']/stats['c'],  '-o', label='near A peaks', color=C1v2)\n",
    "ax.plot(ts, stats['cn']/stats['c'],  '-o', label='neither', color='lightgray')\n",
    "ax.set_xticks(ts)\n",
    "ax.grid(axis='x')\n",
    "sns.despine(ax=ax)\n",
    "ax.set_ylabel(\"frac. of genes\")\n",
    "ax.set_xlabel(\"time (P)\")\n",
    "ax.legend(bbox_to_anchor=(0.5,-0.2), loc='upper center')\n",
    "\n",
    "plt.show()"
   ]
  },
  {
   "cell_type": "code",
   "execution_count": null,
   "id": "50ea47d5-6018-48c2-839e-af3dbf15e5e0",
   "metadata": {},
   "outputs": [],
   "source": []
  },
  {
   "cell_type": "code",
   "execution_count": null,
   "id": "cee7201d-84ba-4c41-aa2f-4b44897d9842",
   "metadata": {},
   "outputs": [],
   "source": []
  },
  {
   "cell_type": "code",
   "execution_count": null,
   "id": "5e7c28c1-be1c-45c1-8bce-44d5c9ee3562",
   "metadata": {},
   "outputs": [],
   "source": []
  },
  {
   "cell_type": "code",
   "execution_count": null,
   "id": "78378de7-58da-4a04-a312-5e35a14763c9",
   "metadata": {},
   "outputs": [],
   "source": []
  },
  {
   "cell_type": "code",
   "execution_count": null,
   "id": "243b82a6-cf59-4fa1-a00b-2ea6a07668d0",
   "metadata": {},
   "outputs": [],
   "source": []
  },
  {
   "cell_type": "code",
   "execution_count": null,
   "id": "3333faff-62e9-44bb-bbf8-9fc04f2dbb5c",
   "metadata": {},
   "outputs": [],
   "source": []
  },
  {
   "cell_type": "code",
   "execution_count": null,
   "id": "b43b2463-9b28-4145-97d4-f650f6c02529",
   "metadata": {},
   "outputs": [],
   "source": []
  },
  {
   "cell_type": "code",
   "execution_count": null,
   "id": "3c1ca6fe-5c59-4414-9435-dbab48a4ba21",
   "metadata": {},
   "outputs": [],
   "source": []
  },
  {
   "cell_type": "code",
   "execution_count": null,
   "id": "1632ded8-ffc7-4690-a40b-843ba54a80b8",
   "metadata": {},
   "outputs": [],
   "source": []
  },
  {
   "cell_type": "code",
   "execution_count": null,
   "id": "84fa6758-f582-45d3-bcdc-5904eea96b52",
   "metadata": {},
   "outputs": [],
   "source": []
  },
  {
   "cell_type": "code",
   "execution_count": null,
   "id": "b990d11d-eb60-4832-99ee-503e8426d372",
   "metadata": {},
   "outputs": [],
   "source": []
  },
  {
   "cell_type": "markdown",
   "id": "4d96a59e-b859-42e5-8762-7f294a9eff0f",
   "metadata": {},
   "source": [
    "# gene annot"
   ]
  },
  {
   "cell_type": "code",
   "execution_count": null,
   "id": "63d22f79-a319-469e-ad3d-a4616f1929f0",
   "metadata": {
    "tags": []
   },
   "outputs": [],
   "source": [
    "a_all_annots, a_all_styled, a_all_annots_styled = gene_modules.check_genes(a_all)\n",
    "c_all_annots, c_all_styled, c_all_annots_styled = gene_modules.check_genes(c_all)\n",
    "\n",
    "print(\"\\t\".join(a_all))\n",
    "print(\"\\t\".join(a_all_annots_styled)) # _styled))"
   ]
  },
  {
   "cell_type": "code",
   "execution_count": null,
   "id": "c08e8842-d67a-4658-8488-c8b704823d4d",
   "metadata": {
    "tags": []
   },
   "outputs": [],
   "source": [
    "print(\"\\t\".join(c_all))\n",
    "print(\"\\t\".join(c_all_annots_styled)) # _styled))"
   ]
  },
  {
   "cell_type": "code",
   "execution_count": null,
   "id": "718aaee7-d9a7-47c8-a696-dcd8936b9220",
   "metadata": {
    "tags": []
   },
   "outputs": [],
   "source": [
    "print(\"\\033[0;m alltime A:\", \"\\t\".join(a_all_styled))\n",
    "print(\"\\033[0;m alltime C:\", \"\\t\".join(c_all_styled))"
   ]
  },
  {
   "cell_type": "code",
   "execution_count": null,
   "id": "b3e689c1-1573-456b-905f-3ffdca65ac32",
   "metadata": {},
   "outputs": [],
   "source": []
  },
  {
   "cell_type": "code",
   "execution_count": null,
   "id": "9b644e43-4f76-412b-a20c-3641ee274b32",
   "metadata": {},
   "outputs": [],
   "source": []
  },
  {
   "cell_type": "code",
   "execution_count": null,
   "id": "affa643f-914c-4ccb-a21d-5cc60a073451",
   "metadata": {},
   "outputs": [],
   "source": []
  },
  {
   "cell_type": "markdown",
   "id": "45a20aa1-4afb-45ef-9a68-1f575feabb7c",
   "metadata": {},
   "source": [
    "# Volcano"
   ]
  },
  {
   "cell_type": "code",
   "execution_count": null,
   "id": "2453d87f-42d7-4261-9408-8dd5a6929d64",
   "metadata": {
    "tags": []
   },
   "outputs": [],
   "source": [
    "def show_volcano_v2(thetypeidx, thetype, lfc, qs,\n",
    "                    cond1, cond2up, cond2dn, \n",
    "                    querygenes_idx=None, \n",
    "                    gene_annots=None,\n",
    "                    ax=None, bbox_to_anchor=(1,1), loc=None,\n",
    "                   ): \n",
    "    \"\"\"\n",
    "    \"\"\"\n",
    "    eff = lfc[:,thetypeidx]\n",
    "    pvl = -np.log10(qs[:,thetypeidx]) # +1e-10)\n",
    "    cnd_up = np.all([cond1[:,thetypeidx], \n",
    "                     cond2up[:,thetypeidx]], axis=0) \n",
    "    cnd_dn = np.all([cond1[:,thetypeidx], \n",
    "                     cond2dn[:,thetypeidx]], axis=0) \n",
    "\n",
    "    if ax is None: \n",
    "        fig, ax = plt.subplots()\n",
    "    \n",
    "    # all genes\n",
    "    ax.scatter(eff, pvl, s=1, color='lightgray', rasterized=True)\n",
    "\n",
    "    # up genes\n",
    "    ax.scatter(eff[cnd_up], pvl[cnd_up], s=3, facecolors='C0', rasterized=True)\n",
    "    # dn genes\n",
    "    ax.scatter(eff[cnd_dn], pvl[cnd_dn], s=3, facecolors='C1', rasterized=True)\n",
    "    \n",
    "    # # query genes\n",
    "    # add text\n",
    "    if querygenes_idx is not None:\n",
    "        ax.scatter(eff[querygenes_idx], pvl[querygenes_idx], s=15, \n",
    "                   # label=f'type-specific (n={len(querygenes_idx):,})',\n",
    "                   facecolors='none', edgecolors='k', linewidth=1, rasterized=True)\n",
    "        for idx in querygenes_idx:\n",
    "            ax.text(eff[idx], pvl[idx], gene_annots[idx], fontsize=10)\n",
    "\n",
    "            \n",
    "    # ax.grid(axis='y')\n",
    "    sns.despine(ax=ax)\n",
    "    ax.set_xlabel('log2(FC) (C/A in CP10k)')\n",
    "    ax.set_ylabel('-log10(adj. p)')\n",
    "    ax.set_title(f'{thetype}')\n",
    "    ax.text(1,0.1,\n",
    "            f'up (n={cnd_up.sum():,})\\ndown (n={cnd_dn.sum():,})', \n",
    "            ha='right',\n",
    "            fontsize=10, transform=ax.transAxes)\n",
    "    return "
   ]
  },
  {
   "cell_type": "code",
   "execution_count": null,
   "id": "70bc7ef1-5701-41c5-9378-d46df9d8fee0",
   "metadata": {
    "tags": []
   },
   "outputs": [],
   "source": [
    "unq_condidx = adata.obs['cond_order'].unique()\n",
    "unq_condidx, unq_conds"
   ]
  },
  {
   "cell_type": "code",
   "execution_count": null,
   "id": "58191af9-35cd-45a1-95de-0174a4a1c969",
   "metadata": {
    "tags": []
   },
   "outputs": [],
   "source": [
    "genes_comm = adata.var.index.values\n",
    "lfc = adata.uns['l2fc_avc'].T\n",
    "qs  = adata.uns['qs_avc'].T\n",
    "lfc_th, qs_th = 1, 0.05"
   ]
  },
  {
   "cell_type": "code",
   "execution_count": null,
   "id": "f7ac63d3-9ee6-4468-9a7c-d404df53a642",
   "metadata": {
    "tags": []
   },
   "outputs": [],
   "source": [
    "cond1   = qs  <  qs_th\n",
    "cond2up = lfc >  lfc_th\n",
    "cond2dn = lfc < -lfc_th"
   ]
  },
  {
   "cell_type": "code",
   "execution_count": null,
   "id": "8dfceeff-ae11-4f89-a7c5-0227c17d611a",
   "metadata": {
    "tags": []
   },
   "outputs": [],
   "source": [
    "# typegenes_idx = basicu.get_index_from_array(genes_comm, df2.gene)"
   ]
  },
  {
   "cell_type": "code",
   "execution_count": null,
   "id": "6a54f30a-6d0d-40db-90e2-7d5d997e048b",
   "metadata": {
    "tags": []
   },
   "outputs": [],
   "source": [
    "thetypeidx = 0 # type A \n",
    "thetype = 'L2/3_A'\n",
    "show_volcano_v2(thetypeidx, thetype, lfc, qs, cond1, cond2up, cond2dn) #  typegenes_idx)"
   ]
  },
  {
   "cell_type": "code",
   "execution_count": null,
   "id": "ea15f8fa-8e12-4b70-8bbc-bef71aa83040",
   "metadata": {
    "tags": []
   },
   "outputs": [],
   "source": [
    "n = len(unq_conds)\n",
    "fig, axs = plt.subplots(1,n,figsize=(4*n,4*1), sharex=True, sharey=True)\n",
    "for cond_idx in unq_condidx:\n",
    "    ax = axs.flat[cond_idx]\n",
    "    thecond = unq_conds[cond_idx]\n",
    "    show_volcano_v2(cond_idx, thecond, lfc, qs, cond1, cond2up, cond2dn, \n",
    "                    # typegenes_idx, \n",
    "                    ax=ax, bbox_to_anchor=(0.5, -0.3), loc='upper center')\n",
    "    sns.despine(ax=ax)\n",
    "fig.tight_layout()\n",
    "\n",
    "# output = os.path.join(outfigdir, \"volcano.pdf\")\n",
    "# powerplots.savefig_autodate(fig, output)\n",
    "plt.show()"
   ]
  },
  {
   "cell_type": "code",
   "execution_count": null,
   "id": "b35dace4-546b-46ec-b507-6a4a6ee7c145",
   "metadata": {},
   "outputs": [],
   "source": [
    "querygenes = ['Meis2','Foxp1','Cdh13','Cdh12']\n",
    "querygenes_idx = basicu.get_index_from_array(genes_comm, querygenes) \n",
    "gene_annots = genes_comm\n",
    "\n",
    "n = len(unq_conds)\n",
    "fig, axs = plt.subplots(2,4,figsize=(4*4,4*2), sharex=True, sharey=True)\n",
    "for cond_idx in unq_condidx:\n",
    "    ax = axs.flat[cond_idx]\n",
    "    thecond = unq_conds[cond_idx]\n",
    "    show_volcano_v2(cond_idx, thecond, lfc, qs, cond1, cond2up, cond2dn, \n",
    "                    querygenes_idx=querygenes_idx, \n",
    "                    gene_annots=genes_comm,\n",
    "                    ax=ax, bbox_to_anchor=(0.5, -0.3), loc='upper center')\n",
    "    sns.despine(ax=ax)\n",
    "fig.tight_layout()\n",
    "plt.show()"
   ]
  },
  {
   "cell_type": "code",
   "execution_count": null,
   "id": "1db65f01-d179-4bc9-85d2-381c6fb2ffb7",
   "metadata": {},
   "outputs": [],
   "source": [
    "# all tfs \n",
    "# not a meaningful test"
   ]
  },
  {
   "cell_type": "code",
   "execution_count": null,
   "id": "d45162d4-f16d-4308-8c16-c4414a26f828",
   "metadata": {
    "tags": []
   },
   "outputs": [],
   "source": [
    "genes_sig = genes_comm[np.any(np.abs(lfc) > 1, axis=1)]\n",
    "querygenes = np.intersect1d(annots['tf'], genes_sig) #['Meis2','Foxp1','Cdh13','Cdh12']\n",
    "querygenes_idx = basicu.get_index_from_array(genes_comm, querygenes) \n",
    "gene_annots = genes_comm\n",
    "\n",
    "n = len(unq_conds)\n",
    "fig, axs = plt.subplots(2,4,figsize=(4*4,4*2), sharex=True, sharey=True)\n",
    "for cond_idx in unq_condidx:\n",
    "    ax = axs.flat[cond_idx]\n",
    "    thecond = unq_conds[cond_idx]\n",
    "    show_volcano_v2(cond_idx, thecond, lfc, qs, cond1, cond2up, cond2dn, \n",
    "                    querygenes_idx=querygenes_idx, \n",
    "                    gene_annots=genes_comm,\n",
    "                    ax=ax, bbox_to_anchor=(0.5, -0.3), loc='upper center')\n",
    "    sns.despine(ax=ax)\n",
    "fig.tight_layout()\n",
    "plt.show()"
   ]
  },
  {
   "cell_type": "code",
   "execution_count": null,
   "id": "a5d109d5-183f-4c30-a67d-e617eec60a86",
   "metadata": {},
   "outputs": [],
   "source": []
  },
  {
   "cell_type": "code",
   "execution_count": null,
   "id": "de11f0ab-d310-4901-8901-4c091c0aadec",
   "metadata": {},
   "outputs": [],
   "source": []
  },
  {
   "cell_type": "code",
   "execution_count": null,
   "id": "42267ba2-15d1-44ae-8bc2-5cf9219a3fa7",
   "metadata": {},
   "outputs": [],
   "source": []
  },
  {
   "cell_type": "code",
   "execution_count": null,
   "id": "76ba7385-e08c-459c-8510-63e9196b86f2",
   "metadata": {},
   "outputs": [],
   "source": []
  },
  {
   "cell_type": "code",
   "execution_count": null,
   "id": "92b92767-09ba-4d12-95b4-92dd8a9d3fc1",
   "metadata": {},
   "outputs": [],
   "source": []
  },
  {
   "cell_type": "code",
   "execution_count": null,
   "id": "3dcd6b81-397a-4174-8b5a-35a2309efe1b",
   "metadata": {},
   "outputs": [],
   "source": []
  },
  {
   "cell_type": "code",
   "execution_count": null,
   "id": "95f376b2-d0f6-489b-8fcc-14b2f72aa4a9",
   "metadata": {},
   "outputs": [],
   "source": []
  },
  {
   "cell_type": "code",
   "execution_count": null,
   "id": "f740e17a-e955-40a9-8d56-70ad0482d71a",
   "metadata": {},
   "outputs": [],
   "source": []
  },
  {
   "cell_type": "code",
   "execution_count": null,
   "id": "5bb56559-d37e-40d6-b995-35ba095bd2ee",
   "metadata": {},
   "outputs": [],
   "source": []
  }
 ],
 "metadata": {
  "kernelspec": {
   "display_name": "Python 3 (ipykernel)",
   "language": "python",
   "name": "python3"
  },
  "language_info": {
   "codemirror_mode": {
    "name": "ipython",
    "version": 3
   },
   "file_extension": ".py",
   "mimetype": "text/x-python",
   "name": "python",
   "nbconvert_exporter": "python",
   "pygments_lexer": "ipython3",
   "version": "3.9.16"
  }
 },
 "nbformat": 4,
 "nbformat_minor": 5
}
