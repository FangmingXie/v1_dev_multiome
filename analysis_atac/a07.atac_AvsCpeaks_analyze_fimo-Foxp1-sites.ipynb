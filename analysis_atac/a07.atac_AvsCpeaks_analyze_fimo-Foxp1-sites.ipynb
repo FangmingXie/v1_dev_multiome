{
 "cells": [
  {
   "cell_type": "code",
   "execution_count": null,
   "id": "40d3cf98-2f37-46b9-a606-af61ebef2881",
   "metadata": {
    "tags": []
   },
   "outputs": [],
   "source": [
    "import subprocess\n",
    "\n",
    "import scipy.io\n",
    "import numpy as np\n",
    "import pandas as pd\n",
    "import scanpy as sc\n",
    "import h5py\n",
    "\n",
    "import os\n",
    "import numpy as np\n",
    "import pandas as pd\n",
    "import scanpy as sc\n",
    "import anndata \n",
    "import seaborn as sns\n",
    "from scipy.stats import zscore\n",
    "import matplotlib.pyplot as plt\n",
    "import collections\n",
    "from natsort import natsorted\n",
    "\n",
    "from scipy import stats\n",
    "from scipy import sparse\n",
    "from sklearn.decomposition import PCA\n",
    "from umap import UMAP\n",
    "\n",
    "from matplotlib.colors import LinearSegmentedColormap\n",
    "from statsmodels.stats.multitest import multipletests\n",
    "\n",
    "from scroutines.config_plots import *\n",
    "from scroutines import powerplots # .config_plots import *\n",
    "from scroutines import pnmf\n",
    "from scroutines import basicu\n",
    "from scroutines.gene_modules import GeneModules  "
   ]
  },
  {
   "cell_type": "markdown",
   "id": "a86315ab-b4fa-468c-bea6-3093bde2bab3",
   "metadata": {
    "tags": []
   },
   "source": [
    "# get peak binding sites"
   ]
  },
  {
   "cell_type": "code",
   "execution_count": null,
   "id": "78dbcb79-0613-47fe-b3ef-c349a72a252a",
   "metadata": {
    "tags": []
   },
   "outputs": [],
   "source": [
    "ddir = '/u/home/f/f7xiesnm/project-zipursky/v1-bb/v1/results_atac'\n",
    "ts = [6,8,10,12,14,17,21]\n",
    "for ti in ts:\n",
    "    peak_sites_data = []\n",
    "    for AvsC in ['A', 'C']:\n",
    "        print(ti, AvsC)\n",
    "\n",
    "        wkdir = ddir + f'/fimo_P{ti}_{AvsC}'\n",
    "        \n",
    "        f_genome_order = '../mm10.sorted.chrom.sizes'\n",
    "        fin   = wkdir + '/fimo.tsv'\n",
    "        fin2  = ddir + f'/P{ti}_{AvsC}_peaks.bed'\n",
    "        \n",
    "        ftmp  = wkdir + '/fimo_subset_tmp.tsv'\n",
    "        ftmp2 = wkdir + '/fimo_subset_tmp.bed'\n",
    "        ftmp3 = wkdir + '/fimo_subset_tmp_sorted.bed'\n",
    "        fout  = wkdir + '/fimo_subset_closest_peaks.bed'\n",
    "        \n",
    "        # subset the files\n",
    "        command = ['grep', 'FOXP', 'fimo.tsv'] \n",
    "        with open(ftmp, 'w') as f:\n",
    "            subprocess.run(command, cwd=wkdir, stdout=f, stderr=subprocess.PIPE, text=True)\n",
    "            \n",
    "        # read and sort (to bed)\n",
    "        df = pd.read_csv(ftmp, sep='\\t', header=None)\n",
    "        dfout = df.groupby([2,3,4]).first().reset_index()[[2,3,4,1]]\n",
    "        dfout.to_csv(ftmp2, sep='\\t', index=False, header=False)\n",
    "        \n",
    "        # bedtools sort -g ../mm10.sorted.chrom.sizes -i fimo_subset_regionsort.bed > fimo_subset_regionsort2.bed\n",
    "        command = ['bedtools', 'sort', '-g', f_genome_order, '-i', ftmp2]\n",
    "        with open(ftmp3, 'w') as f:\n",
    "            subprocess.run(command, cwd=wkdir, stdout=f, stderr=subprocess.PIPE, text=True)\n",
    "\n",
    "        # bedtools closest -a fimo_subset_regionsort2.bed -b ../P8_A_peaks_ngene.bed > fimo_subset_regionsort_ngene.bed\n",
    "        command = ['bedtools', 'closest', '-a', ftmp3, '-b', fin2]\n",
    "        with open(fout, 'w') as f:\n",
    "            subprocess.run(command, cwd=wkdir, stdout=f, stderr=subprocess.PIPE, text=True)\n",
    "            \n",
    "        df = pd.read_csv(fout, sep='\\t', header=None)\n",
    "        df['peak'] = np.array([f'{chrom}:{start}-{end}' for chrom, start, end in zip(df[4], df[5], df[6])])\n",
    "        peak_sites = df.groupby('peak').size().sort_values(ascending=False)\n",
    "        peak_sites_data.append(peak_sites)\n",
    "    break"
   ]
  },
  {
   "cell_type": "code",
   "execution_count": null,
   "id": "c97c2596-5b85-4018-8d00-3f5d9460a43f",
   "metadata": {},
   "outputs": [],
   "source": [
    "%%time\n",
    "# RNA data \n",
    "f_rna = '/u/home/f/f7xiesnm/project-zipursky/v1-bb/v1/data/v1_multiome/L23_allmultiome_proc_P6toP21.h5ad'\n",
    "adata = sc.read(f_rna)\n",
    "adata"
   ]
  },
  {
   "cell_type": "code",
   "execution_count": null,
   "id": "ad6612b1",
   "metadata": {
    "tags": []
   },
   "outputs": [],
   "source": [
    "%%time\n",
    "adatas_pk = []\n",
    "# for ti in [6,8,10,12,14,17,21]:\n",
    "for ti in [6]:\n",
    "    print(ti)\n",
    "    f = f'/u/home/f/f7xiesnm/project-zipursky/v1-bb/v1/data/v1_multiome/P{ti}_ATAC_L23_peakbycell_filtered.h5ad'\n",
    "    adata_pk = sc.read(f)\n",
    "    adata_pk.obs = adata_pk.obs.set_index('cell')\n",
    "    print(adata_pk.var['peak'][:3].values)\n",
    "    \n",
    "    adatas_pk.append(adata_pk)\n",
    "    print(adata_pk)\n",
    "    # break"
   ]
  },
  {
   "cell_type": "code",
   "execution_count": null,
   "id": "38798144-dd47-47f1-8f4c-11390036de85",
   "metadata": {
    "tags": []
   },
   "outputs": [],
   "source": [
    "# get cells based on RNA\n",
    "# get matrix based on ATAC - CPM or CP10k\n",
    "\n",
    "qs_avc = []\n",
    "l2fc_avc = []\n",
    "# for cond_order, obssub in adata.obs.groupby('cond_order'):\n",
    "for cond_order in [0]:\n",
    "    obssub = adata[adata.obs['cond_order']==cond_order].obs\n",
    "    \n",
    "    # get sub\n",
    "    adatasub = adata[obssub.index]\n",
    "    adata_pk = adatas_pk[cond_order]\n",
    "    \n",
    "    # get A vs C \n",
    "    x = adatasub.obsm['pca_p17on'][...,0]\n",
    "    cond_a = x < np.percentile(x,20)\n",
    "    cond_c = x > np.percentile(x,80)\n",
    "    cells_a = np.array([c.split(' ')[0][:-len('-2023')] for c in adatasub[cond_a].obs.index.values])\n",
    "    cells_c = np.array([c.split(' ')[0][:-len('-2023')] for c in adatasub[cond_c].obs.index.values])\n",
    "    \n",
    "    cells_rna = np.array([c.split(' ')[0][:-len('-2023')] for c in adatasub.obs.index.values])\n",
    "    adatasub.obs.index = cells_rna\n",
    "    \n",
    "    cells_atac = adata_pk.obs.index.values\n",
    "    cells_mult = np.intersect1d(cells_rna, cells_atac) \n",
    "    \n",
    "    adata_pk_a = adata_pk[np.intersect1d(cells_a, cells_atac)]\n",
    "    adata_pk_c = adata_pk[np.intersect1d(cells_c, cells_atac)]\n",
    "    \n",
    "    mat_a = np.log10(1+adata_pk_a.X[...]) # layers['lognorm'][...]\n",
    "    mat_c = np.log10(1+adata_pk_c.X[...]) # adatasub_c.layers['lognorm'][...]\n",
    "    \n",
    "    # DEGs\n",
    "    lfc = np.log2(10)*(np.mean(mat_c, axis=0) - np.mean(mat_a, axis=0)) # log2FC (log10CPM as raw counts)\n",
    "    ts, ps = stats.ttest_ind(mat_a, mat_c)\n",
    "    rs, qs, _, _ = multipletests(np.nan_to_num(ps, nan=1).reshape(-1,), method='fdr_bh') # why nan in ps -- not expressed\n",
    "    \n",
    "    num_sig = np.sum(np.logical_and(qs < 0.05, np.abs(lfc) > 1))\n",
    "    print(cond_order, mat_a.shape, mat_c.shape, num_sig)\n",
    "    \n",
    "    # save this\n",
    "    qs_avc.append(qs)\n",
    "    l2fc_avc.append(lfc)\n",
    "    \n",
    "    # break\n",
    "    \n",
    "qs_avc = np.array(qs_avc)\n",
    "l2fc_avc = np.array(l2fc_avc)"
   ]
  },
  {
   "cell_type": "code",
   "execution_count": null,
   "id": "bb017a26-7f4f-449c-979d-82cb8572c608",
   "metadata": {
    "tags": []
   },
   "outputs": [],
   "source": [
    "l2fc_th = 1\n",
    "alpha_th = 0.05\n",
    "cond_sig   = np.logical_and(qs_avc < alpha_th, np.abs(l2fc_avc) > l2fc_th)\n",
    "cond_sig_c = np.logical_and(qs_avc < alpha_th, l2fc_avc >  l2fc_th)\n",
    "cond_sig_a = np.logical_and(qs_avc < alpha_th, l2fc_avc < -l2fc_th)\n",
    "\n",
    "print('num AvsC-DEGs per cond:\\t', cond_sig.sum(axis=1))\n",
    "print('num A-DEGs per cond:\\t',    cond_sig_a.sum(axis=1))\n",
    "print('num C-DEGs per cond:\\t',    cond_sig_c.sum(axis=1))"
   ]
  },
  {
   "cell_type": "code",
   "execution_count": null,
   "id": "e9299c26-cdae-4a5f-84c1-c4ae8e5313fa",
   "metadata": {
    "tags": []
   },
   "outputs": [],
   "source": [
    "x = adatasub[cells_mult].obsm['pca_p17on'][...,0]\n",
    "\n",
    "adata_pk_a = adata_pk[:,cond_sig_a][cells_mult]\n",
    "adata_pk_c = adata_pk[:,cond_sig_c][cells_mult]\n",
    "\n",
    "mat_pk_a = np.log10(1+adata_pk_a.X[...])\n",
    "mat_pk_c = np.log10(1+adata_pk_c.X[...])\n",
    "y_a = np.mean(mat_pk_a, axis=1)\n",
    "y_c = np.mean(mat_pk_c, axis=1)"
   ]
  },
  {
   "cell_type": "code",
   "execution_count": null,
   "id": "dd6dc376-28c6-4eed-a4ab-582670466376",
   "metadata": {
    "tags": []
   },
   "outputs": [],
   "source": [
    "fig, ax = plt.subplots()\n",
    "ax.scatter(x, y_a, s=1, color='C0', label='A peaks', alpha=0.5)# , facecolor='none')\n",
    "ax.scatter(x, y_c, s=1, color='C2', label='C peaks', alpha=0.5)# , facecolor='none')\n",
    "r_a, p  = stats.spearmanr(x, y_a)\n",
    "r_c, p  = stats.spearmanr(x, y_c)\n",
    "\n",
    "ax.set_title(f'r_a={r_a:.4f}; r_c={r_c:.4f}')\n",
    "ax.set_xlabel('RNA PC1 (A-C axis)')\n",
    "ax.set_ylabel('ATAC')\n",
    "ax.legend(bbox_to_anchor=(1,1))\n",
    "\n",
    "sns.despine(ax=ax)\n",
    "ax.grid(False)\n",
    "\n",
    "plt.show()"
   ]
  },
  {
   "cell_type": "markdown",
   "id": "7f609a2a-968d-4648-8a85-038e8bbaa166",
   "metadata": {
    "tags": []
   },
   "source": [
    "# combine the two"
   ]
  },
  {
   "cell_type": "code",
   "execution_count": null,
   "id": "e016db30-b2b3-4853-bb98-7d4af61136c1",
   "metadata": {
    "tags": []
   },
   "outputs": [],
   "source": [
    "tmp2a = adata_pk_a.var.set_index('peak')\n",
    "tmp2a = tmp2a.join(peak_sites_data[0].to_frame('num_sites')).fillna(0) \n",
    "\n",
    "tmp2c = adata_pk_c.var.set_index('peak')\n",
    "tmp2c = tmp2c.join(peak_sites_data[1].to_frame('num_sites')).fillna(0) "
   ]
  },
  {
   "cell_type": "code",
   "execution_count": null,
   "id": "76db556c-37af-42f9-b59b-3e4a8099f73d",
   "metadata": {
    "tags": []
   },
   "outputs": [],
   "source": [
    "fig, axs = plt.subplots(1,8,figsize=(8*4,4), sharex=True, sharey=True)\n",
    "for i in range(8):\n",
    "    ax = axs[i]\n",
    "    cond_a = (tmp2a['num_sites'].values == i)\n",
    "    cond_c = (tmp2c['num_sites'].values == i)\n",
    "    y_a = np.mean(mat_pk_a[:, cond_a], axis=1)\n",
    "    y_c = np.mean(mat_pk_c[:, cond_c], axis=1)\n",
    "\n",
    "    ax.scatter(x, y_a, s=1, color='C0', label='A peaks', alpha=0.5)# , facecolor='none')\n",
    "    ax.scatter(x, y_c, s=1, color='C2', label='C peaks', alpha=0.5)# , facecolor='none')\n",
    "\n",
    "    ax.set_title(f'num. FOXP sites = {i}')\n",
    "    ax.set_xlabel('RNA PC1 (A-C axis)')\n",
    "    ax.set_ylabel('ATAC')\n",
    "    ax.legend(bbox_to_anchor=(1,1))\n",
    "\n",
    "    sns.despine(ax=ax)\n",
    "    ax.grid(False)\n",
    "\n",
    "plt.show()"
   ]
  },
  {
   "cell_type": "code",
   "execution_count": null,
   "id": "1cb3f471-0d04-4ff1-af6a-30d0065a67e1",
   "metadata": {},
   "outputs": [],
   "source": []
  }
 ],
 "metadata": {
  "kernelspec": {
   "display_name": "Python 3 (ipykernel)",
   "language": "python",
   "name": "python3"
  },
  "language_info": {
   "codemirror_mode": {
    "name": "ipython",
    "version": 3
   },
   "file_extension": ".py",
   "mimetype": "text/x-python",
   "name": "python",
   "nbconvert_exporter": "python",
   "pygments_lexer": "ipython3",
   "version": "3.9.16"
  }
 },
 "nbformat": 4,
 "nbformat_minor": 5
}
