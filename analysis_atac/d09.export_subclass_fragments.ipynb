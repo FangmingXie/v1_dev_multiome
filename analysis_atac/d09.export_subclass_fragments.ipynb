{
 "cells": [
  {
   "cell_type": "code",
   "execution_count": null,
   "id": "40d3cf98-2f37-46b9-a606-af61ebef2881",
   "metadata": {
    "tags": []
   },
   "outputs": [],
   "source": [
    "import os\n",
    "import sys\n",
    "import time\n",
    "import numpy as np\n",
    "import pandas as pd\n",
    "\n",
    "import anndata as sc\n",
    "import snapatac2\n",
    "\n",
    "# sys.path.insert(0, '/u/home/f/f7xiesnm/project-zipursky/code/scroutines')\n",
    "# from scroutines import basicu\n",
    "import atac_utils"
   ]
  },
  {
   "cell_type": "code",
   "execution_count": null,
   "id": "c97c2596-5b85-4018-8d00-3f5d9460a43f",
   "metadata": {},
   "outputs": [],
   "source": [
    "%%time\n",
    "f_rna = '/u/home/f/f7xiesnm/project-zipursky/v1-bb/v1/data/v1_multiome/superdupermegaRNA_hasraw.h5ad' \n",
    "meta = sc.read(f_rna, backed='r').obs\n",
    "meta = meta[meta['Study']=='2023 Multiome']\n",
    "meta['Subclass_cure'] = meta['Subclass'].apply(lambda x: x.replace('/', ''))\n",
    "meta['Sample'] = meta['Sample'].astype(str) \n",
    "meta"
   ]
  },
  {
   "cell_type": "code",
   "execution_count": null,
   "id": "27dd20b9-8a24-4b32-8736-211b086a56f9",
   "metadata": {
    "tags": []
   },
   "outputs": [],
   "source": [
    "subclass_abundance = meta.groupby(['Subclass_cure', 'Sample']).size().unstack()\n",
    "subclass_abundance_pass = subclass_abundance[subclass_abundance.min(axis=1) > 10]\n",
    "subclass_abundance_pass"
   ]
  },
  {
   "cell_type": "code",
   "execution_count": null,
   "id": "7a42de30-899c-4bc9-84a2-a5eebacf3e70",
   "metadata": {
    "tags": []
   },
   "outputs": [],
   "source": [
    "meta = meta[meta['Subclass_cure'].isin(subclass_abundance_pass.index.values)]\n",
    "meta"
   ]
  },
  {
   "cell_type": "code",
   "execution_count": null,
   "id": "b82f1118-4030-499b-a8a0-0e13e367023f",
   "metadata": {
    "tags": []
   },
   "outputs": [],
   "source": [
    "organized_sample_dict = atac_utils.get_organized_sample_dict()"
   ]
  },
  {
   "cell_type": "code",
   "execution_count": null,
   "id": "13931502-2fcf-49c7-95de-96b93064f9a9",
   "metadata": {
    "tags": []
   },
   "outputs": [],
   "source": [
    "out_dir = '/u/home/f/f7xiesnm/project-zipursky/v1-bb/v1/data/v1_multiome/atac_fragments/frag_bed_v2/'"
   ]
  },
  {
   "cell_type": "code",
   "execution_count": null,
   "id": "9537980d-4b5b-4e00-84ae-db7e7efd248d",
   "metadata": {
    "tags": []
   },
   "outputs": [],
   "source": [
    "%%time\n",
    "\n",
    "\n",
    "ti = time.time()\n",
    "\n",
    "for cond_code, samples in organized_sample_dict.items(): \n",
    "    cond_name = atac_utils.decode_cond(cond_code)\n",
    "    print(cond_code, cond_name, samples)\n",
    "    \n",
    "    # get sub\n",
    "    metasub = meta[meta['Age']==cond_name]\n",
    "    cells_rna = metasub.index.values\n",
    "    \n",
    "    # prep ATAC\n",
    "    for sample in samples:\n",
    "        print(sample, time.time()-ti)\n",
    "        # atac all cells\n",
    "        f = f'/u/home/f/f7xiesnm/project-zipursky/v1-bb/v1/data/v1_multiome/atac_fragments/frag_snap/ATAC_{sample}.h5ad'\n",
    "        adata_atac = sc.read_h5ad(f)\n",
    "\n",
    "        cell_names_raw = adata_atac.obs.index.values\n",
    "        cell_names_atac = np.char.add(cell_names_raw.astype(str), f'-{sample}-2023 Multiome-{cond_code}-0')\n",
    "        adata_atac.obs.index = cell_names_atac\n",
    "        \n",
    "        # check compatibility\n",
    "        cell_names_both = np.intersect1d(cell_names_atac, cells_rna)  # test [:100]\n",
    "        print(len(cell_names_both)/len(cells_rna)*100)\n",
    "        \n",
    "        # assign RNA type\n",
    "        adata_atac = adata_atac[cell_names_both]\n",
    "        adata_atac.obs = adata_atac.obs.join(metasub['Subclass_cure'])\n",
    "\n",
    "        # export \n",
    "        snapatac2.ex.export_fragments(adata_atac, groupby='Subclass_cure',\n",
    "                                     out_dir=out_dir, prefix=f'ATAC_{sample}_', suffix='.bed') \n",
    "\n",
    "        # break\n",
    "    # break"
   ]
  },
  {
   "cell_type": "code",
   "execution_count": null,
   "id": "96120e83-f4c9-47c6-a689-214a58582838",
   "metadata": {},
   "outputs": [],
   "source": []
  }
 ],
 "metadata": {
  "kernelspec": {
   "display_name": "snapatac2new3",
   "language": "python",
   "name": "snapatac2new3"
  },
  "language_info": {
   "codemirror_mode": {
    "name": "ipython",
    "version": 3
   },
   "file_extension": ".py",
   "mimetype": "text/x-python",
   "name": "python",
   "nbconvert_exporter": "python",
   "pygments_lexer": "ipython3",
   "version": "3.12.0"
  }
 },
 "nbformat": 4,
 "nbformat_minor": 5
}
