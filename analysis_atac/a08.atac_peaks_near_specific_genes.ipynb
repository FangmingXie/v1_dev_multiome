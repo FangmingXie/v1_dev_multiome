{
 "cells": [
  {
   "cell_type": "code",
   "execution_count": null,
   "id": "40d3cf98-2f37-46b9-a606-af61ebef2881",
   "metadata": {
    "tags": []
   },
   "outputs": [],
   "source": [
    "import subprocess\n",
    "\n",
    "import scipy.io\n",
    "import numpy as np\n",
    "import pandas as pd\n",
    "import scanpy as sc\n",
    "import h5py\n",
    "\n",
    "import os\n",
    "import numpy as np\n",
    "import pandas as pd\n",
    "import scanpy as sc\n",
    "import anndata \n",
    "import seaborn as sns\n",
    "from scipy.stats import zscore\n",
    "import matplotlib.pyplot as plt\n",
    "import collections\n",
    "from natsort import natsorted\n",
    "\n",
    "from scipy import stats\n",
    "from scipy import sparse\n",
    "from sklearn.decomposition import PCA\n",
    "from umap import UMAP\n",
    "\n",
    "from matplotlib.colors import LinearSegmentedColormap\n",
    "from statsmodels.stats.multitest import multipletests\n",
    "\n",
    "from scroutines.config_plots import *\n",
    "from scroutines import powerplots # .config_plots import *\n",
    "from scroutines import pnmf\n",
    "from scroutines import basicu\n",
    "from scroutines.gene_modules import GeneModules  "
   ]
  },
  {
   "cell_type": "code",
   "execution_count": null,
   "id": "911cfbfb-c03b-4410-9738-b0dbc87850cd",
   "metadata": {
    "tags": []
   },
   "outputs": [],
   "source": [
    "import itertools"
   ]
  },
  {
   "cell_type": "markdown",
   "id": "c4b99e26-8a68-46d8-9d03-41110d36b114",
   "metadata": {},
   "source": [
    "# get all AvsC peaks across time"
   ]
  },
  {
   "cell_type": "code",
   "execution_count": null,
   "id": "60d39c0e-dce9-4be2-b681-7ddc0c763388",
   "metadata": {
    "tags": []
   },
   "outputs": [],
   "source": [
    "def merge_all_ac_peaks(wkdir, f_input_peak, f_out, fout2):\n",
    "    \"\"\"\n",
    "    \"\"\"\n",
    "    \n",
    "    cmd0 = ['cat'] + f_input_peak\n",
    "    cmd1 = ['sort', '-k1,1V', '-k2,2n']\n",
    "    cmd2 = ['cut', '-f', \"1-3,8\", f_out]\n",
    "    cmd3 = ['uniq']\n",
    "\n",
    "    with open(f_out, 'w') as f:\n",
    "        run0 = subprocess.run(cmd0, cwd=wkdir, stdout=subprocess.PIPE,)\n",
    "        run1 = subprocess.run(cmd1, cwd=wkdir, stdout=f, input=run0.stdout)\n",
    "\n",
    "    with open(f_out2, 'w') as f:\n",
    "        run2 = subprocess.run(cmd2, cwd=wkdir, stdout=subprocess.PIPE,)\n",
    "        run3 = subprocess.run(cmd3, cwd=wkdir, stdout=f, input=run2.stdout)\n",
    "        \n",
    "    return "
   ]
  },
  {
   "cell_type": "code",
   "execution_count": null,
   "id": "79faeac6-5d2d-4c8a-80c4-1fbb5c35e79f",
   "metadata": {
    "tags": []
   },
   "outputs": [],
   "source": [
    "wkdir = '/u/home/f/f7xiesnm/project-zipursky/v1-bb/v1/results_atac'\n",
    "ts = [6,8,10,12,14,17,21]\n",
    "AvsCs = ['A', 'C']\n",
    "PvsNs = ['Bp', 'Bn']"
   ]
  },
  {
   "cell_type": "code",
   "execution_count": null,
   "id": "1e48c69c-4ccc-4fa9-9ed0-b6b13f651980",
   "metadata": {},
   "outputs": [],
   "source": [
    "f_input_peak = [f\"P{ti}_{PvsN}_peaks_ngene.bed\" for ti, PvsN in itertools.product(ts, PvsNs)]\n",
    "f_out   = wkdir + '/all_BpvsBn_peaks.bed'\n",
    "f_out2  = wkdir + '/all_BpvsBn_peaks_unique.bed'\n",
    "\n",
    "merge_all_ac_peaks(wkdir, f_input_peak, f_out, f_out2)"
   ]
  },
  {
   "cell_type": "code",
   "execution_count": null,
   "id": "5334bd35-22a7-4463-adb6-beabda96e118",
   "metadata": {},
   "outputs": [],
   "source": [
    "f_input_peak = [f\"P{ti}_Bp_peaks_ngene.bed\" for ti in ts]\n",
    "f_out   = wkdir + '/all_Bp_peaks.bed'\n",
    "f_out2  = wkdir + '/all_Bp_peaks_unique.bed'\n",
    "\n",
    "merge_all_ac_peaks(wkdir, f_input_peak, f_out, f_out2)"
   ]
  },
  {
   "cell_type": "code",
   "execution_count": null,
   "id": "3b2f7a75-14bb-4e4d-8334-91531b781f37",
   "metadata": {},
   "outputs": [],
   "source": [
    "f_input_peak = [f\"P{ti}_Bn_peaks_ngene.bed\" for ti in ts]\n",
    "f_out   = wkdir + '/all_Bn_peaks.bed'\n",
    "f_out2  = wkdir + '/all_Bn_peaks_unique.bed'\n",
    "\n",
    "merge_all_ac_peaks(wkdir, f_input_peak, f_out, f_out2)"
   ]
  },
  {
   "cell_type": "code",
   "execution_count": null,
   "id": "c81ba8f9-5583-4d0d-a70d-6ed7add6e58c",
   "metadata": {
    "tags": []
   },
   "outputs": [],
   "source": [
    "f_input_peak = [f\"P{ti}_{AvsC}_peaks_ngene.bed\" for ti, AvsC in itertools.product(ts, AvsCs)]\n",
    "f_out   = wkdir + '/all_AvsC_peaks.bed'\n",
    "f_out2  = wkdir + '/all_AvsC_peaks_unique.bed'\n",
    "\n",
    "merge_all_ac_peaks(wkdir, f_input_peak, f_out, f_out2)"
   ]
  },
  {
   "cell_type": "code",
   "execution_count": null,
   "id": "2f71840a-b6f1-4626-9d10-41bfb98d0b2f",
   "metadata": {
    "tags": []
   },
   "outputs": [],
   "source": [
    "f_input_peak = [f\"P{ti}_A_peaks_ngene.bed\" for ti in ts]\n",
    "f_out   = wkdir + '/all_A_peaks.bed'\n",
    "f_out2  = wkdir + '/all_A_peaks_unique.bed'\n",
    "\n",
    "merge_all_ac_peaks(wkdir, f_input_peak, f_out, f_out2)"
   ]
  },
  {
   "cell_type": "code",
   "execution_count": null,
   "id": "5076995a-abec-4cac-8b2d-d41b6497f1fc",
   "metadata": {
    "tags": []
   },
   "outputs": [],
   "source": [
    "f_input_peak = [f\"P{ti}_C_peaks_ngene.bed\" for ti in ts]\n",
    "f_out   = wkdir + '/all_C_peaks.bed'\n",
    "f_out2  = wkdir + '/all_C_peaks_unique.bed'\n",
    "\n",
    "merge_all_ac_peaks(wkdir, f_input_peak, f_out, f_out2)"
   ]
  },
  {
   "cell_type": "markdown",
   "id": "44a02622-4557-40e0-89ba-d946583f9e57",
   "metadata": {},
   "source": [
    "# get peaks whose cloest genes is Rfx3"
   ]
  },
  {
   "cell_type": "code",
   "execution_count": null,
   "id": "ea7c995b-76d0-44d4-836f-728001f7fcc4",
   "metadata": {
    "tags": []
   },
   "outputs": [],
   "source": [
    "def get_peaks_closest_gene(target_gene, f_in, f_out, wkdir):\n",
    "    \"\"\"\n",
    "    \"\"\"\n",
    "    \n",
    "    command = ['grep', target_gene, f_in]\n",
    "    with open(f_out, 'w') as f:\n",
    "        subprocess.run(command, cwd=wkdir, stdout=f, stderr=subprocess.PIPE) # , text=True)\n",
    "    \n",
    "    return\n"
   ]
  },
  {
   "cell_type": "code",
   "execution_count": null,
   "id": "77f97819-ceab-418c-9f5b-39c107f2a4ec",
   "metadata": {
    "tags": []
   },
   "outputs": [],
   "source": [
    "target_gene = 'Rfx3'\n",
    "f_in  = wkdir + '/all_AvsC_peaks_unique.bed' \n",
    "f_out = wkdir + f\"/peaks_closest_to_{target_gene}.bed\"\n",
    "get_peaks_closest_gene(target_gene, f_in, f_out, wkdir)"
   ]
  },
  {
   "cell_type": "code",
   "execution_count": null,
   "id": "0750b808-ef2f-4b4a-b304-186122a030a1",
   "metadata": {},
   "outputs": [],
   "source": [
    "target_gene = 'Foxp1'\n",
    "f_in  = wkdir + '/all_AvsC_peaks_unique.bed' \n",
    "f_out = wkdir + f\"/peaks_closest_to_{target_gene}.bed\"\n",
    "get_peaks_closest_gene(target_gene, f_in, f_out, wkdir)"
   ]
  },
  {
   "cell_type": "code",
   "execution_count": null,
   "id": "5e080ef3-287f-4961-8c04-e0fb132f3efc",
   "metadata": {
    "tags": []
   },
   "outputs": [],
   "source": [
    "target_gene = 'Meis2'\n",
    "f_in  = wkdir + '/all_AvsC_peaks_unique.bed' \n",
    "f_out = wkdir + f\"/peaks_closest_to_{target_gene}.bed\"\n",
    "get_peaks_closest_gene(target_gene, f_in, f_out, wkdir)"
   ]
  },
  {
   "cell_type": "markdown",
   "id": "9f2d447e-a818-4225-a569-4522567471b3",
   "metadata": {},
   "source": [
    "# get peaks that have specific binding sites "
   ]
  },
  {
   "cell_type": "code",
   "execution_count": null,
   "id": "3d9b558d-2f24-4ffd-89df-69c389a4a04b",
   "metadata": {},
   "outputs": [],
   "source": [
    "def get_peaks_tfbs(tf_motif, f_input_fimo, f_input_peak, fout, wkdir):\n",
    "    \"\"\"\n",
    "    \"\"\"\n",
    "    \n",
    "    # get the binding sites for the specific motif\n",
    "    cmd0 = ['grep', tf_motif] + f_input_fimo\n",
    "    # only where they are \n",
    "    cmd1 = ['cut', '-f', '3,4,5']\n",
    "    # sort \n",
    "    cmd2 = ['sort', '-k1,1V', '-k2,2n']\n",
    "    # uniq\n",
    "    cmd3 = ['uniq']\n",
    "    # assign them to peaks\n",
    "    cmd4 = ['bedtools', 'closest', '-d', '-a', '-', '-b', f_input_peak]\n",
    "\n",
    "    with open(f_out, 'w') as f:\n",
    "        run0 = subprocess.run(cmd0, cwd=wkdir, input=None,        stdout=subprocess.PIPE)\n",
    "        run1 = subprocess.run(cmd1, cwd=wkdir, input=run0.stdout, stdout=subprocess.PIPE)\n",
    "        run2 = subprocess.run(cmd2, cwd=wkdir, input=run1.stdout, stdout=subprocess.PIPE)\n",
    "        run3 = subprocess.run(cmd3, cwd=wkdir, input=run2.stdout, stdout=subprocess.PIPE)\n",
    "        run4 = subprocess.run(cmd4, cwd=wkdir, input=run3.stdout, stdout=f)\n",
    "\n",
    "    return "
   ]
  },
  {
   "cell_type": "code",
   "execution_count": null,
   "id": "7c81a6c2-592a-49ac-9d2e-e87261046b7c",
   "metadata": {
    "tags": []
   },
   "outputs": [],
   "source": [
    "# get Rfx3 binding sites - clean up \n",
    "\n",
    "f_input_fimo = [f\"fimo_P{ti}_{AvsC}.tsv\" for ti, AvsC in itertools.product(ts, AvsCs)]\n",
    "f_input_peak = 'all_AvsC_peaks_unique.bed'\n",
    "\n",
    "tf_motif = 'RFX3'\n",
    "f_out = wkdir + f\"/peaks_tfbs_{tf_motif}.bed\"\n",
    "get_peaks_tfbs(tf_motif, f_input_fimo, f_input_peak, f_out, wkdir)"
   ]
  },
  {
   "cell_type": "code",
   "execution_count": null,
   "id": "0253d8e8-8c94-4d4b-905d-1f0404f6574c",
   "metadata": {},
   "outputs": [],
   "source": [
    "\n",
    "f_input_fimo = [f\"fimo_P{ti}_{AvsC}.tsv\" for ti, AvsC in itertools.product(ts, AvsCs)]\n",
    "f_input_peak = 'all_AvsC_peaks_unique.bed'\n",
    "\n",
    "tf_motif = 'FOXP1'\n",
    "f_out = wkdir + f\"/peaks_tfbs_{tf_motif}.bed\"\n",
    "\n",
    "get_peaks_tfbs(tf_motif, f_input_fimo, f_input_peak, f_out, wkdir)"
   ]
  },
  {
   "cell_type": "code",
   "execution_count": null,
   "id": "6014b63d-b1d3-45e8-b50a-58e917581c20",
   "metadata": {
    "tags": []
   },
   "outputs": [],
   "source": [
    "\n",
    "f_input_fimo = [f\"fimo_P{ti}_{AvsC}.tsv\" for ti, AvsC in itertools.product(ts, AvsCs)]\n",
    "f_input_peak = 'all_AvsC_peaks_unique.bed'\n",
    "\n",
    "tf_motif = 'MEIS2'\n",
    "f_out = wkdir + f\"/peaks_tfbs_{tf_motif}.bed\"\n",
    "\n",
    "get_peaks_tfbs(tf_motif, f_input_fimo, f_input_peak, f_out, wkdir)"
   ]
  },
  {
   "cell_type": "code",
   "execution_count": null,
   "id": "bb296204-c1b2-49ba-9793-541b1797f422",
   "metadata": {},
   "outputs": [],
   "source": []
  },
  {
   "cell_type": "code",
   "execution_count": null,
   "id": "aa466ff2-6e51-4c3b-8e22-a1380037919d",
   "metadata": {},
   "outputs": [],
   "source": []
  },
  {
   "cell_type": "code",
   "execution_count": null,
   "id": "9e383978-1d50-4ddd-93ac-7642eee0a40e",
   "metadata": {},
   "outputs": [],
   "source": []
  },
  {
   "cell_type": "code",
   "execution_count": null,
   "id": "dedee716-17b8-4e79-b9db-7f96af7f8908",
   "metadata": {},
   "outputs": [],
   "source": []
  },
  {
   "cell_type": "markdown",
   "id": "529a5c69-8c71-4092-8825-6d535471358e",
   "metadata": {},
   "source": [
    "# analyze these peaks"
   ]
  },
  {
   "cell_type": "code",
   "execution_count": null,
   "id": "09c9822c-457e-4413-adf8-4e6072ce039f",
   "metadata": {},
   "outputs": [],
   "source": [
    "\n",
    "fs = [\n",
    "    wkdir + '/peaks_tfbs_RFX3.bed',\n",
    "    wkdir + '/peaks_tfbs_FOXP1.bed',\n",
    "    wkdir + '/peaks_tfbs_MEIS2.bed',\n",
    "] \n",
    "\n",
    "for f in fs:\n",
    "    df_orig = pd.read_csv(f, header=None, sep='\\t')\n",
    "    \n",
    "    dfp = df_orig.groupby([3,4,5]).size().sort_values()\n",
    "    \n",
    "    dfg = df_orig.groupby(6).size().sort_values()\n",
    "    \n",
    "    dfp2g = df_orig.groupby([3,4,5]).first() \n",
    "    dfp2g = dfp2g.groupby(6).size().sort_values()\n",
    "    \n",
    "    print(f)\n",
    "    print(dfp.shape, dfp.max())\n",
    "    print(dfg.shape, dfg.max(), dfp2g.shape, dfp2g.max())"
   ]
  },
  {
   "cell_type": "code",
   "execution_count": null,
   "id": "cf4ae152-d9dc-4623-bd66-726636ce2325",
   "metadata": {
    "tags": []
   },
   "outputs": [],
   "source": [
    "dfp2g"
   ]
  },
  {
   "cell_type": "code",
   "execution_count": null,
   "id": "6d4215bd-0248-4106-b7fd-913816ade5da",
   "metadata": {},
   "outputs": [],
   "source": []
  }
 ],
 "metadata": {
  "kernelspec": {
   "display_name": "Python 3 (ipykernel)",
   "language": "python",
   "name": "python3"
  },
  "language_info": {
   "codemirror_mode": {
    "name": "ipython",
    "version": 3
   },
   "file_extension": ".py",
   "mimetype": "text/x-python",
   "name": "python",
   "nbconvert_exporter": "python",
   "pygments_lexer": "ipython3",
   "version": "3.9.16"
  }
 },
 "nbformat": 4,
 "nbformat_minor": 5
}
