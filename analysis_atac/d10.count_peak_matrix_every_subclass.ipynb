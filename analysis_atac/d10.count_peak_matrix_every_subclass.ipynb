{
 "cells": [
  {
   "cell_type": "code",
   "execution_count": null,
   "id": "af8fc976-78f1-4d72-86b2-713259604d46",
   "metadata": {
    "tags": []
   },
   "outputs": [],
   "source": [
    "import snapatac2 as snap\n",
    "import os"
   ]
  },
  {
   "cell_type": "code",
   "execution_count": null,
   "id": "23e0f065-5bc5-4c8a-b8dd-35ccf82cf518",
   "metadata": {
    "tags": []
   },
   "outputs": [],
   "source": [
    "ddir = '/u/home/f/f7xiesnm/v1_multiome/atac_fragments'\n",
    "\n",
    "samples = [\n",
    "    'P6a', 'P6b', 'P6c',\n",
    "    'P8a', 'P8b', 'P8c',\n",
    "    'P10a', 'P10b', \n",
    "    'P12a', 'P12b', 'P12c', \n",
    "    'P14a', 'P14b', \n",
    "    'P17a', 'P17b', \n",
    "    'P21a', 'P21b', \n",
    "\n",
    "    'P12DRa', 'P12DRb', \n",
    "    'P14DRa', 'P14DRb', \n",
    "    'P17DRa', 'P17DRb', \n",
    "    'P21DRa', 'P21DRb',\n",
    "    ]\n",
    "\n",
    "subclasses = [\n",
    "    \"Astro\",\n",
    "    \"L23\",\n",
    "    \"L4\", \n",
    "    \"L5IT\", \n",
    "    \"L5NP\", \n",
    "    \"L5PT\", \n",
    "    \"L6b\", \n",
    "    \"L6CT\", \n",
    "    \"L6IT\", \n",
    "    \"Lamp5\", \n",
    "    \"Micro\", \n",
    "    \"OD\", \n",
    "    \"OPC\", \n",
    "    \"Pvalb\", \n",
    "    \"Sst\", \n",
    "    \"Vip\",\n",
    "]"
   ]
  },
  {
   "cell_type": "code",
   "execution_count": null,
   "id": "4a461ac0-2578-4d6e-a1e2-d00e53ba716e",
   "metadata": {},
   "outputs": [],
   "source": []
  },
  {
   "cell_type": "code",
   "execution_count": null,
   "id": "b9d18306-9fae-4732-8454-4d092fff6bac",
   "metadata": {
    "tags": []
   },
   "outputs": [],
   "source": [
    "subclass = 'Vip'  #'Lamp5'\n",
    "peak_file = f'/u/home/f/f7xiesnm/v1_multiome/atac_fragments/frag_bed_v2/processed_peaks/consensus_peaks_{subclass}.bed'\n",
    "sample = 'P21DRb' # 'P14DRb'\n",
    "\n",
    "#     print(sample, flush=True)\n",
    "input_file           = ddir+f'/frag_snap/ATAC_{sample}.h5ad'\n",
    "output_peak_mat_file = ddir+f'/pmat_snap_v2/pmat_{subclass}_consensus_{sample}.h5ad'\n",
    "\n",
    "data = snap.read(input_file)\n",
    "\n",
    "if not os.path.isfile(output_peak_mat_file):\n",
    "    print(f'generating {sample} peak matrix', flush=True)\n",
    "    peak_mat = snap.pp.make_peak_matrix(data, peak_file=peak_file, file=output_peak_mat_file) # counting_stategy='paired_insertion'\n",
    "\n",
    "    # break"
   ]
  },
  {
   "cell_type": "code",
   "execution_count": null,
   "id": "9d710aa2-c107-4025-84bb-ce534d23e218",
   "metadata": {},
   "outputs": [],
   "source": []
  },
  {
   "cell_type": "code",
   "execution_count": null,
   "id": "e5f853c2-4a83-4507-b67b-34c04a3b4572",
   "metadata": {},
   "outputs": [],
   "source": []
  },
  {
   "cell_type": "code",
   "execution_count": null,
   "id": "f59eb3de-c425-4650-adfe-c5bccf678df1",
   "metadata": {},
   "outputs": [],
   "source": []
  },
  {
   "cell_type": "code",
   "execution_count": null,
   "id": "d40ea9e5-116d-460d-8ff5-d29d5e7caa62",
   "metadata": {
    "tags": []
   },
   "outputs": [],
   "source": [
    "\n",
    "for subclass in subclasses:\n",
    "    peak_file = f'/u/home/f/f7xiesnm/v1_multiome/atac_fragments/frag_bed_v2/processed_peaks/consensus_peaks_{subclass}.bed'\n",
    "    for sample in samples:\n",
    "    #     print(sample, flush=True)\n",
    "        input_file           = ddir+f'/frag_snap/ATAC_{sample}.h5ad'\n",
    "        output_peak_mat_file = ddir+f'/pmat_snap_v2/pmat_{subclass}_consensus_{sample}.h5ad'\n",
    "\n",
    "        data = snap.read(input_file)\n",
    "\n",
    "        if not os.path.isfile(output_peak_mat_file):\n",
    "            print(f'generating {sample} peak matrix', flush=True)\n",
    "            peak_mat = snap.pp.make_peak_matrix(data, peak_file=peak_file, file=output_peak_mat_file) # counting_stategy='paired_insertion'\n",
    "\n",
    "            # break"
   ]
  },
  {
   "cell_type": "code",
   "execution_count": null,
   "id": "921f34ba-bc94-47c2-9bb9-1d6ff13fc9bf",
   "metadata": {},
   "outputs": [],
   "source": []
  },
  {
   "cell_type": "code",
   "execution_count": null,
   "id": "ad9755a1-e669-4a69-87b0-5feb822dd6e4",
   "metadata": {},
   "outputs": [],
   "source": []
  }
 ],
 "metadata": {
  "kernelspec": {
   "display_name": "snapatac2new3",
   "language": "python",
   "name": "snapatac2new3"
  },
  "language_info": {
   "codemirror_mode": {
    "name": "ipython",
    "version": 3
   },
   "file_extension": ".py",
   "mimetype": "text/x-python",
   "name": "python",
   "nbconvert_exporter": "python",
   "pygments_lexer": "ipython3",
   "version": "3.12.0"
  }
 },
 "nbformat": 4,
 "nbformat_minor": 5
}
