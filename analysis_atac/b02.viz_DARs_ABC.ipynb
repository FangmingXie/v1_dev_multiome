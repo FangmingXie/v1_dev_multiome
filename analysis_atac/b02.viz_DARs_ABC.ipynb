{
 "cells": [
  {
   "cell_type": "code",
   "execution_count": null,
   "id": "40d3cf98-2f37-46b9-a606-af61ebef2881",
   "metadata": {
    "tags": []
   },
   "outputs": [],
   "source": [
    "import scipy.io\n",
    "import numpy as np\n",
    "import pandas as pd\n",
    "import scanpy as sc\n",
    "import h5py\n",
    "\n",
    "import os\n",
    "import numpy as np\n",
    "import pandas as pd\n",
    "import scanpy as sc\n",
    "import anndata \n",
    "import seaborn as sns\n",
    "from scipy.stats import zscore\n",
    "import matplotlib.pyplot as plt\n",
    "import collections\n",
    "from natsort import natsorted\n",
    "\n",
    "from scipy import stats\n",
    "from scipy import sparse\n",
    "from sklearn.decomposition import PCA\n",
    "from umap import UMAP\n",
    "\n",
    "from matplotlib.colors import LinearSegmentedColormap\n",
    "from statsmodels.stats.multitest import multipletests\n",
    "\n",
    "from scroutines.config_plots import *\n",
    "from scroutines import powerplots # .config_plots import *\n",
    "from scroutines import pnmf\n",
    "from scroutines import basicu\n",
    "from scroutines.gene_modules import GeneModules  "
   ]
  },
  {
   "cell_type": "markdown",
   "id": "e2840e31-28e1-487c-a771-7794506b4f55",
   "metadata": {},
   "source": [
    "# load data"
   ]
  },
  {
   "cell_type": "code",
   "execution_count": null,
   "id": "c97c2596-5b85-4018-8d00-3f5d9460a43f",
   "metadata": {},
   "outputs": [],
   "source": [
    "%%time\n",
    "f_rna = '/u/home/f/f7xiesnm/project-zipursky/v1-bb/v1/data/v1_multiome/L23_allmultiome_proc_P6toP21.h5ad'\n",
    "adata = sc.read(f_rna)\n",
    "cells_rna = np.array([c.split(' ')[0][:-len('-2023')] for c in adata.obs.index.values])\n",
    "adata.obs.index = cells_rna\n",
    "adata"
   ]
  },
  {
   "cell_type": "code",
   "execution_count": null,
   "id": "70981978-5d86-45ad-9ab2-3e5af0436df3",
   "metadata": {
    "tags": []
   },
   "outputs": [],
   "source": [
    "sample_conditions = ['P6', 'P8', 'P10', 'P12', 'P14', 'P17', 'P21']\n",
    "n_cond = len(sample_conditions)"
   ]
  },
  {
   "cell_type": "code",
   "execution_count": null,
   "id": "e40623c6-384a-49e4-935d-185e06cfb547",
   "metadata": {
    "tags": []
   },
   "outputs": [],
   "source": [
    "%%time\n",
    "adatas_pk = []\n",
    "for cond in sample_conditions:\n",
    "    print(cond)\n",
    "    f = f'/u/home/f/f7xiesnm/project-zipursky/v1-bb/v1/data/v1_multiome/{cond}_ATAC_L23_peakbycell_filtered.h5ad'\n",
    "    adata_pk = sc.read(f)\n",
    "    adata_pk.obs = adata_pk.obs.set_index('cell')\n",
    "    print(adata_pk.var['peak'][:3].values)\n",
    "    \n",
    "    adatas_pk.append(adata_pk)\n",
    "    print(adata_pk)\n",
    "    # break"
   ]
  },
  {
   "cell_type": "code",
   "execution_count": null,
   "id": "268b6187-6716-4027-8d10-fa189e4fafc4",
   "metadata": {
    "tags": []
   },
   "outputs": [],
   "source": [
    "n_cond = len(sample_conditions)\n",
    "n_peak = adatas_pk[0].shape[1]\n",
    "n_type = 5"
   ]
  },
  {
   "cell_type": "markdown",
   "id": "5166e13c-d5ec-48fa-b8fb-537454c57cfb",
   "metadata": {},
   "source": [
    "# check results and stats"
   ]
  },
  {
   "cell_type": "code",
   "execution_count": null,
   "id": "026e49f0-825b-42c0-9f5c-9e5e8609f442",
   "metadata": {
    "tags": []
   },
   "outputs": [],
   "source": [
    "%%time\n",
    "fin1 = '/u/home/f/f7xiesnm/project-zipursky/v1-bb/v1/data/v1_multiome/DAR_qs_abc_p6to21.npy'\n",
    "fin2 = '/u/home/f/f7xiesnm/project-zipursky/v1-bb/v1/data/v1_multiome/DAR_l2fc_abc_p6to21.npy'"
   ]
  },
  {
   "cell_type": "code",
   "execution_count": null,
   "id": "6032672c-cf7a-4046-be3b-2c866e2c721a",
   "metadata": {
    "tags": []
   },
   "outputs": [],
   "source": [
    "qs_tensor = np.load(fin1)\n",
    "l2fc_tensor = np.load(fin2)"
   ]
  },
  {
   "cell_type": "code",
   "execution_count": null,
   "id": "eb51df3a-1998-4e67-ac36-9f29c2268182",
   "metadata": {
    "tags": []
   },
   "outputs": [],
   "source": [
    "qs   = qs_tensor[:,0,:]\n",
    "l2fc = l2fc_tensor[:,0,:]"
   ]
  },
  {
   "cell_type": "code",
   "execution_count": null,
   "id": "be6f520d-fb0c-46a5-b41d-af699790bdff",
   "metadata": {
    "tags": []
   },
   "outputs": [],
   "source": [
    "l2fc_th = np.log2(2)\n",
    "alpha_th = 0.05\n",
    "cond_sig_a = np.all([qs < alpha_th, l2fc < -l2fc_th], axis=0)\n",
    "cond_sig_c = np.all([qs < alpha_th, l2fc >  l2fc_th], axis=0)\n",
    "\n",
    "print('num A > C DARs per cond:\\t',    cond_sig_a.sum(axis=1), np.any(cond_sig_a, axis=0).sum())\n",
    "print('num C > A DARs per cond:\\t',    cond_sig_c.sum(axis=1), np.any(cond_sig_c, axis=0).sum())\n",
    "\n",
    "instances, counts_a = np.unique(cond_sig_a.sum(axis=0), return_counts=True)\n",
    "instances, counts_c = np.unique(cond_sig_c.sum(axis=0), return_counts=True)\n",
    "\n",
    "print('num A > C DARs in num conds:\\t',  counts_a[1:])\n",
    "print('num C > A DARs in num conds:\\t',  counts_c[1:])"
   ]
  },
  {
   "cell_type": "code",
   "execution_count": null,
   "id": "7bf8ea1f-c2df-4eba-8b95-7230d323bb29",
   "metadata": {
    "tags": []
   },
   "outputs": [],
   "source": [
    "qs_ba   = qs_tensor[:,1,:]\n",
    "qs_bc   = qs_tensor[:,2,:]\n",
    "\n",
    "l2fc_ba = l2fc_tensor[:,1,:]\n",
    "l2fc_bc = l2fc_tensor[:,2,:]\n",
    "\n",
    "qs_b   = np.minimum(qs_ba, qs_bc)\n",
    "l2fc_b = np.mean([l2fc_ba, l2fc_bc], axis=0)\n",
    "\n",
    "qs_b.shape, l2fc_b.shape"
   ]
  },
  {
   "cell_type": "code",
   "execution_count": null,
   "id": "bb017a26-7f4f-449c-979d-82cb8572c608",
   "metadata": {
    "tags": []
   },
   "outputs": [],
   "source": [
    "l2fc_th = np.log2(1.5)\n",
    "alpha_th = 0.05\n",
    "cond_sig_bp = np.all([l2fc_ba > 0, l2fc_bc > 0, l2fc_b >  l2fc_th, qs_b < alpha_th], axis=0)\n",
    "cond_sig_bn = np.all([l2fc_ba < 0, l2fc_bc < 0, l2fc_b < -l2fc_th, qs_b < alpha_th], axis=0)\n",
    "cond_sig_b  = np.logical_or(cond_sig_bp, cond_sig_bn)\n",
    "\n",
    "print('num B > A,C per cond:\\t',    cond_sig_bp.sum(axis=1))\n",
    "print('num B < A,C per cond:\\t',    cond_sig_bn.sum(axis=1))\n",
    "\n",
    "instances, counts_bp = np.unique(cond_sig_bp.sum(axis=0), return_counts=True)\n",
    "instances, counts_bn = np.unique(cond_sig_bn.sum(axis=0), return_counts=True)\n",
    "\n",
    "print('num B > A,C DARs in num conds:\\t',  counts_bp[1:])\n",
    "print('num B < A,C DARs in num conds:\\t',  counts_bn[1:])"
   ]
  },
  {
   "cell_type": "code",
   "execution_count": null,
   "id": "38798144-dd47-47f1-8f4c-11390036de85",
   "metadata": {
    "tags": []
   },
   "outputs": [],
   "source": [
    "%%time\n",
    "\n",
    "all_x = []\n",
    "all_y_a = []\n",
    "all_y_c = []\n",
    "all_y_b = []\n",
    "all_nums = []\n",
    "\n",
    "for cond_order, cond in enumerate(sample_conditions):\n",
    "    # get sub\n",
    "    adatasub = adata[adata.obs['cond']==cond]\n",
    "    cells_rna = adatasub.obs.index.values\n",
    "    \n",
    "    # get ATAC\n",
    "    adata_pk = adatas_pk[cond_order]\n",
    "    cells_atac = adata_pk.obs.index.values\n",
    "    \n",
    "    cells_mult = np.intersect1d(cells_rna, cells_atac)\n",
    "    \n",
    "    # no normalization here\n",
    "    x = adatasub[cells_mult].obsm['pca_p17on'][...,0]\n",
    "    y_a = np.mean(np.log10(1+adata_pk[cells_mult, cond_sig_a[cond_order]].X), axis=1) # layers['lognorm'][...]\n",
    "    y_c = np.mean(np.log10(1+adata_pk[cells_mult, cond_sig_c[cond_order]].X), axis=1) # layers['lognorm'][...]\n",
    "    \n",
    "    if cond_sig_bp[cond_order].sum() > 0:\n",
    "        y_b = np.mean(np.log10(1+adata_pk[cells_mult, cond_sig_bp[cond_order]].X), axis=1) # layers['lognorm'][...]\n",
    "    else:\n",
    "        y_b = np.array([np.nan]*len(y_a))\n",
    "    \n",
    "    all_x.append(x)\n",
    "    all_y_a.append(y_a)\n",
    "    all_y_c.append(y_c)\n",
    "    all_y_b.append(y_b)\n",
    "    all_nums.append([cond_sig_a[cond_order].sum(),\n",
    "                     cond_sig_bp[cond_order].sum(),\n",
    "                     cond_sig_c[cond_order].sum(),\n",
    "                    ])\n",
    "    "
   ]
  },
  {
   "cell_type": "code",
   "execution_count": null,
   "id": "4a2d7b28-0e5e-427c-9921-9748b9e74449",
   "metadata": {
    "tags": []
   },
   "outputs": [],
   "source": [
    "fig, axs = plt.subplots(2,7, figsize=(4*7,4*2)) # , sharey=True, sharex=True)  #, sharex=True, sharey=True)\n",
    "for cond_order, cond in enumerate(sample_conditions):\n",
    "    x = all_x[cond_order]\n",
    "    y_a = all_y_a[cond_order]\n",
    "    y_c = all_y_c[cond_order]\n",
    "    y_b = all_y_b[cond_order]\n",
    "    num_a, num_b, num_c = all_nums[cond_order]\n",
    "    \n",
    "    ax = axs[0][cond_order]\n",
    "    ax.scatter(x, y_a, s=1, color='C0', label='A peaks', alpha=0.5)# , facecolor='none')\n",
    "    ax.scatter(x, y_c, s=1, color='C2', label='C peaks', alpha=0.5)# , facecolor='none')\n",
    "    r_a, p  = stats.spearmanr(x, y_a)\n",
    "    r_c, p  = stats.spearmanr(x, y_c)\n",
    "    ax.set_title(f'{cond}\\nNa={num_a:,}, r={r_a:.2f}\\nNc={num_c:,}, r={r_c:.2f}')\n",
    "    sns.despine(ax=ax)\n",
    "    ax.grid(False)\n",
    "\n",
    "    ax = axs[1][cond_order]\n",
    "    ax.scatter(x, y_b, s=1, color='C1', label='B peaks', alpha=0.5)# , facecolor='none')\n",
    "    r_b, p  = stats.spearmanr(x, y_b)\n",
    "    ax.set_title(f'Nb={num_b:,}, r={r_b:.2f}')\n",
    "    sns.despine(ax=ax)\n",
    "    ax.grid(False)\n",
    "    \n",
    "    if np.all(np.isnan(y_b)):\n",
    "        ax.set_xticks([])\n",
    "        ax.set_yticks([])\n",
    "    \n",
    "axs[0][0].set_xlabel('RNA PC1 (P17-21)')\n",
    "axs[0][0].set_ylabel('ATAC peak accessibility')\n",
    "fig.tight_layout()\n",
    "plt.show()"
   ]
  },
  {
   "cell_type": "code",
   "execution_count": null,
   "id": "4008e197-6943-4725-8cae-a5c956302455",
   "metadata": {},
   "outputs": [],
   "source": [
    "fig, ax = plt.subplots(1,1, figsize=(1*8,1*4))\n",
    "\n",
    "num_uniq_a = np.sum(np.any(cond_sig_a, axis=0))\n",
    "num_uniq_b = np.sum(np.any(cond_sig_bp, axis=0))\n",
    "num_uniq_c = np.sum(np.any(cond_sig_c, axis=0))\n",
    "\n",
    "ax.plot(np.arange(n_cond), cond_sig_a.sum(axis=1), '-o', color='C0', fillstyle='none', label=f'A DARs (unique n = {num_uniq_a:,})') \n",
    "ax.plot(np.arange(n_cond), cond_sig_c.sum(axis=1), '-o', color='C2', fillstyle='none', label=f'C DARs (unique n = {num_uniq_c:,})') \n",
    "ax.plot(np.arange(n_cond), cond_sig_bp.sum(axis=1),'-o', color='C1', fillstyle='none', label=f'B DARs (unique n = {num_uniq_b:,})')\n",
    "\n",
    "ax.plot(np.arange(n_cond), [0]*n_cond,'--o', color='gray', fillstyle='none', label=f'random DARs (n=0)', zorder=0)\n",
    "ax.set_ylim(ymin=-500)\n",
    "\n",
    "ax.set_xticks(np.arange(n_cond))\n",
    "ax.set_xticklabels(sample_conditions)\n",
    "ax.grid(False)\n",
    "sns.despine(ax=ax)\n",
    "ax.legend(bbox_to_anchor=(1,0.6), fontsize=12)\n",
    "\n",
    "ax.set_ylabel('number of DARs')\n",
    "fig.tight_layout()\n",
    "plt.show()"
   ]
  },
  {
   "cell_type": "code",
   "execution_count": null,
   "id": "5a5deee1-488b-401b-b9ed-8cfb684792d6",
   "metadata": {},
   "outputs": [],
   "source": []
  },
  {
   "cell_type": "code",
   "execution_count": null,
   "id": "c7ebc446-204f-4d9b-bf81-13cd18cfe579",
   "metadata": {},
   "outputs": [],
   "source": []
  },
  {
   "cell_type": "code",
   "execution_count": null,
   "id": "52c63c7d-7610-4c13-9eae-5f7b2d48e8be",
   "metadata": {},
   "outputs": [],
   "source": []
  },
  {
   "cell_type": "markdown",
   "id": "67a75ad8-b401-44c1-95b5-73baf941668e",
   "metadata": {},
   "source": [
    "# get the full matrix"
   ]
  },
  {
   "cell_type": "code",
   "execution_count": null,
   "id": "d38fffff-847e-4086-ac87-c08a9f920228",
   "metadata": {
    "tags": []
   },
   "outputs": [],
   "source": [
    "from sklearn.cluster import KMeans"
   ]
  },
  {
   "cell_type": "code",
   "execution_count": null,
   "id": "ca49250b-bd8c-477b-b0f0-861fc795679c",
   "metadata": {
    "tags": []
   },
   "outputs": [],
   "source": [
    "fin3 = '/u/home/f/f7xiesnm/project-zipursky/v1-bb/v1/data/v1_multiome/DAR_mean_counts_p6to21.npy'\n",
    "atac_tensor = np.load(fin3)"
   ]
  },
  {
   "cell_type": "code",
   "execution_count": null,
   "id": "ce5ca09e-6eda-4277-8d98-3f524f074bee",
   "metadata": {},
   "outputs": [],
   "source": [
    "cond_sig_selected = np.any(np.vstack([cond_sig_a, cond_sig_c, cond_sig_bp]), axis=0)\n",
    "n_dar = cond_sig_selected.sum()\n",
    "atac_tensor_sel = atac_tensor[:,:,cond_sig_selected]\n",
    "mat = atac_tensor_sel.reshape(n_cond*n_type, n_dar).T"
   ]
  },
  {
   "cell_type": "code",
   "execution_count": null,
   "id": "e7b72aad-01b6-4c9a-bf29-39e756b17eee",
   "metadata": {
    "tags": []
   },
   "outputs": [],
   "source": [
    "n_peakset_clsts = 30\n",
    "method = KMeans(n_clusters=n_peakset_clsts)\n",
    "peakset_clst = method.fit_predict(mat)"
   ]
  },
  {
   "cell_type": "code",
   "execution_count": null,
   "id": "5617109b-9adc-4958-9ab9-ecf474607528",
   "metadata": {
    "tags": []
   },
   "outputs": [],
   "source": [
    "mat_mean = np.zeros((n_peakset_clsts, mat.shape[1]))\n",
    "for i in range(n_peakset_clsts):\n",
    "    mean_val = np.mean(mat[peakset_clst==i], axis=0) \n",
    "    z_mean = (mean_val - np.mean(mean_val))/np.std(mean_val)\n",
    "    mat_mean[i] = z_mean "
   ]
  },
  {
   "cell_type": "code",
   "execution_count": null,
   "id": "4da8dbbe-9106-4693-968c-73f4b0964df4",
   "metadata": {
    "tags": []
   },
   "outputs": [],
   "source": [
    "# sns.heatmap(mat_mean, cmap='coolwarm')\n",
    "# set of A vs C peaks together \n",
    "g = sns.clustermap(mat_mean, col_cluster=False, cmap='coolwarm', figsize=(8,5), xticklabels=False, yticklabels=False)\n",
    "\n",
    "ax = g.ax_heatmap\n",
    "ax.set_xticks(0.5+np.arange(n_type))\n",
    "ax.set_xticklabels(['A', '~', 'B', '~', 'C'], fontsize=10)\n",
    "\n",
    "for i in range(n_cond):\n",
    "    ax.axvline(i*n_type, color='k', linestyle='--', linewidth=1)\n",
    "    ax.text(i*n_type, 0, f'{sample_conditions[i]}')"
   ]
  },
  {
   "cell_type": "markdown",
   "id": "6b8cd962-6fbf-413f-9169-ac5430beb591",
   "metadata": {},
   "source": [
    "# ABC peaks"
   ]
  },
  {
   "cell_type": "code",
   "execution_count": null,
   "id": "daf8a1ea-ac7f-4624-affe-c6e3e0096b56",
   "metadata": {},
   "outputs": [],
   "source": [
    "n_peakset_clsts = 10\n",
    "for cond_sig_, title in zip([cond_sig_a, cond_sig_c, cond_sig_bp], \n",
    "                            ['A peaks', 'C peaks', 'B peaks',]):\n",
    "    \n",
    "    cond_sig_selected = np.any(cond_sig_, axis=0)\n",
    "    n_dar = cond_sig_selected.sum()\n",
    "    atac_tensor_sel = atac_tensor[:,:,cond_sig_selected]\n",
    "    mat = atac_tensor_sel.reshape(n_cond*n_type, n_dar).T\n",
    "\n",
    "    method = KMeans(n_clusters=n_peakset_clsts)\n",
    "    peakset_clst = method.fit_predict(mat)\n",
    "\n",
    "    mat_mean = np.zeros((n_peakset_clsts, mat.shape[1]))\n",
    "    for i in range(n_peakset_clsts):\n",
    "        mean_val = np.mean(mat[peakset_clst==i], axis=0) \n",
    "        z_mean = (mean_val - np.mean(mean_val))/np.std(mean_val)\n",
    "        mat_mean[i] = z_mean \n",
    "\n",
    "    # sns.heatmap(mat_mean, cmap='coolwarm')\n",
    "    # set of A vs C peaks together \n",
    "    g = sns.clustermap(mat_mean, col_cluster=False, cmap='coolwarm', figsize=(8,3), xticklabels=False, yticklabels=False)\n",
    "\n",
    "    ax = g.ax_heatmap\n",
    "    ax.set_xticks(0.5+np.arange(n_type))\n",
    "    ax.set_xticklabels(['A', '~', 'B', '~', 'C'], fontsize=10)\n",
    "    ax.set_title(title, pad=30)\n",
    "\n",
    "    for i in range(n_cond):\n",
    "        ax.axvline(i*n_type, color='k', linestyle='--', linewidth=1)\n",
    "        ax.text(i*n_type, -0.5, f'{sample_conditions[i]}')"
   ]
  },
  {
   "cell_type": "code",
   "execution_count": null,
   "id": "e8fda190-59d5-4aca-8ff1-e2a57e1fd4c2",
   "metadata": {},
   "outputs": [],
   "source": []
  }
 ],
 "metadata": {
  "kernelspec": {
   "display_name": "Python 3 (ipykernel)",
   "language": "python",
   "name": "python3"
  },
  "language_info": {
   "codemirror_mode": {
    "name": "ipython",
    "version": 3
   },
   "file_extension": ".py",
   "mimetype": "text/x-python",
   "name": "python",
   "nbconvert_exporter": "python",
   "pygments_lexer": "ipython3",
   "version": "3.9.16"
  }
 },
 "nbformat": 4,
 "nbformat_minor": 5
}
