{
 "cells": [
  {
   "cell_type": "code",
   "execution_count": null,
   "id": "40d3cf98-2f37-46b9-a606-af61ebef2881",
   "metadata": {
    "tags": []
   },
   "outputs": [],
   "source": [
    "import scipy.io\n",
    "import numpy as np\n",
    "import pandas as pd\n",
    "import scanpy as sc\n",
    "import h5py\n",
    "\n",
    "import os\n",
    "import numpy as np\n",
    "import pandas as pd\n",
    "import scanpy as sc\n",
    "import anndata \n",
    "import seaborn as sns\n",
    "from scipy.stats import zscore\n",
    "import matplotlib.pyplot as plt\n",
    "import collections\n",
    "from natsort import natsorted\n",
    "\n",
    "from scipy import stats\n",
    "from scipy import sparse\n",
    "from sklearn.decomposition import PCA\n",
    "from umap import UMAP\n",
    "\n",
    "from matplotlib.colors import LinearSegmentedColormap\n",
    "from statsmodels.stats.multitest import multipletests\n",
    "\n",
    "from scroutines.config_plots import *\n",
    "from scroutines import powerplots # .config_plots import *\n",
    "from scroutines import pnmf\n",
    "from scroutines import basicu\n",
    "from scroutines.gene_modules import GeneModules  \n",
    "\n",
    "\n",
    "import atac_utils\n",
    "\n",
    "import importlib\n",
    "importlib.reload(atac_utils)"
   ]
  },
  {
   "cell_type": "code",
   "execution_count": null,
   "id": "c97c2596-5b85-4018-8d00-3f5d9460a43f",
   "metadata": {},
   "outputs": [],
   "source": [
    "%%time\n",
    "f_rna = '/u/home/f/f7xiesnm/project-zipursky/v1-bb/v1/data/v1_multiome/L23_allmultiome_proc_P6toP21_NRDR.h5ad'\n",
    "# f_rna = '/u/home/f/f7xiesnm/project-zipursky/v1-bb/v1/data/v1_multiome/superdupermegaRNA_hasraw_multiome_l23.h5ad'\n",
    "adata = sc.read(f_rna)\n",
    "adata"
   ]
  },
  {
   "cell_type": "code",
   "execution_count": null,
   "id": "032e349b-255c-4640-b93d-14a933434cad",
   "metadata": {
    "tags": []
   },
   "outputs": [],
   "source": [
    "adata.obs.index"
   ]
  },
  {
   "cell_type": "markdown",
   "id": "2139a743-080d-497b-91d5-60890d2589e5",
   "metadata": {},
   "source": [
    "### cellname = f\"{barcode}-1-{sample}-2023 Multiome-{condition_code}-0\""
   ]
  },
  {
   "cell_type": "code",
   "execution_count": null,
   "id": "2ee698e4-e639-4eac-bf69-32d145ced28b",
   "metadata": {
    "tags": []
   },
   "outputs": [],
   "source": [
    "cellnames = np.array(list(adata.obs.index.str.split('-')))\n",
    "cellnames"
   ]
  },
  {
   "cell_type": "code",
   "execution_count": null,
   "id": "ad298628-0d01-4048-9595-6dac0fe51311",
   "metadata": {
    "tags": []
   },
   "outputs": [],
   "source": [
    "np.unique(cellnames[:,1])"
   ]
  },
  {
   "cell_type": "code",
   "execution_count": null,
   "id": "c94e5489-edb5-4783-9140-cb7a95feea88",
   "metadata": {
    "tags": []
   },
   "outputs": [],
   "source": [
    "np.unique(cellnames[:,2])"
   ]
  },
  {
   "cell_type": "code",
   "execution_count": null,
   "id": "e6733dc5-65dc-44fa-bcd7-ced97a3650d6",
   "metadata": {
    "tags": []
   },
   "outputs": [],
   "source": [
    "np.unique(cellnames[:,3])"
   ]
  },
  {
   "cell_type": "code",
   "execution_count": null,
   "id": "57f602bf-09f6-481f-9dfe-556803d74935",
   "metadata": {
    "tags": []
   },
   "outputs": [],
   "source": [
    "np.unique(cellnames[:,4])"
   ]
  },
  {
   "cell_type": "code",
   "execution_count": null,
   "id": "bf9b3364-3f17-4bc8-bf57-04f8de4725da",
   "metadata": {
    "tags": []
   },
   "outputs": [],
   "source": [
    "np.unique(cellnames[:,5])"
   ]
  },
  {
   "cell_type": "code",
   "execution_count": null,
   "id": "5e9188ce-b946-4fc8-954c-4476115c8ed7",
   "metadata": {
    "tags": []
   },
   "outputs": [],
   "source": [
    "natsorted(np.unique(['-'.join(cellname) for cellname in cellnames[:,[2,4]]]))"
   ]
  },
  {
   "cell_type": "markdown",
   "id": "ae89aa59-3509-4fe7-b164-35341f04f725",
   "metadata": {},
   "source": [
    "# correct name"
   ]
  },
  {
   "cell_type": "code",
   "execution_count": null,
   "id": "a43871de-b447-402f-bcbd-f31223603081",
   "metadata": {
    "tags": []
   },
   "outputs": [],
   "source": [
    "organized_sample_dict = atac_utils.get_organized_sample_dict()\n",
    "organized_sample_dict"
   ]
  },
  {
   "cell_type": "code",
   "execution_count": null,
   "id": "e40623c6-384a-49e4-935d-185e06cfb547",
   "metadata": {
    "tags": []
   },
   "outputs": [],
   "source": [
    "%%time\n",
    "outdir = '/u/home/f/f7xiesnm/project-zipursky/v1-bb/v1/results_atac'\n",
    "\n",
    "for cond_code, samples in organized_sample_dict.items(): \n",
    "    # if cond_code != 9: \n",
    "    #     continue\n",
    "    \n",
    "    cond_name = atac_utils.decode_cond(cond_code)\n",
    "    print(cond_code, cond_name, samples)\n",
    "    \n",
    "    f_output = outdir + f'/pmat_l23scenic_v2_{cond_name}.h5ad'\n",
    "    if os.path.isfile(f_output):\n",
    "        print(f\"skip {cond_name}\")\n",
    "        continue\n",
    "\n",
    "    adatas_pk = []\n",
    "    for sample in samples:\n",
    "        print(sample)\n",
    "        # rna L2/3 only\n",
    "        adatasub = adata[adata.obs['sample']==sample]\n",
    "        cell_names_rna = adatasub.obs.index.values\n",
    "\n",
    "        # atac all cells\n",
    "        f = f'/u/home/f/f7xiesnm/v1_multiome/atac_fragments/pmat_snap/pmat_l23scenic_v2_{sample}.h5ad'\n",
    "        adata_pk = sc.read(f)\n",
    "\n",
    "        cell_names_raw = adata_pk.obs.index.values\n",
    "        cell_names_new = np.char.add(cell_names_raw.astype(str), f'-{sample}-2023 Multiome-{cond_code}-0')\n",
    "        adata_pk.obs.index = cell_names_new\n",
    "\n",
    "        # check compatibility\n",
    "        cell_names_both = np.intersect1d(cell_names_new, cell_names_rna)\n",
    "        print(len(cell_names_both)/len(cell_names_rna))\n",
    "\n",
    "        adatas_pk.append(adata_pk[cell_names_both])\n",
    "        \n",
    "    adata_concat = sc.concat(adatas_pk)\n",
    "    print(adata_concat)\n",
    "    print(f_output)\n",
    "    sc.write(f_output, adata_concat)"
   ]
  },
  {
   "cell_type": "code",
   "execution_count": null,
   "id": "de3e8e31-35d9-4e0e-9de1-fae6cd7e391d",
   "metadata": {},
   "outputs": [],
   "source": []
  }
 ],
 "metadata": {
  "kernelspec": {
   "display_name": "Python 3 (ipykernel)",
   "language": "python",
   "name": "python3"
  },
  "language_info": {
   "codemirror_mode": {
    "name": "ipython",
    "version": 3
   },
   "file_extension": ".py",
   "mimetype": "text/x-python",
   "name": "python",
   "nbconvert_exporter": "python",
   "pygments_lexer": "ipython3",
   "version": "3.9.16"
  }
 },
 "nbformat": 4,
 "nbformat_minor": 5
}
