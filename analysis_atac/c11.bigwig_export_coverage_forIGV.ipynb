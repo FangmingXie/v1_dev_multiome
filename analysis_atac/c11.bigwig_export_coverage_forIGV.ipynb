{
 "cells": [
  {
   "cell_type": "code",
   "execution_count": null,
   "id": "40d3cf98-2f37-46b9-a606-af61ebef2881",
   "metadata": {
    "tags": []
   },
   "outputs": [],
   "source": [
    "import os\n",
    "import sys\n",
    "import time\n",
    "import numpy as np\n",
    "import pandas as pd\n",
    "\n",
    "import anndata as sc\n",
    "import snapatac2\n",
    "\n",
    "sys.path.insert(0, '/u/home/f/f7xiesnm/project-zipursky/code/scroutines')\n",
    "from scroutines import basicu\n",
    "import atac_utils"
   ]
  },
  {
   "cell_type": "code",
   "execution_count": null,
   "id": "56104ce0-33fc-4382-b3be-c8f797c7cbce",
   "metadata": {
    "tags": []
   },
   "outputs": [],
   "source": [
    "snapatac2.__path__"
   ]
  },
  {
   "cell_type": "code",
   "execution_count": null,
   "id": "8b48c1b7-a007-4c99-aa6d-36e1205899f1",
   "metadata": {
    "tags": []
   },
   "outputs": [],
   "source": [
    "snapatac2.__version__"
   ]
  },
  {
   "cell_type": "code",
   "execution_count": null,
   "id": "c97c2596-5b85-4018-8d00-3f5d9460a43f",
   "metadata": {},
   "outputs": [],
   "source": [
    "%%time\n",
    "f_rna = '/u/home/f/f7xiesnm/project-zipursky/v1-bb/v1/data/v1_multiome/L23_allmultiome_proc_P6toP21_NRDR.h5ad'\n",
    "adata = sc.read(f_rna)\n",
    "adata"
   ]
  },
  {
   "cell_type": "code",
   "execution_count": null,
   "id": "b82f1118-4030-499b-a8a0-0e13e367023f",
   "metadata": {
    "tags": []
   },
   "outputs": [],
   "source": [
    "organized_sample_dict = atac_utils.get_organized_sample_dict()"
   ]
  },
  {
   "cell_type": "code",
   "execution_count": null,
   "id": "13931502-2fcf-49c7-95de-96b93064f9a9",
   "metadata": {
    "tags": []
   },
   "outputs": [],
   "source": [
    "out_dir = '/u/home/f/f7xiesnm/project-zipursky/v1-bb/v1/data/v1_multiome/atac_fragments/covr_snap_v2/'"
   ]
  },
  {
   "cell_type": "code",
   "execution_count": null,
   "id": "9537980d-4b5b-4e00-84ae-db7e7efd248d",
   "metadata": {
    "tags": []
   },
   "outputs": [],
   "source": [
    "%%time\n",
    "\n",
    "SHUFFLE = False\n",
    "n_type = 5\n",
    "\n",
    "\n",
    "ti = time.time()\n",
    "\n",
    "for cond_code, samples in organized_sample_dict.items(): \n",
    "    cond_name = atac_utils.decode_cond(cond_code)\n",
    "    print(cond_code, cond_name, samples)\n",
    "    \n",
    "    # get sub\n",
    "    adatasub = adata[adata.obs['cond']==cond_name]\n",
    "    cells_rna = adatasub.obs.index.values\n",
    "    \n",
    "    # get RNA type\n",
    "    x0 = adatasub.obsm['pca_p17on'][...,0]\n",
    "    # x_shuff\n",
    "    if SHUFFLE:\n",
    "        x = x0[np.random.choice(len(x0), size=len(x0), replace=False)]\n",
    "    else:\n",
    "        x = x0\n",
    "    cells_rna_type = pd.qcut(x, n_type, labels=False)\n",
    "    \n",
    "    # prep ATAC\n",
    "    for sample in samples:\n",
    "        print(sample, time.time()-ti)\n",
    "        # atac all cells\n",
    "        f = f'/u/home/f/f7xiesnm/project-zipursky/v1-bb/v1/data/v1_multiome/atac_fragments/frag_snap/ATAC_{sample}.h5ad'\n",
    "        adata_atac = sc.read_h5ad(f)\n",
    "\n",
    "        cell_names_raw = adata_atac.obs.index.values\n",
    "        cell_names_atac = np.char.add(cell_names_raw.astype(str), f'-{sample}-2023 Multiome-{cond_code}-0')\n",
    "        adata_atac.obs.index = cell_names_atac\n",
    "        \n",
    "        # check compatibility\n",
    "        cell_names_both = np.intersect1d(cell_names_atac, cells_rna)\n",
    "        print(len(cell_names_both)/len(cells_rna)*100)\n",
    "        \n",
    "        # assign RNA type\n",
    "        adata_atac = adata_atac[cell_names_both]\n",
    "        adata_atac.obs['rna_type'] = np.char.add('RT', cells_rna_type[basicu.get_index_from_array(cells_rna, cell_names_both)].astype(str)) \n",
    "\n",
    "        # export \n",
    "        snapatac2.ex.export_coverage(adata_atac, groupby='rna_type', \n",
    "                                     normalization=None, \n",
    "                                     counting_strategy='insertion', # not implemented yet'paired-insertion',\n",
    "                                     out_dir=out_dir, prefix=f'covr_{sample}_') \n",
    "        # adata_atac.close()\n",
    "\n",
    "    #     break\n",
    "    # break"
   ]
  },
  {
   "cell_type": "code",
   "execution_count": null,
   "id": "8d670634-a277-43e6-8db7-9c6b04097d18",
   "metadata": {},
   "outputs": [],
   "source": []
  }
 ],
 "metadata": {
  "kernelspec": {
   "display_name": "snapatac2new3",
   "language": "python",
   "name": "snapatac2new3"
  },
  "language_info": {
   "codemirror_mode": {
    "name": "ipython",
    "version": 3
   },
   "file_extension": ".py",
   "mimetype": "text/x-python",
   "name": "python",
   "nbconvert_exporter": "python",
   "pygments_lexer": "ipython3",
   "version": "3.12.0"
  }
 },
 "nbformat": 4,
 "nbformat_minor": 5
}
