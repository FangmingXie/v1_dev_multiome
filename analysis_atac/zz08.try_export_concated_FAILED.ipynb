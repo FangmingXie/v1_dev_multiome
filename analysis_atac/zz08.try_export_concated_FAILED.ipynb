{
 "cells": [
  {
   "cell_type": "code",
   "execution_count": null,
   "id": "3301ac60-82e5-47d3-9d3d-112375381c3c",
   "metadata": {
    "tags": []
   },
   "outputs": [],
   "source": [
    "import pyBigWig\n",
    "import numpy as np\n",
    "import snapatac2\n",
    "\n"
   ]
  },
  {
   "cell_type": "code",
   "execution_count": null,
   "id": "b15b94b6-c657-47d2-ba2c-ad16ecea56bb",
   "metadata": {
    "tags": []
   },
   "outputs": [],
   "source": [
    "out_dir = '/u/home/f/f7xiesnm/project-zipursky/v1-bb/v1/data/v1_multiome/atac_fragments'\n",
    "\n",
    "f = '/u/home/f/f7xiesnm/project-zipursky/v1-bb/v1/data/v1_multiome/atac_fragments/coverage_P6arnatype0.bw'\n",
    "bw = pyBigWig.open(f)"
   ]
  },
  {
   "cell_type": "code",
   "execution_count": null,
   "id": "ce3317eb-6e1e-4b21-a680-ebe9bc486c01",
   "metadata": {
    "tags": []
   },
   "outputs": [],
   "source": [
    "sample = 'P6_merged'\n",
    "f = f'/u/home/f/f7xiesnm/project-zipursky/v1-bb/v1/data/v1_multiome/atac_fragments/ATAC_{sample}.h5ad'\n",
    "adata_atac = snapatac2.read(f)\n",
    "adata_atac"
   ]
  },
  {
   "cell_type": "code",
   "execution_count": null,
   "id": "22aa158b-d37a-4e60-b549-2b86f008d628",
   "metadata": {
    "tags": []
   },
   "outputs": [],
   "source": [
    "# export \n",
    "snapatac2.ex.export_coverage(adata_atac, 'rna_type', normalization=None, \n",
    "                             # counting_strategy='paired-insertion', \n",
    "                             out_dir=out_dir, prefix=f'try_atac_{sample}') "
   ]
  },
  {
   "cell_type": "code",
   "execution_count": null,
   "id": "24e2d07e-46e7-4a73-be75-b7fc3a392d39",
   "metadata": {},
   "outputs": [],
   "source": []
  }
 ],
 "metadata": {
  "kernelspec": {
   "display_name": "snapatac2",
   "language": "python",
   "name": "snapatac2"
  },
  "language_info": {
   "codemirror_mode": {
    "name": "ipython",
    "version": 3
   },
   "file_extension": ".py",
   "mimetype": "text/x-python",
   "name": "python",
   "nbconvert_exporter": "python",
   "pygments_lexer": "ipython3",
   "version": "3.12.0"
  }
 },
 "nbformat": 4,
 "nbformat_minor": 5
}
