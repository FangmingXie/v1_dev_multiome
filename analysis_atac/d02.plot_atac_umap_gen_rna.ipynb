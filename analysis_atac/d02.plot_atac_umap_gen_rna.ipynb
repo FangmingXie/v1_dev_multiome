{
 "cells": [
  {
   "cell_type": "code",
   "execution_count": null,
   "id": "0d4f050b-d2de-45e7-8f7f-0dfba714408f",
   "metadata": {
    "tags": []
   },
   "outputs": [],
   "source": [
    "import numpy as np\n",
    "import pandas as pd\n",
    "\n",
    "import matplotlib.pyplot as plt\n",
    "import seaborn as sns\n",
    "from scipy import sparse\n",
    "from sklearn.decomposition import PCA\n",
    "\n",
    "import scanpy as sc\n",
    "\n",
    "from umap import UMAP"
   ]
  },
  {
   "cell_type": "code",
   "execution_count": null,
   "id": "840ee02e-fb67-4a7c-a0dc-eae10613cd61",
   "metadata": {
    "tags": []
   },
   "outputs": [],
   "source": [
    "def get_index_from_array(a, b):\n",
    "    \"\"\"get the indices of b elements in a array\n",
    "    \"\"\"\n",
    "    return pd.Series(a).reset_index().set_index(0).loc[b]['index'].values\n",
    "    "
   ]
  },
  {
   "cell_type": "code",
   "execution_count": null,
   "id": "bd4e5cd5-c51a-4190-a83e-f487d1b00787",
   "metadata": {
    "tags": []
   },
   "outputs": [],
   "source": [
    "dfplot = pd.read_csv('/u/home/f/f7xiesnm/v1_multiome/P21_atac_umap.csv')\n",
    "dfplot"
   ]
  },
  {
   "cell_type": "code",
   "execution_count": null,
   "id": "8fe5bea5-203c-4750-b6c6-9aaa8e8d53be",
   "metadata": {
    "tags": []
   },
   "outputs": [],
   "source": [
    "unq_types = np.sort(dfplot['label'].unique())\n",
    "unq_types"
   ]
  },
  {
   "cell_type": "code",
   "execution_count": null,
   "id": "c71013e6-c518-4f8f-bd92-9d35dc559f60",
   "metadata": {
    "tags": []
   },
   "outputs": [],
   "source": [
    "fig, ax = plt.subplots()\n",
    "sns.scatterplot(\n",
    "    data=dfplot, x='0', y='1', hue='label', \n",
    "    # palette=palette,\n",
    "    s=3,\n",
    "    edgecolor='none',\n",
    "    ax=ax)\n",
    "ax.set_aspect('equal')\n",
    "plt.show()"
   ]
  },
  {
   "cell_type": "markdown",
   "id": "935c355e-326f-4364-95a7-842182734c5c",
   "metadata": {},
   "source": [
    "# RNA "
   ]
  },
  {
   "cell_type": "code",
   "execution_count": null,
   "id": "a83ea206-cee5-48cb-939e-ef04caf5978b",
   "metadata": {
    "tags": []
   },
   "outputs": [],
   "source": [
    "%%time\n",
    "f = '/u/home/f/f7xiesnm/project-zipursky/v1-bb/v1/data/v1_multiome/superdupermegaRNA_hasraw_P21.h5ad'\n",
    "adata = sc.read(f) # , backed='r')\n",
    "adata = adata[adata.obs['Study']=='2023 Multiome']\n",
    "adata = adata[dfplot['cell'].values]\n",
    "adata"
   ]
  },
  {
   "cell_type": "code",
   "execution_count": null,
   "id": "2f904577-c90e-46bf-9466-d2f3a59a0238",
   "metadata": {
    "tags": []
   },
   "outputs": [],
   "source": [
    "adata.X = adata.raw.X"
   ]
  },
  {
   "cell_type": "code",
   "execution_count": null,
   "id": "e0354032-d952-4df2-820a-afb960863b1b",
   "metadata": {
    "tags": []
   },
   "outputs": [],
   "source": [
    "# filter genes\n",
    "cond = np.ravel((adata.X>0).sum(axis=0)) > 10 # expressed in more than 10 cells\n",
    "adata = adata[:,cond]\n",
    "genes = adata.var.index.values\n",
    "\n",
    "# counts\n",
    "x = adata.X\n",
    "cov = adata.obs['total_counts'].values\n",
    "\n",
    "# CP10k\n",
    "xn = (sparse.diags(1/cov).dot(x))*1e4\n",
    "\n",
    "# log2(CP10k+1)\n",
    "log_xn = np.log2(1+np.array(xn.todense()))\n",
    "\n",
    "adata.layers[ 'lognorm'] = log_xn "
   ]
  },
  {
   "cell_type": "code",
   "execution_count": null,
   "id": "b3546d25-3e2a-43e3-bb50-84daf4514142",
   "metadata": {},
   "outputs": [],
   "source": [
    "# select HVGs with mean and var\n",
    "nbin = 20\n",
    "qth = 0.3\n",
    "\n",
    "# min\n",
    "gm = np.ravel(xn.mean(axis=0))\n",
    "\n",
    "# var\n",
    "tmp = xn.copy()\n",
    "tmp.data = np.power(tmp.data, 2)\n",
    "gv = np.ravel(tmp.mean(axis=0))-gm**2\n",
    "\n",
    "# cut \n",
    "lbl = pd.qcut(gm, nbin, labels=np.arange(nbin))\n",
    "gres = pd.DataFrame()\n",
    "gres['name'] = genes\n",
    "gres['lbl'] = lbl\n",
    "gres['mean'] = gm\n",
    "gres['var'] = gv\n",
    "gres['ratio']= gv/gm\n",
    "\n",
    "# select\n",
    "gres_sel = gres.groupby('lbl')['ratio'].nlargest(int(qth*(len(gm)/nbin))) #.reset_index()\n",
    "gsel_idx = np.sort(gres_sel.index.get_level_values(1).values)\n",
    "assert np.all(gsel_idx != -1)"
   ]
  },
  {
   "cell_type": "code",
   "execution_count": null,
   "id": "9278c880-e960-45fb-b172-5cad4f00fb40",
   "metadata": {
    "tags": []
   },
   "outputs": [],
   "source": [
    "adata_hvg = adata[:,gsel_idx]\n",
    "print(adata_hvg.shape)\n",
    "genes_hvg = adata_hvg.var.index.values"
   ]
  },
  {
   "cell_type": "code",
   "execution_count": null,
   "id": "56e4862c-dcab-4375-ad13-cc4f2f7db81f",
   "metadata": {
    "tags": []
   },
   "outputs": [],
   "source": [
    "pca_all = PCA(n_components=20)\n",
    "pca_all.fit(adata_hvg.layers['lognorm'][...]) #\n",
    "pcs_all = pca_all.transform(adata_hvg.layers['lognorm'][...])"
   ]
  },
  {
   "cell_type": "code",
   "execution_count": null,
   "id": "ea418afc-fd8d-43ed-96e3-29d5beecce37",
   "metadata": {
    "tags": []
   },
   "outputs": [],
   "source": [
    "%%time\n",
    "ucs_all = UMAP(n_components=2, n_neighbors=30).fit_transform(pcs_all) #"
   ]
  },
  {
   "cell_type": "code",
   "execution_count": null,
   "id": "1d95b692-e23d-4f91-8a52-a34f66628a81",
   "metadata": {
    "tags": []
   },
   "outputs": [],
   "source": [
    "dfplot_rna = pd.DataFrame(ucs_all)\n",
    "dfplot_rna['label'] = adata_hvg.obs['Subclass'].values\n",
    "dfplot_rna"
   ]
  },
  {
   "cell_type": "code",
   "execution_count": null,
   "id": "f9d6553e-82cb-4f48-8d76-a013cecdb33d",
   "metadata": {
    "tags": []
   },
   "outputs": [],
   "source": [
    "fig, ax = plt.subplots()\n",
    "sns.scatterplot(\n",
    "    data=dfplot_rna, x=0, y=1, hue='label', \n",
    "    # palette=palette,\n",
    "    s=3,\n",
    "    edgecolor='none',\n",
    "    ax=ax)\n",
    "# ax.set_aspect('equal')\n",
    "ax.legend(bbox_to_anchor=(1,1))\n",
    "plt.show()"
   ]
  },
  {
   "cell_type": "code",
   "execution_count": null,
   "id": "72c7a7ad-1e2a-42d0-89b5-f9666d757424",
   "metadata": {
    "tags": []
   },
   "outputs": [],
   "source": [
    "dfplot_rna"
   ]
  },
  {
   "cell_type": "code",
   "execution_count": null,
   "id": "88e8c9e3-055c-4d11-b2a3-b7eea50a7fe9",
   "metadata": {
    "tags": []
   },
   "outputs": [],
   "source": [
    "dfplot_rna_atac = dfplot_rna.copy().rename(columns={0: 'r1', 1: 'r2'})\n",
    "dfplot_rna_atac['a1'] = dfplot['0']\n",
    "dfplot_rna_atac['a2'] = dfplot['1']\n",
    "dfplot_rna_atac"
   ]
  },
  {
   "cell_type": "code",
   "execution_count": null,
   "id": "54cee315-434d-4f43-aa48-67bb06f14384",
   "metadata": {
    "tags": []
   },
   "outputs": [],
   "source": [
    "dfplot_rna_atac.to_csv('/u/home/f/f7xiesnm/v1_multiome/rna_atac_umap_p21_l23.csv')"
   ]
  },
  {
   "cell_type": "code",
   "execution_count": null,
   "id": "450ef776-5035-49cf-af4d-c93d66436568",
   "metadata": {},
   "outputs": [],
   "source": []
  }
 ],
 "metadata": {
  "kernelspec": {
   "display_name": "napari",
   "language": "python",
   "name": "napari"
  },
  "language_info": {
   "codemirror_mode": {
    "name": "ipython",
    "version": 3
   },
   "file_extension": ".py",
   "mimetype": "text/x-python",
   "name": "python",
   "nbconvert_exporter": "python",
   "pygments_lexer": "ipython3",
   "version": "3.9.16"
  }
 },
 "nbformat": 4,
 "nbformat_minor": 5
}
