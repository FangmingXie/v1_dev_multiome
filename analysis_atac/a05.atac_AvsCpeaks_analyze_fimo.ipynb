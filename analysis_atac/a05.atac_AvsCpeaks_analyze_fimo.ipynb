{
 "cells": [
  {
   "cell_type": "code",
   "execution_count": null,
   "id": "40d3cf98-2f37-46b9-a606-af61ebef2881",
   "metadata": {
    "tags": []
   },
   "outputs": [],
   "source": [
    "import scipy.io\n",
    "import numpy as np\n",
    "import pandas as pd\n",
    "import scanpy as sc\n",
    "import h5py\n",
    "\n",
    "import os\n",
    "import numpy as np\n",
    "import pandas as pd\n",
    "import scanpy as sc\n",
    "import anndata \n",
    "import seaborn as sns\n",
    "from scipy.stats import zscore\n",
    "import matplotlib.pyplot as plt\n",
    "import collections\n",
    "from natsort import natsorted\n",
    "\n",
    "from scipy import stats\n",
    "from scipy import sparse\n",
    "from sklearn.decomposition import PCA\n",
    "from umap import UMAP\n",
    "\n",
    "from matplotlib.colors import LinearSegmentedColormap\n",
    "from statsmodels.stats.multitest import multipletests\n",
    "\n",
    "from scroutines.config_plots import *\n",
    "from scroutines import powerplots # .config_plots import *\n",
    "from scroutines import pnmf\n",
    "from scroutines import basicu\n",
    "from scroutines.gene_modules import GeneModules  "
   ]
  },
  {
   "cell_type": "code",
   "execution_count": null,
   "id": "e40623c6-384a-49e4-935d-185e06cfb547",
   "metadata": {
    "tags": []
   },
   "outputs": [],
   "source": [
    "%%time\n",
    "\n",
    "import subprocess"
   ]
  },
  {
   "cell_type": "markdown",
   "id": "a86315ab-b4fa-468c-bea6-3093bde2bab3",
   "metadata": {
    "tags": []
   },
   "source": [
    "# run "
   ]
  },
  {
   "cell_type": "code",
   "execution_count": null,
   "id": "78dbcb79-0613-47fe-b3ef-c349a72a252a",
   "metadata": {
    "tags": []
   },
   "outputs": [],
   "source": [
    "ts = [6,8,10,12,14,17,21]\n",
    "for ti in ts:\n",
    "    for AvsC in ['A', 'C']:\n",
    "        print(ti, AvsC)\n",
    "\n",
    "        wkdir = f'/u/home/f/f7xiesnm/project-zipursky/v1-bb/v1/results_atac/fimo_P{ti}_{AvsC}'\n",
    "        f_peak_ngene = f'../P{ti}_{AvsC}_peaks_ngene.bed'\n",
    "        f_genome_order = '../mm10.sorted.chrom.sizes'\n",
    "        \n",
    "        fin   = wkdir + '/fimo.tsv'\n",
    "        \n",
    "        # chec\n",
    "        fout0 = wkdir + '/fimo_subset.tsv'\n",
    "        fout1 = wkdir + '/fimo_subset_regionsort.bed'\n",
    "        ftmp  = wkdir + '/fimo_subset_regionsort2.bed'\n",
    "        fout2 = wkdir + '/fimo_subset_regionsort2_ngene.bed'\n",
    "\n",
    "        \n",
    "        # subset the files\n",
    "        tfs_avc = [\n",
    "            'RFX3', 'MEIS2', 'NFIB',\n",
    "            'FOXP1', 'RORA', 'RORB', 'CUX1', 'SATB1', 'CAMTA1',\n",
    "            ]\n",
    "        command = ['grep'] \n",
    "        for tf in tfs_avc:\n",
    "            command += ['-e', tf] \n",
    "        command += ['fimo.tsv']\n",
    "        print(\" \".join(command))\n",
    "        \n",
    "        with open(fout0, 'w') as f:\n",
    "            subprocess.run(command, cwd=wkdir, stdout=f, stderr=subprocess.PIPE, text=True)\n",
    "            \n",
    "        # read and sort\n",
    "        df = pd.read_csv(fout0, sep='\\t', header=None)\n",
    "        dfout = df.groupby([2,3,4]).first().reset_index()[[2,3,4,1]]\n",
    "        dfout.to_csv(fout1, sep='\\t', index=False, header=False)\n",
    "\n",
    "        # bedtools sort -g ../mm10.sorted.chrom.sizes -i fimo_subset_regionsort.bed > fimo_subset_regionsort2.bed\n",
    "        command = ['bedtools', 'sort', '-g', f_genome_order, '-i', fout1]\n",
    "        with open(ftmp, 'w') as f:\n",
    "            subprocess.run(command, cwd=wkdir, stdout=f, stderr=subprocess.PIPE, text=True)\n",
    "\n",
    "        # bedtools closest -a fimo_subset_regionsort2.bed -b ../P8_A_peaks_ngene.bed > fimo_subset_regionsort_ngene.bed\n",
    "        command = ['bedtools', 'closest', '-a', ftmp, '-b', f_peak_ngene]\n",
    "        with open(fout2, 'w') as f:\n",
    "            subprocess.run(command, cwd=wkdir, stdout=f, stderr=subprocess.PIPE, text=True)"
   ]
  },
  {
   "cell_type": "markdown",
   "id": "9e5d3170-2337-413e-89d8-8949900e5a6d",
   "metadata": {},
   "source": [
    "# check results"
   ]
  },
  {
   "cell_type": "code",
   "execution_count": null,
   "id": "25ed3cfc-4367-442a-b426-d086332f49ea",
   "metadata": {
    "tags": []
   },
   "outputs": [],
   "source": [
    "g_csms_a = ['Cntn5',  'Epha3', 'Epha6', 'Kirrel3', 'Ptprk', 'Robo1', 'Tenm1',]\n",
    "g_csms_c = ['Astn2', 'Cdh12', 'Pcdh9', 'Sema6d']\n",
    "g_tfs_a = ['RFX3', 'MEIS2', 'NFIB']\n",
    "g_tfs_c = ['FOXP1', 'RORA', 'RORB', 'CUX1', 'SATB1', 'CAMTA1']\n",
    "\n",
    "ts = [6,8,10,12,14,17,21]\n",
    "for ti in ts:\n",
    "    print(ti)\n",
    "    # A-peaks that are closest to an A gene - look for A TFs binding sites\n",
    "    f = f'/u/home/f/f7xiesnm/project-zipursky/v1-bb/v1/results_atac/fimo_P{ti}_A/fimo_subset_regionsort2_ngene.bed'\n",
    "    df = pd.read_csv(f, sep='\\t', header=None)\n",
    "    df_a = df[df[3].isin(g_tfs_a)]\n",
    "    df_c = df[df[3].isin(g_tfs_c)]\n",
    "    for g in g_csms_a:\n",
    "        dfsub = df_a[df_a[11]==g]\n",
    "        if len(dfsub) > 0:\n",
    "            unq, cnts = np.unique(dfsub[3].values, return_counts=True)\n",
    "            order = np.argsort(cnts)[::-1]\n",
    "            print(g, unq[order], cnts[order])\n",
    "            \n",
    "        # c binding sites\n",
    "        dfsub = df_c[df_c[11]==g]\n",
    "        if len(dfsub) > 0:\n",
    "            unq, cnts = np.unique(dfsub[3].values, return_counts=True)\n",
    "            order = np.argsort(cnts)[::-1]\n",
    "            print(g, unq[order], cnts[order])\n",
    "            \n",
    "for ti in ts:\n",
    "    print(ti)\n",
    "    # C-peaks that are closest to an C gene - look for C TFs binding sites\n",
    "    f = f'/u/home/f/f7xiesnm/project-zipursky/v1-bb/v1/results_atac/fimo_P{ti}_C/fimo_subset_regionsort2_ngene.bed'\n",
    "    df = pd.read_csv(f, sep='\\t', header=None)\n",
    "    df_a = df[df[3].isin(g_tfs_a)]\n",
    "    df_c = df[df[3].isin(g_tfs_c)]\n",
    "    for g in g_csms_c:\n",
    "        dfsub = df_c[df_c[11]==g]\n",
    "        if len(dfsub) > 0:\n",
    "            unq, cnts = np.unique(dfsub[3].values, return_counts=True)\n",
    "            order = np.argsort(cnts)[::-1]\n",
    "            print(g, unq[order], cnts[order])\n",
    "        \n",
    "        # a binding sites\n",
    "        dfsub = df_a[df_a[11]==g]\n",
    "        if len(dfsub) > 0:\n",
    "            unq, cnts = np.unique(dfsub[3].values, return_counts=True)\n",
    "            order = np.argsort(cnts)[::-1]\n",
    "            print(g, unq[order], cnts[order])\n"
   ]
  },
  {
   "cell_type": "code",
   "execution_count": null,
   "id": "c7467704-69b0-4712-8681-d6e23ad5707b",
   "metadata": {},
   "outputs": [],
   "source": []
  }
 ],
 "metadata": {
  "kernelspec": {
   "display_name": "Python 3 (ipykernel)",
   "language": "python",
   "name": "python3"
  },
  "language_info": {
   "codemirror_mode": {
    "name": "ipython",
    "version": 3
   },
   "file_extension": ".py",
   "mimetype": "text/x-python",
   "name": "python",
   "nbconvert_exporter": "python",
   "pygments_lexer": "ipython3",
   "version": "3.9.16"
  }
 },
 "nbformat": 4,
 "nbformat_minor": 5
}
