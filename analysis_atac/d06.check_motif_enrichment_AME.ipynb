{
 "cells": [
  {
   "cell_type": "code",
   "execution_count": null,
   "id": "0d4f050b-d2de-45e7-8f7f-0dfba714408f",
   "metadata": {
    "tags": []
   },
   "outputs": [],
   "source": [
    "import numpy as np\n",
    "import pandas as pd\n",
    "import os\n",
    "\n",
    "import matplotlib.pyplot as plt\n",
    "import seaborn as sns\n",
    "from scipy import sparse\n",
    "from sklearn.decomposition import PCA\n",
    "\n",
    "import scanpy as sc\n",
    "from umap import UMAP\n",
    "from scroutines import powerplots\n",
    "from scroutines import basicu"
   ]
  },
  {
   "cell_type": "code",
   "execution_count": null,
   "id": "893d3807-381b-44ca-82d1-a2198f90089b",
   "metadata": {
    "tags": []
   },
   "outputs": [],
   "source": [
    "ddir = '/u/home/f/f7xiesnm/project-zipursky/v1-bb/v1/results_atac'\n",
    "\n",
    "res = []\n",
    "for group in ['A', 'B', 'C']:\n",
    "    for i in range(5):\n",
    "        f = os.path.join(ddir, f'ame_v2_L23{group}_M{i+1}', 'ame.tsv')\n",
    "        df = pd.read_csv(f, sep='\\t').head(10)\n",
    "        n = df['FASTA_max'].iloc[0]\n",
    "        x = df['TP']\n",
    "        y = df['FP']\n",
    "        oddsratios = (x*(n-y))/(y*(n-x))\n",
    "        df['OR'] = oddsratios\n",
    "        df['TP/FP'] = x/y\n",
    "        df = df.sort_values('OR', ascending=False)\n",
    "        dfres = df[['motif_alt_ID', 'OR']].head(5)\n",
    "        dfres['anno'] = f'A{i+1}'\n",
    "        res.append(dfres)\n",
    "\n",
    "res = pd.concat(res)"
   ]
  },
  {
   "cell_type": "code",
   "execution_count": null,
   "id": "bf85c74f-b238-4108-ad09-cf95be632786",
   "metadata": {
    "tags": []
   },
   "outputs": [],
   "source": [
    "res"
   ]
  },
  {
   "cell_type": "code",
   "execution_count": null,
   "id": "ada9cb6b-47f9-4ce8-99a8-4efb05bce905",
   "metadata": {
    "tags": []
   },
   "outputs": [],
   "source": [
    "fig, axs = plt.subplots(1,3,figsize=(6*3,8))\n",
    "ax = axs[0]\n",
    "ax.barh(np.arange(25), res['OR'].iloc[:25], color='C0', edgecolor='none')\n",
    "ax.set_yticks(np.arange(0, 25, 1))\n",
    "ax.hlines(np.arange(0-0.5, 25-0.5, 5), 0, 10, color='k', linestyle='--')\n",
    "ax.set_yticklabels(res['motif_alt_ID'].iloc[:25])\n",
    "ax.invert_yaxis()\n",
    "sns.despine(ax=ax)\n",
    "ax.grid(axis='y')\n",
    "\n",
    "ax = axs[1]\n",
    "ax.barh(np.arange(25), res['OR'].iloc[25:50], color='C1', edgecolor='none')\n",
    "ax.set_yticks(np.arange(0, 25, 1))\n",
    "ax.hlines(np.arange(0-0.5, 25-0.5, 5), 0, 10, color='k', linestyle='--')\n",
    "ax.set_yticklabels(res['motif_alt_ID'].iloc[25:50])\n",
    "ax.invert_yaxis()\n",
    "sns.despine(ax=ax)\n",
    "ax.grid(axis='y')\n",
    "\n",
    "ax = axs[2]\n",
    "ax.barh(np.arange(25), res['OR'].iloc[50:75], color='C2', edgecolor='none')\n",
    "ax.set_yticks(np.arange(0, 25, 1))\n",
    "ax.hlines(np.arange(0-0.5, 25-0.5, 5), 0, 10, color='k', linestyle='--')\n",
    "ax.set_yticklabels(res['motif_alt_ID'].iloc[50:75])\n",
    "ax.invert_yaxis()\n",
    "sns.despine(ax=ax)\n",
    "ax.grid(axis='y')\n",
    "\n",
    "fig.tight_layout()"
   ]
  },
  {
   "cell_type": "code",
   "execution_count": null,
   "id": "b4c1abb4-80de-42a5-9b8e-6d1c909e9bce",
   "metadata": {},
   "outputs": [],
   "source": []
  }
 ],
 "metadata": {
  "kernelspec": {
   "display_name": "napari",
   "language": "python",
   "name": "napari"
  },
  "language_info": {
   "codemirror_mode": {
    "name": "ipython",
    "version": 3
   },
   "file_extension": ".py",
   "mimetype": "text/x-python",
   "name": "python",
   "nbconvert_exporter": "python",
   "pygments_lexer": "ipython3",
   "version": "3.9.16"
  }
 },
 "nbformat": 4,
 "nbformat_minor": 5
}
