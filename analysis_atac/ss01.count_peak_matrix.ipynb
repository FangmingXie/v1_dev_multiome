{
 "cells": [
  {
   "cell_type": "code",
   "execution_count": null,
   "id": "af8fc976-78f1-4d72-86b2-713259604d46",
   "metadata": {
    "tags": []
   },
   "outputs": [],
   "source": [
    "import snapatac2 as snap\n",
    "import os"
   ]
  },
  {
   "cell_type": "code",
   "execution_count": null,
   "id": "a3153731-c10c-48f9-a46d-be2dfae0b66d",
   "metadata": {
    "tags": []
   },
   "outputs": [],
   "source": [
    "snap.__version__"
   ]
  },
  {
   "cell_type": "code",
   "execution_count": null,
   "id": "23e0f065-5bc5-4c8a-b8dd-35ccf82cf518",
   "metadata": {
    "tags": []
   },
   "outputs": [],
   "source": [
    "ddir = '/u/home/f/f7xiesnm/v1_multiome/atac_fragments'\n",
    "# peak_file = '/u/home/f/f7xiesnm/project-zipursky/v1-bb/v1/results_atac/all_l23_peaks_sal.bed'\n",
    "# peak_file = '/u/home/f/f7xiesnm/v1_multiome/atac_fragments/frag_bed/processed_peaks/consensus_peaks_v2.bed'\n",
    "# peak_file = \"/u/home/f/f7xiesnm/v1_multiome/juyoun/scenic_regions.bed\"\n",
    "# peak_file = \"/u/home/f/f7xiesnm/v1_multiome/atac_fragments/scenic_regions_head.bed\"\n",
    "peak_file = \"/u/home/f/f7xiesnm/v1_multiome/atac_fragments/scenic_regions.bed\"\n",
    "\n",
    "samples = [\n",
    "    # 'P6a', 'P6b', 'P6c',\n",
    "    # 'P8a', 'P8b', 'P8c',\n",
    "    # 'P10a', 'P10b', \n",
    "    # 'P12a', 'P12b', 'P12c', \n",
    "    # 'P14a', 'P14b', \n",
    "    # 'P17a', 'P17b', \n",
    "    # 'P21a', \n",
    "    'P21b', \n",
    "\n",
    "    # 'P12DRa', 'P12DRb', \n",
    "    # 'P14DRa', 'P14DRb', \n",
    "    # 'P17DRa', 'P17DRb', \n",
    "    # 'P21DRa', 'P21DRb',\n",
    "    ]"
   ]
  },
  {
   "cell_type": "code",
   "execution_count": null,
   "id": "a4464c81-2020-4a4e-adee-47c86d6e4a4d",
   "metadata": {
    "tags": []
   },
   "outputs": [],
   "source": [
    "len(samples)"
   ]
  },
  {
   "cell_type": "code",
   "execution_count": null,
   "id": "d40ea9e5-116d-460d-8ff5-d29d5e7caa62",
   "metadata": {
    "tags": []
   },
   "outputs": [],
   "source": [
    "%%time\n",
    "\n",
    "for sample in samples: # [10:]:\n",
    "\n",
    "    input_file           = ddir+f'/frag_snap/ATAC_{sample}.h5ad'\n",
    "    output_peak_mat_file = ddir+f'/pmat_snap/pmat_l23scenic_{sample}.h5ad'\n",
    "    \n",
    "    data = snap.read(input_file) #, backed=None) # 'r')\n",
    "\n",
    "    print(f'generating {sample} peak matrix', flush=True)\n",
    "    peak_mat = snap.pp.make_peak_matrix(data, peak_file=peak_file, file=output_peak_mat_file)\n",
    "    \n",
    "    data.close()\n",
    "    peak_mat.close()\n",
    "    "
   ]
  },
  {
   "cell_type": "code",
   "execution_count": null,
   "id": "5a7a9e95-6e04-4ec9-a79e-2ed69eaf1285",
   "metadata": {
    "tags": []
   },
   "outputs": [],
   "source": [
    "data"
   ]
  },
  {
   "cell_type": "code",
   "execution_count": null,
   "id": "1f7634b9-d3ce-4cd7-8c67-ece5cf4b6af1",
   "metadata": {},
   "outputs": [],
   "source": [
    "peak_mat"
   ]
  },
  {
   "cell_type": "code",
   "execution_count": null,
   "id": "e625c47a-c9c6-4775-bd29-b43c45bb7fc0",
   "metadata": {
    "tags": []
   },
   "outputs": [],
   "source": []
  },
  {
   "cell_type": "code",
   "execution_count": null,
   "id": "9886fd93-b09c-4d33-b170-88936356e2e7",
   "metadata": {},
   "outputs": [],
   "source": []
  }
 ],
 "metadata": {
  "kernelspec": {
   "display_name": "snapatac2new2",
   "language": "python",
   "name": "snapatac2new2"
  },
  "language_info": {
   "codemirror_mode": {
    "name": "ipython",
    "version": 3
   },
   "file_extension": ".py",
   "mimetype": "text/x-python",
   "name": "python",
   "nbconvert_exporter": "python",
   "pygments_lexer": "ipython3",
   "version": "3.12.0"
  }
 },
 "nbformat": 4,
 "nbformat_minor": 5
}
