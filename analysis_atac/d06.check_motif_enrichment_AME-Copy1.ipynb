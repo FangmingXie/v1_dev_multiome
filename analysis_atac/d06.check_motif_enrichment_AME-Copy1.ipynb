{
 "cells": [
  {
   "cell_type": "code",
   "execution_count": null,
   "id": "0d4f050b-d2de-45e7-8f7f-0dfba714408f",
   "metadata": {
    "tags": []
   },
   "outputs": [],
   "source": [
    "import numpy as np\n",
    "import pandas as pd\n",
    "import os\n",
    "\n",
    "import matplotlib.pyplot as plt\n",
    "import seaborn as sns\n",
    "from scipy import sparse\n",
    "from sklearn.decomposition import PCA\n",
    "\n",
    "import scanpy as sc\n",
    "from umap import UMAP\n",
    "from scroutines import powerplots\n",
    "from scroutines import basicu"
   ]
  },
  {
   "cell_type": "code",
   "execution_count": null,
   "id": "893d3807-381b-44ca-82d1-a2198f90089b",
   "metadata": {
    "tags": []
   },
   "outputs": [],
   "source": [
    "ddir = '/u/home/f/f7xiesnm/project-zipursky/v1-bb/v1/results_atac'\n",
    "\n",
    "ntop = 10\n",
    "res = []\n",
    "for group in ['A', 'B', 'C']:\n",
    "    for i in range(5):\n",
    "        f = os.path.join(ddir, f'ame_v2_L23{group}_M{i+1}', 'ame.tsv')\n",
    "        df = pd.read_csv(f, sep='\\t')\n",
    "        n = df['FASTA_max'].iloc[0]\n",
    "        x = df['TP']\n",
    "        y = df['FP']\n",
    "        oddsratios = (x*(n-y))/(y*(n-x))\n",
    "        df['OR'] = oddsratios\n",
    "        df['TP/FP'] = x/y\n",
    "        # df = df.sort_values('OR', ascending=False)\n",
    "        # df = df.sort_values('', ascending=False)\n",
    "        dfres = df[['motif_alt_ID', 'motif_ID', 'OR']].head(ntop)\n",
    "        dfres['anno'] = f'{group}{i+1}'\n",
    "        res.append(dfres)\n",
    "\n",
    "res = pd.concat(res)"
   ]
  },
  {
   "cell_type": "code",
   "execution_count": null,
   "id": "209a3daf-ff99-4f52-98b8-ed5985a10eb4",
   "metadata": {
    "tags": []
   },
   "outputs": [],
   "source": [
    "df"
   ]
  },
  {
   "cell_type": "code",
   "execution_count": null,
   "id": "bf85c74f-b238-4108-ad09-cf95be632786",
   "metadata": {
    "tags": []
   },
   "outputs": [],
   "source": [
    "res"
   ]
  },
  {
   "cell_type": "code",
   "execution_count": null,
   "id": "ada9cb6b-47f9-4ce8-99a8-4efb05bce905",
   "metadata": {
    "tags": []
   },
   "outputs": [],
   "source": [
    "ressubs = [\n",
    "     res.iloc[        :  5*ntop],\n",
    "     res.iloc[  5*ntop:2*5*ntop],\n",
    "     res.iloc[2*5*ntop:        ],\n",
    "]\n",
    "\n",
    "\n",
    "fig, axs = plt.subplots(1,3,figsize=(10*3,16))\n",
    "for i, (ax, ressub) in enumerate(zip(axs, ressubs)):\n",
    "    ax.barh(np.arange(5*ntop), ressub['OR'], color=f'C{i}', edgecolor='none')\n",
    "    ax.set_yticks(np.arange(0, 5*ntop, 1))\n",
    "    ax.set_yticklabels(ressub['motif_alt_ID'])\n",
    "    ax.hlines(np.arange(0-0.5, 5*ntop-0.5, ntop), 0, 10, color='k', linestyle='--')\n",
    "    ax.invert_yaxis()\n",
    "    sns.despine(ax=ax)\n",
    "    ax.grid(axis='y')\n",
    "\n",
    "fig.tight_layout()"
   ]
  },
  {
   "cell_type": "markdown",
   "id": "b6de111c-d33e-4431-9796-3c879b6b4166",
   "metadata": {},
   "source": [
    "# remove redundancy"
   ]
  },
  {
   "cell_type": "code",
   "execution_count": null,
   "id": "d212c435-759f-4d03-96f0-2925a43636a5",
   "metadata": {
    "tags": []
   },
   "outputs": [],
   "source": [
    "ddir = '/u/home/f/f7xiesnm/project-zipursky/v1-bb/v1/results_atac'\n",
    "\n",
    "query = []\n",
    "res = []\n",
    "for group in ['A', 'B', 'C']:\n",
    "    for i in range(5):\n",
    "        f = os.path.join(ddir, f'ame_v2_L23{group}_M{i+1}', 'ame.tsv')\n",
    "        df = pd.read_csv(f, sep='\\t').dropna()  #.head(10)\n",
    "        n = df['FASTA_max'].iloc[0]\n",
    "        x = df['TP']\n",
    "        y = df['FP']\n",
    "        oddsratios = (x*(n-y))/(y*(n-x))\n",
    "        df['OR'] = oddsratios\n",
    "        df['TP/FP'] = x/y\n",
    "        \n",
    "        # dfres = df[['motif_alt_ID', 'motif_ID', 'OR']].copy # .head(5)\n",
    "        df['anno'] = f'{group}{i+1}'\n",
    "        res.append(df)\n",
    "\n",
    "res = pd.concat(res)\n",
    "res"
   ]
  },
  {
   "cell_type": "code",
   "execution_count": null,
   "id": "30c1a0b3-12aa-47b9-8df4-561f11bad566",
   "metadata": {
    "tags": []
   },
   "outputs": [],
   "source": [
    "idx = np.hstack([\n",
    "    np.char.add('A', np.arange(1,6,1).astype(str)),\n",
    "    np.char.add('B', np.arange(1,6,1).astype(str)),\n",
    "    np.char.add('C', np.arange(1,6,1).astype(str)),\n",
    "])\n",
    "\n",
    "idx = pd.DataFrame(index=idx)\n",
    "idx['color'] = ['C0']*5+['C1']*5+['C2']*5 \n",
    "idx"
   ]
  },
  {
   "cell_type": "code",
   "execution_count": null,
   "id": "efb4fd27-e2b2-4417-981e-a20e274aa7ea",
   "metadata": {
    "tags": []
   },
   "outputs": [],
   "source": [
    "res[res['motif_alt_ID'].str.contains('MEIS')]"
   ]
  },
  {
   "cell_type": "code",
   "execution_count": null,
   "id": "c7b2f9c9-395c-4cc5-900f-bcc023e3d1de",
   "metadata": {},
   "outputs": [],
   "source": [
    "q_id = 'MA0099.3'\n",
    "q_name = 'FOS::JUN'\n",
    "\n",
    "# q_id = 'MA0798.3'\n",
    "# q_name = 'RFX3'\n",
    "\n",
    "# q_id = 'MA0774.1'\n",
    "# q_name = 'MEIS2'\n",
    "\n",
    "# q_id = 'MA1995.1'\n",
    "# q_name = 'Npas4'\n",
    "\n",
    "# q_id = 'MA0162.4'\n",
    "# q_name = 'EGR1'\n",
    "\n",
    "# q_id = 'MA1869.1'\n",
    "# q_name = 'FoxK'\n",
    "\n",
    "# q_id = 'MA1929.1'\n",
    "# q_name = 'CTCF'\n",
    "\n",
    "q1_pre = res[res['motif_alt_ID']==q_name]\n",
    "print(q1_pre['motif_ID'].value_counts())\n",
    "q1 = res[res['motif_ID']==q_id]\n",
    "r1 = idx.join(q1.set_index('anno'))\n",
    "\n",
    "fig, ax = plt.subplots()\n",
    "ax.bar(np.arange(len(r1)), r1['%TP'], linewidth=0, color=r1['color'])\n",
    "ax.bar(np.arange(len(r1)), r1['%FP'], linewidth=0, color='lightgray')\n",
    "ax.set_xticks(np.arange(len(r1)))\n",
    "ax.set_xticklabels(r1.index.values)\n",
    "ax.set_ylabel('%TP')\n",
    "ax.set_title(f'{q_name} ({q_id})')\n",
    "sns.despine(ax=ax)\n",
    "ax.grid(axis='x')\n",
    "output = '/u/home/f/f7xiesnm/project-zipursky/v1-bb/v1/figures/250407/motif_enrichment.pdf'\n",
    "powerplots.savefig_autodate(fig, output)\n",
    "plt.show()"
   ]
  },
  {
   "cell_type": "code",
   "execution_count": null,
   "id": "9e9c1fa0-52bc-452c-982a-b5368c442bae",
   "metadata": {},
   "outputs": [],
   "source": []
  }
 ],
 "metadata": {
  "kernelspec": {
   "display_name": "napari",
   "language": "python",
   "name": "napari"
  },
  "language_info": {
   "codemirror_mode": {
    "name": "ipython",
    "version": 3
   },
   "file_extension": ".py",
   "mimetype": "text/x-python",
   "name": "python",
   "nbconvert_exporter": "python",
   "pygments_lexer": "ipython3",
   "version": "3.9.16"
  }
 },
 "nbformat": 4,
 "nbformat_minor": 5
}
