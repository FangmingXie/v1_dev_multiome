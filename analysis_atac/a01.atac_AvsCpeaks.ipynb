{
 "cells": [
  {
   "cell_type": "code",
   "execution_count": null,
   "id": "40d3cf98-2f37-46b9-a606-af61ebef2881",
   "metadata": {
    "tags": []
   },
   "outputs": [],
   "source": [
    "import scipy.io\n",
    "import numpy as np\n",
    "import pandas as pd\n",
    "import scanpy as sc\n",
    "import h5py\n",
    "\n",
    "import os\n",
    "import numpy as np\n",
    "import pandas as pd\n",
    "import scanpy as sc\n",
    "import anndata \n",
    "import seaborn as sns\n",
    "from scipy.stats import zscore\n",
    "import matplotlib.pyplot as plt\n",
    "import collections\n",
    "from natsort import natsorted\n",
    "\n",
    "from scipy import stats\n",
    "from scipy import sparse\n",
    "from sklearn.decomposition import PCA\n",
    "from umap import UMAP\n",
    "\n",
    "from matplotlib.colors import LinearSegmentedColormap\n",
    "from statsmodels.stats.multitest import multipletests\n",
    "\n",
    "from scroutines.config_plots import *\n",
    "from scroutines import powerplots # .config_plots import *\n",
    "from scroutines import pnmf\n",
    "from scroutines import basicu\n",
    "from scroutines.gene_modules import GeneModules  "
   ]
  },
  {
   "cell_type": "code",
   "execution_count": null,
   "id": "c97c2596-5b85-4018-8d00-3f5d9460a43f",
   "metadata": {},
   "outputs": [],
   "source": [
    "%%time\n",
    "f_rna = '/u/home/f/f7xiesnm/project-zipursky/v1-bb/v1/data/v1_multiome/L23_allmultiome_proc_P6toP21.h5ad'\n",
    "adata = sc.read(f_rna)\n",
    "adata"
   ]
  },
  {
   "cell_type": "code",
   "execution_count": null,
   "id": "e40623c6-384a-49e4-935d-185e06cfb547",
   "metadata": {
    "tags": []
   },
   "outputs": [],
   "source": [
    "%%time\n",
    "adatas_pk = []\n",
    "for ti in [6,8,10,12,14,17,21]:\n",
    "    print(ti)\n",
    "    f = f'/u/home/f/f7xiesnm/project-zipursky/v1-bb/v1/data/v1_multiome/P{ti}_ATAC_L23_peakbycell_filtered.h5ad'\n",
    "    adata_pk = sc.read(f)\n",
    "    adata_pk.obs = adata_pk.obs.set_index('cell')\n",
    "    print(adata_pk.var['peak'][:3].values)\n",
    "    \n",
    "    adatas_pk.append(adata_pk)\n",
    "    print(adata_pk)\n",
    "    # break"
   ]
  },
  {
   "cell_type": "code",
   "execution_count": null,
   "id": "38798144-dd47-47f1-8f4c-11390036de85",
   "metadata": {
    "tags": []
   },
   "outputs": [],
   "source": [
    "# get cells based on RNA\n",
    "# get matrix based on ATAC - CPM or CP10k\n",
    "\n",
    "qs_avc = []\n",
    "l2fc_avc = []\n",
    "for cond_order, obssub in adata.obs.groupby('cond_order'):\n",
    "    # get sub\n",
    "    adatasub = adata[obssub.index]\n",
    "    adata_pk = adatas_pk[cond_order]\n",
    "    \n",
    "    # get A vs C \n",
    "    x = adatasub.obsm['pca_p17on'][...,0]\n",
    "    cond_a = x < np.percentile(x,20)\n",
    "    cond_c = x > np.percentile(x,80)\n",
    "    cells_a = np.array([c.split(' ')[0][:-len('-2023')] for c in adatasub[cond_a].obs.index.values])\n",
    "    cells_c = np.array([c.split(' ')[0][:-len('-2023')] for c in adatasub[cond_c].obs.index.values])\n",
    "    \n",
    "    cells_atac = adata_pk.obs.index.values\n",
    "    adata_pk_a = adata_pk[np.intersect1d(cells_a, cells_atac)]\n",
    "    adata_pk_c = adata_pk[np.intersect1d(cells_c, cells_atac)]\n",
    "    \n",
    "    mat_a = np.log10(1+adata_pk_a.X[...]) # layers['lognorm'][...]\n",
    "    mat_c = np.log10(1+adata_pk_c.X[...]) # adatasub_c.layers['lognorm'][...]\n",
    "    \n",
    "    # DEGs\n",
    "    lfc = np.log2(10)*(np.mean(mat_c, axis=0) - np.mean(mat_a, axis=0)) # log2FC (log10CPM as raw counts)\n",
    "    ts, ps = stats.ttest_ind(mat_a, mat_c)\n",
    "    rs, qs, _, _ = multipletests(np.nan_to_num(ps, nan=1).reshape(-1,), method='fdr_bh') # why nan in ps -- not expressed\n",
    "    \n",
    "    num_sig = np.sum(np.logical_and(qs < 0.05, np.abs(lfc) > 1))\n",
    "    print(cond_order, mat_a.shape, mat_c.shape, num_sig)\n",
    "    \n",
    "    # save this\n",
    "    qs_avc.append(qs)\n",
    "    l2fc_avc.append(lfc)\n",
    "    \n",
    "    # break\n",
    "    \n",
    "qs_avc = np.array(qs_avc)\n",
    "l2fc_avc = np.array(l2fc_avc)"
   ]
  },
  {
   "cell_type": "code",
   "execution_count": null,
   "id": "49eb3bb4-4bad-48cf-963f-726b6d787e48",
   "metadata": {
    "tags": []
   },
   "outputs": [],
   "source": [
    "# adata.uns['qs_avc'] = qs_avc\n",
    "# adata.uns['l2fc_avc'] = l2fc_avc\n",
    "# adata"
   ]
  },
  {
   "cell_type": "code",
   "execution_count": null,
   "id": "bb017a26-7f4f-449c-979d-82cb8572c608",
   "metadata": {
    "tags": []
   },
   "outputs": [],
   "source": [
    "l2fc_th = 1\n",
    "alpha_th = 0.05\n",
    "cond_sig   = np.logical_and(qs_avc < alpha_th, np.abs(l2fc_avc) > l2fc_th)\n",
    "cond_sig_c = np.logical_and(qs_avc < alpha_th, l2fc_avc >  l2fc_th)\n",
    "cond_sig_a = np.logical_and(qs_avc < alpha_th, l2fc_avc < -l2fc_th)\n",
    "\n",
    "print('num AvsC-DEGs per cond:\\t', cond_sig.sum(axis=1))\n",
    "print('num A-DEGs per cond:\\t',    cond_sig_a.sum(axis=1))\n",
    "print('num C-DEGs per cond:\\t',    cond_sig_c.sum(axis=1))"
   ]
  },
  {
   "cell_type": "code",
   "execution_count": null,
   "id": "d0a1bfaa-436b-40da-82d5-aee4892d3528",
   "metadata": {
    "tags": []
   },
   "outputs": [],
   "source": [
    "gene_sig_instances   = cond_sig.sum(axis=0)\n",
    "gene_sig_instances_a = cond_sig_a.sum(axis=0)\n",
    "gene_sig_instances_c = cond_sig_c.sum(axis=0)\n",
    "\n",
    "instances, counts = np.unique(gene_sig_instances, return_counts=True)\n",
    "instances_a, counts_a = np.unique(gene_sig_instances_a, return_counts=True)\n",
    "instances_c, counts_c = np.unique(gene_sig_instances_c, return_counts=True)\n",
    "\n",
    "print('num AvsC-DEGs in num conds:\\t',  counts  , np.any(cond_sig, axis=0).sum())\n",
    "print('num A-DEGs in num conds:\\t',     counts_a, np.any(cond_sig_a, axis=0).sum())\n",
    "print('num C-DEGs in num conds:\\t',     counts_c, np.any(cond_sig_c, axis=0).sum())"
   ]
  },
  {
   "cell_type": "code",
   "execution_count": null,
   "id": "026e49f0-825b-42c0-9f5c-9e5e8609f442",
   "metadata": {
    "tags": []
   },
   "outputs": [],
   "source": [
    "%%time\n",
    "fout1 = '/u/home/f/f7xiesnm/project-zipursky/v1-bb/v1/data/v1_multiome/qs_avc_p6to21.txt'\n",
    "fout2 = '/u/home/f/f7xiesnm/project-zipursky/v1-bb/v1/data/v1_multiome/l2fc_avc_p6to21.txt'\n",
    "\n",
    "np.savetxt(fout1, qs_avc)\n",
    "np.savetxt(fout2, l2fc_avc)"
   ]
  },
  {
   "cell_type": "code",
   "execution_count": null,
   "id": "924c157a-b954-40b2-9c73-a7f3251725be",
   "metadata": {
    "tags": []
   },
   "outputs": [],
   "source": [
    "a = np.loadtxt(fout1)\n",
    "a.shape"
   ]
  },
  {
   "cell_type": "code",
   "execution_count": null,
   "id": "962c8c24-2c6d-456c-9d16-0251dcfae1e8",
   "metadata": {},
   "outputs": [],
   "source": [
    "fig, ax = plt.subplots(figsize=(4,4))\n",
    "ax.plot(np.arange(1,1+7), counts_a[1:], '-o', label='A', color='C0')\n",
    "ax.plot(np.arange(1,1+7), counts_c[1:], '-o', label='C', color='C2')\n",
    "ax.set_ylim(ymin=0)\n",
    "ax.legend()\n",
    "ax.set_ylabel('number of TFs')\n",
    "ax.set_xlabel('number of time points')\n",
    "sns.despine(ax=ax)\n",
    "plt.show()"
   ]
  },
  {
   "cell_type": "code",
   "execution_count": null,
   "id": "1981d3fe-7681-447b-a400-c2c33c76e666",
   "metadata": {},
   "outputs": [],
   "source": [
    "# next steps\n",
    "# volcanos\n",
    "# nearest genes\n",
    "# tf enrichments"
   ]
  },
  {
   "cell_type": "code",
   "execution_count": null,
   "id": "16b43e37-968c-464f-9212-a4f60da6e3d1",
   "metadata": {},
   "outputs": [],
   "source": []
  },
  {
   "cell_type": "code",
   "execution_count": null,
   "id": "2d2db85d-5642-4eae-923a-224e073cd0f1",
   "metadata": {},
   "outputs": [],
   "source": []
  },
  {
   "cell_type": "code",
   "execution_count": null,
   "id": "e06d69c8-cf93-42b2-8848-8d724e19b17c",
   "metadata": {},
   "outputs": [],
   "source": []
  },
  {
   "cell_type": "code",
   "execution_count": null,
   "id": "44b54a15-8c02-4d86-857f-75c647554c3b",
   "metadata": {},
   "outputs": [],
   "source": []
  },
  {
   "cell_type": "code",
   "execution_count": null,
   "id": "289fe872-53ae-49d3-9e1f-3b1972cabdc5",
   "metadata": {},
   "outputs": [],
   "source": []
  },
  {
   "cell_type": "code",
   "execution_count": null,
   "id": "0669546e-e5c9-4786-b1a9-abda9aff9fb5",
   "metadata": {},
   "outputs": [],
   "source": []
  },
  {
   "cell_type": "code",
   "execution_count": null,
   "id": "6e5dc98f-b2a3-4efd-83eb-bf636787020d",
   "metadata": {},
   "outputs": [],
   "source": []
  },
  {
   "cell_type": "code",
   "execution_count": null,
   "id": "d3e8a55e-fc90-4017-ba96-cc75cac86c4f",
   "metadata": {},
   "outputs": [],
   "source": []
  },
  {
   "cell_type": "code",
   "execution_count": null,
   "id": "405fabaf-7e77-46c4-85d6-0f6f16780841",
   "metadata": {},
   "outputs": [],
   "source": []
  }
 ],
 "metadata": {
  "kernelspec": {
   "display_name": "Python 3 (ipykernel)",
   "language": "python",
   "name": "python3"
  },
  "language_info": {
   "codemirror_mode": {
    "name": "ipython",
    "version": 3
   },
   "file_extension": ".py",
   "mimetype": "text/x-python",
   "name": "python",
   "nbconvert_exporter": "python",
   "pygments_lexer": "ipython3",
   "version": "3.9.16"
  }
 },
 "nbformat": 4,
 "nbformat_minor": 5
}
