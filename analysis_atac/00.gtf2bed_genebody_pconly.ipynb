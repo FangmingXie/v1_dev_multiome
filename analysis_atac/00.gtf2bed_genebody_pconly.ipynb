{
 "cells": [
  {
   "cell_type": "code",
   "execution_count": null,
   "id": "87ff5243-c0eb-4ffd-95ee-2bf52c345110",
   "metadata": {
    "tags": []
   },
   "outputs": [],
   "source": [
    "import pandas as pd"
   ]
  },
  {
   "cell_type": "code",
   "execution_count": null,
   "id": "6955560f-b26c-480e-869f-cadacfc320c3",
   "metadata": {
    "tags": []
   },
   "outputs": [],
   "source": [
    "f = '/u/home/f/f7xiesnm/project-zipursky/v1-bb/v1/data/annot/gencode.vM25.annotation.gtf.gz'\n",
    "fout = '/u/home/f/f7xiesnm/project-zipursky/v1-bb/v1/data/annot/gencode.vM25.genebody_pconly.bed'\n",
    "\n",
    "df = pd.read_csv(f, sep='\\t', skiprows=5, header=None,\n",
    "                 # nrows=100,\n",
    "                )\n",
    "df"
   ]
  },
  {
   "cell_type": "code",
   "execution_count": null,
   "id": "17fc8227-7cb7-4805-a837-62b843e3ca67",
   "metadata": {
    "tags": []
   },
   "outputs": [],
   "source": [
    "df[2].unique()"
   ]
  },
  {
   "cell_type": "code",
   "execution_count": null,
   "id": "2afa5946-a1b9-420b-a7b9-8295d86a322e",
   "metadata": {
    "tags": []
   },
   "outputs": [],
   "source": [
    "dfg = df[df[2]=='gene'].copy()\n",
    "dfg['gene_name'] = dfg[8].apply(lambda x: x.split(';')[2][len(\"gene_name \"):].replace(\"\\\"\", \" \").strip(\" \"))\n",
    "dfg['gene_type'] = dfg[8].apply(lambda x: x.split(';')[1][len(\"gene_name \"):].replace(\"\\\"\", \" \").strip(\" \"))\n",
    "dfg"
   ]
  },
  {
   "cell_type": "code",
   "execution_count": null,
   "id": "24f09fff-750a-4387-9757-53dc7a13ff46",
   "metadata": {
    "tags": []
   },
   "outputs": [],
   "source": [
    "dfg = dfg[dfg['gene_type']=='protein_coding']\n",
    "dfg"
   ]
  },
  {
   "cell_type": "code",
   "execution_count": null,
   "id": "79100107-4434-4642-83a3-53c48f602744",
   "metadata": {
    "tags": []
   },
   "outputs": [],
   "source": [
    "bed = dfg[[0,3,4, 'gene_name']]\n",
    "bed"
   ]
  },
  {
   "cell_type": "code",
   "execution_count": null,
   "id": "7be7d540-ef41-41ce-9976-c367361a7112",
   "metadata": {},
   "outputs": [],
   "source": []
  },
  {
   "cell_type": "code",
   "execution_count": null,
   "id": "5e554626-7611-4895-b7d3-05b9aee31fa3",
   "metadata": {},
   "outputs": [],
   "source": []
  },
  {
   "cell_type": "code",
   "execution_count": null,
   "id": "323556a7-fd52-45af-b36f-4f7409afcbad",
   "metadata": {},
   "outputs": [],
   "source": []
  },
  {
   "cell_type": "code",
   "execution_count": null,
   "id": "81f61cf9-e8c5-4aa4-9512-c523cb3e26d0",
   "metadata": {},
   "outputs": [],
   "source": []
  },
  {
   "cell_type": "code",
   "execution_count": null,
   "id": "7ddb1cbc-af70-4e34-a28f-90c721ed81f9",
   "metadata": {},
   "outputs": [],
   "source": []
  },
  {
   "cell_type": "code",
   "execution_count": null,
   "id": "236be97e-509c-418f-a10b-ba577b72a7d1",
   "metadata": {
    "tags": []
   },
   "outputs": [],
   "source": [
    "bed.to_csv(fout, header=False, index=False, sep='\\t')"
   ]
  },
  {
   "cell_type": "code",
   "execution_count": null,
   "id": "31c01c82-4a2f-4ab3-bf82-d5a6532b6d28",
   "metadata": {
    "tags": []
   },
   "outputs": [],
   "source": [
    "!head $fout\n",
    "!wc -l $fout"
   ]
  },
  {
   "cell_type": "code",
   "execution_count": null,
   "id": "469a2d10-2f97-40cd-b1c0-9a67bc3c577e",
   "metadata": {},
   "outputs": [],
   "source": []
  }
 ],
 "metadata": {
  "kernelspec": {
   "display_name": "Python 3 (ipykernel)",
   "language": "python",
   "name": "python3"
  },
  "language_info": {
   "codemirror_mode": {
    "name": "ipython",
    "version": 3
   },
   "file_extension": ".py",
   "mimetype": "text/x-python",
   "name": "python",
   "nbconvert_exporter": "python",
   "pygments_lexer": "ipython3",
   "version": "3.9.16"
  }
 },
 "nbformat": 4,
 "nbformat_minor": 5
}
