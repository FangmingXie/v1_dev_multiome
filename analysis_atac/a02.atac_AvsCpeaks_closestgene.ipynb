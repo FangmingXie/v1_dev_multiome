{
 "cells": [
  {
   "cell_type": "code",
   "execution_count": null,
   "id": "40d3cf98-2f37-46b9-a606-af61ebef2881",
   "metadata": {
    "tags": []
   },
   "outputs": [],
   "source": [
    "import scipy.io\n",
    "import numpy as np\n",
    "import pandas as pd\n",
    "import scanpy as sc\n",
    "import h5py\n",
    "\n",
    "import os\n",
    "import numpy as np\n",
    "import pandas as pd\n",
    "import scanpy as sc\n",
    "import anndata \n",
    "import seaborn as sns\n",
    "from scipy.stats import zscore\n",
    "import matplotlib.pyplot as plt\n",
    "import collections\n",
    "from natsort import natsorted\n",
    "\n",
    "from scipy import stats\n",
    "from scipy import sparse\n",
    "from sklearn.decomposition import PCA\n",
    "from umap import UMAP\n",
    "\n",
    "from matplotlib.colors import LinearSegmentedColormap\n",
    "from statsmodels.stats.multitest import multipletests\n",
    "\n",
    "from scroutines.config_plots import *\n",
    "from scroutines import powerplots # .config_plots import *\n",
    "from scroutines import pnmf\n",
    "from scroutines import basicu\n",
    "from scroutines.gene_modules import GeneModules  "
   ]
  },
  {
   "cell_type": "code",
   "execution_count": null,
   "id": "e40623c6-384a-49e4-935d-185e06cfb547",
   "metadata": {
    "tags": []
   },
   "outputs": [],
   "source": [
    "%%time\n",
    "adatas_pk = []\n",
    "ts = [6,8,10,12,14,17,21]\n",
    "for ti in ts:\n",
    "    print(ti)\n",
    "    f = f'/u/home/f/f7xiesnm/project-zipursky/v1-bb/v1/data/v1_multiome/P{ti}_ATAC_L23_peakbycell_filtered.h5ad'\n",
    "    adata_pk = sc.read(f)\n",
    "    adata_pk.obs = adata_pk.obs.set_index('cell')\n",
    "    print(adata_pk.var['peak'][:3].values)\n",
    "    \n",
    "    adatas_pk.append(adata_pk)\n",
    "    print(adata_pk)\n",
    "    break\n",
    "\n",
    "allpeaks = adata_pk.var['peak'].values\n",
    "adata_pk.var, allpeaks"
   ]
  },
  {
   "cell_type": "code",
   "execution_count": null,
   "id": "026e49f0-825b-42c0-9f5c-9e5e8609f442",
   "metadata": {
    "tags": []
   },
   "outputs": [],
   "source": [
    "%%time\n",
    "fout1 = '/u/home/f/f7xiesnm/project-zipursky/v1-bb/v1/data/v1_multiome/qs_avc_p6to21.txt'\n",
    "fout2 = '/u/home/f/f7xiesnm/project-zipursky/v1-bb/v1/data/v1_multiome/l2fc_avc_p6to21.txt'\n",
    "\n",
    "qs_avc   = np.loadtxt(fout1)\n",
    "l2fc_avc = np.loadtxt(fout2)"
   ]
  },
  {
   "cell_type": "code",
   "execution_count": null,
   "id": "924c157a-b954-40b2-9c73-a7f3251725be",
   "metadata": {
    "tags": []
   },
   "outputs": [],
   "source": [
    "qs_avc.shape, l2fc_avc.shape"
   ]
  },
  {
   "cell_type": "code",
   "execution_count": null,
   "id": "bb017a26-7f4f-449c-979d-82cb8572c608",
   "metadata": {
    "tags": []
   },
   "outputs": [],
   "source": [
    "l2fc_th = 1\n",
    "alpha_th = 0.05\n",
    "cond_sig   = np.logical_and(qs_avc < alpha_th, np.abs(l2fc_avc) > l2fc_th)\n",
    "cond_sig_c = np.logical_and(qs_avc < alpha_th, l2fc_avc >  l2fc_th)\n",
    "cond_sig_a = np.logical_and(qs_avc < alpha_th, l2fc_avc < -l2fc_th)\n",
    "\n",
    "print('num AvsC-DEGs per cond:\\t', cond_sig.sum(axis=1))\n",
    "print('num A-DEGs per cond:\\t',    cond_sig_a.sum(axis=1))\n",
    "print('num C-DEGs per cond:\\t',    cond_sig_c.sum(axis=1))"
   ]
  },
  {
   "cell_type": "code",
   "execution_count": null,
   "id": "d0a1bfaa-436b-40da-82d5-aee4892d3528",
   "metadata": {
    "tags": []
   },
   "outputs": [],
   "source": [
    "gene_sig_instances   = cond_sig.sum(axis=0)\n",
    "gene_sig_instances_a = cond_sig_a.sum(axis=0)\n",
    "gene_sig_instances_c = cond_sig_c.sum(axis=0)\n",
    "\n",
    "instances, counts = np.unique(gene_sig_instances, return_counts=True)\n",
    "instances_a, counts_a = np.unique(gene_sig_instances_a, return_counts=True)\n",
    "instances_c, counts_c = np.unique(gene_sig_instances_c, return_counts=True)\n",
    "\n",
    "print('num AvsC-DEGs in num conds:\\t',  counts  , np.any(cond_sig, axis=0).sum())\n",
    "print('num A-DEGs in num conds:\\t',     counts_a, np.any(cond_sig_a, axis=0).sum())\n",
    "print('num C-DEGs in num conds:\\t',     counts_c, np.any(cond_sig_c, axis=0).sum())"
   ]
  },
  {
   "cell_type": "code",
   "execution_count": null,
   "id": "962c8c24-2c6d-456c-9d16-0251dcfae1e8",
   "metadata": {},
   "outputs": [],
   "source": [
    "fig, ax = plt.subplots(figsize=(4,4))\n",
    "ax.plot(np.arange(1,1+7), counts_a[1:], '-o', label='A', color='C0')\n",
    "ax.plot(np.arange(1,1+7), counts_c[1:], '-o', label='C', color='C2')\n",
    "ax.set_ylim(ymin=0)\n",
    "ax.legend()\n",
    "ax.set_ylabel('number of TFs')\n",
    "ax.set_xlabel('number of time points')\n",
    "sns.despine(ax=ax)\n",
    "plt.show()"
   ]
  },
  {
   "cell_type": "code",
   "execution_count": null,
   "id": "5a957d76-0004-40b6-93a7-34ebdb6b83d1",
   "metadata": {
    "tags": []
   },
   "outputs": [],
   "source": [
    "a_any = np.array(natsorted(allpeaks[np.any(cond_sig_a, axis=0)]))\n",
    "c_any = np.array(natsorted(allpeaks[np.any(cond_sig_c, axis=0)]))\n",
    "a_all = np.array(natsorted(allpeaks[np.all(cond_sig_a, axis=0)]))\n",
    "c_all = np.array(natsorted(allpeaks[np.all(cond_sig_c, axis=0)]))\n",
    "ac_overlap = np.array(natsorted(allpeaks[np.logical_and(np.any(cond_sig_a, axis=0), np.any(cond_sig_c, axis=0))]))\n",
    "\n",
    "print('a any', a_any.shape)\n",
    "print('c any', c_any.shape)\n",
    "print('a all', a_all.shape)\n",
    "print('c all', c_all.shape)\n",
    "print('ac overlap', ac_overlap.shape)"
   ]
  },
  {
   "cell_type": "code",
   "execution_count": null,
   "id": "edada793-ee6a-4bda-841b-7374fdfb38c2",
   "metadata": {
    "tags": []
   },
   "outputs": [],
   "source": [
    "a_all"
   ]
  },
  {
   "cell_type": "code",
   "execution_count": null,
   "id": "1981d3fe-7681-447b-a400-c2c33c76e666",
   "metadata": {},
   "outputs": [],
   "source": [
    "# next steps\n",
    "# volcanos\n",
    "# nearest genes\n",
    "# tf enrichments"
   ]
  },
  {
   "cell_type": "code",
   "execution_count": null,
   "id": "3e92ec9a-2f4c-4dd6-b67b-fdd476f054de",
   "metadata": {
    "tags": []
   },
   "outputs": [],
   "source": [
    "def split_peakstring(peak):\n",
    "    \"\"\"\n",
    "    \"\"\"\n",
    "    a, bc = peak.split(':')\n",
    "    b, c = bc.split('-')\n",
    "    b, c = int(b), int(c)\n",
    "    return a,b,c\n",
    "\n",
    "def peaksstrings_to_bed(peaks, name=None, fout=None, **kwargs):\n",
    "    \"\"\"\n",
    "    \"\"\"\n",
    "    \n",
    "    bedarray = np.char.replace(np.char.replace(peaks, ':', '\\t'), '-', '\\t')\n",
    "    if name is not None:\n",
    "        lastcol = np.arange(len(peaks)).astype(str)\n",
    "        linker = f\"\\t{name}_\"\n",
    "        bedarray = np.char.add(np.char.add(bedarray, linker), lastcol) \n",
    "        \n",
    "    if fout is not None:\n",
    "        print(f\"saving to {fout}\")\n",
    "        np.savetxt(fout, bedarray, **kwargs)\n",
    "        \n",
    "    return bedarray\n",
    "\n",
    "# [(a,b,c) for a,b,c in map(split_peakstring, a_peaks[:10])]\n",
    "# peaksstrings_to_bed(a_peaks, name='P6_A')\n"
   ]
  },
  {
   "cell_type": "code",
   "execution_count": null,
   "id": "a74ac730-038e-42aa-a961-c165bd5e71d1",
   "metadata": {
    "tags": []
   },
   "outputs": [],
   "source": [
    "import subprocess\n",
    "def get_closest_genes(peaks, dout, name):\n",
    "    \"\"\"run bedtools using subprocess\n",
    "    \"\"\"\n",
    "    fout_peaks = dout + f'/{name}_peaks.bed'\n",
    "    fout_cgene = dout + f'/{name}_peaks_ngene.bed'\n",
    "    \n",
    "    # save to bed\n",
    "    peaksstrings_to_bed(peaks, name=name, fout=fout_peaks, fmt='%s')\n",
    "\n",
    "    # run bedtools and save\n",
    "    # !bedtools closest -g mm10.sorted.chrom.sizes -a test.bed -b genebody.bed > out.bed\n",
    "    with open(fout_cgene, 'w') as f:\n",
    "        print(f\"Saving to {fout_cgene}\")\n",
    "        result = subprocess.run([\"bedtools\", \"closest\", \n",
    "                                    \"-g\", \"mm10.sorted.chrom.sizes\", \n",
    "                                    \"-t\", \"first\",\n",
    "                                    \"-a\", fout_peaks,\n",
    "                                    \"-b\", \"gencode.vM25.genebody_pconly.bed\", #\"gencode.vM25.genebody_pconly.bed\",\n",
    "                                   ], cwd=dout, stdout=f, stderr=subprocess.PIPE, text=True)\n",
    "    print(f\"Return code: {result.returncode}\")\n",
    "\n",
    "    # read the results back\n",
    "    df = pd.read_csv(fout_cgene, sep='\\t', header=None)\n",
    "    num_uniq_genes = len(df[7].unique())\n",
    "    print(f\"(pks; clst 1st g, uniq g): ({len(peaks)}, {len(df)}, {num_uniq_genes})\")\n",
    "    \n",
    "    return df"
   ]
  },
  {
   "cell_type": "code",
   "execution_count": null,
   "id": "39f26b2f-a254-4fd2-b029-4fa0ab4fef9c",
   "metadata": {
    "tags": []
   },
   "outputs": [],
   "source": [
    "dout = '/u/home/f/f7xiesnm/project-zipursky/v1-bb/v1/results_atac'\n",
    "!mkdir -p $dout"
   ]
  },
  {
   "cell_type": "code",
   "execution_count": null,
   "id": "36af2391-c9b4-4e52-a3b4-3dfe9b1b6066",
   "metadata": {
    "tags": []
   },
   "outputs": [],
   "source": [
    "%%time\n",
    "for i in range(7):\n",
    "    t = ts[i]\n",
    "    print(i, t)\n",
    "    peaks_a = np.array(natsorted(allpeaks[cond_sig_a[i]]))\n",
    "    peaks_c = np.array(natsorted(allpeaks[cond_sig_c[i]]))\n",
    "    \n",
    "    res_a = get_closest_genes(peaks_a, dout, f'P{t}_A') \n",
    "    res_c = get_closest_genes(peaks_c, dout, f'P{t}_C') "
   ]
  },
  {
   "cell_type": "code",
   "execution_count": null,
   "id": "45a21884-660b-4378-a523-45013db547ff",
   "metadata": {},
   "outputs": [],
   "source": []
  },
  {
   "cell_type": "code",
   "execution_count": null,
   "id": "edd6e255-836e-4a18-ad63-9a8f2e748dca",
   "metadata": {},
   "outputs": [],
   "source": []
  },
  {
   "cell_type": "code",
   "execution_count": null,
   "id": "d7645bfb-818d-4e2a-83d2-b31c43452cbb",
   "metadata": {},
   "outputs": [],
   "source": []
  },
  {
   "cell_type": "code",
   "execution_count": null,
   "id": "348e7ad7-3155-4893-84ee-a6a7d90588cb",
   "metadata": {},
   "outputs": [],
   "source": []
  },
  {
   "cell_type": "markdown",
   "id": "4d96a59e-b859-42e5-8762-7f294a9eff0f",
   "metadata": {},
   "source": [
    "# gene annot"
   ]
  },
  {
   "cell_type": "code",
   "execution_count": null,
   "id": "63d22f79-a319-469e-ad3d-a4616f1929f0",
   "metadata": {
    "tags": []
   },
   "outputs": [],
   "source": [
    "a_all_annots, a_all_styled, a_all_annots_styled = gene_modules.check_genes(a_all)\n",
    "c_all_annots, c_all_styled, c_all_annots_styled = gene_modules.check_genes(c_all)\n",
    "\n",
    "print(\"\\t\".join(a_all))\n",
    "print(\"\\t\".join(a_all_annots_styled)) # _styled))"
   ]
  },
  {
   "cell_type": "code",
   "execution_count": null,
   "id": "c08e8842-d67a-4658-8488-c8b704823d4d",
   "metadata": {
    "tags": []
   },
   "outputs": [],
   "source": [
    "print(\"\\t\".join(c_all))\n",
    "print(\"\\t\".join(c_all_annots_styled)) # _styled))"
   ]
  },
  {
   "cell_type": "code",
   "execution_count": null,
   "id": "718aaee7-d9a7-47c8-a696-dcd8936b9220",
   "metadata": {
    "tags": []
   },
   "outputs": [],
   "source": [
    "print(\"\\033[0;m alltime A:\", \"\\t\".join(a_all_styled))\n",
    "print(\"\\033[0;m alltime C:\", \"\\t\".join(c_all_styled))"
   ]
  },
  {
   "cell_type": "code",
   "execution_count": null,
   "id": "b3e689c1-1573-456b-905f-3ffdca65ac32",
   "metadata": {},
   "outputs": [],
   "source": []
  },
  {
   "cell_type": "code",
   "execution_count": null,
   "id": "9b644e43-4f76-412b-a20c-3641ee274b32",
   "metadata": {},
   "outputs": [],
   "source": []
  },
  {
   "cell_type": "code",
   "execution_count": null,
   "id": "affa643f-914c-4ccb-a21d-5cc60a073451",
   "metadata": {},
   "outputs": [],
   "source": []
  },
  {
   "cell_type": "markdown",
   "id": "45a20aa1-4afb-45ef-9a68-1f575feabb7c",
   "metadata": {},
   "source": [
    "# Volcano"
   ]
  },
  {
   "cell_type": "code",
   "execution_count": null,
   "id": "2453d87f-42d7-4261-9408-8dd5a6929d64",
   "metadata": {
    "tags": []
   },
   "outputs": [],
   "source": [
    "def show_volcano_v2(thetypeidx, thetype, lfc, qs,\n",
    "                    cond1, cond2up, cond2dn, \n",
    "                    querygenes_idx=None, \n",
    "                    gene_annots=None,\n",
    "                    ax=None, bbox_to_anchor=(1,1), loc=None,\n",
    "                   ): \n",
    "    \"\"\"\n",
    "    \"\"\"\n",
    "    eff = lfc[:,thetypeidx]\n",
    "    pvl = -np.log10(qs[:,thetypeidx]) # +1e-10)\n",
    "    cnd_up = np.all([cond1[:,thetypeidx], \n",
    "                     cond2up[:,thetypeidx]], axis=0) \n",
    "    cnd_dn = np.all([cond1[:,thetypeidx], \n",
    "                     cond2dn[:,thetypeidx]], axis=0) \n",
    "\n",
    "    if ax is None: \n",
    "        fig, ax = plt.subplots()\n",
    "    \n",
    "    # all genes\n",
    "    ax.scatter(eff, pvl, s=1, color='lightgray', rasterized=True)\n",
    "\n",
    "    # up genes\n",
    "    ax.scatter(eff[cnd_up], pvl[cnd_up], s=3, facecolors='C0', rasterized=True)\n",
    "    # dn genes\n",
    "    ax.scatter(eff[cnd_dn], pvl[cnd_dn], s=3, facecolors='C1', rasterized=True)\n",
    "    \n",
    "    # # query genes\n",
    "    # add text\n",
    "    if querygenes_idx is not None:\n",
    "        ax.scatter(eff[querygenes_idx], pvl[querygenes_idx], s=15, \n",
    "                   # label=f'type-specific (n={len(querygenes_idx):,})',\n",
    "                   facecolors='none', edgecolors='k', linewidth=1, rasterized=True)\n",
    "        for idx in querygenes_idx:\n",
    "            ax.text(eff[idx], pvl[idx], gene_annots[idx], fontsize=10)\n",
    "\n",
    "            \n",
    "    # ax.grid(axis='y')\n",
    "    sns.despine(ax=ax)\n",
    "    ax.set_xlabel('log2(FC) (C/A in CP10k)')\n",
    "    ax.set_ylabel('-log10(adj. p)')\n",
    "    ax.set_title(f'{thetype}')\n",
    "    ax.text(1,0.1,\n",
    "            f'up (n={cnd_up.sum():,})\\ndown (n={cnd_dn.sum():,})', \n",
    "            ha='right',\n",
    "            fontsize=10, transform=ax.transAxes)\n",
    "    return "
   ]
  },
  {
   "cell_type": "code",
   "execution_count": null,
   "id": "70bc7ef1-5701-41c5-9378-d46df9d8fee0",
   "metadata": {
    "tags": []
   },
   "outputs": [],
   "source": [
    "unq_condidx = adata.obs['cond_order'].unique()\n",
    "unq_condidx, unq_conds"
   ]
  },
  {
   "cell_type": "code",
   "execution_count": null,
   "id": "58191af9-35cd-45a1-95de-0174a4a1c969",
   "metadata": {
    "tags": []
   },
   "outputs": [],
   "source": [
    "genes_comm = adata.var.index.values\n",
    "lfc = adata.uns['l2fc_avc'].T\n",
    "qs  = adata.uns['qs_avc'].T\n",
    "lfc_th, qs_th = 1, 0.05"
   ]
  },
  {
   "cell_type": "code",
   "execution_count": null,
   "id": "f7ac63d3-9ee6-4468-9a7c-d404df53a642",
   "metadata": {
    "tags": []
   },
   "outputs": [],
   "source": [
    "cond1   = qs  <  qs_th\n",
    "cond2up = lfc >  lfc_th\n",
    "cond2dn = lfc < -lfc_th"
   ]
  },
  {
   "cell_type": "code",
   "execution_count": null,
   "id": "8dfceeff-ae11-4f89-a7c5-0227c17d611a",
   "metadata": {
    "tags": []
   },
   "outputs": [],
   "source": [
    "# typegenes_idx = basicu.get_index_from_array(genes_comm, df2.gene)"
   ]
  },
  {
   "cell_type": "code",
   "execution_count": null,
   "id": "6a54f30a-6d0d-40db-90e2-7d5d997e048b",
   "metadata": {
    "tags": []
   },
   "outputs": [],
   "source": [
    "thetypeidx = 0 # type A \n",
    "thetype = 'L2/3_A'\n",
    "show_volcano_v2(thetypeidx, thetype, lfc, qs, cond1, cond2up, cond2dn) #  typegenes_idx)"
   ]
  },
  {
   "cell_type": "code",
   "execution_count": null,
   "id": "ea15f8fa-8e12-4b70-8bbc-bef71aa83040",
   "metadata": {
    "tags": []
   },
   "outputs": [],
   "source": [
    "n = len(unq_conds)\n",
    "fig, axs = plt.subplots(1,n,figsize=(4*n,4*1), sharex=True, sharey=True)\n",
    "for cond_idx in unq_condidx:\n",
    "    ax = axs.flat[cond_idx]\n",
    "    thecond = unq_conds[cond_idx]\n",
    "    show_volcano_v2(cond_idx, thecond, lfc, qs, cond1, cond2up, cond2dn, \n",
    "                    # typegenes_idx, \n",
    "                    ax=ax, bbox_to_anchor=(0.5, -0.3), loc='upper center')\n",
    "    sns.despine(ax=ax)\n",
    "fig.tight_layout()\n",
    "\n",
    "# output = os.path.join(outfigdir, \"volcano.pdf\")\n",
    "# powerplots.savefig_autodate(fig, output)\n",
    "plt.show()"
   ]
  },
  {
   "cell_type": "code",
   "execution_count": null,
   "id": "b35dace4-546b-46ec-b507-6a4a6ee7c145",
   "metadata": {},
   "outputs": [],
   "source": [
    "querygenes = ['Meis2','Foxp1','Cdh13','Cdh12']\n",
    "querygenes_idx = basicu.get_index_from_array(genes_comm, querygenes) \n",
    "gene_annots = genes_comm\n",
    "\n",
    "n = len(unq_conds)\n",
    "fig, axs = plt.subplots(2,4,figsize=(4*4,4*2), sharex=True, sharey=True)\n",
    "for cond_idx in unq_condidx:\n",
    "    ax = axs.flat[cond_idx]\n",
    "    thecond = unq_conds[cond_idx]\n",
    "    show_volcano_v2(cond_idx, thecond, lfc, qs, cond1, cond2up, cond2dn, \n",
    "                    querygenes_idx=querygenes_idx, \n",
    "                    gene_annots=genes_comm,\n",
    "                    ax=ax, bbox_to_anchor=(0.5, -0.3), loc='upper center')\n",
    "    sns.despine(ax=ax)\n",
    "fig.tight_layout()\n",
    "plt.show()"
   ]
  },
  {
   "cell_type": "code",
   "execution_count": null,
   "id": "1db65f01-d179-4bc9-85d2-381c6fb2ffb7",
   "metadata": {},
   "outputs": [],
   "source": [
    "# all tfs \n",
    "# not a meaningful test"
   ]
  },
  {
   "cell_type": "code",
   "execution_count": null,
   "id": "d45162d4-f16d-4308-8c16-c4414a26f828",
   "metadata": {
    "tags": []
   },
   "outputs": [],
   "source": [
    "genes_sig = genes_comm[np.any(np.abs(lfc) > 1, axis=1)]\n",
    "querygenes = np.intersect1d(annots['tf'], genes_sig) #['Meis2','Foxp1','Cdh13','Cdh12']\n",
    "querygenes_idx = basicu.get_index_from_array(genes_comm, querygenes) \n",
    "gene_annots = genes_comm\n",
    "\n",
    "n = len(unq_conds)\n",
    "fig, axs = plt.subplots(2,4,figsize=(4*4,4*2), sharex=True, sharey=True)\n",
    "for cond_idx in unq_condidx:\n",
    "    ax = axs.flat[cond_idx]\n",
    "    thecond = unq_conds[cond_idx]\n",
    "    show_volcano_v2(cond_idx, thecond, lfc, qs, cond1, cond2up, cond2dn, \n",
    "                    querygenes_idx=querygenes_idx, \n",
    "                    gene_annots=genes_comm,\n",
    "                    ax=ax, bbox_to_anchor=(0.5, -0.3), loc='upper center')\n",
    "    sns.despine(ax=ax)\n",
    "fig.tight_layout()\n",
    "plt.show()"
   ]
  },
  {
   "cell_type": "code",
   "execution_count": null,
   "id": "a5d109d5-183f-4c30-a67d-e617eec60a86",
   "metadata": {},
   "outputs": [],
   "source": []
  },
  {
   "cell_type": "code",
   "execution_count": null,
   "id": "de11f0ab-d310-4901-8901-4c091c0aadec",
   "metadata": {},
   "outputs": [],
   "source": []
  },
  {
   "cell_type": "code",
   "execution_count": null,
   "id": "42267ba2-15d1-44ae-8bc2-5cf9219a3fa7",
   "metadata": {},
   "outputs": [],
   "source": []
  },
  {
   "cell_type": "code",
   "execution_count": null,
   "id": "76ba7385-e08c-459c-8510-63e9196b86f2",
   "metadata": {},
   "outputs": [],
   "source": []
  },
  {
   "cell_type": "code",
   "execution_count": null,
   "id": "92b92767-09ba-4d12-95b4-92dd8a9d3fc1",
   "metadata": {},
   "outputs": [],
   "source": []
  },
  {
   "cell_type": "code",
   "execution_count": null,
   "id": "3dcd6b81-397a-4174-8b5a-35a2309efe1b",
   "metadata": {},
   "outputs": [],
   "source": []
  },
  {
   "cell_type": "code",
   "execution_count": null,
   "id": "95f376b2-d0f6-489b-8fcc-14b2f72aa4a9",
   "metadata": {},
   "outputs": [],
   "source": []
  },
  {
   "cell_type": "code",
   "execution_count": null,
   "id": "f740e17a-e955-40a9-8d56-70ad0482d71a",
   "metadata": {},
   "outputs": [],
   "source": []
  },
  {
   "cell_type": "code",
   "execution_count": null,
   "id": "5bb56559-d37e-40d6-b995-35ba095bd2ee",
   "metadata": {},
   "outputs": [],
   "source": []
  }
 ],
 "metadata": {
  "kernelspec": {
   "display_name": "Python 3 (ipykernel)",
   "language": "python",
   "name": "python3"
  },
  "language_info": {
   "codemirror_mode": {
    "name": "ipython",
    "version": 3
   },
   "file_extension": ".py",
   "mimetype": "text/x-python",
   "name": "python",
   "nbconvert_exporter": "python",
   "pygments_lexer": "ipython3",
   "version": "3.9.16"
  }
 },
 "nbformat": 4,
 "nbformat_minor": 5
}
