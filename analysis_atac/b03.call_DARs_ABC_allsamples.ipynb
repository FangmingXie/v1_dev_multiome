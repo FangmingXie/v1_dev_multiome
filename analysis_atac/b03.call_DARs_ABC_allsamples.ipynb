{
 "cells": [
  {
   "cell_type": "code",
   "execution_count": null,
   "id": "40d3cf98-2f37-46b9-a606-af61ebef2881",
   "metadata": {
    "tags": []
   },
   "outputs": [],
   "source": [
    "import scipy.io\n",
    "import numpy as np\n",
    "import pandas as pd\n",
    "import scanpy as sc\n",
    "import h5py\n",
    "\n",
    "import os\n",
    "import numpy as np\n",
    "import pandas as pd\n",
    "import scanpy as sc\n",
    "import anndata \n",
    "import seaborn as sns\n",
    "from scipy.stats import zscore\n",
    "import matplotlib.pyplot as plt\n",
    "import collections\n",
    "from natsort import natsorted\n",
    "\n",
    "from scipy import stats\n",
    "from scipy import sparse\n",
    "from sklearn.decomposition import PCA\n",
    "from umap import UMAP\n",
    "\n",
    "from matplotlib.colors import LinearSegmentedColormap\n",
    "from statsmodels.stats.multitest import multipletests\n",
    "\n",
    "from scroutines.config_plots import *\n",
    "from scroutines import powerplots # .config_plots import *\n",
    "from scroutines import pnmf\n",
    "from scroutines import basicu\n",
    "from scroutines.gene_modules import GeneModules  \n",
    "\n",
    "\n",
    "import atac_utils"
   ]
  },
  {
   "cell_type": "code",
   "execution_count": null,
   "id": "c97c2596-5b85-4018-8d00-3f5d9460a43f",
   "metadata": {},
   "outputs": [],
   "source": [
    "%%time\n",
    "f_rna = '/u/home/f/f7xiesnm/project-zipursky/v1-bb/v1/data/v1_multiome/L23_allmultiome_proc_P6toP21_NRDR.h5ad'\n",
    "adata = sc.read(f_rna)\n",
    "# cells_rna = np.array([c.split(' ')[0][:-len('-2023')] for c in adata.obs.index.values])\n",
    "# adata.obs.index = cells_rna\n",
    "adata"
   ]
  },
  {
   "cell_type": "code",
   "execution_count": null,
   "id": "19f8a009-40ae-41f8-81ed-437196183bee",
   "metadata": {
    "tags": []
   },
   "outputs": [],
   "source": [
    "condcode2cond = atac_utils.CONDCODE_TO_COND\n",
    "condcode2cond"
   ]
  },
  {
   "cell_type": "code",
   "execution_count": null,
   "id": "70981978-5d86-45ad-9ab2-3e5af0436df3",
   "metadata": {
    "tags": []
   },
   "outputs": [],
   "source": [
    "sample_conditions = list(condcode2cond.values())\n",
    "n_cond = len(sample_conditions)\n",
    "sample_conditions"
   ]
  },
  {
   "cell_type": "code",
   "execution_count": null,
   "id": "f8f34d26-be4f-4eb9-b6dc-651ed4270c1b",
   "metadata": {
    "tags": []
   },
   "outputs": [],
   "source": [
    "%%time\n",
    "adatas_pk = []\n",
    "for cond_code, cond_name in condcode2cond.items():\n",
    "    f = f'/u/home/f/f7xiesnm/project-zipursky/v1-bb/v1/results_atac/peak_mat_{cond_name}.h5ad'\n",
    "    adata_pk = sc.read(f)\n",
    "    adatas_pk.append(adata_pk)\n",
    "    print(adata_pk)\n",
    "    # break"
   ]
  },
  {
   "cell_type": "code",
   "execution_count": null,
   "id": "38798144-dd47-47f1-8f4c-11390036de85",
   "metadata": {
    "tags": []
   },
   "outputs": [],
   "source": [
    "%%time\n",
    "\n",
    "offset = 1\n",
    "SHUFFLE = False\n",
    "\n",
    "n_cond = len(sample_conditions)\n",
    "n_peak = adatas_pk[0].shape[1]\n",
    "qs_tensor = np.zeros((n_cond,3,n_peak))  # 3 represents 3 pairwise comparisons (ca, ba, bc)\n",
    "l2fc_tensor = np.zeros((n_cond,3,n_peak))\n",
    "\n",
    "print(qs_tensor.shape, l2fc_tensor.shape)\n",
    "n_type = 5\n",
    "\n",
    "for cond_code, cond_name in condcode2cond.items():\n",
    "    # get sub\n",
    "    adatasub = adata[adata.obs['cond']==cond_name]\n",
    "    cells_rna = adatasub.obs.index.values\n",
    "    \n",
    "    # get RNA type\n",
    "    x0 = adatasub.obsm['pca_p17on'][...,0]\n",
    "    # x_shuff\n",
    "    if SHUFFLE:\n",
    "        x = x0[np.random.choice(len(x0), size=len(x0), replace=False)]\n",
    "    else:\n",
    "        x = x0\n",
    "    cells_rna_type = pd.qcut(x, n_type, labels=False)\n",
    "    \n",
    "    # get ATAC\n",
    "    adata_pk = adatas_pk[cond_code]\n",
    "    cells_atac = adata_pk.obs.index.values\n",
    "        \n",
    "    # get A, B, C \n",
    "    cond_a = (cells_rna_type == 0)\n",
    "    cond_b = (cells_rna_type == int(n_type/2))\n",
    "    cond_c = (cells_rna_type == n_type-1)\n",
    "    \n",
    "    cells_a = np.intersect1d(cells_rna[cond_a], cells_atac)\n",
    "    cells_b = np.intersect1d(cells_rna[cond_b], cells_atac)\n",
    "    cells_c = np.intersect1d(cells_rna[cond_c], cells_atac)\n",
    "    \n",
    "    # TODO: peak size (500kb) fix\n",
    "    mat_a = np.array(adata_pk[cells_a].X.todense()) \n",
    "    mat_b = np.array(adata_pk[cells_b].X.todense()) \n",
    "    mat_c = np.array(adata_pk[cells_c].X.todense()) \n",
    "    \n",
    "    # size norm (CPM) between cells\n",
    "    mat_a = mat_a/np.sum(mat_a, axis=1).reshape(-1,1)*1e6\n",
    "    mat_b = mat_b/np.sum(mat_b, axis=1).reshape(-1,1)*1e6\n",
    "    mat_c = mat_c/np.sum(mat_c, axis=1).reshape(-1,1)*1e6\n",
    "    \n",
    "    # DEGs\n",
    "    lfc_ca = np.log2((np.mean(mat_c, axis=0)+offset)/(np.mean(mat_a, axis=0)+offset))\n",
    "    lfc_ba = np.log2((np.mean(mat_b, axis=0)+offset)/(np.mean(mat_a, axis=0)+offset))\n",
    "    lfc_bc = np.log2((np.mean(mat_b, axis=0)+offset)/(np.mean(mat_c, axis=0)+offset))\n",
    "    \n",
    "    ts, ps_ca = stats.ttest_ind(mat_c, mat_a)\n",
    "    ts, ps_ba = stats.ttest_ind(mat_b, mat_a)\n",
    "    ts, ps_bc = stats.ttest_ind(mat_b, mat_c)\n",
    "    \n",
    "    rs, qs_ca, _, _ = multipletests(np.nan_to_num(ps_ca, nan=1).reshape(-1,), method='fdr_bh')\n",
    "    rs, qs_ba, _, _ = multipletests(np.nan_to_num(ps_ba, nan=1).reshape(-1,), method='fdr_bh')\n",
    "    rs, qs_bc, _, _ = multipletests(np.nan_to_num(ps_bc, nan=1).reshape(-1,), method='fdr_bh')\n",
    "    \n",
    "    # sig_cond\n",
    "    cond_sig_a = np.all([qs_ca < 0.05, lfc_ca < -np.log2(2)], axis=0)\n",
    "    cond_sig_c = np.all([qs_ca < 0.05, lfc_ca >  np.log2(2)], axis=0)\n",
    "    cond_sig_b  = np.all([np.minimum(qs_ba, qs_bc) < 0.05, \n",
    "                          np.mean([lfc_ba, lfc_bc], axis=0) > np.log2(2),\n",
    "                          lfc_ba > 0, lfc_bc > 0,], axis=0)\n",
    "    \n",
    "    print(cond_code, cond_name, len(mat_a), len(mat_b), len(mat_c), \n",
    "          cond_sig_a.sum(), cond_sig_c.sum(), cond_sig_b.sum())\n",
    "    \n",
    "    # save this\n",
    "    l2fc_tensor[cond_code, 0] = lfc_ca\n",
    "    l2fc_tensor[cond_code, 1] = lfc_ba\n",
    "    l2fc_tensor[cond_code, 2] = lfc_bc\n",
    "    \n",
    "    qs_tensor[cond_code, 0] = qs_ca\n",
    "    qs_tensor[cond_code, 1] = qs_ba\n",
    "    qs_tensor[cond_code, 2] = qs_bc\n",
    "    \n"
   ]
  },
  {
   "cell_type": "code",
   "execution_count": null,
   "id": "026e49f0-825b-42c0-9f5c-9e5e8609f442",
   "metadata": {
    "tags": []
   },
   "outputs": [],
   "source": [
    "%%time\n",
    "fout1 = '/u/home/f/f7xiesnm/project-zipursky/v1-bb/v1/data/v1_multiome/DAR_qs_abc_allconditions.npy'\n",
    "fout2 = '/u/home/f/f7xiesnm/project-zipursky/v1-bb/v1/data/v1_multiome/DAR_l2fc_abc_allconditions.npy'\n",
    "\n",
    "np.save(fout1, qs_tensor)\n",
    "np.save(fout2, l2fc_tensor)"
   ]
  },
  {
   "cell_type": "markdown",
   "id": "5166e13c-d5ec-48fa-b8fb-537454c57cfb",
   "metadata": {},
   "source": [
    "# check results and stats"
   ]
  },
  {
   "cell_type": "code",
   "execution_count": null,
   "id": "6032672c-cf7a-4046-be3b-2c866e2c721a",
   "metadata": {
    "tags": []
   },
   "outputs": [],
   "source": [
    "qs_tensor = np.load(fout1)\n",
    "l2fc_tensor = np.load(fout2)"
   ]
  },
  {
   "cell_type": "code",
   "execution_count": null,
   "id": "eb51df3a-1998-4e67-ac36-9f29c2268182",
   "metadata": {
    "tags": []
   },
   "outputs": [],
   "source": [
    "qs   = qs_tensor[:,0,:]\n",
    "l2fc = l2fc_tensor[:,0,:]"
   ]
  },
  {
   "cell_type": "code",
   "execution_count": null,
   "id": "be6f520d-fb0c-46a5-b41d-af699790bdff",
   "metadata": {
    "tags": []
   },
   "outputs": [],
   "source": [
    "l2fc_th = np.log2(2)\n",
    "alpha_th = 0.05\n",
    "cond_sig_a = np.all([qs < alpha_th, l2fc < -l2fc_th], axis=0)\n",
    "cond_sig_c = np.all([qs < alpha_th, l2fc >  l2fc_th], axis=0)\n",
    "\n",
    "print('num A > C DARs per cond:\\t',    cond_sig_a.sum(axis=1), np.any(cond_sig_a, axis=0).sum())\n",
    "print('num C > A DARs per cond:\\t',    cond_sig_c.sum(axis=1), np.any(cond_sig_c, axis=0).sum())\n",
    "\n",
    "instances, counts_a = np.unique(cond_sig_a.sum(axis=0), return_counts=True)\n",
    "instances, counts_c = np.unique(cond_sig_c.sum(axis=0), return_counts=True)\n",
    "\n",
    "print('num A > C DARs in num conds:\\t',  counts_a[1:])\n",
    "print('num C > A DARs in num conds:\\t',  counts_c[1:])"
   ]
  },
  {
   "cell_type": "code",
   "execution_count": null,
   "id": "7bf8ea1f-c2df-4eba-8b95-7230d323bb29",
   "metadata": {
    "tags": []
   },
   "outputs": [],
   "source": [
    "qs_ba   = qs_tensor[:,1,:]\n",
    "qs_bc   = qs_tensor[:,2,:]\n",
    "\n",
    "l2fc_ba = l2fc_tensor[:,1,:]\n",
    "l2fc_bc = l2fc_tensor[:,2,:]\n",
    "\n",
    "qs_b   = np.minimum(qs_ba, qs_bc)\n",
    "l2fc_b = np.mean([l2fc_ba, l2fc_bc], axis=0)\n",
    "\n",
    "qs_b.shape, l2fc_b.shape"
   ]
  },
  {
   "cell_type": "code",
   "execution_count": null,
   "id": "bb017a26-7f4f-449c-979d-82cb8572c608",
   "metadata": {
    "tags": []
   },
   "outputs": [],
   "source": [
    "l2fc_th = np.log2(1.5)\n",
    "alpha_th = 0.05\n",
    "cond_sig_bp = np.all([l2fc_ba > 0, l2fc_bc > 0, l2fc_b >  l2fc_th, qs_b < alpha_th], axis=0)\n",
    "cond_sig_bn = np.all([l2fc_ba < 0, l2fc_bc < 0, l2fc_b < -l2fc_th, qs_b < alpha_th], axis=0)\n",
    "\n",
    "print('num B > A,C per cond:\\t',    cond_sig_bp.sum(axis=1))\n",
    "print('num B < A,C per cond:\\t',    cond_sig_bn.sum(axis=1))\n",
    "\n",
    "instances, counts_bp = np.unique(cond_sig_bp.sum(axis=0), return_counts=True)\n",
    "instances, counts_bn = np.unique(cond_sig_bn.sum(axis=0), return_counts=True)\n",
    "\n",
    "print('num B > A,C DARs in num conds:\\t',  counts_bp[1:])\n",
    "print('num B < A,C DARs in num conds:\\t',  counts_bn[1:])"
   ]
  },
  {
   "cell_type": "code",
   "execution_count": null,
   "id": "250eb720-018e-43d5-8b62-3bdfc10b87fb",
   "metadata": {},
   "outputs": [],
   "source": []
  },
  {
   "cell_type": "markdown",
   "id": "efea8a4d-ca75-4252-bc62-8e14b7d2e082",
   "metadata": {},
   "source": [
    "# shuffling - negative control"
   ]
  },
  {
   "cell_type": "code",
   "execution_count": null,
   "id": "dec50859-404b-4390-9bf5-0859f25eae49",
   "metadata": {
    "tags": []
   },
   "outputs": [],
   "source": [
    "%%time\n",
    "\n",
    "SHUFFLE = True\n",
    "\n",
    "n_cond = len(sample_conditions)\n",
    "n_peak = adatas_pk[0].shape[1]\n",
    "qs_tensor = np.zeros((n_cond,3,n_peak))  # 3 represents 3 pairwise comparisons (ca, ba, bc)\n",
    "l2fc_tensor = np.zeros((n_cond,3,n_peak))\n",
    "\n",
    "print(qs_tensor.shape, l2fc_tensor.shape)\n",
    "n_type = 5\n",
    "\n",
    "for cond_code, cond_name in condcode2cond.items():\n",
    "    # get sub\n",
    "    adatasub = adata[adata.obs['cond']==cond_name]\n",
    "    cells_rna = adatasub.obs.index.values\n",
    "    \n",
    "    # get RNA type\n",
    "    x0 = adatasub.obsm['pca_p17on'][...,0]\n",
    "    # x_shuff\n",
    "    if SHUFFLE:\n",
    "        x = x0[np.random.choice(len(x0), size=len(x0), replace=False)]\n",
    "    else:\n",
    "        x = x0\n",
    "    cells_rna_type = pd.qcut(x, n_type, labels=False)\n",
    "    \n",
    "    # get ATAC\n",
    "    adata_pk = adatas_pk[cond_code]\n",
    "    cells_atac = adata_pk.obs.index.values\n",
    "        \n",
    "    # get A, B, C \n",
    "    cond_a = (cells_rna_type == 0)\n",
    "    cond_b = (cells_rna_type == int(n_type/2))\n",
    "    cond_c = (cells_rna_type == n_type-1)\n",
    "    \n",
    "    cells_a = np.intersect1d(cells_rna[cond_a], cells_atac)\n",
    "    cells_b = np.intersect1d(cells_rna[cond_b], cells_atac)\n",
    "    cells_c = np.intersect1d(cells_rna[cond_c], cells_atac)\n",
    "    \n",
    "    # TODO: peak size (500kb) fix\n",
    "    mat_a = np.array(adata_pk[cells_a].X.todense()) \n",
    "    mat_b = np.array(adata_pk[cells_b].X.todense()) \n",
    "    mat_c = np.array(adata_pk[cells_c].X.todense()) \n",
    "    \n",
    "    # size norm (CPM) between cells\n",
    "    mat_a = mat_a/np.sum(mat_a, axis=1).reshape(-1,1)*1e6\n",
    "    mat_b = mat_b/np.sum(mat_b, axis=1).reshape(-1,1)*1e6\n",
    "    mat_c = mat_c/np.sum(mat_c, axis=1).reshape(-1,1)*1e6\n",
    "    \n",
    "    # DEGs\n",
    "    lfc_ca = np.log2((np.mean(mat_c, axis=0)+offset)/(np.mean(mat_a, axis=0)+offset))\n",
    "    lfc_ba = np.log2((np.mean(mat_b, axis=0)+offset)/(np.mean(mat_a, axis=0)+offset))\n",
    "    lfc_bc = np.log2((np.mean(mat_b, axis=0)+offset)/(np.mean(mat_c, axis=0)+offset))\n",
    "    \n",
    "    ts, ps_ca = stats.ttest_ind(mat_c, mat_a)\n",
    "    ts, ps_ba = stats.ttest_ind(mat_b, mat_a)\n",
    "    ts, ps_bc = stats.ttest_ind(mat_b, mat_c)\n",
    "    \n",
    "    rs, qs_ca, _, _ = multipletests(np.nan_to_num(ps_ca, nan=1).reshape(-1,), method='fdr_bh')\n",
    "    rs, qs_ba, _, _ = multipletests(np.nan_to_num(ps_ba, nan=1).reshape(-1,), method='fdr_bh')\n",
    "    rs, qs_bc, _, _ = multipletests(np.nan_to_num(ps_bc, nan=1).reshape(-1,), method='fdr_bh')\n",
    "    \n",
    "    # sig_cond\n",
    "    cond_sig_a = np.all([qs_ca < 0.05, lfc_ca < -np.log2(2)], axis=0)\n",
    "    cond_sig_c = np.all([qs_ca < 0.05, lfc_ca >  np.log2(2)], axis=0)\n",
    "    cond_sig_b  = np.all([np.minimum(qs_ba, qs_bc) < 0.05, \n",
    "                          np.mean([lfc_ba, lfc_bc], axis=0) > np.log2(2),\n",
    "                          lfc_ba > 0, lfc_bc > 0,], axis=0)\n",
    "    \n",
    "    print(cond_code, cond_name, len(mat_a), len(mat_b), len(mat_c), \n",
    "          cond_sig_a.sum(), cond_sig_c.sum(), cond_sig_b.sum())\n",
    "    \n",
    "    # save this\n",
    "    l2fc_tensor[cond_code, 0] = lfc_ca\n",
    "    l2fc_tensor[cond_code, 1] = lfc_ba\n",
    "    l2fc_tensor[cond_code, 2] = lfc_bc\n",
    "    \n",
    "    qs_tensor[cond_code, 0] = qs_ca\n",
    "    qs_tensor[cond_code, 1] = qs_ba\n",
    "    qs_tensor[cond_code, 2] = qs_bc\n",
    "    \n"
   ]
  },
  {
   "cell_type": "code",
   "execution_count": null,
   "id": "268b6187-6716-4027-8d10-fa189e4fafc4",
   "metadata": {
    "tags": []
   },
   "outputs": [],
   "source": []
  },
  {
   "cell_type": "code",
   "execution_count": null,
   "id": "b8d785e9-1d48-46cd-bf9c-9a8aeadd5992",
   "metadata": {},
   "outputs": [],
   "source": []
  },
  {
   "cell_type": "code",
   "execution_count": null,
   "id": "161f9f6c-59af-4878-8711-4f6f67481d78",
   "metadata": {},
   "outputs": [],
   "source": []
  },
  {
   "cell_type": "code",
   "execution_count": null,
   "id": "540d13a6-4d34-45b8-844e-bd2c0d9c39a0",
   "metadata": {},
   "outputs": [],
   "source": []
  },
  {
   "cell_type": "code",
   "execution_count": null,
   "id": "143cf2c8-5137-4376-8b41-9e383e7d3d0c",
   "metadata": {},
   "outputs": [],
   "source": []
  },
  {
   "cell_type": "markdown",
   "id": "67a75ad8-b401-44c1-95b5-73baf941668e",
   "metadata": {},
   "source": [
    "# get the full matrix"
   ]
  },
  {
   "cell_type": "code",
   "execution_count": null,
   "id": "e868b4db-5ca9-4bff-93d4-12a99a026d7e",
   "metadata": {
    "tags": []
   },
   "outputs": [],
   "source": [
    "%%time\n",
    "atac_tensor = np.zeros((n_cond, n_type, n_peak))\n",
    "for i, cond in enumerate(sample_conditions):\n",
    "    # get sub\n",
    "    adatasub = adata[adata.obs['cond']==cond]\n",
    "    cells_rna = adatasub.obs.index.values\n",
    "    x = adatasub.obsm['pca_p17on'][...,0]\n",
    "    cells_rna_type = pd.qcut(x, n_type, labels=False)\n",
    "    \n",
    "    # get ATAC\n",
    "    adata_pk = adatas_pk[i]\n",
    "    cells_atac = adata_pk.obs.index.values\n",
    "    \n",
    "    # per type\n",
    "    for j in range(n_type):\n",
    "        cells_j = np.intersect1d(cells_rna[cells_rna_type==j], cells_atac)\n",
    "        atac_tensor[i,j] = np.mean(adata_pk[cells_j].X, axis=0)"
   ]
  },
  {
   "cell_type": "code",
   "execution_count": null,
   "id": "ca49250b-bd8c-477b-b0f0-861fc795679c",
   "metadata": {
    "tags": []
   },
   "outputs": [],
   "source": [
    "fout3 = '/u/home/f/f7xiesnm/project-zipursky/v1-bb/v1/data/v1_multiome/DAR_mean_counts_allconditions.npy'\n",
    "np.save(fout3, atac_tensor)"
   ]
  },
  {
   "cell_type": "markdown",
   "id": "f3a49f88-1bf6-4073-ada4-3d69020a860d",
   "metadata": {
    "tags": []
   },
   "source": [
    "# is this 93 co-incidence?"
   ]
  },
  {
   "cell_type": "code",
   "execution_count": null,
   "id": "a8aef06c-ebd5-42b1-85f4-c9995d3af14c",
   "metadata": {},
   "outputs": [],
   "source": []
  }
 ],
 "metadata": {
  "kernelspec": {
   "display_name": "Python 3 (ipykernel)",
   "language": "python",
   "name": "python3"
  },
  "language_info": {
   "codemirror_mode": {
    "name": "ipython",
    "version": 3
   },
   "file_extension": ".py",
   "mimetype": "text/x-python",
   "name": "python",
   "nbconvert_exporter": "python",
   "pygments_lexer": "ipython3",
   "version": "3.9.16"
  }
 },
 "nbformat": 4,
 "nbformat_minor": 5
}
