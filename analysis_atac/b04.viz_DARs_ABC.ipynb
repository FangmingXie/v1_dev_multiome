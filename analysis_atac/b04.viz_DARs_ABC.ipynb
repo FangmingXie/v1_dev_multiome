{
 "cells": [
  {
   "cell_type": "code",
   "execution_count": null,
   "id": "40d3cf98-2f37-46b9-a606-af61ebef2881",
   "metadata": {
    "tags": []
   },
   "outputs": [],
   "source": [
    "import scipy.io\n",
    "import numpy as np\n",
    "import pandas as pd\n",
    "import scanpy as sc\n",
    "import h5py\n",
    "\n",
    "import os\n",
    "import numpy as np\n",
    "import pandas as pd\n",
    "import scanpy as sc\n",
    "import anndata \n",
    "import seaborn as sns\n",
    "from scipy.stats import zscore\n",
    "import matplotlib.pyplot as plt\n",
    "import collections\n",
    "from natsort import natsorted\n",
    "\n",
    "from scipy import stats\n",
    "from scipy import sparse\n",
    "from sklearn.decomposition import PCA\n",
    "from umap import UMAP\n",
    "\n",
    "from matplotlib.colors import LinearSegmentedColormap\n",
    "from statsmodels.stats.multitest import multipletests\n",
    "\n",
    "from scroutines.config_plots import *\n",
    "from scroutines import powerplots # .config_plots import *\n",
    "from scroutines import pnmf\n",
    "from scroutines import basicu\n",
    "from scroutines.gene_modules import GeneModules  \n",
    "\n",
    "import atac_utils"
   ]
  },
  {
   "cell_type": "markdown",
   "id": "e2840e31-28e1-487c-a771-7794506b4f55",
   "metadata": {},
   "source": [
    "# load data"
   ]
  },
  {
   "cell_type": "code",
   "execution_count": null,
   "id": "c97c2596-5b85-4018-8d00-3f5d9460a43f",
   "metadata": {},
   "outputs": [],
   "source": [
    "%%time\n",
    "f_rna = '/u/home/f/f7xiesnm/project-zipursky/v1-bb/v1/data/v1_multiome/L23_allmultiome_proc_P6toP21_NRDR.h5ad'\n",
    "adata = sc.read(f_rna)\n",
    "# cells_rna = np.array([c.split(' ')[0][:-len('-2023')] for c in adata.obs.index.values])\n",
    "# adata.obs.index = cells_rna\n",
    "adata"
   ]
  },
  {
   "cell_type": "code",
   "execution_count": null,
   "id": "8656fe08-5d6f-4ecf-b426-b6f843c901a6",
   "metadata": {
    "tags": []
   },
   "outputs": [],
   "source": [
    "condcode2cond = atac_utils.CONDCODE_TO_COND\n",
    "condcode2cond"
   ]
  },
  {
   "cell_type": "code",
   "execution_count": null,
   "id": "45f5acc2-fc98-49c4-8655-1e1a263d7e49",
   "metadata": {
    "tags": []
   },
   "outputs": [],
   "source": [
    "sample_conditions = np.array(list(condcode2cond.values()))\n",
    "n_cond = len(sample_conditions)\n",
    "sample_conditions"
   ]
  },
  {
   "cell_type": "code",
   "execution_count": null,
   "id": "cd4ec480-21fd-46f2-83e6-982ec42e0c9c",
   "metadata": {
    "tags": []
   },
   "outputs": [],
   "source": [
    "nr_condcodes  = np.array([0,1,2,3,5,7,9])\n",
    "dr_condcodes  = np.array([4,6,8,10])\n",
    "\n",
    "nr_conditions = sample_conditions[nr_condcodes]\n",
    "dr_conditions = sample_conditions[dr_condcodes]\n",
    "\n",
    "print(nr_condcodes, nr_conditions)\n",
    "print(dr_condcodes, dr_conditions)"
   ]
  },
  {
   "cell_type": "code",
   "execution_count": null,
   "id": "ddccbefb-8ba8-46a1-b6aa-b845379a535a",
   "metadata": {
    "tags": []
   },
   "outputs": [],
   "source": [
    "times = [6,8,10,12,14,17,21]\n",
    "dr_times = [12,14,17,21]"
   ]
  },
  {
   "cell_type": "code",
   "execution_count": null,
   "id": "e40623c6-384a-49e4-935d-185e06cfb547",
   "metadata": {
    "tags": []
   },
   "outputs": [],
   "source": [
    "%%time\n",
    "adatas_pk = []\n",
    "for cond in sample_conditions:\n",
    "    print(cond)\n",
    "    f = f'/u/home/f/f7xiesnm/project-zipursky/v1-bb/v1/results_atac/peak_mat_{cond}.h5ad'\n",
    "    adata_pk = sc.read(f)\n",
    "    adatas_pk.append(adata_pk)\n",
    "    print(adata_pk)\n",
    "    # break"
   ]
  },
  {
   "cell_type": "code",
   "execution_count": null,
   "id": "268b6187-6716-4027-8d10-fa189e4fafc4",
   "metadata": {
    "tags": []
   },
   "outputs": [],
   "source": [
    "n_cond = len(sample_conditions)\n",
    "n_peak = adatas_pk[0].shape[1]\n",
    "n_type = 5"
   ]
  },
  {
   "cell_type": "markdown",
   "id": "5166e13c-d5ec-48fa-b8fb-537454c57cfb",
   "metadata": {},
   "source": [
    "# check results and stats"
   ]
  },
  {
   "cell_type": "code",
   "execution_count": null,
   "id": "026e49f0-825b-42c0-9f5c-9e5e8609f442",
   "metadata": {
    "tags": []
   },
   "outputs": [],
   "source": [
    "%%time\n",
    "fin1 = '/u/home/f/f7xiesnm/project-zipursky/v1-bb/v1/data/v1_multiome/DAR_qs_abc_allconditions.npy'\n",
    "fin2 = '/u/home/f/f7xiesnm/project-zipursky/v1-bb/v1/data/v1_multiome/DAR_l2fc_abc_allconditions.npy'"
   ]
  },
  {
   "cell_type": "code",
   "execution_count": null,
   "id": "6032672c-cf7a-4046-be3b-2c866e2c721a",
   "metadata": {
    "tags": []
   },
   "outputs": [],
   "source": [
    "qs_tensor = np.load(fin1)\n",
    "l2fc_tensor = np.load(fin2)"
   ]
  },
  {
   "cell_type": "code",
   "execution_count": null,
   "id": "eb51df3a-1998-4e67-ac36-9f29c2268182",
   "metadata": {
    "tags": []
   },
   "outputs": [],
   "source": [
    "qs   = qs_tensor[:,0,:]\n",
    "l2fc = l2fc_tensor[:,0,:]"
   ]
  },
  {
   "cell_type": "code",
   "execution_count": null,
   "id": "be6f520d-fb0c-46a5-b41d-af699790bdff",
   "metadata": {
    "tags": []
   },
   "outputs": [],
   "source": [
    "l2fc_th = np.log2(2)\n",
    "alpha_th = 0.05\n",
    "cond_sig_a = np.all([qs < alpha_th, l2fc < -l2fc_th], axis=0)\n",
    "cond_sig_c = np.all([qs < alpha_th, l2fc >  l2fc_th], axis=0)\n",
    "\n",
    "print('num A > C DARs per cond:\\t',    cond_sig_a.sum(axis=1), np.any(cond_sig_a, axis=0).sum())\n",
    "print('num C > A DARs per cond:\\t',    cond_sig_c.sum(axis=1), np.any(cond_sig_c, axis=0).sum())\n",
    "\n",
    "instances, counts_a = np.unique(cond_sig_a.sum(axis=0), return_counts=True)\n",
    "instances, counts_c = np.unique(cond_sig_c.sum(axis=0), return_counts=True)\n",
    "\n",
    "print('num A > C DARs in num conds:\\t',  counts_a[1:])\n",
    "print('num C > A DARs in num conds:\\t',  counts_c[1:])"
   ]
  },
  {
   "cell_type": "code",
   "execution_count": null,
   "id": "7bf8ea1f-c2df-4eba-8b95-7230d323bb29",
   "metadata": {
    "tags": []
   },
   "outputs": [],
   "source": [
    "qs_ba   = qs_tensor[:,1,:]\n",
    "qs_bc   = qs_tensor[:,2,:]\n",
    "\n",
    "l2fc_ba = l2fc_tensor[:,1,:]\n",
    "l2fc_bc = l2fc_tensor[:,2,:]\n",
    "\n",
    "qs_b   = np.minimum(qs_ba, qs_bc)\n",
    "l2fc_b = np.mean([l2fc_ba, l2fc_bc], axis=0)\n",
    "\n",
    "qs_b.shape, l2fc_b.shape"
   ]
  },
  {
   "cell_type": "code",
   "execution_count": null,
   "id": "bb017a26-7f4f-449c-979d-82cb8572c608",
   "metadata": {
    "tags": []
   },
   "outputs": [],
   "source": [
    "l2fc_th = np.log2(2)\n",
    "alpha_th = 0.05\n",
    "cond_sig_bp = np.all([l2fc_ba > 0, l2fc_bc > 0, l2fc_b >  l2fc_th, qs_b < alpha_th], axis=0)\n",
    "cond_sig_bn = np.all([l2fc_ba < 0, l2fc_bc < 0, l2fc_b < -l2fc_th, qs_b < alpha_th], axis=0)\n",
    "cond_sig_b  = np.logical_or(cond_sig_bp, cond_sig_bn)\n",
    "\n",
    "print('num B > A,C per cond:\\t',    cond_sig_bp.sum(axis=1))\n",
    "print('num B < A,C per cond:\\t',    cond_sig_bn.sum(axis=1))\n",
    "\n",
    "instances, counts_bp = np.unique(cond_sig_bp.sum(axis=0), return_counts=True)\n",
    "instances, counts_bn = np.unique(cond_sig_bn.sum(axis=0), return_counts=True)\n",
    "\n",
    "print('num B > A,C DARs in num conds:\\t',  counts_bp[1:])\n",
    "print('num B < A,C DARs in num conds:\\t',  counts_bn[1:])"
   ]
  },
  {
   "cell_type": "code",
   "execution_count": null,
   "id": "38798144-dd47-47f1-8f4c-11390036de85",
   "metadata": {
    "tags": []
   },
   "outputs": [],
   "source": [
    "%%time\n",
    "\n",
    "all_x = []\n",
    "all_y_a = []\n",
    "all_y_c = []\n",
    "all_y_b = []\n",
    "all_nums = []\n",
    "\n",
    "offset = 1\n",
    "\n",
    "for cond_order, cond in condcode2cond.items():\n",
    "    # get sub\n",
    "    adatasub = adata[adata.obs['cond']==cond]\n",
    "    cells_rna = adatasub.obs.index.values\n",
    "    \n",
    "    # get ATAC\n",
    "    adata_pk = adatas_pk[cond_order]\n",
    "    cells_atac = adata_pk.obs.index.values\n",
    "    \n",
    "    cells_mult = np.intersect1d(cells_rna, cells_atac)\n",
    "    \n",
    "    # no normalization here\n",
    "    x = adatasub[cells_mult].obsm['pca_p17on'][...,0]\n",
    "    \n",
    "    cellcov = np.array(adata_pk[cells_mult].X.sum(axis=1)) #.reshape(-1,)\n",
    "    \n",
    "    # TODO: peak size (500kb) fix\n",
    "    mat_a = np.array(adata_pk[cells_mult, cond_sig_a[cond_order]].X.todense()) \n",
    "    mat_c = np.array(adata_pk[cells_mult, cond_sig_c[cond_order]].X.todense()) \n",
    "    \n",
    "    # size norm (CPM) between cells\n",
    "    mat_a = np.log2(mat_a/cellcov*1e6 + 1)\n",
    "    mat_c = np.log2(mat_c/cellcov*1e6 + 1)\n",
    "    \n",
    "    y_a = np.mean(mat_a, axis=1)\n",
    "    y_c = np.mean(mat_c, axis=1)\n",
    "    \n",
    "    if cond_sig_bp[cond_order].sum() > 0:\n",
    "        mat_b = np.array(adata_pk[cells_mult, cond_sig_bp[cond_order]].X.todense()) \n",
    "        mat_b = np.log2(mat_b/cellcov*1e6 + 1)\n",
    "        y_b = np.mean(mat_b, axis=1) \n",
    "    else:\n",
    "        y_b = np.array([np.nan]*len(y_a))\n",
    "    \n",
    "    all_x.append(x)\n",
    "    all_y_a.append(y_a)\n",
    "    all_y_c.append(y_c)\n",
    "    all_y_b.append(y_b)\n",
    "    all_nums.append([cond_sig_a[cond_order].sum(),\n",
    "                     cond_sig_bp[cond_order].sum(),\n",
    "                     cond_sig_c[cond_order].sum(),\n",
    "                    ])\n",
    "    "
   ]
  },
  {
   "cell_type": "code",
   "execution_count": null,
   "id": "4a2d7b28-0e5e-427c-9921-9748b9e74449",
   "metadata": {
    "tags": []
   },
   "outputs": [],
   "source": [
    "nx = len(nr_conditions)\n",
    "fig, axs = plt.subplots(2,nx, figsize=(4*nx,4*2)) \n",
    "for i, cond_code in enumerate(nr_condcodes):\n",
    "    cond = atac_utils.decode_cond(cond_code)\n",
    "    x   = all_x[cond_code]\n",
    "    y_a = all_y_a[cond_code]\n",
    "    y_c = all_y_c[cond_code]\n",
    "    y_b = all_y_b[cond_code]\n",
    "    num_a, num_b, num_c = all_nums[cond_code]\n",
    "    \n",
    "    ax = axs[0][i]\n",
    "    ax.scatter(x, y_a, s=1, color='C0', label='A peaks', alpha=0.5)# , facecolor='none')\n",
    "    ax.scatter(x, y_c, s=1, color='C2', label='C peaks', alpha=0.5)# , facecolor='none')\n",
    "    r_a, p  = stats.spearmanr(x, y_a)\n",
    "    r_c, p  = stats.spearmanr(x, y_c)\n",
    "    ax.set_title(f'{cond}\\nNa={num_a:,}, r={r_a:.2f}\\nNc={num_c:,}, r={r_c:.2f}')\n",
    "    sns.despine(ax=ax)\n",
    "    ax.grid(False)\n",
    "\n",
    "    ax = axs[1][i]\n",
    "    ax.scatter(x, y_b, s=1, color='C1', label='B peaks', alpha=0.5)# , facecolor='none')\n",
    "    r_b, p  = stats.spearmanr(x, y_b)\n",
    "    ax.set_title(f'Nb={num_b:,}, r={r_b:.2f}')\n",
    "    sns.despine(ax=ax)\n",
    "    ax.grid(False)\n",
    "    \n",
    "    if np.all(np.isnan(y_b)):\n",
    "        ax.set_xticks([])\n",
    "        ax.set_yticks([])\n",
    "    \n",
    "axs[0][0].set_xlabel('RNA PC1 (P17-21)')\n",
    "axs[0][0].set_ylabel('ATAC peak accessibility')\n",
    "fig.tight_layout()\n",
    "plt.show()"
   ]
  },
  {
   "cell_type": "code",
   "execution_count": null,
   "id": "9d7d88c0-992e-48a8-8aec-412dfb72e57c",
   "metadata": {
    "tags": []
   },
   "outputs": [],
   "source": [
    "nx = len(dr_conditions)\n",
    "fig, axs = plt.subplots(2,nx, figsize=(4*nx,4*2)) \n",
    "for i, cond_code in enumerate(dr_condcodes):\n",
    "    cond = atac_utils.decode_cond(cond_code)\n",
    "    x   = all_x[cond_code]\n",
    "    y_a = all_y_a[cond_code]\n",
    "    y_c = all_y_c[cond_code]\n",
    "    y_b = all_y_b[cond_code]\n",
    "    num_a, num_b, num_c = all_nums[cond_code]\n",
    "    \n",
    "    ax = axs[0][i]\n",
    "    ax.scatter(x, y_a, s=1, color='C0', label='A peaks', alpha=0.5)# , facecolor='none')\n",
    "    ax.scatter(x, y_c, s=1, color='C2', label='C peaks', alpha=0.5)# , facecolor='none')\n",
    "    r_a, p  = stats.spearmanr(x, y_a)\n",
    "    r_c, p  = stats.spearmanr(x, y_c)\n",
    "    ax.set_title(f'{cond}\\nNa={num_a:,}, r={r_a:.2f}\\nNc={num_c:,}, r={r_c:.2f}')\n",
    "    sns.despine(ax=ax)\n",
    "    ax.grid(False)\n",
    "\n",
    "    ax = axs[1][i]\n",
    "    ax.scatter(x, y_b, s=1, color='C1', label='B peaks', alpha=0.5)# , facecolor='none')\n",
    "    r_b, p  = stats.spearmanr(x, y_b)\n",
    "    ax.set_title(f'Nb={num_b:,}, r={r_b:.2f}')\n",
    "    sns.despine(ax=ax)\n",
    "    ax.grid(False)\n",
    "    \n",
    "    if np.all(np.isnan(y_b)):\n",
    "        ax.set_xticks([])\n",
    "        ax.set_yticks([])\n",
    "    \n",
    "axs[0][0].set_xlabel('RNA PC1 (P17-21)')\n",
    "axs[0][0].set_ylabel('ATAC peak accessibility')\n",
    "fig.tight_layout()\n",
    "plt.show()"
   ]
  },
  {
   "cell_type": "code",
   "execution_count": null,
   "id": "e64751f0-c569-4078-8358-a39348bb145d",
   "metadata": {
    "tags": []
   },
   "outputs": [],
   "source": [
    "def mean_bin(x, y, bins=None):\n",
    "    df = pd.DataFrame() # \n",
    "    df['x'] = x\n",
    "    df['y'] = y \n",
    "    \n",
    "    if bins is None:\n",
    "        binned, bins = pd.qcut(df['x'], 10, retbins=True)\n",
    "        df['xbin'] = binned\n",
    "    \n",
    "    df_mean = df.groupby('xbin').mean()\n",
    "    mid_bins = np.mean(np.vstack([bins[:-1], bins[1:]]).T, axis=1)\n",
    "    \n",
    "    df_mean['mid'] = mid_bins\n",
    "    return df_mean\n",
    "    \n",
    "mean_bin(x, y_a)"
   ]
  },
  {
   "cell_type": "code",
   "execution_count": null,
   "id": "89c00813-fa9a-4501-bb75-f719f3fb93c7",
   "metadata": {
    "tags": []
   },
   "outputs": [],
   "source": [
    "nx = len(nr_conditions)\n",
    "fig, axs = plt.subplots(3,nx, figsize=(4*nx,4*3)) \n",
    "for i, cond_code in enumerate(nr_condcodes):\n",
    "    cond = atac_utils.decode_cond(cond_code)\n",
    "    x   = all_x[cond_code]\n",
    "    y_a = all_y_a[cond_code]\n",
    "    y_c = all_y_c[cond_code]\n",
    "    y_b = all_y_b[cond_code]\n",
    "    num_a, num_b, num_c = all_nums[cond_code]\n",
    "    \n",
    "    ax = axs[0][i]\n",
    "    ax.scatter(x, y_a, s=1, color='C0', label='A peaks', alpha=0.5)# , facecolor='none')\n",
    "    r_a, p  = stats.spearmanr(x, y_a)\n",
    "    means = mean_bin(x, y_a)\n",
    "    ax.plot(means['x'], means['y'], color='k', )# , facecolor='none')\n",
    "    ax.set_title(f'{cond}\\nNa={num_a:,}, r={r_a:.2f}')\n",
    "    sns.despine(ax=ax)\n",
    "    ax.grid(False)\n",
    "\n",
    "    ax = axs[1][i]\n",
    "    ax.scatter(x, y_c, s=1, color='C2', label='C peaks', alpha=0.5)# , facecolor='none')\n",
    "    r_c, p  = stats.spearmanr(x, y_c)\n",
    "    means = mean_bin(x, y_c)\n",
    "    ax.plot(means['x'], means['y'], color='k', )# , facecolor='none')\n",
    "    ax.set_title(f'Nc={num_c:,}, r={r_c:.2f}')\n",
    "    sns.despine(ax=ax)\n",
    "    ax.grid(False)\n",
    "    \n",
    "    ax = axs[2][i]\n",
    "    ax.scatter(x, y_b, s=1, color='C1', label='B peaks', alpha=0.5)# , facecolor='none')\n",
    "    r_b, p  = stats.spearmanr(x, y_b)\n",
    "    means = mean_bin(x, y_b)\n",
    "    ax.plot(means['x'], means['y'], color='k', )# , facecolor='none')\n",
    "    ax.set_title(f'Nb={num_b:,}, r={r_b:.2f}')\n",
    "    sns.despine(ax=ax)\n",
    "    ax.grid(False)\n",
    "    \n",
    "    \n",
    "    if np.all(np.isnan(y_b)):\n",
    "        ax.set_xticks([])\n",
    "        ax.set_yticks([])\n",
    "    \n",
    "axs[0][0].set_xlabel('RNA PC1 (P17-21)')\n",
    "axs[0][0].set_ylabel('ATAC peak accessibility')\n",
    "fig.tight_layout()\n",
    "plt.show()"
   ]
  },
  {
   "cell_type": "code",
   "execution_count": null,
   "id": "94370c8e-9f0c-4eec-a632-378def05cead",
   "metadata": {
    "tags": []
   },
   "outputs": [],
   "source": [
    "nx = len(nr_conditions)\n",
    "fig, axs = plt.subplots(3,nx, figsize=(4*nx,4*3), sharey=True) \n",
    "for i, cond_code in enumerate(nr_condcodes):\n",
    "    cond = atac_utils.decode_cond(cond_code)\n",
    "    x   = all_x[cond_code]\n",
    "    y_a = all_y_a[cond_code]\n",
    "    y_c = all_y_c[cond_code]\n",
    "    y_b = all_y_b[cond_code]\n",
    "    num_a, num_b, num_c = all_nums[cond_code]\n",
    "    \n",
    "    ax = axs[0][i]\n",
    "    # ax.scatter(x, y_a, s=1, color='C0', label='A peaks', alpha=0.5)# , facecolor='none')\n",
    "    # r_a, p  = stats.spearmanr(x, y_a)\n",
    "    means = mean_bin(x, y_a)\n",
    "    ax.plot(means['x'], means['y'], color='k', )# , facecolor='none')\n",
    "    ax.set_title(f'{cond}\\nNa={num_a:,}, r={r_a:.2f}')\n",
    "    sns.despine(ax=ax)\n",
    "    ax.grid(False)\n",
    "\n",
    "    ax = axs[1][i]\n",
    "    # ax.scatter(x, y_c, s=1, color='C2', label='C peaks', alpha=0.5)# , facecolor='none')\n",
    "    # r_c, p  = stats.spearmanr(x, y_c)\n",
    "    means = mean_bin(x, y_c)\n",
    "    ax.plot(means['x'], means['y'], color='k', )# , facecolor='none')\n",
    "    ax.set_title(f'Nc={num_c:,}, r={r_c:.2f}')\n",
    "    sns.despine(ax=ax)\n",
    "    ax.grid(False)\n",
    "    \n",
    "    ax = axs[2][i]\n",
    "    # ax.scatter(x, y_b, s=1, color='C1', label='B peaks', alpha=0.5)# , facecolor='none')\n",
    "    # r_b, p  = stats.spearmanr(x, y_b)\n",
    "    means = mean_bin(x, y_b)\n",
    "    ax.plot(means['x'], means['y'], color='k', )# , facecolor='none')\n",
    "    ax.set_title(f'Nb={num_b:,}, r={r_b:.2f}')\n",
    "    sns.despine(ax=ax)\n",
    "    ax.grid(False)\n",
    "    \n",
    "    \n",
    "    if np.all(np.isnan(y_b)):\n",
    "        ax.set_xticks([])\n",
    "        ax.set_yticks([])\n",
    "    \n",
    "axs[0][0].set_xlabel('RNA PC1 (P17-21)')\n",
    "axs[0][0].set_ylabel('ATAC peak accessibility')\n",
    "fig.tight_layout()\n",
    "plt.show()"
   ]
  },
  {
   "cell_type": "code",
   "execution_count": null,
   "id": "1d9de7ce-0d69-40d9-a040-1e4d5b30cfc8",
   "metadata": {
    "tags": []
   },
   "outputs": [],
   "source": [
    "nx = len(sample_conditions)\n",
    "fig, axs = plt.subplots(3,nx, figsize=(4*nx,4*3)) \n",
    "for i, cond_code in enumerate(np.hstack([nr_condcodes, dr_condcodes])):\n",
    "    cond = atac_utils.decode_cond(cond_code)\n",
    "    x   = all_x[cond_code]\n",
    "    y_a = all_y_a[cond_code]\n",
    "    y_c = all_y_c[cond_code]\n",
    "    y_b = all_y_b[cond_code]\n",
    "    num_a, num_b, num_c = all_nums[cond_code]\n",
    "    \n",
    "    ax = axs[0][i]\n",
    "    ax.scatter(x, y_a, s=1, color='C0', label='A peaks', alpha=0.5)# , facecolor='none')\n",
    "    r_a, p  = stats.spearmanr(x, y_a)\n",
    "    means = mean_bin(x, y_a)\n",
    "    ax.plot(means['x'], means['y'], color='k', )# , facecolor='none')\n",
    "    ax.set_title(f'{cond}\\nNa={num_a:,}, r={r_a:.2f}')\n",
    "    sns.despine(ax=ax)\n",
    "    ax.grid(False)\n",
    "\n",
    "    ax = axs[1][i]\n",
    "    ax.scatter(x, y_c, s=1, color='C2', label='C peaks', alpha=0.5)# , facecolor='none')\n",
    "    r_c, p  = stats.spearmanr(x, y_c)\n",
    "    means = mean_bin(x, y_c)\n",
    "    ax.plot(means['x'], means['y'], color='k', )# , facecolor='none')\n",
    "    ax.set_title(f'Nc={num_c:,}, r={r_c:.2f}')\n",
    "    sns.despine(ax=ax)\n",
    "    ax.grid(False)\n",
    "    \n",
    "    ax = axs[2][i]\n",
    "    ax.scatter(x, y_b, s=1, color='C1', label='B peaks', alpha=0.5)# , facecolor='none')\n",
    "    r_b, p  = stats.spearmanr(x, y_b)\n",
    "    means = mean_bin(x, y_b)\n",
    "    ax.plot(means['x'], means['y'], color='k', )# , facecolor='none')\n",
    "    ax.set_title(f'Nb={num_b:,}, r={r_b:.2f}')\n",
    "    sns.despine(ax=ax)\n",
    "    ax.grid(False)\n",
    "    \n",
    "    \n",
    "    if np.all(np.isnan(y_b)):\n",
    "        ax.set_xticks([])\n",
    "        ax.set_yticks([])\n",
    "    \n",
    "axs[0][0].set_xlabel('RNA PC1 (P17-21)')\n",
    "axs[0][0].set_ylabel('ATAC peak accessibility')\n",
    "fig.tight_layout()\n",
    "plt.show()"
   ]
  },
  {
   "cell_type": "code",
   "execution_count": null,
   "id": "fb5b92f9-5436-40e6-a0d0-a5a6ca2ae2ae",
   "metadata": {
    "tags": []
   },
   "outputs": [],
   "source": [
    "nx = len(times)\n",
    "fig, axs = plt.subplots(6,nx, figsize=(4*nx,4*6)) \n",
    "for i, cond_code in enumerate(nr_condcodes):\n",
    "    cond = atac_utils.decode_cond(cond_code)\n",
    "    x   = all_x[cond_code]\n",
    "    y_a = all_y_a[cond_code]\n",
    "    y_c = all_y_c[cond_code]\n",
    "    y_b = all_y_b[cond_code]\n",
    "    num_a, num_b, num_c = all_nums[cond_code]\n",
    "    \n",
    "    ax = axs[0*2][i]\n",
    "    ax.scatter(x, y_a, s=1, color='C0', label='A peaks', alpha=0.5)# , facecolor='none')\n",
    "    r_a, p  = stats.spearmanr(x, y_a)\n",
    "    means = mean_bin(x, y_a)\n",
    "    ax.plot(means['x'], means['y'], color='k', )# , facecolor='none')\n",
    "    ax.set_title(f'{cond}\\nNa={num_a:,}, r={r_a:.2f}')\n",
    "    sns.despine(ax=ax)\n",
    "    ax.grid(False)\n",
    "\n",
    "    ax = axs[1*2][i]\n",
    "    ax.scatter(x, y_c, s=1, color='C2', label='C peaks', alpha=0.5)# , facecolor='none')\n",
    "    r_c, p  = stats.spearmanr(x, y_c)\n",
    "    means = mean_bin(x, y_c)\n",
    "    ax.plot(means['x'], means['y'], color='k', )# , facecolor='none')\n",
    "    ax.set_title(f'Nc={num_c:,}, r={r_c:.2f}')\n",
    "    sns.despine(ax=ax)\n",
    "    ax.grid(False)\n",
    "    \n",
    "    ax = axs[2*2][i]\n",
    "    ax.scatter(x, y_b, s=1, color='C1', label='B peaks', alpha=0.5)# , facecolor='none')\n",
    "    r_b, p  = stats.spearmanr(x, y_b)\n",
    "    means = mean_bin(x, y_b)\n",
    "    ax.plot(means['x'], means['y'], color='k', )# , facecolor='none')\n",
    "    ax.set_title(f'Nb={num_b:,}, r={r_b:.2f}')\n",
    "    sns.despine(ax=ax)\n",
    "    ax.grid(False)\n",
    "    \n",
    "    \n",
    "for i, cond_code in enumerate(dr_condcodes):\n",
    "    cond = atac_utils.decode_cond(cond_code)\n",
    "    x   = all_x[cond_code]\n",
    "    y_a = all_y_a[cond_code]\n",
    "    y_c = all_y_c[cond_code]\n",
    "    y_b = all_y_b[cond_code]\n",
    "    num_a, num_b, num_c = all_nums[cond_code]\n",
    "    \n",
    "    ax = axs[0*2+1][i+3]\n",
    "    ax.scatter(x, y_a, s=1, color='C0', label='A peaks', alpha=0.5)# , facecolor='none')\n",
    "    r_a, p  = stats.spearmanr(x, y_a)\n",
    "    means = mean_bin(x, y_a)\n",
    "    ax.plot(means['x'], means['y'], color='k', )# , facecolor='none')\n",
    "    ax.set_title(f'{cond}\\nNa={num_a:,}, r={r_a:.2f}')\n",
    "    sns.despine(ax=ax)\n",
    "    ax.grid(False)\n",
    "\n",
    "    ax = axs[1*2+1][i+3]\n",
    "    ax.scatter(x, y_c, s=1, color='C2', label='C peaks', alpha=0.5)# , facecolor='none')\n",
    "    r_c, p  = stats.spearmanr(x, y_c)\n",
    "    means = mean_bin(x, y_c)\n",
    "    ax.plot(means['x'], means['y'], color='k', )# , facecolor='none')\n",
    "    ax.set_title(f'Nc={num_c:,}, r={r_c:.2f}')\n",
    "    sns.despine(ax=ax)\n",
    "    ax.grid(False)\n",
    "    \n",
    "    ax = axs[2*2+1][i+3]\n",
    "    ax.scatter(x, y_b, s=1, color='C1', label='B peaks', alpha=0.5)# , facecolor='none')\n",
    "    r_b, p  = stats.spearmanr(x, y_b)\n",
    "    means = mean_bin(x, y_b)\n",
    "    ax.plot(means['x'], means['y'], color='k', )# , facecolor='none')\n",
    "    ax.set_title(f'Nb={num_b:,}, r={r_b:.2f}')\n",
    "    sns.despine(ax=ax)\n",
    "    ax.grid(False)\n",
    "\n",
    "for ax in axs[1][:3]:\n",
    "    ax.axis('off')\n",
    "for ax in axs[3][:3]:\n",
    "    ax.axis('off')\n",
    "for ax in axs[5][:3]:\n",
    "    ax.axis('off')\n",
    "    \n",
    "axs[0][0].set_xlabel('RNA PC1 (P17-21)')\n",
    "axs[0][0].set_ylabel('ATAC peak accessibility')\n",
    "fig.tight_layout()\n",
    "plt.show()"
   ]
  },
  {
   "cell_type": "code",
   "execution_count": null,
   "id": "01796b93-cb81-4ac0-9a7a-71054ddf2403",
   "metadata": {},
   "outputs": [],
   "source": []
  },
  {
   "cell_type": "code",
   "execution_count": null,
   "id": "af576e73-d0a2-4838-84e6-eaba460e3103",
   "metadata": {},
   "outputs": [],
   "source": []
  },
  {
   "cell_type": "code",
   "execution_count": null,
   "id": "70383587-d68d-405b-85c2-5ac3d00c886f",
   "metadata": {},
   "outputs": [],
   "source": []
  },
  {
   "cell_type": "code",
   "execution_count": null,
   "id": "6bc4a00f-67fa-487f-a441-18bf6595980b",
   "metadata": {
    "tags": []
   },
   "outputs": [],
   "source": [
    "times = [6,8,10,12,14,17,21]\n",
    "dr_times = [12,14,17,21]"
   ]
  },
  {
   "cell_type": "code",
   "execution_count": null,
   "id": "63986be2-9ff3-4fda-b8be-b6a4da5e67c2",
   "metadata": {
    "tags": []
   },
   "outputs": [],
   "source": [
    "dr_condcodes"
   ]
  },
  {
   "cell_type": "code",
   "execution_count": null,
   "id": "19a477e1-a6d9-4e54-aa7e-7448da060c8b",
   "metadata": {
    "tags": []
   },
   "outputs": [],
   "source": [
    "nr_condcodes"
   ]
  },
  {
   "cell_type": "code",
   "execution_count": null,
   "id": "4008e197-6943-4725-8cae-a5c956302455",
   "metadata": {},
   "outputs": [],
   "source": [
    "fig, ax = plt.subplots(1,1, figsize=(1*8,1*4))\n",
    "\n",
    "num_uniq_a = np.sum(np.any(cond_sig_a,  axis=0))\n",
    "num_uniq_b = np.sum(np.any(cond_sig_bp, axis=0))\n",
    "num_uniq_c = np.sum(np.any(cond_sig_c,  axis=0))\n",
    "\n",
    "ax.plot(times, cond_sig_a.sum(axis=1)[nr_condcodes], \n",
    "        '-o', color='C0', fillstyle='none', label=f'A DARs (unique n = {num_uniq_a:,})') \n",
    "ax.plot(times, cond_sig_c.sum(axis=1)[nr_condcodes], \n",
    "        '-o', color='C2', fillstyle='none', label=f'C DARs (unique n = {num_uniq_c:,})') \n",
    "ax.plot(times, cond_sig_bp.sum(axis=1)[nr_condcodes],\n",
    "        '-o', color='C1', fillstyle='none', label=f'B DARs (unique n = {num_uniq_b:,})')\n",
    "\n",
    "\n",
    "ax.plot(times, [0]*len(times),'--o', color='gray', fillstyle='none', label=f'random DARs (n=0)', zorder=0)\n",
    "ax.set_ylim(ymin=-500)\n",
    "\n",
    "ax.set_xticks(times)\n",
    "ax.set_xticklabels(times)\n",
    "ax.grid(False)\n",
    "sns.despine(ax=ax)\n",
    "ax.legend(bbox_to_anchor=(1,0.6), fontsize=12)\n",
    "\n",
    "ax.set_ylabel('number of DARs')\n",
    "fig.tight_layout()\n",
    "plt.show()"
   ]
  },
  {
   "cell_type": "code",
   "execution_count": null,
   "id": "ec1d715e-7645-422f-8da2-b54c3b565aa0",
   "metadata": {},
   "outputs": [],
   "source": [
    "fig, axs = plt.subplots(1,2, figsize=(2*4,1*4))\n",
    "\n",
    "num_uniq_a = np.sum(np.any(cond_sig_a,  axis=0))\n",
    "num_uniq_b = np.sum(np.any(cond_sig_bp, axis=0))\n",
    "num_uniq_c = np.sum(np.any(cond_sig_c,  axis=0))\n",
    "\n",
    "ax = axs[0]\n",
    "ax.plot(times, cond_sig_a.sum(axis=1)[nr_condcodes], \n",
    "        '-o', color='C0', fillstyle='none', label=f'A DARs (unique n = {num_uniq_a:,})') \n",
    "ax.plot(times, cond_sig_c.sum(axis=1)[nr_condcodes], \n",
    "        '-o', color='C2', fillstyle='none', label=f'C DARs (unique n = {num_uniq_c:,})') \n",
    "ax.plot(times, [0]*len(times),'--o', color='gray', fillstyle='none', label=f'random DARs (n=0)', zorder=0)\n",
    "# ax.set_ylim(ymin=0)\n",
    "ax.set_xticks(times)\n",
    "ax.set_xticklabels(times)\n",
    "ax.grid(False)\n",
    "sns.despine(ax=ax)\n",
    "# ax.legend(bbox_to_anchor=(1,0.6), fontsize=12)\n",
    "ax.set_ylabel('number of DARs')\n",
    "\n",
    "ax = axs[1]\n",
    "ax.plot(times, cond_sig_bp.sum(axis=1)[nr_condcodes],\n",
    "        '-o', color='C1', fillstyle='none', label=f'B DARs (unique n = {num_uniq_b:,})')\n",
    "ax.plot(times, [0]*len(times),'--o', color='gray', fillstyle='none', label=f'random DARs (n=0)', zorder=0)\n",
    "# ax.set_ylim(ymin=0)\n",
    "ax.set_xticks(times)\n",
    "ax.set_xticklabels(times)\n",
    "ax.grid(False)\n",
    "sns.despine(ax=ax)\n",
    "# ax.legend(bbox_to_anchor=(1,0.6), fontsize=12)\n",
    "# ax.set_ylabel('number of DARs')\n",
    "\n",
    "\n",
    "\n",
    "fig.tight_layout()\n",
    "plt.show()"
   ]
  },
  {
   "cell_type": "code",
   "execution_count": null,
   "id": "781ff6a6-0d5b-4db7-9df7-46b58f357659",
   "metadata": {},
   "outputs": [],
   "source": [
    "fig, ax = plt.subplots(1,1, figsize=(1*8,1*4))\n",
    "\n",
    "num_uniq_a = np.sum(np.any(cond_sig_a,  axis=0))\n",
    "num_uniq_b = np.sum(np.any(cond_sig_bp, axis=0))\n",
    "num_uniq_c = np.sum(np.any(cond_sig_c,  axis=0))\n",
    "\n",
    "ax.plot(times, cond_sig_a.sum(axis=1)[nr_condcodes], \n",
    "        '-o', color='C0', fillstyle='none', label=f'A DARs (unique n = {num_uniq_a:,})') \n",
    "ax.plot(times, cond_sig_c.sum(axis=1)[nr_condcodes], \n",
    "        '-o', color='C2', fillstyle='none', label=f'C DARs (unique n = {num_uniq_c:,})') \n",
    "ax.plot(times, cond_sig_bp.sum(axis=1)[nr_condcodes],\n",
    "        '-o', color='C1', fillstyle='none', label=f'B DARs (unique n = {num_uniq_b:,})')\n",
    "\n",
    "ax.plot(dr_times, cond_sig_a.sum(axis=1)[dr_condcodes], \n",
    "        '-s', color='C0', fillstyle='none', label=f'A DARs (DR)') \n",
    "ax.plot(dr_times, cond_sig_c.sum(axis=1)[dr_condcodes], \n",
    "        '-s', color='C2', fillstyle='none', label=f'C DARs (DR)') \n",
    "ax.plot(dr_times, cond_sig_bp.sum(axis=1)[dr_condcodes],\n",
    "        '-s', color='C1', fillstyle='none', label=f'B DARs (DR)')\n",
    "\n",
    "ax.plot(times, [0]*len(times),'--o', color='gray', fillstyle='none', label=f'random DARs (n=0)', zorder=0)\n",
    "ax.set_ylim(ymin=-500)\n",
    "\n",
    "ax.set_xticks(times)\n",
    "ax.set_xticklabels(times)\n",
    "ax.grid(False)\n",
    "sns.despine(ax=ax)\n",
    "ax.legend(bbox_to_anchor=(1,0.6), fontsize=12)\n",
    "\n",
    "ax.set_ylabel('number of DARs')\n",
    "fig.tight_layout()\n",
    "plt.show()"
   ]
  },
  {
   "cell_type": "code",
   "execution_count": null,
   "id": "e67441bf-dd86-4775-911b-eacf560569c8",
   "metadata": {},
   "outputs": [],
   "source": [
    "fig, axs = plt.subplots(1,2, figsize=(2*4,1*4))\n",
    "\n",
    "num_uniq_a = np.sum(np.any(cond_sig_a,  axis=0))\n",
    "num_uniq_b = np.sum(np.any(cond_sig_bp, axis=0))\n",
    "num_uniq_c = np.sum(np.any(cond_sig_c,  axis=0))\n",
    "\n",
    "ax = axs[0]\n",
    "ax.plot(times, cond_sig_a.sum(axis=1)[nr_condcodes], \n",
    "        '-o', color='C0', fillstyle='none', label=f'A DARs (unique n = {num_uniq_a:,})') \n",
    "ax.plot(times, cond_sig_c.sum(axis=1)[nr_condcodes], \n",
    "        '-o', color='C2', fillstyle='none', label=f'C DARs (unique n = {num_uniq_c:,})') \n",
    "ax.plot(times, [0]*len(times),'--o', color='gray', fillstyle='none', label=f'random DARs (n=0)', zorder=0)\n",
    "ax.plot(dr_times, cond_sig_a.sum(axis=1)[dr_condcodes], \n",
    "        '-.s', color='C0', fillstyle='none', label=f'A DARs (unique n = {num_uniq_a:,})') \n",
    "ax.plot(dr_times, cond_sig_c.sum(axis=1)[dr_condcodes], \n",
    "        '-.s', color='C2', fillstyle='none', label=f'C DARs (unique n = {num_uniq_c:,})') \n",
    "ax.plot(dr_times, [0]*len(dr_times),\n",
    "        '-.s', color='gray', fillstyle='none', label=f'random DARs (n=0)', zorder=0)\n",
    "\n",
    "ax.set_xticks(times)\n",
    "ax.set_xticklabels(times)\n",
    "ax.grid(False)\n",
    "sns.despine(ax=ax)\n",
    "# ax.legend(bbox_to_anchor=(1,0.6), fontsize=12)\n",
    "ax.set_ylabel('number of DARs')\n",
    "\n",
    "ax = axs[1]\n",
    "ax.plot(times, cond_sig_bp.sum(axis=1)[nr_condcodes],\n",
    "        '-o', color='C1', fillstyle='none', label=f'B DARs (unique n = {num_uniq_b:,})')\n",
    "ax.plot(times, [0]*len(times),'--o', color='gray', fillstyle='none', label=f'random DARs (n=0)', zorder=0)\n",
    "ax.plot(dr_times, cond_sig_bp.sum(axis=1)[dr_condcodes], \n",
    "        '-.s', color='C1', fillstyle='none', label=f'B DARs (unique n = {num_uniq_b:,})') \n",
    "ax.plot(dr_times, [0]*len(dr_times),\n",
    "        '-.s', color='gray', fillstyle='none', label=f'random DARs (n=0)', zorder=0)\n",
    "\n",
    "ax.set_xticks(times)\n",
    "ax.set_xticklabels(times)\n",
    "ax.grid(False)\n",
    "sns.despine(ax=ax)\n",
    "# ax.legend(bbox_to_anchor=(1,0.6), fontsize=12)\n",
    "# ax.set_ylabel('number of DARs')\n",
    "\n",
    "fig.tight_layout()\n",
    "plt.show()"
   ]
  },
  {
   "cell_type": "code",
   "execution_count": null,
   "id": "52c63c7d-7610-4c13-9eae-5f7b2d48e8be",
   "metadata": {},
   "outputs": [],
   "source": []
  },
  {
   "cell_type": "markdown",
   "id": "67a75ad8-b401-44c1-95b5-73baf941668e",
   "metadata": {},
   "source": [
    "# get the full matrix"
   ]
  },
  {
   "cell_type": "code",
   "execution_count": null,
   "id": "d38fffff-847e-4086-ac87-c08a9f920228",
   "metadata": {
    "tags": []
   },
   "outputs": [],
   "source": [
    "from sklearn.cluster import KMeans"
   ]
  },
  {
   "cell_type": "code",
   "execution_count": null,
   "id": "ca49250b-bd8c-477b-b0f0-861fc795679c",
   "metadata": {
    "tags": []
   },
   "outputs": [],
   "source": [
    "fin3 = '/u/home/f/f7xiesnm/project-zipursky/v1-bb/v1/data/v1_multiome/DAR_mean_counts_allconditions.npy'\n",
    "atac_tensor = np.load(fin3)"
   ]
  },
  {
   "cell_type": "code",
   "execution_count": null,
   "id": "ce5ca09e-6eda-4277-8d98-3f524f074bee",
   "metadata": {},
   "outputs": [],
   "source": [
    "cond_sig_selected = np.any(np.vstack([cond_sig_a, cond_sig_c, cond_sig_bp]), axis=0)\n",
    "n_dar = cond_sig_selected.sum()\n",
    "atac_tensor_sel = atac_tensor[:,:,cond_sig_selected]\n",
    "mat = atac_tensor_sel.reshape(n_cond*n_type, n_dar).T"
   ]
  },
  {
   "cell_type": "code",
   "execution_count": null,
   "id": "e7b72aad-01b6-4c9a-bf29-39e756b17eee",
   "metadata": {
    "tags": []
   },
   "outputs": [],
   "source": [
    "n_peakset_clsts = 30\n",
    "method = KMeans(n_clusters=n_peakset_clsts)\n",
    "peakset_clst = method.fit_predict(mat)"
   ]
  },
  {
   "cell_type": "code",
   "execution_count": null,
   "id": "5617109b-9adc-4958-9ab9-ecf474607528",
   "metadata": {
    "tags": []
   },
   "outputs": [],
   "source": [
    "mat_mean = np.zeros((n_peakset_clsts, mat.shape[1]))\n",
    "for i in range(n_peakset_clsts):\n",
    "    mean_val = np.mean(mat[peakset_clst==i], axis=0) \n",
    "    z_mean = (mean_val - np.mean(mean_val))/np.std(mean_val)\n",
    "    mat_mean[i] = z_mean "
   ]
  },
  {
   "cell_type": "code",
   "execution_count": null,
   "id": "4da8dbbe-9106-4693-968c-73f4b0964df4",
   "metadata": {
    "tags": []
   },
   "outputs": [],
   "source": [
    "# sns.heatmap(mat_mean, cmap='coolwarm')\n",
    "# set of A vs C peaks together \n",
    "g = sns.clustermap(mat_mean, col_cluster=False, cmap='coolwarm', figsize=(8,5), xticklabels=False, yticklabels=False)\n",
    "\n",
    "ax = g.ax_heatmap\n",
    "ax.set_xticks(0.5+np.arange(n_type))\n",
    "ax.set_xticklabels(['A', '~', 'B', '~', 'C'], fontsize=10)\n",
    "\n",
    "for i in range(n_cond):\n",
    "    ax.axvline(i*n_type, color='k', linestyle='--', linewidth=1)\n",
    "    ax.text(i*n_type, 0, f'{sample_conditions[i]}')"
   ]
  },
  {
   "cell_type": "markdown",
   "id": "6b8cd962-6fbf-413f-9169-ac5430beb591",
   "metadata": {},
   "source": [
    "# ABC peaks"
   ]
  },
  {
   "cell_type": "code",
   "execution_count": null,
   "id": "daf8a1ea-ac7f-4624-affe-c6e3e0096b56",
   "metadata": {},
   "outputs": [],
   "source": [
    "n_peakset_clsts = 10\n",
    "for cond_sig_, title in zip([cond_sig_a, cond_sig_c, cond_sig_bp], \n",
    "                            ['A peaks', 'C peaks', 'B peaks',]):\n",
    "    \n",
    "    cond_sig_selected = np.any(cond_sig_, axis=0)\n",
    "    n_dar = cond_sig_selected.sum()\n",
    "    atac_tensor_sel = atac_tensor[:,:,cond_sig_selected]\n",
    "    mat = atac_tensor_sel.reshape(n_cond*n_type, n_dar).T\n",
    "\n",
    "    method = KMeans(n_clusters=n_peakset_clsts)\n",
    "    peakset_clst = method.fit_predict(mat)\n",
    "\n",
    "    mat_mean = np.zeros((n_peakset_clsts, mat.shape[1]))\n",
    "    for i in range(n_peakset_clsts):\n",
    "        mean_val = np.mean(mat[peakset_clst==i], axis=0) \n",
    "        z_mean = (mean_val - np.mean(mean_val))/np.std(mean_val)\n",
    "        mat_mean[i] = z_mean \n",
    "\n",
    "    # sns.heatmap(mat_mean, cmap='coolwarm')\n",
    "    # set of A vs C peaks together \n",
    "    g = sns.clustermap(mat_mean, col_cluster=False, cmap='coolwarm', figsize=(8,3), xticklabels=False, yticklabels=False)\n",
    "\n",
    "    ax = g.ax_heatmap\n",
    "    ax.set_xticks(0.5+np.arange(n_type))\n",
    "    ax.set_xticklabels(['A', '~', 'B', '~', 'C'], fontsize=10)\n",
    "    ax.set_title(title, pad=30)\n",
    "\n",
    "    for i in range(n_cond):\n",
    "        ax.axvline(i*n_type, color='k', linestyle='--', linewidth=1)\n",
    "        ax.text(i*n_type, -0.5, f'{sample_conditions[i]}')"
   ]
  },
  {
   "cell_type": "code",
   "execution_count": null,
   "id": "e8fda190-59d5-4aca-8ff1-e2a57e1fd4c2",
   "metadata": {},
   "outputs": [],
   "source": []
  },
  {
   "cell_type": "code",
   "execution_count": null,
   "id": "9a90d7fd-6d63-4e38-813a-8270e984eda0",
   "metadata": {},
   "outputs": [],
   "source": []
  }
 ],
 "metadata": {
  "kernelspec": {
   "display_name": "Python 3 (ipykernel)",
   "language": "python",
   "name": "python3"
  },
  "language_info": {
   "codemirror_mode": {
    "name": "ipython",
    "version": 3
   },
   "file_extension": ".py",
   "mimetype": "text/x-python",
   "name": "python",
   "nbconvert_exporter": "python",
   "pygments_lexer": "ipython3",
   "version": "3.9.16"
  }
 },
 "nbformat": 4,
 "nbformat_minor": 5
}
