{
 "cells": [
  {
   "cell_type": "code",
   "execution_count": null,
   "id": "40d3cf98-2f37-46b9-a606-af61ebef2881",
   "metadata": {
    "tags": []
   },
   "outputs": [],
   "source": [
    "import scipy.io\n",
    "import numpy as np\n",
    "import pandas as pd\n",
    "import scanpy as sc\n",
    "import h5py\n",
    "\n",
    "import os\n",
    "import numpy as np\n",
    "import pandas as pd\n",
    "import scanpy as sc\n",
    "import anndata \n",
    "import seaborn as sns\n",
    "from scipy.stats import zscore\n",
    "import matplotlib.pyplot as plt\n",
    "import collections\n",
    "from natsort import natsorted\n",
    "\n",
    "from scipy import stats\n",
    "from scipy import sparse\n",
    "from sklearn.decomposition import PCA\n",
    "from umap import UMAP\n",
    "\n",
    "from matplotlib.colors import LinearSegmentedColormap\n",
    "from statsmodels.stats.multitest import multipletests\n",
    "\n",
    "from scroutines.config_plots import *\n",
    "from scroutines import powerplots # .config_plots import *\n",
    "from scroutines import pnmf\n",
    "from scroutines import basicu\n",
    "from scroutines.gene_modules import GeneModules  "
   ]
  },
  {
   "cell_type": "code",
   "execution_count": null,
   "id": "e40623c6-384a-49e4-935d-185e06cfb547",
   "metadata": {
    "tags": []
   },
   "outputs": [],
   "source": [
    "# run bed to fasta - prepare for motif enrichment analysis\n",
    "        \n",
    "wkdir = \"/u/home/f/f7xiesnm/project-zipursky/v1-bb/v1/results_atac\"\n",
    "\n",
    "hist_all = []\n",
    "for i in range(5):\n",
    "    f = wkdir + f'/fimo_L23A_M{i+1}/fimo.tsv'\n",
    "    df = pd.read_csv(f, sep='\\t').dropna()\n",
    "    hist = df['motif_alt_id'].value_counts(ascending=False).to_frame(f'A{i+1}')\n",
    "    hist_all.append(hist)\n",
    "    \n",
    "for i in range(3):\n",
    "    f = wkdir + f'/fimo_L23B_M{i+1}/fimo.tsv'\n",
    "    df = pd.read_csv(f, sep='\\t').dropna()\n",
    "    hist = df['motif_alt_id'].value_counts(ascending=False).to_frame(f'B{i+1}')\n",
    "    hist_all.append(hist)\n",
    "    \n",
    "for i in range(5):\n",
    "    f = wkdir + f'/fimo_L23C_M{i+1}/fimo.tsv'\n",
    "    df = pd.read_csv(f, sep='\\t').dropna()\n",
    "    hist = df['motif_alt_id'].value_counts(ascending=False).to_frame(f'C{i+1}')\n",
    "    hist_all.append(hist)\n",
    "\n",
    "hist_all = pd.concat(hist_all, axis=1)\n",
    "hist_all"
   ]
  },
  {
   "cell_type": "code",
   "execution_count": null,
   "id": "72c6f94f-5fdf-4f25-af98-85349e58bed4",
   "metadata": {
    "tags": []
   },
   "outputs": [],
   "source": [
    "# for i, ax in enumerate(axs): \n",
    "ref = 'A1'\n",
    "fig, axs = plt.subplots(3, 5, figsize=(4*5,4*3), sharex=True)\n",
    "for i, tn in enumerate(['A', 'B', 'C']):\n",
    "    for j in range(5):\n",
    "        ax = axs[i,j]\n",
    "        tst = f'{tn}{j+1}'\n",
    "        if not tst in hist_all.columns:\n",
    "            ax.axis('off')\n",
    "            continue \n",
    "        \n",
    "        ax.scatter(hist_all[ref], hist_all[tst], s=5)\n",
    "        rankings = ((hist_all[tst]+100) / (hist_all[ref]+100)).sort_values(ascending=False) \n",
    "        rankings_top = rankings.head(3)\n",
    "        ax.scatter(hist_all.loc[rankings_top.index][ref], \n",
    "                   hist_all.loc[rankings_top.index][tst], s=5)\n",
    "\n",
    "        ax.set_title(f'{tst} vs {ref} \\n{rankings_top.index.values}')\n",
    "\n",
    "        ax.set_xscale('log')\n",
    "        ax.set_yscale('log')\n",
    "\n",
    "        sns.despine(ax=ax)\n",
    "\n",
    "axs[0,0].set_xlabel('motif occurance')\n",
    "axs[0,0].set_ylabel('motif occurance')\n",
    "fig.tight_layout()\n",
    "plt.show()"
   ]
  },
  {
   "cell_type": "code",
   "execution_count": null,
   "id": "3a73d7cd-5d30-48fb-ab70-fd741b2bba82",
   "metadata": {},
   "outputs": [],
   "source": []
  },
  {
   "cell_type": "code",
   "execution_count": null,
   "id": "a39ee1e9-052d-439d-b4a6-0270cde758ef",
   "metadata": {},
   "outputs": [],
   "source": []
  },
  {
   "cell_type": "code",
   "execution_count": null,
   "id": "19b9bcf9-6a0d-41d4-b1ae-9ac647279909",
   "metadata": {},
   "outputs": [],
   "source": []
  },
  {
   "cell_type": "code",
   "execution_count": null,
   "id": "aec80d5f-922a-466e-afb8-231102de2ac9",
   "metadata": {},
   "outputs": [],
   "source": []
  },
  {
   "cell_type": "code",
   "execution_count": null,
   "id": "1fa47a4b-2e1f-47fa-ba69-6f595d5250c9",
   "metadata": {},
   "outputs": [],
   "source": []
  },
  {
   "cell_type": "code",
   "execution_count": null,
   "id": "10b66446-8eb4-4911-9af8-b69ad66f7232",
   "metadata": {},
   "outputs": [],
   "source": []
  },
  {
   "cell_type": "code",
   "execution_count": null,
   "id": "fde53bc1-baed-4735-b850-74fd0ca2f42c",
   "metadata": {},
   "outputs": [],
   "source": []
  }
 ],
 "metadata": {
  "kernelspec": {
   "display_name": "Python 3 (ipykernel)",
   "language": "python",
   "name": "python3"
  },
  "language_info": {
   "codemirror_mode": {
    "name": "ipython",
    "version": 3
   },
   "file_extension": ".py",
   "mimetype": "text/x-python",
   "name": "python",
   "nbconvert_exporter": "python",
   "pygments_lexer": "ipython3",
   "version": "3.9.16"
  }
 },
 "nbformat": 4,
 "nbformat_minor": 5
}
