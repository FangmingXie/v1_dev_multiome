{
 "cells": [
  {
   "cell_type": "code",
   "execution_count": null,
   "id": "2c1e5769-d023-451b-9fbc-e5ff9ae2b2d2",
   "metadata": {
    "tags": []
   },
   "outputs": [],
   "source": [
    "import snapatac2 as snap"
   ]
  },
  {
   "cell_type": "code",
   "execution_count": null,
   "id": "cbf5099f-53b3-4655-bbd2-c17776a3fddd",
   "metadata": {
    "tags": []
   },
   "outputs": [],
   "source": [
    "snap.__version__"
   ]
  },
  {
   "cell_type": "code",
   "execution_count": null,
   "id": "9e06702f-ceeb-49aa-aa12-86d137bd4503",
   "metadata": {
    "tags": []
   },
   "outputs": [],
   "source": [
    "%%time\n",
    "data = snap.pp.import_data(\n",
    "    snap.datasets.pbmc500(downsample=True), \n",
    "    chrom_sizes=snap.genome.hg38, \n",
    "    sorted_by_barcode=False,\n",
    "    file=\"pbmc.h5ad\",  # Optional\n",
    ")"
   ]
  },
  {
   "cell_type": "code",
   "execution_count": null,
   "id": "51261a8d-4ff3-4c20-af0a-d8a112de26e5",
   "metadata": {
    "tags": []
   },
   "outputs": [],
   "source": [
    "%%time\n",
    "peak_mat = snap.pp.make_peak_matrix(data, peak_file=snap.datasets.cre_HEA())\n",
    "print(peak_mat)"
   ]
  },
  {
   "cell_type": "code",
   "execution_count": null,
   "id": "c084513e-9d58-46f2-a05f-a7818e070a7b",
   "metadata": {
    "tags": []
   },
   "outputs": [],
   "source": [
    "data"
   ]
  },
  {
   "cell_type": "code",
   "execution_count": null,
   "id": "48ccb93e-8a7e-4341-9fde-a2acf1364846",
   "metadata": {
    "tags": []
   },
   "outputs": [],
   "source": [
    "data.obsm['fragment_paired']"
   ]
  },
  {
   "cell_type": "code",
   "execution_count": null,
   "id": "d4fb559d-74a4-4e43-9e20-736f88c0bcec",
   "metadata": {
    "tags": []
   },
   "outputs": [],
   "source": [
    "peak_mat"
   ]
  },
  {
   "cell_type": "code",
   "execution_count": null,
   "id": "410bf45a-3678-48d7-97f4-9e75611d5959",
   "metadata": {
    "tags": []
   },
   "outputs": [],
   "source": [
    "peak_mat.obs"
   ]
  },
  {
   "cell_type": "code",
   "execution_count": null,
   "id": "5cd2c193-9a03-46b8-9184-0915750beb93",
   "metadata": {
    "tags": []
   },
   "outputs": [],
   "source": [
    "peak_mat.var"
   ]
  },
  {
   "cell_type": "code",
   "execution_count": null,
   "id": "f58d02f9-375e-41e4-aeec-6e9e78c32ec7",
   "metadata": {},
   "outputs": [],
   "source": []
  }
 ],
 "metadata": {
  "kernelspec": {
   "display_name": "snapatac2",
   "language": "python",
   "name": "snapatac2"
  },
  "language_info": {
   "codemirror_mode": {
    "name": "ipython",
    "version": 3
   },
   "file_extension": ".py",
   "mimetype": "text/x-python",
   "name": "python",
   "nbconvert_exporter": "python",
   "pygments_lexer": "ipython3",
   "version": "3.12.0"
  }
 },
 "nbformat": 4,
 "nbformat_minor": 5
}
