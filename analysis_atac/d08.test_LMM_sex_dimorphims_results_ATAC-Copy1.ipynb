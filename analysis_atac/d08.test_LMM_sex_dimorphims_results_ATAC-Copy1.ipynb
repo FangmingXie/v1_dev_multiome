{
 "cells": [
  {
   "cell_type": "code",
   "execution_count": null,
   "id": "30b97a56-8884-4718-a56d-fc8af8e882e7",
   "metadata": {},
   "outputs": [],
   "source": [
    "import glob\n",
    "import pandas as pd\n",
    "import numpy as np\n",
    "import statsmodels.formula.api as smf\n",
    "from statsmodels.stats.multitest import multipletests\n",
    "import matplotlib.pyplot as plt\n",
    "import os\n",
    "\n",
    "import scanpy as sc\n",
    "import seaborn as sns\n",
    "\n",
    "from scroutines import basicu\n",
    "\n",
    "import warnings\n",
    "from statsmodels.tools.sm_exceptions import ConvergenceWarning\n",
    "from statsmodels.tools.sm_exceptions import ValueWarning\n",
    "from tqdm import tqdm"
   ]
  },
  {
   "cell_type": "code",
   "execution_count": null,
   "id": "73c49a5f-dcec-4483-8d8b-0221ec630727",
   "metadata": {
    "tags": []
   },
   "outputs": [],
   "source": [
    "ddir = '/u/home/f/f7xiesnm/project-zipursky/v1-bb/v1/results_sexual_dimorphism/'\n",
    "!ls $ddir\n"
   ]
  },
  {
   "cell_type": "code",
   "execution_count": null,
   "id": "7c95a3ff-514f-451d-972d-0fbd22cc6eb3",
   "metadata": {
    "tags": []
   },
   "outputs": [],
   "source": [
    "df_merge = []\n",
    "for condition in ['P6', 'P8', 'P10', 'P12', 'P12DR', 'P14DR', 'P17', 'P17DR', 'P21DR']:\n",
    "    \n",
    "    filename = os.path.join(ddir, f'ATAC_{condition}_L23.csv')\n",
    "    \n",
    "    # f = os.path.join(ddir, 'P8_L23.csv')\n",
    "    df = pd.read_csv(filename, index_col=0)\n",
    "    df['max_cp10k'] = np.max(df.iloc[:,5:], axis=1)\n",
    "    \n",
    "    x = df['log2fc']\n",
    "    y = df['qval']\n",
    "    z = df['max_cp10k']\n",
    "\n",
    "    x_th = np.log2(2)\n",
    "    y_th = 0.05\n",
    "    z_th = 0.1\n",
    "\n",
    "    cond_sig = np.all([np.abs(x) > x_th, \n",
    "                               y < y_th,\n",
    "                               z > z_th,\n",
    "                      ], axis=0)\n",
    "\n",
    "    \n",
    "    print(condition, np.sum(cond_sig))\n",
    "    df_sig = df[cond_sig][['gene', 'log2fc', 'qval', 'converged', 'max_cp10k']].copy()\n",
    "    df_sig['condition'] = condition\n",
    "    df_sig['chr']  = df_sig['gene'].apply(lambda x: x.split(':')[0])\n",
    "    \n",
    "    df_merge.append(df_sig)\n",
    "    \n",
    "df_merge = pd.concat(df_merge)\n",
    "df_merge"
   ]
  },
  {
   "cell_type": "code",
   "execution_count": null,
   "id": "60e10bbe-969e-4c4b-8d09-2349bdd29184",
   "metadata": {
    "tags": []
   },
   "outputs": [],
   "source": [
    "df_merge['chr'].value_counts()/len(df_merge['chr'])"
   ]
  },
  {
   "cell_type": "code",
   "execution_count": null,
   "id": "716abb37-362a-4ab7-8dde-b68645f6981c",
   "metadata": {
    "tags": []
   },
   "outputs": [],
   "source": [
    "df_merge_add = df_merge.groupby('gene').agg({'condition': lambda x: ' '.join(x), 'chr': 'first'})\n",
    "df_merge_add['num_condition'] = df_merge_add['condition'].apply(lambda x: len(x.split(' ')))\n",
    "df_merge_add = df_merge_add.sort_values(['num_condition', 'chr', 'condition'], ascending=False)\n",
    "df_merge_add"
   ]
  },
  {
   "cell_type": "code",
   "execution_count": null,
   "id": "74079c90-dddf-4826-8697-0b664b50bc34",
   "metadata": {
    "tags": []
   },
   "outputs": [],
   "source": [
    "df_merge_add['chr'].value_counts()/len(df_merge_add) # ['chr'].value_counts()"
   ]
  },
  {
   "cell_type": "code",
   "execution_count": null,
   "id": "6adb689a-69e4-43e4-93f8-e4a604fac3fd",
   "metadata": {
    "tags": []
   },
   "outputs": [],
   "source": [
    "df_merge_add.to_csv('check_ATAC.csv')"
   ]
  },
  {
   "cell_type": "code",
   "execution_count": null,
   "id": "dc8d97c5-b218-433f-b62e-d086d007f95d",
   "metadata": {},
   "outputs": [],
   "source": []
  }
 ],
 "metadata": {
  "kernelspec": {
   "display_name": "Python 3 (ipykernel)",
   "language": "python",
   "name": "python3"
  },
  "language_info": {
   "codemirror_mode": {
    "name": "ipython",
    "version": 3
   },
   "file_extension": ".py",
   "mimetype": "text/x-python",
   "name": "python",
   "nbconvert_exporter": "python",
   "pygments_lexer": "ipython3",
   "version": "3.9.16"
  }
 },
 "nbformat": 4,
 "nbformat_minor": 5
}
