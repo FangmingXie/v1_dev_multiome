{
 "cells": [
  {
   "cell_type": "code",
   "execution_count": null,
   "id": "bb214b6d-836a-49b8-93dd-a19f021215b7",
   "metadata": {
    "tags": []
   },
   "outputs": [],
   "source": [
    "import os\n",
    "import numpy as np\n",
    "import pandas as pd\n",
    "import scanpy as sc\n",
    "import anndata \n",
    "import seaborn as sns\n",
    "from scipy.stats import zscore\n",
    "import matplotlib.pyplot as plt\n",
    "import collections\n",
    "from natsort import natsorted\n",
    "\n",
    "from scipy import stats\n",
    "from scipy import sparse\n",
    "from sklearn.decomposition import PCA\n",
    "from umap import UMAP\n",
    "\n",
    "from matplotlib.colors import LinearSegmentedColormap\n",
    "\n",
    "from scroutines.config_plots import *\n",
    "from scroutines import powerplots # .config_plots import *\n",
    "from scroutines import pnmf\n",
    "from scroutines import basicu\n",
    "from scroutines.gene_modules import GeneModules  \n",
    "\n",
    "from atac_utils import merge_peaks"
   ]
  },
  {
   "cell_type": "code",
   "execution_count": null,
   "id": "f45abc88-0cbc-4575-8035-9cb157c42bc2",
   "metadata": {},
   "outputs": [],
   "source": [
    "outdir_fig = \"/u/home/f/f7xiesnm/project-zipursky/v1-bb/v1/figures\""
   ]
  },
  {
   "cell_type": "markdown",
   "id": "f2273d28-a649-4b3e-b17c-75eaea4476f2",
   "metadata": {},
   "source": [
    "# big tensor"
   ]
  },
  {
   "cell_type": "code",
   "execution_count": null,
   "id": "3e74ab53-ba88-4865-83bb-6cccb9c8f77c",
   "metadata": {
    "tags": []
   },
   "outputs": [],
   "source": [
    "f = \"/u/home/f/f7xiesnm/project-zipursky/v1-bb/v1/results_atac/all_AvsC_peaks_unique.bed\"\n",
    "peaks = pd.read_csv(f, sep='\\t', header=None)\n",
    "peaks['peak'] = merge_peaks(peaks, 0,1,2)\n",
    "peaks"
   ]
  },
  {
   "cell_type": "code",
   "execution_count": null,
   "id": "4a96090e-c2cb-4cbe-a1b8-66caf9238e85",
   "metadata": {
    "tags": []
   },
   "outputs": [],
   "source": [
    "f = \"/u/home/f/f7xiesnm/project-zipursky/v1-bb/v1/results_atac/all_AvsC_peak_tensor.npy\"\n",
    "tensor = np.load(f)\n",
    "print(tensor.shape)\n",
    "n_time, n_type, n_rep, n_peak = tensor.shape # "
   ]
  },
  {
   "cell_type": "code",
   "execution_count": null,
   "id": "383cd4a9-1ac9-4ad8-a130-6dc8ff9bbcc4",
   "metadata": {
    "tags": []
   },
   "outputs": [],
   "source": [
    "sns.histplot(np.log2(1+tensor.reshape(-1)))"
   ]
  },
  {
   "cell_type": "code",
   "execution_count": null,
   "id": "c2ce2263-6398-4a62-a62e-546bee67d145",
   "metadata": {
    "tags": []
   },
   "outputs": [],
   "source": [
    "# normalize it as CPM; log2(CPM+1)\n",
    "# tensor = (tensor/np.sum(tensor, axis=-1, keepdims=True))*1e6\n",
    "tensor = np.log2(1+tensor) "
   ]
  },
  {
   "cell_type": "markdown",
   "id": "9014ad9d-e38f-486a-9675-ea0c17632e6b",
   "metadata": {},
   "source": [
    "# gene triangle analysis "
   ]
  },
  {
   "cell_type": "code",
   "execution_count": null,
   "id": "b58fdbe6-7bd6-402e-8cbb-c6ad99e88b1b",
   "metadata": {
    "tags": []
   },
   "outputs": [],
   "source": [
    "def get_2way_eta2_allgenes(nums):\n",
    "    \"\"\"\n",
    "    nums: c0, c1, r, g matrix - (cond0, cond1, reps, genes)\n",
    "    \n",
    "    return (eta2, stdv) - vectors one entry for each gene\n",
    "    \"\"\"\n",
    "    nc0, nc1, nr, ng = nums.shape # (num cond0, cond1, num rep, num genes)\n",
    "\n",
    "    rm   = np.mean(nums, axis=(0,1,2)) # global mean; reduced form\n",
    "    rm0  = np.mean(nums, axis=(1,2))   # mean per c0 across reps and ignoring c1  \n",
    "    rm1  = np.mean(nums, axis=(0,2))   # mean per c1 across reps and ignoring c0 \n",
    "    rm01 = np.mean(nums, axis=(2)) # mean per (c0, c1) across reps  \n",
    "    \n",
    "    em   = np.expand_dims(rm  , axis=(0,1,2)) # expanded form\n",
    "    em0  = np.expand_dims(rm0 , axis=(1,2))   # expanded form\n",
    "    em1  = np.expand_dims(rm1 , axis=(0,2))   # expanded form\n",
    "    em01 = np.expand_dims(rm01, axis=(2))     #  \n",
    "\n",
    "    # # SSt \n",
    "    SSt  = np.sum(np.power(nums-em, 2),   axis=(0,1,2))  \n",
    "    \n",
    "    # # SSwr (noise)\n",
    "    SSwr = np.sum(np.power(nums-em01, 2), axis=(0,1,2))  # within (c0,c1) across reps \n",
    "    \n",
    "    # # SSw\n",
    "    SSw0 = nr*np.sum(np.power(em01-em0, 2),  axis=(0,1,2))  # within c0 across reps and ignoring c1\n",
    "    SSw1 = nr*np.sum(np.power(em01-em1, 2),  axis=(0,1,2))  # within c1 across reps and ignoring c0 \n",
    "    \n",
    "    # SSt = SSwr + SSexp\n",
    "    # where SSexp = SSw0 + SSexp0 = SSw1 + SSexp1\n",
    "    SSexp  = SSt   - SSwr\n",
    "    SSexp0 = SSexp - SSw0\n",
    "    SSexp1 = SSexp - SSw1\n",
    "    \n",
    "    # return SSt, SSwr, SSw0, SSw1\n",
    "    \n",
    "    o = 1e-10\n",
    "    eta2_01 = (SSexp +o)/(SSt+o)\n",
    "    eta2_0  = (SSexp0+o)/(SSt+o)\n",
    "    eta2_1  = (SSexp1+o)/(SSt+o)\n",
    "    \n",
    "    return eta2_01, eta2_0, eta2_1\n"
   ]
  },
  {
   "cell_type": "code",
   "execution_count": null,
   "id": "403f6998-cd5c-45c3-895c-c8574907adff",
   "metadata": {
    "tags": []
   },
   "outputs": [],
   "source": [
    "eta2_tc, eta2_t, eta2_c = get_2way_eta2_allgenes(tensor)\n",
    "eta2_r = 1-eta2_tc\n",
    "eta2_tic = eta2_tc-(eta2_t+eta2_c)"
   ]
  },
  {
   "cell_type": "code",
   "execution_count": null,
   "id": "3635cc2d-981c-4d3e-a151-5f4d134973cf",
   "metadata": {
    "tags": []
   },
   "outputs": [],
   "source": [
    "fig, ax = plt.subplots(figsize=(5,6))\n",
    "sns.boxplot([eta2_t, eta2_c, \n",
    "             eta2_r, \n",
    "             # eta2_t+eta2_r, \n",
    "             # eta2_t+eta2_c+eta2_r,\n",
    "             eta2_t+eta2_c, \n",
    "             eta2_tic,  \n",
    "             eta2_tc,  \n",
    "            ])\n",
    "ax.set_xticklabels(['time', 'type', \n",
    "                    'rep', \n",
    "                    # 'time+\\nrep', \n",
    "                    # 'time+\\ntype+\\nrep',\n",
    "                    'time+\\ntype', \n",
    "                    'time int\\ntype', \n",
    "                    'time&\\ntype', \n",
    "                   ], rotation=0, fontsize=12)\n",
    "ax.set_ylabel('variance explained by')\n",
    "plt.show()"
   ]
  },
  {
   "cell_type": "code",
   "execution_count": null,
   "id": "8783fa7e-18a7-445f-b010-9a31b277e632",
   "metadata": {
    "tags": []
   },
   "outputs": [],
   "source": [
    "fig, ax = plt.subplots(figsize=(8,6))\n",
    "g = ax.scatter(eta2_t, eta2_c, c=1-eta2_tc, s=1, cmap='viridis', vmin=0, vmax=1)\n",
    "fig.colorbar(g, shrink=0.5, ticks=[0, 0.5, 1], label='var exp replicates')\n",
    "ax.set_aspect('equal')\n",
    "ax.set_xlabel('var exp time')\n",
    "ax.set_ylabel('var exp type')\n",
    "plt.show()"
   ]
  },
  {
   "cell_type": "code",
   "execution_count": null,
   "id": "369a51b7-5358-4804-ab35-690ab5a38ea6",
   "metadata": {
    "tags": []
   },
   "outputs": [],
   "source": [
    "# import plotly.graph_objects as go\n",
    "\n",
    "# # Generate some random data\n",
    "# x = eta2_t\n",
    "# y = eta2_c\n",
    "# z = 1-eta2_tc\n",
    "\n",
    "# # Create a 3D scatter plot\n",
    "# fig = go.Figure(data=[go.Scatter3d(x=x, y=y, z=z, mode='markers', marker=dict(size=1))])\n",
    "\n",
    "# # Update layout\n",
    "# fig.update_layout(scene=dict(\n",
    "#                     xaxis_title='time',\n",
    "#                     yaxis_title='type',\n",
    "#                     zaxis_title='rep'),\n",
    "#                   title='time type rep', \n",
    "#                   height=800,\n",
    "#                   width=1000,\n",
    "#                  )\n",
    "\n",
    "# # Display the plot in the Jupyter notebook\n",
    "# fig.show()"
   ]
  },
  {
   "cell_type": "markdown",
   "id": "50d6cd40-0ba3-42f7-b62a-cf302b287355",
   "metadata": {
    "tags": []
   },
   "source": [
    "# check a few genes"
   ]
  },
  {
   "cell_type": "code",
   "execution_count": null,
   "id": "ef4b7ee8-4a20-4ada-b326-192a73f047d2",
   "metadata": {
    "tags": []
   },
   "outputs": [],
   "source": [
    "def plot_query_gene_landscape(key, val):\n",
    "    val_idx = basicu.get_index_from_array(genes_comm, val)\n",
    "    x = eta2_t[val_idx]\n",
    "    y = eta2_c[val_idx]\n",
    "\n",
    "    fig, ax = plt.subplots(1, 1, figsize=(5*1,6*1))\n",
    "    ax.set_title(key)\n",
    "    # ax.set_title(f'{key}\\nn={len(val)}/{len(genes_annots[key])}')\n",
    "    ax.set_xticks([0, 0.5, 1])\n",
    "    ax.set_yticks([0, 0.5, 1])\n",
    "\n",
    "    g = ax.scatter(eta2_t, eta2_c, s=1, c='lightgray')\n",
    "    g2 = ax.scatter(x, y, s=1, c='C1', zorder=2)\n",
    "    for xi, yi, vali in zip(x, y, val):\n",
    "        ax.text(xi, yi, vali, fontsize=10)\n",
    "    sns.despine(ax=ax)\n",
    "    ax.set_xlim([0,1])\n",
    "    ax.set_ylim([0,1])\n",
    "    ax.set_xlabel('time')\n",
    "    ax.set_ylabel('type')\n",
    "\n",
    "    ax.set_aspect('equal')\n",
    "    plt.show()"
   ]
  },
  {
   "cell_type": "code",
   "execution_count": null,
   "id": "c43e66e0-fa33-419c-9cc7-a97d6f5aee22",
   "metadata": {
    "tags": []
   },
   "outputs": [],
   "source": [
    "def plot_query_genes(query_genes, X, ts, colors=None, nxset=5, X2=None, ts2=None):\n",
    "    \"\"\"\n",
    "    X (nt, nc, nr, ng) (n_time, n_type, n_rep, n_gene)\n",
    "    \"\"\"\n",
    "    nt, nc, nr, ng = X.shape\n",
    "    \n",
    "    if colors is None:\n",
    "        colors = sns.color_palette('coolwarm', len(types))\n",
    "    \n",
    "    query_gis   = basicu.get_index_from_array(genes_comm, query_genes)\n",
    "    gnames = genes_comm[query_gis]\n",
    "    \n",
    "    pbulks_sub = X[:,:,:,query_gis]\n",
    "    pbulks_sub = np.swapaxes(pbulks_sub, 0, 3) # nt, nc, nr, ng -> ng, nc, nr, nt\n",
    "    \n",
    "    if X2 is not None:\n",
    "        pbulks_sub2 = X2[:,:,:,query_gis]\n",
    "        pbulks_sub2 = np.swapaxes(pbulks_sub2, 0, 3) # nt, nc, nr, ng -> ng, nc, nr, nt\n",
    "    \n",
    "    n = len(query_gis)\n",
    "    nx = min(n, nxset)\n",
    "    ny = int((n+nx-1)/nx)\n",
    "    \n",
    "    s=3\n",
    "\n",
    "    fig, axs = plt.subplots(ny,nx,figsize=(nx*3,ny*4), sharex=True)\n",
    "    for j, (pbulks_g, gname, ax) in enumerate(zip(pbulks_sub, gnames, axs.flat)):\n",
    "        ax.set_title(gname, fontsize=10)\n",
    "        for i in range(nc):\n",
    "            color = colors[i]\n",
    "            lbl = types[i]\n",
    "            ax.plot(ts, np.mean(pbulks_g[i], axis=0), color=color, label=lbl, linewidth=3)\n",
    "            ax.scatter(ts, pbulks_g[i][0], s=s, color=color)\n",
    "            ax.scatter(ts, pbulks_g[i][1], s=s, color=color)\n",
    "\n",
    "        sns.despine(ax=ax)\n",
    "        ax.grid(False) # , axis='x')\n",
    "\n",
    "        ax.set_xticks(ts)\n",
    "        ax.tick_params(axis='both', which='major', labelsize=10)\n",
    "\n",
    "        if j % 5 == 0:\n",
    "            ax.set_ylabel('log2(atac+1)')\n",
    "            \n",
    "    if X2 is not None:\n",
    "        for j, (pbulks_g, gname, ax) in enumerate(zip(pbulks_sub2, gnames, axs.flat)):\n",
    "            ax.set_title(gname, fontsize=10)\n",
    "            for i in range(nc):\n",
    "                color = colors[i]\n",
    "                lbl = types[i]\n",
    "                ax.plot(ts2, np.mean(pbulks_g[i], axis=0), color=color  , label=lbl, linewidth=3)\n",
    "                ax.plot(ts2, np.mean(pbulks_g[i], axis=0), color='k', label=lbl, linewidth=2, linestyle='--')\n",
    "                ax.scatter(ts2, pbulks_g[i][0], s=s, color=color, marker='s',)\n",
    "                ax.scatter(ts2, pbulks_g[i][1], s=s, color=color, marker='s',)\n",
    "\n",
    "\n",
    "    fig.tight_layout()\n",
    "    plt.show()"
   ]
  },
  {
   "cell_type": "code",
   "execution_count": null,
   "id": "2d3ba4f2-3a51-4cde-bcb9-43acafc10ad2",
   "metadata": {},
   "outputs": [],
   "source": [
    "def plot_query_genes_2ends(query_genes, X, ts, colors=None, nxset=5, X2=None, ts2=None):\n",
    "    if colors is None:\n",
    "        colors = sns.color_palette('coolwarm', len(types))\n",
    "    \n",
    "    query_gis   = basicu.get_index_from_array(genes_comm, query_genes)\n",
    "    gnames = genes_comm[query_gis]\n",
    "    \n",
    "    pbulks_sub = X[:,:,:,query_gis]\n",
    "    pbulks_sub = np.swapaxes(pbulks_sub, 0, 3) # nt, nc, nr, ng -> ng, nc, nr, nt\n",
    "    \n",
    "    if X2 is not None:\n",
    "        pbulks_sub2 = X2[:,:,:,query_gis]\n",
    "        pbulks_sub2 = np.swapaxes(pbulks_sub2, 0, 3) # nt, nc, nr, ng -> ng, nc, nr, nt\n",
    "    \n",
    "    n = len(query_gis)\n",
    "    nx = min(n, nxset)\n",
    "    ny = int((n+nx-1)/nx)\n",
    "    \n",
    "    s=3\n",
    "\n",
    "    fig, axs = plt.subplots(ny,nx,figsize=(nx*3,ny*4), sharex=True)\n",
    "    for j, (pbulks_g, gname, ax) in enumerate(zip(pbulks_sub, gnames, axs.flat)):\n",
    "        ax.set_title(gname)\n",
    "        for i in [0, int(nc/2), nc-1]:\n",
    "            color = colors[i]\n",
    "            lbl = types[i]\n",
    "            ax.plot(ts, np.mean(pbulks_g[i], axis=0), color=color, label=lbl, linewidth=3)\n",
    "            ax.scatter(ts, pbulks_g[i][0], s=s, color=color)\n",
    "            ax.scatter(ts, pbulks_g[i][1], s=s, color=color)\n",
    "\n",
    "        sns.despine(ax=ax)\n",
    "        ax.grid(False) # , axis='x')\n",
    "\n",
    "        ax.set_xticks(ts)\n",
    "        ax.tick_params(axis='both', which='major', labelsize=10)\n",
    "\n",
    "        if j % 5 == 0:\n",
    "            ax.set_ylabel('log2(CPM+1)')\n",
    "            \n",
    "    if X2 is not None:\n",
    "        for j, (pbulks_g, gname, ax) in enumerate(zip(pbulks_sub2, gnames, axs.flat)):\n",
    "            ax.set_title(gname)\n",
    "            # for i in [0, nc-1]:\n",
    "            for i in [0, int(nc/2), nc-1]:\n",
    "                color = colors[i]\n",
    "                lbl = types[i]\n",
    "                ax.plot(ts2, np.mean(pbulks_g[i], axis=0), color=color, label=lbl, linewidth=3, alpha=0.5)\n",
    "                ax.scatter(ts2, pbulks_g[i][0], s=s, color=color, marker='s', linewidth=1,)\n",
    "                ax.scatter(ts2, pbulks_g[i][1], s=s, color=color, marker='s', linewidth=1,)\n",
    "\n",
    "\n",
    "    fig.tight_layout()\n",
    "    plt.show()"
   ]
  },
  {
   "cell_type": "code",
   "execution_count": null,
   "id": "980e7030-c0be-4e1a-a644-003b663c9eb3",
   "metadata": {
    "tags": []
   },
   "outputs": [],
   "source": [
    "tensor.shape"
   ]
  },
  {
   "cell_type": "code",
   "execution_count": null,
   "id": "c99f9f5d-ddc1-40c7-ab54-7fbd7710c698",
   "metadata": {
    "tags": []
   },
   "outputs": [],
   "source": [
    "# set up\n",
    "# genes_comm = adata.var.index.values\n",
    "genes_comm = peaks['peak'].values \n",
    "types = ['A', 'AB', 'B', 'BC', 'C']\n",
    "\n",
    "X = tensor # [:7]\n",
    "ts = [6, 8, 10, 12, 14, 17, 21]\n",
    "\n",
    "# X2 = tensor[7:]\n",
    "# ts2 = [12, 14, 17, 21]"
   ]
  },
  {
   "cell_type": "code",
   "execution_count": null,
   "id": "e8d22352-cfaa-4237-bf95-709ddc6394d0",
   "metadata": {
    "tags": []
   },
   "outputs": [],
   "source": [
    "# X.shape, X2.shape, len(ts), len(ts2)"
   ]
  },
  {
   "cell_type": "code",
   "execution_count": null,
   "id": "f3aa3ad3-7af0-4cc9-b228-e12fdd725c53",
   "metadata": {},
   "outputs": [],
   "source": [
    "from matplotlib.colors import LinearSegmentedColormap\n",
    "\n",
    "colors_a = [(0.0, 'black'), (1.0, 'C0')]      \n",
    "colors_b = [(0.0, 'black'), (1.0, 'C1')]      \n",
    "colors_c = [(0.0, 'black'), (1.0, 'C2')]      \n",
    "\n",
    "# lighter than lightgray: #DCDCDC, #E8E8E8, #F0F0F0\n",
    "colors_g = [(0.0, 'black'), (1.0, '#DCDCDC')]  \n",
    "\n",
    "# Create a custom colormap using LinearSegmentedColormap\n",
    "cmap_a = LinearSegmentedColormap.from_list('cmap_a', colors_a)\n",
    "cmap_b = LinearSegmentedColormap.from_list('cmap_b', colors_b)\n",
    "cmap_c = LinearSegmentedColormap.from_list('cmap_c', colors_c)\n",
    "cmap_g = LinearSegmentedColormap.from_list('cmap_g', colors_g)\n",
    "\n",
    "colors_abc = [\n",
    "    np.array(cmap_a(1.0)),\n",
    "    0.5*np.array(cmap_a(1.0))+0.5*np.array(cmap_b(1.0)),\n",
    "    np.array(cmap_b(1.0)),\n",
    "    0.5*np.array(cmap_b(1.0))+0.5*np.array(cmap_c(1.0)),\n",
    "    np.array(cmap_c(1.0)),\n",
    "]\n",
    "\n",
    "\n",
    "colors_ac = [\n",
    "    np.array(cmap_a(1.0)),\n",
    "    0.5*np.array(cmap_g(1.0))+0.5*np.array(cmap_a(1.0)),\n",
    "    np.array(cmap_g(1.0)),\n",
    "    0.5*np.array(cmap_g(1.0))+0.5*np.array(cmap_c(1.0)),\n",
    "    np.array(cmap_c(1.0)),\n",
    "]\n"
   ]
  },
  {
   "cell_type": "code",
   "execution_count": null,
   "id": "4747c626-2f64-482a-87b4-28334901c1ad",
   "metadata": {
    "tags": []
   },
   "outputs": [],
   "source": [
    "\n",
    "key = ''\n",
    "val = [\n",
    "    'chr3:141618499-141619148',\n",
    "    'chr6:47272174-47273739',\n",
    "    'chr9:34703319-34704364',\n",
    "    'chr17:64689527-64690121',\n",
    "] #$ genes_annots_overlap[key]\n",
    "print(val)\n",
    "plot_query_gene_landscape(key, val)\n",
    "plot_query_genes(val, X, ts, colors=colors_ac, nxset=5, X2=None, ts2=None)"
   ]
  },
  {
   "cell_type": "markdown",
   "id": "bfce351b-8117-4df9-a3ee-7814dbd3dbbf",
   "metadata": {},
   "source": [
    "# time gene; type gene; time*type gene"
   ]
  },
  {
   "cell_type": "code",
   "execution_count": null,
   "id": "090b10dd-362d-4f2e-81a0-265ac8cc40ff",
   "metadata": {
    "tags": []
   },
   "outputs": [],
   "source": [
    "key = 'top time peaks'\n",
    "val = genes_comm[np.argsort(eta2_t)[::-1][:10]]\n",
    "\n",
    "print(val)\n",
    "plot_query_gene_landscape(key, val)\n",
    "plot_query_genes(val, X, ts, colors=colors_ac, nxset=5, X2=None, ts2=None)"
   ]
  },
  {
   "cell_type": "code",
   "execution_count": null,
   "id": "948272e8-efb0-4bf2-850c-a84b6cf3cd9a",
   "metadata": {
    "tags": []
   },
   "outputs": [],
   "source": [
    "key = 'top type peaks'\n",
    "val = genes_comm[np.argsort(eta2_c)[::-1][:10]]\n",
    "\n",
    "print(val)\n",
    "plot_query_gene_landscape(key, val)\n",
    "plot_query_genes(val, X, ts, colors=colors_ac, nxset=5, X2=None, ts2=None)"
   ]
  },
  {
   "cell_type": "code",
   "execution_count": null,
   "id": "79671303-fad6-4b66-b227-0b04ca98e1c1",
   "metadata": {
    "tags": []
   },
   "outputs": [],
   "source": [
    "key = 'top int genes'\n",
    "val = genes_comm[np.argsort(eta2_tic/eta2_r)[::-1][:10]]\n",
    "\n",
    "print(val)\n",
    "plot_query_gene_landscape(key, val)\n",
    "plot_query_genes(val, X, ts, colors=colors_ac, nxset=5, X2=None, ts2=None)"
   ]
  },
  {
   "cell_type": "code",
   "execution_count": null,
   "id": "f115fcd0-7b3f-4729-9cc1-2a06d064343a",
   "metadata": {},
   "outputs": [],
   "source": []
  }
 ],
 "metadata": {
  "kernelspec": {
   "display_name": "Python 3 (ipykernel)",
   "language": "python",
   "name": "python3"
  },
  "language_info": {
   "codemirror_mode": {
    "name": "ipython",
    "version": 3
   },
   "file_extension": ".py",
   "mimetype": "text/x-python",
   "name": "python",
   "nbconvert_exporter": "python",
   "pygments_lexer": "ipython3",
   "version": "3.9.16"
  }
 },
 "nbformat": 4,
 "nbformat_minor": 5
}
