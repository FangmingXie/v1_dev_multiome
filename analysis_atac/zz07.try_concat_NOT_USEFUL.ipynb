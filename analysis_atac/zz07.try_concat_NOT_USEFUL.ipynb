{
 "cells": [
  {
   "cell_type": "code",
   "execution_count": null,
   "id": "40d3cf98-2f37-46b9-a606-af61ebef2881",
   "metadata": {
    "tags": []
   },
   "outputs": [],
   "source": [
    "import os\n",
    "import sys\n",
    "import time\n",
    "import numpy as np\n",
    "import pandas as pd\n",
    "\n",
    "import anndata as sc\n",
    "import snapatac2\n",
    "\n",
    "sys.path.insert(0, '/u/home/f/f7xiesnm/project-zipursky/code/scroutines')\n",
    "from scroutines import basicu\n",
    "import atac_utils"
   ]
  },
  {
   "cell_type": "code",
   "execution_count": null,
   "id": "c97c2596-5b85-4018-8d00-3f5d9460a43f",
   "metadata": {},
   "outputs": [],
   "source": [
    "%%time\n",
    "f_rna = '/u/home/f/f7xiesnm/project-zipursky/v1-bb/v1/data/v1_multiome/L23_allmultiome_proc_P6toP21_NRDR.h5ad'\n",
    "adata = sc.read(f_rna)\n",
    "adata"
   ]
  },
  {
   "cell_type": "code",
   "execution_count": null,
   "id": "b82f1118-4030-499b-a8a0-0e13e367023f",
   "metadata": {
    "tags": []
   },
   "outputs": [],
   "source": [
    "organized_sample_dict = atac_utils.get_organized_sample_dict()"
   ]
  },
  {
   "cell_type": "code",
   "execution_count": null,
   "id": "9537980d-4b5b-4e00-84ae-db7e7efd248d",
   "metadata": {
    "tags": []
   },
   "outputs": [],
   "source": [
    "%%time\n",
    "\n",
    "SHUFFLE = False\n",
    "n_type = 5\n",
    "out_dir = '/u/home/f/f7xiesnm/project-zipursky/v1-bb/v1/data/v1_multiome/atac_fragments/'\n",
    "\n",
    "\n",
    "ti = time.time()\n",
    "\n",
    "for cond_code, samples in organized_sample_dict.items(): \n",
    "    cond_name = atac_utils.decode_cond(cond_code)\n",
    "    print(cond_code, cond_name, samples, time.time()-ti)\n",
    "    \n",
    "    # get sub\n",
    "    adatasub = adata[adata.obs['cond']==cond_name]\n",
    "    cells_rna = adatasub.obs.index.values\n",
    "    \n",
    "    # get RNA type\n",
    "    x0 = adatasub.obsm['pca_p17on'][...,0]\n",
    "    # x_shuff\n",
    "    if SHUFFLE:\n",
    "        x = x0[np.random.choice(len(x0), size=len(x0), replace=False)]\n",
    "    else:\n",
    "        x = x0\n",
    "    cells_rna_type = pd.qcut(x, n_type, labels=False)\n",
    "    \n",
    "    adata_atac_merge = []\n",
    "    # prep ATAC\n",
    "    for sample in samples:\n",
    "        print(sample, time.time()-ti)\n",
    "        # atac all cells\n",
    "        f = f'/u/home/f/f7xiesnm/project-zipursky/v1-bb/v1/data/v1_multiome/atac_fragments/ATAC_{sample}.h5ad'\n",
    "        adata_atac = sc.read_h5ad(f)\n",
    "\n",
    "        cell_names_raw = adata_atac.obs.index.values\n",
    "        cell_names_new = np.char.add(cell_names_raw.astype(str), f'-{sample}-2023 Multiome-{cond_code}-0')\n",
    "        adata_atac.obs.index = cell_names_new\n",
    "        \n",
    "        adata_atac_merge.append(adata_atac)\n",
    "        \n",
    "    adata_atac_merge = sc.concat(adata_atac_merge)\n",
    "    adata_atac_merge.uns['reference_sequences'] = adata_atac.uns['reference_sequences'].copy()\n",
    "    cell_names_atac = adata_atac_merge.obs.index.values\n",
    "\n",
    "    # check compatibility\n",
    "    cell_names_both = np.intersect1d(cell_names_atac, cells_rna)\n",
    "    print(len(cell_names_both)/len(cells_rna))\n",
    "\n",
    "    # assign RNA type\n",
    "    adata_atac_merge = adata_atac_merge[cell_names_both]\n",
    "    adata_atac_merge.obs['rna_type'] = np.char.add('RT', cells_rna_type[basicu.get_index_from_array(cells_rna, cell_names_both)].astype(str)) \n",
    "    \n",
    "    output = os.path.join(out_dir, f'ATAC_{cond_name}_merged.h5ad')\n",
    "    adata_atac_merge.write(output)\n",
    "\n",
    "#     # export \n",
    "#     snapatac2.ex.export_coverage(adata_atac_merge, groupby='rna_type', normalization='CPM', out_dir=out_dir, prefix=f'atac_{sample}_') \n",
    "        \n",
    "    \n",
    "#     # break"
   ]
  },
  {
   "cell_type": "code",
   "execution_count": null,
   "id": "8a1eb191-b131-4793-b947-a423ee51aba0",
   "metadata": {},
   "outputs": [],
   "source": []
  },
  {
   "cell_type": "code",
   "execution_count": null,
   "id": "10d938b7-92bf-4cbd-b031-680b8c52334a",
   "metadata": {},
   "outputs": [],
   "source": []
  },
  {
   "cell_type": "code",
   "execution_count": null,
   "id": "821fe027-2c66-4d88-bdf0-be32e4514fc1",
   "metadata": {},
   "outputs": [],
   "source": []
  },
  {
   "cell_type": "code",
   "execution_count": null,
   "id": "fab55a7f-7a16-45db-abd6-ba55f96161b2",
   "metadata": {},
   "outputs": [],
   "source": []
  }
 ],
 "metadata": {
  "kernelspec": {
   "display_name": "snapatac2",
   "language": "python",
   "name": "snapatac2"
  },
  "language_info": {
   "codemirror_mode": {
    "name": "ipython",
    "version": 3
   },
   "file_extension": ".py",
   "mimetype": "text/x-python",
   "name": "python",
   "nbconvert_exporter": "python",
   "pygments_lexer": "ipython3",
   "version": "3.12.0"
  }
 },
 "nbformat": 4,
 "nbformat_minor": 5
}
