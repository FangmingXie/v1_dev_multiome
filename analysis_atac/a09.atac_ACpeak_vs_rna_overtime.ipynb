{
 "cells": [
  {
   "cell_type": "code",
   "execution_count": null,
   "id": "40d3cf98-2f37-46b9-a606-af61ebef2881",
   "metadata": {
    "tags": []
   },
   "outputs": [],
   "source": [
    "import scipy.io\n",
    "import numpy as np\n",
    "import pandas as pd\n",
    "import scanpy as sc\n",
    "import h5py\n",
    "\n",
    "import os\n",
    "import numpy as np\n",
    "import pandas as pd\n",
    "import scanpy as sc\n",
    "import anndata \n",
    "import seaborn as sns\n",
    "from scipy.stats import zscore\n",
    "import matplotlib.pyplot as plt\n",
    "import collections\n",
    "from natsort import natsorted\n",
    "\n",
    "from scipy import stats\n",
    "from scipy import sparse\n",
    "from sklearn.decomposition import PCA\n",
    "from umap import UMAP\n",
    "\n",
    "from matplotlib.colors import LinearSegmentedColormap\n",
    "from statsmodels.stats.multitest import multipletests\n",
    "\n",
    "from scroutines.config_plots import *\n",
    "from scroutines import powerplots # .config_plots import *\n",
    "from scroutines import pnmf\n",
    "from scroutines import basicu\n",
    "from scroutines.gene_modules import GeneModules  "
   ]
  },
  {
   "cell_type": "code",
   "execution_count": null,
   "id": "c97c2596-5b85-4018-8d00-3f5d9460a43f",
   "metadata": {},
   "outputs": [],
   "source": [
    "%%time\n",
    "f_rna = '/u/home/f/f7xiesnm/project-zipursky/v1-bb/v1/data/v1_multiome/L23_allmultiome_proc_P6toP21.h5ad'\n",
    "adata = sc.read(f_rna)\n",
    "adata"
   ]
  },
  {
   "cell_type": "code",
   "execution_count": null,
   "id": "226fa1e4-8666-4629-b81c-1964c9053583",
   "metadata": {
    "tags": []
   },
   "outputs": [],
   "source": [
    "times = np.array([6,8,10,12,14,17,21]).astype(int)"
   ]
  },
  {
   "cell_type": "code",
   "execution_count": null,
   "id": "e40623c6-384a-49e4-935d-185e06cfb547",
   "metadata": {
    "tags": []
   },
   "outputs": [],
   "source": [
    "%%time\n",
    "df_allpeaks = None\n",
    "\n",
    "adatas_pk = []\n",
    "for ti in times:\n",
    "# for ti in [6]:\n",
    "    print(ti)\n",
    "    f = f'/u/home/f/f7xiesnm/project-zipursky/v1-bb/v1/data/v1_multiome/P{ti}_ATAC_L23_peakbycell_filtered.h5ad'\n",
    "    adata_pk = sc.read(f)\n",
    "    adata_pk.obs = adata_pk.obs.set_index('cell')\n",
    "        \n",
    "    print(adata_pk.var['peak'][:3].values)\n",
    "    if df_allpeaks is None:\n",
    "        df_allpeaks = adata_pk.var\n",
    "    \n",
    "    adatas_pk.append(adata_pk)\n",
    "    print(adata_pk)\n",
    "    # break"
   ]
  },
  {
   "cell_type": "code",
   "execution_count": null,
   "id": "59afd225-f2b8-483b-a933-e512771b5270",
   "metadata": {
    "tags": []
   },
   "outputs": [],
   "source": [
    "adata.obs['cond_order'].unique()"
   ]
  },
  {
   "cell_type": "code",
   "execution_count": null,
   "id": "38798144-dd47-47f1-8f4c-11390036de85",
   "metadata": {
    "tags": []
   },
   "outputs": [],
   "source": [
    "%%time\n",
    "\n",
    "# get cells based on RNA\n",
    "# get matrix based on ATAC - CPM or CP10k\n",
    "\n",
    "qs_avc = []\n",
    "l2fc_avc = []\n",
    "# for cond_order, obssub in adata.obs.groupby('cond_order'):\n",
    "for cond_order in range(7):\n",
    "    obssub = adata[adata.obs['cond_order']==cond_order].obs\n",
    "    \n",
    "    # get sub\n",
    "    adatasub = adata[obssub.index]\n",
    "    adata_pk = adatas_pk[cond_order]\n",
    "    \n",
    "    # get A vs C \n",
    "    x = adatasub.obsm['pca_p17on'][...,0]\n",
    "    cond_a = x < np.percentile(x,20)\n",
    "    cond_c = x > np.percentile(x,80)\n",
    "    cells_a = np.array([c.split(' ')[0][:-len('-2023')] for c in adatasub[cond_a].obs.index.values])\n",
    "    cells_c = np.array([c.split(' ')[0][:-len('-2023')] for c in adatasub[cond_c].obs.index.values])\n",
    "    \n",
    "    cells_rna = np.array([c.split(' ')[0][:-len('-2023')] for c in adatasub.obs.index.values])\n",
    "    adatasub.obs.index = cells_rna\n",
    "    \n",
    "    cells_atac = adata_pk.obs.index.values\n",
    "    cells_mult = np.intersect1d(cells_rna, cells_atac) \n",
    "    \n",
    "    adata_pk_a = adata_pk[np.intersect1d(cells_a, cells_atac)]\n",
    "    adata_pk_c = adata_pk[np.intersect1d(cells_c, cells_atac)]\n",
    "    \n",
    "    mat_a = np.log10(1+adata_pk_a.X[...]) # layers['lognorm'][...]\n",
    "    mat_c = np.log10(1+adata_pk_c.X[...]) # adatasub_c.layers['lognorm'][...]\n",
    "    \n",
    "    # DEGs\n",
    "    lfc = np.log2(10)*(np.mean(mat_c, axis=0) - np.mean(mat_a, axis=0)) # log2FC (log10CPM as raw counts)\n",
    "    ts, ps = stats.ttest_ind(mat_a, mat_c)\n",
    "    rs, qs, _, _ = multipletests(np.nan_to_num(ps, nan=1).reshape(-1,), method='fdr_bh') # why nan in ps -- not expressed\n",
    "    \n",
    "    num_sig = np.sum(np.logical_and(qs < 0.05, np.abs(lfc) > 1))\n",
    "    print(cond_order, mat_a.shape, mat_c.shape, num_sig)\n",
    "    \n",
    "    # save this\n",
    "    qs_avc.append(qs)\n",
    "    l2fc_avc.append(lfc)\n",
    "    \n",
    "    # break\n",
    "    \n",
    "qs_avc = np.array(qs_avc)\n",
    "l2fc_avc = np.array(l2fc_avc)"
   ]
  },
  {
   "cell_type": "code",
   "execution_count": null,
   "id": "bb017a26-7f4f-449c-979d-82cb8572c608",
   "metadata": {
    "tags": []
   },
   "outputs": [],
   "source": [
    "l2fc_th = 1\n",
    "alpha_th = 0.05\n",
    "cond_sig   = np.logical_and(qs_avc < alpha_th, np.abs(l2fc_avc) > l2fc_th)\n",
    "cond_sig_c = np.logical_and(qs_avc < alpha_th, l2fc_avc >  l2fc_th)\n",
    "cond_sig_a = np.logical_and(qs_avc < alpha_th, l2fc_avc < -l2fc_th)\n",
    "\n",
    "print('num AvsC-DEGs per cond:\\t', cond_sig.sum(axis=1))\n",
    "print('num A-DEGs per cond:\\t',    cond_sig_a.sum(axis=1))\n",
    "print('num C-DEGs per cond:\\t',    cond_sig_c.sum(axis=1))"
   ]
  },
  {
   "cell_type": "code",
   "execution_count": null,
   "id": "3bfdde5a-4bfc-45c3-95a5-e308532ed1af",
   "metadata": {
    "tags": []
   },
   "outputs": [],
   "source": [
    "cond_sig_c.shape"
   ]
  },
  {
   "cell_type": "code",
   "execution_count": null,
   "id": "e9299c26-cdae-4a5f-84c1-c4ae8e5313fa",
   "metadata": {
    "tags": []
   },
   "outputs": [],
   "source": [
    "\n",
    "fig, axs = plt.subplots(1,7, figsize=(4*7,4), sharex=True, sharey=True)\n",
    "for cond_order in range(7):\n",
    "    ax = axs[cond_order]\n",
    "    time = times[cond_order]\n",
    "    obssub = adata[adata.obs['cond_order']==cond_order].obs\n",
    "    \n",
    "    # get sub\n",
    "    adatasub = adata[obssub.index]\n",
    "    adata_pk = adatas_pk[cond_order]\n",
    "    \n",
    "    cells_rna = np.array([c.split(' ')[0][:-len('-2023')] for c in adatasub.obs.index.values])\n",
    "    adatasub.obs.index = cells_rna\n",
    "    cells_atac = adata_pk.obs.index.values\n",
    "    cells_mult = np.intersect1d(cells_rna, cells_atac) \n",
    "    \n",
    "    x = adatasub[cells_mult].obsm['pca_p17on'][...,0]\n",
    "    adata_pk_a = adata_pk[:,cond_sig_a[cond_order]][cells_mult]\n",
    "    adata_pk_c = adata_pk[:,cond_sig_c[cond_order]][cells_mult]\n",
    "    mat_pk_a = np.log10(1+adata_pk_a.X[...])\n",
    "    mat_pk_c = np.log10(1+adata_pk_c.X[...])\n",
    "    y_a = np.mean(mat_pk_a, axis=1)\n",
    "    y_c = np.mean(mat_pk_c, axis=1)\n",
    "    \n",
    "    \n",
    "    ax.scatter(x, y_a, s=1, color='C0', label='A peaks', alpha=0.5)# , facecolor='none')\n",
    "    ax.scatter(x, y_c, s=1, color='C2', label='C peaks', alpha=0.5)# , facecolor='none')\n",
    "    r_a, p  = stats.spearmanr(x, y_a)\n",
    "    r_c, p  = stats.spearmanr(x, y_c)\n",
    "\n",
    "    ax.set_title(f'P{time}\\nr_a={r_a:.4f}\\nr_c={r_c:.4f}')\n",
    "    # ax.legend(bbox_to_anchor=(1,1))\n",
    "\n",
    "    sns.despine(ax=ax)\n",
    "    ax.grid(False)\n",
    "\n",
    "axs[0].set_xlabel('RNA PC1 (A-C axis; P17on)')\n",
    "axs[0].set_ylabel('ATAC')\n",
    "plt.show()"
   ]
  },
  {
   "cell_type": "code",
   "execution_count": null,
   "id": "cd8c44fe-b6b1-4ad7-95c5-1f07ee470854",
   "metadata": {},
   "outputs": [],
   "source": [
    "fig, axs = plt.subplots(1,7, figsize=(4*7,4)) # , sharex=True, sharey=True)\n",
    "for cond_order in range(7):\n",
    "    ax = axs[cond_order]\n",
    "    time = times[cond_order]\n",
    "    obssub = adata[adata.obs['cond_order']==cond_order].obs\n",
    "    \n",
    "    # get sub\n",
    "    adatasub = adata[obssub.index]\n",
    "    adata_pk = adatas_pk[cond_order]\n",
    "    \n",
    "    cells_rna = np.array([c.split(' ')[0][:-len('-2023')] for c in adatasub.obs.index.values])\n",
    "    adatasub.obs.index = cells_rna\n",
    "    cells_atac = adata_pk.obs.index.values\n",
    "    cells_mult = np.intersect1d(cells_rna, cells_atac) \n",
    "    \n",
    "    x = adatasub[cells_mult].obsm['pca_p17on'][...,0]\n",
    "    adata_pk_a = adata_pk[:,cond_sig_a[cond_order]][cells_mult]\n",
    "    adata_pk_c = adata_pk[:,cond_sig_c[cond_order]][cells_mult]\n",
    "    mat_pk_a = np.log10(1+adata_pk_a.X[...])\n",
    "    mat_pk_c = np.log10(1+adata_pk_c.X[...])\n",
    "    y_a = np.mean(mat_pk_a, axis=1)\n",
    "    y_c = np.mean(mat_pk_c, axis=1)\n",
    "    \n",
    "    \n",
    "    ax.scatter(x, y_a, s=1, color='C0', label='A peaks', alpha=0.5)# , facecolor='none')\n",
    "    ax.scatter(x, y_c, s=1, color='C2', label='C peaks', alpha=0.5)# , facecolor='none')\n",
    "    r_a, p  = stats.spearmanr(x, y_a)\n",
    "    r_c, p  = stats.spearmanr(x, y_c)\n",
    "\n",
    "    ax.set_title(f'P{time}\\nr_a={r_a:.4f}\\nr_c={r_c:.4f}')\n",
    "    # ax.legend(bbox_to_anchor=(1,1))\n",
    "\n",
    "    sns.despine(ax=ax)\n",
    "    ax.grid(False)\n",
    "\n",
    "axs[0].set_xlabel('RNA PC1 (A-C axis; P17on)')\n",
    "axs[0].set_ylabel('ATAC')\n",
    "plt.show()"
   ]
  },
  {
   "cell_type": "markdown",
   "id": "8c7cf8f9-eeb1-48e9-922c-ae64c4d6c294",
   "metadata": {},
   "source": [
    "# get different times"
   ]
  },
  {
   "cell_type": "code",
   "execution_count": null,
   "id": "f6d599e3-8115-4735-b232-c77d3932893d",
   "metadata": {
    "tags": []
   },
   "outputs": [],
   "source": [
    "def get_integer_bins(vec):\n",
    "    \"\"\"excluding 0; \n",
    "    bins = [0, 1, ..., max(vec)] + 0.5\n",
    "    mids = [   1, ..., max(vec)]\n",
    "    \"\"\"\n",
    "    bins = np.arange(0, np.max(vec)+1) + 0.5\n",
    "    mids = np.arange(1, np.max(vec)+1)\n",
    "    frq_sig_a, _ = np.histogram(vec, bins=bins)\n",
    "    \n",
    "    return frq_sig_a, mids \n"
   ]
  },
  {
   "cell_type": "code",
   "execution_count": null,
   "id": "26d6468f-f007-4c72-adaf-3f7d6a56262b",
   "metadata": {
    "tags": []
   },
   "outputs": [],
   "source": [
    "num_sig_a = np.sum(cond_sig_a, axis=0)\n",
    "frq_sig_a, mids_sig_a = get_integer_bins(num_sig_a)\n",
    "\n",
    "num_sig_c = np.sum(cond_sig_c, axis=0)\n",
    "frq_sig_c, mids_sig_c = get_integer_bins(num_sig_c)\n",
    "\n",
    "print(frq_sig_a, frq_sig_c)"
   ]
  },
  {
   "cell_type": "code",
   "execution_count": null,
   "id": "8cccef9b-353a-4ae9-9aad-8278f021df4f",
   "metadata": {
    "tags": []
   },
   "outputs": [],
   "source": [
    "plt.plot(mids_sig_a, frq_sig_a, '-o', color='C0')\n",
    "plt.plot(mids_sig_c, frq_sig_c, '-o', color='C2')\n",
    "plt.show()"
   ]
  },
  {
   "cell_type": "code",
   "execution_count": null,
   "id": "1b3f68d0-15ad-4b51-997f-ea4b32e26d3a",
   "metadata": {
    "tags": []
   },
   "outputs": [],
   "source": [
    "plt.plot(mids_sig_a, frq_sig_a, '-o', color='C0', label='A peaks')\n",
    "plt.plot(mids_sig_c, frq_sig_c, '-o', color='C2', label='C peaks')\n",
    "for x, y in zip(mids_sig_a, frq_sig_a):\n",
    "    plt.text(7+0.5, y, y, color='C0', va='center')\n",
    "for x, y in zip(mids_sig_c, frq_sig_c):\n",
    "    plt.text(8+0.5, y, y, color='C2', va='center')\n",
    "plt.yscale('log')\n",
    "plt.xlabel('num time points')\n",
    "plt.ylabel('num peaks')\n",
    "plt.legend()\n",
    "plt.show()"
   ]
  },
  {
   "cell_type": "markdown",
   "id": "6ab49c42-e40d-4a76-aea1-244217694810",
   "metadata": {},
   "source": [
    "# persistent peaks"
   ]
  },
  {
   "cell_type": "code",
   "execution_count": null,
   "id": "a5446ad0-1bfd-4c20-80a5-aca7e78e55ac",
   "metadata": {
    "tags": []
   },
   "outputs": [],
   "source": [
    "def merge_peaks(df, chrom, start, end):\n",
    "    \"\"\"\n",
    "    \"\"\"\n",
    "    return df[chrom].astype(str)+\":\"+df[start].astype(str)+\"-\"+df[end].astype(str)\n",
    "    "
   ]
  },
  {
   "cell_type": "code",
   "execution_count": null,
   "id": "69e22205-43e8-4c7d-85d3-33317df4ebac",
   "metadata": {
    "tags": []
   },
   "outputs": [],
   "source": [
    "peakset = df_allpeaks['peak'].values\n",
    "peakset"
   ]
  },
  {
   "cell_type": "code",
   "execution_count": null,
   "id": "74911b07-d369-426c-bc56-01ca6ac6eee1",
   "metadata": {
    "tags": []
   },
   "outputs": [],
   "source": [
    "f = '/u/home/f/f7xiesnm/project-zipursky/v1-bb/v1/results_atac/all_AvsC_peaks_unique.bed'\n",
    "df_allpeaks_anno = pd.read_csv(f, sep='\\t', header=None)\n",
    "df_allpeaks_anno['peak'] = merge_peaks(df_allpeaks_anno, 0,1,2)\n",
    "df_allpeaks_anno = df_allpeaks_anno.set_index('peak')\n",
    "df_allpeaks_anno"
   ]
  },
  {
   "cell_type": "code",
   "execution_count": null,
   "id": "9f6baddf-ca38-4a53-947c-5763de68e0a7",
   "metadata": {
    "tags": []
   },
   "outputs": [],
   "source": [
    "perp_a = np.all(cond_sig_a, axis=0)\n",
    "perp_c = np.all(cond_sig_c, axis=0)\n",
    "peaks_perp_a = peakset[perp_a]\n",
    "peaks_perp_c = peakset[perp_c]"
   ]
  },
  {
   "cell_type": "code",
   "execution_count": null,
   "id": "a03ed665-d370-4edc-b485-37a1377db732",
   "metadata": {
    "tags": []
   },
   "outputs": [],
   "source": [
    "df_allpeaks_anno.loc[peaks_perp_a]"
   ]
  },
  {
   "cell_type": "code",
   "execution_count": null,
   "id": "fceb5f08-273a-4e41-b399-462251d823fd",
   "metadata": {
    "tags": []
   },
   "outputs": [],
   "source": [
    "df_allpeaks_anno.loc[peaks_perp_c]"
   ]
  },
  {
   "cell_type": "markdown",
   "id": "09c5aa2f-9920-46ec-a611-f4d530208c94",
   "metadata": {},
   "source": [
    "# Peak clusters \n",
    "\n",
    "- get the common peak set\n",
    "- filter down to AC peak set\n",
    "- cluster A peaks\n",
    "- cluster C peaks"
   ]
  },
  {
   "cell_type": "code",
   "execution_count": null,
   "id": "f5cd3b19-def6-410f-947b-380f09233bc7",
   "metadata": {},
   "outputs": [],
   "source": []
  }
 ],
 "metadata": {
  "kernelspec": {
   "display_name": "Python 3 (ipykernel)",
   "language": "python",
   "name": "python3"
  },
  "language_info": {
   "codemirror_mode": {
    "name": "ipython",
    "version": 3
   },
   "file_extension": ".py",
   "mimetype": "text/x-python",
   "name": "python",
   "nbconvert_exporter": "python",
   "pygments_lexer": "ipython3",
   "version": "3.9.16"
  }
 },
 "nbformat": 4,
 "nbformat_minor": 5
}
