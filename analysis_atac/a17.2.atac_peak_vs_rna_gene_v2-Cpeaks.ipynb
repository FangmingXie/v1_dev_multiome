{
 "cells": [
  {
   "cell_type": "code",
   "execution_count": null,
   "id": "bb214b6d-836a-49b8-93dd-a19f021215b7",
   "metadata": {
    "tags": []
   },
   "outputs": [],
   "source": [
    "import os\n",
    "import numpy as np\n",
    "import pandas as pd\n",
    "import scanpy as sc\n",
    "import anndata \n",
    "import seaborn as sns\n",
    "from scipy.stats import zscore\n",
    "import matplotlib.pyplot as plt\n",
    "import collections\n",
    "from natsort import natsorted\n",
    "\n",
    "from scipy import stats\n",
    "from scipy import sparse\n",
    "from sklearn.decomposition import PCA\n",
    "from umap import UMAP\n",
    "\n",
    "from matplotlib.colors import LinearSegmentedColormap\n",
    "\n",
    "from scroutines.config_plots import *\n",
    "from scroutines import powerplots # .config_plots import *\n",
    "from scroutines import pnmf\n",
    "from scroutines import basicu\n",
    "from scroutines.gene_modules import GeneModules  \n",
    "\n",
    "from atac_utils import merge_peaks"
   ]
  },
  {
   "cell_type": "code",
   "execution_count": null,
   "id": "b5b92643-777f-4fe6-abc7-af9c9b1cbe0a",
   "metadata": {
    "tags": []
   },
   "outputs": [],
   "source": [
    "times = [6,8,10,12,14,17,21]"
   ]
  },
  {
   "cell_type": "markdown",
   "id": "e64a9a08-3328-4dac-802e-90ba2c54b557",
   "metadata": {},
   "source": [
    "# prep the matrices\n",
    "- peaks and genes - over time and type\n",
    "\n",
    "show these matrices side-by-side\n",
    "- gene by (type & time) (zscore)\n",
    "- peak (average over the same gene) by (tye & time) (zscore)"
   ]
  },
  {
   "cell_type": "code",
   "execution_count": null,
   "id": "f45abc88-0cbc-4575-8035-9cb157c42bc2",
   "metadata": {},
   "outputs": [],
   "source": [
    "outdir_fig = \"/u/home/f/f7xiesnm/project-zipursky/v1-bb/v1/figures\""
   ]
  },
  {
   "cell_type": "code",
   "execution_count": null,
   "id": "555547d3-9124-41ec-977b-835d2520a4d3",
   "metadata": {
    "tags": []
   },
   "outputs": [],
   "source": [
    "f = '/u/home/f/f7xiesnm/project-zipursky/v1-bb/v1/results_atac/all_ac_genes_unique.bed'\n",
    "df_genes_ordered = pd.read_csv(f, sep='\\t', header=None)\n",
    "df_genes_ordered['isA'] = df_genes_ordered[4].str.contains('A')\n",
    "df_genes_ordered['isC'] = df_genes_ordered[4].str.contains('C')\n",
    "df_genes_ordered['isAC'] = np.logical_and(df_genes_ordered['isA'], df_genes_ordered['isC'])\n",
    "df_genes_ordered"
   ]
  },
  {
   "cell_type": "markdown",
   "id": "1bb1cb2a-f495-45c9-9219-43ff16678a86",
   "metadata": {},
   "source": [
    "# select C peaks"
   ]
  },
  {
   "cell_type": "code",
   "execution_count": null,
   "id": "56299964-3479-480c-96f9-0ef03ef0dbd1",
   "metadata": {
    "tags": []
   },
   "outputs": [],
   "source": [
    "cond_gene = df_genes_ordered['isC'].values\n",
    "selected_genes = df_genes_ordered[cond_gene][3] # .values\n",
    "genes_order = selected_genes.values\n",
    "genes_order_idx = selected_genes.index.values \n",
    "genes_order, genes_order_idx"
   ]
  },
  {
   "cell_type": "code",
   "execution_count": null,
   "id": "1533d49f-7842-416b-868f-d460cc60491f",
   "metadata": {},
   "outputs": [],
   "source": [
    "wkdir = \"/u/home/f/f7xiesnm/project-zipursky/v1-bb/v1/results_atac/\" \n",
    "f_out = wkdir+\"all_ac_peaks_to_ac_genes.bed\"\n",
    "\n",
    "df_res = pd.read_csv(f_out, sep='\\t', header=None)\n",
    "cond_peak = np.logical_and(\n",
    "    (df_res[9]<1e6).values,\n",
    "     df_res[7].isin(genes_order),\n",
    ")\n",
    "df_res2 = df_res[cond_peak].copy()\n",
    "df_res2"
   ]
  },
  {
   "cell_type": "code",
   "execution_count": null,
   "id": "33ec9952-5459-4b09-a814-cb3b46a58643",
   "metadata": {
    "tags": []
   },
   "outputs": [],
   "source": [
    "f = '/u/home/f/f7xiesnm/project-zipursky/v1-bb/v1/results_atac/all_AvsC_peak_tensor.npy'\n",
    "tensor_peak = np.load(f)\n",
    "tensor_peak.shape"
   ]
  },
  {
   "cell_type": "code",
   "execution_count": null,
   "id": "ea0e4cc4-efc5-4074-9c74-bb6380898399",
   "metadata": {
    "tags": []
   },
   "outputs": [],
   "source": [
    "f = '/u/home/f/f7xiesnm/project-zipursky/v1-bb/v1/results_atac/all_ac_genes_tensor.npy'\n",
    "tensor_rna = np.load(f)\n",
    "tensor_rna.shape"
   ]
  },
  {
   "cell_type": "code",
   "execution_count": null,
   "id": "3a73f978-2208-4dcd-9c07-513d55b6e7d9",
   "metadata": {
    "tags": []
   },
   "outputs": [],
   "source": [
    "tensor_peak_sub = tensor_peak[:,:,:,cond_peak]\n",
    "tensor_peak_sub.shape"
   ]
  },
  {
   "cell_type": "code",
   "execution_count": null,
   "id": "aa2ee4af-27f6-4222-a410-775a7b4f1d50",
   "metadata": {
    "tags": []
   },
   "outputs": [],
   "source": [
    "tensor_rna_sub = tensor_rna[:,:,:,cond_gene]\n",
    "tensor_rna_sub.shape"
   ]
  },
  {
   "cell_type": "code",
   "execution_count": null,
   "id": "4e1f8fc3-a004-43f1-a5b1-47070483c702",
   "metadata": {
    "tags": []
   },
   "outputs": [],
   "source": [
    "# get A\n",
    "A = tensor_rna_sub.copy()\n",
    "A = 1.0/2*(A[:,:,0,:]+A[:,:,1,:])\n",
    "A = (A.reshape(-1, A.shape[-1]))\n",
    "A = (A-np.mean(A, axis=0))/np.std(A, axis=0)\n",
    "A = A.T\n",
    "A.shape"
   ]
  },
  {
   "cell_type": "code",
   "execution_count": null,
   "id": "a6164e3e-d572-4d46-89d5-9df0caafd8cb",
   "metadata": {
    "tags": []
   },
   "outputs": [],
   "source": [
    "# get a gene by peak association matrix \n",
    "n_peaks = len(df_res2)\n",
    "n_genes = len(genes_order)\n",
    "closest_gene_to_peaks = df_res2[7].values\n",
    "\n",
    "peak_idx = np.arange(n_peaks)\n",
    "gene_idx = basicu.get_index_from_array(genes_order, closest_gene_to_peaks)\n",
    "print(peak_idx, peak_idx.shape)\n",
    "print(gene_idx, gene_idx.shape)\n",
    "I_pg = np.array(sparse.coo_matrix(([1]*n_peaks, (peak_idx, gene_idx)), shape=(n_peaks, n_genes)).todense())\n",
    "I_pg = (I_pg)/(I_pg.sum(axis=0)+1e-10)\n",
    "\n",
    "# get B\n",
    "B = tensor_peak_sub.copy()\n",
    "B = 1.0/2*(B[:,:,0,:]+B[:,:,1,:])\n",
    "B = (B.reshape(-1, B.shape[-1]))\n",
    "B = (B-np.mean(B, axis=0))/np.std(B, axis=0)\n",
    "B = (B.dot(I_pg)).T\n",
    "B.shape"
   ]
  },
  {
   "cell_type": "markdown",
   "id": "368450a1-35dd-4b19-acbc-8c42967c1b1d",
   "metadata": {},
   "source": [
    "# same order"
   ]
  },
  {
   "cell_type": "code",
   "execution_count": null,
   "id": "9005746b-4b9c-417b-bde8-896bf1e88027",
   "metadata": {},
   "outputs": [],
   "source": [
    "from scipy.cluster.hierarchy import linkage, dendrogram"
   ]
  },
  {
   "cell_type": "code",
   "execution_count": null,
   "id": "ffe06294-278c-40e6-b67b-16d8e8cdebc6",
   "metadata": {
    "tags": []
   },
   "outputs": [],
   "source": [
    "def plot_heatmaps(configs, tree=None, size_x=6, size_y=12):\n",
    "    \"\"\"\n",
    "    \"\"\"\n",
    "    n_width = 3\n",
    "    n_plots = len(configs)\n",
    "    fullsize_x = n_plots*size_x \n",
    "    \n",
    "    mosaic = \"\".join(np.repeat(np.arange(n_plots), n_width).astype(str))\n",
    "    \n",
    "    if tree is not None:\n",
    "        # size_x, size_y = 8, 10\n",
    "        mosaic = \"A\" + mosaic\n",
    "        fullsize_x += 1/n_width*size_x\n",
    "        \n",
    "    fig, axs = plt.subplot_mosaic(mosaic, figsize=(fullsize_x,size_y))\n",
    "    if tree is not None:\n",
    "        ax = axs['A']\n",
    "        Z = tree['Z']\n",
    "        dendrogram(Z, ax=ax, orientation='left', color_threshold=False, above_threshold_color='k')\n",
    "        ax.grid(False)\n",
    "        ax.axis('off')\n",
    "        \n",
    "    for i_plot, config in enumerate(configs):\n",
    "        ax = axs[f'{i_plot}']\n",
    "        mat = config['mat']\n",
    "        title = config['title']\n",
    "        ylabel = config['ylabel']\n",
    "        vmin = config['vmin']\n",
    "        vmax = config['vmax']\n",
    "        cbar_label = config['cbar_label']\n",
    "        \n",
    "        cbar_kws = dict(shrink=0.5, orientation='horizontal', pad=0.05, label=cbar_label)\n",
    "        if tree is not None:\n",
    "            cbar_kws = dict(shrink=0.2, pad=0.05, label=cbar_label)\n",
    "\n",
    "        sns.heatmap(mat, cmap='coolwarm', vmax=vmax, vmin=vmin, \n",
    "                    cbar_kws=cbar_kws,\n",
    "                    ax=ax)\n",
    "        for i in np.arange(len(times)):\n",
    "            ax.axvline(i*n_type, color='k', linestyle='--', linewidth=1)\n",
    "            ax.text(i*n_type, 0, f'P{times[i]}', fontsize=15)\n",
    "        ax.set_title(title, pad=15)\n",
    "        ax.set_ylabel(ylabel)\n",
    "        ax.set_xticks(0.5+np.arange(n_type))\n",
    "        ax.set_xticklabels(['A', '', 'B', '', 'C'], fontsize=10)\n",
    "        ax.set_yticks(np.arange(0, len(mat), 50))\n",
    "        ax.set_yticklabels(np.arange(0, len(mat), 50), fontsize=10)\n",
    "    fig.tight_layout()\n",
    "    plt.show()"
   ]
  },
  {
   "cell_type": "code",
   "execution_count": null,
   "id": "c326d2e5-7dea-4a47-bafe-e32c2f1431f0",
   "metadata": {
    "tags": []
   },
   "outputs": [],
   "source": [
    "n_type = 5\n",
    "\n",
    "Z_a = linkage(A, method='ward')#, metric='correlation')\n",
    "leaves_a = dendrogram(Z_a, no_plot=True)['leaves']\n",
    "\n",
    "Z_b = linkage(B, method='ward')#, metric='correlation')\n",
    "leaves_b = dendrogram(Z_b, no_plot=True)['leaves']\n",
    "\n",
    "Z_ab = linkage(np.hstack([A,B]), method='ward')#, metric='correlation')\n",
    "leaves_ab = dendrogram(Z_ab, no_plot=True)['leaves']\n",
    "\n",
    "\n",
    "A_a  = A[leaves_a]\n",
    "A_b  = A[leaves_b]\n",
    "A_ab = A[leaves_ab]\n",
    "\n",
    "B_a  = B[leaves_a]\n",
    "B_b  = B[leaves_b]\n",
    "B_ab = B[leaves_ab]"
   ]
  },
  {
   "cell_type": "code",
   "execution_count": null,
   "id": "081941e8-8038-4143-b78b-0d3e93513171",
   "metadata": {
    "tags": []
   },
   "outputs": [],
   "source": [
    "configs = [\n",
    "    {\n",
    "    'mat': A_a, 'title': 'RNA', 'ylabel': 'genes',\n",
    "    'cbar_label': 'zscore', 'vmin': -3, 'vmax': 3,\n",
    "    },\n",
    "    \n",
    "    {\n",
    "    'mat': A_ab, 'title': 'RNA', 'ylabel': 'genes',\n",
    "    'cbar_label': 'zscore', 'vmin': -3, 'vmax': 3,\n",
    "    },\n",
    "    \n",
    "    {\n",
    "    'mat': A_b, 'title': 'RNA', 'ylabel': 'genes',\n",
    "    'cbar_label': 'zscore', 'vmin': -3, 'vmax': 3,\n",
    "    },\n",
    "    \n",
    "    {\n",
    "    'mat': B_b, 'title': 'ATAC', 'ylabel': 'peaks',\n",
    "    'cbar_label': 'zscore', 'vmin': -2, 'vmax': 2,\n",
    "    },\n",
    "    \n",
    "    {\n",
    "    'mat': B_ab, 'title': 'ATAC', 'ylabel': 'peaks',\n",
    "    'cbar_label': 'zscore', 'vmin': -2, 'vmax': 2,\n",
    "    },\n",
    "    \n",
    "    {\n",
    "    'mat': B_a, 'title': 'ATAC', 'ylabel': 'peaks',\n",
    "    'cbar_label': 'zscore', 'vmin': -2, 'vmax': 2,\n",
    "    },\n",
    "]"
   ]
  },
  {
   "cell_type": "code",
   "execution_count": null,
   "id": "303e29e6-53d6-4e57-bb2b-2c8a01f76f3e",
   "metadata": {
    "tags": []
   },
   "outputs": [],
   "source": [
    "plot_heatmaps([configs[0], configs[1], configs[2]])"
   ]
  },
  {
   "cell_type": "code",
   "execution_count": null,
   "id": "cf67037b-e993-4c49-baa5-d3c4e72277df",
   "metadata": {
    "tags": []
   },
   "outputs": [],
   "source": [
    "plot_heatmaps([configs[3], configs[4], configs[5]],)"
   ]
  },
  {
   "cell_type": "code",
   "execution_count": null,
   "id": "bdc9d477-e7b9-4569-b056-67668d43ef36",
   "metadata": {
    "tags": []
   },
   "outputs": [],
   "source": [
    "plot_heatmaps([configs[0]], tree=dict(Z=Z_a))\n",
    "plot_heatmaps([configs[3]], tree=dict(Z=Z_b))\n",
    "plot_heatmaps([configs[1], configs[4]], tree=dict(Z=Z_ab))"
   ]
  },
  {
   "cell_type": "code",
   "execution_count": null,
   "id": "e557ecd8-caf4-4f9b-b3f2-2c59e59b90e7",
   "metadata": {},
   "outputs": [],
   "source": []
  },
  {
   "cell_type": "code",
   "execution_count": null,
   "id": "6c27a702-ab1a-4510-ab1a-1cd071a73d1e",
   "metadata": {},
   "outputs": [],
   "source": []
  }
 ],
 "metadata": {
  "kernelspec": {
   "display_name": "Python 3 (ipykernel)",
   "language": "python",
   "name": "python3"
  },
  "language_info": {
   "codemirror_mode": {
    "name": "ipython",
    "version": 3
   },
   "file_extension": ".py",
   "mimetype": "text/x-python",
   "name": "python",
   "nbconvert_exporter": "python",
   "pygments_lexer": "ipython3",
   "version": "3.9.16"
  }
 },
 "nbformat": 4,
 "nbformat_minor": 5
}
