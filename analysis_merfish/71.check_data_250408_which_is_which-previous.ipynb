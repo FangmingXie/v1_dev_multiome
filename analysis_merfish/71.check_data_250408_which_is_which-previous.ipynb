{
 "cells": [
  {
   "cell_type": "code",
   "execution_count": null,
   "id": "aa503af1-8bb5-427a-8241-06e28faa45f3",
   "metadata": {
    "tags": []
   },
   "outputs": [],
   "source": [
    "import numpy as np\n",
    "import pandas as pd\n",
    "import matplotlib.pyplot as plt\n",
    "import seaborn as sns\n",
    "import anndata as ad\n",
    "import scanpy as sc\n",
    "from scipy import stats\n",
    "import os\n",
    "\n",
    "from sklearn.decomposition import PCA\n",
    "from sklearn.cluster import KMeans\n",
    "from umap import UMAP\n",
    "\n",
    "from scroutines import powerplots\n",
    "from scroutines.miscu import is_in_polygon"
   ]
  },
  {
   "cell_type": "markdown",
   "id": "948e0c4c-761e-4757-9027-2c6f309b4245",
   "metadata": {},
   "source": [
    "# load input"
   ]
  },
  {
   "cell_type": "code",
   "execution_count": null,
   "id": "769a58da-208c-4931-9f88-232631d3a71d",
   "metadata": {
    "tags": []
   },
   "outputs": [],
   "source": [
    "from merfish_datasets import merfish_datasets as directories"
   ]
  },
  {
   "cell_type": "code",
   "execution_count": null,
   "id": "1abfa400-a56a-4bdd-b61a-d962b03ae2b1",
   "metadata": {
    "tags": []
   },
   "outputs": [],
   "source": [
    "outdir     = \"/u/home/f/f7xiesnm/project-zipursky/v1-bb/v1/results_merfish/plots_250408\"\n",
    "outdatadir = \"/u/home/f/f7xiesnm/project-zipursky/v1-bb/v1/data/merfish/organized\"\n",
    "!mkdir -p $outdir\n",
    "!mkdir -p $outdatadir"
   ]
  },
  {
   "cell_type": "code",
   "execution_count": null,
   "id": "65755c3a-974e-40da-84b8-4e9e5a5c2150",
   "metadata": {
    "tags": []
   },
   "outputs": [],
   "source": [
    "def query_names(names):\n",
    "    \"\"\"\n",
    "    \"\"\"\n",
    "    dfs = []\n",
    "    # merfish_202311141420\n",
    "    for name in names:\n",
    "        dirc = directories[name]\n",
    "        f2 = os.path.join('/u/home/f/f7xiesnm/project-zipursky/v1-bb/v1/data/merfish', dirc, 'cell_metadata.csv')\n",
    "        df2 = pd.read_csv(f2)\n",
    "        dfs.append(df2)\n",
    "\n",
    "    fig, ax = plt.subplots()\n",
    "    for i in range(len(dfs)): \n",
    "        x = dfs[i]['center_x']\n",
    "        y = dfs[i]['center_y']\n",
    "        ax.scatter(x, y, s=0.05, edgecolor='none')\n",
    "    ax.invert_yaxis()\n",
    "    plt.show()"
   ]
  },
  {
   "cell_type": "markdown",
   "id": "1a3fa9ac-41c2-4469-8c8c-40ee9f1a27e2",
   "metadata": {
    "tags": []
   },
   "source": [
    "# batch 2"
   ]
  },
  {
   "cell_type": "code",
   "execution_count": null,
   "id": "0d57b708-464e-4b53-8632-7d54a922c1da",
   "metadata": {
    "tags": []
   },
   "outputs": [],
   "source": [
    "names = ['P21NRa_ant', 'P21DRa_ant', 'P28DRa_ant',]\n",
    "query_names(names)\n",
    "names = ['P21NRa_pos', 'P21DRa_pos', 'P28DRa_pos',]\n",
    "query_names(names)"
   ]
  },
  {
   "cell_type": "markdown",
   "id": "045a36c1-4b4a-4a17-8942-a8e90538363e",
   "metadata": {
    "tags": []
   },
   "source": [
    "# batch 3"
   ]
  },
  {
   "cell_type": "code",
   "execution_count": null,
   "id": "34f64ec3-a498-42fa-a1e1-bc88f5f392b5",
   "metadata": {
    "tags": []
   },
   "outputs": [],
   "source": [
    "names = ['P21NRb_ant', 'P21DRb_ant', 'P28DRb_ant',]\n",
    "query_names(names)\n",
    "names = ['P21NRb_pos', 'P21DRb_pos', 'P28DRb_pos',]\n",
    "query_names(names)"
   ]
  },
  {
   "cell_type": "markdown",
   "id": "c637acda-c135-4da1-8f74-3b614ba825ec",
   "metadata": {},
   "source": [
    "# batch 4"
   ]
  },
  {
   "cell_type": "code",
   "execution_count": null,
   "id": "a64121a1-9485-49a4-b0f8-d6ddcaae87a0",
   "metadata": {
    "tags": []
   },
   "outputs": [],
   "source": [
    "dfs = []\n",
    "# merfish_202503111431\n",
    "names = ['P21NRc_ant', 'P8NRa_ant', 'P8NRb_ant', 'P8NRc_ant', 'P8NRd_ant',]\n",
    "query_names(names)\n",
    "\n",
    "# merfish_202503111242\n",
    "names = ['P21NRc_pos', 'P8NRa_pos', 'P8NRb_pos', 'P8NRc_pos', 'R5_pos',]\n",
    "query_names(names)\n",
    "\n",
    "# exp merfish_202503191505 (repeated experiments) same animals diff. sections? \n",
    "names = ['P21NRc_ant2', 'P8NRa_ant2', 'P8NRb_ant2', 'P8NRc_ant2', 'P8NRd_ant2',]\n",
    "query_names(names)\n",
    "\n",
    "# exp merfish_202503191540\n",
    "names = ['P21NRc_pos2', 'P21NRc_pos2a', 'P8NRa_pos2', 'P8NRb_pos2', 'P8NRc_pos2', 'P8NRd_pos2',]\n",
    "query_names(names)"
   ]
  },
  {
   "cell_type": "code",
   "execution_count": null,
   "id": "04dea712-cc8c-426e-b4e4-28350e2c954f",
   "metadata": {},
   "outputs": [],
   "source": []
  }
 ],
 "metadata": {
  "kernelspec": {
   "display_name": "napari",
   "language": "python",
   "name": "napari"
  },
  "language_info": {
   "codemirror_mode": {
    "name": "ipython",
    "version": 3
   },
   "file_extension": ".py",
   "mimetype": "text/x-python",
   "name": "python",
   "nbconvert_exporter": "python",
   "pygments_lexer": "ipython3",
   "version": "3.9.16"
  }
 },
 "nbformat": 4,
 "nbformat_minor": 5
}
