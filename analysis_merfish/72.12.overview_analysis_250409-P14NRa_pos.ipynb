{
 "cells": [
  {
   "cell_type": "code",
   "execution_count": null,
   "id": "aa503af1-8bb5-427a-8241-06e28faa45f3",
   "metadata": {
    "tags": []
   },
   "outputs": [],
   "source": [
    "import numpy as np\n",
    "import pandas as pd\n",
    "import matplotlib.pyplot as plt\n",
    "import seaborn as sns\n",
    "import anndata as ad\n",
    "import scanpy as sc\n",
    "from scipy import stats\n",
    "import os\n",
    "\n",
    "from scipy import spatial\n",
    "from scipy import sparse\n",
    "from scipy.interpolate import CubicSpline\n",
    "from sklearn.decomposition import PCA\n",
    "from sklearn.cluster import KMeans\n",
    "from sklearn.neighbors import NearestNeighbors\n",
    "import networkx as nx\n",
    "from umap import UMAP\n",
    "\n",
    "import json"
   ]
  },
  {
   "cell_type": "code",
   "execution_count": null,
   "id": "0f45245f-11c8-4e6e-b181-d2bf21e8c459",
   "metadata": {},
   "outputs": [],
   "source": [
    "import importlib\n",
    "\n",
    "from scroutines import powerplots\n",
    "from scroutines.miscu import is_in_polygon\n",
    "\n",
    "import utils_merfish\n",
    "importlib.reload(utils_merfish)\n",
    "from utils_merfish import rot2d, st_scatter, st_scatter_ax, plot_cluster, binning\n",
    "from utils_merfish import RefLineSegs\n",
    "\n",
    "from merfish_datasets import merfish_datasets\n",
    "from merfish_datasets import merfish_datasets_params"
   ]
  },
  {
   "cell_type": "code",
   "execution_count": null,
   "id": "5ee31c0c-9fc3-4bf8-a36e-1cdb4fe398dc",
   "metadata": {
    "tags": []
   },
   "outputs": [],
   "source": [
    "def get_qc_metrics(df):\n",
    "    \"\"\"\n",
    "    return metrics\n",
    "     - key\n",
    "      - (name, val, medval, bins)\n",
    "    \"\"\"\n",
    "    metrics = {}\n",
    "    cols  = ['volume', 'gncov', 'gnnum']\n",
    "    names = ['cell volume', 'num transcripts', 'num genes']\n",
    "    \n",
    "    for col, name in zip(cols, names):\n",
    "        val = df[col].values\n",
    "        medval = np.median(val)\n",
    "        bins = np.linspace(0, 10*medval, 50)\n",
    "        \n",
    "        metrics[col] = (name, val, medval, bins)\n",
    "    return metrics\n",
    "\n",
    "def get_norm_counts(adata, scaling=500):\n",
    "    \"\"\"norm - equalize the volume to be 500 for all cells\n",
    "    \"\"\"\n",
    "    cnts = adata.X\n",
    "    vol = adata.obs['volume'].values\n",
    "    normcnts = cnts/vol.reshape(-1,1)*scaling\n",
    "    adata.layers['norm'] = normcnts\n",
    "    \n",
    "    return normcnts"
   ]
  },
  {
   "cell_type": "code",
   "execution_count": null,
   "id": "f966b334-541e-4e6a-a02b-99b26455e254",
   "metadata": {
    "tags": []
   },
   "outputs": [],
   "source": [
    "def get_largest_spatial_components(adata, k=100, dist_th=80):\n",
    "    \"\"\"\n",
    "    k - number of neighbors\n",
    "    dist_th - distance to call connected components\n",
    "    \n",
    "    returns\n",
    "        - indices of the largest components\n",
    "    \"\"\"\n",
    "    XY = adata.obs[['x', 'y']].values\n",
    "    nc = len(XY)\n",
    "\n",
    "    # kNN\n",
    "    nbrs = NearestNeighbors(n_neighbors=k, algorithm='auto').fit(XY)\n",
    "    distances, indices = nbrs.kneighbors(XY)\n",
    "\n",
    "    # filtered by distance th\n",
    "    val = distances[:,1:].reshape(-1,)\n",
    "    i = np.repeat(indices[:,0],k-1)\n",
    "    j = indices[:,1:].reshape(-1,)\n",
    "\n",
    "    indices_filtered = np.vstack([i[val < dist_th], j[val < dist_th]]).T\n",
    "\n",
    "    G = nx.Graph()\n",
    "    G.add_nodes_from(np.arange(nc))\n",
    "    G.add_edges_from(indices_filtered)\n",
    "    components = nx.connected_components(G)\n",
    "    largest_component = max(components, key=len)\n",
    "    indices_selected = np.array(list(largest_component))\n",
    "\n",
    "    print(f\"fraction of cells included: {len(largest_component)/nc: .2f}\" )\n",
    "    \n",
    "    return indices_selected, XY"
   ]
  },
  {
   "cell_type": "markdown",
   "id": "948e0c4c-761e-4757-9027-2c6f309b4245",
   "metadata": {},
   "source": [
    "# load data and construct adata "
   ]
  },
  {
   "cell_type": "code",
   "execution_count": null,
   "id": "39889430-5345-48d5-acb5-32a077eb6b85",
   "metadata": {},
   "outputs": [],
   "source": [
    "np.random.seed(0)"
   ]
  },
  {
   "cell_type": "code",
   "execution_count": null,
   "id": "1abfa400-a56a-4bdd-b61a-d962b03ae2b1",
   "metadata": {
    "tags": []
   },
   "outputs": [],
   "source": [
    "outdir     = \"/u/home/f/f7xiesnm/project-zipursky/v1-bb/v1/results_merfish/plots_250410\"\n",
    "outdatadir = \"/u/home/f/f7xiesnm/project-zipursky/v1-bb/v1/data/merfish/organized\"\n",
    "!mkdir -p $outdir\n",
    "!mkdir -p $outdatadir"
   ]
  },
  {
   "cell_type": "code",
   "execution_count": null,
   "id": "2933bc97-6d92-4b30-a846-d965d7d27592",
   "metadata": {
    "tags": []
   },
   "outputs": [],
   "source": [
    "merfish_datasets, merfish_datasets_params"
   ]
  },
  {
   "cell_type": "code",
   "execution_count": null,
   "id": "a64121a1-9485-49a4-b0f8-d6ddcaae87a0",
   "metadata": {
    "tags": []
   },
   "outputs": [],
   "source": [
    "name = 'P14NRa_pos'\n",
    "dirc = merfish_datasets[name]\n",
    "params = merfish_datasets_params[name]\n",
    "\n",
    "f1 = os.path.join('/u/home/f/f7xiesnm/project-zipursky/v1-bb/v1/data/merfish', dirc, 'cell_by_gene.csv')\n",
    "f2 = os.path.join('/u/home/f/f7xiesnm/project-zipursky/v1-bb/v1/data/merfish', dirc, 'cell_metadata.csv')\n",
    "output_l0      = outdatadir + f'/{name}_l0_hemibrain_250410.h5ad'\n",
    "output_l1      = outdatadir + f'/{name}_l1_wholecortex_250410.h5ad'\n",
    "output_l2      = outdatadir + f'/{name}_l2_v1_250410.h5ad'\n",
    "\n",
    "dirc, params"
   ]
  },
  {
   "cell_type": "code",
   "execution_count": null,
   "id": "38503b56-02fd-4896-8d64-8a6e5ee1be53",
   "metadata": {
    "tags": []
   },
   "outputs": [],
   "source": [
    "df1 = pd.read_csv(f1)\n",
    "df2 = pd.read_csv(f2)\n",
    "genes = df1.iloc[:,1:-50].columns\n",
    "blnks = df1.iloc[:, -50:].columns\n",
    "df = df2.join(df1)\n",
    "\n",
    "print(df1.shape, df2.shape, len(genes), len(blnks))\n",
    "assert np.all(df['cell'] == df['EntityID'])\n",
    "\n",
    "df['fpcov'] =  df[blnks].sum(axis=1)\n",
    "df['gncov'] =  df[genes].sum(axis=1)\n",
    "df['gnnum'] = (df[genes]>0).sum(axis=1)\n",
    "metacols = np.hstack([df2.columns, 'gncov', 'gnnum', 'fpcov', ])\n",
    "\n",
    "# metrics\n",
    "metrics = get_qc_metrics(df)  # median, bin, distribution\n",
    "\n",
    "# adata\n",
    "adata = ad.AnnData(X=df[genes].values, \n",
    "                   obsm=dict(blanks=df[blnks].values),\n",
    "                   obs=df[metacols], \n",
    "                   var=pd.DataFrame(index=genes), \n",
    "                  )"
   ]
  },
  {
   "cell_type": "code",
   "execution_count": null,
   "id": "c50603dd-2c9e-49ea-a1e1-26b44e7eafd5",
   "metadata": {
    "tags": []
   },
   "outputs": [],
   "source": [
    "fig, axs = plt.subplots(1,3,figsize=(3*5,1*4))\n",
    "for ax, (key, metric) in zip(axs, metrics.items()):\n",
    "    (name, val, medval, bins) = metric\n",
    "    \n",
    "    sns.histplot(val, element='step', bins=bins, ax=ax, stat='percent')\n",
    "    sns.despine(ax=ax)\n",
    "    ax.axvline(medval, color='k',)\n",
    "    ax.text(medval, 0, medval)\n",
    "    ax.set_xlabel(name)\n",
    "plt.show()\n",
    "\n",
    "\n",
    "factors = np.array(['volume', 'PolyT_raw', 'gncov'])\n",
    "pairs = [[0,1], [0,2], [1,2]]\n",
    "fig, axs = plt.subplots(1,3,figsize=(3*5,1*4))\n",
    "for pair, ax in zip(pairs, axs):\n",
    "    f0 = factors[pair[0]]\n",
    "    f1 = factors[pair[1]]\n",
    "    x, y = np.log10(1+df[f0]), np.log10(1+df[f1])\n",
    "    r, p = stats.pearsonr(x, y)\n",
    "    ax.scatter(x, y, s=1)\n",
    "    ax.set_xlabel(f0)\n",
    "    ax.set_ylabel(f1)\n",
    "    ax.set_title(f'r = {r:.2g}')\n",
    "    \n",
    "plt.show()"
   ]
  },
  {
   "cell_type": "markdown",
   "id": "45b0cb50-d8ac-47e4-b594-3a6c5fd86ecf",
   "metadata": {
    "tags": []
   },
   "source": [
    "# rotation"
   ]
  },
  {
   "cell_type": "code",
   "execution_count": null,
   "id": "ec862dc3-7b5c-4efc-bcd4-0807bf0f0e11",
   "metadata": {
    "tags": []
   },
   "outputs": [],
   "source": [
    "rotation = 90 #params['rotation']\n",
    "flip = False # False\n",
    "\n",
    "# calibrate coordinates\n",
    "adata.uns['rotation'] = rotation\n",
    "\n",
    "x = adata.obs['center_x']\n",
    "y = adata.obs['center_y']\n",
    "xr, yr = rot2d(x, y, rotation)\n",
    "if flip:\n",
    "    xr = -xr\n",
    "adata.obs['x'] = xr\n",
    "adata.obs['y'] = yr\n",
    "\n",
    "gn = 'Slc17a7'\n",
    "g = adata[:,gn].X.reshape(-1,)\n",
    "fig, axs = plt.subplots(1,2,figsize=(2*8,1*6))\n",
    "ax1, ax2 = axs\n",
    "st_scatter_ax(fig, ax1, x,  y,  gexp=g, title=gn, axis_off=False)\n",
    "st_scatter_ax(fig, ax2, xr, yr, gexp=g, title=gn, axis_off=False)\n",
    "plt.show()"
   ]
  },
  {
   "cell_type": "code",
   "execution_count": null,
   "id": "28ef664b-e25c-413f-a479-679c0037113c",
   "metadata": {},
   "outputs": [],
   "source": []
  },
  {
   "cell_type": "code",
   "execution_count": null,
   "id": "b210f2cf-515b-4f9e-9014-075147adb8ff",
   "metadata": {
    "tags": []
   },
   "outputs": [],
   "source": [
    "sns.histplot(adata.obs['fpcov'], )"
   ]
  },
  {
   "cell_type": "markdown",
   "id": "47f9bb1a-aa86-441d-b11a-4d4c5d581470",
   "metadata": {},
   "source": [
    "# filter #1 basic QC metrics"
   ]
  },
  {
   "cell_type": "code",
   "execution_count": null,
   "id": "8104cb27-57cf-4c4f-be9c-8b92157ff371",
   "metadata": {
    "tags": []
   },
   "outputs": [],
   "source": [
    "print(adata.shape)\n",
    "# basic QC filter\n",
    "cond = np.all([\n",
    "    adata.obs['volume'] > 50, \n",
    "    adata.obs['volume'] < 7000, \n",
    "    adata.obs['fpcov'] < 10, # 5\n",
    "    adata.obs['gncov'] > 10,\n",
    "    adata.obs['y'] >  9000,\n",
    "    adata.obs['x'] > -5000,\n",
    "], axis=0)\n",
    "\n",
    "adata = adata[cond]\n",
    "print(adata.shape)"
   ]
  },
  {
   "cell_type": "code",
   "execution_count": null,
   "id": "60310c68-c6a2-487a-ae4b-7f7fc25f458a",
   "metadata": {
    "tags": []
   },
   "outputs": [],
   "source": [
    "gns = [\n",
    "    'Slc17a7',\n",
    "    ]\n",
    "for gn in gns: \n",
    "    g = adata[:,gn].X.reshape(-1,)\n",
    "    xr = adata.obs['x']\n",
    "    yr = adata.obs['y']\n",
    "    fig, ax = plt.subplots(1,1,figsize=(1*8,1*6))\n",
    "    st_scatter_ax(fig, ax, xr, yr, gexp=g, title=gn, axis_off=False)\n",
    "    plt.show()"
   ]
  },
  {
   "cell_type": "code",
   "execution_count": null,
   "id": "db1d9e89-518b-4942-a514-7352a8464a47",
   "metadata": {
    "tags": []
   },
   "outputs": [],
   "source": [
    "gns = [\n",
    "    'Slc17a7',\n",
    "    'Gad1',\n",
    "    'Sox10', \n",
    "    'Slc6a13',\n",
    "    ]\n",
    "for gn in gns: \n",
    "    g = adata[:,gn].X.reshape(-1,)\n",
    "    xr = adata.obs['x']\n",
    "    yr = adata.obs['y']\n",
    "    fig, ax = plt.subplots(1,1,figsize=(1*8,1*6))\n",
    "    st_scatter_ax(fig, ax, xr, yr, gexp=g, title=gn, axis_off=False)\n",
    "    ax.axis(False)\n",
    "    plt.show()"
   ]
  },
  {
   "cell_type": "markdown",
   "id": "880f125c-58b6-44f0-a655-a706e344ece1",
   "metadata": {},
   "source": [
    "# spatial domain analysis"
   ]
  },
  {
   "cell_type": "code",
   "execution_count": null,
   "id": "7eacdd32-b35f-4e5c-8895-deac1c55eb48",
   "metadata": {
    "tags": []
   },
   "outputs": [],
   "source": [
    "importlib.reload(utils_merfish)"
   ]
  },
  {
   "cell_type": "code",
   "execution_count": null,
   "id": "08469d87-b6bc-454a-9cf3-6c1a2d9327c5",
   "metadata": {
    "tags": []
   },
   "outputs": [],
   "source": [
    "# redo metrics\n",
    "metrics = get_qc_metrics(adata.obs)\n",
    "# norm\n",
    "nrmcnts = get_norm_counts(adata)\n",
    "\n",
    "# scale log zscore PCs\n",
    "_, cov, medcov, _ = metrics['gncov']\n",
    "jnorm = adata.layers['norm']/cov.reshape(-1,1)*250\n",
    "ljnorm = np.log10(1+jnorm)\n",
    "zljnorm = stats.zscore(ljnorm, axis=0)\n",
    "pcs = PCA(n_components=50).fit_transform(zljnorm) # all genes rather than highly variable genes \n",
    "\n",
    "# pca\n",
    "adata.layers['jnorm'] = jnorm\n",
    "adata.obsm['X_pca'] = pcs"
   ]
  },
  {
   "cell_type": "code",
   "execution_count": null,
   "id": "5db51eb5-7c2f-4ccb-b329-21cb6b609cc9",
   "metadata": {
    "tags": []
   },
   "outputs": [],
   "source": [
    "%%time\n",
    "# this part takes long - minutes\n",
    "# spatial\n",
    "adata.obsm['X_xy'] = adata.obs[['x', 'y']].values\n",
    "\n",
    "# gene neighbors and spatial neighbors\n",
    "sc.pp.neighbors(adata, use_rep='X_pca', random_state=0)\n",
    "sc.pp.neighbors(adata, use_rep='X_xy', key_added='xy', random_state=0)\n",
    "\n",
    "# blending\n",
    "alpha = 0.5\n",
    "joint_graph = (1 - alpha) * adata.obsp[\"connectivities\"] + alpha * adata.obsp[\"xy_connectivities\"]\n",
    "sc.tl.leiden(adata, adjacency=joint_graph, key_added=\"blended_domains\", random_state=0)"
   ]
  },
  {
   "cell_type": "code",
   "execution_count": null,
   "id": "10f84cf0-5f21-4092-a47e-60779a12c618",
   "metadata": {
    "tags": []
   },
   "outputs": [],
   "source": [
    "n_unq_clsts = len(adata.obs['blended_domains'].unique())\n",
    "clsts_palette, clsts_cmap = utils_merfish.generate_discrete_cmap([10, n_unq_clsts-10], keys=['tab20', 'Set2'])\n",
    "clsts_palette2, clsts_cmap2 = utils_merfish.generate_discrete_cmap([1, 10, n_unq_clsts-10], keys=['light:b', 'tab20', 'Set2'])\n",
    "clsts_cmap"
   ]
  },
  {
   "cell_type": "code",
   "execution_count": null,
   "id": "d5cc3751-e94d-4478-af83-013e5fc05ef0",
   "metadata": {
    "tags": []
   },
   "outputs": [],
   "source": [
    "clsts_cmap2"
   ]
  },
  {
   "cell_type": "code",
   "execution_count": null,
   "id": "80d4b8c7-5244-4b61-a894-2408657af8b4",
   "metadata": {
    "tags": []
   },
   "outputs": [],
   "source": [
    "xr =  adata.obs['x']\n",
    "yr =  adata.obs['y']\n",
    "clsts = adata.obs['blended_domains'].astype(int) # requires [0,1,2...,N]\n",
    "\n",
    "with sns.axes_style('white'): \n",
    "    fig, ax = plt.subplots()\n",
    "    utils_merfish.plot_cluster_simple_ax(fig, ax, clsts, xr, yr, s=0.5, cmap=clsts_cmap) # cmap=plt.cm.tab20)\n",
    "    plt.show()"
   ]
  },
  {
   "cell_type": "code",
   "execution_count": null,
   "id": "6dd56783-45ce-4686-829f-10086fcdcd42",
   "metadata": {},
   "outputs": [],
   "source": [
    "n = n_unq_clsts\n",
    "nx = 5\n",
    "ny = int((n+nx-1)/nx)\n",
    "fig, axs = plt.subplots(ny,nx, figsize=(nx*3,ny*3))\n",
    "for i in range(n):\n",
    "    ax = axs.flat[i]\n",
    "    clsts_this = clsts.copy()\n",
    "    clsts_this[~(clsts_this==i)] = -1\n",
    "    clsts_this += 1\n",
    "    \n",
    "    utils_merfish.plot_cluster_simple_ax(fig, ax, clsts_this, xr, yr, s=1, cmap=clsts_cmap2, cbar=False) # cmap=plt.cm.tab20)\n",
    "    ax.set_title(i)\n",
    "fig.tight_layout()\n",
    "plt.show()"
   ]
  },
  {
   "cell_type": "markdown",
   "id": "caa5a232-d6c7-4fdf-af3b-e41678e1c53f",
   "metadata": {},
   "source": [
    "# set up the cortical grid"
   ]
  },
  {
   "cell_type": "code",
   "execution_count": null,
   "id": "a4a795ef-2988-457a-83d7-7278bc4fcce2",
   "metadata": {
    "tags": []
   },
   "outputs": [],
   "source": [
    "# rotate and see \n",
    "xr, yr = adata.obs['x'], adata.obs['y']\n",
    "xr2, yr2 = rot2d(xr, yr, 45) \n",
    "xr2 = xr2 - np.mean(xr2)\n",
    "yr2 = yr2 - np.mean(yr2)\n",
    "adata.obs['x2'] = xr2\n",
    "adata.obs['y2'] = yr2\n",
    "\n",
    "gns = ['Slc17a7', 'Slc6a13']\n",
    "n = len(gns)\n",
    "fig, axs = plt.subplots(1,n,figsize=(n*7,1*6), sharex=True, sharey=True)\n",
    "for gn, ax in zip(gns, axs):\n",
    "    g = adata[:,gn].X.reshape(-1,)\n",
    "    st_scatter_ax(fig, ax, xr2, yr2, gexp=g, title=gn, axis_off=False)\n",
    "plt.show()\n",
    "\n"
   ]
  },
  {
   "cell_type": "code",
   "execution_count": null,
   "id": "8ad59070-a751-4672-85cc-c41d897f7338",
   "metadata": {},
   "outputs": [],
   "source": []
  },
  {
   "cell_type": "code",
   "execution_count": null,
   "id": "e0efeb57-ddfb-4065-83be-5d2269eec8af",
   "metadata": {},
   "outputs": [],
   "source": []
  },
  {
   "cell_type": "code",
   "execution_count": null,
   "id": "8bb33a3e-75a0-48ce-bb0e-a6600a5b633d",
   "metadata": {},
   "outputs": [],
   "source": [
    "cond1 = utils_merfish.two_step_cut(adata.obs['x2'], adata.obs['y2'],0, 0, 0)  \n",
    "cond2 = np.array(adata[:,'Slc6a13'].X).reshape(-1,)>0\n",
    "adata_pia = adata[cond1 & cond2]\n",
    "\n",
    "XY = adata_pia.obs[['x2', 'y2']].values\n",
    "xr = adata.obs['x2']\n",
    "yr = adata.obs['y2']\n",
    "\n",
    "for i in range(10):\n",
    "    # fit\n",
    "    XY, DW, XY_fit, XY_obj, _ = utils_merfish.line_fitting(XY)\n",
    "    d, w = DW[:,0], DW[:,1]\n",
    "    x, y = XY[:,0], XY[:,1]\n",
    "    x_fit, y_fit = XY_fit[:,0], XY_fit[:,1]\n",
    "    \n",
    "    # show results\n",
    "    with sns.axes_style('white'): \n",
    "        fig, ax = plt.subplots()\n",
    "        ax.scatter(xr, yr, s=0.5, color='lightgray', edgecolor='none')\n",
    "        ax.scatter(x, y, s=10, edgecolors='k', facecolors='none', linewidth=1)\n",
    "        ax.plot(x_fit, y_fit, color='k')\n",
    "        ax.set_title(i+1)\n",
    "        ax.axis('off')\n",
    "        \n",
    "        plt.show()\n",
    "\n",
    "    # next iteration\n",
    "    cond = d < 0.5*np.percentile(d, 95)\n",
    "    XY = XY[cond]\n",
    "    \n",
    "    # break"
   ]
  },
  {
   "cell_type": "code",
   "execution_count": null,
   "id": "bc72dc82-f381-4c9b-ba3a-ee8f273ac445",
   "metadata": {
    "tags": []
   },
   "outputs": [],
   "source": [
    "with sns.axes_style('white'): \n",
    "    fig, ax = plt.subplots()\n",
    "    xr =  adata.obs['x2']\n",
    "    yr =  adata.obs['y2']\n",
    "    clsts =  adata.obs['blended_domains'].astype(int)\n",
    "    # ax.scatter(xr, yr, s=0.5, color='lightgray', edgecolor='none')\n",
    "    # ax.scatter(xr, yr, s=0.5, c=adata.obs['depth'], edgecolor='none', cmap='rocket_r')\n",
    "    \n",
    "    utils_merfish.plot_cluster_simple_ax(fig, ax, clsts, xr, yr, s=0.5, cmap=clsts_cmap) # cmap=plt.cm.tab20)\n",
    "    XY_obj.plot_grid(ax, t_interval=500, v_length=1000)\n",
    "    \n",
    "    plt.show()"
   ]
  },
  {
   "cell_type": "code",
   "execution_count": null,
   "id": "dd4ad6e3-5820-4afd-9ab1-0dc470b75b21",
   "metadata": {
    "tags": []
   },
   "outputs": [],
   "source": [
    "# save L0 results: \n",
    "## the intial filter and trim\n",
    "## the spatial domains\n",
    "## the curved grid - XY_obj  <-> (poly_fit, XY_fit)\n",
    "\n",
    "depth, width = XY_obj.dists_to_qps(adata.obs[['x2', 'y2']].values)\n",
    "adata.uns['ref_line'] = XY_obj.ps.tolist()\n",
    "adata.obs['depth'] = depth\n",
    "adata.obs['width'] = width\n",
    "adata\n"
   ]
  },
  {
   "cell_type": "code",
   "execution_count": null,
   "id": "b17d1bf1-03ae-42d1-a167-5b15f1a62841",
   "metadata": {
    "tags": []
   },
   "outputs": [],
   "source": [
    "print(output_l0)\n",
    "adata.write(output_l0)"
   ]
  },
  {
   "cell_type": "markdown",
   "id": "2cb99c0c-4831-4a5a-8d47-2f37fef1d908",
   "metadata": {
    "tags": []
   },
   "source": [
    "# L1 - select cortex"
   ]
  },
  {
   "cell_type": "code",
   "execution_count": null,
   "id": "58ab9554-10b5-42e7-9270-bac553d50b0e",
   "metadata": {
    "tags": []
   },
   "outputs": [],
   "source": [
    "cond = np.all([\n",
    "    adata.obs['depth'] < 1100,\n",
    "    # adata.obs['width'] > 500,\n",
    "    # adata.obs['width'] < 6000,\n",
    "    ], axis=0)\n",
    "adatasub = adata[cond].copy()\n",
    "\n",
    "clsts = adatasub.obs['blended_domains'].astype(int) # requires [0,1,2...,N]\n",
    "XY = adatasub.obs[['x2', 'y2']].values\n",
    "DW = adatasub.obs[['depth', 'width']].values\n",
    "x, y = XY[:,0], XY[:,1]\n",
    "d, w = DW[:,0], DW[:,1]"
   ]
  },
  {
   "cell_type": "code",
   "execution_count": null,
   "id": "3a9c0e2a-e9d6-442a-b31f-ecf6c8bd245d",
   "metadata": {
    "tags": []
   },
   "outputs": [],
   "source": [
    "fig, axs = plt.subplots(2,1,figsize=(12*1,4*2))\n",
    "ax = axs[0]\n",
    "ax.scatter(w, -d, c=d, s=10, edgecolor='none', cmap='rocket_r')\n",
    "\n",
    "ax.set_xlabel('width (um)')\n",
    "ax.set_ylabel('depth (um)')\n",
    "# ax.set_xlim([2000,5000])\n",
    "ax.set_ylim([-200,100])\n",
    "# ax.set_aspect('equal')\n",
    "\n",
    "\n",
    "ax = axs[1]\n",
    "utils_merfish.plot_cluster_simple_ax(fig, ax, clsts, x, y, s=0.5, cmap=clsts_cmap)\n",
    "XY_obj.plot_grid(ax, t_interval=500, v_length=1000)\n",
    "\n",
    "ax.set_aspect('equal')\n",
    "ax.set_xlabel('width (um)')\n",
    "ax.set_ylabel('depth (um)')\n",
    "plt.show()\n",
    "\n"
   ]
  },
  {
   "cell_type": "code",
   "execution_count": null,
   "id": "812b94d3-b38e-4833-9d69-d11b317e164c",
   "metadata": {
    "tags": []
   },
   "outputs": [],
   "source": [
    "adatasub"
   ]
  },
  {
   "cell_type": "code",
   "execution_count": null,
   "id": "fbab3c77-1d2c-42c6-a836-6565e5751af8",
   "metadata": {
    "tags": []
   },
   "outputs": [],
   "source": [
    "# save L1 results: \n",
    "# L1 - adatasub\n",
    "print(output_l1)\n",
    "adatasub.write(output_l1)"
   ]
  },
  {
   "cell_type": "code",
   "execution_count": null,
   "id": "8c25afe2-d5cf-4788-af64-bb26686de3d1",
   "metadata": {},
   "outputs": [],
   "source": []
  },
  {
   "cell_type": "code",
   "execution_count": null,
   "id": "db682ebe-a1ca-40eb-9284-fe8a20209387",
   "metadata": {},
   "outputs": [],
   "source": []
  },
  {
   "cell_type": "code",
   "execution_count": null,
   "id": "01790164-ee84-41c4-a3c3-9243459e0efa",
   "metadata": {},
   "outputs": [],
   "source": [
    "adatasub = sc.read(output_l1)\n",
    "adatasub"
   ]
  },
  {
   "cell_type": "markdown",
   "id": "37742eff-a740-454b-bc6f-0b7c87b59073",
   "metadata": {},
   "source": [
    "# Plot area and layer signatures"
   ]
  },
  {
   "cell_type": "code",
   "execution_count": null,
   "id": "46501680-2bcd-47f8-8f46-5b31cbe82ff6",
   "metadata": {},
   "outputs": [],
   "source": [
    "gns = [ \n",
    "    'Stard8', 'Cux2', 'Whrn', 'Syt2', 'Tle4', 'Syt6', 'Ccn2', \n",
    "    'Scnn1a', 'Igfbp4', 'Syt17', 'C1ql3', 'Rorb', \n",
    "] \n",
    "x =   adatasub.obs['width']\n",
    "y =  -adatasub.obs['depth']\n",
    "n = len(gns)\n",
    "\n",
    "fig, axs = plt.subplots(n,1,figsize=(1*6,n*1.2))\n",
    "for i, (ax, gn) in enumerate(zip(axs, gns)):\n",
    "    \n",
    "    g = np.log2(1+adatasub[:,gn].layers['jnorm'].reshape(-1,))\n",
    "    vmax = np.percentile(g, 99)\n",
    "    vmin = np.percentile(g,  0)\n",
    "    sorting = np.argsort(g)\n",
    "    \n",
    "    p = utils_merfish.st_scatter_ax(fig, ax,  x[sorting],  y[sorting],  gexp=g[sorting], s=3, title='', vmin=vmin, vmax=vmax, cmap='rocket_r')\n",
    "    ax.set_aspect('equal')\n",
    "    \n",
    "    ax.set_title(gn, loc='left', va='center', ha='right', y=0.5, pad=None)\n",
    "    fig.colorbar(p, pad=0, shrink=0.5, aspect=5, ticks=[np.round(vmin, decimals=1), np.round(vmax-0.1, decimals=1)])\n",
    "    \n",
    "    ax.hlines(-np.arange(0,1200,200), np.min(x)-100, np.min(x), color='gray', linestyle='-', linewidth=1)\n",
    "    ax.vlines(np.arange(0,np.max(x)+1,1000), 0, -1000, color='k', linestyle='--', linewidth=1) # , zorder=0)\n",
    "    ax.axhline(0, color='k', linestyle='--', linewidth=1) #, zorder=0)\n",
    "    \n",
    "fig.subplots_adjust(hspace=0)\n",
    "plt.show()"
   ]
  },
  {
   "cell_type": "code",
   "execution_count": null,
   "id": "0dfd191b-f7fb-4fc9-b1cf-826368913f07",
   "metadata": {
    "tags": []
   },
   "outputs": [],
   "source": [
    "# bins = np.arange(0,np.max(adatasub.obs['width'])+1, 250)\n",
    "# bins = np.arange(0,5000+1, 250)\n",
    "bins = np.arange(0,np.max(adatasub.obs['width'])+1, 250)\n",
    "midbins = bins[:-1]+250/2\n",
    "\n",
    "df = adatasub.obs.copy()\n",
    "df['g'] = np.log2(1+np.array(adatasub[:,'Whrn'].layers['jnorm'][...])) # .reshape(-1,)\n",
    "df = df[((df['depth']>100)&(df['depth']<400))] # take L4\n",
    "\n",
    "df2 = adatasub.obs.copy()\n",
    "df2['g'] = np.log2(1+np.array(adatasub[:,'Rorb'].layers['jnorm'][...])) # .reshape(-1,)\n",
    "df2 = df2[((df2['depth']>100)&(df2['depth']<400))] # take L234\n",
    "\n",
    "df3 = adatasub.obs.copy()\n",
    "df3['g'] = np.log2(1+np.array(adatasub[:,'Igfbp4'].layers['jnorm'][...])) # .reshape(-1,)\n",
    "df3 = df3[((df3['depth']>100)&(df3['depth']<400))] # take L234"
   ]
  },
  {
   "cell_type": "code",
   "execution_count": null,
   "id": "fa557ff2-9e21-4910-8990-75ec53deb05a",
   "metadata": {
    "tags": []
   },
   "outputs": [],
   "source": [
    "df['width_bin'] = pd.cut(df['width'], bins)\n",
    "dfmean = df[['width_bin', 'g']].groupby('width_bin').mean()\n",
    "\n",
    "df2['width_bin'] = pd.cut(df2['width'], bins)\n",
    "dfmean2 = df2[['width_bin', 'g']].groupby('width_bin').mean()\n",
    "\n",
    "df3['width_bin'] = pd.cut(df3['width'], bins)\n",
    "dfmean3 = df3[['width_bin', 'g']].groupby('width_bin').mean()"
   ]
  },
  {
   "cell_type": "code",
   "execution_count": null,
   "id": "ab8ee2b2-2dd8-4f35-b18a-d2d26a3c3690",
   "metadata": {
    "tags": []
   },
   "outputs": [],
   "source": [
    "v1_window = [1800, 3500]\n",
    "\n",
    "fig, ax = plt.subplots(figsize=(5,3))\n",
    "ax.plot(midbins, dfmean['g'].values, color='red')\n",
    "ax2 = ax.twinx() # ax\n",
    "ax2.plot(midbins, dfmean2['g'].values, color='blue')\n",
    "\n",
    "ax3 = ax.twinx() # ax\n",
    "ax3.plot(midbins, dfmean3['g'].values, color='green')\n",
    "\n",
    "ax.set_ylabel('log expr')\n",
    "ax.set_xlabel('M-L distance (um)')\n",
    "sns.despine(ax=ax)\n",
    "ax.grid(False) # , axis='y')\n",
    "ax2.grid(False) # , axis='y')\n",
    "ax3.grid(False) # , axis='y')\n",
    "ax.xaxis.set_ticks(bins[::2], minor=True)\n",
    "# ax.set_ylim([0,0.2])\n",
    "ax.axvline(v1_window[0], color='k', linestyle='--')\n",
    "ax.axvline(v1_window[1], color='k', linestyle='--')\n",
    "plt.show()"
   ]
  },
  {
   "cell_type": "code",
   "execution_count": null,
   "id": "c81c2e31-5520-41f3-9f86-c59735724fc6",
   "metadata": {
    "tags": []
   },
   "outputs": [],
   "source": [
    "gns = [ \n",
    "    #  #'Syt17', 'Rorb', #'Chrm2', 'Epha6',  \n",
    "    'Whrn', 'Rorb',\n",
    "    'Scnn1a', 'Igfbp4',\n",
    "] \n",
    "x =   adatasub.obs['width']\n",
    "y =  -adatasub.obs['depth']\n",
    "n = len(gns)\n",
    "\n",
    "fig, axs = plt.subplots(n,1,figsize=(1*6,n*1.2))\n",
    "for i, (ax, gn) in enumerate(zip(axs, gns)):\n",
    "    \n",
    "    g = np.log2(1+adatasub[:,gn].layers['jnorm'].reshape(-1,))\n",
    "    vmax = np.percentile(g, 99)\n",
    "    vmin = np.percentile(g,  0)\n",
    "    sorting = np.argsort(g)\n",
    "    \n",
    "    p = utils_merfish.st_scatter_ax(fig, ax,  x[sorting],  y[sorting],  gexp=g[sorting], s=3, title='', vmin=vmin, vmax=vmax, cmap='rocket_r')\n",
    "    ax.set_aspect('equal')\n",
    "    \n",
    "    ax.set_title(gn, loc='left', va='center', ha='right', y=0.5, pad=None)\n",
    "    fig.colorbar(p, pad=0, shrink=0.5, aspect=5, ticks=[np.round(vmin, decimals=1), np.round(vmax-0.1, decimals=1)])\n",
    "    \n",
    "    ax.hlines(-np.array([100,350,550,750,1000]), np.min(x)-100, np.min(x), color='gray', linestyle='-', linewidth=1)\n",
    "    ax.axis('on')\n",
    "    ax.xaxis.set_ticks(bins[::2], minor=True)\n",
    "    # ax.set_xlim([0,5000])\n",
    "    ax.axvline(v1_window[0], color='k', linestyle='--')\n",
    "    ax.axvline(v1_window[1], color='k', linestyle='--')\n",
    "fig.subplots_adjust(hspace=0)\n",
    "plt.show()"
   ]
  },
  {
   "cell_type": "code",
   "execution_count": null,
   "id": "a2779472-95ca-478b-85e0-861f71e45309",
   "metadata": {},
   "outputs": [],
   "source": []
  },
  {
   "cell_type": "code",
   "execution_count": null,
   "id": "f3f63078-42cf-4337-b3eb-b612dc85f863",
   "metadata": {},
   "outputs": [],
   "source": [
    "gns = [ \n",
    "    'Syt17', 'Stard8', 'Whrn', 'Rorb', 'Scnn1a', 'Syt2', 'Tle4', 'Syt6', 'Ccn2', \n",
    "] \n",
    "x =   adatasub.obs['width']\n",
    "y =  -adatasub.obs['depth']\n",
    "midv1 = np.mean(v1_window)\n",
    "cutoff = np.logical_and(x>midv1-500, x<midv1+500)\n",
    "n = len(gns)\n",
    "\n",
    "fig, axs = plt.subplots(1,n,figsize=(n*1,3*1.2))\n",
    "for i, (ax, gn) in enumerate(zip(axs, gns)):\n",
    "    \n",
    "    g = np.log2(1+adatasub[:,gn].layers['jnorm'].reshape(-1,))\n",
    "    x = x[cutoff]\n",
    "    y = y[cutoff]\n",
    "    g = g[cutoff]\n",
    "    vmax = np.percentile(g, 99)\n",
    "    vmin = np.percentile(g,  0)\n",
    "    sorting = np.argsort(g)\n",
    "    \n",
    "    p = utils_merfish.st_scatter_ax(fig, ax,  x[sorting],  y[sorting],  gexp=g[sorting], \n",
    "                                    s=3, title='', vmin=vmin, vmax=vmax, cmap='rocket_r')\n",
    "    ax.set_aspect('equal')\n",
    "    \n",
    "    ax.set_title(gn, fontsize=10) #, loc='left', va='center', ha='right', y=0.5, pad=None)\n",
    "    ax.hlines(-np.arange(0,1200,200), np.min(x)-100, np.min(x)-50, color='gray', linestyle='-', linewidth=1)\n",
    "    # ax.hlines(-np.array([100,350,550,750,1000]), np.min(x)-100, np.min(x), color='gray', linestyle='--', linewidth=1)\n",
    "    \n",
    "fig.subplots_adjust(hspace=0, wspace=-0.05)\n",
    "plt.show()"
   ]
  },
  {
   "cell_type": "markdown",
   "id": "dedfdbe3-cbe9-4ec8-8257-549408880d09",
   "metadata": {},
   "source": [
    "# select V1 cells"
   ]
  },
  {
   "cell_type": "code",
   "execution_count": null,
   "id": "fe97ed9e-d756-4b11-9ef8-b490a281246b",
   "metadata": {
    "tags": []
   },
   "outputs": [],
   "source": [
    "n_unq_clsts = len(adatasub.obs['blended_domains'].unique())\n",
    "clsts_palette, clsts_cmap = utils_merfish.generate_discrete_cmap([n_unq_clsts], keys=['tab20', ])\n",
    "clsts_palette2, clsts_cmap2 = utils_merfish.generate_discrete_cmap([1, n_unq_clsts], keys=['light:b', 'tab20', ])\n",
    "clsts_cmap"
   ]
  },
  {
   "cell_type": "code",
   "execution_count": null,
   "id": "92259659-5535-4be5-a964-6c1a6e51c1ca",
   "metadata": {
    "tags": []
   },
   "outputs": [],
   "source": [
    "clsts_cmap2"
   ]
  },
  {
   "cell_type": "code",
   "execution_count": null,
   "id": "2672e053-d47e-4c2c-9af0-f94616b26fb8",
   "metadata": {
    "tags": []
   },
   "outputs": [],
   "source": [
    "\n",
    "with sns.axes_style('white'): \n",
    "    fig, axs = plt.subplots(1,2,figsize=(2*6,1*5))\n",
    "    cond0 = np.logical_and(adatasub.obs['width']>v1_window[0], adatasub.obs['width']<v1_window[1])\n",
    "    x    =  adatasub[cond0].obs['x']\n",
    "    y    =  adatasub[cond0].obs['y']\n",
    "    d    = -adatasub[cond0].obs['depth']\n",
    "    w    =  adatasub[cond0].obs['width']\n",
    "    clsts = adatasub[cond0].obs['blended_domains'].astype(int) # requires [0,1,2...,N]\n",
    "    \n",
    "    ax = axs[0]\n",
    "    utils_merfish.plot_cluster_simple_ax(fig, ax, clsts, x, y, s=2, cmap=clsts_cmap2) # cmap=plt.cm.tab20)\n",
    "    \n",
    "    ax = axs[1]\n",
    "    utils_merfish.plot_cluster_simple_ax(fig, ax, clsts, w, d, s=2, cmap=clsts_cmap2) # cmap=plt.cm.tab20)\n",
    "    plt.show()"
   ]
  },
  {
   "cell_type": "code",
   "execution_count": null,
   "id": "342e318d-f490-49ba-83a5-252194135524",
   "metadata": {},
   "outputs": [],
   "source": [
    "adatasub2 = adatasub[cond0].copy() # anatomical (V1 ctx) # (cell types, num transcripts)\n",
    "adatasub2.uns['v1_window'] = v1_window\n",
    "adatasub2"
   ]
  },
  {
   "cell_type": "code",
   "execution_count": null,
   "id": "558396e5-e9b7-4adf-98ec-af424199c321",
   "metadata": {
    "tags": []
   },
   "outputs": [],
   "source": [
    "# save L2 results: \n",
    "# L2 - adatasub\n",
    "print(output_l2)\n",
    "adatasub2.write(output_l2)"
   ]
  },
  {
   "cell_type": "code",
   "execution_count": null,
   "id": "d0b7a178-b545-4c27-8cdd-de0222d80d6f",
   "metadata": {},
   "outputs": [],
   "source": []
  }
 ],
 "metadata": {
  "kernelspec": {
   "display_name": "napari",
   "language": "python",
   "name": "napari"
  },
  "language_info": {
   "codemirror_mode": {
    "name": "ipython",
    "version": 3
   },
   "file_extension": ".py",
   "mimetype": "text/x-python",
   "name": "python",
   "nbconvert_exporter": "python",
   "pygments_lexer": "ipython3",
   "version": "3.9.16"
  }
 },
 "nbformat": 4,
 "nbformat_minor": 5
}
