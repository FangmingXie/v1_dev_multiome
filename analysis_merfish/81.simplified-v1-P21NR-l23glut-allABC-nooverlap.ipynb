{
 "cells": [
  {
   "cell_type": "code",
   "execution_count": null,
   "id": "aa503af1-8bb5-427a-8241-06e28faa45f3",
   "metadata": {
    "tags": []
   },
   "outputs": [],
   "source": [
    "import numpy as np\n",
    "import pandas as pd\n",
    "import matplotlib.pyplot as plt\n",
    "import seaborn as sns\n",
    "import anndata as ad\n",
    "import scanpy as sc\n",
    "from scipy import stats\n",
    "import os\n",
    "\n",
    "from scipy import spatial\n",
    "from scipy import sparse\n",
    "from scipy.interpolate import CubicSpline\n",
    "from sklearn.decomposition import PCA\n",
    "from sklearn.cluster import KMeans\n",
    "from sklearn.neighbors import NearestNeighbors\n",
    "import networkx as nx\n",
    "from umap import UMAP\n",
    "from scipy.stats import ttest_ind, mannwhitneyu\n",
    "from scipy.stats import pearsonr, spearmanr, zscore\n",
    "from statsmodels.stats.multitest import multipletests\n",
    "\n",
    "import json"
   ]
  },
  {
   "cell_type": "code",
   "execution_count": null,
   "id": "0f45245f-11c8-4e6e-b181-d2bf21e8c459",
   "metadata": {},
   "outputs": [],
   "source": [
    "import importlib\n",
    "import scroutines\n",
    "importlib.reload(scroutines)\n",
    "from scroutines import powerplots\n",
    "from scroutines.miscu import is_in_polygon\n",
    "\n",
    "import utils_merfish\n",
    "importlib.reload(utils_merfish)\n",
    "from utils_merfish import rot2d, st_scatter, st_scatter_ax, plot_cluster, binning\n",
    "from utils_merfish import RefLineSegs\n",
    "\n",
    "import merfish_datasets\n",
    "import merfish_genesets\n",
    "importlib.reload(merfish_datasets)\n",
    "importlib.reload(merfish_genesets)\n",
    "from merfish_datasets import merfish_datasets\n",
    "from merfish_datasets import merfish_datasets_params\n",
    "\n",
    "from scroutines import basicu"
   ]
  },
  {
   "cell_type": "code",
   "execution_count": null,
   "id": "5ee31c0c-9fc3-4bf8-a36e-1cdb4fe398dc",
   "metadata": {
    "tags": []
   },
   "outputs": [],
   "source": [
    "def get_qc_metrics(df):\n",
    "    \"\"\"\n",
    "    return metrics\n",
    "     - key\n",
    "      - (name, val, medval, bins)\n",
    "    \"\"\"\n",
    "    metrics = {}\n",
    "    cols  = ['volume', 'gncov', 'gnnum']\n",
    "    names = ['cell volume', 'num transcripts', 'num genes']\n",
    "    \n",
    "    for col, name in zip(cols, names):\n",
    "        val = df[col].values\n",
    "        medval = np.median(val)\n",
    "        bins = np.linspace(0, 10*medval, 50)\n",
    "        \n",
    "        metrics[col] = (name, val, medval, bins)\n",
    "    return metrics\n",
    "\n",
    "def get_norm_counts(adata, scaling=500):\n",
    "    \"\"\"norm - equalize the volume to be 500 for all cells\n",
    "    \"\"\"\n",
    "    cnts = adata.X\n",
    "    vol = adata.obs['volume'].values\n",
    "    normcnts = cnts/vol.reshape(-1,1)*scaling\n",
    "    adata.layers['norm'] = normcnts\n",
    "    \n",
    "    return normcnts"
   ]
  },
  {
   "cell_type": "code",
   "execution_count": null,
   "id": "8dcb3a41-6fed-4c27-a03a-3ac6508f4622",
   "metadata": {
    "tags": []
   },
   "outputs": [],
   "source": [
    "def preprocessing(adata):\n",
    "    # filter genes\n",
    "    cond = np.ravel((adata.X>0).sum(axis=0)) > 10 # expressed in more than 10 cells\n",
    "    adata_sub = adata[:,cond]\n",
    "\n",
    "    # counts\n",
    "    x = adata_sub.X\n",
    "    cov = adata_sub.obs['n_counts'].values\n",
    "\n",
    "    # CP10k\n",
    "    xn = (sparse.diags(1/cov).dot(x))*1e4\n",
    "\n",
    "    # log10(CP10k+1)\n",
    "    xln = xn.copy()\n",
    "    xln.data = np.log10(xln.data+1)\n",
    "\n",
    "    adata_sub.layers['norm'] = xn\n",
    "    adata_sub.layers['lognorm'] = xln\n",
    "    \n",
    "    return adata_sub"
   ]
  },
  {
   "cell_type": "code",
   "execution_count": null,
   "id": "26899c73-77b3-4788-9ebb-5f4ab7cd1c07",
   "metadata": {
    "tags": []
   },
   "outputs": [],
   "source": [
    "def get_hvgs(adata, layer, nbin=20, qth=0.3):\n",
    "    \"\"\"\n",
    "    \"\"\"\n",
    "    xn = adata.layers[layer]\n",
    "    \n",
    "    # min\n",
    "    gm = np.ravel(xn.mean(axis=0))\n",
    "\n",
    "    # var\n",
    "    tmp = xn.copy()\n",
    "    tmp.data = np.power(tmp.data, 2)\n",
    "    gv = np.ravel(tmp.mean(axis=0))-gm**2\n",
    "\n",
    "    # cut \n",
    "    lbl = pd.qcut(gm, nbin, labels=np.arange(nbin))\n",
    "    gres = pd.DataFrame()\n",
    "    gres['lbl'] = lbl\n",
    "    gres['mean'] = gm\n",
    "    gres['var'] = gv\n",
    "    gres['ratio']= gv/gm\n",
    "\n",
    "    # select\n",
    "    gres_sel = gres.groupby('lbl')['ratio'].nlargest(int(qth*(len(gm)/nbin))) #.reset_index()\n",
    "    gsel_idx = np.sort(gres_sel.index.get_level_values(1).values)\n",
    "\n",
    "    assert np.all(gsel_idx != -1)\n",
    "    \n",
    "    return adata.var.index.values[gsel_idx]"
   ]
  },
  {
   "cell_type": "code",
   "execution_count": null,
   "id": "f8e93405-9c79-4360-911f-6e44d3f65edc",
   "metadata": {
    "tags": []
   },
   "outputs": [],
   "source": [
    "def binning_pipe(adata, n=20, layer='lnorm', bin_type='depth_bin'):\n",
    "    \"\"\"\n",
    "    \"\"\"\n",
    "    assert bin_type in ['depth_bin', 'width_bin']\n",
    "    # bin it \n",
    "    depth_bins, depth_binned = utils_merfish.binning(adata.obs['depth'].values, n)\n",
    "    width_bins, width_binned = utils_merfish.binning(adata.obs['width'].values, n)\n",
    "\n",
    "    norm_ = pd.DataFrame(adata.layers[layer], columns=adata.var.index)\n",
    "    norm_['depth_bin'] = depth_binned\n",
    "    norm_['width_bin'] = width_binned\n",
    "    \n",
    "    norm_mean = norm_.groupby(bin_type).mean(numeric_only=True)\n",
    "    norm_sem  = norm_.groupby(bin_type).sem(numeric_only=True)\n",
    "    norm_std  = norm_.groupby(bin_type).std(numeric_only=True)\n",
    "    norm_n    = norm_[bin_type].value_counts(sort=False)\n",
    "\n",
    "    return norm_mean, norm_sem, norm_std, norm_n, depth_binned, width_binned, depth_bins, width_bins\n",
    "\n",
    "def binning_pipe2(adata, col_to_bin, layer, bins=None, n=20):\n",
    "    \"\"\"\n",
    "    \"\"\"\n",
    "    if bins is None:\n",
    "        # bin it \n",
    "        bins, binned = utils_merfish.binning(adata.obs[col_to_bin].values, n)\n",
    "    else:\n",
    "        binned = pd.cut(adata.obs[col_to_bin].values, bins=bins)\n",
    "\n",
    "    norm_ = pd.DataFrame(adata.layers[layer], columns=adata.var.index)\n",
    "    norm_['thebin'] = binned\n",
    "    \n",
    "    norm_mean = norm_.groupby('thebin').mean(numeric_only=True)\n",
    "    norm_sem  = norm_.groupby('thebin').sem(numeric_only=True)\n",
    "    norm_std  = norm_.groupby('thebin').std(numeric_only=True)\n",
    "    norm_n    = norm_['thebin'].value_counts(sort=False)\n",
    "\n",
    "    return norm_mean, norm_sem, norm_std, norm_n, binned, bins "
   ]
  },
  {
   "cell_type": "code",
   "execution_count": null,
   "id": "17e57120-ac1f-4c1d-9d12-188855ef70f3",
   "metadata": {
    "tags": []
   },
   "outputs": [],
   "source": [
    "def neighbor_label_transfer(k, ref_emb, qry_emb, ref_lbl, p_cutoff=0.5, dist_cutoff=None):\n",
    "    \"\"\"ref vs qry neighbors\n",
    "    \"\"\"\n",
    "    unq_lbls = np.unique(ref_lbl).astype(str) # array(['L2/3_A', 'L2/3_B', 'L2/3_C'])\n",
    "    n_unq_lbls = len(unq_lbls)\n",
    "    ref_n = len(ref_emb)\n",
    "    qry_n = len(qry_emb)\n",
    "    \n",
    "    neigh = NearestNeighbors(n_neighbors=k) # , radius=0.4)\n",
    "    neigh.fit(ref_emb)\n",
    "    dists, idx = neigh.kneighbors(qry_emb, k, return_distance=True)\n",
    "    \n",
    "    raw_pred = ref_lbl[idx]\n",
    "\n",
    "    # p\n",
    "    pabc = np.empty((qry_n, n_unq_lbls))\n",
    "    for i, lbl in enumerate(unq_lbls):\n",
    "        p = np.sum(raw_pred==lbl, axis=1)/k\n",
    "        pabc[:,i] = p\n",
    "\n",
    "    # max\n",
    "    max_pred = unq_lbls[np.argmax(pabc, axis=1)]\n",
    "\n",
    "    # \n",
    "    gated_pred = max_pred.copy()\n",
    "    cond1 = np.max( pabc, axis=1) > p_cutoff\n",
    "    gated_pred[~cond1] = 'NA' \n",
    "    if dist_cutoff is not None:\n",
    "        cond2 = np.max(dists, axis=1) < dist_cutoff\n",
    "        gated_pred[~cond2] = 'NA' \n",
    "    \n",
    "    return max_pred, gated_pred, np.max(dists, axis=1)\n",
    "\n",
    "\n",
    "def neighbor_self_nonself(k, ref_emb, qry_emb):\n",
    "    \"\"\"ref vs qry neighbors\n",
    "    \"\"\"\n",
    "    unq_lbls = np.unique(ref_lbl).astype(str) # array(['L2/3_A', 'L2/3_B', 'L2/3_C'])\n",
    "    n_unq_lbls = len(unq_lbls)\n",
    "    ref_n = len(ref_emb)\n",
    "    qry_n = len(qry_emb)\n",
    "    lbls = np.array([0]*ref_n+[1]*qry_n)\n",
    "    \n",
    "    neigh = NearestNeighbors(n_neighbors=k) # , radius=0.4)\n",
    "    neigh.fit(np.vstack([ref_emb, qry_emb]))\n",
    "    idx = neigh.kneighbors(qry_emb, k, return_distance=False)\n",
    "    \n",
    "    isself = lbls[idx]\n",
    "\n",
    "    p = np.sum(isself, axis=1)/k\n",
    "\n",
    "    \n",
    "    return p # max_pred, gated_pred, np.max(dists, axis=1)"
   ]
  },
  {
   "cell_type": "code",
   "execution_count": null,
   "id": "04932d3e-30d1-4f10-b5e7-6e08a663d64c",
   "metadata": {},
   "outputs": [],
   "source": [
    "from py_pcha import PCHA\n",
    "def get_aa(X):\n",
    "    \"\"\"\n",
    "    \"\"\"\n",
    "    np.random.seed(0)\n",
    "    XC, S, C, SSE, varexpl = PCHA(X, noc=3, delta=0)\n",
    "    XC = np.array(XC)\n",
    "    XC = XC[:,np.argsort(XC[0])].copy() # order this\n",
    "    return XC"
   ]
  },
  {
   "cell_type": "code",
   "execution_count": null,
   "id": "9a0ddfeb-fa2c-4d2e-942f-d7b1fd74a2f8",
   "metadata": {},
   "outputs": [],
   "source": [
    "def add_triangle(XC, ax, zorder=0, vertices=False, label='', linecolor='gray', linewidth=1, **kwargs):\n",
    "    # add the triangle\n",
    "    ax.plot(XC[0].tolist()+[XC[0,0]], XC[1].tolist()+[XC[1,0]], '--', \n",
    "            color=linecolor, label=label, zorder=zorder, linewidth=linewidth, markersize=3)\n",
    "    \n",
    "    # add vertices\n",
    "    if vertices:\n",
    "        ax.scatter(XC[0,0], XC[1,0], color='C0', zorder=zorder, **kwargs)\n",
    "        ax.scatter(XC[0,1], XC[1,1], color='C1', zorder=zorder, **kwargs)\n",
    "        ax.scatter(XC[0,2], XC[1,2], color='C2', zorder=zorder, **kwargs)"
   ]
  },
  {
   "cell_type": "code",
   "execution_count": null,
   "id": "fdf3459a-3520-4b63-8e70-a68af952484e",
   "metadata": {
    "tags": []
   },
   "outputs": [],
   "source": [
    "def p_mark(p):\n",
    "    \"\"\"\n",
    "    \"\"\"\n",
    "    \n",
    "    if p > 0.05:\n",
    "        mark = 'ns'\n",
    "    elif p < 0.05 and p > 0.001:\n",
    "        mark = '*'\n",
    "    elif p < 0.001:\n",
    "        mark = '***'\n",
    "        \n",
    "    return mark"
   ]
  },
  {
   "cell_type": "code",
   "execution_count": null,
   "id": "04be3fdc-5315-4585-a029-ad1e62fffbda",
   "metadata": {
    "tags": []
   },
   "outputs": [],
   "source": [
    "def wrap_label_transfer(ref, qry, key_emb, key_lbl, k=30):\n",
    "    \"\"\"write results into \n",
    "    qry.obs[key_lbl]\n",
    "    \"\"\"\n",
    "    \n",
    "    # # label transfer from RNA data\n",
    "    ref_emb = ref.obsm[key_emb][:,:2]\n",
    "    qry_emb = qry.obsm[key_emb][:,:2]\n",
    "    ref_lbl = ref.obs[key_lbl].values.astype(str)\n",
    "\n",
    "    qry_lbl, _, _ = neighbor_label_transfer(k, ref_emb, qry_emb, ref_lbl, p_cutoff=0.5, dist_cutoff=None)\n",
    "    qry.obs[key_lbl] = qry_lbl\n",
    "    \n",
    "    return "
   ]
  },
  {
   "cell_type": "code",
   "execution_count": null,
   "id": "bf61d60b-cf55-4c8d-9303-3c3a96128499",
   "metadata": {
    "tags": []
   },
   "outputs": [],
   "source": [
    "def get_abc_scores(adata, agenes, bgenes, cgenes):\n",
    "    \"\"\"\n",
    "    \"\"\"\n",
    "    \n",
    "    # get ABC scores\n",
    "    g0_a = zscore(adata[:,agenes].layers['ljnorm'], axis=0).mean(axis=1)\n",
    "    g0_b = zscore(adata[:,bgenes].layers['ljnorm'], axis=0).mean(axis=1)\n",
    "    g0_c = zscore(adata[:,cgenes].layers['ljnorm'], axis=0).mean(axis=1)\n",
    "\n",
    "    # make ABC scores comparable and norm to [0,1] [40% to 95%]\n",
    "    vmin_p, vmax_p = 40, 95\n",
    "    vmin_a = np.percentile(g0_a, vmin_p)\n",
    "    vmax_a = np.percentile(g0_a, vmax_p)\n",
    "\n",
    "    vmin_b = np.percentile(g0_b, vmin_p)\n",
    "    vmax_b = np.percentile(g0_b, vmax_p)\n",
    "\n",
    "    vmin_c = np.percentile(g0_c, vmin_p)\n",
    "    vmax_c = np.percentile(g0_c, vmax_p)\n",
    "\n",
    "    g0_a = np.clip((g0_a-vmin_a)/(vmax_a-vmin_a), 0, 1)\n",
    "    g0_b = np.clip((g0_b-vmin_b)/(vmax_b-vmin_b), 0, 1)\n",
    "    g0_c = np.clip((g0_c-vmin_c)/(vmax_c-vmin_c), 0, 1)\n",
    "\n",
    "    # separate them into scale and frequency (mag 0~3 vs direction 0 or 1)\n",
    "    g0_sum  = (g0_a+g0_b+g0_c)\n",
    "    freq0_a = g0_a/(g0_sum+1e-5)\n",
    "    freq0_b = g0_b/(g0_sum+1e-5)\n",
    "    freq0_c = g0_c/(g0_sum+1e-5)\n",
    "\n",
    "    # record\n",
    "    adata.obsm['size_freq_abc'] = np.vstack([freq0_a, freq0_b, freq0_c, g0_sum]).T\n",
    "    \n",
    "    return\n",
    "\n",
    "def get_abc_stats(adata, samples):\n",
    "    \"\"\"per sample\n",
    "    \n",
    "    assigned to the best score\n",
    "    some na due to 0,0,0\n",
    "    \"\"\"\n",
    "    # score based (ABC) assignment\n",
    "    res = []\n",
    "    for sample in samples:\n",
    "        if 'ant' in sample:\n",
    "            cond = 'ant'\n",
    "        elif 'pos' in sample:\n",
    "            cond = 'pos'\n",
    "\n",
    "        adatasub = adata[adata.obs['sample']==sample]\n",
    "        freq_a = adatasub.obsm['size_freq_abc'][:,0]\n",
    "        freq_b = adatasub.obsm['size_freq_abc'][:,1]\n",
    "        freq_c = adatasub.obsm['size_freq_abc'][:,2]\n",
    "\n",
    "        n = len(adatasub)\n",
    "        cond_na = (freq_a+freq_b+freq_c)==0\n",
    "        tn = np.sum(cond_na)\n",
    "\n",
    "        rank = np.argsort(np.vstack([freq_a,freq_b,freq_c]).T[~cond_na], axis=1)[:,-1]\n",
    "        ta = np.sum(rank==0)\n",
    "        tb = np.sum(rank==1)\n",
    "        tc = np.sum(rank==2)\n",
    "\n",
    "        assert np.abs(n-(ta+tb+tc)-tn) < 1\n",
    "        res.append([sample, cond, ta/n*100, tb/n*100, tc/n*100, tn/n*100])\n",
    "\n",
    "    res = pd.DataFrame(res, columns=['sample', 'cond', 'L2/3_A', 'L2/3_B', 'L2/3_C', 'NA']).set_index('sample')\n",
    "    return res\n",
    "\n",
    "def get_abc_stats_typeready(adata, samples, sample_col, type_col):\n",
    "    \"\"\"\n",
    "    \"\"\"\n",
    "    num_types = adata.obs.groupby([sample_col, type_col]).size().unstack().reindex(samples)\n",
    "    frq_types = num_types.divide(num_types.sum(axis=1), axis=0)*100\n",
    "    frq_types['cond'] = np.where(frq_types.index.str.contains('pos'), 'pos', 'ant')\n",
    "    \n",
    "    return frq_types"
   ]
  },
  {
   "cell_type": "markdown",
   "id": "948e0c4c-761e-4757-9027-2c6f309b4245",
   "metadata": {
    "tags": []
   },
   "source": [
    "# load data"
   ]
  },
  {
   "cell_type": "code",
   "execution_count": null,
   "id": "fd4d57c8-9bf2-4fb5-b23f-c660adb9c9a3",
   "metadata": {
    "tags": []
   },
   "outputs": [],
   "source": [
    "outfigdir = \"/u/home/f/f7xiesnm/project-zipursky/v1-bb/ms_reanalysis/250414\"\n",
    "!mkdir -p $outfigdir\n",
    "fig_manager = powerplots.FigManager(outfigdir)"
   ]
  },
  {
   "cell_type": "code",
   "execution_count": null,
   "id": "39889430-5345-48d5-acb5-32a077eb6b85",
   "metadata": {},
   "outputs": [],
   "source": [
    "np.random.seed(0)"
   ]
  },
  {
   "cell_type": "markdown",
   "id": "a54c489f-10b6-443c-afb7-f6a0d88a781d",
   "metadata": {},
   "source": [
    "### MERFISH genes"
   ]
  },
  {
   "cell_type": "code",
   "execution_count": null,
   "id": "10056f83-d188-4aea-9e6b-6bfaed8f77e0",
   "metadata": {
    "tags": []
   },
   "outputs": [],
   "source": [
    "f = \"/u/home/f/f7xiesnm/project-zipursky/v1-bb/v1/data/merfish/merfish_genes.txt\" \n",
    "genes = np.loadtxt(f, dtype='str')\n",
    "\n",
    "genesets, typegenes_df = merfish_genesets.get_all_genesets()\n",
    "for key, item in genesets.items():\n",
    "    print(key, len(item))\n",
    "    \n",
    "genes = genesets['allmerfish']\n",
    "# agenes = genesets['a']\n",
    "# bgenes = genesets['b']\n",
    "# cgenes = genesets['c']\n",
    "# iegs   = genesets['i']\n",
    "\n",
    "# abcgenes = np.hstack([agenes, bgenes, cgenes])\n",
    "# genes_noniegs = np.array([g for g in genes if g not in iegs])\n",
    "\n",
    "# agenes_idx = basicu.get_index_from_array(genes, agenes)\n",
    "# bgenes_idx = basicu.get_index_from_array(genes, bgenes)\n",
    "# cgenes_idx = basicu.get_index_from_array(genes, cgenes)\n",
    "# igenes_idx = basicu.get_index_from_array(genes, iegs)\n",
    "# len(abcgenes), len(genes_noniegs)"
   ]
  },
  {
   "cell_type": "markdown",
   "id": "ef88b0bd-1d74-43a7-8869-17b649060082",
   "metadata": {},
   "source": [
    "### new ABC genes"
   ]
  },
  {
   "cell_type": "code",
   "execution_count": null,
   "id": "98c90cf9-5a37-428f-9c13-5b506d6081b3",
   "metadata": {
    "tags": []
   },
   "outputs": [],
   "source": [
    "f = \"/u/home/f/f7xiesnm/project-zipursky/v1-bb/v1/data/v1_multiome/DEG_l23abc_gene_list_250409.csv\"\n",
    "df_genes_newabc = pd.read_csv(f)\n",
    "# df_genes_newabc = df_genes_newabc[df_genes_newabc['cond']=='P8NR']\n",
    "abcgenes = df_genes_newabc['gene'].unique()\n",
    "agenes = df_genes_newabc.loc[df_genes_newabc['archetype']=='A', 'gene'].unique()\n",
    "bgenes = df_genes_newabc.loc[df_genes_newabc['archetype']=='B', 'gene'].unique()\n",
    "cgenes = df_genes_newabc.loc[df_genes_newabc['archetype']=='C', 'gene'].unique()\n",
    "\n",
    "print(len(abcgenes), \n",
    "      len(agenes)+len(bgenes)+len(cgenes),\n",
    "      len(agenes),len(bgenes),len(cgenes), \n",
    "     )\n",
    "\n",
    "# overlap with MERFISH\n",
    "abcgenes = np.intersect1d(genes, abcgenes)\n",
    "agenes = np.intersect1d(genes, agenes)\n",
    "bgenes = np.intersect1d(genes, bgenes)\n",
    "cgenes = np.intersect1d(genes, cgenes)\n",
    "\n",
    "print(len(abcgenes), \n",
    "      len(agenes)+len(bgenes)+len(cgenes),\n",
    "      len(agenes),len(bgenes),len(cgenes), \n",
    "     )\n",
    "\n",
    "# overlap between each other\n",
    "overlap_ac = np.intersect1d(agenes, cgenes)\n",
    "overlap_ab = np.intersect1d(agenes, bgenes)\n",
    "overlap_bc = np.intersect1d(bgenes, cgenes)\n",
    "overlap_abc = np.intersect1d(overlap_ab, cgenes)\n",
    "print(len(overlap_ac), len(overlap_ab), len(overlap_bc), len(overlap_abc))\n",
    "\n",
    "# purify\n",
    "agenes2 = np.setdiff1d(np.setdiff1d(agenes, bgenes), cgenes)\n",
    "bgenes2 = np.setdiff1d(np.setdiff1d(bgenes, agenes), cgenes)\n",
    "cgenes2 = np.setdiff1d(np.setdiff1d(cgenes, agenes), bgenes)\n",
    "\n",
    "agenes = agenes2\n",
    "bgenes = bgenes2\n",
    "cgenes = cgenes2\n",
    "\n",
    "print(len(abcgenes), \n",
    "      len(agenes)+len(bgenes)+len(cgenes),\n",
    "      len(agenes),len(bgenes),len(cgenes), \n",
    "     )\n",
    "\n",
    "agenes_idx = basicu.get_index_from_array(genes, agenes)\n",
    "bgenes_idx = basicu.get_index_from_array(genes, bgenes)\n",
    "cgenes_idx = basicu.get_index_from_array(genes, cgenes)"
   ]
  },
  {
   "cell_type": "markdown",
   "id": "935069ca-1405-4dad-bbba-4db2ad9a09c2",
   "metadata": {},
   "source": [
    "### MERFISH cells (integrated L2/3)"
   ]
  },
  {
   "cell_type": "code",
   "execution_count": null,
   "id": "1abfa400-a56a-4bdd-b61a-d962b03ae2b1",
   "metadata": {
    "tags": []
   },
   "outputs": [],
   "source": [
    "ddir = \"/u/home/f/f7xiesnm/project-zipursky/v1-bb/v1/data/merfish/organized\" \n",
    "\n",
    "# get MERFISH data (cells) from integrated V1L23Glut \n",
    "fin = os.path.join(ddir, 'P21NR_v1l23glut_rna_merfish_250411.h5ad')\n",
    "adata_ = ad.read(fin, backed='r')\n",
    "adata_ = adata_[adata_.obs['modality']=='merfish'] \n",
    "print(adata_.obs['gated_pred_subclass'].unique()) # should be L2/3 only\n",
    "\n",
    "l23_cells = adata_.obs.index.values\n",
    "l23_cells.shape"
   ]
  },
  {
   "cell_type": "markdown",
   "id": "7c73443b-c6f0-41ca-b981-b676b6ce73bb",
   "metadata": {},
   "source": [
    "### MERFISH raw - all genes"
   ]
  },
  {
   "cell_type": "code",
   "execution_count": null,
   "id": "87d2fbbb-90cd-4974-b1d5-78a7bb38ae2d",
   "metadata": {},
   "outputs": [],
   "source": [
    "# %%time\n",
    "names = [\n",
    "    'P21NRb_ant',\n",
    "    'P21NRb_pos',\n",
    "    \n",
    "    'P21NRc_ant',\n",
    "    'P21NRc_ant2',\n",
    "    'P21NRc_pos2',\n",
    "]\n",
    "\n",
    "\n",
    "mean_total_rna_target = 250\n",
    "adata_merged = []\n",
    "\n",
    "for i, name in enumerate(names):\n",
    "    j = i // 4\n",
    "    i = i % 4\n",
    "    \n",
    "    adatasub = ad.read(os.path.join(ddir, f'{name}_l2_v1_250410.h5ad')) \n",
    "    print(name, len(adatasub))\n",
    "    \n",
    "    adatasub.obs.index = np.char.add(f'{name}', adatasub.obs.index.values)\n",
    "    adatasub.obs['sample'] = name\n",
    "    \n",
    "    norm_cnts = adatasub.layers['norm']\n",
    "    mean_per_batch = np.mean(norm_cnts.sum(axis=1))\n",
    "    # mean_per_batch_noniegs = np.mean(adatasub[:,genes_noniegs].layers['norm'].sum(axis=1))\n",
    "    \n",
    "    # adatasub.layers['jnorm']  = norm_cnts*(mean_total_rna_target/mean_per_batch_noniegs)\n",
    "    adatasub.layers['jnorm']  = norm_cnts*(mean_total_rna_target/mean_per_batch)\n",
    "    adatasub.layers['ljnorm'] = np.log2(1+adatasub.layers['jnorm'])\n",
    "    \n",
    "    adatasub.obs['norm_transcript_count']  = adatasub.layers['norm'].sum(axis=1)\n",
    "    adatasub.obs['jnorm_transcript_count'] = adatasub.layers['jnorm'].sum(axis=1)\n",
    "    \n",
    "    adatasub.obs['depth_show'] = -adatasub.obs['depth'].values - i*1300 # name\n",
    "    adatasub.obs['width_show'] =  adatasub.obs['width'].values - np.min(adatasub.obs['width'].values) + j*2500   # name\n",
    "    \n",
    "    adata_merged.append(adatasub)\n",
    "    \n",
    "adata_merged = ad.concat(adata_merged)"
   ]
  },
  {
   "cell_type": "markdown",
   "id": "78dc3508-9843-440d-87a4-b31f6217886d",
   "metadata": {
    "tags": []
   },
   "source": [
    "### MERFISH raw - get high-qual L2/3\n",
    "- using anatomical features to filter out cells\n",
    "- using transcript counts \n",
    "- check cell density - insignificant"
   ]
  },
  {
   "cell_type": "code",
   "execution_count": null,
   "id": "40b94b59-50ca-4e3f-986c-432b7a6b3efa",
   "metadata": {},
   "outputs": [],
   "source": [
    "# filter by L2/3 label\n",
    "adata_l23 = adata_merged[l23_cells].copy()\n",
    "\n",
    "# by depth and by counts\n",
    "conds = np.logical_and(\n",
    "    adata_l23.obs['depth']    < 400,\n",
    "    adata_l23.obs['transcript_count'] > 50,\n",
    ")\n",
    "adata_mer = adata_l23[conds].copy()\n",
    "len(adata_l23), len(adata_mer)"
   ]
  },
  {
   "cell_type": "code",
   "execution_count": null,
   "id": "35900c7a-c7db-4059-9154-d0d12d06cf89",
   "metadata": {
    "tags": []
   },
   "outputs": [],
   "source": [
    "width_min = adata_mer.obs.groupby('sample')['width'].min().reindex(names)\n",
    "width_max = adata_mer.obs.groupby('sample')['width'].max().reindex(names)\n",
    "width_rng = width_max - width_min \n",
    "width_cum = pd.Series(np.cumsum(np.hstack([0, width_rng[:-1]+100])), index=names)\n",
    "\n",
    "adata_mer.obs['width_n0']    =  adata_mer.obs['width']    - width_min.reindex(adata_mer.obs['sample']).values\n",
    "adata_mer.obs['width_show2'] =  adata_mer.obs['width_n0'] + width_cum.reindex(adata_mer.obs['sample']).values\n",
    "adata_mer.obs['depth_show2'] = -adata_mer.obs['depth']"
   ]
  },
  {
   "cell_type": "code",
   "execution_count": null,
   "id": "2c7e474a-3adc-495d-9887-e05ab8145de6",
   "metadata": {},
   "outputs": [],
   "source": [
    "colors = ['C1', 'k']\n",
    "for i, name in enumerate(names):\n",
    "    j = i // 4\n",
    "    color = colors[j]\n",
    "    \n",
    "    adatasub = adata_l23[adata_l23.obs['sample']==name]\n",
    "    sns.histplot(adatasub.obs['depth'].values, element='step', fill=False, color=color)"
   ]
  },
  {
   "cell_type": "code",
   "execution_count": null,
   "id": "50b0f450-a0b7-4703-a7e8-f3a41711ec7c",
   "metadata": {
    "tags": []
   },
   "outputs": [],
   "source": [
    "ns = adata_mer.obs.groupby('sample').size()\n",
    "ls = adata_mer.obs.groupby('sample')['width'].max() - adata_mer.obs.groupby('sample')['width'].min()\n",
    "a, b = (ns/ls)[:4], (ns/ls)[4:]\n",
    "t, p = ttest_ind(a, b)\n",
    "\n",
    "plt.bar(np.arange(5), ns/ls)\n",
    "plt.title(p)"
   ]
  },
  {
   "cell_type": "markdown",
   "id": "d8f91359-6489-4f1b-a816-97ca25e1973c",
   "metadata": {},
   "source": [
    "### summarize things needed"
   ]
  },
  {
   "cell_type": "code",
   "execution_count": null,
   "id": "e7ff9eed-e601-45e6-b18d-fd11cb0a9d3f",
   "metadata": {
    "tags": []
   },
   "outputs": [],
   "source": [
    "# add cols\n",
    "adata_mer.obs['modality'] = 'merfish'\n",
    "\n",
    "\n",
    "lognorm_mer = adata_mer.layers['ljnorm']  \n",
    "adata_mer.layers['zscore'] = zscore(lognorm_mer, axis=0)\n",
    "\n",
    "### spin off an independent NR instance\n",
    "adata_mer_nr = adata_mer[adata_mer.obs['sample'].str.contains('NR')].copy() \n",
    "\n",
    "adata_mer, adata_mer_nr"
   ]
  },
  {
   "cell_type": "markdown",
   "id": "66833bce-60a8-4627-bd06-17353c872cad",
   "metadata": {},
   "source": [
    "# MERFISH only analysis - NR"
   ]
  },
  {
   "cell_type": "code",
   "execution_count": null,
   "id": "12ed0d7f-8c69-4477-9189-54884400a52c",
   "metadata": {
    "tags": []
   },
   "outputs": [],
   "source": [
    "mat_nr = np.array(adata_mer_nr[:, abcgenes].layers['zscore'])\n",
    "pcs_typegenes = PCA(n_components=5, random_state=0).fit_transform(mat_nr)\n",
    "\n",
    "adata_mer_nr.obsm['pcs_typegenes'] = pcs_typegenes"
   ]
  },
  {
   "cell_type": "markdown",
   "id": "255ed037-6684-43e8-b86b-413313172796",
   "metadata": {},
   "source": [
    "# Downstream calc"
   ]
  },
  {
   "cell_type": "markdown",
   "id": "a2ec68eb-ffc6-4057-88bc-5c285d7e63d3",
   "metadata": {},
   "source": [
    "# Viz set up"
   ]
  },
  {
   "cell_type": "code",
   "execution_count": null,
   "id": "65538eca-793d-4cf7-a5f9-edd084fe4a1f",
   "metadata": {},
   "outputs": [],
   "source": [
    "adata_plot1 = adata_mer \n",
    "adata_plot01 = adata_mer_nr\n",
    "\n",
    "clsts_palette2 = {\n",
    "    'L2/3_A': 'C0',    \n",
    "    'L2/3_B': 'C1',    \n",
    "    'L2/3_C': 'C2',    \n",
    "    'NA': 'gray',\n",
    "}"
   ]
  },
  {
   "cell_type": "code",
   "execution_count": null,
   "id": "c691952e-6d1f-40da-a111-db35dc9e43a5",
   "metadata": {},
   "outputs": [],
   "source": [
    "from matplotlib.colors import LinearSegmentedColormap\n",
    "\n",
    "# ABC map\n",
    "colors_a = [(0.0, 'black'), (1.0, 'C0')]      \n",
    "colors_b = [(0.0, 'black'), (1.0, 'C1')]      \n",
    "colors_c = [(0.0, 'black'), (1.0, 'C2')]      \n",
    "cmap_a = LinearSegmentedColormap.from_list('cmap_a', colors_a)\n",
    "cmap_b = LinearSegmentedColormap.from_list('cmap_b', colors_b)\n",
    "cmap_c = LinearSegmentedColormap.from_list('cmap_c', colors_c)\n",
    "\n",
    "# NRDR map\n",
    "colors_nr = [(0.0, 'white'), (1.0, 'C1'),]\n",
    "colors_dr = [(0.0, 'white'), (1.0, 'black'),]\n",
    "colors_nrdr = [(0.0, 'C1'), (0.5, 'white'), (1.0, 'black')]\n",
    "\n",
    "cmap_nr = LinearSegmentedColormap.from_list('cmap_nr', colors_nr)\n",
    "cmap_dr = LinearSegmentedColormap.from_list('cmap_dr', colors_dr)\n",
    "cmap_nrdr = LinearSegmentedColormap.from_list('cmap_nrdr', colors_nrdr)"
   ]
  },
  {
   "cell_type": "markdown",
   "id": "c40d6d32-eb9d-4239-ae81-7d0bc4ea514b",
   "metadata": {
    "tags": []
   },
   "source": [
    "# visualize FISH"
   ]
  },
  {
   "cell_type": "code",
   "execution_count": null,
   "id": "8325ed24-a378-4ef3-8678-5172203f3a7a",
   "metadata": {
    "tags": []
   },
   "outputs": [],
   "source": [
    "adata_mer"
   ]
  },
  {
   "cell_type": "code",
   "execution_count": null,
   "id": "680d3eba-a857-4612-bf20-4bffd5ec6bbe",
   "metadata": {
    "tags": []
   },
   "outputs": [],
   "source": [
    "gns = ['Cdh13', 'Trpc6', 'Sorcs3', 'Chrm2', 'Fos'] \n",
    "x =  adata_mer.obs['width_show2']\n",
    "y =  adata_mer.obs['depth_show2']\n",
    "n = len(gns)\n",
    "\n",
    "fig, axs = plt.subplots(n,1,figsize=(1*25,n*1))\n",
    "for i, (ax, gn) in enumerate(zip(axs, gns)):\n",
    "    if i == 0:\n",
    "        for lbl, coord in width_cum.items():\n",
    "            ax.text(coord, 0, lbl, fontsize=12)\n",
    "    \n",
    "    g = adata_mer[:,gn].layers['ljnorm'].reshape(-1,)\n",
    "    vmax = np.percentile(g, 99)\n",
    "    vmin = np.percentile(g,  0)\n",
    "    sorting = np.argsort(g)\n",
    "    \n",
    "    p = utils_merfish.st_scatter_ax(fig, ax,  x[sorting],  y[sorting],  gexp=g[sorting], s=5, title='', vmin=vmin, vmax=vmax, cmap='rocket_r')\n",
    "    ax.set_title(gn, loc='left', va='center', ha='right', y=0.5, pad=None)\n",
    "    fig.colorbar(p, pad=0, shrink=0.5, aspect=5, ticks=[np.round(vmin, decimals=1), np.round(vmax-0.1, decimals=1)])\n",
    "    \n",
    "fig_manager.savefig(fig)\n",
    "plt.show()\n",
    "    "
   ]
  },
  {
   "cell_type": "code",
   "execution_count": null,
   "id": "59c86ee7-efe1-480d-9e75-c6d13f8f0600",
   "metadata": {
    "tags": []
   },
   "outputs": [],
   "source": [
    "gns = [\n",
    "    'Matn2', 'Otof', \n",
    "    # 'Srf', 'Jund',\n",
    "    'Hkdc1', 'Lynx1', 'Stard8', 'Lamp5', 'Rgs8', 'Igfn1']\n",
    "x =  adata_mer.obs['width_show2']\n",
    "y =  adata_mer.obs['depth_show2']\n",
    "n = len(gns)\n",
    "\n",
    "fig, axs = plt.subplots(n,1,figsize=(1*25,n*1))\n",
    "for i, (ax, gn) in enumerate(zip(axs, gns)):\n",
    "    if i == 0:\n",
    "        for lbl, coord in width_cum.items():\n",
    "            ax.text(coord, 0, lbl, fontsize=12)\n",
    "    \n",
    "    g = adata_mer[:,gn].layers['ljnorm'].reshape(-1,)\n",
    "    vmax = np.percentile(g, 99)\n",
    "    vmin = np.percentile(g,  0)\n",
    "    sorting = np.argsort(g)\n",
    "    \n",
    "    p = utils_merfish.st_scatter_ax(fig, ax,  x[sorting],  y[sorting],  gexp=g[sorting], s=5, title='', vmin=vmin, vmax=vmax, cmap='rocket_r')\n",
    "    ax.set_title(gn, loc='left', va='center', ha='right', y=0.5, pad=None)\n",
    "    fig.colorbar(p, pad=0, shrink=0.5, aspect=5, ticks=[np.round(vmin, decimals=1), np.round(vmax-0.1, decimals=1)])\n",
    "    \n",
    "fig_manager.savefig(fig)\n",
    "plt.show()\n",
    "    "
   ]
  },
  {
   "cell_type": "code",
   "execution_count": null,
   "id": "7f68ba29-031c-4dfd-9259-188d0a59281e",
   "metadata": {
    "tags": []
   },
   "outputs": [],
   "source": [
    "gns = ['Cdh13', 'Trpc6', 'Chrm2',] \n",
    "# adata_plot = adata_mer[adata_mer.obs['sample']=='P28NRa_pos']\n",
    "# adata_plot = adata_mer[adata_mer.obs['sample']=='P28NRa_pos']\n",
    "adata_plot = adata_mer[adata_mer.obs['sample'].str.contains('NR')] #=='P28NRa_pos']\n",
    "\n",
    "x =  adata_plot.obs['width_show2']\n",
    "y =  adata_plot.obs['depth_show2']\n",
    "n = len(gns)\n",
    "\n",
    "fig, axs = plt.subplots(n,1,figsize=(1*10,n*1))\n",
    "for i, (ax, gn) in enumerate(zip(axs, gns)):\n",
    "    g = adata_plot[:,gn].layers['ljnorm'].reshape(-1,)\n",
    "    vmax = np.percentile(g, 99)\n",
    "    vmin = np.percentile(g,  0)\n",
    "    sorting = np.argsort(g)\n",
    "    \n",
    "    p = utils_merfish.st_scatter_ax(fig, ax,  x[sorting],  y[sorting],  gexp=g[sorting], s=5, title='', vmin=vmin, vmax=vmax, cmap='rocket_r')\n",
    "    ax.set_title(gn, loc='left', va='center', ha='right', y=0.5, pad=None)\n",
    "    fig.colorbar(p, pad=0, shrink=0.5, aspect=5, ticks=[np.round(vmin, decimals=1), np.round(vmax-0.1, decimals=1)])\n",
    "    \n",
    "fig_manager.savefig(fig)\n",
    "plt.show()\n",
    "    "
   ]
  },
  {
   "cell_type": "code",
   "execution_count": null,
   "id": "b6d3f2d1-79fd-46e2-83e7-4996a2f9ab98",
   "metadata": {
    "tags": []
   },
   "outputs": [],
   "source": [
    "gns = ['Cdh13', 'Trpc6', 'Chrm2',] \n",
    "bins = np.linspace(100,400,12)\n",
    "adata_plot = adata_mer[adata_mer.obs['sample'].str.contains('NR')] #=='P28NRa_pos']\n",
    "\n",
    "x = -adata_plot.obs['depth_show2']\n",
    "n = len(gns)\n",
    "\n",
    "fig, ax = plt.subplots(1,1,figsize=(1*5,4*1))\n",
    "for i, gn in enumerate(gns):\n",
    "    g = adata_plot[:,gn].layers['ljnorm'].reshape(-1,)\n",
    "    \n",
    "    \n",
    "    tmp = pd.DataFrame(np.vstack([x, g]).T)\n",
    "    tmp['b'] = pd.cut(tmp[0], bins=bins)\n",
    "    tmp_mean = tmp.groupby('b').mean()\n",
    "    \n",
    "    _x = tmp_mean[0].values\n",
    "    _y = tmp_mean[1].values\n",
    "    \n",
    "    ax.plot(_x, _y/np.max(_y), label=gn)\n",
    "    # ax.plot(_x, _y, label=gn)\n",
    "    # break\n",
    "    \n",
    "ax.legend(bbox_to_anchor=(1,1))\n",
    "ax.grid(False)\n",
    "sns.despine(ax=ax)\n",
    "ax.set_ylabel('norm. expression')\n",
    "ax.set_xlabel('cortical depth')\n",
    "ax.set_xlim([100,400])\n",
    "ax.set_ylim([0,1])\n",
    "    \n",
    "fig_manager.savefig(fig)\n",
    "plt.show()\n",
    "    "
   ]
  },
  {
   "cell_type": "code",
   "execution_count": null,
   "id": "c472f63a-1d6c-4c75-8d87-1806daa093ad",
   "metadata": {
    "tags": []
   },
   "outputs": [],
   "source": [
    "gns = [agenes, bgenes, cgenes,] \n",
    "x =  adata_mer.obs['width_show2']\n",
    "y =  adata_mer.obs['depth_show2']\n",
    "titles = ['A genes', 'B genes', 'C genes', ]\n",
    "n = len(gns)\n",
    "\n",
    "fig, axs = plt.subplots(n,1,figsize=(1*25,n*1))\n",
    "for i, (ax, gn, title) in enumerate(zip(axs, gns, titles)):\n",
    "    if i == 0:\n",
    "        for lbl, coord in width_cum.items():\n",
    "            ax.text(coord, 0, lbl, fontsize=12)\n",
    "    \n",
    "    # g = adata_mer[:,gn].layers['ljnorm'].mean(axis=1)\n",
    "    g = adata_mer[:,gn].layers['zscore'].mean(axis=1)\n",
    "    sorting = np.argsort(g)\n",
    "    \n",
    "    vmin = np.percentile(g,  0)\n",
    "    vmax = np.percentile(g, 95)\n",
    "    p = utils_merfish.st_scatter_ax(fig, ax, x[sorting], y[sorting], gexp=g[sorting], \n",
    "                                    s=5, title='', vmin=vmin, vmax=vmax, cmap='coolwarm') #, axis_off=False)\n",
    "    ax.set_title(title, loc='left', va='center', ha='right', y=0.5, pad=None)\n",
    "    fig.colorbar(p, pad=0, shrink=0.5, aspect=5, ticks=[np.round(vmin, decimals=1), np.round(vmax-0.1, decimals=1)])\n",
    "    \n",
    "fig_manager.savefig(fig)\n",
    "plt.show()\n",
    "    "
   ]
  },
  {
   "cell_type": "code",
   "execution_count": null,
   "id": "96e1c2b8-94e6-454a-89df-4acc7b24bfaf",
   "metadata": {
    "tags": []
   },
   "outputs": [],
   "source": [
    "gns = [agenes, bgenes, cgenes] \n",
    "adata_plot = adata_mer[adata_mer.obs['sample'].str.contains('NR')]\n",
    "\n",
    "x =  adata_plot.obs['width_show2']\n",
    "y =  adata_plot.obs['depth_show2']\n",
    "titles = ['A genes', 'B genes', 'C genes', ]\n",
    "n = len(gns)\n",
    "\n",
    "fig, axs = plt.subplots(n,1,figsize=(1*10,n*1))\n",
    "for i, (ax, gn, title) in enumerate(zip(axs, gns, titles)):\n",
    "    # g = adata_plot[:,gn].layers['ljnorm'].mean(axis=1)\n",
    "    g = adata_plot[:,gn].layers['zscore'].mean(axis=1)\n",
    "    sorting = np.argsort(g)\n",
    "    \n",
    "    vmin = np.percentile(g,  0)\n",
    "    vmax = np.percentile(g, 95)\n",
    "    p = utils_merfish.st_scatter_ax(fig, ax, x[sorting], y[sorting], gexp=g[sorting], \n",
    "                                    s=5, title='', vmin=vmin, vmax=vmax, cmap='coolwarm') #, axis_off=False)\n",
    "    ax.set_title(title, loc='left', va='center', ha='right', y=0.5, pad=None)\n",
    "    fig.colorbar(p, pad=0, shrink=0.5, aspect=5, ticks=[np.round(vmin, decimals=1), np.round(vmax-0.1, decimals=1)])\n",
    "    \n",
    "fig_manager.savefig(fig)\n",
    "plt.show()\n",
    "    "
   ]
  },
  {
   "cell_type": "markdown",
   "id": "7350b615-7ff5-4578-83d4-1287d3a76c53",
   "metadata": {
    "tags": []
   },
   "source": [
    "# FISH stats"
   ]
  },
  {
   "cell_type": "code",
   "execution_count": null,
   "id": "909e5119-d4ac-4bd6-8087-3060a98fdbc4",
   "metadata": {
    "tags": []
   },
   "outputs": [],
   "source": [
    "stats = {}\n",
    "bins = np.linspace(0, 400, 4*2+1)\n",
    "\n",
    "for name in names:\n",
    "    adatasub = adata_mer[adata_mer.obs['sample']==name]# v1l23_data[name]\n",
    "    lnorm_mean, lnorm_sem, lnorm_std, n, d, db = binning_pipe2(adatasub, 'depth', 'ljnorm', bins=bins)\n",
    "    stats[name] = (lnorm_mean, lnorm_sem, lnorm_std, n, d, db)\n",
    "d.value_counts()"
   ]
  },
  {
   "cell_type": "code",
   "execution_count": null,
   "id": "37f6c048-c40f-4e0b-abd5-33a2c0380b34",
   "metadata": {
    "tags": []
   },
   "outputs": [],
   "source": [
    "print(len(agenes_idx), \n",
    "      len(bgenes_idx),\n",
    "      len(cgenes_idx),\n",
    "     )"
   ]
  },
  {
   "cell_type": "code",
   "execution_count": null,
   "id": "c5babfcc-a8df-461b-8de1-329d45535929",
   "metadata": {
    "tags": []
   },
   "outputs": [],
   "source": [
    "# mean expression level across V1 L2/3 in NR\n",
    "base_a0 = []\n",
    "base_b0 = []\n",
    "base_c0 = []\n",
    "for name in [\n",
    "    'P21NRb_ant', 'P21NRb_pos', 'P21NRc_ant', 'P21NRc_ant2', 'P21NRc_pos2']:\n",
    "    (lnorm_mean, lnorm_sem, lnorm_std, n, d, db) = stats[name]\n",
    "    base_a = np.mean(lnorm_mean.iloc[:,agenes_idx], axis=0) # across depth bins for each gene\n",
    "    base_b = np.mean(lnorm_mean.iloc[:,bgenes_idx], axis=0) # across depth bins for each gene\n",
    "    base_c = np.mean(lnorm_mean.iloc[:,cgenes_idx], axis=0) # across depth bins for each gene\n",
    "    \n",
    "    base_a0.append(base_a)\n",
    "    base_b0.append(base_b)\n",
    "    base_c0.append(base_c)\n",
    "    \n",
    "base_a0 = np.mean(base_a0, axis=0)\n",
    "base_b0 = np.mean(base_b0, axis=0)\n",
    "base_c0 = np.mean(base_c0, axis=0)\n",
    "\n",
    "base_a0.shape, base_b0.shape, base_c0.shape\n",
    "\n",
    "\n",
    "means = {}\n",
    "sems = {}\n",
    "for name in names:\n",
    "    (lnorm_mean, lnorm_sem, lnorm_std, n, d, db) = stats[name]\n",
    "    \n",
    "    amean = np.mean(lnorm_mean.iloc[:,agenes_idx]-base_a0, axis=1) # a bin vector\n",
    "    bmean = np.mean(lnorm_mean.iloc[:,bgenes_idx]-base_b0, axis=1) # a bin vector\n",
    "    cmean = np.mean(lnorm_mean.iloc[:,cgenes_idx]-base_c0, axis=1) # a bin vector\n",
    "    \n",
    "    asem = np.mean(lnorm_sem.iloc[:,agenes_idx], axis=1)\n",
    "    bsem = np.mean(lnorm_sem.iloc[:,bgenes_idx], axis=1)\n",
    "    csem = np.mean(lnorm_sem.iloc[:,cgenes_idx], axis=1)\n",
    "    \n",
    "    means[name] = [amean, bmean, cmean, ]\n",
    "    sems[name] = [asem, bsem, csem,]\n",
    "    "
   ]
  },
  {
   "cell_type": "code",
   "execution_count": null,
   "id": "9a1889e2-cb55-42b5-9167-334afac16b9a",
   "metadata": {
    "tags": []
   },
   "outputs": [],
   "source": [
    "midpoints = np.mean(np.vstack([bins[:-1], bins[1:]]), axis=0)\n",
    "midpoints"
   ]
  },
  {
   "cell_type": "code",
   "execution_count": null,
   "id": "3d011e00-0ad8-4dbe-bc70-8078b28e76a6",
   "metadata": {
    "tags": []
   },
   "outputs": [],
   "source": [
    "samp_gene_dpth_mat = np.array([np.array(means[name]) for name in names]) \n",
    "print(samp_gene_dpth_mat.shape) # sample, gene group, depth\n",
    "\n",
    "nr_mat = samp_gene_dpth_mat[:4]\n",
    "nr_mean = np.mean(nr_mat, axis=0) # gene group, depth\n",
    "nr_sem  = np.std(nr_mat, axis=0)/np.sqrt(4) # gene group, depth\n",
    "\n",
    "dr_mat = samp_gene_dpth_mat[4:]\n",
    "dr_mean = np.mean(dr_mat, axis=0) # gene group, depth\n",
    "dr_sem  = np.std(dr_mat, axis=0)/np.sqrt(4) # gene group, depth\n",
    "nr_mean.shape, dr_mean.shape"
   ]
  },
  {
   "cell_type": "code",
   "execution_count": null,
   "id": "38b7c41e-95fb-4233-b3f8-2ce5f8e0abda",
   "metadata": {
    "tags": []
   },
   "outputs": [],
   "source": [
    "# t-test between NR and DR for each gene group and each location\n",
    "ts, ps = ttest_ind(nr_mat, dr_mat)\n",
    "rejs, qs, _, _ = multipletests(np.nan_to_num(ps, nan=1).reshape(-1,), alpha=0.05, method='fdr_bh')\n",
    "qs = qs.reshape(ps.shape)\n",
    "nrdr_mean = np.stack([nr_mean, dr_mean], axis=2).mean(axis=2)"
   ]
  },
  {
   "cell_type": "code",
   "execution_count": null,
   "id": "6be436ca-3b28-4b68-9cd3-cf4508ff24b7",
   "metadata": {},
   "outputs": [],
   "source": [
    "gnames = ['A genes (n=64)', 'B genes (n=35)', 'C genes (n=71)']\n",
    "\n",
    "fig, axs = plt.subplots(2, 4, figsize=(5*4,4*2), sharex=True, sharey=True)\n",
    "\n",
    "# ax.set_title('P28NR')\n",
    "linestyle = '-'\n",
    "for ax, name in zip(axs.flat, names):\n",
    "    # (lnorm_mean, lnorm_sem, lnorm_std, n, d, db) = stats[name]\n",
    "    amean, bmean, cmean,  = means[name]\n",
    "    asem, bsem, csem,  = sems[name]\n",
    "    \n",
    "    x = midpoints\n",
    "    ax.plot(x, amean, label='A genes', color='C0', linestyle=linestyle)\n",
    "    ax.fill_between(x, amean-asem, amean+asem, color='C0', alpha=0.1, edgecolor='none')\n",
    "    ax.plot(x, bmean, label='B genes', color='C1', linestyle=linestyle)\n",
    "    ax.fill_between(x, bmean-bsem, bmean+bsem, color='C1', alpha=0.1, edgecolor='none')\n",
    "    ax.plot(x, cmean, label='C genes', color='C2', linestyle=linestyle)\n",
    "    ax.fill_between(x, cmean-csem, cmean+csem, color='C2', alpha=0.1, edgecolor='none')\n",
    "    ax.axhline(color='lightgray', linestyle='dotted', zorder=1)\n",
    "\n",
    "    sns.despine(ax=ax)\n",
    "    ax.set_xticks([0, 100, 200, 300, 400])\n",
    "    ax.set_xlim(left=50, right=400)\n",
    "    ax.set_ylim([-0.4, 0.4])\n",
    "    ax.grid(False)\n",
    "    ax.set_title(name)\n",
    "axs.flat[0].set_ylabel('mean (expr. +/- sem)')\n",
    "\n",
    "    \n",
    "fig.subplots_adjust(wspace=0.1)\n",
    "fig_manager.savefig(fig)\n",
    "# powerplots.savefig_autodate(fig, outdatadir+'/grant_saumya_lineq_abc_v3.pdf')"
   ]
  },
  {
   "cell_type": "code",
   "execution_count": null,
   "id": "6770421a-b8af-4973-a8cb-387083b0e9a7",
   "metadata": {
    "tags": []
   },
   "outputs": [],
   "source": [
    "titles = ['NR', 'DR']\n",
    "data_mean = [nr_mean, dr_mean]\n",
    "data_sem = [nr_sem, dr_sem]\n",
    "gnames = ['A genes', 'B genes', 'C genes']\n",
    "colors = ['C0', 'C1', 'C2']\n",
    "\n",
    "fig, axs = plt.subplots(1, 2, figsize=(5*2,4), sharex=True, sharey=True)\n",
    "for ax, cond_mean, cond_sem, title in zip(axs, data_mean, data_sem, titles):\n",
    "    # ax.set_title('P28NR')\n",
    "    linestyle = '-'\n",
    "    ax.axhline(color='lightgray', linestyle='dotted', zorder=1)\n",
    "    for i, (gname, color) in enumerate(zip(gnames, colors)):\n",
    "        ax.plot(midpoints, cond_mean[i], label=gname, color=color, linestyle=linestyle)\n",
    "        ax.fill_between(midpoints, cond_mean[i]-cond_sem[i], cond_mean[i]+cond_sem[i], color=color, alpha=0.1, edgecolor='none')\n",
    "\n",
    "    sns.despine(ax=ax)\n",
    "    ax.set_xticks([0, 100, 200, 300, 400])\n",
    "    ax.set_xlim(left=50, right=400)\n",
    "    # ax.set_ylim([-0.3, 0.3])\n",
    "    ax.grid(False)\n",
    "    ax.set_title(title)\n",
    "    ax.set_xlabel('upper->lower cortical depth')\n",
    "    \n",
    "axs[0].set_ylabel('mean (expr. +/- sem)')\n",
    "fig.subplots_adjust(wspace=0.1)\n",
    "fig_manager.savefig(fig)\n",
    "plt.show()"
   ]
  },
  {
   "cell_type": "code",
   "execution_count": null,
   "id": "aad928e7-01ae-448c-82b5-7456639d9110",
   "metadata": {
    "tags": []
   },
   "outputs": [],
   "source": [
    "linestyles = ['-', '--']\n",
    "data_mean = [nr_mean, dr_mean]\n",
    "data_sem = [nr_sem, dr_sem]\n",
    "gnames = ['A genes', 'B genes', 'C genes']\n",
    "titles = gnames\n",
    "colors = ['C0', 'C1', 'C2']\n",
    "labels = ['NR', 'DR']\n",
    "sigs = qs\n",
    "allmeans = nrdr_mean\n",
    "\n",
    "fig, axs = plt.subplots(1, 3, figsize=(5*3,4), sharex=True, sharey=True)\n",
    "for i, (ax, gname, color) in enumerate(zip(axs, gnames, colors)):\n",
    "    ax.axhline(color='lightgray', linestyle='dotted', zorder=1)\n",
    "    for cond_mean, cond_sem, title, linestyle in zip(data_mean, data_sem, titles, linestyles):\n",
    "        ax.plot(midpoints, cond_mean[i], label=gname, color=color, linestyle=linestyle, marker='o', markersize=5)\n",
    "        ax.fill_between(midpoints, cond_mean[i]-cond_sem[i], cond_mean[i]+cond_sem[i], color=color, alpha=0.1, edgecolor='none')\n",
    "        \n",
    "    for _x, _y, _sig in zip(midpoints, allmeans[i], sigs[i]):\n",
    "        if _sig < 1e-3:\n",
    "            ax.text(_x, _y, \"***\", ha='left', va='center', fontsize=12, rotation=90)\n",
    "            ax.vlines(_x, _y-0.02, _y+0.02, color='k', linewidth=0.5)\n",
    "        elif _sig < 5e-2:\n",
    "            ax.text(_x, _y, \"*\", ha='left', va='center', fontsize=12, rotation=90)\n",
    "            ax.vlines(_x, _y-0.02, _y+0.02, color='k', linewidth=0.5)\n",
    "\n",
    "    sns.despine(ax=ax)\n",
    "    ax.set_xticks([0, 100, 200, 300, 400])\n",
    "    ax.set_xlim(left=50, right=400)\n",
    "    # ax.set_ylim([-0.2, 0.3])\n",
    "    ax.grid(False)\n",
    "    ax.set_title(gname)\n",
    "    ax.set_xlabel('upper->lower cortical depth')\n",
    "    \n",
    "axs[0].set_ylabel('mean (expr. +/- sem)')\n",
    "fig.subplots_adjust(wspace=0.1)\n",
    "fig_manager.savefig(fig)\n",
    "plt.show()"
   ]
  },
  {
   "cell_type": "code",
   "execution_count": null,
   "id": "ef71a7c6-9eec-4cba-8c24-402076a4a9cc",
   "metadata": {},
   "outputs": [],
   "source": []
  },
  {
   "cell_type": "code",
   "execution_count": null,
   "id": "a12fada1-1029-4350-9b84-ce4dc470c9fd",
   "metadata": {},
   "outputs": [],
   "source": []
  }
 ],
 "metadata": {
  "kernelspec": {
   "display_name": "napari",
   "language": "python",
   "name": "napari"
  },
  "language_info": {
   "codemirror_mode": {
    "name": "ipython",
    "version": 3
   },
   "file_extension": ".py",
   "mimetype": "text/x-python",
   "name": "python",
   "nbconvert_exporter": "python",
   "pygments_lexer": "ipython3",
   "version": "3.9.16"
  }
 },
 "nbformat": 4,
 "nbformat_minor": 5
}
