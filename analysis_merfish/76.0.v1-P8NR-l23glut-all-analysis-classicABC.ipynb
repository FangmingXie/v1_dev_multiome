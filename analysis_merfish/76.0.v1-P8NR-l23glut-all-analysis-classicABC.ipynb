{
 "cells": [
  {
   "cell_type": "code",
   "execution_count": null,
   "id": "aa503af1-8bb5-427a-8241-06e28faa45f3",
   "metadata": {
    "tags": []
   },
   "outputs": [],
   "source": [
    "import numpy as np\n",
    "import pandas as pd\n",
    "import matplotlib.pyplot as plt\n",
    "import seaborn as sns\n",
    "import anndata as ad\n",
    "import scanpy as sc\n",
    "from scipy import stats\n",
    "import os\n",
    "\n",
    "from scipy import spatial\n",
    "from scipy import sparse\n",
    "from scipy.interpolate import CubicSpline\n",
    "from sklearn.decomposition import PCA\n",
    "from sklearn.cluster import KMeans\n",
    "from sklearn.neighbors import NearestNeighbors\n",
    "import networkx as nx\n",
    "from umap import UMAP\n",
    "from scipy.stats import ttest_ind, mannwhitneyu\n",
    "from scipy.stats import pearsonr, spearmanr, zscore\n",
    "from statsmodels.stats.multitest import multipletests\n",
    "\n",
    "import json"
   ]
  },
  {
   "cell_type": "code",
   "execution_count": null,
   "id": "0f45245f-11c8-4e6e-b181-d2bf21e8c459",
   "metadata": {},
   "outputs": [],
   "source": [
    "import importlib\n",
    "import scroutines\n",
    "importlib.reload(scroutines)\n",
    "from scroutines import powerplots\n",
    "from scroutines.miscu import is_in_polygon\n",
    "\n",
    "import utils_merfish\n",
    "importlib.reload(utils_merfish)\n",
    "from utils_merfish import rot2d, st_scatter, st_scatter_ax, plot_cluster, binning\n",
    "from utils_merfish import RefLineSegs\n",
    "\n",
    "import merfish_datasets\n",
    "import merfish_genesets\n",
    "importlib.reload(merfish_datasets)\n",
    "importlib.reload(merfish_genesets)\n",
    "from merfish_datasets import merfish_datasets\n",
    "from merfish_datasets import merfish_datasets_params\n",
    "\n",
    "from scroutines import basicu"
   ]
  },
  {
   "cell_type": "code",
   "execution_count": null,
   "id": "5ee31c0c-9fc3-4bf8-a36e-1cdb4fe398dc",
   "metadata": {
    "tags": []
   },
   "outputs": [],
   "source": [
    "def get_qc_metrics(df):\n",
    "    \"\"\"\n",
    "    return metrics\n",
    "     - key\n",
    "      - (name, val, medval, bins)\n",
    "    \"\"\"\n",
    "    metrics = {}\n",
    "    cols  = ['volume', 'gncov', 'gnnum']\n",
    "    names = ['cell volume', 'num transcripts', 'num genes']\n",
    "    \n",
    "    for col, name in zip(cols, names):\n",
    "        val = df[col].values\n",
    "        medval = np.median(val)\n",
    "        bins = np.linspace(0, 10*medval, 50)\n",
    "        \n",
    "        metrics[col] = (name, val, medval, bins)\n",
    "    return metrics\n",
    "\n",
    "def get_norm_counts(adata, scaling=500):\n",
    "    \"\"\"norm - equalize the volume to be 500 for all cells\n",
    "    \"\"\"\n",
    "    cnts = adata.X\n",
    "    vol = adata.obs['volume'].values\n",
    "    normcnts = cnts/vol.reshape(-1,1)*scaling\n",
    "    adata.layers['norm'] = normcnts\n",
    "    \n",
    "    return normcnts"
   ]
  },
  {
   "cell_type": "code",
   "execution_count": null,
   "id": "8dcb3a41-6fed-4c27-a03a-3ac6508f4622",
   "metadata": {
    "tags": []
   },
   "outputs": [],
   "source": [
    "def preprocessing(adata):\n",
    "    # filter genes\n",
    "    cond = np.ravel((adata.X>0).sum(axis=0)) > 10 # expressed in more than 10 cells\n",
    "    adata_sub = adata[:,cond]\n",
    "\n",
    "    # counts\n",
    "    x = adata_sub.X\n",
    "    cov = adata_sub.obs['n_counts'].values\n",
    "\n",
    "    # CP10k\n",
    "    xn = (sparse.diags(1/cov).dot(x))*1e4\n",
    "\n",
    "    # log10(CP10k+1)\n",
    "    xln = xn.copy()\n",
    "    xln.data = np.log10(xln.data+1)\n",
    "\n",
    "    adata_sub.layers['norm'] = xn\n",
    "    adata_sub.layers['lognorm'] = xln\n",
    "    \n",
    "    return adata_sub"
   ]
  },
  {
   "cell_type": "code",
   "execution_count": null,
   "id": "26899c73-77b3-4788-9ebb-5f4ab7cd1c07",
   "metadata": {
    "tags": []
   },
   "outputs": [],
   "source": [
    "def get_hvgs(adata, layer, nbin=20, qth=0.3):\n",
    "    \"\"\"\n",
    "    \"\"\"\n",
    "    xn = adata.layers[layer]\n",
    "    \n",
    "    # min\n",
    "    gm = np.ravel(xn.mean(axis=0))\n",
    "\n",
    "    # var\n",
    "    tmp = xn.copy()\n",
    "    tmp.data = np.power(tmp.data, 2)\n",
    "    gv = np.ravel(tmp.mean(axis=0))-gm**2\n",
    "\n",
    "    # cut \n",
    "    lbl = pd.qcut(gm, nbin, labels=np.arange(nbin))\n",
    "    gres = pd.DataFrame()\n",
    "    gres['lbl'] = lbl\n",
    "    gres['mean'] = gm\n",
    "    gres['var'] = gv\n",
    "    gres['ratio']= gv/gm\n",
    "\n",
    "    # select\n",
    "    gres_sel = gres.groupby('lbl')['ratio'].nlargest(int(qth*(len(gm)/nbin))) #.reset_index()\n",
    "    gsel_idx = np.sort(gres_sel.index.get_level_values(1).values)\n",
    "\n",
    "    assert np.all(gsel_idx != -1)\n",
    "    \n",
    "    return adata.var.index.values[gsel_idx]"
   ]
  },
  {
   "cell_type": "code",
   "execution_count": null,
   "id": "f8e93405-9c79-4360-911f-6e44d3f65edc",
   "metadata": {
    "tags": []
   },
   "outputs": [],
   "source": [
    "def binning_pipe(adata, n=20, layer='lnorm', bin_type='depth_bin'):\n",
    "    \"\"\"\n",
    "    \"\"\"\n",
    "    assert bin_type in ['depth_bin', 'width_bin']\n",
    "    # bin it \n",
    "    depth_bins, depth_binned = utils_merfish.binning(adata.obs['depth'].values, n)\n",
    "    width_bins, width_binned = utils_merfish.binning(adata.obs['width'].values, n)\n",
    "\n",
    "    norm_ = pd.DataFrame(adata.layers[layer], columns=adata.var.index)\n",
    "    norm_['depth_bin'] = depth_binned\n",
    "    norm_['width_bin'] = width_binned\n",
    "    \n",
    "    norm_mean = norm_.groupby(bin_type).mean(numeric_only=True)\n",
    "    norm_sem  = norm_.groupby(bin_type).sem(numeric_only=True)\n",
    "    norm_std  = norm_.groupby(bin_type).std(numeric_only=True)\n",
    "    norm_n    = norm_[bin_type].value_counts(sort=False)\n",
    "\n",
    "    return norm_mean, norm_sem, norm_std, norm_n, depth_binned, width_binned, depth_bins, width_bins\n",
    "\n",
    "def binning_pipe2(adata, col_to_bin, layer, bins=None, n=20):\n",
    "    \"\"\"\n",
    "    \"\"\"\n",
    "    if bins is None:\n",
    "        # bin it \n",
    "        bins, binned = utils_merfish.binning(adata.obs[col_to_bin].values, n)\n",
    "    else:\n",
    "        binned = pd.cut(adata.obs[col_to_bin].values, bins=bins)\n",
    "\n",
    "    norm_ = pd.DataFrame(adata.layers[layer], columns=adata.var.index)\n",
    "    norm_['thebin'] = binned\n",
    "    \n",
    "    norm_mean = norm_.groupby('thebin').mean(numeric_only=True)\n",
    "    norm_sem  = norm_.groupby('thebin').sem(numeric_only=True)\n",
    "    norm_std  = norm_.groupby('thebin').std(numeric_only=True)\n",
    "    norm_n    = norm_['thebin'].value_counts(sort=False)\n",
    "\n",
    "    return norm_mean, norm_sem, norm_std, norm_n, binned, bins "
   ]
  },
  {
   "cell_type": "code",
   "execution_count": null,
   "id": "17e57120-ac1f-4c1d-9d12-188855ef70f3",
   "metadata": {
    "tags": []
   },
   "outputs": [],
   "source": [
    "def neighbor_label_transfer(k, ref_emb, qry_emb, ref_lbl, p_cutoff=0.5, dist_cutoff=None):\n",
    "    \"\"\"ref vs qry neighbors\n",
    "    \"\"\"\n",
    "    unq_lbls = np.unique(ref_lbl).astype(str) # array(['L2/3_A', 'L2/3_B', 'L2/3_C'])\n",
    "    n_unq_lbls = len(unq_lbls)\n",
    "    ref_n = len(ref_emb)\n",
    "    qry_n = len(qry_emb)\n",
    "    \n",
    "    neigh = NearestNeighbors(n_neighbors=k) # , radius=0.4)\n",
    "    neigh.fit(ref_emb)\n",
    "    dists, idx = neigh.kneighbors(qry_emb, k, return_distance=True)\n",
    "    \n",
    "    raw_pred = ref_lbl[idx]\n",
    "\n",
    "    # p\n",
    "    pabc = np.empty((qry_n, n_unq_lbls))\n",
    "    for i, lbl in enumerate(unq_lbls):\n",
    "        p = np.sum(raw_pred==lbl, axis=1)/k\n",
    "        pabc[:,i] = p\n",
    "\n",
    "    # max\n",
    "    max_pred = unq_lbls[np.argmax(pabc, axis=1)]\n",
    "\n",
    "    # \n",
    "    gated_pred = max_pred.copy()\n",
    "    cond1 = np.max( pabc, axis=1) > p_cutoff\n",
    "    gated_pred[~cond1] = 'NA' \n",
    "    if dist_cutoff is not None:\n",
    "        cond2 = np.max(dists, axis=1) < dist_cutoff\n",
    "        gated_pred[~cond2] = 'NA' \n",
    "    \n",
    "    return max_pred, gated_pred, np.max(dists, axis=1)\n",
    "\n",
    "\n",
    "def neighbor_self_nonself(k, ref_emb, qry_emb):\n",
    "    \"\"\"ref vs qry neighbors\n",
    "    \"\"\"\n",
    "    unq_lbls = np.unique(ref_lbl).astype(str) # array(['L2/3_A', 'L2/3_B', 'L2/3_C'])\n",
    "    n_unq_lbls = len(unq_lbls)\n",
    "    ref_n = len(ref_emb)\n",
    "    qry_n = len(qry_emb)\n",
    "    lbls = np.array([0]*ref_n+[1]*qry_n)\n",
    "    \n",
    "    neigh = NearestNeighbors(n_neighbors=k) # , radius=0.4)\n",
    "    neigh.fit(np.vstack([ref_emb, qry_emb]))\n",
    "    idx = neigh.kneighbors(qry_emb, k, return_distance=False)\n",
    "    \n",
    "    isself = lbls[idx]\n",
    "\n",
    "    p = np.sum(isself, axis=1)/k\n",
    "\n",
    "    \n",
    "    return p # max_pred, gated_pred, np.max(dists, axis=1)"
   ]
  },
  {
   "cell_type": "code",
   "execution_count": null,
   "id": "04932d3e-30d1-4f10-b5e7-6e08a663d64c",
   "metadata": {},
   "outputs": [],
   "source": [
    "from py_pcha import PCHA\n",
    "def get_aa(X):\n",
    "    \"\"\"\n",
    "    \"\"\"\n",
    "    np.random.seed(0)\n",
    "    XC, S, C, SSE, varexpl = PCHA(X, noc=3, delta=0)\n",
    "    XC = np.array(XC)\n",
    "    XC = XC[:,np.argsort(XC[0])].copy() # order this\n",
    "    return XC"
   ]
  },
  {
   "cell_type": "code",
   "execution_count": null,
   "id": "9a0ddfeb-fa2c-4d2e-942f-d7b1fd74a2f8",
   "metadata": {},
   "outputs": [],
   "source": [
    "def add_triangle(XC, ax, zorder=0, vertices=False, label='', linecolor='gray', linewidth=1, **kwargs):\n",
    "    # add the triangle\n",
    "    ax.plot(XC[0].tolist()+[XC[0,0]], XC[1].tolist()+[XC[1,0]], '--', \n",
    "            color=linecolor, label=label, zorder=zorder, linewidth=linewidth, markersize=3)\n",
    "    \n",
    "    # add vertices\n",
    "    if vertices:\n",
    "        ax.scatter(XC[0,0], XC[1,0], color='C0', zorder=zorder, **kwargs)\n",
    "        ax.scatter(XC[0,1], XC[1,1], color='C1', zorder=zorder, **kwargs)\n",
    "        ax.scatter(XC[0,2], XC[1,2], color='C2', zorder=zorder, **kwargs)"
   ]
  },
  {
   "cell_type": "code",
   "execution_count": null,
   "id": "fdf3459a-3520-4b63-8e70-a68af952484e",
   "metadata": {
    "tags": []
   },
   "outputs": [],
   "source": [
    "def p_mark(p):\n",
    "    \"\"\"\n",
    "    \"\"\"\n",
    "    \n",
    "    if p > 0.05:\n",
    "        mark = 'ns'\n",
    "    elif p < 0.05 and p > 0.001:\n",
    "        mark = '*'\n",
    "    elif p < 0.001:\n",
    "        mark = '***'\n",
    "        \n",
    "    return mark"
   ]
  },
  {
   "cell_type": "markdown",
   "id": "948e0c4c-761e-4757-9027-2c6f309b4245",
   "metadata": {
    "tags": []
   },
   "source": [
    "# load data"
   ]
  },
  {
   "cell_type": "code",
   "execution_count": null,
   "id": "fd4d57c8-9bf2-4fb5-b23f-c660adb9c9a3",
   "metadata": {
    "tags": []
   },
   "outputs": [],
   "source": [
    "outfigdir = \"/u/home/f/f7xiesnm/project-zipursky/v1-bb/ms_reanalysis/250414\"\n",
    "!mkdir -p $outfigdir\n",
    "fig_manager = powerplots.FigManager(outfigdir)"
   ]
  },
  {
   "cell_type": "code",
   "execution_count": null,
   "id": "39889430-5345-48d5-acb5-32a077eb6b85",
   "metadata": {},
   "outputs": [],
   "source": [
    "np.random.seed(0)"
   ]
  },
  {
   "cell_type": "markdown",
   "id": "a54c489f-10b6-443c-afb7-f6a0d88a781d",
   "metadata": {},
   "source": [
    "### MERFISH genes"
   ]
  },
  {
   "cell_type": "code",
   "execution_count": null,
   "id": "10056f83-d188-4aea-9e6b-6bfaed8f77e0",
   "metadata": {
    "tags": []
   },
   "outputs": [],
   "source": [
    "f = \"/u/home/f/f7xiesnm/project-zipursky/v1-bb/v1/data/merfish/merfish_genes.txt\" \n",
    "genes = np.loadtxt(f, dtype='str')\n",
    "\n",
    "genesets, typegenes_df = merfish_genesets.get_all_genesets()\n",
    "for key, item in genesets.items():\n",
    "    print(key, len(item))\n",
    "    \n",
    "genes = genesets['allmerfish']\n",
    "agenes = genesets['a']\n",
    "bgenes = genesets['b']\n",
    "cgenes = genesets['c']\n",
    "iegs   = genesets['i']\n",
    "\n",
    "abcgenes = np.hstack([agenes, bgenes, cgenes])\n",
    "genes_noniegs = np.array([g for g in genes if g not in iegs])\n",
    "\n",
    "agenes_idx = basicu.get_index_from_array(genes, agenes)\n",
    "bgenes_idx = basicu.get_index_from_array(genes, bgenes)\n",
    "cgenes_idx = basicu.get_index_from_array(genes, cgenes)\n",
    "igenes_idx = basicu.get_index_from_array(genes, iegs)\n",
    "len(abcgenes), len(genes_noniegs)"
   ]
  },
  {
   "cell_type": "markdown",
   "id": "ef88b0bd-1d74-43a7-8869-17b649060082",
   "metadata": {},
   "source": [
    "### new ABC genes"
   ]
  },
  {
   "cell_type": "code",
   "execution_count": null,
   "id": "98c90cf9-5a37-428f-9c13-5b506d6081b3",
   "metadata": {
    "tags": []
   },
   "outputs": [],
   "source": [
    "# f = \"/u/home/f/f7xiesnm/project-zipursky/v1-bb/v1/data/v1_multiome/DEG_l23abc_gene_list_250409.csv\"\n",
    "# df_genes_newabc = pd.read_csv(f)\n",
    "# # df_genes_newabc = df_genes_newabc[df_genes_newabc['cond']=='P8NR']\n",
    "# abcgenes = df_genes_newabc['gene'].unique()\n",
    "# agenes = df_genes_newabc.loc[df_genes_newabc['archetype']=='A', 'gene'].unique()\n",
    "# bgenes = df_genes_newabc.loc[df_genes_newabc['archetype']=='B', 'gene'].unique()\n",
    "# cgenes = df_genes_newabc.loc[df_genes_newabc['archetype']=='C', 'gene'].unique()\n",
    "\n",
    "# print(len(abcgenes), \n",
    "#       len(agenes)+len(bgenes)+len(cgenes),\n",
    "#       len(agenes),len(bgenes),len(cgenes), \n",
    "#      )\n",
    "# abcgenes = np.intersect1d(genes, abcgenes)\n",
    "# agenes = np.intersect1d(genes, agenes)\n",
    "# bgenes = np.intersect1d(genes, bgenes)\n",
    "# cgenes = np.intersect1d(genes, cgenes)\n",
    "\n",
    "# print(len(abcgenes), \n",
    "#       len(agenes)+len(bgenes)+len(cgenes),\n",
    "#       len(agenes),len(bgenes),len(cgenes), \n",
    "#      )\n",
    "\n",
    "# agenes_idx = basicu.get_index_from_array(genes, agenes)\n",
    "# bgenes_idx = basicu.get_index_from_array(genes, bgenes)\n",
    "# cgenes_idx = basicu.get_index_from_array(genes, cgenes)\n"
   ]
  },
  {
   "cell_type": "markdown",
   "id": "935069ca-1405-4dad-bbba-4db2ad9a09c2",
   "metadata": {},
   "source": [
    "### MERFISH cells (integrated L2/3)"
   ]
  },
  {
   "cell_type": "code",
   "execution_count": null,
   "id": "1abfa400-a56a-4bdd-b61a-d962b03ae2b1",
   "metadata": {
    "tags": []
   },
   "outputs": [],
   "source": [
    "ddir = \"/u/home/f/f7xiesnm/project-zipursky/v1-bb/v1/data/merfish/organized\" \n",
    "\n",
    "# get MERFISH data (cells) from integrated V1L23Glut \n",
    "fin = os.path.join(ddir, 'P8NR_v1l23glut_rna_merfish_250411.h5ad')\n",
    "adata_ = ad.read(fin, backed='r')\n",
    "adata_ = adata_[adata_.obs['modality']=='merfish'] \n",
    "print(adata_.obs['gated_pred_subclass'].unique()) # should be L2/3 only\n",
    "\n",
    "l23_cells = adata_.obs.index.values\n",
    "l23_cells.shape"
   ]
  },
  {
   "cell_type": "markdown",
   "id": "7c73443b-c6f0-41ca-b981-b676b6ce73bb",
   "metadata": {},
   "source": [
    "### MERFISH raw - all genes"
   ]
  },
  {
   "cell_type": "code",
   "execution_count": null,
   "id": "87d2fbbb-90cd-4974-b1d5-78a7bb38ae2d",
   "metadata": {},
   "outputs": [],
   "source": [
    "# %%time\n",
    "names = [\n",
    "    'P8NRa_ant2', \n",
    "    'P8NRb_ant2',\n",
    "    'P8NRc_ant2', \n",
    "    'P8NRd_ant2',\n",
    "    \n",
    "    'P8NRa_pos2', \n",
    "    'P8NRb_pos2',\n",
    "    'P8NRc_pos2', \n",
    "    'P8NRd_pos2',\n",
    "]\n",
    "\n",
    "\n",
    "mean_total_rna_target = 250\n",
    "adata_merged = []\n",
    "\n",
    "for i, name in enumerate(names):\n",
    "    j = i // 4\n",
    "    i = i % 4\n",
    "    \n",
    "    adatasub = ad.read(os.path.join(ddir, f'{name}_l2_v1_250410.h5ad')) \n",
    "    print(name, len(adatasub))\n",
    "    \n",
    "    adatasub.obs.index = np.char.add(f'{name}', adatasub.obs.index.values)\n",
    "    adatasub.obs['sample'] = name\n",
    "    \n",
    "    norm_cnts = adatasub.layers['norm']\n",
    "    mean_per_batch = np.mean(norm_cnts.sum(axis=1))\n",
    "    # mean_per_batch_noniegs = np.mean(adatasub[:,genes_noniegs].layers['norm'].sum(axis=1))\n",
    "    \n",
    "    # adatasub.layers['jnorm']  = norm_cnts*(mean_total_rna_target/mean_per_batch_noniegs)\n",
    "    adatasub.layers['jnorm']  = norm_cnts*(mean_total_rna_target/mean_per_batch)\n",
    "    adatasub.layers['ljnorm'] = np.log2(1+adatasub.layers['jnorm'])\n",
    "    \n",
    "    adatasub.obs['norm_transcript_count']  = adatasub.layers['norm'].sum(axis=1)\n",
    "    adatasub.obs['jnorm_transcript_count'] = adatasub.layers['jnorm'].sum(axis=1)\n",
    "    \n",
    "    adatasub.obs['depth_show'] = -adatasub.obs['depth'].values - i*1300 # name\n",
    "    adatasub.obs['width_show'] =  adatasub.obs['width'].values - np.min(adatasub.obs['width'].values) + j*2500   # name\n",
    "    \n",
    "    adata_merged.append(adatasub)\n",
    "    \n",
    "adata_merged = ad.concat(adata_merged)"
   ]
  },
  {
   "cell_type": "markdown",
   "id": "78dc3508-9843-440d-87a4-b31f6217886d",
   "metadata": {
    "tags": []
   },
   "source": [
    "### MERFISH raw - get high-qual L2/3\n",
    "- using anatomical features to filter out cells\n",
    "- using transcript counts \n",
    "- check cell density - insignificant"
   ]
  },
  {
   "cell_type": "code",
   "execution_count": null,
   "id": "40b94b59-50ca-4e3f-986c-432b7a6b3efa",
   "metadata": {},
   "outputs": [],
   "source": [
    "# filter by L2/3 label\n",
    "adata_l23 = adata_merged[l23_cells].copy()\n",
    "\n",
    "# by depth and by counts\n",
    "conds = np.logical_and(\n",
    "    adata_l23.obs['depth']    < 400,\n",
    "    adata_l23.obs['transcript_count'] > 50,\n",
    ")\n",
    "adata_mer = adata_l23[conds].copy()\n",
    "len(adata_l23), len(adata_mer)"
   ]
  },
  {
   "cell_type": "code",
   "execution_count": null,
   "id": "35900c7a-c7db-4059-9154-d0d12d06cf89",
   "metadata": {
    "tags": []
   },
   "outputs": [],
   "source": [
    "width_min = adata_mer.obs.groupby('sample')['width'].min().reindex(names)\n",
    "width_max = adata_mer.obs.groupby('sample')['width'].max().reindex(names)\n",
    "width_rng = width_max - width_min \n",
    "width_cum = pd.Series(np.cumsum(np.hstack([0, width_rng[:-1]+100])), index=names)\n",
    "\n",
    "adata_mer.obs['width_n0']    =  adata_mer.obs['width']    - width_min.reindex(adata_mer.obs['sample']).values\n",
    "adata_mer.obs['width_show2'] =  adata_mer.obs['width_n0'] + width_cum.reindex(adata_mer.obs['sample']).values\n",
    "adata_mer.obs['depth_show2'] = -adata_mer.obs['depth']"
   ]
  },
  {
   "cell_type": "code",
   "execution_count": null,
   "id": "2c7e474a-3adc-495d-9887-e05ab8145de6",
   "metadata": {},
   "outputs": [],
   "source": [
    "colors = ['C1', 'k']\n",
    "for i, name in enumerate(names):\n",
    "    j = i // 4\n",
    "    color = colors[j]\n",
    "    \n",
    "    adatasub = adata_l23[adata_l23.obs['sample']==name]\n",
    "    sns.histplot(adatasub.obs['depth'].values, element='step', fill=False, color=color)"
   ]
  },
  {
   "cell_type": "code",
   "execution_count": null,
   "id": "50b0f450-a0b7-4703-a7e8-f3a41711ec7c",
   "metadata": {
    "tags": []
   },
   "outputs": [],
   "source": [
    "ns = adata_mer.obs.groupby('sample').size()\n",
    "ls = adata_mer.obs.groupby('sample')['width'].max() - adata_mer.obs.groupby('sample')['width'].min()\n",
    "a, b = (ns/ls)[:4], (ns/ls)[4:]\n",
    "t, p = ttest_ind(a, b)\n",
    "\n",
    "plt.bar(np.arange(8), ns/ls)\n",
    "plt.title(p)"
   ]
  },
  {
   "cell_type": "markdown",
   "id": "6b3de043-b8ef-462d-8c49-e7dcf4ed1d19",
   "metadata": {
    "tags": []
   },
   "source": [
    "### L23 RNA raw (NR as the reference) - all genes "
   ]
  },
  {
   "cell_type": "code",
   "execution_count": null,
   "id": "00834b49-fa7e-4e45-b4c2-c8edd5f5fd16",
   "metadata": {},
   "outputs": [],
   "source": [
    "f = '/u/home/f/f7xiesnm/project-zipursky/v1-bb/v1/data/cheng21_cell_scrna/organized/P28NR.h5ad'\n",
    "adata_rna = sc.read(f)\n",
    "# select L2/3, rename genes, preprocessing, get ABC only as the features\n",
    "adata_rna = adata_rna[adata_rna.obs['Subclass']=='L2/3'].copy()\n",
    "adata_rna.var.index = merfish_genesets.rename_genes(adata_rna.var.index.values) # rename genes according to MERFISH\n",
    "adata_rna = preprocessing(adata_rna)\n",
    "adata_rna"
   ]
  },
  {
   "cell_type": "markdown",
   "id": "d8f91359-6489-4f1b-a816-97ca25e1973c",
   "metadata": {},
   "source": [
    "### summarize things needed"
   ]
  },
  {
   "cell_type": "code",
   "execution_count": null,
   "id": "e7ff9eed-e601-45e6-b18d-fd11cb0a9d3f",
   "metadata": {
    "tags": []
   },
   "outputs": [],
   "source": [
    "# add cols\n",
    "adata_rna.obs['modality'] = 'rna'\n",
    "adata_mer.obs['modality'] = 'merfish'\n",
    "\n",
    "# add zscores (per gene)\n",
    "lognorm_rna = np.log10(1+np.array(adata_rna.layers['norm'].todense()))\n",
    "adata_rna.layers['zscore'] = zscore(lognorm_rna, axis=0)\n",
    "\n",
    "lognorm_mer = adata_mer.layers['ljnorm']  \n",
    "adata_mer.layers['zscore'] = zscore(lognorm_mer, axis=0)\n",
    "\n",
    "### spin off an independent NR instance\n",
    "adata_mer_nr = adata_mer[adata_mer.obs['sample'].str.contains('NR')].copy() \n",
    "adata_rna_nr = adata_rna.copy()  # same for RNA - for future simplicity\n",
    "\n",
    "adata_rna, adata_mer, adata_rna_nr, adata_mer_nr"
   ]
  },
  {
   "cell_type": "markdown",
   "id": "982b52fc-9b01-4e32-bec9-6d8772c0ae6b",
   "metadata": {},
   "source": [
    "# Harmonize using ABC genes - rather than overlapping HVGs at a higher level"
   ]
  },
  {
   "cell_type": "code",
   "execution_count": null,
   "id": "0a14c0e9-0e53-459a-95f3-e5c437b30465",
   "metadata": {
    "tags": []
   },
   "outputs": [],
   "source": [
    "adata_r    = adata_rna[:,abcgenes]\n",
    "adata_m    = adata_mer[:, abcgenes]\n",
    "adata_m_nr = adata_mer_nr[:, abcgenes]\n",
    "\n",
    "# nrdr (MERFISH) & nr (RNA)\n",
    "adata_merge = sc.concat([adata_r, adata_m], join='outer')\n",
    "adata_merge.obsm['X_pca2'] = PCA(n_components=20).fit_transform(adata_merge.layers['zscore']) \n",
    "\n",
    "# nr (MERFISH) & nr (RNA)\n",
    "adata_merge_nr = sc.concat([adata_r, adata_m_nr], join='outer')\n",
    "adata_merge_nr.obsm['X_pca2'] = PCA(n_components=20).fit_transform(adata_merge_nr.layers['zscore']) "
   ]
  },
  {
   "cell_type": "code",
   "execution_count": null,
   "id": "41ba7f03-d83d-4648-8d80-9bbe8fa6c375",
   "metadata": {
    "tags": []
   },
   "outputs": [],
   "source": [
    "sc.external.pp.harmony_integrate(adata_merge, 'modality', basis='X_pca2', max_iter_harmony=20)"
   ]
  },
  {
   "cell_type": "code",
   "execution_count": null,
   "id": "86c59443-e05d-479a-aa02-e0fc6a85e742",
   "metadata": {},
   "outputs": [],
   "source": [
    "sc.external.pp.harmony_integrate(adata_merge_nr, 'modality', basis='X_pca2', max_iter_harmony=20)"
   ]
  },
  {
   "cell_type": "code",
   "execution_count": null,
   "id": "921ba9cb-2aed-423f-89ae-fbe967375d3c",
   "metadata": {
    "tags": []
   },
   "outputs": [],
   "source": [
    "# assign results `X_pca_harmony` back to the original ones `adata_mer` and `adata_rna`\n",
    "\n",
    "adata_rna.obsm['X_pca_harmony']    = adata_merge[adata_rna.obs.index].obsm['X_pca_harmony']\n",
    "adata_mer.obsm['X_pca_harmony']    = adata_merge[adata_mer.obs.index].obsm['X_pca_harmony']\n",
    "\n",
    "adata_rna_nr.obsm['X_pca_harmony'] = adata_merge_nr[adata_rna_nr.obs.index].obsm['X_pca_harmony']\n",
    "adata_mer_nr.obsm['X_pca_harmony'] = adata_merge_nr[adata_mer_nr.obs.index].obsm['X_pca_harmony']"
   ]
  },
  {
   "cell_type": "markdown",
   "id": "66833bce-60a8-4627-bd06-17353c872cad",
   "metadata": {},
   "source": [
    "# MERFISH only analysis - NR"
   ]
  },
  {
   "cell_type": "code",
   "execution_count": null,
   "id": "12ed0d7f-8c69-4477-9189-54884400a52c",
   "metadata": {
    "tags": []
   },
   "outputs": [],
   "source": [
    "mat_nr = np.array(adata_mer_nr[:, abcgenes].layers['zscore'])\n",
    "pcs_typegenes = PCA(n_components=5, random_state=0).fit_transform(mat_nr)\n",
    "\n",
    "adata_mer_nr.obsm['pcs_typegenes'] = pcs_typegenes"
   ]
  },
  {
   "cell_type": "code",
   "execution_count": null,
   "id": "612feb6e-2564-4f2d-891b-3f7b8c7a1903",
   "metadata": {},
   "outputs": [],
   "source": []
  },
  {
   "cell_type": "code",
   "execution_count": null,
   "id": "834edd02-3cf3-4146-97a7-0a9f24a883a5",
   "metadata": {},
   "outputs": [],
   "source": []
  },
  {
   "cell_type": "code",
   "execution_count": null,
   "id": "3034baac-0e67-4b7c-8ac5-11609a0c30a6",
   "metadata": {},
   "outputs": [],
   "source": []
  },
  {
   "cell_type": "markdown",
   "id": "255ed037-6684-43e8-b86b-413313172796",
   "metadata": {},
   "source": [
    "# Downstream calc"
   ]
  },
  {
   "cell_type": "code",
   "execution_count": null,
   "id": "04be3fdc-5315-4585-a029-ad1e62fffbda",
   "metadata": {
    "tags": []
   },
   "outputs": [],
   "source": [
    "def wrap_label_transfer(ref, qry, key_emb, key_lbl, k=30):\n",
    "    \"\"\"write results into \n",
    "    qry.obs[key_lbl]\n",
    "    \"\"\"\n",
    "    \n",
    "    # # label transfer from RNA data\n",
    "    ref_emb = ref.obsm[key_emb][:,:2]\n",
    "    qry_emb = qry.obsm[key_emb][:,:2]\n",
    "    ref_lbl = ref.obs[key_lbl].values.astype(str)\n",
    "\n",
    "    qry_lbl, _, _ = neighbor_label_transfer(k, ref_emb, qry_emb, ref_lbl, p_cutoff=0.5, dist_cutoff=None)\n",
    "    qry.obs[key_lbl] = qry_lbl\n",
    "    \n",
    "    return "
   ]
  },
  {
   "cell_type": "code",
   "execution_count": null,
   "id": "bf61d60b-cf55-4c8d-9303-3c3a96128499",
   "metadata": {
    "tags": []
   },
   "outputs": [],
   "source": [
    "def get_abc_scores(adata, agenes, bgenes, cgenes):\n",
    "    \"\"\"\n",
    "    \"\"\"\n",
    "    \n",
    "    # get ABC scores\n",
    "    g0_a = zscore(adata[:,agenes].layers['ljnorm'], axis=0).mean(axis=1)\n",
    "    g0_b = zscore(adata[:,bgenes].layers['ljnorm'], axis=0).mean(axis=1)\n",
    "    g0_c = zscore(adata[:,cgenes].layers['ljnorm'], axis=0).mean(axis=1)\n",
    "\n",
    "    # make ABC scores comparable and norm to [0,1] [40% to 95%]\n",
    "    vmin_p, vmax_p = 40, 95\n",
    "    vmin_a = np.percentile(g0_a, vmin_p)\n",
    "    vmax_a = np.percentile(g0_a, vmax_p)\n",
    "\n",
    "    vmin_b = np.percentile(g0_b, vmin_p)\n",
    "    vmax_b = np.percentile(g0_b, vmax_p)\n",
    "\n",
    "    vmin_c = np.percentile(g0_c, vmin_p)\n",
    "    vmax_c = np.percentile(g0_c, vmax_p)\n",
    "\n",
    "    g0_a = np.clip((g0_a-vmin_a)/(vmax_a-vmin_a), 0, 1)\n",
    "    g0_b = np.clip((g0_b-vmin_b)/(vmax_b-vmin_b), 0, 1)\n",
    "    g0_c = np.clip((g0_c-vmin_c)/(vmax_c-vmin_c), 0, 1)\n",
    "\n",
    "    # separate them into scale and frequency (mag 0~3 vs direction 0 or 1)\n",
    "    g0_sum  = (g0_a+g0_b+g0_c)\n",
    "    freq0_a = g0_a/(g0_sum+1e-5)\n",
    "    freq0_b = g0_b/(g0_sum+1e-5)\n",
    "    freq0_c = g0_c/(g0_sum+1e-5)\n",
    "\n",
    "    # record\n",
    "    adata.obsm['size_freq_abc'] = np.vstack([freq0_a, freq0_b, freq0_c, g0_sum]).T\n",
    "    \n",
    "    return\n",
    "\n",
    "def get_abc_stats(adata, samples):\n",
    "    \"\"\"per sample\n",
    "    \n",
    "    assigned to the best score\n",
    "    some na due to 0,0,0\n",
    "    \"\"\"\n",
    "    # score based (ABC) assignment\n",
    "    res = []\n",
    "    for sample in samples:\n",
    "        if 'ant' in sample:\n",
    "            cond = 'ant'\n",
    "        elif 'pos' in sample:\n",
    "            cond = 'pos'\n",
    "\n",
    "        adatasub = adata[adata.obs['sample']==sample]\n",
    "        freq_a = adatasub.obsm['size_freq_abc'][:,0]\n",
    "        freq_b = adatasub.obsm['size_freq_abc'][:,1]\n",
    "        freq_c = adatasub.obsm['size_freq_abc'][:,2]\n",
    "\n",
    "        n = len(adatasub)\n",
    "        cond_na = (freq_a+freq_b+freq_c)==0\n",
    "        tn = np.sum(cond_na)\n",
    "\n",
    "        rank = np.argsort(np.vstack([freq_a,freq_b,freq_c]).T[~cond_na], axis=1)[:,-1]\n",
    "        ta = np.sum(rank==0)\n",
    "        tb = np.sum(rank==1)\n",
    "        tc = np.sum(rank==2)\n",
    "\n",
    "        assert np.abs(n-(ta+tb+tc)-tn) < 1\n",
    "        res.append([sample, cond, ta/n*100, tb/n*100, tc/n*100, tn/n*100])\n",
    "\n",
    "    res = pd.DataFrame(res, columns=['sample', 'cond', 'L2/3_A', 'L2/3_B', 'L2/3_C', 'NA']).set_index('sample')\n",
    "    return res\n",
    "\n",
    "def get_abc_stats_typeready(adata, samples, sample_col, type_col):\n",
    "    \"\"\"\n",
    "    \"\"\"\n",
    "    num_types = adata.obs.groupby([sample_col, type_col]).size().unstack().reindex(samples)\n",
    "    frq_types = num_types.divide(num_types.sum(axis=1), axis=0)*100\n",
    "    frq_types['cond'] = np.where(frq_types.index.str.contains('pos'), 'pos', 'ant')\n",
    "    \n",
    "    return frq_types"
   ]
  },
  {
   "cell_type": "code",
   "execution_count": null,
   "id": "d17dafe4-45a7-42a8-9ce0-994ddd5a0c08",
   "metadata": {
    "tags": []
   },
   "outputs": [],
   "source": [
    "# # label transfer from RNA data\n",
    "wrap_label_transfer(adata_rna_nr, adata_mer_nr, 'X_pca_harmony', 'Type', k=30)\n",
    "\n",
    "# # label transfer from RNA data\n",
    "wrap_label_transfer(adata_rna, adata_mer, 'X_pca_harmony', 'Type', k=30) # note that adata_rna == adata_rna_nr"
   ]
  },
  {
   "cell_type": "code",
   "execution_count": null,
   "id": "5a7d8d39-4022-46f1-8dc7-91dabdec99bf",
   "metadata": {
    "tags": []
   },
   "outputs": [],
   "source": [
    "%%time\n",
    "\n",
    "### 3 NR\n",
    "# RNA+MERFISH NR \n",
    "X = adata_merge_nr.obsm['X_pca_harmony'][:,:2].T\n",
    "XC0 = get_aa(X)\n",
    "\n",
    "# RNA NR\n",
    "X = adata_rna_nr.obsm['X_pca_harmony'][:,:2].T\n",
    "XC1 = get_aa(X)\n",
    "\n",
    "# MERFISH NR\n",
    "X = adata_mer_nr.obsm['X_pca_harmony'][:,:2].T\n",
    "XC2 = get_aa(X)\n",
    "\n",
    "# MERFISH NRDR\n",
    "X = adata_mer.obsm['X_pca_harmony'][:,:2].T\n",
    "XC = get_aa(X)\n",
    "\n",
    "# MERFISH NR no integration\n",
    "X = adata_mer_nr.obsm['pcs_typegenes'][:,[0,2]].T\n",
    "XC_alone = get_aa(X)"
   ]
  },
  {
   "cell_type": "code",
   "execution_count": null,
   "id": "ffaf93ca-ab96-4cf4-b9cb-8a76b7a81060",
   "metadata": {
    "tags": []
   },
   "outputs": [],
   "source": [
    "# abc scores\n",
    "get_abc_scores(adata_mer, agenes, bgenes, cgenes)\n",
    "get_abc_scores(adata_mer_nr, agenes, bgenes, cgenes)\n",
    "\n",
    "# score based (ABC) assignment\n",
    "typefrq_abc    = get_abc_stats(adata_mer, names)\n",
    "typefrq_abc_nr = get_abc_stats(adata_mer_nr, names[:4])"
   ]
  },
  {
   "cell_type": "code",
   "execution_count": null,
   "id": "44cabba1-a9cb-497f-84ad-083ee1a0a7c3",
   "metadata": {
    "tags": []
   },
   "outputs": [],
   "source": [
    "# label-transfer-based (PC1/PC2) assignment \n",
    "typefrq_lbt = get_abc_stats_typeready(adata_mer, names, 'sample', 'Type')\n",
    "typefrq_lbt_nr = get_abc_stats_typeready(adata_mer_nr, names[:4], 'sample', 'Type')\n",
    "\n",
    "typefrq_lbt"
   ]
  },
  {
   "cell_type": "code",
   "execution_count": null,
   "id": "28388ba0-48ab-4d54-9af7-75ca027fec2b",
   "metadata": {},
   "outputs": [],
   "source": [
    "# compare two results?\n",
    "# what to expect?"
   ]
  },
  {
   "cell_type": "code",
   "execution_count": null,
   "id": "503bd34c-cadf-4755-b531-d151dced640f",
   "metadata": {},
   "outputs": [],
   "source": []
  },
  {
   "cell_type": "code",
   "execution_count": null,
   "id": "19af6493-c2d1-4004-ab37-7d5ea60be8c1",
   "metadata": {},
   "outputs": [],
   "source": []
  },
  {
   "cell_type": "code",
   "execution_count": null,
   "id": "3ae667f3-3526-41ee-b5ac-19988854a126",
   "metadata": {},
   "outputs": [],
   "source": []
  },
  {
   "cell_type": "markdown",
   "id": "a2ec68eb-ffc6-4057-88bc-5c285d7e63d3",
   "metadata": {},
   "source": [
    "# Viz set up"
   ]
  },
  {
   "cell_type": "code",
   "execution_count": null,
   "id": "65538eca-793d-4cf7-a5f9-edd084fe4a1f",
   "metadata": {},
   "outputs": [],
   "source": [
    "adata_rna.obs['hpc1']    = np.array(adata_rna.obsm['X_pca_harmony'][:,0])\n",
    "adata_rna.obs['hpc2']    = np.array(adata_rna.obsm['X_pca_harmony'][:,1])\n",
    "\n",
    "adata_mer.obs['hpc1']    = np.array(adata_mer.obsm['X_pca_harmony'][:,0])\n",
    "adata_mer.obs['hpc2']    = np.array(adata_mer.obsm['X_pca_harmony'][:,1])\n",
    "\n",
    "adata_merge.obs['hpc1']  = np.array(adata_merge.obsm['X_pca_harmony'][:,0])\n",
    "adata_merge.obs['hpc2']  = np.array(adata_merge.obsm['X_pca_harmony'][:,1])\n",
    "\n",
    "adata_rna_nr.obs['hpc1'] = np.array(adata_rna_nr.obsm['X_pca_harmony'][:,0])\n",
    "adata_rna_nr.obs['hpc2'] = np.array(adata_rna_nr.obsm['X_pca_harmony'][:,1])\n",
    "\n",
    "adata_mer_nr.obs['hpc1'] = np.array(adata_mer_nr.obsm['X_pca_harmony'][:,0])\n",
    "adata_mer_nr.obs['hpc2'] = np.array(adata_mer_nr.obsm['X_pca_harmony'][:,1])\n",
    "\n",
    "adata_merge_nr.obs['hpc1'] = np.array(adata_merge_nr.obsm['X_pca_harmony'][:,0])\n",
    "adata_merge_nr.obs['hpc2'] = np.array(adata_merge_nr.obsm['X_pca_harmony'][:,1])\n",
    "\n",
    "adata_plot0 = adata_rna\n",
    "adata_plot1 = adata_mer \n",
    "\n",
    "adata_plot00 = adata_rna_nr\n",
    "adata_plot01 = adata_mer_nr\n",
    "\n",
    "clsts_palette2 = {\n",
    "    'L2/3_A': 'C0',    \n",
    "    'L2/3_B': 'C1',    \n",
    "    'L2/3_C': 'C2',    \n",
    "    'NA': 'gray',\n",
    "}"
   ]
  },
  {
   "cell_type": "code",
   "execution_count": null,
   "id": "c691952e-6d1f-40da-a111-db35dc9e43a5",
   "metadata": {},
   "outputs": [],
   "source": [
    "from matplotlib.colors import LinearSegmentedColormap\n",
    "\n",
    "# ABC map\n",
    "colors_a = [(0.0, 'black'), (1.0, 'C0')]      \n",
    "colors_b = [(0.0, 'black'), (1.0, 'C1')]      \n",
    "colors_c = [(0.0, 'black'), (1.0, 'C2')]      \n",
    "cmap_a = LinearSegmentedColormap.from_list('cmap_a', colors_a)\n",
    "cmap_b = LinearSegmentedColormap.from_list('cmap_b', colors_b)\n",
    "cmap_c = LinearSegmentedColormap.from_list('cmap_c', colors_c)\n",
    "\n",
    "# NRDR map\n",
    "colors_nr = [(0.0, 'white'), (1.0, 'C1'),]\n",
    "colors_dr = [(0.0, 'white'), (1.0, 'black'),]\n",
    "colors_nrdr = [(0.0, 'C1'), (0.5, 'white'), (1.0, 'black')]\n",
    "\n",
    "cmap_nr = LinearSegmentedColormap.from_list('cmap_nr', colors_nr)\n",
    "cmap_dr = LinearSegmentedColormap.from_list('cmap_dr', colors_dr)\n",
    "cmap_nrdr = LinearSegmentedColormap.from_list('cmap_nrdr', colors_nrdr)"
   ]
  },
  {
   "cell_type": "markdown",
   "id": "2a65d836-7c37-4617-8de7-5b5b36209752",
   "metadata": {},
   "source": [
    "# MERFISH NR alone"
   ]
  },
  {
   "cell_type": "code",
   "execution_count": null,
   "id": "ed05c823-cfe6-4bfa-b6a0-2594de2de4f8",
   "metadata": {
    "tags": []
   },
   "outputs": [],
   "source": [
    "metrics = ['gnnum', 'transcript_count', 'jnorm_transcript_count',] #  'depth',]\n",
    "for j in range(3):\n",
    "    \n",
    "    y = adata_mer_nr.obsm['pcs_typegenes'][:,j]\n",
    "    fig, axs = plt.subplots(1,3,figsize=(3*4,1*4), sharey=True)\n",
    "    for i, metric in enumerate(metrics):\n",
    "        ax = axs[i]\n",
    "        x = adata_mer_nr.obs[metric]\n",
    "        r, _ = spearmanr(x,y)\n",
    "        ax.scatter(x, y, s=1, rasterized=True)\n",
    "        ax.set_ylabel(f'PC{j+1}')\n",
    "        ax.set_title(f'r={r:.2f}')\n",
    "        ax.set_xscale('log')\n",
    "        ax.set_xlabel(metric)\n",
    "        sns.despine(ax=ax)\n",
    "    fig.tight_layout()\n",
    "    \n",
    "    fig_manager.savefig(fig)\n",
    "    plt.show()"
   ]
  },
  {
   "cell_type": "code",
   "execution_count": null,
   "id": "ebaa4280-d5b4-4909-97ee-9dc0445d3313",
   "metadata": {},
   "outputs": [],
   "source": [
    "metrics = ['gnnum', 'transcript_count', 'jnorm_transcript_count',] #  'depth',]\n",
    "rss = [[],[],[]]\n",
    "for i, metric in enumerate(metrics):\n",
    "    rs = []\n",
    "    x = adata_mer_nr.obs[metric]\n",
    "    for j in range(5):\n",
    "        y = adata_mer_nr.obsm['pcs_typegenes'][:,j]\n",
    "        r, _ = spearmanr(x,y)\n",
    "        rs.append(r)\n",
    "    rss[i] = rs\n",
    "        \n",
    "\n",
    "fig, axs = plt.subplots(1,3,figsize=(3*4,1*4))\n",
    "for i in range(3):\n",
    "    axs[i].bar(np.arange(5), np.abs(rss[i]))"
   ]
  },
  {
   "cell_type": "code",
   "execution_count": null,
   "id": "b91aeade-5655-4375-adac-81c8b4513b67",
   "metadata": {
    "tags": []
   },
   "outputs": [],
   "source": [
    "xi, yi = 0, 1\n",
    "\n",
    "gns = [agenes, bgenes, cgenes]\n",
    "titles = ['A genes', 'B genes', 'C genes']\n",
    "\n",
    "fig, axs = plt.subplots(1,3,figsize=(4*5,1*3), sharex=True, sharey=True)\n",
    "for j, (ax, gn, title,) in enumerate(zip(axs, gns, titles)):\n",
    "    g = adata_mer_nr[:,gn].layers['ljnorm'].mean(axis=1)\n",
    "    x = adata_mer_nr.obsm['pcs_typegenes'][:,xi]\n",
    "    y = adata_mer_nr.obsm['pcs_typegenes'][:,yi]\n",
    "\n",
    "    p = utils_merfish.st_scatter_ax(fig, ax, x, y, gexp=g, s=5, cmap='coolwarm', vmin_p=5, vmax_p=95)\n",
    "    colorbar = plt.colorbar(p, aspect=5, shrink=0.3)\n",
    "\n",
    "    # Show ticks but no grid\n",
    "    ax.set_aspect('equal')\n",
    "    ax.axis('on')\n",
    "    ax.grid(False)  # Turn off grid lines\n",
    "    sns.despine(ax=ax)\n",
    "    ax.tick_params(axis='both', which='both', bottom=True, left=True)\n",
    "    \n",
    "    ax.set_xlabel(f'PC{xi+1}')\n",
    "    ax.set_ylabel(f'PC{yi+1}')\n",
    "\n",
    "    ax.set_title(title)\n",
    "\n",
    "\n",
    "fig_manager.savefig(fig)\n",
    "plt.show()"
   ]
  },
  {
   "cell_type": "code",
   "execution_count": null,
   "id": "f10b572c-ecc3-4974-8478-718126ea680f",
   "metadata": {
    "tags": []
   },
   "outputs": [],
   "source": [
    "xi, yi = 0, 2\n",
    "\n",
    "gns = [agenes, bgenes, cgenes]\n",
    "titles = ['A genes', 'B genes', 'C genes']\n",
    "\n",
    "fig, axs = plt.subplots(1,3,figsize=(4*5,1*3), sharex=True, sharey=True)\n",
    "for j, (ax, gn, title,) in enumerate(zip(axs, gns, titles)):\n",
    "    g = adata_mer_nr[:,gn].layers['ljnorm'].mean(axis=1)\n",
    "    x = adata_mer_nr.obsm['pcs_typegenes'][:,xi]\n",
    "    y = adata_mer_nr.obsm['pcs_typegenes'][:,yi]\n",
    "\n",
    "    p = utils_merfish.st_scatter_ax(fig, ax, x, y, gexp=g, s=5, cmap='coolwarm', vmin_p=5, vmax_p=95)\n",
    "    colorbar = plt.colorbar(p, aspect=5, shrink=0.3)\n",
    "\n",
    "    # Show ticks but no grid\n",
    "    ax.set_aspect('equal')\n",
    "    ax.axis('on')\n",
    "    ax.grid(False)  # Turn off grid lines\n",
    "    sns.despine(ax=ax)\n",
    "    ax.tick_params(axis='both', which='both', bottom=True, left=True)\n",
    "    \n",
    "    ax.set_xlabel(f'PC{xi+1}')\n",
    "    ax.set_ylabel(f'PC{yi+1}')\n",
    "    \n",
    "    \n",
    "    add_triangle(XC_alone, ax)\n",
    "\n",
    "    ax.set_title(title)\n",
    "\n",
    "\n",
    "fig_manager.savefig(fig)\n",
    "plt.show()"
   ]
  },
  {
   "cell_type": "code",
   "execution_count": null,
   "id": "ae924bf9-4932-4dc6-9e5a-f37260cf59b0",
   "metadata": {},
   "outputs": [],
   "source": []
  },
  {
   "cell_type": "markdown",
   "id": "7d3a73cb-2fd7-43fe-ba39-be8ac7a216a3",
   "metadata": {},
   "source": [
    "# MERFISH alone - triangle stability"
   ]
  },
  {
   "cell_type": "code",
   "execution_count": null,
   "id": "03d630a9-a669-4cdc-91d1-f5e51952d99a",
   "metadata": {
    "tags": []
   },
   "outputs": [],
   "source": [
    "def shuff_genes(mat, seed=0):\n",
    "    \"\"\"\n",
    "    shuffle each column independently\n",
    "    \n",
    "    if cell by gene as input; it will shuffle each gene independently across cells\n",
    "    \"\"\"\n",
    "    rng = np.random.default_rng(seed=seed)\n",
    "    mat_shuff = rng.permuted(mat, axis=0)\n",
    "    return mat_shuff"
   ]
  },
  {
   "cell_type": "code",
   "execution_count": null,
   "id": "d4b3d4e6-7577-41e3-8277-48911c71b082",
   "metadata": {
    "tags": []
   },
   "outputs": [],
   "source": [
    "def downsample_X(X, p=0.8):\n",
    "    \"\"\"downsample cells (assuming it is feature by cell matrix)\n",
    "    \"\"\"\n",
    "    return X[:,np.random.rand(X.shape[1])<p]"
   ]
  },
  {
   "cell_type": "code",
   "execution_count": null,
   "id": "91de1063-fa4f-4f10-ae34-e19db39c7003",
   "metadata": {
    "tags": []
   },
   "outputs": [],
   "source": [
    "def aa_inference(X):\n",
    "    \"\"\"\n",
    "    \"\"\"\n",
    "    XC, _, _, _, _ = PCHA(X, noc=3, delta=0)\n",
    "    XC = np.array(XC)\n",
    "    XC = XC[:,np.argsort(XC[0])] # assign an order according to x-axis \n",
    "    return XC"
   ]
  },
  {
   "cell_type": "markdown",
   "id": "41b8e512-10d4-453c-afef-b635f01c1a22",
   "metadata": {
    "tags": []
   },
   "source": [
    "# viz NR only"
   ]
  },
  {
   "cell_type": "code",
   "execution_count": null,
   "id": "a8ba556f-b430-4331-8471-6fdcee27a62c",
   "metadata": {
    "tags": []
   },
   "outputs": [],
   "source": [
    "fig, axs = plt.subplots(1,2, figsize=(2*6,1*5))\n",
    "ax = axs[0]\n",
    "sns.scatterplot(data=adata_merge_nr.obs.sample(frac=1, replace=False), \n",
    "                x='hpc1', y='hpc2', hue='modality', s=5, edgecolor='none', \n",
    "                ax=ax,\n",
    "               )\n",
    "add_triangle(XC0, ax)\n",
    "# add_triangle(XC1, ax)\n",
    "# add_triangle(XC2, ax)\n",
    "ax.set_aspect('equal')\n",
    "\n",
    "ax = axs[1]\n",
    "sns.scatterplot(data=adata_merge_nr.obs.sample(frac=1, replace=False), \n",
    "                x='hpc1', y='hpc2', hue='Type', s=5, edgecolor='none', \n",
    "                ax=ax,\n",
    "               )\n",
    "add_triangle(XC0, ax)\n",
    "# add_triangle(XC1, ax)\n",
    "# add_triangle(XC2, ax)\n",
    "ax.set_aspect('equal')\n",
    "plt.show()"
   ]
  },
  {
   "cell_type": "code",
   "execution_count": null,
   "id": "356a149c-f8fd-4117-b784-245577116bbf",
   "metadata": {
    "tags": []
   },
   "outputs": [],
   "source": [
    "fig, axs = plt.subplots(1,2,figsize=(2*6,1*5), sharex=True, sharey=True)\n",
    "ax = axs[0]\n",
    "ax.set_title('rna')\n",
    "sns.scatterplot(data=adata_plot00.obs.sample(frac=1, replace=False), \n",
    "                ax=ax, x='hpc1', y='hpc2', \n",
    "                hue='Type', \n",
    "                palette=clsts_palette2, hue_order=list(clsts_palette2.keys()),\n",
    "                legend=False,\n",
    "                s=5, edgecolor='none', rasterized=True)\n",
    "ax.set_aspect('equal')\n",
    "add_triangle(XC0, ax, vertices=True, edgecolors='k', linewidths=1, marker='o')\n",
    "sns.despine(ax=ax)\n",
    "ax.grid(False)\n",
    "\n",
    "ax = axs[1]\n",
    "ax.set_title('merfish')\n",
    "sns.scatterplot(data=adata_plot01.obs.sample(frac=1, replace=False), \n",
    "                ax=ax, x='hpc1', y='hpc2', \n",
    "                hue='Type', \n",
    "                palette=clsts_palette2, hue_order=list(clsts_palette2.keys()),\n",
    "                legend=False,\n",
    "                s=5, edgecolor='none', rasterized=True)\n",
    "ax.set_aspect('equal')\n",
    "add_triangle(XC0, ax, vertices=True, edgecolors='k', linewidths=1, marker='o')\n",
    "sns.despine(ax=ax)\n",
    "ax.grid(False)\n",
    "fig_manager.savefig(fig)\n",
    "plt.show()"
   ]
  },
  {
   "cell_type": "code",
   "execution_count": null,
   "id": "d7b462b7-09bb-43bd-9ee1-305f54bc484c",
   "metadata": {
    "tags": []
   },
   "outputs": [],
   "source": [
    "gns = ['Cdh13', 'Sorcs3', 'Trpc6', 'Chrm2'] \n",
    "n = len(gns)\n",
    "titles = gns\n",
    "dfplot = adata_plot01.obs.sample(frac=1, replace=False)\n",
    "\n",
    "x = dfplot['hpc1'].values\n",
    "y = dfplot['hpc2'].values\n",
    "\n",
    "fig, axs = plt.subplots(1,n,figsize=(n*5,1*3), sharex=True, sharey=True)\n",
    "for j, (ax, gn, title,) in enumerate(zip(axs, gns, titles)):\n",
    "    g = adata_plot01[dfplot.index, gn].layers['ljnorm'].reshape(-1,)\n",
    "    vmin = np.percentile(g,  0)\n",
    "    vmax = np.percentile(g, 95)\n",
    "    \n",
    "    # p = utils_merfish.st_scatter_ax(fig, ax, x, y, gexp=g, s=5, vmin=vmin, vmax=vmax, cmap='rocket_r')\n",
    "    \n",
    "    sorting = np.argsort(g)\n",
    "    p = utils_merfish.st_scatter_ax(fig, ax, x[sorting], y[sorting], gexp=g[sorting], s=5, vmin=vmin, vmax=vmax, cmap='rocket_r')\n",
    "    colorbar = plt.colorbar(p, aspect=5, shrink=0.3)\n",
    "\n",
    "    # Show ticks but no grid\n",
    "    ax.set_aspect('equal')\n",
    "    ax.axis('on')\n",
    "    ax.grid(False)  # Turn off grid lines\n",
    "    sns.despine(ax=ax)\n",
    "    ax.tick_params(axis='both', which='both', bottom=True, left=True)\n",
    "\n",
    "    ax.set_title(title)\n",
    "\n",
    "    add_triangle(XC0, ax)\n",
    "fig_manager.savefig(fig)\n",
    "plt.show()"
   ]
  },
  {
   "cell_type": "code",
   "execution_count": null,
   "id": "0b19c8c3-8b4a-47ba-88ea-e85c4409d34c",
   "metadata": {
    "tags": []
   },
   "outputs": [],
   "source": [
    "bins = np.linspace(100,400,30)\n",
    "\n",
    "fig, ax = plt.subplots(1,1,figsize=(1*5,1*3)) \n",
    "adatasub = adata_mer_nr\n",
    "depth = -adatasub.obs['depth_show2']\n",
    "lbls = adatasub.obs['Type']\n",
    "\n",
    "p = sns.histplot(depth[lbls=='L2/3_A'], bins=bins, ax=ax, element='step', fill=False, stat='percent') \n",
    "p = sns.histplot(depth[lbls=='L2/3_B'], bins=bins, ax=ax, element='step', fill=False, stat='percent') \n",
    "p = sns.histplot(depth[lbls=='L2/3_C'], bins=bins, ax=ax, element='step', fill=False, stat='percent') \n",
    "\n",
    "# Show ticks but no grid\n",
    "ax.axis('on')\n",
    "ax.grid(False)  # Turn off grid lines\n",
    "sns.despine(ax=ax)\n",
    "ax.tick_params(axis='both', which='both', bottom=True, left=True)\n",
    "ax.set_title('type distribution (label transfer)', y=1.1)\n",
    "fig_manager.savefig(fig)\n",
    "plt.show()\n",
    "\n",
    "fig, ax = plt.subplots(1,1,figsize=(1*5,1*3))\n",
    "adatasub = adata_mer_nr\n",
    "depth = -adatasub.obs['depth_show2']\n",
    "\n",
    "freq_a = adatasub.obsm['size_freq_abc'][:,0]\n",
    "freq_b = adatasub.obsm['size_freq_abc'][:,1]\n",
    "freq_c = adatasub.obsm['size_freq_abc'][:,2]\n",
    "\n",
    "p = sns.histplot(depth[freq_a > 0.6], bins=bins, ax=ax, element='step', fill=False, stat='percent')\n",
    "p = sns.histplot(depth[freq_b > 0.6], bins=bins, ax=ax, element='step', fill=False, stat='percent') \n",
    "p = sns.histplot(depth[freq_c > 0.6], bins=bins, ax=ax, element='step', fill=False, stat='percent') \n",
    "\n",
    "# Show ticks but no grid\n",
    "ax.axis('on')\n",
    "ax.grid(False)  # Turn off grid lines\n",
    "sns.despine(ax=ax)\n",
    "ax.tick_params(axis='both', which='both', bottom=True, left=True)\n",
    "ax.set_title('type distribution (abc)', y=1.1)\n",
    "fig_manager.savefig(fig)\n",
    "plt.show()"
   ]
  },
  {
   "cell_type": "markdown",
   "id": "3e7f1fc4-7546-4a1f-b598-535716abb6e9",
   "metadata": {},
   "source": [
    "# viz - NR vs DR"
   ]
  },
  {
   "cell_type": "code",
   "execution_count": null,
   "id": "5cf47532-4ffd-4364-be2a-ee2f231a6429",
   "metadata": {},
   "outputs": [],
   "source": [
    "adatas = [\n",
    "    adata_mer,\n",
    "    adata_mer[adata_mer.obs['sample'].str.contains('ant')],\n",
    "    adata_mer[adata_mer.obs['sample'].str.contains('pos')],\n",
    "]\n",
    "conditions = ['combined', 'ant', 'pos']"
   ]
  },
  {
   "cell_type": "code",
   "execution_count": null,
   "id": "782543d6-1dfe-4121-b510-a141040504b8",
   "metadata": {},
   "outputs": [],
   "source": [
    "fig, axs = plt.subplots(1,2,figsize=(2*6,1*5), sharex=True, sharey=True)\n",
    "ax = axs[0]\n",
    "ax.set_title('MERFISH - ant')\n",
    "sns.scatterplot(data=adata_plot1[adata_plot1.obs['sample'].str.contains('ant')].obs.sample(frac=1, replace=False), \n",
    "                ax=ax, x='hpc1', y='hpc2', \n",
    "                hue='Type', \n",
    "                palette=clsts_palette2, hue_order=list(clsts_palette2.keys()),\n",
    "                legend=False,\n",
    "                s=5, edgecolor='none')\n",
    "ax.set_aspect('equal')\n",
    "add_triangle(XC, ax)\n",
    "\n",
    "ax = axs[1]\n",
    "ax.set_title('MERFISH - pos')\n",
    "sns.scatterplot(data=adata_plot1[adata_plot1.obs['sample'].str.contains('pos')].obs.sample(frac=1, replace=False), \n",
    "                ax=ax, x='hpc1', y='hpc2', \n",
    "                hue='Type', \n",
    "                palette=clsts_palette2, hue_order=list(clsts_palette2.keys()),\n",
    "                legend=False,\n",
    "                s=5, edgecolor='none')\n",
    "ax.set_aspect('equal')\n",
    "add_triangle(XC, ax)\n",
    "plt.show()"
   ]
  },
  {
   "cell_type": "code",
   "execution_count": null,
   "id": "2c92340c-d291-489f-98e7-340ec4bf5850",
   "metadata": {
    "tags": []
   },
   "outputs": [],
   "source": [
    "metrics = ['gncov', 'gnnum', 'depth', 'width_show2']\n",
    "\n",
    "fig, axs = plt.subplots(1,4,figsize=(4*5,1*4))\n",
    "for metric, ax in zip(metrics, axs):\n",
    "    # g = np.log10(1+adata.obs[metric])\n",
    "    g = adata_mer.obs[metric]\n",
    "    x = adata_mer.obsm['X_pca_harmony'][:,0]\n",
    "    y = adata_mer.obsm['X_pca_harmony'][:,1]\n",
    "    utils_merfish.st_scatter_ax(fig, ax, x, y, gexp=g, s=5, )\n",
    "    add_triangle(XC, ax)\n",
    "    ax.set_title(metric)"
   ]
  },
  {
   "cell_type": "code",
   "execution_count": null,
   "id": "1f38228e-9a62-4822-8c66-db250c30a7fb",
   "metadata": {
    "tags": []
   },
   "outputs": [],
   "source": [
    "gns = [agenes, bgenes, cgenes,]\n",
    "titles = ['A genes', 'B genes', 'C genes', ]\n",
    "\n",
    "fig, axss = plt.subplots(3,4,figsize=(4*5,3*3), sharex=True, sharey=True)\n",
    "for i, (axs, adatasub, condition) in enumerate(zip(axss, adatas, conditions)):\n",
    "    condition = conditions[i]\n",
    "    for j, (ax, gn, title,) in enumerate(zip(axs, gns, titles)):\n",
    "        g = adatasub[:,gn].layers['ljnorm'].mean(axis=1)\n",
    "        x = adatasub.obsm['X_pca_harmony'][:,0]\n",
    "        y = adatasub.obsm['X_pca_harmony'][:,1]\n",
    "        \n",
    "        # consistent over\n",
    "        g0 = adata_mer[:,gn].layers['ljnorm'].mean(axis=1)\n",
    "        vmin = np.percentile(g0,  5)\n",
    "        vmax = np.percentile(g0, 95)\n",
    "            \n",
    "        p = utils_merfish.st_scatter_ax(fig, ax, x, y, gexp=g, s=5, cmap='coolwarm', vmin=vmin, vmax=vmax)\n",
    "        colorbar = plt.colorbar(p, aspect=5, shrink=0.3)\n",
    "        \n",
    "        # Show ticks but no grid\n",
    "        ax.set_aspect('equal')\n",
    "        ax.axis('on')\n",
    "        ax.grid(False)  # Turn off grid lines\n",
    "        sns.despine(ax=ax)\n",
    "        ax.tick_params(axis='both', which='both', bottom=True, left=True)\n",
    "        \n",
    "        if i == 0:\n",
    "            ax.set_title(title)\n",
    "        if j == 0:\n",
    "            ax.set_ylabel(condition, rotation=0, loc='top')\n",
    "            \n",
    "        # add the triangle\n",
    "        add_triangle(XC, ax)\n",
    "fig_manager.savefig(fig)\n",
    "plt.show()"
   ]
  },
  {
   "cell_type": "code",
   "execution_count": null,
   "id": "add3b866-4a3f-4dc9-be87-6a6eee844c81",
   "metadata": {
    "tags": []
   },
   "outputs": [],
   "source": [
    "gns = ['Cdh13', 'Trpc6', 'Sorcs3', 'Chrm2', 'Fos']\n",
    "titles = gns\n",
    "n = len(gns)\n",
    "\n",
    "fig, axss = plt.subplots(3,n,figsize=(n*5,3*3), sharex=True, sharey=True)\n",
    "for i, (axs, adatasub, condition) in enumerate(zip(axss, adatas, conditions)):\n",
    "    condition = conditions[i]\n",
    "    for j, (ax, gn, title,) in enumerate(zip(axs, gns, titles)):\n",
    "        g = adatasub[:,gn].layers['ljnorm'].reshape(-1,)\n",
    "        x = adatasub.obsm['X_pca_harmony'][:,0]\n",
    "        y = adatasub.obsm['X_pca_harmony'][:,1]\n",
    "        sorting = np.argsort(g)\n",
    "        \n",
    "        # consistent over\n",
    "        g0 = adata_mer[:,gn].layers['ljnorm'].mean(axis=1)\n",
    "        vmin = np.percentile(g0,  0)\n",
    "        vmax = np.percentile(g0, 95)\n",
    "            \n",
    "        p = utils_merfish.st_scatter_ax(fig, ax, x[sorting], y[sorting], gexp=g[sorting], s=5, vmin=vmin, vmax=vmax)\n",
    "        colorbar = plt.colorbar(p, aspect=5, shrink=0.3)\n",
    "        \n",
    "        # Show ticks but no grid\n",
    "        ax.set_aspect('equal')\n",
    "        ax.axis('on')\n",
    "        ax.grid(False)  # Turn off grid lines\n",
    "        sns.despine(ax=ax)\n",
    "        ax.tick_params(axis='both', which='both', bottom=True, left=True)\n",
    "        \n",
    "        if i == 0:\n",
    "            ax.set_title(title)\n",
    "        if j == 0:\n",
    "            ax.set_ylabel(condition, rotation=0, loc='top')\n",
    "            \n",
    "        add_triangle(XC, ax)\n",
    "fig_manager.savefig(fig)\n",
    "plt.show()"
   ]
  },
  {
   "cell_type": "code",
   "execution_count": null,
   "id": "850a0a2c-c0cd-40fa-b279-4b1f232e9b2c",
   "metadata": {
    "tags": []
   },
   "outputs": [],
   "source": [
    "gns = [\n",
    "    'Matn2', 'Otof',\n",
    "    'Hkdc1', 'Lynx1', 'Stard8', 'Lamp5', 'Rgs8', 'Igfn1']\n",
    "titles = gns\n",
    "n = len(gns)\n",
    "\n",
    "fig, axss = plt.subplots(3,n,figsize=(n*5,3*3), sharex=True, sharey=True)\n",
    "for i, (axs, adatasub, condition) in enumerate(zip(axss, adatas, conditions)):\n",
    "    condition = conditions[i]\n",
    "    for j, (ax, gn, title,) in enumerate(zip(axs, gns, titles)):\n",
    "        g = adatasub[:,gn].layers['ljnorm'].reshape(-1,)\n",
    "        x = adatasub.obsm['X_pca_harmony'][:,0]\n",
    "        y = adatasub.obsm['X_pca_harmony'][:,1]\n",
    "        sorting = np.argsort(g)\n",
    "        \n",
    "        # consistent over\n",
    "        g0 = adata_mer[:,gn].layers['ljnorm'].mean(axis=1)\n",
    "        vmin = np.percentile(g0,  0)\n",
    "        vmax = np.percentile(g0, 95)\n",
    "            \n",
    "        p = utils_merfish.st_scatter_ax(fig, ax, x[sorting], y[sorting], gexp=g[sorting], s=5, vmin=vmin, vmax=vmax)\n",
    "        colorbar = plt.colorbar(p, aspect=5, shrink=0.3)\n",
    "        \n",
    "        # Show ticks but no grid\n",
    "        ax.set_aspect('equal')\n",
    "        ax.axis('on')\n",
    "        ax.grid(False)  # Turn off grid lines\n",
    "        sns.despine(ax=ax)\n",
    "        ax.tick_params(axis='both', which='both', bottom=True, left=True)\n",
    "        \n",
    "        if i == 0:\n",
    "            ax.set_title(title)\n",
    "        if j == 0:\n",
    "            ax.set_ylabel(condition, rotation=0, loc='top')\n",
    "            \n",
    "        add_triangle(XC, ax)\n",
    "fig_manager.savefig(fig)\n",
    "plt.show()"
   ]
  },
  {
   "cell_type": "code",
   "execution_count": null,
   "id": "0a7e3f1b-2cb6-4cfb-9308-bde38617caef",
   "metadata": {
    "tags": []
   },
   "outputs": [],
   "source": [
    "xmin, xmax = -12, 12\n",
    "ymin, ymax = -7, 7 \n",
    "\n",
    "bins_x = np.linspace(xmin, xmax, 1*(xmax-xmin)+1)\n",
    "bins_y = np.linspace(ymin, ymax, 1*(ymax-ymin)+1)\n",
    "\n",
    "hists = []\n",
    "fig, axs = plt.subplots(1,4,figsize=(4*5,1*4), sharex=True, sharey=True)\n",
    "for ax, adatasub, cond, _cmap in zip(axs, adatas, conditions, ['gray_r', cmap_nr, cmap_dr]):\n",
    "    x = adatasub.obsm['X_pca_harmony'][:,0]\n",
    "    y = adatasub.obsm['X_pca_harmony'][:,1]\n",
    "    sns.histplot(x=x, y=y, ax=ax, bins=(bins_x, bins_y), \n",
    "                 cmap=_cmap, # 'gray_r', \n",
    "                 stat='percent', vmin=0, vmax=2, \n",
    "                 cbar=True, cbar_kws=dict(shrink=0.4, ticks=[0,2]))\n",
    "    # sns.kdeplot(x=x, y=y, ax=ax, bins=(bins_x, bins_y))\n",
    "    \n",
    "    hist, _, _= np.histogram2d(x, y, bins=(bins_x, bins_y))\n",
    "    hist = hist/len(x)*100\n",
    "    hists.append(hist)\n",
    "    print(hist.shape)\n",
    "    ax.set_title(cond)\n",
    "    ax.set_aspect('equal')\n",
    "    sns.despine(ax=ax)\n",
    "    ax.grid(False)\n",
    "    \n",
    "    # add the triangle\n",
    "    add_triangle(XC, ax, zorder=2)\n",
    "    \n",
    "ax = axs[3] \n",
    "ax.set_title('pos-ant')\n",
    "g = ax.imshow(\n",
    "    pd.DataFrame(hists[2]-hists[1], index=bins_x[1:]-0.5, columns=bins_y[1:]-0.5).T, \n",
    "            origin='lower',\n",
    "            extent=(xmin, xmax, ymin, ymax),\n",
    "            # cmap='coolwarm', \n",
    "            cmap=cmap_nrdr, \n",
    "            vmax=2, vmin=-2)\n",
    "# ax.invert_yaxis()\n",
    "ax.set_aspect('equal')\n",
    "ax.grid(False)\n",
    "fig.colorbar(g, shrink=0.4, ticks=[-2,0,2])\n",
    "sns.despine(ax=ax)\n",
    "\n",
    "# add the triangle\n",
    "add_triangle(XC, ax, zorder=2)\n",
    "fig_manager.savefig(fig)\n",
    "\n",
    "plt.show()"
   ]
  },
  {
   "cell_type": "code",
   "execution_count": null,
   "id": "6b82e8d4-33fb-400c-a0c9-b91538da51eb",
   "metadata": {
    "tags": []
   },
   "outputs": [],
   "source": [
    "dfshow = adata_mer.obs.copy()\n",
    "dfshow['nrdr'] = dfshow['sample'].str.contains('DR').astype(int)\n",
    "# dfshow['dim1'] = np.array(adata.obsm['X_pca_harmony'][:,0])\n",
    "# dfshow['dim2'] = np.array(adata.obsm['X_pca_harmony'][:,1])\n",
    "palette = {0: 'C1', 1: 'black'}\n",
    "\n",
    "\n",
    "fig, axs = plt.subplots(1,2,figsize=(2*5,1*4), sharex=True, sharey=True) \n",
    "ax = axs[0]\n",
    "add_triangle(XC, ax)\n",
    "sns.scatterplot(data=dfshow.sample(frac=1), x='hpc1', y='hpc2', hue='nrdr', s=3, edgecolor='none', palette=palette, ax=ax)\n",
    "ax.set_aspect('equal')\n",
    "sns.despine(ax=ax)\n",
    "ax.grid(False)\n",
    "ax.legend(bbox_to_anchor=(1,1))\n",
    "\n",
    "ax = axs[1]\n",
    "add_triangle(XC, ax)\n",
    "sns.kdeplot(data=dfshow, x='hpc1', y='hpc2', hue='nrdr', palette=palette, legend=False, ax=ax,)\n",
    "ax.set_aspect('equal')\n",
    "sns.despine(ax=ax)\n",
    "ax.grid(False)\n",
    "\n",
    "\n",
    "fig.tight_layout()\n",
    "plt.show()"
   ]
  },
  {
   "cell_type": "code",
   "execution_count": null,
   "id": "433d19fc-43cd-441a-ab5c-094755939a5a",
   "metadata": {
    "tags": []
   },
   "outputs": [],
   "source": [
    "fig, axs = plt.subplots(2,4,figsize=(4*4,2*3), sharex=True, sharey=True) \n",
    "for sample, ax in zip(names, axs.flat):\n",
    "    add_triangle(XC, ax)\n",
    "    sns.scatterplot(data=dfshow[dfshow['sample']==sample], \n",
    "                    x='hpc1', y='hpc2', hue='nrdr', s=5, edgecolor='none', palette=palette, ax=ax, legend=False)\n",
    "    sns.kdeplot(data=dfshow[dfshow['sample']==sample],\n",
    "                x='hpc1', y='hpc2', hue='nrdr', palette=palette, legend=False, ax=ax,)\n",
    "    ax.set_aspect('equal')\n",
    "    sns.despine(ax=ax)\n",
    "    ax.set_title(sample)\n",
    "    ax.grid(False)\n",
    "    # ax.legend(bbox_to_anchor=(1,1))\n",
    "\n",
    "fig.tight_layout()\n",
    "plt.show()"
   ]
  },
  {
   "cell_type": "code",
   "execution_count": null,
   "id": "bfe7b892-a31d-4a04-9070-07a89556b383",
   "metadata": {
    "tags": []
   },
   "outputs": [],
   "source": [
    "fig, axs = plt.subplots(2,4,figsize=(4*4,2*3), sharex=True, sharey=True) \n",
    "for sample, ax in zip(names, axs.flat):\n",
    "    add_triangle(XC, ax)\n",
    "    adatasub = adata_mer[adata_mer.obs['sample']==sample]\n",
    "    x = adatasub.obsm['X_pca_harmony'][:,0]\n",
    "    y = adatasub.obsm['X_pca_harmony'][:,1]\n",
    "    sns.histplot(x=x, y=y, ax=ax, bins=(bins_x, bins_y), \n",
    "                 cmap=_cmap, # 'gray_r', \n",
    "                 stat='percent', vmin=0, vmax=2, \n",
    "                 cbar=True, cbar_kws=dict(shrink=0.4, ticks=[0,2]))\n",
    "    ax.set_aspect('equal')\n",
    "    sns.despine(ax=ax)\n",
    "    ax.set_title(sample)\n",
    "    ax.grid(False)\n",
    "    # ax.legend(bbox_to_anchor=(1,1))\n",
    "\n",
    "fig.tight_layout()\n",
    "plt.show()"
   ]
  },
  {
   "cell_type": "markdown",
   "id": "d76a93a6-ebd9-4c2c-bb46-b483fbe4ccf6",
   "metadata": {},
   "source": [
    "# ABC scores - expression level distributions"
   ]
  },
  {
   "cell_type": "code",
   "execution_count": null,
   "id": "eebca6a7-2ae5-4d3c-b155-64a33546a46c",
   "metadata": {},
   "outputs": [],
   "source": [
    "fig, axs = plt.subplots(1,3, figsize=(4*3,4), sharex=False, sharey=True)\n",
    "for ax, genegroup, title in zip(axs, \n",
    "                                [agenes, bgenes, cgenes, ], \n",
    "                                ['A genes', 'B genes', 'C genes', ],\n",
    "                               ):\n",
    "    for i, sample in enumerate(names):\n",
    "        scores_ = adata_mer[adata_mer.obs['sample']==sample][:,genegroup].layers['ljnorm'].mean(axis=1)\n",
    "        if 'ant' in sample:\n",
    "            color = 'C1'\n",
    "        elif 'pos' in sample:\n",
    "            color = 'black'\n",
    "\n",
    "        sns.ecdfplot(scores_, ax=ax, color=color)#, complementary=True) # , linewidth=2)\n",
    "        \n",
    "        # _x = np.percentile(scores_, 50)\n",
    "        # _y = 0.5\n",
    "        # ax.text(_x, _y, i, fontsize=10, color='red')\n",
    "    ax.set_ylabel('Cumulative proportion\\nof cells')\n",
    "    ax.set_xlabel('Mean log norm expr.')\n",
    "    ax.set_title(title)\n",
    "    sns.despine(ax=ax)\n",
    "    ax.grid(False)\n",
    "    \n",
    "\n",
    "fig.tight_layout()\n",
    "fig_manager.savefig(fig)\n",
    "plt.show()"
   ]
  },
  {
   "cell_type": "code",
   "execution_count": null,
   "id": "23b23f98-5564-4334-926e-6259e40d5690",
   "metadata": {},
   "outputs": [],
   "source": [
    "fig, axs = plt.subplots(1,3,figsize=(3*5,1*3), sharex=True, sharey=True)\n",
    "for i, (ax, adatasub, condition) in enumerate(zip(axs, adatas, conditions)):\n",
    "    condition = conditions[i]\n",
    "    x = adatasub.obsm['X_pca_harmony'][:,0]\n",
    "    y = adatasub.obsm['X_pca_harmony'][:,1]\n",
    "    \n",
    "    freq_a = adatasub.obsm['size_freq_abc'][:,0]\n",
    "    freq_b = adatasub.obsm['size_freq_abc'][:,1]\n",
    "    freq_c = adatasub.obsm['size_freq_abc'][:,2]\n",
    "    \n",
    "    # visualize ABC scores using additive blending\n",
    "    additive = (cmap_a(freq_a)+cmap_b(freq_b)+cmap_c(freq_c))[:,:3]\n",
    "    p = ax.scatter(x, y, c=additive, s=5, edgecolor='none') \n",
    "        \n",
    "    # Show ticks but no grid\n",
    "    ax.set_aspect('equal')\n",
    "    ax.axis('on')\n",
    "    ax.grid(False)  # Turn off grid lines\n",
    "    sns.despine(ax=ax)\n",
    "    ax.tick_params(axis='both', which='both', bottom=True, left=True)\n",
    "    ax.set_title(condition)\n",
    "\n",
    "    # add the triangle\n",
    "    add_triangle(XC, ax, vertices=True, edgecolors='k', linewidths=1, marker='o')\n",
    "    \n",
    "fig_manager.savefig(fig)\n",
    "plt.show()"
   ]
  },
  {
   "cell_type": "code",
   "execution_count": null,
   "id": "13e4708c-394a-4a06-86ca-8d0e6e88fbbc",
   "metadata": {
    "tags": []
   },
   "outputs": [],
   "source": [
    "\n",
    "fig, axs = plt.subplots(1,3,figsize=(3*5,1*3), sharex=True, sharey=True)\n",
    "for i, (ax, adatasub, condition) in enumerate(zip(axs, adatas, conditions)):\n",
    "    condition = conditions[i]\n",
    "    x = adatasub.obsm['X_pca_harmony'][:,0]\n",
    "    y = adatasub.obsm['X_pca_harmony'][:,1]\n",
    "    \n",
    "    freq_a = adatasub.obsm['size_freq_abc'][:,0]\n",
    "    freq_b = adatasub.obsm['size_freq_abc'][:,1]\n",
    "    freq_c = adatasub.obsm['size_freq_abc'][:,2]\n",
    "    \n",
    "    # visualize ABC scores using additive blending\n",
    "    additive = (cmap_a(freq_a)+cmap_b(freq_b)+cmap_c(freq_c))[:,:3]\n",
    "    \n",
    "    cond = np.max([freq_a, freq_b, freq_c], axis=0) > 0.6\n",
    "    # p = ax.scatter(x, y, c=additive, s=5, edgecolor='none') \n",
    "    p = ax.scatter(x[cond], y[cond], c=additive[cond], s=5, edgecolor='none') \n",
    "        \n",
    "    # Show ticks but no grid\n",
    "    ax.set_aspect('equal')\n",
    "    ax.axis('on')\n",
    "    ax.grid(False)  # Turn off grid lines\n",
    "    sns.despine(ax=ax)\n",
    "    ax.tick_params(axis='both', which='both', bottom=True, left=True)\n",
    "    ax.set_title(condition)\n",
    "\n",
    "    # add the triangle\n",
    "    add_triangle(XC, ax, vertices=True, edgecolors='k', linewidths=1, marker='o')\n",
    "    \n",
    "fig_manager.savefig(fig)\n",
    "plt.show()"
   ]
  },
  {
   "cell_type": "code",
   "execution_count": null,
   "id": "035ab1b2-0fe6-4f65-8a23-ff03594711a9",
   "metadata": {
    "tags": []
   },
   "outputs": [],
   "source": [
    "bins = np.linspace(100,400,30)\n",
    "\n",
    "fig, axs = plt.subplots(1,3,figsize=(3*5,1*3), sharex=True) #, sharey=True)\n",
    "for i, (ax, adatasub, condition) in enumerate(zip(axs, adatas, conditions)):\n",
    "    condition = conditions[i]\n",
    "    depth = -adatasub.obs['depth_show2']\n",
    "    \n",
    "    lbls = adatasub.obs['Type']\n",
    "    \n",
    "    p = sns.histplot(depth[lbls=='L2/3_A'], bins=bins, ax=ax, element='step', fill=False, stat='percent') \n",
    "    p = sns.histplot(depth[lbls=='L2/3_B'], bins=bins, ax=ax, element='step', fill=False, stat='percent') \n",
    "    p = sns.histplot(depth[lbls=='L2/3_C'], bins=bins, ax=ax, element='step', fill=False, stat='percent') \n",
    "        \n",
    "    # Show ticks but no grid\n",
    "    ax.axis('on')\n",
    "    ax.grid(False)  # Turn off grid lines\n",
    "    sns.despine(ax=ax)\n",
    "    ax.tick_params(axis='both', which='both', bottom=True, left=True)\n",
    "    ax.set_title(condition)\n",
    "fig.suptitle('type distribution (label transfer)', y=1.1)\n",
    "fig_manager.savefig(fig)\n",
    "plt.show()\n",
    "\n",
    "    \n",
    "fig, axs = plt.subplots(1,3,figsize=(3*5,1*3), sharex=True) #, sharey=True)\n",
    "for i, (ax, adatasub, condition) in enumerate(zip(axs, adatas, conditions)):\n",
    "    condition = conditions[i]\n",
    "    depth = -adatasub.obs['depth_show2']\n",
    "    \n",
    "    freq_a = adatasub.obsm['size_freq_abc'][:,0]\n",
    "    freq_b = adatasub.obsm['size_freq_abc'][:,1]\n",
    "    freq_c = adatasub.obsm['size_freq_abc'][:,2]\n",
    "    \n",
    "    p = sns.histplot(depth[freq_a > 0.6], bins=bins, ax=ax, element='step', fill=False, stat='percent')\n",
    "    p = sns.histplot(depth[freq_b > 0.6], bins=bins, ax=ax, element='step', fill=False, stat='percent') \n",
    "    p = sns.histplot(depth[freq_c > 0.6], bins=bins, ax=ax, element='step', fill=False, stat='percent') \n",
    "        \n",
    "    # Show ticks but no grid\n",
    "    ax.axis('on')\n",
    "    ax.grid(False)  # Turn off grid lines\n",
    "    sns.despine(ax=ax)\n",
    "    ax.tick_params(axis='both', which='both', bottom=True, left=True)\n",
    "    ax.set_title(condition)\n",
    "fig.suptitle('type distribution (abc)', y=1.1)\n",
    "fig_manager.savefig(fig)\n",
    "plt.show()"
   ]
  },
  {
   "cell_type": "code",
   "execution_count": null,
   "id": "aa8a8896-2f83-400f-909f-eb19c9211bf3",
   "metadata": {},
   "outputs": [],
   "source": []
  },
  {
   "cell_type": "code",
   "execution_count": null,
   "id": "7f0e02f3-4534-4683-ab7d-2c38dae5223e",
   "metadata": {},
   "outputs": [],
   "source": []
  },
  {
   "cell_type": "code",
   "execution_count": null,
   "id": "da38b17a-968e-4406-8ce4-3eb87724315e",
   "metadata": {},
   "outputs": [],
   "source": []
  },
  {
   "cell_type": "code",
   "execution_count": null,
   "id": "bc58beba-88b1-47c8-8f9a-154817304fb5",
   "metadata": {},
   "outputs": [],
   "source": []
  },
  {
   "cell_type": "code",
   "execution_count": null,
   "id": "6e3c5ea1-135d-40d5-a1df-3a126dccd5d5",
   "metadata": {},
   "outputs": [],
   "source": [
    "df_plot = adata_mer.obs.sample(frac=1, replace=False)\n",
    "x =  df_plot['width_show2']\n",
    "y =  df_plot['depth_show2']\n",
    "c =  df_plot['Type']\n",
    "\n",
    "fig, ax = plt.subplots(1,1,figsize=(1*25,1))\n",
    "for lbl, coord in width_cum.items():\n",
    "    ax.text(coord, 0, lbl, fontsize=12)\n",
    "    \n",
    "p = ax.scatter(x, y, c=[clsts_palette2[_c] for _c in c], s=5, edgecolor='none') # , alpha=g_size[sorting])\n",
    "# cond = np.max(additive, axis=1) > 1e-5\n",
    "# p = ax.scatter(x[cond], y[cond], c=normed[cond], s=1, edgecolor='none')\n",
    "ax.set_aspect('equal')\n",
    "ax.axis('off')\n",
    "\n",
    "plt.show()"
   ]
  },
  {
   "cell_type": "code",
   "execution_count": null,
   "id": "3e5219bb-edc1-433b-a0d2-7158251c1c8d",
   "metadata": {},
   "outputs": [],
   "source": [
    "x =  adata_mer.obs['width_show2']\n",
    "y =  adata_mer.obs['depth_show2']\n",
    "\n",
    "freq_a = adata_mer.obsm['size_freq_abc'][:,0]\n",
    "freq_b = adata_mer.obsm['size_freq_abc'][:,1]\n",
    "freq_c = adata_mer.obsm['size_freq_abc'][:,2]\n",
    "\n",
    "# visualize ABC scores using additive blending\n",
    "additive = (cmap_a(freq_a)+cmap_b(freq_b)+cmap_c(freq_c))[:,:3]\n",
    "\n",
    "fig, ax = plt.subplots(1,1,figsize=(1*25,1))\n",
    "for lbl, coord in width_cum.items():\n",
    "    ax.text(coord, 0, lbl, fontsize=12)\n",
    "    \n",
    "sorting = np.argsort(np.max(additive, axis=1))# [::-1]\n",
    "p = ax.scatter(x[sorting], y[sorting], c=additive[sorting], s=5, edgecolor='none') \n",
    "\n",
    "ax.set_aspect('equal')\n",
    "ax.axis('off')\n",
    "\n",
    "plt.show()"
   ]
  },
  {
   "cell_type": "markdown",
   "id": "e20b34a7-4bed-4f6e-a25a-f5cbf625b722",
   "metadata": {},
   "source": [
    "# score based (ABC) assignment"
   ]
  },
  {
   "cell_type": "code",
   "execution_count": null,
   "id": "6f27e7d4-41b8-4830-a925-cf2f179f7332",
   "metadata": {
    "tags": []
   },
   "outputs": [],
   "source": [
    "def plot_typefreq(res, include_na=True):\n",
    "    \"\"\"\n",
    "    \"\"\"\n",
    "    if include_na:\n",
    "        unq_lbls = ['L2/3_A', 'L2/3_B', 'L2/3_C', 'NA']\n",
    "        unq_colors = ['C0', 'C1', 'C2', 'gray']\n",
    "        n = 4\n",
    "    else:\n",
    "        unq_lbls = ['L2/3_A', 'L2/3_B', 'L2/3_C']\n",
    "        unq_colors = ['C0', 'C1', 'C2']\n",
    "        n = 3\n",
    "        \n",
    "    fig, axs = plt.subplots(1, n, figsize=(2*n,4))\n",
    "    allps = []\n",
    "    for ax, col, color in zip(axs, unq_lbls, unq_colors):\n",
    "        sns.barplot(data=res, x='cond', y=col, ax=ax, color=color, capsize=0.3, errwidth=1)\n",
    "        sns.swarmplot(data=res, x='cond', y=col, color='k', ax=ax, )\n",
    "        ax.set_title(f'type {col}', y=1.1)\n",
    "        sns.despine(ax=ax)\n",
    "        ax.grid(False)\n",
    "        ax.set_ylabel('')\n",
    "\n",
    "        a = res[res['cond']=='ant'][col]\n",
    "        b = res[res['cond']=='pos'][col]\n",
    "        # s, p = mannwhitneyu(a, b)\n",
    "        s, p = ttest_ind(a, b)\n",
    "\n",
    "        allps.append(p)\n",
    "\n",
    "    rej, allqs, _, _ = multipletests(allps, method='fdr_bh')\n",
    "    for ax, col, color, q in zip(axs, unq_lbls, unq_colors, allqs):\n",
    "        mark = p_mark(q)\n",
    "        # statistical annotation\n",
    "        x1, x2 = 0, 1   \n",
    "        y, h = res[col].max() + 2, 2\n",
    "        ax.plot([x1, x1, x2, x2], [y, y+h, y+h, y], lw=1.5, c='k')\n",
    "        ax.text((x1+x2)*.5, y+h, mark, ha='center', va='bottom', color='k')\n",
    "\n",
    "    axs[0].set_ylabel('L2/3 cells (%)')\n",
    "    fig.tight_layout()\n",
    "    return fig"
   ]
  },
  {
   "cell_type": "code",
   "execution_count": null,
   "id": "70fd8da0-bb95-4529-b29c-96c57073da52",
   "metadata": {
    "tags": []
   },
   "outputs": [],
   "source": [
    "typefrq_abc"
   ]
  },
  {
   "cell_type": "code",
   "execution_count": null,
   "id": "e6fc5d53-8f80-4973-85a7-3afea38ddfcd",
   "metadata": {
    "tags": []
   },
   "outputs": [],
   "source": [
    "fig = plot_typefreq(typefrq_abc, include_na=True)\n",
    "fig_manager.savefig(fig)"
   ]
  },
  {
   "cell_type": "code",
   "execution_count": null,
   "id": "4cf14a12-0f99-45bd-a9fc-634255f0f062",
   "metadata": {
    "tags": []
   },
   "outputs": [],
   "source": [
    "fig = plot_typefreq(typefrq_lbt, include_na=False)\n",
    "fig_manager.savefig(fig)"
   ]
  },
  {
   "cell_type": "code",
   "execution_count": null,
   "id": "a0f12388-4ea8-4c37-a46e-71f284aeaf17",
   "metadata": {},
   "outputs": [],
   "source": []
  },
  {
   "cell_type": "code",
   "execution_count": null,
   "id": "3bd0172a-7e21-413a-91df-21a6f682cc2f",
   "metadata": {},
   "outputs": [],
   "source": []
  },
  {
   "cell_type": "markdown",
   "id": "c40d6d32-eb9d-4239-ae81-7d0bc4ea514b",
   "metadata": {
    "tags": []
   },
   "source": [
    "# visualize FISH"
   ]
  },
  {
   "cell_type": "code",
   "execution_count": null,
   "id": "8325ed24-a378-4ef3-8678-5172203f3a7a",
   "metadata": {
    "tags": []
   },
   "outputs": [],
   "source": [
    "adata_mer"
   ]
  },
  {
   "cell_type": "code",
   "execution_count": null,
   "id": "680d3eba-a857-4612-bf20-4bffd5ec6bbe",
   "metadata": {
    "tags": []
   },
   "outputs": [],
   "source": [
    "gns = ['Cdh13', 'Trpc6', 'Sorcs3', 'Chrm2', 'Fos'] \n",
    "x =  adata_mer.obs['width_show2']\n",
    "y =  adata_mer.obs['depth_show2']\n",
    "n = len(gns)\n",
    "\n",
    "fig, axs = plt.subplots(n,1,figsize=(1*25,n*1))\n",
    "for i, (ax, gn) in enumerate(zip(axs, gns)):\n",
    "    if i == 0:\n",
    "        for lbl, coord in width_cum.items():\n",
    "            ax.text(coord, 0, lbl, fontsize=12)\n",
    "    \n",
    "    g = adata_mer[:,gn].layers['ljnorm'].reshape(-1,)\n",
    "    vmax = np.percentile(g, 99)\n",
    "    vmin = np.percentile(g,  0)\n",
    "    sorting = np.argsort(g)\n",
    "    \n",
    "    p = utils_merfish.st_scatter_ax(fig, ax,  x[sorting],  y[sorting],  gexp=g[sorting], s=5, title='', vmin=vmin, vmax=vmax, cmap='rocket_r')\n",
    "    ax.set_title(gn, loc='left', va='center', ha='right', y=0.5, pad=None)\n",
    "    fig.colorbar(p, pad=0, shrink=0.5, aspect=5, ticks=[np.round(vmin, decimals=1), np.round(vmax-0.1, decimals=1)])\n",
    "    \n",
    "fig_manager.savefig(fig)\n",
    "plt.show()\n",
    "    "
   ]
  },
  {
   "cell_type": "code",
   "execution_count": null,
   "id": "59c86ee7-efe1-480d-9e75-c6d13f8f0600",
   "metadata": {
    "tags": []
   },
   "outputs": [],
   "source": [
    "gns = [\n",
    "    'Matn2', 'Otof', \n",
    "    # 'Srf', 'Jund',\n",
    "    'Hkdc1', 'Lynx1', 'Stard8', 'Lamp5', 'Rgs8', 'Igfn1']\n",
    "x =  adata_mer.obs['width_show2']\n",
    "y =  adata_mer.obs['depth_show2']\n",
    "n = len(gns)\n",
    "\n",
    "fig, axs = plt.subplots(n,1,figsize=(1*25,n*1))\n",
    "for i, (ax, gn) in enumerate(zip(axs, gns)):\n",
    "    if i == 0:\n",
    "        for lbl, coord in width_cum.items():\n",
    "            ax.text(coord, 0, lbl, fontsize=12)\n",
    "    \n",
    "    g = adata_mer[:,gn].layers['ljnorm'].reshape(-1,)\n",
    "    vmax = np.percentile(g, 99)\n",
    "    vmin = np.percentile(g,  0)\n",
    "    sorting = np.argsort(g)\n",
    "    \n",
    "    p = utils_merfish.st_scatter_ax(fig, ax,  x[sorting],  y[sorting],  gexp=g[sorting], s=5, title='', vmin=vmin, vmax=vmax, cmap='rocket_r')\n",
    "    ax.set_title(gn, loc='left', va='center', ha='right', y=0.5, pad=None)\n",
    "    fig.colorbar(p, pad=0, shrink=0.5, aspect=5, ticks=[np.round(vmin, decimals=1), np.round(vmax-0.1, decimals=1)])\n",
    "    \n",
    "fig_manager.savefig(fig)\n",
    "plt.show()\n",
    "    "
   ]
  },
  {
   "cell_type": "code",
   "execution_count": null,
   "id": "7f68ba29-031c-4dfd-9259-188d0a59281e",
   "metadata": {
    "tags": []
   },
   "outputs": [],
   "source": [
    "gns = ['Cdh13', 'Trpc6', 'Chrm2',] \n",
    "# adata_plot = adata_mer[adata_mer.obs['sample']=='P28NRa_pos']\n",
    "# adata_plot = adata_mer[adata_mer.obs['sample']=='P28NRa_pos']\n",
    "adata_plot = adata_mer[adata_mer.obs['sample'].str.contains('NR')] #=='P28NRa_pos']\n",
    "\n",
    "x =  adata_plot.obs['width_show2']\n",
    "y =  adata_plot.obs['depth_show2']\n",
    "n = len(gns)\n",
    "\n",
    "fig, axs = plt.subplots(n,1,figsize=(1*10,n*1))\n",
    "for i, (ax, gn) in enumerate(zip(axs, gns)):\n",
    "    g = adata_plot[:,gn].layers['ljnorm'].reshape(-1,)\n",
    "    vmax = np.percentile(g, 99)\n",
    "    vmin = np.percentile(g,  0)\n",
    "    sorting = np.argsort(g)\n",
    "    \n",
    "    p = utils_merfish.st_scatter_ax(fig, ax,  x[sorting],  y[sorting],  gexp=g[sorting], s=5, title='', vmin=vmin, vmax=vmax, cmap='rocket_r')\n",
    "    ax.set_title(gn, loc='left', va='center', ha='right', y=0.5, pad=None)\n",
    "    fig.colorbar(p, pad=0, shrink=0.5, aspect=5, ticks=[np.round(vmin, decimals=1), np.round(vmax-0.1, decimals=1)])\n",
    "    \n",
    "fig_manager.savefig(fig)\n",
    "plt.show()\n",
    "    "
   ]
  },
  {
   "cell_type": "code",
   "execution_count": null,
   "id": "b6d3f2d1-79fd-46e2-83e7-4996a2f9ab98",
   "metadata": {
    "tags": []
   },
   "outputs": [],
   "source": [
    "gns = ['Cdh13', 'Trpc6', 'Chrm2',] \n",
    "bins = np.linspace(100,400,12)\n",
    "adata_plot = adata_mer[adata_mer.obs['sample'].str.contains('NR')] #=='P28NRa_pos']\n",
    "\n",
    "x = -adata_plot.obs['depth_show2']\n",
    "n = len(gns)\n",
    "\n",
    "fig, ax = plt.subplots(1,1,figsize=(1*5,4*1))\n",
    "for i, gn in enumerate(gns):\n",
    "    g = adata_plot[:,gn].layers['ljnorm'].reshape(-1,)\n",
    "    \n",
    "    \n",
    "    tmp = pd.DataFrame(np.vstack([x, g]).T)\n",
    "    tmp['b'] = pd.cut(tmp[0], bins=bins)\n",
    "    tmp_mean = tmp.groupby('b').mean()\n",
    "    \n",
    "    _x = tmp_mean[0].values\n",
    "    _y = tmp_mean[1].values\n",
    "    \n",
    "    ax.plot(_x, _y/np.max(_y), label=gn)\n",
    "    # ax.plot(_x, _y, label=gn)\n",
    "    # break\n",
    "    \n",
    "ax.legend(bbox_to_anchor=(1,1))\n",
    "ax.grid(False)\n",
    "sns.despine(ax=ax)\n",
    "ax.set_ylabel('norm. expression')\n",
    "ax.set_xlabel('cortical depth')\n",
    "ax.set_xlim([100,400])\n",
    "ax.set_ylim([0,1])\n",
    "    \n",
    "fig_manager.savefig(fig)\n",
    "plt.show()\n",
    "    "
   ]
  },
  {
   "cell_type": "code",
   "execution_count": null,
   "id": "c472f63a-1d6c-4c75-8d87-1806daa093ad",
   "metadata": {
    "tags": []
   },
   "outputs": [],
   "source": [
    "gns = [agenes, bgenes, cgenes,] \n",
    "x =  adata_mer.obs['width_show2']\n",
    "y =  adata_mer.obs['depth_show2']\n",
    "titles = ['A genes', 'B genes', 'C genes', ]\n",
    "n = len(gns)\n",
    "\n",
    "fig, axs = plt.subplots(n,1,figsize=(1*25,n*1))\n",
    "for i, (ax, gn, title) in enumerate(zip(axs, gns, titles)):\n",
    "    if i == 0:\n",
    "        for lbl, coord in width_cum.items():\n",
    "            ax.text(coord, 0, lbl, fontsize=12)\n",
    "    \n",
    "    # g = adata_mer[:,gn].layers['ljnorm'].mean(axis=1)\n",
    "    g = adata_mer[:,gn].layers['zscore'].mean(axis=1)\n",
    "    sorting = np.argsort(g)\n",
    "    \n",
    "    vmin = np.percentile(g,  0)\n",
    "    vmax = np.percentile(g, 95)\n",
    "    p = utils_merfish.st_scatter_ax(fig, ax, x[sorting], y[sorting], gexp=g[sorting], \n",
    "                                    s=5, title='', vmin=vmin, vmax=vmax, cmap='coolwarm') #, axis_off=False)\n",
    "    ax.set_title(title, loc='left', va='center', ha='right', y=0.5, pad=None)\n",
    "    fig.colorbar(p, pad=0, shrink=0.5, aspect=5, ticks=[np.round(vmin, decimals=1), np.round(vmax-0.1, decimals=1)])\n",
    "    \n",
    "fig_manager.savefig(fig)\n",
    "plt.show()\n",
    "    "
   ]
  },
  {
   "cell_type": "code",
   "execution_count": null,
   "id": "96e1c2b8-94e6-454a-89df-4acc7b24bfaf",
   "metadata": {
    "tags": []
   },
   "outputs": [],
   "source": [
    "gns = [agenes, bgenes, cgenes] \n",
    "adata_plot = adata_mer[adata_mer.obs['sample'].str.contains('NR')]\n",
    "\n",
    "x =  adata_plot.obs['width_show2']\n",
    "y =  adata_plot.obs['depth_show2']\n",
    "titles = ['A genes', 'B genes', 'C genes', ]\n",
    "n = len(gns)\n",
    "\n",
    "fig, axs = plt.subplots(n,1,figsize=(1*10,n*1))\n",
    "for i, (ax, gn, title) in enumerate(zip(axs, gns, titles)):\n",
    "    # g = adata_plot[:,gn].layers['ljnorm'].mean(axis=1)\n",
    "    g = adata_plot[:,gn].layers['zscore'].mean(axis=1)\n",
    "    sorting = np.argsort(g)\n",
    "    \n",
    "    vmin = np.percentile(g,  0)\n",
    "    vmax = np.percentile(g, 95)\n",
    "    p = utils_merfish.st_scatter_ax(fig, ax, x[sorting], y[sorting], gexp=g[sorting], \n",
    "                                    s=5, title='', vmin=vmin, vmax=vmax, cmap='coolwarm') #, axis_off=False)\n",
    "    ax.set_title(title, loc='left', va='center', ha='right', y=0.5, pad=None)\n",
    "    fig.colorbar(p, pad=0, shrink=0.5, aspect=5, ticks=[np.round(vmin, decimals=1), np.round(vmax-0.1, decimals=1)])\n",
    "    \n",
    "fig_manager.savefig(fig)\n",
    "plt.show()\n",
    "    "
   ]
  },
  {
   "cell_type": "markdown",
   "id": "7350b615-7ff5-4578-83d4-1287d3a76c53",
   "metadata": {
    "tags": []
   },
   "source": [
    "# FISH stats"
   ]
  },
  {
   "cell_type": "code",
   "execution_count": null,
   "id": "909e5119-d4ac-4bd6-8087-3060a98fdbc4",
   "metadata": {
    "tags": []
   },
   "outputs": [],
   "source": [
    "stats = {}\n",
    "bins = np.linspace(0, 400, 4*2+1)\n",
    "\n",
    "for name in names:\n",
    "    adatasub = adata_mer[adata_mer.obs['sample']==name]# v1l23_data[name]\n",
    "    lnorm_mean, lnorm_sem, lnorm_std, n, d, db = binning_pipe2(adatasub, 'depth', 'ljnorm', bins=bins)\n",
    "    stats[name] = (lnorm_mean, lnorm_sem, lnorm_std, n, d, db)\n",
    "d.value_counts()"
   ]
  },
  {
   "cell_type": "code",
   "execution_count": null,
   "id": "37f6c048-c40f-4e0b-abd5-33a2c0380b34",
   "metadata": {
    "tags": []
   },
   "outputs": [],
   "source": [
    "print(len(agenes_idx), \n",
    "      len(bgenes_idx),\n",
    "      len(cgenes_idx),\n",
    "     )"
   ]
  },
  {
   "cell_type": "code",
   "execution_count": null,
   "id": "c5babfcc-a8df-461b-8de1-329d45535929",
   "metadata": {
    "tags": []
   },
   "outputs": [],
   "source": [
    "# mean expression level across V1 L2/3 in NR\n",
    "base_a0 = []\n",
    "base_b0 = []\n",
    "base_c0 = []\n",
    "for name in [\n",
    "    'P8NRa_ant2', 'P8NRb_ant2', 'P8NRc_ant2', 'P8NRd_ant2',]:\n",
    "    (lnorm_mean, lnorm_sem, lnorm_std, n, d, db) = stats[name]\n",
    "    base_a = np.mean(lnorm_mean.iloc[:,agenes_idx], axis=0) # across depth bins for each gene\n",
    "    base_b = np.mean(lnorm_mean.iloc[:,bgenes_idx], axis=0) # across depth bins for each gene\n",
    "    base_c = np.mean(lnorm_mean.iloc[:,cgenes_idx], axis=0) # across depth bins for each gene\n",
    "    \n",
    "    base_a0.append(base_a)\n",
    "    base_b0.append(base_b)\n",
    "    base_c0.append(base_c)\n",
    "    \n",
    "base_a0 = np.mean(base_a0, axis=0)\n",
    "base_b0 = np.mean(base_b0, axis=0)\n",
    "base_c0 = np.mean(base_c0, axis=0)\n",
    "\n",
    "base_a0.shape, base_b0.shape, base_c0.shape\n",
    "\n",
    "\n",
    "means = {}\n",
    "sems = {}\n",
    "for name in names:\n",
    "    (lnorm_mean, lnorm_sem, lnorm_std, n, d, db) = stats[name]\n",
    "    \n",
    "    amean = np.mean(lnorm_mean.iloc[:,agenes_idx]-base_a0, axis=1) # a bin vector\n",
    "    bmean = np.mean(lnorm_mean.iloc[:,bgenes_idx]-base_b0, axis=1) # a bin vector\n",
    "    cmean = np.mean(lnorm_mean.iloc[:,cgenes_idx]-base_c0, axis=1) # a bin vector\n",
    "    \n",
    "    asem = np.mean(lnorm_sem.iloc[:,agenes_idx], axis=1)\n",
    "    bsem = np.mean(lnorm_sem.iloc[:,bgenes_idx], axis=1)\n",
    "    csem = np.mean(lnorm_sem.iloc[:,cgenes_idx], axis=1)\n",
    "    \n",
    "    means[name] = [amean, bmean, cmean, ]\n",
    "    sems[name] = [asem, bsem, csem,]\n",
    "    "
   ]
  },
  {
   "cell_type": "code",
   "execution_count": null,
   "id": "9a1889e2-cb55-42b5-9167-334afac16b9a",
   "metadata": {
    "tags": []
   },
   "outputs": [],
   "source": [
    "midpoints = np.mean(np.vstack([bins[:-1], bins[1:]]), axis=0)\n",
    "midpoints"
   ]
  },
  {
   "cell_type": "code",
   "execution_count": null,
   "id": "3d011e00-0ad8-4dbe-bc70-8078b28e76a6",
   "metadata": {
    "tags": []
   },
   "outputs": [],
   "source": [
    "samp_gene_dpth_mat = np.array([np.array(means[name]) for name in names]) \n",
    "print(samp_gene_dpth_mat.shape) # sample, gene group, depth\n",
    "\n",
    "nr_mat = samp_gene_dpth_mat[:4]\n",
    "nr_mean = np.mean(nr_mat, axis=0) # gene group, depth\n",
    "nr_sem  = np.std(nr_mat, axis=0)/np.sqrt(4) # gene group, depth\n",
    "\n",
    "dr_mat = samp_gene_dpth_mat[4:]\n",
    "dr_mean = np.mean(dr_mat, axis=0) # gene group, depth\n",
    "dr_sem  = np.std(dr_mat, axis=0)/np.sqrt(4) # gene group, depth\n",
    "nr_mean.shape, dr_mean.shape"
   ]
  },
  {
   "cell_type": "code",
   "execution_count": null,
   "id": "38b7c41e-95fb-4233-b3f8-2ce5f8e0abda",
   "metadata": {
    "tags": []
   },
   "outputs": [],
   "source": [
    "# t-test between NR and DR for each gene group and each location\n",
    "ts, ps = ttest_ind(nr_mat, dr_mat)\n",
    "rejs, qs, _, _ = multipletests(np.nan_to_num(ps, nan=1).reshape(-1,), alpha=0.05, method='fdr_bh')\n",
    "qs = qs.reshape(ps.shape)\n",
    "nrdr_mean = np.stack([nr_mean, dr_mean], axis=2).mean(axis=2)"
   ]
  },
  {
   "cell_type": "code",
   "execution_count": null,
   "id": "6be436ca-3b28-4b68-9cd3-cf4508ff24b7",
   "metadata": {},
   "outputs": [],
   "source": [
    "gnames = ['A genes (n=64)', 'B genes (n=35)', 'C genes (n=71)']\n",
    "\n",
    "fig, axs = plt.subplots(2, 4, figsize=(5*4,4*2), sharex=True, sharey=True)\n",
    "\n",
    "# ax.set_title('P28NR')\n",
    "linestyle = '-'\n",
    "for ax, name in zip(axs.flat, names):\n",
    "    # (lnorm_mean, lnorm_sem, lnorm_std, n, d, db) = stats[name]\n",
    "    amean, bmean, cmean,  = means[name]\n",
    "    asem, bsem, csem,  = sems[name]\n",
    "    \n",
    "    x = midpoints\n",
    "    ax.plot(x, amean, label='A genes', color='C0', linestyle=linestyle)\n",
    "    ax.fill_between(x, amean-asem, amean+asem, color='C0', alpha=0.1, edgecolor='none')\n",
    "    ax.plot(x, bmean, label='B genes', color='C1', linestyle=linestyle)\n",
    "    ax.fill_between(x, bmean-bsem, bmean+bsem, color='C1', alpha=0.1, edgecolor='none')\n",
    "    ax.plot(x, cmean, label='C genes', color='C2', linestyle=linestyle)\n",
    "    ax.fill_between(x, cmean-csem, cmean+csem, color='C2', alpha=0.1, edgecolor='none')\n",
    "    ax.axhline(color='lightgray', linestyle='dotted', zorder=1)\n",
    "\n",
    "    sns.despine(ax=ax)\n",
    "    ax.set_xticks([0, 100, 200, 300, 400])\n",
    "    ax.set_xlim(left=50, right=400)\n",
    "    ax.set_ylim([-0.4, 0.4])\n",
    "    ax.grid(False)\n",
    "    ax.set_title(name)\n",
    "axs.flat[0].set_ylabel('mean (expr. +/- sem)')\n",
    "\n",
    "    \n",
    "fig.subplots_adjust(wspace=0.1)\n",
    "fig_manager.savefig(fig)\n",
    "# powerplots.savefig_autodate(fig, outdatadir+'/grant_saumya_lineq_abc_v3.pdf')"
   ]
  },
  {
   "cell_type": "code",
   "execution_count": null,
   "id": "6770421a-b8af-4973-a8cb-387083b0e9a7",
   "metadata": {
    "tags": []
   },
   "outputs": [],
   "source": [
    "titles = ['NR', 'DR']\n",
    "data_mean = [nr_mean, dr_mean]\n",
    "data_sem = [nr_sem, dr_sem]\n",
    "gnames = ['A genes', 'B genes', 'C genes']\n",
    "colors = ['C0', 'C1', 'C2']\n",
    "\n",
    "fig, axs = plt.subplots(1, 2, figsize=(5*2,4), sharex=True, sharey=True)\n",
    "for ax, cond_mean, cond_sem, title in zip(axs, data_mean, data_sem, titles):\n",
    "    # ax.set_title('P28NR')\n",
    "    linestyle = '-'\n",
    "    ax.axhline(color='lightgray', linestyle='dotted', zorder=1)\n",
    "    for i, (gname, color) in enumerate(zip(gnames, colors)):\n",
    "        ax.plot(midpoints, cond_mean[i], label=gname, color=color, linestyle=linestyle)\n",
    "        ax.fill_between(midpoints, cond_mean[i]-cond_sem[i], cond_mean[i]+cond_sem[i], color=color, alpha=0.1, edgecolor='none')\n",
    "\n",
    "    sns.despine(ax=ax)\n",
    "    ax.set_xticks([0, 100, 200, 300, 400])\n",
    "    ax.set_xlim(left=50, right=400)\n",
    "    # ax.set_ylim([-0.3, 0.3])\n",
    "    ax.grid(False)\n",
    "    ax.set_title(title)\n",
    "    ax.set_xlabel('upper->lower cortical depth')\n",
    "    \n",
    "axs[0].set_ylabel('mean (expr. +/- sem)')\n",
    "fig.subplots_adjust(wspace=0.1)\n",
    "fig_manager.savefig(fig)\n",
    "plt.show()"
   ]
  },
  {
   "cell_type": "code",
   "execution_count": null,
   "id": "aad928e7-01ae-448c-82b5-7456639d9110",
   "metadata": {
    "tags": []
   },
   "outputs": [],
   "source": [
    "linestyles = ['-', '--']\n",
    "data_mean = [nr_mean, dr_mean]\n",
    "data_sem = [nr_sem, dr_sem]\n",
    "gnames = ['A genes', 'B genes', 'C genes']\n",
    "titles = gnames\n",
    "colors = ['C0', 'C1', 'C2']\n",
    "labels = ['NR', 'DR']\n",
    "sigs = qs\n",
    "allmeans = nrdr_mean\n",
    "\n",
    "fig, axs = plt.subplots(1, 3, figsize=(5*3,4), sharex=True, sharey=True)\n",
    "for i, (ax, gname, color) in enumerate(zip(axs, gnames, colors)):\n",
    "    ax.axhline(color='lightgray', linestyle='dotted', zorder=1)\n",
    "    for cond_mean, cond_sem, title, linestyle in zip(data_mean, data_sem, titles, linestyles):\n",
    "        ax.plot(midpoints, cond_mean[i], label=gname, color=color, linestyle=linestyle, marker='o', markersize=5)\n",
    "        ax.fill_between(midpoints, cond_mean[i]-cond_sem[i], cond_mean[i]+cond_sem[i], color=color, alpha=0.1, edgecolor='none')\n",
    "        \n",
    "    for _x, _y, _sig in zip(midpoints, allmeans[i], sigs[i]):\n",
    "        if _sig < 1e-3:\n",
    "            ax.text(_x, _y, \"***\", ha='left', va='center', fontsize=12, rotation=90)\n",
    "            ax.vlines(_x, _y-0.02, _y+0.02, color='k', linewidth=0.5)\n",
    "        elif _sig < 5e-2:\n",
    "            ax.text(_x, _y, \"*\", ha='left', va='center', fontsize=12, rotation=90)\n",
    "            ax.vlines(_x, _y-0.02, _y+0.02, color='k', linewidth=0.5)\n",
    "\n",
    "    sns.despine(ax=ax)\n",
    "    ax.set_xticks([0, 100, 200, 300, 400])\n",
    "    ax.set_xlim(left=50, right=400)\n",
    "    # ax.set_ylim([-0.2, 0.3])\n",
    "    ax.grid(False)\n",
    "    ax.set_title(gname)\n",
    "    ax.set_xlabel('upper->lower cortical depth')\n",
    "    \n",
    "axs[0].set_ylabel('mean (expr. +/- sem)')\n",
    "fig.subplots_adjust(wspace=0.1)\n",
    "fig_manager.savefig(fig)\n",
    "plt.show()"
   ]
  },
  {
   "cell_type": "code",
   "execution_count": null,
   "id": "ef71a7c6-9eec-4cba-8c24-402076a4a9cc",
   "metadata": {},
   "outputs": [],
   "source": []
  },
  {
   "cell_type": "code",
   "execution_count": null,
   "id": "a12fada1-1029-4350-9b84-ce4dc470c9fd",
   "metadata": {},
   "outputs": [],
   "source": []
  }
 ],
 "metadata": {
  "kernelspec": {
   "display_name": "napari",
   "language": "python",
   "name": "napari"
  },
  "language_info": {
   "codemirror_mode": {
    "name": "ipython",
    "version": 3
   },
   "file_extension": ".py",
   "mimetype": "text/x-python",
   "name": "python",
   "nbconvert_exporter": "python",
   "pygments_lexer": "ipython3",
   "version": "3.9.16"
  }
 },
 "nbformat": 4,
 "nbformat_minor": 5
}
