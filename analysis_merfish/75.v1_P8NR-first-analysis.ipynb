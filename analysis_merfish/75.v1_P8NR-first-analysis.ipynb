{
 "cells": [
  {
   "cell_type": "code",
   "execution_count": null,
   "id": "aa503af1-8bb5-427a-8241-06e28faa45f3",
   "metadata": {
    "tags": []
   },
   "outputs": [],
   "source": [
    "import numpy as np\n",
    "import pandas as pd\n",
    "import matplotlib.pyplot as plt\n",
    "import seaborn as sns\n",
    "import anndata as ad\n",
    "import scanpy as sc\n",
    "from scipy import stats\n",
    "import os\n",
    "\n",
    "from scipy import spatial\n",
    "from scipy import sparse\n",
    "from scipy.interpolate import CubicSpline\n",
    "from sklearn.decomposition import PCA\n",
    "from sklearn.cluster import KMeans\n",
    "from sklearn.neighbors import NearestNeighbors\n",
    "import networkx as nx\n",
    "from umap import UMAP\n",
    "from scipy.stats import zscore\n",
    "\n",
    "import json"
   ]
  },
  {
   "cell_type": "code",
   "execution_count": null,
   "id": "0f45245f-11c8-4e6e-b181-d2bf21e8c459",
   "metadata": {},
   "outputs": [],
   "source": [
    "import importlib\n",
    "\n",
    "from scroutines import powerplots\n",
    "from scroutines.miscu import is_in_polygon\n",
    "\n",
    "import utils_merfish\n",
    "importlib.reload(utils_merfish)\n",
    "from utils_merfish import rot2d, st_scatter, st_scatter_ax, plot_cluster, binning\n",
    "from utils_merfish import RefLineSegs\n",
    "\n",
    "import merfish_datasets\n",
    "import merfish_genesets\n",
    "importlib.reload(merfish_datasets)\n",
    "importlib.reload(merfish_genesets)\n",
    "from merfish_datasets import merfish_datasets\n",
    "from merfish_datasets import merfish_datasets_params\n",
    "\n",
    "from scroutines import basicu"
   ]
  },
  {
   "cell_type": "code",
   "execution_count": null,
   "id": "5ee31c0c-9fc3-4bf8-a36e-1cdb4fe398dc",
   "metadata": {
    "tags": []
   },
   "outputs": [],
   "source": [
    "def get_qc_metrics(df):\n",
    "    \"\"\"\n",
    "    return metrics\n",
    "     - key\n",
    "      - (name, val, medval, bins)\n",
    "    \"\"\"\n",
    "    metrics = {}\n",
    "    cols  = ['volume', 'gncov', 'gnnum']\n",
    "    names = ['cell volume', 'num transcripts', 'num genes']\n",
    "    \n",
    "    for col, name in zip(cols, names):\n",
    "        val = df[col].values\n",
    "        medval = np.median(val)\n",
    "        bins = np.linspace(0, 10*medval, 50)\n",
    "        \n",
    "        metrics[col] = (name, val, medval, bins)\n",
    "    return metrics\n",
    "\n",
    "def get_norm_counts(adata, scaling=500):\n",
    "    \"\"\"norm - equalize the volume to be 500 for all cells\n",
    "    \"\"\"\n",
    "    cnts = adata.X\n",
    "    vol = adata.obs['volume'].values\n",
    "    normcnts = cnts/vol.reshape(-1,1)*scaling\n",
    "    adata.layers['norm'] = normcnts\n",
    "    \n",
    "    return normcnts"
   ]
  },
  {
   "cell_type": "code",
   "execution_count": null,
   "id": "8dcb3a41-6fed-4c27-a03a-3ac6508f4622",
   "metadata": {
    "tags": []
   },
   "outputs": [],
   "source": [
    "def preprocessing(adata):\n",
    "    # filter genes\n",
    "    cond = np.ravel((adata.X>0).sum(axis=0)) > 10 # expressed in more than 10 cells\n",
    "    adata_sub = adata[:,cond]\n",
    "\n",
    "    # counts\n",
    "    x = adata_sub.X\n",
    "    cov = adata_sub.obs['n_counts'].values\n",
    "\n",
    "    # CP10k\n",
    "    xn = (sparse.diags(1/cov).dot(x))*1e4\n",
    "\n",
    "    # log10(CP10k+1)\n",
    "    xln = xn.copy()\n",
    "    xln.data = np.log10(xln.data+1)\n",
    "\n",
    "    adata_sub.layers['norm'] = xn\n",
    "    adata_sub.layers['lognorm'] = xln\n",
    "    \n",
    "    return adata_sub"
   ]
  },
  {
   "cell_type": "code",
   "execution_count": null,
   "id": "26899c73-77b3-4788-9ebb-5f4ab7cd1c07",
   "metadata": {
    "tags": []
   },
   "outputs": [],
   "source": [
    "def get_hvgs(adata, layer, nbin=20, qth=0.3):\n",
    "    \"\"\"\n",
    "    \"\"\"\n",
    "    xn = adata.layers[layer]\n",
    "    \n",
    "    # min\n",
    "    gm = np.ravel(xn.mean(axis=0))\n",
    "\n",
    "    # var\n",
    "    tmp = xn.copy()\n",
    "    tmp.data = np.power(tmp.data, 2)\n",
    "    gv = np.ravel(tmp.mean(axis=0))-gm**2\n",
    "\n",
    "    # cut \n",
    "    lbl = pd.qcut(gm, nbin, labels=np.arange(nbin))\n",
    "    gres = pd.DataFrame()\n",
    "    gres['lbl'] = lbl\n",
    "    gres['mean'] = gm\n",
    "    gres['var'] = gv\n",
    "    gres['ratio']= gv/gm\n",
    "\n",
    "    # select\n",
    "    gres_sel = gres.groupby('lbl')['ratio'].nlargest(int(qth*(len(gm)/nbin))) #.reset_index()\n",
    "    gsel_idx = np.sort(gres_sel.index.get_level_values(1).values)\n",
    "\n",
    "    assert np.all(gsel_idx != -1)\n",
    "    \n",
    "    return adata.var.index.values[gsel_idx]"
   ]
  },
  {
   "cell_type": "code",
   "execution_count": null,
   "id": "9a0ddfeb-fa2c-4d2e-942f-d7b1fd74a2f8",
   "metadata": {},
   "outputs": [],
   "source": [
    "def add_triangle(XC, ax, zorder=0, vertices=False, **kwargs):\n",
    "    # add the triangle\n",
    "    ax.plot(XC[0].tolist()+[XC[0,0]], XC[1].tolist()+[XC[1,0]], '--',  color='gray', label='', zorder=zorder, linewidth=1, markersize=3)\n",
    "    \n",
    "    # add vertices\n",
    "    if vertices:\n",
    "        ax.scatter(XC[0,0], XC[1,0], color='C0', zorder=zorder, **kwargs)\n",
    "        ax.scatter(XC[0,1], XC[1,1], color='C1', zorder=zorder, **kwargs)\n",
    "        ax.scatter(XC[0,2], XC[1,2], color='C2', zorder=zorder, **kwargs)"
   ]
  },
  {
   "cell_type": "code",
   "execution_count": null,
   "id": "f8e93405-9c79-4360-911f-6e44d3f65edc",
   "metadata": {
    "tags": []
   },
   "outputs": [],
   "source": [
    "def binning_pipe(adata, n=20, layer='lnorm', bin_type='depth_bin'):\n",
    "    \"\"\"\n",
    "    \"\"\"\n",
    "    assert bin_type in ['depth_bin', 'width_bin']\n",
    "    # bin it \n",
    "    depth_bins, depth_binned = utils_merfish.binning(adata.obs['depth'].values, n)\n",
    "    width_bins, width_binned = utils_merfish.binning(adata.obs['width'].values, n)\n",
    "\n",
    "    norm_ = pd.DataFrame(adata.layers[layer], columns=adata.var.index)\n",
    "    norm_['depth_bin'] = depth_binned\n",
    "    norm_['width_bin'] = width_binned\n",
    "    \n",
    "    norm_mean = norm_.groupby(bin_type).mean(numeric_only=True)\n",
    "    norm_sem  = norm_.groupby(bin_type).sem(numeric_only=True)\n",
    "    norm_std  = norm_.groupby(bin_type).std(numeric_only=True)\n",
    "    norm_n    = norm_[bin_type].value_counts(sort=False)\n",
    "\n",
    "    return norm_mean, norm_sem, norm_std, norm_n, depth_binned, width_binned, depth_bins, width_bins\n",
    "\n",
    "def binning_pipe2(adata, col_to_bin, layer, bins=None, n=20):\n",
    "    \"\"\"\n",
    "    \"\"\"\n",
    "    if bins is None:\n",
    "        # bin it \n",
    "        bins, binned = utils_merfish.binning(adata.obs[col_to_bin].values, n)\n",
    "    else:\n",
    "        binned = pd.cut(adata.obs[col_to_bin].values, bins=bins)\n",
    "\n",
    "    norm_ = pd.DataFrame(adata.layers[layer], columns=adata.var.index)\n",
    "    norm_['thebin'] = binned\n",
    "    \n",
    "    norm_mean = norm_.groupby('thebin').mean(numeric_only=True)\n",
    "    norm_sem  = norm_.groupby('thebin').sem(numeric_only=True)\n",
    "    norm_std  = norm_.groupby('thebin').std(numeric_only=True)\n",
    "    norm_n    = norm_['thebin'].value_counts(sort=False)\n",
    "\n",
    "    return norm_mean, norm_sem, norm_std, norm_n, binned, bins "
   ]
  },
  {
   "cell_type": "code",
   "execution_count": null,
   "id": "17e57120-ac1f-4c1d-9d12-188855ef70f3",
   "metadata": {
    "tags": []
   },
   "outputs": [],
   "source": [
    "def neighbor_label_transfer(k, ref_emb, qry_emb, ref_lbl, p_cutoff=0.5, dist_cutoff=None):\n",
    "    \"\"\"ref vs qry neighbors\n",
    "    \"\"\"\n",
    "    unq_lbls = np.unique(ref_lbl).astype(str) # array(['L2/3_A', 'L2/3_B', 'L2/3_C'])\n",
    "    n_unq_lbls = len(unq_lbls)\n",
    "    ref_n = len(ref_emb)\n",
    "    qry_n = len(qry_emb)\n",
    "    \n",
    "    neigh = NearestNeighbors(n_neighbors=k) # , radius=0.4)\n",
    "    neigh.fit(ref_emb)\n",
    "    dists, idx = neigh.kneighbors(qry_emb, k, return_distance=True)\n",
    "    \n",
    "    raw_pred = ref_lbl[idx]\n",
    "\n",
    "    # p\n",
    "    pabc = np.empty((qry_n, n_unq_lbls))\n",
    "    for i, lbl in enumerate(unq_lbls):\n",
    "        p = np.sum(raw_pred==lbl, axis=1)/k\n",
    "        pabc[:,i] = p\n",
    "\n",
    "    # max\n",
    "    max_pred = unq_lbls[np.argmax(pabc, axis=1)]\n",
    "\n",
    "    # \n",
    "    gated_pred = max_pred.copy()\n",
    "    cond1 = np.max( pabc, axis=1) > p_cutoff\n",
    "    gated_pred[~cond1] = 'NA' \n",
    "    if dist_cutoff is not None:\n",
    "        cond2 = np.max(dists, axis=1) < dist_cutoff\n",
    "        gated_pred[~cond2] = 'NA' \n",
    "    \n",
    "    return max_pred, gated_pred, np.max(dists, axis=1)\n",
    "\n",
    "\n",
    "def neighbor_self_nonself(k, ref_emb, qry_emb):\n",
    "    \"\"\"ref vs qry neighbors\n",
    "    \"\"\"\n",
    "    unq_lbls = np.unique(ref_lbl).astype(str) # array(['L2/3_A', 'L2/3_B', 'L2/3_C'])\n",
    "    n_unq_lbls = len(unq_lbls)\n",
    "    ref_n = len(ref_emb)\n",
    "    qry_n = len(qry_emb)\n",
    "    lbls = np.array([0]*ref_n+[1]*qry_n)\n",
    "    \n",
    "    neigh = NearestNeighbors(n_neighbors=k) # , radius=0.4)\n",
    "    neigh.fit(np.vstack([ref_emb, qry_emb]))\n",
    "    idx = neigh.kneighbors(qry_emb, k, return_distance=False)\n",
    "    \n",
    "    isself = lbls[idx]\n",
    "\n",
    "    p = np.sum(isself, axis=1)/k\n",
    "\n",
    "    \n",
    "    return p # max_pred, gated_pred, np.max(dists, axis=1)"
   ]
  },
  {
   "cell_type": "markdown",
   "id": "948e0c4c-761e-4757-9027-2c6f309b4245",
   "metadata": {},
   "source": [
    "# load data and construct adata "
   ]
  },
  {
   "cell_type": "code",
   "execution_count": null,
   "id": "39889430-5345-48d5-acb5-32a077eb6b85",
   "metadata": {},
   "outputs": [],
   "source": [
    "np.random.seed(0)"
   ]
  },
  {
   "cell_type": "code",
   "execution_count": null,
   "id": "1abfa400-a56a-4bdd-b61a-d962b03ae2b1",
   "metadata": {
    "tags": []
   },
   "outputs": [],
   "source": [
    "ddir = \"/u/home/f/f7xiesnm/project-zipursky/v1-bb/v1/data/merfish/organized\" \n",
    "fin = os.path.join(ddir, 'P8NR_v1l23glut_rna_merfish_250411.h5ad')\n",
    "!ls $ddir/*l2*240723.h5ad "
   ]
  },
  {
   "cell_type": "code",
   "execution_count": null,
   "id": "55de884f-8fe0-4d53-9502-5758d19327bb",
   "metadata": {},
   "outputs": [],
   "source": [
    "adata_merge = ad.read(fin)\n",
    "adata_snrnasq = adata_merge[adata_merge.obs['modality']=='rna']\n",
    "adata_merfish = adata_merge[adata_merge.obs['modality']=='merfish'] \n",
    "\n",
    "adata_merge, adata_snrnasq, adata_merfish"
   ]
  },
  {
   "cell_type": "code",
   "execution_count": null,
   "id": "87d2fbbb-90cd-4974-b1d5-78a7bb38ae2d",
   "metadata": {},
   "outputs": [],
   "source": [
    "%%time\n",
    "names = [\n",
    "    'P8NRa_ant2', \n",
    "    'P8NRb_ant2',\n",
    "    'P8NRc_ant2', \n",
    "    'P8NRd_ant2',\n",
    "    \n",
    "    'P8NRa_pos2', \n",
    "    'P8NRb_pos2',\n",
    "    'P8NRc_pos2', \n",
    "    'P8NRd_pos2',\n",
    "]\n",
    "\n",
    "alldata = {}\n",
    "for name in names:\n",
    "    adatasub = ad.read(os.path.join(ddir, f'{name}_l2_v1_250410.h5ad')) \n",
    "    adatasub.obs.index = np.char.add(f'{name}', adatasub.obs.index.values)\n",
    "    alldata[name] = adatasub \n",
    "    print(name, len(alldata[name]))\n",
    "    \n",
    "genes = adatasub.var.index.values\n",
    "genes.shape"
   ]
  },
  {
   "cell_type": "code",
   "execution_count": null,
   "id": "10056f83-d188-4aea-9e6b-6bfaed8f77e0",
   "metadata": {
    "tags": []
   },
   "outputs": [],
   "source": [
    "genesets, df = merfish_genesets.get_all_genesets()\n",
    "for key, item in genesets.items():\n",
    "    print(key, len(item))"
   ]
  },
  {
   "cell_type": "code",
   "execution_count": null,
   "id": "bbeb650a-238c-4dbf-b22b-2f64f203f0b3",
   "metadata": {
    "tags": []
   },
   "outputs": [],
   "source": [
    "agenes = genesets['a']\n",
    "bgenes = genesets['b']\n",
    "cgenes = genesets['c']\n",
    "iegs   = genesets['i']\n",
    "abcgenes = np.hstack([agenes, bgenes, cgenes])\n",
    "genes_noniegs = np.array([g for g in genes if g not in iegs])\n",
    "\n",
    "marker_genes = [\n",
    "       'Ptprn', 'Slc17a7', 'Gad1', 'Fos', \n",
    "       \n",
    "       'Gfap', 'Slc6a13', 'Slc47a1',\n",
    "       'Grin2c', 'Aqp4', 'Rfx4', 'Sox21', 'Slc1a3',\n",
    "       \n",
    "       'Sox10', 'Pdgfra', 'Mog',\n",
    "       \n",
    "       'Pecam1', 'Cd34' , 'Tnfrsf12a', 'Sema3c', \n",
    "       'Zfhx3', 'Pag1', 'Slco2b1', 'Cx3cr1',\n",
    "      ] \n",
    "len(abcgenes), len(genes_noniegs)"
   ]
  },
  {
   "cell_type": "code",
   "execution_count": null,
   "id": "425bb22f-df22-4280-82a8-f4bffa73f40d",
   "metadata": {
    "tags": []
   },
   "outputs": [],
   "source": [
    "agenes_idx = basicu.get_index_from_array(adatasub.var.index.values, agenes)\n",
    "bgenes_idx = basicu.get_index_from_array(adatasub.var.index.values, bgenes)\n",
    "cgenes_idx = basicu.get_index_from_array(adatasub.var.index.values, cgenes)\n",
    "igenes_idx = basicu.get_index_from_array(adatasub.var.index.values, iegs)"
   ]
  },
  {
   "cell_type": "code",
   "execution_count": null,
   "id": "17dd1c5e-fc3e-4bf3-8854-ce4229df7267",
   "metadata": {
    "tags": []
   },
   "outputs": [],
   "source": [
    "mean_total_rna_target = 250\n",
    "adata_merged = []\n",
    "for i, name in enumerate(names):\n",
    "    j = i // 4\n",
    "    i = i % 4\n",
    "    \n",
    "    adatasub = alldata[name].copy()\n",
    "    adatasub.obs['sample'] = name\n",
    "    \n",
    "    norm_cnts = adatasub.layers['norm']\n",
    "    # mean_per_batch = np.mean(norm_cnts.sum(axis=1))\n",
    "    mean_per_batch_noniegs = np.mean(adatasub[:,genes_noniegs].layers['norm'].sum(axis=1))\n",
    "    \n",
    "    adatasub.layers['jnorm']  = norm_cnts*(mean_total_rna_target/mean_per_batch_noniegs)\n",
    "    adatasub.layers['ljnorm'] = np.log2(1+adatasub.layers['jnorm'])\n",
    "    \n",
    "    adatasub.obs['norm_transcript_count']  = adatasub.layers['norm'].sum(axis=1)\n",
    "    adatasub.obs['jnorm_transcript_count'] = adatasub.layers['jnorm'].sum(axis=1)\n",
    "    \n",
    "    adatasub.obs['depth_show'] = -adatasub.obs['depth'].values - i*1300 # name\n",
    "    adatasub.obs['width_show'] =  adatasub.obs['width'].values - np.min(adatasub.obs['width'].values) + j*2500   # name\n",
    "    \n",
    "    adata_merged.append(adatasub)\n",
    "    \n",
    "adata_merged = ad.concat(adata_merged)"
   ]
  },
  {
   "cell_type": "markdown",
   "id": "6b3de043-b8ef-462d-8c49-e7dcf4ed1d19",
   "metadata": {},
   "source": [
    "# get L23 RNA"
   ]
  },
  {
   "cell_type": "code",
   "execution_count": null,
   "id": "95c5adc8-cdc3-40a7-9b37-d0968ca4cb8d",
   "metadata": {},
   "outputs": [],
   "source": [
    "adata_snrnasq"
   ]
  },
  {
   "cell_type": "code",
   "execution_count": null,
   "id": "00834b49-fa7e-4e45-b4c2-c8edd5f5fd16",
   "metadata": {},
   "outputs": [],
   "source": [
    "#\n",
    "f = '/u/home/f/f7xiesnm/project-zipursky/v1-bb/v1/data/cheng21_cell_scrna/organized/P28NR.h5ad'\n",
    "adata_rna_raw = sc.read(f)\n",
    "adata_rna_raw = adata_rna_raw[adata_rna_raw.obs['Subclass']=='L2/3'].copy()\n",
    "adata_rna_raw"
   ]
  },
  {
   "cell_type": "code",
   "execution_count": null,
   "id": "387b8e21-b39c-4e96-b29c-4f5c3a3c6425",
   "metadata": {
    "tags": []
   },
   "outputs": [],
   "source": [
    "# abcgenes_rna = rename_genes(abcgenes)\n",
    "adata_rna_raw.var.index = merfish_genesets.rename_genes(adata_rna_raw.var.index.values) "
   ]
  },
  {
   "cell_type": "code",
   "execution_count": null,
   "id": "5f78caed-4877-4a07-822a-5040ae22b2d1",
   "metadata": {
    "tags": []
   },
   "outputs": [],
   "source": [
    "adata_rna_raw = preprocessing(adata_rna_raw)\n",
    "# hvgs = get_hvgs(adata_rna_raw, 'norm')\n",
    "# adata_rna = adata_rna_raw[:,hvgs]\n",
    "adata_rna = adata_rna_raw[:,abcgenes]\n",
    "adata_rna_raw, adata_rna"
   ]
  },
  {
   "cell_type": "markdown",
   "id": "78dc3508-9843-440d-87a4-b31f6217886d",
   "metadata": {},
   "source": [
    "# get L2/3 only"
   ]
  },
  {
   "cell_type": "code",
   "execution_count": null,
   "id": "60ec4707-b731-4216-bb4a-b45fd598bde3",
   "metadata": {},
   "outputs": [],
   "source": [
    "l23_cells = adata_merfish[adata_merfish.obs['gated_pred_subclass']=='L2/3'].obs.index.values\n",
    "adata_l23 = adata_merged[l23_cells].copy()"
   ]
  },
  {
   "cell_type": "code",
   "execution_count": null,
   "id": "437d31d9-b383-4842-9d06-ae0696045147",
   "metadata": {},
   "outputs": [],
   "source": [
    "colors = ['C1', 'k']\n",
    "for i, name in enumerate(names):\n",
    "    j = i // 4\n",
    "    color = colors[j]\n",
    "    \n",
    "    adatasub = adata_l23[adata_l23.obs['sample']==name]\n",
    "    sns.histplot(adatasub.obs['depth'].values, element='step', fill=False, color=color)"
   ]
  },
  {
   "cell_type": "code",
   "execution_count": null,
   "id": "6ba78920-0365-41bc-a107-daea7d5e205a",
   "metadata": {
    "tags": []
   },
   "outputs": [],
   "source": [
    "adata = adata_l23[adata_l23.obs['depth'] < 400].copy()"
   ]
  },
  {
   "cell_type": "code",
   "execution_count": null,
   "id": "6b19744c-a135-49b4-ab8b-a03432ef8597",
   "metadata": {},
   "outputs": [],
   "source": []
  },
  {
   "cell_type": "code",
   "execution_count": null,
   "id": "50b0f450-a0b7-4703-a7e8-f3a41711ec7c",
   "metadata": {
    "tags": []
   },
   "outputs": [],
   "source": [
    "ns = adata.obs.groupby('sample').size()\n",
    "ls = adata.obs.groupby('sample')['width'].max() - adata.obs.groupby('sample')['width'].min()\n",
    "\n",
    "a, b = (ns/ls)[:4], (ns/ls)[4:]\n",
    "t, p = stats.ttest_ind(a, b)\n",
    "a, b, p"
   ]
  },
  {
   "cell_type": "code",
   "execution_count": null,
   "id": "ff4ac1e4-50e9-4f16-95bd-aa457aca50c6",
   "metadata": {},
   "outputs": [],
   "source": [
    "\n",
    "plt.bar(np.arange(8), ns/ls)"
   ]
  },
  {
   "cell_type": "code",
   "execution_count": null,
   "id": "35900c7a-c7db-4059-9154-d0d12d06cf89",
   "metadata": {
    "tags": []
   },
   "outputs": [],
   "source": [
    "width_min = adata.obs.groupby('sample')['width'].min().reindex(names)\n",
    "width_max = adata.obs.groupby('sample')['width'].max().reindex(names)\n",
    "width_rng = width_max - width_min \n",
    "width_cum = pd.Series(np.cumsum(np.hstack([0, width_rng[:-1]+100])), index=names)\n",
    "\n",
    "adata.obs['width_n0'] = adata.obs['width'] - width_min.reindex(adata.obs['sample']).values\n",
    "adata.obs['width_show2'] =  adata.obs['width_n0'] + width_cum.reindex(adata.obs['sample']).values\n",
    "adata.obs['depth_show2'] = -adata.obs['depth']"
   ]
  },
  {
   "cell_type": "code",
   "execution_count": null,
   "id": "0a14c0e9-0e53-459a-95f3-e5c437b30465",
   "metadata": {
    "tags": []
   },
   "outputs": [],
   "source": [
    "# merge using overlapping genes\n",
    "adata_rna = adata_rna[:,abcgenes].copy()\n",
    "adata_mer = adata[adata.obs['transcript_count']>50, abcgenes]\n",
    "adata_mer = adata_mer[adata_mer.obs['sample'].str.contains('NR')].copy()\n",
    "\n",
    "adata_rna.obs['modality'] = 'rna'\n",
    "adata_mer.obs['modality'] = 'merfish'\n",
    "adata_merge0 = sc.concat([adata_rna, adata_mer], join='outer')\n",
    "\n",
    "lognorm_rna = np.log10(1+np.array(adata_rna.layers['norm'].todense()))\n",
    "zlognorm_rna = stats.zscore(lognorm_rna, axis=0)\n",
    "\n",
    "lognorm_mer = adata_mer.layers['ljnorm']  # np.log10(1+adata_mer.layers['norm'])\n",
    "zlognorm_mer = stats.zscore(lognorm_mer, axis=0)\n",
    "\n",
    "adata_merge0.obsm['X_pca2'] = PCA(n_components=20).fit_transform(np.vstack([zlognorm_rna, zlognorm_mer])) \n",
    "\n",
    "print(len(adata_rna), len(adata), len(adata_mer))\n",
    "adata_merge0"
   ]
  },
  {
   "cell_type": "code",
   "execution_count": null,
   "id": "41ba7f03-d83d-4648-8d80-9bbe8fa6c375",
   "metadata": {
    "tags": []
   },
   "outputs": [],
   "source": [
    "sc.external.pp.harmony_integrate(adata_merge0, 'modality', basis='X_pca2', max_iter_harmony=20)"
   ]
  },
  {
   "cell_type": "code",
   "execution_count": null,
   "id": "c479e63c-01af-4939-acf6-973bcf5f8064",
   "metadata": {
    "tags": []
   },
   "outputs": [],
   "source": [
    "# merge using overlapping genes\n",
    "adata_rna = adata_rna[:,abcgenes].copy()\n",
    "adata_mer = adata[adata.obs['transcript_count']>50, abcgenes].copy()\n",
    "\n",
    "adata_rna.obs['modality'] = 'rna'\n",
    "adata_mer.obs['modality'] = 'merfish'\n",
    "adata_merge = sc.concat([adata_rna, adata_mer], join='outer')\n",
    "\n",
    "lognorm_rna = np.log10(1+np.array(adata_rna.layers['norm'].todense()))\n",
    "zlognorm_rna = stats.zscore(lognorm_rna, axis=0)\n",
    "\n",
    "lognorm_mer = adata_mer.layers['ljnorm']  # np.log10(1+adata_mer.layers['norm'])\n",
    "zlognorm_mer = stats.zscore(lognorm_mer, axis=0)\n",
    "\n",
    "adata_merge.obsm['X_pca2'] = PCA(n_components=20).fit_transform(np.vstack([zlognorm_rna, zlognorm_mer])) \n",
    "\n",
    "print(len(adata_rna), len(adata), len(adata_mer))\n",
    "adata_merge"
   ]
  },
  {
   "cell_type": "code",
   "execution_count": null,
   "id": "86c59443-e05d-479a-aa02-e0fc6a85e742",
   "metadata": {},
   "outputs": [],
   "source": [
    "sc.external.pp.harmony_integrate(adata_merge, 'modality', basis='X_pca2', max_iter_harmony=20)"
   ]
  },
  {
   "cell_type": "code",
   "execution_count": null,
   "id": "bb9c65a8-3966-4d95-ac32-8af021e61d78",
   "metadata": {
    "tags": []
   },
   "outputs": [],
   "source": [
    "adata_merge0.obs['hpc1'] = adata_merge0.obsm['X_pca_harmony'][:,0]\n",
    "adata_merge0.obs['hpc2'] = adata_merge0.obsm['X_pca_harmony'][:,1]\n",
    "adata_merge0.obs['hpc3'] = adata_merge0.obsm['X_pca_harmony'][:,2]\n",
    "adata_merge0.obs['hpc4'] = adata_merge0.obsm['X_pca_harmony'][:,3]\n",
    "\n",
    "adata_merge.obs['hpc1'] = adata_merge.obsm['X_pca_harmony'][:,0]\n",
    "adata_merge.obs['hpc2'] = adata_merge.obsm['X_pca_harmony'][:,1]\n",
    "adata_merge.obs['hpc3'] = adata_merge.obsm['X_pca_harmony'][:,2]\n",
    "adata_merge.obs['hpc4'] = adata_merge.obsm['X_pca_harmony'][:,3]\n"
   ]
  },
  {
   "cell_type": "code",
   "execution_count": null,
   "id": "5a7d8d39-4022-46f1-8dc7-91dabdec99bf",
   "metadata": {
    "tags": []
   },
   "outputs": [],
   "source": [
    "%%time\n",
    "\n",
    "from py_pcha import PCHA\n",
    "\n",
    "\n",
    "def get_aa(X):\n",
    "    \"\"\"\n",
    "    \"\"\"\n",
    "    np.random.seed(0)\n",
    "    XC, S, C, SSE, varexpl = PCHA(X, noc=3, delta=0)\n",
    "    XC = np.array(XC)\n",
    "    XC = XC[:,np.argsort(XC[0])].copy() # order this\n",
    "    return XC\n",
    "\n",
    "X = adata_merge0.obsm['X_pca_harmony'][:,:2].T\n",
    "XC0 = get_aa(X)\n",
    "\n",
    "X = adata_merge0[adata_merge0.obs['modality']=='rna'].obsm['X_pca_harmony'][:,:2].T\n",
    "XC1 = get_aa(X)\n",
    "\n",
    "X = adata_merge0[adata_merge0.obs['modality']=='merfish'].obsm['X_pca_harmony'][:,:2].T\n",
    "XC2 = get_aa(X)"
   ]
  },
  {
   "cell_type": "code",
   "execution_count": null,
   "id": "3538c7e5-7f4b-4d18-a208-6c5d9d151d15",
   "metadata": {
    "tags": []
   },
   "outputs": [],
   "source": [
    "fig, ax = plt.subplots()\n",
    "sns.scatterplot(data=adata_merge0.obs.sample(frac=1, replace=False), \n",
    "                x='hpc1', y='hpc2', hue='modality', s=5, edgecolor='none', \n",
    "                ax=ax,\n",
    "               )\n",
    "add_triangle(XC0, ax)\n",
    "add_triangle(XC1, ax)\n",
    "add_triangle(XC2, ax)\n",
    "plt.show()\n",
    "\n",
    "fig, ax = plt.subplots()\n",
    "sns.scatterplot(data=adata_merge0[adata_merge0.obs['modality']=='rna'].obs.sample(frac=1, replace=False), \n",
    "                x='hpc1', y='hpc2', hue='Type', s=5, edgecolor='none', \n",
    "                ax=ax,\n",
    "               )\n",
    "ax.set_aspect('equal')\n",
    "ax.grid(False)\n",
    "add_triangle(XC0, ax)\n",
    "add_triangle(XC1, ax, vertices=True, edgecolors='k', linewidths=1, marker='o')\n",
    "plt.show()\n",
    "\n",
    "fig, ax = plt.subplots()\n",
    "sns.scatterplot(data=adata_merge0[adata_merge0.obs['modality']=='merfish'].obs.sample(frac=1, replace=False), \n",
    "                x='hpc1', y='hpc2', #hue='', s=5, edgecolor='none', \n",
    "                ax=ax,\n",
    "               )\n",
    "ax.set_aspect('equal')\n",
    "ax.grid(False)\n",
    "add_triangle(XC0, ax)\n",
    "add_triangle(XC2, ax, vertices=True, edgecolors='k', linewidths=1, marker='o')\n",
    "plt.show()"
   ]
  },
  {
   "cell_type": "code",
   "execution_count": null,
   "id": "a8ba556f-b430-4331-8471-6fdcee27a62c",
   "metadata": {
    "tags": []
   },
   "outputs": [],
   "source": [
    "sns.scatterplot(data=adata_merge.obs.sample(frac=1, replace=False), \n",
    "                x='hpc1', y='hpc2', hue='modality', s=5, edgecolor='none')\n",
    "plt.show()\n",
    "sns.scatterplot(data=adata_merge.obs.sample(frac=1, replace=False), \n",
    "                x='hpc1', y='hpc2', hue='Type', s=5, edgecolor='none')\n",
    "plt.show()"
   ]
  },
  {
   "cell_type": "code",
   "execution_count": null,
   "id": "35b354a9-6804-4425-8675-30f14ae548b0",
   "metadata": {
    "tags": []
   },
   "outputs": [],
   "source": [
    "clsts_palette2 = {\n",
    "    'L2/3_A': 'C0',    \n",
    "    'L2/3_B': 'C1',    \n",
    "    'L2/3_C': 'C2',    \n",
    "    'NA': 'gray',\n",
    "}"
   ]
  },
  {
   "cell_type": "code",
   "execution_count": null,
   "id": "d17dafe4-45a7-42a8-9ce0-994ddd5a0c08",
   "metadata": {
    "tags": []
   },
   "outputs": [],
   "source": [
    "# # label transfer from RNA data\n",
    "ref = adata_merge0[adata_merge0.obs['modality']=='rna'].copy()\n",
    "qry = adata_merge0[adata_merge0.obs['modality']=='merfish'].copy()\n",
    "\n",
    "all_emb = adata_merge0.obsm['X_pca_harmony'][:,:2]\n",
    "ref_emb = ref.obsm['X_pca_harmony'][:,:2]\n",
    "qry_emb = qry.obsm['X_pca_harmony'][:,:2]\n",
    "\n",
    "ref_lbl = ref.obs['Type'].values.astype(str) # res_nr['type'].values.astype(str)\n",
    "print(np.unique(ref_lbl))\n",
    "\n",
    "k = 30\n",
    "max_pred, _, dists = neighbor_label_transfer(k, ref_emb, qry_emb, ref_lbl, p_cutoff=0.5, dist_cutoff=None)\n",
    "ps = neighbor_self_nonself(k, ref_emb, qry_emb)\n",
    "\n",
    "adata_merge0.obs['max_pred_type'] = 'NA' \n",
    "adata_merge0.obs['frac_self_neighbors_type'] = np.nan # 'NA'\n",
    "adata_merge0.obs['gated_pred_type'] = 'NA'\n",
    "\n",
    "adata_merge0.obs.loc[qry.obs.index, 'max_pred_type'] = max_pred\n",
    "adata_merge0.obs.loc[qry.obs.index, 'frac_self_neighbors_type'] = ps\n",
    "adata_merge0.obs.loc[qry.obs.index, 'gated_pred_type'] = np.where(ps < 0.95, max_pred, 'NA')\n",
    "\n",
    "adata_plot00 = adata_merge0[adata_merge0.obs['modality']=='rna']\n",
    "adata_plot01 = adata_merge0[adata_merge0.obs['modality']=='merfish']"
   ]
  },
  {
   "cell_type": "code",
   "execution_count": null,
   "id": "356a149c-f8fd-4117-b784-245577116bbf",
   "metadata": {
    "tags": []
   },
   "outputs": [],
   "source": [
    "fig, axs = plt.subplots(1,2,figsize=(2*6,1*5), sharex=True, sharey=True)\n",
    "ax = axs[0]\n",
    "sns.scatterplot(data=adata_plot00.obs.sample(frac=1, replace=False), \n",
    "                ax=ax, x='hpc1', y='hpc2', \n",
    "                hue='Type', \n",
    "                palette=clsts_palette2, hue_order=list(clsts_palette2.keys()),\n",
    "                legend=False,\n",
    "                s=5, edgecolor='none')\n",
    "ax.set_aspect('equal')\n",
    "add_triangle(XC0, ax, vertices=True, edgecolors='k', linewidths=1, marker='o')\n",
    "sns.despine(ax=ax)\n",
    "ax.grid(False)\n",
    "\n",
    "ax = axs[1]\n",
    "sns.scatterplot(data=adata_plot01.obs.sample(frac=1, replace=False), \n",
    "                ax=ax, x='hpc1', y='hpc2', \n",
    "                hue='max_pred_type', \n",
    "                palette=clsts_palette2, hue_order=list(clsts_palette2.keys()),\n",
    "                legend=False,\n",
    "                s=5, edgecolor='none')\n",
    "ax.set_aspect('equal')\n",
    "add_triangle(XC0, ax, vertices=True, edgecolors='k', linewidths=1, marker='o')\n",
    "sns.despine(ax=ax)\n",
    "ax.grid(False)\n",
    "plt.show()"
   ]
  },
  {
   "cell_type": "code",
   "execution_count": null,
   "id": "d7b462b7-09bb-43bd-9ee1-305f54bc484c",
   "metadata": {
    "tags": []
   },
   "outputs": [],
   "source": [
    "\n",
    "gns = ['Cdh13', 'Sorcs3', 'Trpc6', 'Chrm2'] \n",
    "n = len(gns)\n",
    "titles = gns\n",
    "x = adata_plot01.obs['hpc1'].values\n",
    "y = adata_plot01.obs['hpc2'].values\n",
    "\n",
    "fig, axs = plt.subplots(1,n,figsize=(n*5,1*3), sharex=True, sharey=True)\n",
    "for j, (ax, gn, title,) in enumerate(zip(axs, gns, titles)):\n",
    "    g = adata_plot01[:,gn].layers['ljnorm'].reshape(-1,)\n",
    "\n",
    "    # consistent over\n",
    "    g0 = adata[:,gn].layers['ljnorm'].mean(axis=1)\n",
    "    vmin = np.percentile(g0,  0)\n",
    "    vmax = np.percentile(g0, 95)\n",
    "    \n",
    "    sorting = np.argsort(g)\n",
    "\n",
    "    p = utils_merfish.st_scatter_ax(fig, ax, x, y, gexp=g, s=5, vmin=vmin, vmax=vmax, cmap='rocket_r')\n",
    "    # p = utils_merfish.st_scatter_ax(fig, ax, x[sorting], y[sorting], gexp=g[sorting], s=5, vmin=vmin, vmax=vmax, cmap='rocket_r')\n",
    "    colorbar = plt.colorbar(p, aspect=5, shrink=0.3)\n",
    "\n",
    "    # Show ticks but no grid\n",
    "    ax.set_aspect('equal')\n",
    "    ax.axis('on')\n",
    "    ax.grid(False)  # Turn off grid lines\n",
    "    sns.despine(ax=ax)\n",
    "    ax.tick_params(axis='both', which='both', bottom=True, left=True)\n",
    "\n",
    "    ax.set_title(title)\n",
    "\n",
    "    add_triangle(XC0, ax)\n",
    "plt.show()"
   ]
  },
  {
   "cell_type": "code",
   "execution_count": null,
   "id": "7768e550-22f6-4167-9c1e-328bd71f34f4",
   "metadata": {},
   "outputs": [],
   "source": []
  },
  {
   "cell_type": "code",
   "execution_count": null,
   "id": "de4d52fd-eecb-48a1-993e-81c126e1a16c",
   "metadata": {},
   "outputs": [],
   "source": []
  },
  {
   "cell_type": "code",
   "execution_count": null,
   "id": "03083608-1b8e-4560-8e24-78304db1b203",
   "metadata": {},
   "outputs": [],
   "source": []
  },
  {
   "cell_type": "code",
   "execution_count": null,
   "id": "74bb53bc-46f4-4466-afe2-871b397480ce",
   "metadata": {
    "tags": []
   },
   "outputs": [],
   "source": [
    "# # label transfer from RNA data\n",
    "ref = adata_merge[adata_merge.obs['modality']=='rna'].copy()\n",
    "qry = adata_merge[adata_merge.obs['modality']=='merfish'].copy()\n",
    "\n",
    "all_emb = adata_merge.obsm['X_pca_harmony'][:,:2]\n",
    "ref_emb = ref.obsm['X_pca_harmony'][:,:2]\n",
    "qry_emb = qry.obsm['X_pca_harmony'][:,:2]\n",
    "\n",
    "ref_lbl = ref.obs['Type'].values.astype(str) # res_nr['type'].values.astype(str)\n",
    "print(np.unique(ref_lbl))\n",
    "\n",
    "k = 30\n",
    "max_pred, _, dists = neighbor_label_transfer(k, ref_emb, qry_emb, ref_lbl, p_cutoff=0.5, dist_cutoff=None)\n",
    "ps = neighbor_self_nonself(k, ref_emb, qry_emb)\n",
    "\n",
    "adata_merge.obs['max_pred_type'] = 'NA' \n",
    "adata_merge.obs['frac_self_neighbors_type'] = np.nan # 'NA'\n",
    "adata_merge.obs['gated_pred_type'] = 'NA'\n",
    "\n",
    "adata_merge.obs.loc[qry.obs.index, 'max_pred_type'] = max_pred\n",
    "adata_merge.obs.loc[qry.obs.index, 'frac_self_neighbors_type'] = ps\n",
    "adata_merge.obs.loc[qry.obs.index, 'gated_pred_type'] = np.where(ps < 0.95, max_pred, 'NA')\n",
    "\n",
    "adata_plot0 = adata_merge[adata_merge.obs['modality']=='rna'].obs.sample(frac=1, replace=False)\n",
    "adata_plot1 = adata_merge[adata_merge.obs['modality']=='merfish'].obs.sample(frac=1, replace=False)"
   ]
  },
  {
   "cell_type": "code",
   "execution_count": null,
   "id": "921adefe-018e-4631-9123-f083d59a8880",
   "metadata": {
    "tags": []
   },
   "outputs": [],
   "source": [
    "fig, axs = plt.subplots(1,2,figsize=(2*6,1*5), sharex=True, sharey=True)\n",
    "ax = axs[0]\n",
    "sns.scatterplot(data=adata_plot0, \n",
    "                ax=ax, x='hpc1', y='hpc2', \n",
    "                hue='Type', \n",
    "                palette=clsts_palette2, hue_order=list(clsts_palette2.keys()),\n",
    "                s=5, edgecolor='none')\n",
    "ax.set_aspect('equal')\n",
    "\n",
    "ax = axs[1]\n",
    "sns.scatterplot(data=adata_plot1, \n",
    "                ax=ax, x='hpc1', y='hpc2', \n",
    "                hue='max_pred_type', \n",
    "                palette=clsts_palette2, hue_order=list(clsts_palette2.keys()),\n",
    "                s=5, edgecolor='none')\n",
    "ax.set_aspect('equal')\n",
    "sns.despine(ax=ax)\n",
    "plt.show()"
   ]
  },
  {
   "cell_type": "code",
   "execution_count": null,
   "id": "90ab8caf-e9b0-4353-9b5e-e2132613211d",
   "metadata": {},
   "outputs": [],
   "source": []
  },
  {
   "cell_type": "code",
   "execution_count": null,
   "id": "0a712a8d-6bfa-47ca-b7c9-c169cabc4136",
   "metadata": {},
   "outputs": [],
   "source": []
  },
  {
   "cell_type": "code",
   "execution_count": null,
   "id": "856567d6-3b0a-4479-8722-c02e142c00cb",
   "metadata": {},
   "outputs": [],
   "source": []
  },
  {
   "cell_type": "code",
   "execution_count": null,
   "id": "1cff7b47-a694-41c6-aca8-1876e3cf789e",
   "metadata": {},
   "outputs": [],
   "source": [
    "%%time\n",
    "xsign = 1\n",
    "\n",
    "from py_pcha import PCHA\n",
    "np.random.seed(0)\n",
    "\n",
    "X = np.vstack([\n",
    "    xsign*adata[adata.obs['sample'].str.contains('NR')].obsm['pcs_typegenes'][:,xi], \n",
    "    ysign*adata[adata.obs['sample'].str.contains('NR')].obsm['pcs_typegenes'][:,yi], \n",
    "])\n",
    "\n",
    "\n",
    "XC, S, C, SSE, varexpl = PCHA(X, noc=3, delta=0)\n",
    "XC = np.array(XC)\n",
    "XC = XC[:,np.argsort(XC[0])].copy() # order this\n",
    "print(XC.shape, S.shape, C.shape, SSE.shape, varexpl.shape, SSE, varexpl)"
   ]
  },
  {
   "cell_type": "code",
   "execution_count": null,
   "id": "782543d6-1dfe-4121-b510-a141040504b8",
   "metadata": {},
   "outputs": [],
   "source": [
    "fig, axs = plt.subplots(1,2,figsize=(2*6,1*5), sharex=True, sharey=True)\n",
    "ax = axs[0]\n",
    "sns.scatterplot(data=adata_plot1[adata_plot1['sample'].str.contains('NR')], \n",
    "                ax=ax, x='hpc1', y='hpc2', \n",
    "                hue='max_pred_type', \n",
    "                palette=clsts_palette2, hue_order=list(clsts_palette2.keys()),\n",
    "                legend=False,\n",
    "                s=5, edgecolor='none')\n",
    "ax.set_aspect('equal')\n",
    "\n",
    "ax = axs[1]\n",
    "sns.scatterplot(data=adata_plot1[adata_plot1['sample'].str.contains('DR')], \n",
    "                ax=ax, x='hpc1', y='hpc2', \n",
    "                hue='gated_pred_type', \n",
    "                palette=clsts_palette2, hue_order=list(clsts_palette2.keys()),\n",
    "                legend=False,\n",
    "                s=5, edgecolor='none')\n",
    "ax.set_aspect('equal')\n",
    "plt.show()"
   ]
  },
  {
   "cell_type": "code",
   "execution_count": null,
   "id": "815745c6-01f4-447c-a3c1-a5b50243cd89",
   "metadata": {},
   "outputs": [],
   "source": []
  },
  {
   "cell_type": "code",
   "execution_count": null,
   "id": "d663c14d-0340-4d40-9665-e812ca486d40",
   "metadata": {},
   "outputs": [],
   "source": []
  },
  {
   "cell_type": "code",
   "execution_count": null,
   "id": "4697250b-8b0d-45df-93c9-ae682e5113c9",
   "metadata": {
    "tags": []
   },
   "outputs": [],
   "source": [
    "adata.obsm['pcs_typegenes'] = adata_merge[adata.obs.index].obsm['X_pca_harmony'] # [:,3]\n",
    "adata"
   ]
  },
  {
   "cell_type": "code",
   "execution_count": null,
   "id": "ff7c7edd-5dca-41b9-908c-b0c906a1bb79",
   "metadata": {
    "tags": []
   },
   "outputs": [],
   "source": [
    "xi, yi = 0, 1\n",
    "xsign, ysign = 1, 1"
   ]
  },
  {
   "cell_type": "code",
   "execution_count": null,
   "id": "2c92340c-d291-489f-98e7-340ec4bf5850",
   "metadata": {
    "tags": []
   },
   "outputs": [],
   "source": [
    "metrics = ['gncov', 'gnnum', 'depth', 'width_show2']\n",
    "\n",
    "fig, axs = plt.subplots(1,4,figsize=(4*5,1*4))\n",
    "for metric, ax in zip(metrics, axs):\n",
    "    # g = np.log10(1+adata.obs[metric])\n",
    "    g = adata.obs[metric]\n",
    "    x = xsign*adata.obsm['pcs_typegenes'][:,xi]\n",
    "    y = ysign*adata.obsm['pcs_typegenes'][:,yi]\n",
    "    utils_merfish.st_scatter_ax(fig, ax, x, y, gexp=g, s=5, )\n",
    "    ax.set_title(metric)"
   ]
  },
  {
   "cell_type": "code",
   "execution_count": null,
   "id": "ed1830dd-4213-4412-b8c4-24cdf867cfb3",
   "metadata": {
    "tags": []
   },
   "outputs": [],
   "source": [
    "xi, yi = 0, 1\n",
    "xsign, ysign = 1,1"
   ]
  },
  {
   "cell_type": "code",
   "execution_count": null,
   "id": "2a530a1e-c928-4f0d-b5fe-8e04e2de3209",
   "metadata": {
    "tags": []
   },
   "outputs": [],
   "source": [
    "%%time\n",
    "\n",
    "from py_pcha import PCHA\n",
    "\n",
    "np.random.seed(0)\n",
    "\n",
    "X = np.vstack([\n",
    "    xsign*adata.obsm['pcs_typegenes'][:,xi], \n",
    "    ysign*adata.obsm['pcs_typegenes'][:,yi], \n",
    "])\n",
    "\n",
    "# X = np.vstack([\n",
    "#     xsign*adata[adata.obs['sample'].str.contains('NR')].obsm['pcs_typegenes'][:,xi], \n",
    "#     ysign*adata[adata.obs['sample'].str.contains('NR')].obsm['pcs_typegenes'][:,yi], \n",
    "# ])\n",
    "\n",
    "\n",
    "XC, S, C, SSE, varexpl = PCHA(X, noc=3, delta=0)\n",
    "XC = np.array(XC)\n",
    "XC = XC[:,np.argsort(XC[0])].copy() # order this\n",
    "print(XC.shape, S.shape, C.shape, SSE.shape, varexpl.shape, SSE, varexpl)\n",
    "\n",
    "\n"
   ]
  },
  {
   "cell_type": "code",
   "execution_count": null,
   "id": "1f38228e-9a62-4822-8c66-db250c30a7fb",
   "metadata": {
    "tags": []
   },
   "outputs": [],
   "source": [
    "gns = [agenes, bgenes, cgenes, iegs]\n",
    "titles = ['A genes', 'B genes', 'C genes',]\n",
    "adatas = [\n",
    "    adata,\n",
    "]\n",
    "conditions = ['combined', 'NR', ]\n",
    "\n",
    "fig, axss = plt.subplots(2,3,figsize=(3*5,3*2), sharex=True, sharey=True)\n",
    "for i, (axs, adatasub, condition) in enumerate(zip(axss, adatas, conditions)):\n",
    "    condition = conditions[i]\n",
    "    for j, (ax, gn, title,) in enumerate(zip(axs, gns, titles)):\n",
    "        g = adatasub[:,gn].layers['ljnorm'].mean(axis=1)\n",
    "        x = xsign*adatasub.obsm['pcs_typegenes'][:,xi]\n",
    "        y = ysign*adatasub.obsm['pcs_typegenes'][:,yi]\n",
    "        \n",
    "        # consistent over\n",
    "        g0 = adata[:,gn].layers['ljnorm'].mean(axis=1)\n",
    "        vmin = np.percentile(g0,  5)\n",
    "        vmax = np.percentile(g0, 95)\n",
    "            \n",
    "        p = utils_merfish.st_scatter_ax(fig, ax, x, y, gexp=g, s=5, cmap='coolwarm', vmin=vmin, vmax=vmax)\n",
    "        colorbar = plt.colorbar(p, aspect=5, shrink=0.3)\n",
    "        \n",
    "        # Show ticks but no grid\n",
    "        ax.set_aspect('equal')\n",
    "        ax.axis('on')\n",
    "        ax.grid(False)  # Turn off grid lines\n",
    "        sns.despine(ax=ax)\n",
    "        ax.tick_params(axis='both', which='both', bottom=True, left=True)\n",
    "        \n",
    "        if i == 0:\n",
    "            ax.set_title(title)\n",
    "        if j == 0:\n",
    "            ax.set_ylabel(condition, rotation=0, loc='top')\n",
    "            \n",
    "        # add the triangle\n",
    "        add_triangle(XC, ax)\n",
    "plt.show()"
   ]
  },
  {
   "cell_type": "code",
   "execution_count": null,
   "id": "7fe2fa47-ff02-4b2e-99ef-ff034f04f967",
   "metadata": {},
   "outputs": [],
   "source": []
  },
  {
   "cell_type": "code",
   "execution_count": null,
   "id": "b97d2201-1466-4630-b0cd-25345be23c26",
   "metadata": {},
   "outputs": [],
   "source": []
  },
  {
   "cell_type": "code",
   "execution_count": null,
   "id": "58ffe5a7-0cc6-478a-9f4c-bf5c3e8fcd20",
   "metadata": {},
   "outputs": [],
   "source": []
  },
  {
   "cell_type": "code",
   "execution_count": null,
   "id": "add3b866-4a3f-4dc9-be87-6a6eee844c81",
   "metadata": {
    "tags": []
   },
   "outputs": [],
   "source": [
    "gns = ['Cdh13', 'Cdh12', 'Meis2', 'Foxp1', 'Astn2']\n",
    "titles = gns\n",
    "adatas = [\n",
    "    adata,\n",
    "]\n",
    "conditions = ['combined', 'NR', 'DR']\n",
    "\n",
    "fig, axss = plt.subplots(2,4,figsize=(4*5,3*2), sharex=True, sharey=True)\n",
    "for i, (axs, adatasub, condition) in enumerate(zip(axss, adatas, conditions)):\n",
    "    condition = conditions[i]\n",
    "    for j, (ax, gn, title,) in enumerate(zip(axs, gns, titles)):\n",
    "        g = adatasub[:,gn].layers['ljnorm'].reshape(-1,)\n",
    "        x = xsign*adatasub.obsm['pcs_typegenes'][:,xi]\n",
    "        y = ysign*adatasub.obsm['pcs_typegenes'][:,yi]\n",
    "        \n",
    "        # consistent over\n",
    "        g0 = adata[:,gn].layers['ljnorm'].mean(axis=1)\n",
    "        vmin = np.percentile(g0,  5)\n",
    "        vmax = np.percentile(g0, 99)\n",
    "            \n",
    "        p = utils_merfish.st_scatter_ax(fig, ax, x, y, gexp=g, s=5, vmin=vmin, vmax=vmax)\n",
    "        colorbar = plt.colorbar(p, aspect=5, shrink=0.3)\n",
    "        \n",
    "        # Show ticks but no grid\n",
    "        ax.set_aspect('equal')\n",
    "        ax.axis('on')\n",
    "        ax.grid(False)  # Turn off grid lines\n",
    "        sns.despine(ax=ax)\n",
    "        ax.tick_params(axis='both', which='both', bottom=True, left=True)\n",
    "        \n",
    "        if i == 0:\n",
    "            ax.set_title(title)\n",
    "        if j == 0:\n",
    "            ax.set_ylabel(condition, rotation=0, loc='top')\n",
    "            \n",
    "        add_triangle(XC, ax)\n",
    "plt.show()"
   ]
  },
  {
   "cell_type": "code",
   "execution_count": null,
   "id": "69303a8c-20cd-4dcd-bcc0-fde9ede51334",
   "metadata": {
    "tags": []
   },
   "outputs": [],
   "source": [
    "gns = ['Cdh13', 'Cdh12', 'Astn2', 'Meis2', 'Foxp1', 'Pcdh19']\n",
    "titles = gns\n",
    "adatas = [\n",
    "    adata,\n",
    "]\n",
    "conditions = ['combined', 'NR', 'DR']\n",
    "\n",
    "n = len(gns)\n",
    "\n",
    "fig, axss = plt.subplots(2,n,figsize=(5*n,3*2), sharex=True, sharey=True)\n",
    "for i, (axs, adatasub, condition) in enumerate(zip(axss, adatas, conditions)):\n",
    "    condition = conditions[i]\n",
    "    for j, (ax, gn, title,) in enumerate(zip(axs, gns, titles)):\n",
    "        g = adatasub[:,gn].layers['ljnorm'].reshape(-1,)\n",
    "        x = xsign*adatasub.obsm['pcs_typegenes'][:,xi]\n",
    "        y = ysign*adatasub.obsm['pcs_typegenes'][:,yi]\n",
    "        \n",
    "        # consistent over\n",
    "        g0 = adata[:,gn].layers['ljnorm'].mean(axis=1)\n",
    "        vmin = np.percentile(g0,  5)\n",
    "        vmax = np.percentile(g0, 99)\n",
    "            \n",
    "        p = utils_merfish.st_scatter_ax(fig, ax, x, y, gexp=g, s=5, vmin=vmin, vmax=vmax)\n",
    "        colorbar = plt.colorbar(p, aspect=5, shrink=0.3)\n",
    "        \n",
    "        # Show ticks but no grid\n",
    "        ax.set_aspect('equal')\n",
    "        ax.axis('on')\n",
    "        ax.grid(False)  # Turn off grid lines\n",
    "        sns.despine(ax=ax)\n",
    "        ax.tick_params(axis='both', which='both', bottom=True, left=True)\n",
    "        \n",
    "        if i == 0:\n",
    "            ax.set_title(title)\n",
    "        if j == 0:\n",
    "            ax.set_ylabel(condition, rotation=0, loc='top')\n",
    "            \n",
    "        add_triangle(XC, ax)\n",
    "plt.show()"
   ]
  },
  {
   "cell_type": "markdown",
   "id": "80e4d25d-93db-4bc5-bc75-bf156939ae0b",
   "metadata": {},
   "source": [
    "# customized colormap "
   ]
  },
  {
   "cell_type": "code",
   "execution_count": null,
   "id": "c691952e-6d1f-40da-a111-db35dc9e43a5",
   "metadata": {},
   "outputs": [],
   "source": [
    "from matplotlib.colors import LinearSegmentedColormap\n",
    "\n",
    "colors_a = [(0.0, 'black'), (1.0, 'C0')]      \n",
    "colors_b = [(0.0, 'black'), (1.0, 'C1')]      \n",
    "colors_c = [(0.0, 'black'), (1.0, 'C2')]      \n",
    "colors_nrdr = [(0.0, 'C1'), (0.5, 'white'), (1.0, 'black')]\n",
    "colors_nr = [(0.0, 'white'), (1.0, 'C1'),]\n",
    "colors_dr = [(0.0, 'white'), (1.0, 'black'),]\n",
    "\n",
    "# Create a custom colormap using LinearSegmentedColormap\n",
    "cmap_a = LinearSegmentedColormap.from_list('cmap_a', colors_a)\n",
    "cmap_b = LinearSegmentedColormap.from_list('cmap_b', colors_b)\n",
    "cmap_c = LinearSegmentedColormap.from_list('cmap_c', colors_c)\n",
    "cmap_nrdr = LinearSegmentedColormap.from_list('cmap_nrdr', colors_nrdr)\n",
    "cmap_nr = LinearSegmentedColormap.from_list('cmap_nr', colors_nr)\n",
    "cmap_dr = LinearSegmentedColormap.from_list('cmap_dr', colors_dr)"
   ]
  },
  {
   "cell_type": "code",
   "execution_count": null,
   "id": "0a7e3f1b-2cb6-4cfb-9308-bde38617caef",
   "metadata": {
    "tags": []
   },
   "outputs": [],
   "source": [
    "xmin, xmax = -12, 12\n",
    "ymin, ymax = -7, 7 \n",
    "\n",
    "bins_x = np.linspace(xmin, xmax, 1*(xmax-xmin)+1)\n",
    "bins_y = np.linspace(ymin, ymax, 1*(ymax-ymin)+1)\n",
    "print(bins_x)\n",
    "print(bins_y)\n",
    "\n",
    "hists = []\n",
    "fig, axs = plt.subplots(1,4,figsize=(4*5,1*4), sharex=True, sharey=True)\n",
    "for ax, adatasub, cond, _cmap in zip(axs, [\n",
    "    adata,\n",
    "    ], \n",
    "    ['Combined', 'NR', ], \n",
    "    ['gray_r', cmap_nr, cmap_dr]):\n",
    "    x =  xsign*adatasub.obsm['pcs_typegenes'][:,xi]\n",
    "    y =  ysign*adatasub.obsm['pcs_typegenes'][:,yi]\n",
    "    sns.histplot(x=x, y=y, ax=ax, bins=(bins_x, bins_y), \n",
    "                 cmap=_cmap, # 'gray_r', \n",
    "                 stat='percent', vmin=0, vmax=2, \n",
    "                 cbar=True, cbar_kws=dict(shrink=0.4, ticks=[0,2]))\n",
    "    # sns.kdeplot(x=x, y=y, ax=ax, bins=(bins_x, bins_y))\n",
    "    \n",
    "    hist, _, _= np.histogram2d(x, y, bins=(bins_x, bins_y))\n",
    "    hist = hist/len(x)*100\n",
    "    hists.append(hist)\n",
    "    print(hist.shape)\n",
    "    ax.set_title(cond)\n",
    "    ax.set_aspect('equal')\n",
    "    sns.despine(ax=ax)\n",
    "    ax.grid(False)\n",
    "    \n",
    "    # g = ax.imshow(pd.DataFrame(np.log2(1e-3+hist), \n",
    "    #                          index=bins_x[1:]-0.5, \n",
    "    #                          columns=bins_y[1:]-0.5).T, \n",
    "    #             origin='lower',\n",
    "    #             extent=(xmin, xmax, ymin, ymax),\n",
    "    #             cmap='gray_r') # , vmax=1, vmin=-1)\n",
    "    \n",
    "    # add the triangle\n",
    "    add_triangle(XC, ax, zorder=2)\n",
    "    \n",
    "\n",
    "# add the triangle\n",
    "add_triangle(XC, ax, zorder=2)\n",
    "\n",
    "plt.show()"
   ]
  },
  {
   "cell_type": "code",
   "execution_count": null,
   "id": "6b82e8d4-33fb-400c-a0c9-b91538da51eb",
   "metadata": {
    "tags": []
   },
   "outputs": [],
   "source": [
    "dfshow = adata.obs.copy()\n",
    "dfshow['nrdr'] = dfshow['sample'].str.contains('DR').astype(int)\n",
    "dfshow['dim1'] = xsign*adata.obsm['pcs_typegenes'][:,xi]\n",
    "dfshow['dim2'] = ysign*adata.obsm['pcs_typegenes'][:,yi]\n",
    "palette = {0: 'C1', 1: 'black'}\n",
    "\n",
    "\n",
    "fig, axs = plt.subplots(1,2,figsize=(2*5,1*4), sharex=True, sharey=True) \n",
    "ax = axs[0]\n",
    "add_triangle(XC, ax)\n",
    "sns.scatterplot(data=dfshow.sample(frac=1), x='dim1', y='dim2', hue='nrdr', s=3, edgecolor='none', palette=palette, ax=ax)\n",
    "ax.set_aspect('equal')\n",
    "sns.despine(ax=ax)\n",
    "ax.grid(False)\n",
    "ax.legend(bbox_to_anchor=(1,1))\n",
    "\n",
    "ax = axs[1]\n",
    "add_triangle(XC, ax)\n",
    "sns.kdeplot(data=dfshow, x='dim1', y='dim2', hue='nrdr', palette=palette, legend=False, ax=ax,)\n",
    "ax.set_aspect('equal')\n",
    "sns.despine(ax=ax)\n",
    "ax.grid(False)\n",
    "\n",
    "\n",
    "fig.tight_layout()\n",
    "plt.show()"
   ]
  },
  {
   "cell_type": "code",
   "execution_count": null,
   "id": "433d19fc-43cd-441a-ab5c-094755939a5a",
   "metadata": {
    "tags": []
   },
   "outputs": [],
   "source": [
    "fig, axs = plt.subplots(2,4,figsize=(4*4,2*3), sharex=True, sharey=True) \n",
    "for sample, ax in zip(names, axs.flat):\n",
    "    add_triangle(XC, ax)\n",
    "    sns.scatterplot(data=dfshow[dfshow['sample']==sample].sample(frac=1), \n",
    "                    x='dim1', y='dim2', hue='nrdr', s=5, edgecolor='none', palette=palette, ax=ax, legend=False)\n",
    "    sns.kdeplot(data=dfshow[dfshow['sample']==sample],\n",
    "                x='dim1', y='dim2', hue='nrdr', palette=palette, legend=False, ax=ax,)\n",
    "    ax.set_aspect('equal')\n",
    "    sns.despine(ax=ax)\n",
    "    ax.set_title(sample)\n",
    "    ax.grid(False)\n",
    "    # ax.legend(bbox_to_anchor=(1,1))\n",
    "\n",
    "fig.tight_layout()\n",
    "plt.show()"
   ]
  },
  {
   "cell_type": "markdown",
   "id": "8cae4b8f-50eb-4212-b655-bb36563e2d6f",
   "metadata": {},
   "source": [
    "# customized colormap "
   ]
  },
  {
   "cell_type": "code",
   "execution_count": null,
   "id": "f3aa3ad3-7af0-4cc9-b228-e12fdd725c53",
   "metadata": {},
   "outputs": [],
   "source": [
    "from matplotlib.colors import LinearSegmentedColormap\n",
    "\n",
    "colors_a = [(0.0, 'black'), (1.0, 'C0')]      \n",
    "colors_b = [(0.0, 'black'), (1.0, 'C1')]      \n",
    "colors_c = [(0.0, 'black'), (1.0, 'C2')]      \n",
    "\n",
    "# Create a custom colormap using LinearSegmentedColormap\n",
    "cmap_a = LinearSegmentedColormap.from_list('cmap_a', colors_a)\n",
    "cmap_b = LinearSegmentedColormap.from_list('cmap_b', colors_b)\n",
    "cmap_c = LinearSegmentedColormap.from_list('cmap_c', colors_c)\n"
   ]
  },
  {
   "cell_type": "code",
   "execution_count": null,
   "id": "e9227e56-abd0-441f-878e-23f8a300469e",
   "metadata": {
    "tags": []
   },
   "outputs": [],
   "source": [
    "# get ABC scores\n",
    "g0_a = stats.zscore(adata[:,agenes].layers['ljnorm'], axis=0).mean(axis=1)\n",
    "g0_b = stats.zscore(adata[:,bgenes].layers['ljnorm'], axis=0).mean(axis=1)\n",
    "g0_c = stats.zscore(adata[:,cgenes].layers['ljnorm'], axis=0).mean(axis=1)\n",
    "\n",
    "# make ABC scores comparable and norm to [0,1] [30% to 95%]\n",
    "vmin_p, vmax_p = 40, 95\n",
    "vmin_a = np.percentile(g0_a, vmin_p)\n",
    "vmax_a = np.percentile(g0_a, vmax_p)\n",
    "\n",
    "vmin_b = np.percentile(g0_b, vmin_p)\n",
    "vmax_b = np.percentile(g0_b, vmax_p)\n",
    "\n",
    "vmin_c = np.percentile(g0_c, vmin_p)\n",
    "vmax_c = np.percentile(g0_c, vmax_p)\n",
    "\n",
    "g0_a = np.clip((g0_a-vmin_a)/(vmax_a-vmin_a), 0, 1)\n",
    "g0_b = np.clip((g0_b-vmin_b)/(vmax_b-vmin_b), 0, 1)\n",
    "g0_c = np.clip((g0_c-vmin_c)/(vmax_c-vmin_c), 0, 1)\n",
    "\n",
    "# separate them into scale and frequency\n",
    "g0_sum  = (g0_a+g0_b+g0_c)\n",
    "freq0_a = g0_a/(g0_sum+1e-5)\n",
    "freq0_b = g0_b/(g0_sum+1e-5)\n",
    "freq0_c = g0_c/(g0_sum+1e-5)\n",
    "\n",
    "adata.obsm['size_freq_abc'] = np.vstack([freq0_a, freq0_b, freq0_c, g0_sum]).T"
   ]
  },
  {
   "cell_type": "code",
   "execution_count": null,
   "id": "4b89b4b8-9d10-4bab-9b0c-52ac7fb3b1d9",
   "metadata": {
    "tags": []
   },
   "outputs": [],
   "source": [
    "plt.plot(np.sort(g0_sum))\n",
    "plt.plot(np.sort(freq0_a+freq0_b+freq0_c))"
   ]
  },
  {
   "cell_type": "code",
   "execution_count": null,
   "id": "88db1395-687c-4807-9e7a-82806b317f3b",
   "metadata": {
    "tags": []
   },
   "outputs": [],
   "source": [
    "np.sum(freq0_a+freq0_b+freq0_c < 0.5), np.sum(freq0_a+freq0_b+freq0_c == 0)"
   ]
  },
  {
   "cell_type": "code",
   "execution_count": null,
   "id": "ac5fc589-108d-47c4-a953-b4f76220b2ae",
   "metadata": {
    "tags": []
   },
   "outputs": [],
   "source": [
    "np.sum(freq0_a+freq0_b+freq0_c > 0.5), np.sum(freq0_a+freq0_b+freq0_c >1-1e-1)"
   ]
  },
  {
   "cell_type": "markdown",
   "id": "d76a93a6-ebd9-4c2c-bb46-b483fbe4ccf6",
   "metadata": {},
   "source": [
    "# ABC scores - expression level distributions"
   ]
  },
  {
   "cell_type": "code",
   "execution_count": null,
   "id": "eebca6a7-2ae5-4d3c-b155-64a33546a46c",
   "metadata": {},
   "outputs": [],
   "source": [
    "fig, axs = plt.subplots(1,4, figsize=(4*4,4), sharex=False, sharey=True)\n",
    "for ax, genegroup, title in zip(axs, \n",
    "                                [agenes, bgenes, cgenes, iegs], \n",
    "                                ['A genes', 'B genes', 'C genes', 'IEGs'],\n",
    "                               ):\n",
    "    for i, sample in enumerate(names):\n",
    "        scores_ = adata[adata.obs['sample']==sample][:,genegroup].layers['ljnorm'].mean(axis=1)\n",
    "        if 'NR' in sample:\n",
    "            color = 'C1'\n",
    "        elif 'DR' in sample:\n",
    "            color = 'black'\n",
    "\n",
    "        sns.ecdfplot(scores_, ax=ax, color=color)#, complementary=True) # , linewidth=2)\n",
    "        \n",
    "        # _x = np.percentile(scores_, 50)\n",
    "        # _y = 0.5\n",
    "        # ax.text(_x, _y, i, fontsize=10, color='red')\n",
    "    ax.set_ylabel('Cumulative proportion\\nof cells')\n",
    "    ax.set_xlabel('Mean log norm expr.')\n",
    "    ax.set_title(title)\n",
    "    sns.despine(ax=ax)\n",
    "    ax.grid(False)\n",
    "    \n",
    "\n",
    "fig.tight_layout()\n",
    "plt.show()"
   ]
  },
  {
   "cell_type": "code",
   "execution_count": null,
   "id": "23b23f98-5564-4334-926e-6259e40d5690",
   "metadata": {},
   "outputs": [],
   "source": [
    "adatas = [\n",
    "    adata,\n",
    "]\n",
    "conditions = ['combined', 'NR', 'DR']\n",
    "\n",
    "fig, axs = plt.subplots(1,2,figsize=(3*5,1*2), sharex=True, sharey=True)\n",
    "for i, (ax, adatasub, condition) in enumerate(zip(axs, adatas, conditions)):\n",
    "    condition = conditions[i]\n",
    "    x = xsign*adatasub.obsm['pcs_typegenes'][:,xi]\n",
    "    y = ysign*adatasub.obsm['pcs_typegenes'][:,yi]\n",
    "    \n",
    "    freq_a = adatasub.obsm['size_freq_abc'][:,0]\n",
    "    freq_b = adatasub.obsm['size_freq_abc'][:,1]\n",
    "    freq_c = adatasub.obsm['size_freq_abc'][:,2]\n",
    "    \n",
    "    # visualize ABC scores using additive blending\n",
    "    additive = (cmap_a(freq_a)+cmap_b(freq_b)+cmap_c(freq_c))[:,:3]\n",
    "    p = ax.scatter(x, y, c=additive, s=5, edgecolor='none') \n",
    "        \n",
    "    # Show ticks but no grid\n",
    "    ax.set_aspect('equal')\n",
    "    ax.axis('on')\n",
    "    ax.grid(False)  # Turn off grid lines\n",
    "    sns.despine(ax=ax)\n",
    "    ax.tick_params(axis='both', which='both', bottom=True, left=True)\n",
    "    ax.set_title(condition)\n",
    "\n",
    "    # add the triangle\n",
    "    add_triangle(XC, ax, vertices=True, edgecolors='k', linewidths=1, marker='o')\n",
    "    # break\n",
    "# plt.show()"
   ]
  },
  {
   "cell_type": "markdown",
   "id": "e20b34a7-4bed-4f6e-a25a-f5cbf625b722",
   "metadata": {},
   "source": [
    "# score based (ABC) soft-assignment"
   ]
  },
  {
   "cell_type": "code",
   "execution_count": null,
   "id": "44ebfb65-f6e6-4e31-8ed4-3e3633d0af05",
   "metadata": {
    "tags": []
   },
   "outputs": [],
   "source": [
    "from scipy import stats\n",
    "from statsmodels.stats.multitest import multipletests"
   ]
  },
  {
   "cell_type": "code",
   "execution_count": null,
   "id": "fdf3459a-3520-4b63-8e70-a68af952484e",
   "metadata": {
    "tags": []
   },
   "outputs": [],
   "source": [
    "def p_mark(p):\n",
    "    \"\"\"\n",
    "    \"\"\"\n",
    "    \n",
    "    if p > 0.05:\n",
    "        mark = 'ns'\n",
    "    elif p < 0.05 and p > 0.001:\n",
    "        mark = '*'\n",
    "    elif p < 0.001:\n",
    "        mark = '***'\n",
    "        \n",
    "    return mark"
   ]
  },
  {
   "cell_type": "code",
   "execution_count": null,
   "id": "ffaf93ca-ab96-4cf4-b9cb-8a76b7a81060",
   "metadata": {
    "tags": []
   },
   "outputs": [],
   "source": [
    "res = []\n",
    "for sample in names:\n",
    "    if 'NR' in sample:\n",
    "        cond = 'NR'\n",
    "    elif 'DR' in sample:\n",
    "        cond = 'DR'\n",
    "        \n",
    "    adatasub = adata[adata.obs['sample']==sample]\n",
    "    freq_a = adatasub.obsm['size_freq_abc'][:,0]\n",
    "    freq_b = adatasub.obsm['size_freq_abc'][:,1]\n",
    "    freq_c = adatasub.obsm['size_freq_abc'][:,2]\n",
    "    \n",
    "    n = len(adatasub)\n",
    "    cond_na = (freq_a+freq_b+freq_c)==0\n",
    "    tn = np.sum(cond_na)\n",
    "    \n",
    "    rank = np.argsort(np.vstack([freq_a,freq_b,freq_c]).T[~cond_na], axis=1)[:,-1]\n",
    "    ta = np.sum(rank==0)\n",
    "    tb = np.sum(rank==1)\n",
    "    tc = np.sum(rank==2)\n",
    "    \n",
    "    assert np.abs(n-(ta+tb+tc)-tn) < 1\n",
    "    res.append([sample, cond, ta/n*100, tb/n*100, tc/n*100, tn/n*100])\n",
    "    \n",
    "res = pd.DataFrame(res, columns=['sample', 'cond', 'A', 'B', 'C', 'N']).set_index('sample')\n",
    "res"
   ]
  },
  {
   "cell_type": "code",
   "execution_count": null,
   "id": "e6fc5d53-8f80-4973-85a7-3afea38ddfcd",
   "metadata": {
    "tags": []
   },
   "outputs": [],
   "source": [
    "fig, axs = plt.subplots(1, 4, figsize=(2*4,4))\n",
    "unq_lbls = ['A', 'B', 'C', 'N']\n",
    "unq_colors = ['C0', 'C1', 'C2', 'gray']\n",
    "\n",
    "allps = []\n",
    "for ax, col, color in zip(axs, unq_lbls, unq_colors):\n",
    "    sns.barplot(data=res, x='cond', y=col, ax=ax, color=color, capsize=0.3, errwidth=1)\n",
    "    sns.swarmplot(data=res, x='cond', y=col, color='k', ax=ax, )\n",
    "    ax.set_title(f'type {col}', y=1.1)\n",
    "    sns.despine(ax=ax)\n",
    "    ax.grid(False)\n",
    "    ax.set_ylabel('')\n",
    "    \n",
    "    a = res[res['cond']=='NR'][col]\n",
    "    # s, p = stats.mannwhitneyu(a, b)\n",
    "    \n",
    "    allps.append(p)\n",
    "    \n",
    "# rej, allqs, _, _ = multipletests(allps, method='fdr_bh')\n",
    "# for ax, col, color, q in zip(axs, unq_lbls, unq_colors, allqs):\n",
    "#     mark = p_mark(q)\n",
    "#     # statistical annotation\n",
    "#     x1, x2 = 0, 1   \n",
    "#     y, h = res[col].max() + 2, 2\n",
    "#     ax.plot([x1, x1, x2, x2], [y, y+h, y+h, y], lw=1.5, c='k')\n",
    "#     ax.text((x1+x2)*.5, y+h, mark, ha='center', va='bottom', color='k')\n",
    "    \n",
    "axs[0].set_ylabel('L2/3 cells (%)')\n",
    "fig.tight_layout()\n",
    "plt.show()"
   ]
  },
  {
   "cell_type": "code",
   "execution_count": null,
   "id": "3e5219bb-edc1-433b-a0d2-7158251c1c8d",
   "metadata": {},
   "outputs": [],
   "source": [
    "x =  adata.obs['width_show2']\n",
    "y =  adata.obs['depth_show2']\n",
    "\n",
    "freq_a = adata.obsm['size_freq_abc'][:,0]\n",
    "freq_b = adata.obsm['size_freq_abc'][:,1]\n",
    "freq_c = adata.obsm['size_freq_abc'][:,2]\n",
    "\n",
    "# visualize ABC scores using additive blending\n",
    "additive = (cmap_a(freq_a)+cmap_b(freq_b)+cmap_c(freq_c))[:,:3]\n",
    "\n",
    "fig, ax = plt.subplots(1,1,figsize=(1*25,1))\n",
    "for lbl, coord in width_cum.items():\n",
    "    ax.text(coord, 0, lbl, fontsize=12)\n",
    "    \n",
    "sorting = np.argsort(np.max(additive, axis=1))# [::-1]\n",
    "p = ax.scatter(x[sorting], y[sorting], c=additive[sorting], s=5, edgecolor='none') \n",
    "\n",
    "ax.set_aspect('equal')\n",
    "ax.axis('off')\n",
    "\n",
    "plt.show()"
   ]
  },
  {
   "cell_type": "code",
   "execution_count": null,
   "id": "fc48a4ef-790b-4152-8a98-ac0ad403175a",
   "metadata": {},
   "outputs": [],
   "source": []
  },
  {
   "cell_type": "code",
   "execution_count": null,
   "id": "ee10ccef-de92-4258-bae0-dcb7afa9d149",
   "metadata": {},
   "outputs": [],
   "source": []
  },
  {
   "cell_type": "code",
   "execution_count": null,
   "id": "df055ba7-013b-4ad4-ae59-724253ce2198",
   "metadata": {},
   "outputs": [],
   "source": []
  },
  {
   "cell_type": "markdown",
   "id": "c56b872a-861a-48ea-af06-c616587dab69",
   "metadata": {},
   "source": [
    "# label-transfer-based (PC1/PC2) hard-assignment "
   ]
  },
  {
   "cell_type": "code",
   "execution_count": null,
   "id": "44cabba1-a9cb-497f-84ad-083ee1a0a7c3",
   "metadata": {
    "tags": []
   },
   "outputs": [],
   "source": [
    "num_types = adata_merge[adata_merge.obs['modality']=='merfish'].obs.groupby(['sample', 'gated_pred_type']).size().unstack().reindex(names)\n",
    "frq_types = num_types.divide(num_types.sum(axis=1), axis=0)*100\n",
    "frq_types['cond'] = np.where(frq_types.index.str.contains('DR'), 'DR', 'NR')\n",
    "frq_types\n"
   ]
  },
  {
   "cell_type": "code",
   "execution_count": null,
   "id": "8e2857af-d3ba-4578-a678-c1324fac1fe0",
   "metadata": {},
   "outputs": [],
   "source": [
    "frq_types.plot.bar(stacked=True)"
   ]
  },
  {
   "cell_type": "code",
   "execution_count": null,
   "id": "55ee3802-0eb8-4a28-bfee-8acd25621cbe",
   "metadata": {
    "tags": []
   },
   "outputs": [],
   "source": [
    "res = frq_types"
   ]
  },
  {
   "cell_type": "code",
   "execution_count": null,
   "id": "5722d653-d1ac-4b6a-99c1-353aa6a21bfa",
   "metadata": {
    "tags": []
   },
   "outputs": [],
   "source": [
    "fig, axs = plt.subplots(1, 3, figsize=(2*3,4))\n",
    "unq_lbls, unq_colors = ['L2/3_A', 'L2/3_B', 'L2/3_C', ], ['C0', 'C1', 'C2', ]\n",
    "allps = []\n",
    "for ax, col, color in zip(axs, unq_lbls, unq_colors):\n",
    "    sns.barplot(data=res, x='cond', y=col, ax=ax, color=color, capsize=0.3, errwidth=1)\n",
    "    sns.swarmplot(data=res, x='cond', y=col, color='k', ax=ax, )\n",
    "    ax.set_title(f'type {col}', y=1.1)\n",
    "    sns.despine(ax=ax)\n",
    "    ax.grid(False)\n",
    "    ax.set_ylabel('')\n",
    "    \n",
    "    a = res[res['cond']=='NR'][col] # /100\n",
    "    # b = res[res['cond']=='DR'][col] # /100\n",
    "    \n",
    "    # t, p = stats.ttest_ind(a, b)\n",
    "    # s, p = stats.mannwhitneyu(a, b)\n",
    "    allps.append(p)\n",
    "    \n",
    "# rej, allqs, _, _ = multipletests(allps, method='fdr_bh')\n",
    "\n",
    "# for ax, col, color, q in zip(axs, unq_lbls, unq_colors, allqs):\n",
    "#     mark = p_mark(q)\n",
    "#     # statistical annotation\n",
    "#     x1, x2 = 0, 1   \n",
    "#     y, h = res[col].max() + 2, 2\n",
    "#     ax.plot([x1, x1, x2, x2], [y, y+h, y+h, y], lw=1.5, c='k')\n",
    "#     ax.text((x1+x2)*.5, y+h, mark, ha='center', va='bottom', color='k')\n",
    "    \n",
    "    \n",
    "axs[0].set_ylabel('L2/3 cells (%)')\n",
    "fig.tight_layout()\n",
    "plt.show()"
   ]
  },
  {
   "cell_type": "code",
   "execution_count": null,
   "id": "6e3c5ea1-135d-40d5-a1df-3a126dccd5d5",
   "metadata": {},
   "outputs": [],
   "source": [
    "df_plot = adata_merge[adata_merge.obs['modality']=='merfish'].obs.sample(frac=1, replace=False)\n",
    "x =  df_plot['width_show2']\n",
    "y =  df_plot['depth_show2']\n",
    "c =  df_plot['gated_pred_type']\n",
    "\n",
    "\n",
    "fig, ax = plt.subplots(1,1,figsize=(1*25,1))\n",
    "for lbl, coord in width_cum.items():\n",
    "    ax.text(coord, 0, lbl, fontsize=12)\n",
    "    \n",
    "p = ax.scatter(x, y, c=[clsts_palette2[_c] for _c in c], s=5, edgecolor='none') # , alpha=g_size[sorting])\n",
    "# cond = np.max(additive, axis=1) > 1e-5\n",
    "# p = ax.scatter(x[cond], y[cond], c=normed[cond], s=1, edgecolor='none')\n",
    "ax.set_aspect('equal')\n",
    "ax.axis('off')\n",
    "\n",
    "plt.show()"
   ]
  },
  {
   "cell_type": "code",
   "execution_count": null,
   "id": "76e9b1ae-b992-4329-bb2d-c0b7fba80a84",
   "metadata": {},
   "outputs": [],
   "source": []
  },
  {
   "cell_type": "code",
   "execution_count": null,
   "id": "358f552a-b1bb-4ae7-a5be-d41772e534e6",
   "metadata": {},
   "outputs": [],
   "source": []
  },
  {
   "cell_type": "markdown",
   "id": "c40d6d32-eb9d-4239-ae81-7d0bc4ea514b",
   "metadata": {},
   "source": [
    "# visualize FISH"
   ]
  },
  {
   "cell_type": "code",
   "execution_count": null,
   "id": "680d3eba-a857-4612-bf20-4bffd5ec6bbe",
   "metadata": {
    "tags": []
   },
   "outputs": [],
   "source": [
    "gns = ['Cdh13', 'Sorcs3', 'Chrm2', 'Fos'] \n",
    "x =  adata.obs['width_show2']\n",
    "y =  adata.obs['depth_show2']\n",
    "n = len(gns)\n",
    "\n",
    "fig, axs = plt.subplots(n,1,figsize=(1*25,n*1))\n",
    "for i, (ax, gn) in enumerate(zip(axs, gns)):\n",
    "    if i == 0:\n",
    "        for lbl, coord in width_cum.items():\n",
    "            ax.text(coord, 0, lbl, fontsize=12)\n",
    "    \n",
    "    g = np.log2(1+adata[:,gn].layers['jnorm'].reshape(-1,))\n",
    "    vmax = np.percentile(g, 99)\n",
    "    vmin = np.percentile(g,  5)\n",
    "    sorting = np.argsort(g)\n",
    "    \n",
    "    p = utils_merfish.st_scatter_ax(fig, ax,  x[sorting],  y[sorting],  gexp=g[sorting], s=5, title='', vmin=vmin, vmax=vmax, cmap='rocket_r')\n",
    "    ax.set_title(gn, loc='left', va='center', ha='right', y=0.5, pad=None)\n",
    "    fig.colorbar(p, pad=0, shrink=0.5, aspect=5, ticks=[np.round(vmin, decimals=1), np.round(vmax-0.1, decimals=1)])\n",
    "    \n",
    "plt.show()\n",
    "    "
   ]
  },
  {
   "cell_type": "code",
   "execution_count": null,
   "id": "5d148235-c925-4fc3-a89c-0e42af850fd9",
   "metadata": {
    "tags": []
   },
   "outputs": [],
   "source": [
    "agenes"
   ]
  },
  {
   "cell_type": "code",
   "execution_count": null,
   "id": "f91b40f4-e6ea-44cc-bc97-9e2d5d534fb1",
   "metadata": {
    "tags": []
   },
   "outputs": [],
   "source": [
    "# gns = ['Meis2', 'Cdh12', 'Cdh4', ]#, 'Nr4a2', 'Per1', 'Egr1', 'Arc'] \n",
    "gns = ['Cdh13', 'Cdh12', 'Pcdh19', 'Astn2', 'Meis2', 'Foxp1']\n",
    "x =  adata.obs['width_show2']\n",
    "y =  adata.obs['depth_show2']\n",
    "n = len(gns)\n",
    "\n",
    "fig, axs = plt.subplots(n,1,figsize=(1*25,n*1))\n",
    "for i, (ax, gn) in enumerate(zip(axs, gns)):\n",
    "    if i == 0:\n",
    "        for lbl, coord in width_cum.items():\n",
    "            ax.text(coord, 0, lbl, fontsize=12)\n",
    "    \n",
    "    g = np.log2(1+adata[:,gn].layers['jnorm'].reshape(-1,))\n",
    "    vmax = np.percentile(g, 95)\n",
    "    vmin = np.percentile(g,  5)\n",
    "    sorting = np.argsort(g)\n",
    "    \n",
    "    # p = utils_merfish.st_scatter_ax(fig, ax,  x[sorting],  y[sorting],  gexp=g[sorting], s=5, title='', vmin=vmin, vmax=vmax, cmap='rocket_r')\n",
    "    p = utils_merfish.st_scatter_ax(fig, ax,  x,  y,  gexp=g, s=5, title='', vmin=vmin, vmax=vmax, cmap='rocket_r')\n",
    "    ax.set_title(gn, loc='left', va='center', ha='right', y=0.5, pad=None)\n",
    "    fig.colorbar(p, pad=0, shrink=0.5, aspect=5, ticks=[np.round(vmin, decimals=1), np.round(vmax-0.1, decimals=1)])\n",
    "    \n",
    "plt.show()\n",
    "    "
   ]
  },
  {
   "cell_type": "code",
   "execution_count": null,
   "id": "cddb5cf2-9aa9-4dde-9191-07970f30c893",
   "metadata": {
    "tags": []
   },
   "outputs": [],
   "source": [
    "gns = [\n",
    "    'Cdh13', 'Trpc6', 'Chrm2',\n",
    "] \n",
    "x =  adata.obs['width_show2']\n",
    "y =  adata.obs['depth_show2']\n",
    "n = len(gns)\n",
    "\n",
    "fig, axs = plt.subplots(n,1,figsize=(1*25,n*1))\n",
    "for i, (ax, gn) in enumerate(zip(axs, gns)):\n",
    "    if i == 0:\n",
    "        for lbl, coord in width_cum.items():\n",
    "            ax.text(coord, 0, lbl, fontsize=12)\n",
    "    \n",
    "    g = np.log2(1+adata[:,gn].layers['jnorm'].reshape(-1,))\n",
    "    vmax = np.percentile(g, 95)\n",
    "    vmin = np.percentile(g,  5)\n",
    "    sorting = np.argsort(g)\n",
    "    \n",
    "    p = utils_merfish.st_scatter_ax(fig, ax,  x[sorting],  y[sorting],  gexp=g[sorting], s=5, title='', vmin=vmin, vmax=vmax, cmap='rocket_r')\n",
    "    # p = utils_merfish.st_scatter_ax(fig, ax,  x,  y,  gexp=g, s=5, title='', vmin=vmin, vmax=vmax, cmap='rocket_r')\n",
    "    ax.set_title(gn, loc='left', va='center', ha='right', y=0.5, pad=None)\n",
    "    fig.colorbar(p, pad=0, shrink=0.5, aspect=5, ticks=[np.round(vmin, decimals=1), np.round(vmax-0.1, decimals=1)])\n",
    "    \n",
    "plt.show()\n",
    "    "
   ]
  },
  {
   "cell_type": "code",
   "execution_count": null,
   "id": "c472f63a-1d6c-4c75-8d87-1806daa093ad",
   "metadata": {
    "tags": []
   },
   "outputs": [],
   "source": [
    "x =  adata.obs['width_show2']\n",
    "y =  adata.obs['depth_show2']\n",
    "gns = [agenes, bgenes, cgenes] \n",
    "titles = ['A genes', 'B genes', 'C genes',]\n",
    "n = len(gns)\n",
    "\n",
    "fig, axs = plt.subplots(n,1,figsize=(1*25,n*1))\n",
    "for i, (ax, gn, title) in enumerate(zip(axs, gns, titles)):\n",
    "    if i == 0:\n",
    "        for lbl, coord in width_cum.items():\n",
    "            ax.text(coord, 0, lbl, fontsize=12)\n",
    "    \n",
    "    g = adata[:,gn].layers['ljnorm'].mean(axis=1)\n",
    "    sorting = np.argsort(g)\n",
    "    \n",
    "    vmin = np.percentile(g,  5)\n",
    "    vmax = np.percentile(g, 95)\n",
    "    p = utils_merfish.st_scatter_ax(fig, ax, x[sorting], y[sorting], gexp=g[sorting], \n",
    "                                    s=5, title='', vmin=vmin, vmax=vmax, cmap='coolwarm') #, axis_off=False)\n",
    "    ax.set_title(title, loc='left', va='center', ha='right', y=0.5, pad=None)\n",
    "    fig.colorbar(p, pad=0, shrink=0.5, aspect=5, ticks=[np.round(vmin, decimals=1), np.round(vmax-0.1, decimals=1)])\n",
    "    \n",
    "plt.show()\n",
    "    "
   ]
  },
  {
   "cell_type": "code",
   "execution_count": null,
   "id": "fa83a3cc-44d6-4ba4-81cc-578283698e06",
   "metadata": {},
   "outputs": [],
   "source": [
    "x =  adata.obs['width_show2']\n",
    "y =  adata.obs['depth_show2']\n",
    "gns = [agenes, bgenes, cgenes] \n",
    "titles = ['A genes', 'B genes', 'C genes',]\n",
    "n = len(gns)\n",
    "\n",
    "fig, axs = plt.subplots(n,1,figsize=(1*10,n*1))\n",
    "for i, (ax, gn, title) in enumerate(zip(axs, gns, titles)):\n",
    "    if i == 0:\n",
    "        for lbl, coord in width_cum.items():\n",
    "            ax.text(coord, 0, lbl, fontsize=12)\n",
    "    \n",
    "    g = adata[:,gn].layers['ljnorm'].mean(axis=1)\n",
    "    sorting = np.argsort(g)\n",
    "    \n",
    "    vmin = np.percentile(g,  5)\n",
    "    vmax = np.percentile(g, 95)\n",
    "    p = utils_merfish.st_scatter_ax(fig, ax, x[sorting], y[sorting], gexp=g[sorting], \n",
    "                                    s=5, title='', vmin=vmin, vmax=vmax, cmap='coolwarm') #, axis_off=False)\n",
    "    ax.set_aspect('auto')\n",
    "    ax.set_title(title, loc='left', va='center', ha='right', y=0.5, pad=None)\n",
    "    fig.colorbar(p, pad=0, shrink=0.5, aspect=5, ticks=[np.round(vmin, decimals=1), np.round(vmax-0.1, decimals=1)])\n",
    "    \n",
    "plt.show()\n",
    "    "
   ]
  },
  {
   "cell_type": "code",
   "execution_count": null,
   "id": "0239f8de-858a-4c85-865a-362908f1b128",
   "metadata": {},
   "outputs": [],
   "source": [
    "x =  adata.obs['width_show2']\n",
    "y =  adata.obs['depth_show2']\n",
    "gns = [agenes, bgenes, cgenes] \n",
    "titles = ['A genes', 'B genes', 'C genes',]\n",
    "n = len(gns)\n",
    "\n",
    "fig, axs = plt.subplots(n,1,figsize=(1*10,n*1))\n",
    "for i, (ax, gn, title) in enumerate(zip(axs, gns, titles)):\n",
    "    if i == 0:\n",
    "        for lbl, coord in width_cum.items():\n",
    "            ax.text(coord, 0, lbl, fontsize=12)\n",
    "    \n",
    "    g = adata[:,gn].layers['ljnorm'].mean(axis=1)\n",
    "    sorting = np.argsort(g)\n",
    "    \n",
    "    vmin = 0.3 # np.percentile(g,  5)\n",
    "    vmax = 0.6 # np.percentile(g, 95)\n",
    "    p = utils_merfish.st_scatter_ax(fig, ax, x[sorting], y[sorting], gexp=g[sorting], \n",
    "                                    s=5, title='', vmin=vmin, vmax=vmax, cmap='coolwarm') #, axis_off=False)\n",
    "    ax.set_aspect('auto')\n",
    "    ax.set_title(title, loc='left', va='center', ha='right', y=0.5, pad=None)\n",
    "    fig.colorbar(p, pad=0, shrink=0.5, aspect=5, ticks=[np.round(vmin, decimals=1), np.round(vmax-0.1, decimals=1)])\n",
    "    \n",
    "plt.show()\n",
    "    "
   ]
  },
  {
   "cell_type": "code",
   "execution_count": null,
   "id": "0a386e34-7e64-45fb-b99c-df1e7bf04c72",
   "metadata": {},
   "outputs": [],
   "source": []
  },
  {
   "cell_type": "markdown",
   "id": "7350b615-7ff5-4578-83d4-1287d3a76c53",
   "metadata": {
    "tags": []
   },
   "source": [
    "# stats"
   ]
  },
  {
   "cell_type": "code",
   "execution_count": null,
   "id": "909e5119-d4ac-4bd6-8087-3060a98fdbc4",
   "metadata": {
    "tags": []
   },
   "outputs": [],
   "source": [
    "stats = {}\n",
    "bins = np.linspace(0, 400, 4*2+1)\n",
    "\n",
    "for name in names:\n",
    "    adatasub = adata[adata.obs['sample']==name]# v1l23_data[name]\n",
    "    lnorm_mean, lnorm_sem, lnorm_std, n, d, db = binning_pipe2(adatasub, 'depth', 'ljnorm', bins=bins)\n",
    "    stats[name] = (lnorm_mean, lnorm_sem, lnorm_std, n, d, db)\n",
    "d.value_counts()"
   ]
  },
  {
   "cell_type": "code",
   "execution_count": null,
   "id": "592d3a8c-f612-4909-a89f-dac05bb6e7ca",
   "metadata": {
    "tags": []
   },
   "outputs": [],
   "source": [
    "# mean expression level across V1 L2/3 in NR\n",
    "base_a0 = []\n",
    "base_b0 = []\n",
    "base_c0 = []\n",
    "base_i0 = []\n",
    "for name in [\n",
    "    'P8NRa_ant2', 'P8NRb_ant2', 'P8NRc_ant2', 'P8NRd_ant2',\n",
    "    'P8NRa_pos2', 'P8NRb_pos2', 'P8NRc_pos2', 'P8NRd_pos2',\n",
    "    ]:\n",
    "    (lnorm_mean, lnorm_sem, lnorm_std, n, d, db) = stats[name]\n",
    "    base_a = np.mean(lnorm_mean.iloc[:,agenes_idx], axis=0) # across depth bins for each gene\n",
    "    base_b = np.mean(lnorm_mean.iloc[:,bgenes_idx], axis=0) # across depth bins for each gene\n",
    "    base_c = np.mean(lnorm_mean.iloc[:,cgenes_idx], axis=0) # across depth bins for each gene\n",
    "    base_i = np.mean(lnorm_mean.iloc[:,igenes_idx], axis=0) # across depth bins for each gene\n",
    "    \n",
    "    base_a0.append(base_a)\n",
    "    base_b0.append(base_b)\n",
    "    base_c0.append(base_c)\n",
    "    base_i0.append(base_i)\n",
    "    \n",
    "base_a0 = np.mean(base_a0, axis=0)\n",
    "base_b0 = np.mean(base_b0, axis=0)\n",
    "base_c0 = np.mean(base_c0, axis=0)\n",
    "base_i0 = np.mean(base_i0, axis=0)\n",
    "\n",
    "base_a0.shape, base_b0.shape, base_c0.shape, base_i0.shape"
   ]
  },
  {
   "cell_type": "code",
   "execution_count": null,
   "id": "662d057b-3ae0-46ff-ade3-1745770e2a28",
   "metadata": {
    "tags": []
   },
   "outputs": [],
   "source": [
    "means = {}\n",
    "sems = {}\n",
    "for name in names:\n",
    "    (lnorm_mean, lnorm_sem, lnorm_std, n, d, db) = stats[name]\n",
    "    \n",
    "    amean = np.mean(lnorm_mean.iloc[:,agenes_idx]-base_a0, axis=1) # a bin vector\n",
    "    bmean = np.mean(lnorm_mean.iloc[:,bgenes_idx]-base_b0, axis=1) # a bin vector\n",
    "    cmean = np.mean(lnorm_mean.iloc[:,cgenes_idx]-base_c0, axis=1) # a bin vector\n",
    "    imean = np.mean(lnorm_mean.iloc[:,igenes_idx]-base_i0, axis=1) # a bin vector\n",
    "    \n",
    "    asem = np.mean(lnorm_sem.iloc[:,agenes_idx], axis=1)\n",
    "    bsem = np.mean(lnorm_sem.iloc[:,bgenes_idx], axis=1)\n",
    "    csem = np.mean(lnorm_sem.iloc[:,cgenes_idx], axis=1)\n",
    "    isem = np.mean(lnorm_sem.iloc[:,igenes_idx], axis=1)\n",
    "    \n",
    "    means[name] = [amean, bmean, cmean, imean]\n",
    "    sems[name] = [asem, bsem, csem, isem]\n",
    "    "
   ]
  },
  {
   "cell_type": "code",
   "execution_count": null,
   "id": "9a1889e2-cb55-42b5-9167-334afac16b9a",
   "metadata": {
    "tags": []
   },
   "outputs": [],
   "source": [
    "midpoints = np.mean(np.vstack([bins[:-1], bins[1:]]), axis=0)\n",
    "midpoints"
   ]
  },
  {
   "cell_type": "code",
   "execution_count": null,
   "id": "60d9f381-7703-4d96-a122-76ce38f44542",
   "metadata": {
    "tags": []
   },
   "outputs": [],
   "source": [
    "names"
   ]
  },
  {
   "cell_type": "code",
   "execution_count": null,
   "id": "6be436ca-3b28-4b68-9cd3-cf4508ff24b7",
   "metadata": {},
   "outputs": [],
   "source": [
    "gnames = ['A genes (n=64)', 'B genes (n=35)', 'C genes (n=71)']\n",
    "\n",
    "fig, axs = plt.subplots(2, 4, figsize=(5*4,4*2), sharex=True, sharey=True)\n",
    "\n",
    "# ax.set_title('P28NR')\n",
    "linestyle = '-'\n",
    "for ax, name in zip(axs.flat, names):\n",
    "    # (lnorm_mean, lnorm_sem, lnorm_std, n, d, db) = stats[name]\n",
    "    amean, bmean, cmean, imean = means[name]\n",
    "    asem, bsem, csem, isem = sems[name]\n",
    "    \n",
    "    x = midpoints\n",
    "    ax.plot(x, amean, label='A genes', color='C0', linestyle=linestyle)\n",
    "    ax.fill_between(x, amean-asem, amean+asem, color='C0', alpha=0.1, edgecolor='none')\n",
    "    ax.plot(x, bmean, label='B genes', color='C1', linestyle=linestyle)\n",
    "    ax.fill_between(x, bmean-bsem, bmean+bsem, color='C1', alpha=0.1, edgecolor='none')\n",
    "    ax.plot(x, cmean, label='C genes', color='C2', linestyle=linestyle)\n",
    "    ax.fill_between(x, cmean-csem, cmean+csem, color='C2', alpha=0.1, edgecolor='none')\n",
    "    ax.axhline(color='lightgray', linestyle='dotted', zorder=1)\n",
    "\n",
    "    sns.despine(ax=ax)\n",
    "    ax.set_xticks([0, 100, 200, 300])\n",
    "    # ax.set_xlim(left=100, right=350)\n",
    "    ax.set_xlim(left=0, right=400)\n",
    "    # ax.set_ylim([-0.4, 0.4])\n",
    "    ax.grid(False)\n",
    "    ax.set_title(name)\n",
    "axs.flat[0].set_ylabel('mean (expr. +/- sem)')\n",
    "\n",
    "    \n",
    "fig.subplots_adjust(wspace=0.1)\n",
    "# powerplots.savefig_autodate(fig, outdatadir+'/grant_saumya_lineq_abc_v3.pdf')"
   ]
  },
  {
   "cell_type": "code",
   "execution_count": null,
   "id": "3d011e00-0ad8-4dbe-bc70-8078b28e76a6",
   "metadata": {
    "tags": []
   },
   "outputs": [],
   "source": [
    "samp_gene_dpth_mat = np.array([np.array(means[name]) for name in names]) \n",
    "print(samp_gene_dpth_mat.shape) # sample, gene group, depth\n",
    "\n",
    "nr_mat = samp_gene_dpth_mat[:4]\n",
    "nr_mean = np.mean(nr_mat, axis=0) # gene group, depth\n",
    "nr_sem  = np.std(nr_mat, axis=0)/np.sqrt(4) # gene group, depth\n",
    "\n",
    "dr_mat = samp_gene_dpth_mat[4:]\n",
    "dr_mean = np.mean(dr_mat, axis=0) # gene group, depth\n",
    "dr_sem  = np.std(dr_mat, axis=0)/np.sqrt(4) # gene group, depth\n",
    "nr_mean.shape, dr_mean.shape"
   ]
  },
  {
   "cell_type": "code",
   "execution_count": null,
   "id": "38b7c41e-95fb-4233-b3f8-2ce5f8e0abda",
   "metadata": {
    "tags": []
   },
   "outputs": [],
   "source": [
    "# t-test between NR and DR for each gene group and each location\n",
    "from scipy import stats\n",
    "from statsmodels.stats.multitest import multipletests\n",
    "\n",
    "ts, ps = stats.ttest_ind(nr_mat, dr_mat)\n",
    "rejs, qs, _, _ = multipletests(np.nan_to_num(ps, nan=1).reshape(-1,), alpha=0.05, method='fdr_bh')\n",
    "qs = qs.reshape(ps.shape)\n",
    "nrdr_mean = np.stack([nr_mean, dr_mean], axis=2).mean(axis=2)"
   ]
  },
  {
   "cell_type": "code",
   "execution_count": null,
   "id": "aad928e7-01ae-448c-82b5-7456639d9110",
   "metadata": {
    "tags": []
   },
   "outputs": [],
   "source": [
    "linestyles = ['-', '--']\n",
    "data_mean = [nr_mean, dr_mean]\n",
    "data_sem = [nr_sem, dr_sem]\n",
    "gnames = ['A genes', 'B genes', 'C genes']\n",
    "titles = gnames\n",
    "colors = ['C0', 'C1', 'C2']\n",
    "labels = ['NR', 'DR']\n",
    "sigs = qs\n",
    "allmeans = nrdr_mean\n",
    "\n",
    "fig, axs = plt.subplots(1, 3, figsize=(5*3,4), sharex=True, sharey=True)\n",
    "for i, (ax, gname, color) in enumerate(zip(axs, gnames, colors)):\n",
    "    ax.axhline(color='lightgray', linestyle='dotted', zorder=1)\n",
    "    for cond_mean, cond_sem, title, linestyle in zip(data_mean, data_sem, titles, linestyles):\n",
    "        ax.plot(midpoints, cond_mean[i], label=gname, color=color, linestyle=linestyle, marker='o', markersize=5)\n",
    "        ax.fill_between(midpoints, cond_mean[i]-cond_sem[i], cond_mean[i]+cond_sem[i], color=color, alpha=0.1, edgecolor='none')\n",
    "        \n",
    "    for _x, _y, _sig in zip(midpoints, allmeans[i], sigs[i]):\n",
    "        if _sig < 1e-3:\n",
    "            ax.text(_x, _y, \"***\", ha='left', va='center', fontsize=12, rotation=90)\n",
    "            ax.vlines(_x, _y-0.02, _y+0.02, color='k', linewidth=0.5)\n",
    "        elif _sig < 5e-2:\n",
    "            ax.text(_x, _y, \"*\", ha='left', va='center', fontsize=12, rotation=90)\n",
    "            ax.vlines(_x, _y-0.02, _y+0.02, color='k', linewidth=0.5)\n",
    "\n",
    "    sns.despine(ax=ax)\n",
    "    ax.set_xticks([0, 100, 200, 300, 400])\n",
    "    ax.set_xlim(left=50, right=400)\n",
    "    # ax.set_ylim([-0.2, 0.3])\n",
    "    ax.grid(False)\n",
    "    ax.set_title(gname)\n",
    "    ax.set_xlabel('upper->lower cortical depth')\n",
    "    \n",
    "axs[0].set_ylabel('mean (expr. +/- sem)')\n",
    "fig.subplots_adjust(wspace=0.1)\n",
    "# powerplots.savefig_autodate(fig, outdatadir+'/grant_saumya_lineq_abc_v3.pdf')\n",
    "plt.show()"
   ]
  },
  {
   "cell_type": "code",
   "execution_count": null,
   "id": "36ee0a3c-045e-49d6-98cd-46bda5125540",
   "metadata": {},
   "outputs": [],
   "source": []
  },
  {
   "cell_type": "code",
   "execution_count": null,
   "id": "dfcd62aa-336a-46fa-b599-ae670e8257e2",
   "metadata": {},
   "outputs": [],
   "source": []
  }
 ],
 "metadata": {
  "kernelspec": {
   "display_name": "napari",
   "language": "python",
   "name": "napari"
  },
  "language_info": {
   "codemirror_mode": {
    "name": "ipython",
    "version": 3
   },
   "file_extension": ".py",
   "mimetype": "text/x-python",
   "name": "python",
   "nbconvert_exporter": "python",
   "pygments_lexer": "ipython3",
   "version": "3.9.16"
  }
 },
 "nbformat": 4,
 "nbformat_minor": 5
}
