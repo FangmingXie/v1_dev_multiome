{
 "cells": [
  {
   "cell_type": "code",
   "execution_count": null,
   "id": "aa503af1-8bb5-427a-8241-06e28faa45f3",
   "metadata": {
    "tags": []
   },
   "outputs": [],
   "source": [
    "import numpy as np\n",
    "import pandas as pd\n",
    "import matplotlib.pyplot as plt\n",
    "import seaborn as sns\n",
    "import anndata as ad\n",
    "import scanpy as sc\n",
    "from scipy import stats\n",
    "import os\n",
    "\n",
    "from sklearn.decomposition import PCA\n",
    "from sklearn.cluster import KMeans\n",
    "from umap import UMAP\n",
    "\n",
    "from scroutines import powerplots\n",
    "from scroutines.miscu import is_in_polygon"
   ]
  },
  {
   "cell_type": "markdown",
   "id": "948e0c4c-761e-4757-9027-2c6f309b4245",
   "metadata": {},
   "source": [
    "# load input"
   ]
  },
  {
   "cell_type": "code",
   "execution_count": null,
   "id": "769a58da-208c-4931-9f88-232631d3a71d",
   "metadata": {
    "tags": []
   },
   "outputs": [],
   "source": [
    "from merfish_datasets import merfish_datasets as directories"
   ]
  },
  {
   "cell_type": "code",
   "execution_count": null,
   "id": "1abfa400-a56a-4bdd-b61a-d962b03ae2b1",
   "metadata": {
    "tags": []
   },
   "outputs": [],
   "source": [
    "outdir     = \"/u/home/f/f7xiesnm/project-zipursky/v1-bb/v1/results_merfish/plots_250408\"\n",
    "outdatadir = \"/u/home/f/f7xiesnm/project-zipursky/v1-bb/v1/data/merfish/organized\"\n",
    "!mkdir -p $outdir\n",
    "!mkdir -p $outdatadir"
   ]
  },
  {
   "cell_type": "code",
   "execution_count": null,
   "id": "a64121a1-9485-49a4-b0f8-d6ddcaae87a0",
   "metadata": {
    "tags": []
   },
   "outputs": [],
   "source": [
    "dfs = []\n",
    "# merfish_202503111431\n",
    "names = ['P21NRc_ant', 'P8NRa_ant', 'P8NRb_ant', 'P8NRc_ant', 'P8NRd_ant',]\n",
    "for name in names:\n",
    "    dirc = directories[name]\n",
    "    f2 = os.path.join('/u/home/f/f7xiesnm/project-zipursky/v1-bb/v1/data/merfish', dirc, 'cell_metadata.csv')\n",
    "    df2 = pd.read_csv(f2)\n",
    "    dfs.append(df2)\n",
    "    \n",
    "fig, ax = plt.subplots()\n",
    "for i in range(len(dfs)): \n",
    "    x = dfs[i]['center_x']\n",
    "    y = dfs[i]['center_y']\n",
    "    ax.scatter(x, y, s=0.05, edgecolor='none')\n",
    "ax.invert_yaxis()\n",
    "plt.show()"
   ]
  },
  {
   "cell_type": "code",
   "execution_count": null,
   "id": "1728f083-0045-48f1-b065-189a6df0f763",
   "metadata": {
    "tags": []
   },
   "outputs": [],
   "source": [
    "dfs = []\n",
    "# merfish_202503111242\n",
    "names = ['P21NRc_pos', 'P8NRa_pos', 'P8NRb_pos', 'P8NRc_pos', 'R5_pos',]\n",
    "for name in names:\n",
    "    dirc = directories[name]\n",
    "    f2 = os.path.join('/u/home/f/f7xiesnm/project-zipursky/v1-bb/v1/data/merfish', dirc, 'cell_metadata.csv')\n",
    "    df2 = pd.read_csv(f2)\n",
    "    dfs.append(df2)\n",
    "    \n",
    "fig, ax = plt.subplots()\n",
    "for i in range(len(dfs)): \n",
    "    x = dfs[i]['center_x']\n",
    "    y = dfs[i]['center_y']\n",
    "    ax.scatter(x, y, s=0.05, edgecolor='none')\n",
    "ax.invert_yaxis()\n",
    "plt.show()"
   ]
  },
  {
   "cell_type": "code",
   "execution_count": null,
   "id": "12a7a056-06b0-4cc2-bd3e-fb2cde837b42",
   "metadata": {
    "tags": []
   },
   "outputs": [],
   "source": [
    "dfs = []\n",
    "# exp merfish_202503191505 (repeated experiments) same animals diff. sections? \n",
    "names = ['P21NRc_ant2', 'P8NRa_ant2', 'P8NRb_ant2', 'P8NRc_ant2', 'P8NRd_ant2',]\n",
    "for name in names:\n",
    "    dirc = directories[name]\n",
    "    f2 = os.path.join('/u/home/f/f7xiesnm/project-zipursky/v1-bb/v1/data/merfish', dirc, 'cell_metadata.csv')\n",
    "    df2 = pd.read_csv(f2)\n",
    "    dfs.append(df2)\n",
    "    \n",
    "fig, ax = plt.subplots()\n",
    "for i in range(len(dfs)): \n",
    "    x = dfs[i]['center_x']\n",
    "    y = dfs[i]['center_y']\n",
    "    ax.scatter(x, y, s=0.05, edgecolor='none')\n",
    "ax.invert_yaxis()\n",
    "plt.show()"
   ]
  },
  {
   "cell_type": "code",
   "execution_count": null,
   "id": "87a1b7a2-9c29-4d9b-896d-fc147b06a0d1",
   "metadata": {
    "tags": []
   },
   "outputs": [],
   "source": [
    "dfs = []\n",
    "# exp merfish_202503191540\n",
    "names = ['P21NRc_pos2', 'P21NRc_pos2a', 'P8NRa_pos2', 'P8NRb_pos2', 'P8NRc_pos2', 'P8NRd_pos2',]\n",
    "for name in names:\n",
    "    dirc = directories[name]\n",
    "    f2 = os.path.join('/u/home/f/f7xiesnm/project-zipursky/v1-bb/v1/data/merfish', dirc, 'cell_metadata.csv')\n",
    "    df2 = pd.read_csv(f2)\n",
    "    dfs.append(df2)\n",
    "    \n",
    "fig, ax = plt.subplots()\n",
    "for i in range(len(dfs)): \n",
    "    x = dfs[i]['center_x']\n",
    "    y = dfs[i]['center_y']\n",
    "    ax.scatter(x, y, s=0.05, edgecolor='none')\n",
    "ax.invert_yaxis()\n",
    "plt.show()"
   ]
  },
  {
   "cell_type": "code",
   "execution_count": null,
   "id": "b7e9e8a8-64e0-4364-9a53-ed1142c3fb86",
   "metadata": {},
   "outputs": [],
   "source": []
  }
 ],
 "metadata": {
  "kernelspec": {
   "display_name": "napari",
   "language": "python",
   "name": "napari"
  },
  "language_info": {
   "codemirror_mode": {
    "name": "ipython",
    "version": 3
   },
   "file_extension": ".py",
   "mimetype": "text/x-python",
   "name": "python",
   "nbconvert_exporter": "python",
   "pygments_lexer": "ipython3",
   "version": "3.9.16"
  }
 },
 "nbformat": 4,
 "nbformat_minor": 5
}
