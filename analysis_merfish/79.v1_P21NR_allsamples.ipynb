{
 "cells": [
  {
   "cell_type": "code",
   "execution_count": null,
   "id": "aa503af1-8bb5-427a-8241-06e28faa45f3",
   "metadata": {
    "tags": []
   },
   "outputs": [],
   "source": [
    "import numpy as np\n",
    "import pandas as pd\n",
    "import matplotlib.pyplot as plt\n",
    "import seaborn as sns\n",
    "import anndata as ad\n",
    "import scanpy as sc\n",
    "from scipy import stats\n",
    "import os\n",
    "\n",
    "from scipy import spatial\n",
    "from scipy import sparse\n",
    "from scipy.interpolate import CubicSpline\n",
    "from sklearn.decomposition import PCA\n",
    "from sklearn.cluster import KMeans\n",
    "from sklearn.neighbors import NearestNeighbors\n",
    "import networkx as nx\n",
    "from umap import UMAP\n",
    "\n",
    "import json"
   ]
  },
  {
   "cell_type": "code",
   "execution_count": null,
   "id": "0f45245f-11c8-4e6e-b181-d2bf21e8c459",
   "metadata": {},
   "outputs": [],
   "source": [
    "import importlib\n",
    "\n",
    "from scroutines import powerplots\n",
    "from scroutines.miscu import is_in_polygon\n",
    "\n",
    "import utils_merfish\n",
    "importlib.reload(utils_merfish)\n",
    "from utils_merfish import rot2d, st_scatter, st_scatter_ax, plot_cluster, binning\n",
    "from utils_merfish import RefLineSegs\n",
    "\n",
    "import merfish_datasets\n",
    "import merfish_genesets\n",
    "importlib.reload(merfish_datasets)\n",
    "from merfish_datasets import merfish_datasets\n",
    "from merfish_datasets import merfish_datasets_params\n",
    "\n",
    "from scroutines import basicu"
   ]
  },
  {
   "cell_type": "code",
   "execution_count": null,
   "id": "5ee31c0c-9fc3-4bf8-a36e-1cdb4fe398dc",
   "metadata": {
    "tags": []
   },
   "outputs": [],
   "source": [
    "def get_qc_metrics(df):\n",
    "    \"\"\"\n",
    "    return metrics\n",
    "     - key\n",
    "      - (name, val, medval, bins)\n",
    "    \"\"\"\n",
    "    metrics = {}\n",
    "    cols  = ['volume', 'gncov', 'gnnum']\n",
    "    names = ['cell volume', 'num transcripts', 'num genes']\n",
    "    \n",
    "    for col, name in zip(cols, names):\n",
    "        val = df[col].values\n",
    "        medval = np.median(val)\n",
    "        bins = np.linspace(0, 10*medval, 50)\n",
    "        \n",
    "        metrics[col] = (name, val, medval, bins)\n",
    "    return metrics\n",
    "\n",
    "def get_norm_counts(adata, scaling=500):\n",
    "    \"\"\"norm - equalize the volume to be 500 for all cells\n",
    "    \"\"\"\n",
    "    cnts = adata.X\n",
    "    vol = adata.obs['volume'].values\n",
    "    normcnts = cnts/vol.reshape(-1,1)*scaling\n",
    "    adata.layers['norm'] = normcnts\n",
    "    \n",
    "    return normcnts"
   ]
  },
  {
   "cell_type": "code",
   "execution_count": null,
   "id": "f966b334-541e-4e6a-a02b-99b26455e254",
   "metadata": {
    "tags": []
   },
   "outputs": [],
   "source": [
    "def get_largest_spatial_components(adata, k=100, dist_th=80):\n",
    "    \"\"\"\n",
    "    k - number of neighbors\n",
    "    dist_th - distance to call connected components\n",
    "    \n",
    "    returns\n",
    "        - indices of the largest components\n",
    "    \"\"\"\n",
    "    XY = adata.obs[['x', 'y']].values\n",
    "    nc = len(XY)\n",
    "\n",
    "    # kNN\n",
    "    nbrs = NearestNeighbors(n_neighbors=k, algorithm='auto').fit(XY)\n",
    "    distances, indices = nbrs.kneighbors(XY)\n",
    "\n",
    "    # filtered by distance th\n",
    "    val = distances[:,1:].reshape(-1,)\n",
    "    i = np.repeat(indices[:,0],k-1)\n",
    "    j = indices[:,1:].reshape(-1,)\n",
    "\n",
    "    indices_filtered = np.vstack([i[val < dist_th], j[val < dist_th]]).T\n",
    "\n",
    "    G = nx.Graph()\n",
    "    G.add_nodes_from(np.arange(nc))\n",
    "    G.add_edges_from(indices_filtered)\n",
    "    components = nx.connected_components(G)\n",
    "    largest_component = max(components, key=len)\n",
    "    indices_selected = np.array(list(largest_component))\n",
    "\n",
    "    print(f\"fraction of cells included: {len(largest_component)/nc: .2f}\" )\n",
    "    \n",
    "    return indices_selected, XY"
   ]
  },
  {
   "cell_type": "code",
   "execution_count": null,
   "id": "8dcb3a41-6fed-4c27-a03a-3ac6508f4622",
   "metadata": {
    "tags": []
   },
   "outputs": [],
   "source": [
    "def preprocessing(adata):\n",
    "    # filter genes\n",
    "    cond = np.ravel((adata.X>0).sum(axis=0)) > 10 # expressed in more than 10 cells\n",
    "    adata_sub = adata[:,cond]\n",
    "\n",
    "    # counts\n",
    "    x = adata_sub.X\n",
    "    cov = adata_sub.obs['n_counts'].values\n",
    "\n",
    "    # CP10k\n",
    "    xn = (sparse.diags(1/cov).dot(x))*1e4\n",
    "\n",
    "    # log10(CP10k+1)\n",
    "    xln = xn.copy()\n",
    "    xln.data = np.log10(xln.data+1)\n",
    "\n",
    "    adata_sub.layers['norm'] = xn\n",
    "    adata_sub.layers['lognorm'] = xln\n",
    "    \n",
    "    return adata_sub"
   ]
  },
  {
   "cell_type": "code",
   "execution_count": null,
   "id": "20587803-cca5-420c-bff7-f406cd91a6c6",
   "metadata": {
    "tags": []
   },
   "outputs": [],
   "source": [
    "def get_hvgs(adata, layer, nbin=20, qth=0.3):\n",
    "    \"\"\"\n",
    "    \"\"\"\n",
    "    xn = adata.layers[layer]\n",
    "    \n",
    "    # min\n",
    "    gm = np.ravel(xn.mean(axis=0))\n",
    "\n",
    "    # var\n",
    "    tmp = xn.copy()\n",
    "    tmp.data = np.power(tmp.data, 2)\n",
    "    gv = np.ravel(tmp.mean(axis=0))-gm**2\n",
    "\n",
    "    # cut \n",
    "    lbl = pd.qcut(gm, nbin, labels=np.arange(nbin))\n",
    "    gres = pd.DataFrame()\n",
    "    gres['lbl'] = lbl\n",
    "    gres['mean'] = gm\n",
    "    gres['var'] = gv\n",
    "    gres['ratio']= gv/gm\n",
    "\n",
    "    # select\n",
    "    gres_sel = gres.groupby('lbl')['ratio'].nlargest(int(qth*(len(gm)/nbin))) #.reset_index()\n",
    "    gsel_idx = np.sort(gres_sel.index.get_level_values(1).values)\n",
    "\n",
    "    assert np.all(gsel_idx != -1)\n",
    "    \n",
    "    return adata.var.index.values[gsel_idx]"
   ]
  },
  {
   "cell_type": "code",
   "execution_count": null,
   "id": "17e57120-ac1f-4c1d-9d12-188855ef70f3",
   "metadata": {
    "tags": []
   },
   "outputs": [],
   "source": [
    "def neighbor_label_transfer(k, ref_emb, qry_emb, ref_lbl, p_cutoff=0.5, dist_cutoff=None):\n",
    "    \"\"\"ref vs qry neighbors\n",
    "    \"\"\"\n",
    "    unq_lbls = np.unique(ref_lbl).astype(str) # array(['L2/3_A', 'L2/3_B', 'L2/3_C'])\n",
    "    n_unq_lbls = len(unq_lbls)\n",
    "    ref_n = len(ref_emb)\n",
    "    qry_n = len(qry_emb)\n",
    "    \n",
    "    neigh = NearestNeighbors(n_neighbors=k) # , radius=0.4)\n",
    "    neigh.fit(ref_emb)\n",
    "    dists, idx = neigh.kneighbors(qry_emb, k, return_distance=True)\n",
    "    \n",
    "    raw_pred = ref_lbl[idx]\n",
    "\n",
    "    # p\n",
    "    pabc = np.empty((qry_n, n_unq_lbls))\n",
    "    for i, lbl in enumerate(unq_lbls):\n",
    "        p = np.sum(raw_pred==lbl, axis=1)/k\n",
    "        pabc[:,i] = p\n",
    "\n",
    "    # max\n",
    "    max_pred = unq_lbls[np.argmax(pabc, axis=1)]\n",
    "\n",
    "    # \n",
    "    gated_pred = max_pred.copy()\n",
    "    cond1 = np.max( pabc, axis=1) > p_cutoff\n",
    "    gated_pred[~cond1] = 'NA' \n",
    "    if dist_cutoff is not None:\n",
    "        cond2 = np.max(dists, axis=1) < dist_cutoff\n",
    "        gated_pred[~cond2] = 'NA' \n",
    "    \n",
    "    return max_pred, gated_pred, np.max(dists, axis=1)\n",
    "\n",
    "\n",
    "def neighbor_self_nonself(k, ref_emb, qry_emb):\n",
    "    \"\"\"ref vs qry neighbors\n",
    "    \"\"\"\n",
    "    unq_lbls = np.unique(ref_lbl).astype(str) # array(['L2/3_A', 'L2/3_B', 'L2/3_C'])\n",
    "    n_unq_lbls = len(unq_lbls)\n",
    "    ref_n = len(ref_emb)\n",
    "    qry_n = len(qry_emb)\n",
    "    lbls = np.array([0]*ref_n+[1]*qry_n)\n",
    "    \n",
    "    neigh = NearestNeighbors(n_neighbors=k) # , radius=0.4)\n",
    "    neigh.fit(np.vstack([ref_emb, qry_emb]))\n",
    "    idx = neigh.kneighbors(qry_emb, k, return_distance=False)\n",
    "    \n",
    "    isself = lbls[idx]\n",
    "\n",
    "    p = np.sum(isself, axis=1)/k\n",
    "\n",
    "    \n",
    "    return p # max_pred, gated_pred, np.max(dists, axis=1)"
   ]
  },
  {
   "cell_type": "markdown",
   "id": "948e0c4c-761e-4757-9027-2c6f309b4245",
   "metadata": {},
   "source": [
    "# load data and construct adata "
   ]
  },
  {
   "cell_type": "code",
   "execution_count": null,
   "id": "39889430-5345-48d5-acb5-32a077eb6b85",
   "metadata": {},
   "outputs": [],
   "source": [
    "np.random.seed(0)"
   ]
  },
  {
   "cell_type": "code",
   "execution_count": null,
   "id": "1abfa400-a56a-4bdd-b61a-d962b03ae2b1",
   "metadata": {
    "tags": []
   },
   "outputs": [],
   "source": [
    "outdir     = \"/u/home/f/f7xiesnm/project-zipursky/v1-bb/v1/results_merfish/plots_240718\"\n",
    "outdatadir = \"/u/home/f/f7xiesnm/project-zipursky/v1-bb/v1/data/merfish/organized\"\n",
    "!mkdir -p $outdir\n",
    "!mkdir -p $outdatadir"
   ]
  },
  {
   "cell_type": "code",
   "execution_count": null,
   "id": "10056f83-d188-4aea-9e6b-6bfaed8f77e0",
   "metadata": {
    "tags": []
   },
   "outputs": [],
   "source": [
    "genesets, df = merfish_genesets.get_all_genesets()\n",
    "for key, item in genesets.items():\n",
    "    print(key, len(item))"
   ]
  },
  {
   "cell_type": "code",
   "execution_count": null,
   "id": "9de52cb2-2b0c-4b9f-a864-1ec9e50eae47",
   "metadata": {
    "tags": []
   },
   "outputs": [],
   "source": [
    "ddir  = \"/u/home/f/f7xiesnm/project-zipursky/v1-bb/v1/data/merfish/organized\" \n",
    "fout  = os.path.join(ddir, 'P21NR_v1_rna_merfish_250411.h5ad')\n",
    "fout2 = os.path.join(ddir, 'P21NR_v1glut_rna_merfish_250411.h5ad')\n",
    "fout3 = os.path.join(ddir, 'P21NR_v1l23glut_rna_merfish_250411.h5ad')\n",
    "fout4 = os.path.join(ddir, 'P21NR_v1gaba_rna_merfish_250411.h5ad')\n",
    "# fout5 = os.path.join(ddir, 'P8NR_v1l56itglut_rna_merfish_250411.h5ad')\n",
    "!ls $ddir/*l2*250410.h5ad "
   ]
  },
  {
   "cell_type": "code",
   "execution_count": null,
   "id": "72ebe8f3-6d19-4bed-bea5-904b178eeed0",
   "metadata": {
    "tags": []
   },
   "outputs": [],
   "source": [
    "%%time\n",
    "names = [\n",
    "    'P21NRb_ant',\n",
    "    'P21NRb_pos',\n",
    "    \n",
    "    'P21NRc_ant',\n",
    "    'P21NRc_ant2',\n",
    "    'P21NRc_pos2',\n",
    "]\n",
    "\n",
    "alldata = {}\n",
    "for name in names:\n",
    "    adatasub = ad.read(os.path.join(ddir, f'{name}_l2_v1_250410.h5ad')) \n",
    "    adatasub.obs.index = np.char.add(f'{name}', adatasub.obs.index.values)\n",
    "    alldata[name] = adatasub \n",
    "    print(name, len(alldata[name]))\n",
    "    \n",
    "genes = adatasub.var.index.values\n",
    "genes.shape"
   ]
  },
  {
   "cell_type": "code",
   "execution_count": null,
   "id": "bbeb650a-238c-4dbf-b22b-2f64f203f0b3",
   "metadata": {
    "tags": []
   },
   "outputs": [],
   "source": [
    "agenes = genesets['a']\n",
    "bgenes = genesets['b']\n",
    "cgenes = genesets['c']\n",
    "iegs   = genesets['i']\n",
    "abcgenes = np.hstack([agenes, bgenes, cgenes])\n",
    "genes_noniegs = np.array([g for g in genes if g not in iegs])\n",
    "\n",
    "marker_genes = [\n",
    "       'Ptprn', 'Slc17a7', 'Gad1', 'Fos', \n",
    "       \n",
    "       'Gfap', 'Slc6a13', 'Slc47a1',\n",
    "       'Grin2c', 'Aqp4', 'Rfx4', 'Sox21', 'Slc1a3',\n",
    "       \n",
    "       'Sox10', 'Pdgfra', 'Mog',\n",
    "       \n",
    "       'Pecam1', 'Cd34' , 'Tnfrsf12a', 'Sema3c', \n",
    "       'Zfhx3', 'Pag1', 'Slco2b1', 'Cx3cr1',\n",
    "      ] \n",
    "len(abcgenes), len(genes_noniegs)"
   ]
  },
  {
   "cell_type": "code",
   "execution_count": null,
   "id": "425bb22f-df22-4280-82a8-f4bffa73f40d",
   "metadata": {
    "tags": []
   },
   "outputs": [],
   "source": [
    "agenes_idx = basicu.get_index_from_array(adatasub.var.index.values, agenes)\n",
    "bgenes_idx = basicu.get_index_from_array(adatasub.var.index.values, bgenes)\n",
    "cgenes_idx = basicu.get_index_from_array(adatasub.var.index.values, cgenes)\n",
    "igenes_idx = basicu.get_index_from_array(adatasub.var.index.values, iegs)"
   ]
  },
  {
   "cell_type": "code",
   "execution_count": null,
   "id": "17dd1c5e-fc3e-4bf3-8854-ce4229df7267",
   "metadata": {
    "tags": []
   },
   "outputs": [],
   "source": [
    "mean_total_rna_target = 250\n",
    "adata_merged = []\n",
    "for i, name in enumerate(names):\n",
    "    j = i // 4\n",
    "    i = i % 4\n",
    "    \n",
    "    adatasub = alldata[name].copy()\n",
    "    adatasub.obs['sample'] = name\n",
    "    \n",
    "    norm_cnts = adatasub.layers['norm']\n",
    "    # mean_per_batch = np.mean(norm_cnts.sum(axis=1))\n",
    "    mean_per_batch_noniegs = np.mean(adatasub[:,genes_noniegs].layers['norm'].sum(axis=1))\n",
    "    \n",
    "    adatasub.layers['jnorm']  = norm_cnts*(mean_total_rna_target/mean_per_batch_noniegs)\n",
    "    adatasub.layers['ljnorm'] = np.log2(1+adatasub.layers['jnorm'])\n",
    "    \n",
    "    adatasub.obs['norm_transcript_count']  = adatasub.layers['norm'].sum(axis=1)\n",
    "    adatasub.obs['jnorm_transcript_count'] = adatasub.layers['jnorm'].sum(axis=1)\n",
    "    \n",
    "    adatasub.obs['depth_show'] = -adatasub.obs['depth'].values - i*1300 # name\n",
    "    adatasub.obs['width_show'] =  adatasub.obs['width'].values - np.min(adatasub.obs['width'].values) + j*2500   # name\n",
    "    \n",
    "    adata_merged.append(adatasub)\n",
    "    \n",
    "adata_merged = ad.concat(adata_merged)"
   ]
  },
  {
   "cell_type": "code",
   "execution_count": null,
   "id": "eba48c65-9722-4352-a8c8-f4b94ac04c7c",
   "metadata": {},
   "outputs": [],
   "source": [
    "adata = adata_merged \n",
    "\n",
    "# PCA\n",
    "pca = PCA(n_components=50)\n",
    "pcs = pca.fit_transform(stats.zscore(adata[:,genes_noniegs].layers['ljnorm'], axis=1))\n",
    "# pcs = pca.fit_transform(stats.zscore(adata.layers['ljnorm'], axis=1))\n",
    "ucs = UMAP(n_components=2, n_neighbors=30, random_state=0).fit_transform(pcs)\n",
    "\n",
    "adata.obsm['pca'] = pcs\n",
    "adata.obsm['umap'] = ucs\n",
    "sc.pp.neighbors(adata, n_neighbors=30, use_rep='pca', random_state=0)"
   ]
  },
  {
   "cell_type": "code",
   "execution_count": null,
   "id": "6f15e3d3-9e90-477c-83ca-54fb8754bbb3",
   "metadata": {
    "tags": []
   },
   "outputs": [],
   "source": [
    "# clustering\n",
    "r = 0.3\n",
    "sc.tl.leiden(adata, resolution=r, key_added=f'leiden_r{r}', random_state=0, n_iterations=10)"
   ]
  },
  {
   "cell_type": "code",
   "execution_count": null,
   "id": "6c2e2ca9-8eb9-44f1-9886-7910d7a49913",
   "metadata": {
    "tags": []
   },
   "outputs": [],
   "source": [
    "clsts = adata.obs[f'leiden_r{r}'].astype(int)\n",
    "xr =  adata.obs['width_show']\n",
    "yr =  adata.obs['depth_show']\n",
    "ux = adata.obsm['umap'][:,0]\n",
    "uy = adata.obsm['umap'][:,1]\n",
    "utils_merfish.plot_cluster(clsts, xr, yr, ux, uy, s=2)\n",
    "\n",
    "samples, uniq_labels = pd.factorize(adata.obs['sample']) # .astype(int)\n",
    "utils_merfish.plot_cluster(samples, xr, yr, ux, uy, s=2)"
   ]
  },
  {
   "cell_type": "code",
   "execution_count": null,
   "id": "b933bce0-4fb4-4e02-9970-a2edc8822a63",
   "metadata": {
    "tags": []
   },
   "outputs": [],
   "source": [
    "clsts = adata.obs[f'leiden_r{r}'].astype(int)\n",
    "uniq_clsts = np.unique(clsts)\n",
    "\n",
    "\n",
    "for clst in uniq_clsts:\n",
    "    show = (clsts == clst)\n",
    "    xr =  adata.obs['width_show']\n",
    "    yr =  adata.obs['depth_show']\n",
    "    ux    = adata.obsm['umap'][:,0]\n",
    "    uy    = adata.obsm['umap'][:,1]\n",
    "    utils_merfish.plot_cluster(show, xr, yr, ux, uy, s=2, cmap=plt.cm.copper_r, suptitle=clst)"
   ]
  },
  {
   "cell_type": "code",
   "execution_count": null,
   "id": "c4b8189e-53c4-414b-97ad-035e89907e56",
   "metadata": {
    "tags": []
   },
   "outputs": [],
   "source": [
    "# plot\n",
    "gns = marker_genes\n",
    "n = len(gns)\n",
    "nx = 4\n",
    "ny = int((n+nx-1)/nx)\n",
    "# add some quality metrics\n",
    "fig, axs = plt.subplots(ny,nx,figsize=(nx*5,ny*4))\n",
    "for gn, ax in zip(gns, axs.flat):\n",
    "    # g = np.log2(1+adata[:,gn].layers['jnorm'].reshape(-1,))\n",
    "    g = adata[:,gn].layers['jnorm'].reshape(-1,)\n",
    "    utils_merfish.st_scatter_ax(fig, ax, ucs[:,0], ucs[:,1], gexp=g)\n",
    "    ax.set_title(gn)\n",
    "plt.show()\n",
    "\n"
   ]
  },
  {
   "cell_type": "markdown",
   "id": "5e37582b-3ec7-4c4f-8c08-f2ea3c2afb08",
   "metadata": {},
   "source": [
    "# RNA data basic analysis "
   ]
  },
  {
   "cell_type": "code",
   "execution_count": null,
   "id": "00834b49-fa7e-4e45-b4c2-c8edd5f5fd16",
   "metadata": {},
   "outputs": [],
   "source": [
    "#\n",
    "f = '/u/home/f/f7xiesnm/project-zipursky/v1-bb/v1/data/cheng21_cell_scrna/organized/P28NR.h5ad'\n",
    "adata_rna_raw = sc.read(f)\n",
    "adata_rna_raw"
   ]
  },
  {
   "cell_type": "code",
   "execution_count": null,
   "id": "5f78caed-4877-4a07-822a-5040ae22b2d1",
   "metadata": {
    "tags": []
   },
   "outputs": [],
   "source": [
    "adata_rna_raw = preprocessing(adata_rna_raw)\n",
    "hvgs = get_hvgs(adata_rna_raw, 'norm')\n",
    "adata_rna = adata_rna_raw[:,hvgs]\n",
    "adata_rna_raw, adata_rna"
   ]
  },
  {
   "cell_type": "code",
   "execution_count": null,
   "id": "418895d6-6d59-466c-807e-26227a8a115a",
   "metadata": {
    "tags": []
   },
   "outputs": [],
   "source": [
    "# merge using overlapping genes\n",
    "genes_overlap = np.intersect1d(adata_rna.var.index.values, adata.var.index.values)\n",
    "adata_rna = adata_rna[:,genes_overlap].copy()\n",
    "adata_mer = adata[adata.obs['transcript_count']>50, genes_overlap].copy()\n",
    "\n",
    "adata_rna.obs['modality'] = 'rna'\n",
    "adata_mer.obs['modality'] = 'merfish'\n",
    "adata_merge = sc.concat([adata_rna, adata_mer], join='outer')\n",
    "\n",
    "lognorm_rna = np.log10(1+np.array(adata_rna.layers['norm'].todense()))\n",
    "zlognorm_rna = stats.zscore(lognorm_rna, axis=0)\n",
    "\n",
    "lognorm_mer = adata_mer.layers['ljnorm']  #np.log10(1+adata_mer.layers['norm'])\n",
    "zlognorm_mer = stats.zscore(lognorm_mer, axis=0)\n",
    "\n",
    "adata_merge.obsm['X_pca2'] = PCA(n_components=20).fit_transform(np.vstack([zlognorm_rna, zlognorm_mer])) \n",
    "\n",
    "print(len(adata_rna), len(adata), len(adata_mer))\n",
    "adata_merge"
   ]
  },
  {
   "cell_type": "code",
   "execution_count": null,
   "id": "f49b24aa-aa7f-4dda-8b1a-18fa15988e85",
   "metadata": {},
   "outputs": [],
   "source": [
    "sc.external.pp.harmony_integrate(adata_merge, 'modality', basis='X_pca2', max_iter_harmony=20)"
   ]
  },
  {
   "cell_type": "code",
   "execution_count": null,
   "id": "8c8d541e-ff17-4a58-84be-51c4a795d175",
   "metadata": {
    "tags": []
   },
   "outputs": [],
   "source": [
    "sc.pp.neighbors(adata_merge, use_rep='X_pca_harmony')\n",
    "sc.tl.umap(adata_merge) # , key='modality')\n",
    "adata_merge.obs['umap1'] = adata_merge.obsm['X_umap'][:,0]\n",
    "adata_merge.obs['umap2'] = adata_merge.obsm['X_umap'][:,1]\n"
   ]
  },
  {
   "cell_type": "code",
   "execution_count": null,
   "id": "0549c071-3bca-416c-8317-da2795a0add2",
   "metadata": {
    "tags": []
   },
   "outputs": [],
   "source": [
    "adata_merge.obs['umap1_self'] = adata_merge.obsm['umap'][:,0]\n",
    "adata_merge.obs['umap2_self'] = adata_merge.obsm['umap'][:,1]"
   ]
  },
  {
   "cell_type": "code",
   "execution_count": null,
   "id": "10f7bdb4-3771-4197-8f58-335a0efc51c5",
   "metadata": {
    "tags": []
   },
   "outputs": [],
   "source": [
    "sns.scatterplot(data=adata_merge.obs.sample(frac=1, replace=False), \n",
    "                x='umap1', y='umap2', hue='modality', s=1, edgecolor='none')"
   ]
  },
  {
   "cell_type": "code",
   "execution_count": null,
   "id": "042bc327-1630-4c47-871c-df425c21dd6f",
   "metadata": {
    "tags": []
   },
   "outputs": [],
   "source": [
    "# label transfer from RNA data\n",
    "ref = adata_merge[adata_merge.obs['modality']=='rna'].copy()\n",
    "qry = adata_merge[adata_merge.obs['modality']=='merfish'].copy()\n",
    "\n",
    "all_emb = adata_merge.obsm['X_pca_harmony']\n",
    "ref_emb = ref.obsm['X_pca_harmony']\n",
    "qry_emb = qry.obsm['X_pca_harmony']\n",
    "\n",
    "ref_lbl = ref.obs['Class_broad'].values.astype(str) # res_nr['type'].values.astype(str)\n",
    "print(np.unique(ref_lbl))\n",
    "\n",
    "k = 100\n",
    "max_pred, _, dists = neighbor_label_transfer(k, ref_emb, qry_emb, ref_lbl, p_cutoff=0.5, dist_cutoff=None)\n",
    "ps = neighbor_self_nonself(k, ref_emb, qry_emb)\n",
    "\n",
    "adata_merge.obs['max_pred'] = 'NA' \n",
    "adata_merge.obs['frac_self_neighbors'] = np.nan # 'NA'\n",
    "adata_merge.obs['gated_pred'] = 'NA'\n",
    "\n",
    "adata_merge.obs.loc[qry.obs.index, 'max_pred'] = max_pred\n",
    "adata_merge.obs.loc[qry.obs.index, 'frac_self_neighbors'] = ps\n",
    "adata_merge.obs.loc[qry.obs.index, 'gated_pred'] = np.where(ps < 0.98, max_pred, 'NA')"
   ]
  },
  {
   "cell_type": "code",
   "execution_count": null,
   "id": "7097eeba-126d-436b-bf11-ba01cccf3ca2",
   "metadata": {
    "tags": []
   },
   "outputs": [],
   "source": [
    "adata_snrnasq = adata_merge[adata_merge.obs['modality']=='rna']\n",
    "adata_merfish = adata_merge[adata_merge.obs['modality']=='merfish']\n",
    "\n",
    "assert np.all(adata_snrnasq.obs.index.values == adata_rna.obs.index.values)\n",
    "assert np.all(adata_merfish.obs.index.values == adata_mer.obs.index.values)\n",
    "\n",
    "adata_snrnasq, adata_merfish"
   ]
  },
  {
   "cell_type": "code",
   "execution_count": null,
   "id": "720ceb9d-f75d-4b76-b416-08c750456890",
   "metadata": {
    "tags": []
   },
   "outputs": [],
   "source": [
    "sc.pl.umap(adata_merfish, color=['gated_pred'])\n",
    "sc.pl.umap(adata_merfish, color=['frac_self_neighbors'], vmin=0.95)\n",
    "sc.pl.umap(adata_merfish, color=['transcript_count'], vmin=0.95)"
   ]
  },
  {
   "cell_type": "code",
   "execution_count": null,
   "id": "f30af6c8-82a6-40d1-acde-5beb22468726",
   "metadata": {
    "tags": []
   },
   "outputs": [],
   "source": [
    "sns.color_palette('tab20')"
   ]
  },
  {
   "cell_type": "code",
   "execution_count": null,
   "id": "4eb1fc98-509b-423b-80c1-9dd400d16a78",
   "metadata": {},
   "outputs": [],
   "source": [
    "x =   adata_merfish.obs['width']\n",
    "y =  -adata_merfish.obs['depth']\n",
    "ux =  adata_merfish.obsm['X_umap'][:,0]\n",
    "uy =  adata_merfish.obsm['X_umap'][:,1]\n",
    "clsts_lbl = adata_merfish.obs['gated_pred'].values\n",
    "clsts, _ = pd.factorize(clsts_lbl) # .astype(int) # requires [0,1,2...,N]\n",
    "clsts_palette, clsts_cmap = utils_merfish.generate_discrete_cmap([len(np.unique(clsts))], keys=['Set2',])\n",
    "\n",
    "csel = 'tab20'\n",
    "clsts_palette2 = {\n",
    "    'Excitatory':       sns.color_palette(csel, 8)[0], # 'C0', \n",
    "    'Inhibitory':       sns.color_palette(csel, 8)[1], \n",
    "    \n",
    "    'OPCs':             sns.color_palette(csel, 8)[2], \n",
    "    'Oligodendrocytes': sns.color_palette(csel, 8)[3], \n",
    "    \n",
    "    'Microglia':        sns.color_palette(csel, 8)[4], \n",
    "    'Endothelial':      sns.color_palette(csel, 8)[5], \n",
    "\n",
    "    'Astrocytes':       sns.color_palette(csel, 8)[6], \n",
    "    'VLMCs':            sns.color_palette(csel, 8)[7],\n",
    "    \n",
    "    'NA': 'gray',\n",
    "}"
   ]
  },
  {
   "cell_type": "code",
   "execution_count": null,
   "id": "3c95f646-3a33-41ca-afa2-c7d7bcfde135",
   "metadata": {
    "tags": []
   },
   "outputs": [],
   "source": [
    "fig, ax = plt.subplots(1,1,figsize=(1*6,1*4))\n",
    "ux = adata_merfish.obs['umap1_self'].values\n",
    "uy = adata_merfish.obs['umap2_self'].values\n",
    "c = adata_merfish.obs['transcript_count'].values\n",
    "# c = np.log10(adata_merfish.obs['transcript_count'].values)\n",
    "\n",
    "sorting = np.argsort(c) # [::-1]\n",
    "# g = ax.scatter(ux[sorting], uy[sorting], c=c[sorting], s=1, cmap='rocket_r') \n",
    "g = ax.scatter(ux, uy, c=c<100, s=3, edgecolor='none', cmap='rocket_r') \n",
    "ax.set_aspect('equal')\n",
    "ax.axis('off')\n",
    "fig.colorbar(g)\n",
    "plt.show()"
   ]
  },
  {
   "cell_type": "code",
   "execution_count": null,
   "id": "215204ac-9832-4e8d-9ebe-3e7f68129282",
   "metadata": {
    "tags": []
   },
   "outputs": [],
   "source": [
    "fig, axs = plt.subplots(1,2,figsize=(8*2,6), sharex=True, sharey=True)\n",
    "for ax, adata_mod, col, x, y in zip(axs, \n",
    "                              [adata_merfish, adata_snrnasq], \n",
    "                              ['gated_pred', 'Class_broad'], \n",
    "                              ['umap1', 'umap1'],\n",
    "                              ['umap2', 'umap2'],\n",
    "                             ):\n",
    "    sns.scatterplot(data=adata_mod.obs.sample(frac=1, replace=False), \n",
    "                    x=x, y=y, \n",
    "                    hue=col, \n",
    "                    palette=clsts_palette2, hue_order=list(clsts_palette2.keys()),\n",
    "                    s=5, edgecolor='none', ax=ax, rasterized=True)\n",
    "    ax.axis('off')\n",
    "    ax.set_aspect('equal')\n",
    "    ax.legend(bbox_to_anchor=(1,1), fontsize=10)\n",
    "# powerplots.savefig_autodate(fig, os.path.join(outdir, 'fig1_umap.pdf'))\n",
    "fig.tight_layout()\n",
    "plt.show()\n",
    "\n",
    "fig, axs = plt.subplots(1,2,figsize=(8*2,6))\n",
    "for ax, adata_mod, col, x, y in zip(axs, \n",
    "                              [adata_merfish, adata_merfish, ], \n",
    "                              ['gated_pred', 'gated_pred'], \n",
    "                              ['umap1_self', 'umap1'],\n",
    "                              ['umap2_self', 'umap2'],\n",
    "                             ):\n",
    "    sns.scatterplot(data=adata_mod.obs.sample(frac=1, replace=False), \n",
    "                    x=x, y=y, \n",
    "                    hue=col, \n",
    "                    palette=clsts_palette2, hue_order=list(clsts_palette2.keys()),\n",
    "                    s=5, edgecolor='none', ax=ax, rasterized=True)\n",
    "    ax.axis('off')\n",
    "    ax.set_aspect('equal')\n",
    "    ax.legend(bbox_to_anchor=(1,1), fontsize=10)\n",
    "# powerplots.savefig_autodate(fig, os.path.join(outdir, 'fig1_umap.pdf'))\n",
    "fig.tight_layout()\n",
    "plt.show()"
   ]
  },
  {
   "cell_type": "code",
   "execution_count": null,
   "id": "d863cd05-7556-4de0-97c9-e5808f935e6f",
   "metadata": {
    "tags": []
   },
   "outputs": [],
   "source": [
    "fig, ax = plt.subplots(figsize=(8,8))\n",
    "sns.scatterplot(data=adata_merfish.obs.sample(frac=1, replace=False), \n",
    "                x='width_show', y='depth_show', \n",
    "                hue='gated_pred', \n",
    "                palette=clsts_palette2, hue_order=list(clsts_palette2.keys()),\n",
    "                s=2, edgecolor='none', ax=ax, rasterized=True)\n",
    "ax.legend(bbox_to_anchor=(1,1), fontsize=10)\n",
    "ax.axis('off')\n",
    "ax.set_aspect('equal')\n",
    "# ax.invert_yaxis()\n",
    "# powerplots.savefig_autodate(fig, os.path.join(outdir, 'fig1_dw.pdf'))\n",
    "plt.show()"
   ]
  },
  {
   "cell_type": "code",
   "execution_count": null,
   "id": "97578168-21d5-4447-b7d1-d8d22b0bbb5a",
   "metadata": {
    "tags": []
   },
   "outputs": [],
   "source": [
    "dfshow = adata_merfish.obs.sample(frac=1, replace=False).copy()\n",
    "types = list(clsts_palette2.keys()) # dfshow['gated_pred'].unique()\n",
    "print(types)\n",
    "\n",
    "fig, axs = plt.subplots(3,3,figsize=(8*3,8*3))\n",
    "for i, ax in enumerate(axs.flat):\n",
    "    thistype = types[i]\n",
    "    \n",
    "    ax.set_title(thistype)\n",
    "    sns.scatterplot(data=dfshow, \n",
    "                    x='width_show', y='depth_show', \n",
    "                    color='lightgray',\n",
    "                    s=1, edgecolor='none', ax=ax, rasterized=True)\n",
    "    \n",
    "    sns.scatterplot(data=dfshow[dfshow['gated_pred']==thistype], \n",
    "                    x='width_show', y='depth_show', \n",
    "                    color=clsts_palette2[thistype],\n",
    "                    s=10, edgecolor='none', ax=ax, rasterized=True)\n",
    "    ax.axis('off')\n",
    "    ax.set_aspect('equal')\n",
    "    # ax.invert_yaxis()\n",
    "    \n",
    "    # break\n",
    "    \n",
    "# ax.legend(bbox_to_anchor=(1,1), fontsize=10)\n",
    "# # powerplots.savefig_autodate(fig, os.path.join(outdir, 'fig1_dw.pdf'))\n",
    "# plt.show()"
   ]
  },
  {
   "cell_type": "code",
   "execution_count": null,
   "id": "4ef9357f-1da4-4184-af6f-b550093c58f7",
   "metadata": {},
   "outputs": [],
   "source": [
    "m =  adata_snrnasq.obs['Class_broad'].value_counts() # /len(adata_rna)\n",
    "m = m/m.sum()\n",
    "n =  adata_merfish.obs['gated_pred'].value_counts() # /len(adata_mer)).loc[m.index]\n",
    "print(n.loc['NA']/n.sum())\n",
    "n = n.loc[m.index]\n",
    "n = n/n.sum()\n",
    "# n = (n/n.sum()).loc[m.index]\n",
    "\n",
    "m, n\n"
   ]
  },
  {
   "cell_type": "code",
   "execution_count": null,
   "id": "24a64df7-71fc-44e0-bd9f-dd644a09567b",
   "metadata": {},
   "outputs": [],
   "source": [
    "fig, ax = plt.subplots()\n",
    "ax.scatter(m, n, color='k')\n",
    "r, p = stats.spearmanr(m.values, n.values)\n",
    "for i in range(len(m)):\n",
    "    ax.text(m.iloc[i], n.iloc[i], m.index.values[i], fontsize=10)\n",
    "    \n",
    "ax.set_title(f\"Spearman r={r:.2g}\")\n",
    "\n",
    "ax.plot([0, 0.6], [0, 0.6], '--', color='gray', zorder=0)\n",
    "ax.set_aspect('equal')\n",
    "# ax.set_xticks([0,0.1])\n",
    "# ax.set_yticks([0,0.1])\n",
    "sns.despine(ax=ax)\n",
    "\n",
    "ax.set_xlabel('subclass freq. snRNA-seq')\n",
    "ax.set_ylabel('subclass freq. MERFISH')\n",
    "# powerplots.savefig_autodate(fig, os.path.join(outdir, 'fig1_scatter.pdf'))\n",
    "# ax.set_xscale('log')\n",
    "# ax.set_yscale('log')\n",
    "                            \n",
    "plt.show()"
   ]
  },
  {
   "cell_type": "code",
   "execution_count": null,
   "id": "7b088319-c2da-489d-a550-75acd9560e2a",
   "metadata": {
    "tags": []
   },
   "outputs": [],
   "source": [
    "adata_merge.obs = adata_merge.obs.drop('Doublet', axis=1) # for save the framework"
   ]
  },
  {
   "cell_type": "code",
   "execution_count": null,
   "id": "aabefe1b-79f1-4e27-8f8a-80e392035287",
   "metadata": {
    "tags": []
   },
   "outputs": [],
   "source": [
    "# save adata_merged\n",
    "print(fout)\n",
    "adata_merge.write(fout)"
   ]
  },
  {
   "cell_type": "markdown",
   "id": "ae0f0486-f17a-49b1-bdaa-bc9fa01a6777",
   "metadata": {},
   "source": [
    "# add subclass predictions "
   ]
  },
  {
   "cell_type": "code",
   "execution_count": null,
   "id": "6041b4b7-0b28-47cb-957e-ab3a5b9b8655",
   "metadata": {
    "tags": []
   },
   "outputs": [],
   "source": [
    "adata_merge = sc.read(fout)"
   ]
  },
  {
   "cell_type": "code",
   "execution_count": null,
   "id": "544ff8cf-b23d-40ba-a063-441729973da1",
   "metadata": {
    "tags": []
   },
   "outputs": [],
   "source": [
    "# adata_merge_exc = adata_merge[adata_merge.\n",
    "cond1 = np.logical_or(adata_merge.obs['Class_broad'] == 'Excitatory', \n",
    "                      adata_merge.obs['gated_pred']  == 'Excitatory',\n",
    "                     )\n",
    "cond2 = np.logical_or(adata_merge.obs['Class_broad'] == 'Inhibitory', \n",
    "                      adata_merge.obs['gated_pred']  == 'Inhibitory',\n",
    "                     )\n",
    "adata_merge_exc = adata_merge[cond1].copy()\n",
    "adata_merge_inh = adata_merge[cond2].copy()\n",
    "adata_merge_exc, adata_merge_inh"
   ]
  },
  {
   "cell_type": "markdown",
   "id": "82443ee2-5590-4eb3-ad50-c831992683cf",
   "metadata": {},
   "source": [
    "# Exc"
   ]
  },
  {
   "cell_type": "code",
   "execution_count": null,
   "id": "228ae0af-2c8e-42dd-83ac-835ef1afd888",
   "metadata": {
    "tags": []
   },
   "outputs": [],
   "source": [
    "# # label transfer from RNA data\n",
    "ref = adata_merge_exc[adata_merge_exc.obs['modality']=='rna'].copy()\n",
    "qry = adata_merge_exc[adata_merge_exc.obs['modality']=='merfish'].copy()\n",
    "\n",
    "all_emb = adata_merge_exc.obsm['X_pca_harmony']\n",
    "ref_emb = ref.obsm['X_pca_harmony']\n",
    "qry_emb = qry.obsm['X_pca_harmony']\n",
    "\n",
    "ref_lbl = ref.obs['Subclass'].values.astype(str) # res_nr['type'].values.astype(str)\n",
    "print(np.unique(ref_lbl))\n",
    "\n",
    "k = 30\n",
    "max_pred, _, dists = neighbor_label_transfer(k, ref_emb, qry_emb, ref_lbl, p_cutoff=0.5, dist_cutoff=None)\n",
    "ps = neighbor_self_nonself(k, ref_emb, qry_emb)\n",
    "\n",
    "adata_merge_exc.obs['max_pred_subclass'] = 'NA' \n",
    "adata_merge_exc.obs['frac_self_neighbors_subclass'] = np.nan # 'NA'\n",
    "adata_merge_exc.obs['gated_pred_subclass'] = 'NA'\n",
    "\n",
    "adata_merge_exc.obs.loc[qry.obs.index, 'max_pred_subclass'] = max_pred\n",
    "adata_merge_exc.obs.loc[qry.obs.index, 'frac_self_neighbors_subclass'] = ps\n",
    "adata_merge_exc.obs.loc[qry.obs.index, 'gated_pred_subclass'] = np.where(ps < 0.98, max_pred, 'NA')"
   ]
  },
  {
   "cell_type": "code",
   "execution_count": null,
   "id": "d673ae7d-459f-4379-b2fc-d40b3b6ceac4",
   "metadata": {
    "tags": []
   },
   "outputs": [],
   "source": [
    "adata_merge_exc"
   ]
  },
  {
   "cell_type": "markdown",
   "id": "9610bb26-2f0d-473b-9568-e6d46988d577",
   "metadata": {},
   "source": [
    "# Inh"
   ]
  },
  {
   "cell_type": "code",
   "execution_count": null,
   "id": "05c55453-13a3-46e3-bb77-abfb827fe4d2",
   "metadata": {
    "tags": []
   },
   "outputs": [],
   "source": [
    "# rename\n",
    "def rename_inh_subclass(old):\n",
    "    \"\"\"\n",
    "    \"\"\"\n",
    "    rename_dict = {\n",
    "        'Stac': 'Vip',\n",
    "        'Frem1': 'Sncg',\n",
    "    }\n",
    "    \n",
    "    if old in rename_dict.keys():\n",
    "        new = rename_dict[old]\n",
    "    else:\n",
    "        new = old\n",
    "    return new\n",
    "\n",
    "adata_merge_inh.obs['Subclass_new'] = adata_merge_inh.obs['Subclass'].apply(rename_inh_subclass)"
   ]
  },
  {
   "cell_type": "code",
   "execution_count": null,
   "id": "8ae6a8f5-5c92-47d1-9f68-8fadf533adc0",
   "metadata": {
    "tags": []
   },
   "outputs": [],
   "source": [
    "# # label transfer from RNA data\n",
    "ref = adata_merge_inh[adata_merge_inh.obs['modality']=='rna'].copy()\n",
    "qry = adata_merge_inh[adata_merge_inh.obs['modality']=='merfish'].copy()\n",
    "\n",
    "all_emb = adata_merge_inh.obsm['X_pca_harmony']\n",
    "ref_emb = ref.obsm['X_pca_harmony']\n",
    "qry_emb = qry.obsm['X_pca_harmony']\n",
    "\n",
    "ref_lbl = ref.obs['Subclass_new'].values.astype(str) # res_nr['type'].values.astype(str)\n",
    "print(np.unique(ref_lbl))\n",
    "\n",
    "k = 30\n",
    "max_pred, _, dists = neighbor_label_transfer(k, ref_emb, qry_emb, ref_lbl, p_cutoff=0.5, dist_cutoff=None)\n",
    "ps = neighbor_self_nonself(k, ref_emb, qry_emb)\n",
    "\n",
    "adata_merge_inh.obs['max_pred_subclass'] = 'NA' \n",
    "adata_merge_inh.obs['frac_self_neighbors_subclass'] = np.nan # 'NA'\n",
    "adata_merge_inh.obs['gated_pred_subclass'] = 'NA'\n",
    "\n",
    "adata_merge_inh.obs.loc[qry.obs.index, 'max_pred_subclass'] = max_pred\n",
    "adata_merge_inh.obs.loc[qry.obs.index, 'frac_self_neighbors_subclass'] = ps\n",
    "adata_merge_inh.obs.loc[qry.obs.index, 'gated_pred_subclass'] = np.where(ps < 0.98, max_pred, 'NA')"
   ]
  },
  {
   "cell_type": "code",
   "execution_count": null,
   "id": "b6583873-ebe3-43bf-a124-22508b21fa9a",
   "metadata": {
    "tags": []
   },
   "outputs": [],
   "source": [
    "adata_merge_inh"
   ]
  },
  {
   "cell_type": "code",
   "execution_count": null,
   "id": "9f043194-647a-4566-a098-2023a623a7d9",
   "metadata": {},
   "outputs": [],
   "source": []
  },
  {
   "cell_type": "code",
   "execution_count": null,
   "id": "ae8aa496-1473-4fae-84b5-42669df39e4f",
   "metadata": {},
   "outputs": [],
   "source": []
  },
  {
   "cell_type": "markdown",
   "id": "7f97dc74-d086-462a-9472-2b856de3336a",
   "metadata": {},
   "source": [
    "# save L2/3 only"
   ]
  },
  {
   "cell_type": "code",
   "execution_count": null,
   "id": "0c36a96f-237b-40a7-8c8d-febbb1f2edb8",
   "metadata": {
    "tags": []
   },
   "outputs": [],
   "source": [
    "# adata_merge_exc = adata_merge[adata_merge.\n",
    "cond = np.logical_or(adata_merge_exc.obs['Subclass'] == 'L2/3', \n",
    "                     adata_merge_exc.obs['gated_pred_subclass'] == 'L2/3',\n",
    "                     )\n",
    "adata_merge_l23exc = adata_merge_exc[cond].copy()\n",
    "adata_merge_l23exc"
   ]
  },
  {
   "cell_type": "code",
   "execution_count": null,
   "id": "36610753-31a0-4b53-b24d-fe4965c8d340",
   "metadata": {
    "tags": []
   },
   "outputs": [],
   "source": [
    "adata_merge_exc.write(fout2)\n",
    "adata_merge_l23exc.write(fout3)\n",
    "adata_merge_inh.write(fout4)"
   ]
  }
 ],
 "metadata": {
  "kernelspec": {
   "display_name": "napari",
   "language": "python",
   "name": "napari"
  },
  "language_info": {
   "codemirror_mode": {
    "name": "ipython",
    "version": 3
   },
   "file_extension": ".py",
   "mimetype": "text/x-python",
   "name": "python",
   "nbconvert_exporter": "python",
   "pygments_lexer": "ipython3",
   "version": "3.9.16"
  }
 },
 "nbformat": 4,
 "nbformat_minor": 5
}
