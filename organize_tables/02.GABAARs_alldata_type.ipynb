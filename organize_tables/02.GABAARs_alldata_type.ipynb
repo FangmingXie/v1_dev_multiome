{
 "cells": [
  {
   "cell_type": "code",
   "execution_count": 1,
   "id": "a25c0e99-4b83-4b1f-85d0-b844e50c75ea",
   "metadata": {
    "tags": []
   },
   "outputs": [],
   "source": [
    "import numpy as np\n",
    "import pandas as pd\n",
    "import os\n",
    "import glob\n",
    "import itertools\n",
    "import scanpy as sc\n",
    "import natsort\n",
    "\n",
    "from scroutines import basicu"
   ]
  },
  {
   "cell_type": "code",
   "execution_count": 2,
   "id": "7ee158dc-724b-4f04-b05c-dca650a5d836",
   "metadata": {
    "tags": []
   },
   "outputs": [
    {
     "data": {
      "text/plain": [
       "19"
      ]
     },
     "execution_count": 2,
     "metadata": {},
     "output_type": "execute_result"
    }
   ],
   "source": [
    "selected_genes = [\n",
    "    \"Gabra1\",\n",
    "    \"Gabra2\",\n",
    "    \"Gabra3\",\n",
    "    \"Gabra4\",\n",
    "    \"Gabra5\",\n",
    "    \"Gabra6\",\n",
    "    \"Gabrg1\",\n",
    "    \"Gabrg2\",\n",
    "    \"Gabrg3\",\n",
    "    \"Gabrb1\",\n",
    "    \"Gabrb2\",\n",
    "    \"Gabrb3\",\n",
    "    \"Gabrd\",    \n",
    "    \"Gabre\",    \n",
    "    \"Gabrp\",    \n",
    "    \"Gabrq\",    \n",
    "    \"Gabrr1\",\n",
    "    \"Gabrr2\",\n",
    "    \"Gabrr3\",\n",
    "]\n",
    "len(selected_genes)"
   ]
  },
  {
   "cell_type": "code",
   "execution_count": 3,
   "id": "468734e1-9b51-4441-bbae-0e9aa690da75",
   "metadata": {
    "tags": []
   },
   "outputs": [],
   "source": [
    "ddir = '/u/home/f/f7xiesnm/project-zipursky/v1-bb/v1/data/cheng21_cell_scrna/organized'\n",
    "outdir = '/u/home/f/f7xiesnm/project-zipursky/v1-bb/v1/results/GABAARs'\n",
    "!mkdir -p $outdir"
   ]
  },
  {
   "cell_type": "code",
   "execution_count": 5,
   "id": "09d57655-c050-4842-a623-8fd8cac63496",
   "metadata": {
    "tags": []
   },
   "outputs": [
    {
     "name": "stdout",
     "output_type": "stream",
     "text": [
      "/u/home/f/f7xiesnm/project-zipursky/v1-bb/v1/data/cheng21_cell_scrna/organized/P8NR.h5ad\n",
      "(2, 38, 53801)\n",
      "(2, 38, 19)\n",
      "P8_1 /u/home/f/f7xiesnm/project-zipursky/v1-bb/v1/results/GABAARs/GABARRs_cheng22_type_CPM_P8_1.csv\n",
      "P8_2 /u/home/f/f7xiesnm/project-zipursky/v1-bb/v1/results/GABAARs/GABARRs_cheng22_type_CPM_P8_2.csv\n",
      "/u/home/f/f7xiesnm/project-zipursky/v1-bb/v1/data/cheng21_cell_scrna/organized/P14NR.h5ad\n",
      "(2, 40, 53801)\n",
      "(2, 40, 19)\n",
      "P14_1 /u/home/f/f7xiesnm/project-zipursky/v1-bb/v1/results/GABAARs/GABARRs_cheng22_type_CPM_P14_1.csv\n",
      "P14_2 /u/home/f/f7xiesnm/project-zipursky/v1-bb/v1/results/GABAARs/GABARRs_cheng22_type_CPM_P14_2.csv\n",
      "/u/home/f/f7xiesnm/project-zipursky/v1-bb/v1/data/cheng21_cell_scrna/organized/P17NR.h5ad\n",
      "(2, 41, 53801)\n",
      "(2, 41, 19)\n",
      "P17_1 /u/home/f/f7xiesnm/project-zipursky/v1-bb/v1/results/GABAARs/GABARRs_cheng22_type_CPM_P17_1.csv\n",
      "P17_2 /u/home/f/f7xiesnm/project-zipursky/v1-bb/v1/results/GABAARs/GABARRs_cheng22_type_CPM_P17_2.csv\n",
      "/u/home/f/f7xiesnm/project-zipursky/v1-bb/v1/data/cheng21_cell_scrna/organized/P21NR.h5ad\n",
      "(2, 42, 53801)\n",
      "(2, 42, 19)\n",
      "P21_1 /u/home/f/f7xiesnm/project-zipursky/v1-bb/v1/results/GABAARs/GABARRs_cheng22_type_CPM_P21_1.csv\n",
      "P21_2 /u/home/f/f7xiesnm/project-zipursky/v1-bb/v1/results/GABAARs/GABARRs_cheng22_type_CPM_P21_2.csv\n",
      "/u/home/f/f7xiesnm/project-zipursky/v1-bb/v1/data/cheng21_cell_scrna/organized/P28DL.h5ad\n",
      "(2, 41, 53801)\n",
      "(2, 41, 19)\n",
      "P28_dl_1 /u/home/f/f7xiesnm/project-zipursky/v1-bb/v1/results/GABAARs/GABARRs_cheng22_type_CPM_P28_dl_1.csv\n",
      "P28_dl_2 /u/home/f/f7xiesnm/project-zipursky/v1-bb/v1/results/GABAARs/GABARRs_cheng22_type_CPM_P28_dl_2.csv\n",
      "/u/home/f/f7xiesnm/project-zipursky/v1-bb/v1/data/cheng21_cell_scrna/organized/P28DR.h5ad\n",
      "(2, 42, 53801)\n",
      "(2, 42, 19)\n",
      "P28_dr_1 /u/home/f/f7xiesnm/project-zipursky/v1-bb/v1/results/GABAARs/GABARRs_cheng22_type_CPM_P28_dr_1.csv\n",
      "P28_dr_3 /u/home/f/f7xiesnm/project-zipursky/v1-bb/v1/results/GABAARs/GABARRs_cheng22_type_CPM_P28_dr_3.csv\n",
      "/u/home/f/f7xiesnm/project-zipursky/v1-bb/v1/data/cheng21_cell_scrna/organized/P28NR.h5ad\n",
      "(2, 42, 53801)\n",
      "(2, 42, 19)\n",
      "P28_1 /u/home/f/f7xiesnm/project-zipursky/v1-bb/v1/results/GABAARs/GABARRs_cheng22_type_CPM_P28_1.csv\n",
      "P28_2 /u/home/f/f7xiesnm/project-zipursky/v1-bb/v1/results/GABAARs/GABARRs_cheng22_type_CPM_P28_2.csv\n",
      "/u/home/f/f7xiesnm/project-zipursky/v1-bb/v1/data/cheng21_cell_scrna/organized/P38DR.h5ad\n",
      "(2, 42, 53801)\n",
      "(2, 42, 19)\n",
      "P38_dr_1 /u/home/f/f7xiesnm/project-zipursky/v1-bb/v1/results/GABAARs/GABARRs_cheng22_type_CPM_P38_dr_1.csv\n",
      "P38_dr_2 /u/home/f/f7xiesnm/project-zipursky/v1-bb/v1/results/GABAARs/GABARRs_cheng22_type_CPM_P38_dr_2.csv\n",
      "/u/home/f/f7xiesnm/project-zipursky/v1-bb/v1/data/cheng21_cell_scrna/organized/P38NR.h5ad\n",
      "(2, 42, 53801)\n",
      "(2, 42, 19)\n",
      "P38_1 /u/home/f/f7xiesnm/project-zipursky/v1-bb/v1/results/GABAARs/GABARRs_cheng22_type_CPM_P38_1.csv\n",
      "P38_2 /u/home/f/f7xiesnm/project-zipursky/v1-bb/v1/results/GABAARs/GABARRs_cheng22_type_CPM_P38_2.csv\n"
     ]
    }
   ],
   "source": [
    "### read in the file and prep\n",
    "\n",
    "for f in natsort.natsorted(glob.glob(ddir+'/*.h5ad')):\n",
    "    print(f)\n",
    "\n",
    "    adata = sc.read(f)\n",
    "    adata.obs['biosample'] = adata.obs['sample'].apply(lambda x: x[:-1])\n",
    "    selected_genes_idx = basicu.get_index_from_array(adata.var.index.values, selected_genes)\n",
    "    assert np.any(selected_genes_idx != -1)\n",
    "\n",
    "    ### sum over counts \n",
    "    # by sample\n",
    "    sample_lbls = adata.obs['biosample'].values\n",
    "    unq_samples = np.unique(sample_lbls)\n",
    "\n",
    "    # by type\n",
    "    type_lbls = adata.obs['Type'].values\n",
    "    unq_types = np.unique(type_lbls)\n",
    "\n",
    "    nr, nc, ng =  len(unq_samples), len(unq_types), len(adata.var)  #  rep, subclass, gene \n",
    "    tensor = np.zeros((nr, nc, ng))\n",
    "    print(tensor.shape)\n",
    "\n",
    "    for j, this_samp in enumerate(unq_samples):\n",
    "        for k, this_type in enumerate(unq_types):\n",
    "            selector = ((sample_lbls==this_samp) & (type_lbls==this_type))\n",
    "            tensor[j,k] = np.sum(np.array(adata[selector].X.todense()), axis=0) # raw reads sum over all cells\n",
    "\n",
    "    ### CPM  - per sample and subclass\n",
    "    # normalize it as CPM\n",
    "    tensor = (tensor/np.sum(tensor, axis=-1, keepdims=True))*1e6\n",
    "    # tensor = np.log10(1+tensor) \n",
    "\n",
    "    ### select GABARRs\n",
    "    subtensor = tensor[:,:,selected_genes_idx]\n",
    "    print(subtensor.shape)\n",
    "\n",
    "    ### save as csv (one per sample)\n",
    "    for i, this_samp in enumerate(unq_samples):\n",
    "        output = os.path.join(outdir, f'GABARRs_cheng22_type_CPM_{this_samp}.csv')\n",
    "        print(this_samp, output)\n",
    "\n",
    "        submat = subtensor[i]\n",
    "        subtensor_df = pd.DataFrame(submat, index=unq_types, columns=selected_genes)\n",
    "        subtensor_df.to_csv(output)\n",
    "        \n",
    "    # break\n",
    "    "
   ]
  },
  {
   "cell_type": "markdown",
   "id": "5c73f804-5ae3-4d99-8e05-e003ede579ea",
   "metadata": {},
   "source": [
    "# L2/3 using new types - A, AB, B, BC, C"
   ]
  },
  {
   "cell_type": "code",
   "execution_count": null,
   "id": "7071cc32-8626-4452-a0ca-32cc0a14a21b",
   "metadata": {},
   "outputs": [],
   "source": []
  },
  {
   "cell_type": "code",
   "execution_count": null,
   "id": "85dfa9fe-105f-4a05-820d-3d6fb54c3b76",
   "metadata": {},
   "outputs": [],
   "source": []
  },
  {
   "cell_type": "markdown",
   "id": "5799f7b4-4c74-4a9c-b3ec-b3202b1bb2d2",
   "metadata": {},
   "source": [
    "# Multiome data"
   ]
  },
  {
   "cell_type": "code",
   "execution_count": null,
   "id": "ae726f3a-fe5b-417d-b713-5a86d55d409c",
   "metadata": {},
   "outputs": [],
   "source": []
  }
 ],
 "metadata": {
  "kernelspec": {
   "display_name": "Python 3 (ipykernel)",
   "language": "python",
   "name": "python3"
  },
  "language_info": {
   "codemirror_mode": {
    "name": "ipython",
    "version": 3
   },
   "file_extension": ".py",
   "mimetype": "text/x-python",
   "name": "python",
   "nbconvert_exporter": "python",
   "pygments_lexer": "ipython3",
   "version": "3.9.16"
  }
 },
 "nbformat": 4,
 "nbformat_minor": 5
}
