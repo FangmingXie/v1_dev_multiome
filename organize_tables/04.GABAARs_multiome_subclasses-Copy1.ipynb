{
 "cells": [
  {
   "cell_type": "code",
   "execution_count": 1,
   "id": "3964a0b4-b92b-4e7a-a086-80618a3f8f6a",
   "metadata": {
    "tags": []
   },
   "outputs": [],
   "source": [
    "import numpy as np\n",
    "from natsort import natsorted\n",
    "import scanpy as sc"
   ]
  },
  {
   "cell_type": "code",
   "execution_count": 2,
   "id": "a25c0e99-4b83-4b1f-85d0-b844e50c75ea",
   "metadata": {
    "tags": []
   },
   "outputs": [],
   "source": [
    "import numpy as np\n",
    "import pandas as pd\n",
    "import os\n",
    "import glob\n",
    "import itertools\n",
    "import scanpy as sc\n",
    "import natsort\n",
    "\n",
    "from scroutines import basicu"
   ]
  },
  {
   "cell_type": "code",
   "execution_count": 3,
   "id": "7ee158dc-724b-4f04-b05c-dca650a5d836",
   "metadata": {
    "tags": []
   },
   "outputs": [
    {
     "data": {
      "text/plain": [
       "19"
      ]
     },
     "execution_count": 3,
     "metadata": {},
     "output_type": "execute_result"
    }
   ],
   "source": [
    "selected_genes = [\n",
    "    \"Gabra1\",\n",
    "    \"Gabra2\",\n",
    "    \"Gabra3\",\n",
    "    \"Gabra4\",\n",
    "    \"Gabra5\",\n",
    "    \"Gabra6\",\n",
    "    \"Gabrg1\",\n",
    "    \"Gabrg2\",\n",
    "    \"Gabrg3\",\n",
    "    \"Gabrb1\",\n",
    "    \"Gabrb2\",\n",
    "    \"Gabrb3\",\n",
    "    \"Gabrd\",    \n",
    "    \"Gabre\",    \n",
    "    \"Gabrp\",    \n",
    "    \"Gabrq\",    \n",
    "    \"Gabrr1\",\n",
    "    \"Gabrr2\",\n",
    "    \"Gabrr3\",\n",
    "]\n",
    "len(selected_genes)"
   ]
  },
  {
   "cell_type": "code",
   "execution_count": 4,
   "id": "468734e1-9b51-4441-bbae-0e9aa690da75",
   "metadata": {
    "tags": []
   },
   "outputs": [],
   "source": [
    "ddir = '/u/home/f/f7xiesnm/project-zipursky/v1-bb/v1/data/cheng21_cell_scrna/organized'\n",
    "outdir = '/u/home/f/f7xiesnm/project-zipursky/v1-bb/v1/results/GABAARs'\n",
    "!mkdir -p $outdir"
   ]
  },
  {
   "cell_type": "code",
   "execution_count": 5,
   "id": "4e459bf0-36b8-4779-bb5d-28a953ec45ae",
   "metadata": {
    "tags": []
   },
   "outputs": [
    {
     "name": "stdout",
     "output_type": "stream",
     "text": [
      "CPU times: user 1.69 s, sys: 22.6 s, total: 24.3 s\n",
      "Wall time: 3min\n"
     ]
    }
   ],
   "source": [
    "%%time\n",
    "\n",
    "f = '/u/home/f/f7xiesnm/project-zipursky/v1-bb/v1/data/v1_multiome/All-RNA_v5.h5ad'\n",
    "adata_all = sc.read(f)"
   ]
  },
  {
   "cell_type": "code",
   "execution_count": 6,
   "id": "46f7b0cc-5626-488a-83f3-6b8d7f207c90",
   "metadata": {
    "tags": []
   },
   "outputs": [
    {
     "name": "stdout",
     "output_type": "stream",
     "text": [
      "25\n",
      "['P6a', 'P6b', 'P6c', 'P8a', 'P8b', 'P8c', 'P10a', 'P10b', 'P12DRa', 'P12DRb', 'P12a', 'P12b', 'P12c', 'P14DRa', 'P14DRb', 'P14a', 'P14b', 'P17DRa', 'P17DRb', 'P17a', 'P17b', 'P21DRa', 'P21DRb', 'P21a', 'P21b']\n"
     ]
    }
   ],
   "source": [
    "unq_samples = natsorted(adata_all.obs['Sample'].unique())\n",
    "print(len(unq_samples))\n",
    "print(unq_samples) "
   ]
  },
  {
   "cell_type": "code",
   "execution_count": 7,
   "id": "2b8e07ea-813a-4504-a0ee-887292e154bb",
   "metadata": {},
   "outputs": [],
   "source": [
    "selected_genes_idx = basicu.get_index_from_array(adata_all.var.index.values, selected_genes)\n",
    "assert np.any(selected_genes_idx != -1)"
   ]
  },
  {
   "cell_type": "code",
   "execution_count": 8,
   "id": "09d57655-c050-4842-a623-8fd8cac63496",
   "metadata": {
    "tags": []
   },
   "outputs": [
    {
     "name": "stdout",
     "output_type": "stream",
     "text": [
      "(19, 20124)\n",
      "(19, 19)\n",
      "P6a /u/home/f/f7xiesnm/project-zipursky/v1-bb/v1/results/GABAARs/GABARRs_Jain_multiome_subclass_CPM_P6a.csv\n",
      "(19, 20124)\n",
      "(19, 19)\n",
      "P6b /u/home/f/f7xiesnm/project-zipursky/v1-bb/v1/results/GABAARs/GABARRs_Jain_multiome_subclass_CPM_P6b.csv\n",
      "(20, 20124)\n",
      "(20, 19)\n",
      "P6c /u/home/f/f7xiesnm/project-zipursky/v1-bb/v1/results/GABAARs/GABARRs_Jain_multiome_subclass_CPM_P6c.csv\n",
      "(19, 20124)\n",
      "(19, 19)\n",
      "P8a /u/home/f/f7xiesnm/project-zipursky/v1-bb/v1/results/GABAARs/GABARRs_Jain_multiome_subclass_CPM_P8a.csv\n",
      "(20, 20124)\n",
      "(20, 19)\n",
      "P8b /u/home/f/f7xiesnm/project-zipursky/v1-bb/v1/results/GABAARs/GABARRs_Jain_multiome_subclass_CPM_P8b.csv\n",
      "(20, 20124)\n",
      "(20, 19)\n",
      "P8c /u/home/f/f7xiesnm/project-zipursky/v1-bb/v1/results/GABAARs/GABARRs_Jain_multiome_subclass_CPM_P8c.csv\n",
      "(21, 20124)\n",
      "(21, 19)\n",
      "P10a /u/home/f/f7xiesnm/project-zipursky/v1-bb/v1/results/GABAARs/GABARRs_Jain_multiome_subclass_CPM_P10a.csv\n",
      "(21, 20124)\n",
      "(21, 19)\n",
      "P10b /u/home/f/f7xiesnm/project-zipursky/v1-bb/v1/results/GABAARs/GABARRs_Jain_multiome_subclass_CPM_P10b.csv\n",
      "(21, 20124)\n",
      "(21, 19)\n",
      "P12DRa /u/home/f/f7xiesnm/project-zipursky/v1-bb/v1/results/GABAARs/GABARRs_Jain_multiome_subclass_CPM_P12DRa.csv\n",
      "(21, 20124)\n",
      "(21, 19)\n",
      "P12DRb /u/home/f/f7xiesnm/project-zipursky/v1-bb/v1/results/GABAARs/GABARRs_Jain_multiome_subclass_CPM_P12DRb.csv\n",
      "(21, 20124)\n",
      "(21, 19)\n",
      "P12a /u/home/f/f7xiesnm/project-zipursky/v1-bb/v1/results/GABAARs/GABARRs_Jain_multiome_subclass_CPM_P12a.csv\n",
      "(21, 20124)\n",
      "(21, 19)\n",
      "P12b /u/home/f/f7xiesnm/project-zipursky/v1-bb/v1/results/GABAARs/GABARRs_Jain_multiome_subclass_CPM_P12b.csv\n",
      "(21, 20124)\n",
      "(21, 19)\n",
      "P12c /u/home/f/f7xiesnm/project-zipursky/v1-bb/v1/results/GABAARs/GABARRs_Jain_multiome_subclass_CPM_P12c.csv\n",
      "(22, 20124)\n",
      "(22, 19)\n",
      "P14DRa /u/home/f/f7xiesnm/project-zipursky/v1-bb/v1/results/GABAARs/GABARRs_Jain_multiome_subclass_CPM_P14DRa.csv\n",
      "(22, 20124)\n",
      "(22, 19)\n",
      "P14DRb /u/home/f/f7xiesnm/project-zipursky/v1-bb/v1/results/GABAARs/GABARRs_Jain_multiome_subclass_CPM_P14DRb.csv\n",
      "(21, 20124)\n",
      "(21, 19)\n",
      "P14a /u/home/f/f7xiesnm/project-zipursky/v1-bb/v1/results/GABAARs/GABARRs_Jain_multiome_subclass_CPM_P14a.csv\n",
      "(21, 20124)\n",
      "(21, 19)\n",
      "P14b /u/home/f/f7xiesnm/project-zipursky/v1-bb/v1/results/GABAARs/GABARRs_Jain_multiome_subclass_CPM_P14b.csv\n",
      "(20, 20124)\n",
      "(20, 19)\n",
      "P17DRa /u/home/f/f7xiesnm/project-zipursky/v1-bb/v1/results/GABAARs/GABARRs_Jain_multiome_subclass_CPM_P17DRa.csv\n",
      "(20, 20124)\n",
      "(20, 19)\n",
      "P17DRb /u/home/f/f7xiesnm/project-zipursky/v1-bb/v1/results/GABAARs/GABARRs_Jain_multiome_subclass_CPM_P17DRb.csv\n",
      "(20, 20124)\n",
      "(20, 19)\n",
      "P17a /u/home/f/f7xiesnm/project-zipursky/v1-bb/v1/results/GABAARs/GABARRs_Jain_multiome_subclass_CPM_P17a.csv\n",
      "(20, 20124)\n",
      "(20, 19)\n",
      "P17b /u/home/f/f7xiesnm/project-zipursky/v1-bb/v1/results/GABAARs/GABARRs_Jain_multiome_subclass_CPM_P17b.csv\n",
      "(21, 20124)\n",
      "(21, 19)\n",
      "P21DRa /u/home/f/f7xiesnm/project-zipursky/v1-bb/v1/results/GABAARs/GABARRs_Jain_multiome_subclass_CPM_P21DRa.csv\n",
      "(21, 20124)\n",
      "(21, 19)\n",
      "P21DRb /u/home/f/f7xiesnm/project-zipursky/v1-bb/v1/results/GABAARs/GABARRs_Jain_multiome_subclass_CPM_P21DRb.csv\n",
      "(20, 20124)\n",
      "(20, 19)\n",
      "P21a /u/home/f/f7xiesnm/project-zipursky/v1-bb/v1/results/GABAARs/GABARRs_Jain_multiome_subclass_CPM_P21a.csv\n",
      "(20, 20124)\n",
      "(20, 19)\n",
      "P21b /u/home/f/f7xiesnm/project-zipursky/v1-bb/v1/results/GABAARs/GABARRs_Jain_multiome_subclass_CPM_P21b.csv\n"
     ]
    }
   ],
   "source": [
    "### read in the file and prep\n",
    "\n",
    "for i, this_samp in enumerate(unq_samples):\n",
    "    adata = adata_all[adata_all.obs['Sample']==this_samp]\n",
    "    \n",
    "    ### sum over counts \n",
    "    # by type\n",
    "    type_lbls = adata.obs['Subclass'].values\n",
    "    unq_types = np.unique(type_lbls)\n",
    "\n",
    "    nc, ng =  len(unq_types), len(adata.var)  #  rep, subclass, gene \n",
    "    mat = np.zeros((nc, ng))\n",
    "    print(mat.shape)\n",
    "\n",
    "    for k, this_type in enumerate(unq_types):\n",
    "        selector = (type_lbls==this_type)\n",
    "        mat[k] = np.sum(np.array(adata[selector].raw.X.todense()), axis=0) # raw reads sum over all cells\n",
    "\n",
    "    ### CPM  - per sample and subclass\n",
    "    # normalize it as CPM\n",
    "    mat = (mat/np.sum(mat, axis=-1, keepdims=True))*1e6\n",
    "\n",
    "    ### select GABARRs\n",
    "    submat = mat[:,selected_genes_idx]\n",
    "    print(submat.shape)\n",
    "\n",
    "    ### save as csv (one per sample)\n",
    "    output = os.path.join(outdir, f'GABARRs_Jain_multiome_subclass_CPM_{this_samp}.csv')\n",
    "    print(this_samp, output)\n",
    "\n",
    "    submat_df = pd.DataFrame(submat, index=unq_types, columns=selected_genes)\n",
    "    submat_df.to_csv(output)\n",
    "    \n",
    "    # break\n"
   ]
  },
  {
   "cell_type": "code",
   "execution_count": 9,
   "id": "70f89512-858e-4ec2-a2dd-2a22a52fce2b",
   "metadata": {
    "tags": []
   },
   "outputs": [
    {
     "data": {
      "text/html": [
       "<div>\n",
       "<style scoped>\n",
       "    .dataframe tbody tr th:only-of-type {\n",
       "        vertical-align: middle;\n",
       "    }\n",
       "\n",
       "    .dataframe tbody tr th {\n",
       "        vertical-align: top;\n",
       "    }\n",
       "\n",
       "    .dataframe thead th {\n",
       "        text-align: right;\n",
       "    }\n",
       "</style>\n",
       "<table border=\"1\" class=\"dataframe\">\n",
       "  <thead>\n",
       "    <tr style=\"text-align: right;\">\n",
       "      <th>Subclass</th>\n",
       "      <th>Astro</th>\n",
       "      <th>Endo</th>\n",
       "      <th>Frem1</th>\n",
       "      <th>L2/3</th>\n",
       "      <th>L4</th>\n",
       "      <th>L5IT</th>\n",
       "      <th>L5NP</th>\n",
       "      <th>L5PT</th>\n",
       "      <th>L6CT</th>\n",
       "      <th>L6IT</th>\n",
       "      <th>L6b</th>\n",
       "      <th>Lamp5</th>\n",
       "      <th>Micro</th>\n",
       "      <th>OD</th>\n",
       "      <th>OPC</th>\n",
       "      <th>Pvalb</th>\n",
       "      <th>Sst</th>\n",
       "      <th>Stac</th>\n",
       "      <th>VLMC</th>\n",
       "      <th>Vip</th>\n",
       "    </tr>\n",
       "    <tr>\n",
       "      <th>Sample</th>\n",
       "      <th></th>\n",
       "      <th></th>\n",
       "      <th></th>\n",
       "      <th></th>\n",
       "      <th></th>\n",
       "      <th></th>\n",
       "      <th></th>\n",
       "      <th></th>\n",
       "      <th></th>\n",
       "      <th></th>\n",
       "      <th></th>\n",
       "      <th></th>\n",
       "      <th></th>\n",
       "      <th></th>\n",
       "      <th></th>\n",
       "      <th></th>\n",
       "      <th></th>\n",
       "      <th></th>\n",
       "      <th></th>\n",
       "      <th></th>\n",
       "    </tr>\n",
       "  </thead>\n",
       "  <tbody>\n",
       "    <tr>\n",
       "      <th>P21b</th>\n",
       "      <td>428</td>\n",
       "      <td>59</td>\n",
       "      <td>20</td>\n",
       "      <td>1020</td>\n",
       "      <td>994</td>\n",
       "      <td>189</td>\n",
       "      <td>96</td>\n",
       "      <td>174</td>\n",
       "      <td>655</td>\n",
       "      <td>209</td>\n",
       "      <td>46</td>\n",
       "      <td>74</td>\n",
       "      <td>407</td>\n",
       "      <td>387</td>\n",
       "      <td>256</td>\n",
       "      <td>226</td>\n",
       "      <td>169</td>\n",
       "      <td>15</td>\n",
       "      <td>9</td>\n",
       "      <td>97</td>\n",
       "    </tr>\n",
       "  </tbody>\n",
       "</table>\n",
       "</div>"
      ],
      "text/plain": [
       "Subclass  Astro  Endo  Frem1  L2/3   L4  L5IT  L5NP  L5PT  L6CT  L6IT  L6b  \\\n",
       "Sample                                                                       \n",
       "P21b        428    59     20  1020  994   189    96   174   655   209   46   \n",
       "\n",
       "Subclass  Lamp5  Micro   OD  OPC  Pvalb  Sst  Stac  VLMC  Vip  \n",
       "Sample                                                         \n",
       "P21b         74    407  387  256    226  169    15     9   97  "
      ]
     },
     "execution_count": 9,
     "metadata": {},
     "output_type": "execute_result"
    }
   ],
   "source": [
    "adata.obs.groupby(['Sample', 'Subclass']).size().unstack()"
   ]
  },
  {
   "cell_type": "code",
   "execution_count": null,
   "id": "898b3ebc-2874-47a2-bfca-c5556151a547",
   "metadata": {},
   "outputs": [],
   "source": []
  }
 ],
 "metadata": {
  "kernelspec": {
   "display_name": "Python 3 (ipykernel)",
   "language": "python",
   "name": "python3"
  },
  "language_info": {
   "codemirror_mode": {
    "name": "ipython",
    "version": 3
   },
   "file_extension": ".py",
   "mimetype": "text/x-python",
   "name": "python",
   "nbconvert_exporter": "python",
   "pygments_lexer": "ipython3",
   "version": "3.9.16"
  }
 },
 "nbformat": 4,
 "nbformat_minor": 5
}
