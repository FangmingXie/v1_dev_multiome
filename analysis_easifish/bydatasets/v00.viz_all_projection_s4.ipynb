{
 "cells": [
  {
   "cell_type": "markdown",
   "id": "8c753145-1a59-480d-abb2-60f2fa3f416f",
   "metadata": {},
   "source": [
    "# Inputs\n",
    "---"
   ]
  },
  {
   "cell_type": "code",
   "execution_count": null,
   "id": "2b6aeb01",
   "metadata": {},
   "outputs": [],
   "source": [
    "import numpy as np, zarr, nrrd\n",
    "import os\n",
    "# alignment functions\n",
    "from bigstream.align import alignment_pipeline\n",
    "from bigstream.transform import apply_transform\n",
    "import tifffile\n",
    "\n",
    "import seaborn as sns\n",
    "import matplotlib.pyplot as plt"
   ]
  },
  {
   "cell_type": "code",
   "execution_count": null,
   "id": "f9e34109-0b59-441f-bb7a-2f75c90d30eb",
   "metadata": {
    "tags": []
   },
   "outputs": [],
   "source": [
    "p1      = '/u/home/f/f7xiesnm/project-zipursky/data/01_fused'\n",
    "p2      = '/u/home/f/f7xiesnm/project-zipursky/data/03_flatfused'\n",
    "outdir = '/u/home/f/f7xiesnm/project-zipursky/easifish/results/viz_all_projections_jan29'\n",
    "!mkdir -p $outdir"
   ]
  },
  {
   "cell_type": "code",
   "execution_count": null,
   "id": "1a7af7f6-f047-4f66-8e9d-43cfc2fc5922",
   "metadata": {
    "tags": []
   },
   "outputs": [],
   "source": [
    "# !rm -r $outdir"
   ]
  },
  {
   "cell_type": "code",
   "execution_count": null,
   "id": "8460a4e9-1d9b-41af-8f88-f7b0f29c3999",
   "metadata": {
    "tags": []
   },
   "outputs": [],
   "source": [
    "!ls $p1"
   ]
  },
  {
   "cell_type": "code",
   "execution_count": null,
   "id": "566b8d99-1c19-4043-ab1c-68742c6e7ab8",
   "metadata": {
    "tags": []
   },
   "outputs": [],
   "source": [
    "!ls $p2"
   ]
  },
  {
   "cell_type": "markdown",
   "id": "060aca49-8874-4f7c-8f00-91945062bea9",
   "metadata": {},
   "source": [
    "# raw"
   ]
  },
  {
   "cell_type": "code",
   "execution_count": null,
   "id": "4074c8c1-9d5a-4fd1-8a21-d382bcf4734c",
   "metadata": {
    "tags": []
   },
   "outputs": [],
   "source": [
    "datasets = [\n",
    "    # 'test2_r1',\n",
    "    # 'cdf03_c1-1_r1_autos1',\n",
    "    # 'cdf04_c1-1_r1_autos1',\n",
    "    \n",
    "    # 'cdf03_c1-2_bino_r1_autos1',\n",
    "    # 'cdf04_c1-2_bino_r1_autos1',\n",
    "    # 'lt186_r2_autos1'\n",
    "    # 'cdf03_c2-2_r1_autos1',\n",
    "    # 'cdf04_c2-2_r1_autos1',\n",
    "    # 'lt186_r1',\n",
    "    # 'lt185_r1',\n",
    "    # 'easi001_1_r1',\n",
    "    # 'easi001_2_r1',\n",
    "    # 'easi002_1_r1',\n",
    "    # 'easi002_2_r1',\n",
    "    # 'easi002_2_r2',\n",
    "    # 'cdf03_c3-2_r1',\n",
    "]\n",
    "\n",
    "for dataset in datasets:\n",
    "    path = p1 + f'/{dataset}_export.n5'\n",
    "    print(path)\n",
    "    assert os.path.exists(path)\n",
    "    \n",
    "    zarr_data = zarr.open(store=zarr.N5Store(path), mode='r')\n",
    "    for c in ['c0', 'c1', 'c2', 'c3', 'c4']:\n",
    "        try:\n",
    "            # img = zarr_data[f'/{c}/s4'] \n",
    "            img = zarr_data[f'/{c}/s3'] # for autos1 sample s3 is s4\n",
    "            print(img.shape)\n",
    "            print(np.max(img), np.min(img))\n",
    "            output = outdir+f'/{dataset}_{c}_s4.tiff'\n",
    "            print(output)\n",
    "            tifffile.imwrite(output, img)\n",
    "        except:\n",
    "            pass"
   ]
  },
  {
   "cell_type": "code",
   "execution_count": null,
   "id": "c172ee6c-c706-4516-8ae8-465c3a6d69ac",
   "metadata": {},
   "outputs": [],
   "source": [
    "datasets = [\n",
    "    'cdfv1_c1-2_r1_REDO_autos1_flatfused',\n",
    "    'cdfv0_c1-2_r1_REDO_autos1_flatfused',\n",
    "    \n",
    "    # 'cdfv1_c2-1_r1_autos1_flatfused',\n",
    "    # 'cdfv0_c1-1_r1_autos1_flatfused',\n",
    "    # 'cdfv1_c1-1_r1_autos1_flatfused',\n",
    "    # 'cdfv1_c1-3_r1_autos1_flatfused',\n",
    "    # 'cdfv1_c2-2_r1_autos1_flatfused',\n",
    "    \n",
    "    # 'lt186_r1_autos1_flatfused',\n",
    "    # 'lt185_r1_autos1_flatfused',\n",
    "    \n",
    "    # 'cdfv0_c2-2_r1_autos1_flatfused',\n",
    "    # 'cdfv1_c2-1_r1_autos1_flatfused',\n",
    "    \n",
    "    # 'cdfv0_c1-2_r1_autos1_flatfused',\n",
    "    # 'cdfv1_c1-2_r1_autos1_flatfused',\n",
    "    # 'cdfv1_c1-2_r2_autos1_flatfused',\n",
    "    # 'test2_r1_autos1_flatfused',\n",
    "    # 'cdf03_c1-2_bino_r1_autos1_flatfused',\n",
    "    # 'cdf04_c1-2_bino_r1_autos1_flatfused',\n",
    "    \n",
    "    # 'lt186_r2_autos1_flatfused'\n",
    "    # 'cdf03_c2-2_r1_autos1',\n",
    "    # 'cdf04_c2-2_r1_autos1',\n",
    "    # 'lt186_r1',\n",
    "    # 'lt185_r1',\n",
    "    # 'easi001_1_r1',\n",
    "    # 'easi001_2_r1',\n",
    "    # 'easi002_1_r1',\n",
    "    # 'easi002_2_r1',\n",
    "    # 'easi002_2_r2',\n",
    "    # 'cdf03_c3-2_r1',\n",
    "]\n",
    "\n",
    "for dataset in datasets:\n",
    "    path = p2 + f'/{dataset}.n5'\n",
    "    assert os.path.exists(path)\n",
    "    \n",
    "    zarr_data = zarr.open(store=zarr.N5Store(path), mode='r')\n",
    "    for c in ['c0', 'c1', 'c2', 'c3', 'c4']:\n",
    "    # for c in [ 'c4']:\n",
    "        try:\n",
    "            # img = zarr_data[f'/{c}/s4'] \n",
    "            img = zarr_data[f'/{c}/s4'] # for autos1 sample that are modified s4 is s4\n",
    "            print(img.shape)\n",
    "            print(np.max(img), np.min(img))\n",
    "            output = outdir+f'/{dataset}_{c}_s4.tiff'\n",
    "            print(output)\n",
    "            tifffile.imwrite(output, img)\n",
    "        except:\n",
    "            pass"
   ]
  },
  {
   "cell_type": "code",
   "execution_count": null,
   "id": "274464a8-3952-4ea0-91aa-3fe999b92820",
   "metadata": {},
   "outputs": [],
   "source": []
  },
  {
   "cell_type": "markdown",
   "id": "466e23c3-a558-48c7-9d75-ea372e81c9d8",
   "metadata": {},
   "source": [
    "# Special"
   ]
  },
  {
   "cell_type": "code",
   "execution_count": null,
   "id": "70cd700e-efc2-4775-b723-461d7c4dc86d",
   "metadata": {},
   "outputs": [],
   "source": [
    "\n",
    "### Warped images\n",
    "\n",
    "# dataset = 'cdfv1_c1-2'\n",
    "# path = '/u/home/f/f7xiesnm/project-zipursky/easifish/cdfv1_c1-2/outputs/r2/registration/r2-to-r1/warped'\n",
    "# assert os.path.exists(path)\n",
    "\n",
    "# zarr_data = zarr.open(store=zarr.N5Store(path), mode='r')\n",
    "# for c in ['c1']:\n",
    "#     try:\n",
    "#         img = zarr_data[f'/{c}/s3'][::2,::2,::2] # for autos1 sample that are modified s4 is s4\n",
    "#         print(img.shape)\n",
    "#         print(np.max(img), np.min(img))\n",
    "#         output = outdir+f'/{dataset}_r2_autos1_flatfused_{c}_s4.tiff'\n",
    "#         print(output)\n",
    "#         tifffile.imwrite(output, img)\n",
    "#     except:\n",
    "#         pass"
   ]
  },
  {
   "cell_type": "code",
   "execution_count": null,
   "id": "6445a634-c29a-4f3f-9343-1711ec211c3d",
   "metadata": {},
   "outputs": [],
   "source": [
    "\n",
    "datasets = [\n",
    "    'cdfv1_c1-2_r1_REDO_autos1_flatfused',\n",
    "    'cdfv0_c1-2_r1_REDO_autos1_flatfused',\n",
    "    \n",
    "]\n",
    "\n",
    "# for dataset in datasets:\n",
    "#     path = p2 + f'/{dataset}.n5'\n",
    "#     assert os.path.exists(path)\n",
    "    \n",
    "#     zarr_data = zarr.open(store=zarr.N5Store(path), mode='r')\n",
    "#     for c in ['c0', 'c1', 'c2',]:\n",
    "#     # for c in [ 'c4']:\n",
    "#         try:\n",
    "#             # img = zarr_data[f'/{c}/s4'] # for autos1 sample that are modified s4 is s4\n",
    "#             img = zarr_data[f'/{c}/s1'][::8,::8,::8] # for autos1 sample that are modified s4 is s4\n",
    "#             print(img.shape)\n",
    "#             print(np.max(img), np.min(img))\n",
    "#             output = outdir+f'/{dataset}_{c}_s4.tiff'\n",
    "#             print(output)\n",
    "#             tifffile.imwrite(output, img)\n",
    "#         except:\n",
    "#             pass"
   ]
  },
  {
   "cell_type": "code",
   "execution_count": null,
   "id": "07afa7e5-3f13-4702-84e4-34adcc36da94",
   "metadata": {},
   "outputs": [],
   "source": []
  }
 ],
 "metadata": {
  "kernelspec": {
   "display_name": "napari",
   "language": "python",
   "name": "napari"
  },
  "language_info": {
   "codemirror_mode": {
    "name": "ipython",
    "version": 3
   },
   "file_extension": ".py",
   "mimetype": "text/x-python",
   "name": "python",
   "nbconvert_exporter": "python",
   "pygments_lexer": "ipython3",
   "version": "3.9.16"
  }
 },
 "nbformat": 4,
 "nbformat_minor": 5
}
