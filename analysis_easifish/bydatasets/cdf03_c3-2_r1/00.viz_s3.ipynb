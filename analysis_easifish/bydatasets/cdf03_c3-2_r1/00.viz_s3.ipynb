{
 "cells": [
  {
   "cell_type": "markdown",
   "id": "8c753145-1a59-480d-abb2-60f2fa3f416f",
   "metadata": {},
   "source": [
    "# Inputs\n",
    "---"
   ]
  },
  {
   "cell_type": "code",
   "execution_count": null,
   "id": "2b6aeb01",
   "metadata": {},
   "outputs": [],
   "source": [
    "import numpy as np, zarr, nrrd\n",
    "# alignment functions\n",
    "from bigstream.align import alignment_pipeline\n",
    "from bigstream.transform import apply_transform\n",
    "import tifffile\n",
    "\n",
    "import seaborn as sns\n",
    "import matplotlib.pyplot as plt"
   ]
  },
  {
   "cell_type": "code",
   "execution_count": null,
   "id": "f9e34109-0b59-441f-bb7a-2f75c90d30eb",
   "metadata": {
    "tags": []
   },
   "outputs": [],
   "source": [
    "p1      = '/u/home/f/f7xiesnm/project-zipursky/data/01_fused'\n",
    "p2      = '/u/home/f/f7xiesnm/project-zipursky/data/03_flatfused'\n",
    "outdir = '/u/home/f/f7xiesnm/project-zipursky/easifish/results/viz_cdf03-c3-2_r1_jan29'\n",
    "!mkdir -p $outdir"
   ]
  },
  {
   "cell_type": "code",
   "execution_count": null,
   "id": "1a7af7f6-f047-4f66-8e9d-43cfc2fc5922",
   "metadata": {
    "tags": []
   },
   "outputs": [],
   "source": [
    "# !rm -r $outdir"
   ]
  },
  {
   "cell_type": "code",
   "execution_count": null,
   "id": "8460a4e9-1d9b-41af-8f88-f7b0f29c3999",
   "metadata": {
    "tags": []
   },
   "outputs": [],
   "source": [
    "!ls $p1"
   ]
  },
  {
   "cell_type": "markdown",
   "id": "060aca49-8874-4f7c-8f00-91945062bea9",
   "metadata": {},
   "source": [
    "# raw"
   ]
  },
  {
   "cell_type": "code",
   "execution_count": null,
   "id": "4074c8c1-9d5a-4fd1-8a21-d382bcf4734c",
   "metadata": {
    "tags": []
   },
   "outputs": [],
   "source": [
    "r = 'r1'\n",
    "path = p1 + f'/cdf03_c3-2_r1.n5'\n",
    "zarr_data = zarr.open(store=zarr.N5Store(path), mode='r')\n",
    "for c in ['c0', 'c1', 'c2', 'c3', 'c4']:\n",
    "    img = zarr_data[f'/{c}/s4'] \n",
    "    print(img.shape)\n",
    "    print(np.max(img), np.min(img))\n",
    "    output = outdir+f'/{r}_{c}_s4.tiff'\n",
    "    print(output)\n",
    "    tifffile.imwrite(output, img)"
   ]
  },
  {
   "cell_type": "code",
   "execution_count": null,
   "id": "70cd700e-efc2-4775-b723-461d7c4dc86d",
   "metadata": {},
   "outputs": [],
   "source": []
  }
 ],
 "metadata": {
  "kernelspec": {
   "display_name": "napari",
   "language": "python",
   "name": "napari"
  },
  "language_info": {
   "codemirror_mode": {
    "name": "ipython",
    "version": 3
   },
   "file_extension": ".py",
   "mimetype": "text/x-python",
   "name": "python",
   "nbconvert_exporter": "python",
   "pygments_lexer": "ipython3",
   "version": "3.9.16"
  }
 },
 "nbformat": 4,
 "nbformat_minor": 5
}
