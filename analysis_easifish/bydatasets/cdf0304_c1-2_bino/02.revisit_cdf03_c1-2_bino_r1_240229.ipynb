{
 "cells": [
  {
   "cell_type": "code",
   "execution_count": null,
   "id": "d3a3b96c-7267-4ae6-aeab-9b6a3255d8cc",
   "metadata": {
    "tags": []
   },
   "outputs": [],
   "source": [
    "import os\n",
    "import numpy as np\n",
    "import pandas as pd\n",
    "from scroutines.config_plots import *"
   ]
  },
  {
   "cell_type": "code",
   "execution_count": null,
   "id": "691e6092-fce6-47d9-a717-91e589c43254",
   "metadata": {
    "tags": []
   },
   "outputs": [],
   "source": [
    "ddir = '/u/home/f/f7xiesnm/project-zipursky/easifish/cdf03_c1-2_bino/proc/r1-v1'\n",
    "!ls $ddir\n",
    "# n5dir = '/data/qlyu/v1/data/easifish/lt186/r1/stitching/export.n5'\n",
    "f1 = os.path.join(ddir, 'roi.csv')\n",
    "f2 = os.path.join(ddir, 'spotcount.csv') #_intn.csv')"
   ]
  },
  {
   "cell_type": "code",
   "execution_count": null,
   "id": "ed8b419f-696b-497b-a3c6-0f46eb050bff",
   "metadata": {
    "tags": []
   },
   "outputs": [],
   "source": [
    "def rot2d(x, y, theta):\n",
    "    \"\"\" rotate by theta\n",
    "    \"\"\"\n",
    "    theta_rad = theta/180*np.pi\n",
    "    R  = np.array([[np.cos(theta_rad), -np.sin(theta_rad),],\n",
    "                   [np.sin(theta_rad),  np.cos(theta_rad),],\n",
    "                  ])\n",
    "    xy = np.vstack([x,y])\n",
    "    xyr = R.dot(xy) \n",
    "    return xyr[0], xyr[1]\n"
   ]
  },
  {
   "cell_type": "code",
   "execution_count": null,
   "id": "168d6143-883b-45d1-9881-a0babeb41c6d",
   "metadata": {
    "tags": []
   },
   "outputs": [],
   "source": [
    "def plot_easifish_proj(df, x, y, hue='lbl_v2', na_rep='NA', invert_yaxis=False, figsize=(8,8)):\n",
    "    \n",
    "    fig, ax = plt.subplots(figsize=figsize)\n",
    "    sns.scatterplot(data=df, \n",
    "                    x=x, y=y, color='lightgray', s=2, edgecolor='none')\n",
    "    sns.scatterplot(data=df[df[hue]!=na_rep], \n",
    "                    x=x, y=y, hue=hue, palette=palette, s=5, edgecolor='none')\n",
    "    if invert_yaxis:\n",
    "        ax.invert_yaxis()\n",
    "        \n",
    "    ax.grid(False)\n",
    "    ax.set_aspect('equal')\n",
    "    ax.legend(bbox_to_anchor=(1,1))\n",
    "    plt.show()"
   ]
  },
  {
   "cell_type": "code",
   "execution_count": null,
   "id": "1246bfa1-72ba-48dd-b84c-aa1f7a1006ab",
   "metadata": {
    "tags": []
   },
   "outputs": [],
   "source": [
    "df1 = pd.read_csv(f1, index_col=0)\n",
    "df2 = pd.read_csv(f2, index_col=0)\n",
    "df  = df1.join(df2)"
   ]
  },
  {
   "cell_type": "code",
   "execution_count": null,
   "id": "69211ed4-09c7-4441-bc73-88324255d997",
   "metadata": {
    "tags": []
   },
   "outputs": [],
   "source": [
    "amin, amax = 500, 5000\n",
    "cond = ((df['area'] < amax) & (df['area'] > amin))\n",
    "df = df[cond]"
   ]
  },
  {
   "cell_type": "code",
   "execution_count": null,
   "id": "7d3853fc-da06-4c10-ba3a-298db82496ef",
   "metadata": {
    "tags": []
   },
   "outputs": [],
   "source": [
    "# cell level stats\n",
    "fig, axs = plt.subplots(1,4,figsize=(4*4,1*4))\n",
    "ax = axs[0]\n",
    "sns.histplot(df['x'].values, ax=ax)\n",
    "ax.set_xlabel('x')\n",
    "ax = axs[1]\n",
    "sns.histplot(df['y'].values, ax=ax)\n",
    "ax.set_xlabel('y')\n",
    "ax = axs[2]\n",
    "sns.histplot(df['z'].values, ax=ax)\n",
    "ax.set_xlabel('z')\n",
    "ax = axs[3]\n",
    "sns.histplot(df['area'].values, ax=ax)\n",
    "ax.set_xlabel('area')\n",
    "ax.axvline(amin)\n",
    "ax.axvline(amax)\n",
    "fig.tight_layout()\n",
    "plt.show()"
   ]
  },
  {
   "cell_type": "code",
   "execution_count": null,
   "id": "16626fb1-d6a5-493a-9a96-9b3c1df2a3df",
   "metadata": {
    "tags": []
   },
   "outputs": [],
   "source": [
    "df.describe()"
   ]
  },
  {
   "cell_type": "code",
   "execution_count": null,
   "id": "4ac977da-82f9-4cf7-8932-f4c88a4e295a",
   "metadata": {
    "tags": []
   },
   "outputs": [],
   "source": [
    "# from sklearn.decomposition import PCA\n",
    "# pca = PCA(n_components=3)\n",
    "# df[['xr', 'yr', 'zr']]= pca.fit_transform(df[['x', 'y', 'z']])"
   ]
  },
  {
   "cell_type": "code",
   "execution_count": null,
   "id": "a8bc9330-ea2d-4356-844e-b36b73c6b154",
   "metadata": {
    "tags": []
   },
   "outputs": [],
   "source": [
    "channels = [\n",
    "    'r1_c0',  'r1_c2',\n",
    "]\n",
    "genes = [\n",
    "    # 'RL (Cre)',\n",
    "    # 'LM (FlpO)',\n",
    "    'LM',\n",
    "    'RL',\n",
    "]\n",
    "\n",
    "def rename(code):\n",
    "    rename_dict = {\n",
    "        0: 'NA', \n",
    "        # 1: 'RL', \n",
    "        # 2: 'LM', \n",
    "        1: 'LM',\n",
    "        2: 'RL',\n",
    "        3: 'both'}\n",
    "    return rename_dict[code]\n",
    "\n",
    "df = df.copy()\n",
    "th_c0 = 32 \n",
    "th_c2 = 10 \n",
    "df['bi_r1_c0'] = df['r1_c0'] > th_c0 \n",
    "df['bi_r1_c2'] = df['r1_c2'] > th_c2 \n",
    "df['lbl'] = df['bi_r1_c0'].astype(int) + 2*df['bi_r1_c2'].astype(int)\n",
    "df['lbl_v2'] = df['lbl'].apply(rename)\n",
    "np.unique(df['lbl'].values)\n",
    "np.unique(df['lbl_v2'].values)"
   ]
  },
  {
   "cell_type": "code",
   "execution_count": null,
   "id": "f191cf0e-69e9-42e2-adff-1ee50684fe86",
   "metadata": {
    "tags": []
   },
   "outputs": [],
   "source": [
    "sns.color_palette('tab10', 10)"
   ]
  },
  {
   "cell_type": "code",
   "execution_count": null,
   "id": "a4c5bc96-3093-459f-88fe-24ff2e4725c9",
   "metadata": {
    "tags": []
   },
   "outputs": [],
   "source": [
    "palette = {\n",
    "    'NA': 'lightgray', \n",
    "    'LM': 'C3', \n",
    "    'RL': 'C0', \n",
    "    'both': 'C6', \n",
    "}"
   ]
  },
  {
   "cell_type": "code",
   "execution_count": null,
   "id": "6e7b7146-b01e-4b4a-a3e6-9d716ebca3b1",
   "metadata": {
    "tags": []
   },
   "outputs": [],
   "source": [
    "df.value_counts('lbl_v2')"
   ]
  },
  {
   "cell_type": "code",
   "execution_count": null,
   "id": "728c1b8a-9f23-46f7-b226-a9c115be7a70",
   "metadata": {
    "tags": []
   },
   "outputs": [],
   "source": [
    "a = df.value_counts('lbl_v2')\n",
    "print(a/len(df)*100, \"\\n\")\n",
    "\n",
    "print(f\"both in LM (%): {a.loc['both']/(a.loc['both']+a.loc['LM'])*100:.1f}\")\n",
    "print(f\"both in RL (%): {a.loc['both']/(a.loc['both']+a.loc['RL'])*100:.1f}\")\n",
    "print(f\"RL/LM (%): {(a.loc['both']+a.loc['RL'])/(a.loc['both']+a.loc['LM'])*100:.1f}\")"
   ]
  },
  {
   "cell_type": "code",
   "execution_count": null,
   "id": "6350a03d-08f6-4856-ba8b-7ebb36786860",
   "metadata": {
    "tags": []
   },
   "outputs": [],
   "source": [
    "fig, ax = plt.subplots(figsize=(3,4))\n",
    "df[df['lbl_v2']!='NA'].value_counts('lbl_v2').plot.bar(width=0.7, color='black')\n",
    "plt.show()"
   ]
  },
  {
   "cell_type": "code",
   "execution_count": null,
   "id": "f5798e2d-34a3-41c7-941a-8443076f3d25",
   "metadata": {
    "tags": []
   },
   "outputs": [],
   "source": [
    "plot_easifish_proj(df, 'x', 'y', invert_yaxis=True)\n",
    "plot_easifish_proj(df, 'x', 'z', invert_yaxis=True)\n",
    "plot_easifish_proj(df, 'y', 'z', invert_yaxis=True)"
   ]
  },
  {
   "cell_type": "code",
   "execution_count": null,
   "id": "53bacb77-2c69-49b6-a44d-4a1ec6c9483b",
   "metadata": {
    "tags": []
   },
   "outputs": [],
   "source": [
    "df['yr'] = df['y']\n",
    "df['xr'], df['zr'] = rot2d(df['x'], df['z'], 0)\n",
    "\n",
    "plot_easifish_proj(df, 'xr', 'yr', invert_yaxis=True)\n",
    "plot_easifish_proj(df, 'xr', 'zr', invert_yaxis=True)\n",
    "plot_easifish_proj(df, 'yr', 'zr', invert_yaxis=True)"
   ]
  },
  {
   "cell_type": "code",
   "execution_count": null,
   "id": "1fa02aca-4519-423d-a7f0-0f6cef3616e0",
   "metadata": {
    "tags": []
   },
   "outputs": [],
   "source": [
    "xmin, ymin, zmin = df[['xr', 'yr', 'zr']].min()\n",
    "xmax, ymax, zmax = df[['xr', 'yr', 'zr']].max()\n",
    "print(xmin, ymin, zmin)\n",
    "print(xmax, ymax, zmax)\n",
    "\n",
    "step = 25\n",
    "xbins = np.arange(0, xmax+step, step).astype(int)\n",
    "ybins = np.arange(0, ymax+step, step).astype(int)\n",
    "zbins = np.arange(0, zmax+step, step).astype(int)\n",
    "print(xbins, ybins, zbins, xbins.shape, ybins.shape, zbins.shape)\n",
    "\n",
    "df['xrbin'] = pd.cut(df['xr'], bins=xbins, labels=False) #.astype(int)\n",
    "df['yrbin'] = pd.cut(df['yr'], bins=ybins, labels=False)\n",
    "df['zrbin'] = pd.cut(df['zr'], bins=zbins, labels=False)\n",
    "df"
   ]
  },
  {
   "cell_type": "code",
   "execution_count": null,
   "id": "794124e2-9e82-4a0e-a383-b0662ed532c4",
   "metadata": {
    "tags": []
   },
   "outputs": [],
   "source": [
    "step = 50\n",
    "xbins2 = np.arange(0, xmax+step, step).astype(int)\n",
    "ybins2 = np.arange(0, ymax+step, step).astype(int)\n",
    "zbins2 = np.arange(0, zmax+step, step).astype(int)\n",
    "print(xbins2, ybins2, zbins2, xbins2.shape, ybins2.shape, zbins2.shape)\n",
    "\n",
    "df[f'xrbin_s{step}'] = pd.cut(df['xr'], bins=xbins2, labels=False) #.astype(int)\n",
    "df[f'yrbin_s{step}'] = pd.cut(df['yr'], bins=ybins2, labels=False)\n",
    "df[f'zrbin_s{step}'] = pd.cut(df['zr'], bins=zbins2, labels=False)"
   ]
  },
  {
   "cell_type": "code",
   "execution_count": null,
   "id": "627b861a-ca40-4536-bbf1-d2f8f17bd0a7",
   "metadata": {
    "tags": []
   },
   "outputs": [],
   "source": [
    "step = 100\n",
    "xbins3 = np.arange(0, xmax+step, step).astype(int)\n",
    "ybins3 = np.arange(0, ymax+step, step).astype(int)\n",
    "zbins3 = np.arange(0, zmax+step, step).astype(int)\n",
    "print(xbins3, ybins3, zbins3, xbins3.shape, ybins3.shape, zbins3.shape)\n",
    "\n",
    "df[f'xrbin_s{step}'] = pd.cut(df['xr'], bins=xbins3, labels=False) #.astype(int)\n",
    "df[f'yrbin_s{step}'] = pd.cut(df['yr'], bins=ybins3, labels=False)\n",
    "df[f'zrbin_s{step}'] = pd.cut(df['zr'], bins=zbins3, labels=False)"
   ]
  },
  {
   "cell_type": "code",
   "execution_count": null,
   "id": "0d3d018d-9c8c-4b65-8b63-a66988c293c4",
   "metadata": {},
   "outputs": [],
   "source": [
    "dfsize_x = df.groupby(['xrbin', 'lbl_v2']).size().unstack().fillna(0) #mean().unstack()\n",
    "dfsize_y = df.groupby(['yrbin', 'lbl_v2']).size().unstack().fillna(0) #mean().unstack()\n",
    "dfsize_z = df.groupby(['zrbin', 'lbl_v2']).size().unstack().fillna(0) #mean().unstack()\n",
    "\n"
   ]
  },
  {
   "cell_type": "code",
   "execution_count": null,
   "id": "4ae464ba-fc3b-4be3-bf37-199f747444f7",
   "metadata": {
    "tags": []
   },
   "outputs": [],
   "source": [
    "dfsize_s100 = df.groupby(['xrbin_s100', 'yrbin_s100',  'zrbin_s100', 'lbl_v2']).size() # .unstack().fillna(0) #mean().unstack()\n",
    "dfsize_s100"
   ]
  },
  {
   "cell_type": "code",
   "execution_count": null,
   "id": "365f07aa-4d30-45d6-b0d7-799e41f4e74a",
   "metadata": {
    "tags": []
   },
   "outputs": [],
   "source": [
    "\n",
    "# xz\n",
    "dfsize_xz1 = df[df['lbl_v2']=='LM'].groupby(['xrbin', 'zrbin']).size().unstack().fillna(0).astype(int) #mean().unstack()\n",
    "dfsize_xz1 = dfsize_xz1.reindex(np.arange(len(xbins))).T.reindex(np.arange(len(zbins))).T\n",
    "dfsize_xz1 = dfsize_xz1.fillna(0).astype(int)\n",
    "\n",
    "dfsize_xz2 = df[df['lbl_v2']=='RL'].groupby(['xrbin', 'zrbin']).size().unstack().fillna(0).astype(int) #mean().unstack()\n",
    "dfsize_xz2 = dfsize_xz2.reindex(np.arange(len(xbins))).T.reindex(np.arange(len(zbins))).T\n",
    "dfsize_xz2 = dfsize_xz2.fillna(0).astype(int)\n",
    "\n",
    "dfsize_xz3 = df[df['lbl_v2']=='both'].groupby(['xrbin', 'zrbin']).size().unstack().fillna(0).astype(int) #mean().unstack()\n",
    "dfsize_xz3 = dfsize_xz3.reindex(np.arange(len(xbins))).T.reindex(np.arange(len(zbins))).T\n",
    "dfsize_xz3 = dfsize_xz3.fillna(0).astype(int)\n",
    "\n",
    "# yz\n",
    "dfsize_yz1 = df[df['lbl_v2']=='LM'].groupby(['yrbin', 'zrbin']).size().unstack().fillna(0).astype(int) #mean().unstack()\n",
    "dfsize_yz1 = dfsize_yz1.reindex(np.arange(len(xbins))).T.reindex(np.arange(len(zbins))).T\n",
    "dfsize_yz1 = dfsize_yz1.fillna(0).astype(int)\n",
    "\n",
    "dfsize_yz2 = df[df['lbl_v2']=='RL'].groupby(['yrbin', 'zrbin']).size().unstack().fillna(0).astype(int) #mean().unstack()\n",
    "dfsize_yz2 = dfsize_yz2.reindex(np.arange(len(xbins))).T.reindex(np.arange(len(zbins))).T\n",
    "dfsize_yz2 = dfsize_yz2.fillna(0).astype(int)\n",
    "\n",
    "dfsize_yz3 = df[df['lbl_v2']=='both'].groupby(['yrbin', 'zrbin']).size().unstack().fillna(0).astype(int) #mean().unstack()\n",
    "dfsize_yz3 = dfsize_yz3.reindex(np.arange(len(xbins))).T.reindex(np.arange(len(zbins))).T\n",
    "dfsize_yz3 = dfsize_yz3.fillna(0).astype(int)\n",
    "\n",
    "# xy\n",
    "dfsize_xy1 = df[df['lbl_v2']=='LM'].groupby(['xrbin', 'yrbin']).size().unstack().fillna(0).astype(int) #mean().unstack()\n",
    "dfsize_xy1 = dfsize_xy1.reindex(np.arange(len(xbins))).T.reindex(np.arange(len(zbins))).T\n",
    "dfsize_xy1 = dfsize_xy1.fillna(0).astype(int)\n",
    "\n",
    "dfsize_xy2 = df[df['lbl_v2']=='RL'].groupby(['xrbin', 'yrbin']).size().unstack().fillna(0).astype(int) #mean().unstack()\n",
    "dfsize_xy2 = dfsize_xy2.reindex(np.arange(len(xbins))).T.reindex(np.arange(len(zbins))).T\n",
    "dfsize_xy2 = dfsize_xy2.fillna(0).astype(int)\n",
    "\n",
    "dfsize_xy3 = df[df['lbl_v2']=='both'].groupby(['xrbin', 'yrbin']).size().unstack().fillna(0).astype(int) #mean().unstack()\n",
    "dfsize_xy3 = dfsize_xy3.reindex(np.arange(len(xbins))).T.reindex(np.arange(len(zbins))).T\n",
    "dfsize_xy3 = dfsize_xy3.fillna(0).astype(int)"
   ]
  },
  {
   "cell_type": "code",
   "execution_count": null,
   "id": "3cba3115-1f3e-4ef6-ae9e-ef124f43adbb",
   "metadata": {
    "tags": []
   },
   "outputs": [],
   "source": [
    "fig, axs = plt.subplots(1,3,figsize=(3*5,1*4))\n",
    "ax = axs[0]\n",
    "ax.plot(dfsize_x['LM'], label='LM')\n",
    "ax.plot(dfsize_x['RL'], label='RL')\n",
    "ax.plot(dfsize_x['both'], label='both')\n",
    "ax.set_xlabel('x')\n",
    "ax.set_ylabel('Num cells')\n",
    "\n",
    "ax = axs[1]\n",
    "ax.plot(dfsize_y['LM'], label='LM')\n",
    "ax.plot(dfsize_y['RL'], label='RL')\n",
    "ax.plot(dfsize_y['both'], label='both')\n",
    "ax.set_xlabel('y')\n",
    "ax.set_ylabel('Num cells')\n",
    "\n",
    "ax = axs[2]\n",
    "ax.plot(dfsize_z['LM'], label='LM')\n",
    "ax.plot(dfsize_z['RL'], label='RL')\n",
    "ax.plot(dfsize_z['both'], label='both')\n",
    "ax.set_xlabel('z')\n",
    "ax.set_ylabel('Num cells')\n",
    "ax.legend()\n",
    "\n",
    "fig.tight_layout()"
   ]
  },
  {
   "cell_type": "code",
   "execution_count": null,
   "id": "6f2ecde5-488e-4d45-bf79-21c9f808afd0",
   "metadata": {
    "tags": []
   },
   "outputs": [],
   "source": [
    "total = dfsize_z.sum(axis=1)\n",
    "total_lbl = dfsize_z['LM']+dfsize_z['RL']+dfsize_z['both']\n",
    "\n",
    "fig, axs = plt.subplots(2,1,figsize=(1*6,2*3), sharex=True)\n",
    "ax = axs[0]\n",
    "ax.plot(zbins[dfsize_z.index], total, label='total', color='gray')\n",
    "ax.plot(zbins[dfsize_z.index], total_lbl, label='total lbl', color='k')\n",
    "sns.despine(ax=ax)\n",
    "ax.legend(bbox_to_anchor=(1,1))\n",
    "ax.set_xlabel('zr')\n",
    "ax.set_ylabel('num. cells')\n",
    "\n",
    "ax = axs[1]\n",
    "cond = total > 20\n",
    "ax.plot(zbins[dfsize_z.index][cond], (total_lbl/(total))[cond], color='k')\n",
    "sns.despine(ax=ax)\n",
    "ax.set_xlabel('zr')\n",
    "ax.set_ylabel('Frac. cells')\n",
    "\n",
    "fig, axs = plt.subplots(2,1,figsize=(1*6,2*3), sharex=True)\n",
    "ax = axs[0]\n",
    "ax.plot(zbins[dfsize_z.index], dfsize_z['LM'], label='LM only')\n",
    "ax.plot(zbins[dfsize_z.index], dfsize_z['RL'], label='RL only')\n",
    "ax.plot(zbins[dfsize_z.index], dfsize_z['both'], label='both')\n",
    "sns.despine(ax=ax)\n",
    "ax.set_xlabel('zr')\n",
    "ax.set_ylabel('num. cells')\n",
    "ax.legend(bbox_to_anchor=(1,1))\n",
    "\n",
    "ax = axs[1]\n",
    "cond = total_lbl > 20\n",
    "ax.plot(zbins[dfsize_z.index][cond], ((dfsize_z['LM'])/(total_lbl))[cond])\n",
    "ax.plot(zbins[dfsize_z.index][cond], ((dfsize_z['RL'])/(total_lbl))[cond])\n",
    "ax.plot(zbins[dfsize_z.index][cond], ((dfsize_z['both'])/(total_lbl))[cond])\n",
    "sns.despine(ax=ax)\n",
    "ax.set_xlabel('zr')\n",
    "ax.set_ylabel('Frac. labeled cells')"
   ]
  },
  {
   "cell_type": "code",
   "execution_count": null,
   "id": "c7ad7552-fe82-4986-936d-25f32c13c388",
   "metadata": {
    "tags": []
   },
   "outputs": [],
   "source": [
    "def plot_density_maps(dfsize_1, dfsize_2, dfsize_3):\n",
    "    fig, axs = plt.subplots(1,4,figsize=(4*6,1*5), sharex=True,sharey=True)\n",
    "    ax = axs[0]\n",
    "    sns.heatmap(dfsize_1.T, ax=ax, cmap='rocket_r', cbar_kws=dict(shrink=0.5))\n",
    "    ax.set_aspect('equal')\n",
    "    ax.set_title('LM')\n",
    "\n",
    "    ax = axs[1]\n",
    "    sns.heatmap(dfsize_2.T, ax=ax, cmap='rocket_r', cbar_kws=dict(shrink=0.5))\n",
    "    ax.set_aspect('equal')\n",
    "    ax.set_title('RL')\n",
    "\n",
    "    ax = axs[2]\n",
    "    sns.heatmap(dfsize_3.T, ax=ax, cmap='rocket_r', cbar_kws=dict(shrink=0.5))\n",
    "    ax.set_aspect('equal')\n",
    "    ax.set_title('both')\n",
    "\n",
    "    ax = axs[3]\n",
    "    sns.heatmap(np.log2((dfsize_1.T+1)/(dfsize_2.T+1)), \n",
    "                cmap='coolwarm', \n",
    "                center=0,\n",
    "                cbar_kws=dict(shrink=0.5)\n",
    "               )\n",
    "    ax.set_aspect('equal')\n",
    "    ax.set_title('log2(LM/RL)')\n",
    "    plt.show()"
   ]
  },
  {
   "cell_type": "code",
   "execution_count": null,
   "id": "a21ffa4f-131d-4004-be81-1d45dc3b75cd",
   "metadata": {
    "tags": []
   },
   "outputs": [],
   "source": [
    "plot_density_maps(dfsize_xz1, dfsize_xz2, dfsize_xz3)\n",
    "plot_density_maps(dfsize_yz1, dfsize_yz2, dfsize_yz3)\n",
    "plot_density_maps(dfsize_xy1, dfsize_xy2, dfsize_xy3)"
   ]
  },
  {
   "cell_type": "markdown",
   "id": "8ffe9d64-84bc-4b46-aaa9-83e11a418a4b",
   "metadata": {},
   "source": [
    "# at every x and y, compare z distribution"
   ]
  },
  {
   "cell_type": "code",
   "execution_count": null,
   "id": "2a9e4088-ad12-458e-8140-b5079c9c2c0d",
   "metadata": {
    "tags": []
   },
   "outputs": [],
   "source": [
    "# dfsub = df[df['zrbin'] == 8]\n",
    "# plot_easifish_proj(dfsub, 'xr', 'yr', invert_yaxis=True)\n",
    "# plot_easifish_proj(dfsub, 'xr', 'zr', invert_yaxis=True)\n",
    "# plot_easifish_proj(dfsub, 'yr', 'zr', invert_yaxis=True)"
   ]
  },
  {
   "cell_type": "code",
   "execution_count": null,
   "id": "a69d6baa-9a75-4434-9c9a-ebcbb9c55f68",
   "metadata": {
    "tags": []
   },
   "outputs": [],
   "source": [
    "# xy\n",
    "dfmean = df.groupby(['xrbin_s100', 'yrbin_s100', 'lbl_v2'])['zr'].mean().unstack().unstack() #.fillna(0).astype(int) #mean().unstack()"
   ]
  },
  {
   "cell_type": "code",
   "execution_count": null,
   "id": "1c173fd5-7d98-4b78-96ef-326baf2f5083",
   "metadata": {
    "tags": []
   },
   "outputs": [],
   "source": [
    "fig, axs = plt.subplots(1,5,figsize=(5*6,1*5))\n",
    "for category, ax in zip(['LM', 'RL', 'both', 'NA'], axs):\n",
    "    sns.heatmap(dfmean[category].T, \n",
    "                vmin=100, vmax=300, \n",
    "                cmap='rocket_r', cbar_kws=dict(shrink=0.3), \n",
    "                ax=ax)\n",
    "    # ax.invert_yaxis()\n",
    "    ax.set_aspect('equal')\n",
    "    ax.set_title(category)\n",
    "    ax.grid(False)\n",
    "    # ax.set_xticks([])\n",
    "    # ax.set_yticks([])\n",
    "ax = axs[4]\n",
    "sns.heatmap(dfmean['RL'].T-dfmean['LM'].T, \n",
    "            cmap='coolwarm', cbar_kws=dict(shrink=0.3), \n",
    "            center=0, vmax=100, vmin=-100,\n",
    "            ax=ax)\n",
    "# ax.invert_yaxis()\n",
    "ax.set_aspect('equal')\n",
    "ax.set_title('RL-LM')\n",
    "ax.grid(False)"
   ]
  },
  {
   "cell_type": "code",
   "execution_count": null,
   "id": "3937991b-0f3b-45bc-be87-45a779530eca",
   "metadata": {
    "tags": []
   },
   "outputs": [],
   "source": [
    "# xy\n",
    "dfsub = df[df['lbl_v2']!='NA'].copy()\n",
    "dfsubmean = dfsub.groupby(['xrbin_s100', 'yrbin_s100', 'lbl_v2'])['zr'].mean().unstack().unstack() #.fillna(0).astype(int) #mean().unstack()\n",
    "dfsubmeandiff = dfsubmean['RL']-dfsubmean['LM']\n",
    "\n",
    "\n",
    "dfsubmeandiff_shuffs = []\n",
    "n_rep = 1000\n",
    "for i in range(n_rep): \n",
    "    dfsub['lbl_v2_shuff'] = np.random.choice(dfsub['lbl_v2'].values, size=len(dfsub), replace=False)\n",
    "    dfsubmean_shuff = dfsub.groupby(['xrbin_s100', 'yrbin_s100', 'lbl_v2_shuff'])['zr'].mean().unstack().unstack() #.fillna(0).astype(int) #mean().unstack()\n",
    "    dfsubmeandiff_shuffs.append(dfsubmean_shuff['RL']-dfsubmean_shuff['LM'])\n",
    "dfsubmeandiff_shuffs = np.array(dfsubmeandiff_shuffs)\n",
    "    \n",
    "dfsubmeandiff_shuffmean = np.nanmean(dfsubmeandiff_shuffs, axis=0) # .shape\n",
    "\n",
    "# dfsubmeandiff_shuffstd = np.nanstd(dfsubmeandiff_shuffs, axis=0) # .shape\n",
    "# dfsubmeandiff_sigma = (dfsubmeandiff - dfsubmeandiff_shuffmean) /(dfsubmeandiff_shuffstd/np.sqrt(n_rep))"
   ]
  },
  {
   "cell_type": "code",
   "execution_count": null,
   "id": "acc96d63-a6b2-4bc2-8baa-66160a9f6914",
   "metadata": {
    "tags": []
   },
   "outputs": [],
   "source": [
    "dfsubmeandiff_shuffs.shape"
   ]
  },
  {
   "cell_type": "code",
   "execution_count": null,
   "id": "05b0a57f-bf1e-43a2-877d-3c8adb27b414",
   "metadata": {
    "tags": []
   },
   "outputs": [],
   "source": [
    "pvals = (1+np.sum(np.abs(dfsubmeandiff_shuffs) > np.abs(dfsubmeandiff.values[np.newaxis,:,:]), axis=0))/n_rep\n",
    "pvals"
   ]
  },
  {
   "cell_type": "code",
   "execution_count": null,
   "id": "9b419b77-fbe1-4616-b241-ee4589df6a54",
   "metadata": {
    "tags": []
   },
   "outputs": [],
   "source": [
    "fig, axs = plt.subplots(1,3,figsize=(3*6,1*5))\n",
    "ax = axs[0]\n",
    "sns.heatmap(dfsubmeandiff.T, \n",
    "            cmap='coolwarm', cbar_kws=dict(shrink=0.3), \n",
    "            center=0, vmax=100, vmin=-100,\n",
    "            ax=ax)\n",
    "# ax.invert_yaxis()\n",
    "ax.set_aspect('equal')\n",
    "ax.set_title('RL-LM (data)')\n",
    "\n",
    "ax = axs[1]\n",
    "sns.heatmap(dfsubmeandiff_shuffmean.T, \n",
    "            cmap='coolwarm', cbar_kws=dict(shrink=0.3), \n",
    "            center=0, \n",
    "            # vmax=100, vmin=-100,\n",
    "            ax=ax)\n",
    "# ax.invert_yaxis()\n",
    "ax.set_aspect('equal')\n",
    "ax.set_title('RL-LM (shuffled \\n mean over 1000 shuffles)')\n",
    "\n",
    "ax = axs[2]\n",
    "sns.heatmap(-np.log10(pvals).T, \n",
    "            cmap='rocket_r', cbar_kws=dict(shrink=0.3), \n",
    "            # center=0, \n",
    "            # vmax=100, vmin=-100,\n",
    "            ax=ax)\n",
    "# ax.invert_yaxis()\n",
    "ax.set_aspect('equal')\n",
    "ax.set_title('RL-LM (p-value)')\n",
    "ax.grid(False)"
   ]
  },
  {
   "cell_type": "code",
   "execution_count": null,
   "id": "03cf2bb6-ecc4-45ab-a0e3-0350f7690c38",
   "metadata": {},
   "outputs": [],
   "source": [
    "fig, ax = plt.subplots(1,1,figsize=(1*6,1*5))\n",
    "ax.scatter(dfsubmeandiff.T, -np.log10(pvals).T)\n",
    "ax.set_ylabel('-log10(p-value)')\n",
    "ax.set_xlabel('mean RL-LM in zr (um)')\n",
    "sns.despine(ax=ax)\n",
    "plt.show()\n",
    "\n",
    "# ax.grid(False)"
   ]
  },
  {
   "cell_type": "code",
   "execution_count": null,
   "id": "682ba1fe-f605-4156-b517-d13816a93538",
   "metadata": {},
   "outputs": [],
   "source": []
  },
  {
   "cell_type": "code",
   "execution_count": null,
   "id": "eab26f4c-7842-43dd-8925-890bd7f0b227",
   "metadata": {},
   "outputs": [],
   "source": []
  },
  {
   "cell_type": "code",
   "execution_count": null,
   "id": "37baefd7-add7-4027-9ec0-1cbd6ef31cde",
   "metadata": {},
   "outputs": [],
   "source": []
  },
  {
   "cell_type": "code",
   "execution_count": null,
   "id": "af7fa5c5-8a30-4b70-804a-e725f14ed26f",
   "metadata": {},
   "outputs": [],
   "source": []
  },
  {
   "cell_type": "code",
   "execution_count": null,
   "id": "91ad8601-2767-4787-9edc-577ff8a8e3bf",
   "metadata": {},
   "outputs": [],
   "source": []
  },
  {
   "cell_type": "code",
   "execution_count": null,
   "id": "233848bb-5f50-4bd0-b47d-596656603ca7",
   "metadata": {},
   "outputs": [],
   "source": []
  },
  {
   "cell_type": "code",
   "execution_count": null,
   "id": "8557f889-f1bc-4a94-a42c-14ebe6ae8f63",
   "metadata": {},
   "outputs": [],
   "source": []
  },
  {
   "cell_type": "code",
   "execution_count": null,
   "id": "225c5fa2-2814-48f4-8321-bc283239c1e5",
   "metadata": {},
   "outputs": [],
   "source": []
  },
  {
   "cell_type": "code",
   "execution_count": null,
   "id": "a79eaefd-aefe-4eb3-a0e5-4e87e0d456b2",
   "metadata": {},
   "outputs": [],
   "source": []
  },
  {
   "cell_type": "code",
   "execution_count": null,
   "id": "7199e9be-ab29-40c2-869d-fee2f34ed216",
   "metadata": {},
   "outputs": [],
   "source": []
  }
 ],
 "metadata": {
  "kernelspec": {
   "display_name": "Python 3 (ipykernel)",
   "language": "python",
   "name": "python3"
  },
  "language_info": {
   "codemirror_mode": {
    "name": "ipython",
    "version": 3
   },
   "file_extension": ".py",
   "mimetype": "text/x-python",
   "name": "python",
   "nbconvert_exporter": "python",
   "pygments_lexer": "ipython3",
   "version": "3.9.16"
  }
 },
 "nbformat": 4,
 "nbformat_minor": 5
}
