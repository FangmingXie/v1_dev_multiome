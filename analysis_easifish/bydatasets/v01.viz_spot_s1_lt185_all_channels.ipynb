{
 "cells": [
  {
   "cell_type": "markdown",
   "id": "8c753145-1a59-480d-abb2-60f2fa3f416f",
   "metadata": {},
   "source": [
    "# Inputs\n",
    "---"
   ]
  },
  {
   "cell_type": "code",
   "execution_count": null,
   "id": "2b6aeb01",
   "metadata": {},
   "outputs": [],
   "source": [
    "import numpy as np, zarr, nrrd\n",
    "import os\n",
    "# alignment functions\n",
    "from bigstream.align import alignment_pipeline\n",
    "from bigstream.transform import apply_transform\n",
    "import tifffile\n",
    "import time\n",
    "\n",
    "import seaborn as sns\n",
    "import matplotlib.pyplot as plt"
   ]
  },
  {
   "cell_type": "code",
   "execution_count": null,
   "id": "f9e34109-0b59-441f-bb7a-2f75c90d30eb",
   "metadata": {
    "tags": []
   },
   "outputs": [],
   "source": [
    "outdir = '/u/home/f/f7xiesnm/project-zipursky/easifish/results/viz_lt185_all_spots_channels'\n",
    "!mkdir -p $outdir"
   ]
  },
  {
   "cell_type": "markdown",
   "id": "060aca49-8874-4f7c-8f00-91945062bea9",
   "metadata": {},
   "source": [
    "# raw"
   ]
  },
  {
   "cell_type": "code",
   "execution_count": null,
   "id": "08dae79d-075b-4bd9-b12a-efb0389f2fd9",
   "metadata": {
    "tags": []
   },
   "outputs": [],
   "source": [
    "p0 = '/u/home/f/f7xiesnm/project-zipursky/easifish/lt185/outputs/'\n",
    "\n",
    "rc_list = [\n",
    "#     ('r1v3', 'c0', 'Cre (RL)'),\n",
    "#     ('r1v3', 'c2', 'FlpO (LM)'),\n",
    "    \n",
    "#     ('r2v3', 'c0', 'Sorcs3'),\n",
    "#     ('r2v3', 'c1', 'Kcnq5'),\n",
    "#     ('r2v3', 'c2', 'Chrm2'),\n",
    "#     ('r2v3', 'c4', 'Adamts2'),\n",
    "    \n",
    "#     ('r3v3', 'c0', 'Kcnip3'),\n",
    "#     ('r3v3', 'c1', 'Rorb'),\n",
    "#     ('r3v3', 'c2', 'Cdh13'),\n",
    "#     ('r3v3', 'c4', 'Cntn5'),\n",
    "    \n",
    "#     ('r4v3', 'c0', 'Cdh12'),\n",
    "#     ('r4v3', 'c1', 'Gria3'),\n",
    "#     ('r4v3', 'c2', 'Cntnap2'),\n",
    "#     ('r4v3', 'c4', 'Gabrg3'),\n",
    "    \n",
    "#     ('r6v3', 'c0', 'Ncam2'),\n",
    "#     ('r6v3', 'c1', 'Rfx3'),\n",
    "#     ('r6v3', 'c2', 'Epha10'),\n",
    "#     ('r6v3', 'c4', 'Baz1a'),\n",
    "    \n",
    "#     ('r7v3', 'c0', 'Kcnh5'),\n",
    "#     ('r7v3', 'c1', 'Slc17a7'),\n",
    "    ('r7v3', 'c2', 'Trpc6'),\n",
    "    ('r7v3', 'c4', 'Grm8'),\n",
    "]\n",
    "\n",
    "\n"
   ]
  },
  {
   "cell_type": "code",
   "execution_count": null,
   "id": "a8109990-9486-456a-8b86-82a25b18d805",
   "metadata": {},
   "outputs": [],
   "source": [
    "ti = time.time()\n",
    "for item in rc_list:\n",
    "    r, c, g = item\n",
    "    print(time.time()-ti)\n",
    "    path = os.path.join(p0, r, 'stitching', 'export.n5')\n",
    "    print(path)\n",
    "    \n",
    "    zarr_data = zarr.open(store=zarr.N5Store(path), mode='r')\n",
    "    img = zarr_data[f'/{c}/s1']\n",
    "    print(img.shape)\n",
    "    \n",
    "    img = img[500:2000, 1500:2500, 2000:3000]\n",
    "    print(img.shape)\n",
    "\n",
    "    output = outdir+f'/lt185_{r}_{c}_s1_{g}.tiff'\n",
    "    print(output)\n",
    "    tifffile.imwrite(output, img)\n",
    "        "
   ]
  },
  {
   "cell_type": "code",
   "execution_count": null,
   "id": "77ddfee9-5f95-40ad-9b18-3b4b48404e13",
   "metadata": {},
   "outputs": [],
   "source": []
  }
 ],
 "metadata": {
  "kernelspec": {
   "display_name": "napari",
   "language": "python",
   "name": "napari"
  },
  "language_info": {
   "codemirror_mode": {
    "name": "ipython",
    "version": 3
   },
   "file_extension": ".py",
   "mimetype": "text/x-python",
   "name": "python",
   "nbconvert_exporter": "python",
   "pygments_lexer": "ipython3",
   "version": "3.9.16"
  }
 },
 "nbformat": 4,
 "nbformat_minor": 5
}
