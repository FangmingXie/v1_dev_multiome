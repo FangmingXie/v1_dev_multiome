{
 "cells": [
  {
   "cell_type": "code",
   "execution_count": null,
   "id": "b3becb0f",
   "metadata": {
    "tags": []
   },
   "outputs": [],
   "source": [
    "import os, sys\n",
    "from os.path import abspath, dirname\n",
    "import zarr\n",
    "import z5py\n",
    "import numpy as np\n",
    "import pandas as pd\n",
    "from glob import glob \n",
    "from skimage.measure import regionprops\n",
    "from skimage.io import imread, imsave\n",
    "from scipy import stats\n",
    "from scipy.stats import skewnorm, lognorm\n",
    "from scipy.optimize import minimize\n",
    "import itertools\n",
    "import collections\n",
    "\n",
    "sys.path.append('../../')\n",
    "from easi_fish import n5_metadata_utils as n5mu\n",
    "from easi_fish import roi_prop, spot, intensity\n",
    "import warnings\n",
    "warnings.filterwarnings('ignore')\n",
    "\n",
    "import importlib\n",
    "importlib.reload(spot)\n",
    "importlib.reload(roi_prop)\n",
    "importlib.reload(intensity)"
   ]
  },
  {
   "cell_type": "code",
   "execution_count": null,
   "id": "3d8d47bc-7198-4dd5-9e7a-192c20214bf5",
   "metadata": {
    "tags": []
   },
   "outputs": [],
   "source": [
    "import matplotlib.pyplot as plt\n",
    "import seaborn as sns"
   ]
  },
  {
   "cell_type": "code",
   "execution_count": null,
   "id": "7bfea4a2-050a-4ae9-9b92-c030a5c7eadd",
   "metadata": {
    "tags": []
   },
   "outputs": [],
   "source": [
    "from IPython.display import set_matplotlib_formats\n",
    "set_matplotlib_formats('retina')\n",
    "\n",
    "sns.set_style('white', rc={'axes.grid':True})\n",
    "sns.set_context('talk')"
   ]
  },
  {
   "cell_type": "code",
   "execution_count": null,
   "id": "d3d89d9a",
   "metadata": {
    "tags": []
   },
   "outputs": [],
   "source": [
    "## input\n",
    "ddir = '/u/home/f/f7xiesnm/project-zipursky/easifish/'\n",
    "\n",
    "# spot dir for every gene\n",
    "# all Sorcs3 channel c0\n",
    "fx_spots1 = {\n",
    "    'lt172 (no flatfield)':      ddir+'lt172/outputs/r1/spots/spots_c0.txt',\n",
    "    'sparse06':        ddir+'/sparse06/outputs/r1_flatfield/v8/spots/spots_c0.txt',\n",
    "    'lt186':           ddir+'/lt186/outputs/r2v3/spots/spots_c0.txt',\n",
    "    'lt185':           ddir+'/lt185/outputs/r2v3/spots/spots_c0.txt',\n",
    "    'cdf03_c1-2_bino': ddir+'/cdf03_c1-2_bino/outputs/r3/spots/spots_c0.txt',\n",
    "    'cdf04_c1-2_bino': ddir+'/cdf04_c1-2_bino/outputs/r3/spots/spots_c0.txt',\n",
    "}\n",
    "\n",
    "fx_spots2 = {\n",
    "    'lt186 (r1c0)': ddir+'/lt186/outputs/r1v3/spots/spots_c0.txt',\n",
    "    'lt186 (r1c2)': ddir+'/lt186/outputs/r1v3/spots/spots_c2.txt',\n",
    "    \n",
    "    'lt186 (r2c0)': ddir+'/lt186/outputs/r2v3/spots/spots_c0.txt',\n",
    "    'lt186 (r2c1)': ddir+'/lt186/outputs/r2v3/spots/spots_c1.txt',\n",
    "    'lt186 (r2c2)': ddir+'/lt186/outputs/r2v3/spots/spots_c2.txt',\n",
    "    'lt186 (r2c4)': ddir+'/lt186/outputs/r2v3/spots/spots_c4.txt',\n",
    "    \n",
    "    'lt186 (r3c0)': ddir+'/lt186/outputs/r3v3/spots/spots_c0.txt',\n",
    "    'lt186 (r3c1)': ddir+'/lt186/outputs/r3v3/spots/spots_c1.txt',\n",
    "    'lt186 (r3c2)': ddir+'/lt186/outputs/r3v3/spots/spots_c2.txt',\n",
    "    'lt186 (r3c4)': ddir+'/lt186/outputs/r3v3/spots/spots_c4.txt',\n",
    "    \n",
    "    'lt186 (r4c0)': ddir+'/lt186/outputs/r4v3/spots/spots_c0.txt',\n",
    "    'lt186 (r4c1)': ddir+'/lt186/outputs/r4v3/spots/spots_c1.txt',\n",
    "    'lt186 (r4c2)': ddir+'/lt186/outputs/r4v3/spots/spots_c2.txt',\n",
    "    'lt186 (r4c4)': ddir+'/lt186/outputs/r4v3/spots/spots_c4.txt',\n",
    "    \n",
    "    'lt186 (r6c0)': ddir+'/lt186/outputs/r6v3/spots/spots_c0.txt',\n",
    "    'lt186 (r6c1)': ddir+'/lt186/outputs/r6v3/spots/spots_c1.txt',\n",
    "    'lt186 (r6c2)': ddir+'/lt186/outputs/r6v3/spots/spots_c2.txt',\n",
    "    'lt186 (r6c4)': ddir+'/lt186/outputs/r6v3/spots/spots_c4.txt',\n",
    "    \n",
    "    'lt186 (r7c0)': ddir+'/lt186/outputs/r7v3/spots/spots_c0.txt',\n",
    "    'lt186 (r7c1)': ddir+'/lt186/outputs/r7v3/spots/spots_c1.txt',\n",
    "    'lt186 (r7c2)': ddir+'/lt186/outputs/r7v3/spots/spots_c2.txt',\n",
    "    'lt186 (r7c4)': ddir+'/lt186/outputs/r7v3/spots/spots_c4.txt',\n",
    "}\n",
    "colors = {name: f'C{int(name.split(\"(\")[1][1])-1}' for name, file in fx_spots2.items()}\n",
    "print(colors)\n",
    "\n",
    "fx_spots3 = {\n",
    "    'cdf03 (r1c0)': ddir+'/cdf03_c1-2_bino/outputs/r1/spots/spots_c0.txt',\n",
    "    'cdf03 (r1c2)': ddir+'/cdf03_c1-2_bino/outputs/r1/spots/spots_c2.txt',\n",
    "    \n",
    "    'cdf03 (r3c0)': ddir+'/cdf03_c1-2_bino/outputs/r3/spots/spots_c0.txt',\n",
    "    'cdf03 (r3c1)': ddir+'/cdf03_c1-2_bino/outputs/r3/spots/spots_c1.txt',\n",
    "    'cdf03 (r3c2)': ddir+'/cdf03_c1-2_bino/outputs/r3/spots/spots_c2.txt',\n",
    "    'cdf03 (r3c4)': ddir+'/cdf03_c1-2_bino/outputs/r3/spots/spots_c4.txt',\n",
    "}\n",
    "\n",
    "fx_spots4 = {\n",
    "    'sparse06 (r1c0)': ddir+'/sparse06/outputs/r1_flatfield/v8/spots/spots_c0.txt',\n",
    "    'sparse06 (r1c2)': ddir+'/sparse06/outputs/r1_flatfield/v8/spots/spots_c2.txt',\n",
    "    'sparse06 (r1c4)': ddir+'/sparse06/outputs/r1_flatfield/v8/spots/spots_c4.txt',\n",
    "}\n",
    "\n",
    "fx_spots5 = {\n",
    "    'lt172 (r1c0)': ddir+'/lt172/outputs/r1/spots/spots_c0.txt',\n",
    "    'lt172 (r1c1)': ddir+'/lt172/outputs/r1/spots/spots_c1.txt',\n",
    "    'lt172 (r1c2)': ddir+'/lt172/outputs/r1/spots/spots_c2.txt',\n",
    "    'lt172 (r1c4)': ddir+'/lt172/outputs/r1/spots/spots_c4.txt',\n",
    "    \n",
    "    'lt172 (r2c0)': ddir+'/lt172/outputs/r2/spots/spots_c0.txt',\n",
    "    'lt172 (r2c1)': ddir+'/lt172/outputs/r2/spots/spots_c1.txt',\n",
    "    'lt172 (r2c2)': ddir+'/lt172/outputs/r2/spots/spots_c2.txt',\n",
    "    'lt172 (r2c4)': ddir+'/lt172/outputs/r2/spots/spots_c4.txt',\n",
    "    \n",
    "    'lt172 (r3c0)': ddir+'/lt172/outputs/r3/spots/spots_c0.txt',\n",
    "    'lt172 (r3c1)': ddir+'/lt172/outputs/r3/spots/spots_c1.txt',\n",
    "    'lt172 (r3c2)': ddir+'/lt172/outputs/r3/spots/spots_c2.txt',\n",
    "    'lt172 (r3c4)': ddir+'/lt172/outputs/r3/spots/spots_c4.txt',\n",
    "    \n",
    "    'lt172 (r4c0)': ddir+'/lt172/outputs/r4/spots/spots_c0.txt',\n",
    "    'lt172 (r4c1)': ddir+'/lt172/outputs/r4/spots/spots_c1.txt',\n",
    "    'lt172 (r4c2)': ddir+'/lt172/outputs/r4/spots/spots_c2.txt',\n",
    "    'lt172 (r4c4)': ddir+'/lt172/outputs/r4/spots/spots_c4.txt',\n",
    "    \n",
    "    'lt172 (r5c0)': ddir+'/lt172/outputs/r5/spots/spots_c0.txt',\n",
    "    'lt172 (r5c1)': ddir+'/lt172/outputs/r5/spots/spots_c1.txt',\n",
    "    'lt172 (r5c2)': ddir+'/lt172/outputs/r5/spots/spots_c2.txt',\n",
    "    'lt172 (r5c4)': ddir+'/lt172/outputs/r5/spots/spots_c4.txt',\n",
    "}\n",
    "\n",
    "for name, f in fx_spots1.items():\n",
    "    assert os.path.isfile(f)\n",
    "    \n",
    "for name, f in fx_spots2.items():\n",
    "    assert os.path.isfile(f)\n",
    "    \n",
    "for name, f in fx_spots3.items():\n",
    "    assert os.path.isfile(f)\n",
    "    \n",
    "for name, f in fx_spots4.items():\n",
    "    assert os.path.isfile(f)\n",
    "    \n",
    "for name, f in fx_spots5.items():\n",
    "    assert os.path.isfile(f)"
   ]
  },
  {
   "cell_type": "code",
   "execution_count": null,
   "id": "1d3139b5-c4b0-4ca3-8f18-b499ada1b39b",
   "metadata": {
    "tags": []
   },
   "outputs": [],
   "source": [
    "def pipe(fx_spots):\n",
    "    \"\"\"\n",
    "    \"\"\"\n",
    "    dfs = {} \n",
    "    for i, (name, file) in enumerate(fx_spots.items()):\n",
    "        df = pd.read_csv(file, header=None)\n",
    "        if name.startswith('lt172'):\n",
    "            df[3] = df[3]-90\n",
    "            df = df[df[3] > 5]\n",
    "        else:\n",
    "            df = df[df[3] > 5]\n",
    "        if i == 0:\n",
    "            num0 = len(df)\n",
    "\n",
    "        print(f'{len(df)/num0:.1f}', name)\n",
    "        dfs[name] = df\n",
    "    return dfs"
   ]
  },
  {
   "cell_type": "code",
   "execution_count": null,
   "id": "7063da65-d89e-4b5d-8418-eb8eadad60a5",
   "metadata": {
    "tags": []
   },
   "outputs": [],
   "source": [
    "def plot1(dfs, xlim=None, cumulative=False, colors=None):\n",
    "    fig, ax = plt.subplots()\n",
    "    for name, df in dfs.items():\n",
    "        med = np.median(df[3])\n",
    "        if colors is not None:\n",
    "            color = colors[name]\n",
    "        else:\n",
    "            color = None\n",
    "        if cumulative: \n",
    "            sns.histplot(df[3], ax=ax, bins=bins, label=f'med={med:.1f} ({name})', stat='percent', element='step', \n",
    "                         color=color,\n",
    "                         alpha=1, fill=False, cumulative=True)\n",
    "        else:\n",
    "            sns.histplot(df[3], ax=ax, bins=bins, label=f'med={med:.1f} ({name})', stat='percent', element='step', \n",
    "                         color=color,\n",
    "                         alpha=0.1, fill=True)\n",
    "            \n",
    "    ax.set_xlabel('spot intensity') #0\n",
    "    ax.legend(bbox_to_anchor=(1,1), loc='upper left')\n",
    "    ax.set_title('spot intensity <5 are excluded')\n",
    "    \n",
    "    if xlim is not None:\n",
    "        ax.set_xlim(xlim)\n",
    "    plt.show()"
   ]
  },
  {
   "cell_type": "code",
   "execution_count": null,
   "id": "8500c8e8-8b3c-4099-a8bd-b2a48429bfba",
   "metadata": {
    "tags": []
   },
   "outputs": [],
   "source": [
    "dfs1 = pipe(fx_spots1)\n",
    "dfs2 = pipe(fx_spots2)\n",
    "dfs3 = pipe(fx_spots3)\n",
    "dfs4 = pipe(fx_spots4)\n",
    "dfs5 = pipe(fx_spots5)"
   ]
  },
  {
   "cell_type": "code",
   "execution_count": null,
   "id": "4b45a238-6a76-4723-bcf4-8644820e0ef9",
   "metadata": {
    "tags": []
   },
   "outputs": [],
   "source": [
    "bins = np.linspace(0, 200, 200*2)"
   ]
  },
  {
   "cell_type": "code",
   "execution_count": null,
   "id": "f0e6fb3e-9239-4c12-ad59-ac0dd886f300",
   "metadata": {
    "tags": []
   },
   "outputs": [],
   "source": [
    "plot1(dfs1)\n",
    "plot1(dfs1, xlim=[0,50])\n",
    "plot1(dfs1, xlim=[0,50], cumulative=True)"
   ]
  },
  {
   "cell_type": "code",
   "execution_count": null,
   "id": "eeb49be2-0a01-44ff-91ef-43d4f3915576",
   "metadata": {},
   "outputs": [],
   "source": [
    "plot1(dfs2, colors=colors)\n",
    "plot1(dfs3)\n",
    "plot1(dfs4)\n",
    "plot1(dfs5)\n",
    "\n",
    "# plot1(dfs2, xlim=[0,50], colors=colors)\n",
    "# plot1(dfs2, xlim=[0,50], cumulative=True, colors=colors)\n",
    "\n",
    "# plot1(dfs3, xlim=[0,50])\n",
    "# plot1(dfs3, xlim=[0,50], cumulative=True)"
   ]
  },
  {
   "cell_type": "code",
   "execution_count": null,
   "id": "f5e82b6c-b4ee-4d4e-856a-b04b4b4b54d8",
   "metadata": {
    "tags": []
   },
   "outputs": [],
   "source": [
    "plot1(dfs1, xlim=[0,50], cumulative=True)\n",
    "plot1(dfs2, xlim=[0,50], cumulative=True)\n",
    "plot1(dfs3, xlim=[0,50], cumulative=True)\n",
    "plot1(dfs4, xlim=[0,50], cumulative=True)\n",
    "plot1(dfs5, xlim=[0,50], cumulative=True)"
   ]
  },
  {
   "cell_type": "code",
   "execution_count": null,
   "id": "bb75f4e2-5b9f-4dc1-88fc-7cf6dc59c6f4",
   "metadata": {},
   "outputs": [],
   "source": []
  }
 ],
 "metadata": {
  "kernelspec": {
   "display_name": "napari",
   "language": "python",
   "name": "napari"
  },
  "language_info": {
   "codemirror_mode": {
    "name": "ipython",
    "version": 3
   },
   "file_extension": ".py",
   "mimetype": "text/x-python",
   "name": "python",
   "nbconvert_exporter": "python",
   "pygments_lexer": "ipython3",
   "version": "3.9.16"
  }
 },
 "nbformat": 4,
 "nbformat_minor": 5
}
