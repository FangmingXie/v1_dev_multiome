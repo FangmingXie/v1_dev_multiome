{
 "cells": [
  {
   "cell_type": "code",
   "execution_count": null,
   "id": "e782e98b-a96b-49ab-9745-3b08f62111e9",
   "metadata": {
    "tags": []
   },
   "outputs": [],
   "source": [
    "import numpy as np\n",
    "import time, os, sys\n",
    "from urllib.parse import urlparse\n",
    "import matplotlib.pyplot as plt\n",
    "import matplotlib as mpl\n",
    "import glob\n",
    "\n",
    "from PIL import Image\n",
    "\n",
    "# import os\n",
    "# os.environ['KMP_DUPLICATE_LIB_OK']='True'\n",
    "from cellpose import utils, io, plot, models"
   ]
  },
  {
   "cell_type": "code",
   "execution_count": null,
   "id": "5904a586-a3ea-4db1-9da7-899e42ff0f8f",
   "metadata": {
    "tags": []
   },
   "outputs": [],
   "source": [
    "from skimage.measure import regionprops_table"
   ]
  },
  {
   "cell_type": "code",
   "execution_count": null,
   "id": "47bc017e-36ac-4287-9091-1c36e054fb38",
   "metadata": {
    "tags": []
   },
   "outputs": [],
   "source": [
    "files = np.sort(glob.glob(\n",
    "    \"/u/home/f/f7xiesnm/project-zipursky/data/CTb_tracing/MAX_ctb*.tif\"\n",
    "))\n",
    "files[:5], len(files)"
   ]
  },
  {
   "cell_type": "code",
   "execution_count": null,
   "id": "80939372-f02e-4f1e-b021-79870ac46e82",
   "metadata": {
    "tags": []
   },
   "outputs": [],
   "source": [
    "files[29:]"
   ]
  },
  {
   "cell_type": "code",
   "execution_count": null,
   "id": "f22a39c8-7601-492c-ad49-2b0f2edce53b",
   "metadata": {},
   "outputs": [],
   "source": [
    "# /u/home/f/f7xiesnm/project-zipursky/data/CTb_tracing/MAX_ctb10_20x_slice1_fov2.tif"
   ]
  },
  {
   "cell_type": "code",
   "execution_count": null,
   "id": "89309caf-7b14-46d9-ae56-c1538372ac9f",
   "metadata": {
    "tags": []
   },
   "outputs": [],
   "source": [
    "model = models.Cellpose(gpu=False, model_type='cyto')  # cyto or nuclei\n",
    "channels = [[0,0]]\n",
    "diameter = 15 # or None\n",
    "\n",
    "for filename in files[29:]:\n",
    "    print(filename)\n",
    "    imgs = io.imread(filename) # read \n",
    "    # print(imgs.shape)\n",
    "    \n",
    "    nch, nx, ny = imgs.shape\n",
    "\n",
    "    for i in range(nch):\n",
    "        print(i)\n",
    "        img = imgs[i]\n",
    "        output_fname = filename.replace('.tif', f'_c{i}.tif') # as a basis\n",
    "        output_fig   = filename.replace('.tif', f'_c{i}_viz.png')\n",
    "        output_fcent = filename.replace('.tif', f'_c{i}_centroids.npy')\n",
    "        \n",
    "        # resize\n",
    "        img_test = np.array(Image.fromarray(img).resize((512,512))) # resize\n",
    "\n",
    "        # run cell pose\n",
    "        mask, flow, style, diam = model.eval(img_test, diameter=diameter, channels=channels)\n",
    "\n",
    "        # # save results as png\n",
    "        # io.save_masks(img, mask, flow, output_fname)\n",
    "        io.masks_flows_to_seg(img_test, mask, flow, diam, output_fname, channels)\n",
    "        centroids = regionprops_table(mask, properties=['centroid', 'area'])\n",
    "        np.save(output_fcent, centroids)\n",
    "\n",
    "        # plot and see results\n",
    "        fig = plt.figure(figsize=(20,10))\n",
    "        plot.show_segmentation(fig, img_test, mask, flow[0], channels=channels)\n",
    "        plt.tight_layout()\n",
    "        plt.savefig(output_fig)\n",
    "        plt.show()\n",
    "        \n",
    "    #     break\n",
    "    # break"
   ]
  },
  {
   "cell_type": "code",
   "execution_count": null,
   "id": "42ff5bd5-27ae-47a9-aa83-8a835cb49238",
   "metadata": {
    "tags": []
   },
   "outputs": [],
   "source": [
    "dat = np.load('/u/home/f/f7xiesnm/project-zipursky/data/CTb_tracing/MAX_ctb02_20x_slice1_fov1_c0_centroids.npy', \n",
    "       allow_pickle=True).item()"
   ]
  },
  {
   "cell_type": "code",
   "execution_count": null,
   "id": "6073aa8e-abcb-45bd-b114-229dfb0e72b7",
   "metadata": {
    "tags": []
   },
   "outputs": [],
   "source": [
    "x = dat['centroid-0']\n",
    "y = dat['centroid-1']"
   ]
  },
  {
   "cell_type": "code",
   "execution_count": null,
   "id": "ebba7125-2b0a-4ced-b8fb-4bee672652a9",
   "metadata": {
    "tags": []
   },
   "outputs": [],
   "source": [
    "fig, ax = plt.subplots()\n",
    "ax.scatter(y, x)\n",
    "ax.set_xlim([0,512])\n",
    "ax.set_ylim([0,512])\n",
    "ax.invert_yaxis()\n",
    "ax.set_aspect('equal')"
   ]
  },
  {
   "cell_type": "code",
   "execution_count": null,
   "id": "7bfafb08-5106-403d-bc33-320388ad21c1",
   "metadata": {},
   "outputs": [],
   "source": []
  }
 ],
 "metadata": {
  "kernelspec": {
   "display_name": "cellpose",
   "language": "python",
   "name": "cellpose"
  },
  "language_info": {
   "codemirror_mode": {
    "name": "ipython",
    "version": 3
   },
   "file_extension": ".py",
   "mimetype": "text/x-python",
   "name": "python",
   "nbconvert_exporter": "python",
   "pygments_lexer": "ipython3",
   "version": "3.8.17"
  }
 },
 "nbformat": 4,
 "nbformat_minor": 5
}
