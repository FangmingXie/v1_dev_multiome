{
 "cells": [
  {
   "cell_type": "code",
   "execution_count": null,
   "id": "e782e98b-a96b-49ab-9745-3b08f62111e9",
   "metadata": {
    "tags": []
   },
   "outputs": [],
   "source": [
    "import numpy as np\n",
    "import time, os, sys\n",
    "from urllib.parse import urlparse\n",
    "import matplotlib.pyplot as plt\n",
    "import matplotlib as mpl\n",
    "\n",
    "# import os\n",
    "# os.environ['KMP_DUPLICATE_LIB_OK']='True'\n",
    "from cellpose import utils, io, plot, models"
   ]
  },
  {
   "cell_type": "code",
   "execution_count": null,
   "id": "5027ce26-6144-4ac0-86d9-ddf601b18278",
   "metadata": {
    "tags": []
   },
   "outputs": [],
   "source": [
    "# I will download images from website\n",
    "urls = [\n",
    "    # 'http://www.cellpose.org/static/images/img02.png',\n",
    "    # 'http://www.cellpose.org/static/images/img03.png',\n",
    "    'http://www.cellpose.org/static/images/img05.png']\n",
    "files = []\n",
    "for url in urls:\n",
    "    parts = urlparse(url)\n",
    "    filename = os.path.basename(parts.path)\n",
    "    if not os.path.exists(filename):\n",
    "        sys.stderr.write('Downloading: \"{}\" to {}\\n'.format(url, filename))\n",
    "        utils.download_url_to_file(url, filename)\n",
    "    files.append(filename)\n",
    "\n",
    "# REPLACE FILES WITH YOUR IMAGE PATHS\n",
    "# files = ['img0.tif', 'img1.tif']\n",
    "\n"
   ]
  },
  {
   "cell_type": "code",
   "execution_count": null,
   "id": "89309caf-7b14-46d9-ae56-c1538372ac9f",
   "metadata": {
    "tags": []
   },
   "outputs": [],
   "source": [
    "# view 1 image\n",
    "img = io.imread(files[-1])\n",
    "plt.figure(figsize=(2,2))\n",
    "plt.imshow(img[::4,::4,0])\n",
    "plt.axis('off')\n",
    "plt.show()"
   ]
  },
  {
   "cell_type": "code",
   "execution_count": null,
   "id": "297c916a-f417-411a-b2da-b21cb409a092",
   "metadata": {
    "tags": []
   },
   "outputs": [],
   "source": [
    "img_test = img[::4,::4,0]\n",
    "img_test.shape"
   ]
  },
  {
   "cell_type": "code",
   "execution_count": null,
   "id": "2184b25f-e1e1-4c81-b5a0-24d48f632ef5",
   "metadata": {
    "tags": []
   },
   "outputs": [],
   "source": [
    "# RUN CELLPOSE\n",
    "\n",
    "\n",
    "# DEFINE CELLPOSE MODEL\n",
    "# model_type='cyto' or model_type='nuclei'\n",
    "model = models.Cellpose(gpu=False, model_type='cyto')\n",
    "\n",
    "# define CHANNELS to run segementation on\n",
    "# grayscale=0, R=1, G=2, B=3\n",
    "# channels = [cytoplasm, nucleus]\n",
    "# if NUCLEUS channel does not exist, set the second channel to 0\n",
    "# channels = [0,0]\n",
    "# IF ALL YOUR IMAGES ARE THE SAME TYPE, you can give a list with 2 elements\n",
    "# channels = [0,0] # IF YOU HAVE GRAYSCALE\n",
    "# channels = [2,3] # IF YOU HAVE G=cytoplasm and B=nucleus\n",
    "# channels = [2,1] # IF YOU HAVE G=cytoplasm and R=nucleus\n",
    "\n",
    "# or if you have different types of channels in each image\n",
    "channels = [[0,0]]\n",
    "\n",
    "# if diameter is set to None, the size of the cells is estimated on a per image basis\n",
    "# you can set the average cell `diameter` in pixels yourself (recommended) \n",
    "# diameter can be a list or a single number for all images\n",
    "diameter = 15\n",
    "\n",
    "# you can run all in a list e.g.\n",
    "# >>> imgs = [io.imread(filename) in for filename in files]\n",
    "# >>> masks, flows, styles, diams = model.eval(imgs, diameter=None, channels=channels)\n",
    "# >>> io.masks_flows_to_seg(imgs, masks, flows, diams, files, channels)\n",
    "# >>> io.save_to_png(imgs, masks, flows, files)\n",
    "\n",
    "# or in a loop\n",
    "masks, flows, styles, diams = model.eval(img_test, diameter=diameter, channels=channels)\n",
    "\n",
    "# # save results so you can load in gui\n",
    "# io.masks_flows_to_seg(img, masks, flows, diams, filename, chan)\n",
    "\n",
    "# # save results as png\n",
    "io.save_to_png(img, masks, flows, filename)\n"
   ]
  },
  {
   "cell_type": "code",
   "execution_count": null,
   "id": "1b2b7830-505b-4645-927b-af327e0bf881",
   "metadata": {
    "tags": []
   },
   "outputs": [],
   "source": [
    "fig = plt.figure(figsize=(12,5))\n",
    "plot.show_segmentation(fig, img_test, masks, flows[0], channels=channels)\n",
    "plt.tight_layout()\n",
    "plt.show()"
   ]
  },
  {
   "cell_type": "code",
   "execution_count": null,
   "id": "8879b3d3-b8b7-42f8-a96a-0d839defb6ae",
   "metadata": {},
   "outputs": [],
   "source": []
  }
 ],
 "metadata": {
  "kernelspec": {
   "display_name": "cellpose",
   "language": "python",
   "name": "cellpose"
  },
  "language_info": {
   "codemirror_mode": {
    "name": "ipython",
    "version": 3
   },
   "file_extension": ".py",
   "mimetype": "text/x-python",
   "name": "python",
   "nbconvert_exporter": "python",
   "pygments_lexer": "ipython3",
   "version": "3.8.17"
  }
 },
 "nbformat": 4,
 "nbformat_minor": 5
}
