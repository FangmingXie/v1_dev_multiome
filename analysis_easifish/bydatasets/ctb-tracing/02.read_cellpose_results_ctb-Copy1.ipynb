{
 "cells": [
  {
   "cell_type": "code",
   "execution_count": null,
   "id": "e782e98b-a96b-49ab-9745-3b08f62111e9",
   "metadata": {
    "tags": []
   },
   "outputs": [],
   "source": [
    "# use env napari\n",
    "import numpy as np\n",
    "import pandas as pd\n",
    "import seaborn as sns\n",
    "\n",
    "import time, os, sys\n",
    "from urllib.parse import urlparse\n",
    "import matplotlib.pyplot as plt\n",
    "import matplotlib as mpl\n",
    "import cv2\n",
    "import glob\n",
    "import tifffile\n",
    "\n",
    "from PIL import Image\n",
    "\n",
    "from scroutines.config_plots import *\n",
    "\n",
    "# import os\n",
    "# os.environ['KMP_DUPLICATE_LIB_OK']='True'\n",
    "# from cellpose import utils, io, plot, models"
   ]
  },
  {
   "cell_type": "code",
   "execution_count": null,
   "id": "9a95040c-1c7e-4b7f-8393-88b55f182f24",
   "metadata": {
    "tags": []
   },
   "outputs": [],
   "source": [
    "# imgs_files = np.sort(glob.glob(\n",
    "#     f\"/u/home/f/f7xiesnm/project-zipursky/data/CTb_tracing/{sample}_20x_{fov}.tif\"\n",
    "# ))\n",
    "# print(imgs_files)"
   ]
  },
  {
   "cell_type": "code",
   "execution_count": null,
   "id": "d823b1c0-3af9-4105-a274-26a1b7346d05",
   "metadata": {
    "tags": []
   },
   "outputs": [],
   "source": [
    "files = np.sort(glob.glob(\n",
    "    \"/u/home/f/f7xiesnm/project-zipursky/data/CTb_tracing/MAX_ctb*_centroids.npy\"\n",
    "))\n",
    "np.unique([os.path.basename(f)[:9] for f in files])"
   ]
  },
  {
   "cell_type": "code",
   "execution_count": null,
   "id": "b3130bdd-21e7-47d5-a979-62297a64433c",
   "metadata": {
    "tags": []
   },
   "outputs": [],
   "source": [
    "meta = [\n",
    "    ('MAX_ctb02', 'DR_adult', 'RL', 'LM', 'AL', 'DAPI'),\n",
    "    ('MAX_ctb03', 'NR_adult', 'RL', 'AL', 'LM', 'DAPI'),\n",
    "    ('MAX_ctb07', 'DR_P34',   'LM', 'AL', 'RL', 'DAPI'),\n",
    "    ('MAX_ctb08', 'DR_P34_v2',   'LM', 'AL', 'RL', 'DAPI'),\n",
    "    ('MAX_ctb10', 'NR_P14',   'LM', 'RL', 'DAPI'),\n",
    "]"
   ]
  },
  {
   "cell_type": "code",
   "execution_count": null,
   "id": "8d5090c0-7f05-4a94-9862-0179cbd90ce0",
   "metadata": {
    "tags": []
   },
   "outputs": [],
   "source": [
    "anno2samp = {item[1]: item[0] for item in meta}\n",
    "anno2samp\n"
   ]
  },
  {
   "cell_type": "markdown",
   "id": "d4d687b1-f69f-4221-bd19-ca5a85da57b0",
   "metadata": {},
   "source": [
    "# one FOV"
   ]
  },
  {
   "cell_type": "code",
   "execution_count": null,
   "id": "828c78a8-6b50-49d9-8527-d1a4a14c8c54",
   "metadata": {
    "tags": []
   },
   "outputs": [],
   "source": [
    "sample = 'MAX_ctb03'\n",
    "fov = 'slice1_fov1'\n",
    "labels = ['RL', 'AL', 'LM', 'DAPI'] \n",
    "\n",
    "img_file = f\"/u/home/f/f7xiesnm/project-zipursky/data/CTb_tracing/{sample}_20x_{fov}.tif\"\n",
    "print(img_file)\n",
    "\n",
    "a0, a1, a2, a3 = tifffile.imread(img_file)\n",
    "a0 = np.array(Image.fromarray(a0).resize((512,512)))\n",
    "a1 = np.array(Image.fromarray(a1).resize((512,512)))\n",
    "a2 = np.array(Image.fromarray(a2).resize((512,512)))\n",
    "a3 = np.array(Image.fromarray(a3).resize((512,512)))\n",
    "imgs = [a0,a1,a2,a3]\n",
    "\n",
    "xs = []\n",
    "ys = []\n",
    "for i in range(4):\n",
    "    coord_file = f\"/u/home/f/f7xiesnm/project-zipursky/data/CTb_tracing/{sample}_20x_{fov}_c{i}_centroids.npy\"\n",
    "    dat = np.load(coord_file, allow_pickle=True).item()\n",
    "    x = dat['centroid-0'] # vertical along the image - \n",
    "    y = dat['centroid-1'] # horizontal along the image - higher means closer to pia\n",
    "    xs.append(x)\n",
    "    ys.append(y)\n",
    "\n"
   ]
  },
  {
   "cell_type": "code",
   "execution_count": null,
   "id": "27e5bed9-b1dd-402e-b05c-c123f7ff09de",
   "metadata": {
    "tags": []
   },
   "outputs": [],
   "source": [
    "def plot_oneset(imgs, xs, ys, labels, show_img=True, show_xy=True):\n",
    "    \"\"\"\n",
    "    \"\"\"\n",
    "    fig, axs = plt.subplots(1,4,figsize=(4*6,1*5))\n",
    "    for i in range(4): \n",
    "        ai = imgs[i]\n",
    "        x = xs[i]\n",
    "        y = ys[i]\n",
    "        lbl = labels[i]\n",
    "        ax = axs.flat[i]\n",
    "\n",
    "        if show_img:\n",
    "            vmax = np.percentile(ai, 99)\n",
    "            vmin = np.percentile(ai, 1)\n",
    "            ax.imshow(ai, vmax=vmax, vmin=vmin, cmap='viridis')\n",
    "\n",
    "        if show_xy:\n",
    "            ax.scatter(y, x, facecolors='none', edgecolors='red')\n",
    "            if not show_img:\n",
    "                # ax.invert_yaxis()\n",
    "                ax.set_xlim([0, 512])\n",
    "                ax.set_ylim([512, 0])\n",
    "\n",
    "        ax.grid(False)\n",
    "        ax.set_aspect('equal')\n",
    "        ax.set_title(lbl)"
   ]
  },
  {
   "cell_type": "code",
   "execution_count": null,
   "id": "57de457b-808d-49ea-9d6e-6888e5bc80b0",
   "metadata": {
    "tags": []
   },
   "outputs": [],
   "source": [
    "plot_oneset(imgs, xs, ys, labels, show_img=True,  show_xy=False)\n",
    "plot_oneset(imgs, xs, ys, labels, show_img=False, show_xy=True)\n",
    "plot_oneset(imgs, xs, ys, labels, show_img=True,  show_xy=True)"
   ]
  },
  {
   "cell_type": "code",
   "execution_count": null,
   "id": "722bfcdd-4095-44ee-8e5f-d372fb6ec61f",
   "metadata": {
    "tags": []
   },
   "outputs": [],
   "source": [
    "bins_fine = np.linspace(0, 512, num=64)\n",
    "label_colors = {\n",
    "    'LM': 'C0',\n",
    "    'RL': 'C1',\n",
    "    'AL': 'C2',\n",
    "    'DAPI': 'gray',\n",
    "}\n",
    "\n",
    "fig, ax = plt.subplots()\n",
    "for i in range(4):\n",
    "    depth = 512-ys[i]\n",
    "    lbl = labels[i]\n",
    "    clr = label_colors[lbl]\n",
    "    sns.histplot(depth, bins=bins_fine, stat='percent', cumulative=True, element='step', linewidth=2, fill=False, label=lbl, color=clr, ax=ax)\n",
    "ax.legend()\n",
    "ax.grid(False)\n",
    "sns.despine(ax=ax)\n",
    "ax.set_ylabel('Cumu. percent')\n",
    "ax.set_xlabel('Pia -> vent')\n",
    "plt.show()\n",
    "\n",
    "fig, ax = plt.subplots()\n",
    "for i in range(4):\n",
    "    depth = 512-ys[i]\n",
    "    lbl = labels[i]\n",
    "    clr = label_colors[lbl]\n",
    "    sns.histplot(depth, bins=bins_fine, stat='percent', cumulative=False, element='step', linewidth=2, fill=False, label=lbl, color=clr, ax=ax)\n",
    "ax.legend()\n",
    "ax.grid(False)\n",
    "sns.despine(ax=ax)\n",
    "ax.set_ylabel('Percent')\n",
    "ax.set_xlabel('Pia -> vent')\n",
    "plt.show()"
   ]
  },
  {
   "cell_type": "code",
   "execution_count": null,
   "id": "d9097352-b580-41b2-8759-066b43ebaee5",
   "metadata": {},
   "outputs": [],
   "source": []
  },
  {
   "cell_type": "code",
   "execution_count": null,
   "id": "76a0c50d-cd06-4f94-8ee2-e2f4ae7d7a4f",
   "metadata": {},
   "outputs": [],
   "source": []
  },
  {
   "cell_type": "code",
   "execution_count": null,
   "id": "fa566ceb-b2e1-44df-a84e-483802ee438a",
   "metadata": {},
   "outputs": [],
   "source": []
  },
  {
   "cell_type": "code",
   "execution_count": null,
   "id": "17c47725-4029-4934-ad3e-586b11b520e7",
   "metadata": {},
   "outputs": [],
   "source": []
  },
  {
   "cell_type": "markdown",
   "id": "ff79d655-0a1e-4b57-9972-a5a498146ef4",
   "metadata": {
    "tags": []
   },
   "source": [
    "# All FOVs"
   ]
  },
  {
   "cell_type": "code",
   "execution_count": null,
   "id": "47bc017e-36ac-4287-9091-1c36e054fb38",
   "metadata": {
    "tags": []
   },
   "outputs": [],
   "source": [
    "res = {}\n",
    "for meta_samp in meta:\n",
    "    sample, anno, labels = meta_samp[0], meta_samp[1], meta_samp[2:]\n",
    "    print(sample, anno, labels)\n",
    "    res[anno] = {}\n",
    "    \n",
    "    for i, label in enumerate(labels):\n",
    "        files = np.sort(glob.glob(\n",
    "            f\"/u/home/f/f7xiesnm/project-zipursky/data/CTb_tracing/{sample}_*_c{i}_centroids.npy\"\n",
    "        ))\n",
    "        # print(files[:5], len(files))\n",
    "\n",
    "        ys = []\n",
    "        for file in files:\n",
    "            dat = np.load(file, allow_pickle=True).item()\n",
    "            x = dat['centroid-0'] # vertical along the image - \n",
    "            y = dat['centroid-1'] # horizontal along the image - higher means closer to pia\n",
    "            a = dat['area']\n",
    "            # print(y.shape)\n",
    "            ys.append(y)\n",
    "        depth = 512 - np.hstack(ys)\n",
    "        print(len(depth))\n",
    "        res[anno][label] = depth\n",
    "\n",
    "    #     break\n",
    "    # break"
   ]
  },
  {
   "cell_type": "code",
   "execution_count": null,
   "id": "8280e8a8-16bc-4cb5-bc5f-0c9eb2842589",
   "metadata": {
    "tags": []
   },
   "outputs": [],
   "source": [
    "def plot(sample_anno, projs, bins_fine, bins_crse, title=None):\n",
    "    \"\"\"\n",
    "    \"\"\"\n",
    "    fig, axs = plt.subplots(2,2,figsize=(2*6,2*5))\n",
    "    if title is None:\n",
    "        fig.suptitle(sample_anno)\n",
    "    else:\n",
    "        fig.suptitle(title)\n",
    "    ax = axs.flat[0]\n",
    "    for proj in projs:\n",
    "        depth = res[sample_anno][proj]\n",
    "        sns.histplot(depth, bins=bins_crse, stat='count',   element='step', linewidth=2, fill=False, label=proj, ax=ax)\n",
    "    sns.despine(ax=ax)\n",
    "    ax.grid(False)\n",
    "    ax.set_xlabel('pia->L4')\n",
    "    ax.legend()\n",
    "\n",
    "    ax = axs.flat[1]\n",
    "    for proj in projs:\n",
    "        depth = res[sample_anno][proj]\n",
    "        sns.histplot(depth, bins=bins_crse, stat='percent', element='step', linewidth=2, fill=False, label=proj, ax=ax)\n",
    "    sns.despine(ax=ax)\n",
    "    ax.grid(False)\n",
    "    ax.set_xlabel('pia->L4')\n",
    "    ax.legend()\n",
    "\n",
    "    ax = axs.flat[2]\n",
    "    for proj in projs:\n",
    "        depth = res[sample_anno][proj]\n",
    "        sns.histplot(depth, bins=bins_fine, stat='count',   cumulative=True, element='step', linewidth=2, fill=False, label=proj, ax=ax)\n",
    "    ax.set_ylabel('Cumu. count')\n",
    "    sns.despine(ax=ax)\n",
    "    ax.grid(False)\n",
    "    ax.set_xlabel('pia->L4')\n",
    "    ax.legend()\n",
    "\n",
    "    ax = axs.flat[3]\n",
    "    for proj in projs:\n",
    "        depth = res[sample_anno][proj]\n",
    "        sns.histplot(depth, bins=bins_fine, stat='percent', cumulative=True, element='step', linewidth=2, fill=False, label=proj, ax=ax)\n",
    "    sns.despine(ax=ax)\n",
    "    ax.grid(False)\n",
    "    ax.set_ylabel('Cumu. percent')\n",
    "    ax.set_xlabel('pia->L4')\n",
    "    ax.legend()\n",
    "\n",
    "    plt.show()\n"
   ]
  },
  {
   "cell_type": "code",
   "execution_count": null,
   "id": "7c1b1a84-37a5-4c7b-9192-0e861a9dee39",
   "metadata": {
    "tags": []
   },
   "outputs": [],
   "source": [
    "bins_fine = np.linspace(100, 512, num=64)\n",
    "bins_crse = np.linspace(100, 512, num=64)\n",
    "\n",
    "sample_annos = [\n",
    "    'NR_adult',\n",
    "    'DR_adult',\n",
    "    'DR_P34',\n",
    "    'DR_P34_v2',\n",
    "    'NR_P14',\n",
    "]\n",
    "projs = ['LM', 'RL']\n",
    "\n",
    "for sample_anno in sample_annos:\n",
    "    title = sample_anno + ' ' + anno2samp[sample_anno][4:]\n",
    "    plot(sample_anno, projs, bins_fine, bins_crse, title=title)\n"
   ]
  },
  {
   "cell_type": "code",
   "execution_count": null,
   "id": "b2661471-f75c-4fe3-aa80-5e2933e50e38",
   "metadata": {
    "tags": []
   },
   "outputs": [],
   "source": []
  }
 ],
 "metadata": {
  "kernelspec": {
   "display_name": "napari",
   "language": "python",
   "name": "napari"
  },
  "language_info": {
   "codemirror_mode": {
    "name": "ipython",
    "version": 3
   },
   "file_extension": ".py",
   "mimetype": "text/x-python",
   "name": "python",
   "nbconvert_exporter": "python",
   "pygments_lexer": "ipython3",
   "version": "3.9.16"
  }
 },
 "nbformat": 4,
 "nbformat_minor": 5
}
