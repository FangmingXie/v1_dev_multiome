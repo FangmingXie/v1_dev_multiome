{
 "cells": [
  {
   "cell_type": "markdown",
   "id": "8c753145-1a59-480d-abb2-60f2fa3f416f",
   "metadata": {},
   "source": [
    "# Inputs\n",
    "---"
   ]
  },
  {
   "cell_type": "code",
   "execution_count": null,
   "id": "2b6aeb01",
   "metadata": {},
   "outputs": [],
   "source": [
    "import numpy as np, zarr, nrrd\n",
    "import os\n",
    "# alignment functions\n",
    "from bigstream.align import alignment_pipeline\n",
    "from bigstream.transform import apply_transform\n",
    "import tifffile\n",
    "\n",
    "import seaborn as sns\n",
    "import matplotlib.pyplot as plt"
   ]
  },
  {
   "cell_type": "code",
   "execution_count": null,
   "id": "f9e34109-0b59-441f-bb7a-2f75c90d30eb",
   "metadata": {
    "tags": []
   },
   "outputs": [],
   "source": [
    "p      = '/u/home/f/f7xiesnm/project-zipursky/easifish/cdfv1_c1-2/outputs'\n",
    "outdir = '/u/home/f/f7xiesnm/project-zipursky/easifish/results/viz_cdfv1_c1-2'\n",
    "!mkdir -p $outdir"
   ]
  },
  {
   "cell_type": "code",
   "execution_count": null,
   "id": "8460a4e9-1d9b-41af-8f88-f7b0f29c3999",
   "metadata": {
    "tags": []
   },
   "outputs": [],
   "source": [
    "!ls $p"
   ]
  },
  {
   "cell_type": "markdown",
   "id": "060aca49-8874-4f7c-8f00-91945062bea9",
   "metadata": {},
   "source": [
    "# raw"
   ]
  },
  {
   "cell_type": "code",
   "execution_count": null,
   "id": "08dae79d-075b-4bd9-b12a-efb0389f2fd9",
   "metadata": {
    "tags": []
   },
   "outputs": [],
   "source": [
    "rounds = ['r1', 'r2']# ['r4v3']# ['r2v3', 'r3v3',]\n",
    "for r in rounds:\n",
    "    path = os.path.join(p, r, 'stitching', 'export.n5')\n",
    "    zarr_data = zarr.open(store=zarr.N5Store(path), mode='r')\n",
    "    for c in [ 'c3_reg', ]:\n",
    "        img = zarr_data[f'/{c}/s4'] \n",
    "        print(np.max(img), np.min(img))\n",
    "        output = outdir+f'/{r}_{c}_s4.tiff'\n",
    "        print(output)\n",
    "        tifffile.imwrite(output, img)"
   ]
  },
  {
   "cell_type": "markdown",
   "id": "90ab38b1-9ee7-4faf-9255-52cb1684e015",
   "metadata": {},
   "source": [
    "# reg"
   ]
  },
  {
   "cell_type": "code",
   "execution_count": null,
   "id": "7136a506-fe2b-4be8-88cc-589b6b43dd57",
   "metadata": {
    "tags": []
   },
   "outputs": [],
   "source": [
    "rounds = ['r2'] # 'r6v3', 'r7v3'] # ['r4v3',]\n",
    "to = 'r1'\n",
    "for r in rounds:\n",
    "    path = f'{p}/{r}/registration/{r}-to-{to}/warped'\n",
    "    print(path)\n",
    "    \n",
    "    zarr_data = zarr.open(store=zarr.N5Store(path), mode='r')\n",
    "    img = zarr_data[f'/c3_reg/s3'][::2,::2,::2] \n",
    "    output = outdir+f'/{r}_to_{to}_warped_c3_reg_s3d2x.tiff'\n",
    "    print(output)\n",
    "    tifffile.imwrite(output, img)"
   ]
  },
  {
   "cell_type": "code",
   "execution_count": null,
   "id": "85b72ab9-bd7d-45b7-b434-62735fc201c6",
   "metadata": {},
   "outputs": [],
   "source": []
  },
  {
   "cell_type": "code",
   "execution_count": null,
   "id": "1a381c09-edbc-4a99-816b-304cdc30a126",
   "metadata": {},
   "outputs": [],
   "source": []
  }
 ],
 "metadata": {
  "kernelspec": {
   "display_name": "napari",
   "language": "python",
   "name": "napari"
  },
  "language_info": {
   "codemirror_mode": {
    "name": "ipython",
    "version": 3
   },
   "file_extension": ".py",
   "mimetype": "text/x-python",
   "name": "python",
   "nbconvert_exporter": "python",
   "pygments_lexer": "ipython3",
   "version": "3.9.16"
  }
 },
 "nbformat": 4,
 "nbformat_minor": 5
}
