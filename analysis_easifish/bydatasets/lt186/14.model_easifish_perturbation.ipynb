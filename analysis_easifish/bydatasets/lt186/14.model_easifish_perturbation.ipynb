{
 "cells": [
  {
   "cell_type": "code",
   "execution_count": null,
   "id": "923fe12a-8dd2-4788-b46d-bdfb93803443",
   "metadata": {
    "tags": []
   },
   "outputs": [],
   "source": [
    "import numpy as np\n",
    "import pandas as pd\n",
    "\n",
    "import matplotlib.pyplot as plt\n",
    "import seaborn as sns\n",
    "\n",
    "from scroutines import config_plots #import *"
   ]
  },
  {
   "cell_type": "code",
   "execution_count": null,
   "id": "9c6574a4-c9c5-4ac9-a0c2-d9b090cab3a5",
   "metadata": {
    "tags": []
   },
   "outputs": [],
   "source": [
    "f = '/u/home/f/f7xiesnm/project-zipursky/easifish/results/lt186_240520_abc.csv'\n",
    "df = pd.read_csv(f)\n",
    "df['lbl_v2'] = df['lbl_v2'].fillna('NA')\n",
    "# df = df[df['abc_bin'] =='A']\n",
    "df"
   ]
  },
  {
   "cell_type": "code",
   "execution_count": null,
   "id": "c8fca7ff-53d3-4e3a-b794-30a54e706aa2",
   "metadata": {
    "tags": []
   },
   "outputs": [],
   "source": [
    "df['abc_bin2'] = pd.cut(df['ptime'], bins=[0,0.56,0.66,0.8, 1], labels=['A', 'B', 'C', 'L4'])\n",
    "df['abc_depth_bin'] = pd.cut(df['zr'], bins=[100,300,400,450, 600], labels=['A', 'B', 'C', 'L4'])"
   ]
  },
  {
   "cell_type": "code",
   "execution_count": null,
   "id": "050535af-9b77-4775-97dc-4e97960efb54",
   "metadata": {
    "tags": []
   },
   "outputs": [],
   "source": [
    "fig, ax = plt.subplots()\n",
    "sns.scatterplot(data=df, x='zr', y='ptime', hue='abc_bin', s=5, edgecolor='none', ax=ax)\n",
    "# ax.invert_yaxis()\n",
    "plt.show()\n",
    "\n",
    "fig, ax = plt.subplots()\n",
    "sns.scatterplot(data=df, x='zr', y='ptime', hue='abc_bin2', s=5, edgecolor='none', ax=ax)\n",
    "# ax.invert_yaxis()\n",
    "plt.show()\n",
    "\n",
    "fig, ax = plt.subplots()\n",
    "sns.scatterplot(data=df, x='zr', y='ptime', hue='abc_depth_bin', s=5, edgecolor='none', ax=ax)\n",
    "# ax.invert_yaxis()\n",
    "plt.show()"
   ]
  },
  {
   "cell_type": "code",
   "execution_count": null,
   "id": "a26b9a37-5f3c-4fa3-8807-5f42fcc881de",
   "metadata": {
    "tags": []
   },
   "outputs": [],
   "source": [
    "fig, ax = plt.subplots()\n",
    "sns.scatterplot(data=df, x='zr', y='ptime', c='lightgray', s=5, edgecolor='none', ax=ax)\n",
    "sns.scatterplot(data=df[df['lbl_v2']!='NA'], x='zr', y='ptime', hue='lbl_v2', s=5, edgecolor='none', ax=ax)\n",
    "# ax.invert_yaxis()\n",
    "plt.show()"
   ]
  },
  {
   "cell_type": "code",
   "execution_count": null,
   "id": "8e55a123-0a4f-497a-8a8a-04c91750504b",
   "metadata": {},
   "outputs": [],
   "source": []
  },
  {
   "cell_type": "code",
   "execution_count": null,
   "id": "fdfa400d-1aaf-458c-883a-2615659dbbfe",
   "metadata": {
    "tags": []
   },
   "outputs": [],
   "source": [
    "hue = 'abc_bin2'\n",
    "fig, ax = plt.subplots()\n",
    "sns.scatterplot(data=df[df[hue].isin(['A', 'B'])], x='xr', y='yr', hue=hue, s=5, edgecolor='none', ax=ax)\n",
    "# ax.invert_yaxis()\n",
    "plt.show()\n",
    "\n",
    "fig, ax = plt.subplots()\n",
    "sns.scatterplot(data=df[df[hue].isin(['A', 'B'])], x='xr', y='zr', hue=hue, s=5, edgecolor='none', ax=ax)\n",
    "ax.invert_yaxis()\n",
    "plt.show()\n",
    "\n",
    "fig, ax = plt.subplots()\n",
    "sns.scatterplot(data=df[df[hue].isin(['A', 'B'])], x='yr', y='zr', hue=hue, s=5, edgecolor='none', ax=ax)\n",
    "ax.invert_yaxis()\n",
    "plt.show()"
   ]
  },
  {
   "cell_type": "code",
   "execution_count": null,
   "id": "3a5220f3-46fd-4f42-b6e9-1f1e03e2f9d4",
   "metadata": {
    "tags": []
   },
   "outputs": [],
   "source": [
    "fig, ax = plt.subplots()\n",
    "sns.scatterplot(data=df, x='xr', y='yr', hue='abc_bin2', s=5, edgecolor='none', ax=ax)\n",
    "# ax.invert_yaxis()\n",
    "plt.show()\n",
    "\n",
    "fig, ax = plt.subplots()\n",
    "sns.scatterplot(data=df, x='xr', y='zr', hue='abc_bin2', s=5, edgecolor='none', ax=ax)\n",
    "ax.invert_yaxis()\n",
    "plt.show()\n",
    "\n",
    "fig, ax = plt.subplots()\n",
    "sns.scatterplot(data=df, x='yr', y='zr', hue='abc_bin2', s=5, edgecolor='none', ax=ax)\n",
    "ax.invert_yaxis()\n",
    "plt.show()"
   ]
  },
  {
   "cell_type": "code",
   "execution_count": null,
   "id": "7ffbbcce-5f17-457f-87aa-7dd061d31f4a",
   "metadata": {
    "tags": []
   },
   "outputs": [],
   "source": [
    "hue = 'abc_depth_bin'\n",
    "fig, ax = plt.subplots()\n",
    "sns.scatterplot(data=df, x='xr', y='yr', hue=hue, s=5, edgecolor='none', ax=ax)\n",
    "ax.invert_yaxis()\n",
    "plt.show()\n",
    "\n",
    "fig, ax = plt.subplots()\n",
    "sns.scatterplot(data=df, x='xr', y='zr', hue=hue, s=5, edgecolor='none', ax=ax)\n",
    "ax.invert_yaxis()\n",
    "plt.show()\n",
    "\n",
    "fig, ax = plt.subplots()\n",
    "sns.scatterplot(data=df, x='yr', y='zr', hue=hue, s=5, edgecolor='none', ax=ax)\n",
    "ax.invert_yaxis()\n",
    "plt.show()"
   ]
  },
  {
   "cell_type": "code",
   "execution_count": null,
   "id": "5e895c70-649d-4dc1-a017-48afd1a668ab",
   "metadata": {
    "tags": []
   },
   "outputs": [],
   "source": [
    "palette_proj = {\n",
    "    'LM': 'red', \n",
    "    'RL': 'blue', \n",
    "    'both': 'pink', \n",
    "    'NA': 'lightgray', \n",
    "}"
   ]
  },
  {
   "cell_type": "code",
   "execution_count": null,
   "id": "fcb0c09c-88f4-4ae5-845c-a518823a8901",
   "metadata": {
    "tags": []
   },
   "outputs": [],
   "source": [
    "hue = 'lbl_v2'\n",
    "fig, ax = plt.subplots()\n",
    "sns.scatterplot(data=df, x='xr', y='yr', color='lightgray', s=5, edgecolor='none', ax=ax)\n",
    "sns.scatterplot(data=df[df[hue]!='NA'], x='xr', y='yr', hue=hue, s=5, edgecolor='none', palette=palette_proj, ax=ax)\n",
    "# ax.invert_yaxis()\n",
    "plt.show()\n",
    "\n",
    "fig, ax = plt.subplots()\n",
    "sns.scatterplot(data=df, x='xr', y='zr', color='lightgray', s=5, edgecolor='none', ax=ax)\n",
    "sns.scatterplot(data=df[df[hue]!='NA'], x='xr', y='zr', hue=hue, s=5, edgecolor='none', palette=palette_proj, ax=ax)\n",
    "ax.invert_yaxis()\n",
    "plt.show()\n",
    "\n",
    "fig, ax = plt.subplots()\n",
    "sns.scatterplot(data=df, x='yr', y='zr', color='lightgray', s=5, edgecolor='none', ax=ax)\n",
    "sns.scatterplot(data=df[df[hue]!='NA'], x='yr', y='zr', hue=hue, s=5, edgecolor='none', palette=palette_proj, ax=ax)\n",
    "ax.invert_yaxis()\n",
    "plt.show()"
   ]
  },
  {
   "cell_type": "markdown",
   "id": "76bbbb00-c679-4477-9b94-b9e70a3d38b3",
   "metadata": {},
   "source": [
    "# use ABC to simulate differences"
   ]
  },
  {
   "cell_type": "code",
   "execution_count": null,
   "id": "23c59767-d4b4-48fe-9efd-393d1ac46502",
   "metadata": {},
   "outputs": [],
   "source": [
    "res = df.groupby(['abc_bin2', 'lbl_v2']).size().unstack()[['LM', 'RL', 'both', 'NA']]\n",
    "res"
   ]
  },
  {
   "cell_type": "code",
   "execution_count": null,
   "id": "eade82eb-9cbe-4440-8652-60b41af1fca5",
   "metadata": {
    "tags": []
   },
   "outputs": [],
   "source": [
    "from scroutines import powerplots"
   ]
  },
  {
   "cell_type": "code",
   "execution_count": null,
   "id": "d334d409-4e14-46d7-9315-97f38f72feff",
   "metadata": {
    "tags": []
   },
   "outputs": [],
   "source": [
    "res_frac = res.loc[['A', 'B', 'C'], ['LM', 'RL', 'both']]\n",
    "res_frac = res_frac.divide(res_frac.sum(axis=1), axis=0)\n",
    "\n",
    "# colors = ['red', 'blue', 'purple']\n",
    "\n",
    "fig, ax = plt.subplots(figsize=(2,4))\n",
    "res_frac.plot.bar(width=0.8, stacked=True, ax=ax, linewidth=0) # , color=colors)\n",
    "ax.legend(bbox_to_anchor=(1,1))\n",
    "sns.despine(ax=ax)\n",
    "ax.grid(False)\n",
    "\n",
    "powerplots.savefig_autodate(fig, '/u/home/f/f7xiesnm/project-zipursky/easifish/results/fig1.pdf')\n",
    "plt.show()"
   ]
  },
  {
   "cell_type": "code",
   "execution_count": null,
   "id": "0014505d-4e3c-4a50-bdae-32675d066332",
   "metadata": {},
   "outputs": [],
   "source": []
  },
  {
   "cell_type": "code",
   "execution_count": null,
   "id": "b3fccc26-45bc-4059-8ae5-6b761da03e6e",
   "metadata": {
    "tags": []
   },
   "outputs": [],
   "source": [
    "resdepth = df.groupby(['abc_depth_bin', 'lbl_v2']).size().unstack()[['LM', 'RL', 'both', 'NA']]\n",
    "resdepth"
   ]
  },
  {
   "cell_type": "code",
   "execution_count": null,
   "id": "dd053fd2-1729-4369-bca9-d6b8a14ada75",
   "metadata": {
    "tags": []
   },
   "outputs": [],
   "source": [
    "n_lm = res.loc['A', 'LM']\n",
    "n_rl = res.loc['A', 'RL']\n",
    "n_no = res.loc['A', 'NA']\n",
    "\n",
    "rs = np.linspace(0,1,100) #[0.1, 0.2, 0.5]\n",
    "rs_text = [0.1, 0.2, 0.5]\n",
    "\n",
    "ratio0 = n_lm/n_rl\n",
    "ratio0"
   ]
  },
  {
   "cell_type": "code",
   "execution_count": null,
   "id": "3a68ebc0-a9fa-4e6d-abc3-bc7eefd63ed5",
   "metadata": {},
   "outputs": [],
   "source": []
  },
  {
   "cell_type": "code",
   "execution_count": null,
   "id": "cd6836d1-0e4c-4084-8d6d-40fa054b1f55",
   "metadata": {},
   "outputs": [],
   "source": [
    "def calc_ratio(r, n_lm, n_rl):\n",
    "    ratio = n_lm*(1-r)/(n_rl+n_lm*r)\n",
    "    return ratio\n",
    "\n",
    "def calc_ratio2(r, p, n_lm, n_rl, n_no):\n",
    "    n_no2 = n_no - n_no*r*p\n",
    "    n_lm2 = n_lm - n_lm*r\n",
    "    n_rl2 = n_rl + n_lm*r + n_no*r*p\n",
    "    \n",
    "    ratio = n_lm2/n_rl2\n",
    "    return ratio"
   ]
  },
  {
   "cell_type": "code",
   "execution_count": null,
   "id": "51b2efe2-4876-4bd0-823e-7f7ed6dcad34",
   "metadata": {
    "tags": []
   },
   "outputs": [],
   "source": []
  },
  {
   "cell_type": "code",
   "execution_count": null,
   "id": "6fcba1cd-731a-4488-9e87-c3beb88e59d3",
   "metadata": {
    "tags": []
   },
   "outputs": [],
   "source": [
    "ratios = []\n",
    "for r in rs:\n",
    "    ratio = calc_ratio(r, n_lm, n_rl) \n",
    "    ratios.append(ratio)\n",
    "    \n",
    "ratios_text = []\n",
    "for r in rs_text:\n",
    "    ratio = calc_ratio(r, n_lm, n_rl) \n",
    "    ratios_text.append(ratio)\n",
    "\n",
    "fig, ax = plt.subplots()\n",
    "ax.plot(rs, ratios, '-')\n",
    "for r in rs_text:\n",
    "    ax.plot(rs_text, ratios_text, 'o', color='k')\n",
    "    ratio = calc_ratio(r, n_lm, n_rl)\n",
    "    ax.text(r, ratio, f'{ratio:.2f}')\n",
    "    \n",
    "ax.set_xlabel('conversion rate of the infected cells')\n",
    "ax.set_ylabel('LM/RL ratio for the infected cells')\n",
    "plt.show()"
   ]
  },
  {
   "cell_type": "code",
   "execution_count": null,
   "id": "03ff7da3-f007-4de9-895f-8cd2db306619",
   "metadata": {},
   "outputs": [],
   "source": [
    "ps = np.linspace(0,1,5)\n",
    "rs = np.linspace(0,1,101) #[0.1, 0.2, 0.5]\n",
    "texts_idx = np.array([10,20,50])\n",
    "\n",
    "ratios_p = {}\n",
    "for p in ps:\n",
    "    ratios = []\n",
    "    for r in rs:\n",
    "        ratio = calc_ratio2(r, p, n_lm, n_rl, n_no) \n",
    "        ratios.append(ratio)\n",
    "    ratios = np.array(ratios)\n",
    "    ratios_p[p] = ratios\n",
    "    \n",
    "fig, ax = plt.subplots()\n",
    "for p in ps:\n",
    "    ratios = ratios_p[p]\n",
    "    ax.plot(rs, ratios, '-', label=f'{p:.2f}')\n",
    "    # ax.plot(rs[texts_idx], ratios[texts_idx], 'o', color='k')\n",
    "    # for i in texts_idx:\n",
    "    #     ax.text(rs[i], ratios[i], f'{ratios[i]:.2f}')\n",
    "    \n",
    "ax.legend(title='conversion ratio others/LM (p)', bbox_to_anchor=(1,1))\n",
    "ax.set_xlabel('conversion rate (r) for LM')\n",
    "ax.set_ylabel('LM/RL ratio')\n",
    "sns.despine(ax=ax)\n",
    "plt.show()"
   ]
  },
  {
   "cell_type": "code",
   "execution_count": null,
   "id": "8bb54d88-4f60-4653-b66d-06b3556d29ab",
   "metadata": {},
   "outputs": [],
   "source": []
  }
 ],
 "metadata": {
  "kernelspec": {
   "display_name": "Python 3 (ipykernel)",
   "language": "python",
   "name": "python3"
  },
  "language_info": {
   "codemirror_mode": {
    "name": "ipython",
    "version": 3
   },
   "file_extension": ".py",
   "mimetype": "text/x-python",
   "name": "python",
   "nbconvert_exporter": "python",
   "pygments_lexer": "ipython3",
   "version": "3.9.16"
  }
 },
 "nbformat": 4,
 "nbformat_minor": 5
}
