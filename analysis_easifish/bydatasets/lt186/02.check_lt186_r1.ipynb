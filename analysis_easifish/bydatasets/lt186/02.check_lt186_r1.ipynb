{
 "cells": [
  {
   "cell_type": "code",
   "execution_count": null,
   "id": "d3a3b96c-7267-4ae6-aeab-9b6a3255d8cc",
   "metadata": {
    "tags": []
   },
   "outputs": [],
   "source": [
    "import os\n",
    "import numpy as np\n",
    "import pandas as pd\n",
    "from scroutines.config_plots import *"
   ]
  },
  {
   "cell_type": "code",
   "execution_count": null,
   "id": "691e6092-fce6-47d9-a717-91e589c43254",
   "metadata": {
    "tags": []
   },
   "outputs": [],
   "source": [
    "ddir = '/u/home/f/f7xiesnm/project-zipursky/easifish/lt186/proc/r1'\n",
    "n5dir = '/u/home/f/f7xiesnm/project-zipursky/easifish/lt186/r1/stitching/export.n5'\n",
    "f1 = os.path.join(ddir, 'roi.csv')\n",
    "f2 = os.path.join(ddir, 'spotcount_intn.csv')"
   ]
  },
  {
   "cell_type": "code",
   "execution_count": null,
   "id": "1246bfa1-72ba-48dd-b84c-aa1f7a1006ab",
   "metadata": {
    "tags": []
   },
   "outputs": [],
   "source": [
    "df1 = pd.read_csv(f1, index_col=0)\n",
    "df2 = pd.read_csv(f2, index_col=0)\n",
    "df  = df1.join(df2)"
   ]
  },
  {
   "cell_type": "code",
   "execution_count": null,
   "id": "10404c40-1e16-4490-aa7f-39ad830baaae",
   "metadata": {
    "tags": []
   },
   "outputs": [],
   "source": [
    "df"
   ]
  },
  {
   "cell_type": "code",
   "execution_count": null,
   "id": "69211ed4-09c7-4441-bc73-88324255d997",
   "metadata": {
    "tags": []
   },
   "outputs": [],
   "source": [
    "cond = ((df['area'] < 1000) & (df['area'] > 100))\n",
    "df = df[cond]"
   ]
  },
  {
   "cell_type": "code",
   "execution_count": null,
   "id": "7d3853fc-da06-4c10-ba3a-298db82496ef",
   "metadata": {
    "tags": []
   },
   "outputs": [],
   "source": [
    "# cell level stats\n",
    "fig, axs = plt.subplots(1,4,figsize=(4*4,1*4))\n",
    "ax = axs[0]\n",
    "sns.histplot(df['x'].values, ax=ax)\n",
    "ax.set_xlabel('x')\n",
    "ax = axs[1]\n",
    "sns.histplot(df['y'].values, ax=ax)\n",
    "ax.set_xlabel('y')\n",
    "ax = axs[2]\n",
    "sns.histplot(df['z'].values, ax=ax)\n",
    "ax.set_xlabel('z')\n",
    "ax = axs[3]\n",
    "sns.histplot(df['area'].values, ax=ax)\n",
    "ax.set_xlabel('area')\n",
    "ax.axvline(100)\n",
    "ax.axvline(1000)\n",
    "fig.tight_layout()\n",
    "plt.show()"
   ]
  },
  {
   "cell_type": "code",
   "execution_count": null,
   "id": "a8bc9330-ea2d-4356-844e-b36b73c6b154",
   "metadata": {
    "tags": []
   },
   "outputs": [],
   "source": [
    "channels = [\n",
    "    'r1_c0',  'r1_c2',\n",
    "]\n",
    "genes = [\n",
    "    'RL (Cre)',\n",
    "    'LM (FlpO)',\n",
    "]"
   ]
  },
  {
   "cell_type": "code",
   "execution_count": null,
   "id": "756f1e40-e730-4e9c-b036-b15b00d4c027",
   "metadata": {
    "tags": []
   },
   "outputs": [],
   "source": [
    "# cell level stats\n",
    "for ch in channels: \n",
    "    fig, axs = plt.subplots(1,3,figsize=(3*4,1*4))\n",
    "    ax = axs[0]\n",
    "    sns.scatterplot(data=df, x='x', y=ch, ax=ax, s=3, edgecolor='none')\n",
    "    ax.set_xlabel('x')\n",
    "\n",
    "    ax = axs[1]\n",
    "    sns.scatterplot(data=df, x='y', y=ch, ax=ax, s=3, edgecolor='none')\n",
    "    ax.set_xlabel('y')\n",
    "\n",
    "    ax = axs[2]\n",
    "    sns.scatterplot(data=df, x='z', y=ch, ax=ax, s=3, edgecolor='none')\n",
    "    ax.set_xlabel('z')\n",
    "\n",
    "    fig.tight_layout()\n",
    "    plt.show()"
   ]
  },
  {
   "cell_type": "code",
   "execution_count": null,
   "id": "16626fb1-d6a5-493a-9a96-9b3c1df2a3df",
   "metadata": {
    "tags": []
   },
   "outputs": [],
   "source": [
    "df.describe()"
   ]
  },
  {
   "cell_type": "code",
   "execution_count": null,
   "id": "334dfbc7-5896-4caf-9b22-26a499cb4de6",
   "metadata": {
    "tags": []
   },
   "outputs": [],
   "source": [
    "fig, ax = plt.subplots()\n",
    "sns.histplot(df['r1_c0'].values, cumulative=True, element='step', fill=False, label='c0-Cre-RL', ax=ax)\n",
    "sns.histplot(df['r1_c2'].values, cumulative=True, element='step', fill=False, label='c2-FlpO-LM', ax=ax)\n",
    "# ax.axvline(5, linestyle='--', color='k')\n",
    "# ax.axvline(10, linestyle='--', color='k')\n",
    "# ax.axvline(30, linestyle='--', color='k')\n",
    "ax.set_xlim([-1,100])\n",
    "ax.set_xlabel('intensity')\n",
    "ax.set_ylabel('number of cells')\n",
    "ax.legend()"
   ]
  },
  {
   "cell_type": "code",
   "execution_count": null,
   "id": "c4d1f6db-06a8-4c94-b6f3-b406348c283c",
   "metadata": {
    "tags": []
   },
   "outputs": [],
   "source": [
    "for ch, gene in zip(channels, genes):\n",
    "    fig, ax = plt.subplots(figsize=(10,10))\n",
    "    # vmax = np.percentile(df[f'{ch}'], 99.9)\n",
    "    vmax = 20\n",
    "    print(vmax)\n",
    "    g = ax.scatter(df['x'].values, df['z'].values, c=df[f'{ch}'], s=1, edgecolor='none', \n",
    "                   vmax = vmax,\n",
    "               cmap='rocket_r')\n",
    "    ax.set_title(gene)\n",
    "    ax.set_aspect('equal')\n",
    "    fig.colorbar(g, shrink=0.3)\n",
    "    plt.show()\n",
    "    \n",
    "    fig, ax = plt.subplots(figsize=(10,10))\n",
    "    # vmax = np.percentile(df[f'{ch}'], 99.9)\n",
    "    vmax = 30\n",
    "    print(vmax)\n",
    "    print(np.sum((df[f'{ch}']>vmax)))\n",
    "    g = ax.scatter(df['x'].values, df['z'].values, c=df[f'{ch}']>vmax, s=1, edgecolor='none', \n",
    "               cmap='rocket_r')\n",
    "    ax.set_title(gene)\n",
    "    ax.set_aspect('equal')\n",
    "    fig.colorbar(g, shrink=0.3)\n",
    "    plt.show()\n",
    "    \n",
    "    fig, ax = plt.subplots(figsize=(10,10))\n",
    "    # vmax = np.percentile(df[f'{ch}'], 99.9)\n",
    "    vmax = 15\n",
    "    print(vmax)\n",
    "    print(np.sum((df[f'{ch}']>vmax)))\n",
    "    g = ax.scatter(df['x'].values, df['z'].values, c=df[f'{ch}']>vmax, s=1, edgecolor='none', \n",
    "               cmap='rocket_r')\n",
    "    ax.set_title(gene)\n",
    "    ax.set_aspect('equal')\n",
    "    fig.colorbar(g, shrink=0.3)\n",
    "    plt.show()\n",
    "    \n",
    "    break"
   ]
  },
  {
   "cell_type": "code",
   "execution_count": null,
   "id": "58c5ec52-e73c-488f-b5d4-9b4ca41891be",
   "metadata": {
    "tags": []
   },
   "outputs": [],
   "source": [
    "for ch, gene in zip(channels, genes):\n",
    "    fig, ax = plt.subplots(figsize=(10,10))\n",
    "    vmax = np.percentile(df[f'{ch}'], 99.9)\n",
    "    print(vmax)\n",
    "    g = ax.scatter(df['x'].values, df['z'].values, c=df[f'{ch}'], s=1, edgecolor='none', \n",
    "                   vmax = vmax,\n",
    "               cmap='rocket_r')\n",
    "    ax.set_title(gene)\n",
    "    ax.set_aspect('equal')\n",
    "    fig.colorbar(g, shrink=0.3)\n",
    "    plt.show()"
   ]
  },
  {
   "cell_type": "code",
   "execution_count": null,
   "id": "eff6188f-0757-46ec-9966-3ccb82e19283",
   "metadata": {
    "tags": []
   },
   "outputs": [],
   "source": [
    "def rename(code):\n",
    "    rename_dict = {\n",
    "        0: 'NA', \n",
    "        1: 'RL', \n",
    "        2: 'LM', \n",
    "        3: 'both'}\n",
    "    return rename_dict[code]\n",
    "\n",
    "df = df.copy()\n",
    "th = 5 \n",
    "df['bi_r1_c0'] = df['r1_c0'] > th \n",
    "df['bi_r1_c2'] = df['r1_c2'] > th \n",
    "df['lbl'] = (df['r1_c0'] > th).astype(int) + 2*(df['r1_c2'] > th).astype(int)\n",
    "df['lbl_v2'] = df['lbl'].apply(rename)\n",
    "np.unique(df['lbl'].values)\n",
    "np.unique(df['lbl_v2'].values)\n"
   ]
  },
  {
   "cell_type": "code",
   "execution_count": null,
   "id": "ba54ab1c-6a1b-4ebc-9ab6-341488e4fe90",
   "metadata": {
    "tags": []
   },
   "outputs": [],
   "source": [
    "fig, axs = plt.subplots(2,1,figsize=(10,5*2))\n",
    "for ax, ch, gene in zip(axs, channels, genes):\n",
    "    g = ax.scatter(df['x'].values, df['z'].values, c=df[f'bi_{ch}'], s=3, edgecolor='none', \n",
    "               cmap='rocket_r')\n",
    "    ax.set_title(gene)\n",
    "    ax.set_aspect('equal')\n",
    "    fig.colorbar(g, shrink=0.3)\n",
    "plt.show()"
   ]
  },
  {
   "cell_type": "code",
   "execution_count": null,
   "id": "f191cf0e-69e9-42e2-adff-1ee50684fe86",
   "metadata": {
    "tags": []
   },
   "outputs": [],
   "source": [
    "sns.color_palette('tab10', 10)"
   ]
  },
  {
   "cell_type": "code",
   "execution_count": null,
   "id": "a4c5bc96-3093-459f-88fe-24ff2e4725c9",
   "metadata": {
    "tags": []
   },
   "outputs": [],
   "source": [
    "palette = {\n",
    "    'NA': 'lightgray', \n",
    "    'LM': 'C3', \n",
    "    'RL': 'C0', \n",
    "    'both': 'C6', \n",
    "}"
   ]
  },
  {
   "cell_type": "code",
   "execution_count": null,
   "id": "6e7b7146-b01e-4b4a-a3e6-9d716ebca3b1",
   "metadata": {
    "tags": []
   },
   "outputs": [],
   "source": [
    "df.value_counts('lbl_v2')"
   ]
  },
  {
   "cell_type": "code",
   "execution_count": null,
   "id": "728c1b8a-9f23-46f7-b226-a9c115be7a70",
   "metadata": {
    "tags": []
   },
   "outputs": [],
   "source": [
    "a = df.value_counts('lbl_v2')\n",
    "print(a/len(df)*100, \"\\n\")\n",
    "\n",
    "print(f\"both in LM (%): {a.loc['both']/(a.loc['both']+a.loc['LM'])*100:.1f}\")\n",
    "print(f\"both in RL (%): {a.loc['both']/(a.loc['both']+a.loc['RL'])*100:.1f}\")\n",
    "print(f\"RL/LM (%): {(a.loc['both']+a.loc['RL'])/(a.loc['both']+a.loc['LM'])*100:.1f}\")"
   ]
  },
  {
   "cell_type": "code",
   "execution_count": null,
   "id": "6350a03d-08f6-4856-ba8b-7ebb36786860",
   "metadata": {
    "tags": []
   },
   "outputs": [],
   "source": [
    "fig, ax = plt.subplots(figsize=(3,4))\n",
    "df[df['lbl_v2']!='NA'].value_counts('lbl_v2').plot.bar(width=0.7, color='black')\n",
    "plt.show()"
   ]
  },
  {
   "cell_type": "code",
   "execution_count": null,
   "id": "168d6143-883b-45d1-9881-a0babeb41c6d",
   "metadata": {
    "tags": []
   },
   "outputs": [],
   "source": [
    "def plot_easifish_proj(data, x, y, hue='lbl_v2', na_rep='NA', invert_yaxis=False, figsize=(8,8)):\n",
    "    \n",
    "    fig, ax = plt.subplots(figsize=figsize)\n",
    "    sns.scatterplot(data=df, \n",
    "                    x=x, y=y, color='lightgray', s=2, edgecolor='none')\n",
    "    sns.scatterplot(data=df[df[hue]!=na_rep], \n",
    "                    x=x, y=y, hue=hue, palette=palette, s=5, edgecolor='none')\n",
    "    if invert_yaxis:\n",
    "        ax.invert_yaxis()\n",
    "        \n",
    "    ax.grid(False)\n",
    "    ax.set_aspect('equal')\n",
    "    ax.legend(bbox_to_anchor=(1,1))\n",
    "    plt.show()"
   ]
  },
  {
   "cell_type": "code",
   "execution_count": null,
   "id": "f5798e2d-34a3-41c7-941a-8443076f3d25",
   "metadata": {
    "tags": []
   },
   "outputs": [],
   "source": [
    "plot_easifish_proj(df, 'x', 'y')\n",
    "plot_easifish_proj(df, 'x', 'z', invert_yaxis=True)\n",
    "plot_easifish_proj(df, 'y', 'z', invert_yaxis=True)"
   ]
  },
  {
   "cell_type": "code",
   "execution_count": null,
   "id": "88733f70-84e2-40d4-bfd1-e973799289ac",
   "metadata": {},
   "outputs": [],
   "source": [
    "fout = \"/data/qlyu/v1/results_easifish/lt186_r1_labels_Jun1.csv\"\n",
    "df.to_csv(fout)\n",
    "!head $fout"
   ]
  },
  {
   "cell_type": "code",
   "execution_count": null,
   "id": "9bd09a9c-c4e5-41f9-a30e-6b0dae55cf47",
   "metadata": {},
   "outputs": [],
   "source": []
  },
  {
   "cell_type": "markdown",
   "id": "a98bffc3-5f06-4ea7-bc4c-ae60cb5eace3",
   "metadata": {},
   "source": [
    "# check dimensions - make sure I understand them"
   ]
  },
  {
   "cell_type": "markdown",
   "id": "4d450a99-5329-4d64-96cd-ce61ae79f6a5",
   "metadata": {},
   "source": [
    "#### Load 'n5' image data - cytoDAPI"
   ]
  },
  {
   "cell_type": "code",
   "execution_count": null,
   "id": "c9c80246-83e3-43d4-a5ae-fa742cc9d4b5",
   "metadata": {
    "tags": []
   },
   "outputs": [],
   "source": [
    "import zarr"
   ]
  },
  {
   "cell_type": "code",
   "execution_count": null,
   "id": "498b1316-0ed4-41cb-9d81-9dc2f16d5543",
   "metadata": {},
   "outputs": [],
   "source": [
    "subpath='c3/s3' # channel and scale, full resolution (s0) image can be loaded for detailed inspection\n",
    "im = zarr.open(store=zarr.N5Store(n5dir), mode='r')\n",
    "img = im[subpath] ## can also choose to load a subset of the image data\n",
    "img.shape # z, y, x"
   ]
  },
  {
   "cell_type": "code",
   "execution_count": null,
   "id": "f648dab8-92ce-4853-9b25-0a2354e5b6ff",
   "metadata": {},
   "outputs": [],
   "source": []
  }
 ],
 "metadata": {
  "kernelspec": {
   "display_name": "Python 3 (ipykernel)",
   "language": "python",
   "name": "python3"
  },
  "language_info": {
   "codemirror_mode": {
    "name": "ipython",
    "version": 3
   },
   "file_extension": ".py",
   "mimetype": "text/x-python",
   "name": "python",
   "nbconvert_exporter": "python",
   "pygments_lexer": "ipython3",
   "version": "3.9.16"
  }
 },
 "nbformat": 4,
 "nbformat_minor": 5
}
