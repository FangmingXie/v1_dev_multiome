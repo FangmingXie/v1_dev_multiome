{
 "cells": [
  {
   "cell_type": "markdown",
   "id": "b1b45a35-9b73-4a58-ab3f-308829d6e3e0",
   "metadata": {},
   "source": [
    "# analysis V4 - new basis code - Dec 6, 2023\n",
    "- cleaned up the data QC and organizations a bit\n",
    "- having two anndata and their spin offs - both FISH and proj data \n",
    "- flip an axis (y-axis) when plotting - not in data\n",
    "- focus on L2/3 cells\n",
    "\n",
    "TODO: \n",
    "- separate and organize plotting functions \n",
    "- organize the plots and generate more insights"
   ]
  },
  {
   "cell_type": "code",
   "execution_count": null,
   "id": "a3a95741-400b-452b-b98d-61cae1d845ae",
   "metadata": {
    "tags": []
   },
   "outputs": [],
   "source": [
    "import numpy as np\n",
    "import pandas as pd\n",
    "import os \n",
    "import matplotlib.pyplot as plt\n",
    "import umap\n",
    "import seaborn as sns\n",
    "from sklearn.decomposition import PCA\n",
    "from sklearn.cluster import KMeans\n",
    "import matplotlib\n",
    "\n",
    "import anndata \n",
    "\n",
    "from scroutines import config_plots\n",
    "from scroutines import basicu\n",
    "from scroutines import miscu"
   ]
  },
  {
   "cell_type": "code",
   "execution_count": null,
   "id": "69ad6802-1f9b-4ce9-bcc1-3abe64677acf",
   "metadata": {
    "tags": []
   },
   "outputs": [],
   "source": [
    "import sys\n",
    "sys.setrecursionlimit(10000)\n",
    "from scipy.cluster import hierarchy as sch"
   ]
  },
  {
   "cell_type": "code",
   "execution_count": null,
   "id": "b71744ef-cde4-4ccf-9b2b-8d16fc9610d7",
   "metadata": {
    "tags": []
   },
   "outputs": [],
   "source": [
    "def norm_data(adata):\n",
    "    \"\"\"This procedure is independnet of each gene\n",
    "    norm by size (cell volume)\n",
    "    norm by log2(1+)\n",
    "    norm by zscore\n",
    "    \"\"\"\n",
    "    # size\n",
    "    med_size = adata.obs['area'].median()\n",
    "    max_size = adata.obs['area'].max()\n",
    "    min_size = adata.obs['area'].min()\n",
    "\n",
    "    print(f\"Med cell size {med_size:.1f} um^3\\t  {np.power(med_size,1/3):.1f} um\")\n",
    "    print(f\"Max cell size {max_size:.1f} um^3\\t  {np.power(max_size,1/3):.1f} um\")\n",
    "    print(f\"Min cell size {min_size:.1f} um^3\\t  {np.power(min_size,1/3):.1f} um\")\n",
    "\n",
    "    size_factor = (adata.obs['area']/med_size).values\n",
    "\n",
    "\n",
    "    # norm by size; by log2+1; by zscore\n",
    "    mat_raw = np.array(adata.X)\n",
    "    mat_nrm = mat_raw/size_factor.reshape(-1,1) # .divide(size_factor, axis=0)\n",
    "    mat_log = np.log2(1+mat_nrm)\n",
    "    mat_zsc = (mat_log - np.mean(mat_log, axis=0))/(1e-10+np.std(mat_log, axis=0))\n",
    "\n",
    "    adata.layers['nrm'] = mat_nrm\n",
    "    adata.layers['log'] = mat_log\n",
    "    adata.layers['zsc'] = mat_zsc\n",
    "    \n",
    "    return # mat_raw, mat_nrm, mat_log, mat_zsc"
   ]
  },
  {
   "cell_type": "code",
   "execution_count": null,
   "id": "b081206f-e414-4b79-ad48-12d11185070d",
   "metadata": {
    "tags": []
   },
   "outputs": [],
   "source": [
    "pth_dat = '/u/home/f/f7xiesnm/project-zipursky/easifish/lt186/proc/r23467v3/'\n",
    "!ls $pth_dat"
   ]
  },
  {
   "cell_type": "code",
   "execution_count": null,
   "id": "335e4b29-aa4e-4886-bdd8-a940edc6741d",
   "metadata": {
    "tags": []
   },
   "outputs": [],
   "source": [
    "# features\n",
    "var_names = {\n",
    "    # 'r1_c0': \"RL (Cre)\",\n",
    "    # 'r1_c2': \"LM (FlpO)\",\n",
    "    'r2v3_c0': 'Sorcs3',\n",
    "    'r2v3_c1': 'Kcnq5',\n",
    "    'r2v3_c2': 'Chrm2',\n",
    "    'r2v3_c4': 'Adamts2',\n",
    "    \n",
    "    'r3v3_c0': 'Kcnip3',\n",
    "    'r3v3_c1': 'Rorb',\n",
    "    'r3v3_c2': 'Cdh13',\n",
    "    'r3v3_c4': 'Cntn5',\n",
    "    \n",
    "    'r4v3_c0': 'Cdh12',\n",
    "    'r4v3_c1': 'Gria3',\n",
    "    'r4v3_c2': 'Cntnap2',\n",
    "    'r4v3_c4': 'Gabrg3',\n",
    "    \n",
    "    'r6v3_c0': 'Ncam2',\n",
    "    'r6v3_c1': 'Rfx3',\n",
    "    'r6v3_c2': 'Epha10',\n",
    "    'r6v3_c4': 'Baz1a',\n",
    "    \n",
    "    'r7v3_c0': 'Kcnh5',\n",
    "    'r7v3_c1': 'Slc17a7',\n",
    "    'r7v3_c2': 'Trpc6',\n",
    "    'r7v3_c4': 'Grm8',\n",
    "}\n",
    "proj_idx = np.array([]) #np.array(['r1_c0', 'r1_c2'])\n",
    "\n",
    "# cells\n",
    "f_meta = os.path.join(pth_dat, 'roi.csv')\n",
    "\n",
    "# spots\n",
    "f_spot = os.path.join(pth_dat, 'spotcount.csv')"
   ]
  },
  {
   "cell_type": "code",
   "execution_count": null,
   "id": "d94e56ad-4bcd-4546-bf2e-97ebf5ec3080",
   "metadata": {
    "tags": []
   },
   "outputs": [],
   "source": [
    "# f = '/u/home/f/f7xiesnm/project-zipursky/v1-bb/v1/data/cheng21_cell_scrna/res/L23-ABC-genes-n288-n286unq-annot_v2.csv'\n",
    "f = '/u/home/f/f7xiesnm/project-zipursky/v1-bb/v1/results/gene_ptime_P28_L23_Mar27.tsv'\n",
    "df_annot = pd.read_csv(f).sort_values('gene_ptime')"
   ]
  },
  {
   "cell_type": "code",
   "execution_count": null,
   "id": "6cc4ddb8-02a0-4724-9dd2-362b4c17268d",
   "metadata": {
    "tags": []
   },
   "outputs": [],
   "source": [
    "\n",
    "var = pd.Series(var_names).to_frame('name')\n",
    "var['proj'] = False\n",
    "var.loc[proj_idx, 'proj'] = True\n",
    "var['ptime'] = df_annot.set_index('gene').reindex(var['name'])['gene_ptime'].values\n",
    "var['ptime_order'] = var['ptime'].rank()  \n",
    "\n",
    "var_idx = var.index.values.astype(str)\n",
    "var_i2n = var['name'] \n",
    "var_n2i = var.reset_index().set_index('name')['index']\n",
    "\n",
    "gene_idx = np.array([idx for idx in var_idx if idx not in proj_idx])\n",
    "\n",
    "# ftrs_order  = gene_names.index.values \n",
    "# genes_order = gene_names.values\n",
    "var"
   ]
  },
  {
   "cell_type": "code",
   "execution_count": null,
   "id": "64bae622-dabc-4267-aa2d-045bb73b6cab",
   "metadata": {},
   "outputs": [],
   "source": [
    "# cols\n",
    "raw_var_idx = np.char.add(var_idx, '_raw')\n",
    "nrm_var_idx = np.char.add(var_idx, '_nrm')\n",
    "log_var_idx = np.char.add(var_idx, '_log')\n",
    "zsc_var_idx = np.char.add(var_idx, '_zsc')\n",
    "\n",
    "raw_gene_idx = np.char.add(gene_idx, '_raw')\n",
    "nrm_gene_idx = np.char.add(gene_idx, '_nrm')\n",
    "log_gene_idx = np.char.add(gene_idx, '_log')\n",
    "zsc_gene_idx = np.char.add(gene_idx, '_zsc')\n",
    "\n"
   ]
  },
  {
   "cell_type": "code",
   "execution_count": null,
   "id": "c740690d-978f-47de-9209-97d335a7696b",
   "metadata": {
    "tags": []
   },
   "outputs": [],
   "source": [
    "meta = pd.read_csv(f_meta, index_col=0)\n",
    "spot = pd.read_csv(f_spot, index_col=0)\n",
    "assert np.all(meta.index.values == spot.index.values)\n",
    "print(meta.shape, spot.shape) # \n",
    "\n",
    "max_x, max_y, max_z = meta[['x', 'y', 'z']].describe().loc['max']\n",
    "min_x, min_y, min_z = meta[['x', 'y', 'z']].describe().loc['min']\n",
    "print(f'x: {min_x:.1f}\\t{max_x:.1f}')\n",
    "print(f'y: {min_y:.1f}\\t{max_y:.1f}')\n",
    "print(f'z: {min_z:.1f}\\t{max_z:.1f}')\n",
    "\n",
    "meta['to_edge'] = np.minimum(\n",
    "    np.minimum(meta['x']-min_x, max_x-meta['x']), \n",
    "    np.minimum(meta['y']-min_y, max_y-meta['y']), \n",
    "    np.minimum(meta['z']-min_z, max_z-meta['z']),\n",
    ")\n",
    "meta['cov'] = spot.sum(axis=1)\n",
    "\n",
    "# bin data \n",
    "bins_8p = np.linspace(0,900,8+1).astype(int)\n",
    "bins_4p = np.linspace(0,900,4+1).astype(int)\n",
    "print(bins_8p, bins_4p)\n",
    "\n",
    "meta['xb_8p'] = pd.cut(meta['x'], bins=bins_8p)\n",
    "meta['yb_8p'] = pd.cut(meta['y'], bins=bins_8p)\n",
    "meta['zb_8p'] = pd.cut(meta['z'], bins=bins_8p)\n",
    "\n",
    "meta['xb_4p'] = pd.cut(meta['x'], bins=bins_4p)\n",
    "meta['yb_4p'] = pd.cut(meta['y'], bins=bins_4p)\n",
    "meta['zb_4p'] = pd.cut(meta['z'], bins=bins_4p)"
   ]
  },
  {
   "cell_type": "code",
   "execution_count": null,
   "id": "cd7e9e96-b3d3-479d-815f-93e5b93cc0b9",
   "metadata": {
    "tags": []
   },
   "outputs": [],
   "source": [
    "adata = anndata.AnnData(X=spot.values, obs=meta, var=var)\n",
    "adata"
   ]
  },
  {
   "cell_type": "code",
   "execution_count": null,
   "id": "63ae7dab-a117-4b63-bc48-55712075d1a9",
   "metadata": {
    "tags": []
   },
   "outputs": [],
   "source": [
    "# remove outliers adata -> adata2\n",
    "df = adata.obs\n",
    "conds = [\n",
    "    df['area'] > 500,\n",
    "    df['area'] < 5000,\n",
    "    df['x'] > min_x + 100,\n",
    "    df['x'] < max_x - 100,\n",
    "    \n",
    "    df['y'] > min_y + 100,\n",
    "    df['y'] < max_y - 100,\n",
    "    \n",
    "    df['z'] > min_z + 20,\n",
    "    df['z'] < max_z - 20,\n",
    "]\n",
    "cond_all = np.ones(len(df)) > 0\n",
    "for cond in conds:\n",
    "    cond_all = np.logical_and(cond_all, cond)\n",
    "    print(cond_all.sum())\n",
    "print(f\"Num cells before and after: {len(df)} -> {cond_all.sum()}\")\n",
    "\n",
    "# remove outliers\n",
    "adata2 = adata[cond_all].copy()\n",
    "adata2"
   ]
  },
  {
   "cell_type": "code",
   "execution_count": null,
   "id": "7f89cdbe-e900-4735-a142-f8bf1724e35a",
   "metadata": {
    "tags": []
   },
   "outputs": [],
   "source": [
    "# separate the proj data adata2 -> adata3\n",
    "adata3 = adata2[:,gene_idx].copy()\n",
    "# adata3.obs[proj_idx] = np.array(adata2[:,proj_idx].X)\n",
    "adata3.obs['cov_gene'] = np.array(adata3.X.sum(axis=1))"
   ]
  },
  {
   "cell_type": "code",
   "execution_count": null,
   "id": "45605d49-a40b-43e8-9b30-9637b45be62b",
   "metadata": {
    "tags": []
   },
   "outputs": [],
   "source": [
    "# normalize the data and record\n",
    "norm_data(adata2)\n",
    "df_p2 = adata2.obs.copy()\n",
    "df_p2[nrm_var_idx] = np.array(adata2.layers['nrm'])\n",
    "\n",
    "norm_data(adata3)\n",
    "df_p3 = adata3.obs.copy()\n",
    "df_p3[nrm_gene_idx] = np.array(adata3.layers['nrm'])"
   ]
  },
  {
   "cell_type": "markdown",
   "id": "4e954df8-fbc3-4b74-8f0c-da3048f49606",
   "metadata": {},
   "source": [
    "# report "
   ]
  },
  {
   "cell_type": "code",
   "execution_count": null,
   "id": "8d08c0c2-49e9-4a80-957b-21515728f05a",
   "metadata": {
    "tags": []
   },
   "outputs": [],
   "source": [
    "for idx in var_idx:\n",
    "    val = adata[:,idx].X[:,0]\n",
    "    print(f'{idx}\\t{var_i2n.loc[idx]}\\t{np.min(val):.1f}\\t{np.max(val):.1f}\\t{100*np.sum(val>0)/len(val):.2f}%')"
   ]
  },
  {
   "cell_type": "code",
   "execution_count": null,
   "id": "856d6a50-e930-41c8-974e-841758cc6232",
   "metadata": {
    "tags": []
   },
   "outputs": [],
   "source": [
    "cols = ['x', 'y', 'z', 'area']\n",
    "with sns.plotting_context('paper'):\n",
    "    fig, axs = plt.subplots(4, 1, figsize=(1*6, 2*4))\n",
    "    for ax, col in zip(axs, cols):\n",
    "        sns.histplot(adata.obs[col], ax=ax)\n",
    "        ax.set_xlabel(col)\n",
    "    fig.subplots_adjust(hspace=0.5)\n",
    "    plt.show()\n"
   ]
  },
  {
   "cell_type": "code",
   "execution_count": null,
   "id": "690fe12e-3fe2-4034-a3f1-1098e7cad025",
   "metadata": {
    "tags": []
   },
   "outputs": [],
   "source": [
    "sns.scatterplot(data=adata.obs, x='area', y='cov', s=2, edgecolor='none')"
   ]
  },
  {
   "cell_type": "code",
   "execution_count": null,
   "id": "599d0a0d-da6b-4e7c-8c1e-136a0ee26b0e",
   "metadata": {
    "tags": []
   },
   "outputs": [],
   "source": [
    "with sns.plotting_context('paper'):\n",
    "    fig, axs = plt.subplots(2, 1, figsize=(10*1,4*2))\n",
    "    ax = axs[0]\n",
    "    sns.boxplot(data=adata.X, ax=ax)\n",
    "    ax.set_xticklabels(adata.var.index.values, rotation=90) \n",
    "    ax.set_ylabel('counts')\n",
    "    ax.set_xlabel('Genes')\n",
    "    sns.despine(ax=ax)\n",
    "\n",
    "    ax = axs[1]\n",
    "    sns.boxplot(data=adata.X, ax=ax)\n",
    "    ax.set_xticklabels(adata.var['name'].values, rotation=90)\n",
    "    sns.despine(ax=ax)\n",
    "    ax.set_ylim([0,50])\n",
    "    ax.set_ylabel('counts')\n",
    "    ax.set_xlabel('Genes')"
   ]
  },
  {
   "cell_type": "code",
   "execution_count": null,
   "id": "745b0894-74e9-4646-ba01-4598a22f07f6",
   "metadata": {
    "tags": []
   },
   "outputs": [],
   "source": [
    "sns.scatterplot(data=adata3.obs, x='area', y='cov', s=2, edgecolor='none')\n",
    "sns.scatterplot(data=adata3.obs, x='area', y='cov_gene', s=2, edgecolor='none')"
   ]
  },
  {
   "cell_type": "code",
   "execution_count": null,
   "id": "23c9ca5a-fcd6-4d05-82a4-7b3139ab340d",
   "metadata": {
    "tags": []
   },
   "outputs": [],
   "source": [
    "# sns.scatterplot(data=adata3.obs, x='area', y=proj_idx[0], s=2, edgecolor='none')"
   ]
  },
  {
   "cell_type": "markdown",
   "id": "e6a8cdea-8dfa-4819-9015-878ad8afdf03",
   "metadata": {},
   "source": [
    "# z-sectioning visuals\n",
    "- bin into zbin\n",
    "- plot for each zbin"
   ]
  },
  {
   "cell_type": "code",
   "execution_count": null,
   "id": "61e861f9-b92f-4d68-8fd2-3921894316f9",
   "metadata": {
    "tags": []
   },
   "outputs": [],
   "source": [
    "import sys\n",
    "sys.path.insert(0, '../')\n",
    "import plotting\n",
    "\n",
    "import importlib\n",
    "importlib.reload(plotting)\n",
    "\n",
    "from plotting import view_z_sections\n",
    "from plotting import view_z_sections_4panels\n",
    "from plotting import view_z_sections_labels\n",
    "from plotting import gen_discrete_colors\n"
   ]
  },
  {
   "cell_type": "code",
   "execution_count": null,
   "id": "6d77359f-486a-438a-bad5-3cb67063825b",
   "metadata": {
    "tags": []
   },
   "outputs": [],
   "source": [
    "sp_x, sp_y = 'x', 'y'\n",
    "col = gene_idx[0] # ftrs_order[0]\n",
    "title = var_i2n[col]\n",
    "\n",
    "view_z_sections_4panels(df_p2, sp_x, sp_y, col=col+'_nrm', cmap='Greys', title=title, flip_y=True)"
   ]
  },
  {
   "cell_type": "code",
   "execution_count": null,
   "id": "26c5354e-8887-4972-b1e5-606fc9ad2e28",
   "metadata": {
    "tags": []
   },
   "outputs": [],
   "source": [
    "col = gene_idx[0] # ftrs_order[0]\n",
    "title = var_i2n[col]\n",
    "\n",
    "sp_x, sp_y, sp_z = 'x', 'y', 'zb_4p'\n",
    "view_z_sections_4panels(df_p2, sp_x, sp_y, col=col+'_nrm', sp_z=sp_z, cmap='Greys', title=title, flip_y=True)\n",
    "\n",
    "sp_x, sp_y, sp_z = 'x', 'z', 'yb_4p'\n",
    "view_z_sections_4panels(df_p2, sp_x, sp_y, col=col+'_nrm', sp_z=sp_z, cmap='Greys', title=title, flip_y=True)\n",
    "\n",
    "sp_x, sp_y, sp_z = 'z', 'y', 'xb_4p'\n",
    "view_z_sections_4panels(df_p2, sp_x, sp_y, col=col+'_nrm', sp_z=sp_z, cmap='Greys', title=title, flip_y=True)"
   ]
  },
  {
   "cell_type": "code",
   "execution_count": null,
   "id": "db0f9730-c12b-49db-9067-6cc73085b37d",
   "metadata": {
    "tags": []
   },
   "outputs": [],
   "source": [
    "sp_x, sp_y = 'x', 'z'\n",
    "fig, axs = plt.subplots(5,4,figsize=(4*4,4*5), sharey=True, sharex=True)\n",
    "cbar_ax = fig.add_axes([0.92, 0.5, 0.01, 0.2])\n",
    "axs.flat[0].invert_yaxis()\n",
    "for i, (col, ax) in enumerate(zip(var_idx[::-1], axs.flat)):\n",
    "    x = df_p2[sp_x].values\n",
    "    y = df_p2[sp_y].values\n",
    "    c = df_p2[col+'_nrm'].values\n",
    "    vmax = max(1e-5, np.percentile(c, 95))\n",
    "    \n",
    "    ax.axis('off')\n",
    "    ax.grid(False)\n",
    "    g = ax.scatter(x, y, c=c/vmax, s=5, edgecolor='none', cmap='Greys', vmax=1, vmin=-0.1) #vmax, vmin=-0.1*vmax)\n",
    "    sns.despine(ax=ax)\n",
    "    ax.set_title(var_i2n[col])\n",
    "    ax.set_xlabel(sp_x)\n",
    "    ax.set_ylabel(sp_y)\n",
    "    ax.set_aspect('equal')\n",
    "\n",
    "for ax in axs.flat[i+1:]:\n",
    "    ax.axis('off')\n",
    "    \n",
    "fig.colorbar(g, cax=cbar_ax, label='Normed counts\\n(0-95 perctl.)', aspect=5, shrink=0.3, ticks=[0, 1])\n",
    "fig.subplots_adjust(hspace=0.1, wspace=0.02)"
   ]
  },
  {
   "cell_type": "code",
   "execution_count": null,
   "id": "8d67c88c-f149-407c-aa0b-296e0cc31292",
   "metadata": {
    "tags": []
   },
   "outputs": [],
   "source": [
    "sp_x, sp_y = 'y', 'z'\n",
    "fig, axs = plt.subplots(5,4,figsize=(4*5,4*4), sharey=True, sharex=True)\n",
    "cbar_ax = fig.add_axes([0.92, 0.5, 0.01, 0.2])\n",
    "axs.flat[0].invert_yaxis()\n",
    "for i, (col, ax) in enumerate(zip(var_idx[::-1], axs.flat)):\n",
    "    x = df_p2[sp_x].values\n",
    "    y = df_p2[sp_y].values\n",
    "    c = df_p2[col+'_nrm'].values\n",
    "    vmax = max(1e-5, np.percentile(c, 95))\n",
    "    \n",
    "    ax.axis('off')\n",
    "    ax.grid(False)\n",
    "    g = ax.scatter(x, y, c=c/vmax, s=5, edgecolor='none', cmap='Greys', vmax=1, vmin=-0.1) #vmax, vmin=-0.1*vmax)\n",
    "    sns.despine(ax=ax)\n",
    "    ax.set_title(var_i2n[col])\n",
    "    ax.set_xlabel(sp_x)\n",
    "    ax.set_ylabel(sp_y)\n",
    "    ax.set_aspect('equal')\n",
    "\n",
    "for ax in axs.flat[i+1:]:\n",
    "    ax.axis('off')\n",
    "    \n",
    "fig.colorbar(g, cax=cbar_ax, label='Normed counts\\n(0-95 perctl.)', aspect=5, shrink=0.3, ticks=[0, 1])\n",
    "fig.subplots_adjust(hspace=0.1, wspace=0.02)"
   ]
  },
  {
   "cell_type": "code",
   "execution_count": null,
   "id": "e9c56ea8-0725-4f3b-99eb-1ef51fd745f0",
   "metadata": {
    "tags": []
   },
   "outputs": [],
   "source": [
    "sp_x, sp_y = 'x', 'y'\n",
    "fig, axs = plt.subplots(5,4,figsize=(4*5,4*4), sharey=True, sharex=True)\n",
    "cbar_ax = fig.add_axes([0.92, 0.5, 0.01, 0.2])\n",
    "axs.flat[0].invert_yaxis()\n",
    "for i, (col, ax) in enumerate(zip(var_idx[::-1], axs.flat)):\n",
    "    x = df_p2[sp_x].values\n",
    "    y = df_p2[sp_y].values\n",
    "    c = df_p2[col+'_nrm'].values\n",
    "    vmax = max(1e-5, np.percentile(c, 95))\n",
    "    \n",
    "    ax.axis('off')\n",
    "    ax.grid(False)\n",
    "    g = ax.scatter(x, y, c=c/vmax, s=5, edgecolor='none', cmap='Greys', vmax=1, vmin=-0.1) #vmax, vmin=-0.1*vmax)\n",
    "    sns.despine(ax=ax)\n",
    "    ax.set_title(var_i2n[col])\n",
    "    ax.set_xlabel(sp_x)\n",
    "    ax.set_ylabel(sp_y)\n",
    "    ax.set_aspect('equal')\n",
    "\n",
    "for ax in axs.flat[i+1:]:\n",
    "    ax.axis('off')\n",
    "    \n",
    "fig.colorbar(g, cax=cbar_ax, label='Normed counts\\n(0-95 perctl.)', aspect=5, shrink=0.3, ticks=[0, 1])\n",
    "fig.subplots_adjust(hspace=0.1, wspace=0.02)"
   ]
  },
  {
   "cell_type": "code",
   "execution_count": null,
   "id": "005ba9cf-1a01-49d7-9ea6-7bf39194ff10",
   "metadata": {},
   "outputs": [],
   "source": []
  },
  {
   "cell_type": "markdown",
   "id": "f7690ac2-4d28-413f-aa78-117142e5209a",
   "metadata": {},
   "source": [
    "# hierarchical clustering"
   ]
  },
  {
   "cell_type": "code",
   "execution_count": null,
   "id": "41594e61-da54-46a6-97ae-42e77f2d25ba",
   "metadata": {
    "tags": []
   },
   "outputs": [],
   "source": [
    "mat_ftrs = pd.DataFrame(adata3.layers['zsc'], index=adata3.obs.index, columns=adata3.var.index)\n",
    "mat_prjs = adata3.obs[proj_idx] \n",
    "\n",
    "# sch\n",
    "col_link = sch.linkage(mat_ftrs.T, method='ward', metric='euclidean')\n",
    "col_order = sch.dendrogram(col_link, no_plot=True)['leaves']\n",
    "\n",
    "row_link = sch.linkage(mat_ftrs, method='ward', metric='euclidean')\n",
    "row_order = sch.dendrogram(row_link, p=30, truncate_mode='none', no_plot=True)['leaves']\n",
    "\n",
    "# get clusters\n",
    "clsts1 = sch.fcluster(row_link, 200, criterion='distance')\n",
    "clsts2 = sch.fcluster(row_link, 100, criterion='distance')\n",
    "clsts3 = sch.fcluster(row_link,  50, criterion='distance')\n",
    "\n",
    "print(clsts1.shape, np.unique(clsts1).shape)\n",
    "print(clsts2.shape, np.unique(clsts2).shape)\n",
    "print(clsts3.shape, np.unique(clsts3).shape)\n",
    "\n",
    "\n",
    "# register\n",
    "adata3.obs['clst_l1'] = clsts1\n",
    "adata3.obs['clst_l2'] = clsts2\n",
    "adata3.obs['clst_l3'] = clsts3\n",
    "\n",
    "adata2.obs['clst_l1'] = clsts1\n",
    "adata2.obs['clst_l2'] = clsts2\n",
    "adata2.obs['clst_l3'] = clsts3\n",
    "\n",
    "\n",
    "df_p3['clst_l1'] = clsts1\n",
    "df_p3['clst_l2'] = clsts2\n",
    "df_p3['clst_l3'] = clsts3\n",
    "\n",
    "df_p2['clst_l1'] = clsts1\n",
    "df_p2['clst_l2'] = clsts2\n",
    "df_p2['clst_l3'] = clsts3\n",
    "\n",
    "# colors\n",
    "palette1, dismap1 = gen_discrete_colors(len(np.unique(clsts1)))\n",
    "palette2, dismap2 = gen_discrete_colors(len(np.unique(clsts2)))\n",
    "palette3, dismap3 = gen_discrete_colors(len(np.unique(clsts3)))"
   ]
  },
  {
   "cell_type": "code",
   "execution_count": null,
   "id": "d64fe27a-4ddf-4d7d-944d-831ed26f3b14",
   "metadata": {
    "tags": []
   },
   "outputs": [],
   "source": [
    "fig = plt.figure(figsize=(10,15))\n",
    "axd = fig.subplot_mosaic(\"A\"*12+\"BCDEF\")\n",
    "ax = axd[\"A\"]\n",
    "col_idx = mat_ftrs.columns[col_order].values.astype(str)\n",
    "col_names = var_i2n[col_idx].values.astype(str)\n",
    "xticklabels = np.char.add(np.char.add(col_names, ' '), col_idx)\n",
    "\n",
    "sns.heatmap(\n",
    "    mat_ftrs.iloc[row_order,col_order],\n",
    "    yticklabels=False,\n",
    "    xticklabels=xticklabels,\n",
    "    cmap='coolwarm',\n",
    "    cbar_kws=dict(shrink=0.5, location='bottom', label='zscore log2(1+norm expr.)'),\n",
    "    vmax=3, vmin=-3,\n",
    "    ax=ax,\n",
    ")\n",
    "ax.set_ylabel('Cells')\n",
    "# ax.set_xticklabels()\n",
    "\n",
    "for i, (ax, col) in enumerate(zip(\n",
    "    (axd[\"B\"], axd[\"C\"], axd[\"D\"]),\n",
    "    ('clst_l1', 'clst_l2', 'clst_l3'),\n",
    "    )):\n",
    "    vec = adata3.obs[col].values\n",
    "    sns.heatmap(\n",
    "        adata3.obs[[col]].rename(columns={col: col.replace('clst_l', 'L')}).iloc[row_order],\n",
    "        yticklabels=False,\n",
    "        cmap='jet',\n",
    "        cbar_kws=dict(location='bottom', aspect=5, label='', ticks=[]),\n",
    "        ax=ax,\n",
    "    )\n",
    "    ax.set_ylabel('')\n",
    "    positions = np.cumsum(np.unique(vec, return_counts=True)[1])\n",
    "    ax.hlines(positions, xmin=-0.2, xmax=1, linewidth=1, linestyle='-', color='k', clip_on=False)\n",
    "    for i, pos in enumerate(positions):\n",
    "        ax.text(0, pos, i+1, color='white', fontsize=15)\n",
    "\n",
    "# ax = axd[\"E\"]\n",
    "# col_idx = mat_prjs.columns.values.astype(str)\n",
    "# col_names = var_i2n[col_idx].values.astype(str)\n",
    "# xticklabels = np.char.add(np.char.add(col_names, ' '), col_idx)\n",
    "# g = sns.heatmap(\n",
    "#     mat_prjs.iloc[row_order],\n",
    "#     yticklabels=False,\n",
    "#     xticklabels=xticklabels,\n",
    "#     cmap='Greys',\n",
    "#     cbar_kws=dict(location='bottom', aspect=5, ),\n",
    "#     ax=ax,\n",
    "# )\n",
    "# ax.tick_params(rotation=90)\n",
    "# ax.set_ylabel('')\n",
    "# colorbar = g.collections[0].colorbar\n",
    "# colorbar.ax.tick_params(labelsize=10)  # Set fontsize to 12 points\n",
    "\n",
    "ax = axd[\"F\"]\n",
    "g = sns.heatmap(\n",
    "    adata3.obs[['z']].iloc[row_order], \n",
    "    yticklabels=False,\n",
    "    cmap='Greys',\n",
    "    cbar_kws=dict(location='bottom', aspect=5, label='um'),\n",
    "    # vmin=0,\n",
    "    ax=ax,\n",
    ")\n",
    "ax.set_ylabel('')\n",
    "colorbar = g.collections[0].colorbar\n",
    "colorbar.ax.tick_params(labelsize=10, rotation=90)  # Set fontsize to 12 points\n"
   ]
  },
  {
   "cell_type": "code",
   "execution_count": null,
   "id": "fbaa225f-258f-4546-aa31-bc3669f76dce",
   "metadata": {
    "tags": []
   },
   "outputs": [],
   "source": [
    "sp_x, sp_y = 'x', 'y'\n",
    "fig, axs = plt.subplots(1,3,figsize=(4*3,5*1), sharey=True, sharex=True)\n",
    "axs.flat[0].invert_yaxis()\n",
    "# cbar_ax = fig.add_axes([0.92, 0.5, 0.01, 0.2])\n",
    "for i, (col, palette, dismap, ax) in enumerate(zip(['clst_l1', 'clst_l2', 'clst_l3'], \n",
    "                                                   [ palette1,  palette2,  palette3],\n",
    "                                                   [ dismap1,   dismap2,   dismap3],\n",
    "                                                   axs.flat)):\n",
    "    x = adata3.obs[sp_x].values\n",
    "    y = adata3.obs[sp_y].values\n",
    "    c = adata3.obs[col].values\n",
    "    \n",
    "    ax.grid(False)\n",
    "    g = ax.scatter(x, y, c=pd.Series(palette)[c], s=5, edgecolor='none',)\n",
    "    sns.despine(ax=ax)\n",
    "    ax.set_title(col)\n",
    "    ax.set_xlabel(sp_x)\n",
    "    ax.set_ylabel(sp_y)\n",
    "    ax.set_aspect('equal')\n",
    "    ax.axis('off')\n",
    "    fig.colorbar(dismap, ax=ax, orientation='horizontal', shrink=0.5, aspect=10)\n",
    "    \n",
    "fig.subplots_adjust(hspace=0.1, wspace=0.02)"
   ]
  },
  {
   "cell_type": "code",
   "execution_count": null,
   "id": "eb6f8004-9460-4574-9c04-6eb6ce6090a3",
   "metadata": {
    "tags": []
   },
   "outputs": [],
   "source": [
    "sp_x, sp_y = 'x', 'z'\n",
    "fig, axs = plt.subplots(1,3,figsize=(4*3,5*1), sharey=True, sharex=True)\n",
    "axs.flat[0].invert_yaxis()\n",
    "# cbar_ax = fig.add_axes([0.92, 0.5, 0.01, 0.2])\n",
    "for i, (col, palette, dismap, ax) in enumerate(zip(['clst_l1', 'clst_l2', 'clst_l3'], \n",
    "                                                   [ palette1,  palette2,  palette3],\n",
    "                                                   [ dismap1,   dismap2,   dismap3],\n",
    "                                                   axs.flat)):\n",
    "    x = adata3.obs[sp_x].values\n",
    "    y = adata3.obs[sp_y].values\n",
    "    c = adata3.obs[col].values\n",
    "    \n",
    "    ax.grid(False)\n",
    "    g = ax.scatter(x, y, c=pd.Series(palette)[c], s=5, edgecolor='none',)\n",
    "    sns.despine(ax=ax)\n",
    "    ax.set_title(col)\n",
    "    ax.set_xlabel(sp_x)\n",
    "    ax.set_ylabel(sp_y)\n",
    "    ax.set_aspect('equal')\n",
    "    ax.axis('off')\n",
    "    fig.colorbar(dismap, ax=ax, orientation='horizontal', shrink=0.5, aspect=10)\n",
    "    \n",
    "fig.subplots_adjust(hspace=0.1, wspace=0.02)"
   ]
  },
  {
   "cell_type": "code",
   "execution_count": null,
   "id": "b45318ac-c4f4-4bf7-97e3-7324b76fc91f",
   "metadata": {
    "tags": []
   },
   "outputs": [],
   "source": [
    "sp_x, sp_y = 'x', 'y'\n",
    "col = 'clst_l1'\n",
    "palette = palette1\n",
    "dismap = dismap1\n",
    "n = len(adata3.obs[col].unique())\n",
    "nx = min(8,n)\n",
    "ny = int((n+nx-1)/nx)\n",
    "suptitle = 'L1'\n",
    "\n",
    "fig, axs = plt.subplots(ny,nx,figsize=(3*nx,3*ny), sharey=True, sharex=True)\n",
    "axs.flat[0].invert_yaxis()\n",
    "for i, ax in enumerate(axs.flat):\n",
    "    x = adata3.obs[sp_x].values\n",
    "    y = adata3.obs[sp_y].values\n",
    "    c = adata3.obs[col].values\n",
    "    \n",
    "    ax.grid(False)\n",
    "    g = ax.scatter(x, y, c=[palette[_c] if i+1==_c else 'lightgray' for _c in c], s=5, edgecolor='none',)\n",
    "    \n",
    "    sns.despine(ax=ax)\n",
    "    ax.set_title(f\"C{i+1}\")\n",
    "    ax.set_xlabel(sp_x)\n",
    "    ax.set_ylabel(sp_y)\n",
    "    ax.set_aspect('equal')\n",
    "    ax.axis('off')\n",
    "    \n",
    "fig.suptitle(suptitle)\n",
    "fig.subplots_adjust(hspace=0.1, wspace=0.02)"
   ]
  },
  {
   "cell_type": "code",
   "execution_count": null,
   "id": "93eaf7a7-2952-48fb-8274-b23e97a08ce5",
   "metadata": {
    "tags": []
   },
   "outputs": [],
   "source": [
    "sp_x, sp_y = 'x', 'z'\n",
    "col = 'clst_l1'\n",
    "palette = palette1\n",
    "dismap = dismap1\n",
    "n = len(adata3.obs[col].unique())\n",
    "nx = min(8,n)\n",
    "ny = int((n+nx-1)/nx)\n",
    "suptitle = 'L1'\n",
    "\n",
    "fig, axs = plt.subplots(ny,nx,figsize=(3*nx,3*ny), sharey=True, sharex=True)\n",
    "axs.flat[0].invert_yaxis()\n",
    "for i, ax in enumerate(axs.flat):\n",
    "    x = adata3.obs[sp_x].values\n",
    "    y = adata3.obs[sp_y].values\n",
    "    c = adata3.obs[col].values\n",
    "    \n",
    "    ax.grid(False)\n",
    "    g = ax.scatter(x, y, c=[palette[_c] if i+1==_c else 'lightgray' for _c in c], s=5, edgecolor='none',)\n",
    "    \n",
    "    sns.despine(ax=ax)\n",
    "    ax.set_title(f\"C{i+1}\")\n",
    "    ax.set_xlabel(sp_x)\n",
    "    ax.set_ylabel(sp_y)\n",
    "    ax.set_aspect('equal')\n",
    "    ax.axis('off')\n",
    "    \n",
    "fig.suptitle(suptitle)\n",
    "fig.subplots_adjust(hspace=0.1, wspace=0.02)"
   ]
  },
  {
   "cell_type": "code",
   "execution_count": null,
   "id": "a4a8b797-c1b7-4fbf-96ba-89bf45d235ef",
   "metadata": {
    "tags": []
   },
   "outputs": [],
   "source": [
    "sp_x, sp_y = 'y', 'z'\n",
    "col = 'clst_l1'\n",
    "palette = palette1\n",
    "dismap = dismap1\n",
    "n = len(adata3.obs[col].unique())\n",
    "nx = min(8,n)\n",
    "ny = int((n+nx-1)/nx)\n",
    "suptitle = 'L1'\n",
    "\n",
    "fig, axs = plt.subplots(ny,nx,figsize=(3*nx,3*ny), sharey=True, sharex=True)\n",
    "axs.flat[0].invert_yaxis()\n",
    "for i, ax in enumerate(axs.flat):\n",
    "    x = adata3.obs[sp_x].values\n",
    "    y = adata3.obs[sp_y].values\n",
    "    c = adata3.obs[col].values\n",
    "    \n",
    "    ax.grid(False)\n",
    "    g = ax.scatter(x, y, c=[palette[_c] if i+1==_c else 'lightgray' for _c in c], s=5, edgecolor='none',)\n",
    "    \n",
    "    sns.despine(ax=ax)\n",
    "    ax.set_title(f\"C{i+1}\")\n",
    "    ax.set_xlabel(sp_x)\n",
    "    ax.set_ylabel(sp_y)\n",
    "    ax.set_aspect('equal')\n",
    "    ax.axis('off')\n",
    "    \n",
    "fig.suptitle(suptitle)\n",
    "fig.subplots_adjust(hspace=0.1, wspace=0.02)"
   ]
  },
  {
   "cell_type": "code",
   "execution_count": null,
   "id": "5baf6282-f39b-408e-b9cd-70cc76198278",
   "metadata": {
    "tags": []
   },
   "outputs": [],
   "source": [
    "group = 'clst_l1'\n",
    "dfmean = df_p2.groupby(group)[np.char.add(var_idx, '_nrm')].mean()\n",
    "dfmean = basicu.zscore(dfmean, axis=0)\n",
    "\n",
    "fig, ax = plt.subplots(figsize=(6,6))\n",
    "sns.heatmap(dfmean.T, ax=ax, \n",
    "            yticklabels=var_i2n[var_idx], \n",
    "            cmap='coolwarm', cbar_kws=dict(label='zscore mean exp.', shrink=0.5, aspect=10))"
   ]
  },
  {
   "cell_type": "code",
   "execution_count": null,
   "id": "62bcea58-226d-4f6e-b77f-74685cab4c56",
   "metadata": {
    "tags": []
   },
   "outputs": [],
   "source": [
    "var_order_manual = pd.Series({\n",
    "    'r2_c4': 'Adamts2',\n",
    "    'r6_c1': 'Rfx3',\n",
    "    'r7_c4': 'Grm8',\n",
    "    \n",
    "    'r6_c4': 'Baz1a',\n",
    "    'r2_c0': 'Sorcs3',\n",
    "    'r7_c2': 'Trpc6',\n",
    "    'r2_c1': 'Kcnq5',\n",
    "    \n",
    "    'r6_c2': 'Epha10',\n",
    "    'r7_c0': 'Kcnh5',\n",
    "    'r6_c0': 'Ncam2',\n",
    "    'r2_c2': 'Chrm2',\n",
    "    \n",
    "    'r7_c1': 'Slc17a7',\n",
    "    'r1_c0': \"RL (Cre)\",\n",
    "    'r1_c2': \"LM (FlpO)\",\n",
    "    \n",
    "})"
   ]
  },
  {
   "cell_type": "code",
   "execution_count": null,
   "id": "a594bd52-8401-4efe-9db5-1035aba1704d",
   "metadata": {
    "tags": []
   },
   "outputs": [],
   "source": [
    "group = 'clst_l1'\n",
    "dfmean = df_p2.groupby(group)[np.char.add(var_order_manual.index.values.astype(str), '_nrm')].mean()\n",
    "dfmean = basicu.zscore(dfmean, axis=0)\n",
    "# dfmean = dfmean.reindex(clst_order_manual)\n",
    "yticklabels = var_order_manual.values\n",
    "\n",
    "\n",
    "fig, ax = plt.subplots(figsize=(6,6))\n",
    "sns.heatmap(dfmean.T, ax=ax, \n",
    "            yticklabels=yticklabels, \n",
    "            cmap='coolwarm', cbar_kws=dict(label='zscore mean exp.', shrink=0.5, aspect=10))"
   ]
  },
  {
   "cell_type": "code",
   "execution_count": null,
   "id": "5d14688a-8569-480f-a981-c027804ccdab",
   "metadata": {},
   "outputs": [],
   "source": []
  },
  {
   "cell_type": "markdown",
   "id": "ea4e0367-2fc2-47bf-a2ac-87199b9d402b",
   "metadata": {},
   "source": [
    "# remove outlier cells and redo"
   ]
  },
  {
   "cell_type": "code",
   "execution_count": null,
   "id": "82c8cb1d-e792-4eab-aad5-99183cade833",
   "metadata": {
    "tags": []
   },
   "outputs": [],
   "source": [
    "remove_these = [1,2,5]\n",
    "adata2v2 = adata2[~adata2.obs['clst_l1'].isin(remove_these)].copy()\n",
    "adata3v2 = adata3[~adata3.obs['clst_l1'].isin(remove_these)].copy()\n",
    "\n",
    "# remove_these_genes = ['Baz1a']\n",
    "# adata2v2 = adata2v2[:,~adata2v2.var['name'].isin(remove_these_genes)]\n",
    "# adata3v2 = adata3v2[:,~adata3v2.var['name'].isin(remove_these_genes)]\n",
    "\n",
    "print(adata2v2.shape, adata3v2.shape)"
   ]
  },
  {
   "cell_type": "code",
   "execution_count": null,
   "id": "92fb662b-4bc3-4639-aac8-17b9b5645c9d",
   "metadata": {
    "tags": []
   },
   "outputs": [],
   "source": [
    "# normalize the data and record\n",
    "norm_data(adata2v2)\n",
    "norm_data(adata3v2)"
   ]
  },
  {
   "cell_type": "code",
   "execution_count": null,
   "id": "6a8bef3c-aa34-4519-a599-a97ec395f7c8",
   "metadata": {
    "tags": []
   },
   "outputs": [],
   "source": [
    "df_p2v2 = adata2v2.obs.copy()\n",
    "df_p2v2[nrm_var_idx] = np.array(adata2v2.layers['nrm'])\n",
    "\n",
    "df_p3v2 = adata3v2.obs.copy()\n",
    "df_p3v2[nrm_gene_idx] = np.array(adata3v2.layers['nrm'])"
   ]
  },
  {
   "cell_type": "code",
   "execution_count": null,
   "id": "bfb5ced5-c40d-4400-90ec-638766be0f5b",
   "metadata": {
    "tags": []
   },
   "outputs": [],
   "source": [
    "mat_ftrs = pd.DataFrame(adata3v2.layers['zsc'], index=adata3v2.obs.index, columns=adata3v2.var.index)\n",
    "mat_prjs = adata3v2.obs[proj_idx] \n",
    "\n",
    "# sch\n",
    "col_link = sch.linkage(mat_ftrs.T, method='ward', metric='euclidean')\n",
    "col_order = sch.dendrogram(col_link, no_plot=True)['leaves']\n",
    "\n",
    "row_link = sch.linkage(mat_ftrs, method='ward', metric='euclidean')\n",
    "row_order = sch.dendrogram(row_link, p=30, truncate_mode='none', no_plot=True)['leaves']\n",
    "\n",
    "# get clusters\n",
    "clsts1 = sch.fcluster(row_link, 100, criterion='distance')\n",
    "clsts2 = sch.fcluster(row_link,  70, criterion='distance')\n",
    "clsts3 = sch.fcluster(row_link,  60, criterion='distance')\n",
    "\n",
    "print(clsts1.shape, np.unique(clsts1).shape)\n",
    "print(clsts2.shape, np.unique(clsts2).shape)\n",
    "print(clsts3.shape, np.unique(clsts3).shape)\n",
    "\n",
    "\n",
    "# register\n",
    "adata3v2.obs['clst_l1'] = clsts1\n",
    "adata3v2.obs['clst_l2'] = clsts2\n",
    "adata3v2.obs['clst_l3'] = clsts3\n",
    "\n",
    "adata2v2.obs['clst_l1'] = clsts1\n",
    "adata2v2.obs['clst_l2'] = clsts2\n",
    "adata2v2.obs['clst_l3'] = clsts3\n",
    "\n",
    "df_p3v2['clst_l1'] = clsts1\n",
    "df_p3v2['clst_l2'] = clsts2\n",
    "df_p3v2['clst_l3'] = clsts3\n",
    "\n",
    "df_p2v2['clst_l1'] = clsts1\n",
    "df_p2v2['clst_l2'] = clsts2\n",
    "df_p2v2['clst_l3'] = clsts3\n",
    "\n",
    "# colors\n",
    "palette1, dismap1 = gen_discrete_colors(len(np.unique(clsts1)))\n",
    "palette2, dismap2 = gen_discrete_colors(len(np.unique(clsts2)))\n",
    "palette3, dismap3 = gen_discrete_colors(len(np.unique(clsts3)))"
   ]
  },
  {
   "cell_type": "code",
   "execution_count": null,
   "id": "4c9eb595-8064-4f9a-b3d7-e869c08265aa",
   "metadata": {
    "tags": []
   },
   "outputs": [],
   "source": [
    "fig = plt.figure(figsize=(10,15))\n",
    "axd = fig.subplot_mosaic(\"A\"*12+\"BCDEF\")\n",
    "ax = axd[\"A\"]\n",
    "col_idx = mat_ftrs.columns[col_order].values.astype(str)\n",
    "col_names = var_i2n[col_idx].values.astype(str)\n",
    "xticklabels = np.char.add(np.char.add(col_names, ' '), col_idx)\n",
    "\n",
    "sns.heatmap(\n",
    "    mat_ftrs.iloc[row_order,col_order],\n",
    "    yticklabels=False,\n",
    "    xticklabels=xticklabels,\n",
    "    cmap='coolwarm',\n",
    "    cbar_kws=dict(shrink=0.5, location='bottom', label='zscore log2(1+norm expr.)'),\n",
    "    vmax=3, vmin=-3,\n",
    "    ax=ax,\n",
    ")\n",
    "ax.set_ylabel('Cells')\n",
    "# ax.set_xticklabels()\n",
    "\n",
    "for i, (ax, col) in enumerate(zip(\n",
    "    (axd[\"B\"], axd[\"C\"], axd[\"D\"]),\n",
    "    ('clst_l1', 'clst_l2', 'clst_l3'),\n",
    "    )):\n",
    "    vec = adata3v2.obs[col].values\n",
    "    sns.heatmap(\n",
    "        adata3v2.obs[[col]].rename(columns={col: col.replace('clst_l', 'L')}).iloc[row_order],\n",
    "        yticklabels=False,\n",
    "        cmap='jet',\n",
    "        cbar_kws=dict(location='bottom', aspect=5, label='', ticks=[]),\n",
    "        ax=ax,\n",
    "    )\n",
    "    ax.set_ylabel('')\n",
    "    positions = np.cumsum(np.unique(vec, return_counts=True)[1])\n",
    "    ax.hlines(positions, xmin=-0.2, xmax=1, linewidth=1, linestyle='-', color='k', clip_on=False)\n",
    "    for i, pos in enumerate(positions):\n",
    "        ax.text(0, pos, i+1, color='white', fontsize=15)\n",
    "\n",
    "ax = axd[\"E\"]\n",
    "g = sns.heatmap(\n",
    "    mat_prjs.iloc[row_order],\n",
    "    yticklabels=False,\n",
    "    cmap='Greys',\n",
    "    cbar_kws=dict(location='bottom', aspect=5, ),\n",
    "    ax=ax,\n",
    ")\n",
    "ax.set_ylabel('')\n",
    "colorbar = g.collections[0].colorbar\n",
    "colorbar.ax.tick_params(labelsize=10)  # Set fontsize to 12 points\n",
    "\n",
    "ax = axd[\"F\"]\n",
    "g = sns.heatmap(\n",
    "    adata3v2.obs[['y']].iloc[row_order], \n",
    "    yticklabels=False,\n",
    "    cmap='Greys',\n",
    "    cbar_kws=dict(location='bottom', aspect=5, label='um'),\n",
    "    # vmin=0,\n",
    "    ax=ax,\n",
    ")\n",
    "ax.set_ylabel('')\n",
    "colorbar = g.collections[0].colorbar\n",
    "colorbar.ax.tick_params(labelsize=10, rotation=90)  # Set fontsize to 12 points\n"
   ]
  },
  {
   "cell_type": "code",
   "execution_count": null,
   "id": "2641f770-38e7-4c15-84f7-59a5175cd44f",
   "metadata": {
    "tags": []
   },
   "outputs": [],
   "source": [
    "sp_x, sp_y = 'x', 'y'\n",
    "fig, axs = plt.subplots(1,3,figsize=(4*3,5*1), sharey=True, sharex=True)\n",
    "axs.flat[0].invert_yaxis()\n",
    "# cbar_ax = fig.add_axes([0.92, 0.5, 0.01, 0.2])\n",
    "for i, (col, palette, dismap, ax) in enumerate(zip(['clst_l1', 'clst_l2', 'clst_l3'], \n",
    "                                                   [ palette1,  palette2,  palette3],\n",
    "                                                   [ dismap1,   dismap2,   dismap3],\n",
    "                                                   axs.flat)):\n",
    "    x = adata3v2.obs[sp_x].values\n",
    "    y = adata3v2.obs[sp_y].values\n",
    "    c = adata3v2.obs[col].values\n",
    "    \n",
    "    ax.grid(False)\n",
    "    g = ax.scatter(x, y, c=pd.Series(palette)[c], s=5, edgecolor='none',)\n",
    "    sns.despine(ax=ax)\n",
    "    ax.set_title(col)\n",
    "    ax.set_xlabel(sp_x)\n",
    "    ax.set_ylabel(sp_y)\n",
    "    ax.set_aspect('equal')\n",
    "    ax.axis('off')\n",
    "    fig.colorbar(dismap, ax=ax, orientation='horizontal', shrink=0.5, aspect=10)\n",
    "    \n",
    "fig.subplots_adjust(hspace=0.1, wspace=0.02)"
   ]
  },
  {
   "cell_type": "code",
   "execution_count": null,
   "id": "33f5a4a5-967c-4894-85b2-af5688a60813",
   "metadata": {
    "tags": []
   },
   "outputs": [],
   "source": [
    "sp_x, sp_y = 'x', 'z'\n",
    "fig, axs = plt.subplots(1,3,figsize=(4*3,5*1), sharey=True, sharex=True)\n",
    "axs.flat[0].invert_yaxis()\n",
    "# cbar_ax = fig.add_axes([0.92, 0.5, 0.01, 0.2])\n",
    "for i, (col, palette, dismap, ax) in enumerate(zip(['clst_l1', 'clst_l2', 'clst_l3'], \n",
    "                                                   [ palette1,  palette2,  palette3],\n",
    "                                                   [ dismap1,   dismap2,   dismap3],\n",
    "                                                   axs.flat)):\n",
    "    x = adata3v2.obs[sp_x].values\n",
    "    y = adata3v2.obs[sp_y].values\n",
    "    c = adata3v2.obs[col].values\n",
    "    \n",
    "    ax.grid(False)\n",
    "    g = ax.scatter(x, y, c=pd.Series(palette)[c], s=5, edgecolor='none',)\n",
    "    sns.despine(ax=ax)\n",
    "    ax.set_title(col)\n",
    "    ax.set_xlabel(sp_x)\n",
    "    ax.set_ylabel(sp_y)\n",
    "    ax.set_aspect('equal')\n",
    "    ax.axis('off')\n",
    "    fig.colorbar(dismap, ax=ax, orientation='horizontal', shrink=0.5, aspect=10)\n",
    "    \n",
    "fig.subplots_adjust(hspace=0.1, wspace=0.02)"
   ]
  },
  {
   "cell_type": "code",
   "execution_count": null,
   "id": "21f0d0a2-8697-4646-beec-8514ebc47804",
   "metadata": {
    "tags": []
   },
   "outputs": [],
   "source": [
    "cluster_order = [3,4,2,1]\n",
    "sp_x, sp_y = 'x', 'y'\n",
    "col = 'clst_l1'\n",
    "palette = palette1\n",
    "dismap = dismap1\n",
    "n = len(adata3v2.obs[col].unique())\n",
    "nx = min(5,n)\n",
    "ny = int((n+nx-1)/nx)\n",
    "suptitle = 'L1'\n",
    "\n",
    "fig, axs = plt.subplots(ny,nx,figsize=(3*nx,3*ny), sharey=True, sharex=True)\n",
    "axs.flat[0].invert_yaxis()\n",
    "for i, (clst, ax) in enumerate(zip(cluster_order, axs.flat)):\n",
    "    x = adata3v2.obs[sp_x].values\n",
    "    y = adata3v2.obs[sp_y].values\n",
    "    c = adata3v2.obs[col].values\n",
    "    \n",
    "    ax.grid(False)\n",
    "    g = ax.scatter(x, y, c=[palette[_c] if clst==_c else 'lightgray' for _c in c], s=5, edgecolor='none',)\n",
    "    \n",
    "    sns.despine(ax=ax)\n",
    "    ax.set_title(f\"C{clst}\")\n",
    "    ax.set_xlabel(sp_x)\n",
    "    ax.set_ylabel(sp_y)\n",
    "    ax.set_aspect('equal')\n",
    "    ax.axis('off')\n",
    "    \n",
    "fig.suptitle(suptitle)\n",
    "fig.subplots_adjust(hspace=0.1, wspace=0.02)"
   ]
  },
  {
   "cell_type": "code",
   "execution_count": null,
   "id": "feabc098-04af-418b-a6bd-3850eb414364",
   "metadata": {
    "tags": []
   },
   "outputs": [],
   "source": [
    "cluster_order = [3,4,2,1]\n",
    "sp_x, sp_y = 'x', 'z'\n",
    "col = 'clst_l1'\n",
    "palette = palette1\n",
    "dismap = dismap1\n",
    "n = len(adata3v2.obs[col].unique())\n",
    "nx = min(5,n)\n",
    "ny = int((n+nx-1)/nx)\n",
    "suptitle = 'L1'\n",
    "\n",
    "fig, axs = plt.subplots(ny,nx,figsize=(3*nx,3*ny), sharey=True, sharex=True)\n",
    "axs.flat[0].invert_yaxis()\n",
    "for i, (clst, ax) in enumerate(zip(cluster_order, axs.flat)):\n",
    "    x = adata3v2.obs[sp_x].values\n",
    "    y = adata3v2.obs[sp_y].values\n",
    "    c = adata3v2.obs[col].values\n",
    "    \n",
    "    ax.grid(False)\n",
    "    g = ax.scatter(x, y, c=[palette[_c] if clst==_c else 'lightgray' for _c in c], s=5, edgecolor='none',)\n",
    "    \n",
    "    sns.despine(ax=ax)\n",
    "    ax.set_title(f\"C{clst}\")\n",
    "    ax.set_xlabel(sp_x)\n",
    "    ax.set_ylabel(sp_y)\n",
    "    ax.set_aspect('equal')\n",
    "    ax.axis('off')\n",
    "    \n",
    "fig.suptitle(suptitle)\n",
    "fig.subplots_adjust(hspace=0.1, wspace=0.02)"
   ]
  },
  {
   "cell_type": "code",
   "execution_count": null,
   "id": "42aa1b05-4d30-4b91-99da-41464057bb9a",
   "metadata": {
    "tags": []
   },
   "outputs": [],
   "source": [
    "clst_order_manual = [3,4,2,1,]"
   ]
  },
  {
   "cell_type": "code",
   "execution_count": null,
   "id": "b71fea1f-0039-4427-ad7c-18dd9a027c87",
   "metadata": {},
   "outputs": [],
   "source": [
    "group = 'clst_l1'\n",
    "dfmean = df_p2v2.groupby(group)[np.char.add(var_order_manual.index.values.astype(str), '_nrm')].mean()\n",
    "dfmean = basicu.zscore(dfmean, axis=0).fillna(0)\n",
    "dfmean = dfmean.reindex(clst_order_manual)\n",
    "yticklabels = var_order_manual.values\n",
    "\n",
    "\n",
    "fig, ax = plt.subplots(figsize=(6,6))\n",
    "sns.heatmap(dfmean.T, ax=ax, \n",
    "            yticklabels=yticklabels, \n",
    "            cmap='coolwarm', cbar_kws=dict(label='zscore mean exp.', shrink=0.5, aspect=10))"
   ]
  },
  {
   "cell_type": "code",
   "execution_count": null,
   "id": "ea2e326c-4c13-4a23-ada9-1011ace5a637",
   "metadata": {
    "tags": []
   },
   "outputs": [],
   "source": [
    "# clst_order_manual = [6,7,8,9,10,5,3,4,2,1] # 1+np.arange(n) # [3,4,2,1,]\n",
    "clst_order_manual = [6,7,8,9,10,5,4,3,2,1] # 1+np.arange(n) # [3,4,2,1,]"
   ]
  },
  {
   "cell_type": "code",
   "execution_count": null,
   "id": "7c20d0ca-1ce3-44a0-af34-e6824d27700e",
   "metadata": {
    "tags": []
   },
   "outputs": [],
   "source": [
    "sp_x, sp_y = 'x', 'y'\n",
    "col = 'clst_l2'\n",
    "palette = palette2\n",
    "dismap = dismap2\n",
    "n = len(adata3v2.obs[col].unique())\n",
    "nx = min(5,n)\n",
    "ny = int((n+nx-1)/nx)\n",
    "suptitle = 'L2'\n",
    "cluster_order = clst_order_manual # 1+np.arange(n)\n",
    "\n",
    "fig, axs = plt.subplots(ny,nx,figsize=(3*nx,3*ny), sharey=True, sharex=True)\n",
    "axs.flat[0].invert_yaxis()\n",
    "for i, (clst, ax) in enumerate(zip(cluster_order, axs.flat)):\n",
    "    x = adata3v2.obs[sp_x].values\n",
    "    y = adata3v2.obs[sp_y].values\n",
    "    c = adata3v2.obs[col].values\n",
    "    \n",
    "    ax.grid(False)\n",
    "    g = ax.scatter(x, y, c=[palette[_c] if clst==_c else 'lightgray' for _c in c], s=5, edgecolor='none',)\n",
    "    \n",
    "    sns.despine(ax=ax)\n",
    "    ax.set_title(f\"C{clst}\")\n",
    "    ax.set_xlabel(sp_x)\n",
    "    ax.set_ylabel(sp_y)\n",
    "    ax.set_aspect('equal')\n",
    "    ax.axis('off')\n",
    "    \n",
    "fig.suptitle(suptitle)\n",
    "fig.subplots_adjust(hspace=0.1, wspace=0.02)"
   ]
  },
  {
   "cell_type": "code",
   "execution_count": null,
   "id": "af0040cf-d401-4b14-be97-7ec6e636620c",
   "metadata": {
    "tags": []
   },
   "outputs": [],
   "source": [
    "sp_x, sp_y = 'x', 'z'\n",
    "col = 'clst_l2'\n",
    "palette = palette2\n",
    "dismap = dismap2\n",
    "n = len(adata3v2.obs[col].unique())\n",
    "nx = min(5,n)\n",
    "ny = int((n+nx-1)/nx)\n",
    "suptitle = 'L2'\n",
    "# cluster_order = 1+np.arange(n)\n",
    "# cluster_order = [6,7,8,9,10,4,5,3,2,1]\n",
    "cluster_order = clst_order_manual # 1+np.arange(n)\n",
    "\n",
    "fig, axs = plt.subplots(ny,nx,figsize=(3*nx,3*ny), sharey=True, sharex=True)\n",
    "axs.flat[0].invert_yaxis()\n",
    "for i, (clst, ax) in enumerate(zip(cluster_order, axs.flat)):\n",
    "    x = adata3v2.obs[sp_x].values\n",
    "    y = adata3v2.obs[sp_y].values\n",
    "    c = adata3v2.obs[col].values\n",
    "    \n",
    "    ax.grid(False)\n",
    "    g = ax.scatter(x, y, c=[palette[_c] if clst==_c else 'lightgray' for _c in c], s=5, edgecolor='none',)\n",
    "    \n",
    "    sns.despine(ax=ax)\n",
    "    ax.set_title(f\"C{clst}\")\n",
    "    ax.set_xlabel(sp_x)\n",
    "    ax.set_ylabel(sp_y)\n",
    "    ax.set_aspect('equal')\n",
    "    ax.axis('off')\n",
    "    \n",
    "fig.suptitle(suptitle)\n",
    "fig.subplots_adjust(hspace=0.1, wspace=0.02)"
   ]
  },
  {
   "cell_type": "code",
   "execution_count": null,
   "id": "1b9d2744-b612-432e-85e7-642cbdc496b5",
   "metadata": {
    "tags": []
   },
   "outputs": [],
   "source": [
    "var_order_manual_v2 = pd.Series({\n",
    "    'r2_c4': 'Adamts2',\n",
    "    # 'r6_c1': 'Rfx3',\n",
    "    'r7_c4': 'Grm8',\n",
    "    \n",
    "    # 'r6_c4': 'Baz1a',\n",
    "    'r2_c0': 'Sorcs3',\n",
    "    'r7_c2': 'Trpc6',\n",
    "    'r2_c1': 'Kcnq5',\n",
    "    \n",
    "    'r6_c2': 'Epha10',\n",
    "    'r7_c0': 'Kcnh5',\n",
    "    'r6_c0': 'Ncam2',\n",
    "    'r2_c2': 'Chrm2',\n",
    "    \n",
    "    'r7_c1': 'Slc17a7',\n",
    "    'r1_c0': \"RL (Cre)\",\n",
    "    'r1_c2': \"LM (FlpO)\",\n",
    "    \n",
    "})\n",
    "clst_order_manual_v2 = [6,8,9,10,5,4,3,2,1] # 1+np.arange(n) # [3,4,2,1,]"
   ]
  },
  {
   "cell_type": "code",
   "execution_count": null,
   "id": "a558f893-0522-47fe-be32-e7e0dc1d8f6f",
   "metadata": {},
   "outputs": [],
   "source": [
    "group = 'clst_l2'\n",
    "dfmean = df_p2v2.groupby(group)[np.char.add(var_order_manual_v2.index.values.astype(str), '_nrm')].mean()\n",
    "dfmean = basicu.zscore(dfmean, axis=0).fillna(0)\n",
    "dfmean = dfmean.reindex(clst_order_manual_v2)\n",
    "yticklabels = var_order_manual_v2.values\n",
    "\n",
    "\n",
    "fig, ax = plt.subplots(figsize=(6,6))\n",
    "sns.heatmap(dfmean.T, ax=ax, \n",
    "            yticklabels=yticklabels, \n",
    "            cmap='coolwarm', cbar_kws=dict(label='zscore mean exp.', shrink=0.5, aspect=10))"
   ]
  },
  {
   "cell_type": "code",
   "execution_count": null,
   "id": "83556955-4aaa-4008-b3a4-bda341c3b765",
   "metadata": {},
   "outputs": [],
   "source": []
  },
  {
   "cell_type": "code",
   "execution_count": null,
   "id": "4a871e7f-0e43-4036-9a50-fc831043b2b3",
   "metadata": {},
   "outputs": [],
   "source": []
  },
  {
   "cell_type": "markdown",
   "id": "a8c37ecf-6ab9-4d21-a671-77b021c66d4f",
   "metadata": {},
   "source": [
    "# order cells by y-axis"
   ]
  },
  {
   "cell_type": "code",
   "execution_count": null,
   "id": "a554bdc7-2e1b-4970-b210-d9143147ca1b",
   "metadata": {
    "tags": []
   },
   "outputs": [],
   "source": [
    "row_order = np.argsort(adata3v2.obs['y']).values # .sort_values().index\n",
    "row_order"
   ]
  },
  {
   "cell_type": "code",
   "execution_count": null,
   "id": "3c4b3bd3-bf23-43c6-a0f9-316050ba73c9",
   "metadata": {
    "tags": []
   },
   "outputs": [],
   "source": [
    "fig = plt.figure(figsize=(10,15))\n",
    "axd = fig.subplot_mosaic(\"A\"*12+\"BCDEF\")\n",
    "ax = axd[\"A\"]\n",
    "col_idx = mat_ftrs.columns[col_order].values.astype(str)\n",
    "col_names = var_i2n[col_idx].values.astype(str)\n",
    "xticklabels = np.char.add(np.char.add(col_names, ' '), col_idx)\n",
    "\n",
    "sns.heatmap(\n",
    "    mat_ftrs.iloc[row_order,col_order],\n",
    "    yticklabels=False,\n",
    "    xticklabels=xticklabels,\n",
    "    cmap='coolwarm',\n",
    "    cbar_kws=dict(shrink=0.5, location='bottom', label='zscore log2(1+norm expr.)'),\n",
    "    vmax=3, vmin=-3,\n",
    "    ax=ax,\n",
    ")\n",
    "ax.set_ylabel('Cells')\n",
    "# ax.set_xticklabels()\n",
    "\n",
    "for i, (ax, col) in enumerate(zip(\n",
    "    (axd[\"B\"], axd[\"C\"], axd[\"D\"]),\n",
    "    ('clst_l1', 'clst_l2', 'clst_l3'),\n",
    "    )):\n",
    "    # vec = adata3v2.obs[col][row_order].values\n",
    "    sns.heatmap(\n",
    "        adata3v2.obs[[col]].rename(columns={col: col.replace('clst_l', 'L')}).iloc[row_order],\n",
    "        yticklabels=False,\n",
    "        cmap='jet',\n",
    "        cbar_kws=dict(location='bottom', aspect=5, label='', ticks=[]),\n",
    "        ax=ax,\n",
    "    )\n",
    "    ax.set_ylabel('')\n",
    "    # positions = np.cumsum(np.unique(vec, return_counts=True)[1])\n",
    "    # ax.hlines(positions, xmin=-0.2, xmax=1, linewidth=1, linestyle='-', color='k', clip_on=False)\n",
    "    # for i, pos in enumerate(positions):\n",
    "    #     ax.text(0, pos, i+1, color='white', fontsize=15)\n",
    "\n",
    "ax = axd[\"E\"]\n",
    "g = sns.heatmap(\n",
    "    mat_prjs.iloc[row_order],\n",
    "    yticklabels=False,\n",
    "    cmap='Greys',\n",
    "    cbar_kws=dict(location='bottom', aspect=5, ),\n",
    "    ax=ax,\n",
    ")\n",
    "ax.set_ylabel('')\n",
    "colorbar = g.collections[0].colorbar\n",
    "colorbar.ax.tick_params(labelsize=10)  # Set fontsize to 12 points\n",
    "\n",
    "ax = axd[\"F\"]\n",
    "g = sns.heatmap(\n",
    "    adata3v2.obs[['y']].iloc[row_order], \n",
    "    yticklabels=False,\n",
    "    cmap='Greys',\n",
    "    cbar_kws=dict(location='bottom', aspect=5, label='um'),\n",
    "    # vmin=0,\n",
    "    ax=ax,\n",
    ")\n",
    "ax.set_ylabel('')\n",
    "colorbar = g.collections[0].colorbar\n",
    "colorbar.ax.tick_params(labelsize=10, rotation=90)  # Set fontsize to 12 points"
   ]
  },
  {
   "cell_type": "markdown",
   "id": "9d4230ac-2625-443b-b269-9aad7592dc79",
   "metadata": {},
   "source": [
    "# co-expression, clustering, cluster enrichment of expression"
   ]
  },
  {
   "cell_type": "code",
   "execution_count": null,
   "id": "596389a1-9cd9-4769-8391-583eaabcb69e",
   "metadata": {},
   "outputs": [],
   "source": [
    "sp_x, sp_y = 'x', 'y'\n",
    "col = 'clst_l1'\n",
    "view_z_sections_labels(df_p3v2, sp_x, sp_y, col, palette=palette1, title=None, flip_y=True)"
   ]
  },
  {
   "cell_type": "code",
   "execution_count": null,
   "id": "f93f13da-75db-4023-8d6b-69e5be201f5e",
   "metadata": {
    "tags": []
   },
   "outputs": [],
   "source": [
    "sp_x, sp_y = 'x', 'y'\n",
    "col = 'clst_l2'\n",
    "view_z_sections_labels(df_p3v2, sp_x, sp_y, col, palette=palette2, title=None, flip_y=True)"
   ]
  },
  {
   "cell_type": "markdown",
   "id": "40ec3994-f629-4b86-83ed-9516f4620645",
   "metadata": {},
   "source": [
    "# pseudotime ordering"
   ]
  },
  {
   "cell_type": "code",
   "execution_count": null,
   "id": "84140873-c605-4d9d-9762-9a46532f7dcc",
   "metadata": {
    "tags": []
   },
   "outputs": [],
   "source": [
    "import scanpy as sc\n",
    "from scipy.stats import spearmanr"
   ]
  },
  {
   "cell_type": "code",
   "execution_count": null,
   "id": "dd988dd4-01c5-47e2-af7d-28dc1daebbd2",
   "metadata": {
    "tags": []
   },
   "outputs": [],
   "source": [
    "pca = PCA(n_components=10)\n",
    "pcs = pca.fit_transform(mat_ftrs.values)\n",
    "pcs.shape"
   ]
  },
  {
   "cell_type": "code",
   "execution_count": null,
   "id": "832e85d8-9293-4fa0-8228-363e0de83c1e",
   "metadata": {
    "tags": []
   },
   "outputs": [],
   "source": [
    "plt.plot(pca.explained_variance_ratio_, '-o')"
   ]
  },
  {
   "cell_type": "code",
   "execution_count": null,
   "id": "5cb6f105-1216-4373-b1aa-9f2db57b02f7",
   "metadata": {
    "tags": []
   },
   "outputs": [],
   "source": [
    "df_p2v2['pc1'] = pcs[:,0]\n",
    "df_p2v2['pc2'] = pcs[:,1]\n",
    "df_p2v2['pc3'] = pcs[:,2]\n",
    "df_p2v2['pc4'] = pcs[:,3]"
   ]
  },
  {
   "cell_type": "code",
   "execution_count": null,
   "id": "a0f60375-e811-42bf-aa58-2a71a93f8ab9",
   "metadata": {
    "tags": []
   },
   "outputs": [],
   "source": [
    "adata3v2.obsm['X_pca'] = pcs \n",
    "sc.pp.neighbors(adata3v2, n_neighbors=30, use_rep='X_pca')\n",
    "sc.tl.diffmap(adata3v2)\n",
    "adata3v2.uns['iroot'] = np.argmin(pcs[:,0]-pcs[:,1])\n",
    "sc.tl.dpt(adata3v2)\n",
    "\n",
    "df_p2v2['ptime'] = adata3v2.obs['dpt_pseudotime'].values"
   ]
  },
  {
   "cell_type": "code",
   "execution_count": null,
   "id": "d0c283f0-53a3-472f-8575-a76de8de2af1",
   "metadata": {
    "tags": []
   },
   "outputs": [],
   "source": [
    "fig, ax = plt.subplots()\n",
    "sns.scatterplot(data=df_p2v2, x='pc1', y='pc2', hue='clst_l2', palette=palette2, s=5, edgecolor='none', ax=ax)\n",
    "ax.legend(bbox_to_anchor=(1,1))\n",
    "ax.grid(False)\n",
    "plt.show()\n",
    "\n",
    "fig, ax = plt.subplots()\n",
    "sns.scatterplot(data=df_p2v2, x='pc3', y='pc4', hue='clst_l2', palette=palette2, s=5, edgecolor='none', ax=ax)\n",
    "ax.legend(bbox_to_anchor=(1,1))\n",
    "ax.grid(False)\n",
    "plt.show()"
   ]
  },
  {
   "cell_type": "code",
   "execution_count": null,
   "id": "b1250108-6a6a-41dd-956d-8cf18c3eb248",
   "metadata": {
    "tags": []
   },
   "outputs": [],
   "source": [
    "fig, ax = plt.subplots()\n",
    "sns.scatterplot(data=df_p2v2, x='pc1', y='pc2', hue='ptime', s=5, edgecolor='none', ax=ax)\n",
    "ax.legend(bbox_to_anchor=(1,1))\n",
    "ax.grid(False)\n",
    "plt.show()"
   ]
  },
  {
   "cell_type": "code",
   "execution_count": null,
   "id": "68352b9a-4d5f-459d-a31c-2d2c7e0dade8",
   "metadata": {
    "tags": []
   },
   "outputs": [],
   "source": [
    "fig, ax = plt.subplots()\n",
    "sns.scatterplot(data=df_p2v2, x='pc1', y='pc2', hue='y', s=5, edgecolor='none', ax=ax)\n",
    "ax.legend(bbox_to_anchor=(1,1))\n",
    "ax.grid(False)\n",
    "plt.show()"
   ]
  },
  {
   "cell_type": "code",
   "execution_count": null,
   "id": "2590964b-b514-4576-9175-0ac51dcea530",
   "metadata": {
    "tags": []
   },
   "outputs": [],
   "source": [
    "x = 'y'\n",
    "y = 'ptime'\n",
    "\n",
    "fig, ax = plt.subplots()\n",
    "a = df_p2v2[x] \n",
    "b = df_p2v2[y] \n",
    "r, p = spearmanr(a, b)\n",
    "print(r, p)\n",
    "sns.scatterplot(data=df_p2v2, x=x, y=y, hue='clst_l2', palette=palette2, s=5, edgecolor='none', ax=ax)\n",
    "ax.set_title(f'Spearman r={r:.2f}, p={p:.1e}')\n",
    "ax.legend(bbox_to_anchor=(1,1))\n",
    "ax.grid(False)\n",
    "plt.show()"
   ]
  },
  {
   "cell_type": "code",
   "execution_count": null,
   "id": "65576425-ef47-4fa5-81e2-081b275144bc",
   "metadata": {
    "tags": []
   },
   "outputs": [],
   "source": [
    "x = 'y'\n",
    "y = 'ptime'\n",
    "fig, axs = plt.subplots(4,4,figsize=(4*4,5*4), sharex=True, sharey=True)\n",
    "for col, ax in zip(var_idx, axs.flat):\n",
    "    hue = col+'_nrm'\n",
    "    c = df_p2v2[hue].values\n",
    "    vmax = np.percentile(c,95) \n",
    "    vmin = -0.1*vmax # np.percentile(c,0) \n",
    "    g = sns.scatterplot(data=df_p2v2, x=x, y=y, c=c, cmap='gray_r', # hue=hue, \n",
    "                    vmin=vmin, vmax=vmax, s=5, edgecolor='none', ax=ax)\n",
    "    ax.set_title(col+'_'+var_i2n[col])\n",
    "    ax.grid(False)\n",
    "    sns.despine(ax=ax)\n",
    "plt.show()"
   ]
  },
  {
   "cell_type": "code",
   "execution_count": null,
   "id": "49079a4e-587a-4b32-97f8-4569092d75b5",
   "metadata": {
    "tags": []
   },
   "outputs": [],
   "source": [
    "row_order = np.argsort(df_p2v2['ptime'].values)"
   ]
  },
  {
   "cell_type": "code",
   "execution_count": null,
   "id": "7a89fabc-6072-4db3-9641-4f2fb38f5140",
   "metadata": {
    "tags": []
   },
   "outputs": [],
   "source": [
    "col_order = basicu.get_index_from_array(mat_ftrs.columns, var_order_manual.index.values[:-1])"
   ]
  },
  {
   "cell_type": "code",
   "execution_count": null,
   "id": "96d0e266-e4e8-4969-bccf-375612ba4420",
   "metadata": {},
   "outputs": [],
   "source": [
    "\n",
    "fig = plt.figure(figsize=(20,8))\n",
    "axd = fig.subplot_mosaic(\"A\\n\"*12+\"B\\nC\\nD\\nE\\nF\")\n",
    "ax = axd[\"A\"]\n",
    "col_idx = mat_ftrs.columns[col_order].values.astype(str)\n",
    "col_names = var_i2n[col_idx].values.astype(str)\n",
    "yticklabels = np.char.add(np.char.add(col_names, ' '), col_idx)\n",
    "\n",
    "sns.heatmap(\n",
    "    mat_ftrs.iloc[row_order,col_order].T,\n",
    "    xticklabels=False,\n",
    "    yticklabels=yticklabels,\n",
    "    cmap='coolwarm',\n",
    "    cbar_kws=dict(shrink=0.5, label='zscore log2(1+norm expr.)'),\n",
    "    vmax=3, vmin=-3,\n",
    "    ax=ax,\n",
    ")\n",
    "ax.set_ylabel('Cells')\n",
    "# ax.set_xticklabels()\n",
    "\n",
    "for i, (ax, col) in enumerate(zip(\n",
    "    (axd[\"B\"], axd[\"C\"], axd[\"D\"]),\n",
    "    ('clst_l1', 'clst_l2', 'clst_l3'),\n",
    "    )):\n",
    "    # vec = adata3v2.obs[col][row_order].values\n",
    "    sns.heatmap(\n",
    "        adata3v2.obs[[col]].rename(columns={col: col.replace('clst_l', 'L')}).iloc[row_order].T,\n",
    "        xticklabels=False,\n",
    "        cmap='jet',\n",
    "        cbar_kws=dict(aspect=5, label='', ticks=[]),\n",
    "        ax=ax,\n",
    "    )\n",
    "    ax.set_ylabel('')\n",
    "    # positions = np.cumsum(np.unique(vec, return_counts=True)[1])\n",
    "    # ax.hlines(positions, xmin=-0.2, xmax=1, linewidth=1, linestyle='-', color='k', clip_on=False)\n",
    "    # for i, pos in enumerate(positions):\n",
    "    #     ax.text(0, pos, i+1, color='white', fontsize=15)\n",
    "\n",
    "ax = axd[\"E\"]\n",
    "g = sns.heatmap(\n",
    "    mat_prjs.iloc[row_order].T,\n",
    "    xticklabels=False,\n",
    "    cmap='Greys',\n",
    "    cbar_kws=dict(aspect=5, ),\n",
    "    ax=ax,\n",
    ")\n",
    "ax.set_ylabel('')\n",
    "colorbar = g.collections[0].colorbar\n",
    "colorbar.ax.tick_params(labelsize=10)  # Set fontsize to 12 points\n",
    "\n",
    "ax = axd[\"F\"]\n",
    "g = sns.heatmap(\n",
    "    adata3v2.obs[['y']].iloc[row_order].T, \n",
    "    xticklabels=False,\n",
    "    cmap='Greys',\n",
    "    cbar_kws=dict(aspect=5, label='um'),\n",
    "    # vmin=0,\n",
    "    ax=ax,\n",
    ")\n",
    "ax.set_ylabel('')\n",
    "colorbar = g.collections[0].colorbar\n",
    "colorbar.ax.tick_params(labelsize=10)  # Set fontsize to 12 points"
   ]
  },
  {
   "cell_type": "code",
   "execution_count": null,
   "id": "8cc7e7d0-3968-4784-96b1-331317b70efe",
   "metadata": {},
   "outputs": [],
   "source": []
  }
 ],
 "metadata": {
  "kernelspec": {
   "display_name": "Python 3 (ipykernel)",
   "language": "python",
   "name": "python3"
  },
  "language_info": {
   "codemirror_mode": {
    "name": "ipython",
    "version": 3
   },
   "file_extension": ".py",
   "mimetype": "text/x-python",
   "name": "python",
   "nbconvert_exporter": "python",
   "pygments_lexer": "ipython3",
   "version": "3.9.16"
  }
 },
 "nbformat": 4,
 "nbformat_minor": 5
}
