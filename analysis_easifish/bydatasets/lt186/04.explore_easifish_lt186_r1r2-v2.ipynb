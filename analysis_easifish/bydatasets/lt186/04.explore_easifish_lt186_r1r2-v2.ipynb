{
 "cells": [
  {
   "cell_type": "code",
   "execution_count": null,
   "id": "a3a95741-400b-452b-b98d-61cae1d845ae",
   "metadata": {
    "tags": []
   },
   "outputs": [],
   "source": [
    "import numpy as np\n",
    "import pandas as pd\n",
    "import os \n",
    "import matplotlib.pyplot as plt\n",
    "# import umap\n",
    "import seaborn as sns\n",
    "from sklearn.decomposition import PCA\n",
    "from sklearn.cluster import KMeans\n",
    "import matplotlib\n",
    "\n",
    "from scroutines import config_plots\n",
    "from scroutines import basicu\n",
    "from scroutines import miscu\n",
    "# from dredFISH.Utils import __init__plots\n",
    "# from dredFISH.Utils import basicu\n",
    "# from dredFISH.Utils import miscu"
   ]
  },
  {
   "cell_type": "code",
   "execution_count": null,
   "id": "69ad6802-1f9b-4ce9-bcc1-3abe64677acf",
   "metadata": {
    "tags": []
   },
   "outputs": [],
   "source": [
    "import sys\n",
    "sys.setrecursionlimit(30000)\n",
    "from scipy.cluster import hierarchy as sch"
   ]
  },
  {
   "cell_type": "code",
   "execution_count": null,
   "id": "b081206f-e414-4b79-ad48-12d11185070d",
   "metadata": {
    "tags": []
   },
   "outputs": [],
   "source": [
    "pth_dat = '/u/home/f/f7xiesnm/project-zipursky/easifish/lt186/proc/r1-r2-v2/'\n",
    "!ls $pth_dat"
   ]
  },
  {
   "cell_type": "code",
   "execution_count": null,
   "id": "6cc4ddb8-02a0-4724-9dd2-362b4c17268d",
   "metadata": {
    "tags": []
   },
   "outputs": [],
   "source": [
    "gene_names = {\n",
    "    'r1_c0': \"RL (Cre)\",\n",
    "    'r1_c2': \"LM (FlpO)\",\n",
    "    \n",
    "    'r2_c0': 'Sorcs3',\n",
    "    'r2_c1': 'Kcnq5',\n",
    "    'r2_c2': 'Chrm2',\n",
    "    'r2_c4': 'Adamts2',\n",
    "    \n",
    "#     # 'r2_c0': 'Kcnip3',\n",
    "#     # 'r2_c1': 'Rorb',\n",
    "#     # 'r2_c2': 'Cdh13',\n",
    "#     # 'r2_c4': 'Cntn5',\n",
    "    \n",
    "#     'r3_c0': 'Cdh12',\n",
    "#     'r3_c1': 'Gria3',\n",
    "#     'r3_c2': 'Cntnap2',\n",
    "#     'r3_c4': 'Gabrg3',\n",
    "    \n",
    "#     'r4_c0': 'Kcnh5',\n",
    "#     'r4_c1': 'Cre',\n",
    "#     'r4_c2': 'Slc17a7',\n",
    "#     'r4_c4': 'Grm8',\n",
    "    \n",
    "#     'r5_c0': 'Ncam2',\n",
    "#     'r5_c1': 'Rfx3',\n",
    "#     'r5_c2': 'Epha10',\n",
    "#     'r5_c4': 'Baz1a',\n",
    "}\n",
    "channel_names = pd.Series(gene_names).reset_index().set_index(0)['index']\n",
    "ftrs_order = list(gene_names.keys())\n",
    "\n",
    "genes_order = [gene_names[ftr] for ftr in ftrs_order]\n",
    "genes_order"
   ]
  },
  {
   "cell_type": "code",
   "execution_count": null,
   "id": "c740690d-978f-47de-9209-97d335a7696b",
   "metadata": {
    "tags": []
   },
   "outputs": [],
   "source": [
    "f_meta = os.path.join(pth_dat, 'roi.csv')\n",
    "# f_ftrs = os.path.join(pth_dat, 'spotcount_merged.csv')\n",
    "f_ftrs = os.path.join(pth_dat, 'spotcount.csv')"
   ]
  },
  {
   "cell_type": "code",
   "execution_count": null,
   "id": "38dc396f-cb64-47b1-a520-230f1e588785",
   "metadata": {
    "tags": []
   },
   "outputs": [],
   "source": [
    "meta = pd.read_csv(f_meta, index_col=0)\n",
    "ftrs = pd.read_csv(f_ftrs, index_col=0)\n",
    "df = ftrs.join(meta).dropna()\n",
    "ftrs_cols = ftrs.columns.values\n",
    "print(meta.shape, ftrs.shape, df.shape)"
   ]
  },
  {
   "cell_type": "code",
   "execution_count": null,
   "id": "30704de2-6ebd-47a4-a611-567ad12e29f9",
   "metadata": {
    "tags": []
   },
   "outputs": [],
   "source": [
    "# check dim\n",
    "print(1920*5*0.23/2) # in um preexpansion\n",
    "print(1920*4*0.23/2)"
   ]
  },
  {
   "cell_type": "code",
   "execution_count": null,
   "id": "8d08c0c2-49e9-4a80-957b-21515728f05a",
   "metadata": {
    "tags": []
   },
   "outputs": [],
   "source": [
    "max_x, max_y, max_z = df[['x', 'y', 'z']].describe().loc['max']\n",
    "min_x, min_y, min_z = df[['x', 'y', 'z']].describe().loc['min']\n",
    "print(f\"x: {min_x:.1f}, {max_x:.1f}\")\n",
    "print(f\"y: {min_y:.1f}, {max_y:.1f}\")\n",
    "print(f\"z: {min_z:.1f}, {max_z:.1f}\")\n",
    "df['to_edge'] = np.minimum(\n",
    "    np.minimum(df['x']-min_x, max_x-df['x']), \n",
    "    np.minimum(df['y']-min_y, max_y-df['y']), \n",
    "    np.minimum(df['z']-min_z, max_z-df['z']),\n",
    ")\n",
    "\n",
    "for col in ftrs_cols:\n",
    "    val = df[col].values\n",
    "    print(f'{col}: {np.min(val):.0f}, {np.max(val):.0f}, {np.sum(val>0)/len(df):.2f}')"
   ]
  },
  {
   "cell_type": "code",
   "execution_count": null,
   "id": "fbeac114-d14c-4e48-8760-ba3635a0d9a7",
   "metadata": {
    "tags": []
   },
   "outputs": [],
   "source": [
    "########### FLIP z!\n",
    "df['z'] = max_z -df['z']"
   ]
  },
  {
   "cell_type": "markdown",
   "id": "2aa94c74-0556-4d1a-acf4-8aafc7f334f2",
   "metadata": {
    "tags": []
   },
   "source": [
    "# check basics"
   ]
  },
  {
   "cell_type": "code",
   "execution_count": null,
   "id": "982075a8-1c2a-470a-8eb9-516f79bfdae5",
   "metadata": {
    "tags": []
   },
   "outputs": [],
   "source": [
    "x = df['x'].values\n",
    "y = df['y'].values\n",
    "z = df['z'].values\n",
    "\n",
    "fig, axs = plt.subplots(3, 1, figsize=(1*6, 3*3))\n",
    "ax = axs[0]\n",
    "sns.histplot(x, ax=ax)\n",
    "ax.set_xlabel('x')\n",
    "\n",
    "ax = axs[1]\n",
    "sns.histplot(y, ax=ax)\n",
    "ax.set_xlabel('y')\n",
    "\n",
    "ax = axs[2]\n",
    "sns.histplot(z, ax=ax)\n",
    "ax.set_xlabel('z')\n",
    "\n",
    "fig.subplots_adjust(hspace=0.5)\n",
    "plt.show()\n",
    "\n",
    "fig, ax = plt.subplots(1, 1, figsize=(1*6, 1*3))\n",
    "sns.histplot(df['area'].values, ax=ax)\n",
    "ax.set_xlabel('area')"
   ]
  },
  {
   "cell_type": "code",
   "execution_count": null,
   "id": "63ae7dab-a117-4b63-bc48-55712075d1a9",
   "metadata": {
    "tags": []
   },
   "outputs": [],
   "source": [
    "# remove outliers\n",
    "conds = [\n",
    "    df['area'] > 500,\n",
    "    df['x'] > min_x + 10,\n",
    "    df['x'] < max_x - 10,\n",
    "    \n",
    "    df['y'] > min_y + 10,\n",
    "    df['y'] < max_y - 10,\n",
    "    \n",
    "    df['z'] > min_z + 10,\n",
    "    df['z'] < max_z - 10,\n",
    "]\n",
    "cond_all = np.ones(len(df)) > 0\n",
    "for cond in conds:\n",
    "    cond_all = np.logical_and(cond_all, cond)\n",
    "    print(cond_all.sum())\n",
    "print(len(df), cond_all.sum())\n",
    "\n",
    "dfnew = df[cond_all].copy()\n",
    "\n",
    "# size\n",
    "med_size = dfnew['area'].median()\n",
    "print(med_size)\n",
    "size_factor = dfnew['area']/med_size\n",
    "\n",
    "# norm by size\n",
    "mat_raw = dfnew[ftrs_cols].values\n",
    "dfnew[ftrs_cols] = dfnew[ftrs_cols].divide(size_factor, axis=0)\n",
    "mat_sizenorm = dfnew[ftrs_cols].values\n",
    "\n",
    "# log2+1 norm\n",
    "normed_ftrs_cols = np.char.add(ftrs_cols.astype(str) ,'_log2')\n",
    "dfnew[normed_ftrs_cols] = np.log2(dfnew[ftrs_cols]+1)\n",
    "mat_log2norm = dfnew[normed_ftrs_cols].values\n",
    "\n",
    "# zscore\n",
    "mat_zscore = (mat_log2norm - np.mean(mat_log2norm, axis=0))/np.std(mat_log2norm, axis=0)"
   ]
  },
  {
   "cell_type": "code",
   "execution_count": null,
   "id": "8b7e27d4-16a0-4ff1-b86a-3b340059f3c2",
   "metadata": {
    "tags": []
   },
   "outputs": [],
   "source": [
    "mat_ftrs = dfnew.filter(regex='_log2$').filter(regex='^((?!r1).)*$') #.columns\n",
    "mat_ftrs.columns = [gene_names[col[:-len('_log2')]] for col in mat_ftrs.columns]\n",
    "mat_ftrs = basicu.zscore(mat_ftrs, axis=0)\n",
    "mat_ftrs"
   ]
  },
  {
   "cell_type": "code",
   "execution_count": null,
   "id": "c6f7ed13-ac94-4c6a-a223-afca39bec666",
   "metadata": {
    "tags": []
   },
   "outputs": [],
   "source": [
    "mat_cre = dfnew[['r1_c0_log2', 'r1_c2_log2']]\n",
    "mat_cre.columns = [gene_names[col[:-len('_log2')]] for col in mat_cre.columns]\n",
    "mat_cre"
   ]
  },
  {
   "cell_type": "code",
   "execution_count": null,
   "id": "246a11e0-7196-415b-a7c1-a8cd0b60553a",
   "metadata": {
    "tags": []
   },
   "outputs": [],
   "source": [
    "# # PCAs\n",
    "# n_pc = len(genes_order)\n",
    "# idx_pcs = np.arange(1, n_pc+1)\n",
    "\n",
    "# pca = PCA(n_components=n_pc)\n",
    "# pcs = pca.fit_transform(mat_zscore) \n",
    "# plt.plot(idx_pcs, pca.explained_variance_ratio_, 'o')\n",
    "# plt.xticks(idx_pcs)\n",
    "# plt.ylim(ymin=0)\n",
    "# plt.axhline(1/n_pc, color='k')\n",
    "# plt.xlabel('PC')\n",
    "# plt.ylabel('Explained variance')\n",
    "\n",
    "# for i in idx_pcs:\n",
    "#     dfnew[f'PC{i}'] = pcs[:,i-1]"
   ]
  },
  {
   "cell_type": "code",
   "execution_count": null,
   "id": "0c94ca7f-8c34-4915-9e1a-019ba42f5107",
   "metadata": {
    "tags": []
   },
   "outputs": [],
   "source": [
    "# # UMAPs\n",
    "# Zspace = umap.UMAP(n_components=2).fit_transform(pcs)\n",
    "# dfnew['umap_x'] = Zspace[:,0]\n",
    "# dfnew['umap_y'] = Zspace[:,1]\n",
    "\n",
    "# # UMAPs more\n",
    "# nns = [30, 60, 120, 240, 480]\n",
    "# for nn in nns:\n",
    "#     Zspace = umap.UMAP(n_components=2, n_neighbors=nn).fit_transform(pcs)\n",
    "#     dfnew[f'umap_x_nn{nn}'] = Zspace[:,0]\n",
    "#     dfnew[f'umap_y_nn{nn}'] = Zspace[:,1]\n",
    "\n",
    "# # clsts\n",
    "# numclsts = [2, 5, 10]\n",
    "# for k in numclsts: \n",
    "#     model = KMeans(n_clusters=k)\n",
    "#     clsts = model.fit_predict(pcs)\n",
    "#     dfnew[f'clsts_k{k}'] = np.char.add(\"c\", clsts.astype(str))\n",
    "\n",
    "# # clsts\n",
    "# G = miscu.build_feature_graph_knnlite(pcs, k=15, metric='euclidean')\n",
    "# rs = [0.01, 0.02, 0.05, 0.1, 1]\n",
    "# for r in rs:\n",
    "#     clsts = miscu.leiden(G, dfnew.index.values, resolution=r) \n",
    "#     dfnew[f'clsts_r{r}'] = np.char.add(\"c\", np.array(clsts).astype(str))"
   ]
  },
  {
   "cell_type": "code",
   "execution_count": null,
   "id": "ddee9fbc-0ecb-455d-b54b-ac1fbefaa464",
   "metadata": {
    "tags": []
   },
   "outputs": [],
   "source": [
    "fig, axs = plt.subplots(2, 1, figsize=(6*1,4*2))\n",
    "ax = axs[0]\n",
    "sns.boxplot(data=dfnew[ftrs_cols], ax=ax)\n",
    "ax.set_xticklabels(ax.get_xticklabels(), rotation=90)\n",
    "ax.set_ylabel('counts')\n",
    "ax.set_xlabel('Genes')\n",
    "\n",
    "ax = axs[1]\n",
    "sns.boxplot(data=dfnew[ftrs_cols], ax=ax)\n",
    "ax.set_xticklabels([gene_names[ftr_col] for ftr_col in ftrs_cols], rotation=90)\n",
    "ax.set_ylim([0,50])\n",
    "ax.set_ylabel('counts')\n",
    "ax.set_xlabel('Genes')"
   ]
  },
  {
   "cell_type": "code",
   "execution_count": null,
   "id": "06945370-65a0-4593-a86a-3b31e89b3da6",
   "metadata": {
    "tags": []
   },
   "outputs": [],
   "source": [
    "# binary analysis\n",
    "# ybins = np.linspace(0,400,100)\n",
    "# dfnew['ybin'] = pd.cut(dfnew['y'], bins=ybins)\n",
    "\n",
    "# xbins = np.linspace(0,400,100)\n",
    "# dfnew['xbin'] = pd.cut(dfnew['x'], bins=xbins)\n",
    "\n",
    "# zbins = np.linspace(0,400,100)\n",
    "# dfnew['zbin'] = pd.cut(dfnew['z'], bins=zbins)\n",
    "\n",
    "# bins_zb = np.linspace(0,400,9).astype(int)\n",
    "# print(bins_zb)\n",
    "# dfnew['bins_zb'] = pd.cut(dfnew['z'], bins=bins_zb)\n",
    "\n",
    "# bins_zb_4p = np.linspace(0,400,5).astype(int)\n",
    "# print(bins_zb_4p)\n",
    "# dfnew['bins_zb_4p'] = pd.cut(dfnew['z'], bins=bins_zb_4p)\n",
    "\n",
    "\n",
    "bins_yb = np.linspace(0,max_y,8+1).astype(int)\n",
    "print(bins_yb)\n",
    "dfnew['bins_yb'] = pd.cut(dfnew['y'], bins=bins_yb)\n",
    "\n",
    "bins_yb_4p = np.linspace(0,max_y,4+1).astype(int)\n",
    "print(bins_yb_4p)\n",
    "dfnew['bins_yb_4p'] = pd.cut(dfnew['y'], bins=bins_yb_4p)"
   ]
  },
  {
   "cell_type": "markdown",
   "id": "e6a8cdea-8dfa-4819-9015-878ad8afdf03",
   "metadata": {},
   "source": [
    "# z-sectioning visuals\n",
    "- bin into zbin\n",
    "- plot for each zbin"
   ]
  },
  {
   "cell_type": "code",
   "execution_count": null,
   "id": "d3461e3e-7938-41a7-a065-7cf127e9a6eb",
   "metadata": {},
   "outputs": [],
   "source": [
    "def gen_palette(dfnew, col):\n",
    "    # set global colorbar\n",
    "    hue_order = np.unique(dfnew[col]) \n",
    "    ncat = len(hue_order)\n",
    "    if ncat > 5:\n",
    "        cmap = 'Paired'\n",
    "    else:\n",
    "        cmap = 'tab10'\n",
    "    palette = {clst: clr for clst, clr in zip(hue_order, sns.color_palette(cmap, ncat))}\n",
    "    return palette"
   ]
  },
  {
   "cell_type": "code",
   "execution_count": null,
   "id": "0a47c0df-3652-42ad-8d30-a6c2f836655b",
   "metadata": {
    "tags": []
   },
   "outputs": [],
   "source": [
    "def view_z_sections(dfnew, sp_x, sp_y, groupby='bins_zb', col=None, cmap='coolwarm', title=None, vmaxp=95, vminp=0, \n",
    "                    figsize=(4*4,2*4),\n",
    "                   ):\n",
    "    \"\"\"\n",
    "    \"\"\"\n",
    "    # assert len(dfnew['bins_zb'].unique())-1 == 8 # 8 intervals\n",
    "    \n",
    "    # set global colorbar\n",
    "    if col is not None:\n",
    "        vmax = np.percentile(dfnew[col].values, vmaxp)\n",
    "        vmin = -vmax*0.1\n",
    "        # vmin = np.percentile(dfnew[col].values, vminp)\n",
    "        \n",
    "    fig, axs = plt.subplots(2, 4, figsize=figsize, sharex=True, sharey=True)\n",
    "    for i, (thisbin, dfsub) in enumerate(dfnew.groupby(groupby)):\n",
    "        ax = axs.flat[i]\n",
    "        ax.grid(False)\n",
    "\n",
    "        x = dfsub[sp_x].values\n",
    "        y = dfsub[sp_y].values\n",
    "        if col is not None:\n",
    "            c = dfsub[col].values\n",
    "            g = ax.scatter(x, y, c=c, s=10, cmap=cmap, vmax=vmax, vmin=vmin,\n",
    "                           edgecolor='none', \n",
    "                          )\n",
    "        else:\n",
    "            g = ax.scatter(x, y, s=10, c='gray', \n",
    "                           edgecolor='none', \n",
    "                          )\n",
    "            \n",
    "        sns.despine(ax=ax)\n",
    "        ax.set_aspect('equal')\n",
    "        ax.set_title(f\" z: {thisbin}\", loc='left', y=0.95)#va='top')#va='top', y=0.96)\n",
    "\n",
    "        if i%4 == 0:\n",
    "            ax.set_ylabel(sp_y)\n",
    "        if i >= 4:\n",
    "            ax.set_xlabel(sp_x)\n",
    "\n",
    "    if col is not None:\n",
    "        cax = fig.add_axes([0.93, 0.3, 0.01, 0.3])\n",
    "        fig.colorbar(g, cax=cax, label='', shrink=0.3, aspect=10, ticks=[0,vmax], orientation='vertical')\n",
    "    fig.subplots_adjust(hspace=0.1, wspace=0.05)\n",
    "    if title is not None:\n",
    "        fig.suptitle(title, fontsize=20, y=0.92)\n",
    "    plt.show()"
   ]
  },
  {
   "cell_type": "code",
   "execution_count": null,
   "id": "ca9818fc-0433-4bdc-83d6-7655b9a1c28e",
   "metadata": {
    "tags": []
   },
   "outputs": [],
   "source": [
    "def view_z_sections_4panels(dfnew, sp_x, sp_y, groupby='bins_zb_4p', \n",
    "                            col=None, cmap='coolwarm', title=None, vmaxp=95, vminp=0,\n",
    "                            figsize=(4*4,1*4),\n",
    "                           ):\n",
    "    \"\"\"\n",
    "    \"\"\"\n",
    "    # assert len(dfnew['bins_zb_4p'].unique())-1 == 4 # 4 intervals\n",
    "    \n",
    "    # set global colorbar\n",
    "    if col is not None:\n",
    "        vmax = np.percentile(dfnew[col].values, vmaxp)\n",
    "        vmin = -vmax*0.1\n",
    "        # vmin = np.percentile(dfnew[col].values, vminp)\n",
    "        \n",
    "    fig, axs = plt.subplots(1, 4, figsize=figsize, sharex=True, sharey=True)\n",
    "    for i, (thisbin, dfsub) in enumerate(dfnew.groupby(groupby)):\n",
    "        ax = axs.flat[i]\n",
    "        ax.grid(False)\n",
    "\n",
    "        x = dfsub[sp_x].values\n",
    "        y = dfsub[sp_y].values\n",
    "        if col is not None:\n",
    "            c = dfsub[col].values\n",
    "            g = ax.scatter(x, y, c=c, s=8, cmap=cmap, vmax=vmax, vmin=vmin,\n",
    "                           edgecolor='none', \n",
    "                          )\n",
    "        else:\n",
    "            g = ax.scatter(x, y, s=8, c='gray', \n",
    "                           edgecolor='none', \n",
    "                          )\n",
    "            \n",
    "        sns.despine(ax=ax)\n",
    "        ax.set_aspect('equal')\n",
    "        ax.set_title(f\" z: {thisbin}\", loc='left', y=0.95)#va='top')#va='top', y=0.96)\n",
    "\n",
    "        if i == 0:\n",
    "            ax.set_ylabel(sp_y)\n",
    "        ax.set_xlabel(sp_x)\n",
    "\n",
    "    if col is not None:\n",
    "        cax = fig.add_axes([0.93, 0.3, 0.01, 0.3])\n",
    "        fig.colorbar(g, cax=cax, label='', shrink=0.3, aspect=10, ticks=[0,vmax], orientation='vertical')\n",
    "    fig.subplots_adjust(hspace=0.1, wspace=0.05)\n",
    "    if title is not None:\n",
    "        fig.suptitle(title, fontsize=20, y=0.92)\n",
    "    plt.show()"
   ]
  },
  {
   "cell_type": "code",
   "execution_count": null,
   "id": "d5a99817-e81b-4b7c-9463-0837cac0beb0",
   "metadata": {},
   "outputs": [],
   "source": [
    "def view_z_sections_labels(dfnew, sp_x, sp_y, col, groupby='bins_zb', palette=None, title=None):\n",
    "    \"\"\"\n",
    "    \"\"\"\n",
    "    # assert len(dfnew['bins_zb'].unique())-1 == 8 # 8 intervals\n",
    "    \n",
    "    # set global colorbar\n",
    "    hue_order = np.unique(dfnew[col]) \n",
    "    ncat = len(hue_order)\n",
    "    if ncat > 5:\n",
    "        cmap = 'Paired'\n",
    "    else:\n",
    "        cmap = 'tab10'\n",
    "    if palette is None:\n",
    "        palette = {clst: clr for clst, clr in zip(hue_order, sns.color_palette(cmap, ncat))}\n",
    "        \n",
    "    fig, axs = plt.subplots(2, 4, figsize=(4*4,2*4), sharex=True, sharey=True)\n",
    "    for i, (thisbin, dfsub) in enumerate(dfnew.groupby(groupby)):\n",
    "        ax = axs.flat[i]\n",
    "        ax.grid(False)\n",
    "        if i == 4-1:\n",
    "            legend = True\n",
    "        else:\n",
    "            legend = False\n",
    "        g = sns.scatterplot(data=dfsub, x=sp_x, y=sp_y, hue=col, \n",
    "                            hue_order=hue_order, palette=palette,\n",
    "                            s=10, \n",
    "                            edgecolor='none', \n",
    "                            ax=ax,\n",
    "                            legend=legend,\n",
    "                          )\n",
    "        sns.despine(ax=ax)\n",
    "        ax.set_aspect('equal')\n",
    "        ax.set_title(f\" z: {thisbin}\", loc='left', y=0.95)#va='top')#va='top', y=0.96)\n",
    "\n",
    "        if i%4 == 0:\n",
    "            ax.set_ylabel(sp_y)\n",
    "        if i >= 4:\n",
    "            ax.set_xlabel(sp_x)\n",
    "        if i == 4-1:\n",
    "            ax.legend(bbox_to_anchor=(1,1))\n",
    "\n",
    "    fig.subplots_adjust(hspace=0.1, wspace=0.05)\n",
    "    if title is not None:\n",
    "        fig.suptitle(title, fontsize=20, y=0.92)\n",
    "    plt.show()"
   ]
  },
  {
   "cell_type": "code",
   "execution_count": null,
   "id": "6d77359f-486a-438a-bad5-3cb67063825b",
   "metadata": {
    "tags": []
   },
   "outputs": [],
   "source": [
    "col = ftrs_order[0]\n",
    "title = gene_names[col]\n",
    "\n",
    "sp_x, sp_y, groupby = 'x', 'z', 'bins_yb'\n",
    "view_z_sections(dfnew, sp_x, sp_y, groupby=groupby, col=col, cmap='Greys', title=title)\n",
    "\n",
    "sp_x, sp_y, groupby = 'x', 'z', 'bins_yb_4p'\n",
    "view_z_sections_4panels(dfnew, sp_x, sp_y, groupby=groupby, col=col, cmap='Greys', title=title)"
   ]
  },
  {
   "cell_type": "code",
   "execution_count": null,
   "id": "41684733-b7c2-4ee1-b815-327b43a2ce6b",
   "metadata": {
    "tags": []
   },
   "outputs": [],
   "source": [
    "for col in ftrs_order:\n",
    "    # col = ftrs_order[0]\n",
    "    title = gene_names[col]\n",
    "\n",
    "    # sp_x, sp_y, groupby = 'x', 'z', 'bins_yb'\n",
    "    # view_z_sections(dfnew, sp_x, sp_y, groupby=groupby, col=col, cmap='Greys', title=title)\n",
    "\n",
    "    sp_x, sp_y, groupby = 'x', 'z', 'bins_yb_4p'\n",
    "    view_z_sections_4panels(dfnew, sp_x, sp_y, groupby=groupby, col=col, cmap='Greys', title=title, figsize=(4*6,1*4))"
   ]
  },
  {
   "cell_type": "code",
   "execution_count": null,
   "id": "042c7cc6-8049-49bd-8cbf-aa2cf1d192d3",
   "metadata": {},
   "outputs": [],
   "source": []
  },
  {
   "cell_type": "code",
   "execution_count": null,
   "id": "149f5636-e357-41b6-8cdf-cc883b605507",
   "metadata": {},
   "outputs": [],
   "source": []
  },
  {
   "cell_type": "markdown",
   "id": "f7690ac2-4d28-413f-aa78-117142e5209a",
   "metadata": {},
   "source": [
    "# hierarchical clustering"
   ]
  },
  {
   "cell_type": "code",
   "execution_count": null,
   "id": "03079f7e-29a5-4b8a-a209-0b8299e928db",
   "metadata": {
    "tags": []
   },
   "outputs": [],
   "source": [
    "def gen_discrete_colors(N):\n",
    "    \"\"\"\n",
    "    \"\"\"\n",
    "    fig, ax = plt.subplots(figsize=(6, 1))\n",
    "    fig.subplots_adjust(bottom=0.5)\n",
    "    cmap = matplotlib.cm.jet\n",
    "    norm = matplotlib.colors.BoundaryNorm(1+np.arange(N), cmap.N, extend='max')\n",
    "    dismap = matplotlib.cm.ScalarMappable(norm=norm, cmap=cmap)\n",
    "    fig.colorbar(dismap,\n",
    "                 cax=ax, orientation='horizontal')\n",
    "    plt.show()\n",
    "    \n",
    "    palette = {i: dismap.to_rgba(i)[:3] for i in 1+np.arange(N)}\n",
    "    plt.figure(figsize=(5,1))\n",
    "    plt.scatter(1+np.arange(N), [0]*N, c=[palette[p] for p in palette.keys()])\n",
    "    plt.show()\n",
    "    return palette, dismap"
   ]
  },
  {
   "cell_type": "code",
   "execution_count": null,
   "id": "41594e61-da54-46a6-97ae-42e77f2d25ba",
   "metadata": {
    "tags": []
   },
   "outputs": [],
   "source": [
    "# sch\n",
    "col_link = sch.linkage(mat_ftrs.T, method='ward', metric='euclidean')\n",
    "col_order = sch.dendrogram(col_link, no_plot=True)['leaves']\n",
    "\n",
    "row_link = sch.linkage(mat_ftrs, method='ward', metric='euclidean')\n",
    "row_order = sch.dendrogram(row_link, p=30, truncate_mode='none', no_plot=True)['leaves']\n",
    "\n",
    "# get clusters\n",
    "clsts1 = sch.fcluster(row_link, 100, criterion='distance')\n",
    "clsts2 = sch.fcluster(row_link,  50, criterion='distance')\n",
    "clsts3 = sch.fcluster(row_link,  30, criterion='distance')\n",
    "\n",
    "print(clsts1.shape, np.unique(clsts1).shape)\n",
    "print(clsts2.shape, np.unique(clsts2).shape)\n",
    "print(clsts3.shape, np.unique(clsts3).shape)\n",
    "\n",
    "dfnew['clst_l1'] = clsts1\n",
    "dfnew['clst_l2'] = clsts2\n",
    "dfnew['clst_l3'] = clsts3\n",
    "\n",
    "# colors\n",
    "palette1, dismap1 = gen_discrete_colors(len(np.unique(clsts1)))\n",
    "palette2, dismap2 = gen_discrete_colors(len(np.unique(clsts2)))\n",
    "palette3, dismap3 = gen_discrete_colors(len(np.unique(clsts3)))"
   ]
  },
  {
   "cell_type": "code",
   "execution_count": null,
   "id": "5e165b17-28f2-4b06-a840-591ebdd56607",
   "metadata": {},
   "outputs": [],
   "source": [
    "genes_order_v2 = np.hstack([\n",
    "    mat_ftrs.columns[col_order],\n",
    "    mat_cre.columns,\n",
    "    # ['RL'],\n",
    "])\n",
    "ftrs_order_v2 = channel_names.loc[genes_order_v2].values\n",
    "ftrs_order_v2"
   ]
  },
  {
   "cell_type": "code",
   "execution_count": null,
   "id": "d64fe27a-4ddf-4d7d-944d-831ed26f3b14",
   "metadata": {},
   "outputs": [],
   "source": [
    "fig = plt.figure(figsize=(10,15))\n",
    "axd = fig.subplot_mosaic(\"A\"*3+\"BEF\")\n",
    "ax = axd[\"A\"]\n",
    "sns.heatmap(\n",
    "    mat_ftrs.iloc[row_order,col_order],\n",
    "    yticklabels=False,\n",
    "    cmap='coolwarm',\n",
    "    cbar_kws=dict(shrink=0.5, location='bottom', label='zscore log2(1+normed counts)'),\n",
    "    vmax=3, vmin=-3,\n",
    "    ax=ax,\n",
    ")\n",
    "ax.set_ylabel('Cells')\n",
    "\n",
    "for i, (ax, col) in enumerate(zip(\n",
    "    (axd[\"B\"],),# axd[\"C\"], axd[\"D\"]),\n",
    "    ('clst_l1',),# 'clst_l2', 'clst_l3'),\n",
    "    )):\n",
    "    vec = dfnew[col].values\n",
    "    sns.heatmap(\n",
    "        dfnew[[col]].rename(columns={col: col.replace('clst_l', 'L')}).iloc[row_order],\n",
    "        yticklabels=False,\n",
    "        cmap='jet',\n",
    "        cbar_kws=dict(location='bottom', aspect=5, label=''),\n",
    "        ax=ax,\n",
    "    )\n",
    "    ax.set_ylabel('')\n",
    "    positions = np.cumsum(np.unique(vec, return_counts=True)[1])\n",
    "    ax.hlines(positions, xmin=-0.2, xmax=1, linewidth=1, linestyle='-', color='k', clip_on=False)\n",
    "    for i, pos in enumerate(positions):\n",
    "        ax.text(0, pos, i+1, color='white')\n",
    "\n",
    "ax = axd[\"E\"]\n",
    "sns.heatmap(\n",
    "    mat_cre.iloc[row_order],\n",
    "    yticklabels=False,\n",
    "    cmap='Greys',\n",
    "    cbar_kws=dict(location='bottom', aspect=5, label='log2(1+normed counts)'),\n",
    "    ax=ax,\n",
    ")\n",
    "ax.set_ylabel('')\n",
    "\n",
    "ax = axd[\"F\"]\n",
    "sns.heatmap(\n",
    "    dfnew[['z']].iloc[row_order], \n",
    "    yticklabels=False,\n",
    "    cmap='Greys',\n",
    "    cbar_kws=dict(location='bottom', aspect=5, label='um'),\n",
    "    # vmin=0,\n",
    "    ax=ax,\n",
    ")\n",
    "ax.set_ylabel('')\n",
    "fig.tight_layout()"
   ]
  },
  {
   "cell_type": "code",
   "execution_count": null,
   "id": "fbaa225f-258f-4546-aa31-bc3669f76dce",
   "metadata": {},
   "outputs": [],
   "source": [
    "sp_x, sp_y = 'x', 'z'\n",
    "fig, axs = plt.subplots(1,3,figsize=(4*3,5*1), sharey=True, sharex=True)\n",
    "# cbar_ax = fig.add_axes([0.92, 0.5, 0.01, 0.2])\n",
    "for i, (col, palette, dismap, ax) in enumerate(zip(['clst_l1', 'clst_l2', 'clst_l3'], \n",
    "                                                   [ palette1,  palette2,  palette3],\n",
    "                                                   [ dismap1,   dismap2,   dismap3],\n",
    "                                                   axs.flat)):\n",
    "    x = dfnew[sp_x].values\n",
    "    y = dfnew[sp_y].values\n",
    "    c = dfnew[col].values\n",
    "    \n",
    "    ax.grid(False)\n",
    "    g = ax.scatter(x, y, c=pd.Series(palette)[c], s=5, edgecolor='none',)\n",
    "    sns.despine(ax=ax)\n",
    "    ax.set_title(col)\n",
    "    ax.set_xlabel(sp_x)\n",
    "    ax.set_ylabel(sp_y)\n",
    "    ax.set_aspect('equal')\n",
    "    ax.axis('off')\n",
    "    fig.colorbar(dismap, ax=ax, orientation='horizontal', shrink=0.5, aspect=10)\n",
    "    \n",
    "fig.subplots_adjust(hspace=0.1, wspace=0.02)"
   ]
  },
  {
   "cell_type": "code",
   "execution_count": null,
   "id": "b45318ac-c4f4-4bf7-97e3-7324b76fc91f",
   "metadata": {},
   "outputs": [],
   "source": [
    "sp_x, sp_y = 'x', 'z'\n",
    "col = 'clst_l1'\n",
    "palette = palette1\n",
    "dismap = dismap1\n",
    "n = len(dfnew[col].unique())\n",
    "nx = min(3,n)\n",
    "ny = int((n+nx-1)/nx)\n",
    "suptitle = 'L1'\n",
    "\n",
    "fig, axs = plt.subplots(ny,nx,figsize=(3*nx,3*ny), sharey=True, sharex=True)\n",
    "for i, ax in enumerate(axs.flat):\n",
    "    x = dfnew[sp_x].values\n",
    "    y = dfnew[sp_y].values\n",
    "    c = dfnew[col].values\n",
    "    \n",
    "    ax.grid(False)\n",
    "    g = ax.scatter(x, y, c=[palette[_c] if i+1==_c else 'lightgray' for _c in c], s=5, edgecolor='none',)\n",
    "    \n",
    "    sns.despine(ax=ax)\n",
    "    ax.set_title(f\"C{i+1}\")\n",
    "    ax.set_xlabel(sp_x)\n",
    "    ax.set_ylabel(sp_y)\n",
    "    ax.set_aspect('equal')\n",
    "    ax.axis('off')\n",
    "    \n",
    "fig.suptitle(suptitle)\n",
    "fig.subplots_adjust(hspace=0.1, wspace=0.02)"
   ]
  },
  {
   "cell_type": "code",
   "execution_count": null,
   "id": "a81a4bb0-efc3-4981-9003-efd4914ec1a7",
   "metadata": {},
   "outputs": [],
   "source": [
    "sp_x, sp_y = 'x', 'z'\n",
    "col = 'clst_l2'\n",
    "palette = palette2\n",
    "dismap = dismap2\n",
    "n = len(dfnew[col].unique())\n",
    "nx = min(4,n)\n",
    "ny = int((n+nx-1)/nx)\n",
    "suptitle = 'L2'\n",
    "\n",
    "fig, axs = plt.subplots(ny,nx,figsize=(3*nx,3*ny), sharey=True, sharex=True)\n",
    "for i, ax in enumerate(axs.flat):\n",
    "    x = dfnew[sp_x].values\n",
    "    y = dfnew[sp_y].values\n",
    "    c = dfnew[col].values\n",
    "    \n",
    "    ax.grid(False)\n",
    "    g = ax.scatter(x, y, c=[palette[_c] if i+1==_c else 'lightgray' for _c in c], s=5, edgecolor='none',)\n",
    "    \n",
    "    sns.despine(ax=ax)\n",
    "    ax.set_title(f\"C{i+1}\")\n",
    "    ax.set_xlabel(sp_x)\n",
    "    ax.set_ylabel(sp_y)\n",
    "    ax.set_aspect('equal')\n",
    "    ax.axis('off')\n",
    "    \n",
    "fig.suptitle(suptitle)\n",
    "fig.subplots_adjust(hspace=0.1, wspace=0.02)"
   ]
  },
  {
   "cell_type": "code",
   "execution_count": null,
   "id": "db0f9730-c12b-49db-9067-6cc73085b37d",
   "metadata": {},
   "outputs": [],
   "source": [
    "sp_x, sp_y = 'x', 'z'\n",
    "fig, axs = plt.subplots(2,4,figsize=(6*4,4*2), sharey=True, sharex=True)\n",
    "cbar_ax = fig.add_axes([0.92, 0.5, 0.01, 0.2])\n",
    "for i, (col, ax) in enumerate(zip(ftrs_order_v2, axs.flat)):\n",
    "    x = dfnew[sp_x].values\n",
    "    y = dfnew[sp_y].values\n",
    "    c = dfnew[col].values\n",
    "    vmax=np.percentile(c, 95)\n",
    "    \n",
    "    ax.axis('off')\n",
    "    ax.grid(False)\n",
    "    g = ax.scatter(x, y, c=c/vmax, s=5, edgecolor='none', cmap='Greys', vmax=1, vmin=-0.1) #vmax, vmin=-0.1*vmax)\n",
    "    sns.despine(ax=ax)\n",
    "    ax.set_title(gene_names[col.replace('_log2', '')])\n",
    "    ax.set_xlabel(sp_x)\n",
    "    ax.set_ylabel(sp_y)\n",
    "    ax.set_aspect('equal')\n",
    "\n",
    "for ax in axs.flat[i:]:\n",
    "    ax.axis('off')\n",
    "    \n",
    "fig.colorbar(g, cax=cbar_ax, label='Normed counts\\n(0-95 perctl.)', aspect=5, shrink=0.3, ticks=[0, 1])\n",
    "fig.subplots_adjust(hspace=0.1, wspace=0.02)"
   ]
  },
  {
   "cell_type": "markdown",
   "id": "9d4230ac-2625-443b-b269-9aad7592dc79",
   "metadata": {},
   "source": [
    "# co-expression, clustering, cluster enrichment of expression"
   ]
  },
  {
   "cell_type": "code",
   "execution_count": null,
   "id": "596389a1-9cd9-4769-8391-583eaabcb69e",
   "metadata": {},
   "outputs": [],
   "source": [
    "sp_x, sp_y, groupby = 'x', 'z', 'bins_yb'\n",
    "col = 'clst_l1'\n",
    "view_z_sections_labels(dfnew, sp_x, sp_y, col, groupby=groupby, palette=palette1, title=None)"
   ]
  },
  {
   "cell_type": "code",
   "execution_count": null,
   "id": "820551cc-f771-47a8-82fb-f37c4131489e",
   "metadata": {},
   "outputs": [],
   "source": [
    "group = 'clst_l1'\n",
    "palette = palette2\n",
    "data = dfnew\n",
    "\n",
    "fig, axs = plt.subplots(6,1,figsize=(8*1,4*6), sharex=True)\n",
    "grouporder = np.unique(data[group])\n",
    "for i, col in enumerate(ftrs_order_v2):\n",
    "    ax = axs.flat[i]\n",
    "    # col = ftrs_order[0]\n",
    "\n",
    "    sns.boxplot(data=data, x=group, order=grouporder, palette=palette, y=col, ax=ax,)\n",
    "    sns.despine(ax=ax)\n",
    "    ax.set_ylim(ymin=0.5)\n",
    "    ax.set_title(gene_names[col])\n",
    "    ax.set_ylabel(\"\") #gene_names[col])\n",
    "    ax.set_xlabel(\"\") #gene_names[col])\n",
    "    ax.set_yscale('log')\n",
    "fig.subplots_adjust(wspace=0.3)"
   ]
  },
  {
   "cell_type": "code",
   "execution_count": null,
   "id": "2fc8b71d-738c-482b-8ac6-d1a6cde44507",
   "metadata": {},
   "outputs": [],
   "source": [
    "group = 'clst_l1'\n",
    "dfmean = dfnew.groupby(group)[ftrs_order_v2].mean()\n",
    "dfmean = basicu.zscore(dfmean, axis=0)\n",
    "\n",
    "fig, ax = plt.subplots(figsize=(6,4))\n",
    "sns.heatmap(dfmean.T, ax=ax, \n",
    "            yticklabels=[gene_names[col] for col in dfmean.columns],\n",
    "            cmap='coolwarm', cbar_kws=dict(label='zscore mean exp.', shrink=0.5, aspect=10))"
   ]
  },
  {
   "cell_type": "markdown",
   "id": "ce941290-07da-46a7-8f3d-3b122161829f",
   "metadata": {},
   "source": [
    "# correlate"
   ]
  },
  {
   "cell_type": "code",
   "execution_count": null,
   "id": "76379288-75fc-4a02-bd35-a9947fb61463",
   "metadata": {},
   "outputs": [],
   "source": [
    "from scipy.stats import spearmanr\n",
    "from sklearn.linear_model import LinearRegression"
   ]
  },
  {
   "cell_type": "code",
   "execution_count": null,
   "id": "c74020df-1341-46f9-8083-c4d1cdd5a389",
   "metadata": {},
   "outputs": [],
   "source": [
    "def plot_corr(x, y, ax, ylabel=True):\n",
    "    \"\"\"\n",
    "    \"\"\"\n",
    "    ax.scatter(x, y, s=1)\n",
    "    r, p = spearmanr(x, y)\n",
    "    ax.set_xlabel(x.name)\n",
    "    if ylabel:\n",
    "        ax.set_ylabel(y.name)\n",
    "    ax.set_title(f\"r={r:.2f}, p={p:.2g}\")\n",
    "    \n",
    "    _df = pd.DataFrame(np.vstack([x, y]).T)\n",
    "    _df[2] = pd.qcut(_df[0], 20, duplicates='drop')\n",
    "    _df = _df.groupby(2).mean()\n",
    "    ax.plot(_df[0], _df[1], color='C1')\n",
    "    \n",
    "    return "
   ]
  },
  {
   "cell_type": "code",
   "execution_count": null,
   "id": "bf52ef52-2ec3-409c-a7de-bf84834a26d0",
   "metadata": {},
   "outputs": [],
   "source": [
    "mat_ftrs2 = dfnew.filter(regex='_log2$').filter(regex='^((?!r1).)*$') #.columns\n",
    "mat_ftrs2.columns = [gene_names[col[:-len('_log2')]] for col in mat_ftrs2.columns]\n",
    "\n",
    "mat_cre2 = dfnew.filter(regex='_log2$').filter(regex='^r1.*$') #.columns\n",
    "mat_cre2.columns = [gene_names[col[:-len('_log2')]] for col in mat_cre2.columns]"
   ]
  },
  {
   "cell_type": "code",
   "execution_count": null,
   "id": "c0d64525-e86c-49f1-9f59-747d30e9e0e1",
   "metadata": {},
   "outputs": [],
   "source": [
    "fig, axs = plt.subplots(2,4,figsize=(4*4,2*4), sharey=True)\n",
    "for i in range(mat_ftrs2.shape[1]):\n",
    "    for j in range(mat_cre2.shape[1]):\n",
    "        ax = axs[j,i]\n",
    "        _x = mat_ftrs2.iloc[:,i] \n",
    "        _y = mat_cre2.iloc[:,j]\n",
    "\n",
    "        if i % 4 == 0:\n",
    "            ylabel = True\n",
    "        else:\n",
    "            ylabel = False\n",
    "        plot_corr(_x, _y, ax, ylabel=ylabel)\n",
    "fig.tight_layout()"
   ]
  },
  {
   "cell_type": "code",
   "execution_count": null,
   "id": "a8e40a08-0217-4362-9878-6c271ae23a2c",
   "metadata": {},
   "outputs": [],
   "source": [
    "lr = LinearRegression()\n",
    "lr.fit(mat_ftrs2.values, mat_cre2.values)\n",
    "r2 = lr.score(mat_ftrs2.values, mat_cre2.values)\n",
    "ypred = lr.predict(mat_ftrs2)\n",
    "ypred = pd.Series(ypred[:,0], name='pred')\n",
    "r2"
   ]
  },
  {
   "cell_type": "code",
   "execution_count": null,
   "id": "152a1dbf-e51c-4394-923c-ba20dc21c2db",
   "metadata": {},
   "outputs": [],
   "source": [
    "hybrid_ftrs = np.hstack([mat_ftrs2, dfnew[['z']]/np.max(dfnew['z'])])\n",
    "lr = LinearRegression()\n",
    "lr.fit(hybrid_ftrs, mat_cre2.values)\n",
    "r2 = lr.score(hybrid_ftrs, mat_cre2.values)\n",
    "ypred2 = lr.predict(hybrid_ftrs)\n",
    "ypred2 = pd.Series(ypred2[:,0], name='pred')\n",
    "r2"
   ]
  },
  {
   "cell_type": "code",
   "execution_count": null,
   "id": "5476ee5c-5630-4aae-af1b-cd8ff0aa7640",
   "metadata": {},
   "outputs": [],
   "source": [
    "_x = ypred\n",
    "_y = mat_cre2.iloc[:,0]\n",
    "\n",
    "fig, ax = plt.subplots()\n",
    "plot_corr(_x, _y, ax) #.iloc[:,0], ax)\n",
    "ax.set_xlabel('All genes (linear model)')"
   ]
  },
  {
   "cell_type": "code",
   "execution_count": null,
   "id": "1e256963-e34b-4bc8-b24a-d9e6074412f3",
   "metadata": {},
   "outputs": [],
   "source": [
    "_x = ypred2\n",
    "_y = mat_cre2.iloc[:,0]\n",
    "\n",
    "fig, ax = plt.subplots()\n",
    "plot_corr(_x, _y, ax) #.iloc[:,0], ax)\n",
    "ax.set_xlabel('All genes + y (linear model)')"
   ]
  },
  {
   "cell_type": "code",
   "execution_count": null,
   "id": "ec8fe611-798b-404e-a4d8-f70bccf865ec",
   "metadata": {},
   "outputs": [],
   "source": [
    "fig, ax = plt.subplots()\n",
    "plot_corr(dfnew['y'], mat_cre2.iloc[:,0], ax) #.iloc[:,0], ax)"
   ]
  },
  {
   "cell_type": "code",
   "execution_count": null,
   "id": "c7e44676-0756-439d-bc38-7d4cb600ef46",
   "metadata": {},
   "outputs": [],
   "source": [
    "fig, ax = plt.subplots()\n",
    "plot_corr(dfnew['z'], mat_cre2.iloc[:,0], ax) #.iloc[:,0], ax)"
   ]
  },
  {
   "cell_type": "code",
   "execution_count": null,
   "id": "6caa8fec-729b-49df-90d4-79dcc47cb837",
   "metadata": {},
   "outputs": [],
   "source": [
    "fig, ax = plt.subplots()\n",
    "plot_corr(dfnew['x'], mat_cre2.iloc[:,0], ax) #.iloc[:,0], ax)"
   ]
  },
  {
   "cell_type": "markdown",
   "id": "d4251c35-29e2-4f2b-b31a-204d9ab02b44",
   "metadata": {},
   "source": [
    "# spatial analysis"
   ]
  },
  {
   "cell_type": "code",
   "execution_count": null,
   "id": "73692edc-bfe7-4435-aade-8d051fb32f51",
   "metadata": {},
   "outputs": [],
   "source": [
    "def get_clst2clst_counts(clsts, knn):\n",
    "    \"\"\"Given cluster labels (for each cell) and spatial neighbors (indices; including self), \n",
    "    Calculate how many connections (neighbor pairs) each cluster pairs have.\n",
    "    Return this information as a cluster-by-cluster count matrix\n",
    "    \n",
    "    `clsts` is an array of cluster labels (integers; start from zero and goes continuously up)\n",
    "    \"\"\"\n",
    "    from scipy import sparse\n",
    "    k = knn.shape[1]\n",
    "    knn_clsts = clsts[knn] # cluster label for kNN\n",
    "    n_unq_clsts = len(np.unique(clsts)) # number of clusters\n",
    "\n",
    "    shape   = (n_unq_clsts, n_unq_clsts)\n",
    "    _self   = knn_clsts[:,0]\n",
    "    _others = knn_clsts[:,1:]\n",
    "    rows = np.repeat(_self, (k-1)) # repeat \n",
    "    cols = np.hstack(_others)\n",
    "    assert len(rows) == len(cols) \n",
    "    data = np.repeat(1, len(rows))\n",
    "    clst2clst_counts = sparse.coo_matrix((data, (rows, cols)), shape=shape).todense() \n",
    "    clst2clst_counts = (clst2clst_counts + clst2clst_counts.T) # each connection counted twice.\n",
    "    return clst2clst_counts"
   ]
  },
  {
   "cell_type": "code",
   "execution_count": null,
   "id": "e0e45cfe-5727-435a-9ed6-3bcd9937e5fb",
   "metadata": {},
   "outputs": [],
   "source": [
    "xyz = dfnew[['x', 'y', 'z']].values\n",
    "clsts = dfnew['clst_l1'].values\n",
    "unq_clsts = np.unique(clsts)\n",
    "xyz, clsts, np.unique(clsts), xyz.shape, clsts.shape, unq_clsts"
   ]
  },
  {
   "cell_type": "code",
   "execution_count": null,
   "id": "6c063191-58fa-44a8-8572-0d04dc1258f6",
   "metadata": {},
   "outputs": [],
   "source": [
    "# for each cell, get their k nearest spatial neighbors\n",
    "from sklearn.neighbors import NearestNeighbors\n",
    "from statsmodels.stats.multitest import multipletests\n",
    "\n",
    "k = 1+20 # 1(self) + n nearest neighbors\n",
    "knn_fit = NearestNeighbors(n_neighbors=k).fit(xyz)\n",
    "knn = knn_fit.kneighbors(xyz, return_distance=False)\n",
    "print(knn.shape)"
   ]
  },
  {
   "cell_type": "code",
   "execution_count": null,
   "id": "0a88f66d-81f3-4a9a-99b6-a831bb0cc5f8",
   "metadata": {},
   "outputs": [],
   "source": [
    "c2c_counts = get_clst2clst_counts(clsts-1, knn)\n",
    "print(c2c_counts.shape)\n",
    "\n",
    "Nshuff = 10 # 1000\n",
    "c2c_counts_shuff_all = []\n",
    "for i in range(Nshuff):\n",
    "    clsts_shuff = clsts[np.random.choice(len(clsts), size=len(clsts), replace=False)]\n",
    "    c2c_counts_shuff = get_clst2clst_counts(clsts_shuff-1, knn)\n",
    "    c2c_counts_shuff_all.append(c2c_counts_shuff)\n",
    "c2c_counts_shuff_all = np.array(c2c_counts_shuff_all)\n",
    "c2c_counts_shuff_mean = np.mean(c2c_counts_shuff_all, axis=0)\n",
    "print(c2c_counts_shuff_all.shape, c2c_counts_shuff_mean.shape)"
   ]
  },
  {
   "cell_type": "code",
   "execution_count": null,
   "id": "23eec011-d168-4a1f-b035-5a19ede2ee28",
   "metadata": {},
   "outputs": [],
   "source": [
    "pvals = 1/Nshuff+1/Nshuff*2*np.minimum(np.sum(np.array([c2c_counts]) < c2c_counts_shuff_all, axis=0),\n",
    "                                 np.sum(np.array([c2c_counts]) > c2c_counts_shuff_all, axis=0),\n",
    "                                )\n",
    "rejs, qvals, _, _ = multipletests(pvals.reshape(-1,), method='fdr_bh')\n",
    "rejs  = rejs.reshape(pvals.shape)\n",
    "qvals = qvals.reshape(pvals.shape)"
   ]
  },
  {
   "cell_type": "code",
   "execution_count": null,
   "id": "c28f7d12-943d-457d-a416-622117818279",
   "metadata": {},
   "outputs": [],
   "source": [
    "enriched = np.log2((1+c2c_counts)/(1+c2c_counts_shuff_mean))\n",
    "enriched[~rejs] = 0 #= enriched*rejs.astype(int)"
   ]
  },
  {
   "cell_type": "code",
   "execution_count": null,
   "id": "70f01de7-1806-43c1-a486-bac335106bd7",
   "metadata": {},
   "outputs": [],
   "source": [
    "links = sch.linkage(enriched, method='average')\n",
    "clstidx_spatial_order = sch.dendrogram(links, no_plot=True)['leaves']\n",
    "clstidx_spatial_order"
   ]
  },
  {
   "cell_type": "code",
   "execution_count": null,
   "id": "6e487f20-6e21-46b0-8f1b-19360654f1bc",
   "metadata": {},
   "outputs": [],
   "source": [
    "fig, axs = plt.subplots(1,4,figsize=(4*4,1*6))\n",
    "ax = axs[0]\n",
    "_min, _max = np.min(c2c_counts), np.max(c2c_counts)\n",
    "sns.heatmap(c2c_counts[clstidx_spatial_order,:][:,clstidx_spatial_order], \n",
    "            xticklabels=unq_clsts[clstidx_spatial_order],\n",
    "            yticklabels=unq_clsts[clstidx_spatial_order],\n",
    "            ax=ax, \n",
    "            vmin=_min,\n",
    "            vmax=_max,\n",
    "            cbar_kws=dict(shrink=0.5, orientation='horizontal', ticks=[_min, _max], label='instance'),\n",
    "            cmap='rocket_r',\n",
    "           )\n",
    "ax.set_aspect('equal')\n",
    "ax.set_title('observed')\n",
    "\n",
    "ax = axs[1]\n",
    "_min, _max = np.min(c2c_counts_shuff_mean), np.max(c2c_counts_shuff_mean)\n",
    "sns.heatmap(c2c_counts_shuff_mean[clstidx_spatial_order,:][:,clstidx_spatial_order], \n",
    "            xticklabels=unq_clsts[clstidx_spatial_order],\n",
    "            yticklabels=unq_clsts[clstidx_spatial_order],\n",
    "            ax=ax,\n",
    "            vmin=_min,\n",
    "            vmax=_max,\n",
    "            cbar_kws=dict(shrink=0.5, orientation='horizontal', ticks=[_min, _max], label='instance'),\n",
    "            cmap='rocket_r',\n",
    "           )\n",
    "ax.set_aspect('equal')\n",
    "ax.set_title('expected')\n",
    "\n",
    "ax = axs[2]\n",
    "sns.heatmap(enriched[clstidx_spatial_order,:][:,clstidx_spatial_order], \n",
    "            xticklabels=unq_clsts[clstidx_spatial_order],\n",
    "            yticklabels=unq_clsts[clstidx_spatial_order],\n",
    "            ax=ax,\n",
    "            cbar_kws=dict(shrink=0.5, orientation='horizontal', label='log2(obs/exp)'),\n",
    "            cmap='coolwarm',\n",
    "            # vmax=2,vmin=-2,\n",
    "            center=0,\n",
    "           )\n",
    "ax.set_aspect('equal')\n",
    "ax.set_title('enriched')\n",
    "\n",
    "ax = axs[3]\n",
    "sns.heatmap(enriched[clstidx_spatial_order,:][:,clstidx_spatial_order], \n",
    "            xticklabels=unq_clsts[clstidx_spatial_order],\n",
    "            yticklabels=unq_clsts[clstidx_spatial_order],\n",
    "            ax=ax,\n",
    "            cbar_kws=dict(shrink=0.5, orientation='horizontal', label='log2(obs/exp)'),\n",
    "            cmap='coolwarm',\n",
    "            vmax=3,vmin=-3,\n",
    "           )\n",
    "ax.set_aspect('equal')\n",
    "ax.set_title('enriched (clipped)')\n",
    "fig.tight_layout()"
   ]
  },
  {
   "cell_type": "markdown",
   "id": "fa5ce6ed-ec9b-4ec6-ac3d-51aed128d3e2",
   "metadata": {},
   "source": [
    "# Save"
   ]
  },
  {
   "cell_type": "code",
   "execution_count": null,
   "id": "47505a17-454a-43d0-b2ae-939a04ee8493",
   "metadata": {},
   "outputs": [],
   "source": [
    "output = os.path.join(pth_dat, \"clustering_r1r2_230831.csv\")\n",
    "dfnew.to_csv(output)\n",
    "!chmod 444 $output\n",
    "# !head $output"
   ]
  },
  {
   "cell_type": "code",
   "execution_count": null,
   "id": "e48dc208-a46d-4e1a-b81c-78a3a6246671",
   "metadata": {},
   "outputs": [],
   "source": [
    "palette1_ = {}\n",
    "for i, item in palette1.items():\n",
    "    palette1_[int(i)] = (matplotlib.colors.to_hex(item))\n",
    "    \n",
    "palette2_ = {}\n",
    "for i, item in palette2.items():\n",
    "    palette2_[int(i)] = (matplotlib.colors.to_hex(item))\n",
    "    \n",
    "palette3_ = {}\n",
    "for i, item in palette3.items():\n",
    "    palette3_[int(i)] = (matplotlib.colors.to_hex(item))"
   ]
  },
  {
   "cell_type": "code",
   "execution_count": null,
   "id": "7d18b87e-1199-42a8-b5a7-cbedf28abe28",
   "metadata": {},
   "outputs": [],
   "source": [
    "import json\n",
    "\n",
    "output2 = os.path.join(pth_dat, \"clustering_r1r2_config_230721.json\")\n",
    "config = {\n",
    "    'gene_names': gene_names,\n",
    "    'palette1':   palette1_,\n",
    "    'palette2':   palette2_,\n",
    "    'palette3':   palette3_,\n",
    "}\n",
    "\n",
    "with open(output2, 'w') as fh:\n",
    "    json.dump(config, fh)\n",
    "!chmod 444 $output2"
   ]
  },
  {
   "cell_type": "code",
   "execution_count": null,
   "id": "cdfad890-9a10-44ec-89d4-db7046147d6a",
   "metadata": {},
   "outputs": [],
   "source": []
  },
  {
   "cell_type": "code",
   "execution_count": null,
   "id": "1d20bdeb-a900-4361-9985-ebb09711b1ed",
   "metadata": {},
   "outputs": [],
   "source": []
  }
 ],
 "metadata": {
  "kernelspec": {
   "display_name": "Python 3 (ipykernel)",
   "language": "python",
   "name": "python3"
  },
  "language_info": {
   "codemirror_mode": {
    "name": "ipython",
    "version": 3
   },
   "file_extension": ".py",
   "mimetype": "text/x-python",
   "name": "python",
   "nbconvert_exporter": "python",
   "pygments_lexer": "ipython3",
   "version": "3.9.16"
  }
 },
 "nbformat": 4,
 "nbformat_minor": 5
}
