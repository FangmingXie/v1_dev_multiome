{
 "cells": [
  {
   "cell_type": "markdown",
   "id": "8c753145-1a59-480d-abb2-60f2fa3f416f",
   "metadata": {},
   "source": [
    "# Inputs\n",
    "---"
   ]
  },
  {
   "cell_type": "code",
   "execution_count": null,
   "id": "2b6aeb01",
   "metadata": {},
   "outputs": [],
   "source": [
    "import numpy as np, zarr, nrrd\n",
    "import os\n",
    "# alignment functions\n",
    "from bigstream.align import alignment_pipeline\n",
    "from bigstream.transform import apply_transform\n",
    "import tifffile\n",
    "import time\n",
    "\n",
    "import seaborn as sns\n",
    "import matplotlib.pyplot as plt"
   ]
  },
  {
   "cell_type": "code",
   "execution_count": null,
   "id": "f9e34109-0b59-441f-bb7a-2f75c90d30eb",
   "metadata": {
    "tags": []
   },
   "outputs": [],
   "source": [
    "p      = '/u/home/f/f7xiesnm/project-zipursky/easifish/cdf03_c1-2_bino/outputs'\n",
    "outdir = '/u/home/f/f7xiesnm/project-zipursky/easifish/results/viz_cdf03_c1-2_bino'\n",
    "!mkdir -p $outdir"
   ]
  },
  {
   "cell_type": "code",
   "execution_count": null,
   "id": "8460a4e9-1d9b-41af-8f88-f7b0f29c3999",
   "metadata": {
    "tags": []
   },
   "outputs": [],
   "source": [
    "!ls $p"
   ]
  },
  {
   "cell_type": "markdown",
   "id": "060aca49-8874-4f7c-8f00-91945062bea9",
   "metadata": {},
   "source": [
    "# raw"
   ]
  },
  {
   "cell_type": "code",
   "execution_count": null,
   "id": "08dae79d-075b-4bd9-b12a-efb0389f2fd9",
   "metadata": {
    "tags": []
   },
   "outputs": [],
   "source": [
    "rounds = ['r3'] # ['r1', 'r3']# ['r4v3']# ['r2v3', 'r3v3',]\n",
    "channels = [ 'c0', 'c1', 'c2', 'c4']\n",
    "\n",
    "ti = time.time()\n",
    "for r in rounds:\n",
    "    path = os.path.join(p, r, 'stitching', 'export.n5')\n",
    "    zarr_data = zarr.open(store=zarr.N5Store(path), mode='r')\n",
    "    for c in channels:\n",
    "        print(time.time()-ti)\n",
    "        img = zarr_data[f'/{c}/s1']\n",
    "        print(img.shape)\n",
    "        img = img[1000:1500, 1500:2500, 2000:3000]\n",
    "        print(img.shape)\n",
    "        \n",
    "        # print(np.max(img), np.min(img))\n",
    "        output = outdir+f'/{r}_{c}_s1.tiff'\n",
    "        print(output)\n",
    "        tifffile.imwrite(output, img)\n",
    "        "
   ]
  },
  {
   "cell_type": "code",
   "execution_count": null,
   "id": "a8109990-9486-456a-8b86-82a25b18d805",
   "metadata": {},
   "outputs": [],
   "source": []
  }
 ],
 "metadata": {
  "kernelspec": {
   "display_name": "napari",
   "language": "python",
   "name": "napari"
  },
  "language_info": {
   "codemirror_mode": {
    "name": "ipython",
    "version": 3
   },
   "file_extension": ".py",
   "mimetype": "text/x-python",
   "name": "python",
   "nbconvert_exporter": "python",
   "pygments_lexer": "ipython3",
   "version": "3.9.16"
  }
 },
 "nbformat": 4,
 "nbformat_minor": 5
}
