{
 "cells": [
  {
   "cell_type": "markdown",
   "id": "8c753145-1a59-480d-abb2-60f2fa3f416f",
   "metadata": {},
   "source": [
    "# Inputs\n",
    "---"
   ]
  },
  {
   "cell_type": "code",
   "execution_count": null,
   "id": "2b6aeb01",
   "metadata": {},
   "outputs": [],
   "source": [
    "import numpy as np, zarr, nrrd\n",
    "import os\n",
    "# alignment functions\n",
    "from bigstream.align import alignment_pipeline\n",
    "from bigstream.transform import apply_transform\n",
    "import tifffile\n",
    "\n",
    "import seaborn as sns\n",
    "import matplotlib.pyplot as plt"
   ]
  },
  {
   "cell_type": "code",
   "execution_count": null,
   "id": "f9e34109-0b59-441f-bb7a-2f75c90d30eb",
   "metadata": {
    "tags": []
   },
   "outputs": [],
   "source": [
    "p1      = '/u/home/f/f7xiesnm/project-zipursky/data/03_flatfused'\n",
    "outdir = '/u/home/f/f7xiesnm/project-zipursky/easifish/results/viz_dapi_240209'\n",
    "!mkdir -p $outdir"
   ]
  },
  {
   "cell_type": "code",
   "execution_count": null,
   "id": "1a7af7f6-f047-4f66-8e9d-43cfc2fc5922",
   "metadata": {
    "tags": []
   },
   "outputs": [],
   "source": [
    "# !rm -r $outdir"
   ]
  },
  {
   "cell_type": "code",
   "execution_count": null,
   "id": "8460a4e9-1d9b-41af-8f88-f7b0f29c3999",
   "metadata": {
    "tags": []
   },
   "outputs": [],
   "source": [
    "!ls $p1"
   ]
  },
  {
   "cell_type": "markdown",
   "id": "060aca49-8874-4f7c-8f00-91945062bea9",
   "metadata": {},
   "source": [
    "# raw"
   ]
  },
  {
   "cell_type": "code",
   "execution_count": null,
   "id": "20edd896-d966-4be6-9761-8c8a0c3a8376",
   "metadata": {
    "tags": []
   },
   "outputs": [],
   "source": [
    "a = \"/u/home/f/f7xiesnm/project-zipursky/easifish/lt185/outputs/r2v2/segmentation/r2v2-c3.tif\"\n",
    "!cp $a $outdir/lt185_r2v2_seg.tif"
   ]
  },
  {
   "cell_type": "code",
   "execution_count": null,
   "id": "d3a6fee1-c80e-4e9b-a6b5-39d79ee0d720",
   "metadata": {
    "tags": []
   },
   "outputs": [],
   "source": [
    "dataset = 'lt185_r2_autos1'\n",
    "path = p1 + f'/{dataset}_flatfused.n5'\n",
    "assert os.path.exists(path)\n",
    "\n",
    "zarr_data = zarr.open(store=zarr.N5Store(path), mode='r')\n",
    "for c in ['c3']: # ['c0', 'c1', 'c2', 'c3', 'c4']:\n",
    "    try:\n",
    "        img = zarr_data[f'/{c}/s3'] \n",
    "        print(img.shape)\n",
    "        print(np.max(img), np.min(img))\n",
    "        output = outdir+f'/{dataset}_{c}_s3.tiff'\n",
    "        print(output)\n",
    "        tifffile.imwrite(output, img)\n",
    "    except:\n",
    "        pass"
   ]
  },
  {
   "cell_type": "code",
   "execution_count": null,
   "id": "f1f87e53-c1f3-474d-968f-357085825d2e",
   "metadata": {
    "tags": []
   },
   "outputs": [],
   "source": [
    "a = \"/u/home/f/f7xiesnm/project-zipursky/easifish/lt186/outputs/r2v2/segmentation/r2v2-c3.tif\"\n",
    "!cp $a $outdir/lt186_r2v2_seg.tif"
   ]
  },
  {
   "cell_type": "code",
   "execution_count": null,
   "id": "951e0f16-fda1-4897-9ce5-b10a342ef9e6",
   "metadata": {
    "tags": []
   },
   "outputs": [],
   "source": [
    "dataset = 'lt186_r2_autos1'\n",
    "path = p1 + f'/{dataset}_flatfused.n5'\n",
    "assert os.path.exists(path)\n",
    "\n",
    "zarr_data = zarr.open(store=zarr.N5Store(path), mode='r')\n",
    "for c in ['c3']: # ['c0', 'c1', 'c2', 'c3', 'c4']:\n",
    "    try:\n",
    "        img = zarr_data[f'/{c}/s3'] \n",
    "        print(img.shape)\n",
    "        print(np.max(img), np.min(img))\n",
    "        output = outdir+f'/{dataset}_{c}_s3.tiff'\n",
    "        print(output)\n",
    "        tifffile.imwrite(output, img)\n",
    "    except:\n",
    "        pass"
   ]
  },
  {
   "cell_type": "code",
   "execution_count": null,
   "id": "70cd700e-efc2-4775-b723-461d7c4dc86d",
   "metadata": {},
   "outputs": [],
   "source": []
  }
 ],
 "metadata": {
  "kernelspec": {
   "display_name": "napari",
   "language": "python",
   "name": "napari"
  },
  "language_info": {
   "codemirror_mode": {
    "name": "ipython",
    "version": 3
   },
   "file_extension": ".py",
   "mimetype": "text/x-python",
   "name": "python",
   "nbconvert_exporter": "python",
   "pygments_lexer": "ipython3",
   "version": "3.9.16"
  }
 },
 "nbformat": 4,
 "nbformat_minor": 5
}
