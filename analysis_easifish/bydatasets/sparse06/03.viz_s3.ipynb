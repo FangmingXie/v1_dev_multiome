{
 "cells": [
  {
   "cell_type": "markdown",
   "id": "8c753145-1a59-480d-abb2-60f2fa3f416f",
   "metadata": {},
   "source": [
    "# Inputs\n",
    "---"
   ]
  },
  {
   "cell_type": "code",
   "execution_count": null,
   "id": "2b6aeb01",
   "metadata": {},
   "outputs": [],
   "source": [
    "import numpy as np, zarr, nrrd\n",
    "# alignment functions\n",
    "from bigstream.align import alignment_pipeline\n",
    "from bigstream.transform import apply_transform\n",
    "import tifffile\n",
    "\n",
    "import seaborn as sns\n",
    "import matplotlib.pyplot as plt"
   ]
  },
  {
   "cell_type": "code",
   "execution_count": null,
   "id": "f9e34109-0b59-441f-bb7a-2f75c90d30eb",
   "metadata": {
    "tags": []
   },
   "outputs": [],
   "source": [
    "p1      = '/u/home/f/f7xiesnm/project-zipursky/data/01_fused'\n",
    "p2      = '/u/home/f/f7xiesnm/project-zipursky/data/03_flatfused'\n",
    "outdir = '/u/home/f/f7xiesnm/project-zipursky/easifish/results/viz_sparse06_jan23'\n",
    "!mkdir -p $outdir"
   ]
  },
  {
   "cell_type": "code",
   "execution_count": null,
   "id": "8460a4e9-1d9b-41af-8f88-f7b0f29c3999",
   "metadata": {
    "tags": []
   },
   "outputs": [],
   "source": [
    "!ls $p1"
   ]
  },
  {
   "cell_type": "markdown",
   "id": "060aca49-8874-4f7c-8f00-91945062bea9",
   "metadata": {},
   "source": [
    "# raw"
   ]
  },
  {
   "cell_type": "code",
   "execution_count": null,
   "id": "4074c8c1-9d5a-4fd1-8a21-d382bcf4734c",
   "metadata": {
    "tags": []
   },
   "outputs": [],
   "source": [
    "\n",
    "rounds = ['r1']\n",
    "for r in rounds:\n",
    "    path = p1 + f'/sparse06_{r}_export.n5'\n",
    "    zarr_data = zarr.open(store=zarr.N5Store(path), mode='r')\n",
    "    for c in ['c0']:\n",
    "        img = zarr_data[f'/{c}/s3'] \n",
    "        print(img.shape)\n",
    "        print(np.max(img), np.min(img))\n",
    "        output = outdir+f'/{r}_{c}_s3_flat.tiff'\n",
    "        print(output)\n",
    "        tifffile.imwrite(output, img)"
   ]
  },
  {
   "cell_type": "code",
   "execution_count": null,
   "id": "08dae79d-075b-4bd9-b12a-efb0389f2fd9",
   "metadata": {
    "tags": []
   },
   "outputs": [],
   "source": [
    "\n",
    "rounds = ['r1']\n",
    "for r in rounds:\n",
    "    path = p2 + f'/sparse06_{r}_flatfused.n5'\n",
    "    zarr_data = zarr.open(store=zarr.N5Store(path), mode='r')\n",
    "    for c in ['c0']:\n",
    "        img = zarr_data[f'/{c}/s3'] \n",
    "        print(img.shape)\n",
    "        print(np.max(img), np.min(img))\n",
    "        output = outdir+f'/{r}_{c}_s3_flatfused.tiff'\n",
    "        print(output)\n",
    "        tifffile.imwrite(output, img)"
   ]
  },
  {
   "cell_type": "markdown",
   "id": "c82a80bf-60f5-4e2a-bc11-f8684c0f1120",
   "metadata": {},
   "source": [
    "# a different set"
   ]
  },
  {
   "cell_type": "code",
   "execution_count": null,
   "id": "a6a1ca6e-34ba-43a4-8ced-dd6320a1a59d",
   "metadata": {
    "tags": []
   },
   "outputs": [],
   "source": [
    "p1      = '/u/home/f/f7xiesnm/project-zipursky/data/01_fused'\n",
    "p2      = '/u/home/f/f7xiesnm/project-zipursky/data/03_flatfused'\n",
    "outdir = '/u/home/f/f7xiesnm/project-zipursky/easifish/results/viz_sparse06_jan23'\n",
    "!mkdir -p $outdir"
   ]
  },
  {
   "cell_type": "code",
   "execution_count": null,
   "id": "3acd8095-7ec0-410a-8d39-54db587e03ce",
   "metadata": {
    "tags": []
   },
   "outputs": [],
   "source": [
    "!ls $p1"
   ]
  },
  {
   "cell_type": "markdown",
   "id": "cdb8dd60-99b1-4a64-b0e8-6d07865c365d",
   "metadata": {},
   "source": [
    "# raw"
   ]
  },
  {
   "cell_type": "code",
   "execution_count": null,
   "id": "0535c21c-bcae-4f1d-9336-2abd2e0eefb2",
   "metadata": {
    "tags": []
   },
   "outputs": [],
   "source": [
    "\n",
    "path = p1 + f'/demo_small_s1_export.n5'\n",
    "zarr_data = zarr.open(store=zarr.N5Store(path), mode='r')\n",
    "for c in ['c0']:\n",
    "    img = zarr_data[f'/{c}/s3'] \n",
    "    print(img.shape)\n",
    "    print(np.max(img), np.min(img))\n",
    "    output = outdir+f'/demo_small_s1_{c}_s3_flat.tiff'\n",
    "    print(output)\n",
    "    tifffile.imwrite(output, img)"
   ]
  },
  {
   "cell_type": "code",
   "execution_count": null,
   "id": "0ef6cbca-b5cc-4d52-bba6-86e4bde88538",
   "metadata": {
    "tags": []
   },
   "outputs": [],
   "source": [
    "\n",
    "path = p2 + f'/demo_small_s1_flatfused.n5'\n",
    "zarr_data = zarr.open(store=zarr.N5Store(path), mode='r')\n",
    "for c in ['c0']:\n",
    "    img = zarr_data[f'/{c}/s3'] \n",
    "    print(img.shape)\n",
    "    print(np.max(img), np.min(img))\n",
    "    output = outdir+f'/demo_small_s1_{c}_s3_flatfused.tiff'\n",
    "    print(output)\n",
    "    tifffile.imwrite(output, img)"
   ]
  },
  {
   "cell_type": "code",
   "execution_count": null,
   "id": "c430f6a4-0956-40ed-b901-ecb89f18d249",
   "metadata": {},
   "outputs": [],
   "source": []
  }
 ],
 "metadata": {
  "kernelspec": {
   "display_name": "napari",
   "language": "python",
   "name": "napari"
  },
  "language_info": {
   "codemirror_mode": {
    "name": "ipython",
    "version": 3
   },
   "file_extension": ".py",
   "mimetype": "text/x-python",
   "name": "python",
   "nbconvert_exporter": "python",
   "pygments_lexer": "ipython3",
   "version": "3.9.16"
  }
 },
 "nbformat": 4,
 "nbformat_minor": 5
}
