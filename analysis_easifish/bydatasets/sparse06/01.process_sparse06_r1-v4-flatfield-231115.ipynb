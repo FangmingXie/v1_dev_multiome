{
 "cells": [
  {
   "cell_type": "code",
   "execution_count": null,
   "id": "b3becb0f",
   "metadata": {
    "tags": []
   },
   "outputs": [],
   "source": [
    "import os, sys\n",
    "from os.path import abspath, dirname\n",
    "import zarr\n",
    "import z5py\n",
    "import numpy as np\n",
    "import pandas as pd\n",
    "from glob import glob \n",
    "from skimage.measure import regionprops\n",
    "from skimage.io import imread, imsave\n",
    "from scipy import stats\n",
    "from scipy.stats import skewnorm, lognorm\n",
    "from scipy.optimize import minimize\n",
    "import itertools\n",
    "import collections\n",
    "\n",
    "sys.path.append('../../')\n",
    "from easi_fish import n5_metadata_utils as n5mu\n",
    "from easi_fish import roi_prop, spot, intensity\n",
    "import warnings\n",
    "warnings.filterwarnings('ignore')\n",
    "\n",
    "import importlib\n",
    "importlib.reload(spot)\n",
    "importlib.reload(roi_prop)\n",
    "importlib.reload(intensity)"
   ]
  },
  {
   "cell_type": "code",
   "execution_count": null,
   "id": "3d8d47bc-7198-4dd5-9e7a-192c20214bf5",
   "metadata": {
    "tags": []
   },
   "outputs": [],
   "source": [
    "import matplotlib.pyplot as plt\n",
    "import seaborn as sns"
   ]
  },
  {
   "cell_type": "code",
   "execution_count": null,
   "id": "7bfea4a2-050a-4ae9-9b92-c030a5c7eadd",
   "metadata": {
    "tags": []
   },
   "outputs": [],
   "source": [
    "from IPython.display import set_matplotlib_formats\n",
    "set_matplotlib_formats('retina')\n",
    "\n",
    "sns.set_style('white', rc={'axes.grid':True})\n",
    "sns.set_context('talk')"
   ]
  },
  {
   "cell_type": "markdown",
   "id": "288d5d2b-eb54-4aa8-885f-16f68ed8c9a8",
   "metadata": {},
   "source": [
    "Spot counts for cells with highly expressed genes (dense spots)\n",
    "1. Measure total intensity of every ROI after bleed-through correction and background subtraction.\n",
    "2. Calculate the number of spot from total intensity based on unit-spot intensity\n",
    "3. Correlate the number of spots (from air-localize) with the total fluorescence intensity/voxel in each ROI and determine a 'cutoff'. \n",
    "   Spot count > cutoff: use spot count converted based on total fluorescence intensity; \n",
    "   Spot count < cutoff: use spot count from Airlocalize"
   ]
  },
  {
   "cell_type": "markdown",
   "id": "6278a8d4-b2d9-47e0-b1bf-1da0c98b3164",
   "metadata": {},
   "source": [
    "### On units\n",
    "- all images are based on pixel units - \n",
    "- roi meta file (output) are based on physical unit (um - pre-expansion)\n",
    "- spots files are in um (post-expansion)"
   ]
  },
  {
   "cell_type": "code",
   "execution_count": null,
   "id": "f4700e17-343b-4195-8558-be2cba22cc7c",
   "metadata": {
    "tags": []
   },
   "outputs": [],
   "source": [
    "ddir = '/u/home/f/f7xiesnm/project-zipursky/easifish/sparse06'\n",
    "output_dir = ddir + '/proc/r1_flatfield'\n",
    "!mkdir -p $output_dir\n",
    "!ls $output_dir"
   ]
  },
  {
   "cell_type": "code",
   "execution_count": null,
   "id": "d3d89d9a",
   "metadata": {
    "tags": []
   },
   "outputs": [],
   "source": [
    "## input\n",
    "\n",
    "\n",
    "fix_round = 'r1_flatfield'\n",
    "mov_rounds = [] \n",
    "round_channels = collections.OrderedDict({\n",
    "    'r1': ('c0', 'c2', 'c4'),\n",
    "})\n",
    "\n",
    "dapi_channel = 'c3'\n",
    "lb_scale = 's3'\n",
    "lb_res = [1.84,1.84,1.68]\n",
    "ex = 2\n",
    "\n",
    "# images\n",
    "fix_dir  =  ddir + f\"/outputs/{fix_round}/stitching/export.n5\"\n",
    "lb_dir  =   ddir + f\"/outputs/{fix_round}/segmentation/{fix_round}-{dapi_channel}.tif\"\n",
    "reg_dirs = []\n",
    "subpath =   f'/{dapi_channel}/{lb_scale}' \n",
    "\n",
    "\n",
    "# spot dir for every gene\n",
    "fx_spots = [\n",
    "    ddir + f'/outputs/r1_flatfield/v3/spots/spots_c00.txt',\n",
    "    ddir + f'/outputs/r1_flatfield/v3/spots/spots_c0.txt',\n",
    "]\n",
    "\n",
    "\n",
    "intn_threshs = [\n",
    "    150, \n",
    "    150, \n",
    "    150, \n",
    "]\n",
    "    \n",
    "for f in fx_spots:\n",
    "    assert os.path.isfile(f)\n",
    "\n",
    "## output\n",
    "out_badroi = os.path.join(output_dir, 'bad_roi_list.npy')\n",
    "out_allroi = os.path.join(output_dir, \"roi_all.csv\") \n",
    "out_roi = os.path.join(output_dir, \"roi.csv\") \n",
    "out_spots = os.path.join(output_dir, \"spotcount.csv\")"
   ]
  },
  {
   "cell_type": "code",
   "execution_count": null,
   "id": "2e0ef445-2c17-4a28-bae3-23bb105bb8d4",
   "metadata": {
    "tags": []
   },
   "outputs": [],
   "source": [
    "df1 = pd.read_csv(fx_spots[0], header=None)\n",
    "df1"
   ]
  },
  {
   "cell_type": "code",
   "execution_count": null,
   "id": "2c8c5fb1-7440-4f4f-aafa-d42dc83b4c4d",
   "metadata": {
    "tags": []
   },
   "outputs": [],
   "source": [
    "df2 = pd.read_csv(fx_spots[1], header=None)\n",
    "df2"
   ]
  },
  {
   "cell_type": "code",
   "execution_count": null,
   "id": "1e1754a1-a6d8-474d-8616-da9ec1fba546",
   "metadata": {
    "tags": []
   },
   "outputs": [],
   "source": [
    "bins = np.linspace(0, 300, 100)\n",
    "sns.histplot(df1[3], bins=bins)\n",
    "sns.histplot(df2[3], bins=bins)"
   ]
  },
  {
   "cell_type": "code",
   "execution_count": null,
   "id": "8f48387c-5f75-42d5-9459-1563a2e736bf",
   "metadata": {
    "tags": []
   },
   "outputs": [],
   "source": [
    "# df1sub = df1[df1[3]<200]"
   ]
  },
  {
   "cell_type": "code",
   "execution_count": null,
   "id": "4b0b616b-ec70-46a2-a3ed-191a05cd7e89",
   "metadata": {
    "tags": []
   },
   "outputs": [],
   "source": [
    "th = 0\n",
    "df1 = df1[df1[3] > th]\n",
    "print(df1.shape)\n",
    "df2 = df2[df2[3] > th]\n",
    "print(df2.shape)"
   ]
  },
  {
   "cell_type": "code",
   "execution_count": null,
   "id": "d90c4e04-003f-4128-8624-a6aa1f416c1d",
   "metadata": {
    "tags": []
   },
   "outputs": [],
   "source": [
    "df1['xbin'] = pd.cut(df1[0], 10, labels=False)\n",
    "df1['ybin'] = pd.cut(df1[1], 10, labels=False)\n",
    "df1['zbin'] = pd.cut(df1[2], 20, labels=False)\n",
    "\n",
    "count1_xy = df1.groupby(['xbin', 'ybin']).size().unstack().T\n",
    "count1_xz = df1.groupby(['xbin', 'zbin']).size().unstack().T\n",
    "count1_yz = df1.groupby(['ybin', 'zbin']).size().unstack().T"
   ]
  },
  {
   "cell_type": "code",
   "execution_count": null,
   "id": "d44913ad-ce1e-4f91-8b5e-74cff73568f4",
   "metadata": {
    "tags": []
   },
   "outputs": [],
   "source": [
    "df2['xbin'] = pd.cut(df2[0], 10, labels=False)\n",
    "df2['ybin'] = pd.cut(df2[1], 10, labels=False)\n",
    "df2['zbin'] = pd.cut(df2[2], 20, labels=False)\n",
    "\n",
    "count2_xy = df2.groupby(['xbin', 'ybin']).size().unstack().T\n",
    "count2_xz = df2.groupby(['xbin', 'zbin']).size().unstack().T\n",
    "count2_yz = df2.groupby(['ybin', 'zbin']).size().unstack().T"
   ]
  },
  {
   "cell_type": "code",
   "execution_count": null,
   "id": "b9beab72-cbd7-4c36-a88b-335d7aca952b",
   "metadata": {
    "tags": []
   },
   "outputs": [],
   "source": [
    "np.mean(count1_xy)"
   ]
  },
  {
   "cell_type": "code",
   "execution_count": null,
   "id": "aee61b2d-358f-478c-9749-145bd105ec9e",
   "metadata": {
    "tags": []
   },
   "outputs": [],
   "source": [
    "fig, axs = plt.subplots(1,3,figsize=(3*6,5), sharex=True, sharey=True)\n",
    "ax = axs[0]\n",
    "sns.heatmap(count1_xy/np.mean(count1_xy.values), ax=ax, cbar_kws=dict(shrink=0.5), cmap='coolwarm', center=1,)\n",
    "ax.set_aspect('equal')\n",
    "ax.set_title('before')\n",
    "ax = axs[1]\n",
    "sns.heatmap(count2_xy/np.mean(count2_xy.values), ax=ax, cbar_kws=dict(shrink=0.5), cmap='coolwarm', center=1,)\n",
    "ax.set_aspect('equal')\n",
    "ax.set_title('after')\n",
    "ax = axs[2]\n",
    "sns.heatmap(count1_xy/count2_xy, ax=ax, cbar_kws=dict(shrink=0.5), cmap='coolwarm', center=1,)\n",
    "ax.set_aspect('equal')\n",
    "ax.set_title('before/after')"
   ]
  },
  {
   "cell_type": "code",
   "execution_count": null,
   "id": "a912150a-4507-4c52-ac08-1fe35fa244d3",
   "metadata": {
    "tags": []
   },
   "outputs": [],
   "source": [
    "fig, axs = plt.subplots(1,3,figsize=(3*6,5), sharex=True, sharey=True)\n",
    "ax = axs[0]\n",
    "sns.heatmap(count1_xy, ax=ax, cbar_kws=dict(shrink=0.5))\n",
    "ax.set_aspect('equal')\n",
    "ax.set_title('before')\n",
    "ax = axs[1]\n",
    "sns.heatmap(count2_xy, ax=ax, cbar_kws=dict(shrink=0.5))\n",
    "ax.set_aspect('equal')\n",
    "ax.set_title('after')\n",
    "ax = axs[2]\n",
    "sns.heatmap(count1_xy/count2_xy, cmap='coolwarm', center=1, ax=ax, cbar_kws=dict(shrink=0.5))\n",
    "ax.set_aspect('equal')\n",
    "ax.set_title('before/after')"
   ]
  },
  {
   "cell_type": "code",
   "execution_count": null,
   "id": "883c6b67-c203-44d3-a424-3df85f030fee",
   "metadata": {
    "tags": []
   },
   "outputs": [],
   "source": [
    "fig, axs = plt.subplots(1,3,figsize=(3*6,5), sharex=True, sharey=True)\n",
    "ax = axs[0]\n",
    "sns.heatmap(count1_xz, ax=ax, cbar_kws=dict(shrink=0.5))\n",
    "ax.set_aspect('equal')\n",
    "ax.set_title('before')\n",
    "ax = axs[1]\n",
    "sns.heatmap(count2_xz, ax=ax, cbar_kws=dict(shrink=0.5))\n",
    "ax.set_aspect('equal')\n",
    "ax.set_title('after')\n",
    "ax = axs[2]\n",
    "sns.heatmap(count1_xz/count2_xz, cmap='coolwarm', center=1, ax=ax, cbar_kws=dict(shrink=0.5), vmax=1.2)\n",
    "ax.set_aspect('equal')\n",
    "ax.set_title('before/after')"
   ]
  },
  {
   "cell_type": "code",
   "execution_count": null,
   "id": "dba07491-dd28-4e09-8405-a4f091d8858a",
   "metadata": {
    "tags": []
   },
   "outputs": [],
   "source": [
    "fig, axs = plt.subplots(1,3,figsize=(3*6,5), sharex=True, sharey=True)\n",
    "ax = axs[0]\n",
    "sns.heatmap(count1_yz, ax=ax, cbar_kws=dict(shrink=0.5))\n",
    "ax.set_aspect('equal')\n",
    "ax.set_title('before')\n",
    "ax = axs[1]\n",
    "sns.heatmap(count2_yz, ax=ax, cbar_kws=dict(shrink=0.5))\n",
    "ax.set_aspect('equal')\n",
    "ax.set_title('after')\n",
    "ax = axs[2]\n",
    "sns.heatmap(count1_yz/count2_xz, cmap='coolwarm', center=1, ax=ax, cbar_kws=dict(shrink=0.5), vmax=1.2)\n",
    "ax.set_aspect('equal')\n",
    "ax.set_title('before/after')"
   ]
  },
  {
   "cell_type": "code",
   "execution_count": null,
   "id": "074df176-8afe-4b2e-bc16-6439b4bbf346",
   "metadata": {
    "tags": []
   },
   "outputs": [],
   "source": [
    "fig, axs = plt.subplots(1,2,figsize=(2*6,3*4), sharex=True, sharey=True)\n",
    "ax = axs[0]\n",
    "ax.set_title('before')\n",
    "sns.scatterplot(data=df1, x=0, y=1, s=1, edgecolor='none', ax=ax)\n",
    "ax.set_aspect('equal')\n",
    "ax.invert_yaxis()\n",
    "ax = axs[1]\n",
    "ax.set_title('after')\n",
    "sns.scatterplot(data=df2, x=0, y=1, s=1, edgecolor='none', ax=ax)\n",
    "ax.set_aspect('equal')\n",
    "ax.invert_yaxis()\n",
    "plt.show()"
   ]
  },
  {
   "cell_type": "code",
   "execution_count": null,
   "id": "c1067c2e-aa5a-47df-8ed8-39b3761db3a0",
   "metadata": {},
   "outputs": [],
   "source": []
  },
  {
   "cell_type": "code",
   "execution_count": null,
   "id": "dacae023-a079-417a-bf84-39b314d2eee4",
   "metadata": {},
   "outputs": [],
   "source": []
  },
  {
   "cell_type": "markdown",
   "id": "93e3e105-26aa-46cd-8095-26e02624431e",
   "metadata": {},
   "source": [
    "# check raw images"
   ]
  },
  {
   "cell_type": "code",
   "execution_count": null,
   "id": "5c03c2bd-5bc0-4d11-9a76-e0b34206b6f5",
   "metadata": {
    "tags": []
   },
   "outputs": [],
   "source": [
    "fix = zarr.open(store=zarr.N5Store(fix_dir), mode='r')     \n",
    "img1 = fix['c0/s1'][...]\n",
    "img2 = fix['c00/s1'][...]"
   ]
  },
  {
   "cell_type": "code",
   "execution_count": null,
   "id": "006ce939-095a-4aac-b8fc-95fed4430d3e",
   "metadata": {
    "tags": []
   },
   "outputs": [],
   "source": [
    "img1.shape, img2.shape"
   ]
  },
  {
   "cell_type": "code",
   "execution_count": null,
   "id": "62a3343f-ef10-41da-9f8d-b477309ff14f",
   "metadata": {
    "tags": []
   },
   "outputs": [],
   "source": [
    "import tifffile\n",
    "\n",
    "outdir = '/u/home/f/f7xiesnm/project-zipursky/easifish/results/viz_sparse06_v2'\n",
    "!mkdir -p $outdir\n",
    "\n",
    "print(np.max(img1), np.min(img1))\n",
    "tifffile.imwrite(outdir+'/c0_s1.tiff', img1)\n",
    "\n",
    "outdir = '/u/home/f/f7xiesnm/project-zipursky/easifish/results/viz_sparse06_v2'\n",
    "print(np.max(img2), np.min(img2))\n",
    "tifffile.imwrite(outdir+'/c00_s1.tiff', img2)"
   ]
  },
  {
   "cell_type": "code",
   "execution_count": null,
   "id": "ca3a1c67-9d23-40ec-87a0-73ec56642ecc",
   "metadata": {},
   "outputs": [],
   "source": []
  },
  {
   "cell_type": "code",
   "execution_count": null,
   "id": "58fd6f72-a873-4465-9402-757a4a9174e3",
   "metadata": {},
   "outputs": [],
   "source": []
  },
  {
   "cell_type": "code",
   "execution_count": null,
   "id": "84597dfa-60df-40e6-b054-769112cae92a",
   "metadata": {},
   "outputs": [],
   "source": []
  },
  {
   "cell_type": "code",
   "execution_count": null,
   "id": "bf31f1e9-cc6f-4023-9263-7f3faeb4757e",
   "metadata": {},
   "outputs": [],
   "source": []
  },
  {
   "cell_type": "code",
   "execution_count": null,
   "id": "6ea9130f-2c3c-44a9-894c-f911ac09aa6a",
   "metadata": {},
   "outputs": [],
   "source": []
  },
  {
   "cell_type": "code",
   "execution_count": null,
   "id": "70b67375-560b-4cc9-a594-b0807b7d3210",
   "metadata": {},
   "outputs": [],
   "source": []
  },
  {
   "cell_type": "code",
   "execution_count": null,
   "id": "698b1837",
   "metadata": {
    "tags": []
   },
   "outputs": [],
   "source": [
    "%%time\n",
    "# output dir\n",
    "if not os.path.isdir(output_dir):\n",
    "    print(output_dir)\n",
    "    os.mkdir(output_dir)\n",
    "    \n",
    "# image size in pixel (x, y, z)\n",
    "grid = n5mu.read_voxel_grid(fix_dir, subpath)\n",
    "# voxel resolution in µm (x, y, z) (post-expansion)\n",
    "vox  = n5mu.read_voxel_spacing(fix_dir, subpath)\n",
    "# image size in physical space (x, y, z) (post-expansion)\n",
    "size = grid*vox\n",
    "print('subpath: ', subpath)\n",
    "print('voxel size: ', vox)\n",
    "print('image size (pixel): ', grid)\n",
    "print('image size (um post-ex): ', size)\n",
    "\n",
    "# get image data\n",
    "# print(\"loading images...\")\n",
    "# fix = zarr.open(store=zarr.N5Store(fix_dir), mode='r')     \n",
    "# img1 = fix[subpath][:, :, :]\n",
    "\n",
    "# get segmentation mask\n",
    "lb = imread(lb_dir)\n",
    "# roi = np.max(lb) # this is only correct if this lb is uncropped\n",
    "roi = len(np.unique(lb[lb!=0])) # this would be better\n",
    "print(lb.shape)\n",
    "print('num roi: ', roi)"
   ]
  },
  {
   "cell_type": "code",
   "execution_count": null,
   "id": "579b0b93-ffd0-48de-a509-4f5bbe22fcd1",
   "metadata": {
    "tags": []
   },
   "outputs": [],
   "source": [
    "# %%time\n",
    "# bad_roi = []\n",
    "# for reg_dir in reg_dirs:\n",
    "#     reg = zarr.open(store=zarr.N5Store(reg_dir), mode='r')     \n",
    "#     img2 = reg[subpath][...]\n",
    "#     print(\"image loaded\")\n",
    "    \n",
    "#     # get bad pixels -> bad roi\n",
    "#     bad_roi_thisround = np.unique(lb[np.nonzero(img2==0)])\n",
    "#     bad_roi.append(bad_roi_thisround)\n",
    "#     print(\"# of ROIs rejected this round:\", len(bad_roi_thisround))\n",
    "    \n",
    "# bad_roi = np.unique(np.hstack(bad_roi))\n",
    "# print(\"# of ROIs rejected:\", len(bad_roi))\n",
    "# bad_roi"
   ]
  },
  {
   "cell_type": "code",
   "execution_count": null,
   "id": "88b47857-3f8c-4148-9dff-b73004211542",
   "metadata": {
    "tags": []
   },
   "outputs": [],
   "source": [
    "%%time\n",
    "# # Get list of ROIs that are fully or partially outside the mask \n",
    "### Make sure to only include ROIs that are intact and in the overlapping regions across all rounds of FISH\n",
    "### remove any unregistered parts\n",
    "if len(reg_dirs) > 0:\n",
    "    mask = np.ones(grid[::-1])\n",
    "    for reg_dir in reg_dirs:\n",
    "        reg = zarr.open(store=zarr.N5Store(reg_dir), mode='r')     \n",
    "        img2 = reg[subpath][...]\n",
    "        print(\"image loaded\")\n",
    "        mask[img2==0]=0\n",
    "    print(\"mask generated\")\n",
    "\n",
    "    bad_roi=np.unique(lb[mask==0])\n",
    "    if bad_roi[0] == 0: # remove the label 0 - extracellular space\n",
    "        bad_roi = bad_roi[1:]\n",
    "    np.save(out_badroi, bad_roi)\n",
    "    print(\"# of ROIs rejected:\", len(bad_roi))"
   ]
  },
  {
   "cell_type": "code",
   "execution_count": null,
   "id": "7c0f7f66",
   "metadata": {
    "tags": []
   },
   "outputs": [],
   "source": [
    "%%time\n",
    "# get cell locations (in um - pre-expansion) from segmentation mask\n",
    "roi_meta_all = roi_prop.roi_prop_v2(lb, lb_res, ex)\n",
    "roi_meta_all.to_csv(out_allroi)\n",
    "\n",
    "roi_meta = roi_meta_all.set_index('roi').copy()\n",
    "roi_meta = roi_meta #.loc[roi_meta.index.difference(bad_roi)]\n",
    "roi_meta.to_csv(out_roi)"
   ]
  },
  {
   "cell_type": "code",
   "execution_count": null,
   "id": "dd767d92-47eb-449b-9455-fc9522d2fc01",
   "metadata": {
    "tags": []
   },
   "outputs": [],
   "source": [
    "%%time\n",
    "\n",
    "# count spots for every cell (roi)\n",
    "\n",
    "# all labels\n",
    "lb_id = np.unique(lb[lb!=0]) # exclude 0\n",
    "lb_id = np.hstack([[0], lb_id]) # include 0 - noncell\n",
    "# selected cells\n",
    "lb_id_selected = roi_meta.index.values\n",
    "\n",
    "# prep\n",
    "spotcount = pd.DataFrame(index=lb_id_selected, dtype=int)\n",
    "# spotcount_intn = pd.DataFrame(index=lb_id_selected, dtype=float)\n",
    "\n",
    "i = 0\n",
    "for r,chs in round_channels.items():\n",
    "    for c in chs:\n",
    "        # f_intns = fx_intns[i]\n",
    "        f_spots = fx_spots[i]\n",
    "        intn_th = intn_threshs[i]\n",
    "        print(r, c, f_spots) #, f_intns)\n",
    "\n",
    "        # spots\n",
    "        spots_rc = np.loadtxt(f_spots, delimiter=',')\n",
    "        print(len(spots_rc))\n",
    "\n",
    "        # filter\n",
    "        filter_cond = spots_rc[:,3] > intn_th\n",
    "        spots_rc = spots_rc[filter_cond]\n",
    "        print(len(spots_rc))\n",
    "\n",
    "        # count spots\n",
    "        res = spot.spot_counts_worker(lb, spots_rc, lb_res,\n",
    "                                      lb_id=lb_id, \n",
    "                                      remove_noncell=True, \n",
    "                                      selected_roi_list=lb_id_selected,\n",
    "                                      )\n",
    "        spotcount[f\"{r}_{c}\"] = res \n",
    "\n",
    "        # # count spots by intensity\n",
    "        # res = spot.get_spot_counts_from_intn(f_intns, f_spots, roi_meta, lb_res)\n",
    "        # spotcount_intn[f'{r}_{c}'] = res\n",
    "        i = i + 1\n",
    "    \n",
    "# save results\n",
    "spotcount.to_csv(out_spots)\n",
    "# spotcount_intn.to_csv(out_spots_intn)"
   ]
  },
  {
   "cell_type": "code",
   "execution_count": null,
   "id": "34116fe0",
   "metadata": {
    "tags": []
   },
   "outputs": [],
   "source": [
    "# # reconcile two spot counts\n",
    "# dist_cutoff = 2 # um pre-expansion\n",
    "# density = spotcount.divide(roi_meta['area'], axis=0)\n",
    "# cond = density < 1/(dist_cutoff**3) # keep spots if density is low\n",
    "\n",
    "# print(\"# cells have high density: \", (~cond).sum()) \n",
    "# spotcount_merged = spotcount.where(cond, spotcount_intn)  # replace where the condition is False\n",
    "# spotcount_merged.to_csv(out_spots_merged)\n",
    "# spotcount_merged"
   ]
  },
  {
   "cell_type": "code",
   "execution_count": null,
   "id": "713a5d5c-1faf-4dcf-8753-a659aa6eb2db",
   "metadata": {},
   "outputs": [],
   "source": [
    "spotcount"
   ]
  }
 ],
 "metadata": {
  "kernelspec": {
   "display_name": "Python 3 (ipykernel)",
   "language": "python",
   "name": "python3"
  },
  "language_info": {
   "codemirror_mode": {
    "name": "ipython",
    "version": 3
   },
   "file_extension": ".py",
   "mimetype": "text/x-python",
   "name": "python",
   "nbconvert_exporter": "python",
   "pygments_lexer": "ipython3",
   "version": "3.9.16"
  }
 },
 "nbformat": 4,
 "nbformat_minor": 5
}
