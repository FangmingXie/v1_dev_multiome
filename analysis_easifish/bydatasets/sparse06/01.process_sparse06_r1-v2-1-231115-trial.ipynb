{
 "cells": [
  {
   "cell_type": "code",
   "execution_count": null,
   "id": "b3becb0f",
   "metadata": {
    "tags": []
   },
   "outputs": [],
   "source": [
    "import os, sys\n",
    "from os.path import abspath, dirname\n",
    "import zarr\n",
    "import z5py\n",
    "import numpy as np\n",
    "import pandas as pd\n",
    "from glob import glob \n",
    "from skimage.measure import regionprops\n",
    "from skimage.io import imread, imsave\n",
    "from scipy import stats\n",
    "from scipy.stats import skewnorm, lognorm\n",
    "from scipy.optimize import minimize\n",
    "import itertools\n",
    "import collections\n",
    "\n",
    "sys.path.append('../../')\n",
    "from easi_fish import n5_metadata_utils as n5mu\n",
    "from easi_fish import roi_prop, spot, intensity\n",
    "import warnings\n",
    "warnings.filterwarnings('ignore')\n",
    "\n",
    "import importlib\n",
    "importlib.reload(spot)\n",
    "importlib.reload(roi_prop)\n",
    "importlib.reload(intensity)"
   ]
  },
  {
   "cell_type": "code",
   "execution_count": null,
   "id": "3d8d47bc-7198-4dd5-9e7a-192c20214bf5",
   "metadata": {
    "tags": []
   },
   "outputs": [],
   "source": [
    "import matplotlib.pyplot as plt\n",
    "import seaborn as sns"
   ]
  },
  {
   "cell_type": "code",
   "execution_count": null,
   "id": "7bfea4a2-050a-4ae9-9b92-c030a5c7eadd",
   "metadata": {
    "tags": []
   },
   "outputs": [],
   "source": [
    "from IPython.display import set_matplotlib_formats\n",
    "set_matplotlib_formats('retina')\n",
    "\n",
    "sns.set_style('white', rc={'axes.grid':True})\n",
    "sns.set_context('talk')"
   ]
  },
  {
   "cell_type": "markdown",
   "id": "288d5d2b-eb54-4aa8-885f-16f68ed8c9a8",
   "metadata": {},
   "source": [
    "Spot counts for cells with highly expressed genes (dense spots)\n",
    "1. Measure total intensity of every ROI after bleed-through correction and background subtraction.\n",
    "2. Calculate the number of spot from total intensity based on unit-spot intensity\n",
    "3. Correlate the number of spots (from air-localize) with the total fluorescence intensity/voxel in each ROI and determine a 'cutoff'. \n",
    "   Spot count > cutoff: use spot count converted based on total fluorescence intensity; \n",
    "   Spot count < cutoff: use spot count from Airlocalize"
   ]
  },
  {
   "cell_type": "markdown",
   "id": "6278a8d4-b2d9-47e0-b1bf-1da0c98b3164",
   "metadata": {},
   "source": [
    "### On units\n",
    "- all images are based on pixel units - \n",
    "- roi meta file (output) are based on physical unit (um - pre-expansion)\n",
    "- spots files are in um (post-expansion)"
   ]
  },
  {
   "cell_type": "code",
   "execution_count": null,
   "id": "f4700e17-343b-4195-8558-be2cba22cc7c",
   "metadata": {
    "tags": []
   },
   "outputs": [],
   "source": [
    "ddir = '/u/home/f/f7xiesnm/project-zipursky/easifish/sparse06'\n",
    "output_dir = ddir + '/proc/r1-v2-1'\n",
    "!mkdir -p $output_dir\n",
    "!ls $output_dir"
   ]
  },
  {
   "cell_type": "code",
   "execution_count": null,
   "id": "d3d89d9a",
   "metadata": {
    "tags": []
   },
   "outputs": [],
   "source": [
    "## input\n",
    "\n",
    "# theround = 'r2'\n",
    "# rounds = [theround]\n",
    "# channels = ['c0', 'c1', 'c2', 'c4']\n",
    "\n",
    "\n",
    "fix_round = 'r1'\n",
    "mov_rounds = [] #['r2', 'r6', 'r7']\n",
    "round_channels = collections.OrderedDict({\n",
    "    'r1': ('c0', 'c2', 'c4'),\n",
    "})\n",
    "\n",
    "dapi_channel = 'c3'\n",
    "lb_scale = 's3'\n",
    "lb_res = [1.84,1.84,1.68]\n",
    "ex = 2\n",
    "\n",
    "# images\n",
    "fix_dir  =  ddir + f\"/outputs/{fix_round}/stitching/export.n5\"\n",
    "lb_dir  =   ddir + f\"/outputs/{fix_round}/segmentation/{fix_round}-{dapi_channel}.tif\"\n",
    "reg_dirs = []\n",
    "# reg_dirs = [\n",
    "#     ddir + f\"/outputs/r2/registration/usable/r2-to-r1/warped\",\n",
    "#     ddir + f\"/outputs/r7/registration/usable/r7-to-r1/warped\",\n",
    "#     ]\n",
    "subpath =   f'/{dapi_channel}/{lb_scale}' \n",
    "\n",
    "\n",
    "# spot dir for every gene\n",
    "fx_spots = [\n",
    "    ddir + f'/outputs/r1/spots/spots_c0.txt',\n",
    "    ddir + f'/outputs/r1/spots/spots_c2.txt',\n",
    "    ddir + f'/outputs/r1/spots/spots_c4.txt',\n",
    "]\n",
    "\n",
    "\n",
    "# intn_threshs = [\n",
    "#     150, \n",
    "#     150, \n",
    "#     150, \n",
    "# ]\n",
    "\n",
    "intn_threshs = [\n",
    "    100, \n",
    "    100, \n",
    "    100, \n",
    "]\n",
    "    \n",
    "for f in fx_spots:\n",
    "    assert os.path.isfile(f)\n",
    "\n",
    "## output\n",
    "out_badroi = os.path.join(output_dir, 'bad_roi_list.npy')\n",
    "out_allroi = os.path.join(output_dir, \"roi_all.csv\") \n",
    "out_roi = os.path.join(output_dir, \"roi.csv\") \n",
    "out_spots = os.path.join(output_dir, \"spotcount.csv\")"
   ]
  },
  {
   "cell_type": "code",
   "execution_count": null,
   "id": "6000559c-9784-4bb8-91c6-1d48d82ae917",
   "metadata": {
    "tags": []
   },
   "outputs": [],
   "source": [
    "f_gcamp = ddir +  f'/outputs/r1/intensities/r1_c1_intensity.csv' \n",
    "df_gcamp = pd.read_csv(f_gcamp)\n",
    "df_gcamp"
   ]
  },
  {
   "cell_type": "code",
   "execution_count": null,
   "id": "97aa3b4e-9b4a-47bb-9fe9-d1c9ba892869",
   "metadata": {
    "tags": []
   },
   "outputs": [],
   "source": [
    "df1 = pd.read_csv(fx_spots[0], header=None)\n",
    "df1"
   ]
  },
  {
   "cell_type": "code",
   "execution_count": null,
   "id": "1e1754a1-a6d8-474d-8616-da9ec1fba546",
   "metadata": {
    "tags": []
   },
   "outputs": [],
   "source": [
    "bins = np.linspace(0, 300, 100)\n",
    "sns.histplot(df1[3], bins=bins)"
   ]
  },
  {
   "cell_type": "code",
   "execution_count": null,
   "id": "8f48387c-5f75-42d5-9459-1563a2e736bf",
   "metadata": {
    "tags": []
   },
   "outputs": [],
   "source": [
    "# df1sub = df1[df1[3]<200]"
   ]
  },
  {
   "cell_type": "code",
   "execution_count": null,
   "id": "66c44062-59fb-43a8-bcc0-52e3b83019d5",
   "metadata": {
    "tags": []
   },
   "outputs": [],
   "source": [
    "nbins = ((df1[[0,1,2]].max() - df1[[0,1,2]].min())/40).astype(int)\n",
    "nbins"
   ]
  },
  {
   "cell_type": "code",
   "execution_count": null,
   "id": "4b0b616b-ec70-46a2-a3ed-191a05cd7e89",
   "metadata": {
    "tags": []
   },
   "outputs": [],
   "source": [
    "print(df1.shape)\n",
    "th = 100\n",
    "df1 = df1[df1[3] > th]\n",
    "print(df1.shape)"
   ]
  },
  {
   "cell_type": "code",
   "execution_count": null,
   "id": "d90c4e04-003f-4128-8624-a6aa1f416c1d",
   "metadata": {
    "tags": []
   },
   "outputs": [],
   "source": [
    "df1['xbin'] = pd.cut(df1[0], nbins.loc[0], labels=False)\n",
    "df1['ybin'] = pd.cut(df1[1], nbins.loc[1], labels=False)\n",
    "df1['zbin'] = pd.cut(df1[2], nbins.loc[2], labels=False)\n",
    "\n",
    "count1_xy = df1.groupby(['xbin', 'ybin']).size().unstack().T\n",
    "count1_xz = df1.groupby(['xbin', 'zbin']).size().unstack().T\n",
    "count1_yz = df1.groupby(['ybin', 'zbin']).size().unstack().T"
   ]
  },
  {
   "cell_type": "code",
   "execution_count": null,
   "id": "aee61b2d-358f-478c-9749-145bd105ec9e",
   "metadata": {
    "tags": []
   },
   "outputs": [],
   "source": [
    "fig, ax = plt.subplots(1,1,figsize=(12,10))\n",
    "sns.heatmap(count1_xy/np.nanmean(count1_xy.values), ax=ax, cbar_kws=dict(shrink=0.5), cmap='coolwarm', center=1, vmax=3) #, vmax=2)\n",
    "ax.set_aspect('equal')\n",
    "ax.set_title('before')"
   ]
  },
  {
   "cell_type": "code",
   "execution_count": null,
   "id": "706daa43-11df-4f9d-8642-1e3f44d97c9d",
   "metadata": {
    "tags": []
   },
   "outputs": [],
   "source": [
    "fig, ax = plt.subplots(1,1,figsize=(12,10))\n",
    "sns.heatmap(count1_xz/np.nanmean(count1_xz.values), ax=ax, cbar_kws=dict(shrink=0.5), cmap='coolwarm', center=1, vmax=3) #, vmax=2)\n",
    "ax.set_aspect('equal')\n",
    "ax.set_title('before')"
   ]
  },
  {
   "cell_type": "code",
   "execution_count": null,
   "id": "7d162441-bba4-475b-881a-60de8473350f",
   "metadata": {
    "tags": []
   },
   "outputs": [],
   "source": [
    "fig, ax = plt.subplots(1,1,figsize=(12,10))\n",
    "sns.heatmap(count1_yz/np.nanmean(count1_yz.values), ax=ax, cbar_kws=dict(shrink=0.5), cmap='coolwarm', center=1, vmax=3) #, vmax=2)\n",
    "ax.set_aspect('equal')\n",
    "ax.set_title('before')"
   ]
  },
  {
   "cell_type": "code",
   "execution_count": null,
   "id": "a7deb160-7621-4816-9c81-eb6414fac1ef",
   "metadata": {},
   "outputs": [],
   "source": []
  },
  {
   "cell_type": "code",
   "execution_count": null,
   "id": "21cc53e1-0077-462f-bd29-60727babf6be",
   "metadata": {},
   "outputs": [],
   "source": []
  },
  {
   "cell_type": "code",
   "execution_count": null,
   "id": "912d27e8-df5e-46ae-b766-98392bc035a3",
   "metadata": {},
   "outputs": [],
   "source": []
  },
  {
   "cell_type": "code",
   "execution_count": null,
   "id": "16b7fea8-f5bc-4445-a845-1cf80b74c0a9",
   "metadata": {},
   "outputs": [],
   "source": []
  },
  {
   "cell_type": "code",
   "execution_count": null,
   "id": "a121be2f-68fe-47ee-8304-9f7533bbf2a8",
   "metadata": {},
   "outputs": [],
   "source": []
  },
  {
   "cell_type": "code",
   "execution_count": null,
   "id": "698b1837",
   "metadata": {
    "tags": []
   },
   "outputs": [],
   "source": [
    "%%time\n",
    "# output dir\n",
    "if not os.path.isdir(output_dir):\n",
    "    print(output_dir)\n",
    "    os.mkdir(output_dir)\n",
    "    \n",
    "# image size in pixel (x, y, z)\n",
    "grid = n5mu.read_voxel_grid(fix_dir, subpath)\n",
    "# voxel resolution in µm (x, y, z) (post-expansion)\n",
    "vox  = n5mu.read_voxel_spacing(fix_dir, subpath)\n",
    "# image size in physical space (x, y, z) (post-expansion)\n",
    "size = grid*vox\n",
    "print('subpath: ', subpath)\n",
    "print('voxel size: ', vox)\n",
    "print('image size (pixel): ', grid)\n",
    "print('image size (um post-ex): ', size)\n",
    "\n",
    "# get image data\n",
    "# print(\"loading images...\")\n",
    "# fix = zarr.open(store=zarr.N5Store(fix_dir), mode='r')     \n",
    "# img1 = fix[subpath][:, :, :]\n",
    "\n",
    "# get segmentation mask\n",
    "lb = imread(lb_dir)\n",
    "# roi = np.max(lb) # this is only correct if this lb is uncropped\n",
    "roi = len(np.unique(lb[lb!=0])) # this would be better\n",
    "print(lb.shape)\n",
    "print('num roi: ', roi)"
   ]
  },
  {
   "cell_type": "code",
   "execution_count": null,
   "id": "579b0b93-ffd0-48de-a509-4f5bbe22fcd1",
   "metadata": {
    "tags": []
   },
   "outputs": [],
   "source": [
    "# %%time\n",
    "# bad_roi = []\n",
    "# for reg_dir in reg_dirs:\n",
    "#     reg = zarr.open(store=zarr.N5Store(reg_dir), mode='r')     \n",
    "#     img2 = reg[subpath][...]\n",
    "#     print(\"image loaded\")\n",
    "    \n",
    "#     # get bad pixels -> bad roi\n",
    "#     bad_roi_thisround = np.unique(lb[np.nonzero(img2==0)])\n",
    "#     bad_roi.append(bad_roi_thisround)\n",
    "#     print(\"# of ROIs rejected this round:\", len(bad_roi_thisround))\n",
    "    \n",
    "# bad_roi = np.unique(np.hstack(bad_roi))\n",
    "# print(\"# of ROIs rejected:\", len(bad_roi))\n",
    "# bad_roi"
   ]
  },
  {
   "cell_type": "code",
   "execution_count": null,
   "id": "88b47857-3f8c-4148-9dff-b73004211542",
   "metadata": {
    "tags": []
   },
   "outputs": [],
   "source": [
    "%%time\n",
    "# # Get list of ROIs that are fully or partially outside the mask \n",
    "### Make sure to only include ROIs that are intact and in the overlapping regions across all rounds of FISH\n",
    "### remove any unregistered parts\n",
    "if len(reg_dirs) > 0:\n",
    "    mask = np.ones(grid[::-1])\n",
    "    for reg_dir in reg_dirs:\n",
    "        reg = zarr.open(store=zarr.N5Store(reg_dir), mode='r')     \n",
    "        img2 = reg[subpath][...]\n",
    "        print(\"image loaded\")\n",
    "        mask[img2==0]=0\n",
    "    print(\"mask generated\")\n",
    "\n",
    "    bad_roi=np.unique(lb[mask==0])\n",
    "    if bad_roi[0] == 0: # remove the label 0 - extracellular space\n",
    "        bad_roi = bad_roi[1:]\n",
    "    np.save(out_badroi, bad_roi)\n",
    "    print(\"# of ROIs rejected:\", len(bad_roi))"
   ]
  },
  {
   "cell_type": "code",
   "execution_count": null,
   "id": "7c0f7f66",
   "metadata": {
    "tags": []
   },
   "outputs": [],
   "source": [
    "%%time\n",
    "# get cell locations (in um - pre-expansion) from segmentation mask\n",
    "roi_meta_all = roi_prop.roi_prop_v2(lb, lb_res, ex)\n",
    "roi_meta_all.to_csv(out_allroi)\n",
    "\n",
    "roi_meta = roi_meta_all.set_index('roi').copy()\n",
    "roi_meta = roi_meta #.loc[roi_meta.index.difference(bad_roi)]\n",
    "roi_meta.to_csv(out_roi)"
   ]
  },
  {
   "cell_type": "code",
   "execution_count": null,
   "id": "dd767d92-47eb-449b-9455-fc9522d2fc01",
   "metadata": {
    "tags": []
   },
   "outputs": [],
   "source": [
    "%%time\n",
    "\n",
    "# count spots for every cell (roi)\n",
    "\n",
    "# all labels\n",
    "lb_id = np.unique(lb[lb!=0]) # exclude 0\n",
    "lb_id = np.hstack([[0], lb_id]) # include 0 - noncell\n",
    "# selected cells\n",
    "lb_id_selected = roi_meta.index.values\n",
    "\n",
    "# prep\n",
    "spotcount = pd.DataFrame(index=lb_id_selected, dtype=int)\n",
    "# spotcount_intn = pd.DataFrame(index=lb_id_selected, dtype=float)\n",
    "\n",
    "i = 0\n",
    "for r,chs in round_channels.items():\n",
    "    for c in chs:\n",
    "        # f_intns = fx_intns[i]\n",
    "        f_spots = fx_spots[i]\n",
    "        intn_th = intn_threshs[i]\n",
    "        print(r, c, f_spots) #, f_intns)\n",
    "\n",
    "        # spots\n",
    "        spots_rc = np.loadtxt(f_spots, delimiter=',')\n",
    "        print(len(spots_rc))\n",
    "\n",
    "        # filter\n",
    "        filter_cond = spots_rc[:,3] > intn_th\n",
    "        spots_rc = spots_rc[filter_cond]\n",
    "        print(len(spots_rc))\n",
    "\n",
    "        # count spots\n",
    "        res = spot.spot_counts_worker(lb, spots_rc, lb_res,\n",
    "                                      lb_id=lb_id, \n",
    "                                      remove_noncell=True, \n",
    "                                      selected_roi_list=lb_id_selected,\n",
    "                                      )\n",
    "        spotcount[f\"{r}_{c}\"] = res \n",
    "\n",
    "        # # count spots by intensity\n",
    "        # res = spot.get_spot_counts_from_intn(f_intns, f_spots, roi_meta, lb_res)\n",
    "        # spotcount_intn[f'{r}_{c}'] = res\n",
    "        i = i + 1\n",
    "    \n",
    "# save results\n",
    "spotcount.to_csv(out_spots)\n",
    "# spotcount_intn.to_csv(out_spots_intn)"
   ]
  },
  {
   "cell_type": "code",
   "execution_count": null,
   "id": "34116fe0",
   "metadata": {
    "tags": []
   },
   "outputs": [],
   "source": [
    "# # reconcile two spot counts\n",
    "# dist_cutoff = 2 # um pre-expansion\n",
    "# density = spotcount.divide(roi_meta['area'], axis=0)\n",
    "# cond = density < 1/(dist_cutoff**3) # keep spots if density is low\n",
    "\n",
    "# print(\"# cells have high density: \", (~cond).sum()) \n",
    "# spotcount_merged = spotcount.where(cond, spotcount_intn)  # replace where the condition is False\n",
    "# spotcount_merged.to_csv(out_spots_merged)\n",
    "# spotcount_merged"
   ]
  },
  {
   "cell_type": "code",
   "execution_count": null,
   "id": "713a5d5c-1faf-4dcf-8753-a659aa6eb2db",
   "metadata": {},
   "outputs": [],
   "source": [
    "spotcount"
   ]
  }
 ],
 "metadata": {
  "kernelspec": {
   "display_name": "Python 3 (ipykernel)",
   "language": "python",
   "name": "python3"
  },
  "language_info": {
   "codemirror_mode": {
    "name": "ipython",
    "version": 3
   },
   "file_extension": ".py",
   "mimetype": "text/x-python",
   "name": "python",
   "nbconvert_exporter": "python",
   "pygments_lexer": "ipython3",
   "version": "3.9.16"
  }
 },
 "nbformat": 4,
 "nbformat_minor": 5
}
