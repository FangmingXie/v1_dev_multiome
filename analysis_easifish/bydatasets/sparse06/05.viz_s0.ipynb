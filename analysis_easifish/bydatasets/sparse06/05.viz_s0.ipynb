{
 "cells": [
  {
   "cell_type": "markdown",
   "id": "8c753145-1a59-480d-abb2-60f2fa3f416f",
   "metadata": {},
   "source": [
    "# Inputs\n",
    "---"
   ]
  },
  {
   "cell_type": "code",
   "execution_count": null,
   "id": "2b6aeb01",
   "metadata": {},
   "outputs": [],
   "source": [
    "import numpy as np, zarr, nrrd\n",
    "# alignment functions\n",
    "from bigstream.align import alignment_pipeline\n",
    "from bigstream.transform import apply_transform\n",
    "import tifffile\n",
    "\n",
    "import seaborn as sns\n",
    "import matplotlib.pyplot as plt"
   ]
  },
  {
   "cell_type": "code",
   "execution_count": null,
   "id": "f9e34109-0b59-441f-bb7a-2f75c90d30eb",
   "metadata": {
    "tags": []
   },
   "outputs": [],
   "source": [
    "p1      = '/u/home/f/f7xiesnm/project-zipursky/data/01_fused'\n",
    "p2      = '/u/home/f/f7xiesnm/project-zipursky/data/03_flatfused'\n",
    "outdir = '/u/home/f/f7xiesnm/project-zipursky/easifish/results/viz_sparse06_jan23'\n",
    "!mkdir -p $outdir"
   ]
  },
  {
   "cell_type": "code",
   "execution_count": null,
   "id": "8460a4e9-1d9b-41af-8f88-f7b0f29c3999",
   "metadata": {
    "tags": []
   },
   "outputs": [],
   "source": [
    "!ls $p1"
   ]
  },
  {
   "cell_type": "code",
   "execution_count": null,
   "id": "0f2ddbb3-dc4a-448d-915c-2a80a2f5a6f7",
   "metadata": {
    "tags": []
   },
   "outputs": [],
   "source": [
    "!ls $p2"
   ]
  },
  {
   "cell_type": "markdown",
   "id": "7934dcd0-bdfe-4cc8-9e0f-f79e426c7a3f",
   "metadata": {
    "tags": []
   },
   "source": [
    "# s0"
   ]
  },
  {
   "cell_type": "code",
   "execution_count": null,
   "id": "9c812db9-0130-4255-ab84-8ce035044f8b",
   "metadata": {
    "tags": []
   },
   "outputs": [],
   "source": [
    "path = p1 + f'/sparse06_r1_autos1_export.n5'\n",
    "zarr_data = zarr.open(store=zarr.N5Store(path), mode='r')\n",
    "for c in ['c0']:\n",
    "    img = zarr_data[f'/{c}/s0'] \n",
    "    print(img.shape)\n",
    "    # print(np.max(img), np.min(img))\n",
    "    # output = outdir+f'/demo_small_s1-ds-try3_{c}_s3.tiff'\n",
    "    # print(output)\n",
    "    # tifffile.imwrite(output, img)"
   ]
  },
  {
   "cell_type": "code",
   "execution_count": null,
   "id": "aa7f78ac-c827-4df9-a68b-36c5b70262d2",
   "metadata": {
    "tags": []
   },
   "outputs": [],
   "source": [
    "3966/960, 4966/960, 0.13/3, 0.17/4\n"
   ]
  },
  {
   "cell_type": "code",
   "execution_count": null,
   "id": "ec94dc3e-8006-48b9-9990-8348de8c7a9c",
   "metadata": {
    "tags": []
   },
   "outputs": [],
   "source": [
    "img_s = img[1000]"
   ]
  },
  {
   "cell_type": "code",
   "execution_count": null,
   "id": "0d87a2e9-01f7-42c9-9bcc-36c30e3d397b",
   "metadata": {
    "tags": []
   },
   "outputs": [],
   "source": [
    "plt.imshow(img_s, \n",
    "           vmax=np.percentile(img_s, 95), \n",
    "           vmin=np.percentile(img_s, 0.1),)"
   ]
  },
  {
   "cell_type": "code",
   "execution_count": null,
   "id": "bfed9894-8321-4aa5-a555-ea7992cbefae",
   "metadata": {},
   "outputs": [],
   "source": []
  },
  {
   "cell_type": "code",
   "execution_count": null,
   "id": "4fef5e13-f63a-4e4f-9919-e19fe9f2c792",
   "metadata": {},
   "outputs": [],
   "source": []
  },
  {
   "cell_type": "markdown",
   "id": "67127db2-b059-48c5-8e4c-f3367d3227be",
   "metadata": {
    "tags": []
   },
   "source": [
    "# s0 - fuseflat"
   ]
  },
  {
   "cell_type": "code",
   "execution_count": null,
   "id": "1e65e2b0-6e9a-4b63-89ec-69e9e1ed351f",
   "metadata": {
    "tags": []
   },
   "outputs": [],
   "source": [
    "path = p2 + f'/sparse06_r1_autos1_flatfused.n5'\n",
    "\n",
    "zarr_data = zarr.open(store=zarr.N5Store(path), mode='r')\n",
    "for c in ['c0']:\n",
    "    img = zarr_data[f'/{c}/s0'] \n",
    "    print(img.shape)\n",
    "    # print(np.max(img), np.min(img))\n",
    "    # output = outdir+f'/demo_small_s1-ds-try3_{c}_s3.tiff'\n",
    "    # print(output)\n",
    "    # tifffile.imwrite(output, img)"
   ]
  },
  {
   "cell_type": "code",
   "execution_count": null,
   "id": "6589670f-ad8c-48ec-98ed-c67bf907dab2",
   "metadata": {
    "tags": []
   },
   "outputs": [],
   "source": [
    "3966/960, 4966/960, 0.13/3, 0.17/4\n"
   ]
  },
  {
   "cell_type": "code",
   "execution_count": null,
   "id": "cc7cdfb9-e57c-4358-b74c-85a6ad02bc52",
   "metadata": {
    "tags": []
   },
   "outputs": [],
   "source": [
    "img_s = img[1000]"
   ]
  },
  {
   "cell_type": "code",
   "execution_count": null,
   "id": "9883bfb3-7957-4d21-851d-44655a532bab",
   "metadata": {
    "tags": []
   },
   "outputs": [],
   "source": [
    "plt.imshow(img_s, \n",
    "           vmax=np.percentile(img_s, 95), \n",
    "           vmin=np.percentile(img_s, 0.1),)"
   ]
  },
  {
   "cell_type": "code",
   "execution_count": null,
   "id": "c2717d37-9496-4d62-ba42-eefbb25e1d94",
   "metadata": {},
   "outputs": [],
   "source": []
  },
  {
   "cell_type": "code",
   "execution_count": null,
   "id": "3832e431-ac41-4ffd-a421-d8205ef1e8b5",
   "metadata": {},
   "outputs": [],
   "source": []
  },
  {
   "cell_type": "code",
   "execution_count": null,
   "id": "fd6c267b-95b8-4c26-9bd7-c3b43b918927",
   "metadata": {},
   "outputs": [],
   "source": []
  },
  {
   "cell_type": "markdown",
   "id": "0f3d867c-8e3f-4212-adad-e2603bb53e15",
   "metadata": {},
   "source": [
    "# s3"
   ]
  },
  {
   "cell_type": "code",
   "execution_count": null,
   "id": "4074c8c1-9d5a-4fd1-8a21-d382bcf4734c",
   "metadata": {
    "tags": []
   },
   "outputs": [],
   "source": [
    "\n",
    "rounds = ['r1']\n",
    "for r in rounds:\n",
    "    path = p1 + f'/sparse06_{r}_export.n5'\n",
    "    zarr_data = zarr.open(store=zarr.N5Store(path), mode='r')\n",
    "    for c in ['c0']:\n",
    "        img = zarr_data[f'/{c}/s3'] \n",
    "        print(img.shape)\n",
    "        print(np.max(img), np.min(img))\n",
    "        output = outdir+f'/{r}_{c}_s3_flat.tiff'\n",
    "        print(output)\n",
    "        tifffile.imwrite(output, img)"
   ]
  },
  {
   "cell_type": "code",
   "execution_count": null,
   "id": "08dae79d-075b-4bd9-b12a-efb0389f2fd9",
   "metadata": {
    "tags": []
   },
   "outputs": [],
   "source": [
    "\n",
    "rounds = ['r1']\n",
    "for r in rounds:\n",
    "    path = p2 + f'/sparse06_{r}_flatfused.n5'\n",
    "    zarr_data = zarr.open(store=zarr.N5Store(path), mode='r')\n",
    "    for c in ['c0']:\n",
    "        img = zarr_data[f'/{c}/s3'] \n",
    "        print(img.shape)\n",
    "        print(np.max(img), np.min(img))\n",
    "        output = outdir+f'/{r}_{c}_s3_flatfused.tiff'\n",
    "        print(output)\n",
    "        tifffile.imwrite(output, img)"
   ]
  },
  {
   "cell_type": "code",
   "execution_count": null,
   "id": "5c210f7e-6574-4a13-bf71-4c51e06ffd59",
   "metadata": {},
   "outputs": [],
   "source": []
  }
 ],
 "metadata": {
  "kernelspec": {
   "display_name": "napari",
   "language": "python",
   "name": "napari"
  },
  "language_info": {
   "codemirror_mode": {
    "name": "ipython",
    "version": 3
   },
   "file_extension": ".py",
   "mimetype": "text/x-python",
   "name": "python",
   "nbconvert_exporter": "python",
   "pygments_lexer": "ipython3",
   "version": "3.9.16"
  }
 },
 "nbformat": 4,
 "nbformat_minor": 5
}
