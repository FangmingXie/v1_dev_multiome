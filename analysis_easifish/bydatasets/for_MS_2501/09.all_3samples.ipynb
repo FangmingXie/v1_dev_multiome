{
 "cells": [
  {
   "cell_type": "code",
   "execution_count": null,
   "id": "1edf0682-b1e5-4002-8b0b-793a1617fa9a",
   "metadata": {
    "tags": []
   },
   "outputs": [],
   "source": [
    "import os\n",
    "import numpy as np\n",
    "import pandas as pd\n",
    "from skimage import io, measure\n",
    "import tifffile\n",
    "from kneed import KneeLocator\n",
    "from itertools import combinations\n",
    "\n",
    "import matplotlib.pyplot as plt\n",
    "import seaborn as sns"
   ]
  },
  {
   "cell_type": "code",
   "execution_count": null,
   "id": "01ffb55c-eb87-4487-abf2-466900060eb3",
   "metadata": {
    "tags": []
   },
   "outputs": [],
   "source": [
    "import plotly.io as pio\n",
    "pio.renderers.default = 'jupyterlab'\n",
    "import plotly.graph_objs as go"
   ]
  },
  {
   "cell_type": "code",
   "execution_count": null,
   "id": "9589c306-a721-469d-9818-c58e5dd72076",
   "metadata": {
    "tags": []
   },
   "outputs": [],
   "source": [
    "import sys\n",
    "import importlib\n",
    "\n",
    "sys.path.insert(0, '/u/home/f/f7xiesnm/project-zipursky/code/easifish-proc/bydatasets/')\n",
    "sys.path.append('../../')\n",
    "\n",
    "from scroutines import powerplots\n",
    "\n",
    "import metadata_gene_chan\n",
    "importlib.reload(metadata_gene_chan)\n",
    "from metadata_gene_chan import get_proj_metadata\n",
    "\n",
    "meta = get_proj_metadata()\n",
    "\n",
    "from easi_fish import roi_prop, spot, intensity\n",
    "# importlib.reload(spot)\n",
    "# importlib.reload(roi_prop)\n",
    "# importlib.reload(intensity)\n",
    "\n",
    "import shared_functions\n",
    "importlib.reload(shared_functions)\n",
    "\n",
    "from shared_functions import spot_to_voxel_coords, filter_raw_spots, spots_incells_metrics, scramble_cell_masks, masks_to_labeled_masks\n",
    "from shared_functions import plot_frac, plot_reverse_cumsum, plot_reverse_cumsum_complex"
   ]
  },
  {
   "cell_type": "code",
   "execution_count": null,
   "id": "79a326c6-68e9-44bf-8d40-17c7a61a41c2",
   "metadata": {
    "tags": []
   },
   "outputs": [],
   "source": [
    "outdir = \"/u/home/f/f7xiesnm/project-zipursky/easifish/results/ms_multiome/lt186\"\n",
    "!mkdir -p $outdir"
   ]
  },
  {
   "cell_type": "code",
   "execution_count": null,
   "id": "23c0e788-5fe9-4be1-a30d-cab0a8e72ae8",
   "metadata": {
    "tags": []
   },
   "outputs": [],
   "source": [
    "f = '/u/home/f/f7xiesnm/v1_multiome/easifish_sample1_res.csv'\n",
    "df1 = pd.read_csv(f)\n",
    "f = '/u/home/f/f7xiesnm/v1_multiome/easifish_sample2_res.csv'\n",
    "df2 = pd.read_csv(f)\n",
    "f = '/u/home/f/f7xiesnm/v1_multiome/easifish_sample3_res.csv'\n",
    "df3 = pd.read_csv(f)\n",
    "df1"
   ]
  },
  {
   "cell_type": "code",
   "execution_count": null,
   "id": "b50fec39-883d-4067-bdd4-51fbe677a207",
   "metadata": {
    "tags": []
   },
   "outputs": [],
   "source": [
    "dfs = [df1, df2, df3]"
   ]
  },
  {
   "cell_type": "code",
   "execution_count": null,
   "id": "c2d46d0e-6fe3-4599-bf31-552d0ae8e437",
   "metadata": {
    "tags": []
   },
   "outputs": [],
   "source": [
    "# bin spatial\n",
    "stepsize_xy = 100 # 40\n",
    "stepsize_z  = 20\n",
    "for props in dfs:\n",
    "    zmax = props['z'].max()\n",
    "    zbins = np.arange(   0, zmax+stepsize_z , stepsize_z)\n",
    "    \n",
    "    xmax = props['x'].max()\n",
    "    ymax = props['y'].max()\n",
    "    xmin = props['x'].min()\n",
    "    ymin = props['y'].min()\n",
    "    xbins = np.arange(xmin, xmax+stepsize_xy, stepsize_xy)\n",
    "    ybins = np.arange(ymin, ymax+stepsize_xy, stepsize_xy)\n",
    "\n",
    "    props['xbin'] = pd.cut(props['x'], bins=xbins, labels=False) #.astype(int)\n",
    "    props['ybin'] = pd.cut(props['y'], bins=ybins, labels=False)\n",
    "    props['zbin'] = pd.cut(props['z'], bins=zbins, labels=False)"
   ]
  },
  {
   "cell_type": "code",
   "execution_count": null,
   "id": "46665d0f-3207-4fc5-a9be-d6f3f687d3dc",
   "metadata": {
    "tags": []
   },
   "outputs": [],
   "source": [
    "proj_targets = ['LM', 'RL']\n",
    "colors = ['magenta', 'green']\n",
    "l23_start, l23_end = 100, 400"
   ]
  },
  {
   "cell_type": "code",
   "execution_count": null,
   "id": "57c0a093-6e39-461c-bb64-2a074d348df4",
   "metadata": {
    "tags": []
   },
   "outputs": [],
   "source": [
    "props = dfs[0]\n",
    "\n",
    "colors = ['magenta', 'green']\n",
    "axis_labels = ['x','y','z']\n",
    "axis_indices = [0,1,2]\n",
    "fig, axs = plt.subplots(1, 3, figsize=(3*8,1*6))\n",
    "for idx, (i, j) in enumerate(combinations(axis_indices, 2)):\n",
    "    ax = axs[idx]\n",
    "    ax.set_aspect('equal')\n",
    "    \n",
    "    li = axis_labels[i]\n",
    "    lj = axis_labels[j]\n",
    "    ax.set_xlabel(li)\n",
    "    ax.set_ylabel(lj)\n",
    "    \n",
    "    g = ax.scatter(props[li], props[lj], c='lightgray', s=1, edgecolor='none')\n",
    "    for proj, cl in zip(proj_targets, colors):\n",
    "        cond = props[proj] > 0\n",
    "        num = cond.sum()\n",
    "        g = ax.scatter(props[li][cond], props[lj][cond], c=cl, s=5, edgecolor='none', label=f'{proj} (n={num:,})', rasterized=True)\n",
    "        \n",
    "    cond = props['LM']+props['RL'] == 2\n",
    "    num = cond.sum()\n",
    "    g = ax.scatter(props[li][cond], props[lj][cond], c='orange', s=5, edgecolor='none', label=f'both (n={num:,})', rasterized=True)\n",
    "\n",
    "axs[0].legend(bbox_to_anchor=(0,0))\n",
    "\n",
    "\n",
    "# flip Z\n",
    "axs[1].invert_yaxis()\n",
    "axs[2].invert_yaxis()\n",
    "\n",
    "# rotate 180 degree (-x, -y)\n",
    "axs[0].invert_xaxis()\n",
    "axs[0].invert_yaxis()\n",
    "axs[1].invert_xaxis()\n",
    "axs[2].invert_xaxis()\n",
    "\n",
    "output = os.path.join(outdir, 'dots.pdf')\n",
    "powerplots.savefig_autodate(fig, output)\n",
    "plt.show()"
   ]
  },
  {
   "cell_type": "code",
   "execution_count": null,
   "id": "43586d49-aa60-47d4-bd0a-b0c51f333a7e",
   "metadata": {
    "tags": []
   },
   "outputs": [],
   "source": [
    "props = dfs[1]\n",
    "\n",
    "colors = ['magenta', 'green']\n",
    "axis_labels = ['x','y','z']\n",
    "axis_indices = [0,1,2]\n",
    "fig, axs = plt.subplots(1, 3, figsize=(3*8,1*6))\n",
    "for idx, (i, j) in enumerate(combinations(axis_indices, 2)):\n",
    "    ax = axs[idx]\n",
    "    ax.set_aspect('equal')\n",
    "    \n",
    "    li = axis_labels[i]\n",
    "    lj = axis_labels[j]\n",
    "    ax.set_xlabel(li)\n",
    "    ax.set_ylabel(lj)\n",
    "    \n",
    "    g = ax.scatter(props[li], props[lj], c='lightgray', s=1, edgecolor='none')\n",
    "    for proj, cl in zip(proj_targets, colors):\n",
    "        cond = props[proj] > 0\n",
    "        num = cond.sum()\n",
    "        g = ax.scatter(props[li][cond], props[lj][cond], c=cl, s=5, edgecolor='none', label=f'{proj} (n={num:,})', rasterized=True)\n",
    "        \n",
    "    cond = props['LM']+props['RL'] == 2\n",
    "    num = cond.sum()\n",
    "    g = ax.scatter(props[li][cond], props[lj][cond], c='orange', s=5, edgecolor='none', label=f'both (n={num:,})', rasterized=True)\n",
    "\n",
    "axs[0].legend(bbox_to_anchor=(0,0))\n",
    "\n",
    "\n",
    "# flip Z\n",
    "axs[1].invert_yaxis()\n",
    "axs[2].invert_yaxis()\n",
    "\n",
    "# # rotate 180 degree (-x, -y)\n",
    "# axs[0].invert_xaxis()\n",
    "# axs[0].invert_yaxis()\n",
    "# axs[1].invert_xaxis()\n",
    "# axs[2].invert_xaxis()\n",
    "\n",
    "output = os.path.join(outdir, 'dots_samp2.pdf')\n",
    "powerplots.savefig_autodate(fig, output)\n",
    "plt.show()"
   ]
  },
  {
   "cell_type": "code",
   "execution_count": null,
   "id": "0118b25c-547b-4f98-a8cb-2730544d9291",
   "metadata": {
    "tags": []
   },
   "outputs": [],
   "source": [
    "props = dfs[2]\n",
    "\n",
    "colors = ['magenta', 'green']\n",
    "axis_labels = ['x','y','z']\n",
    "axis_indices = [0,1,2]\n",
    "fig, axs = plt.subplots(1, 3, figsize=(3*8,1*6))\n",
    "for idx, (i, j) in enumerate(combinations(axis_indices, 2)):\n",
    "    ax = axs[idx]\n",
    "    ax.set_aspect('equal')\n",
    "    \n",
    "    li = axis_labels[i]\n",
    "    lj = axis_labels[j]\n",
    "    ax.set_xlabel(li)\n",
    "    ax.set_ylabel(lj)\n",
    "    \n",
    "    g = ax.scatter(props[li], props[lj], c='lightgray', s=1, edgecolor='none')\n",
    "    for proj, cl in zip(proj_targets, colors):\n",
    "        cond = props[proj] > 0\n",
    "        num = cond.sum()\n",
    "        g = ax.scatter(props[li][cond], props[lj][cond], c=cl, s=5, edgecolor='none', label=f'{proj} (n={num:,})', rasterized=True)\n",
    "        \n",
    "    cond = props['LM']+props['RL'] == 2\n",
    "    num = cond.sum()\n",
    "    g = ax.scatter(props[li][cond], props[lj][cond], c='orange', s=5, edgecolor='none', label=f'both (n={num:,})', rasterized=True)\n",
    "\n",
    "axs[0].legend(bbox_to_anchor=(0,0))\n",
    "\n",
    "\n",
    "# flip Z\n",
    "axs[1].invert_yaxis()\n",
    "axs[2].invert_yaxis()\n",
    "\n",
    "# # rotate 180 degree (-x, -y)\n",
    "# axs[0].invert_xaxis()\n",
    "# axs[0].invert_yaxis()\n",
    "# axs[1].invert_xaxis()\n",
    "# axs[2].invert_xaxis()\n",
    "\n",
    "output = os.path.join(outdir, 'dots_samp3.pdf')\n",
    "powerplots.savefig_autodate(fig, output)\n",
    "plt.show()"
   ]
  },
  {
   "cell_type": "markdown",
   "id": "efac4bd6-2762-4c1a-a1a1-906a1a983d55",
   "metadata": {},
   "source": [
    "# along Z"
   ]
  },
  {
   "cell_type": "code",
   "execution_count": null,
   "id": "3d24492c-bb12-4c8f-8d99-e255a4791461",
   "metadata": {
    "tags": []
   },
   "outputs": [],
   "source": [
    "def plot_z(ax, props):\n",
    "    \n",
    "    for i, target in enumerate(proj_targets):\n",
    "        datasub = props.loc[props[target]>0, 'z']\n",
    "        histz_sub, _ = np.histogram(datasub, bins=zbins)\n",
    "        ax.plot(histz_sub, zbins[1:], '-', \n",
    "                color=colors[i], \n",
    "                label=f'{target} (n={len(datasub):,})',\n",
    "                )\n",
    "\n",
    "    datasub = props.loc[np.sum(props[proj_targets], axis=1)==2, 'z'] \n",
    "    histz_sub, _ = np.histogram(datasub, bins=zbins)\n",
    "    ax.plot(histz_sub, zbins[1:], '-', \n",
    "            color='orange',\n",
    "            label=f'both (n={len(datasub):,})',\n",
    "            )\n",
    "    ax.legend(bbox_to_anchor=(0,-0.1))\n",
    "\n",
    "    ax.axhline(l23_start, color='gray', linestyle='--')\n",
    "    ax.axhline(l23_end, color='gray', linestyle='--')\n",
    "    ax.grid(False)\n",
    "    ax.set_ylabel('cortical depth (um)')\n",
    "    ax.set_xlabel('number of cells')\n",
    "    ax.invert_yaxis()\n",
    "\n",
    "    ax.xaxis.set_label_position('top')       # Move the axis label to the top\n",
    "    sns.despine(ax=ax, bottom=True, top=False)\n",
    "\n",
    "def plot_z_ratio(ax, props, alpha=1):\n",
    "    proj_targets = ['LM', 'RL']\n",
    "    colors = ['magenta', 'green']\n",
    "    l23_start, l23_end = 100, 400\n",
    "    \n",
    "    for i, target in enumerate(proj_targets):\n",
    "        datasub = props.loc[props[target]>0, 'z']\n",
    "        histz_sub, _ = np.histogram(datasub, bins=zbins)\n",
    "        ax.plot(histz_sub/np.sum(histz_sub), zbins[1:], '-', \n",
    "                color=colors[i], \n",
    "                alpha=alpha,\n",
    "                label=f'{target} (n={len(datasub):,})',\n",
    "                )\n",
    "    ax.legend(bbox_to_anchor=(0,-0.1))\n",
    "\n",
    "    ax.axhline(l23_start, color='gray', linestyle='--')\n",
    "    ax.axhline(l23_end, color='gray', linestyle='--')\n",
    "    ax.grid(False)\n",
    "    ax.set_ylabel('cortical depth (um)')\n",
    "    ax.set_xlabel('number of cells')\n",
    "    ax.invert_yaxis()\n",
    "\n",
    "    ax.xaxis.set_label_position('top')       # Move the axis label to the top\n",
    "    sns.despine(ax=ax, bottom=True, top=False)"
   ]
  },
  {
   "cell_type": "code",
   "execution_count": null,
   "id": "43b820af-8fd0-4690-80fe-9e4e225ffa1c",
   "metadata": {
    "tags": []
   },
   "outputs": [],
   "source": [
    "fig, axs = plt.subplots(1, 3, figsize=(3*5,1*5), sharey=True)\n",
    "for i in range(3):\n",
    "    ax = axs[i]\n",
    "    props = dfs[i]\n",
    "    plot_z(ax, props)\n",
    "# fig.tight_layout()\n",
    "output = os.path.join(outdir, 'proj_bias_z.pdf')\n",
    "powerplots.savefig_autodate(fig, output)\n",
    "plt.show()"
   ]
  },
  {
   "cell_type": "code",
   "execution_count": null,
   "id": "fdd1092d-8638-4710-81cd-bfd177d03a45",
   "metadata": {
    "tags": []
   },
   "outputs": [],
   "source": [
    "fig, axs = plt.subplots(1, 3, figsize=(3*5,1*5), sharey=True)\n",
    "for i in range(3):\n",
    "    ax = axs[i]\n",
    "    props = dfs[i]\n",
    "    plot_z_ratio(ax, props)\n",
    "# fig.tight_layout()\n",
    "output = os.path.join(outdir, 'proj_bias_z2.pdf')\n",
    "powerplots.savefig_autodate(fig, output)\n",
    "plt.show()"
   ]
  },
  {
   "cell_type": "code",
   "execution_count": null,
   "id": "434f5ab6-4c1f-4666-a197-f40bd5672127",
   "metadata": {
    "tags": []
   },
   "outputs": [],
   "source": [
    "proj_targets = ['LM', 'RL']\n",
    "colors = ['magenta', 'green']\n",
    "\n",
    "mean_norm_hists = []\n",
    "std_norm_hists = []\n",
    "for j in range(2):\n",
    "    norm_hists  = []\n",
    "    proj = proj_targets[j]\n",
    "    for i in range(3):\n",
    "        props = dfs[i]\n",
    "        datasub = props.loc[props[proj]>0, 'z']\n",
    "        histz_sub, _ = np.histogram(datasub, bins=zbins)\n",
    "        norm_hist = histz_sub/np.sum(histz_sub)\n",
    "        norm_hists.append(norm_hist)\n",
    "\n",
    "    mean_norm_hists.append(np.mean(np.array(norm_hists), axis=0))\n",
    "    std_norm_hists.append(np.std(np.array(norm_hists), axis=0))"
   ]
  },
  {
   "cell_type": "code",
   "execution_count": null,
   "id": "03b5d4c5-1d4e-4f45-a54b-074dd49e16f1",
   "metadata": {
    "tags": []
   },
   "outputs": [],
   "source": [
    "l23_start, l23_end = 100,400\n",
    "fig, ax = plt.subplots(1, 1, figsize=(1*5,1*5)) # , sharey=True)\n",
    "# for i in range(3):\n",
    "#     props = dfs[i]\n",
    "#     plot_z_ratio(ax, props, alpha=0.3)\n",
    "    \n",
    "for i in range(2):\n",
    "    ax.plot(mean_norm_hists[i], zbins[1:], '-', \n",
    "            color=colors[i],\n",
    "            linewidth=3,\n",
    "            )\n",
    "    ax.fill_betweenx(zbins[1:], \n",
    "                    mean_norm_hists[i]-std_norm_hists[i], \n",
    "                    mean_norm_hists[i]+std_norm_hists[i], \n",
    "                     color=colors[i],\n",
    "                     alpha=0.3, linewidth=0,\n",
    "                   )\n",
    "\n",
    "ax.axhline(l23_start, color='gray', linestyle='--')\n",
    "ax.axhline(l23_end, color='gray', linestyle='--')\n",
    "ax.grid(False)\n",
    "ax.set_ylabel('cortical depth (um)')\n",
    "ax.set_xlabel('number of cells')\n",
    "ax.invert_yaxis()\n",
    "ax.xaxis.set_label_position('top')       # Move the axis label to the top\n",
    "sns.despine(ax=ax, bottom=True, top=False)\n",
    "            \n",
    "# fig.tight_layout()\n",
    "output = os.path.join(outdir, 'proj_bias_z3.pdf')\n",
    "powerplots.savefig_autodate(fig, output)\n",
    "plt.show()"
   ]
  },
  {
   "cell_type": "code",
   "execution_count": null,
   "id": "841d58df-ac50-44bf-82f3-a4e5e321d95e",
   "metadata": {},
   "outputs": [],
   "source": []
  },
  {
   "cell_type": "markdown",
   "id": "dbfbd1ed-54ba-4511-8162-ad146808e83c",
   "metadata": {},
   "source": [
    "# along XY"
   ]
  },
  {
   "cell_type": "code",
   "execution_count": null,
   "id": "7e2fbb4a-8aae-44cd-866f-928c35bbe3c9",
   "metadata": {
    "tags": []
   },
   "outputs": [],
   "source": [
    "from matplotlib.colors import LinearSegmentedColormap\n",
    "\n",
    "# Define colors (start and end)\n",
    "colors = [\"black\", 'white', \"C1\"]\n",
    "# Create colormap\n",
    "custom_cmap = LinearSegmentedColormap.from_list(\"custom_cmap\", colors)\n",
    "\n",
    "# Define colors (start and end)\n",
    "colors = [\"magenta\", 'white', \"green\"]\n",
    "# Create colormap\n",
    "custom_cmap2 = LinearSegmentedColormap.from_list(\"custom_cmap2\", colors)"
   ]
  },
  {
   "cell_type": "code",
   "execution_count": null,
   "id": "5574fc77-1bed-4ab6-a7cc-fcb1053c8d5c",
   "metadata": {
    "tags": []
   },
   "outputs": [],
   "source": [
    "props = dfs[0]\n",
    "\n",
    "props_lm = props[props['LM']>0]\n",
    "props_rl = props[props['RL']>0]\n",
    "\n",
    "zmax = props['z'].max()\n",
    "zbins = np.arange(   0, zmax+stepsize_z , stepsize_z)\n",
    "\n",
    "xmax = props['x'].max()\n",
    "ymax = props['y'].max()\n",
    "xmin = props['x'].min()\n",
    "ymin = props['y'].min()\n",
    "xbins = np.arange(xmin, xmax+stepsize_xy, stepsize_xy)\n",
    "ybins = np.arange(ymin, ymax+stepsize_xy, stepsize_xy)\n",
    "\n",
    "histxy_lm, _, _ = np.histogram2d(props_lm['x'], props_lm['y'], bins=[xbins, ybins])\n",
    "histxy_rl, _, _ = np.histogram2d(props_rl['x'], props_rl['y'], bins=[xbins, ybins])\n",
    "\n",
    "fig, ax = plt.subplots(1, 1, figsize=(1*5,1*4))\n",
    "sns.heatmap(np.log2((histxy_rl+1)/(histxy_lm+1)).T, # x then y\n",
    "            cmap=custom_cmap2,#'coolwarm_r', \n",
    "            center=0,\n",
    "            vmax=3, vmin=-3,\n",
    "            cbar_kws=dict(shrink=0.5, \n",
    "                          label='log2([#RL]/[#LM])', \n",
    "                          ticks=[-3,0,3],\n",
    "                         ))\n",
    "ax.axis('off')\n",
    "ax.invert_xaxis()\n",
    "ax.grid(False)\n",
    "ax.set_aspect('equal')\n",
    "sns.despine(ax=ax)\n",
    "ax.set_title('projection bias')\n",
    "    \n",
    "output = os.path.join(outdir, 'proj_bias_xy.pdf')\n",
    "powerplots.savefig_autodate(fig, output)\n",
    "plt.show()"
   ]
  },
  {
   "cell_type": "code",
   "execution_count": null,
   "id": "efa3292a-1335-4f36-b9cb-170127325e8b",
   "metadata": {
    "tags": []
   },
   "outputs": [],
   "source": [
    "flippings = ['inv_x', 'inv_y', 'inv_y']\n",
    "\n",
    "\n",
    "fig, axs = plt.subplots(1, 3, figsize=(3*6,1*4))\n",
    "for i, (ax, props) in enumerate(zip(axs, dfs)):\n",
    "    \n",
    "    zmax = props['z'].max()\n",
    "    zbins = np.arange(   0, zmax+stepsize_z , stepsize_z)\n",
    "\n",
    "    xmax = props['x'].max()\n",
    "    ymax = props['y'].max()\n",
    "    xmin = props['x'].min()\n",
    "    ymin = props['y'].min()\n",
    "    xbins = np.arange(xmin, xmax+stepsize_xy, stepsize_xy)\n",
    "    ybins = np.arange(ymin, ymax+stepsize_xy, stepsize_xy)\n",
    "\n",
    "    props_lm = props[props['LM']>0]\n",
    "    props_rl = props[props['RL']>0]\n",
    "    histxy_lm, _, _ = np.histogram2d(props_lm['x'], props_lm['y'], bins=[xbins, ybins])\n",
    "    histxy_rl, _, _ = np.histogram2d(props_rl['x'], props_rl['y'], bins=[xbins, ybins])\n",
    "\n",
    "    l2fc = np.log2((histxy_rl+1)/(histxy_lm+1)).T\n",
    "    sns.heatmap(l2fc, # x then y\n",
    "                ax=ax,\n",
    "                cmap=custom_cmap2,#'coolwarm_r', \n",
    "                center=0,\n",
    "                # vmax=3, vmin=-3,\n",
    "                cbar_kws=dict(shrink=0.5, \n",
    "                              label='log2([#RL]/[#LM])', \n",
    "                              # ticks=[-3,0,3],\n",
    "                             ))\n",
    "    ax.axis('off')\n",
    "    flipping = flippings[i]\n",
    "    if flipping == 'inv_x':\n",
    "        ax.invert_xaxis()\n",
    "    if flipping == 'inv_y':\n",
    "        ax.invert_yaxis()\n",
    "    \n",
    "    \n",
    "    ax.grid(False)\n",
    "    ax.set_aspect('equal')\n",
    "    sns.despine(ax=ax)\n",
    "    ax.set_title('projection bias')\n",
    "    \n",
    "output = os.path.join(outdir, 'proj_bias_xy_v2.pdf')\n",
    "powerplots.savefig_autodate(fig, output)\n",
    "plt.show()"
   ]
  },
  {
   "cell_type": "markdown",
   "id": "492e0da1-905a-4edf-96ba-dfa522ae1f71",
   "metadata": {},
   "source": [
    "# at every x and y, compare z distribution"
   ]
  },
  {
   "cell_type": "code",
   "execution_count": null,
   "id": "020a1424-7a05-4b53-9317-ca9a6100e78c",
   "metadata": {},
   "outputs": [],
   "source": [
    "np.random.seed(0)\n",
    "\n",
    "# xy\n",
    "res_del = []\n",
    "res_del_shuff = []\n",
    "for props in dfs:\n",
    "    dfmean_rl = props[props['RL']>0].groupby(['xbin', 'ybin'])['z'].mean().unstack() # .unstack() #.fillna(0).astype(int) #mean().unstack()\n",
    "    dfmean_lm = props[props['LM']>0].groupby(['xbin', 'ybin'])['z'].mean().unstack() # .unstack() #.fillna(0).astype(int) #mean().unstack()\n",
    "    dfmean_del = dfmean_rl - dfmean_lm\n",
    "    \n",
    "    res_del.append(dfmean_del)\n",
    "\n",
    "    dfmean_del_shuffs = []\n",
    "    n_rep = 1000\n",
    "    for i in range(n_rep): \n",
    "        props_shuff = props.copy()\n",
    "        props_shuff['RL'] = np.random.choice(props['RL'].values, size=len(props), replace=False)\n",
    "        props_shuff['LM'] = np.random.choice(props['LM'].values, size=len(props), replace=False)\n",
    "\n",
    "        dfmean_rl_shuff = props_shuff[props_shuff['RL']>0].groupby(['xbin', 'ybin'])['z'].mean().unstack()\n",
    "        dfmean_lm_shuff = props_shuff[props_shuff['LM']>0].groupby(['xbin', 'ybin'])['z'].mean().unstack()\n",
    "\n",
    "        dfmean_rl_shuff = dfmean_rl_shuff.reindex(dfmean_del.index).reindex(columns=dfmean_del.columns) # use the same dimensinos\n",
    "        dfmean_lm_shuff = dfmean_lm_shuff.reindex(dfmean_del.index).reindex(columns=dfmean_del.columns) # use the same dimensinos\n",
    "\n",
    "        dfmean_del_shuff = dfmean_rl_shuff - dfmean_lm_shuff\n",
    "        dfmean_del_shuffs.append(dfmean_del_shuff.values)\n",
    "\n",
    "    dfmean_del_shuffs = np.array(dfmean_del_shuffs)\n",
    "    dfmean_del_shuffmean = np.nanmean(dfmean_del_shuffs, axis=0) # .shape\n",
    "    pvals = (1+np.sum(np.abs(dfmean_del_shuffs) > np.abs(dfmean_del.values[np.newaxis,:,:]), axis=0))/n_rep\n",
    "    \n",
    "    res_del_shuff.append(dfmean_del_shuffs)"
   ]
  },
  {
   "cell_type": "code",
   "execution_count": null,
   "id": "685b6ffc-4e16-4733-b5ca-5e010544924e",
   "metadata": {
    "tags": []
   },
   "outputs": [],
   "source": [
    "title = 'RL - LM'\n",
    "cmap = custom_cmap\n",
    "center = 0 \n",
    "vmin = -100\n",
    "vmax = +100\n",
    "\n",
    "fig, axs = plt.subplots(1, 3, figsize=(6*3,5))\n",
    "for i, (ax, dfmean_del) in enumerate(zip(axs, res_del)):\n",
    "    sns.heatmap(dfmean_del.T, \n",
    "                cmap=cmap, center=center, \n",
    "                vmin=vmin, vmax=vmax, \n",
    "                cbar_kws=dict(shrink=.5, label='mean depth (um)'), \n",
    "                ax=ax,\n",
    "               )\n",
    "    ax.set_aspect('equal')\n",
    "    ax.grid(False)\n",
    "    ax.axis('off')\n",
    "    \n",
    "    flipping = flippings[i]\n",
    "    if flipping == 'inv_x':\n",
    "        ax.invert_xaxis()\n",
    "    if flipping == 'inv_y':\n",
    "        ax.invert_yaxis()\n",
    "\n",
    "fig.tight_layout()\n",
    "output = os.path.join(outdir, 'dist_diff_heatmap.pdf')\n",
    "powerplots.savefig_autodate(fig, output)\n",
    "plt.show()\n"
   ]
  },
  {
   "cell_type": "code",
   "execution_count": null,
   "id": "fb0bdd7c-b650-4181-a1cc-62e795b5d8c0",
   "metadata": {},
   "outputs": [],
   "source": [
    "del_bins = np.linspace(-150, 150, 50)\n",
    "\n",
    "fig, axs = plt.subplots(1,3,figsize=(6*3,4), sharey=True)\n",
    "for ax, dfmean_del, dfmean_del_shuffs in zip(axs, res_del, res_del_shuff):\n",
    "    \n",
    "    sns.histplot(dfmean_del_shuffs.reshape(-1,), stat='density', \n",
    "                 bins=del_bins, element='step', \n",
    "                 ax=ax, color='gray', label='shuffled projection labels')\n",
    "    sns.histplot(dfmean_del.values.reshape(-1,), stat='density', \n",
    "                 bins=del_bins, element='step',\n",
    "                 ax=ax, color='C1', label='data')\n",
    "\n",
    "    # ax.legend(bbox_to_anchor=(1,1), loc='upper left')\n",
    "    sns.despine(ax=ax)\n",
    "    ax.grid(False)\n",
    "    ax.set_xlabel('mean depth diff (um; RL-LM)')\n",
    "\n",
    "output = os.path.join(outdir, 'dist_shuff_data_v2.pdf')\n",
    "powerplots.savefig_autodate(fig, output)\n",
    "plt.show()"
   ]
  },
  {
   "cell_type": "code",
   "execution_count": null,
   "id": "f5c24108-6c82-4302-9de1-35d974ffa2d4",
   "metadata": {},
   "outputs": [],
   "source": [
    "del_bins = np.linspace(-150, 150, 100)\n",
    "\n",
    "datavals = np.hstack([dfmean_del.values.reshape(-1) for dfmean_del in res_del])\n",
    "shufvals = np.hstack([dfmean_del.reshape(-1) for dfmean_del in res_del_shuff])\n",
    "\n",
    "fig, ax = plt.subplots(1,1,figsize=(6*1,4))\n",
    "\n",
    "sns.histplot(shufvals, stat='density', \n",
    "             bins=del_bins, element='step', \n",
    "             # fill=False,\n",
    "             ax=ax, color='gray', label='shuffled projection labels')\n",
    "sns.histplot(datavals, stat='density', \n",
    "             bins=del_bins, element='step', \n",
    "             # fill=False,\n",
    "             ax=ax, color='C1', label='data')\n",
    "\n",
    "# ax.legend(bbox_to_anchor=(1,1), loc='upper left')\n",
    "sns.despine(ax=ax)\n",
    "ax.grid(False)\n",
    "ax.set_xlabel('mean depth diff (um; RL-LM)')\n",
    "\n",
    "output = os.path.join(outdir, 'dist_shuff_data.pdf')\n",
    "powerplots.savefig_autodate(fig, output)\n",
    "plt.show()"
   ]
  },
  {
   "cell_type": "code",
   "execution_count": null,
   "id": "f790df4f-0382-49e3-bc1f-d8e4a34d47da",
   "metadata": {},
   "outputs": [],
   "source": []
  },
  {
   "cell_type": "code",
   "execution_count": null,
   "id": "1e69db99-247b-4c87-9c16-160252f8e244",
   "metadata": {},
   "outputs": [],
   "source": []
  },
  {
   "cell_type": "code",
   "execution_count": null,
   "id": "a07bf401-a1aa-4b04-83f2-4fde2816a516",
   "metadata": {},
   "outputs": [],
   "source": []
  },
  {
   "cell_type": "code",
   "execution_count": null,
   "id": "27cec637-53dd-4381-896e-be6456583070",
   "metadata": {},
   "outputs": [],
   "source": []
  },
  {
   "cell_type": "code",
   "execution_count": null,
   "id": "626684e9-06e5-4287-90a4-6f5279e4aa80",
   "metadata": {},
   "outputs": [],
   "source": []
  },
  {
   "cell_type": "code",
   "execution_count": null,
   "id": "0e8fdf75-d5af-42ee-82cb-b120aee534bb",
   "metadata": {},
   "outputs": [],
   "source": []
  },
  {
   "cell_type": "code",
   "execution_count": null,
   "id": "873ddc44-e1b2-4803-8d7b-c2ae5d197cb9",
   "metadata": {},
   "outputs": [],
   "source": []
  }
 ],
 "metadata": {
  "kernelspec": {
   "display_name": "napari",
   "language": "python",
   "name": "napari"
  },
  "language_info": {
   "codemirror_mode": {
    "name": "ipython",
    "version": 3
   },
   "file_extension": ".py",
   "mimetype": "text/x-python",
   "name": "python",
   "nbconvert_exporter": "python",
   "pygments_lexer": "ipython3",
   "version": "3.9.16"
  }
 },
 "nbformat": 4,
 "nbformat_minor": 5
}
