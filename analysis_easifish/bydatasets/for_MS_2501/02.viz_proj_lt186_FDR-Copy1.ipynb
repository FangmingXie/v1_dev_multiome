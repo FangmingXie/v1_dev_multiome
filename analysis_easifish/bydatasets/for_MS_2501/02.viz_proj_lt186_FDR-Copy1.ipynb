{
 "cells": [
  {
   "cell_type": "code",
   "execution_count": null,
   "id": "1edf0682-b1e5-4002-8b0b-793a1617fa9a",
   "metadata": {
    "tags": []
   },
   "outputs": [],
   "source": [
    "import os\n",
    "import numpy as np\n",
    "import pandas as pd\n",
    "from skimage import io, measure\n",
    "import tifffile\n",
    "from kneed import KneeLocator\n",
    "\n",
    "import matplotlib.pyplot as plt\n",
    "import seaborn as sns\n",
    "\n",
    "from scipy.interpolate import interp1d\n",
    "from scipy.optimize import root_scalar\n",
    "import itertools"
   ]
  },
  {
   "cell_type": "code",
   "execution_count": null,
   "id": "01ffb55c-eb87-4487-abf2-466900060eb3",
   "metadata": {
    "tags": []
   },
   "outputs": [],
   "source": [
    "import plotly.io as pio\n",
    "pio.renderers.default = 'jupyterlab'\n",
    "import plotly.graph_objs as go"
   ]
  },
  {
   "cell_type": "code",
   "execution_count": null,
   "id": "9589c306-a721-469d-9818-c58e5dd72076",
   "metadata": {
    "tags": []
   },
   "outputs": [],
   "source": [
    "import sys\n",
    "sys.path.insert(0, '/u/home/f/f7xiesnm/project-zipursky/code/easifish-proc/bydatasets/')\n",
    "from metadata_gene_chan import get_proj_metadata\n",
    "\n",
    "meta = get_proj_metadata()"
   ]
  },
  {
   "cell_type": "code",
   "execution_count": null,
   "id": "6761f0ad-8edc-4f6f-ac32-d28a7f1b68f4",
   "metadata": {
    "tags": []
   },
   "outputs": [],
   "source": [
    "import os, sys\n",
    "sys.path.append('../../')\n",
    "\n",
    "from easi_fish import roi_prop, spot, intensity\n",
    "# import warnings\n",
    "# warnings.filterwarnings('ignore')\n",
    "\n",
    "import importlib\n",
    "importlib.reload(spot)\n",
    "importlib.reload(roi_prop)\n",
    "importlib.reload(intensity)"
   ]
  },
  {
   "cell_type": "code",
   "execution_count": null,
   "id": "625474bd-60ed-410f-8f10-f5e00e93549a",
   "metadata": {
    "tags": []
   },
   "outputs": [],
   "source": [
    "def masks_to_labeled_masks(msk, labeled_cells):\n",
    "    \"\"\"\n",
    "    \"\"\"\n",
    "    unq, inv = np.unique(msk.reshape(-1,), return_inverse=True)\n",
    "\n",
    "    for i in unq:\n",
    "        if i not in labeled_cells:\n",
    "            unq[i] = 0\n",
    "\n",
    "    labeled_msk = unq[inv].reshape(msk.shape)\n",
    "    \n",
    "    return labeled_msk\n",
    "\n",
    "def plot_reverse_cumsum(counts, bins=np.arange(0,11,1), ymax=None):\n",
    "    \"\"\"\n",
    "    \"\"\"\n",
    "    fig, ax = plt.subplots(figsize=(8,6))\n",
    "    ax2 = ax.twinx()\n",
    "    ax.set_xlabel('num spots')\n",
    "    ax.set_ylabel('num cells (cumulative)')\n",
    "    ax2.set_ylabel('fraction of cells')\n",
    "    \n",
    "    n = len(counts)\n",
    "    cnts, _ = np.histogram(counts, bins)\n",
    "    rev_cumsum = n-np.cumsum(cnts)\n",
    "        \n",
    "    ax.plot(bins[1:], rev_cumsum, '-o', )\n",
    "    ax2.plot(bins[1:], rev_cumsum/n, '-o', )\n",
    "    \n",
    "    if ymax:\n",
    "        ax.set_ylim(ymin=0, ymax=ymax)\n",
    "        ax2.set_ylim(ymin=0, ymax=ymax/n)\n",
    "        \n",
    "    ax.grid(False)\n",
    "    ax2.grid(False)\n",
    "    \n",
    "    return fig\n",
    "\n",
    "def get_rev_cumsum(counts):\n",
    "    \"\"\"\n",
    "    each cell has a count\n",
    "    \"\"\"\n",
    "    n = len(counts)\n",
    "    cnts, _ = np.histogram(counts, bins)\n",
    "    rev_cumsum = n-np.cumsum(cnts)\n",
    "    \n",
    "    return rev_cumsum\n",
    "\n",
    "def find_threshold(x, efdr, alpha=0.05):\n",
    "    \"\"\"\n",
    "    \"\"\"\n",
    "    # find root\n",
    "    theroot = root_scalar(interp1d(x, efdr-alpha), bracket=[1, np.max(x)])\n",
    "    if theroot.converged:\n",
    "        the_threshold = theroot.root\n",
    "        return the_threshold\n",
    "    \n",
    "    else:\n",
    "        return np.nan\n",
    "\n",
    "def plot_reverse_cumsum_complex(counts_list, label_list=None, color_list=None, bins=np.arange(0,11,1), ymax=None, alpha=0.05):\n",
    "    \"\"\"\n",
    "    \"\"\"\n",
    "    _x = bins[1:]\n",
    "    \n",
    "    fig, axs = plt.subplots(1,2,figsize=(2*8,6))\n",
    "    ax1 = axs[0]\n",
    "    ax2 = ax1.twinx()\n",
    "    ax1.set_xlabel('num spots')\n",
    "    ax1.set_ylabel('num cells (cumulative)')\n",
    "    ax2.set_ylabel('fraction of cells')\n",
    "    \n",
    "    if label_list is None:\n",
    "        label_list = np.arange(len(counts_list))\n",
    "    if color_list is None:\n",
    "        color_list = sns.color_palette(n_colors=3)\n",
    "        \n",
    "    n = len(counts_list[0])\n",
    "    for counts in counts_list:\n",
    "        assert len(counts) == n # assumes len(counts) is the same\n",
    "    cumsum_list = [get_rev_cumsum(counts) for counts in counts_list]\n",
    "        \n",
    "    for revcnts, label, color in zip(cumsum_list, label_list, color_list):\n",
    "        _y1 = revcnts\n",
    "        _y2 = revcnts/n\n",
    "        ax1.plot(_x, _y1, '-o', label=label, color=color, markersize=2)\n",
    "        ax2.plot(_x, _y2, '-o', label=label, color=color, markersize=2)\n",
    "    \n",
    "    if ymax:\n",
    "        ax1.set_ylim(ymin=0, ymax=ymax)\n",
    "        ax2.set_ylim(ymin=0, ymax=ymax/n)\n",
    "        \n",
    "    ax1.grid(False)\n",
    "    ax2.grid(False)\n",
    "    \n",
    "    ax = axs[1]\n",
    "    ax.set_yscale('log')\n",
    "    ax.set_yticks([1,0.1,0.05,0.01])\n",
    "    ax.set_yticklabels([1,0.1,0.05, 0.01])\n",
    "    ax.set_ylabel('eFDR (shuffled/data)')\n",
    "    \n",
    "    label = label_list[1]\n",
    "    color = color_list[1]\n",
    "    efdr  = cumsum_list[1]/cumsum_list[0]\n",
    "    # find root\n",
    "    the_threshold = find_threshold(_x, efdr, alpha=alpha)\n",
    "    \n",
    "    ax.plot(_x, efdr, '-o', label=label, color='black', markersize=2)\n",
    "    ax.axhline(alpha, linestyle='--', color='lightgray', zorder=0)\n",
    "    ax.axvline(the_threshold, linestyle='--', color='lightgray', zorder=0)\n",
    "        \n",
    "    fig.subplots_adjust(wspace=0.4)\n",
    "    \n",
    "    return fig, axs, the_threshold\n"
   ]
  },
  {
   "cell_type": "code",
   "execution_count": null,
   "id": "ce587e72-c5f3-4f30-b291-8f88fa19d1d8",
   "metadata": {
    "tags": []
   },
   "outputs": [],
   "source": [
    "ddir0 = \"/u/home/f/f7xiesnm/project-zipursky/easifish/lt186\"\n",
    "ddir1 = \"/u/home/f/f7xiesnm/project-zipursky/easifish/results/viz_all_projections_jan29\"\n",
    "PLUS_ONE = False # False if table indices start from 1 ; True if from 0\n",
    "\n",
    "# s3 resolution - to downsamp and rounding\n",
    "f_msk  = ddir0 + '/outputs/r1v3/segmentation/r1v3-c3.tif'\n",
    "f_tbl1 = ddir0 + '/proc/r1v3/spotcount.csv'\n",
    "f_tbl2 = ddir0 + '/proc/r1v3/roi.csv'\n",
    "f_img0 = ddir1 + '/lt186_r1_autos1_flatfused_c0_s4.tiff'\n",
    "\n",
    "# spot dir for every gene\n",
    "fx_spots = {\n",
    "    'r1v3_c0': ddir0 + f'/outputs/r1v3/spots/spots_c0.txt',\n",
    "    'r1v3_c2': ddir0 + f'/outputs/r1v3/spots/spots_c2.txt',\n",
    "}\n",
    "intn_threshs = {\n",
    "    'r1v3_c0': 60, \n",
    "    'r1v3_c2': 60, \n",
    "}\n",
    "\n",
    "# meta\n",
    "metakey = 'lt186'\n",
    "channels = meta[metakey]['channels']\n",
    "proj_targets = meta[metakey]['proj_targets']\n",
    "colors = meta[metakey]['colors']\n",
    "\n",
    "lb_res = [1.84,1.84,1.68]\n",
    "ex = 2\n",
    "\n",
    "\n",
    "# S4 image shape\n",
    "img_shape = io.imread(f_img0).shape\n",
    "print(img_shape)\n",
    "\n",
    "# S3 mask\n",
    "lb = io.imread(f_msk)\n",
    "lb = np.array(lb)\n",
    "lb_id = np.unique(lb[lb!=0]) # exclude 0\n",
    "lb_id = np.hstack([[0], lb_id]) # include 0 - noncell\n",
    "\n",
    "# downsample and trim to the same shape\n",
    "msk = lb[::2, ::2, ::2]\n",
    "msk = msk[:-1,:,:-1]\n",
    "print(lb.shape)\n",
    "print(msk.shape)\n",
    "assert np.all(msk.shape == img_shape)\n",
    "\n",
    "# table - check mask numbers == number of cells\n",
    "props  = pd.read_csv(f_tbl1, index_col=0)\n",
    "props2 = pd.read_csv(f_tbl2, index_col=0)\n",
    "props  = props.join(props2, how='left')\n",
    "assert np.all(np.unique(msk[msk!=0]) == props.index.values)\n",
    "\n",
    "# filter out cells that are too large or too small\n",
    "cond_filter = np.logical_and(props['area']<5000, props['area']>500)\n",
    "print(cond_filter.sum()/len(props))\n",
    "props = props[cond_filter]\n",
    "lb_id_selected = props.index.values\n",
    "\n",
    "# normalization -  to mean area\n",
    "mean_area = np.mean(props['area'])\n",
    "norm_factors = props['area'].values/mean_area\n",
    "norm_factors"
   ]
  },
  {
   "cell_type": "code",
   "execution_count": null,
   "id": "4475bf78-3e59-45a6-937a-2505d69cf78b",
   "metadata": {},
   "outputs": [],
   "source": [
    "sns.histplot(props['area'].values)"
   ]
  },
  {
   "cell_type": "code",
   "execution_count": null,
   "id": "db200933-31d8-4412-adfe-971d2bf89103",
   "metadata": {
    "tags": []
   },
   "outputs": [],
   "source": [
    "%%time\n",
    "# shuffle cell masks within shared cell space - homogenize cells\n",
    "i, j, k = lb.nonzero()\n",
    "v = lb[i,j,k]\n",
    "np.random.shuffle(v)\n",
    "lb_shuff2 = np.zeros(lb.shape)\n",
    "lb_shuff2[i,j,k] = v"
   ]
  },
  {
   "cell_type": "code",
   "execution_count": null,
   "id": "8abbfc7c-4232-4a18-a486-2d015536c1da",
   "metadata": {
    "tags": []
   },
   "outputs": [],
   "source": [
    "ch = channels[0]\n",
    "f_spots = fx_spots[ch]\n",
    "intn_th = intn_threshs[ch]\n",
    "print(ch, f_spots) #, f_intns)\n",
    "\n",
    "# spots\n",
    "spots_rc = np.loadtxt(f_spots, delimiter=',')\n",
    "print(len(spots_rc))\n",
    "\n",
    "# filter\n",
    "intns = spots_rc[:,3]\n",
    "spots_rc = spots_rc[np.logical_and(intns > intn_th, \n",
    "                                  intns < np.percentile(intns, 99)\n",
    "                                 )]\n",
    "print(len(spots_rc))"
   ]
  },
  {
   "cell_type": "code",
   "execution_count": null,
   "id": "a1625c72-7987-4b7b-86d8-67add0c7af41",
   "metadata": {
    "tags": []
   },
   "outputs": [],
   "source": [
    "spots = np.round(spots_rc[:,:3]/lb_res).astype(int)-1\n",
    "xlim, ylim, zlim =lb.shape\n",
    "# remove outside range\n",
    "spots = spots[~np.any(spots<0, axis=1)]\n",
    "spots = spots[~(spots[:,0]>=xlim)]\n",
    "spots = spots[~(spots[:,1]>=ylim)]\n",
    "spots = spots[~(spots[:,2]>=zlim)]\n",
    "print(len(spots))\n",
    "\n",
    "spots_lb = lb[spots[:,2], spots[:,1], spots[:,0]] # z, y, x\n",
    "spots_lb_outside = (spots_lb == 0)\n",
    "print(f\"fraction of spots outside of cells: {spots_lb_outside.sum()/len(spots):.2f}\")\n",
    "print(f\"fraction of space outside of cells: {np.sum(lb==0)/lb.size:.2f}\")"
   ]
  },
  {
   "cell_type": "code",
   "execution_count": null,
   "id": "1f6c4008-c9b3-461b-92b0-ce12aaeef9d0",
   "metadata": {
    "tags": []
   },
   "outputs": [],
   "source": [
    "fig, axs = plt.subplots(1,3,figsize=(3*6,1*5))\n",
    "for i, (j, k) in enumerate(itertools.combinations([0,1,2], 2)):\n",
    "    ax = axs[i]\n",
    "    ax.scatter(spots_rc[:,j]/ex, spots_rc[:,k]/ex, s=1, edgecolor='none')\n",
    "    ax.set_aspect('equal')\n",
    "plt.show()\n",
    "    \n",
    "fig, ax = plt.subplots(figsize=(5,4))\n",
    "sns.histplot(spots_rc[:,3], ax=ax) \n",
    "plt.show()"
   ]
  },
  {
   "cell_type": "code",
   "execution_count": null,
   "id": "9a2550e8-a793-45f2-a5e6-1536a4da085e",
   "metadata": {
    "tags": []
   },
   "outputs": [],
   "source": [
    "# count num spots within each cell\n",
    "\n",
    "res        = spot.spot_counts_worker(lb, spots_rc, lb_res,\n",
    "                              lb_id=lb_id, \n",
    "                              remove_noncell=True, \n",
    "                              selected_roi_list=lb_id_selected,\n",
    "                              )\n",
    "res_shuff2 = spot.spot_counts_worker(lb_shuff2, spots_rc, lb_res,\n",
    "                              lb_id=lb_id, \n",
    "                              remove_noncell=True, \n",
    "                              selected_roi_list=lb_id_selected,\n",
    "                              )"
   ]
  },
  {
   "cell_type": "code",
   "execution_count": null,
   "id": "4edb3f9a-c491-43b3-bc8e-4ee8288c1d54",
   "metadata": {
    "tags": []
   },
   "outputs": [],
   "source": [
    "counts = res.values / norm_factors\n",
    "counts_shuff2 = res_shuff2.values / norm_factors\n",
    "bins = np.linspace(0, 20, 100)\n",
    "# bins = np.arange(40)\n",
    "\n",
    "fig, axs, the_threshold = plot_reverse_cumsum_complex([counts, counts_shuff2], \n",
    "                                label_list=['data', 'shuffled within cell-occupied space'],\n",
    "                                color_list=['black', 'gray'],\n",
    "                                ymax=10000,\n",
    "                                bins=bins,\n",
    "                               )\n",
    "axs[0].legend()\n",
    "plt.show()"
   ]
  },
  {
   "cell_type": "code",
   "execution_count": null,
   "id": "a2c31960-ccf5-4d14-a87a-f903784286ab",
   "metadata": {
    "tags": []
   },
   "outputs": [],
   "source": [
    "th = the_threshold\n",
    "cond = props[ch]/norm_factors>=th\n",
    "\n",
    "fig, axs = plt.subplots(1, 3, figsize=(3*8,1*6))\n",
    "fig.suptitle(f\">= {th:.2f} spots (n={cond.sum():,})\")\n",
    "\n",
    "for i, (a, b) in enumerate(itertools.combinations(['x','y','z'],2)):\n",
    "    ax = axs[i]\n",
    "    g = ax.scatter(props[a], props[b], c='lightgray', s=1, edgecolor='none')\n",
    "    g = ax.scatter(props[a][cond], props[b][cond], c='red', s=3, edgecolor='none')\n",
    "    ax.set_aspect('equal')\n",
    "    ax.set_xlabel(a)\n",
    "    ax.set_ylabel(b)\n",
    "plt.show()\n"
   ]
  },
  {
   "cell_type": "markdown",
   "id": "0799c2a6-0d08-456b-ad37-6680656a864a",
   "metadata": {},
   "source": [
    "# take and visualize results"
   ]
  },
  {
   "cell_type": "code",
   "execution_count": null,
   "id": "57c0a093-6e39-461c-bb64-2a074d348df4",
   "metadata": {
    "tags": []
   },
   "outputs": [],
   "source": [
    "thresholds = [7.5,7]\n",
    "clrs = ['blue', 'red']\n",
    "\n",
    "fig, axs = plt.subplots(3, 1, figsize=(1*8,3*6))\n",
    "ax = axs[0]\n",
    "g = ax.scatter(props['x'], props['y'], c='lightgray', s=1, edgecolor='none')\n",
    "ax.grid(False)\n",
    "\n",
    "ax = axs[1]\n",
    "g = ax.scatter(props['x'], props['z'], c='lightgray', s=1, edgecolor='none')\n",
    "ax.invert_yaxis()\n",
    "ax.grid(False)\n",
    "\n",
    "ax = axs[2]\n",
    "g = ax.scatter(props['y'], props['z'], c='lightgray', s=1, edgecolor='none')\n",
    "ax.invert_yaxis()\n",
    "ax.grid(False)\n",
    "\n",
    "# fig.suptitle(f\">= {i} spots (n={cond.sum()})\")\n",
    "for ch, i, cl in zip(channels, thresholds, clrs):\n",
    "    cond = props[ch]/norm_factors>=i\n",
    "    ax = axs[0]\n",
    "    g = ax.scatter(props['x'][cond], props['y'][cond], c=cl, s=5, edgecolor='none')\n",
    "    # fig.colorbar(g, shrink=0.3)\n",
    "    ax.set_aspect('equal')\n",
    "\n",
    "    ax = axs[1]\n",
    "    g = ax.scatter(props['x'][cond], props['z'][cond], c=cl, s=5, edgecolor='none')\n",
    "    # fig.colorbar(g, shrink=0.3)\n",
    "    ax.set_aspect('equal')\n",
    "\n",
    "    ax = axs[2]\n",
    "    g = ax.scatter(props['y'][cond], props['z'][cond], c=cl, s=5, edgecolor='none')\n",
    "    # fig.colorbar(g, shrink=0.3)\n",
    "    ax.set_aspect('equal')\n",
    "plt.show()"
   ]
  },
  {
   "cell_type": "code",
   "execution_count": null,
   "id": "e819a6d6-85b3-4565-b991-13f0890c40dd",
   "metadata": {},
   "outputs": [],
   "source": []
  },
  {
   "cell_type": "code",
   "execution_count": null,
   "id": "0fe01f1c-067f-4a1f-866d-4bf2f9837267",
   "metadata": {},
   "outputs": [],
   "source": []
  },
  {
   "cell_type": "code",
   "execution_count": null,
   "id": "203eef7e-197b-4491-b7f8-af9183a59e9f",
   "metadata": {},
   "outputs": [],
   "source": [
    "# interp1d and find root"
   ]
  },
  {
   "cell_type": "code",
   "execution_count": null,
   "id": "39ccf679-6057-4629-9b3f-cf0940f64f49",
   "metadata": {},
   "outputs": [],
   "source": []
  },
  {
   "cell_type": "code",
   "execution_count": null,
   "id": "82eb4c1e-b181-424e-b77b-73105676b88f",
   "metadata": {},
   "outputs": [],
   "source": []
  },
  {
   "cell_type": "markdown",
   "id": "adf376af-754f-4b21-a430-0ab0a4236db0",
   "metadata": {},
   "source": [
    "# visualize the masks"
   ]
  },
  {
   "cell_type": "code",
   "execution_count": null,
   "id": "d8a34659-e6af-4569-9da1-3523ea9f6aeb",
   "metadata": {
    "tags": []
   },
   "outputs": [],
   "source": [
    "# keep the masks with high intensity\n",
    "\n",
    "for ch, th in zip(channels, thresholds):\n",
    "\n",
    "    if PLUS_ONE:\n",
    "        labeled_cells = 1+props[props[ch]>th].index.values #, props['area']<max_cellsize)].index.values\n",
    "    else:\n",
    "        labeled_cells = props[props[ch]>th].index.values #, props['area']<max_cellsize)].index.values\n",
    "        \n",
    "    labeled_masks = masks_to_labeled_masks(msk, labeled_cells)\n",
    "    print(np.unique(labeled_masks).shape)\n",
    "\n",
    "    # # save as tiff\n",
    "    output = f_img0.replace('_c0_', f'_{ch}_').replace('.tiff', '_labeled_masks_countbased.tiff') \n",
    "    print(output)\n",
    "    tifffile.imwrite(output, labeled_masks)\n",
    "    \n"
   ]
  },
  {
   "cell_type": "code",
   "execution_count": null,
   "id": "dd34fee6-de86-43a5-857a-a9e04dc49ba5",
   "metadata": {
    "tags": []
   },
   "outputs": [],
   "source": [
    "# # download and viz\n",
    "\n",
    "# rsync -av f7xiesnm@dtn.hoffman2.idre.ucla.edu:/u/home/f/f7xiesnm/project-zipursky/v1-bb/ms_reanalysis/240910 ~/Downloads/"
   ]
  },
  {
   "cell_type": "markdown",
   "id": "e722a62b-368e-4a6a-a762-018738fa8244",
   "metadata": {},
   "source": [
    "# Visualize the dots "
   ]
  },
  {
   "cell_type": "code",
   "execution_count": null,
   "id": "c4e3defe-6131-43d5-98c6-9c5e9b7c456c",
   "metadata": {},
   "outputs": [],
   "source": [
    "# plotly 3D\n",
    "\n",
    "traces = []\n",
    "\n",
    "# allprops = props # .index.values # props['area']<max_cellsize)].index.values\n",
    "allx = props['x'].values\n",
    "ally = props['y'].values\n",
    "allz = props['z'].values\n",
    "\n",
    "trace = go.Scatter3d(x=allx, y=ally, z=allz, mode='markers',\n",
    "                     marker=dict(size=2, color='lightgray', opacity=0.5))\n",
    "traces.append(trace)\n",
    "\n",
    "for i, (ch, th) in enumerate(zip(channels, thresholds)):\n",
    "    labeled_props = props[props[ch]>th] # .index.values # props['area']<max_cellsize)].index.values\n",
    "    x = labeled_props['x'].values\n",
    "    y = labeled_props['y'].values\n",
    "    z = labeled_props['z'].values\n",
    "    color = colors[i]\n",
    "    \n",
    "    trace = go.Scatter3d(x=x, y=y, z=z, mode='markers',\n",
    "                         marker=dict(size=3, color=color, opacity=0.5))\n",
    "    traces.append(trace)\n",
    "    \n",
    "layout = go.Layout(title='',\n",
    "                   scene=dict(\n",
    "                       xaxis=dict(showgrid=False, backgroundcolor='rgba(0,0,0,0)'),\n",
    "                       yaxis=dict(showgrid=False, backgroundcolor='rgba(0,0,0,0)'),\n",
    "                       zaxis=dict(showgrid=False, backgroundcolor='rgba(0,0,0,0)'),\n",
    "                       xaxis_title='x', yaxis_title='y', zaxis_title='z',\n",
    "                   ), \n",
    "                   scene_dragmode='orbit',\n",
    "                  )\n",
    "\n",
    "fig = go.Figure(data=traces, layout=layout)\n",
    "fig.write_html(\"figure.html\")\n",
    "fig.show()"
   ]
  },
  {
   "cell_type": "markdown",
   "id": "e6af3844-dc26-42b7-b24a-7d233c639e81",
   "metadata": {},
   "source": [
    "# quants and stats"
   ]
  },
  {
   "cell_type": "code",
   "execution_count": null,
   "id": "8eb6d4d1-28c7-4444-88a5-68cc8d05b72f",
   "metadata": {
    "tags": []
   },
   "outputs": [],
   "source": [
    "# bin spatial\n",
    "stepsize_xy = 40\n",
    "stepsize_z  = 20\n",
    "\n",
    "xmax = props['x'].max()\n",
    "ymax = props['y'].max()\n",
    "zmax = props['z'].max()\n",
    "\n",
    "xbins = np.arange(0, xmax+stepsize_xy, stepsize_xy)\n",
    "ybins = np.arange(0, ymax+stepsize_xy, stepsize_xy)\n",
    "zbins = np.arange(0, zmax+stepsize_z , stepsize_z)\n",
    "\n",
    "# bin intensity (for binary label) \n",
    "for i, (ch, proj_target) in enumerate(zip(channels, proj_targets)): \n",
    "    props[proj_target] = (props[ch] > thresholds[i]).astype(int)"
   ]
  },
  {
   "cell_type": "markdown",
   "id": "efac4bd6-2762-4c1a-a1a1-906a1a983d55",
   "metadata": {},
   "source": [
    "# along Z"
   ]
  },
  {
   "cell_type": "code",
   "execution_count": null,
   "id": "8e7703f5-4065-426f-b101-40d5081d59cd",
   "metadata": {
    "tags": []
   },
   "outputs": [],
   "source": [
    "fig, axs = plt.subplots(1, 2, figsize=(2*5,1*4))\n",
    "ax = axs[0]\n",
    "sns.histplot(data=props['z'], bins=zbins, color='lightgray', \n",
    "             element='step', fill=False,\n",
    "             label='cytoDAPI',\n",
    "             ax=ax,\n",
    "            )\n",
    "sns.histplot(data=props.loc[np.sum(props[proj_targets], axis=1)>0, 'z'], bins=zbins, color='black',\n",
    "             element='step', fill=False,\n",
    "             label='projection labeled',\n",
    "             ax=ax,\n",
    "            )\n",
    "ax.legend()\n",
    "sns.despine(ax=ax)\n",
    "\n",
    "ax = axs[1]\n",
    "for i, target in enumerate(proj_targets):\n",
    "    sns.histplot(data=props.loc[props[target]>0, 'z'], bins=zbins, color=colors[i], \n",
    "                 element='step', fill=False,\n",
    "                 label=target,\n",
    "                 ax=ax,\n",
    "                )\n",
    "ax.legend()\n",
    "sns.despine(ax=ax)\n",
    "plt.show()\n"
   ]
  },
  {
   "cell_type": "markdown",
   "id": "dbfbd1ed-54ba-4511-8162-ad146808e83c",
   "metadata": {},
   "source": [
    "# along XY"
   ]
  },
  {
   "cell_type": "code",
   "execution_count": null,
   "id": "ae94964d-e1fc-4ec1-be98-e5b3fb5a7b64",
   "metadata": {
    "tags": []
   },
   "outputs": [],
   "source": [
    "fig, axs = plt.subplots(1, 2, figsize=(2*5,1*4))\n",
    "ax = axs[0]\n",
    "label = 'cytoDAPI labeled'\n",
    "sns.histplot(data=props, \n",
    "             x='x', y='y', bins=[xbins, ybins], \n",
    "             element='step', fill=False,\n",
    "             cmap='gray_r',\n",
    "             cbar=True, cbar_kws={'shrink': 0.5},\n",
    "             ax=ax,\n",
    "            )\n",
    "ax.set_aspect('equal')\n",
    "sns.despine(ax=ax)\n",
    "ax.set_title(label)\n",
    "\n",
    "ax = axs[1]\n",
    "label = 'projection labeled'\n",
    "sns.histplot(data=props.loc[np.sum(props[proj_targets], axis=1)>0], \n",
    "             x='x', y='y', bins=[xbins, ybins], \n",
    "             element='step', fill=False,\n",
    "             cmap='gray_r',\n",
    "             cbar=True, cbar_kws={'shrink': 0.5},\n",
    "             ax=ax,\n",
    "            )\n",
    "ax.set_aspect('equal')\n",
    "sns.despine(ax=ax)\n",
    "ax.set_title(label)\n",
    "plt.show()\n",
    "\n",
    "fig, axs = plt.subplots(1, 2, figsize=(2*5,1*4))\n",
    "for i, target in enumerate(proj_targets):\n",
    "    ax = axs[i]\n",
    "    color = colors[i]\n",
    "    sns.histplot(data=props.loc[props[target]>0], \n",
    "                 x='x', y='y', bins=[xbins, ybins], \n",
    "                 element='step', fill=False,\n",
    "                 cmap=f'{color[0].upper()}{color[1:]}s', \n",
    "                 cbar=True, cbar_kws={'shrink': 0.5},\n",
    "                 ax=ax,\n",
    "                )\n",
    "    ax.set_aspect('equal')\n",
    "    sns.despine(ax=ax)\n",
    "    ax.set_title(target)\n",
    "plt.show()"
   ]
  },
  {
   "cell_type": "code",
   "execution_count": null,
   "id": "2a872823-500d-4260-bfce-c4e62e7f3ef3",
   "metadata": {},
   "outputs": [],
   "source": []
  },
  {
   "cell_type": "code",
   "execution_count": null,
   "id": "0e9f528e-6380-43e8-b307-626826496899",
   "metadata": {},
   "outputs": [],
   "source": []
  }
 ],
 "metadata": {
  "kernelspec": {
   "display_name": "napari",
   "language": "python",
   "name": "napari"
  },
  "language_info": {
   "codemirror_mode": {
    "name": "ipython",
    "version": 3
   },
   "file_extension": ".py",
   "mimetype": "text/x-python",
   "name": "python",
   "nbconvert_exporter": "python",
   "pygments_lexer": "ipython3",
   "version": "3.9.16"
  }
 },
 "nbformat": 4,
 "nbformat_minor": 5
}
