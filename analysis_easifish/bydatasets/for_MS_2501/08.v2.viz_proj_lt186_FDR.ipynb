{
 "cells": [
  {
   "cell_type": "code",
   "execution_count": null,
   "id": "1edf0682-b1e5-4002-8b0b-793a1617fa9a",
   "metadata": {
    "tags": []
   },
   "outputs": [],
   "source": [
    "import os\n",
    "import numpy as np\n",
    "import pandas as pd\n",
    "from skimage import io, measure\n",
    "import tifffile\n",
    "from kneed import KneeLocator\n",
    "from itertools import combinations\n",
    "\n",
    "import matplotlib.pyplot as plt\n",
    "import seaborn as sns"
   ]
  },
  {
   "cell_type": "code",
   "execution_count": null,
   "id": "01ffb55c-eb87-4487-abf2-466900060eb3",
   "metadata": {
    "tags": []
   },
   "outputs": [],
   "source": [
    "import plotly.io as pio\n",
    "pio.renderers.default = 'jupyterlab'\n",
    "import plotly.graph_objs as go"
   ]
  },
  {
   "cell_type": "code",
   "execution_count": null,
   "id": "9589c306-a721-469d-9818-c58e5dd72076",
   "metadata": {
    "tags": []
   },
   "outputs": [],
   "source": [
    "import sys\n",
    "import importlib\n",
    "\n",
    "sys.path.insert(0, '/u/home/f/f7xiesnm/project-zipursky/code/easifish-proc/bydatasets/')\n",
    "sys.path.append('../../')\n",
    "\n",
    "from scroutines import powerplots\n",
    "\n",
    "import metadata_gene_chan\n",
    "importlib.reload(metadata_gene_chan)\n",
    "from metadata_gene_chan import get_proj_metadata\n",
    "\n",
    "meta = get_proj_metadata()\n",
    "\n",
    "from easi_fish import roi_prop, spot, intensity\n",
    "# importlib.reload(spot)\n",
    "# importlib.reload(roi_prop)\n",
    "# importlib.reload(intensity)\n",
    "\n",
    "import shared_functions\n",
    "importlib.reload(shared_functions)\n",
    "\n",
    "from shared_functions import spot_to_voxel_coords, filter_raw_spots, spots_incells_metrics, scramble_cell_masks, masks_to_labeled_masks\n",
    "from shared_functions import plot_frac, plot_reverse_cumsum, plot_reverse_cumsum_complex"
   ]
  },
  {
   "cell_type": "code",
   "execution_count": null,
   "id": "79a326c6-68e9-44bf-8d40-17c7a61a41c2",
   "metadata": {
    "tags": []
   },
   "outputs": [],
   "source": [
    "outdir = \"/u/home/f/f7xiesnm/project-zipursky/easifish/results/ms_multiome/lt186\"\n",
    "!mkdir -p $outdir"
   ]
  },
  {
   "cell_type": "code",
   "execution_count": null,
   "id": "ce587e72-c5f3-4f30-b291-8f88fa19d1d8",
   "metadata": {
    "tags": []
   },
   "outputs": [],
   "source": [
    "ddir0 = \"/u/home/f/f7xiesnm/project-zipursky/easifish/lt186\"\n",
    "ddir1 = \"/u/home/f/f7xiesnm/project-zipursky/easifish/results/viz_all_projections_jan29\"\n",
    "\n",
    "PLUS_ONE = False # False if table indices start from 1 ; True if from 0\n",
    "\n",
    "# s3 resolution - to downsamp and rounding\n",
    "f_msk  = ddir0 + '/outputs/r1v3/segmentation/r1v3-c3.tif'\n",
    "f_tbl  = ddir0 + '/proc/r1v3/roi.csv'\n",
    "f_img0 = ddir1 + '/lt186_r1_autos1_flatfused_c0_s4.tiff' # use c0\n",
    "\n",
    "# spot dir for every gene\n",
    "fx_spots = {\n",
    "    'r1v3_c0': ddir0 + f'/outputs/r1v3/spots/spots_c0.txt',\n",
    "    'r1v3_c2': ddir0 + f'/outputs/r1v3/spots/spots_c2.txt',\n",
    "}\n",
    "# intn thresholds\n",
    "intn_threshs = {\n",
    "    'r1v3_c0': 70, \n",
    "    'r1v3_c2': 60, \n",
    "}\n",
    "\n",
    "ex = 2\n",
    "lb_res = [0.23*8, 0.23*8, 0.42*4] # s3 resolution\n",
    "\n",
    "# meta\n",
    "metakey = 'lt186'\n",
    "channels     = meta[metakey]['channels']\n",
    "proj_targets = meta[metakey]['proj_targets']\n",
    "colors       = meta[metakey]['colors']\n",
    "polarities   = meta[metakey]['axis_polarity']\n",
    "\n",
    "np.random.seed(0)"
   ]
  },
  {
   "cell_type": "code",
   "execution_count": null,
   "id": "10f37e58-133d-4859-9bb9-0d56ed8d1aa8",
   "metadata": {},
   "outputs": [],
   "source": [
    "# S4 image shape\n",
    "img_shape = io.imread(f_img0).shape\n",
    "print(img_shape)\n",
    "\n",
    "# S3 mask\n",
    "lb = io.imread(f_msk)\n",
    "lb = np.array(lb)\n",
    "\n",
    "# some set up\n",
    "lb_id = np.unique(lb[lb!=0]) # exclude 0\n",
    "lb_id = np.hstack([[0], lb_id]) # include 0 - noncell\n",
    "\n",
    "# downsample and trim to the same shape\n",
    "mx, my, mz = lb.shape\n",
    "ix, iy, iz = img_shape\n",
    "rx, ry, rz = mx-ix*2, my-iy*2, mz-iz*2\n",
    "msk = lb[0:mx-rx:2, \n",
    "         0:my-ry:2, \n",
    "         0:mz-rz:2,]\n",
    "print(lb.shape)\n",
    "print(msk.shape)\n",
    "assert np.all(msk.shape == img_shape)\n",
    "\n",
    "# table - check mask numbers == number of cells\n",
    "# props  = pd.read_csv(f_tbl1, index_col=0)\n",
    "# props2 = pd.read_csv(f_tbl2, index_col=0)\n",
    "# props  = props.join(props2, how='left')\n",
    "props  = pd.read_csv(f_tbl, index_col=0)\n",
    "assert np.all(np.unique(msk[msk!=0]) == props.index.values)\n",
    "\n",
    "# filter out cells that are too large or too small\n",
    "cond_filter = np.logical_and(props['area']<4000, props['area']>1000)\n",
    "print(cond_filter.sum()/len(props))\n",
    "props = props[cond_filter]\n",
    "\n",
    "# lb_id_selected\n",
    "lb_id_selected = props.index.values\n",
    "\n",
    "# normalization -  to mean area\n",
    "mean_area = np.mean(props['area'])\n",
    "norm_factor = props['area']/mean_area\n"
   ]
  },
  {
   "cell_type": "code",
   "execution_count": null,
   "id": "4475bf78-3e59-45a6-937a-2505d69cf78b",
   "metadata": {},
   "outputs": [],
   "source": [
    "sns.histplot(props['area'].values)"
   ]
  },
  {
   "cell_type": "markdown",
   "id": "87c88403-c4a3-4a99-b4f3-edeab7e46f0f",
   "metadata": {},
   "source": [
    "# check - c0\n",
    "\n",
    "physical (x ex) -> image coords <- voxel coords (x voxel size)"
   ]
  },
  {
   "cell_type": "code",
   "execution_count": null,
   "id": "5d68fbc4-c180-41c4-a9c4-bf51821656f3",
   "metadata": {
    "tags": []
   },
   "outputs": [],
   "source": [
    "# shuffled masks\n",
    "lb_shuff = scramble_cell_masks(lb)"
   ]
  },
  {
   "cell_type": "code",
   "execution_count": null,
   "id": "8abbfc7c-4232-4a18-a486-2d015536c1da",
   "metadata": {
    "tags": []
   },
   "outputs": [],
   "source": [
    "\n",
    "alpha = 0.05\n",
    "thresholds = []\n",
    "bins = np.linspace(0, 30, 50)\n",
    "x0x1s = [(3, 20), (3,15)] \n",
    "\n",
    "from scipy.interpolate import interp1d\n",
    "from scipy.optimize import fsolve, root_scalar\n",
    "    \n",
    "# channel by channel\n",
    "for ch, x0x1, proj_target in zip(channels, x0x1s, proj_targets):\n",
    "    f_spots = fx_spots[ch]\n",
    "    intn_th = intn_threshs[ch]\n",
    "    print(ch, f_spots) #, f_intns)\n",
    "    x0, x1 = x0x1\n",
    "\n",
    "    # spots\n",
    "    spots_rc = np.loadtxt(f_spots, delimiter=',')\n",
    "    spots_rc = filter_raw_spots(spots_rc, intn_th, lb_res, lb)\n",
    "    \n",
    "    spots_incells_metrics(spots_rc, lb, lb_res)\n",
    "\n",
    "    # plot filtered spots\n",
    "    fig, axs = plt.subplots(1,3,figsize=(3*8,1*6))\n",
    "    indices = [0,1,2]\n",
    "    indices_label = ['x', 'y', 'z']\n",
    "    for idx, (i, j) in enumerate(combinations(indices, 2)):\n",
    "        print(idx, i, j)\n",
    "        ax = axs[idx]\n",
    "        pi = polarities[i]\n",
    "        pj = polarities[j]\n",
    "        if pi == -1:\n",
    "            ax.invert_xaxis()\n",
    "        if pj == -1:\n",
    "            ax.invert_yaxis()\n",
    "        \n",
    "        ax.scatter(spots_rc[:,i]/ex, spots_rc[:,j]/ex, s=1, edgecolor='none', color='gray')\n",
    "        ax.set_xlabel(indices_label[i])\n",
    "        ax.set_ylabel(indices_label[j])\n",
    "        ax.set_aspect('equal')\n",
    "        \n",
    "    # count spots\n",
    "    counts      = spot.spot_counts_worker(lb, spots_rc, lb_res,\n",
    "                                  lb_id=lb_id, \n",
    "                                  remove_noncell=True, \n",
    "                                  selected_roi_list=lb_id_selected,\n",
    "                                  )\n",
    "    counts_shuff = spot.spot_counts_worker(lb_shuff, spots_rc, lb_res,\n",
    "                                  lb_id=lb_id, \n",
    "                                  remove_noncell=True, \n",
    "                                  selected_roi_list=lb_id_selected,\n",
    "                                  )\n",
    "    norm_counts        = counts.values       /norm_factor.values\n",
    "    norm_counts_shuff  = counts_shuff.values /norm_factor.values\n",
    "\n",
    "    # get threshold\n",
    "    fig, axs, fdrs = plot_reverse_cumsum_complex(\n",
    "                                    bins,\n",
    "                                    [norm_counts, norm_counts_shuff], \n",
    "                                    label_list=['data', 'scrambled cells'],\n",
    "                                    color_list=['C1', 'black'],\n",
    "                                   )\n",
    "    func = interp1d(bins[1:], \n",
    "                    -np.log10(fdrs)-(-np.log10(alpha)), \n",
    "                    kind='linear')\n",
    "    solution = root_scalar(func, x0=x0, x1=x1) # , x1=10)\n",
    "    if solution.converged:\n",
    "        x_th = solution.root\n",
    "        print(x_th)\n",
    "    else:\n",
    "        x_th = None\n",
    "    \n",
    "    axs[0].legend()\n",
    "    \n",
    "    axs[1].axvline(x_th,             linestyle='--', color='gray')\n",
    "    axs[1].axhline(func(x_th)+(-np.log10(alpha)), linestyle='--', color='gray')\n",
    "    axs[1].set_title(f'threshold = {x_th:.2f}')\n",
    "    \n",
    "    output = os.path.join(outdir, f'1_{ch}.pdf')\n",
    "    powerplots.savefig_autodate(fig, output)\n",
    "    plt.show()\n",
    "\n",
    "    # save\n",
    "    # threshold\n",
    "    thresholds.append(x_th)\n",
    "    # norm counts\n",
    "    props[f'new_{ch}'] = norm_counts\n",
    "    # bin intensity (for binary label) \n",
    "    props[f'proj_{ch}'] = (norm_counts > x_th).astype(int)\n",
    "    props[proj_target] = props[f'proj_{ch}'].copy()\n",
    "    "
   ]
  },
  {
   "cell_type": "code",
   "execution_count": null,
   "id": "57ced67b-4d4c-4db6-b232-d397511a21ae",
   "metadata": {
    "tags": []
   },
   "outputs": [],
   "source": [
    "polarities"
   ]
  },
  {
   "cell_type": "code",
   "execution_count": null,
   "id": "57c0a093-6e39-461c-bb64-2a074d348df4",
   "metadata": {
    "tags": []
   },
   "outputs": [],
   "source": [
    "axis_labels = ['x','y','z']\n",
    "axis_indices = [0,1,2]\n",
    "fig, axs = plt.subplots(1, 3, figsize=(3*8,1*6))\n",
    "for idx, (i, j) in enumerate(combinations(axis_indices, 2)):\n",
    "    ax = axs[idx]\n",
    "    ax.set_aspect('equal')\n",
    "    \n",
    "    li = axis_labels[i]\n",
    "    lj = axis_labels[j]\n",
    "    ax.set_xlabel(li)\n",
    "    ax.set_ylabel(lj)\n",
    "    \n",
    "    # ax.invert_yaxis() # a must to move (0,0) to the upper left\n",
    "    # pi = polarities[i]\n",
    "    # pj = polarities[j]\n",
    "    # if pi == -1:\n",
    "    #     ax.invert_xaxis()\n",
    "    # if pj == -1:\n",
    "    #     ax.invert_yaxis()\n",
    "    \n",
    "    g = ax.scatter(props[li], props[lj], c='lightgray', s=1, edgecolor='none')\n",
    "    for ch, th, cl in zip(channels, thresholds, colors):\n",
    "        cond = props[f'proj_{ch}'] > 0\n",
    "        num = cond.sum()\n",
    "        g = ax.scatter(props[li][cond], props[lj][cond], c=cl, s=5, edgecolor='none', label=f'{ch} (n={num:,})', rasterized=True)\n",
    "        \n",
    "    cond = np.sum(props[[f'proj_{ch}' for ch in channels]], axis=1) == 2\n",
    "    num = cond.sum()\n",
    "    g = ax.scatter(props[li][cond], props[lj][cond], c='purple', s=5, edgecolor='none', label=f'both (n={num:,})', rasterized=True)\n",
    "\n",
    "axs[0].legend(bbox_to_anchor=(0,0))\n",
    "\n",
    "\n",
    "# flip Z\n",
    "axs[1].invert_yaxis()\n",
    "axs[2].invert_yaxis()\n",
    "\n",
    "# rotate 180 degree (-x, -y)\n",
    "axs[0].invert_xaxis()\n",
    "axs[0].invert_yaxis()\n",
    "axs[1].invert_xaxis()\n",
    "axs[2].invert_xaxis()\n",
    "\n",
    "output = os.path.join(outdir, '2.pdf')\n",
    "powerplots.savefig_autodate(fig, output)\n",
    "plt.show()"
   ]
  },
  {
   "cell_type": "code",
   "execution_count": null,
   "id": "1e674fcf-e612-4c94-bb8c-6ded8fe4c4fd",
   "metadata": {},
   "outputs": [],
   "source": []
  },
  {
   "cell_type": "markdown",
   "id": "adf376af-754f-4b21-a430-0ab0a4236db0",
   "metadata": {},
   "source": [
    "# visualize the masks"
   ]
  },
  {
   "cell_type": "code",
   "execution_count": null,
   "id": "d8a34659-e6af-4569-9da1-3523ea9f6aeb",
   "metadata": {
    "tags": []
   },
   "outputs": [],
   "source": [
    "# keep projection labeled masks\n",
    "\n",
    "for ch in channels:\n",
    "\n",
    "    if PLUS_ONE:\n",
    "        labeled_cells = 1+props[props[f'proj_{ch}']>0].index.values #, props['area']<max_cellsize)].index.values\n",
    "    else:\n",
    "        labeled_cells = props[props[f'proj_{ch}']>0].index.values #, props['area']<max_cellsize)].index.values\n",
    "        \n",
    "    labeled_masks = masks_to_labeled_masks(msk, labeled_cells)\n",
    "    print(np.unique(labeled_masks).shape)\n",
    "\n",
    "    # # save as tiff\n",
    "    output = f_img0.replace('_c0_', f'_{ch}_').replace('.tiff', '_labeled_masks_countbased.tiff') \n",
    "    print(output)\n",
    "    tifffile.imwrite(output, labeled_masks)\n",
    "    "
   ]
  },
  {
   "cell_type": "markdown",
   "id": "e722a62b-368e-4a6a-a762-018738fa8244",
   "metadata": {},
   "source": [
    "# Visualize the dots "
   ]
  },
  {
   "cell_type": "code",
   "execution_count": null,
   "id": "c4e3defe-6131-43d5-98c6-9c5e9b7c456c",
   "metadata": {},
   "outputs": [],
   "source": [
    "# plotly 3D\n",
    "\n",
    "traces = []\n",
    "\n",
    "# allprops = props # .index.values # props['area']<max_cellsize)].index.values\n",
    "allx = props['x'].values\n",
    "ally = props['y'].values\n",
    "allz = props['z'].values\n",
    "\n",
    "trace = go.Scatter3d(x=allx, y=ally, z=allz, mode='markers',\n",
    "                     marker=dict(size=2, color='lightgray', opacity=0.5))\n",
    "traces.append(trace)\n",
    "\n",
    "for i, (ch, th) in enumerate(zip(channels, thresholds)):\n",
    "    labeled_props = props[props[f'new_{ch}']>th] # .index.values # props['area']<max_cellsize)].index.values\n",
    "    x = labeled_props['x'].values\n",
    "    y = labeled_props['y'].values\n",
    "    z = labeled_props['z'].values\n",
    "    color = colors[i]\n",
    "    \n",
    "    trace = go.Scatter3d(x=x, y=y, z=z, mode='markers',\n",
    "                         marker=dict(size=3, color=color, opacity=0.5))\n",
    "    traces.append(trace)\n",
    "    \n",
    "layout = go.Layout(title='',\n",
    "                   scene=dict(\n",
    "                       xaxis=dict(showgrid=False, backgroundcolor='rgba(0,0,0,0)'),\n",
    "                       yaxis=dict(showgrid=False, backgroundcolor='rgba(0,0,0,0)'),\n",
    "                       zaxis=dict(showgrid=False, backgroundcolor='rgba(0,0,0,0)'),\n",
    "                       xaxis_title='x', yaxis_title='y', zaxis_title='z',\n",
    "                   ), \n",
    "                   scene_dragmode='orbit',\n",
    "                  )\n",
    "\n",
    "fig = go.Figure(data=traces, layout=layout)\n",
    "fig.write_html(\"figure.html\")\n",
    "fig.show()"
   ]
  },
  {
   "cell_type": "markdown",
   "id": "e6af3844-dc26-42b7-b24a-7d233c639e81",
   "metadata": {},
   "source": [
    "# quants and stats"
   ]
  },
  {
   "cell_type": "code",
   "execution_count": null,
   "id": "8eb6d4d1-28c7-4444-88a5-68cc8d05b72f",
   "metadata": {
    "tags": []
   },
   "outputs": [],
   "source": [
    "# bin spatial\n",
    "stepsize_xy = 100 # 40\n",
    "stepsize_z  = 20\n",
    "\n",
    "xmax = props['x'].max()\n",
    "ymax = props['y'].max()\n",
    "zmax = props['z'].max()\n",
    "\n",
    "xbins = np.arange(0, xmax+stepsize_xy, stepsize_xy)\n",
    "ybins = np.arange(0, ymax+stepsize_xy, stepsize_xy)\n",
    "zbins = np.arange(0, zmax+stepsize_z , stepsize_z)\n",
    "zbins_2x = np.arange(0, zmax+stepsize_z*2 , stepsize_z*2)\n",
    "\n",
    "props['xbin'] = pd.cut(props['x'], bins=xbins, labels=False) #.astype(int)\n",
    "props['ybin'] = pd.cut(props['y'], bins=ybins, labels=False)\n",
    "props['zbin'] = pd.cut(props['z'], bins=zbins, labels=False)"
   ]
  },
  {
   "cell_type": "markdown",
   "id": "efac4bd6-2762-4c1a-a1a1-906a1a983d55",
   "metadata": {},
   "source": [
    "# along Z"
   ]
  },
  {
   "cell_type": "code",
   "execution_count": null,
   "id": "c3feb106-cecc-4b93-8463-0ba03f376d31",
   "metadata": {
    "tags": []
   },
   "outputs": [],
   "source": [
    "props_labeled = props[np.sum(props[proj_targets], axis=1)>0]\n",
    "props_lm = props[props['LM']>0]\n",
    "props_rl = props[props['RL']>0]\n",
    "\n",
    "\n",
    "\n",
    "histz_allcell, _ = np.histogram(props['z'], bins=zbins)\n",
    "histz_labeled, _ = np.histogram(props_labeled['z'], bins=zbins)"
   ]
  },
  {
   "cell_type": "code",
   "execution_count": null,
   "id": "8e7703f5-4065-426f-b101-40d5081d59cd",
   "metadata": {
    "tags": []
   },
   "outputs": [],
   "source": [
    "l23_start, l23_end = 100, 400\n",
    "\n",
    "fig, axs = plt.subplots(1, 2, figsize=(2*7,1*4))\n",
    "ax = axs[0]\n",
    "ax.plot(zbins[1:], histz_allcell, '-', \n",
    "        color='lightgray', label='cytoDAPI')\n",
    "ax.plot(zbins[1:], histz_labeled, '-', \n",
    "        color='black', label='projection labeled')\n",
    "\n",
    "ax.grid(False)\n",
    "ax.axvline(l23_start, color='gray', linestyle='--')\n",
    "ax.axvline(l23_end, color='gray', linestyle='--')\n",
    "ax.set_xlabel('cortical depth (um)')\n",
    "ax.set_ylabel('number of cells')\n",
    "\n",
    "ax2 = ax.twinx()\n",
    "ax2.plot(zbins[1:], histz_labeled/histz_allcell, '-', \n",
    "        color='red', label='frac projection labeled')\n",
    "ax2.set_ylabel('fraction of cells')\n",
    "\n",
    "ax2.grid(False)\n",
    "sns.despine(ax=ax)\n",
    "\n",
    "\n",
    "ax = axs[1]\n",
    "for i, target in enumerate(proj_targets):\n",
    "    datasub = props.loc[props[target]>0, 'z']\n",
    "    histz_sub, _ = np.histogram(datasub, bins=zbins)\n",
    "    ax.plot(zbins[1:], histz_sub, '-', \n",
    "            color=colors[i], \n",
    "            label=f'{target} (n={len(datasub):,})',\n",
    "            )\n",
    "                             \n",
    "datasub = props.loc[np.sum(props[proj_targets], axis=1)==2, 'z'] \n",
    "histz_sub, _ = np.histogram(datasub, bins=zbins)\n",
    "ax.plot(zbins[1:], histz_sub, '-', \n",
    "        color='purple',\n",
    "        label=f'both (n={len(datasub):,})',\n",
    "        )\n",
    "ax.legend(bbox_to_anchor=(1,1))\n",
    "sns.despine(ax=ax)\n",
    "\n",
    "ax.axvline(l23_start, color='gray', linestyle='--')\n",
    "ax.axvline(l23_end, color='gray', linestyle='--')\n",
    "ax.grid(False)\n",
    "ax.set_xlabel('cortical depth (um)')\n",
    "ax.set_ylabel('number of cells')\n",
    "\n",
    "fig.tight_layout()\n",
    "output = os.path.join(outdir, 'proj_bias_z.pdf')\n",
    "powerplots.savefig_autodate(fig, output)\n",
    "plt.show()\n"
   ]
  },
  {
   "cell_type": "code",
   "execution_count": null,
   "id": "43b820af-8fd0-4690-80fe-9e4e225ffa1c",
   "metadata": {
    "tags": []
   },
   "outputs": [],
   "source": [
    "l23_start, l23_end = 100, 400\n",
    "\n",
    "fig, ax = plt.subplots(1, 1, figsize=(1*7,1*4))\n",
    "for i, target in enumerate(proj_targets):\n",
    "    datasub = props.loc[props[target]>0, 'z']\n",
    "    histz_sub, _ = np.histogram(datasub, bins=zbins)\n",
    "    ax.plot(zbins[1:], histz_sub, '-', \n",
    "            color=colors[i], \n",
    "            label=f'{target} (n={len(datasub):,})',\n",
    "            )\n",
    "                             \n",
    "datasub = props.loc[np.sum(props[proj_targets], axis=1)==2, 'z'] \n",
    "histz_sub, _ = np.histogram(datasub, bins=zbins)\n",
    "ax.plot(zbins[1:], histz_sub, '-', \n",
    "        color='purple',\n",
    "        label=f'both (n={len(datasub):,})',\n",
    "        )\n",
    "ax.legend(bbox_to_anchor=(1,1))\n",
    "sns.despine(ax=ax)\n",
    "\n",
    "ax.axvline(l23_start, color='gray', linestyle='--')\n",
    "ax.axvline(l23_end, color='gray', linestyle='--')\n",
    "ax.grid(False)\n",
    "ax.set_xlabel('cortical depth (um)')\n",
    "ax.set_ylabel('number of cells')\n",
    "\n",
    "fig.tight_layout()\n",
    "output = os.path.join(outdir, 'proj_bias_z.pdf')\n",
    "powerplots.savefig_autodate(fig, output)\n",
    "plt.show()"
   ]
  },
  {
   "cell_type": "code",
   "execution_count": null,
   "id": "1e360f6a-4c9d-4fbc-9234-6471ba4e937b",
   "metadata": {
    "tags": []
   },
   "outputs": [],
   "source": [
    "fout = '/u/home/f/f7xiesnm/v1_multiome/easifish_sample1_res.csv'\n",
    "props.to_csv(fout)\n",
    "# !head $fout"
   ]
  },
  {
   "cell_type": "markdown",
   "id": "dbfbd1ed-54ba-4511-8162-ad146808e83c",
   "metadata": {},
   "source": [
    "# along XY"
   ]
  },
  {
   "cell_type": "code",
   "execution_count": null,
   "id": "ae94964d-e1fc-4ec1-be98-e5b3fb5a7b64",
   "metadata": {
    "tags": []
   },
   "outputs": [],
   "source": [
    "fig, axs = plt.subplots(1, 2, figsize=(2*5,1*4))\n",
    "ax = axs[0]\n",
    "label = 'cytoDAPI labeled'\n",
    "sns.histplot(data=props, \n",
    "             x='x', y='y', bins=[xbins, ybins], \n",
    "             element='step', fill=False,\n",
    "             cmap='gray_r',\n",
    "             cbar=True, cbar_kws={'shrink': 0.5},\n",
    "             ax=ax,\n",
    "            )\n",
    "ax.grid(False)\n",
    "ax.set_aspect('equal')\n",
    "sns.despine(ax=ax)\n",
    "ax.set_title(label)\n",
    "\n",
    "ax = axs[1]\n",
    "label = 'projection labeled'\n",
    "sns.histplot(data=props.loc[np.sum(props[proj_targets], axis=1)>0], \n",
    "             x='x', y='y', bins=[xbins, ybins], \n",
    "             element='step', fill=False,\n",
    "             cmap='gray_r',\n",
    "             cbar=True, cbar_kws={'shrink': 0.5},\n",
    "             ax=ax,\n",
    "            )\n",
    "ax.grid(False)\n",
    "ax.set_aspect('equal')\n",
    "sns.despine(ax=ax)\n",
    "ax.set_title(label)\n",
    "output = os.path.join(outdir, '4-1.pdf')\n",
    "powerplots.savefig_autodate(fig, output)\n",
    "plt.show()\n",
    "\n",
    "fig, axs = plt.subplots(1, 2, figsize=(2*5,1*4))\n",
    "for i, target in enumerate(proj_targets):\n",
    "    ax = axs[i]\n",
    "    color = colors[i]\n",
    "    sns.histplot(data=props.loc[props[target]>0], \n",
    "                 x='x', y='y', bins=[xbins, ybins], \n",
    "                 element='step', fill=False,\n",
    "                 cmap=f'{color[0].upper()}{color[1:]}s', \n",
    "                 cbar=True, cbar_kws={'shrink': 0.5, },\n",
    "                 ax=ax,\n",
    "                )\n",
    "    ax.grid(False)\n",
    "    ax.set_aspect('equal')\n",
    "    sns.despine(ax=ax)\n",
    "    ax.set_title(target)\n",
    "    \n",
    "output = os.path.join(outdir, '4-2.pdf')\n",
    "powerplots.savefig_autodate(fig, output)\n",
    "plt.show()"
   ]
  },
  {
   "cell_type": "code",
   "execution_count": null,
   "id": "0c49a09e-7755-4fa9-a742-4effb4dc3847",
   "metadata": {
    "tags": []
   },
   "outputs": [],
   "source": [
    "histxy_lm, _, _ = np.histogram2d(props_lm['x'], props_lm['y'], bins=[xbins, ybins])\n",
    "histxy_rl, _, _ = np.histogram2d(props_rl['x'], props_rl['y'], bins=[xbins, ybins])"
   ]
  },
  {
   "cell_type": "code",
   "execution_count": null,
   "id": "5574fc77-1bed-4ab6-a7cc-fcb1053c8d5c",
   "metadata": {
    "tags": []
   },
   "outputs": [],
   "source": [
    "fig, ax = plt.subplots(1, 1, figsize=(1*5,1*4))\n",
    "sns.heatmap(np.log2((histxy_rl)/(histxy_lm)).T, # x then y\n",
    "            cmap='coolwarm_r', \n",
    "            center=0,\n",
    "            vmax=3, vmin=-3,\n",
    "            cbar_kws=dict(shrink=0.5, \n",
    "                          label='log2([#RL]/[#LM])', \n",
    "                          ticks=[-3,0,3],\n",
    "                         ))\n",
    "# ax.axis('off')\n",
    "# ax.invert_yaxis()\n",
    "ax.grid(False)\n",
    "ax.set_aspect('equal')\n",
    "sns.despine(ax=ax)\n",
    "ax.set_title('projection bias')\n",
    "    \n",
    "output = os.path.join(outdir, 'proj_bias_xy.pdf')\n",
    "powerplots.savefig_autodate(fig, output)\n",
    "plt.show()"
   ]
  },
  {
   "cell_type": "markdown",
   "id": "59f656ee-0c76-4edb-a619-b705a104d904",
   "metadata": {},
   "source": [
    "# subpanels"
   ]
  },
  {
   "cell_type": "code",
   "execution_count": null,
   "id": "79a6c659-8b77-4d5d-8525-12aecf655c43",
   "metadata": {},
   "outputs": [],
   "source": [
    "\n",
    "rectangles = [\n",
    "    [150, 300, 100, 250], # xmin, xmax, ymin, ymax\n",
    "    [150, 300, 550, 700], # xmin, xmax, ymin, ymax\n",
    "    [450, 600, 300, 450], # xmin, xmax, ymin, ymax\n",
    "    [700, 850, 100, 250], # xmin, xmax, ymin, ymax\n",
    "    [700, 850, 550, 700], # xmin, xmax, ymin, ymax\n",
    "]\n",
    "\n",
    "\n",
    "axis_labels = ['x','y','z']\n",
    "axis_indices = [0,1,2]\n",
    "fig, axs = plt.subplots(1, 3, figsize=(3*8,1*6))\n",
    "for idx, (i, j) in enumerate(combinations(axis_indices, 2)):\n",
    "    ax = axs[idx]\n",
    "    ax.set_aspect('equal')\n",
    "    \n",
    "    li = axis_labels[i]\n",
    "    lj = axis_labels[j]\n",
    "    ax.set_xlabel(li)\n",
    "    ax.set_ylabel(lj)\n",
    "    \n",
    "    pi = polarities[i]\n",
    "    pj = polarities[j]\n",
    "    if pi == -1:\n",
    "        ax.invert_xaxis()\n",
    "    if pj == -1:\n",
    "        ax.invert_yaxis()\n",
    "    \n",
    "    g = ax.scatter(props[li], props[lj], c='lightgray', s=1, edgecolor='none', rasterized=True)\n",
    "    for ch, target, th, cl in zip(channels, proj_targets, thresholds, colors):\n",
    "        cond = props[f'proj_{ch}'] > 0\n",
    "        num = cond.sum()\n",
    "        g = ax.scatter(props[li][cond], props[lj][cond], c=cl, s=5, edgecolor='none', label=f'{target} (n={num:,})', rasterized=True)\n",
    "        \n",
    "    cond = np.sum(props[[f'proj_{ch}' for ch in channels]], axis=1) == 2\n",
    "    num = cond.sum()\n",
    "    g = ax.scatter(props[li][cond], props[lj][cond], c='purple', s=5, edgecolor='none', label=f'both (n={num:,})', rasterized=True)\n",
    "\n",
    "axs[0].legend(bbox_to_anchor=(0,0))\n",
    "\n",
    "for rect_idx, [xmin, xmax, ymin, ymax] in enumerate(rectangles):\n",
    "    axs[0].plot([xmin, xmax, xmax, xmin, xmin], \n",
    "                [ymin, ymin, ymax, ymax, ymin],\n",
    "                '-', color='k'\n",
    "               )\n",
    "    axs[0].text(xmin+50, ymin-50, f\"#{rect_idx+1}\", bbox=dict(facecolor='lightgray', linewidth=0))\n",
    "\n",
    "output = os.path.join(outdir, 'new1.pdf')\n",
    "powerplots.savefig_autodate(fig, output)\n",
    "plt.show()"
   ]
  },
  {
   "cell_type": "code",
   "execution_count": null,
   "id": "9661e596-6bba-4dc8-a97a-1f2ae7900e17",
   "metadata": {
    "tags": []
   },
   "outputs": [],
   "source": [
    "n = len(rectangles)\n",
    "\n",
    "fig, axs = plt.subplots(1, n, figsize=(n*5,1*4), sharex=True, sharey=True)\n",
    "for idx, rect in enumerate(rectangles):\n",
    "    ax = axs[idx]\n",
    "    ax.set_title(f'#{idx+1}')\n",
    "    xmin, xmax, ymin, ymax = rect\n",
    "    \n",
    "    cond = np.all([props['x']>xmin, \n",
    "                   props['x']<xmax,\n",
    "                   props['y']>ymin,\n",
    "                   props['y']<ymax,\n",
    "                  ], axis=0)\n",
    "    \n",
    "    props_sub = props[cond]\n",
    "    \n",
    "    for i, target in enumerate(proj_targets):\n",
    "        datasub = props_sub.loc[props_sub[target]>0, 'z']\n",
    "        sns.histplot(data=datasub, bins=zbins, color=colors[i], \n",
    "                     element='step', fill=False,\n",
    "                     label=f'{target} (n={len(datasub):,})',\n",
    "                     ax=ax,\n",
    "                    )\n",
    "                      \n",
    "    datasub = props_sub.loc[np.sum(props_sub[proj_targets], axis=1)==2, 'z'] \n",
    "    sns.histplot(data=datasub, bins=zbins, color='purple',\n",
    "                 element='step', fill=False,\n",
    "                 label=f'both (n={len(datasub):,})',\n",
    "                 ax=ax,\n",
    "                )\n",
    "    ax.grid(False)\n",
    "    ax.legend(bbox_to_anchor=(0,-0.2), loc='upper left')\n",
    "    sns.despine(ax=ax)\n",
    "\n",
    "output = os.path.join(outdir, 'new2.pdf')\n",
    "powerplots.savefig_autodate(fig, output)\n",
    "plt.show()"
   ]
  },
  {
   "cell_type": "code",
   "execution_count": null,
   "id": "1489b368-512e-4c9c-8904-35c2ab931586",
   "metadata": {
    "tags": []
   },
   "outputs": [],
   "source": [
    "n = len(rectangles)\n",
    "\n",
    "fig, axs = plt.subplots(1, n, figsize=(n*5,1*4), sharex=True, sharey=True)\n",
    "for idx, rect in enumerate(rectangles):\n",
    "    ax = axs[idx]\n",
    "    ax.set_title(f'#{idx+1}')\n",
    "    xmin, xmax, ymin, ymax = rect\n",
    "    \n",
    "    cond = np.all([props['x']>xmin, \n",
    "                   props['x']<xmax,\n",
    "                   props['y']>ymin,\n",
    "                   props['y']<ymax,\n",
    "                  ], axis=0)\n",
    "    \n",
    "    props_sub = props[cond]\n",
    "    \n",
    "    for i, target in enumerate(proj_targets):\n",
    "        datasub = props_sub.loc[props_sub[target]>0, 'z']\n",
    "        sns.histplot(data=datasub, bins=zbins_2x, color=colors[i], \n",
    "                     stat='proportion',\n",
    "                     element='step', fill=False,\n",
    "                     label=f'{target} (n={len(datasub):,})',\n",
    "                     ax=ax,\n",
    "                    )\n",
    "                      \n",
    "    # datasub = props_sub.loc[np.sum(props_sub[proj_targets], axis=1)==2, 'z'] \n",
    "    # sns.histplot(data=datasub, bins=zbins_2x, color='purple',\n",
    "    #              stat='percent',\n",
    "    #              element='step', fill=False,\n",
    "    #              label=f'both (n={len(datasub):,})',\n",
    "    #              ax=ax,\n",
    "    #             )\n",
    "    ax.grid(False)\n",
    "    ax.legend(bbox_to_anchor=(0,-0.2), loc='upper left')\n",
    "    sns.despine(ax=ax)\n",
    "\n",
    "output = os.path.join(outdir, 'new3.pdf')\n",
    "powerplots.savefig_autodate(fig, output)\n",
    "plt.show()"
   ]
  },
  {
   "cell_type": "markdown",
   "id": "8f418bde-3e76-4704-a202-e080141706dc",
   "metadata": {},
   "source": [
    "# density map"
   ]
  },
  {
   "cell_type": "code",
   "execution_count": null,
   "id": "3e5408a8-a22b-4bd5-9bb4-c5236935ad48",
   "metadata": {
    "tags": []
   },
   "outputs": [],
   "source": [
    "def plot_density_maps(dfsize_1, dfsize_2, dfsize_3):\n",
    "    fig, axs = plt.subplots(1,4,figsize=(4*6,1*5), sharex=True,sharey=True)\n",
    "    ax = axs[0]\n",
    "    sns.heatmap(dfsize_1.T, ax=ax, cmap='rocket_r', cbar_kws=dict(shrink=0.5))\n",
    "    ax.set_aspect('equal')\n",
    "    ax.set_title('LM')\n",
    "\n",
    "    ax = axs[1]\n",
    "    sns.heatmap(dfsize_2.T, ax=ax, cmap='rocket_r', cbar_kws=dict(shrink=0.5))\n",
    "    ax.set_aspect('equal')\n",
    "    ax.set_title('RL')\n",
    "\n",
    "    ax = axs[2]\n",
    "    sns.heatmap(dfsize_3.T, ax=ax, cmap='rocket_r', cbar_kws=dict(shrink=0.5))\n",
    "    ax.set_aspect('equal')\n",
    "    ax.set_title('both')\n",
    "\n",
    "    ax = axs[3]\n",
    "    sns.heatmap(np.log2((dfsize_1.T+1)/(dfsize_2.T+1)), \n",
    "                cmap='coolwarm', \n",
    "                center=0,\n",
    "                cbar_kws=dict(shrink=0.5)\n",
    "               )\n",
    "    ax.set_aspect('equal')\n",
    "    ax.set_title('log2(LM/RL)')\n",
    "    plt.show()"
   ]
  },
  {
   "cell_type": "code",
   "execution_count": null,
   "id": "aca3ac86-9cfb-47a4-bebd-4ae9a1678fcd",
   "metadata": {
    "tags": []
   },
   "outputs": [],
   "source": [
    "# plot_density_maps(dfsize_xz1, dfsize_xz2, dfsize_xz3)\n",
    "# plot_density_maps(dfsize_yz1, dfsize_yz2, dfsize_yz3)\n",
    "# plot_density_maps(dfsize_xy1, dfsize_xy2, dfsize_xy3)\n",
    "\n"
   ]
  },
  {
   "cell_type": "markdown",
   "id": "492e0da1-905a-4edf-96ba-dfa522ae1f71",
   "metadata": {},
   "source": [
    "# at every x and y, compare z distribution"
   ]
  },
  {
   "cell_type": "code",
   "execution_count": null,
   "id": "26e98bce-2d0c-4b23-8d72-31bbf0847685",
   "metadata": {
    "tags": []
   },
   "outputs": [],
   "source": [
    "# dfsub = df[df['zrbin'] == 8]\n",
    "# plot_easifish_proj(dfsub, 'xr', 'yr', invert_yaxis=True)\n",
    "# plot_easifish_proj(dfsub, 'xr', 'zr', invert_yaxis=True)\n",
    "# plot_easifish_proj(dfsub, 'yr', 'zr', invert_yaxis=True)"
   ]
  },
  {
   "cell_type": "code",
   "execution_count": null,
   "id": "3ed6f9b2-f105-418d-af4e-cfae973cb375",
   "metadata": {
    "tags": []
   },
   "outputs": [],
   "source": [
    "props"
   ]
  },
  {
   "cell_type": "code",
   "execution_count": null,
   "id": "020a1424-7a05-4b53-9317-ca9a6100e78c",
   "metadata": {},
   "outputs": [],
   "source": [
    "# xy\n",
    "dfmean_rl = props[props['RL']>0].groupby(['xbin', 'ybin'])['z'].mean().unstack() # .unstack() #.fillna(0).astype(int) #mean().unstack()\n",
    "dfmean_lm = props[props['LM']>0].groupby(['xbin', 'ybin'])['z'].mean().unstack() # .unstack() #.fillna(0).astype(int) #mean().unstack()\n",
    "dfmean_del = dfmean_rl - dfmean_lm"
   ]
  },
  {
   "cell_type": "code",
   "execution_count": null,
   "id": "1bd1ee43-ec34-40ff-a5fa-8c4e8fab686f",
   "metadata": {
    "tags": []
   },
   "outputs": [],
   "source": [
    "dfmean_del"
   ]
  },
  {
   "cell_type": "code",
   "execution_count": null,
   "id": "eb842f00-3d53-4584-8e08-6c3d8d557237",
   "metadata": {
    "tags": []
   },
   "outputs": [],
   "source": [
    "dfmean_del_shuffs = []\n",
    "\n",
    "n_rep = 1000\n",
    "for i in range(n_rep): \n",
    "    props_shuff = props.copy()\n",
    "    props_shuff['RL'] = np.random.choice(props['RL'].values, size=len(props), replace=False)\n",
    "    props_shuff['LM'] = np.random.choice(props['LM'].values, size=len(props), replace=False)\n",
    "    \n",
    "    dfmean_rl_shuff = props_shuff[props_shuff['RL']>0].groupby(['xbin', 'ybin'])['z'].mean().unstack()\n",
    "    dfmean_lm_shuff = props_shuff[props_shuff['LM']>0].groupby(['xbin', 'ybin'])['z'].mean().unstack()\n",
    "    \n",
    "    dfmean_rl_shuff = dfmean_rl_shuff.reindex(dfmean_del.index)[dfmean_del.columns] # use the same dimensinos\n",
    "    dfmean_lm_shuff = dfmean_lm_shuff.reindex(dfmean_del.index)[dfmean_del.columns] # use the same dimensinos\n",
    "    \n",
    "    dfmean_del_shuff = dfmean_rl_shuff - dfmean_lm_shuff\n",
    "    dfmean_del_shuffs.append(dfmean_del_shuff.values)\n",
    "    \n",
    "dfmean_del_shuffs = np.array(dfmean_del_shuffs)\n",
    "dfmean_del_shuffmean = np.nanmean(dfmean_del_shuffs, axis=0) # .shape\n",
    "pvals = (1+np.sum(np.abs(dfmean_del_shuffs) > np.abs(dfmean_del.values[np.newaxis,:,:]), axis=0))/n_rep\n",
    "pvals"
   ]
  },
  {
   "cell_type": "code",
   "execution_count": null,
   "id": "145d7a92-71e8-40cf-8bdb-734d821f327a",
   "metadata": {
    "tags": []
   },
   "outputs": [],
   "source": [
    "from matplotlib.colors import LinearSegmentedColormap\n",
    "\n",
    "# Define colors (start and end)\n",
    "colors = [\"black\", 'white', \"C1\"]\n",
    "\n",
    "# Create colormap\n",
    "custom_cmap = LinearSegmentedColormap.from_list(\"custom_cmap\", colors)\n"
   ]
  },
  {
   "cell_type": "code",
   "execution_count": null,
   "id": "685b6ffc-4e16-4733-b5ca-5e010544924e",
   "metadata": {
    "tags": []
   },
   "outputs": [],
   "source": [
    "\n",
    "\n",
    "\n",
    "fig, axs = plt.subplots(1, 3, figsize=(6*3,5))\n",
    "for i, (dfmean, title) in enumerate(zip(\n",
    "    [dfmean_lm, dfmean_rl, dfmean_del], \n",
    "    ['LM', 'RL', 'RL-LM'], \n",
    "    )):\n",
    "    ax = axs[i]\n",
    "    if i == 2:\n",
    "        cmap = custom_cmap\n",
    "        center = 0 \n",
    "        vmin = -100\n",
    "        vmax = +100\n",
    "    else:\n",
    "        cmap = 'gray_r'\n",
    "        center = None\n",
    "        vmin = 100\n",
    "        vmax = 400\n",
    "        \n",
    "    sns.heatmap(dfmean.T, \n",
    "                cmap=cmap, center=center, vmin=vmin, vmax=vmax, \n",
    "                cbar_kws=dict(shrink=.5, label='mean depth (um)'), \n",
    "                ax=ax,\n",
    "               )\n",
    "    ax.set_aspect('equal')\n",
    "    ax.grid(False)\n",
    "    \n",
    "fig.tight_layout()\n",
    "output = os.path.join(outdir, 'dist_diff_heatmap.pdf')\n",
    "powerplots.savefig_autodate(fig, output)\n",
    "plt.show()\n"
   ]
  },
  {
   "cell_type": "code",
   "execution_count": null,
   "id": "d3e6906b-7e3d-42b0-9f63-3b14ed4ccc3f",
   "metadata": {
    "tags": []
   },
   "outputs": [],
   "source": [
    "\n",
    "fig, axs = plt.subplots(1, 3, figsize=(6*3,5))\n",
    "for i, dfmean in enumerate([dfmean_lm_shuff, dfmean_rl_shuff, dfmean_del_shuff]):\n",
    "    ax = axs[i]\n",
    "    if i == 2:\n",
    "        cmap = 'coolwarm'\n",
    "        center = 0 \n",
    "        vmin = -100\n",
    "        vmax = +100\n",
    "    else:\n",
    "        cmap = 'rocket_r'\n",
    "        center = None\n",
    "        vmin = 100\n",
    "        vmax = 400\n",
    "        \n",
    "    sns.heatmap(dfmean.T, \n",
    "                cmap=cmap, center=center, vmin=vmin, vmax=vmax, \n",
    "                cbar_kws=dict(shrink=.5, label='mean depth (um)'), \n",
    "                ax=ax,\n",
    "               )\n",
    "    ax.set_aspect('equal')\n",
    "    ax.grid(False)\n",
    "    \n",
    "fig.tight_layout()\n",
    "plt.show()"
   ]
  },
  {
   "cell_type": "code",
   "execution_count": null,
   "id": "82084d96-25b5-4afc-82d8-4796177eb250",
   "metadata": {},
   "outputs": [],
   "source": [
    "fig, ax = plt.subplots(1,1,figsize=(1*6,1*5))\n",
    "ax.scatter(dfmean_del.T, -np.log10(pvals).T, s=5, color='k')\n",
    "ax.set_xlabel('mean RL-LM in zr (um)')\n",
    "ax.set_ylabel('-log10(p-value)')\n",
    "ax.set_xlim([-150, 150])\n",
    "sns.despine(ax=ax)\n",
    "# ax.grid(False)\n",
    "ax.axhline(-np.log10(0.05), color='k', linestyle='--')\n",
    "# ax.axvline(0, color='k', linestyle='--')\n",
    "plt.show()\n",
    "\n",
    "# ax.grid(False)"
   ]
  },
  {
   "cell_type": "code",
   "execution_count": null,
   "id": "fb0bdd7c-b650-4181-a1cc-62e795b5d8c0",
   "metadata": {},
   "outputs": [],
   "source": [
    "del_bins = np.linspace(-150, 150, 50)\n",
    "\n",
    "fig, ax = plt.subplots(figsize=(6,4))\n",
    "sns.histplot(dfmean_del_shuffs.reshape(-1,), stat='density', \n",
    "             bins=del_bins, element='step', \n",
    "             ax=ax, color='gray', label='shuffled projection labels')\n",
    "sns.histplot(dfmean_del.values.reshape(-1,), stat='density', \n",
    "             bins=del_bins, element='step',\n",
    "             ax=ax, color='C1', label='data')\n",
    "\n",
    "ax.legend(bbox_to_anchor=(1,1), loc='upper left')\n",
    "sns.despine(ax=ax)\n",
    "ax.grid(False)\n",
    "ax.set_xlabel('mean depth diff (um; RL-LM)')\n",
    "\n",
    "output = os.path.join(outdir, 'dist_shuff_data.pdf')\n",
    "powerplots.savefig_autodate(fig, output)\n",
    "plt.show()"
   ]
  },
  {
   "cell_type": "code",
   "execution_count": null,
   "id": "f5c24108-6c82-4302-9de1-35d974ffa2d4",
   "metadata": {},
   "outputs": [],
   "source": []
  },
  {
   "cell_type": "code",
   "execution_count": null,
   "id": "279381d9-109b-4c34-b911-96533ded8dae",
   "metadata": {},
   "outputs": [],
   "source": []
  },
  {
   "cell_type": "code",
   "execution_count": null,
   "id": "f790df4f-0382-49e3-bc1f-d8e4a34d47da",
   "metadata": {},
   "outputs": [],
   "source": []
  },
  {
   "cell_type": "code",
   "execution_count": null,
   "id": "1e69db99-247b-4c87-9c16-160252f8e244",
   "metadata": {},
   "outputs": [],
   "source": []
  },
  {
   "cell_type": "code",
   "execution_count": null,
   "id": "a07bf401-a1aa-4b04-83f2-4fde2816a516",
   "metadata": {},
   "outputs": [],
   "source": []
  },
  {
   "cell_type": "code",
   "execution_count": null,
   "id": "27cec637-53dd-4381-896e-be6456583070",
   "metadata": {},
   "outputs": [],
   "source": []
  },
  {
   "cell_type": "code",
   "execution_count": null,
   "id": "626684e9-06e5-4287-90a4-6f5279e4aa80",
   "metadata": {},
   "outputs": [],
   "source": []
  },
  {
   "cell_type": "code",
   "execution_count": null,
   "id": "0e8fdf75-d5af-42ee-82cb-b120aee534bb",
   "metadata": {},
   "outputs": [],
   "source": []
  },
  {
   "cell_type": "code",
   "execution_count": null,
   "id": "873ddc44-e1b2-4803-8d7b-c2ae5d197cb9",
   "metadata": {},
   "outputs": [],
   "source": []
  }
 ],
 "metadata": {
  "kernelspec": {
   "display_name": "napari",
   "language": "python",
   "name": "napari"
  },
  "language_info": {
   "codemirror_mode": {
    "name": "ipython",
    "version": 3
   },
   "file_extension": ".py",
   "mimetype": "text/x-python",
   "name": "python",
   "nbconvert_exporter": "python",
   "pygments_lexer": "ipython3",
   "version": "3.9.16"
  }
 },
 "nbformat": 4,
 "nbformat_minor": 5
}
