{
 "cells": [
  {
   "cell_type": "markdown",
   "id": "8c753145-1a59-480d-abb2-60f2fa3f416f",
   "metadata": {},
   "source": [
    "# Inputs\n",
    "---"
   ]
  },
  {
   "cell_type": "code",
   "execution_count": null,
   "id": "2b6aeb01",
   "metadata": {},
   "outputs": [],
   "source": [
    "import numpy as np, zarr, nrrd\n",
    "import os\n",
    "# alignment functions\n",
    "from bigstream.align import alignment_pipeline\n",
    "from bigstream.transform import apply_transform\n",
    "import tifffile\n",
    "import time\n",
    "\n",
    "import seaborn as sns\n",
    "import matplotlib.pyplot as plt"
   ]
  },
  {
   "cell_type": "code",
   "execution_count": null,
   "id": "f9e34109-0b59-441f-bb7a-2f75c90d30eb",
   "metadata": {
    "tags": []
   },
   "outputs": [],
   "source": [
    "outdir = '/u/home/f/f7xiesnm/project-zipursky/easifish/results/viz_all_sorcs3_channels'\n",
    "!mkdir -p $outdir"
   ]
  },
  {
   "cell_type": "markdown",
   "id": "060aca49-8874-4f7c-8f00-91945062bea9",
   "metadata": {},
   "source": [
    "# raw"
   ]
  },
  {
   "cell_type": "code",
   "execution_count": null,
   "id": "08dae79d-075b-4bd9-b12a-efb0389f2fd9",
   "metadata": {
    "tags": []
   },
   "outputs": [],
   "source": [
    "p0      = '/u/home/f/f7xiesnm/project-zipursky/easifish/'\n",
    "allpaths = {\n",
    "    # 'lt185': p0 + 'lt185/outputs/r2v3/stitching/export.n5',\n",
    "    # 'lt186': p0 + 'lt186/outputs/r2v3/stitching/export.n5',\n",
    "    # 'cdf03_c1-2_bino': p0 + 'cdf03_c1-2_bino/outputs/r3/stitching/export.n5',\n",
    "    # 'cdf04_c1-2_bino': p0 + 'cdf04_c1-2_bino/outputs/r3/stitching/export.n5',\n",
    "    # 'sparse06': p0 + 'sparse06/outputs/r1_flatfield/v8/stitching/export.n5',\n",
    "    'lt172': p0 + 'lt172/outputs/r1/stitching/export.n5',\n",
    "}\n",
    "\n",
    "ti = time.time()\n",
    "for dataset, path in allpaths.items():\n",
    "    print(time.time()-ti)\n",
    "    zarr_data = zarr.open(store=zarr.N5Store(path), mode='r')\n",
    "    img = zarr_data[f'/c0/s1']\n",
    "    print(img.shape)\n",
    "    \n",
    "    if dataset == 'lt172':\n",
    "        img = img[ 800:1300,  500:1500,  500:1500]\n",
    "    else:\n",
    "        img = img[1000:1500, 1500:2500, 2000:3000]\n",
    "    print(img.shape)\n",
    "\n",
    "    output = outdir+f'/{dataset}_sorcs3_c0_s1.tiff'\n",
    "    print(output)\n",
    "    tifffile.imwrite(output, img)\n",
    "        "
   ]
  },
  {
   "cell_type": "code",
   "execution_count": null,
   "id": "a8109990-9486-456a-8b86-82a25b18d805",
   "metadata": {},
   "outputs": [],
   "source": []
  }
 ],
 "metadata": {
  "kernelspec": {
   "display_name": "napari",
   "language": "python",
   "name": "napari"
  },
  "language_info": {
   "codemirror_mode": {
    "name": "ipython",
    "version": 3
   },
   "file_extension": ".py",
   "mimetype": "text/x-python",
   "name": "python",
   "nbconvert_exporter": "python",
   "pygments_lexer": "ipython3",
   "version": "3.9.16"
  }
 },
 "nbformat": 4,
 "nbformat_minor": 5
}
