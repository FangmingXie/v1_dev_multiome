{
 "cells": [
  {
   "cell_type": "code",
   "execution_count": null,
   "id": "1edf0682-b1e5-4002-8b0b-793a1617fa9a",
   "metadata": {
    "tags": []
   },
   "outputs": [],
   "source": [
    "import os\n",
    "import numpy as np\n",
    "import pandas as pd\n",
    "from skimage import io, measure\n",
    "import tifffile\n",
    "\n",
    "import seaborn as sns"
   ]
  },
  {
   "cell_type": "code",
   "execution_count": null,
   "id": "ce587e72-c5f3-4f30-b291-8f88fa19d1d8",
   "metadata": {
    "tags": []
   },
   "outputs": [],
   "source": [
    "ddir1 = \"/u/home/f/f7xiesnm/project-zipursky/easifish/results/viz_all_projections_jan29\"\n",
    "\n",
    "dataset_name = 'cdf03_c1-2_bino_r1_autos1_flatfused_c0_s4'\n",
    "\n",
    "# image \n",
    "f_img = os.path.join(ddir1, 'cdf03_c1-2_bino_r1_autos1_flatfused_c0_s4.tiff')\n",
    "f_msk = '/u/home/f/f7xiesnm/project-zipursky/easifish/cdf03_c1-2_bino/outputs/r1/segmentation/r1-c3.tif'\n",
    "\n",
    "\n",
    "# view 1 image\n",
    "img = io.imread(f_img)\n",
    "img = np.array(img)\n",
    "\n",
    "msk = io.imread(f_msk)\n",
    "msk = np.array(msk)\n",
    "\n",
    "img.shape, msk.shape\n",
    "\n"
   ]
  },
  {
   "cell_type": "code",
   "execution_count": null,
   "id": "c31d7512-b50e-4c71-bdd3-fe732a0cfb30",
   "metadata": {
    "tags": []
   },
   "outputs": [],
   "source": [
    "msk = msk[::2, ::2, ::2]\n",
    "msk = msk[:,:-1,:-1]\n",
    "msk.shape"
   ]
  },
  {
   "cell_type": "code",
   "execution_count": null,
   "id": "5f44f6d6-84f9-4740-9ffa-f571e104c198",
   "metadata": {
    "tags": []
   },
   "outputs": [],
   "source": [
    "%%time\n",
    "props = measure.regionprops_table(msk.astype(int), \n",
    "                                  intensity_image=img,\n",
    "                                  properties=['centroid', 'area', 'mean_intensity']) # , 'max_intensity', 'min_intensity'\n",
    "props = pd.DataFrame(props)\n",
    "props"
   ]
  },
  {
   "cell_type": "code",
   "execution_count": null,
   "id": "56e0cca5-b880-41e7-94fb-5ee99e88f261",
   "metadata": {
    "tags": []
   },
   "outputs": [],
   "source": [
    "intn = props['mean_intensity'].values\n",
    "np.max(intn)"
   ]
  },
  {
   "cell_type": "code",
   "execution_count": null,
   "id": "b8e02b07-fede-4041-8fa4-c90c220496b5",
   "metadata": {
    "tags": []
   },
   "outputs": [],
   "source": [
    "sns.scatterplot(data=props, x='area', y='mean_intensity', s=1)"
   ]
  },
  {
   "cell_type": "code",
   "execution_count": null,
   "id": "4581cae4-7320-46ad-ba92-0ff7f105178a",
   "metadata": {
    "tags": []
   },
   "outputs": [],
   "source": [
    "sns.histplot(intn, bins=np.arange(0,80,2))"
   ]
  },
  {
   "cell_type": "code",
   "execution_count": null,
   "id": "f2bcf376-0940-4af1-a0ed-02599f4d1000",
   "metadata": {
    "tags": []
   },
   "outputs": [],
   "source": [
    "sns.histplot(np.log2(1+intn)) # , bins=np.arange(0,80,2))"
   ]
  },
  {
   "cell_type": "markdown",
   "id": "adf376af-754f-4b21-a430-0ab0a4236db0",
   "metadata": {},
   "source": [
    "# visualize the masks\n",
    "# use S3 later"
   ]
  },
  {
   "cell_type": "code",
   "execution_count": null,
   "id": "625474bd-60ed-410f-8f10-f5e00e93549a",
   "metadata": {
    "tags": []
   },
   "outputs": [],
   "source": [
    "def masks_to_labeled_masks(msk, labeled_cells):\n",
    "    unq, inv = np.unique(msk.reshape(-1,), return_inverse=True)\n",
    "\n",
    "    for i in unq:\n",
    "        if i not in labeled_cells:\n",
    "            unq[i] = 0\n",
    "\n",
    "    labeled_msk = unq[inv].reshape(msk.shape)\n",
    "    \n",
    "    return labeled_msk"
   ]
  },
  {
   "cell_type": "code",
   "execution_count": null,
   "id": "d8a34659-e6af-4569-9da1-3523ea9f6aeb",
   "metadata": {
    "tags": []
   },
   "outputs": [],
   "source": [
    "# keep the masks with high intensity\n",
    "labeled_cells = 1+props[props['mean_intensity']>5].index.values\n",
    "labeled_masks = masks_to_labeled_masks(msk, labeled_cells)\n",
    "print(np.unique(labeled_msk).shape)\n",
    "\n",
    "# save as tiff\n",
    "\n",
    "# download and viz"
   ]
  },
  {
   "cell_type": "code",
   "execution_count": null,
   "id": "dd34fee6-de86-43a5-857a-a9e04dc49ba5",
   "metadata": {
    "tags": []
   },
   "outputs": [],
   "source": [
    "output = os.path.join(ddir1, f'{dataset_name}_labeled_masks.tiff')\n",
    "print(output)\n",
    "tifffile.imwrite(output, labeled_msk)"
   ]
  },
  {
   "cell_type": "code",
   "execution_count": null,
   "id": "d60df9c5-e05e-46dd-9ff2-f900c8c9419e",
   "metadata": {},
   "outputs": [],
   "source": []
  }
 ],
 "metadata": {
  "kernelspec": {
   "display_name": "Python 3 (ipykernel)",
   "language": "python",
   "name": "python3"
  },
  "language_info": {
   "codemirror_mode": {
    "name": "ipython",
    "version": 3
   },
   "file_extension": ".py",
   "mimetype": "text/x-python",
   "name": "python",
   "nbconvert_exporter": "python",
   "pygments_lexer": "ipython3",
   "version": "3.9.16"
  }
 },
 "nbformat": 4,
 "nbformat_minor": 5
}
