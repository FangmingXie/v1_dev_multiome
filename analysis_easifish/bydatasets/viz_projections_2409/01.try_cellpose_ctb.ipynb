{
 "cells": [
  {
   "cell_type": "code",
   "execution_count": null,
   "id": "e782e98b-a96b-49ab-9745-3b08f62111e9",
   "metadata": {
    "tags": []
   },
   "outputs": [],
   "source": [
    "import numpy as np\n",
    "import time, os, sys\n",
    "from urllib.parse import urlparse\n",
    "import matplotlib.pyplot as plt\n",
    "import matplotlib as mpl\n",
    "from PIL import Image\n",
    "\n",
    "# import os\n",
    "# os.environ['KMP_DUPLICATE_LIB_OK']='True'\n",
    "from cellpose import utils, io, plot, models"
   ]
  },
  {
   "cell_type": "code",
   "execution_count": null,
   "id": "47bc017e-36ac-4287-9091-1c36e054fb38",
   "metadata": {
    "tags": []
   },
   "outputs": [],
   "source": [
    "files = [\n",
    "    \"/u/home/f/f7xiesnm/project-zipursky/easifish/results/viz_all_projections_jan29/cdf03_c1-2_bino_r1_autos1_flatfused_c0_s4.tiff\"\n",
    "]\n",
    "filename = files[-1]"
   ]
  },
  {
   "cell_type": "code",
   "execution_count": null,
   "id": "bf36d8ec-752a-4d84-996f-5527adebb6f8",
   "metadata": {
    "tags": []
   },
   "outputs": [],
   "source": [
    "!ls -alht \"/u/home/f/f7xiesnm/project-zipursky/easifish/results/viz_all_projections_jan29\" | head"
   ]
  },
  {
   "cell_type": "code",
   "execution_count": null,
   "id": "89309caf-7b14-46d9-ae56-c1538372ac9f",
   "metadata": {
    "tags": []
   },
   "outputs": [],
   "source": [
    "# view 1 image\n",
    "img = io.imread(files[-1])\n",
    "img = np.array(img)\n",
    "\n",
    "# img_test = np.array(Image.fromarray(img[0])) # .resize((512,512)))\n",
    "print(img.shape)"
   ]
  },
  {
   "cell_type": "code",
   "execution_count": null,
   "id": "6fbb058e-a6da-4cb5-a55d-a35ca8eb978c",
   "metadata": {
    "tags": []
   },
   "outputs": [],
   "source": [
    "fig, ax = plt.subplots(figsize=(10,10))\n",
    "plt.imshow(img[100], vmin=0, vmax=100)"
   ]
  },
  {
   "cell_type": "code",
   "execution_count": null,
   "id": "2184b25f-e1e1-4c81-b5a0-24d48f632ef5",
   "metadata": {
    "tags": []
   },
   "outputs": [],
   "source": [
    "%%time\n",
    "\n",
    "img_test = img[:50, :50, :50]\n",
    "# RUN CELLPOSE\n",
    "\n",
    "model = models.Cellpose(gpu=False, model_type='cyto')  # cyto or nuclei\n",
    "channels = [[0,0]]\n",
    "diameter = 15 # or None\n",
    "\n",
    "masks, flows, styles, diams = model.eval(img_test, diameter=diameter, channels=channels, do_3D=True)\n",
    "\n",
    "# # save results as png\n",
    "io.save_masks(img_test, masks, flows, filename, tif=True, png=False)"
   ]
  },
  {
   "cell_type": "code",
   "execution_count": null,
   "id": "1b2b7830-505b-4645-927b-af327e0bf881",
   "metadata": {
    "tags": []
   },
   "outputs": [],
   "source": [
    "fig, axs = plt.subplots(1, 2, figsize=(20, 10))\n",
    "ax = axs[0]\n",
    "ax.imshow(img_test[50]) # , masks[20])\n",
    "\n",
    "ax = axs[1]\n",
    "ax.imshow(masks[50])\n",
    "\n",
    "# plot.show_segmentation(fig, img[:50, :50, :50], masks, flows[0], channels=channels)\n",
    "plt.tight_layout()\n",
    "plt.show()"
   ]
  },
  {
   "cell_type": "code",
   "execution_count": null,
   "id": "8879b3d3-b8b7-42f8-a96a-0d839defb6ae",
   "metadata": {},
   "outputs": [],
   "source": []
  }
 ],
 "metadata": {
  "kernelspec": {
   "display_name": "cellpose",
   "language": "python",
   "name": "cellpose"
  },
  "language_info": {
   "codemirror_mode": {
    "name": "ipython",
    "version": 3
   },
   "file_extension": ".py",
   "mimetype": "text/x-python",
   "name": "python",
   "nbconvert_exporter": "python",
   "pygments_lexer": "ipython3",
   "version": "3.8.17"
  }
 },
 "nbformat": 4,
 "nbformat_minor": 5
}
