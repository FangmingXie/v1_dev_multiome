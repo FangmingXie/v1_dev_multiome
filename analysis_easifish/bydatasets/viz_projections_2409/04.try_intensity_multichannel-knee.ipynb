{
 "cells": [
  {
   "cell_type": "code",
   "execution_count": null,
   "id": "1edf0682-b1e5-4002-8b0b-793a1617fa9a",
   "metadata": {
    "tags": []
   },
   "outputs": [],
   "source": [
    "import os\n",
    "import numpy as np\n",
    "import pandas as pd\n",
    "from skimage import io, measure\n",
    "import tifffile\n",
    "from kneed import KneeLocator\n",
    "\n",
    "import matplotlib.pyplot as plt\n",
    "import seaborn as sns"
   ]
  },
  {
   "cell_type": "code",
   "execution_count": null,
   "id": "ce587e72-c5f3-4f30-b291-8f88fa19d1d8",
   "metadata": {
    "tags": []
   },
   "outputs": [],
   "source": [
    "ddir1 = \"/u/home/f/f7xiesnm/project-zipursky/easifish/results/viz_all_projections_jan29\"\n",
    "\n",
    "# s3 resolution - to downsamp and rounding\n",
    "f_msk = '/u/home/f/f7xiesnm/project-zipursky/easifish/cdf03_c1-2_bino/outputs/r1/segmentation/r1-c3.tif'\n",
    "msk = io.imread(f_msk)\n",
    "msk = np.array(msk)\n",
    "\n",
    "msk = msk[::2, ::2, ::2]\n",
    "msk = msk[:,:-1,:-1]\n",
    "print(msk.shape)\n",
    "\n",
    "\n",
    "# images \n",
    "dataset_name = 'cdf03_c1-2_bino_r1_autos1_flatfused'\n",
    "channels = ['c0', 'c1', 'c2']\n",
    "\n",
    "all_props = []\n",
    "\n",
    "for ch in channels:\n",
    "    print(ch)\n",
    "    \n",
    "    # image \n",
    "    f_img = os.path.join(ddir1, f'{dataset_name}_{ch}_s4.tiff')\n",
    "\n",
    "    # view 1 image\n",
    "    img = io.imread(f_img)\n",
    "    img = np.array(img)\n",
    "\n",
    "    print(img.shape)\n",
    "    \n",
    "    # measure intensity\n",
    "    props = measure.regionprops_table(msk.astype(int), \n",
    "                                      intensity_image=img,\n",
    "                                      properties=['centroid', 'area', 'mean_intensity']) # , 'max_intensity', 'min_intensity'\n",
    "    props = pd.DataFrame(props)\n",
    "    print(props.shape)\n",
    "\n",
    "\n",
    "    all_props.append(props)"
   ]
  },
  {
   "cell_type": "markdown",
   "id": "d49d871d-9bd5-464c-bb05-378faaf50e30",
   "metadata": {},
   "source": [
    "# check threshold (channel by channel)"
   ]
  },
  {
   "cell_type": "code",
   "execution_count": null,
   "id": "56e0cca5-b880-41e7-94fb-5ee99e88f261",
   "metadata": {
    "tags": []
   },
   "outputs": [],
   "source": [
    "n = len(all_props)+2\n",
    "\n",
    "log2ths = []\n",
    "\n",
    "fig, axs = plt.subplots(1,n,figsize=(n*5,1*4))\n",
    "for i in range(n-2):\n",
    "    ax = axs[i]\n",
    "    props = all_props[i]\n",
    "    \n",
    "    sns.scatterplot(data=props, x='mean_intensity', y='area', s=4, ax=ax)\n",
    "\n",
    "\n",
    "for i, props in enumerate(all_props):\n",
    "    # x y \n",
    "    intn = np.log2(1+props['mean_intensity'].values)\n",
    "    x  = np.sort(intn)\n",
    "    y  = np.arange(len(intn))/len(intn)\n",
    "    \n",
    "    \n",
    "    cond = y > 0.8\n",
    "    kl = KneeLocator(x[cond], y[cond], curve=\"concave\")\n",
    "    \n",
    "    x_elbow = kl.elbow\n",
    "    y_elbow = kl.elbow_y\n",
    "\n",
    "    ax = axs[n-2]\n",
    "    ax.plot(x, y, color=f'C{i}')\n",
    "    ax.plot(x_elbow, y_elbow, 'o', color=f'C{i}')\n",
    "    print(x_elbow, y_elbow)\n",
    "    \n",
    "    ax = axs[n-1]\n",
    "    ax.plot(x[cond], y[cond], color=f'C{i}')\n",
    "    ax.plot(x_elbow, y_elbow, 'o', color=f'C{i}')\n",
    "    \n",
    "    log2ths.append(x_elbow)\n",
    "\n",
    "log2ths = np.array(log2ths)\n",
    "    \n",
    "plt.show()\n"
   ]
  },
  {
   "cell_type": "markdown",
   "id": "adf376af-754f-4b21-a430-0ab0a4236db0",
   "metadata": {},
   "source": [
    "# visualize the masks"
   ]
  },
  {
   "cell_type": "code",
   "execution_count": null,
   "id": "625474bd-60ed-410f-8f10-f5e00e93549a",
   "metadata": {
    "tags": []
   },
   "outputs": [],
   "source": [
    "def masks_to_labeled_masks(msk, labeled_cells):\n",
    "    unq, inv = np.unique(msk.reshape(-1,), return_inverse=True)\n",
    "\n",
    "    for i in unq:\n",
    "        if i not in labeled_cells:\n",
    "            unq[i] = 0\n",
    "\n",
    "    labeled_msk = unq[inv].reshape(msk.shape)\n",
    "    \n",
    "    return labeled_msk"
   ]
  },
  {
   "cell_type": "code",
   "execution_count": null,
   "id": "455f6299-5c02-48e7-bc4e-5abf67d512ab",
   "metadata": {
    "tags": []
   },
   "outputs": [],
   "source": [
    "\n",
    "print(log2ths)\n",
    "thresholds = 2**log2ths-1 # np.array([5, 7, 5])\n",
    "print(thresholds)"
   ]
  },
  {
   "cell_type": "code",
   "execution_count": null,
   "id": "d8a34659-e6af-4569-9da1-3523ea9f6aeb",
   "metadata": {
    "tags": []
   },
   "outputs": [],
   "source": [
    "# keep the masks with high intensity\n",
    "\n",
    "max_cellsize = 1500\n",
    "\n",
    "for ch, props, th in zip(channels, all_props, thresholds):\n",
    "\n",
    "    labeled_cells = 1+props[np.logical_and(props['mean_intensity']>th, props['area']<max_cellsize)].index.values\n",
    "    labeled_masks = masks_to_labeled_masks(msk, labeled_cells)\n",
    "    print(np.unique(labeled_masks).shape)\n",
    "\n",
    "    # # save as tiff\n",
    "    output = os.path.join(ddir1, f'{dataset_name}_{ch}_s4_labeled_masks.tiff')\n",
    "    print(output)\n",
    "    tifffile.imwrite(output, labeled_masks)\n",
    "    \n",
    "    break\n"
   ]
  },
  {
   "cell_type": "code",
   "execution_count": null,
   "id": "ffd47842-0c60-4ccc-bfbf-e4bfeb7ae74d",
   "metadata": {
    "tags": []
   },
   "outputs": [],
   "source": [
    "areas = props.loc[labeled_cells-1, 'area']\n",
    "np.min(areas)"
   ]
  },
  {
   "cell_type": "code",
   "execution_count": null,
   "id": "4af20dab-f241-4979-9b7b-e8f376002d96",
   "metadata": {
    "tags": []
   },
   "outputs": [],
   "source": [
    "sns.histplot(areas) "
   ]
  },
  {
   "cell_type": "code",
   "execution_count": null,
   "id": "8af531df-25ac-4b36-a092-1d261a9aeda4",
   "metadata": {
    "tags": []
   },
   "outputs": [],
   "source": [
    "max_cellsize = 1500\n",
    "min_cellsize = 100\n",
    "\n",
    "for ch, props, th in zip(channels, all_props, thresholds):\n",
    "\n",
    "    labeled_cells = 1+props[np.logical_and(props['mean_intensity']>th, props['area']<min_cellsize)].index.values\n",
    "    labeled_masks = masks_to_labeled_masks(msk, labeled_cells)\n",
    "    print(np.unique(labeled_masks).shape)\n",
    "\n",
    "    # # save as tiff\n",
    "    output = os.path.join(ddir1, f'{dataset_name}_{ch}_s4_labeled_masks_small.tiff')\n",
    "    print(output)\n",
    "    tifffile.imwrite(output, labeled_masks)\n",
    "    \n",
    "    break"
   ]
  },
  {
   "cell_type": "code",
   "execution_count": null,
   "id": "3cde4bf9-3bdb-44df-84ed-baa1be841a01",
   "metadata": {
    "tags": []
   },
   "outputs": [],
   "source": [
    "labeled_cells"
   ]
  },
  {
   "cell_type": "code",
   "execution_count": null,
   "id": "dd34fee6-de86-43a5-857a-a9e04dc49ba5",
   "metadata": {
    "tags": []
   },
   "outputs": [],
   "source": [
    "# # download and viz\n",
    "\n",
    "# rsync -av f7xiesnm@dtn.hoffman2.idre.ucla.edu:/u/home/f/f7xiesnm/project-zipursky/v1-bb/ms_reanalysis/240910 ~/Downloads/"
   ]
  },
  {
   "cell_type": "markdown",
   "id": "4ccf9330-5bdd-465f-86db-a357e4b77b94",
   "metadata": {},
   "source": [
    "# use S3 later - simpler code - more accurate - 8x slower\n",
    "\n",
    "# thresholding can be better"
   ]
  },
  {
   "cell_type": "code",
   "execution_count": null,
   "id": "f3fa5a03-ed6d-4c87-9d0e-29a4f30f1145",
   "metadata": {},
   "outputs": [],
   "source": []
  }
 ],
 "metadata": {
  "kernelspec": {
   "display_name": "Python 3 (ipykernel)",
   "language": "python",
   "name": "python3"
  },
  "language_info": {
   "codemirror_mode": {
    "name": "ipython",
    "version": 3
   },
   "file_extension": ".py",
   "mimetype": "text/x-python",
   "name": "python",
   "nbconvert_exporter": "python",
   "pygments_lexer": "ipython3",
   "version": "3.9.16"
  }
 },
 "nbformat": 4,
 "nbformat_minor": 5
}
