{
 "cells": [
  {
   "cell_type": "code",
   "execution_count": null,
   "id": "1edf0682-b1e5-4002-8b0b-793a1617fa9a",
   "metadata": {
    "tags": []
   },
   "outputs": [],
   "source": [
    "import os\n",
    "import numpy as np\n",
    "import pandas as pd\n",
    "from skimage import io, measure\n",
    "import tifffile\n",
    "from kneed import KneeLocator\n",
    "\n",
    "import matplotlib.pyplot as plt\n",
    "import seaborn as sns"
   ]
  },
  {
   "cell_type": "code",
   "execution_count": null,
   "id": "01ffb55c-eb87-4487-abf2-466900060eb3",
   "metadata": {
    "tags": []
   },
   "outputs": [],
   "source": [
    "import plotly.io as pio\n",
    "pio.renderers.default = 'jupyterlab'\n",
    "import plotly.graph_objs as go"
   ]
  },
  {
   "cell_type": "code",
   "execution_count": null,
   "id": "625474bd-60ed-410f-8f10-f5e00e93549a",
   "metadata": {
    "tags": []
   },
   "outputs": [],
   "source": [
    "def masks_to_labeled_masks(msk, labeled_cells):\n",
    "    unq, inv = np.unique(msk.reshape(-1,), return_inverse=True)\n",
    "\n",
    "    for i in unq:\n",
    "        if i not in labeled_cells:\n",
    "            unq[i] = 0\n",
    "\n",
    "    labeled_msk = unq[inv].reshape(msk.shape)\n",
    "    \n",
    "    return labeled_msk"
   ]
  },
  {
   "cell_type": "code",
   "execution_count": null,
   "id": "9589c306-a721-469d-9818-c58e5dd72076",
   "metadata": {
    "tags": []
   },
   "outputs": [],
   "source": [
    "import sys\n",
    "sys.path.insert(0, '/u/home/f/f7xiesnm/project-zipursky/code/easifish-proc/bydatasets/')\n",
    "from metadata_gene_chan import get_proj_metadata\n",
    "\n",
    "meta = get_proj_metadata()"
   ]
  },
  {
   "cell_type": "code",
   "execution_count": null,
   "id": "ce587e72-c5f3-4f30-b291-8f88fa19d1d8",
   "metadata": {
    "tags": []
   },
   "outputs": [],
   "source": [
    "ddir0 = \"/u/home/f/f7xiesnm/project-zipursky/easifish/cdfv1_c1-2\"\n",
    "ddir1 = \"/u/home/f/f7xiesnm/project-zipursky/easifish/results/viz_all_projections_jan29\"\n",
    "PLUS_ONE = False # False if table indices start from 1 ; True if from 0\n",
    "\n",
    "# s3 resolution - to downsamp and rounding\n",
    "f_msk  = ddir0 + '/outputs/r1/segmentation/r1-c3.tif'\n",
    "f_tbl1 = ddir0 + '/proc/r12/spotcount.csv'\n",
    "f_tbl2 = ddir0 + '/proc/r12/roi.csv'\n",
    "\n",
    "f_img0 = ddir1 + '/cdfv1_c1-2_r1_autos1_flatfused_c0_s4.tiff'\n",
    "\n",
    "metakey = 'cdfv1_c1-2'\n",
    "channels = meta[metakey]['channels']\n",
    "proj_targets = meta[metakey]['proj_targets']\n",
    "colors = meta[metakey]['colors']\n",
    "\n",
    "# S4 image shape\n",
    "img_shape = io.imread(f_img0).shape\n",
    "print(img_shape)\n",
    "\n",
    "msk = io.imread(f_msk)\n",
    "msk = np.array(msk)\n",
    "\n",
    "msk = msk[::2, ::2, ::2]\n",
    "msk = msk[:-1,:,:]\n",
    "print(msk.shape)\n",
    "assert np.all(msk.shape == img_shape)\n",
    "\n",
    "\n",
    "# table\n",
    "props = pd.read_csv(f_tbl1, index_col=0)\n",
    "props2 = pd.read_csv(f_tbl2, index_col=0)\n",
    "props = props.join(props2, how='left')\n",
    "assert np.all(np.unique(msk[msk!=0]) == props.index.values)\n"
   ]
  },
  {
   "cell_type": "code",
   "execution_count": null,
   "id": "90661536-fce3-4e02-bad3-0e9ff18c44df",
   "metadata": {
    "tags": []
   },
   "outputs": [],
   "source": [
    "# # images \n",
    "# dataset_name = 'cdf04_c1-2_bino_r1_autos1_flatfused'\n",
    "# channels = ['c0', 'c1', 'c2']\n",
    "\n",
    "# all_props = []\n",
    "# for ch in channels:\n",
    "#     print(ch)\n",
    "    \n",
    "#     # image \n",
    "#     f_img = os.path.join(ddir1, f'{dataset_name}_{ch}_s4.tiff')\n",
    "\n",
    "#     # view 1 image\n",
    "#     img = io.imread(f_img)\n",
    "#     img = np.array(img)\n",
    "\n",
    "#     # measure intensity\n",
    "#     props = measure.regionprops_table(msk.astype(int), \n",
    "#                                       intensity_image=img,\n",
    "#                                       properties=['centroid', 'area', 'mean_intensity']) # , 'max_intensity', 'min_intensity'\n",
    "#     props = pd.DataFrame(props)\n",
    "#     print(props.shape)\n",
    "\n",
    "#     all_props.append(props)"
   ]
  },
  {
   "cell_type": "markdown",
   "id": "d49d871d-9bd5-464c-bb05-378faaf50e30",
   "metadata": {},
   "source": [
    "# check threshold (channel by channel)"
   ]
  },
  {
   "cell_type": "code",
   "execution_count": null,
   "id": "4d729af4-d29e-450f-891f-cdaff9909821",
   "metadata": {
    "tags": []
   },
   "outputs": [],
   "source": [
    "n = 2\n",
    "log2ths = []\n",
    "\n",
    "fig, axs = plt.subplots(1,n,figsize=(n*5,1*4))\n",
    "for i, ch in enumerate(channels):\n",
    "    color = colors[i]\n",
    "    proj_target = proj_targets[i]\n",
    "    \n",
    "    ax = axs[0]\n",
    "    # x y \n",
    "    intn = np.log2(1+props[ch].values)\n",
    "    x  = np.sort(intn)\n",
    "    y  = np.arange(len(intn))/len(intn)\n",
    "\n",
    "\n",
    "    cond = y > 0.8\n",
    "    kl = KneeLocator(x[cond], y[cond], curve=\"concave\")\n",
    "\n",
    "    x_elbow = kl.elbow\n",
    "    y_elbow = kl.elbow_y\n",
    "    log2ths.append(x_elbow)\n",
    "\n",
    "    ax.plot(x, y, color=color)\n",
    "    ax.plot(x_elbow, y_elbow, 'o', color=color)\n",
    "    print(x_elbow, y_elbow)\n",
    "\n",
    "\n",
    "    ax = axs[1]\n",
    "    ax.plot(x[cond], y[cond], color=color, label=proj_target)\n",
    "    ax.plot(x_elbow, y_elbow, 'o', color=color, )\n",
    "\n",
    "    ax.legend()\n",
    "    \n",
    "log2ths = np.array(log2ths)\n",
    "plt.show()"
   ]
  },
  {
   "cell_type": "markdown",
   "id": "adf376af-754f-4b21-a430-0ab0a4236db0",
   "metadata": {},
   "source": [
    "# visualize the masks"
   ]
  },
  {
   "cell_type": "code",
   "execution_count": null,
   "id": "455f6299-5c02-48e7-bc4e-5abf67d512ab",
   "metadata": {
    "tags": []
   },
   "outputs": [],
   "source": [
    "print(log2ths)\n",
    "thresholds = 2**log2ths-1 # np.array([5, 7, 5])\n",
    "print(thresholds)"
   ]
  },
  {
   "cell_type": "code",
   "execution_count": null,
   "id": "d8a34659-e6af-4569-9da1-3523ea9f6aeb",
   "metadata": {
    "tags": []
   },
   "outputs": [],
   "source": [
    "# keep the masks with high intensity\n",
    "\n",
    "for ch, th in zip(channels, thresholds):\n",
    "\n",
    "    if PLUS_ONE:\n",
    "        labeled_cells = 1+props[props[ch]>th].index.values #, props['area']<max_cellsize)].index.values\n",
    "    else:\n",
    "        labeled_cells = props[props[ch]>th].index.values #, props['area']<max_cellsize)].index.values\n",
    "        \n",
    "    labeled_masks = masks_to_labeled_masks(msk, labeled_cells)\n",
    "    print(np.unique(labeled_masks).shape)\n",
    "\n",
    "    # # save as tiff\n",
    "    output = f_img0.replace('_c0_', f'_{ch}_').replace('.tiff', '_labeled_masks_countbased.tiff') \n",
    "    print(output)\n",
    "    tifffile.imwrite(output, labeled_masks)\n",
    "    \n"
   ]
  },
  {
   "cell_type": "code",
   "execution_count": null,
   "id": "dd34fee6-de86-43a5-857a-a9e04dc49ba5",
   "metadata": {
    "tags": []
   },
   "outputs": [],
   "source": [
    "# # download and viz\n",
    "\n",
    "# rsync -av f7xiesnm@dtn.hoffman2.idre.ucla.edu:/u/home/f/f7xiesnm/project-zipursky/v1-bb/ms_reanalysis/240910 ~/Downloads/"
   ]
  },
  {
   "cell_type": "markdown",
   "id": "e722a62b-368e-4a6a-a762-018738fa8244",
   "metadata": {},
   "source": [
    "# Visualize the dots "
   ]
  },
  {
   "cell_type": "code",
   "execution_count": null,
   "id": "c4e3defe-6131-43d5-98c6-9c5e9b7c456c",
   "metadata": {},
   "outputs": [],
   "source": [
    "# plotly 3D\n",
    "\n",
    "traces = []\n",
    "\n",
    "allprops = props # .index.values # props['area']<max_cellsize)].index.values\n",
    "allx = props['x'].values\n",
    "ally = props['y'].values\n",
    "allz = props['z'].values\n",
    "\n",
    "trace = go.Scatter3d(x=allx, y=ally, z=allz, mode='markers',\n",
    "                     marker=dict(size=2, color='lightgray', opacity=0.5))\n",
    "traces.append(trace)\n",
    "\n",
    "for i, (ch, th) in enumerate(zip(channels, thresholds)):\n",
    "    labeled_props = props[props[ch]>th] # .index.values # props['area']<max_cellsize)].index.values\n",
    "    x = labeled_props['x'].values\n",
    "    y = labeled_props['y'].values\n",
    "    z = labeled_props['z'].values\n",
    "    color = colors[i]\n",
    "    \n",
    "    trace = go.Scatter3d(x=x, y=y, z=z, mode='markers',\n",
    "                         marker=dict(size=3, color=color, opacity=0.5))\n",
    "    traces.append(trace)\n",
    "    \n",
    "layout = go.Layout(title='',\n",
    "                   scene=dict(\n",
    "                       xaxis=dict(showgrid=False, backgroundcolor='rgba(0,0,0,0)'),\n",
    "                       yaxis=dict(showgrid=False, backgroundcolor='rgba(0,0,0,0)'),\n",
    "                       zaxis=dict(showgrid=False, backgroundcolor='rgba(0,0,0,0)'),\n",
    "                       xaxis_title='x', yaxis_title='y', zaxis_title='z',\n",
    "                   ), \n",
    "                   scene_dragmode='orbit',\n",
    "                  )\n",
    "\n",
    "fig = go.Figure(data=traces, layout=layout)\n",
    "fig.write_html(\"figure.html\")\n",
    "fig.show()"
   ]
  },
  {
   "cell_type": "markdown",
   "id": "e6af3844-dc26-42b7-b24a-7d233c639e81",
   "metadata": {},
   "source": [
    "# quants and stats"
   ]
  },
  {
   "cell_type": "code",
   "execution_count": null,
   "id": "8eb6d4d1-28c7-4444-88a5-68cc8d05b72f",
   "metadata": {
    "tags": []
   },
   "outputs": [],
   "source": [
    "# bin spatial\n",
    "stepsize_xy = 40\n",
    "stepsize_z  = 20\n",
    "\n",
    "xmax = allprops['x'].max()\n",
    "ymax = allprops['y'].max()\n",
    "zmax = allprops['z'].max()\n",
    "\n",
    "xbins = np.arange(0, xmax+stepsize_xy, stepsize_xy)\n",
    "ybins = np.arange(0, ymax+stepsize_xy, stepsize_xy)\n",
    "zbins = np.arange(0, zmax+stepsize_z , stepsize_z)\n",
    "\n",
    "# bin intensity (for binary label) \n",
    "for i, (ch, proj_target) in enumerate(zip(channels, proj_targets)): \n",
    "    allprops[proj_target] = (allprops[ch] > thresholds[i]).astype(int)"
   ]
  },
  {
   "cell_type": "markdown",
   "id": "efac4bd6-2762-4c1a-a1a1-906a1a983d55",
   "metadata": {},
   "source": [
    "# along Z"
   ]
  },
  {
   "cell_type": "code",
   "execution_count": null,
   "id": "8e7703f5-4065-426f-b101-40d5081d59cd",
   "metadata": {
    "tags": []
   },
   "outputs": [],
   "source": [
    "fig, axs = plt.subplots(1, 2, figsize=(2*5,1*4))\n",
    "ax = axs[0]\n",
    "sns.histplot(data=allprops['z'], bins=zbins, color='lightgray', \n",
    "             element='step', fill=False,\n",
    "             label='cytoDAPI',\n",
    "             ax=ax,\n",
    "            )\n",
    "sns.histplot(data=allprops.loc[np.sum(allprops[proj_targets], axis=1)>0, 'z'], bins=zbins, color='black',\n",
    "             element='step', fill=False,\n",
    "             label='projection labeled',\n",
    "             ax=ax,\n",
    "            )\n",
    "ax.legend()\n",
    "sns.despine(ax=ax)\n",
    "\n",
    "ax = axs[1]\n",
    "for i, target in enumerate(proj_targets):\n",
    "    sns.histplot(data=allprops.loc[allprops[target]>0, 'z'], bins=zbins, color=colors[i], \n",
    "                 element='step', fill=False,\n",
    "                 label=target,\n",
    "                 ax=ax,\n",
    "                )\n",
    "ax.legend()\n",
    "sns.despine(ax=ax)\n",
    "plt.show()\n"
   ]
  },
  {
   "cell_type": "markdown",
   "id": "dbfbd1ed-54ba-4511-8162-ad146808e83c",
   "metadata": {},
   "source": [
    "# along XY"
   ]
  },
  {
   "cell_type": "code",
   "execution_count": null,
   "id": "ae94964d-e1fc-4ec1-be98-e5b3fb5a7b64",
   "metadata": {
    "tags": []
   },
   "outputs": [],
   "source": [
    "fig, axs = plt.subplots(1, 2, figsize=(2*5,1*4))\n",
    "ax = axs[0]\n",
    "label = 'cytoDAPI labeled'\n",
    "sns.histplot(data=allprops, \n",
    "             x='x', y='y', bins=[xbins, ybins], \n",
    "             element='step', fill=False,\n",
    "             cmap='gray_r',\n",
    "             cbar=True, cbar_kws={'shrink': 0.5},\n",
    "             ax=ax,\n",
    "            )\n",
    "ax.set_aspect('equal')\n",
    "sns.despine(ax=ax)\n",
    "ax.set_title(label)\n",
    "\n",
    "ax = axs[1]\n",
    "label = 'projection labeled'\n",
    "sns.histplot(data=allprops.loc[np.sum(allprops[proj_targets], axis=1)>0], \n",
    "             x='x', y='y', bins=[xbins, ybins], \n",
    "             element='step', fill=False,\n",
    "             cmap='gray_r',\n",
    "             cbar=True, cbar_kws={'shrink': 0.5},\n",
    "             ax=ax,\n",
    "            )\n",
    "ax.set_aspect('equal')\n",
    "sns.despine(ax=ax)\n",
    "ax.set_title(label)\n",
    "plt.show()\n",
    "\n",
    "n = len(channels)\n",
    "fig, axs = plt.subplots(1, n, figsize=(n*5,1*4))\n",
    "for i, target in enumerate(proj_targets):\n",
    "    ax = axs[i]\n",
    "    color = colors[i]\n",
    "    sns.histplot(data=allprops.loc[allprops[target]>0], \n",
    "                 x='x', y='y', bins=[xbins, ybins], \n",
    "                 element='step', fill=False,\n",
    "                 cmap=f'{color[0].upper()}{color[1:]}s', \n",
    "                 cbar=True, cbar_kws={'shrink': 0.5},\n",
    "                 ax=ax,\n",
    "                )\n",
    "    ax.set_aspect('equal')\n",
    "    sns.despine(ax=ax)\n",
    "    ax.set_title(target)\n",
    "plt.show()"
   ]
  },
  {
   "cell_type": "code",
   "execution_count": null,
   "id": "2a872823-500d-4260-bfce-c4e62e7f3ef3",
   "metadata": {},
   "outputs": [],
   "source": []
  }
 ],
 "metadata": {
  "kernelspec": {
   "display_name": "napari",
   "language": "python",
   "name": "napari"
  },
  "language_info": {
   "codemirror_mode": {
    "name": "ipython",
    "version": 3
   },
   "file_extension": ".py",
   "mimetype": "text/x-python",
   "name": "python",
   "nbconvert_exporter": "python",
   "pygments_lexer": "ipython3",
   "version": "3.9.16"
  }
 },
 "nbformat": 4,
 "nbformat_minor": 5
}
