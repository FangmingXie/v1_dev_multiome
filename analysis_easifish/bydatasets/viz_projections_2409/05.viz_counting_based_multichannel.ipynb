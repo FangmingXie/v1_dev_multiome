{
 "cells": [
  {
   "cell_type": "code",
   "execution_count": null,
   "id": "1edf0682-b1e5-4002-8b0b-793a1617fa9a",
   "metadata": {
    "tags": []
   },
   "outputs": [],
   "source": [
    "import os\n",
    "import numpy as np\n",
    "import pandas as pd\n",
    "from skimage import io, measure\n",
    "import tifffile\n",
    "from kneed import KneeLocator\n",
    "\n",
    "import matplotlib.pyplot as plt\n",
    "import seaborn as sns"
   ]
  },
  {
   "cell_type": "code",
   "execution_count": null,
   "id": "ce587e72-c5f3-4f30-b291-8f88fa19d1d8",
   "metadata": {
    "tags": []
   },
   "outputs": [],
   "source": [
    "ddir1 = \"/u/home/f/f7xiesnm/project-zipursky/easifish/results/viz_all_projections_jan29\"\n",
    "PLUS_ONE = False # False if table indices start from 1 ; True if from 0\n",
    "\n",
    "# s3 resolution - to downsamp and rounding\n",
    "f_msk = '/u/home/f/f7xiesnm/project-zipursky/easifish/cdf03_c1-2_bino/outputs/r1/segmentation/r1-c3.tif'\n",
    "msk = io.imread(f_msk)\n",
    "msk = np.array(msk)\n",
    "\n",
    "msk = msk[::2, ::2, ::2]\n",
    "msk = msk[:,:-1,:-1]\n",
    "print(msk.shape)\n",
    "\n",
    "\n",
    "# # images \n",
    "dataset_name = 'cdf03_c1-2_bino_r1_autos1_flatfused'\n",
    "# channels = ['c0', 'c1', 'c2']\n",
    "\n",
    "# all_props = []\n",
    "\n",
    "# for ch in channels:\n",
    "#     print(ch)\n",
    "    \n",
    "#     # image \n",
    "#     f_img = os.path.join(ddir1, f'{dataset_name}_{ch}_s4.tiff')\n",
    "\n",
    "#     # view 1 image\n",
    "#     img = io.imread(f_img)\n",
    "#     img = np.array(img)\n",
    "\n",
    "#     print(img.shape)\n",
    "    \n",
    "#     # measure intensity\n",
    "#     props = measure.regionprops_table(msk.astype(int), \n",
    "#                                       intensity_image=img,\n",
    "#                                       properties=['centroid', 'area', 'mean_intensity']) # , 'max_intensity', 'min_intensity'\n",
    "#     props = pd.DataFrame(props)\n",
    "#     print(props.shape)\n",
    "\n",
    "#     all_props.append(props)\n",
    "\n",
    "\n",
    "# table\n",
    "f_tbl1 = '/u/home/f/f7xiesnm/project-zipursky/easifish/cdf03_c1-2_bino/proc/r1-v1/spotcount.csv'\n",
    "f_tbl2 = '/u/home/f/f7xiesnm/project-zipursky/easifish/cdf03_c1-2_bino/proc/r1-v1/roi.csv'\n",
    "props = pd.read_csv(f_tbl1, index_col=0)\n",
    "props2 = pd.read_csv(f_tbl2, index_col=0)\n",
    "props = props.join(props2, how='left')\n",
    "props\n"
   ]
  },
  {
   "cell_type": "code",
   "execution_count": null,
   "id": "99e5cadb-635b-4a5f-9b10-e904e56a1f52",
   "metadata": {
    "tags": []
   },
   "outputs": [],
   "source": [
    "np.unique(msk[msk!=0])"
   ]
  },
  {
   "cell_type": "markdown",
   "id": "d49d871d-9bd5-464c-bb05-378faaf50e30",
   "metadata": {},
   "source": [
    "# check threshold (channel by channel)"
   ]
  },
  {
   "cell_type": "code",
   "execution_count": null,
   "id": "4d729af4-d29e-450f-891f-cdaff9909821",
   "metadata": {
    "tags": []
   },
   "outputs": [],
   "source": [
    "n = 2\n",
    "channels = ['r1_c0', 'r1_c1', 'r1_c2']\n",
    "log2ths = []\n",
    "\n",
    "\n",
    "fig, axs = plt.subplots(1,n,figsize=(n*5,1*4))\n",
    "for i, ch in enumerate(channels):\n",
    "    ax = axs[0]\n",
    "    # x y \n",
    "    intn = np.log2(1+props[ch].values)\n",
    "    x  = np.sort(intn)\n",
    "    y  = np.arange(len(intn))/len(intn)\n",
    "\n",
    "\n",
    "    cond = y > 0.8\n",
    "    kl = KneeLocator(x[cond], y[cond], curve=\"concave\")\n",
    "\n",
    "    x_elbow = kl.elbow\n",
    "    y_elbow = kl.elbow_y\n",
    "    log2ths.append(x_elbow)\n",
    "\n",
    "    ax.plot(x, y, color=f'C{i}')\n",
    "    ax.plot(x_elbow, y_elbow, 'o', color=f'C{i}')\n",
    "    print(x_elbow, y_elbow)\n",
    "\n",
    "\n",
    "    ax = axs[1]\n",
    "    ax.plot(x[cond], y[cond], color=f'C{i}')\n",
    "    ax.plot(x_elbow, y_elbow, 'o', color=f'C{i}')\n",
    "\n",
    "log2ths = np.array(log2ths)\n",
    "    \n",
    "plt.show()"
   ]
  },
  {
   "cell_type": "markdown",
   "id": "adf376af-754f-4b21-a430-0ab0a4236db0",
   "metadata": {},
   "source": [
    "# visualize the masks"
   ]
  },
  {
   "cell_type": "code",
   "execution_count": null,
   "id": "625474bd-60ed-410f-8f10-f5e00e93549a",
   "metadata": {
    "tags": []
   },
   "outputs": [],
   "source": [
    "def masks_to_labeled_masks(msk, labeled_cells):\n",
    "    unq, inv = np.unique(msk.reshape(-1,), return_inverse=True)\n",
    "\n",
    "    for i in unq:\n",
    "        if i not in labeled_cells:\n",
    "            unq[i] = 0\n",
    "\n",
    "    labeled_msk = unq[inv].reshape(msk.shape)\n",
    "    \n",
    "    return labeled_msk"
   ]
  },
  {
   "cell_type": "code",
   "execution_count": null,
   "id": "455f6299-5c02-48e7-bc4e-5abf67d512ab",
   "metadata": {
    "tags": []
   },
   "outputs": [],
   "source": [
    "\n",
    "print(log2ths)\n",
    "thresholds = 2**log2ths-1 # np.array([5, 7, 5])\n",
    "print(thresholds)"
   ]
  },
  {
   "cell_type": "code",
   "execution_count": null,
   "id": "d8a34659-e6af-4569-9da1-3523ea9f6aeb",
   "metadata": {
    "tags": []
   },
   "outputs": [],
   "source": [
    "# keep the masks with high intensity\n",
    "\n",
    "for ch, th in zip(channels, thresholds):\n",
    "\n",
    "    if PLUS_ONE:\n",
    "        labeled_cells = 1+props[props[ch]>th].index.values #, props['area']<max_cellsize)].index.values\n",
    "    else:\n",
    "        labeled_cells = props[props[ch]>th].index.values #, props['area']<max_cellsize)].index.values\n",
    "        \n",
    "    labeled_masks = masks_to_labeled_masks(msk, labeled_cells)\n",
    "    print(np.unique(labeled_masks).shape)\n",
    "\n",
    "    # # # save as tiff\n",
    "    # output = os.path.join(ddir1, f'{dataset_name}_{ch}_s4_labeled_masks_countbased.tiff')\n",
    "    # print(output)\n",
    "    # tifffile.imwrite(output, labeled_masks)\n",
    "    \n",
    "    # break\n"
   ]
  },
  {
   "cell_type": "code",
   "execution_count": null,
   "id": "dd34fee6-de86-43a5-857a-a9e04dc49ba5",
   "metadata": {
    "tags": []
   },
   "outputs": [],
   "source": [
    "# # download and viz\n",
    "\n",
    "# rsync -av f7xiesnm@dtn.hoffman2.idre.ucla.edu:/u/home/f/f7xiesnm/project-zipursky/v1-bb/ms_reanalysis/240910 ~/Downloads/"
   ]
  },
  {
   "cell_type": "markdown",
   "id": "e722a62b-368e-4a6a-a762-018738fa8244",
   "metadata": {},
   "source": [
    "# Visualize the dots "
   ]
  },
  {
   "cell_type": "code",
   "execution_count": null,
   "id": "01ffb55c-eb87-4487-abf2-466900060eb3",
   "metadata": {
    "tags": []
   },
   "outputs": [],
   "source": [
    "import plotly.io as pio\n",
    "pio.renderers.default = 'jupyterlab'\n",
    "import plotly.graph_objs as go"
   ]
  },
  {
   "cell_type": "code",
   "execution_count": null,
   "id": "c4e3defe-6131-43d5-98c6-9c5e9b7c456c",
   "metadata": {},
   "outputs": [],
   "source": [
    "# plotly 3D\n",
    "\n",
    "colors = ['red', 'green', 'blue']\n",
    "traces = []\n",
    "\n",
    "allprops = props # .index.values # props['area']<max_cellsize)].index.values\n",
    "allx = props['x'].values\n",
    "ally = props['y'].values\n",
    "allz = props['z'].values\n",
    "\n",
    "trace = go.Scatter3d(x=allx, y=ally, z=allz, mode='markers',\n",
    "                     marker=dict(size=2, color='lightgray', opacity=0.5))\n",
    "traces.append(trace)\n",
    "\n",
    "for i, (ch, th) in enumerate(zip(channels, thresholds)):\n",
    "    labeled_props = props[props[ch]>th] # .index.values # props['area']<max_cellsize)].index.values\n",
    "    x = labeled_props['x'].values\n",
    "    y = labeled_props['y'].values\n",
    "    z = labeled_props['z'].values\n",
    "    color = colors[i]\n",
    "    \n",
    "    trace = go.Scatter3d(x=x, y=y, z=z, mode='markers',\n",
    "                         marker=dict(size=3, color=color, opacity=0.5))\n",
    "    traces.append(trace)\n",
    "    \n",
    "layout = go.Layout(title='',\n",
    "                   scene=dict(\n",
    "                       xaxis=dict(showgrid=False, backgroundcolor='rgba(0,0,0,0)'),\n",
    "                       yaxis=dict(showgrid=False, backgroundcolor='rgba(0,0,0,0)'),\n",
    "                       zaxis=dict(showgrid=False, backgroundcolor='rgba(0,0,0,0)'),\n",
    "                       xaxis_title='x', yaxis_title='y', zaxis_title='z',\n",
    "                   ), \n",
    "                   scene_dragmode='orbit',\n",
    "                  )\n",
    "\n",
    "fig = go.Figure(data=traces, layout=layout)\n",
    "fig.write_html(\"figure.html\")\n",
    "fig.show()"
   ]
  },
  {
   "cell_type": "markdown",
   "id": "e6af3844-dc26-42b7-b24a-7d233c639e81",
   "metadata": {},
   "source": [
    "# quants and stats"
   ]
  },
  {
   "cell_type": "code",
   "execution_count": null,
   "id": "8eb6d4d1-28c7-4444-88a5-68cc8d05b72f",
   "metadata": {
    "tags": []
   },
   "outputs": [],
   "source": [
    "allprops['LM']    = (allprops['r1_c0'] > thresholds[0]).astype(int)\n",
    "allprops['AM/PM'] = (allprops['r1_c1'] > thresholds[1]).astype(int)\n",
    "allprops['RL']    = (allprops['r1_c2'] > thresholds[2]).astype(int)\n",
    "\n",
    "allprops"
   ]
  },
  {
   "cell_type": "code",
   "execution_count": null,
   "id": "f3fa5a03-ed6d-4c87-9d0e-29a4f30f1145",
   "metadata": {},
   "outputs": [],
   "source": [
    "allprops[['x', 'y', 'z']].describe()"
   ]
  },
  {
   "cell_type": "markdown",
   "id": "efac4bd6-2762-4c1a-a1a1-906a1a983d55",
   "metadata": {},
   "source": [
    "# along Z"
   ]
  },
  {
   "cell_type": "code",
   "execution_count": null,
   "id": "c70227f0-a9c0-46f3-8fcf-385b414aa9a5",
   "metadata": {
    "tags": []
   },
   "outputs": [],
   "source": [
    "zbins = np.linspace(0,  460,  int(460/20)+1)\n",
    "xbins = np.linspace(0, 1000, int(1000/40)+1)\n",
    "ybins = np.linspace(0,  860,  int(860/40)+1)\n",
    "\n",
    "zbins, xbins, ybins"
   ]
  },
  {
   "cell_type": "code",
   "execution_count": null,
   "id": "8e7703f5-4065-426f-b101-40d5081d59cd",
   "metadata": {
    "tags": []
   },
   "outputs": [],
   "source": [
    "proj_targets = ['LM', 'AM/PM', 'RL']\n",
    "\n",
    "fig, axs = plt.subplots(1, 2, figsize=(2*5,1*4))\n",
    "ax = axs[0]\n",
    "sns.histplot(data=allprops['z'], bins=zbins, color='lightgray', \n",
    "             element='step', fill=False,\n",
    "             label='cytoDAPI',\n",
    "             ax=ax,\n",
    "            )\n",
    "sns.histplot(data=allprops.loc[np.sum(allprops[proj_targets], axis=1)>0, 'z'], bins=zbins, color='black',\n",
    "             element='step', fill=False,\n",
    "             label='projection labeled',\n",
    "             ax=ax,\n",
    "            )\n",
    "ax.legend()\n",
    "sns.despine(ax=ax)\n",
    "\n",
    "ax = axs[1]\n",
    "for i, target in enumerate(proj_targets):\n",
    "    sns.histplot(data=allprops.loc[allprops[target]>0, 'z'], bins=zbins, color=colors[i], \n",
    "                 element='step', fill=False,\n",
    "                 label=target,\n",
    "                 ax=ax,\n",
    "                )\n",
    "ax.legend()\n",
    "sns.despine(ax=ax)\n",
    "plt.show()\n"
   ]
  },
  {
   "cell_type": "markdown",
   "id": "dbfbd1ed-54ba-4511-8162-ad146808e83c",
   "metadata": {},
   "source": [
    "# along XY"
   ]
  },
  {
   "cell_type": "code",
   "execution_count": null,
   "id": "ae94964d-e1fc-4ec1-be98-e5b3fb5a7b64",
   "metadata": {
    "tags": []
   },
   "outputs": [],
   "source": [
    "fig, axs = plt.subplots(1, 2, figsize=(2*5,1*4))\n",
    "ax = axs[0]\n",
    "label = 'cytoDAPI'\n",
    "sns.histplot(data=allprops, \n",
    "             x='x', y='y', bins=[xbins, ybins], \n",
    "             element='step', fill=False,\n",
    "             cmap='gray_r',\n",
    "             cbar=True, cbar_kws={'shrink': 0.5},\n",
    "             ax=ax,\n",
    "            )\n",
    "ax.set_aspect('equal')\n",
    "sns.despine(ax=ax)\n",
    "ax.set_title(label)\n",
    "\n",
    "ax = axs[1]\n",
    "label = 'projection labeled'\n",
    "sns.histplot(data=allprops.loc[np.sum(allprops[proj_targets], axis=1)>0], \n",
    "             x='x', y='y', bins=[xbins, ybins], \n",
    "             element='step', fill=False,\n",
    "             cmap='gray_r',\n",
    "             cbar=True, cbar_kws={'shrink': 0.5},\n",
    "             ax=ax,\n",
    "            )\n",
    "ax.set_aspect('equal')\n",
    "sns.despine(ax=ax)\n",
    "ax.set_title(label)\n",
    "plt.show()\n",
    "\n",
    "fig, axs = plt.subplots(1, 3, figsize=(3*5,1*4))\n",
    "for i, target in enumerate(proj_targets):\n",
    "    ax = axs[i]\n",
    "    color = colors[i]\n",
    "    sns.histplot(data=allprops.loc[allprops[target]>0], \n",
    "                 x='x', y='y', bins=[xbins, ybins], \n",
    "                 element='step', fill=False,\n",
    "                 cmap=f'{color[0].upper()}{color[1:]}s', \n",
    "                 cbar=True, cbar_kws={'shrink': 0.5},\n",
    "                 ax=ax,\n",
    "                )\n",
    "    ax.set_aspect('equal')\n",
    "    sns.despine(ax=ax)\n",
    "    ax.set_title(target)\n",
    "plt.show()"
   ]
  },
  {
   "cell_type": "code",
   "execution_count": null,
   "id": "3aaf256f-3d07-4a90-9101-7c1ae6866900",
   "metadata": {},
   "outputs": [],
   "source": []
  }
 ],
 "metadata": {
  "kernelspec": {
   "display_name": "napari",
   "language": "python",
   "name": "napari"
  },
  "language_info": {
   "codemirror_mode": {
    "name": "ipython",
    "version": 3
   },
   "file_extension": ".py",
   "mimetype": "text/x-python",
   "name": "python",
   "nbconvert_exporter": "python",
   "pygments_lexer": "ipython3",
   "version": "3.9.16"
  }
 },
 "nbformat": 4,
 "nbformat_minor": 5
}
