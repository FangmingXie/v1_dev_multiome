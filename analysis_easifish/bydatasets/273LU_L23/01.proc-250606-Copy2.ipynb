{
 "cells": [
  {
   "cell_type": "code",
   "execution_count": null,
   "id": "b3becb0f",
   "metadata": {
    "tags": []
   },
   "outputs": [],
   "source": [
    "import os, sys\n",
    "sys.path.append('../../')\n",
    "from os.path import abspath, dirname\n",
    "import zarr\n",
    "import z5py\n",
    "import numpy as np\n",
    "import pandas as pd\n",
    "from glob import glob \n",
    "from skimage.measure import regionprops\n",
    "from skimage.io import imread, imsave\n",
    "from scipy import stats\n",
    "from scipy.stats import skewnorm, lognorm\n",
    "from scipy.optimize import minimize\n",
    "import itertools\n",
    "import collections\n",
    "\n",
    "from easi_fish import n5_metadata_utils as n5mu\n",
    "from easi_fish import roi_prop, spot, intensity\n",
    "import warnings\n",
    "warnings.filterwarnings('ignore')\n",
    "\n",
    "import importlib\n",
    "importlib.reload(spot)\n",
    "importlib.reload(roi_prop)\n",
    "importlib.reload(intensity)"
   ]
  },
  {
   "cell_type": "code",
   "execution_count": null,
   "id": "3d8d47bc-7198-4dd5-9e7a-192c20214bf5",
   "metadata": {
    "tags": []
   },
   "outputs": [],
   "source": [
    "import matplotlib.pyplot as plt\n",
    "import seaborn as sns"
   ]
  },
  {
   "cell_type": "code",
   "execution_count": null,
   "id": "7bfea4a2-050a-4ae9-9b92-c030a5c7eadd",
   "metadata": {
    "tags": []
   },
   "outputs": [],
   "source": [
    "from IPython.display import set_matplotlib_formats\n",
    "set_matplotlib_formats('retina')\n",
    "\n",
    "sns.set_style('white', rc={'axes.grid':True})\n",
    "sns.set_context('talk')"
   ]
  },
  {
   "cell_type": "markdown",
   "id": "288d5d2b-eb54-4aa8-885f-16f68ed8c9a8",
   "metadata": {},
   "source": [
    "Spot counts for cells with highly expressed genes (dense spots)\n",
    "1. Measure total intensity of every ROI after bleed-through correction and background subtraction.\n",
    "2. Calculate the number of spot from total intensity based on unit-spot intensity\n",
    "3. Correlate the number of spots (from air-localize) with the total fluorescence intensity/voxel in each ROI and determine a 'cutoff'. \n",
    "   Spot count > cutoff: use spot count converted based on total fluorescence intensity; \n",
    "   Spot count < cutoff: use spot count from Airlocalize"
   ]
  },
  {
   "cell_type": "markdown",
   "id": "6278a8d4-b2d9-47e0-b1bf-1da0c98b3164",
   "metadata": {},
   "source": [
    "### On units\n",
    "- all images are based on pixel units - \n",
    "- roi meta file (output) are based on physical unit (um - pre-expansion)\n",
    "- spots files are in um (post-expansion)"
   ]
  },
  {
   "cell_type": "code",
   "execution_count": null,
   "id": "d3d89d9a",
   "metadata": {
    "tags": []
   },
   "outputs": [],
   "source": [
    "## input\n",
    "\n",
    "# theround = 'r2'\n",
    "# rounds = [theround]\n",
    "# channels = ['c0', 'c1', 'c2', 'c4']\n",
    "\n",
    "ddir = '/u/home/f/f7xiesnm/project-zipursky/easifish/296LURU'\n",
    "!mkdir -p $ddir/proc\n",
    "output_dir = ddir + '/proc/tile0_v1'\n",
    "\n",
    "fix_round = 'tile0'\n",
    "mov_rounds = [] # 'r1v3', 'r2v3', 'r4v3', 'r5v3']\n",
    "round_channels = collections.OrderedDict({\n",
    "    'tile0': ('c0', 'c1', 'c2', 'c4'),\n",
    "})\n",
    "\n",
    "dapi_channel = 'c3' # _reg' # for \n",
    "lb_scale = 's3'\n",
    "lb_res = [1.84,1.84,1.68]\n",
    "ex = 2\n",
    "\n",
    "# images\n",
    "subpath     =   '/c3/s3' \n",
    "# subpath_reg =   '/c3_reg/s3' \n",
    "fix_dir  =  ddir + f\"/outputs/{fix_round}/stitching/export.n5\"\n",
    "lb_dir  =   ddir + f\"/outputs/{fix_round}/segmentation/{fix_round}-c3.tif\"\n",
    "reg_dirs = [\n",
    "    # ddir + f\"/outputs/r1v3/registration/r1v3-to-r3v3/warped\",\n",
    "    # ddir + f\"/outputs/r2v3/registration/r2v3-to-r3v3/warped\",\n",
    "    # ddir + f\"/outputs/r4v3/registration/r4v3-to-r3v3/warped\",\n",
    "    # ddir + f\"/outputs/r5v3/registration/r5v3-to-r3v3/warped\",\n",
    "    ]\n",
    "\n",
    "fx_spots = [\n",
    "    ddir + f'/outputs/tile0/spots/spots_c0.txt',\n",
    "    ddir + f'/outputs/tile0/spots/spots_c1.txt',\n",
    "    ddir + f'/outputs/tile0/spots/spots_c2.txt',\n",
    "    ddir + f'/outputs/tile0/spots/spots_c4.txt',\n",
    "]\n",
    "\n",
    "intn_threshs = [20]*len(fx_spots)\n",
    "    \n",
    "for f in fx_spots:\n",
    "    assert os.path.isfile(f)\n",
    "# for f in fx_intns:\n",
    "#     assert os.path.isfile(f)\n",
    "\n",
    "## output\n",
    "out_badroi = os.path.join(output_dir, 'bad_roi_list.npy')\n",
    "out_allroi = os.path.join(output_dir, \"roi_all.csv\") \n",
    "out_roi = os.path.join(output_dir, \"roi.csv\") \n",
    "out_spots = os.path.join(output_dir, \"spotcount.csv\")"
   ]
  },
  {
   "cell_type": "code",
   "execution_count": null,
   "id": "06c53b42-c8ad-4379-a404-dc87fc9f933b",
   "metadata": {
    "tags": []
   },
   "outputs": [],
   "source": [
    "REMOVE_BLEEDTHRU = False\n",
    "\n",
    "# remove bleed through!\n",
    "if REMOVE_BLEEDTHRU:\n",
    "    \n",
    "    bleed_thru_epsilon = 1\n",
    "    c_qry = 'c0'\n",
    "    c_ref = 'c4'\n",
    "\n",
    "    f_ref = ddir+f'/outputs/{theround}/spots/spots_{c_ref}.txt'\n",
    "    f_qry = ddir+f'/outputs/{theround}/spots/spots_{c_qry}.txt'\n",
    "    f_qry_kept = os.path.join(output_dir, f'kept_spots_{theround}_{c_qry}.txt')\n",
    "\n",
    "    ref_dots = np.loadtxt(f_ref, delimiter=',')\n",
    "    qry_dots = np.loadtxt(f_qry, delimiter=',')\n",
    "    qry_kept, qry_removed = spot.remove_bleed_thru_spots(ref_dots, qry_dots, epsilon=bleed_thru_epsilon)\n",
    "\n",
    "    # save \n",
    "    np.savetxt(f_qry_kept, qry_kept, delimiter=\",\")\n",
    "    \n",
    "    ### TODO - replace f_qry with f_qry_kept in spot list"
   ]
  },
  {
   "cell_type": "code",
   "execution_count": null,
   "id": "698b1837",
   "metadata": {
    "tags": []
   },
   "outputs": [],
   "source": [
    "%%time\n",
    "# output dir\n",
    "if not os.path.isdir(output_dir):\n",
    "    print(output_dir)\n",
    "    os.mkdir(output_dir)\n",
    "    \n",
    "# image size in pixel (x, y, z)\n",
    "grid = n5mu.read_voxel_grid(fix_dir, subpath)\n",
    "# voxel resolution in µm (x, y, z) (post-expansion)\n",
    "vox  = n5mu.read_voxel_spacing(fix_dir, subpath)\n",
    "# image size in physical space (x, y, z) (post-expansion)\n",
    "size = grid*vox\n",
    "print('subpath: ', subpath)\n",
    "print('voxel size: ', vox)\n",
    "print('image size (pixel): ', grid)\n",
    "print('image size (um post-ex): ', size)\n",
    "\n",
    "# get image data\n",
    "# print(\"loading images...\")\n",
    "# fix = zarr.open(store=zarr.N5Store(fix_dir), mode='r')     \n",
    "# img1 = fix[subpath][:, :, :]\n",
    "\n",
    "# get segmentation mask\n",
    "lb = imread(lb_dir)\n",
    "# roi = np.max(lb) # this is only correct if this lb is uncropped\n",
    "roi = len(np.unique(lb[lb!=0])) # this would be better\n",
    "print(lb.shape)\n",
    "print('num roi: ', roi)"
   ]
  },
  {
   "cell_type": "code",
   "execution_count": null,
   "id": "88b47857-3f8c-4148-9dff-b73004211542",
   "metadata": {
    "tags": []
   },
   "outputs": [],
   "source": [
    "### skipped removing bad roi due to single round data\n",
    "\n",
    "\n",
    "# %%time\n",
    "# # # Get list of ROIs that are fully or partially outside the mask \n",
    "# ### Make sure to only include ROIs that are intact and in the overlapping regions across all rounds of FISH\n",
    "# ### remove any unregistered parts\n",
    "# mask = np.ones(grid[::-1])\n",
    "# for reg_dir in reg_dirs:\n",
    "#     reg = zarr.open(store=zarr.N5Store(reg_dir), mode='r')     \n",
    "#     img2 = reg[subpath_reg][...]\n",
    "#     print(\"image loaded\")\n",
    "#     mask[img2==0]=0\n",
    "# print(\"mask generated\")\n",
    "\n",
    "# bad_roi=np.unique(lb[mask==0])\n",
    "# if bad_roi[0] == 0: # remove the label 0 - extracellular space\n",
    "#     bad_roi = bad_roi[1:]\n",
    "# np.save(out_badroi, bad_roi)\n",
    "# print(\"# of ROIs rejected:\", len(bad_roi))"
   ]
  },
  {
   "cell_type": "code",
   "execution_count": null,
   "id": "7c0f7f66",
   "metadata": {
    "tags": []
   },
   "outputs": [],
   "source": [
    "%%time\n",
    "# get cell locations (in um - pre-expansion) from segmentation mask\n",
    "roi_meta_all = roi_prop.roi_prop_v2(lb, lb_res, ex)\n",
    "roi_meta_all.to_csv(out_allroi)\n",
    "\n",
    "roi_meta = roi_meta_all.set_index('roi').copy()\n",
    "roi_meta = roi_meta #.loc[roi_meta.index.difference(bad_roi)]\n",
    "roi_meta.to_csv(out_roi)"
   ]
  },
  {
   "cell_type": "code",
   "execution_count": null,
   "id": "dd767d92-47eb-449b-9455-fc9522d2fc01",
   "metadata": {
    "tags": []
   },
   "outputs": [],
   "source": [
    "%%time\n",
    "\n",
    "# count spots for every cell (roi)\n",
    "\n",
    "# all labels\n",
    "lb_id = np.unique(lb[lb!=0]) # exclude 0\n",
    "lb_id = np.hstack([[0], lb_id]) # include 0 - noncell\n",
    "# selected cells\n",
    "lb_id_selected = roi_meta.index.values\n",
    "\n",
    "# prep\n",
    "spotcount = pd.DataFrame(index=lb_id_selected, dtype=int)\n",
    "# spotcount_intn = pd.DataFrame(index=lb_id_selected, dtype=float)\n",
    "\n",
    "i = 0\n",
    "for r,chs in round_channels.items():\n",
    "    for c in chs:\n",
    "        # f_intns = fx_intns[i]\n",
    "        f_spots = fx_spots[i]\n",
    "        intn_th = intn_threshs[i]\n",
    "        print(r, c, f_spots) #, f_intns)\n",
    "\n",
    "        # spots\n",
    "        spots_rc = np.loadtxt(f_spots, delimiter=',')\n",
    "        print(len(spots_rc))\n",
    "\n",
    "        # filter\n",
    "        filter_cond = spots_rc[:,3] > intn_th\n",
    "        spots_rc = spots_rc[filter_cond]\n",
    "        print(len(spots_rc))\n",
    "\n",
    "        # count spots\n",
    "        res = spot.spot_counts_worker(lb, spots_rc, lb_res,\n",
    "                                      lb_id=lb_id, \n",
    "                                      remove_noncell=True, \n",
    "                                      selected_roi_list=lb_id_selected,\n",
    "                                      )\n",
    "        spotcount[f\"{r}_{c}\"] = res \n",
    "\n",
    "        # # count spots by intensity\n",
    "        # res = spot.get_spot_counts_from_intn(f_intns, f_spots, roi_meta, lb_res)\n",
    "        # spotcount_intn[f'{r}_{c}'] = res\n",
    "        i = i + 1\n",
    "    \n",
    "# save results\n",
    "spotcount.to_csv(out_spots)\n",
    "# spotcount_intn.to_csv(out_spots_intn)"
   ]
  },
  {
   "cell_type": "code",
   "execution_count": null,
   "id": "be7702d9-c915-4e87-9bc4-874322c46d16",
   "metadata": {},
   "outputs": [],
   "source": []
  },
  {
   "cell_type": "code",
   "execution_count": null,
   "id": "05d3d1ec-f441-4072-835a-d7ba839bc4e9",
   "metadata": {},
   "outputs": [],
   "source": []
  },
  {
   "cell_type": "code",
   "execution_count": null,
   "id": "cea2999e-b5b8-4c0a-8dd8-c33e30dc34f3",
   "metadata": {},
   "outputs": [],
   "source": []
  },
  {
   "cell_type": "code",
   "execution_count": null,
   "id": "34116fe0",
   "metadata": {
    "tags": []
   },
   "outputs": [],
   "source": [
    "# # reconcile two spot counts\n",
    "# dist_cutoff = 2 # um pre-expansion\n",
    "# density = spotcount.divide(roi_meta['area'], axis=0)\n",
    "# cond = density < 1/(dist_cutoff**3) # keep spots if density is low\n",
    "\n",
    "# print(\"# cells have high density: \", (~cond).sum()) \n",
    "# spotcount_merged = spotcount.where(cond, spotcount_intn)  # replace where the condition is False\n",
    "# spotcount_merged.to_csv(out_spots_merged)\n",
    "# spotcount_merged"
   ]
  },
  {
   "cell_type": "code",
   "execution_count": null,
   "id": "713a5d5c-1faf-4dcf-8753-a659aa6eb2db",
   "metadata": {},
   "outputs": [],
   "source": []
  },
  {
   "cell_type": "code",
   "execution_count": null,
   "id": "6a24ee4d-80dd-4b8d-ba54-b3a7f9b38757",
   "metadata": {},
   "outputs": [],
   "source": []
  },
  {
   "cell_type": "code",
   "execution_count": null,
   "id": "403fbce7-482f-45ad-ae99-e98aff8a19b8",
   "metadata": {},
   "outputs": [],
   "source": []
  }
 ],
 "metadata": {
  "kernelspec": {
   "display_name": "Python 3 (ipykernel)",
   "language": "python",
   "name": "python3"
  },
  "language_info": {
   "codemirror_mode": {
    "name": "ipython",
    "version": 3
   },
   "file_extension": ".py",
   "mimetype": "text/x-python",
   "name": "python",
   "nbconvert_exporter": "python",
   "pygments_lexer": "ipython3",
   "version": "3.9.16"
  }
 },
 "nbformat": 4,
 "nbformat_minor": 5
}
