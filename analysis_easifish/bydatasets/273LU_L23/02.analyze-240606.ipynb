{
 "cells": [
  {
   "cell_type": "markdown",
   "id": "b1b45a35-9b73-4a58-ab3f-308829d6e3e0",
   "metadata": {},
   "source": [
    "# analysis V4 - new basis code - Dec 6, 2023\n",
    "- cleaned up the data QC and organizations a bit\n",
    "- having two anndata and their spin offs - both FISH and proj data \n",
    "- flip an axis (y-axis) when plotting - not in data\n",
    "- focus on L2/3 cells\n",
    "\n",
    "TODO: \n",
    "- separate and organize plotting functions \n",
    "- organize the plots and generate more insights"
   ]
  },
  {
   "cell_type": "code",
   "execution_count": null,
   "id": "a3a95741-400b-452b-b98d-61cae1d845ae",
   "metadata": {
    "tags": []
   },
   "outputs": [],
   "source": [
    "import numpy as np\n",
    "import pandas as pd\n",
    "import os \n",
    "import matplotlib.pyplot as plt\n",
    "import umap\n",
    "import seaborn as sns\n",
    "from sklearn.decomposition import PCA\n",
    "from sklearn.cluster import KMeans\n",
    "import matplotlib\n",
    "\n",
    "import anndata \n",
    "import scanpy as sc\n",
    "from scipy.stats import spearmanr\n",
    "\n",
    "from scroutines import config_plots\n",
    "from scroutines import basicu\n",
    "from scroutines import miscu"
   ]
  },
  {
   "cell_type": "code",
   "execution_count": null,
   "id": "69ad6802-1f9b-4ce9-bcc1-3abe64677acf",
   "metadata": {
    "tags": []
   },
   "outputs": [],
   "source": [
    "import sys\n",
    "sys.setrecursionlimit(10000)\n",
    "from scipy.cluster import hierarchy as sch"
   ]
  },
  {
   "cell_type": "code",
   "execution_count": null,
   "id": "b71744ef-cde4-4ccf-9b2b-8d16fc9610d7",
   "metadata": {
    "tags": []
   },
   "outputs": [],
   "source": [
    "def norm_data(adata):\n",
    "    \"\"\"This procedure is independnet of each gene\n",
    "    norm by size (cell volume)\n",
    "    norm by log2(1+)\n",
    "    norm by zscore\n",
    "    \"\"\"\n",
    "    # size\n",
    "    med_size = adata.obs['area'].median()\n",
    "    max_size = adata.obs['area'].max()\n",
    "    min_size = adata.obs['area'].min()\n",
    "\n",
    "    print(f\"Min cell size {min_size:.1f} um^3\\t  {np.power(min_size,1/3):.1f} um\")\n",
    "    print(f\"Med cell size {med_size:.1f} um^3\\t  {np.power(med_size,1/3):.1f} um\")\n",
    "    print(f\"Max cell size {max_size:.1f} um^3\\t  {np.power(max_size,1/3):.1f} um\")\n",
    "\n",
    "    size_factor = (adata.obs['area']/med_size).values\n",
    "\n",
    "\n",
    "    # norm by size; by log2+1; by zscore\n",
    "    mat_raw = np.array(adata.X)\n",
    "    mat_nrm = mat_raw/size_factor.reshape(-1,1) # .divide(size_factor, axis=0)\n",
    "    mat_log = np.log2(1+mat_nrm)\n",
    "    mat_zsc = (mat_log - np.mean(mat_log, axis=0))/np.std(mat_log, axis=0)\n",
    "\n",
    "    adata.layers['nrm'] = mat_nrm\n",
    "    adata.layers['log'] = mat_log\n",
    "    adata.layers['zsc'] = mat_zsc\n",
    "    \n",
    "    return # mat_raw, mat_nrm, mat_log, mat_zsc"
   ]
  },
  {
   "cell_type": "code",
   "execution_count": null,
   "id": "b081206f-e414-4b79-ad48-12d11185070d",
   "metadata": {
    "tags": []
   },
   "outputs": [],
   "source": [
    "pth_dat = '/u/home/f/f7xiesnm/project-zipursky/easifish/273LU/proc/tile0_v1/'\n",
    "!ls $pth_dat\n",
    "!wc -l $pth_dat*.csv"
   ]
  },
  {
   "cell_type": "code",
   "execution_count": null,
   "id": "335e4b29-aa4e-4886-bdd8-a940edc6741d",
   "metadata": {
    "tags": []
   },
   "outputs": [],
   "source": [
    "# features\n",
    "var_names = {\n",
    "    'tile0_c0': 'mCherry',\n",
    "    'tile0_c1': 'Slc1a3',\n",
    "    'tile0_c2': 'empty',\n",
    "    'tile0_c4': 'GFP',\n",
    "}\n",
    "proj_idx = np.array([])\n",
    "\n",
    "# cells\n",
    "f_meta = os.path.join(pth_dat, 'roi.csv')\n",
    "\n",
    "# spots\n",
    "f_spot = os.path.join(pth_dat, 'spotcount.csv')"
   ]
  },
  {
   "cell_type": "code",
   "execution_count": null,
   "id": "d94e56ad-4bcd-4546-bf2e-97ebf5ec3080",
   "metadata": {
    "tags": []
   },
   "outputs": [],
   "source": [
    "# # f = '/u/home/f/f7xiesnm/project-zipursky/v1-bb/v1/data/cheng21_cell_scrna/res/L23-ABC-genes-n288-n286unq-annot_v2.csv'\n",
    "# f = '/u/home/f/f7xiesnm/project-zipursky/v1-bb/v1/results/gene_ptime_P28_L23_Mar27.tsv'\n",
    "# df_annot = pd.read_csv(f).sort_values('gene_ptime')"
   ]
  },
  {
   "cell_type": "code",
   "execution_count": null,
   "id": "6cc4ddb8-02a0-4724-9dd2-362b4c17268d",
   "metadata": {
    "tags": []
   },
   "outputs": [],
   "source": [
    "var = pd.Series(var_names).to_frame('name')\n",
    "var['proj'] = False\n",
    "var.loc[proj_idx, 'proj'] = True\n",
    "\n",
    "# var['ptime'] = df_annot.set_index('gene').reindex(var['name'])['gene_ptime'].values\n",
    "# var['ptime_order'] = var['ptime'].rank()  \n",
    "\n",
    "var_idx = var.index.values.astype(str)\n",
    "var_i2n = var['name'] \n",
    "var_n2i = var.reset_index().set_index('name')['index']\n",
    "\n",
    "gene_idx = np.array([idx for idx in var_idx if idx not in proj_idx])\n",
    "\n",
    "# ftrs_order  = gene_names.index.values \n",
    "# genes_order = gene_names.values\n",
    "# var_oidx = np.argsort(var['ptime'].values)\n",
    "# var_order = var_i2n[var_idx[var_oidx]]"
   ]
  },
  {
   "cell_type": "code",
   "execution_count": null,
   "id": "7ab0789b-a291-4a53-8582-569957ef8753",
   "metadata": {
    "tags": []
   },
   "outputs": [],
   "source": [
    "var_order = [\n",
    "    'tile0_c0',\n",
    "    'tile0_c1',\n",
    "    # 'tile0_c2',\n",
    "    'tile0_c4',\n",
    "]\n",
    "\n",
    "var_order_manual = pd.Series({\n",
    "    'tile0_c0': 'mCherry',\n",
    "    'tile0_c1': 'Slc1a3',\n",
    "    # 'tile0_c2': 'empty',\n",
    "    'tile0_c4': 'GFP',\n",
    "    \n",
    "})\n",
    "\n",
    "\n",
    "print(var_idx)\n",
    "print(var_order)\n",
    "print(var_order_manual)"
   ]
  },
  {
   "cell_type": "code",
   "execution_count": null,
   "id": "64bae622-dabc-4267-aa2d-045bb73b6cab",
   "metadata": {},
   "outputs": [],
   "source": [
    "# cols\n",
    "raw_var_idx = np.char.add(var_idx, '_raw')\n",
    "nrm_var_idx = np.char.add(var_idx, '_nrm')\n",
    "log_var_idx = np.char.add(var_idx, '_log')\n",
    "zsc_var_idx = np.char.add(var_idx, '_zsc')\n",
    "\n",
    "raw_gene_idx = np.char.add(gene_idx, '_raw')\n",
    "nrm_gene_idx = np.char.add(gene_idx, '_nrm')\n",
    "log_gene_idx = np.char.add(gene_idx, '_log')\n",
    "zsc_gene_idx = np.char.add(gene_idx, '_zsc')"
   ]
  },
  {
   "cell_type": "code",
   "execution_count": null,
   "id": "c740690d-978f-47de-9209-97d335a7696b",
   "metadata": {
    "tags": []
   },
   "outputs": [],
   "source": [
    "meta = pd.read_csv(f_meta, index_col=0)\n",
    "spot = pd.read_csv(f_spot, index_col=0)\n",
    "assert np.all(meta.index.values == spot.index.values)\n",
    "print(meta.shape, spot.shape) # \n",
    "\n",
    "max_x, max_y, max_z = meta[['x', 'y', 'z']].describe().loc['max']\n",
    "min_x, min_y, min_z = meta[['x', 'y', 'z']].describe().loc['min']\n",
    "print(f'x: {min_x:.1f}\\t{max_x:.1f}')\n",
    "print(f'y: {min_y:.1f}\\t{max_y:.1f}')\n",
    "print(f'z: {min_z:.1f}\\t{max_z:.1f}')\n",
    "\n",
    "meta['to_edge'] = np.minimum(\n",
    "    np.minimum(meta['x']-min_x, max_x-meta['x']), \n",
    "    np.minimum(meta['y']-min_y, max_y-meta['y']), \n",
    "    np.minimum(meta['z']-min_z, max_z-meta['z']),\n",
    ")\n",
    "meta['cov'] = spot.sum(axis=1)\n",
    "\n",
    "# bin data \n",
    "bins_8p = np.linspace(0,400,8+1).astype(int)\n",
    "bins_4p = np.linspace(0,400,4+1).astype(int)\n",
    "print(bins_8p, bins_4p)\n",
    "\n",
    "meta['xb_8p'] = pd.cut(meta['x'], bins=bins_8p)\n",
    "meta['yb_8p'] = pd.cut(meta['y'], bins=bins_8p)\n",
    "meta['zb_8p'] = pd.cut(meta['z'], bins=bins_8p)\n",
    "\n",
    "meta['xb_4p'] = pd.cut(meta['x'], bins=bins_4p)\n",
    "meta['yb_4p'] = pd.cut(meta['y'], bins=bins_4p)\n",
    "meta['zb_4p'] = pd.cut(meta['z'], bins=bins_4p)"
   ]
  },
  {
   "cell_type": "code",
   "execution_count": null,
   "id": "cd7e9e96-b3d3-479d-815f-93e5b93cc0b9",
   "metadata": {
    "tags": []
   },
   "outputs": [],
   "source": [
    "adata = anndata.AnnData(X=spot.values, obs=meta, var=var)\n",
    "adata"
   ]
  },
  {
   "cell_type": "code",
   "execution_count": null,
   "id": "63ae7dab-a117-4b63-bc48-55712075d1a9",
   "metadata": {
    "tags": []
   },
   "outputs": [],
   "source": [
    "# # remove outliers adata -> adata2\n",
    "# df = adata.obs\n",
    "# conds = [\n",
    "#     df['area'] > 500,\n",
    "#     df['x'] > min_x + 20,\n",
    "#     df['x'] < max_x - 20,\n",
    "    \n",
    "#     df['y'] > min_y + 20,\n",
    "#     df['y'] < max_y - 20,\n",
    "    \n",
    "#     df['z'] > min_z + 20,\n",
    "#     df['z'] < max_z - 20,\n",
    "# ]\n",
    "# cond_all = np.ones(len(df)) > 0\n",
    "# for cond in conds:\n",
    "#     cond_all = np.logical_and(cond_all, cond)\n",
    "#     print(cond_all.sum())\n",
    "# print(f\"Num cells before and after: {len(df)} -> {cond_all.sum()}\")\n",
    "\n",
    "# # remove outliers\n",
    "# adata2 = adata[cond_all].copy()\n",
    "# adata2\n",
    "adata2 = adata"
   ]
  },
  {
   "cell_type": "code",
   "execution_count": null,
   "id": "45605d49-a40b-43e8-9b30-9637b45be62b",
   "metadata": {
    "tags": []
   },
   "outputs": [],
   "source": [
    "# normalize the data and record\n",
    "norm_data(adata2)\n",
    "df_p2 = adata2.obs.copy()\n",
    "df_p2[nrm_var_idx] = np.array(adata2.layers['nrm'])"
   ]
  },
  {
   "cell_type": "markdown",
   "id": "4e954df8-fbc3-4b74-8f0c-da3048f49606",
   "metadata": {},
   "source": [
    "# report "
   ]
  },
  {
   "cell_type": "code",
   "execution_count": null,
   "id": "8d08c0c2-49e9-4a80-957b-21515728f05a",
   "metadata": {
    "tags": []
   },
   "outputs": [],
   "source": [
    "for idx in var_idx:\n",
    "    val = adata[:,idx].X[:,0]\n",
    "    print(f'{idx}\\t{var_i2n.loc[idx]}\\t{100*np.sum(val>0)/len(val):.2f}%\\t{np.min(val):.1f}\\t{np.median(val):.1f}\\t{np.percentile(val, 99):.1f}\\t{np.max(val):.1f}')"
   ]
  },
  {
   "cell_type": "code",
   "execution_count": null,
   "id": "856d6a50-e930-41c8-974e-841758cc6232",
   "metadata": {
    "tags": []
   },
   "outputs": [],
   "source": [
    "cols = ['x', 'y', 'z', 'area']\n",
    "with sns.plotting_context('paper'):\n",
    "    fig, axs = plt.subplots(4, 1, figsize=(1*6, 2*4))\n",
    "    for ax, col in zip(axs, cols):\n",
    "        sns.histplot(adata.obs[col], ax=ax)\n",
    "        ax.set_xlabel(col)\n",
    "    fig.subplots_adjust(hspace=0.5)\n",
    "    plt.show()\n"
   ]
  },
  {
   "cell_type": "code",
   "execution_count": null,
   "id": "745b0894-74e9-4646-ba01-4598a22f07f6",
   "metadata": {
    "tags": []
   },
   "outputs": [],
   "source": [
    "sns.scatterplot(data=adata2.obs, x='area', y='cov', s=2, edgecolor='none')\n",
    "plt.show()\n",
    "\n",
    "plt.scatter(np.log2(adata2.obs['area']), \n",
    "            np.log2(adata2.obs['cov']),\n",
    "            s=2, edgecolor='none',\n",
    "           )"
   ]
  },
  {
   "cell_type": "code",
   "execution_count": null,
   "id": "599d0a0d-da6b-4e7c-8c1e-136a0ee26b0e",
   "metadata": {
    "tags": []
   },
   "outputs": [],
   "source": [
    "with sns.plotting_context('paper'):\n",
    "    fig, axs = plt.subplots(2, 1, figsize=(10*1,4*2))\n",
    "    ax = axs[0]\n",
    "    sns.boxplot(data=adata.X, ax=ax)\n",
    "    ax.set_xticklabels(adata.var.index.values, rotation=90) \n",
    "    ax.set_ylabel('counts')\n",
    "    ax.set_xlabel('Genes')\n",
    "    sns.despine(ax=ax)\n",
    "\n",
    "    ax = axs[1]\n",
    "    sns.boxplot(data=adata.X, ax=ax)\n",
    "    ax.set_xticklabels(adata.var['name'].values, rotation=90)\n",
    "    sns.despine(ax=ax)\n",
    "    ax.set_ylim([0,50])\n",
    "    ax.set_ylabel('counts')\n",
    "    ax.set_xlabel('Genes')"
   ]
  },
  {
   "cell_type": "markdown",
   "id": "e6a8cdea-8dfa-4819-9015-878ad8afdf03",
   "metadata": {},
   "source": [
    "# z-sectioning visuals\n",
    "- bin into zbin\n",
    "- plot for each zbin"
   ]
  },
  {
   "cell_type": "code",
   "execution_count": null,
   "id": "61e861f9-b92f-4d68-8fd2-3921894316f9",
   "metadata": {
    "tags": []
   },
   "outputs": [],
   "source": [
    "sys.path.insert(0, '../')\n",
    "import plotting_easifish\n",
    "\n",
    "import importlib\n",
    "importlib.reload(plotting_easifish)\n",
    "\n",
    "from plotting_easifish import view_z_sections\n",
    "from plotting_easifish import view_z_sections_4panels\n",
    "from plotting_easifish import view_z_sections_labels\n",
    "from plotting_easifish import gen_discrete_colors\n"
   ]
  },
  {
   "cell_type": "code",
   "execution_count": null,
   "id": "2739d59d-a988-4ae2-b034-53d47dfa0de2",
   "metadata": {
    "tags": []
   },
   "outputs": [],
   "source": [
    "sp_x, sp_y = 'x', 'y'\n",
    "fig, axs = plt.subplots(1,3,figsize=(3*4,4*1), sharey=True, sharex=True)\n",
    "cbar_ax = fig.add_axes([0.92, 0.5, 0.01, 0.2])\n",
    "axs.flat[0].invert_yaxis()\n",
    "for i, (col, ax) in enumerate(zip(var_order_manual.index.values, axs.flat)):\n",
    "    x = df_p2[sp_x].values\n",
    "    y = df_p2[sp_y].values\n",
    "    c = df_p2[col+'_nrm'].values\n",
    "    vmax=np.percentile(c, 95)\n",
    "    vmin=np.percentile(c,  5)\n",
    "    c = (c-vmin)/(vmax-vmin)\n",
    "    \n",
    "    g = ax.scatter(x, y, c=c, s=5, edgecolor='none', cmap='gray_r', vmax=1, vmin=0) #vmax, vmin=-0.1*vmax)\n",
    "    sns.despine(ax=ax)\n",
    "    ax.set_title(var_i2n[col])\n",
    "    ax.set_xlabel(sp_x)\n",
    "    ax.set_ylabel(sp_y)\n",
    "    ax.set_aspect('equal')\n",
    "    ax.grid(False)\n",
    "    ax.axis('off')\n",
    "    \n",
    "    \n",
    "fig.colorbar(g, cax=cbar_ax, label='Normed counts\\n(5-95 perctl.)', aspect=5, shrink=0.3, ticks=[0, 1])\n",
    "fig.subplots_adjust(hspace=0.1, wspace=0.02)"
   ]
  },
  {
   "cell_type": "code",
   "execution_count": null,
   "id": "32215bc6-4139-4a4c-9b51-d1bb0989d526",
   "metadata": {
    "tags": []
   },
   "outputs": [],
   "source": [
    "sp_x, sp_y = 'x', 'z'\n",
    "fig, axs = plt.subplots(1,3,figsize=(3*4,4*1), sharey=True, sharex=True)\n",
    "cbar_ax = fig.add_axes([0.92, 0.5, 0.01, 0.2])\n",
    "axs.flat[0].invert_yaxis()\n",
    "for i, (col, ax) in enumerate(zip(var_order_manual.index.values, axs.flat)):\n",
    "    x = df_p2[sp_x].values\n",
    "    y = df_p2[sp_y].values\n",
    "    c = df_p2[col+'_nrm'].values\n",
    "    vmax=np.percentile(c, 95)\n",
    "    vmin=np.percentile(c,  5)\n",
    "    c = (c-vmin)/(vmax-vmin)\n",
    "    \n",
    "    g = ax.scatter(x, y, c=c, s=5, edgecolor='none', cmap='gray_r', vmax=1, vmin=0) #vmax, vmin=-0.1*vmax)\n",
    "    sns.despine(ax=ax)\n",
    "    ax.set_title(var_i2n[col])\n",
    "    ax.set_xlabel(sp_x)\n",
    "    ax.set_ylabel(sp_y)\n",
    "    ax.set_aspect('equal')\n",
    "    ax.grid(False)\n",
    "    ax.axis('off')\n",
    "    \n",
    "    \n",
    "fig.colorbar(g, cax=cbar_ax, label='Normed counts\\n(5-95 perctl.)', aspect=5, shrink=0.3, ticks=[0, 1])\n",
    "fig.subplots_adjust(hspace=0.1, wspace=0.02)"
   ]
  },
  {
   "cell_type": "code",
   "execution_count": null,
   "id": "ec74d353-9160-4a02-b29d-b67086df983b",
   "metadata": {},
   "outputs": [],
   "source": [
    "# Slc1a3+ cells as astrocytes\n",
    "# GFP - should be expressed in neurons and astrocytes - In CKO, GFP expression should decrease specifically in Slc1a3+ cells\n",
    "# mCherry - ; In KOE - mCherry expression should increase specifically in Slc17a+ cells"
   ]
  },
  {
   "cell_type": "code",
   "execution_count": null,
   "id": "0cd6a262-76eb-478e-8376-180a475befa4",
   "metadata": {
    "tags": []
   },
   "outputs": [],
   "source": [
    "expr     = adata2.X[:,1]\n",
    "expr_nrm = adata2.layers['nrm'][:,1]\n",
    "expr_mch, expr_gfp = adata2.layers['nrm'][:,0], adata2.layers['nrm'][:,3]"
   ]
  },
  {
   "cell_type": "code",
   "execution_count": null,
   "id": "0a06cfca-d5de-4935-813b-d8f5ac32f654",
   "metadata": {
    "tags": []
   },
   "outputs": [],
   "source": [
    "sns.histplot(expr)\n",
    "sns.histplot(expr_nrm)"
   ]
  },
  {
   "cell_type": "code",
   "execution_count": null,
   "id": "c27e0ef3-8f8b-441b-851f-1148d5b13105",
   "metadata": {
    "tags": []
   },
   "outputs": [],
   "source": [
    "sns.histplot(expr_nrm, cumulative=True)"
   ]
  },
  {
   "cell_type": "code",
   "execution_count": null,
   "id": "0ea01ecc-b2d1-4313-b660-8153fb6f0359",
   "metadata": {
    "tags": []
   },
   "outputs": [],
   "source": [
    "print(np.sum(expr_nrm > 200)/len(expr_nrm))\n",
    "print(np.sum(expr_nrm > 210)/len(expr_nrm))\n",
    "print(np.sum(expr_nrm > 220)/len(expr_nrm))\n",
    "print(np.sum(expr_nrm > 230)/len(expr_nrm))\n",
    "cond_astro = expr_nrm > 210"
   ]
  },
  {
   "cell_type": "code",
   "execution_count": null,
   "id": "68af3868-577f-4b00-bc13-9d460c58f386",
   "metadata": {
    "tags": []
   },
   "outputs": [],
   "source": [
    "fig, axs = plt.subplots(1,2,figsize=(2*5,5))\n",
    "fig.suptitle('Control')\n",
    "ax = axs[0]\n",
    "ax.scatter(expr_nrm, expr_gfp, s=5)\n",
    "ax.scatter(expr_nrm[cond_astro], \n",
    "            expr_gfp[cond_astro], s=5, label='astro')\n",
    "ax.set_xlabel('Slc1a3')\n",
    "ax.set_ylabel('GFP')\n",
    "\n",
    "ax = axs[1]\n",
    "ax.scatter(expr_nrm, expr_mch, s=5)\n",
    "ax.scatter(expr_nrm[cond_astro], \n",
    "            expr_mch[cond_astro], s=5, label='astro')\n",
    "ax.set_ylabel('mCherry')\n",
    "ax.set_xlabel('Slc1a3')\n",
    "ax.legend()\n",
    "plt.show()\n"
   ]
  },
  {
   "cell_type": "code",
   "execution_count": null,
   "id": "c43143e8-9b4d-49d5-b82d-68c54dc72356",
   "metadata": {},
   "outputs": [],
   "source": [
    "# Control\n",
    "# GFP-KO in astrocytes\n",
    "# GFP-KO and mCherry-OE in astrocytes"
   ]
  }
 ],
 "metadata": {
  "kernelspec": {
   "display_name": "napari",
   "language": "python",
   "name": "napari"
  },
  "language_info": {
   "codemirror_mode": {
    "name": "ipython",
    "version": 3
   },
   "file_extension": ".py",
   "mimetype": "text/x-python",
   "name": "python",
   "nbconvert_exporter": "python",
   "pygments_lexer": "ipython3",
   "version": "3.9.16"
  }
 },
 "nbformat": 4,
 "nbformat_minor": 5
}
