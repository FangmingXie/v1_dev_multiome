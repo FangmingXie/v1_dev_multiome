{
 "cells": [
  {
   "cell_type": "markdown",
   "id": "b1b45a35-9b73-4a58-ab3f-308829d6e3e0",
   "metadata": {},
   "source": [
    "# analysis V4 - new basis code - Dec 6, 2023\n",
    "- cleaned up the data QC and organizations a bit\n",
    "- having two anndata and their spin offs - both FISH and proj data \n",
    "- flip an axis (y-axis) when plotting - not in data\n",
    "- focus on L2/3 cells\n",
    "\n",
    "TODO: \n",
    "- separate and organize plotting functions \n",
    "- organize the plots and generate more insights"
   ]
  },
  {
   "cell_type": "code",
   "execution_count": null,
   "id": "a3a95741-400b-452b-b98d-61cae1d845ae",
   "metadata": {
    "tags": []
   },
   "outputs": [],
   "source": [
    "import numpy as np\n",
    "import pandas as pd\n",
    "import os \n",
    "import matplotlib.pyplot as plt\n",
    "import umap\n",
    "import seaborn as sns\n",
    "from sklearn.decomposition import PCA\n",
    "from sklearn.cluster import KMeans\n",
    "import matplotlib\n",
    "\n",
    "import anndata \n",
    "import scanpy as sc\n",
    "from scipy.stats import spearmanr\n",
    "\n",
    "from scroutines import config_plots\n",
    "from scroutines import basicu\n",
    "from scroutines import miscu"
   ]
  },
  {
   "cell_type": "code",
   "execution_count": null,
   "id": "69ad6802-1f9b-4ce9-bcc1-3abe64677acf",
   "metadata": {
    "tags": []
   },
   "outputs": [],
   "source": [
    "import sys"
   ]
  },
  {
   "cell_type": "code",
   "execution_count": null,
   "id": "ef5f19aa-ed02-452e-8617-62d46f32aacf",
   "metadata": {
    "tags": []
   },
   "outputs": [],
   "source": [
    "# expr_nrm0 = np.loadtxt('/u/home/f/f7xiesnm/project-zipursky/easifish/296LURU/proc/batch_norm_counts.txt')\n",
    "# expr_nrm1 = np.loadtxt('/u/home/f/f7xiesnm/project-zipursky/easifish/273LU/proc/batch_norm_counts.txt')\n",
    "# expr_nrm2 = np.loadtxt('/u/home/f/f7xiesnm/project-zipursky/easifish/296LU/proc/batch_norm_counts.txt')\n",
    "# expr_nrm3 = np.loadtxt('/u/home/f/f7xiesnm/project-zipursky/easifish/456RU/proc/batch_norm_counts.txt')\n",
    "\n",
    "# exprs_nrm = [\n",
    "#     expr_nrm0,\n",
    "#     expr_nrm1,\n",
    "#     expr_nrm2,\n",
    "#     expr_nrm3,\n",
    "# ]\n",
    "\n",
    "expr0 = np.loadtxt('/u/home/f/f7xiesnm/project-zipursky/easifish/296LURU/proc/norm_counts.txt')\n",
    "expr1 = np.loadtxt('/u/home/f/f7xiesnm/project-zipursky/easifish/273LU/proc/norm_counts.txt')\n",
    "expr2 = np.loadtxt('/u/home/f/f7xiesnm/project-zipursky/easifish/296LU/proc/norm_counts.txt')\n",
    "expr3 = np.loadtxt('/u/home/f/f7xiesnm/project-zipursky/easifish/456RU/proc/norm_counts.txt')\n",
    "\n",
    "exprs = [\n",
    "    expr0,\n",
    "    expr1,\n",
    "    expr2,\n",
    "    expr3,\n",
    "]\n",
    "\n",
    "titles = ['296LURU\\nwild type', '273LU\\nKO', '296LU\\nKO + Pcdhgc3 OE', '456RU\\n KO + Pcdhga1 OE']"
   ]
  },
  {
   "cell_type": "code",
   "execution_count": null,
   "id": "acc1b0f6-b0dc-4bb0-918f-1f6925fc99cc",
   "metadata": {
    "tags": []
   },
   "outputs": [],
   "source": [
    "set_slc1a3 = 100\n",
    "\n",
    "exprs_nrm = [\n",
    "    expr/(np.median(expr[:,1])/set_slc1a3)\n",
    "    for expr in exprs\n",
    "]\n"
   ]
  },
  {
   "cell_type": "code",
   "execution_count": null,
   "id": "0a06cfca-d5de-4935-813b-d8f5ac32f654",
   "metadata": {
    "tags": []
   },
   "outputs": [],
   "source": [
    "for i, expr in enumerate(exprs):\n",
    "    r, k, g = expr[:,0], expr[:,1], expr[:,2]\n",
    "    sns.histplot(k, element='step', label=i, stat='density')\n",
    "plt.legend()\n",
    "plt.show()\n",
    "\n",
    "for i, expr_nrm in enumerate(exprs_nrm):\n",
    "    r, k, g = expr_nrm[:,0], expr_nrm[:,1], expr_nrm[:,2]\n",
    "    sns.histplot(k, element='step', label=i, stat='density')\n",
    "plt.legend()\n",
    "plt.show()"
   ]
  },
  {
   "cell_type": "code",
   "execution_count": null,
   "id": "0ea01ecc-b2d1-4313-b660-8153fb6f0359",
   "metadata": {
    "tags": []
   },
   "outputs": [],
   "source": [
    "print(np.sum(k > 200)/len(k))\n",
    "print(np.sum(k > 210)/len(k))\n",
    "print(np.sum(k > 220)/len(k))\n",
    "print(np.sum(k > 230)/len(k))\n",
    "cond_astro = k > 210"
   ]
  },
  {
   "cell_type": "code",
   "execution_count": null,
   "id": "68af3868-577f-4b00-bc13-9d460c58f386",
   "metadata": {
    "tags": []
   },
   "outputs": [],
   "source": [
    "fig, axs = plt.subplots(1,4,figsize=(4*5,1*5), sharex=True, sharey=True)\n",
    "for i, expr in enumerate(exprs_nrm):\n",
    "    title = titles[i]\n",
    "    ax = axs[i]\n",
    "    ax.set_title(title)\n",
    "    r, k, g = expr[:,0], expr[:,1], expr[:,2]\n",
    "    ax.scatter(k, g, s=5)\n",
    "    # ax.scatter(k[cond_astro], g[cond_astro], s=5, label='astro')\n",
    "    ax.set_xlabel('Slc1a3')\n",
    "    ax.set_ylabel('GFP')\n",
    "# ax.set_xlim([0,400])\n",
    "plt.show()\n",
    "\n",
    "fig, axs = plt.subplots(1,4,figsize=(4*5,1*5), sharex=True, sharey=True)\n",
    "for i, expr in enumerate(exprs_nrm):\n",
    "    ax = axs[i]\n",
    "    title = titles[i]\n",
    "    ax.set_title(title)\n",
    "    r, k, g = expr[:,0], expr[:,1], expr[:,2]\n",
    "    ax.scatter(k, r, s=5)\n",
    "    # ax.scatter(k[cond_astro], r[cond_astro], s=5, label='astro')\n",
    "    ax.set_ylabel('mCherry')\n",
    "    ax.set_xlabel('Slc1a3')\n",
    "    \n",
    "# ax.set_xlim([0,400])\n",
    "plt.show()\n",
    "\n",
    "fig, axs = plt.subplots(1,4,figsize=(4*5,1*5), sharex=True, sharey=True)\n",
    "for i, expr in enumerate(exprs_nrm):\n",
    "    title = titles[i]\n",
    "    ax = axs[i]\n",
    "    ax.set_title(title)\n",
    "    r, k, g = expr[:,0], expr[:,1], expr[:,2]\n",
    "    ax.scatter(r, g, s=5)\n",
    "    # ax.scatter(k[cond_astro], g[cond_astro], s=5, label='astro')\n",
    "    ax.set_xlabel('mCherry')\n",
    "    ax.set_ylabel('GFP')\n",
    "plt.show()"
   ]
  },
  {
   "cell_type": "code",
   "execution_count": null,
   "id": "2f0b69c0-dd63-4d21-bc97-f645b99d4d2c",
   "metadata": {
    "tags": []
   },
   "outputs": [],
   "source": []
  },
  {
   "cell_type": "code",
   "execution_count": null,
   "id": "c51b3d02-ead4-4bb0-82e4-e143464f9590",
   "metadata": {},
   "outputs": [],
   "source": [
    "fig, ax = plt.subplots(1,1,figsize=(1*5,1*5)) # , sharex=True, sharey=True)\n",
    "i = 1\n",
    "expr = exprs_nrm[i]\n",
    "title = titles[i]\n",
    "# ax = axs[i]\n",
    "ax.set_title(title)\n",
    "r, k, g = expr[:,0], expr[:,1], expr[:,2]\n",
    "ax.scatter(k, g, s=5)\n",
    "# ax.scatter(k[cond_astro], g[cond_astro], s=5, label='astro')\n",
    "ax.set_xlabel('Slc1a3')\n",
    "ax.set_ylabel('GFP')\n",
    "# ax.set_xlim([0,400])"
   ]
  },
  {
   "cell_type": "code",
   "execution_count": null,
   "id": "92708b86-af06-4391-9bbe-a0100b6f1969",
   "metadata": {},
   "outputs": [],
   "source": [
    "fig, ax = plt.subplots(1,1,figsize=(1*5,1*5)) # , sharex=True, sharey=True)\n",
    "i = 3\n",
    "expr = exprs_nrm[i]\n",
    "title = titles[i]\n",
    "# ax = axs[i]\n",
    "ax.set_title(title)\n",
    "r, k, g = expr[:,0], expr[:,1], expr[:,2]\n",
    "ax.scatter(k, g, s=5)\n",
    "# ax.scatter(k[cond_astro], g[cond_astro], s=5, label='astro')\n",
    "ax.set_xlabel('Slc1a3')\n",
    "ax.set_ylabel('GFP')\n",
    "# ax.set_xlim([0,400])"
   ]
  },
  {
   "cell_type": "code",
   "execution_count": null,
   "id": "36f58851-36d8-4e1e-8afe-cd5a8d5ab4c2",
   "metadata": {},
   "outputs": [],
   "source": []
  }
 ],
 "metadata": {
  "kernelspec": {
   "display_name": "napari",
   "language": "python",
   "name": "napari"
  },
  "language_info": {
   "codemirror_mode": {
    "name": "ipython",
    "version": 3
   },
   "file_extension": ".py",
   "mimetype": "text/x-python",
   "name": "python",
   "nbconvert_exporter": "python",
   "pygments_lexer": "ipython3",
   "version": "3.9.16"
  }
 },
 "nbformat": 4,
 "nbformat_minor": 5
}
