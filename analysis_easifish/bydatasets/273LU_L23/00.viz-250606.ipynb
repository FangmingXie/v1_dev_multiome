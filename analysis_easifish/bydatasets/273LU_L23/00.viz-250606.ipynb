{
 "cells": [
  {
   "cell_type": "markdown",
   "id": "8c753145-1a59-480d-abb2-60f2fa3f416f",
   "metadata": {},
   "source": [
    "# Inputs\n",
    "---"
   ]
  },
  {
   "cell_type": "code",
   "execution_count": null,
   "id": "2b6aeb01",
   "metadata": {},
   "outputs": [],
   "source": [
    "import numpy as np, zarr, nrrd\n",
    "# # alignment functions\n",
    "# from bigstream.align import alignment_pipeline\n",
    "# from bigstream.transform import apply_transform\n",
    "import tifffile\n",
    "\n",
    "import seaborn as sns\n",
    "import matplotlib.pyplot as plt"
   ]
  },
  {
   "cell_type": "code",
   "execution_count": null,
   "id": "f9e34109-0b59-441f-bb7a-2f75c90d30eb",
   "metadata": {
    "tags": []
   },
   "outputs": [],
   "source": [
    "p      = '/u/home/f/f7xiesnm/project-zipursky/data/03_flatfused' # 273LU_aldh1l1Cre_Pcdhg_homo_L23_cortex_autos1_flatfused_tile0.n5/'\n",
    "outdir = '/u/home/f/f7xiesnm/project-zipursky/easifish/results/viz_273LU'\n",
    "!mkdir -p $outdir"
   ]
  },
  {
   "cell_type": "code",
   "execution_count": null,
   "id": "8460a4e9-1d9b-41af-8f88-f7b0f29c3999",
   "metadata": {
    "tags": []
   },
   "outputs": [],
   "source": [
    "!ls $p"
   ]
  },
  {
   "cell_type": "markdown",
   "id": "060aca49-8874-4f7c-8f00-91945062bea9",
   "metadata": {},
   "source": [
    "# raw"
   ]
  },
  {
   "cell_type": "code",
   "execution_count": null,
   "id": "08dae79d-075b-4bd9-b12a-efb0389f2fd9",
   "metadata": {
    "tags": []
   },
   "outputs": [],
   "source": [
    "\n",
    "# rounds = ['r1', 'r2', 'r3', 'r4', 'r5']\n",
    "\n",
    "rounds = np.arange(7) # ', 'r2', 'r3', 'r4', 'r5']\n",
    "for r in rounds:\n",
    "    path = p + f'/273LU_aldh1l1Cre_Pcdhg_homo_L23_cortex_autos1_flatfused_tile{r}.n5'\n",
    "    zarr_data = zarr.open(store=zarr.N5Store(path), mode='r')\n",
    "    for c in ['c0', 'c1', 'c2', 'c3', 'c4']:\n",
    "        # img = zarr_data[f'/{c}/s4'] \n",
    "        # print(np.max(img), np.min(img))\n",
    "        # output = outdir+f'/{r}_{c}_s4.tiff'\n",
    "        # print(output)\n",
    "        # tifffile.imwrite(output, img)\n",
    "        \n",
    "        img = zarr_data[f'/{c}/s2'] \n",
    "        # print(np.max(img), np.min(img))\n",
    "        output = outdir+f'/{r}_{c}_s2.tiff'\n",
    "        print(output)\n",
    "        tifffile.imwrite(output, img)"
   ]
  },
  {
   "cell_type": "code",
   "execution_count": null,
   "id": "c2f47a6d-5440-4c00-819d-2a08757e1ba0",
   "metadata": {
    "tags": []
   },
   "outputs": [],
   "source": [
    "rounds = [1] #  np.arange(7) # ', 'r2', 'r3', 'r4', 'r5']\n",
    "for r in rounds:\n",
    "    path = p + f'/273LU_aldh1l1Cre_Pcdhg_homo_L23_cortex_autos1_flatfused_tile{r}.n5'\n",
    "    zarr_data = zarr.open(store=zarr.N5Store(path), mode='r')\n",
    "    for c in ['c0', 'c1', 'c2', 'c3', 'c4']:\n",
    "        # img = zarr_data[f'/{c}/s4'] \n",
    "        # print(np.max(img), np.min(img))\n",
    "        # output = outdir+f'/{r}_{c}_s4.tiff'\n",
    "        # print(output)\n",
    "        # tifffile.imwrite(output, img)\n",
    "        \n",
    "        img = zarr_data[f'/{c}/s1'] \n",
    "        # print(np.max(img), np.min(img))\n",
    "        output = outdir+f'/{r}_{c}_s1.tiff'\n",
    "        print(output)\n",
    "        tifffile.imwrite(output, img)"
   ]
  },
  {
   "cell_type": "code",
   "execution_count": null,
   "id": "506cace4-904a-45b8-a08b-fa0ffea1d98b",
   "metadata": {},
   "outputs": [],
   "source": []
  }
 ],
 "metadata": {
  "kernelspec": {
   "display_name": "napari",
   "language": "python",
   "name": "napari"
  },
  "language_info": {
   "codemirror_mode": {
    "name": "ipython",
    "version": 3
   },
   "file_extension": ".py",
   "mimetype": "text/x-python",
   "name": "python",
   "nbconvert_exporter": "python",
   "pygments_lexer": "ipython3",
   "version": "3.9.16"
  }
 },
 "nbformat": 4,
 "nbformat_minor": 5
}
