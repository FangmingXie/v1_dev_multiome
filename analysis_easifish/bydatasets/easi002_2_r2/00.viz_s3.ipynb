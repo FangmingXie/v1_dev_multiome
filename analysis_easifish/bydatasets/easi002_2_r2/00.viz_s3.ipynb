{
 "cells": [
  {
   "cell_type": "markdown",
   "id": "8c753145-1a59-480d-abb2-60f2fa3f416f",
   "metadata": {},
   "source": [
    "# Inputs\n",
    "---"
   ]
  },
  {
   "cell_type": "code",
   "execution_count": null,
   "id": "2b6aeb01",
   "metadata": {},
   "outputs": [],
   "source": [
    "import numpy as np, zarr, nrrd\n",
    "# alignment functions\n",
    "from bigstream.align import alignment_pipeline\n",
    "from bigstream.transform import apply_transform\n",
    "import tifffile\n",
    "\n",
    "import seaborn as sns\n",
    "import matplotlib.pyplot as plt"
   ]
  },
  {
   "cell_type": "code",
   "execution_count": null,
   "id": "f9e34109-0b59-441f-bb7a-2f75c90d30eb",
   "metadata": {
    "tags": []
   },
   "outputs": [],
   "source": [
    "p1      = '/u/home/f/f7xiesnm/project-zipursky/data/01_fused'\n",
    "# p2      = '/u/home/f/f7xiesnm/project-zipursky/data/03_flatfused'\n",
    "# outdir = '/u/home/f/f7xiesnm/project-zipursky/easifish/results/viz_easi002_2_r2_jan24'\n",
    "# !mkdir -p $outdir"
   ]
  },
  {
   "cell_type": "code",
   "execution_count": null,
   "id": "1a7af7f6-f047-4f66-8e9d-43cfc2fc5922",
   "metadata": {
    "tags": []
   },
   "outputs": [],
   "source": [
    "# !rm -r $outdir"
   ]
  },
  {
   "cell_type": "code",
   "execution_count": null,
   "id": "8460a4e9-1d9b-41af-8f88-f7b0f29c3999",
   "metadata": {
    "tags": []
   },
   "outputs": [],
   "source": [
    "!ls $p1"
   ]
  },
  {
   "cell_type": "markdown",
   "id": "43187fdd-3290-4f76-bc19-01097d4a26c4",
   "metadata": {},
   "source": [
    "# first success"
   ]
  },
  {
   "cell_type": "code",
   "execution_count": null,
   "id": "02c78510-590e-4469-83f4-2e2812cb3968",
   "metadata": {
    "tags": []
   },
   "outputs": [],
   "source": [
    "path = p1 + '/demo_small_s1_export-ds-try10.n5'\n",
    "zarr_data = zarr.open(store=zarr.N5Store(path), mode='r')\n",
    "for c in ['c1']:\n",
    "    img = zarr_data[f'/{c}/s0'] \n",
    "    print(img.shape)\n",
    "    # print(np.max(img), np.min(img))\n",
    "    # output = outdir+f'/demo_small_s1-ds-try3_{c}_s3.tiff'\n",
    "    # print(output)\n",
    "    # tifffile.imwrite(output, img)"
   ]
  },
  {
   "cell_type": "code",
   "execution_count": null,
   "id": "388de215-28e4-49db-8be0-b6831a2e16c5",
   "metadata": {
    "tags": []
   },
   "outputs": [],
   "source": [
    "img_s = img[100]"
   ]
  },
  {
   "cell_type": "code",
   "execution_count": null,
   "id": "d293933b-392b-430e-a6fa-e7c201f1a259",
   "metadata": {
    "tags": []
   },
   "outputs": [],
   "source": [
    "plt.imshow(img_s, \n",
    "           vmax=np.percentile(img_s, 95), \n",
    "           vmin=np.percentile(img_s, 0.1),)"
   ]
  },
  {
   "cell_type": "markdown",
   "id": "1634e744-288f-4a10-99d0-02fa35e53e32",
   "metadata": {},
   "source": [
    "# first auto"
   ]
  },
  {
   "cell_type": "code",
   "execution_count": null,
   "id": "0535c21c-bcae-4f1d-9336-2abd2e0eefb2",
   "metadata": {
    "tags": []
   },
   "outputs": [],
   "source": [
    "path = p1 + '/demo_small_autos1_export.n5' #-ds-try10.n5'\n",
    "zarr_data = zarr.open(store=zarr.N5Store(path), mode='r')\n",
    "for c in ['c1']:\n",
    "    img = zarr_data[f'/{c}/s0'] \n",
    "    print(img.shape)\n",
    "    # print(np.max(img), np.min(img))\n",
    "    # output = outdir+f'/demo_small_s1-ds-try3_{c}_s3.tiff'\n",
    "    # print(output)\n",
    "    # tifffile.imwrite(output, img)"
   ]
  },
  {
   "cell_type": "code",
   "execution_count": null,
   "id": "a0441107-b089-4f21-84d8-aea7dcd59cc4",
   "metadata": {
    "tags": []
   },
   "outputs": [],
   "source": [
    "img_s = img[100]"
   ]
  },
  {
   "cell_type": "code",
   "execution_count": null,
   "id": "d9fdff4f-acb7-4374-b8ab-d238f9f34735",
   "metadata": {
    "tags": []
   },
   "outputs": [],
   "source": [
    "plt.imshow(img_s, \n",
    "           vmax=np.percentile(img_s, 95), \n",
    "           vmin=np.percentile(img_s, 0.1),)"
   ]
  },
  {
   "cell_type": "markdown",
   "id": "254b7df9-48e2-429c-bcf2-5f3810585631",
   "metadata": {},
   "source": [
    "# auto and stitched"
   ]
  },
  {
   "cell_type": "code",
   "execution_count": null,
   "id": "638fe21f-b774-4f55-9b43-f3616c427525",
   "metadata": {
    "tags": []
   },
   "outputs": [],
   "source": [
    "path = p1 + '/demo_small_autos1_stitch_export.n5' #-ds-try10.n5'\n",
    "zarr_data = zarr.open(store=zarr.N5Store(path), mode='r')\n",
    "for c in ['c1']:\n",
    "    img = zarr_data[f'/{c}/s0'] \n",
    "    print(img.shape)\n",
    "    # print(np.max(img), np.min(img))\n",
    "    # output = outdir+f'/demo_small_s1-ds-try3_{c}_s3.tiff'\n",
    "    # print(output)\n",
    "    # tifffile.imwrite(output, img)"
   ]
  },
  {
   "cell_type": "code",
   "execution_count": null,
   "id": "120a2fd7-f402-41f0-a3a4-596deb7a8faa",
   "metadata": {
    "tags": []
   },
   "outputs": [],
   "source": [
    "img_s = img[100]"
   ]
  },
  {
   "cell_type": "code",
   "execution_count": null,
   "id": "0859f50b-fe04-4d50-bf04-5694c10d6b2c",
   "metadata": {
    "tags": []
   },
   "outputs": [],
   "source": [
    "plt.imshow(img_s, \n",
    "           vmax=np.percentile(img_s, 95), \n",
    "           vmin=np.percentile(img_s, 0.1),)"
   ]
  },
  {
   "cell_type": "code",
   "execution_count": null,
   "id": "4d7fcd8e-44c5-479e-80fb-f986924e8697",
   "metadata": {},
   "outputs": [],
   "source": []
  },
  {
   "cell_type": "code",
   "execution_count": null,
   "id": "7654b5b1-89c7-4498-a162-c65eda26648e",
   "metadata": {},
   "outputs": [],
   "source": []
  },
  {
   "cell_type": "code",
   "execution_count": null,
   "id": "cb4d83ed-c4d5-492c-9686-58a36927c908",
   "metadata": {},
   "outputs": [],
   "source": []
  },
  {
   "cell_type": "code",
   "execution_count": null,
   "id": "c04af46d-f3b1-4a12-8b1c-5bcb19e90944",
   "metadata": {},
   "outputs": [],
   "source": []
  },
  {
   "cell_type": "code",
   "execution_count": null,
   "id": "392b627e-1d05-401f-9785-a775001e2a26",
   "metadata": {},
   "outputs": [],
   "source": []
  },
  {
   "cell_type": "markdown",
   "id": "51dac2a3-8d7c-4945-aa83-c24a673e2045",
   "metadata": {},
   "source": [
    "# check flatfield"
   ]
  },
  {
   "cell_type": "code",
   "execution_count": null,
   "id": "8bdc2814-1cdc-4f8d-90f3-27f74ff3400d",
   "metadata": {
    "tags": []
   },
   "outputs": [],
   "source": [
    "import tifffile\n",
    "ddir = '/u/home/f/f7xiesnm/project-zipursky/easifish/results/flatfield'\n",
    "file = ddir+'/flatfield_dapi_test_basicpy_s4.tiff'\n",
    "ff = tifffile.imread(file)"
   ]
  },
  {
   "cell_type": "code",
   "execution_count": null,
   "id": "9c5ff80a-15ee-40ef-af04-a47775f999c4",
   "metadata": {},
   "outputs": [],
   "source": [
    "g = plt.imshow(ff, cmap='coolwarm')\n",
    "plt.colorbar(g)"
   ]
  },
  {
   "cell_type": "code",
   "execution_count": null,
   "id": "7895e4a4-b362-43e7-8aa0-41d7afada7b2",
   "metadata": {},
   "outputs": [],
   "source": []
  }
 ],
 "metadata": {
  "kernelspec": {
   "display_name": "napari",
   "language": "python",
   "name": "napari"
  },
  "language_info": {
   "codemirror_mode": {
    "name": "ipython",
    "version": 3
   },
   "file_extension": ".py",
   "mimetype": "text/x-python",
   "name": "python",
   "nbconvert_exporter": "python",
   "pygments_lexer": "ipython3",
   "version": "3.9.16"
  }
 },
 "nbformat": 4,
 "nbformat_minor": 5
}
