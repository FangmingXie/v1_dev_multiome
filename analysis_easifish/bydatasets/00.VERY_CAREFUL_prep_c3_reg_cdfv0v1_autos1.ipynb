{
 "cells": [
  {
   "cell_type": "markdown",
   "id": "8c753145-1a59-480d-abb2-60f2fa3f416f",
   "metadata": {},
   "source": [
    "# cap c3\n",
    "- be very careful!!!!\n",
    "- `c3` is for segmentation, from which we create\n",
    "- `c3_reg/s3` and `s4` (99.9% pctl limit) for registration"
   ]
  },
  {
   "cell_type": "code",
   "execution_count": null,
   "id": "2b6aeb01",
   "metadata": {},
   "outputs": [],
   "source": [
    "import numpy as np\n",
    "import zarr\n",
    "from numcodecs import GZip \n",
    "# alignment functions\n",
    "import tifffile"
   ]
  },
  {
   "cell_type": "code",
   "execution_count": null,
   "id": "488bf9f9-05c4-4e5e-9785-a0f02e1471e0",
   "metadata": {
    "tags": []
   },
   "outputs": [],
   "source": [
    "def cap_img(a0, pctl=99.9):\n",
    "    \"\"\"\n",
    "    \"\"\"\n",
    "    a = np.clip(a0, None, np.percentile(a0, pctl)).astype('uint16')\n",
    "    print(np.max(a0), '->', np.max(a))\n",
    "    print(np.min(a0), '->', np.min(a))\n",
    "    return a\n",
    "\n",
    "def modify_n5_like_a0(img_path, a0, a, a_slot):\n",
    "    \"\"\"\n",
    "    be very careful - \n",
    "    \"\"\"\n",
    "    n5_root = zarr.open_group(store=zarr.N5Store(img_path), mode='a')\n",
    "    dataset = n5_root.require_dataset(\n",
    "        a_slot,\n",
    "        shape=a0.shape,\n",
    "        chunks=a0._chunks,\n",
    "        dtype=a0.dtype,\n",
    "        compressor=GZip(level=-1),\n",
    "        data=a)\n",
    "    # set additional attributes\n",
    "    dataset.attrs.update(**a0.attrs.asdict())\n",
    "    \n",
    "    return "
   ]
  },
  {
   "cell_type": "markdown",
   "id": "edafb572-62e3-4168-91ab-4311f7037cb9",
   "metadata": {},
   "source": [
    "# roll out"
   ]
  },
  {
   "cell_type": "code",
   "execution_count": null,
   "id": "bff52f7c-7b74-4af8-ac82-dd65f43679ac",
   "metadata": {
    "tags": []
   },
   "outputs": [],
   "source": [
    "# p = '/u/home/f/f7xiesnm/project-zipursky/easifish/test2/outputs'\n",
    "\n",
    "# g0_slot = 'c3' \n",
    "# g_slot  = 'c3_reg'\n",
    "# rounds = ['r1']\n",
    "\n",
    "\n",
    "# for r in rounds:\n",
    "#     img_path = p + f'/{r}/stitching/export.n5'\n",
    "#     print(img_path)\n",
    "    \n",
    "#     # update dataset - s4 resolution\n",
    "#     a0 = zarr.open(store=zarr.N5Store(img_path), mode='r')[g0_slot+'/s4']\n",
    "#     a = cap_img(a0[...], pctl=99.9)\n",
    "#     modify_n5_like_a0(img_path, a0, a, g_slot+'/s4')\n",
    "\n",
    "#     # update dataset - s3 resolution\n",
    "#     a0 = zarr.open(store=zarr.N5Store(img_path), mode='r')[g0_slot+'/s3']\n",
    "#     a = cap_img(a0[...], pctl=99.9)\n",
    "#     modify_n5_like_a0(img_path, a0, a, g_slot+'/s3')"
   ]
  },
  {
   "cell_type": "code",
   "execution_count": null,
   "id": "603ca43d-f6f3-4840-b9a3-0f67379d6746",
   "metadata": {},
   "outputs": [],
   "source": [
    "p = '/u/home/f/f7xiesnm/project-zipursky/easifish/cdfv1_c1-2/outputs'\n",
    "\n",
    "g0_slot = 'c3' \n",
    "g_slot  = 'c3_reg'\n",
    "rounds = ['r1', 'r2']\n",
    "\n",
    "\n",
    "for r in rounds:\n",
    "    img_path = p + f'/{r}/stitching/export.n5'\n",
    "    print(img_path)\n",
    "    \n",
    "    # update dataset - s4 resolution\n",
    "    a0 = zarr.open(store=zarr.N5Store(img_path), mode='r')[g0_slot+'/s4']\n",
    "    a = cap_img(a0[...], pctl=99.9)\n",
    "    modify_n5_like_a0(img_path, a0, a, g_slot+'/s4')\n",
    "\n",
    "    # update dataset - s3 resolution\n",
    "    a0 = zarr.open(store=zarr.N5Store(img_path), mode='r')[g0_slot+'/s3']\n",
    "    a = cap_img(a0[...], pctl=99.9)\n",
    "    modify_n5_like_a0(img_path, a0, a, g_slot+'/s3')"
   ]
  },
  {
   "cell_type": "code",
   "execution_count": null,
   "id": "f7776eed-999b-41cb-9b81-d50ce4d6badf",
   "metadata": {},
   "outputs": [],
   "source": []
  }
 ],
 "metadata": {
  "kernelspec": {
   "display_name": "napari",
   "language": "python",
   "name": "napari"
  },
  "language_info": {
   "codemirror_mode": {
    "name": "ipython",
    "version": 3
   },
   "file_extension": ".py",
   "mimetype": "text/x-python",
   "name": "python",
   "nbconvert_exporter": "python",
   "pygments_lexer": "ipython3",
   "version": "3.9.16"
  }
 },
 "nbformat": 4,
 "nbformat_minor": 5
}
