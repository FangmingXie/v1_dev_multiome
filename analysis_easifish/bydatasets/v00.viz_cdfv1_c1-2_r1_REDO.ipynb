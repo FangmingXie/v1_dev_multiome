{
 "cells": [
  {
   "cell_type": "markdown",
   "id": "8c753145-1a59-480d-abb2-60f2fa3f416f",
   "metadata": {},
   "source": [
    "# Inputs\n",
    "---"
   ]
  },
  {
   "cell_type": "code",
   "execution_count": null,
   "id": "2b6aeb01",
   "metadata": {},
   "outputs": [],
   "source": [
    "import numpy as np, zarr, nrrd\n",
    "import os\n",
    "# alignment functions\n",
    "from bigstream.align import alignment_pipeline\n",
    "from bigstream.transform import apply_transform\n",
    "import tifffile\n",
    "import time\n",
    "\n",
    "import seaborn as sns\n",
    "import matplotlib.pyplot as plt"
   ]
  },
  {
   "cell_type": "markdown",
   "id": "060aca49-8874-4f7c-8f00-91945062bea9",
   "metadata": {},
   "source": [
    "# raw"
   ]
  },
  {
   "cell_type": "code",
   "execution_count": null,
   "id": "08dae79d-075b-4bd9-b12a-efb0389f2fd9",
   "metadata": {
    "tags": []
   },
   "outputs": [],
   "source": [
    "p      = '/u/home/f/f7xiesnm/project-zipursky/data/00_tiled/cdfv1_c1-2_r1_REDO.n5'\n",
    "\n",
    "zarr_data = zarr.open(store=zarr.N5Store(p), mode='r')\n",
    "img = zarr_data['setup47/timepoint0/s3']\n",
    "print(img.shape)\n",
    "plt.imshow(img[100])\n",
    "plt.colorbar()"
   ]
  },
  {
   "cell_type": "code",
   "execution_count": null,
   "id": "9fe034f0-e90a-4917-a77b-79b149e6e239",
   "metadata": {
    "tags": []
   },
   "outputs": [],
   "source": [
    "p      = '/u/home/f/f7xiesnm/project-zipursky/data/00_tiled/cdfv0_c1-2_r1_REDO.n5'\n",
    "\n",
    "zarr_data = zarr.open(store=zarr.N5Store(p), mode='r')\n",
    "img = zarr_data['setup47/timepoint0/s3']\n",
    "print(img.shape)\n",
    "plt.imshow(img[100])\n",
    "plt.colorbar()"
   ]
  },
  {
   "cell_type": "markdown",
   "id": "ce66f1dd-a54e-4457-8ec2-08968ca9cc10",
   "metadata": {},
   "source": [
    "# Flat"
   ]
  },
  {
   "cell_type": "code",
   "execution_count": null,
   "id": "4e58d4e2-28d5-4671-a8b0-0dcc00d415a4",
   "metadata": {
    "tags": []
   },
   "outputs": [],
   "source": [
    "p      = '/u/home/f/f7xiesnm/project-zipursky/data/02_flat/cdfv1_c1-2_r1_REDO_autos1_flat.n5/'\n",
    "\n",
    "zarr_data = zarr.open(store=zarr.N5Store(p), mode='r')\n",
    "img = zarr_data['setup47/timepoint0/s0']\n",
    "print(img.shape)\n",
    "plt.imshow(img[800, ::8, ::8])\n",
    "plt.colorbar()"
   ]
  },
  {
   "cell_type": "code",
   "execution_count": null,
   "id": "1ef5a878-2764-4459-beb4-5cdfb120569b",
   "metadata": {
    "tags": []
   },
   "outputs": [],
   "source": [
    "p      = '/u/home/f/f7xiesnm/project-zipursky/data/02_flat/cdfv0_c1-2_r1_REDO_autos1_flat.n5/'\n",
    "\n",
    "zarr_data = zarr.open(store=zarr.N5Store(p), mode='r')\n",
    "img = zarr_data['setup47/timepoint0/s0']\n",
    "print(img.shape)\n",
    "plt.imshow(img[800, ::8, ::8])\n",
    "plt.colorbar()"
   ]
  },
  {
   "cell_type": "markdown",
   "id": "0b7f131e-2b7c-4d17-a361-9c72d5db4b58",
   "metadata": {},
   "source": [
    "# fused "
   ]
  },
  {
   "cell_type": "code",
   "execution_count": null,
   "id": "49eec948-d0eb-477d-aa3e-24b7eaa1653b",
   "metadata": {
    "tags": []
   },
   "outputs": [],
   "source": [
    "p      = '/u/home/f/f7xiesnm/project-zipursky/data/03_flatfused/cdfv1_c1-2_r1_REDO_autos1_flatfused.n5/'\n",
    "\n",
    "zarr_data = zarr.open(store=zarr.N5Store(p), mode='r')\n",
    "img = zarr_data['c2/s1']\n",
    "print(img.shape)"
   ]
  },
  {
   "cell_type": "code",
   "execution_count": null,
   "id": "7e844912-33e5-4cfe-8349-97fad36406d5",
   "metadata": {
    "tags": []
   },
   "outputs": [],
   "source": [
    "img_ds = img[1000,::4,::4]\n",
    "img_ds.shape"
   ]
  },
  {
   "cell_type": "code",
   "execution_count": null,
   "id": "f3b15471-c711-42d2-99c1-fbef6b33528c",
   "metadata": {
    "tags": []
   },
   "outputs": [],
   "source": [
    "print(np.max(img_ds))"
   ]
  },
  {
   "cell_type": "code",
   "execution_count": null,
   "id": "5898f57d-4049-4c93-be57-5e56599a4159",
   "metadata": {
    "tags": []
   },
   "outputs": [],
   "source": [
    "plt.imshow(img_ds, vmax=100)\n",
    "plt.colorbar()"
   ]
  },
  {
   "cell_type": "markdown",
   "id": "1946224e-47bf-4270-838f-e2d081ccfe75",
   "metadata": {},
   "source": [
    "# downsample"
   ]
  },
  {
   "cell_type": "code",
   "execution_count": null,
   "id": "180335f6-f07e-4ff0-9568-db914128d0fb",
   "metadata": {
    "tags": []
   },
   "outputs": [],
   "source": [
    "p      = '/u/home/f/f7xiesnm/project-zipursky/data/03_flatfused/cdfv1_c1-2_r1_REDO_autos1_flatfused.n5/'\n",
    "\n",
    "zarr_data = zarr.open(store=zarr.N5Store(p), mode='r')\n",
    "img = zarr_data['c2/s2']\n",
    "print(img.shape)"
   ]
  },
  {
   "cell_type": "code",
   "execution_count": null,
   "id": "3ba6a8ef-fde8-4709-9c08-3a47db2f7679",
   "metadata": {
    "tags": []
   },
   "outputs": [],
   "source": [
    "np.max(img)"
   ]
  },
  {
   "cell_type": "code",
   "execution_count": null,
   "id": "59da407a-e5a6-40a7-90f1-3f8c3e536736",
   "metadata": {
    "tags": []
   },
   "outputs": [],
   "source": [
    "img_ds = img[500,::2,::2]\n",
    "img_ds.shape"
   ]
  },
  {
   "cell_type": "code",
   "execution_count": null,
   "id": "7bd63274-cc26-4204-89ac-4cbcb3340672",
   "metadata": {
    "tags": []
   },
   "outputs": [],
   "source": [
    "print(np.max(img_ds))"
   ]
  },
  {
   "cell_type": "code",
   "execution_count": null,
   "id": "8799750c-61a9-4d5e-84ac-1d2ca5a82f4d",
   "metadata": {
    "tags": []
   },
   "outputs": [],
   "source": [
    "plt.imshow(img_ds, vmax=100)\n",
    "plt.colorbar()"
   ]
  },
  {
   "cell_type": "code",
   "execution_count": null,
   "id": "7618f633-4aea-4943-b4c5-ecbb70b0a817",
   "metadata": {},
   "outputs": [],
   "source": []
  }
 ],
 "metadata": {
  "kernelspec": {
   "display_name": "napari",
   "language": "python",
   "name": "napari"
  },
  "language_info": {
   "codemirror_mode": {
    "name": "ipython",
    "version": 3
   },
   "file_extension": ".py",
   "mimetype": "text/x-python",
   "name": "python",
   "nbconvert_exporter": "python",
   "pygments_lexer": "ipython3",
   "version": "3.9.16"
  }
 },
 "nbformat": 4,
 "nbformat_minor": 5
}
