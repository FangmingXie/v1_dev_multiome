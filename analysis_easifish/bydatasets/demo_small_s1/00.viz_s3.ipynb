{
 "cells": [
  {
   "cell_type": "markdown",
   "id": "8c753145-1a59-480d-abb2-60f2fa3f416f",
   "metadata": {},
   "source": [
    "# Inputs\n",
    "---"
   ]
  },
  {
   "cell_type": "code",
   "execution_count": null,
   "id": "2b6aeb01",
   "metadata": {},
   "outputs": [],
   "source": [
    "import numpy as np, zarr, nrrd\n",
    "# alignment functions\n",
    "from bigstream.align import alignment_pipeline\n",
    "from bigstream.transform import apply_transform\n",
    "import tifffile\n",
    "\n",
    "import seaborn as sns\n",
    "import matplotlib.pyplot as plt"
   ]
  },
  {
   "cell_type": "code",
   "execution_count": null,
   "id": "f9e34109-0b59-441f-bb7a-2f75c90d30eb",
   "metadata": {
    "tags": []
   },
   "outputs": [],
   "source": [
    "p1      = '/u/home/f/f7xiesnm/project-zipursky/data/01_fused'\n",
    "p2      = '/u/home/f/f7xiesnm/project-zipursky/data/03_flatfused'\n",
    "outdir = '/u/home/f/f7xiesnm/project-zipursky/easifish/results/viz_easi002_2_r2_jan24'\n",
    "!mkdir -p $outdir"
   ]
  },
  {
   "cell_type": "code",
   "execution_count": null,
   "id": "1a7af7f6-f047-4f66-8e9d-43cfc2fc5922",
   "metadata": {
    "tags": []
   },
   "outputs": [],
   "source": [
    "# !rm -r $outdir"
   ]
  },
  {
   "cell_type": "code",
   "execution_count": null,
   "id": "8460a4e9-1d9b-41af-8f88-f7b0f29c3999",
   "metadata": {
    "tags": []
   },
   "outputs": [],
   "source": [
    "!ls $p1"
   ]
  },
  {
   "cell_type": "markdown",
   "id": "060aca49-8874-4f7c-8f00-91945062bea9",
   "metadata": {},
   "source": [
    "# raw"
   ]
  },
  {
   "cell_type": "code",
   "execution_count": null,
   "id": "4074c8c1-9d5a-4fd1-8a21-d382bcf4734c",
   "metadata": {
    "tags": []
   },
   "outputs": [],
   "source": [
    "r = 'r2'\n",
    "path = p1 + f'/easi002_2_{r}_export.n5'\n",
    "zarr_data = zarr.open(store=zarr.N5Store(path), mode='r')\n",
    "for c in ['c0', 'c2', 'c3', 'c4']:\n",
    "    img = zarr_data[f'/{c}/s4'] \n",
    "    print(img.shape)\n",
    "    print(np.max(img), np.min(img))\n",
    "    output = outdir+f'/{r}_{c}_s4.tiff'\n",
    "    print(output)\n",
    "    tifffile.imwrite(output, img)"
   ]
  },
  {
   "cell_type": "code",
   "execution_count": null,
   "id": "70cd700e-efc2-4775-b723-461d7c4dc86d",
   "metadata": {},
   "outputs": [],
   "source": []
  },
  {
   "cell_type": "markdown",
   "id": "c82a80bf-60f5-4e2a-bc11-f8684c0f1120",
   "metadata": {},
   "source": [
    "# a different set"
   ]
  },
  {
   "cell_type": "code",
   "execution_count": null,
   "id": "0535c21c-bcae-4f1d-9336-2abd2e0eefb2",
   "metadata": {
    "tags": []
   },
   "outputs": [],
   "source": [
    "path = p1 + f'/demo_small_s1_export-ds-try10.n5'\n",
    "zarr_data = zarr.open(store=zarr.N5Store(path), mode='r')\n",
    "for c in ['c1']:\n",
    "    img = zarr_data[f'/{c}/s0'] \n",
    "    print(img.shape)\n",
    "    # print(np.max(img), np.min(img))\n",
    "    # output = outdir+f'/demo_small_s1-ds-try3_{c}_s3.tiff'\n",
    "    # print(output)\n",
    "    # tifffile.imwrite(output, img)"
   ]
  },
  {
   "cell_type": "code",
   "execution_count": null,
   "id": "a0441107-b089-4f21-84d8-aea7dcd59cc4",
   "metadata": {
    "tags": []
   },
   "outputs": [],
   "source": [
    "img_s = img[100]"
   ]
  },
  {
   "cell_type": "code",
   "execution_count": null,
   "id": "d9fdff4f-acb7-4374-b8ab-d238f9f34735",
   "metadata": {
    "tags": []
   },
   "outputs": [],
   "source": [
    "plt.imshow(img_s, \n",
    "           vmax=np.percentile(img_s, 95), \n",
    "           vmin=np.percentile(img_s, 0.1),)"
   ]
  },
  {
   "cell_type": "code",
   "execution_count": null,
   "id": "e650c63c-55cc-43c4-a2c2-d2e8a9b8a194",
   "metadata": {
    "tags": []
   },
   "outputs": [],
   "source": [
    "path = p1 + f'/demo_small_s1_export-ds-try11.n5'\n",
    "zarr_data = zarr.open(store=zarr.N5Store(path), mode='r')\n",
    "for c in ['c1']:\n",
    "    img = zarr_data[f'/{c}/s0'] \n",
    "    print(img.shape)\n",
    "    # print(np.max(img), np.min(img))\n",
    "    # output = outdir+f'/demo_small_s1-ds-try3_{c}_s3.tiff'\n",
    "    # print(output)\n",
    "    # tifffile.imwrite(output, img)"
   ]
  },
  {
   "cell_type": "code",
   "execution_count": null,
   "id": "9787391c-4bc3-404a-a1fb-d7cfdf91f338",
   "metadata": {
    "tags": []
   },
   "outputs": [],
   "source": [
    "img_s = img[100][::2,::2]\n",
    "img_s.shape"
   ]
  },
  {
   "cell_type": "code",
   "execution_count": null,
   "id": "947f00e4-ea1b-4a1a-ae3f-8e2e130ea5ac",
   "metadata": {
    "tags": []
   },
   "outputs": [],
   "source": [
    "plt.imshow(img_s, \n",
    "           vmax=np.percentile(img_s, 99), \n",
    "           vmin=np.percentile(img_s, 1),)"
   ]
  },
  {
   "cell_type": "markdown",
   "id": "4913deaf-9de3-45f8-9f40-7d764b1147f7",
   "metadata": {},
   "source": [
    "# test xml file calc"
   ]
  },
  {
   "cell_type": "code",
   "execution_count": null,
   "id": "658af6d8-dffc-4848-8039-f31471dcde97",
   "metadata": {
    "tags": []
   },
   "outputs": [],
   "source": [
    "r = np.array([0.22851993924221545, 0.22851993924221545, 0.421567])\n",
    "\n",
    "a = np.array([-398.8109999999999, 16317.359999999999, -2584.9859999999994])\n",
    "b = np.array([4.60900000000004, 16317.359999999999, -2584.9859999999994])\n"
   ]
  },
  {
   "cell_type": "code",
   "execution_count": null,
   "id": "a84756bf-1c03-4db9-a0e5-b341f8776996",
   "metadata": {
    "tags": []
   },
   "outputs": [],
   "source": [
    "a/r"
   ]
  },
  {
   "cell_type": "code",
   "execution_count": null,
   "id": "c57c5655-512e-4d9f-9497-06829e8dc23c",
   "metadata": {
    "tags": []
   },
   "outputs": [],
   "source": [
    "a/r[0]"
   ]
  },
  {
   "cell_type": "code",
   "execution_count": null,
   "id": "09da582c-5ffc-4dd2-aa1b-cc77adeebd07",
   "metadata": {
    "tags": []
   },
   "outputs": [],
   "source": [
    "b/r[0]"
   ]
  },
  {
   "cell_type": "markdown",
   "id": "51dac2a3-8d7c-4945-aa83-c24a673e2045",
   "metadata": {},
   "source": [
    "# check flatfield"
   ]
  },
  {
   "cell_type": "code",
   "execution_count": null,
   "id": "8bdc2814-1cdc-4f8d-90f3-27f74ff3400d",
   "metadata": {
    "tags": []
   },
   "outputs": [],
   "source": [
    "import tifffile\n",
    "ddir = '/u/home/f/f7xiesnm/project-zipursky/easifish/results/flatfield'\n",
    "file = ddir+'/flatfield_dapi_test_basicpy_s4.tiff'\n",
    "ff = tifffile.imread(file)"
   ]
  },
  {
   "cell_type": "code",
   "execution_count": null,
   "id": "9c5ff80a-15ee-40ef-af04-a47775f999c4",
   "metadata": {},
   "outputs": [],
   "source": [
    "g = plt.imshow(ff, cmap='coolwarm')\n",
    "plt.colorbar(g)"
   ]
  },
  {
   "cell_type": "code",
   "execution_count": null,
   "id": "7895e4a4-b362-43e7-8aa0-41d7afada7b2",
   "metadata": {},
   "outputs": [],
   "source": []
  }
 ],
 "metadata": {
  "kernelspec": {
   "display_name": "napari",
   "language": "python",
   "name": "napari"
  },
  "language_info": {
   "codemirror_mode": {
    "name": "ipython",
    "version": 3
   },
   "file_extension": ".py",
   "mimetype": "text/x-python",
   "name": "python",
   "nbconvert_exporter": "python",
   "pygments_lexer": "ipython3",
   "version": "3.9.16"
  }
 },
 "nbformat": 4,
 "nbformat_minor": 5
}
