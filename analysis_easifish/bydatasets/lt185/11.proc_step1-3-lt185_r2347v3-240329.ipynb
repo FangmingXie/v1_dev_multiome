{
 "cells": [
  {
   "cell_type": "code",
   "execution_count": null,
   "id": "b3becb0f",
   "metadata": {
    "tags": []
   },
   "outputs": [],
   "source": [
    "import os, sys\n",
    "sys.path.append('../../')\n",
    "from os.path import abspath, dirname\n",
    "import zarr\n",
    "import z5py\n",
    "import numpy as np\n",
    "import pandas as pd\n",
    "from glob import glob \n",
    "from skimage.measure import regionprops\n",
    "from skimage.io import imread, imsave\n",
    "from scipy import stats\n",
    "from scipy.stats import skewnorm, lognorm\n",
    "from scipy.optimize import minimize\n",
    "import itertools\n",
    "import collections\n",
    "\n",
    "from easi_fish import n5_metadata_utils as n5mu\n",
    "from easi_fish import roi_prop, spot, intensity\n",
    "import warnings\n",
    "warnings.filterwarnings('ignore')\n",
    "\n",
    "import importlib\n",
    "importlib.reload(spot)\n",
    "importlib.reload(roi_prop)\n",
    "importlib.reload(intensity)"
   ]
  },
  {
   "cell_type": "code",
   "execution_count": null,
   "id": "3d8d47bc-7198-4dd5-9e7a-192c20214bf5",
   "metadata": {
    "tags": []
   },
   "outputs": [],
   "source": [
    "import matplotlib.pyplot as plt\n",
    "import seaborn as sns"
   ]
  },
  {
   "cell_type": "code",
   "execution_count": null,
   "id": "7bfea4a2-050a-4ae9-9b92-c030a5c7eadd",
   "metadata": {
    "tags": []
   },
   "outputs": [],
   "source": [
    "from IPython.display import set_matplotlib_formats\n",
    "set_matplotlib_formats('retina')\n",
    "\n",
    "sns.set_style('white', rc={'axes.grid':True})\n",
    "sns.set_context('talk')"
   ]
  },
  {
   "cell_type": "markdown",
   "id": "288d5d2b-eb54-4aa8-885f-16f68ed8c9a8",
   "metadata": {},
   "source": [
    "Spot counts for cells with highly expressed genes (dense spots)\n",
    "1. Measure total intensity of every ROI after bleed-through correction and background subtraction.\n",
    "2. Calculate the number of spot from total intensity based on unit-spot intensity\n",
    "3. Correlate the number of spots (from air-localize) with the total fluorescence intensity/voxel in each ROI and determine a 'cutoff'. \n",
    "   Spot count > cutoff: use spot count converted based on total fluorescence intensity; \n",
    "   Spot count < cutoff: use spot count from Airlocalize"
   ]
  },
  {
   "cell_type": "markdown",
   "id": "6278a8d4-b2d9-47e0-b1bf-1da0c98b3164",
   "metadata": {},
   "source": [
    "### On units\n",
    "- all images are based on pixel units - \n",
    "- roi meta file (output) are based on physical unit (um - pre-expansion)\n",
    "- spots files are in um (post-expansion)"
   ]
  },
  {
   "cell_type": "code",
   "execution_count": null,
   "id": "d3d89d9a",
   "metadata": {
    "tags": []
   },
   "outputs": [],
   "source": [
    "## input\n",
    "\n",
    "# theround = 'r2'\n",
    "# rounds = [theround]\n",
    "# channels = ['c0', 'c1', 'c2', 'c4']\n",
    "\n",
    "ddir = '/u/home/f/f7xiesnm/project-zipursky/easifish/lt185'\n",
    "output_dir = ddir + '/proc/r2347v3'\n",
    "\n",
    "fix_round = 'r2v3'\n",
    "mov_rounds = ['r3v3', 'r4v3', 'r7v3']\n",
    "mov_rounds = []\n",
    "round_channels = collections.OrderedDict({\n",
    "    'r2v3': ('c0', 'c1', 'c2', 'c4'),\n",
    "    'r3v3': ('c0', 'c1', 'c2', 'c4'),\n",
    "    'r4v3': ('c0', 'c1', 'c2', 'c4'),\n",
    "    'r7v3': ('c0', 'c1', 'c2', 'c4'),\n",
    "})\n",
    "\n",
    "dapi_channel = 'c3'\n",
    "lb_scale = 's3'\n",
    "lb_res = [1.84,1.84,1.68]\n",
    "ex = 2\n",
    "\n",
    "# images\n",
    "fix_dir  =  ddir + f\"/outputs/{fix_round}/stitching/export.n5\"\n",
    "lb_dir  =   ddir + f\"/outputs/{fix_round}/segmentation/{fix_round}-{dapi_channel}.tif\"\n",
    "reg_dirs = [\n",
    "    ddir + f\"/outputs/r3v3/registration/r3v3-to-r2v3/warped\",\n",
    "    ddir + f\"/outputs/r4v3/registration/r4v3-to-r2v3/warped\",\n",
    "    ddir + f\"/outputs/r7v3/registration/r7v3-to-r2v3/warped\",\n",
    "    ]\n",
    "subpath =   f'/{dapi_channel}_reg/{lb_scale}' \n",
    "\n",
    "\n",
    "# spot dir for every gene\n",
    "# fx_spots = np.hstack([[ddir + f'/outputs/{r}/spots/spots_{c}.txt' \n",
    "#                         for c in chs]\n",
    "#                         for r,chs in round_channels.items()])\n",
    "\n",
    "# fx_intns = np.hstack([[ddir + f'/outputs/{r}/intensities/{r}_{c}_intensity.csv' \n",
    "#                         for c in chs]\n",
    "#                         for r,chs in round_channels.items()])\n",
    "\n",
    "fx_spots = [\n",
    "    ddir + f'/outputs/r2v3/spots/spots_c0.txt',\n",
    "    ddir + f'/outputs/r2v3/spots/spots_c1.txt',\n",
    "    ddir + f'/outputs/r2v3/spots/spots_c2.txt',\n",
    "    ddir + f'/outputs/r2v3/spots/spots_c4.txt',\n",
    "    \n",
    "    ddir + f'/outputs/r3v3/spots/r3v3-to-r2v3/spots_c0-warped.txt',\n",
    "    ddir + f'/outputs/r3v3/spots/r3v3-to-r2v3/spots_c1-warped.txt',\n",
    "    ddir + f'/outputs/r3v3/spots/r3v3-to-r2v3/spots_c2-warped.txt',\n",
    "    ddir + f'/outputs/r3v3/spots/r3v3-to-r2v3/spots_c4-warped.txt',\n",
    "    \n",
    "    ddir + f'/outputs/r4v3/spots/r4v3-to-r2v3/spots_c0-warped.txt',\n",
    "    ddir + f'/outputs/r4v3/spots/r4v3-to-r2v3/spots_c1-warped.txt',\n",
    "    ddir + f'/outputs/r4v3/spots/r4v3-to-r2v3/spots_c2-warped.txt',\n",
    "    ddir + f'/outputs/r4v3/spots/r4v3-to-r2v3/spots_c4-warped.txt',\n",
    "    \n",
    "    ddir + f'/outputs/r7v3/spots/r7v3-to-r2v3/spots_c0-warped.txt',\n",
    "    ddir + f'/outputs/r7v3/spots/r7v3-to-r2v3/spots_c1-warped.txt',\n",
    "    ddir + f'/outputs/r7v3/spots/r7v3-to-r2v3/spots_c2-warped.txt',\n",
    "    ddir + f'/outputs/r7v3/spots/r7v3-to-r2v3/spots_c4-warped.txt',\n",
    "]\n",
    "\n",
    "\n",
    "intn_threshs = [\n",
    "    20, # 110-90,\n",
    "    50, # 200-90, #\n",
    "    20, # 110-90,\n",
    "    20, # 110-90, \n",
    "    \n",
    "    20, # 110-90,\n",
    "    50, # 200-90, #\n",
    "    20, # 110-90,\n",
    "    20, # 110-90, \n",
    "    \n",
    "    20, # 110-90,\n",
    "    50, # 200-90, #\n",
    "    20, # 110-90,\n",
    "    20, # 110-90, \n",
    "    \n",
    "    20, # 110-90,\n",
    "    50, # 200-90, #\n",
    "    20, # 110-90,\n",
    "    20, # 110-90, \n",
    "]\n",
    "    \n",
    "for f in fx_spots:\n",
    "    assert os.path.isfile(f)\n",
    "# for f in fx_intns:\n",
    "#     assert os.path.isfile(f)\n",
    "\n",
    "## output\n",
    "out_badroi = os.path.join(output_dir, 'bad_roi_list.npy')\n",
    "out_allroi = os.path.join(output_dir, \"roi_all.csv\") \n",
    "out_roi = os.path.join(output_dir, \"roi.csv\") \n",
    "out_spots = os.path.join(output_dir, \"spotcount.csv\")\n",
    "\n",
    "# out_spots_intn = os.path.join(output_dir, \"spotcount_intn.csv\")\n",
    "# out_spots_merged = os.path.join(output_dir, 'spotcount_merged.csv')"
   ]
  },
  {
   "cell_type": "code",
   "execution_count": null,
   "id": "06c53b42-c8ad-4379-a404-dc87fc9f933b",
   "metadata": {
    "tags": []
   },
   "outputs": [],
   "source": [
    "REMOVE_BLEEDTHRU = False\n",
    "\n",
    "# remove bleed through!\n",
    "if REMOVE_BLEEDTHRU:\n",
    "    \n",
    "    bleed_thru_epsilon = 1\n",
    "    c_qry = 'c0'\n",
    "    c_ref = 'c4'\n",
    "\n",
    "    f_ref = ddir+f'/outputs/{theround}/spots/spots_{c_ref}.txt'\n",
    "    f_qry = ddir+f'/outputs/{theround}/spots/spots_{c_qry}.txt'\n",
    "    f_qry_kept = os.path.join(output_dir, f'kept_spots_{theround}_{c_qry}.txt')\n",
    "\n",
    "    ref_dots = np.loadtxt(f_ref, delimiter=',')\n",
    "    qry_dots = np.loadtxt(f_qry, delimiter=',')\n",
    "    qry_kept, qry_removed = spot.remove_bleed_thru_spots(ref_dots, qry_dots, epsilon=bleed_thru_epsilon)\n",
    "\n",
    "    # save \n",
    "    np.savetxt(f_qry_kept, qry_kept, delimiter=\",\")\n",
    "    \n",
    "    ### TODO - replace f_qry with f_qry_kept in spot list"
   ]
  },
  {
   "cell_type": "code",
   "execution_count": null,
   "id": "698b1837",
   "metadata": {
    "tags": []
   },
   "outputs": [],
   "source": [
    "%%time\n",
    "# output dir\n",
    "if not os.path.isdir(output_dir):\n",
    "    print(output_dir)\n",
    "    os.mkdir(output_dir)\n",
    "    \n",
    "# image size in pixel (x, y, z)\n",
    "grid = n5mu.read_voxel_grid(fix_dir, subpath)\n",
    "# voxel resolution in µm (x, y, z) (post-expansion)\n",
    "vox  = n5mu.read_voxel_spacing(fix_dir, subpath)\n",
    "# image size in physical space (x, y, z) (post-expansion)\n",
    "size = grid*vox\n",
    "print('subpath: ', subpath)\n",
    "print('voxel size: ', vox)\n",
    "print('image size (pixel): ', grid)\n",
    "print('image size (um post-ex): ', size)\n",
    "\n",
    "# get image data\n",
    "# print(\"loading images...\")\n",
    "# fix = zarr.open(store=zarr.N5Store(fix_dir), mode='r')     \n",
    "# img1 = fix[subpath][:, :, :]\n",
    "\n",
    "# get segmentation mask\n",
    "lb = imread(lb_dir)\n",
    "# roi = np.max(lb) # this is only correct if this lb is uncropped\n",
    "roi = len(np.unique(lb[lb!=0])) # this would be better\n",
    "print(lb.shape)\n",
    "print('num roi: ', roi)"
   ]
  },
  {
   "cell_type": "code",
   "execution_count": null,
   "id": "579b0b93-ffd0-48de-a509-4f5bbe22fcd1",
   "metadata": {
    "tags": []
   },
   "outputs": [],
   "source": [
    "# %%time\n",
    "# bad_roi = []\n",
    "# for reg_dir in reg_dirs:\n",
    "#     reg = zarr.open(store=zarr.N5Store(reg_dir), mode='r')     \n",
    "#     img2 = reg[subpath][...]\n",
    "#     print(\"image loaded\")\n",
    "    \n",
    "#     # get bad pixels -> bad roi\n",
    "#     bad_roi_thisround = np.unique(lb[np.nonzero(img2==0)])\n",
    "#     bad_roi.append(bad_roi_thisround)\n",
    "#     print(\"# of ROIs rejected this round:\", len(bad_roi_thisround))\n",
    "    \n",
    "# bad_roi = np.unique(np.hstack(bad_roi))\n",
    "# print(\"# of ROIs rejected:\", len(bad_roi))\n",
    "# bad_roi"
   ]
  },
  {
   "cell_type": "code",
   "execution_count": null,
   "id": "88b47857-3f8c-4148-9dff-b73004211542",
   "metadata": {
    "tags": []
   },
   "outputs": [],
   "source": [
    "%%time\n",
    "# # Get list of ROIs that are fully or partially outside the mask \n",
    "### Make sure to only include ROIs that are intact and in the overlapping regions across all rounds of FISH\n",
    "### remove any unregistered parts\n",
    "mask = np.ones(grid[::-1])\n",
    "if len(reg_dirs) > 0:\n",
    "    for reg_dir in reg_dirs:\n",
    "        reg = zarr.open(store=zarr.N5Store(reg_dir), mode='r')     \n",
    "        img2 = reg[subpath][...]\n",
    "        print(\"image loaded\")\n",
    "        mask[img2==0]=0\n",
    "    print(\"mask generated\")\n",
    "\n",
    "    bad_roi = np.unique(lb[mask==0])\n",
    "    if bad_roi[0] == 0: # remove the label 0 - extracellular space\n",
    "        bad_roi = bad_roi[1:]\n",
    "    np.save(out_badroi, bad_roi)\n",
    "    print(\"# of ROIs rejected:\", len(bad_roi))"
   ]
  },
  {
   "cell_type": "code",
   "execution_count": null,
   "id": "7c0f7f66",
   "metadata": {
    "tags": []
   },
   "outputs": [],
   "source": [
    "%%time\n",
    "# get cell locations (in um - pre-expansion) from segmentation mask\n",
    "roi_meta_all = roi_prop.roi_prop_v2(lb, lb_res, ex)\n",
    "roi_meta_all.to_csv(out_allroi)\n",
    "\n",
    "roi_meta = roi_meta_all.set_index('roi').copy()\n",
    "roi_meta = roi_meta #.loc[roi_meta.index.difference(bad_roi)]\n",
    "roi_meta.to_csv(out_roi)"
   ]
  },
  {
   "cell_type": "code",
   "execution_count": null,
   "id": "dd767d92-47eb-449b-9455-fc9522d2fc01",
   "metadata": {
    "tags": []
   },
   "outputs": [],
   "source": [
    "%%time\n",
    "\n",
    "# count spots for every cell (roi)\n",
    "\n",
    "# all labels\n",
    "lb_id = np.unique(lb[lb!=0]) # exclude 0\n",
    "lb_id = np.hstack([[0], lb_id]) # include 0 - noncell\n",
    "# selected cells\n",
    "lb_id_selected = roi_meta.index.values\n",
    "\n",
    "# prep\n",
    "spotcount = pd.DataFrame(index=lb_id_selected, dtype=int)\n",
    "# spotcount_intn = pd.DataFrame(index=lb_id_selected, dtype=float)\n",
    "\n",
    "i = 0\n",
    "for r,chs in round_channels.items():\n",
    "    for c in chs:\n",
    "        # f_intns = fx_intns[i]\n",
    "        f_spots = fx_spots[i]\n",
    "        intn_th = intn_threshs[i]\n",
    "        print(r, c, f_spots) #, f_intns)\n",
    "\n",
    "        # spots\n",
    "        spots_rc = np.loadtxt(f_spots, delimiter=',')\n",
    "        print(len(spots_rc))\n",
    "\n",
    "        # filter\n",
    "        filter_cond = spots_rc[:,3] > intn_th\n",
    "        spots_rc = spots_rc[filter_cond]\n",
    "        print(len(spots_rc))\n",
    "\n",
    "        # count spots\n",
    "        res = spot.spot_counts_worker(lb, spots_rc, lb_res,\n",
    "                                      lb_id=lb_id, \n",
    "                                      remove_noncell=True, \n",
    "                                      selected_roi_list=lb_id_selected,\n",
    "                                      )\n",
    "        spotcount[f\"{r}_{c}\"] = res \n",
    "\n",
    "        # # count spots by intensity\n",
    "        # res = spot.get_spot_counts_from_intn(f_intns, f_spots, roi_meta, lb_res)\n",
    "        # spotcount_intn[f'{r}_{c}'] = res\n",
    "        i = i + 1\n",
    "    \n",
    "# save results\n",
    "spotcount.to_csv(out_spots)\n",
    "# spotcount_intn.to_csv(out_spots_intn)"
   ]
  },
  {
   "cell_type": "code",
   "execution_count": null,
   "id": "34116fe0",
   "metadata": {
    "tags": []
   },
   "outputs": [],
   "source": [
    "# # reconcile two spot counts\n",
    "# dist_cutoff = 2 # um pre-expansion\n",
    "# density = spotcount.divide(roi_meta['area'], axis=0)\n",
    "# cond = density < 1/(dist_cutoff**3) # keep spots if density is low\n",
    "\n",
    "# print(\"# cells have high density: \", (~cond).sum()) \n",
    "# spotcount_merged = spotcount.where(cond, spotcount_intn)  # replace where the condition is False\n",
    "# spotcount_merged.to_csv(out_spots_merged)\n",
    "# spotcount_merged"
   ]
  },
  {
   "cell_type": "code",
   "execution_count": null,
   "id": "713a5d5c-1faf-4dcf-8753-a659aa6eb2db",
   "metadata": {},
   "outputs": [],
   "source": []
  },
  {
   "cell_type": "markdown",
   "id": "980c026e-df2a-4dea-a61e-cd6020565114",
   "metadata": {},
   "source": [
    "# check - c0"
   ]
  },
  {
   "cell_type": "code",
   "execution_count": null,
   "id": "5a4150ba-8ac8-4024-b487-82a39d887a73",
   "metadata": {
    "tags": []
   },
   "outputs": [],
   "source": [
    "def plot_reverse_cumsum(counts, bins=np.arange(0,11,1), ymax=None):\n",
    "    \"\"\"\n",
    "    \"\"\"\n",
    "    fig, ax = plt.subplots(figsize=(8,6))\n",
    "    ax2 = ax.twinx()\n",
    "    ax.set_xlabel('num spots')\n",
    "    ax.set_ylabel('num cells (cumulative)')\n",
    "    ax2.set_ylabel('fraction of cells')\n",
    "    \n",
    "    n = len(counts)\n",
    "    cnts, _ = np.histogram(counts, bins)\n",
    "    rev_cumsum = n-np.cumsum(cnts)\n",
    "        \n",
    "    ax.plot(bins[1:], rev_cumsum, '-o', )\n",
    "    ax2.plot(bins[1:], rev_cumsum/n, '-o', )\n",
    "    \n",
    "    if ymax:\n",
    "        ax.set_ylim(ymin=0, ymax=ymax)\n",
    "        ax2.set_ylim(ymin=0, ymax=ymax/n)\n",
    "        \n",
    "    ax.grid(False)\n",
    "    ax2.grid(False)\n",
    "    \n",
    "    return fig\n",
    "\n",
    "def plot_reverse_cumsum_complex(counts_list, label_list=None, color_list=None, bins=np.arange(0,11,1), ymax=None):\n",
    "    \"\"\"\n",
    "    \"\"\"\n",
    "    fig, axs = plt.subplots(1,2,figsize=(2*8,6))\n",
    "    ax = axs[0]\n",
    "    ax2 = ax.twinx()\n",
    "    ax.set_xlabel('num spots')\n",
    "    ax.set_ylabel('num cells (cumulative)')\n",
    "    ax2.set_ylabel('fraction of cells')\n",
    "    \n",
    "    if label_list is None:\n",
    "        label_list = np.arange(len(counts_list))\n",
    "    if color_list is None:\n",
    "        color_list = sns.color_palette(n_colors=3)\n",
    "        \n",
    "    cumsum_list = []\n",
    "    n = len(counts_list[0])\n",
    "    for counts in counts_list:\n",
    "        assert n == len(counts) # assumes len(counts) is the same\n",
    "        cnts, _ = np.histogram(counts, bins)\n",
    "        rev_cumsum = n-np.cumsum(cnts)\n",
    "        cumsum_list.append(rev_cumsum)\n",
    "        \n",
    "    for revcnts, lb, color in zip(cumsum_list, label_list, color_list):\n",
    "        ax.plot(bins[1:], revcnts, '-o', label=lb, color=color)\n",
    "        ax2.plot(bins[1:], revcnts/n, '-o', label=lb, color=color)\n",
    "    \n",
    "    if ymax:\n",
    "        ax.set_ylim(ymin=0, ymax=ymax)\n",
    "        ax2.set_ylim(ymin=0, ymax=ymax/n)\n",
    "        \n",
    "    ax.grid(False)\n",
    "    ax2.grid(False)\n",
    "    \n",
    "    ax = axs[1]\n",
    "    lb = label_list[1]\n",
    "    color = color_list[1]\n",
    "    ax.plot(bins[1:], cumsum_list[1]/cumsum_list[0], '-o', label=lb, color=color)\n",
    "    \n",
    "    lb = label_list[2]\n",
    "    color = color_list[2]\n",
    "    ax.plot(bins[1:], cumsum_list[2]/cumsum_list[0], '-o', label=lb, color=color)\n",
    "    ax.set_yscale('log')\n",
    "    ax.set_yticks([1,0.1,0.05,0.01])\n",
    "    ax.set_yticklabels([1,0.1,0.05, 0.01])\n",
    "    ax.set_ylabel('eFDR (shuff/data)')\n",
    "    \n",
    "    fig.subplots_adjust(wspace=0.4)\n",
    "    \n",
    "    return fig, axs\n",
    "\n",
    "def plot_frac(data, shff, bins=np.arange(0,11,1)):\n",
    "    \"\"\"\n",
    "    \"\"\"\n",
    "    fig, ax = plt.subplots()\n",
    "    \n",
    "    cnts_data, bins = np.histogram(data, bins)\n",
    "    cnts_shff, bins = np.histogram(shff, bins)\n",
    "    \n",
    "    ax.plot(bins[1:], cnts_shff/cnts_data, '-o')\n",
    "    ax.set_yscale('log')\n",
    "    ax.set_yticks([1,0.1,0.05,0.01])\n",
    "    ax.set_yticklabels([1,0.1,0.05, 0.01])\n",
    "    \n",
    "    return fig"
   ]
  },
  {
   "cell_type": "code",
   "execution_count": null,
   "id": "4f274b18-8682-47a9-98fa-507f0a6a58a4",
   "metadata": {
    "tags": []
   },
   "outputs": [],
   "source": [
    "i = 0\n",
    "c = chs[i]\n",
    "f_spots = fx_spots[i]\n",
    "intn_th = intn_threshs[i]\n",
    "print(r, c, f_spots) #, f_intns)\n",
    "\n",
    "# spots\n",
    "spots_rc = np.loadtxt(f_spots, delimiter=',')\n",
    "print(len(spots_rc))\n",
    "\n",
    "# filter\n",
    "filter_cond = spots_rc[:,3] > intn_th\n",
    "spots_rc = spots_rc[filter_cond]\n",
    "print(len(spots_rc))"
   ]
  },
  {
   "cell_type": "code",
   "execution_count": null,
   "id": "a5141bc9-4248-49c7-b324-10b3b79122e5",
   "metadata": {
    "tags": []
   },
   "outputs": [],
   "source": [
    "spots = np.round(spots_rc[:,:3]/lb_res).astype(int)-1\n",
    "spots_lb = lb[spots[:,2], spots[:,1], spots[:,0]] # z, y, x\n",
    "spots_lb_outside = (spots_lb == 0)\n",
    "print(f\"fraction of spots outside of cells: {spots_lb_outside.sum()/len(spots):.2f}\")\n",
    "print(f\"fraction of space outside of cells: {np.sum(lb==0)/lb.size:.2f}\")"
   ]
  },
  {
   "cell_type": "code",
   "execution_count": null,
   "id": "570300e2-aace-453b-be35-5e251f3eb96a",
   "metadata": {
    "tags": []
   },
   "outputs": [],
   "source": [
    "%%time\n",
    "# shuffle everywhere\n",
    "lb_shuff = lb.copy()\n",
    "np.random.shuffle(np.ravel(lb_shuff))\n",
    "lb_shuff = lb_shuff.reshape(lb.shape)"
   ]
  },
  {
   "cell_type": "code",
   "execution_count": null,
   "id": "f7fec193-944c-4d7a-af63-2238ae7387fe",
   "metadata": {
    "tags": []
   },
   "outputs": [],
   "source": [
    "%%time\n",
    "# shuffle in cells\n",
    "i, j, k = lb.nonzero()\n",
    "v = lb[i,j,k]\n",
    "np.random.shuffle(v)\n",
    "lb_shuff2 = np.zeros(lb.shape)\n",
    "lb_shuff2[i,j,k] = v"
   ]
  },
  {
   "cell_type": "code",
   "execution_count": null,
   "id": "065a9949-0500-4248-b1dc-04b4603f36d2",
   "metadata": {
    "tags": []
   },
   "outputs": [],
   "source": [
    "res        = spot.spot_counts_worker(lb, spots_rc, lb_res,\n",
    "                              lb_id=lb_id, \n",
    "                              remove_noncell=True, \n",
    "                              selected_roi_list=lb_id_selected,\n",
    "                              )\n",
    "res_shuff  = spot.spot_counts_worker(lb_shuff, spots_rc, lb_res,\n",
    "                              lb_id=lb_id, \n",
    "                              remove_noncell=True, \n",
    "                              selected_roi_list=lb_id_selected,\n",
    "                              )\n",
    "res_shuff2 = spot.spot_counts_worker(lb_shuff2, spots_rc, lb_res,\n",
    "                              lb_id=lb_id, \n",
    "                              remove_noncell=True, \n",
    "                              selected_roi_list=lb_id_selected,\n",
    "                              )"
   ]
  },
  {
   "cell_type": "code",
   "execution_count": null,
   "id": "f0dba358-696c-402d-8e1d-29c8c6ff2a91",
   "metadata": {
    "tags": []
   },
   "outputs": [],
   "source": [
    "plt.scatter(spots_rc[:,0]/ex, spots_rc[:,1]/ex, s=1, edgecolor='none')\n",
    "plt.gca().set_aspect('equal')"
   ]
  },
  {
   "cell_type": "code",
   "execution_count": null,
   "id": "a0c9262c-9224-46ea-8b08-ee6cb30450ca",
   "metadata": {
    "tags": []
   },
   "outputs": [],
   "source": [
    "plt.scatter(spots_rc[:,0]/ex, spots_rc[:,2]/ex, s=1, edgecolor='none')\n",
    "plt.gca().set_aspect('equal')"
   ]
  },
  {
   "cell_type": "code",
   "execution_count": null,
   "id": "d68a2dbd-f145-493d-9f8b-1f240626ac4f",
   "metadata": {
    "tags": []
   },
   "outputs": [],
   "source": [
    "plt.scatter(spots_rc[:,1]/ex, spots_rc[:,2]/ex, s=1, edgecolor='none')\n",
    "plt.gca().set_aspect('equal')"
   ]
  },
  {
   "cell_type": "code",
   "execution_count": null,
   "id": "3dfb72e7-95eb-4a7c-a82f-93e151ff03c7",
   "metadata": {
    "tags": []
   },
   "outputs": [],
   "source": [
    "counts = res.values\n",
    "counts_shuff  = res_shuff.values\n",
    "counts_shuff2 = res_shuff2.values\n",
    "\n",
    "fig = plot_reverse_cumsum(counts)\n",
    "plt.show()\n",
    "\n",
    "fig, axs = plot_reverse_cumsum_complex([counts, counts_shuff, counts_shuff2], \n",
    "                                label_list=['data', 'shuffled', 'shuffled in cells'],\n",
    "                                color_list=['C0', 'black', 'gray'],\n",
    "                                ymax=15000,\n",
    "                               )\n",
    "axs[0].legend()\n",
    "plt.show()"
   ]
  },
  {
   "cell_type": "code",
   "execution_count": null,
   "id": "727b7ea1-72c4-4bb7-8aa7-fd2a57a6dfb5",
   "metadata": {
    "tags": []
   },
   "outputs": [],
   "source": [
    "table = roi_meta.join(spotcount) #_merged)\n",
    "table"
   ]
  },
  {
   "cell_type": "code",
   "execution_count": null,
   "id": "32da9c27-d5c9-4be2-8564-79c8e229108a",
   "metadata": {
    "tags": []
   },
   "outputs": [],
   "source": [
    "cond = table['r1_c0']>=10\n",
    "\n",
    "fig, axs = plt.subplots(1, 3, figsize=(3*8,1*6))\n",
    "ax = axs[0]\n",
    "g = ax.scatter(table['x'], table['y'], c='lightgray', s=1, edgecolor='none')\n",
    "g = ax.scatter(table['x'][cond], table['y'][cond], c='red', s=3, edgecolor='none')\n",
    "# fig.colorbar(g, shrink=0.3)\n",
    "ax.set_aspect('equal')\n",
    "\n",
    "ax = axs[1]\n",
    "g = ax.scatter(table['x'], table['z'], c='lightgray', s=1, edgecolor='none')\n",
    "g = ax.scatter(table['x'][cond], table['z'][cond], c='red', s=3, edgecolor='none')\n",
    "# fig.colorbar(g, shrink=0.3)\n",
    "ax.set_aspect('equal')\n",
    "\n",
    "ax = axs[2]\n",
    "g = ax.scatter(table['y'], table['z'], c='lightgray', s=1, edgecolor='none')\n",
    "g = ax.scatter(table['y'][cond], table['z'][cond], c='red', s=3, edgecolor='none')\n",
    "# fig.colorbar(g, shrink=0.3)\n",
    "ax.set_aspect('equal')\n",
    "plt.show()"
   ]
  },
  {
   "cell_type": "code",
   "execution_count": null,
   "id": "1b8f95bb-2d4c-4760-bd8e-53f206d6acfc",
   "metadata": {
    "tags": []
   },
   "outputs": [],
   "source": [
    "\n",
    "for i in [1,2,5,8,10]:\n",
    "    cond = table['r1_c2']>=i\n",
    "    \n",
    "    fig, axs = plt.subplots(1, 3, figsize=(3*8,1*6))\n",
    "    fig.suptitle(f\">= {i} spots (n={cond.sum()})\")\n",
    "    ax = axs[0]\n",
    "    g = ax.scatter(table['x'], table['y'], c='lightgray', s=1, edgecolor='none')\n",
    "    g = ax.scatter(table['x'][cond], table['y'][cond], c='red', s=3, edgecolor='none')\n",
    "    # fig.colorbar(g, shrink=0.3)\n",
    "    ax.set_aspect('equal')\n",
    "\n",
    "    ax = axs[1]\n",
    "    g = ax.scatter(table['x'], table['z'], c='lightgray', s=1, edgecolor='none')\n",
    "    g = ax.scatter(table['x'][cond], table['z'][cond], c='red', s=3, edgecolor='none')\n",
    "    # fig.colorbar(g, shrink=0.3)\n",
    "    ax.set_aspect('equal')\n",
    "\n",
    "    ax = axs[2]\n",
    "    g = ax.scatter(table['y'], table['z'], c='lightgray', s=1, edgecolor='none')\n",
    "    g = ax.scatter(table['y'][cond], table['z'][cond], c='red', s=3, edgecolor='none')\n",
    "    # fig.colorbar(g, shrink=0.3)\n",
    "    ax.set_aspect('equal')\n",
    "    plt.show()\n"
   ]
  },
  {
   "cell_type": "code",
   "execution_count": null,
   "id": "6a24ee4d-80dd-4b8d-ba54-b3a7f9b38757",
   "metadata": {},
   "outputs": [],
   "source": []
  },
  {
   "cell_type": "code",
   "execution_count": null,
   "id": "403fbce7-482f-45ad-ae99-e98aff8a19b8",
   "metadata": {},
   "outputs": [],
   "source": []
  },
  {
   "cell_type": "markdown",
   "id": "61c1ce3a-ba63-4727-83d3-b49a592a0ecd",
   "metadata": {},
   "source": [
    "# check - c2"
   ]
  },
  {
   "cell_type": "code",
   "execution_count": null,
   "id": "bb8bf7ec-046b-41dd-bd80-4bccc58dba59",
   "metadata": {
    "tags": []
   },
   "outputs": [],
   "source": [
    "i = 1\n",
    "c = chs[i]\n",
    "f_spots = fx_spots[i]\n",
    "intn_th = intn_threshs[i]\n",
    "print(r, c, f_spots) #, f_intns)\n",
    "\n",
    "# spots\n",
    "spots_rc = np.loadtxt(f_spots, delimiter=',')\n",
    "print(len(spots_rc))\n",
    "\n",
    "# filter\n",
    "filter_cond = spots_rc[:,3] > intn_th\n",
    "spots_rc = spots_rc[filter_cond]\n",
    "print(len(spots_rc))"
   ]
  },
  {
   "cell_type": "code",
   "execution_count": null,
   "id": "67a90cdb-1fdd-4109-9a0a-9b97a7c88736",
   "metadata": {
    "tags": []
   },
   "outputs": [],
   "source": [
    "spots = np.round(spots_rc[:,:3]/lb_res).astype(int)-1\n",
    "spots_lb = lb[spots[:,2], spots[:,1], spots[:,0]] # z, y, x\n",
    "spots_lb_outside = (spots_lb == 0)\n",
    "print(f\"fraction of spots outside of cells: {spots_lb_outside.sum()/len(spots):.2f}\")\n",
    "print(f\"fraction of space outside of cells: {np.sum(lb==0)/lb.size:.2f}\")"
   ]
  },
  {
   "cell_type": "code",
   "execution_count": null,
   "id": "2dcd3fa1-bfcf-44a6-80d6-0304165baae0",
   "metadata": {
    "tags": []
   },
   "outputs": [],
   "source": [
    "%%time\n",
    "# shuffle everywhere\n",
    "lb_shuff = lb.copy()\n",
    "np.random.shuffle(np.ravel(lb_shuff))\n",
    "lb_shuff = lb_shuff.reshape(lb.shape)"
   ]
  },
  {
   "cell_type": "code",
   "execution_count": null,
   "id": "a61cb0f8-aa44-4774-8286-475bd0c2561d",
   "metadata": {
    "tags": []
   },
   "outputs": [],
   "source": [
    "%%time\n",
    "# shuffle in cells\n",
    "i, j, k = lb.nonzero()\n",
    "v = lb[i,j,k]\n",
    "np.random.shuffle(v)\n",
    "lb_shuff2 = np.zeros(lb.shape)\n",
    "lb_shuff2[i,j,k] = v"
   ]
  },
  {
   "cell_type": "code",
   "execution_count": null,
   "id": "b54d43f3-9a6d-4774-a58d-6805364107f6",
   "metadata": {
    "tags": []
   },
   "outputs": [],
   "source": [
    "res        = spot.spot_counts_worker(lb, spots_rc, lb_res,\n",
    "                              lb_id=lb_id, \n",
    "                              remove_noncell=True, \n",
    "                              selected_roi_list=lb_id_selected,\n",
    "                              )\n",
    "res_shuff  = spot.spot_counts_worker(lb_shuff, spots_rc, lb_res,\n",
    "                              lb_id=lb_id, \n",
    "                              remove_noncell=True, \n",
    "                              selected_roi_list=lb_id_selected,\n",
    "                              )\n",
    "res_shuff2 = spot.spot_counts_worker(lb_shuff2, spots_rc, lb_res,\n",
    "                              lb_id=lb_id, \n",
    "                              remove_noncell=True, \n",
    "                              selected_roi_list=lb_id_selected,\n",
    "                              )"
   ]
  },
  {
   "cell_type": "code",
   "execution_count": null,
   "id": "1f693917-269f-4e25-9fb6-b1405b2fee7a",
   "metadata": {
    "tags": []
   },
   "outputs": [],
   "source": [
    "plt.scatter(spots_rc[:,0]/ex, spots_rc[:,1]/ex, s=1, edgecolor='none')\n",
    "plt.gca().set_aspect('equal')"
   ]
  },
  {
   "cell_type": "code",
   "execution_count": null,
   "id": "7b419dad-cd68-48c5-a0fe-a8aff1bbf628",
   "metadata": {
    "tags": []
   },
   "outputs": [],
   "source": [
    "plt.scatter(spots_rc[:,0]/ex, spots_rc[:,2]/ex, s=1, edgecolor='none')\n",
    "plt.gca().set_aspect('equal')"
   ]
  },
  {
   "cell_type": "code",
   "execution_count": null,
   "id": "4b0bc350-a9e3-4627-bcb3-5638afc43572",
   "metadata": {
    "tags": []
   },
   "outputs": [],
   "source": [
    "plt.scatter(spots_rc[:,1]/ex, spots_rc[:,2]/ex, s=1, edgecolor='none')\n",
    "plt.gca().set_aspect('equal')"
   ]
  },
  {
   "cell_type": "code",
   "execution_count": null,
   "id": "610ec9bb-aec3-4820-bbf6-dad6a8dc309b",
   "metadata": {
    "tags": []
   },
   "outputs": [],
   "source": [
    "counts = res.values\n",
    "counts_shuff  = res_shuff.values\n",
    "counts_shuff2 = res_shuff2.values\n",
    "\n",
    "fig = plot_reverse_cumsum(counts)\n",
    "plt.show()\n",
    "\n",
    "fig, axs = plot_reverse_cumsum_complex([counts, counts_shuff, counts_shuff2], \n",
    "                                label_list=['data', 'shuffled', 'shuffled in cells'],\n",
    "                                color_list=['C0', 'black', 'gray'],\n",
    "                                ymax=15000,\n",
    "                               )\n",
    "axs[0].legend()\n",
    "plt.show()"
   ]
  },
  {
   "cell_type": "code",
   "execution_count": null,
   "id": "3f70c6c9-bf39-4775-b52c-2b27a49c137c",
   "metadata": {
    "tags": []
   },
   "outputs": [],
   "source": [
    "table = roi_meta.join(spotcount) #_merged)\n",
    "table"
   ]
  },
  {
   "cell_type": "code",
   "execution_count": null,
   "id": "ad7911cd-d69e-430c-8222-2c8dc62c656f",
   "metadata": {
    "tags": []
   },
   "outputs": [],
   "source": [
    "cond = table['r1_c2']>=5\n",
    "\n",
    "fig, axs = plt.subplots(1, 3, figsize=(3*8,1*6))\n",
    "ax = axs[0]\n",
    "g = ax.scatter(table['x'], table['y'], c='lightgray', s=1, edgecolor='none')\n",
    "g = ax.scatter(table['x'][cond], table['y'][cond], c='red', s=3, edgecolor='none')\n",
    "# fig.colorbar(g, shrink=0.3)\n",
    "ax.set_aspect('equal')\n",
    "\n",
    "ax = axs[1]\n",
    "g = ax.scatter(table['x'], table['z'], c='lightgray', s=1, edgecolor='none')\n",
    "g = ax.scatter(table['x'][cond], table['z'][cond], c='red', s=3, edgecolor='none')\n",
    "# fig.colorbar(g, shrink=0.3)\n",
    "ax.set_aspect('equal')\n",
    "\n",
    "ax = axs[2]\n",
    "g = ax.scatter(table['y'], table['z'], c='lightgray', s=1, edgecolor='none')\n",
    "g = ax.scatter(table['y'][cond], table['z'][cond], c='red', s=3, edgecolor='none')\n",
    "# fig.colorbar(g, shrink=0.3)\n",
    "ax.set_aspect('equal')\n",
    "plt.show()"
   ]
  },
  {
   "cell_type": "code",
   "execution_count": null,
   "id": "d58270dd-9fac-4c33-91c0-f0c2f5afe9a9",
   "metadata": {
    "tags": []
   },
   "outputs": [],
   "source": [
    "\n",
    "for i in [1,2,5,8,10]:\n",
    "    cond = table['r1_c2']>=i\n",
    "    \n",
    "    fig, axs = plt.subplots(1, 3, figsize=(3*8,1*6))\n",
    "    fig.suptitle(f\">= {i} spots (n={cond.sum()})\")\n",
    "    ax = axs[0]\n",
    "    g = ax.scatter(table['x'], table['y'], c='lightgray', s=1, edgecolor='none')\n",
    "    g = ax.scatter(table['x'][cond], table['y'][cond], c='red', s=3, edgecolor='none')\n",
    "    # fig.colorbar(g, shrink=0.3)\n",
    "    ax.set_aspect('equal')\n",
    "\n",
    "    ax = axs[1]\n",
    "    g = ax.scatter(table['x'], table['z'], c='lightgray', s=1, edgecolor='none')\n",
    "    g = ax.scatter(table['x'][cond], table['z'][cond], c='red', s=3, edgecolor='none')\n",
    "    # fig.colorbar(g, shrink=0.3)\n",
    "    ax.set_aspect('equal')\n",
    "\n",
    "    ax = axs[2]\n",
    "    g = ax.scatter(table['y'], table['z'], c='lightgray', s=1, edgecolor='none')\n",
    "    g = ax.scatter(table['y'][cond], table['z'][cond], c='red', s=3, edgecolor='none')\n",
    "    # fig.colorbar(g, shrink=0.3)\n",
    "    ax.set_aspect('equal')\n",
    "    plt.show()\n"
   ]
  }
 ],
 "metadata": {
  "kernelspec": {
   "display_name": "Python 3 (ipykernel)",
   "language": "python",
   "name": "python3"
  },
  "language_info": {
   "codemirror_mode": {
    "name": "ipython",
    "version": 3
   },
   "file_extension": ".py",
   "mimetype": "text/x-python",
   "name": "python",
   "nbconvert_exporter": "python",
   "pygments_lexer": "ipython3",
   "version": "3.9.16"
  }
 },
 "nbformat": 4,
 "nbformat_minor": 5
}
