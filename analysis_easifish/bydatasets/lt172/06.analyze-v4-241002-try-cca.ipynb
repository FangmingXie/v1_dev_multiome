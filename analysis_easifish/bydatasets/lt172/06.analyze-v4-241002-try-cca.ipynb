{
 "cells": [
  {
   "cell_type": "markdown",
   "id": "b1b45a35-9b73-4a58-ab3f-308829d6e3e0",
   "metadata": {},
   "source": [
    "# analysis V4 - new basis code - Dec 6, 2023\n",
    "- cleaned up the data QC and organizations a bit\n",
    "- having two anndata and their spin offs - both FISH and proj data \n",
    "- flip an axis (y-axis) when plotting - not in data\n",
    "- focus on L2/3 cells\n",
    "\n",
    "TODO: \n",
    "- separate and organize plotting functions \n",
    "- organize the plots and generate more insights"
   ]
  },
  {
   "cell_type": "code",
   "execution_count": null,
   "id": "a3a95741-400b-452b-b98d-61cae1d845ae",
   "metadata": {
    "tags": []
   },
   "outputs": [],
   "source": [
    "import numpy as np\n",
    "import pandas as pd\n",
    "import os \n",
    "import matplotlib.pyplot as plt\n",
    "import umap\n",
    "import seaborn as sns\n",
    "from sklearn.decomposition import PCA\n",
    "from sklearn.cluster import KMeans\n",
    "import matplotlib\n",
    "\n",
    "import anndata \n",
    "import scanpy as sc\n",
    "from scipy.stats import spearmanr\n",
    "\n",
    "from scroutines import config_plots\n",
    "from scroutines import basicu\n",
    "from scroutines import miscu"
   ]
  },
  {
   "cell_type": "code",
   "execution_count": null,
   "id": "69ad6802-1f9b-4ce9-bcc1-3abe64677acf",
   "metadata": {
    "tags": []
   },
   "outputs": [],
   "source": [
    "import sys\n",
    "sys.setrecursionlimit(10000)\n",
    "from scipy.cluster import hierarchy as sch"
   ]
  },
  {
   "cell_type": "code",
   "execution_count": null,
   "id": "b71744ef-cde4-4ccf-9b2b-8d16fc9610d7",
   "metadata": {
    "tags": []
   },
   "outputs": [],
   "source": [
    "def norm_data(adata):\n",
    "    \"\"\"This procedure is independnet of each gene\n",
    "    norm by size (cell volume)\n",
    "    norm by log2(1+)\n",
    "    norm by zscore\n",
    "    \"\"\"\n",
    "    # size\n",
    "    med_size = adata.obs['area'].median()\n",
    "    max_size = adata.obs['area'].max()\n",
    "    min_size = adata.obs['area'].min()\n",
    "\n",
    "    print(f\"Min cell size {min_size:.1f} um^3\\t  {np.power(min_size,1/3):.1f} um\")\n",
    "    print(f\"Med cell size {med_size:.1f} um^3\\t  {np.power(med_size,1/3):.1f} um\")\n",
    "    print(f\"Max cell size {max_size:.1f} um^3\\t  {np.power(max_size,1/3):.1f} um\")\n",
    "\n",
    "    size_factor = (adata.obs['area']/med_size).values\n",
    "\n",
    "\n",
    "    # norm by size; by log2+1; by zscore\n",
    "    mat_raw = np.array(adata.X)\n",
    "    mat_nrm = mat_raw/size_factor.reshape(-1,1) # .divide(size_factor, axis=0)\n",
    "    mat_log = np.log2(1+mat_nrm)\n",
    "    mat_zsc = (mat_log - np.mean(mat_log, axis=0))/np.std(mat_log, axis=0)\n",
    "\n",
    "    adata.layers['nrm'] = mat_nrm\n",
    "    adata.layers['log'] = mat_log\n",
    "    adata.layers['zsc'] = mat_zsc\n",
    "    \n",
    "    return # mat_raw, mat_nrm, mat_log, mat_zsc"
   ]
  },
  {
   "cell_type": "code",
   "execution_count": null,
   "id": "b081206f-e414-4b79-ad48-12d11185070d",
   "metadata": {
    "tags": []
   },
   "outputs": [],
   "source": [
    "pth_dat = '/u/home/f/f7xiesnm/project-zipursky/easifish/lt172/proc/r12345v3/'\n",
    "!ls $pth_dat"
   ]
  },
  {
   "cell_type": "markdown",
   "id": "19381043-fa82-45f7-8bed-d3b888f6a3e9",
   "metadata": {
    "tags": []
   },
   "source": [
    "# input"
   ]
  },
  {
   "cell_type": "code",
   "execution_count": null,
   "id": "36c4ba6e-6d01-4f78-8087-4525e08aee4c",
   "metadata": {},
   "outputs": [],
   "source": [
    "f1 = '/u/home/f/f7xiesnm/project-zipursky/easifish/results/lt172_analysis_results_241002.csv'\n",
    "f2 = '/u/home/f/f7xiesnm/project-zipursky/easifish/results/lt172_analysis_results_241002.h5ad'\n",
    "\n",
    "df = pd.read_csv(f1)\n",
    "df"
   ]
  },
  {
   "cell_type": "code",
   "execution_count": null,
   "id": "d5b18f8c-3bdf-4da7-9edd-de25764ddb38",
   "metadata": {
    "tags": []
   },
   "outputs": [],
   "source": [
    "adata = anndata.read(f2)\n",
    "adata"
   ]
  },
  {
   "cell_type": "markdown",
   "id": "b471d073-5bd3-4c92-998a-8dc8b8c07f3e",
   "metadata": {},
   "source": [
    "# Viz"
   ]
  },
  {
   "cell_type": "code",
   "execution_count": null,
   "id": "358388b5-5cbd-4018-9209-03e5c0e7eec5",
   "metadata": {
    "tags": []
   },
   "outputs": [],
   "source": [
    "df"
   ]
  },
  {
   "cell_type": "code",
   "execution_count": null,
   "id": "70e93913-9889-4b81-a4d3-e035275d82a7",
   "metadata": {
    "tags": []
   },
   "outputs": [],
   "source": [
    "df.columns\n",
    "adata"
   ]
  },
  {
   "cell_type": "code",
   "execution_count": null,
   "id": "5bcfab66-47b6-4005-b471-ae41e1d7f960",
   "metadata": {},
   "outputs": [],
   "source": [
    "from sklearn.cross_decomposition import CCA\n",
    "from sklearn.preprocessing import StandardScaler\n",
    "\n",
    "# Sample data\n",
    "X = df[['z', 'y', 'x']].values\n",
    "\n",
    "Y = df[['ptime']].values\n",
    "\n",
    "# Standardize the data\n",
    "scaler_x = StandardScaler()\n",
    "scaler_y = StandardScaler()\n",
    "\n",
    "X_std = scaler_x.fit_transform(X)\n",
    "Y_std = scaler_y.fit_transform(Y)\n",
    "\n",
    "# Define the CCA model\n",
    "cca = CCA(n_components=1)\n",
    "\n",
    "# Fit the model\n",
    "cca.fit(X_std, Y_std)\n",
    "\n",
    "# Transform the datasets\n",
    "X_c, Y_c = cca.transform(X_std, Y_std)\n",
    "\n",
    "# Print the canonical variates\n",
    "print(\"Canonical Variates for X:\\n\", X_c)\n",
    "print(\"Canonical Variates for Y:\\n\", Y_c)\n",
    "print(cca.coef_)"
   ]
  },
  {
   "cell_type": "code",
   "execution_count": null,
   "id": "042343f0-3d03-421d-90d9-4e880c05bfc2",
   "metadata": {
    "tags": []
   },
   "outputs": [],
   "source": [
    "cca.x_weights_"
   ]
  },
  {
   "cell_type": "code",
   "execution_count": null,
   "id": "dc59d9c1-9465-41df-bc61-4b4f87fe3a9f",
   "metadata": {
    "tags": []
   },
   "outputs": [],
   "source": [
    "cca.y_weights_"
   ]
  },
  {
   "cell_type": "code",
   "execution_count": null,
   "id": "435a38ee-257c-4c81-af15-1956887efd85",
   "metadata": {},
   "outputs": [],
   "source": []
  },
  {
   "cell_type": "code",
   "execution_count": null,
   "id": "3b45f1ca-6d3f-4db7-ae2e-17a12d12ea82",
   "metadata": {},
   "outputs": [],
   "source": []
  },
  {
   "cell_type": "code",
   "execution_count": null,
   "id": "08443adc-a456-4aca-a418-e8020a9e3c01",
   "metadata": {},
   "outputs": [],
   "source": []
  },
  {
   "cell_type": "code",
   "execution_count": null,
   "id": "281f85f1-b1f6-42b4-bacb-93cb9328c45b",
   "metadata": {
    "tags": []
   },
   "outputs": [],
   "source": [
    "from sklearn.cross_decomposition import CCA\n",
    "from sklearn.preprocessing import StandardScaler\n",
    "\n",
    "# Sample data\n",
    "X = df[['z', 'y', 'x']].values\n",
    "\n",
    "Y = df[['ux', 'uy']].values\n",
    "\n",
    "# Standardize the data\n",
    "scaler_x = StandardScaler()\n",
    "scaler_y = StandardScaler()\n",
    "\n",
    "X_std = scaler_x.fit_transform(X)\n",
    "Y_std = scaler_y.fit_transform(Y)\n",
    "\n",
    "# Define the CCA model\n",
    "cca = CCA(n_components=2)\n",
    "\n",
    "# Fit the model\n",
    "cca.fit(X_std, Y_std)\n",
    "\n",
    "# Transform the datasets\n",
    "X_c, Y_c = cca.transform(X_std, Y_std)\n",
    "\n",
    "# Print the canonical variates\n",
    "print(\"Canonical Variates for X:\\n\", X_c)\n",
    "print(\"Canonical Variates for Y:\\n\", Y_c)\n",
    "print(cca.coef_)"
   ]
  },
  {
   "cell_type": "code",
   "execution_count": null,
   "id": "b0159910-facd-4968-99c8-27635cb97cfc",
   "metadata": {
    "tags": []
   },
   "outputs": [],
   "source": [
    "print(cca.coef_)"
   ]
  },
  {
   "cell_type": "code",
   "execution_count": null,
   "id": "3d16f86b-0f40-4719-a716-c2f07e62f6b1",
   "metadata": {
    "tags": []
   },
   "outputs": [],
   "source": [
    "cca.x_weights_"
   ]
  },
  {
   "cell_type": "code",
   "execution_count": null,
   "id": "89d14f01-4890-4e3f-b478-7b90e11422c5",
   "metadata": {
    "tags": []
   },
   "outputs": [],
   "source": [
    "cca.y_weights_"
   ]
  },
  {
   "cell_type": "code",
   "execution_count": null,
   "id": "23bf7d6f-5a31-42ba-b13b-6eb8d29166b4",
   "metadata": {},
   "outputs": [],
   "source": []
  }
 ],
 "metadata": {
  "kernelspec": {
   "display_name": "napari",
   "language": "python",
   "name": "napari"
  },
  "language_info": {
   "codemirror_mode": {
    "name": "ipython",
    "version": 3
   },
   "file_extension": ".py",
   "mimetype": "text/x-python",
   "name": "python",
   "nbconvert_exporter": "python",
   "pygments_lexer": "ipython3",
   "version": "3.9.16"
  }
 },
 "nbformat": 4,
 "nbformat_minor": 5
}
