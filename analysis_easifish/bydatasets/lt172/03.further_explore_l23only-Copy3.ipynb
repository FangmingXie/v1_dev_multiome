{
 "cells": [
  {
   "cell_type": "markdown",
   "id": "b1b45a35-9b73-4a58-ab3f-308829d6e3e0",
   "metadata": {},
   "source": [
    "# analysis V3 - new basis code - Dec 6, 2023\n",
    "- cleaned up the data QC and organizations a bit\n",
    "- having two anndata and their spin offs - both FISH and proj data \n",
    "- flip an axis (y-axis) when plotting - not in data\n",
    "- focus on L2/3 cells\n",
    "\n",
    "TODO: \n",
    "- separate and organize plotting functions \n",
    "- organize the plots and generate more insights"
   ]
  },
  {
   "cell_type": "code",
   "execution_count": null,
   "id": "a3a95741-400b-452b-b98d-61cae1d845ae",
   "metadata": {
    "tags": []
   },
   "outputs": [],
   "source": [
    "import numpy as np\n",
    "import pandas as pd\n",
    "import os \n",
    "import matplotlib.pyplot as plt\n",
    "import umap\n",
    "import seaborn as sns\n",
    "from sklearn.decomposition import PCA\n",
    "from sklearn.cluster import KMeans\n",
    "import matplotlib\n",
    "\n",
    "import anndata \n",
    "\n",
    "from scroutines import config_plots\n",
    "from scroutines import basicu\n",
    "from scroutines import miscu"
   ]
  },
  {
   "cell_type": "code",
   "execution_count": null,
   "id": "69ad6802-1f9b-4ce9-bcc1-3abe64677acf",
   "metadata": {
    "tags": []
   },
   "outputs": [],
   "source": [
    "import sys\n",
    "sys.setrecursionlimit(10000)\n",
    "from scipy.cluster import hierarchy as sch"
   ]
  },
  {
   "cell_type": "code",
   "execution_count": null,
   "id": "b71744ef-cde4-4ccf-9b2b-8d16fc9610d7",
   "metadata": {
    "tags": []
   },
   "outputs": [],
   "source": [
    "def norm_data(adata):\n",
    "    \"\"\"This procedure is independnet of each gene\n",
    "    norm by size (cell volume)\n",
    "    norm by log2(1+)\n",
    "    norm by zscore\n",
    "    \"\"\"\n",
    "    # size\n",
    "    med_size = adata.obs['area'].median()\n",
    "    max_size = adata.obs['area'].max()\n",
    "    min_size = adata.obs['area'].min()\n",
    "\n",
    "    print(f\"Med cell size {med_size:.1f} um^3\\t  {np.power(med_size,1/3):.1f} um\")\n",
    "    print(f\"Max cell size {max_size:.1f} um^3\\t  {np.power(max_size,1/3):.1f} um\")\n",
    "    print(f\"Min cell size {min_size:.1f} um^3\\t  {np.power(min_size,1/3):.1f} um\")\n",
    "\n",
    "    size_factor = (adata.obs['area']/med_size).values\n",
    "\n",
    "\n",
    "    # norm by size; by log2+1; by zscore\n",
    "    mat_raw = np.array(adata.X)\n",
    "    mat_nrm = mat_raw/size_factor.reshape(-1,1) # .divide(size_factor, axis=0)\n",
    "    mat_log = np.log2(1+mat_nrm)\n",
    "    mat_zsc = (mat_log - np.mean(mat_log, axis=0))/np.std(mat_log, axis=0)\n",
    "\n",
    "    adata.layers['nrm'] = mat_nrm\n",
    "    adata.layers['log'] = mat_log\n",
    "    adata.layers['zsc'] = mat_zsc\n",
    "    \n",
    "    return # mat_raw, mat_nrm, mat_log, mat_zsc"
   ]
  },
  {
   "cell_type": "code",
   "execution_count": null,
   "id": "b081206f-e414-4b79-ad48-12d11185070d",
   "metadata": {
    "tags": []
   },
   "outputs": [],
   "source": [
    "pth_dat = '/u/home/f/f7xiesnm/project-zipursky/easifish/lt172/proc/v1/'\n",
    "!ls $pth_dat"
   ]
  },
  {
   "cell_type": "code",
   "execution_count": null,
   "id": "335e4b29-aa4e-4886-bdd8-a940edc6741d",
   "metadata": {
    "tags": []
   },
   "outputs": [],
   "source": [
    "# features\n",
    "var_names = {\n",
    "    'r1_c0': 'Sorcs3',\n",
    "    'r1_c1': 'Kcnq5',\n",
    "    'r1_c2': 'Chrm2',\n",
    "    'r1_c4': 'Adamts2',\n",
    "    \n",
    "    'r2_c0': 'Kcnip3',\n",
    "    'r2_c1': 'Rorb',\n",
    "    'r2_c2': 'Cdh13',\n",
    "    'r2_c4': 'Cntn5',\n",
    "    \n",
    "    'r3_c0': 'Cdh12',\n",
    "    'r3_c1': 'Gria3',\n",
    "    'r3_c2': 'Cntnap2',\n",
    "    'r3_c4': 'Gabrg3',\n",
    "    \n",
    "    'r4_c0': 'Kcnh5',\n",
    "    'r4_c1': 'RL Cre',\n",
    "    'r4_c2': 'Slc17a7',\n",
    "    'r4_c4': 'Grm8',\n",
    "    \n",
    "    'r5_c0': 'Ncam2',\n",
    "    'r5_c1': 'Rfx3',\n",
    "    'r5_c2': 'Epha10',\n",
    "    'r5_c4': 'Baz1a',\n",
    "}\n",
    "proj_idx = np.array(['r4_c1'])\n",
    "\n",
    "# cells\n",
    "f_meta = os.path.join(pth_dat, 'roi.csv')\n",
    "\n",
    "# spots\n",
    "f_spot = os.path.join(pth_dat, 'spotcount.csv')"
   ]
  },
  {
   "cell_type": "code",
   "execution_count": null,
   "id": "d94e56ad-4bcd-4546-bf2e-97ebf5ec3080",
   "metadata": {
    "tags": []
   },
   "outputs": [],
   "source": [
    "# f = '/u/home/f/f7xiesnm/project-zipursky/v1-bb/v1/data/cheng21_cell_scrna/res/L23-ABC-genes-n288-n286unq-annot_v2.csv'\n",
    "f = '/u/home/f/f7xiesnm/project-zipursky/v1-bb/v1/results/gene_ptime_P28_L23_Mar27.tsv'\n",
    "df_annot = pd.read_csv(f).sort_values('gene_ptime')"
   ]
  },
  {
   "cell_type": "code",
   "execution_count": null,
   "id": "6cc4ddb8-02a0-4724-9dd2-362b4c17268d",
   "metadata": {
    "tags": []
   },
   "outputs": [],
   "source": [
    "\n",
    "var = pd.Series(var_names).to_frame('name')\n",
    "var['proj'] = False\n",
    "var.loc[proj_idx, 'proj'] = True\n",
    "var['ptime'] = df_annot.set_index('gene').reindex(var['name'])['gene_ptime'].values\n",
    "# var['ptime_order'] = var['ptime'].rank()  \n",
    "\n",
    "var_idx = var.index.values.astype(str)\n",
    "var_i2n = var['name'] \n",
    "var_n2i = var.reset_index().set_index('name')['index']\n",
    "\n",
    "gene_idx = np.array([idx for idx in var_idx if idx not in proj_idx])\n",
    "\n",
    "# ftrs_order  = gene_names.index.values \n",
    "# genes_order = gene_names.values\n",
    "var"
   ]
  },
  {
   "cell_type": "code",
   "execution_count": null,
   "id": "64bae622-dabc-4267-aa2d-045bb73b6cab",
   "metadata": {},
   "outputs": [],
   "source": [
    "# cols\n",
    "raw_var_idx = np.char.add(var_idx, '_raw')\n",
    "nrm_var_idx = np.char.add(var_idx, '_nrm')\n",
    "log_var_idx = np.char.add(var_idx, '_log')\n",
    "zsc_var_idx = np.char.add(var_idx, '_zsc')\n",
    "\n",
    "raw_gene_idx = np.char.add(gene_idx, '_raw')\n",
    "nrm_gene_idx = np.char.add(gene_idx, '_nrm')\n",
    "log_gene_idx = np.char.add(gene_idx, '_log')\n",
    "zsc_gene_idx = np.char.add(gene_idx, '_zsc')\n",
    "\n"
   ]
  },
  {
   "cell_type": "code",
   "execution_count": null,
   "id": "c740690d-978f-47de-9209-97d335a7696b",
   "metadata": {
    "tags": []
   },
   "outputs": [],
   "source": [
    "meta = pd.read_csv(f_meta, index_col=0)\n",
    "spot = pd.read_csv(f_spot, index_col=0)\n",
    "assert np.all(meta.index.values == spot.index.values)\n",
    "print(meta.shape, spot.shape) # \n",
    "\n",
    "max_x, max_y, max_z = meta[['x', 'y', 'z']].describe().loc['max']\n",
    "min_x, min_y, min_z = meta[['x', 'y', 'z']].describe().loc['min']\n",
    "print(f'x: {min_x:.1f}\\t{max_x:.1f}')\n",
    "print(f'y: {min_y:.1f}\\t{max_y:.1f}')\n",
    "print(f'z: {min_z:.1f}\\t{max_z:.1f}')\n",
    "\n",
    "meta['to_edge'] = np.minimum(\n",
    "    np.minimum(meta['x']-min_x, max_x-meta['x']), \n",
    "    np.minimum(meta['y']-min_y, max_y-meta['y']), \n",
    "    np.minimum(meta['z']-min_z, max_z-meta['z']),\n",
    ")\n",
    "meta['cov'] = spot.sum(axis=1)\n",
    "\n",
    "# bin data \n",
    "bins_8p = np.linspace(0,400,8+1).astype(int)\n",
    "bins_4p = np.linspace(0,400,4+1).astype(int)\n",
    "print(bins_8p, bins_4p)\n",
    "\n",
    "meta['xb_8p'] = pd.cut(meta['x'], bins=bins_8p)\n",
    "meta['yb_8p'] = pd.cut(meta['y'], bins=bins_8p)\n",
    "meta['zb_8p'] = pd.cut(meta['z'], bins=bins_8p)\n",
    "\n",
    "meta['xb_4p'] = pd.cut(meta['x'], bins=bins_4p)\n",
    "meta['yb_4p'] = pd.cut(meta['y'], bins=bins_4p)\n",
    "meta['zb_4p'] = pd.cut(meta['z'], bins=bins_4p)"
   ]
  },
  {
   "cell_type": "code",
   "execution_count": null,
   "id": "cd7e9e96-b3d3-479d-815f-93e5b93cc0b9",
   "metadata": {
    "tags": []
   },
   "outputs": [],
   "source": [
    "adata = anndata.AnnData(X=spot.values, obs=meta, var=var)\n",
    "adata"
   ]
  },
  {
   "cell_type": "code",
   "execution_count": null,
   "id": "63ae7dab-a117-4b63-bc48-55712075d1a9",
   "metadata": {
    "tags": []
   },
   "outputs": [],
   "source": [
    "# remove outliers adata -> adata2\n",
    "df = adata.obs\n",
    "conds = [\n",
    "    df['area'] > 500,\n",
    "    df['x'] > min_x + 20,\n",
    "    df['x'] < max_x - 20,\n",
    "    \n",
    "    df['y'] > min_y + 20,\n",
    "    df['y'] < max_y - 20,\n",
    "    \n",
    "    df['z'] > min_z + 20,\n",
    "    df['z'] < max_z - 20,\n",
    "]\n",
    "cond_all = np.ones(len(df)) > 0\n",
    "for cond in conds:\n",
    "    cond_all = np.logical_and(cond_all, cond)\n",
    "    print(cond_all.sum())\n",
    "print(f\"Num cells before and after: {len(df)} -> {cond_all.sum()}\")\n",
    "\n",
    "# remove outliers\n",
    "adata2 = adata[cond_all].copy()\n",
    "adata2"
   ]
  },
  {
   "cell_type": "code",
   "execution_count": null,
   "id": "7f89cdbe-e900-4735-a142-f8bf1724e35a",
   "metadata": {
    "tags": []
   },
   "outputs": [],
   "source": [
    "# separate the proj data adata2 -> adata3\n",
    "adata3 = adata2[:,gene_idx].copy()\n",
    "adata3.obs[proj_idx] = np.array(adata2[:,proj_idx].X)\n",
    "adata3.obs['cov_gene'] = np.array(adata3.X.sum(axis=1))"
   ]
  },
  {
   "cell_type": "code",
   "execution_count": null,
   "id": "45605d49-a40b-43e8-9b30-9637b45be62b",
   "metadata": {
    "tags": []
   },
   "outputs": [],
   "source": [
    "# normalize the data and record\n",
    "norm_data(adata2)\n",
    "df_p2 = adata2.obs.copy()\n",
    "df_p2[nrm_var_idx] = np.array(adata2.layers['nrm'])\n",
    "\n",
    "norm_data(adata3)\n",
    "df_p3 = adata3.obs.copy()\n",
    "df_p3[nrm_gene_idx] = np.array(adata3.layers['nrm'])"
   ]
  },
  {
   "cell_type": "markdown",
   "id": "4e954df8-fbc3-4b74-8f0c-da3048f49606",
   "metadata": {},
   "source": [
    "# report "
   ]
  },
  {
   "cell_type": "code",
   "execution_count": null,
   "id": "8d08c0c2-49e9-4a80-957b-21515728f05a",
   "metadata": {
    "tags": []
   },
   "outputs": [],
   "source": [
    "for idx in var_idx:\n",
    "    val = adata[:,idx].X[:,0]\n",
    "    print(f'{idx}\\t{var_i2n.loc[idx]}\\t{np.min(val):.1f}\\t{np.max(val):.1f}\\t{100*np.sum(val>0)/len(val):.2f}%')"
   ]
  },
  {
   "cell_type": "code",
   "execution_count": null,
   "id": "856d6a50-e930-41c8-974e-841758cc6232",
   "metadata": {
    "tags": []
   },
   "outputs": [],
   "source": [
    "cols = ['x', 'y', 'z', 'area']\n",
    "with sns.plotting_context('paper'):\n",
    "    fig, axs = plt.subplots(4, 1, figsize=(1*6, 2*4))\n",
    "    for ax, col in zip(axs, cols):\n",
    "        sns.histplot(adata.obs[col], ax=ax)\n",
    "        ax.set_xlabel(col)\n",
    "    fig.subplots_adjust(hspace=0.5)\n",
    "    plt.show()\n"
   ]
  },
  {
   "cell_type": "code",
   "execution_count": null,
   "id": "690fe12e-3fe2-4034-a3f1-1098e7cad025",
   "metadata": {
    "tags": []
   },
   "outputs": [],
   "source": [
    "sns.scatterplot(data=adata.obs, x='area', y='cov', s=2, edgecolor='none')"
   ]
  },
  {
   "cell_type": "code",
   "execution_count": null,
   "id": "599d0a0d-da6b-4e7c-8c1e-136a0ee26b0e",
   "metadata": {
    "tags": []
   },
   "outputs": [],
   "source": [
    "with sns.plotting_context('paper'):\n",
    "    fig, axs = plt.subplots(2, 1, figsize=(10*1,4*2))\n",
    "    ax = axs[0]\n",
    "    sns.boxplot(data=adata.X, ax=ax)\n",
    "    ax.set_xticklabels(adata.var.index.values, rotation=90) \n",
    "    ax.set_ylabel('counts')\n",
    "    ax.set_xlabel('Genes')\n",
    "    sns.despine(ax=ax)\n",
    "\n",
    "    ax = axs[1]\n",
    "    sns.boxplot(data=adata.X, ax=ax)\n",
    "    ax.set_xticklabels(adata.var['name'].values, rotation=90)\n",
    "    sns.despine(ax=ax)\n",
    "    ax.set_ylim([0,50])\n",
    "    ax.set_ylabel('counts')\n",
    "    ax.set_xlabel('Genes')"
   ]
  },
  {
   "cell_type": "code",
   "execution_count": null,
   "id": "745b0894-74e9-4646-ba01-4598a22f07f6",
   "metadata": {
    "tags": []
   },
   "outputs": [],
   "source": [
    "sns.scatterplot(data=adata3.obs, x='area', y='cov', s=2, edgecolor='none')\n",
    "sns.scatterplot(data=adata3.obs, x='area', y='cov_gene', s=2, edgecolor='none')"
   ]
  },
  {
   "cell_type": "code",
   "execution_count": null,
   "id": "23c9ca5a-fcd6-4d05-82a4-7b3139ab340d",
   "metadata": {
    "tags": []
   },
   "outputs": [],
   "source": [
    "sns.scatterplot(data=adata3.obs, x='area', y=proj_idx[0], s=2, edgecolor='none')"
   ]
  },
  {
   "cell_type": "markdown",
   "id": "e6a8cdea-8dfa-4819-9015-878ad8afdf03",
   "metadata": {},
   "source": [
    "# z-sectioning visuals\n",
    "- bin into zbin\n",
    "- plot for each zbin"
   ]
  },
  {
   "cell_type": "code",
   "execution_count": null,
   "id": "61e861f9-b92f-4d68-8fd2-3921894316f9",
   "metadata": {
    "tags": []
   },
   "outputs": [],
   "source": [
    "import plotting\n",
    "\n",
    "import importlib\n",
    "importlib.reload(plotting)\n",
    "\n",
    "from plotting import view_z_sections\n",
    "from plotting import view_z_sections_4panels\n",
    "from plotting import view_z_sections_labels\n",
    "from plotting import gen_discrete_colors\n"
   ]
  },
  {
   "cell_type": "code",
   "execution_count": null,
   "id": "6d77359f-486a-438a-bad5-3cb67063825b",
   "metadata": {
    "tags": []
   },
   "outputs": [],
   "source": [
    "sp_x, sp_y = 'x', 'y'\n",
    "col = gene_idx[0] # ftrs_order[0]\n",
    "title = var_i2n[col]\n",
    "\n",
    "view_z_sections_4panels(df_p2, sp_x, sp_y, col=col+'_nrm', cmap='Greys', title=title, flip_y=True)"
   ]
  },
  {
   "cell_type": "code",
   "execution_count": null,
   "id": "26c5354e-8887-4972-b1e5-606fc9ad2e28",
   "metadata": {
    "tags": []
   },
   "outputs": [],
   "source": [
    "col = gene_idx[0] # ftrs_order[0]\n",
    "title = var_i2n[col]\n",
    "\n",
    "sp_x, sp_y, sp_z = 'x', 'y', 'zb_4p'\n",
    "view_z_sections_4panels(df_p2, sp_x, sp_y, col=col+'_nrm', sp_z=sp_z, cmap='Greys', title=title, flip_y=True)\n",
    "\n",
    "sp_x, sp_y, sp_z = 'x', 'z', 'yb_4p'\n",
    "view_z_sections_4panels(df_p2, sp_x, sp_y, col=col+'_nrm', sp_z=sp_z, cmap='Greys', title=title, flip_y=True)\n",
    "\n",
    "sp_x, sp_y, sp_z = 'z', 'y', 'xb_4p'\n",
    "view_z_sections_4panels(df_p2, sp_x, sp_y, col=col+'_nrm', sp_z=sp_z, cmap='Greys', title=title, flip_y=True)"
   ]
  },
  {
   "cell_type": "code",
   "execution_count": null,
   "id": "06d762e6-d912-4345-92f7-5e4067020b4c",
   "metadata": {
    "tags": []
   },
   "outputs": [],
   "source": [
    "col = 'r4_c1' # ftrs_order[0]\n",
    "title = var_i2n[col]\n",
    "\n",
    "sp_x, sp_y, sp_z = 'x', 'y', 'zb_4p'\n",
    "view_z_sections_4panels(df_p2, sp_x, sp_y, col=col+'_nrm', sp_z=sp_z, cmap='Greys', title=title, flip_y=True)\n",
    "\n",
    "sp_x, sp_y, sp_z = 'x', 'z', 'yb_4p'\n",
    "view_z_sections_4panels(df_p2, sp_x, sp_y, col=col+'_nrm', sp_z=sp_z, cmap='Greys', title=title, flip_y=True)\n",
    "\n",
    "sp_x, sp_y, sp_z = 'z', 'y', 'xb_4p'\n",
    "view_z_sections_4panels(df_p2, sp_x, sp_y, col=col+'_nrm', sp_z=sp_z, cmap='Greys', title=title, flip_y=True)"
   ]
  },
  {
   "cell_type": "code",
   "execution_count": null,
   "id": "5f2ded28-c605-4ab4-ac72-361d30838fc8",
   "metadata": {
    "tags": []
   },
   "outputs": [],
   "source": [
    "for col in var_idx:\n",
    "    title = var_i2n[col]\n",
    "\n",
    "    sp_x, sp_y, sp_z = 'x', 'z', 'yb_4p'\n",
    "    view_z_sections_4panels(df_p2, sp_x, sp_y, col=col+'_nrm', sp_z=sp_z, cmap='Greys', title=title, flip_y=True)"
   ]
  },
  {
   "cell_type": "code",
   "execution_count": null,
   "id": "db0f9730-c12b-49db-9067-6cc73085b37d",
   "metadata": {
    "tags": []
   },
   "outputs": [],
   "source": [
    "sp_x, sp_y = 'x', 'y'\n",
    "fig, axs = plt.subplots(5,4,figsize=(4*4,4*5), sharey=True, sharex=True)\n",
    "cbar_ax = fig.add_axes([0.92, 0.5, 0.01, 0.2])\n",
    "axs.flat[0].invert_yaxis()\n",
    "for i, (col, ax) in enumerate(zip(var_idx, axs.flat)):\n",
    "    x = df_p2[sp_x].values\n",
    "    y = df_p2[sp_y].values\n",
    "    c = df_p2[col+'_nrm'].values\n",
    "    vmax=np.percentile(c, 95)\n",
    "    \n",
    "    ax.axis('off')\n",
    "    ax.grid(False)\n",
    "    g = ax.scatter(x, y, c=c/vmax, s=5, edgecolor='none', cmap='Greys', vmax=1, vmin=-0.1) #vmax, vmin=-0.1*vmax)\n",
    "    sns.despine(ax=ax)\n",
    "    ax.set_title(var_i2n[col])\n",
    "    ax.set_xlabel(sp_x)\n",
    "    ax.set_ylabel(sp_y)\n",
    "    ax.set_aspect('equal')\n",
    "    \n",
    "fig.colorbar(g, cax=cbar_ax, label='Normed counts\\n(0-95 perctl.)', aspect=5, shrink=0.3, ticks=[0, 1])\n",
    "fig.subplots_adjust(hspace=0.1, wspace=0.02)"
   ]
  },
  {
   "cell_type": "markdown",
   "id": "f7690ac2-4d28-413f-aa78-117142e5209a",
   "metadata": {},
   "source": [
    "# hierarchical clustering"
   ]
  },
  {
   "cell_type": "code",
   "execution_count": null,
   "id": "41594e61-da54-46a6-97ae-42e77f2d25ba",
   "metadata": {
    "tags": []
   },
   "outputs": [],
   "source": [
    "mat_ftrs = pd.DataFrame(adata3.layers['zsc'], index=adata3.obs.index, columns=adata3.var.index)\n",
    "mat_prjs = adata3.obs[proj_idx] \n",
    "\n",
    "# sch\n",
    "col_link = sch.linkage(mat_ftrs.T, method='ward', metric='euclidean')\n",
    "col_order = sch.dendrogram(col_link, no_plot=True)['leaves']\n",
    "\n",
    "row_link = sch.linkage(mat_ftrs, method='ward', metric='euclidean')\n",
    "row_order = sch.dendrogram(row_link, p=30, truncate_mode='none', no_plot=True)['leaves']\n",
    "\n",
    "# get clusters\n",
    "clsts1 = sch.fcluster(row_link, 100, criterion='distance')\n",
    "clsts2 = sch.fcluster(row_link,  50, criterion='distance')\n",
    "clsts3 = sch.fcluster(row_link,  30, criterion='distance')\n",
    "\n",
    "print(clsts1.shape, np.unique(clsts1).shape)\n",
    "print(clsts2.shape, np.unique(clsts2).shape)\n",
    "print(clsts3.shape, np.unique(clsts3).shape)\n",
    "\n",
    "\n",
    "# register\n",
    "adata3.obs['clst_l1'] = clsts1\n",
    "adata3.obs['clst_l2'] = clsts2\n",
    "adata3.obs['clst_l3'] = clsts3\n",
    "\n",
    "adata2.obs['clst_l1'] = clsts1\n",
    "adata2.obs['clst_l2'] = clsts2\n",
    "adata2.obs['clst_l3'] = clsts3\n",
    "\n",
    "\n",
    "df_p3['clst_l1'] = clsts1\n",
    "df_p3['clst_l2'] = clsts2\n",
    "df_p3['clst_l3'] = clsts3\n",
    "\n",
    "df_p2['clst_l1'] = clsts1\n",
    "df_p2['clst_l2'] = clsts2\n",
    "df_p2['clst_l3'] = clsts3\n",
    "\n",
    "# colors\n",
    "palette1, dismap1 = gen_discrete_colors(len(np.unique(clsts1)))\n",
    "palette2, dismap2 = gen_discrete_colors(len(np.unique(clsts2)))\n",
    "palette3, dismap3 = gen_discrete_colors(len(np.unique(clsts3)))"
   ]
  },
  {
   "cell_type": "code",
   "execution_count": null,
   "id": "d64fe27a-4ddf-4d7d-944d-831ed26f3b14",
   "metadata": {
    "tags": []
   },
   "outputs": [],
   "source": [
    "fig = plt.figure(figsize=(10,15))\n",
    "axd = fig.subplot_mosaic(\"A\"*12+\"BCDEF\")\n",
    "ax = axd[\"A\"]\n",
    "col_idx = mat_ftrs.columns[col_order].values.astype(str)\n",
    "col_names = var_i2n[col_idx].values.astype(str)\n",
    "xticklabels = np.char.add(np.char.add(col_names, ' '), col_idx)\n",
    "\n",
    "sns.heatmap(\n",
    "    mat_ftrs.iloc[row_order,col_order],\n",
    "    yticklabels=False,\n",
    "    xticklabels=xticklabels,\n",
    "    cmap='coolwarm',\n",
    "    cbar_kws=dict(shrink=0.5, location='bottom', label='zscore log2(1+norm expr.)'),\n",
    "    vmax=3, vmin=-3,\n",
    "    ax=ax,\n",
    ")\n",
    "ax.set_ylabel('Cells')\n",
    "# ax.set_xticklabels()\n",
    "\n",
    "for i, (ax, col) in enumerate(zip(\n",
    "    (axd[\"B\"], axd[\"C\"], axd[\"D\"]),\n",
    "    ('clst_l1', 'clst_l2', 'clst_l3'),\n",
    "    )):\n",
    "    vec = adata3.obs[col].values\n",
    "    sns.heatmap(\n",
    "        adata3.obs[[col]].rename(columns={col: col.replace('clst_l', 'L')}).iloc[row_order],\n",
    "        yticklabels=False,\n",
    "        cmap='jet',\n",
    "        cbar_kws=dict(location='bottom', aspect=5, label='', ticks=[]),\n",
    "        ax=ax,\n",
    "    )\n",
    "    ax.set_ylabel('')\n",
    "    positions = np.cumsum(np.unique(vec, return_counts=True)[1])\n",
    "    ax.hlines(positions, xmin=-0.2, xmax=1, linewidth=1, linestyle='-', color='k', clip_on=False)\n",
    "    for i, pos in enumerate(positions):\n",
    "        ax.text(0, pos, i+1, color='white', fontsize=15)\n",
    "\n",
    "ax = axd[\"E\"]\n",
    "col_idx = mat_prjs.columns.values.astype(str)\n",
    "col_names = var_i2n[col_idx].values.astype(str)\n",
    "xticklabels = np.char.add(np.char.add(col_names, ' '), col_idx)\n",
    "g = sns.heatmap(\n",
    "    mat_prjs.iloc[row_order],\n",
    "    yticklabels=False,\n",
    "    xticklabels=xticklabels,\n",
    "    cmap='Greys',\n",
    "    cbar_kws=dict(location='bottom', aspect=5, ),\n",
    "    ax=ax,\n",
    ")\n",
    "ax.tick_params(rotation=90)\n",
    "ax.set_ylabel('')\n",
    "colorbar = g.collections[0].colorbar\n",
    "colorbar.ax.tick_params(labelsize=10)  # Set fontsize to 12 points\n",
    "\n",
    "ax = axd[\"F\"]\n",
    "g = sns.heatmap(\n",
    "    adata3.obs[['y']].iloc[row_order], \n",
    "    yticklabels=False,\n",
    "    cmap='Greys',\n",
    "    cbar_kws=dict(location='bottom', aspect=5, label='um'),\n",
    "    # vmin=0,\n",
    "    ax=ax,\n",
    ")\n",
    "ax.set_ylabel('')\n",
    "colorbar = g.collections[0].colorbar\n",
    "colorbar.ax.tick_params(labelsize=10, rotation=90)  # Set fontsize to 12 points\n"
   ]
  },
  {
   "cell_type": "code",
   "execution_count": null,
   "id": "fbaa225f-258f-4546-aa31-bc3669f76dce",
   "metadata": {
    "tags": []
   },
   "outputs": [],
   "source": [
    "sp_x, sp_y = 'x', 'y'\n",
    "fig, axs = plt.subplots(1,3,figsize=(4*3,5*1), sharey=True, sharex=True)\n",
    "axs.flat[0].invert_yaxis()\n",
    "# cbar_ax = fig.add_axes([0.92, 0.5, 0.01, 0.2])\n",
    "for i, (col, palette, dismap, ax) in enumerate(zip(['clst_l1', 'clst_l2', 'clst_l3'], \n",
    "                                                   [ palette1,  palette2,  palette3],\n",
    "                                                   [ dismap1,   dismap2,   dismap3],\n",
    "                                                   axs.flat)):\n",
    "    x = adata3.obs[sp_x].values\n",
    "    y = adata3.obs[sp_y].values\n",
    "    c = adata3.obs[col].values\n",
    "    \n",
    "    ax.grid(False)\n",
    "    g = ax.scatter(x, y, c=pd.Series(palette)[c], s=5, edgecolor='none',)\n",
    "    sns.despine(ax=ax)\n",
    "    ax.set_title(col)\n",
    "    ax.set_xlabel(sp_x)\n",
    "    ax.set_ylabel(sp_y)\n",
    "    ax.set_aspect('equal')\n",
    "    ax.axis('off')\n",
    "    fig.colorbar(dismap, ax=ax, orientation='horizontal', shrink=0.5, aspect=10)\n",
    "    \n",
    "fig.subplots_adjust(hspace=0.1, wspace=0.02)"
   ]
  },
  {
   "cell_type": "code",
   "execution_count": null,
   "id": "b45318ac-c4f4-4bf7-97e3-7324b76fc91f",
   "metadata": {
    "tags": []
   },
   "outputs": [],
   "source": [
    "sp_x, sp_y = 'x', 'y'\n",
    "col = 'clst_l1'\n",
    "palette = palette1\n",
    "dismap = dismap1\n",
    "n = len(adata3.obs[col].unique())\n",
    "nx = min(6,n)\n",
    "ny = int((n+nx-1)/nx)\n",
    "suptitle = 'L1'\n",
    "\n",
    "fig, axs = plt.subplots(ny,nx,figsize=(3*nx,3*ny), sharey=True, sharex=True)\n",
    "axs.flat[0].invert_yaxis()\n",
    "for i, ax in enumerate(axs.flat):\n",
    "    x = adata3.obs[sp_x].values\n",
    "    y = adata3.obs[sp_y].values\n",
    "    c = adata3.obs[col].values\n",
    "    \n",
    "    ax.grid(False)\n",
    "    g = ax.scatter(x, y, c=[palette[_c] if i+1==_c else 'lightgray' for _c in c], s=5, edgecolor='none',)\n",
    "    \n",
    "    sns.despine(ax=ax)\n",
    "    ax.set_title(f\"C{i+1}\")\n",
    "    ax.set_xlabel(sp_x)\n",
    "    ax.set_ylabel(sp_y)\n",
    "    ax.set_aspect('equal')\n",
    "    ax.axis('off')\n",
    "    \n",
    "fig.suptitle(suptitle)\n",
    "fig.subplots_adjust(hspace=0.1, wspace=0.02)"
   ]
  },
  {
   "cell_type": "code",
   "execution_count": null,
   "id": "a81a4bb0-efc3-4981-9003-efd4914ec1a7",
   "metadata": {
    "tags": []
   },
   "outputs": [],
   "source": [
    "sp_x, sp_y = 'x', 'y'\n",
    "col = 'clst_l2'\n",
    "palette = palette2\n",
    "dismap = dismap2\n",
    "n = len(adata3.obs[col].unique())\n",
    "nx = min(4,n)\n",
    "ny = int((n+nx-1)/nx)\n",
    "suptitle = 'L2'\n",
    "\n",
    "fig, axs = plt.subplots(ny,nx,figsize=(3*nx,3*ny), sharey=True, sharex=True)\n",
    "axs.flat[0].invert_yaxis()\n",
    "for i, ax in enumerate(axs.flat):\n",
    "    x = adata3.obs[sp_x].values\n",
    "    y = adata3.obs[sp_y].values\n",
    "    c = adata3.obs[col].values\n",
    "    \n",
    "    ax.grid(False)\n",
    "    g = ax.scatter(x, y, c=[palette[_c] if i+1==_c else 'lightgray' for _c in c], s=5, edgecolor='none',)\n",
    "    \n",
    "    sns.despine(ax=ax)\n",
    "    ax.set_title(f\"C{i+1}\")\n",
    "    ax.set_xlabel(sp_x)\n",
    "    ax.set_ylabel(sp_y)\n",
    "    ax.set_aspect('equal')\n",
    "    ax.axis('off')\n",
    "    \n",
    "fig.suptitle(suptitle)\n",
    "fig.subplots_adjust(hspace=0.1, wspace=0.02)"
   ]
  },
  {
   "cell_type": "code",
   "execution_count": null,
   "id": "2fc8b71d-738c-482b-8ac6-d1a6cde44507",
   "metadata": {},
   "outputs": [],
   "source": [
    "group = 'clst_l2'\n",
    "dfmean = df_p2.groupby(group)[np.char.add(var_idx, '_nrm')].mean()\n",
    "dfmean = basicu.zscore(dfmean, axis=0)\n",
    "\n",
    "fig, ax = plt.subplots(figsize=(6,6))\n",
    "sns.heatmap(dfmean.T, ax=ax, \n",
    "            yticklabels=var_i2n[var_idx], \n",
    "            cmap='coolwarm', cbar_kws=dict(label='zscore mean exp.', shrink=0.5, aspect=10))"
   ]
  },
  {
   "cell_type": "code",
   "execution_count": null,
   "id": "62bcea58-226d-4f6e-b77f-74685cab4c56",
   "metadata": {
    "tags": []
   },
   "outputs": [],
   "source": [
    "var_order_manual = pd.Series({\n",
    "    'r2_c2': 'Cdh13',\n",
    "    'r1_c4': 'Adamts2',\n",
    "    'r5_c1': 'Rfx3',\n",
    "    'r2_c4': 'Cntn5',\n",
    "    \n",
    "    'r3_c4': 'Gabrg3',\n",
    "    'r4_c4': 'Grm8',\n",
    "    \n",
    "    'r2_c0': 'Kcnip3',\n",
    "    'r5_c4': 'Baz1a',\n",
    "    'r1_c0': 'Sorcs3',\n",
    "    'r1_c1': 'Kcnq5',\n",
    "    'r3_c2': 'Cntnap2',\n",
    "    \n",
    "    'r3_c0': 'Cdh12',\n",
    "    'r5_c2': 'Epha10',\n",
    "    'r4_c0': 'Kcnh5',\n",
    "    \n",
    "    'r5_c0': 'Ncam2',\n",
    "    'r1_c2': 'Chrm2',\n",
    "    'r2_c1': 'Rorb',\n",
    "    \n",
    "    'r3_c1': 'Gria3',\n",
    "    'r4_c2': 'Slc17a7',\n",
    "    'r4_c1': 'RL Cre',\n",
    "    \n",
    "})\n",
    "# clst_order_manual = [2,3,4,5,1]"
   ]
  },
  {
   "cell_type": "code",
   "execution_count": null,
   "id": "5e76d07d-0cde-4956-a0a5-5fe7652fd277",
   "metadata": {},
   "outputs": [],
   "source": [
    "group = 'clst_l2'\n",
    "dfmean = df_p2.groupby(group)[np.char.add(var_order_manual.index.values.astype(str), '_nrm')].mean()\n",
    "dfmean = basicu.zscore(dfmean, axis=0)\n",
    "# dfmean = dfmean.reindex(clst_order_manual)\n",
    "yticklabels = var_order_manual.values\n",
    "\n",
    "\n",
    "fig, ax = plt.subplots(figsize=(6,6))\n",
    "sns.heatmap(dfmean.T, ax=ax, \n",
    "            yticklabels=yticklabels, \n",
    "            cmap='coolwarm', cbar_kws=dict(label='zscore mean exp.', shrink=0.5, aspect=10))"
   ]
  },
  {
   "cell_type": "markdown",
   "id": "ea4e0367-2fc2-47bf-a2ac-87199b9d402b",
   "metadata": {},
   "source": [
    "# remove outlier cells and redo"
   ]
  },
  {
   "cell_type": "code",
   "execution_count": null,
   "id": "82c8cb1d-e792-4eab-aad5-99183cade833",
   "metadata": {
    "tags": []
   },
   "outputs": [],
   "source": [
    "remove_these = [3,7,9,10,11]\n",
    "adata2v2 = adata2[~adata2.obs['clst_l2'].isin(remove_these)].copy()\n",
    "adata3v2 = adata3[~adata3.obs['clst_l2'].isin(remove_these)].copy()\n",
    "print(adata2v2.shape, adata3v2.shape)"
   ]
  },
  {
   "cell_type": "code",
   "execution_count": null,
   "id": "6a8bef3c-aa34-4519-a599-a97ec395f7c8",
   "metadata": {
    "tags": []
   },
   "outputs": [],
   "source": [
    "df_p2v2 = adata2v2.obs.copy()\n",
    "df_p2v2[nrm_var_idx] = np.array(adata2v2.layers['nrm'])\n",
    "df_p3v2 = adata3v2.obs.copy()\n",
    "df_p3v2[nrm_gene_idx] = np.array(adata3v2.layers['nrm'])"
   ]
  },
  {
   "cell_type": "code",
   "execution_count": null,
   "id": "92fb662b-4bc3-4639-aac8-17b9b5645c9d",
   "metadata": {
    "tags": []
   },
   "outputs": [],
   "source": [
    "# # normalize the data and record\n",
    "# norm_data(adata2v2)\n",
    "# norm_data(adata3v2)"
   ]
  },
  {
   "cell_type": "code",
   "execution_count": null,
   "id": "bfb5ced5-c40d-4400-90ec-638766be0f5b",
   "metadata": {
    "tags": []
   },
   "outputs": [],
   "source": [
    "mat_ftrs = pd.DataFrame(adata3v2.layers['zsc'], index=adata3v2.obs.index, columns=adata3v2.var.index)\n",
    "mat_prjs = adata3v2.obs[proj_idx] \n",
    "\n",
    "# sch\n",
    "col_link = sch.linkage(mat_ftrs.T, method='ward', metric='euclidean')\n",
    "col_order = sch.dendrogram(col_link, no_plot=True)['leaves']\n",
    "\n",
    "row_link = sch.linkage(mat_ftrs, method='ward', metric='euclidean')\n",
    "row_order = sch.dendrogram(row_link, p=30, truncate_mode='none', no_plot=True)['leaves']\n",
    "\n",
    "# get clusters\n",
    "clsts1 = sch.fcluster(row_link, 100, criterion='distance')\n",
    "clsts2 = sch.fcluster(row_link,  50, criterion='distance')\n",
    "clsts3 = sch.fcluster(row_link,  30, criterion='distance')\n",
    "\n",
    "print(clsts1.shape, np.unique(clsts1).shape)\n",
    "print(clsts2.shape, np.unique(clsts2).shape)\n",
    "print(clsts3.shape, np.unique(clsts3).shape)\n",
    "\n",
    "\n",
    "# register\n",
    "adata3v2.obs['clst_l1'] = clsts1\n",
    "adata3v2.obs['clst_l2'] = clsts2\n",
    "adata3v2.obs['clst_l3'] = clsts3\n",
    "\n",
    "adata2v2.obs['clst_l1'] = clsts1\n",
    "adata2v2.obs['clst_l2'] = clsts2\n",
    "adata2v2.obs['clst_l3'] = clsts3\n",
    "\n",
    "df_p3v2['clst_l1'] = clsts1\n",
    "df_p3v2['clst_l2'] = clsts2\n",
    "df_p3v2['clst_l3'] = clsts3\n",
    "\n",
    "df_p2v2['clst_l1'] = clsts1\n",
    "df_p2v2['clst_l2'] = clsts2\n",
    "df_p2v2['clst_l3'] = clsts3\n",
    "\n",
    "# colors\n",
    "palette1, dismap1 = gen_discrete_colors(len(np.unique(clsts1)))\n",
    "palette2, dismap2 = gen_discrete_colors(len(np.unique(clsts2)))\n",
    "palette3, dismap3 = gen_discrete_colors(len(np.unique(clsts3)))"
   ]
  },
  {
   "cell_type": "code",
   "execution_count": null,
   "id": "4c9eb595-8064-4f9a-b3d7-e869c08265aa",
   "metadata": {
    "tags": []
   },
   "outputs": [],
   "source": [
    "fig = plt.figure(figsize=(10,15))\n",
    "axd = fig.subplot_mosaic(\"A\"*12+\"BCDEF\")\n",
    "ax = axd[\"A\"]\n",
    "col_idx = mat_ftrs.columns[col_order].values.astype(str)\n",
    "col_names = var_i2n[col_idx].values.astype(str)\n",
    "xticklabels = np.char.add(np.char.add(col_names, ' '), col_idx)\n",
    "\n",
    "sns.heatmap(\n",
    "    mat_ftrs.iloc[row_order,col_order],\n",
    "    yticklabels=False,\n",
    "    xticklabels=xticklabels,\n",
    "    cmap='coolwarm',\n",
    "    cbar_kws=dict(shrink=0.5, location='bottom', label='zscore log2(1+norm expr.)'),\n",
    "    vmax=3, vmin=-3,\n",
    "    ax=ax,\n",
    ")\n",
    "ax.set_ylabel('Cells')\n",
    "# ax.set_xticklabels()\n",
    "\n",
    "for i, (ax, col) in enumerate(zip(\n",
    "    (axd[\"B\"], axd[\"C\"], axd[\"D\"]),\n",
    "    ('clst_l1', 'clst_l2', 'clst_l3'),\n",
    "    )):\n",
    "    vec = adata3v2.obs[col].values\n",
    "    sns.heatmap(\n",
    "        adata3v2.obs[[col]].rename(columns={col: col.replace('clst_l', 'L')}).iloc[row_order],\n",
    "        yticklabels=False,\n",
    "        cmap='jet',\n",
    "        cbar_kws=dict(location='bottom', aspect=5, label='', ticks=[]),\n",
    "        ax=ax,\n",
    "    )\n",
    "    ax.set_ylabel('')\n",
    "    positions = np.cumsum(np.unique(vec, return_counts=True)[1])\n",
    "    ax.hlines(positions, xmin=-0.2, xmax=1, linewidth=1, linestyle='-', color='k', clip_on=False)\n",
    "    for i, pos in enumerate(positions):\n",
    "        ax.text(0, pos, i+1, color='white', fontsize=15)\n",
    "\n",
    "ax = axd[\"E\"]\n",
    "g = sns.heatmap(\n",
    "    mat_prjs.iloc[row_order],\n",
    "    yticklabels=False,\n",
    "    cmap='Greys',\n",
    "    cbar_kws=dict(location='bottom', aspect=5, ),\n",
    "    ax=ax,\n",
    ")\n",
    "ax.set_ylabel('')\n",
    "colorbar = g.collections[0].colorbar\n",
    "colorbar.ax.tick_params(labelsize=10)  # Set fontsize to 12 points\n",
    "\n",
    "ax = axd[\"F\"]\n",
    "g = sns.heatmap(\n",
    "    adata3v2.obs[['y']].iloc[row_order], \n",
    "    yticklabels=False,\n",
    "    cmap='Greys',\n",
    "    cbar_kws=dict(location='bottom', aspect=5, label='um'),\n",
    "    # vmin=0,\n",
    "    ax=ax,\n",
    ")\n",
    "ax.set_ylabel('')\n",
    "colorbar = g.collections[0].colorbar\n",
    "colorbar.ax.tick_params(labelsize=10, rotation=90)  # Set fontsize to 12 points\n"
   ]
  },
  {
   "cell_type": "code",
   "execution_count": null,
   "id": "2641f770-38e7-4c15-84f7-59a5175cd44f",
   "metadata": {
    "tags": []
   },
   "outputs": [],
   "source": [
    "sp_x, sp_y = 'x', 'y'\n",
    "fig, axs = plt.subplots(1,3,figsize=(4*3,5*1), sharey=True, sharex=True)\n",
    "axs.flat[0].invert_yaxis()\n",
    "# cbar_ax = fig.add_axes([0.92, 0.5, 0.01, 0.2])\n",
    "for i, (col, palette, dismap, ax) in enumerate(zip(['clst_l1', 'clst_l2', 'clst_l3'], \n",
    "                                                   [ palette1,  palette2,  palette3],\n",
    "                                                   [ dismap1,   dismap2,   dismap3],\n",
    "                                                   axs.flat)):\n",
    "    x = adata3v2.obs[sp_x].values\n",
    "    y = adata3v2.obs[sp_y].values\n",
    "    c = adata3v2.obs[col].values\n",
    "    \n",
    "    ax.grid(False)\n",
    "    g = ax.scatter(x, y, c=pd.Series(palette)[c], s=5, edgecolor='none',)\n",
    "    sns.despine(ax=ax)\n",
    "    ax.set_title(col)\n",
    "    ax.set_xlabel(sp_x)\n",
    "    ax.set_ylabel(sp_y)\n",
    "    ax.set_aspect('equal')\n",
    "    ax.axis('off')\n",
    "    fig.colorbar(dismap, ax=ax, orientation='horizontal', shrink=0.5, aspect=10)\n",
    "    \n",
    "fig.subplots_adjust(hspace=0.1, wspace=0.02)"
   ]
  },
  {
   "cell_type": "code",
   "execution_count": null,
   "id": "e6490dff-2fa6-4375-b2bf-8e4a22994fef",
   "metadata": {
    "tags": []
   },
   "outputs": [],
   "source": [
    "sp_x, sp_y = 'x', 'y'\n",
    "col = 'clst_l1'\n",
    "palette = palette1\n",
    "dismap = dismap1\n",
    "n = len(adata3v2.obs[col].unique())\n",
    "nx = min(6,n)\n",
    "ny = int((n+nx-1)/nx)\n",
    "suptitle = 'L1'\n",
    "\n",
    "fig, axs = plt.subplots(ny,nx,figsize=(3*nx,3*ny), sharey=True, sharex=True)\n",
    "axs.flat[0].invert_yaxis()\n",
    "for i, ax in enumerate(axs.flat):\n",
    "    x = adata3v2.obs[sp_x].values\n",
    "    y = adata3v2.obs[sp_y].values\n",
    "    c = adata3v2.obs[col].values\n",
    "    \n",
    "    ax.grid(False)\n",
    "    g = ax.scatter(x, y, c=[palette[_c] if i+1==_c else 'lightgray' for _c in c], s=5, edgecolor='none',)\n",
    "    \n",
    "    sns.despine(ax=ax)\n",
    "    ax.set_title(f\"C{i+1}\")\n",
    "    ax.set_xlabel(sp_x)\n",
    "    ax.set_ylabel(sp_y)\n",
    "    ax.set_aspect('equal')\n",
    "    ax.axis('off')\n",
    "    \n",
    "fig.suptitle(suptitle)\n",
    "fig.subplots_adjust(hspace=0.1, wspace=0.02)"
   ]
  },
  {
   "cell_type": "code",
   "execution_count": null,
   "id": "8da8c8da-d0a4-4a3d-a8fc-bab73898d8f3",
   "metadata": {
    "tags": []
   },
   "outputs": [],
   "source": [
    "sp_x, sp_y = 'x', 'y'\n",
    "col = 'clst_l2'\n",
    "palette = palette2\n",
    "dismap = dismap2\n",
    "n = len(adata3v2.obs[col].unique())\n",
    "nx = min(5,n)\n",
    "ny = int((n+nx-1)/nx)\n",
    "suptitle = 'L2'\n",
    "\n",
    "fig, axs = plt.subplots(ny,nx,figsize=(3*nx,3*ny), sharey=True, sharex=True)\n",
    "axs.flat[0].invert_yaxis()\n",
    "for i, ax in enumerate(axs.flat):\n",
    "    x = adata3v2.obs[sp_x].values\n",
    "    y = adata3v2.obs[sp_y].values\n",
    "    c = adata3v2.obs[col].values\n",
    "    \n",
    "    ax.grid(False)\n",
    "    g = ax.scatter(x, y, c=[palette[_c] if i+1==_c else 'lightgray' for _c in c], s=5, edgecolor='none',)\n",
    "    \n",
    "    sns.despine(ax=ax)\n",
    "    ax.set_title(f\"C{i+1}\")\n",
    "    ax.set_xlabel(sp_x)\n",
    "    ax.set_ylabel(sp_y)\n",
    "    ax.set_aspect('equal')\n",
    "    ax.axis('off')\n",
    "    \n",
    "fig.suptitle(suptitle)\n",
    "fig.subplots_adjust(hspace=0.1, wspace=0.02)"
   ]
  },
  {
   "cell_type": "code",
   "execution_count": null,
   "id": "07fe90a1-6dd8-403f-bdfc-94af3739125d",
   "metadata": {
    "tags": []
   },
   "outputs": [],
   "source": [
    "var_oidx = np.argsort(var['ptime'].values)\n",
    "var_order = var_i2n[var_idx[var_oidx]]\n",
    "var_order"
   ]
  },
  {
   "cell_type": "code",
   "execution_count": null,
   "id": "42aa1b05-4d30-4b91-99da-41464057bb9a",
   "metadata": {
    "tags": []
   },
   "outputs": [],
   "source": [
    "var_order_manual = pd.Series({\n",
    "    'r2_c2': 'Cdh13',\n",
    "    'r1_c4': 'Adamts2',\n",
    "    'r5_c1': 'Rfx3',\n",
    "    'r2_c4': 'Cntn5',\n",
    "    \n",
    "    'r3_c4': 'Gabrg3',\n",
    "    'r4_c4': 'Grm8',\n",
    "    \n",
    "    'r2_c0': 'Kcnip3',\n",
    "    'r5_c4': 'Baz1a',\n",
    "    'r1_c0': 'Sorcs3',\n",
    "    'r1_c1': 'Kcnq5',\n",
    "    'r3_c2': 'Cntnap2',\n",
    "    \n",
    "    'r3_c0': 'Cdh12',\n",
    "    'r5_c2': 'Epha10',\n",
    "    'r4_c0': 'Kcnh5',\n",
    "    \n",
    "    'r5_c0': 'Ncam2',\n",
    "    'r1_c2': 'Chrm2',\n",
    "    'r2_c1': 'Rorb',\n",
    "    \n",
    "    'r3_c1': 'Gria3',\n",
    "    'r4_c2': 'Slc17a7',\n",
    "    'r4_c1': 'RL Cre',\n",
    "    \n",
    "})\n",
    "clst_order_manual = [1,2,3,4,5,6,7]"
   ]
  },
  {
   "cell_type": "code",
   "execution_count": null,
   "id": "b71fea1f-0039-4427-ad7c-18dd9a027c87",
   "metadata": {},
   "outputs": [],
   "source": [
    "group = 'clst_l2'\n",
    "dfmean = df_p2v2.groupby(group)[np.char.add(var_order_manual.index.values.astype(str), '_nrm')].mean()\n",
    "dfmean = basicu.zscore(dfmean, axis=0)\n",
    "dfmean = dfmean.reindex(clst_order_manual)\n",
    "yticklabels = var_order_manual.values\n",
    "\n",
    "\n",
    "fig, ax = plt.subplots(figsize=(6,6))\n",
    "sns.heatmap(dfmean.T, ax=ax, \n",
    "            yticklabels=yticklabels, \n",
    "            cmap='coolwarm', cbar_kws=dict(label='zscore mean exp.', shrink=0.5, aspect=10))"
   ]
  },
  {
   "cell_type": "markdown",
   "id": "a8c37ecf-6ab9-4d21-a671-77b021c66d4f",
   "metadata": {},
   "source": [
    "# order cells by y-axis"
   ]
  },
  {
   "cell_type": "code",
   "execution_count": null,
   "id": "a554bdc7-2e1b-4970-b210-d9143147ca1b",
   "metadata": {
    "tags": []
   },
   "outputs": [],
   "source": [
    "row_order = np.argsort(adata3v2.obs['y']).values # .sort_values().index\n",
    "row_order"
   ]
  },
  {
   "cell_type": "code",
   "execution_count": null,
   "id": "3c4b3bd3-bf23-43c6-a0f9-316050ba73c9",
   "metadata": {
    "tags": []
   },
   "outputs": [],
   "source": [
    "fig = plt.figure(figsize=(10,15))\n",
    "axd = fig.subplot_mosaic(\"A\"*12+\"BCDEF\")\n",
    "ax = axd[\"A\"]\n",
    "col_idx = mat_ftrs.columns[col_order].values.astype(str)\n",
    "col_names = var_i2n[col_idx].values.astype(str)\n",
    "xticklabels = np.char.add(np.char.add(col_names, ' '), col_idx)\n",
    "\n",
    "sns.heatmap(\n",
    "    mat_ftrs.iloc[row_order,col_order],\n",
    "    yticklabels=False,\n",
    "    xticklabels=xticklabels,\n",
    "    cmap='coolwarm',\n",
    "    cbar_kws=dict(shrink=0.5, location='bottom', label='zscore log2(1+norm expr.)'),\n",
    "    vmax=3, vmin=-3,\n",
    "    ax=ax,\n",
    ")\n",
    "ax.set_ylabel('Cells')\n",
    "# ax.set_xticklabels()\n",
    "\n",
    "for i, (ax, col) in enumerate(zip(\n",
    "    (axd[\"B\"], axd[\"C\"], axd[\"D\"]),\n",
    "    ('clst_l1', 'clst_l2', 'clst_l3'),\n",
    "    )):\n",
    "    # vec = adata3v2.obs[col][row_order].values\n",
    "    sns.heatmap(\n",
    "        adata3v2.obs[[col]].rename(columns={col: col.replace('clst_l', 'L')}).iloc[row_order],\n",
    "        yticklabels=False,\n",
    "        cmap='jet',\n",
    "        cbar_kws=dict(location='bottom', aspect=5, label='', ticks=[]),\n",
    "        ax=ax,\n",
    "    )\n",
    "    ax.set_ylabel('')\n",
    "    # positions = np.cumsum(np.unique(vec, return_counts=True)[1])\n",
    "    # ax.hlines(positions, xmin=-0.2, xmax=1, linewidth=1, linestyle='-', color='k', clip_on=False)\n",
    "    # for i, pos in enumerate(positions):\n",
    "    #     ax.text(0, pos, i+1, color='white', fontsize=15)\n",
    "\n",
    "ax = axd[\"E\"]\n",
    "g = sns.heatmap(\n",
    "    mat_prjs.iloc[row_order],\n",
    "    yticklabels=False,\n",
    "    cmap='Greys',\n",
    "    cbar_kws=dict(location='bottom', aspect=5, ),\n",
    "    ax=ax,\n",
    ")\n",
    "ax.set_ylabel('')\n",
    "colorbar = g.collections[0].colorbar\n",
    "colorbar.ax.tick_params(labelsize=10)  # Set fontsize to 12 points\n",
    "\n",
    "ax = axd[\"F\"]\n",
    "g = sns.heatmap(\n",
    "    adata3v2.obs[['y']].iloc[row_order], \n",
    "    yticklabels=False,\n",
    "    cmap='Greys',\n",
    "    cbar_kws=dict(location='bottom', aspect=5, label='um'),\n",
    "    # vmin=0,\n",
    "    ax=ax,\n",
    ")\n",
    "ax.set_ylabel('')\n",
    "colorbar = g.collections[0].colorbar\n",
    "colorbar.ax.tick_params(labelsize=10, rotation=90)  # Set fontsize to 12 points"
   ]
  },
  {
   "cell_type": "markdown",
   "id": "9d4230ac-2625-443b-b269-9aad7592dc79",
   "metadata": {},
   "source": [
    "# co-expression, clustering, cluster enrichment of expression"
   ]
  },
  {
   "cell_type": "code",
   "execution_count": null,
   "id": "596389a1-9cd9-4769-8391-583eaabcb69e",
   "metadata": {},
   "outputs": [],
   "source": [
    "sp_x, sp_y = 'x', 'y'\n",
    "col = 'clst_l1'\n",
    "view_z_sections_labels(df_p3v2, sp_x, sp_y, col, palette=palette1, title=None, flip_y=True)"
   ]
  },
  {
   "cell_type": "code",
   "execution_count": null,
   "id": "f93f13da-75db-4023-8d6b-69e5be201f5e",
   "metadata": {
    "tags": []
   },
   "outputs": [],
   "source": [
    "sp_x, sp_y = 'x', 'y'\n",
    "col = 'clst_l2'\n",
    "view_z_sections_labels(df_p3v2, sp_x, sp_y, col, palette=palette2, title=None, flip_y=True)"
   ]
  },
  {
   "cell_type": "markdown",
   "id": "9f48dcad-beff-4367-8297-6e4feae1b4c5",
   "metadata": {},
   "source": [
    "# remove and redo again - L2/3 only"
   ]
  },
  {
   "cell_type": "code",
   "execution_count": null,
   "id": "12f056b1-2f1d-40fe-af35-87f8f1a6c7a1",
   "metadata": {
    "tags": []
   },
   "outputs": [],
   "source": [
    "remove_these = [6,7]\n",
    "adata2v3 = adata2v2[~adata2v2.obs['clst_l2'].isin(remove_these)].copy()\n",
    "adata3v3 = adata3v2[~adata3v2.obs['clst_l2'].isin(remove_these)].copy()\n",
    "print(adata2v3.shape, adata3v3.shape)"
   ]
  },
  {
   "cell_type": "code",
   "execution_count": null,
   "id": "322bd96c-cb28-4343-96c6-6cd7b7c13924",
   "metadata": {
    "tags": []
   },
   "outputs": [],
   "source": [
    "# normalize the data and record\n",
    "norm_data(adata2v3)\n",
    "norm_data(adata3v3)"
   ]
  },
  {
   "cell_type": "code",
   "execution_count": null,
   "id": "17113cb9-0560-48ed-8b45-54f4573f3b45",
   "metadata": {
    "tags": []
   },
   "outputs": [],
   "source": [
    "df_p2v3 = adata2v3.obs.copy()\n",
    "df_p2v3[nrm_var_idx]  = np.array(adata2v3.layers['nrm'])\n",
    "\n",
    "df_p3v3 = adata3v3.obs.copy()\n",
    "df_p3v3[nrm_gene_idx] = np.array(adata3v3.layers['nrm'])"
   ]
  },
  {
   "cell_type": "code",
   "execution_count": null,
   "id": "52c9915a-280f-4789-99cf-752a144ec0e9",
   "metadata": {
    "tags": []
   },
   "outputs": [],
   "source": [
    "mat_ftrs = pd.DataFrame(adata3v3.layers['zsc'], index=adata3v3.obs.index, columns=adata3v3.var.index)\n",
    "mat_prjs = adata3v3.obs[proj_idx] \n",
    "\n",
    "# sch\n",
    "col_link = sch.linkage(mat_ftrs.T, method='ward', metric='euclidean')\n",
    "col_order = sch.dendrogram(col_link, no_plot=True)['leaves']\n",
    "\n",
    "row_link = sch.linkage(mat_ftrs, method='ward', metric='euclidean')\n",
    "row_order = sch.dendrogram(row_link, p=30, truncate_mode='none', no_plot=True)['leaves']\n",
    "\n",
    "# get clusters\n",
    "clsts1 = sch.fcluster(row_link, 100, criterion='distance')\n",
    "clsts2 = sch.fcluster(row_link,  50, criterion='distance')\n",
    "clsts3 = sch.fcluster(row_link,  30, criterion='distance')\n",
    "\n",
    "print(clsts1.shape, np.unique(clsts1).shape)\n",
    "print(clsts2.shape, np.unique(clsts2).shape)\n",
    "print(clsts3.shape, np.unique(clsts3).shape)\n",
    "\n",
    "\n",
    "# register\n",
    "adata3v3.obs['clst_l1'] = clsts1\n",
    "adata3v3.obs['clst_l2'] = clsts2\n",
    "adata3v3.obs['clst_l3'] = clsts3\n",
    "\n",
    "adata2v3.obs['clst_l1'] = clsts1\n",
    "adata2v3.obs['clst_l2'] = clsts2\n",
    "adata2v3.obs['clst_l3'] = clsts3\n",
    "\n",
    "df_p3v3['clst_l1'] = clsts1\n",
    "df_p3v3['clst_l2'] = clsts2\n",
    "df_p3v3['clst_l3'] = clsts3\n",
    "\n",
    "df_p2v3['clst_l1'] = clsts1\n",
    "df_p2v3['clst_l2'] = clsts2\n",
    "df_p2v3['clst_l3'] = clsts3\n",
    "\n",
    "# colors\n",
    "palette1, dismap1 = gen_discrete_colors(len(np.unique(clsts1)))\n",
    "palette2, dismap2 = gen_discrete_colors(len(np.unique(clsts2)))\n",
    "palette3, dismap3 = gen_discrete_colors(len(np.unique(clsts3)))"
   ]
  },
  {
   "cell_type": "code",
   "execution_count": null,
   "id": "8d7735a8-0f39-4f05-b22f-0cae7b8d499f",
   "metadata": {
    "tags": []
   },
   "outputs": [],
   "source": [
    "fig = plt.figure(figsize=(10,15))\n",
    "axd = fig.subplot_mosaic(\"A\"*12+\"BCDEF\")\n",
    "ax = axd[\"A\"]\n",
    "col_idx = mat_ftrs.columns[col_order].values.astype(str)\n",
    "col_names = var_i2n[col_idx].values.astype(str)\n",
    "xticklabels = np.char.add(np.char.add(col_names, ' '), col_idx)\n",
    "\n",
    "sns.heatmap(\n",
    "    mat_ftrs.iloc[row_order,col_order],\n",
    "    yticklabels=False,\n",
    "    xticklabels=xticklabels,\n",
    "    cmap='coolwarm',\n",
    "    cbar_kws=dict(shrink=0.5, location='bottom', label='zscore log2(1+norm expr.)'),\n",
    "    vmax=3, vmin=-3,\n",
    "    ax=ax,\n",
    ")\n",
    "ax.set_ylabel('Cells')\n",
    "# ax.set_xticklabels()\n",
    "\n",
    "for i, (ax, col) in enumerate(zip(\n",
    "    (axd[\"B\"], axd[\"C\"], axd[\"D\"]),\n",
    "    ('clst_l1', 'clst_l2', 'clst_l3'),\n",
    "    )):\n",
    "    vec = adata3v3.obs[col].values\n",
    "    sns.heatmap(\n",
    "        adata3v3.obs[[col]].rename(columns={col: col.replace('clst_l', 'L')}).iloc[row_order],\n",
    "        yticklabels=False,\n",
    "        cmap='jet',\n",
    "        cbar_kws=dict(location='bottom', aspect=5, label='', ticks=[]),\n",
    "        ax=ax,\n",
    "    )\n",
    "    ax.set_ylabel('')\n",
    "    positions = np.cumsum(np.unique(vec, return_counts=True)[1])\n",
    "    ax.hlines(positions, xmin=-0.2, xmax=1, linewidth=1, linestyle='-', color='k', clip_on=False)\n",
    "    for i, pos in enumerate(positions):\n",
    "        ax.text(0, pos, i+1, color='white', fontsize=15)\n",
    "\n",
    "ax = axd[\"E\"]\n",
    "g = sns.heatmap(\n",
    "    mat_prjs.iloc[row_order],\n",
    "    yticklabels=False,\n",
    "    cmap='Greys',\n",
    "    cbar_kws=dict(location='bottom', aspect=5, ),\n",
    "    ax=ax,\n",
    ")\n",
    "ax.set_ylabel('')\n",
    "colorbar = g.collections[0].colorbar\n",
    "colorbar.ax.tick_params(labelsize=10)  # Set fontsize to 12 points\n",
    "\n",
    "ax = axd[\"F\"]\n",
    "g = sns.heatmap(\n",
    "    adata3v3.obs[['y']].iloc[row_order], \n",
    "    yticklabels=False,\n",
    "    cmap='Greys',\n",
    "    cbar_kws=dict(location='bottom', aspect=5, label='um'),\n",
    "    # vmin=0,\n",
    "    ax=ax,\n",
    ")\n",
    "ax.set_ylabel('')\n",
    "colorbar = g.collections[0].colorbar\n",
    "colorbar.ax.tick_params(labelsize=10, rotation=90)  # Set fontsize to 12 points\n"
   ]
  },
  {
   "cell_type": "code",
   "execution_count": null,
   "id": "ba4b4f98-fed1-4d4e-a3c1-3e9981343150",
   "metadata": {
    "tags": []
   },
   "outputs": [],
   "source": [
    "sp_x, sp_y = 'x', 'y'\n",
    "fig, axs = plt.subplots(1,3,figsize=(4*3,5*1), sharey=True, sharex=True)\n",
    "axs.flat[0].invert_yaxis()\n",
    "# cbar_ax = fig.add_axes([0.92, 0.5, 0.01, 0.2])\n",
    "for i, (col, palette, dismap, ax) in enumerate(zip(['clst_l1', 'clst_l2', 'clst_l3'], \n",
    "                                                   [ palette1,  palette2,  palette3],\n",
    "                                                   [ dismap1,   dismap2,   dismap3],\n",
    "                                                   axs.flat)):\n",
    "    x = adata3v3.obs[sp_x].values\n",
    "    y = adata3v3.obs[sp_y].values\n",
    "    c = adata3v3.obs[col].values\n",
    "    \n",
    "    ax.grid(False)\n",
    "    g = ax.scatter(x, y, c=pd.Series(palette)[c], s=5, edgecolor='none',)\n",
    "    sns.despine(ax=ax)\n",
    "    ax.set_title(col)\n",
    "    ax.set_xlabel(sp_x)\n",
    "    ax.set_ylabel(sp_y)\n",
    "    ax.set_aspect('equal')\n",
    "    ax.axis('off')\n",
    "    fig.colorbar(dismap, ax=ax, orientation='horizontal', shrink=0.5, aspect=10)\n",
    "    \n",
    "fig.subplots_adjust(hspace=0.1, wspace=0.02)"
   ]
  },
  {
   "cell_type": "code",
   "execution_count": null,
   "id": "bb47d4a2-84f2-4378-9876-4bd7c4a9f5d6",
   "metadata": {
    "tags": []
   },
   "outputs": [],
   "source": [
    "sp_x, sp_y = 'x', 'y'\n",
    "col = 'clst_l1'\n",
    "palette = palette1\n",
    "dismap = dismap1\n",
    "n = len(adata3v3.obs[col].unique())\n",
    "nx = min(6,n)\n",
    "ny = int((n+nx-1)/nx)\n",
    "suptitle = 'L1'\n",
    "\n",
    "fig, axs = plt.subplots(ny,nx,figsize=(3*nx,3*ny), sharey=True, sharex=True)\n",
    "axs.flat[0].invert_yaxis()\n",
    "for i, ax in enumerate(axs.flat):\n",
    "    x = adata3v3.obs[sp_x].values\n",
    "    y = adata3v3.obs[sp_y].values\n",
    "    c = adata3v3.obs[col].values\n",
    "    \n",
    "    ax.grid(False)\n",
    "    g = ax.scatter(x, y, c=[palette[_c] if i+1==_c else 'lightgray' for _c in c], s=5, edgecolor='none',)\n",
    "    \n",
    "    sns.despine(ax=ax)\n",
    "    ax.set_title(f\"C{i+1}\")\n",
    "    ax.set_xlabel(sp_x)\n",
    "    ax.set_ylabel(sp_y)\n",
    "    ax.set_aspect('equal')\n",
    "    ax.axis('off')\n",
    "    \n",
    "fig.suptitle(suptitle)\n",
    "fig.subplots_adjust(hspace=0.1, wspace=0.02)"
   ]
  },
  {
   "cell_type": "code",
   "execution_count": null,
   "id": "560de55a-2c50-494d-8fef-09430d524c0c",
   "metadata": {
    "tags": []
   },
   "outputs": [],
   "source": [
    "sp_x, sp_y = 'x', 'y'\n",
    "col = 'clst_l2'\n",
    "palette = palette2\n",
    "dismap = dismap2\n",
    "n = len(adata3v3.obs[col].unique())\n",
    "nx = min(5,n)\n",
    "ny = int((n+nx-1)/nx)\n",
    "suptitle = 'L2'\n",
    "\n",
    "fig, axs = plt.subplots(ny,nx,figsize=(3*nx,3*ny), sharey=True, sharex=True)\n",
    "axs.flat[0].invert_yaxis()\n",
    "for i, ax in enumerate(axs.flat):\n",
    "    x = adata3v3.obs[sp_x].values\n",
    "    y = adata3v3.obs[sp_y].values\n",
    "    c = adata3v3.obs[col].values\n",
    "    \n",
    "    ax.grid(False)\n",
    "    g = ax.scatter(x, y, c=[palette[_c] if i+1==_c else 'lightgray' for _c in c], s=5, edgecolor='none',)\n",
    "    \n",
    "    sns.despine(ax=ax)\n",
    "    ax.set_title(f\"C{i+1}\")\n",
    "    ax.set_xlabel(sp_x)\n",
    "    ax.set_ylabel(sp_y)\n",
    "    ax.set_aspect('equal')\n",
    "    ax.axis('off')\n",
    "    \n",
    "fig.suptitle(suptitle)\n",
    "fig.subplots_adjust(hspace=0.1, wspace=0.02)"
   ]
  },
  {
   "cell_type": "code",
   "execution_count": null,
   "id": "9991bce3-a81b-4a9e-b5f4-4094bf8dd820",
   "metadata": {
    "tags": []
   },
   "outputs": [],
   "source": [
    "cluster_order = [3,5,4,2,1]\n",
    "sp_x, sp_y = 'x', 'y'\n",
    "col = 'clst_l2'\n",
    "palette = palette2\n",
    "dismap = dismap2\n",
    "n = len(adata3v3.obs[col].unique())\n",
    "nx = min(5,n)\n",
    "ny = int((n+nx-1)/nx)\n",
    "suptitle = 'L2'\n",
    "\n",
    "fig, axs = plt.subplots(ny,nx,figsize=(3*nx,3*ny), sharey=True, sharex=True)\n",
    "axs.flat[0].invert_yaxis()\n",
    "for i, (clst, ax) in enumerate(zip(cluster_order, axs.flat)):\n",
    "    x = adata3v3.obs[sp_x].values\n",
    "    y = adata3v3.obs[sp_y].values\n",
    "    c = adata3v3.obs[col].values\n",
    "    \n",
    "    ax.grid(False)\n",
    "    g = ax.scatter(x, y, c=[palette[_c] if clst==_c else 'lightgray' for _c in c], s=5, edgecolor='none',)\n",
    "    \n",
    "    sns.despine(ax=ax)\n",
    "    ax.set_title(f\"C{clst}\")\n",
    "    ax.set_xlabel(sp_x)\n",
    "    ax.set_ylabel(sp_y)\n",
    "    ax.set_aspect('equal')\n",
    "    ax.axis('off')\n",
    "    \n",
    "fig.suptitle(suptitle)\n",
    "fig.subplots_adjust(hspace=0.1, wspace=0.02)"
   ]
  },
  {
   "cell_type": "code",
   "execution_count": null,
   "id": "e91adcba-8068-4dfe-98bb-a82f1cfd163f",
   "metadata": {
    "tags": []
   },
   "outputs": [],
   "source": [
    "var_oidx = np.argsort(var['ptime'].values)\n",
    "var_order = var_i2n[var_idx[var_oidx]]\n",
    "var_order"
   ]
  },
  {
   "cell_type": "code",
   "execution_count": null,
   "id": "55bd3744-43da-4026-8bbf-e905a5ae5811",
   "metadata": {
    "tags": []
   },
   "outputs": [],
   "source": [
    "var_order_manual = pd.Series({\n",
    "    'r2_c2': 'Cdh13',\n",
    "    'r1_c4': 'Adamts2',\n",
    "    'r5_c1': 'Rfx3',\n",
    "    'r2_c4': 'Cntn5',\n",
    "    \n",
    "    'r3_c4': 'Gabrg3',\n",
    "    'r4_c4': 'Grm8',\n",
    "    \n",
    "    'r2_c0': 'Kcnip3',\n",
    "    'r5_c4': 'Baz1a',\n",
    "    'r1_c0': 'Sorcs3',\n",
    "    'r1_c1': 'Kcnq5',\n",
    "    'r3_c2': 'Cntnap2',\n",
    "    \n",
    "    'r3_c0': 'Cdh12',\n",
    "    'r5_c2': 'Epha10',\n",
    "    'r4_c0': 'Kcnh5',\n",
    "    \n",
    "    'r5_c0': 'Ncam2',\n",
    "    'r1_c2': 'Chrm2',\n",
    "    'r2_c1': 'Rorb',\n",
    "    \n",
    "    'r3_c1': 'Gria3',\n",
    "    'r4_c2': 'Slc17a7',\n",
    "    'r4_c1': 'RL Cre',\n",
    "    \n",
    "})\n",
    "clst_order_manual = [3,5,4,2,1] #,6,7]"
   ]
  },
  {
   "cell_type": "code",
   "execution_count": null,
   "id": "dc53ee48-356b-4bfd-8016-790a6db8856d",
   "metadata": {},
   "outputs": [],
   "source": [
    "group = 'clst_l2'\n",
    "dfmean = df_p2v3.groupby(group)[np.char.add(var_order_manual.index.values.astype(str), '_nrm')].mean()\n",
    "dfmean = basicu.zscore(dfmean, axis=0)\n",
    "dfmean = dfmean.reindex(clst_order_manual)\n",
    "yticklabels = var_order_manual.values\n",
    "\n",
    "\n",
    "fig, ax = plt.subplots(figsize=(6,6))\n",
    "sns.heatmap(dfmean.T, ax=ax, \n",
    "            yticklabels=yticklabels, \n",
    "            cmap='coolwarm', cbar_kws=dict(label='zscore mean exp.', shrink=0.5, aspect=10))"
   ]
  },
  {
   "cell_type": "markdown",
   "id": "047ee90c-b331-46bf-a510-463144240cdf",
   "metadata": {},
   "source": [
    "# order by y-axis"
   ]
  },
  {
   "cell_type": "code",
   "execution_count": null,
   "id": "f19c3544-bfe5-4cff-a6ad-0afd22a2eb09",
   "metadata": {
    "tags": []
   },
   "outputs": [],
   "source": [
    "var_order"
   ]
  },
  {
   "cell_type": "code",
   "execution_count": null,
   "id": "6a5a8353-4327-401a-8fb2-9be22fa69340",
   "metadata": {
    "tags": []
   },
   "outputs": [],
   "source": [
    "row_order = np.argsort(adata3v3.obs['y']).values # .sort_values().index\n",
    "col_order = basicu.get_index_from_array(mat_ftrs.columns, var_order_manual.index.values[:-1])\n",
    "col_order"
   ]
  },
  {
   "cell_type": "code",
   "execution_count": null,
   "id": "de58d8b2-8294-4dc6-87bb-1c14df0a6294",
   "metadata": {
    "tags": []
   },
   "outputs": [],
   "source": [
    "fig = plt.figure(figsize=(20,8))\n",
    "axd = fig.subplot_mosaic(\"A\\n\"*12+\"B\\nC\\nD\\nE\\nF\")\n",
    "ax = axd[\"A\"]\n",
    "col_idx = mat_ftrs.columns[col_order].values.astype(str)\n",
    "col_names = var_i2n[col_idx].values.astype(str)\n",
    "yticklabels = np.char.add(np.char.add(col_names, ' '), col_idx)\n",
    "\n",
    "sns.heatmap(\n",
    "    mat_ftrs.iloc[row_order,col_order].T,\n",
    "    xticklabels=False,\n",
    "    yticklabels=yticklabels,\n",
    "    cmap='coolwarm',\n",
    "    cbar_kws=dict(shrink=0.5, label='zscore log2(1+norm expr.)'),\n",
    "    vmax=3, vmin=-3,\n",
    "    ax=ax,\n",
    ")\n",
    "ax.set_ylabel('Cells')\n",
    "# ax.set_xticklabels()\n",
    "\n",
    "for i, (ax, col) in enumerate(zip(\n",
    "    (axd[\"B\"], axd[\"C\"], axd[\"D\"]),\n",
    "    ('clst_l1', 'clst_l2', 'clst_l3'),\n",
    "    )):\n",
    "    # vec = adata3v2.obs[col][row_order].values\n",
    "    sns.heatmap(\n",
    "        adata3v3.obs[[col]].rename(columns={col: col.replace('clst_l', 'L')}).iloc[row_order].T,\n",
    "        xticklabels=False,\n",
    "        cmap='jet',\n",
    "        cbar_kws=dict(aspect=5, label='', ticks=[]),\n",
    "        ax=ax,\n",
    "    )\n",
    "    ax.set_ylabel('')\n",
    "    # positions = np.cumsum(np.unique(vec, return_counts=True)[1])\n",
    "    # ax.hlines(positions, xmin=-0.2, xmax=1, linewidth=1, linestyle='-', color='k', clip_on=False)\n",
    "    # for i, pos in enumerate(positions):\n",
    "    #     ax.text(0, pos, i+1, color='white', fontsize=15)\n",
    "\n",
    "ax = axd[\"E\"]\n",
    "g = sns.heatmap(\n",
    "    mat_prjs.iloc[row_order].T,\n",
    "    xticklabels=False,\n",
    "    cmap='Greys',\n",
    "    cbar_kws=dict(aspect=5, ),\n",
    "    ax=ax,\n",
    ")\n",
    "ax.set_ylabel('')\n",
    "colorbar = g.collections[0].colorbar\n",
    "colorbar.ax.tick_params(labelsize=10)  # Set fontsize to 12 points\n",
    "\n",
    "ax = axd[\"F\"]\n",
    "g = sns.heatmap(\n",
    "    adata3v3.obs[['y']].iloc[row_order].T, \n",
    "    xticklabels=False,\n",
    "    cmap='Greys',\n",
    "    cbar_kws=dict(aspect=5, label='um'),\n",
    "    # vmin=0,\n",
    "    ax=ax,\n",
    ")\n",
    "ax.set_ylabel('')\n",
    "colorbar = g.collections[0].colorbar\n",
    "colorbar.ax.tick_params(labelsize=10)  # Set fontsize to 12 points"
   ]
  },
  {
   "cell_type": "code",
   "execution_count": null,
   "id": "08e2c29d-b309-4af3-8f44-5b10879074ae",
   "metadata": {
    "tags": []
   },
   "outputs": [],
   "source": [
    "mat_ftrs = pd.DataFrame(adata3v3.layers['zsc'], index=adata3v3.obs.index, columns=adata3v3.var.index)\n",
    "mat_prjs = adata3v3.obs[proj_idx] \n",
    "\n",
    "# sch\n",
    "col_link = sch.linkage(mat_ftrs.T, method='ward', metric='euclidean')\n",
    "col_order = sch.dendrogram(col_link, no_plot=True)['leaves']\n",
    "\n",
    "row_link = sch.linkage(mat_ftrs, method='ward', metric='euclidean')\n",
    "row_order = sch.dendrogram(row_link, p=30, truncate_mode='none', no_plot=True)['leaves']\n",
    "\n",
    "# get clusters\n",
    "clsts1 = sch.fcluster(row_link, 100, criterion='distance')\n",
    "clsts2 = sch.fcluster(row_link,  50, criterion='distance')\n",
    "clsts3 = sch.fcluster(row_link,  30, criterion='distance')\n",
    "\n",
    "print(clsts1.shape, np.unique(clsts1).shape)\n",
    "print(clsts2.shape, np.unique(clsts2).shape)\n",
    "print(clsts3.shape, np.unique(clsts3).shape)\n",
    "\n",
    "\n",
    "# register\n",
    "adata3v3.obs['clst_l1'] = clsts1\n",
    "adata3v3.obs['clst_l2'] = clsts2\n",
    "adata3v3.obs['clst_l3'] = clsts3\n",
    "\n",
    "adata2v3.obs['clst_l1'] = clsts1\n",
    "adata2v3.obs['clst_l2'] = clsts2\n",
    "adata2v3.obs['clst_l3'] = clsts3\n",
    "\n",
    "df_p3v3['clst_l1'] = clsts1\n",
    "df_p3v3['clst_l2'] = clsts2\n",
    "df_p3v3['clst_l3'] = clsts3\n",
    "\n",
    "df_p2v3['clst_l1'] = clsts1\n",
    "df_p2v3['clst_l2'] = clsts2\n",
    "df_p2v3['clst_l3'] = clsts3\n",
    "\n",
    "# colors\n",
    "palette1, dismap1 = gen_discrete_colors(len(np.unique(clsts1)))\n",
    "palette2, dismap2 = gen_discrete_colors(len(np.unique(clsts2)))\n",
    "palette3, dismap3 = gen_discrete_colors(len(np.unique(clsts3)))"
   ]
  },
  {
   "cell_type": "code",
   "execution_count": null,
   "id": "a3ddc36f-642c-4a66-af74-b93bb277f6f8",
   "metadata": {
    "tags": []
   },
   "outputs": [],
   "source": [
    "fig = plt.figure(figsize=(20,8))\n",
    "axd = fig.subplot_mosaic(\"A\\n\"*12+\"B\\nC\\nD\\nE\\nF\")\n",
    "ax = axd[\"A\"]\n",
    "col_idx = mat_ftrs.columns[col_order].values.astype(str)\n",
    "col_names = var_i2n[col_idx].values.astype(str)\n",
    "yticklabels = np.char.add(np.char.add(col_names, ' '), col_idx)\n",
    "\n",
    "sns.heatmap(\n",
    "    mat_ftrs.iloc[row_order,col_order].T,\n",
    "    xticklabels=False,\n",
    "    yticklabels=yticklabels,\n",
    "    cmap='coolwarm',\n",
    "    cbar_kws=dict(shrink=0.5, label='zscore log2(1+norm expr.)'),\n",
    "    vmax=3, vmin=-3,\n",
    "    ax=ax,\n",
    ")\n",
    "ax.set_ylabel('Cells')\n",
    "# ax.set_xticklabels()\n",
    "\n",
    "for i, (ax, col) in enumerate(zip(\n",
    "    (axd[\"B\"], axd[\"C\"], axd[\"D\"]),\n",
    "    ('clst_l1', 'clst_l2', 'clst_l3'),\n",
    "    )):\n",
    "    # vec = adata3v2.obs[col][row_order].values\n",
    "    sns.heatmap(\n",
    "        adata3v3.obs[[col]].rename(columns={col: col.replace('clst_l', 'L')}).iloc[row_order].T,\n",
    "        xticklabels=False,\n",
    "        cmap='jet',\n",
    "        cbar_kws=dict(aspect=5, label='', ticks=[]),\n",
    "        ax=ax,\n",
    "    )\n",
    "    ax.set_ylabel('')\n",
    "    # positions = np.cumsum(np.unique(vec, return_counts=True)[1])\n",
    "    # ax.hlines(positions, xmin=-0.2, xmax=1, linewidth=1, linestyle='-', color='k', clip_on=False)\n",
    "    # for i, pos in enumerate(positions):\n",
    "    #     ax.text(0, pos, i+1, color='white', fontsize=15)\n",
    "\n",
    "ax = axd[\"E\"]\n",
    "g = sns.heatmap(\n",
    "    mat_prjs.iloc[row_order].T,\n",
    "    xticklabels=False,\n",
    "    cmap='Greys',\n",
    "    cbar_kws=dict(aspect=5, ),\n",
    "    ax=ax,\n",
    ")\n",
    "ax.set_ylabel('')\n",
    "colorbar = g.collections[0].colorbar\n",
    "colorbar.ax.tick_params(labelsize=10)  # Set fontsize to 12 points\n",
    "\n",
    "ax = axd[\"F\"]\n",
    "g = sns.heatmap(\n",
    "    adata3v3.obs[['y']].iloc[row_order].T, \n",
    "    xticklabels=False,\n",
    "    cmap='Greys',\n",
    "    cbar_kws=dict(aspect=5, label='um'),\n",
    "    # vmin=0,\n",
    "    ax=ax,\n",
    ")\n",
    "ax.set_ylabel('')\n",
    "colorbar = g.collections[0].colorbar\n",
    "colorbar.ax.tick_params(labelsize=10)  # Set fontsize to 12 points"
   ]
  },
  {
   "cell_type": "code",
   "execution_count": null,
   "id": "ea6f8f7c-657f-44ec-bfab-b8df4c24c0af",
   "metadata": {
    "tags": []
   },
   "outputs": [],
   "source": [
    "col_order = basicu.get_index_from_array(mat_ftrs.columns, var_order_manual.index.values[:-1])"
   ]
  },
  {
   "cell_type": "code",
   "execution_count": null,
   "id": "7dc701e3-e46e-4d18-9483-aac344b204b7",
   "metadata": {},
   "outputs": [],
   "source": [
    "\n",
    "fig = plt.figure(figsize=(20,8))\n",
    "axd = fig.subplot_mosaic(\"A\\n\"*12+\"B\\nC\\nD\\nE\\nF\")\n",
    "ax = axd[\"A\"]\n",
    "col_idx = mat_ftrs.columns[col_order].values.astype(str)\n",
    "col_names = var_i2n[col_idx].values.astype(str)\n",
    "yticklabels = np.char.add(np.char.add(col_names, ' '), col_idx)\n",
    "\n",
    "sns.heatmap(\n",
    "    mat_ftrs.iloc[row_order,col_order].T,\n",
    "    xticklabels=False,\n",
    "    yticklabels=yticklabels,\n",
    "    cmap='coolwarm',\n",
    "    cbar_kws=dict(shrink=0.5, label='zscore log2(1+norm expr.)'),\n",
    "    vmax=3, vmin=-3,\n",
    "    ax=ax,\n",
    ")\n",
    "ax.set_ylabel('Cells')\n",
    "# ax.set_xticklabels()\n",
    "\n",
    "for i, (ax, col) in enumerate(zip(\n",
    "    (axd[\"B\"], axd[\"C\"], axd[\"D\"]),\n",
    "    ('clst_l1', 'clst_l2', 'clst_l3'),\n",
    "    )):\n",
    "    # vec = adata3v2.obs[col][row_order].values\n",
    "    sns.heatmap(\n",
    "        adata3v3.obs[[col]].rename(columns={col: col.replace('clst_l', 'L')}).iloc[row_order].T,\n",
    "        xticklabels=False,\n",
    "        cmap='jet',\n",
    "        cbar_kws=dict(aspect=5, label='', ticks=[]),\n",
    "        ax=ax,\n",
    "    )\n",
    "    ax.set_ylabel('')\n",
    "    # positions = np.cumsum(np.unique(vec, return_counts=True)[1])\n",
    "    # ax.hlines(positions, xmin=-0.2, xmax=1, linewidth=1, linestyle='-', color='k', clip_on=False)\n",
    "    # for i, pos in enumerate(positions):\n",
    "    #     ax.text(0, pos, i+1, color='white', fontsize=15)\n",
    "\n",
    "ax = axd[\"E\"]\n",
    "g = sns.heatmap(\n",
    "    mat_prjs.iloc[row_order].T,\n",
    "    xticklabels=False,\n",
    "    cmap='Greys',\n",
    "    cbar_kws=dict(aspect=5, ),\n",
    "    ax=ax,\n",
    ")\n",
    "ax.set_ylabel('')\n",
    "colorbar = g.collections[0].colorbar\n",
    "colorbar.ax.tick_params(labelsize=10)  # Set fontsize to 12 points\n",
    "\n",
    "ax = axd[\"F\"]\n",
    "g = sns.heatmap(\n",
    "    adata3v3.obs[['y']].iloc[row_order].T, \n",
    "    xticklabels=False,\n",
    "    cmap='Greys',\n",
    "    cbar_kws=dict(aspect=5, label='um'),\n",
    "    # vmin=0,\n",
    "    ax=ax,\n",
    ")\n",
    "ax.set_ylabel('')\n",
    "colorbar = g.collections[0].colorbar\n",
    "colorbar.ax.tick_params(labelsize=10)  # Set fontsize to 12 points"
   ]
  },
  {
   "cell_type": "code",
   "execution_count": null,
   "id": "888d685d-aa1e-404a-9511-ba4f05688d9b",
   "metadata": {},
   "outputs": [],
   "source": []
  }
 ],
 "metadata": {
  "kernelspec": {
   "display_name": "Python 3 (ipykernel)",
   "language": "python",
   "name": "python3"
  },
  "language_info": {
   "codemirror_mode": {
    "name": "ipython",
    "version": 3
   },
   "file_extension": ".py",
   "mimetype": "text/x-python",
   "name": "python",
   "nbconvert_exporter": "python",
   "pygments_lexer": "ipython3",
   "version": "3.9.16"
  }
 },
 "nbformat": 4,
 "nbformat_minor": 5
}
