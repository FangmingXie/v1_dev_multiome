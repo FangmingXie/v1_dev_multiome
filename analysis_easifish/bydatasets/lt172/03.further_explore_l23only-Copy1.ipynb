{
 "cells": [
  {
   "cell_type": "markdown",
   "id": "b1b45a35-9b73-4a58-ab3f-308829d6e3e0",
   "metadata": {},
   "source": [
    "# analysis V1 - new basis code - Dec 4, 2023\n",
    "- cleaned up the data QC and organizations a bit\n",
    "- having two anndata and their spin offs - both FISH and proj data \n",
    "- flip an axis (y-axis) when plotting - not in data\n",
    "\n",
    "TODO: \n",
    "- separate and organize plotting functions \n",
    "- organize the plots and generate more insights\n",
    "- focus on L2/3 cells"
   ]
  },
  {
   "cell_type": "code",
   "execution_count": null,
   "id": "a3a95741-400b-452b-b98d-61cae1d845ae",
   "metadata": {
    "tags": []
   },
   "outputs": [],
   "source": [
    "import numpy as np\n",
    "import pandas as pd\n",
    "import os \n",
    "import matplotlib.pyplot as plt\n",
    "import umap\n",
    "import seaborn as sns\n",
    "from sklearn.decomposition import PCA\n",
    "from sklearn.cluster import KMeans\n",
    "import matplotlib\n",
    "\n",
    "import anndata \n",
    "\n",
    "from scroutines import config_plots\n",
    "from scroutines import basicu\n",
    "from scroutines import miscu"
   ]
  },
  {
   "cell_type": "code",
   "execution_count": null,
   "id": "69ad6802-1f9b-4ce9-bcc1-3abe64677acf",
   "metadata": {
    "tags": []
   },
   "outputs": [],
   "source": [
    "import sys\n",
    "sys.setrecursionlimit(10000)\n",
    "from scipy.cluster import hierarchy as sch"
   ]
  },
  {
   "cell_type": "code",
   "execution_count": null,
   "id": "b081206f-e414-4b79-ad48-12d11185070d",
   "metadata": {
    "tags": []
   },
   "outputs": [],
   "source": [
    "pth_dat = '/u/home/f/f7xiesnm/project-zipursky/easifish/lt172/proc/v1/'\n",
    "!ls $pth_dat"
   ]
  },
  {
   "cell_type": "code",
   "execution_count": null,
   "id": "335e4b29-aa4e-4886-bdd8-a940edc6741d",
   "metadata": {
    "tags": []
   },
   "outputs": [],
   "source": [
    "# features\n",
    "var_names = {\n",
    "    'r1_c0': 'Sorcs3',\n",
    "    'r1_c1': 'Kcnq5',\n",
    "    'r1_c2': 'Chrm2',\n",
    "    'r1_c4': 'Adamts2',\n",
    "    \n",
    "    'r2_c0': 'Kcnip3',\n",
    "    'r2_c1': 'Rorb',\n",
    "    'r2_c2': 'Cdh13',\n",
    "    'r2_c4': 'Cntn5',\n",
    "    \n",
    "    'r3_c0': 'Cdh12',\n",
    "    'r3_c1': 'Gria3',\n",
    "    'r3_c2': 'Cntnap2',\n",
    "    'r3_c4': 'Gabrg3',\n",
    "    \n",
    "    'r4_c0': 'Kcnh5',\n",
    "    'r4_c1': 'RL Cre',\n",
    "    'r4_c2': 'Slc17a7',\n",
    "    'r4_c4': 'Grm8',\n",
    "    \n",
    "    'r5_c0': 'Ncam2',\n",
    "    'r5_c1': 'Rfx3',\n",
    "    'r5_c2': 'Epha10',\n",
    "    'r5_c4': 'Baz1a',\n",
    "}\n",
    "proj_idx = np.array(['r4_c1'])\n",
    "\n",
    "# cells\n",
    "f_meta = os.path.join(pth_dat, 'roi.csv')\n",
    "\n",
    "# spots\n",
    "f_spot = os.path.join(pth_dat, 'spotcount.csv')"
   ]
  },
  {
   "cell_type": "code",
   "execution_count": null,
   "id": "6cc4ddb8-02a0-4724-9dd2-362b4c17268d",
   "metadata": {
    "tags": []
   },
   "outputs": [],
   "source": [
    "\n",
    "var = pd.Series(var_names).to_frame('name')\n",
    "var['proj'] = False\n",
    "var.loc[proj_idx, 'proj'] = True\n",
    "\n",
    "var_idx = var.index.values.astype(str)\n",
    "var_i2n = var['name'] \n",
    "var_n2i = var.reset_index().set_index('name')['index']\n",
    "\n",
    "gene_idx = np.array([idx for idx in var_idx if idx not in proj_idx])\n",
    "\n",
    "# ftrs_order  = gene_names.index.values \n",
    "# genes_order = gene_names.values\n",
    "var"
   ]
  },
  {
   "cell_type": "code",
   "execution_count": null,
   "id": "c740690d-978f-47de-9209-97d335a7696b",
   "metadata": {
    "tags": []
   },
   "outputs": [],
   "source": [
    "meta = pd.read_csv(f_meta, index_col=0)\n",
    "spot = pd.read_csv(f_spot, index_col=0)\n",
    "assert np.all(meta.index.values == spot.index.values)\n",
    "print(meta.shape, spot.shape) # \n",
    "\n",
    "max_x, max_y, max_z = meta[['x', 'y', 'z']].describe().loc['max']\n",
    "min_x, min_y, min_z = meta[['x', 'y', 'z']].describe().loc['min']\n",
    "\n",
    "meta['to_edge'] = np.minimum(\n",
    "    np.minimum(meta['x']-min_x, max_x-meta['x']), \n",
    "    np.minimum(meta['y']-min_y, max_y-meta['y']), \n",
    "    np.minimum(meta['z']-min_z, max_z-meta['z']),\n",
    ")\n",
    "meta['cov'] = spot.sum(axis=1)\n",
    "\n",
    "print(f'x: {min_x:.1f}\\t{max_x:.1f}')\n",
    "print(f'y: {min_y:.1f}\\t{max_y:.1f}')\n",
    "print(f'z: {min_z:.1f}\\t{max_z:.1f}')"
   ]
  },
  {
   "cell_type": "code",
   "execution_count": null,
   "id": "cd7e9e96-b3d3-479d-815f-93e5b93cc0b9",
   "metadata": {
    "tags": []
   },
   "outputs": [],
   "source": [
    "adata = anndata.AnnData(X=spot.values, obs=meta, var=var)\n",
    "adata"
   ]
  },
  {
   "cell_type": "code",
   "execution_count": null,
   "id": "63ae7dab-a117-4b63-bc48-55712075d1a9",
   "metadata": {
    "tags": []
   },
   "outputs": [],
   "source": [
    "# remove outliers adata -> adata2\n",
    "df = adata.obs\n",
    "conds = [\n",
    "    df['area'] > 500,\n",
    "    df['x'] > min_x + 20,\n",
    "    df['x'] < max_x - 20,\n",
    "    \n",
    "    df['y'] > min_y + 20,\n",
    "    df['y'] < max_y - 20,\n",
    "    \n",
    "    df['z'] > min_z + 20,\n",
    "    df['z'] < max_z - 20,\n",
    "]\n",
    "cond_all = np.ones(len(df)) > 0\n",
    "for cond in conds:\n",
    "    cond_all = np.logical_and(cond_all, cond)\n",
    "    print(cond_all.sum())\n",
    "print(f\"Num cells before and after: {len(df)} -> {cond_all.sum()}\")\n",
    "\n",
    "# remove outliers\n",
    "adata2 = adata[cond_all].copy()\n",
    "adata2\n"
   ]
  },
  {
   "cell_type": "code",
   "execution_count": null,
   "id": "7f89cdbe-e900-4735-a142-f8bf1724e35a",
   "metadata": {
    "tags": []
   },
   "outputs": [],
   "source": [
    "# separate the proj data adata2 -> adata3\n",
    "adata3 = adata2[:,gene_idx].copy()\n",
    "adata3.obs[proj_idx] = np.array(adata2[:,proj_idx].X)\n",
    "adata3.obs['cov_gene'] = np.array(adata3.X.sum(axis=1))\n",
    "adata2"
   ]
  },
  {
   "cell_type": "code",
   "execution_count": null,
   "id": "b71744ef-cde4-4ccf-9b2b-8d16fc9610d7",
   "metadata": {
    "tags": []
   },
   "outputs": [],
   "source": [
    "def norm_data(adata):\n",
    "    \"\"\"This procedure is independnet of each gene\n",
    "    norm by size (cell volume)\n",
    "    norm by log2(1+)\n",
    "    norm by zscore\n",
    "    \"\"\"\n",
    "    # size\n",
    "    med_size = adata.obs['area'].median()\n",
    "    max_size = adata.obs['area'].max()\n",
    "    min_size = adata.obs['area'].min()\n",
    "\n",
    "    print(f\"Med cell size {med_size:.1f} um^3\\t  {np.power(med_size,1/3):.1f} um\")\n",
    "    print(f\"Max cell size {max_size:.1f} um^3\\t  {np.power(max_size,1/3):.1f} um\")\n",
    "    print(f\"Min cell size {min_size:.1f} um^3\\t  {np.power(min_size,1/3):.1f} um\")\n",
    "\n",
    "    size_factor = (adata.obs['area']/med_size).values\n",
    "\n",
    "\n",
    "    # norm by size; by log2+1; by zscore\n",
    "    mat_raw = np.array(adata.X)\n",
    "    mat_nrm = mat_raw/size_factor.reshape(-1,1) # .divide(size_factor, axis=0)\n",
    "    mat_log = np.log2(1+mat_nrm)\n",
    "    mat_zsc = (mat_log - np.mean(mat_log, axis=0))/np.std(mat_log, axis=0)\n",
    "\n",
    "    adata.layers['nrm'] = mat_nrm\n",
    "    adata.layers['log'] = mat_log\n",
    "    adata.layers['zsc'] = mat_zsc\n",
    "    \n",
    "    return # mat_raw, mat_nrm, mat_log, mat_zsc"
   ]
  },
  {
   "cell_type": "code",
   "execution_count": null,
   "id": "45605d49-a40b-43e8-9b30-9637b45be62b",
   "metadata": {
    "tags": []
   },
   "outputs": [],
   "source": [
    "norm_data(adata2)\n",
    "norm_data(adata3)"
   ]
  },
  {
   "cell_type": "code",
   "execution_count": null,
   "id": "1a04fd1d-e6d1-4561-b31f-210c912b60a6",
   "metadata": {
    "tags": []
   },
   "outputs": [],
   "source": [
    "var_idx"
   ]
  },
  {
   "cell_type": "code",
   "execution_count": null,
   "id": "64bae622-dabc-4267-aa2d-045bb73b6cab",
   "metadata": {},
   "outputs": [],
   "source": [
    "# cols\n",
    "raw_var_idx = np.char.add(var_idx, '_raw')\n",
    "nrm_var_idx = np.char.add(var_idx, '_nrm')\n",
    "log_var_idx = np.char.add(var_idx, '_log')\n",
    "zsc_var_idx = np.char.add(var_idx, '_zsc')\n",
    "\n",
    "raw_gene_idx = np.char.add(gene_idx, '_raw')\n",
    "nrm_gene_idx = np.char.add(gene_idx, '_nrm')\n",
    "log_gene_idx = np.char.add(gene_idx, '_log')\n",
    "zsc_gene_idx = np.char.add(gene_idx, '_zsc')\n",
    "\n",
    "# binary analysis\n",
    "bins_8p = np.linspace(0,400,8+1).astype(int)\n",
    "bins_4p = np.linspace(0,400,4+1).astype(int)\n",
    "print(bins_8p, bins_4p)"
   ]
  },
  {
   "cell_type": "markdown",
   "id": "a3d15ee4-2daf-4ee4-878c-0710e888c6d0",
   "metadata": {
    "tags": []
   },
   "source": [
    "# to be used later"
   ]
  },
  {
   "cell_type": "code",
   "execution_count": null,
   "id": "4ea3b593-d9a1-4a88-93dc-6fee4c4dd007",
   "metadata": {
    "tags": []
   },
   "outputs": [],
   "source": [
    "mat_ftrs = pd.DataFrame(adata3.layers['zsc'], index=adata3.obs.index, columns=adata3.var.index)\n",
    "mat_prjs = adata3.obs[proj_idx] "
   ]
  },
  {
   "cell_type": "code",
   "execution_count": null,
   "id": "54a8fa63-b909-43f3-a942-39d53cabf825",
   "metadata": {
    "tags": []
   },
   "outputs": [],
   "source": [
    "df_p2 = adata2.obs.copy()\n",
    "df_p2[nrm_var_idx] = np.array(adata2.layers['nrm'])\n",
    "\n",
    "df_p2['xb_8p'] = pd.cut(df_p2['x'], bins=bins_8p)\n",
    "df_p2['yb_8p'] = pd.cut(df_p2['y'], bins=bins_8p)\n",
    "df_p2['zb_8p'] = pd.cut(df_p2['z'], bins=bins_8p)\n",
    "\n",
    "df_p2['xb_4p'] = pd.cut(df_p2['x'], bins=bins_4p)\n",
    "df_p2['yb_4p'] = pd.cut(df_p2['y'], bins=bins_4p)\n",
    "df_p2['zb_4p'] = pd.cut(df_p2['z'], bins=bins_4p)"
   ]
  },
  {
   "cell_type": "code",
   "execution_count": null,
   "id": "cd659693-2aaa-444f-a35a-1e999dcdefec",
   "metadata": {
    "tags": []
   },
   "outputs": [],
   "source": [
    "df_p3 = adata3.obs.copy()\n",
    "df_p3[nrm_gene_idx] = np.array(adata3.layers['nrm'])\n",
    "\n",
    "df_p3['xb_8p'] = pd.cut(df_p3['x'], bins=bins_8p)\n",
    "df_p3['yb_8p'] = pd.cut(df_p3['y'], bins=bins_8p)\n",
    "df_p3['zb_8p'] = pd.cut(df_p3['z'], bins=bins_8p)\n",
    "\n",
    "df_p3['xb_4p'] = pd.cut(df_p3['x'], bins=bins_4p)\n",
    "df_p3['yb_4p'] = pd.cut(df_p3['y'], bins=bins_4p)\n",
    "df_p3['zb_4p'] = pd.cut(df_p3['z'], bins=bins_4p)"
   ]
  },
  {
   "cell_type": "markdown",
   "id": "4e954df8-fbc3-4b74-8f0c-da3048f49606",
   "metadata": {},
   "source": [
    "# report "
   ]
  },
  {
   "cell_type": "code",
   "execution_count": null,
   "id": "8d08c0c2-49e9-4a80-957b-21515728f05a",
   "metadata": {
    "tags": []
   },
   "outputs": [],
   "source": [
    "for idx in var_idx:\n",
    "    val = adata[:,idx].X[:,0]\n",
    "    print(f'{idx}\\t{var_i2n.loc[idx]}\\t{np.min(val):.1f}\\t{np.max(val):.1f}\\t{100*np.sum(val>0)/len(val):.2f}%')"
   ]
  },
  {
   "cell_type": "code",
   "execution_count": null,
   "id": "856d6a50-e930-41c8-974e-841758cc6232",
   "metadata": {
    "tags": []
   },
   "outputs": [],
   "source": [
    "cols = ['x', 'y', 'z', 'area']\n",
    "with sns.plotting_context('paper'):\n",
    "    fig, axs = plt.subplots(4, 1, figsize=(1*6, 2*4))\n",
    "    for ax, col in zip(axs, cols):\n",
    "        sns.histplot(adata.obs[col], ax=ax)\n",
    "        ax.set_xlabel(col)\n",
    "    fig.subplots_adjust(hspace=0.5)\n",
    "    plt.show()\n"
   ]
  },
  {
   "cell_type": "code",
   "execution_count": null,
   "id": "690fe12e-3fe2-4034-a3f1-1098e7cad025",
   "metadata": {
    "tags": []
   },
   "outputs": [],
   "source": [
    "sns.scatterplot(data=adata.obs, x='area', y='cov', s=2, edgecolor='none')"
   ]
  },
  {
   "cell_type": "code",
   "execution_count": null,
   "id": "599d0a0d-da6b-4e7c-8c1e-136a0ee26b0e",
   "metadata": {
    "tags": []
   },
   "outputs": [],
   "source": [
    "with sns.plotting_context('paper'):\n",
    "    fig, axs = plt.subplots(2, 1, figsize=(10*1,4*2))\n",
    "    ax = axs[0]\n",
    "    sns.boxplot(data=adata.X, ax=ax)\n",
    "    ax.set_xticklabels(adata.var.index.values, rotation=90) \n",
    "    ax.set_ylabel('counts')\n",
    "    ax.set_xlabel('Genes')\n",
    "    sns.despine(ax=ax)\n",
    "\n",
    "    ax = axs[1]\n",
    "    sns.boxplot(data=adata.X, ax=ax)\n",
    "    ax.set_xticklabels(adata.var['name'].values, rotation=90)\n",
    "    sns.despine(ax=ax)\n",
    "    ax.set_ylim([0,50])\n",
    "    ax.set_ylabel('counts')\n",
    "    ax.set_xlabel('Genes')"
   ]
  },
  {
   "cell_type": "code",
   "execution_count": null,
   "id": "745b0894-74e9-4646-ba01-4598a22f07f6",
   "metadata": {
    "tags": []
   },
   "outputs": [],
   "source": [
    "sns.scatterplot(data=adata3.obs, x='area', y='cov', s=2, edgecolor='none')\n",
    "sns.scatterplot(data=adata3.obs, x='area', y='cov_gene', s=2, edgecolor='none')"
   ]
  },
  {
   "cell_type": "code",
   "execution_count": null,
   "id": "23c9ca5a-fcd6-4d05-82a4-7b3139ab340d",
   "metadata": {
    "tags": []
   },
   "outputs": [],
   "source": [
    "sns.scatterplot(data=adata3.obs, x='area', y=proj_idx[0], s=2, edgecolor='none')"
   ]
  },
  {
   "cell_type": "code",
   "execution_count": null,
   "id": "246a11e0-7196-415b-a7c1-a8cd0b60553a",
   "metadata": {
    "tags": []
   },
   "outputs": [],
   "source": [
    "# # PCAs\n",
    "# n_pc = len(genes_order)\n",
    "# idx_pcs = np.arange(1, n_pc+1)\n",
    "\n",
    "# pca = PCA(n_components=n_pc)\n",
    "# pcs = pca.fit_transform(mat_zscore) \n",
    "# plt.plot(idx_pcs, pca.explained_variance_ratio_, 'o')\n",
    "# plt.xticks(idx_pcs)\n",
    "# plt.ylim(ymin=0)\n",
    "# plt.axhline(1/n_pc, color='k')\n",
    "# plt.xlabel('PC')\n",
    "# plt.ylabel('Explained variance')\n",
    "\n",
    "# for i in idx_pcs:\n",
    "#     dfnew[f'PC{i}'] = pcs[:,i-1]"
   ]
  },
  {
   "cell_type": "code",
   "execution_count": null,
   "id": "0c94ca7f-8c34-4915-9e1a-019ba42f5107",
   "metadata": {
    "tags": []
   },
   "outputs": [],
   "source": [
    "# # UMAPs\n",
    "# Zspace = umap.UMAP(n_components=2).fit_transform(pcs)\n",
    "# dfnew['umap_x'] = Zspace[:,0]\n",
    "# dfnew['umap_y'] = Zspace[:,1]\n",
    "\n",
    "# # UMAPs more\n",
    "# nns = [30, 60, 120, 240, 480]\n",
    "# for nn in nns:\n",
    "#     Zspace = umap.UMAP(n_components=2, n_neighbors=nn).fit_transform(pcs)\n",
    "#     dfnew[f'umap_x_nn{nn}'] = Zspace[:,0]\n",
    "#     dfnew[f'umap_y_nn{nn}'] = Zspace[:,1]\n",
    "\n",
    "# # clsts\n",
    "# numclsts = [2, 5, 10]\n",
    "# for k in numclsts: \n",
    "#     model = KMeans(n_clusters=k)\n",
    "#     clsts = model.fit_predict(pcs)\n",
    "#     dfnew[f'clsts_k{k}'] = np.char.add(\"c\", clsts.astype(str))\n",
    "\n",
    "# # clsts\n",
    "# G = miscu.build_feature_graph_knnlite(pcs, k=15, metric='euclidean')\n",
    "# rs = [0.01, 0.02, 0.05, 0.1, 1]\n",
    "# for r in rs:\n",
    "#     clsts = miscu.leiden(G, dfnew.index.values, resolution=r) \n",
    "#     dfnew[f'clsts_r{r}'] = np.char.add(\"c\", np.array(clsts).astype(str))"
   ]
  },
  {
   "cell_type": "markdown",
   "id": "2aa94c74-0556-4d1a-acf4-8aafc7f334f2",
   "metadata": {
    "tags": []
   },
   "source": [
    "# check basics\n",
    "- y: pia-ventricular axis"
   ]
  },
  {
   "cell_type": "markdown",
   "id": "e6a8cdea-8dfa-4819-9015-878ad8afdf03",
   "metadata": {},
   "source": [
    "# z-sectioning visuals\n",
    "- bin into zbin\n",
    "- plot for each zbin"
   ]
  },
  {
   "cell_type": "code",
   "execution_count": null,
   "id": "d3461e3e-7938-41a7-a065-7cf127e9a6eb",
   "metadata": {
    "tags": []
   },
   "outputs": [],
   "source": [
    "def gen_palette(dfnew, col):\n",
    "    # set global colorbar\n",
    "    hue_order = np.unique(dfnew[col]) \n",
    "    ncat = len(hue_order)\n",
    "    if ncat > 5:\n",
    "        cmap = 'Paired'\n",
    "    else:\n",
    "        cmap = 'tab10'\n",
    "    palette = {clst: clr for clst, clr in zip(hue_order, sns.color_palette(cmap, ncat))}\n",
    "    return palette"
   ]
  },
  {
   "cell_type": "code",
   "execution_count": null,
   "id": "0a47c0df-3652-42ad-8d30-a6c2f836655b",
   "metadata": {
    "tags": []
   },
   "outputs": [],
   "source": [
    "def view_z_sections(dfnew, sp_x, sp_y, col=None, cmap='coolwarm', title=None, vmaxp=95, vminp=0, flip_y=False):\n",
    "    \"\"\"\n",
    "    \"\"\"\n",
    "    # assert len(dfnew['bins_zb'].unique())-1 == 8 # 8 intervals\n",
    "    \n",
    "    # set global colorbar\n",
    "    if col is not None:\n",
    "        vmax = np.percentile(dfnew[col].values, vmaxp)\n",
    "        vmin = -vmax*0.1\n",
    "        # vmin = np.percentile(dfnew[col].values, vminp)\n",
    "        \n",
    "    fig, axs = plt.subplots(2, 4, figsize=(4*4,2*4), sharex=True, sharey=True)\n",
    "    if flip_y: \n",
    "        axs.flat[0].invert_yaxis()\n",
    "    for i, (thisbin, dfsub) in enumerate(dfnew.groupby('zb_8p')):\n",
    "        ax = axs.flat[i]\n",
    "        ax.grid(False)\n",
    "\n",
    "        x = dfsub[sp_x].values\n",
    "        y = dfsub[sp_y].values\n",
    "        if col is not None:\n",
    "            c = dfsub[col].values\n",
    "            g = ax.scatter(x, y, c=c, s=10, cmap=cmap, vmax=vmax, vmin=vmin,\n",
    "                           edgecolor='none', \n",
    "                          )\n",
    "        else:\n",
    "            g = ax.scatter(x, y, s=10, c='gray', \n",
    "                           edgecolor='none', \n",
    "                          )\n",
    "            \n",
    "            \n",
    "        sns.despine(ax=ax)\n",
    "        ax.set_aspect('equal')\n",
    "        ax.set_title(f\" z: {thisbin}\", loc='left', y=0.95)#va='top')#va='top', y=0.96)\n",
    "\n",
    "        if i%4 == 0:\n",
    "            ax.set_ylabel(sp_y)\n",
    "        if i >= 4:\n",
    "            ax.set_xlabel(sp_x)\n",
    "\n",
    "    if col is not None:\n",
    "        cax = fig.add_axes([0.93, 0.3, 0.01, 0.3])\n",
    "        fig.colorbar(g, cax=cax, label='', shrink=0.3, aspect=10, ticks=[0,vmax], orientation='vertical')\n",
    "    fig.subplots_adjust(hspace=0.1, wspace=0.05)\n",
    "    if title is not None:\n",
    "        fig.suptitle(title, fontsize=20, y=0.92)\n",
    "    plt.show()"
   ]
  },
  {
   "cell_type": "code",
   "execution_count": null,
   "id": "ca9818fc-0433-4bdc-83d6-7655b9a1c28e",
   "metadata": {
    "tags": []
   },
   "outputs": [],
   "source": [
    "def view_z_sections_4panels(dfnew, sp_x, sp_y, col=None, cmap='coolwarm', title=None, vmaxp=95, vminp=0, flip_y=False):\n",
    "    \"\"\"\n",
    "    \"\"\"\n",
    "    # assert len(dfnew['bins_zb_4p'].unique())-1 == 4 # 4 intervals\n",
    "    \n",
    "    # set global colorbar\n",
    "    if col is not None:\n",
    "        vmax = np.percentile(dfnew[col].values, vmaxp)\n",
    "        vmin = -vmax*0.1\n",
    "        # vmin = np.percentile(dfnew[col].values, vminp)\n",
    "        \n",
    "    fig, axs = plt.subplots(1, 4, figsize=(4*4,1*4), sharex=True, sharey=True)\n",
    "    if flip_y: \n",
    "        axs.flat[0].invert_yaxis()\n",
    "    for i, (thisbin, dfsub) in enumerate(dfnew.groupby('zb_4p')):\n",
    "        ax = axs.flat[i]\n",
    "        ax.grid(False)\n",
    "\n",
    "        x = dfsub[sp_x].values\n",
    "        y = dfsub[sp_y].values\n",
    "        if col is not None:\n",
    "            c = dfsub[col].values\n",
    "            g = ax.scatter(x, y, c=c, s=8, cmap=cmap, vmax=vmax, vmin=vmin,\n",
    "                           edgecolor='none', \n",
    "                          )\n",
    "        else:\n",
    "            g = ax.scatter(x, y, s=8, c='gray', \n",
    "                           edgecolor='none', \n",
    "                          )\n",
    "            \n",
    "        sns.despine(ax=ax)\n",
    "        ax.set_aspect('equal')\n",
    "        ax.set_title(f\" z: {thisbin}\", loc='left', y=0.95)#va='top')#va='top', y=0.96)\n",
    "\n",
    "        if i == 0:\n",
    "            ax.set_ylabel(sp_y)\n",
    "        ax.set_xlabel(sp_x)\n",
    "\n",
    "    if col is not None:\n",
    "        cax = fig.add_axes([0.93, 0.3, 0.01, 0.3])\n",
    "        fig.colorbar(g, cax=cax, label='', shrink=0.3, aspect=10, ticks=[0,vmax], orientation='vertical')\n",
    "    fig.subplots_adjust(hspace=0.1, wspace=0.05)\n",
    "    if title is not None:\n",
    "        fig.suptitle(title, fontsize=20, y=0.92)\n",
    "    plt.show()"
   ]
  },
  {
   "cell_type": "code",
   "execution_count": null,
   "id": "d5a99817-e81b-4b7c-9463-0837cac0beb0",
   "metadata": {
    "tags": []
   },
   "outputs": [],
   "source": [
    "def view_z_sections_labels(dfnew, sp_x, sp_y, col, palette=None, title=None, flip_y=False):\n",
    "    \"\"\"\n",
    "    \"\"\"\n",
    "    # assert len(dfnew['bins_zb'].unique())-1 == 8 # 8 intervals\n",
    "    \n",
    "    # set global colorbar\n",
    "    hue_order = np.unique(dfnew[col]) \n",
    "    ncat = len(hue_order)\n",
    "    if ncat > 5:\n",
    "        cmap = 'Paired'\n",
    "    else:\n",
    "        cmap = 'tab10'\n",
    "    if palette is None:\n",
    "        palette = {clst: clr for clst, clr in zip(hue_order, sns.color_palette(cmap, ncat))}\n",
    "        \n",
    "    fig, axs = plt.subplots(2, 4, figsize=(4*4,2*4), sharex=True, sharey=True)\n",
    "    if flip_y: \n",
    "        axs.flat[0].invert_yaxis()\n",
    "    for i, (thisbin, dfsub) in enumerate(dfnew.groupby('zb_8p')):\n",
    "        ax = axs.flat[i]\n",
    "        ax.grid(False)\n",
    "        if i == 4-1:\n",
    "            legend = True\n",
    "        else:\n",
    "            legend = False\n",
    "        g = sns.scatterplot(data=dfsub, x=sp_x, y=sp_y, hue=col, \n",
    "                            hue_order=hue_order, palette=palette,\n",
    "                            s=10, \n",
    "                            edgecolor='none', \n",
    "                            ax=ax,\n",
    "                            legend=legend,\n",
    "                          )\n",
    "        sns.despine(ax=ax)\n",
    "        ax.set_aspect('equal')\n",
    "        ax.set_title(f\" z: {thisbin}\", loc='left', y=0.95)#va='top')#va='top', y=0.96)\n",
    "\n",
    "        if i%4 == 0:\n",
    "            ax.set_ylabel(sp_y)\n",
    "        if i >= 4:\n",
    "            ax.set_xlabel(sp_x)\n",
    "        if i == 4-1:\n",
    "            ax.legend(bbox_to_anchor=(1,1))\n",
    "\n",
    "    fig.subplots_adjust(hspace=0.1, wspace=0.05)\n",
    "    if title is not None:\n",
    "        fig.suptitle(title, fontsize=20, y=0.92)\n",
    "    plt.show()"
   ]
  },
  {
   "cell_type": "code",
   "execution_count": null,
   "id": "6d77359f-486a-438a-bad5-3cb67063825b",
   "metadata": {
    "tags": []
   },
   "outputs": [],
   "source": [
    "sp_x, sp_y = 'x', 'y'\n",
    "col = gene_idx[0] # ftrs_order[0]\n",
    "title = var_i2n[col]\n",
    "\n",
    "view_z_sections(df_p2, sp_x, sp_y, col=col+'_nrm', cmap='Greys', title=title, flip_y=True)\n",
    "view_z_sections_4panels(df_p2, sp_x, sp_y, col=col+'_nrm', cmap='Greys', title=title, flip_y=True)"
   ]
  },
  {
   "cell_type": "markdown",
   "id": "f7690ac2-4d28-413f-aa78-117142e5209a",
   "metadata": {},
   "source": [
    "# hierarchical clustering"
   ]
  },
  {
   "cell_type": "code",
   "execution_count": null,
   "id": "03079f7e-29a5-4b8a-a209-0b8299e928db",
   "metadata": {
    "tags": []
   },
   "outputs": [],
   "source": [
    "def gen_discrete_colors(N):\n",
    "    \"\"\"\n",
    "    \"\"\"\n",
    "    fig, ax = plt.subplots(figsize=(6, 1))\n",
    "    fig.subplots_adjust(bottom=0.5)\n",
    "    cmap = matplotlib.cm.jet\n",
    "    norm = matplotlib.colors.BoundaryNorm(1+np.arange(N), cmap.N, extend='max')\n",
    "    dismap = matplotlib.cm.ScalarMappable(norm=norm, cmap=cmap)\n",
    "    fig.colorbar(dismap,\n",
    "                 cax=ax, orientation='horizontal')\n",
    "    plt.show()\n",
    "    \n",
    "    palette = {i: dismap.to_rgba(i)[:3] for i in 1+np.arange(N)}\n",
    "    plt.figure(figsize=(5,1))\n",
    "    plt.scatter(1+np.arange(N), [0]*N, c=[palette[p] for p in palette.keys()])\n",
    "    plt.show()\n",
    "    return palette, dismap"
   ]
  },
  {
   "cell_type": "code",
   "execution_count": null,
   "id": "41594e61-da54-46a6-97ae-42e77f2d25ba",
   "metadata": {
    "tags": []
   },
   "outputs": [],
   "source": [
    "# sch\n",
    "col_link = sch.linkage(mat_ftrs.T, method='ward', metric='euclidean')\n",
    "col_order = sch.dendrogram(col_link, no_plot=True)['leaves']\n",
    "\n",
    "row_link = sch.linkage(mat_ftrs, method='ward', metric='euclidean')\n",
    "row_order = sch.dendrogram(row_link, p=30, truncate_mode='none', no_plot=True)['leaves']\n",
    "\n",
    "# get clusters\n",
    "clsts1 = sch.fcluster(row_link, 100, criterion='distance')\n",
    "clsts2 = sch.fcluster(row_link,  50, criterion='distance')\n",
    "clsts3 = sch.fcluster(row_link,  30, criterion='distance')\n",
    "\n",
    "print(clsts1.shape, np.unique(clsts1).shape)\n",
    "print(clsts2.shape, np.unique(clsts2).shape)\n",
    "print(clsts3.shape, np.unique(clsts3).shape)\n",
    "\n",
    "\n",
    "# register\n",
    "df_p3['clst_l1'] = clsts1\n",
    "df_p3['clst_l2'] = clsts2\n",
    "df_p3['clst_l3'] = clsts3\n",
    "\n",
    "df_p2['clst_l1'] = clsts1\n",
    "df_p2['clst_l2'] = clsts2\n",
    "df_p2['clst_l3'] = clsts3\n",
    "\n",
    "# colors\n",
    "palette1, dismap1 = gen_discrete_colors(len(np.unique(clsts1)))\n",
    "palette2, dismap2 = gen_discrete_colors(len(np.unique(clsts2)))\n",
    "palette3, dismap3 = gen_discrete_colors(len(np.unique(clsts3)))"
   ]
  },
  {
   "cell_type": "code",
   "execution_count": null,
   "id": "d64fe27a-4ddf-4d7d-944d-831ed26f3b14",
   "metadata": {
    "tags": []
   },
   "outputs": [],
   "source": [
    "fig = plt.figure(figsize=(10,15))\n",
    "axd = fig.subplot_mosaic(\"A\"*8+\"BCDEF\")\n",
    "ax = axd[\"A\"]\n",
    "sns.heatmap(\n",
    "    mat_ftrs.iloc[row_order,col_order],\n",
    "    yticklabels=False,\n",
    "    cmap='coolwarm',\n",
    "    cbar_kws=dict(shrink=0.5, location='bottom', label='zscore log2(1+normed counts)'),\n",
    "    vmax=3, vmin=-3,\n",
    "    ax=ax,\n",
    ")\n",
    "ax.set_ylabel('Cells')\n",
    "\n",
    "for i, (ax, col) in enumerate(zip(\n",
    "    (axd[\"B\"], axd[\"C\"], axd[\"D\"]),\n",
    "    ('clst_l1', 'clst_l2', 'clst_l3'),\n",
    "    )):\n",
    "    vec = df_p3[col].values\n",
    "    sns.heatmap(\n",
    "        df_p3[[col]].rename(columns={col: col.replace('clst_l', 'L')}).iloc[row_order],\n",
    "        yticklabels=False,\n",
    "        cmap='jet',\n",
    "        cbar_kws=dict(location='bottom', aspect=5, label=''),\n",
    "        ax=ax,\n",
    "    )\n",
    "    ax.set_ylabel('')\n",
    "    positions = np.cumsum(np.unique(vec, return_counts=True)[1])\n",
    "    ax.hlines(positions, xmin=-0.2, xmax=1, linewidth=1, linestyle='-', color='k', clip_on=False)\n",
    "    for i, pos in enumerate(positions):\n",
    "        ax.text(0, pos, i+1, color='white')\n",
    "\n",
    "ax = axd[\"E\"]\n",
    "sns.heatmap(\n",
    "    mat_prjs.iloc[row_order],\n",
    "    yticklabels=False,\n",
    "    cmap='Greys',\n",
    "    cbar_kws=dict(location='bottom', aspect=5, label='log2(1+normed counts)'),\n",
    "    ax=ax,\n",
    ")\n",
    "ax.set_ylabel('')\n",
    "\n",
    "ax = axd[\"F\"]\n",
    "sns.heatmap(\n",
    "    df_p3[['y']].iloc[row_order], \n",
    "    yticklabels=False,\n",
    "    cmap='Greys',\n",
    "    cbar_kws=dict(location='bottom', aspect=5, label='um'),\n",
    "    # vmin=0,\n",
    "    ax=ax,\n",
    ")\n",
    "ax.set_ylabel('')\n",
    "fig.tight_layout()"
   ]
  },
  {
   "cell_type": "code",
   "execution_count": null,
   "id": "fbaa225f-258f-4546-aa31-bc3669f76dce",
   "metadata": {
    "tags": []
   },
   "outputs": [],
   "source": [
    "sp_x, sp_y = 'x', 'y'\n",
    "fig, axs = plt.subplots(1,3,figsize=(4*3,5*1), sharey=True, sharex=True)\n",
    "axs.flat[0].invert_yaxis()\n",
    "# cbar_ax = fig.add_axes([0.92, 0.5, 0.01, 0.2])\n",
    "for i, (col, palette, dismap, ax) in enumerate(zip(['clst_l1', 'clst_l2', 'clst_l3'], \n",
    "                                                   [ palette1,  palette2,  palette3],\n",
    "                                                   [ dismap1,   dismap2,   dismap3],\n",
    "                                                   axs.flat)):\n",
    "    x = df_p3[sp_x].values\n",
    "    y = df_p3[sp_y].values\n",
    "    c = df_p3[col].values\n",
    "    \n",
    "    ax.grid(False)\n",
    "    g = ax.scatter(x, y, c=pd.Series(palette)[c], s=5, edgecolor='none',)\n",
    "    sns.despine(ax=ax)\n",
    "    ax.set_title(col)\n",
    "    ax.set_xlabel(sp_x)\n",
    "    ax.set_ylabel(sp_y)\n",
    "    ax.set_aspect('equal')\n",
    "    ax.axis('off')\n",
    "    fig.colorbar(dismap, ax=ax, orientation='horizontal', shrink=0.5, aspect=10)\n",
    "    \n",
    "fig.subplots_adjust(hspace=0.1, wspace=0.02)"
   ]
  },
  {
   "cell_type": "code",
   "execution_count": null,
   "id": "b45318ac-c4f4-4bf7-97e3-7324b76fc91f",
   "metadata": {
    "tags": []
   },
   "outputs": [],
   "source": [
    "sp_x, sp_y = 'x', 'y'\n",
    "col = 'clst_l1'\n",
    "palette = palette1\n",
    "dismap = dismap1\n",
    "n = len(df_p3[col].unique())\n",
    "nx = min(6,n)\n",
    "ny = int((n+nx-1)/nx)\n",
    "suptitle = 'L1'\n",
    "\n",
    "fig, axs = plt.subplots(ny,nx,figsize=(3*nx,3*ny), sharey=True, sharex=True)\n",
    "axs.flat[0].invert_yaxis()\n",
    "for i, ax in enumerate(axs.flat):\n",
    "    x = df_p3[sp_x].values\n",
    "    y = df_p3[sp_y].values\n",
    "    c = df_p3[col].values\n",
    "    \n",
    "    ax.grid(False)\n",
    "    g = ax.scatter(x, y, c=[palette[_c] if i+1==_c else 'lightgray' for _c in c], s=5, edgecolor='none',)\n",
    "    \n",
    "    sns.despine(ax=ax)\n",
    "    ax.set_title(f\"C{i+1}\")\n",
    "    ax.set_xlabel(sp_x)\n",
    "    ax.set_ylabel(sp_y)\n",
    "    ax.set_aspect('equal')\n",
    "    ax.axis('off')\n",
    "    \n",
    "fig.suptitle(suptitle)\n",
    "fig.subplots_adjust(hspace=0.1, wspace=0.02)"
   ]
  },
  {
   "cell_type": "code",
   "execution_count": null,
   "id": "a81a4bb0-efc3-4981-9003-efd4914ec1a7",
   "metadata": {
    "tags": []
   },
   "outputs": [],
   "source": [
    "sp_x, sp_y = 'x', 'y'\n",
    "col = 'clst_l2'\n",
    "palette = palette2\n",
    "dismap = dismap2\n",
    "n = len(df_p3[col].unique())\n",
    "nx = min(4,n)\n",
    "ny = int((n+nx-1)/nx)\n",
    "suptitle = 'L2'\n",
    "\n",
    "fig, axs = plt.subplots(ny,nx,figsize=(3*nx,3*ny), sharey=True, sharex=True)\n",
    "axs.flat[0].invert_yaxis()\n",
    "for i, ax in enumerate(axs.flat):\n",
    "    x = df_p3[sp_x].values\n",
    "    y = df_p3[sp_y].values\n",
    "    c = df_p3[col].values\n",
    "    \n",
    "    ax.grid(False)\n",
    "    g = ax.scatter(x, y, c=[palette[_c] if i+1==_c else 'lightgray' for _c in c], s=5, edgecolor='none',)\n",
    "    \n",
    "    sns.despine(ax=ax)\n",
    "    ax.set_title(f\"C{i+1}\")\n",
    "    ax.set_xlabel(sp_x)\n",
    "    ax.set_ylabel(sp_y)\n",
    "    ax.set_aspect('equal')\n",
    "    ax.axis('off')\n",
    "    \n",
    "fig.suptitle(suptitle)\n",
    "fig.subplots_adjust(hspace=0.1, wspace=0.02)"
   ]
  },
  {
   "cell_type": "code",
   "execution_count": null,
   "id": "db0f9730-c12b-49db-9067-6cc73085b37d",
   "metadata": {
    "tags": []
   },
   "outputs": [],
   "source": [
    "sp_x, sp_y = 'x', 'y'\n",
    "fig, axs = plt.subplots(5,4,figsize=(4*4,4*5), sharey=True, sharex=True)\n",
    "cbar_ax = fig.add_axes([0.92, 0.5, 0.01, 0.2])\n",
    "axs.flat[0].invert_yaxis()\n",
    "for i, (col, ax) in enumerate(zip(var_idx, axs.flat)):\n",
    "    x = df_p2[sp_x].values\n",
    "    y = df_p2[sp_y].values\n",
    "    c = df_p2[col+'_nrm'].values\n",
    "    vmax=np.percentile(c, 95)\n",
    "    \n",
    "    ax.axis('off')\n",
    "    ax.grid(False)\n",
    "    g = ax.scatter(x, y, c=c/vmax, s=5, edgecolor='none', cmap='Greys', vmax=1, vmin=-0.1) #vmax, vmin=-0.1*vmax)\n",
    "    sns.despine(ax=ax)\n",
    "    ax.set_title(var_i2n[col])\n",
    "    ax.set_xlabel(sp_x)\n",
    "    ax.set_ylabel(sp_y)\n",
    "    ax.set_aspect('equal')\n",
    "    \n",
    "fig.colorbar(g, cax=cbar_ax, label='Normed counts\\n(0-95 perctl.)', aspect=5, shrink=0.3, ticks=[0, 1])\n",
    "fig.subplots_adjust(hspace=0.1, wspace=0.02)"
   ]
  },
  {
   "cell_type": "code",
   "execution_count": null,
   "id": "2fc8b71d-738c-482b-8ac6-d1a6cde44507",
   "metadata": {},
   "outputs": [],
   "source": [
    "group = 'clst_l2'\n",
    "dfmean = df_p2.groupby(group)[np.char.add(var_idx, '_nrm')].mean()\n",
    "dfmean = basicu.zscore(dfmean, axis=0)\n",
    "\n",
    "fig, ax = plt.subplots(figsize=(6,4))\n",
    "sns.heatmap(dfmean.T, ax=ax, \n",
    "            yticklabels=var_i2n[var_idx], \n",
    "            cmap='coolwarm', cbar_kws=dict(label='zscore mean exp.', shrink=0.5, aspect=10))"
   ]
  },
  {
   "cell_type": "markdown",
   "id": "9d4230ac-2625-443b-b269-9aad7592dc79",
   "metadata": {},
   "source": [
    "# co-expression, clustering, cluster enrichment of expression"
   ]
  },
  {
   "cell_type": "code",
   "execution_count": null,
   "id": "596389a1-9cd9-4769-8391-583eaabcb69e",
   "metadata": {},
   "outputs": [],
   "source": [
    "sp_x, sp_y = 'x', 'y'\n",
    "col = 'clst_l1'\n",
    "view_z_sections_labels(df_p3, sp_x, sp_y, col, palette=palette1, title=None, flip_y=True)"
   ]
  },
  {
   "cell_type": "code",
   "execution_count": null,
   "id": "d814cdee-efa5-48ae-9ac2-3feebd9fe622",
   "metadata": {},
   "outputs": [],
   "source": []
  }
 ],
 "metadata": {
  "kernelspec": {
   "display_name": "Python 3 (ipykernel)",
   "language": "python",
   "name": "python3"
  },
  "language_info": {
   "codemirror_mode": {
    "name": "ipython",
    "version": 3
   },
   "file_extension": ".py",
   "mimetype": "text/x-python",
   "name": "python",
   "nbconvert_exporter": "python",
   "pygments_lexer": "ipython3",
   "version": "3.9.16"
  }
 },
 "nbformat": 4,
 "nbformat_minor": 5
}
