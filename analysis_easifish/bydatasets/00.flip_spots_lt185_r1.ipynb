{
 "cells": [
  {
   "cell_type": "code",
   "execution_count": null,
   "id": "f0b73b12-c6de-449b-824c-7b046505f997",
   "metadata": {
    "tags": []
   },
   "outputs": [],
   "source": [
    "import os, sys\n",
    "# sys.path.append('../../')\n",
    "sys.path.append('../')\n",
    "\n",
    "import pandas as pd\n",
    "import numpy as np\n",
    "import zarr\n",
    "from easi_fish import n5_metadata_utils as n5mu"
   ]
  },
  {
   "cell_type": "markdown",
   "id": "19e3f241-11de-4cc2-a496-4d1a721e2e78",
   "metadata": {},
   "source": [
    "# compare spots "
   ]
  },
  {
   "cell_type": "code",
   "execution_count": null,
   "id": "74a5c1bd-4bff-419a-97dc-e44cafc5dd3e",
   "metadata": {
    "tags": []
   },
   "outputs": [],
   "source": [
    "\n",
    "ddir  = '/u/home/f/f7xiesnm/project-zipursky/easifish/lt185/outputs/r1v3/'\n",
    "imdir = \"/u/home/f/f7xiesnm/project-zipursky/easifish/lt185/outputs/r1v3/stitching/export.n5\"\n",
    "\n",
    "for c in [0,1,2,4]:\n",
    "    f1 = ddir+f\"/spots/orig/spots_rsfish_c{c}.csv\"\n",
    "    fout = ddir+f\"/spots/spots_c{c}.txt\"\n",
    "    \n",
    "    input_voxels        = f1 \n",
    "    output_microns      = fout\n",
    "    n5_path             = imdir\n",
    "    extraction_subpath  = '/c0/s1'\n",
    "\n",
    "    vox    = n5mu.read_voxel_spacing(n5_path, extraction_subpath) # x, y, z\n",
    "    print(vox)\n",
    "    grid   = n5mu.read_voxel_grid(n5_path, extraction_subpath) # x, y, z\n",
    "    print(grid)\n",
    "\n",
    "    rsfish_spots = np.loadtxt(input_voxels, delimiter=',', skiprows=1)\n",
    "    # --- flip X and Y\n",
    "    rsfish_spots[:,0] = grid[0] - rsfish_spots[:,0]\n",
    "    rsfish_spots[:,1] = grid[1] - rsfish_spots[:,1]\n",
    "    # check\n",
    "    assert np.all(rsfish_spots[:,0] > 0)\n",
    "    assert np.all(rsfish_spots[:,1] > 0)\n",
    "    # --- end of flipping\n",
    "    \n",
    "    rsfish_spots[:, :3] = rsfish_spots[:, :3] * vox\n",
    "\n",
    "    # Remove unnecessary columns (t,c) at indexes 3 and 4 \n",
    "    rsfish_spots = np.delete(rsfish_spots, np.s_[3:5], axis=1)\n",
    "\n",
    "    print(f\"Saving {rsfish_spots.shape[0]} points in micron space to\", output_microns)\n",
    "    np.savetxt(output_microns, rsfish_spots, delimiter=',')\n",
    "    \n",
    "    # break\n",
    "    # break"
   ]
  },
  {
   "cell_type": "code",
   "execution_count": null,
   "id": "2765bf1b-9e7f-47e3-8b46-8ce75584cad1",
   "metadata": {
    "tags": []
   },
   "outputs": [],
   "source": [
    "rsfish_spots[:10]"
   ]
  },
  {
   "cell_type": "code",
   "execution_count": null,
   "id": "b28b2a7a-3632-414b-bbc2-50d805ff0f79",
   "metadata": {
    "tags": []
   },
   "outputs": [],
   "source": [
    "!head $output_microns"
   ]
  }
 ],
 "metadata": {
  "kernelspec": {
   "display_name": "Python 3 (ipykernel)",
   "language": "python",
   "name": "python3"
  },
  "language_info": {
   "codemirror_mode": {
    "name": "ipython",
    "version": 3
   },
   "file_extension": ".py",
   "mimetype": "text/x-python",
   "name": "python",
   "nbconvert_exporter": "python",
   "pygments_lexer": "ipython3",
   "version": "3.9.16"
  }
 },
 "nbformat": 4,
 "nbformat_minor": 5
}
