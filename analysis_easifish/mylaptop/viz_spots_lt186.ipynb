{
 "cells": [
  {
   "cell_type": "markdown",
   "metadata": {},
   "source": [
    "### Load packages"
   ]
  },
  {
   "cell_type": "code",
   "execution_count": 1,
   "metadata": {
    "scrolled": true,
    "tags": []
   },
   "outputs": [],
   "source": [
    "import os, sys\n",
    "import numpy as np\n",
    "import pandas as pd\n",
    "from glob import glob \n",
    "from skimage.io import imread, imsave\n",
    "import zarr\n",
    "import napari\n",
    "import nrrd"
   ]
  },
  {
   "cell_type": "markdown",
   "metadata": {},
   "source": [
    "### Start Napari viewer"
   ]
  },
  {
   "cell_type": "code",
   "execution_count": 23,
   "metadata": {
    "tags": []
   },
   "outputs": [],
   "source": [
    "%gui qt\n",
    "napari.gui_qt()\n",
    "viewer = napari.Viewer(ndisplay=3)"
   ]
  },
  {
   "cell_type": "markdown",
   "metadata": {},
   "source": [
    "### read nrrd file"
   ]
  },
  {
   "cell_type": "code",
   "execution_count": 10,
   "metadata": {
    "tags": []
   },
   "outputs": [],
   "source": [
    "inputdir = \"/Users/fangmingxie/data/easifish\" \n",
    "f_nrrd = inputdir + \"/test_v2.nrrd\"\n",
    "f_spot = inputdir + \"/test_spots_v1.csv\""
   ]
  },
  {
   "cell_type": "code",
   "execution_count": 28,
   "metadata": {
    "tags": []
   },
   "outputs": [],
   "source": [
    "zdim, ydim, xdim = (2593, 7309, 9049)"
   ]
  },
  {
   "cell_type": "code",
   "execution_count": 19,
   "metadata": {
    "tags": []
   },
   "outputs": [
    {
     "data": {
      "text/plain": [
       "(905, 731, 259)"
      ]
     },
     "execution_count": 19,
     "metadata": {},
     "output_type": "execute_result"
    }
   ],
   "source": [
    "img, _ = nrrd.read(f_nrrd)\n",
    "img.shape"
   ]
  },
  {
   "cell_type": "code",
   "execution_count": 21,
   "metadata": {
    "tags": []
   },
   "outputs": [
    {
     "data": {
      "text/html": [
       "<div>\n",
       "<style scoped>\n",
       "    .dataframe tbody tr th:only-of-type {\n",
       "        vertical-align: middle;\n",
       "    }\n",
       "\n",
       "    .dataframe tbody tr th {\n",
       "        vertical-align: top;\n",
       "    }\n",
       "\n",
       "    .dataframe thead th {\n",
       "        text-align: right;\n",
       "    }\n",
       "</style>\n",
       "<table border=\"1\" class=\"dataframe\">\n",
       "  <thead>\n",
       "    <tr style=\"text-align: right;\">\n",
       "      <th></th>\n",
       "      <th>x</th>\n",
       "      <th>y</th>\n",
       "      <th>z</th>\n",
       "      <th>t</th>\n",
       "      <th>c</th>\n",
       "      <th>intensity</th>\n",
       "    </tr>\n",
       "  </thead>\n",
       "  <tbody>\n",
       "    <tr>\n",
       "      <th>77703</th>\n",
       "      <td>4773.0815</td>\n",
       "      <td>3730.8568</td>\n",
       "      <td>1297.2459</td>\n",
       "      <td>1</td>\n",
       "      <td>1</td>\n",
       "      <td>511.6412</td>\n",
       "    </tr>\n",
       "    <tr>\n",
       "      <th>77707</th>\n",
       "      <td>4957.7892</td>\n",
       "      <td>3730.3064</td>\n",
       "      <td>1299.8214</td>\n",
       "      <td>1</td>\n",
       "      <td>1</td>\n",
       "      <td>203.3029</td>\n",
       "    </tr>\n",
       "    <tr>\n",
       "      <th>77972</th>\n",
       "      <td>4816.5554</td>\n",
       "      <td>3881.4504</td>\n",
       "      <td>1297.2161</td>\n",
       "      <td>1</td>\n",
       "      <td>1</td>\n",
       "      <td>207.4288</td>\n",
       "    </tr>\n",
       "    <tr>\n",
       "      <th>77973</th>\n",
       "      <td>4869.7301</td>\n",
       "      <td>3798.0161</td>\n",
       "      <td>1302.0227</td>\n",
       "      <td>1</td>\n",
       "      <td>1</td>\n",
       "      <td>215.2924</td>\n",
       "    </tr>\n",
       "    <tr>\n",
       "      <th>78295</th>\n",
       "      <td>4729.7592</td>\n",
       "      <td>4092.0098</td>\n",
       "      <td>1299.7143</td>\n",
       "      <td>1</td>\n",
       "      <td>1</td>\n",
       "      <td>291.3700</td>\n",
       "    </tr>\n",
       "    <tr>\n",
       "      <th>...</th>\n",
       "      <td>...</td>\n",
       "      <td>...</td>\n",
       "      <td>...</td>\n",
       "      <td>...</td>\n",
       "      <td>...</td>\n",
       "      <td>...</td>\n",
       "    </tr>\n",
       "    <tr>\n",
       "      <th>108153</th>\n",
       "      <td>4873.3221</td>\n",
       "      <td>4369.7847</td>\n",
       "      <td>1501.8987</td>\n",
       "      <td>1</td>\n",
       "      <td>1</td>\n",
       "      <td>301.5810</td>\n",
       "    </tr>\n",
       "    <tr>\n",
       "      <th>108154</th>\n",
       "      <td>4883.1848</td>\n",
       "      <td>4341.7077</td>\n",
       "      <td>1493.4742</td>\n",
       "      <td>1</td>\n",
       "      <td>1</td>\n",
       "      <td>249.4134</td>\n",
       "    </tr>\n",
       "    <tr>\n",
       "      <th>108155</th>\n",
       "      <td>4924.2652</td>\n",
       "      <td>4334.9769</td>\n",
       "      <td>1489.9655</td>\n",
       "      <td>1</td>\n",
       "      <td>1</td>\n",
       "      <td>636.7158</td>\n",
       "    </tr>\n",
       "    <tr>\n",
       "      <th>108156</th>\n",
       "      <td>4938.1169</td>\n",
       "      <td>4366.5626</td>\n",
       "      <td>1490.6789</td>\n",
       "      <td>1</td>\n",
       "      <td>1</td>\n",
       "      <td>206.4518</td>\n",
       "    </tr>\n",
       "    <tr>\n",
       "      <th>108157</th>\n",
       "      <td>5183.9857</td>\n",
       "      <td>4288.5075</td>\n",
       "      <td>1513.2109</td>\n",
       "      <td>1</td>\n",
       "      <td>1</td>\n",
       "      <td>201.1017</td>\n",
       "    </tr>\n",
       "  </tbody>\n",
       "</table>\n",
       "<p>707 rows × 6 columns</p>\n",
       "</div>"
      ],
      "text/plain": [
       "                x          y          z  t  c  intensity\n",
       "77703   4773.0815  3730.8568  1297.2459  1  1   511.6412\n",
       "77707   4957.7892  3730.3064  1299.8214  1  1   203.3029\n",
       "77972   4816.5554  3881.4504  1297.2161  1  1   207.4288\n",
       "77973   4869.7301  3798.0161  1302.0227  1  1   215.2924\n",
       "78295   4729.7592  4092.0098  1299.7143  1  1   291.3700\n",
       "...           ...        ...        ... .. ..        ...\n",
       "108153  4873.3221  4369.7847  1501.8987  1  1   301.5810\n",
       "108154  4883.1848  4341.7077  1493.4742  1  1   249.4134\n",
       "108155  4924.2652  4334.9769  1489.9655  1  1   636.7158\n",
       "108156  4938.1169  4366.5626  1490.6789  1  1   206.4518\n",
       "108157  5183.9857  4288.5075  1513.2109  1  1   201.1017\n",
       "\n",
       "[707 rows x 6 columns]"
      ]
     },
     "execution_count": 21,
     "metadata": {},
     "output_type": "execute_result"
    }
   ],
   "source": [
    "df = pd.read_csv(f_spot, index_col=0)\n",
    "df"
   ]
  },
  {
   "cell_type": "code",
   "execution_count": 26,
   "metadata": {
    "tags": []
   },
   "outputs": [
    {
     "data": {
      "text/plain": [
       "<Image layer 'img' at 0x2b6794640>"
      ]
     },
     "execution_count": 26,
     "metadata": {},
     "output_type": "execute_result"
    }
   ],
   "source": [
    "viewer.add_image(img.transpose([2,1,0]), colormap='gray', blending='additive', name='img')"
   ]
  },
  {
   "cell_type": "code",
   "execution_count": 35,
   "metadata": {
    "tags": []
   },
   "outputs": [
    {
     "data": {
      "text/plain": [
       "<Points layer 'spots' at 0x2ba44a370>"
      ]
     },
     "execution_count": 35,
     "metadata": {},
     "output_type": "execute_result"
    }
   ],
   "source": [
    "\n",
    "# x, y, z are cell centroid location (in pixel)\n",
    "z = df['z'].values\n",
    "y = df['y'].values\n",
    "x = df['x'].values\n",
    "\n",
    "zo = z - 0.5*zdim\n",
    "yo = y - 0.5*ydim\n",
    "xo = x - 0.5*xdim\n",
    "\n",
    "spots = np.array([zo, yo, xo]).T\n",
    "\n",
    "viewer.add_points(spots, size=5, edge_color='red', name='spots')"
   ]
  },
  {
   "cell_type": "code",
   "execution_count": null,
   "metadata": {},
   "outputs": [],
   "source": []
  }
 ],
 "metadata": {
  "kernelspec": {
   "display_name": "Python 3 (ipykernel)",
   "language": "python",
   "name": "python3"
  },
  "language_info": {
   "codemirror_mode": {
    "name": "ipython",
    "version": 3
   },
   "file_extension": ".py",
   "mimetype": "text/x-python",
   "name": "python",
   "nbconvert_exporter": "python",
   "pygments_lexer": "ipython3",
   "version": "3.9.16"
  }
 },
 "nbformat": 4,
 "nbformat_minor": 4
}
