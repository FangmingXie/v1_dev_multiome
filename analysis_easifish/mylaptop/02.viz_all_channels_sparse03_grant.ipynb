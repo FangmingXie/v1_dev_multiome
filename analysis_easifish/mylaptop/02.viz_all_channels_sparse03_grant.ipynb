{
 "cells": [
  {
   "cell_type": "code",
   "execution_count": 1,
   "metadata": {
    "scrolled": true,
    "tags": []
   },
   "outputs": [],
   "source": [
    "import os, sys\n",
    "import numpy as np\n",
    "import tifffile\n",
    "import pandas as pd\n",
    "from PIL import Image"
   ]
  },
  {
   "cell_type": "code",
   "execution_count": 2,
   "metadata": {
    "tags": []
   },
   "outputs": [],
   "source": [
    "%gui qt5\n",
    "import napari\n",
    "viewer = napari.Viewer(ndisplay=3)"
   ]
  },
  {
   "cell_type": "markdown",
   "metadata": {
    "tags": []
   },
   "source": [
    "# cell1"
   ]
  },
  {
   "cell_type": "code",
   "execution_count": 3,
   "metadata": {
    "tags": []
   },
   "outputs": [],
   "source": [
    "# all channels\n",
    "# cell3\n",
    "# gcamp, dapi, Cdh13, Sorcs3, Chrm2\n",
    "cellid = 1\n",
    "\n",
    "channels = [  1,   3,   2,   0,   4][::-1]\n",
    "lwlimits = [ 95, 130,  90, 120,  90][::-1]\n",
    "uplimits = [110, 200, 170, 180, 150][::-1]\n",
    "colors   = ['yellow', 'gray', 'red', 'green', 'blue'][::-1]\n",
    "\n",
    "fish_channels = channels[:3] #[2,0,4][::-1]\n",
    "fish_colors = colors[:3]\n",
    "\n",
    "for cl, ch, ll, ul in zip(colors, channels, lwlimits, uplimits):\n",
    "    f = f'/Users/fangmingxie/data/easifish/viz_grant/cell{cellid}_c{ch}_s1.tiff'\n",
    "    im = tifffile.imread(f)\n",
    "    viewer.add_image(np.array(im), \n",
    "                     name=f'c{ch}', blending=\"additive\", colormap=cl, contrast_limits=[ll,ul])\n",
    "    "
   ]
  },
  {
   "cell_type": "code",
   "execution_count": 4,
   "metadata": {
    "tags": []
   },
   "outputs": [],
   "source": [
    "for ch, clr in zip(fish_channels, fish_colors):\n",
    "    f = f'/Users/fangmingxie/data/easifish/viz_grant/cell{cellid}_c{ch}_spots.csv'\n",
    "    spot = pd.read_csv(f, header=0)\n",
    "    viewer.add_points(spot.iloc[:,[2,1,0]].values, \n",
    "                      size=2, symbol='ring',\n",
    "                      face_color=clr,edge_color='white',\n",
    "                      name=f'c{ch}_spots',\n",
    "                      n_dimensional=True) #load spots into napari"
   ]
  },
  {
   "cell_type": "code",
   "execution_count": null,
   "metadata": {},
   "outputs": [],
   "source": []
  },
  {
   "cell_type": "markdown",
   "metadata": {
    "tags": []
   },
   "source": [
    "# cell2"
   ]
  },
  {
   "cell_type": "code",
   "execution_count": 5,
   "metadata": {
    "tags": []
   },
   "outputs": [],
   "source": [
    "# all channels\n",
    "# cell3\n",
    "# gcamp, dapi, Cdh13, Sorcs3, Chrm2\n",
    "cellid = 2\n",
    "\n",
    "channels = [  1,   3,   2,   0,   4][::-1]\n",
    "lwlimits = [ 95, 130,  90, 120,  90][::-1]\n",
    "uplimits = [110, 200, 170, 180, 150][::-1]\n",
    "colors   = ['yellow', 'gray', 'red', 'green', 'blue'][::-1]\n",
    "\n",
    "fish_channels = channels[:3] #[2,0,4][::-1]\n",
    "fish_colors = colors[:3]\n",
    "\n",
    "for cl, ch, ll, ul in zip(colors, channels, lwlimits, uplimits):\n",
    "    f = f'/Users/fangmingxie/data/easifish/viz_grant/cell{cellid}_c{ch}_s1.tiff'\n",
    "    im = tifffile.imread(f)\n",
    "    viewer.add_image(np.array(im), \n",
    "                     name=f'c{ch}', blending=\"additive\", colormap=cl, contrast_limits=[ll,ul])\n",
    "    "
   ]
  },
  {
   "cell_type": "code",
   "execution_count": 28,
   "metadata": {
    "tags": []
   },
   "outputs": [],
   "source": [
    "for ch, clr in zip(fish_channels, fish_colors):\n",
    "    f = f'/Users/fangmingxie/data/easifish/viz_grant/cell{cellid}_c{ch}_spots.csv'\n",
    "    spot = pd.read_csv(f, header=0)\n",
    "    viewer.add_points(spot.iloc[:,[2,1,0]].values, \n",
    "                      size=2, symbol='ring',\n",
    "                      face_color=clr,edge_color='white',\n",
    "                      name=f'c{ch}_spots',\n",
    "                      n_dimensional=True) #load spots into napari"
   ]
  },
  {
   "cell_type": "code",
   "execution_count": 3,
   "metadata": {
    "tags": []
   },
   "outputs": [],
   "source": [
    "# # cell2\n",
    "# # gcamp, dapi, Cdh13, Sorcs3, Chrm2\n",
    "# channels = [  1,   3,   2,   0,   4][::-1]\n",
    "# lwlimits = [ 95, 130,  90, 120,  90][::-1]\n",
    "# uplimits = [110, 200, 170, 180, 150][::-1]\n",
    "# colors   = ['yellow', 'gray', 'red', 'green', 'blue'][::-1]"
   ]
  },
  {
   "cell_type": "markdown",
   "metadata": {},
   "source": [
    "# cell 3"
   ]
  },
  {
   "cell_type": "code",
   "execution_count": 6,
   "metadata": {
    "tags": []
   },
   "outputs": [],
   "source": [
    "# all channels\n",
    "# cell3\n",
    "# gcamp, dapi, Cdh13, Sorcs3, Chrm2\n",
    "channels = [  1,   3,   2,   0,   4][::-1]\n",
    "lwlimits = [ 95, 130,  90, 120,  90][::-1]\n",
    "uplimits = [110, 200, 170, 180, 150][::-1]\n",
    "colors   = ['yellow', 'gray', 'red', 'green', 'blue'][::-1]\n",
    "\n",
    "fish_channels = channels[:3] #[2,0,4][::-1]\n",
    "fish_colors = colors[:3]\n",
    "\n",
    "for cl, ch, ll, ul in zip(colors, channels, lwlimits, uplimits):\n",
    "    f = f'/Users/fangmingxie/data/easifish/viz_grant/cell3_c{ch}_s1.tiff'\n",
    "    im = tifffile.imread(f)\n",
    "    viewer.add_image(np.array(im), \n",
    "                     name=f'c{ch}', blending=\"additive\", colormap=cl, contrast_limits=[ll,ul])\n",
    "    "
   ]
  },
  {
   "cell_type": "code",
   "execution_count": 7,
   "metadata": {
    "tags": []
   },
   "outputs": [],
   "source": [
    "for ch, clr in zip(fish_channels, fish_colors):\n",
    "    f = f'/Users/fangmingxie/data/easifish/viz_grant/cell3_c{ch}_spots.csv'\n",
    "    spot = pd.read_csv(f, header=0)\n",
    "    viewer.add_points(spot.iloc[:,[2,1,0]].values, \n",
    "                      size=2, symbol='ring',\n",
    "                      face_color=clr,edge_color='white',\n",
    "                      name=f'c{ch}_spots',\n",
    "                      n_dimensional=True) #load spots into napari"
   ]
  },
  {
   "cell_type": "code",
   "execution_count": null,
   "metadata": {},
   "outputs": [],
   "source": []
  },
  {
   "cell_type": "markdown",
   "metadata": {},
   "source": [
    "# cell4 "
   ]
  },
  {
   "cell_type": "code",
   "execution_count": 8,
   "metadata": {
    "tags": []
   },
   "outputs": [],
   "source": [
    "# all channels\n",
    "# cell3\n",
    "# gcamp, dapi, Cdh13, Sorcs3, Chrm2\n",
    "channels = [  1,   3,   2,   0,   4][::-1]\n",
    "lwlimits = [ 95, 130,  90, 120,  90][::-1]\n",
    "uplimits = [110, 200, 170, 180, 150][::-1]\n",
    "colors   = ['yellow', 'gray', 'red', 'green', 'blue'][::-1]\n",
    "\n",
    "fish_channels = channels[:3] #[2,0,4][::-1]\n",
    "fish_colors = colors[:3]\n",
    "\n",
    "for cl, ch, ll, ul in zip(colors, channels, lwlimits, uplimits):\n",
    "    f = f'/Users/fangmingxie/data/easifish/viz_grant/cell4_c{ch}_s1.tiff'\n",
    "    im = tifffile.imread(f)\n",
    "    viewer.add_image(np.array(im), \n",
    "                     name=f'c{ch}', blending=\"additive\", colormap=cl, contrast_limits=[ll,ul])\n",
    "    "
   ]
  },
  {
   "cell_type": "code",
   "execution_count": 9,
   "metadata": {
    "tags": []
   },
   "outputs": [],
   "source": [
    "for ch, clr in zip(fish_channels, fish_colors):\n",
    "    f = f'/Users/fangmingxie/data/easifish/viz_grant/cell4_c{ch}_spots.csv'\n",
    "    spot = pd.read_csv(f, header=0)\n",
    "    viewer.add_points(spot.iloc[:,[2,1,0]].values, \n",
    "                      size=2, symbol='ring',\n",
    "                      face_color=clr,edge_color='white',\n",
    "                      name=f'c{ch}_spots',\n",
    "                      n_dimensional=True) #load spots into napari"
   ]
  },
  {
   "cell_type": "code",
   "execution_count": null,
   "metadata": {},
   "outputs": [],
   "source": []
  },
  {
   "cell_type": "markdown",
   "metadata": {
    "tags": []
   },
   "source": [
    "# cell5"
   ]
  },
  {
   "cell_type": "code",
   "execution_count": 10,
   "metadata": {
    "tags": []
   },
   "outputs": [],
   "source": [
    "# all channels\n",
    "# cell3\n",
    "# gcamp, dapi, Cdh13, Sorcs3, Chrm2\n",
    "cellid = 5\n",
    "\n",
    "channels = [  1,   3,   2,   0,   4][::-1]\n",
    "lwlimits = [ 95, 130,  90, 120,  90][::-1]\n",
    "uplimits = [110, 200, 170, 180, 150][::-1]\n",
    "colors   = ['yellow', 'gray', 'red', 'green', 'blue'][::-1]\n",
    "\n",
    "fish_channels = channels[:3] #[2,0,4][::-1]\n",
    "fish_colors = colors[:3]\n",
    "\n",
    "for cl, ch, ll, ul in zip(colors, channels, lwlimits, uplimits):\n",
    "    f = f'/Users/fangmingxie/data/easifish/viz_grant/cell{cellid}_c{ch}_s1.tiff'\n",
    "    im = tifffile.imread(f)\n",
    "    viewer.add_image(np.array(im), \n",
    "                     name=f'c{ch}', blending=\"additive\", colormap=cl, contrast_limits=[ll,ul])\n",
    "    "
   ]
  },
  {
   "cell_type": "code",
   "execution_count": 10,
   "metadata": {
    "tags": []
   },
   "outputs": [],
   "source": [
    "for ch, clr in zip(fish_channels, fish_colors):\n",
    "    f = f'/Users/fangmingxie/data/easifish/viz_grant/cell{cellid}_c{ch}_spots.csv'\n",
    "    spot = pd.read_csv(f, header=0)\n",
    "    viewer.add_points(spot.iloc[:,[2,1,0]].values, \n",
    "                      size=2, symbol='ring',\n",
    "                      face_color=clr,edge_color='white',\n",
    "                      name=f'c{ch}_spots',\n",
    "                      n_dimensional=True) #load spots into napari"
   ]
  },
  {
   "cell_type": "code",
   "execution_count": null,
   "metadata": {},
   "outputs": [],
   "source": []
  },
  {
   "cell_type": "markdown",
   "metadata": {
    "tags": []
   },
   "source": [
    "# cell6"
   ]
  },
  {
   "cell_type": "code",
   "execution_count": 11,
   "metadata": {
    "tags": []
   },
   "outputs": [],
   "source": [
    "# all channels\n",
    "# cell3\n",
    "# gcamp, dapi, Cdh13, Sorcs3, Chrm2\n",
    "cellid = 6\n",
    "\n",
    "channels = [  1,   3,   2,   0,   4][::-1]\n",
    "lwlimits = [ 95, 130,  90, 120,  90][::-1]\n",
    "uplimits = [110, 200, 170, 180, 150][::-1]\n",
    "colors   = ['yellow', 'gray', 'red', 'green', 'blue'][::-1]\n",
    "\n",
    "fish_channels = channels[:3] #[2,0,4][::-1]\n",
    "fish_colors = colors[:3]\n",
    "\n",
    "for cl, ch, ll, ul in zip(colors, channels, lwlimits, uplimits):\n",
    "    f = f'/Users/fangmingxie/data/easifish/viz_grant/cell{cellid}_c{ch}_s1.tiff'\n",
    "    im = tifffile.imread(f)\n",
    "    viewer.add_image(np.array(im), \n",
    "                     name=f'c{ch}', blending=\"additive\", colormap=cl, contrast_limits=[ll,ul])\n",
    "    "
   ]
  },
  {
   "cell_type": "code",
   "execution_count": 15,
   "metadata": {
    "tags": []
   },
   "outputs": [],
   "source": [
    "for ch, clr in zip(fish_channels, fish_colors):\n",
    "    f = f'/Users/fangmingxie/data/easifish/viz_grant/cell{cellid}_c{ch}_spots.csv'\n",
    "    spot = pd.read_csv(f, header=0)\n",
    "    viewer.add_points(spot.iloc[:,[2,1,0]].values, \n",
    "                      size=2, symbol='ring',\n",
    "                      face_color=clr,edge_color='white',\n",
    "                      name=f'c{ch}_spots',\n",
    "                      n_dimensional=True) #load spots into napari"
   ]
  },
  {
   "cell_type": "code",
   "execution_count": null,
   "metadata": {},
   "outputs": [],
   "source": []
  },
  {
   "cell_type": "markdown",
   "metadata": {
    "tags": []
   },
   "source": [
    "# cell7"
   ]
  },
  {
   "cell_type": "code",
   "execution_count": 12,
   "metadata": {
    "tags": []
   },
   "outputs": [],
   "source": [
    "# all channels\n",
    "# cell3\n",
    "# gcamp, dapi, Cdh13, Sorcs3, Chrm2\n",
    "cellid = 7\n",
    "\n",
    "channels = [  1,   3,   2,   0,   4][::-1]\n",
    "lwlimits = [ 95, 130,  90, 120,  90][::-1]\n",
    "uplimits = [110, 200, 170, 180, 150][::-1]\n",
    "colors   = ['yellow', 'gray', 'red', 'green', 'blue'][::-1]\n",
    "\n",
    "fish_channels = channels[:3] #[2,0,4][::-1]\n",
    "fish_colors = colors[:3]\n",
    "\n",
    "for cl, ch, ll, ul in zip(colors, channels, lwlimits, uplimits):\n",
    "    f = f'/Users/fangmingxie/data/easifish/viz_grant/cell{cellid}_c{ch}_s1.tiff'\n",
    "    im = tifffile.imread(f)\n",
    "    viewer.add_image(np.array(im), \n",
    "                     name=f'c{ch}', blending=\"additive\", colormap=cl, contrast_limits=[ll,ul])\n",
    "    "
   ]
  },
  {
   "cell_type": "code",
   "execution_count": 17,
   "metadata": {
    "tags": []
   },
   "outputs": [],
   "source": [
    "for ch, clr in zip(fish_channels, fish_colors):\n",
    "    f = f'/Users/fangmingxie/data/easifish/viz_grant/cell{cellid}_c{ch}_spots.csv'\n",
    "    spot = pd.read_csv(f, header=0)\n",
    "    viewer.add_points(spot.iloc[:,[2,1,0]].values, \n",
    "                      size=2, symbol='ring',\n",
    "                      face_color=clr,edge_color='white',\n",
    "                      name=f'c{ch}_spots',\n",
    "                      n_dimensional=True) #load spots into napari"
   ]
  },
  {
   "cell_type": "code",
   "execution_count": null,
   "metadata": {},
   "outputs": [],
   "source": []
  },
  {
   "cell_type": "markdown",
   "metadata": {
    "tags": []
   },
   "source": [
    "# cell8"
   ]
  },
  {
   "cell_type": "code",
   "execution_count": 13,
   "metadata": {
    "tags": []
   },
   "outputs": [],
   "source": [
    "# all channels\n",
    "# cell3\n",
    "# gcamp, dapi, Cdh13, Sorcs3, Chrm2\n",
    "cellid = 8\n",
    "\n",
    "channels = [  1,   3,   2,   0,   4][::-1]\n",
    "lwlimits = [ 95, 130,  90, 120,  90][::-1]\n",
    "uplimits = [110, 200, 170, 180, 150][::-1]\n",
    "colors   = ['yellow', 'gray', 'red', 'green', 'blue'][::-1]\n",
    "\n",
    "fish_channels = channels[:3] #[2,0,4][::-1]\n",
    "fish_colors = colors[:3]\n",
    "\n",
    "for cl, ch, ll, ul in zip(colors, channels, lwlimits, uplimits):\n",
    "    f = f'/Users/fangmingxie/data/easifish/viz_grant/cell{cellid}_c{ch}_s1.tiff'\n",
    "    im = tifffile.imread(f)\n",
    "    viewer.add_image(np.array(im), \n",
    "                     name=f'c{ch}', blending=\"additive\", colormap=cl, contrast_limits=[ll,ul])\n",
    "    "
   ]
  },
  {
   "cell_type": "code",
   "execution_count": 14,
   "metadata": {
    "tags": []
   },
   "outputs": [],
   "source": [
    "for ch, clr in zip(fish_channels, fish_colors):\n",
    "    f = f'/Users/fangmingxie/data/easifish/viz_grant/cell{cellid}_c{ch}_spots.csv'\n",
    "    spot = pd.read_csv(f, header=0)\n",
    "    viewer.add_points(spot.iloc[:,[2,1,0]].values, \n",
    "                      size=2, symbol='ring',\n",
    "                      face_color=clr,edge_color='white',\n",
    "                      name=f'c{ch}_spots',\n",
    "                      n_dimensional=True) #load spots into napari"
   ]
  },
  {
   "cell_type": "code",
   "execution_count": null,
   "metadata": {},
   "outputs": [],
   "source": []
  },
  {
   "cell_type": "markdown",
   "metadata": {
    "tags": []
   },
   "source": [
    "# cell9"
   ]
  },
  {
   "cell_type": "code",
   "execution_count": 16,
   "metadata": {
    "tags": []
   },
   "outputs": [],
   "source": [
    "# all channels\n",
    "# cell3\n",
    "# gcamp, dapi, Cdh13, Sorcs3, Chrm2\n",
    "cellid = 9\n",
    "\n",
    "channels = [  1,   3,   2,   0,   4][::-1]\n",
    "lwlimits = [ 95, 130,  90, 120,  90][::-1]\n",
    "uplimits = [110, 250, 170, 180, 150][::-1]\n",
    "colors   = ['yellow', 'gray', 'red', 'green', 'blue'][::-1]\n",
    "\n",
    "fish_channels = channels[:3] #[2,0,4][::-1]\n",
    "fish_colors = colors[:3]\n",
    "\n",
    "for cl, ch, ll, ul in zip(colors, channels, lwlimits, uplimits):\n",
    "    f = f'/Users/fangmingxie/data/easifish/viz_grant/cell{cellid}_c{ch}_s1.tiff'\n",
    "    im = tifffile.imread(f)\n",
    "    viewer.add_image(np.array(im), \n",
    "                     name=f'c{ch}', blending=\"additive\", colormap=cl, contrast_limits=[ll,ul])\n",
    "    "
   ]
  },
  {
   "cell_type": "code",
   "execution_count": 23,
   "metadata": {
    "tags": []
   },
   "outputs": [],
   "source": [
    "for ch, clr in zip(fish_channels, fish_colors):\n",
    "    f = f'/Users/fangmingxie/data/easifish/viz_grant/cell{cellid}_c{ch}_spots.csv'\n",
    "    spot = pd.read_csv(f, header=0)\n",
    "    viewer.add_points(spot.iloc[:,[2,1,0]].values, \n",
    "                      size=2, symbol='ring',\n",
    "                      face_color=clr,edge_color='white',\n",
    "                      name=f'c{ch}_spots',\n",
    "                      n_dimensional=True) #load spots into napari"
   ]
  },
  {
   "cell_type": "code",
   "execution_count": null,
   "metadata": {},
   "outputs": [],
   "source": []
  },
  {
   "cell_type": "code",
   "execution_count": null,
   "metadata": {},
   "outputs": [],
   "source": []
  }
 ],
 "metadata": {
  "kernelspec": {
   "display_name": "Python 3 (ipykernel)",
   "language": "python",
   "name": "python3"
  },
  "language_info": {
   "codemirror_mode": {
    "name": "ipython",
    "version": 3
   },
   "file_extension": ".py",
   "mimetype": "text/x-python",
   "name": "python",
   "nbconvert_exporter": "python",
   "pygments_lexer": "ipython3",
   "version": "3.9.16"
  }
 },
 "nbformat": 4,
 "nbformat_minor": 4
}
