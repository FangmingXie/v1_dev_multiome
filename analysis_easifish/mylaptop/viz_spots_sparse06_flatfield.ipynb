{
 "cells": [
  {
   "cell_type": "markdown",
   "metadata": {},
   "source": [
    "### Load packages"
   ]
  },
  {
   "cell_type": "code",
   "execution_count": 1,
   "metadata": {
    "scrolled": true,
    "tags": []
   },
   "outputs": [],
   "source": [
    "import os, sys\n",
    "import numpy as np\n",
    "import pandas as pd\n",
    "from glob import glob \n",
    "from skimage.io import imread, imsave\n",
    "import zarr\n",
    "import napari\n",
    "import seaborn as sns\n",
    "import matplotlib.pyplot as plt\n",
    "# import nrrd\n",
    "import tifffile"
   ]
  },
  {
   "cell_type": "markdown",
   "metadata": {},
   "source": [
    "### Start Napari viewer"
   ]
  },
  {
   "cell_type": "code",
   "execution_count": 2,
   "metadata": {
    "tags": []
   },
   "outputs": [],
   "source": [
    "%gui qt\n",
    "napari.gui_qt()\n",
    "viewer = napari.Viewer(ndisplay=3)"
   ]
  },
  {
   "cell_type": "code",
   "execution_count": 3,
   "metadata": {
    "tags": []
   },
   "outputs": [],
   "source": [
    "inputdir = \"/Users/fangmingxie/data/viz_sparse06_v3/\"\n",
    "\n",
    "f_tiff = \"/Users/fangmingxie/data/viz_sparse06_v3/c00_s1.tiff\"\n",
    "f_spot = \"/Users/fangmingxie/data/viz_sparse06_v3/spots_c00.txt\"\n",
    "\n",
    "f_tiff2 = \"/Users/fangmingxie/data/viz_sparse06_v3/c0_bs_s1.tiff\"\n",
    "f_spot2 = \"/Users/fangmingxie/data/viz_sparse06_v3/spots_c0_bs.txt\""
   ]
  },
  {
   "cell_type": "code",
   "execution_count": 4,
   "metadata": {},
   "outputs": [
    {
     "data": {
      "text/plain": [
       "array([0.46, 0.46, 0.42])"
      ]
     },
     "execution_count": 4,
     "metadata": {},
     "output_type": "execute_result"
    }
   ],
   "source": [
    "scaling = np.array([0.23, 0.23, 0.42])*np.array([2, 2, 1])\n",
    "scaling"
   ]
  },
  {
   "cell_type": "code",
   "execution_count": 5,
   "metadata": {
    "tags": []
   },
   "outputs": [
    {
     "data": {
      "text/plain": [
       "(2837, 960, 960)"
      ]
     },
     "execution_count": 5,
     "metadata": {},
     "output_type": "execute_result"
    }
   ],
   "source": [
    "img = tifffile.imread(f_tiff)\n",
    "zdim, ydim, xdim = img.shape\n",
    "zdim, ydim, xdim"
   ]
  },
  {
   "cell_type": "code",
   "execution_count": 6,
   "metadata": {},
   "outputs": [
    {
     "data": {
      "text/plain": [
       "(2837, 960, 960)"
      ]
     },
     "execution_count": 6,
     "metadata": {},
     "output_type": "execute_result"
    }
   ],
   "source": [
    "img2 = tifffile.imread(f_tiff2)\n",
    "img2.shape"
   ]
  },
  {
   "cell_type": "code",
   "execution_count": 7,
   "metadata": {
    "tags": []
   },
   "outputs": [
    {
     "data": {
      "text/html": [
       "<div>\n",
       "<style scoped>\n",
       "    .dataframe tbody tr th:only-of-type {\n",
       "        vertical-align: middle;\n",
       "    }\n",
       "\n",
       "    .dataframe tbody tr th {\n",
       "        vertical-align: top;\n",
       "    }\n",
       "\n",
       "    .dataframe thead th {\n",
       "        text-align: right;\n",
       "    }\n",
       "</style>\n",
       "<table border=\"1\" class=\"dataframe\">\n",
       "  <thead>\n",
       "    <tr style=\"text-align: right;\">\n",
       "      <th></th>\n",
       "      <th>0</th>\n",
       "      <th>1</th>\n",
       "      <th>2</th>\n",
       "      <th>3</th>\n",
       "    </tr>\n",
       "  </thead>\n",
       "  <tbody>\n",
       "    <tr>\n",
       "      <th>0</th>\n",
       "      <td>160.997979</td>\n",
       "      <td>31.006853</td>\n",
       "      <td>35.405453</td>\n",
       "      <td>200.2292</td>\n",
       "    </tr>\n",
       "    <tr>\n",
       "      <th>1</th>\n",
       "      <td>166.972643</td>\n",
       "      <td>34.831017</td>\n",
       "      <td>21.852137</td>\n",
       "      <td>199.2449</td>\n",
       "    </tr>\n",
       "    <tr>\n",
       "      <th>2</th>\n",
       "      <td>167.146247</td>\n",
       "      <td>7.873360</td>\n",
       "      <td>24.368903</td>\n",
       "      <td>196.3972</td>\n",
       "    </tr>\n",
       "    <tr>\n",
       "      <th>3</th>\n",
       "      <td>167.378179</td>\n",
       "      <td>37.664111</td>\n",
       "      <td>20.985761</td>\n",
       "      <td>105.2340</td>\n",
       "    </tr>\n",
       "    <tr>\n",
       "      <th>4</th>\n",
       "      <td>167.701145</td>\n",
       "      <td>37.665951</td>\n",
       "      <td>20.536487</td>\n",
       "      <td>105.2475</td>\n",
       "    </tr>\n",
       "    <tr>\n",
       "      <th>...</th>\n",
       "      <td>...</td>\n",
       "      <td>...</td>\n",
       "      <td>...</td>\n",
       "      <td>...</td>\n",
       "    </tr>\n",
       "    <tr>\n",
       "      <th>95807</th>\n",
       "      <td>375.080511</td>\n",
       "      <td>14.017166</td>\n",
       "      <td>1119.745291</td>\n",
       "      <td>0.8087</td>\n",
       "    </tr>\n",
       "    <tr>\n",
       "      <th>95808</th>\n",
       "      <td>375.055947</td>\n",
       "      <td>21.888272</td>\n",
       "      <td>1120.320691</td>\n",
       "      <td>146.9989</td>\n",
       "    </tr>\n",
       "    <tr>\n",
       "      <th>95809</th>\n",
       "      <td>375.097255</td>\n",
       "      <td>19.039906</td>\n",
       "      <td>1121.245279</td>\n",
       "      <td>0.9392</td>\n",
       "    </tr>\n",
       "    <tr>\n",
       "      <th>95810</th>\n",
       "      <td>359.070809</td>\n",
       "      <td>393.514091</td>\n",
       "      <td>1137.340938</td>\n",
       "      <td>179.6553</td>\n",
       "    </tr>\n",
       "    <tr>\n",
       "      <th>95811</th>\n",
       "      <td>410.149623</td>\n",
       "      <td>303.434314</td>\n",
       "      <td>1180.640081</td>\n",
       "      <td>1.8897</td>\n",
       "    </tr>\n",
       "  </tbody>\n",
       "</table>\n",
       "<p>95812 rows × 4 columns</p>\n",
       "</div>"
      ],
      "text/plain": [
       "                0           1            2         3\n",
       "0      160.997979   31.006853    35.405453  200.2292\n",
       "1      166.972643   34.831017    21.852137  199.2449\n",
       "2      167.146247    7.873360    24.368903  196.3972\n",
       "3      167.378179   37.664111    20.985761  105.2340\n",
       "4      167.701145   37.665951    20.536487  105.2475\n",
       "...           ...         ...          ...       ...\n",
       "95807  375.080511   14.017166  1119.745291    0.8087\n",
       "95808  375.055947   21.888272  1120.320691  146.9989\n",
       "95809  375.097255   19.039906  1121.245279    0.9392\n",
       "95810  359.070809  393.514091  1137.340938  179.6553\n",
       "95811  410.149623  303.434314  1180.640081    1.8897\n",
       "\n",
       "[95812 rows x 4 columns]"
      ]
     },
     "execution_count": 7,
     "metadata": {},
     "output_type": "execute_result"
    }
   ],
   "source": [
    "df = pd.read_csv(f_spot, header=None)\n",
    "df"
   ]
  },
  {
   "cell_type": "code",
   "execution_count": 8,
   "metadata": {},
   "outputs": [
    {
     "data": {
      "text/html": [
       "<div>\n",
       "<style scoped>\n",
       "    .dataframe tbody tr th:only-of-type {\n",
       "        vertical-align: middle;\n",
       "    }\n",
       "\n",
       "    .dataframe tbody tr th {\n",
       "        vertical-align: top;\n",
       "    }\n",
       "\n",
       "    .dataframe thead th {\n",
       "        text-align: right;\n",
       "    }\n",
       "</style>\n",
       "<table border=\"1\" class=\"dataframe\">\n",
       "  <thead>\n",
       "    <tr style=\"text-align: right;\">\n",
       "      <th></th>\n",
       "      <th>0</th>\n",
       "      <th>1</th>\n",
       "      <th>2</th>\n",
       "      <th>3</th>\n",
       "    </tr>\n",
       "  </thead>\n",
       "  <tbody>\n",
       "    <tr>\n",
       "      <th>0</th>\n",
       "      <td>165.774573</td>\n",
       "      <td>9.340116</td>\n",
       "      <td>21.212939</td>\n",
       "      <td>75.1534</td>\n",
       "    </tr>\n",
       "    <tr>\n",
       "      <th>1</th>\n",
       "      <td>164.468495</td>\n",
       "      <td>24.571176</td>\n",
       "      <td>23.423861</td>\n",
       "      <td>222.5296</td>\n",
       "    </tr>\n",
       "    <tr>\n",
       "      <th>2</th>\n",
       "      <td>164.369687</td>\n",
       "      <td>25.626784</td>\n",
       "      <td>23.511683</td>\n",
       "      <td>257.7801</td>\n",
       "    </tr>\n",
       "    <tr>\n",
       "      <th>3</th>\n",
       "      <td>155.717041</td>\n",
       "      <td>29.197581</td>\n",
       "      <td>25.081349</td>\n",
       "      <td>203.8557</td>\n",
       "    </tr>\n",
       "    <tr>\n",
       "      <th>4</th>\n",
       "      <td>154.930211</td>\n",
       "      <td>30.958691</td>\n",
       "      <td>24.543581</td>\n",
       "      <td>163.5119</td>\n",
       "    </tr>\n",
       "    <tr>\n",
       "      <th>...</th>\n",
       "      <td>...</td>\n",
       "      <td>...</td>\n",
       "      <td>...</td>\n",
       "      <td>...</td>\n",
       "    </tr>\n",
       "    <tr>\n",
       "      <th>95840</th>\n",
       "      <td>375.072461</td>\n",
       "      <td>14.001342</td>\n",
       "      <td>1119.764863</td>\n",
       "      <td>2.0640</td>\n",
       "    </tr>\n",
       "    <tr>\n",
       "      <th>95841</th>\n",
       "      <td>375.100107</td>\n",
       "      <td>22.195138</td>\n",
       "      <td>1120.680337</td>\n",
       "      <td>11.2361</td>\n",
       "    </tr>\n",
       "    <tr>\n",
       "      <th>95842</th>\n",
       "      <td>375.115195</td>\n",
       "      <td>18.693618</td>\n",
       "      <td>1122.058567</td>\n",
       "      <td>1.7706</td>\n",
       "    </tr>\n",
       "    <tr>\n",
       "      <th>95843</th>\n",
       "      <td>359.066577</td>\n",
       "      <td>393.055747</td>\n",
       "      <td>1137.275628</td>\n",
       "      <td>134.9577</td>\n",
       "    </tr>\n",
       "    <tr>\n",
       "      <th>95844</th>\n",
       "      <td>410.475533</td>\n",
       "      <td>303.505568</td>\n",
       "      <td>1180.111595</td>\n",
       "      <td>0.9248</td>\n",
       "    </tr>\n",
       "  </tbody>\n",
       "</table>\n",
       "<p>95845 rows × 4 columns</p>\n",
       "</div>"
      ],
      "text/plain": [
       "                0           1            2         3\n",
       "0      165.774573    9.340116    21.212939   75.1534\n",
       "1      164.468495   24.571176    23.423861  222.5296\n",
       "2      164.369687   25.626784    23.511683  257.7801\n",
       "3      155.717041   29.197581    25.081349  203.8557\n",
       "4      154.930211   30.958691    24.543581  163.5119\n",
       "...           ...         ...          ...       ...\n",
       "95840  375.072461   14.001342  1119.764863    2.0640\n",
       "95841  375.100107   22.195138  1120.680337   11.2361\n",
       "95842  375.115195   18.693618  1122.058567    1.7706\n",
       "95843  359.066577  393.055747  1137.275628  134.9577\n",
       "95844  410.475533  303.505568  1180.111595    0.9248\n",
       "\n",
       "[95845 rows x 4 columns]"
      ]
     },
     "execution_count": 8,
     "metadata": {},
     "output_type": "execute_result"
    }
   ],
   "source": [
    "df2 = pd.read_csv(f_spot2, header=None)\n",
    "df2"
   ]
  },
  {
   "cell_type": "code",
   "execution_count": 9,
   "metadata": {},
   "outputs": [
    {
     "name": "stdout",
     "output_type": "stream",
     "text": [
      "90.17099999999999\n"
     ]
    },
    {
     "data": {
      "image/png": "[encoded data removed]",
      "text/plain": [
       "<Figure size 640x480 with 1 Axes>"
      ]
     },
     "metadata": {},
     "output_type": "display_data"
    }
   ],
   "source": [
    "bins = np.linspace(0, np.percentile(df[3].values, 95), 100)\n",
    "print(np.median(df[3]))\n",
    "\n",
    "fig, ax = plt.subplots()\n",
    "sns.histplot(df[3].values, bins=bins, ax=ax, label='1')\n",
    "sns.histplot(df2[3].values, bins=bins, ax=ax, label='2') # \n",
    "ax.legend()\n",
    "\n",
    "plt.show()"
   ]
  },
  {
   "cell_type": "code",
   "execution_count": 10,
   "metadata": {},
   "outputs": [
    {
     "data": {
      "text/plain": [
       "(0, 300)"
      ]
     },
     "execution_count": 10,
     "metadata": {},
     "output_type": "execute_result"
    }
   ],
   "source": [
    "vmin = 0 # np.percentile(img, 5)\n",
    "vmax = 300 # np.percentile(img, 99)\n",
    "vmin, vmax"
   ]
  },
  {
   "cell_type": "code",
   "execution_count": 11,
   "metadata": {
    "tags": []
   },
   "outputs": [
    {
     "name": "stderr",
     "output_type": "stream",
     "text": [
      "/Users/fangmingxie/miniforge3/envs/routine/lib/python3.10/site-packages/napari/_vispy/layers/image.py:274: UserWarning: data shape (2837, 960, 960) exceeds GL_MAX_TEXTURE_SIZE 2048 in at least one axis and will be downsampled. Rendering is currently in 3D mode.\n",
      "  warnings.warn(\n",
      "/Users/fangmingxie/miniforge3/envs/routine/lib/python3.10/site-packages/napari/_vispy/layers/image.py:274: UserWarning: data shape (2837, 960, 960) exceeds GL_MAX_TEXTURE_SIZE 2048 in at least one axis and will be downsampled. Rendering is currently in 3D mode.\n",
      "  warnings.warn(\n"
     ]
    },
    {
     "data": {
      "text/plain": [
       "<Image layer 'img' at 0x17f612ce0>"
      ]
     },
     "execution_count": 11,
     "metadata": {},
     "output_type": "execute_result"
    }
   ],
   "source": [
    "viewer.add_image(img, colormap='red', blending='additive', name='img', contrast_limits=[0, vmax])"
   ]
  },
  {
   "cell_type": "code",
   "execution_count": 12,
   "metadata": {},
   "outputs": [
    {
     "name": "stderr",
     "output_type": "stream",
     "text": [
      "/Users/fangmingxie/miniforge3/envs/routine/lib/python3.10/site-packages/napari/_vispy/layers/image.py:274: UserWarning: data shape (2837, 960, 960) exceeds GL_MAX_TEXTURE_SIZE 2048 in at least one axis and will be downsampled. Rendering is currently in 3D mode.\n",
      "  warnings.warn(\n"
     ]
    },
    {
     "data": {
      "text/plain": [
       "<Image layer 'img [1]' at 0x17f9b71c0>"
      ]
     },
     "execution_count": 12,
     "metadata": {},
     "output_type": "execute_result"
    }
   ],
   "source": [
    "viewer.add_image(img2, colormap='green', blending='additive', name='img', contrast_limits=[0, vmax])"
   ]
  },
  {
   "cell_type": "code",
   "execution_count": 20,
   "metadata": {
    "tags": []
   },
   "outputs": [
    {
     "data": {
      "text/plain": [
       "<Points layer 'spots [2]' at 0x4fe6dd4b0>"
      ]
     },
     "execution_count": 20,
     "metadata": {},
     "output_type": "execute_result"
    }
   ],
   "source": [
    "spots = (df[[0,1,2]]/scaling).iloc[:,[2,1,0]].values\n",
    "viewer.add_points(spots, size=5, face_color='red', edge_color='white', name='spots', out_of_slice_display=True)"
   ]
  },
  {
   "cell_type": "code",
   "execution_count": null,
   "metadata": {},
   "outputs": [],
   "source": [
    "spots2 = (df2[[0,1,2]]/scaling).iloc[:,[2,1,0]].values\n",
    "viewer.add_points(spots2, size=5, face_color='green', edge_color='white', name='spots', symbol='+', out_of_slice_display=True)"
   ]
  },
  {
   "cell_type": "code",
   "execution_count": null,
   "metadata": {},
   "outputs": [],
   "source": []
  }
 ],
 "metadata": {
  "kernelspec": {
   "display_name": "Python 3 (ipykernel)",
   "language": "python",
   "name": "python3"
  },
  "language_info": {
   "codemirror_mode": {
    "name": "ipython",
    "version": 3
   },
   "file_extension": ".py",
   "mimetype": "text/x-python",
   "name": "python",
   "nbconvert_exporter": "python",
   "pygments_lexer": "ipython3",
   "version": "3.10.0"
  }
 },
 "nbformat": 4,
 "nbformat_minor": 4
}
