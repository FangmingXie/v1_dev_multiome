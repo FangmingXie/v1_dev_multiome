{
 "cells": [
  {
   "cell_type": "markdown",
   "metadata": {},
   "source": [
    "### Load packages"
   ]
  },
  {
   "cell_type": "code",
   "execution_count": 1,
   "metadata": {
    "scrolled": true,
    "tags": []
   },
   "outputs": [],
   "source": [
    "import os, sys\n",
    "import numpy as np\n",
    "import pandas as pd\n",
    "from glob import glob \n",
    "from skimage.io import imread, imsave\n",
    "import zarr\n",
    "import napari"
   ]
  },
  {
   "cell_type": "markdown",
   "metadata": {},
   "source": [
    "### Start Napari viewer"
   ]
  },
  {
   "cell_type": "code",
   "execution_count": 2,
   "metadata": {
    "tags": []
   },
   "outputs": [],
   "source": [
    "%gui qt\n",
    "napari.gui_qt()\n",
    "viewer = napari.Viewer(ndisplay=3)"
   ]
  },
  {
   "cell_type": "markdown",
   "metadata": {},
   "source": [
    "### Specify directory to data files"
   ]
  },
  {
   "cell_type": "code",
   "execution_count": 3,
   "metadata": {
    "tags": []
   },
   "outputs": [
    {
     "name": "stdout",
     "output_type": "stream",
     "text": [
      "(648, 913, 1131)\n",
      "(324, 457, 566)\n"
     ]
    },
    {
     "data": {
      "text/plain": [
       "<Image layer 'img1' at 0x11d36d3d0>"
      ]
     },
     "execution_count": 3,
     "metadata": {},
     "output_type": "execute_result"
    }
   ],
   "source": [
    "imdir = \"/Users/fangmingxie/data/easifish/lt186_r1_c3_s3\"\n",
    "im = zarr.open(store=zarr.N5Store(imdir), mode='r')\n",
    "_img = im['c3/s3']\n",
    "print(_img.shape)\n",
    "img1 = _img[::2,::2,::2]\n",
    "print(img1.shape)\n",
    "viewer.add_image(img1,colormap='gray',blending='additive')"
   ]
  },
  {
   "cell_type": "code",
   "execution_count": 4,
   "metadata": {
    "tags": []
   },
   "outputs": [
    {
     "name": "stdout",
     "output_type": "stream",
     "text": [
      "(564, 918, 1130)\n",
      "(282, 459, 565)\n"
     ]
    },
    {
     "data": {
      "text/plain": [
       "<Image layer 'img1 [1]' at 0x15e338e80>"
      ]
     },
     "execution_count": 4,
     "metadata": {},
     "output_type": "execute_result"
    }
   ],
   "source": [
    "imdir = \"/Users/fangmingxie/data/easifish/lt186_r2_c3_s3\"\n",
    "im = zarr.open(store=zarr.N5Store(imdir), mode='r')\n",
    "_img = im['c3/s3']\n",
    "print(_img.shape)\n",
    "img1 = _img[::2,::2,::2]\n",
    "print(img1.shape)\n",
    "viewer.add_image(img1,colormap='blue',blending='additive')"
   ]
  },
  {
   "cell_type": "code",
   "execution_count": 5,
   "metadata": {
    "tags": []
   },
   "outputs": [
    {
     "name": "stdout",
     "output_type": "stream",
     "text": [
      "(648, 913, 1131)\n",
      "(324, 457, 566)\n"
     ]
    },
    {
     "data": {
      "text/plain": [
       "<Image layer 'img1 [2]' at 0x15ec39160>"
      ]
     },
     "execution_count": 5,
     "metadata": {},
     "output_type": "execute_result"
    }
   ],
   "source": [
    "imdir = \"/Users/fangmingxie/data/easifish/lt186_r2_to_r1\"\n",
    "im = zarr.open(store=zarr.N5Store(imdir), mode='r')\n",
    "_img = im['c3/s3']\n",
    "print(_img.shape)\n",
    "img1 = _img[::2,::2,::2]\n",
    "print(img1.shape)\n",
    "viewer.add_image(img1,colormap='red',blending='additive')"
   ]
  },
  {
   "cell_type": "code",
   "execution_count": null,
   "metadata": {},
   "outputs": [],
   "source": []
  }
 ],
 "metadata": {
  "kernelspec": {
   "display_name": "Python 3 (ipykernel)",
   "language": "python",
   "name": "python3"
  },
  "language_info": {
   "codemirror_mode": {
    "name": "ipython",
    "version": 3
   },
   "file_extension": ".py",
   "mimetype": "text/x-python",
   "name": "python",
   "nbconvert_exporter": "python",
   "pygments_lexer": "ipython3",
   "version": "3.9.16"
  }
 },
 "nbformat": 4,
 "nbformat_minor": 4
}
