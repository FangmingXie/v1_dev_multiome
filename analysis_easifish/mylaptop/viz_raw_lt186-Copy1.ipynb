{
 "cells": [
  {
   "cell_type": "markdown",
   "metadata": {},
   "source": [
    "### Load packages"
   ]
  },
  {
   "cell_type": "code",
   "execution_count": 1,
   "metadata": {
    "scrolled": true,
    "tags": []
   },
   "outputs": [],
   "source": [
    "import os, sys\n",
    "import numpy as np\n",
    "import pandas as pd\n",
    "from glob import glob \n",
    "from skimage.io import imread, imsave\n",
    "import zarr\n",
    "import napari"
   ]
  },
  {
   "cell_type": "markdown",
   "metadata": {},
   "source": [
    "### Start Napari viewer"
   ]
  },
  {
   "cell_type": "code",
   "execution_count": 2,
   "metadata": {
    "tags": []
   },
   "outputs": [],
   "source": [
    "%gui qt\n",
    "napari.gui_qt()\n",
    "viewer = napari.Viewer(ndisplay=3)"
   ]
  },
  {
   "cell_type": "markdown",
   "metadata": {},
   "source": [
    "### Specify directory to data files"
   ]
  },
  {
   "cell_type": "code",
   "execution_count": 3,
   "metadata": {
    "tags": []
   },
   "outputs": [],
   "source": [
    "# roi_dir='test-oct6_epsilon1\\\\roi.csv'\n",
    "# lb_dir   =\"/Users/fangmingxie/data/easifish/lt185/r1/segmentation/r1-c3.tif\"\n",
    "# spot_dir =\"/Users/fangmingxie/data/easifish/lt185_r1_redo/spots/spots_c0.txt\"\n",
    "# imdir    =\"/Users/fangmingxie/data/easifish/lt186/r1/stitching/export.n5\"\n",
    "\n",
    "imdir = \"/Users/fangmingxie/data/easifish/lt186_r2_cx_s4\""
   ]
  },
  {
   "cell_type": "code",
   "execution_count": 4,
   "metadata": {
    "scrolled": true,
    "tags": []
   },
   "outputs": [
    {
     "data": {
      "text/plain": [
       "(250, 459, 565)"
      ]
     },
     "execution_count": 4,
     "metadata": {},
     "output_type": "execute_result"
    }
   ],
   "source": [
    "# get n5 image data for channel 1\n",
    "im = zarr.open(store=zarr.N5Store(imdir), mode='r')\n",
    "zdim, ydim, xdim = im['c3/s4'].shape\n",
    "zdim, ydim, xdim"
   ]
  },
  {
   "cell_type": "code",
   "execution_count": 5,
   "metadata": {
    "tags": []
   },
   "outputs": [],
   "source": [
    "# cnames = [\n",
    "#     \"c0 - RL (Cre)\",\n",
    "#     \"c1 - NA\",\n",
    "#     \"c2 - LM (FlpO)\",\n",
    "#     \"c3 - cytoDAPI\",\n",
    "#     \"c4 - NA\",\n",
    "# ]\n",
    "cnames = [\n",
    "    \"c0 - Sorcs3\",\n",
    "    \"c1 - Kcnq5\",\n",
    "    \"c2 - Chrm2\",\n",
    "    \"c3 - cytoDAPI\",\n",
    "    \"c4 - Adamts2\",\n",
    "]\n",
    "\n",
    "ccolors = [\n",
    "    'blue',\n",
    "    'yellow',\n",
    "    'red',\n",
    "    'gray',\n",
    "    'green',\n",
    "]"
   ]
  },
  {
   "cell_type": "code",
   "execution_count": 6,
   "metadata": {
    "tags": []
   },
   "outputs": [
    {
     "name": "stdout",
     "output_type": "stream",
     "text": [
      "0 (250, 459, 565)\n",
      "1 (250, 459, 565)\n",
      "2 (250, 459, 565)\n",
      "3 (250, 459, 565)\n",
      "4 (250, 459, 565)\n"
     ]
    }
   ],
   "source": [
    "channels = [0,1,2,3,4]\n",
    "\n",
    "for ch in channels:\n",
    "    img1 = im[f'c{ch}/s4'][...]\n",
    "    print(ch, img1.shape)\n",
    "    viewer.add_image(img1, colormap=ccolors[ch], blending='additive', name=cnames[ch])"
   ]
  },
  {
   "cell_type": "code",
   "execution_count": null,
   "metadata": {},
   "outputs": [],
   "source": []
  },
  {
   "cell_type": "code",
   "execution_count": null,
   "metadata": {},
   "outputs": [],
   "source": []
  },
  {
   "cell_type": "code",
   "execution_count": null,
   "metadata": {},
   "outputs": [],
   "source": []
  }
 ],
 "metadata": {
  "kernelspec": {
   "display_name": "Python 3 (ipykernel)",
   "language": "python",
   "name": "python3"
  },
  "language_info": {
   "codemirror_mode": {
    "name": "ipython",
    "version": 3
   },
   "file_extension": ".py",
   "mimetype": "text/x-python",
   "name": "python",
   "nbconvert_exporter": "python",
   "pygments_lexer": "ipython3",
   "version": "3.9.16"
  }
 },
 "nbformat": 4,
 "nbformat_minor": 4
}
