{
 "cells": [
  {
   "cell_type": "markdown",
   "metadata": {},
   "source": [
    "### Load packages"
   ]
  },
  {
   "cell_type": "code",
   "execution_count": 1,
   "metadata": {
    "scrolled": true,
    "tags": []
   },
   "outputs": [],
   "source": [
    "import os, sys\n",
    "import numpy as np\n",
    "import pandas as pd\n",
    "from glob import glob \n",
    "from skimage.io import imread, imsave\n",
    "import zarr\n",
    "import napari"
   ]
  },
  {
   "cell_type": "markdown",
   "metadata": {},
   "source": [
    "### Start Napari viewer"
   ]
  },
  {
   "cell_type": "code",
   "execution_count": 2,
   "metadata": {
    "tags": []
   },
   "outputs": [],
   "source": [
    "%gui qt\n",
    "napari.gui_qt()\n",
    "viewer = napari.Viewer(ndisplay=3)"
   ]
  },
  {
   "cell_type": "markdown",
   "metadata": {},
   "source": [
    "### Specify directory to data files"
   ]
  },
  {
   "cell_type": "code",
   "execution_count": 3,
   "metadata": {
    "tags": []
   },
   "outputs": [],
   "source": [
    "# roi_dir='test-oct6_epsilon1\\\\roi.csv'\n",
    "# lb_dir   =\"/Users/fangmingxie/data/easifish/lt185/r1/segmentation/r1-c3.tif\"\n",
    "# spot_dir =\"/Users/fangmingxie/data/easifish/lt185_r1_redo/spots/spots_c0.txt\"\n",
    "imdir    =\"/Users/fangmingxie/data/easifish/lt186/r1/stitching/export.n5\""
   ]
  },
  {
   "cell_type": "code",
   "execution_count": 4,
   "metadata": {
    "tags": []
   },
   "outputs": [],
   "source": [
    "# lb = imread(lb_dir)\n",
    "# lb.shape"
   ]
  },
  {
   "cell_type": "code",
   "execution_count": 5,
   "metadata": {
    "tags": []
   },
   "outputs": [],
   "source": [
    "# lb_sub = lb[:,400:450,:]\n",
    "# lb_sub = np.swapaxes(lb_sub,0,1)"
   ]
  },
  {
   "cell_type": "code",
   "execution_count": 6,
   "metadata": {
    "tags": []
   },
   "outputs": [],
   "source": [
    "#viewer.add_labels(lb_sub.astype('uint32'),name='labels',blending='additive')"
   ]
  },
  {
   "cell_type": "code",
   "execution_count": 7,
   "metadata": {
    "scrolled": true,
    "tags": []
   },
   "outputs": [
    {
     "data": {
      "text/plain": [
       "(288, 456, 565)"
      ]
     },
     "execution_count": 7,
     "metadata": {},
     "output_type": "execute_result"
    }
   ],
   "source": [
    "# get n5 image data for channel 1\n",
    "im = zarr.open(store=zarr.N5Store(imdir), mode='r')\n",
    "_img = im['c3/s4']\n",
    "zdim, ydim, xdim = _img.shape\n",
    "zdim, ydim, xdim"
   ]
  },
  {
   "cell_type": "code",
   "execution_count": 8,
   "metadata": {
    "tags": []
   },
   "outputs": [],
   "source": [
    "range_min, range_max = 0, ydim"
   ]
  },
  {
   "cell_type": "code",
   "execution_count": 9,
   "metadata": {
    "tags": []
   },
   "outputs": [
    {
     "name": "stdout",
     "output_type": "stream",
     "text": [
      "(288, 456, 565)\n"
     ]
    },
    {
     "data": {
      "text/plain": [
       "<Image layer 'img1' at 0x17a0195b0>"
      ]
     },
     "execution_count": 9,
     "metadata": {},
     "output_type": "execute_result"
    }
   ],
   "source": [
    "img1 = _img[:,range_min:range_max,:]\n",
    "print(img1.shape)\n",
    "# img1 = np.swapaxes(img1,0,1)\n",
    "# print(img1.shape)\n",
    "viewer.add_image(img1,colormap='gray',blending='additive')"
   ]
  },
  {
   "cell_type": "code",
   "execution_count": 10,
   "metadata": {},
   "outputs": [],
   "source": [
    "# from skimage.measure import block_reduce\n",
    "# res = block_reduce(img1, block_size=(2,2,2), func=np.mean)\n",
    "# res.shape"
   ]
  },
  {
   "cell_type": "code",
   "execution_count": 11,
   "metadata": {
    "tags": []
   },
   "outputs": [
    {
     "name": "stdout",
     "output_type": "stream",
     "text": [
      "(288, 456, 565)\n"
     ]
    },
    {
     "data": {
      "text/plain": [
       "<Image layer 'RL (Cre)' at 0x17aae4be0>"
      ]
     },
     "execution_count": 11,
     "metadata": {},
     "output_type": "execute_result"
    }
   ],
   "source": [
    "# get n5 image data for channel 1\n",
    "_img = im['c0/s4']\n",
    "zdim, ydim, xdim = _img.shape\n",
    "img1 = _img[:,range_min:range_max,:]\n",
    "print(img1.shape)\n",
    "# img1 = np.swapaxes(img1,0,1)\n",
    "# print(img1.shape)\n",
    "\n",
    "viewer.add_image(img1,colormap='blue',blending='additive', name='RL (Cre)')"
   ]
  },
  {
   "cell_type": "code",
   "execution_count": 12,
   "metadata": {
    "tags": []
   },
   "outputs": [
    {
     "name": "stdout",
     "output_type": "stream",
     "text": [
      "(288, 456, 565)\n"
     ]
    },
    {
     "data": {
      "text/plain": [
       "<Image layer 'LM (FlpO)' at 0x17ab333a0>"
      ]
     },
     "execution_count": 12,
     "metadata": {},
     "output_type": "execute_result"
    }
   ],
   "source": [
    "# get n5 image data for channel 1\n",
    "_img = im['c2/s4']\n",
    "zdim, ydim, xdim = _img.shape\n",
    "img1 = _img[:,range_min:range_max,:]\n",
    "print(img1.shape)\n",
    "# img1 = np.swapaxes(img1,0,1)\n",
    "# print(img1.shape)\n",
    "\n",
    "viewer.add_image(img1,colormap='red',blending='additive', name='LM (FlpO)')"
   ]
  },
  {
   "cell_type": "code",
   "execution_count": null,
   "metadata": {},
   "outputs": [],
   "source": []
  },
  {
   "cell_type": "code",
   "execution_count": null,
   "metadata": {},
   "outputs": [],
   "source": []
  },
  {
   "cell_type": "code",
   "execution_count": null,
   "metadata": {},
   "outputs": [],
   "source": []
  },
  {
   "cell_type": "markdown",
   "metadata": {},
   "source": [
    "### Spot detection can also be visualized "
   ]
  },
  {
   "cell_type": "code",
   "execution_count": 13,
   "metadata": {
    "tags": []
   },
   "outputs": [],
   "source": [
    "spot=np.loadtxt(spot_dir,delimiter=',')\n",
    "# vox=np.array([0.23,0.23,0.42])*np.array([8,8,4])  #current image voxel size\n",
    "vox=np.array([0.23,0.23,0.42])*np.array([16,16,9])  #current image voxel size\n",
    "spot[:,:3]=spot[:,:3]/vox"
   ]
  },
  {
   "cell_type": "code",
   "execution_count": 14,
   "metadata": {
    "tags": []
   },
   "outputs": [
    {
     "ename": "NameError",
     "evalue": "name 'x_min' is not defined",
     "output_type": "error",
     "traceback": [
      "\u001b[0;31m---------------------------------------------------------------------------\u001b[0m",
      "\u001b[0;31mNameError\u001b[0m                                 Traceback (most recent call last)",
      "Cell \u001b[0;32mIn[14], line 19\u001b[0m\n\u001b[1;32m      4\u001b[0m \u001b[38;5;66;03m# x_min, y_min, z_min = 0,400,0\u001b[39;00m\n\u001b[1;32m      5\u001b[0m \u001b[38;5;66;03m# x_max, y_max, z_max = xdim, 600, zdim\u001b[39;00m\n\u001b[1;32m      6\u001b[0m \u001b[38;5;66;03m# conditions = [\u001b[39;00m\n\u001b[0;32m   (...)\u001b[0m\n\u001b[1;32m     16\u001b[0m \n\u001b[1;32m     17\u001b[0m \u001b[38;5;66;03m# b = spot[cond]\u001b[39;00m\n\u001b[1;32m     18\u001b[0m b \u001b[38;5;241m=\u001b[39m spot\n\u001b[0;32m---> 19\u001b[0m bx\u001b[38;5;241m=\u001b[39mb[:,\u001b[38;5;241m0\u001b[39m]\u001b[38;5;241m-\u001b[39m\u001b[43mx_min\u001b[49m\n\u001b[1;32m     20\u001b[0m by\u001b[38;5;241m=\u001b[39mb[:,\u001b[38;5;241m1\u001b[39m]\u001b[38;5;241m-\u001b[39my_min\n\u001b[1;32m     21\u001b[0m bz\u001b[38;5;241m=\u001b[39mb[:,\u001b[38;5;241m2\u001b[39m]\u001b[38;5;241m-\u001b[39mz_min\n",
      "\u001b[0;31mNameError\u001b[0m: name 'x_min' is not defined"
     ]
    }
   ],
   "source": [
    "_x = spot[:,0]\n",
    "_y = spot[:,1]\n",
    "_z = spot[:,2]\n",
    "# x_min, y_min, z_min = 0,400,0\n",
    "# x_max, y_max, z_max = xdim, 600, zdim\n",
    "# conditions = [\n",
    "#     _x <= x_max,\n",
    "#     _y <= y_max,\n",
    "#     _z <= z_max,\n",
    "    \n",
    "#     _x >  x_min,\n",
    "#     _y >  y_min,\n",
    "#     _z >  z_min,\n",
    "# ]\n",
    "# cond = (np.sum(conditions, axis=0) == 6) # all six conditions has to be satified to be pulled\n",
    "\n",
    "# b = spot[cond]\n",
    "b = spot\n",
    "bx=b[:,0]-x_min\n",
    "by=b[:,1]-y_min\n",
    "bz=b[:,2]-z_min\n",
    "point=np.stack((by,bz,bx),axis=-1)\n",
    "viewer.add_points(point, size=1, face_color='red',edge_color='red',name='detected_spots')"
   ]
  },
  {
   "cell_type": "code",
   "execution_count": null,
   "metadata": {},
   "outputs": [],
   "source": []
  },
  {
   "cell_type": "code",
   "execution_count": null,
   "metadata": {},
   "outputs": [],
   "source": []
  },
  {
   "cell_type": "code",
   "execution_count": null,
   "metadata": {},
   "outputs": [],
   "source": []
  },
  {
   "cell_type": "code",
   "execution_count": null,
   "metadata": {},
   "outputs": [],
   "source": []
  },
  {
   "cell_type": "code",
   "execution_count": null,
   "metadata": {},
   "outputs": [],
   "source": []
  },
  {
   "cell_type": "markdown",
   "metadata": {},
   "source": [
    "### Specify ROI ID, block size and image channel "
   ]
  },
  {
   "cell_type": "code",
   "execution_count": null,
   "metadata": {},
   "outputs": [],
   "source": [
    "#Input information here: cell ID, image block size, channels\n",
    "cell_id = 15 \n",
    "\n",
    "#define the size of the block to display around the ROI\n",
    "dx,dy,dz=[100,100,50]  # in pixel \n",
    "channel_1='c3'\n",
    "channel_2='c0'"
   ]
  },
  {
   "cell_type": "markdown",
   "metadata": {},
   "source": [
    "### Load data"
   ]
  },
  {
   "cell_type": "code",
   "execution_count": null,
   "metadata": {},
   "outputs": [],
   "source": [
    "roi = pd.read_csv(roi_dir,sep=',', index_col=0) #, index_col=1)\n",
    "roi"
   ]
  },
  {
   "cell_type": "code",
   "execution_count": null,
   "metadata": {},
   "outputs": [],
   "source": [
    "# get n5 image data for channel 1\n",
    "im = zarr.open(store=zarr.N5Store(imdir), mode='r')\n",
    "_img = im[channel_1+'/s2']\n",
    "zdim, ydim, xdim = _img.shape"
   ]
  },
  {
   "cell_type": "code",
   "execution_count": null,
   "metadata": {},
   "outputs": [],
   "source": [
    "lb=imread(lb_dir)\n",
    "z=roi.loc[cell_id,'z']*2/0.84 # convert to pixel \n",
    "y=roi.loc[cell_id,'y']*2/0.92 # convert to pixel \n",
    "x=roi.loc[cell_id,'x']*2/0.92 # convert to pixel \n",
    "Z=int(z)\n",
    "Y=int(y)\n",
    "X=int(x)\n",
    "\n",
    "z_min, z_max = max(0, Z-dz), min(zdim, Z+dz)\n",
    "y_min, y_max = max(0, Y-dy), min(ydim, Y+dy)\n",
    "x_min, x_max = max(0, X-dx), min(xdim, X+dx)\n",
    "\n",
    "#Crop image to show the target cell and surrounding area\n",
    "lb_sub=lb[z_min:z_max, y_min:y_max, x_min:x_max]\n",
    "#Target Cell ID\n",
    "z0 = z - z_min\n",
    "y0 = y - y_min\n",
    "x0 = x - x_min\n",
    "a = np.array([[z0, y0, x0]])\n",
    "a"
   ]
  },
  {
   "cell_type": "markdown",
   "metadata": {},
   "source": [
    "### Display segmentation mask, image data and the position of the specified ROI"
   ]
  },
  {
   "cell_type": "code",
   "execution_count": null,
   "metadata": {},
   "outputs": [],
   "source": [
    "# get n5 image data for channel 1\n",
    "im = zarr.open(store=zarr.N5Store(imdir), mode='r')\n",
    "img_1 = im[channel_1+'/s2'][z_min:z_max, y_min:y_max, x_min:x_max]\n",
    "viewer.add_image(img_1,colormap='green',blending='additive')\n",
    "\n",
    "#get n5 image data for channel 2\n",
    "if channel_2!='':\n",
    "    im = zarr.open(store=zarr.N5Store(imdir), mode='r')   \n",
    "    img_2 = im[channel_2+'/s2'][z_min:z_max, y_min:y_max, x_min:x_max]\n",
    "    viewer.add_image(img_2.astype('float32'),colormap='gray',blending='additive')\n",
    "    \n",
    "# x, y, z are cell centroid location (in pixel)\n",
    "zo = z - z_min\n",
    "yo = y - y_min\n",
    "xo = x - x_min\n",
    "\n",
    "a = np.array([[zo, yo, xo]])\n",
    "\n",
    "viewer.add_points(a, size=5, face_color='red',edge_color='red',name='cell_centroid_position')\n",
    "viewer.add_labels(lb_sub.astype('uint32'),name='labels',blending='additive')"
   ]
  },
  {
   "cell_type": "code",
   "execution_count": null,
   "metadata": {},
   "outputs": [],
   "source": [
    "f = 'D:\\\\SWAP\\\\Vincent\\\\lt172_exps\\\\gene\\\\outputs\\\\test-oct6_epsilon1\\\\clustering.csv'\n",
    "res = pd.read_csv(f, index_col=0)\n",
    "res"
   ]
  },
  {
   "cell_type": "code",
   "execution_count": null,
   "metadata": {},
   "outputs": [],
   "source": [
    "len(roi), len(res)"
   ]
  },
  {
   "cell_type": "code",
   "execution_count": null,
   "metadata": {},
   "outputs": [],
   "source": [
    "comm = np.intersect1d(roi.index.values, \n",
    "                      res.index.values,\n",
    "                     )\n",
    "comm.shape"
   ]
  },
  {
   "cell_type": "code",
   "execution_count": null,
   "metadata": {},
   "outputs": [],
   "source": [
    "cluster_cols = ['clst_l1', 'clst_l2', 'clst_l3'] \n",
    "roi2 = roi.join(res[cluster_cols]).dropna()\n",
    "roi2[cluster_cols] = roi2[cluster_cols].astype(int)  \n",
    "\n",
    "roi2sub = roi2[roi2['clst_l1']==1]\n",
    "_z = roi2sub['z'].values*2/0.84 # convert to pixel\n",
    "_y = roi2sub['y'].values*2/0.92 # convert to pixel\n",
    "_x = roi2sub['x'].values*2/0.92 # convert to pixel\n",
    "\n",
    "conditions = [\n",
    "    _x <= x_max,\n",
    "    _y <= y_max,\n",
    "    _z <= z_max,\n",
    "    \n",
    "    _x >  x_min,\n",
    "    _y >  y_min,\n",
    "    _z >  z_min,\n",
    "]\n",
    "cond = (np.sum(conditions, axis=0) == 6) # all six conditions has to be satified to be pulled\n",
    "points = np.vstack([_z-z_min,\n",
    "                    _y-y_min,\n",
    "                    _x-x_min]).T[cond]"
   ]
  },
  {
   "cell_type": "code",
   "execution_count": null,
   "metadata": {},
   "outputs": [],
   "source": [
    "# visualize the centroids of one cell type\n",
    "viewer.add_points(points, size=10, face_color='blue',edge_color='blue',name='cluster 1')"
   ]
  },
  {
   "cell_type": "code",
   "execution_count": null,
   "metadata": {},
   "outputs": [],
   "source": [
    "roi2['clst_l1'].unique()"
   ]
  },
  {
   "cell_type": "code",
   "execution_count": null,
   "metadata": {},
   "outputs": [],
   "source": [
    "# visualize masks of all cell types (in diff colors)\n",
    "lookup = roi2['clst_l1']\n",
    "roiidx, inv = np.unique(lb_sub, return_inverse=True)\n",
    "# np.all(lb_sub == roiidx[inv].reshape(lb_sub.shape))\n",
    "clstlbs = lookup.reindex(roiidx).fillna(0).astype(int).values #.values\n",
    "masks_byclsts = clstlbs[inv].reshape(lb_sub.shape)\n",
    "viewer.add_labels(masks_byclsts.astype('uint32'), name='clusters',blending='additive')"
   ]
  }
 ],
 "metadata": {
  "kernelspec": {
   "display_name": "Python 3 (ipykernel)",
   "language": "python",
   "name": "python3"
  },
  "language_info": {
   "codemirror_mode": {
    "name": "ipython",
    "version": 3
   },
   "file_extension": ".py",
   "mimetype": "text/x-python",
   "name": "python",
   "nbconvert_exporter": "python",
   "pygments_lexer": "ipython3",
   "version": "3.9.16"
  }
 },
 "nbformat": 4,
 "nbformat_minor": 4
}
