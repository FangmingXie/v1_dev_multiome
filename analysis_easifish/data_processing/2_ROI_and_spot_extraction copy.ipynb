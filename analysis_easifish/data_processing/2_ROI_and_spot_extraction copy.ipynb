{
 "cells": [
  {
   "cell_type": "markdown",
   "metadata": {},
   "source": [
    "### import packages"
   ]
  },
  {
   "cell_type": "code",
   "execution_count": null,
   "metadata": {},
   "outputs": [],
   "source": [
    "import os, sys\n",
    "sys.path.append('..')\n",
    "import numpy as np\n",
    "import pandas as pd\n",
    "from glob import glob \n",
    "from skimage.io import imread, imsave\n",
    "from easi_fish import n5_metadata_utils as n5mu\n",
    "from easi_fish import roi_prop, spot, intensity"
   ]
  },
  {
   "cell_type": "markdown",
   "metadata": {},
   "source": [
    "### Specify directories to data files"
   ]
  },
  {
   "cell_type": "code",
   "execution_count": null,
   "metadata": {},
   "outputs": [],
   "source": [
    "lb_dir = \"/LHA3_R3_medium/segmentation/LHA3_R3_medium-c2.tif\"\n",
    "bad_roi='/test/bad_roi_list.npy'\n",
    "spot_dir = '/test/LHA3_R3_medium/spots/'\n",
    "out_dir = '/test/LHA3_R3_medium/spots/'\n",
    "img_dir='/test/LHA3_R3_medium/stitching/export.n5'"
   ]
  },
  {
   "cell_type": "markdown",
   "metadata": {},
   "source": [
    "### Load segmentation mask"
   ]
  },
  {
   "cell_type": "code",
   "execution_count": null,
   "metadata": {},
   "outputs": [],
   "source": [
    "### Get list of ROIs that are fully or partially outside the mask \n",
    "### Make sure to only include ROIs that are intact and in the overlapping regions across all rounds of FISH\n",
    "lb=imread(lb_dir)\n",
    "roi = np.max(lb)\n",
    "print(\"number of ROIs in total:\",roi)\n",
    "\n",
    "bad_roi_list=np.load(bad_roi)\n",
    "print('number of bad ROIs:', len(bad_roi_list))"
   ]
  },
  {
   "cell_type": "markdown",
   "metadata": {},
   "source": [
    "### Extract ROI properties\n",
    "The roi_prop function exports the following: \n",
    "- ROI ID\n",
    "- position (x, y, z in um, pre-expansion)\n",
    "- size (volume, pre-expansion) \n",
    "- mionr_axis_length\n",
    "- major_axis_length\n",
    "- eccentricity =  mionr_axis_length/major_axis_length\n",
    "- solidity = ROI volume/ROI convex hull"
   ]
  },
  {
   "cell_type": "code",
   "execution_count": null,
   "metadata": {},
   "outputs": [],
   "source": [
    "df=roi_prop.roi_prop(lb)"
   ]
  },
  {
   "cell_type": "markdown",
   "metadata": {},
   "source": [
    "### Remove bad ROIs and save the file"
   ]
  },
  {
   "cell_type": "code",
   "execution_count": null,
   "metadata": {},
   "outputs": [],
   "source": [
    "df_filtered=df.loc[~df['roi'].isin(bad_roi_list)]\n",
    "df_filtered.roi=df_filtered.roi.astype(int)\n",
    "df_filtered.to_csv(out_dir+'roi.csv')"
   ]
  },
  {
   "cell_type": "markdown",
   "metadata": {},
   "source": [
    "### Lipofuscin subtraction (optional)"
   ]
  },
  {
   "cell_type": "code",
   "execution_count": null,
   "metadata": {},
   "outputs": [],
   "source": [
    "# Load spot files for lipofuscin subtraction\n",
    "channel_1=np.loadtxt(spot_dir+'/'+'merged_points_c0.txt',delimiter=',')\n",
    "channel_2=np.loadtxt(spot_dir+'/'+'merged_points_c1.txt',delimiter=',')\n",
    "# Identify lipofuscin spots\n",
    "c0,c1,pAind,pBind=spot.rm_lipofuscin(channel_1,channel_2)\n",
    "# Remove lipofuscin spots\n",
    "true_pos_c0 = np.delete(channel_1, pAind, axis=0)\n",
    "true_pos_c1 = np.delete(channel_2, pBind, axis=0)"
   ]
  },
  {
   "cell_type": "markdown",
   "metadata": {},
   "source": [
    "### spot extraction and save file"
   ]
  },
  {
   "cell_type": "code",
   "execution_count": null,
   "metadata": {},
   "outputs": [],
   "source": [
    "spotcount=spot.spot_counts(lb,spot_dir)\n",
    "spotcount.to_csv(out_dir+'/spots.csv')"
   ]
  },
  {
   "cell_type": "markdown",
   "metadata": {},
   "source": [
    "### Intensity measurement and save file"
   ]
  },
  {
   "cell_type": "code",
   "execution_count": null,
   "metadata": {},
   "outputs": [],
   "source": [
    "df_intensity=intensity.measure_intensity(lb, img_dir,'c0')\n",
    "df_intensity.to_csv(out_dir+'/intennsity_c0.csv')"
   ]
  },
  {
   "cell_type": "code",
   "execution_count": null,
   "metadata": {},
   "outputs": [],
   "source": [
    "df_intensity"
   ]
  },
  {
   "cell_type": "code",
   "execution_count": null,
   "metadata": {},
   "outputs": [],
   "source": []
  }
 ],
 "metadata": {
  "kernelspec": {
   "display_name": "Python 3 (ipykernel)",
   "language": "python",
   "name": "python3"
  },
  "language_info": {
   "codemirror_mode": {
    "name": "ipython",
    "version": 3
   },
   "file_extension": ".py",
   "mimetype": "text/x-python",
   "name": "python",
   "nbconvert_exporter": "python",
   "pygments_lexer": "ipython3",
   "version": "3.9.12"
  }
 },
 "nbformat": 4,
 "nbformat_minor": 2
}
