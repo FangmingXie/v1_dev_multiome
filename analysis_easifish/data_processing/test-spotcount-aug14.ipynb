{
 "cells": [
  {
   "cell_type": "code",
   "execution_count": null,
   "id": "b3becb0f",
   "metadata": {},
   "outputs": [],
   "source": [
    "import os, sys\n",
    "sys.path.append('..')\n",
    "from os.path import abspath, dirname\n",
    "import zarr\n",
    "import z5py\n",
    "import numpy as np\n",
    "import pandas as pd\n",
    "from glob import glob \n",
    "from skimage.measure import regionprops\n",
    "from skimage.io import imread, imsave\n",
    "from scipy import stats\n",
    "from scipy.stats import skewnorm, lognorm\n",
    "from scipy.optimize import minimize\n",
    "import itertools\n",
    "import seaborn as sns\n",
    "\n",
    "from easi_fish import n5_metadata_utils as n5mu\n",
    "from easi_fish import roi_prop, spot, intensity\n",
    "import warnings\n",
    "warnings.filterwarnings('ignore')\n",
    "\n",
    "import importlib\n",
    "importlib.reload(spot)\n",
    "importlib.reload(roi_prop)\n",
    "importlib.reload(intensity)\n",
    "\n",
    "\"\"\"\n",
    "Spot counts for cells with highly expressed genes (dense spots)\n",
    "1. Measure total intensity of every ROI after bleed-through correction and background subtraction.\n",
    "2. Calculate the number of spot from total intensity based on unit-spot intensity\n",
    "3. Correlate the number of spots (from air-localize) with the total fluorescence intensity/voxel in each ROI and determine a 'cutoff'. \n",
    "   Spot count > cutoff: use spot count converted based on total fluorescence intensity; \n",
    "   Spot count < cutoff: use spot count from Airlocalize\n",
    "\"\"\""
   ]
  },
  {
   "cell_type": "code",
   "execution_count": null,
   "id": "d3d89d9a",
   "metadata": {},
   "outputs": [],
   "source": [
    "## input\n",
    "input_dir = \"D:\\\\SWAP\\\\Vincent\\\\lt171_FlpO\\\\gene_new_4tile\\\\outputs\"\n",
    "output_dir = os.path.join(input_dir, \"testfull-aug9\")  \n",
    "\n",
    "# fixed image (directory - n5 format)\n",
    "fix_dir = os.path.join(input_dir, \"r2\\\\export_sigma3.n5\")\n",
    "# get appropriate image data within fix_dir\n",
    "subpath='\\\\c3\\\\s2'\n",
    "\n",
    "# registered image (directory - n5 format)\n",
    "reg_dir = os.path.join(input_dir, \"r1\\\\registration\\\\lt171_gene_4tile_r1-to-lt171_gene_4tile_r2\\\\warped\")  \n",
    "\n",
    "# segmentation mask (tif format accepted here)\n",
    "lb_dir  = os.path.join(input_dir, \"r2\\\\segmentation\\\\lt171_gene_4tile_r2-c3.tif\" ) \n",
    "\n",
    "# spot dir \n",
    "spot_dir = os.path.join(input_dir, \"spots_pooled\") # pool spots together; warpped and fixed\n",
    "intn_dir = os.path.join(input_dir, \"intensities_pooled\") # pool spots together; warpped and fixed\n",
    "# for every gene\n",
    "rounds = ['r1', 'r2']\n",
    "channels = ['c0', 'c1', 'c2', 'c4']\n",
    "# r1 should be the wrappped one\n",
    "fx_spots = [os.path.join(spot_dir, f'spots_{r}_{c}.txt') \n",
    "                 for r, c in itertools.product(rounds, channels)]\n",
    "fx_intns = [os.path.join(intn_dir, f'{r}_{c}_intensity.csv') \n",
    "                 for r, c in itertools.product(rounds, channels)]\n",
    "\n",
    "for f in fx_spots:\n",
    "    assert os.path.isfile(f)\n",
    "for f in fx_intns:\n",
    "    assert os.path.isfile(f)\n",
    "\n",
    "## output\n",
    "out_mask = os.path.join(output_dir, 'mask.tif')\n",
    "out_badroi = os.path.join(output_dir, 'bad_roi_list.npy')\n",
    "out_allroi = os.path.join(output_dir, \"roi_all.csv\") \n",
    "out_roi = os.path.join(output_dir, \"roi.csv\") \n",
    "out_spots = os.path.join(output_dir, \"spotcount.csv\")\n",
    "out_spots_intn = os.path.join(output_dir, \"spotcount_intn.csv\")\n",
    "# out_intensity = os.path.join(output_dir, \"intensity_c0_r2.csv\")\n",
    "out_spots_merged = os.path.join(output_dir, 'spotcount_merged.csv')"
   ]
  },
  {
   "cell_type": "code",
   "execution_count": null,
   "id": "698b1837",
   "metadata": {},
   "outputs": [],
   "source": [
    "lb=imread(lb_dir)\n",
    "print(lb.shape)\n",
    "roi = np.max(lb)\n",
    "print(roi)"
   ]
  },
  {
   "cell_type": "code",
   "execution_count": null,
   "id": "15ff5d10-2c77-4a86-a42f-189dfdb1b345",
   "metadata": {},
   "outputs": [],
   "source": [
    "spots = np.loadtxt(fx_spots[0], delimiter=',')\n",
    "print(spots.shape)\n",
    "spots"
   ]
  },
  {
   "cell_type": "markdown",
   "id": "57e6bd9a-7b64-4b7c-b36c-f5fb0f198d03",
   "metadata": {},
   "source": [
    "# check spots range"
   ]
  },
  {
   "cell_type": "code",
   "execution_count": null,
   "id": "d947ed4b-d081-4d2a-bcd8-cccc170ddaae",
   "metadata": {},
   "outputs": [],
   "source": [
    "print(np.nanmin(spots[:,0]), np.nanmax(spots[:,0]))\n",
    "print(np.nanmin(spots[:,1]), np.nanmax(spots[:,1]))\n",
    "print(np.nanmin(spots[:,2]), np.nanmax(spots[:,2]))"
   ]
  },
  {
   "cell_type": "code",
   "execution_count": null,
   "id": "6bbde193-3934-4e70-b21e-69b29987826f",
   "metadata": {},
   "outputs": [],
   "source": [
    "sns.boxplot(data=spots[:,:3])"
   ]
  },
  {
   "cell_type": "code",
   "execution_count": null,
   "id": "3d10c7de-05cf-4e0b-98bf-99ebedf1f2c2",
   "metadata": {},
   "outputs": [],
   "source": [
    "sns.boxplot(data=spots[:,:3], showfliers=False)"
   ]
  },
  {
   "cell_type": "code",
   "execution_count": null,
   "id": "50574d90-b1b5-420a-b4f7-28ead22a9b01",
   "metadata": {},
   "outputs": [],
   "source": [
    "sns.violinplot(data=spots[:,:3], showfliers=False)"
   ]
  },
  {
   "cell_type": "markdown",
   "id": "92197894-48fc-402f-89ee-50293f510583",
   "metadata": {},
   "source": [
    "# test one channel"
   ]
  },
  {
   "cell_type": "code",
   "execution_count": null,
   "id": "63654261",
   "metadata": {},
   "outputs": [],
   "source": [
    "%%time\n",
    "importlib.reload(spot)\n",
    "spotcount = spot.spot_counts(lb, spots, verbose=False)\n",
    "res0 = spotcount['spot count'] #.values"
   ]
  },
  {
   "cell_type": "code",
   "execution_count": null,
   "id": "701b4b1c-7d0d-4823-9e6e-b2d6fccd4ee3",
   "metadata": {},
   "outputs": [],
   "source": [
    "%%time\n",
    "importlib.reload(spot)\n",
    "res = spot.spot_counts_worker(lb, spots)"
   ]
  },
  {
   "cell_type": "code",
   "execution_count": null,
   "id": "82a4dcf4-2a9b-4fc7-ad19-e92a7bf4b396",
   "metadata": {},
   "outputs": [],
   "source": [
    "cond = (res == res0)\n",
    "res[~cond], res0[~cond]"
   ]
  },
  {
   "cell_type": "code",
   "execution_count": null,
   "id": "57af7f43-1e44-4799-a47f-a4408e096ee2",
   "metadata": {},
   "outputs": [],
   "source": [
    "# discrepany only happens at the edge\n",
    "allroi = pd.read_csv(out_allroi).set_index('roi')\n",
    "allroi.loc[~cond]"
   ]
  },
  {
   "cell_type": "markdown",
   "id": "a20f3cec-0a63-4eb1-bb65-b42844713ec1",
   "metadata": {},
   "source": [
    "# test all channels\n",
    "- only differences are on the edge"
   ]
  },
  {
   "cell_type": "code",
   "execution_count": null,
   "id": "b34fb502-e906-441d-a932-de0caeab3ee0",
   "metadata": {},
   "outputs": [],
   "source": [
    "%%time\n",
    "# apply to all channels\n",
    "importlib.reload(spot)\n",
    "resall = spot.spot_counts_v2(lb, spot_dir, s=[0.92,0.92,0.84], verbose=True)"
   ]
  },
  {
   "cell_type": "code",
   "execution_count": null,
   "id": "d1026a5e-3ea1-4775-9fb0-d5f7ca7d641d",
   "metadata": {},
   "outputs": [],
   "source": [
    "resall"
   ]
  },
  {
   "cell_type": "code",
   "execution_count": null,
   "id": "d31c3d7c-2ca1-4c7a-8fc7-5d3c505c0918",
   "metadata": {},
   "outputs": [],
   "source": [
    "%%time\n",
    "# apply to all channels\n",
    "importlib.reload(spot)\n",
    "resallv0 = spot.spot_counts(lb, spot_dir, s=[0.92,0.92,0.84], verbose=False)"
   ]
  },
  {
   "cell_type": "code",
   "execution_count": null,
   "id": "012ec295-562a-45a7-b1c7-92c04a217f81",
   "metadata": {},
   "outputs": [],
   "source": [
    "resallv0"
   ]
  },
  {
   "cell_type": "code",
   "execution_count": null,
   "id": "70b7db77-8418-4384-a79a-d1876bd164c1",
   "metadata": {},
   "outputs": [],
   "source": [
    "condall = resallv0 == resall\n",
    "(~condall).sum()"
   ]
  },
  {
   "cell_type": "code",
   "execution_count": null,
   "id": "871b85f4-698c-49c7-a838-ac5219bbb960",
   "metadata": {},
   "outputs": [],
   "source": [
    "for col in condall:\n",
    "    print(resallv0.loc[~condall[col], col] - resall.loc[~condall[col], col])\n",
    "    print(allroi.loc[~condall[col]])"
   ]
  },
  {
   "cell_type": "code",
   "execution_count": null,
   "id": "99e8453f-1d56-4de1-9ef1-6e775a4ac8f6",
   "metadata": {},
   "outputs": [],
   "source": []
  }
 ],
 "metadata": {
  "kernelspec": {
   "display_name": "Python 3 (ipykernel)",
   "language": "python",
   "name": "python3"
  },
  "language_info": {
   "codemirror_mode": {
    "name": "ipython",
    "version": 3
   },
   "file_extension": ".py",
   "mimetype": "text/x-python",
   "name": "python",
   "nbconvert_exporter": "python",
   "pygments_lexer": "ipython3",
   "version": "3.9.12"
  }
 },
 "nbformat": 4,
 "nbformat_minor": 5
}
