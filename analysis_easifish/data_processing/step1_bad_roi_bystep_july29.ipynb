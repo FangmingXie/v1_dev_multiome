{
 "cells": [
  {
   "cell_type": "code",
   "execution_count": null,
   "id": "d51bd323",
   "metadata": {},
   "outputs": [],
   "source": [
    "# Code to remove ROIs (1) on edges (2) failed to be imaged in certain FISH round(s) \n",
    "\n",
    "import os, sys, zarr\n",
    "sys.path.append('..')\n",
    "import numpy as np\n",
    "import pandas as pd\n",
    "from glob import glob \n",
    "from skimage.io import imread, imsave\n",
    "from os.path import abspath, dirname\n",
    "from easi_fish import n5_metadata_utils as n5mu\n",
    "import warnings\n",
    "warnings.filterwarnings('ignore')\n"
   ]
  },
  {
   "cell_type": "code",
   "execution_count": null,
   "id": "cbe93f1e",
   "metadata": {},
   "outputs": [],
   "source": [
    "fix_dir = \"D:\\\\SWAP\\\\Vincent\\\\lt171_FlpO\\\\gene_new_4tile\\\\outputs\\\\r2\\\\export_sigma3.n5\"\n",
    "reg_dir = \"D:\\\\SWAP\\\\Vincent\\\\lt171_FlpO\\\\gene_new_4tile\\\\outputs\\\\r1\\\\registration\\\\lt171_gene_4tile_r1-to-lt171_gene_4tile_r2\\\\warped\"  # directory to the registered image\n",
    "out_dir = \"D:\\\\SWAP\\\\Vincent\\\\lt171_FlpO\\\\gene_new_4tile\\\\outputs\\\\r1\\\\registration\\\\lt171_gene_4tile_r1-to-lt171_gene_4tile_r2\\\\warped\\\\testout-july29\"  # where the output files should be saved \n",
    "lb_dir  = \"D:\\\\SWAP\\\\Vincent\\\\lt171_FlpO\\\\gene_new_4tile\\\\outputs\\\\r2\\\\segmentation\\\\lt171_gene_4tile_r2-c3.tif\"  # directory to the segmentation mask (tif format accepted here)\n",
    "\n",
    "# get appropriate image data    \n",
    "subpath='\\\\c3\\\\s2'"
   ]
  },
  {
   "cell_type": "code",
   "execution_count": null,
   "id": "d3dc2c37",
   "metadata": {},
   "outputs": [],
   "source": [
    "#voxel size in µm (x, y, z) (post-expansion)\n",
    "vox= n5mu.read_voxel_spacing(fix_dir, subpath)\n",
    "#image size in pixel (x, y, z)\n",
    "grid=n5mu.read_voxel_grid(fix_dir, subpath)\n",
    "#image size in physical space (x, y, z) (post-expansion)\n",
    "size=grid*vox\n",
    "print('voxel size is:',vox)\n",
    "print('image size in pixel unit is:',grid)\n",
    "print('image size in um unit is:',size)"
   ]
  },
  {
   "cell_type": "code",
   "execution_count": null,
   "id": "1795db4d",
   "metadata": {},
   "outputs": [],
   "source": [
    "%%time\n",
    "# get appropriate image data\n",
    "print(\"loading images...\")\n",
    "fix = zarr.open(store=zarr.N5Store(fix_dir), mode='r')     \n",
    "img1 = fix[subpath][:, :, :]\n",
    "\n",
    "reg = zarr.open(store=zarr.N5Store(reg_dir), mode='r')     \n",
    "img2 = reg[subpath][:, :, :]\n",
    "\n",
    "print(\"all images loaded\")\n"
   ]
  },
  {
   "cell_type": "code",
   "execution_count": null,
   "id": "2ddb0223",
   "metadata": {},
   "outputs": [],
   "source": [
    "if not os.path.isdir(out_dir):\n",
    "    print(out_dir)\n",
    "    os.mkdir(out_dir)\n"
   ]
  },
  {
   "cell_type": "code",
   "execution_count": null,
   "id": "5ffeb84c",
   "metadata": {},
   "outputs": [],
   "source": [
    "%%time\n",
    "mask=np.full((grid[2], grid[1], grid[0]),1)\n",
    "mask[img2==0]=0\n",
    "\n",
    "\n",
    "imsave(out_dir+'/mask.tif',mask)\n",
    "print(\"mask generated\")\n",
    "print(\"mask dimension is:\", mask.shape)\n",
    "\n",
    "\n",
    "lb=imread(lb_dir)\n",
    "roi = np.max(lb)\n",
    "print(roi)\n",
    "\n",
    "# # Get list of ROIs that are fully or partially outside the mask \n",
    "\n",
    "bad_roi=np.unique(lb[mask==0])\n",
    "np.save(out_dir+'/bad_roi_list.npy', bad_roi)\n",
    "\n",
    "print(\"# of ROIs rejected:\", len(bad_roi))\n",
    "\n"
   ]
  },
  {
   "cell_type": "code",
   "execution_count": null,
   "id": "4e19fe49",
   "metadata": {},
   "outputs": [],
   "source": [
    "bad_roi.shape\n"
   ]
  },
  {
   "cell_type": "code",
   "execution_count": null,
   "id": "38092d08",
   "metadata": {},
   "outputs": [],
   "source": []
  }
 ],
 "metadata": {
  "kernelspec": {
   "display_name": "Python 3 (ipykernel)",
   "language": "python",
   "name": "python3"
  },
  "language_info": {
   "codemirror_mode": {
    "name": "ipython",
    "version": 3
   },
   "file_extension": ".py",
   "mimetype": "text/x-python",
   "name": "python",
   "nbconvert_exporter": "python",
   "pygments_lexer": "ipython3",
   "version": "3.9.12"
  }
 },
 "nbformat": 4,
 "nbformat_minor": 5
}
