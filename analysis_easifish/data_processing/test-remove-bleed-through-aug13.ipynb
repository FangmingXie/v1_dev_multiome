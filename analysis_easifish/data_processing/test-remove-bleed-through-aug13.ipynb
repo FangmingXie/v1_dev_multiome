{
 "cells": [
  {
   "cell_type": "code",
   "execution_count": null,
   "id": "b3becb0f",
   "metadata": {},
   "outputs": [],
   "source": [
    "import os, sys\n",
    "sys.path.append('..')\n",
    "from os.path import abspath, dirname\n",
    "import zarr\n",
    "import z5py\n",
    "import numpy as np\n",
    "import pandas as pd\n",
    "from glob import glob \n",
    "from skimage.measure import regionprops\n",
    "from skimage.io import imread, imsave\n",
    "from scipy import stats\n",
    "from scipy.stats import skewnorm, lognorm\n",
    "from scipy.optimize import minimize\n",
    "import itertools\n",
    "import matplotlib.pyplot as plt\n",
    "# import seaborn as sns\n",
    "\n",
    "from easi_fish import n5_metadata_utils as n5mu\n",
    "from easi_fish import roi_prop, spot, intensity\n",
    "import warnings\n",
    "warnings.filterwarnings('ignore')\n",
    "\n",
    "import importlib\n",
    "importlib.reload(spot)\n",
    "importlib.reload(roi_prop)\n",
    "importlib.reload(intensity)\n",
    "\n",
    "\"\"\"\n",
    "Spot counts for cells with highly expressed genes (dense spots)\n",
    "1. Measure total intensity of every ROI after bleed-through correction and background subtraction.\n",
    "2. Calculate the number of spot from total intensity based on unit-spot intensity\n",
    "3. Correlate the number of spots (from air-localize) with the total fluorescence intensity/voxel in each ROI and determine a 'cutoff'. \n",
    "   Spot count > cutoff: use spot count converted based on total fluorescence intensity; \n",
    "   Spot count < cutoff: use spot count from Airlocalize\n",
    "\"\"\""
   ]
  },
  {
   "cell_type": "code",
   "execution_count": null,
   "id": "d3d89d9a",
   "metadata": {},
   "outputs": [],
   "source": [
    "## input\n",
    "input_dir = \"D:\\\\SWAP\\\\Vincent\\\\lt171_FlpO\\\\gene_new_4tile\\\\outputs\"\n",
    "output_dir = os.path.join(input_dir, \"testfull-aug9\")  \n",
    "\n",
    "# fixed image (directory - n5 format)\n",
    "fix_dir = os.path.join(input_dir, \"r2\\\\export_sigma3.n5\")\n",
    "# get appropriate image data within fix_dir\n",
    "subpath='\\\\c3\\\\s2'\n",
    "\n",
    "# registered image (directory - n5 format)\n",
    "reg_dir = os.path.join(input_dir, \"r1\\\\registration\\\\lt171_gene_4tile_r1-to-lt171_gene_4tile_r2\\\\warped\")  \n",
    "\n",
    "# segmentation mask (tif format accepted here)\n",
    "lb_dir  = os.path.join(input_dir, \"r2\\\\segmentation\\\\lt171_gene_4tile_r2-c3.tif\" ) \n",
    "\n",
    "# spot dir \n",
    "spot_dir = os.path.join(input_dir, \"spots_pooled\") # pool spots together; warpped and fixed\n",
    "intn_dir = os.path.join(input_dir, \"intensities_pooled\") # pool spots together; warpped and fixed\n",
    "# for every gene\n",
    "rounds = ['r1', 'r2']\n",
    "channels = ['c0', 'c1', 'c2', 'c4']\n",
    "# r1 should be the wrappped one\n",
    "fx_spots = [os.path.join(spot_dir, f'spots_{r}_{c}.txt') \n",
    "                 for r, c in itertools.product(rounds, channels)]\n",
    "fx_intns = [os.path.join(intn_dir, f'{r}_{c}_intensity.csv') \n",
    "                 for r, c in itertools.product(rounds, channels)]\n",
    "\n",
    "for f in fx_spots:\n",
    "    assert os.path.isfile(f)\n",
    "for f in fx_intns:\n",
    "    assert os.path.isfile(f)\n",
    "\n",
    "## output\n",
    "out_mask = os.path.join(output_dir, 'mask.tif')\n",
    "out_badroi = os.path.join(output_dir, 'bad_roi_list.npy')\n",
    "out_allroi = os.path.join(output_dir, \"roi_all.csv\") \n",
    "out_roi = os.path.join(output_dir, \"roi.csv\") \n",
    "out_spots = os.path.join(output_dir, \"spotcount.csv\")\n",
    "out_spots_intn = os.path.join(output_dir, \"spotcount_intn.csv\")\n",
    "# out_intensity = os.path.join(output_dir, \"intensity_c0_r2.csv\")\n",
    "out_spots_merged = os.path.join(output_dir, 'spotcount_merged.csv')"
   ]
  },
  {
   "cell_type": "code",
   "execution_count": null,
   "id": "ab0f8dfe",
   "metadata": {},
   "outputs": [],
   "source": [
    "%%time\n",
    "# remove C0 spots if it overlap with C4\n",
    "r, c = 'r1', 'c0'\n",
    "f = os.path.join(spot_dir, f'spots_{r}_{c}.txt')\n",
    "query_dots = np.loadtxt(f, delimiter=',')\n",
    "\n",
    "r, c = 'r1', 'c4'\n",
    "f = os.path.join(spot_dir, f'spots_{r}_{c}.txt')\n",
    "ref_dots = np.loadtxt(f, delimiter=',')"
   ]
  },
  {
   "cell_type": "code",
   "execution_count": null,
   "id": "1a8cbd04-bf5f-42dc-8e80-bcf1cd7bf1d3",
   "metadata": {},
   "outputs": [],
   "source": [
    "def remove_bleed_thru_spots(ref_dots, query_dots, epsilon=3):\n",
    "    \"\"\"query dots that are within epsilon distance of any ref_dots will be flagged\n",
    "    epsilon distance has the unit of query/ref dots, usually in um (post-expansion)\n",
    "    \"\"\"\n",
    "    from scipy.spatial import cKDTree\n",
    "    index = cKDTree(ref_dots[:,:3])\n",
    "    nn_dists, nn_ids = index.query(query_dots[:,:3], k=1)\n",
    "    \n",
    "    cond = nn_dists < epsilon\n",
    "    print(f\"{cond.sum()}/{len(cond)} = {100*cond.sum()/len(cond):.1f}% removed\")\n",
    "    return query_dots[~cond]"
   ]
  },
  {
   "cell_type": "code",
   "execution_count": null,
   "id": "13a57cf2-23af-44e4-8d29-bb7eea3a9829",
   "metadata": {},
   "outputs": [],
   "source": [
    "query_dots_new = remove_bleed_thru_spots(ref_dots, query_dots, epsilon=3)\n",
    "print(query_dots_new.shape)"
   ]
  },
  {
   "cell_type": "code",
   "execution_count": null,
   "id": "2a489efd-9525-4663-af00-c3829cbb1203",
   "metadata": {},
   "outputs": [],
   "source": [
    "%%time\n",
    "from scipy.spatial import cKDTree\n",
    "index = cKDTree(ref_dots[:,:3])\n",
    "nn_dists, nn_ids = index.query(query_dots[:,:3], k=1)"
   ]
  },
  {
   "cell_type": "code",
   "execution_count": null,
   "id": "94ccd347-6ec8-40fb-8ad6-298512ac9183",
   "metadata": {},
   "outputs": [],
   "source": [
    "nn_ids.shape, nn_dists.shape, ref_dots.shape, query_dots.shape, np.max(nn_ids)"
   ]
  },
  {
   "cell_type": "markdown",
   "id": "d2a92cbb-016a-418e-aee5-738fc7e15626",
   "metadata": {},
   "source": [
    "# find the right scale (distance) to remove"
   ]
  },
  {
   "cell_type": "code",
   "execution_count": null,
   "id": "0e3977e0-90b4-4d79-924e-7512838ee41d",
   "metadata": {},
   "outputs": [],
   "source": [
    "bins = np.linspace(0, 5, 500)\n",
    "hist, _ = np.histogram(nn_dists, bins=bins)\n",
    "plt.plot(bins[1:], hist, '-o')"
   ]
  },
  {
   "cell_type": "code",
   "execution_count": null,
   "id": "4bb01792-fc7e-4401-bdad-8553b6d9e0ae",
   "metadata": {},
   "outputs": [],
   "source": [
    "bins = np.linspace(0, 100, 100)\n",
    "hist, _ = np.histogram(nn_dists, bins=bins)\n",
    "plt.plot(bins[1:], hist, '-o')"
   ]
  },
  {
   "cell_type": "code",
   "execution_count": null,
   "id": "d05ffc85-5e6d-46fd-8e46-7446a422712b",
   "metadata": {},
   "outputs": [],
   "source": [
    "cond = nn_dists < 3"
   ]
  },
  {
   "cell_type": "code",
   "execution_count": null,
   "id": "9eb420fd-fa8a-4ac2-a8b1-6a9866a863dd",
   "metadata": {},
   "outputs": [],
   "source": [
    "epsilon = 3\n",
    "cond = nn_dists < epsilon\n",
    "cond.sum(), len(cond), cond.sum()/len(cond)"
   ]
  },
  {
   "cell_type": "code",
   "execution_count": null,
   "id": "7fd9b3e9-a474-4d67-b9e8-85d82f6d1cec",
   "metadata": {},
   "outputs": [],
   "source": [
    "query_dots[~cond].shape, query_dots[cond].shape"
   ]
  },
  {
   "cell_type": "code",
   "execution_count": null,
   "id": "c32688a2-8d3d-454d-8ce7-c2fed1422526",
   "metadata": {},
   "outputs": [],
   "source": [
    "np.nanpercentile(query_dots, 99, axis=0, ) #.nanmax(axis=0)"
   ]
  },
  {
   "cell_type": "code",
   "execution_count": null,
   "id": "973e440c-1aa8-4fc3-9033-0ecc3f5abcc5",
   "metadata": {},
   "outputs": [],
   "source": [
    "np.nanpercentile(query_dots, 1, axis=0, ) #.nanmax(axis=0)"
   ]
  },
  {
   "cell_type": "code",
   "execution_count": null,
   "id": "716129d2-a696-4e33-9c3a-9428d1bd4839",
   "metadata": {},
   "outputs": [],
   "source": []
  }
 ],
 "metadata": {
  "kernelspec": {
   "display_name": "Python 3 (ipykernel)",
   "language": "python",
   "name": "python3"
  },
  "language_info": {
   "codemirror_mode": {
    "name": "ipython",
    "version": 3
   },
   "file_extension": ".py",
   "mimetype": "text/x-python",
   "name": "python",
   "nbconvert_exporter": "python",
   "pygments_lexer": "ipython3",
   "version": "3.9.12"
  }
 },
 "nbformat": 4,
 "nbformat_minor": 5
}
