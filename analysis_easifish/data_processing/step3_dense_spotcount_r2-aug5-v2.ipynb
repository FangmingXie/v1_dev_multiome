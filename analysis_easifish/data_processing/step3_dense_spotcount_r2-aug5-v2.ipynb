{
 "cells": [
  {
   "cell_type": "code",
   "execution_count": null,
   "id": "93d50a93",
   "metadata": {},
   "outputs": [],
   "source": [
    "\"\"\"\n",
    "Spot counts for cells with highly expressed genes (dense spots)\n",
    "1. Measure total intensity of every ROI after bleed-through correction and background subtraction.\n",
    "2. Calculate the number of spot from total intensity based on unitary spot fluorescence intensity\n",
    "3. Correlate the number of spots (from air-localize) with the total fluorescence intensity/voxel in each ROI and determine a 'cutoff'. \n",
    "   Spot count > cutoff: use spot count converted based on total fluorescence intensity; \n",
    "   Spot count < cutoff: use spot count from Airlocalize\n",
    "\"\"\"\n",
    "\n",
    "import os, sys,z5py\n",
    "import numpy as np\n",
    "import pandas as pd\n",
    "from glob import glob \n",
    "from skimage.measure import regionprops\n",
    "from skimage.io import imread, imsave\n",
    "from os.path import abspath, dirname\n",
    "from scipy import stats\n",
    "from scipy.stats import skewnorm,lognorm\n",
    "from scipy.optimize import minimize\n",
    "import itertools"
   ]
  },
  {
   "cell_type": "code",
   "execution_count": null,
   "id": "332b8d19",
   "metadata": {},
   "outputs": [],
   "source": [
    "### Specify directories to data files\n",
    "input_dir = \"D:\\\\SWAP\\\\Vincent\\\\lt171_FlpO\\\\gene_new_4tile\\\\outputs\"\n",
    "out_dir = os.path.join(input_dir, \"testfull-aug5-v2\")  \n",
    "roi_csv = os.path.join(out_dir, 'roi.csv')\n",
    "f_spots = os.path.join(out_dir, f'spots.csv')\n",
    "out_csv = os.path.join(out_dir, 'spotcount_dense_spot_corrected.csv')\n",
    "\n",
    "# for every gene\n",
    "rounds = ['r1', 'r2']\n",
    "channels = ['c0', 'c1', 'c2', 'c4']\n",
    "\n",
    "# r1 should be the wrappped one\n",
    "fx_spots = [os.path.join(input_dir, f'spots_pooled\\\\spots_{r}_{c}.txt') \n",
    "                 for r, c in itertools.product(rounds, channels)]\n",
    "fx_intns = [os.path.join(input_dir, f'intensities_pooled\\\\{r}_{c}_intensity.csv') \n",
    "                 for r, c in itertools.product(rounds, channels)]\n",
    "\n",
    "for f in fx_spots:\n",
    "    assert os.path.isfile(f)\n",
    "for f in fx_intns:\n",
    "    assert os.path.isfile(f)\n",
    "assert os.path.isfile(f_spots)"
   ]
  },
  {
   "cell_type": "code",
   "execution_count": null,
   "id": "220945cb",
   "metadata": {},
   "outputs": [],
   "source": [
    "roi = pd.read_csv(roi_csv, sep=',', index_col=0)# .set_index('roi')\n",
    "roi"
   ]
  },
  {
   "cell_type": "code",
   "execution_count": null,
   "id": "54fc01c6",
   "metadata": {},
   "outputs": [],
   "source": [
    "spotcount = pd.read_csv(f_spots, sep=',', index_col=0)\n",
    "spotcount.columns = [col.replace('spots_', '') for col in spotcount.columns]\n",
    "spotcount"
   ]
  },
  {
   "cell_type": "code",
   "execution_count": null,
   "id": "09a37747",
   "metadata": {},
   "outputs": [],
   "source": [
    "### Identify unit spot intensity for every gene\n",
    "unit_intns = []\n",
    "for i, (r, c) in enumerate(itertools.product(rounds, channels)):\n",
    "    f = fx_spots[i]\n",
    "    print(r, c, f)\n",
    "    \n",
    "    # (x, y, z, I)\n",
    "    spot=np.loadtxt(f, delimiter=',')\n",
    "    vox=[0.92,0.92,0.84]\n",
    "    spot[:,:3]=spot[:,:3]/vox  # convert from physical unit to pixel unit\n",
    "    ##remove spots on edges (eliminate false detection)\n",
    "    spot = spot[np.logical_and(spot[:,0]<=1500, spot[:,0]>250)]\n",
    "    spot = spot[np.logical_and(spot[:,1]<=1500, spot[:,1]>250)]\n",
    "    spot = spot[np.logical_and(spot[:,2]<=650,  spot[:,2]>150)]   \n",
    "    \n",
    "    ## assign the most frequent intensity as the single-spot-intensity\n",
    "    spot_int = spot[:,3]\n",
    "    spot_int = spot_int[spot_int!=-8.0] # ???\n",
    "    n,b=np.histogram(spot_int, bins=5000)\n",
    "    unit_intn = b[np.argmax(n)]\n",
    "    unit_intns.append(unit_intn)\n",
    "    \n",
    "unit_intns"
   ]
  },
  {
   "cell_type": "code",
   "execution_count": null,
   "id": "e134b222",
   "metadata": {},
   "outputs": [],
   "source": [
    "# df_count is spot count calculated from total fluorescence intensity\n",
    "df_count = pd.DataFrame(index=roi.index, dtype=float)\n",
    "for i, (r, c) in enumerate(itertools.product(rounds, channels)):\n",
    "    f = fx_intns[i]\n",
    "    unit_int = unit_intns[i]\n",
    "    print(r, c, f)\n",
    "\n",
    "    cell_int = pd.read_csv(f, sep=',', index_col=0)\n",
    "    cell_int = cell_int.reindex(roi.index) ## only include intact ROIs###\n",
    "\n",
    "    vec_mean = cell_int['mean_intensity'].values\n",
    "    vec_area = roi['area'].values\n",
    "\n",
    "    # background\n",
    "    n,b = np.histogram(vec_mean, bins=1000)\n",
    "    bg = b[np.argmax(n)]    \n",
    "    \n",
    "    # count\n",
    "    vec_count = np.clip(vec_mean - bg, 0, None)*vec_area/unit_int\n",
    "    df_count[f'{r}_{c}'] = vec_count\n",
    "\n",
    "df_count"
   ]
  },
  {
   "cell_type": "code",
   "execution_count": null,
   "id": "5bcfb869",
   "metadata": {},
   "outputs": [],
   "source": [
    "# proc and save\n",
    "# update spotcount using df_count\n",
    "df_cutoff = spotcount.copy()\n",
    "# loop over genes\n",
    "for i in df_count.columns:\n",
    "    density = spotcount[i]/(roi['area']*2*2*2/(0.92*0.92*0.84)) # convert um^3 to voxel values\n",
    "    cond = density > 0.01 ##this threshold corresponds to spot-spot distance ~1.3 um apart\n",
    "    print(i, cond.sum())\n",
    "    df_cutoff.loc[cond, i] = df_count.loc[cond, i].copy()\n",
    "    \n",
    "df_cutoff"
   ]
  },
  {
   "cell_type": "code",
   "execution_count": null,
   "id": "2ae9d781",
   "metadata": {},
   "outputs": [],
   "source": [
    "df_cutoff.to_csv(out_csv)"
   ]
  },
  {
   "cell_type": "code",
   "execution_count": null,
   "id": "8534bd73",
   "metadata": {},
   "outputs": [],
   "source": [
    "test = pd.read_csv(out_csv, index_col=0)\n",
    "for col in test:\n",
    "    print(np.max(test[col]))\n",
    "test"
   ]
  },
  {
   "cell_type": "code",
   "execution_count": null,
   "id": "c9da72ad",
   "metadata": {},
   "outputs": [],
   "source": []
  }
 ],
 "metadata": {
  "kernelspec": {
   "display_name": "Python 3 (ipykernel)",
   "language": "python",
   "name": "python3"
  },
  "language_info": {
   "codemirror_mode": {
    "name": "ipython",
    "version": 3
   },
   "file_extension": ".py",
   "mimetype": "text/x-python",
   "name": "python",
   "nbconvert_exporter": "python",
   "pygments_lexer": "ipython3",
   "version": "3.9.12"
  }
 },
 "nbformat": 4,
 "nbformat_minor": 5
}
