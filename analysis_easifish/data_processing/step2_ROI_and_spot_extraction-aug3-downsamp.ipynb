{
 "cells": [
  {
   "cell_type": "code",
   "execution_count": null,
   "metadata": {},
   "outputs": [],
   "source": [
    "import os, sys\n",
    "sys.path.append('..')\n",
    "import numpy as np\n",
    "import pandas as pd\n",
    "from glob import glob \n",
    "from skimage.io import imread, imsave\n",
    "from easi_fish import n5_metadata_utils as n5mu\n",
    "from easi_fish import roi_prop, spot, intensity\n",
    "import importlib\n",
    "importlib.reload(spot)\n",
    "importlib.reload(intensity)"
   ]
  },
  {
   "cell_type": "code",
   "execution_count": null,
   "metadata": {},
   "outputs": [],
   "source": [
    "### Specify directories to data files\n",
    "input_dir = \"D:\\\\SWAP\\\\Vincent\\\\lt171_FlpO\\\\gene_new_4tile\\\\outputs\"\n",
    "output_dir = \"D:\\\\SWAP\\\\Vincent\\\\lt171_FlpO\\\\gene_new_4tile\\\\outputs\\\\test-aug4\"\n",
    "\n",
    "# fixed image (directory - n5 format)\n",
    "img_dir = os.path.join(input_dir, \"r2\\\\export_sigma3.n5\")\n",
    "# segmentation mask (tif format accepted here)\n",
    "lb_dir  = os.path.join(input_dir, \"r2\\\\segmentation\\\\lt171_gene_4tile_r2-c3.tif\" ) \n",
    "# spot dir \n",
    "spot_dir_r1 = os.path.join(input_dir, \"r1\\\\spots\")\n",
    "spot_dir_r2 = os.path.join(input_dir, \"r2\\\\spots\")\n",
    "# bad roi\n",
    "bad_roi = os.path.join(output_dir, \"bad_roi_list.npy\")\n",
    "### end input\n",
    "\n",
    "# output\n",
    "out_goodroi = os.path.join(output_dir, \"roi.csv\") \n",
    "out_spots_r1 = os.path.join(output_dir, \"spots_r1.csv\")\n",
    "out_spots_r2 = os.path.join(output_dir, \"spots_r2.csv\")\n",
    "out_intensity = os.path.join(output_dir, \"intensity_c0_r2.csv\")"
   ]
  },
  {
   "cell_type": "code",
   "execution_count": null,
   "metadata": {},
   "outputs": [],
   "source": [
    "### Load segmentation mask\n",
    "### Get list of ROIs that are fully or partially outside the mask \n",
    "### Make sure to only include ROIs that are intact and in the overlapping regions across all rounds of FISH\n",
    "lb=imread(lb_dir)\n",
    "roi = np.max(lb)\n",
    "print(\"number of ROIs in total:\",roi)\n",
    "\n",
    "bad_roi_list=np.load(bad_roi)\n",
    "print('number of bad ROIs:', len(bad_roi_list))"
   ]
  },
  {
   "cell_type": "code",
   "execution_count": null,
   "metadata": {},
   "outputs": [],
   "source": [
    "### Extract ROI properties\n",
    "print(lb.shape)\n",
    "lb = lb[500:600,500:600,500:600]\n",
    "# lb.shape # z, x,y "
   ]
  },
  {
   "cell_type": "code",
   "execution_count": null,
   "metadata": {},
   "outputs": [],
   "source": [
    "%%time\n",
    "### Extract ROI properties\n",
    "df = roi_prop.roi_prop(lb)"
   ]
  },
  {
   "cell_type": "code",
   "execution_count": null,
   "metadata": {},
   "outputs": [],
   "source": [
    "### Remove bad ROIs and save the file\n",
    "df_filtered = df.loc[~df['roi'].isin(bad_roi_list)]\n",
    "df_filtered.roi = df_filtered.roi.astype(int)\n",
    "df_filtered.to_csv(out_goodroi)"
   ]
  },
  {
   "cell_type": "code",
   "execution_count": null,
   "metadata": {},
   "outputs": [],
   "source": [
    "for spot_dir, out_spots in zip([spot_dir_r1, spot_dir_r2], [out_spots_r1, out_spots_r2]):\n",
    "    ### Lipofuscin subtraction (optional)\n",
    "    # Load spot files for lipofuscin subtraction\n",
    "    channel_1=np.loadtxt(os.path.join(spot_dir, 'spots_c0.txt'), delimiter=',')\n",
    "    channel_2=np.loadtxt(os.path.join(spot_dir, 'spots_c1.txt'), delimiter=',')\n",
    "    # Identify lipofuscin spots\n",
    "    c0,c1,pAind,pBind=spot.rm_lipofuscin(channel_1,channel_2)\n",
    "    # Remove lipofuscin spots\n",
    "    true_pos_c0 = np.delete(channel_1, pAind, axis=0)\n",
    "    true_pos_c1 = np.delete(channel_2, pBind, axis=0)\n",
    "\n",
    "    ### spot extraction and save file\n",
    "    spotcount=spot.spot_counts(lb, spot_dir, verbose=False)\n",
    "    spotcount.to_csv(out_spots)"
   ]
  },
  {
   "cell_type": "code",
   "execution_count": null,
   "metadata": {},
   "outputs": [],
   "source": [
    "### Intensity measurement and save file\n",
    "df_intensity=intensity.measure_intensity(lb, img_dir, 'c0', cropdim=(500,600,500,600,500,600))\n",
    "df_intensity.to_csv(out_intensity)"
   ]
  },
  {
   "cell_type": "code",
   "execution_count": null,
   "metadata": {},
   "outputs": [],
   "source": []
  }
 ],
 "metadata": {
  "kernelspec": {
   "display_name": "Python 3 (ipykernel)",
   "language": "python",
   "name": "python3"
  },
  "language_info": {
   "codemirror_mode": {
    "name": "ipython",
    "version": 3
   },
   "file_extension": ".py",
   "mimetype": "text/x-python",
   "name": "python",
   "nbconvert_exporter": "python",
   "pygments_lexer": "ipython3",
   "version": "3.9.12"
  }
 },
 "nbformat": 4,
 "nbformat_minor": 2
}
