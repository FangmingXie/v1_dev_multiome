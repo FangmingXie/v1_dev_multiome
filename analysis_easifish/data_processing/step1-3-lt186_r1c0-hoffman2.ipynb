{
 "cells": [
  {
   "cell_type": "code",
   "execution_count": null,
   "id": "b3becb0f",
   "metadata": {
    "tags": []
   },
   "outputs": [],
   "source": [
    "import os, sys\n",
    "sys.path.append('..')\n",
    "from os.path import abspath, dirname\n",
    "import zarr\n",
    "import z5py\n",
    "import numpy as np\n",
    "import pandas as pd\n",
    "from glob import glob \n",
    "from skimage.measure import regionprops\n",
    "from skimage.io import imread, imsave\n",
    "from scipy import stats\n",
    "from scipy.stats import skewnorm, lognorm\n",
    "from scipy.optimize import minimize\n",
    "import itertools\n",
    "\n",
    "from easi_fish import n5_metadata_utils as n5mu\n",
    "from easi_fish import roi_prop, spot, intensity\n",
    "import warnings\n",
    "warnings.filterwarnings('ignore')\n",
    "\n",
    "import importlib\n",
    "importlib.reload(spot)\n",
    "importlib.reload(roi_prop)\n",
    "importlib.reload(intensity)"
   ]
  },
  {
   "cell_type": "code",
   "execution_count": null,
   "id": "3d8d47bc-7198-4dd5-9e7a-192c20214bf5",
   "metadata": {
    "tags": []
   },
   "outputs": [],
   "source": [
    "import matplotlib.pyplot as plt\n",
    "import seaborn as sns"
   ]
  },
  {
   "cell_type": "markdown",
   "id": "288d5d2b-eb54-4aa8-885f-16f68ed8c9a8",
   "metadata": {},
   "source": [
    "Spot counts for cells with highly expressed genes (dense spots)\n",
    "1. Measure total intensity of every ROI after bleed-through correction and background subtraction.\n",
    "2. Calculate the number of spot from total intensity based on unit-spot intensity\n",
    "3. Correlate the number of spots (from air-localize) with the total fluorescence intensity/voxel in each ROI and determine a 'cutoff'. \n",
    "   Spot count > cutoff: use spot count converted based on total fluorescence intensity; \n",
    "   Spot count < cutoff: use spot count from Airlocalize"
   ]
  },
  {
   "cell_type": "markdown",
   "id": "6278a8d4-b2d9-47e0-b1bf-1da0c98b3164",
   "metadata": {},
   "source": [
    "### On units\n",
    "- all images are based on pixel units - \n",
    "- roi meta file (output) are based on physical unit (um - pre-expansion)\n",
    "- spots files are in um (post-expansion)"
   ]
  },
  {
   "cell_type": "code",
   "execution_count": null,
   "id": "d3d89d9a",
   "metadata": {
    "tags": []
   },
   "outputs": [],
   "source": [
    "## input\n",
    "theround = 'r1'\n",
    "rounds = [theround]\n",
    "channels = ['c0'] #, 'c1', 'c2', 'c4']\n",
    "lb_scale = 's3'\n",
    "lb_res = [1.84,1.84,1.68]\n",
    "ex = 2\n",
    "\n",
    "ddir = '/u/home/f/f7xiesnm/project-zipursky/easifish/lt186'\n",
    "output_dir = ddir + '/proc'\n",
    "\n",
    "rdir = ddir + f\"/outputs/{theround}\"\n",
    "\n",
    "# fixed image\n",
    "fix_dir = rdir + \"/stitching/export.n5\"\n",
    "subpath='/c3/s3' \n",
    "\n",
    "# segmentation mask (tif format accepted here)\n",
    "lb_dir  = rdir + f\"/segmentation/{theround}-c3.tif\"\n",
    "\n",
    "# spot dir for every gene\n",
    "fx_spots = [rdir + f'/test_v0/spots/spots_{c}.txt' \n",
    "                for c in channels]\n",
    "fx_intns = [rdir + f'/test_v0/intensities/{theround}_{c}_intensity.csv' \n",
    "                for c in channels]\n",
    "\n",
    "for f in fx_spots:\n",
    "    assert os.path.isfile(f)\n",
    "for f in fx_intns:\n",
    "    assert os.path.isfile(f)\n",
    "\n",
    "## output\n",
    "out_badroi = os.path.join(output_dir, 'bad_roi_list.npy')\n",
    "out_allroi = os.path.join(output_dir, \"roi_all.csv\") \n",
    "out_roi = os.path.join(output_dir, \"roi.csv\") \n",
    "out_spots = os.path.join(output_dir, \"spotcount.csv\")\n",
    "out_spots_intn = os.path.join(output_dir, \"spotcount_intn.csv\")\n",
    "out_spots_merged = os.path.join(output_dir, 'spotcount_merged.csv')"
   ]
  },
  {
   "cell_type": "code",
   "execution_count": null,
   "id": "06c53b42-c8ad-4379-a404-dc87fc9f933b",
   "metadata": {
    "tags": []
   },
   "outputs": [],
   "source": [
    "REMOVE_BLEEDTHRU = False\n",
    "\n",
    "# remove bleed through!\n",
    "if REMOVE_BLEEDTHRU:\n",
    "    \n",
    "    bleed_thru_epsilon = 1\n",
    "    c_qry = 'c0'\n",
    "    c_ref = 'c4'\n",
    "\n",
    "    f_ref = rdir+f'/spots/spots_{c_ref}.txt'\n",
    "    f_qry = rdir+f'/spots/spots_{c_qry}.txt'\n",
    "    f_qry_kept = os.path.join(output_dir, f'kept_spots_{c_qry}.txt')\n",
    "\n",
    "    ref_dots = np.loadtxt(f_ref, delimiter=',')\n",
    "    qry_dots = np.loadtxt(f_qry, delimiter=',')\n",
    "    qry_kept, qry_removed = spot.remove_bleed_thru_spots(ref_dots, qry_dots, epsilon=bleed_thru_epsilon)\n",
    "\n",
    "    # save \n",
    "    np.savetxt(f_qry_kept, qry_kept, delimiter=\",\")\n",
    "    \n",
    "    ### TODO - replace f_qry with f_qry_kept in spot list"
   ]
  },
  {
   "cell_type": "code",
   "execution_count": null,
   "id": "698b1837",
   "metadata": {
    "tags": []
   },
   "outputs": [],
   "source": [
    "%%time\n",
    "# output dir\n",
    "if not os.path.isdir(output_dir):\n",
    "    print(output_dir)\n",
    "    os.mkdir(output_dir)\n",
    "    \n",
    "# image size in pixel (x, y, z)\n",
    "grid = n5mu.read_voxel_grid(fix_dir, subpath)\n",
    "# voxel resolution in µm (x, y, z) (post-expansion)\n",
    "vox  = n5mu.read_voxel_spacing(fix_dir, subpath)\n",
    "# image size in physical space (x, y, z) (post-expansion)\n",
    "size = grid*vox\n",
    "print('subpath: ', subpath)\n",
    "print('voxel size: ', vox)\n",
    "print('image size (pixel): ', grid)\n",
    "print('image size (um post-ex): ', size)\n",
    "\n",
    "# get image data\n",
    "# print(\"loading images...\")\n",
    "# fix = zarr.open(store=zarr.N5Store(fix_dir), mode='r')     \n",
    "# img1 = fix[subpath][:, :, :]\n",
    "\n",
    "# get seg\n",
    "lb = imread(lb_dir)\n",
    "roi = np.max(lb)\n",
    "print(lb.shape)\n",
    "print('num roi: ', roi)\n",
    "\n",
    "# mask=np.full((grid[2], grid[1], grid[0]),1)\n",
    "# for reg_dir in reg_dirs:\n",
    "#     reg = zarr.open(store=zarr.N5Store(reg_dir), mode='r')     \n",
    "#     img2 = reg[subpath][:, :, :]\n",
    "#     print(\"image loaded\")\n",
    "#     mask[img2==0]=0\n",
    "    \n",
    "# # imsave(out_mask, mask)\n",
    "# print(\"mask generated\")\n",
    "# print(\"mask dimension is:\", mask.shape)\n",
    "\n",
    "# # # Get list of ROIs that are fully or partially outside the mask \n",
    "# ### Make sure to only include ROIs that are intact and in the overlapping regions across all rounds of FISH\n",
    "# bad_roi=np.unique(lb[mask==0])\n",
    "# if bad_roi[0] == 0:\n",
    "#     bad_roi = bad_roi[1:]\n",
    "# np.save(out_badroi, bad_roi)\n",
    "# print(\"# of ROIs rejected:\", len(bad_roi))"
   ]
  },
  {
   "cell_type": "code",
   "execution_count": null,
   "id": "7c0f7f66",
   "metadata": {
    "tags": []
   },
   "outputs": [],
   "source": [
    "%%time\n",
    "# get cell locations (in um - pre-expansion) from segmentation mask\n",
    "roi_meta_all = roi_prop.roi_prop_v2(lb, lb_res, ex)\n",
    "roi_meta_all.to_csv(out_allroi)\n",
    "\n",
    "roi_meta = roi_meta_all.set_index('roi').copy()\n",
    "roi_meta = roi_meta #.loc[roi_meta.index.difference(bad_roi)]\n",
    "roi_meta.to_csv(out_roi)"
   ]
  },
  {
   "cell_type": "code",
   "execution_count": null,
   "id": "dd767d92-47eb-449b-9455-fc9522d2fc01",
   "metadata": {
    "tags": []
   },
   "outputs": [],
   "source": [
    "%%time\n",
    "\n",
    "# count spots for every cell (roi)\n",
    "\n",
    "# all labels\n",
    "lb_id = np.unique(lb[lb!=0]) # exclude 0\n",
    "lb_id = np.hstack([[0], lb_id]) # include 0 - noncell\n",
    "# selected cells\n",
    "lb_id_selected = roi_meta.index.values\n",
    "\n",
    "# prep\n",
    "spotcount = pd.DataFrame(index=lb_id_selected, dtype=int)\n",
    "spotcount_intn = pd.DataFrame(index=lb_id_selected, dtype=float)\n",
    "\n",
    "for i, (r, c) in enumerate(itertools.product(rounds, channels)):\n",
    "    f_intns = fx_intns[i]\n",
    "    f_spots = fx_spots[i]\n",
    "    print(r, c, f_spots, f_intns)\n",
    "    \n",
    "    # spots\n",
    "    spots_rc = np.loadtxt(f_spots, delimiter=',')\n",
    "    \n",
    "    # filter\n",
    "    # spots_rc = spots_rc[spots_rc[:,3] > 200]\n",
    "        \n",
    "    # count spots\n",
    "    res = spot.spot_counts_worker(lb, spots_rc, lb_res,\n",
    "                                  lb_id=lb_id, \n",
    "                                  remove_noncell=True, \n",
    "                                  selected_roi_list=lb_id_selected,\n",
    "                                  )\n",
    "    spotcount[f\"{r}_{c}\"] = res \n",
    "    \n",
    "    # count spots by intensity\n",
    "    res = spot.get_spot_counts_from_intn(f_intns, f_spots, roi_meta, lb_res)\n",
    "    spotcount_intn[f'{r}_{c}'] = res\n",
    "    \n",
    "# save results\n",
    "spotcount.to_csv(out_spots)\n",
    "spotcount_intn.to_csv(out_spots_intn)"
   ]
  },
  {
   "cell_type": "code",
   "execution_count": null,
   "id": "34116fe0",
   "metadata": {
    "tags": []
   },
   "outputs": [],
   "source": [
    "# reconcile two spot counts\n",
    "dist_cutoff = 2 # um pre-expansion\n",
    "\n",
    "# for cells higher than 0.01spot/voxel (corresponding to spot separation on average ∼1.3 μm apart)\n",
    "## doesn't make sense\n",
    "# volumes = (roi_meta['area']*(ex**3)/np.product(lb_res)) # convert um^3 to voxel values - why why why s3 (originally s2)\n",
    "# density = spotcount.divide(volumes, axis=0)\n",
    "# cond = density <= 0.01  ##this threshold corresponds to spot-spot distance ~1.3 um apart\n",
    "\n",
    "density = spotcount.divide(roi_meta['area'], axis=0)\n",
    "cond = density < 1/(dist_cutoff**3) # keep spots if density is low\n",
    "print(\"# cells have high density: \", (~cond).sum()) \n",
    "spotcount_merged = spotcount.where(cond, spotcount_intn)  # replace where the condition is False\n",
    "spotcount_merged.to_csv(out_spots_merged)\n",
    "spotcount_merged"
   ]
  },
  {
   "cell_type": "markdown",
   "id": "3e60b4f6-e19b-41df-a780-3b6502360813",
   "metadata": {},
   "source": [
    "# check"
   ]
  },
  {
   "cell_type": "code",
   "execution_count": null,
   "id": "1a284160-c185-44c8-ace7-b774669a35d0",
   "metadata": {
    "tags": []
   },
   "outputs": [],
   "source": [
    "sns.histplot(spots_rc[:,3], bins=np.linspace(50,1000,50))"
   ]
  },
  {
   "cell_type": "code",
   "execution_count": null,
   "id": "d64b22da-7bed-4769-943b-a1652aa3698a",
   "metadata": {
    "tags": []
   },
   "outputs": [],
   "source": [
    "plt.scatter(spots_rc[:,0]/ex, spots_rc[:,1]/ex, s=1, edgecolor='none')\n",
    "plt.gca().set_aspect('equal')"
   ]
  },
  {
   "cell_type": "code",
   "execution_count": null,
   "id": "6f18e72c-41d6-4337-88ea-98412e1e19bd",
   "metadata": {
    "tags": []
   },
   "outputs": [],
   "source": [
    "plt.scatter(spots_rc[:,0]/ex, spots_rc[:,2]/ex, s=1, edgecolor='none')\n",
    "plt.gca().set_aspect('equal')"
   ]
  },
  {
   "cell_type": "code",
   "execution_count": null,
   "id": "329acddf-101d-4bd9-8aea-a7ff4e4f3bf0",
   "metadata": {
    "tags": []
   },
   "outputs": [],
   "source": [
    "plt.scatter(spots_rc[:,1]/ex, spots_rc[:,2]/ex, s=1, edgecolor='none')\n",
    "plt.gca().set_aspect('equal')"
   ]
  },
  {
   "cell_type": "code",
   "execution_count": null,
   "id": "bb4512d0-8ecd-40b4-b690-fa62ed6bb7d8",
   "metadata": {
    "tags": []
   },
   "outputs": [],
   "source": [
    "plt.scatter(spotcount.iloc[:,0], \n",
    "            spotcount_intn.iloc[:,0],\n",
    "           )"
   ]
  },
  {
   "cell_type": "code",
   "execution_count": null,
   "id": "22206841-4f35-469e-a75e-aaf6e553df6d",
   "metadata": {
    "tags": []
   },
   "outputs": [],
   "source": [
    "def plot_reverse_cumsum(counts, bins=np.arange(0,11,1)):\n",
    "    \"\"\"\n",
    "    \"\"\"\n",
    "    cnts, bins = np.histogram(counts, bins)\n",
    "    fig, ax = plt.subplots()\n",
    "    ax.plot(bins[1:], len(counts)-np.cumsum(cnts), '-o')\n",
    "    ax.set_xlabel('num spots')\n",
    "    ax.set_ylabel('num cells (cumulative)')\n",
    "\n",
    "    ax2 = ax.twinx()\n",
    "    ax2.plot(bins[1:], (len(counts)-np.cumsum(cnts))/len(counts), '-o')\n",
    "    ax2.set_ylabel('fraction of cells')\n",
    "    \n",
    "    return fig"
   ]
  },
  {
   "cell_type": "code",
   "execution_count": null,
   "id": "0a59e69b-35b6-49d8-b812-8a6c7b86f350",
   "metadata": {
    "tags": []
   },
   "outputs": [],
   "source": [
    "counts = spotcount.iloc[:,0]\n",
    "print(len(counts), (counts>=1).sum(), (counts>=2).sum())\n",
    "\n",
    "fig = plot_reverse_cumsum(counts)"
   ]
  },
  {
   "cell_type": "code",
   "execution_count": null,
   "id": "30462d9e-c220-414b-9944-a47b9c83c950",
   "metadata": {
    "tags": []
   },
   "outputs": [],
   "source": [
    "table = roi_meta.join(spotcount) #_merged)\n",
    "table = table.join(spotcount_intn, lsuffix='', rsuffix='_intn') #_merged)\n",
    "table"
   ]
  },
  {
   "cell_type": "code",
   "execution_count": null,
   "id": "0fbc5e6e-28a2-49ec-befb-186615e38e5d",
   "metadata": {
    "tags": []
   },
   "outputs": [],
   "source": [
    "cond = table['r1_c0']>2\n",
    "\n",
    "fig, axs = plt.subplots(1, 3, figsize=(3*8,1*6))\n",
    "ax = axs[0]\n",
    "g = ax.scatter(table['x'], table['y'], c='lightgray', s=1, edgecolor='none')\n",
    "g = ax.scatter(table['x'][cond], table['y'][cond], c='red', s=3, edgecolor='none')\n",
    "# fig.colorbar(g, shrink=0.3)\n",
    "ax.set_aspect('equal')\n",
    "\n",
    "ax = axs[1]\n",
    "g = ax.scatter(table['x'], table['z'], c='lightgray', s=1, edgecolor='none')\n",
    "g = ax.scatter(table['x'][cond], table['z'][cond], c='red', s=3, edgecolor='none')\n",
    "# fig.colorbar(g, shrink=0.3)\n",
    "ax.set_aspect('equal')\n",
    "\n",
    "ax = axs[2]\n",
    "g = ax.scatter(table['y'], table['z'], c='lightgray', s=1, edgecolor='none')\n",
    "g = ax.scatter(table['y'][cond], table['z'][cond], c='red', s=3, edgecolor='none')\n",
    "# fig.colorbar(g, shrink=0.3)\n",
    "ax.set_aspect('equal')\n",
    "plt.show()"
   ]
  },
  {
   "cell_type": "code",
   "execution_count": null,
   "id": "71dfaba3-5aeb-444f-bd57-c3a62e775d88",
   "metadata": {},
   "outputs": [],
   "source": [
    "\n",
    "cond = table['r1_c0_intn']>5\n",
    "\n",
    "fig, axs = plt.subplots(1, 3, figsize=(3*8,1*6))\n",
    "ax = axs[0]\n",
    "g = ax.scatter(table['x'], table['y'], c='lightgray', s=1, edgecolor='none')\n",
    "g = ax.scatter(table['x'][cond], table['y'][cond], c='red', s=3, edgecolor='none')\n",
    "# fig.colorbar(g, shrink=0.3)\n",
    "ax.set_aspect('equal')\n",
    "\n",
    "ax = axs[1]\n",
    "g = ax.scatter(table['x'], table['z'], c='lightgray', s=1, edgecolor='none')\n",
    "g = ax.scatter(table['x'][cond], table['z'][cond], c='red', s=3, edgecolor='none')\n",
    "# fig.colorbar(g, shrink=0.3)\n",
    "ax.set_aspect('equal')\n",
    "\n",
    "ax = axs[2]\n",
    "g = ax.scatter(table['y'], table['z'], c='lightgray', s=1, edgecolor='none')\n",
    "g = ax.scatter(table['y'][cond], table['z'][cond], c='red', s=3, edgecolor='none')\n",
    "# fig.colorbar(g, shrink=0.3)\n",
    "ax.set_aspect('equal')\n",
    "plt.show()"
   ]
  },
  {
   "cell_type": "code",
   "execution_count": null,
   "id": "9ddea9cc-5022-4b33-bc4f-fdfe32137af7",
   "metadata": {
    "tags": []
   },
   "outputs": [],
   "source": [
    "\n",
    "for i in [0, 1,2,5,10]:\n",
    "    cond = table['r1_c0']>=i\n",
    "    \n",
    "    fig, axs = plt.subplots(1, 3, figsize=(3*8,1*6))\n",
    "    fig.suptitle(f\">= {i} spots\")\n",
    "    ax = axs[0]\n",
    "    g = ax.scatter(table['x'], table['y'], c='lightgray', s=1, edgecolor='none')\n",
    "    g = ax.scatter(table['x'][cond], table['y'][cond], c='red', s=3, edgecolor='none')\n",
    "    # fig.colorbar(g, shrink=0.3)\n",
    "    ax.set_aspect('equal')\n",
    "\n",
    "    ax = axs[1]\n",
    "    g = ax.scatter(table['x'], table['z'], c='lightgray', s=1, edgecolor='none')\n",
    "    g = ax.scatter(table['x'][cond], table['z'][cond], c='red', s=3, edgecolor='none')\n",
    "    # fig.colorbar(g, shrink=0.3)\n",
    "    ax.set_aspect('equal')\n",
    "\n",
    "    ax = axs[2]\n",
    "    g = ax.scatter(table['y'], table['z'], c='lightgray', s=1, edgecolor='none')\n",
    "    g = ax.scatter(table['y'][cond], table['z'][cond], c='red', s=3, edgecolor='none')\n",
    "    # fig.colorbar(g, shrink=0.3)\n",
    "    ax.set_aspect('equal')\n",
    "    plt.show()\n"
   ]
  },
  {
   "cell_type": "code",
   "execution_count": null,
   "id": "97836aa4-b8c6-4817-821f-a3f140e6c3dd",
   "metadata": {},
   "outputs": [],
   "source": []
  },
  {
   "cell_type": "code",
   "execution_count": null,
   "id": "d8deb631-a87b-40ad-bd31-979d53596ec4",
   "metadata": {},
   "outputs": [],
   "source": []
  }
 ],
 "metadata": {
  "kernelspec": {
   "display_name": "Python 3 (ipykernel)",
   "language": "python",
   "name": "python3"
  },
  "language_info": {
   "codemirror_mode": {
    "name": "ipython",
    "version": 3
   },
   "file_extension": ".py",
   "mimetype": "text/x-python",
   "name": "python",
   "nbconvert_exporter": "python",
   "pygments_lexer": "ipython3",
   "version": "3.9.16"
  }
 },
 "nbformat": 4,
 "nbformat_minor": 5
}
