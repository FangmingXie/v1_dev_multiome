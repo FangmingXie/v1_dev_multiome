{
 "cells": [
  {
   "cell_type": "markdown",
   "id": "8c753145-1a59-480d-abb2-60f2fa3f416f",
   "metadata": {},
   "source": [
    "# Inputs\n",
    "---"
   ]
  },
  {
   "cell_type": "code",
   "execution_count": 2,
   "id": "2b6aeb01",
   "metadata": {},
   "outputs": [],
   "source": [
    "import numpy as np, zarr, nrrd\n",
    "# alignment functions\n",
    "from bigstream.align import alignment_pipeline\n",
    "from bigstream.transform import apply_transform\n",
    "import tifffile\n",
    "\n",
    "import seaborn as sns\n",
    "import matplotlib.pyplot as plt"
   ]
  },
  {
   "cell_type": "code",
   "execution_count": 3,
   "id": "70808053-ae97-493a-99c5-4e0746b78785",
   "metadata": {
    "tags": []
   },
   "outputs": [],
   "source": [
    "from scipy.stats import mode"
   ]
  },
  {
   "cell_type": "code",
   "execution_count": 4,
   "id": "f9e34109-0b59-441f-bb7a-2f75c90d30eb",
   "metadata": {
    "tags": []
   },
   "outputs": [],
   "source": [
    "p = '/u/home/f/f7xiesnm/project-zipursky/data/hold/lt186_r1_bs'\n",
    "outdir = '/u/home/f/f7xiesnm/project-zipursky/easifish/results/viz_fuse'\n",
    "!mkdir -p $outdir"
   ]
  },
  {
   "cell_type": "code",
   "execution_count": 5,
   "id": "5d71f6f4-5204-4d2d-8790-249b7b7b1fa3",
   "metadata": {},
   "outputs": [],
   "source": [
    "# fix_path = p + '/dataset.n5'\n",
    "# # fix_out = outdir + '/lt186_raw.tiff'\n",
    "# fix_zarr = zarr.open(store=zarr.N5Store(fix_path), mode='r')\n",
    "# fix = fix_zarr['setup0/timepoint0/s0']\n",
    "# fix.shape"
   ]
  },
  {
   "cell_type": "code",
   "execution_count": 6,
   "id": "23e91a1f-8b16-4138-bbb1-6743fd71941c",
   "metadata": {
    "tags": []
   },
   "outputs": [],
   "source": [
    "# fus_path = p + '/fused.n5'\n",
    "fus_path = p + '/export.n5'\n",
    "fus_out = outdir + '/lt186_export.tiff'\n",
    "fus_zarr = zarr.open(store=zarr.N5Store(fus_path), mode='r')\n",
    "# fus0 = fus_zarr['c3/s0']\n",
    "# fus1 = fus_zarr['c3/s4']\n",
    "fus = fus_zarr['c3/s4']\n"
   ]
  },
  {
   "cell_type": "code",
   "execution_count": 7,
   "id": "67783886-0cc4-4a80-9da0-f7e77a65e5be",
   "metadata": {
    "tags": []
   },
   "outputs": [],
   "source": [
    "# fus0.shape, fus1.shape"
   ]
  },
  {
   "cell_type": "code",
   "execution_count": 8,
   "id": "18ab375f-466f-4b81-bda8-4cdbbc281c11",
   "metadata": {
    "tags": []
   },
   "outputs": [
    {
     "data": {
      "text/plain": [
       "(341, 451, 563)"
      ]
     },
     "execution_count": 8,
     "metadata": {},
     "output_type": "execute_result"
    }
   ],
   "source": [
    "fus.shape"
   ]
  },
  {
   "cell_type": "code",
   "execution_count": null,
   "id": "a636cde1-f28b-4733-b364-cbe270be76ad",
   "metadata": {},
   "outputs": [],
   "source": []
  },
  {
   "cell_type": "code",
   "execution_count": null,
   "id": "bcb59875-0c1f-45f1-b42f-3be60b840f4b",
   "metadata": {},
   "outputs": [],
   "source": []
  },
  {
   "cell_type": "code",
   "execution_count": null,
   "id": "bc769c45-3939-4f51-8b04-5104d97072fb",
   "metadata": {},
   "outputs": [],
   "source": []
  },
  {
   "cell_type": "code",
   "execution_count": 9,
   "id": "da896a65-cec1-434a-99f7-5e99b890d0b5",
   "metadata": {},
   "outputs": [],
   "source": [
    "# fus[0,:,:]"
   ]
  },
  {
   "cell_type": "code",
   "execution_count": 10,
   "id": "0ff733af-138d-4173-93d4-5689a1b422d8",
   "metadata": {
    "tags": []
   },
   "outputs": [],
   "source": [
    "# fus[1,:,:]"
   ]
  },
  {
   "cell_type": "code",
   "execution_count": 11,
   "id": "d20a9d29-6e8b-4603-99aa-97f6d4fc7cb3",
   "metadata": {
    "tags": []
   },
   "outputs": [],
   "source": [
    "# fus[2,:,:]"
   ]
  },
  {
   "cell_type": "code",
   "execution_count": 12,
   "id": "57241fd7-168a-4712-9f85-3c32bc986a84",
   "metadata": {
    "tags": []
   },
   "outputs": [],
   "source": [
    "# np.min(fus), np.max(fus), mode(fus, axis=None)"
   ]
  },
  {
   "cell_type": "code",
   "execution_count": null,
   "id": "7f7862b8-c4f9-4dc1-8da2-b1e2f20cf62c",
   "metadata": {},
   "outputs": [],
   "source": []
  },
  {
   "cell_type": "code",
   "execution_count": null,
   "id": "40bec081-d256-47b1-b5f0-128243bb02dc",
   "metadata": {},
   "outputs": [],
   "source": []
  },
  {
   "cell_type": "code",
   "execution_count": null,
   "id": "bda780ec-a634-418c-bcf8-0b472f44dcea",
   "metadata": {},
   "outputs": [],
   "source": []
  },
  {
   "cell_type": "code",
   "execution_count": null,
   "id": "db84bb34-2c0d-48e9-b6d7-4fdc140c109a",
   "metadata": {},
   "outputs": [],
   "source": []
  },
  {
   "cell_type": "code",
   "execution_count": 13,
   "id": "11ddfc2a-96cf-411b-ae8b-dee7c9184b5c",
   "metadata": {
    "tags": []
   },
   "outputs": [],
   "source": [
    "fus_out = outdir + '/lt186_c3_s4_fused.tiff'\n",
    "fus = fus_zarr['c3/s4']\n",
    "tifffile.imwrite(fus_out, fus)"
   ]
  },
  {
   "cell_type": "code",
   "execution_count": null,
   "id": "38eedde1-285f-45c1-afe1-2896af34276d",
   "metadata": {},
   "outputs": [],
   "source": []
  },
  {
   "cell_type": "code",
   "execution_count": null,
   "id": "ef478081-2b8a-4720-88ab-7a0d0a98a717",
   "metadata": {},
   "outputs": [],
   "source": []
  },
  {
   "cell_type": "code",
   "execution_count": null,
   "id": "3f38dd67-6cfa-4111-a8e6-71ff1e20aa40",
   "metadata": {},
   "outputs": [],
   "source": []
  },
  {
   "cell_type": "code",
   "execution_count": null,
   "id": "bb978168-2f0b-43c6-b460-dd85a844e8de",
   "metadata": {},
   "outputs": [],
   "source": []
  }
 ],
 "metadata": {
  "kernelspec": {
   "display_name": "napari",
   "language": "python",
   "name": "napari"
  },
  "language_info": {
   "codemirror_mode": {
    "name": "ipython",
    "version": 3
   },
   "file_extension": ".py",
   "mimetype": "text/x-python",
   "name": "python",
   "nbconvert_exporter": "python",
   "pygments_lexer": "ipython3",
   "version": "3.9.16"
  }
 },
 "nbformat": 4,
 "nbformat_minor": 5
}
