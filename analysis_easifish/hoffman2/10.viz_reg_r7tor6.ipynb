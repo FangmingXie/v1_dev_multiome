{
 "cells": [
  {
   "cell_type": "markdown",
   "id": "8c753145-1a59-480d-abb2-60f2fa3f416f",
   "metadata": {},
   "source": [
    "# Inputs\n",
    "---"
   ]
  },
  {
   "cell_type": "code",
   "execution_count": 1,
   "id": "2b6aeb01",
   "metadata": {},
   "outputs": [],
   "source": [
    "import numpy as np, zarr, nrrd\n",
    "# alignment functions\n",
    "from bigstream.align import alignment_pipeline\n",
    "from bigstream.transform import apply_transform\n",
    "import tifffile\n",
    "\n",
    "import seaborn as sns\n",
    "import matplotlib.pyplot as plt"
   ]
  },
  {
   "cell_type": "code",
   "execution_count": 2,
   "id": "f9e34109-0b59-441f-bb7a-2f75c90d30eb",
   "metadata": {
    "tags": []
   },
   "outputs": [],
   "source": [
    "p = '/u/home/f/f7xiesnm/project-zipursky/easifish/lt186/outputs'\n",
    "outdir = '/u/home/f/f7xiesnm/project-zipursky/easifish/results/check_r7tor6'\n",
    "!mkdir -p $outdir"
   ]
  },
  {
   "cell_type": "code",
   "execution_count": 3,
   "id": "5d71f6f4-5204-4d2d-8790-249b7b7b1fa3",
   "metadata": {},
   "outputs": [
    {
     "data": {
      "text/plain": [
       "((312, 463, 568), (287, 459, 568), (312, 463, 568), (312, 463, 568))"
      ]
     },
     "execution_count": 3,
     "metadata": {},
     "output_type": "execute_result"
    }
   ],
   "source": [
    "fix_path = p + '/r6/stitching/export.n5'\n",
    "mov_path = p + '/r7/stitching/export.n5'\n",
    "wrp_path = p + '/r7/registration/r7-to-r6/warped'\n",
    "aff_path = p + '/r7/registration/r7-to-r6/aff/ransac_affine'\n",
    "\n",
    "fix_out = outdir + '/r6_down2x.tiff'\n",
    "mov_out = outdir + '/r7_down2x.tiff'\n",
    "wrp_out = outdir + '/r7tor6_down2x.tiff'\n",
    "aff_out = outdir + '/r7tor6_aff_down2x.tiff'\n",
    "\n",
    "fix_zarr = zarr.open(store=zarr.N5Store(fix_path), mode='r')\n",
    "mov_zarr = zarr.open(store=zarr.N5Store(mov_path), mode='r')\n",
    "wrp_zarr = zarr.open(store=zarr.N5Store(wrp_path), mode='r')\n",
    "aff_zarr = zarr.open(store=zarr.N5Store(aff_path), mode='r')\n",
    "\n",
    "fix = fix_zarr['/c3/s3'][::2,::2,::2]\n",
    "mov = mov_zarr['/c3/s3'][::2,::2,::2]\n",
    "wrp = wrp_zarr['/c3/s3'][::2,::2,::2]\n",
    "aff = aff_zarr['/c3/s3'][::2,::2,::2]\n",
    "\n",
    "fix.shape, mov.shape, wrp.shape, aff.shape"
   ]
  },
  {
   "cell_type": "code",
   "execution_count": 4,
   "id": "845d8344-9882-426c-b7df-f4f42e654b71",
   "metadata": {
    "tags": []
   },
   "outputs": [
    {
     "data": {
      "text/plain": [
       "(65535, 65504, 62365, 56226)"
      ]
     },
     "execution_count": 4,
     "metadata": {},
     "output_type": "execute_result"
    }
   ],
   "source": [
    "np.max(fix), np.max(mov), np.max(wrp), np.max(aff)"
   ]
  },
  {
   "cell_type": "code",
   "execution_count": 5,
   "id": "62444704-a706-4a3c-a903-d6b1abac63e5",
   "metadata": {
    "tags": []
   },
   "outputs": [],
   "source": [
    "th = np.percentile(fix, 99.9)\n",
    "fix[fix>th] = th\n",
    "\n",
    "th = np.percentile(mov, 99.9)\n",
    "mov[mov>th] = th\n",
    "\n",
    "th = np.percentile(wrp, 99.9)\n",
    "wrp[wrp>th] = th\n",
    "\n",
    "th = np.percentile(aff, 99.9)\n",
    "aff[aff>th] = th"
   ]
  },
  {
   "cell_type": "code",
   "execution_count": 6,
   "id": "fa432dd4-c73e-485e-b5f2-9481f2e8fb6f",
   "metadata": {},
   "outputs": [
    {
     "data": {
      "text/plain": [
       "(200, 184, 179, 179)"
      ]
     },
     "execution_count": 6,
     "metadata": {},
     "output_type": "execute_result"
    }
   ],
   "source": [
    "np.max(fix), np.max(mov), np.max(wrp), np.max(aff)"
   ]
  },
  {
   "cell_type": "code",
   "execution_count": 7,
   "id": "08dae79d-075b-4bd9-b12a-efb0389f2fd9",
   "metadata": {
    "tags": []
   },
   "outputs": [],
   "source": [
    "tifffile.imwrite(fix_out, fix)\n",
    "tifffile.imwrite(mov_out, mov)\n",
    "tifffile.imwrite(wrp_out, wrp)\n",
    "tifffile.imwrite(aff_out, aff)"
   ]
  }
 ],
 "metadata": {
  "kernelspec": {
   "display_name": "napari",
   "language": "python",
   "name": "napari"
  },
  "language_info": {
   "codemirror_mode": {
    "name": "ipython",
    "version": 3
   },
   "file_extension": ".py",
   "mimetype": "text/x-python",
   "name": "python",
   "nbconvert_exporter": "python",
   "pygments_lexer": "ipython3",
   "version": "3.9.16"
  }
 },
 "nbformat": 4,
 "nbformat_minor": 5
}
