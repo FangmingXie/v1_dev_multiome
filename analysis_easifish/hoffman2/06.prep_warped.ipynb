{
 "cells": [
  {
   "cell_type": "markdown",
   "metadata": {},
   "source": [
    "### Load packages"
   ]
  },
  {
   "cell_type": "code",
   "execution_count": 10,
   "metadata": {
    "scrolled": true,
    "tags": []
   },
   "outputs": [],
   "source": [
    "import os, sys\n",
    "import numpy as np\n",
    "import pandas as pd\n",
    "from glob import glob \n",
    "from skimage.io import imread, imsave\n",
    "import seaborn as sns\n",
    "import zarr\n",
    "import nrrd\n",
    "import tifffile\n",
    "# import napari"
   ]
  },
  {
   "cell_type": "markdown",
   "metadata": {},
   "source": [
    "### Start Napari viewer"
   ]
  },
  {
   "cell_type": "code",
   "execution_count": 2,
   "metadata": {
    "tags": []
   },
   "outputs": [],
   "source": [
    "# %gui qt\n",
    "# napari.gui_qt()\n",
    "# viewer = napari.Viewer(ndisplay=3)"
   ]
  },
  {
   "cell_type": "markdown",
   "metadata": {},
   "source": [
    "### Specify directory to data files"
   ]
  },
  {
   "cell_type": "code",
   "execution_count": 3,
   "metadata": {
    "tags": []
   },
   "outputs": [],
   "source": [
    "# roi_dir='test-oct6_epsilon1\\\\roi.csv'\n",
    "# lb_dir   =\"/Users/fangmingxie/data/easifish/lt185/r1/segmentation/r1-c3.tif\"\n",
    "# spot_dir =\"/Users/fangmingxie/data/easifish/lt185_r1_redo/spots/spots_c0.txt\"\n",
    "# imdir    =\"/Users/fangmingxie/data/easifish/lt186/r1/stitching/export.n5\"\n",
    "\n",
    "fix_dir = \"/u/home/f/f7xiesnm/project-zipursky/easifish/lt186/outputs/r1/stitching/export.n5\"\n",
    "\n",
    "mov_dir = \"/u/home/f/f7xiesnm/project-zipursky/easifish/lt186/outputs/r7/stitching/export.n5\"\n",
    "wrp_dir = \"/u/home/f/f7xiesnm/project-zipursky/easifish/lt186/outputs/r7/registration/r7-to-r1/warped\""
   ]
  },
  {
   "cell_type": "code",
   "execution_count": 4,
   "metadata": {
    "scrolled": true,
    "tags": []
   },
   "outputs": [
    {
     "name": "stdout",
     "output_type": "stream",
     "text": [
      "(648, 913, 1131)\n",
      "(574, 917, 1136)\n",
      "(648, 913, 1131)\n"
     ]
    }
   ],
   "source": [
    "fix = zarr.open(store=zarr.N5Store(fix_dir), mode='r')\n",
    "mov = zarr.open(store=zarr.N5Store(mov_dir), mode='r')\n",
    "wrp = zarr.open(store=zarr.N5Store(wrp_dir), mode='r')\n",
    "print(fix['c3/s3'].shape)\n",
    "print(mov['c3/s3'].shape)\n",
    "print(wrp['c3/s3'].shape) # s3 is the only scale; but we need s4\n"
   ]
  },
  {
   "cell_type": "code",
   "execution_count": 5,
   "metadata": {
    "tags": []
   },
   "outputs": [],
   "source": [
    "fix_img = fix['c3/s3'][::2,::2,::2]\n",
    "mov_img = mov['c3/s3'][::2,::2,::2]\n",
    "wrp_img = wrp['c3/s3'][::2,::2,::2]"
   ]
  },
  {
   "cell_type": "code",
   "execution_count": 13,
   "metadata": {
    "tags": []
   },
   "outputs": [
    {
     "name": "stdout",
     "output_type": "stream",
     "text": [
      "(324, 457, 566)\n",
      "(287, 459, 568)\n",
      "(324, 457, 566)\n"
     ]
    }
   ],
   "source": [
    "print(fix_img.shape)\n",
    "print(mov_img.shape)\n",
    "print(wrp_img.shape)"
   ]
  },
  {
   "cell_type": "code",
   "execution_count": 17,
   "metadata": {
    "tags": []
   },
   "outputs": [],
   "source": [
    "outdir = \"/u/home/f/f7xiesnm/project-zipursky/easifish/results\"\n",
    "\n",
    "# nrrd.write(outdir+'/r1_c3_down2x.nrrd',     fix_img.transpose([2,1,0]), compression_level=2)\n",
    "# nrrd.write(outdir+'/r7_c3_down2x.nrrd',     mov_img.transpose([2,1,0]), compression_level=2)\n",
    "# nrrd.write(outdir+'/r7tor1_c3_down2x.nrrd', wrp_img.transpose([2,1,0]), compression_level=2)\n",
    "\n",
    "tifffile.imwrite(outdir+'/r1_c3_down2x.tiff',     fix_img.transpose([2,1,0]))\n",
    "tifffile.imwrite(outdir+'/r7_c3_down2x.tiff',     mov_img.transpose([2,1,0]))\n",
    "tifffile.imwrite(outdir+'/r7tor1_c3_down2x.tiff', wrp_img.transpose([2,1,0]))"
   ]
  }
 ],
 "metadata": {
  "kernelspec": {
   "display_name": "Python 3 (ipykernel)",
   "language": "python",
   "name": "python3"
  },
  "language_info": {
   "codemirror_mode": {
    "name": "ipython",
    "version": 3
   },
   "file_extension": ".py",
   "mimetype": "text/x-python",
   "name": "python",
   "nbconvert_exporter": "python",
   "pygments_lexer": "ipython3",
   "version": "3.9.16"
  }
 },
 "nbformat": 4,
 "nbformat_minor": 4
}
