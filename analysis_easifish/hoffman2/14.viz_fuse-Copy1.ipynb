{
 "cells": [
  {
   "cell_type": "markdown",
   "id": "8c753145-1a59-480d-abb2-60f2fa3f416f",
   "metadata": {},
   "source": [
    "# Inputs\n",
    "---"
   ]
  },
  {
   "cell_type": "code",
   "execution_count": 1,
   "id": "2b6aeb01",
   "metadata": {},
   "outputs": [],
   "source": [
    "import numpy as np, zarr, nrrd\n",
    "# alignment functions\n",
    "from bigstream.align import alignment_pipeline\n",
    "from bigstream.transform import apply_transform\n",
    "import tifffile\n",
    "\n",
    "import seaborn as sns\n",
    "import matplotlib.pyplot as plt"
   ]
  },
  {
   "cell_type": "code",
   "execution_count": 2,
   "id": "f9e34109-0b59-441f-bb7a-2f75c90d30eb",
   "metadata": {
    "tags": []
   },
   "outputs": [],
   "source": [
    "p = '/u/home/f/f7xiesnm/project-zipursky/code/BigStitcher-Spark/demo_small_xml'\n",
    "outdir = '/u/home/f/f7xiesnm/project-zipursky/easifish/results/viz_fuse'\n",
    "!mkdir -p $outdir"
   ]
  },
  {
   "cell_type": "code",
   "execution_count": 10,
   "id": "5d71f6f4-5204-4d2d-8790-249b7b7b1fa3",
   "metadata": {},
   "outputs": [],
   "source": [
    "fix_path = p + '/dataset.n5'\n",
    "fix_out = outdir + '/demo_small_raw.tiff'\n",
    "fix_zarr = zarr.open(store=zarr.N5Store(fix_path), mode='r')\n",
    "fix = fix_zarr['setup0/timepoint0/s0']"
   ]
  },
  {
   "cell_type": "code",
   "execution_count": 17,
   "id": "23e91a1f-8b16-4138-bbb1-6743fd71941c",
   "metadata": {
    "tags": []
   },
   "outputs": [],
   "source": [
    "# fus_path = p + '/fused.n5'\n",
    "fus_path = p + '/fused.n5'\n",
    "fus_out = outdir + '/demo_small_c3_s3_fused.tiff'\n",
    "fus_zarr = zarr.open(store=zarr.N5Store(fus_path), mode='r')\n",
    "fus = fus_zarr['c1/s2']\n",
    "# fus = fus_zarr['/c0/s0'][::8,::8,::8]"
   ]
  },
  {
   "cell_type": "code",
   "execution_count": 18,
   "id": "67783886-0cc4-4a80-9da0-f7e77a65e5be",
   "metadata": {
    "tags": []
   },
   "outputs": [
    {
     "data": {
      "text/plain": [
       "((211, 480, 480), (389, 480, 921))"
      ]
     },
     "execution_count": 18,
     "metadata": {},
     "output_type": "execute_result"
    }
   ],
   "source": [
    "fix.shape, fus.shape"
   ]
  },
  {
   "cell_type": "code",
   "execution_count": 19,
   "id": "3fe943e3-0f4b-4833-86fe-b568f4c8dba6",
   "metadata": {
    "tags": []
   },
   "outputs": [
    {
     "data": {
      "text/plain": [
       "array([[47225, 41112, 41108, ..., 41045, 41043, 41046],\n",
       "       [41131, 32988, 32977, ..., 32885, 32881, 32884],\n",
       "       [41131, 33000, 33011, ..., 32880, 32880, 32883],\n",
       "       ...,\n",
       "       [41054, 32900, 32903, ..., 33015, 33068, 33021],\n",
       "       [41053, 32897, 32895, ..., 32998, 33035, 33022],\n",
       "       [41053, 32890, 32889, ..., 33004, 32990, 32972]], dtype=uint16)"
      ]
     },
     "execution_count": 19,
     "metadata": {},
     "output_type": "execute_result"
    }
   ],
   "source": [
    "fus[0,:,:]"
   ]
  },
  {
   "cell_type": "code",
   "execution_count": 20,
   "id": "b61f205a-52ad-4c3d-b005-3c5e4c415fd0",
   "metadata": {
    "tags": []
   },
   "outputs": [
    {
     "data": {
      "text/plain": [
       "array([[28925, 16697, 16687, ..., 16555, 16550, 16554],\n",
       "       [16731,   443,   428, ...,   234,   225,   231],\n",
       "       [16734,   473,   495, ...,   227,   226,   234],\n",
       "       ...,\n",
       "       [16574,   262,   270, ...,   490,   574,   520],\n",
       "       [16573,   259,   260, ...,   454,   521,   510],\n",
       "       [16574,   247,   245, ...,   472,   454,   423]], dtype=uint16)"
      ]
     },
     "execution_count": 20,
     "metadata": {},
     "output_type": "execute_result"
    }
   ],
   "source": [
    "fus[1,:,:]"
   ]
  },
  {
   "cell_type": "code",
   "execution_count": 21,
   "id": "3ff77875-da88-4488-a801-671da36a0d64",
   "metadata": {
    "tags": []
   },
   "outputs": [
    {
     "data": {
      "text/plain": [
       "array([[28930, 16701, 16696, ..., 16557, 16548, 16554],\n",
       "       [16725,   446,   439, ...,   231,   231,   231],\n",
       "       [16727,   484,   500, ...,   227,   222,   228],\n",
       "       ...,\n",
       "       [16572,   258,   283, ...,   488,   546,   518],\n",
       "       [16573,   253,   262, ...,   449,   506,   505],\n",
       "       [16570,   250,   248, ...,   481,   456,   430]], dtype=uint16)"
      ]
     },
     "execution_count": 21,
     "metadata": {},
     "output_type": "execute_result"
    }
   ],
   "source": [
    "fus[2,:,:]"
   ]
  },
  {
   "cell_type": "code",
   "execution_count": 22,
   "id": "70808053-ae97-493a-99c5-4e0746b78785",
   "metadata": {
    "tags": []
   },
   "outputs": [],
   "source": [
    "from scipy.stats import mode"
   ]
  },
  {
   "cell_type": "code",
   "execution_count": 23,
   "id": "0f91c8dd-3f8c-4ca2-bff0-51d84e4c88ed",
   "metadata": {
    "tags": []
   },
   "outputs": [
    {
     "data": {
      "text/plain": [
       "ModeResult(mode=array([271], dtype=uint16), count=array([2574749]))"
      ]
     },
     "execution_count": 23,
     "metadata": {},
     "output_type": "execute_result"
    }
   ],
   "source": [
    "mode(fus, axis=None)"
   ]
  },
  {
   "cell_type": "code",
   "execution_count": null,
   "id": "243bc489-cc24-4984-9599-35a2ef2bf0dd",
   "metadata": {},
   "outputs": [],
   "source": []
  },
  {
   "cell_type": "code",
   "execution_count": 18,
   "id": "57241fd7-168a-4712-9f85-3c32bc986a84",
   "metadata": {
    "tags": []
   },
   "outputs": [],
   "source": [
    "# np.min(fus), np.max(fus), mode(fus, axis=None)"
   ]
  },
  {
   "cell_type": "code",
   "execution_count": 19,
   "id": "4fd927f6-4244-4b13-923b-273d81e7932c",
   "metadata": {
    "tags": []
   },
   "outputs": [],
   "source": [
    "# np.min(fix), np.max(fix), mode(fix, axis=None)"
   ]
  },
  {
   "cell_type": "code",
   "execution_count": null,
   "id": "7f7862b8-c4f9-4dc1-8da2-b1e2f20cf62c",
   "metadata": {},
   "outputs": [],
   "source": []
  },
  {
   "cell_type": "code",
   "execution_count": null,
   "id": "40bec081-d256-47b1-b5f0-128243bb02dc",
   "metadata": {},
   "outputs": [],
   "source": []
  },
  {
   "cell_type": "code",
   "execution_count": null,
   "id": "bda780ec-a634-418c-bcf8-0b472f44dcea",
   "metadata": {},
   "outputs": [],
   "source": []
  },
  {
   "cell_type": "code",
   "execution_count": 11,
   "id": "db84bb34-2c0d-48e9-b6d7-4fdc140c109a",
   "metadata": {},
   "outputs": [],
   "source": [
    "fix_out = outdir + '/demo_small_c1_s2_v2.tiff'\n",
    "fix = fix_zarr['setup0/timepoint0/s2']\n",
    "tifffile.imwrite(fix_out, fix) # fus)"
   ]
  },
  {
   "cell_type": "code",
   "execution_count": 20,
   "id": "08dae79d-075b-4bd9-b12a-efb0389f2fd9",
   "metadata": {
    "tags": []
   },
   "outputs": [],
   "source": [
    "fus_out = outdir + '/demo_small_c3_s3_fused_v2.tiff'\n",
    "# fus = fus_zarr['c1/s3']\n",
    "tifffile.imwrite(fus_out, a) # fus)"
   ]
  },
  {
   "cell_type": "code",
   "execution_count": 63,
   "id": "11ddfc2a-96cf-411b-ae8b-dee7c9184b5c",
   "metadata": {
    "tags": []
   },
   "outputs": [],
   "source": [
    "fus_out = outdir + '/lt172_c0_s3_fused.tiff'\n",
    "fus = fus_zarr['c0/s3']\n",
    "tifffile.imwrite(fus_out, fus)"
   ]
  },
  {
   "cell_type": "code",
   "execution_count": null,
   "id": "bb978168-2f0b-43c6-b460-dd85a844e8de",
   "metadata": {},
   "outputs": [],
   "source": []
  }
 ],
 "metadata": {
  "kernelspec": {
   "display_name": "napari",
   "language": "python",
   "name": "napari"
  },
  "language_info": {
   "codemirror_mode": {
    "name": "ipython",
    "version": 3
   },
   "file_extension": ".py",
   "mimetype": "text/x-python",
   "name": "python",
   "nbconvert_exporter": "python",
   "pygments_lexer": "ipython3",
   "version": "3.9.16"
  }
 },
 "nbformat": 4,
 "nbformat_minor": 5
}
