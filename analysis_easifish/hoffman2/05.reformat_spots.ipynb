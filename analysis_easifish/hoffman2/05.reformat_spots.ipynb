{
 "cells": [
  {
   "cell_type": "code",
   "execution_count": 1,
   "id": "f0b73b12-c6de-449b-824c-7b046505f997",
   "metadata": {
    "tags": []
   },
   "outputs": [],
   "source": [
    "import os, sys\n",
    "sys.path.append('..')\n",
    "\n",
    "import pandas as pd\n",
    "import numpy as np\n",
    "import zarr\n",
    "from easi_fish import n5_metadata_utils as n5mu"
   ]
  },
  {
   "cell_type": "markdown",
   "id": "19e3f241-11de-4cc2-a496-4d1a721e2e78",
   "metadata": {},
   "source": [
    "# compare spots "
   ]
  },
  {
   "cell_type": "code",
   "execution_count": 2,
   "id": "74a5c1bd-4bff-419a-97dc-e44cafc5dd3e",
   "metadata": {
    "tags": []
   },
   "outputs": [
    {
     "name": "stdout",
     "output_type": "stream",
     "text": [
      "Saving 65396 points in micron space to /u/home/f/f7xiesnm/project-zipursky/easifish/lt186/outputs/r2/spots/spots_c0.txt\n",
      "Saving 303297 points in micron space to /u/home/f/f7xiesnm/project-zipursky/easifish/lt186/outputs/r2/spots/spots_c1.txt\n",
      "Saving 36515 points in micron space to /u/home/f/f7xiesnm/project-zipursky/easifish/lt186/outputs/r2/spots/spots_c2.txt\n",
      "Saving 19449 points in micron space to /u/home/f/f7xiesnm/project-zipursky/easifish/lt186/outputs/r2/spots/spots_c4.txt\n"
     ]
    }
   ],
   "source": [
    "ddir = '/u/home/f/f7xiesnm/project-zipursky/easifish/lt186/outputs/r2'\n",
    "imdir = \"/u/home/f/f7xiesnm/project-zipursky/easifish/lt186/outputs/r2/stitching/export.n5\"\n",
    "\n",
    "for c in [0,1,2,4]:\n",
    "    f1 = ddir+f\"/spots/spots_rsfish_c{c}.csv\"\n",
    "    fout = f1.replace('_rsfish', '').replace('csv', 'txt')\n",
    "    \n",
    "    input_voxels        = f1 \n",
    "    output_microns      = fout\n",
    "    n5_path             = imdir\n",
    "    extraction_subpath  = '/c3/s0'\n",
    "\n",
    "    vox    = n5mu.read_voxel_spacing(n5_path, extraction_subpath)\n",
    "    grid   = n5mu.read_voxel_grid(n5_path, extraction_subpath)\n",
    "\n",
    "    rsfish_spots = np.loadtxt(input_voxels, delimiter=',', skiprows=1)\n",
    "    rsfish_spots[:, :3] = rsfish_spots[:, :3] * vox\n",
    "\n",
    "    # Remove unnecessary columns (t,c) at indexes 3 and 4 \n",
    "    rsfish_spots = np.delete(rsfish_spots, np.s_[3:5], axis=1)\n",
    "\n",
    "    print(f\"Saving {rsfish_spots.shape[0]} points in micron space to\", output_microns)\n",
    "    np.savetxt(output_microns, rsfish_spots, delimiter=',')\n",
    "    \n",
    "    # break"
   ]
  },
  {
   "cell_type": "code",
   "execution_count": null,
   "id": "939aa756-79c1-4fb3-89e5-493474c916da",
   "metadata": {},
   "outputs": [],
   "source": []
  }
 ],
 "metadata": {
  "kernelspec": {
   "display_name": "Python 3 (ipykernel)",
   "language": "python",
   "name": "python3"
  },
  "language_info": {
   "codemirror_mode": {
    "name": "ipython",
    "version": 3
   },
   "file_extension": ".py",
   "mimetype": "text/x-python",
   "name": "python",
   "nbconvert_exporter": "python",
   "pygments_lexer": "ipython3",
   "version": "3.9.16"
  }
 },
 "nbformat": 4,
 "nbformat_minor": 5
}
