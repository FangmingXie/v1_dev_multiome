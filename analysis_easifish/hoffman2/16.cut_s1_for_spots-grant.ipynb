{
 "cells": [
  {
   "cell_type": "markdown",
   "metadata": {},
   "source": [
    "### Load packages"
   ]
  },
  {
   "cell_type": "code",
   "execution_count": 2,
   "metadata": {
    "scrolled": true,
    "tags": []
   },
   "outputs": [],
   "source": [
    "import os, sys\n",
    "import numpy as np\n",
    "import pandas as pd\n",
    "from glob import glob \n",
    "from skimage.io import imread, imsave\n",
    "import seaborn as sns\n",
    "import zarr\n",
    "import tifffile\n",
    "\n",
    "# import nrrd\n",
    "# import napari"
   ]
  },
  {
   "cell_type": "markdown",
   "metadata": {},
   "source": [
    "### Specify directory to data files"
   ]
  },
  {
   "cell_type": "code",
   "execution_count": 3,
   "metadata": {
    "tags": []
   },
   "outputs": [],
   "source": [
    "imdir = \"/u/scratch/f/f7xiesnm/grant/dataset.n5/\"\n",
    "outdir = \"/u/home/f/f7xiesnm/project-zipursky/easifish/results/viz_grant\"\n",
    "!mkdir -p $outdir"
   ]
  },
  {
   "cell_type": "code",
   "execution_count": 4,
   "metadata": {
    "scrolled": true,
    "tags": []
   },
   "outputs": [
    {
     "data": {
      "text/plain": [
       "(2726, 960, 960)"
      ]
     },
     "execution_count": 4,
     "metadata": {},
     "output_type": "execute_result"
    }
   ],
   "source": [
    "# get n5 image data for channel 1\n",
    "im = zarr.open(store=zarr.N5Store(imdir), mode='r')\n",
    "zdim, ydim, xdim = im['setup0/timepoint0/s1'].shape\n",
    "zdim, ydim, xdim"
   ]
  },
  {
   "cell_type": "code",
   "execution_count": 5,
   "metadata": {
    "tags": []
   },
   "outputs": [],
   "source": [
    "cuts = [\n",
    "    # [248, 352, 344, 440, 2232, 2424,],\n",
    "    # [648, 720, 296, 368, 2200, 2328,],\n",
    "    # [600, 664, 528, 600, 2184, 2320,],\n",
    "    # [472, 544, 560, 632, 2144, 2248,],\n",
    "    # [680, 760, 528, 616, 2096, 2264,],\n",
    "    # [560, 624, 600, 680, 1976, 2104,],\n",
    "    # [664, 752, 528, 616, 1808, 1920,],\n",
    "    [ 80, 160, 520, 608, 1688, 1800,],\n",
    "    [560, 640, 416, 512, 1200, 1360,],\n",
    "]"
   ]
  },
  {
   "cell_type": "code",
   "execution_count": 6,
   "metadata": {
    "tags": []
   },
   "outputs": [
    {
     "name": "stdout",
     "output_type": "stream",
     "text": [
      "0 /u/home/f/f7xiesnm/project-zipursky/easifish/results/viz_grant/cell8_c0_s1.tiff (112, 88, 80)\n",
      "1 /u/home/f/f7xiesnm/project-zipursky/easifish/results/viz_grant/cell8_c1_s1.tiff (112, 88, 80)\n",
      "2 /u/home/f/f7xiesnm/project-zipursky/easifish/results/viz_grant/cell8_c2_s1.tiff (112, 88, 80)\n",
      "3 /u/home/f/f7xiesnm/project-zipursky/easifish/results/viz_grant/cell8_c3_s1.tiff (112, 88, 80)\n",
      "4 /u/home/f/f7xiesnm/project-zipursky/easifish/results/viz_grant/cell8_c4_s1.tiff (112, 88, 80)\n",
      "0 /u/home/f/f7xiesnm/project-zipursky/easifish/results/viz_grant/cell9_c0_s1.tiff (160, 96, 80)\n",
      "1 /u/home/f/f7xiesnm/project-zipursky/easifish/results/viz_grant/cell9_c1_s1.tiff (160, 96, 80)\n",
      "2 /u/home/f/f7xiesnm/project-zipursky/easifish/results/viz_grant/cell9_c2_s1.tiff (160, 96, 80)\n",
      "3 /u/home/f/f7xiesnm/project-zipursky/easifish/results/viz_grant/cell9_c3_s1.tiff (160, 96, 80)\n",
      "4 /u/home/f/f7xiesnm/project-zipursky/easifish/results/viz_grant/cell9_c4_s1.tiff (160, 96, 80)\n"
     ]
    }
   ],
   "source": [
    "channels = [0, 1, 2, 3, 4]\n",
    "start = 8\n",
    "for i, cut in enumerate(cuts): \n",
    "    for ch in channels:\n",
    "        x1, x2, y1, y2, z1, z2 = cut\n",
    "        img1 = im[f'setup{ch}/timepoint0/s1'][z1:z2, y1:y2, x1:x2]\n",
    "        fout = outdir+f'/cell{i+start}_c{ch}_s1.tiff'\n",
    "        print(ch, fout, img1.shape)\n",
    "        tifffile.imwrite(fout, img1)"
   ]
  },
  {
   "cell_type": "code",
   "execution_count": null,
   "metadata": {},
   "outputs": [],
   "source": []
  },
  {
   "cell_type": "code",
   "execution_count": null,
   "metadata": {},
   "outputs": [],
   "source": []
  }
 ],
 "metadata": {
  "kernelspec": {
   "display_name": "Python 3 (ipykernel)",
   "language": "python",
   "name": "python3"
  },
  "language_info": {
   "codemirror_mode": {
    "name": "ipython",
    "version": 3
   },
   "file_extension": ".py",
   "mimetype": "text/x-python",
   "name": "python",
   "nbconvert_exporter": "python",
   "pygments_lexer": "ipython3",
   "version": "3.9.16"
  }
 },
 "nbformat": 4,
 "nbformat_minor": 4
}
