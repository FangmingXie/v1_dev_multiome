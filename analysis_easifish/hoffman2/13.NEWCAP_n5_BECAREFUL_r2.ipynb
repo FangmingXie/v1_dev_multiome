{
 "cells": [
  {
   "cell_type": "markdown",
   "id": "8c753145-1a59-480d-abb2-60f2fa3f416f",
   "metadata": {},
   "source": [
    "# cap c3\n",
    "- be very careful!!!!"
   ]
  },
  {
   "cell_type": "code",
   "execution_count": 1,
   "id": "2b6aeb01",
   "metadata": {},
   "outputs": [],
   "source": [
    "import numpy as np\n",
    "import zarr\n",
    "from numcodecs import GZip \n",
    "# alignment functions\n",
    "import tifffile"
   ]
  },
  {
   "cell_type": "code",
   "execution_count": 2,
   "id": "f9e34109-0b59-441f-bb7a-2f75c90d30eb",
   "metadata": {
    "tags": []
   },
   "outputs": [],
   "source": [
    "p = '/u/home/f/f7xiesnm/project-zipursky/easifish/lt186/outputs/'\n",
    "outdir = '/u/home/f/f7xiesnm/project-zipursky/easifish/results/test_bigstream_n5cap'\n",
    "!mkdir -p $outdir"
   ]
  },
  {
   "cell_type": "code",
   "execution_count": 3,
   "id": "488bf9f9-05c4-4e5e-9785-a0f02e1471e0",
   "metadata": {
    "tags": []
   },
   "outputs": [],
   "source": [
    "def cap_img(a0, pctl=99.9):\n",
    "    \"\"\"\n",
    "    \"\"\"\n",
    "    a = np.clip(a0, None, np.percentile(a0, pctl)).astype('uint16')\n",
    "    print(np.max(a0), '->', np.max(a))\n",
    "    return a\n",
    "\n",
    "def modify_n5_like_a0(img_path, a0, a, a_slot):\n",
    "    \"\"\"\n",
    "    be very careful - \n",
    "    \"\"\"\n",
    "    n5_root = zarr.open_group(store=zarr.N5Store(img_path), mode='a')\n",
    "    dataset = n5_root.require_dataset(\n",
    "        a_slot,\n",
    "        shape=a0.shape,\n",
    "        chunks=a0._chunks,\n",
    "        dtype=a0.dtype,\n",
    "        compressor=GZip(level=-1),\n",
    "        data=a)\n",
    "    # set additional attributes\n",
    "    dataset.attrs.update(**a0.attrs.asdict())\n",
    "    \n",
    "    return "
   ]
  },
  {
   "cell_type": "code",
   "execution_count": 12,
   "id": "daaa3d52-de46-4fe7-9ac2-c41ab04750ec",
   "metadata": {
    "tags": []
   },
   "outputs": [],
   "source": [
    "img_path = p + '/r2/stitching/export.n5'\n",
    "out_cap = outdir+'/r2c3s4_cap.tiff'\n",
    "out_org = outdir+'/r2c3s4_org.tiff'"
   ]
  },
  {
   "cell_type": "code",
   "execution_count": 5,
   "id": "b885c16e-e15c-4397-87d7-be891d379e1d",
   "metadata": {
    "tags": []
   },
   "outputs": [
    {
     "name": "stdout",
     "output_type": "stream",
     "text": [
      "attributes.json  c0  c1  c2  c3_orig  c4\n"
     ]
    }
   ],
   "source": [
    "!ls $img_path"
   ]
  },
  {
   "cell_type": "code",
   "execution_count": 6,
   "id": "5d71f6f4-5204-4d2d-8790-249b7b7b1fa3",
   "metadata": {},
   "outputs": [
    {
     "name": "stdout",
     "output_type": "stream",
     "text": [
      "47284 -> 239\n",
      "61437 -> 247\n",
      "CPU times: user 1min 51s, sys: 4.75 s, total: 1min 56s\n",
      "Wall time: 2min 3s\n"
     ]
    }
   ],
   "source": [
    "%%time\n",
    "g0_slot = 'c3_orig' \n",
    "g_slot  = 'c3'\n",
    "\n",
    "# update dataset - s4 resolution\n",
    "a0 = zarr.open(store=zarr.N5Store(img_path), mode='r')[g0_slot+'/s4']\n",
    "a = cap_img(a0[...], pctl=99.9)\n",
    "modify_n5_like_a0(img_path, a0, a, g_slot+'/s4')\n",
    "\n",
    "# update dataset - s3 resolution\n",
    "a0 = zarr.open(store=zarr.N5Store(img_path), mode='r')[g0_slot+'/s3']\n",
    "a = cap_img(a0[...], pctl=99.9)\n",
    "modify_n5_like_a0(img_path, a0, a, g_slot+'/s3')\n",
    "\n",
    "# update group attrs\n",
    "g0 = zarr.open(store=zarr.N5Store(img_path), mode='r')[g0_slot]\n",
    "g  = zarr.open(store=zarr.N5Store(img_path), mode='a')[g_slot]\n",
    "g.attrs.update(g0.attrs.asdict())"
   ]
  },
  {
   "cell_type": "code",
   "execution_count": null,
   "id": "37b6abb0-da8b-45de-836c-01ffa3787921",
   "metadata": {},
   "outputs": [],
   "source": []
  },
  {
   "cell_type": "code",
   "execution_count": null,
   "id": "30fda7a0-465e-49d3-adc0-8d832661256b",
   "metadata": {},
   "outputs": [],
   "source": []
  },
  {
   "cell_type": "markdown",
   "id": "90cf5117-82c4-4bb7-862d-2fd01f19cc18",
   "metadata": {},
   "source": [
    "# test out"
   ]
  },
  {
   "cell_type": "code",
   "execution_count": 10,
   "id": "9c4e69f5-78c0-4144-8130-a3d7d5f25a06",
   "metadata": {
    "tags": []
   },
   "outputs": [
    {
     "data": {
      "text/plain": [
       "<zarr.core.Array '/c3/s4' (250, 459, 565) uint16 read-only>"
      ]
     },
     "execution_count": 10,
     "metadata": {},
     "output_type": "execute_result"
    }
   ],
   "source": [
    "zarr_handle = zarr.open(store=zarr.N5Store(img_path), mode='r')\n",
    "zarr_handle['c3/s4']"
   ]
  },
  {
   "cell_type": "code",
   "execution_count": 13,
   "id": "63ba53aa-fc92-4bfb-94bf-394259816fcb",
   "metadata": {
    "tags": []
   },
   "outputs": [],
   "source": [
    "tifffile.imwrite(out_cap, zarr_handle['c3/s4'][...])\n",
    "tifffile.imwrite(out_org, zarr_handle['c3_orig/s4'][...])"
   ]
  },
  {
   "cell_type": "code",
   "execution_count": null,
   "id": "23a664ee-ecdf-4fa6-bdc0-f13b0e5c7136",
   "metadata": {},
   "outputs": [],
   "source": []
  }
 ],
 "metadata": {
  "kernelspec": {
   "display_name": "napari",
   "language": "python",
   "name": "napari"
  },
  "language_info": {
   "codemirror_mode": {
    "name": "ipython",
    "version": 3
   },
   "file_extension": ".py",
   "mimetype": "text/x-python",
   "name": "python",
   "nbconvert_exporter": "python",
   "pygments_lexer": "ipython3",
   "version": "3.9.16"
  }
 },
 "nbformat": 4,
 "nbformat_minor": 5
}
