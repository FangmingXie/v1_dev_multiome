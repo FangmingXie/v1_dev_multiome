{
 "cells": [
  {
   "cell_type": "markdown",
   "metadata": {},
   "source": [
    "### Load packages"
   ]
  },
  {
   "cell_type": "code",
   "execution_count": 1,
   "metadata": {
    "scrolled": true,
    "tags": []
   },
   "outputs": [],
   "source": [
    "import os, sys\n",
    "import numpy as np\n",
    "import pandas as pd\n",
    "from glob import glob \n",
    "from skimage.io import imread, imsave\n",
    "import seaborn as sns\n",
    "import zarr\n",
    "import tifffile\n",
    "\n",
    "# import nrrd\n",
    "# import napari"
   ]
  },
  {
   "cell_type": "markdown",
   "metadata": {},
   "source": [
    "### Specify directory to data files"
   ]
  },
  {
   "cell_type": "code",
   "execution_count": 2,
   "metadata": {
    "tags": []
   },
   "outputs": [],
   "source": [
    "imdir = \"/u/home/f/f7xiesnm/project-zipursky/easifish/lt186/outputs/r1/stitching/export.n5\"\n",
    "outdir = \"/u/home/f/f7xiesnm/project-zipursky/easifish/results/viz_spots\"\n",
    "!mkdir -p $outdir"
   ]
  },
  {
   "cell_type": "code",
   "execution_count": null,
   "metadata": {},
   "outputs": [],
   "source": []
  },
  {
   "cell_type": "code",
   "execution_count": 3,
   "metadata": {
    "scrolled": true,
    "tags": []
   },
   "outputs": [
    {
     "data": {
      "text/plain": [
       "(2593, 3654, 4524)"
      ]
     },
     "execution_count": 3,
     "metadata": {},
     "output_type": "execute_result"
    }
   ],
   "source": [
    "# get n5 image data for channel 1\n",
    "im = zarr.open(store=zarr.N5Store(imdir), mode='r')\n",
    "zdim, ydim, xdim = im['c2/s1'].shape\n",
    "zdim, ydim, xdim"
   ]
  },
  {
   "cell_type": "code",
   "execution_count": 4,
   "metadata": {
    "tags": []
   },
   "outputs": [
    {
     "name": "stdout",
     "output_type": "stream",
     "text": [
      "0 /u/home/f/f7xiesnm/project-zipursky/easifish/results/viz_spots/test_r1_0_s1.tiff (259, 365, 452)\n",
      "2 /u/home/f/f7xiesnm/project-zipursky/easifish/results/viz_spots/test_r1_2_s1.tiff (259, 365, 452)\n"
     ]
    }
   ],
   "source": [
    "channels = [0, 2]\n",
    "for ch in channels:\n",
    "    img1 = im[f'c{ch}/s1'][\n",
    "                           int(0.5*zdim):int(0.6*zdim),\n",
    "                           int(0.5*ydim):int(0.6*ydim),\n",
    "                           int(0.5*xdim):int(0.6*xdim),\n",
    "                          ]\n",
    "    fout = outdir+f'/test_r1_c{ch}_s1.tiff'\n",
    "    print(ch, fout, img1.shape)\n",
    "    tifffile.imwrite(fout, img1)"
   ]
  },
  {
   "cell_type": "code",
   "execution_count": null,
   "metadata": {},
   "outputs": [],
   "source": []
  },
  {
   "cell_type": "code",
   "execution_count": 6,
   "metadata": {},
   "outputs": [
    {
     "name": "stdout",
     "output_type": "stream",
     "text": [
      "0 /u/home/f/f7xiesnm/project-zipursky/easifish/results/viz_spots/test_r2_c0_s1.tiff (225, 367, 452)\n",
      "1 /u/home/f/f7xiesnm/project-zipursky/easifish/results/viz_spots/test_r2_c1_s1.tiff (225, 367, 452)\n",
      "2 /u/home/f/f7xiesnm/project-zipursky/easifish/results/viz_spots/test_r2_c2_s1.tiff (225, 367, 452)\n",
      "4 /u/home/f/f7xiesnm/project-zipursky/easifish/results/viz_spots/test_r2_c4_s1.tiff (225, 367, 452)\n"
     ]
    }
   ],
   "source": [
    "imdir = \"/u/home/f/f7xiesnm/project-zipursky/easifish/lt186/outputs/r2/stitching/export.n5\"\n",
    "im = zarr.open(store=zarr.N5Store(imdir), mode='r')\n",
    "zdim, ydim, xdim = im['c0/s1'].shape\n",
    "channels = [0, 1, 2, 4]\n",
    "for ch in channels:\n",
    "    img1 = im[f'c{ch}/s1'][\n",
    "                           int(0.5*zdim):int(0.6*zdim),\n",
    "                           int(0.5*ydim):int(0.6*ydim),\n",
    "                           int(0.5*xdim):int(0.6*xdim),\n",
    "                          ]\n",
    "    fout = outdir+f'/test_r2_c{ch}_s1.tiff'\n",
    "    print(ch, fout, img1.shape)\n",
    "    tifffile.imwrite(fout, img1)"
   ]
  },
  {
   "cell_type": "code",
   "execution_count": null,
   "metadata": {},
   "outputs": [],
   "source": []
  },
  {
   "cell_type": "code",
   "execution_count": 7,
   "metadata": {
    "tags": []
   },
   "outputs": [
    {
     "name": "stdout",
     "output_type": "stream",
     "text": [
      "0 /u/home/f/f7xiesnm/project-zipursky/easifish/results/viz_spots/test_r7_c0_s1.tiff (229, 366, 455)\n",
      "1 /u/home/f/f7xiesnm/project-zipursky/easifish/results/viz_spots/test_r7_c1_s1.tiff (229, 366, 455)\n",
      "2 /u/home/f/f7xiesnm/project-zipursky/easifish/results/viz_spots/test_r7_c2_s1.tiff (229, 366, 455)\n",
      "4 /u/home/f/f7xiesnm/project-zipursky/easifish/results/viz_spots/test_r7_c4_s1.tiff (229, 366, 455)\n"
     ]
    }
   ],
   "source": [
    "imdir = \"/u/home/f/f7xiesnm/project-zipursky/easifish/lt186/outputs/r7/stitching/export.n5\"\n",
    "im = zarr.open(store=zarr.N5Store(imdir), mode='r')\n",
    "zdim, ydim, xdim = im['c0/s1'].shape\n",
    "channels = [0, 1, 2, 4]\n",
    "for ch in channels:\n",
    "    img1 = im[f'c{ch}/s1'][\n",
    "                           int(0.5*zdim):int(0.6*zdim),\n",
    "                           int(0.5*ydim):int(0.6*ydim),\n",
    "                           int(0.5*xdim):int(0.6*xdim),\n",
    "                          ]\n",
    "    fout = outdir+f'/test_r7_c{ch}_s1.tiff'\n",
    "    print(ch, fout, img1.shape)\n",
    "    tifffile.imwrite(fout, img1)"
   ]
  },
  {
   "cell_type": "code",
   "execution_count": null,
   "metadata": {},
   "outputs": [],
   "source": []
  }
 ],
 "metadata": {
  "kernelspec": {
   "display_name": "Python 3 (ipykernel)",
   "language": "python",
   "name": "python3"
  },
  "language_info": {
   "codemirror_mode": {
    "name": "ipython",
    "version": 3
   },
   "file_extension": ".py",
   "mimetype": "text/x-python",
   "name": "python",
   "nbconvert_exporter": "python",
   "pygments_lexer": "ipython3",
   "version": "3.9.16"
  }
 },
 "nbformat": 4,
 "nbformat_minor": 4
}
