{
 "cells": [
  {
   "cell_type": "markdown",
   "id": "8c753145-1a59-480d-abb2-60f2fa3f416f",
   "metadata": {},
   "source": [
    "# Inputs\n",
    "---"
   ]
  },
  {
   "cell_type": "code",
   "execution_count": 1,
   "id": "2b6aeb01",
   "metadata": {},
   "outputs": [],
   "source": [
    "import numpy as np, zarr, nrrd\n",
    "# alignment functions\n",
    "from bigstream.align import alignment_pipeline\n",
    "from bigstream.transform import apply_transform\n",
    "import tifffile\n",
    "\n",
    "import seaborn as sns\n",
    "import matplotlib.pyplot as plt"
   ]
  },
  {
   "cell_type": "code",
   "execution_count": 2,
   "id": "f9e34109-0b59-441f-bb7a-2f75c90d30eb",
   "metadata": {
    "tags": []
   },
   "outputs": [],
   "source": [
    "p = '/u/home/f/f7xiesnm/project-zipursky/data/hold/sparse06/'\n",
    "outdir = '/u/home/f/f7xiesnm/project-zipursky/easifish/results/viz_sparse06'\n",
    "!mkdir -p $outdir"
   ]
  },
  {
   "cell_type": "code",
   "execution_count": 3,
   "id": "5d71f6f4-5204-4d2d-8790-249b7b7b1fa3",
   "metadata": {},
   "outputs": [],
   "source": [
    "r1_path = p + '/r1_export.n5'\n",
    "r1_zarr = zarr.open(store=zarr.N5Store(r1_path), mode='r')"
   ]
  },
  {
   "cell_type": "code",
   "execution_count": 4,
   "id": "08dae79d-075b-4bd9-b12a-efb0389f2fd9",
   "metadata": {
    "tags": []
   },
   "outputs": [
    {
     "name": "stdout",
     "output_type": "stream",
     "text": [
      "30887 0\n",
      "3926 0\n",
      "7672 0\n",
      "31722 0\n",
      "10522 0\n"
     ]
    }
   ],
   "source": [
    "for c in ['c0', 'c1', 'c2', 'c3', 'c4']:\n",
    "    r1 = r1_zarr[f'/{c}/s4'] \n",
    "    print(np.max(r1), np.min(r1))\n",
    "    tifffile.imwrite(outdir+f'/r1_c{c}_s4.tiff', r1)"
   ]
  },
  {
   "cell_type": "code",
   "execution_count": null,
   "id": "ce6beadb-79d0-4c65-b232-96e92e449a71",
   "metadata": {},
   "outputs": [],
   "source": []
  }
 ],
 "metadata": {
  "kernelspec": {
   "display_name": "napari",
   "language": "python",
   "name": "napari"
  },
  "language_info": {
   "codemirror_mode": {
    "name": "ipython",
    "version": 3
   },
   "file_extension": ".py",
   "mimetype": "text/x-python",
   "name": "python",
   "nbconvert_exporter": "python",
   "pygments_lexer": "ipython3",
   "version": "3.9.16"
  }
 },
 "nbformat": 4,
 "nbformat_minor": 5
}
