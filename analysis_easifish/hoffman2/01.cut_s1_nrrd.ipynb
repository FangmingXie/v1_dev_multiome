{
 "cells": [
  {
   "cell_type": "markdown",
   "metadata": {},
   "source": [
    "### Load packages"
   ]
  },
  {
   "cell_type": "code",
   "execution_count": 1,
   "metadata": {
    "scrolled": true,
    "tags": []
   },
   "outputs": [],
   "source": [
    "import os, sys\n",
    "import numpy as np\n",
    "import pandas as pd\n",
    "from glob import glob \n",
    "from skimage.io import imread, imsave\n",
    "import seaborn as sns\n",
    "import zarr\n",
    "import nrrd\n",
    "# import napari"
   ]
  },
  {
   "cell_type": "markdown",
   "metadata": {},
   "source": [
    "### Start Napari viewer"
   ]
  },
  {
   "cell_type": "code",
   "execution_count": 2,
   "metadata": {
    "tags": []
   },
   "outputs": [],
   "source": [
    "# %gui qt\n",
    "# napari.gui_qt()\n",
    "# viewer = napari.Viewer(ndisplay=3)"
   ]
  },
  {
   "cell_type": "markdown",
   "metadata": {},
   "source": [
    "### Specify directory to data files"
   ]
  },
  {
   "cell_type": "code",
   "execution_count": 3,
   "metadata": {
    "tags": []
   },
   "outputs": [],
   "source": [
    "# roi_dir='test-oct6_epsilon1\\\\roi.csv'\n",
    "# lb_dir   =\"/Users/fangmingxie/data/easifish/lt185/r1/segmentation/r1-c3.tif\"\n",
    "# spot_dir =\"/Users/fangmingxie/data/easifish/lt185_r1_redo/spots/spots_c0.txt\"\n",
    "# imdir    =\"/Users/fangmingxie/data/easifish/lt186/r1/stitching/export.n5\"\n",
    "\n",
    "imdir = \"/u/home/f/f7xiesnm/project-zipursky/easifish/lt186/outputs/r1/stitching/export.n5\""
   ]
  },
  {
   "cell_type": "code",
   "execution_count": 4,
   "metadata": {
    "scrolled": true,
    "tags": []
   },
   "outputs": [
    {
     "data": {
      "text/plain": [
       "(2593, 7309, 9049)"
      ]
     },
     "execution_count": 4,
     "metadata": {},
     "output_type": "execute_result"
    }
   ],
   "source": [
    "# get n5 image data for channel 1\n",
    "im = zarr.open(store=zarr.N5Store(imdir), mode='r')\n",
    "zdim, ydim, xdim = im['c3/s0'].shape\n",
    "zdim, ydim, xdim"
   ]
  },
  {
   "cell_type": "code",
   "execution_count": 5,
   "metadata": {
    "tags": []
   },
   "outputs": [],
   "source": [
    "cnames = [\n",
    "    \"c0 - RL (Cre)\",\n",
    "    \"c1 - NA\",\n",
    "    \"c2 - LM (FlpO)\",\n",
    "    \"c3 - cytoDAPI\",\n",
    "    \"c4 - NA\",\n",
    "]\n",
    "# cnames = [\n",
    "#     \"c0 - Sorcs3\",\n",
    "#     \"c1 - Kcnq5\",\n",
    "#     \"c2 - Chrm2\",\n",
    "#     \"c3 - cytoDAPI\",\n",
    "#     \"c4 - Adamts2\",\n",
    "# ]\n",
    "\n",
    "ccolors = [\n",
    "    'blue',\n",
    "    'yellow',\n",
    "    'red',\n",
    "    'gray',\n",
    "    'green',\n",
    "]"
   ]
  },
  {
   "cell_type": "code",
   "execution_count": 6,
   "metadata": {
    "tags": []
   },
   "outputs": [
    {
     "name": "stdout",
     "output_type": "stream",
     "text": [
      "2593 7309 9049\n",
      "0 (259, 731, 905) 51 17484\n",
      "1 (259, 731, 905) 48 162\n",
      "2 (259, 731, 905) 54 18537\n",
      "3 (259, 731, 905) 54 260\n",
      "4 (259, 731, 905) 53 167\n"
     ]
    }
   ],
   "source": [
    "# channels = [0]#,1,2,3,4]\n",
    "imdir = \"/u/home/f/f7xiesnm/project-zipursky/easifish/lt186/outputs/r1/stitching/export.n5\"\n",
    "# get n5 image data for channel 1\n",
    "im = zarr.open(store=zarr.N5Store(imdir), mode='r')\n",
    "zdim, ydim, xdim = im['c3/s0'].shape\n",
    "print(zdim, ydim, xdim)\n",
    "channels = [0,1,2,3,4]\n",
    "\n",
    "for ch in channels:\n",
    "    img1 = im[f'c{ch}/s0'][int(0.5*zdim):int(0.6*zdim),\n",
    "                           int(0.5*ydim):int(0.6*ydim),\n",
    "                           int(0.5*xdim):int(0.6*xdim),\n",
    "                          ]\n",
    "    print(ch, img1.shape, np.min(img1), np.max(img1))\n",
    "\n",
    "    # viewer.add_image(img1, colormap=ccolors[ch], blending='additive', name=cnames[ch])"
   ]
  },
  {
   "cell_type": "code",
   "execution_count": 7,
   "metadata": {},
   "outputs": [
    {
     "name": "stdout",
     "output_type": "stream",
     "text": [
      "2258 7348 9045\n",
      "0 (225, 734, 905) 46 588\n",
      "1 (225, 734, 905) 54 1268\n",
      "2 (225, 734, 905) 42 535\n",
      "3 (225, 734, 905) 58 373\n",
      "4 (225, 734, 905) 36 605\n"
     ]
    }
   ],
   "source": [
    "# channels = [0]#,1,2,3,4]\n",
    "imdir = \"/u/home/f/f7xiesnm/project-zipursky/easifish/lt186/outputs/r2/stitching/export.n5\"\n",
    "# get n5 image data for channel 1\n",
    "im = zarr.open(store=zarr.N5Store(imdir), mode='r')\n",
    "zdim, ydim, xdim = im['c3/s0'].shape\n",
    "print(zdim, ydim, xdim)\n",
    "channels = [0,1,2,3,4]\n",
    "\n",
    "for ch in channels:\n",
    "    img1 = im[f'c{ch}/s0'][int(0.5*zdim):int(0.6*zdim),\n",
    "                           int(0.5*ydim):int(0.6*ydim),\n",
    "                           int(0.5*xdim):int(0.6*xdim),\n",
    "                          ]\n",
    "    print(ch, img1.shape, np.min(img1), np.max(img1))\n",
    "\n",
    "    # viewer.add_image(img1, colormap=ccolors[ch], blending='additive', name=cnames[ch])"
   ]
  },
  {
   "cell_type": "code",
   "execution_count": 8,
   "metadata": {
    "tags": []
   },
   "outputs": [
    {
     "name": "stdout",
     "output_type": "stream",
     "text": [
      "2921 7310 9092\n",
      "0 (292, 731, 909) 43 942\n",
      "1 (292, 731, 909) 40 169\n",
      "2 (292, 731, 909) 43 1135\n",
      "3 (292, 731, 909) 47 363\n",
      "4 (292, 731, 909) 43 145\n"
     ]
    }
   ],
   "source": [
    "# channels = [0]#,1,2,3,4]\n",
    "imdir = \"/u/home/f/f7xiesnm/project-zipursky/easifish/lt185/outputs/r1/stitching/export.n5\"\n",
    "# get n5 image data for channel 1\n",
    "im = zarr.open(store=zarr.N5Store(imdir), mode='r')\n",
    "zdim, ydim, xdim = im['c3/s0'].shape\n",
    "print(zdim, ydim, xdim)\n",
    "channels = [0,1,2,3,4]\n",
    "\n",
    "for ch in channels:\n",
    "    img1 = im[f'c{ch}/s0'][int(0.5*zdim):int(0.6*zdim),\n",
    "                           int(0.5*ydim):int(0.6*ydim),\n",
    "                           int(0.5*xdim):int(0.6*xdim),\n",
    "                          ]\n",
    "    print(ch, img1.shape, np.min(img1), np.max(img1))\n",
    "\n",
    "    # viewer.add_image(img1, colormap=ccolors[ch], blending='additive', name=cnames[ch])"
   ]
  },
  {
   "cell_type": "code",
   "execution_count": 9,
   "metadata": {},
   "outputs": [
    {
     "name": "stdout",
     "output_type": "stream",
     "text": [
      "2745 7350 9173\n",
      "0 (275, 735, 917) 29 412\n",
      "1 (275, 735, 917) 38 764\n",
      "2 (275, 735, 917) 40 570\n",
      "3 (275, 735, 917) 48 1015\n",
      "4 (275, 735, 917) 32 997\n"
     ]
    }
   ],
   "source": [
    "# channels = [0]#,1,2,3,4]\n",
    "imdir = \"/u/home/f/f7xiesnm/project-zipursky/easifish/lt185/outputs/r2/stitching/export.n5\"\n",
    "# get n5 image data for channel 1\n",
    "im = zarr.open(store=zarr.N5Store(imdir), mode='r')\n",
    "zdim, ydim, xdim = im['c3/s0'].shape\n",
    "print(zdim, ydim, xdim)\n",
    "channels = [0,1,2,3,4]\n",
    "\n",
    "for ch in channels:\n",
    "    img1 = im[f'c{ch}/s0'][int(0.5*zdim):int(0.6*zdim),\n",
    "                           int(0.5*ydim):int(0.6*ydim),\n",
    "                           int(0.5*xdim):int(0.6*xdim),\n",
    "                          ]\n",
    "    print(ch, img1.shape, np.min(img1), np.max(img1))\n",
    "\n",
    "    # viewer.add_image(img1, colormap=ccolors[ch], blending='additive', name=cnames[ch])"
   ]
  },
  {
   "cell_type": "code",
   "execution_count": 10,
   "metadata": {
    "tags": []
   },
   "outputs": [],
   "source": [
    "# outdir = \"/u/home/f/f7xiesnm/project-zipursky/easifish/results\"\n",
    "# nrrd.write(outdir+'/test_v2.nrrd', img1.transpose([2,1,0]), compression_level=2)\n",
    "# # a = nrrd.read(outdir+'/test.nrrd')"
   ]
  },
  {
   "cell_type": "code",
   "execution_count": null,
   "metadata": {},
   "outputs": [],
   "source": []
  },
  {
   "cell_type": "code",
   "execution_count": null,
   "metadata": {},
   "outputs": [],
   "source": []
  },
  {
   "cell_type": "code",
   "execution_count": null,
   "metadata": {},
   "outputs": [],
   "source": []
  }
 ],
 "metadata": {
  "kernelspec": {
   "display_name": "Python 3 (ipykernel)",
   "language": "python",
   "name": "python3"
  },
  "language_info": {
   "codemirror_mode": {
    "name": "ipython",
    "version": 3
   },
   "file_extension": ".py",
   "mimetype": "text/x-python",
   "name": "python",
   "nbconvert_exporter": "python",
   "pygments_lexer": "ipython3",
   "version": "3.9.16"
  }
 },
 "nbformat": 4,
 "nbformat_minor": 4
}
