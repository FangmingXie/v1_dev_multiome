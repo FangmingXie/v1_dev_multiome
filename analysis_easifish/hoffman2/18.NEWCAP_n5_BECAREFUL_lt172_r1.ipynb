{
 "cells": [
  {
   "cell_type": "markdown",
   "id": "8c753145-1a59-480d-abb2-60f2fa3f416f",
   "metadata": {},
   "source": [
    "# cap c3\n",
    "- be very careful!!!!"
   ]
  },
  {
   "cell_type": "code",
   "execution_count": 1,
   "id": "2b6aeb01",
   "metadata": {},
   "outputs": [],
   "source": [
    "import numpy as np\n",
    "import zarr\n",
    "from numcodecs import GZip \n",
    "# alignment functions\n",
    "import tifffile"
   ]
  },
  {
   "cell_type": "code",
   "execution_count": 2,
   "id": "488bf9f9-05c4-4e5e-9785-a0f02e1471e0",
   "metadata": {
    "tags": []
   },
   "outputs": [],
   "source": [
    "def cap_img(a0, pctl=99.9):\n",
    "    \"\"\"\n",
    "    \"\"\"\n",
    "    a = np.clip(a0, None, np.percentile(a0, pctl)).astype('uint16')\n",
    "    print(np.max(a0), '->', np.max(a))\n",
    "    return a\n",
    "\n",
    "def modify_n5_like_a0(img_path, a0, a, a_slot):\n",
    "    \"\"\"\n",
    "    be very careful - \n",
    "    \"\"\"\n",
    "    n5_root = zarr.open_group(store=zarr.N5Store(img_path), mode='a')\n",
    "    dataset = n5_root.require_dataset(\n",
    "        a_slot,\n",
    "        shape=a0.shape,\n",
    "        chunks=a0._chunks,\n",
    "        dtype=a0.dtype,\n",
    "        compressor=GZip(level=-1),\n",
    "        data=a)\n",
    "    # set additional attributes\n",
    "    dataset.attrs.update(**a0.attrs.asdict())\n",
    "    \n",
    "    return "
   ]
  },
  {
   "cell_type": "code",
   "execution_count": 3,
   "id": "f9e34109-0b59-441f-bb7a-2f75c90d30eb",
   "metadata": {
    "tags": []
   },
   "outputs": [
    {
     "name": "stdout",
     "output_type": "stream",
     "text": [
      "attributes.json  c0  c1  c2  c3  c4\n"
     ]
    }
   ],
   "source": [
    "p = '/u/home/f/f7xiesnm/project-zipursky/easifish/lt172/outputs'\n",
    "img_path = p + '/r1/stitching/export.n5'\n",
    "!ls $img_path"
   ]
  },
  {
   "cell_type": "code",
   "execution_count": 4,
   "id": "30742e06-4dad-4ca4-8236-57607dd618f6",
   "metadata": {
    "tags": []
   },
   "outputs": [
    {
     "name": "stdout",
     "output_type": "stream",
     "text": [
      "/u/home/f/f7xiesnm/project-zipursky/easifish/lt172/outputs/r1/stitching/export.n5\n"
     ]
    }
   ],
   "source": [
    "print(img_path)"
   ]
  },
  {
   "cell_type": "code",
   "execution_count": 5,
   "id": "5d71f6f4-5204-4d2d-8790-249b7b7b1fa3",
   "metadata": {},
   "outputs": [
    {
     "name": "stdout",
     "output_type": "stream",
     "text": [
      "521 -> 215\n",
      "1241 -> 226\n",
      "CPU times: user 16.4 s, sys: 801 ms, total: 17.2 s\n",
      "Wall time: 46.1 s\n"
     ]
    }
   ],
   "source": [
    "%%time\n",
    "g0_slot = 'c3' \n",
    "g_slot  = 'c3_reg'\n",
    "\n",
    "# update dataset - s4 resolution\n",
    "a0 = zarr.open(store=zarr.N5Store(img_path), mode='r')[g0_slot+'/s4']\n",
    "a = cap_img(a0[...], pctl=99.9)\n",
    "modify_n5_like_a0(img_path, a0, a, g_slot+'/s4')\n",
    "\n",
    "# update dataset - s3 resolution\n",
    "a0 = zarr.open(store=zarr.N5Store(img_path), mode='r')[g0_slot+'/s3']\n",
    "a = cap_img(a0[...], pctl=99.9)\n",
    "modify_n5_like_a0(img_path, a0, a, g_slot+'/s3')"
   ]
  },
  {
   "cell_type": "markdown",
   "id": "90cf5117-82c4-4bb7-862d-2fd01f19cc18",
   "metadata": {},
   "source": [
    "# test out"
   ]
  },
  {
   "cell_type": "code",
   "execution_count": 6,
   "id": "9c4e69f5-78c0-4144-8130-a3d7d5f25a06",
   "metadata": {
    "tags": []
   },
   "outputs": [],
   "source": [
    "zarr_handle = zarr.open(store=zarr.N5Store(img_path), mode='r')"
   ]
  },
  {
   "cell_type": "code",
   "execution_count": 7,
   "id": "4734e026-9fda-4013-91f2-f232c6c906c3",
   "metadata": {
    "tags": []
   },
   "outputs": [
    {
     "name": "stdout",
     "output_type": "stream",
     "text": [
      "(187, 227, 228) (187, 227, 228)\n",
      "521 215\n"
     ]
    }
   ],
   "source": [
    "img0 = zarr_handle['c3/s4']\n",
    "img1 = zarr_handle['c3_reg/s4']\n",
    "print(img0.shape, img1.shape)\n",
    "print(np.max(img0), np.max(img1))"
   ]
  },
  {
   "cell_type": "markdown",
   "id": "edafb572-62e3-4168-91ab-4311f7037cb9",
   "metadata": {},
   "source": [
    "# roll out"
   ]
  },
  {
   "cell_type": "code",
   "execution_count": 8,
   "id": "bff52f7c-7b74-4af8-ac82-dd65f43679ac",
   "metadata": {
    "tags": []
   },
   "outputs": [
    {
     "name": "stdout",
     "output_type": "stream",
     "text": [
      "/u/home/f/f7xiesnm/project-zipursky/easifish/lt172/outputs/r1/stitching/export.n5\n",
      "521 -> 215\n",
      "1241 -> 226\n",
      "/u/home/f/f7xiesnm/project-zipursky/easifish/lt172/outputs/r2/stitching/export.n5\n",
      "2924 -> 171\n",
      "4349 -> 179\n",
      "/u/home/f/f7xiesnm/project-zipursky/easifish/lt172/outputs/r3/stitching/export.n5\n",
      "9271 -> 316\n",
      "15169 -> 336\n",
      "/u/home/f/f7xiesnm/project-zipursky/easifish/lt172/outputs/r4/stitching/export.n5\n",
      "41144 -> 320\n",
      "57700 -> 338\n",
      "/u/home/f/f7xiesnm/project-zipursky/easifish/lt172/outputs/r5/stitching/export.n5\n",
      "21572 -> 373\n",
      "33767 -> 392\n"
     ]
    }
   ],
   "source": [
    "p = '/u/home/f/f7xiesnm/project-zipursky/easifish/lt172/outputs'\n",
    "\n",
    "g0_slot = 'c3' \n",
    "g_slot  = 'c3_reg'\n",
    "rounds = ['r1', 'r2', 'r3', 'r4', 'r5',]\n",
    "\n",
    "for r in rounds:\n",
    "    img_path = p + f'/{r}/stitching/export.n5'\n",
    "    print(img_path)\n",
    "    \n",
    "    # update dataset - s4 resolution\n",
    "    a0 = zarr.open(store=zarr.N5Store(img_path), mode='r')[g0_slot+'/s4']\n",
    "    a = cap_img(a0[...], pctl=99.9)\n",
    "    modify_n5_like_a0(img_path, a0, a, g_slot+'/s4')\n",
    "\n",
    "    # update dataset - s3 resolution\n",
    "    a0 = zarr.open(store=zarr.N5Store(img_path), mode='r')[g0_slot+'/s3']\n",
    "    a = cap_img(a0[...], pctl=99.9)\n",
    "    modify_n5_like_a0(img_path, a0, a, g_slot+'/s3')"
   ]
  },
  {
   "cell_type": "code",
   "execution_count": null,
   "id": "603ca43d-f6f3-4840-b9a3-0f67379d6746",
   "metadata": {},
   "outputs": [],
   "source": []
  }
 ],
 "metadata": {
  "kernelspec": {
   "display_name": "napari",
   "language": "python",
   "name": "napari"
  },
  "language_info": {
   "codemirror_mode": {
    "name": "ipython",
    "version": 3
   },
   "file_extension": ".py",
   "mimetype": "text/x-python",
   "name": "python",
   "nbconvert_exporter": "python",
   "pygments_lexer": "ipython3",
   "version": "3.9.16"
  }
 },
 "nbformat": 4,
 "nbformat_minor": 5
}
