{
 "cells": [
  {
   "cell_type": "markdown",
   "id": "8c753145-1a59-480d-abb2-60f2fa3f416f",
   "metadata": {},
   "source": [
    "# Inputs\n",
    "---"
   ]
  },
  {
   "cell_type": "code",
   "execution_count": 1,
   "id": "2b6aeb01",
   "metadata": {},
   "outputs": [],
   "source": [
    "import numpy as np, zarr, nrrd\n",
    "# alignment functions\n",
    "from bigstream.align import alignment_pipeline\n",
    "from bigstream.transform import apply_transform\n",
    "import tifffile\n",
    "import seaborn as sns"
   ]
  },
  {
   "cell_type": "code",
   "execution_count": 2,
   "id": "f9e34109-0b59-441f-bb7a-2f75c90d30eb",
   "metadata": {
    "tags": []
   },
   "outputs": [],
   "source": [
    "p      = '/u/home/f/f7xiesnm/project-zipursky/easifish/lt185/outputs/'\n",
    "outdir = '/u/home/f/f7xiesnm/project-zipursky/easifish/results/test_bigstream_lt185_r1tor2_copy1'\n",
    "!mkdir -p $outdir"
   ]
  },
  {
   "cell_type": "code",
   "execution_count": 3,
   "id": "5d71f6f4-5204-4d2d-8790-249b7b7b1fa3",
   "metadata": {},
   "outputs": [
    {
     "name": "stdout",
     "output_type": "stream",
     "text": [
      "[0.21  0.115 0.115] [0.21  0.115 0.115]\n",
      "[0.21 0.23 0.23] [0.21 0.23 0.23]\n",
      "[0.84 0.92 0.92] [0.84 0.92 0.92]\n",
      "[1.68 1.84 1.84] [1.68 1.84 1.84]\n",
      "(706, 902, 1128) (756, 901, 1130)\n",
      "(353, 451, 564) (378, 450, 565)\n"
     ]
    }
   ],
   "source": [
    "fix_path = p + '/r2v3/stitching/export.n5'\n",
    "mov_path = p + '/r1v3/stitching/export.n5'\n",
    "exp_factor = 2  # replace this with the known expansion factor for your sample to use pre-expansion units\n",
    "\n",
    "fix_spacing = np.array([0.42, 0.23, 0.23]) / exp_factor\n",
    "mov_spacing = np.array([0.42, 0.23, 0.23]) / exp_factor\n",
    "s1_scale = [1,2,2] # z,y,x\n",
    "s3_scale = [4,8,8]\n",
    "s4_scale = [8,16,16]\n",
    "\n",
    "# load fix data and spacing\n",
    "fix_zarr = zarr.open(store=zarr.N5Store(fix_path), mode='r')\n",
    "# fix_meta = fix_zarr.attrs.asdict()\n",
    "# fix_spacing = np.array(fix_meta['pixelResolution']['dimensions'][::-1]) / exp_factor\n",
    "fix_spacing_s1 = fix_spacing * s1_scale \n",
    "fix_spacing_s3 = fix_spacing * s3_scale \n",
    "fix_spacing_s4 = fix_spacing * s4_scale \n",
    "\n",
    "# load mov data and spacing\n",
    "mov_zarr = zarr.open(store=zarr.N5Store(mov_path), mode='r')\n",
    "# mov_meta = mov_zarr.attrs.asdict()\n",
    "# mov_spacing = np.array(mov_meta['pixelResolution']['dimensions'][::-1]) / exp_factor\n",
    "mov_spacing_s1 = mov_spacing * s1_scale\n",
    "mov_spacing_s3 = mov_spacing * s3_scale \n",
    "mov_spacing_s4 = mov_spacing * s4_scale \n",
    "\n",
    "# print spacings\n",
    "print(fix_spacing, mov_spacing)\n",
    "print(fix_spacing_s1, mov_spacing_s1)\n",
    "print(fix_spacing_s3, mov_spacing_s3)\n",
    "print(fix_spacing_s4, mov_spacing_s4)\n",
    "\n",
    "# print shapes\n",
    "print(fix_zarr['/c3_reg/s3'].shape, mov_zarr['/c3_reg/s3'].shape)\n",
    "print(fix_zarr['/c3_reg/s4'].shape, mov_zarr['/c3_reg/s4'].shape)\n"
   ]
  },
  {
   "cell_type": "markdown",
   "id": "282cb995-1ffa-45ff-8d12-49a3cf6cab81",
   "metadata": {},
   "source": [
    "# Alignment\n",
    "---"
   ]
  },
  {
   "cell_type": "markdown",
   "id": "102718cb-4dee-4a74-9056-6496692caed8",
   "metadata": {},
   "source": [
    "### global"
   ]
  },
  {
   "cell_type": "code",
   "execution_count": 4,
   "id": "f0754557-dbea-4ce8-871e-a0b7d8d5d04c",
   "metadata": {},
   "outputs": [],
   "source": [
    "# alignment functions\n",
    "from bigstream.align import alignment_pipeline\n",
    "from bigstream.transform import apply_transform"
   ]
  },
  {
   "cell_type": "code",
   "execution_count": 5,
   "id": "6c800dd7-5ea1-4ffa-b5f0-d0d4f9854756",
   "metadata": {},
   "outputs": [],
   "source": [
    "# get global alignment channels\n",
    "fix = fix_zarr['/c3_reg/s4'][...]\n",
    "mov = mov_zarr['/c3_reg/s4'][...][:,::-1,::-1]\n",
    "\n",
    "fix[:45] = 0\n",
    "fix[-40:] = 0\n",
    "\n",
    "mov[:65] = 0\n",
    "mov[-40:] = 0\n",
    "\n",
    "# # create some masks to focus alignment only on planes below the large artifact at the top\n",
    "# fix_mask = np.ones(fix.shape, dtype=np.uint8)\n",
    "# fix_mask[:45] = 0\n",
    "# fix_mask[-40:] = 0\n",
    "\n",
    "# mov_mask = np.ones(mov.shape, dtype=np.uint8)\n",
    "# mov_mask[:65] = 0\n",
    "# mov_mask[-40:] = 0"
   ]
  },
  {
   "cell_type": "code",
   "execution_count": 6,
   "id": "094fb195-6216-4f40-98ba-5fa81ea62946",
   "metadata": {
    "tags": []
   },
   "outputs": [],
   "source": [
    "tifffile.imwrite(outdir+'/fix.tiff', fix)\n",
    "tifffile.imwrite(outdir+'/mov.tiff', mov)"
   ]
  },
  {
   "cell_type": "code",
   "execution_count": 7,
   "id": "043ff5be-9cc7-40cb-8511-9031edb3e566",
   "metadata": {},
   "outputs": [
    {
     "name": "stdout",
     "output_type": "stream",
     "text": [
      "computing fixed spots\n",
      "found 75565 fixed spots\n",
      "computing moving spots\n",
      "found 33597 moving spots\n",
      "sorting spots\n",
      "extracting contexts\n",
      "computing pairwise correlations\n",
      "642 matched spots\n",
      "aligning\n",
      "LEVEL:  0  ITERATION:  0  METRIC:  -0.1183268843492654\n",
      "LEVEL:  0  ITERATION:  1  METRIC:  -0.11944674156012353\n",
      "LEVEL:  0  ITERATION:  2  METRIC:  -0.12040587474371196\n",
      "LEVEL:  0  ITERATION:  3  METRIC:  -0.12120584746259551\n",
      "LEVEL:  0  ITERATION:  4  METRIC:  -0.12186047449811993\n",
      "LEVEL:  0  ITERATION:  5  METRIC:  -0.12237961327547452\n",
      "LEVEL:  0  ITERATION:  6  METRIC:  -0.12281439442213977\n",
      "LEVEL:  0  ITERATION:  7  METRIC:  -0.12329900912715343\n",
      "LEVEL:  0  ITERATION:  8  METRIC:  -0.12401415675626735\n",
      "LEVEL:  0  ITERATION:  9  METRIC:  -0.12471105979337083\n",
      "LEVEL:  0  ITERATION:  10  METRIC:  -0.12536821213582505\n",
      "LEVEL:  0  ITERATION:  11  METRIC:  -0.1259880093508102\n",
      "LEVEL:  0  ITERATION:  12  METRIC:  -0.12657106290455306\n",
      "LEVEL:  0  ITERATION:  13  METRIC:  -0.1271193376236907\n",
      "LEVEL:  0  ITERATION:  14  METRIC:  -0.12763333704729696\n",
      "LEVEL:  0  ITERATION:  15  METRIC:  -0.1281145058982803\n",
      "LEVEL:  0  ITERATION:  16  METRIC:  -0.12856458134486026\n",
      "LEVEL:  0  ITERATION:  17  METRIC:  -0.12898483028958888\n",
      "LEVEL:  0  ITERATION:  18  METRIC:  -0.12937657419139736\n",
      "LEVEL:  0  ITERATION:  19  METRIC:  -0.12974052783035053\n",
      "LEVEL:  0  ITERATION:  20  METRIC:  -0.1300797558535373\n",
      "LEVEL:  0  ITERATION:  21  METRIC:  -0.13039163529666153\n",
      "LEVEL:  0  ITERATION:  22  METRIC:  -0.1306821433436178\n",
      "LEVEL:  0  ITERATION:  23  METRIC:  -0.13094888801027826\n",
      "LEVEL:  0  ITERATION:  24  METRIC:  -0.13120032670534584\n",
      "LEVEL:  0  ITERATION:  25  METRIC:  -0.13142304853033268\n",
      "LEVEL:  0  ITERATION:  26  METRIC:  -0.13164480534566683\n",
      "LEVEL:  0  ITERATION:  27  METRIC:  -0.13182125625822397\n",
      "LEVEL:  0  ITERATION:  28  METRIC:  -0.13203212117992444\n",
      "LEVEL:  0  ITERATION:  29  METRIC:  -0.13211602468077996\n",
      "LEVEL:  0  ITERATION:  30  METRIC:  -0.13236713644847575\n",
      "LEVEL:  0  ITERATION:  31  METRIC:  -0.13215951122565708\n",
      "LEVEL:  0  ITERATION:  32  METRIC:  -0.13254274855257908\n",
      "LEVEL:  0  ITERATION:  33  METRIC:  -0.13265178198697763\n",
      "LEVEL:  0  ITERATION:  34  METRIC:  -0.13278683666194013\n",
      "LEVEL:  0  ITERATION:  35  METRIC:  -0.1327898242604449\n",
      "LEVEL:  0  ITERATION:  36  METRIC:  -0.1330183785728301\n",
      "LEVEL:  0  ITERATION:  37  METRIC:  -0.13282151490272034\n",
      "LEVEL:  0  ITERATION:  38  METRIC:  -0.13290334842716048\n",
      "LEVEL:  0  ITERATION:  39  METRIC:  -0.13296748843715717\n",
      "LEVEL:  0  ITERATION:  40  METRIC:  -0.1330115149751336\n",
      "LEVEL:  0  ITERATION:  41  METRIC:  -0.13303749059938047\n",
      "LEVEL:  0  ITERATION:  42  METRIC:  -0.13305631520208694\n",
      "LEVEL:  0  ITERATION:  43  METRIC:  -0.1330749926161326\n",
      "LEVEL:  0  ITERATION:  44  METRIC:  -0.1330922149813765\n",
      "LEVEL:  0  ITERATION:  45  METRIC:  -0.13310955352524848\n",
      "LEVEL:  0  ITERATION:  46  METRIC:  -0.13312612335483814\n",
      "LEVEL:  0  ITERATION:  47  METRIC:  -0.13314246691499326\n",
      "LEVEL:  0  ITERATION:  48  METRIC:  -0.13315795271987052\n",
      "LEVEL:  0  ITERATION:  49  METRIC:  -0.1331733155515196\n",
      "LEVEL:  0  ITERATION:  50  METRIC:  -0.1331885966958552\n",
      "LEVEL:  0  ITERATION:  51  METRIC:  -0.13320261738691874\n",
      "LEVEL:  0  ITERATION:  52  METRIC:  -0.13321658350764326\n",
      "LEVEL:  0  ITERATION:  53  METRIC:  -0.13323044539402862\n",
      "LEVEL:  0  ITERATION:  54  METRIC:  -0.1332434198968059\n",
      "LEVEL:  0  ITERATION:  55  METRIC:  -0.13325655490831642\n",
      "LEVEL:  0  ITERATION:  56  METRIC:  -0.13326926151639126\n",
      "LEVEL:  0  ITERATION:  57  METRIC:  -0.13328142255643213\n",
      "LEVEL:  0  ITERATION:  58  METRIC:  -0.13329322430671417\n",
      "LEVEL:  0  ITERATION:  59  METRIC:  -0.1333045518535895\n",
      "LEVEL:  0  ITERATION:  60  METRIC:  -0.13331568321851495\n",
      "LEVEL:  0  ITERATION:  61  METRIC:  -0.13332708311953945\n",
      "LEVEL:  0  ITERATION:  62  METRIC:  -0.1333368324268231\n",
      "LEVEL:  0  ITERATION:  63  METRIC:  -0.13334707504808846\n",
      "LEVEL:  0  ITERATION:  64  METRIC:  -0.133356815233257\n",
      "LEVEL:  0  ITERATION:  65  METRIC:  -0.13336625672826458\n",
      "LEVEL:  0  ITERATION:  66  METRIC:  -0.1333751894888526\n",
      "LEVEL:  0  ITERATION:  67  METRIC:  -0.13338392795109996\n",
      "LEVEL:  0  ITERATION:  68  METRIC:  -0.13339229741746256\n",
      "LEVEL:  0  ITERATION:  69  METRIC:  -0.13340062530973731\n",
      "LEVEL:  0  ITERATION:  70  METRIC:  -0.13340858475756212\n",
      "LEVEL:  0  ITERATION:  71  METRIC:  -0.1334163354144271\n",
      "LEVEL:  0  ITERATION:  72  METRIC:  -0.1334236376438811\n",
      "LEVEL:  0  ITERATION:  73  METRIC:  -0.13343112127939863\n",
      "LEVEL:  0  ITERATION:  74  METRIC:  -0.13343822638769906\n",
      "LEVEL:  0  ITERATION:  75  METRIC:  -0.1334449447904873\n",
      "LEVEL:  0  ITERATION:  76  METRIC:  -0.13345167918492337\n",
      "LEVEL:  0  ITERATION:  77  METRIC:  -0.13345823688485167\n",
      "LEVEL:  0  ITERATION:  78  METRIC:  -0.13346418374481425\n",
      "LEVEL:  0  ITERATION:  79  METRIC:  -0.13347031851520622\n",
      "LEVEL:  0  ITERATION:  80  METRIC:  -0.1334755706928769\n",
      "LEVEL:  0  ITERATION:  81  METRIC:  -0.13348065265061015\n",
      "LEVEL:  0  ITERATION:  82  METRIC:  -0.13348554610408725\n",
      "LEVEL:  0  ITERATION:  83  METRIC:  -0.13349054678281924\n",
      "LEVEL:  0  ITERATION:  84  METRIC:  -0.13349498683452385\n",
      "LEVEL:  0  ITERATION:  85  METRIC:  -0.13349936833758835\n",
      "LEVEL:  0  ITERATION:  86  METRIC:  -0.13350352806950294\n",
      "LEVEL:  0  ITERATION:  87  METRIC:  -0.13350766579387008\n",
      "LEVEL:  0  ITERATION:  88  METRIC:  -0.1335111339700892\n",
      "LEVEL:  0  ITERATION:  89  METRIC:  -0.1335151263037082\n",
      "LEVEL:  0  ITERATION:  90  METRIC:  -0.13351787503761198\n",
      "LEVEL:  0  ITERATION:  91  METRIC:  -0.1335223546162149\n",
      "LEVEL:  0  ITERATION:  92  METRIC:  -0.13352228246213638\n",
      "LEVEL:  0  ITERATION:  93  METRIC:  -0.13353104765018595\n",
      "LEVEL:  0  ITERATION:  94  METRIC:  -0.13351976607071553\n",
      "Registration succeeded\n",
      "CPU times: user 24min 56s, sys: 1min 3s, total: 25min 59s\n",
      "Wall time: 11min 58s\n"
     ]
    }
   ],
   "source": [
    "\n",
    "%%time\n",
    "\n",
    "# define alignment steps\n",
    "ransac_kwargs = {\n",
    "    'blob_sizes': [2, 8],\n",
    "    'cc_radius': 12,\n",
    "    'match_threshold':0.4,\n",
    "    'nspots':10000,\n",
    "    'fix_spot_detection_kwargs': {\n",
    "            'threshold':1e-3,\n",
    "            'threshold_rel':None,\n",
    "        },\n",
    "    'mov_spot_detection_kwargs': {\n",
    "            'threshold':5e-4,\n",
    "            'threshold_rel':None,\n",
    "        },\n",
    "    # 'nspots':2000,\n",
    "}\n",
    "\n",
    "affine_kwargs = {\n",
    "    'alignment_spacing':4.0,\n",
    "    'shrink_factors':(1,),\n",
    "    'smooth_sigmas':(4.,),\n",
    "    'optimizer_args':{\n",
    "        'learningRate':0.25,\n",
    "        'minStep':0.,\n",
    "        'numberOfIterations':400,\n",
    "    },\n",
    "    'metric':'C',\n",
    "}\n",
    "\n",
    "\n",
    "steps = [\n",
    "    ('ransac', ransac_kwargs,),\n",
    "    ('affine', affine_kwargs,),\n",
    "        ]\n",
    "\n",
    "# align\n",
    "affine = alignment_pipeline(\n",
    "    fix, mov,\n",
    "    fix_spacing_s4,\n",
    "    mov_spacing_s4,\n",
    "    steps,\n",
    "    # fix_mask=fix_mask,\n",
    "    # mov_mask=mov_mask,\n",
    ")\n"
   ]
  },
  {
   "cell_type": "code",
   "execution_count": 8,
   "id": "cf1264ff-0ecf-45dd-b4b8-c7d704be4313",
   "metadata": {},
   "outputs": [
    {
     "name": "stdout",
     "output_type": "stream",
     "text": [
      "[[ 1.00452188e+00 -6.64838346e-02  1.36189093e-01  4.60706158e-01]\n",
      " [ 6.99399750e-02  9.63044782e-01  1.12428480e-01 -6.79790893e+01]\n",
      " [-1.70840532e-01 -1.25446791e-02  9.96765288e-01  1.37389743e+02]\n",
      " [ 0.00000000e+00  0.00000000e+00  0.00000000e+00  1.00000000e+00]]\n"
     ]
    }
   ],
   "source": [
    "print(affine)\n",
    "\n",
    "# apply affine only\n",
    "affine_aligned = apply_transform(\n",
    "    fix, mov,\n",
    "    fix_spacing_s4, mov_spacing_s4,\n",
    "    transform_list=[affine,],\n",
    ")\n",
    "\n",
    "# write results\n",
    "np.savetxt(outdir+'/affine-masked.mat', affine)\n",
    "tifffile.imwrite(outdir+'/affine-masked.tiff', affine_aligned)"
   ]
  }
 ],
 "metadata": {
  "kernelspec": {
   "display_name": "napari",
   "language": "python",
   "name": "napari"
  },
  "language_info": {
   "codemirror_mode": {
    "name": "ipython",
    "version": 3
   },
   "file_extension": ".py",
   "mimetype": "text/x-python",
   "name": "python",
   "nbconvert_exporter": "python",
   "pygments_lexer": "ipython3",
   "version": "3.9.16"
  }
 },
 "nbformat": 4,
 "nbformat_minor": 5
}
