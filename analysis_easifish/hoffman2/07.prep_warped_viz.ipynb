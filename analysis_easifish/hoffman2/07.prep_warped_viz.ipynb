{
 "cells": [
  {
   "cell_type": "markdown",
   "metadata": {},
   "source": [
    "### Load packages"
   ]
  },
  {
   "cell_type": "code",
   "execution_count": 1,
   "metadata": {
    "scrolled": true,
    "tags": []
   },
   "outputs": [],
   "source": [
    "import os, sys\n",
    "import numpy as np\n",
    "import pandas as pd\n",
    "from glob import glob \n",
    "from skimage.io import imread, imsave\n",
    "import seaborn as sns\n",
    "import zarr\n",
    "import nrrd\n",
    "import tifffile\n",
    "# import napari"
   ]
  },
  {
   "cell_type": "markdown",
   "metadata": {},
   "source": [
    "### Start Napari viewer"
   ]
  },
  {
   "cell_type": "code",
   "execution_count": 2,
   "metadata": {
    "tags": []
   },
   "outputs": [],
   "source": [
    "# %gui qt\n",
    "# napari.gui_qt()\n",
    "# viewer = napari.Viewer(ndisplay=3)"
   ]
  },
  {
   "cell_type": "markdown",
   "metadata": {},
   "source": [
    "### Specify directory to data files"
   ]
  },
  {
   "cell_type": "code",
   "execution_count": 3,
   "metadata": {
    "tags": []
   },
   "outputs": [],
   "source": [
    "fix_dir = \"/u/home/f/f7xiesnm/project-zipursky/easifish/lt186/outputs/r1/stitching/export.n5\"\n",
    "\n",
    "mov2_dir = \"/u/home/f/f7xiesnm/project-zipursky/easifish/lt186/outputs/r2/stitching/export.n5\"\n",
    "wrp2_dir = \"/u/home/f/f7xiesnm/project-zipursky/easifish/lt186/outputs/r2/registration/r2-to-r1/warped\"\n",
    "\n",
    "mov6_dir = \"/u/home/f/f7xiesnm/project-zipursky/easifish/lt186/outputs/r6/stitching/export.n5\"\n",
    "wrp6_dir = \"/u/home/f/f7xiesnm/project-zipursky/easifish/lt186/outputs/r6/registration/r6-to-r1/warped\"\n",
    "\n",
    "mov7_dir = \"/u/home/f/f7xiesnm/project-zipursky/easifish/lt186/outputs/r7/stitching/export.n5\"\n",
    "wrp7_dir = \"/u/home/f/f7xiesnm/project-zipursky/easifish/lt186/outputs/r7/registration/r7-to-r1/warped\""
   ]
  },
  {
   "cell_type": "code",
   "execution_count": 4,
   "metadata": {
    "scrolled": true,
    "tags": []
   },
   "outputs": [
    {
     "name": "stdout",
     "output_type": "stream",
     "text": [
      "(648, 913, 1131)\n",
      "(564, 918, 1130)\n",
      "(648, 913, 1131)\n",
      "(624, 926, 1135)\n",
      "(648, 913, 1131)\n",
      "(574, 917, 1136)\n",
      "(648, 913, 1131)\n"
     ]
    }
   ],
   "source": [
    "fix = zarr.open(store=zarr.N5Store(fix_dir), mode='r')\n",
    "\n",
    "mov2 = zarr.open(store=zarr.N5Store(mov2_dir), mode='r')\n",
    "wrp2 = zarr.open(store=zarr.N5Store(wrp2_dir), mode='r')\n",
    "\n",
    "mov6 = zarr.open(store=zarr.N5Store(mov6_dir), mode='r')\n",
    "wrp6 = zarr.open(store=zarr.N5Store(wrp6_dir), mode='r')\n",
    "\n",
    "mov7 = zarr.open(store=zarr.N5Store(mov7_dir), mode='r')\n",
    "wrp7 = zarr.open(store=zarr.N5Store(wrp7_dir), mode='r')\n",
    "\n",
    "print(fix['c3/s3'].shape)\n",
    "\n",
    "print(mov2['c3/s3'].shape)\n",
    "print(wrp2['c3/s3'].shape) # s3 is the only scale; but we need s4\n",
    "\n",
    "print(mov6['c3/s3'].shape)\n",
    "print(wrp6['c3/s3'].shape) # s3 is the only scale; but we need s4\n",
    "\n",
    "print(mov7['c3/s3'].shape)\n",
    "print(wrp7['c3/s3'].shape) # s3 is the only scale; but we need s4"
   ]
  },
  {
   "cell_type": "code",
   "execution_count": 5,
   "metadata": {
    "tags": []
   },
   "outputs": [
    {
     "name": "stdout",
     "output_type": "stream",
     "text": [
      "(324, 457, 566)\n",
      "(282, 459, 565)\n",
      "(324, 457, 566)\n",
      "(312, 463, 568)\n",
      "(324, 457, 566)\n",
      "(287, 459, 568)\n",
      "(324, 457, 566)\n"
     ]
    }
   ],
   "source": [
    "fix_img = fix['c3/s3'][::2,::2,::2]\n",
    "\n",
    "mov2_img = mov2['c3/s3'][::2,::2,::2]\n",
    "wrp2_img = wrp2['c3/s3'][::2,::2,::2]\n",
    "\n",
    "mov6_img = mov6['c3/s3'][::2,::2,::2]\n",
    "wrp6_img = wrp6['c3/s3'][::2,::2,::2]\n",
    "\n",
    "mov7_img = mov7['c3/s3'][::2,::2,::2]\n",
    "wrp7_img = wrp7['c3/s3'][::2,::2,::2]\n",
    "\n",
    "print(fix_img.shape)\n",
    "\n",
    "print(mov2_img.shape)\n",
    "print(wrp2_img.shape)\n",
    "\n",
    "print(mov6_img.shape)\n",
    "print(wrp6_img.shape)\n",
    "\n",
    "print(mov7_img.shape)\n",
    "print(wrp7_img.shape)"
   ]
  },
  {
   "cell_type": "code",
   "execution_count": 6,
   "metadata": {
    "tags": []
   },
   "outputs": [],
   "source": [
    "from skimage.exposure import equalize_adapthist, equalize_hist\n",
    "def norm(img, bck):\n",
    "    \"\"\"\n",
    "    bck = 90\n",
    "    \"\"\"\n",
    "    img_norm = equalize_hist(img, mask=(img > bck))\n",
    "    img_norm = np.round(img_norm*64000).astype(np.uint16) # uint16 - 65536\n",
    "    return img_norm\n",
    "\n",
    "fix_norm = norm(fix_img, 90)\n",
    "\n",
    "mov2_norm = norm(mov2_img, 90)\n",
    "wrp2_norm = norm(wrp2_img, 90)\n",
    "\n",
    "mov6_norm = norm(mov6_img, 90)\n",
    "wrp6_norm = norm(wrp6_img, 90)\n",
    "\n",
    "mov7_norm = norm(mov7_img, 90)\n",
    "wrp7_norm = norm(wrp7_img, 90)"
   ]
  },
  {
   "cell_type": "code",
   "execution_count": 7,
   "metadata": {
    "tags": []
   },
   "outputs": [],
   "source": [
    "outdir = \"/u/home/f/f7xiesnm/project-zipursky/easifish/results\"\n",
    "\n",
    "# tifffile.imwrite(outdir+'/r1_c3_down2x.tiff',     fix_img.transpose([2,1,0]))\n",
    "# tifffile.imwrite(outdir+'/r7_c3_down2x.tiff',     mov_img.transpose([2,1,0]))\n",
    "# tifffile.imwrite(outdir+'/r7tor1_c3_down2x.tiff', wrp_img.transpose([2,1,0]))\n",
    "\n",
    "tifffile.imwrite(outdir+'/r1_c3_down2x_norm.tiff',     fix_norm.transpose([2,1,0]))\n",
    "\n",
    "tifffile.imwrite(outdir+'/r2_c3_down2x_norm.tiff',     mov2_norm.transpose([2,1,0]))\n",
    "tifffile.imwrite(outdir+'/r2tor1_c3_down2x_norm.tiff', wrp2_norm.transpose([2,1,0]))\n",
    "\n",
    "tifffile.imwrite(outdir+'/r6_c3_down2x_norm.tiff',     mov6_norm.transpose([2,1,0]))\n",
    "tifffile.imwrite(outdir+'/r6tor1_c3_down2x_norm.tiff', wrp6_norm.transpose([2,1,0]))\n",
    "\n",
    "tifffile.imwrite(outdir+'/r7_c3_down2x_norm.tiff',     mov7_norm.transpose([2,1,0]))\n",
    "tifffile.imwrite(outdir+'/r7tor1_c3_down2x_norm.tiff', wrp7_norm.transpose([2,1,0]))"
   ]
  },
  {
   "cell_type": "code",
   "execution_count": null,
   "metadata": {},
   "outputs": [],
   "source": []
  }
 ],
 "metadata": {
  "kernelspec": {
   "display_name": "Python 3 (ipykernel)",
   "language": "python",
   "name": "python3"
  },
  "language_info": {
   "codemirror_mode": {
    "name": "ipython",
    "version": 3
   },
   "file_extension": ".py",
   "mimetype": "text/x-python",
   "name": "python",
   "nbconvert_exporter": "python",
   "pygments_lexer": "ipython3",
   "version": "3.9.16"
  }
 },
 "nbformat": 4,
 "nbformat_minor": 4
}
