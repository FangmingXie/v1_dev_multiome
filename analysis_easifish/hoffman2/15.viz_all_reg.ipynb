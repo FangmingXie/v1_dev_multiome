{
 "cells": [
  {
   "cell_type": "markdown",
   "id": "8c753145-1a59-480d-abb2-60f2fa3f416f",
   "metadata": {},
   "source": [
    "# Inputs\n",
    "---"
   ]
  },
  {
   "cell_type": "code",
   "execution_count": 3,
   "id": "2b6aeb01",
   "metadata": {},
   "outputs": [],
   "source": [
    "import numpy as np, zarr, nrrd\n",
    "# alignment functions\n",
    "from bigstream.align import alignment_pipeline\n",
    "from bigstream.transform import apply_transform\n",
    "import tifffile\n",
    "\n",
    "import seaborn as sns\n",
    "import matplotlib.pyplot as plt"
   ]
  },
  {
   "cell_type": "code",
   "execution_count": 4,
   "id": "f9e34109-0b59-441f-bb7a-2f75c90d30eb",
   "metadata": {
    "tags": []
   },
   "outputs": [],
   "source": [
    "p = '/u/home/f/f7xiesnm/project-zipursky/easifish/lt186/outputs'\n",
    "outdir = '/u/home/f/f7xiesnm/project-zipursky/easifish/results/viz_reg_r1267'\n",
    "!mkdir -p $outdir"
   ]
  },
  {
   "cell_type": "code",
   "execution_count": 7,
   "id": "5d71f6f4-5204-4d2d-8790-249b7b7b1fa3",
   "metadata": {},
   "outputs": [],
   "source": [
    "r1_path = p + '/r1/stitching/export.n5'\n",
    "r2_path = p + '/r2/stitching/export.n5'\n",
    "r6_path = p + '/r6/stitching/export.n5'\n",
    "r7_path = p + '/r7/stitching/export.n5'\n",
    "\n",
    "r1_zarr = zarr.open(store=zarr.N5Store(r1_path), mode='r')\n",
    "r2_zarr = zarr.open(store=zarr.N5Store(r2_path), mode='r')\n",
    "r6_zarr = zarr.open(store=zarr.N5Store(r6_path), mode='r')\n",
    "r7_zarr = zarr.open(store=zarr.N5Store(r7_path), mode='r')\n",
    "\n",
    "r1 = r1_zarr['/c3/s3'][::2,::2,::2]\n",
    "r2 = r2_zarr['/c3/s3'][::2,::2,::2]\n",
    "r6 = r6_zarr['/c3/s3'][::2,::2,::2]\n",
    "r7 = r7_zarr['/c3/s3'][::2,::2,::2]\n"
   ]
  },
  {
   "cell_type": "code",
   "execution_count": 8,
   "id": "5964cba8-486e-49f6-8ff3-22de7cb848dc",
   "metadata": {
    "tags": []
   },
   "outputs": [
    {
     "data": {
      "text/plain": [
       "(173, 247, 200, 184)"
      ]
     },
     "execution_count": 8,
     "metadata": {},
     "output_type": "execute_result"
    }
   ],
   "source": [
    "np.max(r1), np.max(r2), np.max(r6), np.max(r7)"
   ]
  },
  {
   "cell_type": "code",
   "execution_count": 9,
   "id": "9eb0abf8-70cc-436f-98a6-0d8998fa26cd",
   "metadata": {
    "tags": []
   },
   "outputs": [],
   "source": [
    "\n",
    "r7to6_zarr = zarr.open(store=zarr.N5Store(p + '/r7/registration/usable/r7-to-r6/warped'), mode='r')\n",
    "r6to2_zarr = zarr.open(store=zarr.N5Store(p + '/r6/registration/usable/r6-to-r2/warped'), mode='r')\n",
    "r2to1_zarr = zarr.open(store=zarr.N5Store(p + '/r2/registration/usable/r2-to-r1/warped'), mode='r')\n",
    "r7to1_zarr = zarr.open(store=zarr.N5Store(p + '/r7/registration/usable/r7-to-r1/warped'), mode='r')\n",
    "\n",
    "r7to6 = r7to6_zarr['/c3/s3'][::2,::2,::2]\n",
    "r6to2 = r6to2_zarr['/c3/s3'][::2,::2,::2]\n",
    "r2to1 = r2to1_zarr['/c3/s3'][::2,::2,::2]\n",
    "r7to1 = r7to1_zarr['/c3/s3'][::2,::2,::2]"
   ]
  },
  {
   "cell_type": "code",
   "execution_count": 10,
   "id": "83909bba-3b26-4055-a7c0-d02832fe16da",
   "metadata": {
    "tags": []
   },
   "outputs": [
    {
     "data": {
      "text/plain": [
       "(62365, 200, 46952, 184)"
      ]
     },
     "execution_count": 10,
     "metadata": {},
     "output_type": "execute_result"
    }
   ],
   "source": [
    "np.max(r7to6), np.max(r6to2), np.max(r2to1), np.max(r7to1)"
   ]
  },
  {
   "cell_type": "code",
   "execution_count": 11,
   "id": "08dae79d-075b-4bd9-b12a-efb0389f2fd9",
   "metadata": {
    "tags": []
   },
   "outputs": [],
   "source": [
    "tifffile.imwrite(outdir+'/r1.tiff', r1)\n",
    "tifffile.imwrite(outdir+'/r2.tiff', r2)\n",
    "tifffile.imwrite(outdir+'/r6.tiff', r6)\n",
    "tifffile.imwrite(outdir+'/r7.tiff', r7)\n",
    "\n",
    "tifffile.imwrite(outdir+'/r7to6.tiff', r7to6)\n",
    "tifffile.imwrite(outdir+'/r6to2.tiff', r6to2)\n",
    "tifffile.imwrite(outdir+'/r2to1.tiff', r2to1)\n",
    "tifffile.imwrite(outdir+'/r7to1.tiff', r7to1)"
   ]
  },
  {
   "cell_type": "code",
   "execution_count": null,
   "id": "ce6beadb-79d0-4c65-b232-96e92e449a71",
   "metadata": {},
   "outputs": [],
   "source": []
  }
 ],
 "metadata": {
  "kernelspec": {
   "display_name": "napari",
   "language": "python",
   "name": "napari"
  },
  "language_info": {
   "codemirror_mode": {
    "name": "ipython",
    "version": 3
   },
   "file_extension": ".py",
   "mimetype": "text/x-python",
   "name": "python",
   "nbconvert_exporter": "python",
   "pygments_lexer": "ipython3",
   "version": "3.9.16"
  }
 },
 "nbformat": 4,
 "nbformat_minor": 5
}
