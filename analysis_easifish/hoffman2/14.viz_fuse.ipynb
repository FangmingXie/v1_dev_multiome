{
 "cells": [
  {
   "cell_type": "markdown",
   "id": "8c753145-1a59-480d-abb2-60f2fa3f416f",
   "metadata": {},
   "source": [
    "# Inputs\n",
    "---"
   ]
  },
  {
   "cell_type": "code",
   "execution_count": 1,
   "id": "2b6aeb01",
   "metadata": {},
   "outputs": [],
   "source": [
    "import numpy as np, zarr, nrrd\n",
    "# alignment functions\n",
    "from bigstream.align import alignment_pipeline\n",
    "from bigstream.transform import apply_transform\n",
    "import tifffile\n",
    "\n",
    "import seaborn as sns\n",
    "import matplotlib.pyplot as plt"
   ]
  },
  {
   "cell_type": "code",
   "execution_count": 2,
   "id": "f9e34109-0b59-441f-bb7a-2f75c90d30eb",
   "metadata": {
    "tags": []
   },
   "outputs": [],
   "source": [
    "p = '/u/home/f/f7xiesnm/project-zipursky/code/BigStitcher-Spark/lt172_r1_bigstitcher'\n",
    "outdir = '/u/home/f/f7xiesnm/project-zipursky/easifish/results/viz_fuse'\n",
    "!mkdir -p $outdir"
   ]
  },
  {
   "cell_type": "code",
   "execution_count": 72,
   "id": "5d71f6f4-5204-4d2d-8790-249b7b7b1fa3",
   "metadata": {},
   "outputs": [],
   "source": [
    "fix_path = p + '/dataset.n5'\n",
    "fix_out = outdir + '/lt172_raw.tiff'\n",
    "fix_zarr = zarr.open(store=zarr.N5Store(fix_path), mode='r')\n",
    "fix = fix_zarr['setup0/timepoint0/s0']"
   ]
  },
  {
   "cell_type": "code",
   "execution_count": 84,
   "id": "23e91a1f-8b16-4138-bbb1-6743fd71941c",
   "metadata": {
    "tags": []
   },
   "outputs": [],
   "source": [
    "fus_path = p + '/fused.n5'\n",
    "fus_out = outdir + '/lt172_c3_s3_fused.tiff'\n",
    "fus_zarr = zarr.open(store=zarr.N5Store(fus_path), mode='r')\n",
    "fus = fus_zarr['c3/s3']\n",
    "# fus = fus_zarr['/c0/s0'][::8,::8,::8]"
   ]
  },
  {
   "cell_type": "code",
   "execution_count": 85,
   "id": "67783886-0cc4-4a80-9da0-f7e77a65e5be",
   "metadata": {
    "tags": []
   },
   "outputs": [
    {
     "data": {
      "text/plain": [
       "((1485, 1920, 1920), (371, 456, 456))"
      ]
     },
     "execution_count": 85,
     "metadata": {},
     "output_type": "execute_result"
    }
   ],
   "source": [
    "fix.shape, fus.shape"
   ]
  },
  {
   "cell_type": "code",
   "execution_count": 97,
   "id": "968a5c30-39c6-4d7b-89a6-6f1a37fe3e20",
   "metadata": {
    "tags": []
   },
   "outputs": [],
   "source": [
    "a = fus[...]#.copy()\n",
    "a[0 , :, :] = 90\n",
    "a[-1, :, :] = 90\n",
    "a[: , 0, :] = 90\n",
    "a[: ,-1, :] = 90\n",
    "a[: , :, 0] = 90\n",
    "a[: , :,-1] = 90"
   ]
  },
  {
   "cell_type": "code",
   "execution_count": 87,
   "id": "99127cf3-c800-466e-a71e-713138a7ae94",
   "metadata": {
    "tags": []
   },
   "outputs": [
    {
     "data": {
      "text/plain": [
       "array([[15428,  8270,  8270, ...,  8271,  8270, 15428],\n",
       "       [ 8270,    90,    90, ...,    90,    90,  8271],\n",
       "       [ 8270,    89,    89, ...,    89,    90,  8271],\n",
       "       ...,\n",
       "       [ 8271,    89,    89, ...,    91,    90,  8271],\n",
       "       [ 8269,    89,    88, ...,    90,    90,  8270],\n",
       "       [15428,  8270,  8269, ...,  8270,  8270, 15429]], dtype=uint16)"
      ]
     },
     "execution_count": 87,
     "metadata": {},
     "output_type": "execute_result"
    }
   ],
   "source": [
    "fus[1,:,:]"
   ]
  },
  {
   "cell_type": "code",
   "execution_count": 95,
   "id": "6e55ea37-6da8-4afc-9157-84cde8514eba",
   "metadata": {
    "tags": []
   },
   "outputs": [
    {
     "data": {
      "text/plain": [
       "array([[15428,  8270,  8269, ...,  8270,  8270, 15429],\n",
       "       [ 8270,    90,    90, ...,    90,    90,  8271],\n",
       "       [ 8270,    90,    89, ...,    89,    90,  8271],\n",
       "       ...,\n",
       "       [ 8271,    89,    89, ...,    90,    90,  8271],\n",
       "       [ 8269,    88,    89, ...,    90,    90,  8270],\n",
       "       [15428,  8270,  8269, ...,  8271,  8270, 15429]], dtype=uint16)"
      ]
     },
     "execution_count": 95,
     "metadata": {},
     "output_type": "execute_result"
    }
   ],
   "source": [
    "fus[-5,:,:]"
   ]
  },
  {
   "cell_type": "code",
   "execution_count": null,
   "id": "b6978b34-dab9-4059-8bd4-08524b0accea",
   "metadata": {},
   "outputs": [],
   "source": []
  },
  {
   "cell_type": "code",
   "execution_count": 58,
   "id": "70808053-ae97-493a-99c5-4e0746b78785",
   "metadata": {
    "tags": []
   },
   "outputs": [],
   "source": [
    "from scipy.stats import mode"
   ]
  },
  {
   "cell_type": "code",
   "execution_count": 59,
   "id": "57241fd7-168a-4712-9f85-3c32bc986a84",
   "metadata": {
    "tags": []
   },
   "outputs": [
    {
     "data": {
      "text/plain": [
       "(86,\n",
       " 27955,\n",
       " ModeResult(mode=array([90], dtype=uint16), count=array([18584040])))"
      ]
     },
     "execution_count": 59,
     "metadata": {},
     "output_type": "execute_result"
    }
   ],
   "source": [
    "np.min(fus), np.max(fus), mode(fus, axis=None)"
   ]
  },
  {
   "cell_type": "code",
   "execution_count": 99,
   "id": "c833d9a1-1afe-4975-8f40-be5ef3ab10a2",
   "metadata": {
    "tags": []
   },
   "outputs": [
    {
     "data": {
      "text/plain": [
       "(86, 1273, ModeResult(mode=array([90], dtype=uint16), count=array([19596661])))"
      ]
     },
     "execution_count": 99,
     "metadata": {},
     "output_type": "execute_result"
    }
   ],
   "source": [
    "np.min(a), np.max(a), mode(a, axis=None)"
   ]
  },
  {
   "cell_type": "code",
   "execution_count": 60,
   "id": "4fd927f6-4244-4b13-923b-273d81e7932c",
   "metadata": {
    "tags": []
   },
   "outputs": [
    {
     "data": {
      "text/plain": [
       "(81, 764, ModeResult(mode=array([91], dtype=uint16), count=array([48572494])))"
      ]
     },
     "execution_count": 60,
     "metadata": {},
     "output_type": "execute_result"
    }
   ],
   "source": [
    "np.min(fix), np.max(fix), mode(fix, axis=None)"
   ]
  },
  {
   "cell_type": "code",
   "execution_count": 98,
   "id": "08dae79d-075b-4bd9-b12a-efb0389f2fd9",
   "metadata": {
    "tags": []
   },
   "outputs": [],
   "source": [
    "fus_out = outdir + '/lt172_c3_s3_fused.tiff'\n",
    "# fus = fus_zarr['c3/s3']\n",
    "tifffile.imwrite(fus_out, a)"
   ]
  },
  {
   "cell_type": "code",
   "execution_count": 63,
   "id": "11ddfc2a-96cf-411b-ae8b-dee7c9184b5c",
   "metadata": {
    "tags": []
   },
   "outputs": [],
   "source": [
    "fus_out = outdir + '/lt172_c0_s3_fused.tiff'\n",
    "fus = fus_zarr['c0/s3']\n",
    "tifffile.imwrite(fus_out, fus)"
   ]
  },
  {
   "cell_type": "code",
   "execution_count": null,
   "id": "bb978168-2f0b-43c6-b460-dd85a844e8de",
   "metadata": {},
   "outputs": [],
   "source": []
  }
 ],
 "metadata": {
  "kernelspec": {
   "display_name": "napari",
   "language": "python",
   "name": "napari"
  },
  "language_info": {
   "codemirror_mode": {
    "name": "ipython",
    "version": 3
   },
   "file_extension": ".py",
   "mimetype": "text/x-python",
   "name": "python",
   "nbconvert_exporter": "python",
   "pygments_lexer": "ipython3",
   "version": "3.9.16"
  }
 },
 "nbformat": 4,
 "nbformat_minor": 5
}
