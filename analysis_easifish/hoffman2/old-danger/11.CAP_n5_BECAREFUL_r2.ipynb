{
 "cells": [
  {
   "cell_type": "markdown",
   "id": "8c753145-1a59-480d-abb2-60f2fa3f416f",
   "metadata": {},
   "source": [
    "# cap c3\n",
    "- be very careful!!!!"
   ]
  },
  {
   "cell_type": "code",
   "execution_count": 1,
   "id": "2b6aeb01",
   "metadata": {},
   "outputs": [],
   "source": [
    "import numpy as np\n",
    "import zarr, nrrd\n",
    "# alignment functions\n",
    "from bigstream.align import alignment_pipeline\n",
    "from bigstream.transform import apply_transform\n",
    "import tifffile\n",
    "\n",
    "import seaborn as sns\n",
    "import matplotlib.pyplot as plt"
   ]
  },
  {
   "cell_type": "code",
   "execution_count": 2,
   "id": "f9e34109-0b59-441f-bb7a-2f75c90d30eb",
   "metadata": {
    "tags": []
   },
   "outputs": [],
   "source": [
    "p = '/u/home/f/f7xiesnm/project-zipursky/easifish/lt186/outputs/'\n",
    "outdir = '/u/home/f/f7xiesnm/project-zipursky/easifish/results/test_bigstream_n5cap'\n",
    "!mkdir -p $outdir"
   ]
  },
  {
   "cell_type": "code",
   "execution_count": 3,
   "id": "488bf9f9-05c4-4e5e-9785-a0f02e1471e0",
   "metadata": {
    "tags": []
   },
   "outputs": [],
   "source": [
    "def cap_img(zarr_handle, \n",
    "            c_src='c3_orig/s4', \n",
    "            c_dst='c3/s4', \n",
    "            pctl=99.9):\n",
    "    \"\"\"\n",
    "    \"\"\"\n",
    "    \n",
    "    a = zarr_handle[c_src]\n",
    "    print(np.max(a))\n",
    "    a = np.clip(a, None, np.percentile(a, pctl)).astype('uint16')\n",
    "    print(np.max(a))\n",
    "    zarr_handle[c_dst] = a\n",
    "    \n",
    "    return \n"
   ]
  },
  {
   "cell_type": "code",
   "execution_count": 10,
   "id": "daaa3d52-de46-4fe7-9ac2-c41ab04750ec",
   "metadata": {
    "tags": []
   },
   "outputs": [],
   "source": [
    "img_path = p + '/r2/stitching/export.n5'\n",
    "out_cap = outdir+'/r2c3s4_cap.tiff'\n",
    "out_org = outdir+'/r2c3s4_org.tiff'"
   ]
  },
  {
   "cell_type": "code",
   "execution_count": 5,
   "id": "b885c16e-e15c-4397-87d7-be891d379e1d",
   "metadata": {
    "tags": []
   },
   "outputs": [
    {
     "name": "stdout",
     "output_type": "stream",
     "text": [
      "attributes.json  c0  c1  c2  c3_orig  c4\n"
     ]
    }
   ],
   "source": [
    "!ls $img_path"
   ]
  },
  {
   "cell_type": "code",
   "execution_count": 6,
   "id": "b40a0f25-8997-475d-bc0b-e45a29e78e21",
   "metadata": {
    "tags": []
   },
   "outputs": [
    {
     "name": "stdout",
     "output_type": "stream",
     "text": [
      "CPU times: user 177 ms, sys: 53.7 ms, total: 231 ms\n",
      "Wall time: 30.3 s\n"
     ]
    }
   ],
   "source": [
    "%%time\n",
    "!mkdir -p $img_path/c3\n",
    "!cp -r $img_path/c3_orig/attributes.json $img_path/c3\n",
    "!cp -r $img_path/c3_orig/s3              $img_path/c3\n",
    "!cp -r $img_path/c3_orig/s4              $img_path/c3"
   ]
  },
  {
   "cell_type": "code",
   "execution_count": 7,
   "id": "5d71f6f4-5204-4d2d-8790-249b7b7b1fa3",
   "metadata": {},
   "outputs": [
    {
     "name": "stdout",
     "output_type": "stream",
     "text": [
      "47284\n",
      "239\n",
      "61437\n",
      "247\n",
      "CPU times: user 23.6 s, sys: 9.11 s, total: 32.7 s\n",
      "Wall time: 38.3 s\n"
     ]
    }
   ],
   "source": [
    "%%time\n",
    "\n",
    "zarr_handle = zarr.open(store=zarr.N5Store(img_path), mode='r+')\n",
    "\n",
    "cap_img(zarr_handle, c_src='c3_orig/s4', c_dst='c3/s4', pctl=99.9)\n",
    "cap_img(zarr_handle, c_src='c3_orig/s3', c_dst='c3/s3', pctl=99.9)"
   ]
  },
  {
   "cell_type": "code",
   "execution_count": 8,
   "id": "c56ca6c0-3945-43ad-93a6-73d2e2c710c2",
   "metadata": {},
   "outputs": [],
   "source": [
    "# test out"
   ]
  },
  {
   "cell_type": "code",
   "execution_count": 9,
   "id": "9c4e69f5-78c0-4144-8130-a3d7d5f25a06",
   "metadata": {
    "tags": []
   },
   "outputs": [
    {
     "data": {
      "text/plain": [
       "<zarr.core.Array '/c3/s4' (250, 459, 565) uint16 read-only>"
      ]
     },
     "execution_count": 9,
     "metadata": {},
     "output_type": "execute_result"
    }
   ],
   "source": [
    "zarr_handle = zarr.open(store=zarr.N5Store(img_path), mode='r')\n",
    "zarr_handle['c3/s4']"
   ]
  },
  {
   "cell_type": "code",
   "execution_count": 11,
   "id": "63ba53aa-fc92-4bfb-94bf-394259816fcb",
   "metadata": {
    "tags": []
   },
   "outputs": [],
   "source": [
    "tifffile.imwrite(out_cap, zarr_handle['c3/s4'][...])\n",
    "tifffile.imwrite(out_org, zarr_handle['c3_orig/s4'][...])"
   ]
  },
  {
   "cell_type": "code",
   "execution_count": null,
   "id": "23a664ee-ecdf-4fa6-bdc0-f13b0e5c7136",
   "metadata": {},
   "outputs": [],
   "source": []
  }
 ],
 "metadata": {
  "kernelspec": {
   "display_name": "napari",
   "language": "python",
   "name": "napari"
  },
  "language_info": {
   "codemirror_mode": {
    "name": "ipython",
    "version": 3
   },
   "file_extension": ".py",
   "mimetype": "text/x-python",
   "name": "python",
   "nbconvert_exporter": "python",
   "pygments_lexer": "ipython3",
   "version": "3.9.16"
  }
 },
 "nbformat": 4,
 "nbformat_minor": 5
}
