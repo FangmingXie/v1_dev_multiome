{
 "cells": [
  {
   "cell_type": "markdown",
   "id": "8c753145-1a59-480d-abb2-60f2fa3f416f",
   "metadata": {},
   "source": [
    "# Inputs\n",
    "---"
   ]
  },
  {
   "cell_type": "code",
   "execution_count": 2,
   "id": "2b6aeb01",
   "metadata": {},
   "outputs": [],
   "source": [
    "import numpy as np, zarr, nrrd\n",
    "# alignment functions\n",
    "from bigstream.align import alignment_pipeline\n",
    "from bigstream.transform import apply_transform\n",
    "import tifffile\n",
    "\n",
    "import seaborn as sns\n",
    "import matplotlib.pyplot as plt"
   ]
  },
  {
   "cell_type": "code",
   "execution_count": 3,
   "id": "70808053-ae97-493a-99c5-4e0746b78785",
   "metadata": {
    "tags": []
   },
   "outputs": [],
   "source": [
    "from scipy.stats import mode"
   ]
  },
  {
   "cell_type": "code",
   "execution_count": 4,
   "id": "f9e34109-0b59-441f-bb7a-2f75c90d30eb",
   "metadata": {
    "tags": []
   },
   "outputs": [],
   "source": [
    "p = '/u/home/f/f7xiesnm/project-zipursky/data/hold/lt186_r1_bs'\n",
    "outdir = '/u/home/f/f7xiesnm/project-zipursky/easifish/results/viz_fuse'\n",
    "!mkdir -p $outdir"
   ]
  },
  {
   "cell_type": "code",
   "execution_count": 5,
   "id": "23e91a1f-8b16-4138-bbb1-6743fd71941c",
   "metadata": {
    "tags": []
   },
   "outputs": [],
   "source": [
    "fus_path = p + '/export.n5'\n",
    "fus_zarr = zarr.open(store=zarr.N5Store(fus_path), mode='r')"
   ]
  },
  {
   "cell_type": "code",
   "execution_count": 6,
   "id": "11ddfc2a-96cf-411b-ae8b-dee7c9184b5c",
   "metadata": {
    "tags": []
   },
   "outputs": [
    {
     "name": "stdout",
     "output_type": "stream",
     "text": [
      "(341, 451, 563)\n"
     ]
    }
   ],
   "source": [
    "fus_out = outdir + '/lt186_c3_s4_fused.tiff'\n",
    "fus = fus_zarr['c3/s4']\n",
    "print(fus.shape)\n",
    "tifffile.imwrite(fus_out, fus)"
   ]
  },
  {
   "cell_type": "code",
   "execution_count": 7,
   "id": "38eedde1-285f-45c1-afe1-2896af34276d",
   "metadata": {},
   "outputs": [
    {
     "name": "stdout",
     "output_type": "stream",
     "text": [
      "(341, 451, 563)\n"
     ]
    }
   ],
   "source": [
    "fus_out = outdir + '/lt186_c0_s4_fused.tiff'\n",
    "fus = fus_zarr['c0/s4']\n",
    "print(fus.shape)\n",
    "tifffile.imwrite(fus_out, fus)"
   ]
  },
  {
   "cell_type": "code",
   "execution_count": 8,
   "id": "3f38dd67-6cfa-4111-a8e6-71ff1e20aa40",
   "metadata": {},
   "outputs": [
    {
     "name": "stdout",
     "output_type": "stream",
     "text": [
      "(341, 451, 563)\n"
     ]
    }
   ],
   "source": [
    "fus_out = outdir + '/lt186_c2_s4_fused.tiff'\n",
    "fus = fus_zarr['c2/s4']\n",
    "print(fus.shape)\n",
    "tifffile.imwrite(fus_out, fus)"
   ]
  },
  {
   "cell_type": "code",
   "execution_count": null,
   "id": "bb978168-2f0b-43c6-b460-dd85a844e8de",
   "metadata": {},
   "outputs": [],
   "source": []
  }
 ],
 "metadata": {
  "kernelspec": {
   "display_name": "napari",
   "language": "python",
   "name": "napari"
  },
  "language_info": {
   "codemirror_mode": {
    "name": "ipython",
    "version": 3
   },
   "file_extension": ".py",
   "mimetype": "text/x-python",
   "name": "python",
   "nbconvert_exporter": "python",
   "pygments_lexer": "ipython3",
   "version": "3.9.16"
  }
 },
 "nbformat": 4,
 "nbformat_minor": 5
}
